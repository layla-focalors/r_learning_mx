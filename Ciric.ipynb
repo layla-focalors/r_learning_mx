{
 "cells": [
  {
   "cell_type": "code",
   "execution_count": 1,
   "id": "44356a8a",
   "metadata": {},
   "outputs": [
    {
     "data": {
      "text/html": [
       "<table class=\"dataframe\">\n",
       "<caption>A data.frame: 50 × 2</caption>\n",
       "<thead>\n",
       "\t<tr><th scope=col>speed</th><th scope=col>dist</th></tr>\n",
       "\t<tr><th scope=col>&lt;dbl&gt;</th><th scope=col>&lt;dbl&gt;</th></tr>\n",
       "</thead>\n",
       "<tbody>\n",
       "\t<tr><td> 4</td><td>  2</td></tr>\n",
       "\t<tr><td> 4</td><td> 10</td></tr>\n",
       "\t<tr><td> 7</td><td>  4</td></tr>\n",
       "\t<tr><td> 7</td><td> 22</td></tr>\n",
       "\t<tr><td> 8</td><td> 16</td></tr>\n",
       "\t<tr><td> 9</td><td> 10</td></tr>\n",
       "\t<tr><td>10</td><td> 18</td></tr>\n",
       "\t<tr><td>10</td><td> 26</td></tr>\n",
       "\t<tr><td>10</td><td> 34</td></tr>\n",
       "\t<tr><td>11</td><td> 17</td></tr>\n",
       "\t<tr><td>11</td><td> 28</td></tr>\n",
       "\t<tr><td>12</td><td> 14</td></tr>\n",
       "\t<tr><td>12</td><td> 20</td></tr>\n",
       "\t<tr><td>12</td><td> 24</td></tr>\n",
       "\t<tr><td>12</td><td> 28</td></tr>\n",
       "\t<tr><td>13</td><td> 26</td></tr>\n",
       "\t<tr><td>13</td><td> 34</td></tr>\n",
       "\t<tr><td>13</td><td> 34</td></tr>\n",
       "\t<tr><td>13</td><td> 46</td></tr>\n",
       "\t<tr><td>14</td><td> 26</td></tr>\n",
       "\t<tr><td>14</td><td> 36</td></tr>\n",
       "\t<tr><td>14</td><td> 60</td></tr>\n",
       "\t<tr><td>14</td><td> 80</td></tr>\n",
       "\t<tr><td>15</td><td> 20</td></tr>\n",
       "\t<tr><td>15</td><td> 26</td></tr>\n",
       "\t<tr><td>15</td><td> 54</td></tr>\n",
       "\t<tr><td>16</td><td> 32</td></tr>\n",
       "\t<tr><td>16</td><td> 40</td></tr>\n",
       "\t<tr><td>17</td><td> 32</td></tr>\n",
       "\t<tr><td>17</td><td> 40</td></tr>\n",
       "\t<tr><td>17</td><td> 50</td></tr>\n",
       "\t<tr><td>18</td><td> 42</td></tr>\n",
       "\t<tr><td>18</td><td> 56</td></tr>\n",
       "\t<tr><td>18</td><td> 76</td></tr>\n",
       "\t<tr><td>18</td><td> 84</td></tr>\n",
       "\t<tr><td>19</td><td> 36</td></tr>\n",
       "\t<tr><td>19</td><td> 46</td></tr>\n",
       "\t<tr><td>19</td><td> 68</td></tr>\n",
       "\t<tr><td>20</td><td> 32</td></tr>\n",
       "\t<tr><td>20</td><td> 48</td></tr>\n",
       "\t<tr><td>20</td><td> 52</td></tr>\n",
       "\t<tr><td>20</td><td> 56</td></tr>\n",
       "\t<tr><td>20</td><td> 64</td></tr>\n",
       "\t<tr><td>22</td><td> 66</td></tr>\n",
       "\t<tr><td>23</td><td> 54</td></tr>\n",
       "\t<tr><td>24</td><td> 70</td></tr>\n",
       "\t<tr><td>24</td><td> 92</td></tr>\n",
       "\t<tr><td>24</td><td> 93</td></tr>\n",
       "\t<tr><td>24</td><td>120</td></tr>\n",
       "\t<tr><td>25</td><td> 85</td></tr>\n",
       "</tbody>\n",
       "</table>\n"
      ],
      "text/latex": [
       "A data.frame: 50 × 2\n",
       "\\begin{tabular}{ll}\n",
       " speed & dist\\\\\n",
       " <dbl> & <dbl>\\\\\n",
       "\\hline\n",
       "\t  4 &   2\\\\\n",
       "\t  4 &  10\\\\\n",
       "\t  7 &   4\\\\\n",
       "\t  7 &  22\\\\\n",
       "\t  8 &  16\\\\\n",
       "\t  9 &  10\\\\\n",
       "\t 10 &  18\\\\\n",
       "\t 10 &  26\\\\\n",
       "\t 10 &  34\\\\\n",
       "\t 11 &  17\\\\\n",
       "\t 11 &  28\\\\\n",
       "\t 12 &  14\\\\\n",
       "\t 12 &  20\\\\\n",
       "\t 12 &  24\\\\\n",
       "\t 12 &  28\\\\\n",
       "\t 13 &  26\\\\\n",
       "\t 13 &  34\\\\\n",
       "\t 13 &  34\\\\\n",
       "\t 13 &  46\\\\\n",
       "\t 14 &  26\\\\\n",
       "\t 14 &  36\\\\\n",
       "\t 14 &  60\\\\\n",
       "\t 14 &  80\\\\\n",
       "\t 15 &  20\\\\\n",
       "\t 15 &  26\\\\\n",
       "\t 15 &  54\\\\\n",
       "\t 16 &  32\\\\\n",
       "\t 16 &  40\\\\\n",
       "\t 17 &  32\\\\\n",
       "\t 17 &  40\\\\\n",
       "\t 17 &  50\\\\\n",
       "\t 18 &  42\\\\\n",
       "\t 18 &  56\\\\\n",
       "\t 18 &  76\\\\\n",
       "\t 18 &  84\\\\\n",
       "\t 19 &  36\\\\\n",
       "\t 19 &  46\\\\\n",
       "\t 19 &  68\\\\\n",
       "\t 20 &  32\\\\\n",
       "\t 20 &  48\\\\\n",
       "\t 20 &  52\\\\\n",
       "\t 20 &  56\\\\\n",
       "\t 20 &  64\\\\\n",
       "\t 22 &  66\\\\\n",
       "\t 23 &  54\\\\\n",
       "\t 24 &  70\\\\\n",
       "\t 24 &  92\\\\\n",
       "\t 24 &  93\\\\\n",
       "\t 24 & 120\\\\\n",
       "\t 25 &  85\\\\\n",
       "\\end{tabular}\n"
      ],
      "text/markdown": [
       "\n",
       "A data.frame: 50 × 2\n",
       "\n",
       "| speed &lt;dbl&gt; | dist &lt;dbl&gt; |\n",
       "|---|---|\n",
       "|  4 |   2 |\n",
       "|  4 |  10 |\n",
       "|  7 |   4 |\n",
       "|  7 |  22 |\n",
       "|  8 |  16 |\n",
       "|  9 |  10 |\n",
       "| 10 |  18 |\n",
       "| 10 |  26 |\n",
       "| 10 |  34 |\n",
       "| 11 |  17 |\n",
       "| 11 |  28 |\n",
       "| 12 |  14 |\n",
       "| 12 |  20 |\n",
       "| 12 |  24 |\n",
       "| 12 |  28 |\n",
       "| 13 |  26 |\n",
       "| 13 |  34 |\n",
       "| 13 |  34 |\n",
       "| 13 |  46 |\n",
       "| 14 |  26 |\n",
       "| 14 |  36 |\n",
       "| 14 |  60 |\n",
       "| 14 |  80 |\n",
       "| 15 |  20 |\n",
       "| 15 |  26 |\n",
       "| 15 |  54 |\n",
       "| 16 |  32 |\n",
       "| 16 |  40 |\n",
       "| 17 |  32 |\n",
       "| 17 |  40 |\n",
       "| 17 |  50 |\n",
       "| 18 |  42 |\n",
       "| 18 |  56 |\n",
       "| 18 |  76 |\n",
       "| 18 |  84 |\n",
       "| 19 |  36 |\n",
       "| 19 |  46 |\n",
       "| 19 |  68 |\n",
       "| 20 |  32 |\n",
       "| 20 |  48 |\n",
       "| 20 |  52 |\n",
       "| 20 |  56 |\n",
       "| 20 |  64 |\n",
       "| 22 |  66 |\n",
       "| 23 |  54 |\n",
       "| 24 |  70 |\n",
       "| 24 |  92 |\n",
       "| 24 |  93 |\n",
       "| 24 | 120 |\n",
       "| 25 |  85 |\n",
       "\n"
      ],
      "text/plain": [
       "   speed dist\n",
       "1   4      2 \n",
       "2   4     10 \n",
       "3   7      4 \n",
       "4   7     22 \n",
       "5   8     16 \n",
       "6   9     10 \n",
       "7  10     18 \n",
       "8  10     26 \n",
       "9  10     34 \n",
       "10 11     17 \n",
       "11 11     28 \n",
       "12 12     14 \n",
       "13 12     20 \n",
       "14 12     24 \n",
       "15 12     28 \n",
       "16 13     26 \n",
       "17 13     34 \n",
       "18 13     34 \n",
       "19 13     46 \n",
       "20 14     26 \n",
       "21 14     36 \n",
       "22 14     60 \n",
       "23 14     80 \n",
       "24 15     20 \n",
       "25 15     26 \n",
       "26 15     54 \n",
       "27 16     32 \n",
       "28 16     40 \n",
       "29 17     32 \n",
       "30 17     40 \n",
       "31 17     50 \n",
       "32 18     42 \n",
       "33 18     56 \n",
       "34 18     76 \n",
       "35 18     84 \n",
       "36 19     36 \n",
       "37 19     46 \n",
       "38 19     68 \n",
       "39 20     32 \n",
       "40 20     48 \n",
       "41 20     52 \n",
       "42 20     56 \n",
       "43 20     64 \n",
       "44 22     66 \n",
       "45 23     54 \n",
       "46 24     70 \n",
       "47 24     92 \n",
       "48 24     93 \n",
       "49 24    120 \n",
       "50 25     85 "
      ]
     },
     "metadata": {},
     "output_type": "display_data"
    }
   ],
   "source": [
    "cars"
   ]
  },
  {
   "cell_type": "code",
   "execution_count": 2,
   "id": "f3a8bd7a",
   "metadata": {},
   "outputs": [
    {
     "data": {
      "text/html": [
       "<style>\n",
       ".list-inline {list-style: none; margin:0; padding: 0}\n",
       ".list-inline>li {display: inline-block}\n",
       ".list-inline>li:not(:last-child)::after {content: \"\\00b7\"; padding: 0 .5ex}\n",
       "</style>\n",
       "<ol class=list-inline><li>'speed'</li><li>'dist'</li></ol>\n"
      ],
      "text/latex": [
       "\\begin{enumerate*}\n",
       "\\item 'speed'\n",
       "\\item 'dist'\n",
       "\\end{enumerate*}\n"
      ],
      "text/markdown": [
       "1. 'speed'\n",
       "2. 'dist'\n",
       "\n",
       "\n"
      ],
      "text/plain": [
       "[1] \"speed\" \"dist\" "
      ]
     },
     "metadata": {},
     "output_type": "display_data"
    }
   ],
   "source": [
    "colnames(cars)"
   ]
  },
  {
   "cell_type": "code",
   "execution_count": 3,
   "id": "49a4b6d5",
   "metadata": {},
   "outputs": [],
   "source": [
    "speed = cars$speed\n",
    "dist = cars$dist"
   ]
  },
  {
   "cell_type": "code",
   "execution_count": 7,
   "id": "9672ec8f",
   "metadata": {},
   "outputs": [
    {
     "data": {
      "image/png": "[encoded data removed]",
      "text/plain": [
       "plot without title"
      ]
     },
     "metadata": {
      "image/png": {
       "height": 420,
       "width": 420
      }
     },
     "output_type": "display_data"
    }
   ],
   "source": [
    "plot(speed,dist)\n",
    "lm.res = lm(dist~speed)\n",
    "abline(lm.res)"
   ]
  },
  {
   "cell_type": "code",
   "execution_count": 8,
   "id": "1b64846c",
   "metadata": {},
   "outputs": [
    {
     "data": {
      "text/plain": [
       "\n",
       "Call:\n",
       "lm(formula = dist ~ speed)\n",
       "\n",
       "Residuals:\n",
       "    Min      1Q  Median      3Q     Max \n",
       "-29.069  -9.525  -2.272   9.215  43.201 \n",
       "\n",
       "Coefficients:\n",
       "            Estimate Std. Error t value Pr(>|t|)    \n",
       "(Intercept) -17.5791     6.7584  -2.601   0.0123 *  \n",
       "speed         3.9324     0.4155   9.464 1.49e-12 ***\n",
       "---\n",
       "Signif. codes:  0 '***' 0.001 '**' 0.01 '*' 0.05 '.' 0.1 ' ' 1\n",
       "\n",
       "Residual standard error: 15.38 on 48 degrees of freedom\n",
       "Multiple R-squared:  0.6511,\tAdjusted R-squared:  0.6438 \n",
       "F-statistic: 89.57 on 1 and 48 DF,  p-value: 1.49e-12\n"
      ]
     },
     "metadata": {},
     "output_type": "display_data"
    }
   ],
   "source": [
    "summary(lm.res)"
   ]
  },
  {
   "cell_type": "code",
   "execution_count": 9,
   "id": "e3c0e08f",
   "metadata": {},
   "outputs": [
    {
     "data": {
      "text/html": [
       "<strong>1:</strong> 21.74499270073"
      ],
      "text/latex": [
       "\\textbf{1:} 21.74499270073"
      ],
      "text/markdown": [
       "**1:** 21.74499270073"
      ],
      "text/plain": [
       "       1 \n",
       "21.74499 "
      ]
     },
     "metadata": {},
     "output_type": "display_data"
    }
   ],
   "source": [
    "predict(lm.res, newdata = data.frame(speed = 10))"
   ]
  },
  {
   "cell_type": "code",
   "execution_count": 10,
   "id": "0e085ba3",
   "metadata": {},
   "outputs": [
    {
     "data": {
      "text/html": [
       "21.7449"
      ],
      "text/latex": [
       "21.7449"
      ],
      "text/markdown": [
       "21.7449"
      ],
      "text/plain": [
       "[1] 21.7449"
      ]
     },
     "metadata": {},
     "output_type": "display_data"
    }
   ],
   "source": [
    "-17.5791 + 3.9324 * 10"
   ]
  },
  {
   "cell_type": "code",
   "execution_count": 12,
   "id": "a8c57ad6",
   "metadata": {},
   "outputs": [
    {
     "data": {
      "text/plain": [
       "speed\n",
       " 4  7  8  9 10 11 12 13 14 15 16 17 18 19 20 22 23 24 25 \n",
       " 2  2  1  1  3  2  4  4  4  3  2  3  4  3  5  1  1  4  1 "
      ]
     },
     "metadata": {},
     "output_type": "display_data"
    }
   ],
   "source": [
    "table(speed)"
   ]
  },
  {
   "cell_type": "code",
   "execution_count": 11,
   "id": "db23b640",
   "metadata": {},
   "outputs": [
    {
     "data": {
      "text/plain": [
       "speed\n",
       "   4    7    8    9   10   11   12   13   14   15   16   17   18   19   20   22 \n",
       "0.04 0.04 0.02 0.02 0.06 0.04 0.08 0.08 0.08 0.06 0.04 0.06 0.08 0.06 0.10 0.02 \n",
       "  23   24   25 \n",
       "0.02 0.08 0.02 "
      ]
     },
     "metadata": {},
     "output_type": "display_data"
    }
   ],
   "source": [
    "prop.table(table(speed))"
   ]
  },
  {
   "cell_type": "code",
   "execution_count": 13,
   "id": "9ea817c7",
   "metadata": {},
   "outputs": [
    {
     "data": {
      "text/html": [
       "<style>\n",
       ".dl-inline {width: auto; margin:0; padding: 0}\n",
       ".dl-inline>dt, .dl-inline>dd {float: none; width: auto; display: inline-block}\n",
       ".dl-inline>dt::after {content: \":\\0020\"; padding-right: .5ex}\n",
       ".dl-inline>dt:not(:first-of-type) {padding-left: .5ex}\n",
       "</style><dl class=dl-inline><dt>4</dt><dd>2</dd><dt>7</dt><dd>4</dd><dt>8</dt><dd>5</dd><dt>9</dt><dd>6</dd><dt>10</dt><dd>9</dd><dt>11</dt><dd>11</dd><dt>12</dt><dd>15</dd><dt>13</dt><dd>19</dd><dt>14</dt><dd>23</dd><dt>15</dt><dd>26</dd><dt>16</dt><dd>28</dd><dt>17</dt><dd>31</dd><dt>18</dt><dd>35</dd><dt>19</dt><dd>38</dd><dt>20</dt><dd>43</dd><dt>22</dt><dd>44</dd><dt>23</dt><dd>45</dd><dt>24</dt><dd>49</dd><dt>25</dt><dd>50</dd></dl>\n"
      ],
      "text/latex": [
       "\\begin{description*}\n",
       "\\item[4] 2\n",
       "\\item[7] 4\n",
       "\\item[8] 5\n",
       "\\item[9] 6\n",
       "\\item[10] 9\n",
       "\\item[11] 11\n",
       "\\item[12] 15\n",
       "\\item[13] 19\n",
       "\\item[14] 23\n",
       "\\item[15] 26\n",
       "\\item[16] 28\n",
       "\\item[17] 31\n",
       "\\item[18] 35\n",
       "\\item[19] 38\n",
       "\\item[20] 43\n",
       "\\item[22] 44\n",
       "\\item[23] 45\n",
       "\\item[24] 49\n",
       "\\item[25] 50\n",
       "\\end{description*}\n"
      ],
      "text/markdown": [
       "4\n",
       ":   27\n",
       ":   48\n",
       ":   59\n",
       ":   610\n",
       ":   911\n",
       ":   1112\n",
       ":   1513\n",
       ":   1914\n",
       ":   2315\n",
       ":   2616\n",
       ":   2817\n",
       ":   3118\n",
       ":   3519\n",
       ":   3820\n",
       ":   4322\n",
       ":   4423\n",
       ":   4524\n",
       ":   4925\n",
       ":   50\n",
       "\n"
      ],
      "text/plain": [
       " 4  7  8  9 10 11 12 13 14 15 16 17 18 19 20 22 23 24 25 \n",
       " 2  4  5  6  9 11 15 19 23 26 28 31 35 38 43 44 45 49 50 "
      ]
     },
     "metadata": {},
     "output_type": "display_data"
    }
   ],
   "source": [
    "cumsum(table(speed))"
   ]
  },
  {
   "cell_type": "code",
   "execution_count": 15,
   "id": "5e699c93",
   "metadata": {},
   "outputs": [
    {
     "data": {
      "text/html": [
       "<table class=\"dataframe\">\n",
       "<caption>A data.frame: 6 × 2</caption>\n",
       "<thead>\n",
       "\t<tr><th></th><th scope=col>speed</th><th scope=col>dist</th></tr>\n",
       "\t<tr><th></th><th scope=col>&lt;dbl&gt;</th><th scope=col>&lt;dbl&gt;</th></tr>\n",
       "</thead>\n",
       "<tbody>\n",
       "\t<tr><th scope=row>1</th><td>4</td><td> 2</td></tr>\n",
       "\t<tr><th scope=row>2</th><td>4</td><td>10</td></tr>\n",
       "\t<tr><th scope=row>3</th><td>7</td><td> 4</td></tr>\n",
       "\t<tr><th scope=row>4</th><td>7</td><td>22</td></tr>\n",
       "\t<tr><th scope=row>5</th><td>8</td><td>16</td></tr>\n",
       "\t<tr><th scope=row>6</th><td>9</td><td>10</td></tr>\n",
       "</tbody>\n",
       "</table>\n"
      ],
      "text/latex": [
       "A data.frame: 6 × 2\n",
       "\\begin{tabular}{r|ll}\n",
       "  & speed & dist\\\\\n",
       "  & <dbl> & <dbl>\\\\\n",
       "\\hline\n",
       "\t1 & 4 &  2\\\\\n",
       "\t2 & 4 & 10\\\\\n",
       "\t3 & 7 &  4\\\\\n",
       "\t4 & 7 & 22\\\\\n",
       "\t5 & 8 & 16\\\\\n",
       "\t6 & 9 & 10\\\\\n",
       "\\end{tabular}\n"
      ],
      "text/markdown": [
       "\n",
       "A data.frame: 6 × 2\n",
       "\n",
       "| <!--/--> | speed &lt;dbl&gt; | dist &lt;dbl&gt; |\n",
       "|---|---|---|\n",
       "| 1 | 4 |  2 |\n",
       "| 2 | 4 | 10 |\n",
       "| 3 | 7 |  4 |\n",
       "| 4 | 7 | 22 |\n",
       "| 5 | 8 | 16 |\n",
       "| 6 | 9 | 10 |\n",
       "\n"
      ],
      "text/plain": [
       "  speed dist\n",
       "1 4      2  \n",
       "2 4     10  \n",
       "3 7      4  \n",
       "4 7     22  \n",
       "5 8     16  \n",
       "6 9     10  "
      ]
     },
     "metadata": {},
     "output_type": "display_data"
    }
   ],
   "source": [
    "head(cars)"
   ]
  },
  {
   "cell_type": "code",
   "execution_count": 16,
   "id": "8704293d",
   "metadata": {},
   "outputs": [],
   "source": [
    "dist = cars$dist\n",
    "speed = cars$speed"
   ]
  },
  {
   "cell_type": "code",
   "execution_count": 17,
   "id": "3e5d3745",
   "metadata": {},
   "outputs": [
    {
     "data": {
      "text/html": [
       "<style>\n",
       ".list-inline {list-style: none; margin:0; padding: 0}\n",
       ".list-inline>li {display: inline-block}\n",
       ".list-inline>li:not(:last-child)::after {content: \"\\00b7\"; padding: 0 .5ex}\n",
       "</style>\n",
       "<ol class=list-inline><li>2</li><li>10</li><li>4</li><li>22</li><li>16</li><li>10</li><li>18</li><li>26</li><li>34</li><li>17</li><li>28</li><li>14</li><li>20</li><li>24</li><li>28</li><li>26</li><li>34</li><li>34</li><li>46</li><li>26</li><li>36</li><li>60</li><li>80</li><li>20</li><li>26</li><li>54</li><li>32</li><li>40</li><li>32</li><li>40</li><li>50</li><li>42</li><li>56</li><li>76</li><li>84</li><li>36</li><li>46</li><li>68</li><li>32</li><li>48</li><li>52</li><li>56</li><li>64</li><li>66</li><li>54</li><li>70</li><li>92</li><li>93</li><li>120</li><li>85</li></ol>\n"
      ],
      "text/latex": [
       "\\begin{enumerate*}\n",
       "\\item 2\n",
       "\\item 10\n",
       "\\item 4\n",
       "\\item 22\n",
       "\\item 16\n",
       "\\item 10\n",
       "\\item 18\n",
       "\\item 26\n",
       "\\item 34\n",
       "\\item 17\n",
       "\\item 28\n",
       "\\item 14\n",
       "\\item 20\n",
       "\\item 24\n",
       "\\item 28\n",
       "\\item 26\n",
       "\\item 34\n",
       "\\item 34\n",
       "\\item 46\n",
       "\\item 26\n",
       "\\item 36\n",
       "\\item 60\n",
       "\\item 80\n",
       "\\item 20\n",
       "\\item 26\n",
       "\\item 54\n",
       "\\item 32\n",
       "\\item 40\n",
       "\\item 32\n",
       "\\item 40\n",
       "\\item 50\n",
       "\\item 42\n",
       "\\item 56\n",
       "\\item 76\n",
       "\\item 84\n",
       "\\item 36\n",
       "\\item 46\n",
       "\\item 68\n",
       "\\item 32\n",
       "\\item 48\n",
       "\\item 52\n",
       "\\item 56\n",
       "\\item 64\n",
       "\\item 66\n",
       "\\item 54\n",
       "\\item 70\n",
       "\\item 92\n",
       "\\item 93\n",
       "\\item 120\n",
       "\\item 85\n",
       "\\end{enumerate*}\n"
      ],
      "text/markdown": [
       "1. 2\n",
       "2. 10\n",
       "3. 4\n",
       "4. 22\n",
       "5. 16\n",
       "6. 10\n",
       "7. 18\n",
       "8. 26\n",
       "9. 34\n",
       "10. 17\n",
       "11. 28\n",
       "12. 14\n",
       "13. 20\n",
       "14. 24\n",
       "15. 28\n",
       "16. 26\n",
       "17. 34\n",
       "18. 34\n",
       "19. 46\n",
       "20. 26\n",
       "21. 36\n",
       "22. 60\n",
       "23. 80\n",
       "24. 20\n",
       "25. 26\n",
       "26. 54\n",
       "27. 32\n",
       "28. 40\n",
       "29. 32\n",
       "30. 40\n",
       "31. 50\n",
       "32. 42\n",
       "33. 56\n",
       "34. 76\n",
       "35. 84\n",
       "36. 36\n",
       "37. 46\n",
       "38. 68\n",
       "39. 32\n",
       "40. 48\n",
       "41. 52\n",
       "42. 56\n",
       "43. 64\n",
       "44. 66\n",
       "45. 54\n",
       "46. 70\n",
       "47. 92\n",
       "48. 93\n",
       "49. 120\n",
       "50. 85\n",
       "\n",
       "\n"
      ],
      "text/plain": [
       " [1]   2  10   4  22  16  10  18  26  34  17  28  14  20  24  28  26  34  34  46\n",
       "[20]  26  36  60  80  20  26  54  32  40  32  40  50  42  56  76  84  36  46  68\n",
       "[39]  32  48  52  56  64  66  54  70  92  93 120  85"
      ]
     },
     "metadata": {},
     "output_type": "display_data"
    }
   ],
   "source": [
    "dist"
   ]
  },
  {
   "cell_type": "code",
   "execution_count": 21,
   "id": "c969961e",
   "metadata": {},
   "outputs": [
    {
     "data": {
      "image/png": "[encoded data removed]",
      "text/plain": [
       "Plot with title \"Histogram for 제동거리\""
      ]
     },
     "metadata": {
      "image/png": {
       "height": 420,
       "width": 420
      }
     },
     "output_type": "display_data"
    }
   ],
   "source": [
    "hist(dist,\n",
    "    las = 1,\n",
    "    main  = 'Histogram for 제동거리',\n",
    "    xlab = '제동거리',\n",
    "    ylab = '빈도수',\n",
    "    border = 'white',\n",
    "    breaks = 5)"
   ]
  },
  {
   "cell_type": "code",
   "execution_count": null,
   "id": "50557670",
   "metadata": {},
   "outputs": [],
   "source": []
  }
 ],
 "metadata": {
  "kernelspec": {
   "display_name": "R",
   "language": "R",
   "name": "ir"
  },
  "language_info": {
   "codemirror_mode": "r",
   "file_extension": ".r",
   "mimetype": "text/x-r-source",
   "name": "R",
   "pygments_lexer": "r",
   "version": "4.3.1"
  }
 },
 "nbformat": 4,
 "nbformat_minor": 5
}
