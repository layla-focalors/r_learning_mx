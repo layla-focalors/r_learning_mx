{
 "cells": [
  {
   "cell_type": "code",
   "execution_count": 1,
   "id": "f442ad71",
   "metadata": {},
   "outputs": [],
   "source": [
    "mod = lm(pressure~temperature, data = pressure)"
   ]
  },
  {
   "cell_type": "code",
   "execution_count": 2,
   "id": "5ab810a4",
   "metadata": {},
   "outputs": [
    {
     "data": {
      "text/plain": [
       "\n",
       "Call:\n",
       "lm(formula = pressure ~ temperature, data = pressure)\n",
       "\n",
       "Coefficients:\n",
       "(Intercept)  temperature  \n",
       "   -147.899        1.512  \n"
      ]
     },
     "metadata": {},
     "output_type": "display_data"
    }
   ],
   "source": [
    "mod"
   ]
  },
  {
   "cell_type": "code",
   "execution_count": 3,
   "id": "ca478967",
   "metadata": {},
   "outputs": [
    {
     "data": {
      "text/plain": [
       "\n",
       "Call:\n",
       "lm(formula = pressure ~ temperature, data = pressure)\n",
       "\n",
       "Residuals:\n",
       "    Min      1Q  Median      3Q     Max \n",
       "-158.08 -117.06  -32.84   72.30  409.43 \n",
       "\n",
       "Coefficients:\n",
       "             Estimate Std. Error t value Pr(>|t|)    \n",
       "(Intercept) -147.8989    66.5529  -2.222 0.040124 *  \n",
       "temperature    1.5124     0.3158   4.788 0.000171 ***\n",
       "---\n",
       "Signif. codes:  0 '***' 0.001 '**' 0.01 '*' 0.05 '.' 0.1 ' ' 1\n",
       "\n",
       "Residual standard error: 150.8 on 17 degrees of freedom\n",
       "Multiple R-squared:  0.5742,\tAdjusted R-squared:  0.5492 \n",
       "F-statistic: 22.93 on 1 and 17 DF,  p-value: 0.000171\n"
      ]
     },
     "metadata": {},
     "output_type": "display_data"
    }
   ],
   "source": [
    "summary(mod)"
   ]
  },
  {
   "cell_type": "code",
   "execution_count": 4,
   "id": "f9fd4cf7",
   "metadata": {},
   "outputs": [
    {
     "data": {
      "text/html": [
       "<strong>1:</strong> -49.591580614035"
      ],
      "text/latex": [
       "\\textbf{1:} -49.591580614035"
      ],
      "text/markdown": [
       "**1:** -49.591580614035"
      ],
      "text/plain": [
       "        1 \n",
       "-49.59158 "
      ]
     },
     "metadata": {},
     "output_type": "display_data"
    }
   ],
   "source": [
    "predict(mod, newdata = data.frame(temperature = 65))"
   ]
  },
  {
   "cell_type": "code",
   "execution_count": 5,
   "id": "c9bef8bc",
   "metadata": {},
   "outputs": [
    {
     "data": {
      "text/html": [
       "-49.5929"
      ],
      "text/latex": [
       "-49.5929"
      ],
      "text/markdown": [
       "-49.5929"
      ],
      "text/plain": [
       "[1] -49.5929"
      ]
     },
     "metadata": {},
     "output_type": "display_data"
    }
   ],
   "source": [
    "-147.8989 + 1.5124 * 65"
   ]
  },
  {
   "cell_type": "code",
   "execution_count": 6,
   "id": "cdcba7a0",
   "metadata": {},
   "outputs": [
    {
     "data": {
      "text/html": [
       "<strong>1:</strong> -4.21898429824557"
      ],
      "text/latex": [
       "\\textbf{1:} -4.21898429824557"
      ],
      "text/markdown": [
       "**1:** -4.21898429824557"
      ],
      "text/plain": [
       "        1 \n",
       "-4.218984 "
      ]
     },
     "metadata": {},
     "output_type": "display_data"
    }
   ],
   "source": [
    "predict(mod, newdata = data.frame(temperature = 95))"
   ]
  },
  {
   "cell_type": "code",
   "execution_count": 7,
   "id": "2e774612",
   "metadata": {},
   "outputs": [
    {
     "data": {
      "text/html": [
       "-4.2209"
      ],
      "text/latex": [
       "-4.2209"
      ],
      "text/markdown": [
       "-4.2209"
      ],
      "text/plain": [
       "[1] -4.2209"
      ]
     },
     "metadata": {},
     "output_type": "display_data"
    }
   ],
   "source": [
    "-147.8989 + 1.5124 * 95"
   ]
  },
  {
   "cell_type": "code",
   "execution_count": 8,
   "id": "229ce646",
   "metadata": {},
   "outputs": [
    {
     "data": {
      "text/html": [
       "<strong>1:</strong> 86.5262083333334"
      ],
      "text/latex": [
       "\\textbf{1:} 86.5262083333334"
      ],
      "text/markdown": [
       "**1:** 86.5262083333334"
      ],
      "text/plain": [
       "       1 \n",
       "86.52621 "
      ]
     },
     "metadata": {},
     "output_type": "display_data"
    }
   ],
   "source": [
    "predict(mod, newdata = data.frame(temperature = 155))"
   ]
  },
  {
   "cell_type": "code",
   "execution_count": 9,
   "id": "75ee6921",
   "metadata": {},
   "outputs": [
    {
     "data": {
      "text/html": [
       "86.5231"
      ],
      "text/latex": [
       "86.5231"
      ],
      "text/markdown": [
       "86.5231"
      ],
      "text/plain": [
       "[1] 86.5231"
      ]
     },
     "metadata": {},
     "output_type": "display_data"
    }
   ],
   "source": [
    "-147.8989 + 1.5124 * 155"
   ]
  },
  {
   "cell_type": "code",
   "execution_count": 13,
   "id": "45d26de1",
   "metadata": {},
   "outputs": [],
   "source": [
    "model = lm(Income~Illiteracy+HS.Grad, data = data.frame(state.x77))"
   ]
  },
  {
   "cell_type": "code",
   "execution_count": 14,
   "id": "1897fe03",
   "metadata": {},
   "outputs": [
    {
     "data": {
      "text/plain": [
       "\n",
       "Call:\n",
       "lm(formula = Income ~ Illiteracy + HS.Grad, data = data.frame(state.x77))\n",
       "\n",
       "Coefficients:\n",
       "(Intercept)   Illiteracy      HS.Grad  \n",
       "    2131.33       -52.64        44.55  \n"
      ]
     },
     "metadata": {},
     "output_type": "display_data"
    }
   ],
   "source": [
    "model"
   ]
  },
  {
   "cell_type": "code",
   "execution_count": 15,
   "id": "8e8583b9",
   "metadata": {},
   "outputs": [
    {
     "data": {
      "text/html": [
       "<strong>1:</strong> 1783.17007099408"
      ],
      "text/latex": [
       "\\textbf{1:} 1783.17007099408"
      ],
      "text/markdown": [
       "**1:** 1783.17007099408"
      ],
      "text/plain": [
       "      1 \n",
       "1783.17 "
      ]
     },
     "metadata": {},
     "output_type": "display_data"
    }
   ],
   "source": [
    "predict(model, newdata = data.frame(Illiteracy = 10, HS.Grad = 4))"
   ]
  },
  {
   "cell_type": "code",
   "execution_count": 17,
   "id": "be66c94b",
   "metadata": {},
   "outputs": [
    {
     "data": {
      "text/html": [
       "1783.13"
      ],
      "text/latex": [
       "1783.13"
      ],
      "text/markdown": [
       "1783.13"
      ],
      "text/plain": [
       "[1] 1783.13"
      ]
     },
     "metadata": {},
     "output_type": "display_data"
    }
   ],
   "source": [
    "2131.33 + -52.64 * 10 + 44.55 * 4"
   ]
  },
  {
   "cell_type": "code",
   "execution_count": 19,
   "id": "8a678fe9",
   "metadata": {},
   "outputs": [],
   "source": [
    "model = lm(Income~Illiteracy+Population, data = data.frame(state.x77))"
   ]
  },
  {
   "cell_type": "code",
   "execution_count": 20,
   "id": "911bef3f",
   "metadata": {},
   "outputs": [],
   "source": [
    "pred = predict(model, data.frame(state.x77)[,c('Illiteracy', 'Population')])"
   ]
  },
  {
   "cell_type": "code",
   "execution_count": 21,
   "id": "7e6f091e",
   "metadata": {},
   "outputs": [
    {
     "data": {
      "text/html": [
       "<style>\n",
       ".dl-inline {width: auto; margin:0; padding: 0}\n",
       ".dl-inline>dt, .dl-inline>dd {float: none; width: auto; display: inline-block}\n",
       ".dl-inline>dt::after {content: \":\\0020\"; padding-right: .5ex}\n",
       ".dl-inline>dt:not(:first-of-type) {padding-left: .5ex}\n",
       "</style><dl class=dl-inline><dt>Alabama</dt><dd>3977.52574535517</dd><dt>Alaska</dt><dd>4143.18428855298</dd><dt>Arizona</dt><dd>4068.2460755361</dd><dt>Arkansas</dt><dd>4017.75698782313</dd><dt>California</dt><dd>5071.15357425967</dd><dt>Colorado</dt><dd>4595.43861039884</dd><dt>Connecticut</dt><dd>4427.85457328036</dd><dt>Delaware</dt><dd>4431.97178187744</dd><dt>Florida</dt><dd>4518.14570519609</dd><dt>Georgia</dt><dd>4071.16683810676</dd><dt>Hawaii</dt><dd>3973.60971413452</dd><dt>Idaho</dt><dd>4580.87978277353</dd><dt>Illinois</dt><dd>4809.39187207516</dd><dt>Indiana</dt><dd>4693.97020674731</dd><dt>Iowa</dt><dd>4700.54004166043</dd><dt>Kansas</dt><dd>4633.02475097094</dd><dt>Kentucky</dt><dd>4203.73874593114</dd><dt>Louisiana</dt><dd>3656.27063594424</dd><dt>Maine</dt><dd>4542.72491725859</dd><dt>Maryland</dt><dd>4557.90881140942</dd><dt>Massachusetts</dt><dd>4524.324541711</dd><dt>Michigan</dt><dd>4735.24435765131</dd><dt>Minnesota</dt><dd>4691.35460292182</dd><dt>Mississippi</dt><dd>3791.65062317394</dd><dt>Missouri</dt><dd>4627.6990018703</dd><dt>Montana</dt><dd>4578.49824707536</dd><dt>Nebraska</dt><dd>4606.86340359992</dd><dt>Nevada</dt><dd>4619.8166450849</dd><dt>New Hampshire</dt><dd>4533.98077126229</dd><dt>New Jersey</dt><dd>4578.31786597267</dd><dt>New Mexico</dt><dd>3842.82982079172</dd><dt>New York</dt><dd>4819.59072117945</dd><dt>North Carolina</dt><dd>4183.02187806467</dd><dt>North Dakota</dt><dd>4480.89687599758</dd><dt>Ohio</dt><dd>4839.83340555273</dd><dt>Oklahoma</dt><dd>4414.16962934307</dd><dt>Oregon</dt><dd>4633.16693220665</dd><dt>Pennsylvania</dt><dd>4786.09494569213</dd><dt>Rhode Island</dt><dd>4257.02986581086</dd><dt>South Carolina</dt><dd>3855.39811111706</dd><dt>South Dakota</dt><dd>4623.05126819735</dd><dt>Tennessee</dt><dd>4184.81389254625</dd><dt>Texas</dt><dd>4237.13393273025</dd><dt>Utah</dt><dd>4594.74245325546</dd><dt>Vermont</dt><dd>4568.75883242908</dd><dt>Virginia</dt><dd>4354.12490076703</dd><dt>Washington</dt><dd>4678.48720108988</dd><dt>West Virginia</dt><dd>4241.01972775807</dd><dt>Wisconsin</dt><dd>4668.23540308343</dd><dt>Wyoming</dt><dd>4565.34648277199</dd></dl>\n"
      ],
      "text/latex": [
       "\\begin{description*}\n",
       "\\item[Alabama] 3977.52574535517\n",
       "\\item[Alaska] 4143.18428855298\n",
       "\\item[Arizona] 4068.2460755361\n",
       "\\item[Arkansas] 4017.75698782313\n",
       "\\item[California] 5071.15357425967\n",
       "\\item[Colorado] 4595.43861039884\n",
       "\\item[Connecticut] 4427.85457328036\n",
       "\\item[Delaware] 4431.97178187744\n",
       "\\item[Florida] 4518.14570519609\n",
       "\\item[Georgia] 4071.16683810676\n",
       "\\item[Hawaii] 3973.60971413452\n",
       "\\item[Idaho] 4580.87978277353\n",
       "\\item[Illinois] 4809.39187207516\n",
       "\\item[Indiana] 4693.97020674731\n",
       "\\item[Iowa] 4700.54004166043\n",
       "\\item[Kansas] 4633.02475097094\n",
       "\\item[Kentucky] 4203.73874593114\n",
       "\\item[Louisiana] 3656.27063594424\n",
       "\\item[Maine] 4542.72491725859\n",
       "\\item[Maryland] 4557.90881140942\n",
       "\\item[Massachusetts] 4524.324541711\n",
       "\\item[Michigan] 4735.24435765131\n",
       "\\item[Minnesota] 4691.35460292182\n",
       "\\item[Mississippi] 3791.65062317394\n",
       "\\item[Missouri] 4627.6990018703\n",
       "\\item[Montana] 4578.49824707536\n",
       "\\item[Nebraska] 4606.86340359992\n",
       "\\item[Nevada] 4619.8166450849\n",
       "\\item[New Hampshire] 4533.98077126229\n",
       "\\item[New Jersey] 4578.31786597267\n",
       "\\item[New Mexico] 3842.82982079172\n",
       "\\item[New York] 4819.59072117945\n",
       "\\item[North Carolina] 4183.02187806467\n",
       "\\item[North Dakota] 4480.89687599758\n",
       "\\item[Ohio] 4839.83340555273\n",
       "\\item[Oklahoma] 4414.16962934307\n",
       "\\item[Oregon] 4633.16693220665\n",
       "\\item[Pennsylvania] 4786.09494569213\n",
       "\\item[Rhode Island] 4257.02986581086\n",
       "\\item[South Carolina] 3855.39811111706\n",
       "\\item[South Dakota] 4623.05126819735\n",
       "\\item[Tennessee] 4184.81389254625\n",
       "\\item[Texas] 4237.13393273025\n",
       "\\item[Utah] 4594.74245325546\n",
       "\\item[Vermont] 4568.75883242908\n",
       "\\item[Virginia] 4354.12490076703\n",
       "\\item[Washington] 4678.48720108988\n",
       "\\item[West Virginia] 4241.01972775807\n",
       "\\item[Wisconsin] 4668.23540308343\n",
       "\\item[Wyoming] 4565.34648277199\n",
       "\\end{description*}\n"
      ],
      "text/markdown": [
       "Alabama\n",
       ":   3977.52574535517Alaska\n",
       ":   4143.18428855298Arizona\n",
       ":   4068.2460755361Arkansas\n",
       ":   4017.75698782313California\n",
       ":   5071.15357425967Colorado\n",
       ":   4595.43861039884Connecticut\n",
       ":   4427.85457328036Delaware\n",
       ":   4431.97178187744Florida\n",
       ":   4518.14570519609Georgia\n",
       ":   4071.16683810676Hawaii\n",
       ":   3973.60971413452Idaho\n",
       ":   4580.87978277353Illinois\n",
       ":   4809.39187207516Indiana\n",
       ":   4693.97020674731Iowa\n",
       ":   4700.54004166043Kansas\n",
       ":   4633.02475097094Kentucky\n",
       ":   4203.73874593114Louisiana\n",
       ":   3656.27063594424Maine\n",
       ":   4542.72491725859Maryland\n",
       ":   4557.90881140942Massachusetts\n",
       ":   4524.324541711Michigan\n",
       ":   4735.24435765131Minnesota\n",
       ":   4691.35460292182Mississippi\n",
       ":   3791.65062317394Missouri\n",
       ":   4627.6990018703Montana\n",
       ":   4578.49824707536Nebraska\n",
       ":   4606.86340359992Nevada\n",
       ":   4619.8166450849New Hampshire\n",
       ":   4533.98077126229New Jersey\n",
       ":   4578.31786597267New Mexico\n",
       ":   3842.82982079172New York\n",
       ":   4819.59072117945North Carolina\n",
       ":   4183.02187806467North Dakota\n",
       ":   4480.89687599758Ohio\n",
       ":   4839.83340555273Oklahoma\n",
       ":   4414.16962934307Oregon\n",
       ":   4633.16693220665Pennsylvania\n",
       ":   4786.09494569213Rhode Island\n",
       ":   4257.02986581086South Carolina\n",
       ":   3855.39811111706South Dakota\n",
       ":   4623.05126819735Tennessee\n",
       ":   4184.81389254625Texas\n",
       ":   4237.13393273025Utah\n",
       ":   4594.74245325546Vermont\n",
       ":   4568.75883242908Virginia\n",
       ":   4354.12490076703Washington\n",
       ":   4678.48720108988West Virginia\n",
       ":   4241.01972775807Wisconsin\n",
       ":   4668.23540308343Wyoming\n",
       ":   4565.34648277199\n",
       "\n"
      ],
      "text/plain": [
       "       Alabama         Alaska        Arizona       Arkansas     California \n",
       "      3977.526       4143.184       4068.246       4017.757       5071.154 \n",
       "      Colorado    Connecticut       Delaware        Florida        Georgia \n",
       "      4595.439       4427.855       4431.972       4518.146       4071.167 \n",
       "        Hawaii          Idaho       Illinois        Indiana           Iowa \n",
       "      3973.610       4580.880       4809.392       4693.970       4700.540 \n",
       "        Kansas       Kentucky      Louisiana          Maine       Maryland \n",
       "      4633.025       4203.739       3656.271       4542.725       4557.909 \n",
       " Massachusetts       Michigan      Minnesota    Mississippi       Missouri \n",
       "      4524.325       4735.244       4691.355       3791.651       4627.699 \n",
       "       Montana       Nebraska         Nevada  New Hampshire     New Jersey \n",
       "      4578.498       4606.863       4619.817       4533.981       4578.318 \n",
       "    New Mexico       New York North Carolina   North Dakota           Ohio \n",
       "      3842.830       4819.591       4183.022       4480.897       4839.833 \n",
       "      Oklahoma         Oregon   Pennsylvania   Rhode Island South Carolina \n",
       "      4414.170       4633.167       4786.095       4257.030       3855.398 \n",
       "  South Dakota      Tennessee          Texas           Utah        Vermont \n",
       "      4623.051       4184.814       4237.134       4594.742       4568.759 \n",
       "      Virginia     Washington  West Virginia      Wisconsin        Wyoming \n",
       "      4354.125       4678.487       4241.020       4668.235       4565.346 "
      ]
     },
     "metadata": {},
     "output_type": "display_data"
    }
   ],
   "source": [
    "pred"
   ]
  },
  {
   "cell_type": "code",
   "execution_count": 23,
   "id": "bc884fed",
   "metadata": {},
   "outputs": [],
   "source": [
    "result = data.frame(예측값 = pred, 실제값 = data.frame(state.x77)$Income, 예측값_실제값 = (pred - data.frame(state.x77)$Income))"
   ]
  },
  {
   "cell_type": "code",
   "execution_count": 24,
   "id": "b1b9e9b2",
   "metadata": {},
   "outputs": [
    {
     "data": {
      "text/html": [
       "<table class=\"dataframe\">\n",
       "<caption>A data.frame: 50 × 3</caption>\n",
       "<thead>\n",
       "\t<tr><th></th><th scope=col>예측값</th><th scope=col>실제값</th><th scope=col>예측값_실제값</th></tr>\n",
       "\t<tr><th></th><th scope=col>&lt;dbl&gt;</th><th scope=col>&lt;dbl&gt;</th><th scope=col>&lt;dbl&gt;</th></tr>\n",
       "</thead>\n",
       "<tbody>\n",
       "\t<tr><th scope=row>Alabama</th><td>3977.526</td><td>3624</td><td>  353.5257454</td></tr>\n",
       "\t<tr><th scope=row>Alaska</th><td>4143.184</td><td>6315</td><td>-2171.8157114</td></tr>\n",
       "\t<tr><th scope=row>Arizona</th><td>4068.246</td><td>4530</td><td> -461.7539245</td></tr>\n",
       "\t<tr><th scope=row>Arkansas</th><td>4017.757</td><td>3378</td><td>  639.7569878</td></tr>\n",
       "\t<tr><th scope=row>California</th><td>5071.154</td><td>5114</td><td>  -42.8464257</td></tr>\n",
       "\t<tr><th scope=row>Colorado</th><td>4595.439</td><td>4884</td><td> -288.5613896</td></tr>\n",
       "\t<tr><th scope=row>Connecticut</th><td>4427.855</td><td>5348</td><td> -920.1454267</td></tr>\n",
       "\t<tr><th scope=row>Delaware</th><td>4431.972</td><td>4809</td><td> -377.0282181</td></tr>\n",
       "\t<tr><th scope=row>Florida</th><td>4518.146</td><td>4815</td><td> -296.8542948</td></tr>\n",
       "\t<tr><th scope=row>Georgia</th><td>4071.167</td><td>4091</td><td>  -19.8331619</td></tr>\n",
       "\t<tr><th scope=row>Hawaii</th><td>3973.610</td><td>4963</td><td> -989.3902859</td></tr>\n",
       "\t<tr><th scope=row>Idaho</th><td>4580.880</td><td>4119</td><td>  461.8797828</td></tr>\n",
       "\t<tr><th scope=row>Illinois</th><td>4809.392</td><td>5107</td><td> -297.6081279</td></tr>\n",
       "\t<tr><th scope=row>Indiana</th><td>4693.970</td><td>4458</td><td>  235.9702067</td></tr>\n",
       "\t<tr><th scope=row>Iowa</th><td>4700.540</td><td>4628</td><td>   72.5400417</td></tr>\n",
       "\t<tr><th scope=row>Kansas</th><td>4633.025</td><td>4669</td><td>  -35.9752490</td></tr>\n",
       "\t<tr><th scope=row>Kentucky</th><td>4203.739</td><td>3712</td><td>  491.7387459</td></tr>\n",
       "\t<tr><th scope=row>Louisiana</th><td>3656.271</td><td>3545</td><td>  111.2706359</td></tr>\n",
       "\t<tr><th scope=row>Maine</th><td>4542.725</td><td>3694</td><td>  848.7249173</td></tr>\n",
       "\t<tr><th scope=row>Maryland</th><td>4557.909</td><td>5299</td><td> -741.0911886</td></tr>\n",
       "\t<tr><th scope=row>Massachusetts</th><td>4524.325</td><td>4755</td><td> -230.6754583</td></tr>\n",
       "\t<tr><th scope=row>Michigan</th><td>4735.244</td><td>4751</td><td>  -15.7556423</td></tr>\n",
       "\t<tr><th scope=row>Minnesota</th><td>4691.355</td><td>4675</td><td>   16.3546029</td></tr>\n",
       "\t<tr><th scope=row>Mississippi</th><td>3791.651</td><td>3098</td><td>  693.6506232</td></tr>\n",
       "\t<tr><th scope=row>Missouri</th><td>4627.699</td><td>4254</td><td>  373.6990019</td></tr>\n",
       "\t<tr><th scope=row>Montana</th><td>4578.498</td><td>4347</td><td>  231.4982471</td></tr>\n",
       "\t<tr><th scope=row>Nebraska</th><td>4606.863</td><td>4508</td><td>   98.8634036</td></tr>\n",
       "\t<tr><th scope=row>Nevada</th><td>4619.817</td><td>5149</td><td> -529.1833549</td></tr>\n",
       "\t<tr><th scope=row>New Hampshire</th><td>4533.981</td><td>4281</td><td>  252.9807713</td></tr>\n",
       "\t<tr><th scope=row>New Jersey</th><td>4578.318</td><td>5237</td><td> -658.6821340</td></tr>\n",
       "\t<tr><th scope=row>New Mexico</th><td>3842.830</td><td>3601</td><td>  241.8298208</td></tr>\n",
       "\t<tr><th scope=row>New York</th><td>4819.591</td><td>4903</td><td>  -83.4092788</td></tr>\n",
       "\t<tr><th scope=row>North Carolina</th><td>4183.022</td><td>3875</td><td>  308.0218781</td></tr>\n",
       "\t<tr><th scope=row>North Dakota</th><td>4480.897</td><td>5087</td><td> -606.1031240</td></tr>\n",
       "\t<tr><th scope=row>Ohio</th><td>4839.833</td><td>4561</td><td>  278.8334056</td></tr>\n",
       "\t<tr><th scope=row>Oklahoma</th><td>4414.170</td><td>3983</td><td>  431.1696293</td></tr>\n",
       "\t<tr><th scope=row>Oregon</th><td>4633.167</td><td>4660</td><td>  -26.8330678</td></tr>\n",
       "\t<tr><th scope=row>Pennsylvania</th><td>4786.095</td><td>4449</td><td>  337.0949457</td></tr>\n",
       "\t<tr><th scope=row>Rhode Island</th><td>4257.030</td><td>4558</td><td> -300.9701342</td></tr>\n",
       "\t<tr><th scope=row>South Carolina</th><td>3855.398</td><td>3635</td><td>  220.3981111</td></tr>\n",
       "\t<tr><th scope=row>South Dakota</th><td>4623.051</td><td>4167</td><td>  456.0512682</td></tr>\n",
       "\t<tr><th scope=row>Tennessee</th><td>4184.814</td><td>3821</td><td>  363.8138925</td></tr>\n",
       "\t<tr><th scope=row>Texas</th><td>4237.134</td><td>4188</td><td>   49.1339327</td></tr>\n",
       "\t<tr><th scope=row>Utah</th><td>4594.742</td><td>4022</td><td>  572.7424533</td></tr>\n",
       "\t<tr><th scope=row>Vermont</th><td>4568.759</td><td>3907</td><td>  661.7588324</td></tr>\n",
       "\t<tr><th scope=row>Virginia</th><td>4354.125</td><td>4701</td><td> -346.8750992</td></tr>\n",
       "\t<tr><th scope=row>Washington</th><td>4678.487</td><td>4864</td><td> -185.5127989</td></tr>\n",
       "\t<tr><th scope=row>West Virginia</th><td>4241.020</td><td>3617</td><td>  624.0197278</td></tr>\n",
       "\t<tr><th scope=row>Wisconsin</th><td>4668.235</td><td>4468</td><td>  200.2354031</td></tr>\n",
       "\t<tr><th scope=row>Wyoming</th><td>4565.346</td><td>4566</td><td>   -0.6535172</td></tr>\n",
       "</tbody>\n",
       "</table>\n"
      ],
      "text/latex": [
       "A data.frame: 50 × 3\n",
       "\\begin{tabular}{r|lll}\n",
       "  & 예측값 & 실제값 & 예측값\\_실제값\\\\\n",
       "  & <dbl> & <dbl> & <dbl>\\\\\n",
       "\\hline\n",
       "\tAlabama & 3977.526 & 3624 &   353.5257454\\\\\n",
       "\tAlaska & 4143.184 & 6315 & -2171.8157114\\\\\n",
       "\tArizona & 4068.246 & 4530 &  -461.7539245\\\\\n",
       "\tArkansas & 4017.757 & 3378 &   639.7569878\\\\\n",
       "\tCalifornia & 5071.154 & 5114 &   -42.8464257\\\\\n",
       "\tColorado & 4595.439 & 4884 &  -288.5613896\\\\\n",
       "\tConnecticut & 4427.855 & 5348 &  -920.1454267\\\\\n",
       "\tDelaware & 4431.972 & 4809 &  -377.0282181\\\\\n",
       "\tFlorida & 4518.146 & 4815 &  -296.8542948\\\\\n",
       "\tGeorgia & 4071.167 & 4091 &   -19.8331619\\\\\n",
       "\tHawaii & 3973.610 & 4963 &  -989.3902859\\\\\n",
       "\tIdaho & 4580.880 & 4119 &   461.8797828\\\\\n",
       "\tIllinois & 4809.392 & 5107 &  -297.6081279\\\\\n",
       "\tIndiana & 4693.970 & 4458 &   235.9702067\\\\\n",
       "\tIowa & 4700.540 & 4628 &    72.5400417\\\\\n",
       "\tKansas & 4633.025 & 4669 &   -35.9752490\\\\\n",
       "\tKentucky & 4203.739 & 3712 &   491.7387459\\\\\n",
       "\tLouisiana & 3656.271 & 3545 &   111.2706359\\\\\n",
       "\tMaine & 4542.725 & 3694 &   848.7249173\\\\\n",
       "\tMaryland & 4557.909 & 5299 &  -741.0911886\\\\\n",
       "\tMassachusetts & 4524.325 & 4755 &  -230.6754583\\\\\n",
       "\tMichigan & 4735.244 & 4751 &   -15.7556423\\\\\n",
       "\tMinnesota & 4691.355 & 4675 &    16.3546029\\\\\n",
       "\tMississippi & 3791.651 & 3098 &   693.6506232\\\\\n",
       "\tMissouri & 4627.699 & 4254 &   373.6990019\\\\\n",
       "\tMontana & 4578.498 & 4347 &   231.4982471\\\\\n",
       "\tNebraska & 4606.863 & 4508 &    98.8634036\\\\\n",
       "\tNevada & 4619.817 & 5149 &  -529.1833549\\\\\n",
       "\tNew Hampshire & 4533.981 & 4281 &   252.9807713\\\\\n",
       "\tNew Jersey & 4578.318 & 5237 &  -658.6821340\\\\\n",
       "\tNew Mexico & 3842.830 & 3601 &   241.8298208\\\\\n",
       "\tNew York & 4819.591 & 4903 &   -83.4092788\\\\\n",
       "\tNorth Carolina & 4183.022 & 3875 &   308.0218781\\\\\n",
       "\tNorth Dakota & 4480.897 & 5087 &  -606.1031240\\\\\n",
       "\tOhio & 4839.833 & 4561 &   278.8334056\\\\\n",
       "\tOklahoma & 4414.170 & 3983 &   431.1696293\\\\\n",
       "\tOregon & 4633.167 & 4660 &   -26.8330678\\\\\n",
       "\tPennsylvania & 4786.095 & 4449 &   337.0949457\\\\\n",
       "\tRhode Island & 4257.030 & 4558 &  -300.9701342\\\\\n",
       "\tSouth Carolina & 3855.398 & 3635 &   220.3981111\\\\\n",
       "\tSouth Dakota & 4623.051 & 4167 &   456.0512682\\\\\n",
       "\tTennessee & 4184.814 & 3821 &   363.8138925\\\\\n",
       "\tTexas & 4237.134 & 4188 &    49.1339327\\\\\n",
       "\tUtah & 4594.742 & 4022 &   572.7424533\\\\\n",
       "\tVermont & 4568.759 & 3907 &   661.7588324\\\\\n",
       "\tVirginia & 4354.125 & 4701 &  -346.8750992\\\\\n",
       "\tWashington & 4678.487 & 4864 &  -185.5127989\\\\\n",
       "\tWest Virginia & 4241.020 & 3617 &   624.0197278\\\\\n",
       "\tWisconsin & 4668.235 & 4468 &   200.2354031\\\\\n",
       "\tWyoming & 4565.346 & 4566 &    -0.6535172\\\\\n",
       "\\end{tabular}\n"
      ],
      "text/markdown": [
       "\n",
       "A data.frame: 50 × 3\n",
       "\n",
       "| <!--/--> | 예측값 &lt;dbl&gt; | 실제값 &lt;dbl&gt; | 예측값_실제값 &lt;dbl&gt; |\n",
       "|---|---|---|---|\n",
       "| Alabama | 3977.526 | 3624 |   353.5257454 |\n",
       "| Alaska | 4143.184 | 6315 | -2171.8157114 |\n",
       "| Arizona | 4068.246 | 4530 |  -461.7539245 |\n",
       "| Arkansas | 4017.757 | 3378 |   639.7569878 |\n",
       "| California | 5071.154 | 5114 |   -42.8464257 |\n",
       "| Colorado | 4595.439 | 4884 |  -288.5613896 |\n",
       "| Connecticut | 4427.855 | 5348 |  -920.1454267 |\n",
       "| Delaware | 4431.972 | 4809 |  -377.0282181 |\n",
       "| Florida | 4518.146 | 4815 |  -296.8542948 |\n",
       "| Georgia | 4071.167 | 4091 |   -19.8331619 |\n",
       "| Hawaii | 3973.610 | 4963 |  -989.3902859 |\n",
       "| Idaho | 4580.880 | 4119 |   461.8797828 |\n",
       "| Illinois | 4809.392 | 5107 |  -297.6081279 |\n",
       "| Indiana | 4693.970 | 4458 |   235.9702067 |\n",
       "| Iowa | 4700.540 | 4628 |    72.5400417 |\n",
       "| Kansas | 4633.025 | 4669 |   -35.9752490 |\n",
       "| Kentucky | 4203.739 | 3712 |   491.7387459 |\n",
       "| Louisiana | 3656.271 | 3545 |   111.2706359 |\n",
       "| Maine | 4542.725 | 3694 |   848.7249173 |\n",
       "| Maryland | 4557.909 | 5299 |  -741.0911886 |\n",
       "| Massachusetts | 4524.325 | 4755 |  -230.6754583 |\n",
       "| Michigan | 4735.244 | 4751 |   -15.7556423 |\n",
       "| Minnesota | 4691.355 | 4675 |    16.3546029 |\n",
       "| Mississippi | 3791.651 | 3098 |   693.6506232 |\n",
       "| Missouri | 4627.699 | 4254 |   373.6990019 |\n",
       "| Montana | 4578.498 | 4347 |   231.4982471 |\n",
       "| Nebraska | 4606.863 | 4508 |    98.8634036 |\n",
       "| Nevada | 4619.817 | 5149 |  -529.1833549 |\n",
       "| New Hampshire | 4533.981 | 4281 |   252.9807713 |\n",
       "| New Jersey | 4578.318 | 5237 |  -658.6821340 |\n",
       "| New Mexico | 3842.830 | 3601 |   241.8298208 |\n",
       "| New York | 4819.591 | 4903 |   -83.4092788 |\n",
       "| North Carolina | 4183.022 | 3875 |   308.0218781 |\n",
       "| North Dakota | 4480.897 | 5087 |  -606.1031240 |\n",
       "| Ohio | 4839.833 | 4561 |   278.8334056 |\n",
       "| Oklahoma | 4414.170 | 3983 |   431.1696293 |\n",
       "| Oregon | 4633.167 | 4660 |   -26.8330678 |\n",
       "| Pennsylvania | 4786.095 | 4449 |   337.0949457 |\n",
       "| Rhode Island | 4257.030 | 4558 |  -300.9701342 |\n",
       "| South Carolina | 3855.398 | 3635 |   220.3981111 |\n",
       "| South Dakota | 4623.051 | 4167 |   456.0512682 |\n",
       "| Tennessee | 4184.814 | 3821 |   363.8138925 |\n",
       "| Texas | 4237.134 | 4188 |    49.1339327 |\n",
       "| Utah | 4594.742 | 4022 |   572.7424533 |\n",
       "| Vermont | 4568.759 | 3907 |   661.7588324 |\n",
       "| Virginia | 4354.125 | 4701 |  -346.8750992 |\n",
       "| Washington | 4678.487 | 4864 |  -185.5127989 |\n",
       "| West Virginia | 4241.020 | 3617 |   624.0197278 |\n",
       "| Wisconsin | 4668.235 | 4468 |   200.2354031 |\n",
       "| Wyoming | 4565.346 | 4566 |    -0.6535172 |\n",
       "\n"
      ],
      "text/plain": [
       "               예측값   실제값 예측값_실제값\n",
       "Alabama        3977.526 3624     353.5257454\n",
       "Alaska         4143.184 6315   -2171.8157114\n",
       "Arizona        4068.246 4530    -461.7539245\n",
       "Arkansas       4017.757 3378     639.7569878\n",
       "California     5071.154 5114     -42.8464257\n",
       "Colorado       4595.439 4884    -288.5613896\n",
       "Connecticut    4427.855 5348    -920.1454267\n",
       "Delaware       4431.972 4809    -377.0282181\n",
       "Florida        4518.146 4815    -296.8542948\n",
       "Georgia        4071.167 4091     -19.8331619\n",
       "Hawaii         3973.610 4963    -989.3902859\n",
       "Idaho          4580.880 4119     461.8797828\n",
       "Illinois       4809.392 5107    -297.6081279\n",
       "Indiana        4693.970 4458     235.9702067\n",
       "Iowa           4700.540 4628      72.5400417\n",
       "Kansas         4633.025 4669     -35.9752490\n",
       "Kentucky       4203.739 3712     491.7387459\n",
       "Louisiana      3656.271 3545     111.2706359\n",
       "Maine          4542.725 3694     848.7249173\n",
       "Maryland       4557.909 5299    -741.0911886\n",
       "Massachusetts  4524.325 4755    -230.6754583\n",
       "Michigan       4735.244 4751     -15.7556423\n",
       "Minnesota      4691.355 4675      16.3546029\n",
       "Mississippi    3791.651 3098     693.6506232\n",
       "Missouri       4627.699 4254     373.6990019\n",
       "Montana        4578.498 4347     231.4982471\n",
       "Nebraska       4606.863 4508      98.8634036\n",
       "Nevada         4619.817 5149    -529.1833549\n",
       "New Hampshire  4533.981 4281     252.9807713\n",
       "New Jersey     4578.318 5237    -658.6821340\n",
       "New Mexico     3842.830 3601     241.8298208\n",
       "New York       4819.591 4903     -83.4092788\n",
       "North Carolina 4183.022 3875     308.0218781\n",
       "North Dakota   4480.897 5087    -606.1031240\n",
       "Ohio           4839.833 4561     278.8334056\n",
       "Oklahoma       4414.170 3983     431.1696293\n",
       "Oregon         4633.167 4660     -26.8330678\n",
       "Pennsylvania   4786.095 4449     337.0949457\n",
       "Rhode Island   4257.030 4558    -300.9701342\n",
       "South Carolina 3855.398 3635     220.3981111\n",
       "South Dakota   4623.051 4167     456.0512682\n",
       "Tennessee      4184.814 3821     363.8138925\n",
       "Texas          4237.134 4188      49.1339327\n",
       "Utah           4594.742 4022     572.7424533\n",
       "Vermont        4568.759 3907     661.7588324\n",
       "Virginia       4354.125 4701    -346.8750992\n",
       "Washington     4678.487 4864    -185.5127989\n",
       "West Virginia  4241.020 3617     624.0197278\n",
       "Wisconsin      4668.235 4468     200.2354031\n",
       "Wyoming        4565.346 4566      -0.6535172"
      ]
     },
     "metadata": {},
     "output_type": "display_data"
    }
   ],
   "source": [
    "result"
   ]
  },
  {
   "cell_type": "code",
   "execution_count": 25,
   "id": "8333a213",
   "metadata": {},
   "outputs": [
    {
     "name": "stderr",
     "output_type": "stream",
     "text": [
      "Warning message:\n",
      "\"package 'mlbench' was built under R version 4.3.2\"\n"
     ]
    }
   ],
   "source": [
    "library(mlbench)"
   ]
  },
  {
   "cell_type": "code",
   "execution_count": 26,
   "id": "267792f6",
   "metadata": {},
   "outputs": [],
   "source": [
    "data(BostonHousing)"
   ]
  },
  {
   "cell_type": "code",
   "execution_count": 27,
   "id": "c0a573ad",
   "metadata": {},
   "outputs": [],
   "source": [
    "ds = BostonHousing[, -4]"
   ]
  },
  {
   "cell_type": "code",
   "execution_count": 28,
   "id": "32a7d499",
   "metadata": {},
   "outputs": [
    {
     "data": {
      "text/html": [
       "<table class=\"dataframe\">\n",
       "<caption>A data.frame: 506 × 13</caption>\n",
       "<thead>\n",
       "\t<tr><th></th><th scope=col>crim</th><th scope=col>zn</th><th scope=col>indus</th><th scope=col>nox</th><th scope=col>rm</th><th scope=col>age</th><th scope=col>dis</th><th scope=col>rad</th><th scope=col>tax</th><th scope=col>ptratio</th><th scope=col>b</th><th scope=col>lstat</th><th scope=col>medv</th></tr>\n",
       "\t<tr><th></th><th scope=col>&lt;dbl&gt;</th><th scope=col>&lt;dbl&gt;</th><th scope=col>&lt;dbl&gt;</th><th scope=col>&lt;dbl&gt;</th><th scope=col>&lt;dbl&gt;</th><th scope=col>&lt;dbl&gt;</th><th scope=col>&lt;dbl&gt;</th><th scope=col>&lt;dbl&gt;</th><th scope=col>&lt;dbl&gt;</th><th scope=col>&lt;dbl&gt;</th><th scope=col>&lt;dbl&gt;</th><th scope=col>&lt;dbl&gt;</th><th scope=col>&lt;dbl&gt;</th></tr>\n",
       "</thead>\n",
       "<tbody>\n",
       "\t<tr><th scope=row>1</th><td>0.00632</td><td>18.0</td><td>2.31</td><td>0.538</td><td>6.575</td><td> 65.2</td><td>4.0900</td><td>1</td><td>296</td><td>15.3</td><td>396.90</td><td> 4.98</td><td>24.0</td></tr>\n",
       "\t<tr><th scope=row>2</th><td>0.02731</td><td> 0.0</td><td>7.07</td><td>0.469</td><td>6.421</td><td> 78.9</td><td>4.9671</td><td>2</td><td>242</td><td>17.8</td><td>396.90</td><td> 9.14</td><td>21.6</td></tr>\n",
       "\t<tr><th scope=row>3</th><td>0.02729</td><td> 0.0</td><td>7.07</td><td>0.469</td><td>7.185</td><td> 61.1</td><td>4.9671</td><td>2</td><td>242</td><td>17.8</td><td>392.83</td><td> 4.03</td><td>34.7</td></tr>\n",
       "\t<tr><th scope=row>4</th><td>0.03237</td><td> 0.0</td><td>2.18</td><td>0.458</td><td>6.998</td><td> 45.8</td><td>6.0622</td><td>3</td><td>222</td><td>18.7</td><td>394.63</td><td> 2.94</td><td>33.4</td></tr>\n",
       "\t<tr><th scope=row>5</th><td>0.06905</td><td> 0.0</td><td>2.18</td><td>0.458</td><td>7.147</td><td> 54.2</td><td>6.0622</td><td>3</td><td>222</td><td>18.7</td><td>396.90</td><td> 5.33</td><td>36.2</td></tr>\n",
       "\t<tr><th scope=row>6</th><td>0.02985</td><td> 0.0</td><td>2.18</td><td>0.458</td><td>6.430</td><td> 58.7</td><td>6.0622</td><td>3</td><td>222</td><td>18.7</td><td>394.12</td><td> 5.21</td><td>28.7</td></tr>\n",
       "\t<tr><th scope=row>7</th><td>0.08829</td><td>12.5</td><td>7.87</td><td>0.524</td><td>6.012</td><td> 66.6</td><td>5.5605</td><td>5</td><td>311</td><td>15.2</td><td>395.60</td><td>12.43</td><td>22.9</td></tr>\n",
       "\t<tr><th scope=row>8</th><td>0.14455</td><td>12.5</td><td>7.87</td><td>0.524</td><td>6.172</td><td> 96.1</td><td>5.9505</td><td>5</td><td>311</td><td>15.2</td><td>396.90</td><td>19.15</td><td>27.1</td></tr>\n",
       "\t<tr><th scope=row>9</th><td>0.21124</td><td>12.5</td><td>7.87</td><td>0.524</td><td>5.631</td><td>100.0</td><td>6.0821</td><td>5</td><td>311</td><td>15.2</td><td>386.63</td><td>29.93</td><td>16.5</td></tr>\n",
       "\t<tr><th scope=row>10</th><td>0.17004</td><td>12.5</td><td>7.87</td><td>0.524</td><td>6.004</td><td> 85.9</td><td>6.5921</td><td>5</td><td>311</td><td>15.2</td><td>386.71</td><td>17.10</td><td>18.9</td></tr>\n",
       "\t<tr><th scope=row>11</th><td>0.22489</td><td>12.5</td><td>7.87</td><td>0.524</td><td>6.377</td><td> 94.3</td><td>6.3467</td><td>5</td><td>311</td><td>15.2</td><td>392.52</td><td>20.45</td><td>15.0</td></tr>\n",
       "\t<tr><th scope=row>12</th><td>0.11747</td><td>12.5</td><td>7.87</td><td>0.524</td><td>6.009</td><td> 82.9</td><td>6.2267</td><td>5</td><td>311</td><td>15.2</td><td>396.90</td><td>13.27</td><td>18.9</td></tr>\n",
       "\t<tr><th scope=row>13</th><td>0.09378</td><td>12.5</td><td>7.87</td><td>0.524</td><td>5.889</td><td> 39.0</td><td>5.4509</td><td>5</td><td>311</td><td>15.2</td><td>390.50</td><td>15.71</td><td>21.7</td></tr>\n",
       "\t<tr><th scope=row>14</th><td>0.62976</td><td> 0.0</td><td>8.14</td><td>0.538</td><td>5.949</td><td> 61.8</td><td>4.7075</td><td>4</td><td>307</td><td>21.0</td><td>396.90</td><td> 8.26</td><td>20.4</td></tr>\n",
       "\t<tr><th scope=row>15</th><td>0.63796</td><td> 0.0</td><td>8.14</td><td>0.538</td><td>6.096</td><td> 84.5</td><td>4.4619</td><td>4</td><td>307</td><td>21.0</td><td>380.02</td><td>10.26</td><td>18.2</td></tr>\n",
       "\t<tr><th scope=row>16</th><td>0.62739</td><td> 0.0</td><td>8.14</td><td>0.538</td><td>5.834</td><td> 56.5</td><td>4.4986</td><td>4</td><td>307</td><td>21.0</td><td>395.62</td><td> 8.47</td><td>19.9</td></tr>\n",
       "\t<tr><th scope=row>17</th><td>1.05393</td><td> 0.0</td><td>8.14</td><td>0.538</td><td>5.935</td><td> 29.3</td><td>4.4986</td><td>4</td><td>307</td><td>21.0</td><td>386.85</td><td> 6.58</td><td>23.1</td></tr>\n",
       "\t<tr><th scope=row>18</th><td>0.78420</td><td> 0.0</td><td>8.14</td><td>0.538</td><td>5.990</td><td> 81.7</td><td>4.2579</td><td>4</td><td>307</td><td>21.0</td><td>386.75</td><td>14.67</td><td>17.5</td></tr>\n",
       "\t<tr><th scope=row>19</th><td>0.80271</td><td> 0.0</td><td>8.14</td><td>0.538</td><td>5.456</td><td> 36.6</td><td>3.7965</td><td>4</td><td>307</td><td>21.0</td><td>288.99</td><td>11.69</td><td>20.2</td></tr>\n",
       "\t<tr><th scope=row>20</th><td>0.72580</td><td> 0.0</td><td>8.14</td><td>0.538</td><td>5.727</td><td> 69.5</td><td>3.7965</td><td>4</td><td>307</td><td>21.0</td><td>390.95</td><td>11.28</td><td>18.2</td></tr>\n",
       "\t<tr><th scope=row>21</th><td>1.25179</td><td> 0.0</td><td>8.14</td><td>0.538</td><td>5.570</td><td> 98.1</td><td>3.7979</td><td>4</td><td>307</td><td>21.0</td><td>376.57</td><td>21.02</td><td>13.6</td></tr>\n",
       "\t<tr><th scope=row>22</th><td>0.85204</td><td> 0.0</td><td>8.14</td><td>0.538</td><td>5.965</td><td> 89.2</td><td>4.0123</td><td>4</td><td>307</td><td>21.0</td><td>392.53</td><td>13.83</td><td>19.6</td></tr>\n",
       "\t<tr><th scope=row>23</th><td>1.23247</td><td> 0.0</td><td>8.14</td><td>0.538</td><td>6.142</td><td> 91.7</td><td>3.9769</td><td>4</td><td>307</td><td>21.0</td><td>396.90</td><td>18.72</td><td>15.2</td></tr>\n",
       "\t<tr><th scope=row>24</th><td>0.98843</td><td> 0.0</td><td>8.14</td><td>0.538</td><td>5.813</td><td>100.0</td><td>4.0952</td><td>4</td><td>307</td><td>21.0</td><td>394.54</td><td>19.88</td><td>14.5</td></tr>\n",
       "\t<tr><th scope=row>25</th><td>0.75026</td><td> 0.0</td><td>8.14</td><td>0.538</td><td>5.924</td><td> 94.1</td><td>4.3996</td><td>4</td><td>307</td><td>21.0</td><td>394.33</td><td>16.30</td><td>15.6</td></tr>\n",
       "\t<tr><th scope=row>26</th><td>0.84054</td><td> 0.0</td><td>8.14</td><td>0.538</td><td>5.599</td><td> 85.7</td><td>4.4546</td><td>4</td><td>307</td><td>21.0</td><td>303.42</td><td>16.51</td><td>13.9</td></tr>\n",
       "\t<tr><th scope=row>27</th><td>0.67191</td><td> 0.0</td><td>8.14</td><td>0.538</td><td>5.813</td><td> 90.3</td><td>4.6820</td><td>4</td><td>307</td><td>21.0</td><td>376.88</td><td>14.81</td><td>16.6</td></tr>\n",
       "\t<tr><th scope=row>28</th><td>0.95577</td><td> 0.0</td><td>8.14</td><td>0.538</td><td>6.047</td><td> 88.8</td><td>4.4534</td><td>4</td><td>307</td><td>21.0</td><td>306.38</td><td>17.28</td><td>14.8</td></tr>\n",
       "\t<tr><th scope=row>29</th><td>0.77299</td><td> 0.0</td><td>8.14</td><td>0.538</td><td>6.495</td><td> 94.4</td><td>4.4547</td><td>4</td><td>307</td><td>21.0</td><td>387.94</td><td>12.80</td><td>18.4</td></tr>\n",
       "\t<tr><th scope=row>30</th><td>1.00245</td><td> 0.0</td><td>8.14</td><td>0.538</td><td>6.674</td><td> 87.3</td><td>4.2390</td><td>4</td><td>307</td><td>21.0</td><td>380.23</td><td>11.98</td><td>21.0</td></tr>\n",
       "\t<tr><th scope=row>⋮</th><td>⋮</td><td>⋮</td><td>⋮</td><td>⋮</td><td>⋮</td><td>⋮</td><td>⋮</td><td>⋮</td><td>⋮</td><td>⋮</td><td>⋮</td><td>⋮</td><td>⋮</td></tr>\n",
       "\t<tr><th scope=row>477</th><td> 4.87141</td><td>0</td><td>18.10</td><td>0.614</td><td>6.484</td><td>93.6</td><td>2.3053</td><td>24</td><td>666</td><td>20.2</td><td>396.21</td><td>18.68</td><td>16.7</td></tr>\n",
       "\t<tr><th scope=row>478</th><td>15.02340</td><td>0</td><td>18.10</td><td>0.614</td><td>5.304</td><td>97.3</td><td>2.1007</td><td>24</td><td>666</td><td>20.2</td><td>349.48</td><td>24.91</td><td>12.0</td></tr>\n",
       "\t<tr><th scope=row>479</th><td>10.23300</td><td>0</td><td>18.10</td><td>0.614</td><td>6.185</td><td>96.7</td><td>2.1705</td><td>24</td><td>666</td><td>20.2</td><td>379.70</td><td>18.03</td><td>14.6</td></tr>\n",
       "\t<tr><th scope=row>480</th><td>14.33370</td><td>0</td><td>18.10</td><td>0.614</td><td>6.229</td><td>88.0</td><td>1.9512</td><td>24</td><td>666</td><td>20.2</td><td>383.32</td><td>13.11</td><td>21.4</td></tr>\n",
       "\t<tr><th scope=row>481</th><td> 5.82401</td><td>0</td><td>18.10</td><td>0.532</td><td>6.242</td><td>64.7</td><td>3.4242</td><td>24</td><td>666</td><td>20.2</td><td>396.90</td><td>10.74</td><td>23.0</td></tr>\n",
       "\t<tr><th scope=row>482</th><td> 5.70818</td><td>0</td><td>18.10</td><td>0.532</td><td>6.750</td><td>74.9</td><td>3.3317</td><td>24</td><td>666</td><td>20.2</td><td>393.07</td><td> 7.74</td><td>23.7</td></tr>\n",
       "\t<tr><th scope=row>483</th><td> 5.73116</td><td>0</td><td>18.10</td><td>0.532</td><td>7.061</td><td>77.0</td><td>3.4106</td><td>24</td><td>666</td><td>20.2</td><td>395.28</td><td> 7.01</td><td>25.0</td></tr>\n",
       "\t<tr><th scope=row>484</th><td> 2.81838</td><td>0</td><td>18.10</td><td>0.532</td><td>5.762</td><td>40.3</td><td>4.0983</td><td>24</td><td>666</td><td>20.2</td><td>392.92</td><td>10.42</td><td>21.8</td></tr>\n",
       "\t<tr><th scope=row>485</th><td> 2.37857</td><td>0</td><td>18.10</td><td>0.583</td><td>5.871</td><td>41.9</td><td>3.7240</td><td>24</td><td>666</td><td>20.2</td><td>370.73</td><td>13.34</td><td>20.6</td></tr>\n",
       "\t<tr><th scope=row>486</th><td> 3.67367</td><td>0</td><td>18.10</td><td>0.583</td><td>6.312</td><td>51.9</td><td>3.9917</td><td>24</td><td>666</td><td>20.2</td><td>388.62</td><td>10.58</td><td>21.2</td></tr>\n",
       "\t<tr><th scope=row>487</th><td> 5.69175</td><td>0</td><td>18.10</td><td>0.583</td><td>6.114</td><td>79.8</td><td>3.5459</td><td>24</td><td>666</td><td>20.2</td><td>392.68</td><td>14.98</td><td>19.1</td></tr>\n",
       "\t<tr><th scope=row>488</th><td> 4.83567</td><td>0</td><td>18.10</td><td>0.583</td><td>5.905</td><td>53.2</td><td>3.1523</td><td>24</td><td>666</td><td>20.2</td><td>388.22</td><td>11.45</td><td>20.6</td></tr>\n",
       "\t<tr><th scope=row>489</th><td> 0.15086</td><td>0</td><td>27.74</td><td>0.609</td><td>5.454</td><td>92.7</td><td>1.8209</td><td> 4</td><td>711</td><td>20.1</td><td>395.09</td><td>18.06</td><td>15.2</td></tr>\n",
       "\t<tr><th scope=row>490</th><td> 0.18337</td><td>0</td><td>27.74</td><td>0.609</td><td>5.414</td><td>98.3</td><td>1.7554</td><td> 4</td><td>711</td><td>20.1</td><td>344.05</td><td>23.97</td><td> 7.0</td></tr>\n",
       "\t<tr><th scope=row>491</th><td> 0.20746</td><td>0</td><td>27.74</td><td>0.609</td><td>5.093</td><td>98.0</td><td>1.8226</td><td> 4</td><td>711</td><td>20.1</td><td>318.43</td><td>29.68</td><td> 8.1</td></tr>\n",
       "\t<tr><th scope=row>492</th><td> 0.10574</td><td>0</td><td>27.74</td><td>0.609</td><td>5.983</td><td>98.8</td><td>1.8681</td><td> 4</td><td>711</td><td>20.1</td><td>390.11</td><td>18.07</td><td>13.6</td></tr>\n",
       "\t<tr><th scope=row>493</th><td> 0.11132</td><td>0</td><td>27.74</td><td>0.609</td><td>5.983</td><td>83.5</td><td>2.1099</td><td> 4</td><td>711</td><td>20.1</td><td>396.90</td><td>13.35</td><td>20.1</td></tr>\n",
       "\t<tr><th scope=row>494</th><td> 0.17331</td><td>0</td><td> 9.69</td><td>0.585</td><td>5.707</td><td>54.0</td><td>2.3817</td><td> 6</td><td>391</td><td>19.2</td><td>396.90</td><td>12.01</td><td>21.8</td></tr>\n",
       "\t<tr><th scope=row>495</th><td> 0.27957</td><td>0</td><td> 9.69</td><td>0.585</td><td>5.926</td><td>42.6</td><td>2.3817</td><td> 6</td><td>391</td><td>19.2</td><td>396.90</td><td>13.59</td><td>24.5</td></tr>\n",
       "\t<tr><th scope=row>496</th><td> 0.17899</td><td>0</td><td> 9.69</td><td>0.585</td><td>5.670</td><td>28.8</td><td>2.7986</td><td> 6</td><td>391</td><td>19.2</td><td>393.29</td><td>17.60</td><td>23.1</td></tr>\n",
       "\t<tr><th scope=row>497</th><td> 0.28960</td><td>0</td><td> 9.69</td><td>0.585</td><td>5.390</td><td>72.9</td><td>2.7986</td><td> 6</td><td>391</td><td>19.2</td><td>396.90</td><td>21.14</td><td>19.7</td></tr>\n",
       "\t<tr><th scope=row>498</th><td> 0.26838</td><td>0</td><td> 9.69</td><td>0.585</td><td>5.794</td><td>70.6</td><td>2.8927</td><td> 6</td><td>391</td><td>19.2</td><td>396.90</td><td>14.10</td><td>18.3</td></tr>\n",
       "\t<tr><th scope=row>499</th><td> 0.23912</td><td>0</td><td> 9.69</td><td>0.585</td><td>6.019</td><td>65.3</td><td>2.4091</td><td> 6</td><td>391</td><td>19.2</td><td>396.90</td><td>12.92</td><td>21.2</td></tr>\n",
       "\t<tr><th scope=row>500</th><td> 0.17783</td><td>0</td><td> 9.69</td><td>0.585</td><td>5.569</td><td>73.5</td><td>2.3999</td><td> 6</td><td>391</td><td>19.2</td><td>395.77</td><td>15.10</td><td>17.5</td></tr>\n",
       "\t<tr><th scope=row>501</th><td> 0.22438</td><td>0</td><td> 9.69</td><td>0.585</td><td>6.027</td><td>79.7</td><td>2.4982</td><td> 6</td><td>391</td><td>19.2</td><td>396.90</td><td>14.33</td><td>16.8</td></tr>\n",
       "\t<tr><th scope=row>502</th><td> 0.06263</td><td>0</td><td>11.93</td><td>0.573</td><td>6.593</td><td>69.1</td><td>2.4786</td><td> 1</td><td>273</td><td>21.0</td><td>391.99</td><td> 9.67</td><td>22.4</td></tr>\n",
       "\t<tr><th scope=row>503</th><td> 0.04527</td><td>0</td><td>11.93</td><td>0.573</td><td>6.120</td><td>76.7</td><td>2.2875</td><td> 1</td><td>273</td><td>21.0</td><td>396.90</td><td> 9.08</td><td>20.6</td></tr>\n",
       "\t<tr><th scope=row>504</th><td> 0.06076</td><td>0</td><td>11.93</td><td>0.573</td><td>6.976</td><td>91.0</td><td>2.1675</td><td> 1</td><td>273</td><td>21.0</td><td>396.90</td><td> 5.64</td><td>23.9</td></tr>\n",
       "\t<tr><th scope=row>505</th><td> 0.10959</td><td>0</td><td>11.93</td><td>0.573</td><td>6.794</td><td>89.3</td><td>2.3889</td><td> 1</td><td>273</td><td>21.0</td><td>393.45</td><td> 6.48</td><td>22.0</td></tr>\n",
       "\t<tr><th scope=row>506</th><td> 0.04741</td><td>0</td><td>11.93</td><td>0.573</td><td>6.030</td><td>80.8</td><td>2.5050</td><td> 1</td><td>273</td><td>21.0</td><td>396.90</td><td> 7.88</td><td>11.9</td></tr>\n",
       "</tbody>\n",
       "</table>\n"
      ],
      "text/latex": [
       "A data.frame: 506 × 13\n",
       "\\begin{tabular}{r|lllllllllllll}\n",
       "  & crim & zn & indus & nox & rm & age & dis & rad & tax & ptratio & b & lstat & medv\\\\\n",
       "  & <dbl> & <dbl> & <dbl> & <dbl> & <dbl> & <dbl> & <dbl> & <dbl> & <dbl> & <dbl> & <dbl> & <dbl> & <dbl>\\\\\n",
       "\\hline\n",
       "\t1 & 0.00632 & 18.0 & 2.31 & 0.538 & 6.575 &  65.2 & 4.0900 & 1 & 296 & 15.3 & 396.90 &  4.98 & 24.0\\\\\n",
       "\t2 & 0.02731 &  0.0 & 7.07 & 0.469 & 6.421 &  78.9 & 4.9671 & 2 & 242 & 17.8 & 396.90 &  9.14 & 21.6\\\\\n",
       "\t3 & 0.02729 &  0.0 & 7.07 & 0.469 & 7.185 &  61.1 & 4.9671 & 2 & 242 & 17.8 & 392.83 &  4.03 & 34.7\\\\\n",
       "\t4 & 0.03237 &  0.0 & 2.18 & 0.458 & 6.998 &  45.8 & 6.0622 & 3 & 222 & 18.7 & 394.63 &  2.94 & 33.4\\\\\n",
       "\t5 & 0.06905 &  0.0 & 2.18 & 0.458 & 7.147 &  54.2 & 6.0622 & 3 & 222 & 18.7 & 396.90 &  5.33 & 36.2\\\\\n",
       "\t6 & 0.02985 &  0.0 & 2.18 & 0.458 & 6.430 &  58.7 & 6.0622 & 3 & 222 & 18.7 & 394.12 &  5.21 & 28.7\\\\\n",
       "\t7 & 0.08829 & 12.5 & 7.87 & 0.524 & 6.012 &  66.6 & 5.5605 & 5 & 311 & 15.2 & 395.60 & 12.43 & 22.9\\\\\n",
       "\t8 & 0.14455 & 12.5 & 7.87 & 0.524 & 6.172 &  96.1 & 5.9505 & 5 & 311 & 15.2 & 396.90 & 19.15 & 27.1\\\\\n",
       "\t9 & 0.21124 & 12.5 & 7.87 & 0.524 & 5.631 & 100.0 & 6.0821 & 5 & 311 & 15.2 & 386.63 & 29.93 & 16.5\\\\\n",
       "\t10 & 0.17004 & 12.5 & 7.87 & 0.524 & 6.004 &  85.9 & 6.5921 & 5 & 311 & 15.2 & 386.71 & 17.10 & 18.9\\\\\n",
       "\t11 & 0.22489 & 12.5 & 7.87 & 0.524 & 6.377 &  94.3 & 6.3467 & 5 & 311 & 15.2 & 392.52 & 20.45 & 15.0\\\\\n",
       "\t12 & 0.11747 & 12.5 & 7.87 & 0.524 & 6.009 &  82.9 & 6.2267 & 5 & 311 & 15.2 & 396.90 & 13.27 & 18.9\\\\\n",
       "\t13 & 0.09378 & 12.5 & 7.87 & 0.524 & 5.889 &  39.0 & 5.4509 & 5 & 311 & 15.2 & 390.50 & 15.71 & 21.7\\\\\n",
       "\t14 & 0.62976 &  0.0 & 8.14 & 0.538 & 5.949 &  61.8 & 4.7075 & 4 & 307 & 21.0 & 396.90 &  8.26 & 20.4\\\\\n",
       "\t15 & 0.63796 &  0.0 & 8.14 & 0.538 & 6.096 &  84.5 & 4.4619 & 4 & 307 & 21.0 & 380.02 & 10.26 & 18.2\\\\\n",
       "\t16 & 0.62739 &  0.0 & 8.14 & 0.538 & 5.834 &  56.5 & 4.4986 & 4 & 307 & 21.0 & 395.62 &  8.47 & 19.9\\\\\n",
       "\t17 & 1.05393 &  0.0 & 8.14 & 0.538 & 5.935 &  29.3 & 4.4986 & 4 & 307 & 21.0 & 386.85 &  6.58 & 23.1\\\\\n",
       "\t18 & 0.78420 &  0.0 & 8.14 & 0.538 & 5.990 &  81.7 & 4.2579 & 4 & 307 & 21.0 & 386.75 & 14.67 & 17.5\\\\\n",
       "\t19 & 0.80271 &  0.0 & 8.14 & 0.538 & 5.456 &  36.6 & 3.7965 & 4 & 307 & 21.0 & 288.99 & 11.69 & 20.2\\\\\n",
       "\t20 & 0.72580 &  0.0 & 8.14 & 0.538 & 5.727 &  69.5 & 3.7965 & 4 & 307 & 21.0 & 390.95 & 11.28 & 18.2\\\\\n",
       "\t21 & 1.25179 &  0.0 & 8.14 & 0.538 & 5.570 &  98.1 & 3.7979 & 4 & 307 & 21.0 & 376.57 & 21.02 & 13.6\\\\\n",
       "\t22 & 0.85204 &  0.0 & 8.14 & 0.538 & 5.965 &  89.2 & 4.0123 & 4 & 307 & 21.0 & 392.53 & 13.83 & 19.6\\\\\n",
       "\t23 & 1.23247 &  0.0 & 8.14 & 0.538 & 6.142 &  91.7 & 3.9769 & 4 & 307 & 21.0 & 396.90 & 18.72 & 15.2\\\\\n",
       "\t24 & 0.98843 &  0.0 & 8.14 & 0.538 & 5.813 & 100.0 & 4.0952 & 4 & 307 & 21.0 & 394.54 & 19.88 & 14.5\\\\\n",
       "\t25 & 0.75026 &  0.0 & 8.14 & 0.538 & 5.924 &  94.1 & 4.3996 & 4 & 307 & 21.0 & 394.33 & 16.30 & 15.6\\\\\n",
       "\t26 & 0.84054 &  0.0 & 8.14 & 0.538 & 5.599 &  85.7 & 4.4546 & 4 & 307 & 21.0 & 303.42 & 16.51 & 13.9\\\\\n",
       "\t27 & 0.67191 &  0.0 & 8.14 & 0.538 & 5.813 &  90.3 & 4.6820 & 4 & 307 & 21.0 & 376.88 & 14.81 & 16.6\\\\\n",
       "\t28 & 0.95577 &  0.0 & 8.14 & 0.538 & 6.047 &  88.8 & 4.4534 & 4 & 307 & 21.0 & 306.38 & 17.28 & 14.8\\\\\n",
       "\t29 & 0.77299 &  0.0 & 8.14 & 0.538 & 6.495 &  94.4 & 4.4547 & 4 & 307 & 21.0 & 387.94 & 12.80 & 18.4\\\\\n",
       "\t30 & 1.00245 &  0.0 & 8.14 & 0.538 & 6.674 &  87.3 & 4.2390 & 4 & 307 & 21.0 & 380.23 & 11.98 & 21.0\\\\\n",
       "\t⋮ & ⋮ & ⋮ & ⋮ & ⋮ & ⋮ & ⋮ & ⋮ & ⋮ & ⋮ & ⋮ & ⋮ & ⋮ & ⋮\\\\\n",
       "\t477 &  4.87141 & 0 & 18.10 & 0.614 & 6.484 & 93.6 & 2.3053 & 24 & 666 & 20.2 & 396.21 & 18.68 & 16.7\\\\\n",
       "\t478 & 15.02340 & 0 & 18.10 & 0.614 & 5.304 & 97.3 & 2.1007 & 24 & 666 & 20.2 & 349.48 & 24.91 & 12.0\\\\\n",
       "\t479 & 10.23300 & 0 & 18.10 & 0.614 & 6.185 & 96.7 & 2.1705 & 24 & 666 & 20.2 & 379.70 & 18.03 & 14.6\\\\\n",
       "\t480 & 14.33370 & 0 & 18.10 & 0.614 & 6.229 & 88.0 & 1.9512 & 24 & 666 & 20.2 & 383.32 & 13.11 & 21.4\\\\\n",
       "\t481 &  5.82401 & 0 & 18.10 & 0.532 & 6.242 & 64.7 & 3.4242 & 24 & 666 & 20.2 & 396.90 & 10.74 & 23.0\\\\\n",
       "\t482 &  5.70818 & 0 & 18.10 & 0.532 & 6.750 & 74.9 & 3.3317 & 24 & 666 & 20.2 & 393.07 &  7.74 & 23.7\\\\\n",
       "\t483 &  5.73116 & 0 & 18.10 & 0.532 & 7.061 & 77.0 & 3.4106 & 24 & 666 & 20.2 & 395.28 &  7.01 & 25.0\\\\\n",
       "\t484 &  2.81838 & 0 & 18.10 & 0.532 & 5.762 & 40.3 & 4.0983 & 24 & 666 & 20.2 & 392.92 & 10.42 & 21.8\\\\\n",
       "\t485 &  2.37857 & 0 & 18.10 & 0.583 & 5.871 & 41.9 & 3.7240 & 24 & 666 & 20.2 & 370.73 & 13.34 & 20.6\\\\\n",
       "\t486 &  3.67367 & 0 & 18.10 & 0.583 & 6.312 & 51.9 & 3.9917 & 24 & 666 & 20.2 & 388.62 & 10.58 & 21.2\\\\\n",
       "\t487 &  5.69175 & 0 & 18.10 & 0.583 & 6.114 & 79.8 & 3.5459 & 24 & 666 & 20.2 & 392.68 & 14.98 & 19.1\\\\\n",
       "\t488 &  4.83567 & 0 & 18.10 & 0.583 & 5.905 & 53.2 & 3.1523 & 24 & 666 & 20.2 & 388.22 & 11.45 & 20.6\\\\\n",
       "\t489 &  0.15086 & 0 & 27.74 & 0.609 & 5.454 & 92.7 & 1.8209 &  4 & 711 & 20.1 & 395.09 & 18.06 & 15.2\\\\\n",
       "\t490 &  0.18337 & 0 & 27.74 & 0.609 & 5.414 & 98.3 & 1.7554 &  4 & 711 & 20.1 & 344.05 & 23.97 &  7.0\\\\\n",
       "\t491 &  0.20746 & 0 & 27.74 & 0.609 & 5.093 & 98.0 & 1.8226 &  4 & 711 & 20.1 & 318.43 & 29.68 &  8.1\\\\\n",
       "\t492 &  0.10574 & 0 & 27.74 & 0.609 & 5.983 & 98.8 & 1.8681 &  4 & 711 & 20.1 & 390.11 & 18.07 & 13.6\\\\\n",
       "\t493 &  0.11132 & 0 & 27.74 & 0.609 & 5.983 & 83.5 & 2.1099 &  4 & 711 & 20.1 & 396.90 & 13.35 & 20.1\\\\\n",
       "\t494 &  0.17331 & 0 &  9.69 & 0.585 & 5.707 & 54.0 & 2.3817 &  6 & 391 & 19.2 & 396.90 & 12.01 & 21.8\\\\\n",
       "\t495 &  0.27957 & 0 &  9.69 & 0.585 & 5.926 & 42.6 & 2.3817 &  6 & 391 & 19.2 & 396.90 & 13.59 & 24.5\\\\\n",
       "\t496 &  0.17899 & 0 &  9.69 & 0.585 & 5.670 & 28.8 & 2.7986 &  6 & 391 & 19.2 & 393.29 & 17.60 & 23.1\\\\\n",
       "\t497 &  0.28960 & 0 &  9.69 & 0.585 & 5.390 & 72.9 & 2.7986 &  6 & 391 & 19.2 & 396.90 & 21.14 & 19.7\\\\\n",
       "\t498 &  0.26838 & 0 &  9.69 & 0.585 & 5.794 & 70.6 & 2.8927 &  6 & 391 & 19.2 & 396.90 & 14.10 & 18.3\\\\\n",
       "\t499 &  0.23912 & 0 &  9.69 & 0.585 & 6.019 & 65.3 & 2.4091 &  6 & 391 & 19.2 & 396.90 & 12.92 & 21.2\\\\\n",
       "\t500 &  0.17783 & 0 &  9.69 & 0.585 & 5.569 & 73.5 & 2.3999 &  6 & 391 & 19.2 & 395.77 & 15.10 & 17.5\\\\\n",
       "\t501 &  0.22438 & 0 &  9.69 & 0.585 & 6.027 & 79.7 & 2.4982 &  6 & 391 & 19.2 & 396.90 & 14.33 & 16.8\\\\\n",
       "\t502 &  0.06263 & 0 & 11.93 & 0.573 & 6.593 & 69.1 & 2.4786 &  1 & 273 & 21.0 & 391.99 &  9.67 & 22.4\\\\\n",
       "\t503 &  0.04527 & 0 & 11.93 & 0.573 & 6.120 & 76.7 & 2.2875 &  1 & 273 & 21.0 & 396.90 &  9.08 & 20.6\\\\\n",
       "\t504 &  0.06076 & 0 & 11.93 & 0.573 & 6.976 & 91.0 & 2.1675 &  1 & 273 & 21.0 & 396.90 &  5.64 & 23.9\\\\\n",
       "\t505 &  0.10959 & 0 & 11.93 & 0.573 & 6.794 & 89.3 & 2.3889 &  1 & 273 & 21.0 & 393.45 &  6.48 & 22.0\\\\\n",
       "\t506 &  0.04741 & 0 & 11.93 & 0.573 & 6.030 & 80.8 & 2.5050 &  1 & 273 & 21.0 & 396.90 &  7.88 & 11.9\\\\\n",
       "\\end{tabular}\n"
      ],
      "text/markdown": [
       "\n",
       "A data.frame: 506 × 13\n",
       "\n",
       "| <!--/--> | crim &lt;dbl&gt; | zn &lt;dbl&gt; | indus &lt;dbl&gt; | nox &lt;dbl&gt; | rm &lt;dbl&gt; | age &lt;dbl&gt; | dis &lt;dbl&gt; | rad &lt;dbl&gt; | tax &lt;dbl&gt; | ptratio &lt;dbl&gt; | b &lt;dbl&gt; | lstat &lt;dbl&gt; | medv &lt;dbl&gt; |\n",
       "|---|---|---|---|---|---|---|---|---|---|---|---|---|---|\n",
       "| 1 | 0.00632 | 18.0 | 2.31 | 0.538 | 6.575 |  65.2 | 4.0900 | 1 | 296 | 15.3 | 396.90 |  4.98 | 24.0 |\n",
       "| 2 | 0.02731 |  0.0 | 7.07 | 0.469 | 6.421 |  78.9 | 4.9671 | 2 | 242 | 17.8 | 396.90 |  9.14 | 21.6 |\n",
       "| 3 | 0.02729 |  0.0 | 7.07 | 0.469 | 7.185 |  61.1 | 4.9671 | 2 | 242 | 17.8 | 392.83 |  4.03 | 34.7 |\n",
       "| 4 | 0.03237 |  0.0 | 2.18 | 0.458 | 6.998 |  45.8 | 6.0622 | 3 | 222 | 18.7 | 394.63 |  2.94 | 33.4 |\n",
       "| 5 | 0.06905 |  0.0 | 2.18 | 0.458 | 7.147 |  54.2 | 6.0622 | 3 | 222 | 18.7 | 396.90 |  5.33 | 36.2 |\n",
       "| 6 | 0.02985 |  0.0 | 2.18 | 0.458 | 6.430 |  58.7 | 6.0622 | 3 | 222 | 18.7 | 394.12 |  5.21 | 28.7 |\n",
       "| 7 | 0.08829 | 12.5 | 7.87 | 0.524 | 6.012 |  66.6 | 5.5605 | 5 | 311 | 15.2 | 395.60 | 12.43 | 22.9 |\n",
       "| 8 | 0.14455 | 12.5 | 7.87 | 0.524 | 6.172 |  96.1 | 5.9505 | 5 | 311 | 15.2 | 396.90 | 19.15 | 27.1 |\n",
       "| 9 | 0.21124 | 12.5 | 7.87 | 0.524 | 5.631 | 100.0 | 6.0821 | 5 | 311 | 15.2 | 386.63 | 29.93 | 16.5 |\n",
       "| 10 | 0.17004 | 12.5 | 7.87 | 0.524 | 6.004 |  85.9 | 6.5921 | 5 | 311 | 15.2 | 386.71 | 17.10 | 18.9 |\n",
       "| 11 | 0.22489 | 12.5 | 7.87 | 0.524 | 6.377 |  94.3 | 6.3467 | 5 | 311 | 15.2 | 392.52 | 20.45 | 15.0 |\n",
       "| 12 | 0.11747 | 12.5 | 7.87 | 0.524 | 6.009 |  82.9 | 6.2267 | 5 | 311 | 15.2 | 396.90 | 13.27 | 18.9 |\n",
       "| 13 | 0.09378 | 12.5 | 7.87 | 0.524 | 5.889 |  39.0 | 5.4509 | 5 | 311 | 15.2 | 390.50 | 15.71 | 21.7 |\n",
       "| 14 | 0.62976 |  0.0 | 8.14 | 0.538 | 5.949 |  61.8 | 4.7075 | 4 | 307 | 21.0 | 396.90 |  8.26 | 20.4 |\n",
       "| 15 | 0.63796 |  0.0 | 8.14 | 0.538 | 6.096 |  84.5 | 4.4619 | 4 | 307 | 21.0 | 380.02 | 10.26 | 18.2 |\n",
       "| 16 | 0.62739 |  0.0 | 8.14 | 0.538 | 5.834 |  56.5 | 4.4986 | 4 | 307 | 21.0 | 395.62 |  8.47 | 19.9 |\n",
       "| 17 | 1.05393 |  0.0 | 8.14 | 0.538 | 5.935 |  29.3 | 4.4986 | 4 | 307 | 21.0 | 386.85 |  6.58 | 23.1 |\n",
       "| 18 | 0.78420 |  0.0 | 8.14 | 0.538 | 5.990 |  81.7 | 4.2579 | 4 | 307 | 21.0 | 386.75 | 14.67 | 17.5 |\n",
       "| 19 | 0.80271 |  0.0 | 8.14 | 0.538 | 5.456 |  36.6 | 3.7965 | 4 | 307 | 21.0 | 288.99 | 11.69 | 20.2 |\n",
       "| 20 | 0.72580 |  0.0 | 8.14 | 0.538 | 5.727 |  69.5 | 3.7965 | 4 | 307 | 21.0 | 390.95 | 11.28 | 18.2 |\n",
       "| 21 | 1.25179 |  0.0 | 8.14 | 0.538 | 5.570 |  98.1 | 3.7979 | 4 | 307 | 21.0 | 376.57 | 21.02 | 13.6 |\n",
       "| 22 | 0.85204 |  0.0 | 8.14 | 0.538 | 5.965 |  89.2 | 4.0123 | 4 | 307 | 21.0 | 392.53 | 13.83 | 19.6 |\n",
       "| 23 | 1.23247 |  0.0 | 8.14 | 0.538 | 6.142 |  91.7 | 3.9769 | 4 | 307 | 21.0 | 396.90 | 18.72 | 15.2 |\n",
       "| 24 | 0.98843 |  0.0 | 8.14 | 0.538 | 5.813 | 100.0 | 4.0952 | 4 | 307 | 21.0 | 394.54 | 19.88 | 14.5 |\n",
       "| 25 | 0.75026 |  0.0 | 8.14 | 0.538 | 5.924 |  94.1 | 4.3996 | 4 | 307 | 21.0 | 394.33 | 16.30 | 15.6 |\n",
       "| 26 | 0.84054 |  0.0 | 8.14 | 0.538 | 5.599 |  85.7 | 4.4546 | 4 | 307 | 21.0 | 303.42 | 16.51 | 13.9 |\n",
       "| 27 | 0.67191 |  0.0 | 8.14 | 0.538 | 5.813 |  90.3 | 4.6820 | 4 | 307 | 21.0 | 376.88 | 14.81 | 16.6 |\n",
       "| 28 | 0.95577 |  0.0 | 8.14 | 0.538 | 6.047 |  88.8 | 4.4534 | 4 | 307 | 21.0 | 306.38 | 17.28 | 14.8 |\n",
       "| 29 | 0.77299 |  0.0 | 8.14 | 0.538 | 6.495 |  94.4 | 4.4547 | 4 | 307 | 21.0 | 387.94 | 12.80 | 18.4 |\n",
       "| 30 | 1.00245 |  0.0 | 8.14 | 0.538 | 6.674 |  87.3 | 4.2390 | 4 | 307 | 21.0 | 380.23 | 11.98 | 21.0 |\n",
       "| ⋮ | ⋮ | ⋮ | ⋮ | ⋮ | ⋮ | ⋮ | ⋮ | ⋮ | ⋮ | ⋮ | ⋮ | ⋮ | ⋮ |\n",
       "| 477 |  4.87141 | 0 | 18.10 | 0.614 | 6.484 | 93.6 | 2.3053 | 24 | 666 | 20.2 | 396.21 | 18.68 | 16.7 |\n",
       "| 478 | 15.02340 | 0 | 18.10 | 0.614 | 5.304 | 97.3 | 2.1007 | 24 | 666 | 20.2 | 349.48 | 24.91 | 12.0 |\n",
       "| 479 | 10.23300 | 0 | 18.10 | 0.614 | 6.185 | 96.7 | 2.1705 | 24 | 666 | 20.2 | 379.70 | 18.03 | 14.6 |\n",
       "| 480 | 14.33370 | 0 | 18.10 | 0.614 | 6.229 | 88.0 | 1.9512 | 24 | 666 | 20.2 | 383.32 | 13.11 | 21.4 |\n",
       "| 481 |  5.82401 | 0 | 18.10 | 0.532 | 6.242 | 64.7 | 3.4242 | 24 | 666 | 20.2 | 396.90 | 10.74 | 23.0 |\n",
       "| 482 |  5.70818 | 0 | 18.10 | 0.532 | 6.750 | 74.9 | 3.3317 | 24 | 666 | 20.2 | 393.07 |  7.74 | 23.7 |\n",
       "| 483 |  5.73116 | 0 | 18.10 | 0.532 | 7.061 | 77.0 | 3.4106 | 24 | 666 | 20.2 | 395.28 |  7.01 | 25.0 |\n",
       "| 484 |  2.81838 | 0 | 18.10 | 0.532 | 5.762 | 40.3 | 4.0983 | 24 | 666 | 20.2 | 392.92 | 10.42 | 21.8 |\n",
       "| 485 |  2.37857 | 0 | 18.10 | 0.583 | 5.871 | 41.9 | 3.7240 | 24 | 666 | 20.2 | 370.73 | 13.34 | 20.6 |\n",
       "| 486 |  3.67367 | 0 | 18.10 | 0.583 | 6.312 | 51.9 | 3.9917 | 24 | 666 | 20.2 | 388.62 | 10.58 | 21.2 |\n",
       "| 487 |  5.69175 | 0 | 18.10 | 0.583 | 6.114 | 79.8 | 3.5459 | 24 | 666 | 20.2 | 392.68 | 14.98 | 19.1 |\n",
       "| 488 |  4.83567 | 0 | 18.10 | 0.583 | 5.905 | 53.2 | 3.1523 | 24 | 666 | 20.2 | 388.22 | 11.45 | 20.6 |\n",
       "| 489 |  0.15086 | 0 | 27.74 | 0.609 | 5.454 | 92.7 | 1.8209 |  4 | 711 | 20.1 | 395.09 | 18.06 | 15.2 |\n",
       "| 490 |  0.18337 | 0 | 27.74 | 0.609 | 5.414 | 98.3 | 1.7554 |  4 | 711 | 20.1 | 344.05 | 23.97 |  7.0 |\n",
       "| 491 |  0.20746 | 0 | 27.74 | 0.609 | 5.093 | 98.0 | 1.8226 |  4 | 711 | 20.1 | 318.43 | 29.68 |  8.1 |\n",
       "| 492 |  0.10574 | 0 | 27.74 | 0.609 | 5.983 | 98.8 | 1.8681 |  4 | 711 | 20.1 | 390.11 | 18.07 | 13.6 |\n",
       "| 493 |  0.11132 | 0 | 27.74 | 0.609 | 5.983 | 83.5 | 2.1099 |  4 | 711 | 20.1 | 396.90 | 13.35 | 20.1 |\n",
       "| 494 |  0.17331 | 0 |  9.69 | 0.585 | 5.707 | 54.0 | 2.3817 |  6 | 391 | 19.2 | 396.90 | 12.01 | 21.8 |\n",
       "| 495 |  0.27957 | 0 |  9.69 | 0.585 | 5.926 | 42.6 | 2.3817 |  6 | 391 | 19.2 | 396.90 | 13.59 | 24.5 |\n",
       "| 496 |  0.17899 | 0 |  9.69 | 0.585 | 5.670 | 28.8 | 2.7986 |  6 | 391 | 19.2 | 393.29 | 17.60 | 23.1 |\n",
       "| 497 |  0.28960 | 0 |  9.69 | 0.585 | 5.390 | 72.9 | 2.7986 |  6 | 391 | 19.2 | 396.90 | 21.14 | 19.7 |\n",
       "| 498 |  0.26838 | 0 |  9.69 | 0.585 | 5.794 | 70.6 | 2.8927 |  6 | 391 | 19.2 | 396.90 | 14.10 | 18.3 |\n",
       "| 499 |  0.23912 | 0 |  9.69 | 0.585 | 6.019 | 65.3 | 2.4091 |  6 | 391 | 19.2 | 396.90 | 12.92 | 21.2 |\n",
       "| 500 |  0.17783 | 0 |  9.69 | 0.585 | 5.569 | 73.5 | 2.3999 |  6 | 391 | 19.2 | 395.77 | 15.10 | 17.5 |\n",
       "| 501 |  0.22438 | 0 |  9.69 | 0.585 | 6.027 | 79.7 | 2.4982 |  6 | 391 | 19.2 | 396.90 | 14.33 | 16.8 |\n",
       "| 502 |  0.06263 | 0 | 11.93 | 0.573 | 6.593 | 69.1 | 2.4786 |  1 | 273 | 21.0 | 391.99 |  9.67 | 22.4 |\n",
       "| 503 |  0.04527 | 0 | 11.93 | 0.573 | 6.120 | 76.7 | 2.2875 |  1 | 273 | 21.0 | 396.90 |  9.08 | 20.6 |\n",
       "| 504 |  0.06076 | 0 | 11.93 | 0.573 | 6.976 | 91.0 | 2.1675 |  1 | 273 | 21.0 | 396.90 |  5.64 | 23.9 |\n",
       "| 505 |  0.10959 | 0 | 11.93 | 0.573 | 6.794 | 89.3 | 2.3889 |  1 | 273 | 21.0 | 393.45 |  6.48 | 22.0 |\n",
       "| 506 |  0.04741 | 0 | 11.93 | 0.573 | 6.030 | 80.8 | 2.5050 |  1 | 273 | 21.0 | 396.90 |  7.88 | 11.9 |\n",
       "\n"
      ],
      "text/plain": [
       "    crim     zn   indus nox   rm    age   dis    rad tax ptratio b      lstat\n",
       "1   0.00632  18.0 2.31  0.538 6.575  65.2 4.0900 1   296 15.3    396.90  4.98\n",
       "2   0.02731   0.0 7.07  0.469 6.421  78.9 4.9671 2   242 17.8    396.90  9.14\n",
       "3   0.02729   0.0 7.07  0.469 7.185  61.1 4.9671 2   242 17.8    392.83  4.03\n",
       "4   0.03237   0.0 2.18  0.458 6.998  45.8 6.0622 3   222 18.7    394.63  2.94\n",
       "5   0.06905   0.0 2.18  0.458 7.147  54.2 6.0622 3   222 18.7    396.90  5.33\n",
       "6   0.02985   0.0 2.18  0.458 6.430  58.7 6.0622 3   222 18.7    394.12  5.21\n",
       "7   0.08829  12.5 7.87  0.524 6.012  66.6 5.5605 5   311 15.2    395.60 12.43\n",
       "8   0.14455  12.5 7.87  0.524 6.172  96.1 5.9505 5   311 15.2    396.90 19.15\n",
       "9   0.21124  12.5 7.87  0.524 5.631 100.0 6.0821 5   311 15.2    386.63 29.93\n",
       "10  0.17004  12.5 7.87  0.524 6.004  85.9 6.5921 5   311 15.2    386.71 17.10\n",
       "11  0.22489  12.5 7.87  0.524 6.377  94.3 6.3467 5   311 15.2    392.52 20.45\n",
       "12  0.11747  12.5 7.87  0.524 6.009  82.9 6.2267 5   311 15.2    396.90 13.27\n",
       "13  0.09378  12.5 7.87  0.524 5.889  39.0 5.4509 5   311 15.2    390.50 15.71\n",
       "14  0.62976   0.0 8.14  0.538 5.949  61.8 4.7075 4   307 21.0    396.90  8.26\n",
       "15  0.63796   0.0 8.14  0.538 6.096  84.5 4.4619 4   307 21.0    380.02 10.26\n",
       "16  0.62739   0.0 8.14  0.538 5.834  56.5 4.4986 4   307 21.0    395.62  8.47\n",
       "17  1.05393   0.0 8.14  0.538 5.935  29.3 4.4986 4   307 21.0    386.85  6.58\n",
       "18  0.78420   0.0 8.14  0.538 5.990  81.7 4.2579 4   307 21.0    386.75 14.67\n",
       "19  0.80271   0.0 8.14  0.538 5.456  36.6 3.7965 4   307 21.0    288.99 11.69\n",
       "20  0.72580   0.0 8.14  0.538 5.727  69.5 3.7965 4   307 21.0    390.95 11.28\n",
       "21  1.25179   0.0 8.14  0.538 5.570  98.1 3.7979 4   307 21.0    376.57 21.02\n",
       "22  0.85204   0.0 8.14  0.538 5.965  89.2 4.0123 4   307 21.0    392.53 13.83\n",
       "23  1.23247   0.0 8.14  0.538 6.142  91.7 3.9769 4   307 21.0    396.90 18.72\n",
       "24  0.98843   0.0 8.14  0.538 5.813 100.0 4.0952 4   307 21.0    394.54 19.88\n",
       "25  0.75026   0.0 8.14  0.538 5.924  94.1 4.3996 4   307 21.0    394.33 16.30\n",
       "26  0.84054   0.0 8.14  0.538 5.599  85.7 4.4546 4   307 21.0    303.42 16.51\n",
       "27  0.67191   0.0 8.14  0.538 5.813  90.3 4.6820 4   307 21.0    376.88 14.81\n",
       "28  0.95577   0.0 8.14  0.538 6.047  88.8 4.4534 4   307 21.0    306.38 17.28\n",
       "29  0.77299   0.0 8.14  0.538 6.495  94.4 4.4547 4   307 21.0    387.94 12.80\n",
       "30  1.00245   0.0 8.14  0.538 6.674  87.3 4.2390 4   307 21.0    380.23 11.98\n",
       "⋮   ⋮        ⋮    ⋮     ⋮     ⋮     ⋮     ⋮      ⋮   ⋮   ⋮       ⋮      ⋮    \n",
       "477  4.87141 0    18.10 0.614 6.484 93.6  2.3053 24  666 20.2    396.21 18.68\n",
       "478 15.02340 0    18.10 0.614 5.304 97.3  2.1007 24  666 20.2    349.48 24.91\n",
       "479 10.23300 0    18.10 0.614 6.185 96.7  2.1705 24  666 20.2    379.70 18.03\n",
       "480 14.33370 0    18.10 0.614 6.229 88.0  1.9512 24  666 20.2    383.32 13.11\n",
       "481  5.82401 0    18.10 0.532 6.242 64.7  3.4242 24  666 20.2    396.90 10.74\n",
       "482  5.70818 0    18.10 0.532 6.750 74.9  3.3317 24  666 20.2    393.07  7.74\n",
       "483  5.73116 0    18.10 0.532 7.061 77.0  3.4106 24  666 20.2    395.28  7.01\n",
       "484  2.81838 0    18.10 0.532 5.762 40.3  4.0983 24  666 20.2    392.92 10.42\n",
       "485  2.37857 0    18.10 0.583 5.871 41.9  3.7240 24  666 20.2    370.73 13.34\n",
       "486  3.67367 0    18.10 0.583 6.312 51.9  3.9917 24  666 20.2    388.62 10.58\n",
       "487  5.69175 0    18.10 0.583 6.114 79.8  3.5459 24  666 20.2    392.68 14.98\n",
       "488  4.83567 0    18.10 0.583 5.905 53.2  3.1523 24  666 20.2    388.22 11.45\n",
       "489  0.15086 0    27.74 0.609 5.454 92.7  1.8209  4  711 20.1    395.09 18.06\n",
       "490  0.18337 0    27.74 0.609 5.414 98.3  1.7554  4  711 20.1    344.05 23.97\n",
       "491  0.20746 0    27.74 0.609 5.093 98.0  1.8226  4  711 20.1    318.43 29.68\n",
       "492  0.10574 0    27.74 0.609 5.983 98.8  1.8681  4  711 20.1    390.11 18.07\n",
       "493  0.11132 0    27.74 0.609 5.983 83.5  2.1099  4  711 20.1    396.90 13.35\n",
       "494  0.17331 0     9.69 0.585 5.707 54.0  2.3817  6  391 19.2    396.90 12.01\n",
       "495  0.27957 0     9.69 0.585 5.926 42.6  2.3817  6  391 19.2    396.90 13.59\n",
       "496  0.17899 0     9.69 0.585 5.670 28.8  2.7986  6  391 19.2    393.29 17.60\n",
       "497  0.28960 0     9.69 0.585 5.390 72.9  2.7986  6  391 19.2    396.90 21.14\n",
       "498  0.26838 0     9.69 0.585 5.794 70.6  2.8927  6  391 19.2    396.90 14.10\n",
       "499  0.23912 0     9.69 0.585 6.019 65.3  2.4091  6  391 19.2    396.90 12.92\n",
       "500  0.17783 0     9.69 0.585 5.569 73.5  2.3999  6  391 19.2    395.77 15.10\n",
       "501  0.22438 0     9.69 0.585 6.027 79.7  2.4982  6  391 19.2    396.90 14.33\n",
       "502  0.06263 0    11.93 0.573 6.593 69.1  2.4786  1  273 21.0    391.99  9.67\n",
       "503  0.04527 0    11.93 0.573 6.120 76.7  2.2875  1  273 21.0    396.90  9.08\n",
       "504  0.06076 0    11.93 0.573 6.976 91.0  2.1675  1  273 21.0    396.90  5.64\n",
       "505  0.10959 0    11.93 0.573 6.794 89.3  2.3889  1  273 21.0    393.45  6.48\n",
       "506  0.04741 0    11.93 0.573 6.030 80.8  2.5050  1  273 21.0    396.90  7.88\n",
       "    medv\n",
       "1   24.0\n",
       "2   21.6\n",
       "3   34.7\n",
       "4   33.4\n",
       "5   36.2\n",
       "6   28.7\n",
       "7   22.9\n",
       "8   27.1\n",
       "9   16.5\n",
       "10  18.9\n",
       "11  15.0\n",
       "12  18.9\n",
       "13  21.7\n",
       "14  20.4\n",
       "15  18.2\n",
       "16  19.9\n",
       "17  23.1\n",
       "18  17.5\n",
       "19  20.2\n",
       "20  18.2\n",
       "21  13.6\n",
       "22  19.6\n",
       "23  15.2\n",
       "24  14.5\n",
       "25  15.6\n",
       "26  13.9\n",
       "27  16.6\n",
       "28  14.8\n",
       "29  18.4\n",
       "30  21.0\n",
       "⋮   ⋮   \n",
       "477 16.7\n",
       "478 12.0\n",
       "479 14.6\n",
       "480 21.4\n",
       "481 23.0\n",
       "482 23.7\n",
       "483 25.0\n",
       "484 21.8\n",
       "485 20.6\n",
       "486 21.2\n",
       "487 19.1\n",
       "488 20.6\n",
       "489 15.2\n",
       "490  7.0\n",
       "491  8.1\n",
       "492 13.6\n",
       "493 20.1\n",
       "494 21.8\n",
       "495 24.5\n",
       "496 23.1\n",
       "497 19.7\n",
       "498 18.3\n",
       "499 21.2\n",
       "500 17.5\n",
       "501 16.8\n",
       "502 22.4\n",
       "503 20.6\n",
       "504 23.9\n",
       "505 22.0\n",
       "506 11.9"
      ]
     },
     "metadata": {},
     "output_type": "display_data"
    }
   ],
   "source": [
    "ds"
   ]
  },
  {
   "cell_type": "code",
   "execution_count": 29,
   "id": "e23fcd4f",
   "metadata": {},
   "outputs": [],
   "source": [
    "mod = lm(medv~., data=ds)"
   ]
  },
  {
   "cell_type": "code",
   "execution_count": 30,
   "id": "6f7c19ca",
   "metadata": {},
   "outputs": [
    {
     "data": {
      "text/plain": [
       "\n",
       "Call:\n",
       "lm(formula = medv ~ ., data = ds)\n",
       "\n",
       "Coefficients:\n",
       "(Intercept)         crim           zn        indus          nox           rm  \n",
       "  36.891960    -0.113139     0.047052     0.040311   -17.366999     3.850492  \n",
       "        age          dis          rad          tax      ptratio            b  \n",
       "   0.002784    -1.485374     0.328311    -0.013756    -0.990958     0.009741  \n",
       "      lstat  \n",
       "  -0.534158  \n"
      ]
     },
     "metadata": {},
     "output_type": "display_data"
    }
   ],
   "source": [
    "mod"
   ]
  },
  {
   "cell_type": "code",
   "execution_count": 31,
   "id": "d31b7862",
   "metadata": {},
   "outputs": [],
   "source": [
    "mod = lm(mpg~., data = mtcars)"
   ]
  },
  {
   "cell_type": "code",
   "execution_count": 33,
   "id": "6142d8e1",
   "metadata": {},
   "outputs": [
    {
     "data": {
      "text/plain": [
       "\n",
       "Call:\n",
       "lm(formula = mpg ~ ., data = mtcars)\n",
       "\n",
       "Coefficients:\n",
       "(Intercept)          cyl         disp           hp         drat           wt  \n",
       "   12.30337     -0.11144      0.01334     -0.02148      0.78711     -3.71530  \n",
       "       qsec           vs           am         gear         carb  \n",
       "    0.82104      0.31776      2.52023      0.65541     -0.19942  \n"
      ]
     },
     "metadata": {},
     "output_type": "display_data"
    }
   ],
   "source": [
    "mod"
   ]
  },
  {
   "cell_type": "code",
   "execution_count": 34,
   "id": "2a14a764",
   "metadata": {},
   "outputs": [],
   "source": [
    "data(PimaIndiansDiabetes)"
   ]
  },
  {
   "cell_type": "code",
   "execution_count": 35,
   "id": "f560e61f",
   "metadata": {},
   "outputs": [],
   "source": [
    "total = c(rep('A', 8), rep('B', 8), rep('C', 14))"
   ]
  },
  {
   "cell_type": "code",
   "execution_count": 36,
   "id": "7d2ff2eb",
   "metadata": {},
   "outputs": [
    {
     "data": {
      "text/html": [
       "<style>\n",
       ".list-inline {list-style: none; margin:0; padding: 0}\n",
       ".list-inline>li {display: inline-block}\n",
       ".list-inline>li:not(:last-child)::after {content: \"\\00b7\"; padding: 0 .5ex}\n",
       "</style>\n",
       "<ol class=list-inline><li>'A'</li><li>'A'</li><li>'A'</li><li>'A'</li><li>'A'</li><li>'A'</li><li>'A'</li><li>'A'</li><li>'B'</li><li>'B'</li><li>'B'</li><li>'B'</li><li>'B'</li><li>'B'</li><li>'B'</li><li>'B'</li><li>'C'</li><li>'C'</li><li>'C'</li><li>'C'</li><li>'C'</li><li>'C'</li><li>'C'</li><li>'C'</li><li>'C'</li><li>'C'</li><li>'C'</li><li>'C'</li><li>'C'</li><li>'C'</li></ol>\n"
      ],
      "text/latex": [
       "\\begin{enumerate*}\n",
       "\\item 'A'\n",
       "\\item 'A'\n",
       "\\item 'A'\n",
       "\\item 'A'\n",
       "\\item 'A'\n",
       "\\item 'A'\n",
       "\\item 'A'\n",
       "\\item 'A'\n",
       "\\item 'B'\n",
       "\\item 'B'\n",
       "\\item 'B'\n",
       "\\item 'B'\n",
       "\\item 'B'\n",
       "\\item 'B'\n",
       "\\item 'B'\n",
       "\\item 'B'\n",
       "\\item 'C'\n",
       "\\item 'C'\n",
       "\\item 'C'\n",
       "\\item 'C'\n",
       "\\item 'C'\n",
       "\\item 'C'\n",
       "\\item 'C'\n",
       "\\item 'C'\n",
       "\\item 'C'\n",
       "\\item 'C'\n",
       "\\item 'C'\n",
       "\\item 'C'\n",
       "\\item 'C'\n",
       "\\item 'C'\n",
       "\\end{enumerate*}\n"
      ],
      "text/markdown": [
       "1. 'A'\n",
       "2. 'A'\n",
       "3. 'A'\n",
       "4. 'A'\n",
       "5. 'A'\n",
       "6. 'A'\n",
       "7. 'A'\n",
       "8. 'A'\n",
       "9. 'B'\n",
       "10. 'B'\n",
       "11. 'B'\n",
       "12. 'B'\n",
       "13. 'B'\n",
       "14. 'B'\n",
       "15. 'B'\n",
       "16. 'B'\n",
       "17. 'C'\n",
       "18. 'C'\n",
       "19. 'C'\n",
       "20. 'C'\n",
       "21. 'C'\n",
       "22. 'C'\n",
       "23. 'C'\n",
       "24. 'C'\n",
       "25. 'C'\n",
       "26. 'C'\n",
       "27. 'C'\n",
       "28. 'C'\n",
       "29. 'C'\n",
       "30. 'C'\n",
       "\n",
       "\n"
      ],
      "text/plain": [
       " [1] \"A\" \"A\" \"A\" \"A\" \"A\" \"A\" \"A\" \"A\" \"B\" \"B\" \"B\" \"B\" \"B\" \"B\" \"B\" \"B\" \"C\" \"C\" \"C\"\n",
       "[20] \"C\" \"C\" \"C\" \"C\" \"C\" \"C\" \"C\" \"C\" \"C\" \"C\" \"C\""
      ]
     },
     "metadata": {},
     "output_type": "display_data"
    }
   ],
   "source": [
    "total"
   ]
  },
  {
   "cell_type": "code",
   "execution_count": 37,
   "id": "2013a7ac",
   "metadata": {},
   "outputs": [
    {
     "data": {
      "text/plain": [
       "total\n",
       " A  B  C \n",
       " 8  8 14 "
      ]
     },
     "metadata": {},
     "output_type": "display_data"
    }
   ],
   "source": [
    "table(total)"
   ]
  },
  {
   "cell_type": "markdown",
   "id": "15809876",
   "metadata": {},
   "source": [
    "# product = c(rep(\"찢어짐\", 22), rep('구멍 뚫림', 15), rep('기타', 8), rep('잘못 접혀짐', 5))"
   ]
  },
  {
   "cell_type": "code",
   "execution_count": 39,
   "id": "5ba88d34",
   "metadata": {},
   "outputs": [],
   "source": [
    "product = c(rep(\"찢어짐\", 22), rep('구멍 뚫림', 15), rep('기타', 8), rep('잘못 접혀짐', 5))"
   ]
  },
  {
   "cell_type": "code",
   "execution_count": 41,
   "id": "58824954",
   "metadata": {},
   "outputs": [
    {
     "data": {
      "text/html": [
       "<style>\n",
       ".list-inline {list-style: none; margin:0; padding: 0}\n",
       ".list-inline>li {display: inline-block}\n",
       ".list-inline>li:not(:last-child)::after {content: \"\\00b7\"; padding: 0 .5ex}\n",
       "</style>\n",
       "<ol class=list-inline><li>'찢어짐'</li><li>'찢어짐'</li><li>'찢어짐'</li><li>'찢어짐'</li><li>'찢어짐'</li><li>'찢어짐'</li><li>'찢어짐'</li><li>'찢어짐'</li><li>'찢어짐'</li><li>'찢어짐'</li><li>'찢어짐'</li><li>'찢어짐'</li><li>'찢어짐'</li><li>'찢어짐'</li><li>'찢어짐'</li><li>'찢어짐'</li><li>'찢어짐'</li><li>'찢어짐'</li><li>'찢어짐'</li><li>'찢어짐'</li><li>'찢어짐'</li><li>'찢어짐'</li><li>'구멍 뚫림'</li><li>'구멍 뚫림'</li><li>'구멍 뚫림'</li><li>'구멍 뚫림'</li><li>'구멍 뚫림'</li><li>'구멍 뚫림'</li><li>'구멍 뚫림'</li><li>'구멍 뚫림'</li><li>'구멍 뚫림'</li><li>'구멍 뚫림'</li><li>'구멍 뚫림'</li><li>'구멍 뚫림'</li><li>'구멍 뚫림'</li><li>'구멍 뚫림'</li><li>'구멍 뚫림'</li><li>'기타'</li><li>'기타'</li><li>'기타'</li><li>'기타'</li><li>'기타'</li><li>'기타'</li><li>'기타'</li><li>'기타'</li><li>'잘못 접혀짐'</li><li>'잘못 접혀짐'</li><li>'잘못 접혀짐'</li><li>'잘못 접혀짐'</li><li>'잘못 접혀짐'</li></ol>\n"
      ],
      "text/latex": [
       "\\begin{enumerate*}\n",
       "\\item '찢어짐'\n",
       "\\item '찢어짐'\n",
       "\\item '찢어짐'\n",
       "\\item '찢어짐'\n",
       "\\item '찢어짐'\n",
       "\\item '찢어짐'\n",
       "\\item '찢어짐'\n",
       "\\item '찢어짐'\n",
       "\\item '찢어짐'\n",
       "\\item '찢어짐'\n",
       "\\item '찢어짐'\n",
       "\\item '찢어짐'\n",
       "\\item '찢어짐'\n",
       "\\item '찢어짐'\n",
       "\\item '찢어짐'\n",
       "\\item '찢어짐'\n",
       "\\item '찢어짐'\n",
       "\\item '찢어짐'\n",
       "\\item '찢어짐'\n",
       "\\item '찢어짐'\n",
       "\\item '찢어짐'\n",
       "\\item '찢어짐'\n",
       "\\item '구멍 뚫림'\n",
       "\\item '구멍 뚫림'\n",
       "\\item '구멍 뚫림'\n",
       "\\item '구멍 뚫림'\n",
       "\\item '구멍 뚫림'\n",
       "\\item '구멍 뚫림'\n",
       "\\item '구멍 뚫림'\n",
       "\\item '구멍 뚫림'\n",
       "\\item '구멍 뚫림'\n",
       "\\item '구멍 뚫림'\n",
       "\\item '구멍 뚫림'\n",
       "\\item '구멍 뚫림'\n",
       "\\item '구멍 뚫림'\n",
       "\\item '구멍 뚫림'\n",
       "\\item '구멍 뚫림'\n",
       "\\item '기타'\n",
       "\\item '기타'\n",
       "\\item '기타'\n",
       "\\item '기타'\n",
       "\\item '기타'\n",
       "\\item '기타'\n",
       "\\item '기타'\n",
       "\\item '기타'\n",
       "\\item '잘못 접혀짐'\n",
       "\\item '잘못 접혀짐'\n",
       "\\item '잘못 접혀짐'\n",
       "\\item '잘못 접혀짐'\n",
       "\\item '잘못 접혀짐'\n",
       "\\end{enumerate*}\n"
      ],
      "text/markdown": [
       "1. '찢어짐'\n",
       "2. '찢어짐'\n",
       "3. '찢어짐'\n",
       "4. '찢어짐'\n",
       "5. '찢어짐'\n",
       "6. '찢어짐'\n",
       "7. '찢어짐'\n",
       "8. '찢어짐'\n",
       "9. '찢어짐'\n",
       "10. '찢어짐'\n",
       "11. '찢어짐'\n",
       "12. '찢어짐'\n",
       "13. '찢어짐'\n",
       "14. '찢어짐'\n",
       "15. '찢어짐'\n",
       "16. '찢어짐'\n",
       "17. '찢어짐'\n",
       "18. '찢어짐'\n",
       "19. '찢어짐'\n",
       "20. '찢어짐'\n",
       "21. '찢어짐'\n",
       "22. '찢어짐'\n",
       "23. '구멍 뚫림'\n",
       "24. '구멍 뚫림'\n",
       "25. '구멍 뚫림'\n",
       "26. '구멍 뚫림'\n",
       "27. '구멍 뚫림'\n",
       "28. '구멍 뚫림'\n",
       "29. '구멍 뚫림'\n",
       "30. '구멍 뚫림'\n",
       "31. '구멍 뚫림'\n",
       "32. '구멍 뚫림'\n",
       "33. '구멍 뚫림'\n",
       "34. '구멍 뚫림'\n",
       "35. '구멍 뚫림'\n",
       "36. '구멍 뚫림'\n",
       "37. '구멍 뚫림'\n",
       "38. '기타'\n",
       "39. '기타'\n",
       "40. '기타'\n",
       "41. '기타'\n",
       "42. '기타'\n",
       "43. '기타'\n",
       "44. '기타'\n",
       "45. '기타'\n",
       "46. '잘못 접혀짐'\n",
       "47. '잘못 접혀짐'\n",
       "48. '잘못 접혀짐'\n",
       "49. '잘못 접혀짐'\n",
       "50. '잘못 접혀짐'\n",
       "\n",
       "\n"
      ],
      "text/plain": [
       " [1] \"찢어짐\"      \"찢어짐\"      \"찢어짐\"      \"찢어짐\"      \"찢어짐\"     \n",
       " [6] \"찢어짐\"      \"찢어짐\"      \"찢어짐\"      \"찢어짐\"      \"찢어짐\"     \n",
       "[11] \"찢어짐\"      \"찢어짐\"      \"찢어짐\"      \"찢어짐\"      \"찢어짐\"     \n",
       "[16] \"찢어짐\"      \"찢어짐\"      \"찢어짐\"      \"찢어짐\"      \"찢어짐\"     \n",
       "[21] \"찢어짐\"      \"찢어짐\"      \"구멍 뚫림\"   \"구멍 뚫림\"   \"구멍 뚫림\"  \n",
       "[26] \"구멍 뚫림\"   \"구멍 뚫림\"   \"구멍 뚫림\"   \"구멍 뚫림\"   \"구멍 뚫림\"  \n",
       "[31] \"구멍 뚫림\"   \"구멍 뚫림\"   \"구멍 뚫림\"   \"구멍 뚫림\"   \"구멍 뚫림\"  \n",
       "[36] \"구멍 뚫림\"   \"구멍 뚫림\"   \"기타\"        \"기타\"        \"기타\"       \n",
       "[41] \"기타\"        \"기타\"        \"기타\"        \"기타\"        \"기타\"       \n",
       "[46] \"잘못 접혀짐\" \"잘못 접혀짐\" \"잘못 접혀짐\" \"잘못 접혀짐\" \"잘못 접혀짐\""
      ]
     },
     "metadata": {},
     "output_type": "display_data"
    }
   ],
   "source": [
    "product"
   ]
  },
  {
   "cell_type": "code",
   "execution_count": 42,
   "id": "f4eb31f1",
   "metadata": {},
   "outputs": [
    {
     "data": {
      "text/plain": [
       "product\n",
       "  구멍 뚫림        기타 잘못 접혀짐      찢어짐 \n",
       "         15           8           5          22 "
      ]
     },
     "metadata": {},
     "output_type": "display_data"
    }
   ],
   "source": [
    "table(product)"
   ]
  },
  {
   "cell_type": "code",
   "execution_count": 44,
   "id": "64bf49c1",
   "metadata": {},
   "outputs": [
    {
     "data": {
      "image/png": "[encoded data removed]",
      "text/plain": [
       "Plot with title \"불량품 막대그래프\""
      ]
     },
     "metadata": {
      "image/png": {
       "height": 420,
       "width": 420
      }
     },
     "output_type": "display_data"
    }
   ],
   "source": [
    "barplot(table(product), main = '불량품 막대그래프')"
   ]
  },
  {
   "cell_type": "code",
   "execution_count": 45,
   "id": "71eff4fa",
   "metadata": {},
   "outputs": [
    {
     "data": {
      "text/plain": [
       "survey\n",
       "FALSE  TRUE \n",
       "    4     6 "
      ]
     },
     "metadata": {},
     "output_type": "display_data"
    }
   ],
   "source": [
    "survey = c(T, F, T, F, T, F, F, T, T, T)\n",
    "table(survey)"
   ]
  },
  {
   "cell_type": "code",
   "execution_count": 47,
   "id": "88a77a73",
   "metadata": {},
   "outputs": [
    {
     "data": {
      "image/png": "[encoded data removed]",
      "text/plain": [
       "plot without title"
      ]
     },
     "metadata": {
      "image/png": {
       "height": 420,
       "width": 420
      }
     },
     "output_type": "display_data"
    }
   ],
   "source": [
    "barplot(table(survey), names = c('아니요', '예'))"
   ]
  },
  {
   "cell_type": "code",
   "execution_count": 50,
   "id": "5d532744",
   "metadata": {},
   "outputs": [
    {
     "name": "stderr",
     "output_type": "stream",
     "text": [
      "Warning message in text.default(1.1 * P$x, 1.1 * P$y, labels[i], xpd = TRUE, adj = ifelse(P$x < :\n",
      "\"\"names\" is not a graphical parameter\"\n",
      "Warning message in text.default(1.1 * P$x, 1.1 * P$y, labels[i], xpd = TRUE, adj = ifelse(P$x < :\n",
      "\"\"names\" is not a graphical parameter\"\n",
      "Warning message in title(main = main, ...):\n",
      "\"\"names\" is not a graphical parameter\"\n"
     ]
    },
    {
     "data": {
      "image/png": "[encoded data removed]",
      "text/plain": [
       "plot without title"
      ]
     },
     "metadata": {
      "image/png": {
       "height": 420,
       "width": 420
      }
     },
     "output_type": "display_data"
    }
   ],
   "source": [
    "pie(table(survey),\n",
    "   names = c(\"아니요\",'예'))"
   ]
  },
  {
   "cell_type": "code",
   "execution_count": 53,
   "id": "f550ee39",
   "metadata": {},
   "outputs": [
    {
     "data": {
      "image/png": "[encoded data removed]",
      "text/plain": [
       "plot without title"
      ]
     },
     "metadata": {
      "image/png": {
       "height": 420,
       "width": 420
      }
     },
     "output_type": "display_data"
    }
   ],
   "source": [
    "barplot(table(survey), horiz = T,\n",
    "       xlab = 'Freq',\n",
    "       ylab = 'Response')"
   ]
  },
  {
   "cell_type": "code",
   "execution_count": 56,
   "id": "d72bd392",
   "metadata": {},
   "outputs": [
    {
     "data": {
      "image/png": "[encoded data removed]",
      "text/plain": [
       "Plot with title \"Piebchart\""
      ]
     },
     "metadata": {
      "image/png": {
       "height": 420,
       "width": 420
      }
     },
     "output_type": "display_data"
    }
   ],
   "source": [
    "pie(table(survey),\n",
    "   main = 'Piebchart', sub = 'Response')"
   ]
  },
  {
   "cell_type": "code",
   "execution_count": 57,
   "id": "53e16050",
   "metadata": {},
   "outputs": [],
   "source": [
    "total = c(rep('낮은', 29), rep('중간', 17), rep('높은', 18))"
   ]
  },
  {
   "cell_type": "code",
   "execution_count": 58,
   "id": "0a9614ed",
   "metadata": {},
   "outputs": [
    {
     "data": {
      "text/html": [
       "<style>\n",
       ".list-inline {list-style: none; margin:0; padding: 0}\n",
       ".list-inline>li {display: inline-block}\n",
       ".list-inline>li:not(:last-child)::after {content: \"\\00b7\"; padding: 0 .5ex}\n",
       "</style>\n",
       "<ol class=list-inline><li>'낮은'</li><li>'낮은'</li><li>'낮은'</li><li>'낮은'</li><li>'낮은'</li><li>'낮은'</li><li>'낮은'</li><li>'낮은'</li><li>'낮은'</li><li>'낮은'</li><li>'낮은'</li><li>'낮은'</li><li>'낮은'</li><li>'낮은'</li><li>'낮은'</li><li>'낮은'</li><li>'낮은'</li><li>'낮은'</li><li>'낮은'</li><li>'낮은'</li><li>'낮은'</li><li>'낮은'</li><li>'낮은'</li><li>'낮은'</li><li>'낮은'</li><li>'낮은'</li><li>'낮은'</li><li>'낮은'</li><li>'낮은'</li><li>'중간'</li><li>'중간'</li><li>'중간'</li><li>'중간'</li><li>'중간'</li><li>'중간'</li><li>'중간'</li><li>'중간'</li><li>'중간'</li><li>'중간'</li><li>'중간'</li><li>'중간'</li><li>'중간'</li><li>'중간'</li><li>'중간'</li><li>'중간'</li><li>'중간'</li><li>'높은'</li><li>'높은'</li><li>'높은'</li><li>'높은'</li><li>'높은'</li><li>'높은'</li><li>'높은'</li><li>'높은'</li><li>'높은'</li><li>'높은'</li><li>'높은'</li><li>'높은'</li><li>'높은'</li><li>'높은'</li><li>'높은'</li><li>'높은'</li><li>'높은'</li><li>'높은'</li></ol>\n"
      ],
      "text/latex": [
       "\\begin{enumerate*}\n",
       "\\item '낮은'\n",
       "\\item '낮은'\n",
       "\\item '낮은'\n",
       "\\item '낮은'\n",
       "\\item '낮은'\n",
       "\\item '낮은'\n",
       "\\item '낮은'\n",
       "\\item '낮은'\n",
       "\\item '낮은'\n",
       "\\item '낮은'\n",
       "\\item '낮은'\n",
       "\\item '낮은'\n",
       "\\item '낮은'\n",
       "\\item '낮은'\n",
       "\\item '낮은'\n",
       "\\item '낮은'\n",
       "\\item '낮은'\n",
       "\\item '낮은'\n",
       "\\item '낮은'\n",
       "\\item '낮은'\n",
       "\\item '낮은'\n",
       "\\item '낮은'\n",
       "\\item '낮은'\n",
       "\\item '낮은'\n",
       "\\item '낮은'\n",
       "\\item '낮은'\n",
       "\\item '낮은'\n",
       "\\item '낮은'\n",
       "\\item '낮은'\n",
       "\\item '중간'\n",
       "\\item '중간'\n",
       "\\item '중간'\n",
       "\\item '중간'\n",
       "\\item '중간'\n",
       "\\item '중간'\n",
       "\\item '중간'\n",
       "\\item '중간'\n",
       "\\item '중간'\n",
       "\\item '중간'\n",
       "\\item '중간'\n",
       "\\item '중간'\n",
       "\\item '중간'\n",
       "\\item '중간'\n",
       "\\item '중간'\n",
       "\\item '중간'\n",
       "\\item '중간'\n",
       "\\item '높은'\n",
       "\\item '높은'\n",
       "\\item '높은'\n",
       "\\item '높은'\n",
       "\\item '높은'\n",
       "\\item '높은'\n",
       "\\item '높은'\n",
       "\\item '높은'\n",
       "\\item '높은'\n",
       "\\item '높은'\n",
       "\\item '높은'\n",
       "\\item '높은'\n",
       "\\item '높은'\n",
       "\\item '높은'\n",
       "\\item '높은'\n",
       "\\item '높은'\n",
       "\\item '높은'\n",
       "\\item '높은'\n",
       "\\end{enumerate*}\n"
      ],
      "text/markdown": [
       "1. '낮은'\n",
       "2. '낮은'\n",
       "3. '낮은'\n",
       "4. '낮은'\n",
       "5. '낮은'\n",
       "6. '낮은'\n",
       "7. '낮은'\n",
       "8. '낮은'\n",
       "9. '낮은'\n",
       "10. '낮은'\n",
       "11. '낮은'\n",
       "12. '낮은'\n",
       "13. '낮은'\n",
       "14. '낮은'\n",
       "15. '낮은'\n",
       "16. '낮은'\n",
       "17. '낮은'\n",
       "18. '낮은'\n",
       "19. '낮은'\n",
       "20. '낮은'\n",
       "21. '낮은'\n",
       "22. '낮은'\n",
       "23. '낮은'\n",
       "24. '낮은'\n",
       "25. '낮은'\n",
       "26. '낮은'\n",
       "27. '낮은'\n",
       "28. '낮은'\n",
       "29. '낮은'\n",
       "30. '중간'\n",
       "31. '중간'\n",
       "32. '중간'\n",
       "33. '중간'\n",
       "34. '중간'\n",
       "35. '중간'\n",
       "36. '중간'\n",
       "37. '중간'\n",
       "38. '중간'\n",
       "39. '중간'\n",
       "40. '중간'\n",
       "41. '중간'\n",
       "42. '중간'\n",
       "43. '중간'\n",
       "44. '중간'\n",
       "45. '중간'\n",
       "46. '중간'\n",
       "47. '높은'\n",
       "48. '높은'\n",
       "49. '높은'\n",
       "50. '높은'\n",
       "51. '높은'\n",
       "52. '높은'\n",
       "53. '높은'\n",
       "54. '높은'\n",
       "55. '높은'\n",
       "56. '높은'\n",
       "57. '높은'\n",
       "58. '높은'\n",
       "59. '높은'\n",
       "60. '높은'\n",
       "61. '높은'\n",
       "62. '높은'\n",
       "63. '높은'\n",
       "64. '높은'\n",
       "\n",
       "\n"
      ],
      "text/plain": [
       " [1] \"낮은\" \"낮은\" \"낮은\" \"낮은\" \"낮은\" \"낮은\" \"낮은\" \"낮은\" \"낮은\" \"낮은\"\n",
       "[11] \"낮은\" \"낮은\" \"낮은\" \"낮은\" \"낮은\" \"낮은\" \"낮은\" \"낮은\" \"낮은\" \"낮은\"\n",
       "[21] \"낮은\" \"낮은\" \"낮은\" \"낮은\" \"낮은\" \"낮은\" \"낮은\" \"낮은\" \"낮은\" \"중간\"\n",
       "[31] \"중간\" \"중간\" \"중간\" \"중간\" \"중간\" \"중간\" \"중간\" \"중간\" \"중간\" \"중간\"\n",
       "[41] \"중간\" \"중간\" \"중간\" \"중간\" \"중간\" \"중간\" \"높은\" \"높은\" \"높은\" \"높은\"\n",
       "[51] \"높은\" \"높은\" \"높은\" \"높은\" \"높은\" \"높은\" \"높은\" \"높은\" \"높은\" \"높은\"\n",
       "[61] \"높은\" \"높은\" \"높은\" \"높은\""
      ]
     },
     "metadata": {},
     "output_type": "display_data"
    }
   ],
   "source": [
    "total"
   ]
  },
  {
   "cell_type": "code",
   "execution_count": 59,
   "id": "0b9dd0e9",
   "metadata": {},
   "outputs": [
    {
     "data": {
      "image/png": "[encoded data removed]",
      "text/plain": [
       "plot without title"
      ]
     },
     "metadata": {
      "image/png": {
       "height": 420,
       "width": 420
      }
     },
     "output_type": "display_data"
    }
   ],
   "source": [
    "barplot(table(total))"
   ]
  },
  {
   "cell_type": "code",
   "execution_count": 60,
   "id": "f65d9c10",
   "metadata": {},
   "outputs": [],
   "source": [
    "mat1 = matrix(c(29, 17, 18, 19, 20, 9), ncol = 3, byrow = T)"
   ]
  },
  {
   "cell_type": "code",
   "execution_count": 61,
   "id": "487f92a1",
   "metadata": {},
   "outputs": [
    {
     "data": {
      "text/html": [
       "<table class=\"dataframe\">\n",
       "<caption>A matrix: 2 × 3 of type dbl</caption>\n",
       "<tbody>\n",
       "\t<tr><td>29</td><td>17</td><td>18</td></tr>\n",
       "\t<tr><td>19</td><td>20</td><td> 9</td></tr>\n",
       "</tbody>\n",
       "</table>\n"
      ],
      "text/latex": [
       "A matrix: 2 × 3 of type dbl\n",
       "\\begin{tabular}{lll}\n",
       "\t 29 & 17 & 18\\\\\n",
       "\t 19 & 20 &  9\\\\\n",
       "\\end{tabular}\n"
      ],
      "text/markdown": [
       "\n",
       "A matrix: 2 × 3 of type dbl\n",
       "\n",
       "| 29 | 17 | 18 |\n",
       "| 19 | 20 |  9 |\n",
       "\n"
      ],
      "text/plain": [
       "     [,1] [,2] [,3]\n",
       "[1,] 29   17   18  \n",
       "[2,] 19   20    9  "
      ]
     },
     "metadata": {},
     "output_type": "display_data"
    }
   ],
   "source": [
    "mat1"
   ]
  },
  {
   "cell_type": "code",
   "execution_count": 62,
   "id": "1dd5d99c",
   "metadata": {},
   "outputs": [],
   "source": [
    "dimnames(mat1)[[1]] = c('Not seri', 'seri')"
   ]
  },
  {
   "cell_type": "code",
   "execution_count": 63,
   "id": "94651d3d",
   "metadata": {},
   "outputs": [],
   "source": [
    "dimnames(mat1)[[2]] = c('Low','Mid','High')"
   ]
  },
  {
   "cell_type": "code",
   "execution_count": 64,
   "id": "0f7bb593",
   "metadata": {},
   "outputs": [
    {
     "data": {
      "text/html": [
       "<table class=\"dataframe\">\n",
       "<caption>A matrix: 2 × 3 of type dbl</caption>\n",
       "<thead>\n",
       "\t<tr><th></th><th scope=col>Low</th><th scope=col>Mid</th><th scope=col>High</th></tr>\n",
       "</thead>\n",
       "<tbody>\n",
       "\t<tr><th scope=row>Not seri</th><td>29</td><td>17</td><td>18</td></tr>\n",
       "\t<tr><th scope=row>seri</th><td>19</td><td>20</td><td> 9</td></tr>\n",
       "</tbody>\n",
       "</table>\n"
      ],
      "text/latex": [
       "A matrix: 2 × 3 of type dbl\n",
       "\\begin{tabular}{r|lll}\n",
       "  & Low & Mid & High\\\\\n",
       "\\hline\n",
       "\tNot seri & 29 & 17 & 18\\\\\n",
       "\tseri & 19 & 20 &  9\\\\\n",
       "\\end{tabular}\n"
      ],
      "text/markdown": [
       "\n",
       "A matrix: 2 × 3 of type dbl\n",
       "\n",
       "| <!--/--> | Low | Mid | High |\n",
       "|---|---|---|---|\n",
       "| Not seri | 29 | 17 | 18 |\n",
       "| seri | 19 | 20 |  9 |\n",
       "\n"
      ],
      "text/plain": [
       "         Low Mid High\n",
       "Not seri 29  17  18  \n",
       "seri     19  20   9  "
      ]
     },
     "metadata": {},
     "output_type": "display_data"
    }
   ],
   "source": [
    "mat1"
   ]
  },
  {
   "cell_type": "code",
   "execution_count": 65,
   "id": "4b3b41b3",
   "metadata": {},
   "outputs": [],
   "source": [
    "table1 = margin.table(mat1, 1)"
   ]
  },
  {
   "cell_type": "code",
   "execution_count": 66,
   "id": "a8dbaeb6",
   "metadata": {},
   "outputs": [
    {
     "data": {
      "text/html": [
       "<style>\n",
       ".dl-inline {width: auto; margin:0; padding: 0}\n",
       ".dl-inline>dt, .dl-inline>dd {float: none; width: auto; display: inline-block}\n",
       ".dl-inline>dt::after {content: \":\\0020\"; padding-right: .5ex}\n",
       ".dl-inline>dt:not(:first-of-type) {padding-left: .5ex}\n",
       "</style><dl class=dl-inline><dt>Not seri</dt><dd>64</dd><dt>seri</dt><dd>48</dd></dl>\n"
      ],
      "text/latex": [
       "\\begin{description*}\n",
       "\\item[Not seri] 64\n",
       "\\item[seri] 48\n",
       "\\end{description*}\n"
      ],
      "text/markdown": [
       "Not seri\n",
       ":   64seri\n",
       ":   48\n",
       "\n"
      ],
      "text/plain": [
       "Not seri     seri \n",
       "      64       48 "
      ]
     },
     "metadata": {},
     "output_type": "display_data"
    }
   ],
   "source": [
    "table1"
   ]
  },
  {
   "cell_type": "code",
   "execution_count": 67,
   "id": "ad667e11",
   "metadata": {},
   "outputs": [],
   "source": [
    "table2 = prop.table(table1)"
   ]
  },
  {
   "cell_type": "code",
   "execution_count": 68,
   "id": "6d6cbeb6",
   "metadata": {},
   "outputs": [
    {
     "data": {
      "text/html": [
       "<style>\n",
       ".dl-inline {width: auto; margin:0; padding: 0}\n",
       ".dl-inline>dt, .dl-inline>dd {float: none; width: auto; display: inline-block}\n",
       ".dl-inline>dt::after {content: \":\\0020\"; padding-right: .5ex}\n",
       ".dl-inline>dt:not(:first-of-type) {padding-left: .5ex}\n",
       "</style><dl class=dl-inline><dt>Not seri</dt><dd>0.571428571428571</dd><dt>seri</dt><dd>0.428571428571429</dd></dl>\n"
      ],
      "text/latex": [
       "\\begin{description*}\n",
       "\\item[Not seri] 0.571428571428571\n",
       "\\item[seri] 0.428571428571429\n",
       "\\end{description*}\n"
      ],
      "text/markdown": [
       "Not seri\n",
       ":   0.571428571428571seri\n",
       ":   0.428571428571429\n",
       "\n"
      ],
      "text/plain": [
       " Not seri      seri \n",
       "0.5714286 0.4285714 "
      ]
     },
     "metadata": {},
     "output_type": "display_data"
    }
   ],
   "source": [
    "table2"
   ]
  },
  {
   "cell_type": "code",
   "execution_count": 69,
   "id": "ff67e1ce",
   "metadata": {},
   "outputs": [
    {
     "data": {
      "image/png": "[encoded data removed]",
      "text/plain": [
       "plot without title"
      ]
     },
     "metadata": {
      "image/png": {
       "height": 420,
       "width": 420
      }
     },
     "output_type": "display_data"
    }
   ],
   "source": [
    "barplot(table2)"
   ]
  },
  {
   "cell_type": "code",
   "execution_count": 70,
   "id": "0402969c",
   "metadata": {},
   "outputs": [],
   "source": [
    "table1 = margin.table(mat1, 2)"
   ]
  },
  {
   "cell_type": "code",
   "execution_count": 71,
   "id": "c4ed3de0",
   "metadata": {},
   "outputs": [
    {
     "data": {
      "text/html": [
       "<style>\n",
       ".dl-inline {width: auto; margin:0; padding: 0}\n",
       ".dl-inline>dt, .dl-inline>dd {float: none; width: auto; display: inline-block}\n",
       ".dl-inline>dt::after {content: \":\\0020\"; padding-right: .5ex}\n",
       ".dl-inline>dt:not(:first-of-type) {padding-left: .5ex}\n",
       "</style><dl class=dl-inline><dt>Low</dt><dd>48</dd><dt>Mid</dt><dd>37</dd><dt>High</dt><dd>27</dd></dl>\n"
      ],
      "text/latex": [
       "\\begin{description*}\n",
       "\\item[Low] 48\n",
       "\\item[Mid] 37\n",
       "\\item[High] 27\n",
       "\\end{description*}\n"
      ],
      "text/markdown": [
       "Low\n",
       ":   48Mid\n",
       ":   37High\n",
       ":   27\n",
       "\n"
      ],
      "text/plain": [
       " Low  Mid High \n",
       "  48   37   27 "
      ]
     },
     "metadata": {},
     "output_type": "display_data"
    }
   ],
   "source": [
    "table1"
   ]
  },
  {
   "cell_type": "code",
   "execution_count": 72,
   "id": "2e9abf43",
   "metadata": {},
   "outputs": [],
   "source": [
    "table2 = prop.table(table1)"
   ]
  },
  {
   "cell_type": "code",
   "execution_count": 73,
   "id": "91bb486e",
   "metadata": {},
   "outputs": [
    {
     "data": {
      "text/html": [
       "<style>\n",
       ".dl-inline {width: auto; margin:0; padding: 0}\n",
       ".dl-inline>dt, .dl-inline>dd {float: none; width: auto; display: inline-block}\n",
       ".dl-inline>dt::after {content: \":\\0020\"; padding-right: .5ex}\n",
       ".dl-inline>dt:not(:first-of-type) {padding-left: .5ex}\n",
       "</style><dl class=dl-inline><dt>Low</dt><dd>0.428571428571429</dd><dt>Mid</dt><dd>0.330357142857143</dd><dt>High</dt><dd>0.241071428571429</dd></dl>\n"
      ],
      "text/latex": [
       "\\begin{description*}\n",
       "\\item[Low] 0.428571428571429\n",
       "\\item[Mid] 0.330357142857143\n",
       "\\item[High] 0.241071428571429\n",
       "\\end{description*}\n"
      ],
      "text/markdown": [
       "Low\n",
       ":   0.428571428571429Mid\n",
       ":   0.330357142857143High\n",
       ":   0.241071428571429\n",
       "\n"
      ],
      "text/plain": [
       "      Low       Mid      High \n",
       "0.4285714 0.3303571 0.2410714 "
      ]
     },
     "metadata": {},
     "output_type": "display_data"
    }
   ],
   "source": [
    "table2"
   ]
  },
  {
   "cell_type": "code",
   "execution_count": 74,
   "id": "da099469",
   "metadata": {},
   "outputs": [
    {
     "data": {
      "image/png": "[encoded data removed]",
      "text/plain": [
       "plot without title"
      ]
     },
     "metadata": {
      "image/png": {
       "height": 420,
       "width": 420
      }
     },
     "output_type": "display_data"
    }
   ],
   "source": [
    "barplot(table2)"
   ]
  },
  {
   "cell_type": "code",
   "execution_count": 75,
   "id": "3b1b373b",
   "metadata": {},
   "outputs": [
    {
     "name": "stderr",
     "output_type": "stream",
     "text": [
      "Warning message in matrix(c(137, 153, 22, 34, 30, 40, 67, 68), nrow = 3, byrow = F):\n",
      "\"data length [8] is not a sub-multiple or multiple of the number of rows [3]\"\n"
     ]
    }
   ],
   "source": [
    "mat1 = matrix(c(137, 153, 22, 34, 30, 40, 67, 68), nrow =3, byrow=F)"
   ]
  },
  {
   "cell_type": "code",
   "execution_count": 76,
   "id": "2287d9ef",
   "metadata": {},
   "outputs": [
    {
     "data": {
      "text/html": [
       "<table class=\"dataframe\">\n",
       "<caption>A matrix: 3 × 3 of type dbl</caption>\n",
       "<tbody>\n",
       "\t<tr><td>137</td><td>34</td><td> 67</td></tr>\n",
       "\t<tr><td>153</td><td>30</td><td> 68</td></tr>\n",
       "\t<tr><td> 22</td><td>40</td><td>137</td></tr>\n",
       "</tbody>\n",
       "</table>\n"
      ],
      "text/latex": [
       "A matrix: 3 × 3 of type dbl\n",
       "\\begin{tabular}{lll}\n",
       "\t 137 & 34 &  67\\\\\n",
       "\t 153 & 30 &  68\\\\\n",
       "\t  22 & 40 & 137\\\\\n",
       "\\end{tabular}\n"
      ],
      "text/markdown": [
       "\n",
       "A matrix: 3 × 3 of type dbl\n",
       "\n",
       "| 137 | 34 |  67 |\n",
       "| 153 | 30 |  68 |\n",
       "|  22 | 40 | 137 |\n",
       "\n"
      ],
      "text/plain": [
       "     [,1] [,2] [,3]\n",
       "[1,] 137  34    67 \n",
       "[2,] 153  30    68 \n",
       "[3,]  22  40   137 "
      ]
     },
     "metadata": {},
     "output_type": "display_data"
    }
   ],
   "source": [
    "mat1"
   ]
  },
  {
   "cell_type": "code",
   "execution_count": 77,
   "id": "07698a40",
   "metadata": {},
   "outputs": [],
   "source": [
    "dimnames(mat1)[[1]] = c('< 25','25 ~ 28', '> 28')"
   ]
  },
  {
   "cell_type": "code",
   "execution_count": 78,
   "id": "637264d7",
   "metadata": {},
   "outputs": [],
   "source": [
    "dimnames(mat1)[[2]] = c('none','fore','crown')"
   ]
  },
  {
   "cell_type": "code",
   "execution_count": 80,
   "id": "57934db1",
   "metadata": {},
   "outputs": [],
   "source": [
    "mat2 = prop.table(mat1, 1)"
   ]
  },
  {
   "cell_type": "code",
   "execution_count": 81,
   "id": "8d9b0606",
   "metadata": {},
   "outputs": [
    {
     "data": {
      "text/html": [
       "<table class=\"dataframe\">\n",
       "<caption>A matrix: 3 × 3 of type dbl</caption>\n",
       "<thead>\n",
       "\t<tr><th></th><th scope=col>none</th><th scope=col>fore</th><th scope=col>crown</th></tr>\n",
       "</thead>\n",
       "<tbody>\n",
       "\t<tr><th scope=row>&lt; 25</th><td>0.5756303</td><td>0.1428571</td><td>0.2815126</td></tr>\n",
       "\t<tr><th scope=row>25 ~ 28</th><td>0.6095618</td><td>0.1195219</td><td>0.2709163</td></tr>\n",
       "\t<tr><th scope=row>&gt; 28</th><td>0.1105528</td><td>0.2010050</td><td>0.6884422</td></tr>\n",
       "</tbody>\n",
       "</table>\n"
      ],
      "text/latex": [
       "A matrix: 3 × 3 of type dbl\n",
       "\\begin{tabular}{r|lll}\n",
       "  & none & fore & crown\\\\\n",
       "\\hline\n",
       "\t< 25 & 0.5756303 & 0.1428571 & 0.2815126\\\\\n",
       "\t25 \\textasciitilde{} 28 & 0.6095618 & 0.1195219 & 0.2709163\\\\\n",
       "\t> 28 & 0.1105528 & 0.2010050 & 0.6884422\\\\\n",
       "\\end{tabular}\n"
      ],
      "text/markdown": [
       "\n",
       "A matrix: 3 × 3 of type dbl\n",
       "\n",
       "| <!--/--> | none | fore | crown |\n",
       "|---|---|---|---|\n",
       "| &lt; 25 | 0.5756303 | 0.1428571 | 0.2815126 |\n",
       "| 25 ~ 28 | 0.6095618 | 0.1195219 | 0.2709163 |\n",
       "| &gt; 28 | 0.1105528 | 0.2010050 | 0.6884422 |\n",
       "\n"
      ],
      "text/plain": [
       "        none      fore      crown    \n",
       "< 25    0.5756303 0.1428571 0.2815126\n",
       "25 ~ 28 0.6095618 0.1195219 0.2709163\n",
       "> 28    0.1105528 0.2010050 0.6884422"
      ]
     },
     "metadata": {},
     "output_type": "display_data"
    }
   ],
   "source": [
    "mat2"
   ]
  },
  {
   "cell_type": "code",
   "execution_count": 83,
   "id": "03a800c7",
   "metadata": {},
   "outputs": [
    {
     "data": {
      "image/png": "[encoded data removed]",
      "text/plain": [
       "Plot with title \"신체 용적 지수에 따른 막대그래프\""
      ]
     },
     "metadata": {
      "image/png": {
       "height": 420,
       "width": 420
      }
     },
     "output_type": "display_data"
    }
   ],
   "source": [
    "barplot(t(mat2), legend.text = T, beside = T,\n",
    "       main = '신체 용적 지수에 따른 막대그래프')"
   ]
  },
  {
   "cell_type": "code",
   "execution_count": 84,
   "id": "d7a6467d",
   "metadata": {},
   "outputs": [],
   "source": [
    "class = c(rep('baseball', 7), rep('basketball', 10),rep('Afootball', 6), rep('Hockey', 2), rep('tenniss', 5), rep('soccor', 5))"
   ]
  },
  {
   "cell_type": "code",
   "execution_count": 85,
   "id": "ded39860",
   "metadata": {},
   "outputs": [
    {
     "data": {
      "text/html": [
       "<style>\n",
       ".list-inline {list-style: none; margin:0; padding: 0}\n",
       ".list-inline>li {display: inline-block}\n",
       ".list-inline>li:not(:last-child)::after {content: \"\\00b7\"; padding: 0 .5ex}\n",
       "</style>\n",
       "<ol class=list-inline><li>'baseball'</li><li>'baseball'</li><li>'baseball'</li><li>'baseball'</li><li>'baseball'</li><li>'baseball'</li><li>'baseball'</li><li>'basketball'</li><li>'basketball'</li><li>'basketball'</li><li>'basketball'</li><li>'basketball'</li><li>'basketball'</li><li>'basketball'</li><li>'basketball'</li><li>'basketball'</li><li>'basketball'</li><li>'Afootball'</li><li>'Afootball'</li><li>'Afootball'</li><li>'Afootball'</li><li>'Afootball'</li><li>'Afootball'</li><li>'Hockey'</li><li>'Hockey'</li><li>'tenniss'</li><li>'tenniss'</li><li>'tenniss'</li><li>'tenniss'</li><li>'tenniss'</li><li>'soccor'</li><li>'soccor'</li><li>'soccor'</li><li>'soccor'</li><li>'soccor'</li></ol>\n"
      ],
      "text/latex": [
       "\\begin{enumerate*}\n",
       "\\item 'baseball'\n",
       "\\item 'baseball'\n",
       "\\item 'baseball'\n",
       "\\item 'baseball'\n",
       "\\item 'baseball'\n",
       "\\item 'baseball'\n",
       "\\item 'baseball'\n",
       "\\item 'basketball'\n",
       "\\item 'basketball'\n",
       "\\item 'basketball'\n",
       "\\item 'basketball'\n",
       "\\item 'basketball'\n",
       "\\item 'basketball'\n",
       "\\item 'basketball'\n",
       "\\item 'basketball'\n",
       "\\item 'basketball'\n",
       "\\item 'basketball'\n",
       "\\item 'Afootball'\n",
       "\\item 'Afootball'\n",
       "\\item 'Afootball'\n",
       "\\item 'Afootball'\n",
       "\\item 'Afootball'\n",
       "\\item 'Afootball'\n",
       "\\item 'Hockey'\n",
       "\\item 'Hockey'\n",
       "\\item 'tenniss'\n",
       "\\item 'tenniss'\n",
       "\\item 'tenniss'\n",
       "\\item 'tenniss'\n",
       "\\item 'tenniss'\n",
       "\\item 'soccor'\n",
       "\\item 'soccor'\n",
       "\\item 'soccor'\n",
       "\\item 'soccor'\n",
       "\\item 'soccor'\n",
       "\\end{enumerate*}\n"
      ],
      "text/markdown": [
       "1. 'baseball'\n",
       "2. 'baseball'\n",
       "3. 'baseball'\n",
       "4. 'baseball'\n",
       "5. 'baseball'\n",
       "6. 'baseball'\n",
       "7. 'baseball'\n",
       "8. 'basketball'\n",
       "9. 'basketball'\n",
       "10. 'basketball'\n",
       "11. 'basketball'\n",
       "12. 'basketball'\n",
       "13. 'basketball'\n",
       "14. 'basketball'\n",
       "15. 'basketball'\n",
       "16. 'basketball'\n",
       "17. 'basketball'\n",
       "18. 'Afootball'\n",
       "19. 'Afootball'\n",
       "20. 'Afootball'\n",
       "21. 'Afootball'\n",
       "22. 'Afootball'\n",
       "23. 'Afootball'\n",
       "24. 'Hockey'\n",
       "25. 'Hockey'\n",
       "26. 'tenniss'\n",
       "27. 'tenniss'\n",
       "28. 'tenniss'\n",
       "29. 'tenniss'\n",
       "30. 'tenniss'\n",
       "31. 'soccor'\n",
       "32. 'soccor'\n",
       "33. 'soccor'\n",
       "34. 'soccor'\n",
       "35. 'soccor'\n",
       "\n",
       "\n"
      ],
      "text/plain": [
       " [1] \"baseball\"   \"baseball\"   \"baseball\"   \"baseball\"   \"baseball\"  \n",
       " [6] \"baseball\"   \"baseball\"   \"basketball\" \"basketball\" \"basketball\"\n",
       "[11] \"basketball\" \"basketball\" \"basketball\" \"basketball\" \"basketball\"\n",
       "[16] \"basketball\" \"basketball\" \"Afootball\"  \"Afootball\"  \"Afootball\" \n",
       "[21] \"Afootball\"  \"Afootball\"  \"Afootball\"  \"Hockey\"     \"Hockey\"    \n",
       "[26] \"tenniss\"    \"tenniss\"    \"tenniss\"    \"tenniss\"    \"tenniss\"   \n",
       "[31] \"soccor\"     \"soccor\"     \"soccor\"     \"soccor\"     \"soccor\"    "
      ]
     },
     "metadata": {},
     "output_type": "display_data"
    }
   ],
   "source": [
    "class"
   ]
  },
  {
   "cell_type": "code",
   "execution_count": 86,
   "id": "e3dc6305",
   "metadata": {},
   "outputs": [],
   "source": [
    "table_class = table(class)"
   ]
  },
  {
   "cell_type": "code",
   "execution_count": 87,
   "id": "11ced72f",
   "metadata": {},
   "outputs": [
    {
     "data": {
      "text/plain": [
       "class\n",
       " Afootball   baseball basketball     Hockey     soccor    tenniss \n",
       "         6          7         10          2          5          5 "
      ]
     },
     "metadata": {},
     "output_type": "display_data"
    }
   ],
   "source": [
    "table_class"
   ]
  },
  {
   "cell_type": "code",
   "execution_count": 88,
   "id": "ce0c4718",
   "metadata": {},
   "outputs": [
    {
     "name": "stderr",
     "output_type": "stream",
     "text": [
      "Warning message in dotchart(table_class, main = \"dot chart\", xlab = \"count\"):\n",
      "\"'x' is neither a vector nor a matrix: using as.numeric(x)\"\n"
     ]
    },
    {
     "data": {
      "image/png": "[encoded data removed]",
      "text/plain": [
       "Plot with title \"dot chart\""
      ]
     },
     "metadata": {
      "image/png": {
       "height": 420,
       "width": 420
      }
     },
     "output_type": "display_data"
    }
   ],
   "source": [
    "dotchart(table_class, main = 'dot chart', xlab = 'count')"
   ]
  },
  {
   "cell_type": "code",
   "execution_count": 91,
   "id": "f52d80f9",
   "metadata": {},
   "outputs": [
    {
     "data": {
      "image/png": "[encoded data removed]",
      "text/plain": [
       "Plot with title \"dot plot\""
      ]
     },
     "metadata": {
      "image/png": {
       "height": 420,
       "width": 420
      }
     },
     "output_type": "display_data"
    }
   ],
   "source": [
    "plot(table(class), type ='p', main ='dot plot', ylab = 'count',\n",
    "    las = 1)"
   ]
  },
  {
   "cell_type": "code",
   "execution_count": 98,
   "id": "07ab15b1",
   "metadata": {},
   "outputs": [
    {
     "data": {
      "text/html": [
       "<style>\n",
       ".list-inline {list-style: none; margin:0; padding: 0}\n",
       ".list-inline>li {display: inline-block}\n",
       ".list-inline>li:not(:last-child)::after {content: \"\\00b7\"; padding: 0 .5ex}\n",
       "</style>\n",
       "<ol class=list-inline><li>6</li><li>25</li><li>6</li><li>8</li><li>23</li><li>27</li><li>14</li><li>10</li><li>18</li><li>27</li><li>24</li><li>10</li><li>23</li><li>8</li><li>9</li><li>13</li><li>11</li><li>12</li><li>5</li><li>17</li><li>14</li><li>15</li><li>16</li><li>24</li><li>9</li><li>19</li><li>16</li><li>14</li><li>12</li></ol>\n"
      ],
      "text/latex": [
       "\\begin{enumerate*}\n",
       "\\item 6\n",
       "\\item 25\n",
       "\\item 6\n",
       "\\item 8\n",
       "\\item 23\n",
       "\\item 27\n",
       "\\item 14\n",
       "\\item 10\n",
       "\\item 18\n",
       "\\item 27\n",
       "\\item 24\n",
       "\\item 10\n",
       "\\item 23\n",
       "\\item 8\n",
       "\\item 9\n",
       "\\item 13\n",
       "\\item 11\n",
       "\\item 12\n",
       "\\item 5\n",
       "\\item 17\n",
       "\\item 14\n",
       "\\item 15\n",
       "\\item 16\n",
       "\\item 24\n",
       "\\item 9\n",
       "\\item 19\n",
       "\\item 16\n",
       "\\item 14\n",
       "\\item 12\n",
       "\\end{enumerate*}\n"
      ],
      "text/markdown": [
       "1. 6\n",
       "2. 25\n",
       "3. 6\n",
       "4. 8\n",
       "5. 23\n",
       "6. 27\n",
       "7. 14\n",
       "8. 10\n",
       "9. 18\n",
       "10. 27\n",
       "11. 24\n",
       "12. 10\n",
       "13. 23\n",
       "14. 8\n",
       "15. 9\n",
       "16. 13\n",
       "17. 11\n",
       "18. 12\n",
       "19. 5\n",
       "20. 17\n",
       "21. 14\n",
       "22. 15\n",
       "23. 16\n",
       "24. 24\n",
       "25. 9\n",
       "26. 19\n",
       "27. 16\n",
       "28. 14\n",
       "29. 12\n",
       "\n",
       "\n"
      ],
      "text/plain": [
       " [1]  6 25  6  8 23 27 14 10 18 27 24 10 23  8  9 13 11 12  5 17 14 15 16 24  9\n",
       "[26] 19 16 14 12"
      ]
     },
     "metadata": {},
     "output_type": "display_data"
    },
    {
     "name": "stdout",
     "output_type": "stream",
     "text": [
      "\n",
      "  The decimal point is at the |\n",
      "\n",
      "   4 | 0\n",
      "   6 | 00\n",
      "   8 | 0000\n",
      "  10 | 000\n",
      "  12 | 000\n",
      "  14 | 0000\n",
      "  16 | 000\n",
      "  18 | 00\n",
      "  20 | \n",
      "  22 | 00\n",
      "  24 | 000\n",
      "  26 | 00\n",
      "\n"
     ]
    }
   ],
   "source": [
    "time = c(6,25, 6, 8,23, 27, 14, 10, 18, 27, 24, 10, 23, 8, 9, 13, 11, 12, 5, 17, 14, 15, 16, 24, 9, 19, 16, 14, 12)\n",
    "time\n",
    "stem(time)"
   ]
  },
  {
   "cell_type": "code",
   "execution_count": 93,
   "id": "de00ccc2",
   "metadata": {},
   "outputs": [
    {
     "data": {
      "text/plain": [
       "time\n",
       " 5  6  8  9 10 11 12 13 14 15 16 17 18 19 23 24 25 27 \n",
       " 1  2  2  2  2  1  2  1  3  1  2  1  1  1  2  2  1  2 "
      ]
     },
     "metadata": {},
     "output_type": "display_data"
    }
   ],
   "source": [
    "table(time)"
   ]
  },
  {
   "cell_type": "code",
   "execution_count": 94,
   "id": "f14cd654",
   "metadata": {},
   "outputs": [
    {
     "name": "stdout",
     "output_type": "stream",
     "text": [
      "\n",
      "  The decimal point is at the |\n",
      "\n",
      "   4 | 0\n",
      "   6 | 00\n",
      "   8 | 0000\n",
      "  10 | 000\n",
      "  12 | 000\n",
      "  14 | 0000\n",
      "  16 | 000\n",
      "  18 | 00\n",
      "  20 | \n",
      "  22 | 00\n",
      "  24 | 000\n",
      "  26 | 00\n",
      "\n"
     ]
    }
   ],
   "source": [
    "stem(time)"
   ]
  },
  {
   "cell_type": "code",
   "execution_count": 95,
   "id": "f6e50ca8",
   "metadata": {},
   "outputs": [
    {
     "name": "stdout",
     "output_type": "stream",
     "text": [
      "\n",
      "  The decimal point is 1 digit(s) to the right of the |\n",
      "\n",
      "  1 | 0\n",
      "  1 | \n",
      "  2 | 014\n",
      "\n"
     ]
    }
   ],
   "source": [
    "time = c(20, 10, 21, 24)\n",
    "stem(time)"
   ]
  },
  {
   "cell_type": "code",
   "execution_count": 99,
   "id": "cfe6fdf4",
   "metadata": {},
   "outputs": [],
   "source": [
    "time = c(15, 8, 23, 21, 5, 17, 31, 22, 34, 6, 5, 10, 14, 17, 16, 25, 30, 3, 31, 19)"
   ]
  },
  {
   "cell_type": "code",
   "execution_count": 101,
   "id": "86eca9f3",
   "metadata": {},
   "outputs": [
    {
     "data": {
      "text/html": [
       "<style>\n",
       ".list-inline {list-style: none; margin:0; padding: 0}\n",
       ".list-inline>li {display: inline-block}\n",
       ".list-inline>li:not(:last-child)::after {content: \"\\00b7\"; padding: 0 .5ex}\n",
       "</style>\n",
       "<ol class=list-inline><li>15</li><li>8</li><li>23</li><li>21</li><li>5</li><li>17</li><li>31</li><li>22</li><li>34</li><li>6</li><li>5</li><li>10</li><li>14</li><li>17</li><li>16</li><li>25</li><li>30</li><li>3</li><li>31</li><li>19</li></ol>\n"
      ],
      "text/latex": [
       "\\begin{enumerate*}\n",
       "\\item 15\n",
       "\\item 8\n",
       "\\item 23\n",
       "\\item 21\n",
       "\\item 5\n",
       "\\item 17\n",
       "\\item 31\n",
       "\\item 22\n",
       "\\item 34\n",
       "\\item 6\n",
       "\\item 5\n",
       "\\item 10\n",
       "\\item 14\n",
       "\\item 17\n",
       "\\item 16\n",
       "\\item 25\n",
       "\\item 30\n",
       "\\item 3\n",
       "\\item 31\n",
       "\\item 19\n",
       "\\end{enumerate*}\n"
      ],
      "text/markdown": [
       "1. 15\n",
       "2. 8\n",
       "3. 23\n",
       "4. 21\n",
       "5. 5\n",
       "6. 17\n",
       "7. 31\n",
       "8. 22\n",
       "9. 34\n",
       "10. 6\n",
       "11. 5\n",
       "12. 10\n",
       "13. 14\n",
       "14. 17\n",
       "15. 16\n",
       "16. 25\n",
       "17. 30\n",
       "18. 3\n",
       "19. 31\n",
       "20. 19\n",
       "\n",
       "\n"
      ],
      "text/plain": [
       " [1] 15  8 23 21  5 17 31 22 34  6  5 10 14 17 16 25 30  3 31 19"
      ]
     },
     "metadata": {},
     "output_type": "display_data"
    }
   ],
   "source": [
    "time"
   ]
  },
  {
   "cell_type": "code",
   "execution_count": 100,
   "id": "b68069e8",
   "metadata": {},
   "outputs": [
    {
     "name": "stdout",
     "output_type": "stream",
     "text": [
      "\n",
      "  The decimal point is 1 digit(s) to the right of the |\n",
      "\n",
      "  0 | 35568\n",
      "  1 | 0456779\n",
      "  2 | 1235\n",
      "  3 | 0114\n",
      "\n"
     ]
    }
   ],
   "source": [
    "stem(time)"
   ]
  },
  {
   "cell_type": "code",
   "execution_count": 102,
   "id": "ef36bd35",
   "metadata": {},
   "outputs": [
    {
     "data": {
      "text/html": [
       "<style>\n",
       ".list-inline {list-style: none; margin:0; padding: 0}\n",
       ".list-inline>li {display: inline-block}\n",
       ".list-inline>li:not(:last-child)::after {content: \"\\00b7\"; padding: 0 .5ex}\n",
       "</style>\n",
       "<ol class=list-inline><li>158</li><li>184</li><li>171</li><li>158</li><li>182</li><li>163</li><li>172</li><li>173</li><li>151</li><li>157</li><li>172</li><li>156</li><li>152</li><li>168</li><li>169</li><li>176</li><li>173</li><li>178</li><li>179</li><li>157</li><li>151</li><li>175</li><li>182</li><li>182</li><li>161</li><li>174</li><li>174</li><li>180</li><li>173</li><li>162</li><li>170</li><li>156</li><li>173</li><li>156</li><li>161</li><li>170</li><li>185</li><li>158</li><li>165</li><li>150</li><li>173</li><li>162</li><li>183</li><li>180</li><li>169</li><li>179</li><li>169</li><li>179</li><li>157</li><li>168</li><li>167</li><li>169</li><li>161</li><li>183</li><li>159</li><li>164</li><li>153</li><li>181</li><li>168</li><li>183</li><li>180</li><li>171</li><li>161</li><li>167</li><li>161</li><li>181</li><li>176</li><li>150</li><li>156</li><li>172</li><li>168</li><li>156</li><li>151</li><li>150</li><li>172</li><li>158</li><li>160</li><li>184</li><li>157</li><li>150</li><li>151</li><li>163</li><li>161</li><li>171</li><li>151</li><li>167</li><li>175</li><li>171</li><li>154</li><li>158</li><li>166</li><li>170</li><li>162</li><li>174</li><li>176</li><li>170</li><li>180</li><li>162</li><li>155</li></ol>\n"
      ],
      "text/latex": [
       "\\begin{enumerate*}\n",
       "\\item 158\n",
       "\\item 184\n",
       "\\item 171\n",
       "\\item 158\n",
       "\\item 182\n",
       "\\item 163\n",
       "\\item 172\n",
       "\\item 173\n",
       "\\item 151\n",
       "\\item 157\n",
       "\\item 172\n",
       "\\item 156\n",
       "\\item 152\n",
       "\\item 168\n",
       "\\item 169\n",
       "\\item 176\n",
       "\\item 173\n",
       "\\item 178\n",
       "\\item 179\n",
       "\\item 157\n",
       "\\item 151\n",
       "\\item 175\n",
       "\\item 182\n",
       "\\item 182\n",
       "\\item 161\n",
       "\\item 174\n",
       "\\item 174\n",
       "\\item 180\n",
       "\\item 173\n",
       "\\item 162\n",
       "\\item 170\n",
       "\\item 156\n",
       "\\item 173\n",
       "\\item 156\n",
       "\\item 161\n",
       "\\item 170\n",
       "\\item 185\n",
       "\\item 158\n",
       "\\item 165\n",
       "\\item 150\n",
       "\\item 173\n",
       "\\item 162\n",
       "\\item 183\n",
       "\\item 180\n",
       "\\item 169\n",
       "\\item 179\n",
       "\\item 169\n",
       "\\item 179\n",
       "\\item 157\n",
       "\\item 168\n",
       "\\item 167\n",
       "\\item 169\n",
       "\\item 161\n",
       "\\item 183\n",
       "\\item 159\n",
       "\\item 164\n",
       "\\item 153\n",
       "\\item 181\n",
       "\\item 168\n",
       "\\item 183\n",
       "\\item 180\n",
       "\\item 171\n",
       "\\item 161\n",
       "\\item 167\n",
       "\\item 161\n",
       "\\item 181\n",
       "\\item 176\n",
       "\\item 150\n",
       "\\item 156\n",
       "\\item 172\n",
       "\\item 168\n",
       "\\item 156\n",
       "\\item 151\n",
       "\\item 150\n",
       "\\item 172\n",
       "\\item 158\n",
       "\\item 160\n",
       "\\item 184\n",
       "\\item 157\n",
       "\\item 150\n",
       "\\item 151\n",
       "\\item 163\n",
       "\\item 161\n",
       "\\item 171\n",
       "\\item 151\n",
       "\\item 167\n",
       "\\item 175\n",
       "\\item 171\n",
       "\\item 154\n",
       "\\item 158\n",
       "\\item 166\n",
       "\\item 170\n",
       "\\item 162\n",
       "\\item 174\n",
       "\\item 176\n",
       "\\item 170\n",
       "\\item 180\n",
       "\\item 162\n",
       "\\item 155\n",
       "\\end{enumerate*}\n"
      ],
      "text/markdown": [
       "1. 158\n",
       "2. 184\n",
       "3. 171\n",
       "4. 158\n",
       "5. 182\n",
       "6. 163\n",
       "7. 172\n",
       "8. 173\n",
       "9. 151\n",
       "10. 157\n",
       "11. 172\n",
       "12. 156\n",
       "13. 152\n",
       "14. 168\n",
       "15. 169\n",
       "16. 176\n",
       "17. 173\n",
       "18. 178\n",
       "19. 179\n",
       "20. 157\n",
       "21. 151\n",
       "22. 175\n",
       "23. 182\n",
       "24. 182\n",
       "25. 161\n",
       "26. 174\n",
       "27. 174\n",
       "28. 180\n",
       "29. 173\n",
       "30. 162\n",
       "31. 170\n",
       "32. 156\n",
       "33. 173\n",
       "34. 156\n",
       "35. 161\n",
       "36. 170\n",
       "37. 185\n",
       "38. 158\n",
       "39. 165\n",
       "40. 150\n",
       "41. 173\n",
       "42. 162\n",
       "43. 183\n",
       "44. 180\n",
       "45. 169\n",
       "46. 179\n",
       "47. 169\n",
       "48. 179\n",
       "49. 157\n",
       "50. 168\n",
       "51. 167\n",
       "52. 169\n",
       "53. 161\n",
       "54. 183\n",
       "55. 159\n",
       "56. 164\n",
       "57. 153\n",
       "58. 181\n",
       "59. 168\n",
       "60. 183\n",
       "61. 180\n",
       "62. 171\n",
       "63. 161\n",
       "64. 167\n",
       "65. 161\n",
       "66. 181\n",
       "67. 176\n",
       "68. 150\n",
       "69. 156\n",
       "70. 172\n",
       "71. 168\n",
       "72. 156\n",
       "73. 151\n",
       "74. 150\n",
       "75. 172\n",
       "76. 158\n",
       "77. 160\n",
       "78. 184\n",
       "79. 157\n",
       "80. 150\n",
       "81. 151\n",
       "82. 163\n",
       "83. 161\n",
       "84. 171\n",
       "85. 151\n",
       "86. 167\n",
       "87. 175\n",
       "88. 171\n",
       "89. 154\n",
       "90. 158\n",
       "91. 166\n",
       "92. 170\n",
       "93. 162\n",
       "94. 174\n",
       "95. 176\n",
       "96. 170\n",
       "97. 180\n",
       "98. 162\n",
       "99. 155\n",
       "\n",
       "\n"
      ],
      "text/plain": [
       " [1] 158 184 171 158 182 163 172 173 151 157 172 156 152 168 169 176 173 178 179\n",
       "[20] 157 151 175 182 182 161 174 174 180 173 162 170 156 173 156 161 170 185 158\n",
       "[39] 165 150 173 162 183 180 169 179 169 179 157 168 167 169 161 183 159 164 153\n",
       "[58] 181 168 183 180 171 161 167 161 181 176 150 156 172 168 156 151 150 172 158\n",
       "[77] 160 184 157 150 151 163 161 171 151 167 175 171 154 158 166 170 162 174 176\n",
       "[96] 170 180 162 155"
      ]
     },
     "metadata": {},
     "output_type": "display_data"
    }
   ],
   "source": [
    "height = c(158, 184, 171, 158, 182, 163, 172, 173, 151, 157, 172, 156, 152, 168, 169, 176, 173, 178, 179, 157, 151, 175, 182, 182, 161, 174, 174, 180, 173, 162, 170, 156, 173, 156, 161, 170, 185, 158, 165, 150, 173, 162, 183, 180, 169, 179, 169, 179, 157, 168, 167, 169, 161, 183, 159, 164, 153, 181, 168, 183, 180, 171, 161, 167, 161, 181, 176, 150, 156, 172, 168, 156, 151, 150, 172, 158, 160, 184, 157, 150, 151, 163, 161, 171, 151, 167, 175, 171, 154, 158, 166, 170, 162, 174, 176, 170, 180, 162, 155)\n",
    "height"
   ]
  },
  {
   "cell_type": "code",
   "execution_count": 103,
   "id": "392a877f",
   "metadata": {},
   "outputs": [
    {
     "data": {
      "text/plain": [
       "height\n",
       "150 151 152 153 154 155 156 157 158 159 160 161 162 163 164 165 166 167 168 169 \n",
       "  4   5   1   1   1   1   5   4   5   1   1   6   4   2   1   1   1   3   4   4 \n",
       "170 171 172 173 174 175 176 178 179 180 181 182 183 184 185 \n",
       "  4   4   4   5   3   2   3   1   3   4   2   3   3   2   1 "
      ]
     },
     "metadata": {},
     "output_type": "display_data"
    }
   ],
   "source": [
    "table(height)"
   ]
  },
  {
   "cell_type": "code",
   "execution_count": 108,
   "id": "eebc4285",
   "metadata": {},
   "outputs": [
    {
     "data": {
      "image/png": "[encoded data removed]",
      "text/plain": [
       "Plot with title \"Histogram of height\""
      ]
     },
     "metadata": {
      "image/png": {
       "height": 420,
       "width": 420
      }
     },
     "output_type": "display_data"
    }
   ],
   "source": [
    "cut = c('149, 155, 159, 164, 169, 175, 180')\n",
    "hist(height,\n",
    "    breaks = 7, probability = T)"
   ]
  },
  {
   "cell_type": "code",
   "execution_count": 109,
   "id": "4afa9dc0",
   "metadata": {},
   "outputs": [],
   "source": [
    "cut1 = cut(height, breaks = c(150, 155, 160, 165, 170, 175, 180, 185), right = F)"
   ]
  },
  {
   "cell_type": "code",
   "execution_count": 110,
   "id": "265cfeca",
   "metadata": {},
   "outputs": [
    {
     "data": {
      "text/html": [
       "<style>\n",
       ".list-inline {list-style: none; margin:0; padding: 0}\n",
       ".list-inline>li {display: inline-block}\n",
       ".list-inline>li:not(:last-child)::after {content: \"\\00b7\"; padding: 0 .5ex}\n",
       "</style>\n",
       "<ol class=list-inline><li>[155,160)</li><li>[180,185)</li><li>[170,175)</li><li>[155,160)</li><li>[180,185)</li><li>[160,165)</li><li>[170,175)</li><li>[170,175)</li><li>[150,155)</li><li>[155,160)</li><li>[170,175)</li><li>[155,160)</li><li>[150,155)</li><li>[165,170)</li><li>[165,170)</li><li>[175,180)</li><li>[170,175)</li><li>[175,180)</li><li>[175,180)</li><li>[155,160)</li><li>[150,155)</li><li>[175,180)</li><li>[180,185)</li><li>[180,185)</li><li>[160,165)</li><li>[170,175)</li><li>[170,175)</li><li>[180,185)</li><li>[170,175)</li><li>[160,165)</li><li>[170,175)</li><li>[155,160)</li><li>[170,175)</li><li>[155,160)</li><li>[160,165)</li><li>[170,175)</li><li>&lt;NA&gt;</li><li>[155,160)</li><li>[165,170)</li><li>[150,155)</li><li>[170,175)</li><li>[160,165)</li><li>[180,185)</li><li>[180,185)</li><li>[165,170)</li><li>[175,180)</li><li>[165,170)</li><li>[175,180)</li><li>[155,160)</li><li>[165,170)</li><li>[165,170)</li><li>[165,170)</li><li>[160,165)</li><li>[180,185)</li><li>[155,160)</li><li>[160,165)</li><li>[150,155)</li><li>[180,185)</li><li>[165,170)</li><li>[180,185)</li><li>[180,185)</li><li>[170,175)</li><li>[160,165)</li><li>[165,170)</li><li>[160,165)</li><li>[180,185)</li><li>[175,180)</li><li>[150,155)</li><li>[155,160)</li><li>[170,175)</li><li>[165,170)</li><li>[155,160)</li><li>[150,155)</li><li>[150,155)</li><li>[170,175)</li><li>[155,160)</li><li>[160,165)</li><li>[180,185)</li><li>[155,160)</li><li>[150,155)</li><li>[150,155)</li><li>[160,165)</li><li>[160,165)</li><li>[170,175)</li><li>[150,155)</li><li>[165,170)</li><li>[175,180)</li><li>[170,175)</li><li>[150,155)</li><li>[155,160)</li><li>[165,170)</li><li>[170,175)</li><li>[160,165)</li><li>[170,175)</li><li>[175,180)</li><li>[170,175)</li><li>[180,185)</li><li>[160,165)</li><li>[155,160)</li></ol>\n",
       "\n",
       "<details>\n",
       "\t<summary style=display:list-item;cursor:pointer>\n",
       "\t\t<strong>Levels</strong>:\n",
       "\t</summary>\n",
       "\t<style>\n",
       "\t.list-inline {list-style: none; margin:0; padding: 0}\n",
       "\t.list-inline>li {display: inline-block}\n",
       "\t.list-inline>li:not(:last-child)::after {content: \"\\00b7\"; padding: 0 .5ex}\n",
       "\t</style>\n",
       "\t<ol class=list-inline><li>'[150,155)'</li><li>'[155,160)'</li><li>'[160,165)'</li><li>'[165,170)'</li><li>'[170,175)'</li><li>'[175,180)'</li><li>'[180,185)'</li></ol>\n",
       "</details>"
      ],
      "text/latex": [
       "\\begin{enumerate*}\n",
       "\\item {[}155,160)\n",
       "\\item {[}180,185)\n",
       "\\item {[}170,175)\n",
       "\\item {[}155,160)\n",
       "\\item {[}180,185)\n",
       "\\item {[}160,165)\n",
       "\\item {[}170,175)\n",
       "\\item {[}170,175)\n",
       "\\item {[}150,155)\n",
       "\\item {[}155,160)\n",
       "\\item {[}170,175)\n",
       "\\item {[}155,160)\n",
       "\\item {[}150,155)\n",
       "\\item {[}165,170)\n",
       "\\item {[}165,170)\n",
       "\\item {[}175,180)\n",
       "\\item {[}170,175)\n",
       "\\item {[}175,180)\n",
       "\\item {[}175,180)\n",
       "\\item {[}155,160)\n",
       "\\item {[}150,155)\n",
       "\\item {[}175,180)\n",
       "\\item {[}180,185)\n",
       "\\item {[}180,185)\n",
       "\\item {[}160,165)\n",
       "\\item {[}170,175)\n",
       "\\item {[}170,175)\n",
       "\\item {[}180,185)\n",
       "\\item {[}170,175)\n",
       "\\item {[}160,165)\n",
       "\\item {[}170,175)\n",
       "\\item {[}155,160)\n",
       "\\item {[}170,175)\n",
       "\\item {[}155,160)\n",
       "\\item {[}160,165)\n",
       "\\item {[}170,175)\n",
       "\\item <NA>\n",
       "\\item {[}155,160)\n",
       "\\item {[}165,170)\n",
       "\\item {[}150,155)\n",
       "\\item {[}170,175)\n",
       "\\item {[}160,165)\n",
       "\\item {[}180,185)\n",
       "\\item {[}180,185)\n",
       "\\item {[}165,170)\n",
       "\\item {[}175,180)\n",
       "\\item {[}165,170)\n",
       "\\item {[}175,180)\n",
       "\\item {[}155,160)\n",
       "\\item {[}165,170)\n",
       "\\item {[}165,170)\n",
       "\\item {[}165,170)\n",
       "\\item {[}160,165)\n",
       "\\item {[}180,185)\n",
       "\\item {[}155,160)\n",
       "\\item {[}160,165)\n",
       "\\item {[}150,155)\n",
       "\\item {[}180,185)\n",
       "\\item {[}165,170)\n",
       "\\item {[}180,185)\n",
       "\\item {[}180,185)\n",
       "\\item {[}170,175)\n",
       "\\item {[}160,165)\n",
       "\\item {[}165,170)\n",
       "\\item {[}160,165)\n",
       "\\item {[}180,185)\n",
       "\\item {[}175,180)\n",
       "\\item {[}150,155)\n",
       "\\item {[}155,160)\n",
       "\\item {[}170,175)\n",
       "\\item {[}165,170)\n",
       "\\item {[}155,160)\n",
       "\\item {[}150,155)\n",
       "\\item {[}150,155)\n",
       "\\item {[}170,175)\n",
       "\\item {[}155,160)\n",
       "\\item {[}160,165)\n",
       "\\item {[}180,185)\n",
       "\\item {[}155,160)\n",
       "\\item {[}150,155)\n",
       "\\item {[}150,155)\n",
       "\\item {[}160,165)\n",
       "\\item {[}160,165)\n",
       "\\item {[}170,175)\n",
       "\\item {[}150,155)\n",
       "\\item {[}165,170)\n",
       "\\item {[}175,180)\n",
       "\\item {[}170,175)\n",
       "\\item {[}150,155)\n",
       "\\item {[}155,160)\n",
       "\\item {[}165,170)\n",
       "\\item {[}170,175)\n",
       "\\item {[}160,165)\n",
       "\\item {[}170,175)\n",
       "\\item {[}175,180)\n",
       "\\item {[}170,175)\n",
       "\\item {[}180,185)\n",
       "\\item {[}160,165)\n",
       "\\item {[}155,160)\n",
       "\\end{enumerate*}\n",
       "\n",
       "\\emph{Levels}: \\begin{enumerate*}\n",
       "\\item '{[}150,155)'\n",
       "\\item '{[}155,160)'\n",
       "\\item '{[}160,165)'\n",
       "\\item '{[}165,170)'\n",
       "\\item '{[}170,175)'\n",
       "\\item '{[}175,180)'\n",
       "\\item '{[}180,185)'\n",
       "\\end{enumerate*}\n"
      ],
      "text/markdown": [
       "1. [155,160)\n",
       "2. [180,185)\n",
       "3. [170,175)\n",
       "4. [155,160)\n",
       "5. [180,185)\n",
       "6. [160,165)\n",
       "7. [170,175)\n",
       "8. [170,175)\n",
       "9. [150,155)\n",
       "10. [155,160)\n",
       "11. [170,175)\n",
       "12. [155,160)\n",
       "13. [150,155)\n",
       "14. [165,170)\n",
       "15. [165,170)\n",
       "16. [175,180)\n",
       "17. [170,175)\n",
       "18. [175,180)\n",
       "19. [175,180)\n",
       "20. [155,160)\n",
       "21. [150,155)\n",
       "22. [175,180)\n",
       "23. [180,185)\n",
       "24. [180,185)\n",
       "25. [160,165)\n",
       "26. [170,175)\n",
       "27. [170,175)\n",
       "28. [180,185)\n",
       "29. [170,175)\n",
       "30. [160,165)\n",
       "31. [170,175)\n",
       "32. [155,160)\n",
       "33. [170,175)\n",
       "34. [155,160)\n",
       "35. [160,165)\n",
       "36. [170,175)\n",
       "37. &lt;NA&gt;\n",
       "38. [155,160)\n",
       "39. [165,170)\n",
       "40. [150,155)\n",
       "41. [170,175)\n",
       "42. [160,165)\n",
       "43. [180,185)\n",
       "44. [180,185)\n",
       "45. [165,170)\n",
       "46. [175,180)\n",
       "47. [165,170)\n",
       "48. [175,180)\n",
       "49. [155,160)\n",
       "50. [165,170)\n",
       "51. [165,170)\n",
       "52. [165,170)\n",
       "53. [160,165)\n",
       "54. [180,185)\n",
       "55. [155,160)\n",
       "56. [160,165)\n",
       "57. [150,155)\n",
       "58. [180,185)\n",
       "59. [165,170)\n",
       "60. [180,185)\n",
       "61. [180,185)\n",
       "62. [170,175)\n",
       "63. [160,165)\n",
       "64. [165,170)\n",
       "65. [160,165)\n",
       "66. [180,185)\n",
       "67. [175,180)\n",
       "68. [150,155)\n",
       "69. [155,160)\n",
       "70. [170,175)\n",
       "71. [165,170)\n",
       "72. [155,160)\n",
       "73. [150,155)\n",
       "74. [150,155)\n",
       "75. [170,175)\n",
       "76. [155,160)\n",
       "77. [160,165)\n",
       "78. [180,185)\n",
       "79. [155,160)\n",
       "80. [150,155)\n",
       "81. [150,155)\n",
       "82. [160,165)\n",
       "83. [160,165)\n",
       "84. [170,175)\n",
       "85. [150,155)\n",
       "86. [165,170)\n",
       "87. [175,180)\n",
       "88. [170,175)\n",
       "89. [150,155)\n",
       "90. [155,160)\n",
       "91. [165,170)\n",
       "92. [170,175)\n",
       "93. [160,165)\n",
       "94. [170,175)\n",
       "95. [175,180)\n",
       "96. [170,175)\n",
       "97. [180,185)\n",
       "98. [160,165)\n",
       "99. [155,160)\n",
       "\n",
       "\n",
       "\n",
       "**Levels**: 1. '[150,155)'\n",
       "2. '[155,160)'\n",
       "3. '[160,165)'\n",
       "4. '[165,170)'\n",
       "5. '[170,175)'\n",
       "6. '[175,180)'\n",
       "7. '[180,185)'\n",
       "\n",
       "\n"
      ],
      "text/plain": [
       " [1] [155,160) [180,185) [170,175) [155,160) [180,185) [160,165) [170,175)\n",
       " [8] [170,175) [150,155) [155,160) [170,175) [155,160) [150,155) [165,170)\n",
       "[15] [165,170) [175,180) [170,175) [175,180) [175,180) [155,160) [150,155)\n",
       "[22] [175,180) [180,185) [180,185) [160,165) [170,175) [170,175) [180,185)\n",
       "[29] [170,175) [160,165) [170,175) [155,160) [170,175) [155,160) [160,165)\n",
       "[36] [170,175) <NA>      [155,160) [165,170) [150,155) [170,175) [160,165)\n",
       "[43] [180,185) [180,185) [165,170) [175,180) [165,170) [175,180) [155,160)\n",
       "[50] [165,170) [165,170) [165,170) [160,165) [180,185) [155,160) [160,165)\n",
       "[57] [150,155) [180,185) [165,170) [180,185) [180,185) [170,175) [160,165)\n",
       "[64] [165,170) [160,165) [180,185) [175,180) [150,155) [155,160) [170,175)\n",
       "[71] [165,170) [155,160) [150,155) [150,155) [170,175) [155,160) [160,165)\n",
       "[78] [180,185) [155,160) [150,155) [150,155) [160,165) [160,165) [170,175)\n",
       "[85] [150,155) [165,170) [175,180) [170,175) [150,155) [155,160) [165,170)\n",
       "[92] [170,175) [160,165) [170,175) [175,180) [170,175) [180,185) [160,165)\n",
       "[99] [155,160)\n",
       "7 Levels: [150,155) [155,160) [160,165) [165,170) [170,175) ... [180,185)"
      ]
     },
     "metadata": {},
     "output_type": "display_data"
    }
   ],
   "source": [
    "cut1"
   ]
  },
  {
   "cell_type": "code",
   "execution_count": 111,
   "id": "065135d0",
   "metadata": {},
   "outputs": [],
   "source": [
    "freq = table(cut1)"
   ]
  },
  {
   "cell_type": "code",
   "execution_count": 112,
   "id": "44f4353b",
   "metadata": {},
   "outputs": [
    {
     "data": {
      "text/plain": [
       "cut1\n",
       "[150,155) [155,160) [160,165) [165,170) [170,175) [175,180) [180,185) \n",
       "       12        16        14        13        20         9        14 "
      ]
     },
     "metadata": {},
     "output_type": "display_data"
    }
   ],
   "source": [
    "freq"
   ]
  },
  {
   "cell_type": "code",
   "execution_count": 113,
   "id": "74a0d0e6",
   "metadata": {},
   "outputs": [],
   "source": [
    "prop = prop.table(freq)"
   ]
  },
  {
   "cell_type": "code",
   "execution_count": 114,
   "id": "5d296fd1",
   "metadata": {},
   "outputs": [
    {
     "data": {
      "text/plain": [
       "cut1\n",
       " [150,155)  [155,160)  [160,165)  [165,170)  [170,175)  [175,180)  [180,185) \n",
       "0.12244898 0.16326531 0.14285714 0.13265306 0.20408163 0.09183673 0.14285714 "
      ]
     },
     "metadata": {},
     "output_type": "display_data"
    }
   ],
   "source": [
    "prop"
   ]
  },
  {
   "cell_type": "code",
   "execution_count": 115,
   "id": "8d8d2249",
   "metadata": {},
   "outputs": [
    {
     "data": {
      "text/html": [
       "<table class=\"dataframe\">\n",
       "<caption>A matrix: 7 × 2 of type dbl</caption>\n",
       "<thead>\n",
       "\t<tr><th></th><th scope=col>freq</th><th scope=col>prop</th></tr>\n",
       "</thead>\n",
       "<tbody>\n",
       "\t<tr><th scope=row>[150,155)</th><td>12</td><td>0.12244898</td></tr>\n",
       "\t<tr><th scope=row>[155,160)</th><td>16</td><td>0.16326531</td></tr>\n",
       "\t<tr><th scope=row>[160,165)</th><td>14</td><td>0.14285714</td></tr>\n",
       "\t<tr><th scope=row>[165,170)</th><td>13</td><td>0.13265306</td></tr>\n",
       "\t<tr><th scope=row>[170,175)</th><td>20</td><td>0.20408163</td></tr>\n",
       "\t<tr><th scope=row>[175,180)</th><td> 9</td><td>0.09183673</td></tr>\n",
       "\t<tr><th scope=row>[180,185)</th><td>14</td><td>0.14285714</td></tr>\n",
       "</tbody>\n",
       "</table>\n"
      ],
      "text/latex": [
       "A matrix: 7 × 2 of type dbl\n",
       "\\begin{tabular}{r|ll}\n",
       "  & freq & prop\\\\\n",
       "\\hline\n",
       "\t{[}150,155) & 12 & 0.12244898\\\\\n",
       "\t{[}155,160) & 16 & 0.16326531\\\\\n",
       "\t{[}160,165) & 14 & 0.14285714\\\\\n",
       "\t{[}165,170) & 13 & 0.13265306\\\\\n",
       "\t{[}170,175) & 20 & 0.20408163\\\\\n",
       "\t{[}175,180) &  9 & 0.09183673\\\\\n",
       "\t{[}180,185) & 14 & 0.14285714\\\\\n",
       "\\end{tabular}\n"
      ],
      "text/markdown": [
       "\n",
       "A matrix: 7 × 2 of type dbl\n",
       "\n",
       "| <!--/--> | freq | prop |\n",
       "|---|---|---|\n",
       "| [150,155) | 12 | 0.12244898 |\n",
       "| [155,160) | 16 | 0.16326531 |\n",
       "| [160,165) | 14 | 0.14285714 |\n",
       "| [165,170) | 13 | 0.13265306 |\n",
       "| [170,175) | 20 | 0.20408163 |\n",
       "| [175,180) |  9 | 0.09183673 |\n",
       "| [180,185) | 14 | 0.14285714 |\n",
       "\n"
      ],
      "text/plain": [
       "          freq prop      \n",
       "[150,155) 12   0.12244898\n",
       "[155,160) 16   0.16326531\n",
       "[160,165) 14   0.14285714\n",
       "[165,170) 13   0.13265306\n",
       "[170,175) 20   0.20408163\n",
       "[175,180)  9   0.09183673\n",
       "[180,185) 14   0.14285714"
      ]
     },
     "metadata": {},
     "output_type": "display_data"
    }
   ],
   "source": [
    "cbind(freq, prop)"
   ]
  },
  {
   "cell_type": "code",
   "execution_count": 116,
   "id": "5744d121",
   "metadata": {},
   "outputs": [],
   "source": [
    "x = c(45, 86, 34, 98, 67, 78, 56, 45, 85, 75, 64, 75, 75, 75, 58, 45, 83, 74)"
   ]
  },
  {
   "cell_type": "code",
   "execution_count": 117,
   "id": "db660e8c",
   "metadata": {},
   "outputs": [
    {
     "data": {
      "text/html": [
       "<style>\n",
       ".list-inline {list-style: none; margin:0; padding: 0}\n",
       ".list-inline>li {display: inline-block}\n",
       ".list-inline>li:not(:last-child)::after {content: \"\\00b7\"; padding: 0 .5ex}\n",
       "</style>\n",
       "<ol class=list-inline><li>45</li><li>86</li><li>34</li><li>98</li><li>67</li><li>78</li><li>56</li><li>45</li><li>85</li><li>75</li><li>64</li><li>75</li><li>75</li><li>75</li><li>58</li><li>45</li><li>83</li><li>74</li></ol>\n"
      ],
      "text/latex": [
       "\\begin{enumerate*}\n",
       "\\item 45\n",
       "\\item 86\n",
       "\\item 34\n",
       "\\item 98\n",
       "\\item 67\n",
       "\\item 78\n",
       "\\item 56\n",
       "\\item 45\n",
       "\\item 85\n",
       "\\item 75\n",
       "\\item 64\n",
       "\\item 75\n",
       "\\item 75\n",
       "\\item 75\n",
       "\\item 58\n",
       "\\item 45\n",
       "\\item 83\n",
       "\\item 74\n",
       "\\end{enumerate*}\n"
      ],
      "text/markdown": [
       "1. 45\n",
       "2. 86\n",
       "3. 34\n",
       "4. 98\n",
       "5. 67\n",
       "6. 78\n",
       "7. 56\n",
       "8. 45\n",
       "9. 85\n",
       "10. 75\n",
       "11. 64\n",
       "12. 75\n",
       "13. 75\n",
       "14. 75\n",
       "15. 58\n",
       "16. 45\n",
       "17. 83\n",
       "18. 74\n",
       "\n",
       "\n"
      ],
      "text/plain": [
       " [1] 45 86 34 98 67 78 56 45 85 75 64 75 75 75 58 45 83 74"
      ]
     },
     "metadata": {},
     "output_type": "display_data"
    }
   ],
   "source": [
    "x"
   ]
  },
  {
   "cell_type": "code",
   "execution_count": 118,
   "id": "fdc817a3",
   "metadata": {},
   "outputs": [
    {
     "data": {
      "image/png": "[encoded data removed]",
      "text/plain": [
       "Plot with title \"Histogram of x\""
      ]
     },
     "metadata": {
      "image/png": {
       "height": 420,
       "width": 420
      }
     },
     "output_type": "display_data"
    }
   ],
   "source": [
    "hist(x)"
   ]
  },
  {
   "cell_type": "code",
   "execution_count": 120,
   "id": "64c8a06b",
   "metadata": {},
   "outputs": [
    {
     "data": {
      "image/png": "[encoded data removed]",
      "text/plain": [
       "Plot with title \"Histogram of x\""
      ]
     },
     "metadata": {
      "image/png": {
       "height": 420,
       "width": 420
      }
     },
     "output_type": "display_data"
    }
   ],
   "source": [
    "hist(x, prob = T)\n",
    "lines(density(x))"
   ]
  },
  {
   "cell_type": "code",
   "execution_count": 121,
   "id": "b3fd317b",
   "metadata": {},
   "outputs": [],
   "source": [
    "x = c(2, 2, 8, 20, 33)"
   ]
  },
  {
   "cell_type": "code",
   "execution_count": 122,
   "id": "9824f875",
   "metadata": {},
   "outputs": [
    {
     "data": {
      "text/html": [
       "<style>\n",
       ".list-inline {list-style: none; margin:0; padding: 0}\n",
       ".list-inline>li {display: inline-block}\n",
       ".list-inline>li:not(:last-child)::after {content: \"\\00b7\"; padding: 0 .5ex}\n",
       "</style>\n",
       "<ol class=list-inline><li>2</li><li>2</li><li>8</li><li>20</li><li>33</li></ol>\n"
      ],
      "text/latex": [
       "\\begin{enumerate*}\n",
       "\\item 2\n",
       "\\item 2\n",
       "\\item 8\n",
       "\\item 20\n",
       "\\item 33\n",
       "\\end{enumerate*}\n"
      ],
      "text/markdown": [
       "1. 2\n",
       "2. 2\n",
       "3. 8\n",
       "4. 20\n",
       "5. 33\n",
       "\n",
       "\n"
      ],
      "text/plain": [
       "[1]  2  2  8 20 33"
      ]
     },
     "metadata": {},
     "output_type": "display_data"
    }
   ],
   "source": [
    "x"
   ]
  },
  {
   "cell_type": "code",
   "execution_count": 123,
   "id": "f44e74d3",
   "metadata": {},
   "outputs": [
    {
     "data": {
      "text/html": [
       "13"
      ],
      "text/latex": [
       "13"
      ],
      "text/markdown": [
       "13"
      ],
      "text/plain": [
       "[1] 13"
      ]
     },
     "metadata": {},
     "output_type": "display_data"
    }
   ],
   "source": [
    "mean(x)"
   ]
  },
  {
   "cell_type": "code",
   "execution_count": 124,
   "id": "ae5c64e4",
   "metadata": {},
   "outputs": [
    {
     "data": {
      "text/html": [
       "8"
      ],
      "text/latex": [
       "8"
      ],
      "text/markdown": [
       "8"
      ],
      "text/plain": [
       "[1] 8"
      ]
     },
     "metadata": {},
     "output_type": "display_data"
    }
   ],
   "source": [
    "median(x)"
   ]
  },
  {
   "cell_type": "code",
   "execution_count": 125,
   "id": "68c5a450",
   "metadata": {},
   "outputs": [],
   "source": [
    "y = c(2, 2, 8, 20, 58)"
   ]
  },
  {
   "cell_type": "code",
   "execution_count": 126,
   "id": "0b88ff64",
   "metadata": {},
   "outputs": [
    {
     "data": {
      "text/html": [
       "18"
      ],
      "text/latex": [
       "18"
      ],
      "text/markdown": [
       "18"
      ],
      "text/plain": [
       "[1] 18"
      ]
     },
     "metadata": {},
     "output_type": "display_data"
    }
   ],
   "source": [
    "mean(y)"
   ]
  },
  {
   "cell_type": "code",
   "execution_count": 127,
   "id": "8336d21d",
   "metadata": {},
   "outputs": [
    {
     "data": {
      "text/html": [
       "8"
      ],
      "text/latex": [
       "8"
      ],
      "text/markdown": [
       "8"
      ],
      "text/plain": [
       "[1] 8"
      ]
     },
     "metadata": {},
     "output_type": "display_data"
    }
   ],
   "source": [
    "median(y)"
   ]
  },
  {
   "cell_type": "code",
   "execution_count": 128,
   "id": "f777d78d",
   "metadata": {},
   "outputs": [],
   "source": [
    "x = c(58182, 49651, 69903, 267277)"
   ]
  },
  {
   "cell_type": "code",
   "execution_count": 129,
   "id": "dd4e7922",
   "metadata": {},
   "outputs": [
    {
     "data": {
      "text/html": [
       "<style>\n",
       ".list-inline {list-style: none; margin:0; padding: 0}\n",
       ".list-inline>li {display: inline-block}\n",
       ".list-inline>li:not(:last-child)::after {content: \"\\00b7\"; padding: 0 .5ex}\n",
       "</style>\n",
       "<ol class=list-inline><li>49651</li><li>267277</li></ol>\n"
      ],
      "text/latex": [
       "\\begin{enumerate*}\n",
       "\\item 49651\n",
       "\\item 267277\n",
       "\\end{enumerate*}\n"
      ],
      "text/markdown": [
       "1. 49651\n",
       "2. 267277\n",
       "\n",
       "\n"
      ],
      "text/plain": [
       "[1]  49651 267277"
      ]
     },
     "metadata": {},
     "output_type": "display_data"
    }
   ],
   "source": [
    "range(x)"
   ]
  },
  {
   "cell_type": "code",
   "execution_count": 130,
   "id": "f1bbf4c1",
   "metadata": {},
   "outputs": [
    {
     "data": {
      "text/html": [
       "217626"
      ],
      "text/latex": [
       "217626"
      ],
      "text/markdown": [
       "217626"
      ],
      "text/plain": [
       "[1] 217626"
      ]
     },
     "metadata": {},
     "output_type": "display_data"
    }
   ],
   "source": [
    "diff(range(x))"
   ]
  },
  {
   "cell_type": "code",
   "execution_count": 131,
   "id": "6382d527",
   "metadata": {},
   "outputs": [],
   "source": [
    "x = c(43, 40, 38, 37, 43, 37, 43, 39, 78, 45, 44, 40, 38, 41, 35, 31, 44)"
   ]
  },
  {
   "cell_type": "code",
   "execution_count": 132,
   "id": "151caba6",
   "metadata": {},
   "outputs": [
    {
     "data": {
      "text/html": [
       "<style>\n",
       ".dl-inline {width: auto; margin:0; padding: 0}\n",
       ".dl-inline>dt, .dl-inline>dd {float: none; width: auto; display: inline-block}\n",
       ".dl-inline>dt::after {content: \":\\0020\"; padding-right: .5ex}\n",
       ".dl-inline>dt:not(:first-of-type) {padding-left: .5ex}\n",
       "</style><dl class=dl-inline><dt>0%</dt><dd>31</dd><dt>25%</dt><dd>38</dd><dt>50%</dt><dd>40</dd><dt>75%</dt><dd>43</dd><dt>100%</dt><dd>78</dd></dl>\n"
      ],
      "text/latex": [
       "\\begin{description*}\n",
       "\\item[0\\textbackslash{}\\%] 31\n",
       "\\item[25\\textbackslash{}\\%] 38\n",
       "\\item[50\\textbackslash{}\\%] 40\n",
       "\\item[75\\textbackslash{}\\%] 43\n",
       "\\item[100\\textbackslash{}\\%] 78\n",
       "\\end{description*}\n"
      ],
      "text/markdown": [
       "0%\n",
       ":   3125%\n",
       ":   3850%\n",
       ":   4075%\n",
       ":   43100%\n",
       ":   78\n",
       "\n"
      ],
      "text/plain": [
       "  0%  25%  50%  75% 100% \n",
       "  31   38   40   43   78 "
      ]
     },
     "metadata": {},
     "output_type": "display_data"
    }
   ],
   "source": [
    "quantile(x)"
   ]
  },
  {
   "cell_type": "code",
   "execution_count": 133,
   "id": "4224b4c8",
   "metadata": {},
   "outputs": [
    {
     "data": {
      "text/plain": [
       "   Min. 1st Qu.  Median    Mean 3rd Qu.    Max. \n",
       "  31.00   38.00   40.00   42.12   43.00   78.00 "
      ]
     },
     "metadata": {},
     "output_type": "display_data"
    }
   ],
   "source": [
    "summary(x)"
   ]
  },
  {
   "cell_type": "code",
   "execution_count": 134,
   "id": "7ea0c865",
   "metadata": {},
   "outputs": [
    {
     "data": {
      "text/html": [
       "5"
      ],
      "text/latex": [
       "5"
      ],
      "text/markdown": [
       "5"
      ],
      "text/plain": [
       "[1] 5"
      ]
     },
     "metadata": {},
     "output_type": "display_data"
    }
   ],
   "source": [
    "IQR(x)"
   ]
  },
  {
   "cell_type": "code",
   "execution_count": 135,
   "id": "26ca616b",
   "metadata": {},
   "outputs": [],
   "source": [
    "x = c(35, 29, 44, 72, 34, 64, 41, 50, 54, 104, 39, 58)"
   ]
  },
  {
   "cell_type": "code",
   "execution_count": 136,
   "id": "af7f3d7b",
   "metadata": {},
   "outputs": [
    {
     "data": {
      "image/png": "[encoded data removed]",
      "text/plain": [
       "plot without title"
      ]
     },
     "metadata": {
      "image/png": {
       "height": 420,
       "width": 420
      }
     },
     "output_type": "display_data"
    }
   ],
   "source": [
    "boxplot(x)"
   ]
  },
  {
   "cell_type": "code",
   "execution_count": 137,
   "id": "add8d00b",
   "metadata": {},
   "outputs": [
    {
     "data": {
      "text/html": [
       "<dl>\n",
       "\t<dt>$stats</dt>\n",
       "\t\t<dd><style>\n",
       ".list-inline {list-style: none; margin:0; padding: 0}\n",
       ".list-inline>li {display: inline-block}\n",
       ".list-inline>li:not(:last-child)::after {content: \"\\00b7\"; padding: 0 .5ex}\n",
       "</style>\n",
       "<ol class=list-inline><li>29</li><li>37</li><li>47</li><li>61</li><li>72</li></ol>\n",
       "</dd>\n",
       "\t<dt>$n</dt>\n",
       "\t\t<dd>12</dd>\n",
       "\t<dt>$conf</dt>\n",
       "\t\t<dd><style>\n",
       ".list-inline {list-style: none; margin:0; padding: 0}\n",
       ".list-inline>li {display: inline-block}\n",
       ".list-inline>li:not(:last-child)::after {content: \"\\00b7\"; padding: 0 .5ex}\n",
       "</style>\n",
       "<ol class=list-inline><li>36.0534388961647</li><li>57.9465611038353</li></ol>\n",
       "</dd>\n",
       "\t<dt>$out</dt>\n",
       "\t\t<dd>104</dd>\n",
       "</dl>\n"
      ],
      "text/latex": [
       "\\begin{description}\n",
       "\\item[\\$stats] \\begin{enumerate*}\n",
       "\\item 29\n",
       "\\item 37\n",
       "\\item 47\n",
       "\\item 61\n",
       "\\item 72\n",
       "\\end{enumerate*}\n",
       "\n",
       "\\item[\\$n] 12\n",
       "\\item[\\$conf] \\begin{enumerate*}\n",
       "\\item 36.0534388961647\n",
       "\\item 57.9465611038353\n",
       "\\end{enumerate*}\n",
       "\n",
       "\\item[\\$out] 104\n",
       "\\end{description}\n"
      ],
      "text/markdown": [
       "$stats\n",
       ":   1. 29\n",
       "2. 37\n",
       "3. 47\n",
       "4. 61\n",
       "5. 72\n",
       "\n",
       "\n",
       "\n",
       "$n\n",
       ":   12\n",
       "$conf\n",
       ":   1. 36.0534388961647\n",
       "2. 57.9465611038353\n",
       "\n",
       "\n",
       "\n",
       "$out\n",
       ":   104\n",
       "\n",
       "\n"
      ],
      "text/plain": [
       "$stats\n",
       "[1] 29 37 47 61 72\n",
       "\n",
       "$n\n",
       "[1] 12\n",
       "\n",
       "$conf\n",
       "[1] 36.05344 57.94656\n",
       "\n",
       "$out\n",
       "[1] 104\n"
      ]
     },
     "metadata": {},
     "output_type": "display_data"
    }
   ],
   "source": [
    "boxplot.stats(x)"
   ]
  },
  {
   "cell_type": "code",
   "execution_count": 138,
   "id": "f49de752",
   "metadata": {},
   "outputs": [],
   "source": [
    "place = c(59, 59, 60, 63, 61, 60, 57, 55, 57, 56, 57, 60, 62, 62, 62, 59, 58, 57, 57, 61, 57, 57, 56, 63, 55, 56, 59, 62, 56, 63, 55, 63, 55, 60, 60, 62, 60, 55, 55, 60, 60, 63, 55, 62, 56, 55, 59, 59, 55, 55, 59, 58, 61, 62, 59, 59, 63, 56, 57, 55, 55, 56, 56, 57, 63, 55, 60, 55, 61, 56, 60, 61, 59, 62, 55, 56, 63, 62, 57, 59, 56, 57, 60, 58, 63, 56, 62, 56, 59, 61, 59, 59, 57, 56, 60, 58, 62, 56, 61\n",
    "        )"
   ]
  },
  {
   "cell_type": "code",
   "execution_count": 139,
   "id": "a722f058",
   "metadata": {},
   "outputs": [
    {
     "data": {
      "text/html": [
       "<style>\n",
       ".list-inline {list-style: none; margin:0; padding: 0}\n",
       ".list-inline>li {display: inline-block}\n",
       ".list-inline>li:not(:last-child)::after {content: \"\\00b7\"; padding: 0 .5ex}\n",
       "</style>\n",
       "<ol class=list-inline><li>59</li><li>59</li><li>60</li><li>63</li><li>61</li><li>60</li><li>57</li><li>55</li><li>57</li><li>56</li><li>57</li><li>60</li><li>62</li><li>62</li><li>62</li><li>59</li><li>58</li><li>57</li><li>57</li><li>61</li><li>57</li><li>57</li><li>56</li><li>63</li><li>55</li><li>56</li><li>59</li><li>62</li><li>56</li><li>63</li><li>55</li><li>63</li><li>55</li><li>60</li><li>60</li><li>62</li><li>60</li><li>55</li><li>55</li><li>60</li><li>60</li><li>63</li><li>55</li><li>62</li><li>56</li><li>55</li><li>59</li><li>59</li><li>55</li><li>55</li><li>59</li><li>58</li><li>61</li><li>62</li><li>59</li><li>59</li><li>63</li><li>56</li><li>57</li><li>55</li><li>55</li><li>56</li><li>56</li><li>57</li><li>63</li><li>55</li><li>60</li><li>55</li><li>61</li><li>56</li><li>60</li><li>61</li><li>59</li><li>62</li><li>55</li><li>56</li><li>63</li><li>62</li><li>57</li><li>59</li><li>56</li><li>57</li><li>60</li><li>58</li><li>63</li><li>56</li><li>62</li><li>56</li><li>59</li><li>61</li><li>59</li><li>59</li><li>57</li><li>56</li><li>60</li><li>58</li><li>62</li><li>56</li><li>61</li></ol>\n"
      ],
      "text/latex": [
       "\\begin{enumerate*}\n",
       "\\item 59\n",
       "\\item 59\n",
       "\\item 60\n",
       "\\item 63\n",
       "\\item 61\n",
       "\\item 60\n",
       "\\item 57\n",
       "\\item 55\n",
       "\\item 57\n",
       "\\item 56\n",
       "\\item 57\n",
       "\\item 60\n",
       "\\item 62\n",
       "\\item 62\n",
       "\\item 62\n",
       "\\item 59\n",
       "\\item 58\n",
       "\\item 57\n",
       "\\item 57\n",
       "\\item 61\n",
       "\\item 57\n",
       "\\item 57\n",
       "\\item 56\n",
       "\\item 63\n",
       "\\item 55\n",
       "\\item 56\n",
       "\\item 59\n",
       "\\item 62\n",
       "\\item 56\n",
       "\\item 63\n",
       "\\item 55\n",
       "\\item 63\n",
       "\\item 55\n",
       "\\item 60\n",
       "\\item 60\n",
       "\\item 62\n",
       "\\item 60\n",
       "\\item 55\n",
       "\\item 55\n",
       "\\item 60\n",
       "\\item 60\n",
       "\\item 63\n",
       "\\item 55\n",
       "\\item 62\n",
       "\\item 56\n",
       "\\item 55\n",
       "\\item 59\n",
       "\\item 59\n",
       "\\item 55\n",
       "\\item 55\n",
       "\\item 59\n",
       "\\item 58\n",
       "\\item 61\n",
       "\\item 62\n",
       "\\item 59\n",
       "\\item 59\n",
       "\\item 63\n",
       "\\item 56\n",
       "\\item 57\n",
       "\\item 55\n",
       "\\item 55\n",
       "\\item 56\n",
       "\\item 56\n",
       "\\item 57\n",
       "\\item 63\n",
       "\\item 55\n",
       "\\item 60\n",
       "\\item 55\n",
       "\\item 61\n",
       "\\item 56\n",
       "\\item 60\n",
       "\\item 61\n",
       "\\item 59\n",
       "\\item 62\n",
       "\\item 55\n",
       "\\item 56\n",
       "\\item 63\n",
       "\\item 62\n",
       "\\item 57\n",
       "\\item 59\n",
       "\\item 56\n",
       "\\item 57\n",
       "\\item 60\n",
       "\\item 58\n",
       "\\item 63\n",
       "\\item 56\n",
       "\\item 62\n",
       "\\item 56\n",
       "\\item 59\n",
       "\\item 61\n",
       "\\item 59\n",
       "\\item 59\n",
       "\\item 57\n",
       "\\item 56\n",
       "\\item 60\n",
       "\\item 58\n",
       "\\item 62\n",
       "\\item 56\n",
       "\\item 61\n",
       "\\end{enumerate*}\n"
      ],
      "text/markdown": [
       "1. 59\n",
       "2. 59\n",
       "3. 60\n",
       "4. 63\n",
       "5. 61\n",
       "6. 60\n",
       "7. 57\n",
       "8. 55\n",
       "9. 57\n",
       "10. 56\n",
       "11. 57\n",
       "12. 60\n",
       "13. 62\n",
       "14. 62\n",
       "15. 62\n",
       "16. 59\n",
       "17. 58\n",
       "18. 57\n",
       "19. 57\n",
       "20. 61\n",
       "21. 57\n",
       "22. 57\n",
       "23. 56\n",
       "24. 63\n",
       "25. 55\n",
       "26. 56\n",
       "27. 59\n",
       "28. 62\n",
       "29. 56\n",
       "30. 63\n",
       "31. 55\n",
       "32. 63\n",
       "33. 55\n",
       "34. 60\n",
       "35. 60\n",
       "36. 62\n",
       "37. 60\n",
       "38. 55\n",
       "39. 55\n",
       "40. 60\n",
       "41. 60\n",
       "42. 63\n",
       "43. 55\n",
       "44. 62\n",
       "45. 56\n",
       "46. 55\n",
       "47. 59\n",
       "48. 59\n",
       "49. 55\n",
       "50. 55\n",
       "51. 59\n",
       "52. 58\n",
       "53. 61\n",
       "54. 62\n",
       "55. 59\n",
       "56. 59\n",
       "57. 63\n",
       "58. 56\n",
       "59. 57\n",
       "60. 55\n",
       "61. 55\n",
       "62. 56\n",
       "63. 56\n",
       "64. 57\n",
       "65. 63\n",
       "66. 55\n",
       "67. 60\n",
       "68. 55\n",
       "69. 61\n",
       "70. 56\n",
       "71. 60\n",
       "72. 61\n",
       "73. 59\n",
       "74. 62\n",
       "75. 55\n",
       "76. 56\n",
       "77. 63\n",
       "78. 62\n",
       "79. 57\n",
       "80. 59\n",
       "81. 56\n",
       "82. 57\n",
       "83. 60\n",
       "84. 58\n",
       "85. 63\n",
       "86. 56\n",
       "87. 62\n",
       "88. 56\n",
       "89. 59\n",
       "90. 61\n",
       "91. 59\n",
       "92. 59\n",
       "93. 57\n",
       "94. 56\n",
       "95. 60\n",
       "96. 58\n",
       "97. 62\n",
       "98. 56\n",
       "99. 61\n",
       "\n",
       "\n"
      ],
      "text/plain": [
       " [1] 59 59 60 63 61 60 57 55 57 56 57 60 62 62 62 59 58 57 57 61 57 57 56 63 55\n",
       "[26] 56 59 62 56 63 55 63 55 60 60 62 60 55 55 60 60 63 55 62 56 55 59 59 55 55\n",
       "[51] 59 58 61 62 59 59 63 56 57 55 55 56 56 57 63 55 60 55 61 56 60 61 59 62 55\n",
       "[76] 56 63 62 57 59 56 57 60 58 63 56 62 56 59 61 59 59 57 56 60 58 62 56 61"
      ]
     },
     "metadata": {},
     "output_type": "display_data"
    }
   ],
   "source": [
    "place"
   ]
  },
  {
   "cell_type": "code",
   "execution_count": 140,
   "id": "aef71efe",
   "metadata": {},
   "outputs": [
    {
     "data": {
      "text/html": [
       "58.6161616161616"
      ],
      "text/latex": [
       "58.6161616161616"
      ],
      "text/markdown": [
       "58.6161616161616"
      ],
      "text/plain": [
       "[1] 58.61616"
      ]
     },
     "metadata": {},
     "output_type": "display_data"
    }
   ],
   "source": [
    "mean(place)"
   ]
  },
  {
   "cell_type": "code",
   "execution_count": 141,
   "id": "687a7813",
   "metadata": {},
   "outputs": [
    {
     "data": {
      "text/html": [
       "7.09606266749124"
      ],
      "text/latex": [
       "7.09606266749124"
      ],
      "text/markdown": [
       "7.09606266749124"
      ],
      "text/plain": [
       "[1] 7.096063"
      ]
     },
     "metadata": {},
     "output_type": "display_data"
    }
   ],
   "source": [
    "var(place)"
   ]
  },
  {
   "cell_type": "code",
   "execution_count": 142,
   "id": "af8dffbe",
   "metadata": {},
   "outputs": [
    {
     "data": {
      "text/html": [
       "2.6638435891567"
      ],
      "text/latex": [
       "2.6638435891567"
      ],
      "text/markdown": [
       "2.6638435891567"
      ],
      "text/plain": [
       "[1] 2.663844"
      ]
     },
     "metadata": {},
     "output_type": "display_data"
    }
   ],
   "source": [
    "sd(place)"
   ]
  },
  {
   "cell_type": "code",
   "execution_count": 143,
   "id": "ff24c66d",
   "metadata": {},
   "outputs": [
    {
     "data": {
      "text/html": [
       "<style>\n",
       ".dl-inline {width: auto; margin:0; padding: 0}\n",
       ".dl-inline>dt, .dl-inline>dd {float: none; width: auto; display: inline-block}\n",
       ".dl-inline>dt::after {content: \":\\0020\"; padding-right: .5ex}\n",
       ".dl-inline>dt:not(:first-of-type) {padding-left: .5ex}\n",
       "</style><dl class=dl-inline><dt>0%</dt><dd>55</dd><dt>25%</dt><dd>56</dd><dt>50%</dt><dd>59</dd><dt>75%</dt><dd>61</dd><dt>100%</dt><dd>63</dd></dl>\n"
      ],
      "text/latex": [
       "\\begin{description*}\n",
       "\\item[0\\textbackslash{}\\%] 55\n",
       "\\item[25\\textbackslash{}\\%] 56\n",
       "\\item[50\\textbackslash{}\\%] 59\n",
       "\\item[75\\textbackslash{}\\%] 61\n",
       "\\item[100\\textbackslash{}\\%] 63\n",
       "\\end{description*}\n"
      ],
      "text/markdown": [
       "0%\n",
       ":   5525%\n",
       ":   5650%\n",
       ":   5975%\n",
       ":   61100%\n",
       ":   63\n",
       "\n"
      ],
      "text/plain": [
       "  0%  25%  50%  75% 100% \n",
       "  55   56   59   61   63 "
      ]
     },
     "metadata": {},
     "output_type": "display_data"
    }
   ],
   "source": [
    "quantile(place)"
   ]
  },
  {
   "cell_type": "code",
   "execution_count": 144,
   "id": "16544f8b",
   "metadata": {},
   "outputs": [
    {
     "data": {
      "image/png": "[encoded data removed]",
      "text/plain": [
       "plot without title"
      ]
     },
     "metadata": {
      "image/png": {
       "height": 420,
       "width": 420
      }
     },
     "output_type": "display_data"
    }
   ],
   "source": [
    "boxplot(place, horizontal = T)"
   ]
  },
  {
   "cell_type": "code",
   "execution_count": 148,
   "id": "ababdc7e",
   "metadata": {},
   "outputs": [],
   "source": [
    "vec = c(45, 43,41, 39, 39, 35, 37, 40, 39, 36, 37)"
   ]
  },
  {
   "cell_type": "code",
   "execution_count": 149,
   "id": "27087eac",
   "metadata": {},
   "outputs": [
    {
     "data": {
      "text/html": [
       "8.96363636363636"
      ],
      "text/latex": [
       "8.96363636363636"
      ],
      "text/markdown": [
       "8.96363636363636"
      ],
      "text/plain": [
       "[1] 8.963636"
      ]
     },
     "metadata": {},
     "output_type": "display_data"
    }
   ],
   "source": [
    "var(vec)"
   ]
  },
  {
   "cell_type": "code",
   "execution_count": 150,
   "id": "d7e7d40f",
   "metadata": {},
   "outputs": [
    {
     "data": {
      "text/html": [
       "10.4555555555556"
      ],
      "text/latex": [
       "10.4555555555556"
      ],
      "text/markdown": [
       "10.4555555555556"
      ],
      "text/plain": [
       "[1] 10.45556"
      ]
     },
     "metadata": {},
     "output_type": "display_data"
    }
   ],
   "source": [
    "var(c(45, 43, 42, 39, 35, 37, 40, 39, 36, 37))"
   ]
  },
  {
   "cell_type": "code",
   "execution_count": 151,
   "id": "125f0d47",
   "metadata": {},
   "outputs": [
    {
     "data": {
      "text/html": [
       "14.2857142857143"
      ],
      "text/latex": [
       "14.2857142857143"
      ],
      "text/markdown": [
       "14.2857142857143"
      ],
      "text/plain": [
       "[1] 14.28571"
      ]
     },
     "metadata": {},
     "output_type": "display_data"
    }
   ],
   "source": [
    "code = c(7, 10, 8, 3, 15, 12, 6, 11)\n",
    "var(code)"
   ]
  },
  {
   "cell_type": "code",
   "execution_count": 152,
   "id": "fb070c82",
   "metadata": {},
   "outputs": [
    {
     "data": {
      "text/html": [
       "<style>\n",
       ".list-inline {list-style: none; margin:0; padding: 0}\n",
       ".list-inline>li {display: inline-block}\n",
       ".list-inline>li:not(:last-child)::after {content: \"\\00b7\"; padding: 0 .5ex}\n",
       "</style>\n",
       "<ol class=list-inline><li>3</li><li>15</li></ol>\n"
      ],
      "text/latex": [
       "\\begin{enumerate*}\n",
       "\\item 3\n",
       "\\item 15\n",
       "\\end{enumerate*}\n"
      ],
      "text/markdown": [
       "1. 3\n",
       "2. 15\n",
       "\n",
       "\n"
      ],
      "text/plain": [
       "[1]  3 15"
      ]
     },
     "metadata": {},
     "output_type": "display_data"
    }
   ],
   "source": [
    "range(code)"
   ]
  },
  {
   "cell_type": "code",
   "execution_count": 153,
   "id": "6060d5ac",
   "metadata": {},
   "outputs": [
    {
     "data": {
      "text/html": [
       "3.77964473009227"
      ],
      "text/latex": [
       "3.77964473009227"
      ],
      "text/markdown": [
       "3.77964473009227"
      ],
      "text/plain": [
       "[1] 3.779645"
      ]
     },
     "metadata": {},
     "output_type": "display_data"
    }
   ],
   "source": [
    "sd(code)"
   ]
  },
  {
   "cell_type": "code",
   "execution_count": 154,
   "id": "47f83afd",
   "metadata": {},
   "outputs": [
    {
     "data": {
      "text/html": [
       "25"
      ],
      "text/latex": [
       "25"
      ],
      "text/markdown": [
       "25"
      ],
      "text/plain": [
       "[1] 25"
      ]
     },
     "metadata": {},
     "output_type": "display_data"
    }
   ],
   "source": [
    "ive = c(4, 1, 0, 0, 2, 2, 2, 2, 2, 1, 2, 3, 1, 2, 2, 3, 1, 2, 1, 2, 1, 4, 4, 3, 3)\n",
    "length(ive)"
   ]
  },
  {
   "cell_type": "code",
   "execution_count": 155,
   "id": "2bd80aa1",
   "metadata": {},
   "outputs": [
    {
     "data": {
      "text/plain": [
       "ive\n",
       " 0  1  2  3  4 \n",
       " 2  6 10  4  3 "
      ]
     },
     "metadata": {},
     "output_type": "display_data"
    }
   ],
   "source": [
    "table(ive)"
   ]
  },
  {
   "cell_type": "code",
   "execution_count": 156,
   "id": "9cc2d73f",
   "metadata": {},
   "outputs": [
    {
     "data": {
      "image/png": "[encoded data removed]",
      "text/plain": [
       "plot without title"
      ]
     },
     "metadata": {
      "image/png": {
       "height": 420,
       "width": 420
      }
     },
     "output_type": "display_data"
    }
   ],
   "source": [
    "barplot(table(ive))"
   ]
  },
  {
   "cell_type": "code",
   "execution_count": 159,
   "id": "2e1ad22a",
   "metadata": {},
   "outputs": [],
   "source": [
    "prop = prop.table(table(ive))"
   ]
  },
  {
   "cell_type": "code",
   "execution_count": 160,
   "id": "1ea99c4e",
   "metadata": {},
   "outputs": [
    {
     "data": {
      "text/plain": [
       "ive\n",
       "   0    1    2    3    4 \n",
       "0.08 0.24 0.40 0.16 0.12 "
      ]
     },
     "metadata": {},
     "output_type": "display_data"
    }
   ],
   "source": [
    "prop"
   ]
  },
  {
   "cell_type": "code",
   "execution_count": 162,
   "id": "ee61cb3d",
   "metadata": {},
   "outputs": [],
   "source": [
    "sum_prob = cumsum(prop)"
   ]
  },
  {
   "cell_type": "code",
   "execution_count": 164,
   "id": "6c4e52b5",
   "metadata": {},
   "outputs": [
    {
     "data": {
      "text/html": [
       "<style>\n",
       ".dl-inline {width: auto; margin:0; padding: 0}\n",
       ".dl-inline>dt, .dl-inline>dd {float: none; width: auto; display: inline-block}\n",
       ".dl-inline>dt::after {content: \":\\0020\"; padding-right: .5ex}\n",
       ".dl-inline>dt:not(:first-of-type) {padding-left: .5ex}\n",
       "</style><dl class=dl-inline><dt>0</dt><dd>0.08</dd><dt>1</dt><dd>0.32</dd><dt>2</dt><dd>0.72</dd><dt>3</dt><dd>0.88</dd><dt>4</dt><dd>1</dd></dl>\n"
      ],
      "text/latex": [
       "\\begin{description*}\n",
       "\\item[0] 0.08\n",
       "\\item[1] 0.32\n",
       "\\item[2] 0.72\n",
       "\\item[3] 0.88\n",
       "\\item[4] 1\n",
       "\\end{description*}\n"
      ],
      "text/markdown": [
       "0\n",
       ":   0.081\n",
       ":   0.322\n",
       ":   0.723\n",
       ":   0.884\n",
       ":   1\n",
       "\n"
      ],
      "text/plain": [
       "   0    1    2    3    4 \n",
       "0.08 0.32 0.72 0.88 1.00 "
      ]
     },
     "metadata": {},
     "output_type": "display_data"
    }
   ],
   "source": [
    "sum_prob"
   ]
  },
  {
   "cell_type": "code",
   "execution_count": 167,
   "id": "d1c254ac",
   "metadata": {},
   "outputs": [
    {
     "name": "stderr",
     "output_type": "stream",
     "text": [
      "Warning message in cbind(freq, prop, sum_prob):\n",
      "\"number of rows of result is not a multiple of vector length (arg 2)\"\n"
     ]
    }
   ],
   "source": [
    "freq.table = cbind(freq, prop, sum_prob)"
   ]
  },
  {
   "cell_type": "code",
   "execution_count": 168,
   "id": "d9874b59",
   "metadata": {},
   "outputs": [
    {
     "data": {
      "text/html": [
       "<table class=\"dataframe\">\n",
       "<caption>A matrix: 7 × 3 of type dbl</caption>\n",
       "<thead>\n",
       "\t<tr><th></th><th scope=col>freq</th><th scope=col>prop</th><th scope=col>sum_prob</th></tr>\n",
       "</thead>\n",
       "<tbody>\n",
       "\t<tr><th scope=row>[150,155)</th><td>12</td><td>0.08</td><td>0.08</td></tr>\n",
       "\t<tr><th scope=row>[155,160)</th><td>16</td><td>0.24</td><td>0.32</td></tr>\n",
       "\t<tr><th scope=row>[160,165)</th><td>14</td><td>0.40</td><td>0.72</td></tr>\n",
       "\t<tr><th scope=row>[165,170)</th><td>13</td><td>0.16</td><td>0.88</td></tr>\n",
       "\t<tr><th scope=row>[170,175)</th><td>20</td><td>0.12</td><td>1.00</td></tr>\n",
       "\t<tr><th scope=row>[175,180)</th><td> 9</td><td>0.08</td><td>0.08</td></tr>\n",
       "\t<tr><th scope=row>[180,185)</th><td>14</td><td>0.24</td><td>0.32</td></tr>\n",
       "</tbody>\n",
       "</table>\n"
      ],
      "text/latex": [
       "A matrix: 7 × 3 of type dbl\n",
       "\\begin{tabular}{r|lll}\n",
       "  & freq & prop & sum\\_prob\\\\\n",
       "\\hline\n",
       "\t{[}150,155) & 12 & 0.08 & 0.08\\\\\n",
       "\t{[}155,160) & 16 & 0.24 & 0.32\\\\\n",
       "\t{[}160,165) & 14 & 0.40 & 0.72\\\\\n",
       "\t{[}165,170) & 13 & 0.16 & 0.88\\\\\n",
       "\t{[}170,175) & 20 & 0.12 & 1.00\\\\\n",
       "\t{[}175,180) &  9 & 0.08 & 0.08\\\\\n",
       "\t{[}180,185) & 14 & 0.24 & 0.32\\\\\n",
       "\\end{tabular}\n"
      ],
      "text/markdown": [
       "\n",
       "A matrix: 7 × 3 of type dbl\n",
       "\n",
       "| <!--/--> | freq | prop | sum_prob |\n",
       "|---|---|---|---|\n",
       "| [150,155) | 12 | 0.08 | 0.08 |\n",
       "| [155,160) | 16 | 0.24 | 0.32 |\n",
       "| [160,165) | 14 | 0.40 | 0.72 |\n",
       "| [165,170) | 13 | 0.16 | 0.88 |\n",
       "| [170,175) | 20 | 0.12 | 1.00 |\n",
       "| [175,180) |  9 | 0.08 | 0.08 |\n",
       "| [180,185) | 14 | 0.24 | 0.32 |\n",
       "\n"
      ],
      "text/plain": [
       "          freq prop sum_prob\n",
       "[150,155) 12   0.08 0.08    \n",
       "[155,160) 16   0.24 0.32    \n",
       "[160,165) 14   0.40 0.72    \n",
       "[165,170) 13   0.16 0.88    \n",
       "[170,175) 20   0.12 1.00    \n",
       "[175,180)  9   0.08 0.08    \n",
       "[180,185) 14   0.24 0.32    "
      ]
     },
     "metadata": {},
     "output_type": "display_data"
    }
   ],
   "source": [
    "freq.table"
   ]
  },
  {
   "cell_type": "code",
   "execution_count": 169,
   "id": "18efba68",
   "metadata": {},
   "outputs": [],
   "source": [
    "x = ive"
   ]
  },
  {
   "cell_type": "code",
   "execution_count": 170,
   "id": "9f92a095",
   "metadata": {},
   "outputs": [
    {
     "data": {
      "text/html": [
       "<style>\n",
       ".list-inline {list-style: none; margin:0; padding: 0}\n",
       ".list-inline>li {display: inline-block}\n",
       ".list-inline>li:not(:last-child)::after {content: \"\\00b7\"; padding: 0 .5ex}\n",
       "</style>\n",
       "<ol class=list-inline><li>4</li><li>1</li><li>0</li><li>0</li><li>2</li><li>2</li><li>2</li><li>2</li><li>2</li><li>1</li><li>2</li><li>3</li><li>1</li><li>2</li><li>2</li><li>3</li><li>1</li><li>2</li><li>1</li><li>2</li><li>1</li><li>4</li><li>4</li><li>3</li><li>3</li></ol>\n"
      ],
      "text/latex": [
       "\\begin{enumerate*}\n",
       "\\item 4\n",
       "\\item 1\n",
       "\\item 0\n",
       "\\item 0\n",
       "\\item 2\n",
       "\\item 2\n",
       "\\item 2\n",
       "\\item 2\n",
       "\\item 2\n",
       "\\item 1\n",
       "\\item 2\n",
       "\\item 3\n",
       "\\item 1\n",
       "\\item 2\n",
       "\\item 2\n",
       "\\item 3\n",
       "\\item 1\n",
       "\\item 2\n",
       "\\item 1\n",
       "\\item 2\n",
       "\\item 1\n",
       "\\item 4\n",
       "\\item 4\n",
       "\\item 3\n",
       "\\item 3\n",
       "\\end{enumerate*}\n"
      ],
      "text/markdown": [
       "1. 4\n",
       "2. 1\n",
       "3. 0\n",
       "4. 0\n",
       "5. 2\n",
       "6. 2\n",
       "7. 2\n",
       "8. 2\n",
       "9. 2\n",
       "10. 1\n",
       "11. 2\n",
       "12. 3\n",
       "13. 1\n",
       "14. 2\n",
       "15. 2\n",
       "16. 3\n",
       "17. 1\n",
       "18. 2\n",
       "19. 1\n",
       "20. 2\n",
       "21. 1\n",
       "22. 4\n",
       "23. 4\n",
       "24. 3\n",
       "25. 3\n",
       "\n",
       "\n"
      ],
      "text/plain": [
       " [1] 4 1 0 0 2 2 2 2 2 1 2 3 1 2 2 3 1 2 1 2 1 4 4 3 3"
      ]
     },
     "metadata": {},
     "output_type": "display_data"
    }
   ],
   "source": [
    "x"
   ]
  },
  {
   "cell_type": "code",
   "execution_count": 171,
   "id": "d09ad344",
   "metadata": {},
   "outputs": [],
   "source": [
    "freq = table(x)"
   ]
  },
  {
   "cell_type": "code",
   "execution_count": 172,
   "id": "dbcd7e15",
   "metadata": {},
   "outputs": [
    {
     "data": {
      "text/plain": [
       "x\n",
       " 0  1  2  3  4 \n",
       " 2  6 10  4  3 "
      ]
     },
     "metadata": {},
     "output_type": "display_data"
    }
   ],
   "source": [
    "freq"
   ]
  },
  {
   "cell_type": "code",
   "execution_count": 173,
   "id": "0f985441",
   "metadata": {},
   "outputs": [
    {
     "data": {
      "text/plain": [
       "x\n",
       "   0    1    2    3    4 \n",
       "0.08 0.24 0.40 0.16 0.12 "
      ]
     },
     "metadata": {},
     "output_type": "display_data"
    }
   ],
   "source": [
    "prob = prop.table(freq)\n",
    "prob"
   ]
  },
  {
   "cell_type": "code",
   "execution_count": 174,
   "id": "e2c353d8",
   "metadata": {},
   "outputs": [],
   "source": [
    "sum_prob = cumsum(prob)"
   ]
  },
  {
   "cell_type": "code",
   "execution_count": 175,
   "id": "27075637",
   "metadata": {},
   "outputs": [
    {
     "data": {
      "text/html": [
       "<style>\n",
       ".dl-inline {width: auto; margin:0; padding: 0}\n",
       ".dl-inline>dt, .dl-inline>dd {float: none; width: auto; display: inline-block}\n",
       ".dl-inline>dt::after {content: \":\\0020\"; padding-right: .5ex}\n",
       ".dl-inline>dt:not(:first-of-type) {padding-left: .5ex}\n",
       "</style><dl class=dl-inline><dt>0</dt><dd>0.08</dd><dt>1</dt><dd>0.32</dd><dt>2</dt><dd>0.72</dd><dt>3</dt><dd>0.88</dd><dt>4</dt><dd>1</dd></dl>\n"
      ],
      "text/latex": [
       "\\begin{description*}\n",
       "\\item[0] 0.08\n",
       "\\item[1] 0.32\n",
       "\\item[2] 0.72\n",
       "\\item[3] 0.88\n",
       "\\item[4] 1\n",
       "\\end{description*}\n"
      ],
      "text/markdown": [
       "0\n",
       ":   0.081\n",
       ":   0.322\n",
       ":   0.723\n",
       ":   0.884\n",
       ":   1\n",
       "\n"
      ],
      "text/plain": [
       "   0    1    2    3    4 \n",
       "0.08 0.32 0.72 0.88 1.00 "
      ]
     },
     "metadata": {},
     "output_type": "display_data"
    }
   ],
   "source": [
    "sum_prob"
   ]
  },
  {
   "cell_type": "code",
   "execution_count": 176,
   "id": "4debf49c",
   "metadata": {},
   "outputs": [],
   "source": [
    "freq.table = cbind(freq, prob, sum_prob)"
   ]
  },
  {
   "cell_type": "code",
   "execution_count": 177,
   "id": "1f808176",
   "metadata": {},
   "outputs": [
    {
     "data": {
      "text/html": [
       "<table class=\"dataframe\">\n",
       "<caption>A matrix: 5 × 3 of type dbl</caption>\n",
       "<thead>\n",
       "\t<tr><th></th><th scope=col>freq</th><th scope=col>prob</th><th scope=col>sum_prob</th></tr>\n",
       "</thead>\n",
       "<tbody>\n",
       "\t<tr><th scope=row>0</th><td> 2</td><td>0.08</td><td>0.08</td></tr>\n",
       "\t<tr><th scope=row>1</th><td> 6</td><td>0.24</td><td>0.32</td></tr>\n",
       "\t<tr><th scope=row>2</th><td>10</td><td>0.40</td><td>0.72</td></tr>\n",
       "\t<tr><th scope=row>3</th><td> 4</td><td>0.16</td><td>0.88</td></tr>\n",
       "\t<tr><th scope=row>4</th><td> 3</td><td>0.12</td><td>1.00</td></tr>\n",
       "</tbody>\n",
       "</table>\n"
      ],
      "text/latex": [
       "A matrix: 5 × 3 of type dbl\n",
       "\\begin{tabular}{r|lll}\n",
       "  & freq & prob & sum\\_prob\\\\\n",
       "\\hline\n",
       "\t0 &  2 & 0.08 & 0.08\\\\\n",
       "\t1 &  6 & 0.24 & 0.32\\\\\n",
       "\t2 & 10 & 0.40 & 0.72\\\\\n",
       "\t3 &  4 & 0.16 & 0.88\\\\\n",
       "\t4 &  3 & 0.12 & 1.00\\\\\n",
       "\\end{tabular}\n"
      ],
      "text/markdown": [
       "\n",
       "A matrix: 5 × 3 of type dbl\n",
       "\n",
       "| <!--/--> | freq | prob | sum_prob |\n",
       "|---|---|---|---|\n",
       "| 0 |  2 | 0.08 | 0.08 |\n",
       "| 1 |  6 | 0.24 | 0.32 |\n",
       "| 2 | 10 | 0.40 | 0.72 |\n",
       "| 3 |  4 | 0.16 | 0.88 |\n",
       "| 4 |  3 | 0.12 | 1.00 |\n",
       "\n"
      ],
      "text/plain": [
       "  freq prob sum_prob\n",
       "0  2   0.08 0.08    \n",
       "1  6   0.24 0.32    \n",
       "2 10   0.40 0.72    \n",
       "3  4   0.16 0.88    \n",
       "4  3   0.12 1.00    "
      ]
     },
     "metadata": {},
     "output_type": "display_data"
    }
   ],
   "source": [
    "freq.table"
   ]
  },
  {
   "cell_type": "code",
   "execution_count": 179,
   "id": "d1ac09f9",
   "metadata": {},
   "outputs": [
    {
     "data": {
      "image/png": "[encoded data removed]",
      "text/plain": [
       "Plot with title \"boxplot\""
      ]
     },
     "metadata": {
      "image/png": {
       "height": 420,
       "width": 420
      }
     },
     "output_type": "display_data"
    }
   ],
   "source": [
    "barplot(freq, main ='boxplot', xlab = 'Num of Head', ylab = 'Freq')"
   ]
  },
  {
   "cell_type": "code",
   "execution_count": 180,
   "id": "28dd661f",
   "metadata": {},
   "outputs": [
    {
     "data": {
      "image/png": "[encoded data removed]",
      "text/plain": [
       "Plot with title \"barplot\""
      ]
     },
     "metadata": {
      "image/png": {
       "height": 420,
       "width": 420
      }
     },
     "output_type": "display_data"
    }
   ],
   "source": [
    "barplot(prop, main = 'barplot', xlab = 'Number of Head', ylab = 'Prob')"
   ]
  },
  {
   "cell_type": "code",
   "execution_count": 181,
   "id": "c4ada6ec",
   "metadata": {},
   "outputs": [],
   "source": [
    "level = c('중졸','고졸','대졸','고졸','대졸',\n",
    "         '고졸','중졸','대졸','고졸','대졸',\n",
    "         '고졸','중졸','고졸','중졸','고졸',\n",
    "         '대졸','대졸','중졸','대졸','고졸',\n",
    "         '고졸','중졸','고졸','중졸')\n",
    "pay = c('A','B','C','C','B','B','A','C','B','B',\n",
    "       'C','A','B','B','A', 'C','C','A','C','B','C','A','B','A')\n",
    "total = data.frame(level, pay)"
   ]
  },
  {
   "cell_type": "code",
   "execution_count": 182,
   "id": "1f5dd8e6",
   "metadata": {},
   "outputs": [
    {
     "data": {
      "text/html": [
       "<table class=\"dataframe\">\n",
       "<caption>A data.frame: 24 × 2</caption>\n",
       "<thead>\n",
       "\t<tr><th scope=col>level</th><th scope=col>pay</th></tr>\n",
       "\t<tr><th scope=col>&lt;chr&gt;</th><th scope=col>&lt;chr&gt;</th></tr>\n",
       "</thead>\n",
       "<tbody>\n",
       "\t<tr><td>중졸</td><td>A</td></tr>\n",
       "\t<tr><td>고졸</td><td>B</td></tr>\n",
       "\t<tr><td>대졸</td><td>C</td></tr>\n",
       "\t<tr><td>고졸</td><td>C</td></tr>\n",
       "\t<tr><td>대졸</td><td>B</td></tr>\n",
       "\t<tr><td>고졸</td><td>B</td></tr>\n",
       "\t<tr><td>중졸</td><td>A</td></tr>\n",
       "\t<tr><td>대졸</td><td>C</td></tr>\n",
       "\t<tr><td>고졸</td><td>B</td></tr>\n",
       "\t<tr><td>대졸</td><td>B</td></tr>\n",
       "\t<tr><td>고졸</td><td>C</td></tr>\n",
       "\t<tr><td>중졸</td><td>A</td></tr>\n",
       "\t<tr><td>고졸</td><td>B</td></tr>\n",
       "\t<tr><td>중졸</td><td>B</td></tr>\n",
       "\t<tr><td>고졸</td><td>A</td></tr>\n",
       "\t<tr><td>대졸</td><td>C</td></tr>\n",
       "\t<tr><td>대졸</td><td>C</td></tr>\n",
       "\t<tr><td>중졸</td><td>A</td></tr>\n",
       "\t<tr><td>대졸</td><td>C</td></tr>\n",
       "\t<tr><td>고졸</td><td>B</td></tr>\n",
       "\t<tr><td>고졸</td><td>C</td></tr>\n",
       "\t<tr><td>중졸</td><td>A</td></tr>\n",
       "\t<tr><td>고졸</td><td>B</td></tr>\n",
       "\t<tr><td>중졸</td><td>A</td></tr>\n",
       "</tbody>\n",
       "</table>\n"
      ],
      "text/latex": [
       "A data.frame: 24 × 2\n",
       "\\begin{tabular}{ll}\n",
       " level & pay\\\\\n",
       " <chr> & <chr>\\\\\n",
       "\\hline\n",
       "\t 중졸 & A\\\\\n",
       "\t 고졸 & B\\\\\n",
       "\t 대졸 & C\\\\\n",
       "\t 고졸 & C\\\\\n",
       "\t 대졸 & B\\\\\n",
       "\t 고졸 & B\\\\\n",
       "\t 중졸 & A\\\\\n",
       "\t 대졸 & C\\\\\n",
       "\t 고졸 & B\\\\\n",
       "\t 대졸 & B\\\\\n",
       "\t 고졸 & C\\\\\n",
       "\t 중졸 & A\\\\\n",
       "\t 고졸 & B\\\\\n",
       "\t 중졸 & B\\\\\n",
       "\t 고졸 & A\\\\\n",
       "\t 대졸 & C\\\\\n",
       "\t 대졸 & C\\\\\n",
       "\t 중졸 & A\\\\\n",
       "\t 대졸 & C\\\\\n",
       "\t 고졸 & B\\\\\n",
       "\t 고졸 & C\\\\\n",
       "\t 중졸 & A\\\\\n",
       "\t 고졸 & B\\\\\n",
       "\t 중졸 & A\\\\\n",
       "\\end{tabular}\n"
      ],
      "text/markdown": [
       "\n",
       "A data.frame: 24 × 2\n",
       "\n",
       "| level &lt;chr&gt; | pay &lt;chr&gt; |\n",
       "|---|---|\n",
       "| 중졸 | A |\n",
       "| 고졸 | B |\n",
       "| 대졸 | C |\n",
       "| 고졸 | C |\n",
       "| 대졸 | B |\n",
       "| 고졸 | B |\n",
       "| 중졸 | A |\n",
       "| 대졸 | C |\n",
       "| 고졸 | B |\n",
       "| 대졸 | B |\n",
       "| 고졸 | C |\n",
       "| 중졸 | A |\n",
       "| 고졸 | B |\n",
       "| 중졸 | B |\n",
       "| 고졸 | A |\n",
       "| 대졸 | C |\n",
       "| 대졸 | C |\n",
       "| 중졸 | A |\n",
       "| 대졸 | C |\n",
       "| 고졸 | B |\n",
       "| 고졸 | C |\n",
       "| 중졸 | A |\n",
       "| 고졸 | B |\n",
       "| 중졸 | A |\n",
       "\n"
      ],
      "text/plain": [
       "   level pay\n",
       "1  중졸  A  \n",
       "2  고졸  B  \n",
       "3  대졸  C  \n",
       "4  고졸  C  \n",
       "5  대졸  B  \n",
       "6  고졸  B  \n",
       "7  중졸  A  \n",
       "8  대졸  C  \n",
       "9  고졸  B  \n",
       "10 대졸  B  \n",
       "11 고졸  C  \n",
       "12 중졸  A  \n",
       "13 고졸  B  \n",
       "14 중졸  B  \n",
       "15 고졸  A  \n",
       "16 대졸  C  \n",
       "17 대졸  C  \n",
       "18 중졸  A  \n",
       "19 대졸  C  \n",
       "20 고졸  B  \n",
       "21 고졸  C  \n",
       "22 중졸  A  \n",
       "23 고졸  B  \n",
       "24 중졸  A  "
      ]
     },
     "metadata": {},
     "output_type": "display_data"
    }
   ],
   "source": [
    "total"
   ]
  },
  {
   "cell_type": "code",
   "execution_count": 183,
   "id": "2dbf9a90",
   "metadata": {},
   "outputs": [
    {
     "data": {
      "text/plain": [
       "      pay\n",
       "level  A B C\n",
       "  고졸 1 6 3\n",
       "  대졸 0 2 5\n",
       "  중졸 6 1 0"
      ]
     },
     "metadata": {},
     "output_type": "display_data"
    }
   ],
   "source": [
    "table(total)"
   ]
  },
  {
   "cell_type": "code",
   "execution_count": 185,
   "id": "a8331c0b",
   "metadata": {},
   "outputs": [
    {
     "name": "stdout",
     "output_type": "stream",
     "text": [
      "[1] \"Your Score is A+\"\n"
     ]
    }
   ],
   "source": [
    "print('Your Score is A+')"
   ]
  },
  {
   "cell_type": "code",
   "execution_count": 186,
   "id": "d0502a67",
   "metadata": {},
   "outputs": [
    {
     "name": "stdout",
     "output_type": "stream",
     "text": [
      "[1] \"Your total Score is EX+ (Unlimited SSS+)\"\n"
     ]
    }
   ],
   "source": [
    "print('Your total Score is EX+ (Unlimited SSS+)')"
   ]
  },
  {
   "cell_type": "code",
   "execution_count": 188,
   "id": "22af236d",
   "metadata": {},
   "outputs": [
    {
     "data": {
      "image/png": "[encoded data removed]",
      "text/plain": [
       "Plot with title \"barplot\""
      ]
     },
     "metadata": {
      "image/png": {
       "height": 420,
       "width": 420
      }
     },
     "output_type": "display_data"
    }
   ],
   "source": [
    "barplot(table(total), col = rainbow(3),\n",
    "       ylim = c(0, 10), main = 'barplot')\n",
    "legend(\"topright\", fill=rainbow(3), \n",
    "      rownames(table(total)))"
   ]
  },
  {
   "cell_type": "code",
   "execution_count": 189,
   "id": "4b53a559",
   "metadata": {},
   "outputs": [],
   "source": [
    "journey = c(12, 14, 8, 6)"
   ]
  },
  {
   "cell_type": "code",
   "execution_count": 190,
   "id": "8d84157c",
   "metadata": {},
   "outputs": [],
   "source": [
    "prob = prop.table(journey)"
   ]
  },
  {
   "cell_type": "code",
   "execution_count": 191,
   "id": "1f675270",
   "metadata": {},
   "outputs": [
    {
     "data": {
      "text/html": [
       "<style>\n",
       ".list-inline {list-style: none; margin:0; padding: 0}\n",
       ".list-inline>li {display: inline-block}\n",
       ".list-inline>li:not(:last-child)::after {content: \"\\00b7\"; padding: 0 .5ex}\n",
       "</style>\n",
       "<ol class=list-inline><li>0.3</li><li>0.35</li><li>0.2</li><li>0.15</li></ol>\n"
      ],
      "text/latex": [
       "\\begin{enumerate*}\n",
       "\\item 0.3\n",
       "\\item 0.35\n",
       "\\item 0.2\n",
       "\\item 0.15\n",
       "\\end{enumerate*}\n"
      ],
      "text/markdown": [
       "1. 0.3\n",
       "2. 0.35\n",
       "3. 0.2\n",
       "4. 0.15\n",
       "\n",
       "\n"
      ],
      "text/plain": [
       "[1] 0.30 0.35 0.20 0.15"
      ]
     },
     "metadata": {},
     "output_type": "display_data"
    }
   ],
   "source": [
    "prob"
   ]
  },
  {
   "cell_type": "code",
   "execution_count": 192,
   "id": "401a4e3d",
   "metadata": {},
   "outputs": [],
   "source": [
    "name = c('하와이','동남아','유럽','기타')"
   ]
  },
  {
   "cell_type": "code",
   "execution_count": 193,
   "id": "3b36f364",
   "metadata": {},
   "outputs": [
    {
     "data": {
      "text/html": [
       "<style>\n",
       ".list-inline {list-style: none; margin:0; padding: 0}\n",
       ".list-inline>li {display: inline-block}\n",
       ".list-inline>li:not(:last-child)::after {content: \"\\00b7\"; padding: 0 .5ex}\n",
       "</style>\n",
       "<ol class=list-inline><li>'하와이'</li><li>'동남아'</li><li>'유럽'</li><li>'기타'</li></ol>\n"
      ],
      "text/latex": [
       "\\begin{enumerate*}\n",
       "\\item '하와이'\n",
       "\\item '동남아'\n",
       "\\item '유럽'\n",
       "\\item '기타'\n",
       "\\end{enumerate*}\n"
      ],
      "text/markdown": [
       "1. '하와이'\n",
       "2. '동남아'\n",
       "3. '유럽'\n",
       "4. '기타'\n",
       "\n",
       "\n"
      ],
      "text/plain": [
       "[1] \"하와이\" \"동남아\" \"유럽\"   \"기타\"  "
      ]
     },
     "metadata": {},
     "output_type": "display_data"
    }
   ],
   "source": [
    "name"
   ]
  },
  {
   "cell_type": "code",
   "execution_count": 195,
   "id": "4029ad7a",
   "metadata": {},
   "outputs": [
    {
     "data": {
      "image/png": "[encoded data removed]",
      "text/plain": [
       "Plot with title \"Pie Chart\""
      ]
     },
     "metadata": {
      "image/png": {
       "height": 420,
       "width": 420
      }
     },
     "output_type": "display_data"
    }
   ],
   "source": [
    "pie(journey, labels=name, main = 'Pie Chart', sub = 'trip sites')"
   ]
  },
  {
   "cell_type": "code",
   "execution_count": 196,
   "id": "ded1ac6e",
   "metadata": {},
   "outputs": [
    {
     "data": {
      "text/html": [
       "<style>\n",
       ".list-inline {list-style: none; margin:0; padding: 0}\n",
       ".list-inline>li {display: inline-block}\n",
       ".list-inline>li:not(:last-child)::after {content: \"\\00b7\"; padding: 0 .5ex}\n",
       "</style>\n",
       "<ol class=list-inline><li>3</li><li>4</li><li>16</li><li>2</li><li>10</li><li>13</li><li>12</li><li>16</li><li>14</li><li>1</li><li>14</li><li>11</li><li>13</li><li>17</li><li>15</li><li>10</li><li>5</li><li>16</li><li>20</li><li>17</li><li>11</li><li>14</li><li>11</li><li>3</li><li>10</li><li>15</li><li>16</li><li>1</li><li>21</li><li>12</li><li>15</li><li>20</li><li>1</li><li>13</li><li>0</li><li>21</li><li>10</li><li>10</li><li>2</li><li>9</li><li>18</li><li>18</li><li>19</li><li>5</li><li>3</li><li>14</li><li>17</li><li>9</li><li>17</li><li>0</li><li>12</li><li>17</li><li>5</li><li>19</li><li>12</li><li>18</li><li>4</li><li>16</li><li>5</li><li>19</li><li>2</li><li>1</li><li>11</li><li>5</li><li>9</li><li>8</li><li>8</li><li>9</li><li>5</li><li>12</li><li>19</li><li>16</li><li>15</li><li>17</li><li>8</li><li>7</li><li>20</li><li>1</li><li>21</li><li>11</li><li>14</li><li>10</li><li>14</li><li>18</li><li>21</li><li>21</li><li>15</li><li>21</li><li>14</li><li>19</li><li>6</li><li>1</li><li>14</li><li>1</li><li>9</li><li>10</li><li>14</li><li>15</li><li>8</li></ol>\n"
      ],
      "text/latex": [
       "\\begin{enumerate*}\n",
       "\\item 3\n",
       "\\item 4\n",
       "\\item 16\n",
       "\\item 2\n",
       "\\item 10\n",
       "\\item 13\n",
       "\\item 12\n",
       "\\item 16\n",
       "\\item 14\n",
       "\\item 1\n",
       "\\item 14\n",
       "\\item 11\n",
       "\\item 13\n",
       "\\item 17\n",
       "\\item 15\n",
       "\\item 10\n",
       "\\item 5\n",
       "\\item 16\n",
       "\\item 20\n",
       "\\item 17\n",
       "\\item 11\n",
       "\\item 14\n",
       "\\item 11\n",
       "\\item 3\n",
       "\\item 10\n",
       "\\item 15\n",
       "\\item 16\n",
       "\\item 1\n",
       "\\item 21\n",
       "\\item 12\n",
       "\\item 15\n",
       "\\item 20\n",
       "\\item 1\n",
       "\\item 13\n",
       "\\item 0\n",
       "\\item 21\n",
       "\\item 10\n",
       "\\item 10\n",
       "\\item 2\n",
       "\\item 9\n",
       "\\item 18\n",
       "\\item 18\n",
       "\\item 19\n",
       "\\item 5\n",
       "\\item 3\n",
       "\\item 14\n",
       "\\item 17\n",
       "\\item 9\n",
       "\\item 17\n",
       "\\item 0\n",
       "\\item 12\n",
       "\\item 17\n",
       "\\item 5\n",
       "\\item 19\n",
       "\\item 12\n",
       "\\item 18\n",
       "\\item 4\n",
       "\\item 16\n",
       "\\item 5\n",
       "\\item 19\n",
       "\\item 2\n",
       "\\item 1\n",
       "\\item 11\n",
       "\\item 5\n",
       "\\item 9\n",
       "\\item 8\n",
       "\\item 8\n",
       "\\item 9\n",
       "\\item 5\n",
       "\\item 12\n",
       "\\item 19\n",
       "\\item 16\n",
       "\\item 15\n",
       "\\item 17\n",
       "\\item 8\n",
       "\\item 7\n",
       "\\item 20\n",
       "\\item 1\n",
       "\\item 21\n",
       "\\item 11\n",
       "\\item 14\n",
       "\\item 10\n",
       "\\item 14\n",
       "\\item 18\n",
       "\\item 21\n",
       "\\item 21\n",
       "\\item 15\n",
       "\\item 21\n",
       "\\item 14\n",
       "\\item 19\n",
       "\\item 6\n",
       "\\item 1\n",
       "\\item 14\n",
       "\\item 1\n",
       "\\item 9\n",
       "\\item 10\n",
       "\\item 14\n",
       "\\item 15\n",
       "\\item 8\n",
       "\\end{enumerate*}\n"
      ],
      "text/markdown": [
       "1. 3\n",
       "2. 4\n",
       "3. 16\n",
       "4. 2\n",
       "5. 10\n",
       "6. 13\n",
       "7. 12\n",
       "8. 16\n",
       "9. 14\n",
       "10. 1\n",
       "11. 14\n",
       "12. 11\n",
       "13. 13\n",
       "14. 17\n",
       "15. 15\n",
       "16. 10\n",
       "17. 5\n",
       "18. 16\n",
       "19. 20\n",
       "20. 17\n",
       "21. 11\n",
       "22. 14\n",
       "23. 11\n",
       "24. 3\n",
       "25. 10\n",
       "26. 15\n",
       "27. 16\n",
       "28. 1\n",
       "29. 21\n",
       "30. 12\n",
       "31. 15\n",
       "32. 20\n",
       "33. 1\n",
       "34. 13\n",
       "35. 0\n",
       "36. 21\n",
       "37. 10\n",
       "38. 10\n",
       "39. 2\n",
       "40. 9\n",
       "41. 18\n",
       "42. 18\n",
       "43. 19\n",
       "44. 5\n",
       "45. 3\n",
       "46. 14\n",
       "47. 17\n",
       "48. 9\n",
       "49. 17\n",
       "50. 0\n",
       "51. 12\n",
       "52. 17\n",
       "53. 5\n",
       "54. 19\n",
       "55. 12\n",
       "56. 18\n",
       "57. 4\n",
       "58. 16\n",
       "59. 5\n",
       "60. 19\n",
       "61. 2\n",
       "62. 1\n",
       "63. 11\n",
       "64. 5\n",
       "65. 9\n",
       "66. 8\n",
       "67. 8\n",
       "68. 9\n",
       "69. 5\n",
       "70. 12\n",
       "71. 19\n",
       "72. 16\n",
       "73. 15\n",
       "74. 17\n",
       "75. 8\n",
       "76. 7\n",
       "77. 20\n",
       "78. 1\n",
       "79. 21\n",
       "80. 11\n",
       "81. 14\n",
       "82. 10\n",
       "83. 14\n",
       "84. 18\n",
       "85. 21\n",
       "86. 21\n",
       "87. 15\n",
       "88. 21\n",
       "89. 14\n",
       "90. 19\n",
       "91. 6\n",
       "92. 1\n",
       "93. 14\n",
       "94. 1\n",
       "95. 9\n",
       "96. 10\n",
       "97. 14\n",
       "98. 15\n",
       "99. 8\n",
       "\n",
       "\n"
      ],
      "text/plain": [
       " [1]  3  4 16  2 10 13 12 16 14  1 14 11 13 17 15 10  5 16 20 17 11 14 11  3 10\n",
       "[26] 15 16  1 21 12 15 20  1 13  0 21 10 10  2  9 18 18 19  5  3 14 17  9 17  0\n",
       "[51] 12 17  5 19 12 18  4 16  5 19  2  1 11  5  9  8  8  9  5 12 19 16 15 17  8\n",
       "[76]  7 20  1 21 11 14 10 14 18 21 21 15 21 14 19  6  1 14  1  9 10 14 15  8"
      ]
     },
     "metadata": {},
     "output_type": "display_data"
    }
   ],
   "source": [
    "mental = c(3, 4, 16, 2, 10, 13, 12, 16, 14, 1, 14, 11, 13, 17, 15, 10, 5, 16, 20, 17, 11, 14, 11, 3, 10, 15, 16, 1, 21, 12, 15, 20, 1, 13, 0, 21, 10, 10, 2, 9, 18, 18, 19, 5, 3, 14, 17, 9, 17, 0, 12, 17, 5, 19, 12, 18, 4, 16, 5, 19, 2, 1, 11, 5, 9, 8, 8, 9, 5, 12, 19, 16, 15, 17, 8, 7, 20, 1, 21, 11, 14, 10, 14, 18, 21, 21, 15, 21, 14, 19, 6, 1, 14, 1, 9, 10, 14, 15, 8)\n",
    "mental"
   ]
  },
  {
   "cell_type": "code",
   "execution_count": 197,
   "id": "c41c7e28",
   "metadata": {},
   "outputs": [],
   "source": [
    "overuse = c(28, 27, 11, 23, 18, 22, 12, 7, 2, 30, 16, 1, 27, 24, 28, 1, 10, 2, 28, 13, 21, 25, 29, 5, 3, 7, 13, 8, 6, 23, 1, 17, 7, 12, 17, 5, 9, 10, 17, 19, 0, 19, 11, 21, 7, 21, 12, 13, 11, 8, 28, 0, 2, 17, 23, 17, 24, 6, 1, 23, 4, 12, 29, 28, 24, 2, 9, 4, 23, 24, 22, 18, 0, 28, 8, 29, 2, 25, 26, 29, 25, 28, 17, 17, 24, 3, 19, 21, 14, 28, 15, 10, 29, 24, 24, 28, 30, 19, 26)\n"
   ]
  },
  {
   "cell_type": "code",
   "execution_count": 201,
   "id": "5c219d43",
   "metadata": {},
   "outputs": [
    {
     "data": {
      "image/png": "[encoded data removed]",
      "text/plain": [
       "Plot with title \"Mental\""
      ]
     },
     "metadata": {
      "image/png": {
       "height": 420,
       "width": 420
      }
     },
     "output_type": "display_data"
    }
   ],
   "source": [
    "boxplot(mental, main = 'Mental', horizontal = T)"
   ]
  },
  {
   "cell_type": "code",
   "execution_count": 203,
   "id": "7bdc49d4",
   "metadata": {},
   "outputs": [
    {
     "data": {
      "image/png": "[encoded data removed]",
      "text/plain": [
       "Plot with title \"overuse\""
      ]
     },
     "metadata": {
      "image/png": {
       "height": 420,
       "width": 420
      }
     },
     "output_type": "display_data"
    }
   ],
   "source": [
    "boxplot(overuse, main = 'overuse', horizontal = T)"
   ]
  },
  {
   "cell_type": "code",
   "execution_count": 204,
   "id": "44ad926f",
   "metadata": {},
   "outputs": [],
   "source": [
    "a = c(70, 60, 90, 100, 70, 80)"
   ]
  },
  {
   "cell_type": "code",
   "execution_count": 205,
   "id": "1f66846d",
   "metadata": {},
   "outputs": [],
   "source": [
    "b = c(60, 80, 80, 90, 90, 50)"
   ]
  },
  {
   "cell_type": "code",
   "execution_count": 206,
   "id": "666370fa",
   "metadata": {},
   "outputs": [],
   "source": [
    "c = c(80, 70, 60, 100, 70, 90)"
   ]
  },
  {
   "cell_type": "code",
   "execution_count": 207,
   "id": "34cd3c18",
   "metadata": {},
   "outputs": [
    {
     "data": {
      "text/html": [
       "<style>\n",
       ".list-inline {list-style: none; margin:0; padding: 0}\n",
       ".list-inline>li {display: inline-block}\n",
       ".list-inline>li:not(:last-child)::after {content: \"\\00b7\"; padding: 0 .5ex}\n",
       "</style>\n",
       "<ol class=list-inline><li>60</li><li>100</li></ol>\n"
      ],
      "text/latex": [
       "\\begin{enumerate*}\n",
       "\\item 60\n",
       "\\item 100\n",
       "\\end{enumerate*}\n"
      ],
      "text/markdown": [
       "1. 60\n",
       "2. 100\n",
       "\n",
       "\n"
      ],
      "text/plain": [
       "[1]  60 100"
      ]
     },
     "metadata": {},
     "output_type": "display_data"
    },
    {
     "data": {
      "text/html": [
       "<style>\n",
       ".list-inline {list-style: none; margin:0; padding: 0}\n",
       ".list-inline>li {display: inline-block}\n",
       ".list-inline>li:not(:last-child)::after {content: \"\\00b7\"; padding: 0 .5ex}\n",
       "</style>\n",
       "<ol class=list-inline><li>50</li><li>90</li></ol>\n"
      ],
      "text/latex": [
       "\\begin{enumerate*}\n",
       "\\item 50\n",
       "\\item 90\n",
       "\\end{enumerate*}\n"
      ],
      "text/markdown": [
       "1. 50\n",
       "2. 90\n",
       "\n",
       "\n"
      ],
      "text/plain": [
       "[1] 50 90"
      ]
     },
     "metadata": {},
     "output_type": "display_data"
    },
    {
     "data": {
      "text/html": [
       "<style>\n",
       ".list-inline {list-style: none; margin:0; padding: 0}\n",
       ".list-inline>li {display: inline-block}\n",
       ".list-inline>li:not(:last-child)::after {content: \"\\00b7\"; padding: 0 .5ex}\n",
       "</style>\n",
       "<ol class=list-inline><li>60</li><li>100</li></ol>\n"
      ],
      "text/latex": [
       "\\begin{enumerate*}\n",
       "\\item 60\n",
       "\\item 100\n",
       "\\end{enumerate*}\n"
      ],
      "text/markdown": [
       "1. 60\n",
       "2. 100\n",
       "\n",
       "\n"
      ],
      "text/plain": [
       "[1]  60 100"
      ]
     },
     "metadata": {},
     "output_type": "display_data"
    }
   ],
   "source": [
    "range(a)\n",
    "range(b)\n",
    "range(c)"
   ]
  },
  {
   "cell_type": "code",
   "execution_count": 208,
   "id": "76593047",
   "metadata": {},
   "outputs": [
    {
     "data": {
      "text/html": [
       "17.5"
      ],
      "text/latex": [
       "17.5"
      ],
      "text/markdown": [
       "17.5"
      ],
      "text/plain": [
       "[1] 17.5"
      ]
     },
     "metadata": {},
     "output_type": "display_data"
    },
    {
     "data": {
      "text/html": [
       "22.5"
      ],
      "text/latex": [
       "22.5"
      ],
      "text/markdown": [
       "22.5"
      ],
      "text/plain": [
       "[1] 22.5"
      ]
     },
     "metadata": {},
     "output_type": "display_data"
    },
    {
     "data": {
      "text/html": [
       "17.5"
      ],
      "text/latex": [
       "17.5"
      ],
      "text/markdown": [
       "17.5"
      ],
      "text/plain": [
       "[1] 17.5"
      ]
     },
     "metadata": {},
     "output_type": "display_data"
    }
   ],
   "source": [
    "IQR(a)\n",
    "IQR(b)\n",
    "IQR(c)"
   ]
  },
  {
   "cell_type": "code",
   "execution_count": 209,
   "id": "28111d44",
   "metadata": {},
   "outputs": [
    {
     "data": {
      "text/html": [
       "216.666666666667"
      ],
      "text/latex": [
       "216.666666666667"
      ],
      "text/markdown": [
       "216.666666666667"
      ],
      "text/plain": [
       "[1] 216.6667"
      ]
     },
     "metadata": {},
     "output_type": "display_data"
    },
    {
     "data": {
      "text/html": [
       "270"
      ],
      "text/latex": [
       "270"
      ],
      "text/markdown": [
       "270"
      ],
      "text/plain": [
       "[1] 270"
      ]
     },
     "metadata": {},
     "output_type": "display_data"
    },
    {
     "data": {
      "text/html": [
       "216.666666666667"
      ],
      "text/latex": [
       "216.666666666667"
      ],
      "text/markdown": [
       "216.666666666667"
      ],
      "text/plain": [
       "[1] 216.6667"
      ]
     },
     "metadata": {},
     "output_type": "display_data"
    }
   ],
   "source": [
    "var(a)\n",
    "var(b)\n",
    "var(c)"
   ]
  },
  {
   "cell_type": "code",
   "execution_count": 210,
   "id": "0eedb5c3",
   "metadata": {},
   "outputs": [
    {
     "data": {
      "text/html": [
       "5.125"
      ],
      "text/latex": [
       "5.125"
      ],
      "text/markdown": [
       "5.125"
      ],
      "text/plain": [
       "[1] 5.125"
      ]
     },
     "metadata": {},
     "output_type": "display_data"
    }
   ],
   "source": [
    "age = c(4, 5, 6, 3, 7, 5, 6, 5)\n",
    "mean(age)"
   ]
  },
  {
   "cell_type": "code",
   "execution_count": 211,
   "id": "503e10ea",
   "metadata": {},
   "outputs": [
    {
     "data": {
      "text/html": [
       "1.55357142857143"
      ],
      "text/latex": [
       "1.55357142857143"
      ],
      "text/markdown": [
       "1.55357142857143"
      ],
      "text/plain": [
       "[1] 1.553571"
      ]
     },
     "metadata": {},
     "output_type": "display_data"
    }
   ],
   "source": [
    "var(age)"
   ]
  },
  {
   "cell_type": "code",
   "execution_count": 212,
   "id": "0e84426d",
   "metadata": {},
   "outputs": [
    {
     "data": {
      "text/html": [
       "1.25"
      ],
      "text/latex": [
       "1.25"
      ],
      "text/markdown": [
       "1.25"
      ],
      "text/plain": [
       "[1] 1.25"
      ]
     },
     "metadata": {},
     "output_type": "display_data"
    }
   ],
   "source": [
    "IQR(age)"
   ]
  },
  {
   "cell_type": "code",
   "execution_count": 213,
   "id": "5f7dfac9",
   "metadata": {},
   "outputs": [],
   "source": [
    "data = c(1,1,1,3,0,0,1,1,1,0,2,2,0,0,0,1,2,1,2,0,0,1,6,4,3,3,1,2,4,0)"
   ]
  },
  {
   "cell_type": "code",
   "execution_count": 214,
   "id": "6cdf4544",
   "metadata": {},
   "outputs": [
    {
     "data": {
      "text/html": [
       "<style>\n",
       ".list-inline {list-style: none; margin:0; padding: 0}\n",
       ".list-inline>li {display: inline-block}\n",
       ".list-inline>li:not(:last-child)::after {content: \"\\00b7\"; padding: 0 .5ex}\n",
       "</style>\n",
       "<ol class=list-inline><li>1</li><li>1</li><li>1</li><li>3</li><li>0</li><li>0</li><li>1</li><li>1</li><li>1</li><li>0</li><li>2</li><li>2</li><li>0</li><li>0</li><li>0</li><li>1</li><li>2</li><li>1</li><li>2</li><li>0</li><li>0</li><li>1</li><li>6</li><li>4</li><li>3</li><li>3</li><li>1</li><li>2</li><li>4</li><li>0</li></ol>\n"
      ],
      "text/latex": [
       "\\begin{enumerate*}\n",
       "\\item 1\n",
       "\\item 1\n",
       "\\item 1\n",
       "\\item 3\n",
       "\\item 0\n",
       "\\item 0\n",
       "\\item 1\n",
       "\\item 1\n",
       "\\item 1\n",
       "\\item 0\n",
       "\\item 2\n",
       "\\item 2\n",
       "\\item 0\n",
       "\\item 0\n",
       "\\item 0\n",
       "\\item 1\n",
       "\\item 2\n",
       "\\item 1\n",
       "\\item 2\n",
       "\\item 0\n",
       "\\item 0\n",
       "\\item 1\n",
       "\\item 6\n",
       "\\item 4\n",
       "\\item 3\n",
       "\\item 3\n",
       "\\item 1\n",
       "\\item 2\n",
       "\\item 4\n",
       "\\item 0\n",
       "\\end{enumerate*}\n"
      ],
      "text/markdown": [
       "1. 1\n",
       "2. 1\n",
       "3. 1\n",
       "4. 3\n",
       "5. 0\n",
       "6. 0\n",
       "7. 1\n",
       "8. 1\n",
       "9. 1\n",
       "10. 0\n",
       "11. 2\n",
       "12. 2\n",
       "13. 0\n",
       "14. 0\n",
       "15. 0\n",
       "16. 1\n",
       "17. 2\n",
       "18. 1\n",
       "19. 2\n",
       "20. 0\n",
       "21. 0\n",
       "22. 1\n",
       "23. 6\n",
       "24. 4\n",
       "25. 3\n",
       "26. 3\n",
       "27. 1\n",
       "28. 2\n",
       "29. 4\n",
       "30. 0\n",
       "\n",
       "\n"
      ],
      "text/plain": [
       " [1] 1 1 1 3 0 0 1 1 1 0 2 2 0 0 0 1 2 1 2 0 0 1 6 4 3 3 1 2 4 0"
      ]
     },
     "metadata": {},
     "output_type": "display_data"
    }
   ],
   "source": [
    "data"
   ]
  },
  {
   "cell_type": "code",
   "execution_count": 215,
   "id": "75ce9d51",
   "metadata": {},
   "outputs": [],
   "source": [
    "freq = table(data)"
   ]
  },
  {
   "cell_type": "code",
   "execution_count": 216,
   "id": "499d99e1",
   "metadata": {},
   "outputs": [
    {
     "data": {
      "text/plain": [
       "data\n",
       " 0  1  2  3  4  6 \n",
       " 9 10  5  3  2  1 "
      ]
     },
     "metadata": {},
     "output_type": "display_data"
    }
   ],
   "source": [
    "freq"
   ]
  },
  {
   "cell_type": "code",
   "execution_count": 217,
   "id": "6ea97563",
   "metadata": {},
   "outputs": [],
   "source": [
    "prop = prop.table(freq)"
   ]
  },
  {
   "cell_type": "code",
   "execution_count": 218,
   "id": "1ebd02c3",
   "metadata": {},
   "outputs": [
    {
     "data": {
      "text/plain": [
       "data\n",
       "         0          1          2          3          4          6 \n",
       "0.30000000 0.33333333 0.16666667 0.10000000 0.06666667 0.03333333 "
      ]
     },
     "metadata": {},
     "output_type": "display_data"
    }
   ],
   "source": [
    "prop"
   ]
  },
  {
   "cell_type": "code",
   "execution_count": 219,
   "id": "3d4d1267",
   "metadata": {},
   "outputs": [],
   "source": [
    "sum_freq = cumsum(freq)"
   ]
  },
  {
   "cell_type": "code",
   "execution_count": 220,
   "id": "3483a3cf",
   "metadata": {},
   "outputs": [
    {
     "data": {
      "text/html": [
       "<style>\n",
       ".dl-inline {width: auto; margin:0; padding: 0}\n",
       ".dl-inline>dt, .dl-inline>dd {float: none; width: auto; display: inline-block}\n",
       ".dl-inline>dt::after {content: \":\\0020\"; padding-right: .5ex}\n",
       ".dl-inline>dt:not(:first-of-type) {padding-left: .5ex}\n",
       "</style><dl class=dl-inline><dt>0</dt><dd>9</dd><dt>1</dt><dd>19</dd><dt>2</dt><dd>24</dd><dt>3</dt><dd>27</dd><dt>4</dt><dd>29</dd><dt>6</dt><dd>30</dd></dl>\n"
      ],
      "text/latex": [
       "\\begin{description*}\n",
       "\\item[0] 9\n",
       "\\item[1] 19\n",
       "\\item[2] 24\n",
       "\\item[3] 27\n",
       "\\item[4] 29\n",
       "\\item[6] 30\n",
       "\\end{description*}\n"
      ],
      "text/markdown": [
       "0\n",
       ":   91\n",
       ":   192\n",
       ":   243\n",
       ":   274\n",
       ":   296\n",
       ":   30\n",
       "\n"
      ],
      "text/plain": [
       " 0  1  2  3  4  6 \n",
       " 9 19 24 27 29 30 "
      ]
     },
     "metadata": {},
     "output_type": "display_data"
    }
   ],
   "source": [
    "sum_freq"
   ]
  },
  {
   "cell_type": "code",
   "execution_count": 221,
   "id": "e79a9561",
   "metadata": {},
   "outputs": [
    {
     "name": "stderr",
     "output_type": "stream",
     "text": [
      "Warning message in cbind(freq, sum_freq, prob):\n",
      "\"number of rows of result is not a multiple of vector length (arg 3)\"\n"
     ]
    }
   ],
   "source": [
    "freq.table = cbind(freq, sum_freq, prob)"
   ]
  },
  {
   "cell_type": "code",
   "execution_count": 222,
   "id": "5e3b59c5",
   "metadata": {},
   "outputs": [
    {
     "data": {
      "text/html": [
       "<table class=\"dataframe\">\n",
       "<caption>A matrix: 6 × 3 of type dbl</caption>\n",
       "<thead>\n",
       "\t<tr><th></th><th scope=col>freq</th><th scope=col>sum_freq</th><th scope=col>prob</th></tr>\n",
       "</thead>\n",
       "<tbody>\n",
       "\t<tr><th scope=row>0</th><td> 9</td><td> 9</td><td>0.30</td></tr>\n",
       "\t<tr><th scope=row>1</th><td>10</td><td>19</td><td>0.35</td></tr>\n",
       "\t<tr><th scope=row>2</th><td> 5</td><td>24</td><td>0.20</td></tr>\n",
       "\t<tr><th scope=row>3</th><td> 3</td><td>27</td><td>0.15</td></tr>\n",
       "\t<tr><th scope=row>4</th><td> 2</td><td>29</td><td>0.30</td></tr>\n",
       "\t<tr><th scope=row>6</th><td> 1</td><td>30</td><td>0.35</td></tr>\n",
       "</tbody>\n",
       "</table>\n"
      ],
      "text/latex": [
       "A matrix: 6 × 3 of type dbl\n",
       "\\begin{tabular}{r|lll}\n",
       "  & freq & sum\\_freq & prob\\\\\n",
       "\\hline\n",
       "\t0 &  9 &  9 & 0.30\\\\\n",
       "\t1 & 10 & 19 & 0.35\\\\\n",
       "\t2 &  5 & 24 & 0.20\\\\\n",
       "\t3 &  3 & 27 & 0.15\\\\\n",
       "\t4 &  2 & 29 & 0.30\\\\\n",
       "\t6 &  1 & 30 & 0.35\\\\\n",
       "\\end{tabular}\n"
      ],
      "text/markdown": [
       "\n",
       "A matrix: 6 × 3 of type dbl\n",
       "\n",
       "| <!--/--> | freq | sum_freq | prob |\n",
       "|---|---|---|---|\n",
       "| 0 |  9 |  9 | 0.30 |\n",
       "| 1 | 10 | 19 | 0.35 |\n",
       "| 2 |  5 | 24 | 0.20 |\n",
       "| 3 |  3 | 27 | 0.15 |\n",
       "| 4 |  2 | 29 | 0.30 |\n",
       "| 6 |  1 | 30 | 0.35 |\n",
       "\n"
      ],
      "text/plain": [
       "  freq sum_freq prob\n",
       "0  9    9       0.30\n",
       "1 10   19       0.35\n",
       "2  5   24       0.20\n",
       "3  3   27       0.15\n",
       "4  2   29       0.30\n",
       "6  1   30       0.35"
      ]
     },
     "metadata": {},
     "output_type": "display_data"
    }
   ],
   "source": [
    "freq.table"
   ]
  },
  {
   "cell_type": "code",
   "execution_count": 223,
   "id": "ccfc6aa3",
   "metadata": {},
   "outputs": [
    {
     "data": {
      "image/png": "[encoded data removed]",
      "text/plain": [
       "Plot with title \"Boxplot\""
      ]
     },
     "metadata": {
      "image/png": {
       "height": 420,
       "width": 420
      }
     },
     "output_type": "display_data"
    }
   ],
   "source": [
    "barplot(freq, main = 'Boxplot',)"
   ]
  },
  {
   "cell_type": "code",
   "execution_count": 224,
   "id": "490a36a1",
   "metadata": {},
   "outputs": [
    {
     "data": {
      "image/png": "[encoded data removed]",
      "text/plain": [
       "Plot with title \"Histogram\""
      ]
     },
     "metadata": {
      "image/png": {
       "height": 420,
       "width": 420
      }
     },
     "output_type": "display_data"
    }
   ],
   "source": [
    "hist(data, main = \"Histogram\", right = F)"
   ]
  },
  {
   "cell_type": "code",
   "execution_count": 225,
   "id": "7a9beb39",
   "metadata": {},
   "outputs": [],
   "source": [
    "a = rep(\"A\", 2240)\n",
    "b = rep(\"B\", 1040)\n",
    "c = rep(\"C\", 820)\n",
    "data = c(a, b, c)"
   ]
  },
  {
   "cell_type": "code",
   "execution_count": 226,
   "id": "c74750bd",
   "metadata": {},
   "outputs": [
    {
     "data": {
      "text/html": [
       "<style>\n",
       ".list-inline {list-style: none; margin:0; padding: 0}\n",
       ".list-inline>li {display: inline-block}\n",
       ".list-inline>li:not(:last-child)::after {content: \"\\00b7\"; padding: 0 .5ex}\n",
       "</style>\n",
       "<ol class=list-inline><li>'A'</li><li>'A'</li><li>'A'</li><li>'A'</li><li>'A'</li><li>'A'</li><li>'A'</li><li>'A'</li><li>'A'</li><li>'A'</li><li>'A'</li><li>'A'</li><li>'A'</li><li>'A'</li><li>'A'</li><li>'A'</li><li>'A'</li><li>'A'</li><li>'A'</li><li>'A'</li><li>'A'</li><li>'A'</li><li>'A'</li><li>'A'</li><li>'A'</li><li>'A'</li><li>'A'</li><li>'A'</li><li>'A'</li><li>'A'</li><li>'A'</li><li>'A'</li><li>'A'</li><li>'A'</li><li>'A'</li><li>'A'</li><li>'A'</li><li>'A'</li><li>'A'</li><li>'A'</li><li>'A'</li><li>'A'</li><li>'A'</li><li>'A'</li><li>'A'</li><li>'A'</li><li>'A'</li><li>'A'</li><li>'A'</li><li>'A'</li><li>'A'</li><li>'A'</li><li>'A'</li><li>'A'</li><li>'A'</li><li>'A'</li><li>'A'</li><li>'A'</li><li>'A'</li><li>'A'</li><li>'A'</li><li>'A'</li><li>'A'</li><li>'A'</li><li>'A'</li><li>'A'</li><li>'A'</li><li>'A'</li><li>'A'</li><li>'A'</li><li>'A'</li><li>'A'</li><li>'A'</li><li>'A'</li><li>'A'</li><li>'A'</li><li>'A'</li><li>'A'</li><li>'A'</li><li>'A'</li><li>'A'</li><li>'A'</li><li>'A'</li><li>'A'</li><li>'A'</li><li>'A'</li><li>'A'</li><li>'A'</li><li>'A'</li><li>'A'</li><li>'A'</li><li>'A'</li><li>'A'</li><li>'A'</li><li>'A'</li><li>'A'</li><li>'A'</li><li>'A'</li><li>'A'</li><li>'A'</li><li>'A'</li><li>'A'</li><li>'A'</li><li>'A'</li><li>'A'</li><li>'A'</li><li>'A'</li><li>'A'</li><li>'A'</li><li>'A'</li><li>'A'</li><li>'A'</li><li>'A'</li><li>'A'</li><li>'A'</li><li>'A'</li><li>'A'</li><li>'A'</li><li>'A'</li><li>'A'</li><li>'A'</li><li>'A'</li><li>'A'</li><li>'A'</li><li>'A'</li><li>'A'</li><li>'A'</li><li>'A'</li><li>'A'</li><li>'A'</li><li>'A'</li><li>'A'</li><li>'A'</li><li>'A'</li><li>'A'</li><li>'A'</li><li>'A'</li><li>'A'</li><li>'A'</li><li>'A'</li><li>'A'</li><li>'A'</li><li>'A'</li><li>'A'</li><li>'A'</li><li>'A'</li><li>'A'</li><li>'A'</li><li>'A'</li><li>'A'</li><li>'A'</li><li>'A'</li><li>'A'</li><li>'A'</li><li>'A'</li><li>'A'</li><li>'A'</li><li>'A'</li><li>'A'</li><li>'A'</li><li>'A'</li><li>'A'</li><li>'A'</li><li>'A'</li><li>'A'</li><li>'A'</li><li>'A'</li><li>'A'</li><li>'A'</li><li>'A'</li><li>'A'</li><li>'A'</li><li>'A'</li><li>'A'</li><li>'A'</li><li>'A'</li><li>'A'</li><li>'A'</li><li>'A'</li><li>'A'</li><li>'A'</li><li>'A'</li><li>'A'</li><li>'A'</li><li>'A'</li><li>'A'</li><li>'A'</li><li>'A'</li><li>'A'</li><li>'A'</li><li>'A'</li><li>'A'</li><li>'A'</li><li>'A'</li><li>'A'</li><li>'A'</li><li>'A'</li><li>'A'</li><li>'A'</li><li>'A'</li><li>⋯</li><li>'C'</li><li>'C'</li><li>'C'</li><li>'C'</li><li>'C'</li><li>'C'</li><li>'C'</li><li>'C'</li><li>'C'</li><li>'C'</li><li>'C'</li><li>'C'</li><li>'C'</li><li>'C'</li><li>'C'</li><li>'C'</li><li>'C'</li><li>'C'</li><li>'C'</li><li>'C'</li><li>'C'</li><li>'C'</li><li>'C'</li><li>'C'</li><li>'C'</li><li>'C'</li><li>'C'</li><li>'C'</li><li>'C'</li><li>'C'</li><li>'C'</li><li>'C'</li><li>'C'</li><li>'C'</li><li>'C'</li><li>'C'</li><li>'C'</li><li>'C'</li><li>'C'</li><li>'C'</li><li>'C'</li><li>'C'</li><li>'C'</li><li>'C'</li><li>'C'</li><li>'C'</li><li>'C'</li><li>'C'</li><li>'C'</li><li>'C'</li><li>'C'</li><li>'C'</li><li>'C'</li><li>'C'</li><li>'C'</li><li>'C'</li><li>'C'</li><li>'C'</li><li>'C'</li><li>'C'</li><li>'C'</li><li>'C'</li><li>'C'</li><li>'C'</li><li>'C'</li><li>'C'</li><li>'C'</li><li>'C'</li><li>'C'</li><li>'C'</li><li>'C'</li><li>'C'</li><li>'C'</li><li>'C'</li><li>'C'</li><li>'C'</li><li>'C'</li><li>'C'</li><li>'C'</li><li>'C'</li><li>'C'</li><li>'C'</li><li>'C'</li><li>'C'</li><li>'C'</li><li>'C'</li><li>'C'</li><li>'C'</li><li>'C'</li><li>'C'</li><li>'C'</li><li>'C'</li><li>'C'</li><li>'C'</li><li>'C'</li><li>'C'</li><li>'C'</li><li>'C'</li><li>'C'</li><li>'C'</li><li>'C'</li><li>'C'</li><li>'C'</li><li>'C'</li><li>'C'</li><li>'C'</li><li>'C'</li><li>'C'</li><li>'C'</li><li>'C'</li><li>'C'</li><li>'C'</li><li>'C'</li><li>'C'</li><li>'C'</li><li>'C'</li><li>'C'</li><li>'C'</li><li>'C'</li><li>'C'</li><li>'C'</li><li>'C'</li><li>'C'</li><li>'C'</li><li>'C'</li><li>'C'</li><li>'C'</li><li>'C'</li><li>'C'</li><li>'C'</li><li>'C'</li><li>'C'</li><li>'C'</li><li>'C'</li><li>'C'</li><li>'C'</li><li>'C'</li><li>'C'</li><li>'C'</li><li>'C'</li><li>'C'</li><li>'C'</li><li>'C'</li><li>'C'</li><li>'C'</li><li>'C'</li><li>'C'</li><li>'C'</li><li>'C'</li><li>'C'</li><li>'C'</li><li>'C'</li><li>'C'</li><li>'C'</li><li>'C'</li><li>'C'</li><li>'C'</li><li>'C'</li><li>'C'</li><li>'C'</li><li>'C'</li><li>'C'</li><li>'C'</li><li>'C'</li><li>'C'</li><li>'C'</li><li>'C'</li><li>'C'</li><li>'C'</li><li>'C'</li><li>'C'</li><li>'C'</li><li>'C'</li><li>'C'</li><li>'C'</li><li>'C'</li><li>'C'</li><li>'C'</li><li>'C'</li><li>'C'</li><li>'C'</li><li>'C'</li><li>'C'</li><li>'C'</li><li>'C'</li><li>'C'</li><li>'C'</li><li>'C'</li><li>'C'</li><li>'C'</li><li>'C'</li><li>'C'</li><li>'C'</li><li>'C'</li><li>'C'</li><li>'C'</li><li>'C'</li><li>'C'</li><li>'C'</li><li>'C'</li></ol>\n"
      ],
      "text/latex": [
       "\\begin{enumerate*}\n",
       "\\item 'A'\n",
       "\\item 'A'\n",
       "\\item 'A'\n",
       "\\item 'A'\n",
       "\\item 'A'\n",
       "\\item 'A'\n",
       "\\item 'A'\n",
       "\\item 'A'\n",
       "\\item 'A'\n",
       "\\item 'A'\n",
       "\\item 'A'\n",
       "\\item 'A'\n",
       "\\item 'A'\n",
       "\\item 'A'\n",
       "\\item 'A'\n",
       "\\item 'A'\n",
       "\\item 'A'\n",
       "\\item 'A'\n",
       "\\item 'A'\n",
       "\\item 'A'\n",
       "\\item 'A'\n",
       "\\item 'A'\n",
       "\\item 'A'\n",
       "\\item 'A'\n",
       "\\item 'A'\n",
       "\\item 'A'\n",
       "\\item 'A'\n",
       "\\item 'A'\n",
       "\\item 'A'\n",
       "\\item 'A'\n",
       "\\item 'A'\n",
       "\\item 'A'\n",
       "\\item 'A'\n",
       "\\item 'A'\n",
       "\\item 'A'\n",
       "\\item 'A'\n",
       "\\item 'A'\n",
       "\\item 'A'\n",
       "\\item 'A'\n",
       "\\item 'A'\n",
       "\\item 'A'\n",
       "\\item 'A'\n",
       "\\item 'A'\n",
       "\\item 'A'\n",
       "\\item 'A'\n",
       "\\item 'A'\n",
       "\\item 'A'\n",
       "\\item 'A'\n",
       "\\item 'A'\n",
       "\\item 'A'\n",
       "\\item 'A'\n",
       "\\item 'A'\n",
       "\\item 'A'\n",
       "\\item 'A'\n",
       "\\item 'A'\n",
       "\\item 'A'\n",
       "\\item 'A'\n",
       "\\item 'A'\n",
       "\\item 'A'\n",
       "\\item 'A'\n",
       "\\item 'A'\n",
       "\\item 'A'\n",
       "\\item 'A'\n",
       "\\item 'A'\n",
       "\\item 'A'\n",
       "\\item 'A'\n",
       "\\item 'A'\n",
       "\\item 'A'\n",
       "\\item 'A'\n",
       "\\item 'A'\n",
       "\\item 'A'\n",
       "\\item 'A'\n",
       "\\item 'A'\n",
       "\\item 'A'\n",
       "\\item 'A'\n",
       "\\item 'A'\n",
       "\\item 'A'\n",
       "\\item 'A'\n",
       "\\item 'A'\n",
       "\\item 'A'\n",
       "\\item 'A'\n",
       "\\item 'A'\n",
       "\\item 'A'\n",
       "\\item 'A'\n",
       "\\item 'A'\n",
       "\\item 'A'\n",
       "\\item 'A'\n",
       "\\item 'A'\n",
       "\\item 'A'\n",
       "\\item 'A'\n",
       "\\item 'A'\n",
       "\\item 'A'\n",
       "\\item 'A'\n",
       "\\item 'A'\n",
       "\\item 'A'\n",
       "\\item 'A'\n",
       "\\item 'A'\n",
       "\\item 'A'\n",
       "\\item 'A'\n",
       "\\item 'A'\n",
       "\\item 'A'\n",
       "\\item 'A'\n",
       "\\item 'A'\n",
       "\\item 'A'\n",
       "\\item 'A'\n",
       "\\item 'A'\n",
       "\\item 'A'\n",
       "\\item 'A'\n",
       "\\item 'A'\n",
       "\\item 'A'\n",
       "\\item 'A'\n",
       "\\item 'A'\n",
       "\\item 'A'\n",
       "\\item 'A'\n",
       "\\item 'A'\n",
       "\\item 'A'\n",
       "\\item 'A'\n",
       "\\item 'A'\n",
       "\\item 'A'\n",
       "\\item 'A'\n",
       "\\item 'A'\n",
       "\\item 'A'\n",
       "\\item 'A'\n",
       "\\item 'A'\n",
       "\\item 'A'\n",
       "\\item 'A'\n",
       "\\item 'A'\n",
       "\\item 'A'\n",
       "\\item 'A'\n",
       "\\item 'A'\n",
       "\\item 'A'\n",
       "\\item 'A'\n",
       "\\item 'A'\n",
       "\\item 'A'\n",
       "\\item 'A'\n",
       "\\item 'A'\n",
       "\\item 'A'\n",
       "\\item 'A'\n",
       "\\item 'A'\n",
       "\\item 'A'\n",
       "\\item 'A'\n",
       "\\item 'A'\n",
       "\\item 'A'\n",
       "\\item 'A'\n",
       "\\item 'A'\n",
       "\\item 'A'\n",
       "\\item 'A'\n",
       "\\item 'A'\n",
       "\\item 'A'\n",
       "\\item 'A'\n",
       "\\item 'A'\n",
       "\\item 'A'\n",
       "\\item 'A'\n",
       "\\item 'A'\n",
       "\\item 'A'\n",
       "\\item 'A'\n",
       "\\item 'A'\n",
       "\\item 'A'\n",
       "\\item 'A'\n",
       "\\item 'A'\n",
       "\\item 'A'\n",
       "\\item 'A'\n",
       "\\item 'A'\n",
       "\\item 'A'\n",
       "\\item 'A'\n",
       "\\item 'A'\n",
       "\\item 'A'\n",
       "\\item 'A'\n",
       "\\item 'A'\n",
       "\\item 'A'\n",
       "\\item 'A'\n",
       "\\item 'A'\n",
       "\\item 'A'\n",
       "\\item 'A'\n",
       "\\item 'A'\n",
       "\\item 'A'\n",
       "\\item 'A'\n",
       "\\item 'A'\n",
       "\\item 'A'\n",
       "\\item 'A'\n",
       "\\item 'A'\n",
       "\\item 'A'\n",
       "\\item 'A'\n",
       "\\item 'A'\n",
       "\\item 'A'\n",
       "\\item 'A'\n",
       "\\item 'A'\n",
       "\\item 'A'\n",
       "\\item 'A'\n",
       "\\item 'A'\n",
       "\\item 'A'\n",
       "\\item 'A'\n",
       "\\item 'A'\n",
       "\\item 'A'\n",
       "\\item 'A'\n",
       "\\item 'A'\n",
       "\\item 'A'\n",
       "\\item 'A'\n",
       "\\item 'A'\n",
       "\\item 'A'\n",
       "\\item ⋯\n",
       "\\item 'C'\n",
       "\\item 'C'\n",
       "\\item 'C'\n",
       "\\item 'C'\n",
       "\\item 'C'\n",
       "\\item 'C'\n",
       "\\item 'C'\n",
       "\\item 'C'\n",
       "\\item 'C'\n",
       "\\item 'C'\n",
       "\\item 'C'\n",
       "\\item 'C'\n",
       "\\item 'C'\n",
       "\\item 'C'\n",
       "\\item 'C'\n",
       "\\item 'C'\n",
       "\\item 'C'\n",
       "\\item 'C'\n",
       "\\item 'C'\n",
       "\\item 'C'\n",
       "\\item 'C'\n",
       "\\item 'C'\n",
       "\\item 'C'\n",
       "\\item 'C'\n",
       "\\item 'C'\n",
       "\\item 'C'\n",
       "\\item 'C'\n",
       "\\item 'C'\n",
       "\\item 'C'\n",
       "\\item 'C'\n",
       "\\item 'C'\n",
       "\\item 'C'\n",
       "\\item 'C'\n",
       "\\item 'C'\n",
       "\\item 'C'\n",
       "\\item 'C'\n",
       "\\item 'C'\n",
       "\\item 'C'\n",
       "\\item 'C'\n",
       "\\item 'C'\n",
       "\\item 'C'\n",
       "\\item 'C'\n",
       "\\item 'C'\n",
       "\\item 'C'\n",
       "\\item 'C'\n",
       "\\item 'C'\n",
       "\\item 'C'\n",
       "\\item 'C'\n",
       "\\item 'C'\n",
       "\\item 'C'\n",
       "\\item 'C'\n",
       "\\item 'C'\n",
       "\\item 'C'\n",
       "\\item 'C'\n",
       "\\item 'C'\n",
       "\\item 'C'\n",
       "\\item 'C'\n",
       "\\item 'C'\n",
       "\\item 'C'\n",
       "\\item 'C'\n",
       "\\item 'C'\n",
       "\\item 'C'\n",
       "\\item 'C'\n",
       "\\item 'C'\n",
       "\\item 'C'\n",
       "\\item 'C'\n",
       "\\item 'C'\n",
       "\\item 'C'\n",
       "\\item 'C'\n",
       "\\item 'C'\n",
       "\\item 'C'\n",
       "\\item 'C'\n",
       "\\item 'C'\n",
       "\\item 'C'\n",
       "\\item 'C'\n",
       "\\item 'C'\n",
       "\\item 'C'\n",
       "\\item 'C'\n",
       "\\item 'C'\n",
       "\\item 'C'\n",
       "\\item 'C'\n",
       "\\item 'C'\n",
       "\\item 'C'\n",
       "\\item 'C'\n",
       "\\item 'C'\n",
       "\\item 'C'\n",
       "\\item 'C'\n",
       "\\item 'C'\n",
       "\\item 'C'\n",
       "\\item 'C'\n",
       "\\item 'C'\n",
       "\\item 'C'\n",
       "\\item 'C'\n",
       "\\item 'C'\n",
       "\\item 'C'\n",
       "\\item 'C'\n",
       "\\item 'C'\n",
       "\\item 'C'\n",
       "\\item 'C'\n",
       "\\item 'C'\n",
       "\\item 'C'\n",
       "\\item 'C'\n",
       "\\item 'C'\n",
       "\\item 'C'\n",
       "\\item 'C'\n",
       "\\item 'C'\n",
       "\\item 'C'\n",
       "\\item 'C'\n",
       "\\item 'C'\n",
       "\\item 'C'\n",
       "\\item 'C'\n",
       "\\item 'C'\n",
       "\\item 'C'\n",
       "\\item 'C'\n",
       "\\item 'C'\n",
       "\\item 'C'\n",
       "\\item 'C'\n",
       "\\item 'C'\n",
       "\\item 'C'\n",
       "\\item 'C'\n",
       "\\item 'C'\n",
       "\\item 'C'\n",
       "\\item 'C'\n",
       "\\item 'C'\n",
       "\\item 'C'\n",
       "\\item 'C'\n",
       "\\item 'C'\n",
       "\\item 'C'\n",
       "\\item 'C'\n",
       "\\item 'C'\n",
       "\\item 'C'\n",
       "\\item 'C'\n",
       "\\item 'C'\n",
       "\\item 'C'\n",
       "\\item 'C'\n",
       "\\item 'C'\n",
       "\\item 'C'\n",
       "\\item 'C'\n",
       "\\item 'C'\n",
       "\\item 'C'\n",
       "\\item 'C'\n",
       "\\item 'C'\n",
       "\\item 'C'\n",
       "\\item 'C'\n",
       "\\item 'C'\n",
       "\\item 'C'\n",
       "\\item 'C'\n",
       "\\item 'C'\n",
       "\\item 'C'\n",
       "\\item 'C'\n",
       "\\item 'C'\n",
       "\\item 'C'\n",
       "\\item 'C'\n",
       "\\item 'C'\n",
       "\\item 'C'\n",
       "\\item 'C'\n",
       "\\item 'C'\n",
       "\\item 'C'\n",
       "\\item 'C'\n",
       "\\item 'C'\n",
       "\\item 'C'\n",
       "\\item 'C'\n",
       "\\item 'C'\n",
       "\\item 'C'\n",
       "\\item 'C'\n",
       "\\item 'C'\n",
       "\\item 'C'\n",
       "\\item 'C'\n",
       "\\item 'C'\n",
       "\\item 'C'\n",
       "\\item 'C'\n",
       "\\item 'C'\n",
       "\\item 'C'\n",
       "\\item 'C'\n",
       "\\item 'C'\n",
       "\\item 'C'\n",
       "\\item 'C'\n",
       "\\item 'C'\n",
       "\\item 'C'\n",
       "\\item 'C'\n",
       "\\item 'C'\n",
       "\\item 'C'\n",
       "\\item 'C'\n",
       "\\item 'C'\n",
       "\\item 'C'\n",
       "\\item 'C'\n",
       "\\item 'C'\n",
       "\\item 'C'\n",
       "\\item 'C'\n",
       "\\item 'C'\n",
       "\\item 'C'\n",
       "\\item 'C'\n",
       "\\item 'C'\n",
       "\\item 'C'\n",
       "\\item 'C'\n",
       "\\item 'C'\n",
       "\\item 'C'\n",
       "\\item 'C'\n",
       "\\item 'C'\n",
       "\\item 'C'\n",
       "\\end{enumerate*}\n"
      ],
      "text/markdown": [
       "1. 'A'\n",
       "2. 'A'\n",
       "3. 'A'\n",
       "4. 'A'\n",
       "5. 'A'\n",
       "6. 'A'\n",
       "7. 'A'\n",
       "8. 'A'\n",
       "9. 'A'\n",
       "10. 'A'\n",
       "11. 'A'\n",
       "12. 'A'\n",
       "13. 'A'\n",
       "14. 'A'\n",
       "15. 'A'\n",
       "16. 'A'\n",
       "17. 'A'\n",
       "18. 'A'\n",
       "19. 'A'\n",
       "20. 'A'\n",
       "21. 'A'\n",
       "22. 'A'\n",
       "23. 'A'\n",
       "24. 'A'\n",
       "25. 'A'\n",
       "26. 'A'\n",
       "27. 'A'\n",
       "28. 'A'\n",
       "29. 'A'\n",
       "30. 'A'\n",
       "31. 'A'\n",
       "32. 'A'\n",
       "33. 'A'\n",
       "34. 'A'\n",
       "35. 'A'\n",
       "36. 'A'\n",
       "37. 'A'\n",
       "38. 'A'\n",
       "39. 'A'\n",
       "40. 'A'\n",
       "41. 'A'\n",
       "42. 'A'\n",
       "43. 'A'\n",
       "44. 'A'\n",
       "45. 'A'\n",
       "46. 'A'\n",
       "47. 'A'\n",
       "48. 'A'\n",
       "49. 'A'\n",
       "50. 'A'\n",
       "51. 'A'\n",
       "52. 'A'\n",
       "53. 'A'\n",
       "54. 'A'\n",
       "55. 'A'\n",
       "56. 'A'\n",
       "57. 'A'\n",
       "58. 'A'\n",
       "59. 'A'\n",
       "60. 'A'\n",
       "61. 'A'\n",
       "62. 'A'\n",
       "63. 'A'\n",
       "64. 'A'\n",
       "65. 'A'\n",
       "66. 'A'\n",
       "67. 'A'\n",
       "68. 'A'\n",
       "69. 'A'\n",
       "70. 'A'\n",
       "71. 'A'\n",
       "72. 'A'\n",
       "73. 'A'\n",
       "74. 'A'\n",
       "75. 'A'\n",
       "76. 'A'\n",
       "77. 'A'\n",
       "78. 'A'\n",
       "79. 'A'\n",
       "80. 'A'\n",
       "81. 'A'\n",
       "82. 'A'\n",
       "83. 'A'\n",
       "84. 'A'\n",
       "85. 'A'\n",
       "86. 'A'\n",
       "87. 'A'\n",
       "88. 'A'\n",
       "89. 'A'\n",
       "90. 'A'\n",
       "91. 'A'\n",
       "92. 'A'\n",
       "93. 'A'\n",
       "94. 'A'\n",
       "95. 'A'\n",
       "96. 'A'\n",
       "97. 'A'\n",
       "98. 'A'\n",
       "99. 'A'\n",
       "100. 'A'\n",
       "101. 'A'\n",
       "102. 'A'\n",
       "103. 'A'\n",
       "104. 'A'\n",
       "105. 'A'\n",
       "106. 'A'\n",
       "107. 'A'\n",
       "108. 'A'\n",
       "109. 'A'\n",
       "110. 'A'\n",
       "111. 'A'\n",
       "112. 'A'\n",
       "113. 'A'\n",
       "114. 'A'\n",
       "115. 'A'\n",
       "116. 'A'\n",
       "117. 'A'\n",
       "118. 'A'\n",
       "119. 'A'\n",
       "120. 'A'\n",
       "121. 'A'\n",
       "122. 'A'\n",
       "123. 'A'\n",
       "124. 'A'\n",
       "125. 'A'\n",
       "126. 'A'\n",
       "127. 'A'\n",
       "128. 'A'\n",
       "129. 'A'\n",
       "130. 'A'\n",
       "131. 'A'\n",
       "132. 'A'\n",
       "133. 'A'\n",
       "134. 'A'\n",
       "135. 'A'\n",
       "136. 'A'\n",
       "137. 'A'\n",
       "138. 'A'\n",
       "139. 'A'\n",
       "140. 'A'\n",
       "141. 'A'\n",
       "142. 'A'\n",
       "143. 'A'\n",
       "144. 'A'\n",
       "145. 'A'\n",
       "146. 'A'\n",
       "147. 'A'\n",
       "148. 'A'\n",
       "149. 'A'\n",
       "150. 'A'\n",
       "151. 'A'\n",
       "152. 'A'\n",
       "153. 'A'\n",
       "154. 'A'\n",
       "155. 'A'\n",
       "156. 'A'\n",
       "157. 'A'\n",
       "158. 'A'\n",
       "159. 'A'\n",
       "160. 'A'\n",
       "161. 'A'\n",
       "162. 'A'\n",
       "163. 'A'\n",
       "164. 'A'\n",
       "165. 'A'\n",
       "166. 'A'\n",
       "167. 'A'\n",
       "168. 'A'\n",
       "169. 'A'\n",
       "170. 'A'\n",
       "171. 'A'\n",
       "172. 'A'\n",
       "173. 'A'\n",
       "174. 'A'\n",
       "175. 'A'\n",
       "176. 'A'\n",
       "177. 'A'\n",
       "178. 'A'\n",
       "179. 'A'\n",
       "180. 'A'\n",
       "181. 'A'\n",
       "182. 'A'\n",
       "183. 'A'\n",
       "184. 'A'\n",
       "185. 'A'\n",
       "186. 'A'\n",
       "187. 'A'\n",
       "188. 'A'\n",
       "189. 'A'\n",
       "190. 'A'\n",
       "191. 'A'\n",
       "192. 'A'\n",
       "193. 'A'\n",
       "194. 'A'\n",
       "195. 'A'\n",
       "196. 'A'\n",
       "197. 'A'\n",
       "198. 'A'\n",
       "199. 'A'\n",
       "200. 'A'\n",
       "201. ⋯\n",
       "202. 'C'\n",
       "203. 'C'\n",
       "204. 'C'\n",
       "205. 'C'\n",
       "206. 'C'\n",
       "207. 'C'\n",
       "208. 'C'\n",
       "209. 'C'\n",
       "210. 'C'\n",
       "211. 'C'\n",
       "212. 'C'\n",
       "213. 'C'\n",
       "214. 'C'\n",
       "215. 'C'\n",
       "216. 'C'\n",
       "217. 'C'\n",
       "218. 'C'\n",
       "219. 'C'\n",
       "220. 'C'\n",
       "221. 'C'\n",
       "222. 'C'\n",
       "223. 'C'\n",
       "224. 'C'\n",
       "225. 'C'\n",
       "226. 'C'\n",
       "227. 'C'\n",
       "228. 'C'\n",
       "229. 'C'\n",
       "230. 'C'\n",
       "231. 'C'\n",
       "232. 'C'\n",
       "233. 'C'\n",
       "234. 'C'\n",
       "235. 'C'\n",
       "236. 'C'\n",
       "237. 'C'\n",
       "238. 'C'\n",
       "239. 'C'\n",
       "240. 'C'\n",
       "241. 'C'\n",
       "242. 'C'\n",
       "243. 'C'\n",
       "244. 'C'\n",
       "245. 'C'\n",
       "246. 'C'\n",
       "247. 'C'\n",
       "248. 'C'\n",
       "249. 'C'\n",
       "250. 'C'\n",
       "251. 'C'\n",
       "252. 'C'\n",
       "253. 'C'\n",
       "254. 'C'\n",
       "255. 'C'\n",
       "256. 'C'\n",
       "257. 'C'\n",
       "258. 'C'\n",
       "259. 'C'\n",
       "260. 'C'\n",
       "261. 'C'\n",
       "262. 'C'\n",
       "263. 'C'\n",
       "264. 'C'\n",
       "265. 'C'\n",
       "266. 'C'\n",
       "267. 'C'\n",
       "268. 'C'\n",
       "269. 'C'\n",
       "270. 'C'\n",
       "271. 'C'\n",
       "272. 'C'\n",
       "273. 'C'\n",
       "274. 'C'\n",
       "275. 'C'\n",
       "276. 'C'\n",
       "277. 'C'\n",
       "278. 'C'\n",
       "279. 'C'\n",
       "280. 'C'\n",
       "281. 'C'\n",
       "282. 'C'\n",
       "283. 'C'\n",
       "284. 'C'\n",
       "285. 'C'\n",
       "286. 'C'\n",
       "287. 'C'\n",
       "288. 'C'\n",
       "289. 'C'\n",
       "290. 'C'\n",
       "291. 'C'\n",
       "292. 'C'\n",
       "293. 'C'\n",
       "294. 'C'\n",
       "295. 'C'\n",
       "296. 'C'\n",
       "297. 'C'\n",
       "298. 'C'\n",
       "299. 'C'\n",
       "300. 'C'\n",
       "301. 'C'\n",
       "302. 'C'\n",
       "303. 'C'\n",
       "304. 'C'\n",
       "305. 'C'\n",
       "306. 'C'\n",
       "307. 'C'\n",
       "308. 'C'\n",
       "309. 'C'\n",
       "310. 'C'\n",
       "311. 'C'\n",
       "312. 'C'\n",
       "313. 'C'\n",
       "314. 'C'\n",
       "315. 'C'\n",
       "316. 'C'\n",
       "317. 'C'\n",
       "318. 'C'\n",
       "319. 'C'\n",
       "320. 'C'\n",
       "321. 'C'\n",
       "322. 'C'\n",
       "323. 'C'\n",
       "324. 'C'\n",
       "325. 'C'\n",
       "326. 'C'\n",
       "327. 'C'\n",
       "328. 'C'\n",
       "329. 'C'\n",
       "330. 'C'\n",
       "331. 'C'\n",
       "332. 'C'\n",
       "333. 'C'\n",
       "334. 'C'\n",
       "335. 'C'\n",
       "336. 'C'\n",
       "337. 'C'\n",
       "338. 'C'\n",
       "339. 'C'\n",
       "340. 'C'\n",
       "341. 'C'\n",
       "342. 'C'\n",
       "343. 'C'\n",
       "344. 'C'\n",
       "345. 'C'\n",
       "346. 'C'\n",
       "347. 'C'\n",
       "348. 'C'\n",
       "349. 'C'\n",
       "350. 'C'\n",
       "351. 'C'\n",
       "352. 'C'\n",
       "353. 'C'\n",
       "354. 'C'\n",
       "355. 'C'\n",
       "356. 'C'\n",
       "357. 'C'\n",
       "358. 'C'\n",
       "359. 'C'\n",
       "360. 'C'\n",
       "361. 'C'\n",
       "362. 'C'\n",
       "363. 'C'\n",
       "364. 'C'\n",
       "365. 'C'\n",
       "366. 'C'\n",
       "367. 'C'\n",
       "368. 'C'\n",
       "369. 'C'\n",
       "370. 'C'\n",
       "371. 'C'\n",
       "372. 'C'\n",
       "373. 'C'\n",
       "374. 'C'\n",
       "375. 'C'\n",
       "376. 'C'\n",
       "377. 'C'\n",
       "378. 'C'\n",
       "379. 'C'\n",
       "380. 'C'\n",
       "381. 'C'\n",
       "382. 'C'\n",
       "383. 'C'\n",
       "384. 'C'\n",
       "385. 'C'\n",
       "386. 'C'\n",
       "387. 'C'\n",
       "388. 'C'\n",
       "389. 'C'\n",
       "390. 'C'\n",
       "391. 'C'\n",
       "392. 'C'\n",
       "393. 'C'\n",
       "394. 'C'\n",
       "395. 'C'\n",
       "396. 'C'\n",
       "397. 'C'\n",
       "398. 'C'\n",
       "399. 'C'\n",
       "400. 'C'\n",
       "401. 'C'\n",
       "\n",
       "\n"
      ],
      "text/plain": [
       "   [1] \"A\" \"A\" \"A\" \"A\" \"A\" \"A\" \"A\" \"A\" \"A\" \"A\" \"A\" \"A\" \"A\" \"A\" \"A\" \"A\" \"A\" \"A\"\n",
       "  [19] \"A\" \"A\" \"A\" \"A\" \"A\" \"A\" \"A\" \"A\" \"A\" \"A\" \"A\" \"A\" \"A\" \"A\" \"A\" \"A\" \"A\" \"A\"\n",
       "  [37] \"A\" \"A\" \"A\" \"A\" \"A\" \"A\" \"A\" \"A\" \"A\" \"A\" \"A\" \"A\" \"A\" \"A\" \"A\" \"A\" \"A\" \"A\"\n",
       "  [55] \"A\" \"A\" \"A\" \"A\" \"A\" \"A\" \"A\" \"A\" \"A\" \"A\" \"A\" \"A\" \"A\" \"A\" \"A\" \"A\" \"A\" \"A\"\n",
       "  [73] \"A\" \"A\" \"A\" \"A\" \"A\" \"A\" \"A\" \"A\" \"A\" \"A\" \"A\" \"A\" \"A\" \"A\" \"A\" \"A\" \"A\" \"A\"\n",
       "  [91] \"A\" \"A\" \"A\" \"A\" \"A\" \"A\" \"A\" \"A\" \"A\" \"A\" \"A\" \"A\" \"A\" \"A\" \"A\" \"A\" \"A\" \"A\"\n",
       " [109] \"A\" \"A\" \"A\" \"A\" \"A\" \"A\" \"A\" \"A\" \"A\" \"A\" \"A\" \"A\" \"A\" \"A\" \"A\" \"A\" \"A\" \"A\"\n",
       " [127] \"A\" \"A\" \"A\" \"A\" \"A\" \"A\" \"A\" \"A\" \"A\" \"A\" \"A\" \"A\" \"A\" \"A\" \"A\" \"A\" \"A\" \"A\"\n",
       " [145] \"A\" \"A\" \"A\" \"A\" \"A\" \"A\" \"A\" \"A\" \"A\" \"A\" \"A\" \"A\" \"A\" \"A\" \"A\" \"A\" \"A\" \"A\"\n",
       " [163] \"A\" \"A\" \"A\" \"A\" \"A\" \"A\" \"A\" \"A\" \"A\" \"A\" \"A\" \"A\" \"A\" \"A\" \"A\" \"A\" \"A\" \"A\"\n",
       " [181] \"A\" \"A\" \"A\" \"A\" \"A\" \"A\" \"A\" \"A\" \"A\" \"A\" \"A\" \"A\" \"A\" \"A\" \"A\" \"A\" \"A\" \"A\"\n",
       " [199] \"A\" \"A\" \"A\" \"A\" \"A\" \"A\" \"A\" \"A\" \"A\" \"A\" \"A\" \"A\" \"A\" \"A\" \"A\" \"A\" \"A\" \"A\"\n",
       " [217] \"A\" \"A\" \"A\" \"A\" \"A\" \"A\" \"A\" \"A\" \"A\" \"A\" \"A\" \"A\" \"A\" \"A\" \"A\" \"A\" \"A\" \"A\"\n",
       " [235] \"A\" \"A\" \"A\" \"A\" \"A\" \"A\" \"A\" \"A\" \"A\" \"A\" \"A\" \"A\" \"A\" \"A\" \"A\" \"A\" \"A\" \"A\"\n",
       " [253] \"A\" \"A\" \"A\" \"A\" \"A\" \"A\" \"A\" \"A\" \"A\" \"A\" \"A\" \"A\" \"A\" \"A\" \"A\" \"A\" \"A\" \"A\"\n",
       " [271] \"A\" \"A\" \"A\" \"A\" \"A\" \"A\" \"A\" \"A\" \"A\" \"A\" \"A\" \"A\" \"A\" \"A\" \"A\" \"A\" \"A\" \"A\"\n",
       " [289] \"A\" \"A\" \"A\" \"A\" \"A\" \"A\" \"A\" \"A\" \"A\" \"A\" \"A\" \"A\" \"A\" \"A\" \"A\" \"A\" \"A\" \"A\"\n",
       " [307] \"A\" \"A\" \"A\" \"A\" \"A\" \"A\" \"A\" \"A\" \"A\" \"A\" \"A\" \"A\" \"A\" \"A\" \"A\" \"A\" \"A\" \"A\"\n",
       " [325] \"A\" \"A\" \"A\" \"A\" \"A\" \"A\" \"A\" \"A\" \"A\" \"A\" \"A\" \"A\" \"A\" \"A\" \"A\" \"A\" \"A\" \"A\"\n",
       " [343] \"A\" \"A\" \"A\" \"A\" \"A\" \"A\" \"A\" \"A\" \"A\" \"A\" \"A\" \"A\" \"A\" \"A\" \"A\" \"A\" \"A\" \"A\"\n",
       " [361] \"A\" \"A\" \"A\" \"A\" \"A\" \"A\" \"A\" \"A\" \"A\" \"A\" \"A\" \"A\" \"A\" \"A\" \"A\" \"A\" \"A\" \"A\"\n",
       " [379] \"A\" \"A\" \"A\" \"A\" \"A\" \"A\" \"A\" \"A\" \"A\" \"A\" \"A\" \"A\" \"A\" \"A\" \"A\" \"A\" \"A\" \"A\"\n",
       " [397] \"A\" \"A\" \"A\" \"A\" \"A\" \"A\" \"A\" \"A\" \"A\" \"A\" \"A\" \"A\" \"A\" \"A\" \"A\" \"A\" \"A\" \"A\"\n",
       " [415] \"A\" \"A\" \"A\" \"A\" \"A\" \"A\" \"A\" \"A\" \"A\" \"A\" \"A\" \"A\" \"A\" \"A\" \"A\" \"A\" \"A\" \"A\"\n",
       " [433] \"A\" \"A\" \"A\" \"A\" \"A\" \"A\" \"A\" \"A\" \"A\" \"A\" \"A\" \"A\" \"A\" \"A\" \"A\" \"A\" \"A\" \"A\"\n",
       " [451] \"A\" \"A\" \"A\" \"A\" \"A\" \"A\" \"A\" \"A\" \"A\" \"A\" \"A\" \"A\" \"A\" \"A\" \"A\" \"A\" \"A\" \"A\"\n",
       " [469] \"A\" \"A\" \"A\" \"A\" \"A\" \"A\" \"A\" \"A\" \"A\" \"A\" \"A\" \"A\" \"A\" \"A\" \"A\" \"A\" \"A\" \"A\"\n",
       " [487] \"A\" \"A\" \"A\" \"A\" \"A\" \"A\" \"A\" \"A\" \"A\" \"A\" \"A\" \"A\" \"A\" \"A\" \"A\" \"A\" \"A\" \"A\"\n",
       " [505] \"A\" \"A\" \"A\" \"A\" \"A\" \"A\" \"A\" \"A\" \"A\" \"A\" \"A\" \"A\" \"A\" \"A\" \"A\" \"A\" \"A\" \"A\"\n",
       " [523] \"A\" \"A\" \"A\" \"A\" \"A\" \"A\" \"A\" \"A\" \"A\" \"A\" \"A\" \"A\" \"A\" \"A\" \"A\" \"A\" \"A\" \"A\"\n",
       " [541] \"A\" \"A\" \"A\" \"A\" \"A\" \"A\" \"A\" \"A\" \"A\" \"A\" \"A\" \"A\" \"A\" \"A\" \"A\" \"A\" \"A\" \"A\"\n",
       " [559] \"A\" \"A\" \"A\" \"A\" \"A\" \"A\" \"A\" \"A\" \"A\" \"A\" \"A\" \"A\" \"A\" \"A\" \"A\" \"A\" \"A\" \"A\"\n",
       " [577] \"A\" \"A\" \"A\" \"A\" \"A\" \"A\" \"A\" \"A\" \"A\" \"A\" \"A\" \"A\" \"A\" \"A\" \"A\" \"A\" \"A\" \"A\"\n",
       " [595] \"A\" \"A\" \"A\" \"A\" \"A\" \"A\" \"A\" \"A\" \"A\" \"A\" \"A\" \"A\" \"A\" \"A\" \"A\" \"A\" \"A\" \"A\"\n",
       " [613] \"A\" \"A\" \"A\" \"A\" \"A\" \"A\" \"A\" \"A\" \"A\" \"A\" \"A\" \"A\" \"A\" \"A\" \"A\" \"A\" \"A\" \"A\"\n",
       " [631] \"A\" \"A\" \"A\" \"A\" \"A\" \"A\" \"A\" \"A\" \"A\" \"A\" \"A\" \"A\" \"A\" \"A\" \"A\" \"A\" \"A\" \"A\"\n",
       " [649] \"A\" \"A\" \"A\" \"A\" \"A\" \"A\" \"A\" \"A\" \"A\" \"A\" \"A\" \"A\" \"A\" \"A\" \"A\" \"A\" \"A\" \"A\"\n",
       " [667] \"A\" \"A\" \"A\" \"A\" \"A\" \"A\" \"A\" \"A\" \"A\" \"A\" \"A\" \"A\" \"A\" \"A\" \"A\" \"A\" \"A\" \"A\"\n",
       " [685] \"A\" \"A\" \"A\" \"A\" \"A\" \"A\" \"A\" \"A\" \"A\" \"A\" \"A\" \"A\" \"A\" \"A\" \"A\" \"A\" \"A\" \"A\"\n",
       " [703] \"A\" \"A\" \"A\" \"A\" \"A\" \"A\" \"A\" \"A\" \"A\" \"A\" \"A\" \"A\" \"A\" \"A\" \"A\" \"A\" \"A\" \"A\"\n",
       " [721] \"A\" \"A\" \"A\" \"A\" \"A\" \"A\" \"A\" \"A\" \"A\" \"A\" \"A\" \"A\" \"A\" \"A\" \"A\" \"A\" \"A\" \"A\"\n",
       " [739] \"A\" \"A\" \"A\" \"A\" \"A\" \"A\" \"A\" \"A\" \"A\" \"A\" \"A\" \"A\" \"A\" \"A\" \"A\" \"A\" \"A\" \"A\"\n",
       " [757] \"A\" \"A\" \"A\" \"A\" \"A\" \"A\" \"A\" \"A\" \"A\" \"A\" \"A\" \"A\" \"A\" \"A\" \"A\" \"A\" \"A\" \"A\"\n",
       " [775] \"A\" \"A\" \"A\" \"A\" \"A\" \"A\" \"A\" \"A\" \"A\" \"A\" \"A\" \"A\" \"A\" \"A\" \"A\" \"A\" \"A\" \"A\"\n",
       " [793] \"A\" \"A\" \"A\" \"A\" \"A\" \"A\" \"A\" \"A\" \"A\" \"A\" \"A\" \"A\" \"A\" \"A\" \"A\" \"A\" \"A\" \"A\"\n",
       " [811] \"A\" \"A\" \"A\" \"A\" \"A\" \"A\" \"A\" \"A\" \"A\" \"A\" \"A\" \"A\" \"A\" \"A\" \"A\" \"A\" \"A\" \"A\"\n",
       " [829] \"A\" \"A\" \"A\" \"A\" \"A\" \"A\" \"A\" \"A\" \"A\" \"A\" \"A\" \"A\" \"A\" \"A\" \"A\" \"A\" \"A\" \"A\"\n",
       " [847] \"A\" \"A\" \"A\" \"A\" \"A\" \"A\" \"A\" \"A\" \"A\" \"A\" \"A\" \"A\" \"A\" \"A\" \"A\" \"A\" \"A\" \"A\"\n",
       " [865] \"A\" \"A\" \"A\" \"A\" \"A\" \"A\" \"A\" \"A\" \"A\" \"A\" \"A\" \"A\" \"A\" \"A\" \"A\" \"A\" \"A\" \"A\"\n",
       " [883] \"A\" \"A\" \"A\" \"A\" \"A\" \"A\" \"A\" \"A\" \"A\" \"A\" \"A\" \"A\" \"A\" \"A\" \"A\" \"A\" \"A\" \"A\"\n",
       " [901] \"A\" \"A\" \"A\" \"A\" \"A\" \"A\" \"A\" \"A\" \"A\" \"A\" \"A\" \"A\" \"A\" \"A\" \"A\" \"A\" \"A\" \"A\"\n",
       " [919] \"A\" \"A\" \"A\" \"A\" \"A\" \"A\" \"A\" \"A\" \"A\" \"A\" \"A\" \"A\" \"A\" \"A\" \"A\" \"A\" \"A\" \"A\"\n",
       " [937] \"A\" \"A\" \"A\" \"A\" \"A\" \"A\" \"A\" \"A\" \"A\" \"A\" \"A\" \"A\" \"A\" \"A\" \"A\" \"A\" \"A\" \"A\"\n",
       " [955] \"A\" \"A\" \"A\" \"A\" \"A\" \"A\" \"A\" \"A\" \"A\" \"A\" \"A\" \"A\" \"A\" \"A\" \"A\" \"A\" \"A\" \"A\"\n",
       " [973] \"A\" \"A\" \"A\" \"A\" \"A\" \"A\" \"A\" \"A\" \"A\" \"A\" \"A\" \"A\" \"A\" \"A\" \"A\" \"A\" \"A\" \"A\"\n",
       " [991] \"A\" \"A\" \"A\" \"A\" \"A\" \"A\" \"A\" \"A\" \"A\" \"A\" \"A\" \"A\" \"A\" \"A\" \"A\" \"A\" \"A\" \"A\"\n",
       "[1009] \"A\" \"A\" \"A\" \"A\" \"A\" \"A\" \"A\" \"A\" \"A\" \"A\" \"A\" \"A\" \"A\" \"A\" \"A\" \"A\" \"A\" \"A\"\n",
       "[1027] \"A\" \"A\" \"A\" \"A\" \"A\" \"A\" \"A\" \"A\" \"A\" \"A\" \"A\" \"A\" \"A\" \"A\" \"A\" \"A\" \"A\" \"A\"\n",
       "[1045] \"A\" \"A\" \"A\" \"A\" \"A\" \"A\" \"A\" \"A\" \"A\" \"A\" \"A\" \"A\" \"A\" \"A\" \"A\" \"A\" \"A\" \"A\"\n",
       "[1063] \"A\" \"A\" \"A\" \"A\" \"A\" \"A\" \"A\" \"A\" \"A\" \"A\" \"A\" \"A\" \"A\" \"A\" \"A\" \"A\" \"A\" \"A\"\n",
       "[1081] \"A\" \"A\" \"A\" \"A\" \"A\" \"A\" \"A\" \"A\" \"A\" \"A\" \"A\" \"A\" \"A\" \"A\" \"A\" \"A\" \"A\" \"A\"\n",
       "[1099] \"A\" \"A\" \"A\" \"A\" \"A\" \"A\" \"A\" \"A\" \"A\" \"A\" \"A\" \"A\" \"A\" \"A\" \"A\" \"A\" \"A\" \"A\"\n",
       "[1117] \"A\" \"A\" \"A\" \"A\" \"A\" \"A\" \"A\" \"A\" \"A\" \"A\" \"A\" \"A\" \"A\" \"A\" \"A\" \"A\" \"A\" \"A\"\n",
       "[1135] \"A\" \"A\" \"A\" \"A\" \"A\" \"A\" \"A\" \"A\" \"A\" \"A\" \"A\" \"A\" \"A\" \"A\" \"A\" \"A\" \"A\" \"A\"\n",
       "[1153] \"A\" \"A\" \"A\" \"A\" \"A\" \"A\" \"A\" \"A\" \"A\" \"A\" \"A\" \"A\" \"A\" \"A\" \"A\" \"A\" \"A\" \"A\"\n",
       "[1171] \"A\" \"A\" \"A\" \"A\" \"A\" \"A\" \"A\" \"A\" \"A\" \"A\" \"A\" \"A\" \"A\" \"A\" \"A\" \"A\" \"A\" \"A\"\n",
       "[1189] \"A\" \"A\" \"A\" \"A\" \"A\" \"A\" \"A\" \"A\" \"A\" \"A\" \"A\" \"A\" \"A\" \"A\" \"A\" \"A\" \"A\" \"A\"\n",
       "[1207] \"A\" \"A\" \"A\" \"A\" \"A\" \"A\" \"A\" \"A\" \"A\" \"A\" \"A\" \"A\" \"A\" \"A\" \"A\" \"A\" \"A\" \"A\"\n",
       "[1225] \"A\" \"A\" \"A\" \"A\" \"A\" \"A\" \"A\" \"A\" \"A\" \"A\" \"A\" \"A\" \"A\" \"A\" \"A\" \"A\" \"A\" \"A\"\n",
       "[1243] \"A\" \"A\" \"A\" \"A\" \"A\" \"A\" \"A\" \"A\" \"A\" \"A\" \"A\" \"A\" \"A\" \"A\" \"A\" \"A\" \"A\" \"A\"\n",
       "[1261] \"A\" \"A\" \"A\" \"A\" \"A\" \"A\" \"A\" \"A\" \"A\" \"A\" \"A\" \"A\" \"A\" \"A\" \"A\" \"A\" \"A\" \"A\"\n",
       "[1279] \"A\" \"A\" \"A\" \"A\" \"A\" \"A\" \"A\" \"A\" \"A\" \"A\" \"A\" \"A\" \"A\" \"A\" \"A\" \"A\" \"A\" \"A\"\n",
       "[1297] \"A\" \"A\" \"A\" \"A\" \"A\" \"A\" \"A\" \"A\" \"A\" \"A\" \"A\" \"A\" \"A\" \"A\" \"A\" \"A\" \"A\" \"A\"\n",
       "[1315] \"A\" \"A\" \"A\" \"A\" \"A\" \"A\" \"A\" \"A\" \"A\" \"A\" \"A\" \"A\" \"A\" \"A\" \"A\" \"A\" \"A\" \"A\"\n",
       "[1333] \"A\" \"A\" \"A\" \"A\" \"A\" \"A\" \"A\" \"A\" \"A\" \"A\" \"A\" \"A\" \"A\" \"A\" \"A\" \"A\" \"A\" \"A\"\n",
       "[1351] \"A\" \"A\" \"A\" \"A\" \"A\" \"A\" \"A\" \"A\" \"A\" \"A\" \"A\" \"A\" \"A\" \"A\" \"A\" \"A\" \"A\" \"A\"\n",
       "[1369] \"A\" \"A\" \"A\" \"A\" \"A\" \"A\" \"A\" \"A\" \"A\" \"A\" \"A\" \"A\" \"A\" \"A\" \"A\" \"A\" \"A\" \"A\"\n",
       "[1387] \"A\" \"A\" \"A\" \"A\" \"A\" \"A\" \"A\" \"A\" \"A\" \"A\" \"A\" \"A\" \"A\" \"A\" \"A\" \"A\" \"A\" \"A\"\n",
       "[1405] \"A\" \"A\" \"A\" \"A\" \"A\" \"A\" \"A\" \"A\" \"A\" \"A\" \"A\" \"A\" \"A\" \"A\" \"A\" \"A\" \"A\" \"A\"\n",
       "[1423] \"A\" \"A\" \"A\" \"A\" \"A\" \"A\" \"A\" \"A\" \"A\" \"A\" \"A\" \"A\" \"A\" \"A\" \"A\" \"A\" \"A\" \"A\"\n",
       "[1441] \"A\" \"A\" \"A\" \"A\" \"A\" \"A\" \"A\" \"A\" \"A\" \"A\" \"A\" \"A\" \"A\" \"A\" \"A\" \"A\" \"A\" \"A\"\n",
       "[1459] \"A\" \"A\" \"A\" \"A\" \"A\" \"A\" \"A\" \"A\" \"A\" \"A\" \"A\" \"A\" \"A\" \"A\" \"A\" \"A\" \"A\" \"A\"\n",
       "[1477] \"A\" \"A\" \"A\" \"A\" \"A\" \"A\" \"A\" \"A\" \"A\" \"A\" \"A\" \"A\" \"A\" \"A\" \"A\" \"A\" \"A\" \"A\"\n",
       "[1495] \"A\" \"A\" \"A\" \"A\" \"A\" \"A\" \"A\" \"A\" \"A\" \"A\" \"A\" \"A\" \"A\" \"A\" \"A\" \"A\" \"A\" \"A\"\n",
       "[1513] \"A\" \"A\" \"A\" \"A\" \"A\" \"A\" \"A\" \"A\" \"A\" \"A\" \"A\" \"A\" \"A\" \"A\" \"A\" \"A\" \"A\" \"A\"\n",
       "[1531] \"A\" \"A\" \"A\" \"A\" \"A\" \"A\" \"A\" \"A\" \"A\" \"A\" \"A\" \"A\" \"A\" \"A\" \"A\" \"A\" \"A\" \"A\"\n",
       "[1549] \"A\" \"A\" \"A\" \"A\" \"A\" \"A\" \"A\" \"A\" \"A\" \"A\" \"A\" \"A\" \"A\" \"A\" \"A\" \"A\" \"A\" \"A\"\n",
       "[1567] \"A\" \"A\" \"A\" \"A\" \"A\" \"A\" \"A\" \"A\" \"A\" \"A\" \"A\" \"A\" \"A\" \"A\" \"A\" \"A\" \"A\" \"A\"\n",
       "[1585] \"A\" \"A\" \"A\" \"A\" \"A\" \"A\" \"A\" \"A\" \"A\" \"A\" \"A\" \"A\" \"A\" \"A\" \"A\" \"A\" \"A\" \"A\"\n",
       "[1603] \"A\" \"A\" \"A\" \"A\" \"A\" \"A\" \"A\" \"A\" \"A\" \"A\" \"A\" \"A\" \"A\" \"A\" \"A\" \"A\" \"A\" \"A\"\n",
       "[1621] \"A\" \"A\" \"A\" \"A\" \"A\" \"A\" \"A\" \"A\" \"A\" \"A\" \"A\" \"A\" \"A\" \"A\" \"A\" \"A\" \"A\" \"A\"\n",
       "[1639] \"A\" \"A\" \"A\" \"A\" \"A\" \"A\" \"A\" \"A\" \"A\" \"A\" \"A\" \"A\" \"A\" \"A\" \"A\" \"A\" \"A\" \"A\"\n",
       "[1657] \"A\" \"A\" \"A\" \"A\" \"A\" \"A\" \"A\" \"A\" \"A\" \"A\" \"A\" \"A\" \"A\" \"A\" \"A\" \"A\" \"A\" \"A\"\n",
       "[1675] \"A\" \"A\" \"A\" \"A\" \"A\" \"A\" \"A\" \"A\" \"A\" \"A\" \"A\" \"A\" \"A\" \"A\" \"A\" \"A\" \"A\" \"A\"\n",
       "[1693] \"A\" \"A\" \"A\" \"A\" \"A\" \"A\" \"A\" \"A\" \"A\" \"A\" \"A\" \"A\" \"A\" \"A\" \"A\" \"A\" \"A\" \"A\"\n",
       "[1711] \"A\" \"A\" \"A\" \"A\" \"A\" \"A\" \"A\" \"A\" \"A\" \"A\" \"A\" \"A\" \"A\" \"A\" \"A\" \"A\" \"A\" \"A\"\n",
       "[1729] \"A\" \"A\" \"A\" \"A\" \"A\" \"A\" \"A\" \"A\" \"A\" \"A\" \"A\" \"A\" \"A\" \"A\" \"A\" \"A\" \"A\" \"A\"\n",
       "[1747] \"A\" \"A\" \"A\" \"A\" \"A\" \"A\" \"A\" \"A\" \"A\" \"A\" \"A\" \"A\" \"A\" \"A\" \"A\" \"A\" \"A\" \"A\"\n",
       "[1765] \"A\" \"A\" \"A\" \"A\" \"A\" \"A\" \"A\" \"A\" \"A\" \"A\" \"A\" \"A\" \"A\" \"A\" \"A\" \"A\" \"A\" \"A\"\n",
       "[1783] \"A\" \"A\" \"A\" \"A\" \"A\" \"A\" \"A\" \"A\" \"A\" \"A\" \"A\" \"A\" \"A\" \"A\" \"A\" \"A\" \"A\" \"A\"\n",
       "[1801] \"A\" \"A\" \"A\" \"A\" \"A\" \"A\" \"A\" \"A\" \"A\" \"A\" \"A\" \"A\" \"A\" \"A\" \"A\" \"A\" \"A\" \"A\"\n",
       "[1819] \"A\" \"A\" \"A\" \"A\" \"A\" \"A\" \"A\" \"A\" \"A\" \"A\" \"A\" \"A\" \"A\" \"A\" \"A\" \"A\" \"A\" \"A\"\n",
       "[1837] \"A\" \"A\" \"A\" \"A\" \"A\" \"A\" \"A\" \"A\" \"A\" \"A\" \"A\" \"A\" \"A\" \"A\" \"A\" \"A\" \"A\" \"A\"\n",
       "[1855] \"A\" \"A\" \"A\" \"A\" \"A\" \"A\" \"A\" \"A\" \"A\" \"A\" \"A\" \"A\" \"A\" \"A\" \"A\" \"A\" \"A\" \"A\"\n",
       "[1873] \"A\" \"A\" \"A\" \"A\" \"A\" \"A\" \"A\" \"A\" \"A\" \"A\" \"A\" \"A\" \"A\" \"A\" \"A\" \"A\" \"A\" \"A\"\n",
       "[1891] \"A\" \"A\" \"A\" \"A\" \"A\" \"A\" \"A\" \"A\" \"A\" \"A\" \"A\" \"A\" \"A\" \"A\" \"A\" \"A\" \"A\" \"A\"\n",
       "[1909] \"A\" \"A\" \"A\" \"A\" \"A\" \"A\" \"A\" \"A\" \"A\" \"A\" \"A\" \"A\" \"A\" \"A\" \"A\" \"A\" \"A\" \"A\"\n",
       "[1927] \"A\" \"A\" \"A\" \"A\" \"A\" \"A\" \"A\" \"A\" \"A\" \"A\" \"A\" \"A\" \"A\" \"A\" \"A\" \"A\" \"A\" \"A\"\n",
       "[1945] \"A\" \"A\" \"A\" \"A\" \"A\" \"A\" \"A\" \"A\" \"A\" \"A\" \"A\" \"A\" \"A\" \"A\" \"A\" \"A\" \"A\" \"A\"\n",
       "[1963] \"A\" \"A\" \"A\" \"A\" \"A\" \"A\" \"A\" \"A\" \"A\" \"A\" \"A\" \"A\" \"A\" \"A\" \"A\" \"A\" \"A\" \"A\"\n",
       "[1981] \"A\" \"A\" \"A\" \"A\" \"A\" \"A\" \"A\" \"A\" \"A\" \"A\" \"A\" \"A\" \"A\" \"A\" \"A\" \"A\" \"A\" \"A\"\n",
       "[1999] \"A\" \"A\" \"A\" \"A\" \"A\" \"A\" \"A\" \"A\" \"A\" \"A\" \"A\" \"A\" \"A\" \"A\" \"A\" \"A\" \"A\" \"A\"\n",
       "[2017] \"A\" \"A\" \"A\" \"A\" \"A\" \"A\" \"A\" \"A\" \"A\" \"A\" \"A\" \"A\" \"A\" \"A\" \"A\" \"A\" \"A\" \"A\"\n",
       "[2035] \"A\" \"A\" \"A\" \"A\" \"A\" \"A\" \"A\" \"A\" \"A\" \"A\" \"A\" \"A\" \"A\" \"A\" \"A\" \"A\" \"A\" \"A\"\n",
       "[2053] \"A\" \"A\" \"A\" \"A\" \"A\" \"A\" \"A\" \"A\" \"A\" \"A\" \"A\" \"A\" \"A\" \"A\" \"A\" \"A\" \"A\" \"A\"\n",
       "[2071] \"A\" \"A\" \"A\" \"A\" \"A\" \"A\" \"A\" \"A\" \"A\" \"A\" \"A\" \"A\" \"A\" \"A\" \"A\" \"A\" \"A\" \"A\"\n",
       "[2089] \"A\" \"A\" \"A\" \"A\" \"A\" \"A\" \"A\" \"A\" \"A\" \"A\" \"A\" \"A\" \"A\" \"A\" \"A\" \"A\" \"A\" \"A\"\n",
       "[2107] \"A\" \"A\" \"A\" \"A\" \"A\" \"A\" \"A\" \"A\" \"A\" \"A\" \"A\" \"A\" \"A\" \"A\" \"A\" \"A\" \"A\" \"A\"\n",
       "[2125] \"A\" \"A\" \"A\" \"A\" \"A\" \"A\" \"A\" \"A\" \"A\" \"A\" \"A\" \"A\" \"A\" \"A\" \"A\" \"A\" \"A\" \"A\"\n",
       "[2143] \"A\" \"A\" \"A\" \"A\" \"A\" \"A\" \"A\" \"A\" \"A\" \"A\" \"A\" \"A\" \"A\" \"A\" \"A\" \"A\" \"A\" \"A\"\n",
       "[2161] \"A\" \"A\" \"A\" \"A\" \"A\" \"A\" \"A\" \"A\" \"A\" \"A\" \"A\" \"A\" \"A\" \"A\" \"A\" \"A\" \"A\" \"A\"\n",
       "[2179] \"A\" \"A\" \"A\" \"A\" \"A\" \"A\" \"A\" \"A\" \"A\" \"A\" \"A\" \"A\" \"A\" \"A\" \"A\" \"A\" \"A\" \"A\"\n",
       "[2197] \"A\" \"A\" \"A\" \"A\" \"A\" \"A\" \"A\" \"A\" \"A\" \"A\" \"A\" \"A\" \"A\" \"A\" \"A\" \"A\" \"A\" \"A\"\n",
       "[2215] \"A\" \"A\" \"A\" \"A\" \"A\" \"A\" \"A\" \"A\" \"A\" \"A\" \"A\" \"A\" \"A\" \"A\" \"A\" \"A\" \"A\" \"A\"\n",
       "[2233] \"A\" \"A\" \"A\" \"A\" \"A\" \"A\" \"A\" \"A\" \"B\" \"B\" \"B\" \"B\" \"B\" \"B\" \"B\" \"B\" \"B\" \"B\"\n",
       "[2251] \"B\" \"B\" \"B\" \"B\" \"B\" \"B\" \"B\" \"B\" \"B\" \"B\" \"B\" \"B\" \"B\" \"B\" \"B\" \"B\" \"B\" \"B\"\n",
       "[2269] \"B\" \"B\" \"B\" \"B\" \"B\" \"B\" \"B\" \"B\" \"B\" \"B\" \"B\" \"B\" \"B\" \"B\" \"B\" \"B\" \"B\" \"B\"\n",
       "[2287] \"B\" \"B\" \"B\" \"B\" \"B\" \"B\" \"B\" \"B\" \"B\" \"B\" \"B\" \"B\" \"B\" \"B\" \"B\" \"B\" \"B\" \"B\"\n",
       "[2305] \"B\" \"B\" \"B\" \"B\" \"B\" \"B\" \"B\" \"B\" \"B\" \"B\" \"B\" \"B\" \"B\" \"B\" \"B\" \"B\" \"B\" \"B\"\n",
       "[2323] \"B\" \"B\" \"B\" \"B\" \"B\" \"B\" \"B\" \"B\" \"B\" \"B\" \"B\" \"B\" \"B\" \"B\" \"B\" \"B\" \"B\" \"B\"\n",
       "[2341] \"B\" \"B\" \"B\" \"B\" \"B\" \"B\" \"B\" \"B\" \"B\" \"B\" \"B\" \"B\" \"B\" \"B\" \"B\" \"B\" \"B\" \"B\"\n",
       "[2359] \"B\" \"B\" \"B\" \"B\" \"B\" \"B\" \"B\" \"B\" \"B\" \"B\" \"B\" \"B\" \"B\" \"B\" \"B\" \"B\" \"B\" \"B\"\n",
       "[2377] \"B\" \"B\" \"B\" \"B\" \"B\" \"B\" \"B\" \"B\" \"B\" \"B\" \"B\" \"B\" \"B\" \"B\" \"B\" \"B\" \"B\" \"B\"\n",
       "[2395] \"B\" \"B\" \"B\" \"B\" \"B\" \"B\" \"B\" \"B\" \"B\" \"B\" \"B\" \"B\" \"B\" \"B\" \"B\" \"B\" \"B\" \"B\"\n",
       "[2413] \"B\" \"B\" \"B\" \"B\" \"B\" \"B\" \"B\" \"B\" \"B\" \"B\" \"B\" \"B\" \"B\" \"B\" \"B\" \"B\" \"B\" \"B\"\n",
       "[2431] \"B\" \"B\" \"B\" \"B\" \"B\" \"B\" \"B\" \"B\" \"B\" \"B\" \"B\" \"B\" \"B\" \"B\" \"B\" \"B\" \"B\" \"B\"\n",
       "[2449] \"B\" \"B\" \"B\" \"B\" \"B\" \"B\" \"B\" \"B\" \"B\" \"B\" \"B\" \"B\" \"B\" \"B\" \"B\" \"B\" \"B\" \"B\"\n",
       "[2467] \"B\" \"B\" \"B\" \"B\" \"B\" \"B\" \"B\" \"B\" \"B\" \"B\" \"B\" \"B\" \"B\" \"B\" \"B\" \"B\" \"B\" \"B\"\n",
       "[2485] \"B\" \"B\" \"B\" \"B\" \"B\" \"B\" \"B\" \"B\" \"B\" \"B\" \"B\" \"B\" \"B\" \"B\" \"B\" \"B\" \"B\" \"B\"\n",
       "[2503] \"B\" \"B\" \"B\" \"B\" \"B\" \"B\" \"B\" \"B\" \"B\" \"B\" \"B\" \"B\" \"B\" \"B\" \"B\" \"B\" \"B\" \"B\"\n",
       "[2521] \"B\" \"B\" \"B\" \"B\" \"B\" \"B\" \"B\" \"B\" \"B\" \"B\" \"B\" \"B\" \"B\" \"B\" \"B\" \"B\" \"B\" \"B\"\n",
       "[2539] \"B\" \"B\" \"B\" \"B\" \"B\" \"B\" \"B\" \"B\" \"B\" \"B\" \"B\" \"B\" \"B\" \"B\" \"B\" \"B\" \"B\" \"B\"\n",
       "[2557] \"B\" \"B\" \"B\" \"B\" \"B\" \"B\" \"B\" \"B\" \"B\" \"B\" \"B\" \"B\" \"B\" \"B\" \"B\" \"B\" \"B\" \"B\"\n",
       "[2575] \"B\" \"B\" \"B\" \"B\" \"B\" \"B\" \"B\" \"B\" \"B\" \"B\" \"B\" \"B\" \"B\" \"B\" \"B\" \"B\" \"B\" \"B\"\n",
       "[2593] \"B\" \"B\" \"B\" \"B\" \"B\" \"B\" \"B\" \"B\" \"B\" \"B\" \"B\" \"B\" \"B\" \"B\" \"B\" \"B\" \"B\" \"B\"\n",
       "[2611] \"B\" \"B\" \"B\" \"B\" \"B\" \"B\" \"B\" \"B\" \"B\" \"B\" \"B\" \"B\" \"B\" \"B\" \"B\" \"B\" \"B\" \"B\"\n",
       "[2629] \"B\" \"B\" \"B\" \"B\" \"B\" \"B\" \"B\" \"B\" \"B\" \"B\" \"B\" \"B\" \"B\" \"B\" \"B\" \"B\" \"B\" \"B\"\n",
       "[2647] \"B\" \"B\" \"B\" \"B\" \"B\" \"B\" \"B\" \"B\" \"B\" \"B\" \"B\" \"B\" \"B\" \"B\" \"B\" \"B\" \"B\" \"B\"\n",
       "[2665] \"B\" \"B\" \"B\" \"B\" \"B\" \"B\" \"B\" \"B\" \"B\" \"B\" \"B\" \"B\" \"B\" \"B\" \"B\" \"B\" \"B\" \"B\"\n",
       "[2683] \"B\" \"B\" \"B\" \"B\" \"B\" \"B\" \"B\" \"B\" \"B\" \"B\" \"B\" \"B\" \"B\" \"B\" \"B\" \"B\" \"B\" \"B\"\n",
       "[2701] \"B\" \"B\" \"B\" \"B\" \"B\" \"B\" \"B\" \"B\" \"B\" \"B\" \"B\" \"B\" \"B\" \"B\" \"B\" \"B\" \"B\" \"B\"\n",
       "[2719] \"B\" \"B\" \"B\" \"B\" \"B\" \"B\" \"B\" \"B\" \"B\" \"B\" \"B\" \"B\" \"B\" \"B\" \"B\" \"B\" \"B\" \"B\"\n",
       "[2737] \"B\" \"B\" \"B\" \"B\" \"B\" \"B\" \"B\" \"B\" \"B\" \"B\" \"B\" \"B\" \"B\" \"B\" \"B\" \"B\" \"B\" \"B\"\n",
       "[2755] \"B\" \"B\" \"B\" \"B\" \"B\" \"B\" \"B\" \"B\" \"B\" \"B\" \"B\" \"B\" \"B\" \"B\" \"B\" \"B\" \"B\" \"B\"\n",
       "[2773] \"B\" \"B\" \"B\" \"B\" \"B\" \"B\" \"B\" \"B\" \"B\" \"B\" \"B\" \"B\" \"B\" \"B\" \"B\" \"B\" \"B\" \"B\"\n",
       "[2791] \"B\" \"B\" \"B\" \"B\" \"B\" \"B\" \"B\" \"B\" \"B\" \"B\" \"B\" \"B\" \"B\" \"B\" \"B\" \"B\" \"B\" \"B\"\n",
       "[2809] \"B\" \"B\" \"B\" \"B\" \"B\" \"B\" \"B\" \"B\" \"B\" \"B\" \"B\" \"B\" \"B\" \"B\" \"B\" \"B\" \"B\" \"B\"\n",
       "[2827] \"B\" \"B\" \"B\" \"B\" \"B\" \"B\" \"B\" \"B\" \"B\" \"B\" \"B\" \"B\" \"B\" \"B\" \"B\" \"B\" \"B\" \"B\"\n",
       "[2845] \"B\" \"B\" \"B\" \"B\" \"B\" \"B\" \"B\" \"B\" \"B\" \"B\" \"B\" \"B\" \"B\" \"B\" \"B\" \"B\" \"B\" \"B\"\n",
       "[2863] \"B\" \"B\" \"B\" \"B\" \"B\" \"B\" \"B\" \"B\" \"B\" \"B\" \"B\" \"B\" \"B\" \"B\" \"B\" \"B\" \"B\" \"B\"\n",
       "[2881] \"B\" \"B\" \"B\" \"B\" \"B\" \"B\" \"B\" \"B\" \"B\" \"B\" \"B\" \"B\" \"B\" \"B\" \"B\" \"B\" \"B\" \"B\"\n",
       "[2899] \"B\" \"B\" \"B\" \"B\" \"B\" \"B\" \"B\" \"B\" \"B\" \"B\" \"B\" \"B\" \"B\" \"B\" \"B\" \"B\" \"B\" \"B\"\n",
       "[2917] \"B\" \"B\" \"B\" \"B\" \"B\" \"B\" \"B\" \"B\" \"B\" \"B\" \"B\" \"B\" \"B\" \"B\" \"B\" \"B\" \"B\" \"B\"\n",
       "[2935] \"B\" \"B\" \"B\" \"B\" \"B\" \"B\" \"B\" \"B\" \"B\" \"B\" \"B\" \"B\" \"B\" \"B\" \"B\" \"B\" \"B\" \"B\"\n",
       "[2953] \"B\" \"B\" \"B\" \"B\" \"B\" \"B\" \"B\" \"B\" \"B\" \"B\" \"B\" \"B\" \"B\" \"B\" \"B\" \"B\" \"B\" \"B\"\n",
       "[2971] \"B\" \"B\" \"B\" \"B\" \"B\" \"B\" \"B\" \"B\" \"B\" \"B\" \"B\" \"B\" \"B\" \"B\" \"B\" \"B\" \"B\" \"B\"\n",
       "[2989] \"B\" \"B\" \"B\" \"B\" \"B\" \"B\" \"B\" \"B\" \"B\" \"B\" \"B\" \"B\" \"B\" \"B\" \"B\" \"B\" \"B\" \"B\"\n",
       "[3007] \"B\" \"B\" \"B\" \"B\" \"B\" \"B\" \"B\" \"B\" \"B\" \"B\" \"B\" \"B\" \"B\" \"B\" \"B\" \"B\" \"B\" \"B\"\n",
       "[3025] \"B\" \"B\" \"B\" \"B\" \"B\" \"B\" \"B\" \"B\" \"B\" \"B\" \"B\" \"B\" \"B\" \"B\" \"B\" \"B\" \"B\" \"B\"\n",
       "[3043] \"B\" \"B\" \"B\" \"B\" \"B\" \"B\" \"B\" \"B\" \"B\" \"B\" \"B\" \"B\" \"B\" \"B\" \"B\" \"B\" \"B\" \"B\"\n",
       "[3061] \"B\" \"B\" \"B\" \"B\" \"B\" \"B\" \"B\" \"B\" \"B\" \"B\" \"B\" \"B\" \"B\" \"B\" \"B\" \"B\" \"B\" \"B\"\n",
       "[3079] \"B\" \"B\" \"B\" \"B\" \"B\" \"B\" \"B\" \"B\" \"B\" \"B\" \"B\" \"B\" \"B\" \"B\" \"B\" \"B\" \"B\" \"B\"\n",
       "[3097] \"B\" \"B\" \"B\" \"B\" \"B\" \"B\" \"B\" \"B\" \"B\" \"B\" \"B\" \"B\" \"B\" \"B\" \"B\" \"B\" \"B\" \"B\"\n",
       "[3115] \"B\" \"B\" \"B\" \"B\" \"B\" \"B\" \"B\" \"B\" \"B\" \"B\" \"B\" \"B\" \"B\" \"B\" \"B\" \"B\" \"B\" \"B\"\n",
       "[3133] \"B\" \"B\" \"B\" \"B\" \"B\" \"B\" \"B\" \"B\" \"B\" \"B\" \"B\" \"B\" \"B\" \"B\" \"B\" \"B\" \"B\" \"B\"\n",
       "[3151] \"B\" \"B\" \"B\" \"B\" \"B\" \"B\" \"B\" \"B\" \"B\" \"B\" \"B\" \"B\" \"B\" \"B\" \"B\" \"B\" \"B\" \"B\"\n",
       "[3169] \"B\" \"B\" \"B\" \"B\" \"B\" \"B\" \"B\" \"B\" \"B\" \"B\" \"B\" \"B\" \"B\" \"B\" \"B\" \"B\" \"B\" \"B\"\n",
       "[3187] \"B\" \"B\" \"B\" \"B\" \"B\" \"B\" \"B\" \"B\" \"B\" \"B\" \"B\" \"B\" \"B\" \"B\" \"B\" \"B\" \"B\" \"B\"\n",
       "[3205] \"B\" \"B\" \"B\" \"B\" \"B\" \"B\" \"B\" \"B\" \"B\" \"B\" \"B\" \"B\" \"B\" \"B\" \"B\" \"B\" \"B\" \"B\"\n",
       "[3223] \"B\" \"B\" \"B\" \"B\" \"B\" \"B\" \"B\" \"B\" \"B\" \"B\" \"B\" \"B\" \"B\" \"B\" \"B\" \"B\" \"B\" \"B\"\n",
       "[3241] \"B\" \"B\" \"B\" \"B\" \"B\" \"B\" \"B\" \"B\" \"B\" \"B\" \"B\" \"B\" \"B\" \"B\" \"B\" \"B\" \"B\" \"B\"\n",
       "[3259] \"B\" \"B\" \"B\" \"B\" \"B\" \"B\" \"B\" \"B\" \"B\" \"B\" \"B\" \"B\" \"B\" \"B\" \"B\" \"B\" \"B\" \"B\"\n",
       "[3277] \"B\" \"B\" \"B\" \"B\" \"C\" \"C\" \"C\" \"C\" \"C\" \"C\" \"C\" \"C\" \"C\" \"C\" \"C\" \"C\" \"C\" \"C\"\n",
       "[3295] \"C\" \"C\" \"C\" \"C\" \"C\" \"C\" \"C\" \"C\" \"C\" \"C\" \"C\" \"C\" \"C\" \"C\" \"C\" \"C\" \"C\" \"C\"\n",
       "[3313] \"C\" \"C\" \"C\" \"C\" \"C\" \"C\" \"C\" \"C\" \"C\" \"C\" \"C\" \"C\" \"C\" \"C\" \"C\" \"C\" \"C\" \"C\"\n",
       "[3331] \"C\" \"C\" \"C\" \"C\" \"C\" \"C\" \"C\" \"C\" \"C\" \"C\" \"C\" \"C\" \"C\" \"C\" \"C\" \"C\" \"C\" \"C\"\n",
       "[3349] \"C\" \"C\" \"C\" \"C\" \"C\" \"C\" \"C\" \"C\" \"C\" \"C\" \"C\" \"C\" \"C\" \"C\" \"C\" \"C\" \"C\" \"C\"\n",
       "[3367] \"C\" \"C\" \"C\" \"C\" \"C\" \"C\" \"C\" \"C\" \"C\" \"C\" \"C\" \"C\" \"C\" \"C\" \"C\" \"C\" \"C\" \"C\"\n",
       "[3385] \"C\" \"C\" \"C\" \"C\" \"C\" \"C\" \"C\" \"C\" \"C\" \"C\" \"C\" \"C\" \"C\" \"C\" \"C\" \"C\" \"C\" \"C\"\n",
       "[3403] \"C\" \"C\" \"C\" \"C\" \"C\" \"C\" \"C\" \"C\" \"C\" \"C\" \"C\" \"C\" \"C\" \"C\" \"C\" \"C\" \"C\" \"C\"\n",
       "[3421] \"C\" \"C\" \"C\" \"C\" \"C\" \"C\" \"C\" \"C\" \"C\" \"C\" \"C\" \"C\" \"C\" \"C\" \"C\" \"C\" \"C\" \"C\"\n",
       "[3439] \"C\" \"C\" \"C\" \"C\" \"C\" \"C\" \"C\" \"C\" \"C\" \"C\" \"C\" \"C\" \"C\" \"C\" \"C\" \"C\" \"C\" \"C\"\n",
       "[3457] \"C\" \"C\" \"C\" \"C\" \"C\" \"C\" \"C\" \"C\" \"C\" \"C\" \"C\" \"C\" \"C\" \"C\" \"C\" \"C\" \"C\" \"C\"\n",
       "[3475] \"C\" \"C\" \"C\" \"C\" \"C\" \"C\" \"C\" \"C\" \"C\" \"C\" \"C\" \"C\" \"C\" \"C\" \"C\" \"C\" \"C\" \"C\"\n",
       "[3493] \"C\" \"C\" \"C\" \"C\" \"C\" \"C\" \"C\" \"C\" \"C\" \"C\" \"C\" \"C\" \"C\" \"C\" \"C\" \"C\" \"C\" \"C\"\n",
       "[3511] \"C\" \"C\" \"C\" \"C\" \"C\" \"C\" \"C\" \"C\" \"C\" \"C\" \"C\" \"C\" \"C\" \"C\" \"C\" \"C\" \"C\" \"C\"\n",
       "[3529] \"C\" \"C\" \"C\" \"C\" \"C\" \"C\" \"C\" \"C\" \"C\" \"C\" \"C\" \"C\" \"C\" \"C\" \"C\" \"C\" \"C\" \"C\"\n",
       "[3547] \"C\" \"C\" \"C\" \"C\" \"C\" \"C\" \"C\" \"C\" \"C\" \"C\" \"C\" \"C\" \"C\" \"C\" \"C\" \"C\" \"C\" \"C\"\n",
       "[3565] \"C\" \"C\" \"C\" \"C\" \"C\" \"C\" \"C\" \"C\" \"C\" \"C\" \"C\" \"C\" \"C\" \"C\" \"C\" \"C\" \"C\" \"C\"\n",
       "[3583] \"C\" \"C\" \"C\" \"C\" \"C\" \"C\" \"C\" \"C\" \"C\" \"C\" \"C\" \"C\" \"C\" \"C\" \"C\" \"C\" \"C\" \"C\"\n",
       "[3601] \"C\" \"C\" \"C\" \"C\" \"C\" \"C\" \"C\" \"C\" \"C\" \"C\" \"C\" \"C\" \"C\" \"C\" \"C\" \"C\" \"C\" \"C\"\n",
       "[3619] \"C\" \"C\" \"C\" \"C\" \"C\" \"C\" \"C\" \"C\" \"C\" \"C\" \"C\" \"C\" \"C\" \"C\" \"C\" \"C\" \"C\" \"C\"\n",
       "[3637] \"C\" \"C\" \"C\" \"C\" \"C\" \"C\" \"C\" \"C\" \"C\" \"C\" \"C\" \"C\" \"C\" \"C\" \"C\" \"C\" \"C\" \"C\"\n",
       "[3655] \"C\" \"C\" \"C\" \"C\" \"C\" \"C\" \"C\" \"C\" \"C\" \"C\" \"C\" \"C\" \"C\" \"C\" \"C\" \"C\" \"C\" \"C\"\n",
       "[3673] \"C\" \"C\" \"C\" \"C\" \"C\" \"C\" \"C\" \"C\" \"C\" \"C\" \"C\" \"C\" \"C\" \"C\" \"C\" \"C\" \"C\" \"C\"\n",
       "[3691] \"C\" \"C\" \"C\" \"C\" \"C\" \"C\" \"C\" \"C\" \"C\" \"C\" \"C\" \"C\" \"C\" \"C\" \"C\" \"C\" \"C\" \"C\"\n",
       "[3709] \"C\" \"C\" \"C\" \"C\" \"C\" \"C\" \"C\" \"C\" \"C\" \"C\" \"C\" \"C\" \"C\" \"C\" \"C\" \"C\" \"C\" \"C\"\n",
       "[3727] \"C\" \"C\" \"C\" \"C\" \"C\" \"C\" \"C\" \"C\" \"C\" \"C\" \"C\" \"C\" \"C\" \"C\" \"C\" \"C\" \"C\" \"C\"\n",
       "[3745] \"C\" \"C\" \"C\" \"C\" \"C\" \"C\" \"C\" \"C\" \"C\" \"C\" \"C\" \"C\" \"C\" \"C\" \"C\" \"C\" \"C\" \"C\"\n",
       "[3763] \"C\" \"C\" \"C\" \"C\" \"C\" \"C\" \"C\" \"C\" \"C\" \"C\" \"C\" \"C\" \"C\" \"C\" \"C\" \"C\" \"C\" \"C\"\n",
       "[3781] \"C\" \"C\" \"C\" \"C\" \"C\" \"C\" \"C\" \"C\" \"C\" \"C\" \"C\" \"C\" \"C\" \"C\" \"C\" \"C\" \"C\" \"C\"\n",
       "[3799] \"C\" \"C\" \"C\" \"C\" \"C\" \"C\" \"C\" \"C\" \"C\" \"C\" \"C\" \"C\" \"C\" \"C\" \"C\" \"C\" \"C\" \"C\"\n",
       "[3817] \"C\" \"C\" \"C\" \"C\" \"C\" \"C\" \"C\" \"C\" \"C\" \"C\" \"C\" \"C\" \"C\" \"C\" \"C\" \"C\" \"C\" \"C\"\n",
       "[3835] \"C\" \"C\" \"C\" \"C\" \"C\" \"C\" \"C\" \"C\" \"C\" \"C\" \"C\" \"C\" \"C\" \"C\" \"C\" \"C\" \"C\" \"C\"\n",
       "[3853] \"C\" \"C\" \"C\" \"C\" \"C\" \"C\" \"C\" \"C\" \"C\" \"C\" \"C\" \"C\" \"C\" \"C\" \"C\" \"C\" \"C\" \"C\"\n",
       "[3871] \"C\" \"C\" \"C\" \"C\" \"C\" \"C\" \"C\" \"C\" \"C\" \"C\" \"C\" \"C\" \"C\" \"C\" \"C\" \"C\" \"C\" \"C\"\n",
       "[3889] \"C\" \"C\" \"C\" \"C\" \"C\" \"C\" \"C\" \"C\" \"C\" \"C\" \"C\" \"C\" \"C\" \"C\" \"C\" \"C\" \"C\" \"C\"\n",
       "[3907] \"C\" \"C\" \"C\" \"C\" \"C\" \"C\" \"C\" \"C\" \"C\" \"C\" \"C\" \"C\" \"C\" \"C\" \"C\" \"C\" \"C\" \"C\"\n",
       "[3925] \"C\" \"C\" \"C\" \"C\" \"C\" \"C\" \"C\" \"C\" \"C\" \"C\" \"C\" \"C\" \"C\" \"C\" \"C\" \"C\" \"C\" \"C\"\n",
       "[3943] \"C\" \"C\" \"C\" \"C\" \"C\" \"C\" \"C\" \"C\" \"C\" \"C\" \"C\" \"C\" \"C\" \"C\" \"C\" \"C\" \"C\" \"C\"\n",
       "[3961] \"C\" \"C\" \"C\" \"C\" \"C\" \"C\" \"C\" \"C\" \"C\" \"C\" \"C\" \"C\" \"C\" \"C\" \"C\" \"C\" \"C\" \"C\"\n",
       "[3979] \"C\" \"C\" \"C\" \"C\" \"C\" \"C\" \"C\" \"C\" \"C\" \"C\" \"C\" \"C\" \"C\" \"C\" \"C\" \"C\" \"C\" \"C\"\n",
       "[3997] \"C\" \"C\" \"C\" \"C\" \"C\" \"C\" \"C\" \"C\" \"C\" \"C\" \"C\" \"C\" \"C\" \"C\" \"C\" \"C\" \"C\" \"C\"\n",
       "[4015] \"C\" \"C\" \"C\" \"C\" \"C\" \"C\" \"C\" \"C\" \"C\" \"C\" \"C\" \"C\" \"C\" \"C\" \"C\" \"C\" \"C\" \"C\"\n",
       "[4033] \"C\" \"C\" \"C\" \"C\" \"C\" \"C\" \"C\" \"C\" \"C\" \"C\" \"C\" \"C\" \"C\" \"C\" \"C\" \"C\" \"C\" \"C\"\n",
       "[4051] \"C\" \"C\" \"C\" \"C\" \"C\" \"C\" \"C\" \"C\" \"C\" \"C\" \"C\" \"C\" \"C\" \"C\" \"C\" \"C\" \"C\" \"C\"\n",
       "[4069] \"C\" \"C\" \"C\" \"C\" \"C\" \"C\" \"C\" \"C\" \"C\" \"C\" \"C\" \"C\" \"C\" \"C\" \"C\" \"C\" \"C\" \"C\"\n",
       "[4087] \"C\" \"C\" \"C\" \"C\" \"C\" \"C\" \"C\" \"C\" \"C\" \"C\" \"C\" \"C\" \"C\" \"C\""
      ]
     },
     "metadata": {},
     "output_type": "display_data"
    }
   ],
   "source": [
    "data"
   ]
  },
  {
   "cell_type": "code",
   "execution_count": 227,
   "id": "edc518c6",
   "metadata": {},
   "outputs": [],
   "source": [
    "freq = table(data)"
   ]
  },
  {
   "cell_type": "code",
   "execution_count": 228,
   "id": "65f887ee",
   "metadata": {},
   "outputs": [
    {
     "data": {
      "text/plain": [
       "data\n",
       "   A    B    C \n",
       "2240 1040  820 "
      ]
     },
     "metadata": {},
     "output_type": "display_data"
    }
   ],
   "source": [
    "freq"
   ]
  },
  {
   "cell_type": "code",
   "execution_count": 229,
   "id": "022082ca",
   "metadata": {},
   "outputs": [],
   "source": [
    "prob = prop.table(freq)"
   ]
  },
  {
   "cell_type": "code",
   "execution_count": 230,
   "id": "7f18ba56",
   "metadata": {},
   "outputs": [
    {
     "data": {
      "text/plain": [
       "data\n",
       "        A         B         C \n",
       "0.5463415 0.2536585 0.2000000 "
      ]
     },
     "metadata": {},
     "output_type": "display_data"
    }
   ],
   "source": [
    "prob"
   ]
  },
  {
   "cell_type": "code",
   "execution_count": 231,
   "id": "c529a164",
   "metadata": {},
   "outputs": [],
   "source": [
    "sum_prob = cumsum(prob)"
   ]
  },
  {
   "cell_type": "code",
   "execution_count": 232,
   "id": "1acc4fc7",
   "metadata": {},
   "outputs": [
    {
     "data": {
      "text/html": [
       "<style>\n",
       ".dl-inline {width: auto; margin:0; padding: 0}\n",
       ".dl-inline>dt, .dl-inline>dd {float: none; width: auto; display: inline-block}\n",
       ".dl-inline>dt::after {content: \":\\0020\"; padding-right: .5ex}\n",
       ".dl-inline>dt:not(:first-of-type) {padding-left: .5ex}\n",
       "</style><dl class=dl-inline><dt>A</dt><dd>0.546341463414634</dd><dt>B</dt><dd>0.8</dd><dt>C</dt><dd>1</dd></dl>\n"
      ],
      "text/latex": [
       "\\begin{description*}\n",
       "\\item[A] 0.546341463414634\n",
       "\\item[B] 0.8\n",
       "\\item[C] 1\n",
       "\\end{description*}\n"
      ],
      "text/markdown": [
       "A\n",
       ":   0.546341463414634B\n",
       ":   0.8C\n",
       ":   1\n",
       "\n"
      ],
      "text/plain": [
       "        A         B         C \n",
       "0.5463415 0.8000000 1.0000000 "
      ]
     },
     "metadata": {},
     "output_type": "display_data"
    }
   ],
   "source": [
    "sum_prob"
   ]
  },
  {
   "cell_type": "code",
   "execution_count": 234,
   "id": "41662507",
   "metadata": {},
   "outputs": [],
   "source": [
    "freq.table = cbind(freq, prob, sum_prob)"
   ]
  },
  {
   "cell_type": "code",
   "execution_count": 235,
   "id": "f3d08c58",
   "metadata": {},
   "outputs": [
    {
     "data": {
      "text/html": [
       "<table class=\"dataframe\">\n",
       "<caption>A matrix: 3 × 3 of type dbl</caption>\n",
       "<thead>\n",
       "\t<tr><th></th><th scope=col>freq</th><th scope=col>prob</th><th scope=col>sum_prob</th></tr>\n",
       "</thead>\n",
       "<tbody>\n",
       "\t<tr><th scope=row>A</th><td>2240</td><td>0.5463415</td><td>0.5463415</td></tr>\n",
       "\t<tr><th scope=row>B</th><td>1040</td><td>0.2536585</td><td>0.8000000</td></tr>\n",
       "\t<tr><th scope=row>C</th><td> 820</td><td>0.2000000</td><td>1.0000000</td></tr>\n",
       "</tbody>\n",
       "</table>\n"
      ],
      "text/latex": [
       "A matrix: 3 × 3 of type dbl\n",
       "\\begin{tabular}{r|lll}\n",
       "  & freq & prob & sum\\_prob\\\\\n",
       "\\hline\n",
       "\tA & 2240 & 0.5463415 & 0.5463415\\\\\n",
       "\tB & 1040 & 0.2536585 & 0.8000000\\\\\n",
       "\tC &  820 & 0.2000000 & 1.0000000\\\\\n",
       "\\end{tabular}\n"
      ],
      "text/markdown": [
       "\n",
       "A matrix: 3 × 3 of type dbl\n",
       "\n",
       "| <!--/--> | freq | prob | sum_prob |\n",
       "|---|---|---|---|\n",
       "| A | 2240 | 0.5463415 | 0.5463415 |\n",
       "| B | 1040 | 0.2536585 | 0.8000000 |\n",
       "| C |  820 | 0.2000000 | 1.0000000 |\n",
       "\n"
      ],
      "text/plain": [
       "  freq prob      sum_prob \n",
       "A 2240 0.5463415 0.5463415\n",
       "B 1040 0.2536585 0.8000000\n",
       "C  820 0.2000000 1.0000000"
      ]
     },
     "metadata": {},
     "output_type": "display_data"
    }
   ],
   "source": [
    "freq.table"
   ]
  },
  {
   "cell_type": "code",
   "execution_count": 236,
   "id": "bb5721c0",
   "metadata": {},
   "outputs": [
    {
     "data": {
      "image/png": "[encoded data removed]",
      "text/plain": [
       "Plot with title \"Pie Chart\""
      ]
     },
     "metadata": {
      "image/png": {
       "height": 420,
       "width": 420
      }
     },
     "output_type": "display_data"
    }
   ],
   "source": [
    "pie(freq, main = 'Pie Chart')"
   ]
  },
  {
   "cell_type": "code",
   "execution_count": 237,
   "id": "e608810c",
   "metadata": {},
   "outputs": [
    {
     "data": {
      "text/html": [
       "<table class=\"dataframe\">\n",
       "<caption>A matrix: 2 × 2 of type dbl</caption>\n",
       "<tbody>\n",
       "\t<tr><td>64</td><td>10</td></tr>\n",
       "\t<tr><td> 8</td><td>15</td></tr>\n",
       "</tbody>\n",
       "</table>\n"
      ],
      "text/latex": [
       "A matrix: 2 × 2 of type dbl\n",
       "\\begin{tabular}{ll}\n",
       "\t 64 & 10\\\\\n",
       "\t  8 & 15\\\\\n",
       "\\end{tabular}\n"
      ],
      "text/markdown": [
       "\n",
       "A matrix: 2 × 2 of type dbl\n",
       "\n",
       "| 64 | 10 |\n",
       "|  8 | 15 |\n",
       "\n"
      ],
      "text/plain": [
       "     [,1] [,2]\n",
       "[1,] 64   10  \n",
       "[2,]  8   15  "
      ]
     },
     "metadata": {},
     "output_type": "display_data"
    }
   ],
   "source": [
    "matrix(c(64, 10, 8, 15), nc = 2, byrow = T)"
   ]
  },
  {
   "cell_type": "code",
   "execution_count": 238,
   "id": "5ba91785",
   "metadata": {},
   "outputs": [
    {
     "data": {
      "text/html": [
       "<table class=\"dataframe\">\n",
       "<caption>A matrix: 2 × 2 of type dbl</caption>\n",
       "<tbody>\n",
       "\t<tr><td>65</td><td>10</td></tr>\n",
       "\t<tr><td> 8</td><td>15</td></tr>\n",
       "</tbody>\n",
       "</table>\n"
      ],
      "text/latex": [
       "A matrix: 2 × 2 of type dbl\n",
       "\\begin{tabular}{ll}\n",
       "\t 65 & 10\\\\\n",
       "\t  8 & 15\\\\\n",
       "\\end{tabular}\n"
      ],
      "text/markdown": [
       "\n",
       "A matrix: 2 × 2 of type dbl\n",
       "\n",
       "| 65 | 10 |\n",
       "|  8 | 15 |\n",
       "\n"
      ],
      "text/plain": [
       "     [,1] [,2]\n",
       "[1,] 65   10  \n",
       "[2,]  8   15  "
      ]
     },
     "metadata": {},
     "output_type": "display_data"
    }
   ],
   "source": [
    "rbind(c(65, 10), c(8, 15))"
   ]
  },
  {
   "cell_type": "code",
   "execution_count": 239,
   "id": "06dc8a63",
   "metadata": {},
   "outputs": [
    {
     "data": {
      "text/html": [
       "<table class=\"dataframe\">\n",
       "<caption>A matrix: 2 × 2 of type dbl</caption>\n",
       "<tbody>\n",
       "\t<tr><td>64</td><td>10</td></tr>\n",
       "\t<tr><td> 8</td><td>15</td></tr>\n",
       "</tbody>\n",
       "</table>\n"
      ],
      "text/latex": [
       "A matrix: 2 × 2 of type dbl\n",
       "\\begin{tabular}{ll}\n",
       "\t 64 & 10\\\\\n",
       "\t  8 & 15\\\\\n",
       "\\end{tabular}\n"
      ],
      "text/markdown": [
       "\n",
       "A matrix: 2 × 2 of type dbl\n",
       "\n",
       "| 64 | 10 |\n",
       "|  8 | 15 |\n",
       "\n"
      ],
      "text/plain": [
       "     [,1] [,2]\n",
       "[1,] 64   10  \n",
       "[2,]  8   15  "
      ]
     },
     "metadata": {},
     "output_type": "display_data"
    }
   ],
   "source": [
    "cbind(c(64, 8), c(10, 15))"
   ]
  },
  {
   "cell_type": "code",
   "execution_count": 241,
   "id": "0eecb516",
   "metadata": {},
   "outputs": [
    {
     "data": {
      "text/html": [
       "<table class=\"dataframe\">\n",
       "<caption>A matrix: 2 × 2 of type dbl</caption>\n",
       "<thead>\n",
       "\t<tr><th></th><th scope=col>C.belt</th><th scope=col>C.unbelt</th></tr>\n",
       "</thead>\n",
       "<tbody>\n",
       "\t<tr><th scope=row>A.belt</th><td>65</td><td>10</td></tr>\n",
       "\t<tr><th scope=row>A.unbelt</th><td> 8</td><td>15</td></tr>\n",
       "</tbody>\n",
       "</table>\n"
      ],
      "text/latex": [
       "A matrix: 2 × 2 of type dbl\n",
       "\\begin{tabular}{r|ll}\n",
       "  & C.belt & C.unbelt\\\\\n",
       "\\hline\n",
       "\tA.belt & 65 & 10\\\\\n",
       "\tA.unbelt &  8 & 15\\\\\n",
       "\\end{tabular}\n"
      ],
      "text/markdown": [
       "\n",
       "A matrix: 2 × 2 of type dbl\n",
       "\n",
       "| <!--/--> | C.belt | C.unbelt |\n",
       "|---|---|---|\n",
       "| A.belt | 65 | 10 |\n",
       "| A.unbelt |  8 | 15 |\n",
       "\n"
      ],
      "text/plain": [
       "         C.belt C.unbelt\n",
       "A.belt   65     10      \n",
       "A.unbelt  8     15      "
      ]
     },
     "metadata": {},
     "output_type": "display_data"
    }
   ],
   "source": [
    "data = matrix(c(65, 10, 8, 15), nc = 2, byrow = T)\n",
    "rownames = c('A.belt', 'A.unbelt')\n",
    "colnames = c('C.belt', 'C.unbelt')\n",
    "rownames(data) = rownames\n",
    "colnames(data) = colnames\n",
    "data"
   ]
  },
  {
   "cell_type": "code",
   "execution_count": 242,
   "id": "7fdb61f4",
   "metadata": {},
   "outputs": [
    {
     "data": {
      "text/html": [
       "<style>\n",
       ".dl-inline {width: auto; margin:0; padding: 0}\n",
       ".dl-inline>dt, .dl-inline>dd {float: none; width: auto; display: inline-block}\n",
       ".dl-inline>dt::after {content: \":\\0020\"; padding-right: .5ex}\n",
       ".dl-inline>dt:not(:first-of-type) {padding-left: .5ex}\n",
       "</style><dl class=dl-inline><dt>A.belt</dt><dd>75</dd><dt>A.unbelt</dt><dd>23</dd></dl>\n"
      ],
      "text/latex": [
       "\\begin{description*}\n",
       "\\item[A.belt] 75\n",
       "\\item[A.unbelt] 23\n",
       "\\end{description*}\n"
      ],
      "text/markdown": [
       "A.belt\n",
       ":   75A.unbelt\n",
       ":   23\n",
       "\n"
      ],
      "text/plain": [
       "  A.belt A.unbelt \n",
       "      75       23 "
      ]
     },
     "metadata": {},
     "output_type": "display_data"
    }
   ],
   "source": [
    "margin.table(data, 1)"
   ]
  },
  {
   "cell_type": "code",
   "execution_count": 243,
   "id": "6495d362",
   "metadata": {},
   "outputs": [
    {
     "data": {
      "text/html": [
       "<style>\n",
       ".dl-inline {width: auto; margin:0; padding: 0}\n",
       ".dl-inline>dt, .dl-inline>dd {float: none; width: auto; display: inline-block}\n",
       ".dl-inline>dt::after {content: \":\\0020\"; padding-right: .5ex}\n",
       ".dl-inline>dt:not(:first-of-type) {padding-left: .5ex}\n",
       "</style><dl class=dl-inline><dt>C.belt</dt><dd>73</dd><dt>C.unbelt</dt><dd>25</dd></dl>\n"
      ],
      "text/latex": [
       "\\begin{description*}\n",
       "\\item[C.belt] 73\n",
       "\\item[C.unbelt] 25\n",
       "\\end{description*}\n"
      ],
      "text/markdown": [
       "C.belt\n",
       ":   73C.unbelt\n",
       ":   25\n",
       "\n"
      ],
      "text/plain": [
       "  C.belt C.unbelt \n",
       "      73       25 "
      ]
     },
     "metadata": {},
     "output_type": "display_data"
    }
   ],
   "source": [
    "margin.table(data, 2)"
   ]
  },
  {
   "cell_type": "code",
   "execution_count": 244,
   "id": "5a7d41da",
   "metadata": {},
   "outputs": [
    {
     "data": {
      "text/html": [
       "<style>\n",
       ".dl-inline {width: auto; margin:0; padding: 0}\n",
       ".dl-inline>dt, .dl-inline>dd {float: none; width: auto; display: inline-block}\n",
       ".dl-inline>dt::after {content: \":\\0020\"; padding-right: .5ex}\n",
       ".dl-inline>dt:not(:first-of-type) {padding-left: .5ex}\n",
       "</style><dl class=dl-inline><dt>A.belt</dt><dd>75</dd><dt>A.unbelt</dt><dd>23</dd></dl>\n"
      ],
      "text/latex": [
       "\\begin{description*}\n",
       "\\item[A.belt] 75\n",
       "\\item[A.unbelt] 23\n",
       "\\end{description*}\n"
      ],
      "text/markdown": [
       "A.belt\n",
       ":   75A.unbelt\n",
       ":   23\n",
       "\n"
      ],
      "text/plain": [
       "  A.belt A.unbelt \n",
       "      75       23 "
      ]
     },
     "metadata": {},
     "output_type": "display_data"
    }
   ],
   "source": [
    "rowSums(data)"
   ]
  },
  {
   "cell_type": "code",
   "execution_count": 245,
   "id": "18f5fd21",
   "metadata": {},
   "outputs": [
    {
     "data": {
      "text/html": [
       "<style>\n",
       ".dl-inline {width: auto; margin:0; padding: 0}\n",
       ".dl-inline>dt, .dl-inline>dd {float: none; width: auto; display: inline-block}\n",
       ".dl-inline>dt::after {content: \":\\0020\"; padding-right: .5ex}\n",
       ".dl-inline>dt:not(:first-of-type) {padding-left: .5ex}\n",
       "</style><dl class=dl-inline><dt>C.belt</dt><dd>73</dd><dt>C.unbelt</dt><dd>25</dd></dl>\n"
      ],
      "text/latex": [
       "\\begin{description*}\n",
       "\\item[C.belt] 73\n",
       "\\item[C.unbelt] 25\n",
       "\\end{description*}\n"
      ],
      "text/markdown": [
       "C.belt\n",
       ":   73C.unbelt\n",
       ":   25\n",
       "\n"
      ],
      "text/plain": [
       "  C.belt C.unbelt \n",
       "      73       25 "
      ]
     },
     "metadata": {},
     "output_type": "display_data"
    }
   ],
   "source": [
    "colSums(data)"
   ]
  },
  {
   "cell_type": "code",
   "execution_count": 247,
   "id": "9bd3c459",
   "metadata": {},
   "outputs": [
    {
     "data": {
      "text/html": [
       "<style>\n",
       ".dl-inline {width: auto; margin:0; padding: 0}\n",
       ".dl-inline>dt, .dl-inline>dd {float: none; width: auto; display: inline-block}\n",
       ".dl-inline>dt::after {content: \":\\0020\"; padding-right: .5ex}\n",
       ".dl-inline>dt:not(:first-of-type) {padding-left: .5ex}\n",
       "</style><dl class=dl-inline><dt>A.belt</dt><dd>75</dd><dt>A.unbelt</dt><dd>23</dd></dl>\n"
      ],
      "text/latex": [
       "\\begin{description*}\n",
       "\\item[A.belt] 75\n",
       "\\item[A.unbelt] 23\n",
       "\\end{description*}\n"
      ],
      "text/markdown": [
       "A.belt\n",
       ":   75A.unbelt\n",
       ":   23\n",
       "\n"
      ],
      "text/plain": [
       "  A.belt A.unbelt \n",
       "      75       23 "
      ]
     },
     "metadata": {},
     "output_type": "display_data"
    }
   ],
   "source": [
    "apply(data, 1, FUN = sum)"
   ]
  },
  {
   "cell_type": "code",
   "execution_count": 248,
   "id": "de5e4b5b",
   "metadata": {},
   "outputs": [
    {
     "data": {
      "text/html": [
       "<style>\n",
       ".dl-inline {width: auto; margin:0; padding: 0}\n",
       ".dl-inline>dt, .dl-inline>dd {float: none; width: auto; display: inline-block}\n",
       ".dl-inline>dt::after {content: \":\\0020\"; padding-right: .5ex}\n",
       ".dl-inline>dt:not(:first-of-type) {padding-left: .5ex}\n",
       "</style><dl class=dl-inline><dt>C.belt</dt><dd>73</dd><dt>C.unbelt</dt><dd>25</dd></dl>\n"
      ],
      "text/latex": [
       "\\begin{description*}\n",
       "\\item[C.belt] 73\n",
       "\\item[C.unbelt] 25\n",
       "\\end{description*}\n"
      ],
      "text/markdown": [
       "C.belt\n",
       ":   73C.unbelt\n",
       ":   25\n",
       "\n"
      ],
      "text/plain": [
       "  C.belt C.unbelt \n",
       "      73       25 "
      ]
     },
     "metadata": {},
     "output_type": "display_data"
    }
   ],
   "source": [
    "apply(data, 2, FUN = sum)"
   ]
  },
  {
   "cell_type": "code",
   "execution_count": 249,
   "id": "2240583a",
   "metadata": {},
   "outputs": [
    {
     "data": {
      "text/html": [
       "<table class=\"dataframe\">\n",
       "<caption>A matrix: 3 × 3 of type dbl</caption>\n",
       "<thead>\n",
       "\t<tr><th></th><th scope=col>C.belt</th><th scope=col>C.unbelt</th><th scope=col>Sum</th></tr>\n",
       "</thead>\n",
       "<tbody>\n",
       "\t<tr><th scope=row>A.belt</th><td>65</td><td>10</td><td>75</td></tr>\n",
       "\t<tr><th scope=row>A.unbelt</th><td> 8</td><td>15</td><td>23</td></tr>\n",
       "\t<tr><th scope=row>Sum</th><td>73</td><td>25</td><td>98</td></tr>\n",
       "</tbody>\n",
       "</table>\n"
      ],
      "text/latex": [
       "A matrix: 3 × 3 of type dbl\n",
       "\\begin{tabular}{r|lll}\n",
       "  & C.belt & C.unbelt & Sum\\\\\n",
       "\\hline\n",
       "\tA.belt & 65 & 10 & 75\\\\\n",
       "\tA.unbelt &  8 & 15 & 23\\\\\n",
       "\tSum & 73 & 25 & 98\\\\\n",
       "\\end{tabular}\n"
      ],
      "text/markdown": [
       "\n",
       "A matrix: 3 × 3 of type dbl\n",
       "\n",
       "| <!--/--> | C.belt | C.unbelt | Sum |\n",
       "|---|---|---|---|\n",
       "| A.belt | 65 | 10 | 75 |\n",
       "| A.unbelt |  8 | 15 | 23 |\n",
       "| Sum | 73 | 25 | 98 |\n",
       "\n"
      ],
      "text/plain": [
       "         C.belt C.unbelt Sum\n",
       "A.belt   65     10       75 \n",
       "A.unbelt  8     15       23 \n",
       "Sum      73     25       98 "
      ]
     },
     "metadata": {},
     "output_type": "display_data"
    }
   ],
   "source": [
    "addmargins(data)"
   ]
  },
  {
   "cell_type": "code",
   "execution_count": 250,
   "id": "f7f6966b",
   "metadata": {},
   "outputs": [
    {
     "data": {
      "text/html": [
       "<table class=\"dataframe\">\n",
       "<caption>A matrix: 2 × 2 of type dbl</caption>\n",
       "<thead>\n",
       "\t<tr><th></th><th scope=col>C.belt</th><th scope=col>C.unbelt</th></tr>\n",
       "</thead>\n",
       "<tbody>\n",
       "\t<tr><th scope=row>A.belt</th><td>0.66326531</td><td>0.1020408</td></tr>\n",
       "\t<tr><th scope=row>A.unbelt</th><td>0.08163265</td><td>0.1530612</td></tr>\n",
       "</tbody>\n",
       "</table>\n"
      ],
      "text/latex": [
       "A matrix: 2 × 2 of type dbl\n",
       "\\begin{tabular}{r|ll}\n",
       "  & C.belt & C.unbelt\\\\\n",
       "\\hline\n",
       "\tA.belt & 0.66326531 & 0.1020408\\\\\n",
       "\tA.unbelt & 0.08163265 & 0.1530612\\\\\n",
       "\\end{tabular}\n"
      ],
      "text/markdown": [
       "\n",
       "A matrix: 2 × 2 of type dbl\n",
       "\n",
       "| <!--/--> | C.belt | C.unbelt |\n",
       "|---|---|---|\n",
       "| A.belt | 0.66326531 | 0.1020408 |\n",
       "| A.unbelt | 0.08163265 | 0.1530612 |\n",
       "\n"
      ],
      "text/plain": [
       "         C.belt     C.unbelt \n",
       "A.belt   0.66326531 0.1020408\n",
       "A.unbelt 0.08163265 0.1530612"
      ]
     },
     "metadata": {},
     "output_type": "display_data"
    }
   ],
   "source": [
    "prop.table(data)"
   ]
  },
  {
   "cell_type": "code",
   "execution_count": 251,
   "id": "ff33c3b8",
   "metadata": {},
   "outputs": [
    {
     "data": {
      "image/png": "[encoded data removed]",
      "text/plain": [
       "Plot with title \"Child usage of seatbelt\""
      ]
     },
     "metadata": {
      "image/png": {
       "height": 420,
       "width": 420
      }
     },
     "output_type": "display_data"
    }
   ],
   "source": [
    "barplot(data, main = 'Child usage of seatbelt', legend.text = T,\n",
    "       beside = F)"
   ]
  },
  {
   "cell_type": "code",
   "execution_count": 252,
   "id": "3f51752c",
   "metadata": {},
   "outputs": [
    {
     "data": {
      "image/png": "[encoded data removed]",
      "text/plain": [
       "Plot with title \"Child usage of seatbelt\""
      ]
     },
     "metadata": {
      "image/png": {
       "height": 420,
       "width": 420
      }
     },
     "output_type": "display_data"
    }
   ],
   "source": [
    "barplot(data, main = 'Child usage of seatbelt', legend.text = T, beside = T)"
   ]
  },
  {
   "cell_type": "code",
   "execution_count": 253,
   "id": "4307b06a",
   "metadata": {},
   "outputs": [
    {
     "data": {
      "image/png": "[encoded data removed]",
      "text/plain": [
       "Plot with title \"Adult usage of seatbelt\""
      ]
     },
     "metadata": {
      "image/png": {
       "height": 420,
       "width": 420
      }
     },
     "output_type": "display_data"
    }
   ],
   "source": [
    "barplot(t(data), main = 'Adult usage of seatbelt', legend.text = T,\n",
    "       beside = F)"
   ]
  },
  {
   "cell_type": "code",
   "execution_count": 254,
   "id": "318fed96",
   "metadata": {},
   "outputs": [
    {
     "data": {
      "image/png": "[encoded data removed]",
      "text/plain": [
       "Plot with title \"Adult usage of seatbelt\""
      ]
     },
     "metadata": {
      "image/png": {
       "height": 420,
       "width": 420
      }
     },
     "output_type": "display_data"
    }
   ],
   "source": [
    "barplot(t(data), main = 'Adult usage of seatbelt', legend.text = T, beside = T)"
   ]
  },
  {
   "cell_type": "code",
   "execution_count": 255,
   "id": "ca6af885",
   "metadata": {},
   "outputs": [],
   "source": [
    "data = c(T, F, T, T, T, F, T, T, T)"
   ]
  },
  {
   "cell_type": "code",
   "execution_count": 256,
   "id": "65021849",
   "metadata": {},
   "outputs": [
    {
     "data": {
      "text/html": [
       "<style>\n",
       ".list-inline {list-style: none; margin:0; padding: 0}\n",
       ".list-inline>li {display: inline-block}\n",
       ".list-inline>li:not(:last-child)::after {content: \"\\00b7\"; padding: 0 .5ex}\n",
       "</style>\n",
       "<ol class=list-inline><li>TRUE</li><li>FALSE</li><li>TRUE</li><li>TRUE</li><li>TRUE</li><li>FALSE</li><li>TRUE</li><li>TRUE</li><li>TRUE</li></ol>\n"
      ],
      "text/latex": [
       "\\begin{enumerate*}\n",
       "\\item TRUE\n",
       "\\item FALSE\n",
       "\\item TRUE\n",
       "\\item TRUE\n",
       "\\item TRUE\n",
       "\\item FALSE\n",
       "\\item TRUE\n",
       "\\item TRUE\n",
       "\\item TRUE\n",
       "\\end{enumerate*}\n"
      ],
      "text/markdown": [
       "1. TRUE\n",
       "2. FALSE\n",
       "3. TRUE\n",
       "4. TRUE\n",
       "5. TRUE\n",
       "6. FALSE\n",
       "7. TRUE\n",
       "8. TRUE\n",
       "9. TRUE\n",
       "\n",
       "\n"
      ],
      "text/plain": [
       "[1]  TRUE FALSE  TRUE  TRUE  TRUE FALSE  TRUE  TRUE  TRUE"
      ]
     },
     "metadata": {},
     "output_type": "display_data"
    }
   ],
   "source": [
    "data"
   ]
  },
  {
   "cell_type": "code",
   "execution_count": 258,
   "id": "30862b3a",
   "metadata": {},
   "outputs": [
    {
     "name": "stderr",
     "output_type": "stream",
     "text": [
      "Warning message in dotchart(table(data), main = \"DotChart\", xlab = \"Num\"):\n",
      "\"'x' is neither a vector nor a matrix: using as.numeric(x)\"\n"
     ]
    },
    {
     "data": {
      "image/png": "[encoded data removed]",
      "text/plain": [
       "Plot with title \"DotChart\""
      ]
     },
     "metadata": {
      "image/png": {
       "height": 420,
       "width": 420
      }
     },
     "output_type": "display_data"
    }
   ],
   "source": [
    "dotchart(table(data), main = 'DotChart', xlab = 'Num')"
   ]
  },
  {
   "cell_type": "code",
   "execution_count": 259,
   "id": "2e20bced",
   "metadata": {},
   "outputs": [
    {
     "data": {
      "text/html": [
       "67.2352941176471"
      ],
      "text/latex": [
       "67.2352941176471"
      ],
      "text/markdown": [
       "67.2352941176471"
      ],
      "text/plain": [
       "[1] 67.23529"
      ]
     },
     "metadata": {},
     "output_type": "display_data"
    }
   ],
   "source": [
    "x = c(45, 86, 34, 98, 67, 78, 56, 45, 85, 75, 64, 75, 75, 58, 45, 83, 74)\n",
    "mean(x)"
   ]
  },
  {
   "cell_type": "code",
   "execution_count": 260,
   "id": "5851749a",
   "metadata": {},
   "outputs": [
    {
     "data": {
      "text/html": [
       "74"
      ],
      "text/latex": [
       "74"
      ],
      "text/markdown": [
       "74"
      ],
      "text/plain": [
       "[1] 74"
      ]
     },
     "metadata": {},
     "output_type": "display_data"
    }
   ],
   "source": [
    "median(x)"
   ]
  },
  {
   "cell_type": "code",
   "execution_count": 263,
   "id": "648c90b7",
   "metadata": {},
   "outputs": [
    {
     "data": {
      "image/png": "[encoded data removed]",
      "text/plain": [
       "plot without title"
      ]
     },
     "metadata": {
      "image/png": {
       "height": 420,
       "width": 420
      }
     },
     "output_type": "display_data"
    }
   ],
   "source": [
    "boxplot(x, horizontal = T)"
   ]
  },
  {
   "cell_type": "code",
   "execution_count": 264,
   "id": "44d1aece",
   "metadata": {},
   "outputs": [],
   "source": [
    "age = c(8, 3, 6, 9, 2, 5, 6,3)\n",
    "price = c(18, 94, 50, 21, 145, 42, 36, 99)"
   ]
  },
  {
   "cell_type": "code",
   "execution_count": 266,
   "id": "c0fa577e",
   "metadata": {},
   "outputs": [
    {
     "data": {
      "image/png": "[encoded data removed]",
      "text/plain": [
       "plot without title"
      ]
     },
     "metadata": {
      "image/png": {
       "height": 420,
       "width": 420
      }
     },
     "output_type": "display_data"
    }
   ],
   "source": [
    "plot(age, price)\n",
    "lm.res = lm(price~age)\n",
    "abline(lm.res)"
   ]
  },
  {
   "cell_type": "code",
   "execution_count": 268,
   "id": "fe03cc0a",
   "metadata": {},
   "outputs": [
    {
     "data": {
      "text/plain": [
       "\n",
       "Call:\n",
       "lm(formula = price ~ age)\n",
       "\n",
       "Residuals:\n",
       "    Min      1Q  Median      3Q     Max \n",
       "-25.282  -8.565  -1.095   5.504  27.839 \n",
       "\n",
       "Coefficients:\n",
       "            Estimate Std. Error t value Pr(>|t|)    \n",
       "(Intercept)  150.414     16.232   9.267 8.93e-05 ***\n",
       "age          -16.626      2.826  -5.884  0.00107 ** \n",
       "---\n",
       "Signif. codes:  0 '***' 0.001 '**' 0.01 '*' 0.05 '.' 0.1 ' ' 1\n",
       "\n",
       "Residual standard error: 18.64 on 6 degrees of freedom\n",
       "Multiple R-squared:  0.8523,\tAdjusted R-squared:  0.8277 \n",
       "F-statistic: 34.62 on 1 and 6 DF,  p-value: 0.001068\n"
      ]
     },
     "metadata": {},
     "output_type": "display_data"
    }
   ],
   "source": [
    "summary(lm.res)"
   ]
  },
  {
   "cell_type": "code",
   "execution_count": 267,
   "id": "132c3442",
   "metadata": {},
   "outputs": [
    {
     "data": {
      "text/html": [
       "<strong>1:</strong> 83.9080459770115"
      ],
      "text/latex": [
       "\\textbf{1:} 83.9080459770115"
      ],
      "text/markdown": [
       "**1:** 83.9080459770115"
      ],
      "text/plain": [
       "       1 \n",
       "83.90805 "
      ]
     },
     "metadata": {},
     "output_type": "display_data"
    }
   ],
   "source": [
    "predict(lm.res, newdata = data.frame(age = 4))"
   ]
  },
  {
   "cell_type": "code",
   "execution_count": 269,
   "id": "b4208436",
   "metadata": {},
   "outputs": [
    {
     "data": {
      "text/html": [
       "83.91"
      ],
      "text/latex": [
       "83.91"
      ],
      "text/markdown": [
       "83.91"
      ],
      "text/plain": [
       "[1] 83.91"
      ]
     },
     "metadata": {},
     "output_type": "display_data"
    }
   ],
   "source": [
    "150.414 + -16.626 * 4"
   ]
  },
  {
   "cell_type": "code",
   "execution_count": 270,
   "id": "6023df2c",
   "metadata": {},
   "outputs": [],
   "source": [
    "score = c(90, 85, 73, 80, 85, 65, 78, 50, 68, 96)\n",
    "names(score) = c('KOR','ENG','ATH','HHIST','SOC','MUSIC','BIO','EARTH','PHY','ART')"
   ]
  },
  {
   "cell_type": "code",
   "execution_count": 271,
   "id": "af196ba7",
   "metadata": {},
   "outputs": [
    {
     "data": {
      "text/html": [
       "<style>\n",
       ".dl-inline {width: auto; margin:0; padding: 0}\n",
       ".dl-inline>dt, .dl-inline>dd {float: none; width: auto; display: inline-block}\n",
       ".dl-inline>dt::after {content: \":\\0020\"; padding-right: .5ex}\n",
       ".dl-inline>dt:not(:first-of-type) {padding-left: .5ex}\n",
       "</style><dl class=dl-inline><dt>KOR</dt><dd>90</dd><dt>ENG</dt><dd>85</dd><dt>ATH</dt><dd>73</dd><dt>HHIST</dt><dd>80</dd><dt>SOC</dt><dd>85</dd><dt>MUSIC</dt><dd>65</dd><dt>BIO</dt><dd>78</dd><dt>EARTH</dt><dd>50</dd><dt>PHY</dt><dd>68</dd><dt>ART</dt><dd>96</dd></dl>\n"
      ],
      "text/latex": [
       "\\begin{description*}\n",
       "\\item[KOR] 90\n",
       "\\item[ENG] 85\n",
       "\\item[ATH] 73\n",
       "\\item[HHIST] 80\n",
       "\\item[SOC] 85\n",
       "\\item[MUSIC] 65\n",
       "\\item[BIO] 78\n",
       "\\item[EARTH] 50\n",
       "\\item[PHY] 68\n",
       "\\item[ART] 96\n",
       "\\end{description*}\n"
      ],
      "text/markdown": [
       "KOR\n",
       ":   90ENG\n",
       ":   85ATH\n",
       ":   73HHIST\n",
       ":   80SOC\n",
       ":   85MUSIC\n",
       ":   65BIO\n",
       ":   78EARTH\n",
       ":   50PHY\n",
       ":   68ART\n",
       ":   96\n",
       "\n"
      ],
      "text/plain": [
       "  KOR   ENG   ATH HHIST   SOC MUSIC   BIO EARTH   PHY   ART \n",
       "   90    85    73    80    85    65    78    50    68    96 "
      ]
     },
     "metadata": {},
     "output_type": "display_data"
    }
   ],
   "source": [
    "score"
   ]
  },
  {
   "cell_type": "code",
   "execution_count": 272,
   "id": "723a2166",
   "metadata": {},
   "outputs": [
    {
     "data": {
      "text/html": [
       "77"
      ],
      "text/latex": [
       "77"
      ],
      "text/markdown": [
       "77"
      ],
      "text/plain": [
       "[1] 77"
      ]
     },
     "metadata": {},
     "output_type": "display_data"
    }
   ],
   "source": [
    "mean(score)"
   ]
  },
  {
   "cell_type": "code",
   "execution_count": 273,
   "id": "699cc82f",
   "metadata": {},
   "outputs": [
    {
     "data": {
      "text/html": [
       "79"
      ],
      "text/latex": [
       "79"
      ],
      "text/markdown": [
       "79"
      ],
      "text/plain": [
       "[1] 79"
      ]
     },
     "metadata": {},
     "output_type": "display_data"
    }
   ],
   "source": [
    "median(score)"
   ]
  },
  {
   "cell_type": "code",
   "execution_count": 275,
   "id": "61f7ea23",
   "metadata": {},
   "outputs": [
    {
     "data": {
      "text/html": [
       "13.490737563232"
      ],
      "text/latex": [
       "13.490737563232"
      ],
      "text/markdown": [
       "13.490737563232"
      ],
      "text/plain": [
       "[1] 13.49074"
      ]
     },
     "metadata": {},
     "output_type": "display_data"
    }
   ],
   "source": [
    "sd(score)"
   ]
  },
  {
   "cell_type": "code",
   "execution_count": 276,
   "id": "1d6ac615",
   "metadata": {},
   "outputs": [
    {
     "data": {
      "text/html": [
       "'ART'"
      ],
      "text/latex": [
       "'ART'"
      ],
      "text/markdown": [
       "'ART'"
      ],
      "text/plain": [
       "[1] \"ART\""
      ]
     },
     "metadata": {},
     "output_type": "display_data"
    }
   ],
   "source": [
    "names(score[score == max(score)])"
   ]
  },
  {
   "cell_type": "code",
   "execution_count": 278,
   "id": "492a8bb4",
   "metadata": {},
   "outputs": [
    {
     "data": {
      "text/html": [
       "<dl>\n",
       "\t<dt>$stats</dt>\n",
       "\t\t<dd><style>\n",
       ".dl-inline {width: auto; margin:0; padding: 0}\n",
       ".dl-inline>dt, .dl-inline>dd {float: none; width: auto; display: inline-block}\n",
       ".dl-inline>dt::after {content: \":\\0020\"; padding-right: .5ex}\n",
       ".dl-inline>dt:not(:first-of-type) {padding-left: .5ex}\n",
       "</style><dl class=dl-inline><dt>EARTH</dt><dd>50</dd><dt>PHY</dt><dd>68</dd><dt>BIO</dt><dd>79</dd><dt>SOC</dt><dd>85</dd><dt>ART</dt><dd>96</dd></dl>\n",
       "</dd>\n",
       "\t<dt>$n</dt>\n",
       "\t\t<dd>10</dd>\n",
       "\t<dt>$conf</dt>\n",
       "\t\t<dd><style>\n",
       ".list-inline {list-style: none; margin:0; padding: 0}\n",
       ".list-inline>li {display: inline-block}\n",
       ".list-inline>li:not(:last-child)::after {content: \"\\00b7\"; padding: 0 .5ex}\n",
       "</style>\n",
       "<ol class=list-inline><li>70.5061222047877</li><li>87.4938777952123</li></ol>\n",
       "</dd>\n",
       "\t<dt>$out</dt>\n",
       "\t\t<dd></dd>\n",
       "</dl>\n"
      ],
      "text/latex": [
       "\\begin{description}\n",
       "\\item[\\$stats] \\begin{description*}\n",
       "\\item[EARTH] 50\n",
       "\\item[PHY] 68\n",
       "\\item[BIO] 79\n",
       "\\item[SOC] 85\n",
       "\\item[ART] 96\n",
       "\\end{description*}\n",
       "\n",
       "\\item[\\$n] 10\n",
       "\\item[\\$conf] \\begin{enumerate*}\n",
       "\\item 70.5061222047877\n",
       "\\item 87.4938777952123\n",
       "\\end{enumerate*}\n",
       "\n",
       "\\item[\\$out] \n",
       "\\end{description}\n"
      ],
      "text/markdown": [
       "$stats\n",
       ":   EARTH\n",
       ":   50PHY\n",
       ":   68BIO\n",
       ":   79SOC\n",
       ":   85ART\n",
       ":   96\n",
       "\n",
       "\n",
       "$n\n",
       ":   10\n",
       "$conf\n",
       ":   1. 70.5061222047877\n",
       "2. 87.4938777952123\n",
       "\n",
       "\n",
       "\n",
       "$out\n",
       ":   \n",
       "\n",
       "\n"
      ],
      "text/plain": [
       "$stats\n",
       "EARTH   PHY   BIO   SOC   ART \n",
       "   50    68    79    85    96 \n",
       "\n",
       "$n\n",
       "[1] 10\n",
       "\n",
       "$conf\n",
       "[1] 70.50612 87.49388\n",
       "\n",
       "$out\n",
       "named numeric(0)\n"
      ]
     },
     "metadata": {},
     "output_type": "display_data"
    }
   ],
   "source": [
    "boxplot.stats(score)"
   ]
  },
  {
   "cell_type": "code",
   "execution_count": 277,
   "id": "9658ceb2",
   "metadata": {},
   "outputs": [
    {
     "data": {
      "image/png": "[encoded data removed]",
      "text/plain": [
       "plot without title"
      ]
     },
     "metadata": {
      "image/png": {
       "height": 420,
       "width": 420
      }
     },
     "output_type": "display_data"
    }
   ],
   "source": [
    "boxplot(score)"
   ]
  },
  {
   "cell_type": "code",
   "execution_count": 280,
   "id": "c07791ca",
   "metadata": {},
   "outputs": [
    {
     "data": {
      "image/png": "[encoded data removed]",
      "text/plain": [
       "Plot with title \"학생 성적\""
      ]
     },
     "metadata": {
      "image/png": {
       "height": 420,
       "width": 420
      }
     },
     "output_type": "display_data"
    }
   ],
   "source": [
    "hist(score,\n",
    "    main = '학생 성적',\n",
    "    col = 'purple')"
   ]
  },
  {
   "cell_type": "code",
   "execution_count": 281,
   "id": "cf4a5a6a",
   "metadata": {},
   "outputs": [],
   "source": [
    "wt = mtcars$wt"
   ]
  },
  {
   "cell_type": "code",
   "execution_count": 282,
   "id": "8672332d",
   "metadata": {},
   "outputs": [
    {
     "data": {
      "text/html": [
       "3.21725"
      ],
      "text/latex": [
       "3.21725"
      ],
      "text/markdown": [
       "3.21725"
      ],
      "text/plain": [
       "[1] 3.21725"
      ]
     },
     "metadata": {},
     "output_type": "display_data"
    }
   ],
   "source": [
    "mean(wt)"
   ]
  },
  {
   "cell_type": "code",
   "execution_count": 283,
   "id": "f745f928",
   "metadata": {},
   "outputs": [
    {
     "data": {
      "text/html": [
       "3.325"
      ],
      "text/latex": [
       "3.325"
      ],
      "text/markdown": [
       "3.325"
      ],
      "text/plain": [
       "[1] 3.325"
      ]
     },
     "metadata": {},
     "output_type": "display_data"
    }
   ],
   "source": [
    "median(wt)"
   ]
  },
  {
   "cell_type": "code",
   "execution_count": 284,
   "id": "ae15fe0d",
   "metadata": {},
   "outputs": [
    {
     "data": {
      "text/html": [
       "3.16520833333333"
      ],
      "text/latex": [
       "3.16520833333333"
      ],
      "text/markdown": [
       "3.16520833333333"
      ],
      "text/plain": [
       "[1] 3.165208"
      ]
     },
     "metadata": {},
     "output_type": "display_data"
    }
   ],
   "source": [
    "mean(wt, trim = 0.15)"
   ]
  },
  {
   "cell_type": "code",
   "execution_count": 285,
   "id": "45f51d75",
   "metadata": {},
   "outputs": [
    {
     "data": {
      "text/html": [
       "0.978457442989697"
      ],
      "text/latex": [
       "0.978457442989697"
      ],
      "text/markdown": [
       "0.978457442989697"
      ],
      "text/plain": [
       "[1] 0.9784574"
      ]
     },
     "metadata": {},
     "output_type": "display_data"
    }
   ],
   "source": [
    "sd(wt)"
   ]
  },
  {
   "cell_type": "code",
   "execution_count": 286,
   "id": "00753d06",
   "metadata": {},
   "outputs": [
    {
     "data": {
      "text/plain": [
       "   Min. 1st Qu.  Median    Mean 3rd Qu.    Max. \n",
       "  1.513   2.581   3.325   3.217   3.610   5.424 "
      ]
     },
     "metadata": {},
     "output_type": "display_data"
    }
   ],
   "source": [
    "summary(wt)"
   ]
  },
  {
   "cell_type": "code",
   "execution_count": 289,
   "id": "96706ea4",
   "metadata": {},
   "outputs": [
    {
     "data": {
      "text/plain": [
       "\n",
       " 4  6  8 \n",
       "11  7 14 "
      ]
     },
     "metadata": {},
     "output_type": "display_data"
    }
   ],
   "source": [
    "az = table(mtcars$cyl)\n",
    "az"
   ]
  },
  {
   "cell_type": "code",
   "execution_count": 290,
   "id": "bc3cb2b5",
   "metadata": {},
   "outputs": [
    {
     "data": {
      "image/png": "[encoded data removed]",
      "text/plain": [
       "plot without title"
      ]
     },
     "metadata": {
      "image/png": {
       "height": 420,
       "width": 420
      }
     },
     "output_type": "display_data"
    }
   ],
   "source": [
    "barplot(az)"
   ]
  },
  {
   "cell_type": "code",
   "execution_count": 293,
   "id": "07967a6c",
   "metadata": {},
   "outputs": [
    {
     "data": {
      "image/png": "[encoded data removed]",
      "text/plain": [
       "Plot with title \"Histogram of table(wt)\""
      ]
     },
     "metadata": {
      "image/png": {
       "height": 420,
       "width": 420
      }
     },
     "output_type": "display_data"
    }
   ],
   "source": [
    "hist(table(wt)"
   ]
  },
  {
   "cell_type": "code",
   "execution_count": 294,
   "id": "002b5b0f",
   "metadata": {},
   "outputs": [
    {
     "data": {
      "image/png": "[encoded data removed]",
      "text/plain": [
       "plot without title"
      ]
     },
     "metadata": {
      "image/png": {
       "height": 420,
       "width": 420
      }
     },
     "output_type": "display_data"
    }
   ],
   "source": [
    "boxplot(table(wt))"
   ]
  },
  {
   "cell_type": "code",
   "execution_count": 296,
   "id": "11906b42",
   "metadata": {},
   "outputs": [
    {
     "data": {
      "text/html": [
       "<dl>\n",
       "\t<dt>$stats</dt>\n",
       "\t\t<dd><style>\n",
       ".list-inline {list-style: none; margin:0; padding: 0}\n",
       ".list-inline>li {display: inline-block}\n",
       ".list-inline>li:not(:last-child)::after {content: \"\\00b7\"; padding: 0 .5ex}\n",
       "</style>\n",
       "<ol class=list-inline><li>1.513</li><li>2.5425</li><li>3.325</li><li>3.65</li><li>5.25</li></ol>\n",
       "</dd>\n",
       "\t<dt>$n</dt>\n",
       "\t\t<dd>32</dd>\n",
       "\t<dt>$conf</dt>\n",
       "\t\t<dd><style>\n",
       ".list-inline {list-style: none; margin:0; padding: 0}\n",
       ".list-inline>li {display: inline-block}\n",
       ".list-inline>li:not(:last-child)::after {content: \"\\00b7\"; padding: 0 .5ex}\n",
       "</style>\n",
       "<ol class=list-inline><li>3.01566729973518</li><li>3.63433270026482</li></ol>\n",
       "</dd>\n",
       "\t<dt>$out</dt>\n",
       "\t\t<dd><style>\n",
       ".list-inline {list-style: none; margin:0; padding: 0}\n",
       ".list-inline>li {display: inline-block}\n",
       ".list-inline>li:not(:last-child)::after {content: \"\\00b7\"; padding: 0 .5ex}\n",
       "</style>\n",
       "<ol class=list-inline><li>5.424</li><li>5.345</li></ol>\n",
       "</dd>\n",
       "</dl>\n"
      ],
      "text/latex": [
       "\\begin{description}\n",
       "\\item[\\$stats] \\begin{enumerate*}\n",
       "\\item 1.513\n",
       "\\item 2.5425\n",
       "\\item 3.325\n",
       "\\item 3.65\n",
       "\\item 5.25\n",
       "\\end{enumerate*}\n",
       "\n",
       "\\item[\\$n] 32\n",
       "\\item[\\$conf] \\begin{enumerate*}\n",
       "\\item 3.01566729973518\n",
       "\\item 3.63433270026482\n",
       "\\end{enumerate*}\n",
       "\n",
       "\\item[\\$out] \\begin{enumerate*}\n",
       "\\item 5.424\n",
       "\\item 5.345\n",
       "\\end{enumerate*}\n",
       "\n",
       "\\end{description}\n"
      ],
      "text/markdown": [
       "$stats\n",
       ":   1. 1.513\n",
       "2. 2.5425\n",
       "3. 3.325\n",
       "4. 3.65\n",
       "5. 5.25\n",
       "\n",
       "\n",
       "\n",
       "$n\n",
       ":   32\n",
       "$conf\n",
       ":   1. 3.01566729973518\n",
       "2. 3.63433270026482\n",
       "\n",
       "\n",
       "\n",
       "$out\n",
       ":   1. 5.424\n",
       "2. 5.345\n",
       "\n",
       "\n",
       "\n",
       "\n",
       "\n"
      ],
      "text/plain": [
       "$stats\n",
       "[1] 1.5130 2.5425 3.3250 3.6500 5.2500\n",
       "\n",
       "$n\n",
       "[1] 32\n",
       "\n",
       "$conf\n",
       "[1] 3.015667 3.634333\n",
       "\n",
       "$out\n",
       "[1] 5.424 5.345\n"
      ]
     },
     "metadata": {},
     "output_type": "display_data"
    }
   ],
   "source": [
    "boxplot.stats(wt)"
   ]
  },
  {
   "cell_type": "code",
   "execution_count": 295,
   "id": "b19f14a8",
   "metadata": {},
   "outputs": [
    {
     "data": {
      "image/png": "[encoded data removed]",
      "text/plain": [
       "plot without title"
      ]
     },
     "metadata": {
      "image/png": {
       "height": 420,
       "width": 420
      }
     },
     "output_type": "display_data"
    }
   ],
   "source": [
    "boxplot(wt)"
   ]
  },
  {
   "cell_type": "code",
   "execution_count": 297,
   "id": "aab66e1c",
   "metadata": {},
   "outputs": [
    {
     "data": {
      "image/png": "[encoded data removed]",
      "text/plain": [
       "plot without title"
      ]
     },
     "metadata": {
      "image/png": {
       "height": 420,
       "width": 420
      }
     },
     "output_type": "display_data"
    }
   ],
   "source": [
    "boxplot(mtcars$disp)"
   ]
  },
  {
   "cell_type": "code",
   "execution_count": 299,
   "id": "98179eae",
   "metadata": {},
   "outputs": [
    {
     "data": {
      "image/png": "[encoded data removed]",
      "text/plain": [
       "plot without title"
      ]
     },
     "metadata": {
      "image/png": {
       "height": 420,
       "width": 420
      }
     },
     "output_type": "display_data"
    }
   ],
   "source": [
    "boxplot(mtcars$mpg~mtcars$gear)"
   ]
  },
  {
   "cell_type": "code",
   "execution_count": 300,
   "id": "bbd07f28",
   "metadata": {},
   "outputs": [
    {
     "data": {
      "text/html": [
       "<style>\n",
       ".list-inline {list-style: none; margin:0; padding: 0}\n",
       ".list-inline>li {display: inline-block}\n",
       ".list-inline>li:not(:last-child)::after {content: \"\\00b7\"; padding: 0 .5ex}\n",
       "</style>\n",
       "<ol class=list-inline><li>TRUE</li><li>TRUE</li><li>FALSE</li><li>TRUE</li><li>FALSE</li><li>TRUE</li><li>FALSE</li><li>TRUE</li><li>TRUE</li><li>FALSE</li></ol>\n"
      ],
      "text/latex": [
       "\\begin{enumerate*}\n",
       "\\item TRUE\n",
       "\\item TRUE\n",
       "\\item FALSE\n",
       "\\item TRUE\n",
       "\\item FALSE\n",
       "\\item TRUE\n",
       "\\item FALSE\n",
       "\\item TRUE\n",
       "\\item TRUE\n",
       "\\item FALSE\n",
       "\\end{enumerate*}\n"
      ],
      "text/markdown": [
       "1. TRUE\n",
       "2. TRUE\n",
       "3. FALSE\n",
       "4. TRUE\n",
       "5. FALSE\n",
       "6. TRUE\n",
       "7. FALSE\n",
       "8. TRUE\n",
       "9. TRUE\n",
       "10. FALSE\n",
       "\n",
       "\n"
      ],
      "text/plain": [
       " [1]  TRUE  TRUE FALSE  TRUE FALSE  TRUE FALSE  TRUE  TRUE FALSE"
      ]
     },
     "metadata": {},
     "output_type": "display_data"
    }
   ],
   "source": [
    "result = c(T, T, F, T, F, T, F, T, T, F)\n",
    "result"
   ]
  },
  {
   "cell_type": "code",
   "execution_count": 301,
   "id": "cb7fe76a",
   "metadata": {},
   "outputs": [
    {
     "data": {
      "text/plain": [
       "result\n",
       "FALSE  TRUE \n",
       "    4     6 "
      ]
     },
     "metadata": {},
     "output_type": "display_data"
    }
   ],
   "source": [
    "table(result)"
   ]
  },
  {
   "cell_type": "code",
   "execution_count": 302,
   "id": "71374bbf",
   "metadata": {},
   "outputs": [
    {
     "data": {
      "image/png": "[encoded data removed]",
      "text/plain": [
       "plot without title"
      ]
     },
     "metadata": {
      "image/png": {
       "height": 420,
       "width": 420
      }
     },
     "output_type": "display_data"
    }
   ],
   "source": [
    "barplot(table(result))"
   ]
  },
  {
   "cell_type": "code",
   "execution_count": 303,
   "id": "20a99e5d",
   "metadata": {},
   "outputs": [
    {
     "data": {
      "image/png": "[encoded data removed]",
      "text/plain": [
       "plot without title"
      ]
     },
     "metadata": {
      "image/png": {
       "height": 420,
       "width": 420
      }
     },
     "output_type": "display_data"
    }
   ],
   "source": [
    "pie(table(result))"
   ]
  },
  {
   "cell_type": "code",
   "execution_count": 305,
   "id": "1a88ea34",
   "metadata": {},
   "outputs": [
    {
     "data": {
      "text/html": [
       "<style>\n",
       ".list-inline {list-style: none; margin:0; padding: 0}\n",
       ".list-inline>li {display: inline-block}\n",
       ".list-inline>li:not(:last-child)::after {content: \"\\00b7\"; padding: 0 .5ex}\n",
       "</style>\n",
       "<ol class=list-inline><li>'여름'</li><li>'겨울'</li><li>'봄'</li><li>'가을'</li><li>'여름'</li><li>'가을'</li><li>'겨울'</li><li>'여름'</li><li>'여름'</li><li>'가을'</li></ol>\n"
      ],
      "text/latex": [
       "\\begin{enumerate*}\n",
       "\\item '여름'\n",
       "\\item '겨울'\n",
       "\\item '봄'\n",
       "\\item '가을'\n",
       "\\item '여름'\n",
       "\\item '가을'\n",
       "\\item '겨울'\n",
       "\\item '여름'\n",
       "\\item '여름'\n",
       "\\item '가을'\n",
       "\\end{enumerate*}\n"
      ],
      "text/markdown": [
       "1. '여름'\n",
       "2. '겨울'\n",
       "3. '봄'\n",
       "4. '가을'\n",
       "5. '여름'\n",
       "6. '가을'\n",
       "7. '겨울'\n",
       "8. '여름'\n",
       "9. '여름'\n",
       "10. '가을'\n",
       "\n",
       "\n"
      ],
      "text/plain": [
       " [1] \"여름\" \"겨울\" \"봄\"   \"가을\" \"여름\" \"가을\" \"겨울\" \"여름\" \"여름\" \"가을\""
      ]
     },
     "metadata": {},
     "output_type": "display_data"
    }
   ],
   "source": [
    "season = c('여름','겨울','봄','가을','여름','가을','겨울','여름','여름','가을')\n",
    "season"
   ]
  },
  {
   "cell_type": "code",
   "execution_count": 306,
   "id": "bae9850c",
   "metadata": {},
   "outputs": [
    {
     "data": {
      "text/plain": [
       "season\n",
       "가을 겨울   봄 여름 \n",
       "   3    2    1    4 "
      ]
     },
     "metadata": {},
     "output_type": "display_data"
    }
   ],
   "source": [
    "table(season)"
   ]
  },
  {
   "cell_type": "code",
   "execution_count": 307,
   "id": "26558916",
   "metadata": {},
   "outputs": [
    {
     "data": {
      "image/png": "[encoded data removed]",
      "text/plain": [
       "plot without title"
      ]
     },
     "metadata": {
      "image/png": {
       "height": 420,
       "width": 420
      }
     },
     "output_type": "display_data"
    }
   ],
   "source": [
    "barplot(table(season))"
   ]
  },
  {
   "cell_type": "code",
   "execution_count": 308,
   "id": "e1a6a052",
   "metadata": {},
   "outputs": [
    {
     "data": {
      "image/png": "[encoded data removed]",
      "text/plain": [
       "plot without title"
      ]
     },
     "metadata": {
      "image/png": {
       "height": 420,
       "width": 420
      }
     },
     "output_type": "display_data"
    }
   ],
   "source": [
    "pie(table(season))"
   ]
  },
  {
   "cell_type": "code",
   "execution_count": 309,
   "id": "d2c81c2c",
   "metadata": {},
   "outputs": [
    {
     "name": "stderr",
     "output_type": "stream",
     "text": [
      "Warning message:\n",
      "\"package 'DAAG' was built under R version 4.3.2\"\n"
     ]
    }
   ],
   "source": [
    "library(DAAG)"
   ]
  },
  {
   "cell_type": "code",
   "execution_count": 310,
   "id": "112e4c04",
   "metadata": {},
   "outputs": [],
   "source": [
    "data(greatLakes)"
   ]
  },
  {
   "cell_type": "code",
   "execution_count": 311,
   "id": "12511fa5",
   "metadata": {},
   "outputs": [],
   "source": [
    "df = greatLakes"
   ]
  },
  {
   "cell_type": "code",
   "execution_count": 312,
   "id": "298b38ee",
   "metadata": {},
   "outputs": [],
   "source": [
    "ds = data.frame(year = 1918:2009, greatLakes)"
   ]
  },
  {
   "cell_type": "code",
   "execution_count": 313,
   "id": "33118898",
   "metadata": {},
   "outputs": [
    {
     "data": {
      "text/html": [
       "<table class=\"dataframe\">\n",
       "<caption>A data.frame: 92 × 5</caption>\n",
       "<thead>\n",
       "\t<tr><th scope=col>year</th><th scope=col>Erie</th><th scope=col>michHuron</th><th scope=col>Ontario</th><th scope=col>StClair</th></tr>\n",
       "\t<tr><th scope=col>&lt;int&gt;</th><th scope=col>&lt;dbl&gt;</th><th scope=col>&lt;dbl&gt;</th><th scope=col>&lt;dbl&gt;</th><th scope=col>&lt;dbl&gt;</th></tr>\n",
       "</thead>\n",
       "<tbody>\n",
       "\t<tr><td>1918</td><td>174.0150</td><td>176.8867</td><td>74.87250</td><td>174.9567</td></tr>\n",
       "\t<tr><td>1919</td><td>174.1808</td><td>176.7450</td><td>74.95583</td><td>175.0767</td></tr>\n",
       "\t<tr><td>1920</td><td>173.9083</td><td>176.6250</td><td>74.56750</td><td>174.8150</td></tr>\n",
       "\t<tr><td>1921</td><td>174.0258</td><td>176.4883</td><td>74.66583</td><td>174.8692</td></tr>\n",
       "\t<tr><td>1922</td><td>173.9275</td><td>176.4450</td><td>74.65667</td><td>174.8108</td></tr>\n",
       "\t<tr><td>1923</td><td>173.7575</td><td>176.2642</td><td>74.44333</td><td>174.6525</td></tr>\n",
       "\t<tr><td>1924</td><td>173.8433</td><td>176.1867</td><td>74.55750</td><td>174.6375</td></tr>\n",
       "\t<tr><td>1925</td><td>173.5933</td><td>175.9192</td><td>74.39000</td><td>174.4058</td></tr>\n",
       "\t<tr><td>1926</td><td>173.6408</td><td>175.8850</td><td>74.40250</td><td>174.4017</td></tr>\n",
       "\t<tr><td>1927</td><td>173.8183</td><td>176.1483</td><td>74.60667</td><td>174.5983</td></tr>\n",
       "\t<tr><td>1928</td><td>173.9517</td><td>176.4433</td><td>74.80083</td><td>174.8050</td></tr>\n",
       "\t<tr><td>1929</td><td>174.3117</td><td>176.8958</td><td>75.08500</td><td>175.2642</td></tr>\n",
       "\t<tr><td>1930</td><td>174.2700</td><td>176.6508</td><td>75.08083</td><td>175.0950</td></tr>\n",
       "\t<tr><td>1931</td><td>173.7050</td><td>176.1183</td><td>74.35750</td><td>174.5083</td></tr>\n",
       "\t<tr><td>1932</td><td>173.7358</td><td>175.9408</td><td>74.50250</td><td>174.5658</td></tr>\n",
       "\t<tr><td>1933</td><td>173.6767</td><td>175.8675</td><td>74.27583</td><td>174.5467</td></tr>\n",
       "\t<tr><td>1934</td><td>173.3317</td><td>175.7667</td><td>74.02167</td><td>174.2742</td></tr>\n",
       "\t<tr><td>1935</td><td>173.4108</td><td>175.8908</td><td>74.00417</td><td>174.3608</td></tr>\n",
       "\t<tr><td>1936</td><td>173.4883</td><td>175.9392</td><td>74.16417</td><td>174.3933</td></tr>\n",
       "\t<tr><td>1937</td><td>173.8200</td><td>175.9225</td><td>74.49583</td><td>174.6033</td></tr>\n",
       "\t<tr><td>1938</td><td>173.8408</td><td>176.1408</td><td>74.52250</td><td>174.6892</td></tr>\n",
       "\t<tr><td>1939</td><td>173.8458</td><td>176.2692</td><td>74.49250</td><td>174.7208</td></tr>\n",
       "\t<tr><td>1940</td><td>173.7950</td><td>176.1417</td><td>74.42583</td><td>174.6450</td></tr>\n",
       "\t<tr><td>1941</td><td>173.7000</td><td>176.1217</td><td>74.40750</td><td>174.5817</td></tr>\n",
       "\t<tr><td>1942</td><td>173.8767</td><td>176.3342</td><td>74.51667</td><td>174.7675</td></tr>\n",
       "\t<tr><td>1943</td><td>174.2317</td><td>176.6267</td><td>75.13417</td><td>175.1125</td></tr>\n",
       "\t<tr><td>1944</td><td>174.0917</td><td>176.5967</td><td>74.84583</td><td>174.9817</td></tr>\n",
       "\t<tr><td>1945</td><td>174.1883</td><td>176.5700</td><td>75.06000</td><td>175.0892</td></tr>\n",
       "\t<tr><td>1946</td><td>174.1358</td><td>176.6017</td><td>74.99333</td><td>175.0383</td></tr>\n",
       "\t<tr><td>1947</td><td>174.2350</td><td>176.5667</td><td>75.16917</td><td>175.1042</td></tr>\n",
       "\t<tr><td>⋮</td><td>⋮</td><td>⋮</td><td>⋮</td><td>⋮</td></tr>\n",
       "\t<tr><td>1980</td><td>174.5217</td><td>176.8033</td><td>74.82333</td><td>175.4075</td></tr>\n",
       "\t<tr><td>1981</td><td>174.3983</td><td>176.6983</td><td>74.78583</td><td>175.2958</td></tr>\n",
       "\t<tr><td>1982</td><td>174.4250</td><td>176.5983</td><td>74.75250</td><td>175.2992</td></tr>\n",
       "\t<tr><td>1983</td><td>174.5208</td><td>176.8333</td><td>74.82167</td><td>175.4333</td></tr>\n",
       "\t<tr><td>1984</td><td>174.5225</td><td>176.8950</td><td>74.90167</td><td>175.4350</td></tr>\n",
       "\t<tr><td>1985</td><td>174.7283</td><td>177.1267</td><td>74.87750</td><td>175.7000</td></tr>\n",
       "\t<tr><td>1986</td><td>174.8983</td><td>177.2925</td><td>75.14750</td><td>175.8517</td></tr>\n",
       "\t<tr><td>1987</td><td>174.6675</td><td>176.9700</td><td>74.84917</td><td>175.5608</td></tr>\n",
       "\t<tr><td>1988</td><td>174.2617</td><td>176.5642</td><td>74.68000</td><td>175.1933</td></tr>\n",
       "\t<tr><td>1989</td><td>174.2258</td><td>176.4008</td><td>74.76083</td><td>175.1092</td></tr>\n",
       "\t<tr><td>1990</td><td>174.2942</td><td>176.3500</td><td>74.80417</td><td>175.1308</td></tr>\n",
       "\t<tr><td>1991</td><td>174.3267</td><td>176.4692</td><td>74.87000</td><td>175.1975</td></tr>\n",
       "\t<tr><td>1992</td><td>174.3567</td><td>176.4792</td><td>74.83250</td><td>175.2200</td></tr>\n",
       "\t<tr><td>1993</td><td>174.5042</td><td>176.6958</td><td>75.04250</td><td>175.3808</td></tr>\n",
       "\t<tr><td>1994</td><td>174.3667</td><td>176.6783</td><td>74.75500</td><td>175.2900</td></tr>\n",
       "\t<tr><td>1995</td><td>174.2842</td><td>176.5275</td><td>74.73917</td><td>175.1833</td></tr>\n",
       "\t<tr><td>1996</td><td>174.3750</td><td>176.6542</td><td>74.87333</td><td>175.2467</td></tr>\n",
       "\t<tr><td>1997</td><td>174.7175</td><td>176.9842</td><td>74.96250</td><td>175.6125</td></tr>\n",
       "\t<tr><td>1998</td><td>174.5508</td><td>176.7167</td><td>74.91000</td><td>175.3975</td></tr>\n",
       "\t<tr><td>1999</td><td>174.1025</td><td>176.2358</td><td>74.57250</td><td>174.9758</td></tr>\n",
       "\t<tr><td>2000</td><td>173.9900</td><td>175.9783</td><td>74.78000</td><td>174.7925</td></tr>\n",
       "\t<tr><td>2001</td><td>173.9142</td><td>175.9508</td><td>74.69917</td><td>174.7617</td></tr>\n",
       "\t<tr><td>2002</td><td>174.0583</td><td>176.1183</td><td>74.79000</td><td>174.8833</td></tr>\n",
       "\t<tr><td>2003</td><td>173.9658</td><td>175.8917</td><td>74.71333</td><td>174.7375</td></tr>\n",
       "\t<tr><td>2004</td><td>174.1158</td><td>176.1108</td><td>74.84833</td><td>174.9167</td></tr>\n",
       "\t<tr><td>2005</td><td>174.1700</td><td>176.0900</td><td>74.82167</td><td>174.9383</td></tr>\n",
       "\t<tr><td>2006</td><td>174.1467</td><td>176.0158</td><td>74.83083</td><td>174.8917</td></tr>\n",
       "\t<tr><td>2007</td><td>174.1392</td><td>175.9433</td><td>74.75167</td><td>174.8483</td></tr>\n",
       "\t<tr><td>2008</td><td>174.1592</td><td>176.0050</td><td>74.87500</td><td>174.9200</td></tr>\n",
       "\t<tr><td>2009</td><td>174.2483</td><td>176.2583</td><td>74.87333</td><td>175.0767</td></tr>\n",
       "</tbody>\n",
       "</table>\n"
      ],
      "text/latex": [
       "A data.frame: 92 × 5\n",
       "\\begin{tabular}{lllll}\n",
       " year & Erie & michHuron & Ontario & StClair\\\\\n",
       " <int> & <dbl> & <dbl> & <dbl> & <dbl>\\\\\n",
       "\\hline\n",
       "\t 1918 & 174.0150 & 176.8867 & 74.87250 & 174.9567\\\\\n",
       "\t 1919 & 174.1808 & 176.7450 & 74.95583 & 175.0767\\\\\n",
       "\t 1920 & 173.9083 & 176.6250 & 74.56750 & 174.8150\\\\\n",
       "\t 1921 & 174.0258 & 176.4883 & 74.66583 & 174.8692\\\\\n",
       "\t 1922 & 173.9275 & 176.4450 & 74.65667 & 174.8108\\\\\n",
       "\t 1923 & 173.7575 & 176.2642 & 74.44333 & 174.6525\\\\\n",
       "\t 1924 & 173.8433 & 176.1867 & 74.55750 & 174.6375\\\\\n",
       "\t 1925 & 173.5933 & 175.9192 & 74.39000 & 174.4058\\\\\n",
       "\t 1926 & 173.6408 & 175.8850 & 74.40250 & 174.4017\\\\\n",
       "\t 1927 & 173.8183 & 176.1483 & 74.60667 & 174.5983\\\\\n",
       "\t 1928 & 173.9517 & 176.4433 & 74.80083 & 174.8050\\\\\n",
       "\t 1929 & 174.3117 & 176.8958 & 75.08500 & 175.2642\\\\\n",
       "\t 1930 & 174.2700 & 176.6508 & 75.08083 & 175.0950\\\\\n",
       "\t 1931 & 173.7050 & 176.1183 & 74.35750 & 174.5083\\\\\n",
       "\t 1932 & 173.7358 & 175.9408 & 74.50250 & 174.5658\\\\\n",
       "\t 1933 & 173.6767 & 175.8675 & 74.27583 & 174.5467\\\\\n",
       "\t 1934 & 173.3317 & 175.7667 & 74.02167 & 174.2742\\\\\n",
       "\t 1935 & 173.4108 & 175.8908 & 74.00417 & 174.3608\\\\\n",
       "\t 1936 & 173.4883 & 175.9392 & 74.16417 & 174.3933\\\\\n",
       "\t 1937 & 173.8200 & 175.9225 & 74.49583 & 174.6033\\\\\n",
       "\t 1938 & 173.8408 & 176.1408 & 74.52250 & 174.6892\\\\\n",
       "\t 1939 & 173.8458 & 176.2692 & 74.49250 & 174.7208\\\\\n",
       "\t 1940 & 173.7950 & 176.1417 & 74.42583 & 174.6450\\\\\n",
       "\t 1941 & 173.7000 & 176.1217 & 74.40750 & 174.5817\\\\\n",
       "\t 1942 & 173.8767 & 176.3342 & 74.51667 & 174.7675\\\\\n",
       "\t 1943 & 174.2317 & 176.6267 & 75.13417 & 175.1125\\\\\n",
       "\t 1944 & 174.0917 & 176.5967 & 74.84583 & 174.9817\\\\\n",
       "\t 1945 & 174.1883 & 176.5700 & 75.06000 & 175.0892\\\\\n",
       "\t 1946 & 174.1358 & 176.6017 & 74.99333 & 175.0383\\\\\n",
       "\t 1947 & 174.2350 & 176.5667 & 75.16917 & 175.1042\\\\\n",
       "\t ⋮ & ⋮ & ⋮ & ⋮ & ⋮\\\\\n",
       "\t 1980 & 174.5217 & 176.8033 & 74.82333 & 175.4075\\\\\n",
       "\t 1981 & 174.3983 & 176.6983 & 74.78583 & 175.2958\\\\\n",
       "\t 1982 & 174.4250 & 176.5983 & 74.75250 & 175.2992\\\\\n",
       "\t 1983 & 174.5208 & 176.8333 & 74.82167 & 175.4333\\\\\n",
       "\t 1984 & 174.5225 & 176.8950 & 74.90167 & 175.4350\\\\\n",
       "\t 1985 & 174.7283 & 177.1267 & 74.87750 & 175.7000\\\\\n",
       "\t 1986 & 174.8983 & 177.2925 & 75.14750 & 175.8517\\\\\n",
       "\t 1987 & 174.6675 & 176.9700 & 74.84917 & 175.5608\\\\\n",
       "\t 1988 & 174.2617 & 176.5642 & 74.68000 & 175.1933\\\\\n",
       "\t 1989 & 174.2258 & 176.4008 & 74.76083 & 175.1092\\\\\n",
       "\t 1990 & 174.2942 & 176.3500 & 74.80417 & 175.1308\\\\\n",
       "\t 1991 & 174.3267 & 176.4692 & 74.87000 & 175.1975\\\\\n",
       "\t 1992 & 174.3567 & 176.4792 & 74.83250 & 175.2200\\\\\n",
       "\t 1993 & 174.5042 & 176.6958 & 75.04250 & 175.3808\\\\\n",
       "\t 1994 & 174.3667 & 176.6783 & 74.75500 & 175.2900\\\\\n",
       "\t 1995 & 174.2842 & 176.5275 & 74.73917 & 175.1833\\\\\n",
       "\t 1996 & 174.3750 & 176.6542 & 74.87333 & 175.2467\\\\\n",
       "\t 1997 & 174.7175 & 176.9842 & 74.96250 & 175.6125\\\\\n",
       "\t 1998 & 174.5508 & 176.7167 & 74.91000 & 175.3975\\\\\n",
       "\t 1999 & 174.1025 & 176.2358 & 74.57250 & 174.9758\\\\\n",
       "\t 2000 & 173.9900 & 175.9783 & 74.78000 & 174.7925\\\\\n",
       "\t 2001 & 173.9142 & 175.9508 & 74.69917 & 174.7617\\\\\n",
       "\t 2002 & 174.0583 & 176.1183 & 74.79000 & 174.8833\\\\\n",
       "\t 2003 & 173.9658 & 175.8917 & 74.71333 & 174.7375\\\\\n",
       "\t 2004 & 174.1158 & 176.1108 & 74.84833 & 174.9167\\\\\n",
       "\t 2005 & 174.1700 & 176.0900 & 74.82167 & 174.9383\\\\\n",
       "\t 2006 & 174.1467 & 176.0158 & 74.83083 & 174.8917\\\\\n",
       "\t 2007 & 174.1392 & 175.9433 & 74.75167 & 174.8483\\\\\n",
       "\t 2008 & 174.1592 & 176.0050 & 74.87500 & 174.9200\\\\\n",
       "\t 2009 & 174.2483 & 176.2583 & 74.87333 & 175.0767\\\\\n",
       "\\end{tabular}\n"
      ],
      "text/markdown": [
       "\n",
       "A data.frame: 92 × 5\n",
       "\n",
       "| year &lt;int&gt; | Erie &lt;dbl&gt; | michHuron &lt;dbl&gt; | Ontario &lt;dbl&gt; | StClair &lt;dbl&gt; |\n",
       "|---|---|---|---|---|\n",
       "| 1918 | 174.0150 | 176.8867 | 74.87250 | 174.9567 |\n",
       "| 1919 | 174.1808 | 176.7450 | 74.95583 | 175.0767 |\n",
       "| 1920 | 173.9083 | 176.6250 | 74.56750 | 174.8150 |\n",
       "| 1921 | 174.0258 | 176.4883 | 74.66583 | 174.8692 |\n",
       "| 1922 | 173.9275 | 176.4450 | 74.65667 | 174.8108 |\n",
       "| 1923 | 173.7575 | 176.2642 | 74.44333 | 174.6525 |\n",
       "| 1924 | 173.8433 | 176.1867 | 74.55750 | 174.6375 |\n",
       "| 1925 | 173.5933 | 175.9192 | 74.39000 | 174.4058 |\n",
       "| 1926 | 173.6408 | 175.8850 | 74.40250 | 174.4017 |\n",
       "| 1927 | 173.8183 | 176.1483 | 74.60667 | 174.5983 |\n",
       "| 1928 | 173.9517 | 176.4433 | 74.80083 | 174.8050 |\n",
       "| 1929 | 174.3117 | 176.8958 | 75.08500 | 175.2642 |\n",
       "| 1930 | 174.2700 | 176.6508 | 75.08083 | 175.0950 |\n",
       "| 1931 | 173.7050 | 176.1183 | 74.35750 | 174.5083 |\n",
       "| 1932 | 173.7358 | 175.9408 | 74.50250 | 174.5658 |\n",
       "| 1933 | 173.6767 | 175.8675 | 74.27583 | 174.5467 |\n",
       "| 1934 | 173.3317 | 175.7667 | 74.02167 | 174.2742 |\n",
       "| 1935 | 173.4108 | 175.8908 | 74.00417 | 174.3608 |\n",
       "| 1936 | 173.4883 | 175.9392 | 74.16417 | 174.3933 |\n",
       "| 1937 | 173.8200 | 175.9225 | 74.49583 | 174.6033 |\n",
       "| 1938 | 173.8408 | 176.1408 | 74.52250 | 174.6892 |\n",
       "| 1939 | 173.8458 | 176.2692 | 74.49250 | 174.7208 |\n",
       "| 1940 | 173.7950 | 176.1417 | 74.42583 | 174.6450 |\n",
       "| 1941 | 173.7000 | 176.1217 | 74.40750 | 174.5817 |\n",
       "| 1942 | 173.8767 | 176.3342 | 74.51667 | 174.7675 |\n",
       "| 1943 | 174.2317 | 176.6267 | 75.13417 | 175.1125 |\n",
       "| 1944 | 174.0917 | 176.5967 | 74.84583 | 174.9817 |\n",
       "| 1945 | 174.1883 | 176.5700 | 75.06000 | 175.0892 |\n",
       "| 1946 | 174.1358 | 176.6017 | 74.99333 | 175.0383 |\n",
       "| 1947 | 174.2350 | 176.5667 | 75.16917 | 175.1042 |\n",
       "| ⋮ | ⋮ | ⋮ | ⋮ | ⋮ |\n",
       "| 1980 | 174.5217 | 176.8033 | 74.82333 | 175.4075 |\n",
       "| 1981 | 174.3983 | 176.6983 | 74.78583 | 175.2958 |\n",
       "| 1982 | 174.4250 | 176.5983 | 74.75250 | 175.2992 |\n",
       "| 1983 | 174.5208 | 176.8333 | 74.82167 | 175.4333 |\n",
       "| 1984 | 174.5225 | 176.8950 | 74.90167 | 175.4350 |\n",
       "| 1985 | 174.7283 | 177.1267 | 74.87750 | 175.7000 |\n",
       "| 1986 | 174.8983 | 177.2925 | 75.14750 | 175.8517 |\n",
       "| 1987 | 174.6675 | 176.9700 | 74.84917 | 175.5608 |\n",
       "| 1988 | 174.2617 | 176.5642 | 74.68000 | 175.1933 |\n",
       "| 1989 | 174.2258 | 176.4008 | 74.76083 | 175.1092 |\n",
       "| 1990 | 174.2942 | 176.3500 | 74.80417 | 175.1308 |\n",
       "| 1991 | 174.3267 | 176.4692 | 74.87000 | 175.1975 |\n",
       "| 1992 | 174.3567 | 176.4792 | 74.83250 | 175.2200 |\n",
       "| 1993 | 174.5042 | 176.6958 | 75.04250 | 175.3808 |\n",
       "| 1994 | 174.3667 | 176.6783 | 74.75500 | 175.2900 |\n",
       "| 1995 | 174.2842 | 176.5275 | 74.73917 | 175.1833 |\n",
       "| 1996 | 174.3750 | 176.6542 | 74.87333 | 175.2467 |\n",
       "| 1997 | 174.7175 | 176.9842 | 74.96250 | 175.6125 |\n",
       "| 1998 | 174.5508 | 176.7167 | 74.91000 | 175.3975 |\n",
       "| 1999 | 174.1025 | 176.2358 | 74.57250 | 174.9758 |\n",
       "| 2000 | 173.9900 | 175.9783 | 74.78000 | 174.7925 |\n",
       "| 2001 | 173.9142 | 175.9508 | 74.69917 | 174.7617 |\n",
       "| 2002 | 174.0583 | 176.1183 | 74.79000 | 174.8833 |\n",
       "| 2003 | 173.9658 | 175.8917 | 74.71333 | 174.7375 |\n",
       "| 2004 | 174.1158 | 176.1108 | 74.84833 | 174.9167 |\n",
       "| 2005 | 174.1700 | 176.0900 | 74.82167 | 174.9383 |\n",
       "| 2006 | 174.1467 | 176.0158 | 74.83083 | 174.8917 |\n",
       "| 2007 | 174.1392 | 175.9433 | 74.75167 | 174.8483 |\n",
       "| 2008 | 174.1592 | 176.0050 | 74.87500 | 174.9200 |\n",
       "| 2009 | 174.2483 | 176.2583 | 74.87333 | 175.0767 |\n",
       "\n"
      ],
      "text/plain": [
       "   year Erie     michHuron Ontario  StClair \n",
       "1  1918 174.0150 176.8867  74.87250 174.9567\n",
       "2  1919 174.1808 176.7450  74.95583 175.0767\n",
       "3  1920 173.9083 176.6250  74.56750 174.8150\n",
       "4  1921 174.0258 176.4883  74.66583 174.8692\n",
       "5  1922 173.9275 176.4450  74.65667 174.8108\n",
       "6  1923 173.7575 176.2642  74.44333 174.6525\n",
       "7  1924 173.8433 176.1867  74.55750 174.6375\n",
       "8  1925 173.5933 175.9192  74.39000 174.4058\n",
       "9  1926 173.6408 175.8850  74.40250 174.4017\n",
       "10 1927 173.8183 176.1483  74.60667 174.5983\n",
       "11 1928 173.9517 176.4433  74.80083 174.8050\n",
       "12 1929 174.3117 176.8958  75.08500 175.2642\n",
       "13 1930 174.2700 176.6508  75.08083 175.0950\n",
       "14 1931 173.7050 176.1183  74.35750 174.5083\n",
       "15 1932 173.7358 175.9408  74.50250 174.5658\n",
       "16 1933 173.6767 175.8675  74.27583 174.5467\n",
       "17 1934 173.3317 175.7667  74.02167 174.2742\n",
       "18 1935 173.4108 175.8908  74.00417 174.3608\n",
       "19 1936 173.4883 175.9392  74.16417 174.3933\n",
       "20 1937 173.8200 175.9225  74.49583 174.6033\n",
       "21 1938 173.8408 176.1408  74.52250 174.6892\n",
       "22 1939 173.8458 176.2692  74.49250 174.7208\n",
       "23 1940 173.7950 176.1417  74.42583 174.6450\n",
       "24 1941 173.7000 176.1217  74.40750 174.5817\n",
       "25 1942 173.8767 176.3342  74.51667 174.7675\n",
       "26 1943 174.2317 176.6267  75.13417 175.1125\n",
       "27 1944 174.0917 176.5967  74.84583 174.9817\n",
       "28 1945 174.1883 176.5700  75.06000 175.0892\n",
       "29 1946 174.1358 176.6017  74.99333 175.0383\n",
       "30 1947 174.2350 176.5667  75.16917 175.1042\n",
       "⋮  ⋮    ⋮        ⋮         ⋮        ⋮       \n",
       "63 1980 174.5217 176.8033  74.82333 175.4075\n",
       "64 1981 174.3983 176.6983  74.78583 175.2958\n",
       "65 1982 174.4250 176.5983  74.75250 175.2992\n",
       "66 1983 174.5208 176.8333  74.82167 175.4333\n",
       "67 1984 174.5225 176.8950  74.90167 175.4350\n",
       "68 1985 174.7283 177.1267  74.87750 175.7000\n",
       "69 1986 174.8983 177.2925  75.14750 175.8517\n",
       "70 1987 174.6675 176.9700  74.84917 175.5608\n",
       "71 1988 174.2617 176.5642  74.68000 175.1933\n",
       "72 1989 174.2258 176.4008  74.76083 175.1092\n",
       "73 1990 174.2942 176.3500  74.80417 175.1308\n",
       "74 1991 174.3267 176.4692  74.87000 175.1975\n",
       "75 1992 174.3567 176.4792  74.83250 175.2200\n",
       "76 1993 174.5042 176.6958  75.04250 175.3808\n",
       "77 1994 174.3667 176.6783  74.75500 175.2900\n",
       "78 1995 174.2842 176.5275  74.73917 175.1833\n",
       "79 1996 174.3750 176.6542  74.87333 175.2467\n",
       "80 1997 174.7175 176.9842  74.96250 175.6125\n",
       "81 1998 174.5508 176.7167  74.91000 175.3975\n",
       "82 1999 174.1025 176.2358  74.57250 174.9758\n",
       "83 2000 173.9900 175.9783  74.78000 174.7925\n",
       "84 2001 173.9142 175.9508  74.69917 174.7617\n",
       "85 2002 174.0583 176.1183  74.79000 174.8833\n",
       "86 2003 173.9658 175.8917  74.71333 174.7375\n",
       "87 2004 174.1158 176.1108  74.84833 174.9167\n",
       "88 2005 174.1700 176.0900  74.82167 174.9383\n",
       "89 2006 174.1467 176.0158  74.83083 174.8917\n",
       "90 2007 174.1392 175.9433  74.75167 174.8483\n",
       "91 2008 174.1592 176.0050  74.87500 174.9200\n",
       "92 2009 174.2483 176.2583  74.87333 175.0767"
      ]
     },
     "metadata": {},
     "output_type": "display_data"
    }
   ],
   "source": [
    "ds"
   ]
  },
  {
   "cell_type": "code",
   "execution_count": 315,
   "id": "344fc1a6",
   "metadata": {},
   "outputs": [
    {
     "data": {
      "image/png": "[encoded data removed]",
      "text/plain": [
       "Plot with title \"Erie호 수위\""
      ]
     },
     "metadata": {
      "image/png": {
       "height": 420,
       "width": 420
      }
     },
     "output_type": "display_data"
    }
   ],
   "source": [
    "plot(ds$year, ds$Erie,\n",
    "    main = 'Erie호 수위',\n",
    "    type = 'l')"
   ]
  },
  {
   "cell_type": "code",
   "execution_count": 320,
   "id": "a6c4bdee",
   "metadata": {},
   "outputs": [
    {
     "data": {
      "image/png": "[encoded data removed]",
      "text/plain": [
       "Plot with title \"michHuron 호 수위\""
      ]
     },
     "metadata": {
      "image/png": {
       "height": 420,
       "width": 420
      }
     },
     "output_type": "display_data"
    }
   ],
   "source": [
    "plot(ds$year, ds$michHuron,\n",
    "    main = 'michHuron 호 수위',\n",
    "    type ='b',\n",
    "    xlab = '연도',\n",
    "    ylab = '수위',\n",
    "    col = 'red')"
   ]
  },
  {
   "cell_type": "code",
   "execution_count": 321,
   "id": "49b43a6e",
   "metadata": {},
   "outputs": [
    {
     "data": {
      "text/html": [
       "<style>\n",
       ".list-inline {list-style: none; margin:0; padding: 0}\n",
       ".list-inline>li {display: inline-block}\n",
       ".list-inline>li:not(:last-child)::after {content: \"\\00b7\"; padding: 0 .5ex}\n",
       "</style>\n",
       "<ol class=list-inline><li>'year'</li><li>'Erie'</li><li>'michHuron'</li><li>'Ontario'</li><li>'StClair'</li></ol>\n"
      ],
      "text/latex": [
       "\\begin{enumerate*}\n",
       "\\item 'year'\n",
       "\\item 'Erie'\n",
       "\\item 'michHuron'\n",
       "\\item 'Ontario'\n",
       "\\item 'StClair'\n",
       "\\end{enumerate*}\n"
      ],
      "text/markdown": [
       "1. 'year'\n",
       "2. 'Erie'\n",
       "3. 'michHuron'\n",
       "4. 'Ontario'\n",
       "5. 'StClair'\n",
       "\n",
       "\n"
      ],
      "text/plain": [
       "[1] \"year\"      \"Erie\"      \"michHuron\" \"Ontario\"   \"StClair\"  "
      ]
     },
     "metadata": {},
     "output_type": "display_data"
    }
   ],
   "source": [
    "colnames(ds)"
   ]
  },
  {
   "cell_type": "code",
   "execution_count": 337,
   "id": "050bdcfa",
   "metadata": {},
   "outputs": [
    {
     "data": {
      "image/png": "[encoded data removed]",
      "text/plain": [
       "Plot with title \"호수들의 수위 데이터 분포\""
      ]
     },
     "metadata": {
      "image/png": {
       "height": 420,
       "width": 420
      }
     },
     "output_type": "display_data"
    }
   ],
   "source": [
    "plot(ds$year, ds$Erie,\n",
    "    type ='b',\n",
    "    main = '호수들의 수위 데이터 분포',\n",
    "    xlab = '연도',\n",
    "    ylab = '수위',\n",
    "    col ='blue',\n",
    "    ylim = c(173, 200))\n",
    "lines(ds$year, ds$michHuron,\n",
    "     type ='b',\n",
    "     col = 'red')\n",
    "lines(ds$year, ds$StClair,\n",
    "     type ='b',\n",
    "     col = 'yellow')\n",
    "lines(ds$year, ds$Ontario,\n",
    "     type ='b',\n",
    "     col = 'skyblue')"
   ]
  },
  {
   "cell_type": "code",
   "execution_count": 338,
   "id": "b8191d53",
   "metadata": {},
   "outputs": [
    {
     "name": "stderr",
     "output_type": "stream",
     "text": [
      "Warning message:\n",
      "\"package 'carData' was built under R version 4.3.2\"\n"
     ]
    }
   ],
   "source": [
    "library(carData)"
   ]
  },
  {
   "cell_type": "code",
   "execution_count": 339,
   "id": "3924970e",
   "metadata": {},
   "outputs": [],
   "source": [
    "ds = table(MplsStops$race)"
   ]
  },
  {
   "cell_type": "code",
   "execution_count": 340,
   "id": "7369ee12",
   "metadata": {},
   "outputs": [
    {
     "data": {
      "text/plain": [
       "\n",
       "          Black           White         Unknown    East African          Latino \n",
       "          15220           11703            9219            2188            1858 \n",
       "Native American           Other           Asian \n",
       "           1516            1348             647 "
      ]
     },
     "metadata": {},
     "output_type": "display_data"
    }
   ],
   "source": [
    "ds"
   ]
  },
  {
   "cell_type": "code",
   "execution_count": 341,
   "id": "29d2be8b",
   "metadata": {},
   "outputs": [
    {
     "data": {
      "image/png": "[encoded data removed]",
      "text/plain": [
       "plot without title"
      ]
     },
     "metadata": {
      "image/png": {
       "height": 420,
       "width": 420
      }
     },
     "output_type": "display_data"
    }
   ],
   "source": [
    "pie(ds)"
   ]
  },
  {
   "cell_type": "code",
   "execution_count": 342,
   "id": "da9620e1",
   "metadata": {},
   "outputs": [],
   "source": [
    "ds = table(MplsStops$problem)"
   ]
  },
  {
   "cell_type": "code",
   "execution_count": 343,
   "id": "8263f470",
   "metadata": {},
   "outputs": [
    {
     "data": {
      "image/png": "[encoded data removed]",
      "text/plain": [
       "plot without title"
      ]
     },
     "metadata": {
      "image/png": {
       "height": 420,
       "width": 420
      }
     },
     "output_type": "display_data"
    }
   ],
   "source": [
    "pie(ds)"
   ]
  },
  {
   "cell_type": "code",
   "execution_count": 344,
   "id": "c2b0e941",
   "metadata": {},
   "outputs": [],
   "source": [
    "tmp = subset(MplsStops, problem == 'suspicious')"
   ]
  },
  {
   "cell_type": "code",
   "execution_count": 345,
   "id": "a8abc23c",
   "metadata": {},
   "outputs": [
    {
     "data": {
      "text/html": [
       "<table class=\"dataframe\">\n",
       "<caption>A data.frame: 25822 × 14</caption>\n",
       "<thead>\n",
       "\t<tr><th></th><th scope=col>idNum</th><th scope=col>date</th><th scope=col>problem</th><th scope=col>MDC</th><th scope=col>citationIssued</th><th scope=col>personSearch</th><th scope=col>vehicleSearch</th><th scope=col>preRace</th><th scope=col>race</th><th scope=col>gender</th><th scope=col>lat</th><th scope=col>long</th><th scope=col>policePrecinct</th><th scope=col>neighborhood</th></tr>\n",
       "\t<tr><th></th><th scope=col>&lt;fct&gt;</th><th scope=col>&lt;dttm&gt;</th><th scope=col>&lt;fct&gt;</th><th scope=col>&lt;fct&gt;</th><th scope=col>&lt;fct&gt;</th><th scope=col>&lt;fct&gt;</th><th scope=col>&lt;fct&gt;</th><th scope=col>&lt;fct&gt;</th><th scope=col>&lt;fct&gt;</th><th scope=col>&lt;fct&gt;</th><th scope=col>&lt;dbl&gt;</th><th scope=col>&lt;dbl&gt;</th><th scope=col>&lt;int&gt;</th><th scope=col>&lt;fct&gt;</th></tr>\n",
       "</thead>\n",
       "<tbody>\n",
       "\t<tr><th scope=row>6823</th><td>17-000003</td><td>2017-01-01 00:00:42</td><td>suspicious</td><td>MDC  </td><td>NA</td><td>NO </td><td>NO</td><td>Unknown</td><td>Unknown        </td><td>Unknown</td><td>44.96662</td><td>-93.24646</td><td>1</td><td>Cedar Riverside                 </td></tr>\n",
       "\t<tr><th scope=row>6824</th><td>17-000007</td><td>2017-01-01 00:03:07</td><td>suspicious</td><td>MDC  </td><td>NA</td><td>NO </td><td>NO</td><td>Unknown</td><td>Unknown        </td><td>Male   </td><td>44.98045</td><td>-93.27134</td><td>1</td><td>Downtown West                   </td></tr>\n",
       "\t<tr><th scope=row>6826</th><td>17-000092</td><td>2017-01-01 00:33:48</td><td>suspicious</td><td>MDC  </td><td>NA</td><td>NO </td><td>NO</td><td>Unknown</td><td>East African   </td><td>Male   </td><td>44.94836</td><td>-93.28135</td><td>5</td><td>Whittier                        </td></tr>\n",
       "\t<tr><th scope=row>6829</th><td>17-000114</td><td>2017-01-01 00:48:46</td><td>suspicious</td><td>MDC  </td><td>NA</td><td>NO </td><td>NO</td><td>Unknown</td><td>Black          </td><td>Male   </td><td>44.98081</td><td>-93.27314</td><td>1</td><td>Downtown West                   </td></tr>\n",
       "\t<tr><th scope=row>6833</th><td>17-000149</td><td>2017-01-01 01:09:13</td><td>suspicious</td><td>MDC  </td><td>NA</td><td>NO </td><td>NO</td><td>White  </td><td>Unknown        </td><td>Male   </td><td>44.96458</td><td>-93.27658</td><td>5</td><td>Steven's Square - Loring Heights</td></tr>\n",
       "\t<tr><th scope=row>6837</th><td>17-000204</td><td>2017-01-01 01:41:24</td><td>suspicious</td><td>MDC  </td><td>NA</td><td>NO </td><td>NO</td><td>Unknown</td><td>White          </td><td>Female </td><td>44.98045</td><td>-93.27134</td><td>1</td><td>Downtown West                   </td></tr>\n",
       "\t<tr><th scope=row>6838</th><td>17-000211</td><td>2017-01-01 01:45:09</td><td>suspicious</td><td>MDC  </td><td>NA</td><td>NO </td><td>NO</td><td>Unknown</td><td>Unknown        </td><td>Unknown</td><td>44.98078</td><td>-93.27430</td><td>1</td><td>Downtown West                   </td></tr>\n",
       "\t<tr><th scope=row>6839</th><td>17-000220</td><td>2017-01-01 01:51:02</td><td>suspicious</td><td>MDC  </td><td>NA</td><td>NO </td><td>NO</td><td>Unknown</td><td>White          </td><td>Female </td><td>44.99150</td><td>-93.30572</td><td>4</td><td>Willard - Hay                   </td></tr>\n",
       "\t<tr><th scope=row>6840</th><td>17-000224</td><td>2017-01-01 01:52:52</td><td>suspicious</td><td>other</td><td>NA</td><td>NA </td><td>NA</td><td>NA     </td><td>NA             </td><td>NA     </td><td>44.98124</td><td>-93.27254</td><td>1</td><td>Downtown West                   </td></tr>\n",
       "\t<tr><th scope=row>6842</th><td>17-000236</td><td>2017-01-01 02:04:13</td><td>suspicious</td><td>MDC  </td><td>NA</td><td>NO </td><td>NO</td><td>Black  </td><td>Unknown        </td><td>Male   </td><td>44.94925</td><td>-93.29573</td><td>5</td><td>Lowry Hill East                 </td></tr>\n",
       "\t<tr><th scope=row>6845</th><td>17-000290</td><td>2017-01-01 02:33:22</td><td>suspicious</td><td>MDC  </td><td>NA</td><td>YES</td><td>NO</td><td>Black  </td><td>Black          </td><td>Male   </td><td>44.98074</td><td>-93.28960</td><td>4</td><td>Sumner - Glenwood               </td></tr>\n",
       "\t<tr><th scope=row>6851</th><td>17-000365</td><td>2017-01-01 03:16:11</td><td>suspicious</td><td>other</td><td>NA</td><td>NA </td><td>NA</td><td>NA     </td><td>NA             </td><td>NA     </td><td>45.01044</td><td>-93.29306</td><td>4</td><td>Hawthorne                       </td></tr>\n",
       "\t<tr><th scope=row>6853</th><td>17-000388</td><td>2017-01-01 03:26:59</td><td>suspicious</td><td>MDC  </td><td>NA</td><td>NO </td><td>NO</td><td>Unknown</td><td>Unknown        </td><td>Unknown</td><td>44.95464</td><td>-93.28131</td><td>5</td><td>Whittier                        </td></tr>\n",
       "\t<tr><th scope=row>6854</th><td>17-000395</td><td>2017-01-01 03:33:29</td><td>suspicious</td><td>MDC  </td><td>NA</td><td>NO </td><td>NO</td><td>Black  </td><td>Unknown        </td><td>Unknown</td><td>45.02393</td><td>-93.23904</td><td>2</td><td>Audubon Park                    </td></tr>\n",
       "\t<tr><th scope=row>6855</th><td>17-000414</td><td>2017-01-01 04:00:02</td><td>suspicious</td><td>other</td><td>NA</td><td>NA </td><td>NA</td><td>NA     </td><td>NA             </td><td>NA     </td><td>44.97246</td><td>-93.26489</td><td>1</td><td>Elliot Park                     </td></tr>\n",
       "\t<tr><th scope=row>6856</th><td>17-000421</td><td>2017-01-01 04:05:54</td><td>suspicious</td><td>other</td><td>NA</td><td>NA </td><td>NA</td><td>NA     </td><td>NA             </td><td>NA     </td><td>44.99150</td><td>-93.30509</td><td>4</td><td>Willard - Hay                   </td></tr>\n",
       "\t<tr><th scope=row>6857</th><td>17-000426</td><td>2017-01-01 04:20:33</td><td>suspicious</td><td>other</td><td>NA</td><td>NA </td><td>NA</td><td>NA     </td><td>NA             </td><td>NA     </td><td>44.90901</td><td>-93.21456</td><td>3</td><td>Minnehaha                       </td></tr>\n",
       "\t<tr><th scope=row>6861</th><td>17-000488</td><td>2017-01-01 06:47:07</td><td>suspicious</td><td>MDC  </td><td>NA</td><td>NO </td><td>NO</td><td>Black  </td><td>Unknown        </td><td>Unknown</td><td>44.94044</td><td>-93.27792</td><td>5</td><td>Lyndale                         </td></tr>\n",
       "\t<tr><th scope=row>6863</th><td>17-000536</td><td>2017-01-01 09:02:59</td><td>suspicious</td><td>MDC  </td><td>NA</td><td>NO </td><td>NO</td><td>Black  </td><td>Unknown        </td><td>Male   </td><td>44.97092</td><td>-93.25508</td><td>1</td><td>Downtown East                   </td></tr>\n",
       "\t<tr><th scope=row>6864</th><td>17-000547</td><td>2017-01-01 09:48:36</td><td>suspicious</td><td>MDC  </td><td>NA</td><td>NO </td><td>NO</td><td>Unknown</td><td>Unknown        </td><td>Unknown</td><td>44.93863</td><td>-93.24228</td><td>3</td><td>Corcoran                        </td></tr>\n",
       "\t<tr><th scope=row>6865</th><td>17-000549</td><td>2017-01-01 09:51:43</td><td>suspicious</td><td>MDC  </td><td>NA</td><td>NO </td><td>NO</td><td>Unknown</td><td>Unknown        </td><td>Unknown</td><td>44.93773</td><td>-93.24058</td><td>3</td><td>Standish                        </td></tr>\n",
       "\t<tr><th scope=row>6867</th><td>17-000576</td><td>2017-01-01 10:41:29</td><td>suspicious</td><td>MDC  </td><td>NA</td><td>NO </td><td>NO</td><td>Unknown</td><td>Unknown        </td><td>Unknown</td><td>45.04118</td><td>-93.29786</td><td>4</td><td>Lind - Bohanon                  </td></tr>\n",
       "\t<tr><th scope=row>6868</th><td>17-000601</td><td>2017-01-01 11:49:49</td><td>suspicious</td><td>other</td><td>NA</td><td>NA </td><td>NA</td><td>NA     </td><td>NA             </td><td>NA     </td><td>45.02121</td><td>-93.28804</td><td>4</td><td>McKinley                        </td></tr>\n",
       "\t<tr><th scope=row>6869</th><td>17-000619</td><td>2017-01-01 12:43:26</td><td>suspicious</td><td>MDC  </td><td>NA</td><td>YES</td><td>NO</td><td>Unknown</td><td>Black          </td><td>Male   </td><td>45.04843</td><td>-93.29407</td><td>4</td><td>Lind - Bohanon                  </td></tr>\n",
       "\t<tr><th scope=row>6871</th><td>17-000637</td><td>2017-01-01 13:24:55</td><td>suspicious</td><td>MDC  </td><td>NA</td><td>NO </td><td>NO</td><td>Other  </td><td>Other          </td><td>Unknown</td><td>44.93770</td><td>-93.28627</td><td>5</td><td>King Field                      </td></tr>\n",
       "\t<tr><th scope=row>6872</th><td>17-000639</td><td>2017-01-01 13:34:06</td><td>suspicious</td><td>MDC  </td><td>NA</td><td>NO </td><td>NO</td><td>Other  </td><td>Other          </td><td>Unknown</td><td>44.93951</td><td>-93.29265</td><td>5</td><td>CARAG                           </td></tr>\n",
       "\t<tr><th scope=row>6873</th><td>17-000646</td><td>2017-01-01 13:41:02</td><td>suspicious</td><td>MDC  </td><td>NA</td><td>NO </td><td>NO</td><td>Other  </td><td>Other          </td><td>Unknown</td><td>44.94041</td><td>-93.29200</td><td>5</td><td>CARAG                           </td></tr>\n",
       "\t<tr><th scope=row>6874</th><td>17-000651</td><td>2017-01-01 13:47:54</td><td>suspicious</td><td>other</td><td>NA</td><td>NA </td><td>NA</td><td>NA     </td><td>NA             </td><td>NA     </td><td>45.03940</td><td>-93.29015</td><td>4</td><td>Lind - Bohanon                  </td></tr>\n",
       "\t<tr><th scope=row>6875</th><td>17-000668</td><td>2017-01-01 14:38:12</td><td>suspicious</td><td>MDC  </td><td>NA</td><td>NO </td><td>NO</td><td>Unknown</td><td>Unknown        </td><td>Unknown</td><td>44.92955</td><td>-93.28439</td><td>5</td><td>King Field                      </td></tr>\n",
       "\t<tr><th scope=row>6876</th><td>17-000713</td><td>2017-01-01 15:36:30</td><td>suspicious</td><td>MDC  </td><td>NA</td><td>YES</td><td>NO</td><td>Unknown</td><td>Native American</td><td>Male   </td><td>44.95373</td><td>-93.25627</td><td>3</td><td>Midtown Phillips                </td></tr>\n",
       "\t<tr><th scope=row>⋮</th><td>⋮</td><td>⋮</td><td>⋮</td><td>⋮</td><td>⋮</td><td>⋮</td><td>⋮</td><td>⋮</td><td>⋮</td><td>⋮</td><td>⋮</td><td>⋮</td><td>⋮</td><td>⋮</td></tr>\n",
       "\t<tr><th scope=row>60774</th><td>17-490578</td><td>2017-12-31 00:10:08</td><td>suspicious</td><td>MDC  </td><td>NO </td><td>NO </td><td>NO </td><td>Unknown</td><td>Latino         </td><td>Male   </td><td>45.00598</td><td>-93.23717</td><td>2</td><td>Windom Park     </td></tr>\n",
       "\t<tr><th scope=row>60777</th><td>17-490585</td><td>2017-12-31 00:19:18</td><td>suspicious</td><td>MDC  </td><td>NO </td><td>NO </td><td>NO </td><td>Unknown</td><td>White          </td><td>Male   </td><td>44.98083</td><td>-93.27196</td><td>1</td><td>Downtown West   </td></tr>\n",
       "\t<tr><th scope=row>60782</th><td>17-490611</td><td>2017-12-31 00:43:51</td><td>suspicious</td><td>MDC  </td><td>NO </td><td>NO </td><td>NO </td><td>Unknown</td><td>Unknown        </td><td>Unknown</td><td>45.02133</td><td>-93.30320</td><td>4</td><td>Folwell         </td></tr>\n",
       "\t<tr><th scope=row>60784</th><td>17-490618</td><td>2017-12-31 00:53:04</td><td>suspicious</td><td>other</td><td>NA </td><td>NA </td><td>NA </td><td>NA     </td><td>NA             </td><td>NA     </td><td>44.93863</td><td>-93.27791</td><td>5</td><td>Lyndale         </td></tr>\n",
       "\t<tr><th scope=row>60786</th><td>17-490637</td><td>2017-12-31 01:20:34</td><td>suspicious</td><td>MDC  </td><td>NO </td><td>NO </td><td>NO </td><td>Unknown</td><td>White          </td><td>Male   </td><td>44.93498</td><td>-93.28823</td><td>5</td><td>King Field      </td></tr>\n",
       "\t<tr><th scope=row>60788</th><td>17-490682</td><td>2017-12-31 02:11:44</td><td>suspicious</td><td>MDC  </td><td>YES</td><td>NO </td><td>NO </td><td>Unknown</td><td>White          </td><td>Male   </td><td>44.94748</td><td>-93.28811</td><td>5</td><td>Lyndale         </td></tr>\n",
       "\t<tr><th scope=row>60792</th><td>17-490704</td><td>2017-12-31 02:31:37</td><td>suspicious</td><td>MDC  </td><td>NO </td><td>NO </td><td>NO </td><td>Unknown</td><td>Unknown        </td><td>Unknown</td><td>44.94837</td><td>-93.25314</td><td>3</td><td>Midtown Phillips</td></tr>\n",
       "\t<tr><th scope=row>60793</th><td>17-490705</td><td>2017-12-31 02:32:08</td><td>suspicious</td><td>MDC  </td><td>NO </td><td>NO </td><td>NO </td><td>White  </td><td>White          </td><td>Female </td><td>44.91628</td><td>-93.24794</td><td>3</td><td>Northrop        </td></tr>\n",
       "\t<tr><th scope=row>60794</th><td>17-490722</td><td>2017-12-31 02:54:42</td><td>suspicious</td><td>MDC  </td><td>NO </td><td>NO </td><td>NO </td><td>Unknown</td><td>Black          </td><td>Male   </td><td>44.97501</td><td>-93.27707</td><td>1</td><td>Downtown West   </td></tr>\n",
       "\t<tr><th scope=row>60798</th><td>17-490915</td><td>2017-12-31 11:35:43</td><td>suspicious</td><td>other</td><td>NA </td><td>NA </td><td>NA </td><td>NA     </td><td>NA             </td><td>NA     </td><td>44.97894</td><td>-93.28953</td><td>4</td><td>Harrison        </td></tr>\n",
       "\t<tr><th scope=row>60799</th><td>17-490957</td><td>2017-12-31 12:58:22</td><td>suspicious</td><td>MDC  </td><td>NO </td><td>NO </td><td>NO </td><td>Unknown</td><td>Unknown        </td><td>Unknown</td><td>44.95464</td><td>-93.28678</td><td>5</td><td>Whittier        </td></tr>\n",
       "\t<tr><th scope=row>60800</th><td>17-490971</td><td>2017-12-31 13:14:17</td><td>suspicious</td><td>MDC  </td><td>NO </td><td>NO </td><td>NO </td><td>Unknown</td><td>Unknown        </td><td>Unknown</td><td>44.93684</td><td>-93.25241</td><td>3</td><td>Powderhorn Park </td></tr>\n",
       "\t<tr><th scope=row>60802</th><td>17-490994</td><td>2017-12-31 14:01:34</td><td>suspicious</td><td>MDC  </td><td>NO </td><td>NO </td><td>NO </td><td>Black  </td><td>Black          </td><td>Male   </td><td>44.98123</td><td>-93.26859</td><td>1</td><td>Downtown West   </td></tr>\n",
       "\t<tr><th scope=row>60803</th><td>17-491005</td><td>2017-12-31 14:23:18</td><td>suspicious</td><td>MDC  </td><td>NO </td><td>NO </td><td>NO </td><td>Unknown</td><td>Unknown        </td><td>Unknown</td><td>44.94835</td><td>-93.27095</td><td>3</td><td>Phillips West   </td></tr>\n",
       "\t<tr><th scope=row>60804</th><td>17-491040</td><td>2017-12-31 15:14:37</td><td>suspicious</td><td>other</td><td>NA </td><td>NA </td><td>NA </td><td>NA     </td><td>NA             </td><td>NA     </td><td>44.99791</td><td>-93.31462</td><td>4</td><td>Willard - Hay   </td></tr>\n",
       "\t<tr><th scope=row>60805</th><td>17-491132</td><td>2017-12-31 17:50:40</td><td>suspicious</td><td>other</td><td>NA </td><td>NA </td><td>NA </td><td>NA     </td><td>NA             </td><td>NA     </td><td>45.00848</td><td>-93.31403</td><td>4</td><td>Willard - Hay   </td></tr>\n",
       "\t<tr><th scope=row>60807</th><td>17-491162</td><td>2017-12-31 18:17:52</td><td>suspicious</td><td>MDC  </td><td>NO </td><td>NO </td><td>NO </td><td>Unknown</td><td>White          </td><td>Male   </td><td>45.01316</td><td>-93.24734</td><td>2</td><td>Audubon Park    </td></tr>\n",
       "\t<tr><th scope=row>60811</th><td>17-491221</td><td>2017-12-31 19:17:41</td><td>suspicious</td><td>MDC  </td><td>NO </td><td>NO </td><td>NO </td><td>Unknown</td><td>White          </td><td>Male   </td><td>44.94920</td><td>-93.29319</td><td>5</td><td>Lowry Hill East </td></tr>\n",
       "\t<tr><th scope=row>60815</th><td>17-491245</td><td>2017-12-31 19:57:58</td><td>suspicious</td><td>MDC  </td><td>NO </td><td>NO </td><td>NO </td><td>Unknown</td><td>Unknown        </td><td>Unknown</td><td>44.98262</td><td>-93.29820</td><td>4</td><td>Harrison        </td></tr>\n",
       "\t<tr><th scope=row>60816</th><td>17-491247</td><td>2017-12-31 20:02:09</td><td>suspicious</td><td>other</td><td>NA </td><td>NA </td><td>NA </td><td>NA     </td><td>NA             </td><td>NA     </td><td>44.98598</td><td>-93.28148</td><td>1</td><td>North Loop      </td></tr>\n",
       "\t<tr><th scope=row>60818</th><td>17-491250</td><td>2017-12-31 20:04:07</td><td>suspicious</td><td>MDC  </td><td>NO </td><td>NO </td><td>NO </td><td>Unknown</td><td>Black          </td><td>Male   </td><td>44.92953</td><td>-93.28827</td><td>5</td><td>East Harriet    </td></tr>\n",
       "\t<tr><th scope=row>60821</th><td>17-491261</td><td>2017-12-31 20:26:41</td><td>suspicious</td><td>other</td><td>NA </td><td>NA </td><td>NA </td><td>NA     </td><td>NA             </td><td>NA     </td><td>44.95644</td><td>-93.25497</td><td>3</td><td>Midtown Phillips</td></tr>\n",
       "\t<tr><th scope=row>60823</th><td>17-491265</td><td>2017-12-31 20:30:39</td><td>suspicious</td><td>MDC  </td><td>YES</td><td>YES</td><td>YES</td><td>Unknown</td><td>Native American</td><td>Female </td><td>44.98104</td><td>-93.23717</td><td>2</td><td>Marcy Holmes    </td></tr>\n",
       "\t<tr><th scope=row>60825</th><td>17-491324</td><td>2017-12-31 21:31:17</td><td>suspicious</td><td>MDC  </td><td>NO </td><td>YES</td><td>NO </td><td>Unknown</td><td>Native American</td><td>Female </td><td>44.95646</td><td>-93.24735</td><td>3</td><td>East Phillips   </td></tr>\n",
       "\t<tr><th scope=row>60828</th><td>17-491351</td><td>2017-12-31 21:56:33</td><td>suspicious</td><td>MDC  </td><td>NO </td><td>NO </td><td>NO </td><td>Unknown</td><td>Unknown        </td><td>Unknown</td><td>45.04843</td><td>-93.29407</td><td>4</td><td>Lind - Bohanon  </td></tr>\n",
       "\t<tr><th scope=row>60829</th><td>17-491366</td><td>2017-12-31 22:07:19</td><td>suspicious</td><td>MDC  </td><td>NO </td><td>NO </td><td>NO </td><td>Unknown</td><td>Unknown        </td><td>Male   </td><td>45.02304</td><td>-93.29058</td><td>4</td><td>McKinley        </td></tr>\n",
       "\t<tr><th scope=row>60831</th><td>17-491414</td><td>2017-12-31 22:50:49</td><td>suspicious</td><td>other</td><td>NA </td><td>NA </td><td>NA </td><td>NA     </td><td>NA             </td><td>NA     </td><td>44.96986</td><td>-93.28008</td><td>1</td><td>Loring Park     </td></tr>\n",
       "\t<tr><th scope=row>60832</th><td>17-491435</td><td>2017-12-31 23:08:18</td><td>suspicious</td><td>other</td><td>NA </td><td>NA </td><td>NA </td><td>NA     </td><td>NA             </td><td>NA     </td><td>45.01497</td><td>-93.24734</td><td>2</td><td>Holland         </td></tr>\n",
       "\t<tr><th scope=row>60833</th><td>17-491438</td><td>2017-12-31 23:11:15</td><td>suspicious</td><td>MDC  </td><td>NO </td><td>NO </td><td>NO </td><td>Unknown</td><td>Unknown        </td><td>Unknown</td><td>44.93141</td><td>-93.23466</td><td>3</td><td>Standish        </td></tr>\n",
       "\t<tr><th scope=row>60835</th><td>17-491445</td><td>2017-12-31 23:18:32</td><td>suspicious</td><td>MDC  </td><td>NO </td><td>NO </td><td>NO </td><td>Unknown</td><td>Unknown        </td><td>Unknown</td><td>44.95915</td><td>-93.27785</td><td>5</td><td>Whittier        </td></tr>\n",
       "</tbody>\n",
       "</table>\n"
      ],
      "text/latex": [
       "A data.frame: 25822 × 14\n",
       "\\begin{tabular}{r|llllllllllllll}\n",
       "  & idNum & date & problem & MDC & citationIssued & personSearch & vehicleSearch & preRace & race & gender & lat & long & policePrecinct & neighborhood\\\\\n",
       "  & <fct> & <dttm> & <fct> & <fct> & <fct> & <fct> & <fct> & <fct> & <fct> & <fct> & <dbl> & <dbl> & <int> & <fct>\\\\\n",
       "\\hline\n",
       "\t6823 & 17-000003 & 2017-01-01 00:00:42 & suspicious & MDC   & NA & NO  & NO & Unknown & Unknown         & Unknown & 44.96662 & -93.24646 & 1 & Cedar Riverside                 \\\\\n",
       "\t6824 & 17-000007 & 2017-01-01 00:03:07 & suspicious & MDC   & NA & NO  & NO & Unknown & Unknown         & Male    & 44.98045 & -93.27134 & 1 & Downtown West                   \\\\\n",
       "\t6826 & 17-000092 & 2017-01-01 00:33:48 & suspicious & MDC   & NA & NO  & NO & Unknown & East African    & Male    & 44.94836 & -93.28135 & 5 & Whittier                        \\\\\n",
       "\t6829 & 17-000114 & 2017-01-01 00:48:46 & suspicious & MDC   & NA & NO  & NO & Unknown & Black           & Male    & 44.98081 & -93.27314 & 1 & Downtown West                   \\\\\n",
       "\t6833 & 17-000149 & 2017-01-01 01:09:13 & suspicious & MDC   & NA & NO  & NO & White   & Unknown         & Male    & 44.96458 & -93.27658 & 5 & Steven's Square - Loring Heights\\\\\n",
       "\t6837 & 17-000204 & 2017-01-01 01:41:24 & suspicious & MDC   & NA & NO  & NO & Unknown & White           & Female  & 44.98045 & -93.27134 & 1 & Downtown West                   \\\\\n",
       "\t6838 & 17-000211 & 2017-01-01 01:45:09 & suspicious & MDC   & NA & NO  & NO & Unknown & Unknown         & Unknown & 44.98078 & -93.27430 & 1 & Downtown West                   \\\\\n",
       "\t6839 & 17-000220 & 2017-01-01 01:51:02 & suspicious & MDC   & NA & NO  & NO & Unknown & White           & Female  & 44.99150 & -93.30572 & 4 & Willard - Hay                   \\\\\n",
       "\t6840 & 17-000224 & 2017-01-01 01:52:52 & suspicious & other & NA & NA  & NA & NA      & NA              & NA      & 44.98124 & -93.27254 & 1 & Downtown West                   \\\\\n",
       "\t6842 & 17-000236 & 2017-01-01 02:04:13 & suspicious & MDC   & NA & NO  & NO & Black   & Unknown         & Male    & 44.94925 & -93.29573 & 5 & Lowry Hill East                 \\\\\n",
       "\t6845 & 17-000290 & 2017-01-01 02:33:22 & suspicious & MDC   & NA & YES & NO & Black   & Black           & Male    & 44.98074 & -93.28960 & 4 & Sumner - Glenwood               \\\\\n",
       "\t6851 & 17-000365 & 2017-01-01 03:16:11 & suspicious & other & NA & NA  & NA & NA      & NA              & NA      & 45.01044 & -93.29306 & 4 & Hawthorne                       \\\\\n",
       "\t6853 & 17-000388 & 2017-01-01 03:26:59 & suspicious & MDC   & NA & NO  & NO & Unknown & Unknown         & Unknown & 44.95464 & -93.28131 & 5 & Whittier                        \\\\\n",
       "\t6854 & 17-000395 & 2017-01-01 03:33:29 & suspicious & MDC   & NA & NO  & NO & Black   & Unknown         & Unknown & 45.02393 & -93.23904 & 2 & Audubon Park                    \\\\\n",
       "\t6855 & 17-000414 & 2017-01-01 04:00:02 & suspicious & other & NA & NA  & NA & NA      & NA              & NA      & 44.97246 & -93.26489 & 1 & Elliot Park                     \\\\\n",
       "\t6856 & 17-000421 & 2017-01-01 04:05:54 & suspicious & other & NA & NA  & NA & NA      & NA              & NA      & 44.99150 & -93.30509 & 4 & Willard - Hay                   \\\\\n",
       "\t6857 & 17-000426 & 2017-01-01 04:20:33 & suspicious & other & NA & NA  & NA & NA      & NA              & NA      & 44.90901 & -93.21456 & 3 & Minnehaha                       \\\\\n",
       "\t6861 & 17-000488 & 2017-01-01 06:47:07 & suspicious & MDC   & NA & NO  & NO & Black   & Unknown         & Unknown & 44.94044 & -93.27792 & 5 & Lyndale                         \\\\\n",
       "\t6863 & 17-000536 & 2017-01-01 09:02:59 & suspicious & MDC   & NA & NO  & NO & Black   & Unknown         & Male    & 44.97092 & -93.25508 & 1 & Downtown East                   \\\\\n",
       "\t6864 & 17-000547 & 2017-01-01 09:48:36 & suspicious & MDC   & NA & NO  & NO & Unknown & Unknown         & Unknown & 44.93863 & -93.24228 & 3 & Corcoran                        \\\\\n",
       "\t6865 & 17-000549 & 2017-01-01 09:51:43 & suspicious & MDC   & NA & NO  & NO & Unknown & Unknown         & Unknown & 44.93773 & -93.24058 & 3 & Standish                        \\\\\n",
       "\t6867 & 17-000576 & 2017-01-01 10:41:29 & suspicious & MDC   & NA & NO  & NO & Unknown & Unknown         & Unknown & 45.04118 & -93.29786 & 4 & Lind - Bohanon                  \\\\\n",
       "\t6868 & 17-000601 & 2017-01-01 11:49:49 & suspicious & other & NA & NA  & NA & NA      & NA              & NA      & 45.02121 & -93.28804 & 4 & McKinley                        \\\\\n",
       "\t6869 & 17-000619 & 2017-01-01 12:43:26 & suspicious & MDC   & NA & YES & NO & Unknown & Black           & Male    & 45.04843 & -93.29407 & 4 & Lind - Bohanon                  \\\\\n",
       "\t6871 & 17-000637 & 2017-01-01 13:24:55 & suspicious & MDC   & NA & NO  & NO & Other   & Other           & Unknown & 44.93770 & -93.28627 & 5 & King Field                      \\\\\n",
       "\t6872 & 17-000639 & 2017-01-01 13:34:06 & suspicious & MDC   & NA & NO  & NO & Other   & Other           & Unknown & 44.93951 & -93.29265 & 5 & CARAG                           \\\\\n",
       "\t6873 & 17-000646 & 2017-01-01 13:41:02 & suspicious & MDC   & NA & NO  & NO & Other   & Other           & Unknown & 44.94041 & -93.29200 & 5 & CARAG                           \\\\\n",
       "\t6874 & 17-000651 & 2017-01-01 13:47:54 & suspicious & other & NA & NA  & NA & NA      & NA              & NA      & 45.03940 & -93.29015 & 4 & Lind - Bohanon                  \\\\\n",
       "\t6875 & 17-000668 & 2017-01-01 14:38:12 & suspicious & MDC   & NA & NO  & NO & Unknown & Unknown         & Unknown & 44.92955 & -93.28439 & 5 & King Field                      \\\\\n",
       "\t6876 & 17-000713 & 2017-01-01 15:36:30 & suspicious & MDC   & NA & YES & NO & Unknown & Native American & Male    & 44.95373 & -93.25627 & 3 & Midtown Phillips                \\\\\n",
       "\t⋮ & ⋮ & ⋮ & ⋮ & ⋮ & ⋮ & ⋮ & ⋮ & ⋮ & ⋮ & ⋮ & ⋮ & ⋮ & ⋮ & ⋮\\\\\n",
       "\t60774 & 17-490578 & 2017-12-31 00:10:08 & suspicious & MDC   & NO  & NO  & NO  & Unknown & Latino          & Male    & 45.00598 & -93.23717 & 2 & Windom Park     \\\\\n",
       "\t60777 & 17-490585 & 2017-12-31 00:19:18 & suspicious & MDC   & NO  & NO  & NO  & Unknown & White           & Male    & 44.98083 & -93.27196 & 1 & Downtown West   \\\\\n",
       "\t60782 & 17-490611 & 2017-12-31 00:43:51 & suspicious & MDC   & NO  & NO  & NO  & Unknown & Unknown         & Unknown & 45.02133 & -93.30320 & 4 & Folwell         \\\\\n",
       "\t60784 & 17-490618 & 2017-12-31 00:53:04 & suspicious & other & NA  & NA  & NA  & NA      & NA              & NA      & 44.93863 & -93.27791 & 5 & Lyndale         \\\\\n",
       "\t60786 & 17-490637 & 2017-12-31 01:20:34 & suspicious & MDC   & NO  & NO  & NO  & Unknown & White           & Male    & 44.93498 & -93.28823 & 5 & King Field      \\\\\n",
       "\t60788 & 17-490682 & 2017-12-31 02:11:44 & suspicious & MDC   & YES & NO  & NO  & Unknown & White           & Male    & 44.94748 & -93.28811 & 5 & Lyndale         \\\\\n",
       "\t60792 & 17-490704 & 2017-12-31 02:31:37 & suspicious & MDC   & NO  & NO  & NO  & Unknown & Unknown         & Unknown & 44.94837 & -93.25314 & 3 & Midtown Phillips\\\\\n",
       "\t60793 & 17-490705 & 2017-12-31 02:32:08 & suspicious & MDC   & NO  & NO  & NO  & White   & White           & Female  & 44.91628 & -93.24794 & 3 & Northrop        \\\\\n",
       "\t60794 & 17-490722 & 2017-12-31 02:54:42 & suspicious & MDC   & NO  & NO  & NO  & Unknown & Black           & Male    & 44.97501 & -93.27707 & 1 & Downtown West   \\\\\n",
       "\t60798 & 17-490915 & 2017-12-31 11:35:43 & suspicious & other & NA  & NA  & NA  & NA      & NA              & NA      & 44.97894 & -93.28953 & 4 & Harrison        \\\\\n",
       "\t60799 & 17-490957 & 2017-12-31 12:58:22 & suspicious & MDC   & NO  & NO  & NO  & Unknown & Unknown         & Unknown & 44.95464 & -93.28678 & 5 & Whittier        \\\\\n",
       "\t60800 & 17-490971 & 2017-12-31 13:14:17 & suspicious & MDC   & NO  & NO  & NO  & Unknown & Unknown         & Unknown & 44.93684 & -93.25241 & 3 & Powderhorn Park \\\\\n",
       "\t60802 & 17-490994 & 2017-12-31 14:01:34 & suspicious & MDC   & NO  & NO  & NO  & Black   & Black           & Male    & 44.98123 & -93.26859 & 1 & Downtown West   \\\\\n",
       "\t60803 & 17-491005 & 2017-12-31 14:23:18 & suspicious & MDC   & NO  & NO  & NO  & Unknown & Unknown         & Unknown & 44.94835 & -93.27095 & 3 & Phillips West   \\\\\n",
       "\t60804 & 17-491040 & 2017-12-31 15:14:37 & suspicious & other & NA  & NA  & NA  & NA      & NA              & NA      & 44.99791 & -93.31462 & 4 & Willard - Hay   \\\\\n",
       "\t60805 & 17-491132 & 2017-12-31 17:50:40 & suspicious & other & NA  & NA  & NA  & NA      & NA              & NA      & 45.00848 & -93.31403 & 4 & Willard - Hay   \\\\\n",
       "\t60807 & 17-491162 & 2017-12-31 18:17:52 & suspicious & MDC   & NO  & NO  & NO  & Unknown & White           & Male    & 45.01316 & -93.24734 & 2 & Audubon Park    \\\\\n",
       "\t60811 & 17-491221 & 2017-12-31 19:17:41 & suspicious & MDC   & NO  & NO  & NO  & Unknown & White           & Male    & 44.94920 & -93.29319 & 5 & Lowry Hill East \\\\\n",
       "\t60815 & 17-491245 & 2017-12-31 19:57:58 & suspicious & MDC   & NO  & NO  & NO  & Unknown & Unknown         & Unknown & 44.98262 & -93.29820 & 4 & Harrison        \\\\\n",
       "\t60816 & 17-491247 & 2017-12-31 20:02:09 & suspicious & other & NA  & NA  & NA  & NA      & NA              & NA      & 44.98598 & -93.28148 & 1 & North Loop      \\\\\n",
       "\t60818 & 17-491250 & 2017-12-31 20:04:07 & suspicious & MDC   & NO  & NO  & NO  & Unknown & Black           & Male    & 44.92953 & -93.28827 & 5 & East Harriet    \\\\\n",
       "\t60821 & 17-491261 & 2017-12-31 20:26:41 & suspicious & other & NA  & NA  & NA  & NA      & NA              & NA      & 44.95644 & -93.25497 & 3 & Midtown Phillips\\\\\n",
       "\t60823 & 17-491265 & 2017-12-31 20:30:39 & suspicious & MDC   & YES & YES & YES & Unknown & Native American & Female  & 44.98104 & -93.23717 & 2 & Marcy Holmes    \\\\\n",
       "\t60825 & 17-491324 & 2017-12-31 21:31:17 & suspicious & MDC   & NO  & YES & NO  & Unknown & Native American & Female  & 44.95646 & -93.24735 & 3 & East Phillips   \\\\\n",
       "\t60828 & 17-491351 & 2017-12-31 21:56:33 & suspicious & MDC   & NO  & NO  & NO  & Unknown & Unknown         & Unknown & 45.04843 & -93.29407 & 4 & Lind - Bohanon  \\\\\n",
       "\t60829 & 17-491366 & 2017-12-31 22:07:19 & suspicious & MDC   & NO  & NO  & NO  & Unknown & Unknown         & Male    & 45.02304 & -93.29058 & 4 & McKinley        \\\\\n",
       "\t60831 & 17-491414 & 2017-12-31 22:50:49 & suspicious & other & NA  & NA  & NA  & NA      & NA              & NA      & 44.96986 & -93.28008 & 1 & Loring Park     \\\\\n",
       "\t60832 & 17-491435 & 2017-12-31 23:08:18 & suspicious & other & NA  & NA  & NA  & NA      & NA              & NA      & 45.01497 & -93.24734 & 2 & Holland         \\\\\n",
       "\t60833 & 17-491438 & 2017-12-31 23:11:15 & suspicious & MDC   & NO  & NO  & NO  & Unknown & Unknown         & Unknown & 44.93141 & -93.23466 & 3 & Standish        \\\\\n",
       "\t60835 & 17-491445 & 2017-12-31 23:18:32 & suspicious & MDC   & NO  & NO  & NO  & Unknown & Unknown         & Unknown & 44.95915 & -93.27785 & 5 & Whittier        \\\\\n",
       "\\end{tabular}\n"
      ],
      "text/markdown": [
       "\n",
       "A data.frame: 25822 × 14\n",
       "\n",
       "| <!--/--> | idNum &lt;fct&gt; | date &lt;dttm&gt; | problem &lt;fct&gt; | MDC &lt;fct&gt; | citationIssued &lt;fct&gt; | personSearch &lt;fct&gt; | vehicleSearch &lt;fct&gt; | preRace &lt;fct&gt; | race &lt;fct&gt; | gender &lt;fct&gt; | lat &lt;dbl&gt; | long &lt;dbl&gt; | policePrecinct &lt;int&gt; | neighborhood &lt;fct&gt; |\n",
       "|---|---|---|---|---|---|---|---|---|---|---|---|---|---|---|\n",
       "| 6823 | 17-000003 | 2017-01-01 00:00:42 | suspicious | MDC   | NA | NO  | NO | Unknown | Unknown         | Unknown | 44.96662 | -93.24646 | 1 | Cedar Riverside                  |\n",
       "| 6824 | 17-000007 | 2017-01-01 00:03:07 | suspicious | MDC   | NA | NO  | NO | Unknown | Unknown         | Male    | 44.98045 | -93.27134 | 1 | Downtown West                    |\n",
       "| 6826 | 17-000092 | 2017-01-01 00:33:48 | suspicious | MDC   | NA | NO  | NO | Unknown | East African    | Male    | 44.94836 | -93.28135 | 5 | Whittier                         |\n",
       "| 6829 | 17-000114 | 2017-01-01 00:48:46 | suspicious | MDC   | NA | NO  | NO | Unknown | Black           | Male    | 44.98081 | -93.27314 | 1 | Downtown West                    |\n",
       "| 6833 | 17-000149 | 2017-01-01 01:09:13 | suspicious | MDC   | NA | NO  | NO | White   | Unknown         | Male    | 44.96458 | -93.27658 | 5 | Steven's Square - Loring Heights |\n",
       "| 6837 | 17-000204 | 2017-01-01 01:41:24 | suspicious | MDC   | NA | NO  | NO | Unknown | White           | Female  | 44.98045 | -93.27134 | 1 | Downtown West                    |\n",
       "| 6838 | 17-000211 | 2017-01-01 01:45:09 | suspicious | MDC   | NA | NO  | NO | Unknown | Unknown         | Unknown | 44.98078 | -93.27430 | 1 | Downtown West                    |\n",
       "| 6839 | 17-000220 | 2017-01-01 01:51:02 | suspicious | MDC   | NA | NO  | NO | Unknown | White           | Female  | 44.99150 | -93.30572 | 4 | Willard - Hay                    |\n",
       "| 6840 | 17-000224 | 2017-01-01 01:52:52 | suspicious | other | NA | NA  | NA | NA      | NA              | NA      | 44.98124 | -93.27254 | 1 | Downtown West                    |\n",
       "| 6842 | 17-000236 | 2017-01-01 02:04:13 | suspicious | MDC   | NA | NO  | NO | Black   | Unknown         | Male    | 44.94925 | -93.29573 | 5 | Lowry Hill East                  |\n",
       "| 6845 | 17-000290 | 2017-01-01 02:33:22 | suspicious | MDC   | NA | YES | NO | Black   | Black           | Male    | 44.98074 | -93.28960 | 4 | Sumner - Glenwood                |\n",
       "| 6851 | 17-000365 | 2017-01-01 03:16:11 | suspicious | other | NA | NA  | NA | NA      | NA              | NA      | 45.01044 | -93.29306 | 4 | Hawthorne                        |\n",
       "| 6853 | 17-000388 | 2017-01-01 03:26:59 | suspicious | MDC   | NA | NO  | NO | Unknown | Unknown         | Unknown | 44.95464 | -93.28131 | 5 | Whittier                         |\n",
       "| 6854 | 17-000395 | 2017-01-01 03:33:29 | suspicious | MDC   | NA | NO  | NO | Black   | Unknown         | Unknown | 45.02393 | -93.23904 | 2 | Audubon Park                     |\n",
       "| 6855 | 17-000414 | 2017-01-01 04:00:02 | suspicious | other | NA | NA  | NA | NA      | NA              | NA      | 44.97246 | -93.26489 | 1 | Elliot Park                      |\n",
       "| 6856 | 17-000421 | 2017-01-01 04:05:54 | suspicious | other | NA | NA  | NA | NA      | NA              | NA      | 44.99150 | -93.30509 | 4 | Willard - Hay                    |\n",
       "| 6857 | 17-000426 | 2017-01-01 04:20:33 | suspicious | other | NA | NA  | NA | NA      | NA              | NA      | 44.90901 | -93.21456 | 3 | Minnehaha                        |\n",
       "| 6861 | 17-000488 | 2017-01-01 06:47:07 | suspicious | MDC   | NA | NO  | NO | Black   | Unknown         | Unknown | 44.94044 | -93.27792 | 5 | Lyndale                          |\n",
       "| 6863 | 17-000536 | 2017-01-01 09:02:59 | suspicious | MDC   | NA | NO  | NO | Black   | Unknown         | Male    | 44.97092 | -93.25508 | 1 | Downtown East                    |\n",
       "| 6864 | 17-000547 | 2017-01-01 09:48:36 | suspicious | MDC   | NA | NO  | NO | Unknown | Unknown         | Unknown | 44.93863 | -93.24228 | 3 | Corcoran                         |\n",
       "| 6865 | 17-000549 | 2017-01-01 09:51:43 | suspicious | MDC   | NA | NO  | NO | Unknown | Unknown         | Unknown | 44.93773 | -93.24058 | 3 | Standish                         |\n",
       "| 6867 | 17-000576 | 2017-01-01 10:41:29 | suspicious | MDC   | NA | NO  | NO | Unknown | Unknown         | Unknown | 45.04118 | -93.29786 | 4 | Lind - Bohanon                   |\n",
       "| 6868 | 17-000601 | 2017-01-01 11:49:49 | suspicious | other | NA | NA  | NA | NA      | NA              | NA      | 45.02121 | -93.28804 | 4 | McKinley                         |\n",
       "| 6869 | 17-000619 | 2017-01-01 12:43:26 | suspicious | MDC   | NA | YES | NO | Unknown | Black           | Male    | 45.04843 | -93.29407 | 4 | Lind - Bohanon                   |\n",
       "| 6871 | 17-000637 | 2017-01-01 13:24:55 | suspicious | MDC   | NA | NO  | NO | Other   | Other           | Unknown | 44.93770 | -93.28627 | 5 | King Field                       |\n",
       "| 6872 | 17-000639 | 2017-01-01 13:34:06 | suspicious | MDC   | NA | NO  | NO | Other   | Other           | Unknown | 44.93951 | -93.29265 | 5 | CARAG                            |\n",
       "| 6873 | 17-000646 | 2017-01-01 13:41:02 | suspicious | MDC   | NA | NO  | NO | Other   | Other           | Unknown | 44.94041 | -93.29200 | 5 | CARAG                            |\n",
       "| 6874 | 17-000651 | 2017-01-01 13:47:54 | suspicious | other | NA | NA  | NA | NA      | NA              | NA      | 45.03940 | -93.29015 | 4 | Lind - Bohanon                   |\n",
       "| 6875 | 17-000668 | 2017-01-01 14:38:12 | suspicious | MDC   | NA | NO  | NO | Unknown | Unknown         | Unknown | 44.92955 | -93.28439 | 5 | King Field                       |\n",
       "| 6876 | 17-000713 | 2017-01-01 15:36:30 | suspicious | MDC   | NA | YES | NO | Unknown | Native American | Male    | 44.95373 | -93.25627 | 3 | Midtown Phillips                 |\n",
       "| ⋮ | ⋮ | ⋮ | ⋮ | ⋮ | ⋮ | ⋮ | ⋮ | ⋮ | ⋮ | ⋮ | ⋮ | ⋮ | ⋮ | ⋮ |\n",
       "| 60774 | 17-490578 | 2017-12-31 00:10:08 | suspicious | MDC   | NO  | NO  | NO  | Unknown | Latino          | Male    | 45.00598 | -93.23717 | 2 | Windom Park      |\n",
       "| 60777 | 17-490585 | 2017-12-31 00:19:18 | suspicious | MDC   | NO  | NO  | NO  | Unknown | White           | Male    | 44.98083 | -93.27196 | 1 | Downtown West    |\n",
       "| 60782 | 17-490611 | 2017-12-31 00:43:51 | suspicious | MDC   | NO  | NO  | NO  | Unknown | Unknown         | Unknown | 45.02133 | -93.30320 | 4 | Folwell          |\n",
       "| 60784 | 17-490618 | 2017-12-31 00:53:04 | suspicious | other | NA  | NA  | NA  | NA      | NA              | NA      | 44.93863 | -93.27791 | 5 | Lyndale          |\n",
       "| 60786 | 17-490637 | 2017-12-31 01:20:34 | suspicious | MDC   | NO  | NO  | NO  | Unknown | White           | Male    | 44.93498 | -93.28823 | 5 | King Field       |\n",
       "| 60788 | 17-490682 | 2017-12-31 02:11:44 | suspicious | MDC   | YES | NO  | NO  | Unknown | White           | Male    | 44.94748 | -93.28811 | 5 | Lyndale          |\n",
       "| 60792 | 17-490704 | 2017-12-31 02:31:37 | suspicious | MDC   | NO  | NO  | NO  | Unknown | Unknown         | Unknown | 44.94837 | -93.25314 | 3 | Midtown Phillips |\n",
       "| 60793 | 17-490705 | 2017-12-31 02:32:08 | suspicious | MDC   | NO  | NO  | NO  | White   | White           | Female  | 44.91628 | -93.24794 | 3 | Northrop         |\n",
       "| 60794 | 17-490722 | 2017-12-31 02:54:42 | suspicious | MDC   | NO  | NO  | NO  | Unknown | Black           | Male    | 44.97501 | -93.27707 | 1 | Downtown West    |\n",
       "| 60798 | 17-490915 | 2017-12-31 11:35:43 | suspicious | other | NA  | NA  | NA  | NA      | NA              | NA      | 44.97894 | -93.28953 | 4 | Harrison         |\n",
       "| 60799 | 17-490957 | 2017-12-31 12:58:22 | suspicious | MDC   | NO  | NO  | NO  | Unknown | Unknown         | Unknown | 44.95464 | -93.28678 | 5 | Whittier         |\n",
       "| 60800 | 17-490971 | 2017-12-31 13:14:17 | suspicious | MDC   | NO  | NO  | NO  | Unknown | Unknown         | Unknown | 44.93684 | -93.25241 | 3 | Powderhorn Park  |\n",
       "| 60802 | 17-490994 | 2017-12-31 14:01:34 | suspicious | MDC   | NO  | NO  | NO  | Black   | Black           | Male    | 44.98123 | -93.26859 | 1 | Downtown West    |\n",
       "| 60803 | 17-491005 | 2017-12-31 14:23:18 | suspicious | MDC   | NO  | NO  | NO  | Unknown | Unknown         | Unknown | 44.94835 | -93.27095 | 3 | Phillips West    |\n",
       "| 60804 | 17-491040 | 2017-12-31 15:14:37 | suspicious | other | NA  | NA  | NA  | NA      | NA              | NA      | 44.99791 | -93.31462 | 4 | Willard - Hay    |\n",
       "| 60805 | 17-491132 | 2017-12-31 17:50:40 | suspicious | other | NA  | NA  | NA  | NA      | NA              | NA      | 45.00848 | -93.31403 | 4 | Willard - Hay    |\n",
       "| 60807 | 17-491162 | 2017-12-31 18:17:52 | suspicious | MDC   | NO  | NO  | NO  | Unknown | White           | Male    | 45.01316 | -93.24734 | 2 | Audubon Park     |\n",
       "| 60811 | 17-491221 | 2017-12-31 19:17:41 | suspicious | MDC   | NO  | NO  | NO  | Unknown | White           | Male    | 44.94920 | -93.29319 | 5 | Lowry Hill East  |\n",
       "| 60815 | 17-491245 | 2017-12-31 19:57:58 | suspicious | MDC   | NO  | NO  | NO  | Unknown | Unknown         | Unknown | 44.98262 | -93.29820 | 4 | Harrison         |\n",
       "| 60816 | 17-491247 | 2017-12-31 20:02:09 | suspicious | other | NA  | NA  | NA  | NA      | NA              | NA      | 44.98598 | -93.28148 | 1 | North Loop       |\n",
       "| 60818 | 17-491250 | 2017-12-31 20:04:07 | suspicious | MDC   | NO  | NO  | NO  | Unknown | Black           | Male    | 44.92953 | -93.28827 | 5 | East Harriet     |\n",
       "| 60821 | 17-491261 | 2017-12-31 20:26:41 | suspicious | other | NA  | NA  | NA  | NA      | NA              | NA      | 44.95644 | -93.25497 | 3 | Midtown Phillips |\n",
       "| 60823 | 17-491265 | 2017-12-31 20:30:39 | suspicious | MDC   | YES | YES | YES | Unknown | Native American | Female  | 44.98104 | -93.23717 | 2 | Marcy Holmes     |\n",
       "| 60825 | 17-491324 | 2017-12-31 21:31:17 | suspicious | MDC   | NO  | YES | NO  | Unknown | Native American | Female  | 44.95646 | -93.24735 | 3 | East Phillips    |\n",
       "| 60828 | 17-491351 | 2017-12-31 21:56:33 | suspicious | MDC   | NO  | NO  | NO  | Unknown | Unknown         | Unknown | 45.04843 | -93.29407 | 4 | Lind - Bohanon   |\n",
       "| 60829 | 17-491366 | 2017-12-31 22:07:19 | suspicious | MDC   | NO  | NO  | NO  | Unknown | Unknown         | Male    | 45.02304 | -93.29058 | 4 | McKinley         |\n",
       "| 60831 | 17-491414 | 2017-12-31 22:50:49 | suspicious | other | NA  | NA  | NA  | NA      | NA              | NA      | 44.96986 | -93.28008 | 1 | Loring Park      |\n",
       "| 60832 | 17-491435 | 2017-12-31 23:08:18 | suspicious | other | NA  | NA  | NA  | NA      | NA              | NA      | 45.01497 | -93.24734 | 2 | Holland          |\n",
       "| 60833 | 17-491438 | 2017-12-31 23:11:15 | suspicious | MDC   | NO  | NO  | NO  | Unknown | Unknown         | Unknown | 44.93141 | -93.23466 | 3 | Standish         |\n",
       "| 60835 | 17-491445 | 2017-12-31 23:18:32 | suspicious | MDC   | NO  | NO  | NO  | Unknown | Unknown         | Unknown | 44.95915 | -93.27785 | 5 | Whittier         |\n",
       "\n"
      ],
      "text/plain": [
       "      idNum     date                problem    MDC   citationIssued\n",
       "6823  17-000003 2017-01-01 00:00:42 suspicious MDC   NA            \n",
       "6824  17-000007 2017-01-01 00:03:07 suspicious MDC   NA            \n",
       "6826  17-000092 2017-01-01 00:33:48 suspicious MDC   NA            \n",
       "6829  17-000114 2017-01-01 00:48:46 suspicious MDC   NA            \n",
       "6833  17-000149 2017-01-01 01:09:13 suspicious MDC   NA            \n",
       "6837  17-000204 2017-01-01 01:41:24 suspicious MDC   NA            \n",
       "6838  17-000211 2017-01-01 01:45:09 suspicious MDC   NA            \n",
       "6839  17-000220 2017-01-01 01:51:02 suspicious MDC   NA            \n",
       "6840  17-000224 2017-01-01 01:52:52 suspicious other NA            \n",
       "6842  17-000236 2017-01-01 02:04:13 suspicious MDC   NA            \n",
       "6845  17-000290 2017-01-01 02:33:22 suspicious MDC   NA            \n",
       "6851  17-000365 2017-01-01 03:16:11 suspicious other NA            \n",
       "6853  17-000388 2017-01-01 03:26:59 suspicious MDC   NA            \n",
       "6854  17-000395 2017-01-01 03:33:29 suspicious MDC   NA            \n",
       "6855  17-000414 2017-01-01 04:00:02 suspicious other NA            \n",
       "6856  17-000421 2017-01-01 04:05:54 suspicious other NA            \n",
       "6857  17-000426 2017-01-01 04:20:33 suspicious other NA            \n",
       "6861  17-000488 2017-01-01 06:47:07 suspicious MDC   NA            \n",
       "6863  17-000536 2017-01-01 09:02:59 suspicious MDC   NA            \n",
       "6864  17-000547 2017-01-01 09:48:36 suspicious MDC   NA            \n",
       "6865  17-000549 2017-01-01 09:51:43 suspicious MDC   NA            \n",
       "6867  17-000576 2017-01-01 10:41:29 suspicious MDC   NA            \n",
       "6868  17-000601 2017-01-01 11:49:49 suspicious other NA            \n",
       "6869  17-000619 2017-01-01 12:43:26 suspicious MDC   NA            \n",
       "6871  17-000637 2017-01-01 13:24:55 suspicious MDC   NA            \n",
       "6872  17-000639 2017-01-01 13:34:06 suspicious MDC   NA            \n",
       "6873  17-000646 2017-01-01 13:41:02 suspicious MDC   NA            \n",
       "6874  17-000651 2017-01-01 13:47:54 suspicious other NA            \n",
       "6875  17-000668 2017-01-01 14:38:12 suspicious MDC   NA            \n",
       "6876  17-000713 2017-01-01 15:36:30 suspicious MDC   NA            \n",
       "⋮     ⋮         ⋮                   ⋮          ⋮     ⋮             \n",
       "60774 17-490578 2017-12-31 00:10:08 suspicious MDC   NO            \n",
       "60777 17-490585 2017-12-31 00:19:18 suspicious MDC   NO            \n",
       "60782 17-490611 2017-12-31 00:43:51 suspicious MDC   NO            \n",
       "60784 17-490618 2017-12-31 00:53:04 suspicious other NA            \n",
       "60786 17-490637 2017-12-31 01:20:34 suspicious MDC   NO            \n",
       "60788 17-490682 2017-12-31 02:11:44 suspicious MDC   YES           \n",
       "60792 17-490704 2017-12-31 02:31:37 suspicious MDC   NO            \n",
       "60793 17-490705 2017-12-31 02:32:08 suspicious MDC   NO            \n",
       "60794 17-490722 2017-12-31 02:54:42 suspicious MDC   NO            \n",
       "60798 17-490915 2017-12-31 11:35:43 suspicious other NA            \n",
       "60799 17-490957 2017-12-31 12:58:22 suspicious MDC   NO            \n",
       "60800 17-490971 2017-12-31 13:14:17 suspicious MDC   NO            \n",
       "60802 17-490994 2017-12-31 14:01:34 suspicious MDC   NO            \n",
       "60803 17-491005 2017-12-31 14:23:18 suspicious MDC   NO            \n",
       "60804 17-491040 2017-12-31 15:14:37 suspicious other NA            \n",
       "60805 17-491132 2017-12-31 17:50:40 suspicious other NA            \n",
       "60807 17-491162 2017-12-31 18:17:52 suspicious MDC   NO            \n",
       "60811 17-491221 2017-12-31 19:17:41 suspicious MDC   NO            \n",
       "60815 17-491245 2017-12-31 19:57:58 suspicious MDC   NO            \n",
       "60816 17-491247 2017-12-31 20:02:09 suspicious other NA            \n",
       "60818 17-491250 2017-12-31 20:04:07 suspicious MDC   NO            \n",
       "60821 17-491261 2017-12-31 20:26:41 suspicious other NA            \n",
       "60823 17-491265 2017-12-31 20:30:39 suspicious MDC   YES           \n",
       "60825 17-491324 2017-12-31 21:31:17 suspicious MDC   NO            \n",
       "60828 17-491351 2017-12-31 21:56:33 suspicious MDC   NO            \n",
       "60829 17-491366 2017-12-31 22:07:19 suspicious MDC   NO            \n",
       "60831 17-491414 2017-12-31 22:50:49 suspicious other NA            \n",
       "60832 17-491435 2017-12-31 23:08:18 suspicious other NA            \n",
       "60833 17-491438 2017-12-31 23:11:15 suspicious MDC   NO            \n",
       "60835 17-491445 2017-12-31 23:18:32 suspicious MDC   NO            \n",
       "      personSearch vehicleSearch preRace race            gender  lat     \n",
       "6823  NO           NO            Unknown Unknown         Unknown 44.96662\n",
       "6824  NO           NO            Unknown Unknown         Male    44.98045\n",
       "6826  NO           NO            Unknown East African    Male    44.94836\n",
       "6829  NO           NO            Unknown Black           Male    44.98081\n",
       "6833  NO           NO            White   Unknown         Male    44.96458\n",
       "6837  NO           NO            Unknown White           Female  44.98045\n",
       "6838  NO           NO            Unknown Unknown         Unknown 44.98078\n",
       "6839  NO           NO            Unknown White           Female  44.99150\n",
       "6840  NA           NA            NA      NA              NA      44.98124\n",
       "6842  NO           NO            Black   Unknown         Male    44.94925\n",
       "6845  YES          NO            Black   Black           Male    44.98074\n",
       "6851  NA           NA            NA      NA              NA      45.01044\n",
       "6853  NO           NO            Unknown Unknown         Unknown 44.95464\n",
       "6854  NO           NO            Black   Unknown         Unknown 45.02393\n",
       "6855  NA           NA            NA      NA              NA      44.97246\n",
       "6856  NA           NA            NA      NA              NA      44.99150\n",
       "6857  NA           NA            NA      NA              NA      44.90901\n",
       "6861  NO           NO            Black   Unknown         Unknown 44.94044\n",
       "6863  NO           NO            Black   Unknown         Male    44.97092\n",
       "6864  NO           NO            Unknown Unknown         Unknown 44.93863\n",
       "6865  NO           NO            Unknown Unknown         Unknown 44.93773\n",
       "6867  NO           NO            Unknown Unknown         Unknown 45.04118\n",
       "6868  NA           NA            NA      NA              NA      45.02121\n",
       "6869  YES          NO            Unknown Black           Male    45.04843\n",
       "6871  NO           NO            Other   Other           Unknown 44.93770\n",
       "6872  NO           NO            Other   Other           Unknown 44.93951\n",
       "6873  NO           NO            Other   Other           Unknown 44.94041\n",
       "6874  NA           NA            NA      NA              NA      45.03940\n",
       "6875  NO           NO            Unknown Unknown         Unknown 44.92955\n",
       "6876  YES          NO            Unknown Native American Male    44.95373\n",
       "⋮     ⋮            ⋮             ⋮       ⋮               ⋮       ⋮       \n",
       "60774 NO           NO            Unknown Latino          Male    45.00598\n",
       "60777 NO           NO            Unknown White           Male    44.98083\n",
       "60782 NO           NO            Unknown Unknown         Unknown 45.02133\n",
       "60784 NA           NA            NA      NA              NA      44.93863\n",
       "60786 NO           NO            Unknown White           Male    44.93498\n",
       "60788 NO           NO            Unknown White           Male    44.94748\n",
       "60792 NO           NO            Unknown Unknown         Unknown 44.94837\n",
       "60793 NO           NO            White   White           Female  44.91628\n",
       "60794 NO           NO            Unknown Black           Male    44.97501\n",
       "60798 NA           NA            NA      NA              NA      44.97894\n",
       "60799 NO           NO            Unknown Unknown         Unknown 44.95464\n",
       "60800 NO           NO            Unknown Unknown         Unknown 44.93684\n",
       "60802 NO           NO            Black   Black           Male    44.98123\n",
       "60803 NO           NO            Unknown Unknown         Unknown 44.94835\n",
       "60804 NA           NA            NA      NA              NA      44.99791\n",
       "60805 NA           NA            NA      NA              NA      45.00848\n",
       "60807 NO           NO            Unknown White           Male    45.01316\n",
       "60811 NO           NO            Unknown White           Male    44.94920\n",
       "60815 NO           NO            Unknown Unknown         Unknown 44.98262\n",
       "60816 NA           NA            NA      NA              NA      44.98598\n",
       "60818 NO           NO            Unknown Black           Male    44.92953\n",
       "60821 NA           NA            NA      NA              NA      44.95644\n",
       "60823 YES          YES           Unknown Native American Female  44.98104\n",
       "60825 YES          NO            Unknown Native American Female  44.95646\n",
       "60828 NO           NO            Unknown Unknown         Unknown 45.04843\n",
       "60829 NO           NO            Unknown Unknown         Male    45.02304\n",
       "60831 NA           NA            NA      NA              NA      44.96986\n",
       "60832 NA           NA            NA      NA              NA      45.01497\n",
       "60833 NO           NO            Unknown Unknown         Unknown 44.93141\n",
       "60835 NO           NO            Unknown Unknown         Unknown 44.95915\n",
       "      long      policePrecinct neighborhood                    \n",
       "6823  -93.24646 1              Cedar Riverside                 \n",
       "6824  -93.27134 1              Downtown West                   \n",
       "6826  -93.28135 5              Whittier                        \n",
       "6829  -93.27314 1              Downtown West                   \n",
       "6833  -93.27658 5              Steven's Square - Loring Heights\n",
       "6837  -93.27134 1              Downtown West                   \n",
       "6838  -93.27430 1              Downtown West                   \n",
       "6839  -93.30572 4              Willard - Hay                   \n",
       "6840  -93.27254 1              Downtown West                   \n",
       "6842  -93.29573 5              Lowry Hill East                 \n",
       "6845  -93.28960 4              Sumner - Glenwood               \n",
       "6851  -93.29306 4              Hawthorne                       \n",
       "6853  -93.28131 5              Whittier                        \n",
       "6854  -93.23904 2              Audubon Park                    \n",
       "6855  -93.26489 1              Elliot Park                     \n",
       "6856  -93.30509 4              Willard - Hay                   \n",
       "6857  -93.21456 3              Minnehaha                       \n",
       "6861  -93.27792 5              Lyndale                         \n",
       "6863  -93.25508 1              Downtown East                   \n",
       "6864  -93.24228 3              Corcoran                        \n",
       "6865  -93.24058 3              Standish                        \n",
       "6867  -93.29786 4              Lind - Bohanon                  \n",
       "6868  -93.28804 4              McKinley                        \n",
       "6869  -93.29407 4              Lind - Bohanon                  \n",
       "6871  -93.28627 5              King Field                      \n",
       "6872  -93.29265 5              CARAG                           \n",
       "6873  -93.29200 5              CARAG                           \n",
       "6874  -93.29015 4              Lind - Bohanon                  \n",
       "6875  -93.28439 5              King Field                      \n",
       "6876  -93.25627 3              Midtown Phillips                \n",
       "⋮     ⋮         ⋮              ⋮                               \n",
       "60774 -93.23717 2              Windom Park                     \n",
       "60777 -93.27196 1              Downtown West                   \n",
       "60782 -93.30320 4              Folwell                         \n",
       "60784 -93.27791 5              Lyndale                         \n",
       "60786 -93.28823 5              King Field                      \n",
       "60788 -93.28811 5              Lyndale                         \n",
       "60792 -93.25314 3              Midtown Phillips                \n",
       "60793 -93.24794 3              Northrop                        \n",
       "60794 -93.27707 1              Downtown West                   \n",
       "60798 -93.28953 4              Harrison                        \n",
       "60799 -93.28678 5              Whittier                        \n",
       "60800 -93.25241 3              Powderhorn Park                 \n",
       "60802 -93.26859 1              Downtown West                   \n",
       "60803 -93.27095 3              Phillips West                   \n",
       "60804 -93.31462 4              Willard - Hay                   \n",
       "60805 -93.31403 4              Willard - Hay                   \n",
       "60807 -93.24734 2              Audubon Park                    \n",
       "60811 -93.29319 5              Lowry Hill East                 \n",
       "60815 -93.29820 4              Harrison                        \n",
       "60816 -93.28148 1              North Loop                      \n",
       "60818 -93.28827 5              East Harriet                    \n",
       "60821 -93.25497 3              Midtown Phillips                \n",
       "60823 -93.23717 2              Marcy Holmes                    \n",
       "60825 -93.24735 3              East Phillips                   \n",
       "60828 -93.29407 4              Lind - Bohanon                  \n",
       "60829 -93.29058 4              McKinley                        \n",
       "60831 -93.28008 1              Loring Park                     \n",
       "60832 -93.24734 2              Holland                         \n",
       "60833 -93.23466 3              Standish                        \n",
       "60835 -93.27785 5              Whittier                        "
      ]
     },
     "metadata": {},
     "output_type": "display_data"
    }
   ],
   "source": [
    "tmp"
   ]
  }
 ],
 "metadata": {
  "kernelspec": {
   "display_name": "R",
   "language": "R",
   "name": "ir"
  },
  "language_info": {
   "codemirror_mode": "r",
   "file_extension": ".r",
   "mimetype": "text/x-r-source",
   "name": "R",
   "pygments_lexer": "r",
   "version": "4.3.1"
  }
 },
 "nbformat": 4,
 "nbformat_minor": 5
}
