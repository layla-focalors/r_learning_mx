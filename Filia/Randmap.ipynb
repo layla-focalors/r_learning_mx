{
 "cells": [
  {
   "cell_type": "code",
   "execution_count": 1,
   "id": "61606b69",
   "metadata": {},
   "outputs": [],
   "source": [
    "import random\n",
    "import clipboard\n",
    "\n",
    "data = [\n",
    "]\n",
    "\n",
    "for i in range(1, 100):\n",
    "    data.append(random.randint(150, 185))\n",
    "\n",
    "clipboard.copy(str(data).replace('[', '').replace(']', ''))"
   ]
  },
  {
   "cell_type": "code",
   "execution_count": 2,
   "id": "e368628c",
   "metadata": {},
   "outputs": [
    {
     "name": "stdout",
     "output_type": "stream",
     "text": [
      "[59, 59, 60, 63, 61, 60, 57, 55, 57, 56, 57, 60, 62, 62, 62, 59, 58, 57, 57, 61, 57, 57, 56, 63, 55, 56, 59, 62, 56, 63, 55, 63, 55, 60, 60, 62, 60, 55, 55, 60, 60, 63, 55, 62, 56, 55, 59, 59, 55, 55, 59, 58, 61, 62, 59, 59, 63, 56, 57, 55, 55, 56, 56, 57, 63, 55, 60, 55, 61, 56, 60, 61, 59, 62, 55, 56, 63, 62, 57, 59, 56, 57, 60, 58, 63, 56, 62, 56, 59, 61, 59, 59, 57, 56, 60, 58, 62, 56, 61]\n"
     ]
    }
   ],
   "source": [
    "import random\n",
    "import clipboard\n",
    "\n",
    "data = [\n",
    "]\n",
    "\n",
    "for i in range(1, 100):\n",
    "    data.append(random.randint(55, 63))\n",
    "\n",
    "clipboard.copy(str(data).replace('[', '').replace(']', ''))\n",
    "print(data)"
   ]
  },
  {
   "cell_type": "code",
   "execution_count": 3,
   "id": "8d60ddf1",
   "metadata": {},
   "outputs": [
    {
     "name": "stdout",
     "output_type": "stream",
     "text": [
      "[3, 4, 16, 2, 10, 13, 12, 16, 14, 1, 14, 11, 13, 17, 15, 10, 5, 16, 20, 17, 11, 14, 11, 3, 10, 15, 16, 1, 21, 12, 15, 20, 1, 13, 0, 21, 10, 10, 2, 9, 18, 18, 19, 5, 3, 14, 17, 9, 17, 0, 12, 17, 5, 19, 12, 18, 4, 16, 5, 19, 2, 1, 11, 5, 9, 8, 8, 9, 5, 12, 19, 16, 15, 17, 8, 7, 20, 1, 21, 11, 14, 10, 14, 18, 21, 21, 15, 21, 14, 19, 6, 1, 14, 1, 9, 10, 14, 15, 8]\n"
     ]
    }
   ],
   "source": [
    "import random\n",
    "import clipboard\n",
    "\n",
    "data = [\n",
    "]\n",
    "\n",
    "for i in range(1, 100):\n",
    "    data.append(random.randint(0, 21))\n",
    "\n",
    "clipboard.copy(str(data).replace('[', '').replace(']', ''))\n",
    "print(data)"
   ]
  },
  {
   "cell_type": "code",
   "execution_count": 4,
   "id": "e8ccadf1",
   "metadata": {},
   "outputs": [
    {
     "name": "stdout",
     "output_type": "stream",
     "text": [
      "[28, 27, 11, 23, 18, 22, 12, 7, 2, 30, 16, 1, 27, 24, 28, 1, 10, 2, 28, 13, 21, 25, 29, 5, 3, 7, 13, 8, 6, 23, 1, 17, 7, 12, 17, 5, 9, 10, 17, 19, 0, 19, 11, 21, 7, 21, 12, 13, 11, 8, 28, 0, 2, 17, 23, 17, 24, 6, 1, 23, 4, 12, 29, 28, 24, 2, 9, 4, 23, 24, 22, 18, 0, 28, 8, 29, 2, 25, 26, 29, 25, 28, 17, 17, 24, 3, 19, 21, 14, 28, 15, 10, 29, 24, 24, 28, 30, 19, 26]\n"
     ]
    }
   ],
   "source": [
    "import random\n",
    "import clipboard\n",
    "\n",
    "data = [\n",
    "]\n",
    "\n",
    "for i in range(1, 100):\n",
    "    data.append(random.randint(0, 30))\n",
    "\n",
    "clipboard.copy(str(data).replace('[', '').replace(']', ''))\n",
    "print(data)"
   ]
  }
 ],
 "metadata": {
  "kernelspec": {
   "display_name": "Python 3 (ipykernel)",
   "language": "python",
   "name": "python3"
  },
  "language_info": {
   "codemirror_mode": {
    "name": "ipython",
    "version": 3
   },
   "file_extension": ".py",
   "mimetype": "text/x-python",
   "name": "python",
   "nbconvert_exporter": "python",
   "pygments_lexer": "ipython3",
   "version": "3.11.4"
  }
 },
 "nbformat": 4,
 "nbformat_minor": 5
}
