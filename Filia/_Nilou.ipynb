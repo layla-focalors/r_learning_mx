{
 "cells": [
  {
   "cell_type": "code",
   "execution_count": 1,
   "id": "2a203dfd",
   "metadata": {},
   "outputs": [
    {
     "name": "stderr",
     "output_type": "stream",
     "text": [
      "Warning message:\n",
      "\"package 'treemap' was built under R version 4.3.2\"\n"
     ]
    }
   ],
   "source": [
    "library(treemap)"
   ]
  },
  {
   "cell_type": "code",
   "execution_count": 2,
   "id": "a3410bca",
   "metadata": {},
   "outputs": [
    {
     "name": "stderr",
     "output_type": "stream",
     "text": [
      "Warning message:\n",
      "\"package 'carData' was built under R version 4.3.2\"\n"
     ]
    }
   ],
   "source": [
    "library(carData)"
   ]
  },
  {
   "cell_type": "code",
   "execution_count": 3,
   "id": "f212ec6f",
   "metadata": {},
   "outputs": [
    {
     "data": {
      "text/html": [
       "<table class=\"dataframe\">\n",
       "<caption>A data.frame: 6 × 9</caption>\n",
       "<thead>\n",
       "\t<tr><th></th><th scope=col>minority</th><th scope=col>crime</th><th scope=col>poverty</th><th scope=col>language</th><th scope=col>highschool</th><th scope=col>housing</th><th scope=col>city</th><th scope=col>conventional</th><th scope=col>undercount</th></tr>\n",
       "\t<tr><th></th><th scope=col>&lt;dbl&gt;</th><th scope=col>&lt;int&gt;</th><th scope=col>&lt;dbl&gt;</th><th scope=col>&lt;dbl&gt;</th><th scope=col>&lt;dbl&gt;</th><th scope=col>&lt;dbl&gt;</th><th scope=col>&lt;fct&gt;</th><th scope=col>&lt;int&gt;</th><th scope=col>&lt;dbl&gt;</th></tr>\n",
       "</thead>\n",
       "<tbody>\n",
       "\t<tr><th scope=row>Alabama</th><td>26.1</td><td>49</td><td>18.9</td><td>0.2</td><td>43.5</td><td> 7.6</td><td>state</td><td>  0</td><td>-0.04</td></tr>\n",
       "\t<tr><th scope=row>Alaska</th><td> 5.7</td><td>62</td><td>10.7</td><td>1.7</td><td>17.5</td><td>23.6</td><td>state</td><td>100</td><td> 3.35</td></tr>\n",
       "\t<tr><th scope=row>Arizona</th><td>18.9</td><td>81</td><td>13.2</td><td>3.2</td><td>27.6</td><td> 8.1</td><td>state</td><td> 18</td><td> 2.48</td></tr>\n",
       "\t<tr><th scope=row>Arkansas</th><td>16.9</td><td>38</td><td>19.0</td><td>0.2</td><td>44.5</td><td> 7.0</td><td>state</td><td>  0</td><td>-0.74</td></tr>\n",
       "\t<tr><th scope=row>California.R</th><td>24.3</td><td>73</td><td>10.4</td><td>5.0</td><td>26.0</td><td>11.8</td><td>state</td><td>  4</td><td> 3.60</td></tr>\n",
       "\t<tr><th scope=row>Colorado</th><td>15.2</td><td>73</td><td>10.1</td><td>1.2</td><td>21.4</td><td> 9.2</td><td>state</td><td> 19</td><td> 1.34</td></tr>\n",
       "</tbody>\n",
       "</table>\n"
      ],
      "text/latex": [
       "A data.frame: 6 × 9\n",
       "\\begin{tabular}{r|lllllllll}\n",
       "  & minority & crime & poverty & language & highschool & housing & city & conventional & undercount\\\\\n",
       "  & <dbl> & <int> & <dbl> & <dbl> & <dbl> & <dbl> & <fct> & <int> & <dbl>\\\\\n",
       "\\hline\n",
       "\tAlabama & 26.1 & 49 & 18.9 & 0.2 & 43.5 &  7.6 & state &   0 & -0.04\\\\\n",
       "\tAlaska &  5.7 & 62 & 10.7 & 1.7 & 17.5 & 23.6 & state & 100 &  3.35\\\\\n",
       "\tArizona & 18.9 & 81 & 13.2 & 3.2 & 27.6 &  8.1 & state &  18 &  2.48\\\\\n",
       "\tArkansas & 16.9 & 38 & 19.0 & 0.2 & 44.5 &  7.0 & state &   0 & -0.74\\\\\n",
       "\tCalifornia.R & 24.3 & 73 & 10.4 & 5.0 & 26.0 & 11.8 & state &   4 &  3.60\\\\\n",
       "\tColorado & 15.2 & 73 & 10.1 & 1.2 & 21.4 &  9.2 & state &  19 &  1.34\\\\\n",
       "\\end{tabular}\n"
      ],
      "text/markdown": [
       "\n",
       "A data.frame: 6 × 9\n",
       "\n",
       "| <!--/--> | minority &lt;dbl&gt; | crime &lt;int&gt; | poverty &lt;dbl&gt; | language &lt;dbl&gt; | highschool &lt;dbl&gt; | housing &lt;dbl&gt; | city &lt;fct&gt; | conventional &lt;int&gt; | undercount &lt;dbl&gt; |\n",
       "|---|---|---|---|---|---|---|---|---|---|\n",
       "| Alabama | 26.1 | 49 | 18.9 | 0.2 | 43.5 |  7.6 | state |   0 | -0.04 |\n",
       "| Alaska |  5.7 | 62 | 10.7 | 1.7 | 17.5 | 23.6 | state | 100 |  3.35 |\n",
       "| Arizona | 18.9 | 81 | 13.2 | 3.2 | 27.6 |  8.1 | state |  18 |  2.48 |\n",
       "| Arkansas | 16.9 | 38 | 19.0 | 0.2 | 44.5 |  7.0 | state |   0 | -0.74 |\n",
       "| California.R | 24.3 | 73 | 10.4 | 5.0 | 26.0 | 11.8 | state |   4 |  3.60 |\n",
       "| Colorado | 15.2 | 73 | 10.1 | 1.2 | 21.4 |  9.2 | state |  19 |  1.34 |\n",
       "\n"
      ],
      "text/plain": [
       "             minority crime poverty language highschool housing city \n",
       "Alabama      26.1     49    18.9    0.2      43.5        7.6    state\n",
       "Alaska        5.7     62    10.7    1.7      17.5       23.6    state\n",
       "Arizona      18.9     81    13.2    3.2      27.6        8.1    state\n",
       "Arkansas     16.9     38    19.0    0.2      44.5        7.0    state\n",
       "California.R 24.3     73    10.4    5.0      26.0       11.8    state\n",
       "Colorado     15.2     73    10.1    1.2      21.4        9.2    state\n",
       "             conventional undercount\n",
       "Alabama        0          -0.04     \n",
       "Alaska       100           3.35     \n",
       "Arizona       18           2.48     \n",
       "Arkansas       0          -0.74     \n",
       "California.R   4           3.60     \n",
       "Colorado      19           1.34     "
      ]
     },
     "metadata": {},
     "output_type": "display_data"
    }
   ],
   "source": [
    "head(Ericksen)"
   ]
  },
  {
   "cell_type": "code",
   "execution_count": 4,
   "id": "c6cad54a",
   "metadata": {},
   "outputs": [
    {
     "name": "stdout",
     "output_type": "stream",
     "text": [
      "'data.frame':\t66 obs. of  9 variables:\n",
      " $ minority    : num  26.1 5.7 18.9 16.9 24.3 15.2 10.8 17.5 22.3 27.6 ...\n",
      " $ crime       : int  49 62 81 38 73 73 58 68 81 55 ...\n",
      " $ poverty     : num  18.9 10.7 13.2 19 10.4 10.1 8 11.8 13.4 16.6 ...\n",
      " $ language    : num  0.2 1.7 3.2 0.2 5 1.2 2.4 0.7 3.6 0.3 ...\n",
      " $ highschool  : num  43.5 17.5 27.6 44.5 26 21.4 29.7 31.4 33.3 43.6 ...\n",
      " $ housing     : num  7.6 23.6 8.1 7 11.8 9.2 21 8.9 10.1 10.2 ...\n",
      " $ city        : Factor w/ 2 levels \"city\",\"state\": 2 2 2 2 2 2 2 2 2 2 ...\n",
      " $ conventional: int  0 100 18 0 4 19 0 0 0 0 ...\n",
      " $ undercount  : num  -0.04 3.35 2.48 -0.74 3.6 1.34 -0.26 -0.16 2.2 0.37 ...\n"
     ]
    }
   ],
   "source": [
    "str(Ericksen)"
   ]
  },
  {
   "cell_type": "code",
   "execution_count": 5,
   "id": "3ef19090",
   "metadata": {},
   "outputs": [],
   "source": [
    "ds = subset(Ericksen, city == 'state')"
   ]
  },
  {
   "cell_type": "code",
   "execution_count": 6,
   "id": "1595bcc0",
   "metadata": {},
   "outputs": [
    {
     "data": {
      "text/html": [
       "<table class=\"dataframe\">\n",
       "<caption>A data.frame: 50 × 9</caption>\n",
       "<thead>\n",
       "\t<tr><th></th><th scope=col>minority</th><th scope=col>crime</th><th scope=col>poverty</th><th scope=col>language</th><th scope=col>highschool</th><th scope=col>housing</th><th scope=col>city</th><th scope=col>conventional</th><th scope=col>undercount</th></tr>\n",
       "\t<tr><th></th><th scope=col>&lt;dbl&gt;</th><th scope=col>&lt;int&gt;</th><th scope=col>&lt;dbl&gt;</th><th scope=col>&lt;dbl&gt;</th><th scope=col>&lt;dbl&gt;</th><th scope=col>&lt;dbl&gt;</th><th scope=col>&lt;fct&gt;</th><th scope=col>&lt;int&gt;</th><th scope=col>&lt;dbl&gt;</th></tr>\n",
       "</thead>\n",
       "<tbody>\n",
       "\t<tr><th scope=row>Alabama</th><td>26.1</td><td>49</td><td>18.9</td><td>0.2</td><td>43.5</td><td> 7.6</td><td>state</td><td>  0</td><td>-0.04</td></tr>\n",
       "\t<tr><th scope=row>Alaska</th><td> 5.7</td><td>62</td><td>10.7</td><td>1.7</td><td>17.5</td><td>23.6</td><td>state</td><td>100</td><td> 3.35</td></tr>\n",
       "\t<tr><th scope=row>Arizona</th><td>18.9</td><td>81</td><td>13.2</td><td>3.2</td><td>27.6</td><td> 8.1</td><td>state</td><td> 18</td><td> 2.48</td></tr>\n",
       "\t<tr><th scope=row>Arkansas</th><td>16.9</td><td>38</td><td>19.0</td><td>0.2</td><td>44.5</td><td> 7.0</td><td>state</td><td>  0</td><td>-0.74</td></tr>\n",
       "\t<tr><th scope=row>California.R</th><td>24.3</td><td>73</td><td>10.4</td><td>5.0</td><td>26.0</td><td>11.8</td><td>state</td><td>  4</td><td> 3.60</td></tr>\n",
       "\t<tr><th scope=row>Colorado</th><td>15.2</td><td>73</td><td>10.1</td><td>1.2</td><td>21.4</td><td> 9.2</td><td>state</td><td> 19</td><td> 1.34</td></tr>\n",
       "\t<tr><th scope=row>Connecticut</th><td>10.8</td><td>58</td><td> 8.0</td><td>2.4</td><td>29.7</td><td>21.0</td><td>state</td><td>  0</td><td>-0.26</td></tr>\n",
       "\t<tr><th scope=row>Delaware</th><td>17.5</td><td>68</td><td>11.8</td><td>0.7</td><td>31.4</td><td> 8.9</td><td>state</td><td>  0</td><td>-0.16</td></tr>\n",
       "\t<tr><th scope=row>Florida</th><td>22.3</td><td>81</td><td>13.4</td><td>3.6</td><td>33.3</td><td>10.1</td><td>state</td><td>  0</td><td> 2.20</td></tr>\n",
       "\t<tr><th scope=row>Georgia</th><td>27.6</td><td>55</td><td>16.6</td><td>0.3</td><td>43.6</td><td>10.2</td><td>state</td><td>  0</td><td> 0.37</td></tr>\n",
       "\t<tr><th scope=row>Hawaii</th><td> 9.1</td><td>75</td><td> 9.9</td><td>5.7</td><td>26.2</td><td>17.0</td><td>state</td><td> 29</td><td> 1.46</td></tr>\n",
       "\t<tr><th scope=row>Idaho</th><td> 4.2</td><td>48</td><td>12.6</td><td>1.0</td><td>26.3</td><td> 9.1</td><td>state</td><td> 56</td><td> 1.53</td></tr>\n",
       "\t<tr><th scope=row>Illinois.R</th><td> 8.1</td><td>48</td><td> 7.7</td><td>1.0</td><td>29.8</td><td>13.5</td><td>state</td><td>  0</td><td> 1.69</td></tr>\n",
       "\t<tr><th scope=row>Indiana.R</th><td> 7.1</td><td>48</td><td> 9.4</td><td>0.5</td><td>33.6</td><td> 9.9</td><td>state</td><td>  0</td><td>-0.68</td></tr>\n",
       "\t<tr><th scope=row>Iowa</th><td> 2.3</td><td>47</td><td>10.1</td><td>0.3</td><td>28.5</td><td>10.4</td><td>state</td><td>  0</td><td>-0.59</td></tr>\n",
       "\t<tr><th scope=row>Kansas</th><td> 7.9</td><td>54</td><td>10.1</td><td>0.5</td><td>26.7</td><td> 8.5</td><td>state</td><td> 14</td><td> 0.94</td></tr>\n",
       "\t<tr><th scope=row>Kentucky</th><td> 7.7</td><td>34</td><td>17.6</td><td>0.2</td><td>46.9</td><td>10.6</td><td>state</td><td>  0</td><td>-1.41</td></tr>\n",
       "\t<tr><th scope=row>Louisiana</th><td>31.4</td><td>54</td><td>18.6</td><td>1.1</td><td>42.3</td><td> 9.7</td><td>state</td><td>  0</td><td> 2.46</td></tr>\n",
       "\t<tr><th scope=row>Maine</th><td> 0.7</td><td>44</td><td>13.0</td><td>1.0</td><td>31.3</td><td>19.5</td><td>state</td><td> 40</td><td> 2.06</td></tr>\n",
       "\t<tr><th scope=row>Maryland.R</th><td>16.7</td><td>58</td><td> 6.8</td><td>0.8</td><td>28.2</td><td>10.5</td><td>state</td><td>  0</td><td> 2.03</td></tr>\n",
       "\t<tr><th scope=row>Massachusetts.R</th><td> 3.8</td><td>53</td><td> 8.5</td><td>2.1</td><td>27.4</td><td>26.9</td><td>state</td><td>  4</td><td>-0.57</td></tr>\n",
       "\t<tr><th scope=row>Michigan.R</th><td> 7.0</td><td>61</td><td> 8.7</td><td>0.7</td><td>29.9</td><td> 9.4</td><td>state</td><td>  8</td><td> 0.89</td></tr>\n",
       "\t<tr><th scope=row>Minnesota</th><td> 2.1</td><td>48</td><td> 9.5</td><td>0.5</td><td>26.9</td><td>10.7</td><td>state</td><td> 11</td><td> 1.57</td></tr>\n",
       "\t<tr><th scope=row>Mississippi</th><td>35.8</td><td>34</td><td>23.9</td><td>0.2</td><td>45.2</td><td> 7.2</td><td>state</td><td>  0</td><td> 1.52</td></tr>\n",
       "\t<tr><th scope=row>Missouri.R</th><td> 7.8</td><td>45</td><td>11.2</td><td>0.3</td><td>34.9</td><td> 9.1</td><td>state</td><td>  0</td><td> 0.81</td></tr>\n",
       "\t<tr><th scope=row>Montana</th><td> 1.5</td><td>50</td><td>12.3</td><td>0.4</td><td>25.6</td><td>12.8</td><td>state</td><td> 75</td><td> 1.81</td></tr>\n",
       "\t<tr><th scope=row>Nebraska</th><td> 4.8</td><td>43</td><td>10.7</td><td>0.5</td><td>26.6</td><td> 9.7</td><td>state</td><td> 33</td><td> 0.36</td></tr>\n",
       "\t<tr><th scope=row>Nevada</th><td>13.0</td><td>88</td><td> 8.7</td><td>1.6</td><td>24.5</td><td>11.7</td><td>state</td><td> 10</td><td> 5.08</td></tr>\n",
       "\t<tr><th scope=row>New.Hampshire</th><td> 1.0</td><td>47</td><td> 8.5</td><td>0.8</td><td>27.7</td><td>20.3</td><td>state</td><td>  0</td><td>-1.49</td></tr>\n",
       "\t<tr><th scope=row>New.Jersey</th><td>19.0</td><td>64</td><td> 9.5</td><td>3.6</td><td>32.6</td><td>23.7</td><td>state</td><td>  0</td><td> 1.44</td></tr>\n",
       "\t<tr><th scope=row>New.Mexico</th><td>38.4</td><td>59</td><td>17.6</td><td>4.6</td><td>31.1</td><td>10.7</td><td>state</td><td> 58</td><td> 2.69</td></tr>\n",
       "\t<tr><th scope=row>New.York.R</th><td> 8.0</td><td>48</td><td> 8.9</td><td>1.3</td><td>29.3</td><td>21.6</td><td>state</td><td>  0</td><td>-1.48</td></tr>\n",
       "\t<tr><th scope=row>North.Carolina</th><td>23.1</td><td>46</td><td>14.8</td><td>0.2</td><td>45.2</td><td> 8.2</td><td>state</td><td>  0</td><td> 1.36</td></tr>\n",
       "\t<tr><th scope=row>North.Dakota</th><td> 1.0</td><td>30</td><td>12.6</td><td>0.5</td><td>33.6</td><td>15.1</td><td>state</td><td> 70</td><td> 0.35</td></tr>\n",
       "\t<tr><th scope=row>Ohio.R</th><td> 8.9</td><td>52</td><td> 9.6</td><td>0.5</td><td>32.1</td><td>11.3</td><td>state</td><td>  0</td><td> 0.97</td></tr>\n",
       "\t<tr><th scope=row>Oklahoma</th><td> 8.6</td><td>50</td><td>13.4</td><td>0.5</td><td>34.0</td><td> 8.0</td><td>state</td><td>  0</td><td>-0.12</td></tr>\n",
       "\t<tr><th scope=row>Oregon</th><td> 3.9</td><td>60</td><td>10.7</td><td>0.8</td><td>24.4</td><td> 7.9</td><td>state</td><td> 13</td><td> 0.93</td></tr>\n",
       "\t<tr><th scope=row>Pennsylvania.R</th><td> 4.8</td><td>33</td><td> 8.8</td><td>0.6</td><td>33.6</td><td>13.3</td><td>state</td><td>  0</td><td>-0.78</td></tr>\n",
       "\t<tr><th scope=row>Rhode.Island</th><td> 4.9</td><td>59</td><td>10.3</td><td>3.2</td><td>38.9</td><td>29.6</td><td>state</td><td>  0</td><td> 0.74</td></tr>\n",
       "\t<tr><th scope=row>South.Carolina</th><td>31.0</td><td>53</td><td>16.6</td><td>0.2</td><td>46.3</td><td> 7.9</td><td>state</td><td>  0</td><td> 6.19</td></tr>\n",
       "\t<tr><th scope=row>South.Dakota</th><td> 0.9</td><td>32</td><td>16.9</td><td>0.4</td><td>32.1</td><td>12.0</td><td>state</td><td> 84</td><td> 0.42</td></tr>\n",
       "\t<tr><th scope=row>Tennessee</th><td>16.4</td><td>44</td><td>16.4</td><td>0.2</td><td>43.8</td><td> 9.4</td><td>state</td><td>  0</td><td>-2.31</td></tr>\n",
       "\t<tr><th scope=row>Texas.R</th><td>30.6</td><td>55</td><td>15.0</td><td>4.7</td><td>38.7</td><td> 7.7</td><td>state</td><td>  1</td><td> 0.27</td></tr>\n",
       "\t<tr><th scope=row>Utah</th><td> 4.7</td><td>58</td><td>10.3</td><td>0.9</td><td>20.0</td><td>11.3</td><td>state</td><td> 14</td><td> 1.14</td></tr>\n",
       "\t<tr><th scope=row>Vermont</th><td> 0.9</td><td>50</td><td>12.1</td><td>0.5</td><td>29.0</td><td>20.8</td><td>state</td><td>  0</td><td>-1.12</td></tr>\n",
       "\t<tr><th scope=row>Virginia</th><td>20.0</td><td>46</td><td>11.8</td><td>0.5</td><td>37.6</td><td>10.3</td><td>state</td><td>  0</td><td> 1.11</td></tr>\n",
       "\t<tr><th scope=row>Washington</th><td> 5.4</td><td>69</td><td> 9.8</td><td>1.0</td><td>22.4</td><td> 9.4</td><td>state</td><td>  4</td><td> 1.48</td></tr>\n",
       "\t<tr><th scope=row>West.Virginia</th><td> 3.9</td><td>25</td><td>15.0</td><td>0.2</td><td>44.0</td><td> 9.0</td><td>state</td><td>  0</td><td>-0.69</td></tr>\n",
       "\t<tr><th scope=row>Wisconsin.R</th><td> 1.7</td><td>45</td><td> 7.9</td><td>0.4</td><td>29.5</td><td>12.8</td><td>state</td><td>  9</td><td> 1.45</td></tr>\n",
       "\t<tr><th scope=row>Wyoming</th><td> 5.9</td><td>49</td><td> 7.9</td><td>0.7</td><td>22.1</td><td>13.2</td><td>state</td><td>100</td><td> 4.01</td></tr>\n",
       "</tbody>\n",
       "</table>\n"
      ],
      "text/latex": [
       "A data.frame: 50 × 9\n",
       "\\begin{tabular}{r|lllllllll}\n",
       "  & minority & crime & poverty & language & highschool & housing & city & conventional & undercount\\\\\n",
       "  & <dbl> & <int> & <dbl> & <dbl> & <dbl> & <dbl> & <fct> & <int> & <dbl>\\\\\n",
       "\\hline\n",
       "\tAlabama & 26.1 & 49 & 18.9 & 0.2 & 43.5 &  7.6 & state &   0 & -0.04\\\\\n",
       "\tAlaska &  5.7 & 62 & 10.7 & 1.7 & 17.5 & 23.6 & state & 100 &  3.35\\\\\n",
       "\tArizona & 18.9 & 81 & 13.2 & 3.2 & 27.6 &  8.1 & state &  18 &  2.48\\\\\n",
       "\tArkansas & 16.9 & 38 & 19.0 & 0.2 & 44.5 &  7.0 & state &   0 & -0.74\\\\\n",
       "\tCalifornia.R & 24.3 & 73 & 10.4 & 5.0 & 26.0 & 11.8 & state &   4 &  3.60\\\\\n",
       "\tColorado & 15.2 & 73 & 10.1 & 1.2 & 21.4 &  9.2 & state &  19 &  1.34\\\\\n",
       "\tConnecticut & 10.8 & 58 &  8.0 & 2.4 & 29.7 & 21.0 & state &   0 & -0.26\\\\\n",
       "\tDelaware & 17.5 & 68 & 11.8 & 0.7 & 31.4 &  8.9 & state &   0 & -0.16\\\\\n",
       "\tFlorida & 22.3 & 81 & 13.4 & 3.6 & 33.3 & 10.1 & state &   0 &  2.20\\\\\n",
       "\tGeorgia & 27.6 & 55 & 16.6 & 0.3 & 43.6 & 10.2 & state &   0 &  0.37\\\\\n",
       "\tHawaii &  9.1 & 75 &  9.9 & 5.7 & 26.2 & 17.0 & state &  29 &  1.46\\\\\n",
       "\tIdaho &  4.2 & 48 & 12.6 & 1.0 & 26.3 &  9.1 & state &  56 &  1.53\\\\\n",
       "\tIllinois.R &  8.1 & 48 &  7.7 & 1.0 & 29.8 & 13.5 & state &   0 &  1.69\\\\\n",
       "\tIndiana.R &  7.1 & 48 &  9.4 & 0.5 & 33.6 &  9.9 & state &   0 & -0.68\\\\\n",
       "\tIowa &  2.3 & 47 & 10.1 & 0.3 & 28.5 & 10.4 & state &   0 & -0.59\\\\\n",
       "\tKansas &  7.9 & 54 & 10.1 & 0.5 & 26.7 &  8.5 & state &  14 &  0.94\\\\\n",
       "\tKentucky &  7.7 & 34 & 17.6 & 0.2 & 46.9 & 10.6 & state &   0 & -1.41\\\\\n",
       "\tLouisiana & 31.4 & 54 & 18.6 & 1.1 & 42.3 &  9.7 & state &   0 &  2.46\\\\\n",
       "\tMaine &  0.7 & 44 & 13.0 & 1.0 & 31.3 & 19.5 & state &  40 &  2.06\\\\\n",
       "\tMaryland.R & 16.7 & 58 &  6.8 & 0.8 & 28.2 & 10.5 & state &   0 &  2.03\\\\\n",
       "\tMassachusetts.R &  3.8 & 53 &  8.5 & 2.1 & 27.4 & 26.9 & state &   4 & -0.57\\\\\n",
       "\tMichigan.R &  7.0 & 61 &  8.7 & 0.7 & 29.9 &  9.4 & state &   8 &  0.89\\\\\n",
       "\tMinnesota &  2.1 & 48 &  9.5 & 0.5 & 26.9 & 10.7 & state &  11 &  1.57\\\\\n",
       "\tMississippi & 35.8 & 34 & 23.9 & 0.2 & 45.2 &  7.2 & state &   0 &  1.52\\\\\n",
       "\tMissouri.R &  7.8 & 45 & 11.2 & 0.3 & 34.9 &  9.1 & state &   0 &  0.81\\\\\n",
       "\tMontana &  1.5 & 50 & 12.3 & 0.4 & 25.6 & 12.8 & state &  75 &  1.81\\\\\n",
       "\tNebraska &  4.8 & 43 & 10.7 & 0.5 & 26.6 &  9.7 & state &  33 &  0.36\\\\\n",
       "\tNevada & 13.0 & 88 &  8.7 & 1.6 & 24.5 & 11.7 & state &  10 &  5.08\\\\\n",
       "\tNew.Hampshire &  1.0 & 47 &  8.5 & 0.8 & 27.7 & 20.3 & state &   0 & -1.49\\\\\n",
       "\tNew.Jersey & 19.0 & 64 &  9.5 & 3.6 & 32.6 & 23.7 & state &   0 &  1.44\\\\\n",
       "\tNew.Mexico & 38.4 & 59 & 17.6 & 4.6 & 31.1 & 10.7 & state &  58 &  2.69\\\\\n",
       "\tNew.York.R &  8.0 & 48 &  8.9 & 1.3 & 29.3 & 21.6 & state &   0 & -1.48\\\\\n",
       "\tNorth.Carolina & 23.1 & 46 & 14.8 & 0.2 & 45.2 &  8.2 & state &   0 &  1.36\\\\\n",
       "\tNorth.Dakota &  1.0 & 30 & 12.6 & 0.5 & 33.6 & 15.1 & state &  70 &  0.35\\\\\n",
       "\tOhio.R &  8.9 & 52 &  9.6 & 0.5 & 32.1 & 11.3 & state &   0 &  0.97\\\\\n",
       "\tOklahoma &  8.6 & 50 & 13.4 & 0.5 & 34.0 &  8.0 & state &   0 & -0.12\\\\\n",
       "\tOregon &  3.9 & 60 & 10.7 & 0.8 & 24.4 &  7.9 & state &  13 &  0.93\\\\\n",
       "\tPennsylvania.R &  4.8 & 33 &  8.8 & 0.6 & 33.6 & 13.3 & state &   0 & -0.78\\\\\n",
       "\tRhode.Island &  4.9 & 59 & 10.3 & 3.2 & 38.9 & 29.6 & state &   0 &  0.74\\\\\n",
       "\tSouth.Carolina & 31.0 & 53 & 16.6 & 0.2 & 46.3 &  7.9 & state &   0 &  6.19\\\\\n",
       "\tSouth.Dakota &  0.9 & 32 & 16.9 & 0.4 & 32.1 & 12.0 & state &  84 &  0.42\\\\\n",
       "\tTennessee & 16.4 & 44 & 16.4 & 0.2 & 43.8 &  9.4 & state &   0 & -2.31\\\\\n",
       "\tTexas.R & 30.6 & 55 & 15.0 & 4.7 & 38.7 &  7.7 & state &   1 &  0.27\\\\\n",
       "\tUtah &  4.7 & 58 & 10.3 & 0.9 & 20.0 & 11.3 & state &  14 &  1.14\\\\\n",
       "\tVermont &  0.9 & 50 & 12.1 & 0.5 & 29.0 & 20.8 & state &   0 & -1.12\\\\\n",
       "\tVirginia & 20.0 & 46 & 11.8 & 0.5 & 37.6 & 10.3 & state &   0 &  1.11\\\\\n",
       "\tWashington &  5.4 & 69 &  9.8 & 1.0 & 22.4 &  9.4 & state &   4 &  1.48\\\\\n",
       "\tWest.Virginia &  3.9 & 25 & 15.0 & 0.2 & 44.0 &  9.0 & state &   0 & -0.69\\\\\n",
       "\tWisconsin.R &  1.7 & 45 &  7.9 & 0.4 & 29.5 & 12.8 & state &   9 &  1.45\\\\\n",
       "\tWyoming &  5.9 & 49 &  7.9 & 0.7 & 22.1 & 13.2 & state & 100 &  4.01\\\\\n",
       "\\end{tabular}\n"
      ],
      "text/markdown": [
       "\n",
       "A data.frame: 50 × 9\n",
       "\n",
       "| <!--/--> | minority &lt;dbl&gt; | crime &lt;int&gt; | poverty &lt;dbl&gt; | language &lt;dbl&gt; | highschool &lt;dbl&gt; | housing &lt;dbl&gt; | city &lt;fct&gt; | conventional &lt;int&gt; | undercount &lt;dbl&gt; |\n",
       "|---|---|---|---|---|---|---|---|---|---|\n",
       "| Alabama | 26.1 | 49 | 18.9 | 0.2 | 43.5 |  7.6 | state |   0 | -0.04 |\n",
       "| Alaska |  5.7 | 62 | 10.7 | 1.7 | 17.5 | 23.6 | state | 100 |  3.35 |\n",
       "| Arizona | 18.9 | 81 | 13.2 | 3.2 | 27.6 |  8.1 | state |  18 |  2.48 |\n",
       "| Arkansas | 16.9 | 38 | 19.0 | 0.2 | 44.5 |  7.0 | state |   0 | -0.74 |\n",
       "| California.R | 24.3 | 73 | 10.4 | 5.0 | 26.0 | 11.8 | state |   4 |  3.60 |\n",
       "| Colorado | 15.2 | 73 | 10.1 | 1.2 | 21.4 |  9.2 | state |  19 |  1.34 |\n",
       "| Connecticut | 10.8 | 58 |  8.0 | 2.4 | 29.7 | 21.0 | state |   0 | -0.26 |\n",
       "| Delaware | 17.5 | 68 | 11.8 | 0.7 | 31.4 |  8.9 | state |   0 | -0.16 |\n",
       "| Florida | 22.3 | 81 | 13.4 | 3.6 | 33.3 | 10.1 | state |   0 |  2.20 |\n",
       "| Georgia | 27.6 | 55 | 16.6 | 0.3 | 43.6 | 10.2 | state |   0 |  0.37 |\n",
       "| Hawaii |  9.1 | 75 |  9.9 | 5.7 | 26.2 | 17.0 | state |  29 |  1.46 |\n",
       "| Idaho |  4.2 | 48 | 12.6 | 1.0 | 26.3 |  9.1 | state |  56 |  1.53 |\n",
       "| Illinois.R |  8.1 | 48 |  7.7 | 1.0 | 29.8 | 13.5 | state |   0 |  1.69 |\n",
       "| Indiana.R |  7.1 | 48 |  9.4 | 0.5 | 33.6 |  9.9 | state |   0 | -0.68 |\n",
       "| Iowa |  2.3 | 47 | 10.1 | 0.3 | 28.5 | 10.4 | state |   0 | -0.59 |\n",
       "| Kansas |  7.9 | 54 | 10.1 | 0.5 | 26.7 |  8.5 | state |  14 |  0.94 |\n",
       "| Kentucky |  7.7 | 34 | 17.6 | 0.2 | 46.9 | 10.6 | state |   0 | -1.41 |\n",
       "| Louisiana | 31.4 | 54 | 18.6 | 1.1 | 42.3 |  9.7 | state |   0 |  2.46 |\n",
       "| Maine |  0.7 | 44 | 13.0 | 1.0 | 31.3 | 19.5 | state |  40 |  2.06 |\n",
       "| Maryland.R | 16.7 | 58 |  6.8 | 0.8 | 28.2 | 10.5 | state |   0 |  2.03 |\n",
       "| Massachusetts.R |  3.8 | 53 |  8.5 | 2.1 | 27.4 | 26.9 | state |   4 | -0.57 |\n",
       "| Michigan.R |  7.0 | 61 |  8.7 | 0.7 | 29.9 |  9.4 | state |   8 |  0.89 |\n",
       "| Minnesota |  2.1 | 48 |  9.5 | 0.5 | 26.9 | 10.7 | state |  11 |  1.57 |\n",
       "| Mississippi | 35.8 | 34 | 23.9 | 0.2 | 45.2 |  7.2 | state |   0 |  1.52 |\n",
       "| Missouri.R |  7.8 | 45 | 11.2 | 0.3 | 34.9 |  9.1 | state |   0 |  0.81 |\n",
       "| Montana |  1.5 | 50 | 12.3 | 0.4 | 25.6 | 12.8 | state |  75 |  1.81 |\n",
       "| Nebraska |  4.8 | 43 | 10.7 | 0.5 | 26.6 |  9.7 | state |  33 |  0.36 |\n",
       "| Nevada | 13.0 | 88 |  8.7 | 1.6 | 24.5 | 11.7 | state |  10 |  5.08 |\n",
       "| New.Hampshire |  1.0 | 47 |  8.5 | 0.8 | 27.7 | 20.3 | state |   0 | -1.49 |\n",
       "| New.Jersey | 19.0 | 64 |  9.5 | 3.6 | 32.6 | 23.7 | state |   0 |  1.44 |\n",
       "| New.Mexico | 38.4 | 59 | 17.6 | 4.6 | 31.1 | 10.7 | state |  58 |  2.69 |\n",
       "| New.York.R |  8.0 | 48 |  8.9 | 1.3 | 29.3 | 21.6 | state |   0 | -1.48 |\n",
       "| North.Carolina | 23.1 | 46 | 14.8 | 0.2 | 45.2 |  8.2 | state |   0 |  1.36 |\n",
       "| North.Dakota |  1.0 | 30 | 12.6 | 0.5 | 33.6 | 15.1 | state |  70 |  0.35 |\n",
       "| Ohio.R |  8.9 | 52 |  9.6 | 0.5 | 32.1 | 11.3 | state |   0 |  0.97 |\n",
       "| Oklahoma |  8.6 | 50 | 13.4 | 0.5 | 34.0 |  8.0 | state |   0 | -0.12 |\n",
       "| Oregon |  3.9 | 60 | 10.7 | 0.8 | 24.4 |  7.9 | state |  13 |  0.93 |\n",
       "| Pennsylvania.R |  4.8 | 33 |  8.8 | 0.6 | 33.6 | 13.3 | state |   0 | -0.78 |\n",
       "| Rhode.Island |  4.9 | 59 | 10.3 | 3.2 | 38.9 | 29.6 | state |   0 |  0.74 |\n",
       "| South.Carolina | 31.0 | 53 | 16.6 | 0.2 | 46.3 |  7.9 | state |   0 |  6.19 |\n",
       "| South.Dakota |  0.9 | 32 | 16.9 | 0.4 | 32.1 | 12.0 | state |  84 |  0.42 |\n",
       "| Tennessee | 16.4 | 44 | 16.4 | 0.2 | 43.8 |  9.4 | state |   0 | -2.31 |\n",
       "| Texas.R | 30.6 | 55 | 15.0 | 4.7 | 38.7 |  7.7 | state |   1 |  0.27 |\n",
       "| Utah |  4.7 | 58 | 10.3 | 0.9 | 20.0 | 11.3 | state |  14 |  1.14 |\n",
       "| Vermont |  0.9 | 50 | 12.1 | 0.5 | 29.0 | 20.8 | state |   0 | -1.12 |\n",
       "| Virginia | 20.0 | 46 | 11.8 | 0.5 | 37.6 | 10.3 | state |   0 |  1.11 |\n",
       "| Washington |  5.4 | 69 |  9.8 | 1.0 | 22.4 |  9.4 | state |   4 |  1.48 |\n",
       "| West.Virginia |  3.9 | 25 | 15.0 | 0.2 | 44.0 |  9.0 | state |   0 | -0.69 |\n",
       "| Wisconsin.R |  1.7 | 45 |  7.9 | 0.4 | 29.5 | 12.8 | state |   9 |  1.45 |\n",
       "| Wyoming |  5.9 | 49 |  7.9 | 0.7 | 22.1 | 13.2 | state | 100 |  4.01 |\n",
       "\n"
      ],
      "text/plain": [
       "                minority crime poverty language highschool housing city \n",
       "Alabama         26.1     49    18.9    0.2      43.5        7.6    state\n",
       "Alaska           5.7     62    10.7    1.7      17.5       23.6    state\n",
       "Arizona         18.9     81    13.2    3.2      27.6        8.1    state\n",
       "Arkansas        16.9     38    19.0    0.2      44.5        7.0    state\n",
       "California.R    24.3     73    10.4    5.0      26.0       11.8    state\n",
       "Colorado        15.2     73    10.1    1.2      21.4        9.2    state\n",
       "Connecticut     10.8     58     8.0    2.4      29.7       21.0    state\n",
       "Delaware        17.5     68    11.8    0.7      31.4        8.9    state\n",
       "Florida         22.3     81    13.4    3.6      33.3       10.1    state\n",
       "Georgia         27.6     55    16.6    0.3      43.6       10.2    state\n",
       "Hawaii           9.1     75     9.9    5.7      26.2       17.0    state\n",
       "Idaho            4.2     48    12.6    1.0      26.3        9.1    state\n",
       "Illinois.R       8.1     48     7.7    1.0      29.8       13.5    state\n",
       "Indiana.R        7.1     48     9.4    0.5      33.6        9.9    state\n",
       "Iowa             2.3     47    10.1    0.3      28.5       10.4    state\n",
       "Kansas           7.9     54    10.1    0.5      26.7        8.5    state\n",
       "Kentucky         7.7     34    17.6    0.2      46.9       10.6    state\n",
       "Louisiana       31.4     54    18.6    1.1      42.3        9.7    state\n",
       "Maine            0.7     44    13.0    1.0      31.3       19.5    state\n",
       "Maryland.R      16.7     58     6.8    0.8      28.2       10.5    state\n",
       "Massachusetts.R  3.8     53     8.5    2.1      27.4       26.9    state\n",
       "Michigan.R       7.0     61     8.7    0.7      29.9        9.4    state\n",
       "Minnesota        2.1     48     9.5    0.5      26.9       10.7    state\n",
       "Mississippi     35.8     34    23.9    0.2      45.2        7.2    state\n",
       "Missouri.R       7.8     45    11.2    0.3      34.9        9.1    state\n",
       "Montana          1.5     50    12.3    0.4      25.6       12.8    state\n",
       "Nebraska         4.8     43    10.7    0.5      26.6        9.7    state\n",
       "Nevada          13.0     88     8.7    1.6      24.5       11.7    state\n",
       "New.Hampshire    1.0     47     8.5    0.8      27.7       20.3    state\n",
       "New.Jersey      19.0     64     9.5    3.6      32.6       23.7    state\n",
       "New.Mexico      38.4     59    17.6    4.6      31.1       10.7    state\n",
       "New.York.R       8.0     48     8.9    1.3      29.3       21.6    state\n",
       "North.Carolina  23.1     46    14.8    0.2      45.2        8.2    state\n",
       "North.Dakota     1.0     30    12.6    0.5      33.6       15.1    state\n",
       "Ohio.R           8.9     52     9.6    0.5      32.1       11.3    state\n",
       "Oklahoma         8.6     50    13.4    0.5      34.0        8.0    state\n",
       "Oregon           3.9     60    10.7    0.8      24.4        7.9    state\n",
       "Pennsylvania.R   4.8     33     8.8    0.6      33.6       13.3    state\n",
       "Rhode.Island     4.9     59    10.3    3.2      38.9       29.6    state\n",
       "South.Carolina  31.0     53    16.6    0.2      46.3        7.9    state\n",
       "South.Dakota     0.9     32    16.9    0.4      32.1       12.0    state\n",
       "Tennessee       16.4     44    16.4    0.2      43.8        9.4    state\n",
       "Texas.R         30.6     55    15.0    4.7      38.7        7.7    state\n",
       "Utah             4.7     58    10.3    0.9      20.0       11.3    state\n",
       "Vermont          0.9     50    12.1    0.5      29.0       20.8    state\n",
       "Virginia        20.0     46    11.8    0.5      37.6       10.3    state\n",
       "Washington       5.4     69     9.8    1.0      22.4        9.4    state\n",
       "West.Virginia    3.9     25    15.0    0.2      44.0        9.0    state\n",
       "Wisconsin.R      1.7     45     7.9    0.4      29.5       12.8    state\n",
       "Wyoming          5.9     49     7.9    0.7      22.1       13.2    state\n",
       "                conventional undercount\n",
       "Alabama           0          -0.04     \n",
       "Alaska          100           3.35     \n",
       "Arizona          18           2.48     \n",
       "Arkansas          0          -0.74     \n",
       "California.R      4           3.60     \n",
       "Colorado         19           1.34     \n",
       "Connecticut       0          -0.26     \n",
       "Delaware          0          -0.16     \n",
       "Florida           0           2.20     \n",
       "Georgia           0           0.37     \n",
       "Hawaii           29           1.46     \n",
       "Idaho            56           1.53     \n",
       "Illinois.R        0           1.69     \n",
       "Indiana.R         0          -0.68     \n",
       "Iowa              0          -0.59     \n",
       "Kansas           14           0.94     \n",
       "Kentucky          0          -1.41     \n",
       "Louisiana         0           2.46     \n",
       "Maine            40           2.06     \n",
       "Maryland.R        0           2.03     \n",
       "Massachusetts.R   4          -0.57     \n",
       "Michigan.R        8           0.89     \n",
       "Minnesota        11           1.57     \n",
       "Mississippi       0           1.52     \n",
       "Missouri.R        0           0.81     \n",
       "Montana          75           1.81     \n",
       "Nebraska         33           0.36     \n",
       "Nevada           10           5.08     \n",
       "New.Hampshire     0          -1.49     \n",
       "New.Jersey        0           1.44     \n",
       "New.Mexico       58           2.69     \n",
       "New.York.R        0          -1.48     \n",
       "North.Carolina    0           1.36     \n",
       "North.Dakota     70           0.35     \n",
       "Ohio.R            0           0.97     \n",
       "Oklahoma          0          -0.12     \n",
       "Oregon           13           0.93     \n",
       "Pennsylvania.R    0          -0.78     \n",
       "Rhode.Island      0           0.74     \n",
       "South.Carolina    0           6.19     \n",
       "South.Dakota     84           0.42     \n",
       "Tennessee         0          -2.31     \n",
       "Texas.R           1           0.27     \n",
       "Utah             14           1.14     \n",
       "Vermont           0          -1.12     \n",
       "Virginia          0           1.11     \n",
       "Washington        4           1.48     \n",
       "West.Virginia     0          -0.69     \n",
       "Wisconsin.R       9           1.45     \n",
       "Wyoming         100           4.01     "
      ]
     },
     "metadata": {},
     "output_type": "display_data"
    }
   ],
   "source": [
    "ds"
   ]
  },
  {
   "cell_type": "code",
   "execution_count": 7,
   "id": "afc6e0b8",
   "metadata": {},
   "outputs": [],
   "source": [
    "ds = Ericksen[Ericksen$city == 'state', ]"
   ]
  },
  {
   "cell_type": "code",
   "execution_count": 8,
   "id": "6c27fea5",
   "metadata": {},
   "outputs": [
    {
     "data": {
      "text/html": [
       "<table class=\"dataframe\">\n",
       "<caption>A data.frame: 50 × 9</caption>\n",
       "<thead>\n",
       "\t<tr><th></th><th scope=col>minority</th><th scope=col>crime</th><th scope=col>poverty</th><th scope=col>language</th><th scope=col>highschool</th><th scope=col>housing</th><th scope=col>city</th><th scope=col>conventional</th><th scope=col>undercount</th></tr>\n",
       "\t<tr><th></th><th scope=col>&lt;dbl&gt;</th><th scope=col>&lt;int&gt;</th><th scope=col>&lt;dbl&gt;</th><th scope=col>&lt;dbl&gt;</th><th scope=col>&lt;dbl&gt;</th><th scope=col>&lt;dbl&gt;</th><th scope=col>&lt;fct&gt;</th><th scope=col>&lt;int&gt;</th><th scope=col>&lt;dbl&gt;</th></tr>\n",
       "</thead>\n",
       "<tbody>\n",
       "\t<tr><th scope=row>Alabama</th><td>26.1</td><td>49</td><td>18.9</td><td>0.2</td><td>43.5</td><td> 7.6</td><td>state</td><td>  0</td><td>-0.04</td></tr>\n",
       "\t<tr><th scope=row>Alaska</th><td> 5.7</td><td>62</td><td>10.7</td><td>1.7</td><td>17.5</td><td>23.6</td><td>state</td><td>100</td><td> 3.35</td></tr>\n",
       "\t<tr><th scope=row>Arizona</th><td>18.9</td><td>81</td><td>13.2</td><td>3.2</td><td>27.6</td><td> 8.1</td><td>state</td><td> 18</td><td> 2.48</td></tr>\n",
       "\t<tr><th scope=row>Arkansas</th><td>16.9</td><td>38</td><td>19.0</td><td>0.2</td><td>44.5</td><td> 7.0</td><td>state</td><td>  0</td><td>-0.74</td></tr>\n",
       "\t<tr><th scope=row>California.R</th><td>24.3</td><td>73</td><td>10.4</td><td>5.0</td><td>26.0</td><td>11.8</td><td>state</td><td>  4</td><td> 3.60</td></tr>\n",
       "\t<tr><th scope=row>Colorado</th><td>15.2</td><td>73</td><td>10.1</td><td>1.2</td><td>21.4</td><td> 9.2</td><td>state</td><td> 19</td><td> 1.34</td></tr>\n",
       "\t<tr><th scope=row>Connecticut</th><td>10.8</td><td>58</td><td> 8.0</td><td>2.4</td><td>29.7</td><td>21.0</td><td>state</td><td>  0</td><td>-0.26</td></tr>\n",
       "\t<tr><th scope=row>Delaware</th><td>17.5</td><td>68</td><td>11.8</td><td>0.7</td><td>31.4</td><td> 8.9</td><td>state</td><td>  0</td><td>-0.16</td></tr>\n",
       "\t<tr><th scope=row>Florida</th><td>22.3</td><td>81</td><td>13.4</td><td>3.6</td><td>33.3</td><td>10.1</td><td>state</td><td>  0</td><td> 2.20</td></tr>\n",
       "\t<tr><th scope=row>Georgia</th><td>27.6</td><td>55</td><td>16.6</td><td>0.3</td><td>43.6</td><td>10.2</td><td>state</td><td>  0</td><td> 0.37</td></tr>\n",
       "\t<tr><th scope=row>Hawaii</th><td> 9.1</td><td>75</td><td> 9.9</td><td>5.7</td><td>26.2</td><td>17.0</td><td>state</td><td> 29</td><td> 1.46</td></tr>\n",
       "\t<tr><th scope=row>Idaho</th><td> 4.2</td><td>48</td><td>12.6</td><td>1.0</td><td>26.3</td><td> 9.1</td><td>state</td><td> 56</td><td> 1.53</td></tr>\n",
       "\t<tr><th scope=row>Illinois.R</th><td> 8.1</td><td>48</td><td> 7.7</td><td>1.0</td><td>29.8</td><td>13.5</td><td>state</td><td>  0</td><td> 1.69</td></tr>\n",
       "\t<tr><th scope=row>Indiana.R</th><td> 7.1</td><td>48</td><td> 9.4</td><td>0.5</td><td>33.6</td><td> 9.9</td><td>state</td><td>  0</td><td>-0.68</td></tr>\n",
       "\t<tr><th scope=row>Iowa</th><td> 2.3</td><td>47</td><td>10.1</td><td>0.3</td><td>28.5</td><td>10.4</td><td>state</td><td>  0</td><td>-0.59</td></tr>\n",
       "\t<tr><th scope=row>Kansas</th><td> 7.9</td><td>54</td><td>10.1</td><td>0.5</td><td>26.7</td><td> 8.5</td><td>state</td><td> 14</td><td> 0.94</td></tr>\n",
       "\t<tr><th scope=row>Kentucky</th><td> 7.7</td><td>34</td><td>17.6</td><td>0.2</td><td>46.9</td><td>10.6</td><td>state</td><td>  0</td><td>-1.41</td></tr>\n",
       "\t<tr><th scope=row>Louisiana</th><td>31.4</td><td>54</td><td>18.6</td><td>1.1</td><td>42.3</td><td> 9.7</td><td>state</td><td>  0</td><td> 2.46</td></tr>\n",
       "\t<tr><th scope=row>Maine</th><td> 0.7</td><td>44</td><td>13.0</td><td>1.0</td><td>31.3</td><td>19.5</td><td>state</td><td> 40</td><td> 2.06</td></tr>\n",
       "\t<tr><th scope=row>Maryland.R</th><td>16.7</td><td>58</td><td> 6.8</td><td>0.8</td><td>28.2</td><td>10.5</td><td>state</td><td>  0</td><td> 2.03</td></tr>\n",
       "\t<tr><th scope=row>Massachusetts.R</th><td> 3.8</td><td>53</td><td> 8.5</td><td>2.1</td><td>27.4</td><td>26.9</td><td>state</td><td>  4</td><td>-0.57</td></tr>\n",
       "\t<tr><th scope=row>Michigan.R</th><td> 7.0</td><td>61</td><td> 8.7</td><td>0.7</td><td>29.9</td><td> 9.4</td><td>state</td><td>  8</td><td> 0.89</td></tr>\n",
       "\t<tr><th scope=row>Minnesota</th><td> 2.1</td><td>48</td><td> 9.5</td><td>0.5</td><td>26.9</td><td>10.7</td><td>state</td><td> 11</td><td> 1.57</td></tr>\n",
       "\t<tr><th scope=row>Mississippi</th><td>35.8</td><td>34</td><td>23.9</td><td>0.2</td><td>45.2</td><td> 7.2</td><td>state</td><td>  0</td><td> 1.52</td></tr>\n",
       "\t<tr><th scope=row>Missouri.R</th><td> 7.8</td><td>45</td><td>11.2</td><td>0.3</td><td>34.9</td><td> 9.1</td><td>state</td><td>  0</td><td> 0.81</td></tr>\n",
       "\t<tr><th scope=row>Montana</th><td> 1.5</td><td>50</td><td>12.3</td><td>0.4</td><td>25.6</td><td>12.8</td><td>state</td><td> 75</td><td> 1.81</td></tr>\n",
       "\t<tr><th scope=row>Nebraska</th><td> 4.8</td><td>43</td><td>10.7</td><td>0.5</td><td>26.6</td><td> 9.7</td><td>state</td><td> 33</td><td> 0.36</td></tr>\n",
       "\t<tr><th scope=row>Nevada</th><td>13.0</td><td>88</td><td> 8.7</td><td>1.6</td><td>24.5</td><td>11.7</td><td>state</td><td> 10</td><td> 5.08</td></tr>\n",
       "\t<tr><th scope=row>New.Hampshire</th><td> 1.0</td><td>47</td><td> 8.5</td><td>0.8</td><td>27.7</td><td>20.3</td><td>state</td><td>  0</td><td>-1.49</td></tr>\n",
       "\t<tr><th scope=row>New.Jersey</th><td>19.0</td><td>64</td><td> 9.5</td><td>3.6</td><td>32.6</td><td>23.7</td><td>state</td><td>  0</td><td> 1.44</td></tr>\n",
       "\t<tr><th scope=row>New.Mexico</th><td>38.4</td><td>59</td><td>17.6</td><td>4.6</td><td>31.1</td><td>10.7</td><td>state</td><td> 58</td><td> 2.69</td></tr>\n",
       "\t<tr><th scope=row>New.York.R</th><td> 8.0</td><td>48</td><td> 8.9</td><td>1.3</td><td>29.3</td><td>21.6</td><td>state</td><td>  0</td><td>-1.48</td></tr>\n",
       "\t<tr><th scope=row>North.Carolina</th><td>23.1</td><td>46</td><td>14.8</td><td>0.2</td><td>45.2</td><td> 8.2</td><td>state</td><td>  0</td><td> 1.36</td></tr>\n",
       "\t<tr><th scope=row>North.Dakota</th><td> 1.0</td><td>30</td><td>12.6</td><td>0.5</td><td>33.6</td><td>15.1</td><td>state</td><td> 70</td><td> 0.35</td></tr>\n",
       "\t<tr><th scope=row>Ohio.R</th><td> 8.9</td><td>52</td><td> 9.6</td><td>0.5</td><td>32.1</td><td>11.3</td><td>state</td><td>  0</td><td> 0.97</td></tr>\n",
       "\t<tr><th scope=row>Oklahoma</th><td> 8.6</td><td>50</td><td>13.4</td><td>0.5</td><td>34.0</td><td> 8.0</td><td>state</td><td>  0</td><td>-0.12</td></tr>\n",
       "\t<tr><th scope=row>Oregon</th><td> 3.9</td><td>60</td><td>10.7</td><td>0.8</td><td>24.4</td><td> 7.9</td><td>state</td><td> 13</td><td> 0.93</td></tr>\n",
       "\t<tr><th scope=row>Pennsylvania.R</th><td> 4.8</td><td>33</td><td> 8.8</td><td>0.6</td><td>33.6</td><td>13.3</td><td>state</td><td>  0</td><td>-0.78</td></tr>\n",
       "\t<tr><th scope=row>Rhode.Island</th><td> 4.9</td><td>59</td><td>10.3</td><td>3.2</td><td>38.9</td><td>29.6</td><td>state</td><td>  0</td><td> 0.74</td></tr>\n",
       "\t<tr><th scope=row>South.Carolina</th><td>31.0</td><td>53</td><td>16.6</td><td>0.2</td><td>46.3</td><td> 7.9</td><td>state</td><td>  0</td><td> 6.19</td></tr>\n",
       "\t<tr><th scope=row>South.Dakota</th><td> 0.9</td><td>32</td><td>16.9</td><td>0.4</td><td>32.1</td><td>12.0</td><td>state</td><td> 84</td><td> 0.42</td></tr>\n",
       "\t<tr><th scope=row>Tennessee</th><td>16.4</td><td>44</td><td>16.4</td><td>0.2</td><td>43.8</td><td> 9.4</td><td>state</td><td>  0</td><td>-2.31</td></tr>\n",
       "\t<tr><th scope=row>Texas.R</th><td>30.6</td><td>55</td><td>15.0</td><td>4.7</td><td>38.7</td><td> 7.7</td><td>state</td><td>  1</td><td> 0.27</td></tr>\n",
       "\t<tr><th scope=row>Utah</th><td> 4.7</td><td>58</td><td>10.3</td><td>0.9</td><td>20.0</td><td>11.3</td><td>state</td><td> 14</td><td> 1.14</td></tr>\n",
       "\t<tr><th scope=row>Vermont</th><td> 0.9</td><td>50</td><td>12.1</td><td>0.5</td><td>29.0</td><td>20.8</td><td>state</td><td>  0</td><td>-1.12</td></tr>\n",
       "\t<tr><th scope=row>Virginia</th><td>20.0</td><td>46</td><td>11.8</td><td>0.5</td><td>37.6</td><td>10.3</td><td>state</td><td>  0</td><td> 1.11</td></tr>\n",
       "\t<tr><th scope=row>Washington</th><td> 5.4</td><td>69</td><td> 9.8</td><td>1.0</td><td>22.4</td><td> 9.4</td><td>state</td><td>  4</td><td> 1.48</td></tr>\n",
       "\t<tr><th scope=row>West.Virginia</th><td> 3.9</td><td>25</td><td>15.0</td><td>0.2</td><td>44.0</td><td> 9.0</td><td>state</td><td>  0</td><td>-0.69</td></tr>\n",
       "\t<tr><th scope=row>Wisconsin.R</th><td> 1.7</td><td>45</td><td> 7.9</td><td>0.4</td><td>29.5</td><td>12.8</td><td>state</td><td>  9</td><td> 1.45</td></tr>\n",
       "\t<tr><th scope=row>Wyoming</th><td> 5.9</td><td>49</td><td> 7.9</td><td>0.7</td><td>22.1</td><td>13.2</td><td>state</td><td>100</td><td> 4.01</td></tr>\n",
       "</tbody>\n",
       "</table>\n"
      ],
      "text/latex": [
       "A data.frame: 50 × 9\n",
       "\\begin{tabular}{r|lllllllll}\n",
       "  & minority & crime & poverty & language & highschool & housing & city & conventional & undercount\\\\\n",
       "  & <dbl> & <int> & <dbl> & <dbl> & <dbl> & <dbl> & <fct> & <int> & <dbl>\\\\\n",
       "\\hline\n",
       "\tAlabama & 26.1 & 49 & 18.9 & 0.2 & 43.5 &  7.6 & state &   0 & -0.04\\\\\n",
       "\tAlaska &  5.7 & 62 & 10.7 & 1.7 & 17.5 & 23.6 & state & 100 &  3.35\\\\\n",
       "\tArizona & 18.9 & 81 & 13.2 & 3.2 & 27.6 &  8.1 & state &  18 &  2.48\\\\\n",
       "\tArkansas & 16.9 & 38 & 19.0 & 0.2 & 44.5 &  7.0 & state &   0 & -0.74\\\\\n",
       "\tCalifornia.R & 24.3 & 73 & 10.4 & 5.0 & 26.0 & 11.8 & state &   4 &  3.60\\\\\n",
       "\tColorado & 15.2 & 73 & 10.1 & 1.2 & 21.4 &  9.2 & state &  19 &  1.34\\\\\n",
       "\tConnecticut & 10.8 & 58 &  8.0 & 2.4 & 29.7 & 21.0 & state &   0 & -0.26\\\\\n",
       "\tDelaware & 17.5 & 68 & 11.8 & 0.7 & 31.4 &  8.9 & state &   0 & -0.16\\\\\n",
       "\tFlorida & 22.3 & 81 & 13.4 & 3.6 & 33.3 & 10.1 & state &   0 &  2.20\\\\\n",
       "\tGeorgia & 27.6 & 55 & 16.6 & 0.3 & 43.6 & 10.2 & state &   0 &  0.37\\\\\n",
       "\tHawaii &  9.1 & 75 &  9.9 & 5.7 & 26.2 & 17.0 & state &  29 &  1.46\\\\\n",
       "\tIdaho &  4.2 & 48 & 12.6 & 1.0 & 26.3 &  9.1 & state &  56 &  1.53\\\\\n",
       "\tIllinois.R &  8.1 & 48 &  7.7 & 1.0 & 29.8 & 13.5 & state &   0 &  1.69\\\\\n",
       "\tIndiana.R &  7.1 & 48 &  9.4 & 0.5 & 33.6 &  9.9 & state &   0 & -0.68\\\\\n",
       "\tIowa &  2.3 & 47 & 10.1 & 0.3 & 28.5 & 10.4 & state &   0 & -0.59\\\\\n",
       "\tKansas &  7.9 & 54 & 10.1 & 0.5 & 26.7 &  8.5 & state &  14 &  0.94\\\\\n",
       "\tKentucky &  7.7 & 34 & 17.6 & 0.2 & 46.9 & 10.6 & state &   0 & -1.41\\\\\n",
       "\tLouisiana & 31.4 & 54 & 18.6 & 1.1 & 42.3 &  9.7 & state &   0 &  2.46\\\\\n",
       "\tMaine &  0.7 & 44 & 13.0 & 1.0 & 31.3 & 19.5 & state &  40 &  2.06\\\\\n",
       "\tMaryland.R & 16.7 & 58 &  6.8 & 0.8 & 28.2 & 10.5 & state &   0 &  2.03\\\\\n",
       "\tMassachusetts.R &  3.8 & 53 &  8.5 & 2.1 & 27.4 & 26.9 & state &   4 & -0.57\\\\\n",
       "\tMichigan.R &  7.0 & 61 &  8.7 & 0.7 & 29.9 &  9.4 & state &   8 &  0.89\\\\\n",
       "\tMinnesota &  2.1 & 48 &  9.5 & 0.5 & 26.9 & 10.7 & state &  11 &  1.57\\\\\n",
       "\tMississippi & 35.8 & 34 & 23.9 & 0.2 & 45.2 &  7.2 & state &   0 &  1.52\\\\\n",
       "\tMissouri.R &  7.8 & 45 & 11.2 & 0.3 & 34.9 &  9.1 & state &   0 &  0.81\\\\\n",
       "\tMontana &  1.5 & 50 & 12.3 & 0.4 & 25.6 & 12.8 & state &  75 &  1.81\\\\\n",
       "\tNebraska &  4.8 & 43 & 10.7 & 0.5 & 26.6 &  9.7 & state &  33 &  0.36\\\\\n",
       "\tNevada & 13.0 & 88 &  8.7 & 1.6 & 24.5 & 11.7 & state &  10 &  5.08\\\\\n",
       "\tNew.Hampshire &  1.0 & 47 &  8.5 & 0.8 & 27.7 & 20.3 & state &   0 & -1.49\\\\\n",
       "\tNew.Jersey & 19.0 & 64 &  9.5 & 3.6 & 32.6 & 23.7 & state &   0 &  1.44\\\\\n",
       "\tNew.Mexico & 38.4 & 59 & 17.6 & 4.6 & 31.1 & 10.7 & state &  58 &  2.69\\\\\n",
       "\tNew.York.R &  8.0 & 48 &  8.9 & 1.3 & 29.3 & 21.6 & state &   0 & -1.48\\\\\n",
       "\tNorth.Carolina & 23.1 & 46 & 14.8 & 0.2 & 45.2 &  8.2 & state &   0 &  1.36\\\\\n",
       "\tNorth.Dakota &  1.0 & 30 & 12.6 & 0.5 & 33.6 & 15.1 & state &  70 &  0.35\\\\\n",
       "\tOhio.R &  8.9 & 52 &  9.6 & 0.5 & 32.1 & 11.3 & state &   0 &  0.97\\\\\n",
       "\tOklahoma &  8.6 & 50 & 13.4 & 0.5 & 34.0 &  8.0 & state &   0 & -0.12\\\\\n",
       "\tOregon &  3.9 & 60 & 10.7 & 0.8 & 24.4 &  7.9 & state &  13 &  0.93\\\\\n",
       "\tPennsylvania.R &  4.8 & 33 &  8.8 & 0.6 & 33.6 & 13.3 & state &   0 & -0.78\\\\\n",
       "\tRhode.Island &  4.9 & 59 & 10.3 & 3.2 & 38.9 & 29.6 & state &   0 &  0.74\\\\\n",
       "\tSouth.Carolina & 31.0 & 53 & 16.6 & 0.2 & 46.3 &  7.9 & state &   0 &  6.19\\\\\n",
       "\tSouth.Dakota &  0.9 & 32 & 16.9 & 0.4 & 32.1 & 12.0 & state &  84 &  0.42\\\\\n",
       "\tTennessee & 16.4 & 44 & 16.4 & 0.2 & 43.8 &  9.4 & state &   0 & -2.31\\\\\n",
       "\tTexas.R & 30.6 & 55 & 15.0 & 4.7 & 38.7 &  7.7 & state &   1 &  0.27\\\\\n",
       "\tUtah &  4.7 & 58 & 10.3 & 0.9 & 20.0 & 11.3 & state &  14 &  1.14\\\\\n",
       "\tVermont &  0.9 & 50 & 12.1 & 0.5 & 29.0 & 20.8 & state &   0 & -1.12\\\\\n",
       "\tVirginia & 20.0 & 46 & 11.8 & 0.5 & 37.6 & 10.3 & state &   0 &  1.11\\\\\n",
       "\tWashington &  5.4 & 69 &  9.8 & 1.0 & 22.4 &  9.4 & state &   4 &  1.48\\\\\n",
       "\tWest.Virginia &  3.9 & 25 & 15.0 & 0.2 & 44.0 &  9.0 & state &   0 & -0.69\\\\\n",
       "\tWisconsin.R &  1.7 & 45 &  7.9 & 0.4 & 29.5 & 12.8 & state &   9 &  1.45\\\\\n",
       "\tWyoming &  5.9 & 49 &  7.9 & 0.7 & 22.1 & 13.2 & state & 100 &  4.01\\\\\n",
       "\\end{tabular}\n"
      ],
      "text/markdown": [
       "\n",
       "A data.frame: 50 × 9\n",
       "\n",
       "| <!--/--> | minority &lt;dbl&gt; | crime &lt;int&gt; | poverty &lt;dbl&gt; | language &lt;dbl&gt; | highschool &lt;dbl&gt; | housing &lt;dbl&gt; | city &lt;fct&gt; | conventional &lt;int&gt; | undercount &lt;dbl&gt; |\n",
       "|---|---|---|---|---|---|---|---|---|---|\n",
       "| Alabama | 26.1 | 49 | 18.9 | 0.2 | 43.5 |  7.6 | state |   0 | -0.04 |\n",
       "| Alaska |  5.7 | 62 | 10.7 | 1.7 | 17.5 | 23.6 | state | 100 |  3.35 |\n",
       "| Arizona | 18.9 | 81 | 13.2 | 3.2 | 27.6 |  8.1 | state |  18 |  2.48 |\n",
       "| Arkansas | 16.9 | 38 | 19.0 | 0.2 | 44.5 |  7.0 | state |   0 | -0.74 |\n",
       "| California.R | 24.3 | 73 | 10.4 | 5.0 | 26.0 | 11.8 | state |   4 |  3.60 |\n",
       "| Colorado | 15.2 | 73 | 10.1 | 1.2 | 21.4 |  9.2 | state |  19 |  1.34 |\n",
       "| Connecticut | 10.8 | 58 |  8.0 | 2.4 | 29.7 | 21.0 | state |   0 | -0.26 |\n",
       "| Delaware | 17.5 | 68 | 11.8 | 0.7 | 31.4 |  8.9 | state |   0 | -0.16 |\n",
       "| Florida | 22.3 | 81 | 13.4 | 3.6 | 33.3 | 10.1 | state |   0 |  2.20 |\n",
       "| Georgia | 27.6 | 55 | 16.6 | 0.3 | 43.6 | 10.2 | state |   0 |  0.37 |\n",
       "| Hawaii |  9.1 | 75 |  9.9 | 5.7 | 26.2 | 17.0 | state |  29 |  1.46 |\n",
       "| Idaho |  4.2 | 48 | 12.6 | 1.0 | 26.3 |  9.1 | state |  56 |  1.53 |\n",
       "| Illinois.R |  8.1 | 48 |  7.7 | 1.0 | 29.8 | 13.5 | state |   0 |  1.69 |\n",
       "| Indiana.R |  7.1 | 48 |  9.4 | 0.5 | 33.6 |  9.9 | state |   0 | -0.68 |\n",
       "| Iowa |  2.3 | 47 | 10.1 | 0.3 | 28.5 | 10.4 | state |   0 | -0.59 |\n",
       "| Kansas |  7.9 | 54 | 10.1 | 0.5 | 26.7 |  8.5 | state |  14 |  0.94 |\n",
       "| Kentucky |  7.7 | 34 | 17.6 | 0.2 | 46.9 | 10.6 | state |   0 | -1.41 |\n",
       "| Louisiana | 31.4 | 54 | 18.6 | 1.1 | 42.3 |  9.7 | state |   0 |  2.46 |\n",
       "| Maine |  0.7 | 44 | 13.0 | 1.0 | 31.3 | 19.5 | state |  40 |  2.06 |\n",
       "| Maryland.R | 16.7 | 58 |  6.8 | 0.8 | 28.2 | 10.5 | state |   0 |  2.03 |\n",
       "| Massachusetts.R |  3.8 | 53 |  8.5 | 2.1 | 27.4 | 26.9 | state |   4 | -0.57 |\n",
       "| Michigan.R |  7.0 | 61 |  8.7 | 0.7 | 29.9 |  9.4 | state |   8 |  0.89 |\n",
       "| Minnesota |  2.1 | 48 |  9.5 | 0.5 | 26.9 | 10.7 | state |  11 |  1.57 |\n",
       "| Mississippi | 35.8 | 34 | 23.9 | 0.2 | 45.2 |  7.2 | state |   0 |  1.52 |\n",
       "| Missouri.R |  7.8 | 45 | 11.2 | 0.3 | 34.9 |  9.1 | state |   0 |  0.81 |\n",
       "| Montana |  1.5 | 50 | 12.3 | 0.4 | 25.6 | 12.8 | state |  75 |  1.81 |\n",
       "| Nebraska |  4.8 | 43 | 10.7 | 0.5 | 26.6 |  9.7 | state |  33 |  0.36 |\n",
       "| Nevada | 13.0 | 88 |  8.7 | 1.6 | 24.5 | 11.7 | state |  10 |  5.08 |\n",
       "| New.Hampshire |  1.0 | 47 |  8.5 | 0.8 | 27.7 | 20.3 | state |   0 | -1.49 |\n",
       "| New.Jersey | 19.0 | 64 |  9.5 | 3.6 | 32.6 | 23.7 | state |   0 |  1.44 |\n",
       "| New.Mexico | 38.4 | 59 | 17.6 | 4.6 | 31.1 | 10.7 | state |  58 |  2.69 |\n",
       "| New.York.R |  8.0 | 48 |  8.9 | 1.3 | 29.3 | 21.6 | state |   0 | -1.48 |\n",
       "| North.Carolina | 23.1 | 46 | 14.8 | 0.2 | 45.2 |  8.2 | state |   0 |  1.36 |\n",
       "| North.Dakota |  1.0 | 30 | 12.6 | 0.5 | 33.6 | 15.1 | state |  70 |  0.35 |\n",
       "| Ohio.R |  8.9 | 52 |  9.6 | 0.5 | 32.1 | 11.3 | state |   0 |  0.97 |\n",
       "| Oklahoma |  8.6 | 50 | 13.4 | 0.5 | 34.0 |  8.0 | state |   0 | -0.12 |\n",
       "| Oregon |  3.9 | 60 | 10.7 | 0.8 | 24.4 |  7.9 | state |  13 |  0.93 |\n",
       "| Pennsylvania.R |  4.8 | 33 |  8.8 | 0.6 | 33.6 | 13.3 | state |   0 | -0.78 |\n",
       "| Rhode.Island |  4.9 | 59 | 10.3 | 3.2 | 38.9 | 29.6 | state |   0 |  0.74 |\n",
       "| South.Carolina | 31.0 | 53 | 16.6 | 0.2 | 46.3 |  7.9 | state |   0 |  6.19 |\n",
       "| South.Dakota |  0.9 | 32 | 16.9 | 0.4 | 32.1 | 12.0 | state |  84 |  0.42 |\n",
       "| Tennessee | 16.4 | 44 | 16.4 | 0.2 | 43.8 |  9.4 | state |   0 | -2.31 |\n",
       "| Texas.R | 30.6 | 55 | 15.0 | 4.7 | 38.7 |  7.7 | state |   1 |  0.27 |\n",
       "| Utah |  4.7 | 58 | 10.3 | 0.9 | 20.0 | 11.3 | state |  14 |  1.14 |\n",
       "| Vermont |  0.9 | 50 | 12.1 | 0.5 | 29.0 | 20.8 | state |   0 | -1.12 |\n",
       "| Virginia | 20.0 | 46 | 11.8 | 0.5 | 37.6 | 10.3 | state |   0 |  1.11 |\n",
       "| Washington |  5.4 | 69 |  9.8 | 1.0 | 22.4 |  9.4 | state |   4 |  1.48 |\n",
       "| West.Virginia |  3.9 | 25 | 15.0 | 0.2 | 44.0 |  9.0 | state |   0 | -0.69 |\n",
       "| Wisconsin.R |  1.7 | 45 |  7.9 | 0.4 | 29.5 | 12.8 | state |   9 |  1.45 |\n",
       "| Wyoming |  5.9 | 49 |  7.9 | 0.7 | 22.1 | 13.2 | state | 100 |  4.01 |\n",
       "\n"
      ],
      "text/plain": [
       "                minority crime poverty language highschool housing city \n",
       "Alabama         26.1     49    18.9    0.2      43.5        7.6    state\n",
       "Alaska           5.7     62    10.7    1.7      17.5       23.6    state\n",
       "Arizona         18.9     81    13.2    3.2      27.6        8.1    state\n",
       "Arkansas        16.9     38    19.0    0.2      44.5        7.0    state\n",
       "California.R    24.3     73    10.4    5.0      26.0       11.8    state\n",
       "Colorado        15.2     73    10.1    1.2      21.4        9.2    state\n",
       "Connecticut     10.8     58     8.0    2.4      29.7       21.0    state\n",
       "Delaware        17.5     68    11.8    0.7      31.4        8.9    state\n",
       "Florida         22.3     81    13.4    3.6      33.3       10.1    state\n",
       "Georgia         27.6     55    16.6    0.3      43.6       10.2    state\n",
       "Hawaii           9.1     75     9.9    5.7      26.2       17.0    state\n",
       "Idaho            4.2     48    12.6    1.0      26.3        9.1    state\n",
       "Illinois.R       8.1     48     7.7    1.0      29.8       13.5    state\n",
       "Indiana.R        7.1     48     9.4    0.5      33.6        9.9    state\n",
       "Iowa             2.3     47    10.1    0.3      28.5       10.4    state\n",
       "Kansas           7.9     54    10.1    0.5      26.7        8.5    state\n",
       "Kentucky         7.7     34    17.6    0.2      46.9       10.6    state\n",
       "Louisiana       31.4     54    18.6    1.1      42.3        9.7    state\n",
       "Maine            0.7     44    13.0    1.0      31.3       19.5    state\n",
       "Maryland.R      16.7     58     6.8    0.8      28.2       10.5    state\n",
       "Massachusetts.R  3.8     53     8.5    2.1      27.4       26.9    state\n",
       "Michigan.R       7.0     61     8.7    0.7      29.9        9.4    state\n",
       "Minnesota        2.1     48     9.5    0.5      26.9       10.7    state\n",
       "Mississippi     35.8     34    23.9    0.2      45.2        7.2    state\n",
       "Missouri.R       7.8     45    11.2    0.3      34.9        9.1    state\n",
       "Montana          1.5     50    12.3    0.4      25.6       12.8    state\n",
       "Nebraska         4.8     43    10.7    0.5      26.6        9.7    state\n",
       "Nevada          13.0     88     8.7    1.6      24.5       11.7    state\n",
       "New.Hampshire    1.0     47     8.5    0.8      27.7       20.3    state\n",
       "New.Jersey      19.0     64     9.5    3.6      32.6       23.7    state\n",
       "New.Mexico      38.4     59    17.6    4.6      31.1       10.7    state\n",
       "New.York.R       8.0     48     8.9    1.3      29.3       21.6    state\n",
       "North.Carolina  23.1     46    14.8    0.2      45.2        8.2    state\n",
       "North.Dakota     1.0     30    12.6    0.5      33.6       15.1    state\n",
       "Ohio.R           8.9     52     9.6    0.5      32.1       11.3    state\n",
       "Oklahoma         8.6     50    13.4    0.5      34.0        8.0    state\n",
       "Oregon           3.9     60    10.7    0.8      24.4        7.9    state\n",
       "Pennsylvania.R   4.8     33     8.8    0.6      33.6       13.3    state\n",
       "Rhode.Island     4.9     59    10.3    3.2      38.9       29.6    state\n",
       "South.Carolina  31.0     53    16.6    0.2      46.3        7.9    state\n",
       "South.Dakota     0.9     32    16.9    0.4      32.1       12.0    state\n",
       "Tennessee       16.4     44    16.4    0.2      43.8        9.4    state\n",
       "Texas.R         30.6     55    15.0    4.7      38.7        7.7    state\n",
       "Utah             4.7     58    10.3    0.9      20.0       11.3    state\n",
       "Vermont          0.9     50    12.1    0.5      29.0       20.8    state\n",
       "Virginia        20.0     46    11.8    0.5      37.6       10.3    state\n",
       "Washington       5.4     69     9.8    1.0      22.4        9.4    state\n",
       "West.Virginia    3.9     25    15.0    0.2      44.0        9.0    state\n",
       "Wisconsin.R      1.7     45     7.9    0.4      29.5       12.8    state\n",
       "Wyoming          5.9     49     7.9    0.7      22.1       13.2    state\n",
       "                conventional undercount\n",
       "Alabama           0          -0.04     \n",
       "Alaska          100           3.35     \n",
       "Arizona          18           2.48     \n",
       "Arkansas          0          -0.74     \n",
       "California.R      4           3.60     \n",
       "Colorado         19           1.34     \n",
       "Connecticut       0          -0.26     \n",
       "Delaware          0          -0.16     \n",
       "Florida           0           2.20     \n",
       "Georgia           0           0.37     \n",
       "Hawaii           29           1.46     \n",
       "Idaho            56           1.53     \n",
       "Illinois.R        0           1.69     \n",
       "Indiana.R         0          -0.68     \n",
       "Iowa              0          -0.59     \n",
       "Kansas           14           0.94     \n",
       "Kentucky          0          -1.41     \n",
       "Louisiana         0           2.46     \n",
       "Maine            40           2.06     \n",
       "Maryland.R        0           2.03     \n",
       "Massachusetts.R   4          -0.57     \n",
       "Michigan.R        8           0.89     \n",
       "Minnesota        11           1.57     \n",
       "Mississippi       0           1.52     \n",
       "Missouri.R        0           0.81     \n",
       "Montana          75           1.81     \n",
       "Nebraska         33           0.36     \n",
       "Nevada           10           5.08     \n",
       "New.Hampshire     0          -1.49     \n",
       "New.Jersey        0           1.44     \n",
       "New.Mexico       58           2.69     \n",
       "New.York.R        0          -1.48     \n",
       "North.Carolina    0           1.36     \n",
       "North.Dakota     70           0.35     \n",
       "Ohio.R            0           0.97     \n",
       "Oklahoma          0          -0.12     \n",
       "Oregon           13           0.93     \n",
       "Pennsylvania.R    0          -0.78     \n",
       "Rhode.Island      0           0.74     \n",
       "South.Carolina    0           6.19     \n",
       "South.Dakota     84           0.42     \n",
       "Tennessee         0          -2.31     \n",
       "Texas.R           1           0.27     \n",
       "Utah             14           1.14     \n",
       "Vermont           0          -1.12     \n",
       "Virginia          0           1.11     \n",
       "Washington        4           1.48     \n",
       "West.Virginia     0          -0.69     \n",
       "Wisconsin.R       9           1.45     \n",
       "Wyoming         100           4.01     "
      ]
     },
     "metadata": {},
     "output_type": "display_data"
    }
   ],
   "source": [
    "ds"
   ]
  },
  {
   "cell_type": "code",
   "execution_count": 9,
   "id": "d4f48fda",
   "metadata": {},
   "outputs": [],
   "source": [
    "ds$stdname = rownames(ds)"
   ]
  },
  {
   "cell_type": "code",
   "execution_count": 10,
   "id": "665a50b5",
   "metadata": {},
   "outputs": [
    {
     "data": {
      "text/html": [
       "<table class=\"dataframe\">\n",
       "<caption>A data.frame: 50 × 10</caption>\n",
       "<thead>\n",
       "\t<tr><th></th><th scope=col>minority</th><th scope=col>crime</th><th scope=col>poverty</th><th scope=col>language</th><th scope=col>highschool</th><th scope=col>housing</th><th scope=col>city</th><th scope=col>conventional</th><th scope=col>undercount</th><th scope=col>stdname</th></tr>\n",
       "\t<tr><th></th><th scope=col>&lt;dbl&gt;</th><th scope=col>&lt;int&gt;</th><th scope=col>&lt;dbl&gt;</th><th scope=col>&lt;dbl&gt;</th><th scope=col>&lt;dbl&gt;</th><th scope=col>&lt;dbl&gt;</th><th scope=col>&lt;fct&gt;</th><th scope=col>&lt;int&gt;</th><th scope=col>&lt;dbl&gt;</th><th scope=col>&lt;chr&gt;</th></tr>\n",
       "</thead>\n",
       "<tbody>\n",
       "\t<tr><th scope=row>Alabama</th><td>26.1</td><td>49</td><td>18.9</td><td>0.2</td><td>43.5</td><td> 7.6</td><td>state</td><td>  0</td><td>-0.04</td><td>Alabama        </td></tr>\n",
       "\t<tr><th scope=row>Alaska</th><td> 5.7</td><td>62</td><td>10.7</td><td>1.7</td><td>17.5</td><td>23.6</td><td>state</td><td>100</td><td> 3.35</td><td>Alaska         </td></tr>\n",
       "\t<tr><th scope=row>Arizona</th><td>18.9</td><td>81</td><td>13.2</td><td>3.2</td><td>27.6</td><td> 8.1</td><td>state</td><td> 18</td><td> 2.48</td><td>Arizona        </td></tr>\n",
       "\t<tr><th scope=row>Arkansas</th><td>16.9</td><td>38</td><td>19.0</td><td>0.2</td><td>44.5</td><td> 7.0</td><td>state</td><td>  0</td><td>-0.74</td><td>Arkansas       </td></tr>\n",
       "\t<tr><th scope=row>California.R</th><td>24.3</td><td>73</td><td>10.4</td><td>5.0</td><td>26.0</td><td>11.8</td><td>state</td><td>  4</td><td> 3.60</td><td>California.R   </td></tr>\n",
       "\t<tr><th scope=row>Colorado</th><td>15.2</td><td>73</td><td>10.1</td><td>1.2</td><td>21.4</td><td> 9.2</td><td>state</td><td> 19</td><td> 1.34</td><td>Colorado       </td></tr>\n",
       "\t<tr><th scope=row>Connecticut</th><td>10.8</td><td>58</td><td> 8.0</td><td>2.4</td><td>29.7</td><td>21.0</td><td>state</td><td>  0</td><td>-0.26</td><td>Connecticut    </td></tr>\n",
       "\t<tr><th scope=row>Delaware</th><td>17.5</td><td>68</td><td>11.8</td><td>0.7</td><td>31.4</td><td> 8.9</td><td>state</td><td>  0</td><td>-0.16</td><td>Delaware       </td></tr>\n",
       "\t<tr><th scope=row>Florida</th><td>22.3</td><td>81</td><td>13.4</td><td>3.6</td><td>33.3</td><td>10.1</td><td>state</td><td>  0</td><td> 2.20</td><td>Florida        </td></tr>\n",
       "\t<tr><th scope=row>Georgia</th><td>27.6</td><td>55</td><td>16.6</td><td>0.3</td><td>43.6</td><td>10.2</td><td>state</td><td>  0</td><td> 0.37</td><td>Georgia        </td></tr>\n",
       "\t<tr><th scope=row>Hawaii</th><td> 9.1</td><td>75</td><td> 9.9</td><td>5.7</td><td>26.2</td><td>17.0</td><td>state</td><td> 29</td><td> 1.46</td><td>Hawaii         </td></tr>\n",
       "\t<tr><th scope=row>Idaho</th><td> 4.2</td><td>48</td><td>12.6</td><td>1.0</td><td>26.3</td><td> 9.1</td><td>state</td><td> 56</td><td> 1.53</td><td>Idaho          </td></tr>\n",
       "\t<tr><th scope=row>Illinois.R</th><td> 8.1</td><td>48</td><td> 7.7</td><td>1.0</td><td>29.8</td><td>13.5</td><td>state</td><td>  0</td><td> 1.69</td><td>Illinois.R     </td></tr>\n",
       "\t<tr><th scope=row>Indiana.R</th><td> 7.1</td><td>48</td><td> 9.4</td><td>0.5</td><td>33.6</td><td> 9.9</td><td>state</td><td>  0</td><td>-0.68</td><td>Indiana.R      </td></tr>\n",
       "\t<tr><th scope=row>Iowa</th><td> 2.3</td><td>47</td><td>10.1</td><td>0.3</td><td>28.5</td><td>10.4</td><td>state</td><td>  0</td><td>-0.59</td><td>Iowa           </td></tr>\n",
       "\t<tr><th scope=row>Kansas</th><td> 7.9</td><td>54</td><td>10.1</td><td>0.5</td><td>26.7</td><td> 8.5</td><td>state</td><td> 14</td><td> 0.94</td><td>Kansas         </td></tr>\n",
       "\t<tr><th scope=row>Kentucky</th><td> 7.7</td><td>34</td><td>17.6</td><td>0.2</td><td>46.9</td><td>10.6</td><td>state</td><td>  0</td><td>-1.41</td><td>Kentucky       </td></tr>\n",
       "\t<tr><th scope=row>Louisiana</th><td>31.4</td><td>54</td><td>18.6</td><td>1.1</td><td>42.3</td><td> 9.7</td><td>state</td><td>  0</td><td> 2.46</td><td>Louisiana      </td></tr>\n",
       "\t<tr><th scope=row>Maine</th><td> 0.7</td><td>44</td><td>13.0</td><td>1.0</td><td>31.3</td><td>19.5</td><td>state</td><td> 40</td><td> 2.06</td><td>Maine          </td></tr>\n",
       "\t<tr><th scope=row>Maryland.R</th><td>16.7</td><td>58</td><td> 6.8</td><td>0.8</td><td>28.2</td><td>10.5</td><td>state</td><td>  0</td><td> 2.03</td><td>Maryland.R     </td></tr>\n",
       "\t<tr><th scope=row>Massachusetts.R</th><td> 3.8</td><td>53</td><td> 8.5</td><td>2.1</td><td>27.4</td><td>26.9</td><td>state</td><td>  4</td><td>-0.57</td><td>Massachusetts.R</td></tr>\n",
       "\t<tr><th scope=row>Michigan.R</th><td> 7.0</td><td>61</td><td> 8.7</td><td>0.7</td><td>29.9</td><td> 9.4</td><td>state</td><td>  8</td><td> 0.89</td><td>Michigan.R     </td></tr>\n",
       "\t<tr><th scope=row>Minnesota</th><td> 2.1</td><td>48</td><td> 9.5</td><td>0.5</td><td>26.9</td><td>10.7</td><td>state</td><td> 11</td><td> 1.57</td><td>Minnesota      </td></tr>\n",
       "\t<tr><th scope=row>Mississippi</th><td>35.8</td><td>34</td><td>23.9</td><td>0.2</td><td>45.2</td><td> 7.2</td><td>state</td><td>  0</td><td> 1.52</td><td>Mississippi    </td></tr>\n",
       "\t<tr><th scope=row>Missouri.R</th><td> 7.8</td><td>45</td><td>11.2</td><td>0.3</td><td>34.9</td><td> 9.1</td><td>state</td><td>  0</td><td> 0.81</td><td>Missouri.R     </td></tr>\n",
       "\t<tr><th scope=row>Montana</th><td> 1.5</td><td>50</td><td>12.3</td><td>0.4</td><td>25.6</td><td>12.8</td><td>state</td><td> 75</td><td> 1.81</td><td>Montana        </td></tr>\n",
       "\t<tr><th scope=row>Nebraska</th><td> 4.8</td><td>43</td><td>10.7</td><td>0.5</td><td>26.6</td><td> 9.7</td><td>state</td><td> 33</td><td> 0.36</td><td>Nebraska       </td></tr>\n",
       "\t<tr><th scope=row>Nevada</th><td>13.0</td><td>88</td><td> 8.7</td><td>1.6</td><td>24.5</td><td>11.7</td><td>state</td><td> 10</td><td> 5.08</td><td>Nevada         </td></tr>\n",
       "\t<tr><th scope=row>New.Hampshire</th><td> 1.0</td><td>47</td><td> 8.5</td><td>0.8</td><td>27.7</td><td>20.3</td><td>state</td><td>  0</td><td>-1.49</td><td>New.Hampshire  </td></tr>\n",
       "\t<tr><th scope=row>New.Jersey</th><td>19.0</td><td>64</td><td> 9.5</td><td>3.6</td><td>32.6</td><td>23.7</td><td>state</td><td>  0</td><td> 1.44</td><td>New.Jersey     </td></tr>\n",
       "\t<tr><th scope=row>New.Mexico</th><td>38.4</td><td>59</td><td>17.6</td><td>4.6</td><td>31.1</td><td>10.7</td><td>state</td><td> 58</td><td> 2.69</td><td>New.Mexico     </td></tr>\n",
       "\t<tr><th scope=row>New.York.R</th><td> 8.0</td><td>48</td><td> 8.9</td><td>1.3</td><td>29.3</td><td>21.6</td><td>state</td><td>  0</td><td>-1.48</td><td>New.York.R     </td></tr>\n",
       "\t<tr><th scope=row>North.Carolina</th><td>23.1</td><td>46</td><td>14.8</td><td>0.2</td><td>45.2</td><td> 8.2</td><td>state</td><td>  0</td><td> 1.36</td><td>North.Carolina </td></tr>\n",
       "\t<tr><th scope=row>North.Dakota</th><td> 1.0</td><td>30</td><td>12.6</td><td>0.5</td><td>33.6</td><td>15.1</td><td>state</td><td> 70</td><td> 0.35</td><td>North.Dakota   </td></tr>\n",
       "\t<tr><th scope=row>Ohio.R</th><td> 8.9</td><td>52</td><td> 9.6</td><td>0.5</td><td>32.1</td><td>11.3</td><td>state</td><td>  0</td><td> 0.97</td><td>Ohio.R         </td></tr>\n",
       "\t<tr><th scope=row>Oklahoma</th><td> 8.6</td><td>50</td><td>13.4</td><td>0.5</td><td>34.0</td><td> 8.0</td><td>state</td><td>  0</td><td>-0.12</td><td>Oklahoma       </td></tr>\n",
       "\t<tr><th scope=row>Oregon</th><td> 3.9</td><td>60</td><td>10.7</td><td>0.8</td><td>24.4</td><td> 7.9</td><td>state</td><td> 13</td><td> 0.93</td><td>Oregon         </td></tr>\n",
       "\t<tr><th scope=row>Pennsylvania.R</th><td> 4.8</td><td>33</td><td> 8.8</td><td>0.6</td><td>33.6</td><td>13.3</td><td>state</td><td>  0</td><td>-0.78</td><td>Pennsylvania.R </td></tr>\n",
       "\t<tr><th scope=row>Rhode.Island</th><td> 4.9</td><td>59</td><td>10.3</td><td>3.2</td><td>38.9</td><td>29.6</td><td>state</td><td>  0</td><td> 0.74</td><td>Rhode.Island   </td></tr>\n",
       "\t<tr><th scope=row>South.Carolina</th><td>31.0</td><td>53</td><td>16.6</td><td>0.2</td><td>46.3</td><td> 7.9</td><td>state</td><td>  0</td><td> 6.19</td><td>South.Carolina </td></tr>\n",
       "\t<tr><th scope=row>South.Dakota</th><td> 0.9</td><td>32</td><td>16.9</td><td>0.4</td><td>32.1</td><td>12.0</td><td>state</td><td> 84</td><td> 0.42</td><td>South.Dakota   </td></tr>\n",
       "\t<tr><th scope=row>Tennessee</th><td>16.4</td><td>44</td><td>16.4</td><td>0.2</td><td>43.8</td><td> 9.4</td><td>state</td><td>  0</td><td>-2.31</td><td>Tennessee      </td></tr>\n",
       "\t<tr><th scope=row>Texas.R</th><td>30.6</td><td>55</td><td>15.0</td><td>4.7</td><td>38.7</td><td> 7.7</td><td>state</td><td>  1</td><td> 0.27</td><td>Texas.R        </td></tr>\n",
       "\t<tr><th scope=row>Utah</th><td> 4.7</td><td>58</td><td>10.3</td><td>0.9</td><td>20.0</td><td>11.3</td><td>state</td><td> 14</td><td> 1.14</td><td>Utah           </td></tr>\n",
       "\t<tr><th scope=row>Vermont</th><td> 0.9</td><td>50</td><td>12.1</td><td>0.5</td><td>29.0</td><td>20.8</td><td>state</td><td>  0</td><td>-1.12</td><td>Vermont        </td></tr>\n",
       "\t<tr><th scope=row>Virginia</th><td>20.0</td><td>46</td><td>11.8</td><td>0.5</td><td>37.6</td><td>10.3</td><td>state</td><td>  0</td><td> 1.11</td><td>Virginia       </td></tr>\n",
       "\t<tr><th scope=row>Washington</th><td> 5.4</td><td>69</td><td> 9.8</td><td>1.0</td><td>22.4</td><td> 9.4</td><td>state</td><td>  4</td><td> 1.48</td><td>Washington     </td></tr>\n",
       "\t<tr><th scope=row>West.Virginia</th><td> 3.9</td><td>25</td><td>15.0</td><td>0.2</td><td>44.0</td><td> 9.0</td><td>state</td><td>  0</td><td>-0.69</td><td>West.Virginia  </td></tr>\n",
       "\t<tr><th scope=row>Wisconsin.R</th><td> 1.7</td><td>45</td><td> 7.9</td><td>0.4</td><td>29.5</td><td>12.8</td><td>state</td><td>  9</td><td> 1.45</td><td>Wisconsin.R    </td></tr>\n",
       "\t<tr><th scope=row>Wyoming</th><td> 5.9</td><td>49</td><td> 7.9</td><td>0.7</td><td>22.1</td><td>13.2</td><td>state</td><td>100</td><td> 4.01</td><td>Wyoming        </td></tr>\n",
       "</tbody>\n",
       "</table>\n"
      ],
      "text/latex": [
       "A data.frame: 50 × 10\n",
       "\\begin{tabular}{r|llllllllll}\n",
       "  & minority & crime & poverty & language & highschool & housing & city & conventional & undercount & stdname\\\\\n",
       "  & <dbl> & <int> & <dbl> & <dbl> & <dbl> & <dbl> & <fct> & <int> & <dbl> & <chr>\\\\\n",
       "\\hline\n",
       "\tAlabama & 26.1 & 49 & 18.9 & 0.2 & 43.5 &  7.6 & state &   0 & -0.04 & Alabama        \\\\\n",
       "\tAlaska &  5.7 & 62 & 10.7 & 1.7 & 17.5 & 23.6 & state & 100 &  3.35 & Alaska         \\\\\n",
       "\tArizona & 18.9 & 81 & 13.2 & 3.2 & 27.6 &  8.1 & state &  18 &  2.48 & Arizona        \\\\\n",
       "\tArkansas & 16.9 & 38 & 19.0 & 0.2 & 44.5 &  7.0 & state &   0 & -0.74 & Arkansas       \\\\\n",
       "\tCalifornia.R & 24.3 & 73 & 10.4 & 5.0 & 26.0 & 11.8 & state &   4 &  3.60 & California.R   \\\\\n",
       "\tColorado & 15.2 & 73 & 10.1 & 1.2 & 21.4 &  9.2 & state &  19 &  1.34 & Colorado       \\\\\n",
       "\tConnecticut & 10.8 & 58 &  8.0 & 2.4 & 29.7 & 21.0 & state &   0 & -0.26 & Connecticut    \\\\\n",
       "\tDelaware & 17.5 & 68 & 11.8 & 0.7 & 31.4 &  8.9 & state &   0 & -0.16 & Delaware       \\\\\n",
       "\tFlorida & 22.3 & 81 & 13.4 & 3.6 & 33.3 & 10.1 & state &   0 &  2.20 & Florida        \\\\\n",
       "\tGeorgia & 27.6 & 55 & 16.6 & 0.3 & 43.6 & 10.2 & state &   0 &  0.37 & Georgia        \\\\\n",
       "\tHawaii &  9.1 & 75 &  9.9 & 5.7 & 26.2 & 17.0 & state &  29 &  1.46 & Hawaii         \\\\\n",
       "\tIdaho &  4.2 & 48 & 12.6 & 1.0 & 26.3 &  9.1 & state &  56 &  1.53 & Idaho          \\\\\n",
       "\tIllinois.R &  8.1 & 48 &  7.7 & 1.0 & 29.8 & 13.5 & state &   0 &  1.69 & Illinois.R     \\\\\n",
       "\tIndiana.R &  7.1 & 48 &  9.4 & 0.5 & 33.6 &  9.9 & state &   0 & -0.68 & Indiana.R      \\\\\n",
       "\tIowa &  2.3 & 47 & 10.1 & 0.3 & 28.5 & 10.4 & state &   0 & -0.59 & Iowa           \\\\\n",
       "\tKansas &  7.9 & 54 & 10.1 & 0.5 & 26.7 &  8.5 & state &  14 &  0.94 & Kansas         \\\\\n",
       "\tKentucky &  7.7 & 34 & 17.6 & 0.2 & 46.9 & 10.6 & state &   0 & -1.41 & Kentucky       \\\\\n",
       "\tLouisiana & 31.4 & 54 & 18.6 & 1.1 & 42.3 &  9.7 & state &   0 &  2.46 & Louisiana      \\\\\n",
       "\tMaine &  0.7 & 44 & 13.0 & 1.0 & 31.3 & 19.5 & state &  40 &  2.06 & Maine          \\\\\n",
       "\tMaryland.R & 16.7 & 58 &  6.8 & 0.8 & 28.2 & 10.5 & state &   0 &  2.03 & Maryland.R     \\\\\n",
       "\tMassachusetts.R &  3.8 & 53 &  8.5 & 2.1 & 27.4 & 26.9 & state &   4 & -0.57 & Massachusetts.R\\\\\n",
       "\tMichigan.R &  7.0 & 61 &  8.7 & 0.7 & 29.9 &  9.4 & state &   8 &  0.89 & Michigan.R     \\\\\n",
       "\tMinnesota &  2.1 & 48 &  9.5 & 0.5 & 26.9 & 10.7 & state &  11 &  1.57 & Minnesota      \\\\\n",
       "\tMississippi & 35.8 & 34 & 23.9 & 0.2 & 45.2 &  7.2 & state &   0 &  1.52 & Mississippi    \\\\\n",
       "\tMissouri.R &  7.8 & 45 & 11.2 & 0.3 & 34.9 &  9.1 & state &   0 &  0.81 & Missouri.R     \\\\\n",
       "\tMontana &  1.5 & 50 & 12.3 & 0.4 & 25.6 & 12.8 & state &  75 &  1.81 & Montana        \\\\\n",
       "\tNebraska &  4.8 & 43 & 10.7 & 0.5 & 26.6 &  9.7 & state &  33 &  0.36 & Nebraska       \\\\\n",
       "\tNevada & 13.0 & 88 &  8.7 & 1.6 & 24.5 & 11.7 & state &  10 &  5.08 & Nevada         \\\\\n",
       "\tNew.Hampshire &  1.0 & 47 &  8.5 & 0.8 & 27.7 & 20.3 & state &   0 & -1.49 & New.Hampshire  \\\\\n",
       "\tNew.Jersey & 19.0 & 64 &  9.5 & 3.6 & 32.6 & 23.7 & state &   0 &  1.44 & New.Jersey     \\\\\n",
       "\tNew.Mexico & 38.4 & 59 & 17.6 & 4.6 & 31.1 & 10.7 & state &  58 &  2.69 & New.Mexico     \\\\\n",
       "\tNew.York.R &  8.0 & 48 &  8.9 & 1.3 & 29.3 & 21.6 & state &   0 & -1.48 & New.York.R     \\\\\n",
       "\tNorth.Carolina & 23.1 & 46 & 14.8 & 0.2 & 45.2 &  8.2 & state &   0 &  1.36 & North.Carolina \\\\\n",
       "\tNorth.Dakota &  1.0 & 30 & 12.6 & 0.5 & 33.6 & 15.1 & state &  70 &  0.35 & North.Dakota   \\\\\n",
       "\tOhio.R &  8.9 & 52 &  9.6 & 0.5 & 32.1 & 11.3 & state &   0 &  0.97 & Ohio.R         \\\\\n",
       "\tOklahoma &  8.6 & 50 & 13.4 & 0.5 & 34.0 &  8.0 & state &   0 & -0.12 & Oklahoma       \\\\\n",
       "\tOregon &  3.9 & 60 & 10.7 & 0.8 & 24.4 &  7.9 & state &  13 &  0.93 & Oregon         \\\\\n",
       "\tPennsylvania.R &  4.8 & 33 &  8.8 & 0.6 & 33.6 & 13.3 & state &   0 & -0.78 & Pennsylvania.R \\\\\n",
       "\tRhode.Island &  4.9 & 59 & 10.3 & 3.2 & 38.9 & 29.6 & state &   0 &  0.74 & Rhode.Island   \\\\\n",
       "\tSouth.Carolina & 31.0 & 53 & 16.6 & 0.2 & 46.3 &  7.9 & state &   0 &  6.19 & South.Carolina \\\\\n",
       "\tSouth.Dakota &  0.9 & 32 & 16.9 & 0.4 & 32.1 & 12.0 & state &  84 &  0.42 & South.Dakota   \\\\\n",
       "\tTennessee & 16.4 & 44 & 16.4 & 0.2 & 43.8 &  9.4 & state &   0 & -2.31 & Tennessee      \\\\\n",
       "\tTexas.R & 30.6 & 55 & 15.0 & 4.7 & 38.7 &  7.7 & state &   1 &  0.27 & Texas.R        \\\\\n",
       "\tUtah &  4.7 & 58 & 10.3 & 0.9 & 20.0 & 11.3 & state &  14 &  1.14 & Utah           \\\\\n",
       "\tVermont &  0.9 & 50 & 12.1 & 0.5 & 29.0 & 20.8 & state &   0 & -1.12 & Vermont        \\\\\n",
       "\tVirginia & 20.0 & 46 & 11.8 & 0.5 & 37.6 & 10.3 & state &   0 &  1.11 & Virginia       \\\\\n",
       "\tWashington &  5.4 & 69 &  9.8 & 1.0 & 22.4 &  9.4 & state &   4 &  1.48 & Washington     \\\\\n",
       "\tWest.Virginia &  3.9 & 25 & 15.0 & 0.2 & 44.0 &  9.0 & state &   0 & -0.69 & West.Virginia  \\\\\n",
       "\tWisconsin.R &  1.7 & 45 &  7.9 & 0.4 & 29.5 & 12.8 & state &   9 &  1.45 & Wisconsin.R    \\\\\n",
       "\tWyoming &  5.9 & 49 &  7.9 & 0.7 & 22.1 & 13.2 & state & 100 &  4.01 & Wyoming        \\\\\n",
       "\\end{tabular}\n"
      ],
      "text/markdown": [
       "\n",
       "A data.frame: 50 × 10\n",
       "\n",
       "| <!--/--> | minority &lt;dbl&gt; | crime &lt;int&gt; | poverty &lt;dbl&gt; | language &lt;dbl&gt; | highschool &lt;dbl&gt; | housing &lt;dbl&gt; | city &lt;fct&gt; | conventional &lt;int&gt; | undercount &lt;dbl&gt; | stdname &lt;chr&gt; |\n",
       "|---|---|---|---|---|---|---|---|---|---|---|\n",
       "| Alabama | 26.1 | 49 | 18.9 | 0.2 | 43.5 |  7.6 | state |   0 | -0.04 | Alabama         |\n",
       "| Alaska |  5.7 | 62 | 10.7 | 1.7 | 17.5 | 23.6 | state | 100 |  3.35 | Alaska          |\n",
       "| Arizona | 18.9 | 81 | 13.2 | 3.2 | 27.6 |  8.1 | state |  18 |  2.48 | Arizona         |\n",
       "| Arkansas | 16.9 | 38 | 19.0 | 0.2 | 44.5 |  7.0 | state |   0 | -0.74 | Arkansas        |\n",
       "| California.R | 24.3 | 73 | 10.4 | 5.0 | 26.0 | 11.8 | state |   4 |  3.60 | California.R    |\n",
       "| Colorado | 15.2 | 73 | 10.1 | 1.2 | 21.4 |  9.2 | state |  19 |  1.34 | Colorado        |\n",
       "| Connecticut | 10.8 | 58 |  8.0 | 2.4 | 29.7 | 21.0 | state |   0 | -0.26 | Connecticut     |\n",
       "| Delaware | 17.5 | 68 | 11.8 | 0.7 | 31.4 |  8.9 | state |   0 | -0.16 | Delaware        |\n",
       "| Florida | 22.3 | 81 | 13.4 | 3.6 | 33.3 | 10.1 | state |   0 |  2.20 | Florida         |\n",
       "| Georgia | 27.6 | 55 | 16.6 | 0.3 | 43.6 | 10.2 | state |   0 |  0.37 | Georgia         |\n",
       "| Hawaii |  9.1 | 75 |  9.9 | 5.7 | 26.2 | 17.0 | state |  29 |  1.46 | Hawaii          |\n",
       "| Idaho |  4.2 | 48 | 12.6 | 1.0 | 26.3 |  9.1 | state |  56 |  1.53 | Idaho           |\n",
       "| Illinois.R |  8.1 | 48 |  7.7 | 1.0 | 29.8 | 13.5 | state |   0 |  1.69 | Illinois.R      |\n",
       "| Indiana.R |  7.1 | 48 |  9.4 | 0.5 | 33.6 |  9.9 | state |   0 | -0.68 | Indiana.R       |\n",
       "| Iowa |  2.3 | 47 | 10.1 | 0.3 | 28.5 | 10.4 | state |   0 | -0.59 | Iowa            |\n",
       "| Kansas |  7.9 | 54 | 10.1 | 0.5 | 26.7 |  8.5 | state |  14 |  0.94 | Kansas          |\n",
       "| Kentucky |  7.7 | 34 | 17.6 | 0.2 | 46.9 | 10.6 | state |   0 | -1.41 | Kentucky        |\n",
       "| Louisiana | 31.4 | 54 | 18.6 | 1.1 | 42.3 |  9.7 | state |   0 |  2.46 | Louisiana       |\n",
       "| Maine |  0.7 | 44 | 13.0 | 1.0 | 31.3 | 19.5 | state |  40 |  2.06 | Maine           |\n",
       "| Maryland.R | 16.7 | 58 |  6.8 | 0.8 | 28.2 | 10.5 | state |   0 |  2.03 | Maryland.R      |\n",
       "| Massachusetts.R |  3.8 | 53 |  8.5 | 2.1 | 27.4 | 26.9 | state |   4 | -0.57 | Massachusetts.R |\n",
       "| Michigan.R |  7.0 | 61 |  8.7 | 0.7 | 29.9 |  9.4 | state |   8 |  0.89 | Michigan.R      |\n",
       "| Minnesota |  2.1 | 48 |  9.5 | 0.5 | 26.9 | 10.7 | state |  11 |  1.57 | Minnesota       |\n",
       "| Mississippi | 35.8 | 34 | 23.9 | 0.2 | 45.2 |  7.2 | state |   0 |  1.52 | Mississippi     |\n",
       "| Missouri.R |  7.8 | 45 | 11.2 | 0.3 | 34.9 |  9.1 | state |   0 |  0.81 | Missouri.R      |\n",
       "| Montana |  1.5 | 50 | 12.3 | 0.4 | 25.6 | 12.8 | state |  75 |  1.81 | Montana         |\n",
       "| Nebraska |  4.8 | 43 | 10.7 | 0.5 | 26.6 |  9.7 | state |  33 |  0.36 | Nebraska        |\n",
       "| Nevada | 13.0 | 88 |  8.7 | 1.6 | 24.5 | 11.7 | state |  10 |  5.08 | Nevada          |\n",
       "| New.Hampshire |  1.0 | 47 |  8.5 | 0.8 | 27.7 | 20.3 | state |   0 | -1.49 | New.Hampshire   |\n",
       "| New.Jersey | 19.0 | 64 |  9.5 | 3.6 | 32.6 | 23.7 | state |   0 |  1.44 | New.Jersey      |\n",
       "| New.Mexico | 38.4 | 59 | 17.6 | 4.6 | 31.1 | 10.7 | state |  58 |  2.69 | New.Mexico      |\n",
       "| New.York.R |  8.0 | 48 |  8.9 | 1.3 | 29.3 | 21.6 | state |   0 | -1.48 | New.York.R      |\n",
       "| North.Carolina | 23.1 | 46 | 14.8 | 0.2 | 45.2 |  8.2 | state |   0 |  1.36 | North.Carolina  |\n",
       "| North.Dakota |  1.0 | 30 | 12.6 | 0.5 | 33.6 | 15.1 | state |  70 |  0.35 | North.Dakota    |\n",
       "| Ohio.R |  8.9 | 52 |  9.6 | 0.5 | 32.1 | 11.3 | state |   0 |  0.97 | Ohio.R          |\n",
       "| Oklahoma |  8.6 | 50 | 13.4 | 0.5 | 34.0 |  8.0 | state |   0 | -0.12 | Oklahoma        |\n",
       "| Oregon |  3.9 | 60 | 10.7 | 0.8 | 24.4 |  7.9 | state |  13 |  0.93 | Oregon          |\n",
       "| Pennsylvania.R |  4.8 | 33 |  8.8 | 0.6 | 33.6 | 13.3 | state |   0 | -0.78 | Pennsylvania.R  |\n",
       "| Rhode.Island |  4.9 | 59 | 10.3 | 3.2 | 38.9 | 29.6 | state |   0 |  0.74 | Rhode.Island    |\n",
       "| South.Carolina | 31.0 | 53 | 16.6 | 0.2 | 46.3 |  7.9 | state |   0 |  6.19 | South.Carolina  |\n",
       "| South.Dakota |  0.9 | 32 | 16.9 | 0.4 | 32.1 | 12.0 | state |  84 |  0.42 | South.Dakota    |\n",
       "| Tennessee | 16.4 | 44 | 16.4 | 0.2 | 43.8 |  9.4 | state |   0 | -2.31 | Tennessee       |\n",
       "| Texas.R | 30.6 | 55 | 15.0 | 4.7 | 38.7 |  7.7 | state |   1 |  0.27 | Texas.R         |\n",
       "| Utah |  4.7 | 58 | 10.3 | 0.9 | 20.0 | 11.3 | state |  14 |  1.14 | Utah            |\n",
       "| Vermont |  0.9 | 50 | 12.1 | 0.5 | 29.0 | 20.8 | state |   0 | -1.12 | Vermont         |\n",
       "| Virginia | 20.0 | 46 | 11.8 | 0.5 | 37.6 | 10.3 | state |   0 |  1.11 | Virginia        |\n",
       "| Washington |  5.4 | 69 |  9.8 | 1.0 | 22.4 |  9.4 | state |   4 |  1.48 | Washington      |\n",
       "| West.Virginia |  3.9 | 25 | 15.0 | 0.2 | 44.0 |  9.0 | state |   0 | -0.69 | West.Virginia   |\n",
       "| Wisconsin.R |  1.7 | 45 |  7.9 | 0.4 | 29.5 | 12.8 | state |   9 |  1.45 | Wisconsin.R     |\n",
       "| Wyoming |  5.9 | 49 |  7.9 | 0.7 | 22.1 | 13.2 | state | 100 |  4.01 | Wyoming         |\n",
       "\n"
      ],
      "text/plain": [
       "                minority crime poverty language highschool housing city \n",
       "Alabama         26.1     49    18.9    0.2      43.5        7.6    state\n",
       "Alaska           5.7     62    10.7    1.7      17.5       23.6    state\n",
       "Arizona         18.9     81    13.2    3.2      27.6        8.1    state\n",
       "Arkansas        16.9     38    19.0    0.2      44.5        7.0    state\n",
       "California.R    24.3     73    10.4    5.0      26.0       11.8    state\n",
       "Colorado        15.2     73    10.1    1.2      21.4        9.2    state\n",
       "Connecticut     10.8     58     8.0    2.4      29.7       21.0    state\n",
       "Delaware        17.5     68    11.8    0.7      31.4        8.9    state\n",
       "Florida         22.3     81    13.4    3.6      33.3       10.1    state\n",
       "Georgia         27.6     55    16.6    0.3      43.6       10.2    state\n",
       "Hawaii           9.1     75     9.9    5.7      26.2       17.0    state\n",
       "Idaho            4.2     48    12.6    1.0      26.3        9.1    state\n",
       "Illinois.R       8.1     48     7.7    1.0      29.8       13.5    state\n",
       "Indiana.R        7.1     48     9.4    0.5      33.6        9.9    state\n",
       "Iowa             2.3     47    10.1    0.3      28.5       10.4    state\n",
       "Kansas           7.9     54    10.1    0.5      26.7        8.5    state\n",
       "Kentucky         7.7     34    17.6    0.2      46.9       10.6    state\n",
       "Louisiana       31.4     54    18.6    1.1      42.3        9.7    state\n",
       "Maine            0.7     44    13.0    1.0      31.3       19.5    state\n",
       "Maryland.R      16.7     58     6.8    0.8      28.2       10.5    state\n",
       "Massachusetts.R  3.8     53     8.5    2.1      27.4       26.9    state\n",
       "Michigan.R       7.0     61     8.7    0.7      29.9        9.4    state\n",
       "Minnesota        2.1     48     9.5    0.5      26.9       10.7    state\n",
       "Mississippi     35.8     34    23.9    0.2      45.2        7.2    state\n",
       "Missouri.R       7.8     45    11.2    0.3      34.9        9.1    state\n",
       "Montana          1.5     50    12.3    0.4      25.6       12.8    state\n",
       "Nebraska         4.8     43    10.7    0.5      26.6        9.7    state\n",
       "Nevada          13.0     88     8.7    1.6      24.5       11.7    state\n",
       "New.Hampshire    1.0     47     8.5    0.8      27.7       20.3    state\n",
       "New.Jersey      19.0     64     9.5    3.6      32.6       23.7    state\n",
       "New.Mexico      38.4     59    17.6    4.6      31.1       10.7    state\n",
       "New.York.R       8.0     48     8.9    1.3      29.3       21.6    state\n",
       "North.Carolina  23.1     46    14.8    0.2      45.2        8.2    state\n",
       "North.Dakota     1.0     30    12.6    0.5      33.6       15.1    state\n",
       "Ohio.R           8.9     52     9.6    0.5      32.1       11.3    state\n",
       "Oklahoma         8.6     50    13.4    0.5      34.0        8.0    state\n",
       "Oregon           3.9     60    10.7    0.8      24.4        7.9    state\n",
       "Pennsylvania.R   4.8     33     8.8    0.6      33.6       13.3    state\n",
       "Rhode.Island     4.9     59    10.3    3.2      38.9       29.6    state\n",
       "South.Carolina  31.0     53    16.6    0.2      46.3        7.9    state\n",
       "South.Dakota     0.9     32    16.9    0.4      32.1       12.0    state\n",
       "Tennessee       16.4     44    16.4    0.2      43.8        9.4    state\n",
       "Texas.R         30.6     55    15.0    4.7      38.7        7.7    state\n",
       "Utah             4.7     58    10.3    0.9      20.0       11.3    state\n",
       "Vermont          0.9     50    12.1    0.5      29.0       20.8    state\n",
       "Virginia        20.0     46    11.8    0.5      37.6       10.3    state\n",
       "Washington       5.4     69     9.8    1.0      22.4        9.4    state\n",
       "West.Virginia    3.9     25    15.0    0.2      44.0        9.0    state\n",
       "Wisconsin.R      1.7     45     7.9    0.4      29.5       12.8    state\n",
       "Wyoming          5.9     49     7.9    0.7      22.1       13.2    state\n",
       "                conventional undercount stdname        \n",
       "Alabama           0          -0.04      Alabama        \n",
       "Alaska          100           3.35      Alaska         \n",
       "Arizona          18           2.48      Arizona        \n",
       "Arkansas          0          -0.74      Arkansas       \n",
       "California.R      4           3.60      California.R   \n",
       "Colorado         19           1.34      Colorado       \n",
       "Connecticut       0          -0.26      Connecticut    \n",
       "Delaware          0          -0.16      Delaware       \n",
       "Florida           0           2.20      Florida        \n",
       "Georgia           0           0.37      Georgia        \n",
       "Hawaii           29           1.46      Hawaii         \n",
       "Idaho            56           1.53      Idaho          \n",
       "Illinois.R        0           1.69      Illinois.R     \n",
       "Indiana.R         0          -0.68      Indiana.R      \n",
       "Iowa              0          -0.59      Iowa           \n",
       "Kansas           14           0.94      Kansas         \n",
       "Kentucky          0          -1.41      Kentucky       \n",
       "Louisiana         0           2.46      Louisiana      \n",
       "Maine            40           2.06      Maine          \n",
       "Maryland.R        0           2.03      Maryland.R     \n",
       "Massachusetts.R   4          -0.57      Massachusetts.R\n",
       "Michigan.R        8           0.89      Michigan.R     \n",
       "Minnesota        11           1.57      Minnesota      \n",
       "Mississippi       0           1.52      Mississippi    \n",
       "Missouri.R        0           0.81      Missouri.R     \n",
       "Montana          75           1.81      Montana        \n",
       "Nebraska         33           0.36      Nebraska       \n",
       "Nevada           10           5.08      Nevada         \n",
       "New.Hampshire     0          -1.49      New.Hampshire  \n",
       "New.Jersey        0           1.44      New.Jersey     \n",
       "New.Mexico       58           2.69      New.Mexico     \n",
       "New.York.R        0          -1.48      New.York.R     \n",
       "North.Carolina    0           1.36      North.Carolina \n",
       "North.Dakota     70           0.35      North.Dakota   \n",
       "Ohio.R            0           0.97      Ohio.R         \n",
       "Oklahoma          0          -0.12      Oklahoma       \n",
       "Oregon           13           0.93      Oregon         \n",
       "Pennsylvania.R    0          -0.78      Pennsylvania.R \n",
       "Rhode.Island      0           0.74      Rhode.Island   \n",
       "South.Carolina    0           6.19      South.Carolina \n",
       "South.Dakota     84           0.42      South.Dakota   \n",
       "Tennessee         0          -2.31      Tennessee      \n",
       "Texas.R           1           0.27      Texas.R        \n",
       "Utah             14           1.14      Utah           \n",
       "Vermont           0          -1.12      Vermont        \n",
       "Virginia          0           1.11      Virginia       \n",
       "Washington        4           1.48      Washington     \n",
       "West.Virginia     0          -0.69      West.Virginia  \n",
       "Wisconsin.R       9           1.45      Wisconsin.R    \n",
       "Wyoming         100           4.01      Wyoming        "
      ]
     },
     "metadata": {},
     "output_type": "display_data"
    }
   ],
   "source": [
    "ds"
   ]
  },
  {
   "cell_type": "code",
   "execution_count": 16,
   "id": "1b3fc528",
   "metadata": {},
   "outputs": [
    {
     "data": {
      "text/html": [
       "<table class=\"dataframe\">\n",
       "<caption>A data.frame: 66 × 9</caption>\n",
       "<thead>\n",
       "\t<tr><th></th><th scope=col>minority</th><th scope=col>crime</th><th scope=col>poverty</th><th scope=col>language</th><th scope=col>highschool</th><th scope=col>housing</th><th scope=col>city</th><th scope=col>conventional</th><th scope=col>undercount</th></tr>\n",
       "\t<tr><th></th><th scope=col>&lt;dbl&gt;</th><th scope=col>&lt;int&gt;</th><th scope=col>&lt;dbl&gt;</th><th scope=col>&lt;dbl&gt;</th><th scope=col>&lt;dbl&gt;</th><th scope=col>&lt;dbl&gt;</th><th scope=col>&lt;fct&gt;</th><th scope=col>&lt;int&gt;</th><th scope=col>&lt;dbl&gt;</th></tr>\n",
       "</thead>\n",
       "<tbody>\n",
       "\t<tr><th scope=row>Alabama</th><td>26.1</td><td>49</td><td>18.9</td><td>0.2</td><td>43.5</td><td> 7.6</td><td>state</td><td>  0</td><td>-0.04</td></tr>\n",
       "\t<tr><th scope=row>Alaska</th><td> 5.7</td><td>62</td><td>10.7</td><td>1.7</td><td>17.5</td><td>23.6</td><td>state</td><td>100</td><td> 3.35</td></tr>\n",
       "\t<tr><th scope=row>Arizona</th><td>18.9</td><td>81</td><td>13.2</td><td>3.2</td><td>27.6</td><td> 8.1</td><td>state</td><td> 18</td><td> 2.48</td></tr>\n",
       "\t<tr><th scope=row>Arkansas</th><td>16.9</td><td>38</td><td>19.0</td><td>0.2</td><td>44.5</td><td> 7.0</td><td>state</td><td>  0</td><td>-0.74</td></tr>\n",
       "\t<tr><th scope=row>California.R</th><td>24.3</td><td>73</td><td>10.4</td><td>5.0</td><td>26.0</td><td>11.8</td><td>state</td><td>  4</td><td> 3.60</td></tr>\n",
       "\t<tr><th scope=row>Colorado</th><td>15.2</td><td>73</td><td>10.1</td><td>1.2</td><td>21.4</td><td> 9.2</td><td>state</td><td> 19</td><td> 1.34</td></tr>\n",
       "\t<tr><th scope=row>Connecticut</th><td>10.8</td><td>58</td><td> 8.0</td><td>2.4</td><td>29.7</td><td>21.0</td><td>state</td><td>  0</td><td>-0.26</td></tr>\n",
       "\t<tr><th scope=row>Delaware</th><td>17.5</td><td>68</td><td>11.8</td><td>0.7</td><td>31.4</td><td> 8.9</td><td>state</td><td>  0</td><td>-0.16</td></tr>\n",
       "\t<tr><th scope=row>Florida</th><td>22.3</td><td>81</td><td>13.4</td><td>3.6</td><td>33.3</td><td>10.1</td><td>state</td><td>  0</td><td> 2.20</td></tr>\n",
       "\t<tr><th scope=row>Georgia</th><td>27.6</td><td>55</td><td>16.6</td><td>0.3</td><td>43.6</td><td>10.2</td><td>state</td><td>  0</td><td> 0.37</td></tr>\n",
       "\t<tr><th scope=row>Hawaii</th><td> 9.1</td><td>75</td><td> 9.9</td><td>5.7</td><td>26.2</td><td>17.0</td><td>state</td><td> 29</td><td> 1.46</td></tr>\n",
       "\t<tr><th scope=row>Idaho</th><td> 4.2</td><td>48</td><td>12.6</td><td>1.0</td><td>26.3</td><td> 9.1</td><td>state</td><td> 56</td><td> 1.53</td></tr>\n",
       "\t<tr><th scope=row>Illinois.R</th><td> 8.1</td><td>48</td><td> 7.7</td><td>1.0</td><td>29.8</td><td>13.5</td><td>state</td><td>  0</td><td> 1.69</td></tr>\n",
       "\t<tr><th scope=row>Indiana.R</th><td> 7.1</td><td>48</td><td> 9.4</td><td>0.5</td><td>33.6</td><td> 9.9</td><td>state</td><td>  0</td><td>-0.68</td></tr>\n",
       "\t<tr><th scope=row>Iowa</th><td> 2.3</td><td>47</td><td>10.1</td><td>0.3</td><td>28.5</td><td>10.4</td><td>state</td><td>  0</td><td>-0.59</td></tr>\n",
       "\t<tr><th scope=row>Kansas</th><td> 7.9</td><td>54</td><td>10.1</td><td>0.5</td><td>26.7</td><td> 8.5</td><td>state</td><td> 14</td><td> 0.94</td></tr>\n",
       "\t<tr><th scope=row>Kentucky</th><td> 7.7</td><td>34</td><td>17.6</td><td>0.2</td><td>46.9</td><td>10.6</td><td>state</td><td>  0</td><td>-1.41</td></tr>\n",
       "\t<tr><th scope=row>Louisiana</th><td>31.4</td><td>54</td><td>18.6</td><td>1.1</td><td>42.3</td><td> 9.7</td><td>state</td><td>  0</td><td> 2.46</td></tr>\n",
       "\t<tr><th scope=row>Maine</th><td> 0.7</td><td>44</td><td>13.0</td><td>1.0</td><td>31.3</td><td>19.5</td><td>state</td><td> 40</td><td> 2.06</td></tr>\n",
       "\t<tr><th scope=row>Maryland.R</th><td>16.7</td><td>58</td><td> 6.8</td><td>0.8</td><td>28.2</td><td>10.5</td><td>state</td><td>  0</td><td> 2.03</td></tr>\n",
       "\t<tr><th scope=row>Massachusetts.R</th><td> 3.8</td><td>53</td><td> 8.5</td><td>2.1</td><td>27.4</td><td>26.9</td><td>state</td><td>  4</td><td>-0.57</td></tr>\n",
       "\t<tr><th scope=row>Michigan.R</th><td> 7.0</td><td>61</td><td> 8.7</td><td>0.7</td><td>29.9</td><td> 9.4</td><td>state</td><td>  8</td><td> 0.89</td></tr>\n",
       "\t<tr><th scope=row>Minnesota</th><td> 2.1</td><td>48</td><td> 9.5</td><td>0.5</td><td>26.9</td><td>10.7</td><td>state</td><td> 11</td><td> 1.57</td></tr>\n",
       "\t<tr><th scope=row>Mississippi</th><td>35.8</td><td>34</td><td>23.9</td><td>0.2</td><td>45.2</td><td> 7.2</td><td>state</td><td>  0</td><td> 1.52</td></tr>\n",
       "\t<tr><th scope=row>Missouri.R</th><td> 7.8</td><td>45</td><td>11.2</td><td>0.3</td><td>34.9</td><td> 9.1</td><td>state</td><td>  0</td><td> 0.81</td></tr>\n",
       "\t<tr><th scope=row>Montana</th><td> 1.5</td><td>50</td><td>12.3</td><td>0.4</td><td>25.6</td><td>12.8</td><td>state</td><td> 75</td><td> 1.81</td></tr>\n",
       "\t<tr><th scope=row>Nebraska</th><td> 4.8</td><td>43</td><td>10.7</td><td>0.5</td><td>26.6</td><td> 9.7</td><td>state</td><td> 33</td><td> 0.36</td></tr>\n",
       "\t<tr><th scope=row>Nevada</th><td>13.0</td><td>88</td><td> 8.7</td><td>1.6</td><td>24.5</td><td>11.7</td><td>state</td><td> 10</td><td> 5.08</td></tr>\n",
       "\t<tr><th scope=row>New.Hampshire</th><td> 1.0</td><td>47</td><td> 8.5</td><td>0.8</td><td>27.7</td><td>20.3</td><td>state</td><td>  0</td><td>-1.49</td></tr>\n",
       "\t<tr><th scope=row>New.Jersey</th><td>19.0</td><td>64</td><td> 9.5</td><td>3.6</td><td>32.6</td><td>23.7</td><td>state</td><td>  0</td><td> 1.44</td></tr>\n",
       "\t<tr><th scope=row>⋮</th><td>⋮</td><td>⋮</td><td>⋮</td><td>⋮</td><td>⋮</td><td>⋮</td><td>⋮</td><td>⋮</td><td>⋮</td></tr>\n",
       "\t<tr><th scope=row>Oregon</th><td> 3.9</td><td> 60</td><td>10.7</td><td> 0.8</td><td>24.4</td><td> 7.9</td><td>state</td><td> 13</td><td> 0.93</td></tr>\n",
       "\t<tr><th scope=row>Pennsylvania.R</th><td> 4.8</td><td> 33</td><td> 8.8</td><td> 0.6</td><td>33.6</td><td>13.3</td><td>state</td><td>  0</td><td>-0.78</td></tr>\n",
       "\t<tr><th scope=row>Rhode.Island</th><td> 4.9</td><td> 59</td><td>10.3</td><td> 3.2</td><td>38.9</td><td>29.6</td><td>state</td><td>  0</td><td> 0.74</td></tr>\n",
       "\t<tr><th scope=row>South.Carolina</th><td>31.0</td><td> 53</td><td>16.6</td><td> 0.2</td><td>46.3</td><td> 7.9</td><td>state</td><td>  0</td><td> 6.19</td></tr>\n",
       "\t<tr><th scope=row>South.Dakota</th><td> 0.9</td><td> 32</td><td>16.9</td><td> 0.4</td><td>32.1</td><td>12.0</td><td>state</td><td> 84</td><td> 0.42</td></tr>\n",
       "\t<tr><th scope=row>Tennessee</th><td>16.4</td><td> 44</td><td>16.4</td><td> 0.2</td><td>43.8</td><td> 9.4</td><td>state</td><td>  0</td><td>-2.31</td></tr>\n",
       "\t<tr><th scope=row>Texas.R</th><td>30.6</td><td> 55</td><td>15.0</td><td> 4.7</td><td>38.7</td><td> 7.7</td><td>state</td><td>  1</td><td> 0.27</td></tr>\n",
       "\t<tr><th scope=row>Utah</th><td> 4.7</td><td> 58</td><td>10.3</td><td> 0.9</td><td>20.0</td><td>11.3</td><td>state</td><td> 14</td><td> 1.14</td></tr>\n",
       "\t<tr><th scope=row>Vermont</th><td> 0.9</td><td> 50</td><td>12.1</td><td> 0.5</td><td>29.0</td><td>20.8</td><td>state</td><td>  0</td><td>-1.12</td></tr>\n",
       "\t<tr><th scope=row>Virginia</th><td>20.0</td><td> 46</td><td>11.8</td><td> 0.5</td><td>37.6</td><td>10.3</td><td>state</td><td>  0</td><td> 1.11</td></tr>\n",
       "\t<tr><th scope=row>Washington</th><td> 5.4</td><td> 69</td><td> 9.8</td><td> 1.0</td><td>22.4</td><td> 9.4</td><td>state</td><td>  4</td><td> 1.48</td></tr>\n",
       "\t<tr><th scope=row>West.Virginia</th><td> 3.9</td><td> 25</td><td>15.0</td><td> 0.2</td><td>44.0</td><td> 9.0</td><td>state</td><td>  0</td><td>-0.69</td></tr>\n",
       "\t<tr><th scope=row>Wisconsin.R</th><td> 1.7</td><td> 45</td><td> 7.9</td><td> 0.4</td><td>29.5</td><td>12.8</td><td>state</td><td>  9</td><td> 1.45</td></tr>\n",
       "\t<tr><th scope=row>Wyoming</th><td> 5.9</td><td> 49</td><td> 7.9</td><td> 0.7</td><td>22.1</td><td>13.2</td><td>state</td><td>100</td><td> 4.01</td></tr>\n",
       "\t<tr><th scope=row>Baltimore</th><td>55.5</td><td>100</td><td>22.9</td><td> 0.7</td><td>51.6</td><td>23.3</td><td>city </td><td>  0</td><td> 6.15</td></tr>\n",
       "\t<tr><th scope=row>Boston</th><td>28.4</td><td>135</td><td>20.2</td><td> 4.4</td><td>31.6</td><td>52.1</td><td>city </td><td>  0</td><td> 2.27</td></tr>\n",
       "\t<tr><th scope=row>Chicago</th><td>53.7</td><td> 66</td><td>20.3</td><td> 6.7</td><td>43.8</td><td>51.4</td><td>city </td><td>  0</td><td> 5.42</td></tr>\n",
       "\t<tr><th scope=row>Cleveland</th><td>46.7</td><td>101</td><td>22.1</td><td> 1.6</td><td>49.1</td><td>36.4</td><td>city </td><td>  0</td><td> 5.01</td></tr>\n",
       "\t<tr><th scope=row>Dallas</th><td>41.6</td><td>118</td><td>14.2</td><td> 3.1</td><td>31.5</td><td>12.9</td><td>city </td><td>  0</td><td> 8.18</td></tr>\n",
       "\t<tr><th scope=row>Detroit</th><td>65.4</td><td>106</td><td>21.9</td><td> 1.6</td><td>45.8</td><td>18.6</td><td>city </td><td>  0</td><td> 4.33</td></tr>\n",
       "\t<tr><th scope=row>Houston</th><td>45.1</td><td> 80</td><td>12.7</td><td> 5.1</td><td>31.6</td><td> 8.9</td><td>city </td><td>  0</td><td> 5.79</td></tr>\n",
       "\t<tr><th scope=row>Indianapolis</th><td>22.5</td><td> 53</td><td>11.5</td><td> 0.3</td><td>33.3</td><td>13.6</td><td>city </td><td>  0</td><td> 0.31</td></tr>\n",
       "\t<tr><th scope=row>Los.Angeles</th><td>44.4</td><td>100</td><td>16.4</td><td>12.7</td><td>31.4</td><td>15.0</td><td>city </td><td>  0</td><td> 7.52</td></tr>\n",
       "\t<tr><th scope=row>Milwaukee</th><td>27.2</td><td> 65</td><td>13.8</td><td> 1.6</td><td>46.4</td><td>27.2</td><td>city </td><td>  0</td><td> 3.17</td></tr>\n",
       "\t<tr><th scope=row>New.York.City</th><td>44.0</td><td>101</td><td>20.0</td><td> 8.9</td><td>39.8</td><td>32.2</td><td>city </td><td>  0</td><td> 7.39</td></tr>\n",
       "\t<tr><th scope=row>Philadelphia</th><td>41.3</td><td> 60</td><td>20.6</td><td> 2.2</td><td>45.7</td><td>21.7</td><td>city </td><td>  0</td><td> 6.41</td></tr>\n",
       "\t<tr><th scope=row>Saint.Louis</th><td>46.7</td><td>143</td><td>21.8</td><td> 0.5</td><td>51.8</td><td>40.9</td><td>city </td><td>  0</td><td> 3.60</td></tr>\n",
       "\t<tr><th scope=row>San.Diego</th><td>23.6</td><td> 81</td><td>12.4</td><td> 4.2</td><td>21.1</td><td>11.2</td><td>city </td><td>  0</td><td> 0.47</td></tr>\n",
       "\t<tr><th scope=row>San.Francisco</th><td>24.8</td><td>107</td><td>13.7</td><td> 9.2</td><td>26.0</td><td>20.3</td><td>city </td><td>  0</td><td> 5.18</td></tr>\n",
       "\t<tr><th scope=row>Washington.DC</th><td>72.6</td><td>102</td><td>18.6</td><td> 1.1</td><td>32.9</td><td>21.0</td><td>city </td><td>  0</td><td> 5.93</td></tr>\n",
       "</tbody>\n",
       "</table>\n"
      ],
      "text/latex": [
       "A data.frame: 66 × 9\n",
       "\\begin{tabular}{r|lllllllll}\n",
       "  & minority & crime & poverty & language & highschool & housing & city & conventional & undercount\\\\\n",
       "  & <dbl> & <int> & <dbl> & <dbl> & <dbl> & <dbl> & <fct> & <int> & <dbl>\\\\\n",
       "\\hline\n",
       "\tAlabama & 26.1 & 49 & 18.9 & 0.2 & 43.5 &  7.6 & state &   0 & -0.04\\\\\n",
       "\tAlaska &  5.7 & 62 & 10.7 & 1.7 & 17.5 & 23.6 & state & 100 &  3.35\\\\\n",
       "\tArizona & 18.9 & 81 & 13.2 & 3.2 & 27.6 &  8.1 & state &  18 &  2.48\\\\\n",
       "\tArkansas & 16.9 & 38 & 19.0 & 0.2 & 44.5 &  7.0 & state &   0 & -0.74\\\\\n",
       "\tCalifornia.R & 24.3 & 73 & 10.4 & 5.0 & 26.0 & 11.8 & state &   4 &  3.60\\\\\n",
       "\tColorado & 15.2 & 73 & 10.1 & 1.2 & 21.4 &  9.2 & state &  19 &  1.34\\\\\n",
       "\tConnecticut & 10.8 & 58 &  8.0 & 2.4 & 29.7 & 21.0 & state &   0 & -0.26\\\\\n",
       "\tDelaware & 17.5 & 68 & 11.8 & 0.7 & 31.4 &  8.9 & state &   0 & -0.16\\\\\n",
       "\tFlorida & 22.3 & 81 & 13.4 & 3.6 & 33.3 & 10.1 & state &   0 &  2.20\\\\\n",
       "\tGeorgia & 27.6 & 55 & 16.6 & 0.3 & 43.6 & 10.2 & state &   0 &  0.37\\\\\n",
       "\tHawaii &  9.1 & 75 &  9.9 & 5.7 & 26.2 & 17.0 & state &  29 &  1.46\\\\\n",
       "\tIdaho &  4.2 & 48 & 12.6 & 1.0 & 26.3 &  9.1 & state &  56 &  1.53\\\\\n",
       "\tIllinois.R &  8.1 & 48 &  7.7 & 1.0 & 29.8 & 13.5 & state &   0 &  1.69\\\\\n",
       "\tIndiana.R &  7.1 & 48 &  9.4 & 0.5 & 33.6 &  9.9 & state &   0 & -0.68\\\\\n",
       "\tIowa &  2.3 & 47 & 10.1 & 0.3 & 28.5 & 10.4 & state &   0 & -0.59\\\\\n",
       "\tKansas &  7.9 & 54 & 10.1 & 0.5 & 26.7 &  8.5 & state &  14 &  0.94\\\\\n",
       "\tKentucky &  7.7 & 34 & 17.6 & 0.2 & 46.9 & 10.6 & state &   0 & -1.41\\\\\n",
       "\tLouisiana & 31.4 & 54 & 18.6 & 1.1 & 42.3 &  9.7 & state &   0 &  2.46\\\\\n",
       "\tMaine &  0.7 & 44 & 13.0 & 1.0 & 31.3 & 19.5 & state &  40 &  2.06\\\\\n",
       "\tMaryland.R & 16.7 & 58 &  6.8 & 0.8 & 28.2 & 10.5 & state &   0 &  2.03\\\\\n",
       "\tMassachusetts.R &  3.8 & 53 &  8.5 & 2.1 & 27.4 & 26.9 & state &   4 & -0.57\\\\\n",
       "\tMichigan.R &  7.0 & 61 &  8.7 & 0.7 & 29.9 &  9.4 & state &   8 &  0.89\\\\\n",
       "\tMinnesota &  2.1 & 48 &  9.5 & 0.5 & 26.9 & 10.7 & state &  11 &  1.57\\\\\n",
       "\tMississippi & 35.8 & 34 & 23.9 & 0.2 & 45.2 &  7.2 & state &   0 &  1.52\\\\\n",
       "\tMissouri.R &  7.8 & 45 & 11.2 & 0.3 & 34.9 &  9.1 & state &   0 &  0.81\\\\\n",
       "\tMontana &  1.5 & 50 & 12.3 & 0.4 & 25.6 & 12.8 & state &  75 &  1.81\\\\\n",
       "\tNebraska &  4.8 & 43 & 10.7 & 0.5 & 26.6 &  9.7 & state &  33 &  0.36\\\\\n",
       "\tNevada & 13.0 & 88 &  8.7 & 1.6 & 24.5 & 11.7 & state &  10 &  5.08\\\\\n",
       "\tNew.Hampshire &  1.0 & 47 &  8.5 & 0.8 & 27.7 & 20.3 & state &   0 & -1.49\\\\\n",
       "\tNew.Jersey & 19.0 & 64 &  9.5 & 3.6 & 32.6 & 23.7 & state &   0 &  1.44\\\\\n",
       "\t⋮ & ⋮ & ⋮ & ⋮ & ⋮ & ⋮ & ⋮ & ⋮ & ⋮ & ⋮\\\\\n",
       "\tOregon &  3.9 &  60 & 10.7 &  0.8 & 24.4 &  7.9 & state &  13 &  0.93\\\\\n",
       "\tPennsylvania.R &  4.8 &  33 &  8.8 &  0.6 & 33.6 & 13.3 & state &   0 & -0.78\\\\\n",
       "\tRhode.Island &  4.9 &  59 & 10.3 &  3.2 & 38.9 & 29.6 & state &   0 &  0.74\\\\\n",
       "\tSouth.Carolina & 31.0 &  53 & 16.6 &  0.2 & 46.3 &  7.9 & state &   0 &  6.19\\\\\n",
       "\tSouth.Dakota &  0.9 &  32 & 16.9 &  0.4 & 32.1 & 12.0 & state &  84 &  0.42\\\\\n",
       "\tTennessee & 16.4 &  44 & 16.4 &  0.2 & 43.8 &  9.4 & state &   0 & -2.31\\\\\n",
       "\tTexas.R & 30.6 &  55 & 15.0 &  4.7 & 38.7 &  7.7 & state &   1 &  0.27\\\\\n",
       "\tUtah &  4.7 &  58 & 10.3 &  0.9 & 20.0 & 11.3 & state &  14 &  1.14\\\\\n",
       "\tVermont &  0.9 &  50 & 12.1 &  0.5 & 29.0 & 20.8 & state &   0 & -1.12\\\\\n",
       "\tVirginia & 20.0 &  46 & 11.8 &  0.5 & 37.6 & 10.3 & state &   0 &  1.11\\\\\n",
       "\tWashington &  5.4 &  69 &  9.8 &  1.0 & 22.4 &  9.4 & state &   4 &  1.48\\\\\n",
       "\tWest.Virginia &  3.9 &  25 & 15.0 &  0.2 & 44.0 &  9.0 & state &   0 & -0.69\\\\\n",
       "\tWisconsin.R &  1.7 &  45 &  7.9 &  0.4 & 29.5 & 12.8 & state &   9 &  1.45\\\\\n",
       "\tWyoming &  5.9 &  49 &  7.9 &  0.7 & 22.1 & 13.2 & state & 100 &  4.01\\\\\n",
       "\tBaltimore & 55.5 & 100 & 22.9 &  0.7 & 51.6 & 23.3 & city  &   0 &  6.15\\\\\n",
       "\tBoston & 28.4 & 135 & 20.2 &  4.4 & 31.6 & 52.1 & city  &   0 &  2.27\\\\\n",
       "\tChicago & 53.7 &  66 & 20.3 &  6.7 & 43.8 & 51.4 & city  &   0 &  5.42\\\\\n",
       "\tCleveland & 46.7 & 101 & 22.1 &  1.6 & 49.1 & 36.4 & city  &   0 &  5.01\\\\\n",
       "\tDallas & 41.6 & 118 & 14.2 &  3.1 & 31.5 & 12.9 & city  &   0 &  8.18\\\\\n",
       "\tDetroit & 65.4 & 106 & 21.9 &  1.6 & 45.8 & 18.6 & city  &   0 &  4.33\\\\\n",
       "\tHouston & 45.1 &  80 & 12.7 &  5.1 & 31.6 &  8.9 & city  &   0 &  5.79\\\\\n",
       "\tIndianapolis & 22.5 &  53 & 11.5 &  0.3 & 33.3 & 13.6 & city  &   0 &  0.31\\\\\n",
       "\tLos.Angeles & 44.4 & 100 & 16.4 & 12.7 & 31.4 & 15.0 & city  &   0 &  7.52\\\\\n",
       "\tMilwaukee & 27.2 &  65 & 13.8 &  1.6 & 46.4 & 27.2 & city  &   0 &  3.17\\\\\n",
       "\tNew.York.City & 44.0 & 101 & 20.0 &  8.9 & 39.8 & 32.2 & city  &   0 &  7.39\\\\\n",
       "\tPhiladelphia & 41.3 &  60 & 20.6 &  2.2 & 45.7 & 21.7 & city  &   0 &  6.41\\\\\n",
       "\tSaint.Louis & 46.7 & 143 & 21.8 &  0.5 & 51.8 & 40.9 & city  &   0 &  3.60\\\\\n",
       "\tSan.Diego & 23.6 &  81 & 12.4 &  4.2 & 21.1 & 11.2 & city  &   0 &  0.47\\\\\n",
       "\tSan.Francisco & 24.8 & 107 & 13.7 &  9.2 & 26.0 & 20.3 & city  &   0 &  5.18\\\\\n",
       "\tWashington.DC & 72.6 & 102 & 18.6 &  1.1 & 32.9 & 21.0 & city  &   0 &  5.93\\\\\n",
       "\\end{tabular}\n"
      ],
      "text/markdown": [
       "\n",
       "A data.frame: 66 × 9\n",
       "\n",
       "| <!--/--> | minority &lt;dbl&gt; | crime &lt;int&gt; | poverty &lt;dbl&gt; | language &lt;dbl&gt; | highschool &lt;dbl&gt; | housing &lt;dbl&gt; | city &lt;fct&gt; | conventional &lt;int&gt; | undercount &lt;dbl&gt; |\n",
       "|---|---|---|---|---|---|---|---|---|---|\n",
       "| Alabama | 26.1 | 49 | 18.9 | 0.2 | 43.5 |  7.6 | state |   0 | -0.04 |\n",
       "| Alaska |  5.7 | 62 | 10.7 | 1.7 | 17.5 | 23.6 | state | 100 |  3.35 |\n",
       "| Arizona | 18.9 | 81 | 13.2 | 3.2 | 27.6 |  8.1 | state |  18 |  2.48 |\n",
       "| Arkansas | 16.9 | 38 | 19.0 | 0.2 | 44.5 |  7.0 | state |   0 | -0.74 |\n",
       "| California.R | 24.3 | 73 | 10.4 | 5.0 | 26.0 | 11.8 | state |   4 |  3.60 |\n",
       "| Colorado | 15.2 | 73 | 10.1 | 1.2 | 21.4 |  9.2 | state |  19 |  1.34 |\n",
       "| Connecticut | 10.8 | 58 |  8.0 | 2.4 | 29.7 | 21.0 | state |   0 | -0.26 |\n",
       "| Delaware | 17.5 | 68 | 11.8 | 0.7 | 31.4 |  8.9 | state |   0 | -0.16 |\n",
       "| Florida | 22.3 | 81 | 13.4 | 3.6 | 33.3 | 10.1 | state |   0 |  2.20 |\n",
       "| Georgia | 27.6 | 55 | 16.6 | 0.3 | 43.6 | 10.2 | state |   0 |  0.37 |\n",
       "| Hawaii |  9.1 | 75 |  9.9 | 5.7 | 26.2 | 17.0 | state |  29 |  1.46 |\n",
       "| Idaho |  4.2 | 48 | 12.6 | 1.0 | 26.3 |  9.1 | state |  56 |  1.53 |\n",
       "| Illinois.R |  8.1 | 48 |  7.7 | 1.0 | 29.8 | 13.5 | state |   0 |  1.69 |\n",
       "| Indiana.R |  7.1 | 48 |  9.4 | 0.5 | 33.6 |  9.9 | state |   0 | -0.68 |\n",
       "| Iowa |  2.3 | 47 | 10.1 | 0.3 | 28.5 | 10.4 | state |   0 | -0.59 |\n",
       "| Kansas |  7.9 | 54 | 10.1 | 0.5 | 26.7 |  8.5 | state |  14 |  0.94 |\n",
       "| Kentucky |  7.7 | 34 | 17.6 | 0.2 | 46.9 | 10.6 | state |   0 | -1.41 |\n",
       "| Louisiana | 31.4 | 54 | 18.6 | 1.1 | 42.3 |  9.7 | state |   0 |  2.46 |\n",
       "| Maine |  0.7 | 44 | 13.0 | 1.0 | 31.3 | 19.5 | state |  40 |  2.06 |\n",
       "| Maryland.R | 16.7 | 58 |  6.8 | 0.8 | 28.2 | 10.5 | state |   0 |  2.03 |\n",
       "| Massachusetts.R |  3.8 | 53 |  8.5 | 2.1 | 27.4 | 26.9 | state |   4 | -0.57 |\n",
       "| Michigan.R |  7.0 | 61 |  8.7 | 0.7 | 29.9 |  9.4 | state |   8 |  0.89 |\n",
       "| Minnesota |  2.1 | 48 |  9.5 | 0.5 | 26.9 | 10.7 | state |  11 |  1.57 |\n",
       "| Mississippi | 35.8 | 34 | 23.9 | 0.2 | 45.2 |  7.2 | state |   0 |  1.52 |\n",
       "| Missouri.R |  7.8 | 45 | 11.2 | 0.3 | 34.9 |  9.1 | state |   0 |  0.81 |\n",
       "| Montana |  1.5 | 50 | 12.3 | 0.4 | 25.6 | 12.8 | state |  75 |  1.81 |\n",
       "| Nebraska |  4.8 | 43 | 10.7 | 0.5 | 26.6 |  9.7 | state |  33 |  0.36 |\n",
       "| Nevada | 13.0 | 88 |  8.7 | 1.6 | 24.5 | 11.7 | state |  10 |  5.08 |\n",
       "| New.Hampshire |  1.0 | 47 |  8.5 | 0.8 | 27.7 | 20.3 | state |   0 | -1.49 |\n",
       "| New.Jersey | 19.0 | 64 |  9.5 | 3.6 | 32.6 | 23.7 | state |   0 |  1.44 |\n",
       "| ⋮ | ⋮ | ⋮ | ⋮ | ⋮ | ⋮ | ⋮ | ⋮ | ⋮ | ⋮ |\n",
       "| Oregon |  3.9 |  60 | 10.7 |  0.8 | 24.4 |  7.9 | state |  13 |  0.93 |\n",
       "| Pennsylvania.R |  4.8 |  33 |  8.8 |  0.6 | 33.6 | 13.3 | state |   0 | -0.78 |\n",
       "| Rhode.Island |  4.9 |  59 | 10.3 |  3.2 | 38.9 | 29.6 | state |   0 |  0.74 |\n",
       "| South.Carolina | 31.0 |  53 | 16.6 |  0.2 | 46.3 |  7.9 | state |   0 |  6.19 |\n",
       "| South.Dakota |  0.9 |  32 | 16.9 |  0.4 | 32.1 | 12.0 | state |  84 |  0.42 |\n",
       "| Tennessee | 16.4 |  44 | 16.4 |  0.2 | 43.8 |  9.4 | state |   0 | -2.31 |\n",
       "| Texas.R | 30.6 |  55 | 15.0 |  4.7 | 38.7 |  7.7 | state |   1 |  0.27 |\n",
       "| Utah |  4.7 |  58 | 10.3 |  0.9 | 20.0 | 11.3 | state |  14 |  1.14 |\n",
       "| Vermont |  0.9 |  50 | 12.1 |  0.5 | 29.0 | 20.8 | state |   0 | -1.12 |\n",
       "| Virginia | 20.0 |  46 | 11.8 |  0.5 | 37.6 | 10.3 | state |   0 |  1.11 |\n",
       "| Washington |  5.4 |  69 |  9.8 |  1.0 | 22.4 |  9.4 | state |   4 |  1.48 |\n",
       "| West.Virginia |  3.9 |  25 | 15.0 |  0.2 | 44.0 |  9.0 | state |   0 | -0.69 |\n",
       "| Wisconsin.R |  1.7 |  45 |  7.9 |  0.4 | 29.5 | 12.8 | state |   9 |  1.45 |\n",
       "| Wyoming |  5.9 |  49 |  7.9 |  0.7 | 22.1 | 13.2 | state | 100 |  4.01 |\n",
       "| Baltimore | 55.5 | 100 | 22.9 |  0.7 | 51.6 | 23.3 | city  |   0 |  6.15 |\n",
       "| Boston | 28.4 | 135 | 20.2 |  4.4 | 31.6 | 52.1 | city  |   0 |  2.27 |\n",
       "| Chicago | 53.7 |  66 | 20.3 |  6.7 | 43.8 | 51.4 | city  |   0 |  5.42 |\n",
       "| Cleveland | 46.7 | 101 | 22.1 |  1.6 | 49.1 | 36.4 | city  |   0 |  5.01 |\n",
       "| Dallas | 41.6 | 118 | 14.2 |  3.1 | 31.5 | 12.9 | city  |   0 |  8.18 |\n",
       "| Detroit | 65.4 | 106 | 21.9 |  1.6 | 45.8 | 18.6 | city  |   0 |  4.33 |\n",
       "| Houston | 45.1 |  80 | 12.7 |  5.1 | 31.6 |  8.9 | city  |   0 |  5.79 |\n",
       "| Indianapolis | 22.5 |  53 | 11.5 |  0.3 | 33.3 | 13.6 | city  |   0 |  0.31 |\n",
       "| Los.Angeles | 44.4 | 100 | 16.4 | 12.7 | 31.4 | 15.0 | city  |   0 |  7.52 |\n",
       "| Milwaukee | 27.2 |  65 | 13.8 |  1.6 | 46.4 | 27.2 | city  |   0 |  3.17 |\n",
       "| New.York.City | 44.0 | 101 | 20.0 |  8.9 | 39.8 | 32.2 | city  |   0 |  7.39 |\n",
       "| Philadelphia | 41.3 |  60 | 20.6 |  2.2 | 45.7 | 21.7 | city  |   0 |  6.41 |\n",
       "| Saint.Louis | 46.7 | 143 | 21.8 |  0.5 | 51.8 | 40.9 | city  |   0 |  3.60 |\n",
       "| San.Diego | 23.6 |  81 | 12.4 |  4.2 | 21.1 | 11.2 | city  |   0 |  0.47 |\n",
       "| San.Francisco | 24.8 | 107 | 13.7 |  9.2 | 26.0 | 20.3 | city  |   0 |  5.18 |\n",
       "| Washington.DC | 72.6 | 102 | 18.6 |  1.1 | 32.9 | 21.0 | city  |   0 |  5.93 |\n",
       "\n"
      ],
      "text/plain": [
       "                minority crime poverty language highschool housing city \n",
       "Alabama         26.1     49    18.9    0.2      43.5        7.6    state\n",
       "Alaska           5.7     62    10.7    1.7      17.5       23.6    state\n",
       "Arizona         18.9     81    13.2    3.2      27.6        8.1    state\n",
       "Arkansas        16.9     38    19.0    0.2      44.5        7.0    state\n",
       "California.R    24.3     73    10.4    5.0      26.0       11.8    state\n",
       "Colorado        15.2     73    10.1    1.2      21.4        9.2    state\n",
       "Connecticut     10.8     58     8.0    2.4      29.7       21.0    state\n",
       "Delaware        17.5     68    11.8    0.7      31.4        8.9    state\n",
       "Florida         22.3     81    13.4    3.6      33.3       10.1    state\n",
       "Georgia         27.6     55    16.6    0.3      43.6       10.2    state\n",
       "Hawaii           9.1     75     9.9    5.7      26.2       17.0    state\n",
       "Idaho            4.2     48    12.6    1.0      26.3        9.1    state\n",
       "Illinois.R       8.1     48     7.7    1.0      29.8       13.5    state\n",
       "Indiana.R        7.1     48     9.4    0.5      33.6        9.9    state\n",
       "Iowa             2.3     47    10.1    0.3      28.5       10.4    state\n",
       "Kansas           7.9     54    10.1    0.5      26.7        8.5    state\n",
       "Kentucky         7.7     34    17.6    0.2      46.9       10.6    state\n",
       "Louisiana       31.4     54    18.6    1.1      42.3        9.7    state\n",
       "Maine            0.7     44    13.0    1.0      31.3       19.5    state\n",
       "Maryland.R      16.7     58     6.8    0.8      28.2       10.5    state\n",
       "Massachusetts.R  3.8     53     8.5    2.1      27.4       26.9    state\n",
       "Michigan.R       7.0     61     8.7    0.7      29.9        9.4    state\n",
       "Minnesota        2.1     48     9.5    0.5      26.9       10.7    state\n",
       "Mississippi     35.8     34    23.9    0.2      45.2        7.2    state\n",
       "Missouri.R       7.8     45    11.2    0.3      34.9        9.1    state\n",
       "Montana          1.5     50    12.3    0.4      25.6       12.8    state\n",
       "Nebraska         4.8     43    10.7    0.5      26.6        9.7    state\n",
       "Nevada          13.0     88     8.7    1.6      24.5       11.7    state\n",
       "New.Hampshire    1.0     47     8.5    0.8      27.7       20.3    state\n",
       "New.Jersey      19.0     64     9.5    3.6      32.6       23.7    state\n",
       "⋮               ⋮        ⋮     ⋮       ⋮        ⋮          ⋮       ⋮    \n",
       "Oregon           3.9      60   10.7     0.8     24.4        7.9    state\n",
       "Pennsylvania.R   4.8      33    8.8     0.6     33.6       13.3    state\n",
       "Rhode.Island     4.9      59   10.3     3.2     38.9       29.6    state\n",
       "South.Carolina  31.0      53   16.6     0.2     46.3        7.9    state\n",
       "South.Dakota     0.9      32   16.9     0.4     32.1       12.0    state\n",
       "Tennessee       16.4      44   16.4     0.2     43.8        9.4    state\n",
       "Texas.R         30.6      55   15.0     4.7     38.7        7.7    state\n",
       "Utah             4.7      58   10.3     0.9     20.0       11.3    state\n",
       "Vermont          0.9      50   12.1     0.5     29.0       20.8    state\n",
       "Virginia        20.0      46   11.8     0.5     37.6       10.3    state\n",
       "Washington       5.4      69    9.8     1.0     22.4        9.4    state\n",
       "West.Virginia    3.9      25   15.0     0.2     44.0        9.0    state\n",
       "Wisconsin.R      1.7      45    7.9     0.4     29.5       12.8    state\n",
       "Wyoming          5.9      49    7.9     0.7     22.1       13.2    state\n",
       "Baltimore       55.5     100   22.9     0.7     51.6       23.3    city \n",
       "Boston          28.4     135   20.2     4.4     31.6       52.1    city \n",
       "Chicago         53.7      66   20.3     6.7     43.8       51.4    city \n",
       "Cleveland       46.7     101   22.1     1.6     49.1       36.4    city \n",
       "Dallas          41.6     118   14.2     3.1     31.5       12.9    city \n",
       "Detroit         65.4     106   21.9     1.6     45.8       18.6    city \n",
       "Houston         45.1      80   12.7     5.1     31.6        8.9    city \n",
       "Indianapolis    22.5      53   11.5     0.3     33.3       13.6    city \n",
       "Los.Angeles     44.4     100   16.4    12.7     31.4       15.0    city \n",
       "Milwaukee       27.2      65   13.8     1.6     46.4       27.2    city \n",
       "New.York.City   44.0     101   20.0     8.9     39.8       32.2    city \n",
       "Philadelphia    41.3      60   20.6     2.2     45.7       21.7    city \n",
       "Saint.Louis     46.7     143   21.8     0.5     51.8       40.9    city \n",
       "San.Diego       23.6      81   12.4     4.2     21.1       11.2    city \n",
       "San.Francisco   24.8     107   13.7     9.2     26.0       20.3    city \n",
       "Washington.DC   72.6     102   18.6     1.1     32.9       21.0    city \n",
       "                conventional undercount\n",
       "Alabama           0          -0.04     \n",
       "Alaska          100           3.35     \n",
       "Arizona          18           2.48     \n",
       "Arkansas          0          -0.74     \n",
       "California.R      4           3.60     \n",
       "Colorado         19           1.34     \n",
       "Connecticut       0          -0.26     \n",
       "Delaware          0          -0.16     \n",
       "Florida           0           2.20     \n",
       "Georgia           0           0.37     \n",
       "Hawaii           29           1.46     \n",
       "Idaho            56           1.53     \n",
       "Illinois.R        0           1.69     \n",
       "Indiana.R         0          -0.68     \n",
       "Iowa              0          -0.59     \n",
       "Kansas           14           0.94     \n",
       "Kentucky          0          -1.41     \n",
       "Louisiana         0           2.46     \n",
       "Maine            40           2.06     \n",
       "Maryland.R        0           2.03     \n",
       "Massachusetts.R   4          -0.57     \n",
       "Michigan.R        8           0.89     \n",
       "Minnesota        11           1.57     \n",
       "Mississippi       0           1.52     \n",
       "Missouri.R        0           0.81     \n",
       "Montana          75           1.81     \n",
       "Nebraska         33           0.36     \n",
       "Nevada           10           5.08     \n",
       "New.Hampshire     0          -1.49     \n",
       "New.Jersey        0           1.44     \n",
       "⋮               ⋮            ⋮         \n",
       "Oregon           13           0.93     \n",
       "Pennsylvania.R    0          -0.78     \n",
       "Rhode.Island      0           0.74     \n",
       "South.Carolina    0           6.19     \n",
       "South.Dakota     84           0.42     \n",
       "Tennessee         0          -2.31     \n",
       "Texas.R           1           0.27     \n",
       "Utah             14           1.14     \n",
       "Vermont           0          -1.12     \n",
       "Virginia          0           1.11     \n",
       "Washington        4           1.48     \n",
       "West.Virginia     0          -0.69     \n",
       "Wisconsin.R       9           1.45     \n",
       "Wyoming         100           4.01     \n",
       "Baltimore         0           6.15     \n",
       "Boston            0           2.27     \n",
       "Chicago           0           5.42     \n",
       "Cleveland         0           5.01     \n",
       "Dallas            0           8.18     \n",
       "Detroit           0           4.33     \n",
       "Houston           0           5.79     \n",
       "Indianapolis      0           0.31     \n",
       "Los.Angeles       0           7.52     \n",
       "Milwaukee         0           3.17     \n",
       "New.York.City     0           7.39     \n",
       "Philadelphia      0           6.41     \n",
       "Saint.Louis       0           3.60     \n",
       "San.Diego         0           0.47     \n",
       "San.Francisco     0           5.18     \n",
       "Washington.DC     0           5.93     "
      ]
     },
     "metadata": {},
     "output_type": "display_data"
    }
   ],
   "source": [
    "Ericksen"
   ]
  },
  {
   "cell_type": "code",
   "execution_count": 15,
   "id": "ac614177",
   "metadata": {},
   "outputs": [
    {
     "data": {
      "image/png": "[encoded data removed]",
      "text/plain": [
       "plot without title"
      ]
     },
     "metadata": {
      "image/png": {
       "height": 420,
       "width": 420
      }
     },
     "output_type": "display_data"
    }
   ],
   "source": [
    "treemap(ds, \n",
    "       index = c('stdname'),\n",
    "       vSize = 'poverty',\n",
    "       vColor = 'crime',\n",
    "       type = 'value',\n",
    "       title = 'USA states Poverty and crime')"
   ]
  },
  {
   "cell_type": "code",
   "execution_count": 19,
   "id": "688f0d54",
   "metadata": {},
   "outputs": [
    {
     "data": {
      "image/png": "[encoded data removed]",
      "text/plain": [
       "plot without title"
      ]
     },
     "metadata": {
      "image/png": {
       "height": 420,
       "width": 420
      }
     },
     "output_type": "display_data"
    }
   ],
   "source": [
    "treemap(ds,\n",
    "       index = c('stdname'),\n",
    "       vSize = 'housing',\n",
    "       vColor = 'minority',\n",
    "       type = 'value',\n",
    "       palette = heat.colors(nrow(ds)),\n",
    "       title = 'USA states poverty and crime')"
   ]
  },
  {
   "cell_type": "code",
   "execution_count": 22,
   "id": "175230cf",
   "metadata": {},
   "outputs": [],
   "source": [
    "library(carData)"
   ]
  },
  {
   "cell_type": "code",
   "execution_count": 23,
   "id": "9ccf2e40",
   "metadata": {},
   "outputs": [],
   "source": [
    "data(SLID)"
   ]
  },
  {
   "cell_type": "code",
   "execution_count": 25,
   "id": "73022f8a",
   "metadata": {},
   "outputs": [
    {
     "data": {
      "text/html": [
       "<table class=\"dataframe\">\n",
       "<caption>A data.frame: 7425 × 5</caption>\n",
       "<thead>\n",
       "\t<tr><th></th><th scope=col>wages</th><th scope=col>education</th><th scope=col>age</th><th scope=col>sex</th><th scope=col>language</th></tr>\n",
       "\t<tr><th></th><th scope=col>&lt;dbl&gt;</th><th scope=col>&lt;dbl&gt;</th><th scope=col>&lt;int&gt;</th><th scope=col>&lt;fct&gt;</th><th scope=col>&lt;fct&gt;</th></tr>\n",
       "</thead>\n",
       "<tbody>\n",
       "\t<tr><th scope=row>1</th><td>10.56</td><td>15.0</td><td>40</td><td>Male  </td><td>English</td></tr>\n",
       "\t<tr><th scope=row>2</th><td>11.00</td><td>13.2</td><td>19</td><td>Male  </td><td>English</td></tr>\n",
       "\t<tr><th scope=row>3</th><td>   NA</td><td>16.0</td><td>49</td><td>Male  </td><td>Other  </td></tr>\n",
       "\t<tr><th scope=row>4</th><td>17.76</td><td>14.0</td><td>46</td><td>Male  </td><td>Other  </td></tr>\n",
       "\t<tr><th scope=row>5</th><td>   NA</td><td> 8.0</td><td>71</td><td>Male  </td><td>English</td></tr>\n",
       "\t<tr><th scope=row>6</th><td>14.00</td><td>16.0</td><td>50</td><td>Female</td><td>English</td></tr>\n",
       "\t<tr><th scope=row>7</th><td>   NA</td><td>12.0</td><td>70</td><td>Female</td><td>English</td></tr>\n",
       "\t<tr><th scope=row>8</th><td>   NA</td><td>14.5</td><td>42</td><td>Female</td><td>English</td></tr>\n",
       "\t<tr><th scope=row>9</th><td> 8.20</td><td>15.0</td><td>31</td><td>Male  </td><td>English</td></tr>\n",
       "\t<tr><th scope=row>10</th><td>   NA</td><td>10.0</td><td>56</td><td>Female</td><td>English</td></tr>\n",
       "\t<tr><th scope=row>11</th><td>   NA</td><td>12.5</td><td>71</td><td>Female</td><td>English</td></tr>\n",
       "\t<tr><th scope=row>12</th><td>16.97</td><td>13.5</td><td>30</td><td>Female</td><td>English</td></tr>\n",
       "\t<tr><th scope=row>13</th><td>   NA</td><td> 2.0</td><td>56</td><td>Male  </td><td>English</td></tr>\n",
       "\t<tr><th scope=row>14</th><td> 6.70</td><td>12.0</td><td>61</td><td>Female</td><td>English</td></tr>\n",
       "\t<tr><th scope=row>15</th><td>   NA</td><td>12.0</td><td>25</td><td>Female</td><td>English</td></tr>\n",
       "\t<tr><th scope=row>16</th><td>   NA</td><td>11.0</td><td>36</td><td>Female</td><td>French </td></tr>\n",
       "\t<tr><th scope=row>17</th><td>   NA</td><td>11.0</td><td>54</td><td>Female</td><td>English</td></tr>\n",
       "\t<tr><th scope=row>18</th><td>   NA</td><td>10.0</td><td>62</td><td>Female</td><td>English</td></tr>\n",
       "\t<tr><th scope=row>19</th><td>   NA</td><td>10.5</td><td>70</td><td>Female</td><td>English</td></tr>\n",
       "\t<tr><th scope=row>20</th><td>14.00</td><td>14.0</td><td>46</td><td>Female</td><td>Other  </td></tr>\n",
       "\t<tr><th scope=row>21</th><td>   NA</td><td> 8.0</td><td>49</td><td>Female</td><td>English</td></tr>\n",
       "\t<tr><th scope=row>22</th><td>   NA</td><td> 8.0</td><td>34</td><td>Male  </td><td>Other  </td></tr>\n",
       "\t<tr><th scope=row>23</th><td>   NA</td><td>11.0</td><td>17</td><td>Male  </td><td>English</td></tr>\n",
       "\t<tr><th scope=row>24</th><td>   NA</td><td>17.0</td><td>85</td><td>Female</td><td>English</td></tr>\n",
       "\t<tr><th scope=row>25</th><td>19.20</td><td>18.0</td><td>43</td><td>Male  </td><td>English</td></tr>\n",
       "\t<tr><th scope=row>26</th><td> 7.25</td><td>11.0</td><td>17</td><td>Male  </td><td>English</td></tr>\n",
       "\t<tr><th scope=row>27</th><td>   NA</td><td>11.0</td><td>77</td><td>Female</td><td>English</td></tr>\n",
       "\t<tr><th scope=row>28</th><td>   NA</td><td>13.0</td><td>70</td><td>Male  </td><td>English</td></tr>\n",
       "\t<tr><th scope=row>29</th><td>16.00</td><td> 7.0</td><td>46</td><td>Male  </td><td>Other  </td></tr>\n",
       "\t<tr><th scope=row>30</th><td>23.00</td><td>14.0</td><td>32</td><td>Male  </td><td>English</td></tr>\n",
       "\t<tr><th scope=row>⋮</th><td>⋮</td><td>⋮</td><td>⋮</td><td>⋮</td><td>⋮</td></tr>\n",
       "\t<tr><th scope=row>7396</th><td>   NA</td><td> 5.0</td><td>82</td><td>Male  </td><td>Other  </td></tr>\n",
       "\t<tr><th scope=row>7397</th><td>12.00</td><td>13.0</td><td>38</td><td>Female</td><td>English</td></tr>\n",
       "\t<tr><th scope=row>7398</th><td>27.59</td><td>19.0</td><td>33</td><td>Male  </td><td>Other  </td></tr>\n",
       "\t<tr><th scope=row>7399</th><td>   NA</td><td>15.0</td><td>59</td><td>Male  </td><td>Other  </td></tr>\n",
       "\t<tr><th scope=row>7400</th><td>   NA</td><td>13.0</td><td>26</td><td>Female</td><td>English</td></tr>\n",
       "\t<tr><th scope=row>7401</th><td> 5.75</td><td>14.0</td><td>21</td><td>Female</td><td>English</td></tr>\n",
       "\t<tr><th scope=row>7402</th><td>   NA</td><td> 5.0</td><td>79</td><td>Male  </td><td>Other  </td></tr>\n",
       "\t<tr><th scope=row>7403</th><td>   NA</td><td> 8.0</td><td>86</td><td>Female</td><td>English</td></tr>\n",
       "\t<tr><th scope=row>7404</th><td>   NA</td><td>17.0</td><td>66</td><td>Male  </td><td>English</td></tr>\n",
       "\t<tr><th scope=row>7405</th><td>   NA</td><td>13.0</td><td>37</td><td>Female</td><td>English</td></tr>\n",
       "\t<tr><th scope=row>7406</th><td>10.00</td><td>12.0</td><td>26</td><td>Male  </td><td>French </td></tr>\n",
       "\t<tr><th scope=row>7407</th><td>   NA</td><td>10.0</td><td>46</td><td>Female</td><td>French </td></tr>\n",
       "\t<tr><th scope=row>7408</th><td>23.57</td><td>12.1</td><td>44</td><td>Male  </td><td>English</td></tr>\n",
       "\t<tr><th scope=row>7409</th><td>   NA</td><td>10.6</td><td>55</td><td>Female</td><td>Other  </td></tr>\n",
       "\t<tr><th scope=row>7410</th><td>19.20</td><td>12.0</td><td>67</td><td>Male  </td><td>English</td></tr>\n",
       "\t<tr><th scope=row>7411</th><td>   NA</td><td>15.0</td><td>78</td><td>Female</td><td>French </td></tr>\n",
       "\t<tr><th scope=row>7412</th><td>   NA</td><td>12.0</td><td>53</td><td>Male  </td><td>English</td></tr>\n",
       "\t<tr><th scope=row>7413</th><td>14.07</td><td> 9.0</td><td>32</td><td>Male  </td><td>Other  </td></tr>\n",
       "\t<tr><th scope=row>7414</th><td> 5.60</td><td>12.0</td><td>37</td><td>Female</td><td>English</td></tr>\n",
       "\t<tr><th scope=row>7415</th><td>   NA</td><td>11.0</td><td>75</td><td>Female</td><td>English</td></tr>\n",
       "\t<tr><th scope=row>7416</th><td>16.66</td><td> 8.0</td><td>61</td><td>Female</td><td>English</td></tr>\n",
       "\t<tr><th scope=row>7417</th><td>   NA</td><td>14.5</td><td>67</td><td>Male  </td><td>Other  </td></tr>\n",
       "\t<tr><th scope=row>7418</th><td> 6.80</td><td>13.1</td><td>20</td><td>Male  </td><td>English</td></tr>\n",
       "\t<tr><th scope=row>7419</th><td>22.98</td><td>14.0</td><td>39</td><td>Male  </td><td>NA     </td></tr>\n",
       "\t<tr><th scope=row>7420</th><td>   NA</td><td>13.5</td><td>56</td><td>Female</td><td>French </td></tr>\n",
       "\t<tr><th scope=row>7421</th><td>   NA</td><td> 8.0</td><td>73</td><td>Male  </td><td>Other  </td></tr>\n",
       "\t<tr><th scope=row>7422</th><td>30.49</td><td>16.0</td><td>52</td><td>Male  </td><td>Other  </td></tr>\n",
       "\t<tr><th scope=row>7423</th><td>22.00</td><td>15.0</td><td>41</td><td>Male  </td><td>Other  </td></tr>\n",
       "\t<tr><th scope=row>7424</th><td>11.85</td><td>11.0</td><td>47</td><td>Female</td><td>English</td></tr>\n",
       "\t<tr><th scope=row>7425</th><td>23.00</td><td>14.0</td><td>30</td><td>Male  </td><td>English</td></tr>\n",
       "</tbody>\n",
       "</table>\n"
      ],
      "text/latex": [
       "A data.frame: 7425 × 5\n",
       "\\begin{tabular}{r|lllll}\n",
       "  & wages & education & age & sex & language\\\\\n",
       "  & <dbl> & <dbl> & <int> & <fct> & <fct>\\\\\n",
       "\\hline\n",
       "\t1 & 10.56 & 15.0 & 40 & Male   & English\\\\\n",
       "\t2 & 11.00 & 13.2 & 19 & Male   & English\\\\\n",
       "\t3 &    NA & 16.0 & 49 & Male   & Other  \\\\\n",
       "\t4 & 17.76 & 14.0 & 46 & Male   & Other  \\\\\n",
       "\t5 &    NA &  8.0 & 71 & Male   & English\\\\\n",
       "\t6 & 14.00 & 16.0 & 50 & Female & English\\\\\n",
       "\t7 &    NA & 12.0 & 70 & Female & English\\\\\n",
       "\t8 &    NA & 14.5 & 42 & Female & English\\\\\n",
       "\t9 &  8.20 & 15.0 & 31 & Male   & English\\\\\n",
       "\t10 &    NA & 10.0 & 56 & Female & English\\\\\n",
       "\t11 &    NA & 12.5 & 71 & Female & English\\\\\n",
       "\t12 & 16.97 & 13.5 & 30 & Female & English\\\\\n",
       "\t13 &    NA &  2.0 & 56 & Male   & English\\\\\n",
       "\t14 &  6.70 & 12.0 & 61 & Female & English\\\\\n",
       "\t15 &    NA & 12.0 & 25 & Female & English\\\\\n",
       "\t16 &    NA & 11.0 & 36 & Female & French \\\\\n",
       "\t17 &    NA & 11.0 & 54 & Female & English\\\\\n",
       "\t18 &    NA & 10.0 & 62 & Female & English\\\\\n",
       "\t19 &    NA & 10.5 & 70 & Female & English\\\\\n",
       "\t20 & 14.00 & 14.0 & 46 & Female & Other  \\\\\n",
       "\t21 &    NA &  8.0 & 49 & Female & English\\\\\n",
       "\t22 &    NA &  8.0 & 34 & Male   & Other  \\\\\n",
       "\t23 &    NA & 11.0 & 17 & Male   & English\\\\\n",
       "\t24 &    NA & 17.0 & 85 & Female & English\\\\\n",
       "\t25 & 19.20 & 18.0 & 43 & Male   & English\\\\\n",
       "\t26 &  7.25 & 11.0 & 17 & Male   & English\\\\\n",
       "\t27 &    NA & 11.0 & 77 & Female & English\\\\\n",
       "\t28 &    NA & 13.0 & 70 & Male   & English\\\\\n",
       "\t29 & 16.00 &  7.0 & 46 & Male   & Other  \\\\\n",
       "\t30 & 23.00 & 14.0 & 32 & Male   & English\\\\\n",
       "\t⋮ & ⋮ & ⋮ & ⋮ & ⋮ & ⋮\\\\\n",
       "\t7396 &    NA &  5.0 & 82 & Male   & Other  \\\\\n",
       "\t7397 & 12.00 & 13.0 & 38 & Female & English\\\\\n",
       "\t7398 & 27.59 & 19.0 & 33 & Male   & Other  \\\\\n",
       "\t7399 &    NA & 15.0 & 59 & Male   & Other  \\\\\n",
       "\t7400 &    NA & 13.0 & 26 & Female & English\\\\\n",
       "\t7401 &  5.75 & 14.0 & 21 & Female & English\\\\\n",
       "\t7402 &    NA &  5.0 & 79 & Male   & Other  \\\\\n",
       "\t7403 &    NA &  8.0 & 86 & Female & English\\\\\n",
       "\t7404 &    NA & 17.0 & 66 & Male   & English\\\\\n",
       "\t7405 &    NA & 13.0 & 37 & Female & English\\\\\n",
       "\t7406 & 10.00 & 12.0 & 26 & Male   & French \\\\\n",
       "\t7407 &    NA & 10.0 & 46 & Female & French \\\\\n",
       "\t7408 & 23.57 & 12.1 & 44 & Male   & English\\\\\n",
       "\t7409 &    NA & 10.6 & 55 & Female & Other  \\\\\n",
       "\t7410 & 19.20 & 12.0 & 67 & Male   & English\\\\\n",
       "\t7411 &    NA & 15.0 & 78 & Female & French \\\\\n",
       "\t7412 &    NA & 12.0 & 53 & Male   & English\\\\\n",
       "\t7413 & 14.07 &  9.0 & 32 & Male   & Other  \\\\\n",
       "\t7414 &  5.60 & 12.0 & 37 & Female & English\\\\\n",
       "\t7415 &    NA & 11.0 & 75 & Female & English\\\\\n",
       "\t7416 & 16.66 &  8.0 & 61 & Female & English\\\\\n",
       "\t7417 &    NA & 14.5 & 67 & Male   & Other  \\\\\n",
       "\t7418 &  6.80 & 13.1 & 20 & Male   & English\\\\\n",
       "\t7419 & 22.98 & 14.0 & 39 & Male   & NA     \\\\\n",
       "\t7420 &    NA & 13.5 & 56 & Female & French \\\\\n",
       "\t7421 &    NA &  8.0 & 73 & Male   & Other  \\\\\n",
       "\t7422 & 30.49 & 16.0 & 52 & Male   & Other  \\\\\n",
       "\t7423 & 22.00 & 15.0 & 41 & Male   & Other  \\\\\n",
       "\t7424 & 11.85 & 11.0 & 47 & Female & English\\\\\n",
       "\t7425 & 23.00 & 14.0 & 30 & Male   & English\\\\\n",
       "\\end{tabular}\n"
      ],
      "text/markdown": [
       "\n",
       "A data.frame: 7425 × 5\n",
       "\n",
       "| <!--/--> | wages &lt;dbl&gt; | education &lt;dbl&gt; | age &lt;int&gt; | sex &lt;fct&gt; | language &lt;fct&gt; |\n",
       "|---|---|---|---|---|---|\n",
       "| 1 | 10.56 | 15.0 | 40 | Male   | English |\n",
       "| 2 | 11.00 | 13.2 | 19 | Male   | English |\n",
       "| 3 |    NA | 16.0 | 49 | Male   | Other   |\n",
       "| 4 | 17.76 | 14.0 | 46 | Male   | Other   |\n",
       "| 5 |    NA |  8.0 | 71 | Male   | English |\n",
       "| 6 | 14.00 | 16.0 | 50 | Female | English |\n",
       "| 7 |    NA | 12.0 | 70 | Female | English |\n",
       "| 8 |    NA | 14.5 | 42 | Female | English |\n",
       "| 9 |  8.20 | 15.0 | 31 | Male   | English |\n",
       "| 10 |    NA | 10.0 | 56 | Female | English |\n",
       "| 11 |    NA | 12.5 | 71 | Female | English |\n",
       "| 12 | 16.97 | 13.5 | 30 | Female | English |\n",
       "| 13 |    NA |  2.0 | 56 | Male   | English |\n",
       "| 14 |  6.70 | 12.0 | 61 | Female | English |\n",
       "| 15 |    NA | 12.0 | 25 | Female | English |\n",
       "| 16 |    NA | 11.0 | 36 | Female | French  |\n",
       "| 17 |    NA | 11.0 | 54 | Female | English |\n",
       "| 18 |    NA | 10.0 | 62 | Female | English |\n",
       "| 19 |    NA | 10.5 | 70 | Female | English |\n",
       "| 20 | 14.00 | 14.0 | 46 | Female | Other   |\n",
       "| 21 |    NA |  8.0 | 49 | Female | English |\n",
       "| 22 |    NA |  8.0 | 34 | Male   | Other   |\n",
       "| 23 |    NA | 11.0 | 17 | Male   | English |\n",
       "| 24 |    NA | 17.0 | 85 | Female | English |\n",
       "| 25 | 19.20 | 18.0 | 43 | Male   | English |\n",
       "| 26 |  7.25 | 11.0 | 17 | Male   | English |\n",
       "| 27 |    NA | 11.0 | 77 | Female | English |\n",
       "| 28 |    NA | 13.0 | 70 | Male   | English |\n",
       "| 29 | 16.00 |  7.0 | 46 | Male   | Other   |\n",
       "| 30 | 23.00 | 14.0 | 32 | Male   | English |\n",
       "| ⋮ | ⋮ | ⋮ | ⋮ | ⋮ | ⋮ |\n",
       "| 7396 |    NA |  5.0 | 82 | Male   | Other   |\n",
       "| 7397 | 12.00 | 13.0 | 38 | Female | English |\n",
       "| 7398 | 27.59 | 19.0 | 33 | Male   | Other   |\n",
       "| 7399 |    NA | 15.0 | 59 | Male   | Other   |\n",
       "| 7400 |    NA | 13.0 | 26 | Female | English |\n",
       "| 7401 |  5.75 | 14.0 | 21 | Female | English |\n",
       "| 7402 |    NA |  5.0 | 79 | Male   | Other   |\n",
       "| 7403 |    NA |  8.0 | 86 | Female | English |\n",
       "| 7404 |    NA | 17.0 | 66 | Male   | English |\n",
       "| 7405 |    NA | 13.0 | 37 | Female | English |\n",
       "| 7406 | 10.00 | 12.0 | 26 | Male   | French  |\n",
       "| 7407 |    NA | 10.0 | 46 | Female | French  |\n",
       "| 7408 | 23.57 | 12.1 | 44 | Male   | English |\n",
       "| 7409 |    NA | 10.6 | 55 | Female | Other   |\n",
       "| 7410 | 19.20 | 12.0 | 67 | Male   | English |\n",
       "| 7411 |    NA | 15.0 | 78 | Female | French  |\n",
       "| 7412 |    NA | 12.0 | 53 | Male   | English |\n",
       "| 7413 | 14.07 |  9.0 | 32 | Male   | Other   |\n",
       "| 7414 |  5.60 | 12.0 | 37 | Female | English |\n",
       "| 7415 |    NA | 11.0 | 75 | Female | English |\n",
       "| 7416 | 16.66 |  8.0 | 61 | Female | English |\n",
       "| 7417 |    NA | 14.5 | 67 | Male   | Other   |\n",
       "| 7418 |  6.80 | 13.1 | 20 | Male   | English |\n",
       "| 7419 | 22.98 | 14.0 | 39 | Male   | NA      |\n",
       "| 7420 |    NA | 13.5 | 56 | Female | French  |\n",
       "| 7421 |    NA |  8.0 | 73 | Male   | Other   |\n",
       "| 7422 | 30.49 | 16.0 | 52 | Male   | Other   |\n",
       "| 7423 | 22.00 | 15.0 | 41 | Male   | Other   |\n",
       "| 7424 | 11.85 | 11.0 | 47 | Female | English |\n",
       "| 7425 | 23.00 | 14.0 | 30 | Male   | English |\n",
       "\n"
      ],
      "text/plain": [
       "     wages education age sex    language\n",
       "1    10.56 15.0      40  Male   English \n",
       "2    11.00 13.2      19  Male   English \n",
       "3       NA 16.0      49  Male   Other   \n",
       "4    17.76 14.0      46  Male   Other   \n",
       "5       NA  8.0      71  Male   English \n",
       "6    14.00 16.0      50  Female English \n",
       "7       NA 12.0      70  Female English \n",
       "8       NA 14.5      42  Female English \n",
       "9     8.20 15.0      31  Male   English \n",
       "10      NA 10.0      56  Female English \n",
       "11      NA 12.5      71  Female English \n",
       "12   16.97 13.5      30  Female English \n",
       "13      NA  2.0      56  Male   English \n",
       "14    6.70 12.0      61  Female English \n",
       "15      NA 12.0      25  Female English \n",
       "16      NA 11.0      36  Female French  \n",
       "17      NA 11.0      54  Female English \n",
       "18      NA 10.0      62  Female English \n",
       "19      NA 10.5      70  Female English \n",
       "20   14.00 14.0      46  Female Other   \n",
       "21      NA  8.0      49  Female English \n",
       "22      NA  8.0      34  Male   Other   \n",
       "23      NA 11.0      17  Male   English \n",
       "24      NA 17.0      85  Female English \n",
       "25   19.20 18.0      43  Male   English \n",
       "26    7.25 11.0      17  Male   English \n",
       "27      NA 11.0      77  Female English \n",
       "28      NA 13.0      70  Male   English \n",
       "29   16.00  7.0      46  Male   Other   \n",
       "30   23.00 14.0      32  Male   English \n",
       "⋮    ⋮     ⋮         ⋮   ⋮      ⋮       \n",
       "7396    NA  5.0      82  Male   Other   \n",
       "7397 12.00 13.0      38  Female English \n",
       "7398 27.59 19.0      33  Male   Other   \n",
       "7399    NA 15.0      59  Male   Other   \n",
       "7400    NA 13.0      26  Female English \n",
       "7401  5.75 14.0      21  Female English \n",
       "7402    NA  5.0      79  Male   Other   \n",
       "7403    NA  8.0      86  Female English \n",
       "7404    NA 17.0      66  Male   English \n",
       "7405    NA 13.0      37  Female English \n",
       "7406 10.00 12.0      26  Male   French  \n",
       "7407    NA 10.0      46  Female French  \n",
       "7408 23.57 12.1      44  Male   English \n",
       "7409    NA 10.6      55  Female Other   \n",
       "7410 19.20 12.0      67  Male   English \n",
       "7411    NA 15.0      78  Female French  \n",
       "7412    NA 12.0      53  Male   English \n",
       "7413 14.07  9.0      32  Male   Other   \n",
       "7414  5.60 12.0      37  Female English \n",
       "7415    NA 11.0      75  Female English \n",
       "7416 16.66  8.0      61  Female English \n",
       "7417    NA 14.5      67  Male   Other   \n",
       "7418  6.80 13.1      20  Male   English \n",
       "7419 22.98 14.0      39  Male   NA      \n",
       "7420    NA 13.5      56  Female French  \n",
       "7421    NA  8.0      73  Male   Other   \n",
       "7422 30.49 16.0      52  Male   Other   \n",
       "7423 22.00 15.0      41  Male   Other   \n",
       "7424 11.85 11.0      47  Female English \n",
       "7425 23.00 14.0      30  Male   English "
      ]
     },
     "metadata": {},
     "output_type": "display_data"
    }
   ],
   "source": [
    "SLID"
   ]
  },
  {
   "cell_type": "code",
   "execution_count": 26,
   "id": "f904d88f",
   "metadata": {},
   "outputs": [
    {
     "data": {
      "text/html": [
       "<table class=\"dataframe\">\n",
       "<caption>A data.frame: 6 × 5</caption>\n",
       "<thead>\n",
       "\t<tr><th></th><th scope=col>wages</th><th scope=col>education</th><th scope=col>age</th><th scope=col>sex</th><th scope=col>language</th></tr>\n",
       "\t<tr><th></th><th scope=col>&lt;dbl&gt;</th><th scope=col>&lt;dbl&gt;</th><th scope=col>&lt;int&gt;</th><th scope=col>&lt;fct&gt;</th><th scope=col>&lt;fct&gt;</th></tr>\n",
       "</thead>\n",
       "<tbody>\n",
       "\t<tr><th scope=row>1</th><td>10.56</td><td>15.0</td><td>40</td><td>Male  </td><td>English</td></tr>\n",
       "\t<tr><th scope=row>2</th><td>11.00</td><td>13.2</td><td>19</td><td>Male  </td><td>English</td></tr>\n",
       "\t<tr><th scope=row>4</th><td>17.76</td><td>14.0</td><td>46</td><td>Male  </td><td>Other  </td></tr>\n",
       "\t<tr><th scope=row>6</th><td>14.00</td><td>16.0</td><td>50</td><td>Female</td><td>English</td></tr>\n",
       "\t<tr><th scope=row>9</th><td> 8.20</td><td>15.0</td><td>31</td><td>Male  </td><td>English</td></tr>\n",
       "\t<tr><th scope=row>12</th><td>16.97</td><td>13.5</td><td>30</td><td>Female</td><td>English</td></tr>\n",
       "</tbody>\n",
       "</table>\n"
      ],
      "text/latex": [
       "A data.frame: 6 × 5\n",
       "\\begin{tabular}{r|lllll}\n",
       "  & wages & education & age & sex & language\\\\\n",
       "  & <dbl> & <dbl> & <int> & <fct> & <fct>\\\\\n",
       "\\hline\n",
       "\t1 & 10.56 & 15.0 & 40 & Male   & English\\\\\n",
       "\t2 & 11.00 & 13.2 & 19 & Male   & English\\\\\n",
       "\t4 & 17.76 & 14.0 & 46 & Male   & Other  \\\\\n",
       "\t6 & 14.00 & 16.0 & 50 & Female & English\\\\\n",
       "\t9 &  8.20 & 15.0 & 31 & Male   & English\\\\\n",
       "\t12 & 16.97 & 13.5 & 30 & Female & English\\\\\n",
       "\\end{tabular}\n"
      ],
      "text/markdown": [
       "\n",
       "A data.frame: 6 × 5\n",
       "\n",
       "| <!--/--> | wages &lt;dbl&gt; | education &lt;dbl&gt; | age &lt;int&gt; | sex &lt;fct&gt; | language &lt;fct&gt; |\n",
       "|---|---|---|---|---|---|\n",
       "| 1 | 10.56 | 15.0 | 40 | Male   | English |\n",
       "| 2 | 11.00 | 13.2 | 19 | Male   | English |\n",
       "| 4 | 17.76 | 14.0 | 46 | Male   | Other   |\n",
       "| 6 | 14.00 | 16.0 | 50 | Female | English |\n",
       "| 9 |  8.20 | 15.0 | 31 | Male   | English |\n",
       "| 12 | 16.97 | 13.5 | 30 | Female | English |\n",
       "\n"
      ],
      "text/plain": [
       "   wages education age sex    language\n",
       "1  10.56 15.0      40  Male   English \n",
       "2  11.00 13.2      19  Male   English \n",
       "4  17.76 14.0      46  Male   Other   \n",
       "6  14.00 16.0      50  Female English \n",
       "9   8.20 15.0      31  Male   English \n",
       "12 16.97 13.5      30  Female English "
      ]
     },
     "metadata": {},
     "output_type": "display_data"
    }
   ],
   "source": [
    "ds = SLID[complete.cases(SLID),]\n",
    "head(ds)"
   ]
  },
  {
   "cell_type": "code",
   "execution_count": 29,
   "id": "72495a87",
   "metadata": {},
   "outputs": [
    {
     "name": "stderr",
     "output_type": "stream",
     "text": [
      "Warning message in is.na(x):\n",
      "\"is.na() applied to non-(list or vector) of type 'language'\"\n",
      "Warning message in is.na(x):\n",
      "\"is.na() applied to non-(list or vector) of type 'language'\"\n",
      "Warning message in is.na(x):\n",
      "\"is.na() applied to non-(list or vector) of type 'language'\"\n"
     ]
    },
    {
     "ename": "ERROR",
     "evalue": "Error in x[floor(d)] + x[ceiling(d)]: non-numeric argument to binary operator\n",
     "output_type": "error",
     "traceback": [
      "Error in x[floor(d)] + x[ceiling(d)]: non-numeric argument to binary operator\nTraceback:\n",
      "1. boxplot.stats(ds$wages ~ ds$language)",
      "2. stats::fivenum(x, na.rm = TRUE)"
     ]
    }
   ],
   "source": [
    "boxplot.stats(ds$wages~ds$language)"
   ]
  },
  {
   "cell_type": "code",
   "execution_count": 32,
   "id": "5b0beac6",
   "metadata": {},
   "outputs": [
    {
     "data": {
      "image/png": "[encoded data removed]",
      "text/plain": [
       "Plot with title \"성별 임금\""
      ]
     },
     "metadata": {
      "image/png": {
       "height": 420,
       "width": 420
      }
     },
     "output_type": "display_data"
    }
   ],
   "source": [
    "boxplot(wages~sex, data = ds,\n",
    "       main = '성별 임금')"
   ]
  },
  {
   "cell_type": "code",
   "execution_count": 30,
   "id": "a506deda",
   "metadata": {},
   "outputs": [
    {
     "data": {
      "image/png": "[encoded data removed]",
      "text/plain": [
       "Plot with title \"사용 언어별 임금\""
      ]
     },
     "metadata": {
      "image/png": {
       "height": 420,
       "width": 420
      }
     },
     "output_type": "display_data"
    }
   ],
   "source": [
    "boxplot(wages~language, data=ds,\n",
    "       main = '사용 언어별 임금')"
   ]
  },
  {
   "cell_type": "code",
   "execution_count": 33,
   "id": "8f982e17",
   "metadata": {},
   "outputs": [],
   "source": [
    "ds$edu_group = NA"
   ]
  },
  {
   "cell_type": "code",
   "execution_count": 35,
   "id": "1c5c5e6d",
   "metadata": {},
   "outputs": [
    {
     "data": {
      "image/png": "[encoded data removed]",
      "text/plain": [
       "Plot with title \"교육기관 별 임금\""
      ]
     },
     "metadata": {
      "image/png": {
       "height": 420,
       "width": 420
      }
     },
     "output_type": "display_data"
    }
   ],
   "source": [
    "ds$edu_group[ds$education < 10] = 'A'\n",
    "ds$edu_group[ds$education >= 10 & ds$education < 13] = 'B'\n",
    "ds$edu_group[ds$education >= 13 & ds$education < 15] = 'C'\n",
    "ds$edu_group[ds$education >= 15 & ds$education < 18] = 'D'\n",
    "ds$edu_group[ds$education >= 18] = 'E'\n",
    "\n",
    "boxplot(wages~edu_group, data = ds,\n",
    "       main = '교육기관 별 임금',\n",
    "       col = rainbow(5))"
   ]
  },
  {
   "cell_type": "code",
   "execution_count": 36,
   "id": "bf2f5df2",
   "metadata": {},
   "outputs": [],
   "source": [
    "library(carData)"
   ]
  },
  {
   "cell_type": "code",
   "execution_count": 37,
   "id": "0b839bbb",
   "metadata": {},
   "outputs": [
    {
     "data": {
      "text/html": [
       "<table class=\"dataframe\">\n",
       "<caption>A data.frame: 6 × 6</caption>\n",
       "<thead>\n",
       "\t<tr><th></th><th scope=col>poverty</th><th scope=col>religion</th><th scope=col>degree</th><th scope=col>country</th><th scope=col>age</th><th scope=col>gender</th></tr>\n",
       "\t<tr><th></th><th scope=col>&lt;ord&gt;</th><th scope=col>&lt;fct&gt;</th><th scope=col>&lt;fct&gt;</th><th scope=col>&lt;fct&gt;</th><th scope=col>&lt;int&gt;</th><th scope=col>&lt;fct&gt;</th></tr>\n",
       "</thead>\n",
       "<tbody>\n",
       "\t<tr><th scope=row>1</th><td>Too Little </td><td>yes</td><td>no </td><td>USA</td><td>44</td><td>male  </td></tr>\n",
       "\t<tr><th scope=row>2</th><td>About Right</td><td>yes</td><td>no </td><td>USA</td><td>40</td><td>female</td></tr>\n",
       "\t<tr><th scope=row>3</th><td>Too Little </td><td>yes</td><td>no </td><td>USA</td><td>36</td><td>female</td></tr>\n",
       "\t<tr><th scope=row>4</th><td>Too Much   </td><td>yes</td><td>yes</td><td>USA</td><td>25</td><td>female</td></tr>\n",
       "\t<tr><th scope=row>5</th><td>Too Little </td><td>yes</td><td>yes</td><td>USA</td><td>39</td><td>male  </td></tr>\n",
       "\t<tr><th scope=row>6</th><td>About Right</td><td>yes</td><td>no </td><td>USA</td><td>80</td><td>female</td></tr>\n",
       "</tbody>\n",
       "</table>\n"
      ],
      "text/latex": [
       "A data.frame: 6 × 6\n",
       "\\begin{tabular}{r|llllll}\n",
       "  & poverty & religion & degree & country & age & gender\\\\\n",
       "  & <ord> & <fct> & <fct> & <fct> & <int> & <fct>\\\\\n",
       "\\hline\n",
       "\t1 & Too Little  & yes & no  & USA & 44 & male  \\\\\n",
       "\t2 & About Right & yes & no  & USA & 40 & female\\\\\n",
       "\t3 & Too Little  & yes & no  & USA & 36 & female\\\\\n",
       "\t4 & Too Much    & yes & yes & USA & 25 & female\\\\\n",
       "\t5 & Too Little  & yes & yes & USA & 39 & male  \\\\\n",
       "\t6 & About Right & yes & no  & USA & 80 & female\\\\\n",
       "\\end{tabular}\n"
      ],
      "text/markdown": [
       "\n",
       "A data.frame: 6 × 6\n",
       "\n",
       "| <!--/--> | poverty &lt;ord&gt; | religion &lt;fct&gt; | degree &lt;fct&gt; | country &lt;fct&gt; | age &lt;int&gt; | gender &lt;fct&gt; |\n",
       "|---|---|---|---|---|---|---|\n",
       "| 1 | Too Little  | yes | no  | USA | 44 | male   |\n",
       "| 2 | About Right | yes | no  | USA | 40 | female |\n",
       "| 3 | Too Little  | yes | no  | USA | 36 | female |\n",
       "| 4 | Too Much    | yes | yes | USA | 25 | female |\n",
       "| 5 | Too Little  | yes | yes | USA | 39 | male   |\n",
       "| 6 | About Right | yes | no  | USA | 80 | female |\n",
       "\n"
      ],
      "text/plain": [
       "  poverty     religion degree country age gender\n",
       "1 Too Little  yes      no     USA     44  male  \n",
       "2 About Right yes      no     USA     40  female\n",
       "3 Too Little  yes      no     USA     36  female\n",
       "4 Too Much    yes      yes    USA     25  female\n",
       "5 Too Little  yes      yes    USA     39  male  \n",
       "6 About Right yes      no     USA     80  female"
      ]
     },
     "metadata": {},
     "output_type": "display_data"
    }
   ],
   "source": [
    "head(WVS)"
   ]
  },
  {
   "cell_type": "code",
   "execution_count": 38,
   "id": "7a4c5288",
   "metadata": {},
   "outputs": [],
   "source": [
    "pop = table(WVS$country)"
   ]
  },
  {
   "cell_type": "code",
   "execution_count": 39,
   "id": "f8e5271f",
   "metadata": {},
   "outputs": [
    {
     "data": {
      "text/html": [
       "<table class=\"dataframe\">\n",
       "<caption>A data.frame: 4595 × 6</caption>\n",
       "<thead>\n",
       "\t<tr><th></th><th scope=col>poverty</th><th scope=col>religion</th><th scope=col>degree</th><th scope=col>country</th><th scope=col>age</th><th scope=col>gender</th></tr>\n",
       "\t<tr><th></th><th scope=col>&lt;ord&gt;</th><th scope=col>&lt;fct&gt;</th><th scope=col>&lt;fct&gt;</th><th scope=col>&lt;fct&gt;</th><th scope=col>&lt;int&gt;</th><th scope=col>&lt;fct&gt;</th></tr>\n",
       "</thead>\n",
       "<tbody>\n",
       "\t<tr><th scope=row>1</th><td>Too Little </td><td>yes</td><td>no </td><td>USA</td><td>44</td><td>male  </td></tr>\n",
       "\t<tr><th scope=row>2</th><td>About Right</td><td>yes</td><td>no </td><td>USA</td><td>40</td><td>female</td></tr>\n",
       "\t<tr><th scope=row>3</th><td>Too Little </td><td>yes</td><td>no </td><td>USA</td><td>36</td><td>female</td></tr>\n",
       "\t<tr><th scope=row>4</th><td>Too Much   </td><td>yes</td><td>yes</td><td>USA</td><td>25</td><td>female</td></tr>\n",
       "\t<tr><th scope=row>5</th><td>Too Little </td><td>yes</td><td>yes</td><td>USA</td><td>39</td><td>male  </td></tr>\n",
       "\t<tr><th scope=row>6</th><td>About Right</td><td>yes</td><td>no </td><td>USA</td><td>80</td><td>female</td></tr>\n",
       "\t<tr><th scope=row>7</th><td>Too Much   </td><td>yes</td><td>no </td><td>USA</td><td>48</td><td>female</td></tr>\n",
       "\t<tr><th scope=row>8</th><td>Too Little </td><td>yes</td><td>no </td><td>USA</td><td>32</td><td>male  </td></tr>\n",
       "\t<tr><th scope=row>9</th><td>Too Little </td><td>yes</td><td>no </td><td>USA</td><td>74</td><td>female</td></tr>\n",
       "\t<tr><th scope=row>10</th><td>Too Little </td><td>yes</td><td>no </td><td>USA</td><td>30</td><td>male  </td></tr>\n",
       "\t<tr><th scope=row>11</th><td>Too Little </td><td>yes</td><td>yes</td><td>USA</td><td>32</td><td>female</td></tr>\n",
       "\t<tr><th scope=row>12</th><td>About Right</td><td>yes</td><td>yes</td><td>USA</td><td>74</td><td>female</td></tr>\n",
       "\t<tr><th scope=row>13</th><td>Too Little </td><td>yes</td><td>no </td><td>USA</td><td>48</td><td>male  </td></tr>\n",
       "\t<tr><th scope=row>14</th><td>Too Much   </td><td>yes</td><td>no </td><td>USA</td><td>42</td><td>male  </td></tr>\n",
       "\t<tr><th scope=row>16</th><td>Too Much   </td><td>yes</td><td>no </td><td>USA</td><td>36</td><td>female</td></tr>\n",
       "\t<tr><th scope=row>17</th><td>Too Much   </td><td>yes</td><td>no </td><td>USA</td><td>49</td><td>male  </td></tr>\n",
       "\t<tr><th scope=row>18</th><td>Too Little </td><td>yes</td><td>no </td><td>USA</td><td>38</td><td>female</td></tr>\n",
       "\t<tr><th scope=row>19</th><td>About Right</td><td>yes</td><td>no </td><td>USA</td><td>79</td><td>female</td></tr>\n",
       "\t<tr><th scope=row>20</th><td>About Right</td><td>yes</td><td>no </td><td>USA</td><td>59</td><td>male  </td></tr>\n",
       "\t<tr><th scope=row>21</th><td>Too Much   </td><td>yes</td><td>yes</td><td>USA</td><td>50</td><td>female</td></tr>\n",
       "\t<tr><th scope=row>22</th><td>Too Much   </td><td>yes</td><td>no </td><td>USA</td><td>68</td><td>male  </td></tr>\n",
       "\t<tr><th scope=row>23</th><td>Too Little </td><td>yes</td><td>no </td><td>USA</td><td>35</td><td>female</td></tr>\n",
       "\t<tr><th scope=row>24</th><td>Too Little </td><td>yes</td><td>no </td><td>USA</td><td>76</td><td>male  </td></tr>\n",
       "\t<tr><th scope=row>25</th><td>Too Little </td><td>yes</td><td>no </td><td>USA</td><td>62</td><td>female</td></tr>\n",
       "\t<tr><th scope=row>26</th><td>Too Little </td><td>yes</td><td>no </td><td>USA</td><td>80</td><td>female</td></tr>\n",
       "\t<tr><th scope=row>27</th><td>Too Little </td><td>yes</td><td>no </td><td>USA</td><td>18</td><td>male  </td></tr>\n",
       "\t<tr><th scope=row>28</th><td>Too Little </td><td>yes</td><td>no </td><td>USA</td><td>50</td><td>female</td></tr>\n",
       "\t<tr><th scope=row>29</th><td>Too Much   </td><td>yes</td><td>no </td><td>USA</td><td>38</td><td>male  </td></tr>\n",
       "\t<tr><th scope=row>30</th><td>About Right</td><td>yes</td><td>no </td><td>USA</td><td>48</td><td>female</td></tr>\n",
       "\t<tr><th scope=row>31</th><td>Too Little </td><td>yes</td><td>no </td><td>USA</td><td>37</td><td>female</td></tr>\n",
       "\t<tr><th scope=row>⋮</th><td>⋮</td><td>⋮</td><td>⋮</td><td>⋮</td><td>⋮</td><td>⋮</td></tr>\n",
       "\t<tr><th scope=row>5352</th><td>Too Little </td><td>yes</td><td>no </td><td>Sweden</td><td>74</td><td>female</td></tr>\n",
       "\t<tr><th scope=row>5353</th><td>Too Little </td><td>yes</td><td>no </td><td>Sweden</td><td>60</td><td>male  </td></tr>\n",
       "\t<tr><th scope=row>5354</th><td>Too Little </td><td>yes</td><td>no </td><td>Sweden</td><td>46</td><td>male  </td></tr>\n",
       "\t<tr><th scope=row>5355</th><td>About Right</td><td>yes</td><td>no </td><td>Sweden</td><td>22</td><td>male  </td></tr>\n",
       "\t<tr><th scope=row>5356</th><td>About Right</td><td>yes</td><td>no </td><td>Sweden</td><td>22</td><td>female</td></tr>\n",
       "\t<tr><th scope=row>5357</th><td>About Right</td><td>yes</td><td>no </td><td>Sweden</td><td>75</td><td>female</td></tr>\n",
       "\t<tr><th scope=row>5358</th><td>Too Little </td><td>yes</td><td>no </td><td>Sweden</td><td>39</td><td>female</td></tr>\n",
       "\t<tr><th scope=row>5359</th><td>About Right</td><td>yes</td><td>no </td><td>Sweden</td><td>53</td><td>male  </td></tr>\n",
       "\t<tr><th scope=row>5360</th><td>Too Little </td><td>yes</td><td>no </td><td>Sweden</td><td>59</td><td>male  </td></tr>\n",
       "\t<tr><th scope=row>5361</th><td>About Right</td><td>yes</td><td>yes</td><td>Sweden</td><td>44</td><td>female</td></tr>\n",
       "\t<tr><th scope=row>5362</th><td>About Right</td><td>yes</td><td>yes</td><td>Sweden</td><td>32</td><td>male  </td></tr>\n",
       "\t<tr><th scope=row>5363</th><td>Too Little </td><td>yes</td><td>yes</td><td>Sweden</td><td>53</td><td>female</td></tr>\n",
       "\t<tr><th scope=row>5364</th><td>Too Little </td><td>yes</td><td>no </td><td>Sweden</td><td>36</td><td>male  </td></tr>\n",
       "\t<tr><th scope=row>5365</th><td>About Right</td><td>yes</td><td>yes</td><td>Sweden</td><td>33</td><td>male  </td></tr>\n",
       "\t<tr><th scope=row>5366</th><td>Too Little </td><td>yes</td><td>no </td><td>Sweden</td><td>62</td><td>male  </td></tr>\n",
       "\t<tr><th scope=row>5367</th><td>About Right</td><td>yes</td><td>no </td><td>Sweden</td><td>49</td><td>female</td></tr>\n",
       "\t<tr><th scope=row>5368</th><td>About Right</td><td>yes</td><td>no </td><td>Sweden</td><td>64</td><td>male  </td></tr>\n",
       "\t<tr><th scope=row>5369</th><td>Too Little </td><td>yes</td><td>no </td><td>Sweden</td><td>41</td><td>female</td></tr>\n",
       "\t<tr><th scope=row>5370</th><td>Too Little </td><td>yes</td><td>no </td><td>Sweden</td><td>55</td><td>female</td></tr>\n",
       "\t<tr><th scope=row>5371</th><td>Too Little </td><td>yes</td><td>yes</td><td>Sweden</td><td>60</td><td>female</td></tr>\n",
       "\t<tr><th scope=row>5372</th><td>Too Little </td><td>yes</td><td>yes</td><td>Sweden</td><td>50</td><td>male  </td></tr>\n",
       "\t<tr><th scope=row>5373</th><td>About Right</td><td>yes</td><td>no </td><td>Sweden</td><td>56</td><td>female</td></tr>\n",
       "\t<tr><th scope=row>5374</th><td>Too Little </td><td>yes</td><td>no </td><td>Sweden</td><td>34</td><td>female</td></tr>\n",
       "\t<tr><th scope=row>5375</th><td>About Right</td><td>yes</td><td>yes</td><td>Sweden</td><td>36</td><td>male  </td></tr>\n",
       "\t<tr><th scope=row>5376</th><td>About Right</td><td>yes</td><td>yes</td><td>Sweden</td><td>38</td><td>male  </td></tr>\n",
       "\t<tr><th scope=row>5377</th><td>About Right</td><td>yes</td><td>no </td><td>Sweden</td><td>49</td><td>male  </td></tr>\n",
       "\t<tr><th scope=row>5378</th><td>Too Little </td><td>yes</td><td>no </td><td>Sweden</td><td>37</td><td>female</td></tr>\n",
       "\t<tr><th scope=row>5379</th><td>Too Little </td><td>yes</td><td>no </td><td>Sweden</td><td>54</td><td>female</td></tr>\n",
       "\t<tr><th scope=row>5380</th><td>Too Little </td><td>yes</td><td>no </td><td>Sweden</td><td>32</td><td>male  </td></tr>\n",
       "\t<tr><th scope=row>5381</th><td>Too Little </td><td>yes</td><td>no </td><td>Sweden</td><td>36</td><td>female</td></tr>\n",
       "</tbody>\n",
       "</table>\n"
      ],
      "text/latex": [
       "A data.frame: 4595 × 6\n",
       "\\begin{tabular}{r|llllll}\n",
       "  & poverty & religion & degree & country & age & gender\\\\\n",
       "  & <ord> & <fct> & <fct> & <fct> & <int> & <fct>\\\\\n",
       "\\hline\n",
       "\t1 & Too Little  & yes & no  & USA & 44 & male  \\\\\n",
       "\t2 & About Right & yes & no  & USA & 40 & female\\\\\n",
       "\t3 & Too Little  & yes & no  & USA & 36 & female\\\\\n",
       "\t4 & Too Much    & yes & yes & USA & 25 & female\\\\\n",
       "\t5 & Too Little  & yes & yes & USA & 39 & male  \\\\\n",
       "\t6 & About Right & yes & no  & USA & 80 & female\\\\\n",
       "\t7 & Too Much    & yes & no  & USA & 48 & female\\\\\n",
       "\t8 & Too Little  & yes & no  & USA & 32 & male  \\\\\n",
       "\t9 & Too Little  & yes & no  & USA & 74 & female\\\\\n",
       "\t10 & Too Little  & yes & no  & USA & 30 & male  \\\\\n",
       "\t11 & Too Little  & yes & yes & USA & 32 & female\\\\\n",
       "\t12 & About Right & yes & yes & USA & 74 & female\\\\\n",
       "\t13 & Too Little  & yes & no  & USA & 48 & male  \\\\\n",
       "\t14 & Too Much    & yes & no  & USA & 42 & male  \\\\\n",
       "\t16 & Too Much    & yes & no  & USA & 36 & female\\\\\n",
       "\t17 & Too Much    & yes & no  & USA & 49 & male  \\\\\n",
       "\t18 & Too Little  & yes & no  & USA & 38 & female\\\\\n",
       "\t19 & About Right & yes & no  & USA & 79 & female\\\\\n",
       "\t20 & About Right & yes & no  & USA & 59 & male  \\\\\n",
       "\t21 & Too Much    & yes & yes & USA & 50 & female\\\\\n",
       "\t22 & Too Much    & yes & no  & USA & 68 & male  \\\\\n",
       "\t23 & Too Little  & yes & no  & USA & 35 & female\\\\\n",
       "\t24 & Too Little  & yes & no  & USA & 76 & male  \\\\\n",
       "\t25 & Too Little  & yes & no  & USA & 62 & female\\\\\n",
       "\t26 & Too Little  & yes & no  & USA & 80 & female\\\\\n",
       "\t27 & Too Little  & yes & no  & USA & 18 & male  \\\\\n",
       "\t28 & Too Little  & yes & no  & USA & 50 & female\\\\\n",
       "\t29 & Too Much    & yes & no  & USA & 38 & male  \\\\\n",
       "\t30 & About Right & yes & no  & USA & 48 & female\\\\\n",
       "\t31 & Too Little  & yes & no  & USA & 37 & female\\\\\n",
       "\t⋮ & ⋮ & ⋮ & ⋮ & ⋮ & ⋮ & ⋮\\\\\n",
       "\t5352 & Too Little  & yes & no  & Sweden & 74 & female\\\\\n",
       "\t5353 & Too Little  & yes & no  & Sweden & 60 & male  \\\\\n",
       "\t5354 & Too Little  & yes & no  & Sweden & 46 & male  \\\\\n",
       "\t5355 & About Right & yes & no  & Sweden & 22 & male  \\\\\n",
       "\t5356 & About Right & yes & no  & Sweden & 22 & female\\\\\n",
       "\t5357 & About Right & yes & no  & Sweden & 75 & female\\\\\n",
       "\t5358 & Too Little  & yes & no  & Sweden & 39 & female\\\\\n",
       "\t5359 & About Right & yes & no  & Sweden & 53 & male  \\\\\n",
       "\t5360 & Too Little  & yes & no  & Sweden & 59 & male  \\\\\n",
       "\t5361 & About Right & yes & yes & Sweden & 44 & female\\\\\n",
       "\t5362 & About Right & yes & yes & Sweden & 32 & male  \\\\\n",
       "\t5363 & Too Little  & yes & yes & Sweden & 53 & female\\\\\n",
       "\t5364 & Too Little  & yes & no  & Sweden & 36 & male  \\\\\n",
       "\t5365 & About Right & yes & yes & Sweden & 33 & male  \\\\\n",
       "\t5366 & Too Little  & yes & no  & Sweden & 62 & male  \\\\\n",
       "\t5367 & About Right & yes & no  & Sweden & 49 & female\\\\\n",
       "\t5368 & About Right & yes & no  & Sweden & 64 & male  \\\\\n",
       "\t5369 & Too Little  & yes & no  & Sweden & 41 & female\\\\\n",
       "\t5370 & Too Little  & yes & no  & Sweden & 55 & female\\\\\n",
       "\t5371 & Too Little  & yes & yes & Sweden & 60 & female\\\\\n",
       "\t5372 & Too Little  & yes & yes & Sweden & 50 & male  \\\\\n",
       "\t5373 & About Right & yes & no  & Sweden & 56 & female\\\\\n",
       "\t5374 & Too Little  & yes & no  & Sweden & 34 & female\\\\\n",
       "\t5375 & About Right & yes & yes & Sweden & 36 & male  \\\\\n",
       "\t5376 & About Right & yes & yes & Sweden & 38 & male  \\\\\n",
       "\t5377 & About Right & yes & no  & Sweden & 49 & male  \\\\\n",
       "\t5378 & Too Little  & yes & no  & Sweden & 37 & female\\\\\n",
       "\t5379 & Too Little  & yes & no  & Sweden & 54 & female\\\\\n",
       "\t5380 & Too Little  & yes & no  & Sweden & 32 & male  \\\\\n",
       "\t5381 & Too Little  & yes & no  & Sweden & 36 & female\\\\\n",
       "\\end{tabular}\n"
      ],
      "text/markdown": [
       "\n",
       "A data.frame: 4595 × 6\n",
       "\n",
       "| <!--/--> | poverty &lt;ord&gt; | religion &lt;fct&gt; | degree &lt;fct&gt; | country &lt;fct&gt; | age &lt;int&gt; | gender &lt;fct&gt; |\n",
       "|---|---|---|---|---|---|---|\n",
       "| 1 | Too Little  | yes | no  | USA | 44 | male   |\n",
       "| 2 | About Right | yes | no  | USA | 40 | female |\n",
       "| 3 | Too Little  | yes | no  | USA | 36 | female |\n",
       "| 4 | Too Much    | yes | yes | USA | 25 | female |\n",
       "| 5 | Too Little  | yes | yes | USA | 39 | male   |\n",
       "| 6 | About Right | yes | no  | USA | 80 | female |\n",
       "| 7 | Too Much    | yes | no  | USA | 48 | female |\n",
       "| 8 | Too Little  | yes | no  | USA | 32 | male   |\n",
       "| 9 | Too Little  | yes | no  | USA | 74 | female |\n",
       "| 10 | Too Little  | yes | no  | USA | 30 | male   |\n",
       "| 11 | Too Little  | yes | yes | USA | 32 | female |\n",
       "| 12 | About Right | yes | yes | USA | 74 | female |\n",
       "| 13 | Too Little  | yes | no  | USA | 48 | male   |\n",
       "| 14 | Too Much    | yes | no  | USA | 42 | male   |\n",
       "| 16 | Too Much    | yes | no  | USA | 36 | female |\n",
       "| 17 | Too Much    | yes | no  | USA | 49 | male   |\n",
       "| 18 | Too Little  | yes | no  | USA | 38 | female |\n",
       "| 19 | About Right | yes | no  | USA | 79 | female |\n",
       "| 20 | About Right | yes | no  | USA | 59 | male   |\n",
       "| 21 | Too Much    | yes | yes | USA | 50 | female |\n",
       "| 22 | Too Much    | yes | no  | USA | 68 | male   |\n",
       "| 23 | Too Little  | yes | no  | USA | 35 | female |\n",
       "| 24 | Too Little  | yes | no  | USA | 76 | male   |\n",
       "| 25 | Too Little  | yes | no  | USA | 62 | female |\n",
       "| 26 | Too Little  | yes | no  | USA | 80 | female |\n",
       "| 27 | Too Little  | yes | no  | USA | 18 | male   |\n",
       "| 28 | Too Little  | yes | no  | USA | 50 | female |\n",
       "| 29 | Too Much    | yes | no  | USA | 38 | male   |\n",
       "| 30 | About Right | yes | no  | USA | 48 | female |\n",
       "| 31 | Too Little  | yes | no  | USA | 37 | female |\n",
       "| ⋮ | ⋮ | ⋮ | ⋮ | ⋮ | ⋮ | ⋮ |\n",
       "| 5352 | Too Little  | yes | no  | Sweden | 74 | female |\n",
       "| 5353 | Too Little  | yes | no  | Sweden | 60 | male   |\n",
       "| 5354 | Too Little  | yes | no  | Sweden | 46 | male   |\n",
       "| 5355 | About Right | yes | no  | Sweden | 22 | male   |\n",
       "| 5356 | About Right | yes | no  | Sweden | 22 | female |\n",
       "| 5357 | About Right | yes | no  | Sweden | 75 | female |\n",
       "| 5358 | Too Little  | yes | no  | Sweden | 39 | female |\n",
       "| 5359 | About Right | yes | no  | Sweden | 53 | male   |\n",
       "| 5360 | Too Little  | yes | no  | Sweden | 59 | male   |\n",
       "| 5361 | About Right | yes | yes | Sweden | 44 | female |\n",
       "| 5362 | About Right | yes | yes | Sweden | 32 | male   |\n",
       "| 5363 | Too Little  | yes | yes | Sweden | 53 | female |\n",
       "| 5364 | Too Little  | yes | no  | Sweden | 36 | male   |\n",
       "| 5365 | About Right | yes | yes | Sweden | 33 | male   |\n",
       "| 5366 | Too Little  | yes | no  | Sweden | 62 | male   |\n",
       "| 5367 | About Right | yes | no  | Sweden | 49 | female |\n",
       "| 5368 | About Right | yes | no  | Sweden | 64 | male   |\n",
       "| 5369 | Too Little  | yes | no  | Sweden | 41 | female |\n",
       "| 5370 | Too Little  | yes | no  | Sweden | 55 | female |\n",
       "| 5371 | Too Little  | yes | yes | Sweden | 60 | female |\n",
       "| 5372 | Too Little  | yes | yes | Sweden | 50 | male   |\n",
       "| 5373 | About Right | yes | no  | Sweden | 56 | female |\n",
       "| 5374 | Too Little  | yes | no  | Sweden | 34 | female |\n",
       "| 5375 | About Right | yes | yes | Sweden | 36 | male   |\n",
       "| 5376 | About Right | yes | yes | Sweden | 38 | male   |\n",
       "| 5377 | About Right | yes | no  | Sweden | 49 | male   |\n",
       "| 5378 | Too Little  | yes | no  | Sweden | 37 | female |\n",
       "| 5379 | Too Little  | yes | no  | Sweden | 54 | female |\n",
       "| 5380 | Too Little  | yes | no  | Sweden | 32 | male   |\n",
       "| 5381 | Too Little  | yes | no  | Sweden | 36 | female |\n",
       "\n"
      ],
      "text/plain": [
       "     poverty     religion degree country age gender\n",
       "1    Too Little  yes      no     USA     44  male  \n",
       "2    About Right yes      no     USA     40  female\n",
       "3    Too Little  yes      no     USA     36  female\n",
       "4    Too Much    yes      yes    USA     25  female\n",
       "5    Too Little  yes      yes    USA     39  male  \n",
       "6    About Right yes      no     USA     80  female\n",
       "7    Too Much    yes      no     USA     48  female\n",
       "8    Too Little  yes      no     USA     32  male  \n",
       "9    Too Little  yes      no     USA     74  female\n",
       "10   Too Little  yes      no     USA     30  male  \n",
       "11   Too Little  yes      yes    USA     32  female\n",
       "12   About Right yes      yes    USA     74  female\n",
       "13   Too Little  yes      no     USA     48  male  \n",
       "14   Too Much    yes      no     USA     42  male  \n",
       "16   Too Much    yes      no     USA     36  female\n",
       "17   Too Much    yes      no     USA     49  male  \n",
       "18   Too Little  yes      no     USA     38  female\n",
       "19   About Right yes      no     USA     79  female\n",
       "20   About Right yes      no     USA     59  male  \n",
       "21   Too Much    yes      yes    USA     50  female\n",
       "22   Too Much    yes      no     USA     68  male  \n",
       "23   Too Little  yes      no     USA     35  female\n",
       "24   Too Little  yes      no     USA     76  male  \n",
       "25   Too Little  yes      no     USA     62  female\n",
       "26   Too Little  yes      no     USA     80  female\n",
       "27   Too Little  yes      no     USA     18  male  \n",
       "28   Too Little  yes      no     USA     50  female\n",
       "29   Too Much    yes      no     USA     38  male  \n",
       "30   About Right yes      no     USA     48  female\n",
       "31   Too Little  yes      no     USA     37  female\n",
       "⋮    ⋮           ⋮        ⋮      ⋮       ⋮   ⋮     \n",
       "5352 Too Little  yes      no     Sweden  74  female\n",
       "5353 Too Little  yes      no     Sweden  60  male  \n",
       "5354 Too Little  yes      no     Sweden  46  male  \n",
       "5355 About Right yes      no     Sweden  22  male  \n",
       "5356 About Right yes      no     Sweden  22  female\n",
       "5357 About Right yes      no     Sweden  75  female\n",
       "5358 Too Little  yes      no     Sweden  39  female\n",
       "5359 About Right yes      no     Sweden  53  male  \n",
       "5360 Too Little  yes      no     Sweden  59  male  \n",
       "5361 About Right yes      yes    Sweden  44  female\n",
       "5362 About Right yes      yes    Sweden  32  male  \n",
       "5363 Too Little  yes      yes    Sweden  53  female\n",
       "5364 Too Little  yes      no     Sweden  36  male  \n",
       "5365 About Right yes      yes    Sweden  33  male  \n",
       "5366 Too Little  yes      no     Sweden  62  male  \n",
       "5367 About Right yes      no     Sweden  49  female\n",
       "5368 About Right yes      no     Sweden  64  male  \n",
       "5369 Too Little  yes      no     Sweden  41  female\n",
       "5370 Too Little  yes      no     Sweden  55  female\n",
       "5371 Too Little  yes      yes    Sweden  60  female\n",
       "5372 Too Little  yes      yes    Sweden  50  male  \n",
       "5373 About Right yes      no     Sweden  56  female\n",
       "5374 Too Little  yes      no     Sweden  34  female\n",
       "5375 About Right yes      yes    Sweden  36  male  \n",
       "5376 About Right yes      yes    Sweden  38  male  \n",
       "5377 About Right yes      no     Sweden  49  male  \n",
       "5378 Too Little  yes      no     Sweden  37  female\n",
       "5379 Too Little  yes      no     Sweden  54  female\n",
       "5380 Too Little  yes      no     Sweden  32  male  \n",
       "5381 Too Little  yes      no     Sweden  36  female"
      ]
     },
     "metadata": {},
     "output_type": "display_data"
    }
   ],
   "source": [
    "tmp = WVS[WVS$religion == 'yes', ]\n",
    "tmp"
   ]
  },
  {
   "cell_type": "code",
   "execution_count": 40,
   "id": "20df260a",
   "metadata": {},
   "outputs": [],
   "source": [
    "rel = table(tmp$country)"
   ]
  },
  {
   "cell_type": "code",
   "execution_count": 41,
   "id": "f3576603",
   "metadata": {},
   "outputs": [
    {
     "data": {
      "text/plain": [
       "\n",
       "Australia    Norway    Sweden       USA \n",
       "     1499      1018       988      1090 "
      ]
     },
     "metadata": {},
     "output_type": "display_data"
    }
   ],
   "source": [
    "rel"
   ]
  },
  {
   "cell_type": "code",
   "execution_count": 42,
   "id": "2c997485",
   "metadata": {},
   "outputs": [
    {
     "data": {
      "text/plain": [
       "\n",
       "Australia    Norway    Sweden       USA \n",
       "     1874      1127      1003      1377 "
      ]
     },
     "metadata": {},
     "output_type": "display_data"
    }
   ],
   "source": [
    "pop"
   ]
  },
  {
   "cell_type": "code",
   "execution_count": 43,
   "id": "3c2ac0cd",
   "metadata": {},
   "outputs": [],
   "source": [
    "stats = rel / pop"
   ]
  },
  {
   "cell_type": "code",
   "execution_count": 44,
   "id": "ae66a721",
   "metadata": {},
   "outputs": [
    {
     "data": {
      "text/plain": [
       "\n",
       "Australia    Norway    Sweden       USA \n",
       "0.7998933 0.9032831 0.9850449 0.7915759 "
      ]
     },
     "metadata": {},
     "output_type": "display_data"
    }
   ],
   "source": [
    "stats"
   ]
  },
  {
   "cell_type": "code",
   "execution_count": 45,
   "id": "ac8e425c",
   "metadata": {},
   "outputs": [],
   "source": [
    "max.score = rep(1, 4)"
   ]
  },
  {
   "cell_type": "code",
   "execution_count": 46,
   "id": "38d6755e",
   "metadata": {},
   "outputs": [],
   "source": [
    "min.score = rep(0, 4)"
   ]
  },
  {
   "cell_type": "code",
   "execution_count": 47,
   "id": "054f9d7f",
   "metadata": {},
   "outputs": [
    {
     "data": {
      "text/html": [
       "<style>\n",
       ".list-inline {list-style: none; margin:0; padding: 0}\n",
       ".list-inline>li {display: inline-block}\n",
       ".list-inline>li:not(:last-child)::after {content: \"\\00b7\"; padding: 0 .5ex}\n",
       "</style>\n",
       "<ol class=list-inline><li>1</li><li>1</li><li>1</li><li>1</li></ol>\n"
      ],
      "text/latex": [
       "\\begin{enumerate*}\n",
       "\\item 1\n",
       "\\item 1\n",
       "\\item 1\n",
       "\\item 1\n",
       "\\end{enumerate*}\n"
      ],
      "text/markdown": [
       "1. 1\n",
       "2. 1\n",
       "3. 1\n",
       "4. 1\n",
       "\n",
       "\n"
      ],
      "text/plain": [
       "[1] 1 1 1 1"
      ]
     },
     "metadata": {},
     "output_type": "display_data"
    }
   ],
   "source": [
    "max.score"
   ]
  },
  {
   "cell_type": "code",
   "execution_count": 48,
   "id": "7fba2bc3",
   "metadata": {},
   "outputs": [
    {
     "data": {
      "text/html": [
       "<style>\n",
       ".list-inline {list-style: none; margin:0; padding: 0}\n",
       ".list-inline>li {display: inline-block}\n",
       ".list-inline>li:not(:last-child)::after {content: \"\\00b7\"; padding: 0 .5ex}\n",
       "</style>\n",
       "<ol class=list-inline><li>0</li><li>0</li><li>0</li><li>0</li></ol>\n"
      ],
      "text/latex": [
       "\\begin{enumerate*}\n",
       "\\item 0\n",
       "\\item 0\n",
       "\\item 0\n",
       "\\item 0\n",
       "\\end{enumerate*}\n"
      ],
      "text/markdown": [
       "1. 0\n",
       "2. 0\n",
       "3. 0\n",
       "4. 0\n",
       "\n",
       "\n"
      ],
      "text/plain": [
       "[1] 0 0 0 0"
      ]
     },
     "metadata": {},
     "output_type": "display_data"
    }
   ],
   "source": [
    "min.score"
   ]
  },
  {
   "cell_type": "code",
   "execution_count": 50,
   "id": "20e9ddde",
   "metadata": {},
   "outputs": [],
   "source": [
    "ds = rbind(max.score, min.score, stats)"
   ]
  },
  {
   "cell_type": "code",
   "execution_count": 51,
   "id": "df3f68ca",
   "metadata": {},
   "outputs": [
    {
     "data": {
      "text/html": [
       "<table class=\"dataframe\">\n",
       "<caption>A matrix: 3 × 4 of type dbl</caption>\n",
       "<thead>\n",
       "\t<tr><th></th><th scope=col>Australia</th><th scope=col>Norway</th><th scope=col>Sweden</th><th scope=col>USA</th></tr>\n",
       "</thead>\n",
       "<tbody>\n",
       "\t<tr><th scope=row>max.score</th><td>1.0000000</td><td>1.0000000</td><td>1.0000000</td><td>1.0000000</td></tr>\n",
       "\t<tr><th scope=row>min.score</th><td>0.0000000</td><td>0.0000000</td><td>0.0000000</td><td>0.0000000</td></tr>\n",
       "\t<tr><th scope=row>stats</th><td>0.7998933</td><td>0.9032831</td><td>0.9850449</td><td>0.7915759</td></tr>\n",
       "</tbody>\n",
       "</table>\n"
      ],
      "text/latex": [
       "A matrix: 3 × 4 of type dbl\n",
       "\\begin{tabular}{r|llll}\n",
       "  & Australia & Norway & Sweden & USA\\\\\n",
       "\\hline\n",
       "\tmax.score & 1.0000000 & 1.0000000 & 1.0000000 & 1.0000000\\\\\n",
       "\tmin.score & 0.0000000 & 0.0000000 & 0.0000000 & 0.0000000\\\\\n",
       "\tstats & 0.7998933 & 0.9032831 & 0.9850449 & 0.7915759\\\\\n",
       "\\end{tabular}\n"
      ],
      "text/markdown": [
       "\n",
       "A matrix: 3 × 4 of type dbl\n",
       "\n",
       "| <!--/--> | Australia | Norway | Sweden | USA |\n",
       "|---|---|---|---|---|\n",
       "| max.score | 1.0000000 | 1.0000000 | 1.0000000 | 1.0000000 |\n",
       "| min.score | 0.0000000 | 0.0000000 | 0.0000000 | 0.0000000 |\n",
       "| stats | 0.7998933 | 0.9032831 | 0.9850449 | 0.7915759 |\n",
       "\n"
      ],
      "text/plain": [
       "          Australia Norway    Sweden    USA      \n",
       "max.score 1.0000000 1.0000000 1.0000000 1.0000000\n",
       "min.score 0.0000000 0.0000000 0.0000000 0.0000000\n",
       "stats     0.7998933 0.9032831 0.9850449 0.7915759"
      ]
     },
     "metadata": {},
     "output_type": "display_data"
    }
   ],
   "source": [
    "ds"
   ]
  },
  {
   "cell_type": "code",
   "execution_count": 52,
   "id": "0981d283",
   "metadata": {},
   "outputs": [],
   "source": [
    "ds = data.frame(ds)"
   ]
  },
  {
   "cell_type": "code",
   "execution_count": 53,
   "id": "43ef13c3",
   "metadata": {},
   "outputs": [
    {
     "data": {
      "text/html": [
       "<table class=\"dataframe\">\n",
       "<caption>A data.frame: 3 × 4</caption>\n",
       "<thead>\n",
       "\t<tr><th></th><th scope=col>Australia</th><th scope=col>Norway</th><th scope=col>Sweden</th><th scope=col>USA</th></tr>\n",
       "\t<tr><th></th><th scope=col>&lt;dbl&gt;</th><th scope=col>&lt;dbl&gt;</th><th scope=col>&lt;dbl&gt;</th><th scope=col>&lt;dbl&gt;</th></tr>\n",
       "</thead>\n",
       "<tbody>\n",
       "\t<tr><th scope=row>max.score</th><td>1.0000000</td><td>1.0000000</td><td>1.0000000</td><td>1.0000000</td></tr>\n",
       "\t<tr><th scope=row>min.score</th><td>0.0000000</td><td>0.0000000</td><td>0.0000000</td><td>0.0000000</td></tr>\n",
       "\t<tr><th scope=row>stats</th><td>0.7998933</td><td>0.9032831</td><td>0.9850449</td><td>0.7915759</td></tr>\n",
       "</tbody>\n",
       "</table>\n"
      ],
      "text/latex": [
       "A data.frame: 3 × 4\n",
       "\\begin{tabular}{r|llll}\n",
       "  & Australia & Norway & Sweden & USA\\\\\n",
       "  & <dbl> & <dbl> & <dbl> & <dbl>\\\\\n",
       "\\hline\n",
       "\tmax.score & 1.0000000 & 1.0000000 & 1.0000000 & 1.0000000\\\\\n",
       "\tmin.score & 0.0000000 & 0.0000000 & 0.0000000 & 0.0000000\\\\\n",
       "\tstats & 0.7998933 & 0.9032831 & 0.9850449 & 0.7915759\\\\\n",
       "\\end{tabular}\n"
      ],
      "text/markdown": [
       "\n",
       "A data.frame: 3 × 4\n",
       "\n",
       "| <!--/--> | Australia &lt;dbl&gt; | Norway &lt;dbl&gt; | Sweden &lt;dbl&gt; | USA &lt;dbl&gt; |\n",
       "|---|---|---|---|---|\n",
       "| max.score | 1.0000000 | 1.0000000 | 1.0000000 | 1.0000000 |\n",
       "| min.score | 0.0000000 | 0.0000000 | 0.0000000 | 0.0000000 |\n",
       "| stats | 0.7998933 | 0.9032831 | 0.9850449 | 0.7915759 |\n",
       "\n"
      ],
      "text/plain": [
       "          Australia Norway    Sweden    USA      \n",
       "max.score 1.0000000 1.0000000 1.0000000 1.0000000\n",
       "min.score 0.0000000 0.0000000 0.0000000 0.0000000\n",
       "stats     0.7998933 0.9032831 0.9850449 0.7915759"
      ]
     },
     "metadata": {},
     "output_type": "display_data"
    }
   ],
   "source": [
    "ds"
   ]
  },
  {
   "cell_type": "code",
   "execution_count": 55,
   "id": "11d06a4d",
   "metadata": {},
   "outputs": [],
   "source": [
    "library(fmsb)"
   ]
  },
  {
   "cell_type": "code",
   "execution_count": 65,
   "id": "3a07b8d0",
   "metadata": {},
   "outputs": [
    {
     "data": {
      "image/png": "[encoded data removed]",
      "text/plain": [
       "Plot with title \"국가별 종교인 비율\""
      ]
     },
     "metadata": {
      "image/png": {
       "height": 420,
       "width": 420
      }
     },
     "output_type": "display_data"
    }
   ],
   "source": [
    "radarchart(ds,\n",
    "          pcol = 'Dark green',\n",
    "          pfcol = rgb(0.2, 0.5, 0.5, 0.5),\n",
    "          plwd = 1,\n",
    "          cglwd = 1,\n",
    "          cglcol = 'pink',\n",
    "          axistype = 1,\n",
    "          axislabcol = 'grey',\n",
    "          caxislabels=seq(0, 1, 0.25),\n",
    "          title = '국가별 종교인 비율')"
   ]
  },
  {
   "cell_type": "code",
   "execution_count": 66,
   "id": "83412266",
   "metadata": {},
   "outputs": [
    {
     "name": "stderr",
     "output_type": "stream",
     "text": [
      "Warning message:\n",
      "\"package 'ggplot2' was built under R version 4.3.2\"\n"
     ]
    }
   ],
   "source": [
    "library(ggplot2)"
   ]
  },
  {
   "cell_type": "code",
   "execution_count": 67,
   "id": "74ba4710",
   "metadata": {},
   "outputs": [],
   "source": [
    "df = aggregate(airquality[,'Temp'],\n",
    "              by=list(month = airquality$Month), FUN = mean)"
   ]
  },
  {
   "cell_type": "code",
   "execution_count": 68,
   "id": "6deed82e",
   "metadata": {},
   "outputs": [
    {
     "data": {
      "text/html": [
       "<table class=\"dataframe\">\n",
       "<caption>A data.frame: 5 × 2</caption>\n",
       "<thead>\n",
       "\t<tr><th scope=col>month</th><th scope=col>x</th></tr>\n",
       "\t<tr><th scope=col>&lt;int&gt;</th><th scope=col>&lt;dbl&gt;</th></tr>\n",
       "</thead>\n",
       "<tbody>\n",
       "\t<tr><td>5</td><td>65.54839</td></tr>\n",
       "\t<tr><td>6</td><td>79.10000</td></tr>\n",
       "\t<tr><td>7</td><td>83.90323</td></tr>\n",
       "\t<tr><td>8</td><td>83.96774</td></tr>\n",
       "\t<tr><td>9</td><td>76.90000</td></tr>\n",
       "</tbody>\n",
       "</table>\n"
      ],
      "text/latex": [
       "A data.frame: 5 × 2\n",
       "\\begin{tabular}{ll}\n",
       " month & x\\\\\n",
       " <int> & <dbl>\\\\\n",
       "\\hline\n",
       "\t 5 & 65.54839\\\\\n",
       "\t 6 & 79.10000\\\\\n",
       "\t 7 & 83.90323\\\\\n",
       "\t 8 & 83.96774\\\\\n",
       "\t 9 & 76.90000\\\\\n",
       "\\end{tabular}\n"
      ],
      "text/markdown": [
       "\n",
       "A data.frame: 5 × 2\n",
       "\n",
       "| month &lt;int&gt; | x &lt;dbl&gt; |\n",
       "|---|---|\n",
       "| 5 | 65.54839 |\n",
       "| 6 | 79.10000 |\n",
       "| 7 | 83.90323 |\n",
       "| 8 | 83.96774 |\n",
       "| 9 | 76.90000 |\n",
       "\n"
      ],
      "text/plain": [
       "  month x       \n",
       "1 5     65.54839\n",
       "2 6     79.10000\n",
       "3 7     83.90323\n",
       "4 8     83.96774\n",
       "5 9     76.90000"
      ]
     },
     "metadata": {},
     "output_type": "display_data"
    }
   ],
   "source": [
    "df"
   ]
  },
  {
   "cell_type": "code",
   "execution_count": 70,
   "id": "8bdf2fba",
   "metadata": {},
   "outputs": [
    {
     "data": {
      "image/png": "[encoded data removed]",
      "text/plain": [
       "plot without title"
      ]
     },
     "metadata": {
      "image/png": {
       "height": 420,
       "width": 420
      }
     },
     "output_type": "display_data"
    }
   ],
   "source": [
    "ggplot(df, aes(x=month, y=x)) + geom_bar(stat='identity',\n",
    "                                        width = 0.7, fill ='green')"
   ]
  },
  {
   "cell_type": "code",
   "execution_count": 71,
   "id": "f041291c",
   "metadata": {},
   "outputs": [
    {
     "data": {
      "image/png": "[encoded data removed]",
      "text/plain": [
       "plot without title"
      ]
     },
     "metadata": {
      "image/png": {
       "height": 420,
       "width": 420
      }
     },
     "output_type": "display_data"
    }
   ],
   "source": [
    "df = airquality[complete.cases(airquality),]\n",
    "ggplot(data = df, aes(x = factor(Month), y = Ozone,\n",
    "                     fill = factor(Month))) + geom_boxplot()"
   ]
  },
  {
   "cell_type": "code",
   "execution_count": 69,
   "id": "b4afb969",
   "metadata": {},
   "outputs": [
    {
     "name": "stderr",
     "output_type": "stream",
     "text": [
      "Warning message:\n",
      "\"\u001b[1m\u001b[22mContinuous \u001b[32mx\u001b[39m aesthetic\n",
      "\u001b[36mℹ\u001b[39m did you forget `aes(group = ...)`?\"\n"
     ]
    },
    {
     "data": {
      "image/png": "[encoded data removed]",
      "text/plain": [
       "plot without title"
      ]
     },
     "metadata": {
      "image/png": {
       "height": 420,
       "width": 420
      }
     },
     "output_type": "display_data"
    }
   ],
   "source": [
    "ggplot(df, aes(x = month, y = x)) + geom_boxplot()"
   ]
  },
  {
   "cell_type": "code",
   "execution_count": 72,
   "id": "078186df",
   "metadata": {},
   "outputs": [
    {
     "data": {
      "image/png": "[encoded data removed]",
      "text/plain": [
       "plot without title"
      ]
     },
     "metadata": {
      "image/png": {
       "height": 420,
       "width": 420
      }
     },
     "output_type": "display_data"
    }
   ],
   "source": [
    "ggplot(data = df, aes(x=Temp, y=Ozone, color = 'orange')) + geom_point(size = 3)"
   ]
  },
  {
   "cell_type": "code",
   "execution_count": 73,
   "id": "fcfae765",
   "metadata": {},
   "outputs": [
    {
     "data": {
      "image/png": "[encoded data removed]",
      "text/plain": [
       "plot without title"
      ]
     },
     "metadata": {
      "image/png": {
       "height": 420,
       "width": 420
      }
     },
     "output_type": "display_data"
    }
   ],
   "source": [
    "df.7 = subset(df, Month == 7)\n",
    "ggplot(data = df.7, aes(x=Day, y=Ozone)) + geom_line(col = 'red')"
   ]
  },
  {
   "cell_type": "code",
   "execution_count": 75,
   "id": "26683e0e",
   "metadata": {},
   "outputs": [
    {
     "data": {
      "image/png": "[encoded data removed]",
      "text/plain": [
       "plot without title"
      ]
     },
     "metadata": {
      "image/png": {
       "height": 420,
       "width": 420
      }
     },
     "output_type": "display_data"
    }
   ],
   "source": [
    "ggplot(data = df[df$Month == 7, ], aes(x=Day, y=Ozone)) + geom_line(col = 'red')"
   ]
  },
  {
   "cell_type": "code",
   "execution_count": 77,
   "id": "1e540902",
   "metadata": {},
   "outputs": [
    {
     "data": {
      "image/png": "[encoded data removed]",
      "text/plain": [
       "plot without title"
      ]
     },
     "metadata": {
      "image/png": {
       "height": 420,
       "width": 420
      }
     },
     "output_type": "display_data"
    }
   ],
   "source": [
    "x = seq(-3, 3, 0.1)\n",
    "y = x^3\n",
    "plot(x, y, type ='l')"
   ]
  },
  {
   "cell_type": "code",
   "execution_count": 78,
   "id": "ac1feacd",
   "metadata": {},
   "outputs": [],
   "source": [
    "x = seq(0, 8, 0.1)"
   ]
  },
  {
   "cell_type": "code",
   "execution_count": 79,
   "id": "912b3013",
   "metadata": {},
   "outputs": [],
   "source": [
    "y1 = x ^ 2"
   ]
  },
  {
   "cell_type": "code",
   "execution_count": 80,
   "id": "13788d9f",
   "metadata": {},
   "outputs": [
    {
     "data": {
      "text/html": [
       "<style>\n",
       ".list-inline {list-style: none; margin:0; padding: 0}\n",
       ".list-inline>li {display: inline-block}\n",
       ".list-inline>li:not(:last-child)::after {content: \"\\00b7\"; padding: 0 .5ex}\n",
       "</style>\n",
       "<ol class=list-inline><li>0</li><li>0.01</li><li>0.04</li><li>0.09</li><li>0.16</li><li>0.25</li><li>0.36</li><li>0.49</li><li>0.64</li><li>0.81</li><li>1</li><li>1.21</li><li>1.44</li><li>1.69</li><li>1.96</li><li>2.25</li><li>2.56</li><li>2.89</li><li>3.24</li><li>3.61</li><li>4</li><li>4.41</li><li>4.84</li><li>5.29</li><li>5.76</li><li>6.25</li><li>6.76</li><li>7.29</li><li>7.84</li><li>8.41</li><li>9</li><li>9.61</li><li>10.24</li><li>10.89</li><li>11.56</li><li>12.25</li><li>12.96</li><li>13.69</li><li>14.44</li><li>15.21</li><li>16</li><li>16.81</li><li>17.64</li><li>18.49</li><li>19.36</li><li>20.25</li><li>21.16</li><li>22.09</li><li>23.04</li><li>24.01</li><li>25</li><li>26.01</li><li>27.04</li><li>28.09</li><li>29.16</li><li>30.25</li><li>31.36</li><li>32.49</li><li>33.64</li><li>34.81</li><li>36</li><li>37.21</li><li>38.44</li><li>39.69</li><li>40.96</li><li>42.25</li><li>43.56</li><li>44.89</li><li>46.24</li><li>47.61</li><li>49</li><li>50.41</li><li>51.84</li><li>53.29</li><li>54.76</li><li>56.25</li><li>57.76</li><li>59.29</li><li>60.84</li><li>62.41</li><li>64</li></ol>\n"
      ],
      "text/latex": [
       "\\begin{enumerate*}\n",
       "\\item 0\n",
       "\\item 0.01\n",
       "\\item 0.04\n",
       "\\item 0.09\n",
       "\\item 0.16\n",
       "\\item 0.25\n",
       "\\item 0.36\n",
       "\\item 0.49\n",
       "\\item 0.64\n",
       "\\item 0.81\n",
       "\\item 1\n",
       "\\item 1.21\n",
       "\\item 1.44\n",
       "\\item 1.69\n",
       "\\item 1.96\n",
       "\\item 2.25\n",
       "\\item 2.56\n",
       "\\item 2.89\n",
       "\\item 3.24\n",
       "\\item 3.61\n",
       "\\item 4\n",
       "\\item 4.41\n",
       "\\item 4.84\n",
       "\\item 5.29\n",
       "\\item 5.76\n",
       "\\item 6.25\n",
       "\\item 6.76\n",
       "\\item 7.29\n",
       "\\item 7.84\n",
       "\\item 8.41\n",
       "\\item 9\n",
       "\\item 9.61\n",
       "\\item 10.24\n",
       "\\item 10.89\n",
       "\\item 11.56\n",
       "\\item 12.25\n",
       "\\item 12.96\n",
       "\\item 13.69\n",
       "\\item 14.44\n",
       "\\item 15.21\n",
       "\\item 16\n",
       "\\item 16.81\n",
       "\\item 17.64\n",
       "\\item 18.49\n",
       "\\item 19.36\n",
       "\\item 20.25\n",
       "\\item 21.16\n",
       "\\item 22.09\n",
       "\\item 23.04\n",
       "\\item 24.01\n",
       "\\item 25\n",
       "\\item 26.01\n",
       "\\item 27.04\n",
       "\\item 28.09\n",
       "\\item 29.16\n",
       "\\item 30.25\n",
       "\\item 31.36\n",
       "\\item 32.49\n",
       "\\item 33.64\n",
       "\\item 34.81\n",
       "\\item 36\n",
       "\\item 37.21\n",
       "\\item 38.44\n",
       "\\item 39.69\n",
       "\\item 40.96\n",
       "\\item 42.25\n",
       "\\item 43.56\n",
       "\\item 44.89\n",
       "\\item 46.24\n",
       "\\item 47.61\n",
       "\\item 49\n",
       "\\item 50.41\n",
       "\\item 51.84\n",
       "\\item 53.29\n",
       "\\item 54.76\n",
       "\\item 56.25\n",
       "\\item 57.76\n",
       "\\item 59.29\n",
       "\\item 60.84\n",
       "\\item 62.41\n",
       "\\item 64\n",
       "\\end{enumerate*}\n"
      ],
      "text/markdown": [
       "1. 0\n",
       "2. 0.01\n",
       "3. 0.04\n",
       "4. 0.09\n",
       "5. 0.16\n",
       "6. 0.25\n",
       "7. 0.36\n",
       "8. 0.49\n",
       "9. 0.64\n",
       "10. 0.81\n",
       "11. 1\n",
       "12. 1.21\n",
       "13. 1.44\n",
       "14. 1.69\n",
       "15. 1.96\n",
       "16. 2.25\n",
       "17. 2.56\n",
       "18. 2.89\n",
       "19. 3.24\n",
       "20. 3.61\n",
       "21. 4\n",
       "22. 4.41\n",
       "23. 4.84\n",
       "24. 5.29\n",
       "25. 5.76\n",
       "26. 6.25\n",
       "27. 6.76\n",
       "28. 7.29\n",
       "29. 7.84\n",
       "30. 8.41\n",
       "31. 9\n",
       "32. 9.61\n",
       "33. 10.24\n",
       "34. 10.89\n",
       "35. 11.56\n",
       "36. 12.25\n",
       "37. 12.96\n",
       "38. 13.69\n",
       "39. 14.44\n",
       "40. 15.21\n",
       "41. 16\n",
       "42. 16.81\n",
       "43. 17.64\n",
       "44. 18.49\n",
       "45. 19.36\n",
       "46. 20.25\n",
       "47. 21.16\n",
       "48. 22.09\n",
       "49. 23.04\n",
       "50. 24.01\n",
       "51. 25\n",
       "52. 26.01\n",
       "53. 27.04\n",
       "54. 28.09\n",
       "55. 29.16\n",
       "56. 30.25\n",
       "57. 31.36\n",
       "58. 32.49\n",
       "59. 33.64\n",
       "60. 34.81\n",
       "61. 36\n",
       "62. 37.21\n",
       "63. 38.44\n",
       "64. 39.69\n",
       "65. 40.96\n",
       "66. 42.25\n",
       "67. 43.56\n",
       "68. 44.89\n",
       "69. 46.24\n",
       "70. 47.61\n",
       "71. 49\n",
       "72. 50.41\n",
       "73. 51.84\n",
       "74. 53.29\n",
       "75. 54.76\n",
       "76. 56.25\n",
       "77. 57.76\n",
       "78. 59.29\n",
       "79. 60.84\n",
       "80. 62.41\n",
       "81. 64\n",
       "\n",
       "\n"
      ],
      "text/plain": [
       " [1]  0.00  0.01  0.04  0.09  0.16  0.25  0.36  0.49  0.64  0.81  1.00  1.21\n",
       "[13]  1.44  1.69  1.96  2.25  2.56  2.89  3.24  3.61  4.00  4.41  4.84  5.29\n",
       "[25]  5.76  6.25  6.76  7.29  7.84  8.41  9.00  9.61 10.24 10.89 11.56 12.25\n",
       "[37] 12.96 13.69 14.44 15.21 16.00 16.81 17.64 18.49 19.36 20.25 21.16 22.09\n",
       "[49] 23.04 24.01 25.00 26.01 27.04 28.09 29.16 30.25 31.36 32.49 33.64 34.81\n",
       "[61] 36.00 37.21 38.44 39.69 40.96 42.25 43.56 44.89 46.24 47.61 49.00 50.41\n",
       "[73] 51.84 53.29 54.76 56.25 57.76 59.29 60.84 62.41 64.00"
      ]
     },
     "metadata": {},
     "output_type": "display_data"
    }
   ],
   "source": [
    "y1"
   ]
  },
  {
   "cell_type": "code",
   "execution_count": 81,
   "id": "f71022eb",
   "metadata": {},
   "outputs": [],
   "source": [
    "y2 = x ^ 3"
   ]
  },
  {
   "cell_type": "code",
   "execution_count": 82,
   "id": "f4d47318",
   "metadata": {},
   "outputs": [
    {
     "data": {
      "text/html": [
       "<style>\n",
       ".list-inline {list-style: none; margin:0; padding: 0}\n",
       ".list-inline>li {display: inline-block}\n",
       ".list-inline>li:not(:last-child)::after {content: \"\\00b7\"; padding: 0 .5ex}\n",
       "</style>\n",
       "<ol class=list-inline><li>0</li><li>0.001</li><li>0.008</li><li>0.027</li><li>0.064</li><li>0.125</li><li>0.216</li><li>0.343</li><li>0.512</li><li>0.729</li><li>1</li><li>1.331</li><li>1.728</li><li>2.197</li><li>2.744</li><li>3.375</li><li>4.096</li><li>4.913</li><li>5.832</li><li>6.859</li><li>8</li><li>9.261</li><li>10.648</li><li>12.167</li><li>13.824</li><li>15.625</li><li>17.576</li><li>19.683</li><li>21.952</li><li>24.389</li><li>27</li><li>29.791</li><li>32.768</li><li>35.937</li><li>39.304</li><li>42.875</li><li>46.656</li><li>50.653</li><li>54.872</li><li>59.319</li><li>64</li><li>68.921</li><li>74.088</li><li>79.507</li><li>85.184</li><li>91.125</li><li>97.336</li><li>103.823</li><li>110.592</li><li>117.649</li><li>125</li><li>132.651</li><li>140.608</li><li>148.877</li><li>157.464</li><li>166.375</li><li>175.616</li><li>185.193</li><li>195.112</li><li>205.379</li><li>216</li><li>226.981</li><li>238.328</li><li>250.047</li><li>262.144</li><li>274.625</li><li>287.496</li><li>300.763</li><li>314.432</li><li>328.509</li><li>343</li><li>357.911</li><li>373.248</li><li>389.017</li><li>405.224</li><li>421.875</li><li>438.976</li><li>456.533</li><li>474.552</li><li>493.039</li><li>512</li></ol>\n"
      ],
      "text/latex": [
       "\\begin{enumerate*}\n",
       "\\item 0\n",
       "\\item 0.001\n",
       "\\item 0.008\n",
       "\\item 0.027\n",
       "\\item 0.064\n",
       "\\item 0.125\n",
       "\\item 0.216\n",
       "\\item 0.343\n",
       "\\item 0.512\n",
       "\\item 0.729\n",
       "\\item 1\n",
       "\\item 1.331\n",
       "\\item 1.728\n",
       "\\item 2.197\n",
       "\\item 2.744\n",
       "\\item 3.375\n",
       "\\item 4.096\n",
       "\\item 4.913\n",
       "\\item 5.832\n",
       "\\item 6.859\n",
       "\\item 8\n",
       "\\item 9.261\n",
       "\\item 10.648\n",
       "\\item 12.167\n",
       "\\item 13.824\n",
       "\\item 15.625\n",
       "\\item 17.576\n",
       "\\item 19.683\n",
       "\\item 21.952\n",
       "\\item 24.389\n",
       "\\item 27\n",
       "\\item 29.791\n",
       "\\item 32.768\n",
       "\\item 35.937\n",
       "\\item 39.304\n",
       "\\item 42.875\n",
       "\\item 46.656\n",
       "\\item 50.653\n",
       "\\item 54.872\n",
       "\\item 59.319\n",
       "\\item 64\n",
       "\\item 68.921\n",
       "\\item 74.088\n",
       "\\item 79.507\n",
       "\\item 85.184\n",
       "\\item 91.125\n",
       "\\item 97.336\n",
       "\\item 103.823\n",
       "\\item 110.592\n",
       "\\item 117.649\n",
       "\\item 125\n",
       "\\item 132.651\n",
       "\\item 140.608\n",
       "\\item 148.877\n",
       "\\item 157.464\n",
       "\\item 166.375\n",
       "\\item 175.616\n",
       "\\item 185.193\n",
       "\\item 195.112\n",
       "\\item 205.379\n",
       "\\item 216\n",
       "\\item 226.981\n",
       "\\item 238.328\n",
       "\\item 250.047\n",
       "\\item 262.144\n",
       "\\item 274.625\n",
       "\\item 287.496\n",
       "\\item 300.763\n",
       "\\item 314.432\n",
       "\\item 328.509\n",
       "\\item 343\n",
       "\\item 357.911\n",
       "\\item 373.248\n",
       "\\item 389.017\n",
       "\\item 405.224\n",
       "\\item 421.875\n",
       "\\item 438.976\n",
       "\\item 456.533\n",
       "\\item 474.552\n",
       "\\item 493.039\n",
       "\\item 512\n",
       "\\end{enumerate*}\n"
      ],
      "text/markdown": [
       "1. 0\n",
       "2. 0.001\n",
       "3. 0.008\n",
       "4. 0.027\n",
       "5. 0.064\n",
       "6. 0.125\n",
       "7. 0.216\n",
       "8. 0.343\n",
       "9. 0.512\n",
       "10. 0.729\n",
       "11. 1\n",
       "12. 1.331\n",
       "13. 1.728\n",
       "14. 2.197\n",
       "15. 2.744\n",
       "16. 3.375\n",
       "17. 4.096\n",
       "18. 4.913\n",
       "19. 5.832\n",
       "20. 6.859\n",
       "21. 8\n",
       "22. 9.261\n",
       "23. 10.648\n",
       "24. 12.167\n",
       "25. 13.824\n",
       "26. 15.625\n",
       "27. 17.576\n",
       "28. 19.683\n",
       "29. 21.952\n",
       "30. 24.389\n",
       "31. 27\n",
       "32. 29.791\n",
       "33. 32.768\n",
       "34. 35.937\n",
       "35. 39.304\n",
       "36. 42.875\n",
       "37. 46.656\n",
       "38. 50.653\n",
       "39. 54.872\n",
       "40. 59.319\n",
       "41. 64\n",
       "42. 68.921\n",
       "43. 74.088\n",
       "44. 79.507\n",
       "45. 85.184\n",
       "46. 91.125\n",
       "47. 97.336\n",
       "48. 103.823\n",
       "49. 110.592\n",
       "50. 117.649\n",
       "51. 125\n",
       "52. 132.651\n",
       "53. 140.608\n",
       "54. 148.877\n",
       "55. 157.464\n",
       "56. 166.375\n",
       "57. 175.616\n",
       "58. 185.193\n",
       "59. 195.112\n",
       "60. 205.379\n",
       "61. 216\n",
       "62. 226.981\n",
       "63. 238.328\n",
       "64. 250.047\n",
       "65. 262.144\n",
       "66. 274.625\n",
       "67. 287.496\n",
       "68. 300.763\n",
       "69. 314.432\n",
       "70. 328.509\n",
       "71. 343\n",
       "72. 357.911\n",
       "73. 373.248\n",
       "74. 389.017\n",
       "75. 405.224\n",
       "76. 421.875\n",
       "77. 438.976\n",
       "78. 456.533\n",
       "79. 474.552\n",
       "80. 493.039\n",
       "81. 512\n",
       "\n",
       "\n"
      ],
      "text/plain": [
       " [1]   0.000   0.001   0.008   0.027   0.064   0.125   0.216   0.343   0.512\n",
       "[10]   0.729   1.000   1.331   1.728   2.197   2.744   3.375   4.096   4.913\n",
       "[19]   5.832   6.859   8.000   9.261  10.648  12.167  13.824  15.625  17.576\n",
       "[28]  19.683  21.952  24.389  27.000  29.791  32.768  35.937  39.304  42.875\n",
       "[37]  46.656  50.653  54.872  59.319  64.000  68.921  74.088  79.507  85.184\n",
       "[46]  91.125  97.336 103.823 110.592 117.649 125.000 132.651 140.608 148.877\n",
       "[55] 157.464 166.375 175.616 185.193 195.112 205.379 216.000 226.981 238.328\n",
       "[64] 250.047 262.144 274.625 287.496 300.763 314.432 328.509 343.000 357.911\n",
       "[73] 373.248 389.017 405.224 421.875 438.976 456.533 474.552 493.039 512.000"
      ]
     },
     "metadata": {},
     "output_type": "display_data"
    }
   ],
   "source": [
    "y2"
   ]
  },
  {
   "cell_type": "code",
   "execution_count": 83,
   "id": "ba89c3f8",
   "metadata": {},
   "outputs": [],
   "source": [
    "y3 = log(x)"
   ]
  },
  {
   "cell_type": "code",
   "execution_count": 84,
   "id": "cdc83361",
   "metadata": {},
   "outputs": [
    {
     "data": {
      "text/html": [
       "<style>\n",
       ".list-inline {list-style: none; margin:0; padding: 0}\n",
       ".list-inline>li {display: inline-block}\n",
       ".list-inline>li:not(:last-child)::after {content: \"\\00b7\"; padding: 0 .5ex}\n",
       "</style>\n",
       "<ol class=list-inline><li>-Inf</li><li>-2.30258509299405</li><li>-1.6094379124341</li><li>-1.20397280432594</li><li>-0.916290731874155</li><li>-0.693147180559945</li><li>-0.51082562376599</li><li>-0.356674943938732</li><li>-0.22314355131421</li><li>-0.105360515657826</li><li>0</li><li>0.0953101798043249</li><li>0.182321556793955</li><li>0.262364264467491</li><li>0.336472236621213</li><li>0.405465108108164</li><li>0.470003629245736</li><li>0.53062825106217</li><li>0.587786664902119</li><li>0.641853886172395</li><li>0.693147180559945</li><li>0.741937344729377</li><li>0.78845736036427</li><li>0.832909122935104</li><li>0.8754687373539</li><li>0.916290731874155</li><li>0.955511445027436</li><li>0.993251773010283</li><li>1.02961941718116</li><li>1.06471073699243</li><li>1.09861228866811</li><li>1.1314021114911</li><li>1.16315080980568</li><li>1.19392246847243</li><li>1.22377543162212</li><li>1.25276296849537</li><li>1.28093384546206</li><li>1.30833281965018</li><li>1.33500106673234</li><li>1.3609765531356</li><li>1.38629436111989</li><li>1.41098697371026</li><li>1.43508452528932</li><li>1.45861502269952</li><li>1.48160454092422</li><li>1.50407739677627</li><li>1.52605630349505</li><li>1.54756250871601</li><li>1.56861591791385</li><li>1.58923520511658</li><li>1.6094379124341</li><li>1.62924053973028</li><li>1.64865862558738</li><li>1.66770682055808</li><li>1.68639895357023</li><li>1.70474809223843</li><li>1.7227665977411</li><li>1.7404661748405</li><li>1.75785791755237</li><li>1.77495235091167</li><li>1.79175946922805</li><li>1.80828877117927</li><li>1.82454929205105</li><li>1.84054963339749</li><li>1.85629799036563</li><li>1.87180217690159</li><li>1.88706964903238</li><li>1.90210752639692</li><li>1.91692261218206</li><li>1.93152141160321</li><li>1.94591014905531</li><li>1.96009478404727</li><li>1.97408102602201</li><li>1.98787434815435</li><li>2.00148000021012</li><li>2.01490302054226</li><li>2.02814824729229</li><li>2.04122032885964</li><li>2.05412373369555</li><li>2.06686275947298</li><li>2.07944154167984</li></ol>\n"
      ],
      "text/latex": [
       "\\begin{enumerate*}\n",
       "\\item -Inf\n",
       "\\item -2.30258509299405\n",
       "\\item -1.6094379124341\n",
       "\\item -1.20397280432594\n",
       "\\item -0.916290731874155\n",
       "\\item -0.693147180559945\n",
       "\\item -0.51082562376599\n",
       "\\item -0.356674943938732\n",
       "\\item -0.22314355131421\n",
       "\\item -0.105360515657826\n",
       "\\item 0\n",
       "\\item 0.0953101798043249\n",
       "\\item 0.182321556793955\n",
       "\\item 0.262364264467491\n",
       "\\item 0.336472236621213\n",
       "\\item 0.405465108108164\n",
       "\\item 0.470003629245736\n",
       "\\item 0.53062825106217\n",
       "\\item 0.587786664902119\n",
       "\\item 0.641853886172395\n",
       "\\item 0.693147180559945\n",
       "\\item 0.741937344729377\n",
       "\\item 0.78845736036427\n",
       "\\item 0.832909122935104\n",
       "\\item 0.8754687373539\n",
       "\\item 0.916290731874155\n",
       "\\item 0.955511445027436\n",
       "\\item 0.993251773010283\n",
       "\\item 1.02961941718116\n",
       "\\item 1.06471073699243\n",
       "\\item 1.09861228866811\n",
       "\\item 1.1314021114911\n",
       "\\item 1.16315080980568\n",
       "\\item 1.19392246847243\n",
       "\\item 1.22377543162212\n",
       "\\item 1.25276296849537\n",
       "\\item 1.28093384546206\n",
       "\\item 1.30833281965018\n",
       "\\item 1.33500106673234\n",
       "\\item 1.3609765531356\n",
       "\\item 1.38629436111989\n",
       "\\item 1.41098697371026\n",
       "\\item 1.43508452528932\n",
       "\\item 1.45861502269952\n",
       "\\item 1.48160454092422\n",
       "\\item 1.50407739677627\n",
       "\\item 1.52605630349505\n",
       "\\item 1.54756250871601\n",
       "\\item 1.56861591791385\n",
       "\\item 1.58923520511658\n",
       "\\item 1.6094379124341\n",
       "\\item 1.62924053973028\n",
       "\\item 1.64865862558738\n",
       "\\item 1.66770682055808\n",
       "\\item 1.68639895357023\n",
       "\\item 1.70474809223843\n",
       "\\item 1.7227665977411\n",
       "\\item 1.7404661748405\n",
       "\\item 1.75785791755237\n",
       "\\item 1.77495235091167\n",
       "\\item 1.79175946922805\n",
       "\\item 1.80828877117927\n",
       "\\item 1.82454929205105\n",
       "\\item 1.84054963339749\n",
       "\\item 1.85629799036563\n",
       "\\item 1.87180217690159\n",
       "\\item 1.88706964903238\n",
       "\\item 1.90210752639692\n",
       "\\item 1.91692261218206\n",
       "\\item 1.93152141160321\n",
       "\\item 1.94591014905531\n",
       "\\item 1.96009478404727\n",
       "\\item 1.97408102602201\n",
       "\\item 1.98787434815435\n",
       "\\item 2.00148000021012\n",
       "\\item 2.01490302054226\n",
       "\\item 2.02814824729229\n",
       "\\item 2.04122032885964\n",
       "\\item 2.05412373369555\n",
       "\\item 2.06686275947298\n",
       "\\item 2.07944154167984\n",
       "\\end{enumerate*}\n"
      ],
      "text/markdown": [
       "1. -Inf\n",
       "2. -2.30258509299405\n",
       "3. -1.6094379124341\n",
       "4. -1.20397280432594\n",
       "5. -0.916290731874155\n",
       "6. -0.693147180559945\n",
       "7. -0.51082562376599\n",
       "8. -0.356674943938732\n",
       "9. -0.22314355131421\n",
       "10. -0.105360515657826\n",
       "11. 0\n",
       "12. 0.0953101798043249\n",
       "13. 0.182321556793955\n",
       "14. 0.262364264467491\n",
       "15. 0.336472236621213\n",
       "16. 0.405465108108164\n",
       "17. 0.470003629245736\n",
       "18. 0.53062825106217\n",
       "19. 0.587786664902119\n",
       "20. 0.641853886172395\n",
       "21. 0.693147180559945\n",
       "22. 0.741937344729377\n",
       "23. 0.78845736036427\n",
       "24. 0.832909122935104\n",
       "25. 0.8754687373539\n",
       "26. 0.916290731874155\n",
       "27. 0.955511445027436\n",
       "28. 0.993251773010283\n",
       "29. 1.02961941718116\n",
       "30. 1.06471073699243\n",
       "31. 1.09861228866811\n",
       "32. 1.1314021114911\n",
       "33. 1.16315080980568\n",
       "34. 1.19392246847243\n",
       "35. 1.22377543162212\n",
       "36. 1.25276296849537\n",
       "37. 1.28093384546206\n",
       "38. 1.30833281965018\n",
       "39. 1.33500106673234\n",
       "40. 1.3609765531356\n",
       "41. 1.38629436111989\n",
       "42. 1.41098697371026\n",
       "43. 1.43508452528932\n",
       "44. 1.45861502269952\n",
       "45. 1.48160454092422\n",
       "46. 1.50407739677627\n",
       "47. 1.52605630349505\n",
       "48. 1.54756250871601\n",
       "49. 1.56861591791385\n",
       "50. 1.58923520511658\n",
       "51. 1.6094379124341\n",
       "52. 1.62924053973028\n",
       "53. 1.64865862558738\n",
       "54. 1.66770682055808\n",
       "55. 1.68639895357023\n",
       "56. 1.70474809223843\n",
       "57. 1.7227665977411\n",
       "58. 1.7404661748405\n",
       "59. 1.75785791755237\n",
       "60. 1.77495235091167\n",
       "61. 1.79175946922805\n",
       "62. 1.80828877117927\n",
       "63. 1.82454929205105\n",
       "64. 1.84054963339749\n",
       "65. 1.85629799036563\n",
       "66. 1.87180217690159\n",
       "67. 1.88706964903238\n",
       "68. 1.90210752639692\n",
       "69. 1.91692261218206\n",
       "70. 1.93152141160321\n",
       "71. 1.94591014905531\n",
       "72. 1.96009478404727\n",
       "73. 1.97408102602201\n",
       "74. 1.98787434815435\n",
       "75. 2.00148000021012\n",
       "76. 2.01490302054226\n",
       "77. 2.02814824729229\n",
       "78. 2.04122032885964\n",
       "79. 2.05412373369555\n",
       "80. 2.06686275947298\n",
       "81. 2.07944154167984\n",
       "\n",
       "\n"
      ],
      "text/plain": [
       " [1]        -Inf -2.30258509 -1.60943791 -1.20397280 -0.91629073 -0.69314718\n",
       " [7] -0.51082562 -0.35667494 -0.22314355 -0.10536052  0.00000000  0.09531018\n",
       "[13]  0.18232156  0.26236426  0.33647224  0.40546511  0.47000363  0.53062825\n",
       "[19]  0.58778666  0.64185389  0.69314718  0.74193734  0.78845736  0.83290912\n",
       "[25]  0.87546874  0.91629073  0.95551145  0.99325177  1.02961942  1.06471074\n",
       "[31]  1.09861229  1.13140211  1.16315081  1.19392247  1.22377543  1.25276297\n",
       "[37]  1.28093385  1.30833282  1.33500107  1.36097655  1.38629436  1.41098697\n",
       "[43]  1.43508453  1.45861502  1.48160454  1.50407740  1.52605630  1.54756251\n",
       "[49]  1.56861592  1.58923521  1.60943791  1.62924054  1.64865863  1.66770682\n",
       "[55]  1.68639895  1.70474809  1.72276660  1.74046617  1.75785792  1.77495235\n",
       "[61]  1.79175947  1.80828877  1.82454929  1.84054963  1.85629799  1.87180218\n",
       "[67]  1.88706965  1.90210753  1.91692261  1.93152141  1.94591015  1.96009478\n",
       "[73]  1.97408103  1.98787435  2.00148000  2.01490302  2.02814825  2.04122033\n",
       "[79]  2.05412373  2.06686276  2.07944154"
      ]
     },
     "metadata": {},
     "output_type": "display_data"
    }
   ],
   "source": [
    "y3"
   ]
  },
  {
   "cell_type": "code",
   "execution_count": 85,
   "id": "729151fc",
   "metadata": {},
   "outputs": [],
   "source": [
    "y4 = exp(x)"
   ]
  },
  {
   "cell_type": "code",
   "execution_count": 86,
   "id": "ea4fb79c",
   "metadata": {},
   "outputs": [
    {
     "data": {
      "text/html": [
       "<style>\n",
       ".list-inline {list-style: none; margin:0; padding: 0}\n",
       ".list-inline>li {display: inline-block}\n",
       ".list-inline>li:not(:last-child)::after {content: \"\\00b7\"; padding: 0 .5ex}\n",
       "</style>\n",
       "<ol class=list-inline><li>1</li><li>1.10517091807565</li><li>1.22140275816017</li><li>1.349858807576</li><li>1.49182469764127</li><li>1.64872127070013</li><li>1.82211880039051</li><li>2.01375270747048</li><li>2.22554092849247</li><li>2.45960311115695</li><li>2.71828182845905</li><li>3.00416602394643</li><li>3.32011692273655</li><li>3.66929666761924</li><li>4.05519996684468</li><li>4.48168907033806</li><li>4.95303242439511</li><li>5.4739473917272</li><li>6.04964746441295</li><li>6.68589444227927</li><li>7.38905609893065</li><li>8.16616991256765</li><li>9.02501349943412</li><li>9.97418245481472</li><li>11.0231763806416</li><li>12.1824939607035</li><li>13.4637380350017</li><li>14.8797317248728</li><li>16.4446467710971</li><li>18.1741453694431</li><li>20.0855369231877</li><li>22.1979512814416</li><li>24.5325301971094</li><li>27.1126389206579</li><li>29.964100047397</li><li>33.1154519586923</li><li>36.598234443678</li><li>40.4473043600674</li><li>44.7011844933008</li><li>49.4024491055302</li><li>54.5981500331442</li><li>60.340287597362</li><li>66.6863310409252</li><li>73.6997936995958</li><li>81.4508686649681</li><li>90.0171313005218</li><li>99.4843156419339</li><li>109.947172452124</li><li>121.510417518735</li><li>134.289779684936</li><li>148.413159102577</li><li>164.021907299902</li><li>181.272241875151</li><li>200.336809974792</li><li>221.406416204187</li><li>244.69193226422</li><li>270.426407426153</li><li>298.86740096706</li><li>330.299559909649</li><li>365.037467865329</li><li>403.428793492735</li><li>445.857770082517</li><li>492.749041093256</li><li>544.571910125929</li><li>601.845037872082</li><li>665.141633044362</li><li>735.095189241973</li><li>812.405825167543</li><li>897.847291650418</li><li>992.274715605026</li><li>1096.63315842846</li><li>1211.96707449258</li><li>1339.43076439442</li><li>1480.29992758455</li><li>1635.98442999593</li><li>1808.04241445606</li><li>1998.19589510412</li><li>2208.34799188721</li><li>2440.6019776245</li><li>2697.28232826851</li><li>2980.95798704173</li></ol>\n"
      ],
      "text/latex": [
       "\\begin{enumerate*}\n",
       "\\item 1\n",
       "\\item 1.10517091807565\n",
       "\\item 1.22140275816017\n",
       "\\item 1.349858807576\n",
       "\\item 1.49182469764127\n",
       "\\item 1.64872127070013\n",
       "\\item 1.82211880039051\n",
       "\\item 2.01375270747048\n",
       "\\item 2.22554092849247\n",
       "\\item 2.45960311115695\n",
       "\\item 2.71828182845905\n",
       "\\item 3.00416602394643\n",
       "\\item 3.32011692273655\n",
       "\\item 3.66929666761924\n",
       "\\item 4.05519996684468\n",
       "\\item 4.48168907033806\n",
       "\\item 4.95303242439511\n",
       "\\item 5.4739473917272\n",
       "\\item 6.04964746441295\n",
       "\\item 6.68589444227927\n",
       "\\item 7.38905609893065\n",
       "\\item 8.16616991256765\n",
       "\\item 9.02501349943412\n",
       "\\item 9.97418245481472\n",
       "\\item 11.0231763806416\n",
       "\\item 12.1824939607035\n",
       "\\item 13.4637380350017\n",
       "\\item 14.8797317248728\n",
       "\\item 16.4446467710971\n",
       "\\item 18.1741453694431\n",
       "\\item 20.0855369231877\n",
       "\\item 22.1979512814416\n",
       "\\item 24.5325301971094\n",
       "\\item 27.1126389206579\n",
       "\\item 29.964100047397\n",
       "\\item 33.1154519586923\n",
       "\\item 36.598234443678\n",
       "\\item 40.4473043600674\n",
       "\\item 44.7011844933008\n",
       "\\item 49.4024491055302\n",
       "\\item 54.5981500331442\n",
       "\\item 60.340287597362\n",
       "\\item 66.6863310409252\n",
       "\\item 73.6997936995958\n",
       "\\item 81.4508686649681\n",
       "\\item 90.0171313005218\n",
       "\\item 99.4843156419339\n",
       "\\item 109.947172452124\n",
       "\\item 121.510417518735\n",
       "\\item 134.289779684936\n",
       "\\item 148.413159102577\n",
       "\\item 164.021907299902\n",
       "\\item 181.272241875151\n",
       "\\item 200.336809974792\n",
       "\\item 221.406416204187\n",
       "\\item 244.69193226422\n",
       "\\item 270.426407426153\n",
       "\\item 298.86740096706\n",
       "\\item 330.299559909649\n",
       "\\item 365.037467865329\n",
       "\\item 403.428793492735\n",
       "\\item 445.857770082517\n",
       "\\item 492.749041093256\n",
       "\\item 544.571910125929\n",
       "\\item 601.845037872082\n",
       "\\item 665.141633044362\n",
       "\\item 735.095189241973\n",
       "\\item 812.405825167543\n",
       "\\item 897.847291650418\n",
       "\\item 992.274715605026\n",
       "\\item 1096.63315842846\n",
       "\\item 1211.96707449258\n",
       "\\item 1339.43076439442\n",
       "\\item 1480.29992758455\n",
       "\\item 1635.98442999593\n",
       "\\item 1808.04241445606\n",
       "\\item 1998.19589510412\n",
       "\\item 2208.34799188721\n",
       "\\item 2440.6019776245\n",
       "\\item 2697.28232826851\n",
       "\\item 2980.95798704173\n",
       "\\end{enumerate*}\n"
      ],
      "text/markdown": [
       "1. 1\n",
       "2. 1.10517091807565\n",
       "3. 1.22140275816017\n",
       "4. 1.349858807576\n",
       "5. 1.49182469764127\n",
       "6. 1.64872127070013\n",
       "7. 1.82211880039051\n",
       "8. 2.01375270747048\n",
       "9. 2.22554092849247\n",
       "10. 2.45960311115695\n",
       "11. 2.71828182845905\n",
       "12. 3.00416602394643\n",
       "13. 3.32011692273655\n",
       "14. 3.66929666761924\n",
       "15. 4.05519996684468\n",
       "16. 4.48168907033806\n",
       "17. 4.95303242439511\n",
       "18. 5.4739473917272\n",
       "19. 6.04964746441295\n",
       "20. 6.68589444227927\n",
       "21. 7.38905609893065\n",
       "22. 8.16616991256765\n",
       "23. 9.02501349943412\n",
       "24. 9.97418245481472\n",
       "25. 11.0231763806416\n",
       "26. 12.1824939607035\n",
       "27. 13.4637380350017\n",
       "28. 14.8797317248728\n",
       "29. 16.4446467710971\n",
       "30. 18.1741453694431\n",
       "31. 20.0855369231877\n",
       "32. 22.1979512814416\n",
       "33. 24.5325301971094\n",
       "34. 27.1126389206579\n",
       "35. 29.964100047397\n",
       "36. 33.1154519586923\n",
       "37. 36.598234443678\n",
       "38. 40.4473043600674\n",
       "39. 44.7011844933008\n",
       "40. 49.4024491055302\n",
       "41. 54.5981500331442\n",
       "42. 60.340287597362\n",
       "43. 66.6863310409252\n",
       "44. 73.6997936995958\n",
       "45. 81.4508686649681\n",
       "46. 90.0171313005218\n",
       "47. 99.4843156419339\n",
       "48. 109.947172452124\n",
       "49. 121.510417518735\n",
       "50. 134.289779684936\n",
       "51. 148.413159102577\n",
       "52. 164.021907299902\n",
       "53. 181.272241875151\n",
       "54. 200.336809974792\n",
       "55. 221.406416204187\n",
       "56. 244.69193226422\n",
       "57. 270.426407426153\n",
       "58. 298.86740096706\n",
       "59. 330.299559909649\n",
       "60. 365.037467865329\n",
       "61. 403.428793492735\n",
       "62. 445.857770082517\n",
       "63. 492.749041093256\n",
       "64. 544.571910125929\n",
       "65. 601.845037872082\n",
       "66. 665.141633044362\n",
       "67. 735.095189241973\n",
       "68. 812.405825167543\n",
       "69. 897.847291650418\n",
       "70. 992.274715605026\n",
       "71. 1096.63315842846\n",
       "72. 1211.96707449258\n",
       "73. 1339.43076439442\n",
       "74. 1480.29992758455\n",
       "75. 1635.98442999593\n",
       "76. 1808.04241445606\n",
       "77. 1998.19589510412\n",
       "78. 2208.34799188721\n",
       "79. 2440.6019776245\n",
       "80. 2697.28232826851\n",
       "81. 2980.95798704173\n",
       "\n",
       "\n"
      ],
      "text/plain": [
       " [1]    1.000000    1.105171    1.221403    1.349859    1.491825    1.648721\n",
       " [7]    1.822119    2.013753    2.225541    2.459603    2.718282    3.004166\n",
       "[13]    3.320117    3.669297    4.055200    4.481689    4.953032    5.473947\n",
       "[19]    6.049647    6.685894    7.389056    8.166170    9.025013    9.974182\n",
       "[25]   11.023176   12.182494   13.463738   14.879732   16.444647   18.174145\n",
       "[31]   20.085537   22.197951   24.532530   27.112639   29.964100   33.115452\n",
       "[37]   36.598234   40.447304   44.701184   49.402449   54.598150   60.340288\n",
       "[43]   66.686331   73.699794   81.450869   90.017131   99.484316  109.947172\n",
       "[49]  121.510418  134.289780  148.413159  164.021907  181.272242  200.336810\n",
       "[55]  221.406416  244.691932  270.426407  298.867401  330.299560  365.037468\n",
       "[61]  403.428793  445.857770  492.749041  544.571910  601.845038  665.141633\n",
       "[67]  735.095189  812.405825  897.847292  992.274716 1096.633158 1211.967074\n",
       "[73] 1339.430764 1480.299928 1635.984430 1808.042414 1998.195895 2208.347992\n",
       "[79] 2440.601978 2697.282328 2980.957987"
      ]
     },
     "metadata": {},
     "output_type": "display_data"
    }
   ],
   "source": [
    "y4"
   ]
  },
  {
   "cell_type": "code",
   "execution_count": 87,
   "id": "f284a7e8",
   "metadata": {},
   "outputs": [
    {
     "data": {
      "text/html": [
       "<table class=\"dataframe\">\n",
       "<caption>A matrix: 81 × 4 of type dbl</caption>\n",
       "<thead>\n",
       "\t<tr><th scope=col>y1</th><th scope=col>y2</th><th scope=col>y3</th><th scope=col>y4</th></tr>\n",
       "</thead>\n",
       "<tbody>\n",
       "\t<tr><td>0.00</td><td> 0.000</td><td>       -Inf</td><td> 1.000000</td></tr>\n",
       "\t<tr><td>0.01</td><td> 0.001</td><td>-2.30258509</td><td> 1.105171</td></tr>\n",
       "\t<tr><td>0.04</td><td> 0.008</td><td>-1.60943791</td><td> 1.221403</td></tr>\n",
       "\t<tr><td>0.09</td><td> 0.027</td><td>-1.20397280</td><td> 1.349859</td></tr>\n",
       "\t<tr><td>0.16</td><td> 0.064</td><td>-0.91629073</td><td> 1.491825</td></tr>\n",
       "\t<tr><td>0.25</td><td> 0.125</td><td>-0.69314718</td><td> 1.648721</td></tr>\n",
       "\t<tr><td>0.36</td><td> 0.216</td><td>-0.51082562</td><td> 1.822119</td></tr>\n",
       "\t<tr><td>0.49</td><td> 0.343</td><td>-0.35667494</td><td> 2.013753</td></tr>\n",
       "\t<tr><td>0.64</td><td> 0.512</td><td>-0.22314355</td><td> 2.225541</td></tr>\n",
       "\t<tr><td>0.81</td><td> 0.729</td><td>-0.10536052</td><td> 2.459603</td></tr>\n",
       "\t<tr><td>1.00</td><td> 1.000</td><td> 0.00000000</td><td> 2.718282</td></tr>\n",
       "\t<tr><td>1.21</td><td> 1.331</td><td> 0.09531018</td><td> 3.004166</td></tr>\n",
       "\t<tr><td>1.44</td><td> 1.728</td><td> 0.18232156</td><td> 3.320117</td></tr>\n",
       "\t<tr><td>1.69</td><td> 2.197</td><td> 0.26236426</td><td> 3.669297</td></tr>\n",
       "\t<tr><td>1.96</td><td> 2.744</td><td> 0.33647224</td><td> 4.055200</td></tr>\n",
       "\t<tr><td>2.25</td><td> 3.375</td><td> 0.40546511</td><td> 4.481689</td></tr>\n",
       "\t<tr><td>2.56</td><td> 4.096</td><td> 0.47000363</td><td> 4.953032</td></tr>\n",
       "\t<tr><td>2.89</td><td> 4.913</td><td> 0.53062825</td><td> 5.473947</td></tr>\n",
       "\t<tr><td>3.24</td><td> 5.832</td><td> 0.58778666</td><td> 6.049647</td></tr>\n",
       "\t<tr><td>3.61</td><td> 6.859</td><td> 0.64185389</td><td> 6.685894</td></tr>\n",
       "\t<tr><td>4.00</td><td> 8.000</td><td> 0.69314718</td><td> 7.389056</td></tr>\n",
       "\t<tr><td>4.41</td><td> 9.261</td><td> 0.74193734</td><td> 8.166170</td></tr>\n",
       "\t<tr><td>4.84</td><td>10.648</td><td> 0.78845736</td><td> 9.025013</td></tr>\n",
       "\t<tr><td>5.29</td><td>12.167</td><td> 0.83290912</td><td> 9.974182</td></tr>\n",
       "\t<tr><td>5.76</td><td>13.824</td><td> 0.87546874</td><td>11.023176</td></tr>\n",
       "\t<tr><td>6.25</td><td>15.625</td><td> 0.91629073</td><td>12.182494</td></tr>\n",
       "\t<tr><td>6.76</td><td>17.576</td><td> 0.95551145</td><td>13.463738</td></tr>\n",
       "\t<tr><td>7.29</td><td>19.683</td><td> 0.99325177</td><td>14.879732</td></tr>\n",
       "\t<tr><td>7.84</td><td>21.952</td><td> 1.02961942</td><td>16.444647</td></tr>\n",
       "\t<tr><td>8.41</td><td>24.389</td><td> 1.06471074</td><td>18.174145</td></tr>\n",
       "\t<tr><td>⋮</td><td>⋮</td><td>⋮</td><td>⋮</td></tr>\n",
       "\t<tr><td>26.01</td><td>132.651</td><td>1.629241</td><td> 164.0219</td></tr>\n",
       "\t<tr><td>27.04</td><td>140.608</td><td>1.648659</td><td> 181.2722</td></tr>\n",
       "\t<tr><td>28.09</td><td>148.877</td><td>1.667707</td><td> 200.3368</td></tr>\n",
       "\t<tr><td>29.16</td><td>157.464</td><td>1.686399</td><td> 221.4064</td></tr>\n",
       "\t<tr><td>30.25</td><td>166.375</td><td>1.704748</td><td> 244.6919</td></tr>\n",
       "\t<tr><td>31.36</td><td>175.616</td><td>1.722767</td><td> 270.4264</td></tr>\n",
       "\t<tr><td>32.49</td><td>185.193</td><td>1.740466</td><td> 298.8674</td></tr>\n",
       "\t<tr><td>33.64</td><td>195.112</td><td>1.757858</td><td> 330.2996</td></tr>\n",
       "\t<tr><td>34.81</td><td>205.379</td><td>1.774952</td><td> 365.0375</td></tr>\n",
       "\t<tr><td>36.00</td><td>216.000</td><td>1.791759</td><td> 403.4288</td></tr>\n",
       "\t<tr><td>37.21</td><td>226.981</td><td>1.808289</td><td> 445.8578</td></tr>\n",
       "\t<tr><td>38.44</td><td>238.328</td><td>1.824549</td><td> 492.7490</td></tr>\n",
       "\t<tr><td>39.69</td><td>250.047</td><td>1.840550</td><td> 544.5719</td></tr>\n",
       "\t<tr><td>40.96</td><td>262.144</td><td>1.856298</td><td> 601.8450</td></tr>\n",
       "\t<tr><td>42.25</td><td>274.625</td><td>1.871802</td><td> 665.1416</td></tr>\n",
       "\t<tr><td>43.56</td><td>287.496</td><td>1.887070</td><td> 735.0952</td></tr>\n",
       "\t<tr><td>44.89</td><td>300.763</td><td>1.902108</td><td> 812.4058</td></tr>\n",
       "\t<tr><td>46.24</td><td>314.432</td><td>1.916923</td><td> 897.8473</td></tr>\n",
       "\t<tr><td>47.61</td><td>328.509</td><td>1.931521</td><td> 992.2747</td></tr>\n",
       "\t<tr><td>49.00</td><td>343.000</td><td>1.945910</td><td>1096.6332</td></tr>\n",
       "\t<tr><td>50.41</td><td>357.911</td><td>1.960095</td><td>1211.9671</td></tr>\n",
       "\t<tr><td>51.84</td><td>373.248</td><td>1.974081</td><td>1339.4308</td></tr>\n",
       "\t<tr><td>53.29</td><td>389.017</td><td>1.987874</td><td>1480.2999</td></tr>\n",
       "\t<tr><td>54.76</td><td>405.224</td><td>2.001480</td><td>1635.9844</td></tr>\n",
       "\t<tr><td>56.25</td><td>421.875</td><td>2.014903</td><td>1808.0424</td></tr>\n",
       "\t<tr><td>57.76</td><td>438.976</td><td>2.028148</td><td>1998.1959</td></tr>\n",
       "\t<tr><td>59.29</td><td>456.533</td><td>2.041220</td><td>2208.3480</td></tr>\n",
       "\t<tr><td>60.84</td><td>474.552</td><td>2.054124</td><td>2440.6020</td></tr>\n",
       "\t<tr><td>62.41</td><td>493.039</td><td>2.066863</td><td>2697.2823</td></tr>\n",
       "\t<tr><td>64.00</td><td>512.000</td><td>2.079442</td><td>2980.9580</td></tr>\n",
       "</tbody>\n",
       "</table>\n"
      ],
      "text/latex": [
       "A matrix: 81 × 4 of type dbl\n",
       "\\begin{tabular}{llll}\n",
       " y1 & y2 & y3 & y4\\\\\n",
       "\\hline\n",
       "\t 0.00 &  0.000 &        -Inf &  1.000000\\\\\n",
       "\t 0.01 &  0.001 & -2.30258509 &  1.105171\\\\\n",
       "\t 0.04 &  0.008 & -1.60943791 &  1.221403\\\\\n",
       "\t 0.09 &  0.027 & -1.20397280 &  1.349859\\\\\n",
       "\t 0.16 &  0.064 & -0.91629073 &  1.491825\\\\\n",
       "\t 0.25 &  0.125 & -0.69314718 &  1.648721\\\\\n",
       "\t 0.36 &  0.216 & -0.51082562 &  1.822119\\\\\n",
       "\t 0.49 &  0.343 & -0.35667494 &  2.013753\\\\\n",
       "\t 0.64 &  0.512 & -0.22314355 &  2.225541\\\\\n",
       "\t 0.81 &  0.729 & -0.10536052 &  2.459603\\\\\n",
       "\t 1.00 &  1.000 &  0.00000000 &  2.718282\\\\\n",
       "\t 1.21 &  1.331 &  0.09531018 &  3.004166\\\\\n",
       "\t 1.44 &  1.728 &  0.18232156 &  3.320117\\\\\n",
       "\t 1.69 &  2.197 &  0.26236426 &  3.669297\\\\\n",
       "\t 1.96 &  2.744 &  0.33647224 &  4.055200\\\\\n",
       "\t 2.25 &  3.375 &  0.40546511 &  4.481689\\\\\n",
       "\t 2.56 &  4.096 &  0.47000363 &  4.953032\\\\\n",
       "\t 2.89 &  4.913 &  0.53062825 &  5.473947\\\\\n",
       "\t 3.24 &  5.832 &  0.58778666 &  6.049647\\\\\n",
       "\t 3.61 &  6.859 &  0.64185389 &  6.685894\\\\\n",
       "\t 4.00 &  8.000 &  0.69314718 &  7.389056\\\\\n",
       "\t 4.41 &  9.261 &  0.74193734 &  8.166170\\\\\n",
       "\t 4.84 & 10.648 &  0.78845736 &  9.025013\\\\\n",
       "\t 5.29 & 12.167 &  0.83290912 &  9.974182\\\\\n",
       "\t 5.76 & 13.824 &  0.87546874 & 11.023176\\\\\n",
       "\t 6.25 & 15.625 &  0.91629073 & 12.182494\\\\\n",
       "\t 6.76 & 17.576 &  0.95551145 & 13.463738\\\\\n",
       "\t 7.29 & 19.683 &  0.99325177 & 14.879732\\\\\n",
       "\t 7.84 & 21.952 &  1.02961942 & 16.444647\\\\\n",
       "\t 8.41 & 24.389 &  1.06471074 & 18.174145\\\\\n",
       "\t ⋮ & ⋮ & ⋮ & ⋮\\\\\n",
       "\t 26.01 & 132.651 & 1.629241 &  164.0219\\\\\n",
       "\t 27.04 & 140.608 & 1.648659 &  181.2722\\\\\n",
       "\t 28.09 & 148.877 & 1.667707 &  200.3368\\\\\n",
       "\t 29.16 & 157.464 & 1.686399 &  221.4064\\\\\n",
       "\t 30.25 & 166.375 & 1.704748 &  244.6919\\\\\n",
       "\t 31.36 & 175.616 & 1.722767 &  270.4264\\\\\n",
       "\t 32.49 & 185.193 & 1.740466 &  298.8674\\\\\n",
       "\t 33.64 & 195.112 & 1.757858 &  330.2996\\\\\n",
       "\t 34.81 & 205.379 & 1.774952 &  365.0375\\\\\n",
       "\t 36.00 & 216.000 & 1.791759 &  403.4288\\\\\n",
       "\t 37.21 & 226.981 & 1.808289 &  445.8578\\\\\n",
       "\t 38.44 & 238.328 & 1.824549 &  492.7490\\\\\n",
       "\t 39.69 & 250.047 & 1.840550 &  544.5719\\\\\n",
       "\t 40.96 & 262.144 & 1.856298 &  601.8450\\\\\n",
       "\t 42.25 & 274.625 & 1.871802 &  665.1416\\\\\n",
       "\t 43.56 & 287.496 & 1.887070 &  735.0952\\\\\n",
       "\t 44.89 & 300.763 & 1.902108 &  812.4058\\\\\n",
       "\t 46.24 & 314.432 & 1.916923 &  897.8473\\\\\n",
       "\t 47.61 & 328.509 & 1.931521 &  992.2747\\\\\n",
       "\t 49.00 & 343.000 & 1.945910 & 1096.6332\\\\\n",
       "\t 50.41 & 357.911 & 1.960095 & 1211.9671\\\\\n",
       "\t 51.84 & 373.248 & 1.974081 & 1339.4308\\\\\n",
       "\t 53.29 & 389.017 & 1.987874 & 1480.2999\\\\\n",
       "\t 54.76 & 405.224 & 2.001480 & 1635.9844\\\\\n",
       "\t 56.25 & 421.875 & 2.014903 & 1808.0424\\\\\n",
       "\t 57.76 & 438.976 & 2.028148 & 1998.1959\\\\\n",
       "\t 59.29 & 456.533 & 2.041220 & 2208.3480\\\\\n",
       "\t 60.84 & 474.552 & 2.054124 & 2440.6020\\\\\n",
       "\t 62.41 & 493.039 & 2.066863 & 2697.2823\\\\\n",
       "\t 64.00 & 512.000 & 2.079442 & 2980.9580\\\\\n",
       "\\end{tabular}\n"
      ],
      "text/markdown": [
       "\n",
       "A matrix: 81 × 4 of type dbl\n",
       "\n",
       "| y1 | y2 | y3 | y4 |\n",
       "|---|---|---|---|\n",
       "| 0.00 |  0.000 |        -Inf |  1.000000 |\n",
       "| 0.01 |  0.001 | -2.30258509 |  1.105171 |\n",
       "| 0.04 |  0.008 | -1.60943791 |  1.221403 |\n",
       "| 0.09 |  0.027 | -1.20397280 |  1.349859 |\n",
       "| 0.16 |  0.064 | -0.91629073 |  1.491825 |\n",
       "| 0.25 |  0.125 | -0.69314718 |  1.648721 |\n",
       "| 0.36 |  0.216 | -0.51082562 |  1.822119 |\n",
       "| 0.49 |  0.343 | -0.35667494 |  2.013753 |\n",
       "| 0.64 |  0.512 | -0.22314355 |  2.225541 |\n",
       "| 0.81 |  0.729 | -0.10536052 |  2.459603 |\n",
       "| 1.00 |  1.000 |  0.00000000 |  2.718282 |\n",
       "| 1.21 |  1.331 |  0.09531018 |  3.004166 |\n",
       "| 1.44 |  1.728 |  0.18232156 |  3.320117 |\n",
       "| 1.69 |  2.197 |  0.26236426 |  3.669297 |\n",
       "| 1.96 |  2.744 |  0.33647224 |  4.055200 |\n",
       "| 2.25 |  3.375 |  0.40546511 |  4.481689 |\n",
       "| 2.56 |  4.096 |  0.47000363 |  4.953032 |\n",
       "| 2.89 |  4.913 |  0.53062825 |  5.473947 |\n",
       "| 3.24 |  5.832 |  0.58778666 |  6.049647 |\n",
       "| 3.61 |  6.859 |  0.64185389 |  6.685894 |\n",
       "| 4.00 |  8.000 |  0.69314718 |  7.389056 |\n",
       "| 4.41 |  9.261 |  0.74193734 |  8.166170 |\n",
       "| 4.84 | 10.648 |  0.78845736 |  9.025013 |\n",
       "| 5.29 | 12.167 |  0.83290912 |  9.974182 |\n",
       "| 5.76 | 13.824 |  0.87546874 | 11.023176 |\n",
       "| 6.25 | 15.625 |  0.91629073 | 12.182494 |\n",
       "| 6.76 | 17.576 |  0.95551145 | 13.463738 |\n",
       "| 7.29 | 19.683 |  0.99325177 | 14.879732 |\n",
       "| 7.84 | 21.952 |  1.02961942 | 16.444647 |\n",
       "| 8.41 | 24.389 |  1.06471074 | 18.174145 |\n",
       "| ⋮ | ⋮ | ⋮ | ⋮ |\n",
       "| 26.01 | 132.651 | 1.629241 |  164.0219 |\n",
       "| 27.04 | 140.608 | 1.648659 |  181.2722 |\n",
       "| 28.09 | 148.877 | 1.667707 |  200.3368 |\n",
       "| 29.16 | 157.464 | 1.686399 |  221.4064 |\n",
       "| 30.25 | 166.375 | 1.704748 |  244.6919 |\n",
       "| 31.36 | 175.616 | 1.722767 |  270.4264 |\n",
       "| 32.49 | 185.193 | 1.740466 |  298.8674 |\n",
       "| 33.64 | 195.112 | 1.757858 |  330.2996 |\n",
       "| 34.81 | 205.379 | 1.774952 |  365.0375 |\n",
       "| 36.00 | 216.000 | 1.791759 |  403.4288 |\n",
       "| 37.21 | 226.981 | 1.808289 |  445.8578 |\n",
       "| 38.44 | 238.328 | 1.824549 |  492.7490 |\n",
       "| 39.69 | 250.047 | 1.840550 |  544.5719 |\n",
       "| 40.96 | 262.144 | 1.856298 |  601.8450 |\n",
       "| 42.25 | 274.625 | 1.871802 |  665.1416 |\n",
       "| 43.56 | 287.496 | 1.887070 |  735.0952 |\n",
       "| 44.89 | 300.763 | 1.902108 |  812.4058 |\n",
       "| 46.24 | 314.432 | 1.916923 |  897.8473 |\n",
       "| 47.61 | 328.509 | 1.931521 |  992.2747 |\n",
       "| 49.00 | 343.000 | 1.945910 | 1096.6332 |\n",
       "| 50.41 | 357.911 | 1.960095 | 1211.9671 |\n",
       "| 51.84 | 373.248 | 1.974081 | 1339.4308 |\n",
       "| 53.29 | 389.017 | 1.987874 | 1480.2999 |\n",
       "| 54.76 | 405.224 | 2.001480 | 1635.9844 |\n",
       "| 56.25 | 421.875 | 2.014903 | 1808.0424 |\n",
       "| 57.76 | 438.976 | 2.028148 | 1998.1959 |\n",
       "| 59.29 | 456.533 | 2.041220 | 2208.3480 |\n",
       "| 60.84 | 474.552 | 2.054124 | 2440.6020 |\n",
       "| 62.41 | 493.039 | 2.066863 | 2697.2823 |\n",
       "| 64.00 | 512.000 | 2.079442 | 2980.9580 |\n",
       "\n"
      ],
      "text/plain": [
       "      y1    y2      y3          y4       \n",
       " [1,] 0.00   0.000         -Inf  1.000000\n",
       " [2,] 0.01   0.001  -2.30258509  1.105171\n",
       " [3,] 0.04   0.008  -1.60943791  1.221403\n",
       " [4,] 0.09   0.027  -1.20397280  1.349859\n",
       " [5,] 0.16   0.064  -0.91629073  1.491825\n",
       " [6,] 0.25   0.125  -0.69314718  1.648721\n",
       " [7,] 0.36   0.216  -0.51082562  1.822119\n",
       " [8,] 0.49   0.343  -0.35667494  2.013753\n",
       " [9,] 0.64   0.512  -0.22314355  2.225541\n",
       "[10,] 0.81   0.729  -0.10536052  2.459603\n",
       "[11,] 1.00   1.000   0.00000000  2.718282\n",
       "[12,] 1.21   1.331   0.09531018  3.004166\n",
       "[13,] 1.44   1.728   0.18232156  3.320117\n",
       "[14,] 1.69   2.197   0.26236426  3.669297\n",
       "[15,] 1.96   2.744   0.33647224  4.055200\n",
       "[16,] 2.25   3.375   0.40546511  4.481689\n",
       "[17,] 2.56   4.096   0.47000363  4.953032\n",
       "[18,] 2.89   4.913   0.53062825  5.473947\n",
       "[19,] 3.24   5.832   0.58778666  6.049647\n",
       "[20,] 3.61   6.859   0.64185389  6.685894\n",
       "[21,] 4.00   8.000   0.69314718  7.389056\n",
       "[22,] 4.41   9.261   0.74193734  8.166170\n",
       "[23,] 4.84  10.648   0.78845736  9.025013\n",
       "[24,] 5.29  12.167   0.83290912  9.974182\n",
       "[25,] 5.76  13.824   0.87546874 11.023176\n",
       "[26,] 6.25  15.625   0.91629073 12.182494\n",
       "[27,] 6.76  17.576   0.95551145 13.463738\n",
       "[28,] 7.29  19.683   0.99325177 14.879732\n",
       "[29,] 7.84  21.952   1.02961942 16.444647\n",
       "[30,] 8.41  24.389   1.06471074 18.174145\n",
       "[31,] ⋮     ⋮       ⋮           ⋮        \n",
       "[32,] 26.01 132.651 1.629241     164.0219\n",
       "[33,] 27.04 140.608 1.648659     181.2722\n",
       "[34,] 28.09 148.877 1.667707     200.3368\n",
       "[35,] 29.16 157.464 1.686399     221.4064\n",
       "[36,] 30.25 166.375 1.704748     244.6919\n",
       "[37,] 31.36 175.616 1.722767     270.4264\n",
       "[38,] 32.49 185.193 1.740466     298.8674\n",
       "[39,] 33.64 195.112 1.757858     330.2996\n",
       "[40,] 34.81 205.379 1.774952     365.0375\n",
       "[41,] 36.00 216.000 1.791759     403.4288\n",
       "[42,] 37.21 226.981 1.808289     445.8578\n",
       "[43,] 38.44 238.328 1.824549     492.7490\n",
       "[44,] 39.69 250.047 1.840550     544.5719\n",
       "[45,] 40.96 262.144 1.856298     601.8450\n",
       "[46,] 42.25 274.625 1.871802     665.1416\n",
       "[47,] 43.56 287.496 1.887070     735.0952\n",
       "[48,] 44.89 300.763 1.902108     812.4058\n",
       "[49,] 46.24 314.432 1.916923     897.8473\n",
       "[50,] 47.61 328.509 1.931521     992.2747\n",
       "[51,] 49.00 343.000 1.945910    1096.6332\n",
       "[52,] 50.41 357.911 1.960095    1211.9671\n",
       "[53,] 51.84 373.248 1.974081    1339.4308\n",
       "[54,] 53.29 389.017 1.987874    1480.2999\n",
       "[55,] 54.76 405.224 2.001480    1635.9844\n",
       "[56,] 56.25 421.875 2.014903    1808.0424\n",
       "[57,] 57.76 438.976 2.028148    1998.1959\n",
       "[58,] 59.29 456.533 2.041220    2208.3480\n",
       "[59,] 60.84 474.552 2.054124    2440.6020\n",
       "[60,] 62.41 493.039 2.066863    2697.2823\n",
       "[61,] 64.00 512.000 2.079442    2980.9580"
      ]
     },
     "metadata": {},
     "output_type": "display_data"
    }
   ],
   "source": [
    "ytotal = cbind(y1, y2, y3, y4)\n",
    "ytotal"
   ]
  },
  {
   "cell_type": "code",
   "execution_count": 89,
   "id": "3f5a9c70",
   "metadata": {},
   "outputs": [
    {
     "data": {
      "image/png": "[encoded data removed]",
      "text/plain": [
       "plot without title"
      ]
     },
     "metadata": {
      "image/png": {
       "height": 420,
       "width": 420
      }
     },
     "output_type": "display_data"
    }
   ],
   "source": [
    "plot(x, y1, type ='o')"
   ]
  },
  {
   "cell_type": "code",
   "execution_count": 90,
   "id": "9398b2c2",
   "metadata": {},
   "outputs": [
    {
     "data": {
      "image/png": "[encoded data removed]",
      "text/plain": [
       "plot without title"
      ]
     },
     "metadata": {
      "image/png": {
       "height": 420,
       "width": 420
      }
     },
     "output_type": "display_data"
    }
   ],
   "source": [
    "plot(x, y2, type='o')"
   ]
  },
  {
   "cell_type": "code",
   "execution_count": 91,
   "id": "78ef87bb",
   "metadata": {},
   "outputs": [
    {
     "data": {
      "image/png": "[encoded data removed]",
      "text/plain": [
       "plot without title"
      ]
     },
     "metadata": {
      "image/png": {
       "height": 420,
       "width": 420
      }
     },
     "output_type": "display_data"
    }
   ],
   "source": [
    "plot(x, y3, type ='o')"
   ]
  },
  {
   "cell_type": "code",
   "execution_count": 92,
   "id": "6d81c7c9",
   "metadata": {},
   "outputs": [
    {
     "data": {
      "image/png": "[encoded data removed]",
      "text/plain": [
       "plot without title"
      ]
     },
     "metadata": {
      "image/png": {
       "height": 420,
       "width": 420
      }
     },
     "output_type": "display_data"
    }
   ],
   "source": [
    "plot(x, y4, type ='o')"
   ]
  },
  {
   "cell_type": "code",
   "execution_count": 93,
   "id": "d4e85e50",
   "metadata": {},
   "outputs": [
    {
     "data": {
      "text/html": [
       "<style>\n",
       ".list-inline {list-style: none; margin:0; padding: 0}\n",
       ".list-inline>li {display: inline-block}\n",
       ".list-inline>li:not(:last-child)::after {content: \"\\00b7\"; padding: 0 .5ex}\n",
       "</style>\n",
       "<ol class=list-inline><li>-6.28318530717959</li><li>-6.18318530717959</li><li>-6.08318530717959</li><li>-5.98318530717959</li><li>-5.88318530717959</li><li>-5.78318530717959</li><li>-5.68318530717959</li><li>-5.58318530717959</li><li>-5.48318530717959</li><li>-5.38318530717959</li><li>-5.28318530717959</li><li>-5.18318530717959</li><li>-5.08318530717959</li><li>-4.98318530717959</li><li>-4.88318530717959</li><li>-4.78318530717959</li><li>-4.68318530717959</li><li>-4.58318530717959</li><li>-4.48318530717959</li><li>-4.38318530717959</li><li>-4.28318530717959</li><li>-4.18318530717959</li><li>-4.08318530717959</li><li>-3.98318530717959</li><li>-3.88318530717959</li><li>-3.78318530717959</li><li>-3.68318530717959</li><li>-3.58318530717959</li><li>-3.48318530717959</li><li>-3.38318530717959</li><li>-3.28318530717959</li><li>-3.18318530717959</li><li>-3.08318530717959</li><li>-2.98318530717959</li><li>-2.88318530717959</li><li>-2.78318530717959</li><li>-2.68318530717959</li><li>-2.58318530717959</li><li>-2.48318530717959</li><li>-2.38318530717959</li><li>-2.28318530717959</li><li>-2.18318530717959</li><li>-2.08318530717959</li><li>-1.98318530717959</li><li>-1.88318530717959</li><li>-1.78318530717959</li><li>-1.68318530717959</li><li>-1.58318530717959</li><li>-1.48318530717959</li><li>-1.38318530717959</li><li>-1.28318530717959</li><li>-1.18318530717959</li><li>-1.08318530717959</li><li>-0.983185307179586</li><li>-0.883185307179586</li><li>-0.783185307179586</li><li>-0.683185307179586</li><li>-0.583185307179586</li><li>-0.483185307179586</li><li>-0.383185307179586</li><li>-0.283185307179586</li><li>-0.183185307179586</li><li>-0.0831853071795861</li><li>0.0168146928204145</li><li>0.116814692820414</li><li>0.216814692820414</li><li>0.316814692820414</li><li>0.416814692820414</li><li>0.516814692820414</li><li>0.616814692820414</li><li>0.716814692820414</li><li>0.816814692820414</li><li>0.916814692820414</li><li>1.01681469282041</li><li>1.11681469282041</li><li>1.21681469282041</li><li>1.31681469282041</li><li>1.41681469282041</li><li>1.51681469282041</li><li>1.61681469282041</li><li>1.71681469282041</li><li>1.81681469282041</li><li>1.91681469282041</li><li>2.01681469282041</li><li>2.11681469282041</li><li>2.21681469282041</li><li>2.31681469282041</li><li>2.41681469282041</li><li>2.51681469282041</li><li>2.61681469282041</li><li>2.71681469282041</li><li>2.81681469282041</li><li>2.91681469282041</li><li>3.01681469282041</li><li>3.11681469282041</li><li>3.21681469282041</li><li>3.31681469282042</li><li>3.41681469282041</li><li>3.51681469282041</li><li>3.61681469282041</li><li>3.71681469282041</li><li>3.81681469282042</li><li>3.91681469282041</li><li>4.01681469282041</li><li>4.11681469282041</li><li>4.21681469282041</li><li>4.31681469282042</li><li>4.41681469282041</li><li>4.51681469282041</li><li>4.61681469282041</li><li>4.71681469282041</li><li>4.81681469282042</li><li>4.91681469282041</li><li>5.01681469282041</li><li>5.11681469282041</li><li>5.21681469282041</li><li>5.31681469282042</li><li>5.41681469282041</li><li>5.51681469282041</li><li>5.61681469282041</li><li>5.71681469282041</li><li>5.81681469282042</li><li>5.91681469282041</li><li>6.01681469282041</li><li>6.11681469282041</li><li>6.21681469282041</li></ol>\n"
      ],
      "text/latex": [
       "\\begin{enumerate*}\n",
       "\\item -6.28318530717959\n",
       "\\item -6.18318530717959\n",
       "\\item -6.08318530717959\n",
       "\\item -5.98318530717959\n",
       "\\item -5.88318530717959\n",
       "\\item -5.78318530717959\n",
       "\\item -5.68318530717959\n",
       "\\item -5.58318530717959\n",
       "\\item -5.48318530717959\n",
       "\\item -5.38318530717959\n",
       "\\item -5.28318530717959\n",
       "\\item -5.18318530717959\n",
       "\\item -5.08318530717959\n",
       "\\item -4.98318530717959\n",
       "\\item -4.88318530717959\n",
       "\\item -4.78318530717959\n",
       "\\item -4.68318530717959\n",
       "\\item -4.58318530717959\n",
       "\\item -4.48318530717959\n",
       "\\item -4.38318530717959\n",
       "\\item -4.28318530717959\n",
       "\\item -4.18318530717959\n",
       "\\item -4.08318530717959\n",
       "\\item -3.98318530717959\n",
       "\\item -3.88318530717959\n",
       "\\item -3.78318530717959\n",
       "\\item -3.68318530717959\n",
       "\\item -3.58318530717959\n",
       "\\item -3.48318530717959\n",
       "\\item -3.38318530717959\n",
       "\\item -3.28318530717959\n",
       "\\item -3.18318530717959\n",
       "\\item -3.08318530717959\n",
       "\\item -2.98318530717959\n",
       "\\item -2.88318530717959\n",
       "\\item -2.78318530717959\n",
       "\\item -2.68318530717959\n",
       "\\item -2.58318530717959\n",
       "\\item -2.48318530717959\n",
       "\\item -2.38318530717959\n",
       "\\item -2.28318530717959\n",
       "\\item -2.18318530717959\n",
       "\\item -2.08318530717959\n",
       "\\item -1.98318530717959\n",
       "\\item -1.88318530717959\n",
       "\\item -1.78318530717959\n",
       "\\item -1.68318530717959\n",
       "\\item -1.58318530717959\n",
       "\\item -1.48318530717959\n",
       "\\item -1.38318530717959\n",
       "\\item -1.28318530717959\n",
       "\\item -1.18318530717959\n",
       "\\item -1.08318530717959\n",
       "\\item -0.983185307179586\n",
       "\\item -0.883185307179586\n",
       "\\item -0.783185307179586\n",
       "\\item -0.683185307179586\n",
       "\\item -0.583185307179586\n",
       "\\item -0.483185307179586\n",
       "\\item -0.383185307179586\n",
       "\\item -0.283185307179586\n",
       "\\item -0.183185307179586\n",
       "\\item -0.0831853071795861\n",
       "\\item 0.0168146928204145\n",
       "\\item 0.116814692820414\n",
       "\\item 0.216814692820414\n",
       "\\item 0.316814692820414\n",
       "\\item 0.416814692820414\n",
       "\\item 0.516814692820414\n",
       "\\item 0.616814692820414\n",
       "\\item 0.716814692820414\n",
       "\\item 0.816814692820414\n",
       "\\item 0.916814692820414\n",
       "\\item 1.01681469282041\n",
       "\\item 1.11681469282041\n",
       "\\item 1.21681469282041\n",
       "\\item 1.31681469282041\n",
       "\\item 1.41681469282041\n",
       "\\item 1.51681469282041\n",
       "\\item 1.61681469282041\n",
       "\\item 1.71681469282041\n",
       "\\item 1.81681469282041\n",
       "\\item 1.91681469282041\n",
       "\\item 2.01681469282041\n",
       "\\item 2.11681469282041\n",
       "\\item 2.21681469282041\n",
       "\\item 2.31681469282041\n",
       "\\item 2.41681469282041\n",
       "\\item 2.51681469282041\n",
       "\\item 2.61681469282041\n",
       "\\item 2.71681469282041\n",
       "\\item 2.81681469282041\n",
       "\\item 2.91681469282041\n",
       "\\item 3.01681469282041\n",
       "\\item 3.11681469282041\n",
       "\\item 3.21681469282041\n",
       "\\item 3.31681469282042\n",
       "\\item 3.41681469282041\n",
       "\\item 3.51681469282041\n",
       "\\item 3.61681469282041\n",
       "\\item 3.71681469282041\n",
       "\\item 3.81681469282042\n",
       "\\item 3.91681469282041\n",
       "\\item 4.01681469282041\n",
       "\\item 4.11681469282041\n",
       "\\item 4.21681469282041\n",
       "\\item 4.31681469282042\n",
       "\\item 4.41681469282041\n",
       "\\item 4.51681469282041\n",
       "\\item 4.61681469282041\n",
       "\\item 4.71681469282041\n",
       "\\item 4.81681469282042\n",
       "\\item 4.91681469282041\n",
       "\\item 5.01681469282041\n",
       "\\item 5.11681469282041\n",
       "\\item 5.21681469282041\n",
       "\\item 5.31681469282042\n",
       "\\item 5.41681469282041\n",
       "\\item 5.51681469282041\n",
       "\\item 5.61681469282041\n",
       "\\item 5.71681469282041\n",
       "\\item 5.81681469282042\n",
       "\\item 5.91681469282041\n",
       "\\item 6.01681469282041\n",
       "\\item 6.11681469282041\n",
       "\\item 6.21681469282041\n",
       "\\end{enumerate*}\n"
      ],
      "text/markdown": [
       "1. -6.28318530717959\n",
       "2. -6.18318530717959\n",
       "3. -6.08318530717959\n",
       "4. -5.98318530717959\n",
       "5. -5.88318530717959\n",
       "6. -5.78318530717959\n",
       "7. -5.68318530717959\n",
       "8. -5.58318530717959\n",
       "9. -5.48318530717959\n",
       "10. -5.38318530717959\n",
       "11. -5.28318530717959\n",
       "12. -5.18318530717959\n",
       "13. -5.08318530717959\n",
       "14. -4.98318530717959\n",
       "15. -4.88318530717959\n",
       "16. -4.78318530717959\n",
       "17. -4.68318530717959\n",
       "18. -4.58318530717959\n",
       "19. -4.48318530717959\n",
       "20. -4.38318530717959\n",
       "21. -4.28318530717959\n",
       "22. -4.18318530717959\n",
       "23. -4.08318530717959\n",
       "24. -3.98318530717959\n",
       "25. -3.88318530717959\n",
       "26. -3.78318530717959\n",
       "27. -3.68318530717959\n",
       "28. -3.58318530717959\n",
       "29. -3.48318530717959\n",
       "30. -3.38318530717959\n",
       "31. -3.28318530717959\n",
       "32. -3.18318530717959\n",
       "33. -3.08318530717959\n",
       "34. -2.98318530717959\n",
       "35. -2.88318530717959\n",
       "36. -2.78318530717959\n",
       "37. -2.68318530717959\n",
       "38. -2.58318530717959\n",
       "39. -2.48318530717959\n",
       "40. -2.38318530717959\n",
       "41. -2.28318530717959\n",
       "42. -2.18318530717959\n",
       "43. -2.08318530717959\n",
       "44. -1.98318530717959\n",
       "45. -1.88318530717959\n",
       "46. -1.78318530717959\n",
       "47. -1.68318530717959\n",
       "48. -1.58318530717959\n",
       "49. -1.48318530717959\n",
       "50. -1.38318530717959\n",
       "51. -1.28318530717959\n",
       "52. -1.18318530717959\n",
       "53. -1.08318530717959\n",
       "54. -0.983185307179586\n",
       "55. -0.883185307179586\n",
       "56. -0.783185307179586\n",
       "57. -0.683185307179586\n",
       "58. -0.583185307179586\n",
       "59. -0.483185307179586\n",
       "60. -0.383185307179586\n",
       "61. -0.283185307179586\n",
       "62. -0.183185307179586\n",
       "63. -0.0831853071795861\n",
       "64. 0.0168146928204145\n",
       "65. 0.116814692820414\n",
       "66. 0.216814692820414\n",
       "67. 0.316814692820414\n",
       "68. 0.416814692820414\n",
       "69. 0.516814692820414\n",
       "70. 0.616814692820414\n",
       "71. 0.716814692820414\n",
       "72. 0.816814692820414\n",
       "73. 0.916814692820414\n",
       "74. 1.01681469282041\n",
       "75. 1.11681469282041\n",
       "76. 1.21681469282041\n",
       "77. 1.31681469282041\n",
       "78. 1.41681469282041\n",
       "79. 1.51681469282041\n",
       "80. 1.61681469282041\n",
       "81. 1.71681469282041\n",
       "82. 1.81681469282041\n",
       "83. 1.91681469282041\n",
       "84. 2.01681469282041\n",
       "85. 2.11681469282041\n",
       "86. 2.21681469282041\n",
       "87. 2.31681469282041\n",
       "88. 2.41681469282041\n",
       "89. 2.51681469282041\n",
       "90. 2.61681469282041\n",
       "91. 2.71681469282041\n",
       "92. 2.81681469282041\n",
       "93. 2.91681469282041\n",
       "94. 3.01681469282041\n",
       "95. 3.11681469282041\n",
       "96. 3.21681469282041\n",
       "97. 3.31681469282042\n",
       "98. 3.41681469282041\n",
       "99. 3.51681469282041\n",
       "100. 3.61681469282041\n",
       "101. 3.71681469282041\n",
       "102. 3.81681469282042\n",
       "103. 3.91681469282041\n",
       "104. 4.01681469282041\n",
       "105. 4.11681469282041\n",
       "106. 4.21681469282041\n",
       "107. 4.31681469282042\n",
       "108. 4.41681469282041\n",
       "109. 4.51681469282041\n",
       "110. 4.61681469282041\n",
       "111. 4.71681469282041\n",
       "112. 4.81681469282042\n",
       "113. 4.91681469282041\n",
       "114. 5.01681469282041\n",
       "115. 5.11681469282041\n",
       "116. 5.21681469282041\n",
       "117. 5.31681469282042\n",
       "118. 5.41681469282041\n",
       "119. 5.51681469282041\n",
       "120. 5.61681469282041\n",
       "121. 5.71681469282041\n",
       "122. 5.81681469282042\n",
       "123. 5.91681469282041\n",
       "124. 6.01681469282041\n",
       "125. 6.11681469282041\n",
       "126. 6.21681469282041\n",
       "\n",
       "\n"
      ],
      "text/plain": [
       "  [1] -6.28318531 -6.18318531 -6.08318531 -5.98318531 -5.88318531 -5.78318531\n",
       "  [7] -5.68318531 -5.58318531 -5.48318531 -5.38318531 -5.28318531 -5.18318531\n",
       " [13] -5.08318531 -4.98318531 -4.88318531 -4.78318531 -4.68318531 -4.58318531\n",
       " [19] -4.48318531 -4.38318531 -4.28318531 -4.18318531 -4.08318531 -3.98318531\n",
       " [25] -3.88318531 -3.78318531 -3.68318531 -3.58318531 -3.48318531 -3.38318531\n",
       " [31] -3.28318531 -3.18318531 -3.08318531 -2.98318531 -2.88318531 -2.78318531\n",
       " [37] -2.68318531 -2.58318531 -2.48318531 -2.38318531 -2.28318531 -2.18318531\n",
       " [43] -2.08318531 -1.98318531 -1.88318531 -1.78318531 -1.68318531 -1.58318531\n",
       " [49] -1.48318531 -1.38318531 -1.28318531 -1.18318531 -1.08318531 -0.98318531\n",
       " [55] -0.88318531 -0.78318531 -0.68318531 -0.58318531 -0.48318531 -0.38318531\n",
       " [61] -0.28318531 -0.18318531 -0.08318531  0.01681469  0.11681469  0.21681469\n",
       " [67]  0.31681469  0.41681469  0.51681469  0.61681469  0.71681469  0.81681469\n",
       " [73]  0.91681469  1.01681469  1.11681469  1.21681469  1.31681469  1.41681469\n",
       " [79]  1.51681469  1.61681469  1.71681469  1.81681469  1.91681469  2.01681469\n",
       " [85]  2.11681469  2.21681469  2.31681469  2.41681469  2.51681469  2.61681469\n",
       " [91]  2.71681469  2.81681469  2.91681469  3.01681469  3.11681469  3.21681469\n",
       " [97]  3.31681469  3.41681469  3.51681469  3.61681469  3.71681469  3.81681469\n",
       "[103]  3.91681469  4.01681469  4.11681469  4.21681469  4.31681469  4.41681469\n",
       "[109]  4.51681469  4.61681469  4.71681469  4.81681469  4.91681469  5.01681469\n",
       "[115]  5.11681469  5.21681469  5.31681469  5.41681469  5.51681469  5.61681469\n",
       "[121]  5.71681469  5.81681469  5.91681469  6.01681469  6.11681469  6.21681469"
      ]
     },
     "metadata": {},
     "output_type": "display_data"
    }
   ],
   "source": [
    "x = seq(-2 * pi, 2* pi, 0.1)\n",
    "x"
   ]
  },
  {
   "cell_type": "code",
   "execution_count": 94,
   "id": "7c0bf696",
   "metadata": {},
   "outputs": [],
   "source": [
    "ysin = sin(x)\n",
    "ycos = cos(x)\n",
    "ytan = tan(x)"
   ]
  },
  {
   "cell_type": "code",
   "execution_count": 95,
   "id": "e88e4c91",
   "metadata": {},
   "outputs": [],
   "source": [
    "ytotal = cbind(ysin, ycos, ytan)"
   ]
  },
  {
   "cell_type": "code",
   "execution_count": 96,
   "id": "e11c569b",
   "metadata": {},
   "outputs": [
    {
     "data": {
      "text/html": [
       "<table class=\"dataframe\">\n",
       "<caption>A matrix: 126 × 3 of type dbl</caption>\n",
       "<thead>\n",
       "\t<tr><th scope=col>ysin</th><th scope=col>ycos</th><th scope=col>ytan</th></tr>\n",
       "</thead>\n",
       "<tbody>\n",
       "\t<tr><td>2.449213e-16</td><td> 1.00000000</td><td> 2.449294e-16</td></tr>\n",
       "\t<tr><td>9.983342e-02</td><td> 0.99500417</td><td> 1.003347e-01</td></tr>\n",
       "\t<tr><td>1.986693e-01</td><td> 0.98006658</td><td> 2.027100e-01</td></tr>\n",
       "\t<tr><td>2.955202e-01</td><td> 0.95533649</td><td> 3.093362e-01</td></tr>\n",
       "\t<tr><td>3.894183e-01</td><td> 0.92106099</td><td> 4.227932e-01</td></tr>\n",
       "\t<tr><td>4.794255e-01</td><td> 0.87758256</td><td> 5.463025e-01</td></tr>\n",
       "\t<tr><td>5.646425e-01</td><td> 0.82533561</td><td> 6.841368e-01</td></tr>\n",
       "\t<tr><td>6.442177e-01</td><td> 0.76484219</td><td> 8.422884e-01</td></tr>\n",
       "\t<tr><td>7.173561e-01</td><td> 0.69670671</td><td> 1.029639e+00</td></tr>\n",
       "\t<tr><td>7.833269e-01</td><td> 0.62160997</td><td> 1.260158e+00</td></tr>\n",
       "\t<tr><td>8.414710e-01</td><td> 0.54030231</td><td> 1.557408e+00</td></tr>\n",
       "\t<tr><td>8.912074e-01</td><td> 0.45359612</td><td> 1.964760e+00</td></tr>\n",
       "\t<tr><td>9.320391e-01</td><td> 0.36235775</td><td> 2.572152e+00</td></tr>\n",
       "\t<tr><td>9.635582e-01</td><td> 0.26749883</td><td> 3.602102e+00</td></tr>\n",
       "\t<tr><td>9.854497e-01</td><td> 0.16996714</td><td> 5.797884e+00</td></tr>\n",
       "\t<tr><td>9.974950e-01</td><td> 0.07073720</td><td> 1.410142e+01</td></tr>\n",
       "\t<tr><td>9.995736e-01</td><td>-0.02919952</td><td>-3.423253e+01</td></tr>\n",
       "\t<tr><td>9.916648e-01</td><td>-0.12884449</td><td>-7.696602e+00</td></tr>\n",
       "\t<tr><td>9.738476e-01</td><td>-0.22720209</td><td>-4.286262e+00</td></tr>\n",
       "\t<tr><td>9.463001e-01</td><td>-0.32328957</td><td>-2.927098e+00</td></tr>\n",
       "\t<tr><td>9.092974e-01</td><td>-0.41614684</td><td>-2.185040e+00</td></tr>\n",
       "\t<tr><td>8.632094e-01</td><td>-0.50484610</td><td>-1.709847e+00</td></tr>\n",
       "\t<tr><td>8.084964e-01</td><td>-0.58850112</td><td>-1.373823e+00</td></tr>\n",
       "\t<tr><td>7.457052e-01</td><td>-0.66627602</td><td>-1.119214e+00</td></tr>\n",
       "\t<tr><td>6.754632e-01</td><td>-0.73739372</td><td>-9.160143e-01</td></tr>\n",
       "\t<tr><td>5.984721e-01</td><td>-0.80114362</td><td>-7.470223e-01</td></tr>\n",
       "\t<tr><td>5.155014e-01</td><td>-0.85688875</td><td>-6.015966e-01</td></tr>\n",
       "\t<tr><td>4.273799e-01</td><td>-0.90407214</td><td>-4.727276e-01</td></tr>\n",
       "\t<tr><td>3.349882e-01</td><td>-0.94222234</td><td>-3.555298e-01</td></tr>\n",
       "\t<tr><td>2.392493e-01</td><td>-0.97095817</td><td>-2.464054e-01</td></tr>\n",
       "\t<tr><td>⋮</td><td>⋮</td><td>⋮</td></tr>\n",
       "\t<tr><td>-0.1743268</td><td>-0.984687856</td><td>   0.17703761</td></tr>\n",
       "\t<tr><td>-0.2717606</td><td>-0.962364880</td><td>   0.28238835</td></tr>\n",
       "\t<tr><td>-0.3664791</td><td>-0.930426272</td><td>   0.39388304</td></tr>\n",
       "\t<tr><td>-0.4575359</td><td>-0.889191153</td><td>   0.51455291</td></tr>\n",
       "\t<tr><td>-0.5440211</td><td>-0.839071529</td><td>   0.64836083</td></tr>\n",
       "\t<tr><td>-0.6250706</td><td>-0.780568180</td><td>   0.80078930</td></tr>\n",
       "\t<tr><td>-0.6998747</td><td>-0.714265652</td><td>   0.97985208</td></tr>\n",
       "\t<tr><td>-0.7676858</td><td>-0.640826418</td><td>   1.19796218</td></tr>\n",
       "\t<tr><td>-0.8278265</td><td>-0.560984257</td><td>   1.47566791</td></tr>\n",
       "\t<tr><td>-0.8796958</td><td>-0.475536928</td><td>   1.84989999</td></tr>\n",
       "\t<tr><td>-0.9227754</td><td>-0.385338191</td><td>   2.39471572</td></tr>\n",
       "\t<tr><td>-0.9566350</td><td>-0.291289282</td><td>   3.28414081</td></tr>\n",
       "\t<tr><td>-0.9809362</td><td>-0.194329906</td><td>   5.04778831</td></tr>\n",
       "\t<tr><td>-0.9954363</td><td>-0.095428851</td><td>  10.43118766</td></tr>\n",
       "\t<tr><td>-0.9999902</td><td> 0.004425698</td><td>-225.95084645</td></tr>\n",
       "\t<tr><td>-0.9945526</td><td> 0.104236027</td><td>  -9.54135166</td></tr>\n",
       "\t<tr><td>-0.9791777</td><td> 0.203004864</td><td>  -4.82342004</td></tr>\n",
       "\t<tr><td>-0.9540192</td><td> 0.299745343</td><td>  -3.18276588</td></tr>\n",
       "\t<tr><td>-0.9193285</td><td> 0.393490866</td><td>  -2.33634019</td></tr>\n",
       "\t<tr><td>-0.8754522</td><td> 0.483304759</td><td>  -1.81138745</td></tr>\n",
       "\t<tr><td>-0.8228286</td><td> 0.568289630</td><td>  -1.44790359</td></tr>\n",
       "\t<tr><td>-0.7619836</td><td> 0.647596339</td><td>  -1.17663356</td></tr>\n",
       "\t<tr><td>-0.6935251</td><td> 0.720432479</td><td>  -0.96265105</td></tr>\n",
       "\t<tr><td>-0.6181371</td><td> 0.786070296</td><td>  -0.78636366</td></tr>\n",
       "\t<tr><td>-0.5365729</td><td> 0.843853959</td><td>  -0.63585993</td></tr>\n",
       "\t<tr><td>-0.4496475</td><td> 0.893206112</td><td>  -0.50340841</td></tr>\n",
       "\t<tr><td>-0.3582293</td><td> 0.933633644</td><td>  -0.38369363</td></tr>\n",
       "\t<tr><td>-0.2632318</td><td> 0.964732618</td><td>  -0.27285466</td></tr>\n",
       "\t<tr><td>-0.1656042</td><td> 0.986192302</td><td>  -0.16792280</td></tr>\n",
       "\t<tr><td>-0.0663219</td><td> 0.997798279</td><td>  -0.06646824</td></tr>\n",
       "</tbody>\n",
       "</table>\n"
      ],
      "text/latex": [
       "A matrix: 126 × 3 of type dbl\n",
       "\\begin{tabular}{lll}\n",
       " ysin & ycos & ytan\\\\\n",
       "\\hline\n",
       "\t 2.449213e-16 &  1.00000000 &  2.449294e-16\\\\\n",
       "\t 9.983342e-02 &  0.99500417 &  1.003347e-01\\\\\n",
       "\t 1.986693e-01 &  0.98006658 &  2.027100e-01\\\\\n",
       "\t 2.955202e-01 &  0.95533649 &  3.093362e-01\\\\\n",
       "\t 3.894183e-01 &  0.92106099 &  4.227932e-01\\\\\n",
       "\t 4.794255e-01 &  0.87758256 &  5.463025e-01\\\\\n",
       "\t 5.646425e-01 &  0.82533561 &  6.841368e-01\\\\\n",
       "\t 6.442177e-01 &  0.76484219 &  8.422884e-01\\\\\n",
       "\t 7.173561e-01 &  0.69670671 &  1.029639e+00\\\\\n",
       "\t 7.833269e-01 &  0.62160997 &  1.260158e+00\\\\\n",
       "\t 8.414710e-01 &  0.54030231 &  1.557408e+00\\\\\n",
       "\t 8.912074e-01 &  0.45359612 &  1.964760e+00\\\\\n",
       "\t 9.320391e-01 &  0.36235775 &  2.572152e+00\\\\\n",
       "\t 9.635582e-01 &  0.26749883 &  3.602102e+00\\\\\n",
       "\t 9.854497e-01 &  0.16996714 &  5.797884e+00\\\\\n",
       "\t 9.974950e-01 &  0.07073720 &  1.410142e+01\\\\\n",
       "\t 9.995736e-01 & -0.02919952 & -3.423253e+01\\\\\n",
       "\t 9.916648e-01 & -0.12884449 & -7.696602e+00\\\\\n",
       "\t 9.738476e-01 & -0.22720209 & -4.286262e+00\\\\\n",
       "\t 9.463001e-01 & -0.32328957 & -2.927098e+00\\\\\n",
       "\t 9.092974e-01 & -0.41614684 & -2.185040e+00\\\\\n",
       "\t 8.632094e-01 & -0.50484610 & -1.709847e+00\\\\\n",
       "\t 8.084964e-01 & -0.58850112 & -1.373823e+00\\\\\n",
       "\t 7.457052e-01 & -0.66627602 & -1.119214e+00\\\\\n",
       "\t 6.754632e-01 & -0.73739372 & -9.160143e-01\\\\\n",
       "\t 5.984721e-01 & -0.80114362 & -7.470223e-01\\\\\n",
       "\t 5.155014e-01 & -0.85688875 & -6.015966e-01\\\\\n",
       "\t 4.273799e-01 & -0.90407214 & -4.727276e-01\\\\\n",
       "\t 3.349882e-01 & -0.94222234 & -3.555298e-01\\\\\n",
       "\t 2.392493e-01 & -0.97095817 & -2.464054e-01\\\\\n",
       "\t ⋮ & ⋮ & ⋮\\\\\n",
       "\t -0.1743268 & -0.984687856 &    0.17703761\\\\\n",
       "\t -0.2717606 & -0.962364880 &    0.28238835\\\\\n",
       "\t -0.3664791 & -0.930426272 &    0.39388304\\\\\n",
       "\t -0.4575359 & -0.889191153 &    0.51455291\\\\\n",
       "\t -0.5440211 & -0.839071529 &    0.64836083\\\\\n",
       "\t -0.6250706 & -0.780568180 &    0.80078930\\\\\n",
       "\t -0.6998747 & -0.714265652 &    0.97985208\\\\\n",
       "\t -0.7676858 & -0.640826418 &    1.19796218\\\\\n",
       "\t -0.8278265 & -0.560984257 &    1.47566791\\\\\n",
       "\t -0.8796958 & -0.475536928 &    1.84989999\\\\\n",
       "\t -0.9227754 & -0.385338191 &    2.39471572\\\\\n",
       "\t -0.9566350 & -0.291289282 &    3.28414081\\\\\n",
       "\t -0.9809362 & -0.194329906 &    5.04778831\\\\\n",
       "\t -0.9954363 & -0.095428851 &   10.43118766\\\\\n",
       "\t -0.9999902 &  0.004425698 & -225.95084645\\\\\n",
       "\t -0.9945526 &  0.104236027 &   -9.54135166\\\\\n",
       "\t -0.9791777 &  0.203004864 &   -4.82342004\\\\\n",
       "\t -0.9540192 &  0.299745343 &   -3.18276588\\\\\n",
       "\t -0.9193285 &  0.393490866 &   -2.33634019\\\\\n",
       "\t -0.8754522 &  0.483304759 &   -1.81138745\\\\\n",
       "\t -0.8228286 &  0.568289630 &   -1.44790359\\\\\n",
       "\t -0.7619836 &  0.647596339 &   -1.17663356\\\\\n",
       "\t -0.6935251 &  0.720432479 &   -0.96265105\\\\\n",
       "\t -0.6181371 &  0.786070296 &   -0.78636366\\\\\n",
       "\t -0.5365729 &  0.843853959 &   -0.63585993\\\\\n",
       "\t -0.4496475 &  0.893206112 &   -0.50340841\\\\\n",
       "\t -0.3582293 &  0.933633644 &   -0.38369363\\\\\n",
       "\t -0.2632318 &  0.964732618 &   -0.27285466\\\\\n",
       "\t -0.1656042 &  0.986192302 &   -0.16792280\\\\\n",
       "\t -0.0663219 &  0.997798279 &   -0.06646824\\\\\n",
       "\\end{tabular}\n"
      ],
      "text/markdown": [
       "\n",
       "A matrix: 126 × 3 of type dbl\n",
       "\n",
       "| ysin | ycos | ytan |\n",
       "|---|---|---|\n",
       "| 2.449213e-16 |  1.00000000 |  2.449294e-16 |\n",
       "| 9.983342e-02 |  0.99500417 |  1.003347e-01 |\n",
       "| 1.986693e-01 |  0.98006658 |  2.027100e-01 |\n",
       "| 2.955202e-01 |  0.95533649 |  3.093362e-01 |\n",
       "| 3.894183e-01 |  0.92106099 |  4.227932e-01 |\n",
       "| 4.794255e-01 |  0.87758256 |  5.463025e-01 |\n",
       "| 5.646425e-01 |  0.82533561 |  6.841368e-01 |\n",
       "| 6.442177e-01 |  0.76484219 |  8.422884e-01 |\n",
       "| 7.173561e-01 |  0.69670671 |  1.029639e+00 |\n",
       "| 7.833269e-01 |  0.62160997 |  1.260158e+00 |\n",
       "| 8.414710e-01 |  0.54030231 |  1.557408e+00 |\n",
       "| 8.912074e-01 |  0.45359612 |  1.964760e+00 |\n",
       "| 9.320391e-01 |  0.36235775 |  2.572152e+00 |\n",
       "| 9.635582e-01 |  0.26749883 |  3.602102e+00 |\n",
       "| 9.854497e-01 |  0.16996714 |  5.797884e+00 |\n",
       "| 9.974950e-01 |  0.07073720 |  1.410142e+01 |\n",
       "| 9.995736e-01 | -0.02919952 | -3.423253e+01 |\n",
       "| 9.916648e-01 | -0.12884449 | -7.696602e+00 |\n",
       "| 9.738476e-01 | -0.22720209 | -4.286262e+00 |\n",
       "| 9.463001e-01 | -0.32328957 | -2.927098e+00 |\n",
       "| 9.092974e-01 | -0.41614684 | -2.185040e+00 |\n",
       "| 8.632094e-01 | -0.50484610 | -1.709847e+00 |\n",
       "| 8.084964e-01 | -0.58850112 | -1.373823e+00 |\n",
       "| 7.457052e-01 | -0.66627602 | -1.119214e+00 |\n",
       "| 6.754632e-01 | -0.73739372 | -9.160143e-01 |\n",
       "| 5.984721e-01 | -0.80114362 | -7.470223e-01 |\n",
       "| 5.155014e-01 | -0.85688875 | -6.015966e-01 |\n",
       "| 4.273799e-01 | -0.90407214 | -4.727276e-01 |\n",
       "| 3.349882e-01 | -0.94222234 | -3.555298e-01 |\n",
       "| 2.392493e-01 | -0.97095817 | -2.464054e-01 |\n",
       "| ⋮ | ⋮ | ⋮ |\n",
       "| -0.1743268 | -0.984687856 |    0.17703761 |\n",
       "| -0.2717606 | -0.962364880 |    0.28238835 |\n",
       "| -0.3664791 | -0.930426272 |    0.39388304 |\n",
       "| -0.4575359 | -0.889191153 |    0.51455291 |\n",
       "| -0.5440211 | -0.839071529 |    0.64836083 |\n",
       "| -0.6250706 | -0.780568180 |    0.80078930 |\n",
       "| -0.6998747 | -0.714265652 |    0.97985208 |\n",
       "| -0.7676858 | -0.640826418 |    1.19796218 |\n",
       "| -0.8278265 | -0.560984257 |    1.47566791 |\n",
       "| -0.8796958 | -0.475536928 |    1.84989999 |\n",
       "| -0.9227754 | -0.385338191 |    2.39471572 |\n",
       "| -0.9566350 | -0.291289282 |    3.28414081 |\n",
       "| -0.9809362 | -0.194329906 |    5.04778831 |\n",
       "| -0.9954363 | -0.095428851 |   10.43118766 |\n",
       "| -0.9999902 |  0.004425698 | -225.95084645 |\n",
       "| -0.9945526 |  0.104236027 |   -9.54135166 |\n",
       "| -0.9791777 |  0.203004864 |   -4.82342004 |\n",
       "| -0.9540192 |  0.299745343 |   -3.18276588 |\n",
       "| -0.9193285 |  0.393490866 |   -2.33634019 |\n",
       "| -0.8754522 |  0.483304759 |   -1.81138745 |\n",
       "| -0.8228286 |  0.568289630 |   -1.44790359 |\n",
       "| -0.7619836 |  0.647596339 |   -1.17663356 |\n",
       "| -0.6935251 |  0.720432479 |   -0.96265105 |\n",
       "| -0.6181371 |  0.786070296 |   -0.78636366 |\n",
       "| -0.5365729 |  0.843853959 |   -0.63585993 |\n",
       "| -0.4496475 |  0.893206112 |   -0.50340841 |\n",
       "| -0.3582293 |  0.933633644 |   -0.38369363 |\n",
       "| -0.2632318 |  0.964732618 |   -0.27285466 |\n",
       "| -0.1656042 |  0.986192302 |   -0.16792280 |\n",
       "| -0.0663219 |  0.997798279 |   -0.06646824 |\n",
       "\n"
      ],
      "text/plain": [
       "      ysin         ycos         ytan         \n",
       " [1,] 2.449213e-16  1.00000000   2.449294e-16\n",
       " [2,] 9.983342e-02  0.99500417   1.003347e-01\n",
       " [3,] 1.986693e-01  0.98006658   2.027100e-01\n",
       " [4,] 2.955202e-01  0.95533649   3.093362e-01\n",
       " [5,] 3.894183e-01  0.92106099   4.227932e-01\n",
       " [6,] 4.794255e-01  0.87758256   5.463025e-01\n",
       " [7,] 5.646425e-01  0.82533561   6.841368e-01\n",
       " [8,] 6.442177e-01  0.76484219   8.422884e-01\n",
       " [9,] 7.173561e-01  0.69670671   1.029639e+00\n",
       "[10,] 7.833269e-01  0.62160997   1.260158e+00\n",
       "[11,] 8.414710e-01  0.54030231   1.557408e+00\n",
       "[12,] 8.912074e-01  0.45359612   1.964760e+00\n",
       "[13,] 9.320391e-01  0.36235775   2.572152e+00\n",
       "[14,] 9.635582e-01  0.26749883   3.602102e+00\n",
       "[15,] 9.854497e-01  0.16996714   5.797884e+00\n",
       "[16,] 9.974950e-01  0.07073720   1.410142e+01\n",
       "[17,] 9.995736e-01 -0.02919952  -3.423253e+01\n",
       "[18,] 9.916648e-01 -0.12884449  -7.696602e+00\n",
       "[19,] 9.738476e-01 -0.22720209  -4.286262e+00\n",
       "[20,] 9.463001e-01 -0.32328957  -2.927098e+00\n",
       "[21,] 9.092974e-01 -0.41614684  -2.185040e+00\n",
       "[22,] 8.632094e-01 -0.50484610  -1.709847e+00\n",
       "[23,] 8.084964e-01 -0.58850112  -1.373823e+00\n",
       "[24,] 7.457052e-01 -0.66627602  -1.119214e+00\n",
       "[25,] 6.754632e-01 -0.73739372  -9.160143e-01\n",
       "[26,] 5.984721e-01 -0.80114362  -7.470223e-01\n",
       "[27,] 5.155014e-01 -0.85688875  -6.015966e-01\n",
       "[28,] 4.273799e-01 -0.90407214  -4.727276e-01\n",
       "[29,] 3.349882e-01 -0.94222234  -3.555298e-01\n",
       "[30,] 2.392493e-01 -0.97095817  -2.464054e-01\n",
       "[31,] ⋮            ⋮            ⋮            \n",
       "[32,] -0.1743268   -0.984687856    0.17703761\n",
       "[33,] -0.2717606   -0.962364880    0.28238835\n",
       "[34,] -0.3664791   -0.930426272    0.39388304\n",
       "[35,] -0.4575359   -0.889191153    0.51455291\n",
       "[36,] -0.5440211   -0.839071529    0.64836083\n",
       "[37,] -0.6250706   -0.780568180    0.80078930\n",
       "[38,] -0.6998747   -0.714265652    0.97985208\n",
       "[39,] -0.7676858   -0.640826418    1.19796218\n",
       "[40,] -0.8278265   -0.560984257    1.47566791\n",
       "[41,] -0.8796958   -0.475536928    1.84989999\n",
       "[42,] -0.9227754   -0.385338191    2.39471572\n",
       "[43,] -0.9566350   -0.291289282    3.28414081\n",
       "[44,] -0.9809362   -0.194329906    5.04778831\n",
       "[45,] -0.9954363   -0.095428851   10.43118766\n",
       "[46,] -0.9999902    0.004425698 -225.95084645\n",
       "[47,] -0.9945526    0.104236027   -9.54135166\n",
       "[48,] -0.9791777    0.203004864   -4.82342004\n",
       "[49,] -0.9540192    0.299745343   -3.18276588\n",
       "[50,] -0.9193285    0.393490866   -2.33634019\n",
       "[51,] -0.8754522    0.483304759   -1.81138745\n",
       "[52,] -0.8228286    0.568289630   -1.44790359\n",
       "[53,] -0.7619836    0.647596339   -1.17663356\n",
       "[54,] -0.6935251    0.720432479   -0.96265105\n",
       "[55,] -0.6181371    0.786070296   -0.78636366\n",
       "[56,] -0.5365729    0.843853959   -0.63585993\n",
       "[57,] -0.4496475    0.893206112   -0.50340841\n",
       "[58,] -0.3582293    0.933633644   -0.38369363\n",
       "[59,] -0.2632318    0.964732618   -0.27285466\n",
       "[60,] -0.1656042    0.986192302   -0.16792280\n",
       "[61,] -0.0663219    0.997798279   -0.06646824"
      ]
     },
     "metadata": {},
     "output_type": "display_data"
    }
   ],
   "source": [
    "ytotal"
   ]
  },
  {
   "cell_type": "code",
   "execution_count": 100,
   "id": "b74c1162",
   "metadata": {},
   "outputs": [
    {
     "data": {
      "image/png": "[encoded data removed]",
      "text/plain": [
       "plot without title"
      ]
     },
     "metadata": {
      "image/png": {
       "height": 420,
       "width": 420
      }
     },
     "output_type": "display_data"
    }
   ],
   "source": [
    "matplot(x, ytotal, type ='l',\n",
    "       ylim = c(-2, 2))"
   ]
  },
  {
   "cell_type": "code",
   "execution_count": 101,
   "id": "de0fa22c",
   "metadata": {},
   "outputs": [
    {
     "data": {
      "image/png": "[encoded data removed]",
      "text/plain": [
       "plot without title"
      ]
     },
     "metadata": {
      "image/png": {
       "height": 420,
       "width": 420
      }
     },
     "output_type": "display_data"
    }
   ],
   "source": [
    "x = seq(-2, 2, 0.1)\n",
    "y = log(abs(x))\n",
    "plot(x, y, type ='l')"
   ]
  },
  {
   "cell_type": "code",
   "execution_count": 103,
   "id": "4bf82c2b",
   "metadata": {},
   "outputs": [],
   "source": [
    "x = seq(0, 5, 0.1)\n",
    "y = 1/4 * x *exp(-x^2)"
   ]
  },
  {
   "cell_type": "code",
   "execution_count": 104,
   "id": "343abfe8",
   "metadata": {},
   "outputs": [
    {
     "data": {
      "image/png": "[encoded data removed]",
      "text/plain": [
       "plot without title"
      ]
     },
     "metadata": {
      "image/png": {
       "height": 420,
       "width": 420
      }
     },
     "output_type": "display_data"
    }
   ],
   "source": [
    "plot(x, y, type ='l')"
   ]
  },
  {
   "cell_type": "code",
   "execution_count": 105,
   "id": "4e04abd4",
   "metadata": {},
   "outputs": [],
   "source": [
    "y = dbinom(c(0:5), 5, 0.5)\n",
    "x = 0:5"
   ]
  },
  {
   "cell_type": "code",
   "execution_count": 107,
   "id": "aea95de7",
   "metadata": {},
   "outputs": [
    {
     "data": {
      "image/png": "[encoded data removed]",
      "text/plain": [
       "plot without title"
      ]
     },
     "metadata": {
      "image/png": {
       "height": 420,
       "width": 420
      }
     },
     "output_type": "display_data"
    }
   ],
   "source": [
    "plot(x, y, type ='h', lwd = 10)"
   ]
  },
  {
   "cell_type": "code",
   "execution_count": 109,
   "id": "04967ed0",
   "metadata": {},
   "outputs": [
    {
     "data": {
      "image/png": "[encoded data removed]",
      "text/plain": [
       "plot without title"
      ]
     },
     "metadata": {
      "image/png": {
       "height": 420,
       "width": 420
      }
     },
     "output_type": "display_data"
    }
   ],
   "source": [
    "plot(x, y, type = 'h')"
   ]
  },
  {
   "cell_type": "code",
   "execution_count": 110,
   "id": "1fd7ea68",
   "metadata": {},
   "outputs": [],
   "source": [
    "a.blood = c(90, 99, 102, 97, 102, 95, 87, 90, 89, 109)\n",
    "b.blood = c(88, 78, 99, 81, 91, 99, 108, 110, 77, 99)"
   ]
  },
  {
   "cell_type": "code",
   "execution_count": 115,
   "id": "45d37007",
   "metadata": {},
   "outputs": [],
   "source": [
    "blood = rbind(a.blood, b.blood)"
   ]
  },
  {
   "cell_type": "code",
   "execution_count": 116,
   "id": "f8fe221d",
   "metadata": {},
   "outputs": [],
   "source": [
    "h1 = 1:10\n",
    "h2 = 1:10"
   ]
  },
  {
   "cell_type": "code",
   "execution_count": 117,
   "id": "1c2ef30c",
   "metadata": {},
   "outputs": [],
   "source": [
    "h = rbind(h1, h2)"
   ]
  },
  {
   "cell_type": "code",
   "execution_count": 118,
   "id": "23a7838d",
   "metadata": {},
   "outputs": [
    {
     "data": {
      "text/html": [
       "<table class=\"dataframe\">\n",
       "<caption>A matrix: 2 × 10 of type int</caption>\n",
       "<tbody>\n",
       "\t<tr><th scope=row>h1</th><td>1</td><td>2</td><td>3</td><td>4</td><td>5</td><td>6</td><td>7</td><td>8</td><td>9</td><td>10</td></tr>\n",
       "\t<tr><th scope=row>h2</th><td>1</td><td>2</td><td>3</td><td>4</td><td>5</td><td>6</td><td>7</td><td>8</td><td>9</td><td>10</td></tr>\n",
       "</tbody>\n",
       "</table>\n"
      ],
      "text/latex": [
       "A matrix: 2 × 10 of type int\n",
       "\\begin{tabular}{r|llllllllll}\n",
       "\th1 & 1 & 2 & 3 & 4 & 5 & 6 & 7 & 8 & 9 & 10\\\\\n",
       "\th2 & 1 & 2 & 3 & 4 & 5 & 6 & 7 & 8 & 9 & 10\\\\\n",
       "\\end{tabular}\n"
      ],
      "text/markdown": [
       "\n",
       "A matrix: 2 × 10 of type int\n",
       "\n",
       "| h1 | 1 | 2 | 3 | 4 | 5 | 6 | 7 | 8 | 9 | 10 |\n",
       "| h2 | 1 | 2 | 3 | 4 | 5 | 6 | 7 | 8 | 9 | 10 |\n",
       "\n"
      ],
      "text/plain": [
       "   [,1] [,2] [,3] [,4] [,5] [,6] [,7] [,8] [,9] [,10]\n",
       "h1 1    2    3    4    5    6    7    8    9    10   \n",
       "h2 1    2    3    4    5    6    7    8    9    10   "
      ]
     },
     "metadata": {},
     "output_type": "display_data"
    }
   ],
   "source": [
    "h"
   ]
  },
  {
   "cell_type": "code",
   "execution_count": 119,
   "id": "a824a3e2",
   "metadata": {},
   "outputs": [
    {
     "data": {
      "image/png": "[encoded data removed]",
      "text/plain": [
       "plot without title"
      ]
     },
     "metadata": {
      "image/png": {
       "height": 420,
       "width": 420
      }
     },
     "output_type": "display_data"
    }
   ],
   "source": [
    "plot(blood~h, col = c('blue','pink'))"
   ]
  },
  {
   "cell_type": "code",
   "execution_count": 120,
   "id": "366b1cea",
   "metadata": {},
   "outputs": [
    {
     "data": {
      "image/png": "[encoded data removed]",
      "text/plain": [
       "plot without title"
      ]
     },
     "metadata": {
      "image/png": {
       "height": 420,
       "width": 420
      }
     },
     "output_type": "display_data"
    }
   ],
   "source": [
    "plot(blood~h, col = c('blue','pink'),\n",
    "    type ='l')"
   ]
  },
  {
   "cell_type": "code",
   "execution_count": 126,
   "id": "23b0ab98",
   "metadata": {},
   "outputs": [
    {
     "data": {
      "image/png": "[encoded data removed]",
      "text/plain": [
       "Plot with title \"혈압의 분포 그래프\""
      ]
     },
     "metadata": {
      "image/png": {
       "height": 420,
       "width": 420
      }
     },
     "output_type": "display_data"
    }
   ],
   "source": [
    "plot(h1, a.blood, type ='b',\n",
    "    col = 'pink',\n",
    "    main = '혈압의 분포 그래프')\n",
    "lines(h2, b.blood, type ='b',\n",
    "     col = 'blue')"
   ]
  },
  {
   "cell_type": "code",
   "execution_count": 127,
   "id": "f9ce02d0",
   "metadata": {},
   "outputs": [],
   "source": [
    "data(mtcars)"
   ]
  },
  {
   "cell_type": "code",
   "execution_count": 128,
   "id": "b2ea22ab",
   "metadata": {},
   "outputs": [
    {
     "name": "stderr",
     "output_type": "stream",
     "text": [
      "Warning message:\n",
      "\"package 'rgl' was built under R version 4.3.2\"\n"
     ]
    }
   ],
   "source": [
    "library(rgl)"
   ]
  },
  {
   "cell_type": "code",
   "execution_count": 129,
   "id": "4a118a0b",
   "metadata": {},
   "outputs": [],
   "source": [
    "plot3d(mtcars$mpg, mtcars$hp, mtcars$drat)"
   ]
  },
  {
   "cell_type": "code",
   "execution_count": 130,
   "id": "c1320ac4",
   "metadata": {},
   "outputs": [],
   "source": [
    "plot3d(mtcars$mpg, mtcars$drat, texts = colnames(mtcars), col = 'red', adj = 1)"
   ]
  },
  {
   "cell_type": "code",
   "execution_count": 131,
   "id": "6e2d9af7",
   "metadata": {},
   "outputs": [
    {
     "data": {
      "text/html": [
       "10"
      ],
      "text/latex": [
       "10"
      ],
      "text/markdown": [
       "10"
      ],
      "text/plain": [
       "[1] 10"
      ]
     },
     "metadata": {},
     "output_type": "display_data"
    }
   ],
   "source": [
    "a = 10\n",
    "a"
   ]
  },
  {
   "cell_type": "code",
   "execution_count": 132,
   "id": "5c00c188",
   "metadata": {},
   "outputs": [
    {
     "ename": "ERROR",
     "evalue": "Error in eval(expr, envir, enclos): object 'x1' not found\n",
     "output_type": "error",
     "traceback": [
      "Error in eval(expr, envir, enclos): object 'x1' not found\nTraceback:\n",
      "1. persp(x1, x2, y)"
     ]
    }
   ],
   "source": [
    "persp(x1, x2, y)"
   ]
  },
  {
   "cell_type": "code",
   "execution_count": 133,
   "id": "79dcf089",
   "metadata": {},
   "outputs": [],
   "source": [
    "x1 = seq(-6, 6, 0.5)"
   ]
  },
  {
   "cell_type": "code",
   "execution_count": 134,
   "id": "2e379f13",
   "metadata": {},
   "outputs": [],
   "source": [
    "x2 = seq(-6, 6, 0.5)\n",
    "mu1 = 1\n",
    "s1 = -1\n",
    "r = 0.5\n",
    "mu2 = 2\n",
    "s2 = -4"
   ]
  },
  {
   "cell_type": "code",
   "execution_count": 136,
   "id": "e89ab0e0",
   "metadata": {},
   "outputs": [
    {
     "name": "stderr",
     "output_type": "stream",
     "text": [
      "Warning message in sqrt(s2):\n",
      "\"NaNs produced\"\n",
      "Warning message in sqrt(s2):\n",
      "\"NaNs produced\"\n",
      "Warning message in min(x):\n",
      "\"no non-missing arguments to min; returning Inf\"\n",
      "Warning message in max(x):\n",
      "\"no non-missing arguments to max; returning -Inf\"\n"
     ]
    },
    {
     "ename": "ERROR",
     "evalue": "Error in persp.default(x1, x2, y): invalid 'z' limits\n",
     "output_type": "error",
     "traceback": [
      "Error in persp.default(x1, x2, y): invalid 'z' limits\nTraceback:\n",
      "1. persp(x1, x2, y)",
      "2. persp.default(x1, x2, y)"
     ]
    },
    {
     "data": {
      "image/png": "[encoded data removed]",
      "text/plain": [
       "plot without title"
      ]
     },
     "metadata": {
      "image/png": {
       "height": 420,
       "width": 420
      }
     },
     "output_type": "display_data"
    }
   ],
   "source": [
    "func = function(x1, x2){\n",
    "    pro1 = 1/(2*pi*sqrt(s1*s2) * (1-r^2))\n",
    "    pro2 = ((x1 - mu2) / sqrt(s2))^2\n",
    "    pro3 = (2 * r * (x1 - mu1) * (x2 - mu2)) / sqrt(s1 * s2)\n",
    "    pro4 = ((x2-mu2) / sqrt(s2))^2\n",
    "    pro5 = (pro2 - pro3 + pro4)\n",
    "    pro6 = pro1 * exp(-pro5 / 2 * (1 - r^2))\n",
    "    return(pro6)\n",
    "}\n",
    "y = outer(x1, x2, FUN = func)\n",
    "persp(x1, x2, y)\n"
   ]
  }
 ],
 "metadata": {
  "kernelspec": {
   "display_name": "R",
   "language": "R",
   "name": "ir"
  },
  "language_info": {
   "codemirror_mode": "r",
   "file_extension": ".r",
   "mimetype": "text/x-r-source",
   "name": "R",
   "pygments_lexer": "r",
   "version": "4.3.1"
  }
 },
 "nbformat": 4,
 "nbformat_minor": 5
}
