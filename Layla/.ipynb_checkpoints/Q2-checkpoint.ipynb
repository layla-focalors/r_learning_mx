{
 "cells": [
  {
   "cell_type": "code",
   "execution_count": 1,
   "id": "830f528c",
   "metadata": {},
   "outputs": [
    {
     "data": {
      "text/html": [
       "<table class=\"dataframe\">\n",
       "<caption>A data.frame: 6 × 3</caption>\n",
       "<thead>\n",
       "\t<tr><th></th><th scope=col>Girth</th><th scope=col>Height</th><th scope=col>Volume</th></tr>\n",
       "\t<tr><th></th><th scope=col>&lt;dbl&gt;</th><th scope=col>&lt;dbl&gt;</th><th scope=col>&lt;dbl&gt;</th></tr>\n",
       "</thead>\n",
       "<tbody>\n",
       "\t<tr><th scope=row>1</th><td> 8.3</td><td>70</td><td>10.3</td></tr>\n",
       "\t<tr><th scope=row>2</th><td> 8.6</td><td>65</td><td>10.3</td></tr>\n",
       "\t<tr><th scope=row>3</th><td> 8.8</td><td>63</td><td>10.2</td></tr>\n",
       "\t<tr><th scope=row>4</th><td>10.5</td><td>72</td><td>16.4</td></tr>\n",
       "\t<tr><th scope=row>5</th><td>10.7</td><td>81</td><td>18.8</td></tr>\n",
       "\t<tr><th scope=row>6</th><td>10.8</td><td>83</td><td>19.7</td></tr>\n",
       "</tbody>\n",
       "</table>\n"
      ],
      "text/latex": [
       "A data.frame: 6 × 3\n",
       "\\begin{tabular}{r|lll}\n",
       "  & Girth & Height & Volume\\\\\n",
       "  & <dbl> & <dbl> & <dbl>\\\\\n",
       "\\hline\n",
       "\t1 &  8.3 & 70 & 10.3\\\\\n",
       "\t2 &  8.6 & 65 & 10.3\\\\\n",
       "\t3 &  8.8 & 63 & 10.2\\\\\n",
       "\t4 & 10.5 & 72 & 16.4\\\\\n",
       "\t5 & 10.7 & 81 & 18.8\\\\\n",
       "\t6 & 10.8 & 83 & 19.7\\\\\n",
       "\\end{tabular}\n"
      ],
      "text/markdown": [
       "\n",
       "A data.frame: 6 × 3\n",
       "\n",
       "| <!--/--> | Girth &lt;dbl&gt; | Height &lt;dbl&gt; | Volume &lt;dbl&gt; |\n",
       "|---|---|---|---|\n",
       "| 1 |  8.3 | 70 | 10.3 |\n",
       "| 2 |  8.6 | 65 | 10.3 |\n",
       "| 3 |  8.8 | 63 | 10.2 |\n",
       "| 4 | 10.5 | 72 | 16.4 |\n",
       "| 5 | 10.7 | 81 | 18.8 |\n",
       "| 6 | 10.8 | 83 | 19.7 |\n",
       "\n"
      ],
      "text/plain": [
       "  Girth Height Volume\n",
       "1  8.3  70     10.3  \n",
       "2  8.6  65     10.3  \n",
       "3  8.8  63     10.2  \n",
       "4 10.5  72     16.4  \n",
       "5 10.7  81     18.8  \n",
       "6 10.8  83     19.7  "
      ]
     },
     "metadata": {},
     "output_type": "display_data"
    }
   ],
   "source": [
    "head(trees)"
   ]
  },
  {
   "cell_type": "code",
   "execution_count": 2,
   "id": "e8d686f5",
   "metadata": {},
   "outputs": [
    {
     "data": {
      "text/html": [
       "13.2483870967742"
      ],
      "text/latex": [
       "13.2483870967742"
      ],
      "text/markdown": [
       "13.2483870967742"
      ],
      "text/plain": [
       "[1] 13.24839"
      ]
     },
     "metadata": {},
     "output_type": "display_data"
    }
   ],
   "source": [
    "mean(trees$Girth)"
   ]
  },
  {
   "cell_type": "code",
   "execution_count": 3,
   "id": "b5855e40",
   "metadata": {},
   "outputs": [
    {
     "data": {
      "text/html": [
       "12.9"
      ],
      "text/latex": [
       "12.9"
      ],
      "text/markdown": [
       "12.9"
      ],
      "text/plain": [
       "[1] 12.9"
      ]
     },
     "metadata": {},
     "output_type": "display_data"
    }
   ],
   "source": [
    "median(trees$Girth)"
   ]
  },
  {
   "cell_type": "code",
   "execution_count": 4,
   "id": "7ed256fd",
   "metadata": {},
   "outputs": [
    {
     "data": {
      "text/html": [
       "13.0434782608696"
      ],
      "text/latex": [
       "13.0434782608696"
      ],
      "text/markdown": [
       "13.0434782608696"
      ],
      "text/plain": [
       "[1] 13.04348"
      ]
     },
     "metadata": {},
     "output_type": "display_data"
    }
   ],
   "source": [
    "mean(trees$Girth, trim = 0.15)"
   ]
  },
  {
   "cell_type": "code",
   "execution_count": 5,
   "id": "679adeee",
   "metadata": {},
   "outputs": [
    {
     "data": {
      "text/html": [
       "3.13813861683875"
      ],
      "text/latex": [
       "3.13813861683875"
      ],
      "text/markdown": [
       "3.13813861683875"
      ],
      "text/plain": [
       "[1] 3.138139"
      ]
     },
     "metadata": {},
     "output_type": "display_data"
    }
   ],
   "source": [
    "sd(trees$Girth)"
   ]
  },
  {
   "cell_type": "code",
   "execution_count": 6,
   "id": "f26b55d0",
   "metadata": {},
   "outputs": [
    {
     "data": {
      "image/png": "[encoded data removed]",
      "text/plain": [
       "Plot with title \"Histogram of trees$Height\""
      ]
     },
     "metadata": {
      "image/png": {
       "height": 420,
       "width": 420
      }
     },
     "output_type": "display_data"
    }
   ],
   "source": [
    "hist(trees$Height)"
   ]
  },
  {
   "cell_type": "code",
   "execution_count": 7,
   "id": "44d71978",
   "metadata": {},
   "outputs": [
    {
     "data": {
      "image/png": "[encoded data removed]",
      "text/plain": [
       "plot without title"
      ]
     },
     "metadata": {
      "image/png": {
       "height": 420,
       "width": 420
      }
     },
     "output_type": "display_data"
    }
   ],
   "source": [
    "boxplot(trees$Height)"
   ]
  },
  {
   "cell_type": "code",
   "execution_count": 8,
   "id": "3a6fc9d8",
   "metadata": {},
   "outputs": [
    {
     "data": {
      "text/html": [
       "<table class=\"dataframe\">\n",
       "<caption>A nfnGroupedData: 6 × 3</caption>\n",
       "<thead>\n",
       "\t<tr><th></th><th scope=col>Tree</th><th scope=col>age</th><th scope=col>circumference</th></tr>\n",
       "\t<tr><th></th><th scope=col>&lt;ord&gt;</th><th scope=col>&lt;dbl&gt;</th><th scope=col>&lt;dbl&gt;</th></tr>\n",
       "</thead>\n",
       "<tbody>\n",
       "\t<tr><th scope=row>1</th><td>1</td><td> 118</td><td> 30</td></tr>\n",
       "\t<tr><th scope=row>2</th><td>1</td><td> 484</td><td> 58</td></tr>\n",
       "\t<tr><th scope=row>3</th><td>1</td><td> 664</td><td> 87</td></tr>\n",
       "\t<tr><th scope=row>4</th><td>1</td><td>1004</td><td>115</td></tr>\n",
       "\t<tr><th scope=row>5</th><td>1</td><td>1231</td><td>120</td></tr>\n",
       "\t<tr><th scope=row>6</th><td>1</td><td>1372</td><td>142</td></tr>\n",
       "</tbody>\n",
       "</table>\n"
      ],
      "text/latex": [
       "A nfnGroupedData: 6 × 3\n",
       "\\begin{tabular}{r|lll}\n",
       "  & Tree & age & circumference\\\\\n",
       "  & <ord> & <dbl> & <dbl>\\\\\n",
       "\\hline\n",
       "\t1 & 1 &  118 &  30\\\\\n",
       "\t2 & 1 &  484 &  58\\\\\n",
       "\t3 & 1 &  664 &  87\\\\\n",
       "\t4 & 1 & 1004 & 115\\\\\n",
       "\t5 & 1 & 1231 & 120\\\\\n",
       "\t6 & 1 & 1372 & 142\\\\\n",
       "\\end{tabular}\n"
      ],
      "text/markdown": [
       "\n",
       "A nfnGroupedData: 6 × 3\n",
       "\n",
       "| <!--/--> | Tree &lt;ord&gt; | age &lt;dbl&gt; | circumference &lt;dbl&gt; |\n",
       "|---|---|---|---|\n",
       "| 1 | 1 |  118 |  30 |\n",
       "| 2 | 1 |  484 |  58 |\n",
       "| 3 | 1 |  664 |  87 |\n",
       "| 4 | 1 | 1004 | 115 |\n",
       "| 5 | 1 | 1231 | 120 |\n",
       "| 6 | 1 | 1372 | 142 |\n",
       "\n"
      ],
      "text/plain": [
       "  Tree age  circumference\n",
       "1 1     118  30          \n",
       "2 1     484  58          \n",
       "3 1     664  87          \n",
       "4 1    1004 115          \n",
       "5 1    1231 120          \n",
       "6 1    1372 142          "
      ]
     },
     "metadata": {},
     "output_type": "display_data"
    }
   ],
   "source": [
    "head(Orange)"
   ]
  },
  {
   "cell_type": "code",
   "execution_count": 10,
   "id": "03223aee",
   "metadata": {},
   "outputs": [
    {
     "data": {
      "text/html": [
       "922.142857142857"
      ],
      "text/latex": [
       "922.142857142857"
      ],
      "text/markdown": [
       "922.142857142857"
      ],
      "text/plain": [
       "[1] 922.1429"
      ]
     },
     "metadata": {},
     "output_type": "display_data"
    }
   ],
   "source": [
    "mean(Orange$age)"
   ]
  },
  {
   "cell_type": "code",
   "execution_count": 11,
   "id": "e15c22b0",
   "metadata": {},
   "outputs": [
    {
     "data": {
      "text/html": [
       "1004"
      ],
      "text/latex": [
       "1004"
      ],
      "text/markdown": [
       "1004"
      ],
      "text/plain": [
       "[1] 1004"
      ]
     },
     "metadata": {},
     "output_type": "display_data"
    }
   ],
   "source": [
    "median(Orange$age)"
   ]
  },
  {
   "cell_type": "code",
   "execution_count": 12,
   "id": "0cf55ffd",
   "metadata": {},
   "outputs": [
    {
     "data": {
      "text/html": [
       "951"
      ],
      "text/latex": [
       "951"
      ],
      "text/markdown": [
       "951"
      ],
      "text/plain": [
       "[1] 951"
      ]
     },
     "metadata": {},
     "output_type": "display_data"
    }
   ],
   "source": [
    "mean(Orange$age, trim = 0.15)"
   ]
  },
  {
   "cell_type": "code",
   "execution_count": 13,
   "id": "dc7ea866",
   "metadata": {},
   "outputs": [
    {
     "data": {
      "text/html": [
       "491.864528387354"
      ],
      "text/latex": [
       "491.864528387354"
      ],
      "text/markdown": [
       "491.864528387354"
      ],
      "text/plain": [
       "[1] 491.8645"
      ]
     },
     "metadata": {},
     "output_type": "display_data"
    }
   ],
   "source": [
    "sd(Orange$age)"
   ]
  },
  {
   "cell_type": "code",
   "execution_count": 17,
   "id": "b608aba7",
   "metadata": {},
   "outputs": [
    {
     "data": {
      "text/html": [
       "<style>\n",
       ".list-inline {list-style: none; margin:0; padding: 0}\n",
       ".list-inline>li {display: inline-block}\n",
       ".list-inline>li:not(:last-child)::after {content: \"\\00b7\"; padding: 0 .5ex}\n",
       "</style>\n",
       "<ol class=list-inline><li>'Tree'</li><li>'age'</li><li>'circumference'</li></ol>\n"
      ],
      "text/latex": [
       "\\begin{enumerate*}\n",
       "\\item 'Tree'\n",
       "\\item 'age'\n",
       "\\item 'circumference'\n",
       "\\end{enumerate*}\n"
      ],
      "text/markdown": [
       "1. 'Tree'\n",
       "2. 'age'\n",
       "3. 'circumference'\n",
       "\n",
       "\n"
      ],
      "text/plain": [
       "[1] \"Tree\"          \"age\"           \"circumference\""
      ]
     },
     "metadata": {},
     "output_type": "display_data"
    }
   ],
   "source": [
    "colnames(Orange)"
   ]
  },
  {
   "cell_type": "code",
   "execution_count": 21,
   "id": "5a44b458",
   "metadata": {},
   "outputs": [
    {
     "ename": "ERROR",
     "evalue": "Error in eval(expr, envir, enclos): object 'age' not found\n",
     "output_type": "error",
     "traceback": [
      "Error in eval(expr, envir, enclos): object 'age' not found\nTraceback:\n"
     ]
    }
   ],
   "source": [
    "age"
   ]
  },
  {
   "cell_type": "code",
   "execution_count": 23,
   "id": "e9d096cc",
   "metadata": {},
   "outputs": [
    {
     "data": {
      "text/html": [
       "<style>\n",
       ".list-inline {list-style: none; margin:0; padding: 0}\n",
       ".list-inline>li {display: inline-block}\n",
       ".list-inline>li:not(:last-child)::after {content: \"\\00b7\"; padding: 0 .5ex}\n",
       "</style>\n",
       "<ol class=list-inline><li>1</li><li>1</li><li>1</li><li>1</li><li>1</li><li>1</li><li>1</li><li>2</li><li>2</li><li>2</li><li>2</li><li>2</li><li>2</li><li>2</li><li>3</li><li>3</li><li>3</li><li>3</li><li>3</li><li>3</li><li>3</li><li>4</li><li>4</li><li>4</li><li>4</li><li>4</li><li>4</li><li>4</li><li>5</li><li>5</li><li>5</li><li>5</li><li>5</li><li>5</li><li>5</li></ol>\n",
       "\n",
       "<details>\n",
       "\t<summary style=display:list-item;cursor:pointer>\n",
       "\t\t<strong>Levels</strong>:\n",
       "\t</summary>\n",
       "\t<style>\n",
       "\t.list-inline {list-style: none; margin:0; padding: 0}\n",
       "\t.list-inline>li {display: inline-block}\n",
       "\t.list-inline>li:not(:last-child)::after {content: \"\\00b7\"; padding: 0 .5ex}\n",
       "\t</style>\n",
       "\t<ol class=list-inline><li>'3'</li><li>'1'</li><li>'5'</li><li>'2'</li><li>'4'</li></ol>\n",
       "</details>"
      ],
      "text/latex": [
       "\\begin{enumerate*}\n",
       "\\item 1\n",
       "\\item 1\n",
       "\\item 1\n",
       "\\item 1\n",
       "\\item 1\n",
       "\\item 1\n",
       "\\item 1\n",
       "\\item 2\n",
       "\\item 2\n",
       "\\item 2\n",
       "\\item 2\n",
       "\\item 2\n",
       "\\item 2\n",
       "\\item 2\n",
       "\\item 3\n",
       "\\item 3\n",
       "\\item 3\n",
       "\\item 3\n",
       "\\item 3\n",
       "\\item 3\n",
       "\\item 3\n",
       "\\item 4\n",
       "\\item 4\n",
       "\\item 4\n",
       "\\item 4\n",
       "\\item 4\n",
       "\\item 4\n",
       "\\item 4\n",
       "\\item 5\n",
       "\\item 5\n",
       "\\item 5\n",
       "\\item 5\n",
       "\\item 5\n",
       "\\item 5\n",
       "\\item 5\n",
       "\\end{enumerate*}\n",
       "\n",
       "\\emph{Levels}: \\begin{enumerate*}\n",
       "\\item '3'\n",
       "\\item '1'\n",
       "\\item '5'\n",
       "\\item '2'\n",
       "\\item '4'\n",
       "\\end{enumerate*}\n"
      ],
      "text/markdown": [
       "1. 1\n",
       "2. 1\n",
       "3. 1\n",
       "4. 1\n",
       "5. 1\n",
       "6. 1\n",
       "7. 1\n",
       "8. 2\n",
       "9. 2\n",
       "10. 2\n",
       "11. 2\n",
       "12. 2\n",
       "13. 2\n",
       "14. 2\n",
       "15. 3\n",
       "16. 3\n",
       "17. 3\n",
       "18. 3\n",
       "19. 3\n",
       "20. 3\n",
       "21. 3\n",
       "22. 4\n",
       "23. 4\n",
       "24. 4\n",
       "25. 4\n",
       "26. 4\n",
       "27. 4\n",
       "28. 4\n",
       "29. 5\n",
       "30. 5\n",
       "31. 5\n",
       "32. 5\n",
       "33. 5\n",
       "34. 5\n",
       "35. 5\n",
       "\n",
       "\n",
       "\n",
       "**Levels**: 1. '3'\n",
       "2. '1'\n",
       "3. '5'\n",
       "4. '2'\n",
       "5. '4'\n",
       "\n",
       "\n"
      ],
      "text/plain": [
       " [1] 1 1 1 1 1 1 1 2 2 2 2 2 2 2 3 3 3 3 3 3 3 4 4 4 4 4 4 4 5 5 5 5 5 5 5\n",
       "Levels: 3 < 1 < 5 < 2 < 4"
      ]
     },
     "metadata": {},
     "output_type": "display_data"
    }
   ],
   "source": [
    "Orange$Tree"
   ]
  },
  {
   "cell_type": "code",
   "execution_count": 26,
   "id": "8f499a4e",
   "metadata": {},
   "outputs": [],
   "source": [
    "df = data.frame(Orange)"
   ]
  },
  {
   "cell_type": "code",
   "execution_count": 27,
   "id": "5133c6e8",
   "metadata": {},
   "outputs": [
    {
     "ename": "ERROR",
     "evalue": "Error in hist.default(df$age ~ df$Tree): 'x' must be numeric\n",
     "output_type": "error",
     "traceback": [
      "Error in hist.default(df$age ~ df$Tree): 'x' must be numeric\nTraceback:\n",
      "1. hist(df$age ~ df$Tree)",
      "2. hist.default(df$age ~ df$Tree)",
      "3. stop(\"'x' must be numeric\")"
     ]
    }
   ],
   "source": [
    "hist(df$age~df$Tree)"
   ]
  },
  {
   "cell_type": "code",
   "execution_count": 29,
   "id": "32dedcb3",
   "metadata": {},
   "outputs": [
    {
     "data": {
      "image/png": "[encoded data removed]",
      "text/plain": [
       "Plot with title \"Histogram of table(df$age)\""
      ]
     },
     "metadata": {
      "image/png": {
       "height": 420,
       "width": 420
      }
     },
     "output_type": "display_data"
    }
   ],
   "source": [
    "hist(table(df$age))"
   ]
  },
  {
   "cell_type": "code",
   "execution_count": 30,
   "id": "564b0c67",
   "metadata": {},
   "outputs": [
    {
     "data": {
      "image/png": "[encoded data removed]",
      "text/plain": [
       "Plot with title \"Histogram of Orange$age\""
      ]
     },
     "metadata": {
      "image/png": {
       "height": 420,
       "width": 420
      }
     },
     "output_type": "display_data"
    }
   ],
   "source": [
    "hist(Orange$age)"
   ]
  },
  {
   "cell_type": "code",
   "execution_count": 31,
   "id": "628cde52",
   "metadata": {},
   "outputs": [
    {
     "data": {
      "image/png": "[encoded data removed]",
      "text/plain": [
       "plot without title"
      ]
     },
     "metadata": {
      "image/png": {
       "height": 420,
       "width": 420
      }
     },
     "output_type": "display_data"
    }
   ],
   "source": [
    "boxplot(Orange$age~Orange$Tree)"
   ]
  },
  {
   "cell_type": "code",
   "execution_count": 32,
   "id": "54a06cfb",
   "metadata": {},
   "outputs": [
    {
     "data": {
      "image/png": "[encoded data removed]",
      "text/plain": [
       "plot without title"
      ]
     },
     "metadata": {
      "image/png": {
       "height": 420,
       "width": 420
      }
     },
     "output_type": "display_data"
    }
   ],
   "source": [
    "boxplot(age~Tree, data = Orange)"
   ]
  },
  {
   "cell_type": "code",
   "execution_count": 34,
   "id": "9bc2da3e",
   "metadata": {},
   "outputs": [],
   "source": [
    "df = df[df$Tree != 2, ]"
   ]
  },
  {
   "cell_type": "code",
   "execution_count": 35,
   "id": "117e45d5",
   "metadata": {},
   "outputs": [
    {
     "data": {
      "text/html": [
       "<table class=\"dataframe\">\n",
       "<caption>A data.frame: 28 × 3</caption>\n",
       "<thead>\n",
       "\t<tr><th></th><th scope=col>Tree</th><th scope=col>age</th><th scope=col>circumference</th></tr>\n",
       "\t<tr><th></th><th scope=col>&lt;ord&gt;</th><th scope=col>&lt;dbl&gt;</th><th scope=col>&lt;dbl&gt;</th></tr>\n",
       "</thead>\n",
       "<tbody>\n",
       "\t<tr><th scope=row>1</th><td>1</td><td> 118</td><td> 30</td></tr>\n",
       "\t<tr><th scope=row>2</th><td>1</td><td> 484</td><td> 58</td></tr>\n",
       "\t<tr><th scope=row>3</th><td>1</td><td> 664</td><td> 87</td></tr>\n",
       "\t<tr><th scope=row>4</th><td>1</td><td>1004</td><td>115</td></tr>\n",
       "\t<tr><th scope=row>5</th><td>1</td><td>1231</td><td>120</td></tr>\n",
       "\t<tr><th scope=row>6</th><td>1</td><td>1372</td><td>142</td></tr>\n",
       "\t<tr><th scope=row>7</th><td>1</td><td>1582</td><td>145</td></tr>\n",
       "\t<tr><th scope=row>15</th><td>3</td><td> 118</td><td> 30</td></tr>\n",
       "\t<tr><th scope=row>16</th><td>3</td><td> 484</td><td> 51</td></tr>\n",
       "\t<tr><th scope=row>17</th><td>3</td><td> 664</td><td> 75</td></tr>\n",
       "\t<tr><th scope=row>18</th><td>3</td><td>1004</td><td>108</td></tr>\n",
       "\t<tr><th scope=row>19</th><td>3</td><td>1231</td><td>115</td></tr>\n",
       "\t<tr><th scope=row>20</th><td>3</td><td>1372</td><td>139</td></tr>\n",
       "\t<tr><th scope=row>21</th><td>3</td><td>1582</td><td>140</td></tr>\n",
       "\t<tr><th scope=row>22</th><td>4</td><td> 118</td><td> 32</td></tr>\n",
       "\t<tr><th scope=row>23</th><td>4</td><td> 484</td><td> 62</td></tr>\n",
       "\t<tr><th scope=row>24</th><td>4</td><td> 664</td><td>112</td></tr>\n",
       "\t<tr><th scope=row>25</th><td>4</td><td>1004</td><td>167</td></tr>\n",
       "\t<tr><th scope=row>26</th><td>4</td><td>1231</td><td>179</td></tr>\n",
       "\t<tr><th scope=row>27</th><td>4</td><td>1372</td><td>209</td></tr>\n",
       "\t<tr><th scope=row>28</th><td>4</td><td>1582</td><td>214</td></tr>\n",
       "\t<tr><th scope=row>29</th><td>5</td><td> 118</td><td> 30</td></tr>\n",
       "\t<tr><th scope=row>30</th><td>5</td><td> 484</td><td> 49</td></tr>\n",
       "\t<tr><th scope=row>31</th><td>5</td><td> 664</td><td> 81</td></tr>\n",
       "\t<tr><th scope=row>32</th><td>5</td><td>1004</td><td>125</td></tr>\n",
       "\t<tr><th scope=row>33</th><td>5</td><td>1231</td><td>142</td></tr>\n",
       "\t<tr><th scope=row>34</th><td>5</td><td>1372</td><td>174</td></tr>\n",
       "\t<tr><th scope=row>35</th><td>5</td><td>1582</td><td>177</td></tr>\n",
       "</tbody>\n",
       "</table>\n"
      ],
      "text/latex": [
       "A data.frame: 28 × 3\n",
       "\\begin{tabular}{r|lll}\n",
       "  & Tree & age & circumference\\\\\n",
       "  & <ord> & <dbl> & <dbl>\\\\\n",
       "\\hline\n",
       "\t1 & 1 &  118 &  30\\\\\n",
       "\t2 & 1 &  484 &  58\\\\\n",
       "\t3 & 1 &  664 &  87\\\\\n",
       "\t4 & 1 & 1004 & 115\\\\\n",
       "\t5 & 1 & 1231 & 120\\\\\n",
       "\t6 & 1 & 1372 & 142\\\\\n",
       "\t7 & 1 & 1582 & 145\\\\\n",
       "\t15 & 3 &  118 &  30\\\\\n",
       "\t16 & 3 &  484 &  51\\\\\n",
       "\t17 & 3 &  664 &  75\\\\\n",
       "\t18 & 3 & 1004 & 108\\\\\n",
       "\t19 & 3 & 1231 & 115\\\\\n",
       "\t20 & 3 & 1372 & 139\\\\\n",
       "\t21 & 3 & 1582 & 140\\\\\n",
       "\t22 & 4 &  118 &  32\\\\\n",
       "\t23 & 4 &  484 &  62\\\\\n",
       "\t24 & 4 &  664 & 112\\\\\n",
       "\t25 & 4 & 1004 & 167\\\\\n",
       "\t26 & 4 & 1231 & 179\\\\\n",
       "\t27 & 4 & 1372 & 209\\\\\n",
       "\t28 & 4 & 1582 & 214\\\\\n",
       "\t29 & 5 &  118 &  30\\\\\n",
       "\t30 & 5 &  484 &  49\\\\\n",
       "\t31 & 5 &  664 &  81\\\\\n",
       "\t32 & 5 & 1004 & 125\\\\\n",
       "\t33 & 5 & 1231 & 142\\\\\n",
       "\t34 & 5 & 1372 & 174\\\\\n",
       "\t35 & 5 & 1582 & 177\\\\\n",
       "\\end{tabular}\n"
      ],
      "text/markdown": [
       "\n",
       "A data.frame: 28 × 3\n",
       "\n",
       "| <!--/--> | Tree &lt;ord&gt; | age &lt;dbl&gt; | circumference &lt;dbl&gt; |\n",
       "|---|---|---|---|\n",
       "| 1 | 1 |  118 |  30 |\n",
       "| 2 | 1 |  484 |  58 |\n",
       "| 3 | 1 |  664 |  87 |\n",
       "| 4 | 1 | 1004 | 115 |\n",
       "| 5 | 1 | 1231 | 120 |\n",
       "| 6 | 1 | 1372 | 142 |\n",
       "| 7 | 1 | 1582 | 145 |\n",
       "| 15 | 3 |  118 |  30 |\n",
       "| 16 | 3 |  484 |  51 |\n",
       "| 17 | 3 |  664 |  75 |\n",
       "| 18 | 3 | 1004 | 108 |\n",
       "| 19 | 3 | 1231 | 115 |\n",
       "| 20 | 3 | 1372 | 139 |\n",
       "| 21 | 3 | 1582 | 140 |\n",
       "| 22 | 4 |  118 |  32 |\n",
       "| 23 | 4 |  484 |  62 |\n",
       "| 24 | 4 |  664 | 112 |\n",
       "| 25 | 4 | 1004 | 167 |\n",
       "| 26 | 4 | 1231 | 179 |\n",
       "| 27 | 4 | 1372 | 209 |\n",
       "| 28 | 4 | 1582 | 214 |\n",
       "| 29 | 5 |  118 |  30 |\n",
       "| 30 | 5 |  484 |  49 |\n",
       "| 31 | 5 |  664 |  81 |\n",
       "| 32 | 5 | 1004 | 125 |\n",
       "| 33 | 5 | 1231 | 142 |\n",
       "| 34 | 5 | 1372 | 174 |\n",
       "| 35 | 5 | 1582 | 177 |\n",
       "\n"
      ],
      "text/plain": [
       "   Tree age  circumference\n",
       "1  1     118  30          \n",
       "2  1     484  58          \n",
       "3  1     664  87          \n",
       "4  1    1004 115          \n",
       "5  1    1231 120          \n",
       "6  1    1372 142          \n",
       "7  1    1582 145          \n",
       "15 3     118  30          \n",
       "16 3     484  51          \n",
       "17 3     664  75          \n",
       "18 3    1004 108          \n",
       "19 3    1231 115          \n",
       "20 3    1372 139          \n",
       "21 3    1582 140          \n",
       "22 4     118  32          \n",
       "23 4     484  62          \n",
       "24 4     664 112          \n",
       "25 4    1004 167          \n",
       "26 4    1231 179          \n",
       "27 4    1372 209          \n",
       "28 4    1582 214          \n",
       "29 5     118  30          \n",
       "30 5     484  49          \n",
       "31 5     664  81          \n",
       "32 5    1004 125          \n",
       "33 5    1231 142          \n",
       "34 5    1372 174          \n",
       "35 5    1582 177          "
      ]
     },
     "metadata": {},
     "output_type": "display_data"
    }
   ],
   "source": [
    "df"
   ]
  },
  {
   "cell_type": "code",
   "execution_count": 38,
   "id": "078d48f0",
   "metadata": {},
   "outputs": [],
   "source": [
    "cir = df$circumference"
   ]
  },
  {
   "cell_type": "code",
   "execution_count": 37,
   "id": "21d7ac09",
   "metadata": {},
   "outputs": [
    {
     "data": {
      "text/html": [
       "111"
      ],
      "text/latex": [
       "111"
      ],
      "text/markdown": [
       "111"
      ],
      "text/plain": [
       "[1] 111"
      ]
     },
     "metadata": {},
     "output_type": "display_data"
    }
   ],
   "source": [
    "mean(df$circumference)"
   ]
  },
  {
   "cell_type": "code",
   "execution_count": 39,
   "id": "f41df56e",
   "metadata": {},
   "outputs": [
    {
     "data": {
      "text/html": [
       "111"
      ],
      "text/latex": [
       "111"
      ],
      "text/markdown": [
       "111"
      ],
      "text/plain": [
       "[1] 111"
      ]
     },
     "metadata": {},
     "output_type": "display_data"
    }
   ],
   "source": [
    "mean(cir)"
   ]
  },
  {
   "cell_type": "code",
   "execution_count": 40,
   "id": "24694f0e",
   "metadata": {},
   "outputs": [
    {
     "data": {
      "text/html": [
       "115"
      ],
      "text/latex": [
       "115"
      ],
      "text/markdown": [
       "115"
      ],
      "text/plain": [
       "[1] 115"
      ]
     },
     "metadata": {},
     "output_type": "display_data"
    }
   ],
   "source": [
    "median(cir)"
   ]
  },
  {
   "cell_type": "code",
   "execution_count": 41,
   "id": "33a7ea80",
   "metadata": {},
   "outputs": [
    {
     "data": {
      "text/html": [
       "110.35"
      ],
      "text/latex": [
       "110.35"
      ],
      "text/markdown": [
       "110.35"
      ],
      "text/plain": [
       "[1] 110.35"
      ]
     },
     "metadata": {},
     "output_type": "display_data"
    }
   ],
   "source": [
    "mean(cir, trim = 0.15)"
   ]
  },
  {
   "cell_type": "code",
   "execution_count": 42,
   "id": "252230e1",
   "metadata": {},
   "outputs": [
    {
     "data": {
      "image/png": "[encoded data removed]",
      "text/plain": [
       "plot without title"
      ]
     },
     "metadata": {
      "image/png": {
       "height": 420,
       "width": 420
      }
     },
     "output_type": "display_data"
    }
   ],
   "source": [
    "boxplot(Orange$circumference~Orange$Tree)"
   ]
  },
  {
   "cell_type": "code",
   "execution_count": 43,
   "id": "cf30465d",
   "metadata": {},
   "outputs": [
    {
     "ename": "ERROR",
     "evalue": "Error in `levels<-`(`*tmp*`, value = as.character(levels)): factor level [2] is duplicated\n",
     "output_type": "error",
     "traceback": [
      "Error in `levels<-`(`*tmp*`, value = as.character(levels)): factor level [2] is duplicated\nTraceback:\n",
      "1. factor(Orange$Tree, levels = (Orange$Tree)[c(2, 4, 1, 5, 3)])"
     ]
    }
   ],
   "source": [
    "TreeOrder = factor(Orange$Tree, levels =(Orange$Tree)[c(2, 4, 1, 5, 3)])\n",
    "boxplot(Orange$circumference~TreeOrder)"
   ]
  },
  {
   "cell_type": "code",
   "execution_count": 62,
   "id": "09d72097",
   "metadata": {},
   "outputs": [
    {
     "data": {
      "text/plain": [
       "\n",
       "\tPearson's product-moment correlation\n",
       "\n",
       "data:  cars$speed and cars$dist\n",
       "t = 9.464, df = 48, p-value = 1.49e-12\n",
       "alternative hypothesis: true correlation is not equal to 0\n",
       "95 percent confidence interval:\n",
       " 0.6816422 0.8862036\n",
       "sample estimates:\n",
       "      cor \n",
       "0.8068949 \n"
      ]
     },
     "metadata": {},
     "output_type": "display_data"
    },
    {
     "name": "stderr",
     "output_type": "stream",
     "text": [
      "Warning message:\n",
      "\"'newdata' had 1 row but variables found have 50 rows\"\n"
     ]
    },
    {
     "data": {
      "text/html": [
       "<style>\n",
       ".dl-inline {width: auto; margin:0; padding: 0}\n",
       ".dl-inline>dt, .dl-inline>dd {float: none; width: auto; display: inline-block}\n",
       ".dl-inline>dt::after {content: \":\\0020\"; padding-right: .5ex}\n",
       ".dl-inline>dt:not(:first-of-type) {padding-left: .5ex}\n",
       "</style><dl class=dl-inline><dt>1</dt><dd>-1.84945985401455</dd><dt>2</dt><dd>-1.84945985401455</dd><dt>3</dt><dd>9.9477664233577</dd><dt>4</dt><dd>9.9477664233577</dd><dt>5</dt><dd>13.8801751824818</dd><dt>6</dt><dd>17.8125839416059</dd><dt>7</dt><dd>21.74499270073</dd><dt>8</dt><dd>21.74499270073</dd><dt>9</dt><dd>21.74499270073</dd><dt>10</dt><dd>25.677401459854</dd><dt>11</dt><dd>25.677401459854</dd><dt>12</dt><dd>29.6098102189781</dd><dt>13</dt><dd>29.6098102189781</dd><dt>14</dt><dd>29.6098102189781</dd><dt>15</dt><dd>29.6098102189781</dd><dt>16</dt><dd>33.5422189781022</dd><dt>17</dt><dd>33.5422189781022</dd><dt>18</dt><dd>33.5422189781022</dd><dt>19</dt><dd>33.5422189781022</dd><dt>20</dt><dd>37.4746277372263</dd><dt>21</dt><dd>37.4746277372263</dd><dt>22</dt><dd>37.4746277372263</dd><dt>23</dt><dd>37.4746277372263</dd><dt>24</dt><dd>41.4070364963504</dd><dt>25</dt><dd>41.4070364963504</dd><dt>26</dt><dd>41.4070364963504</dd><dt>27</dt><dd>45.3394452554745</dd><dt>28</dt><dd>45.3394452554745</dd><dt>29</dt><dd>49.2718540145986</dd><dt>30</dt><dd>49.2718540145986</dd><dt>31</dt><dd>49.2718540145986</dd><dt>32</dt><dd>53.2042627737226</dd><dt>33</dt><dd>53.2042627737226</dd><dt>34</dt><dd>53.2042627737226</dd><dt>35</dt><dd>53.2042627737226</dd><dt>36</dt><dd>57.1366715328467</dd><dt>37</dt><dd>57.1366715328467</dd><dt>38</dt><dd>57.1366715328467</dd><dt>39</dt><dd>61.0690802919708</dd><dt>40</dt><dd>61.0690802919708</dd><dt>41</dt><dd>61.0690802919708</dd><dt>42</dt><dd>61.0690802919708</dd><dt>43</dt><dd>61.0690802919708</dd><dt>44</dt><dd>68.933897810219</dd><dt>45</dt><dd>72.8663065693431</dd><dt>46</dt><dd>76.7987153284672</dd><dt>47</dt><dd>76.7987153284672</dd><dt>48</dt><dd>76.7987153284672</dd><dt>49</dt><dd>76.7987153284672</dd><dt>50</dt><dd>80.7311240875912</dd></dl>\n"
      ],
      "text/latex": [
       "\\begin{description*}\n",
       "\\item[1] -1.84945985401455\n",
       "\\item[2] -1.84945985401455\n",
       "\\item[3] 9.9477664233577\n",
       "\\item[4] 9.9477664233577\n",
       "\\item[5] 13.8801751824818\n",
       "\\item[6] 17.8125839416059\n",
       "\\item[7] 21.74499270073\n",
       "\\item[8] 21.74499270073\n",
       "\\item[9] 21.74499270073\n",
       "\\item[10] 25.677401459854\n",
       "\\item[11] 25.677401459854\n",
       "\\item[12] 29.6098102189781\n",
       "\\item[13] 29.6098102189781\n",
       "\\item[14] 29.6098102189781\n",
       "\\item[15] 29.6098102189781\n",
       "\\item[16] 33.5422189781022\n",
       "\\item[17] 33.5422189781022\n",
       "\\item[18] 33.5422189781022\n",
       "\\item[19] 33.5422189781022\n",
       "\\item[20] 37.4746277372263\n",
       "\\item[21] 37.4746277372263\n",
       "\\item[22] 37.4746277372263\n",
       "\\item[23] 37.4746277372263\n",
       "\\item[24] 41.4070364963504\n",
       "\\item[25] 41.4070364963504\n",
       "\\item[26] 41.4070364963504\n",
       "\\item[27] 45.3394452554745\n",
       "\\item[28] 45.3394452554745\n",
       "\\item[29] 49.2718540145986\n",
       "\\item[30] 49.2718540145986\n",
       "\\item[31] 49.2718540145986\n",
       "\\item[32] 53.2042627737226\n",
       "\\item[33] 53.2042627737226\n",
       "\\item[34] 53.2042627737226\n",
       "\\item[35] 53.2042627737226\n",
       "\\item[36] 57.1366715328467\n",
       "\\item[37] 57.1366715328467\n",
       "\\item[38] 57.1366715328467\n",
       "\\item[39] 61.0690802919708\n",
       "\\item[40] 61.0690802919708\n",
       "\\item[41] 61.0690802919708\n",
       "\\item[42] 61.0690802919708\n",
       "\\item[43] 61.0690802919708\n",
       "\\item[44] 68.933897810219\n",
       "\\item[45] 72.8663065693431\n",
       "\\item[46] 76.7987153284672\n",
       "\\item[47] 76.7987153284672\n",
       "\\item[48] 76.7987153284672\n",
       "\\item[49] 76.7987153284672\n",
       "\\item[50] 80.7311240875912\n",
       "\\end{description*}\n"
      ],
      "text/markdown": [
       "1\n",
       ":   -1.849459854014552\n",
       ":   -1.849459854014553\n",
       ":   9.94776642335774\n",
       ":   9.94776642335775\n",
       ":   13.88017518248186\n",
       ":   17.81258394160597\n",
       ":   21.744992700738\n",
       ":   21.744992700739\n",
       ":   21.7449927007310\n",
       ":   25.67740145985411\n",
       ":   25.67740145985412\n",
       ":   29.609810218978113\n",
       ":   29.609810218978114\n",
       ":   29.609810218978115\n",
       ":   29.609810218978116\n",
       ":   33.542218978102217\n",
       ":   33.542218978102218\n",
       ":   33.542218978102219\n",
       ":   33.542218978102220\n",
       ":   37.474627737226321\n",
       ":   37.474627737226322\n",
       ":   37.474627737226323\n",
       ":   37.474627737226324\n",
       ":   41.407036496350425\n",
       ":   41.407036496350426\n",
       ":   41.407036496350427\n",
       ":   45.339445255474528\n",
       ":   45.339445255474529\n",
       ":   49.271854014598630\n",
       ":   49.271854014598631\n",
       ":   49.271854014598632\n",
       ":   53.204262773722633\n",
       ":   53.204262773722634\n",
       ":   53.204262773722635\n",
       ":   53.204262773722636\n",
       ":   57.136671532846737\n",
       ":   57.136671532846738\n",
       ":   57.136671532846739\n",
       ":   61.069080291970840\n",
       ":   61.069080291970841\n",
       ":   61.069080291970842\n",
       ":   61.069080291970843\n",
       ":   61.069080291970844\n",
       ":   68.93389781021945\n",
       ":   72.866306569343146\n",
       ":   76.798715328467247\n",
       ":   76.798715328467248\n",
       ":   76.798715328467249\n",
       ":   76.798715328467250\n",
       ":   80.7311240875912\n",
       "\n"
      ],
      "text/plain": [
       "        1         2         3         4         5         6         7         8 \n",
       "-1.849460 -1.849460  9.947766  9.947766 13.880175 17.812584 21.744993 21.744993 \n",
       "        9        10        11        12        13        14        15        16 \n",
       "21.744993 25.677401 25.677401 29.609810 29.609810 29.609810 29.609810 33.542219 \n",
       "       17        18        19        20        21        22        23        24 \n",
       "33.542219 33.542219 33.542219 37.474628 37.474628 37.474628 37.474628 41.407036 \n",
       "       25        26        27        28        29        30        31        32 \n",
       "41.407036 41.407036 45.339445 45.339445 49.271854 49.271854 49.271854 53.204263 \n",
       "       33        34        35        36        37        38        39        40 \n",
       "53.204263 53.204263 53.204263 57.136672 57.136672 57.136672 61.069080 61.069080 \n",
       "       41        42        43        44        45        46        47        48 \n",
       "61.069080 61.069080 61.069080 68.933898 72.866307 76.798715 76.798715 76.798715 \n",
       "       49        50 \n",
       "76.798715 80.731124 "
      ]
     },
     "metadata": {},
     "output_type": "display_data"
    },
    {
     "data": {
      "image/png": "[encoded data removed]",
      "text/plain": [
       "plot without title"
      ]
     },
     "metadata": {
      "image/png": {
       "height": 420,
       "width": 420
      }
     },
     "output_type": "display_data"
    }
   ],
   "source": [
    "plot(cars$speed, cars$dist)\n",
    "cor.test(cars$speed, cars$dist)\n",
    "lm.res = lm(cars$dist~cars$speed)\n",
    "abline(lm.res)\n",
    "predict(lm.res, newdata = data.frame(speed = 13))"
   ]
  },
  {
   "cell_type": "code",
   "execution_count": 53,
   "id": "fb8d6380",
   "metadata": {},
   "outputs": [
    {
     "data": {
      "text/plain": [
       "\n",
       "Call:\n",
       "lm(formula = cars$dist ~ cars$speed)\n",
       "\n",
       "Residuals:\n",
       "    Min      1Q  Median      3Q     Max \n",
       "-29.069  -9.525  -2.272   9.215  43.201 \n",
       "\n",
       "Coefficients:\n",
       "            Estimate Std. Error t value Pr(>|t|)    \n",
       "(Intercept) -17.5791     6.7584  -2.601   0.0123 *  \n",
       "cars$speed    3.9324     0.4155   9.464 1.49e-12 ***\n",
       "---\n",
       "Signif. codes:  0 '***' 0.001 '**' 0.01 '*' 0.05 '.' 0.1 ' ' 1\n",
       "\n",
       "Residual standard error: 15.38 on 48 degrees of freedom\n",
       "Multiple R-squared:  0.6511,\tAdjusted R-squared:  0.6438 \n",
       "F-statistic: 89.57 on 1 and 48 DF,  p-value: 1.49e-12\n"
      ]
     },
     "metadata": {},
     "output_type": "display_data"
    }
   ],
   "source": [
    "summary(lm.res)"
   ]
  },
  {
   "cell_type": "code",
   "execution_count": 56,
   "id": "63c79a8a",
   "metadata": {},
   "outputs": [
    {
     "data": {
      "text/html": [
       "-1.8495"
      ],
      "text/latex": [
       "-1.8495"
      ],
      "text/markdown": [
       "-1.8495"
      ],
      "text/plain": [
       "[1] -1.8495"
      ]
     },
     "metadata": {},
     "output_type": "display_data"
    }
   ],
   "source": [
    "-17.5791 + 3.9324 * 4"
   ]
  },
  {
   "cell_type": "code",
   "execution_count": 58,
   "id": "9e9c5262",
   "metadata": {},
   "outputs": [
    {
     "name": "stderr",
     "output_type": "stream",
     "text": [
      "Warning message:\n",
      "\"'newdata' had 1 row but variables found have 50 rows\"\n"
     ]
    },
    {
     "data": {
      "text/html": [
       "<style>\n",
       ".dl-inline {width: auto; margin:0; padding: 0}\n",
       ".dl-inline>dt, .dl-inline>dd {float: none; width: auto; display: inline-block}\n",
       ".dl-inline>dt::after {content: \":\\0020\"; padding-right: .5ex}\n",
       ".dl-inline>dt:not(:first-of-type) {padding-left: .5ex}\n",
       "</style><dl class=dl-inline><dt>1</dt><dd>-1.84945985401455</dd><dt>2</dt><dd>-1.84945985401455</dd><dt>3</dt><dd>9.9477664233577</dd><dt>4</dt><dd>9.9477664233577</dd><dt>5</dt><dd>13.8801751824818</dd><dt>6</dt><dd>17.8125839416059</dd><dt>7</dt><dd>21.74499270073</dd><dt>8</dt><dd>21.74499270073</dd><dt>9</dt><dd>21.74499270073</dd><dt>10</dt><dd>25.677401459854</dd><dt>11</dt><dd>25.677401459854</dd><dt>12</dt><dd>29.6098102189781</dd><dt>13</dt><dd>29.6098102189781</dd><dt>14</dt><dd>29.6098102189781</dd><dt>15</dt><dd>29.6098102189781</dd><dt>16</dt><dd>33.5422189781022</dd><dt>17</dt><dd>33.5422189781022</dd><dt>18</dt><dd>33.5422189781022</dd><dt>19</dt><dd>33.5422189781022</dd><dt>20</dt><dd>37.4746277372263</dd><dt>21</dt><dd>37.4746277372263</dd><dt>22</dt><dd>37.4746277372263</dd><dt>23</dt><dd>37.4746277372263</dd><dt>24</dt><dd>41.4070364963504</dd><dt>25</dt><dd>41.4070364963504</dd><dt>26</dt><dd>41.4070364963504</dd><dt>27</dt><dd>45.3394452554745</dd><dt>28</dt><dd>45.3394452554745</dd><dt>29</dt><dd>49.2718540145986</dd><dt>30</dt><dd>49.2718540145986</dd><dt>31</dt><dd>49.2718540145986</dd><dt>32</dt><dd>53.2042627737226</dd><dt>33</dt><dd>53.2042627737226</dd><dt>34</dt><dd>53.2042627737226</dd><dt>35</dt><dd>53.2042627737226</dd><dt>36</dt><dd>57.1366715328467</dd><dt>37</dt><dd>57.1366715328467</dd><dt>38</dt><dd>57.1366715328467</dd><dt>39</dt><dd>61.0690802919708</dd><dt>40</dt><dd>61.0690802919708</dd><dt>41</dt><dd>61.0690802919708</dd><dt>42</dt><dd>61.0690802919708</dd><dt>43</dt><dd>61.0690802919708</dd><dt>44</dt><dd>68.933897810219</dd><dt>45</dt><dd>72.8663065693431</dd><dt>46</dt><dd>76.7987153284672</dd><dt>47</dt><dd>76.7987153284672</dd><dt>48</dt><dd>76.7987153284672</dd><dt>49</dt><dd>76.7987153284672</dd><dt>50</dt><dd>80.7311240875912</dd></dl>\n"
      ],
      "text/latex": [
       "\\begin{description*}\n",
       "\\item[1] -1.84945985401455\n",
       "\\item[2] -1.84945985401455\n",
       "\\item[3] 9.9477664233577\n",
       "\\item[4] 9.9477664233577\n",
       "\\item[5] 13.8801751824818\n",
       "\\item[6] 17.8125839416059\n",
       "\\item[7] 21.74499270073\n",
       "\\item[8] 21.74499270073\n",
       "\\item[9] 21.74499270073\n",
       "\\item[10] 25.677401459854\n",
       "\\item[11] 25.677401459854\n",
       "\\item[12] 29.6098102189781\n",
       "\\item[13] 29.6098102189781\n",
       "\\item[14] 29.6098102189781\n",
       "\\item[15] 29.6098102189781\n",
       "\\item[16] 33.5422189781022\n",
       "\\item[17] 33.5422189781022\n",
       "\\item[18] 33.5422189781022\n",
       "\\item[19] 33.5422189781022\n",
       "\\item[20] 37.4746277372263\n",
       "\\item[21] 37.4746277372263\n",
       "\\item[22] 37.4746277372263\n",
       "\\item[23] 37.4746277372263\n",
       "\\item[24] 41.4070364963504\n",
       "\\item[25] 41.4070364963504\n",
       "\\item[26] 41.4070364963504\n",
       "\\item[27] 45.3394452554745\n",
       "\\item[28] 45.3394452554745\n",
       "\\item[29] 49.2718540145986\n",
       "\\item[30] 49.2718540145986\n",
       "\\item[31] 49.2718540145986\n",
       "\\item[32] 53.2042627737226\n",
       "\\item[33] 53.2042627737226\n",
       "\\item[34] 53.2042627737226\n",
       "\\item[35] 53.2042627737226\n",
       "\\item[36] 57.1366715328467\n",
       "\\item[37] 57.1366715328467\n",
       "\\item[38] 57.1366715328467\n",
       "\\item[39] 61.0690802919708\n",
       "\\item[40] 61.0690802919708\n",
       "\\item[41] 61.0690802919708\n",
       "\\item[42] 61.0690802919708\n",
       "\\item[43] 61.0690802919708\n",
       "\\item[44] 68.933897810219\n",
       "\\item[45] 72.8663065693431\n",
       "\\item[46] 76.7987153284672\n",
       "\\item[47] 76.7987153284672\n",
       "\\item[48] 76.7987153284672\n",
       "\\item[49] 76.7987153284672\n",
       "\\item[50] 80.7311240875912\n",
       "\\end{description*}\n"
      ],
      "text/markdown": [
       "1\n",
       ":   -1.849459854014552\n",
       ":   -1.849459854014553\n",
       ":   9.94776642335774\n",
       ":   9.94776642335775\n",
       ":   13.88017518248186\n",
       ":   17.81258394160597\n",
       ":   21.744992700738\n",
       ":   21.744992700739\n",
       ":   21.7449927007310\n",
       ":   25.67740145985411\n",
       ":   25.67740145985412\n",
       ":   29.609810218978113\n",
       ":   29.609810218978114\n",
       ":   29.609810218978115\n",
       ":   29.609810218978116\n",
       ":   33.542218978102217\n",
       ":   33.542218978102218\n",
       ":   33.542218978102219\n",
       ":   33.542218978102220\n",
       ":   37.474627737226321\n",
       ":   37.474627737226322\n",
       ":   37.474627737226323\n",
       ":   37.474627737226324\n",
       ":   41.407036496350425\n",
       ":   41.407036496350426\n",
       ":   41.407036496350427\n",
       ":   45.339445255474528\n",
       ":   45.339445255474529\n",
       ":   49.271854014598630\n",
       ":   49.271854014598631\n",
       ":   49.271854014598632\n",
       ":   53.204262773722633\n",
       ":   53.204262773722634\n",
       ":   53.204262773722635\n",
       ":   53.204262773722636\n",
       ":   57.136671532846737\n",
       ":   57.136671532846738\n",
       ":   57.136671532846739\n",
       ":   61.069080291970840\n",
       ":   61.069080291970841\n",
       ":   61.069080291970842\n",
       ":   61.069080291970843\n",
       ":   61.069080291970844\n",
       ":   68.93389781021945\n",
       ":   72.866306569343146\n",
       ":   76.798715328467247\n",
       ":   76.798715328467248\n",
       ":   76.798715328467249\n",
       ":   76.798715328467250\n",
       ":   80.7311240875912\n",
       "\n"
      ],
      "text/plain": [
       "        1         2         3         4         5         6         7         8 \n",
       "-1.849460 -1.849460  9.947766  9.947766 13.880175 17.812584 21.744993 21.744993 \n",
       "        9        10        11        12        13        14        15        16 \n",
       "21.744993 25.677401 25.677401 29.609810 29.609810 29.609810 29.609810 33.542219 \n",
       "       17        18        19        20        21        22        23        24 \n",
       "33.542219 33.542219 33.542219 37.474628 37.474628 37.474628 37.474628 41.407036 \n",
       "       25        26        27        28        29        30        31        32 \n",
       "41.407036 41.407036 45.339445 45.339445 49.271854 49.271854 49.271854 53.204263 \n",
       "       33        34        35        36        37        38        39        40 \n",
       "53.204263 53.204263 53.204263 57.136672 57.136672 57.136672 61.069080 61.069080 \n",
       "       41        42        43        44        45        46        47        48 \n",
       "61.069080 61.069080 61.069080 68.933898 72.866307 76.798715 76.798715 76.798715 \n",
       "       49        50 \n",
       "76.798715 80.731124 "
      ]
     },
     "metadata": {},
     "output_type": "display_data"
    }
   ],
   "source": [
    "predict(lm.res, newdata = data.frame(dist = 4))"
   ]
  },
  {
   "cell_type": "code",
   "execution_count": 64,
   "id": "95534b8d",
   "metadata": {},
   "outputs": [
    {
     "data": {
      "image/png": "[encoded data removed]",
      "text/plain": [
       "plot without title"
      ]
     },
     "metadata": {
      "image/png": {
       "height": 420,
       "width": 420
      }
     },
     "output_type": "display_data"
    }
   ],
   "source": [
    "plot(pressure$temperature, pressure$pressure,\n",
    "    type = 'b')"
   ]
  },
  {
   "cell_type": "code",
   "execution_count": 65,
   "id": "e056ecb5",
   "metadata": {},
   "outputs": [
    {
     "data": {
      "image/png": "[encoded data removed]",
      "text/plain": [
       "plot without title"
      ]
     },
     "metadata": {
      "image/png": {
       "height": 420,
       "width": 420
      }
     },
     "output_type": "display_data"
    }
   ],
   "source": [
    "pairs(state.x77[, c('Population','Income','Illiteracy','Area')])"
   ]
  },
  {
   "cell_type": "code",
   "execution_count": 66,
   "id": "68b30662",
   "metadata": {},
   "outputs": [
    {
     "data": {
      "image/png": "[encoded data removed]",
      "text/plain": [
       "plot without title"
      ]
     },
     "metadata": {
      "image/png": {
       "height": 420,
       "width": 420
      }
     },
     "output_type": "display_data"
    }
   ],
   "source": [
    "plot(iris$Sepal.Length~iris$Species)"
   ]
  },
  {
   "cell_type": "code",
   "execution_count": 69,
   "id": "e3eb7b9b",
   "metadata": {},
   "outputs": [
    {
     "data": {
      "image/png": "[encoded data removed]",
      "text/plain": [
       "plot without title"
      ]
     },
     "metadata": {
      "image/png": {
       "height": 420,
       "width": 420
      }
     },
     "output_type": "display_data"
    }
   ],
   "source": [
    "plot(iris$Sepal.Length, iris$Sepal.Width,\n",
    "    col = as.integer(iris$Species),\n",
    "    pch = as.integer(iris$Species))"
   ]
  },
  {
   "cell_type": "code",
   "execution_count": 72,
   "id": "eacaed16",
   "metadata": {},
   "outputs": [],
   "source": [
    "Income = c(121, 99, 41, 35, 40, 29, 35, 24, 50, 60)\n",
    "time = c(19, 20, 16, 16, 18, 12, 14, 12, 16, 17)"
   ]
  },
  {
   "cell_type": "code",
   "execution_count": 82,
   "id": "c9efabc2",
   "metadata": {},
   "outputs": [
    {
     "data": {
      "text/html": [
       "0.792910849920745"
      ],
      "text/latex": [
       "0.792910849920745"
      ],
      "text/markdown": [
       "0.792910849920745"
      ],
      "text/plain": [
       "[1] 0.7929108"
      ]
     },
     "metadata": {},
     "output_type": "display_data"
    },
    {
     "data": {
      "image/png": "[encoded data removed]",
      "text/plain": [
       "plot without title"
      ]
     },
     "metadata": {
      "image/png": {
       "height": 420,
       "width": 420
      }
     },
     "output_type": "display_data"
    }
   ],
   "source": [
    "plot(Income, time)\n",
    "cor(Income, time)\n",
    "lm.res = lm(time~Income)\n",
    "abline(lm.res)"
   ]
  },
  {
   "cell_type": "code",
   "execution_count": 84,
   "id": "00869fbb",
   "metadata": {},
   "outputs": [
    {
     "data": {
      "text/plain": [
       "\n",
       "Call:\n",
       "lm(formula = time ~ Income)\n",
       "\n",
       "Residuals:\n",
       "    Min      1Q  Median      3Q     Max \n",
       "-2.3590 -1.3503  0.3924  0.9084  2.9012 \n",
       "\n",
       "Coefficients:\n",
       "            Estimate Std. Error t value Pr(>|t|)    \n",
       "(Intercept) 12.40872    1.12178  11.062 3.98e-06 ***\n",
       "Income       0.06725    0.01827   3.681  0.00621 ** \n",
       "---\n",
       "Signif. codes:  0 '***' 0.001 '**' 0.01 '*' 0.05 '.' 0.1 ' ' 1\n",
       "\n",
       "Residual standard error: 1.75 on 8 degrees of freedom\n",
       "Multiple R-squared:  0.6287,\tAdjusted R-squared:  0.5823 \n",
       "F-statistic: 13.55 on 1 and 8 DF,  p-value: 0.006214\n"
      ]
     },
     "metadata": {},
     "output_type": "display_data"
    }
   ],
   "source": [
    "summary(lm.res)"
   ]
  },
  {
   "cell_type": "code",
   "execution_count": 83,
   "id": "b4284930",
   "metadata": {},
   "outputs": [
    {
     "data": {
      "text/html": [
       "<strong>1:</strong> 13.3502572375305"
      ],
      "text/latex": [
       "\\textbf{1:} 13.3502572375305"
      ],
      "text/markdown": [
       "**1:** 13.3502572375305"
      ],
      "text/plain": [
       "       1 \n",
       "13.35026 "
      ]
     },
     "metadata": {},
     "output_type": "display_data"
    }
   ],
   "source": [
    "predict(lm.res, newdata = data.frame(Income = 14))"
   ]
  },
  {
   "cell_type": "code",
   "execution_count": 85,
   "id": "334fbf92",
   "metadata": {},
   "outputs": [
    {
     "data": {
      "text/html": [
       "13.35022"
      ],
      "text/latex": [
       "13.35022"
      ],
      "text/markdown": [
       "13.35022"
      ],
      "text/plain": [
       "[1] 13.35022"
      ]
     },
     "metadata": {},
     "output_type": "display_data"
    }
   ],
   "source": [
    "12.40872 + 0.06725 * 14"
   ]
  },
  {
   "cell_type": "code",
   "execution_count": 86,
   "id": "f68b5995",
   "metadata": {},
   "outputs": [],
   "source": [
    "score = c(77.5, 60, 50, 95, 55, 85, 72.5, 80, 92.5, 87.5)\n",
    "time = c(14, 10, 20, 7, 25, 9, 15, 13, 4, 21)"
   ]
  },
  {
   "cell_type": "code",
   "execution_count": 89,
   "id": "53f3308f",
   "metadata": {},
   "outputs": [
    {
     "data": {
      "image/png": "[encoded data removed]",
      "text/plain": [
       "plot without title"
      ]
     },
     "metadata": {
      "image/png": {
       "height": 420,
       "width": 420
      }
     },
     "output_type": "display_data"
    }
   ],
   "source": [
    "plot(time, score)\n",
    "lm.res = lm(score~time)\n",
    "abline(lm.res)"
   ]
  },
  {
   "cell_type": "code",
   "execution_count": 90,
   "id": "eb37fb2a",
   "metadata": {},
   "outputs": [
    {
     "data": {
      "text/plain": [
       "\n",
       "Call:\n",
       "lm(formula = score ~ time)\n",
       "\n",
       "Residuals:\n",
       "    Min      1Q  Median      3Q     Max \n",
       "-21.177  -3.127   2.314   3.068  22.756 \n",
       "\n",
       "Coefficients:\n",
       "            Estimate Std. Error t value Pr(>|t|)    \n",
       "(Intercept)  96.1167     9.9213   9.688 1.07e-05 ***\n",
       "time         -1.4940     0.6539  -2.285   0.0517 .  \n",
       "---\n",
       "Signif. codes:  0 '***' 0.001 '**' 0.01 '*' 0.05 '.' 0.1 ' ' 1\n",
       "\n",
       "Residual standard error: 13.04 on 8 degrees of freedom\n",
       "Multiple R-squared:  0.3948,\tAdjusted R-squared:  0.3192 \n",
       "F-statistic:  5.22 on 1 and 8 DF,  p-value: 0.05169\n"
      ]
     },
     "metadata": {},
     "output_type": "display_data"
    }
   ],
   "source": [
    "summary(lm.res)"
   ]
  },
  {
   "cell_type": "code",
   "execution_count": 91,
   "id": "db6cb412",
   "metadata": {},
   "outputs": [
    {
     "data": {
      "text/html": [
       "<strong>1:</strong> 76.6951710261569"
      ],
      "text/latex": [
       "\\textbf{1:} 76.6951710261569"
      ],
      "text/markdown": [
       "**1:** 76.6951710261569"
      ],
      "text/plain": [
       "       1 \n",
       "76.69517 "
      ]
     },
     "metadata": {},
     "output_type": "display_data"
    }
   ],
   "source": [
    "predict(lm.res, newdata = data.frame(time = 13))"
   ]
  },
  {
   "cell_type": "code",
   "execution_count": 92,
   "id": "530a8673",
   "metadata": {},
   "outputs": [
    {
     "data": {
      "text/html": [
       "76.6947"
      ],
      "text/latex": [
       "76.6947"
      ],
      "text/markdown": [
       "76.6947"
      ],
      "text/plain": [
       "[1] 76.6947"
      ]
     },
     "metadata": {},
     "output_type": "display_data"
    }
   ],
   "source": [
    "96.1167 + -1.4940 * 13"
   ]
  },
  {
   "cell_type": "code",
   "execution_count": 93,
   "id": "0485a89a",
   "metadata": {},
   "outputs": [
    {
     "data": {
      "text/html": [
       "-0.628367054730914"
      ],
      "text/latex": [
       "-0.628367054730914"
      ],
      "text/markdown": [
       "-0.628367054730914"
      ],
      "text/plain": [
       "[1] -0.6283671"
      ]
     },
     "metadata": {},
     "output_type": "display_data"
    }
   ],
   "source": [
    "cor(time, score)"
   ]
  },
  {
   "cell_type": "code",
   "execution_count": 94,
   "id": "153d44ac",
   "metadata": {},
   "outputs": [
    {
     "data": {
      "text/plain": [
       "\n",
       "\tPearson's product-moment correlation\n",
       "\n",
       "data:  time and score\n",
       "t = -2.2847, df = 8, p-value = 0.05169\n",
       "alternative hypothesis: true correlation is not equal to 0\n",
       "95 percent confidence interval:\n",
       " -0.90137613  0.00208359\n",
       "sample estimates:\n",
       "       cor \n",
       "-0.6283671 \n"
      ]
     },
     "metadata": {},
     "output_type": "display_data"
    }
   ],
   "source": [
    "cor.test(time, score)"
   ]
  },
  {
   "cell_type": "code",
   "execution_count": 95,
   "id": "6266e5c3",
   "metadata": {},
   "outputs": [
    {
     "data": {
      "text/html": [
       "<table class=\"dataframe\">\n",
       "<caption>A matrix: 11 × 11 of type dbl</caption>\n",
       "<thead>\n",
       "\t<tr><th></th><th scope=col>mpg</th><th scope=col>cyl</th><th scope=col>disp</th><th scope=col>hp</th><th scope=col>drat</th><th scope=col>wt</th><th scope=col>qsec</th><th scope=col>vs</th><th scope=col>am</th><th scope=col>gear</th><th scope=col>carb</th></tr>\n",
       "</thead>\n",
       "<tbody>\n",
       "\t<tr><th scope=row>mpg</th><td> 1.0000000</td><td>-0.8521620</td><td>-0.8475514</td><td>-0.7761684</td><td> 0.68117191</td><td>-0.8676594</td><td> 0.41868403</td><td> 0.6640389</td><td> 0.59983243</td><td> 0.4802848</td><td>-0.55092507</td></tr>\n",
       "\t<tr><th scope=row>cyl</th><td>-0.8521620</td><td> 1.0000000</td><td> 0.9020329</td><td> 0.8324475</td><td>-0.69993811</td><td> 0.7824958</td><td>-0.59124207</td><td>-0.8108118</td><td>-0.52260705</td><td>-0.4926866</td><td> 0.52698829</td></tr>\n",
       "\t<tr><th scope=row>disp</th><td>-0.8475514</td><td> 0.9020329</td><td> 1.0000000</td><td> 0.7909486</td><td>-0.71021393</td><td> 0.8879799</td><td>-0.43369788</td><td>-0.7104159</td><td>-0.59122704</td><td>-0.5555692</td><td> 0.39497686</td></tr>\n",
       "\t<tr><th scope=row>hp</th><td>-0.7761684</td><td> 0.8324475</td><td> 0.7909486</td><td> 1.0000000</td><td>-0.44875912</td><td> 0.6587479</td><td>-0.70822339</td><td>-0.7230967</td><td>-0.24320426</td><td>-0.1257043</td><td> 0.74981247</td></tr>\n",
       "\t<tr><th scope=row>drat</th><td> 0.6811719</td><td>-0.6999381</td><td>-0.7102139</td><td>-0.4487591</td><td> 1.00000000</td><td>-0.7124406</td><td> 0.09120476</td><td> 0.4402785</td><td> 0.71271113</td><td> 0.6996101</td><td>-0.09078980</td></tr>\n",
       "\t<tr><th scope=row>wt</th><td>-0.8676594</td><td> 0.7824958</td><td> 0.8879799</td><td> 0.6587479</td><td>-0.71244065</td><td> 1.0000000</td><td>-0.17471588</td><td>-0.5549157</td><td>-0.69249526</td><td>-0.5832870</td><td> 0.42760594</td></tr>\n",
       "\t<tr><th scope=row>qsec</th><td> 0.4186840</td><td>-0.5912421</td><td>-0.4336979</td><td>-0.7082234</td><td> 0.09120476</td><td>-0.1747159</td><td> 1.00000000</td><td> 0.7445354</td><td>-0.22986086</td><td>-0.2126822</td><td>-0.65624923</td></tr>\n",
       "\t<tr><th scope=row>vs</th><td> 0.6640389</td><td>-0.8108118</td><td>-0.7104159</td><td>-0.7230967</td><td> 0.44027846</td><td>-0.5549157</td><td> 0.74453544</td><td> 1.0000000</td><td> 0.16834512</td><td> 0.2060233</td><td>-0.56960714</td></tr>\n",
       "\t<tr><th scope=row>am</th><td> 0.5998324</td><td>-0.5226070</td><td>-0.5912270</td><td>-0.2432043</td><td> 0.71271113</td><td>-0.6924953</td><td>-0.22986086</td><td> 0.1683451</td><td> 1.00000000</td><td> 0.7940588</td><td> 0.05753435</td></tr>\n",
       "\t<tr><th scope=row>gear</th><td> 0.4802848</td><td>-0.4926866</td><td>-0.5555692</td><td>-0.1257043</td><td> 0.69961013</td><td>-0.5832870</td><td>-0.21268223</td><td> 0.2060233</td><td> 0.79405876</td><td> 1.0000000</td><td> 0.27407284</td></tr>\n",
       "\t<tr><th scope=row>carb</th><td>-0.5509251</td><td> 0.5269883</td><td> 0.3949769</td><td> 0.7498125</td><td>-0.09078980</td><td> 0.4276059</td><td>-0.65624923</td><td>-0.5696071</td><td> 0.05753435</td><td> 0.2740728</td><td> 1.00000000</td></tr>\n",
       "</tbody>\n",
       "</table>\n"
      ],
      "text/latex": [
       "A matrix: 11 × 11 of type dbl\n",
       "\\begin{tabular}{r|lllllllllll}\n",
       "  & mpg & cyl & disp & hp & drat & wt & qsec & vs & am & gear & carb\\\\\n",
       "\\hline\n",
       "\tmpg &  1.0000000 & -0.8521620 & -0.8475514 & -0.7761684 &  0.68117191 & -0.8676594 &  0.41868403 &  0.6640389 &  0.59983243 &  0.4802848 & -0.55092507\\\\\n",
       "\tcyl & -0.8521620 &  1.0000000 &  0.9020329 &  0.8324475 & -0.69993811 &  0.7824958 & -0.59124207 & -0.8108118 & -0.52260705 & -0.4926866 &  0.52698829\\\\\n",
       "\tdisp & -0.8475514 &  0.9020329 &  1.0000000 &  0.7909486 & -0.71021393 &  0.8879799 & -0.43369788 & -0.7104159 & -0.59122704 & -0.5555692 &  0.39497686\\\\\n",
       "\thp & -0.7761684 &  0.8324475 &  0.7909486 &  1.0000000 & -0.44875912 &  0.6587479 & -0.70822339 & -0.7230967 & -0.24320426 & -0.1257043 &  0.74981247\\\\\n",
       "\tdrat &  0.6811719 & -0.6999381 & -0.7102139 & -0.4487591 &  1.00000000 & -0.7124406 &  0.09120476 &  0.4402785 &  0.71271113 &  0.6996101 & -0.09078980\\\\\n",
       "\twt & -0.8676594 &  0.7824958 &  0.8879799 &  0.6587479 & -0.71244065 &  1.0000000 & -0.17471588 & -0.5549157 & -0.69249526 & -0.5832870 &  0.42760594\\\\\n",
       "\tqsec &  0.4186840 & -0.5912421 & -0.4336979 & -0.7082234 &  0.09120476 & -0.1747159 &  1.00000000 &  0.7445354 & -0.22986086 & -0.2126822 & -0.65624923\\\\\n",
       "\tvs &  0.6640389 & -0.8108118 & -0.7104159 & -0.7230967 &  0.44027846 & -0.5549157 &  0.74453544 &  1.0000000 &  0.16834512 &  0.2060233 & -0.56960714\\\\\n",
       "\tam &  0.5998324 & -0.5226070 & -0.5912270 & -0.2432043 &  0.71271113 & -0.6924953 & -0.22986086 &  0.1683451 &  1.00000000 &  0.7940588 &  0.05753435\\\\\n",
       "\tgear &  0.4802848 & -0.4926866 & -0.5555692 & -0.1257043 &  0.69961013 & -0.5832870 & -0.21268223 &  0.2060233 &  0.79405876 &  1.0000000 &  0.27407284\\\\\n",
       "\tcarb & -0.5509251 &  0.5269883 &  0.3949769 &  0.7498125 & -0.09078980 &  0.4276059 & -0.65624923 & -0.5696071 &  0.05753435 &  0.2740728 &  1.00000000\\\\\n",
       "\\end{tabular}\n"
      ],
      "text/markdown": [
       "\n",
       "A matrix: 11 × 11 of type dbl\n",
       "\n",
       "| <!--/--> | mpg | cyl | disp | hp | drat | wt | qsec | vs | am | gear | carb |\n",
       "|---|---|---|---|---|---|---|---|---|---|---|---|\n",
       "| mpg |  1.0000000 | -0.8521620 | -0.8475514 | -0.7761684 |  0.68117191 | -0.8676594 |  0.41868403 |  0.6640389 |  0.59983243 |  0.4802848 | -0.55092507 |\n",
       "| cyl | -0.8521620 |  1.0000000 |  0.9020329 |  0.8324475 | -0.69993811 |  0.7824958 | -0.59124207 | -0.8108118 | -0.52260705 | -0.4926866 |  0.52698829 |\n",
       "| disp | -0.8475514 |  0.9020329 |  1.0000000 |  0.7909486 | -0.71021393 |  0.8879799 | -0.43369788 | -0.7104159 | -0.59122704 | -0.5555692 |  0.39497686 |\n",
       "| hp | -0.7761684 |  0.8324475 |  0.7909486 |  1.0000000 | -0.44875912 |  0.6587479 | -0.70822339 | -0.7230967 | -0.24320426 | -0.1257043 |  0.74981247 |\n",
       "| drat |  0.6811719 | -0.6999381 | -0.7102139 | -0.4487591 |  1.00000000 | -0.7124406 |  0.09120476 |  0.4402785 |  0.71271113 |  0.6996101 | -0.09078980 |\n",
       "| wt | -0.8676594 |  0.7824958 |  0.8879799 |  0.6587479 | -0.71244065 |  1.0000000 | -0.17471588 | -0.5549157 | -0.69249526 | -0.5832870 |  0.42760594 |\n",
       "| qsec |  0.4186840 | -0.5912421 | -0.4336979 | -0.7082234 |  0.09120476 | -0.1747159 |  1.00000000 |  0.7445354 | -0.22986086 | -0.2126822 | -0.65624923 |\n",
       "| vs |  0.6640389 | -0.8108118 | -0.7104159 | -0.7230967 |  0.44027846 | -0.5549157 |  0.74453544 |  1.0000000 |  0.16834512 |  0.2060233 | -0.56960714 |\n",
       "| am |  0.5998324 | -0.5226070 | -0.5912270 | -0.2432043 |  0.71271113 | -0.6924953 | -0.22986086 |  0.1683451 |  1.00000000 |  0.7940588 |  0.05753435 |\n",
       "| gear |  0.4802848 | -0.4926866 | -0.5555692 | -0.1257043 |  0.69961013 | -0.5832870 | -0.21268223 |  0.2060233 |  0.79405876 |  1.0000000 |  0.27407284 |\n",
       "| carb | -0.5509251 |  0.5269883 |  0.3949769 |  0.7498125 | -0.09078980 |  0.4276059 | -0.65624923 | -0.5696071 |  0.05753435 |  0.2740728 |  1.00000000 |\n",
       "\n"
      ],
      "text/plain": [
       "     mpg        cyl        disp       hp         drat        wt        \n",
       "mpg   1.0000000 -0.8521620 -0.8475514 -0.7761684  0.68117191 -0.8676594\n",
       "cyl  -0.8521620  1.0000000  0.9020329  0.8324475 -0.69993811  0.7824958\n",
       "disp -0.8475514  0.9020329  1.0000000  0.7909486 -0.71021393  0.8879799\n",
       "hp   -0.7761684  0.8324475  0.7909486  1.0000000 -0.44875912  0.6587479\n",
       "drat  0.6811719 -0.6999381 -0.7102139 -0.4487591  1.00000000 -0.7124406\n",
       "wt   -0.8676594  0.7824958  0.8879799  0.6587479 -0.71244065  1.0000000\n",
       "qsec  0.4186840 -0.5912421 -0.4336979 -0.7082234  0.09120476 -0.1747159\n",
       "vs    0.6640389 -0.8108118 -0.7104159 -0.7230967  0.44027846 -0.5549157\n",
       "am    0.5998324 -0.5226070 -0.5912270 -0.2432043  0.71271113 -0.6924953\n",
       "gear  0.4802848 -0.4926866 -0.5555692 -0.1257043  0.69961013 -0.5832870\n",
       "carb -0.5509251  0.5269883  0.3949769  0.7498125 -0.09078980  0.4276059\n",
       "     qsec        vs         am          gear       carb       \n",
       "mpg   0.41868403  0.6640389  0.59983243  0.4802848 -0.55092507\n",
       "cyl  -0.59124207 -0.8108118 -0.52260705 -0.4926866  0.52698829\n",
       "disp -0.43369788 -0.7104159 -0.59122704 -0.5555692  0.39497686\n",
       "hp   -0.70822339 -0.7230967 -0.24320426 -0.1257043  0.74981247\n",
       "drat  0.09120476  0.4402785  0.71271113  0.6996101 -0.09078980\n",
       "wt   -0.17471588 -0.5549157 -0.69249526 -0.5832870  0.42760594\n",
       "qsec  1.00000000  0.7445354 -0.22986086 -0.2126822 -0.65624923\n",
       "vs    0.74453544  1.0000000  0.16834512  0.2060233 -0.56960714\n",
       "am   -0.22986086  0.1683451  1.00000000  0.7940588  0.05753435\n",
       "gear -0.21268223  0.2060233  0.79405876  1.0000000  0.27407284\n",
       "carb -0.65624923 -0.5696071  0.05753435  0.2740728  1.00000000"
      ]
     },
     "metadata": {},
     "output_type": "display_data"
    }
   ],
   "source": [
    "cor(mtcars)"
   ]
  },
  {
   "cell_type": "code",
   "execution_count": 98,
   "id": "717163ba",
   "metadata": {},
   "outputs": [
    {
     "data": {
      "text/html": [
       "<style>\n",
       ".dl-inline {width: auto; margin:0; padding: 0}\n",
       ".dl-inline>dt, .dl-inline>dd {float: none; width: auto; display: inline-block}\n",
       ".dl-inline>dt::after {content: \":\\0020\"; padding-right: .5ex}\n",
       ".dl-inline>dt:not(:first-of-type) {padding-left: .5ex}\n",
       "</style><dl class=dl-inline><dt>mpg</dt><dd>1</dd><dt>cyl</dt><dd>-0.852161959426613</dd><dt>disp</dt><dd>-0.847551379262479</dd><dt>hp</dt><dd>-0.776168371826586</dd><dt>drat</dt><dd>0.681171907806749</dd><dt>wt</dt><dd>-0.867659376517228</dd><dt>qsec</dt><dd>0.418684033921778</dd><dt>vs</dt><dd>0.664038919127593</dd><dt>am</dt><dd>0.599832429454648</dd><dt>gear</dt><dd>0.480284757338842</dd><dt>carb</dt><dd>-0.550925073902459</dd></dl>\n"
      ],
      "text/latex": [
       "\\begin{description*}\n",
       "\\item[mpg] 1\n",
       "\\item[cyl] -0.852161959426613\n",
       "\\item[disp] -0.847551379262479\n",
       "\\item[hp] -0.776168371826586\n",
       "\\item[drat] 0.681171907806749\n",
       "\\item[wt] -0.867659376517228\n",
       "\\item[qsec] 0.418684033921778\n",
       "\\item[vs] 0.664038919127593\n",
       "\\item[am] 0.599832429454648\n",
       "\\item[gear] 0.480284757338842\n",
       "\\item[carb] -0.550925073902459\n",
       "\\end{description*}\n"
      ],
      "text/markdown": [
       "mpg\n",
       ":   1cyl\n",
       ":   -0.852161959426613disp\n",
       ":   -0.847551379262479hp\n",
       ":   -0.776168371826586drat\n",
       ":   0.681171907806749wt\n",
       ":   -0.867659376517228qsec\n",
       ":   0.418684033921778vs\n",
       ":   0.664038919127593am\n",
       ":   0.599832429454648gear\n",
       ":   0.480284757338842carb\n",
       ":   -0.550925073902459\n",
       "\n"
      ],
      "text/plain": [
       "       mpg        cyl       disp         hp       drat         wt       qsec \n",
       " 1.0000000 -0.8521620 -0.8475514 -0.7761684  0.6811719 -0.8676594  0.4186840 \n",
       "        vs         am       gear       carb \n",
       " 0.6640389  0.5998324  0.4802848 -0.5509251 "
      ]
     },
     "metadata": {},
     "output_type": "display_data"
    }
   ],
   "source": [
    "cor(mtcars)[,1]"
   ]
  },
  {
   "cell_type": "code",
   "execution_count": 99,
   "id": "349a8c55",
   "metadata": {},
   "outputs": [],
   "source": [
    "year = c(2015:2026)\n",
    "data = c(51014, 51245, 51446, 51635, 51811, 51973, 52123, 52261, 52388, 52504, 52609, 52704)"
   ]
  },
  {
   "cell_type": "code",
   "execution_count": 102,
   "id": "97456391",
   "metadata": {},
   "outputs": [
    {
     "data": {
      "image/png": "[encoded data removed]",
      "text/plain": [
       "Plot with title \"인구수 예측\""
      ]
     },
     "metadata": {
      "image/png": {
       "height": 420,
       "width": 420
      }
     },
     "output_type": "display_data"
    }
   ],
   "source": [
    "plot(year, data,\n",
    "    type = 'l',\n",
    "    main = '인구수 예측')"
   ]
  },
  {
   "cell_type": "code",
   "execution_count": 104,
   "id": "9623a08d",
   "metadata": {},
   "outputs": [],
   "source": [
    "mod = lm(Murder~Illiteracy, data = data.frame(state.x77))"
   ]
  },
  {
   "cell_type": "code",
   "execution_count": 105,
   "id": "ba65dda0",
   "metadata": {},
   "outputs": [
    {
     "data": {
      "text/plain": [
       "\n",
       "Call:\n",
       "lm(formula = Murder ~ Illiteracy, data = data.frame(state.x77))\n",
       "\n",
       "Coefficients:\n",
       "(Intercept)   Illiteracy  \n",
       "      2.397        4.257  \n"
      ]
     },
     "metadata": {},
     "output_type": "display_data"
    }
   ],
   "source": [
    "mod"
   ]
  },
  {
   "cell_type": "code",
   "execution_count": 109,
   "id": "2638b8c7",
   "metadata": {},
   "outputs": [
    {
     "data": {
      "text/html": [
       "<style>\n",
       ".list-inline {list-style: none; margin:0; padding: 0}\n",
       ".list-inline>li {display: inline-block}\n",
       ".list-inline>li:not(:last-child)::after {content: \"\\00b7\"; padding: 0 .5ex}\n",
       "</style>\n",
       "<ol class=list-inline><li>'Population'</li><li>'Income'</li><li>'Illiteracy'</li><li>'Life.Exp'</li><li>'Murder'</li><li>'HS.Grad'</li><li>'Frost'</li><li>'Area'</li></ol>\n"
      ],
      "text/latex": [
       "\\begin{enumerate*}\n",
       "\\item 'Population'\n",
       "\\item 'Income'\n",
       "\\item 'Illiteracy'\n",
       "\\item 'Life.Exp'\n",
       "\\item 'Murder'\n",
       "\\item 'HS.Grad'\n",
       "\\item 'Frost'\n",
       "\\item 'Area'\n",
       "\\end{enumerate*}\n"
      ],
      "text/markdown": [
       "1. 'Population'\n",
       "2. 'Income'\n",
       "3. 'Illiteracy'\n",
       "4. 'Life.Exp'\n",
       "5. 'Murder'\n",
       "6. 'HS.Grad'\n",
       "7. 'Frost'\n",
       "8. 'Area'\n",
       "\n",
       "\n"
      ],
      "text/plain": [
       "[1] \"Population\" \"Income\"     \"Illiteracy\" \"Life.Exp\"   \"Murder\"    \n",
       "[6] \"HS.Grad\"    \"Frost\"      \"Area\"      "
      ]
     },
     "metadata": {},
     "output_type": "display_data"
    }
   ],
   "source": [
    "colnames(data.frame(state.x77))"
   ]
  },
  {
   "cell_type": "code",
   "execution_count": 116,
   "id": "cabf203e",
   "metadata": {},
   "outputs": [
    {
     "data": {
      "text/plain": [
       "\n",
       "Call:\n",
       "lm(formula = Murder ~ Illiteracy, data = data.frame(state.x77))\n",
       "\n",
       "Residuals:\n",
       "    Min      1Q  Median      3Q     Max \n",
       "-5.5315 -2.0602 -0.2503  1.6916  6.9745 \n",
       "\n",
       "Coefficients:\n",
       "            Estimate Std. Error t value Pr(>|t|)    \n",
       "(Intercept)   2.3968     0.8184   2.928   0.0052 ** \n",
       "Illiteracy    4.2575     0.6217   6.848 1.26e-08 ***\n",
       "---\n",
       "Signif. codes:  0 '***' 0.001 '**' 0.01 '*' 0.05 '.' 0.1 ' ' 1\n",
       "\n",
       "Residual standard error: 2.653 on 48 degrees of freedom\n",
       "Multiple R-squared:  0.4942,\tAdjusted R-squared:  0.4836 \n",
       "F-statistic: 46.89 on 1 and 48 DF,  p-value: 1.258e-08\n"
      ]
     },
     "metadata": {},
     "output_type": "display_data"
    }
   ],
   "source": [
    "summary(mod)"
   ]
  },
  {
   "cell_type": "code",
   "execution_count": 117,
   "id": "0738a9f6",
   "metadata": {},
   "outputs": [
    {
     "data": {
      "text/html": [
       "<strong>1:</strong> 62.0011700082395"
      ],
      "text/latex": [
       "\\textbf{1:} 62.0011700082395"
      ],
      "text/markdown": [
       "**1:** 62.0011700082395"
      ],
      "text/plain": [
       "       1 \n",
       "62.00117 "
      ]
     },
     "metadata": {},
     "output_type": "display_data"
    }
   ],
   "source": [
    "predict(mod, newdata = data.frame(Illiteracy = 14))"
   ]
  },
  {
   "cell_type": "code",
   "execution_count": 118,
   "id": "760177b8",
   "metadata": {},
   "outputs": [
    {
     "data": {
      "text/html": [
       "62.0018"
      ],
      "text/latex": [
       "62.0018"
      ],
      "text/markdown": [
       "62.0018"
      ],
      "text/plain": [
       "[1] 62.0018"
      ]
     },
     "metadata": {},
     "output_type": "display_data"
    }
   ],
   "source": [
    "2.3968 + 4.2575 * 14"
   ]
  },
  {
   "cell_type": "code",
   "execution_count": 115,
   "id": "6e1e5ade",
   "metadata": {},
   "outputs": [
    {
     "ename": "ERROR",
     "evalue": "Error in state.x77$Illiteracy: $ operator is invalid for atomic vectors\n",
     "output_type": "error",
     "traceback": [
      "Error in state.x77$Illiteracy: $ operator is invalid for atomic vectors\nTraceback:\n",
      "1. plot(state.x77$Illiteracy, state.x77$Murder)"
     ]
    }
   ],
   "source": [
    "plot(state.x77$Illiteracy, state.x77$Murder)\n",
    "abline(mod)"
   ]
  },
  {
   "cell_type": "code",
   "execution_count": 119,
   "id": "ae194a1b",
   "metadata": {},
   "outputs": [
    {
     "data": {
      "text/html": [
       "<strong>1:</strong> 4.52550398242241"
      ],
      "text/latex": [
       "\\textbf{1:} 4.52550398242241"
      ],
      "text/markdown": [
       "**1:** 4.52550398242241"
      ],
      "text/plain": [
       "       1 \n",
       "4.525504 "
      ]
     },
     "metadata": {},
     "output_type": "display_data"
    }
   ],
   "source": [
    "predict(mod, newdata = data.frame(Illiteracy = 0.5))"
   ]
  },
  {
   "cell_type": "code",
   "execution_count": 120,
   "id": "8a8724ee",
   "metadata": {},
   "outputs": [
    {
     "data": {
      "text/html": [
       "<strong>1:</strong> 6.65423235374897"
      ],
      "text/latex": [
       "\\textbf{1:} 6.65423235374897"
      ],
      "text/markdown": [
       "**1:** 6.65423235374897"
      ],
      "text/plain": [
       "       1 \n",
       "6.654232 "
      ]
     },
     "metadata": {},
     "output_type": "display_data"
    }
   ],
   "source": [
    "predict(mod, newdata = data.frame(Illiteracy = 1.0))"
   ]
  },
  {
   "cell_type": "code",
   "execution_count": 121,
   "id": "c7409152",
   "metadata": {},
   "outputs": [
    {
     "data": {
      "text/html": [
       "<strong>1:</strong> 8.78296072507553"
      ],
      "text/latex": [
       "\\textbf{1:} 8.78296072507553"
      ],
      "text/markdown": [
       "**1:** 8.78296072507553"
      ],
      "text/plain": [
       "       1 \n",
       "8.782961 "
      ]
     },
     "metadata": {},
     "output_type": "display_data"
    }
   ],
   "source": [
    "predict(mod, newdata = data.frame(Illiteracy = 1.5))"
   ]
  },
  {
   "cell_type": "code",
   "execution_count": 128,
   "id": "bc7d5431",
   "metadata": {},
   "outputs": [],
   "source": [
    "lm.res = lm(trees$Volume~trees$Girth)"
   ]
  },
  {
   "cell_type": "code",
   "execution_count": 129,
   "id": "fe00b9b0",
   "metadata": {},
   "outputs": [
    {
     "data": {
      "text/plain": [
       "\n",
       "Call:\n",
       "lm(formula = trees$Volume ~ trees$Girth)\n",
       "\n",
       "Coefficients:\n",
       "(Intercept)  trees$Girth  \n",
       "    -36.943        5.066  \n"
      ]
     },
     "metadata": {},
     "output_type": "display_data"
    }
   ],
   "source": [
    "lm.res"
   ]
  },
  {
   "cell_type": "code",
   "execution_count": 131,
   "id": "d69aad68",
   "metadata": {},
   "outputs": [],
   "source": [
    "lm.res = lm(Volume~Girth, data = trees)"
   ]
  },
  {
   "cell_type": "code",
   "execution_count": 132,
   "id": "364bc9f0",
   "metadata": {},
   "outputs": [
    {
     "data": {
      "text/plain": [
       "\n",
       "Call:\n",
       "lm(formula = Volume ~ Girth, data = trees)\n",
       "\n",
       "Coefficients:\n",
       "(Intercept)        Girth  \n",
       "    -36.943        5.066  \n"
      ]
     },
     "metadata": {},
     "output_type": "display_data"
    }
   ],
   "source": [
    "lm.res"
   ]
  },
  {
   "cell_type": "code",
   "execution_count": 133,
   "id": "888b468f",
   "metadata": {},
   "outputs": [
    {
     "data": {
      "text/html": [
       "<strong>1:</strong> 6.11632046959344"
      ],
      "text/latex": [
       "\\textbf{1:} 6.11632046959344"
      ],
      "text/markdown": [
       "**1:** 6.11632046959344"
      ],
      "text/plain": [
       "      1 \n",
       "6.11632 "
      ]
     },
     "metadata": {},
     "output_type": "display_data"
    }
   ],
   "source": [
    "predict(lm.res, newdata = data.frame(Girth = 8.5))"
   ]
  },
  {
   "cell_type": "code",
   "execution_count": 134,
   "id": "386cb958",
   "metadata": {},
   "outputs": [
    {
     "data": {
      "text/html": [
       "6.118"
      ],
      "text/latex": [
       "6.118"
      ],
      "text/markdown": [
       "6.118"
      ],
      "text/plain": [
       "[1] 6.118"
      ]
     },
     "metadata": {},
     "output_type": "display_data"
    }
   ],
   "source": [
    "-36.943 + 5.066 * 8.5"
   ]
  },
  {
   "cell_type": "code",
   "execution_count": 135,
   "id": "aac2a5e8",
   "metadata": {},
   "outputs": [
    {
     "data": {
      "text/html": [
       "<strong>1:</strong> 8.64924868101532"
      ],
      "text/latex": [
       "\\textbf{1:} 8.64924868101532"
      ],
      "text/markdown": [
       "**1:** 8.64924868101532"
      ],
      "text/plain": [
       "       1 \n",
       "8.649249 "
      ]
     },
     "metadata": {},
     "output_type": "display_data"
    }
   ],
   "source": [
    "predict(lm.res, newdata = data.frame(Girth = 9.0))"
   ]
  },
  {
   "cell_type": "code",
   "execution_count": 136,
   "id": "95c682cf",
   "metadata": {},
   "outputs": [],
   "source": [
    "lm.res = lm(pressure~temperature, data = pressure)"
   ]
  },
  {
   "cell_type": "code",
   "execution_count": 137,
   "id": "0b4a0e5d",
   "metadata": {},
   "outputs": [
    {
     "data": {
      "text/plain": [
       "\n",
       "Call:\n",
       "lm(formula = pressure ~ temperature, data = pressure)\n",
       "\n",
       "Coefficients:\n",
       "(Intercept)  temperature  \n",
       "   -147.899        1.512  \n"
      ]
     },
     "metadata": {},
     "output_type": "display_data"
    }
   ],
   "source": [
    "lm.res"
   ]
  },
  {
   "cell_type": "code",
   "execution_count": 138,
   "id": "375d4ecb",
   "metadata": {},
   "outputs": [
    {
     "data": {
      "text/html": [
       "<strong>1:</strong> -49.591580614035"
      ],
      "text/latex": [
       "\\textbf{1:} -49.591580614035"
      ],
      "text/markdown": [
       "**1:** -49.591580614035"
      ],
      "text/plain": [
       "        1 \n",
       "-49.59158 "
      ]
     },
     "metadata": {},
     "output_type": "display_data"
    }
   ],
   "source": [
    "predict(lm.res, newdata = data.frame(temperature = 65))"
   ]
  },
  {
   "cell_type": "code",
   "execution_count": 139,
   "id": "d7c9dd09",
   "metadata": {},
   "outputs": [
    {
     "data": {
      "text/html": [
       "-49.619"
      ],
      "text/latex": [
       "-49.619"
      ],
      "text/markdown": [
       "-49.619"
      ],
      "text/plain": [
       "[1] -49.619"
      ]
     },
     "metadata": {},
     "output_type": "display_data"
    }
   ],
   "source": [
    "-147.899 + 1.512 * 65"
   ]
  },
  {
   "cell_type": "code",
   "execution_count": 140,
   "id": "9d6e10a0",
   "metadata": {},
   "outputs": [
    {
     "data": {
      "text/plain": [
       "\n",
       "Call:\n",
       "lm(formula = pressure ~ temperature, data = pressure)\n",
       "\n",
       "Residuals:\n",
       "    Min      1Q  Median      3Q     Max \n",
       "-158.08 -117.06  -32.84   72.30  409.43 \n",
       "\n",
       "Coefficients:\n",
       "             Estimate Std. Error t value Pr(>|t|)    \n",
       "(Intercept) -147.8989    66.5529  -2.222 0.040124 *  \n",
       "temperature    1.5124     0.3158   4.788 0.000171 ***\n",
       "---\n",
       "Signif. codes:  0 '***' 0.001 '**' 0.01 '*' 0.05 '.' 0.1 ' ' 1\n",
       "\n",
       "Residual standard error: 150.8 on 17 degrees of freedom\n",
       "Multiple R-squared:  0.5742,\tAdjusted R-squared:  0.5492 \n",
       "F-statistic: 22.93 on 1 and 17 DF,  p-value: 0.000171\n"
      ]
     },
     "metadata": {},
     "output_type": "display_data"
    }
   ],
   "source": [
    "summary(lm.res)"
   ]
  },
  {
   "cell_type": "code",
   "execution_count": 141,
   "id": "9c6e37f4",
   "metadata": {},
   "outputs": [],
   "source": [
    "lm.res = lm(Volume~Girth + Height , data = trees)"
   ]
  },
  {
   "cell_type": "code",
   "execution_count": 142,
   "id": "dc41c48e",
   "metadata": {},
   "outputs": [
    {
     "data": {
      "text/plain": [
       "\n",
       "Call:\n",
       "lm(formula = Volume ~ Girth + Height, data = trees)\n",
       "\n",
       "Coefficients:\n",
       "(Intercept)        Girth       Height  \n",
       "   -57.9877       4.7082       0.3393  \n"
      ]
     },
     "metadata": {},
     "output_type": "display_data"
    }
   ],
   "source": [
    "lm.res"
   ]
  },
  {
   "cell_type": "code",
   "execution_count": 143,
   "id": "12887377",
   "metadata": {},
   "outputs": [
    {
     "data": {
      "text/html": [
       "<strong>1:</strong> 31.6741745209933"
      ],
      "text/latex": [
       "\\textbf{1:} 31.6741745209933"
      ],
      "text/markdown": [
       "**1:** 31.6741745209933"
      ],
      "text/plain": [
       "       1 \n",
       "31.67417 "
      ]
     },
     "metadata": {},
     "output_type": "display_data"
    }
   ],
   "source": [
    "predict(lm.res, newdata = data.frame(Girth = 14, Height = 70))"
   ]
  },
  {
   "cell_type": "code",
   "execution_count": 144,
   "id": "13687722",
   "metadata": {},
   "outputs": [
    {
     "data": {
      "text/html": [
       "31.6781"
      ],
      "text/latex": [
       "31.6781"
      ],
      "text/markdown": [
       "31.6781"
      ],
      "text/plain": [
       "[1] 31.6781"
      ]
     },
     "metadata": {},
     "output_type": "display_data"
    }
   ],
   "source": [
    "-57.9877 + 4.7082 * 14 + 0.3393 * 70"
   ]
  },
  {
   "cell_type": "code",
   "execution_count": 146,
   "id": "0f285248",
   "metadata": {},
   "outputs": [
    {
     "name": "stderr",
     "output_type": "stream",
     "text": [
      "Warning message:\n",
      "\"package 'mlbench' was built under R version 4.3.2\"\n"
     ]
    }
   ],
   "source": [
    "library(mlbench)"
   ]
  },
  {
   "cell_type": "code",
   "execution_count": 147,
   "id": "ae5997ef",
   "metadata": {},
   "outputs": [],
   "source": [
    "data(BostonHousing)"
   ]
  },
  {
   "cell_type": "code",
   "execution_count": 148,
   "id": "6aeb3c1b",
   "metadata": {},
   "outputs": [],
   "source": [
    "ds = BostonHousing[, -4]"
   ]
  },
  {
   "cell_type": "code",
   "execution_count": 149,
   "id": "160bc1b4",
   "metadata": {},
   "outputs": [
    {
     "data": {
      "text/html": [
       "<table class=\"dataframe\">\n",
       "<caption>A data.frame: 506 × 13</caption>\n",
       "<thead>\n",
       "\t<tr><th></th><th scope=col>crim</th><th scope=col>zn</th><th scope=col>indus</th><th scope=col>nox</th><th scope=col>rm</th><th scope=col>age</th><th scope=col>dis</th><th scope=col>rad</th><th scope=col>tax</th><th scope=col>ptratio</th><th scope=col>b</th><th scope=col>lstat</th><th scope=col>medv</th></tr>\n",
       "\t<tr><th></th><th scope=col>&lt;dbl&gt;</th><th scope=col>&lt;dbl&gt;</th><th scope=col>&lt;dbl&gt;</th><th scope=col>&lt;dbl&gt;</th><th scope=col>&lt;dbl&gt;</th><th scope=col>&lt;dbl&gt;</th><th scope=col>&lt;dbl&gt;</th><th scope=col>&lt;dbl&gt;</th><th scope=col>&lt;dbl&gt;</th><th scope=col>&lt;dbl&gt;</th><th scope=col>&lt;dbl&gt;</th><th scope=col>&lt;dbl&gt;</th><th scope=col>&lt;dbl&gt;</th></tr>\n",
       "</thead>\n",
       "<tbody>\n",
       "\t<tr><th scope=row>1</th><td>0.00632</td><td>18.0</td><td>2.31</td><td>0.538</td><td>6.575</td><td> 65.2</td><td>4.0900</td><td>1</td><td>296</td><td>15.3</td><td>396.90</td><td> 4.98</td><td>24.0</td></tr>\n",
       "\t<tr><th scope=row>2</th><td>0.02731</td><td> 0.0</td><td>7.07</td><td>0.469</td><td>6.421</td><td> 78.9</td><td>4.9671</td><td>2</td><td>242</td><td>17.8</td><td>396.90</td><td> 9.14</td><td>21.6</td></tr>\n",
       "\t<tr><th scope=row>3</th><td>0.02729</td><td> 0.0</td><td>7.07</td><td>0.469</td><td>7.185</td><td> 61.1</td><td>4.9671</td><td>2</td><td>242</td><td>17.8</td><td>392.83</td><td> 4.03</td><td>34.7</td></tr>\n",
       "\t<tr><th scope=row>4</th><td>0.03237</td><td> 0.0</td><td>2.18</td><td>0.458</td><td>6.998</td><td> 45.8</td><td>6.0622</td><td>3</td><td>222</td><td>18.7</td><td>394.63</td><td> 2.94</td><td>33.4</td></tr>\n",
       "\t<tr><th scope=row>5</th><td>0.06905</td><td> 0.0</td><td>2.18</td><td>0.458</td><td>7.147</td><td> 54.2</td><td>6.0622</td><td>3</td><td>222</td><td>18.7</td><td>396.90</td><td> 5.33</td><td>36.2</td></tr>\n",
       "\t<tr><th scope=row>6</th><td>0.02985</td><td> 0.0</td><td>2.18</td><td>0.458</td><td>6.430</td><td> 58.7</td><td>6.0622</td><td>3</td><td>222</td><td>18.7</td><td>394.12</td><td> 5.21</td><td>28.7</td></tr>\n",
       "\t<tr><th scope=row>7</th><td>0.08829</td><td>12.5</td><td>7.87</td><td>0.524</td><td>6.012</td><td> 66.6</td><td>5.5605</td><td>5</td><td>311</td><td>15.2</td><td>395.60</td><td>12.43</td><td>22.9</td></tr>\n",
       "\t<tr><th scope=row>8</th><td>0.14455</td><td>12.5</td><td>7.87</td><td>0.524</td><td>6.172</td><td> 96.1</td><td>5.9505</td><td>5</td><td>311</td><td>15.2</td><td>396.90</td><td>19.15</td><td>27.1</td></tr>\n",
       "\t<tr><th scope=row>9</th><td>0.21124</td><td>12.5</td><td>7.87</td><td>0.524</td><td>5.631</td><td>100.0</td><td>6.0821</td><td>5</td><td>311</td><td>15.2</td><td>386.63</td><td>29.93</td><td>16.5</td></tr>\n",
       "\t<tr><th scope=row>10</th><td>0.17004</td><td>12.5</td><td>7.87</td><td>0.524</td><td>6.004</td><td> 85.9</td><td>6.5921</td><td>5</td><td>311</td><td>15.2</td><td>386.71</td><td>17.10</td><td>18.9</td></tr>\n",
       "\t<tr><th scope=row>11</th><td>0.22489</td><td>12.5</td><td>7.87</td><td>0.524</td><td>6.377</td><td> 94.3</td><td>6.3467</td><td>5</td><td>311</td><td>15.2</td><td>392.52</td><td>20.45</td><td>15.0</td></tr>\n",
       "\t<tr><th scope=row>12</th><td>0.11747</td><td>12.5</td><td>7.87</td><td>0.524</td><td>6.009</td><td> 82.9</td><td>6.2267</td><td>5</td><td>311</td><td>15.2</td><td>396.90</td><td>13.27</td><td>18.9</td></tr>\n",
       "\t<tr><th scope=row>13</th><td>0.09378</td><td>12.5</td><td>7.87</td><td>0.524</td><td>5.889</td><td> 39.0</td><td>5.4509</td><td>5</td><td>311</td><td>15.2</td><td>390.50</td><td>15.71</td><td>21.7</td></tr>\n",
       "\t<tr><th scope=row>14</th><td>0.62976</td><td> 0.0</td><td>8.14</td><td>0.538</td><td>5.949</td><td> 61.8</td><td>4.7075</td><td>4</td><td>307</td><td>21.0</td><td>396.90</td><td> 8.26</td><td>20.4</td></tr>\n",
       "\t<tr><th scope=row>15</th><td>0.63796</td><td> 0.0</td><td>8.14</td><td>0.538</td><td>6.096</td><td> 84.5</td><td>4.4619</td><td>4</td><td>307</td><td>21.0</td><td>380.02</td><td>10.26</td><td>18.2</td></tr>\n",
       "\t<tr><th scope=row>16</th><td>0.62739</td><td> 0.0</td><td>8.14</td><td>0.538</td><td>5.834</td><td> 56.5</td><td>4.4986</td><td>4</td><td>307</td><td>21.0</td><td>395.62</td><td> 8.47</td><td>19.9</td></tr>\n",
       "\t<tr><th scope=row>17</th><td>1.05393</td><td> 0.0</td><td>8.14</td><td>0.538</td><td>5.935</td><td> 29.3</td><td>4.4986</td><td>4</td><td>307</td><td>21.0</td><td>386.85</td><td> 6.58</td><td>23.1</td></tr>\n",
       "\t<tr><th scope=row>18</th><td>0.78420</td><td> 0.0</td><td>8.14</td><td>0.538</td><td>5.990</td><td> 81.7</td><td>4.2579</td><td>4</td><td>307</td><td>21.0</td><td>386.75</td><td>14.67</td><td>17.5</td></tr>\n",
       "\t<tr><th scope=row>19</th><td>0.80271</td><td> 0.0</td><td>8.14</td><td>0.538</td><td>5.456</td><td> 36.6</td><td>3.7965</td><td>4</td><td>307</td><td>21.0</td><td>288.99</td><td>11.69</td><td>20.2</td></tr>\n",
       "\t<tr><th scope=row>20</th><td>0.72580</td><td> 0.0</td><td>8.14</td><td>0.538</td><td>5.727</td><td> 69.5</td><td>3.7965</td><td>4</td><td>307</td><td>21.0</td><td>390.95</td><td>11.28</td><td>18.2</td></tr>\n",
       "\t<tr><th scope=row>21</th><td>1.25179</td><td> 0.0</td><td>8.14</td><td>0.538</td><td>5.570</td><td> 98.1</td><td>3.7979</td><td>4</td><td>307</td><td>21.0</td><td>376.57</td><td>21.02</td><td>13.6</td></tr>\n",
       "\t<tr><th scope=row>22</th><td>0.85204</td><td> 0.0</td><td>8.14</td><td>0.538</td><td>5.965</td><td> 89.2</td><td>4.0123</td><td>4</td><td>307</td><td>21.0</td><td>392.53</td><td>13.83</td><td>19.6</td></tr>\n",
       "\t<tr><th scope=row>23</th><td>1.23247</td><td> 0.0</td><td>8.14</td><td>0.538</td><td>6.142</td><td> 91.7</td><td>3.9769</td><td>4</td><td>307</td><td>21.0</td><td>396.90</td><td>18.72</td><td>15.2</td></tr>\n",
       "\t<tr><th scope=row>24</th><td>0.98843</td><td> 0.0</td><td>8.14</td><td>0.538</td><td>5.813</td><td>100.0</td><td>4.0952</td><td>4</td><td>307</td><td>21.0</td><td>394.54</td><td>19.88</td><td>14.5</td></tr>\n",
       "\t<tr><th scope=row>25</th><td>0.75026</td><td> 0.0</td><td>8.14</td><td>0.538</td><td>5.924</td><td> 94.1</td><td>4.3996</td><td>4</td><td>307</td><td>21.0</td><td>394.33</td><td>16.30</td><td>15.6</td></tr>\n",
       "\t<tr><th scope=row>26</th><td>0.84054</td><td> 0.0</td><td>8.14</td><td>0.538</td><td>5.599</td><td> 85.7</td><td>4.4546</td><td>4</td><td>307</td><td>21.0</td><td>303.42</td><td>16.51</td><td>13.9</td></tr>\n",
       "\t<tr><th scope=row>27</th><td>0.67191</td><td> 0.0</td><td>8.14</td><td>0.538</td><td>5.813</td><td> 90.3</td><td>4.6820</td><td>4</td><td>307</td><td>21.0</td><td>376.88</td><td>14.81</td><td>16.6</td></tr>\n",
       "\t<tr><th scope=row>28</th><td>0.95577</td><td> 0.0</td><td>8.14</td><td>0.538</td><td>6.047</td><td> 88.8</td><td>4.4534</td><td>4</td><td>307</td><td>21.0</td><td>306.38</td><td>17.28</td><td>14.8</td></tr>\n",
       "\t<tr><th scope=row>29</th><td>0.77299</td><td> 0.0</td><td>8.14</td><td>0.538</td><td>6.495</td><td> 94.4</td><td>4.4547</td><td>4</td><td>307</td><td>21.0</td><td>387.94</td><td>12.80</td><td>18.4</td></tr>\n",
       "\t<tr><th scope=row>30</th><td>1.00245</td><td> 0.0</td><td>8.14</td><td>0.538</td><td>6.674</td><td> 87.3</td><td>4.2390</td><td>4</td><td>307</td><td>21.0</td><td>380.23</td><td>11.98</td><td>21.0</td></tr>\n",
       "\t<tr><th scope=row>⋮</th><td>⋮</td><td>⋮</td><td>⋮</td><td>⋮</td><td>⋮</td><td>⋮</td><td>⋮</td><td>⋮</td><td>⋮</td><td>⋮</td><td>⋮</td><td>⋮</td><td>⋮</td></tr>\n",
       "\t<tr><th scope=row>477</th><td> 4.87141</td><td>0</td><td>18.10</td><td>0.614</td><td>6.484</td><td>93.6</td><td>2.3053</td><td>24</td><td>666</td><td>20.2</td><td>396.21</td><td>18.68</td><td>16.7</td></tr>\n",
       "\t<tr><th scope=row>478</th><td>15.02340</td><td>0</td><td>18.10</td><td>0.614</td><td>5.304</td><td>97.3</td><td>2.1007</td><td>24</td><td>666</td><td>20.2</td><td>349.48</td><td>24.91</td><td>12.0</td></tr>\n",
       "\t<tr><th scope=row>479</th><td>10.23300</td><td>0</td><td>18.10</td><td>0.614</td><td>6.185</td><td>96.7</td><td>2.1705</td><td>24</td><td>666</td><td>20.2</td><td>379.70</td><td>18.03</td><td>14.6</td></tr>\n",
       "\t<tr><th scope=row>480</th><td>14.33370</td><td>0</td><td>18.10</td><td>0.614</td><td>6.229</td><td>88.0</td><td>1.9512</td><td>24</td><td>666</td><td>20.2</td><td>383.32</td><td>13.11</td><td>21.4</td></tr>\n",
       "\t<tr><th scope=row>481</th><td> 5.82401</td><td>0</td><td>18.10</td><td>0.532</td><td>6.242</td><td>64.7</td><td>3.4242</td><td>24</td><td>666</td><td>20.2</td><td>396.90</td><td>10.74</td><td>23.0</td></tr>\n",
       "\t<tr><th scope=row>482</th><td> 5.70818</td><td>0</td><td>18.10</td><td>0.532</td><td>6.750</td><td>74.9</td><td>3.3317</td><td>24</td><td>666</td><td>20.2</td><td>393.07</td><td> 7.74</td><td>23.7</td></tr>\n",
       "\t<tr><th scope=row>483</th><td> 5.73116</td><td>0</td><td>18.10</td><td>0.532</td><td>7.061</td><td>77.0</td><td>3.4106</td><td>24</td><td>666</td><td>20.2</td><td>395.28</td><td> 7.01</td><td>25.0</td></tr>\n",
       "\t<tr><th scope=row>484</th><td> 2.81838</td><td>0</td><td>18.10</td><td>0.532</td><td>5.762</td><td>40.3</td><td>4.0983</td><td>24</td><td>666</td><td>20.2</td><td>392.92</td><td>10.42</td><td>21.8</td></tr>\n",
       "\t<tr><th scope=row>485</th><td> 2.37857</td><td>0</td><td>18.10</td><td>0.583</td><td>5.871</td><td>41.9</td><td>3.7240</td><td>24</td><td>666</td><td>20.2</td><td>370.73</td><td>13.34</td><td>20.6</td></tr>\n",
       "\t<tr><th scope=row>486</th><td> 3.67367</td><td>0</td><td>18.10</td><td>0.583</td><td>6.312</td><td>51.9</td><td>3.9917</td><td>24</td><td>666</td><td>20.2</td><td>388.62</td><td>10.58</td><td>21.2</td></tr>\n",
       "\t<tr><th scope=row>487</th><td> 5.69175</td><td>0</td><td>18.10</td><td>0.583</td><td>6.114</td><td>79.8</td><td>3.5459</td><td>24</td><td>666</td><td>20.2</td><td>392.68</td><td>14.98</td><td>19.1</td></tr>\n",
       "\t<tr><th scope=row>488</th><td> 4.83567</td><td>0</td><td>18.10</td><td>0.583</td><td>5.905</td><td>53.2</td><td>3.1523</td><td>24</td><td>666</td><td>20.2</td><td>388.22</td><td>11.45</td><td>20.6</td></tr>\n",
       "\t<tr><th scope=row>489</th><td> 0.15086</td><td>0</td><td>27.74</td><td>0.609</td><td>5.454</td><td>92.7</td><td>1.8209</td><td> 4</td><td>711</td><td>20.1</td><td>395.09</td><td>18.06</td><td>15.2</td></tr>\n",
       "\t<tr><th scope=row>490</th><td> 0.18337</td><td>0</td><td>27.74</td><td>0.609</td><td>5.414</td><td>98.3</td><td>1.7554</td><td> 4</td><td>711</td><td>20.1</td><td>344.05</td><td>23.97</td><td> 7.0</td></tr>\n",
       "\t<tr><th scope=row>491</th><td> 0.20746</td><td>0</td><td>27.74</td><td>0.609</td><td>5.093</td><td>98.0</td><td>1.8226</td><td> 4</td><td>711</td><td>20.1</td><td>318.43</td><td>29.68</td><td> 8.1</td></tr>\n",
       "\t<tr><th scope=row>492</th><td> 0.10574</td><td>0</td><td>27.74</td><td>0.609</td><td>5.983</td><td>98.8</td><td>1.8681</td><td> 4</td><td>711</td><td>20.1</td><td>390.11</td><td>18.07</td><td>13.6</td></tr>\n",
       "\t<tr><th scope=row>493</th><td> 0.11132</td><td>0</td><td>27.74</td><td>0.609</td><td>5.983</td><td>83.5</td><td>2.1099</td><td> 4</td><td>711</td><td>20.1</td><td>396.90</td><td>13.35</td><td>20.1</td></tr>\n",
       "\t<tr><th scope=row>494</th><td> 0.17331</td><td>0</td><td> 9.69</td><td>0.585</td><td>5.707</td><td>54.0</td><td>2.3817</td><td> 6</td><td>391</td><td>19.2</td><td>396.90</td><td>12.01</td><td>21.8</td></tr>\n",
       "\t<tr><th scope=row>495</th><td> 0.27957</td><td>0</td><td> 9.69</td><td>0.585</td><td>5.926</td><td>42.6</td><td>2.3817</td><td> 6</td><td>391</td><td>19.2</td><td>396.90</td><td>13.59</td><td>24.5</td></tr>\n",
       "\t<tr><th scope=row>496</th><td> 0.17899</td><td>0</td><td> 9.69</td><td>0.585</td><td>5.670</td><td>28.8</td><td>2.7986</td><td> 6</td><td>391</td><td>19.2</td><td>393.29</td><td>17.60</td><td>23.1</td></tr>\n",
       "\t<tr><th scope=row>497</th><td> 0.28960</td><td>0</td><td> 9.69</td><td>0.585</td><td>5.390</td><td>72.9</td><td>2.7986</td><td> 6</td><td>391</td><td>19.2</td><td>396.90</td><td>21.14</td><td>19.7</td></tr>\n",
       "\t<tr><th scope=row>498</th><td> 0.26838</td><td>0</td><td> 9.69</td><td>0.585</td><td>5.794</td><td>70.6</td><td>2.8927</td><td> 6</td><td>391</td><td>19.2</td><td>396.90</td><td>14.10</td><td>18.3</td></tr>\n",
       "\t<tr><th scope=row>499</th><td> 0.23912</td><td>0</td><td> 9.69</td><td>0.585</td><td>6.019</td><td>65.3</td><td>2.4091</td><td> 6</td><td>391</td><td>19.2</td><td>396.90</td><td>12.92</td><td>21.2</td></tr>\n",
       "\t<tr><th scope=row>500</th><td> 0.17783</td><td>0</td><td> 9.69</td><td>0.585</td><td>5.569</td><td>73.5</td><td>2.3999</td><td> 6</td><td>391</td><td>19.2</td><td>395.77</td><td>15.10</td><td>17.5</td></tr>\n",
       "\t<tr><th scope=row>501</th><td> 0.22438</td><td>0</td><td> 9.69</td><td>0.585</td><td>6.027</td><td>79.7</td><td>2.4982</td><td> 6</td><td>391</td><td>19.2</td><td>396.90</td><td>14.33</td><td>16.8</td></tr>\n",
       "\t<tr><th scope=row>502</th><td> 0.06263</td><td>0</td><td>11.93</td><td>0.573</td><td>6.593</td><td>69.1</td><td>2.4786</td><td> 1</td><td>273</td><td>21.0</td><td>391.99</td><td> 9.67</td><td>22.4</td></tr>\n",
       "\t<tr><th scope=row>503</th><td> 0.04527</td><td>0</td><td>11.93</td><td>0.573</td><td>6.120</td><td>76.7</td><td>2.2875</td><td> 1</td><td>273</td><td>21.0</td><td>396.90</td><td> 9.08</td><td>20.6</td></tr>\n",
       "\t<tr><th scope=row>504</th><td> 0.06076</td><td>0</td><td>11.93</td><td>0.573</td><td>6.976</td><td>91.0</td><td>2.1675</td><td> 1</td><td>273</td><td>21.0</td><td>396.90</td><td> 5.64</td><td>23.9</td></tr>\n",
       "\t<tr><th scope=row>505</th><td> 0.10959</td><td>0</td><td>11.93</td><td>0.573</td><td>6.794</td><td>89.3</td><td>2.3889</td><td> 1</td><td>273</td><td>21.0</td><td>393.45</td><td> 6.48</td><td>22.0</td></tr>\n",
       "\t<tr><th scope=row>506</th><td> 0.04741</td><td>0</td><td>11.93</td><td>0.573</td><td>6.030</td><td>80.8</td><td>2.5050</td><td> 1</td><td>273</td><td>21.0</td><td>396.90</td><td> 7.88</td><td>11.9</td></tr>\n",
       "</tbody>\n",
       "</table>\n"
      ],
      "text/latex": [
       "A data.frame: 506 × 13\n",
       "\\begin{tabular}{r|lllllllllllll}\n",
       "  & crim & zn & indus & nox & rm & age & dis & rad & tax & ptratio & b & lstat & medv\\\\\n",
       "  & <dbl> & <dbl> & <dbl> & <dbl> & <dbl> & <dbl> & <dbl> & <dbl> & <dbl> & <dbl> & <dbl> & <dbl> & <dbl>\\\\\n",
       "\\hline\n",
       "\t1 & 0.00632 & 18.0 & 2.31 & 0.538 & 6.575 &  65.2 & 4.0900 & 1 & 296 & 15.3 & 396.90 &  4.98 & 24.0\\\\\n",
       "\t2 & 0.02731 &  0.0 & 7.07 & 0.469 & 6.421 &  78.9 & 4.9671 & 2 & 242 & 17.8 & 396.90 &  9.14 & 21.6\\\\\n",
       "\t3 & 0.02729 &  0.0 & 7.07 & 0.469 & 7.185 &  61.1 & 4.9671 & 2 & 242 & 17.8 & 392.83 &  4.03 & 34.7\\\\\n",
       "\t4 & 0.03237 &  0.0 & 2.18 & 0.458 & 6.998 &  45.8 & 6.0622 & 3 & 222 & 18.7 & 394.63 &  2.94 & 33.4\\\\\n",
       "\t5 & 0.06905 &  0.0 & 2.18 & 0.458 & 7.147 &  54.2 & 6.0622 & 3 & 222 & 18.7 & 396.90 &  5.33 & 36.2\\\\\n",
       "\t6 & 0.02985 &  0.0 & 2.18 & 0.458 & 6.430 &  58.7 & 6.0622 & 3 & 222 & 18.7 & 394.12 &  5.21 & 28.7\\\\\n",
       "\t7 & 0.08829 & 12.5 & 7.87 & 0.524 & 6.012 &  66.6 & 5.5605 & 5 & 311 & 15.2 & 395.60 & 12.43 & 22.9\\\\\n",
       "\t8 & 0.14455 & 12.5 & 7.87 & 0.524 & 6.172 &  96.1 & 5.9505 & 5 & 311 & 15.2 & 396.90 & 19.15 & 27.1\\\\\n",
       "\t9 & 0.21124 & 12.5 & 7.87 & 0.524 & 5.631 & 100.0 & 6.0821 & 5 & 311 & 15.2 & 386.63 & 29.93 & 16.5\\\\\n",
       "\t10 & 0.17004 & 12.5 & 7.87 & 0.524 & 6.004 &  85.9 & 6.5921 & 5 & 311 & 15.2 & 386.71 & 17.10 & 18.9\\\\\n",
       "\t11 & 0.22489 & 12.5 & 7.87 & 0.524 & 6.377 &  94.3 & 6.3467 & 5 & 311 & 15.2 & 392.52 & 20.45 & 15.0\\\\\n",
       "\t12 & 0.11747 & 12.5 & 7.87 & 0.524 & 6.009 &  82.9 & 6.2267 & 5 & 311 & 15.2 & 396.90 & 13.27 & 18.9\\\\\n",
       "\t13 & 0.09378 & 12.5 & 7.87 & 0.524 & 5.889 &  39.0 & 5.4509 & 5 & 311 & 15.2 & 390.50 & 15.71 & 21.7\\\\\n",
       "\t14 & 0.62976 &  0.0 & 8.14 & 0.538 & 5.949 &  61.8 & 4.7075 & 4 & 307 & 21.0 & 396.90 &  8.26 & 20.4\\\\\n",
       "\t15 & 0.63796 &  0.0 & 8.14 & 0.538 & 6.096 &  84.5 & 4.4619 & 4 & 307 & 21.0 & 380.02 & 10.26 & 18.2\\\\\n",
       "\t16 & 0.62739 &  0.0 & 8.14 & 0.538 & 5.834 &  56.5 & 4.4986 & 4 & 307 & 21.0 & 395.62 &  8.47 & 19.9\\\\\n",
       "\t17 & 1.05393 &  0.0 & 8.14 & 0.538 & 5.935 &  29.3 & 4.4986 & 4 & 307 & 21.0 & 386.85 &  6.58 & 23.1\\\\\n",
       "\t18 & 0.78420 &  0.0 & 8.14 & 0.538 & 5.990 &  81.7 & 4.2579 & 4 & 307 & 21.0 & 386.75 & 14.67 & 17.5\\\\\n",
       "\t19 & 0.80271 &  0.0 & 8.14 & 0.538 & 5.456 &  36.6 & 3.7965 & 4 & 307 & 21.0 & 288.99 & 11.69 & 20.2\\\\\n",
       "\t20 & 0.72580 &  0.0 & 8.14 & 0.538 & 5.727 &  69.5 & 3.7965 & 4 & 307 & 21.0 & 390.95 & 11.28 & 18.2\\\\\n",
       "\t21 & 1.25179 &  0.0 & 8.14 & 0.538 & 5.570 &  98.1 & 3.7979 & 4 & 307 & 21.0 & 376.57 & 21.02 & 13.6\\\\\n",
       "\t22 & 0.85204 &  0.0 & 8.14 & 0.538 & 5.965 &  89.2 & 4.0123 & 4 & 307 & 21.0 & 392.53 & 13.83 & 19.6\\\\\n",
       "\t23 & 1.23247 &  0.0 & 8.14 & 0.538 & 6.142 &  91.7 & 3.9769 & 4 & 307 & 21.0 & 396.90 & 18.72 & 15.2\\\\\n",
       "\t24 & 0.98843 &  0.0 & 8.14 & 0.538 & 5.813 & 100.0 & 4.0952 & 4 & 307 & 21.0 & 394.54 & 19.88 & 14.5\\\\\n",
       "\t25 & 0.75026 &  0.0 & 8.14 & 0.538 & 5.924 &  94.1 & 4.3996 & 4 & 307 & 21.0 & 394.33 & 16.30 & 15.6\\\\\n",
       "\t26 & 0.84054 &  0.0 & 8.14 & 0.538 & 5.599 &  85.7 & 4.4546 & 4 & 307 & 21.0 & 303.42 & 16.51 & 13.9\\\\\n",
       "\t27 & 0.67191 &  0.0 & 8.14 & 0.538 & 5.813 &  90.3 & 4.6820 & 4 & 307 & 21.0 & 376.88 & 14.81 & 16.6\\\\\n",
       "\t28 & 0.95577 &  0.0 & 8.14 & 0.538 & 6.047 &  88.8 & 4.4534 & 4 & 307 & 21.0 & 306.38 & 17.28 & 14.8\\\\\n",
       "\t29 & 0.77299 &  0.0 & 8.14 & 0.538 & 6.495 &  94.4 & 4.4547 & 4 & 307 & 21.0 & 387.94 & 12.80 & 18.4\\\\\n",
       "\t30 & 1.00245 &  0.0 & 8.14 & 0.538 & 6.674 &  87.3 & 4.2390 & 4 & 307 & 21.0 & 380.23 & 11.98 & 21.0\\\\\n",
       "\t⋮ & ⋮ & ⋮ & ⋮ & ⋮ & ⋮ & ⋮ & ⋮ & ⋮ & ⋮ & ⋮ & ⋮ & ⋮ & ⋮\\\\\n",
       "\t477 &  4.87141 & 0 & 18.10 & 0.614 & 6.484 & 93.6 & 2.3053 & 24 & 666 & 20.2 & 396.21 & 18.68 & 16.7\\\\\n",
       "\t478 & 15.02340 & 0 & 18.10 & 0.614 & 5.304 & 97.3 & 2.1007 & 24 & 666 & 20.2 & 349.48 & 24.91 & 12.0\\\\\n",
       "\t479 & 10.23300 & 0 & 18.10 & 0.614 & 6.185 & 96.7 & 2.1705 & 24 & 666 & 20.2 & 379.70 & 18.03 & 14.6\\\\\n",
       "\t480 & 14.33370 & 0 & 18.10 & 0.614 & 6.229 & 88.0 & 1.9512 & 24 & 666 & 20.2 & 383.32 & 13.11 & 21.4\\\\\n",
       "\t481 &  5.82401 & 0 & 18.10 & 0.532 & 6.242 & 64.7 & 3.4242 & 24 & 666 & 20.2 & 396.90 & 10.74 & 23.0\\\\\n",
       "\t482 &  5.70818 & 0 & 18.10 & 0.532 & 6.750 & 74.9 & 3.3317 & 24 & 666 & 20.2 & 393.07 &  7.74 & 23.7\\\\\n",
       "\t483 &  5.73116 & 0 & 18.10 & 0.532 & 7.061 & 77.0 & 3.4106 & 24 & 666 & 20.2 & 395.28 &  7.01 & 25.0\\\\\n",
       "\t484 &  2.81838 & 0 & 18.10 & 0.532 & 5.762 & 40.3 & 4.0983 & 24 & 666 & 20.2 & 392.92 & 10.42 & 21.8\\\\\n",
       "\t485 &  2.37857 & 0 & 18.10 & 0.583 & 5.871 & 41.9 & 3.7240 & 24 & 666 & 20.2 & 370.73 & 13.34 & 20.6\\\\\n",
       "\t486 &  3.67367 & 0 & 18.10 & 0.583 & 6.312 & 51.9 & 3.9917 & 24 & 666 & 20.2 & 388.62 & 10.58 & 21.2\\\\\n",
       "\t487 &  5.69175 & 0 & 18.10 & 0.583 & 6.114 & 79.8 & 3.5459 & 24 & 666 & 20.2 & 392.68 & 14.98 & 19.1\\\\\n",
       "\t488 &  4.83567 & 0 & 18.10 & 0.583 & 5.905 & 53.2 & 3.1523 & 24 & 666 & 20.2 & 388.22 & 11.45 & 20.6\\\\\n",
       "\t489 &  0.15086 & 0 & 27.74 & 0.609 & 5.454 & 92.7 & 1.8209 &  4 & 711 & 20.1 & 395.09 & 18.06 & 15.2\\\\\n",
       "\t490 &  0.18337 & 0 & 27.74 & 0.609 & 5.414 & 98.3 & 1.7554 &  4 & 711 & 20.1 & 344.05 & 23.97 &  7.0\\\\\n",
       "\t491 &  0.20746 & 0 & 27.74 & 0.609 & 5.093 & 98.0 & 1.8226 &  4 & 711 & 20.1 & 318.43 & 29.68 &  8.1\\\\\n",
       "\t492 &  0.10574 & 0 & 27.74 & 0.609 & 5.983 & 98.8 & 1.8681 &  4 & 711 & 20.1 & 390.11 & 18.07 & 13.6\\\\\n",
       "\t493 &  0.11132 & 0 & 27.74 & 0.609 & 5.983 & 83.5 & 2.1099 &  4 & 711 & 20.1 & 396.90 & 13.35 & 20.1\\\\\n",
       "\t494 &  0.17331 & 0 &  9.69 & 0.585 & 5.707 & 54.0 & 2.3817 &  6 & 391 & 19.2 & 396.90 & 12.01 & 21.8\\\\\n",
       "\t495 &  0.27957 & 0 &  9.69 & 0.585 & 5.926 & 42.6 & 2.3817 &  6 & 391 & 19.2 & 396.90 & 13.59 & 24.5\\\\\n",
       "\t496 &  0.17899 & 0 &  9.69 & 0.585 & 5.670 & 28.8 & 2.7986 &  6 & 391 & 19.2 & 393.29 & 17.60 & 23.1\\\\\n",
       "\t497 &  0.28960 & 0 &  9.69 & 0.585 & 5.390 & 72.9 & 2.7986 &  6 & 391 & 19.2 & 396.90 & 21.14 & 19.7\\\\\n",
       "\t498 &  0.26838 & 0 &  9.69 & 0.585 & 5.794 & 70.6 & 2.8927 &  6 & 391 & 19.2 & 396.90 & 14.10 & 18.3\\\\\n",
       "\t499 &  0.23912 & 0 &  9.69 & 0.585 & 6.019 & 65.3 & 2.4091 &  6 & 391 & 19.2 & 396.90 & 12.92 & 21.2\\\\\n",
       "\t500 &  0.17783 & 0 &  9.69 & 0.585 & 5.569 & 73.5 & 2.3999 &  6 & 391 & 19.2 & 395.77 & 15.10 & 17.5\\\\\n",
       "\t501 &  0.22438 & 0 &  9.69 & 0.585 & 6.027 & 79.7 & 2.4982 &  6 & 391 & 19.2 & 396.90 & 14.33 & 16.8\\\\\n",
       "\t502 &  0.06263 & 0 & 11.93 & 0.573 & 6.593 & 69.1 & 2.4786 &  1 & 273 & 21.0 & 391.99 &  9.67 & 22.4\\\\\n",
       "\t503 &  0.04527 & 0 & 11.93 & 0.573 & 6.120 & 76.7 & 2.2875 &  1 & 273 & 21.0 & 396.90 &  9.08 & 20.6\\\\\n",
       "\t504 &  0.06076 & 0 & 11.93 & 0.573 & 6.976 & 91.0 & 2.1675 &  1 & 273 & 21.0 & 396.90 &  5.64 & 23.9\\\\\n",
       "\t505 &  0.10959 & 0 & 11.93 & 0.573 & 6.794 & 89.3 & 2.3889 &  1 & 273 & 21.0 & 393.45 &  6.48 & 22.0\\\\\n",
       "\t506 &  0.04741 & 0 & 11.93 & 0.573 & 6.030 & 80.8 & 2.5050 &  1 & 273 & 21.0 & 396.90 &  7.88 & 11.9\\\\\n",
       "\\end{tabular}\n"
      ],
      "text/markdown": [
       "\n",
       "A data.frame: 506 × 13\n",
       "\n",
       "| <!--/--> | crim &lt;dbl&gt; | zn &lt;dbl&gt; | indus &lt;dbl&gt; | nox &lt;dbl&gt; | rm &lt;dbl&gt; | age &lt;dbl&gt; | dis &lt;dbl&gt; | rad &lt;dbl&gt; | tax &lt;dbl&gt; | ptratio &lt;dbl&gt; | b &lt;dbl&gt; | lstat &lt;dbl&gt; | medv &lt;dbl&gt; |\n",
       "|---|---|---|---|---|---|---|---|---|---|---|---|---|---|\n",
       "| 1 | 0.00632 | 18.0 | 2.31 | 0.538 | 6.575 |  65.2 | 4.0900 | 1 | 296 | 15.3 | 396.90 |  4.98 | 24.0 |\n",
       "| 2 | 0.02731 |  0.0 | 7.07 | 0.469 | 6.421 |  78.9 | 4.9671 | 2 | 242 | 17.8 | 396.90 |  9.14 | 21.6 |\n",
       "| 3 | 0.02729 |  0.0 | 7.07 | 0.469 | 7.185 |  61.1 | 4.9671 | 2 | 242 | 17.8 | 392.83 |  4.03 | 34.7 |\n",
       "| 4 | 0.03237 |  0.0 | 2.18 | 0.458 | 6.998 |  45.8 | 6.0622 | 3 | 222 | 18.7 | 394.63 |  2.94 | 33.4 |\n",
       "| 5 | 0.06905 |  0.0 | 2.18 | 0.458 | 7.147 |  54.2 | 6.0622 | 3 | 222 | 18.7 | 396.90 |  5.33 | 36.2 |\n",
       "| 6 | 0.02985 |  0.0 | 2.18 | 0.458 | 6.430 |  58.7 | 6.0622 | 3 | 222 | 18.7 | 394.12 |  5.21 | 28.7 |\n",
       "| 7 | 0.08829 | 12.5 | 7.87 | 0.524 | 6.012 |  66.6 | 5.5605 | 5 | 311 | 15.2 | 395.60 | 12.43 | 22.9 |\n",
       "| 8 | 0.14455 | 12.5 | 7.87 | 0.524 | 6.172 |  96.1 | 5.9505 | 5 | 311 | 15.2 | 396.90 | 19.15 | 27.1 |\n",
       "| 9 | 0.21124 | 12.5 | 7.87 | 0.524 | 5.631 | 100.0 | 6.0821 | 5 | 311 | 15.2 | 386.63 | 29.93 | 16.5 |\n",
       "| 10 | 0.17004 | 12.5 | 7.87 | 0.524 | 6.004 |  85.9 | 6.5921 | 5 | 311 | 15.2 | 386.71 | 17.10 | 18.9 |\n",
       "| 11 | 0.22489 | 12.5 | 7.87 | 0.524 | 6.377 |  94.3 | 6.3467 | 5 | 311 | 15.2 | 392.52 | 20.45 | 15.0 |\n",
       "| 12 | 0.11747 | 12.5 | 7.87 | 0.524 | 6.009 |  82.9 | 6.2267 | 5 | 311 | 15.2 | 396.90 | 13.27 | 18.9 |\n",
       "| 13 | 0.09378 | 12.5 | 7.87 | 0.524 | 5.889 |  39.0 | 5.4509 | 5 | 311 | 15.2 | 390.50 | 15.71 | 21.7 |\n",
       "| 14 | 0.62976 |  0.0 | 8.14 | 0.538 | 5.949 |  61.8 | 4.7075 | 4 | 307 | 21.0 | 396.90 |  8.26 | 20.4 |\n",
       "| 15 | 0.63796 |  0.0 | 8.14 | 0.538 | 6.096 |  84.5 | 4.4619 | 4 | 307 | 21.0 | 380.02 | 10.26 | 18.2 |\n",
       "| 16 | 0.62739 |  0.0 | 8.14 | 0.538 | 5.834 |  56.5 | 4.4986 | 4 | 307 | 21.0 | 395.62 |  8.47 | 19.9 |\n",
       "| 17 | 1.05393 |  0.0 | 8.14 | 0.538 | 5.935 |  29.3 | 4.4986 | 4 | 307 | 21.0 | 386.85 |  6.58 | 23.1 |\n",
       "| 18 | 0.78420 |  0.0 | 8.14 | 0.538 | 5.990 |  81.7 | 4.2579 | 4 | 307 | 21.0 | 386.75 | 14.67 | 17.5 |\n",
       "| 19 | 0.80271 |  0.0 | 8.14 | 0.538 | 5.456 |  36.6 | 3.7965 | 4 | 307 | 21.0 | 288.99 | 11.69 | 20.2 |\n",
       "| 20 | 0.72580 |  0.0 | 8.14 | 0.538 | 5.727 |  69.5 | 3.7965 | 4 | 307 | 21.0 | 390.95 | 11.28 | 18.2 |\n",
       "| 21 | 1.25179 |  0.0 | 8.14 | 0.538 | 5.570 |  98.1 | 3.7979 | 4 | 307 | 21.0 | 376.57 | 21.02 | 13.6 |\n",
       "| 22 | 0.85204 |  0.0 | 8.14 | 0.538 | 5.965 |  89.2 | 4.0123 | 4 | 307 | 21.0 | 392.53 | 13.83 | 19.6 |\n",
       "| 23 | 1.23247 |  0.0 | 8.14 | 0.538 | 6.142 |  91.7 | 3.9769 | 4 | 307 | 21.0 | 396.90 | 18.72 | 15.2 |\n",
       "| 24 | 0.98843 |  0.0 | 8.14 | 0.538 | 5.813 | 100.0 | 4.0952 | 4 | 307 | 21.0 | 394.54 | 19.88 | 14.5 |\n",
       "| 25 | 0.75026 |  0.0 | 8.14 | 0.538 | 5.924 |  94.1 | 4.3996 | 4 | 307 | 21.0 | 394.33 | 16.30 | 15.6 |\n",
       "| 26 | 0.84054 |  0.0 | 8.14 | 0.538 | 5.599 |  85.7 | 4.4546 | 4 | 307 | 21.0 | 303.42 | 16.51 | 13.9 |\n",
       "| 27 | 0.67191 |  0.0 | 8.14 | 0.538 | 5.813 |  90.3 | 4.6820 | 4 | 307 | 21.0 | 376.88 | 14.81 | 16.6 |\n",
       "| 28 | 0.95577 |  0.0 | 8.14 | 0.538 | 6.047 |  88.8 | 4.4534 | 4 | 307 | 21.0 | 306.38 | 17.28 | 14.8 |\n",
       "| 29 | 0.77299 |  0.0 | 8.14 | 0.538 | 6.495 |  94.4 | 4.4547 | 4 | 307 | 21.0 | 387.94 | 12.80 | 18.4 |\n",
       "| 30 | 1.00245 |  0.0 | 8.14 | 0.538 | 6.674 |  87.3 | 4.2390 | 4 | 307 | 21.0 | 380.23 | 11.98 | 21.0 |\n",
       "| ⋮ | ⋮ | ⋮ | ⋮ | ⋮ | ⋮ | ⋮ | ⋮ | ⋮ | ⋮ | ⋮ | ⋮ | ⋮ | ⋮ |\n",
       "| 477 |  4.87141 | 0 | 18.10 | 0.614 | 6.484 | 93.6 | 2.3053 | 24 | 666 | 20.2 | 396.21 | 18.68 | 16.7 |\n",
       "| 478 | 15.02340 | 0 | 18.10 | 0.614 | 5.304 | 97.3 | 2.1007 | 24 | 666 | 20.2 | 349.48 | 24.91 | 12.0 |\n",
       "| 479 | 10.23300 | 0 | 18.10 | 0.614 | 6.185 | 96.7 | 2.1705 | 24 | 666 | 20.2 | 379.70 | 18.03 | 14.6 |\n",
       "| 480 | 14.33370 | 0 | 18.10 | 0.614 | 6.229 | 88.0 | 1.9512 | 24 | 666 | 20.2 | 383.32 | 13.11 | 21.4 |\n",
       "| 481 |  5.82401 | 0 | 18.10 | 0.532 | 6.242 | 64.7 | 3.4242 | 24 | 666 | 20.2 | 396.90 | 10.74 | 23.0 |\n",
       "| 482 |  5.70818 | 0 | 18.10 | 0.532 | 6.750 | 74.9 | 3.3317 | 24 | 666 | 20.2 | 393.07 |  7.74 | 23.7 |\n",
       "| 483 |  5.73116 | 0 | 18.10 | 0.532 | 7.061 | 77.0 | 3.4106 | 24 | 666 | 20.2 | 395.28 |  7.01 | 25.0 |\n",
       "| 484 |  2.81838 | 0 | 18.10 | 0.532 | 5.762 | 40.3 | 4.0983 | 24 | 666 | 20.2 | 392.92 | 10.42 | 21.8 |\n",
       "| 485 |  2.37857 | 0 | 18.10 | 0.583 | 5.871 | 41.9 | 3.7240 | 24 | 666 | 20.2 | 370.73 | 13.34 | 20.6 |\n",
       "| 486 |  3.67367 | 0 | 18.10 | 0.583 | 6.312 | 51.9 | 3.9917 | 24 | 666 | 20.2 | 388.62 | 10.58 | 21.2 |\n",
       "| 487 |  5.69175 | 0 | 18.10 | 0.583 | 6.114 | 79.8 | 3.5459 | 24 | 666 | 20.2 | 392.68 | 14.98 | 19.1 |\n",
       "| 488 |  4.83567 | 0 | 18.10 | 0.583 | 5.905 | 53.2 | 3.1523 | 24 | 666 | 20.2 | 388.22 | 11.45 | 20.6 |\n",
       "| 489 |  0.15086 | 0 | 27.74 | 0.609 | 5.454 | 92.7 | 1.8209 |  4 | 711 | 20.1 | 395.09 | 18.06 | 15.2 |\n",
       "| 490 |  0.18337 | 0 | 27.74 | 0.609 | 5.414 | 98.3 | 1.7554 |  4 | 711 | 20.1 | 344.05 | 23.97 |  7.0 |\n",
       "| 491 |  0.20746 | 0 | 27.74 | 0.609 | 5.093 | 98.0 | 1.8226 |  4 | 711 | 20.1 | 318.43 | 29.68 |  8.1 |\n",
       "| 492 |  0.10574 | 0 | 27.74 | 0.609 | 5.983 | 98.8 | 1.8681 |  4 | 711 | 20.1 | 390.11 | 18.07 | 13.6 |\n",
       "| 493 |  0.11132 | 0 | 27.74 | 0.609 | 5.983 | 83.5 | 2.1099 |  4 | 711 | 20.1 | 396.90 | 13.35 | 20.1 |\n",
       "| 494 |  0.17331 | 0 |  9.69 | 0.585 | 5.707 | 54.0 | 2.3817 |  6 | 391 | 19.2 | 396.90 | 12.01 | 21.8 |\n",
       "| 495 |  0.27957 | 0 |  9.69 | 0.585 | 5.926 | 42.6 | 2.3817 |  6 | 391 | 19.2 | 396.90 | 13.59 | 24.5 |\n",
       "| 496 |  0.17899 | 0 |  9.69 | 0.585 | 5.670 | 28.8 | 2.7986 |  6 | 391 | 19.2 | 393.29 | 17.60 | 23.1 |\n",
       "| 497 |  0.28960 | 0 |  9.69 | 0.585 | 5.390 | 72.9 | 2.7986 |  6 | 391 | 19.2 | 396.90 | 21.14 | 19.7 |\n",
       "| 498 |  0.26838 | 0 |  9.69 | 0.585 | 5.794 | 70.6 | 2.8927 |  6 | 391 | 19.2 | 396.90 | 14.10 | 18.3 |\n",
       "| 499 |  0.23912 | 0 |  9.69 | 0.585 | 6.019 | 65.3 | 2.4091 |  6 | 391 | 19.2 | 396.90 | 12.92 | 21.2 |\n",
       "| 500 |  0.17783 | 0 |  9.69 | 0.585 | 5.569 | 73.5 | 2.3999 |  6 | 391 | 19.2 | 395.77 | 15.10 | 17.5 |\n",
       "| 501 |  0.22438 | 0 |  9.69 | 0.585 | 6.027 | 79.7 | 2.4982 |  6 | 391 | 19.2 | 396.90 | 14.33 | 16.8 |\n",
       "| 502 |  0.06263 | 0 | 11.93 | 0.573 | 6.593 | 69.1 | 2.4786 |  1 | 273 | 21.0 | 391.99 |  9.67 | 22.4 |\n",
       "| 503 |  0.04527 | 0 | 11.93 | 0.573 | 6.120 | 76.7 | 2.2875 |  1 | 273 | 21.0 | 396.90 |  9.08 | 20.6 |\n",
       "| 504 |  0.06076 | 0 | 11.93 | 0.573 | 6.976 | 91.0 | 2.1675 |  1 | 273 | 21.0 | 396.90 |  5.64 | 23.9 |\n",
       "| 505 |  0.10959 | 0 | 11.93 | 0.573 | 6.794 | 89.3 | 2.3889 |  1 | 273 | 21.0 | 393.45 |  6.48 | 22.0 |\n",
       "| 506 |  0.04741 | 0 | 11.93 | 0.573 | 6.030 | 80.8 | 2.5050 |  1 | 273 | 21.0 | 396.90 |  7.88 | 11.9 |\n",
       "\n"
      ],
      "text/plain": [
       "    crim     zn   indus nox   rm    age   dis    rad tax ptratio b      lstat\n",
       "1   0.00632  18.0 2.31  0.538 6.575  65.2 4.0900 1   296 15.3    396.90  4.98\n",
       "2   0.02731   0.0 7.07  0.469 6.421  78.9 4.9671 2   242 17.8    396.90  9.14\n",
       "3   0.02729   0.0 7.07  0.469 7.185  61.1 4.9671 2   242 17.8    392.83  4.03\n",
       "4   0.03237   0.0 2.18  0.458 6.998  45.8 6.0622 3   222 18.7    394.63  2.94\n",
       "5   0.06905   0.0 2.18  0.458 7.147  54.2 6.0622 3   222 18.7    396.90  5.33\n",
       "6   0.02985   0.0 2.18  0.458 6.430  58.7 6.0622 3   222 18.7    394.12  5.21\n",
       "7   0.08829  12.5 7.87  0.524 6.012  66.6 5.5605 5   311 15.2    395.60 12.43\n",
       "8   0.14455  12.5 7.87  0.524 6.172  96.1 5.9505 5   311 15.2    396.90 19.15\n",
       "9   0.21124  12.5 7.87  0.524 5.631 100.0 6.0821 5   311 15.2    386.63 29.93\n",
       "10  0.17004  12.5 7.87  0.524 6.004  85.9 6.5921 5   311 15.2    386.71 17.10\n",
       "11  0.22489  12.5 7.87  0.524 6.377  94.3 6.3467 5   311 15.2    392.52 20.45\n",
       "12  0.11747  12.5 7.87  0.524 6.009  82.9 6.2267 5   311 15.2    396.90 13.27\n",
       "13  0.09378  12.5 7.87  0.524 5.889  39.0 5.4509 5   311 15.2    390.50 15.71\n",
       "14  0.62976   0.0 8.14  0.538 5.949  61.8 4.7075 4   307 21.0    396.90  8.26\n",
       "15  0.63796   0.0 8.14  0.538 6.096  84.5 4.4619 4   307 21.0    380.02 10.26\n",
       "16  0.62739   0.0 8.14  0.538 5.834  56.5 4.4986 4   307 21.0    395.62  8.47\n",
       "17  1.05393   0.0 8.14  0.538 5.935  29.3 4.4986 4   307 21.0    386.85  6.58\n",
       "18  0.78420   0.0 8.14  0.538 5.990  81.7 4.2579 4   307 21.0    386.75 14.67\n",
       "19  0.80271   0.0 8.14  0.538 5.456  36.6 3.7965 4   307 21.0    288.99 11.69\n",
       "20  0.72580   0.0 8.14  0.538 5.727  69.5 3.7965 4   307 21.0    390.95 11.28\n",
       "21  1.25179   0.0 8.14  0.538 5.570  98.1 3.7979 4   307 21.0    376.57 21.02\n",
       "22  0.85204   0.0 8.14  0.538 5.965  89.2 4.0123 4   307 21.0    392.53 13.83\n",
       "23  1.23247   0.0 8.14  0.538 6.142  91.7 3.9769 4   307 21.0    396.90 18.72\n",
       "24  0.98843   0.0 8.14  0.538 5.813 100.0 4.0952 4   307 21.0    394.54 19.88\n",
       "25  0.75026   0.0 8.14  0.538 5.924  94.1 4.3996 4   307 21.0    394.33 16.30\n",
       "26  0.84054   0.0 8.14  0.538 5.599  85.7 4.4546 4   307 21.0    303.42 16.51\n",
       "27  0.67191   0.0 8.14  0.538 5.813  90.3 4.6820 4   307 21.0    376.88 14.81\n",
       "28  0.95577   0.0 8.14  0.538 6.047  88.8 4.4534 4   307 21.0    306.38 17.28\n",
       "29  0.77299   0.0 8.14  0.538 6.495  94.4 4.4547 4   307 21.0    387.94 12.80\n",
       "30  1.00245   0.0 8.14  0.538 6.674  87.3 4.2390 4   307 21.0    380.23 11.98\n",
       "⋮   ⋮        ⋮    ⋮     ⋮     ⋮     ⋮     ⋮      ⋮   ⋮   ⋮       ⋮      ⋮    \n",
       "477  4.87141 0    18.10 0.614 6.484 93.6  2.3053 24  666 20.2    396.21 18.68\n",
       "478 15.02340 0    18.10 0.614 5.304 97.3  2.1007 24  666 20.2    349.48 24.91\n",
       "479 10.23300 0    18.10 0.614 6.185 96.7  2.1705 24  666 20.2    379.70 18.03\n",
       "480 14.33370 0    18.10 0.614 6.229 88.0  1.9512 24  666 20.2    383.32 13.11\n",
       "481  5.82401 0    18.10 0.532 6.242 64.7  3.4242 24  666 20.2    396.90 10.74\n",
       "482  5.70818 0    18.10 0.532 6.750 74.9  3.3317 24  666 20.2    393.07  7.74\n",
       "483  5.73116 0    18.10 0.532 7.061 77.0  3.4106 24  666 20.2    395.28  7.01\n",
       "484  2.81838 0    18.10 0.532 5.762 40.3  4.0983 24  666 20.2    392.92 10.42\n",
       "485  2.37857 0    18.10 0.583 5.871 41.9  3.7240 24  666 20.2    370.73 13.34\n",
       "486  3.67367 0    18.10 0.583 6.312 51.9  3.9917 24  666 20.2    388.62 10.58\n",
       "487  5.69175 0    18.10 0.583 6.114 79.8  3.5459 24  666 20.2    392.68 14.98\n",
       "488  4.83567 0    18.10 0.583 5.905 53.2  3.1523 24  666 20.2    388.22 11.45\n",
       "489  0.15086 0    27.74 0.609 5.454 92.7  1.8209  4  711 20.1    395.09 18.06\n",
       "490  0.18337 0    27.74 0.609 5.414 98.3  1.7554  4  711 20.1    344.05 23.97\n",
       "491  0.20746 0    27.74 0.609 5.093 98.0  1.8226  4  711 20.1    318.43 29.68\n",
       "492  0.10574 0    27.74 0.609 5.983 98.8  1.8681  4  711 20.1    390.11 18.07\n",
       "493  0.11132 0    27.74 0.609 5.983 83.5  2.1099  4  711 20.1    396.90 13.35\n",
       "494  0.17331 0     9.69 0.585 5.707 54.0  2.3817  6  391 19.2    396.90 12.01\n",
       "495  0.27957 0     9.69 0.585 5.926 42.6  2.3817  6  391 19.2    396.90 13.59\n",
       "496  0.17899 0     9.69 0.585 5.670 28.8  2.7986  6  391 19.2    393.29 17.60\n",
       "497  0.28960 0     9.69 0.585 5.390 72.9  2.7986  6  391 19.2    396.90 21.14\n",
       "498  0.26838 0     9.69 0.585 5.794 70.6  2.8927  6  391 19.2    396.90 14.10\n",
       "499  0.23912 0     9.69 0.585 6.019 65.3  2.4091  6  391 19.2    396.90 12.92\n",
       "500  0.17783 0     9.69 0.585 5.569 73.5  2.3999  6  391 19.2    395.77 15.10\n",
       "501  0.22438 0     9.69 0.585 6.027 79.7  2.4982  6  391 19.2    396.90 14.33\n",
       "502  0.06263 0    11.93 0.573 6.593 69.1  2.4786  1  273 21.0    391.99  9.67\n",
       "503  0.04527 0    11.93 0.573 6.120 76.7  2.2875  1  273 21.0    396.90  9.08\n",
       "504  0.06076 0    11.93 0.573 6.976 91.0  2.1675  1  273 21.0    396.90  5.64\n",
       "505  0.10959 0    11.93 0.573 6.794 89.3  2.3889  1  273 21.0    393.45  6.48\n",
       "506  0.04741 0    11.93 0.573 6.030 80.8  2.5050  1  273 21.0    396.90  7.88\n",
       "    medv\n",
       "1   24.0\n",
       "2   21.6\n",
       "3   34.7\n",
       "4   33.4\n",
       "5   36.2\n",
       "6   28.7\n",
       "7   22.9\n",
       "8   27.1\n",
       "9   16.5\n",
       "10  18.9\n",
       "11  15.0\n",
       "12  18.9\n",
       "13  21.7\n",
       "14  20.4\n",
       "15  18.2\n",
       "16  19.9\n",
       "17  23.1\n",
       "18  17.5\n",
       "19  20.2\n",
       "20  18.2\n",
       "21  13.6\n",
       "22  19.6\n",
       "23  15.2\n",
       "24  14.5\n",
       "25  15.6\n",
       "26  13.9\n",
       "27  16.6\n",
       "28  14.8\n",
       "29  18.4\n",
       "30  21.0\n",
       "⋮   ⋮   \n",
       "477 16.7\n",
       "478 12.0\n",
       "479 14.6\n",
       "480 21.4\n",
       "481 23.0\n",
       "482 23.7\n",
       "483 25.0\n",
       "484 21.8\n",
       "485 20.6\n",
       "486 21.2\n",
       "487 19.1\n",
       "488 20.6\n",
       "489 15.2\n",
       "490  7.0\n",
       "491  8.1\n",
       "492 13.6\n",
       "493 20.1\n",
       "494 21.8\n",
       "495 24.5\n",
       "496 23.1\n",
       "497 19.7\n",
       "498 18.3\n",
       "499 21.2\n",
       "500 17.5\n",
       "501 16.8\n",
       "502 22.4\n",
       "503 20.6\n",
       "504 23.9\n",
       "505 22.0\n",
       "506 11.9"
      ]
     },
     "metadata": {},
     "output_type": "display_data"
    }
   ],
   "source": [
    "ds"
   ]
  },
  {
   "cell_type": "code",
   "execution_count": 150,
   "id": "1dec58b3",
   "metadata": {},
   "outputs": [],
   "source": [
    "mod = lm(medv~., data =ds)"
   ]
  },
  {
   "cell_type": "code",
   "execution_count": 151,
   "id": "f392f023",
   "metadata": {},
   "outputs": [
    {
     "data": {
      "text/plain": [
       "\n",
       "Call:\n",
       "lm(formula = medv ~ ., data = ds)\n",
       "\n",
       "Coefficients:\n",
       "(Intercept)         crim           zn        indus          nox           rm  \n",
       "  36.891960    -0.113139     0.047052     0.040311   -17.366999     3.850492  \n",
       "        age          dis          rad          tax      ptratio            b  \n",
       "   0.002784    -1.485374     0.328311    -0.013756    -0.990958     0.009741  \n",
       "      lstat  \n",
       "  -0.534158  \n"
      ]
     },
     "metadata": {},
     "output_type": "display_data"
    }
   ],
   "source": [
    "mod"
   ]
  },
  {
   "cell_type": "code",
   "execution_count": null,
   "id": "84356a75",
   "metadata": {},
   "outputs": [],
   "source": []
  }
 ],
 "metadata": {
  "kernelspec": {
   "display_name": "R",
   "language": "R",
   "name": "ir"
  },
  "language_info": {
   "codemirror_mode": "r",
   "file_extension": ".r",
   "mimetype": "text/x-r-source",
   "name": "R",
   "pygments_lexer": "r",
   "version": "4.3.1"
  }
 },
 "nbformat": 4,
 "nbformat_minor": 5
}
