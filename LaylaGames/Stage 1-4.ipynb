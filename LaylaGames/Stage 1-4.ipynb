{
 "cells": [
  {
   "cell_type": "code",
   "execution_count": 1,
   "id": "2ffe55ac",
   "metadata": {},
   "outputs": [],
   "source": [
    "library(MASS)"
   ]
  },
  {
   "cell_type": "code",
   "execution_count": 2,
   "id": "ee8a99f4",
   "metadata": {},
   "outputs": [
    {
     "name": "stderr",
     "output_type": "stream",
     "text": [
      "Warning message:\n",
      "\"package 'car' was built under R version 4.3.2\"\n",
      "Loading required package: carData\n",
      "\n",
      "Warning message:\n",
      "\"package 'carData' was built under R version 4.3.2\"\n"
     ]
    }
   ],
   "source": [
    "library(car)"
   ]
  },
  {
   "cell_type": "code",
   "execution_count": 4,
   "id": "9e56386b",
   "metadata": {},
   "outputs": [
    {
     "name": "stderr",
     "output_type": "stream",
     "text": [
      "Installing package into 'C:/Users/starl/AppData/Local/R/win-library/4.3'\n",
      "(as 'lib' is unspecified)\n",
      "\n",
      "Warning message:\n",
      "\"package 'Prestige' is not available for this version of R\n",
      "\n",
      "A version of this package for your version of R might be available elsewhere,\n",
      "see the ideas at\n",
      "https://cran.r-project.org/doc/manuals/r-patched/R-admin.html#Installing-packages\"\n"
     ]
    }
   ],
   "source": [
    "install.packages('Prestige')"
   ]
  },
  {
   "cell_type": "code",
   "execution_count": 5,
   "id": "c3217ccc",
   "metadata": {},
   "outputs": [
    {
     "ename": "ERROR",
     "evalue": "Error in library(Prestige): there is no package called 'Prestige'\n",
     "output_type": "error",
     "traceback": [
      "Error in library(Prestige): there is no package called 'Prestige'\nTraceback:\n",
      "1. library(Prestige)"
     ]
    }
   ],
   "source": [
    "library(Prestige)"
   ]
  },
  {
   "cell_type": "code",
   "execution_count": 7,
   "id": "49aeabea",
   "metadata": {},
   "outputs": [
    {
     "data": {
      "text/html": [
       "<table class=\"dataframe\">\n",
       "<caption>A data.frame: 6 × 6</caption>\n",
       "<thead>\n",
       "\t<tr><th></th><th scope=col>education</th><th scope=col>income</th><th scope=col>women</th><th scope=col>prestige</th><th scope=col>census</th><th scope=col>type</th></tr>\n",
       "\t<tr><th></th><th scope=col>&lt;dbl&gt;</th><th scope=col>&lt;int&gt;</th><th scope=col>&lt;dbl&gt;</th><th scope=col>&lt;dbl&gt;</th><th scope=col>&lt;int&gt;</th><th scope=col>&lt;fct&gt;</th></tr>\n",
       "</thead>\n",
       "<tbody>\n",
       "\t<tr><th scope=row>gov.administrators</th><td>13.11</td><td>12351</td><td>11.16</td><td>68.8</td><td>1113</td><td>prof</td></tr>\n",
       "\t<tr><th scope=row>general.managers</th><td>12.26</td><td>25879</td><td> 4.02</td><td>69.1</td><td>1130</td><td>prof</td></tr>\n",
       "\t<tr><th scope=row>accountants</th><td>12.77</td><td> 9271</td><td>15.70</td><td>63.4</td><td>1171</td><td>prof</td></tr>\n",
       "\t<tr><th scope=row>purchasing.officers</th><td>11.42</td><td> 8865</td><td> 9.11</td><td>56.8</td><td>1175</td><td>prof</td></tr>\n",
       "\t<tr><th scope=row>chemists</th><td>14.62</td><td> 8403</td><td>11.68</td><td>73.5</td><td>2111</td><td>prof</td></tr>\n",
       "\t<tr><th scope=row>physicists</th><td>15.64</td><td>11030</td><td> 5.13</td><td>77.6</td><td>2113</td><td>prof</td></tr>\n",
       "</tbody>\n",
       "</table>\n"
      ],
      "text/latex": [
       "A data.frame: 6 × 6\n",
       "\\begin{tabular}{r|llllll}\n",
       "  & education & income & women & prestige & census & type\\\\\n",
       "  & <dbl> & <int> & <dbl> & <dbl> & <int> & <fct>\\\\\n",
       "\\hline\n",
       "\tgov.administrators & 13.11 & 12351 & 11.16 & 68.8 & 1113 & prof\\\\\n",
       "\tgeneral.managers & 12.26 & 25879 &  4.02 & 69.1 & 1130 & prof\\\\\n",
       "\taccountants & 12.77 &  9271 & 15.70 & 63.4 & 1171 & prof\\\\\n",
       "\tpurchasing.officers & 11.42 &  8865 &  9.11 & 56.8 & 1175 & prof\\\\\n",
       "\tchemists & 14.62 &  8403 & 11.68 & 73.5 & 2111 & prof\\\\\n",
       "\tphysicists & 15.64 & 11030 &  5.13 & 77.6 & 2113 & prof\\\\\n",
       "\\end{tabular}\n"
      ],
      "text/markdown": [
       "\n",
       "A data.frame: 6 × 6\n",
       "\n",
       "| <!--/--> | education &lt;dbl&gt; | income &lt;int&gt; | women &lt;dbl&gt; | prestige &lt;dbl&gt; | census &lt;int&gt; | type &lt;fct&gt; |\n",
       "|---|---|---|---|---|---|---|\n",
       "| gov.administrators | 13.11 | 12351 | 11.16 | 68.8 | 1113 | prof |\n",
       "| general.managers | 12.26 | 25879 |  4.02 | 69.1 | 1130 | prof |\n",
       "| accountants | 12.77 |  9271 | 15.70 | 63.4 | 1171 | prof |\n",
       "| purchasing.officers | 11.42 |  8865 |  9.11 | 56.8 | 1175 | prof |\n",
       "| chemists | 14.62 |  8403 | 11.68 | 73.5 | 2111 | prof |\n",
       "| physicists | 15.64 | 11030 |  5.13 | 77.6 | 2113 | prof |\n",
       "\n"
      ],
      "text/plain": [
       "                    education income women prestige census type\n",
       "gov.administrators  13.11     12351  11.16 68.8     1113   prof\n",
       "general.managers    12.26     25879   4.02 69.1     1130   prof\n",
       "accountants         12.77      9271  15.70 63.4     1171   prof\n",
       "purchasing.officers 11.42      8865   9.11 56.8     1175   prof\n",
       "chemists            14.62      8403  11.68 73.5     2111   prof\n",
       "physicists          15.64     11030   5.13 77.6     2113   prof"
      ]
     },
     "metadata": {},
     "output_type": "display_data"
    }
   ],
   "source": [
    "head(Prestige)"
   ]
  },
  {
   "cell_type": "code",
   "execution_count": 8,
   "id": "69c26bd4",
   "metadata": {},
   "outputs": [],
   "source": [
    "newdata2 = Prestige[, c(1:5)]"
   ]
  },
  {
   "cell_type": "code",
   "execution_count": 9,
   "id": "53bada92",
   "metadata": {},
   "outputs": [
    {
     "data": {
      "text/html": [
       "<table class=\"dataframe\">\n",
       "<caption>A data.frame: 102 × 5</caption>\n",
       "<thead>\n",
       "\t<tr><th></th><th scope=col>education</th><th scope=col>income</th><th scope=col>women</th><th scope=col>prestige</th><th scope=col>census</th></tr>\n",
       "\t<tr><th></th><th scope=col>&lt;dbl&gt;</th><th scope=col>&lt;int&gt;</th><th scope=col>&lt;dbl&gt;</th><th scope=col>&lt;dbl&gt;</th><th scope=col>&lt;int&gt;</th></tr>\n",
       "</thead>\n",
       "<tbody>\n",
       "\t<tr><th scope=row>gov.administrators</th><td>13.11</td><td>12351</td><td>11.16</td><td>68.8</td><td>1113</td></tr>\n",
       "\t<tr><th scope=row>general.managers</th><td>12.26</td><td>25879</td><td> 4.02</td><td>69.1</td><td>1130</td></tr>\n",
       "\t<tr><th scope=row>accountants</th><td>12.77</td><td> 9271</td><td>15.70</td><td>63.4</td><td>1171</td></tr>\n",
       "\t<tr><th scope=row>purchasing.officers</th><td>11.42</td><td> 8865</td><td> 9.11</td><td>56.8</td><td>1175</td></tr>\n",
       "\t<tr><th scope=row>chemists</th><td>14.62</td><td> 8403</td><td>11.68</td><td>73.5</td><td>2111</td></tr>\n",
       "\t<tr><th scope=row>physicists</th><td>15.64</td><td>11030</td><td> 5.13</td><td>77.6</td><td>2113</td></tr>\n",
       "\t<tr><th scope=row>biologists</th><td>15.09</td><td> 8258</td><td>25.65</td><td>72.6</td><td>2133</td></tr>\n",
       "\t<tr><th scope=row>architects</th><td>15.44</td><td>14163</td><td> 2.69</td><td>78.1</td><td>2141</td></tr>\n",
       "\t<tr><th scope=row>civil.engineers</th><td>14.52</td><td>11377</td><td> 1.03</td><td>73.1</td><td>2143</td></tr>\n",
       "\t<tr><th scope=row>mining.engineers</th><td>14.64</td><td>11023</td><td> 0.94</td><td>68.8</td><td>2153</td></tr>\n",
       "\t<tr><th scope=row>surveyors</th><td>12.39</td><td> 5902</td><td> 1.91</td><td>62.0</td><td>2161</td></tr>\n",
       "\t<tr><th scope=row>draughtsmen</th><td>12.30</td><td> 7059</td><td> 7.83</td><td>60.0</td><td>2163</td></tr>\n",
       "\t<tr><th scope=row>computer.programers</th><td>13.83</td><td> 8425</td><td>15.33</td><td>53.8</td><td>2183</td></tr>\n",
       "\t<tr><th scope=row>economists</th><td>14.44</td><td> 8049</td><td>57.31</td><td>62.2</td><td>2311</td></tr>\n",
       "\t<tr><th scope=row>psychologists</th><td>14.36</td><td> 7405</td><td>48.28</td><td>74.9</td><td>2315</td></tr>\n",
       "\t<tr><th scope=row>social.workers</th><td>14.21</td><td> 6336</td><td>54.77</td><td>55.1</td><td>2331</td></tr>\n",
       "\t<tr><th scope=row>lawyers</th><td>15.77</td><td>19263</td><td> 5.13</td><td>82.3</td><td>2343</td></tr>\n",
       "\t<tr><th scope=row>librarians</th><td>14.15</td><td> 6112</td><td>77.10</td><td>58.1</td><td>2351</td></tr>\n",
       "\t<tr><th scope=row>vocational.counsellors</th><td>15.22</td><td> 9593</td><td>34.89</td><td>58.3</td><td>2391</td></tr>\n",
       "\t<tr><th scope=row>ministers</th><td>14.50</td><td> 4686</td><td> 4.14</td><td>72.8</td><td>2511</td></tr>\n",
       "\t<tr><th scope=row>university.teachers</th><td>15.97</td><td>12480</td><td>19.59</td><td>84.6</td><td>2711</td></tr>\n",
       "\t<tr><th scope=row>primary.school.teachers</th><td>13.62</td><td> 5648</td><td>83.78</td><td>59.6</td><td>2731</td></tr>\n",
       "\t<tr><th scope=row>secondary.school.teachers</th><td>15.08</td><td> 8034</td><td>46.80</td><td>66.1</td><td>2733</td></tr>\n",
       "\t<tr><th scope=row>physicians</th><td>15.96</td><td>25308</td><td>10.56</td><td>87.2</td><td>3111</td></tr>\n",
       "\t<tr><th scope=row>veterinarians</th><td>15.94</td><td>14558</td><td> 4.32</td><td>66.7</td><td>3115</td></tr>\n",
       "\t<tr><th scope=row>osteopaths.chiropractors</th><td>14.71</td><td>17498</td><td> 6.91</td><td>68.4</td><td>3117</td></tr>\n",
       "\t<tr><th scope=row>nurses</th><td>12.46</td><td> 4614</td><td>96.12</td><td>64.7</td><td>3131</td></tr>\n",
       "\t<tr><th scope=row>nursing.aides</th><td> 9.45</td><td> 3485</td><td>76.14</td><td>34.9</td><td>3135</td></tr>\n",
       "\t<tr><th scope=row>physio.therapsts</th><td>13.62</td><td> 5092</td><td>82.66</td><td>72.1</td><td>3137</td></tr>\n",
       "\t<tr><th scope=row>pharmacists</th><td>15.21</td><td>10432</td><td>24.71</td><td>69.3</td><td>3151</td></tr>\n",
       "\t<tr><th scope=row>⋮</th><td>⋮</td><td>⋮</td><td>⋮</td><td>⋮</td><td>⋮</td></tr>\n",
       "\t<tr><th scope=row>canners</th><td> 7.42</td><td> 1890</td><td>72.24</td><td>23.2</td><td>8221</td></tr>\n",
       "\t<tr><th scope=row>textile.weavers</th><td> 6.69</td><td> 4443</td><td>31.36</td><td>33.3</td><td>8267</td></tr>\n",
       "\t<tr><th scope=row>textile.labourers</th><td> 6.74</td><td> 3485</td><td>39.48</td><td>28.8</td><td>8278</td></tr>\n",
       "\t<tr><th scope=row>tool.die.makers</th><td>10.09</td><td> 8043</td><td> 1.50</td><td>42.5</td><td>8311</td></tr>\n",
       "\t<tr><th scope=row>machinists</th><td> 8.81</td><td> 6686</td><td> 4.28</td><td>44.2</td><td>8313</td></tr>\n",
       "\t<tr><th scope=row>sheet.metal.workers</th><td> 8.40</td><td> 6565</td><td> 2.30</td><td>35.9</td><td>8333</td></tr>\n",
       "\t<tr><th scope=row>welders</th><td> 7.92</td><td> 6477</td><td> 5.17</td><td>41.8</td><td>8335</td></tr>\n",
       "\t<tr><th scope=row>auto.workers</th><td> 8.43</td><td> 5811</td><td>13.62</td><td>35.9</td><td>8513</td></tr>\n",
       "\t<tr><th scope=row>aircraft.workers</th><td> 8.78</td><td> 6573</td><td> 5.78</td><td>43.7</td><td>8515</td></tr>\n",
       "\t<tr><th scope=row>electronic.workers</th><td> 8.76</td><td> 3942</td><td>74.54</td><td>50.8</td><td>8534</td></tr>\n",
       "\t<tr><th scope=row>radio.tv.repairmen</th><td>10.29</td><td> 5449</td><td> 2.92</td><td>37.2</td><td>8537</td></tr>\n",
       "\t<tr><th scope=row>sewing.mach.operators</th><td> 6.38</td><td> 2847</td><td>90.67</td><td>28.2</td><td>8563</td></tr>\n",
       "\t<tr><th scope=row>auto.repairmen</th><td> 8.10</td><td> 5795</td><td> 0.81</td><td>38.1</td><td>8581</td></tr>\n",
       "\t<tr><th scope=row>aircraft.repairmen</th><td>10.10</td><td> 7716</td><td> 0.78</td><td>50.3</td><td>8582</td></tr>\n",
       "\t<tr><th scope=row>railway.sectionmen</th><td> 6.67</td><td> 4696</td><td> 0.00</td><td>27.3</td><td>8715</td></tr>\n",
       "\t<tr><th scope=row>electrical.linemen</th><td> 9.05</td><td> 8316</td><td> 1.34</td><td>40.9</td><td>8731</td></tr>\n",
       "\t<tr><th scope=row>electricians</th><td> 9.93</td><td> 7147</td><td> 0.99</td><td>50.2</td><td>8733</td></tr>\n",
       "\t<tr><th scope=row>construction.foremen</th><td> 8.24</td><td> 8880</td><td> 0.65</td><td>51.1</td><td>8780</td></tr>\n",
       "\t<tr><th scope=row>carpenters</th><td> 6.92</td><td> 5299</td><td> 0.56</td><td>38.9</td><td>8781</td></tr>\n",
       "\t<tr><th scope=row>masons</th><td> 6.60</td><td> 5959</td><td> 0.52</td><td>36.2</td><td>8782</td></tr>\n",
       "\t<tr><th scope=row>house.painters</th><td> 7.81</td><td> 4549</td><td> 2.46</td><td>29.9</td><td>8785</td></tr>\n",
       "\t<tr><th scope=row>plumbers</th><td> 8.33</td><td> 6928</td><td> 0.61</td><td>42.9</td><td>8791</td></tr>\n",
       "\t<tr><th scope=row>construction.labourers</th><td> 7.52</td><td> 3910</td><td> 1.09</td><td>26.5</td><td>8798</td></tr>\n",
       "\t<tr><th scope=row>pilots</th><td>12.27</td><td>14032</td><td> 0.58</td><td>66.1</td><td>9111</td></tr>\n",
       "\t<tr><th scope=row>train.engineers</th><td> 8.49</td><td> 8845</td><td> 0.00</td><td>48.9</td><td>9131</td></tr>\n",
       "\t<tr><th scope=row>bus.drivers</th><td> 7.58</td><td> 5562</td><td> 9.47</td><td>35.9</td><td>9171</td></tr>\n",
       "\t<tr><th scope=row>taxi.drivers</th><td> 7.93</td><td> 4224</td><td> 3.59</td><td>25.1</td><td>9173</td></tr>\n",
       "\t<tr><th scope=row>longshoremen</th><td> 8.37</td><td> 4753</td><td> 0.00</td><td>26.1</td><td>9313</td></tr>\n",
       "\t<tr><th scope=row>typesetters</th><td>10.00</td><td> 6462</td><td>13.58</td><td>42.2</td><td>9511</td></tr>\n",
       "\t<tr><th scope=row>bookbinders</th><td> 8.55</td><td> 3617</td><td>70.87</td><td>35.2</td><td>9517</td></tr>\n",
       "</tbody>\n",
       "</table>\n"
      ],
      "text/latex": [
       "A data.frame: 102 × 5\n",
       "\\begin{tabular}{r|lllll}\n",
       "  & education & income & women & prestige & census\\\\\n",
       "  & <dbl> & <int> & <dbl> & <dbl> & <int>\\\\\n",
       "\\hline\n",
       "\tgov.administrators & 13.11 & 12351 & 11.16 & 68.8 & 1113\\\\\n",
       "\tgeneral.managers & 12.26 & 25879 &  4.02 & 69.1 & 1130\\\\\n",
       "\taccountants & 12.77 &  9271 & 15.70 & 63.4 & 1171\\\\\n",
       "\tpurchasing.officers & 11.42 &  8865 &  9.11 & 56.8 & 1175\\\\\n",
       "\tchemists & 14.62 &  8403 & 11.68 & 73.5 & 2111\\\\\n",
       "\tphysicists & 15.64 & 11030 &  5.13 & 77.6 & 2113\\\\\n",
       "\tbiologists & 15.09 &  8258 & 25.65 & 72.6 & 2133\\\\\n",
       "\tarchitects & 15.44 & 14163 &  2.69 & 78.1 & 2141\\\\\n",
       "\tcivil.engineers & 14.52 & 11377 &  1.03 & 73.1 & 2143\\\\\n",
       "\tmining.engineers & 14.64 & 11023 &  0.94 & 68.8 & 2153\\\\\n",
       "\tsurveyors & 12.39 &  5902 &  1.91 & 62.0 & 2161\\\\\n",
       "\tdraughtsmen & 12.30 &  7059 &  7.83 & 60.0 & 2163\\\\\n",
       "\tcomputer.programers & 13.83 &  8425 & 15.33 & 53.8 & 2183\\\\\n",
       "\teconomists & 14.44 &  8049 & 57.31 & 62.2 & 2311\\\\\n",
       "\tpsychologists & 14.36 &  7405 & 48.28 & 74.9 & 2315\\\\\n",
       "\tsocial.workers & 14.21 &  6336 & 54.77 & 55.1 & 2331\\\\\n",
       "\tlawyers & 15.77 & 19263 &  5.13 & 82.3 & 2343\\\\\n",
       "\tlibrarians & 14.15 &  6112 & 77.10 & 58.1 & 2351\\\\\n",
       "\tvocational.counsellors & 15.22 &  9593 & 34.89 & 58.3 & 2391\\\\\n",
       "\tministers & 14.50 &  4686 &  4.14 & 72.8 & 2511\\\\\n",
       "\tuniversity.teachers & 15.97 & 12480 & 19.59 & 84.6 & 2711\\\\\n",
       "\tprimary.school.teachers & 13.62 &  5648 & 83.78 & 59.6 & 2731\\\\\n",
       "\tsecondary.school.teachers & 15.08 &  8034 & 46.80 & 66.1 & 2733\\\\\n",
       "\tphysicians & 15.96 & 25308 & 10.56 & 87.2 & 3111\\\\\n",
       "\tveterinarians & 15.94 & 14558 &  4.32 & 66.7 & 3115\\\\\n",
       "\tosteopaths.chiropractors & 14.71 & 17498 &  6.91 & 68.4 & 3117\\\\\n",
       "\tnurses & 12.46 &  4614 & 96.12 & 64.7 & 3131\\\\\n",
       "\tnursing.aides &  9.45 &  3485 & 76.14 & 34.9 & 3135\\\\\n",
       "\tphysio.therapsts & 13.62 &  5092 & 82.66 & 72.1 & 3137\\\\\n",
       "\tpharmacists & 15.21 & 10432 & 24.71 & 69.3 & 3151\\\\\n",
       "\t⋮ & ⋮ & ⋮ & ⋮ & ⋮ & ⋮\\\\\n",
       "\tcanners &  7.42 &  1890 & 72.24 & 23.2 & 8221\\\\\n",
       "\ttextile.weavers &  6.69 &  4443 & 31.36 & 33.3 & 8267\\\\\n",
       "\ttextile.labourers &  6.74 &  3485 & 39.48 & 28.8 & 8278\\\\\n",
       "\ttool.die.makers & 10.09 &  8043 &  1.50 & 42.5 & 8311\\\\\n",
       "\tmachinists &  8.81 &  6686 &  4.28 & 44.2 & 8313\\\\\n",
       "\tsheet.metal.workers &  8.40 &  6565 &  2.30 & 35.9 & 8333\\\\\n",
       "\twelders &  7.92 &  6477 &  5.17 & 41.8 & 8335\\\\\n",
       "\tauto.workers &  8.43 &  5811 & 13.62 & 35.9 & 8513\\\\\n",
       "\taircraft.workers &  8.78 &  6573 &  5.78 & 43.7 & 8515\\\\\n",
       "\telectronic.workers &  8.76 &  3942 & 74.54 & 50.8 & 8534\\\\\n",
       "\tradio.tv.repairmen & 10.29 &  5449 &  2.92 & 37.2 & 8537\\\\\n",
       "\tsewing.mach.operators &  6.38 &  2847 & 90.67 & 28.2 & 8563\\\\\n",
       "\tauto.repairmen &  8.10 &  5795 &  0.81 & 38.1 & 8581\\\\\n",
       "\taircraft.repairmen & 10.10 &  7716 &  0.78 & 50.3 & 8582\\\\\n",
       "\trailway.sectionmen &  6.67 &  4696 &  0.00 & 27.3 & 8715\\\\\n",
       "\telectrical.linemen &  9.05 &  8316 &  1.34 & 40.9 & 8731\\\\\n",
       "\telectricians &  9.93 &  7147 &  0.99 & 50.2 & 8733\\\\\n",
       "\tconstruction.foremen &  8.24 &  8880 &  0.65 & 51.1 & 8780\\\\\n",
       "\tcarpenters &  6.92 &  5299 &  0.56 & 38.9 & 8781\\\\\n",
       "\tmasons &  6.60 &  5959 &  0.52 & 36.2 & 8782\\\\\n",
       "\thouse.painters &  7.81 &  4549 &  2.46 & 29.9 & 8785\\\\\n",
       "\tplumbers &  8.33 &  6928 &  0.61 & 42.9 & 8791\\\\\n",
       "\tconstruction.labourers &  7.52 &  3910 &  1.09 & 26.5 & 8798\\\\\n",
       "\tpilots & 12.27 & 14032 &  0.58 & 66.1 & 9111\\\\\n",
       "\ttrain.engineers &  8.49 &  8845 &  0.00 & 48.9 & 9131\\\\\n",
       "\tbus.drivers &  7.58 &  5562 &  9.47 & 35.9 & 9171\\\\\n",
       "\ttaxi.drivers &  7.93 &  4224 &  3.59 & 25.1 & 9173\\\\\n",
       "\tlongshoremen &  8.37 &  4753 &  0.00 & 26.1 & 9313\\\\\n",
       "\ttypesetters & 10.00 &  6462 & 13.58 & 42.2 & 9511\\\\\n",
       "\tbookbinders &  8.55 &  3617 & 70.87 & 35.2 & 9517\\\\\n",
       "\\end{tabular}\n"
      ],
      "text/markdown": [
       "\n",
       "A data.frame: 102 × 5\n",
       "\n",
       "| <!--/--> | education &lt;dbl&gt; | income &lt;int&gt; | women &lt;dbl&gt; | prestige &lt;dbl&gt; | census &lt;int&gt; |\n",
       "|---|---|---|---|---|---|\n",
       "| gov.administrators | 13.11 | 12351 | 11.16 | 68.8 | 1113 |\n",
       "| general.managers | 12.26 | 25879 |  4.02 | 69.1 | 1130 |\n",
       "| accountants | 12.77 |  9271 | 15.70 | 63.4 | 1171 |\n",
       "| purchasing.officers | 11.42 |  8865 |  9.11 | 56.8 | 1175 |\n",
       "| chemists | 14.62 |  8403 | 11.68 | 73.5 | 2111 |\n",
       "| physicists | 15.64 | 11030 |  5.13 | 77.6 | 2113 |\n",
       "| biologists | 15.09 |  8258 | 25.65 | 72.6 | 2133 |\n",
       "| architects | 15.44 | 14163 |  2.69 | 78.1 | 2141 |\n",
       "| civil.engineers | 14.52 | 11377 |  1.03 | 73.1 | 2143 |\n",
       "| mining.engineers | 14.64 | 11023 |  0.94 | 68.8 | 2153 |\n",
       "| surveyors | 12.39 |  5902 |  1.91 | 62.0 | 2161 |\n",
       "| draughtsmen | 12.30 |  7059 |  7.83 | 60.0 | 2163 |\n",
       "| computer.programers | 13.83 |  8425 | 15.33 | 53.8 | 2183 |\n",
       "| economists | 14.44 |  8049 | 57.31 | 62.2 | 2311 |\n",
       "| psychologists | 14.36 |  7405 | 48.28 | 74.9 | 2315 |\n",
       "| social.workers | 14.21 |  6336 | 54.77 | 55.1 | 2331 |\n",
       "| lawyers | 15.77 | 19263 |  5.13 | 82.3 | 2343 |\n",
       "| librarians | 14.15 |  6112 | 77.10 | 58.1 | 2351 |\n",
       "| vocational.counsellors | 15.22 |  9593 | 34.89 | 58.3 | 2391 |\n",
       "| ministers | 14.50 |  4686 |  4.14 | 72.8 | 2511 |\n",
       "| university.teachers | 15.97 | 12480 | 19.59 | 84.6 | 2711 |\n",
       "| primary.school.teachers | 13.62 |  5648 | 83.78 | 59.6 | 2731 |\n",
       "| secondary.school.teachers | 15.08 |  8034 | 46.80 | 66.1 | 2733 |\n",
       "| physicians | 15.96 | 25308 | 10.56 | 87.2 | 3111 |\n",
       "| veterinarians | 15.94 | 14558 |  4.32 | 66.7 | 3115 |\n",
       "| osteopaths.chiropractors | 14.71 | 17498 |  6.91 | 68.4 | 3117 |\n",
       "| nurses | 12.46 |  4614 | 96.12 | 64.7 | 3131 |\n",
       "| nursing.aides |  9.45 |  3485 | 76.14 | 34.9 | 3135 |\n",
       "| physio.therapsts | 13.62 |  5092 | 82.66 | 72.1 | 3137 |\n",
       "| pharmacists | 15.21 | 10432 | 24.71 | 69.3 | 3151 |\n",
       "| ⋮ | ⋮ | ⋮ | ⋮ | ⋮ | ⋮ |\n",
       "| canners |  7.42 |  1890 | 72.24 | 23.2 | 8221 |\n",
       "| textile.weavers |  6.69 |  4443 | 31.36 | 33.3 | 8267 |\n",
       "| textile.labourers |  6.74 |  3485 | 39.48 | 28.8 | 8278 |\n",
       "| tool.die.makers | 10.09 |  8043 |  1.50 | 42.5 | 8311 |\n",
       "| machinists |  8.81 |  6686 |  4.28 | 44.2 | 8313 |\n",
       "| sheet.metal.workers |  8.40 |  6565 |  2.30 | 35.9 | 8333 |\n",
       "| welders |  7.92 |  6477 |  5.17 | 41.8 | 8335 |\n",
       "| auto.workers |  8.43 |  5811 | 13.62 | 35.9 | 8513 |\n",
       "| aircraft.workers |  8.78 |  6573 |  5.78 | 43.7 | 8515 |\n",
       "| electronic.workers |  8.76 |  3942 | 74.54 | 50.8 | 8534 |\n",
       "| radio.tv.repairmen | 10.29 |  5449 |  2.92 | 37.2 | 8537 |\n",
       "| sewing.mach.operators |  6.38 |  2847 | 90.67 | 28.2 | 8563 |\n",
       "| auto.repairmen |  8.10 |  5795 |  0.81 | 38.1 | 8581 |\n",
       "| aircraft.repairmen | 10.10 |  7716 |  0.78 | 50.3 | 8582 |\n",
       "| railway.sectionmen |  6.67 |  4696 |  0.00 | 27.3 | 8715 |\n",
       "| electrical.linemen |  9.05 |  8316 |  1.34 | 40.9 | 8731 |\n",
       "| electricians |  9.93 |  7147 |  0.99 | 50.2 | 8733 |\n",
       "| construction.foremen |  8.24 |  8880 |  0.65 | 51.1 | 8780 |\n",
       "| carpenters |  6.92 |  5299 |  0.56 | 38.9 | 8781 |\n",
       "| masons |  6.60 |  5959 |  0.52 | 36.2 | 8782 |\n",
       "| house.painters |  7.81 |  4549 |  2.46 | 29.9 | 8785 |\n",
       "| plumbers |  8.33 |  6928 |  0.61 | 42.9 | 8791 |\n",
       "| construction.labourers |  7.52 |  3910 |  1.09 | 26.5 | 8798 |\n",
       "| pilots | 12.27 | 14032 |  0.58 | 66.1 | 9111 |\n",
       "| train.engineers |  8.49 |  8845 |  0.00 | 48.9 | 9131 |\n",
       "| bus.drivers |  7.58 |  5562 |  9.47 | 35.9 | 9171 |\n",
       "| taxi.drivers |  7.93 |  4224 |  3.59 | 25.1 | 9173 |\n",
       "| longshoremen |  8.37 |  4753 |  0.00 | 26.1 | 9313 |\n",
       "| typesetters | 10.00 |  6462 | 13.58 | 42.2 | 9511 |\n",
       "| bookbinders |  8.55 |  3617 | 70.87 | 35.2 | 9517 |\n",
       "\n"
      ],
      "text/plain": [
       "                          education income women prestige census\n",
       "gov.administrators        13.11     12351  11.16 68.8     1113  \n",
       "general.managers          12.26     25879   4.02 69.1     1130  \n",
       "accountants               12.77      9271  15.70 63.4     1171  \n",
       "purchasing.officers       11.42      8865   9.11 56.8     1175  \n",
       "chemists                  14.62      8403  11.68 73.5     2111  \n",
       "physicists                15.64     11030   5.13 77.6     2113  \n",
       "biologists                15.09      8258  25.65 72.6     2133  \n",
       "architects                15.44     14163   2.69 78.1     2141  \n",
       "civil.engineers           14.52     11377   1.03 73.1     2143  \n",
       "mining.engineers          14.64     11023   0.94 68.8     2153  \n",
       "surveyors                 12.39      5902   1.91 62.0     2161  \n",
       "draughtsmen               12.30      7059   7.83 60.0     2163  \n",
       "computer.programers       13.83      8425  15.33 53.8     2183  \n",
       "economists                14.44      8049  57.31 62.2     2311  \n",
       "psychologists             14.36      7405  48.28 74.9     2315  \n",
       "social.workers            14.21      6336  54.77 55.1     2331  \n",
       "lawyers                   15.77     19263   5.13 82.3     2343  \n",
       "librarians                14.15      6112  77.10 58.1     2351  \n",
       "vocational.counsellors    15.22      9593  34.89 58.3     2391  \n",
       "ministers                 14.50      4686   4.14 72.8     2511  \n",
       "university.teachers       15.97     12480  19.59 84.6     2711  \n",
       "primary.school.teachers   13.62      5648  83.78 59.6     2731  \n",
       "secondary.school.teachers 15.08      8034  46.80 66.1     2733  \n",
       "physicians                15.96     25308  10.56 87.2     3111  \n",
       "veterinarians             15.94     14558   4.32 66.7     3115  \n",
       "osteopaths.chiropractors  14.71     17498   6.91 68.4     3117  \n",
       "nurses                    12.46      4614  96.12 64.7     3131  \n",
       "nursing.aides              9.45      3485  76.14 34.9     3135  \n",
       "physio.therapsts          13.62      5092  82.66 72.1     3137  \n",
       "pharmacists               15.21     10432  24.71 69.3     3151  \n",
       "⋮                         ⋮         ⋮      ⋮     ⋮        ⋮     \n",
       "canners                    7.42      1890  72.24 23.2     8221  \n",
       "textile.weavers            6.69      4443  31.36 33.3     8267  \n",
       "textile.labourers          6.74      3485  39.48 28.8     8278  \n",
       "tool.die.makers           10.09      8043   1.50 42.5     8311  \n",
       "machinists                 8.81      6686   4.28 44.2     8313  \n",
       "sheet.metal.workers        8.40      6565   2.30 35.9     8333  \n",
       "welders                    7.92      6477   5.17 41.8     8335  \n",
       "auto.workers               8.43      5811  13.62 35.9     8513  \n",
       "aircraft.workers           8.78      6573   5.78 43.7     8515  \n",
       "electronic.workers         8.76      3942  74.54 50.8     8534  \n",
       "radio.tv.repairmen        10.29      5449   2.92 37.2     8537  \n",
       "sewing.mach.operators      6.38      2847  90.67 28.2     8563  \n",
       "auto.repairmen             8.10      5795   0.81 38.1     8581  \n",
       "aircraft.repairmen        10.10      7716   0.78 50.3     8582  \n",
       "railway.sectionmen         6.67      4696   0.00 27.3     8715  \n",
       "electrical.linemen         9.05      8316   1.34 40.9     8731  \n",
       "electricians               9.93      7147   0.99 50.2     8733  \n",
       "construction.foremen       8.24      8880   0.65 51.1     8780  \n",
       "carpenters                 6.92      5299   0.56 38.9     8781  \n",
       "masons                     6.60      5959   0.52 36.2     8782  \n",
       "house.painters             7.81      4549   2.46 29.9     8785  \n",
       "plumbers                   8.33      6928   0.61 42.9     8791  \n",
       "construction.labourers     7.52      3910   1.09 26.5     8798  \n",
       "pilots                    12.27     14032   0.58 66.1     9111  \n",
       "train.engineers            8.49      8845   0.00 48.9     9131  \n",
       "bus.drivers                7.58      5562   9.47 35.9     9171  \n",
       "taxi.drivers               7.93      4224   3.59 25.1     9173  \n",
       "longshoremen               8.37      4753   0.00 26.1     9313  \n",
       "typesetters               10.00      6462  13.58 42.2     9511  \n",
       "bookbinders                8.55      3617  70.87 35.2     9517  "
      ]
     },
     "metadata": {},
     "output_type": "display_data"
    }
   ],
   "source": [
    "newdata2"
   ]
  },
  {
   "cell_type": "code",
   "execution_count": 10,
   "id": "85626cff",
   "metadata": {},
   "outputs": [],
   "source": [
    "model = lm(income~education + prestige + women + census, data = newdata2)"
   ]
  },
  {
   "cell_type": "code",
   "execution_count": 11,
   "id": "f7f0ac78",
   "metadata": {},
   "outputs": [
    {
     "data": {
      "text/plain": [
       "\n",
       "Call:\n",
       "lm(formula = income ~ education + prestige + women + census, \n",
       "    data = newdata2)\n",
       "\n",
       "Coefficients:\n",
       "(Intercept)    education     prestige        women       census  \n",
       " -1.068e+03    2.281e+02    1.402e+02   -5.018e+01    5.622e-02  \n"
      ]
     },
     "metadata": {},
     "output_type": "display_data"
    }
   ],
   "source": [
    "model"
   ]
  },
  {
   "cell_type": "code",
   "execution_count": 12,
   "id": "4930265e",
   "metadata": {},
   "outputs": [
    {
     "name": "stdout",
     "output_type": "stream",
     "text": [
      "Start:  AIC=1607.93\n",
      "income ~ education + prestige + women + census\n",
      "\n",
      "            Df Sum of Sq       RSS    AIC\n",
      "- census     1    639658 649654265 1606.0\n",
      "- education  1   5558323 654572930 1606.8\n",
      "<none>                   649014607 1607.9\n",
      "- prestige   1 143207106 792221712 1626.3\n",
      "- women      1 212639294 861653901 1634.8\n",
      "\n",
      "Step:  AIC=1606.03\n",
      "income ~ education + prestige + women\n",
      "\n",
      "            Df Sum of Sq       RSS    AIC\n",
      "- education  1   5912400 655566665 1605.0\n",
      "<none>                   649654265 1606.0\n",
      "- prestige   1 148234959 797889223 1625.0\n",
      "- women      1 234562232 884216497 1635.5\n",
      "\n",
      "Step:  AIC=1604.96\n",
      "income ~ prestige + women\n",
      "\n",
      "           Df Sum of Sq        RSS    AIC\n",
      "<none>                   655566665 1605.0\n",
      "- women     1 234647032  890213697 1634.2\n",
      "- prestige  1 811037947 1466604612 1685.1\n"
     ]
    }
   ],
   "source": [
    "mode3 = stepAIC(model)"
   ]
  },
  {
   "cell_type": "code",
   "execution_count": 13,
   "id": "10c990f4",
   "metadata": {},
   "outputs": [
    {
     "data": {
      "text/plain": [
       "\n",
       "Call:\n",
       "lm(formula = income ~ prestige + women, data = newdata2)\n",
       "\n",
       "Residuals:\n",
       "    Min      1Q  Median      3Q     Max \n",
       "-7620.9 -1008.7  -240.4   873.1 14180.0 \n",
       "\n",
       "Coefficients:\n",
       "            Estimate Std. Error t value Pr(>|t|)    \n",
       "(Intercept)  431.574    807.630   0.534    0.594    \n",
       "prestige     165.875     14.988  11.067  < 2e-16 ***\n",
       "women        -48.385      8.128  -5.953 4.02e-08 ***\n",
       "---\n",
       "Signif. codes:  0 '***' 0.001 '**' 0.01 '*' 0.05 '.' 0.1 ' ' 1\n",
       "\n",
       "Residual standard error: 2573 on 99 degrees of freedom\n",
       "Multiple R-squared:   0.64,\tAdjusted R-squared:  0.6327 \n",
       "F-statistic: 87.98 on 2 and 99 DF,  p-value: < 2.2e-16\n"
      ]
     },
     "metadata": {},
     "output_type": "display_data"
    }
   ],
   "source": [
    "summary(mode3)"
   ]
  },
  {
   "cell_type": "code",
   "execution_count": 14,
   "id": "f3322381",
   "metadata": {},
   "outputs": [
    {
     "data": {
      "text/html": [
       "<strong>1:</strong> 1122.6277003805"
      ],
      "text/latex": [
       "\\textbf{1:} 1122.6277003805"
      ],
      "text/markdown": [
       "**1:** 1122.6277003805"
      ],
      "text/plain": [
       "       1 \n",
       "1122.628 "
      ]
     },
     "metadata": {},
     "output_type": "display_data"
    }
   ],
   "source": [
    "predict(mode3, newdata=data.frame(prestige = 10, women = 20))"
   ]
  },
  {
   "cell_type": "code",
   "execution_count": 15,
   "id": "ddcc390f",
   "metadata": {},
   "outputs": [
    {
     "data": {
      "text/html": [
       "1122.624"
      ],
      "text/latex": [
       "1122.624"
      ],
      "text/markdown": [
       "1122.624"
      ],
      "text/plain": [
       "[1] 1122.624"
      ]
     },
     "metadata": {},
     "output_type": "display_data"
    }
   ],
   "source": [
    "431.574 + 165.875 * 10 + -48.385 * 20"
   ]
  },
  {
   "cell_type": "code",
   "execution_count": 16,
   "id": "bbf509f3",
   "metadata": {},
   "outputs": [],
   "source": [
    "x1 = c(195, 179, 205, 204, 201, 184, 210, 209)\n",
    "x2 = c(57, 61, 60, 62, 61, 54, 58, 61)\n",
    "y = c(81.4, 122.2, 101.7, 145.2, 135.9, 64.8, 92.1, 113.8)"
   ]
  },
  {
   "cell_type": "code",
   "execution_count": 17,
   "id": "ec5c9fd8",
   "metadata": {},
   "outputs": [],
   "source": [
    "lm.result = lm(y~x1 + x2)"
   ]
  },
  {
   "cell_type": "code",
   "execution_count": 18,
   "id": "114ada27",
   "metadata": {},
   "outputs": [
    {
     "data": {
      "text/plain": [
       "\n",
       "Call:\n",
       "lm(formula = y ~ x1 + x2)\n",
       "\n",
       "Residuals:\n",
       "        1         2         3         4         5         6         7         8 \n",
       " -4.41018  -6.66819 -11.26091  12.34641  12.17458   5.90680  -0.03319  -8.05532 \n",
       "\n",
       "Coefficients:\n",
       "             Estimate Std. Error t value Pr(>|t|)   \n",
       "(Intercept) -428.8851    98.9870  -4.333  0.00748 **\n",
       "x1            -0.2338     0.3832  -0.610  0.56854   \n",
       "x2             9.8295     1.6232   6.056  0.00177 **\n",
       "---\n",
       "Signif. codes:  0 '***' 0.001 '**' 0.01 '*' 0.05 '.' 0.1 ' ' 1\n",
       "\n",
       "Residual standard error: 10.87 on 5 degrees of freedom\n",
       "Multiple R-squared:  0.8876,\tAdjusted R-squared:  0.8426 \n",
       "F-statistic: 19.74 on 2 and 5 DF,  p-value: 0.004239\n"
      ]
     },
     "metadata": {},
     "output_type": "display_data"
    }
   ],
   "source": [
    "summary(lm.result)"
   ]
  },
  {
   "cell_type": "code",
   "execution_count": 19,
   "id": "b6cb9c06",
   "metadata": {},
   "outputs": [
    {
     "data": {
      "text/plain": [
       "\n",
       "Call:\n",
       "lm(formula = y ~ x1 + x2)\n",
       "\n",
       "Coefficients:\n",
       "(Intercept)           x1           x2  \n",
       "  -428.8851      -0.2338       9.8295  \n"
      ]
     },
     "metadata": {},
     "output_type": "display_data"
    }
   ],
   "source": [
    "lm.result"
   ]
  },
  {
   "cell_type": "code",
   "execution_count": 30,
   "id": "8a7c2039",
   "metadata": {},
   "outputs": [],
   "source": [
    "ha = c(54659, 61028, 53307, 46161, 54180)\n",
    "he = c(31215, 29863, 32098, 39684, 29707)\n",
    "mc = c(15104, 16133, 15222, 13208, 9986)\n",
    "vs = c(13470, 14231, 13401, 13552, 13193)\n",
    "bs = c(16513, 14947, 15112, 14392, 17091)\n",
    "\n",
    "ds = rbind(ha, he, mc, vs, bs)\n",
    "colnames(ds) = c('ha','he','mc','vs','bs')"
   ]
  },
  {
   "cell_type": "code",
   "execution_count": 41,
   "id": "dd3211f3",
   "metadata": {},
   "outputs": [
    {
     "name": "stderr",
     "output_type": "stream",
     "text": [
      "Warning message in plot.window(xlim, ylim, log = log, ...):\n",
      "\"\"legend\" is not a graphical parameter\"\n",
      "Warning message in axis(if (horiz) 2 else 1, at = at.l, labels = names.arg, lty = axis.lty, :\n",
      "\"\"legend\" is not a graphical parameter\"\n",
      "Warning message in title(main = main, sub = sub, xlab = xlab, ylab = ylab, ...):\n",
      "\"\"legend\" is not a graphical parameter\"\n",
      "Warning message in axis(if (horiz) 1 else 2, cex.axis = cex.axis, ...):\n",
      "\"\"legend\" is not a graphical parameter\"\n"
     ]
    },
    {
     "data": {
      "image/png": "[encoded data removed]",
      "text/plain": [
       "Plot with title \"사업부문별 매출액\""
      ]
     },
     "metadata": {
      "image/png": {
       "height": 420,
       "width": 420
      }
     },
     "output_type": "display_data"
    }
   ],
   "source": [
    "barplot(ds, horiz=T,\n",
    "       main ='사업부문별 매출액', las = 1,\n",
    "       beside = T, xlab = '억 원', ylab = '사업부문',\n",
    "       col = c('#003f5c', '#58508d','#bc5090','#ff6361','#ffa600'),\n",
    "       legend = T,\n",
    "        legend.text = c('H&A','HE','MC','VS','BS'),\n",
    "       args.legend = list(bty = 'n', inset = c(-0.25, 0)))"
   ]
  },
  {
   "cell_type": "code",
   "execution_count": 42,
   "id": "3cba4ed5",
   "metadata": {},
   "outputs": [
    {
     "data": {
      "text/html": [
       "<table class=\"dataframe\">\n",
       "<caption>A data.frame: 6 × 2</caption>\n",
       "<thead>\n",
       "\t<tr><th></th><th scope=col>speed</th><th scope=col>dist</th></tr>\n",
       "\t<tr><th></th><th scope=col>&lt;dbl&gt;</th><th scope=col>&lt;dbl&gt;</th></tr>\n",
       "</thead>\n",
       "<tbody>\n",
       "\t<tr><th scope=row>1</th><td>4</td><td> 2</td></tr>\n",
       "\t<tr><th scope=row>2</th><td>4</td><td>10</td></tr>\n",
       "\t<tr><th scope=row>3</th><td>7</td><td> 4</td></tr>\n",
       "\t<tr><th scope=row>4</th><td>7</td><td>22</td></tr>\n",
       "\t<tr><th scope=row>5</th><td>8</td><td>16</td></tr>\n",
       "\t<tr><th scope=row>6</th><td>9</td><td>10</td></tr>\n",
       "</tbody>\n",
       "</table>\n"
      ],
      "text/latex": [
       "A data.frame: 6 × 2\n",
       "\\begin{tabular}{r|ll}\n",
       "  & speed & dist\\\\\n",
       "  & <dbl> & <dbl>\\\\\n",
       "\\hline\n",
       "\t1 & 4 &  2\\\\\n",
       "\t2 & 4 & 10\\\\\n",
       "\t3 & 7 &  4\\\\\n",
       "\t4 & 7 & 22\\\\\n",
       "\t5 & 8 & 16\\\\\n",
       "\t6 & 9 & 10\\\\\n",
       "\\end{tabular}\n"
      ],
      "text/markdown": [
       "\n",
       "A data.frame: 6 × 2\n",
       "\n",
       "| <!--/--> | speed &lt;dbl&gt; | dist &lt;dbl&gt; |\n",
       "|---|---|---|\n",
       "| 1 | 4 |  2 |\n",
       "| 2 | 4 | 10 |\n",
       "| 3 | 7 |  4 |\n",
       "| 4 | 7 | 22 |\n",
       "| 5 | 8 | 16 |\n",
       "| 6 | 9 | 10 |\n",
       "\n"
      ],
      "text/plain": [
       "  speed dist\n",
       "1 4      2  \n",
       "2 4     10  \n",
       "3 7      4  \n",
       "4 7     22  \n",
       "5 8     16  \n",
       "6 9     10  "
      ]
     },
     "metadata": {},
     "output_type": "display_data"
    }
   ],
   "source": [
    "head(cars)"
   ]
  },
  {
   "cell_type": "code",
   "execution_count": 43,
   "id": "d43bdabc",
   "metadata": {},
   "outputs": [],
   "source": [
    "dist = cars[, 2]"
   ]
  },
  {
   "cell_type": "code",
   "execution_count": 44,
   "id": "0a6818b0",
   "metadata": {},
   "outputs": [
    {
     "data": {
      "text/html": [
       "<style>\n",
       ".list-inline {list-style: none; margin:0; padding: 0}\n",
       ".list-inline>li {display: inline-block}\n",
       ".list-inline>li:not(:last-child)::after {content: \"\\00b7\"; padding: 0 .5ex}\n",
       "</style>\n",
       "<ol class=list-inline><li>2</li><li>10</li><li>4</li><li>22</li><li>16</li><li>10</li><li>18</li><li>26</li><li>34</li><li>17</li><li>28</li><li>14</li><li>20</li><li>24</li><li>28</li><li>26</li><li>34</li><li>34</li><li>46</li><li>26</li><li>36</li><li>60</li><li>80</li><li>20</li><li>26</li><li>54</li><li>32</li><li>40</li><li>32</li><li>40</li><li>50</li><li>42</li><li>56</li><li>76</li><li>84</li><li>36</li><li>46</li><li>68</li><li>32</li><li>48</li><li>52</li><li>56</li><li>64</li><li>66</li><li>54</li><li>70</li><li>92</li><li>93</li><li>120</li><li>85</li></ol>\n"
      ],
      "text/latex": [
       "\\begin{enumerate*}\n",
       "\\item 2\n",
       "\\item 10\n",
       "\\item 4\n",
       "\\item 22\n",
       "\\item 16\n",
       "\\item 10\n",
       "\\item 18\n",
       "\\item 26\n",
       "\\item 34\n",
       "\\item 17\n",
       "\\item 28\n",
       "\\item 14\n",
       "\\item 20\n",
       "\\item 24\n",
       "\\item 28\n",
       "\\item 26\n",
       "\\item 34\n",
       "\\item 34\n",
       "\\item 46\n",
       "\\item 26\n",
       "\\item 36\n",
       "\\item 60\n",
       "\\item 80\n",
       "\\item 20\n",
       "\\item 26\n",
       "\\item 54\n",
       "\\item 32\n",
       "\\item 40\n",
       "\\item 32\n",
       "\\item 40\n",
       "\\item 50\n",
       "\\item 42\n",
       "\\item 56\n",
       "\\item 76\n",
       "\\item 84\n",
       "\\item 36\n",
       "\\item 46\n",
       "\\item 68\n",
       "\\item 32\n",
       "\\item 48\n",
       "\\item 52\n",
       "\\item 56\n",
       "\\item 64\n",
       "\\item 66\n",
       "\\item 54\n",
       "\\item 70\n",
       "\\item 92\n",
       "\\item 93\n",
       "\\item 120\n",
       "\\item 85\n",
       "\\end{enumerate*}\n"
      ],
      "text/markdown": [
       "1. 2\n",
       "2. 10\n",
       "3. 4\n",
       "4. 22\n",
       "5. 16\n",
       "6. 10\n",
       "7. 18\n",
       "8. 26\n",
       "9. 34\n",
       "10. 17\n",
       "11. 28\n",
       "12. 14\n",
       "13. 20\n",
       "14. 24\n",
       "15. 28\n",
       "16. 26\n",
       "17. 34\n",
       "18. 34\n",
       "19. 46\n",
       "20. 26\n",
       "21. 36\n",
       "22. 60\n",
       "23. 80\n",
       "24. 20\n",
       "25. 26\n",
       "26. 54\n",
       "27. 32\n",
       "28. 40\n",
       "29. 32\n",
       "30. 40\n",
       "31. 50\n",
       "32. 42\n",
       "33. 56\n",
       "34. 76\n",
       "35. 84\n",
       "36. 36\n",
       "37. 46\n",
       "38. 68\n",
       "39. 32\n",
       "40. 48\n",
       "41. 52\n",
       "42. 56\n",
       "43. 64\n",
       "44. 66\n",
       "45. 54\n",
       "46. 70\n",
       "47. 92\n",
       "48. 93\n",
       "49. 120\n",
       "50. 85\n",
       "\n",
       "\n"
      ],
      "text/plain": [
       " [1]   2  10   4  22  16  10  18  26  34  17  28  14  20  24  28  26  34  34  46\n",
       "[20]  26  36  60  80  20  26  54  32  40  32  40  50  42  56  76  84  36  46  68\n",
       "[39]  32  48  52  56  64  66  54  70  92  93 120  85"
      ]
     },
     "metadata": {},
     "output_type": "display_data"
    }
   ],
   "source": [
    "dist\n"
   ]
  },
  {
   "cell_type": "code",
   "execution_count": 48,
   "id": "b22918f6",
   "metadata": {},
   "outputs": [
    {
     "data": {
      "image/png": "[encoded data removed]",
      "text/plain": [
       "Plot with title \"Histogram for 제동거리\""
      ]
     },
     "metadata": {
      "image/png": {
       "height": 420,
       "width": 420
      }
     },
     "output_type": "display_data"
    }
   ],
   "source": [
    "result = hist(dist,\n",
    "    main = 'Histogram for 제동거리',\n",
    "    xlab = '제동거리',\n",
    "    ylab = '빈도수',\n",
    "    border = 'blue',\n",
    "    col = 'green',\n",
    "    las = 2, \n",
    "    breaks = 5)"
   ]
  },
  {
   "cell_type": "code",
   "execution_count": 49,
   "id": "b2a802e3",
   "metadata": {},
   "outputs": [
    {
     "data": {
      "text/plain": [
       "$breaks\n",
       "[1]   0  20  40  60  80 100 120\n",
       "\n",
       "$counts\n",
       "[1] 10 18 11  6  4  1\n",
       "\n",
       "$density\n",
       "[1] 0.010 0.018 0.011 0.006 0.004 0.001\n",
       "\n",
       "$mids\n",
       "[1]  10  30  50  70  90 110\n",
       "\n",
       "$xname\n",
       "[1] \"dist\"\n",
       "\n",
       "$equidist\n",
       "[1] TRUE\n",
       "\n",
       "attr(,\"class\")\n",
       "[1] \"histogram\""
      ]
     },
     "metadata": {},
     "output_type": "display_data"
    }
   ],
   "source": [
    "result"
   ]
  },
  {
   "cell_type": "code",
   "execution_count": 57,
   "id": "74f13c6a",
   "metadata": {},
   "outputs": [
    {
     "ename": "ERROR",
     "evalue": "Error in names(freq) = result$breaks: attempt to set an attribute on NULL\n",
     "output_type": "error",
     "traceback": [
      "Error in names(freq) = result$breaks: attempt to set an attribute on NULL\nTraceback:\n"
     ]
    }
   ],
   "source": [
    "names(freq) = result$breaks"
   ]
  },
  {
   "cell_type": "code",
   "execution_count": 55,
   "id": "fdc2761f",
   "metadata": {},
   "outputs": [
    {
     "ename": "ERROR",
     "evalue": "Error in names(freq) = result$breaks[-1]: attempt to set an attribute on NULL\n",
     "output_type": "error",
     "traceback": [
      "Error in names(freq) = result$breaks[-1]: attempt to set an attribute on NULL\nTraceback:\n"
     ]
    }
   ],
   "source": [
    "freq = result$countsre\n",
    "names(freq) = result$breaks[-1]\n",
    "freq"
   ]
  },
  {
   "cell_type": "code",
   "execution_count": 59,
   "id": "5022ee32",
   "metadata": {},
   "outputs": [
    {
     "name": "stderr",
     "output_type": "stream",
     "text": [
      "Installing package into 'C:/Users/starl/AppData/Local/R/win-library/4.3'\n",
      "(as 'lib' is unspecified)\n",
      "\n"
     ]
    },
    {
     "name": "stdout",
     "output_type": "stream",
     "text": [
      "package 'Stat2Data' successfully unpacked and MD5 sums checked\n",
      "\n",
      "The downloaded binary packages are in\n",
      "\tC:\\Users\\starl\\AppData\\Local\\Temp\\RtmpWmOosR\\downloaded_packages\n"
     ]
    }
   ],
   "source": [
    "install.packages('Stat2Data')"
   ]
  },
  {
   "cell_type": "code",
   "execution_count": 60,
   "id": "7a85e8f8",
   "metadata": {},
   "outputs": [],
   "source": [
    "library(Stat2Data)"
   ]
  },
  {
   "cell_type": "code",
   "execution_count": 61,
   "id": "f1a6e066",
   "metadata": {},
   "outputs": [],
   "source": [
    "data(Diamonds)"
   ]
  },
  {
   "cell_type": "code",
   "execution_count": 62,
   "id": "2de3ca56",
   "metadata": {},
   "outputs": [],
   "source": [
    "ds = Diamonds$PricePerCt"
   ]
  },
  {
   "cell_type": "code",
   "execution_count": 63,
   "id": "fbcc66a3",
   "metadata": {},
   "outputs": [
    {
     "data": {
      "text/html": [
       "<style>\n",
       ".list-inline {list-style: none; margin:0; padding: 0}\n",
       ".list-inline>li {display: inline-block}\n",
       ".list-inline>li:not(:last-child)::after {content: \"\\00b7\"; padding: 0 .5ex}\n",
       "</style>\n",
       "<ol class=list-inline><li>6693.3</li><li>3159</li><li>1755</li><li>3159</li><li>4758.8</li><li>2895.8</li><li>2457</li><li>2457</li><li>3402</li><li>5062.5</li><li>3496.5</li><li>4252.5</li><li>4158</li><li>2983.5</li><li>3969</li><li>3422.3</li><li>3422.3</li><li>3422.3</li><li>2937.6</li><li>2983.5</li><li>3121.2</li><li>3213</li><li>4039.2</li><li>3597.8</li><li>2713.5</li><li>2351.7</li><li>3685.5</li><li>3422.3</li><li>3874.5</li><li>3307.5</li><li>1984.5</li><li>2332.8</li><li>4036.5</li><li>3591</li><li>3334.5</li><li>3334.5</li><li>3334.5</li><li>2268</li><li>6048</li><li>3780</li><li>2740.5</li><li>3969</li><li>5197.5</li><li>4314.6</li><li>4131</li><li>4681.8</li><li>4131</li><li>4536</li><li>5197.5</li><li>4681.8</li><li>4252.5</li><li>4556.3</li><li>3798.9</li><li>4860</li><li>4036.5</li><li>4758.8</li><li>3969</li><li>3437.1</li><li>3213</li><li>4556.3</li><li>3969</li><li>4082.4</li><li>3773.3</li><li>7695</li><li>4063.5</li><li>3948.8</li><li>3307.5</li><li>1782</li><li>3693.6</li><li>1890</li><li>4063.5</li><li>3948.8</li><li>3969</li><li>3969</li><li>3948.8</li><li>3499.2</li><li>4374</li><li>4819.5</li><li>3496.5</li><li>8208</li><li>4374</li><li>3969</li><li>4434.8</li><li>4252.5</li><li>5467.5</li><li>4738.5</li><li>4613</li><li>4131</li><li>4212</li><li>4932.9</li><li>4932.9</li><li>5089.5</li><li>4854.6</li><li>4738.5</li><li>4592.7</li><li>5197.5</li><li>4819.5</li><li>4556.3</li><li>5089.5</li><li>4592.7</li><li>5832</li><li>4665.6</li><li>4251.2</li><li>5197.5</li><li>4819.5</li><li>3861</li><li>3979.8</li><li>4124.3</li><li>5346</li><li>3979.8</li><li>4434.8</li><li>3499.2</li><li>4884.3</li><li>5734.8</li><li>5184</li><li>5346</li><li>4665.6</li><li>6318</li><li>3979.8</li><li>4730.4</li><li>2754</li><li>5686.2</li><li>4252.5</li><li>5054.4</li><li>4353.8</li><li>4630.5</li><li>4276.8</li><li>5248.1</li><li>4957.2</li><li>4568.4</li><li>5163.8</li><li>4860</li><li>4989.6</li><li>4860</li><li>4644</li><li>4151.3</li><li>5540.4</li><li>5163.8</li><li>4568.4</li><li>4758.8</li><li>4568.4</li><li>4441.5</li><li>4568.4</li><li>3645</li><li>3442.5</li><li>3037.5</li><li>4758.8</li><li>5054.4</li><li>5859</li><li>5494.5</li><li>5973.8</li><li>5973.8</li><li>6212.7</li><li>5054.4</li><li>5292</li><li>4471.2</li><li>6844.5</li><li>6176.3</li><li>5481</li><li>5568.8</li><li>5734.8</li><li>5248.8</li><li>6581.3</li><li>12757.5</li><li>8147.3</li><li>7087.5</li><li>4895.1</li><li>4957.2</li><li>9147.6</li><li>7484.4</li><li>6415.2</li><li>9072</li><li>7897.5</li><li>7686.9</li><li>9298.8</li><li>6860.7</li><li>6949.8</li><li>12117.6</li><li>12117.6</li><li>7095.6</li><li>6378.8</li><li>8108.1</li><li>7581.6</li><li>8424</li><li>7095.6</li><li>6581.3</li><li>5953.5</li><li>8213.4</li><li>8424</li><li>7020</li><li>9147.6</li><li>8424</li><li>9298.8</li><li>8424</li><li>7079.4</li><li>5366.3</li><li>9185.4</li><li>8739.9</li><li>7776</li><li>6779.7</li><li>9412.2</li><li>9412.2</li><li>8634.6</li><li>8634.6</li><li>5509.4</li><li>9298.8</li><li>9525.6</li><li>10084.5</li><li>5821.2</li><li>10335.6</li><li>8627.9</li><li>8845.2</li><li>8845.2</li><li>10405.8</li><li>9639</li><li>8640</li><li>6372</li><li>12393</li><li>9055.8</li><li>8950.5</li><li>6372</li><li>7114.5</li><li>7365.6</li><li>14158.8</li><li>8010.9</li><li>9161.1</li><li>7365.6</li><li>7897.5</li><li>4050</li><li>10187.1</li><li>9563.4</li><li>7588.4</li><li>11793.6</li><li>5764.5</li><li>7068.6</li><li>15525</li><li>10395</li><li>10584</li><li>8505</li><li>9563.4</li><li>11232</li><li>12213.5</li><li>5589</li><li>9416.3</li><li>9077.4</li><li>11880</li><li>10805.4</li><li>9963</li><li>9278.6</li><li>17367.8</li><li>9396</li><li>11340</li><li>16023.2</li><li>16409.3</li><li>10405.8</li><li>12213.5</li><li>8964</li><li>3044.3</li><li>4131</li><li>4475.3</li><li>4212</li><li>7749</li><li>8410.5</li><li>6669</li><li>2511</li><li>2511</li><li>3321</li><li>2754</li><li>3948.8</li><li>3773.3</li><li>4650.8</li><li>4268.7</li><li>4475.3</li><li>4650.8</li><li>4131</li><li>4082.4</li><li>3948.8</li><li>4212</li><li>4212</li><li>3773.3</li><li>5197.5</li><li>4738.5</li><li>4387.5</li><li>4455</li><li>4436.1</li><li>5427</li><li>5670</li><li>6230.3</li><li>5942.7</li><li>6038.6</li><li>6230.3</li><li>5018</li><li>8078.4</li><li>5969.7</li><li>6134.4</li><li>8553.6</li><li>5994</li><li>5994</li><li>3442.5</li><li>7188.8</li><li>7188.8</li><li>4860</li><li>7265.7</li><li>7055.1</li><li>6264</li><li>7371</li><li>6528.6</li><li>5580.9</li><li>6528.6</li><li>7668</li><li>7055.1</li><li>7236</li><li>6528.6</li><li>6277.5</li><li>7692.3</li><li>5366.3</li><li>5400</li><li>7188.8</li><li>6264</li><li>7695</li><li>6696</li><li>5973.8</li><li>7476.3</li><li>6719</li><li>7686.9</li><li>8413.2</li><li>8170.2</li><li>7581.6</li><li>7897.5</li><li>8627.9</li><li>8424</li><li>9055.8</li><li>9963</li><li>8213.4</li><li>10189.8</li><li>11340</li><li>11037.6</li><li>10428.8</li><li>14175</li><li>10428.8</li><li>12757.5</li><li>17671.5</li><li>14782.5</li><li>17313.8</li><li>16852.1</li><li>4826.3</li><li>3645</li><li>5177.3</li><li>5607.9</li><li>7634.3</li><li>8081.1</li></ol>\n"
      ],
      "text/latex": [
       "\\begin{enumerate*}\n",
       "\\item 6693.3\n",
       "\\item 3159\n",
       "\\item 1755\n",
       "\\item 3159\n",
       "\\item 4758.8\n",
       "\\item 2895.8\n",
       "\\item 2457\n",
       "\\item 2457\n",
       "\\item 3402\n",
       "\\item 5062.5\n",
       "\\item 3496.5\n",
       "\\item 4252.5\n",
       "\\item 4158\n",
       "\\item 2983.5\n",
       "\\item 3969\n",
       "\\item 3422.3\n",
       "\\item 3422.3\n",
       "\\item 3422.3\n",
       "\\item 2937.6\n",
       "\\item 2983.5\n",
       "\\item 3121.2\n",
       "\\item 3213\n",
       "\\item 4039.2\n",
       "\\item 3597.8\n",
       "\\item 2713.5\n",
       "\\item 2351.7\n",
       "\\item 3685.5\n",
       "\\item 3422.3\n",
       "\\item 3874.5\n",
       "\\item 3307.5\n",
       "\\item 1984.5\n",
       "\\item 2332.8\n",
       "\\item 4036.5\n",
       "\\item 3591\n",
       "\\item 3334.5\n",
       "\\item 3334.5\n",
       "\\item 3334.5\n",
       "\\item 2268\n",
       "\\item 6048\n",
       "\\item 3780\n",
       "\\item 2740.5\n",
       "\\item 3969\n",
       "\\item 5197.5\n",
       "\\item 4314.6\n",
       "\\item 4131\n",
       "\\item 4681.8\n",
       "\\item 4131\n",
       "\\item 4536\n",
       "\\item 5197.5\n",
       "\\item 4681.8\n",
       "\\item 4252.5\n",
       "\\item 4556.3\n",
       "\\item 3798.9\n",
       "\\item 4860\n",
       "\\item 4036.5\n",
       "\\item 4758.8\n",
       "\\item 3969\n",
       "\\item 3437.1\n",
       "\\item 3213\n",
       "\\item 4556.3\n",
       "\\item 3969\n",
       "\\item 4082.4\n",
       "\\item 3773.3\n",
       "\\item 7695\n",
       "\\item 4063.5\n",
       "\\item 3948.8\n",
       "\\item 3307.5\n",
       "\\item 1782\n",
       "\\item 3693.6\n",
       "\\item 1890\n",
       "\\item 4063.5\n",
       "\\item 3948.8\n",
       "\\item 3969\n",
       "\\item 3969\n",
       "\\item 3948.8\n",
       "\\item 3499.2\n",
       "\\item 4374\n",
       "\\item 4819.5\n",
       "\\item 3496.5\n",
       "\\item 8208\n",
       "\\item 4374\n",
       "\\item 3969\n",
       "\\item 4434.8\n",
       "\\item 4252.5\n",
       "\\item 5467.5\n",
       "\\item 4738.5\n",
       "\\item 4613\n",
       "\\item 4131\n",
       "\\item 4212\n",
       "\\item 4932.9\n",
       "\\item 4932.9\n",
       "\\item 5089.5\n",
       "\\item 4854.6\n",
       "\\item 4738.5\n",
       "\\item 4592.7\n",
       "\\item 5197.5\n",
       "\\item 4819.5\n",
       "\\item 4556.3\n",
       "\\item 5089.5\n",
       "\\item 4592.7\n",
       "\\item 5832\n",
       "\\item 4665.6\n",
       "\\item 4251.2\n",
       "\\item 5197.5\n",
       "\\item 4819.5\n",
       "\\item 3861\n",
       "\\item 3979.8\n",
       "\\item 4124.3\n",
       "\\item 5346\n",
       "\\item 3979.8\n",
       "\\item 4434.8\n",
       "\\item 3499.2\n",
       "\\item 4884.3\n",
       "\\item 5734.8\n",
       "\\item 5184\n",
       "\\item 5346\n",
       "\\item 4665.6\n",
       "\\item 6318\n",
       "\\item 3979.8\n",
       "\\item 4730.4\n",
       "\\item 2754\n",
       "\\item 5686.2\n",
       "\\item 4252.5\n",
       "\\item 5054.4\n",
       "\\item 4353.8\n",
       "\\item 4630.5\n",
       "\\item 4276.8\n",
       "\\item 5248.1\n",
       "\\item 4957.2\n",
       "\\item 4568.4\n",
       "\\item 5163.8\n",
       "\\item 4860\n",
       "\\item 4989.6\n",
       "\\item 4860\n",
       "\\item 4644\n",
       "\\item 4151.3\n",
       "\\item 5540.4\n",
       "\\item 5163.8\n",
       "\\item 4568.4\n",
       "\\item 4758.8\n",
       "\\item 4568.4\n",
       "\\item 4441.5\n",
       "\\item 4568.4\n",
       "\\item 3645\n",
       "\\item 3442.5\n",
       "\\item 3037.5\n",
       "\\item 4758.8\n",
       "\\item 5054.4\n",
       "\\item 5859\n",
       "\\item 5494.5\n",
       "\\item 5973.8\n",
       "\\item 5973.8\n",
       "\\item 6212.7\n",
       "\\item 5054.4\n",
       "\\item 5292\n",
       "\\item 4471.2\n",
       "\\item 6844.5\n",
       "\\item 6176.3\n",
       "\\item 5481\n",
       "\\item 5568.8\n",
       "\\item 5734.8\n",
       "\\item 5248.8\n",
       "\\item 6581.3\n",
       "\\item 12757.5\n",
       "\\item 8147.3\n",
       "\\item 7087.5\n",
       "\\item 4895.1\n",
       "\\item 4957.2\n",
       "\\item 9147.6\n",
       "\\item 7484.4\n",
       "\\item 6415.2\n",
       "\\item 9072\n",
       "\\item 7897.5\n",
       "\\item 7686.9\n",
       "\\item 9298.8\n",
       "\\item 6860.7\n",
       "\\item 6949.8\n",
       "\\item 12117.6\n",
       "\\item 12117.6\n",
       "\\item 7095.6\n",
       "\\item 6378.8\n",
       "\\item 8108.1\n",
       "\\item 7581.6\n",
       "\\item 8424\n",
       "\\item 7095.6\n",
       "\\item 6581.3\n",
       "\\item 5953.5\n",
       "\\item 8213.4\n",
       "\\item 8424\n",
       "\\item 7020\n",
       "\\item 9147.6\n",
       "\\item 8424\n",
       "\\item 9298.8\n",
       "\\item 8424\n",
       "\\item 7079.4\n",
       "\\item 5366.3\n",
       "\\item 9185.4\n",
       "\\item 8739.9\n",
       "\\item 7776\n",
       "\\item 6779.7\n",
       "\\item 9412.2\n",
       "\\item 9412.2\n",
       "\\item 8634.6\n",
       "\\item 8634.6\n",
       "\\item 5509.4\n",
       "\\item 9298.8\n",
       "\\item 9525.6\n",
       "\\item 10084.5\n",
       "\\item 5821.2\n",
       "\\item 10335.6\n",
       "\\item 8627.9\n",
       "\\item 8845.2\n",
       "\\item 8845.2\n",
       "\\item 10405.8\n",
       "\\item 9639\n",
       "\\item 8640\n",
       "\\item 6372\n",
       "\\item 12393\n",
       "\\item 9055.8\n",
       "\\item 8950.5\n",
       "\\item 6372\n",
       "\\item 7114.5\n",
       "\\item 7365.6\n",
       "\\item 14158.8\n",
       "\\item 8010.9\n",
       "\\item 9161.1\n",
       "\\item 7365.6\n",
       "\\item 7897.5\n",
       "\\item 4050\n",
       "\\item 10187.1\n",
       "\\item 9563.4\n",
       "\\item 7588.4\n",
       "\\item 11793.6\n",
       "\\item 5764.5\n",
       "\\item 7068.6\n",
       "\\item 15525\n",
       "\\item 10395\n",
       "\\item 10584\n",
       "\\item 8505\n",
       "\\item 9563.4\n",
       "\\item 11232\n",
       "\\item 12213.5\n",
       "\\item 5589\n",
       "\\item 9416.3\n",
       "\\item 9077.4\n",
       "\\item 11880\n",
       "\\item 10805.4\n",
       "\\item 9963\n",
       "\\item 9278.6\n",
       "\\item 17367.8\n",
       "\\item 9396\n",
       "\\item 11340\n",
       "\\item 16023.2\n",
       "\\item 16409.3\n",
       "\\item 10405.8\n",
       "\\item 12213.5\n",
       "\\item 8964\n",
       "\\item 3044.3\n",
       "\\item 4131\n",
       "\\item 4475.3\n",
       "\\item 4212\n",
       "\\item 7749\n",
       "\\item 8410.5\n",
       "\\item 6669\n",
       "\\item 2511\n",
       "\\item 2511\n",
       "\\item 3321\n",
       "\\item 2754\n",
       "\\item 3948.8\n",
       "\\item 3773.3\n",
       "\\item 4650.8\n",
       "\\item 4268.7\n",
       "\\item 4475.3\n",
       "\\item 4650.8\n",
       "\\item 4131\n",
       "\\item 4082.4\n",
       "\\item 3948.8\n",
       "\\item 4212\n",
       "\\item 4212\n",
       "\\item 3773.3\n",
       "\\item 5197.5\n",
       "\\item 4738.5\n",
       "\\item 4387.5\n",
       "\\item 4455\n",
       "\\item 4436.1\n",
       "\\item 5427\n",
       "\\item 5670\n",
       "\\item 6230.3\n",
       "\\item 5942.7\n",
       "\\item 6038.6\n",
       "\\item 6230.3\n",
       "\\item 5018\n",
       "\\item 8078.4\n",
       "\\item 5969.7\n",
       "\\item 6134.4\n",
       "\\item 8553.6\n",
       "\\item 5994\n",
       "\\item 5994\n",
       "\\item 3442.5\n",
       "\\item 7188.8\n",
       "\\item 7188.8\n",
       "\\item 4860\n",
       "\\item 7265.7\n",
       "\\item 7055.1\n",
       "\\item 6264\n",
       "\\item 7371\n",
       "\\item 6528.6\n",
       "\\item 5580.9\n",
       "\\item 6528.6\n",
       "\\item 7668\n",
       "\\item 7055.1\n",
       "\\item 7236\n",
       "\\item 6528.6\n",
       "\\item 6277.5\n",
       "\\item 7692.3\n",
       "\\item 5366.3\n",
       "\\item 5400\n",
       "\\item 7188.8\n",
       "\\item 6264\n",
       "\\item 7695\n",
       "\\item 6696\n",
       "\\item 5973.8\n",
       "\\item 7476.3\n",
       "\\item 6719\n",
       "\\item 7686.9\n",
       "\\item 8413.2\n",
       "\\item 8170.2\n",
       "\\item 7581.6\n",
       "\\item 7897.5\n",
       "\\item 8627.9\n",
       "\\item 8424\n",
       "\\item 9055.8\n",
       "\\item 9963\n",
       "\\item 8213.4\n",
       "\\item 10189.8\n",
       "\\item 11340\n",
       "\\item 11037.6\n",
       "\\item 10428.8\n",
       "\\item 14175\n",
       "\\item 10428.8\n",
       "\\item 12757.5\n",
       "\\item 17671.5\n",
       "\\item 14782.5\n",
       "\\item 17313.8\n",
       "\\item 16852.1\n",
       "\\item 4826.3\n",
       "\\item 3645\n",
       "\\item 5177.3\n",
       "\\item 5607.9\n",
       "\\item 7634.3\n",
       "\\item 8081.1\n",
       "\\end{enumerate*}\n"
      ],
      "text/markdown": [
       "1. 6693.3\n",
       "2. 3159\n",
       "3. 1755\n",
       "4. 3159\n",
       "5. 4758.8\n",
       "6. 2895.8\n",
       "7. 2457\n",
       "8. 2457\n",
       "9. 3402\n",
       "10. 5062.5\n",
       "11. 3496.5\n",
       "12. 4252.5\n",
       "13. 4158\n",
       "14. 2983.5\n",
       "15. 3969\n",
       "16. 3422.3\n",
       "17. 3422.3\n",
       "18. 3422.3\n",
       "19. 2937.6\n",
       "20. 2983.5\n",
       "21. 3121.2\n",
       "22. 3213\n",
       "23. 4039.2\n",
       "24. 3597.8\n",
       "25. 2713.5\n",
       "26. 2351.7\n",
       "27. 3685.5\n",
       "28. 3422.3\n",
       "29. 3874.5\n",
       "30. 3307.5\n",
       "31. 1984.5\n",
       "32. 2332.8\n",
       "33. 4036.5\n",
       "34. 3591\n",
       "35. 3334.5\n",
       "36. 3334.5\n",
       "37. 3334.5\n",
       "38. 2268\n",
       "39. 6048\n",
       "40. 3780\n",
       "41. 2740.5\n",
       "42. 3969\n",
       "43. 5197.5\n",
       "44. 4314.6\n",
       "45. 4131\n",
       "46. 4681.8\n",
       "47. 4131\n",
       "48. 4536\n",
       "49. 5197.5\n",
       "50. 4681.8\n",
       "51. 4252.5\n",
       "52. 4556.3\n",
       "53. 3798.9\n",
       "54. 4860\n",
       "55. 4036.5\n",
       "56. 4758.8\n",
       "57. 3969\n",
       "58. 3437.1\n",
       "59. 3213\n",
       "60. 4556.3\n",
       "61. 3969\n",
       "62. 4082.4\n",
       "63. 3773.3\n",
       "64. 7695\n",
       "65. 4063.5\n",
       "66. 3948.8\n",
       "67. 3307.5\n",
       "68. 1782\n",
       "69. 3693.6\n",
       "70. 1890\n",
       "71. 4063.5\n",
       "72. 3948.8\n",
       "73. 3969\n",
       "74. 3969\n",
       "75. 3948.8\n",
       "76. 3499.2\n",
       "77. 4374\n",
       "78. 4819.5\n",
       "79. 3496.5\n",
       "80. 8208\n",
       "81. 4374\n",
       "82. 3969\n",
       "83. 4434.8\n",
       "84. 4252.5\n",
       "85. 5467.5\n",
       "86. 4738.5\n",
       "87. 4613\n",
       "88. 4131\n",
       "89. 4212\n",
       "90. 4932.9\n",
       "91. 4932.9\n",
       "92. 5089.5\n",
       "93. 4854.6\n",
       "94. 4738.5\n",
       "95. 4592.7\n",
       "96. 5197.5\n",
       "97. 4819.5\n",
       "98. 4556.3\n",
       "99. 5089.5\n",
       "100. 4592.7\n",
       "101. 5832\n",
       "102. 4665.6\n",
       "103. 4251.2\n",
       "104. 5197.5\n",
       "105. 4819.5\n",
       "106. 3861\n",
       "107. 3979.8\n",
       "108. 4124.3\n",
       "109. 5346\n",
       "110. 3979.8\n",
       "111. 4434.8\n",
       "112. 3499.2\n",
       "113. 4884.3\n",
       "114. 5734.8\n",
       "115. 5184\n",
       "116. 5346\n",
       "117. 4665.6\n",
       "118. 6318\n",
       "119. 3979.8\n",
       "120. 4730.4\n",
       "121. 2754\n",
       "122. 5686.2\n",
       "123. 4252.5\n",
       "124. 5054.4\n",
       "125. 4353.8\n",
       "126. 4630.5\n",
       "127. 4276.8\n",
       "128. 5248.1\n",
       "129. 4957.2\n",
       "130. 4568.4\n",
       "131. 5163.8\n",
       "132. 4860\n",
       "133. 4989.6\n",
       "134. 4860\n",
       "135. 4644\n",
       "136. 4151.3\n",
       "137. 5540.4\n",
       "138. 5163.8\n",
       "139. 4568.4\n",
       "140. 4758.8\n",
       "141. 4568.4\n",
       "142. 4441.5\n",
       "143. 4568.4\n",
       "144. 3645\n",
       "145. 3442.5\n",
       "146. 3037.5\n",
       "147. 4758.8\n",
       "148. 5054.4\n",
       "149. 5859\n",
       "150. 5494.5\n",
       "151. 5973.8\n",
       "152. 5973.8\n",
       "153. 6212.7\n",
       "154. 5054.4\n",
       "155. 5292\n",
       "156. 4471.2\n",
       "157. 6844.5\n",
       "158. 6176.3\n",
       "159. 5481\n",
       "160. 5568.8\n",
       "161. 5734.8\n",
       "162. 5248.8\n",
       "163. 6581.3\n",
       "164. 12757.5\n",
       "165. 8147.3\n",
       "166. 7087.5\n",
       "167. 4895.1\n",
       "168. 4957.2\n",
       "169. 9147.6\n",
       "170. 7484.4\n",
       "171. 6415.2\n",
       "172. 9072\n",
       "173. 7897.5\n",
       "174. 7686.9\n",
       "175. 9298.8\n",
       "176. 6860.7\n",
       "177. 6949.8\n",
       "178. 12117.6\n",
       "179. 12117.6\n",
       "180. 7095.6\n",
       "181. 6378.8\n",
       "182. 8108.1\n",
       "183. 7581.6\n",
       "184. 8424\n",
       "185. 7095.6\n",
       "186. 6581.3\n",
       "187. 5953.5\n",
       "188. 8213.4\n",
       "189. 8424\n",
       "190. 7020\n",
       "191. 9147.6\n",
       "192. 8424\n",
       "193. 9298.8\n",
       "194. 8424\n",
       "195. 7079.4\n",
       "196. 5366.3\n",
       "197. 9185.4\n",
       "198. 8739.9\n",
       "199. 7776\n",
       "200. 6779.7\n",
       "201. 9412.2\n",
       "202. 9412.2\n",
       "203. 8634.6\n",
       "204. 8634.6\n",
       "205. 5509.4\n",
       "206. 9298.8\n",
       "207. 9525.6\n",
       "208. 10084.5\n",
       "209. 5821.2\n",
       "210. 10335.6\n",
       "211. 8627.9\n",
       "212. 8845.2\n",
       "213. 8845.2\n",
       "214. 10405.8\n",
       "215. 9639\n",
       "216. 8640\n",
       "217. 6372\n",
       "218. 12393\n",
       "219. 9055.8\n",
       "220. 8950.5\n",
       "221. 6372\n",
       "222. 7114.5\n",
       "223. 7365.6\n",
       "224. 14158.8\n",
       "225. 8010.9\n",
       "226. 9161.1\n",
       "227. 7365.6\n",
       "228. 7897.5\n",
       "229. 4050\n",
       "230. 10187.1\n",
       "231. 9563.4\n",
       "232. 7588.4\n",
       "233. 11793.6\n",
       "234. 5764.5\n",
       "235. 7068.6\n",
       "236. 15525\n",
       "237. 10395\n",
       "238. 10584\n",
       "239. 8505\n",
       "240. 9563.4\n",
       "241. 11232\n",
       "242. 12213.5\n",
       "243. 5589\n",
       "244. 9416.3\n",
       "245. 9077.4\n",
       "246. 11880\n",
       "247. 10805.4\n",
       "248. 9963\n",
       "249. 9278.6\n",
       "250. 17367.8\n",
       "251. 9396\n",
       "252. 11340\n",
       "253. 16023.2\n",
       "254. 16409.3\n",
       "255. 10405.8\n",
       "256. 12213.5\n",
       "257. 8964\n",
       "258. 3044.3\n",
       "259. 4131\n",
       "260. 4475.3\n",
       "261. 4212\n",
       "262. 7749\n",
       "263. 8410.5\n",
       "264. 6669\n",
       "265. 2511\n",
       "266. 2511\n",
       "267. 3321\n",
       "268. 2754\n",
       "269. 3948.8\n",
       "270. 3773.3\n",
       "271. 4650.8\n",
       "272. 4268.7\n",
       "273. 4475.3\n",
       "274. 4650.8\n",
       "275. 4131\n",
       "276. 4082.4\n",
       "277. 3948.8\n",
       "278. 4212\n",
       "279. 4212\n",
       "280. 3773.3\n",
       "281. 5197.5\n",
       "282. 4738.5\n",
       "283. 4387.5\n",
       "284. 4455\n",
       "285. 4436.1\n",
       "286. 5427\n",
       "287. 5670\n",
       "288. 6230.3\n",
       "289. 5942.7\n",
       "290. 6038.6\n",
       "291. 6230.3\n",
       "292. 5018\n",
       "293. 8078.4\n",
       "294. 5969.7\n",
       "295. 6134.4\n",
       "296. 8553.6\n",
       "297. 5994\n",
       "298. 5994\n",
       "299. 3442.5\n",
       "300. 7188.8\n",
       "301. 7188.8\n",
       "302. 4860\n",
       "303. 7265.7\n",
       "304. 7055.1\n",
       "305. 6264\n",
       "306. 7371\n",
       "307. 6528.6\n",
       "308. 5580.9\n",
       "309. 6528.6\n",
       "310. 7668\n",
       "311. 7055.1\n",
       "312. 7236\n",
       "313. 6528.6\n",
       "314. 6277.5\n",
       "315. 7692.3\n",
       "316. 5366.3\n",
       "317. 5400\n",
       "318. 7188.8\n",
       "319. 6264\n",
       "320. 7695\n",
       "321. 6696\n",
       "322. 5973.8\n",
       "323. 7476.3\n",
       "324. 6719\n",
       "325. 7686.9\n",
       "326. 8413.2\n",
       "327. 8170.2\n",
       "328. 7581.6\n",
       "329. 7897.5\n",
       "330. 8627.9\n",
       "331. 8424\n",
       "332. 9055.8\n",
       "333. 9963\n",
       "334. 8213.4\n",
       "335. 10189.8\n",
       "336. 11340\n",
       "337. 11037.6\n",
       "338. 10428.8\n",
       "339. 14175\n",
       "340. 10428.8\n",
       "341. 12757.5\n",
       "342. 17671.5\n",
       "343. 14782.5\n",
       "344. 17313.8\n",
       "345. 16852.1\n",
       "346. 4826.3\n",
       "347. 3645\n",
       "348. 5177.3\n",
       "349. 5607.9\n",
       "350. 7634.3\n",
       "351. 8081.1\n",
       "\n",
       "\n"
      ],
      "text/plain": [
       "  [1]  6693.3  3159.0  1755.0  3159.0  4758.8  2895.8  2457.0  2457.0  3402.0\n",
       " [10]  5062.5  3496.5  4252.5  4158.0  2983.5  3969.0  3422.3  3422.3  3422.3\n",
       " [19]  2937.6  2983.5  3121.2  3213.0  4039.2  3597.8  2713.5  2351.7  3685.5\n",
       " [28]  3422.3  3874.5  3307.5  1984.5  2332.8  4036.5  3591.0  3334.5  3334.5\n",
       " [37]  3334.5  2268.0  6048.0  3780.0  2740.5  3969.0  5197.5  4314.6  4131.0\n",
       " [46]  4681.8  4131.0  4536.0  5197.5  4681.8  4252.5  4556.3  3798.9  4860.0\n",
       " [55]  4036.5  4758.8  3969.0  3437.1  3213.0  4556.3  3969.0  4082.4  3773.3\n",
       " [64]  7695.0  4063.5  3948.8  3307.5  1782.0  3693.6  1890.0  4063.5  3948.8\n",
       " [73]  3969.0  3969.0  3948.8  3499.2  4374.0  4819.5  3496.5  8208.0  4374.0\n",
       " [82]  3969.0  4434.8  4252.5  5467.5  4738.5  4613.0  4131.0  4212.0  4932.9\n",
       " [91]  4932.9  5089.5  4854.6  4738.5  4592.7  5197.5  4819.5  4556.3  5089.5\n",
       "[100]  4592.7  5832.0  4665.6  4251.2  5197.5  4819.5  3861.0  3979.8  4124.3\n",
       "[109]  5346.0  3979.8  4434.8  3499.2  4884.3  5734.8  5184.0  5346.0  4665.6\n",
       "[118]  6318.0  3979.8  4730.4  2754.0  5686.2  4252.5  5054.4  4353.8  4630.5\n",
       "[127]  4276.8  5248.1  4957.2  4568.4  5163.8  4860.0  4989.6  4860.0  4644.0\n",
       "[136]  4151.3  5540.4  5163.8  4568.4  4758.8  4568.4  4441.5  4568.4  3645.0\n",
       "[145]  3442.5  3037.5  4758.8  5054.4  5859.0  5494.5  5973.8  5973.8  6212.7\n",
       "[154]  5054.4  5292.0  4471.2  6844.5  6176.3  5481.0  5568.8  5734.8  5248.8\n",
       "[163]  6581.3 12757.5  8147.3  7087.5  4895.1  4957.2  9147.6  7484.4  6415.2\n",
       "[172]  9072.0  7897.5  7686.9  9298.8  6860.7  6949.8 12117.6 12117.6  7095.6\n",
       "[181]  6378.8  8108.1  7581.6  8424.0  7095.6  6581.3  5953.5  8213.4  8424.0\n",
       "[190]  7020.0  9147.6  8424.0  9298.8  8424.0  7079.4  5366.3  9185.4  8739.9\n",
       "[199]  7776.0  6779.7  9412.2  9412.2  8634.6  8634.6  5509.4  9298.8  9525.6\n",
       "[208] 10084.5  5821.2 10335.6  8627.9  8845.2  8845.2 10405.8  9639.0  8640.0\n",
       "[217]  6372.0 12393.0  9055.8  8950.5  6372.0  7114.5  7365.6 14158.8  8010.9\n",
       "[226]  9161.1  7365.6  7897.5  4050.0 10187.1  9563.4  7588.4 11793.6  5764.5\n",
       "[235]  7068.6 15525.0 10395.0 10584.0  8505.0  9563.4 11232.0 12213.5  5589.0\n",
       "[244]  9416.3  9077.4 11880.0 10805.4  9963.0  9278.6 17367.8  9396.0 11340.0\n",
       "[253] 16023.2 16409.3 10405.8 12213.5  8964.0  3044.3  4131.0  4475.3  4212.0\n",
       "[262]  7749.0  8410.5  6669.0  2511.0  2511.0  3321.0  2754.0  3948.8  3773.3\n",
       "[271]  4650.8  4268.7  4475.3  4650.8  4131.0  4082.4  3948.8  4212.0  4212.0\n",
       "[280]  3773.3  5197.5  4738.5  4387.5  4455.0  4436.1  5427.0  5670.0  6230.3\n",
       "[289]  5942.7  6038.6  6230.3  5018.0  8078.4  5969.7  6134.4  8553.6  5994.0\n",
       "[298]  5994.0  3442.5  7188.8  7188.8  4860.0  7265.7  7055.1  6264.0  7371.0\n",
       "[307]  6528.6  5580.9  6528.6  7668.0  7055.1  7236.0  6528.6  6277.5  7692.3\n",
       "[316]  5366.3  5400.0  7188.8  6264.0  7695.0  6696.0  5973.8  7476.3  6719.0\n",
       "[325]  7686.9  8413.2  8170.2  7581.6  7897.5  8627.9  8424.0  9055.8  9963.0\n",
       "[334]  8213.4 10189.8 11340.0 11037.6 10428.8 14175.0 10428.8 12757.5 17671.5\n",
       "[343] 14782.5 17313.8 16852.1  4826.3  3645.0  5177.3  5607.9  7634.3  8081.1"
      ]
     },
     "metadata": {},
     "output_type": "display_data"
    }
   ],
   "source": [
    "ds"
   ]
  },
  {
   "cell_type": "code",
   "execution_count": 64,
   "id": "c208304a",
   "metadata": {},
   "outputs": [
    {
     "name": "stderr",
     "output_type": "stream",
     "text": [
      "Warning message in plot.window(xlim, ylim, \"\", ...):\n",
      "\"\"maain\" is not a graphical parameter\"\n",
      "Warning message in title(main = main, sub = sub, xlab = xlab, ylab = ylab, ...):\n",
      "\"\"maain\" is not a graphical parameter\"\n",
      "Warning message in axis(1, ...):\n",
      "\"\"maain\" is not a graphical parameter\"\n",
      "Warning message in axis(2, at = yt, ...):\n",
      "\"\"maain\" is not a graphical parameter\"\n"
     ]
    },
    {
     "data": {
      "image/png": "[encoded data removed]",
      "text/plain": [
       "Plot with title \"Histogram of ds\""
      ]
     },
     "metadata": {
      "image/png": {
       "height": 420,
       "width": 420
      }
     },
     "output_type": "display_data"
    }
   ],
   "source": [
    "hist(ds, maain ='캐럿당 가격 분포',\n",
    "    breaks = 9)"
   ]
  },
  {
   "cell_type": "code",
   "execution_count": 65,
   "id": "4b589284",
   "metadata": {},
   "outputs": [],
   "source": [
    "color = rep('#a8dadc',9\n",
    "           )"
   ]
  },
  {
   "cell_type": "code",
   "execution_count": 66,
   "id": "55a75a06",
   "metadata": {},
   "outputs": [],
   "source": [
    "color[3] = '#1d3557'"
   ]
  },
  {
   "cell_type": "code",
   "execution_count": 68,
   "id": "c46c761b",
   "metadata": {},
   "outputs": [
    {
     "name": "stderr",
     "output_type": "stream",
     "text": [
      "Warning message in plot.window(xlim, ylim, \"\", ...):\n",
      "\"\"maain\" is not a graphical parameter\"\n",
      "Warning message in title(main = main, sub = sub, xlab = xlab, ylab = ylab, ...):\n",
      "\"\"maain\" is not a graphical parameter\"\n",
      "Warning message in axis(1, ...):\n",
      "\"\"maain\" is not a graphical parameter\"\n",
      "Warning message in axis(2, at = yt, ...):\n",
      "\"\"maain\" is not a graphical parameter\"\n"
     ]
    },
    {
     "data": {
      "image/png": "[encoded data removed]",
      "text/plain": [
       "Plot with title \"Histogram of ds\""
      ]
     },
     "metadata": {
      "image/png": {
       "height": 420,
       "width": 420
      }
     },
     "output_type": "display_data"
    }
   ],
   "source": [
    "hist(ds, maain ='캐럿당 가격 분포',\n",
    "    breaks = 9, col = color)"
   ]
  },
  {
   "cell_type": "code",
   "execution_count": 69,
   "id": "3076f0cd",
   "metadata": {},
   "outputs": [],
   "source": [
    "ds = Chile"
   ]
  },
  {
   "cell_type": "code",
   "execution_count": 70,
   "id": "7fbd4c18",
   "metadata": {},
   "outputs": [],
   "source": [
    "colors = rainbow(20)"
   ]
  },
  {
   "cell_type": "code",
   "execution_count": 71,
   "id": "449388c9",
   "metadata": {},
   "outputs": [
    {
     "data": {
      "image/png": "[encoded data removed]",
      "text/plain": [
       "Plot with title \"지역별 분포\""
      ]
     },
     "metadata": {
      "image/png": {
       "height": 420,
       "width": 420
      }
     },
     "output_type": "display_data"
    }
   ],
   "source": [
    "barplot(table(ds$region), main ='지역별 분포', col = colors[1:5])"
   ]
  },
  {
   "cell_type": "code",
   "execution_count": 72,
   "id": "327418c5",
   "metadata": {},
   "outputs": [
    {
     "data": {
      "image/png": "[encoded data removed]",
      "text/plain": [
       "Plot with title \"지역별 분포\""
      ]
     },
     "metadata": {
      "image/png": {
       "height": 420,
       "width": 420
      }
     },
     "output_type": "display_data"
    }
   ],
   "source": [
    "barplot(table(ds$region), main ='지역별 분포', col = rainbow(5))"
   ]
  },
  {
   "cell_type": "code",
   "execution_count": 74,
   "id": "4a3f4b99",
   "metadata": {},
   "outputs": [
    {
     "data": {
      "text/html": [
       "<style>\n",
       ".list-inline {list-style: none; margin:0; padding: 0}\n",
       ".list-inline>li {display: inline-block}\n",
       ".list-inline>li:not(:last-child)::after {content: \"\\00b7\"; padding: 0 .5ex}\n",
       "</style>\n",
       "<ol class=list-inline><li>'region'</li><li>'population'</li><li>'sex'</li><li>'age'</li><li>'education'</li><li>'income'</li><li>'statusquo'</li><li>'vote'</li></ol>\n"
      ],
      "text/latex": [
       "\\begin{enumerate*}\n",
       "\\item 'region'\n",
       "\\item 'population'\n",
       "\\item 'sex'\n",
       "\\item 'age'\n",
       "\\item 'education'\n",
       "\\item 'income'\n",
       "\\item 'statusquo'\n",
       "\\item 'vote'\n",
       "\\end{enumerate*}\n"
      ],
      "text/markdown": [
       "1. 'region'\n",
       "2. 'population'\n",
       "3. 'sex'\n",
       "4. 'age'\n",
       "5. 'education'\n",
       "6. 'income'\n",
       "7. 'statusquo'\n",
       "8. 'vote'\n",
       "\n",
       "\n"
      ],
      "text/plain": [
       "[1] \"region\"     \"population\" \"sex\"        \"age\"        \"education\" \n",
       "[6] \"income\"     \"statusquo\"  \"vote\"      "
      ]
     },
     "metadata": {},
     "output_type": "display_data"
    }
   ],
   "source": [
    "colnames(ds)"
   ]
  },
  {
   "cell_type": "code",
   "execution_count": 77,
   "id": "8a9f7a15",
   "metadata": {},
   "outputs": [
    {
     "data": {
      "image/png": "[encoded data removed]",
      "text/plain": [
       "plot without title"
      ]
     },
     "metadata": {
      "image/png": {
       "height": 420,
       "width": 420
      }
     },
     "output_type": "display_data"
    }
   ],
   "source": [
    "barplot(table(ds$sex),\n",
    "       col = rainbow(2))"
   ]
  },
  {
   "cell_type": "code",
   "execution_count": 78,
   "id": "f03933d5",
   "metadata": {},
   "outputs": [
    {
     "data": {
      "image/png": "[encoded data removed]",
      "text/plain": [
       "plot without title"
      ]
     },
     "metadata": {
      "image/png": {
       "height": 420,
       "width": 420
      }
     },
     "output_type": "display_data"
    }
   ],
   "source": [
    "barplot(table(ds$education))"
   ]
  },
  {
   "cell_type": "code",
   "execution_count": 83,
   "id": "47e1a75e",
   "metadata": {},
   "outputs": [
    {
     "data": {
      "image/png": "[encoded data removed]",
      "text/plain": [
       "Plot with title \"연령\""
      ]
     },
     "metadata": {
      "image/png": {
       "height": 420,
       "width": 420
      }
     },
     "output_type": "display_data"
    }
   ],
   "source": [
    "hist(ds$age, breaks = 6, main ='연령',\n",
    "    xlab = 'age',\n",
    "    col = rainbow(20))"
   ]
  },
  {
   "cell_type": "code",
   "execution_count": 84,
   "id": "f4dca9fa",
   "metadata": {},
   "outputs": [
    {
     "name": "stderr",
     "output_type": "stream",
     "text": [
      "Installing package into 'C:/Users/starl/AppData/Local/R/win-library/4.3'\n",
      "(as 'lib' is unspecified)\n",
      "\n"
     ]
    },
    {
     "name": "stdout",
     "output_type": "stream",
     "text": [
      "package 'reshape2' successfully unpacked and MD5 sums checked\n",
      "\n",
      "The downloaded binary packages are in\n",
      "\tC:\\Users\\starl\\AppData\\Local\\Temp\\RtmpWmOosR\\downloaded_packages\n"
     ]
    }
   ],
   "source": [
    "install.packages('reshape2')"
   ]
  },
  {
   "cell_type": "code",
   "execution_count": 85,
   "id": "253dabec",
   "metadata": {},
   "outputs": [
    {
     "name": "stderr",
     "output_type": "stream",
     "text": [
      "Warning message:\n",
      "\"package 'reshape2' was built under R version 4.3.2\"\n"
     ]
    }
   ],
   "source": [
    "library(reshape2)"
   ]
  },
  {
   "cell_type": "code",
   "execution_count": 86,
   "id": "3d7838e0",
   "metadata": {},
   "outputs": [
    {
     "name": "stdout",
     "output_type": "stream",
     "text": [
      "'data.frame':\t244 obs. of  7 variables:\n",
      " $ total_bill: num  17 10.3 21 23.7 24.6 ...\n",
      " $ tip       : num  1.01 1.66 3.5 3.31 3.61 4.71 2 3.12 1.96 3.23 ...\n",
      " $ sex       : Factor w/ 2 levels \"Female\",\"Male\": 1 2 2 2 1 2 2 2 2 2 ...\n",
      " $ smoker    : Factor w/ 2 levels \"No\",\"Yes\": 1 1 1 1 1 1 1 1 1 1 ...\n",
      " $ day       : Factor w/ 4 levels \"Fri\",\"Sat\",\"Sun\",..: 3 3 3 3 3 3 3 3 3 3 ...\n",
      " $ time      : Factor w/ 2 levels \"Dinner\",\"Lunch\": 1 1 1 1 1 1 1 1 1 1 ...\n",
      " $ size      : int  2 3 3 2 4 4 2 4 2 2 ...\n"
     ]
    }
   ],
   "source": [
    "str(tips)"
   ]
  },
  {
   "cell_type": "code",
   "execution_count": 87,
   "id": "ac6967e9",
   "metadata": {},
   "outputs": [
    {
     "data": {
      "image/png": "[encoded data removed]",
      "text/plain": [
       "plot without title"
      ]
     },
     "metadata": {
      "image/png": {
       "height": 420,
       "width": 420
      }
     },
     "output_type": "display_data"
    }
   ],
   "source": [
    "barplot(table(tips$sex))"
   ]
  },
  {
   "cell_type": "code",
   "execution_count": 88,
   "id": "0ef88f21",
   "metadata": {},
   "outputs": [
    {
     "data": {
      "image/png": "[encoded data removed]",
      "text/plain": [
       "plot without title"
      ]
     },
     "metadata": {
      "image/png": {
       "height": 420,
       "width": 420
      }
     },
     "output_type": "display_data"
    }
   ],
   "source": [
    "barplot(table(tips$day))"
   ]
  },
  {
   "cell_type": "code",
   "execution_count": 90,
   "id": "a6869ea8",
   "metadata": {},
   "outputs": [
    {
     "data": {
      "text/html": [
       "<style>\n",
       ".list-inline {list-style: none; margin:0; padding: 0}\n",
       ".list-inline>li {display: inline-block}\n",
       ".list-inline>li:not(:last-child)::after {content: \"\\00b7\"; padding: 0 .5ex}\n",
       "</style>\n",
       "<ol class=list-inline><li>'total_bill'</li><li>'tip'</li><li>'sex'</li><li>'smoker'</li><li>'day'</li><li>'time'</li><li>'size'</li></ol>\n"
      ],
      "text/latex": [
       "\\begin{enumerate*}\n",
       "\\item 'total\\_bill'\n",
       "\\item 'tip'\n",
       "\\item 'sex'\n",
       "\\item 'smoker'\n",
       "\\item 'day'\n",
       "\\item 'time'\n",
       "\\item 'size'\n",
       "\\end{enumerate*}\n"
      ],
      "text/markdown": [
       "1. 'total_bill'\n",
       "2. 'tip'\n",
       "3. 'sex'\n",
       "4. 'smoker'\n",
       "5. 'day'\n",
       "6. 'time'\n",
       "7. 'size'\n",
       "\n",
       "\n"
      ],
      "text/plain": [
       "[1] \"total_bill\" \"tip\"        \"sex\"        \"smoker\"     \"day\"       \n",
       "[6] \"time\"       \"size\"      "
      ]
     },
     "metadata": {},
     "output_type": "display_data"
    }
   ],
   "source": [
    "colnames(tips)"
   ]
  },
  {
   "cell_type": "code",
   "execution_count": 94,
   "id": "51571ed7",
   "metadata": {},
   "outputs": [
    {
     "name": "stdout",
     "output_type": "stream",
     "text": [
      "[1] \"total_bill\"\n",
      "NULL\n",
      "[1] \"tip\"\n",
      "NULL\n",
      "[1] \"sex\"\n",
      "NULL\n",
      "[1] \"smoker\"\n",
      "NULL\n",
      "[1] \"day\"\n",
      "NULL\n",
      "[1] \"time\"\n",
      "NULL\n",
      "[1] \"size\"\n",
      "NULL\n"
     ]
    }
   ],
   "source": [
    "for(i in c(colnames(tips))){\n",
    "    print(i)\n",
    "    print(tips$i)\n",
    "#     barplot(table(tips$i), main = i)\n",
    "}"
   ]
  },
  {
   "cell_type": "code",
   "execution_count": 95,
   "id": "317548bb",
   "metadata": {},
   "outputs": [],
   "source": [
    "tips.new = tips\n",
    "tips.new$perHead = tips.new$total_bill / tips.new$size"
   ]
  },
  {
   "cell_type": "code",
   "execution_count": 96,
   "id": "d2e3c4da",
   "metadata": {},
   "outputs": [
    {
     "data": {
      "text/html": [
       "<table class=\"dataframe\">\n",
       "<caption>A data.frame: 244 × 8</caption>\n",
       "<thead>\n",
       "\t<tr><th></th><th scope=col>total_bill</th><th scope=col>tip</th><th scope=col>sex</th><th scope=col>smoker</th><th scope=col>day</th><th scope=col>time</th><th scope=col>size</th><th scope=col>perHead</th></tr>\n",
       "\t<tr><th></th><th scope=col>&lt;dbl&gt;</th><th scope=col>&lt;dbl&gt;</th><th scope=col>&lt;fct&gt;</th><th scope=col>&lt;fct&gt;</th><th scope=col>&lt;fct&gt;</th><th scope=col>&lt;fct&gt;</th><th scope=col>&lt;int&gt;</th><th scope=col>&lt;dbl&gt;</th></tr>\n",
       "</thead>\n",
       "<tbody>\n",
       "\t<tr><th scope=row>1</th><td>16.99</td><td>1.01</td><td>Female</td><td>No</td><td>Sun</td><td>Dinner</td><td>2</td><td> 8.495000</td></tr>\n",
       "\t<tr><th scope=row>2</th><td>10.34</td><td>1.66</td><td>Male  </td><td>No</td><td>Sun</td><td>Dinner</td><td>3</td><td> 3.446667</td></tr>\n",
       "\t<tr><th scope=row>3</th><td>21.01</td><td>3.50</td><td>Male  </td><td>No</td><td>Sun</td><td>Dinner</td><td>3</td><td> 7.003333</td></tr>\n",
       "\t<tr><th scope=row>4</th><td>23.68</td><td>3.31</td><td>Male  </td><td>No</td><td>Sun</td><td>Dinner</td><td>2</td><td>11.840000</td></tr>\n",
       "\t<tr><th scope=row>5</th><td>24.59</td><td>3.61</td><td>Female</td><td>No</td><td>Sun</td><td>Dinner</td><td>4</td><td> 6.147500</td></tr>\n",
       "\t<tr><th scope=row>6</th><td>25.29</td><td>4.71</td><td>Male  </td><td>No</td><td>Sun</td><td>Dinner</td><td>4</td><td> 6.322500</td></tr>\n",
       "\t<tr><th scope=row>7</th><td> 8.77</td><td>2.00</td><td>Male  </td><td>No</td><td>Sun</td><td>Dinner</td><td>2</td><td> 4.385000</td></tr>\n",
       "\t<tr><th scope=row>8</th><td>26.88</td><td>3.12</td><td>Male  </td><td>No</td><td>Sun</td><td>Dinner</td><td>4</td><td> 6.720000</td></tr>\n",
       "\t<tr><th scope=row>9</th><td>15.04</td><td>1.96</td><td>Male  </td><td>No</td><td>Sun</td><td>Dinner</td><td>2</td><td> 7.520000</td></tr>\n",
       "\t<tr><th scope=row>10</th><td>14.78</td><td>3.23</td><td>Male  </td><td>No</td><td>Sun</td><td>Dinner</td><td>2</td><td> 7.390000</td></tr>\n",
       "\t<tr><th scope=row>11</th><td>10.27</td><td>1.71</td><td>Male  </td><td>No</td><td>Sun</td><td>Dinner</td><td>2</td><td> 5.135000</td></tr>\n",
       "\t<tr><th scope=row>12</th><td>35.26</td><td>5.00</td><td>Female</td><td>No</td><td>Sun</td><td>Dinner</td><td>4</td><td> 8.815000</td></tr>\n",
       "\t<tr><th scope=row>13</th><td>15.42</td><td>1.57</td><td>Male  </td><td>No</td><td>Sun</td><td>Dinner</td><td>2</td><td> 7.710000</td></tr>\n",
       "\t<tr><th scope=row>14</th><td>18.43</td><td>3.00</td><td>Male  </td><td>No</td><td>Sun</td><td>Dinner</td><td>4</td><td> 4.607500</td></tr>\n",
       "\t<tr><th scope=row>15</th><td>14.83</td><td>3.02</td><td>Female</td><td>No</td><td>Sun</td><td>Dinner</td><td>2</td><td> 7.415000</td></tr>\n",
       "\t<tr><th scope=row>16</th><td>21.58</td><td>3.92</td><td>Male  </td><td>No</td><td>Sun</td><td>Dinner</td><td>2</td><td>10.790000</td></tr>\n",
       "\t<tr><th scope=row>17</th><td>10.33</td><td>1.67</td><td>Female</td><td>No</td><td>Sun</td><td>Dinner</td><td>3</td><td> 3.443333</td></tr>\n",
       "\t<tr><th scope=row>18</th><td>16.29</td><td>3.71</td><td>Male  </td><td>No</td><td>Sun</td><td>Dinner</td><td>3</td><td> 5.430000</td></tr>\n",
       "\t<tr><th scope=row>19</th><td>16.97</td><td>3.50</td><td>Female</td><td>No</td><td>Sun</td><td>Dinner</td><td>3</td><td> 5.656667</td></tr>\n",
       "\t<tr><th scope=row>20</th><td>20.65</td><td>3.35</td><td>Male  </td><td>No</td><td>Sat</td><td>Dinner</td><td>3</td><td> 6.883333</td></tr>\n",
       "\t<tr><th scope=row>21</th><td>17.92</td><td>4.08</td><td>Male  </td><td>No</td><td>Sat</td><td>Dinner</td><td>2</td><td> 8.960000</td></tr>\n",
       "\t<tr><th scope=row>22</th><td>20.29</td><td>2.75</td><td>Female</td><td>No</td><td>Sat</td><td>Dinner</td><td>2</td><td>10.145000</td></tr>\n",
       "\t<tr><th scope=row>23</th><td>15.77</td><td>2.23</td><td>Female</td><td>No</td><td>Sat</td><td>Dinner</td><td>2</td><td> 7.885000</td></tr>\n",
       "\t<tr><th scope=row>24</th><td>39.42</td><td>7.58</td><td>Male  </td><td>No</td><td>Sat</td><td>Dinner</td><td>4</td><td> 9.855000</td></tr>\n",
       "\t<tr><th scope=row>25</th><td>19.82</td><td>3.18</td><td>Male  </td><td>No</td><td>Sat</td><td>Dinner</td><td>2</td><td> 9.910000</td></tr>\n",
       "\t<tr><th scope=row>26</th><td>17.81</td><td>2.34</td><td>Male  </td><td>No</td><td>Sat</td><td>Dinner</td><td>4</td><td> 4.452500</td></tr>\n",
       "\t<tr><th scope=row>27</th><td>13.37</td><td>2.00</td><td>Male  </td><td>No</td><td>Sat</td><td>Dinner</td><td>2</td><td> 6.685000</td></tr>\n",
       "\t<tr><th scope=row>28</th><td>12.69</td><td>2.00</td><td>Male  </td><td>No</td><td>Sat</td><td>Dinner</td><td>2</td><td> 6.345000</td></tr>\n",
       "\t<tr><th scope=row>29</th><td>21.70</td><td>4.30</td><td>Male  </td><td>No</td><td>Sat</td><td>Dinner</td><td>2</td><td>10.850000</td></tr>\n",
       "\t<tr><th scope=row>30</th><td>19.65</td><td>3.00</td><td>Female</td><td>No</td><td>Sat</td><td>Dinner</td><td>2</td><td> 9.825000</td></tr>\n",
       "\t<tr><th scope=row>⋮</th><td>⋮</td><td>⋮</td><td>⋮</td><td>⋮</td><td>⋮</td><td>⋮</td><td>⋮</td><td>⋮</td></tr>\n",
       "\t<tr><th scope=row>215</th><td>28.17</td><td>6.50</td><td>Female</td><td>Yes</td><td>Sat </td><td>Dinner</td><td>3</td><td> 9.390000</td></tr>\n",
       "\t<tr><th scope=row>216</th><td>12.90</td><td>1.10</td><td>Female</td><td>Yes</td><td>Sat </td><td>Dinner</td><td>2</td><td> 6.450000</td></tr>\n",
       "\t<tr><th scope=row>217</th><td>28.15</td><td>3.00</td><td>Male  </td><td>Yes</td><td>Sat </td><td>Dinner</td><td>5</td><td> 5.630000</td></tr>\n",
       "\t<tr><th scope=row>218</th><td>11.59</td><td>1.50</td><td>Male  </td><td>Yes</td><td>Sat </td><td>Dinner</td><td>2</td><td> 5.795000</td></tr>\n",
       "\t<tr><th scope=row>219</th><td> 7.74</td><td>1.44</td><td>Male  </td><td>Yes</td><td>Sat </td><td>Dinner</td><td>2</td><td> 3.870000</td></tr>\n",
       "\t<tr><th scope=row>220</th><td>30.14</td><td>3.09</td><td>Female</td><td>Yes</td><td>Sat </td><td>Dinner</td><td>4</td><td> 7.535000</td></tr>\n",
       "\t<tr><th scope=row>221</th><td>12.16</td><td>2.20</td><td>Male  </td><td>Yes</td><td>Fri </td><td>Lunch </td><td>2</td><td> 6.080000</td></tr>\n",
       "\t<tr><th scope=row>222</th><td>13.42</td><td>3.48</td><td>Female</td><td>Yes</td><td>Fri </td><td>Lunch </td><td>2</td><td> 6.710000</td></tr>\n",
       "\t<tr><th scope=row>223</th><td> 8.58</td><td>1.92</td><td>Male  </td><td>Yes</td><td>Fri </td><td>Lunch </td><td>1</td><td> 8.580000</td></tr>\n",
       "\t<tr><th scope=row>224</th><td>15.98</td><td>3.00</td><td>Female</td><td>No </td><td>Fri </td><td>Lunch </td><td>3</td><td> 5.326667</td></tr>\n",
       "\t<tr><th scope=row>225</th><td>13.42</td><td>1.58</td><td>Male  </td><td>Yes</td><td>Fri </td><td>Lunch </td><td>2</td><td> 6.710000</td></tr>\n",
       "\t<tr><th scope=row>226</th><td>16.27</td><td>2.50</td><td>Female</td><td>Yes</td><td>Fri </td><td>Lunch </td><td>2</td><td> 8.135000</td></tr>\n",
       "\t<tr><th scope=row>227</th><td>10.09</td><td>2.00</td><td>Female</td><td>Yes</td><td>Fri </td><td>Lunch </td><td>2</td><td> 5.045000</td></tr>\n",
       "\t<tr><th scope=row>228</th><td>20.45</td><td>3.00</td><td>Male  </td><td>No </td><td>Sat </td><td>Dinner</td><td>4</td><td> 5.112500</td></tr>\n",
       "\t<tr><th scope=row>229</th><td>13.28</td><td>2.72</td><td>Male  </td><td>No </td><td>Sat </td><td>Dinner</td><td>2</td><td> 6.640000</td></tr>\n",
       "\t<tr><th scope=row>230</th><td>22.12</td><td>2.88</td><td>Female</td><td>Yes</td><td>Sat </td><td>Dinner</td><td>2</td><td>11.060000</td></tr>\n",
       "\t<tr><th scope=row>231</th><td>24.01</td><td>2.00</td><td>Male  </td><td>Yes</td><td>Sat </td><td>Dinner</td><td>4</td><td> 6.002500</td></tr>\n",
       "\t<tr><th scope=row>232</th><td>15.69</td><td>3.00</td><td>Male  </td><td>Yes</td><td>Sat </td><td>Dinner</td><td>3</td><td> 5.230000</td></tr>\n",
       "\t<tr><th scope=row>233</th><td>11.61</td><td>3.39</td><td>Male  </td><td>No </td><td>Sat </td><td>Dinner</td><td>2</td><td> 5.805000</td></tr>\n",
       "\t<tr><th scope=row>234</th><td>10.77</td><td>1.47</td><td>Male  </td><td>No </td><td>Sat </td><td>Dinner</td><td>2</td><td> 5.385000</td></tr>\n",
       "\t<tr><th scope=row>235</th><td>15.53</td><td>3.00</td><td>Male  </td><td>Yes</td><td>Sat </td><td>Dinner</td><td>2</td><td> 7.765000</td></tr>\n",
       "\t<tr><th scope=row>236</th><td>10.07</td><td>1.25</td><td>Male  </td><td>No </td><td>Sat </td><td>Dinner</td><td>2</td><td> 5.035000</td></tr>\n",
       "\t<tr><th scope=row>237</th><td>12.60</td><td>1.00</td><td>Male  </td><td>Yes</td><td>Sat </td><td>Dinner</td><td>2</td><td> 6.300000</td></tr>\n",
       "\t<tr><th scope=row>238</th><td>32.83</td><td>1.17</td><td>Male  </td><td>Yes</td><td>Sat </td><td>Dinner</td><td>2</td><td>16.415000</td></tr>\n",
       "\t<tr><th scope=row>239</th><td>35.83</td><td>4.67</td><td>Female</td><td>No </td><td>Sat </td><td>Dinner</td><td>3</td><td>11.943333</td></tr>\n",
       "\t<tr><th scope=row>240</th><td>29.03</td><td>5.92</td><td>Male  </td><td>No </td><td>Sat </td><td>Dinner</td><td>3</td><td> 9.676667</td></tr>\n",
       "\t<tr><th scope=row>241</th><td>27.18</td><td>2.00</td><td>Female</td><td>Yes</td><td>Sat </td><td>Dinner</td><td>2</td><td>13.590000</td></tr>\n",
       "\t<tr><th scope=row>242</th><td>22.67</td><td>2.00</td><td>Male  </td><td>Yes</td><td>Sat </td><td>Dinner</td><td>2</td><td>11.335000</td></tr>\n",
       "\t<tr><th scope=row>243</th><td>17.82</td><td>1.75</td><td>Male  </td><td>No </td><td>Sat </td><td>Dinner</td><td>2</td><td> 8.910000</td></tr>\n",
       "\t<tr><th scope=row>244</th><td>18.78</td><td>3.00</td><td>Female</td><td>No </td><td>Thur</td><td>Dinner</td><td>2</td><td> 9.390000</td></tr>\n",
       "</tbody>\n",
       "</table>\n"
      ],
      "text/latex": [
       "A data.frame: 244 × 8\n",
       "\\begin{tabular}{r|llllllll}\n",
       "  & total\\_bill & tip & sex & smoker & day & time & size & perHead\\\\\n",
       "  & <dbl> & <dbl> & <fct> & <fct> & <fct> & <fct> & <int> & <dbl>\\\\\n",
       "\\hline\n",
       "\t1 & 16.99 & 1.01 & Female & No & Sun & Dinner & 2 &  8.495000\\\\\n",
       "\t2 & 10.34 & 1.66 & Male   & No & Sun & Dinner & 3 &  3.446667\\\\\n",
       "\t3 & 21.01 & 3.50 & Male   & No & Sun & Dinner & 3 &  7.003333\\\\\n",
       "\t4 & 23.68 & 3.31 & Male   & No & Sun & Dinner & 2 & 11.840000\\\\\n",
       "\t5 & 24.59 & 3.61 & Female & No & Sun & Dinner & 4 &  6.147500\\\\\n",
       "\t6 & 25.29 & 4.71 & Male   & No & Sun & Dinner & 4 &  6.322500\\\\\n",
       "\t7 &  8.77 & 2.00 & Male   & No & Sun & Dinner & 2 &  4.385000\\\\\n",
       "\t8 & 26.88 & 3.12 & Male   & No & Sun & Dinner & 4 &  6.720000\\\\\n",
       "\t9 & 15.04 & 1.96 & Male   & No & Sun & Dinner & 2 &  7.520000\\\\\n",
       "\t10 & 14.78 & 3.23 & Male   & No & Sun & Dinner & 2 &  7.390000\\\\\n",
       "\t11 & 10.27 & 1.71 & Male   & No & Sun & Dinner & 2 &  5.135000\\\\\n",
       "\t12 & 35.26 & 5.00 & Female & No & Sun & Dinner & 4 &  8.815000\\\\\n",
       "\t13 & 15.42 & 1.57 & Male   & No & Sun & Dinner & 2 &  7.710000\\\\\n",
       "\t14 & 18.43 & 3.00 & Male   & No & Sun & Dinner & 4 &  4.607500\\\\\n",
       "\t15 & 14.83 & 3.02 & Female & No & Sun & Dinner & 2 &  7.415000\\\\\n",
       "\t16 & 21.58 & 3.92 & Male   & No & Sun & Dinner & 2 & 10.790000\\\\\n",
       "\t17 & 10.33 & 1.67 & Female & No & Sun & Dinner & 3 &  3.443333\\\\\n",
       "\t18 & 16.29 & 3.71 & Male   & No & Sun & Dinner & 3 &  5.430000\\\\\n",
       "\t19 & 16.97 & 3.50 & Female & No & Sun & Dinner & 3 &  5.656667\\\\\n",
       "\t20 & 20.65 & 3.35 & Male   & No & Sat & Dinner & 3 &  6.883333\\\\\n",
       "\t21 & 17.92 & 4.08 & Male   & No & Sat & Dinner & 2 &  8.960000\\\\\n",
       "\t22 & 20.29 & 2.75 & Female & No & Sat & Dinner & 2 & 10.145000\\\\\n",
       "\t23 & 15.77 & 2.23 & Female & No & Sat & Dinner & 2 &  7.885000\\\\\n",
       "\t24 & 39.42 & 7.58 & Male   & No & Sat & Dinner & 4 &  9.855000\\\\\n",
       "\t25 & 19.82 & 3.18 & Male   & No & Sat & Dinner & 2 &  9.910000\\\\\n",
       "\t26 & 17.81 & 2.34 & Male   & No & Sat & Dinner & 4 &  4.452500\\\\\n",
       "\t27 & 13.37 & 2.00 & Male   & No & Sat & Dinner & 2 &  6.685000\\\\\n",
       "\t28 & 12.69 & 2.00 & Male   & No & Sat & Dinner & 2 &  6.345000\\\\\n",
       "\t29 & 21.70 & 4.30 & Male   & No & Sat & Dinner & 2 & 10.850000\\\\\n",
       "\t30 & 19.65 & 3.00 & Female & No & Sat & Dinner & 2 &  9.825000\\\\\n",
       "\t⋮ & ⋮ & ⋮ & ⋮ & ⋮ & ⋮ & ⋮ & ⋮ & ⋮\\\\\n",
       "\t215 & 28.17 & 6.50 & Female & Yes & Sat  & Dinner & 3 &  9.390000\\\\\n",
       "\t216 & 12.90 & 1.10 & Female & Yes & Sat  & Dinner & 2 &  6.450000\\\\\n",
       "\t217 & 28.15 & 3.00 & Male   & Yes & Sat  & Dinner & 5 &  5.630000\\\\\n",
       "\t218 & 11.59 & 1.50 & Male   & Yes & Sat  & Dinner & 2 &  5.795000\\\\\n",
       "\t219 &  7.74 & 1.44 & Male   & Yes & Sat  & Dinner & 2 &  3.870000\\\\\n",
       "\t220 & 30.14 & 3.09 & Female & Yes & Sat  & Dinner & 4 &  7.535000\\\\\n",
       "\t221 & 12.16 & 2.20 & Male   & Yes & Fri  & Lunch  & 2 &  6.080000\\\\\n",
       "\t222 & 13.42 & 3.48 & Female & Yes & Fri  & Lunch  & 2 &  6.710000\\\\\n",
       "\t223 &  8.58 & 1.92 & Male   & Yes & Fri  & Lunch  & 1 &  8.580000\\\\\n",
       "\t224 & 15.98 & 3.00 & Female & No  & Fri  & Lunch  & 3 &  5.326667\\\\\n",
       "\t225 & 13.42 & 1.58 & Male   & Yes & Fri  & Lunch  & 2 &  6.710000\\\\\n",
       "\t226 & 16.27 & 2.50 & Female & Yes & Fri  & Lunch  & 2 &  8.135000\\\\\n",
       "\t227 & 10.09 & 2.00 & Female & Yes & Fri  & Lunch  & 2 &  5.045000\\\\\n",
       "\t228 & 20.45 & 3.00 & Male   & No  & Sat  & Dinner & 4 &  5.112500\\\\\n",
       "\t229 & 13.28 & 2.72 & Male   & No  & Sat  & Dinner & 2 &  6.640000\\\\\n",
       "\t230 & 22.12 & 2.88 & Female & Yes & Sat  & Dinner & 2 & 11.060000\\\\\n",
       "\t231 & 24.01 & 2.00 & Male   & Yes & Sat  & Dinner & 4 &  6.002500\\\\\n",
       "\t232 & 15.69 & 3.00 & Male   & Yes & Sat  & Dinner & 3 &  5.230000\\\\\n",
       "\t233 & 11.61 & 3.39 & Male   & No  & Sat  & Dinner & 2 &  5.805000\\\\\n",
       "\t234 & 10.77 & 1.47 & Male   & No  & Sat  & Dinner & 2 &  5.385000\\\\\n",
       "\t235 & 15.53 & 3.00 & Male   & Yes & Sat  & Dinner & 2 &  7.765000\\\\\n",
       "\t236 & 10.07 & 1.25 & Male   & No  & Sat  & Dinner & 2 &  5.035000\\\\\n",
       "\t237 & 12.60 & 1.00 & Male   & Yes & Sat  & Dinner & 2 &  6.300000\\\\\n",
       "\t238 & 32.83 & 1.17 & Male   & Yes & Sat  & Dinner & 2 & 16.415000\\\\\n",
       "\t239 & 35.83 & 4.67 & Female & No  & Sat  & Dinner & 3 & 11.943333\\\\\n",
       "\t240 & 29.03 & 5.92 & Male   & No  & Sat  & Dinner & 3 &  9.676667\\\\\n",
       "\t241 & 27.18 & 2.00 & Female & Yes & Sat  & Dinner & 2 & 13.590000\\\\\n",
       "\t242 & 22.67 & 2.00 & Male   & Yes & Sat  & Dinner & 2 & 11.335000\\\\\n",
       "\t243 & 17.82 & 1.75 & Male   & No  & Sat  & Dinner & 2 &  8.910000\\\\\n",
       "\t244 & 18.78 & 3.00 & Female & No  & Thur & Dinner & 2 &  9.390000\\\\\n",
       "\\end{tabular}\n"
      ],
      "text/markdown": [
       "\n",
       "A data.frame: 244 × 8\n",
       "\n",
       "| <!--/--> | total_bill &lt;dbl&gt; | tip &lt;dbl&gt; | sex &lt;fct&gt; | smoker &lt;fct&gt; | day &lt;fct&gt; | time &lt;fct&gt; | size &lt;int&gt; | perHead &lt;dbl&gt; |\n",
       "|---|---|---|---|---|---|---|---|---|\n",
       "| 1 | 16.99 | 1.01 | Female | No | Sun | Dinner | 2 |  8.495000 |\n",
       "| 2 | 10.34 | 1.66 | Male   | No | Sun | Dinner | 3 |  3.446667 |\n",
       "| 3 | 21.01 | 3.50 | Male   | No | Sun | Dinner | 3 |  7.003333 |\n",
       "| 4 | 23.68 | 3.31 | Male   | No | Sun | Dinner | 2 | 11.840000 |\n",
       "| 5 | 24.59 | 3.61 | Female | No | Sun | Dinner | 4 |  6.147500 |\n",
       "| 6 | 25.29 | 4.71 | Male   | No | Sun | Dinner | 4 |  6.322500 |\n",
       "| 7 |  8.77 | 2.00 | Male   | No | Sun | Dinner | 2 |  4.385000 |\n",
       "| 8 | 26.88 | 3.12 | Male   | No | Sun | Dinner | 4 |  6.720000 |\n",
       "| 9 | 15.04 | 1.96 | Male   | No | Sun | Dinner | 2 |  7.520000 |\n",
       "| 10 | 14.78 | 3.23 | Male   | No | Sun | Dinner | 2 |  7.390000 |\n",
       "| 11 | 10.27 | 1.71 | Male   | No | Sun | Dinner | 2 |  5.135000 |\n",
       "| 12 | 35.26 | 5.00 | Female | No | Sun | Dinner | 4 |  8.815000 |\n",
       "| 13 | 15.42 | 1.57 | Male   | No | Sun | Dinner | 2 |  7.710000 |\n",
       "| 14 | 18.43 | 3.00 | Male   | No | Sun | Dinner | 4 |  4.607500 |\n",
       "| 15 | 14.83 | 3.02 | Female | No | Sun | Dinner | 2 |  7.415000 |\n",
       "| 16 | 21.58 | 3.92 | Male   | No | Sun | Dinner | 2 | 10.790000 |\n",
       "| 17 | 10.33 | 1.67 | Female | No | Sun | Dinner | 3 |  3.443333 |\n",
       "| 18 | 16.29 | 3.71 | Male   | No | Sun | Dinner | 3 |  5.430000 |\n",
       "| 19 | 16.97 | 3.50 | Female | No | Sun | Dinner | 3 |  5.656667 |\n",
       "| 20 | 20.65 | 3.35 | Male   | No | Sat | Dinner | 3 |  6.883333 |\n",
       "| 21 | 17.92 | 4.08 | Male   | No | Sat | Dinner | 2 |  8.960000 |\n",
       "| 22 | 20.29 | 2.75 | Female | No | Sat | Dinner | 2 | 10.145000 |\n",
       "| 23 | 15.77 | 2.23 | Female | No | Sat | Dinner | 2 |  7.885000 |\n",
       "| 24 | 39.42 | 7.58 | Male   | No | Sat | Dinner | 4 |  9.855000 |\n",
       "| 25 | 19.82 | 3.18 | Male   | No | Sat | Dinner | 2 |  9.910000 |\n",
       "| 26 | 17.81 | 2.34 | Male   | No | Sat | Dinner | 4 |  4.452500 |\n",
       "| 27 | 13.37 | 2.00 | Male   | No | Sat | Dinner | 2 |  6.685000 |\n",
       "| 28 | 12.69 | 2.00 | Male   | No | Sat | Dinner | 2 |  6.345000 |\n",
       "| 29 | 21.70 | 4.30 | Male   | No | Sat | Dinner | 2 | 10.850000 |\n",
       "| 30 | 19.65 | 3.00 | Female | No | Sat | Dinner | 2 |  9.825000 |\n",
       "| ⋮ | ⋮ | ⋮ | ⋮ | ⋮ | ⋮ | ⋮ | ⋮ | ⋮ |\n",
       "| 215 | 28.17 | 6.50 | Female | Yes | Sat  | Dinner | 3 |  9.390000 |\n",
       "| 216 | 12.90 | 1.10 | Female | Yes | Sat  | Dinner | 2 |  6.450000 |\n",
       "| 217 | 28.15 | 3.00 | Male   | Yes | Sat  | Dinner | 5 |  5.630000 |\n",
       "| 218 | 11.59 | 1.50 | Male   | Yes | Sat  | Dinner | 2 |  5.795000 |\n",
       "| 219 |  7.74 | 1.44 | Male   | Yes | Sat  | Dinner | 2 |  3.870000 |\n",
       "| 220 | 30.14 | 3.09 | Female | Yes | Sat  | Dinner | 4 |  7.535000 |\n",
       "| 221 | 12.16 | 2.20 | Male   | Yes | Fri  | Lunch  | 2 |  6.080000 |\n",
       "| 222 | 13.42 | 3.48 | Female | Yes | Fri  | Lunch  | 2 |  6.710000 |\n",
       "| 223 |  8.58 | 1.92 | Male   | Yes | Fri  | Lunch  | 1 |  8.580000 |\n",
       "| 224 | 15.98 | 3.00 | Female | No  | Fri  | Lunch  | 3 |  5.326667 |\n",
       "| 225 | 13.42 | 1.58 | Male   | Yes | Fri  | Lunch  | 2 |  6.710000 |\n",
       "| 226 | 16.27 | 2.50 | Female | Yes | Fri  | Lunch  | 2 |  8.135000 |\n",
       "| 227 | 10.09 | 2.00 | Female | Yes | Fri  | Lunch  | 2 |  5.045000 |\n",
       "| 228 | 20.45 | 3.00 | Male   | No  | Sat  | Dinner | 4 |  5.112500 |\n",
       "| 229 | 13.28 | 2.72 | Male   | No  | Sat  | Dinner | 2 |  6.640000 |\n",
       "| 230 | 22.12 | 2.88 | Female | Yes | Sat  | Dinner | 2 | 11.060000 |\n",
       "| 231 | 24.01 | 2.00 | Male   | Yes | Sat  | Dinner | 4 |  6.002500 |\n",
       "| 232 | 15.69 | 3.00 | Male   | Yes | Sat  | Dinner | 3 |  5.230000 |\n",
       "| 233 | 11.61 | 3.39 | Male   | No  | Sat  | Dinner | 2 |  5.805000 |\n",
       "| 234 | 10.77 | 1.47 | Male   | No  | Sat  | Dinner | 2 |  5.385000 |\n",
       "| 235 | 15.53 | 3.00 | Male   | Yes | Sat  | Dinner | 2 |  7.765000 |\n",
       "| 236 | 10.07 | 1.25 | Male   | No  | Sat  | Dinner | 2 |  5.035000 |\n",
       "| 237 | 12.60 | 1.00 | Male   | Yes | Sat  | Dinner | 2 |  6.300000 |\n",
       "| 238 | 32.83 | 1.17 | Male   | Yes | Sat  | Dinner | 2 | 16.415000 |\n",
       "| 239 | 35.83 | 4.67 | Female | No  | Sat  | Dinner | 3 | 11.943333 |\n",
       "| 240 | 29.03 | 5.92 | Male   | No  | Sat  | Dinner | 3 |  9.676667 |\n",
       "| 241 | 27.18 | 2.00 | Female | Yes | Sat  | Dinner | 2 | 13.590000 |\n",
       "| 242 | 22.67 | 2.00 | Male   | Yes | Sat  | Dinner | 2 | 11.335000 |\n",
       "| 243 | 17.82 | 1.75 | Male   | No  | Sat  | Dinner | 2 |  8.910000 |\n",
       "| 244 | 18.78 | 3.00 | Female | No  | Thur | Dinner | 2 |  9.390000 |\n",
       "\n"
      ],
      "text/plain": [
       "    total_bill tip  sex    smoker day  time   size perHead  \n",
       "1   16.99      1.01 Female No     Sun  Dinner 2     8.495000\n",
       "2   10.34      1.66 Male   No     Sun  Dinner 3     3.446667\n",
       "3   21.01      3.50 Male   No     Sun  Dinner 3     7.003333\n",
       "4   23.68      3.31 Male   No     Sun  Dinner 2    11.840000\n",
       "5   24.59      3.61 Female No     Sun  Dinner 4     6.147500\n",
       "6   25.29      4.71 Male   No     Sun  Dinner 4     6.322500\n",
       "7    8.77      2.00 Male   No     Sun  Dinner 2     4.385000\n",
       "8   26.88      3.12 Male   No     Sun  Dinner 4     6.720000\n",
       "9   15.04      1.96 Male   No     Sun  Dinner 2     7.520000\n",
       "10  14.78      3.23 Male   No     Sun  Dinner 2     7.390000\n",
       "11  10.27      1.71 Male   No     Sun  Dinner 2     5.135000\n",
       "12  35.26      5.00 Female No     Sun  Dinner 4     8.815000\n",
       "13  15.42      1.57 Male   No     Sun  Dinner 2     7.710000\n",
       "14  18.43      3.00 Male   No     Sun  Dinner 4     4.607500\n",
       "15  14.83      3.02 Female No     Sun  Dinner 2     7.415000\n",
       "16  21.58      3.92 Male   No     Sun  Dinner 2    10.790000\n",
       "17  10.33      1.67 Female No     Sun  Dinner 3     3.443333\n",
       "18  16.29      3.71 Male   No     Sun  Dinner 3     5.430000\n",
       "19  16.97      3.50 Female No     Sun  Dinner 3     5.656667\n",
       "20  20.65      3.35 Male   No     Sat  Dinner 3     6.883333\n",
       "21  17.92      4.08 Male   No     Sat  Dinner 2     8.960000\n",
       "22  20.29      2.75 Female No     Sat  Dinner 2    10.145000\n",
       "23  15.77      2.23 Female No     Sat  Dinner 2     7.885000\n",
       "24  39.42      7.58 Male   No     Sat  Dinner 4     9.855000\n",
       "25  19.82      3.18 Male   No     Sat  Dinner 2     9.910000\n",
       "26  17.81      2.34 Male   No     Sat  Dinner 4     4.452500\n",
       "27  13.37      2.00 Male   No     Sat  Dinner 2     6.685000\n",
       "28  12.69      2.00 Male   No     Sat  Dinner 2     6.345000\n",
       "29  21.70      4.30 Male   No     Sat  Dinner 2    10.850000\n",
       "30  19.65      3.00 Female No     Sat  Dinner 2     9.825000\n",
       "⋮   ⋮          ⋮    ⋮      ⋮      ⋮    ⋮      ⋮    ⋮        \n",
       "215 28.17      6.50 Female Yes    Sat  Dinner 3     9.390000\n",
       "216 12.90      1.10 Female Yes    Sat  Dinner 2     6.450000\n",
       "217 28.15      3.00 Male   Yes    Sat  Dinner 5     5.630000\n",
       "218 11.59      1.50 Male   Yes    Sat  Dinner 2     5.795000\n",
       "219  7.74      1.44 Male   Yes    Sat  Dinner 2     3.870000\n",
       "220 30.14      3.09 Female Yes    Sat  Dinner 4     7.535000\n",
       "221 12.16      2.20 Male   Yes    Fri  Lunch  2     6.080000\n",
       "222 13.42      3.48 Female Yes    Fri  Lunch  2     6.710000\n",
       "223  8.58      1.92 Male   Yes    Fri  Lunch  1     8.580000\n",
       "224 15.98      3.00 Female No     Fri  Lunch  3     5.326667\n",
       "225 13.42      1.58 Male   Yes    Fri  Lunch  2     6.710000\n",
       "226 16.27      2.50 Female Yes    Fri  Lunch  2     8.135000\n",
       "227 10.09      2.00 Female Yes    Fri  Lunch  2     5.045000\n",
       "228 20.45      3.00 Male   No     Sat  Dinner 4     5.112500\n",
       "229 13.28      2.72 Male   No     Sat  Dinner 2     6.640000\n",
       "230 22.12      2.88 Female Yes    Sat  Dinner 2    11.060000\n",
       "231 24.01      2.00 Male   Yes    Sat  Dinner 4     6.002500\n",
       "232 15.69      3.00 Male   Yes    Sat  Dinner 3     5.230000\n",
       "233 11.61      3.39 Male   No     Sat  Dinner 2     5.805000\n",
       "234 10.77      1.47 Male   No     Sat  Dinner 2     5.385000\n",
       "235 15.53      3.00 Male   Yes    Sat  Dinner 2     7.765000\n",
       "236 10.07      1.25 Male   No     Sat  Dinner 2     5.035000\n",
       "237 12.60      1.00 Male   Yes    Sat  Dinner 2     6.300000\n",
       "238 32.83      1.17 Male   Yes    Sat  Dinner 2    16.415000\n",
       "239 35.83      4.67 Female No     Sat  Dinner 3    11.943333\n",
       "240 29.03      5.92 Male   No     Sat  Dinner 3     9.676667\n",
       "241 27.18      2.00 Female Yes    Sat  Dinner 2    13.590000\n",
       "242 22.67      2.00 Male   Yes    Sat  Dinner 2    11.335000\n",
       "243 17.82      1.75 Male   No     Sat  Dinner 2     8.910000\n",
       "244 18.78      3.00 Female No     Thur Dinner 2     9.390000"
      ]
     },
     "metadata": {},
     "output_type": "display_data"
    }
   ],
   "source": [
    "tips.new"
   ]
  },
  {
   "cell_type": "code",
   "execution_count": 97,
   "id": "1cb29805",
   "metadata": {},
   "outputs": [
    {
     "data": {
      "image/png": "[encoded data removed]",
      "text/plain": [
       "Plot with title \"1인당 주문 금액\""
      ]
     },
     "metadata": {
      "image/png": {
       "height": 420,
       "width": 420
      }
     },
     "output_type": "display_data"
    }
   ],
   "source": [
    "hist(tips.new$perHead, main ='1인당 주문 금액', breaks=5, xlab='단위 : 달러')"
   ]
  },
  {
   "cell_type": "code",
   "execution_count": 98,
   "id": "0d011d93",
   "metadata": {},
   "outputs": [
    {
     "data": {
      "image/png": "[encoded data removed]",
      "text/plain": [
       "Plot with title \"1인당 주문 금액(런치)\""
      ]
     },
     "metadata": {
      "image/png": {
       "height": 420,
       "width": 420
      }
     },
     "output_type": "display_data"
    },
    {
     "data": {
      "image/png": "[encoded data removed]",
      "text/plain": [
       "Plot with title \"1인당 주문 금액(디너)\""
      ]
     },
     "metadata": {
      "image/png": {
       "height": 420,
       "width": 420
      }
     },
     "output_type": "display_data"
    }
   ],
   "source": [
    "hist(tips.new[tips.new$time == 'Lunch', 'perHead'],\n",
    "    main ='1인당 주문 금액(런치)', breaks=4, xlab='단위 : 달러')\n",
    "hist(tips.new[tips.new$time == 'Dinner', 'perHead'],\n",
    "    main ='1인당 주문 금액(디너)', breaks=4, xlab='단위 : 달러')"
   ]
  },
  {
   "cell_type": "code",
   "execution_count": 99,
   "id": "2da4c1d9",
   "metadata": {},
   "outputs": [],
   "source": [
    "color.5 = rep('#a8dadc', 6)"
   ]
  },
  {
   "cell_type": "code",
   "execution_count": 100,
   "id": "8a0baf9b",
   "metadata": {},
   "outputs": [
    {
     "data": {
      "text/html": [
       "<style>\n",
       ".list-inline {list-style: none; margin:0; padding: 0}\n",
       ".list-inline>li {display: inline-block}\n",
       ".list-inline>li:not(:last-child)::after {content: \"\\00b7\"; padding: 0 .5ex}\n",
       "</style>\n",
       "<ol class=list-inline><li>'#a8dadc'</li><li>'#a8dadc'</li><li>'#a8dadc'</li><li>'#a8dadc'</li><li>'#a8dadc'</li><li>'#a8dadc'</li></ol>\n"
      ],
      "text/latex": [
       "\\begin{enumerate*}\n",
       "\\item '\\#a8dadc'\n",
       "\\item '\\#a8dadc'\n",
       "\\item '\\#a8dadc'\n",
       "\\item '\\#a8dadc'\n",
       "\\item '\\#a8dadc'\n",
       "\\item '\\#a8dadc'\n",
       "\\end{enumerate*}\n"
      ],
      "text/markdown": [
       "1. '#a8dadc'\n",
       "2. '#a8dadc'\n",
       "3. '#a8dadc'\n",
       "4. '#a8dadc'\n",
       "5. '#a8dadc'\n",
       "6. '#a8dadc'\n",
       "\n",
       "\n"
      ],
      "text/plain": [
       "[1] \"#a8dadc\" \"#a8dadc\" \"#a8dadc\" \"#a8dadc\" \"#a8dadc\" \"#a8dadc\""
      ]
     },
     "metadata": {},
     "output_type": "display_data"
    }
   ],
   "source": [
    "color.5"
   ]
  },
  {
   "cell_type": "code",
   "execution_count": 101,
   "id": "9f8e9450",
   "metadata": {},
   "outputs": [],
   "source": [
    "color.5[2] = '#1d3557'"
   ]
  },
  {
   "cell_type": "code",
   "execution_count": 103,
   "id": "0bdf1a06",
   "metadata": {},
   "outputs": [
    {
     "data": {
      "image/png": "[encoded data removed]",
      "text/plain": [
       "Plot with title \"1인당 주문 금액(런치)\""
      ]
     },
     "metadata": {
      "image/png": {
       "height": 420,
       "width": 420
      }
     },
     "output_type": "display_data"
    },
    {
     "data": {
      "image/png": "[encoded data removed]",
      "text/plain": [
       "Plot with title \"1인당 주문 금액(디너)\""
      ]
     },
     "metadata": {
      "image/png": {
       "height": 420,
       "width": 420
      }
     },
     "output_type": "display_data"
    }
   ],
   "source": [
    "hist(tips.new[tips.new$time == 'Lunch', 'perHead'],\n",
    "    main ='1인당 주문 금액(런치)', breaks=4, xlab='단위 : 달러',\n",
    "    col = color.5)\n",
    "hist(tips.new[tips.new$time == 'Dinner', 'perHead'],\n",
    "    main ='1인당 주문 금액(디너)', breaks=4, xlab='단위 : 달러',\n",
    "    col = color.5)"
   ]
  },
  {
   "cell_type": "code",
   "execution_count": 104,
   "id": "901757c1",
   "metadata": {},
   "outputs": [
    {
     "data": {
      "image/png": "[encoded data removed]",
      "text/plain": [
       "Plot with title \"1인당 주문 금액(런치)\""
      ]
     },
     "metadata": {
      "image/png": {
       "height": 420,
       "width": 420
      }
     },
     "output_type": "display_data"
    },
    {
     "data": {
      "image/png": "[encoded data removed]",
      "text/plain": [
       "Plot with title \"1인당 주문 금액(디너)\""
      ]
     },
     "metadata": {
      "image/png": {
       "height": 420,
       "width": 420
      }
     },
     "output_type": "display_data"
    }
   ],
   "source": [
    "res.lunch = hist(tips.new[tips.new$time == 'Lunch', 'perHead'],\n",
    "    main ='1인당 주문 금액(런치)', breaks=4, xlab='단위 : 달러',\n",
    "    col = color.5)\n",
    "res.dinner = hist(tips.new[tips.new$time == 'Dinner', 'perHead'],\n",
    "    main ='1인당 주문 금액(디너)', breaks=4, xlab='단위 : 달러',\n",
    "    col = color.5)"
   ]
  },
  {
   "cell_type": "code",
   "execution_count": 105,
   "id": "777d8856",
   "metadata": {},
   "outputs": [
    {
     "data": {
      "text/plain": [
       "$breaks\n",
       "[1]  0  5 10 15 20\n",
       "\n",
       "$counts\n",
       "[1]  8 52  7  1\n",
       "\n",
       "$density\n",
       "[1] 0.023529412 0.152941176 0.020588235 0.002941176\n",
       "\n",
       "$mids\n",
       "[1]  2.5  7.5 12.5 17.5\n",
       "\n",
       "$xname\n",
       "[1] \"tips.new[tips.new$time == \\\"Lunch\\\", \\\"perHead\\\"]\"\n",
       "\n",
       "$equidist\n",
       "[1] TRUE\n",
       "\n",
       "attr(,\"class\")\n",
       "[1] \"histogram\""
      ]
     },
     "metadata": {},
     "output_type": "display_data"
    }
   ],
   "source": [
    "res.lunch"
   ]
  },
  {
   "cell_type": "raw",
   "id": "ddf949ed",
   "metadata": {},
   "source": [
    "res.dinner"
   ]
  },
  {
   "cell_type": "code",
   "execution_count": 107,
   "id": "57d445c9",
   "metadata": {},
   "outputs": [
    {
     "name": "stderr",
     "output_type": "stream",
     "text": [
      "Warning message in rbind(launch = c(0, res.lunch$counts), dinner = res.dinner$counts[1:6]):\n",
      "\"number of columns of result is not a multiple of vector length (arg 1)\"\n"
     ]
    }
   ],
   "source": [
    "res = rbind(launch = c(0, res.lunch$counts), dinner = res.dinner$counts[1:6])\n",
    "colnames(res) = res.dinner$breaks[2:7]"
   ]
  },
  {
   "cell_type": "code",
   "execution_count": 108,
   "id": "2969f711",
   "metadata": {},
   "outputs": [
    {
     "data": {
      "text/html": [
       "<table class=\"dataframe\">\n",
       "<caption>A matrix: 2 × 6 of type dbl</caption>\n",
       "<thead>\n",
       "\t<tr><th></th><th scope=col>5</th><th scope=col>10</th><th scope=col>15</th><th scope=col>20</th><th scope=col>25</th><th scope=col>NA</th></tr>\n",
       "</thead>\n",
       "<tbody>\n",
       "\t<tr><th scope=row>launch</th><td> 0</td><td>  8</td><td>52</td><td>7</td><td>1</td><td> 0</td></tr>\n",
       "\t<tr><th scope=row>dinner</th><td>18</td><td>117</td><td>34</td><td>6</td><td>1</td><td>NA</td></tr>\n",
       "</tbody>\n",
       "</table>\n"
      ],
      "text/latex": [
       "A matrix: 2 × 6 of type dbl\n",
       "\\begin{tabular}{r|llllll}\n",
       "  & 5 & 10 & 15 & 20 & 25 & NA\\\\\n",
       "\\hline\n",
       "\tlaunch &  0 &   8 & 52 & 7 & 1 &  0\\\\\n",
       "\tdinner & 18 & 117 & 34 & 6 & 1 & NA\\\\\n",
       "\\end{tabular}\n"
      ],
      "text/markdown": [
       "\n",
       "A matrix: 2 × 6 of type dbl\n",
       "\n",
       "| <!--/--> | 5 | 10 | 15 | 20 | 25 | NA |\n",
       "|---|---|---|---|---|---|---|\n",
       "| launch |  0 |   8 | 52 | 7 | 1 |  0 |\n",
       "| dinner | 18 | 117 | 34 | 6 | 1 | NA |\n",
       "\n"
      ],
      "text/plain": [
       "       5  10  15 20 25 <NA>\n",
       "launch  0   8 52 7  1   0  \n",
       "dinner 18 117 34 6  1  NA  "
      ]
     },
     "metadata": {},
     "output_type": "display_data"
    }
   ],
   "source": [
    "res"
   ]
  },
  {
   "cell_type": "code",
   "execution_count": 110,
   "id": "7ec78ef5",
   "metadata": {},
   "outputs": [
    {
     "data": {
      "image/png": "[encoded data removed]",
      "text/plain": [
       "Plot with title \"식사 시간에 따른 팁 비율 분포\""
      ]
     },
     "metadata": {
      "image/png": {
       "height": 420,
       "width": 420
      }
     },
     "output_type": "display_data"
    }
   ],
   "source": [
    "barplot(res, main = '식사 시간에 따른 팁 비율 분포',\n",
    "       col = c('#1d3557', '#a8dadc'),\n",
    "       legend.text = c('Lunch','Dinner'))"
   ]
  }
 ],
 "metadata": {
  "kernelspec": {
   "display_name": "R",
   "language": "R",
   "name": "ir"
  },
  "language_info": {
   "codemirror_mode": "r",
   "file_extension": ".r",
   "mimetype": "text/x-r-source",
   "name": "R",
   "pygments_lexer": "r",
   "version": "4.3.1"
  }
 },
 "nbformat": 4,
 "nbformat_minor": 5
}
