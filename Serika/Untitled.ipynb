{
 "cells": [
  {
   "cell_type": "markdown",
   "id": "4865bc50",
   "metadata": {},
   "source": [
    "### JS Jupyter"
   ]
  },
  {
   "cell_type": "code",
   "execution_count": 1,
   "id": "95336ff3",
   "metadata": {},
   "outputs": [],
   "source": [
    "var model = [2012, 2017]"
   ]
  },
  {
   "cell_type": "code",
   "execution_count": 2,
   "id": "6562b182",
   "metadata": {},
   "outputs": [
    {
     "name": "stdout",
     "output_type": "stream",
     "text": [
      "[ 2012, 2017 ]\n"
     ]
    }
   ],
   "source": [
    "console.log(model)"
   ]
  },
  {
   "cell_type": "code",
   "execution_count": 10,
   "id": "2756686f",
   "metadata": {},
   "outputs": [
    {
     "data": {
      "text/plain": [
       "2"
      ]
     },
     "execution_count": 10,
     "metadata": {},
     "output_type": "execute_result"
    }
   ],
   "source": [
    "model.length"
   ]
  },
  {
   "cell_type": "code",
   "execution_count": 14,
   "id": "f3c69986",
   "metadata": {},
   "outputs": [
    {
     "name": "stdout",
     "output_type": "stream",
     "text": [
      "1\n",
      "2\n"
     ]
    }
   ],
   "source": [
    "for(var i = 0; i < model.length;){\n",
    "    i += 1;\n",
    "    console.log(i)\n",
    "}"
   ]
  }
 ],
 "metadata": {
  "kernelspec": {
   "display_name": "JavaScript (Node.js)",
   "language": "javascript",
   "name": "javascript"
  },
  "language_info": {
   "file_extension": ".js",
   "mimetype": "application/javascript",
   "name": "javascript",
   "version": "20.3.1"
  }
 },
 "nbformat": 4,
 "nbformat_minor": 5
}
