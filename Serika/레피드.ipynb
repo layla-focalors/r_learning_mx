{
 "cells": [
  {
   "cell_type": "code",
   "execution_count": 1,
   "id": "f321ccf8",
   "metadata": {},
   "outputs": [],
   "source": [
    "wt = mtcars$wt\n",
    "mpg = mtcars$mpg"
   ]
  },
  {
   "cell_type": "code",
   "execution_count": 2,
   "id": "d6bd75dc",
   "metadata": {},
   "outputs": [
    {
     "data": {
      "text/html": [
       "<style>\n",
       ".list-inline {list-style: none; margin:0; padding: 0}\n",
       ".list-inline>li {display: inline-block}\n",
       ".list-inline>li:not(:last-child)::after {content: \"\\00b7\"; padding: 0 .5ex}\n",
       "</style>\n",
       "<ol class=list-inline><li>2.62</li><li>2.875</li><li>2.32</li><li>3.215</li><li>3.44</li><li>3.46</li><li>3.57</li><li>3.19</li><li>3.15</li><li>3.44</li><li>3.44</li><li>4.07</li><li>3.73</li><li>3.78</li><li>5.25</li><li>5.424</li><li>5.345</li><li>2.2</li><li>1.615</li><li>1.835</li><li>2.465</li><li>3.52</li><li>3.435</li><li>3.84</li><li>3.845</li><li>1.935</li><li>2.14</li><li>1.513</li><li>3.17</li><li>2.77</li><li>3.57</li><li>2.78</li></ol>\n"
      ],
      "text/latex": [
       "\\begin{enumerate*}\n",
       "\\item 2.62\n",
       "\\item 2.875\n",
       "\\item 2.32\n",
       "\\item 3.215\n",
       "\\item 3.44\n",
       "\\item 3.46\n",
       "\\item 3.57\n",
       "\\item 3.19\n",
       "\\item 3.15\n",
       "\\item 3.44\n",
       "\\item 3.44\n",
       "\\item 4.07\n",
       "\\item 3.73\n",
       "\\item 3.78\n",
       "\\item 5.25\n",
       "\\item 5.424\n",
       "\\item 5.345\n",
       "\\item 2.2\n",
       "\\item 1.615\n",
       "\\item 1.835\n",
       "\\item 2.465\n",
       "\\item 3.52\n",
       "\\item 3.435\n",
       "\\item 3.84\n",
       "\\item 3.845\n",
       "\\item 1.935\n",
       "\\item 2.14\n",
       "\\item 1.513\n",
       "\\item 3.17\n",
       "\\item 2.77\n",
       "\\item 3.57\n",
       "\\item 2.78\n",
       "\\end{enumerate*}\n"
      ],
      "text/markdown": [
       "1. 2.62\n",
       "2. 2.875\n",
       "3. 2.32\n",
       "4. 3.215\n",
       "5. 3.44\n",
       "6. 3.46\n",
       "7. 3.57\n",
       "8. 3.19\n",
       "9. 3.15\n",
       "10. 3.44\n",
       "11. 3.44\n",
       "12. 4.07\n",
       "13. 3.73\n",
       "14. 3.78\n",
       "15. 5.25\n",
       "16. 5.424\n",
       "17. 5.345\n",
       "18. 2.2\n",
       "19. 1.615\n",
       "20. 1.835\n",
       "21. 2.465\n",
       "22. 3.52\n",
       "23. 3.435\n",
       "24. 3.84\n",
       "25. 3.845\n",
       "26. 1.935\n",
       "27. 2.14\n",
       "28. 1.513\n",
       "29. 3.17\n",
       "30. 2.77\n",
       "31. 3.57\n",
       "32. 2.78\n",
       "\n",
       "\n"
      ],
      "text/plain": [
       " [1] 2.620 2.875 2.320 3.215 3.440 3.460 3.570 3.190 3.150 3.440 3.440 4.070\n",
       "[13] 3.730 3.780 5.250 5.424 5.345 2.200 1.615 1.835 2.465 3.520 3.435 3.840\n",
       "[25] 3.845 1.935 2.140 1.513 3.170 2.770 3.570 2.780"
      ]
     },
     "metadata": {},
     "output_type": "display_data"
    },
    {
     "data": {
      "text/html": [
       "<style>\n",
       ".list-inline {list-style: none; margin:0; padding: 0}\n",
       ".list-inline>li {display: inline-block}\n",
       ".list-inline>li:not(:last-child)::after {content: \"\\00b7\"; padding: 0 .5ex}\n",
       "</style>\n",
       "<ol class=list-inline><li>21</li><li>21</li><li>22.8</li><li>21.4</li><li>18.7</li><li>18.1</li><li>14.3</li><li>24.4</li><li>22.8</li><li>19.2</li><li>17.8</li><li>16.4</li><li>17.3</li><li>15.2</li><li>10.4</li><li>10.4</li><li>14.7</li><li>32.4</li><li>30.4</li><li>33.9</li><li>21.5</li><li>15.5</li><li>15.2</li><li>13.3</li><li>19.2</li><li>27.3</li><li>26</li><li>30.4</li><li>15.8</li><li>19.7</li><li>15</li><li>21.4</li></ol>\n"
      ],
      "text/latex": [
       "\\begin{enumerate*}\n",
       "\\item 21\n",
       "\\item 21\n",
       "\\item 22.8\n",
       "\\item 21.4\n",
       "\\item 18.7\n",
       "\\item 18.1\n",
       "\\item 14.3\n",
       "\\item 24.4\n",
       "\\item 22.8\n",
       "\\item 19.2\n",
       "\\item 17.8\n",
       "\\item 16.4\n",
       "\\item 17.3\n",
       "\\item 15.2\n",
       "\\item 10.4\n",
       "\\item 10.4\n",
       "\\item 14.7\n",
       "\\item 32.4\n",
       "\\item 30.4\n",
       "\\item 33.9\n",
       "\\item 21.5\n",
       "\\item 15.5\n",
       "\\item 15.2\n",
       "\\item 13.3\n",
       "\\item 19.2\n",
       "\\item 27.3\n",
       "\\item 26\n",
       "\\item 30.4\n",
       "\\item 15.8\n",
       "\\item 19.7\n",
       "\\item 15\n",
       "\\item 21.4\n",
       "\\end{enumerate*}\n"
      ],
      "text/markdown": [
       "1. 21\n",
       "2. 21\n",
       "3. 22.8\n",
       "4. 21.4\n",
       "5. 18.7\n",
       "6. 18.1\n",
       "7. 14.3\n",
       "8. 24.4\n",
       "9. 22.8\n",
       "10. 19.2\n",
       "11. 17.8\n",
       "12. 16.4\n",
       "13. 17.3\n",
       "14. 15.2\n",
       "15. 10.4\n",
       "16. 10.4\n",
       "17. 14.7\n",
       "18. 32.4\n",
       "19. 30.4\n",
       "20. 33.9\n",
       "21. 21.5\n",
       "22. 15.5\n",
       "23. 15.2\n",
       "24. 13.3\n",
       "25. 19.2\n",
       "26. 27.3\n",
       "27. 26\n",
       "28. 30.4\n",
       "29. 15.8\n",
       "30. 19.7\n",
       "31. 15\n",
       "32. 21.4\n",
       "\n",
       "\n"
      ],
      "text/plain": [
       " [1] 21.0 21.0 22.8 21.4 18.7 18.1 14.3 24.4 22.8 19.2 17.8 16.4 17.3 15.2 10.4\n",
       "[16] 10.4 14.7 32.4 30.4 33.9 21.5 15.5 15.2 13.3 19.2 27.3 26.0 30.4 15.8 19.7\n",
       "[31] 15.0 21.4"
      ]
     },
     "metadata": {},
     "output_type": "display_data"
    }
   ],
   "source": [
    "wt\n",
    "mpg"
   ]
  },
  {
   "cell_type": "code",
   "execution_count": 11,
   "id": "d3478b5e",
   "metadata": {},
   "outputs": [
    {
     "data": {
      "image/png": "[encoded data removed]",
      "text/plain": [
       "Plot with title \"중량 - 연비 그래프\""
      ]
     },
     "metadata": {
      "image/png": {
       "height": 420,
       "width": 420
      }
     },
     "output_type": "display_data"
    }
   ],
   "source": [
    "plot(wt, mpg,\n",
    "    main = '중량 - 연비 그래프',\n",
    "    xlab = '중량',\n",
    "    ylab = '연비(MPG)',\n",
    "    col = 'red',\n",
    "    pch = 19)\n",
    "lm.res = lm(mpg~wt)\n",
    "abline(lm.res)"
   ]
  },
  {
   "cell_type": "code",
   "execution_count": 8,
   "id": "b463481f",
   "metadata": {},
   "outputs": [
    {
     "data": {
      "text/plain": [
       "\n",
       "Call:\n",
       "lm(formula = mpg ~ wt)\n",
       "\n",
       "Residuals:\n",
       "    Min      1Q  Median      3Q     Max \n",
       "-4.5432 -2.3647 -0.1252  1.4096  6.8727 \n",
       "\n",
       "Coefficients:\n",
       "            Estimate Std. Error t value Pr(>|t|)    \n",
       "(Intercept)  37.2851     1.8776  19.858  < 2e-16 ***\n",
       "wt           -5.3445     0.5591  -9.559 1.29e-10 ***\n",
       "---\n",
       "Signif. codes:  0 '***' 0.001 '**' 0.01 '*' 0.05 '.' 0.1 ' ' 1\n",
       "\n",
       "Residual standard error: 3.046 on 30 degrees of freedom\n",
       "Multiple R-squared:  0.7528,\tAdjusted R-squared:  0.7446 \n",
       "F-statistic: 91.38 on 1 and 30 DF,  p-value: 1.294e-10\n"
      ]
     },
     "metadata": {},
     "output_type": "display_data"
    }
   ],
   "source": [
    "summary(lm.res)"
   ]
  },
  {
   "cell_type": "code",
   "execution_count": 9,
   "id": "d604c9cf",
   "metadata": {},
   "outputs": [
    {
     "data": {
      "text/html": [
       "<strong>1:</strong> 21.251711449174"
      ],
      "text/latex": [
       "\\textbf{1:} 21.251711449174"
      ],
      "text/markdown": [
       "**1:** 21.251711449174"
      ],
      "text/plain": [
       "       1 \n",
       "21.25171 "
      ]
     },
     "metadata": {},
     "output_type": "display_data"
    }
   ],
   "source": [
    "predict(lm.res, newdata = data.frame(wt = 3))"
   ]
  },
  {
   "cell_type": "code",
   "execution_count": 10,
   "id": "f845fe98",
   "metadata": {},
   "outputs": [
    {
     "data": {
      "text/html": [
       "21.2516"
      ],
      "text/latex": [
       "21.2516"
      ],
      "text/markdown": [
       "21.2516"
      ],
      "text/plain": [
       "[1] 21.2516"
      ]
     },
     "metadata": {},
     "output_type": "display_data"
    }
   ],
   "source": [
    "37.2851 + -5.3445 * 3"
   ]
  },
  {
   "cell_type": "code",
   "execution_count": 12,
   "id": "d3637ac0",
   "metadata": {},
   "outputs": [],
   "source": [
    "vars = c('mpg','disp','drat','wt')"
   ]
  },
  {
   "cell_type": "code",
   "execution_count": 13,
   "id": "2e16cc60",
   "metadata": {},
   "outputs": [],
   "source": [
    "target = mtcars[, vars]"
   ]
  },
  {
   "cell_type": "code",
   "execution_count": 14,
   "id": "da017046",
   "metadata": {},
   "outputs": [
    {
     "data": {
      "text/html": [
       "<table class=\"dataframe\">\n",
       "<caption>A data.frame: 32 × 4</caption>\n",
       "<thead>\n",
       "\t<tr><th></th><th scope=col>mpg</th><th scope=col>disp</th><th scope=col>drat</th><th scope=col>wt</th></tr>\n",
       "\t<tr><th></th><th scope=col>&lt;dbl&gt;</th><th scope=col>&lt;dbl&gt;</th><th scope=col>&lt;dbl&gt;</th><th scope=col>&lt;dbl&gt;</th></tr>\n",
       "</thead>\n",
       "<tbody>\n",
       "\t<tr><th scope=row>Mazda RX4</th><td>21.0</td><td>160.0</td><td>3.90</td><td>2.620</td></tr>\n",
       "\t<tr><th scope=row>Mazda RX4 Wag</th><td>21.0</td><td>160.0</td><td>3.90</td><td>2.875</td></tr>\n",
       "\t<tr><th scope=row>Datsun 710</th><td>22.8</td><td>108.0</td><td>3.85</td><td>2.320</td></tr>\n",
       "\t<tr><th scope=row>Hornet 4 Drive</th><td>21.4</td><td>258.0</td><td>3.08</td><td>3.215</td></tr>\n",
       "\t<tr><th scope=row>Hornet Sportabout</th><td>18.7</td><td>360.0</td><td>3.15</td><td>3.440</td></tr>\n",
       "\t<tr><th scope=row>Valiant</th><td>18.1</td><td>225.0</td><td>2.76</td><td>3.460</td></tr>\n",
       "\t<tr><th scope=row>Duster 360</th><td>14.3</td><td>360.0</td><td>3.21</td><td>3.570</td></tr>\n",
       "\t<tr><th scope=row>Merc 240D</th><td>24.4</td><td>146.7</td><td>3.69</td><td>3.190</td></tr>\n",
       "\t<tr><th scope=row>Merc 230</th><td>22.8</td><td>140.8</td><td>3.92</td><td>3.150</td></tr>\n",
       "\t<tr><th scope=row>Merc 280</th><td>19.2</td><td>167.6</td><td>3.92</td><td>3.440</td></tr>\n",
       "\t<tr><th scope=row>Merc 280C</th><td>17.8</td><td>167.6</td><td>3.92</td><td>3.440</td></tr>\n",
       "\t<tr><th scope=row>Merc 450SE</th><td>16.4</td><td>275.8</td><td>3.07</td><td>4.070</td></tr>\n",
       "\t<tr><th scope=row>Merc 450SL</th><td>17.3</td><td>275.8</td><td>3.07</td><td>3.730</td></tr>\n",
       "\t<tr><th scope=row>Merc 450SLC</th><td>15.2</td><td>275.8</td><td>3.07</td><td>3.780</td></tr>\n",
       "\t<tr><th scope=row>Cadillac Fleetwood</th><td>10.4</td><td>472.0</td><td>2.93</td><td>5.250</td></tr>\n",
       "\t<tr><th scope=row>Lincoln Continental</th><td>10.4</td><td>460.0</td><td>3.00</td><td>5.424</td></tr>\n",
       "\t<tr><th scope=row>Chrysler Imperial</th><td>14.7</td><td>440.0</td><td>3.23</td><td>5.345</td></tr>\n",
       "\t<tr><th scope=row>Fiat 128</th><td>32.4</td><td> 78.7</td><td>4.08</td><td>2.200</td></tr>\n",
       "\t<tr><th scope=row>Honda Civic</th><td>30.4</td><td> 75.7</td><td>4.93</td><td>1.615</td></tr>\n",
       "\t<tr><th scope=row>Toyota Corolla</th><td>33.9</td><td> 71.1</td><td>4.22</td><td>1.835</td></tr>\n",
       "\t<tr><th scope=row>Toyota Corona</th><td>21.5</td><td>120.1</td><td>3.70</td><td>2.465</td></tr>\n",
       "\t<tr><th scope=row>Dodge Challenger</th><td>15.5</td><td>318.0</td><td>2.76</td><td>3.520</td></tr>\n",
       "\t<tr><th scope=row>AMC Javelin</th><td>15.2</td><td>304.0</td><td>3.15</td><td>3.435</td></tr>\n",
       "\t<tr><th scope=row>Camaro Z28</th><td>13.3</td><td>350.0</td><td>3.73</td><td>3.840</td></tr>\n",
       "\t<tr><th scope=row>Pontiac Firebird</th><td>19.2</td><td>400.0</td><td>3.08</td><td>3.845</td></tr>\n",
       "\t<tr><th scope=row>Fiat X1-9</th><td>27.3</td><td> 79.0</td><td>4.08</td><td>1.935</td></tr>\n",
       "\t<tr><th scope=row>Porsche 914-2</th><td>26.0</td><td>120.3</td><td>4.43</td><td>2.140</td></tr>\n",
       "\t<tr><th scope=row>Lotus Europa</th><td>30.4</td><td> 95.1</td><td>3.77</td><td>1.513</td></tr>\n",
       "\t<tr><th scope=row>Ford Pantera L</th><td>15.8</td><td>351.0</td><td>4.22</td><td>3.170</td></tr>\n",
       "\t<tr><th scope=row>Ferrari Dino</th><td>19.7</td><td>145.0</td><td>3.62</td><td>2.770</td></tr>\n",
       "\t<tr><th scope=row>Maserati Bora</th><td>15.0</td><td>301.0</td><td>3.54</td><td>3.570</td></tr>\n",
       "\t<tr><th scope=row>Volvo 142E</th><td>21.4</td><td>121.0</td><td>4.11</td><td>2.780</td></tr>\n",
       "</tbody>\n",
       "</table>\n"
      ],
      "text/latex": [
       "A data.frame: 32 × 4\n",
       "\\begin{tabular}{r|llll}\n",
       "  & mpg & disp & drat & wt\\\\\n",
       "  & <dbl> & <dbl> & <dbl> & <dbl>\\\\\n",
       "\\hline\n",
       "\tMazda RX4 & 21.0 & 160.0 & 3.90 & 2.620\\\\\n",
       "\tMazda RX4 Wag & 21.0 & 160.0 & 3.90 & 2.875\\\\\n",
       "\tDatsun 710 & 22.8 & 108.0 & 3.85 & 2.320\\\\\n",
       "\tHornet 4 Drive & 21.4 & 258.0 & 3.08 & 3.215\\\\\n",
       "\tHornet Sportabout & 18.7 & 360.0 & 3.15 & 3.440\\\\\n",
       "\tValiant & 18.1 & 225.0 & 2.76 & 3.460\\\\\n",
       "\tDuster 360 & 14.3 & 360.0 & 3.21 & 3.570\\\\\n",
       "\tMerc 240D & 24.4 & 146.7 & 3.69 & 3.190\\\\\n",
       "\tMerc 230 & 22.8 & 140.8 & 3.92 & 3.150\\\\\n",
       "\tMerc 280 & 19.2 & 167.6 & 3.92 & 3.440\\\\\n",
       "\tMerc 280C & 17.8 & 167.6 & 3.92 & 3.440\\\\\n",
       "\tMerc 450SE & 16.4 & 275.8 & 3.07 & 4.070\\\\\n",
       "\tMerc 450SL & 17.3 & 275.8 & 3.07 & 3.730\\\\\n",
       "\tMerc 450SLC & 15.2 & 275.8 & 3.07 & 3.780\\\\\n",
       "\tCadillac Fleetwood & 10.4 & 472.0 & 2.93 & 5.250\\\\\n",
       "\tLincoln Continental & 10.4 & 460.0 & 3.00 & 5.424\\\\\n",
       "\tChrysler Imperial & 14.7 & 440.0 & 3.23 & 5.345\\\\\n",
       "\tFiat 128 & 32.4 &  78.7 & 4.08 & 2.200\\\\\n",
       "\tHonda Civic & 30.4 &  75.7 & 4.93 & 1.615\\\\\n",
       "\tToyota Corolla & 33.9 &  71.1 & 4.22 & 1.835\\\\\n",
       "\tToyota Corona & 21.5 & 120.1 & 3.70 & 2.465\\\\\n",
       "\tDodge Challenger & 15.5 & 318.0 & 2.76 & 3.520\\\\\n",
       "\tAMC Javelin & 15.2 & 304.0 & 3.15 & 3.435\\\\\n",
       "\tCamaro Z28 & 13.3 & 350.0 & 3.73 & 3.840\\\\\n",
       "\tPontiac Firebird & 19.2 & 400.0 & 3.08 & 3.845\\\\\n",
       "\tFiat X1-9 & 27.3 &  79.0 & 4.08 & 1.935\\\\\n",
       "\tPorsche 914-2 & 26.0 & 120.3 & 4.43 & 2.140\\\\\n",
       "\tLotus Europa & 30.4 &  95.1 & 3.77 & 1.513\\\\\n",
       "\tFord Pantera L & 15.8 & 351.0 & 4.22 & 3.170\\\\\n",
       "\tFerrari Dino & 19.7 & 145.0 & 3.62 & 2.770\\\\\n",
       "\tMaserati Bora & 15.0 & 301.0 & 3.54 & 3.570\\\\\n",
       "\tVolvo 142E & 21.4 & 121.0 & 4.11 & 2.780\\\\\n",
       "\\end{tabular}\n"
      ],
      "text/markdown": [
       "\n",
       "A data.frame: 32 × 4\n",
       "\n",
       "| <!--/--> | mpg &lt;dbl&gt; | disp &lt;dbl&gt; | drat &lt;dbl&gt; | wt &lt;dbl&gt; |\n",
       "|---|---|---|---|---|\n",
       "| Mazda RX4 | 21.0 | 160.0 | 3.90 | 2.620 |\n",
       "| Mazda RX4 Wag | 21.0 | 160.0 | 3.90 | 2.875 |\n",
       "| Datsun 710 | 22.8 | 108.0 | 3.85 | 2.320 |\n",
       "| Hornet 4 Drive | 21.4 | 258.0 | 3.08 | 3.215 |\n",
       "| Hornet Sportabout | 18.7 | 360.0 | 3.15 | 3.440 |\n",
       "| Valiant | 18.1 | 225.0 | 2.76 | 3.460 |\n",
       "| Duster 360 | 14.3 | 360.0 | 3.21 | 3.570 |\n",
       "| Merc 240D | 24.4 | 146.7 | 3.69 | 3.190 |\n",
       "| Merc 230 | 22.8 | 140.8 | 3.92 | 3.150 |\n",
       "| Merc 280 | 19.2 | 167.6 | 3.92 | 3.440 |\n",
       "| Merc 280C | 17.8 | 167.6 | 3.92 | 3.440 |\n",
       "| Merc 450SE | 16.4 | 275.8 | 3.07 | 4.070 |\n",
       "| Merc 450SL | 17.3 | 275.8 | 3.07 | 3.730 |\n",
       "| Merc 450SLC | 15.2 | 275.8 | 3.07 | 3.780 |\n",
       "| Cadillac Fleetwood | 10.4 | 472.0 | 2.93 | 5.250 |\n",
       "| Lincoln Continental | 10.4 | 460.0 | 3.00 | 5.424 |\n",
       "| Chrysler Imperial | 14.7 | 440.0 | 3.23 | 5.345 |\n",
       "| Fiat 128 | 32.4 |  78.7 | 4.08 | 2.200 |\n",
       "| Honda Civic | 30.4 |  75.7 | 4.93 | 1.615 |\n",
       "| Toyota Corolla | 33.9 |  71.1 | 4.22 | 1.835 |\n",
       "| Toyota Corona | 21.5 | 120.1 | 3.70 | 2.465 |\n",
       "| Dodge Challenger | 15.5 | 318.0 | 2.76 | 3.520 |\n",
       "| AMC Javelin | 15.2 | 304.0 | 3.15 | 3.435 |\n",
       "| Camaro Z28 | 13.3 | 350.0 | 3.73 | 3.840 |\n",
       "| Pontiac Firebird | 19.2 | 400.0 | 3.08 | 3.845 |\n",
       "| Fiat X1-9 | 27.3 |  79.0 | 4.08 | 1.935 |\n",
       "| Porsche 914-2 | 26.0 | 120.3 | 4.43 | 2.140 |\n",
       "| Lotus Europa | 30.4 |  95.1 | 3.77 | 1.513 |\n",
       "| Ford Pantera L | 15.8 | 351.0 | 4.22 | 3.170 |\n",
       "| Ferrari Dino | 19.7 | 145.0 | 3.62 | 2.770 |\n",
       "| Maserati Bora | 15.0 | 301.0 | 3.54 | 3.570 |\n",
       "| Volvo 142E | 21.4 | 121.0 | 4.11 | 2.780 |\n",
       "\n"
      ],
      "text/plain": [
       "                    mpg  disp  drat wt   \n",
       "Mazda RX4           21.0 160.0 3.90 2.620\n",
       "Mazda RX4 Wag       21.0 160.0 3.90 2.875\n",
       "Datsun 710          22.8 108.0 3.85 2.320\n",
       "Hornet 4 Drive      21.4 258.0 3.08 3.215\n",
       "Hornet Sportabout   18.7 360.0 3.15 3.440\n",
       "Valiant             18.1 225.0 2.76 3.460\n",
       "Duster 360          14.3 360.0 3.21 3.570\n",
       "Merc 240D           24.4 146.7 3.69 3.190\n",
       "Merc 230            22.8 140.8 3.92 3.150\n",
       "Merc 280            19.2 167.6 3.92 3.440\n",
       "Merc 280C           17.8 167.6 3.92 3.440\n",
       "Merc 450SE          16.4 275.8 3.07 4.070\n",
       "Merc 450SL          17.3 275.8 3.07 3.730\n",
       "Merc 450SLC         15.2 275.8 3.07 3.780\n",
       "Cadillac Fleetwood  10.4 472.0 2.93 5.250\n",
       "Lincoln Continental 10.4 460.0 3.00 5.424\n",
       "Chrysler Imperial   14.7 440.0 3.23 5.345\n",
       "Fiat 128            32.4  78.7 4.08 2.200\n",
       "Honda Civic         30.4  75.7 4.93 1.615\n",
       "Toyota Corolla      33.9  71.1 4.22 1.835\n",
       "Toyota Corona       21.5 120.1 3.70 2.465\n",
       "Dodge Challenger    15.5 318.0 2.76 3.520\n",
       "AMC Javelin         15.2 304.0 3.15 3.435\n",
       "Camaro Z28          13.3 350.0 3.73 3.840\n",
       "Pontiac Firebird    19.2 400.0 3.08 3.845\n",
       "Fiat X1-9           27.3  79.0 4.08 1.935\n",
       "Porsche 914-2       26.0 120.3 4.43 2.140\n",
       "Lotus Europa        30.4  95.1 3.77 1.513\n",
       "Ford Pantera L      15.8 351.0 4.22 3.170\n",
       "Ferrari Dino        19.7 145.0 3.62 2.770\n",
       "Maserati Bora       15.0 301.0 3.54 3.570\n",
       "Volvo 142E          21.4 121.0 4.11 2.780"
      ]
     },
     "metadata": {},
     "output_type": "display_data"
    }
   ],
   "source": [
    "target"
   ]
  },
  {
   "cell_type": "code",
   "execution_count": 16,
   "id": "ed055206",
   "metadata": {},
   "outputs": [
    {
     "data": {
      "image/png": "[encoded data removed]",
      "text/plain": [
       "plot without title"
      ]
     },
     "metadata": {
      "image/png": {
       "height": 420,
       "width": 420
      }
     },
     "output_type": "display_data"
    }
   ],
   "source": [
    "pairs(target,\n",
    "     main = 'Multi Plots')"
   ]
  },
  {
   "cell_type": "code",
   "execution_count": 17,
   "id": "4d11c4c6",
   "metadata": {},
   "outputs": [],
   "source": [
    "iris.2 = iris[, 3:4]"
   ]
  },
  {
   "cell_type": "code",
   "execution_count": 18,
   "id": "a176f8d7",
   "metadata": {},
   "outputs": [
    {
     "data": {
      "text/html": [
       "<table class=\"dataframe\">\n",
       "<caption>A data.frame: 150 × 2</caption>\n",
       "<thead>\n",
       "\t<tr><th scope=col>Petal.Length</th><th scope=col>Petal.Width</th></tr>\n",
       "\t<tr><th scope=col>&lt;dbl&gt;</th><th scope=col>&lt;dbl&gt;</th></tr>\n",
       "</thead>\n",
       "<tbody>\n",
       "\t<tr><td>1.4</td><td>0.2</td></tr>\n",
       "\t<tr><td>1.4</td><td>0.2</td></tr>\n",
       "\t<tr><td>1.3</td><td>0.2</td></tr>\n",
       "\t<tr><td>1.5</td><td>0.2</td></tr>\n",
       "\t<tr><td>1.4</td><td>0.2</td></tr>\n",
       "\t<tr><td>1.7</td><td>0.4</td></tr>\n",
       "\t<tr><td>1.4</td><td>0.3</td></tr>\n",
       "\t<tr><td>1.5</td><td>0.2</td></tr>\n",
       "\t<tr><td>1.4</td><td>0.2</td></tr>\n",
       "\t<tr><td>1.5</td><td>0.1</td></tr>\n",
       "\t<tr><td>1.5</td><td>0.2</td></tr>\n",
       "\t<tr><td>1.6</td><td>0.2</td></tr>\n",
       "\t<tr><td>1.4</td><td>0.1</td></tr>\n",
       "\t<tr><td>1.1</td><td>0.1</td></tr>\n",
       "\t<tr><td>1.2</td><td>0.2</td></tr>\n",
       "\t<tr><td>1.5</td><td>0.4</td></tr>\n",
       "\t<tr><td>1.3</td><td>0.4</td></tr>\n",
       "\t<tr><td>1.4</td><td>0.3</td></tr>\n",
       "\t<tr><td>1.7</td><td>0.3</td></tr>\n",
       "\t<tr><td>1.5</td><td>0.3</td></tr>\n",
       "\t<tr><td>1.7</td><td>0.2</td></tr>\n",
       "\t<tr><td>1.5</td><td>0.4</td></tr>\n",
       "\t<tr><td>1.0</td><td>0.2</td></tr>\n",
       "\t<tr><td>1.7</td><td>0.5</td></tr>\n",
       "\t<tr><td>1.9</td><td>0.2</td></tr>\n",
       "\t<tr><td>1.6</td><td>0.2</td></tr>\n",
       "\t<tr><td>1.6</td><td>0.4</td></tr>\n",
       "\t<tr><td>1.5</td><td>0.2</td></tr>\n",
       "\t<tr><td>1.4</td><td>0.2</td></tr>\n",
       "\t<tr><td>1.6</td><td>0.2</td></tr>\n",
       "\t<tr><td>⋮</td><td>⋮</td></tr>\n",
       "\t<tr><td>5.7</td><td>2.3</td></tr>\n",
       "\t<tr><td>4.9</td><td>2.0</td></tr>\n",
       "\t<tr><td>6.7</td><td>2.0</td></tr>\n",
       "\t<tr><td>4.9</td><td>1.8</td></tr>\n",
       "\t<tr><td>5.7</td><td>2.1</td></tr>\n",
       "\t<tr><td>6.0</td><td>1.8</td></tr>\n",
       "\t<tr><td>4.8</td><td>1.8</td></tr>\n",
       "\t<tr><td>4.9</td><td>1.8</td></tr>\n",
       "\t<tr><td>5.6</td><td>2.1</td></tr>\n",
       "\t<tr><td>5.8</td><td>1.6</td></tr>\n",
       "\t<tr><td>6.1</td><td>1.9</td></tr>\n",
       "\t<tr><td>6.4</td><td>2.0</td></tr>\n",
       "\t<tr><td>5.6</td><td>2.2</td></tr>\n",
       "\t<tr><td>5.1</td><td>1.5</td></tr>\n",
       "\t<tr><td>5.6</td><td>1.4</td></tr>\n",
       "\t<tr><td>6.1</td><td>2.3</td></tr>\n",
       "\t<tr><td>5.6</td><td>2.4</td></tr>\n",
       "\t<tr><td>5.5</td><td>1.8</td></tr>\n",
       "\t<tr><td>4.8</td><td>1.8</td></tr>\n",
       "\t<tr><td>5.4</td><td>2.1</td></tr>\n",
       "\t<tr><td>5.6</td><td>2.4</td></tr>\n",
       "\t<tr><td>5.1</td><td>2.3</td></tr>\n",
       "\t<tr><td>5.1</td><td>1.9</td></tr>\n",
       "\t<tr><td>5.9</td><td>2.3</td></tr>\n",
       "\t<tr><td>5.7</td><td>2.5</td></tr>\n",
       "\t<tr><td>5.2</td><td>2.3</td></tr>\n",
       "\t<tr><td>5.0</td><td>1.9</td></tr>\n",
       "\t<tr><td>5.2</td><td>2.0</td></tr>\n",
       "\t<tr><td>5.4</td><td>2.3</td></tr>\n",
       "\t<tr><td>5.1</td><td>1.8</td></tr>\n",
       "</tbody>\n",
       "</table>\n"
      ],
      "text/latex": [
       "A data.frame: 150 × 2\n",
       "\\begin{tabular}{ll}\n",
       " Petal.Length & Petal.Width\\\\\n",
       " <dbl> & <dbl>\\\\\n",
       "\\hline\n",
       "\t 1.4 & 0.2\\\\\n",
       "\t 1.4 & 0.2\\\\\n",
       "\t 1.3 & 0.2\\\\\n",
       "\t 1.5 & 0.2\\\\\n",
       "\t 1.4 & 0.2\\\\\n",
       "\t 1.7 & 0.4\\\\\n",
       "\t 1.4 & 0.3\\\\\n",
       "\t 1.5 & 0.2\\\\\n",
       "\t 1.4 & 0.2\\\\\n",
       "\t 1.5 & 0.1\\\\\n",
       "\t 1.5 & 0.2\\\\\n",
       "\t 1.6 & 0.2\\\\\n",
       "\t 1.4 & 0.1\\\\\n",
       "\t 1.1 & 0.1\\\\\n",
       "\t 1.2 & 0.2\\\\\n",
       "\t 1.5 & 0.4\\\\\n",
       "\t 1.3 & 0.4\\\\\n",
       "\t 1.4 & 0.3\\\\\n",
       "\t 1.7 & 0.3\\\\\n",
       "\t 1.5 & 0.3\\\\\n",
       "\t 1.7 & 0.2\\\\\n",
       "\t 1.5 & 0.4\\\\\n",
       "\t 1.0 & 0.2\\\\\n",
       "\t 1.7 & 0.5\\\\\n",
       "\t 1.9 & 0.2\\\\\n",
       "\t 1.6 & 0.2\\\\\n",
       "\t 1.6 & 0.4\\\\\n",
       "\t 1.5 & 0.2\\\\\n",
       "\t 1.4 & 0.2\\\\\n",
       "\t 1.6 & 0.2\\\\\n",
       "\t ⋮ & ⋮\\\\\n",
       "\t 5.7 & 2.3\\\\\n",
       "\t 4.9 & 2.0\\\\\n",
       "\t 6.7 & 2.0\\\\\n",
       "\t 4.9 & 1.8\\\\\n",
       "\t 5.7 & 2.1\\\\\n",
       "\t 6.0 & 1.8\\\\\n",
       "\t 4.8 & 1.8\\\\\n",
       "\t 4.9 & 1.8\\\\\n",
       "\t 5.6 & 2.1\\\\\n",
       "\t 5.8 & 1.6\\\\\n",
       "\t 6.1 & 1.9\\\\\n",
       "\t 6.4 & 2.0\\\\\n",
       "\t 5.6 & 2.2\\\\\n",
       "\t 5.1 & 1.5\\\\\n",
       "\t 5.6 & 1.4\\\\\n",
       "\t 6.1 & 2.3\\\\\n",
       "\t 5.6 & 2.4\\\\\n",
       "\t 5.5 & 1.8\\\\\n",
       "\t 4.8 & 1.8\\\\\n",
       "\t 5.4 & 2.1\\\\\n",
       "\t 5.6 & 2.4\\\\\n",
       "\t 5.1 & 2.3\\\\\n",
       "\t 5.1 & 1.9\\\\\n",
       "\t 5.9 & 2.3\\\\\n",
       "\t 5.7 & 2.5\\\\\n",
       "\t 5.2 & 2.3\\\\\n",
       "\t 5.0 & 1.9\\\\\n",
       "\t 5.2 & 2.0\\\\\n",
       "\t 5.4 & 2.3\\\\\n",
       "\t 5.1 & 1.8\\\\\n",
       "\\end{tabular}\n"
      ],
      "text/markdown": [
       "\n",
       "A data.frame: 150 × 2\n",
       "\n",
       "| Petal.Length &lt;dbl&gt; | Petal.Width &lt;dbl&gt; |\n",
       "|---|---|\n",
       "| 1.4 | 0.2 |\n",
       "| 1.4 | 0.2 |\n",
       "| 1.3 | 0.2 |\n",
       "| 1.5 | 0.2 |\n",
       "| 1.4 | 0.2 |\n",
       "| 1.7 | 0.4 |\n",
       "| 1.4 | 0.3 |\n",
       "| 1.5 | 0.2 |\n",
       "| 1.4 | 0.2 |\n",
       "| 1.5 | 0.1 |\n",
       "| 1.5 | 0.2 |\n",
       "| 1.6 | 0.2 |\n",
       "| 1.4 | 0.1 |\n",
       "| 1.1 | 0.1 |\n",
       "| 1.2 | 0.2 |\n",
       "| 1.5 | 0.4 |\n",
       "| 1.3 | 0.4 |\n",
       "| 1.4 | 0.3 |\n",
       "| 1.7 | 0.3 |\n",
       "| 1.5 | 0.3 |\n",
       "| 1.7 | 0.2 |\n",
       "| 1.5 | 0.4 |\n",
       "| 1.0 | 0.2 |\n",
       "| 1.7 | 0.5 |\n",
       "| 1.9 | 0.2 |\n",
       "| 1.6 | 0.2 |\n",
       "| 1.6 | 0.4 |\n",
       "| 1.5 | 0.2 |\n",
       "| 1.4 | 0.2 |\n",
       "| 1.6 | 0.2 |\n",
       "| ⋮ | ⋮ |\n",
       "| 5.7 | 2.3 |\n",
       "| 4.9 | 2.0 |\n",
       "| 6.7 | 2.0 |\n",
       "| 4.9 | 1.8 |\n",
       "| 5.7 | 2.1 |\n",
       "| 6.0 | 1.8 |\n",
       "| 4.8 | 1.8 |\n",
       "| 4.9 | 1.8 |\n",
       "| 5.6 | 2.1 |\n",
       "| 5.8 | 1.6 |\n",
       "| 6.1 | 1.9 |\n",
       "| 6.4 | 2.0 |\n",
       "| 5.6 | 2.2 |\n",
       "| 5.1 | 1.5 |\n",
       "| 5.6 | 1.4 |\n",
       "| 6.1 | 2.3 |\n",
       "| 5.6 | 2.4 |\n",
       "| 5.5 | 1.8 |\n",
       "| 4.8 | 1.8 |\n",
       "| 5.4 | 2.1 |\n",
       "| 5.6 | 2.4 |\n",
       "| 5.1 | 2.3 |\n",
       "| 5.1 | 1.9 |\n",
       "| 5.9 | 2.3 |\n",
       "| 5.7 | 2.5 |\n",
       "| 5.2 | 2.3 |\n",
       "| 5.0 | 1.9 |\n",
       "| 5.2 | 2.0 |\n",
       "| 5.4 | 2.3 |\n",
       "| 5.1 | 1.8 |\n",
       "\n"
      ],
      "text/plain": [
       "    Petal.Length Petal.Width\n",
       "1   1.4          0.2        \n",
       "2   1.4          0.2        \n",
       "3   1.3          0.2        \n",
       "4   1.5          0.2        \n",
       "5   1.4          0.2        \n",
       "6   1.7          0.4        \n",
       "7   1.4          0.3        \n",
       "8   1.5          0.2        \n",
       "9   1.4          0.2        \n",
       "10  1.5          0.1        \n",
       "11  1.5          0.2        \n",
       "12  1.6          0.2        \n",
       "13  1.4          0.1        \n",
       "14  1.1          0.1        \n",
       "15  1.2          0.2        \n",
       "16  1.5          0.4        \n",
       "17  1.3          0.4        \n",
       "18  1.4          0.3        \n",
       "19  1.7          0.3        \n",
       "20  1.5          0.3        \n",
       "21  1.7          0.2        \n",
       "22  1.5          0.4        \n",
       "23  1.0          0.2        \n",
       "24  1.7          0.5        \n",
       "25  1.9          0.2        \n",
       "26  1.6          0.2        \n",
       "27  1.6          0.4        \n",
       "28  1.5          0.2        \n",
       "29  1.4          0.2        \n",
       "30  1.6          0.2        \n",
       "⋮   ⋮            ⋮          \n",
       "121 5.7          2.3        \n",
       "122 4.9          2.0        \n",
       "123 6.7          2.0        \n",
       "124 4.9          1.8        \n",
       "125 5.7          2.1        \n",
       "126 6.0          1.8        \n",
       "127 4.8          1.8        \n",
       "128 4.9          1.8        \n",
       "129 5.6          2.1        \n",
       "130 5.8          1.6        \n",
       "131 6.1          1.9        \n",
       "132 6.4          2.0        \n",
       "133 5.6          2.2        \n",
       "134 5.1          1.5        \n",
       "135 5.6          1.4        \n",
       "136 6.1          2.3        \n",
       "137 5.6          2.4        \n",
       "138 5.5          1.8        \n",
       "139 4.8          1.8        \n",
       "140 5.4          2.1        \n",
       "141 5.6          2.4        \n",
       "142 5.1          2.3        \n",
       "143 5.1          1.9        \n",
       "144 5.9          2.3        \n",
       "145 5.7          2.5        \n",
       "146 5.2          2.3        \n",
       "147 5.0          1.9        \n",
       "148 5.2          2.0        \n",
       "149 5.4          2.3        \n",
       "150 5.1          1.8        "
      ]
     },
     "metadata": {},
     "output_type": "display_data"
    }
   ],
   "source": [
    "iris.2"
   ]
  },
  {
   "cell_type": "code",
   "execution_count": 19,
   "id": "46b6e99a",
   "metadata": {},
   "outputs": [],
   "source": [
    "point = as.numeric(iris$Species)"
   ]
  },
  {
   "cell_type": "code",
   "execution_count": 20,
   "id": "626aae85",
   "metadata": {},
   "outputs": [
    {
     "data": {
      "text/html": [
       "<style>\n",
       ".list-inline {list-style: none; margin:0; padding: 0}\n",
       ".list-inline>li {display: inline-block}\n",
       ".list-inline>li:not(:last-child)::after {content: \"\\00b7\"; padding: 0 .5ex}\n",
       "</style>\n",
       "<ol class=list-inline><li>1</li><li>1</li><li>1</li><li>1</li><li>1</li><li>1</li><li>1</li><li>1</li><li>1</li><li>1</li><li>1</li><li>1</li><li>1</li><li>1</li><li>1</li><li>1</li><li>1</li><li>1</li><li>1</li><li>1</li><li>1</li><li>1</li><li>1</li><li>1</li><li>1</li><li>1</li><li>1</li><li>1</li><li>1</li><li>1</li><li>1</li><li>1</li><li>1</li><li>1</li><li>1</li><li>1</li><li>1</li><li>1</li><li>1</li><li>1</li><li>1</li><li>1</li><li>1</li><li>1</li><li>1</li><li>1</li><li>1</li><li>1</li><li>1</li><li>1</li><li>2</li><li>2</li><li>2</li><li>2</li><li>2</li><li>2</li><li>2</li><li>2</li><li>2</li><li>2</li><li>2</li><li>2</li><li>2</li><li>2</li><li>2</li><li>2</li><li>2</li><li>2</li><li>2</li><li>2</li><li>2</li><li>2</li><li>2</li><li>2</li><li>2</li><li>2</li><li>2</li><li>2</li><li>2</li><li>2</li><li>2</li><li>2</li><li>2</li><li>2</li><li>2</li><li>2</li><li>2</li><li>2</li><li>2</li><li>2</li><li>2</li><li>2</li><li>2</li><li>2</li><li>2</li><li>2</li><li>2</li><li>2</li><li>2</li><li>2</li><li>3</li><li>3</li><li>3</li><li>3</li><li>3</li><li>3</li><li>3</li><li>3</li><li>3</li><li>3</li><li>3</li><li>3</li><li>3</li><li>3</li><li>3</li><li>3</li><li>3</li><li>3</li><li>3</li><li>3</li><li>3</li><li>3</li><li>3</li><li>3</li><li>3</li><li>3</li><li>3</li><li>3</li><li>3</li><li>3</li><li>3</li><li>3</li><li>3</li><li>3</li><li>3</li><li>3</li><li>3</li><li>3</li><li>3</li><li>3</li><li>3</li><li>3</li><li>3</li><li>3</li><li>3</li><li>3</li><li>3</li><li>3</li><li>3</li><li>3</li></ol>\n"
      ],
      "text/latex": [
       "\\begin{enumerate*}\n",
       "\\item 1\n",
       "\\item 1\n",
       "\\item 1\n",
       "\\item 1\n",
       "\\item 1\n",
       "\\item 1\n",
       "\\item 1\n",
       "\\item 1\n",
       "\\item 1\n",
       "\\item 1\n",
       "\\item 1\n",
       "\\item 1\n",
       "\\item 1\n",
       "\\item 1\n",
       "\\item 1\n",
       "\\item 1\n",
       "\\item 1\n",
       "\\item 1\n",
       "\\item 1\n",
       "\\item 1\n",
       "\\item 1\n",
       "\\item 1\n",
       "\\item 1\n",
       "\\item 1\n",
       "\\item 1\n",
       "\\item 1\n",
       "\\item 1\n",
       "\\item 1\n",
       "\\item 1\n",
       "\\item 1\n",
       "\\item 1\n",
       "\\item 1\n",
       "\\item 1\n",
       "\\item 1\n",
       "\\item 1\n",
       "\\item 1\n",
       "\\item 1\n",
       "\\item 1\n",
       "\\item 1\n",
       "\\item 1\n",
       "\\item 1\n",
       "\\item 1\n",
       "\\item 1\n",
       "\\item 1\n",
       "\\item 1\n",
       "\\item 1\n",
       "\\item 1\n",
       "\\item 1\n",
       "\\item 1\n",
       "\\item 1\n",
       "\\item 2\n",
       "\\item 2\n",
       "\\item 2\n",
       "\\item 2\n",
       "\\item 2\n",
       "\\item 2\n",
       "\\item 2\n",
       "\\item 2\n",
       "\\item 2\n",
       "\\item 2\n",
       "\\item 2\n",
       "\\item 2\n",
       "\\item 2\n",
       "\\item 2\n",
       "\\item 2\n",
       "\\item 2\n",
       "\\item 2\n",
       "\\item 2\n",
       "\\item 2\n",
       "\\item 2\n",
       "\\item 2\n",
       "\\item 2\n",
       "\\item 2\n",
       "\\item 2\n",
       "\\item 2\n",
       "\\item 2\n",
       "\\item 2\n",
       "\\item 2\n",
       "\\item 2\n",
       "\\item 2\n",
       "\\item 2\n",
       "\\item 2\n",
       "\\item 2\n",
       "\\item 2\n",
       "\\item 2\n",
       "\\item 2\n",
       "\\item 2\n",
       "\\item 2\n",
       "\\item 2\n",
       "\\item 2\n",
       "\\item 2\n",
       "\\item 2\n",
       "\\item 2\n",
       "\\item 2\n",
       "\\item 2\n",
       "\\item 2\n",
       "\\item 2\n",
       "\\item 2\n",
       "\\item 2\n",
       "\\item 2\n",
       "\\item 3\n",
       "\\item 3\n",
       "\\item 3\n",
       "\\item 3\n",
       "\\item 3\n",
       "\\item 3\n",
       "\\item 3\n",
       "\\item 3\n",
       "\\item 3\n",
       "\\item 3\n",
       "\\item 3\n",
       "\\item 3\n",
       "\\item 3\n",
       "\\item 3\n",
       "\\item 3\n",
       "\\item 3\n",
       "\\item 3\n",
       "\\item 3\n",
       "\\item 3\n",
       "\\item 3\n",
       "\\item 3\n",
       "\\item 3\n",
       "\\item 3\n",
       "\\item 3\n",
       "\\item 3\n",
       "\\item 3\n",
       "\\item 3\n",
       "\\item 3\n",
       "\\item 3\n",
       "\\item 3\n",
       "\\item 3\n",
       "\\item 3\n",
       "\\item 3\n",
       "\\item 3\n",
       "\\item 3\n",
       "\\item 3\n",
       "\\item 3\n",
       "\\item 3\n",
       "\\item 3\n",
       "\\item 3\n",
       "\\item 3\n",
       "\\item 3\n",
       "\\item 3\n",
       "\\item 3\n",
       "\\item 3\n",
       "\\item 3\n",
       "\\item 3\n",
       "\\item 3\n",
       "\\item 3\n",
       "\\item 3\n",
       "\\end{enumerate*}\n"
      ],
      "text/markdown": [
       "1. 1\n",
       "2. 1\n",
       "3. 1\n",
       "4. 1\n",
       "5. 1\n",
       "6. 1\n",
       "7. 1\n",
       "8. 1\n",
       "9. 1\n",
       "10. 1\n",
       "11. 1\n",
       "12. 1\n",
       "13. 1\n",
       "14. 1\n",
       "15. 1\n",
       "16. 1\n",
       "17. 1\n",
       "18. 1\n",
       "19. 1\n",
       "20. 1\n",
       "21. 1\n",
       "22. 1\n",
       "23. 1\n",
       "24. 1\n",
       "25. 1\n",
       "26. 1\n",
       "27. 1\n",
       "28. 1\n",
       "29. 1\n",
       "30. 1\n",
       "31. 1\n",
       "32. 1\n",
       "33. 1\n",
       "34. 1\n",
       "35. 1\n",
       "36. 1\n",
       "37. 1\n",
       "38. 1\n",
       "39. 1\n",
       "40. 1\n",
       "41. 1\n",
       "42. 1\n",
       "43. 1\n",
       "44. 1\n",
       "45. 1\n",
       "46. 1\n",
       "47. 1\n",
       "48. 1\n",
       "49. 1\n",
       "50. 1\n",
       "51. 2\n",
       "52. 2\n",
       "53. 2\n",
       "54. 2\n",
       "55. 2\n",
       "56. 2\n",
       "57. 2\n",
       "58. 2\n",
       "59. 2\n",
       "60. 2\n",
       "61. 2\n",
       "62. 2\n",
       "63. 2\n",
       "64. 2\n",
       "65. 2\n",
       "66. 2\n",
       "67. 2\n",
       "68. 2\n",
       "69. 2\n",
       "70. 2\n",
       "71. 2\n",
       "72. 2\n",
       "73. 2\n",
       "74. 2\n",
       "75. 2\n",
       "76. 2\n",
       "77. 2\n",
       "78. 2\n",
       "79. 2\n",
       "80. 2\n",
       "81. 2\n",
       "82. 2\n",
       "83. 2\n",
       "84. 2\n",
       "85. 2\n",
       "86. 2\n",
       "87. 2\n",
       "88. 2\n",
       "89. 2\n",
       "90. 2\n",
       "91. 2\n",
       "92. 2\n",
       "93. 2\n",
       "94. 2\n",
       "95. 2\n",
       "96. 2\n",
       "97. 2\n",
       "98. 2\n",
       "99. 2\n",
       "100. 2\n",
       "101. 3\n",
       "102. 3\n",
       "103. 3\n",
       "104. 3\n",
       "105. 3\n",
       "106. 3\n",
       "107. 3\n",
       "108. 3\n",
       "109. 3\n",
       "110. 3\n",
       "111. 3\n",
       "112. 3\n",
       "113. 3\n",
       "114. 3\n",
       "115. 3\n",
       "116. 3\n",
       "117. 3\n",
       "118. 3\n",
       "119. 3\n",
       "120. 3\n",
       "121. 3\n",
       "122. 3\n",
       "123. 3\n",
       "124. 3\n",
       "125. 3\n",
       "126. 3\n",
       "127. 3\n",
       "128. 3\n",
       "129. 3\n",
       "130. 3\n",
       "131. 3\n",
       "132. 3\n",
       "133. 3\n",
       "134. 3\n",
       "135. 3\n",
       "136. 3\n",
       "137. 3\n",
       "138. 3\n",
       "139. 3\n",
       "140. 3\n",
       "141. 3\n",
       "142. 3\n",
       "143. 3\n",
       "144. 3\n",
       "145. 3\n",
       "146. 3\n",
       "147. 3\n",
       "148. 3\n",
       "149. 3\n",
       "150. 3\n",
       "\n",
       "\n"
      ],
      "text/plain": [
       "  [1] 1 1 1 1 1 1 1 1 1 1 1 1 1 1 1 1 1 1 1 1 1 1 1 1 1 1 1 1 1 1 1 1 1 1 1 1 1\n",
       " [38] 1 1 1 1 1 1 1 1 1 1 1 1 1 2 2 2 2 2 2 2 2 2 2 2 2 2 2 2 2 2 2 2 2 2 2 2 2\n",
       " [75] 2 2 2 2 2 2 2 2 2 2 2 2 2 2 2 2 2 2 2 2 2 2 2 2 2 2 3 3 3 3 3 3 3 3 3 3 3\n",
       "[112] 3 3 3 3 3 3 3 3 3 3 3 3 3 3 3 3 3 3 3 3 3 3 3 3 3 3 3 3 3 3 3 3 3 3 3 3 3\n",
       "[149] 3 3"
      ]
     },
     "metadata": {},
     "output_type": "display_data"
    }
   ],
   "source": [
    "point"
   ]
  },
  {
   "cell_type": "code",
   "execution_count": 25,
   "id": "809642d5",
   "metadata": {},
   "outputs": [],
   "source": [
    "color= c('red','pink','blue')"
   ]
  },
  {
   "cell_type": "code",
   "execution_count": 28,
   "id": "1615b3fa",
   "metadata": {},
   "outputs": [
    {
     "data": {
      "image/png": "[encoded data removed]",
      "text/plain": [
       "Plot with title \"Iris Plot\""
      ]
     },
     "metadata": {
      "image/png": {
       "height": 420,
       "width": 420
      }
     },
     "output_type": "display_data"
    }
   ],
   "source": [
    "plot(iris.2,\n",
    "    col = color[point],\n",
    "    pch = point,\n",
    "    main = 'Iris Plot')"
   ]
  },
  {
   "cell_type": "code",
   "execution_count": 34,
   "id": "ae3d6bdd",
   "metadata": {},
   "outputs": [],
   "source": [
    "beers = c(5, 2, 9, 8, 3, 7, 3, 5, 3, 5)\n",
    "bal = c(0.1, 0.03, 0.19, 0.12, 0.04, 0.0095, 0.07, 0.06, 0.02, 0.05)"
   ]
  },
  {
   "cell_type": "code",
   "execution_count": 35,
   "id": "d3d5abe0",
   "metadata": {},
   "outputs": [
    {
     "data": {
      "text/html": [
       "10"
      ],
      "text/latex": [
       "10"
      ],
      "text/markdown": [
       "10"
      ],
      "text/plain": [
       "[1] 10"
      ]
     },
     "metadata": {},
     "output_type": "display_data"
    },
    {
     "data": {
      "text/html": [
       "10"
      ],
      "text/latex": [
       "10"
      ],
      "text/markdown": [
       "10"
      ],
      "text/plain": [
       "[1] 10"
      ]
     },
     "metadata": {},
     "output_type": "display_data"
    }
   ],
   "source": [
    "length(beers)\n",
    "length(bal)"
   ]
  },
  {
   "cell_type": "code",
   "execution_count": 37,
   "id": "8cb021cc",
   "metadata": {},
   "outputs": [
    {
     "data": {
      "image/png": "[encoded data removed]",
      "text/plain": [
       "plot without title"
      ]
     },
     "metadata": {
      "image/png": {
       "height": 420,
       "width": 420
      }
     },
     "output_type": "display_data"
    }
   ],
   "source": [
    "plot(beers, bal)\n",
    "lm.res = lm(bal~beers)\n",
    "abline(lm.res)"
   ]
  },
  {
   "cell_type": "code",
   "execution_count": 38,
   "id": "e456b273",
   "metadata": {},
   "outputs": [
    {
     "data": {
      "text/plain": [
       "\n",
       "Call:\n",
       "lm(formula = bal ~ beers)\n",
       "\n",
       "Residuals:\n",
       "     Min       1Q   Median       3Q      Max \n",
       "-0.09101 -0.01528  0.00316  0.02539  0.05793 \n",
       "\n",
       "Coefficients:\n",
       "             Estimate Std. Error t value Pr(>|t|)  \n",
       "(Intercept) -0.009950   0.032976  -0.302   0.7705  \n",
       "beers        0.015780   0.006021   2.621   0.0306 *\n",
       "---\n",
       "Signif. codes:  0 '***' 0.001 '**' 0.01 '*' 0.05 '.' 0.1 ' ' 1\n",
       "\n",
       "Residual standard error: 0.04257 on 8 degrees of freedom\n",
       "Multiple R-squared:  0.462,\tAdjusted R-squared:  0.3947 \n",
       "F-statistic:  6.87 on 1 and 8 DF,  p-value: 0.0306\n"
      ]
     },
     "metadata": {},
     "output_type": "display_data"
    }
   ],
   "source": [
    "summary(lm.res)"
   ]
  },
  {
   "cell_type": "code",
   "execution_count": 39,
   "id": "e30ec0aa",
   "metadata": {},
   "outputs": [
    {
     "data": {
      "text/html": [
       "<strong>1:</strong> 0.05317"
      ],
      "text/latex": [
       "\\textbf{1:} 0.05317"
      ],
      "text/markdown": [
       "**1:** 0.05317"
      ],
      "text/plain": [
       "      1 \n",
       "0.05317 "
      ]
     },
     "metadata": {},
     "output_type": "display_data"
    }
   ],
   "source": [
    "predict(lm.res, newdata = data.frame(beers = 4))"
   ]
  },
  {
   "cell_type": "code",
   "execution_count": 40,
   "id": "08c75dcc",
   "metadata": {},
   "outputs": [
    {
     "data": {
      "text/html": [
       "0.05317"
      ],
      "text/latex": [
       "0.05317"
      ],
      "text/markdown": [
       "0.05317"
      ],
      "text/plain": [
       "[1] 0.05317"
      ]
     },
     "metadata": {},
     "output_type": "display_data"
    }
   ],
   "source": [
    "-0.009950 + 0.015780 * 4"
   ]
  },
  {
   "cell_type": "code",
   "execution_count": 41,
   "id": "f1ccd7a3",
   "metadata": {},
   "outputs": [],
   "source": [
    "month = 1:12"
   ]
  },
  {
   "cell_type": "code",
   "execution_count": 42,
   "id": "da289dc6",
   "metadata": {},
   "outputs": [],
   "source": [
    "late1 = c(5, 8, 7, 9, 4, 6, 12, 13, 8, 6, 6, 4)\n",
    "late2 = c(4, 6, 5, 8, 7, 8, 10, 11, 6, 5, 7, 3)"
   ]
  },
  {
   "cell_type": "code",
   "execution_count": 44,
   "id": "4555933c",
   "metadata": {},
   "outputs": [
    {
     "data": {
      "image/png": "[encoded data removed]",
      "text/plain": [
       "plot without title"
      ]
     },
     "metadata": {
      "image/png": {
       "height": 420,
       "width": 420
      }
     },
     "output_type": "display_data"
    }
   ],
   "source": [
    "plot(month, late1,\n",
    "    type = 'l')"
   ]
  },
  {
   "cell_type": "code",
   "execution_count": 45,
   "id": "6260542f",
   "metadata": {},
   "outputs": [
    {
     "data": {
      "image/png": "[encoded data removed]",
      "text/plain": [
       "plot without title"
      ]
     },
     "metadata": {
      "image/png": {
       "height": 420,
       "width": 420
      }
     },
     "output_type": "display_data"
    }
   ],
   "source": [
    "plot(month, late1,\n",
    "    type = 'b')"
   ]
  },
  {
   "cell_type": "code",
   "execution_count": 46,
   "id": "5cf47323",
   "metadata": {},
   "outputs": [
    {
     "data": {
      "image/png": "[encoded data removed]",
      "text/plain": [
       "plot without title"
      ]
     },
     "metadata": {
      "image/png": {
       "height": 420,
       "width": 420
      }
     },
     "output_type": "display_data"
    }
   ],
   "source": [
    "plot(month, late1,\n",
    "    type = 'p')"
   ]
  },
  {
   "cell_type": "code",
   "execution_count": 47,
   "id": "ed02572d",
   "metadata": {},
   "outputs": [
    {
     "data": {
      "image/png": "[encoded data removed]",
      "text/plain": [
       "plot without title"
      ]
     },
     "metadata": {
      "image/png": {
       "height": 420,
       "width": 420
      }
     },
     "output_type": "display_data"
    }
   ],
   "source": [
    "plot(month, late1,\n",
    "    type = 's')"
   ]
  },
  {
   "cell_type": "code",
   "execution_count": 48,
   "id": "70dfa339",
   "metadata": {},
   "outputs": [
    {
     "data": {
      "image/png": "[encoded data removed]",
      "text/plain": [
       "plot without title"
      ]
     },
     "metadata": {
      "image/png": {
       "height": 420,
       "width": 420
      }
     },
     "output_type": "display_data"
    }
   ],
   "source": [
    "plot(month, late1,\n",
    "    type = 'o')"
   ]
  },
  {
   "cell_type": "code",
   "execution_count": 56,
   "id": "9c5f84d9",
   "metadata": {},
   "outputs": [
    {
     "data": {
      "image/png": "[encoded data removed]",
      "text/plain": [
       "Plot with title \"Late Students\""
      ]
     },
     "metadata": {
      "image/png": {
       "height": 420,
       "width": 420
      }
     },
     "output_type": "display_data"
    }
   ],
   "source": [
    "plot(month, late1,\n",
    "    main = 'Late Students',\n",
    "    xlab = 'Month',\n",
    "    ylab = 'Late Cnt',\n",
    "    type = 'b',\n",
    "    col = 'red')\n",
    "lines(month, late2,\n",
    "     type = 'b',\n",
    "     col = 'blue')"
   ]
  },
  {
   "cell_type": "code",
   "execution_count": 58,
   "id": "953fcced",
   "metadata": {},
   "outputs": [
    {
     "data": {
      "text/html": [
       "<style>\n",
       ".list-inline {list-style: none; margin:0; padding: 0}\n",
       ".list-inline>li {display: inline-block}\n",
       ".list-inline>li:not(:last-child)::after {content: \"\\00b7\"; padding: 0 .5ex}\n",
       "</style>\n",
       "<ol class=list-inline><li>1</li><li>2</li><li>3</li><li>4</li><li>5</li><li>6</li><li>7</li><li>8</li><li>9</li><li>10</li><li>11</li><li>12</li></ol>\n"
      ],
      "text/latex": [
       "\\begin{enumerate*}\n",
       "\\item 1\n",
       "\\item 2\n",
       "\\item 3\n",
       "\\item 4\n",
       "\\item 5\n",
       "\\item 6\n",
       "\\item 7\n",
       "\\item 8\n",
       "\\item 9\n",
       "\\item 10\n",
       "\\item 11\n",
       "\\item 12\n",
       "\\end{enumerate*}\n"
      ],
      "text/markdown": [
       "1. 1\n",
       "2. 2\n",
       "3. 3\n",
       "4. 4\n",
       "5. 5\n",
       "6. 6\n",
       "7. 7\n",
       "8. 8\n",
       "9. 9\n",
       "10. 10\n",
       "11. 11\n",
       "12. 12\n",
       "\n",
       "\n"
      ],
      "text/plain": [
       " [1]  1  2  3  4  5  6  7  8  9 10 11 12"
      ]
     },
     "metadata": {},
     "output_type": "display_data"
    },
    {
     "data": {
      "text/html": [
       "<style>\n",
       ".list-inline {list-style: none; margin:0; padding: 0}\n",
       ".list-inline>li {display: inline-block}\n",
       ".list-inline>li:not(:last-child)::after {content: \"\\00b7\"; padding: 0 .5ex}\n",
       "</style>\n",
       "<ol class=list-inline><li>5</li><li>8</li><li>7</li><li>9</li><li>4</li><li>6</li><li>12</li><li>13</li><li>8</li><li>6</li><li>6</li><li>4</li></ol>\n"
      ],
      "text/latex": [
       "\\begin{enumerate*}\n",
       "\\item 5\n",
       "\\item 8\n",
       "\\item 7\n",
       "\\item 9\n",
       "\\item 4\n",
       "\\item 6\n",
       "\\item 12\n",
       "\\item 13\n",
       "\\item 8\n",
       "\\item 6\n",
       "\\item 6\n",
       "\\item 4\n",
       "\\end{enumerate*}\n"
      ],
      "text/markdown": [
       "1. 5\n",
       "2. 8\n",
       "3. 7\n",
       "4. 9\n",
       "5. 4\n",
       "6. 6\n",
       "7. 12\n",
       "8. 13\n",
       "9. 8\n",
       "10. 6\n",
       "11. 6\n",
       "12. 4\n",
       "\n",
       "\n"
      ],
      "text/plain": [
       " [1]  5  8  7  9  4  6 12 13  8  6  6  4"
      ]
     },
     "metadata": {},
     "output_type": "display_data"
    },
    {
     "data": {
      "text/html": [
       "<style>\n",
       ".list-inline {list-style: none; margin:0; padding: 0}\n",
       ".list-inline>li {display: inline-block}\n",
       ".list-inline>li:not(:last-child)::after {content: \"\\00b7\"; padding: 0 .5ex}\n",
       "</style>\n",
       "<ol class=list-inline><li>4</li><li>6</li><li>5</li><li>8</li><li>7</li><li>8</li><li>10</li><li>11</li><li>6</li><li>5</li><li>7</li><li>3</li></ol>\n"
      ],
      "text/latex": [
       "\\begin{enumerate*}\n",
       "\\item 4\n",
       "\\item 6\n",
       "\\item 5\n",
       "\\item 8\n",
       "\\item 7\n",
       "\\item 8\n",
       "\\item 10\n",
       "\\item 11\n",
       "\\item 6\n",
       "\\item 5\n",
       "\\item 7\n",
       "\\item 3\n",
       "\\end{enumerate*}\n"
      ],
      "text/markdown": [
       "1. 4\n",
       "2. 6\n",
       "3. 5\n",
       "4. 8\n",
       "5. 7\n",
       "6. 8\n",
       "7. 10\n",
       "8. 11\n",
       "9. 6\n",
       "10. 5\n",
       "11. 7\n",
       "12. 3\n",
       "\n",
       "\n"
      ],
      "text/plain": [
       " [1]  4  6  5  8  7  8 10 11  6  5  7  3"
      ]
     },
     "metadata": {},
     "output_type": "display_data"
    }
   ],
   "source": [
    "month\n",
    "late1\n",
    "late2"
   ]
  },
  {
   "cell_type": "code",
   "execution_count": 61,
   "id": "95fddfae",
   "metadata": {},
   "outputs": [
    {
     "data": {
      "image/png": "[encoded data removed]",
      "text/plain": [
       "Plot with title \"Late Students\""
      ]
     },
     "metadata": {
      "image/png": {
       "height": 420,
       "width": 420
      }
     },
     "output_type": "display_data"
    }
   ],
   "source": [
    "plot(month, late1,\n",
    "    main = 'Late Students',\n",
    "    xlab = 'Month',\n",
    "    ylab = 'Late Cnt',\n",
    "    type = 'b',\n",
    "    col = 'red')\n",
    "lm.res = lm(late1~month)\n",
    "lines(month, late2,\n",
    "     type = 'b',\n",
    "     col = 'blue')\n",
    "abline(lm.res)"
   ]
  },
  {
   "cell_type": "code",
   "execution_count": 62,
   "id": "2ceb7419",
   "metadata": {},
   "outputs": [
    {
     "data": {
      "text/plain": [
       "\n",
       "Call:\n",
       "lm(formula = late1 ~ month)\n",
       "\n",
       "Residuals:\n",
       "    Min      1Q  Median      3Q     Max \n",
       "-3.3753 -1.6323 -0.8193  0.9516  5.7086 \n",
       "\n",
       "Coefficients:\n",
       "            Estimate Std. Error t value Pr(>|t|)   \n",
       "(Intercept)  7.51515    1.85205   4.058  0.00229 **\n",
       "month       -0.02797    0.25164  -0.111  0.91369   \n",
       "---\n",
       "Signif. codes:  0 '***' 0.001 '**' 0.01 '*' 0.05 '.' 0.1 ' ' 1\n",
       "\n",
       "Residual standard error: 3.009 on 10 degrees of freedom\n",
       "Multiple R-squared:  0.001234,\tAdjusted R-squared:  -0.09864 \n",
       "F-statistic: 0.01236 on 1 and 10 DF,  p-value: 0.9137\n"
      ]
     },
     "metadata": {},
     "output_type": "display_data"
    }
   ],
   "source": [
    "summary(lm.res)"
   ]
  },
  {
   "cell_type": "code",
   "execution_count": 63,
   "id": "53873d70",
   "metadata": {},
   "outputs": [
    {
     "data": {
      "text/html": [
       "<strong>1:</strong> 7.31934731934732"
      ],
      "text/latex": [
       "\\textbf{1:} 7.31934731934732"
      ],
      "text/markdown": [
       "**1:** 7.31934731934732"
      ],
      "text/plain": [
       "       1 \n",
       "7.319347 "
      ]
     },
     "metadata": {},
     "output_type": "display_data"
    }
   ],
   "source": [
    "predict(lm.res, newdata = data.frame(month = 7))"
   ]
  },
  {
   "cell_type": "code",
   "execution_count": 64,
   "id": "c2ec7b2e",
   "metadata": {},
   "outputs": [
    {
     "data": {
      "text/html": [
       "7.51936"
      ],
      "text/latex": [
       "7.51936"
      ],
      "text/markdown": [
       "7.51936"
      ],
      "text/plain": [
       "[1] 7.51936"
      ]
     },
     "metadata": {},
     "output_type": "display_data"
    }
   ],
   "source": [
    "7.71515 + -0.02797 * 7"
   ]
  },
  {
   "cell_type": "code",
   "execution_count": null,
   "id": "2bf2eda8",
   "metadata": {},
   "outputs": [],
   "source": []
  }
 ],
 "metadata": {
  "kernelspec": {
   "display_name": "R",
   "language": "R",
   "name": "ir"
  },
  "language_info": {
   "codemirror_mode": "r",
   "file_extension": ".r",
   "mimetype": "text/x-r-source",
   "name": "R",
   "pygments_lexer": "r",
   "version": "4.3.1"
  }
 },
 "nbformat": 4,
 "nbformat_minor": 5
}
