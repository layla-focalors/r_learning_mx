{
 "cells": [
  {
   "cell_type": "code",
   "execution_count": 1,
   "id": "90ee4bd8",
   "metadata": {},
   "outputs": [],
   "source": [
    "wt = mtcars$wt\n",
    "mpg = mtcars$mpg"
   ]
  },
  {
   "cell_type": "code",
   "execution_count": 2,
   "id": "fd464f33",
   "metadata": {},
   "outputs": [
    {
     "data": {
      "text/html": [
       "<style>\n",
       ".list-inline {list-style: none; margin:0; padding: 0}\n",
       ".list-inline>li {display: inline-block}\n",
       ".list-inline>li:not(:last-child)::after {content: \"\\00b7\"; padding: 0 .5ex}\n",
       "</style>\n",
       "<ol class=list-inline><li>2.62</li><li>2.875</li><li>2.32</li><li>3.215</li><li>3.44</li><li>3.46</li><li>3.57</li><li>3.19</li><li>3.15</li><li>3.44</li><li>3.44</li><li>4.07</li><li>3.73</li><li>3.78</li><li>5.25</li><li>5.424</li><li>5.345</li><li>2.2</li><li>1.615</li><li>1.835</li><li>2.465</li><li>3.52</li><li>3.435</li><li>3.84</li><li>3.845</li><li>1.935</li><li>2.14</li><li>1.513</li><li>3.17</li><li>2.77</li><li>3.57</li><li>2.78</li></ol>\n"
      ],
      "text/latex": [
       "\\begin{enumerate*}\n",
       "\\item 2.62\n",
       "\\item 2.875\n",
       "\\item 2.32\n",
       "\\item 3.215\n",
       "\\item 3.44\n",
       "\\item 3.46\n",
       "\\item 3.57\n",
       "\\item 3.19\n",
       "\\item 3.15\n",
       "\\item 3.44\n",
       "\\item 3.44\n",
       "\\item 4.07\n",
       "\\item 3.73\n",
       "\\item 3.78\n",
       "\\item 5.25\n",
       "\\item 5.424\n",
       "\\item 5.345\n",
       "\\item 2.2\n",
       "\\item 1.615\n",
       "\\item 1.835\n",
       "\\item 2.465\n",
       "\\item 3.52\n",
       "\\item 3.435\n",
       "\\item 3.84\n",
       "\\item 3.845\n",
       "\\item 1.935\n",
       "\\item 2.14\n",
       "\\item 1.513\n",
       "\\item 3.17\n",
       "\\item 2.77\n",
       "\\item 3.57\n",
       "\\item 2.78\n",
       "\\end{enumerate*}\n"
      ],
      "text/markdown": [
       "1. 2.62\n",
       "2. 2.875\n",
       "3. 2.32\n",
       "4. 3.215\n",
       "5. 3.44\n",
       "6. 3.46\n",
       "7. 3.57\n",
       "8. 3.19\n",
       "9. 3.15\n",
       "10. 3.44\n",
       "11. 3.44\n",
       "12. 4.07\n",
       "13. 3.73\n",
       "14. 3.78\n",
       "15. 5.25\n",
       "16. 5.424\n",
       "17. 5.345\n",
       "18. 2.2\n",
       "19. 1.615\n",
       "20. 1.835\n",
       "21. 2.465\n",
       "22. 3.52\n",
       "23. 3.435\n",
       "24. 3.84\n",
       "25. 3.845\n",
       "26. 1.935\n",
       "27. 2.14\n",
       "28. 1.513\n",
       "29. 3.17\n",
       "30. 2.77\n",
       "31. 3.57\n",
       "32. 2.78\n",
       "\n",
       "\n"
      ],
      "text/plain": [
       " [1] 2.620 2.875 2.320 3.215 3.440 3.460 3.570 3.190 3.150 3.440 3.440 4.070\n",
       "[13] 3.730 3.780 5.250 5.424 5.345 2.200 1.615 1.835 2.465 3.520 3.435 3.840\n",
       "[25] 3.845 1.935 2.140 1.513 3.170 2.770 3.570 2.780"
      ]
     },
     "metadata": {},
     "output_type": "display_data"
    },
    {
     "data": {
      "text/html": [
       "<style>\n",
       ".list-inline {list-style: none; margin:0; padding: 0}\n",
       ".list-inline>li {display: inline-block}\n",
       ".list-inline>li:not(:last-child)::after {content: \"\\00b7\"; padding: 0 .5ex}\n",
       "</style>\n",
       "<ol class=list-inline><li>21</li><li>21</li><li>22.8</li><li>21.4</li><li>18.7</li><li>18.1</li><li>14.3</li><li>24.4</li><li>22.8</li><li>19.2</li><li>17.8</li><li>16.4</li><li>17.3</li><li>15.2</li><li>10.4</li><li>10.4</li><li>14.7</li><li>32.4</li><li>30.4</li><li>33.9</li><li>21.5</li><li>15.5</li><li>15.2</li><li>13.3</li><li>19.2</li><li>27.3</li><li>26</li><li>30.4</li><li>15.8</li><li>19.7</li><li>15</li><li>21.4</li></ol>\n"
      ],
      "text/latex": [
       "\\begin{enumerate*}\n",
       "\\item 21\n",
       "\\item 21\n",
       "\\item 22.8\n",
       "\\item 21.4\n",
       "\\item 18.7\n",
       "\\item 18.1\n",
       "\\item 14.3\n",
       "\\item 24.4\n",
       "\\item 22.8\n",
       "\\item 19.2\n",
       "\\item 17.8\n",
       "\\item 16.4\n",
       "\\item 17.3\n",
       "\\item 15.2\n",
       "\\item 10.4\n",
       "\\item 10.4\n",
       "\\item 14.7\n",
       "\\item 32.4\n",
       "\\item 30.4\n",
       "\\item 33.9\n",
       "\\item 21.5\n",
       "\\item 15.5\n",
       "\\item 15.2\n",
       "\\item 13.3\n",
       "\\item 19.2\n",
       "\\item 27.3\n",
       "\\item 26\n",
       "\\item 30.4\n",
       "\\item 15.8\n",
       "\\item 19.7\n",
       "\\item 15\n",
       "\\item 21.4\n",
       "\\end{enumerate*}\n"
      ],
      "text/markdown": [
       "1. 21\n",
       "2. 21\n",
       "3. 22.8\n",
       "4. 21.4\n",
       "5. 18.7\n",
       "6. 18.1\n",
       "7. 14.3\n",
       "8. 24.4\n",
       "9. 22.8\n",
       "10. 19.2\n",
       "11. 17.8\n",
       "12. 16.4\n",
       "13. 17.3\n",
       "14. 15.2\n",
       "15. 10.4\n",
       "16. 10.4\n",
       "17. 14.7\n",
       "18. 32.4\n",
       "19. 30.4\n",
       "20. 33.9\n",
       "21. 21.5\n",
       "22. 15.5\n",
       "23. 15.2\n",
       "24. 13.3\n",
       "25. 19.2\n",
       "26. 27.3\n",
       "27. 26\n",
       "28. 30.4\n",
       "29. 15.8\n",
       "30. 19.7\n",
       "31. 15\n",
       "32. 21.4\n",
       "\n",
       "\n"
      ],
      "text/plain": [
       " [1] 21.0 21.0 22.8 21.4 18.7 18.1 14.3 24.4 22.8 19.2 17.8 16.4 17.3 15.2 10.4\n",
       "[16] 10.4 14.7 32.4 30.4 33.9 21.5 15.5 15.2 13.3 19.2 27.3 26.0 30.4 15.8 19.7\n",
       "[31] 15.0 21.4"
      ]
     },
     "metadata": {},
     "output_type": "display_data"
    }
   ],
   "source": [
    "wt\n",
    "mpg"
   ]
  },
  {
   "cell_type": "code",
   "execution_count": 11,
   "id": "24ed0cab",
   "metadata": {},
   "outputs": [
    {
     "data": {
      "image/png": "[encoded data removed]",
      "text/plain": [
       "Plot with title \"중량 - 연비 그래프\""
      ]
     },
     "metadata": {
      "image/png": {
       "height": 420,
       "width": 420
      }
     },
     "output_type": "display_data"
    }
   ],
   "source": [
    "plot(wt, mpg,\n",
    "    main = '중량 - 연비 그래프',\n",
    "    xlab = '중량',\n",
    "    ylab = '연비(MPG)',\n",
    "    col = 'red',\n",
    "    pch = 19)\n",
    "lm.res = lm(mpg~wt)\n",
    "abline(lm.res)"
   ]
  },
  {
   "cell_type": "code",
   "execution_count": 8,
   "id": "0a9f604c",
   "metadata": {},
   "outputs": [
    {
     "data": {
      "text/plain": [
       "\n",
       "Call:\n",
       "lm(formula = mpg ~ wt)\n",
       "\n",
       "Residuals:\n",
       "    Min      1Q  Median      3Q     Max \n",
       "-4.5432 -2.3647 -0.1252  1.4096  6.8727 \n",
       "\n",
       "Coefficients:\n",
       "            Estimate Std. Error t value Pr(>|t|)    \n",
       "(Intercept)  37.2851     1.8776  19.858  < 2e-16 ***\n",
       "wt           -5.3445     0.5591  -9.559 1.29e-10 ***\n",
       "---\n",
       "Signif. codes:  0 '***' 0.001 '**' 0.01 '*' 0.05 '.' 0.1 ' ' 1\n",
       "\n",
       "Residual standard error: 3.046 on 30 degrees of freedom\n",
       "Multiple R-squared:  0.7528,\tAdjusted R-squared:  0.7446 \n",
       "F-statistic: 91.38 on 1 and 30 DF,  p-value: 1.294e-10\n"
      ]
     },
     "metadata": {},
     "output_type": "display_data"
    }
   ],
   "source": [
    "summary(lm.res)"
   ]
  },
  {
   "cell_type": "code",
   "execution_count": 9,
   "id": "28d996df",
   "metadata": {},
   "outputs": [
    {
     "data": {
      "text/html": [
       "<strong>1:</strong> 21.251711449174"
      ],
      "text/latex": [
       "\\textbf{1:} 21.251711449174"
      ],
      "text/markdown": [
       "**1:** 21.251711449174"
      ],
      "text/plain": [
       "       1 \n",
       "21.25171 "
      ]
     },
     "metadata": {},
     "output_type": "display_data"
    }
   ],
   "source": [
    "predict(lm.res, newdata = data.frame(wt = 3))"
   ]
  },
  {
   "cell_type": "code",
   "execution_count": 10,
   "id": "0a91c1f3",
   "metadata": {},
   "outputs": [
    {
     "data": {
      "text/html": [
       "21.2516"
      ],
      "text/latex": [
       "21.2516"
      ],
      "text/markdown": [
       "21.2516"
      ],
      "text/plain": [
       "[1] 21.2516"
      ]
     },
     "metadata": {},
     "output_type": "display_data"
    }
   ],
   "source": [
    "37.2851 + -5.3445 * 3"
   ]
  },
  {
   "cell_type": "code",
   "execution_count": 12,
   "id": "5f107572",
   "metadata": {},
   "outputs": [],
   "source": [
    "vars = c('mpg','disp','drat','wt')"
   ]
  },
  {
   "cell_type": "code",
   "execution_count": 13,
   "id": "99393888",
   "metadata": {},
   "outputs": [],
   "source": [
    "target = mtcars[, vars]"
   ]
  },
  {
   "cell_type": "code",
   "execution_count": 14,
   "id": "09894bd8",
   "metadata": {},
   "outputs": [
    {
     "data": {
      "text/html": [
       "<table class=\"dataframe\">\n",
       "<caption>A data.frame: 32 × 4</caption>\n",
       "<thead>\n",
       "\t<tr><th></th><th scope=col>mpg</th><th scope=col>disp</th><th scope=col>drat</th><th scope=col>wt</th></tr>\n",
       "\t<tr><th></th><th scope=col>&lt;dbl&gt;</th><th scope=col>&lt;dbl&gt;</th><th scope=col>&lt;dbl&gt;</th><th scope=col>&lt;dbl&gt;</th></tr>\n",
       "</thead>\n",
       "<tbody>\n",
       "\t<tr><th scope=row>Mazda RX4</th><td>21.0</td><td>160.0</td><td>3.90</td><td>2.620</td></tr>\n",
       "\t<tr><th scope=row>Mazda RX4 Wag</th><td>21.0</td><td>160.0</td><td>3.90</td><td>2.875</td></tr>\n",
       "\t<tr><th scope=row>Datsun 710</th><td>22.8</td><td>108.0</td><td>3.85</td><td>2.320</td></tr>\n",
       "\t<tr><th scope=row>Hornet 4 Drive</th><td>21.4</td><td>258.0</td><td>3.08</td><td>3.215</td></tr>\n",
       "\t<tr><th scope=row>Hornet Sportabout</th><td>18.7</td><td>360.0</td><td>3.15</td><td>3.440</td></tr>\n",
       "\t<tr><th scope=row>Valiant</th><td>18.1</td><td>225.0</td><td>2.76</td><td>3.460</td></tr>\n",
       "\t<tr><th scope=row>Duster 360</th><td>14.3</td><td>360.0</td><td>3.21</td><td>3.570</td></tr>\n",
       "\t<tr><th scope=row>Merc 240D</th><td>24.4</td><td>146.7</td><td>3.69</td><td>3.190</td></tr>\n",
       "\t<tr><th scope=row>Merc 230</th><td>22.8</td><td>140.8</td><td>3.92</td><td>3.150</td></tr>\n",
       "\t<tr><th scope=row>Merc 280</th><td>19.2</td><td>167.6</td><td>3.92</td><td>3.440</td></tr>\n",
       "\t<tr><th scope=row>Merc 280C</th><td>17.8</td><td>167.6</td><td>3.92</td><td>3.440</td></tr>\n",
       "\t<tr><th scope=row>Merc 450SE</th><td>16.4</td><td>275.8</td><td>3.07</td><td>4.070</td></tr>\n",
       "\t<tr><th scope=row>Merc 450SL</th><td>17.3</td><td>275.8</td><td>3.07</td><td>3.730</td></tr>\n",
       "\t<tr><th scope=row>Merc 450SLC</th><td>15.2</td><td>275.8</td><td>3.07</td><td>3.780</td></tr>\n",
       "\t<tr><th scope=row>Cadillac Fleetwood</th><td>10.4</td><td>472.0</td><td>2.93</td><td>5.250</td></tr>\n",
       "\t<tr><th scope=row>Lincoln Continental</th><td>10.4</td><td>460.0</td><td>3.00</td><td>5.424</td></tr>\n",
       "\t<tr><th scope=row>Chrysler Imperial</th><td>14.7</td><td>440.0</td><td>3.23</td><td>5.345</td></tr>\n",
       "\t<tr><th scope=row>Fiat 128</th><td>32.4</td><td> 78.7</td><td>4.08</td><td>2.200</td></tr>\n",
       "\t<tr><th scope=row>Honda Civic</th><td>30.4</td><td> 75.7</td><td>4.93</td><td>1.615</td></tr>\n",
       "\t<tr><th scope=row>Toyota Corolla</th><td>33.9</td><td> 71.1</td><td>4.22</td><td>1.835</td></tr>\n",
       "\t<tr><th scope=row>Toyota Corona</th><td>21.5</td><td>120.1</td><td>3.70</td><td>2.465</td></tr>\n",
       "\t<tr><th scope=row>Dodge Challenger</th><td>15.5</td><td>318.0</td><td>2.76</td><td>3.520</td></tr>\n",
       "\t<tr><th scope=row>AMC Javelin</th><td>15.2</td><td>304.0</td><td>3.15</td><td>3.435</td></tr>\n",
       "\t<tr><th scope=row>Camaro Z28</th><td>13.3</td><td>350.0</td><td>3.73</td><td>3.840</td></tr>\n",
       "\t<tr><th scope=row>Pontiac Firebird</th><td>19.2</td><td>400.0</td><td>3.08</td><td>3.845</td></tr>\n",
       "\t<tr><th scope=row>Fiat X1-9</th><td>27.3</td><td> 79.0</td><td>4.08</td><td>1.935</td></tr>\n",
       "\t<tr><th scope=row>Porsche 914-2</th><td>26.0</td><td>120.3</td><td>4.43</td><td>2.140</td></tr>\n",
       "\t<tr><th scope=row>Lotus Europa</th><td>30.4</td><td> 95.1</td><td>3.77</td><td>1.513</td></tr>\n",
       "\t<tr><th scope=row>Ford Pantera L</th><td>15.8</td><td>351.0</td><td>4.22</td><td>3.170</td></tr>\n",
       "\t<tr><th scope=row>Ferrari Dino</th><td>19.7</td><td>145.0</td><td>3.62</td><td>2.770</td></tr>\n",
       "\t<tr><th scope=row>Maserati Bora</th><td>15.0</td><td>301.0</td><td>3.54</td><td>3.570</td></tr>\n",
       "\t<tr><th scope=row>Volvo 142E</th><td>21.4</td><td>121.0</td><td>4.11</td><td>2.780</td></tr>\n",
       "</tbody>\n",
       "</table>\n"
      ],
      "text/latex": [
       "A data.frame: 32 × 4\n",
       "\\begin{tabular}{r|llll}\n",
       "  & mpg & disp & drat & wt\\\\\n",
       "  & <dbl> & <dbl> & <dbl> & <dbl>\\\\\n",
       "\\hline\n",
       "\tMazda RX4 & 21.0 & 160.0 & 3.90 & 2.620\\\\\n",
       "\tMazda RX4 Wag & 21.0 & 160.0 & 3.90 & 2.875\\\\\n",
       "\tDatsun 710 & 22.8 & 108.0 & 3.85 & 2.320\\\\\n",
       "\tHornet 4 Drive & 21.4 & 258.0 & 3.08 & 3.215\\\\\n",
       "\tHornet Sportabout & 18.7 & 360.0 & 3.15 & 3.440\\\\\n",
       "\tValiant & 18.1 & 225.0 & 2.76 & 3.460\\\\\n",
       "\tDuster 360 & 14.3 & 360.0 & 3.21 & 3.570\\\\\n",
       "\tMerc 240D & 24.4 & 146.7 & 3.69 & 3.190\\\\\n",
       "\tMerc 230 & 22.8 & 140.8 & 3.92 & 3.150\\\\\n",
       "\tMerc 280 & 19.2 & 167.6 & 3.92 & 3.440\\\\\n",
       "\tMerc 280C & 17.8 & 167.6 & 3.92 & 3.440\\\\\n",
       "\tMerc 450SE & 16.4 & 275.8 & 3.07 & 4.070\\\\\n",
       "\tMerc 450SL & 17.3 & 275.8 & 3.07 & 3.730\\\\\n",
       "\tMerc 450SLC & 15.2 & 275.8 & 3.07 & 3.780\\\\\n",
       "\tCadillac Fleetwood & 10.4 & 472.0 & 2.93 & 5.250\\\\\n",
       "\tLincoln Continental & 10.4 & 460.0 & 3.00 & 5.424\\\\\n",
       "\tChrysler Imperial & 14.7 & 440.0 & 3.23 & 5.345\\\\\n",
       "\tFiat 128 & 32.4 &  78.7 & 4.08 & 2.200\\\\\n",
       "\tHonda Civic & 30.4 &  75.7 & 4.93 & 1.615\\\\\n",
       "\tToyota Corolla & 33.9 &  71.1 & 4.22 & 1.835\\\\\n",
       "\tToyota Corona & 21.5 & 120.1 & 3.70 & 2.465\\\\\n",
       "\tDodge Challenger & 15.5 & 318.0 & 2.76 & 3.520\\\\\n",
       "\tAMC Javelin & 15.2 & 304.0 & 3.15 & 3.435\\\\\n",
       "\tCamaro Z28 & 13.3 & 350.0 & 3.73 & 3.840\\\\\n",
       "\tPontiac Firebird & 19.2 & 400.0 & 3.08 & 3.845\\\\\n",
       "\tFiat X1-9 & 27.3 &  79.0 & 4.08 & 1.935\\\\\n",
       "\tPorsche 914-2 & 26.0 & 120.3 & 4.43 & 2.140\\\\\n",
       "\tLotus Europa & 30.4 &  95.1 & 3.77 & 1.513\\\\\n",
       "\tFord Pantera L & 15.8 & 351.0 & 4.22 & 3.170\\\\\n",
       "\tFerrari Dino & 19.7 & 145.0 & 3.62 & 2.770\\\\\n",
       "\tMaserati Bora & 15.0 & 301.0 & 3.54 & 3.570\\\\\n",
       "\tVolvo 142E & 21.4 & 121.0 & 4.11 & 2.780\\\\\n",
       "\\end{tabular}\n"
      ],
      "text/markdown": [
       "\n",
       "A data.frame: 32 × 4\n",
       "\n",
       "| <!--/--> | mpg &lt;dbl&gt; | disp &lt;dbl&gt; | drat &lt;dbl&gt; | wt &lt;dbl&gt; |\n",
       "|---|---|---|---|---|\n",
       "| Mazda RX4 | 21.0 | 160.0 | 3.90 | 2.620 |\n",
       "| Mazda RX4 Wag | 21.0 | 160.0 | 3.90 | 2.875 |\n",
       "| Datsun 710 | 22.8 | 108.0 | 3.85 | 2.320 |\n",
       "| Hornet 4 Drive | 21.4 | 258.0 | 3.08 | 3.215 |\n",
       "| Hornet Sportabout | 18.7 | 360.0 | 3.15 | 3.440 |\n",
       "| Valiant | 18.1 | 225.0 | 2.76 | 3.460 |\n",
       "| Duster 360 | 14.3 | 360.0 | 3.21 | 3.570 |\n",
       "| Merc 240D | 24.4 | 146.7 | 3.69 | 3.190 |\n",
       "| Merc 230 | 22.8 | 140.8 | 3.92 | 3.150 |\n",
       "| Merc 280 | 19.2 | 167.6 | 3.92 | 3.440 |\n",
       "| Merc 280C | 17.8 | 167.6 | 3.92 | 3.440 |\n",
       "| Merc 450SE | 16.4 | 275.8 | 3.07 | 4.070 |\n",
       "| Merc 450SL | 17.3 | 275.8 | 3.07 | 3.730 |\n",
       "| Merc 450SLC | 15.2 | 275.8 | 3.07 | 3.780 |\n",
       "| Cadillac Fleetwood | 10.4 | 472.0 | 2.93 | 5.250 |\n",
       "| Lincoln Continental | 10.4 | 460.0 | 3.00 | 5.424 |\n",
       "| Chrysler Imperial | 14.7 | 440.0 | 3.23 | 5.345 |\n",
       "| Fiat 128 | 32.4 |  78.7 | 4.08 | 2.200 |\n",
       "| Honda Civic | 30.4 |  75.7 | 4.93 | 1.615 |\n",
       "| Toyota Corolla | 33.9 |  71.1 | 4.22 | 1.835 |\n",
       "| Toyota Corona | 21.5 | 120.1 | 3.70 | 2.465 |\n",
       "| Dodge Challenger | 15.5 | 318.0 | 2.76 | 3.520 |\n",
       "| AMC Javelin | 15.2 | 304.0 | 3.15 | 3.435 |\n",
       "| Camaro Z28 | 13.3 | 350.0 | 3.73 | 3.840 |\n",
       "| Pontiac Firebird | 19.2 | 400.0 | 3.08 | 3.845 |\n",
       "| Fiat X1-9 | 27.3 |  79.0 | 4.08 | 1.935 |\n",
       "| Porsche 914-2 | 26.0 | 120.3 | 4.43 | 2.140 |\n",
       "| Lotus Europa | 30.4 |  95.1 | 3.77 | 1.513 |\n",
       "| Ford Pantera L | 15.8 | 351.0 | 4.22 | 3.170 |\n",
       "| Ferrari Dino | 19.7 | 145.0 | 3.62 | 2.770 |\n",
       "| Maserati Bora | 15.0 | 301.0 | 3.54 | 3.570 |\n",
       "| Volvo 142E | 21.4 | 121.0 | 4.11 | 2.780 |\n",
       "\n"
      ],
      "text/plain": [
       "                    mpg  disp  drat wt   \n",
       "Mazda RX4           21.0 160.0 3.90 2.620\n",
       "Mazda RX4 Wag       21.0 160.0 3.90 2.875\n",
       "Datsun 710          22.8 108.0 3.85 2.320\n",
       "Hornet 4 Drive      21.4 258.0 3.08 3.215\n",
       "Hornet Sportabout   18.7 360.0 3.15 3.440\n",
       "Valiant             18.1 225.0 2.76 3.460\n",
       "Duster 360          14.3 360.0 3.21 3.570\n",
       "Merc 240D           24.4 146.7 3.69 3.190\n",
       "Merc 230            22.8 140.8 3.92 3.150\n",
       "Merc 280            19.2 167.6 3.92 3.440\n",
       "Merc 280C           17.8 167.6 3.92 3.440\n",
       "Merc 450SE          16.4 275.8 3.07 4.070\n",
       "Merc 450SL          17.3 275.8 3.07 3.730\n",
       "Merc 450SLC         15.2 275.8 3.07 3.780\n",
       "Cadillac Fleetwood  10.4 472.0 2.93 5.250\n",
       "Lincoln Continental 10.4 460.0 3.00 5.424\n",
       "Chrysler Imperial   14.7 440.0 3.23 5.345\n",
       "Fiat 128            32.4  78.7 4.08 2.200\n",
       "Honda Civic         30.4  75.7 4.93 1.615\n",
       "Toyota Corolla      33.9  71.1 4.22 1.835\n",
       "Toyota Corona       21.5 120.1 3.70 2.465\n",
       "Dodge Challenger    15.5 318.0 2.76 3.520\n",
       "AMC Javelin         15.2 304.0 3.15 3.435\n",
       "Camaro Z28          13.3 350.0 3.73 3.840\n",
       "Pontiac Firebird    19.2 400.0 3.08 3.845\n",
       "Fiat X1-9           27.3  79.0 4.08 1.935\n",
       "Porsche 914-2       26.0 120.3 4.43 2.140\n",
       "Lotus Europa        30.4  95.1 3.77 1.513\n",
       "Ford Pantera L      15.8 351.0 4.22 3.170\n",
       "Ferrari Dino        19.7 145.0 3.62 2.770\n",
       "Maserati Bora       15.0 301.0 3.54 3.570\n",
       "Volvo 142E          21.4 121.0 4.11 2.780"
      ]
     },
     "metadata": {},
     "output_type": "display_data"
    }
   ],
   "source": [
    "target"
   ]
  },
  {
   "cell_type": "code",
   "execution_count": 16,
   "id": "f06286be",
   "metadata": {},
   "outputs": [
    {
     "data": {
      "image/png": "[encoded data removed]",
      "text/plain": [
       "plot without title"
      ]
     },
     "metadata": {
      "image/png": {
       "height": 420,
       "width": 420
      }
     },
     "output_type": "display_data"
    }
   ],
   "source": [
    "pairs(target,\n",
    "     main = 'Multi Plots')"
   ]
  },
  {
   "cell_type": "code",
   "execution_count": 17,
   "id": "522b5294",
   "metadata": {},
   "outputs": [],
   "source": [
    "iris.2 = iris[, 3:4]"
   ]
  },
  {
   "cell_type": "code",
   "execution_count": 18,
   "id": "444ba9c0",
   "metadata": {},
   "outputs": [
    {
     "data": {
      "text/html": [
       "<table class=\"dataframe\">\n",
       "<caption>A data.frame: 150 × 2</caption>\n",
       "<thead>\n",
       "\t<tr><th scope=col>Petal.Length</th><th scope=col>Petal.Width</th></tr>\n",
       "\t<tr><th scope=col>&lt;dbl&gt;</th><th scope=col>&lt;dbl&gt;</th></tr>\n",
       "</thead>\n",
       "<tbody>\n",
       "\t<tr><td>1.4</td><td>0.2</td></tr>\n",
       "\t<tr><td>1.4</td><td>0.2</td></tr>\n",
       "\t<tr><td>1.3</td><td>0.2</td></tr>\n",
       "\t<tr><td>1.5</td><td>0.2</td></tr>\n",
       "\t<tr><td>1.4</td><td>0.2</td></tr>\n",
       "\t<tr><td>1.7</td><td>0.4</td></tr>\n",
       "\t<tr><td>1.4</td><td>0.3</td></tr>\n",
       "\t<tr><td>1.5</td><td>0.2</td></tr>\n",
       "\t<tr><td>1.4</td><td>0.2</td></tr>\n",
       "\t<tr><td>1.5</td><td>0.1</td></tr>\n",
       "\t<tr><td>1.5</td><td>0.2</td></tr>\n",
       "\t<tr><td>1.6</td><td>0.2</td></tr>\n",
       "\t<tr><td>1.4</td><td>0.1</td></tr>\n",
       "\t<tr><td>1.1</td><td>0.1</td></tr>\n",
       "\t<tr><td>1.2</td><td>0.2</td></tr>\n",
       "\t<tr><td>1.5</td><td>0.4</td></tr>\n",
       "\t<tr><td>1.3</td><td>0.4</td></tr>\n",
       "\t<tr><td>1.4</td><td>0.3</td></tr>\n",
       "\t<tr><td>1.7</td><td>0.3</td></tr>\n",
       "\t<tr><td>1.5</td><td>0.3</td></tr>\n",
       "\t<tr><td>1.7</td><td>0.2</td></tr>\n",
       "\t<tr><td>1.5</td><td>0.4</td></tr>\n",
       "\t<tr><td>1.0</td><td>0.2</td></tr>\n",
       "\t<tr><td>1.7</td><td>0.5</td></tr>\n",
       "\t<tr><td>1.9</td><td>0.2</td></tr>\n",
       "\t<tr><td>1.6</td><td>0.2</td></tr>\n",
       "\t<tr><td>1.6</td><td>0.4</td></tr>\n",
       "\t<tr><td>1.5</td><td>0.2</td></tr>\n",
       "\t<tr><td>1.4</td><td>0.2</td></tr>\n",
       "\t<tr><td>1.6</td><td>0.2</td></tr>\n",
       "\t<tr><td>⋮</td><td>⋮</td></tr>\n",
       "\t<tr><td>5.7</td><td>2.3</td></tr>\n",
       "\t<tr><td>4.9</td><td>2.0</td></tr>\n",
       "\t<tr><td>6.7</td><td>2.0</td></tr>\n",
       "\t<tr><td>4.9</td><td>1.8</td></tr>\n",
       "\t<tr><td>5.7</td><td>2.1</td></tr>\n",
       "\t<tr><td>6.0</td><td>1.8</td></tr>\n",
       "\t<tr><td>4.8</td><td>1.8</td></tr>\n",
       "\t<tr><td>4.9</td><td>1.8</td></tr>\n",
       "\t<tr><td>5.6</td><td>2.1</td></tr>\n",
       "\t<tr><td>5.8</td><td>1.6</td></tr>\n",
       "\t<tr><td>6.1</td><td>1.9</td></tr>\n",
       "\t<tr><td>6.4</td><td>2.0</td></tr>\n",
       "\t<tr><td>5.6</td><td>2.2</td></tr>\n",
       "\t<tr><td>5.1</td><td>1.5</td></tr>\n",
       "\t<tr><td>5.6</td><td>1.4</td></tr>\n",
       "\t<tr><td>6.1</td><td>2.3</td></tr>\n",
       "\t<tr><td>5.6</td><td>2.4</td></tr>\n",
       "\t<tr><td>5.5</td><td>1.8</td></tr>\n",
       "\t<tr><td>4.8</td><td>1.8</td></tr>\n",
       "\t<tr><td>5.4</td><td>2.1</td></tr>\n",
       "\t<tr><td>5.6</td><td>2.4</td></tr>\n",
       "\t<tr><td>5.1</td><td>2.3</td></tr>\n",
       "\t<tr><td>5.1</td><td>1.9</td></tr>\n",
       "\t<tr><td>5.9</td><td>2.3</td></tr>\n",
       "\t<tr><td>5.7</td><td>2.5</td></tr>\n",
       "\t<tr><td>5.2</td><td>2.3</td></tr>\n",
       "\t<tr><td>5.0</td><td>1.9</td></tr>\n",
       "\t<tr><td>5.2</td><td>2.0</td></tr>\n",
       "\t<tr><td>5.4</td><td>2.3</td></tr>\n",
       "\t<tr><td>5.1</td><td>1.8</td></tr>\n",
       "</tbody>\n",
       "</table>\n"
      ],
      "text/latex": [
       "A data.frame: 150 × 2\n",
       "\\begin{tabular}{ll}\n",
       " Petal.Length & Petal.Width\\\\\n",
       " <dbl> & <dbl>\\\\\n",
       "\\hline\n",
       "\t 1.4 & 0.2\\\\\n",
       "\t 1.4 & 0.2\\\\\n",
       "\t 1.3 & 0.2\\\\\n",
       "\t 1.5 & 0.2\\\\\n",
       "\t 1.4 & 0.2\\\\\n",
       "\t 1.7 & 0.4\\\\\n",
       "\t 1.4 & 0.3\\\\\n",
       "\t 1.5 & 0.2\\\\\n",
       "\t 1.4 & 0.2\\\\\n",
       "\t 1.5 & 0.1\\\\\n",
       "\t 1.5 & 0.2\\\\\n",
       "\t 1.6 & 0.2\\\\\n",
       "\t 1.4 & 0.1\\\\\n",
       "\t 1.1 & 0.1\\\\\n",
       "\t 1.2 & 0.2\\\\\n",
       "\t 1.5 & 0.4\\\\\n",
       "\t 1.3 & 0.4\\\\\n",
       "\t 1.4 & 0.3\\\\\n",
       "\t 1.7 & 0.3\\\\\n",
       "\t 1.5 & 0.3\\\\\n",
       "\t 1.7 & 0.2\\\\\n",
       "\t 1.5 & 0.4\\\\\n",
       "\t 1.0 & 0.2\\\\\n",
       "\t 1.7 & 0.5\\\\\n",
       "\t 1.9 & 0.2\\\\\n",
       "\t 1.6 & 0.2\\\\\n",
       "\t 1.6 & 0.4\\\\\n",
       "\t 1.5 & 0.2\\\\\n",
       "\t 1.4 & 0.2\\\\\n",
       "\t 1.6 & 0.2\\\\\n",
       "\t ⋮ & ⋮\\\\\n",
       "\t 5.7 & 2.3\\\\\n",
       "\t 4.9 & 2.0\\\\\n",
       "\t 6.7 & 2.0\\\\\n",
       "\t 4.9 & 1.8\\\\\n",
       "\t 5.7 & 2.1\\\\\n",
       "\t 6.0 & 1.8\\\\\n",
       "\t 4.8 & 1.8\\\\\n",
       "\t 4.9 & 1.8\\\\\n",
       "\t 5.6 & 2.1\\\\\n",
       "\t 5.8 & 1.6\\\\\n",
       "\t 6.1 & 1.9\\\\\n",
       "\t 6.4 & 2.0\\\\\n",
       "\t 5.6 & 2.2\\\\\n",
       "\t 5.1 & 1.5\\\\\n",
       "\t 5.6 & 1.4\\\\\n",
       "\t 6.1 & 2.3\\\\\n",
       "\t 5.6 & 2.4\\\\\n",
       "\t 5.5 & 1.8\\\\\n",
       "\t 4.8 & 1.8\\\\\n",
       "\t 5.4 & 2.1\\\\\n",
       "\t 5.6 & 2.4\\\\\n",
       "\t 5.1 & 2.3\\\\\n",
       "\t 5.1 & 1.9\\\\\n",
       "\t 5.9 & 2.3\\\\\n",
       "\t 5.7 & 2.5\\\\\n",
       "\t 5.2 & 2.3\\\\\n",
       "\t 5.0 & 1.9\\\\\n",
       "\t 5.2 & 2.0\\\\\n",
       "\t 5.4 & 2.3\\\\\n",
       "\t 5.1 & 1.8\\\\\n",
       "\\end{tabular}\n"
      ],
      "text/markdown": [
       "\n",
       "A data.frame: 150 × 2\n",
       "\n",
       "| Petal.Length &lt;dbl&gt; | Petal.Width &lt;dbl&gt; |\n",
       "|---|---|\n",
       "| 1.4 | 0.2 |\n",
       "| 1.4 | 0.2 |\n",
       "| 1.3 | 0.2 |\n",
       "| 1.5 | 0.2 |\n",
       "| 1.4 | 0.2 |\n",
       "| 1.7 | 0.4 |\n",
       "| 1.4 | 0.3 |\n",
       "| 1.5 | 0.2 |\n",
       "| 1.4 | 0.2 |\n",
       "| 1.5 | 0.1 |\n",
       "| 1.5 | 0.2 |\n",
       "| 1.6 | 0.2 |\n",
       "| 1.4 | 0.1 |\n",
       "| 1.1 | 0.1 |\n",
       "| 1.2 | 0.2 |\n",
       "| 1.5 | 0.4 |\n",
       "| 1.3 | 0.4 |\n",
       "| 1.4 | 0.3 |\n",
       "| 1.7 | 0.3 |\n",
       "| 1.5 | 0.3 |\n",
       "| 1.7 | 0.2 |\n",
       "| 1.5 | 0.4 |\n",
       "| 1.0 | 0.2 |\n",
       "| 1.7 | 0.5 |\n",
       "| 1.9 | 0.2 |\n",
       "| 1.6 | 0.2 |\n",
       "| 1.6 | 0.4 |\n",
       "| 1.5 | 0.2 |\n",
       "| 1.4 | 0.2 |\n",
       "| 1.6 | 0.2 |\n",
       "| ⋮ | ⋮ |\n",
       "| 5.7 | 2.3 |\n",
       "| 4.9 | 2.0 |\n",
       "| 6.7 | 2.0 |\n",
       "| 4.9 | 1.8 |\n",
       "| 5.7 | 2.1 |\n",
       "| 6.0 | 1.8 |\n",
       "| 4.8 | 1.8 |\n",
       "| 4.9 | 1.8 |\n",
       "| 5.6 | 2.1 |\n",
       "| 5.8 | 1.6 |\n",
       "| 6.1 | 1.9 |\n",
       "| 6.4 | 2.0 |\n",
       "| 5.6 | 2.2 |\n",
       "| 5.1 | 1.5 |\n",
       "| 5.6 | 1.4 |\n",
       "| 6.1 | 2.3 |\n",
       "| 5.6 | 2.4 |\n",
       "| 5.5 | 1.8 |\n",
       "| 4.8 | 1.8 |\n",
       "| 5.4 | 2.1 |\n",
       "| 5.6 | 2.4 |\n",
       "| 5.1 | 2.3 |\n",
       "| 5.1 | 1.9 |\n",
       "| 5.9 | 2.3 |\n",
       "| 5.7 | 2.5 |\n",
       "| 5.2 | 2.3 |\n",
       "| 5.0 | 1.9 |\n",
       "| 5.2 | 2.0 |\n",
       "| 5.4 | 2.3 |\n",
       "| 5.1 | 1.8 |\n",
       "\n"
      ],
      "text/plain": [
       "    Petal.Length Petal.Width\n",
       "1   1.4          0.2        \n",
       "2   1.4          0.2        \n",
       "3   1.3          0.2        \n",
       "4   1.5          0.2        \n",
       "5   1.4          0.2        \n",
       "6   1.7          0.4        \n",
       "7   1.4          0.3        \n",
       "8   1.5          0.2        \n",
       "9   1.4          0.2        \n",
       "10  1.5          0.1        \n",
       "11  1.5          0.2        \n",
       "12  1.6          0.2        \n",
       "13  1.4          0.1        \n",
       "14  1.1          0.1        \n",
       "15  1.2          0.2        \n",
       "16  1.5          0.4        \n",
       "17  1.3          0.4        \n",
       "18  1.4          0.3        \n",
       "19  1.7          0.3        \n",
       "20  1.5          0.3        \n",
       "21  1.7          0.2        \n",
       "22  1.5          0.4        \n",
       "23  1.0          0.2        \n",
       "24  1.7          0.5        \n",
       "25  1.9          0.2        \n",
       "26  1.6          0.2        \n",
       "27  1.6          0.4        \n",
       "28  1.5          0.2        \n",
       "29  1.4          0.2        \n",
       "30  1.6          0.2        \n",
       "⋮   ⋮            ⋮          \n",
       "121 5.7          2.3        \n",
       "122 4.9          2.0        \n",
       "123 6.7          2.0        \n",
       "124 4.9          1.8        \n",
       "125 5.7          2.1        \n",
       "126 6.0          1.8        \n",
       "127 4.8          1.8        \n",
       "128 4.9          1.8        \n",
       "129 5.6          2.1        \n",
       "130 5.8          1.6        \n",
       "131 6.1          1.9        \n",
       "132 6.4          2.0        \n",
       "133 5.6          2.2        \n",
       "134 5.1          1.5        \n",
       "135 5.6          1.4        \n",
       "136 6.1          2.3        \n",
       "137 5.6          2.4        \n",
       "138 5.5          1.8        \n",
       "139 4.8          1.8        \n",
       "140 5.4          2.1        \n",
       "141 5.6          2.4        \n",
       "142 5.1          2.3        \n",
       "143 5.1          1.9        \n",
       "144 5.9          2.3        \n",
       "145 5.7          2.5        \n",
       "146 5.2          2.3        \n",
       "147 5.0          1.9        \n",
       "148 5.2          2.0        \n",
       "149 5.4          2.3        \n",
       "150 5.1          1.8        "
      ]
     },
     "metadata": {},
     "output_type": "display_data"
    }
   ],
   "source": [
    "iris.2"
   ]
  },
  {
   "cell_type": "code",
   "execution_count": 19,
   "id": "6fc777f6",
   "metadata": {},
   "outputs": [],
   "source": [
    "point = as.numeric(iris$Species)"
   ]
  },
  {
   "cell_type": "code",
   "execution_count": 20,
   "id": "ff890689",
   "metadata": {},
   "outputs": [
    {
     "data": {
      "text/html": [
       "<style>\n",
       ".list-inline {list-style: none; margin:0; padding: 0}\n",
       ".list-inline>li {display: inline-block}\n",
       ".list-inline>li:not(:last-child)::after {content: \"\\00b7\"; padding: 0 .5ex}\n",
       "</style>\n",
       "<ol class=list-inline><li>1</li><li>1</li><li>1</li><li>1</li><li>1</li><li>1</li><li>1</li><li>1</li><li>1</li><li>1</li><li>1</li><li>1</li><li>1</li><li>1</li><li>1</li><li>1</li><li>1</li><li>1</li><li>1</li><li>1</li><li>1</li><li>1</li><li>1</li><li>1</li><li>1</li><li>1</li><li>1</li><li>1</li><li>1</li><li>1</li><li>1</li><li>1</li><li>1</li><li>1</li><li>1</li><li>1</li><li>1</li><li>1</li><li>1</li><li>1</li><li>1</li><li>1</li><li>1</li><li>1</li><li>1</li><li>1</li><li>1</li><li>1</li><li>1</li><li>1</li><li>2</li><li>2</li><li>2</li><li>2</li><li>2</li><li>2</li><li>2</li><li>2</li><li>2</li><li>2</li><li>2</li><li>2</li><li>2</li><li>2</li><li>2</li><li>2</li><li>2</li><li>2</li><li>2</li><li>2</li><li>2</li><li>2</li><li>2</li><li>2</li><li>2</li><li>2</li><li>2</li><li>2</li><li>2</li><li>2</li><li>2</li><li>2</li><li>2</li><li>2</li><li>2</li><li>2</li><li>2</li><li>2</li><li>2</li><li>2</li><li>2</li><li>2</li><li>2</li><li>2</li><li>2</li><li>2</li><li>2</li><li>2</li><li>2</li><li>2</li><li>3</li><li>3</li><li>3</li><li>3</li><li>3</li><li>3</li><li>3</li><li>3</li><li>3</li><li>3</li><li>3</li><li>3</li><li>3</li><li>3</li><li>3</li><li>3</li><li>3</li><li>3</li><li>3</li><li>3</li><li>3</li><li>3</li><li>3</li><li>3</li><li>3</li><li>3</li><li>3</li><li>3</li><li>3</li><li>3</li><li>3</li><li>3</li><li>3</li><li>3</li><li>3</li><li>3</li><li>3</li><li>3</li><li>3</li><li>3</li><li>3</li><li>3</li><li>3</li><li>3</li><li>3</li><li>3</li><li>3</li><li>3</li><li>3</li><li>3</li></ol>\n"
      ],
      "text/latex": [
       "\\begin{enumerate*}\n",
       "\\item 1\n",
       "\\item 1\n",
       "\\item 1\n",
       "\\item 1\n",
       "\\item 1\n",
       "\\item 1\n",
       "\\item 1\n",
       "\\item 1\n",
       "\\item 1\n",
       "\\item 1\n",
       "\\item 1\n",
       "\\item 1\n",
       "\\item 1\n",
       "\\item 1\n",
       "\\item 1\n",
       "\\item 1\n",
       "\\item 1\n",
       "\\item 1\n",
       "\\item 1\n",
       "\\item 1\n",
       "\\item 1\n",
       "\\item 1\n",
       "\\item 1\n",
       "\\item 1\n",
       "\\item 1\n",
       "\\item 1\n",
       "\\item 1\n",
       "\\item 1\n",
       "\\item 1\n",
       "\\item 1\n",
       "\\item 1\n",
       "\\item 1\n",
       "\\item 1\n",
       "\\item 1\n",
       "\\item 1\n",
       "\\item 1\n",
       "\\item 1\n",
       "\\item 1\n",
       "\\item 1\n",
       "\\item 1\n",
       "\\item 1\n",
       "\\item 1\n",
       "\\item 1\n",
       "\\item 1\n",
       "\\item 1\n",
       "\\item 1\n",
       "\\item 1\n",
       "\\item 1\n",
       "\\item 1\n",
       "\\item 1\n",
       "\\item 2\n",
       "\\item 2\n",
       "\\item 2\n",
       "\\item 2\n",
       "\\item 2\n",
       "\\item 2\n",
       "\\item 2\n",
       "\\item 2\n",
       "\\item 2\n",
       "\\item 2\n",
       "\\item 2\n",
       "\\item 2\n",
       "\\item 2\n",
       "\\item 2\n",
       "\\item 2\n",
       "\\item 2\n",
       "\\item 2\n",
       "\\item 2\n",
       "\\item 2\n",
       "\\item 2\n",
       "\\item 2\n",
       "\\item 2\n",
       "\\item 2\n",
       "\\item 2\n",
       "\\item 2\n",
       "\\item 2\n",
       "\\item 2\n",
       "\\item 2\n",
       "\\item 2\n",
       "\\item 2\n",
       "\\item 2\n",
       "\\item 2\n",
       "\\item 2\n",
       "\\item 2\n",
       "\\item 2\n",
       "\\item 2\n",
       "\\item 2\n",
       "\\item 2\n",
       "\\item 2\n",
       "\\item 2\n",
       "\\item 2\n",
       "\\item 2\n",
       "\\item 2\n",
       "\\item 2\n",
       "\\item 2\n",
       "\\item 2\n",
       "\\item 2\n",
       "\\item 2\n",
       "\\item 2\n",
       "\\item 2\n",
       "\\item 3\n",
       "\\item 3\n",
       "\\item 3\n",
       "\\item 3\n",
       "\\item 3\n",
       "\\item 3\n",
       "\\item 3\n",
       "\\item 3\n",
       "\\item 3\n",
       "\\item 3\n",
       "\\item 3\n",
       "\\item 3\n",
       "\\item 3\n",
       "\\item 3\n",
       "\\item 3\n",
       "\\item 3\n",
       "\\item 3\n",
       "\\item 3\n",
       "\\item 3\n",
       "\\item 3\n",
       "\\item 3\n",
       "\\item 3\n",
       "\\item 3\n",
       "\\item 3\n",
       "\\item 3\n",
       "\\item 3\n",
       "\\item 3\n",
       "\\item 3\n",
       "\\item 3\n",
       "\\item 3\n",
       "\\item 3\n",
       "\\item 3\n",
       "\\item 3\n",
       "\\item 3\n",
       "\\item 3\n",
       "\\item 3\n",
       "\\item 3\n",
       "\\item 3\n",
       "\\item 3\n",
       "\\item 3\n",
       "\\item 3\n",
       "\\item 3\n",
       "\\item 3\n",
       "\\item 3\n",
       "\\item 3\n",
       "\\item 3\n",
       "\\item 3\n",
       "\\item 3\n",
       "\\item 3\n",
       "\\item 3\n",
       "\\end{enumerate*}\n"
      ],
      "text/markdown": [
       "1. 1\n",
       "2. 1\n",
       "3. 1\n",
       "4. 1\n",
       "5. 1\n",
       "6. 1\n",
       "7. 1\n",
       "8. 1\n",
       "9. 1\n",
       "10. 1\n",
       "11. 1\n",
       "12. 1\n",
       "13. 1\n",
       "14. 1\n",
       "15. 1\n",
       "16. 1\n",
       "17. 1\n",
       "18. 1\n",
       "19. 1\n",
       "20. 1\n",
       "21. 1\n",
       "22. 1\n",
       "23. 1\n",
       "24. 1\n",
       "25. 1\n",
       "26. 1\n",
       "27. 1\n",
       "28. 1\n",
       "29. 1\n",
       "30. 1\n",
       "31. 1\n",
       "32. 1\n",
       "33. 1\n",
       "34. 1\n",
       "35. 1\n",
       "36. 1\n",
       "37. 1\n",
       "38. 1\n",
       "39. 1\n",
       "40. 1\n",
       "41. 1\n",
       "42. 1\n",
       "43. 1\n",
       "44. 1\n",
       "45. 1\n",
       "46. 1\n",
       "47. 1\n",
       "48. 1\n",
       "49. 1\n",
       "50. 1\n",
       "51. 2\n",
       "52. 2\n",
       "53. 2\n",
       "54. 2\n",
       "55. 2\n",
       "56. 2\n",
       "57. 2\n",
       "58. 2\n",
       "59. 2\n",
       "60. 2\n",
       "61. 2\n",
       "62. 2\n",
       "63. 2\n",
       "64. 2\n",
       "65. 2\n",
       "66. 2\n",
       "67. 2\n",
       "68. 2\n",
       "69. 2\n",
       "70. 2\n",
       "71. 2\n",
       "72. 2\n",
       "73. 2\n",
       "74. 2\n",
       "75. 2\n",
       "76. 2\n",
       "77. 2\n",
       "78. 2\n",
       "79. 2\n",
       "80. 2\n",
       "81. 2\n",
       "82. 2\n",
       "83. 2\n",
       "84. 2\n",
       "85. 2\n",
       "86. 2\n",
       "87. 2\n",
       "88. 2\n",
       "89. 2\n",
       "90. 2\n",
       "91. 2\n",
       "92. 2\n",
       "93. 2\n",
       "94. 2\n",
       "95. 2\n",
       "96. 2\n",
       "97. 2\n",
       "98. 2\n",
       "99. 2\n",
       "100. 2\n",
       "101. 3\n",
       "102. 3\n",
       "103. 3\n",
       "104. 3\n",
       "105. 3\n",
       "106. 3\n",
       "107. 3\n",
       "108. 3\n",
       "109. 3\n",
       "110. 3\n",
       "111. 3\n",
       "112. 3\n",
       "113. 3\n",
       "114. 3\n",
       "115. 3\n",
       "116. 3\n",
       "117. 3\n",
       "118. 3\n",
       "119. 3\n",
       "120. 3\n",
       "121. 3\n",
       "122. 3\n",
       "123. 3\n",
       "124. 3\n",
       "125. 3\n",
       "126. 3\n",
       "127. 3\n",
       "128. 3\n",
       "129. 3\n",
       "130. 3\n",
       "131. 3\n",
       "132. 3\n",
       "133. 3\n",
       "134. 3\n",
       "135. 3\n",
       "136. 3\n",
       "137. 3\n",
       "138. 3\n",
       "139. 3\n",
       "140. 3\n",
       "141. 3\n",
       "142. 3\n",
       "143. 3\n",
       "144. 3\n",
       "145. 3\n",
       "146. 3\n",
       "147. 3\n",
       "148. 3\n",
       "149. 3\n",
       "150. 3\n",
       "\n",
       "\n"
      ],
      "text/plain": [
       "  [1] 1 1 1 1 1 1 1 1 1 1 1 1 1 1 1 1 1 1 1 1 1 1 1 1 1 1 1 1 1 1 1 1 1 1 1 1 1\n",
       " [38] 1 1 1 1 1 1 1 1 1 1 1 1 1 2 2 2 2 2 2 2 2 2 2 2 2 2 2 2 2 2 2 2 2 2 2 2 2\n",
       " [75] 2 2 2 2 2 2 2 2 2 2 2 2 2 2 2 2 2 2 2 2 2 2 2 2 2 2 3 3 3 3 3 3 3 3 3 3 3\n",
       "[112] 3 3 3 3 3 3 3 3 3 3 3 3 3 3 3 3 3 3 3 3 3 3 3 3 3 3 3 3 3 3 3 3 3 3 3 3 3\n",
       "[149] 3 3"
      ]
     },
     "metadata": {},
     "output_type": "display_data"
    }
   ],
   "source": [
    "point"
   ]
  },
  {
   "cell_type": "code",
   "execution_count": 25,
   "id": "e8f80318",
   "metadata": {},
   "outputs": [],
   "source": [
    "color= c('red','pink','blue')"
   ]
  },
  {
   "cell_type": "code",
   "execution_count": 28,
   "id": "42fe829a",
   "metadata": {},
   "outputs": [
    {
     "data": {
      "image/png": "[encoded data removed]",
      "text/plain": [
       "Plot with title \"Iris Plot\""
      ]
     },
     "metadata": {
      "image/png": {
       "height": 420,
       "width": 420
      }
     },
     "output_type": "display_data"
    }
   ],
   "source": [
    "plot(iris.2,\n",
    "    col = color[point],\n",
    "    pch = point,\n",
    "    main = 'Iris Plot')"
   ]
  },
  {
   "cell_type": "code",
   "execution_count": 34,
   "id": "35625033",
   "metadata": {},
   "outputs": [],
   "source": [
    "beers = c(5, 2, 9, 8, 3, 7, 3, 5, 3, 5)\n",
    "bal = c(0.1, 0.03, 0.19, 0.12, 0.04, 0.0095, 0.07, 0.06, 0.02, 0.05)"
   ]
  },
  {
   "cell_type": "code",
   "execution_count": 35,
   "id": "a0d6881b",
   "metadata": {},
   "outputs": [
    {
     "data": {
      "text/html": [
       "10"
      ],
      "text/latex": [
       "10"
      ],
      "text/markdown": [
       "10"
      ],
      "text/plain": [
       "[1] 10"
      ]
     },
     "metadata": {},
     "output_type": "display_data"
    },
    {
     "data": {
      "text/html": [
       "10"
      ],
      "text/latex": [
       "10"
      ],
      "text/markdown": [
       "10"
      ],
      "text/plain": [
       "[1] 10"
      ]
     },
     "metadata": {},
     "output_type": "display_data"
    }
   ],
   "source": [
    "length(beers)\n",
    "length(bal)"
   ]
  },
  {
   "cell_type": "code",
   "execution_count": 37,
   "id": "0004b4c4",
   "metadata": {},
   "outputs": [
    {
     "data": {
      "image/png": "[encoded data removed]",
      "text/plain": [
       "plot without title"
      ]
     },
     "metadata": {
      "image/png": {
       "height": 420,
       "width": 420
      }
     },
     "output_type": "display_data"
    }
   ],
   "source": [
    "plot(beers, bal)\n",
    "lm.res = lm(bal~beers)\n",
    "abline(lm.res)"
   ]
  },
  {
   "cell_type": "code",
   "execution_count": 38,
   "id": "4b4c9312",
   "metadata": {},
   "outputs": [
    {
     "data": {
      "text/plain": [
       "\n",
       "Call:\n",
       "lm(formula = bal ~ beers)\n",
       "\n",
       "Residuals:\n",
       "     Min       1Q   Median       3Q      Max \n",
       "-0.09101 -0.01528  0.00316  0.02539  0.05793 \n",
       "\n",
       "Coefficients:\n",
       "             Estimate Std. Error t value Pr(>|t|)  \n",
       "(Intercept) -0.009950   0.032976  -0.302   0.7705  \n",
       "beers        0.015780   0.006021   2.621   0.0306 *\n",
       "---\n",
       "Signif. codes:  0 '***' 0.001 '**' 0.01 '*' 0.05 '.' 0.1 ' ' 1\n",
       "\n",
       "Residual standard error: 0.04257 on 8 degrees of freedom\n",
       "Multiple R-squared:  0.462,\tAdjusted R-squared:  0.3947 \n",
       "F-statistic:  6.87 on 1 and 8 DF,  p-value: 0.0306\n"
      ]
     },
     "metadata": {},
     "output_type": "display_data"
    }
   ],
   "source": [
    "summary(lm.res)"
   ]
  },
  {
   "cell_type": "code",
   "execution_count": 39,
   "id": "9c7fbaea",
   "metadata": {},
   "outputs": [
    {
     "data": {
      "text/html": [
       "<strong>1:</strong> 0.05317"
      ],
      "text/latex": [
       "\\textbf{1:} 0.05317"
      ],
      "text/markdown": [
       "**1:** 0.05317"
      ],
      "text/plain": [
       "      1 \n",
       "0.05317 "
      ]
     },
     "metadata": {},
     "output_type": "display_data"
    }
   ],
   "source": [
    "predict(lm.res, newdata = data.frame(beers = 4))"
   ]
  },
  {
   "cell_type": "code",
   "execution_count": 40,
   "id": "29d045c0",
   "metadata": {},
   "outputs": [
    {
     "data": {
      "text/html": [
       "0.05317"
      ],
      "text/latex": [
       "0.05317"
      ],
      "text/markdown": [
       "0.05317"
      ],
      "text/plain": [
       "[1] 0.05317"
      ]
     },
     "metadata": {},
     "output_type": "display_data"
    }
   ],
   "source": [
    "-0.009950 + 0.015780 * 4"
   ]
  },
  {
   "cell_type": "code",
   "execution_count": 41,
   "id": "58ee90d3",
   "metadata": {},
   "outputs": [],
   "source": [
    "month = 1:12"
   ]
  },
  {
   "cell_type": "code",
   "execution_count": 42,
   "id": "bdb3a923",
   "metadata": {},
   "outputs": [],
   "source": [
    "late1 = c(5, 8, 7, 9, 4, 6, 12, 13, 8, 6, 6, 4)\n",
    "late2 = c(4, 6, 5, 8, 7, 8, 10, 11, 6, 5, 7, 3)"
   ]
  },
  {
   "cell_type": "code",
   "execution_count": 44,
   "id": "85961881",
   "metadata": {},
   "outputs": [
    {
     "data": {
      "image/png": "[encoded data removed]",
      "text/plain": [
       "plot without title"
      ]
     },
     "metadata": {
      "image/png": {
       "height": 420,
       "width": 420
      }
     },
     "output_type": "display_data"
    }
   ],
   "source": [
    "plot(month, late1,\n",
    "    type = 'l')"
   ]
  },
  {
   "cell_type": "code",
   "execution_count": 45,
   "id": "354fb6d4",
   "metadata": {},
   "outputs": [
    {
     "data": {
      "image/png": "[encoded data removed]",
      "text/plain": [
       "plot without title"
      ]
     },
     "metadata": {
      "image/png": {
       "height": 420,
       "width": 420
      }
     },
     "output_type": "display_data"
    }
   ],
   "source": [
    "plot(month, late1,\n",
    "    type = 'b')"
   ]
  },
  {
   "cell_type": "code",
   "execution_count": 46,
   "id": "4e611668",
   "metadata": {},
   "outputs": [
    {
     "data": {
      "image/png": "[encoded data removed]",
      "text/plain": [
       "plot without title"
      ]
     },
     "metadata": {
      "image/png": {
       "height": 420,
       "width": 420
      }
     },
     "output_type": "display_data"
    }
   ],
   "source": [
    "plot(month, late1,\n",
    "    type = 'p')"
   ]
  },
  {
   "cell_type": "code",
   "execution_count": 47,
   "id": "bd836db4",
   "metadata": {},
   "outputs": [
    {
     "data": {
      "image/png": "[encoded data removed]",
      "text/plain": [
       "plot without title"
      ]
     },
     "metadata": {
      "image/png": {
       "height": 420,
       "width": 420
      }
     },
     "output_type": "display_data"
    }
   ],
   "source": [
    "plot(month, late1,\n",
    "    type = 's')"
   ]
  },
  {
   "cell_type": "code",
   "execution_count": 48,
   "id": "669f21b0",
   "metadata": {},
   "outputs": [
    {
     "data": {
      "image/png": "[encoded data removed]",
      "text/plain": [
       "plot without title"
      ]
     },
     "metadata": {
      "image/png": {
       "height": 420,
       "width": 420
      }
     },
     "output_type": "display_data"
    }
   ],
   "source": [
    "plot(month, late1,\n",
    "    type = 'o')"
   ]
  },
  {
   "cell_type": "code",
   "execution_count": 56,
   "id": "2989f787",
   "metadata": {},
   "outputs": [
    {
     "data": {
      "image/png": "[encoded data removed]",
      "text/plain": [
       "Plot with title \"Late Students\""
      ]
     },
     "metadata": {
      "image/png": {
       "height": 420,
       "width": 420
      }
     },
     "output_type": "display_data"
    }
   ],
   "source": [
    "plot(month, late1,\n",
    "    main = 'Late Students',\n",
    "    xlab = 'Month',\n",
    "    ylab = 'Late Cnt',\n",
    "    type = 'b',\n",
    "    col = 'red')\n",
    "lines(month, late2,\n",
    "     type = 'b',\n",
    "     col = 'blue')"
   ]
  },
  {
   "cell_type": "code",
   "execution_count": 58,
   "id": "dae56d1c",
   "metadata": {},
   "outputs": [
    {
     "data": {
      "text/html": [
       "<style>\n",
       ".list-inline {list-style: none; margin:0; padding: 0}\n",
       ".list-inline>li {display: inline-block}\n",
       ".list-inline>li:not(:last-child)::after {content: \"\\00b7\"; padding: 0 .5ex}\n",
       "</style>\n",
       "<ol class=list-inline><li>1</li><li>2</li><li>3</li><li>4</li><li>5</li><li>6</li><li>7</li><li>8</li><li>9</li><li>10</li><li>11</li><li>12</li></ol>\n"
      ],
      "text/latex": [
       "\\begin{enumerate*}\n",
       "\\item 1\n",
       "\\item 2\n",
       "\\item 3\n",
       "\\item 4\n",
       "\\item 5\n",
       "\\item 6\n",
       "\\item 7\n",
       "\\item 8\n",
       "\\item 9\n",
       "\\item 10\n",
       "\\item 11\n",
       "\\item 12\n",
       "\\end{enumerate*}\n"
      ],
      "text/markdown": [
       "1. 1\n",
       "2. 2\n",
       "3. 3\n",
       "4. 4\n",
       "5. 5\n",
       "6. 6\n",
       "7. 7\n",
       "8. 8\n",
       "9. 9\n",
       "10. 10\n",
       "11. 11\n",
       "12. 12\n",
       "\n",
       "\n"
      ],
      "text/plain": [
       " [1]  1  2  3  4  5  6  7  8  9 10 11 12"
      ]
     },
     "metadata": {},
     "output_type": "display_data"
    },
    {
     "data": {
      "text/html": [
       "<style>\n",
       ".list-inline {list-style: none; margin:0; padding: 0}\n",
       ".list-inline>li {display: inline-block}\n",
       ".list-inline>li:not(:last-child)::after {content: \"\\00b7\"; padding: 0 .5ex}\n",
       "</style>\n",
       "<ol class=list-inline><li>5</li><li>8</li><li>7</li><li>9</li><li>4</li><li>6</li><li>12</li><li>13</li><li>8</li><li>6</li><li>6</li><li>4</li></ol>\n"
      ],
      "text/latex": [
       "\\begin{enumerate*}\n",
       "\\item 5\n",
       "\\item 8\n",
       "\\item 7\n",
       "\\item 9\n",
       "\\item 4\n",
       "\\item 6\n",
       "\\item 12\n",
       "\\item 13\n",
       "\\item 8\n",
       "\\item 6\n",
       "\\item 6\n",
       "\\item 4\n",
       "\\end{enumerate*}\n"
      ],
      "text/markdown": [
       "1. 5\n",
       "2. 8\n",
       "3. 7\n",
       "4. 9\n",
       "5. 4\n",
       "6. 6\n",
       "7. 12\n",
       "8. 13\n",
       "9. 8\n",
       "10. 6\n",
       "11. 6\n",
       "12. 4\n",
       "\n",
       "\n"
      ],
      "text/plain": [
       " [1]  5  8  7  9  4  6 12 13  8  6  6  4"
      ]
     },
     "metadata": {},
     "output_type": "display_data"
    },
    {
     "data": {
      "text/html": [
       "<style>\n",
       ".list-inline {list-style: none; margin:0; padding: 0}\n",
       ".list-inline>li {display: inline-block}\n",
       ".list-inline>li:not(:last-child)::after {content: \"\\00b7\"; padding: 0 .5ex}\n",
       "</style>\n",
       "<ol class=list-inline><li>4</li><li>6</li><li>5</li><li>8</li><li>7</li><li>8</li><li>10</li><li>11</li><li>6</li><li>5</li><li>7</li><li>3</li></ol>\n"
      ],
      "text/latex": [
       "\\begin{enumerate*}\n",
       "\\item 4\n",
       "\\item 6\n",
       "\\item 5\n",
       "\\item 8\n",
       "\\item 7\n",
       "\\item 8\n",
       "\\item 10\n",
       "\\item 11\n",
       "\\item 6\n",
       "\\item 5\n",
       "\\item 7\n",
       "\\item 3\n",
       "\\end{enumerate*}\n"
      ],
      "text/markdown": [
       "1. 4\n",
       "2. 6\n",
       "3. 5\n",
       "4. 8\n",
       "5. 7\n",
       "6. 8\n",
       "7. 10\n",
       "8. 11\n",
       "9. 6\n",
       "10. 5\n",
       "11. 7\n",
       "12. 3\n",
       "\n",
       "\n"
      ],
      "text/plain": [
       " [1]  4  6  5  8  7  8 10 11  6  5  7  3"
      ]
     },
     "metadata": {},
     "output_type": "display_data"
    }
   ],
   "source": [
    "month\n",
    "late1\n",
    "late2"
   ]
  },
  {
   "cell_type": "code",
   "execution_count": 61,
   "id": "e4daa069",
   "metadata": {},
   "outputs": [
    {
     "data": {
      "image/png": "[encoded data removed]",
      "text/plain": [
       "Plot with title \"Late Students\""
      ]
     },
     "metadata": {
      "image/png": {
       "height": 420,
       "width": 420
      }
     },
     "output_type": "display_data"
    }
   ],
   "source": [
    "plot(month, late1,\n",
    "    main = 'Late Students',\n",
    "    xlab = 'Month',\n",
    "    ylab = 'Late Cnt',\n",
    "    type = 'b',\n",
    "    col = 'red')\n",
    "lm.res = lm(late1~month)\n",
    "lines(month, late2,\n",
    "     type = 'b',\n",
    "     col = 'blue')\n",
    "abline(lm.res)"
   ]
  },
  {
   "cell_type": "code",
   "execution_count": 62,
   "id": "3396bc93",
   "metadata": {},
   "outputs": [
    {
     "data": {
      "text/plain": [
       "\n",
       "Call:\n",
       "lm(formula = late1 ~ month)\n",
       "\n",
       "Residuals:\n",
       "    Min      1Q  Median      3Q     Max \n",
       "-3.3753 -1.6323 -0.8193  0.9516  5.7086 \n",
       "\n",
       "Coefficients:\n",
       "            Estimate Std. Error t value Pr(>|t|)   \n",
       "(Intercept)  7.51515    1.85205   4.058  0.00229 **\n",
       "month       -0.02797    0.25164  -0.111  0.91369   \n",
       "---\n",
       "Signif. codes:  0 '***' 0.001 '**' 0.01 '*' 0.05 '.' 0.1 ' ' 1\n",
       "\n",
       "Residual standard error: 3.009 on 10 degrees of freedom\n",
       "Multiple R-squared:  0.001234,\tAdjusted R-squared:  -0.09864 \n",
       "F-statistic: 0.01236 on 1 and 10 DF,  p-value: 0.9137\n"
      ]
     },
     "metadata": {},
     "output_type": "display_data"
    }
   ],
   "source": [
    "summary(lm.res)"
   ]
  },
  {
   "cell_type": "code",
   "execution_count": 63,
   "id": "41df1a3e",
   "metadata": {},
   "outputs": [
    {
     "data": {
      "text/html": [
       "<strong>1:</strong> 7.31934731934732"
      ],
      "text/latex": [
       "\\textbf{1:} 7.31934731934732"
      ],
      "text/markdown": [
       "**1:** 7.31934731934732"
      ],
      "text/plain": [
       "       1 \n",
       "7.319347 "
      ]
     },
     "metadata": {},
     "output_type": "display_data"
    }
   ],
   "source": [
    "predict(lm.res, newdata = data.frame(month = 7))"
   ]
  },
  {
   "cell_type": "code",
   "execution_count": 64,
   "id": "a722a2f9",
   "metadata": {},
   "outputs": [
    {
     "data": {
      "text/html": [
       "7.51936"
      ],
      "text/latex": [
       "7.51936"
      ],
      "text/markdown": [
       "7.51936"
      ],
      "text/plain": [
       "[1] 7.51936"
      ]
     },
     "metadata": {},
     "output_type": "display_data"
    }
   ],
   "source": [
    "7.71515 + -0.02797 * 7"
   ]
  },
  {
   "cell_type": "code",
   "execution_count": 65,
   "id": "700fb0db",
   "metadata": {},
   "outputs": [],
   "source": [
    "mat1 = matrix(c(137, 218, 153, 22, 34, 30, 40, 67, 68), nrow = 3, byrow = F)"
   ]
  },
  {
   "cell_type": "code",
   "execution_count": 66,
   "id": "6ea252c3",
   "metadata": {},
   "outputs": [
    {
     "data": {
      "text/html": [
       "<table class=\"dataframe\">\n",
       "<caption>A matrix: 3 × 3 of type dbl</caption>\n",
       "<tbody>\n",
       "\t<tr><td>137</td><td>22</td><td>40</td></tr>\n",
       "\t<tr><td>218</td><td>34</td><td>67</td></tr>\n",
       "\t<tr><td>153</td><td>30</td><td>68</td></tr>\n",
       "</tbody>\n",
       "</table>\n"
      ],
      "text/latex": [
       "A matrix: 3 × 3 of type dbl\n",
       "\\begin{tabular}{lll}\n",
       "\t 137 & 22 & 40\\\\\n",
       "\t 218 & 34 & 67\\\\\n",
       "\t 153 & 30 & 68\\\\\n",
       "\\end{tabular}\n"
      ],
      "text/markdown": [
       "\n",
       "A matrix: 3 × 3 of type dbl\n",
       "\n",
       "| 137 | 22 | 40 |\n",
       "| 218 | 34 | 67 |\n",
       "| 153 | 30 | 68 |\n",
       "\n"
      ],
      "text/plain": [
       "     [,1] [,2] [,3]\n",
       "[1,] 137  22   40  \n",
       "[2,] 218  34   67  \n",
       "[3,] 153  30   68  "
      ]
     },
     "metadata": {},
     "output_type": "display_data"
    }
   ],
   "source": [
    "mat1"
   ]
  },
  {
   "cell_type": "code",
   "execution_count": 67,
   "id": "341372af",
   "metadata": {},
   "outputs": [],
   "source": [
    "dimnames(mat1)[[1]] = c('< 25', '25~28','> 28')"
   ]
  },
  {
   "cell_type": "code",
   "execution_count": 68,
   "id": "69b925d5",
   "metadata": {},
   "outputs": [],
   "source": [
    "dimnames(mat1)[[2]] = c('None','Fore','Crown')"
   ]
  },
  {
   "cell_type": "code",
   "execution_count": 69,
   "id": "0411c268",
   "metadata": {},
   "outputs": [
    {
     "data": {
      "text/html": [
       "<table class=\"dataframe\">\n",
       "<caption>A matrix: 3 × 3 of type dbl</caption>\n",
       "<thead>\n",
       "\t<tr><th></th><th scope=col>None</th><th scope=col>Fore</th><th scope=col>Crown</th></tr>\n",
       "</thead>\n",
       "<tbody>\n",
       "\t<tr><th scope=row>&lt; 25</th><td>137</td><td>22</td><td>40</td></tr>\n",
       "\t<tr><th scope=row>25~28</th><td>218</td><td>34</td><td>67</td></tr>\n",
       "\t<tr><th scope=row>&gt; 28</th><td>153</td><td>30</td><td>68</td></tr>\n",
       "</tbody>\n",
       "</table>\n"
      ],
      "text/latex": [
       "A matrix: 3 × 3 of type dbl\n",
       "\\begin{tabular}{r|lll}\n",
       "  & None & Fore & Crown\\\\\n",
       "\\hline\n",
       "\t< 25 & 137 & 22 & 40\\\\\n",
       "\t25\\textasciitilde{}28 & 218 & 34 & 67\\\\\n",
       "\t> 28 & 153 & 30 & 68\\\\\n",
       "\\end{tabular}\n"
      ],
      "text/markdown": [
       "\n",
       "A matrix: 3 × 3 of type dbl\n",
       "\n",
       "| <!--/--> | None | Fore | Crown |\n",
       "|---|---|---|---|\n",
       "| &lt; 25 | 137 | 22 | 40 |\n",
       "| 25~28 | 218 | 34 | 67 |\n",
       "| &gt; 28 | 153 | 30 | 68 |\n",
       "\n"
      ],
      "text/plain": [
       "      None Fore Crown\n",
       "< 25  137  22   40   \n",
       "25~28 218  34   67   \n",
       "> 28  153  30   68   "
      ]
     },
     "metadata": {},
     "output_type": "display_data"
    }
   ],
   "source": [
    "mat1"
   ]
  },
  {
   "cell_type": "code",
   "execution_count": 70,
   "id": "33a42c85",
   "metadata": {},
   "outputs": [],
   "source": [
    "mat2 = prop.table(mat1, 1)"
   ]
  },
  {
   "cell_type": "code",
   "execution_count": 71,
   "id": "fe6cb11c",
   "metadata": {},
   "outputs": [
    {
     "data": {
      "text/html": [
       "<table class=\"dataframe\">\n",
       "<caption>A matrix: 3 × 3 of type dbl</caption>\n",
       "<thead>\n",
       "\t<tr><th></th><th scope=col>None</th><th scope=col>Fore</th><th scope=col>Crown</th></tr>\n",
       "</thead>\n",
       "<tbody>\n",
       "\t<tr><th scope=row>&lt; 25</th><td>0.6884422</td><td>0.1105528</td><td>0.2010050</td></tr>\n",
       "\t<tr><th scope=row>25~28</th><td>0.6833856</td><td>0.1065831</td><td>0.2100313</td></tr>\n",
       "\t<tr><th scope=row>&gt; 28</th><td>0.6095618</td><td>0.1195219</td><td>0.2709163</td></tr>\n",
       "</tbody>\n",
       "</table>\n"
      ],
      "text/latex": [
       "A matrix: 3 × 3 of type dbl\n",
       "\\begin{tabular}{r|lll}\n",
       "  & None & Fore & Crown\\\\\n",
       "\\hline\n",
       "\t< 25 & 0.6884422 & 0.1105528 & 0.2010050\\\\\n",
       "\t25\\textasciitilde{}28 & 0.6833856 & 0.1065831 & 0.2100313\\\\\n",
       "\t> 28 & 0.6095618 & 0.1195219 & 0.2709163\\\\\n",
       "\\end{tabular}\n"
      ],
      "text/markdown": [
       "\n",
       "A matrix: 3 × 3 of type dbl\n",
       "\n",
       "| <!--/--> | None | Fore | Crown |\n",
       "|---|---|---|---|\n",
       "| &lt; 25 | 0.6884422 | 0.1105528 | 0.2010050 |\n",
       "| 25~28 | 0.6833856 | 0.1065831 | 0.2100313 |\n",
       "| &gt; 28 | 0.6095618 | 0.1195219 | 0.2709163 |\n",
       "\n"
      ],
      "text/plain": [
       "      None      Fore      Crown    \n",
       "< 25  0.6884422 0.1105528 0.2010050\n",
       "25~28 0.6833856 0.1065831 0.2100313\n",
       "> 28  0.6095618 0.1195219 0.2709163"
      ]
     },
     "metadata": {},
     "output_type": "display_data"
    }
   ],
   "source": [
    "mat2"
   ]
  },
  {
   "cell_type": "markdown",
   "id": "aa89e991",
   "metadata": {},
   "source": [
    "barplot(t(mat2), beside = T, horiz = T,\n",
    "       las = 1,\n",
    "       main = '신체 용적 지수',\n",
    "       legend.text = T,\n",
    "       args.legend = list(bty = 'n'),\n",
    "       col = c('salmon','pink','blue'))"
   ]
  },
  {
   "cell_type": "code",
   "execution_count": 80,
   "id": "f56b2de5",
   "metadata": {},
   "outputs": [
    {
     "data": {
      "image/png": "[encoded data removed]",
      "text/plain": [
       "Plot with title \"신체 용적 지수\""
      ]
     },
     "metadata": {
      "image/png": {
       "height": 420,
       "width": 420
      }
     },
     "output_type": "display_data"
    }
   ],
   "source": [
    "barplot(t(mat2), beside = T, horiz = T,\n",
    "       las = 1,\n",
    "       main = '신체 용적 지수',\n",
    "       legend.text = T,\n",
    "       args.legend = list(bty = 'n'),\n",
    "       col = c('salmon','pink','blue'))"
   ]
  },
  {
   "cell_type": "code",
   "execution_count": 83,
   "id": "31ed9524",
   "metadata": {},
   "outputs": [],
   "source": [
    "class = c(rep('baseball', 7), rep('basketball', 10), rep('Afootball', 6), rep('Hockey',2), rep('tenniss', 5), rep('soccor', 5))"
   ]
  },
  {
   "cell_type": "code",
   "execution_count": 84,
   "id": "6ebbf5e2",
   "metadata": {},
   "outputs": [
    {
     "data": {
      "text/html": [
       "<style>\n",
       ".list-inline {list-style: none; margin:0; padding: 0}\n",
       ".list-inline>li {display: inline-block}\n",
       ".list-inline>li:not(:last-child)::after {content: \"\\00b7\"; padding: 0 .5ex}\n",
       "</style>\n",
       "<ol class=list-inline><li>'baseball'</li><li>'baseball'</li><li>'baseball'</li><li>'baseball'</li><li>'baseball'</li><li>'baseball'</li><li>'baseball'</li><li>'basketball'</li><li>'basketball'</li><li>'basketball'</li><li>'basketball'</li><li>'basketball'</li><li>'basketball'</li><li>'basketball'</li><li>'basketball'</li><li>'basketball'</li><li>'basketball'</li><li>'Afootball'</li><li>'Afootball'</li><li>'Afootball'</li><li>'Afootball'</li><li>'Afootball'</li><li>'Afootball'</li><li>'Hockey'</li><li>'Hockey'</li><li>'tenniss'</li><li>'tenniss'</li><li>'tenniss'</li><li>'tenniss'</li><li>'tenniss'</li><li>'soccor'</li><li>'soccor'</li><li>'soccor'</li><li>'soccor'</li><li>'soccor'</li></ol>\n"
      ],
      "text/latex": [
       "\\begin{enumerate*}\n",
       "\\item 'baseball'\n",
       "\\item 'baseball'\n",
       "\\item 'baseball'\n",
       "\\item 'baseball'\n",
       "\\item 'baseball'\n",
       "\\item 'baseball'\n",
       "\\item 'baseball'\n",
       "\\item 'basketball'\n",
       "\\item 'basketball'\n",
       "\\item 'basketball'\n",
       "\\item 'basketball'\n",
       "\\item 'basketball'\n",
       "\\item 'basketball'\n",
       "\\item 'basketball'\n",
       "\\item 'basketball'\n",
       "\\item 'basketball'\n",
       "\\item 'basketball'\n",
       "\\item 'Afootball'\n",
       "\\item 'Afootball'\n",
       "\\item 'Afootball'\n",
       "\\item 'Afootball'\n",
       "\\item 'Afootball'\n",
       "\\item 'Afootball'\n",
       "\\item 'Hockey'\n",
       "\\item 'Hockey'\n",
       "\\item 'tenniss'\n",
       "\\item 'tenniss'\n",
       "\\item 'tenniss'\n",
       "\\item 'tenniss'\n",
       "\\item 'tenniss'\n",
       "\\item 'soccor'\n",
       "\\item 'soccor'\n",
       "\\item 'soccor'\n",
       "\\item 'soccor'\n",
       "\\item 'soccor'\n",
       "\\end{enumerate*}\n"
      ],
      "text/markdown": [
       "1. 'baseball'\n",
       "2. 'baseball'\n",
       "3. 'baseball'\n",
       "4. 'baseball'\n",
       "5. 'baseball'\n",
       "6. 'baseball'\n",
       "7. 'baseball'\n",
       "8. 'basketball'\n",
       "9. 'basketball'\n",
       "10. 'basketball'\n",
       "11. 'basketball'\n",
       "12. 'basketball'\n",
       "13. 'basketball'\n",
       "14. 'basketball'\n",
       "15. 'basketball'\n",
       "16. 'basketball'\n",
       "17. 'basketball'\n",
       "18. 'Afootball'\n",
       "19. 'Afootball'\n",
       "20. 'Afootball'\n",
       "21. 'Afootball'\n",
       "22. 'Afootball'\n",
       "23. 'Afootball'\n",
       "24. 'Hockey'\n",
       "25. 'Hockey'\n",
       "26. 'tenniss'\n",
       "27. 'tenniss'\n",
       "28. 'tenniss'\n",
       "29. 'tenniss'\n",
       "30. 'tenniss'\n",
       "31. 'soccor'\n",
       "32. 'soccor'\n",
       "33. 'soccor'\n",
       "34. 'soccor'\n",
       "35. 'soccor'\n",
       "\n",
       "\n"
      ],
      "text/plain": [
       " [1] \"baseball\"   \"baseball\"   \"baseball\"   \"baseball\"   \"baseball\"  \n",
       " [6] \"baseball\"   \"baseball\"   \"basketball\" \"basketball\" \"basketball\"\n",
       "[11] \"basketball\" \"basketball\" \"basketball\" \"basketball\" \"basketball\"\n",
       "[16] \"basketball\" \"basketball\" \"Afootball\"  \"Afootball\"  \"Afootball\" \n",
       "[21] \"Afootball\"  \"Afootball\"  \"Afootball\"  \"Hockey\"     \"Hockey\"    \n",
       "[26] \"tenniss\"    \"tenniss\"    \"tenniss\"    \"tenniss\"    \"tenniss\"   \n",
       "[31] \"soccor\"     \"soccor\"     \"soccor\"     \"soccor\"     \"soccor\"    "
      ]
     },
     "metadata": {},
     "output_type": "display_data"
    }
   ],
   "source": [
    "class"
   ]
  },
  {
   "cell_type": "code",
   "execution_count": 85,
   "id": "8bb5834c",
   "metadata": {},
   "outputs": [
    {
     "name": "stderr",
     "output_type": "stream",
     "text": [
      "Warning message in dotchart(table(class)):\n",
      "\"'x' is neither a vector nor a matrix: using as.numeric(x)\"\n"
     ]
    },
    {
     "data": {
      "image/png": "[encoded data removed]",
      "text/plain": [
       "plot without title"
      ]
     },
     "metadata": {
      "image/png": {
       "height": 420,
       "width": 420
      }
     },
     "output_type": "display_data"
    }
   ],
   "source": [
    "dotchart(table(class))"
   ]
  },
  {
   "cell_type": "code",
   "execution_count": 91,
   "id": "56f1bfd8",
   "metadata": {},
   "outputs": [
    {
     "data": {
      "image/png": "[encoded data removed]",
      "text/plain": [
       "plot without title"
      ]
     },
     "metadata": {
      "image/png": {
       "height": 420,
       "width": 420
      }
     },
     "output_type": "display_data"
    }
   ],
   "source": [
    "plot(table(t(class)), type = 'p',\n",
    "    las = 1,\n",
    "    xlab = 'class',\n",
    "    ylab = 'count')"
   ]
  },
  {
   "cell_type": "code",
   "execution_count": 92,
   "id": "9b22bea8",
   "metadata": {},
   "outputs": [],
   "source": [
    "time = c(15, 8, 23, 21, 5, 17, 31, 22, 34, 6, 5, 10, 14, 17, 16, 25, 30, 31, 19)"
   ]
  },
  {
   "cell_type": "code",
   "execution_count": 93,
   "id": "683b3eb8",
   "metadata": {},
   "outputs": [
    {
     "name": "stdout",
     "output_type": "stream",
     "text": [
      "\n",
      "  The decimal point is 1 digit(s) to the right of the |\n",
      "\n",
      "  0 | 5568\n",
      "  1 | 0456779\n",
      "  2 | 1235\n",
      "  3 | 0114\n",
      "\n"
     ]
    }
   ],
   "source": [
    "stem(time)"
   ]
  },
  {
   "cell_type": "code",
   "execution_count": 94,
   "id": "174d14aa",
   "metadata": {},
   "outputs": [],
   "source": [
    "height = c(181, 161, 170, 160, 158, 169, 162, 179, 183, 178, 171, 177, 163, \n",
    "          158, 160, 160, 158, 174, 160, 163, 167, 165, 163, 173, 178, 170,\n",
    "          167, 177, 167, 170, 152, 158, 160, 160, 159, 180, 169, 162, 178,\n",
    "          173, 173, 171, 171, 170, 160, 167, 168, 166, 164, 174, 180)"
   ]
  },
  {
   "cell_type": "code",
   "execution_count": 95,
   "id": "0c98d613",
   "metadata": {},
   "outputs": [
    {
     "data": {
      "text/html": [
       "<style>\n",
       ".list-inline {list-style: none; margin:0; padding: 0}\n",
       ".list-inline>li {display: inline-block}\n",
       ".list-inline>li:not(:last-child)::after {content: \"\\00b7\"; padding: 0 .5ex}\n",
       "</style>\n",
       "<ol class=list-inline><li>181</li><li>161</li><li>170</li><li>160</li><li>158</li><li>169</li><li>162</li><li>179</li><li>183</li><li>178</li><li>171</li><li>177</li><li>163</li><li>158</li><li>160</li><li>160</li><li>158</li><li>174</li><li>160</li><li>163</li><li>167</li><li>165</li><li>163</li><li>173</li><li>178</li><li>170</li><li>167</li><li>177</li><li>167</li><li>170</li><li>152</li><li>158</li><li>160</li><li>160</li><li>159</li><li>180</li><li>169</li><li>162</li><li>178</li><li>173</li><li>173</li><li>171</li><li>171</li><li>170</li><li>160</li><li>167</li><li>168</li><li>166</li><li>164</li><li>174</li><li>180</li></ol>\n"
      ],
      "text/latex": [
       "\\begin{enumerate*}\n",
       "\\item 181\n",
       "\\item 161\n",
       "\\item 170\n",
       "\\item 160\n",
       "\\item 158\n",
       "\\item 169\n",
       "\\item 162\n",
       "\\item 179\n",
       "\\item 183\n",
       "\\item 178\n",
       "\\item 171\n",
       "\\item 177\n",
       "\\item 163\n",
       "\\item 158\n",
       "\\item 160\n",
       "\\item 160\n",
       "\\item 158\n",
       "\\item 174\n",
       "\\item 160\n",
       "\\item 163\n",
       "\\item 167\n",
       "\\item 165\n",
       "\\item 163\n",
       "\\item 173\n",
       "\\item 178\n",
       "\\item 170\n",
       "\\item 167\n",
       "\\item 177\n",
       "\\item 167\n",
       "\\item 170\n",
       "\\item 152\n",
       "\\item 158\n",
       "\\item 160\n",
       "\\item 160\n",
       "\\item 159\n",
       "\\item 180\n",
       "\\item 169\n",
       "\\item 162\n",
       "\\item 178\n",
       "\\item 173\n",
       "\\item 173\n",
       "\\item 171\n",
       "\\item 171\n",
       "\\item 170\n",
       "\\item 160\n",
       "\\item 167\n",
       "\\item 168\n",
       "\\item 166\n",
       "\\item 164\n",
       "\\item 174\n",
       "\\item 180\n",
       "\\end{enumerate*}\n"
      ],
      "text/markdown": [
       "1. 181\n",
       "2. 161\n",
       "3. 170\n",
       "4. 160\n",
       "5. 158\n",
       "6. 169\n",
       "7. 162\n",
       "8. 179\n",
       "9. 183\n",
       "10. 178\n",
       "11. 171\n",
       "12. 177\n",
       "13. 163\n",
       "14. 158\n",
       "15. 160\n",
       "16. 160\n",
       "17. 158\n",
       "18. 174\n",
       "19. 160\n",
       "20. 163\n",
       "21. 167\n",
       "22. 165\n",
       "23. 163\n",
       "24. 173\n",
       "25. 178\n",
       "26. 170\n",
       "27. 167\n",
       "28. 177\n",
       "29. 167\n",
       "30. 170\n",
       "31. 152\n",
       "32. 158\n",
       "33. 160\n",
       "34. 160\n",
       "35. 159\n",
       "36. 180\n",
       "37. 169\n",
       "38. 162\n",
       "39. 178\n",
       "40. 173\n",
       "41. 173\n",
       "42. 171\n",
       "43. 171\n",
       "44. 170\n",
       "45. 160\n",
       "46. 167\n",
       "47. 168\n",
       "48. 166\n",
       "49. 164\n",
       "50. 174\n",
       "51. 180\n",
       "\n",
       "\n"
      ],
      "text/plain": [
       " [1] 181 161 170 160 158 169 162 179 183 178 171 177 163 158 160 160 158 174 160\n",
       "[20] 163 167 165 163 173 178 170 167 177 167 170 152 158 160 160 159 180 169 162\n",
       "[39] 178 173 173 171 171 170 160 167 168 166 164 174 180"
      ]
     },
     "metadata": {},
     "output_type": "display_data"
    }
   ],
   "source": [
    "height"
   ]
  },
  {
   "cell_type": "code",
   "execution_count": 96,
   "id": "986bb0d3",
   "metadata": {},
   "outputs": [],
   "source": [
    "cut = c(149.5, 154.5, 159.5, 164.5, 169.5, 174.5, 179.5, 184.5)"
   ]
  },
  {
   "cell_type": "code",
   "execution_count": 99,
   "id": "f4d4bf70",
   "metadata": {},
   "outputs": [
    {
     "data": {
      "image/png": "[encoded data removed]",
      "text/plain": [
       "Plot with title \"Histogram of height\""
      ]
     },
     "metadata": {
      "image/png": {
       "height": 420,
       "width": 420
      }
     },
     "output_type": "display_data"
    }
   ],
   "source": [
    "hist(height)"
   ]
  },
  {
   "cell_type": "code",
   "execution_count": 102,
   "id": "d69160e0",
   "metadata": {},
   "outputs": [
    {
     "data": {
      "image/png": "[encoded data removed]",
      "text/plain": [
       "Plot with title \"Histogram of height\""
      ]
     },
     "metadata": {
      "image/png": {
       "height": 420,
       "width": 420
      }
     },
     "output_type": "display_data"
    }
   ],
   "source": [
    "hist(height, breaks = cut, col = 'pink', probability = F)"
   ]
  },
  {
   "cell_type": "code",
   "execution_count": 101,
   "id": "8a14574b",
   "metadata": {},
   "outputs": [
    {
     "data": {
      "image/png": "[encoded data removed]",
      "text/plain": [
       "Plot with title \"Histogram of height\""
      ]
     },
     "metadata": {
      "image/png": {
       "height": 420,
       "width": 420
      }
     },
     "output_type": "display_data"
    }
   ],
   "source": [
    "hist(height, breaks = cut, col = 'pink', probability = T)"
   ]
  },
  {
   "cell_type": "code",
   "execution_count": 103,
   "id": "abc43d98",
   "metadata": {},
   "outputs": [],
   "source": [
    "x = c(45, 86, 34, 98, 67, 78, 56, 45, 85, 75, 64, 75, 75, 75, 58, 45, 83, 74)"
   ]
  },
  {
   "cell_type": "code",
   "execution_count": 106,
   "id": "42a9940e",
   "metadata": {},
   "outputs": [
    {
     "data": {
      "image/png": "[encoded data removed]",
      "text/plain": [
       "Plot with title \"Histogram of x\""
      ]
     },
     "metadata": {
      "image/png": {
       "height": 420,
       "width": 420
      }
     },
     "output_type": "display_data"
    }
   ],
   "source": [
    "hist(x, probability = T)\n",
    "lines(density(x))"
   ]
  },
  {
   "cell_type": "code",
   "execution_count": 107,
   "id": "1ce64566",
   "metadata": {},
   "outputs": [],
   "source": [
    "cut1 = cut(height, breaks = c(150, 155, 160, 165, 170, 175, 180, 185), right = F)"
   ]
  },
  {
   "cell_type": "code",
   "execution_count": 108,
   "id": "b54f7aef",
   "metadata": {},
   "outputs": [
    {
     "data": {
      "text/html": [
       "<style>\n",
       ".list-inline {list-style: none; margin:0; padding: 0}\n",
       ".list-inline>li {display: inline-block}\n",
       ".list-inline>li:not(:last-child)::after {content: \"\\00b7\"; padding: 0 .5ex}\n",
       "</style>\n",
       "<ol class=list-inline><li>[180,185)</li><li>[160,165)</li><li>[170,175)</li><li>[160,165)</li><li>[155,160)</li><li>[165,170)</li><li>[160,165)</li><li>[175,180)</li><li>[180,185)</li><li>[175,180)</li><li>[170,175)</li><li>[175,180)</li><li>[160,165)</li><li>[155,160)</li><li>[160,165)</li><li>[160,165)</li><li>[155,160)</li><li>[170,175)</li><li>[160,165)</li><li>[160,165)</li><li>[165,170)</li><li>[165,170)</li><li>[160,165)</li><li>[170,175)</li><li>[175,180)</li><li>[170,175)</li><li>[165,170)</li><li>[175,180)</li><li>[165,170)</li><li>[170,175)</li><li>[150,155)</li><li>[155,160)</li><li>[160,165)</li><li>[160,165)</li><li>[155,160)</li><li>[180,185)</li><li>[165,170)</li><li>[160,165)</li><li>[175,180)</li><li>[170,175)</li><li>[170,175)</li><li>[170,175)</li><li>[170,175)</li><li>[170,175)</li><li>[160,165)</li><li>[165,170)</li><li>[165,170)</li><li>[165,170)</li><li>[160,165)</li><li>[170,175)</li><li>[180,185)</li></ol>\n",
       "\n",
       "<details>\n",
       "\t<summary style=display:list-item;cursor:pointer>\n",
       "\t\t<strong>Levels</strong>:\n",
       "\t</summary>\n",
       "\t<style>\n",
       "\t.list-inline {list-style: none; margin:0; padding: 0}\n",
       "\t.list-inline>li {display: inline-block}\n",
       "\t.list-inline>li:not(:last-child)::after {content: \"\\00b7\"; padding: 0 .5ex}\n",
       "\t</style>\n",
       "\t<ol class=list-inline><li>'[150,155)'</li><li>'[155,160)'</li><li>'[160,165)'</li><li>'[165,170)'</li><li>'[170,175)'</li><li>'[175,180)'</li><li>'[180,185)'</li></ol>\n",
       "</details>"
      ],
      "text/latex": [
       "\\begin{enumerate*}\n",
       "\\item {[}180,185)\n",
       "\\item {[}160,165)\n",
       "\\item {[}170,175)\n",
       "\\item {[}160,165)\n",
       "\\item {[}155,160)\n",
       "\\item {[}165,170)\n",
       "\\item {[}160,165)\n",
       "\\item {[}175,180)\n",
       "\\item {[}180,185)\n",
       "\\item {[}175,180)\n",
       "\\item {[}170,175)\n",
       "\\item {[}175,180)\n",
       "\\item {[}160,165)\n",
       "\\item {[}155,160)\n",
       "\\item {[}160,165)\n",
       "\\item {[}160,165)\n",
       "\\item {[}155,160)\n",
       "\\item {[}170,175)\n",
       "\\item {[}160,165)\n",
       "\\item {[}160,165)\n",
       "\\item {[}165,170)\n",
       "\\item {[}165,170)\n",
       "\\item {[}160,165)\n",
       "\\item {[}170,175)\n",
       "\\item {[}175,180)\n",
       "\\item {[}170,175)\n",
       "\\item {[}165,170)\n",
       "\\item {[}175,180)\n",
       "\\item {[}165,170)\n",
       "\\item {[}170,175)\n",
       "\\item {[}150,155)\n",
       "\\item {[}155,160)\n",
       "\\item {[}160,165)\n",
       "\\item {[}160,165)\n",
       "\\item {[}155,160)\n",
       "\\item {[}180,185)\n",
       "\\item {[}165,170)\n",
       "\\item {[}160,165)\n",
       "\\item {[}175,180)\n",
       "\\item {[}170,175)\n",
       "\\item {[}170,175)\n",
       "\\item {[}170,175)\n",
       "\\item {[}170,175)\n",
       "\\item {[}170,175)\n",
       "\\item {[}160,165)\n",
       "\\item {[}165,170)\n",
       "\\item {[}165,170)\n",
       "\\item {[}165,170)\n",
       "\\item {[}160,165)\n",
       "\\item {[}170,175)\n",
       "\\item {[}180,185)\n",
       "\\end{enumerate*}\n",
       "\n",
       "\\emph{Levels}: \\begin{enumerate*}\n",
       "\\item '{[}150,155)'\n",
       "\\item '{[}155,160)'\n",
       "\\item '{[}160,165)'\n",
       "\\item '{[}165,170)'\n",
       "\\item '{[}170,175)'\n",
       "\\item '{[}175,180)'\n",
       "\\item '{[}180,185)'\n",
       "\\end{enumerate*}\n"
      ],
      "text/markdown": [
       "1. [180,185)\n",
       "2. [160,165)\n",
       "3. [170,175)\n",
       "4. [160,165)\n",
       "5. [155,160)\n",
       "6. [165,170)\n",
       "7. [160,165)\n",
       "8. [175,180)\n",
       "9. [180,185)\n",
       "10. [175,180)\n",
       "11. [170,175)\n",
       "12. [175,180)\n",
       "13. [160,165)\n",
       "14. [155,160)\n",
       "15. [160,165)\n",
       "16. [160,165)\n",
       "17. [155,160)\n",
       "18. [170,175)\n",
       "19. [160,165)\n",
       "20. [160,165)\n",
       "21. [165,170)\n",
       "22. [165,170)\n",
       "23. [160,165)\n",
       "24. [170,175)\n",
       "25. [175,180)\n",
       "26. [170,175)\n",
       "27. [165,170)\n",
       "28. [175,180)\n",
       "29. [165,170)\n",
       "30. [170,175)\n",
       "31. [150,155)\n",
       "32. [155,160)\n",
       "33. [160,165)\n",
       "34. [160,165)\n",
       "35. [155,160)\n",
       "36. [180,185)\n",
       "37. [165,170)\n",
       "38. [160,165)\n",
       "39. [175,180)\n",
       "40. [170,175)\n",
       "41. [170,175)\n",
       "42. [170,175)\n",
       "43. [170,175)\n",
       "44. [170,175)\n",
       "45. [160,165)\n",
       "46. [165,170)\n",
       "47. [165,170)\n",
       "48. [165,170)\n",
       "49. [160,165)\n",
       "50. [170,175)\n",
       "51. [180,185)\n",
       "\n",
       "\n",
       "\n",
       "**Levels**: 1. '[150,155)'\n",
       "2. '[155,160)'\n",
       "3. '[160,165)'\n",
       "4. '[165,170)'\n",
       "5. '[170,175)'\n",
       "6. '[175,180)'\n",
       "7. '[180,185)'\n",
       "\n",
       "\n"
      ],
      "text/plain": [
       " [1] [180,185) [160,165) [170,175) [160,165) [155,160) [165,170) [160,165)\n",
       " [8] [175,180) [180,185) [175,180) [170,175) [175,180) [160,165) [155,160)\n",
       "[15] [160,165) [160,165) [155,160) [170,175) [160,165) [160,165) [165,170)\n",
       "[22] [165,170) [160,165) [170,175) [175,180) [170,175) [165,170) [175,180)\n",
       "[29] [165,170) [170,175) [150,155) [155,160) [160,165) [160,165) [155,160)\n",
       "[36] [180,185) [165,170) [160,165) [175,180) [170,175) [170,175) [170,175)\n",
       "[43] [170,175) [170,175) [160,165) [165,170) [165,170) [165,170) [160,165)\n",
       "[50] [170,175) [180,185)\n",
       "7 Levels: [150,155) [155,160) [160,165) [165,170) [170,175) ... [180,185)"
      ]
     },
     "metadata": {},
     "output_type": "display_data"
    }
   ],
   "source": [
    "cut1"
   ]
  },
  {
   "cell_type": "code",
   "execution_count": 109,
   "id": "63dfb892",
   "metadata": {},
   "outputs": [
    {
     "data": {
      "text/html": [
       "<style>\n",
       ".list-inline {list-style: none; margin:0; padding: 0}\n",
       ".list-inline>li {display: inline-block}\n",
       ".list-inline>li:not(:last-child)::after {content: \"\\00b7\"; padding: 0 .5ex}\n",
       "</style>\n",
       "<ol class=list-inline><li>(180,185]</li><li>(160,165]</li><li>(165,170]</li><li>(155,160]</li><li>(155,160]</li><li>(165,170]</li><li>(160,165]</li><li>(175,180]</li><li>(180,185]</li><li>(175,180]</li><li>(170,175]</li><li>(175,180]</li><li>(160,165]</li><li>(155,160]</li><li>(155,160]</li><li>(155,160]</li><li>(155,160]</li><li>(170,175]</li><li>(155,160]</li><li>(160,165]</li><li>(165,170]</li><li>(160,165]</li><li>(160,165]</li><li>(170,175]</li><li>(175,180]</li><li>(165,170]</li><li>(165,170]</li><li>(175,180]</li><li>(165,170]</li><li>(165,170]</li><li>(150,155]</li><li>(155,160]</li><li>(155,160]</li><li>(155,160]</li><li>(155,160]</li><li>(175,180]</li><li>(165,170]</li><li>(160,165]</li><li>(175,180]</li><li>(170,175]</li><li>(170,175]</li><li>(170,175]</li><li>(170,175]</li><li>(165,170]</li><li>(155,160]</li><li>(165,170]</li><li>(165,170]</li><li>(165,170]</li><li>(160,165]</li><li>(170,175]</li><li>(175,180]</li></ol>\n",
       "\n",
       "<details>\n",
       "\t<summary style=display:list-item;cursor:pointer>\n",
       "\t\t<strong>Levels</strong>:\n",
       "\t</summary>\n",
       "\t<style>\n",
       "\t.list-inline {list-style: none; margin:0; padding: 0}\n",
       "\t.list-inline>li {display: inline-block}\n",
       "\t.list-inline>li:not(:last-child)::after {content: \"\\00b7\"; padding: 0 .5ex}\n",
       "\t</style>\n",
       "\t<ol class=list-inline><li>'(150,155]'</li><li>'(155,160]'</li><li>'(160,165]'</li><li>'(165,170]'</li><li>'(170,175]'</li><li>'(175,180]'</li><li>'(180,185]'</li></ol>\n",
       "</details>"
      ],
      "text/latex": [
       "\\begin{enumerate*}\n",
       "\\item (180,185{]}\n",
       "\\item (160,165{]}\n",
       "\\item (165,170{]}\n",
       "\\item (155,160{]}\n",
       "\\item (155,160{]}\n",
       "\\item (165,170{]}\n",
       "\\item (160,165{]}\n",
       "\\item (175,180{]}\n",
       "\\item (180,185{]}\n",
       "\\item (175,180{]}\n",
       "\\item (170,175{]}\n",
       "\\item (175,180{]}\n",
       "\\item (160,165{]}\n",
       "\\item (155,160{]}\n",
       "\\item (155,160{]}\n",
       "\\item (155,160{]}\n",
       "\\item (155,160{]}\n",
       "\\item (170,175{]}\n",
       "\\item (155,160{]}\n",
       "\\item (160,165{]}\n",
       "\\item (165,170{]}\n",
       "\\item (160,165{]}\n",
       "\\item (160,165{]}\n",
       "\\item (170,175{]}\n",
       "\\item (175,180{]}\n",
       "\\item (165,170{]}\n",
       "\\item (165,170{]}\n",
       "\\item (175,180{]}\n",
       "\\item (165,170{]}\n",
       "\\item (165,170{]}\n",
       "\\item (150,155{]}\n",
       "\\item (155,160{]}\n",
       "\\item (155,160{]}\n",
       "\\item (155,160{]}\n",
       "\\item (155,160{]}\n",
       "\\item (175,180{]}\n",
       "\\item (165,170{]}\n",
       "\\item (160,165{]}\n",
       "\\item (175,180{]}\n",
       "\\item (170,175{]}\n",
       "\\item (170,175{]}\n",
       "\\item (170,175{]}\n",
       "\\item (170,175{]}\n",
       "\\item (165,170{]}\n",
       "\\item (155,160{]}\n",
       "\\item (165,170{]}\n",
       "\\item (165,170{]}\n",
       "\\item (165,170{]}\n",
       "\\item (160,165{]}\n",
       "\\item (170,175{]}\n",
       "\\item (175,180{]}\n",
       "\\end{enumerate*}\n",
       "\n",
       "\\emph{Levels}: \\begin{enumerate*}\n",
       "\\item '(150,155{]}'\n",
       "\\item '(155,160{]}'\n",
       "\\item '(160,165{]}'\n",
       "\\item '(165,170{]}'\n",
       "\\item '(170,175{]}'\n",
       "\\item '(175,180{]}'\n",
       "\\item '(180,185{]}'\n",
       "\\end{enumerate*}\n"
      ],
      "text/markdown": [
       "1. (180,185]\n",
       "2. (160,165]\n",
       "3. (165,170]\n",
       "4. (155,160]\n",
       "5. (155,160]\n",
       "6. (165,170]\n",
       "7. (160,165]\n",
       "8. (175,180]\n",
       "9. (180,185]\n",
       "10. (175,180]\n",
       "11. (170,175]\n",
       "12. (175,180]\n",
       "13. (160,165]\n",
       "14. (155,160]\n",
       "15. (155,160]\n",
       "16. (155,160]\n",
       "17. (155,160]\n",
       "18. (170,175]\n",
       "19. (155,160]\n",
       "20. (160,165]\n",
       "21. (165,170]\n",
       "22. (160,165]\n",
       "23. (160,165]\n",
       "24. (170,175]\n",
       "25. (175,180]\n",
       "26. (165,170]\n",
       "27. (165,170]\n",
       "28. (175,180]\n",
       "29. (165,170]\n",
       "30. (165,170]\n",
       "31. (150,155]\n",
       "32. (155,160]\n",
       "33. (155,160]\n",
       "34. (155,160]\n",
       "35. (155,160]\n",
       "36. (175,180]\n",
       "37. (165,170]\n",
       "38. (160,165]\n",
       "39. (175,180]\n",
       "40. (170,175]\n",
       "41. (170,175]\n",
       "42. (170,175]\n",
       "43. (170,175]\n",
       "44. (165,170]\n",
       "45. (155,160]\n",
       "46. (165,170]\n",
       "47. (165,170]\n",
       "48. (165,170]\n",
       "49. (160,165]\n",
       "50. (170,175]\n",
       "51. (175,180]\n",
       "\n",
       "\n",
       "\n",
       "**Levels**: 1. '(150,155]'\n",
       "2. '(155,160]'\n",
       "3. '(160,165]'\n",
       "4. '(165,170]'\n",
       "5. '(170,175]'\n",
       "6. '(175,180]'\n",
       "7. '(180,185]'\n",
       "\n",
       "\n"
      ],
      "text/plain": [
       " [1] (180,185] (160,165] (165,170] (155,160] (155,160] (165,170] (160,165]\n",
       " [8] (175,180] (180,185] (175,180] (170,175] (175,180] (160,165] (155,160]\n",
       "[15] (155,160] (155,160] (155,160] (170,175] (155,160] (160,165] (165,170]\n",
       "[22] (160,165] (160,165] (170,175] (175,180] (165,170] (165,170] (175,180]\n",
       "[29] (165,170] (165,170] (150,155] (155,160] (155,160] (155,160] (155,160]\n",
       "[36] (175,180] (165,170] (160,165] (175,180] (170,175] (170,175] (170,175]\n",
       "[43] (170,175] (165,170] (155,160] (165,170] (165,170] (165,170] (160,165]\n",
       "[50] (170,175] (175,180]\n",
       "7 Levels: (150,155] (155,160] (160,165] (165,170] (170,175] ... (180,185]"
      ]
     },
     "metadata": {},
     "output_type": "display_data"
    }
   ],
   "source": [
    "cut1 = cut(height, breaks = c(150, 155, 160, 165, 170, 175, 180, 185))\n",
    "cut1"
   ]
  },
  {
   "cell_type": "code",
   "execution_count": 111,
   "id": "78ded49a",
   "metadata": {},
   "outputs": [],
   "source": [
    "cut1 = cut(height, breaks = c(150, 155, 160, 165, 170, 175, 180, 185), right = T)"
   ]
  },
  {
   "cell_type": "code",
   "execution_count": 112,
   "id": "dd0c9f7a",
   "metadata": {},
   "outputs": [
    {
     "data": {
      "text/html": [
       "<style>\n",
       ".list-inline {list-style: none; margin:0; padding: 0}\n",
       ".list-inline>li {display: inline-block}\n",
       ".list-inline>li:not(:last-child)::after {content: \"\\00b7\"; padding: 0 .5ex}\n",
       "</style>\n",
       "<ol class=list-inline><li>(180,185]</li><li>(160,165]</li><li>(165,170]</li><li>(155,160]</li><li>(155,160]</li><li>(165,170]</li><li>(160,165]</li><li>(175,180]</li><li>(180,185]</li><li>(175,180]</li><li>(170,175]</li><li>(175,180]</li><li>(160,165]</li><li>(155,160]</li><li>(155,160]</li><li>(155,160]</li><li>(155,160]</li><li>(170,175]</li><li>(155,160]</li><li>(160,165]</li><li>(165,170]</li><li>(160,165]</li><li>(160,165]</li><li>(170,175]</li><li>(175,180]</li><li>(165,170]</li><li>(165,170]</li><li>(175,180]</li><li>(165,170]</li><li>(165,170]</li><li>(150,155]</li><li>(155,160]</li><li>(155,160]</li><li>(155,160]</li><li>(155,160]</li><li>(175,180]</li><li>(165,170]</li><li>(160,165]</li><li>(175,180]</li><li>(170,175]</li><li>(170,175]</li><li>(170,175]</li><li>(170,175]</li><li>(165,170]</li><li>(155,160]</li><li>(165,170]</li><li>(165,170]</li><li>(165,170]</li><li>(160,165]</li><li>(170,175]</li><li>(175,180]</li></ol>\n",
       "\n",
       "<details>\n",
       "\t<summary style=display:list-item;cursor:pointer>\n",
       "\t\t<strong>Levels</strong>:\n",
       "\t</summary>\n",
       "\t<style>\n",
       "\t.list-inline {list-style: none; margin:0; padding: 0}\n",
       "\t.list-inline>li {display: inline-block}\n",
       "\t.list-inline>li:not(:last-child)::after {content: \"\\00b7\"; padding: 0 .5ex}\n",
       "\t</style>\n",
       "\t<ol class=list-inline><li>'(150,155]'</li><li>'(155,160]'</li><li>'(160,165]'</li><li>'(165,170]'</li><li>'(170,175]'</li><li>'(175,180]'</li><li>'(180,185]'</li></ol>\n",
       "</details>"
      ],
      "text/latex": [
       "\\begin{enumerate*}\n",
       "\\item (180,185{]}\n",
       "\\item (160,165{]}\n",
       "\\item (165,170{]}\n",
       "\\item (155,160{]}\n",
       "\\item (155,160{]}\n",
       "\\item (165,170{]}\n",
       "\\item (160,165{]}\n",
       "\\item (175,180{]}\n",
       "\\item (180,185{]}\n",
       "\\item (175,180{]}\n",
       "\\item (170,175{]}\n",
       "\\item (175,180{]}\n",
       "\\item (160,165{]}\n",
       "\\item (155,160{]}\n",
       "\\item (155,160{]}\n",
       "\\item (155,160{]}\n",
       "\\item (155,160{]}\n",
       "\\item (170,175{]}\n",
       "\\item (155,160{]}\n",
       "\\item (160,165{]}\n",
       "\\item (165,170{]}\n",
       "\\item (160,165{]}\n",
       "\\item (160,165{]}\n",
       "\\item (170,175{]}\n",
       "\\item (175,180{]}\n",
       "\\item (165,170{]}\n",
       "\\item (165,170{]}\n",
       "\\item (175,180{]}\n",
       "\\item (165,170{]}\n",
       "\\item (165,170{]}\n",
       "\\item (150,155{]}\n",
       "\\item (155,160{]}\n",
       "\\item (155,160{]}\n",
       "\\item (155,160{]}\n",
       "\\item (155,160{]}\n",
       "\\item (175,180{]}\n",
       "\\item (165,170{]}\n",
       "\\item (160,165{]}\n",
       "\\item (175,180{]}\n",
       "\\item (170,175{]}\n",
       "\\item (170,175{]}\n",
       "\\item (170,175{]}\n",
       "\\item (170,175{]}\n",
       "\\item (165,170{]}\n",
       "\\item (155,160{]}\n",
       "\\item (165,170{]}\n",
       "\\item (165,170{]}\n",
       "\\item (165,170{]}\n",
       "\\item (160,165{]}\n",
       "\\item (170,175{]}\n",
       "\\item (175,180{]}\n",
       "\\end{enumerate*}\n",
       "\n",
       "\\emph{Levels}: \\begin{enumerate*}\n",
       "\\item '(150,155{]}'\n",
       "\\item '(155,160{]}'\n",
       "\\item '(160,165{]}'\n",
       "\\item '(165,170{]}'\n",
       "\\item '(170,175{]}'\n",
       "\\item '(175,180{]}'\n",
       "\\item '(180,185{]}'\n",
       "\\end{enumerate*}\n"
      ],
      "text/markdown": [
       "1. (180,185]\n",
       "2. (160,165]\n",
       "3. (165,170]\n",
       "4. (155,160]\n",
       "5. (155,160]\n",
       "6. (165,170]\n",
       "7. (160,165]\n",
       "8. (175,180]\n",
       "9. (180,185]\n",
       "10. (175,180]\n",
       "11. (170,175]\n",
       "12. (175,180]\n",
       "13. (160,165]\n",
       "14. (155,160]\n",
       "15. (155,160]\n",
       "16. (155,160]\n",
       "17. (155,160]\n",
       "18. (170,175]\n",
       "19. (155,160]\n",
       "20. (160,165]\n",
       "21. (165,170]\n",
       "22. (160,165]\n",
       "23. (160,165]\n",
       "24. (170,175]\n",
       "25. (175,180]\n",
       "26. (165,170]\n",
       "27. (165,170]\n",
       "28. (175,180]\n",
       "29. (165,170]\n",
       "30. (165,170]\n",
       "31. (150,155]\n",
       "32. (155,160]\n",
       "33. (155,160]\n",
       "34. (155,160]\n",
       "35. (155,160]\n",
       "36. (175,180]\n",
       "37. (165,170]\n",
       "38. (160,165]\n",
       "39. (175,180]\n",
       "40. (170,175]\n",
       "41. (170,175]\n",
       "42. (170,175]\n",
       "43. (170,175]\n",
       "44. (165,170]\n",
       "45. (155,160]\n",
       "46. (165,170]\n",
       "47. (165,170]\n",
       "48. (165,170]\n",
       "49. (160,165]\n",
       "50. (170,175]\n",
       "51. (175,180]\n",
       "\n",
       "\n",
       "\n",
       "**Levels**: 1. '(150,155]'\n",
       "2. '(155,160]'\n",
       "3. '(160,165]'\n",
       "4. '(165,170]'\n",
       "5. '(170,175]'\n",
       "6. '(175,180]'\n",
       "7. '(180,185]'\n",
       "\n",
       "\n"
      ],
      "text/plain": [
       " [1] (180,185] (160,165] (165,170] (155,160] (155,160] (165,170] (160,165]\n",
       " [8] (175,180] (180,185] (175,180] (170,175] (175,180] (160,165] (155,160]\n",
       "[15] (155,160] (155,160] (155,160] (170,175] (155,160] (160,165] (165,170]\n",
       "[22] (160,165] (160,165] (170,175] (175,180] (165,170] (165,170] (175,180]\n",
       "[29] (165,170] (165,170] (150,155] (155,160] (155,160] (155,160] (155,160]\n",
       "[36] (175,180] (165,170] (160,165] (175,180] (170,175] (170,175] (170,175]\n",
       "[43] (170,175] (165,170] (155,160] (165,170] (165,170] (165,170] (160,165]\n",
       "[50] (170,175] (175,180]\n",
       "7 Levels: (150,155] (155,160] (160,165] (165,170] (170,175] ... (180,185]"
      ]
     },
     "metadata": {},
     "output_type": "display_data"
    }
   ],
   "source": [
    "cut1"
   ]
  },
  {
   "cell_type": "code",
   "execution_count": 113,
   "id": "6df6348e",
   "metadata": {},
   "outputs": [],
   "source": [
    "freq = table(cut1)"
   ]
  },
  {
   "cell_type": "code",
   "execution_count": 114,
   "id": "ea0453fd",
   "metadata": {},
   "outputs": [
    {
     "data": {
      "text/plain": [
       "cut1\n",
       "(150,155] (155,160] (160,165] (165,170] (170,175] (175,180] (180,185] \n",
       "        1        12         8        12         8         8         2 "
      ]
     },
     "metadata": {},
     "output_type": "display_data"
    }
   ],
   "source": [
    "freq"
   ]
  },
  {
   "cell_type": "code",
   "execution_count": 115,
   "id": "99d8611d",
   "metadata": {},
   "outputs": [],
   "source": [
    "prop = prop.table(freq)"
   ]
  },
  {
   "cell_type": "code",
   "execution_count": 116,
   "id": "cfbbbb65",
   "metadata": {},
   "outputs": [
    {
     "data": {
      "text/plain": [
       "cut1\n",
       " (150,155]  (155,160]  (160,165]  (165,170]  (170,175]  (175,180]  (180,185] \n",
       "0.01960784 0.23529412 0.15686275 0.23529412 0.15686275 0.15686275 0.03921569 "
      ]
     },
     "metadata": {},
     "output_type": "display_data"
    }
   ],
   "source": [
    "prop"
   ]
  },
  {
   "cell_type": "code",
   "execution_count": 117,
   "id": "0d27798c",
   "metadata": {},
   "outputs": [
    {
     "data": {
      "text/html": [
       "<style>\n",
       ".list-inline {list-style: none; margin:0; padding: 0}\n",
       ".list-inline>li {display: inline-block}\n",
       ".list-inline>li:not(:last-child)::after {content: \"\\00b7\"; padding: 0 .5ex}\n",
       "</style>\n",
       "<ol class=list-inline><li>(180,185]</li><li>(160,165]</li><li>(165,170]</li><li>(155,160]</li><li>(155,160]</li><li>(165,170]</li><li>(160,165]</li><li>(175,180]</li><li>(180,185]</li><li>(175,180]</li><li>(170,175]</li><li>(175,180]</li><li>(160,165]</li><li>(155,160]</li><li>(155,160]</li><li>(155,160]</li><li>(155,160]</li><li>(170,175]</li><li>(155,160]</li><li>(160,165]</li><li>(165,170]</li><li>(160,165]</li><li>(160,165]</li><li>(170,175]</li><li>(175,180]</li><li>(165,170]</li><li>(165,170]</li><li>(175,180]</li><li>(165,170]</li><li>(165,170]</li><li>(150,155]</li><li>(155,160]</li><li>(155,160]</li><li>(155,160]</li><li>(155,160]</li><li>(175,180]</li><li>(165,170]</li><li>(160,165]</li><li>(175,180]</li><li>(170,175]</li><li>(170,175]</li><li>(170,175]</li><li>(170,175]</li><li>(165,170]</li><li>(155,160]</li><li>(165,170]</li><li>(165,170]</li><li>(165,170]</li><li>(160,165]</li><li>(170,175]</li><li>(175,180]</li></ol>\n",
       "\n",
       "<details>\n",
       "\t<summary style=display:list-item;cursor:pointer>\n",
       "\t\t<strong>Levels</strong>:\n",
       "\t</summary>\n",
       "\t<style>\n",
       "\t.list-inline {list-style: none; margin:0; padding: 0}\n",
       "\t.list-inline>li {display: inline-block}\n",
       "\t.list-inline>li:not(:last-child)::after {content: \"\\00b7\"; padding: 0 .5ex}\n",
       "\t</style>\n",
       "\t<ol class=list-inline><li>'(150,155]'</li><li>'(155,160]'</li><li>'(160,165]'</li><li>'(165,170]'</li><li>'(170,175]'</li><li>'(175,180]'</li><li>'(180,185]'</li></ol>\n",
       "</details>"
      ],
      "text/latex": [
       "\\begin{enumerate*}\n",
       "\\item (180,185{]}\n",
       "\\item (160,165{]}\n",
       "\\item (165,170{]}\n",
       "\\item (155,160{]}\n",
       "\\item (155,160{]}\n",
       "\\item (165,170{]}\n",
       "\\item (160,165{]}\n",
       "\\item (175,180{]}\n",
       "\\item (180,185{]}\n",
       "\\item (175,180{]}\n",
       "\\item (170,175{]}\n",
       "\\item (175,180{]}\n",
       "\\item (160,165{]}\n",
       "\\item (155,160{]}\n",
       "\\item (155,160{]}\n",
       "\\item (155,160{]}\n",
       "\\item (155,160{]}\n",
       "\\item (170,175{]}\n",
       "\\item (155,160{]}\n",
       "\\item (160,165{]}\n",
       "\\item (165,170{]}\n",
       "\\item (160,165{]}\n",
       "\\item (160,165{]}\n",
       "\\item (170,175{]}\n",
       "\\item (175,180{]}\n",
       "\\item (165,170{]}\n",
       "\\item (165,170{]}\n",
       "\\item (175,180{]}\n",
       "\\item (165,170{]}\n",
       "\\item (165,170{]}\n",
       "\\item (150,155{]}\n",
       "\\item (155,160{]}\n",
       "\\item (155,160{]}\n",
       "\\item (155,160{]}\n",
       "\\item (155,160{]}\n",
       "\\item (175,180{]}\n",
       "\\item (165,170{]}\n",
       "\\item (160,165{]}\n",
       "\\item (175,180{]}\n",
       "\\item (170,175{]}\n",
       "\\item (170,175{]}\n",
       "\\item (170,175{]}\n",
       "\\item (170,175{]}\n",
       "\\item (165,170{]}\n",
       "\\item (155,160{]}\n",
       "\\item (165,170{]}\n",
       "\\item (165,170{]}\n",
       "\\item (165,170{]}\n",
       "\\item (160,165{]}\n",
       "\\item (170,175{]}\n",
       "\\item (175,180{]}\n",
       "\\end{enumerate*}\n",
       "\n",
       "\\emph{Levels}: \\begin{enumerate*}\n",
       "\\item '(150,155{]}'\n",
       "\\item '(155,160{]}'\n",
       "\\item '(160,165{]}'\n",
       "\\item '(165,170{]}'\n",
       "\\item '(170,175{]}'\n",
       "\\item '(175,180{]}'\n",
       "\\item '(180,185{]}'\n",
       "\\end{enumerate*}\n"
      ],
      "text/markdown": [
       "1. (180,185]\n",
       "2. (160,165]\n",
       "3. (165,170]\n",
       "4. (155,160]\n",
       "5. (155,160]\n",
       "6. (165,170]\n",
       "7. (160,165]\n",
       "8. (175,180]\n",
       "9. (180,185]\n",
       "10. (175,180]\n",
       "11. (170,175]\n",
       "12. (175,180]\n",
       "13. (160,165]\n",
       "14. (155,160]\n",
       "15. (155,160]\n",
       "16. (155,160]\n",
       "17. (155,160]\n",
       "18. (170,175]\n",
       "19. (155,160]\n",
       "20. (160,165]\n",
       "21. (165,170]\n",
       "22. (160,165]\n",
       "23. (160,165]\n",
       "24. (170,175]\n",
       "25. (175,180]\n",
       "26. (165,170]\n",
       "27. (165,170]\n",
       "28. (175,180]\n",
       "29. (165,170]\n",
       "30. (165,170]\n",
       "31. (150,155]\n",
       "32. (155,160]\n",
       "33. (155,160]\n",
       "34. (155,160]\n",
       "35. (155,160]\n",
       "36. (175,180]\n",
       "37. (165,170]\n",
       "38. (160,165]\n",
       "39. (175,180]\n",
       "40. (170,175]\n",
       "41. (170,175]\n",
       "42. (170,175]\n",
       "43. (170,175]\n",
       "44. (165,170]\n",
       "45. (155,160]\n",
       "46. (165,170]\n",
       "47. (165,170]\n",
       "48. (165,170]\n",
       "49. (160,165]\n",
       "50. (170,175]\n",
       "51. (175,180]\n",
       "\n",
       "\n",
       "\n",
       "**Levels**: 1. '(150,155]'\n",
       "2. '(155,160]'\n",
       "3. '(160,165]'\n",
       "4. '(165,170]'\n",
       "5. '(170,175]'\n",
       "6. '(175,180]'\n",
       "7. '(180,185]'\n",
       "\n",
       "\n"
      ],
      "text/plain": [
       " [1] (180,185] (160,165] (165,170] (155,160] (155,160] (165,170] (160,165]\n",
       " [8] (175,180] (180,185] (175,180] (170,175] (175,180] (160,165] (155,160]\n",
       "[15] (155,160] (155,160] (155,160] (170,175] (155,160] (160,165] (165,170]\n",
       "[22] (160,165] (160,165] (170,175] (175,180] (165,170] (165,170] (175,180]\n",
       "[29] (165,170] (165,170] (150,155] (155,160] (155,160] (155,160] (155,160]\n",
       "[36] (175,180] (165,170] (160,165] (175,180] (170,175] (170,175] (170,175]\n",
       "[43] (170,175] (165,170] (155,160] (165,170] (165,170] (165,170] (160,165]\n",
       "[50] (170,175] (175,180]\n",
       "7 Levels: (150,155] (155,160] (160,165] (165,170] (170,175] ... (180,185]"
      ]
     },
     "metadata": {},
     "output_type": "display_data"
    }
   ],
   "source": [
    "cut1"
   ]
  },
  {
   "cell_type": "code",
   "execution_count": 118,
   "id": "62239b09",
   "metadata": {},
   "outputs": [
    {
     "data": {
      "text/html": [
       "<table class=\"dataframe\">\n",
       "<caption>A matrix: 7 × 2 of type dbl</caption>\n",
       "<thead>\n",
       "\t<tr><th></th><th scope=col>freq</th><th scope=col>prop</th></tr>\n",
       "</thead>\n",
       "<tbody>\n",
       "\t<tr><th scope=row>(150,155]</th><td> 1</td><td>0.01960784</td></tr>\n",
       "\t<tr><th scope=row>(155,160]</th><td>12</td><td>0.23529412</td></tr>\n",
       "\t<tr><th scope=row>(160,165]</th><td> 8</td><td>0.15686275</td></tr>\n",
       "\t<tr><th scope=row>(165,170]</th><td>12</td><td>0.23529412</td></tr>\n",
       "\t<tr><th scope=row>(170,175]</th><td> 8</td><td>0.15686275</td></tr>\n",
       "\t<tr><th scope=row>(175,180]</th><td> 8</td><td>0.15686275</td></tr>\n",
       "\t<tr><th scope=row>(180,185]</th><td> 2</td><td>0.03921569</td></tr>\n",
       "</tbody>\n",
       "</table>\n"
      ],
      "text/latex": [
       "A matrix: 7 × 2 of type dbl\n",
       "\\begin{tabular}{r|ll}\n",
       "  & freq & prop\\\\\n",
       "\\hline\n",
       "\t(150,155{]} &  1 & 0.01960784\\\\\n",
       "\t(155,160{]} & 12 & 0.23529412\\\\\n",
       "\t(160,165{]} &  8 & 0.15686275\\\\\n",
       "\t(165,170{]} & 12 & 0.23529412\\\\\n",
       "\t(170,175{]} &  8 & 0.15686275\\\\\n",
       "\t(175,180{]} &  8 & 0.15686275\\\\\n",
       "\t(180,185{]} &  2 & 0.03921569\\\\\n",
       "\\end{tabular}\n"
      ],
      "text/markdown": [
       "\n",
       "A matrix: 7 × 2 of type dbl\n",
       "\n",
       "| <!--/--> | freq | prop |\n",
       "|---|---|---|\n",
       "| (150,155] |  1 | 0.01960784 |\n",
       "| (155,160] | 12 | 0.23529412 |\n",
       "| (160,165] |  8 | 0.15686275 |\n",
       "| (165,170] | 12 | 0.23529412 |\n",
       "| (170,175] |  8 | 0.15686275 |\n",
       "| (175,180] |  8 | 0.15686275 |\n",
       "| (180,185] |  2 | 0.03921569 |\n",
       "\n"
      ],
      "text/plain": [
       "          freq prop      \n",
       "(150,155]  1   0.01960784\n",
       "(155,160] 12   0.23529412\n",
       "(160,165]  8   0.15686275\n",
       "(165,170] 12   0.23529412\n",
       "(170,175]  8   0.15686275\n",
       "(175,180]  8   0.15686275\n",
       "(180,185]  2   0.03921569"
      ]
     },
     "metadata": {},
     "output_type": "display_data"
    }
   ],
   "source": [
    "cbind(freq, prop)"
   ]
  },
  {
   "cell_type": "code",
   "execution_count": 119,
   "id": "d9a082c2",
   "metadata": {},
   "outputs": [
    {
     "data": {
      "image/png": "[encoded data removed]",
      "text/plain": [
       "Plot with title \"Histogram of prop\""
      ]
     },
     "metadata": {
      "image/png": {
       "height": 420,
       "width": 420
      }
     },
     "output_type": "display_data"
    }
   ],
   "source": [
    "hist(prop)"
   ]
  },
  {
   "cell_type": "code",
   "execution_count": 120,
   "id": "3a15c303",
   "metadata": {},
   "outputs": [
    {
     "data": {
      "text/html": [
       "67.6666666666667"
      ],
      "text/latex": [
       "67.6666666666667"
      ],
      "text/markdown": [
       "67.6666666666667"
      ],
      "text/plain": [
       "[1] 67.66667"
      ]
     },
     "metadata": {},
     "output_type": "display_data"
    }
   ],
   "source": [
    "mean(x)"
   ]
  },
  {
   "cell_type": "code",
   "execution_count": 121,
   "id": "b6e0a32c",
   "metadata": {},
   "outputs": [
    {
     "data": {
      "text/html": [
       "74.5"
      ],
      "text/latex": [
       "74.5"
      ],
      "text/markdown": [
       "74.5"
      ],
      "text/plain": [
       "[1] 74.5"
      ]
     },
     "metadata": {},
     "output_type": "display_data"
    }
   ],
   "source": [
    "median(x)"
   ]
  },
  {
   "cell_type": "code",
   "execution_count": 122,
   "id": "bbfd6118",
   "metadata": {},
   "outputs": [],
   "source": [
    "y = c(2, 2, 8, 20, 58)"
   ]
  },
  {
   "cell_type": "code",
   "execution_count": 123,
   "id": "2725db86",
   "metadata": {},
   "outputs": [
    {
     "data": {
      "text/html": [
       "<style>\n",
       ".list-inline {list-style: none; margin:0; padding: 0}\n",
       ".list-inline>li {display: inline-block}\n",
       ".list-inline>li:not(:last-child)::after {content: \"\\00b7\"; padding: 0 .5ex}\n",
       "</style>\n",
       "<ol class=list-inline><li>2</li><li>2</li><li>8</li><li>20</li><li>58</li></ol>\n"
      ],
      "text/latex": [
       "\\begin{enumerate*}\n",
       "\\item 2\n",
       "\\item 2\n",
       "\\item 8\n",
       "\\item 20\n",
       "\\item 58\n",
       "\\end{enumerate*}\n"
      ],
      "text/markdown": [
       "1. 2\n",
       "2. 2\n",
       "3. 8\n",
       "4. 20\n",
       "5. 58\n",
       "\n",
       "\n"
      ],
      "text/plain": [
       "[1]  2  2  8 20 58"
      ]
     },
     "metadata": {},
     "output_type": "display_data"
    }
   ],
   "source": [
    "y"
   ]
  },
  {
   "cell_type": "code",
   "execution_count": 124,
   "id": "bdd1787c",
   "metadata": {},
   "outputs": [
    {
     "data": {
      "text/html": [
       "18"
      ],
      "text/latex": [
       "18"
      ],
      "text/markdown": [
       "18"
      ],
      "text/plain": [
       "[1] 18"
      ]
     },
     "metadata": {},
     "output_type": "display_data"
    }
   ],
   "source": [
    "mean(y)"
   ]
  },
  {
   "cell_type": "code",
   "execution_count": 125,
   "id": "33484798",
   "metadata": {},
   "outputs": [
    {
     "data": {
      "text/html": [
       "8"
      ],
      "text/latex": [
       "8"
      ],
      "text/markdown": [
       "8"
      ],
      "text/plain": [
       "[1] 8"
      ]
     },
     "metadata": {},
     "output_type": "display_data"
    }
   ],
   "source": [
    "median(y)"
   ]
  },
  {
   "cell_type": "code",
   "execution_count": 126,
   "id": "081c9958",
   "metadata": {},
   "outputs": [
    {
     "data": {
      "text/html": [
       "98"
      ],
      "text/latex": [
       "98"
      ],
      "text/markdown": [
       "98"
      ],
      "text/plain": [
       "[1] 98"
      ]
     },
     "metadata": {},
     "output_type": "display_data"
    }
   ],
   "source": [
    "max(x)"
   ]
  },
  {
   "cell_type": "code",
   "execution_count": 127,
   "id": "4c8a1d3c",
   "metadata": {},
   "outputs": [
    {
     "data": {
      "text/html": [
       "2"
      ],
      "text/latex": [
       "2"
      ],
      "text/markdown": [
       "2"
      ],
      "text/plain": [
       "[1] 2"
      ]
     },
     "metadata": {},
     "output_type": "display_data"
    }
   ],
   "source": [
    "min(y)"
   ]
  },
  {
   "cell_type": "code",
   "execution_count": 128,
   "id": "23b05a66",
   "metadata": {},
   "outputs": [
    {
     "data": {
      "text/html": [
       "64"
      ],
      "text/latex": [
       "64"
      ],
      "text/markdown": [
       "64"
      ],
      "text/plain": [
       "[1] 64"
      ]
     },
     "metadata": {},
     "output_type": "display_data"
    }
   ],
   "source": [
    "diff(range(x))"
   ]
  },
  {
   "cell_type": "code",
   "execution_count": 129,
   "id": "cd4df90a",
   "metadata": {},
   "outputs": [
    {
     "data": {
      "text/html": [
       "<style>\n",
       ".list-inline {list-style: none; margin:0; padding: 0}\n",
       ".list-inline>li {display: inline-block}\n",
       ".list-inline>li:not(:last-child)::after {content: \"\\00b7\"; padding: 0 .5ex}\n",
       "</style>\n",
       "<ol class=list-inline><li>34</li><li>98</li></ol>\n"
      ],
      "text/latex": [
       "\\begin{enumerate*}\n",
       "\\item 34\n",
       "\\item 98\n",
       "\\end{enumerate*}\n"
      ],
      "text/markdown": [
       "1. 34\n",
       "2. 98\n",
       "\n",
       "\n"
      ],
      "text/plain": [
       "[1] 34 98"
      ]
     },
     "metadata": {},
     "output_type": "display_data"
    }
   ],
   "source": [
    "range(x)"
   ]
  },
  {
   "cell_type": "code",
   "execution_count": 132,
   "id": "874d005c",
   "metadata": {},
   "outputs": [
    {
     "data": {
      "text/html": [
       "<style>\n",
       ".list-inline {list-style: none; margin:0; padding: 0}\n",
       ".list-inline>li {display: inline-block}\n",
       ".list-inline>li:not(:last-child)::after {content: \"\\00b7\"; padding: 0 .5ex}\n",
       "</style>\n",
       "<ol class=list-inline><li>49651</li><li>267277</li></ol>\n"
      ],
      "text/latex": [
       "\\begin{enumerate*}\n",
       "\\item 49651\n",
       "\\item 267277\n",
       "\\end{enumerate*}\n"
      ],
      "text/markdown": [
       "1. 49651\n",
       "2. 267277\n",
       "\n",
       "\n"
      ],
      "text/plain": [
       "[1]  49651 267277"
      ]
     },
     "metadata": {},
     "output_type": "display_data"
    }
   ],
   "source": [
    "range(x)"
   ]
  },
  {
   "cell_type": "code",
   "execution_count": 130,
   "id": "f6000615",
   "metadata": {},
   "outputs": [],
   "source": [
    "x = c(58182, 49651, 69903, 267277)"
   ]
  },
  {
   "cell_type": "code",
   "execution_count": 131,
   "id": "0cf1911a",
   "metadata": {},
   "outputs": [
    {
     "data": {
      "text/html": [
       "<style>\n",
       ".list-inline {list-style: none; margin:0; padding: 0}\n",
       ".list-inline>li {display: inline-block}\n",
       ".list-inline>li:not(:last-child)::after {content: \"\\00b7\"; padding: 0 .5ex}\n",
       "</style>\n",
       "<ol class=list-inline><li>58182</li><li>49651</li><li>69903</li><li>267277</li></ol>\n"
      ],
      "text/latex": [
       "\\begin{enumerate*}\n",
       "\\item 58182\n",
       "\\item 49651\n",
       "\\item 69903\n",
       "\\item 267277\n",
       "\\end{enumerate*}\n"
      ],
      "text/markdown": [
       "1. 58182\n",
       "2. 49651\n",
       "3. 69903\n",
       "4. 267277\n",
       "\n",
       "\n"
      ],
      "text/plain": [
       "[1]  58182  49651  69903 267277"
      ]
     },
     "metadata": {},
     "output_type": "display_data"
    }
   ],
   "source": [
    "x"
   ]
  },
  {
   "cell_type": "code",
   "execution_count": 133,
   "id": "b891a45b",
   "metadata": {},
   "outputs": [],
   "source": [
    "x = c(43, 40, 38, 37, 43, 39, 78, 38, 45, 44, 40, 38, 41, 35, 31, 44)"
   ]
  },
  {
   "cell_type": "code",
   "execution_count": 134,
   "id": "eeaeba08",
   "metadata": {},
   "outputs": [
    {
     "data": {
      "text/html": [
       "<style>\n",
       ".list-inline {list-style: none; margin:0; padding: 0}\n",
       ".list-inline>li {display: inline-block}\n",
       ".list-inline>li:not(:last-child)::after {content: \"\\00b7\"; padding: 0 .5ex}\n",
       "</style>\n",
       "<ol class=list-inline><li>43</li><li>40</li><li>38</li><li>37</li><li>43</li><li>39</li><li>78</li><li>38</li><li>45</li><li>44</li><li>40</li><li>38</li><li>41</li><li>35</li><li>31</li><li>44</li></ol>\n"
      ],
      "text/latex": [
       "\\begin{enumerate*}\n",
       "\\item 43\n",
       "\\item 40\n",
       "\\item 38\n",
       "\\item 37\n",
       "\\item 43\n",
       "\\item 39\n",
       "\\item 78\n",
       "\\item 38\n",
       "\\item 45\n",
       "\\item 44\n",
       "\\item 40\n",
       "\\item 38\n",
       "\\item 41\n",
       "\\item 35\n",
       "\\item 31\n",
       "\\item 44\n",
       "\\end{enumerate*}\n"
      ],
      "text/markdown": [
       "1. 43\n",
       "2. 40\n",
       "3. 38\n",
       "4. 37\n",
       "5. 43\n",
       "6. 39\n",
       "7. 78\n",
       "8. 38\n",
       "9. 45\n",
       "10. 44\n",
       "11. 40\n",
       "12. 38\n",
       "13. 41\n",
       "14. 35\n",
       "15. 31\n",
       "16. 44\n",
       "\n",
       "\n"
      ],
      "text/plain": [
       " [1] 43 40 38 37 43 39 78 38 45 44 40 38 41 35 31 44"
      ]
     },
     "metadata": {},
     "output_type": "display_data"
    }
   ],
   "source": [
    "x"
   ]
  },
  {
   "cell_type": "code",
   "execution_count": 135,
   "id": "8ba25151",
   "metadata": {},
   "outputs": [
    {
     "data": {
      "text/html": [
       "<style>\n",
       ".dl-inline {width: auto; margin:0; padding: 0}\n",
       ".dl-inline>dt, .dl-inline>dd {float: none; width: auto; display: inline-block}\n",
       ".dl-inline>dt::after {content: \":\\0020\"; padding-right: .5ex}\n",
       ".dl-inline>dt:not(:first-of-type) {padding-left: .5ex}\n",
       "</style><dl class=dl-inline><dt>10%</dt><dd>36</dd><dt>25%</dt><dd>38</dd><dt>50%</dt><dd>40</dd><dt>75%</dt><dd>43.25</dd><dt>90%</dt><dd>44.5</dd></dl>\n"
      ],
      "text/latex": [
       "\\begin{description*}\n",
       "\\item[10\\textbackslash{}\\%] 36\n",
       "\\item[25\\textbackslash{}\\%] 38\n",
       "\\item[50\\textbackslash{}\\%] 40\n",
       "\\item[75\\textbackslash{}\\%] 43.25\n",
       "\\item[90\\textbackslash{}\\%] 44.5\n",
       "\\end{description*}\n"
      ],
      "text/markdown": [
       "10%\n",
       ":   3625%\n",
       ":   3850%\n",
       ":   4075%\n",
       ":   43.2590%\n",
       ":   44.5\n",
       "\n"
      ],
      "text/plain": [
       "  10%   25%   50%   75%   90% \n",
       "36.00 38.00 40.00 43.25 44.50 "
      ]
     },
     "metadata": {},
     "output_type": "display_data"
    }
   ],
   "source": [
    "quantile(x, c(0.1, 0.25, 0.5, 0.75, 0.9))"
   ]
  },
  {
   "cell_type": "code",
   "execution_count": 136,
   "id": "77d5321d",
   "metadata": {},
   "outputs": [
    {
     "data": {
      "text/html": [
       "<style>\n",
       ".dl-inline {width: auto; margin:0; padding: 0}\n",
       ".dl-inline>dt, .dl-inline>dd {float: none; width: auto; display: inline-block}\n",
       ".dl-inline>dt::after {content: \":\\0020\"; padding-right: .5ex}\n",
       ".dl-inline>dt:not(:first-of-type) {padding-left: .5ex}\n",
       "</style><dl class=dl-inline><dt>0%</dt><dd>31</dd><dt>25%</dt><dd>38</dd><dt>50%</dt><dd>40</dd><dt>75%</dt><dd>43.25</dd><dt>100%</dt><dd>78</dd></dl>\n"
      ],
      "text/latex": [
       "\\begin{description*}\n",
       "\\item[0\\textbackslash{}\\%] 31\n",
       "\\item[25\\textbackslash{}\\%] 38\n",
       "\\item[50\\textbackslash{}\\%] 40\n",
       "\\item[75\\textbackslash{}\\%] 43.25\n",
       "\\item[100\\textbackslash{}\\%] 78\n",
       "\\end{description*}\n"
      ],
      "text/markdown": [
       "0%\n",
       ":   3125%\n",
       ":   3850%\n",
       ":   4075%\n",
       ":   43.25100%\n",
       ":   78\n",
       "\n"
      ],
      "text/plain": [
       "   0%   25%   50%   75%  100% \n",
       "31.00 38.00 40.00 43.25 78.00 "
      ]
     },
     "metadata": {},
     "output_type": "display_data"
    }
   ],
   "source": [
    "quantile(x)"
   ]
  },
  {
   "cell_type": "code",
   "execution_count": 137,
   "id": "68b0c76d",
   "metadata": {},
   "outputs": [
    {
     "data": {
      "text/html": [
       "5.25"
      ],
      "text/latex": [
       "5.25"
      ],
      "text/markdown": [
       "5.25"
      ],
      "text/plain": [
       "[1] 5.25"
      ]
     },
     "metadata": {},
     "output_type": "display_data"
    }
   ],
   "source": [
    "IQR(x)"
   ]
  },
  {
   "cell_type": "code",
   "execution_count": null,
   "id": "17d62ad4",
   "metadata": {},
   "outputs": [],
   "source": []
  }
 ],
 "metadata": {
  "kernelspec": {
   "display_name": "R",
   "language": "R",
   "name": "ir"
  },
  "language_info": {
   "codemirror_mode": "r",
   "file_extension": ".r",
   "mimetype": "text/x-r-source",
   "name": "R",
   "pygments_lexer": "r",
   "version": "4.3.1"
  }
 },
 "nbformat": 4,
 "nbformat_minor": 5
}
