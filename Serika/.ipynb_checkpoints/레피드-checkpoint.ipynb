{
 "cells": [
  {
   "cell_type": "code",
   "execution_count": 1,
   "id": "e38f99e4",
   "metadata": {},
   "outputs": [],
   "source": [
    "wt = mtcars$wt\n",
    "mpg = mtcars$mpg"
   ]
  },
  {
   "cell_type": "code",
   "execution_count": 2,
   "id": "c76809c9",
   "metadata": {},
   "outputs": [
    {
     "data": {
      "text/html": [
       "<style>\n",
       ".list-inline {list-style: none; margin:0; padding: 0}\n",
       ".list-inline>li {display: inline-block}\n",
       ".list-inline>li:not(:last-child)::after {content: \"\\00b7\"; padding: 0 .5ex}\n",
       "</style>\n",
       "<ol class=list-inline><li>2.62</li><li>2.875</li><li>2.32</li><li>3.215</li><li>3.44</li><li>3.46</li><li>3.57</li><li>3.19</li><li>3.15</li><li>3.44</li><li>3.44</li><li>4.07</li><li>3.73</li><li>3.78</li><li>5.25</li><li>5.424</li><li>5.345</li><li>2.2</li><li>1.615</li><li>1.835</li><li>2.465</li><li>3.52</li><li>3.435</li><li>3.84</li><li>3.845</li><li>1.935</li><li>2.14</li><li>1.513</li><li>3.17</li><li>2.77</li><li>3.57</li><li>2.78</li></ol>\n"
      ],
      "text/latex": [
       "\\begin{enumerate*}\n",
       "\\item 2.62\n",
       "\\item 2.875\n",
       "\\item 2.32\n",
       "\\item 3.215\n",
       "\\item 3.44\n",
       "\\item 3.46\n",
       "\\item 3.57\n",
       "\\item 3.19\n",
       "\\item 3.15\n",
       "\\item 3.44\n",
       "\\item 3.44\n",
       "\\item 4.07\n",
       "\\item 3.73\n",
       "\\item 3.78\n",
       "\\item 5.25\n",
       "\\item 5.424\n",
       "\\item 5.345\n",
       "\\item 2.2\n",
       "\\item 1.615\n",
       "\\item 1.835\n",
       "\\item 2.465\n",
       "\\item 3.52\n",
       "\\item 3.435\n",
       "\\item 3.84\n",
       "\\item 3.845\n",
       "\\item 1.935\n",
       "\\item 2.14\n",
       "\\item 1.513\n",
       "\\item 3.17\n",
       "\\item 2.77\n",
       "\\item 3.57\n",
       "\\item 2.78\n",
       "\\end{enumerate*}\n"
      ],
      "text/markdown": [
       "1. 2.62\n",
       "2. 2.875\n",
       "3. 2.32\n",
       "4. 3.215\n",
       "5. 3.44\n",
       "6. 3.46\n",
       "7. 3.57\n",
       "8. 3.19\n",
       "9. 3.15\n",
       "10. 3.44\n",
       "11. 3.44\n",
       "12. 4.07\n",
       "13. 3.73\n",
       "14. 3.78\n",
       "15. 5.25\n",
       "16. 5.424\n",
       "17. 5.345\n",
       "18. 2.2\n",
       "19. 1.615\n",
       "20. 1.835\n",
       "21. 2.465\n",
       "22. 3.52\n",
       "23. 3.435\n",
       "24. 3.84\n",
       "25. 3.845\n",
       "26. 1.935\n",
       "27. 2.14\n",
       "28. 1.513\n",
       "29. 3.17\n",
       "30. 2.77\n",
       "31. 3.57\n",
       "32. 2.78\n",
       "\n",
       "\n"
      ],
      "text/plain": [
       " [1] 2.620 2.875 2.320 3.215 3.440 3.460 3.570 3.190 3.150 3.440 3.440 4.070\n",
       "[13] 3.730 3.780 5.250 5.424 5.345 2.200 1.615 1.835 2.465 3.520 3.435 3.840\n",
       "[25] 3.845 1.935 2.140 1.513 3.170 2.770 3.570 2.780"
      ]
     },
     "metadata": {},
     "output_type": "display_data"
    },
    {
     "data": {
      "text/html": [
       "<style>\n",
       ".list-inline {list-style: none; margin:0; padding: 0}\n",
       ".list-inline>li {display: inline-block}\n",
       ".list-inline>li:not(:last-child)::after {content: \"\\00b7\"; padding: 0 .5ex}\n",
       "</style>\n",
       "<ol class=list-inline><li>21</li><li>21</li><li>22.8</li><li>21.4</li><li>18.7</li><li>18.1</li><li>14.3</li><li>24.4</li><li>22.8</li><li>19.2</li><li>17.8</li><li>16.4</li><li>17.3</li><li>15.2</li><li>10.4</li><li>10.4</li><li>14.7</li><li>32.4</li><li>30.4</li><li>33.9</li><li>21.5</li><li>15.5</li><li>15.2</li><li>13.3</li><li>19.2</li><li>27.3</li><li>26</li><li>30.4</li><li>15.8</li><li>19.7</li><li>15</li><li>21.4</li></ol>\n"
      ],
      "text/latex": [
       "\\begin{enumerate*}\n",
       "\\item 21\n",
       "\\item 21\n",
       "\\item 22.8\n",
       "\\item 21.4\n",
       "\\item 18.7\n",
       "\\item 18.1\n",
       "\\item 14.3\n",
       "\\item 24.4\n",
       "\\item 22.8\n",
       "\\item 19.2\n",
       "\\item 17.8\n",
       "\\item 16.4\n",
       "\\item 17.3\n",
       "\\item 15.2\n",
       "\\item 10.4\n",
       "\\item 10.4\n",
       "\\item 14.7\n",
       "\\item 32.4\n",
       "\\item 30.4\n",
       "\\item 33.9\n",
       "\\item 21.5\n",
       "\\item 15.5\n",
       "\\item 15.2\n",
       "\\item 13.3\n",
       "\\item 19.2\n",
       "\\item 27.3\n",
       "\\item 26\n",
       "\\item 30.4\n",
       "\\item 15.8\n",
       "\\item 19.7\n",
       "\\item 15\n",
       "\\item 21.4\n",
       "\\end{enumerate*}\n"
      ],
      "text/markdown": [
       "1. 21\n",
       "2. 21\n",
       "3. 22.8\n",
       "4. 21.4\n",
       "5. 18.7\n",
       "6. 18.1\n",
       "7. 14.3\n",
       "8. 24.4\n",
       "9. 22.8\n",
       "10. 19.2\n",
       "11. 17.8\n",
       "12. 16.4\n",
       "13. 17.3\n",
       "14. 15.2\n",
       "15. 10.4\n",
       "16. 10.4\n",
       "17. 14.7\n",
       "18. 32.4\n",
       "19. 30.4\n",
       "20. 33.9\n",
       "21. 21.5\n",
       "22. 15.5\n",
       "23. 15.2\n",
       "24. 13.3\n",
       "25. 19.2\n",
       "26. 27.3\n",
       "27. 26\n",
       "28. 30.4\n",
       "29. 15.8\n",
       "30. 19.7\n",
       "31. 15\n",
       "32. 21.4\n",
       "\n",
       "\n"
      ],
      "text/plain": [
       " [1] 21.0 21.0 22.8 21.4 18.7 18.1 14.3 24.4 22.8 19.2 17.8 16.4 17.3 15.2 10.4\n",
       "[16] 10.4 14.7 32.4 30.4 33.9 21.5 15.5 15.2 13.3 19.2 27.3 26.0 30.4 15.8 19.7\n",
       "[31] 15.0 21.4"
      ]
     },
     "metadata": {},
     "output_type": "display_data"
    }
   ],
   "source": [
    "wt\n",
    "mpg"
   ]
  },
  {
   "cell_type": "code",
   "execution_count": 11,
   "id": "1d217055",
   "metadata": {},
   "outputs": [
    {
     "data": {
      "image/png": "[encoded data removed]",
      "text/plain": [
       "Plot with title \"중량 - 연비 그래프\""
      ]
     },
     "metadata": {
      "image/png": {
       "height": 420,
       "width": 420
      }
     },
     "output_type": "display_data"
    }
   ],
   "source": [
    "plot(wt, mpg,\n",
    "    main = '중량 - 연비 그래프',\n",
    "    xlab = '중량',\n",
    "    ylab = '연비(MPG)',\n",
    "    col = 'red',\n",
    "    pch = 19)\n",
    "lm.res = lm(mpg~wt)\n",
    "abline(lm.res)"
   ]
  },
  {
   "cell_type": "code",
   "execution_count": 8,
   "id": "a151747b",
   "metadata": {},
   "outputs": [
    {
     "data": {
      "text/plain": [
       "\n",
       "Call:\n",
       "lm(formula = mpg ~ wt)\n",
       "\n",
       "Residuals:\n",
       "    Min      1Q  Median      3Q     Max \n",
       "-4.5432 -2.3647 -0.1252  1.4096  6.8727 \n",
       "\n",
       "Coefficients:\n",
       "            Estimate Std. Error t value Pr(>|t|)    \n",
       "(Intercept)  37.2851     1.8776  19.858  < 2e-16 ***\n",
       "wt           -5.3445     0.5591  -9.559 1.29e-10 ***\n",
       "---\n",
       "Signif. codes:  0 '***' 0.001 '**' 0.01 '*' 0.05 '.' 0.1 ' ' 1\n",
       "\n",
       "Residual standard error: 3.046 on 30 degrees of freedom\n",
       "Multiple R-squared:  0.7528,\tAdjusted R-squared:  0.7446 \n",
       "F-statistic: 91.38 on 1 and 30 DF,  p-value: 1.294e-10\n"
      ]
     },
     "metadata": {},
     "output_type": "display_data"
    }
   ],
   "source": [
    "summary(lm.res)"
   ]
  },
  {
   "cell_type": "code",
   "execution_count": 9,
   "id": "92adee9b",
   "metadata": {},
   "outputs": [
    {
     "data": {
      "text/html": [
       "<strong>1:</strong> 21.251711449174"
      ],
      "text/latex": [
       "\\textbf{1:} 21.251711449174"
      ],
      "text/markdown": [
       "**1:** 21.251711449174"
      ],
      "text/plain": [
       "       1 \n",
       "21.25171 "
      ]
     },
     "metadata": {},
     "output_type": "display_data"
    }
   ],
   "source": [
    "predict(lm.res, newdata = data.frame(wt = 3))"
   ]
  },
  {
   "cell_type": "code",
   "execution_count": 10,
   "id": "ad132f44",
   "metadata": {},
   "outputs": [
    {
     "data": {
      "text/html": [
       "21.2516"
      ],
      "text/latex": [
       "21.2516"
      ],
      "text/markdown": [
       "21.2516"
      ],
      "text/plain": [
       "[1] 21.2516"
      ]
     },
     "metadata": {},
     "output_type": "display_data"
    }
   ],
   "source": [
    "37.2851 + -5.3445 * 3"
   ]
  },
  {
   "cell_type": "code",
   "execution_count": 12,
   "id": "97780093",
   "metadata": {},
   "outputs": [],
   "source": [
    "vars = c('mpg','disp','drat','wt')"
   ]
  },
  {
   "cell_type": "code",
   "execution_count": 13,
   "id": "1c9239e8",
   "metadata": {},
   "outputs": [],
   "source": [
    "target = mtcars[, vars]"
   ]
  },
  {
   "cell_type": "code",
   "execution_count": 14,
   "id": "aa71eb40",
   "metadata": {},
   "outputs": [
    {
     "data": {
      "text/html": [
       "<table class=\"dataframe\">\n",
       "<caption>A data.frame: 32 × 4</caption>\n",
       "<thead>\n",
       "\t<tr><th></th><th scope=col>mpg</th><th scope=col>disp</th><th scope=col>drat</th><th scope=col>wt</th></tr>\n",
       "\t<tr><th></th><th scope=col>&lt;dbl&gt;</th><th scope=col>&lt;dbl&gt;</th><th scope=col>&lt;dbl&gt;</th><th scope=col>&lt;dbl&gt;</th></tr>\n",
       "</thead>\n",
       "<tbody>\n",
       "\t<tr><th scope=row>Mazda RX4</th><td>21.0</td><td>160.0</td><td>3.90</td><td>2.620</td></tr>\n",
       "\t<tr><th scope=row>Mazda RX4 Wag</th><td>21.0</td><td>160.0</td><td>3.90</td><td>2.875</td></tr>\n",
       "\t<tr><th scope=row>Datsun 710</th><td>22.8</td><td>108.0</td><td>3.85</td><td>2.320</td></tr>\n",
       "\t<tr><th scope=row>Hornet 4 Drive</th><td>21.4</td><td>258.0</td><td>3.08</td><td>3.215</td></tr>\n",
       "\t<tr><th scope=row>Hornet Sportabout</th><td>18.7</td><td>360.0</td><td>3.15</td><td>3.440</td></tr>\n",
       "\t<tr><th scope=row>Valiant</th><td>18.1</td><td>225.0</td><td>2.76</td><td>3.460</td></tr>\n",
       "\t<tr><th scope=row>Duster 360</th><td>14.3</td><td>360.0</td><td>3.21</td><td>3.570</td></tr>\n",
       "\t<tr><th scope=row>Merc 240D</th><td>24.4</td><td>146.7</td><td>3.69</td><td>3.190</td></tr>\n",
       "\t<tr><th scope=row>Merc 230</th><td>22.8</td><td>140.8</td><td>3.92</td><td>3.150</td></tr>\n",
       "\t<tr><th scope=row>Merc 280</th><td>19.2</td><td>167.6</td><td>3.92</td><td>3.440</td></tr>\n",
       "\t<tr><th scope=row>Merc 280C</th><td>17.8</td><td>167.6</td><td>3.92</td><td>3.440</td></tr>\n",
       "\t<tr><th scope=row>Merc 450SE</th><td>16.4</td><td>275.8</td><td>3.07</td><td>4.070</td></tr>\n",
       "\t<tr><th scope=row>Merc 450SL</th><td>17.3</td><td>275.8</td><td>3.07</td><td>3.730</td></tr>\n",
       "\t<tr><th scope=row>Merc 450SLC</th><td>15.2</td><td>275.8</td><td>3.07</td><td>3.780</td></tr>\n",
       "\t<tr><th scope=row>Cadillac Fleetwood</th><td>10.4</td><td>472.0</td><td>2.93</td><td>5.250</td></tr>\n",
       "\t<tr><th scope=row>Lincoln Continental</th><td>10.4</td><td>460.0</td><td>3.00</td><td>5.424</td></tr>\n",
       "\t<tr><th scope=row>Chrysler Imperial</th><td>14.7</td><td>440.0</td><td>3.23</td><td>5.345</td></tr>\n",
       "\t<tr><th scope=row>Fiat 128</th><td>32.4</td><td> 78.7</td><td>4.08</td><td>2.200</td></tr>\n",
       "\t<tr><th scope=row>Honda Civic</th><td>30.4</td><td> 75.7</td><td>4.93</td><td>1.615</td></tr>\n",
       "\t<tr><th scope=row>Toyota Corolla</th><td>33.9</td><td> 71.1</td><td>4.22</td><td>1.835</td></tr>\n",
       "\t<tr><th scope=row>Toyota Corona</th><td>21.5</td><td>120.1</td><td>3.70</td><td>2.465</td></tr>\n",
       "\t<tr><th scope=row>Dodge Challenger</th><td>15.5</td><td>318.0</td><td>2.76</td><td>3.520</td></tr>\n",
       "\t<tr><th scope=row>AMC Javelin</th><td>15.2</td><td>304.0</td><td>3.15</td><td>3.435</td></tr>\n",
       "\t<tr><th scope=row>Camaro Z28</th><td>13.3</td><td>350.0</td><td>3.73</td><td>3.840</td></tr>\n",
       "\t<tr><th scope=row>Pontiac Firebird</th><td>19.2</td><td>400.0</td><td>3.08</td><td>3.845</td></tr>\n",
       "\t<tr><th scope=row>Fiat X1-9</th><td>27.3</td><td> 79.0</td><td>4.08</td><td>1.935</td></tr>\n",
       "\t<tr><th scope=row>Porsche 914-2</th><td>26.0</td><td>120.3</td><td>4.43</td><td>2.140</td></tr>\n",
       "\t<tr><th scope=row>Lotus Europa</th><td>30.4</td><td> 95.1</td><td>3.77</td><td>1.513</td></tr>\n",
       "\t<tr><th scope=row>Ford Pantera L</th><td>15.8</td><td>351.0</td><td>4.22</td><td>3.170</td></tr>\n",
       "\t<tr><th scope=row>Ferrari Dino</th><td>19.7</td><td>145.0</td><td>3.62</td><td>2.770</td></tr>\n",
       "\t<tr><th scope=row>Maserati Bora</th><td>15.0</td><td>301.0</td><td>3.54</td><td>3.570</td></tr>\n",
       "\t<tr><th scope=row>Volvo 142E</th><td>21.4</td><td>121.0</td><td>4.11</td><td>2.780</td></tr>\n",
       "</tbody>\n",
       "</table>\n"
      ],
      "text/latex": [
       "A data.frame: 32 × 4\n",
       "\\begin{tabular}{r|llll}\n",
       "  & mpg & disp & drat & wt\\\\\n",
       "  & <dbl> & <dbl> & <dbl> & <dbl>\\\\\n",
       "\\hline\n",
       "\tMazda RX4 & 21.0 & 160.0 & 3.90 & 2.620\\\\\n",
       "\tMazda RX4 Wag & 21.0 & 160.0 & 3.90 & 2.875\\\\\n",
       "\tDatsun 710 & 22.8 & 108.0 & 3.85 & 2.320\\\\\n",
       "\tHornet 4 Drive & 21.4 & 258.0 & 3.08 & 3.215\\\\\n",
       "\tHornet Sportabout & 18.7 & 360.0 & 3.15 & 3.440\\\\\n",
       "\tValiant & 18.1 & 225.0 & 2.76 & 3.460\\\\\n",
       "\tDuster 360 & 14.3 & 360.0 & 3.21 & 3.570\\\\\n",
       "\tMerc 240D & 24.4 & 146.7 & 3.69 & 3.190\\\\\n",
       "\tMerc 230 & 22.8 & 140.8 & 3.92 & 3.150\\\\\n",
       "\tMerc 280 & 19.2 & 167.6 & 3.92 & 3.440\\\\\n",
       "\tMerc 280C & 17.8 & 167.6 & 3.92 & 3.440\\\\\n",
       "\tMerc 450SE & 16.4 & 275.8 & 3.07 & 4.070\\\\\n",
       "\tMerc 450SL & 17.3 & 275.8 & 3.07 & 3.730\\\\\n",
       "\tMerc 450SLC & 15.2 & 275.8 & 3.07 & 3.780\\\\\n",
       "\tCadillac Fleetwood & 10.4 & 472.0 & 2.93 & 5.250\\\\\n",
       "\tLincoln Continental & 10.4 & 460.0 & 3.00 & 5.424\\\\\n",
       "\tChrysler Imperial & 14.7 & 440.0 & 3.23 & 5.345\\\\\n",
       "\tFiat 128 & 32.4 &  78.7 & 4.08 & 2.200\\\\\n",
       "\tHonda Civic & 30.4 &  75.7 & 4.93 & 1.615\\\\\n",
       "\tToyota Corolla & 33.9 &  71.1 & 4.22 & 1.835\\\\\n",
       "\tToyota Corona & 21.5 & 120.1 & 3.70 & 2.465\\\\\n",
       "\tDodge Challenger & 15.5 & 318.0 & 2.76 & 3.520\\\\\n",
       "\tAMC Javelin & 15.2 & 304.0 & 3.15 & 3.435\\\\\n",
       "\tCamaro Z28 & 13.3 & 350.0 & 3.73 & 3.840\\\\\n",
       "\tPontiac Firebird & 19.2 & 400.0 & 3.08 & 3.845\\\\\n",
       "\tFiat X1-9 & 27.3 &  79.0 & 4.08 & 1.935\\\\\n",
       "\tPorsche 914-2 & 26.0 & 120.3 & 4.43 & 2.140\\\\\n",
       "\tLotus Europa & 30.4 &  95.1 & 3.77 & 1.513\\\\\n",
       "\tFord Pantera L & 15.8 & 351.0 & 4.22 & 3.170\\\\\n",
       "\tFerrari Dino & 19.7 & 145.0 & 3.62 & 2.770\\\\\n",
       "\tMaserati Bora & 15.0 & 301.0 & 3.54 & 3.570\\\\\n",
       "\tVolvo 142E & 21.4 & 121.0 & 4.11 & 2.780\\\\\n",
       "\\end{tabular}\n"
      ],
      "text/markdown": [
       "\n",
       "A data.frame: 32 × 4\n",
       "\n",
       "| <!--/--> | mpg &lt;dbl&gt; | disp &lt;dbl&gt; | drat &lt;dbl&gt; | wt &lt;dbl&gt; |\n",
       "|---|---|---|---|---|\n",
       "| Mazda RX4 | 21.0 | 160.0 | 3.90 | 2.620 |\n",
       "| Mazda RX4 Wag | 21.0 | 160.0 | 3.90 | 2.875 |\n",
       "| Datsun 710 | 22.8 | 108.0 | 3.85 | 2.320 |\n",
       "| Hornet 4 Drive | 21.4 | 258.0 | 3.08 | 3.215 |\n",
       "| Hornet Sportabout | 18.7 | 360.0 | 3.15 | 3.440 |\n",
       "| Valiant | 18.1 | 225.0 | 2.76 | 3.460 |\n",
       "| Duster 360 | 14.3 | 360.0 | 3.21 | 3.570 |\n",
       "| Merc 240D | 24.4 | 146.7 | 3.69 | 3.190 |\n",
       "| Merc 230 | 22.8 | 140.8 | 3.92 | 3.150 |\n",
       "| Merc 280 | 19.2 | 167.6 | 3.92 | 3.440 |\n",
       "| Merc 280C | 17.8 | 167.6 | 3.92 | 3.440 |\n",
       "| Merc 450SE | 16.4 | 275.8 | 3.07 | 4.070 |\n",
       "| Merc 450SL | 17.3 | 275.8 | 3.07 | 3.730 |\n",
       "| Merc 450SLC | 15.2 | 275.8 | 3.07 | 3.780 |\n",
       "| Cadillac Fleetwood | 10.4 | 472.0 | 2.93 | 5.250 |\n",
       "| Lincoln Continental | 10.4 | 460.0 | 3.00 | 5.424 |\n",
       "| Chrysler Imperial | 14.7 | 440.0 | 3.23 | 5.345 |\n",
       "| Fiat 128 | 32.4 |  78.7 | 4.08 | 2.200 |\n",
       "| Honda Civic | 30.4 |  75.7 | 4.93 | 1.615 |\n",
       "| Toyota Corolla | 33.9 |  71.1 | 4.22 | 1.835 |\n",
       "| Toyota Corona | 21.5 | 120.1 | 3.70 | 2.465 |\n",
       "| Dodge Challenger | 15.5 | 318.0 | 2.76 | 3.520 |\n",
       "| AMC Javelin | 15.2 | 304.0 | 3.15 | 3.435 |\n",
       "| Camaro Z28 | 13.3 | 350.0 | 3.73 | 3.840 |\n",
       "| Pontiac Firebird | 19.2 | 400.0 | 3.08 | 3.845 |\n",
       "| Fiat X1-9 | 27.3 |  79.0 | 4.08 | 1.935 |\n",
       "| Porsche 914-2 | 26.0 | 120.3 | 4.43 | 2.140 |\n",
       "| Lotus Europa | 30.4 |  95.1 | 3.77 | 1.513 |\n",
       "| Ford Pantera L | 15.8 | 351.0 | 4.22 | 3.170 |\n",
       "| Ferrari Dino | 19.7 | 145.0 | 3.62 | 2.770 |\n",
       "| Maserati Bora | 15.0 | 301.0 | 3.54 | 3.570 |\n",
       "| Volvo 142E | 21.4 | 121.0 | 4.11 | 2.780 |\n",
       "\n"
      ],
      "text/plain": [
       "                    mpg  disp  drat wt   \n",
       "Mazda RX4           21.0 160.0 3.90 2.620\n",
       "Mazda RX4 Wag       21.0 160.0 3.90 2.875\n",
       "Datsun 710          22.8 108.0 3.85 2.320\n",
       "Hornet 4 Drive      21.4 258.0 3.08 3.215\n",
       "Hornet Sportabout   18.7 360.0 3.15 3.440\n",
       "Valiant             18.1 225.0 2.76 3.460\n",
       "Duster 360          14.3 360.0 3.21 3.570\n",
       "Merc 240D           24.4 146.7 3.69 3.190\n",
       "Merc 230            22.8 140.8 3.92 3.150\n",
       "Merc 280            19.2 167.6 3.92 3.440\n",
       "Merc 280C           17.8 167.6 3.92 3.440\n",
       "Merc 450SE          16.4 275.8 3.07 4.070\n",
       "Merc 450SL          17.3 275.8 3.07 3.730\n",
       "Merc 450SLC         15.2 275.8 3.07 3.780\n",
       "Cadillac Fleetwood  10.4 472.0 2.93 5.250\n",
       "Lincoln Continental 10.4 460.0 3.00 5.424\n",
       "Chrysler Imperial   14.7 440.0 3.23 5.345\n",
       "Fiat 128            32.4  78.7 4.08 2.200\n",
       "Honda Civic         30.4  75.7 4.93 1.615\n",
       "Toyota Corolla      33.9  71.1 4.22 1.835\n",
       "Toyota Corona       21.5 120.1 3.70 2.465\n",
       "Dodge Challenger    15.5 318.0 2.76 3.520\n",
       "AMC Javelin         15.2 304.0 3.15 3.435\n",
       "Camaro Z28          13.3 350.0 3.73 3.840\n",
       "Pontiac Firebird    19.2 400.0 3.08 3.845\n",
       "Fiat X1-9           27.3  79.0 4.08 1.935\n",
       "Porsche 914-2       26.0 120.3 4.43 2.140\n",
       "Lotus Europa        30.4  95.1 3.77 1.513\n",
       "Ford Pantera L      15.8 351.0 4.22 3.170\n",
       "Ferrari Dino        19.7 145.0 3.62 2.770\n",
       "Maserati Bora       15.0 301.0 3.54 3.570\n",
       "Volvo 142E          21.4 121.0 4.11 2.780"
      ]
     },
     "metadata": {},
     "output_type": "display_data"
    }
   ],
   "source": [
    "target"
   ]
  },
  {
   "cell_type": "code",
   "execution_count": 16,
   "id": "71d0e825",
   "metadata": {},
   "outputs": [
    {
     "data": {
      "image/png": "[encoded data removed]",
      "text/plain": [
       "plot without title"
      ]
     },
     "metadata": {
      "image/png": {
       "height": 420,
       "width": 420
      }
     },
     "output_type": "display_data"
    }
   ],
   "source": [
    "pairs(target,\n",
    "     main = 'Multi Plots')"
   ]
  },
  {
   "cell_type": "code",
   "execution_count": 17,
   "id": "8faab2a6",
   "metadata": {},
   "outputs": [],
   "source": [
    "iris.2 = iris[, 3:4]"
   ]
  },
  {
   "cell_type": "code",
   "execution_count": 18,
   "id": "de8b9254",
   "metadata": {},
   "outputs": [
    {
     "data": {
      "text/html": [
       "<table class=\"dataframe\">\n",
       "<caption>A data.frame: 150 × 2</caption>\n",
       "<thead>\n",
       "\t<tr><th scope=col>Petal.Length</th><th scope=col>Petal.Width</th></tr>\n",
       "\t<tr><th scope=col>&lt;dbl&gt;</th><th scope=col>&lt;dbl&gt;</th></tr>\n",
       "</thead>\n",
       "<tbody>\n",
       "\t<tr><td>1.4</td><td>0.2</td></tr>\n",
       "\t<tr><td>1.4</td><td>0.2</td></tr>\n",
       "\t<tr><td>1.3</td><td>0.2</td></tr>\n",
       "\t<tr><td>1.5</td><td>0.2</td></tr>\n",
       "\t<tr><td>1.4</td><td>0.2</td></tr>\n",
       "\t<tr><td>1.7</td><td>0.4</td></tr>\n",
       "\t<tr><td>1.4</td><td>0.3</td></tr>\n",
       "\t<tr><td>1.5</td><td>0.2</td></tr>\n",
       "\t<tr><td>1.4</td><td>0.2</td></tr>\n",
       "\t<tr><td>1.5</td><td>0.1</td></tr>\n",
       "\t<tr><td>1.5</td><td>0.2</td></tr>\n",
       "\t<tr><td>1.6</td><td>0.2</td></tr>\n",
       "\t<tr><td>1.4</td><td>0.1</td></tr>\n",
       "\t<tr><td>1.1</td><td>0.1</td></tr>\n",
       "\t<tr><td>1.2</td><td>0.2</td></tr>\n",
       "\t<tr><td>1.5</td><td>0.4</td></tr>\n",
       "\t<tr><td>1.3</td><td>0.4</td></tr>\n",
       "\t<tr><td>1.4</td><td>0.3</td></tr>\n",
       "\t<tr><td>1.7</td><td>0.3</td></tr>\n",
       "\t<tr><td>1.5</td><td>0.3</td></tr>\n",
       "\t<tr><td>1.7</td><td>0.2</td></tr>\n",
       "\t<tr><td>1.5</td><td>0.4</td></tr>\n",
       "\t<tr><td>1.0</td><td>0.2</td></tr>\n",
       "\t<tr><td>1.7</td><td>0.5</td></tr>\n",
       "\t<tr><td>1.9</td><td>0.2</td></tr>\n",
       "\t<tr><td>1.6</td><td>0.2</td></tr>\n",
       "\t<tr><td>1.6</td><td>0.4</td></tr>\n",
       "\t<tr><td>1.5</td><td>0.2</td></tr>\n",
       "\t<tr><td>1.4</td><td>0.2</td></tr>\n",
       "\t<tr><td>1.6</td><td>0.2</td></tr>\n",
       "\t<tr><td>⋮</td><td>⋮</td></tr>\n",
       "\t<tr><td>5.7</td><td>2.3</td></tr>\n",
       "\t<tr><td>4.9</td><td>2.0</td></tr>\n",
       "\t<tr><td>6.7</td><td>2.0</td></tr>\n",
       "\t<tr><td>4.9</td><td>1.8</td></tr>\n",
       "\t<tr><td>5.7</td><td>2.1</td></tr>\n",
       "\t<tr><td>6.0</td><td>1.8</td></tr>\n",
       "\t<tr><td>4.8</td><td>1.8</td></tr>\n",
       "\t<tr><td>4.9</td><td>1.8</td></tr>\n",
       "\t<tr><td>5.6</td><td>2.1</td></tr>\n",
       "\t<tr><td>5.8</td><td>1.6</td></tr>\n",
       "\t<tr><td>6.1</td><td>1.9</td></tr>\n",
       "\t<tr><td>6.4</td><td>2.0</td></tr>\n",
       "\t<tr><td>5.6</td><td>2.2</td></tr>\n",
       "\t<tr><td>5.1</td><td>1.5</td></tr>\n",
       "\t<tr><td>5.6</td><td>1.4</td></tr>\n",
       "\t<tr><td>6.1</td><td>2.3</td></tr>\n",
       "\t<tr><td>5.6</td><td>2.4</td></tr>\n",
       "\t<tr><td>5.5</td><td>1.8</td></tr>\n",
       "\t<tr><td>4.8</td><td>1.8</td></tr>\n",
       "\t<tr><td>5.4</td><td>2.1</td></tr>\n",
       "\t<tr><td>5.6</td><td>2.4</td></tr>\n",
       "\t<tr><td>5.1</td><td>2.3</td></tr>\n",
       "\t<tr><td>5.1</td><td>1.9</td></tr>\n",
       "\t<tr><td>5.9</td><td>2.3</td></tr>\n",
       "\t<tr><td>5.7</td><td>2.5</td></tr>\n",
       "\t<tr><td>5.2</td><td>2.3</td></tr>\n",
       "\t<tr><td>5.0</td><td>1.9</td></tr>\n",
       "\t<tr><td>5.2</td><td>2.0</td></tr>\n",
       "\t<tr><td>5.4</td><td>2.3</td></tr>\n",
       "\t<tr><td>5.1</td><td>1.8</td></tr>\n",
       "</tbody>\n",
       "</table>\n"
      ],
      "text/latex": [
       "A data.frame: 150 × 2\n",
       "\\begin{tabular}{ll}\n",
       " Petal.Length & Petal.Width\\\\\n",
       " <dbl> & <dbl>\\\\\n",
       "\\hline\n",
       "\t 1.4 & 0.2\\\\\n",
       "\t 1.4 & 0.2\\\\\n",
       "\t 1.3 & 0.2\\\\\n",
       "\t 1.5 & 0.2\\\\\n",
       "\t 1.4 & 0.2\\\\\n",
       "\t 1.7 & 0.4\\\\\n",
       "\t 1.4 & 0.3\\\\\n",
       "\t 1.5 & 0.2\\\\\n",
       "\t 1.4 & 0.2\\\\\n",
       "\t 1.5 & 0.1\\\\\n",
       "\t 1.5 & 0.2\\\\\n",
       "\t 1.6 & 0.2\\\\\n",
       "\t 1.4 & 0.1\\\\\n",
       "\t 1.1 & 0.1\\\\\n",
       "\t 1.2 & 0.2\\\\\n",
       "\t 1.5 & 0.4\\\\\n",
       "\t 1.3 & 0.4\\\\\n",
       "\t 1.4 & 0.3\\\\\n",
       "\t 1.7 & 0.3\\\\\n",
       "\t 1.5 & 0.3\\\\\n",
       "\t 1.7 & 0.2\\\\\n",
       "\t 1.5 & 0.4\\\\\n",
       "\t 1.0 & 0.2\\\\\n",
       "\t 1.7 & 0.5\\\\\n",
       "\t 1.9 & 0.2\\\\\n",
       "\t 1.6 & 0.2\\\\\n",
       "\t 1.6 & 0.4\\\\\n",
       "\t 1.5 & 0.2\\\\\n",
       "\t 1.4 & 0.2\\\\\n",
       "\t 1.6 & 0.2\\\\\n",
       "\t ⋮ & ⋮\\\\\n",
       "\t 5.7 & 2.3\\\\\n",
       "\t 4.9 & 2.0\\\\\n",
       "\t 6.7 & 2.0\\\\\n",
       "\t 4.9 & 1.8\\\\\n",
       "\t 5.7 & 2.1\\\\\n",
       "\t 6.0 & 1.8\\\\\n",
       "\t 4.8 & 1.8\\\\\n",
       "\t 4.9 & 1.8\\\\\n",
       "\t 5.6 & 2.1\\\\\n",
       "\t 5.8 & 1.6\\\\\n",
       "\t 6.1 & 1.9\\\\\n",
       "\t 6.4 & 2.0\\\\\n",
       "\t 5.6 & 2.2\\\\\n",
       "\t 5.1 & 1.5\\\\\n",
       "\t 5.6 & 1.4\\\\\n",
       "\t 6.1 & 2.3\\\\\n",
       "\t 5.6 & 2.4\\\\\n",
       "\t 5.5 & 1.8\\\\\n",
       "\t 4.8 & 1.8\\\\\n",
       "\t 5.4 & 2.1\\\\\n",
       "\t 5.6 & 2.4\\\\\n",
       "\t 5.1 & 2.3\\\\\n",
       "\t 5.1 & 1.9\\\\\n",
       "\t 5.9 & 2.3\\\\\n",
       "\t 5.7 & 2.5\\\\\n",
       "\t 5.2 & 2.3\\\\\n",
       "\t 5.0 & 1.9\\\\\n",
       "\t 5.2 & 2.0\\\\\n",
       "\t 5.4 & 2.3\\\\\n",
       "\t 5.1 & 1.8\\\\\n",
       "\\end{tabular}\n"
      ],
      "text/markdown": [
       "\n",
       "A data.frame: 150 × 2\n",
       "\n",
       "| Petal.Length &lt;dbl&gt; | Petal.Width &lt;dbl&gt; |\n",
       "|---|---|\n",
       "| 1.4 | 0.2 |\n",
       "| 1.4 | 0.2 |\n",
       "| 1.3 | 0.2 |\n",
       "| 1.5 | 0.2 |\n",
       "| 1.4 | 0.2 |\n",
       "| 1.7 | 0.4 |\n",
       "| 1.4 | 0.3 |\n",
       "| 1.5 | 0.2 |\n",
       "| 1.4 | 0.2 |\n",
       "| 1.5 | 0.1 |\n",
       "| 1.5 | 0.2 |\n",
       "| 1.6 | 0.2 |\n",
       "| 1.4 | 0.1 |\n",
       "| 1.1 | 0.1 |\n",
       "| 1.2 | 0.2 |\n",
       "| 1.5 | 0.4 |\n",
       "| 1.3 | 0.4 |\n",
       "| 1.4 | 0.3 |\n",
       "| 1.7 | 0.3 |\n",
       "| 1.5 | 0.3 |\n",
       "| 1.7 | 0.2 |\n",
       "| 1.5 | 0.4 |\n",
       "| 1.0 | 0.2 |\n",
       "| 1.7 | 0.5 |\n",
       "| 1.9 | 0.2 |\n",
       "| 1.6 | 0.2 |\n",
       "| 1.6 | 0.4 |\n",
       "| 1.5 | 0.2 |\n",
       "| 1.4 | 0.2 |\n",
       "| 1.6 | 0.2 |\n",
       "| ⋮ | ⋮ |\n",
       "| 5.7 | 2.3 |\n",
       "| 4.9 | 2.0 |\n",
       "| 6.7 | 2.0 |\n",
       "| 4.9 | 1.8 |\n",
       "| 5.7 | 2.1 |\n",
       "| 6.0 | 1.8 |\n",
       "| 4.8 | 1.8 |\n",
       "| 4.9 | 1.8 |\n",
       "| 5.6 | 2.1 |\n",
       "| 5.8 | 1.6 |\n",
       "| 6.1 | 1.9 |\n",
       "| 6.4 | 2.0 |\n",
       "| 5.6 | 2.2 |\n",
       "| 5.1 | 1.5 |\n",
       "| 5.6 | 1.4 |\n",
       "| 6.1 | 2.3 |\n",
       "| 5.6 | 2.4 |\n",
       "| 5.5 | 1.8 |\n",
       "| 4.8 | 1.8 |\n",
       "| 5.4 | 2.1 |\n",
       "| 5.6 | 2.4 |\n",
       "| 5.1 | 2.3 |\n",
       "| 5.1 | 1.9 |\n",
       "| 5.9 | 2.3 |\n",
       "| 5.7 | 2.5 |\n",
       "| 5.2 | 2.3 |\n",
       "| 5.0 | 1.9 |\n",
       "| 5.2 | 2.0 |\n",
       "| 5.4 | 2.3 |\n",
       "| 5.1 | 1.8 |\n",
       "\n"
      ],
      "text/plain": [
       "    Petal.Length Petal.Width\n",
       "1   1.4          0.2        \n",
       "2   1.4          0.2        \n",
       "3   1.3          0.2        \n",
       "4   1.5          0.2        \n",
       "5   1.4          0.2        \n",
       "6   1.7          0.4        \n",
       "7   1.4          0.3        \n",
       "8   1.5          0.2        \n",
       "9   1.4          0.2        \n",
       "10  1.5          0.1        \n",
       "11  1.5          0.2        \n",
       "12  1.6          0.2        \n",
       "13  1.4          0.1        \n",
       "14  1.1          0.1        \n",
       "15  1.2          0.2        \n",
       "16  1.5          0.4        \n",
       "17  1.3          0.4        \n",
       "18  1.4          0.3        \n",
       "19  1.7          0.3        \n",
       "20  1.5          0.3        \n",
       "21  1.7          0.2        \n",
       "22  1.5          0.4        \n",
       "23  1.0          0.2        \n",
       "24  1.7          0.5        \n",
       "25  1.9          0.2        \n",
       "26  1.6          0.2        \n",
       "27  1.6          0.4        \n",
       "28  1.5          0.2        \n",
       "29  1.4          0.2        \n",
       "30  1.6          0.2        \n",
       "⋮   ⋮            ⋮          \n",
       "121 5.7          2.3        \n",
       "122 4.9          2.0        \n",
       "123 6.7          2.0        \n",
       "124 4.9          1.8        \n",
       "125 5.7          2.1        \n",
       "126 6.0          1.8        \n",
       "127 4.8          1.8        \n",
       "128 4.9          1.8        \n",
       "129 5.6          2.1        \n",
       "130 5.8          1.6        \n",
       "131 6.1          1.9        \n",
       "132 6.4          2.0        \n",
       "133 5.6          2.2        \n",
       "134 5.1          1.5        \n",
       "135 5.6          1.4        \n",
       "136 6.1          2.3        \n",
       "137 5.6          2.4        \n",
       "138 5.5          1.8        \n",
       "139 4.8          1.8        \n",
       "140 5.4          2.1        \n",
       "141 5.6          2.4        \n",
       "142 5.1          2.3        \n",
       "143 5.1          1.9        \n",
       "144 5.9          2.3        \n",
       "145 5.7          2.5        \n",
       "146 5.2          2.3        \n",
       "147 5.0          1.9        \n",
       "148 5.2          2.0        \n",
       "149 5.4          2.3        \n",
       "150 5.1          1.8        "
      ]
     },
     "metadata": {},
     "output_type": "display_data"
    }
   ],
   "source": [
    "iris.2"
   ]
  },
  {
   "cell_type": "code",
   "execution_count": 19,
   "id": "2fcc7899",
   "metadata": {},
   "outputs": [],
   "source": [
    "point = as.numeric(iris$Species)"
   ]
  },
  {
   "cell_type": "code",
   "execution_count": 20,
   "id": "d1e1c752",
   "metadata": {},
   "outputs": [
    {
     "data": {
      "text/html": [
       "<style>\n",
       ".list-inline {list-style: none; margin:0; padding: 0}\n",
       ".list-inline>li {display: inline-block}\n",
       ".list-inline>li:not(:last-child)::after {content: \"\\00b7\"; padding: 0 .5ex}\n",
       "</style>\n",
       "<ol class=list-inline><li>1</li><li>1</li><li>1</li><li>1</li><li>1</li><li>1</li><li>1</li><li>1</li><li>1</li><li>1</li><li>1</li><li>1</li><li>1</li><li>1</li><li>1</li><li>1</li><li>1</li><li>1</li><li>1</li><li>1</li><li>1</li><li>1</li><li>1</li><li>1</li><li>1</li><li>1</li><li>1</li><li>1</li><li>1</li><li>1</li><li>1</li><li>1</li><li>1</li><li>1</li><li>1</li><li>1</li><li>1</li><li>1</li><li>1</li><li>1</li><li>1</li><li>1</li><li>1</li><li>1</li><li>1</li><li>1</li><li>1</li><li>1</li><li>1</li><li>1</li><li>2</li><li>2</li><li>2</li><li>2</li><li>2</li><li>2</li><li>2</li><li>2</li><li>2</li><li>2</li><li>2</li><li>2</li><li>2</li><li>2</li><li>2</li><li>2</li><li>2</li><li>2</li><li>2</li><li>2</li><li>2</li><li>2</li><li>2</li><li>2</li><li>2</li><li>2</li><li>2</li><li>2</li><li>2</li><li>2</li><li>2</li><li>2</li><li>2</li><li>2</li><li>2</li><li>2</li><li>2</li><li>2</li><li>2</li><li>2</li><li>2</li><li>2</li><li>2</li><li>2</li><li>2</li><li>2</li><li>2</li><li>2</li><li>2</li><li>2</li><li>3</li><li>3</li><li>3</li><li>3</li><li>3</li><li>3</li><li>3</li><li>3</li><li>3</li><li>3</li><li>3</li><li>3</li><li>3</li><li>3</li><li>3</li><li>3</li><li>3</li><li>3</li><li>3</li><li>3</li><li>3</li><li>3</li><li>3</li><li>3</li><li>3</li><li>3</li><li>3</li><li>3</li><li>3</li><li>3</li><li>3</li><li>3</li><li>3</li><li>3</li><li>3</li><li>3</li><li>3</li><li>3</li><li>3</li><li>3</li><li>3</li><li>3</li><li>3</li><li>3</li><li>3</li><li>3</li><li>3</li><li>3</li><li>3</li><li>3</li></ol>\n"
      ],
      "text/latex": [
       "\\begin{enumerate*}\n",
       "\\item 1\n",
       "\\item 1\n",
       "\\item 1\n",
       "\\item 1\n",
       "\\item 1\n",
       "\\item 1\n",
       "\\item 1\n",
       "\\item 1\n",
       "\\item 1\n",
       "\\item 1\n",
       "\\item 1\n",
       "\\item 1\n",
       "\\item 1\n",
       "\\item 1\n",
       "\\item 1\n",
       "\\item 1\n",
       "\\item 1\n",
       "\\item 1\n",
       "\\item 1\n",
       "\\item 1\n",
       "\\item 1\n",
       "\\item 1\n",
       "\\item 1\n",
       "\\item 1\n",
       "\\item 1\n",
       "\\item 1\n",
       "\\item 1\n",
       "\\item 1\n",
       "\\item 1\n",
       "\\item 1\n",
       "\\item 1\n",
       "\\item 1\n",
       "\\item 1\n",
       "\\item 1\n",
       "\\item 1\n",
       "\\item 1\n",
       "\\item 1\n",
       "\\item 1\n",
       "\\item 1\n",
       "\\item 1\n",
       "\\item 1\n",
       "\\item 1\n",
       "\\item 1\n",
       "\\item 1\n",
       "\\item 1\n",
       "\\item 1\n",
       "\\item 1\n",
       "\\item 1\n",
       "\\item 1\n",
       "\\item 1\n",
       "\\item 2\n",
       "\\item 2\n",
       "\\item 2\n",
       "\\item 2\n",
       "\\item 2\n",
       "\\item 2\n",
       "\\item 2\n",
       "\\item 2\n",
       "\\item 2\n",
       "\\item 2\n",
       "\\item 2\n",
       "\\item 2\n",
       "\\item 2\n",
       "\\item 2\n",
       "\\item 2\n",
       "\\item 2\n",
       "\\item 2\n",
       "\\item 2\n",
       "\\item 2\n",
       "\\item 2\n",
       "\\item 2\n",
       "\\item 2\n",
       "\\item 2\n",
       "\\item 2\n",
       "\\item 2\n",
       "\\item 2\n",
       "\\item 2\n",
       "\\item 2\n",
       "\\item 2\n",
       "\\item 2\n",
       "\\item 2\n",
       "\\item 2\n",
       "\\item 2\n",
       "\\item 2\n",
       "\\item 2\n",
       "\\item 2\n",
       "\\item 2\n",
       "\\item 2\n",
       "\\item 2\n",
       "\\item 2\n",
       "\\item 2\n",
       "\\item 2\n",
       "\\item 2\n",
       "\\item 2\n",
       "\\item 2\n",
       "\\item 2\n",
       "\\item 2\n",
       "\\item 2\n",
       "\\item 2\n",
       "\\item 2\n",
       "\\item 3\n",
       "\\item 3\n",
       "\\item 3\n",
       "\\item 3\n",
       "\\item 3\n",
       "\\item 3\n",
       "\\item 3\n",
       "\\item 3\n",
       "\\item 3\n",
       "\\item 3\n",
       "\\item 3\n",
       "\\item 3\n",
       "\\item 3\n",
       "\\item 3\n",
       "\\item 3\n",
       "\\item 3\n",
       "\\item 3\n",
       "\\item 3\n",
       "\\item 3\n",
       "\\item 3\n",
       "\\item 3\n",
       "\\item 3\n",
       "\\item 3\n",
       "\\item 3\n",
       "\\item 3\n",
       "\\item 3\n",
       "\\item 3\n",
       "\\item 3\n",
       "\\item 3\n",
       "\\item 3\n",
       "\\item 3\n",
       "\\item 3\n",
       "\\item 3\n",
       "\\item 3\n",
       "\\item 3\n",
       "\\item 3\n",
       "\\item 3\n",
       "\\item 3\n",
       "\\item 3\n",
       "\\item 3\n",
       "\\item 3\n",
       "\\item 3\n",
       "\\item 3\n",
       "\\item 3\n",
       "\\item 3\n",
       "\\item 3\n",
       "\\item 3\n",
       "\\item 3\n",
       "\\item 3\n",
       "\\item 3\n",
       "\\end{enumerate*}\n"
      ],
      "text/markdown": [
       "1. 1\n",
       "2. 1\n",
       "3. 1\n",
       "4. 1\n",
       "5. 1\n",
       "6. 1\n",
       "7. 1\n",
       "8. 1\n",
       "9. 1\n",
       "10. 1\n",
       "11. 1\n",
       "12. 1\n",
       "13. 1\n",
       "14. 1\n",
       "15. 1\n",
       "16. 1\n",
       "17. 1\n",
       "18. 1\n",
       "19. 1\n",
       "20. 1\n",
       "21. 1\n",
       "22. 1\n",
       "23. 1\n",
       "24. 1\n",
       "25. 1\n",
       "26. 1\n",
       "27. 1\n",
       "28. 1\n",
       "29. 1\n",
       "30. 1\n",
       "31. 1\n",
       "32. 1\n",
       "33. 1\n",
       "34. 1\n",
       "35. 1\n",
       "36. 1\n",
       "37. 1\n",
       "38. 1\n",
       "39. 1\n",
       "40. 1\n",
       "41. 1\n",
       "42. 1\n",
       "43. 1\n",
       "44. 1\n",
       "45. 1\n",
       "46. 1\n",
       "47. 1\n",
       "48. 1\n",
       "49. 1\n",
       "50. 1\n",
       "51. 2\n",
       "52. 2\n",
       "53. 2\n",
       "54. 2\n",
       "55. 2\n",
       "56. 2\n",
       "57. 2\n",
       "58. 2\n",
       "59. 2\n",
       "60. 2\n",
       "61. 2\n",
       "62. 2\n",
       "63. 2\n",
       "64. 2\n",
       "65. 2\n",
       "66. 2\n",
       "67. 2\n",
       "68. 2\n",
       "69. 2\n",
       "70. 2\n",
       "71. 2\n",
       "72. 2\n",
       "73. 2\n",
       "74. 2\n",
       "75. 2\n",
       "76. 2\n",
       "77. 2\n",
       "78. 2\n",
       "79. 2\n",
       "80. 2\n",
       "81. 2\n",
       "82. 2\n",
       "83. 2\n",
       "84. 2\n",
       "85. 2\n",
       "86. 2\n",
       "87. 2\n",
       "88. 2\n",
       "89. 2\n",
       "90. 2\n",
       "91. 2\n",
       "92. 2\n",
       "93. 2\n",
       "94. 2\n",
       "95. 2\n",
       "96. 2\n",
       "97. 2\n",
       "98. 2\n",
       "99. 2\n",
       "100. 2\n",
       "101. 3\n",
       "102. 3\n",
       "103. 3\n",
       "104. 3\n",
       "105. 3\n",
       "106. 3\n",
       "107. 3\n",
       "108. 3\n",
       "109. 3\n",
       "110. 3\n",
       "111. 3\n",
       "112. 3\n",
       "113. 3\n",
       "114. 3\n",
       "115. 3\n",
       "116. 3\n",
       "117. 3\n",
       "118. 3\n",
       "119. 3\n",
       "120. 3\n",
       "121. 3\n",
       "122. 3\n",
       "123. 3\n",
       "124. 3\n",
       "125. 3\n",
       "126. 3\n",
       "127. 3\n",
       "128. 3\n",
       "129. 3\n",
       "130. 3\n",
       "131. 3\n",
       "132. 3\n",
       "133. 3\n",
       "134. 3\n",
       "135. 3\n",
       "136. 3\n",
       "137. 3\n",
       "138. 3\n",
       "139. 3\n",
       "140. 3\n",
       "141. 3\n",
       "142. 3\n",
       "143. 3\n",
       "144. 3\n",
       "145. 3\n",
       "146. 3\n",
       "147. 3\n",
       "148. 3\n",
       "149. 3\n",
       "150. 3\n",
       "\n",
       "\n"
      ],
      "text/plain": [
       "  [1] 1 1 1 1 1 1 1 1 1 1 1 1 1 1 1 1 1 1 1 1 1 1 1 1 1 1 1 1 1 1 1 1 1 1 1 1 1\n",
       " [38] 1 1 1 1 1 1 1 1 1 1 1 1 1 2 2 2 2 2 2 2 2 2 2 2 2 2 2 2 2 2 2 2 2 2 2 2 2\n",
       " [75] 2 2 2 2 2 2 2 2 2 2 2 2 2 2 2 2 2 2 2 2 2 2 2 2 2 2 3 3 3 3 3 3 3 3 3 3 3\n",
       "[112] 3 3 3 3 3 3 3 3 3 3 3 3 3 3 3 3 3 3 3 3 3 3 3 3 3 3 3 3 3 3 3 3 3 3 3 3 3\n",
       "[149] 3 3"
      ]
     },
     "metadata": {},
     "output_type": "display_data"
    }
   ],
   "source": [
    "point"
   ]
  },
  {
   "cell_type": "code",
   "execution_count": 25,
   "id": "2ae7d1f6",
   "metadata": {},
   "outputs": [],
   "source": [
    "color= c('red','pink','blue')"
   ]
  },
  {
   "cell_type": "code",
   "execution_count": 28,
   "id": "1991040e",
   "metadata": {},
   "outputs": [
    {
     "data": {
      "image/png": "[encoded data removed]",
      "text/plain": [
       "Plot with title \"Iris Plot\""
      ]
     },
     "metadata": {
      "image/png": {
       "height": 420,
       "width": 420
      }
     },
     "output_type": "display_data"
    }
   ],
   "source": [
    "plot(iris.2,\n",
    "    col = color[point],\n",
    "    pch = point,\n",
    "    main = 'Iris Plot')"
   ]
  },
  {
   "cell_type": "code",
   "execution_count": 34,
   "id": "a9950b03",
   "metadata": {},
   "outputs": [],
   "source": [
    "beers = c(5, 2, 9, 8, 3, 7, 3, 5, 3, 5)\n",
    "bal = c(0.1, 0.03, 0.19, 0.12, 0.04, 0.0095, 0.07, 0.06, 0.02, 0.05)"
   ]
  },
  {
   "cell_type": "code",
   "execution_count": 35,
   "id": "44781682",
   "metadata": {},
   "outputs": [
    {
     "data": {
      "text/html": [
       "10"
      ],
      "text/latex": [
       "10"
      ],
      "text/markdown": [
       "10"
      ],
      "text/plain": [
       "[1] 10"
      ]
     },
     "metadata": {},
     "output_type": "display_data"
    },
    {
     "data": {
      "text/html": [
       "10"
      ],
      "text/latex": [
       "10"
      ],
      "text/markdown": [
       "10"
      ],
      "text/plain": [
       "[1] 10"
      ]
     },
     "metadata": {},
     "output_type": "display_data"
    }
   ],
   "source": [
    "length(beers)\n",
    "length(bal)"
   ]
  },
  {
   "cell_type": "code",
   "execution_count": 37,
   "id": "c54f6681",
   "metadata": {},
   "outputs": [
    {
     "data": {
      "image/png": "[encoded data removed]",
      "text/plain": [
       "plot without title"
      ]
     },
     "metadata": {
      "image/png": {
       "height": 420,
       "width": 420
      }
     },
     "output_type": "display_data"
    }
   ],
   "source": [
    "plot(beers, bal)\n",
    "lm.res = lm(bal~beers)\n",
    "abline(lm.res)"
   ]
  },
  {
   "cell_type": "code",
   "execution_count": 38,
   "id": "7e7cc7ef",
   "metadata": {},
   "outputs": [
    {
     "data": {
      "text/plain": [
       "\n",
       "Call:\n",
       "lm(formula = bal ~ beers)\n",
       "\n",
       "Residuals:\n",
       "     Min       1Q   Median       3Q      Max \n",
       "-0.09101 -0.01528  0.00316  0.02539  0.05793 \n",
       "\n",
       "Coefficients:\n",
       "             Estimate Std. Error t value Pr(>|t|)  \n",
       "(Intercept) -0.009950   0.032976  -0.302   0.7705  \n",
       "beers        0.015780   0.006021   2.621   0.0306 *\n",
       "---\n",
       "Signif. codes:  0 '***' 0.001 '**' 0.01 '*' 0.05 '.' 0.1 ' ' 1\n",
       "\n",
       "Residual standard error: 0.04257 on 8 degrees of freedom\n",
       "Multiple R-squared:  0.462,\tAdjusted R-squared:  0.3947 \n",
       "F-statistic:  6.87 on 1 and 8 DF,  p-value: 0.0306\n"
      ]
     },
     "metadata": {},
     "output_type": "display_data"
    }
   ],
   "source": [
    "summary(lm.res)"
   ]
  },
  {
   "cell_type": "code",
   "execution_count": 39,
   "id": "1cd7f6c5",
   "metadata": {},
   "outputs": [
    {
     "data": {
      "text/html": [
       "<strong>1:</strong> 0.05317"
      ],
      "text/latex": [
       "\\textbf{1:} 0.05317"
      ],
      "text/markdown": [
       "**1:** 0.05317"
      ],
      "text/plain": [
       "      1 \n",
       "0.05317 "
      ]
     },
     "metadata": {},
     "output_type": "display_data"
    }
   ],
   "source": [
    "predict(lm.res, newdata = data.frame(beers = 4))"
   ]
  },
  {
   "cell_type": "code",
   "execution_count": 40,
   "id": "da790583",
   "metadata": {},
   "outputs": [
    {
     "data": {
      "text/html": [
       "0.05317"
      ],
      "text/latex": [
       "0.05317"
      ],
      "text/markdown": [
       "0.05317"
      ],
      "text/plain": [
       "[1] 0.05317"
      ]
     },
     "metadata": {},
     "output_type": "display_data"
    }
   ],
   "source": [
    "-0.009950 + 0.015780 * 4"
   ]
  },
  {
   "cell_type": "code",
   "execution_count": 41,
   "id": "d824fb48",
   "metadata": {},
   "outputs": [],
   "source": [
    "month = 1:12"
   ]
  },
  {
   "cell_type": "code",
   "execution_count": 42,
   "id": "bf465d22",
   "metadata": {},
   "outputs": [],
   "source": [
    "late1 = c(5, 8, 7, 9, 4, 6, 12, 13, 8, 6, 6, 4)\n",
    "late2 = c(4, 6, 5, 8, 7, 8, 10, 11, 6, 5, 7, 3)"
   ]
  },
  {
   "cell_type": "code",
   "execution_count": 44,
   "id": "e088a2fa",
   "metadata": {},
   "outputs": [
    {
     "data": {
      "image/png": "[encoded data removed]",
      "text/plain": [
       "plot without title"
      ]
     },
     "metadata": {
      "image/png": {
       "height": 420,
       "width": 420
      }
     },
     "output_type": "display_data"
    }
   ],
   "source": [
    "plot(month, late1,\n",
    "    type = 'l')"
   ]
  },
  {
   "cell_type": "code",
   "execution_count": 45,
   "id": "8f9e8228",
   "metadata": {},
   "outputs": [
    {
     "data": {
      "image/png": "[encoded data removed]",
      "text/plain": [
       "plot without title"
      ]
     },
     "metadata": {
      "image/png": {
       "height": 420,
       "width": 420
      }
     },
     "output_type": "display_data"
    }
   ],
   "source": [
    "plot(month, late1,\n",
    "    type = 'b')"
   ]
  },
  {
   "cell_type": "code",
   "execution_count": 46,
   "id": "c6a3a3d3",
   "metadata": {},
   "outputs": [
    {
     "data": {
      "image/png": "[encoded data removed]",
      "text/plain": [
       "plot without title"
      ]
     },
     "metadata": {
      "image/png": {
       "height": 420,
       "width": 420
      }
     },
     "output_type": "display_data"
    }
   ],
   "source": [
    "plot(month, late1,\n",
    "    type = 'p')"
   ]
  },
  {
   "cell_type": "code",
   "execution_count": 47,
   "id": "b070221b",
   "metadata": {},
   "outputs": [
    {
     "data": {
      "image/png": "[encoded data removed]",
      "text/plain": [
       "plot without title"
      ]
     },
     "metadata": {
      "image/png": {
       "height": 420,
       "width": 420
      }
     },
     "output_type": "display_data"
    }
   ],
   "source": [
    "plot(month, late1,\n",
    "    type = 's')"
   ]
  },
  {
   "cell_type": "code",
   "execution_count": 48,
   "id": "a6437a45",
   "metadata": {},
   "outputs": [
    {
     "data": {
      "image/png": "[encoded data removed]",
      "text/plain": [
       "plot without title"
      ]
     },
     "metadata": {
      "image/png": {
       "height": 420,
       "width": 420
      }
     },
     "output_type": "display_data"
    }
   ],
   "source": [
    "plot(month, late1,\n",
    "    type = 'o')"
   ]
  },
  {
   "cell_type": "code",
   "execution_count": 56,
   "id": "e7c197e2",
   "metadata": {},
   "outputs": [
    {
     "data": {
      "image/png": "[encoded data removed]",
      "text/plain": [
       "Plot with title \"Late Students\""
      ]
     },
     "metadata": {
      "image/png": {
       "height": 420,
       "width": 420
      }
     },
     "output_type": "display_data"
    }
   ],
   "source": [
    "plot(month, late1,\n",
    "    main = 'Late Students',\n",
    "    xlab = 'Month',\n",
    "    ylab = 'Late Cnt',\n",
    "    type = 'b',\n",
    "    col = 'red')\n",
    "lines(month, late2,\n",
    "     type = 'b',\n",
    "     col = 'blue')"
   ]
  },
  {
   "cell_type": "code",
   "execution_count": 58,
   "id": "6e8d1e8b",
   "metadata": {},
   "outputs": [
    {
     "data": {
      "text/html": [
       "<style>\n",
       ".list-inline {list-style: none; margin:0; padding: 0}\n",
       ".list-inline>li {display: inline-block}\n",
       ".list-inline>li:not(:last-child)::after {content: \"\\00b7\"; padding: 0 .5ex}\n",
       "</style>\n",
       "<ol class=list-inline><li>1</li><li>2</li><li>3</li><li>4</li><li>5</li><li>6</li><li>7</li><li>8</li><li>9</li><li>10</li><li>11</li><li>12</li></ol>\n"
      ],
      "text/latex": [
       "\\begin{enumerate*}\n",
       "\\item 1\n",
       "\\item 2\n",
       "\\item 3\n",
       "\\item 4\n",
       "\\item 5\n",
       "\\item 6\n",
       "\\item 7\n",
       "\\item 8\n",
       "\\item 9\n",
       "\\item 10\n",
       "\\item 11\n",
       "\\item 12\n",
       "\\end{enumerate*}\n"
      ],
      "text/markdown": [
       "1. 1\n",
       "2. 2\n",
       "3. 3\n",
       "4. 4\n",
       "5. 5\n",
       "6. 6\n",
       "7. 7\n",
       "8. 8\n",
       "9. 9\n",
       "10. 10\n",
       "11. 11\n",
       "12. 12\n",
       "\n",
       "\n"
      ],
      "text/plain": [
       " [1]  1  2  3  4  5  6  7  8  9 10 11 12"
      ]
     },
     "metadata": {},
     "output_type": "display_data"
    },
    {
     "data": {
      "text/html": [
       "<style>\n",
       ".list-inline {list-style: none; margin:0; padding: 0}\n",
       ".list-inline>li {display: inline-block}\n",
       ".list-inline>li:not(:last-child)::after {content: \"\\00b7\"; padding: 0 .5ex}\n",
       "</style>\n",
       "<ol class=list-inline><li>5</li><li>8</li><li>7</li><li>9</li><li>4</li><li>6</li><li>12</li><li>13</li><li>8</li><li>6</li><li>6</li><li>4</li></ol>\n"
      ],
      "text/latex": [
       "\\begin{enumerate*}\n",
       "\\item 5\n",
       "\\item 8\n",
       "\\item 7\n",
       "\\item 9\n",
       "\\item 4\n",
       "\\item 6\n",
       "\\item 12\n",
       "\\item 13\n",
       "\\item 8\n",
       "\\item 6\n",
       "\\item 6\n",
       "\\item 4\n",
       "\\end{enumerate*}\n"
      ],
      "text/markdown": [
       "1. 5\n",
       "2. 8\n",
       "3. 7\n",
       "4. 9\n",
       "5. 4\n",
       "6. 6\n",
       "7. 12\n",
       "8. 13\n",
       "9. 8\n",
       "10. 6\n",
       "11. 6\n",
       "12. 4\n",
       "\n",
       "\n"
      ],
      "text/plain": [
       " [1]  5  8  7  9  4  6 12 13  8  6  6  4"
      ]
     },
     "metadata": {},
     "output_type": "display_data"
    },
    {
     "data": {
      "text/html": [
       "<style>\n",
       ".list-inline {list-style: none; margin:0; padding: 0}\n",
       ".list-inline>li {display: inline-block}\n",
       ".list-inline>li:not(:last-child)::after {content: \"\\00b7\"; padding: 0 .5ex}\n",
       "</style>\n",
       "<ol class=list-inline><li>4</li><li>6</li><li>5</li><li>8</li><li>7</li><li>8</li><li>10</li><li>11</li><li>6</li><li>5</li><li>7</li><li>3</li></ol>\n"
      ],
      "text/latex": [
       "\\begin{enumerate*}\n",
       "\\item 4\n",
       "\\item 6\n",
       "\\item 5\n",
       "\\item 8\n",
       "\\item 7\n",
       "\\item 8\n",
       "\\item 10\n",
       "\\item 11\n",
       "\\item 6\n",
       "\\item 5\n",
       "\\item 7\n",
       "\\item 3\n",
       "\\end{enumerate*}\n"
      ],
      "text/markdown": [
       "1. 4\n",
       "2. 6\n",
       "3. 5\n",
       "4. 8\n",
       "5. 7\n",
       "6. 8\n",
       "7. 10\n",
       "8. 11\n",
       "9. 6\n",
       "10. 5\n",
       "11. 7\n",
       "12. 3\n",
       "\n",
       "\n"
      ],
      "text/plain": [
       " [1]  4  6  5  8  7  8 10 11  6  5  7  3"
      ]
     },
     "metadata": {},
     "output_type": "display_data"
    }
   ],
   "source": [
    "month\n",
    "late1\n",
    "late2"
   ]
  },
  {
   "cell_type": "code",
   "execution_count": 61,
   "id": "ece5bd49",
   "metadata": {},
   "outputs": [
    {
     "data": {
      "image/png": "[encoded data removed]",
      "text/plain": [
       "Plot with title \"Late Students\""
      ]
     },
     "metadata": {
      "image/png": {
       "height": 420,
       "width": 420
      }
     },
     "output_type": "display_data"
    }
   ],
   "source": [
    "plot(month, late1,\n",
    "    main = 'Late Students',\n",
    "    xlab = 'Month',\n",
    "    ylab = 'Late Cnt',\n",
    "    type = 'b',\n",
    "    col = 'red')\n",
    "lm.res = lm(late1~month)\n",
    "lines(month, late2,\n",
    "     type = 'b',\n",
    "     col = 'blue')\n",
    "abline(lm.res)"
   ]
  },
  {
   "cell_type": "code",
   "execution_count": 62,
   "id": "d7e781de",
   "metadata": {},
   "outputs": [
    {
     "data": {
      "text/plain": [
       "\n",
       "Call:\n",
       "lm(formula = late1 ~ month)\n",
       "\n",
       "Residuals:\n",
       "    Min      1Q  Median      3Q     Max \n",
       "-3.3753 -1.6323 -0.8193  0.9516  5.7086 \n",
       "\n",
       "Coefficients:\n",
       "            Estimate Std. Error t value Pr(>|t|)   \n",
       "(Intercept)  7.51515    1.85205   4.058  0.00229 **\n",
       "month       -0.02797    0.25164  -0.111  0.91369   \n",
       "---\n",
       "Signif. codes:  0 '***' 0.001 '**' 0.01 '*' 0.05 '.' 0.1 ' ' 1\n",
       "\n",
       "Residual standard error: 3.009 on 10 degrees of freedom\n",
       "Multiple R-squared:  0.001234,\tAdjusted R-squared:  -0.09864 \n",
       "F-statistic: 0.01236 on 1 and 10 DF,  p-value: 0.9137\n"
      ]
     },
     "metadata": {},
     "output_type": "display_data"
    }
   ],
   "source": [
    "summary(lm.res)"
   ]
  },
  {
   "cell_type": "code",
   "execution_count": 63,
   "id": "bcfef42c",
   "metadata": {},
   "outputs": [
    {
     "data": {
      "text/html": [
       "<strong>1:</strong> 7.31934731934732"
      ],
      "text/latex": [
       "\\textbf{1:} 7.31934731934732"
      ],
      "text/markdown": [
       "**1:** 7.31934731934732"
      ],
      "text/plain": [
       "       1 \n",
       "7.319347 "
      ]
     },
     "metadata": {},
     "output_type": "display_data"
    }
   ],
   "source": [
    "predict(lm.res, newdata = data.frame(month = 7))"
   ]
  },
  {
   "cell_type": "code",
   "execution_count": 64,
   "id": "c972809e",
   "metadata": {},
   "outputs": [
    {
     "data": {
      "text/html": [
       "7.51936"
      ],
      "text/latex": [
       "7.51936"
      ],
      "text/markdown": [
       "7.51936"
      ],
      "text/plain": [
       "[1] 7.51936"
      ]
     },
     "metadata": {},
     "output_type": "display_data"
    }
   ],
   "source": [
    "7.71515 + -0.02797 * 7"
   ]
  },
  {
   "cell_type": "code",
   "execution_count": 65,
   "id": "f7f96a75",
   "metadata": {},
   "outputs": [],
   "source": [
    "mat1 = matrix(c(137, 218, 153, 22, 34, 30, 40, 67, 68), nrow = 3, byrow = F)"
   ]
  },
  {
   "cell_type": "code",
   "execution_count": 66,
   "id": "ccf262f8",
   "metadata": {},
   "outputs": [
    {
     "data": {
      "text/html": [
       "<table class=\"dataframe\">\n",
       "<caption>A matrix: 3 × 3 of type dbl</caption>\n",
       "<tbody>\n",
       "\t<tr><td>137</td><td>22</td><td>40</td></tr>\n",
       "\t<tr><td>218</td><td>34</td><td>67</td></tr>\n",
       "\t<tr><td>153</td><td>30</td><td>68</td></tr>\n",
       "</tbody>\n",
       "</table>\n"
      ],
      "text/latex": [
       "A matrix: 3 × 3 of type dbl\n",
       "\\begin{tabular}{lll}\n",
       "\t 137 & 22 & 40\\\\\n",
       "\t 218 & 34 & 67\\\\\n",
       "\t 153 & 30 & 68\\\\\n",
       "\\end{tabular}\n"
      ],
      "text/markdown": [
       "\n",
       "A matrix: 3 × 3 of type dbl\n",
       "\n",
       "| 137 | 22 | 40 |\n",
       "| 218 | 34 | 67 |\n",
       "| 153 | 30 | 68 |\n",
       "\n"
      ],
      "text/plain": [
       "     [,1] [,2] [,3]\n",
       "[1,] 137  22   40  \n",
       "[2,] 218  34   67  \n",
       "[3,] 153  30   68  "
      ]
     },
     "metadata": {},
     "output_type": "display_data"
    }
   ],
   "source": [
    "mat1"
   ]
  },
  {
   "cell_type": "code",
   "execution_count": 67,
   "id": "73a382ca",
   "metadata": {},
   "outputs": [],
   "source": [
    "dimnames(mat1)[[1]] = c('< 25', '25~28','> 28')"
   ]
  },
  {
   "cell_type": "code",
   "execution_count": 68,
   "id": "d51cceef",
   "metadata": {},
   "outputs": [],
   "source": [
    "dimnames(mat1)[[2]] = c('None','Fore','Crown')"
   ]
  },
  {
   "cell_type": "code",
   "execution_count": 69,
   "id": "75e04337",
   "metadata": {},
   "outputs": [
    {
     "data": {
      "text/html": [
       "<table class=\"dataframe\">\n",
       "<caption>A matrix: 3 × 3 of type dbl</caption>\n",
       "<thead>\n",
       "\t<tr><th></th><th scope=col>None</th><th scope=col>Fore</th><th scope=col>Crown</th></tr>\n",
       "</thead>\n",
       "<tbody>\n",
       "\t<tr><th scope=row>&lt; 25</th><td>137</td><td>22</td><td>40</td></tr>\n",
       "\t<tr><th scope=row>25~28</th><td>218</td><td>34</td><td>67</td></tr>\n",
       "\t<tr><th scope=row>&gt; 28</th><td>153</td><td>30</td><td>68</td></tr>\n",
       "</tbody>\n",
       "</table>\n"
      ],
      "text/latex": [
       "A matrix: 3 × 3 of type dbl\n",
       "\\begin{tabular}{r|lll}\n",
       "  & None & Fore & Crown\\\\\n",
       "\\hline\n",
       "\t< 25 & 137 & 22 & 40\\\\\n",
       "\t25\\textasciitilde{}28 & 218 & 34 & 67\\\\\n",
       "\t> 28 & 153 & 30 & 68\\\\\n",
       "\\end{tabular}\n"
      ],
      "text/markdown": [
       "\n",
       "A matrix: 3 × 3 of type dbl\n",
       "\n",
       "| <!--/--> | None | Fore | Crown |\n",
       "|---|---|---|---|\n",
       "| &lt; 25 | 137 | 22 | 40 |\n",
       "| 25~28 | 218 | 34 | 67 |\n",
       "| &gt; 28 | 153 | 30 | 68 |\n",
       "\n"
      ],
      "text/plain": [
       "      None Fore Crown\n",
       "< 25  137  22   40   \n",
       "25~28 218  34   67   \n",
       "> 28  153  30   68   "
      ]
     },
     "metadata": {},
     "output_type": "display_data"
    }
   ],
   "source": [
    "mat1"
   ]
  },
  {
   "cell_type": "code",
   "execution_count": 70,
   "id": "8e0855e1",
   "metadata": {},
   "outputs": [],
   "source": [
    "mat2 = prop.table(mat1, 1)"
   ]
  },
  {
   "cell_type": "code",
   "execution_count": 71,
   "id": "bb57c825",
   "metadata": {},
   "outputs": [
    {
     "data": {
      "text/html": [
       "<table class=\"dataframe\">\n",
       "<caption>A matrix: 3 × 3 of type dbl</caption>\n",
       "<thead>\n",
       "\t<tr><th></th><th scope=col>None</th><th scope=col>Fore</th><th scope=col>Crown</th></tr>\n",
       "</thead>\n",
       "<tbody>\n",
       "\t<tr><th scope=row>&lt; 25</th><td>0.6884422</td><td>0.1105528</td><td>0.2010050</td></tr>\n",
       "\t<tr><th scope=row>25~28</th><td>0.6833856</td><td>0.1065831</td><td>0.2100313</td></tr>\n",
       "\t<tr><th scope=row>&gt; 28</th><td>0.6095618</td><td>0.1195219</td><td>0.2709163</td></tr>\n",
       "</tbody>\n",
       "</table>\n"
      ],
      "text/latex": [
       "A matrix: 3 × 3 of type dbl\n",
       "\\begin{tabular}{r|lll}\n",
       "  & None & Fore & Crown\\\\\n",
       "\\hline\n",
       "\t< 25 & 0.6884422 & 0.1105528 & 0.2010050\\\\\n",
       "\t25\\textasciitilde{}28 & 0.6833856 & 0.1065831 & 0.2100313\\\\\n",
       "\t> 28 & 0.6095618 & 0.1195219 & 0.2709163\\\\\n",
       "\\end{tabular}\n"
      ],
      "text/markdown": [
       "\n",
       "A matrix: 3 × 3 of type dbl\n",
       "\n",
       "| <!--/--> | None | Fore | Crown |\n",
       "|---|---|---|---|\n",
       "| &lt; 25 | 0.6884422 | 0.1105528 | 0.2010050 |\n",
       "| 25~28 | 0.6833856 | 0.1065831 | 0.2100313 |\n",
       "| &gt; 28 | 0.6095618 | 0.1195219 | 0.2709163 |\n",
       "\n"
      ],
      "text/plain": [
       "      None      Fore      Crown    \n",
       "< 25  0.6884422 0.1105528 0.2010050\n",
       "25~28 0.6833856 0.1065831 0.2100313\n",
       "> 28  0.6095618 0.1195219 0.2709163"
      ]
     },
     "metadata": {},
     "output_type": "display_data"
    }
   ],
   "source": [
    "mat2"
   ]
  },
  {
   "cell_type": "markdown",
   "id": "7f7fecf0",
   "metadata": {},
   "source": [
    "barplot(t(mat2), beside = T, horiz = T,\n",
    "       las = 1,\n",
    "       main = '신체 용적 지수',\n",
    "       legend.text = T,\n",
    "       args.legend = list(bty = 'n'),\n",
    "       col = c('salmon','pink','blue'))"
   ]
  },
  {
   "cell_type": "code",
   "execution_count": 80,
   "id": "17244f3b",
   "metadata": {},
   "outputs": [
    {
     "data": {
      "image/png": "[encoded data removed]",
      "text/plain": [
       "Plot with title \"신체 용적 지수\""
      ]
     },
     "metadata": {
      "image/png": {
       "height": 420,
       "width": 420
      }
     },
     "output_type": "display_data"
    }
   ],
   "source": [
    "barplot(t(mat2), beside = T, horiz = T,\n",
    "       las = 1,\n",
    "       main = '신체 용적 지수',\n",
    "       legend.text = T,\n",
    "       args.legend = list(bty = 'n'),\n",
    "       col = c('salmon','pink','blue'))"
   ]
  },
  {
   "cell_type": "code",
   "execution_count": 83,
   "id": "dabec008",
   "metadata": {},
   "outputs": [],
   "source": [
    "class = c(rep('baseball', 7), rep('basketball', 10), rep('Afootball', 6), rep('Hockey',2), rep('tenniss', 5), rep('soccor', 5))"
   ]
  },
  {
   "cell_type": "code",
   "execution_count": 84,
   "id": "bab982c0",
   "metadata": {},
   "outputs": [
    {
     "data": {
      "text/html": [
       "<style>\n",
       ".list-inline {list-style: none; margin:0; padding: 0}\n",
       ".list-inline>li {display: inline-block}\n",
       ".list-inline>li:not(:last-child)::after {content: \"\\00b7\"; padding: 0 .5ex}\n",
       "</style>\n",
       "<ol class=list-inline><li>'baseball'</li><li>'baseball'</li><li>'baseball'</li><li>'baseball'</li><li>'baseball'</li><li>'baseball'</li><li>'baseball'</li><li>'basketball'</li><li>'basketball'</li><li>'basketball'</li><li>'basketball'</li><li>'basketball'</li><li>'basketball'</li><li>'basketball'</li><li>'basketball'</li><li>'basketball'</li><li>'basketball'</li><li>'Afootball'</li><li>'Afootball'</li><li>'Afootball'</li><li>'Afootball'</li><li>'Afootball'</li><li>'Afootball'</li><li>'Hockey'</li><li>'Hockey'</li><li>'tenniss'</li><li>'tenniss'</li><li>'tenniss'</li><li>'tenniss'</li><li>'tenniss'</li><li>'soccor'</li><li>'soccor'</li><li>'soccor'</li><li>'soccor'</li><li>'soccor'</li></ol>\n"
      ],
      "text/latex": [
       "\\begin{enumerate*}\n",
       "\\item 'baseball'\n",
       "\\item 'baseball'\n",
       "\\item 'baseball'\n",
       "\\item 'baseball'\n",
       "\\item 'baseball'\n",
       "\\item 'baseball'\n",
       "\\item 'baseball'\n",
       "\\item 'basketball'\n",
       "\\item 'basketball'\n",
       "\\item 'basketball'\n",
       "\\item 'basketball'\n",
       "\\item 'basketball'\n",
       "\\item 'basketball'\n",
       "\\item 'basketball'\n",
       "\\item 'basketball'\n",
       "\\item 'basketball'\n",
       "\\item 'basketball'\n",
       "\\item 'Afootball'\n",
       "\\item 'Afootball'\n",
       "\\item 'Afootball'\n",
       "\\item 'Afootball'\n",
       "\\item 'Afootball'\n",
       "\\item 'Afootball'\n",
       "\\item 'Hockey'\n",
       "\\item 'Hockey'\n",
       "\\item 'tenniss'\n",
       "\\item 'tenniss'\n",
       "\\item 'tenniss'\n",
       "\\item 'tenniss'\n",
       "\\item 'tenniss'\n",
       "\\item 'soccor'\n",
       "\\item 'soccor'\n",
       "\\item 'soccor'\n",
       "\\item 'soccor'\n",
       "\\item 'soccor'\n",
       "\\end{enumerate*}\n"
      ],
      "text/markdown": [
       "1. 'baseball'\n",
       "2. 'baseball'\n",
       "3. 'baseball'\n",
       "4. 'baseball'\n",
       "5. 'baseball'\n",
       "6. 'baseball'\n",
       "7. 'baseball'\n",
       "8. 'basketball'\n",
       "9. 'basketball'\n",
       "10. 'basketball'\n",
       "11. 'basketball'\n",
       "12. 'basketball'\n",
       "13. 'basketball'\n",
       "14. 'basketball'\n",
       "15. 'basketball'\n",
       "16. 'basketball'\n",
       "17. 'basketball'\n",
       "18. 'Afootball'\n",
       "19. 'Afootball'\n",
       "20. 'Afootball'\n",
       "21. 'Afootball'\n",
       "22. 'Afootball'\n",
       "23. 'Afootball'\n",
       "24. 'Hockey'\n",
       "25. 'Hockey'\n",
       "26. 'tenniss'\n",
       "27. 'tenniss'\n",
       "28. 'tenniss'\n",
       "29. 'tenniss'\n",
       "30. 'tenniss'\n",
       "31. 'soccor'\n",
       "32. 'soccor'\n",
       "33. 'soccor'\n",
       "34. 'soccor'\n",
       "35. 'soccor'\n",
       "\n",
       "\n"
      ],
      "text/plain": [
       " [1] \"baseball\"   \"baseball\"   \"baseball\"   \"baseball\"   \"baseball\"  \n",
       " [6] \"baseball\"   \"baseball\"   \"basketball\" \"basketball\" \"basketball\"\n",
       "[11] \"basketball\" \"basketball\" \"basketball\" \"basketball\" \"basketball\"\n",
       "[16] \"basketball\" \"basketball\" \"Afootball\"  \"Afootball\"  \"Afootball\" \n",
       "[21] \"Afootball\"  \"Afootball\"  \"Afootball\"  \"Hockey\"     \"Hockey\"    \n",
       "[26] \"tenniss\"    \"tenniss\"    \"tenniss\"    \"tenniss\"    \"tenniss\"   \n",
       "[31] \"soccor\"     \"soccor\"     \"soccor\"     \"soccor\"     \"soccor\"    "
      ]
     },
     "metadata": {},
     "output_type": "display_data"
    }
   ],
   "source": [
    "class"
   ]
  },
  {
   "cell_type": "code",
   "execution_count": 85,
   "id": "972f0310",
   "metadata": {},
   "outputs": [
    {
     "name": "stderr",
     "output_type": "stream",
     "text": [
      "Warning message in dotchart(table(class)):\n",
      "\"'x' is neither a vector nor a matrix: using as.numeric(x)\"\n"
     ]
    },
    {
     "data": {
      "image/png": "[encoded data removed]",
      "text/plain": [
       "plot without title"
      ]
     },
     "metadata": {
      "image/png": {
       "height": 420,
       "width": 420
      }
     },
     "output_type": "display_data"
    }
   ],
   "source": [
    "dotchart(table(class))"
   ]
  },
  {
   "cell_type": "code",
   "execution_count": 91,
   "id": "d21c1db2",
   "metadata": {},
   "outputs": [
    {
     "data": {
      "image/png": "[encoded data removed]",
      "text/plain": [
       "plot without title"
      ]
     },
     "metadata": {
      "image/png": {
       "height": 420,
       "width": 420
      }
     },
     "output_type": "display_data"
    }
   ],
   "source": [
    "plot(table(t(class)), type = 'p',\n",
    "    las = 1,\n",
    "    xlab = 'class',\n",
    "    ylab = 'count')"
   ]
  },
  {
   "cell_type": "code",
   "execution_count": 92,
   "id": "33810606",
   "metadata": {},
   "outputs": [],
   "source": [
    "time = c(15, 8, 23, 21, 5, 17, 31, 22, 34, 6, 5, 10, 14, 17, 16, 25, 30, 31, 19)"
   ]
  },
  {
   "cell_type": "code",
   "execution_count": 93,
   "id": "ba8f4636",
   "metadata": {},
   "outputs": [
    {
     "name": "stdout",
     "output_type": "stream",
     "text": [
      "\n",
      "  The decimal point is 1 digit(s) to the right of the |\n",
      "\n",
      "  0 | 5568\n",
      "  1 | 0456779\n",
      "  2 | 1235\n",
      "  3 | 0114\n",
      "\n"
     ]
    }
   ],
   "source": [
    "stem(time)"
   ]
  },
  {
   "cell_type": "code",
   "execution_count": 94,
   "id": "fd87428f",
   "metadata": {},
   "outputs": [],
   "source": [
    "height = c(181, 161, 170, 160, 158, 169, 162, 179, 183, 178, 171, 177, 163, \n",
    "          158, 160, 160, 158, 174, 160, 163, 167, 165, 163, 173, 178, 170,\n",
    "          167, 177, 167, 170, 152, 158, 160, 160, 159, 180, 169, 162, 178,\n",
    "          173, 173, 171, 171, 170, 160, 167, 168, 166, 164, 174, 180)"
   ]
  },
  {
   "cell_type": "code",
   "execution_count": 95,
   "id": "1c386d95",
   "metadata": {},
   "outputs": [
    {
     "data": {
      "text/html": [
       "<style>\n",
       ".list-inline {list-style: none; margin:0; padding: 0}\n",
       ".list-inline>li {display: inline-block}\n",
       ".list-inline>li:not(:last-child)::after {content: \"\\00b7\"; padding: 0 .5ex}\n",
       "</style>\n",
       "<ol class=list-inline><li>181</li><li>161</li><li>170</li><li>160</li><li>158</li><li>169</li><li>162</li><li>179</li><li>183</li><li>178</li><li>171</li><li>177</li><li>163</li><li>158</li><li>160</li><li>160</li><li>158</li><li>174</li><li>160</li><li>163</li><li>167</li><li>165</li><li>163</li><li>173</li><li>178</li><li>170</li><li>167</li><li>177</li><li>167</li><li>170</li><li>152</li><li>158</li><li>160</li><li>160</li><li>159</li><li>180</li><li>169</li><li>162</li><li>178</li><li>173</li><li>173</li><li>171</li><li>171</li><li>170</li><li>160</li><li>167</li><li>168</li><li>166</li><li>164</li><li>174</li><li>180</li></ol>\n"
      ],
      "text/latex": [
       "\\begin{enumerate*}\n",
       "\\item 181\n",
       "\\item 161\n",
       "\\item 170\n",
       "\\item 160\n",
       "\\item 158\n",
       "\\item 169\n",
       "\\item 162\n",
       "\\item 179\n",
       "\\item 183\n",
       "\\item 178\n",
       "\\item 171\n",
       "\\item 177\n",
       "\\item 163\n",
       "\\item 158\n",
       "\\item 160\n",
       "\\item 160\n",
       "\\item 158\n",
       "\\item 174\n",
       "\\item 160\n",
       "\\item 163\n",
       "\\item 167\n",
       "\\item 165\n",
       "\\item 163\n",
       "\\item 173\n",
       "\\item 178\n",
       "\\item 170\n",
       "\\item 167\n",
       "\\item 177\n",
       "\\item 167\n",
       "\\item 170\n",
       "\\item 152\n",
       "\\item 158\n",
       "\\item 160\n",
       "\\item 160\n",
       "\\item 159\n",
       "\\item 180\n",
       "\\item 169\n",
       "\\item 162\n",
       "\\item 178\n",
       "\\item 173\n",
       "\\item 173\n",
       "\\item 171\n",
       "\\item 171\n",
       "\\item 170\n",
       "\\item 160\n",
       "\\item 167\n",
       "\\item 168\n",
       "\\item 166\n",
       "\\item 164\n",
       "\\item 174\n",
       "\\item 180\n",
       "\\end{enumerate*}\n"
      ],
      "text/markdown": [
       "1. 181\n",
       "2. 161\n",
       "3. 170\n",
       "4. 160\n",
       "5. 158\n",
       "6. 169\n",
       "7. 162\n",
       "8. 179\n",
       "9. 183\n",
       "10. 178\n",
       "11. 171\n",
       "12. 177\n",
       "13. 163\n",
       "14. 158\n",
       "15. 160\n",
       "16. 160\n",
       "17. 158\n",
       "18. 174\n",
       "19. 160\n",
       "20. 163\n",
       "21. 167\n",
       "22. 165\n",
       "23. 163\n",
       "24. 173\n",
       "25. 178\n",
       "26. 170\n",
       "27. 167\n",
       "28. 177\n",
       "29. 167\n",
       "30. 170\n",
       "31. 152\n",
       "32. 158\n",
       "33. 160\n",
       "34. 160\n",
       "35. 159\n",
       "36. 180\n",
       "37. 169\n",
       "38. 162\n",
       "39. 178\n",
       "40. 173\n",
       "41. 173\n",
       "42. 171\n",
       "43. 171\n",
       "44. 170\n",
       "45. 160\n",
       "46. 167\n",
       "47. 168\n",
       "48. 166\n",
       "49. 164\n",
       "50. 174\n",
       "51. 180\n",
       "\n",
       "\n"
      ],
      "text/plain": [
       " [1] 181 161 170 160 158 169 162 179 183 178 171 177 163 158 160 160 158 174 160\n",
       "[20] 163 167 165 163 173 178 170 167 177 167 170 152 158 160 160 159 180 169 162\n",
       "[39] 178 173 173 171 171 170 160 167 168 166 164 174 180"
      ]
     },
     "metadata": {},
     "output_type": "display_data"
    }
   ],
   "source": [
    "height"
   ]
  },
  {
   "cell_type": "code",
   "execution_count": 96,
   "id": "94c58181",
   "metadata": {},
   "outputs": [],
   "source": [
    "cut = c(149.5, 154.5, 159.5, 164.5, 169.5, 174.5, 179.5, 184.5)"
   ]
  },
  {
   "cell_type": "code",
   "execution_count": 99,
   "id": "d988c00d",
   "metadata": {},
   "outputs": [
    {
     "data": {
      "image/png": "[encoded data removed]",
      "text/plain": [
       "Plot with title \"Histogram of height\""
      ]
     },
     "metadata": {
      "image/png": {
       "height": 420,
       "width": 420
      }
     },
     "output_type": "display_data"
    }
   ],
   "source": [
    "hist(height)"
   ]
  },
  {
   "cell_type": "code",
   "execution_count": 102,
   "id": "7a3842e0",
   "metadata": {},
   "outputs": [
    {
     "data": {
      "image/png": "[encoded data removed]",
      "text/plain": [
       "Plot with title \"Histogram of height\""
      ]
     },
     "metadata": {
      "image/png": {
       "height": 420,
       "width": 420
      }
     },
     "output_type": "display_data"
    }
   ],
   "source": [
    "hist(height, breaks = cut, col = 'pink', probability = F)"
   ]
  },
  {
   "cell_type": "code",
   "execution_count": 101,
   "id": "4e4d9e4b",
   "metadata": {},
   "outputs": [
    {
     "data": {
      "image/png": "[encoded data removed]",
      "text/plain": [
       "Plot with title \"Histogram of height\""
      ]
     },
     "metadata": {
      "image/png": {
       "height": 420,
       "width": 420
      }
     },
     "output_type": "display_data"
    }
   ],
   "source": [
    "hist(height, breaks = cut, col = 'pink', probability = T)"
   ]
  },
  {
   "cell_type": "code",
   "execution_count": 103,
   "id": "66357efc",
   "metadata": {},
   "outputs": [],
   "source": [
    "x = c(45, 86, 34, 98, 67, 78, 56, 45, 85, 75, 64, 75, 75, 75, 58, 45, 83, 74)"
   ]
  },
  {
   "cell_type": "code",
   "execution_count": 106,
   "id": "bf3c3afc",
   "metadata": {},
   "outputs": [
    {
     "data": {
      "image/png": "[encoded data removed]",
      "text/plain": [
       "Plot with title \"Histogram of x\""
      ]
     },
     "metadata": {
      "image/png": {
       "height": 420,
       "width": 420
      }
     },
     "output_type": "display_data"
    }
   ],
   "source": [
    "hist(x, probability = T)\n",
    "lines(density(x))"
   ]
  },
  {
   "cell_type": "code",
   "execution_count": 107,
   "id": "9d59e69e",
   "metadata": {},
   "outputs": [],
   "source": [
    "cut1 = cut(height, breaks = c(150, 155, 160, 165, 170, 175, 180, 185), right = F)"
   ]
  },
  {
   "cell_type": "code",
   "execution_count": 108,
   "id": "d3101f85",
   "metadata": {},
   "outputs": [
    {
     "data": {
      "text/html": [
       "<style>\n",
       ".list-inline {list-style: none; margin:0; padding: 0}\n",
       ".list-inline>li {display: inline-block}\n",
       ".list-inline>li:not(:last-child)::after {content: \"\\00b7\"; padding: 0 .5ex}\n",
       "</style>\n",
       "<ol class=list-inline><li>[180,185)</li><li>[160,165)</li><li>[170,175)</li><li>[160,165)</li><li>[155,160)</li><li>[165,170)</li><li>[160,165)</li><li>[175,180)</li><li>[180,185)</li><li>[175,180)</li><li>[170,175)</li><li>[175,180)</li><li>[160,165)</li><li>[155,160)</li><li>[160,165)</li><li>[160,165)</li><li>[155,160)</li><li>[170,175)</li><li>[160,165)</li><li>[160,165)</li><li>[165,170)</li><li>[165,170)</li><li>[160,165)</li><li>[170,175)</li><li>[175,180)</li><li>[170,175)</li><li>[165,170)</li><li>[175,180)</li><li>[165,170)</li><li>[170,175)</li><li>[150,155)</li><li>[155,160)</li><li>[160,165)</li><li>[160,165)</li><li>[155,160)</li><li>[180,185)</li><li>[165,170)</li><li>[160,165)</li><li>[175,180)</li><li>[170,175)</li><li>[170,175)</li><li>[170,175)</li><li>[170,175)</li><li>[170,175)</li><li>[160,165)</li><li>[165,170)</li><li>[165,170)</li><li>[165,170)</li><li>[160,165)</li><li>[170,175)</li><li>[180,185)</li></ol>\n",
       "\n",
       "<details>\n",
       "\t<summary style=display:list-item;cursor:pointer>\n",
       "\t\t<strong>Levels</strong>:\n",
       "\t</summary>\n",
       "\t<style>\n",
       "\t.list-inline {list-style: none; margin:0; padding: 0}\n",
       "\t.list-inline>li {display: inline-block}\n",
       "\t.list-inline>li:not(:last-child)::after {content: \"\\00b7\"; padding: 0 .5ex}\n",
       "\t</style>\n",
       "\t<ol class=list-inline><li>'[150,155)'</li><li>'[155,160)'</li><li>'[160,165)'</li><li>'[165,170)'</li><li>'[170,175)'</li><li>'[175,180)'</li><li>'[180,185)'</li></ol>\n",
       "</details>"
      ],
      "text/latex": [
       "\\begin{enumerate*}\n",
       "\\item {[}180,185)\n",
       "\\item {[}160,165)\n",
       "\\item {[}170,175)\n",
       "\\item {[}160,165)\n",
       "\\item {[}155,160)\n",
       "\\item {[}165,170)\n",
       "\\item {[}160,165)\n",
       "\\item {[}175,180)\n",
       "\\item {[}180,185)\n",
       "\\item {[}175,180)\n",
       "\\item {[}170,175)\n",
       "\\item {[}175,180)\n",
       "\\item {[}160,165)\n",
       "\\item {[}155,160)\n",
       "\\item {[}160,165)\n",
       "\\item {[}160,165)\n",
       "\\item {[}155,160)\n",
       "\\item {[}170,175)\n",
       "\\item {[}160,165)\n",
       "\\item {[}160,165)\n",
       "\\item {[}165,170)\n",
       "\\item {[}165,170)\n",
       "\\item {[}160,165)\n",
       "\\item {[}170,175)\n",
       "\\item {[}175,180)\n",
       "\\item {[}170,175)\n",
       "\\item {[}165,170)\n",
       "\\item {[}175,180)\n",
       "\\item {[}165,170)\n",
       "\\item {[}170,175)\n",
       "\\item {[}150,155)\n",
       "\\item {[}155,160)\n",
       "\\item {[}160,165)\n",
       "\\item {[}160,165)\n",
       "\\item {[}155,160)\n",
       "\\item {[}180,185)\n",
       "\\item {[}165,170)\n",
       "\\item {[}160,165)\n",
       "\\item {[}175,180)\n",
       "\\item {[}170,175)\n",
       "\\item {[}170,175)\n",
       "\\item {[}170,175)\n",
       "\\item {[}170,175)\n",
       "\\item {[}170,175)\n",
       "\\item {[}160,165)\n",
       "\\item {[}165,170)\n",
       "\\item {[}165,170)\n",
       "\\item {[}165,170)\n",
       "\\item {[}160,165)\n",
       "\\item {[}170,175)\n",
       "\\item {[}180,185)\n",
       "\\end{enumerate*}\n",
       "\n",
       "\\emph{Levels}: \\begin{enumerate*}\n",
       "\\item '{[}150,155)'\n",
       "\\item '{[}155,160)'\n",
       "\\item '{[}160,165)'\n",
       "\\item '{[}165,170)'\n",
       "\\item '{[}170,175)'\n",
       "\\item '{[}175,180)'\n",
       "\\item '{[}180,185)'\n",
       "\\end{enumerate*}\n"
      ],
      "text/markdown": [
       "1. [180,185)\n",
       "2. [160,165)\n",
       "3. [170,175)\n",
       "4. [160,165)\n",
       "5. [155,160)\n",
       "6. [165,170)\n",
       "7. [160,165)\n",
       "8. [175,180)\n",
       "9. [180,185)\n",
       "10. [175,180)\n",
       "11. [170,175)\n",
       "12. [175,180)\n",
       "13. [160,165)\n",
       "14. [155,160)\n",
       "15. [160,165)\n",
       "16. [160,165)\n",
       "17. [155,160)\n",
       "18. [170,175)\n",
       "19. [160,165)\n",
       "20. [160,165)\n",
       "21. [165,170)\n",
       "22. [165,170)\n",
       "23. [160,165)\n",
       "24. [170,175)\n",
       "25. [175,180)\n",
       "26. [170,175)\n",
       "27. [165,170)\n",
       "28. [175,180)\n",
       "29. [165,170)\n",
       "30. [170,175)\n",
       "31. [150,155)\n",
       "32. [155,160)\n",
       "33. [160,165)\n",
       "34. [160,165)\n",
       "35. [155,160)\n",
       "36. [180,185)\n",
       "37. [165,170)\n",
       "38. [160,165)\n",
       "39. [175,180)\n",
       "40. [170,175)\n",
       "41. [170,175)\n",
       "42. [170,175)\n",
       "43. [170,175)\n",
       "44. [170,175)\n",
       "45. [160,165)\n",
       "46. [165,170)\n",
       "47. [165,170)\n",
       "48. [165,170)\n",
       "49. [160,165)\n",
       "50. [170,175)\n",
       "51. [180,185)\n",
       "\n",
       "\n",
       "\n",
       "**Levels**: 1. '[150,155)'\n",
       "2. '[155,160)'\n",
       "3. '[160,165)'\n",
       "4. '[165,170)'\n",
       "5. '[170,175)'\n",
       "6. '[175,180)'\n",
       "7. '[180,185)'\n",
       "\n",
       "\n"
      ],
      "text/plain": [
       " [1] [180,185) [160,165) [170,175) [160,165) [155,160) [165,170) [160,165)\n",
       " [8] [175,180) [180,185) [175,180) [170,175) [175,180) [160,165) [155,160)\n",
       "[15] [160,165) [160,165) [155,160) [170,175) [160,165) [160,165) [165,170)\n",
       "[22] [165,170) [160,165) [170,175) [175,180) [170,175) [165,170) [175,180)\n",
       "[29] [165,170) [170,175) [150,155) [155,160) [160,165) [160,165) [155,160)\n",
       "[36] [180,185) [165,170) [160,165) [175,180) [170,175) [170,175) [170,175)\n",
       "[43] [170,175) [170,175) [160,165) [165,170) [165,170) [165,170) [160,165)\n",
       "[50] [170,175) [180,185)\n",
       "7 Levels: [150,155) [155,160) [160,165) [165,170) [170,175) ... [180,185)"
      ]
     },
     "metadata": {},
     "output_type": "display_data"
    }
   ],
   "source": [
    "cut1"
   ]
  },
  {
   "cell_type": "code",
   "execution_count": 109,
   "id": "e84b73e2",
   "metadata": {},
   "outputs": [
    {
     "data": {
      "text/html": [
       "<style>\n",
       ".list-inline {list-style: none; margin:0; padding: 0}\n",
       ".list-inline>li {display: inline-block}\n",
       ".list-inline>li:not(:last-child)::after {content: \"\\00b7\"; padding: 0 .5ex}\n",
       "</style>\n",
       "<ol class=list-inline><li>(180,185]</li><li>(160,165]</li><li>(165,170]</li><li>(155,160]</li><li>(155,160]</li><li>(165,170]</li><li>(160,165]</li><li>(175,180]</li><li>(180,185]</li><li>(175,180]</li><li>(170,175]</li><li>(175,180]</li><li>(160,165]</li><li>(155,160]</li><li>(155,160]</li><li>(155,160]</li><li>(155,160]</li><li>(170,175]</li><li>(155,160]</li><li>(160,165]</li><li>(165,170]</li><li>(160,165]</li><li>(160,165]</li><li>(170,175]</li><li>(175,180]</li><li>(165,170]</li><li>(165,170]</li><li>(175,180]</li><li>(165,170]</li><li>(165,170]</li><li>(150,155]</li><li>(155,160]</li><li>(155,160]</li><li>(155,160]</li><li>(155,160]</li><li>(175,180]</li><li>(165,170]</li><li>(160,165]</li><li>(175,180]</li><li>(170,175]</li><li>(170,175]</li><li>(170,175]</li><li>(170,175]</li><li>(165,170]</li><li>(155,160]</li><li>(165,170]</li><li>(165,170]</li><li>(165,170]</li><li>(160,165]</li><li>(170,175]</li><li>(175,180]</li></ol>\n",
       "\n",
       "<details>\n",
       "\t<summary style=display:list-item;cursor:pointer>\n",
       "\t\t<strong>Levels</strong>:\n",
       "\t</summary>\n",
       "\t<style>\n",
       "\t.list-inline {list-style: none; margin:0; padding: 0}\n",
       "\t.list-inline>li {display: inline-block}\n",
       "\t.list-inline>li:not(:last-child)::after {content: \"\\00b7\"; padding: 0 .5ex}\n",
       "\t</style>\n",
       "\t<ol class=list-inline><li>'(150,155]'</li><li>'(155,160]'</li><li>'(160,165]'</li><li>'(165,170]'</li><li>'(170,175]'</li><li>'(175,180]'</li><li>'(180,185]'</li></ol>\n",
       "</details>"
      ],
      "text/latex": [
       "\\begin{enumerate*}\n",
       "\\item (180,185{]}\n",
       "\\item (160,165{]}\n",
       "\\item (165,170{]}\n",
       "\\item (155,160{]}\n",
       "\\item (155,160{]}\n",
       "\\item (165,170{]}\n",
       "\\item (160,165{]}\n",
       "\\item (175,180{]}\n",
       "\\item (180,185{]}\n",
       "\\item (175,180{]}\n",
       "\\item (170,175{]}\n",
       "\\item (175,180{]}\n",
       "\\item (160,165{]}\n",
       "\\item (155,160{]}\n",
       "\\item (155,160{]}\n",
       "\\item (155,160{]}\n",
       "\\item (155,160{]}\n",
       "\\item (170,175{]}\n",
       "\\item (155,160{]}\n",
       "\\item (160,165{]}\n",
       "\\item (165,170{]}\n",
       "\\item (160,165{]}\n",
       "\\item (160,165{]}\n",
       "\\item (170,175{]}\n",
       "\\item (175,180{]}\n",
       "\\item (165,170{]}\n",
       "\\item (165,170{]}\n",
       "\\item (175,180{]}\n",
       "\\item (165,170{]}\n",
       "\\item (165,170{]}\n",
       "\\item (150,155{]}\n",
       "\\item (155,160{]}\n",
       "\\item (155,160{]}\n",
       "\\item (155,160{]}\n",
       "\\item (155,160{]}\n",
       "\\item (175,180{]}\n",
       "\\item (165,170{]}\n",
       "\\item (160,165{]}\n",
       "\\item (175,180{]}\n",
       "\\item (170,175{]}\n",
       "\\item (170,175{]}\n",
       "\\item (170,175{]}\n",
       "\\item (170,175{]}\n",
       "\\item (165,170{]}\n",
       "\\item (155,160{]}\n",
       "\\item (165,170{]}\n",
       "\\item (165,170{]}\n",
       "\\item (165,170{]}\n",
       "\\item (160,165{]}\n",
       "\\item (170,175{]}\n",
       "\\item (175,180{]}\n",
       "\\end{enumerate*}\n",
       "\n",
       "\\emph{Levels}: \\begin{enumerate*}\n",
       "\\item '(150,155{]}'\n",
       "\\item '(155,160{]}'\n",
       "\\item '(160,165{]}'\n",
       "\\item '(165,170{]}'\n",
       "\\item '(170,175{]}'\n",
       "\\item '(175,180{]}'\n",
       "\\item '(180,185{]}'\n",
       "\\end{enumerate*}\n"
      ],
      "text/markdown": [
       "1. (180,185]\n",
       "2. (160,165]\n",
       "3. (165,170]\n",
       "4. (155,160]\n",
       "5. (155,160]\n",
       "6. (165,170]\n",
       "7. (160,165]\n",
       "8. (175,180]\n",
       "9. (180,185]\n",
       "10. (175,180]\n",
       "11. (170,175]\n",
       "12. (175,180]\n",
       "13. (160,165]\n",
       "14. (155,160]\n",
       "15. (155,160]\n",
       "16. (155,160]\n",
       "17. (155,160]\n",
       "18. (170,175]\n",
       "19. (155,160]\n",
       "20. (160,165]\n",
       "21. (165,170]\n",
       "22. (160,165]\n",
       "23. (160,165]\n",
       "24. (170,175]\n",
       "25. (175,180]\n",
       "26. (165,170]\n",
       "27. (165,170]\n",
       "28. (175,180]\n",
       "29. (165,170]\n",
       "30. (165,170]\n",
       "31. (150,155]\n",
       "32. (155,160]\n",
       "33. (155,160]\n",
       "34. (155,160]\n",
       "35. (155,160]\n",
       "36. (175,180]\n",
       "37. (165,170]\n",
       "38. (160,165]\n",
       "39. (175,180]\n",
       "40. (170,175]\n",
       "41. (170,175]\n",
       "42. (170,175]\n",
       "43. (170,175]\n",
       "44. (165,170]\n",
       "45. (155,160]\n",
       "46. (165,170]\n",
       "47. (165,170]\n",
       "48. (165,170]\n",
       "49. (160,165]\n",
       "50. (170,175]\n",
       "51. (175,180]\n",
       "\n",
       "\n",
       "\n",
       "**Levels**: 1. '(150,155]'\n",
       "2. '(155,160]'\n",
       "3. '(160,165]'\n",
       "4. '(165,170]'\n",
       "5. '(170,175]'\n",
       "6. '(175,180]'\n",
       "7. '(180,185]'\n",
       "\n",
       "\n"
      ],
      "text/plain": [
       " [1] (180,185] (160,165] (165,170] (155,160] (155,160] (165,170] (160,165]\n",
       " [8] (175,180] (180,185] (175,180] (170,175] (175,180] (160,165] (155,160]\n",
       "[15] (155,160] (155,160] (155,160] (170,175] (155,160] (160,165] (165,170]\n",
       "[22] (160,165] (160,165] (170,175] (175,180] (165,170] (165,170] (175,180]\n",
       "[29] (165,170] (165,170] (150,155] (155,160] (155,160] (155,160] (155,160]\n",
       "[36] (175,180] (165,170] (160,165] (175,180] (170,175] (170,175] (170,175]\n",
       "[43] (170,175] (165,170] (155,160] (165,170] (165,170] (165,170] (160,165]\n",
       "[50] (170,175] (175,180]\n",
       "7 Levels: (150,155] (155,160] (160,165] (165,170] (170,175] ... (180,185]"
      ]
     },
     "metadata": {},
     "output_type": "display_data"
    }
   ],
   "source": [
    "cut1 = cut(height, breaks = c(150, 155, 160, 165, 170, 175, 180, 185))\n",
    "cut1"
   ]
  },
  {
   "cell_type": "code",
   "execution_count": 111,
   "id": "8c49efbd",
   "metadata": {},
   "outputs": [],
   "source": [
    "cut1 = cut(height, breaks = c(150, 155, 160, 165, 170, 175, 180, 185), right = T)"
   ]
  },
  {
   "cell_type": "code",
   "execution_count": 112,
   "id": "9f07eeae",
   "metadata": {},
   "outputs": [
    {
     "data": {
      "text/html": [
       "<style>\n",
       ".list-inline {list-style: none; margin:0; padding: 0}\n",
       ".list-inline>li {display: inline-block}\n",
       ".list-inline>li:not(:last-child)::after {content: \"\\00b7\"; padding: 0 .5ex}\n",
       "</style>\n",
       "<ol class=list-inline><li>(180,185]</li><li>(160,165]</li><li>(165,170]</li><li>(155,160]</li><li>(155,160]</li><li>(165,170]</li><li>(160,165]</li><li>(175,180]</li><li>(180,185]</li><li>(175,180]</li><li>(170,175]</li><li>(175,180]</li><li>(160,165]</li><li>(155,160]</li><li>(155,160]</li><li>(155,160]</li><li>(155,160]</li><li>(170,175]</li><li>(155,160]</li><li>(160,165]</li><li>(165,170]</li><li>(160,165]</li><li>(160,165]</li><li>(170,175]</li><li>(175,180]</li><li>(165,170]</li><li>(165,170]</li><li>(175,180]</li><li>(165,170]</li><li>(165,170]</li><li>(150,155]</li><li>(155,160]</li><li>(155,160]</li><li>(155,160]</li><li>(155,160]</li><li>(175,180]</li><li>(165,170]</li><li>(160,165]</li><li>(175,180]</li><li>(170,175]</li><li>(170,175]</li><li>(170,175]</li><li>(170,175]</li><li>(165,170]</li><li>(155,160]</li><li>(165,170]</li><li>(165,170]</li><li>(165,170]</li><li>(160,165]</li><li>(170,175]</li><li>(175,180]</li></ol>\n",
       "\n",
       "<details>\n",
       "\t<summary style=display:list-item;cursor:pointer>\n",
       "\t\t<strong>Levels</strong>:\n",
       "\t</summary>\n",
       "\t<style>\n",
       "\t.list-inline {list-style: none; margin:0; padding: 0}\n",
       "\t.list-inline>li {display: inline-block}\n",
       "\t.list-inline>li:not(:last-child)::after {content: \"\\00b7\"; padding: 0 .5ex}\n",
       "\t</style>\n",
       "\t<ol class=list-inline><li>'(150,155]'</li><li>'(155,160]'</li><li>'(160,165]'</li><li>'(165,170]'</li><li>'(170,175]'</li><li>'(175,180]'</li><li>'(180,185]'</li></ol>\n",
       "</details>"
      ],
      "text/latex": [
       "\\begin{enumerate*}\n",
       "\\item (180,185{]}\n",
       "\\item (160,165{]}\n",
       "\\item (165,170{]}\n",
       "\\item (155,160{]}\n",
       "\\item (155,160{]}\n",
       "\\item (165,170{]}\n",
       "\\item (160,165{]}\n",
       "\\item (175,180{]}\n",
       "\\item (180,185{]}\n",
       "\\item (175,180{]}\n",
       "\\item (170,175{]}\n",
       "\\item (175,180{]}\n",
       "\\item (160,165{]}\n",
       "\\item (155,160{]}\n",
       "\\item (155,160{]}\n",
       "\\item (155,160{]}\n",
       "\\item (155,160{]}\n",
       "\\item (170,175{]}\n",
       "\\item (155,160{]}\n",
       "\\item (160,165{]}\n",
       "\\item (165,170{]}\n",
       "\\item (160,165{]}\n",
       "\\item (160,165{]}\n",
       "\\item (170,175{]}\n",
       "\\item (175,180{]}\n",
       "\\item (165,170{]}\n",
       "\\item (165,170{]}\n",
       "\\item (175,180{]}\n",
       "\\item (165,170{]}\n",
       "\\item (165,170{]}\n",
       "\\item (150,155{]}\n",
       "\\item (155,160{]}\n",
       "\\item (155,160{]}\n",
       "\\item (155,160{]}\n",
       "\\item (155,160{]}\n",
       "\\item (175,180{]}\n",
       "\\item (165,170{]}\n",
       "\\item (160,165{]}\n",
       "\\item (175,180{]}\n",
       "\\item (170,175{]}\n",
       "\\item (170,175{]}\n",
       "\\item (170,175{]}\n",
       "\\item (170,175{]}\n",
       "\\item (165,170{]}\n",
       "\\item (155,160{]}\n",
       "\\item (165,170{]}\n",
       "\\item (165,170{]}\n",
       "\\item (165,170{]}\n",
       "\\item (160,165{]}\n",
       "\\item (170,175{]}\n",
       "\\item (175,180{]}\n",
       "\\end{enumerate*}\n",
       "\n",
       "\\emph{Levels}: \\begin{enumerate*}\n",
       "\\item '(150,155{]}'\n",
       "\\item '(155,160{]}'\n",
       "\\item '(160,165{]}'\n",
       "\\item '(165,170{]}'\n",
       "\\item '(170,175{]}'\n",
       "\\item '(175,180{]}'\n",
       "\\item '(180,185{]}'\n",
       "\\end{enumerate*}\n"
      ],
      "text/markdown": [
       "1. (180,185]\n",
       "2. (160,165]\n",
       "3. (165,170]\n",
       "4. (155,160]\n",
       "5. (155,160]\n",
       "6. (165,170]\n",
       "7. (160,165]\n",
       "8. (175,180]\n",
       "9. (180,185]\n",
       "10. (175,180]\n",
       "11. (170,175]\n",
       "12. (175,180]\n",
       "13. (160,165]\n",
       "14. (155,160]\n",
       "15. (155,160]\n",
       "16. (155,160]\n",
       "17. (155,160]\n",
       "18. (170,175]\n",
       "19. (155,160]\n",
       "20. (160,165]\n",
       "21. (165,170]\n",
       "22. (160,165]\n",
       "23. (160,165]\n",
       "24. (170,175]\n",
       "25. (175,180]\n",
       "26. (165,170]\n",
       "27. (165,170]\n",
       "28. (175,180]\n",
       "29. (165,170]\n",
       "30. (165,170]\n",
       "31. (150,155]\n",
       "32. (155,160]\n",
       "33. (155,160]\n",
       "34. (155,160]\n",
       "35. (155,160]\n",
       "36. (175,180]\n",
       "37. (165,170]\n",
       "38. (160,165]\n",
       "39. (175,180]\n",
       "40. (170,175]\n",
       "41. (170,175]\n",
       "42. (170,175]\n",
       "43. (170,175]\n",
       "44. (165,170]\n",
       "45. (155,160]\n",
       "46. (165,170]\n",
       "47. (165,170]\n",
       "48. (165,170]\n",
       "49. (160,165]\n",
       "50. (170,175]\n",
       "51. (175,180]\n",
       "\n",
       "\n",
       "\n",
       "**Levels**: 1. '(150,155]'\n",
       "2. '(155,160]'\n",
       "3. '(160,165]'\n",
       "4. '(165,170]'\n",
       "5. '(170,175]'\n",
       "6. '(175,180]'\n",
       "7. '(180,185]'\n",
       "\n",
       "\n"
      ],
      "text/plain": [
       " [1] (180,185] (160,165] (165,170] (155,160] (155,160] (165,170] (160,165]\n",
       " [8] (175,180] (180,185] (175,180] (170,175] (175,180] (160,165] (155,160]\n",
       "[15] (155,160] (155,160] (155,160] (170,175] (155,160] (160,165] (165,170]\n",
       "[22] (160,165] (160,165] (170,175] (175,180] (165,170] (165,170] (175,180]\n",
       "[29] (165,170] (165,170] (150,155] (155,160] (155,160] (155,160] (155,160]\n",
       "[36] (175,180] (165,170] (160,165] (175,180] (170,175] (170,175] (170,175]\n",
       "[43] (170,175] (165,170] (155,160] (165,170] (165,170] (165,170] (160,165]\n",
       "[50] (170,175] (175,180]\n",
       "7 Levels: (150,155] (155,160] (160,165] (165,170] (170,175] ... (180,185]"
      ]
     },
     "metadata": {},
     "output_type": "display_data"
    }
   ],
   "source": [
    "cut1"
   ]
  },
  {
   "cell_type": "code",
   "execution_count": 113,
   "id": "d0b2b2d5",
   "metadata": {},
   "outputs": [],
   "source": [
    "freq = table(cut1)"
   ]
  },
  {
   "cell_type": "code",
   "execution_count": 114,
   "id": "1079d61b",
   "metadata": {},
   "outputs": [
    {
     "data": {
      "text/plain": [
       "cut1\n",
       "(150,155] (155,160] (160,165] (165,170] (170,175] (175,180] (180,185] \n",
       "        1        12         8        12         8         8         2 "
      ]
     },
     "metadata": {},
     "output_type": "display_data"
    }
   ],
   "source": [
    "freq"
   ]
  },
  {
   "cell_type": "code",
   "execution_count": 115,
   "id": "9b850dce",
   "metadata": {},
   "outputs": [],
   "source": [
    "prop = prop.table(freq)"
   ]
  },
  {
   "cell_type": "code",
   "execution_count": 116,
   "id": "80b5147a",
   "metadata": {},
   "outputs": [
    {
     "data": {
      "text/plain": [
       "cut1\n",
       " (150,155]  (155,160]  (160,165]  (165,170]  (170,175]  (175,180]  (180,185] \n",
       "0.01960784 0.23529412 0.15686275 0.23529412 0.15686275 0.15686275 0.03921569 "
      ]
     },
     "metadata": {},
     "output_type": "display_data"
    }
   ],
   "source": [
    "prop"
   ]
  },
  {
   "cell_type": "code",
   "execution_count": 117,
   "id": "84a5c5e9",
   "metadata": {},
   "outputs": [
    {
     "data": {
      "text/html": [
       "<style>\n",
       ".list-inline {list-style: none; margin:0; padding: 0}\n",
       ".list-inline>li {display: inline-block}\n",
       ".list-inline>li:not(:last-child)::after {content: \"\\00b7\"; padding: 0 .5ex}\n",
       "</style>\n",
       "<ol class=list-inline><li>(180,185]</li><li>(160,165]</li><li>(165,170]</li><li>(155,160]</li><li>(155,160]</li><li>(165,170]</li><li>(160,165]</li><li>(175,180]</li><li>(180,185]</li><li>(175,180]</li><li>(170,175]</li><li>(175,180]</li><li>(160,165]</li><li>(155,160]</li><li>(155,160]</li><li>(155,160]</li><li>(155,160]</li><li>(170,175]</li><li>(155,160]</li><li>(160,165]</li><li>(165,170]</li><li>(160,165]</li><li>(160,165]</li><li>(170,175]</li><li>(175,180]</li><li>(165,170]</li><li>(165,170]</li><li>(175,180]</li><li>(165,170]</li><li>(165,170]</li><li>(150,155]</li><li>(155,160]</li><li>(155,160]</li><li>(155,160]</li><li>(155,160]</li><li>(175,180]</li><li>(165,170]</li><li>(160,165]</li><li>(175,180]</li><li>(170,175]</li><li>(170,175]</li><li>(170,175]</li><li>(170,175]</li><li>(165,170]</li><li>(155,160]</li><li>(165,170]</li><li>(165,170]</li><li>(165,170]</li><li>(160,165]</li><li>(170,175]</li><li>(175,180]</li></ol>\n",
       "\n",
       "<details>\n",
       "\t<summary style=display:list-item;cursor:pointer>\n",
       "\t\t<strong>Levels</strong>:\n",
       "\t</summary>\n",
       "\t<style>\n",
       "\t.list-inline {list-style: none; margin:0; padding: 0}\n",
       "\t.list-inline>li {display: inline-block}\n",
       "\t.list-inline>li:not(:last-child)::after {content: \"\\00b7\"; padding: 0 .5ex}\n",
       "\t</style>\n",
       "\t<ol class=list-inline><li>'(150,155]'</li><li>'(155,160]'</li><li>'(160,165]'</li><li>'(165,170]'</li><li>'(170,175]'</li><li>'(175,180]'</li><li>'(180,185]'</li></ol>\n",
       "</details>"
      ],
      "text/latex": [
       "\\begin{enumerate*}\n",
       "\\item (180,185{]}\n",
       "\\item (160,165{]}\n",
       "\\item (165,170{]}\n",
       "\\item (155,160{]}\n",
       "\\item (155,160{]}\n",
       "\\item (165,170{]}\n",
       "\\item (160,165{]}\n",
       "\\item (175,180{]}\n",
       "\\item (180,185{]}\n",
       "\\item (175,180{]}\n",
       "\\item (170,175{]}\n",
       "\\item (175,180{]}\n",
       "\\item (160,165{]}\n",
       "\\item (155,160{]}\n",
       "\\item (155,160{]}\n",
       "\\item (155,160{]}\n",
       "\\item (155,160{]}\n",
       "\\item (170,175{]}\n",
       "\\item (155,160{]}\n",
       "\\item (160,165{]}\n",
       "\\item (165,170{]}\n",
       "\\item (160,165{]}\n",
       "\\item (160,165{]}\n",
       "\\item (170,175{]}\n",
       "\\item (175,180{]}\n",
       "\\item (165,170{]}\n",
       "\\item (165,170{]}\n",
       "\\item (175,180{]}\n",
       "\\item (165,170{]}\n",
       "\\item (165,170{]}\n",
       "\\item (150,155{]}\n",
       "\\item (155,160{]}\n",
       "\\item (155,160{]}\n",
       "\\item (155,160{]}\n",
       "\\item (155,160{]}\n",
       "\\item (175,180{]}\n",
       "\\item (165,170{]}\n",
       "\\item (160,165{]}\n",
       "\\item (175,180{]}\n",
       "\\item (170,175{]}\n",
       "\\item (170,175{]}\n",
       "\\item (170,175{]}\n",
       "\\item (170,175{]}\n",
       "\\item (165,170{]}\n",
       "\\item (155,160{]}\n",
       "\\item (165,170{]}\n",
       "\\item (165,170{]}\n",
       "\\item (165,170{]}\n",
       "\\item (160,165{]}\n",
       "\\item (170,175{]}\n",
       "\\item (175,180{]}\n",
       "\\end{enumerate*}\n",
       "\n",
       "\\emph{Levels}: \\begin{enumerate*}\n",
       "\\item '(150,155{]}'\n",
       "\\item '(155,160{]}'\n",
       "\\item '(160,165{]}'\n",
       "\\item '(165,170{]}'\n",
       "\\item '(170,175{]}'\n",
       "\\item '(175,180{]}'\n",
       "\\item '(180,185{]}'\n",
       "\\end{enumerate*}\n"
      ],
      "text/markdown": [
       "1. (180,185]\n",
       "2. (160,165]\n",
       "3. (165,170]\n",
       "4. (155,160]\n",
       "5. (155,160]\n",
       "6. (165,170]\n",
       "7. (160,165]\n",
       "8. (175,180]\n",
       "9. (180,185]\n",
       "10. (175,180]\n",
       "11. (170,175]\n",
       "12. (175,180]\n",
       "13. (160,165]\n",
       "14. (155,160]\n",
       "15. (155,160]\n",
       "16. (155,160]\n",
       "17. (155,160]\n",
       "18. (170,175]\n",
       "19. (155,160]\n",
       "20. (160,165]\n",
       "21. (165,170]\n",
       "22. (160,165]\n",
       "23. (160,165]\n",
       "24. (170,175]\n",
       "25. (175,180]\n",
       "26. (165,170]\n",
       "27. (165,170]\n",
       "28. (175,180]\n",
       "29. (165,170]\n",
       "30. (165,170]\n",
       "31. (150,155]\n",
       "32. (155,160]\n",
       "33. (155,160]\n",
       "34. (155,160]\n",
       "35. (155,160]\n",
       "36. (175,180]\n",
       "37. (165,170]\n",
       "38. (160,165]\n",
       "39. (175,180]\n",
       "40. (170,175]\n",
       "41. (170,175]\n",
       "42. (170,175]\n",
       "43. (170,175]\n",
       "44. (165,170]\n",
       "45. (155,160]\n",
       "46. (165,170]\n",
       "47. (165,170]\n",
       "48. (165,170]\n",
       "49. (160,165]\n",
       "50. (170,175]\n",
       "51. (175,180]\n",
       "\n",
       "\n",
       "\n",
       "**Levels**: 1. '(150,155]'\n",
       "2. '(155,160]'\n",
       "3. '(160,165]'\n",
       "4. '(165,170]'\n",
       "5. '(170,175]'\n",
       "6. '(175,180]'\n",
       "7. '(180,185]'\n",
       "\n",
       "\n"
      ],
      "text/plain": [
       " [1] (180,185] (160,165] (165,170] (155,160] (155,160] (165,170] (160,165]\n",
       " [8] (175,180] (180,185] (175,180] (170,175] (175,180] (160,165] (155,160]\n",
       "[15] (155,160] (155,160] (155,160] (170,175] (155,160] (160,165] (165,170]\n",
       "[22] (160,165] (160,165] (170,175] (175,180] (165,170] (165,170] (175,180]\n",
       "[29] (165,170] (165,170] (150,155] (155,160] (155,160] (155,160] (155,160]\n",
       "[36] (175,180] (165,170] (160,165] (175,180] (170,175] (170,175] (170,175]\n",
       "[43] (170,175] (165,170] (155,160] (165,170] (165,170] (165,170] (160,165]\n",
       "[50] (170,175] (175,180]\n",
       "7 Levels: (150,155] (155,160] (160,165] (165,170] (170,175] ... (180,185]"
      ]
     },
     "metadata": {},
     "output_type": "display_data"
    }
   ],
   "source": [
    "cut1"
   ]
  },
  {
   "cell_type": "code",
   "execution_count": 118,
   "id": "50e1d4a5",
   "metadata": {},
   "outputs": [
    {
     "data": {
      "text/html": [
       "<table class=\"dataframe\">\n",
       "<caption>A matrix: 7 × 2 of type dbl</caption>\n",
       "<thead>\n",
       "\t<tr><th></th><th scope=col>freq</th><th scope=col>prop</th></tr>\n",
       "</thead>\n",
       "<tbody>\n",
       "\t<tr><th scope=row>(150,155]</th><td> 1</td><td>0.01960784</td></tr>\n",
       "\t<tr><th scope=row>(155,160]</th><td>12</td><td>0.23529412</td></tr>\n",
       "\t<tr><th scope=row>(160,165]</th><td> 8</td><td>0.15686275</td></tr>\n",
       "\t<tr><th scope=row>(165,170]</th><td>12</td><td>0.23529412</td></tr>\n",
       "\t<tr><th scope=row>(170,175]</th><td> 8</td><td>0.15686275</td></tr>\n",
       "\t<tr><th scope=row>(175,180]</th><td> 8</td><td>0.15686275</td></tr>\n",
       "\t<tr><th scope=row>(180,185]</th><td> 2</td><td>0.03921569</td></tr>\n",
       "</tbody>\n",
       "</table>\n"
      ],
      "text/latex": [
       "A matrix: 7 × 2 of type dbl\n",
       "\\begin{tabular}{r|ll}\n",
       "  & freq & prop\\\\\n",
       "\\hline\n",
       "\t(150,155{]} &  1 & 0.01960784\\\\\n",
       "\t(155,160{]} & 12 & 0.23529412\\\\\n",
       "\t(160,165{]} &  8 & 0.15686275\\\\\n",
       "\t(165,170{]} & 12 & 0.23529412\\\\\n",
       "\t(170,175{]} &  8 & 0.15686275\\\\\n",
       "\t(175,180{]} &  8 & 0.15686275\\\\\n",
       "\t(180,185{]} &  2 & 0.03921569\\\\\n",
       "\\end{tabular}\n"
      ],
      "text/markdown": [
       "\n",
       "A matrix: 7 × 2 of type dbl\n",
       "\n",
       "| <!--/--> | freq | prop |\n",
       "|---|---|---|\n",
       "| (150,155] |  1 | 0.01960784 |\n",
       "| (155,160] | 12 | 0.23529412 |\n",
       "| (160,165] |  8 | 0.15686275 |\n",
       "| (165,170] | 12 | 0.23529412 |\n",
       "| (170,175] |  8 | 0.15686275 |\n",
       "| (175,180] |  8 | 0.15686275 |\n",
       "| (180,185] |  2 | 0.03921569 |\n",
       "\n"
      ],
      "text/plain": [
       "          freq prop      \n",
       "(150,155]  1   0.01960784\n",
       "(155,160] 12   0.23529412\n",
       "(160,165]  8   0.15686275\n",
       "(165,170] 12   0.23529412\n",
       "(170,175]  8   0.15686275\n",
       "(175,180]  8   0.15686275\n",
       "(180,185]  2   0.03921569"
      ]
     },
     "metadata": {},
     "output_type": "display_data"
    }
   ],
   "source": [
    "cbind(freq, prop)"
   ]
  },
  {
   "cell_type": "code",
   "execution_count": 119,
   "id": "c4f817a6",
   "metadata": {},
   "outputs": [
    {
     "data": {
      "image/png": "[encoded data removed]",
      "text/plain": [
       "Plot with title \"Histogram of prop\""
      ]
     },
     "metadata": {
      "image/png": {
       "height": 420,
       "width": 420
      }
     },
     "output_type": "display_data"
    }
   ],
   "source": [
    "hist(prop)"
   ]
  },
  {
   "cell_type": "code",
   "execution_count": 120,
   "id": "bff295ff",
   "metadata": {},
   "outputs": [
    {
     "data": {
      "text/html": [
       "67.6666666666667"
      ],
      "text/latex": [
       "67.6666666666667"
      ],
      "text/markdown": [
       "67.6666666666667"
      ],
      "text/plain": [
       "[1] 67.66667"
      ]
     },
     "metadata": {},
     "output_type": "display_data"
    }
   ],
   "source": [
    "mean(x)"
   ]
  },
  {
   "cell_type": "code",
   "execution_count": 121,
   "id": "1d866e06",
   "metadata": {},
   "outputs": [
    {
     "data": {
      "text/html": [
       "74.5"
      ],
      "text/latex": [
       "74.5"
      ],
      "text/markdown": [
       "74.5"
      ],
      "text/plain": [
       "[1] 74.5"
      ]
     },
     "metadata": {},
     "output_type": "display_data"
    }
   ],
   "source": [
    "median(x)"
   ]
  },
  {
   "cell_type": "code",
   "execution_count": 122,
   "id": "f9e5b9e4",
   "metadata": {},
   "outputs": [],
   "source": [
    "y = c(2, 2, 8, 20, 58)"
   ]
  },
  {
   "cell_type": "code",
   "execution_count": 123,
   "id": "0f0189fd",
   "metadata": {},
   "outputs": [
    {
     "data": {
      "text/html": [
       "<style>\n",
       ".list-inline {list-style: none; margin:0; padding: 0}\n",
       ".list-inline>li {display: inline-block}\n",
       ".list-inline>li:not(:last-child)::after {content: \"\\00b7\"; padding: 0 .5ex}\n",
       "</style>\n",
       "<ol class=list-inline><li>2</li><li>2</li><li>8</li><li>20</li><li>58</li></ol>\n"
      ],
      "text/latex": [
       "\\begin{enumerate*}\n",
       "\\item 2\n",
       "\\item 2\n",
       "\\item 8\n",
       "\\item 20\n",
       "\\item 58\n",
       "\\end{enumerate*}\n"
      ],
      "text/markdown": [
       "1. 2\n",
       "2. 2\n",
       "3. 8\n",
       "4. 20\n",
       "5. 58\n",
       "\n",
       "\n"
      ],
      "text/plain": [
       "[1]  2  2  8 20 58"
      ]
     },
     "metadata": {},
     "output_type": "display_data"
    }
   ],
   "source": [
    "y"
   ]
  },
  {
   "cell_type": "code",
   "execution_count": 124,
   "id": "ee2799a7",
   "metadata": {},
   "outputs": [
    {
     "data": {
      "text/html": [
       "18"
      ],
      "text/latex": [
       "18"
      ],
      "text/markdown": [
       "18"
      ],
      "text/plain": [
       "[1] 18"
      ]
     },
     "metadata": {},
     "output_type": "display_data"
    }
   ],
   "source": [
    "mean(y)"
   ]
  },
  {
   "cell_type": "code",
   "execution_count": 125,
   "id": "e49bd569",
   "metadata": {},
   "outputs": [
    {
     "data": {
      "text/html": [
       "8"
      ],
      "text/latex": [
       "8"
      ],
      "text/markdown": [
       "8"
      ],
      "text/plain": [
       "[1] 8"
      ]
     },
     "metadata": {},
     "output_type": "display_data"
    }
   ],
   "source": [
    "median(y)"
   ]
  },
  {
   "cell_type": "code",
   "execution_count": 126,
   "id": "71926a56",
   "metadata": {},
   "outputs": [
    {
     "data": {
      "text/html": [
       "98"
      ],
      "text/latex": [
       "98"
      ],
      "text/markdown": [
       "98"
      ],
      "text/plain": [
       "[1] 98"
      ]
     },
     "metadata": {},
     "output_type": "display_data"
    }
   ],
   "source": [
    "max(x)"
   ]
  },
  {
   "cell_type": "code",
   "execution_count": 127,
   "id": "0a0a8461",
   "metadata": {},
   "outputs": [
    {
     "data": {
      "text/html": [
       "2"
      ],
      "text/latex": [
       "2"
      ],
      "text/markdown": [
       "2"
      ],
      "text/plain": [
       "[1] 2"
      ]
     },
     "metadata": {},
     "output_type": "display_data"
    }
   ],
   "source": [
    "min(y)"
   ]
  },
  {
   "cell_type": "code",
   "execution_count": 128,
   "id": "a629dedb",
   "metadata": {},
   "outputs": [
    {
     "data": {
      "text/html": [
       "64"
      ],
      "text/latex": [
       "64"
      ],
      "text/markdown": [
       "64"
      ],
      "text/plain": [
       "[1] 64"
      ]
     },
     "metadata": {},
     "output_type": "display_data"
    }
   ],
   "source": [
    "diff(range(x))"
   ]
  },
  {
   "cell_type": "code",
   "execution_count": 129,
   "id": "56b44188",
   "metadata": {},
   "outputs": [
    {
     "data": {
      "text/html": [
       "<style>\n",
       ".list-inline {list-style: none; margin:0; padding: 0}\n",
       ".list-inline>li {display: inline-block}\n",
       ".list-inline>li:not(:last-child)::after {content: \"\\00b7\"; padding: 0 .5ex}\n",
       "</style>\n",
       "<ol class=list-inline><li>34</li><li>98</li></ol>\n"
      ],
      "text/latex": [
       "\\begin{enumerate*}\n",
       "\\item 34\n",
       "\\item 98\n",
       "\\end{enumerate*}\n"
      ],
      "text/markdown": [
       "1. 34\n",
       "2. 98\n",
       "\n",
       "\n"
      ],
      "text/plain": [
       "[1] 34 98"
      ]
     },
     "metadata": {},
     "output_type": "display_data"
    }
   ],
   "source": [
    "range(x)"
   ]
  },
  {
   "cell_type": "code",
   "execution_count": 132,
   "id": "1799fbc3",
   "metadata": {},
   "outputs": [
    {
     "data": {
      "text/html": [
       "<style>\n",
       ".list-inline {list-style: none; margin:0; padding: 0}\n",
       ".list-inline>li {display: inline-block}\n",
       ".list-inline>li:not(:last-child)::after {content: \"\\00b7\"; padding: 0 .5ex}\n",
       "</style>\n",
       "<ol class=list-inline><li>49651</li><li>267277</li></ol>\n"
      ],
      "text/latex": [
       "\\begin{enumerate*}\n",
       "\\item 49651\n",
       "\\item 267277\n",
       "\\end{enumerate*}\n"
      ],
      "text/markdown": [
       "1. 49651\n",
       "2. 267277\n",
       "\n",
       "\n"
      ],
      "text/plain": [
       "[1]  49651 267277"
      ]
     },
     "metadata": {},
     "output_type": "display_data"
    }
   ],
   "source": [
    "range(x)"
   ]
  },
  {
   "cell_type": "code",
   "execution_count": 130,
   "id": "5ba16cdd",
   "metadata": {},
   "outputs": [],
   "source": [
    "x = c(58182, 49651, 69903, 267277)"
   ]
  },
  {
   "cell_type": "code",
   "execution_count": 131,
   "id": "251e0c91",
   "metadata": {},
   "outputs": [
    {
     "data": {
      "text/html": [
       "<style>\n",
       ".list-inline {list-style: none; margin:0; padding: 0}\n",
       ".list-inline>li {display: inline-block}\n",
       ".list-inline>li:not(:last-child)::after {content: \"\\00b7\"; padding: 0 .5ex}\n",
       "</style>\n",
       "<ol class=list-inline><li>58182</li><li>49651</li><li>69903</li><li>267277</li></ol>\n"
      ],
      "text/latex": [
       "\\begin{enumerate*}\n",
       "\\item 58182\n",
       "\\item 49651\n",
       "\\item 69903\n",
       "\\item 267277\n",
       "\\end{enumerate*}\n"
      ],
      "text/markdown": [
       "1. 58182\n",
       "2. 49651\n",
       "3. 69903\n",
       "4. 267277\n",
       "\n",
       "\n"
      ],
      "text/plain": [
       "[1]  58182  49651  69903 267277"
      ]
     },
     "metadata": {},
     "output_type": "display_data"
    }
   ],
   "source": [
    "x"
   ]
  },
  {
   "cell_type": "code",
   "execution_count": 133,
   "id": "c85520a0",
   "metadata": {},
   "outputs": [],
   "source": [
    "x = c(43, 40, 38, 37, 43, 39, 78, 38, 45, 44, 40, 38, 41, 35, 31, 44)"
   ]
  },
  {
   "cell_type": "code",
   "execution_count": 134,
   "id": "0b9287f4",
   "metadata": {},
   "outputs": [
    {
     "data": {
      "text/html": [
       "<style>\n",
       ".list-inline {list-style: none; margin:0; padding: 0}\n",
       ".list-inline>li {display: inline-block}\n",
       ".list-inline>li:not(:last-child)::after {content: \"\\00b7\"; padding: 0 .5ex}\n",
       "</style>\n",
       "<ol class=list-inline><li>43</li><li>40</li><li>38</li><li>37</li><li>43</li><li>39</li><li>78</li><li>38</li><li>45</li><li>44</li><li>40</li><li>38</li><li>41</li><li>35</li><li>31</li><li>44</li></ol>\n"
      ],
      "text/latex": [
       "\\begin{enumerate*}\n",
       "\\item 43\n",
       "\\item 40\n",
       "\\item 38\n",
       "\\item 37\n",
       "\\item 43\n",
       "\\item 39\n",
       "\\item 78\n",
       "\\item 38\n",
       "\\item 45\n",
       "\\item 44\n",
       "\\item 40\n",
       "\\item 38\n",
       "\\item 41\n",
       "\\item 35\n",
       "\\item 31\n",
       "\\item 44\n",
       "\\end{enumerate*}\n"
      ],
      "text/markdown": [
       "1. 43\n",
       "2. 40\n",
       "3. 38\n",
       "4. 37\n",
       "5. 43\n",
       "6. 39\n",
       "7. 78\n",
       "8. 38\n",
       "9. 45\n",
       "10. 44\n",
       "11. 40\n",
       "12. 38\n",
       "13. 41\n",
       "14. 35\n",
       "15. 31\n",
       "16. 44\n",
       "\n",
       "\n"
      ],
      "text/plain": [
       " [1] 43 40 38 37 43 39 78 38 45 44 40 38 41 35 31 44"
      ]
     },
     "metadata": {},
     "output_type": "display_data"
    }
   ],
   "source": [
    "x"
   ]
  },
  {
   "cell_type": "code",
   "execution_count": 135,
   "id": "7c58e79d",
   "metadata": {},
   "outputs": [
    {
     "data": {
      "text/html": [
       "<style>\n",
       ".dl-inline {width: auto; margin:0; padding: 0}\n",
       ".dl-inline>dt, .dl-inline>dd {float: none; width: auto; display: inline-block}\n",
       ".dl-inline>dt::after {content: \":\\0020\"; padding-right: .5ex}\n",
       ".dl-inline>dt:not(:first-of-type) {padding-left: .5ex}\n",
       "</style><dl class=dl-inline><dt>10%</dt><dd>36</dd><dt>25%</dt><dd>38</dd><dt>50%</dt><dd>40</dd><dt>75%</dt><dd>43.25</dd><dt>90%</dt><dd>44.5</dd></dl>\n"
      ],
      "text/latex": [
       "\\begin{description*}\n",
       "\\item[10\\textbackslash{}\\%] 36\n",
       "\\item[25\\textbackslash{}\\%] 38\n",
       "\\item[50\\textbackslash{}\\%] 40\n",
       "\\item[75\\textbackslash{}\\%] 43.25\n",
       "\\item[90\\textbackslash{}\\%] 44.5\n",
       "\\end{description*}\n"
      ],
      "text/markdown": [
       "10%\n",
       ":   3625%\n",
       ":   3850%\n",
       ":   4075%\n",
       ":   43.2590%\n",
       ":   44.5\n",
       "\n"
      ],
      "text/plain": [
       "  10%   25%   50%   75%   90% \n",
       "36.00 38.00 40.00 43.25 44.50 "
      ]
     },
     "metadata": {},
     "output_type": "display_data"
    }
   ],
   "source": [
    "quantile(x, c(0.1, 0.25, 0.5, 0.75, 0.9))"
   ]
  },
  {
   "cell_type": "code",
   "execution_count": 136,
   "id": "87c35917",
   "metadata": {},
   "outputs": [
    {
     "data": {
      "text/html": [
       "<style>\n",
       ".dl-inline {width: auto; margin:0; padding: 0}\n",
       ".dl-inline>dt, .dl-inline>dd {float: none; width: auto; display: inline-block}\n",
       ".dl-inline>dt::after {content: \":\\0020\"; padding-right: .5ex}\n",
       ".dl-inline>dt:not(:first-of-type) {padding-left: .5ex}\n",
       "</style><dl class=dl-inline><dt>0%</dt><dd>31</dd><dt>25%</dt><dd>38</dd><dt>50%</dt><dd>40</dd><dt>75%</dt><dd>43.25</dd><dt>100%</dt><dd>78</dd></dl>\n"
      ],
      "text/latex": [
       "\\begin{description*}\n",
       "\\item[0\\textbackslash{}\\%] 31\n",
       "\\item[25\\textbackslash{}\\%] 38\n",
       "\\item[50\\textbackslash{}\\%] 40\n",
       "\\item[75\\textbackslash{}\\%] 43.25\n",
       "\\item[100\\textbackslash{}\\%] 78\n",
       "\\end{description*}\n"
      ],
      "text/markdown": [
       "0%\n",
       ":   3125%\n",
       ":   3850%\n",
       ":   4075%\n",
       ":   43.25100%\n",
       ":   78\n",
       "\n"
      ],
      "text/plain": [
       "   0%   25%   50%   75%  100% \n",
       "31.00 38.00 40.00 43.25 78.00 "
      ]
     },
     "metadata": {},
     "output_type": "display_data"
    }
   ],
   "source": [
    "quantile(x)"
   ]
  },
  {
   "cell_type": "code",
   "execution_count": 137,
   "id": "1c7c69de",
   "metadata": {},
   "outputs": [
    {
     "data": {
      "text/html": [
       "5.25"
      ],
      "text/latex": [
       "5.25"
      ],
      "text/markdown": [
       "5.25"
      ],
      "text/plain": [
       "[1] 5.25"
      ]
     },
     "metadata": {},
     "output_type": "display_data"
    }
   ],
   "source": [
    "IQR(x)"
   ]
  },
  {
   "cell_type": "code",
   "execution_count": 138,
   "id": "de793b86",
   "metadata": {},
   "outputs": [],
   "source": [
    "# 랜덤한 값의 개수를 설정합니다.\n",
    "n <- 100\n",
    "\n",
    "# 55.5와 65.5 사이의 랜덤한 값을 생성합니다.\n",
    "mydata <- runif(n, min = 55.5, max = 65.5)\n"
   ]
  },
  {
   "cell_type": "code",
   "execution_count": 139,
   "id": "8976b990",
   "metadata": {},
   "outputs": [
    {
     "data": {
      "text/html": [
       "<style>\n",
       ".list-inline {list-style: none; margin:0; padding: 0}\n",
       ".list-inline>li {display: inline-block}\n",
       ".list-inline>li:not(:last-child)::after {content: \"\\00b7\"; padding: 0 .5ex}\n",
       "</style>\n",
       "<ol class=list-inline><li>59.0114981839433</li><li>63.6111058895476</li><li>62.4976883661002</li><li>59.8614281737246</li><li>58.2715525473468</li><li>62.0929259289987</li><li>59.6339324205182</li><li>64.3404530636035</li><li>58.3270599036478</li><li>63.4355637985282</li><li>64.9135941122659</li><li>59.4996331185102</li><li>55.5264716800302</li><li>56.4327425295487</li><li>56.7854520138353</li><li>56.0940822558478</li><li>61.6008098954335</li><li>57.582253578119</li><li>56.477468341589</li><li>60.9468043055385</li><li>57.6435250365175</li><li>60.1837143576704</li><li>60.7972398977727</li><li>56.5085801291279</li><li>58.2383051533252</li><li>58.3184169065207</li><li>61.662677637767</li><li>59.196040683426</li><li>62.9252007878385</li><li>60.3742326791398</li><li>62.8322760406882</li><li>62.192956124898</li><li>59.9021636410616</li><li>57.8110210220329</li><li>64.0121809924021</li><li>63.4684408497997</li><li>56.2975790137425</li><li>58.1551690348424</li><li>58.6627050158568</li><li>63.4691735329106</li><li>61.1206389213912</li><li>65.3151422385126</li><li>63.8650969411246</li><li>62.37382027274</li><li>59.684040739201</li><li>60.3668392607942</li><li>65.1201750286855</li><li>60.2293187910691</li><li>56.9162627886981</li><li>59.7466681427322</li><li>62.5008394587785</li><li>62.6878702077083</li><li>64.6603826917708</li><li>56.4998485236429</li><li>58.9447932732292</li><li>65.3720624041744</li><li>63.2424934366718</li><li>60.015070868656</li><li>56.1361047015525</li><li>62.9488718667999</li><li>62.011504764203</li><li>56.7161830253899</li><li>62.7193568618968</li><li>58.6672562775202</li><li>60.1949258563109</li><li>62.1205131122842</li><li>62.9260796327144</li><li>60.26408184506</li><li>62.6807944169268</li><li>57.3097046739422</li><li>62.0158870513551</li><li>62.5918379770592</li><li>56.2435415475629</li><li>56.7631606939249</li><li>60.5998847954907</li><li>65.4709937698208</li><li>61.3766659721732</li><li>63.0972990761511</li><li>62.7778213955462</li><li>64.4114152127877</li><li>56.2297188811935</li><li>59.0061441431753</li><li>58.902078258805</li><li>64.7098275339231</li><li>62.4946614629589</li><li>58.7753289723769</li><li>55.5796337611973</li><li>63.5568340653554</li><li>59.433990735095</li><li>58.345118297264</li><li>58.5625999742188</li><li>61.7999173719436</li><li>64.1026591621339</li><li>57.1953369858675</li><li>62.9325973005034</li><li>60.3529060115106</li><li>58.0950006046332</li><li>62.5126790832728</li><li>59.8054517288692</li><li>57.9798737769015</li></ol>\n"
      ],
      "text/latex": [
       "\\begin{enumerate*}\n",
       "\\item 59.0114981839433\n",
       "\\item 63.6111058895476\n",
       "\\item 62.4976883661002\n",
       "\\item 59.8614281737246\n",
       "\\item 58.2715525473468\n",
       "\\item 62.0929259289987\n",
       "\\item 59.6339324205182\n",
       "\\item 64.3404530636035\n",
       "\\item 58.3270599036478\n",
       "\\item 63.4355637985282\n",
       "\\item 64.9135941122659\n",
       "\\item 59.4996331185102\n",
       "\\item 55.5264716800302\n",
       "\\item 56.4327425295487\n",
       "\\item 56.7854520138353\n",
       "\\item 56.0940822558478\n",
       "\\item 61.6008098954335\n",
       "\\item 57.582253578119\n",
       "\\item 56.477468341589\n",
       "\\item 60.9468043055385\n",
       "\\item 57.6435250365175\n",
       "\\item 60.1837143576704\n",
       "\\item 60.7972398977727\n",
       "\\item 56.5085801291279\n",
       "\\item 58.2383051533252\n",
       "\\item 58.3184169065207\n",
       "\\item 61.662677637767\n",
       "\\item 59.196040683426\n",
       "\\item 62.9252007878385\n",
       "\\item 60.3742326791398\n",
       "\\item 62.8322760406882\n",
       "\\item 62.192956124898\n",
       "\\item 59.9021636410616\n",
       "\\item 57.8110210220329\n",
       "\\item 64.0121809924021\n",
       "\\item 63.4684408497997\n",
       "\\item 56.2975790137425\n",
       "\\item 58.1551690348424\n",
       "\\item 58.6627050158568\n",
       "\\item 63.4691735329106\n",
       "\\item 61.1206389213912\n",
       "\\item 65.3151422385126\n",
       "\\item 63.8650969411246\n",
       "\\item 62.37382027274\n",
       "\\item 59.684040739201\n",
       "\\item 60.3668392607942\n",
       "\\item 65.1201750286855\n",
       "\\item 60.2293187910691\n",
       "\\item 56.9162627886981\n",
       "\\item 59.7466681427322\n",
       "\\item 62.5008394587785\n",
       "\\item 62.6878702077083\n",
       "\\item 64.6603826917708\n",
       "\\item 56.4998485236429\n",
       "\\item 58.9447932732292\n",
       "\\item 65.3720624041744\n",
       "\\item 63.2424934366718\n",
       "\\item 60.015070868656\n",
       "\\item 56.1361047015525\n",
       "\\item 62.9488718667999\n",
       "\\item 62.011504764203\n",
       "\\item 56.7161830253899\n",
       "\\item 62.7193568618968\n",
       "\\item 58.6672562775202\n",
       "\\item 60.1949258563109\n",
       "\\item 62.1205131122842\n",
       "\\item 62.9260796327144\n",
       "\\item 60.26408184506\n",
       "\\item 62.6807944169268\n",
       "\\item 57.3097046739422\n",
       "\\item 62.0158870513551\n",
       "\\item 62.5918379770592\n",
       "\\item 56.2435415475629\n",
       "\\item 56.7631606939249\n",
       "\\item 60.5998847954907\n",
       "\\item 65.4709937698208\n",
       "\\item 61.3766659721732\n",
       "\\item 63.0972990761511\n",
       "\\item 62.7778213955462\n",
       "\\item 64.4114152127877\n",
       "\\item 56.2297188811935\n",
       "\\item 59.0061441431753\n",
       "\\item 58.902078258805\n",
       "\\item 64.7098275339231\n",
       "\\item 62.4946614629589\n",
       "\\item 58.7753289723769\n",
       "\\item 55.5796337611973\n",
       "\\item 63.5568340653554\n",
       "\\item 59.433990735095\n",
       "\\item 58.345118297264\n",
       "\\item 58.5625999742188\n",
       "\\item 61.7999173719436\n",
       "\\item 64.1026591621339\n",
       "\\item 57.1953369858675\n",
       "\\item 62.9325973005034\n",
       "\\item 60.3529060115106\n",
       "\\item 58.0950006046332\n",
       "\\item 62.5126790832728\n",
       "\\item 59.8054517288692\n",
       "\\item 57.9798737769015\n",
       "\\end{enumerate*}\n"
      ],
      "text/markdown": [
       "1. 59.0114981839433\n",
       "2. 63.6111058895476\n",
       "3. 62.4976883661002\n",
       "4. 59.8614281737246\n",
       "5. 58.2715525473468\n",
       "6. 62.0929259289987\n",
       "7. 59.6339324205182\n",
       "8. 64.3404530636035\n",
       "9. 58.3270599036478\n",
       "10. 63.4355637985282\n",
       "11. 64.9135941122659\n",
       "12. 59.4996331185102\n",
       "13. 55.5264716800302\n",
       "14. 56.4327425295487\n",
       "15. 56.7854520138353\n",
       "16. 56.0940822558478\n",
       "17. 61.6008098954335\n",
       "18. 57.582253578119\n",
       "19. 56.477468341589\n",
       "20. 60.9468043055385\n",
       "21. 57.6435250365175\n",
       "22. 60.1837143576704\n",
       "23. 60.7972398977727\n",
       "24. 56.5085801291279\n",
       "25. 58.2383051533252\n",
       "26. 58.3184169065207\n",
       "27. 61.662677637767\n",
       "28. 59.196040683426\n",
       "29. 62.9252007878385\n",
       "30. 60.3742326791398\n",
       "31. 62.8322760406882\n",
       "32. 62.192956124898\n",
       "33. 59.9021636410616\n",
       "34. 57.8110210220329\n",
       "35. 64.0121809924021\n",
       "36. 63.4684408497997\n",
       "37. 56.2975790137425\n",
       "38. 58.1551690348424\n",
       "39. 58.6627050158568\n",
       "40. 63.4691735329106\n",
       "41. 61.1206389213912\n",
       "42. 65.3151422385126\n",
       "43. 63.8650969411246\n",
       "44. 62.37382027274\n",
       "45. 59.684040739201\n",
       "46. 60.3668392607942\n",
       "47. 65.1201750286855\n",
       "48. 60.2293187910691\n",
       "49. 56.9162627886981\n",
       "50. 59.7466681427322\n",
       "51. 62.5008394587785\n",
       "52. 62.6878702077083\n",
       "53. 64.6603826917708\n",
       "54. 56.4998485236429\n",
       "55. 58.9447932732292\n",
       "56. 65.3720624041744\n",
       "57. 63.2424934366718\n",
       "58. 60.015070868656\n",
       "59. 56.1361047015525\n",
       "60. 62.9488718667999\n",
       "61. 62.011504764203\n",
       "62. 56.7161830253899\n",
       "63. 62.7193568618968\n",
       "64. 58.6672562775202\n",
       "65. 60.1949258563109\n",
       "66. 62.1205131122842\n",
       "67. 62.9260796327144\n",
       "68. 60.26408184506\n",
       "69. 62.6807944169268\n",
       "70. 57.3097046739422\n",
       "71. 62.0158870513551\n",
       "72. 62.5918379770592\n",
       "73. 56.2435415475629\n",
       "74. 56.7631606939249\n",
       "75. 60.5998847954907\n",
       "76. 65.4709937698208\n",
       "77. 61.3766659721732\n",
       "78. 63.0972990761511\n",
       "79. 62.7778213955462\n",
       "80. 64.4114152127877\n",
       "81. 56.2297188811935\n",
       "82. 59.0061441431753\n",
       "83. 58.902078258805\n",
       "84. 64.7098275339231\n",
       "85. 62.4946614629589\n",
       "86. 58.7753289723769\n",
       "87. 55.5796337611973\n",
       "88. 63.5568340653554\n",
       "89. 59.433990735095\n",
       "90. 58.345118297264\n",
       "91. 58.5625999742188\n",
       "92. 61.7999173719436\n",
       "93. 64.1026591621339\n",
       "94. 57.1953369858675\n",
       "95. 62.9325973005034\n",
       "96. 60.3529060115106\n",
       "97. 58.0950006046332\n",
       "98. 62.5126790832728\n",
       "99. 59.8054517288692\n",
       "100. 57.9798737769015\n",
       "\n",
       "\n"
      ],
      "text/plain": [
       "  [1] 59.01150 63.61111 62.49769 59.86143 58.27155 62.09293 59.63393 64.34045\n",
       "  [9] 58.32706 63.43556 64.91359 59.49963 55.52647 56.43274 56.78545 56.09408\n",
       " [17] 61.60081 57.58225 56.47747 60.94680 57.64353 60.18371 60.79724 56.50858\n",
       " [25] 58.23831 58.31842 61.66268 59.19604 62.92520 60.37423 62.83228 62.19296\n",
       " [33] 59.90216 57.81102 64.01218 63.46844 56.29758 58.15517 58.66271 63.46917\n",
       " [41] 61.12064 65.31514 63.86510 62.37382 59.68404 60.36684 65.12018 60.22932\n",
       " [49] 56.91626 59.74667 62.50084 62.68787 64.66038 56.49985 58.94479 65.37206\n",
       " [57] 63.24249 60.01507 56.13610 62.94887 62.01150 56.71618 62.71936 58.66726\n",
       " [65] 60.19493 62.12051 62.92608 60.26408 62.68079 57.30970 62.01589 62.59184\n",
       " [73] 56.24354 56.76316 60.59988 65.47099 61.37667 63.09730 62.77782 64.41142\n",
       " [81] 56.22972 59.00614 58.90208 64.70983 62.49466 58.77533 55.57963 63.55683\n",
       " [89] 59.43399 58.34512 58.56260 61.79992 64.10266 57.19534 62.93260 60.35291\n",
       " [97] 58.09500 62.51268 59.80545 57.97987"
      ]
     },
     "metadata": {},
     "output_type": "display_data"
    }
   ],
   "source": [
    "mydata"
   ]
  },
  {
   "cell_type": "code",
   "execution_count": 140,
   "id": "7b45b2e7",
   "metadata": {},
   "outputs": [],
   "source": [
    "noise = mydata"
   ]
  },
  {
   "cell_type": "code",
   "execution_count": 141,
   "id": "8c7d21a0",
   "metadata": {},
   "outputs": [
    {
     "data": {
      "text/html": [
       "60.4867172527127"
      ],
      "text/latex": [
       "60.4867172527127"
      ],
      "text/markdown": [
       "60.4867172527127"
      ],
      "text/plain": [
       "[1] 60.48672"
      ]
     },
     "metadata": {},
     "output_type": "display_data"
    }
   ],
   "source": [
    "mean(noise)"
   ]
  },
  {
   "cell_type": "markdown",
   "id": "53bdf6f8",
   "metadata": {},
   "source": [
    "runif (data level, min, max )"
   ]
  },
  {
   "cell_type": "code",
   "execution_count": 142,
   "id": "132107e3",
   "metadata": {},
   "outputs": [
    {
     "data": {
      "text/html": [
       "7.5060410048782"
      ],
      "text/latex": [
       "7.5060410048782"
      ],
      "text/markdown": [
       "7.5060410048782"
      ],
      "text/plain": [
       "[1] 7.506041"
      ]
     },
     "metadata": {},
     "output_type": "display_data"
    }
   ],
   "source": [
    "var(noise)"
   ]
  },
  {
   "cell_type": "code",
   "execution_count": 143,
   "id": "7e8860ed",
   "metadata": {},
   "outputs": [
    {
     "data": {
      "text/html": [
       "2.73971549706867"
      ],
      "text/latex": [
       "2.73971549706867"
      ],
      "text/markdown": [
       "2.73971549706867"
      ],
      "text/plain": [
       "[1] 2.739715"
      ]
     },
     "metadata": {},
     "output_type": "display_data"
    }
   ],
   "source": [
    "sd(noise)"
   ]
  },
  {
   "cell_type": "code",
   "execution_count": 144,
   "id": "d506a951",
   "metadata": {},
   "outputs": [
    {
     "data": {
      "text/html": [
       "<style>\n",
       ".dl-inline {width: auto; margin:0; padding: 0}\n",
       ".dl-inline>dt, .dl-inline>dd {float: none; width: auto; display: inline-block}\n",
       ".dl-inline>dt::after {content: \":\\0020\"; padding-right: .5ex}\n",
       ".dl-inline>dt:not(:first-of-type) {padding-left: .5ex}\n",
       "</style><dl class=dl-inline><dt>0%</dt><dd>55.5264716800302</dd><dt>25%</dt><dd>58.3067008167272</dd><dt>50%</dt><dd>60.3084939282853</dd><dt>75%</dt><dd>62.7339729953092</dd><dt>100%</dt><dd>65.4709937698208</dd></dl>\n"
      ],
      "text/latex": [
       "\\begin{description*}\n",
       "\\item[0\\textbackslash{}\\%] 55.5264716800302\n",
       "\\item[25\\textbackslash{}\\%] 58.3067008167272\n",
       "\\item[50\\textbackslash{}\\%] 60.3084939282853\n",
       "\\item[75\\textbackslash{}\\%] 62.7339729953092\n",
       "\\item[100\\textbackslash{}\\%] 65.4709937698208\n",
       "\\end{description*}\n"
      ],
      "text/markdown": [
       "0%\n",
       ":   55.526471680030225%\n",
       ":   58.306700816727250%\n",
       ":   60.308493928285375%\n",
       ":   62.7339729953092100%\n",
       ":   65.4709937698208\n",
       "\n"
      ],
      "text/plain": [
       "      0%      25%      50%      75%     100% \n",
       "55.52647 58.30670 60.30849 62.73397 65.47099 "
      ]
     },
     "metadata": {},
     "output_type": "display_data"
    }
   ],
   "source": [
    "quantile(noise)"
   ]
  },
  {
   "cell_type": "code",
   "execution_count": 146,
   "id": "0e9439ec",
   "metadata": {},
   "outputs": [
    {
     "data": {
      "image/png": "[encoded data removed]",
      "text/plain": [
       "plot without title"
      ]
     },
     "metadata": {
      "image/png": {
       "height": 420,
       "width": 420
      }
     },
     "output_type": "display_data"
    }
   ],
   "source": [
    "boxplot(noise, horizontal = T)"
   ]
  },
  {
   "cell_type": "code",
   "execution_count": 154,
   "id": "e5133768",
   "metadata": {},
   "outputs": [],
   "source": [
    "noise2 = c(noise, 100.0)"
   ]
  },
  {
   "cell_type": "code",
   "execution_count": 155,
   "id": "809127a2",
   "metadata": {},
   "outputs": [
    {
     "data": {
      "text/html": [
       "<style>\n",
       ".list-inline {list-style: none; margin:0; padding: 0}\n",
       ".list-inline>li {display: inline-block}\n",
       ".list-inline>li:not(:last-child)::after {content: \"\\00b7\"; padding: 0 .5ex}\n",
       "</style>\n",
       "<ol class=list-inline><li>59.0114981839433</li><li>63.6111058895476</li><li>62.4976883661002</li><li>59.8614281737246</li><li>58.2715525473468</li><li>62.0929259289987</li><li>59.6339324205182</li><li>64.3404530636035</li><li>58.3270599036478</li><li>63.4355637985282</li><li>64.9135941122659</li><li>59.4996331185102</li><li>55.5264716800302</li><li>56.4327425295487</li><li>56.7854520138353</li><li>56.0940822558478</li><li>61.6008098954335</li><li>57.582253578119</li><li>56.477468341589</li><li>60.9468043055385</li><li>57.6435250365175</li><li>60.1837143576704</li><li>60.7972398977727</li><li>56.5085801291279</li><li>58.2383051533252</li><li>58.3184169065207</li><li>61.662677637767</li><li>59.196040683426</li><li>62.9252007878385</li><li>60.3742326791398</li><li>62.8322760406882</li><li>62.192956124898</li><li>59.9021636410616</li><li>57.8110210220329</li><li>64.0121809924021</li><li>63.4684408497997</li><li>56.2975790137425</li><li>58.1551690348424</li><li>58.6627050158568</li><li>63.4691735329106</li><li>61.1206389213912</li><li>65.3151422385126</li><li>63.8650969411246</li><li>62.37382027274</li><li>59.684040739201</li><li>60.3668392607942</li><li>65.1201750286855</li><li>60.2293187910691</li><li>56.9162627886981</li><li>59.7466681427322</li><li>62.5008394587785</li><li>62.6878702077083</li><li>64.6603826917708</li><li>56.4998485236429</li><li>58.9447932732292</li><li>65.3720624041744</li><li>63.2424934366718</li><li>60.015070868656</li><li>56.1361047015525</li><li>62.9488718667999</li><li>62.011504764203</li><li>56.7161830253899</li><li>62.7193568618968</li><li>58.6672562775202</li><li>60.1949258563109</li><li>62.1205131122842</li><li>62.9260796327144</li><li>60.26408184506</li><li>62.6807944169268</li><li>57.3097046739422</li><li>62.0158870513551</li><li>62.5918379770592</li><li>56.2435415475629</li><li>56.7631606939249</li><li>60.5998847954907</li><li>65.4709937698208</li><li>61.3766659721732</li><li>63.0972990761511</li><li>62.7778213955462</li><li>64.4114152127877</li><li>56.2297188811935</li><li>59.0061441431753</li><li>58.902078258805</li><li>64.7098275339231</li><li>62.4946614629589</li><li>58.7753289723769</li><li>55.5796337611973</li><li>63.5568340653554</li><li>59.433990735095</li><li>58.345118297264</li><li>58.5625999742188</li><li>61.7999173719436</li><li>64.1026591621339</li><li>57.1953369858675</li><li>62.9325973005034</li><li>60.3529060115106</li><li>58.0950006046332</li><li>62.5126790832728</li><li>59.8054517288692</li><li>57.9798737769015</li><li>100</li></ol>\n"
      ],
      "text/latex": [
       "\\begin{enumerate*}\n",
       "\\item 59.0114981839433\n",
       "\\item 63.6111058895476\n",
       "\\item 62.4976883661002\n",
       "\\item 59.8614281737246\n",
       "\\item 58.2715525473468\n",
       "\\item 62.0929259289987\n",
       "\\item 59.6339324205182\n",
       "\\item 64.3404530636035\n",
       "\\item 58.3270599036478\n",
       "\\item 63.4355637985282\n",
       "\\item 64.9135941122659\n",
       "\\item 59.4996331185102\n",
       "\\item 55.5264716800302\n",
       "\\item 56.4327425295487\n",
       "\\item 56.7854520138353\n",
       "\\item 56.0940822558478\n",
       "\\item 61.6008098954335\n",
       "\\item 57.582253578119\n",
       "\\item 56.477468341589\n",
       "\\item 60.9468043055385\n",
       "\\item 57.6435250365175\n",
       "\\item 60.1837143576704\n",
       "\\item 60.7972398977727\n",
       "\\item 56.5085801291279\n",
       "\\item 58.2383051533252\n",
       "\\item 58.3184169065207\n",
       "\\item 61.662677637767\n",
       "\\item 59.196040683426\n",
       "\\item 62.9252007878385\n",
       "\\item 60.3742326791398\n",
       "\\item 62.8322760406882\n",
       "\\item 62.192956124898\n",
       "\\item 59.9021636410616\n",
       "\\item 57.8110210220329\n",
       "\\item 64.0121809924021\n",
       "\\item 63.4684408497997\n",
       "\\item 56.2975790137425\n",
       "\\item 58.1551690348424\n",
       "\\item 58.6627050158568\n",
       "\\item 63.4691735329106\n",
       "\\item 61.1206389213912\n",
       "\\item 65.3151422385126\n",
       "\\item 63.8650969411246\n",
       "\\item 62.37382027274\n",
       "\\item 59.684040739201\n",
       "\\item 60.3668392607942\n",
       "\\item 65.1201750286855\n",
       "\\item 60.2293187910691\n",
       "\\item 56.9162627886981\n",
       "\\item 59.7466681427322\n",
       "\\item 62.5008394587785\n",
       "\\item 62.6878702077083\n",
       "\\item 64.6603826917708\n",
       "\\item 56.4998485236429\n",
       "\\item 58.9447932732292\n",
       "\\item 65.3720624041744\n",
       "\\item 63.2424934366718\n",
       "\\item 60.015070868656\n",
       "\\item 56.1361047015525\n",
       "\\item 62.9488718667999\n",
       "\\item 62.011504764203\n",
       "\\item 56.7161830253899\n",
       "\\item 62.7193568618968\n",
       "\\item 58.6672562775202\n",
       "\\item 60.1949258563109\n",
       "\\item 62.1205131122842\n",
       "\\item 62.9260796327144\n",
       "\\item 60.26408184506\n",
       "\\item 62.6807944169268\n",
       "\\item 57.3097046739422\n",
       "\\item 62.0158870513551\n",
       "\\item 62.5918379770592\n",
       "\\item 56.2435415475629\n",
       "\\item 56.7631606939249\n",
       "\\item 60.5998847954907\n",
       "\\item 65.4709937698208\n",
       "\\item 61.3766659721732\n",
       "\\item 63.0972990761511\n",
       "\\item 62.7778213955462\n",
       "\\item 64.4114152127877\n",
       "\\item 56.2297188811935\n",
       "\\item 59.0061441431753\n",
       "\\item 58.902078258805\n",
       "\\item 64.7098275339231\n",
       "\\item 62.4946614629589\n",
       "\\item 58.7753289723769\n",
       "\\item 55.5796337611973\n",
       "\\item 63.5568340653554\n",
       "\\item 59.433990735095\n",
       "\\item 58.345118297264\n",
       "\\item 58.5625999742188\n",
       "\\item 61.7999173719436\n",
       "\\item 64.1026591621339\n",
       "\\item 57.1953369858675\n",
       "\\item 62.9325973005034\n",
       "\\item 60.3529060115106\n",
       "\\item 58.0950006046332\n",
       "\\item 62.5126790832728\n",
       "\\item 59.8054517288692\n",
       "\\item 57.9798737769015\n",
       "\\item 100\n",
       "\\end{enumerate*}\n"
      ],
      "text/markdown": [
       "1. 59.0114981839433\n",
       "2. 63.6111058895476\n",
       "3. 62.4976883661002\n",
       "4. 59.8614281737246\n",
       "5. 58.2715525473468\n",
       "6. 62.0929259289987\n",
       "7. 59.6339324205182\n",
       "8. 64.3404530636035\n",
       "9. 58.3270599036478\n",
       "10. 63.4355637985282\n",
       "11. 64.9135941122659\n",
       "12. 59.4996331185102\n",
       "13. 55.5264716800302\n",
       "14. 56.4327425295487\n",
       "15. 56.7854520138353\n",
       "16. 56.0940822558478\n",
       "17. 61.6008098954335\n",
       "18. 57.582253578119\n",
       "19. 56.477468341589\n",
       "20. 60.9468043055385\n",
       "21. 57.6435250365175\n",
       "22. 60.1837143576704\n",
       "23. 60.7972398977727\n",
       "24. 56.5085801291279\n",
       "25. 58.2383051533252\n",
       "26. 58.3184169065207\n",
       "27. 61.662677637767\n",
       "28. 59.196040683426\n",
       "29. 62.9252007878385\n",
       "30. 60.3742326791398\n",
       "31. 62.8322760406882\n",
       "32. 62.192956124898\n",
       "33. 59.9021636410616\n",
       "34. 57.8110210220329\n",
       "35. 64.0121809924021\n",
       "36. 63.4684408497997\n",
       "37. 56.2975790137425\n",
       "38. 58.1551690348424\n",
       "39. 58.6627050158568\n",
       "40. 63.4691735329106\n",
       "41. 61.1206389213912\n",
       "42. 65.3151422385126\n",
       "43. 63.8650969411246\n",
       "44. 62.37382027274\n",
       "45. 59.684040739201\n",
       "46. 60.3668392607942\n",
       "47. 65.1201750286855\n",
       "48. 60.2293187910691\n",
       "49. 56.9162627886981\n",
       "50. 59.7466681427322\n",
       "51. 62.5008394587785\n",
       "52. 62.6878702077083\n",
       "53. 64.6603826917708\n",
       "54. 56.4998485236429\n",
       "55. 58.9447932732292\n",
       "56. 65.3720624041744\n",
       "57. 63.2424934366718\n",
       "58. 60.015070868656\n",
       "59. 56.1361047015525\n",
       "60. 62.9488718667999\n",
       "61. 62.011504764203\n",
       "62. 56.7161830253899\n",
       "63. 62.7193568618968\n",
       "64. 58.6672562775202\n",
       "65. 60.1949258563109\n",
       "66. 62.1205131122842\n",
       "67. 62.9260796327144\n",
       "68. 60.26408184506\n",
       "69. 62.6807944169268\n",
       "70. 57.3097046739422\n",
       "71. 62.0158870513551\n",
       "72. 62.5918379770592\n",
       "73. 56.2435415475629\n",
       "74. 56.7631606939249\n",
       "75. 60.5998847954907\n",
       "76. 65.4709937698208\n",
       "77. 61.3766659721732\n",
       "78. 63.0972990761511\n",
       "79. 62.7778213955462\n",
       "80. 64.4114152127877\n",
       "81. 56.2297188811935\n",
       "82. 59.0061441431753\n",
       "83. 58.902078258805\n",
       "84. 64.7098275339231\n",
       "85. 62.4946614629589\n",
       "86. 58.7753289723769\n",
       "87. 55.5796337611973\n",
       "88. 63.5568340653554\n",
       "89. 59.433990735095\n",
       "90. 58.345118297264\n",
       "91. 58.5625999742188\n",
       "92. 61.7999173719436\n",
       "93. 64.1026591621339\n",
       "94. 57.1953369858675\n",
       "95. 62.9325973005034\n",
       "96. 60.3529060115106\n",
       "97. 58.0950006046332\n",
       "98. 62.5126790832728\n",
       "99. 59.8054517288692\n",
       "100. 57.9798737769015\n",
       "101. 100\n",
       "\n",
       "\n"
      ],
      "text/plain": [
       "  [1]  59.01150  63.61111  62.49769  59.86143  58.27155  62.09293  59.63393\n",
       "  [8]  64.34045  58.32706  63.43556  64.91359  59.49963  55.52647  56.43274\n",
       " [15]  56.78545  56.09408  61.60081  57.58225  56.47747  60.94680  57.64353\n",
       " [22]  60.18371  60.79724  56.50858  58.23831  58.31842  61.66268  59.19604\n",
       " [29]  62.92520  60.37423  62.83228  62.19296  59.90216  57.81102  64.01218\n",
       " [36]  63.46844  56.29758  58.15517  58.66271  63.46917  61.12064  65.31514\n",
       " [43]  63.86510  62.37382  59.68404  60.36684  65.12018  60.22932  56.91626\n",
       " [50]  59.74667  62.50084  62.68787  64.66038  56.49985  58.94479  65.37206\n",
       " [57]  63.24249  60.01507  56.13610  62.94887  62.01150  56.71618  62.71936\n",
       " [64]  58.66726  60.19493  62.12051  62.92608  60.26408  62.68079  57.30970\n",
       " [71]  62.01589  62.59184  56.24354  56.76316  60.59988  65.47099  61.37667\n",
       " [78]  63.09730  62.77782  64.41142  56.22972  59.00614  58.90208  64.70983\n",
       " [85]  62.49466  58.77533  55.57963  63.55683  59.43399  58.34512  58.56260\n",
       " [92]  61.79992  64.10266  57.19534  62.93260  60.35291  58.09500  62.51268\n",
       " [99]  59.80545  57.97987 100.00000"
      ]
     },
     "metadata": {},
     "output_type": "display_data"
    }
   ],
   "source": [
    "noise2"
   ]
  },
  {
   "cell_type": "code",
   "execution_count": 156,
   "id": "10b8b48b",
   "metadata": {},
   "outputs": [
    {
     "data": {
      "image/png": "[encoded data removed]",
      "text/plain": [
       "plot without title"
      ]
     },
     "metadata": {
      "image/png": {
       "height": 420,
       "width": 420
      }
     },
     "output_type": "display_data"
    }
   ],
   "source": [
    "boxplot(noise2, horizontal = T)"
   ]
  },
  {
   "cell_type": "code",
   "execution_count": 157,
   "id": "ebfb7dcb",
   "metadata": {},
   "outputs": [
    {
     "data": {
      "text/html": [
       "<dl>\n",
       "\t<dt>$stats</dt>\n",
       "\t\t<dd><style>\n",
       ".list-inline {list-style: none; margin:0; padding: 0}\n",
       ".list-inline>li {display: inline-block}\n",
       ".list-inline>li:not(:last-child)::after {content: \"\\00b7\"; padding: 0 .5ex}\n",
       "</style>\n",
       "<ol class=list-inline><li>55.5264716800302</li><li>58.3184169065207</li><li>60.3529060115106</li><li>62.7778213955462</li><li>65.4709937698208</li></ol>\n",
       "</dd>\n",
       "\t<dt>$n</dt>\n",
       "\t\t<dd>101</dd>\n",
       "\t<dt>$conf</dt>\n",
       "\t\t<dd><style>\n",
       ".list-inline {list-style: none; margin:0; padding: 0}\n",
       ".list-inline>li {display: inline-block}\n",
       ".list-inline>li:not(:last-child)::after {content: \"\\00b7\"; padding: 0 .5ex}\n",
       "</style>\n",
       "<ol class=list-inline><li>59.651816828093</li><li>61.0539951949283</li></ol>\n",
       "</dd>\n",
       "\t<dt>$out</dt>\n",
       "\t\t<dd>100</dd>\n",
       "</dl>\n"
      ],
      "text/latex": [
       "\\begin{description}\n",
       "\\item[\\$stats] \\begin{enumerate*}\n",
       "\\item 55.5264716800302\n",
       "\\item 58.3184169065207\n",
       "\\item 60.3529060115106\n",
       "\\item 62.7778213955462\n",
       "\\item 65.4709937698208\n",
       "\\end{enumerate*}\n",
       "\n",
       "\\item[\\$n] 101\n",
       "\\item[\\$conf] \\begin{enumerate*}\n",
       "\\item 59.651816828093\n",
       "\\item 61.0539951949283\n",
       "\\end{enumerate*}\n",
       "\n",
       "\\item[\\$out] 100\n",
       "\\end{description}\n"
      ],
      "text/markdown": [
       "$stats\n",
       ":   1. 55.5264716800302\n",
       "2. 58.3184169065207\n",
       "3. 60.3529060115106\n",
       "4. 62.7778213955462\n",
       "5. 65.4709937698208\n",
       "\n",
       "\n",
       "\n",
       "$n\n",
       ":   101\n",
       "$conf\n",
       ":   1. 59.651816828093\n",
       "2. 61.0539951949283\n",
       "\n",
       "\n",
       "\n",
       "$out\n",
       ":   100\n",
       "\n",
       "\n"
      ],
      "text/plain": [
       "$stats\n",
       "[1] 55.52647 58.31842 60.35291 62.77782 65.47099\n",
       "\n",
       "$n\n",
       "[1] 101\n",
       "\n",
       "$conf\n",
       "[1] 59.65182 61.05400\n",
       "\n",
       "$out\n",
       "[1] 100\n"
      ]
     },
     "metadata": {},
     "output_type": "display_data"
    }
   ],
   "source": [
    "boxplot.stats(noise2)"
   ]
  },
  {
   "cell_type": "code",
   "execution_count": 158,
   "id": "2b60b537",
   "metadata": {},
   "outputs": [
    {
     "name": "stderr",
     "output_type": "stream",
     "text": [
      "Warning message:\n",
      "\"package 'treemap' was built under R version 4.3.2\"\n"
     ]
    }
   ],
   "source": [
    "library(treemap)"
   ]
  },
  {
   "cell_type": "code",
   "execution_count": 159,
   "id": "9e918489",
   "metadata": {},
   "outputs": [],
   "source": [
    "data(GNI2014)"
   ]
  },
  {
   "cell_type": "code",
   "execution_count": 160,
   "id": "2aad656b",
   "metadata": {},
   "outputs": [
    {
     "data": {
      "text/html": [
       "<table class=\"dataframe\">\n",
       "<caption>A data.frame: 188 × 5</caption>\n",
       "<thead>\n",
       "\t<tr><th></th><th scope=col>iso3</th><th scope=col>country</th><th scope=col>continent</th><th scope=col>population</th><th scope=col>GNI</th></tr>\n",
       "\t<tr><th></th><th scope=col>&lt;chr&gt;</th><th scope=col>&lt;chr&gt;</th><th scope=col>&lt;fct&gt;</th><th scope=col>&lt;dbl&gt;</th><th scope=col>&lt;int&gt;</th></tr>\n",
       "</thead>\n",
       "<tbody>\n",
       "\t<tr><th scope=row>3</th><td>BMU</td><td>Bermuda             </td><td>North America</td><td>    67837</td><td>106140</td></tr>\n",
       "\t<tr><th scope=row>4</th><td>NOR</td><td>Norway              </td><td>Europe       </td><td>  4676305</td><td>103630</td></tr>\n",
       "\t<tr><th scope=row>5</th><td>QAT</td><td>Qatar               </td><td>Asia         </td><td>   833285</td><td> 92200</td></tr>\n",
       "\t<tr><th scope=row>6</th><td>CHE</td><td>Switzerland         </td><td>Europe       </td><td>  7604467</td><td> 88120</td></tr>\n",
       "\t<tr><th scope=row>7</th><td>MAC</td><td>Macao SAR, China    </td><td>Asia         </td><td>   559846</td><td> 76270</td></tr>\n",
       "\t<tr><th scope=row>8</th><td>LUX</td><td>Luxembourg          </td><td>Europe       </td><td>   491775</td><td> 75990</td></tr>\n",
       "\t<tr><th scope=row>10</th><td>AUS</td><td>Australia           </td><td>Oceania      </td><td> 21262641</td><td> 64540</td></tr>\n",
       "\t<tr><th scope=row>11</th><td>SWE</td><td>Sweden              </td><td>Europe       </td><td>  9059651</td><td> 61610</td></tr>\n",
       "\t<tr><th scope=row>12</th><td>DNK</td><td>Denmark             </td><td>Europe       </td><td>  5500510</td><td> 61310</td></tr>\n",
       "\t<tr><th scope=row>14</th><td>USA</td><td>United States       </td><td>North America</td><td>313973000</td><td> 55200</td></tr>\n",
       "\t<tr><th scope=row>15</th><td>SGP</td><td>Singapore           </td><td>Asia         </td><td>  4657542</td><td> 55150</td></tr>\n",
       "\t<tr><th scope=row>18</th><td>NLD</td><td>Netherlands         </td><td>Europe       </td><td> 16715999</td><td> 51890</td></tr>\n",
       "\t<tr><th scope=row>19</th><td>CAN</td><td>Canada              </td><td>North America</td><td> 33487208</td><td> 51630</td></tr>\n",
       "\t<tr><th scope=row>20</th><td>AUT</td><td>Austria             </td><td>Europe       </td><td>  8210281</td><td> 49670</td></tr>\n",
       "\t<tr><th scope=row>21</th><td>KWT</td><td>Kuwait              </td><td>Asia         </td><td>  2691158</td><td> 49300</td></tr>\n",
       "\t<tr><th scope=row>22</th><td>FIN</td><td>Finland             </td><td>Europe       </td><td>  5250275</td><td> 48420</td></tr>\n",
       "\t<tr><th scope=row>23</th><td>DEU</td><td>Germany             </td><td>Europe       </td><td> 82329758</td><td> 47640</td></tr>\n",
       "\t<tr><th scope=row>24</th><td>ISL</td><td>Iceland             </td><td>Europe       </td><td>   306694</td><td> 46350</td></tr>\n",
       "\t<tr><th scope=row>25</th><td>BEL</td><td>Belgium             </td><td>Europe       </td><td> 10414336</td><td> 47260</td></tr>\n",
       "\t<tr><th scope=row>26</th><td>IRL</td><td>Ireland             </td><td>Europe       </td><td>  4203200</td><td> 46550</td></tr>\n",
       "\t<tr><th scope=row>27</th><td>ARE</td><td>United Arab Emirates</td><td>Asia         </td><td>  4798491</td><td> 44600</td></tr>\n",
       "\t<tr><th scope=row>28</th><td>GBR</td><td>United Kingdom      </td><td>Europe       </td><td> 62262000</td><td> 43430</td></tr>\n",
       "\t<tr><th scope=row>29</th><td>FRA</td><td>France              </td><td>Europe       </td><td> 64057792</td><td> 42960</td></tr>\n",
       "\t<tr><th scope=row>30</th><td>JPN</td><td>Japan               </td><td>Asia         </td><td>127078679</td><td> 42000</td></tr>\n",
       "\t<tr><th scope=row>31</th><td>ADO</td><td>Andorra             </td><td>Europe       </td><td>    79218</td><td> 43270</td></tr>\n",
       "\t<tr><th scope=row>32</th><td>NZL</td><td>New Zealand         </td><td>Oceania      </td><td>  4213418</td><td> 41070</td></tr>\n",
       "\t<tr><th scope=row>33</th><td>HKG</td><td>Hong Kong SAR, China</td><td>Asia         </td><td>  7061200</td><td> 40320</td></tr>\n",
       "\t<tr><th scope=row>34</th><td>BRN</td><td>Brunei Darussalam   </td><td>Asia         </td><td>   388190</td><td> 37320</td></tr>\n",
       "\t<tr><th scope=row>35</th><td>ISR</td><td>Israel              </td><td>Asia         </td><td>  7233701</td><td> 35320</td></tr>\n",
       "\t<tr><th scope=row>36</th><td>ITA</td><td>Italy               </td><td>Europe       </td><td> 58126212</td><td> 34270</td></tr>\n",
       "\t<tr><th scope=row>⋮</th><td>⋮</td><td>⋮</td><td>⋮</td><td>⋮</td><td>⋮</td></tr>\n",
       "\t<tr><th scope=row>165</th><td>TJK</td><td>Tajikistan              </td><td>Asia         </td><td> 7349145</td><td>1080</td></tr>\n",
       "\t<tr><th scope=row>166</th><td>SEN</td><td>Senegal                 </td><td>Africa       </td><td>13711597</td><td>1050</td></tr>\n",
       "\t<tr><th scope=row>167</th><td>KHM</td><td>Cambodia                </td><td>Asia         </td><td>14494293</td><td>1020</td></tr>\n",
       "\t<tr><th scope=row>168</th><td>TCD</td><td>Chad                    </td><td>Africa       </td><td>10329208</td><td> 980</td></tr>\n",
       "\t<tr><th scope=row>169</th><td>SSD</td><td>South Sudan             </td><td>Africa       </td><td>10625176</td><td> 970</td></tr>\n",
       "\t<tr><th scope=row>170</th><td>TZA</td><td>Tanzania                </td><td>Africa       </td><td>41048532</td><td> 920</td></tr>\n",
       "\t<tr><th scope=row>171</th><td>BEN</td><td>Benin                   </td><td>Africa       </td><td> 8791832</td><td> 890</td></tr>\n",
       "\t<tr><th scope=row>172</th><td>ZWE</td><td>Zimbabwe                </td><td>Africa       </td><td>12619600</td><td> 840</td></tr>\n",
       "\t<tr><th scope=row>173</th><td>HTI</td><td>Haiti                   </td><td>North America</td><td> 9035536</td><td> 820</td></tr>\n",
       "\t<tr><th scope=row>174</th><td>COM</td><td>Comoros                 </td><td>Africa       </td><td>  752438</td><td> 790</td></tr>\n",
       "\t<tr><th scope=row>175</th><td>NPL</td><td>Nepal                   </td><td>Asia         </td><td>28563377</td><td> 730</td></tr>\n",
       "\t<tr><th scope=row>176</th><td>BFA</td><td>Burkina Faso            </td><td>Africa       </td><td>15746232</td><td> 700</td></tr>\n",
       "\t<tr><th scope=row>177</th><td>RWA</td><td>Rwanda                  </td><td>Africa       </td><td>10473282</td><td> 700</td></tr>\n",
       "\t<tr><th scope=row>178</th><td>SLE</td><td>Sierra Leone            </td><td>Africa       </td><td> 6440053</td><td> 700</td></tr>\n",
       "\t<tr><th scope=row>179</th><td>AFG</td><td>Afghanistan             </td><td>Asia         </td><td>28400000</td><td> 680</td></tr>\n",
       "\t<tr><th scope=row>180</th><td>UGA</td><td>Uganda                  </td><td>Africa       </td><td>32369558</td><td> 670</td></tr>\n",
       "\t<tr><th scope=row>181</th><td>MLI</td><td>Mali                    </td><td>Africa       </td><td>12666987</td><td> 650</td></tr>\n",
       "\t<tr><th scope=row>182</th><td>MOZ</td><td>Mozambique              </td><td>Africa       </td><td>21669278</td><td> 600</td></tr>\n",
       "\t<tr><th scope=row>183</th><td>TGO</td><td>Togo                    </td><td>Africa       </td><td> 6019877</td><td> 570</td></tr>\n",
       "\t<tr><th scope=row>184</th><td>ETH</td><td>Ethiopia                </td><td>Africa       </td><td>85237338</td><td> 550</td></tr>\n",
       "\t<tr><th scope=row>185</th><td>GNB</td><td>Guinea-Bissau           </td><td>Africa       </td><td> 1533964</td><td> 550</td></tr>\n",
       "\t<tr><th scope=row>186</th><td>GIN</td><td>Guinea                  </td><td>Africa       </td><td>10057975</td><td> 470</td></tr>\n",
       "\t<tr><th scope=row>187</th><td>GMB</td><td>Gambia, The             </td><td>Africa       </td><td> 1782893</td><td> 500</td></tr>\n",
       "\t<tr><th scope=row>188</th><td>MDG</td><td>Madagascar              </td><td>Africa       </td><td>20653556</td><td> 440</td></tr>\n",
       "\t<tr><th scope=row>189</th><td>NER</td><td>Niger                   </td><td>Africa       </td><td>15306252</td><td> 410</td></tr>\n",
       "\t<tr><th scope=row>190</th><td>COD</td><td>Congo, Dem. Rep.        </td><td>Africa       </td><td>68692542</td><td> 380</td></tr>\n",
       "\t<tr><th scope=row>191</th><td>LBR</td><td>Liberia                 </td><td>Africa       </td><td> 3441790</td><td> 370</td></tr>\n",
       "\t<tr><th scope=row>192</th><td>CAF</td><td>Central African Republic</td><td>Africa       </td><td> 4511488</td><td> 320</td></tr>\n",
       "\t<tr><th scope=row>193</th><td>BDI</td><td>Burundi                 </td><td>Africa       </td><td> 8988091</td><td> 270</td></tr>\n",
       "\t<tr><th scope=row>194</th><td>MWI</td><td>Malawi                  </td><td>Africa       </td><td>14268711</td><td> 250</td></tr>\n",
       "</tbody>\n",
       "</table>\n"
      ],
      "text/latex": [
       "A data.frame: 188 × 5\n",
       "\\begin{tabular}{r|lllll}\n",
       "  & iso3 & country & continent & population & GNI\\\\\n",
       "  & <chr> & <chr> & <fct> & <dbl> & <int>\\\\\n",
       "\\hline\n",
       "\t3 & BMU & Bermuda              & North America &     67837 & 106140\\\\\n",
       "\t4 & NOR & Norway               & Europe        &   4676305 & 103630\\\\\n",
       "\t5 & QAT & Qatar                & Asia          &    833285 &  92200\\\\\n",
       "\t6 & CHE & Switzerland          & Europe        &   7604467 &  88120\\\\\n",
       "\t7 & MAC & Macao SAR, China     & Asia          &    559846 &  76270\\\\\n",
       "\t8 & LUX & Luxembourg           & Europe        &    491775 &  75990\\\\\n",
       "\t10 & AUS & Australia            & Oceania       &  21262641 &  64540\\\\\n",
       "\t11 & SWE & Sweden               & Europe        &   9059651 &  61610\\\\\n",
       "\t12 & DNK & Denmark              & Europe        &   5500510 &  61310\\\\\n",
       "\t14 & USA & United States        & North America & 313973000 &  55200\\\\\n",
       "\t15 & SGP & Singapore            & Asia          &   4657542 &  55150\\\\\n",
       "\t18 & NLD & Netherlands          & Europe        &  16715999 &  51890\\\\\n",
       "\t19 & CAN & Canada               & North America &  33487208 &  51630\\\\\n",
       "\t20 & AUT & Austria              & Europe        &   8210281 &  49670\\\\\n",
       "\t21 & KWT & Kuwait               & Asia          &   2691158 &  49300\\\\\n",
       "\t22 & FIN & Finland              & Europe        &   5250275 &  48420\\\\\n",
       "\t23 & DEU & Germany              & Europe        &  82329758 &  47640\\\\\n",
       "\t24 & ISL & Iceland              & Europe        &    306694 &  46350\\\\\n",
       "\t25 & BEL & Belgium              & Europe        &  10414336 &  47260\\\\\n",
       "\t26 & IRL & Ireland              & Europe        &   4203200 &  46550\\\\\n",
       "\t27 & ARE & United Arab Emirates & Asia          &   4798491 &  44600\\\\\n",
       "\t28 & GBR & United Kingdom       & Europe        &  62262000 &  43430\\\\\n",
       "\t29 & FRA & France               & Europe        &  64057792 &  42960\\\\\n",
       "\t30 & JPN & Japan                & Asia          & 127078679 &  42000\\\\\n",
       "\t31 & ADO & Andorra              & Europe        &     79218 &  43270\\\\\n",
       "\t32 & NZL & New Zealand          & Oceania       &   4213418 &  41070\\\\\n",
       "\t33 & HKG & Hong Kong SAR, China & Asia          &   7061200 &  40320\\\\\n",
       "\t34 & BRN & Brunei Darussalam    & Asia          &    388190 &  37320\\\\\n",
       "\t35 & ISR & Israel               & Asia          &   7233701 &  35320\\\\\n",
       "\t36 & ITA & Italy                & Europe        &  58126212 &  34270\\\\\n",
       "\t⋮ & ⋮ & ⋮ & ⋮ & ⋮ & ⋮\\\\\n",
       "\t165 & TJK & Tajikistan               & Asia          &  7349145 & 1080\\\\\n",
       "\t166 & SEN & Senegal                  & Africa        & 13711597 & 1050\\\\\n",
       "\t167 & KHM & Cambodia                 & Asia          & 14494293 & 1020\\\\\n",
       "\t168 & TCD & Chad                     & Africa        & 10329208 &  980\\\\\n",
       "\t169 & SSD & South Sudan              & Africa        & 10625176 &  970\\\\\n",
       "\t170 & TZA & Tanzania                 & Africa        & 41048532 &  920\\\\\n",
       "\t171 & BEN & Benin                    & Africa        &  8791832 &  890\\\\\n",
       "\t172 & ZWE & Zimbabwe                 & Africa        & 12619600 &  840\\\\\n",
       "\t173 & HTI & Haiti                    & North America &  9035536 &  820\\\\\n",
       "\t174 & COM & Comoros                  & Africa        &   752438 &  790\\\\\n",
       "\t175 & NPL & Nepal                    & Asia          & 28563377 &  730\\\\\n",
       "\t176 & BFA & Burkina Faso             & Africa        & 15746232 &  700\\\\\n",
       "\t177 & RWA & Rwanda                   & Africa        & 10473282 &  700\\\\\n",
       "\t178 & SLE & Sierra Leone             & Africa        &  6440053 &  700\\\\\n",
       "\t179 & AFG & Afghanistan              & Asia          & 28400000 &  680\\\\\n",
       "\t180 & UGA & Uganda                   & Africa        & 32369558 &  670\\\\\n",
       "\t181 & MLI & Mali                     & Africa        & 12666987 &  650\\\\\n",
       "\t182 & MOZ & Mozambique               & Africa        & 21669278 &  600\\\\\n",
       "\t183 & TGO & Togo                     & Africa        &  6019877 &  570\\\\\n",
       "\t184 & ETH & Ethiopia                 & Africa        & 85237338 &  550\\\\\n",
       "\t185 & GNB & Guinea-Bissau            & Africa        &  1533964 &  550\\\\\n",
       "\t186 & GIN & Guinea                   & Africa        & 10057975 &  470\\\\\n",
       "\t187 & GMB & Gambia, The              & Africa        &  1782893 &  500\\\\\n",
       "\t188 & MDG & Madagascar               & Africa        & 20653556 &  440\\\\\n",
       "\t189 & NER & Niger                    & Africa        & 15306252 &  410\\\\\n",
       "\t190 & COD & Congo, Dem. Rep.         & Africa        & 68692542 &  380\\\\\n",
       "\t191 & LBR & Liberia                  & Africa        &  3441790 &  370\\\\\n",
       "\t192 & CAF & Central African Republic & Africa        &  4511488 &  320\\\\\n",
       "\t193 & BDI & Burundi                  & Africa        &  8988091 &  270\\\\\n",
       "\t194 & MWI & Malawi                   & Africa        & 14268711 &  250\\\\\n",
       "\\end{tabular}\n"
      ],
      "text/markdown": [
       "\n",
       "A data.frame: 188 × 5\n",
       "\n",
       "| <!--/--> | iso3 &lt;chr&gt; | country &lt;chr&gt; | continent &lt;fct&gt; | population &lt;dbl&gt; | GNI &lt;int&gt; |\n",
       "|---|---|---|---|---|---|\n",
       "| 3 | BMU | Bermuda              | North America |     67837 | 106140 |\n",
       "| 4 | NOR | Norway               | Europe        |   4676305 | 103630 |\n",
       "| 5 | QAT | Qatar                | Asia          |    833285 |  92200 |\n",
       "| 6 | CHE | Switzerland          | Europe        |   7604467 |  88120 |\n",
       "| 7 | MAC | Macao SAR, China     | Asia          |    559846 |  76270 |\n",
       "| 8 | LUX | Luxembourg           | Europe        |    491775 |  75990 |\n",
       "| 10 | AUS | Australia            | Oceania       |  21262641 |  64540 |\n",
       "| 11 | SWE | Sweden               | Europe        |   9059651 |  61610 |\n",
       "| 12 | DNK | Denmark              | Europe        |   5500510 |  61310 |\n",
       "| 14 | USA | United States        | North America | 313973000 |  55200 |\n",
       "| 15 | SGP | Singapore            | Asia          |   4657542 |  55150 |\n",
       "| 18 | NLD | Netherlands          | Europe        |  16715999 |  51890 |\n",
       "| 19 | CAN | Canada               | North America |  33487208 |  51630 |\n",
       "| 20 | AUT | Austria              | Europe        |   8210281 |  49670 |\n",
       "| 21 | KWT | Kuwait               | Asia          |   2691158 |  49300 |\n",
       "| 22 | FIN | Finland              | Europe        |   5250275 |  48420 |\n",
       "| 23 | DEU | Germany              | Europe        |  82329758 |  47640 |\n",
       "| 24 | ISL | Iceland              | Europe        |    306694 |  46350 |\n",
       "| 25 | BEL | Belgium              | Europe        |  10414336 |  47260 |\n",
       "| 26 | IRL | Ireland              | Europe        |   4203200 |  46550 |\n",
       "| 27 | ARE | United Arab Emirates | Asia          |   4798491 |  44600 |\n",
       "| 28 | GBR | United Kingdom       | Europe        |  62262000 |  43430 |\n",
       "| 29 | FRA | France               | Europe        |  64057792 |  42960 |\n",
       "| 30 | JPN | Japan                | Asia          | 127078679 |  42000 |\n",
       "| 31 | ADO | Andorra              | Europe        |     79218 |  43270 |\n",
       "| 32 | NZL | New Zealand          | Oceania       |   4213418 |  41070 |\n",
       "| 33 | HKG | Hong Kong SAR, China | Asia          |   7061200 |  40320 |\n",
       "| 34 | BRN | Brunei Darussalam    | Asia          |    388190 |  37320 |\n",
       "| 35 | ISR | Israel               | Asia          |   7233701 |  35320 |\n",
       "| 36 | ITA | Italy                | Europe        |  58126212 |  34270 |\n",
       "| ⋮ | ⋮ | ⋮ | ⋮ | ⋮ | ⋮ |\n",
       "| 165 | TJK | Tajikistan               | Asia          |  7349145 | 1080 |\n",
       "| 166 | SEN | Senegal                  | Africa        | 13711597 | 1050 |\n",
       "| 167 | KHM | Cambodia                 | Asia          | 14494293 | 1020 |\n",
       "| 168 | TCD | Chad                     | Africa        | 10329208 |  980 |\n",
       "| 169 | SSD | South Sudan              | Africa        | 10625176 |  970 |\n",
       "| 170 | TZA | Tanzania                 | Africa        | 41048532 |  920 |\n",
       "| 171 | BEN | Benin                    | Africa        |  8791832 |  890 |\n",
       "| 172 | ZWE | Zimbabwe                 | Africa        | 12619600 |  840 |\n",
       "| 173 | HTI | Haiti                    | North America |  9035536 |  820 |\n",
       "| 174 | COM | Comoros                  | Africa        |   752438 |  790 |\n",
       "| 175 | NPL | Nepal                    | Asia          | 28563377 |  730 |\n",
       "| 176 | BFA | Burkina Faso             | Africa        | 15746232 |  700 |\n",
       "| 177 | RWA | Rwanda                   | Africa        | 10473282 |  700 |\n",
       "| 178 | SLE | Sierra Leone             | Africa        |  6440053 |  700 |\n",
       "| 179 | AFG | Afghanistan              | Asia          | 28400000 |  680 |\n",
       "| 180 | UGA | Uganda                   | Africa        | 32369558 |  670 |\n",
       "| 181 | MLI | Mali                     | Africa        | 12666987 |  650 |\n",
       "| 182 | MOZ | Mozambique               | Africa        | 21669278 |  600 |\n",
       "| 183 | TGO | Togo                     | Africa        |  6019877 |  570 |\n",
       "| 184 | ETH | Ethiopia                 | Africa        | 85237338 |  550 |\n",
       "| 185 | GNB | Guinea-Bissau            | Africa        |  1533964 |  550 |\n",
       "| 186 | GIN | Guinea                   | Africa        | 10057975 |  470 |\n",
       "| 187 | GMB | Gambia, The              | Africa        |  1782893 |  500 |\n",
       "| 188 | MDG | Madagascar               | Africa        | 20653556 |  440 |\n",
       "| 189 | NER | Niger                    | Africa        | 15306252 |  410 |\n",
       "| 190 | COD | Congo, Dem. Rep.         | Africa        | 68692542 |  380 |\n",
       "| 191 | LBR | Liberia                  | Africa        |  3441790 |  370 |\n",
       "| 192 | CAF | Central African Republic | Africa        |  4511488 |  320 |\n",
       "| 193 | BDI | Burundi                  | Africa        |  8988091 |  270 |\n",
       "| 194 | MWI | Malawi                   | Africa        | 14268711 |  250 |\n",
       "\n"
      ],
      "text/plain": [
       "    iso3 country                  continent     population GNI   \n",
       "3   BMU  Bermuda                  North America     67837  106140\n",
       "4   NOR  Norway                   Europe          4676305  103630\n",
       "5   QAT  Qatar                    Asia             833285   92200\n",
       "6   CHE  Switzerland              Europe          7604467   88120\n",
       "7   MAC  Macao SAR, China         Asia             559846   76270\n",
       "8   LUX  Luxembourg               Europe           491775   75990\n",
       "10  AUS  Australia                Oceania        21262641   64540\n",
       "11  SWE  Sweden                   Europe          9059651   61610\n",
       "12  DNK  Denmark                  Europe          5500510   61310\n",
       "14  USA  United States            North America 313973000   55200\n",
       "15  SGP  Singapore                Asia            4657542   55150\n",
       "18  NLD  Netherlands              Europe         16715999   51890\n",
       "19  CAN  Canada                   North America  33487208   51630\n",
       "20  AUT  Austria                  Europe          8210281   49670\n",
       "21  KWT  Kuwait                   Asia            2691158   49300\n",
       "22  FIN  Finland                  Europe          5250275   48420\n",
       "23  DEU  Germany                  Europe         82329758   47640\n",
       "24  ISL  Iceland                  Europe           306694   46350\n",
       "25  BEL  Belgium                  Europe         10414336   47260\n",
       "26  IRL  Ireland                  Europe          4203200   46550\n",
       "27  ARE  United Arab Emirates     Asia            4798491   44600\n",
       "28  GBR  United Kingdom           Europe         62262000   43430\n",
       "29  FRA  France                   Europe         64057792   42960\n",
       "30  JPN  Japan                    Asia          127078679   42000\n",
       "31  ADO  Andorra                  Europe            79218   43270\n",
       "32  NZL  New Zealand              Oceania         4213418   41070\n",
       "33  HKG  Hong Kong SAR, China     Asia            7061200   40320\n",
       "34  BRN  Brunei Darussalam        Asia             388190   37320\n",
       "35  ISR  Israel                   Asia            7233701   35320\n",
       "36  ITA  Italy                    Europe         58126212   34270\n",
       "⋮   ⋮    ⋮                        ⋮             ⋮          ⋮     \n",
       "165 TJK  Tajikistan               Asia           7349145   1080  \n",
       "166 SEN  Senegal                  Africa        13711597   1050  \n",
       "167 KHM  Cambodia                 Asia          14494293   1020  \n",
       "168 TCD  Chad                     Africa        10329208    980  \n",
       "169 SSD  South Sudan              Africa        10625176    970  \n",
       "170 TZA  Tanzania                 Africa        41048532    920  \n",
       "171 BEN  Benin                    Africa         8791832    890  \n",
       "172 ZWE  Zimbabwe                 Africa        12619600    840  \n",
       "173 HTI  Haiti                    North America  9035536    820  \n",
       "174 COM  Comoros                  Africa          752438    790  \n",
       "175 NPL  Nepal                    Asia          28563377    730  \n",
       "176 BFA  Burkina Faso             Africa        15746232    700  \n",
       "177 RWA  Rwanda                   Africa        10473282    700  \n",
       "178 SLE  Sierra Leone             Africa         6440053    700  \n",
       "179 AFG  Afghanistan              Asia          28400000    680  \n",
       "180 UGA  Uganda                   Africa        32369558    670  \n",
       "181 MLI  Mali                     Africa        12666987    650  \n",
       "182 MOZ  Mozambique               Africa        21669278    600  \n",
       "183 TGO  Togo                     Africa         6019877    570  \n",
       "184 ETH  Ethiopia                 Africa        85237338    550  \n",
       "185 GNB  Guinea-Bissau            Africa         1533964    550  \n",
       "186 GIN  Guinea                   Africa        10057975    470  \n",
       "187 GMB  Gambia, The              Africa         1782893    500  \n",
       "188 MDG  Madagascar               Africa        20653556    440  \n",
       "189 NER  Niger                    Africa        15306252    410  \n",
       "190 COD  Congo, Dem. Rep.         Africa        68692542    380  \n",
       "191 LBR  Liberia                  Africa         3441790    370  \n",
       "192 CAF  Central African Republic Africa         4511488    320  \n",
       "193 BDI  Burundi                  Africa         8988091    270  \n",
       "194 MWI  Malawi                   Africa        14268711    250  "
      ]
     },
     "metadata": {},
     "output_type": "display_data"
    }
   ],
   "source": [
    "GNI2014"
   ]
  },
  {
   "cell_type": "code",
   "execution_count": 161,
   "id": "68d40420",
   "metadata": {},
   "outputs": [
    {
     "data": {
      "text/html": [
       "<table class=\"dataframe\">\n",
       "<caption>A data.frame: 6 × 5</caption>\n",
       "<thead>\n",
       "\t<tr><th></th><th scope=col>iso3</th><th scope=col>country</th><th scope=col>continent</th><th scope=col>population</th><th scope=col>GNI</th></tr>\n",
       "\t<tr><th></th><th scope=col>&lt;chr&gt;</th><th scope=col>&lt;chr&gt;</th><th scope=col>&lt;fct&gt;</th><th scope=col>&lt;dbl&gt;</th><th scope=col>&lt;int&gt;</th></tr>\n",
       "</thead>\n",
       "<tbody>\n",
       "\t<tr><th scope=row>3</th><td>BMU</td><td>Bermuda         </td><td>North America</td><td>  67837</td><td>106140</td></tr>\n",
       "\t<tr><th scope=row>4</th><td>NOR</td><td>Norway          </td><td>Europe       </td><td>4676305</td><td>103630</td></tr>\n",
       "\t<tr><th scope=row>5</th><td>QAT</td><td>Qatar           </td><td>Asia         </td><td> 833285</td><td> 92200</td></tr>\n",
       "\t<tr><th scope=row>6</th><td>CHE</td><td>Switzerland     </td><td>Europe       </td><td>7604467</td><td> 88120</td></tr>\n",
       "\t<tr><th scope=row>7</th><td>MAC</td><td>Macao SAR, China</td><td>Asia         </td><td> 559846</td><td> 76270</td></tr>\n",
       "\t<tr><th scope=row>8</th><td>LUX</td><td>Luxembourg      </td><td>Europe       </td><td> 491775</td><td> 75990</td></tr>\n",
       "</tbody>\n",
       "</table>\n"
      ],
      "text/latex": [
       "A data.frame: 6 × 5\n",
       "\\begin{tabular}{r|lllll}\n",
       "  & iso3 & country & continent & population & GNI\\\\\n",
       "  & <chr> & <chr> & <fct> & <dbl> & <int>\\\\\n",
       "\\hline\n",
       "\t3 & BMU & Bermuda          & North America &   67837 & 106140\\\\\n",
       "\t4 & NOR & Norway           & Europe        & 4676305 & 103630\\\\\n",
       "\t5 & QAT & Qatar            & Asia          &  833285 &  92200\\\\\n",
       "\t6 & CHE & Switzerland      & Europe        & 7604467 &  88120\\\\\n",
       "\t7 & MAC & Macao SAR, China & Asia          &  559846 &  76270\\\\\n",
       "\t8 & LUX & Luxembourg       & Europe        &  491775 &  75990\\\\\n",
       "\\end{tabular}\n"
      ],
      "text/markdown": [
       "\n",
       "A data.frame: 6 × 5\n",
       "\n",
       "| <!--/--> | iso3 &lt;chr&gt; | country &lt;chr&gt; | continent &lt;fct&gt; | population &lt;dbl&gt; | GNI &lt;int&gt; |\n",
       "|---|---|---|---|---|---|\n",
       "| 3 | BMU | Bermuda          | North America |   67837 | 106140 |\n",
       "| 4 | NOR | Norway           | Europe        | 4676305 | 103630 |\n",
       "| 5 | QAT | Qatar            | Asia          |  833285 |  92200 |\n",
       "| 6 | CHE | Switzerland      | Europe        | 7604467 |  88120 |\n",
       "| 7 | MAC | Macao SAR, China | Asia          |  559846 |  76270 |\n",
       "| 8 | LUX | Luxembourg       | Europe        |  491775 |  75990 |\n",
       "\n"
      ],
      "text/plain": [
       "  iso3 country          continent     population GNI   \n",
       "3 BMU  Bermuda          North America   67837    106140\n",
       "4 NOR  Norway           Europe        4676305    103630\n",
       "5 QAT  Qatar            Asia           833285     92200\n",
       "6 CHE  Switzerland      Europe        7604467     88120\n",
       "7 MAC  Macao SAR, China Asia           559846     76270\n",
       "8 LUX  Luxembourg       Europe         491775     75990"
      ]
     },
     "metadata": {},
     "output_type": "display_data"
    }
   ],
   "source": [
    "head(GNI2014)"
   ]
  },
  {
   "cell_type": "code",
   "execution_count": 169,
   "id": "60e9d24d",
   "metadata": {},
   "outputs": [
    {
     "data": {
      "image/png": "[encoded data removed]",
      "text/plain": [
       "plot without title"
      ]
     },
     "metadata": {
      "image/png": {
       "height": 420,
       "width": 420
      }
     },
     "output_type": "display_data"
    }
   ],
   "source": [
    "treemap(GNI2014,\n",
    "       index = c('continent', 'iso3'),\n",
    "       vSize = 'population',\n",
    "        vColor = 'GNI',\n",
    "       type = 'value',\n",
    "        bg.labels = 'yellow',\n",
    "        title = \"World's GNI\"\n",
    "       )"
   ]
  },
  {
   "cell_type": "code",
   "execution_count": 170,
   "id": "4cb17757",
   "metadata": {},
   "outputs": [],
   "source": [
    "st = data.frame(state.x77)"
   ]
  },
  {
   "cell_type": "code",
   "execution_count": 171,
   "id": "44870204",
   "metadata": {},
   "outputs": [
    {
     "data": {
      "text/html": [
       "<table class=\"dataframe\">\n",
       "<caption>A data.frame: 50 × 8</caption>\n",
       "<thead>\n",
       "\t<tr><th></th><th scope=col>Population</th><th scope=col>Income</th><th scope=col>Illiteracy</th><th scope=col>Life.Exp</th><th scope=col>Murder</th><th scope=col>HS.Grad</th><th scope=col>Frost</th><th scope=col>Area</th></tr>\n",
       "\t<tr><th></th><th scope=col>&lt;dbl&gt;</th><th scope=col>&lt;dbl&gt;</th><th scope=col>&lt;dbl&gt;</th><th scope=col>&lt;dbl&gt;</th><th scope=col>&lt;dbl&gt;</th><th scope=col>&lt;dbl&gt;</th><th scope=col>&lt;dbl&gt;</th><th scope=col>&lt;dbl&gt;</th></tr>\n",
       "</thead>\n",
       "<tbody>\n",
       "\t<tr><th scope=row>Alabama</th><td> 3615</td><td>3624</td><td>2.1</td><td>69.05</td><td>15.1</td><td>41.3</td><td> 20</td><td> 50708</td></tr>\n",
       "\t<tr><th scope=row>Alaska</th><td>  365</td><td>6315</td><td>1.5</td><td>69.31</td><td>11.3</td><td>66.7</td><td>152</td><td>566432</td></tr>\n",
       "\t<tr><th scope=row>Arizona</th><td> 2212</td><td>4530</td><td>1.8</td><td>70.55</td><td> 7.8</td><td>58.1</td><td> 15</td><td>113417</td></tr>\n",
       "\t<tr><th scope=row>Arkansas</th><td> 2110</td><td>3378</td><td>1.9</td><td>70.66</td><td>10.1</td><td>39.9</td><td> 65</td><td> 51945</td></tr>\n",
       "\t<tr><th scope=row>California</th><td>21198</td><td>5114</td><td>1.1</td><td>71.71</td><td>10.3</td><td>62.6</td><td> 20</td><td>156361</td></tr>\n",
       "\t<tr><th scope=row>Colorado</th><td> 2541</td><td>4884</td><td>0.7</td><td>72.06</td><td> 6.8</td><td>63.9</td><td>166</td><td>103766</td></tr>\n",
       "\t<tr><th scope=row>Connecticut</th><td> 3100</td><td>5348</td><td>1.1</td><td>72.48</td><td> 3.1</td><td>56.0</td><td>139</td><td>  4862</td></tr>\n",
       "\t<tr><th scope=row>Delaware</th><td>  579</td><td>4809</td><td>0.9</td><td>70.06</td><td> 6.2</td><td>54.6</td><td>103</td><td>  1982</td></tr>\n",
       "\t<tr><th scope=row>Florida</th><td> 8277</td><td>4815</td><td>1.3</td><td>70.66</td><td>10.7</td><td>52.6</td><td> 11</td><td> 54090</td></tr>\n",
       "\t<tr><th scope=row>Georgia</th><td> 4931</td><td>4091</td><td>2.0</td><td>68.54</td><td>13.9</td><td>40.6</td><td> 60</td><td> 58073</td></tr>\n",
       "\t<tr><th scope=row>Hawaii</th><td>  868</td><td>4963</td><td>1.9</td><td>73.60</td><td> 6.2</td><td>61.9</td><td>  0</td><td>  6425</td></tr>\n",
       "\t<tr><th scope=row>Idaho</th><td>  813</td><td>4119</td><td>0.6</td><td>71.87</td><td> 5.3</td><td>59.5</td><td>126</td><td> 82677</td></tr>\n",
       "\t<tr><th scope=row>Illinois</th><td>11197</td><td>5107</td><td>0.9</td><td>70.14</td><td>10.3</td><td>52.6</td><td>127</td><td> 55748</td></tr>\n",
       "\t<tr><th scope=row>Indiana</th><td> 5313</td><td>4458</td><td>0.7</td><td>70.88</td><td> 7.1</td><td>52.9</td><td>122</td><td> 36097</td></tr>\n",
       "\t<tr><th scope=row>Iowa</th><td> 2861</td><td>4628</td><td>0.5</td><td>72.56</td><td> 2.3</td><td>59.0</td><td>140</td><td> 55941</td></tr>\n",
       "\t<tr><th scope=row>Kansas</th><td> 2280</td><td>4669</td><td>0.6</td><td>72.58</td><td> 4.5</td><td>59.9</td><td>114</td><td> 81787</td></tr>\n",
       "\t<tr><th scope=row>Kentucky</th><td> 3387</td><td>3712</td><td>1.6</td><td>70.10</td><td>10.6</td><td>38.5</td><td> 95</td><td> 39650</td></tr>\n",
       "\t<tr><th scope=row>Louisiana</th><td> 3806</td><td>3545</td><td>2.8</td><td>68.76</td><td>13.2</td><td>42.2</td><td> 12</td><td> 44930</td></tr>\n",
       "\t<tr><th scope=row>Maine</th><td> 1058</td><td>3694</td><td>0.7</td><td>70.39</td><td> 2.7</td><td>54.7</td><td>161</td><td> 30920</td></tr>\n",
       "\t<tr><th scope=row>Maryland</th><td> 4122</td><td>5299</td><td>0.9</td><td>70.22</td><td> 8.5</td><td>52.3</td><td>101</td><td>  9891</td></tr>\n",
       "\t<tr><th scope=row>Massachusetts</th><td> 5814</td><td>4755</td><td>1.1</td><td>71.83</td><td> 3.3</td><td>58.5</td><td>103</td><td>  7826</td></tr>\n",
       "\t<tr><th scope=row>Michigan</th><td> 9111</td><td>4751</td><td>0.9</td><td>70.63</td><td>11.1</td><td>52.8</td><td>125</td><td> 56817</td></tr>\n",
       "\t<tr><th scope=row>Minnesota</th><td> 3921</td><td>4675</td><td>0.6</td><td>72.96</td><td> 2.3</td><td>57.6</td><td>160</td><td> 79289</td></tr>\n",
       "\t<tr><th scope=row>Mississippi</th><td> 2341</td><td>3098</td><td>2.4</td><td>68.09</td><td>12.5</td><td>41.0</td><td> 50</td><td> 47296</td></tr>\n",
       "\t<tr><th scope=row>Missouri</th><td> 4767</td><td>4254</td><td>0.8</td><td>70.69</td><td> 9.3</td><td>48.8</td><td>108</td><td> 68995</td></tr>\n",
       "\t<tr><th scope=row>Montana</th><td>  746</td><td>4347</td><td>0.6</td><td>70.56</td><td> 5.0</td><td>59.2</td><td>155</td><td>145587</td></tr>\n",
       "\t<tr><th scope=row>Nebraska</th><td> 1544</td><td>4508</td><td>0.6</td><td>72.60</td><td> 2.9</td><td>59.3</td><td>139</td><td> 76483</td></tr>\n",
       "\t<tr><th scope=row>Nevada</th><td>  590</td><td>5149</td><td>0.5</td><td>69.03</td><td>11.5</td><td>65.2</td><td>188</td><td>109889</td></tr>\n",
       "\t<tr><th scope=row>New Hampshire</th><td>  812</td><td>4281</td><td>0.7</td><td>71.23</td><td> 3.3</td><td>57.6</td><td>174</td><td>  9027</td></tr>\n",
       "\t<tr><th scope=row>New Jersey</th><td> 7333</td><td>5237</td><td>1.1</td><td>70.93</td><td> 5.2</td><td>52.5</td><td>115</td><td>  7521</td></tr>\n",
       "\t<tr><th scope=row>New Mexico</th><td> 1144</td><td>3601</td><td>2.2</td><td>70.32</td><td> 9.7</td><td>55.2</td><td>120</td><td>121412</td></tr>\n",
       "\t<tr><th scope=row>New York</th><td>18076</td><td>4903</td><td>1.4</td><td>70.55</td><td>10.9</td><td>52.7</td><td> 82</td><td> 47831</td></tr>\n",
       "\t<tr><th scope=row>North Carolina</th><td> 5441</td><td>3875</td><td>1.8</td><td>69.21</td><td>11.1</td><td>38.5</td><td> 80</td><td> 48798</td></tr>\n",
       "\t<tr><th scope=row>North Dakota</th><td>  637</td><td>5087</td><td>0.8</td><td>72.78</td><td> 1.4</td><td>50.3</td><td>186</td><td> 69273</td></tr>\n",
       "\t<tr><th scope=row>Ohio</th><td>10735</td><td>4561</td><td>0.8</td><td>70.82</td><td> 7.4</td><td>53.2</td><td>124</td><td> 40975</td></tr>\n",
       "\t<tr><th scope=row>Oklahoma</th><td> 2715</td><td>3983</td><td>1.1</td><td>71.42</td><td> 6.4</td><td>51.6</td><td> 82</td><td> 68782</td></tr>\n",
       "\t<tr><th scope=row>Oregon</th><td> 2284</td><td>4660</td><td>0.6</td><td>72.13</td><td> 4.2</td><td>60.0</td><td> 44</td><td> 96184</td></tr>\n",
       "\t<tr><th scope=row>Pennsylvania</th><td>11860</td><td>4449</td><td>1.0</td><td>70.43</td><td> 6.1</td><td>50.2</td><td>126</td><td> 44966</td></tr>\n",
       "\t<tr><th scope=row>Rhode Island</th><td>  931</td><td>4558</td><td>1.3</td><td>71.90</td><td> 2.4</td><td>46.4</td><td>127</td><td>  1049</td></tr>\n",
       "\t<tr><th scope=row>South Carolina</th><td> 2816</td><td>3635</td><td>2.3</td><td>67.96</td><td>11.6</td><td>37.8</td><td> 65</td><td> 30225</td></tr>\n",
       "\t<tr><th scope=row>South Dakota</th><td>  681</td><td>4167</td><td>0.5</td><td>72.08</td><td> 1.7</td><td>53.3</td><td>172</td><td> 75955</td></tr>\n",
       "\t<tr><th scope=row>Tennessee</th><td> 4173</td><td>3821</td><td>1.7</td><td>70.11</td><td>11.0</td><td>41.8</td><td> 70</td><td> 41328</td></tr>\n",
       "\t<tr><th scope=row>Texas</th><td>12237</td><td>4188</td><td>2.2</td><td>70.90</td><td>12.2</td><td>47.4</td><td> 35</td><td>262134</td></tr>\n",
       "\t<tr><th scope=row>Utah</th><td> 1203</td><td>4022</td><td>0.6</td><td>72.90</td><td> 4.5</td><td>67.3</td><td>137</td><td> 82096</td></tr>\n",
       "\t<tr><th scope=row>Vermont</th><td>  472</td><td>3907</td><td>0.6</td><td>71.64</td><td> 5.5</td><td>57.1</td><td>168</td><td>  9267</td></tr>\n",
       "\t<tr><th scope=row>Virginia</th><td> 4981</td><td>4701</td><td>1.4</td><td>70.08</td><td> 9.5</td><td>47.8</td><td> 85</td><td> 39780</td></tr>\n",
       "\t<tr><th scope=row>Washington</th><td> 3559</td><td>4864</td><td>0.6</td><td>71.72</td><td> 4.3</td><td>63.5</td><td> 32</td><td> 66570</td></tr>\n",
       "\t<tr><th scope=row>West Virginia</th><td> 1799</td><td>3617</td><td>1.4</td><td>69.48</td><td> 6.7</td><td>41.6</td><td>100</td><td> 24070</td></tr>\n",
       "\t<tr><th scope=row>Wisconsin</th><td> 4589</td><td>4468</td><td>0.7</td><td>72.48</td><td> 3.0</td><td>54.5</td><td>149</td><td> 54464</td></tr>\n",
       "\t<tr><th scope=row>Wyoming</th><td>  376</td><td>4566</td><td>0.6</td><td>70.29</td><td> 6.9</td><td>62.9</td><td>173</td><td> 97203</td></tr>\n",
       "</tbody>\n",
       "</table>\n"
      ],
      "text/latex": [
       "A data.frame: 50 × 8\n",
       "\\begin{tabular}{r|llllllll}\n",
       "  & Population & Income & Illiteracy & Life.Exp & Murder & HS.Grad & Frost & Area\\\\\n",
       "  & <dbl> & <dbl> & <dbl> & <dbl> & <dbl> & <dbl> & <dbl> & <dbl>\\\\\n",
       "\\hline\n",
       "\tAlabama &  3615 & 3624 & 2.1 & 69.05 & 15.1 & 41.3 &  20 &  50708\\\\\n",
       "\tAlaska &   365 & 6315 & 1.5 & 69.31 & 11.3 & 66.7 & 152 & 566432\\\\\n",
       "\tArizona &  2212 & 4530 & 1.8 & 70.55 &  7.8 & 58.1 &  15 & 113417\\\\\n",
       "\tArkansas &  2110 & 3378 & 1.9 & 70.66 & 10.1 & 39.9 &  65 &  51945\\\\\n",
       "\tCalifornia & 21198 & 5114 & 1.1 & 71.71 & 10.3 & 62.6 &  20 & 156361\\\\\n",
       "\tColorado &  2541 & 4884 & 0.7 & 72.06 &  6.8 & 63.9 & 166 & 103766\\\\\n",
       "\tConnecticut &  3100 & 5348 & 1.1 & 72.48 &  3.1 & 56.0 & 139 &   4862\\\\\n",
       "\tDelaware &   579 & 4809 & 0.9 & 70.06 &  6.2 & 54.6 & 103 &   1982\\\\\n",
       "\tFlorida &  8277 & 4815 & 1.3 & 70.66 & 10.7 & 52.6 &  11 &  54090\\\\\n",
       "\tGeorgia &  4931 & 4091 & 2.0 & 68.54 & 13.9 & 40.6 &  60 &  58073\\\\\n",
       "\tHawaii &   868 & 4963 & 1.9 & 73.60 &  6.2 & 61.9 &   0 &   6425\\\\\n",
       "\tIdaho &   813 & 4119 & 0.6 & 71.87 &  5.3 & 59.5 & 126 &  82677\\\\\n",
       "\tIllinois & 11197 & 5107 & 0.9 & 70.14 & 10.3 & 52.6 & 127 &  55748\\\\\n",
       "\tIndiana &  5313 & 4458 & 0.7 & 70.88 &  7.1 & 52.9 & 122 &  36097\\\\\n",
       "\tIowa &  2861 & 4628 & 0.5 & 72.56 &  2.3 & 59.0 & 140 &  55941\\\\\n",
       "\tKansas &  2280 & 4669 & 0.6 & 72.58 &  4.5 & 59.9 & 114 &  81787\\\\\n",
       "\tKentucky &  3387 & 3712 & 1.6 & 70.10 & 10.6 & 38.5 &  95 &  39650\\\\\n",
       "\tLouisiana &  3806 & 3545 & 2.8 & 68.76 & 13.2 & 42.2 &  12 &  44930\\\\\n",
       "\tMaine &  1058 & 3694 & 0.7 & 70.39 &  2.7 & 54.7 & 161 &  30920\\\\\n",
       "\tMaryland &  4122 & 5299 & 0.9 & 70.22 &  8.5 & 52.3 & 101 &   9891\\\\\n",
       "\tMassachusetts &  5814 & 4755 & 1.1 & 71.83 &  3.3 & 58.5 & 103 &   7826\\\\\n",
       "\tMichigan &  9111 & 4751 & 0.9 & 70.63 & 11.1 & 52.8 & 125 &  56817\\\\\n",
       "\tMinnesota &  3921 & 4675 & 0.6 & 72.96 &  2.3 & 57.6 & 160 &  79289\\\\\n",
       "\tMississippi &  2341 & 3098 & 2.4 & 68.09 & 12.5 & 41.0 &  50 &  47296\\\\\n",
       "\tMissouri &  4767 & 4254 & 0.8 & 70.69 &  9.3 & 48.8 & 108 &  68995\\\\\n",
       "\tMontana &   746 & 4347 & 0.6 & 70.56 &  5.0 & 59.2 & 155 & 145587\\\\\n",
       "\tNebraska &  1544 & 4508 & 0.6 & 72.60 &  2.9 & 59.3 & 139 &  76483\\\\\n",
       "\tNevada &   590 & 5149 & 0.5 & 69.03 & 11.5 & 65.2 & 188 & 109889\\\\\n",
       "\tNew Hampshire &   812 & 4281 & 0.7 & 71.23 &  3.3 & 57.6 & 174 &   9027\\\\\n",
       "\tNew Jersey &  7333 & 5237 & 1.1 & 70.93 &  5.2 & 52.5 & 115 &   7521\\\\\n",
       "\tNew Mexico &  1144 & 3601 & 2.2 & 70.32 &  9.7 & 55.2 & 120 & 121412\\\\\n",
       "\tNew York & 18076 & 4903 & 1.4 & 70.55 & 10.9 & 52.7 &  82 &  47831\\\\\n",
       "\tNorth Carolina &  5441 & 3875 & 1.8 & 69.21 & 11.1 & 38.5 &  80 &  48798\\\\\n",
       "\tNorth Dakota &   637 & 5087 & 0.8 & 72.78 &  1.4 & 50.3 & 186 &  69273\\\\\n",
       "\tOhio & 10735 & 4561 & 0.8 & 70.82 &  7.4 & 53.2 & 124 &  40975\\\\\n",
       "\tOklahoma &  2715 & 3983 & 1.1 & 71.42 &  6.4 & 51.6 &  82 &  68782\\\\\n",
       "\tOregon &  2284 & 4660 & 0.6 & 72.13 &  4.2 & 60.0 &  44 &  96184\\\\\n",
       "\tPennsylvania & 11860 & 4449 & 1.0 & 70.43 &  6.1 & 50.2 & 126 &  44966\\\\\n",
       "\tRhode Island &   931 & 4558 & 1.3 & 71.90 &  2.4 & 46.4 & 127 &   1049\\\\\n",
       "\tSouth Carolina &  2816 & 3635 & 2.3 & 67.96 & 11.6 & 37.8 &  65 &  30225\\\\\n",
       "\tSouth Dakota &   681 & 4167 & 0.5 & 72.08 &  1.7 & 53.3 & 172 &  75955\\\\\n",
       "\tTennessee &  4173 & 3821 & 1.7 & 70.11 & 11.0 & 41.8 &  70 &  41328\\\\\n",
       "\tTexas & 12237 & 4188 & 2.2 & 70.90 & 12.2 & 47.4 &  35 & 262134\\\\\n",
       "\tUtah &  1203 & 4022 & 0.6 & 72.90 &  4.5 & 67.3 & 137 &  82096\\\\\n",
       "\tVermont &   472 & 3907 & 0.6 & 71.64 &  5.5 & 57.1 & 168 &   9267\\\\\n",
       "\tVirginia &  4981 & 4701 & 1.4 & 70.08 &  9.5 & 47.8 &  85 &  39780\\\\\n",
       "\tWashington &  3559 & 4864 & 0.6 & 71.72 &  4.3 & 63.5 &  32 &  66570\\\\\n",
       "\tWest Virginia &  1799 & 3617 & 1.4 & 69.48 &  6.7 & 41.6 & 100 &  24070\\\\\n",
       "\tWisconsin &  4589 & 4468 & 0.7 & 72.48 &  3.0 & 54.5 & 149 &  54464\\\\\n",
       "\tWyoming &   376 & 4566 & 0.6 & 70.29 &  6.9 & 62.9 & 173 &  97203\\\\\n",
       "\\end{tabular}\n"
      ],
      "text/markdown": [
       "\n",
       "A data.frame: 50 × 8\n",
       "\n",
       "| <!--/--> | Population &lt;dbl&gt; | Income &lt;dbl&gt; | Illiteracy &lt;dbl&gt; | Life.Exp &lt;dbl&gt; | Murder &lt;dbl&gt; | HS.Grad &lt;dbl&gt; | Frost &lt;dbl&gt; | Area &lt;dbl&gt; |\n",
       "|---|---|---|---|---|---|---|---|---|\n",
       "| Alabama |  3615 | 3624 | 2.1 | 69.05 | 15.1 | 41.3 |  20 |  50708 |\n",
       "| Alaska |   365 | 6315 | 1.5 | 69.31 | 11.3 | 66.7 | 152 | 566432 |\n",
       "| Arizona |  2212 | 4530 | 1.8 | 70.55 |  7.8 | 58.1 |  15 | 113417 |\n",
       "| Arkansas |  2110 | 3378 | 1.9 | 70.66 | 10.1 | 39.9 |  65 |  51945 |\n",
       "| California | 21198 | 5114 | 1.1 | 71.71 | 10.3 | 62.6 |  20 | 156361 |\n",
       "| Colorado |  2541 | 4884 | 0.7 | 72.06 |  6.8 | 63.9 | 166 | 103766 |\n",
       "| Connecticut |  3100 | 5348 | 1.1 | 72.48 |  3.1 | 56.0 | 139 |   4862 |\n",
       "| Delaware |   579 | 4809 | 0.9 | 70.06 |  6.2 | 54.6 | 103 |   1982 |\n",
       "| Florida |  8277 | 4815 | 1.3 | 70.66 | 10.7 | 52.6 |  11 |  54090 |\n",
       "| Georgia |  4931 | 4091 | 2.0 | 68.54 | 13.9 | 40.6 |  60 |  58073 |\n",
       "| Hawaii |   868 | 4963 | 1.9 | 73.60 |  6.2 | 61.9 |   0 |   6425 |\n",
       "| Idaho |   813 | 4119 | 0.6 | 71.87 |  5.3 | 59.5 | 126 |  82677 |\n",
       "| Illinois | 11197 | 5107 | 0.9 | 70.14 | 10.3 | 52.6 | 127 |  55748 |\n",
       "| Indiana |  5313 | 4458 | 0.7 | 70.88 |  7.1 | 52.9 | 122 |  36097 |\n",
       "| Iowa |  2861 | 4628 | 0.5 | 72.56 |  2.3 | 59.0 | 140 |  55941 |\n",
       "| Kansas |  2280 | 4669 | 0.6 | 72.58 |  4.5 | 59.9 | 114 |  81787 |\n",
       "| Kentucky |  3387 | 3712 | 1.6 | 70.10 | 10.6 | 38.5 |  95 |  39650 |\n",
       "| Louisiana |  3806 | 3545 | 2.8 | 68.76 | 13.2 | 42.2 |  12 |  44930 |\n",
       "| Maine |  1058 | 3694 | 0.7 | 70.39 |  2.7 | 54.7 | 161 |  30920 |\n",
       "| Maryland |  4122 | 5299 | 0.9 | 70.22 |  8.5 | 52.3 | 101 |   9891 |\n",
       "| Massachusetts |  5814 | 4755 | 1.1 | 71.83 |  3.3 | 58.5 | 103 |   7826 |\n",
       "| Michigan |  9111 | 4751 | 0.9 | 70.63 | 11.1 | 52.8 | 125 |  56817 |\n",
       "| Minnesota |  3921 | 4675 | 0.6 | 72.96 |  2.3 | 57.6 | 160 |  79289 |\n",
       "| Mississippi |  2341 | 3098 | 2.4 | 68.09 | 12.5 | 41.0 |  50 |  47296 |\n",
       "| Missouri |  4767 | 4254 | 0.8 | 70.69 |  9.3 | 48.8 | 108 |  68995 |\n",
       "| Montana |   746 | 4347 | 0.6 | 70.56 |  5.0 | 59.2 | 155 | 145587 |\n",
       "| Nebraska |  1544 | 4508 | 0.6 | 72.60 |  2.9 | 59.3 | 139 |  76483 |\n",
       "| Nevada |   590 | 5149 | 0.5 | 69.03 | 11.5 | 65.2 | 188 | 109889 |\n",
       "| New Hampshire |   812 | 4281 | 0.7 | 71.23 |  3.3 | 57.6 | 174 |   9027 |\n",
       "| New Jersey |  7333 | 5237 | 1.1 | 70.93 |  5.2 | 52.5 | 115 |   7521 |\n",
       "| New Mexico |  1144 | 3601 | 2.2 | 70.32 |  9.7 | 55.2 | 120 | 121412 |\n",
       "| New York | 18076 | 4903 | 1.4 | 70.55 | 10.9 | 52.7 |  82 |  47831 |\n",
       "| North Carolina |  5441 | 3875 | 1.8 | 69.21 | 11.1 | 38.5 |  80 |  48798 |\n",
       "| North Dakota |   637 | 5087 | 0.8 | 72.78 |  1.4 | 50.3 | 186 |  69273 |\n",
       "| Ohio | 10735 | 4561 | 0.8 | 70.82 |  7.4 | 53.2 | 124 |  40975 |\n",
       "| Oklahoma |  2715 | 3983 | 1.1 | 71.42 |  6.4 | 51.6 |  82 |  68782 |\n",
       "| Oregon |  2284 | 4660 | 0.6 | 72.13 |  4.2 | 60.0 |  44 |  96184 |\n",
       "| Pennsylvania | 11860 | 4449 | 1.0 | 70.43 |  6.1 | 50.2 | 126 |  44966 |\n",
       "| Rhode Island |   931 | 4558 | 1.3 | 71.90 |  2.4 | 46.4 | 127 |   1049 |\n",
       "| South Carolina |  2816 | 3635 | 2.3 | 67.96 | 11.6 | 37.8 |  65 |  30225 |\n",
       "| South Dakota |   681 | 4167 | 0.5 | 72.08 |  1.7 | 53.3 | 172 |  75955 |\n",
       "| Tennessee |  4173 | 3821 | 1.7 | 70.11 | 11.0 | 41.8 |  70 |  41328 |\n",
       "| Texas | 12237 | 4188 | 2.2 | 70.90 | 12.2 | 47.4 |  35 | 262134 |\n",
       "| Utah |  1203 | 4022 | 0.6 | 72.90 |  4.5 | 67.3 | 137 |  82096 |\n",
       "| Vermont |   472 | 3907 | 0.6 | 71.64 |  5.5 | 57.1 | 168 |   9267 |\n",
       "| Virginia |  4981 | 4701 | 1.4 | 70.08 |  9.5 | 47.8 |  85 |  39780 |\n",
       "| Washington |  3559 | 4864 | 0.6 | 71.72 |  4.3 | 63.5 |  32 |  66570 |\n",
       "| West Virginia |  1799 | 3617 | 1.4 | 69.48 |  6.7 | 41.6 | 100 |  24070 |\n",
       "| Wisconsin |  4589 | 4468 | 0.7 | 72.48 |  3.0 | 54.5 | 149 |  54464 |\n",
       "| Wyoming |   376 | 4566 | 0.6 | 70.29 |  6.9 | 62.9 | 173 |  97203 |\n",
       "\n"
      ],
      "text/plain": [
       "               Population Income Illiteracy Life.Exp Murder HS.Grad Frost\n",
       "Alabama         3615      3624   2.1        69.05    15.1   41.3     20  \n",
       "Alaska           365      6315   1.5        69.31    11.3   66.7    152  \n",
       "Arizona         2212      4530   1.8        70.55     7.8   58.1     15  \n",
       "Arkansas        2110      3378   1.9        70.66    10.1   39.9     65  \n",
       "California     21198      5114   1.1        71.71    10.3   62.6     20  \n",
       "Colorado        2541      4884   0.7        72.06     6.8   63.9    166  \n",
       "Connecticut     3100      5348   1.1        72.48     3.1   56.0    139  \n",
       "Delaware         579      4809   0.9        70.06     6.2   54.6    103  \n",
       "Florida         8277      4815   1.3        70.66    10.7   52.6     11  \n",
       "Georgia         4931      4091   2.0        68.54    13.9   40.6     60  \n",
       "Hawaii           868      4963   1.9        73.60     6.2   61.9      0  \n",
       "Idaho            813      4119   0.6        71.87     5.3   59.5    126  \n",
       "Illinois       11197      5107   0.9        70.14    10.3   52.6    127  \n",
       "Indiana         5313      4458   0.7        70.88     7.1   52.9    122  \n",
       "Iowa            2861      4628   0.5        72.56     2.3   59.0    140  \n",
       "Kansas          2280      4669   0.6        72.58     4.5   59.9    114  \n",
       "Kentucky        3387      3712   1.6        70.10    10.6   38.5     95  \n",
       "Louisiana       3806      3545   2.8        68.76    13.2   42.2     12  \n",
       "Maine           1058      3694   0.7        70.39     2.7   54.7    161  \n",
       "Maryland        4122      5299   0.9        70.22     8.5   52.3    101  \n",
       "Massachusetts   5814      4755   1.1        71.83     3.3   58.5    103  \n",
       "Michigan        9111      4751   0.9        70.63    11.1   52.8    125  \n",
       "Minnesota       3921      4675   0.6        72.96     2.3   57.6    160  \n",
       "Mississippi     2341      3098   2.4        68.09    12.5   41.0     50  \n",
       "Missouri        4767      4254   0.8        70.69     9.3   48.8    108  \n",
       "Montana          746      4347   0.6        70.56     5.0   59.2    155  \n",
       "Nebraska        1544      4508   0.6        72.60     2.9   59.3    139  \n",
       "Nevada           590      5149   0.5        69.03    11.5   65.2    188  \n",
       "New Hampshire    812      4281   0.7        71.23     3.3   57.6    174  \n",
       "New Jersey      7333      5237   1.1        70.93     5.2   52.5    115  \n",
       "New Mexico      1144      3601   2.2        70.32     9.7   55.2    120  \n",
       "New York       18076      4903   1.4        70.55    10.9   52.7     82  \n",
       "North Carolina  5441      3875   1.8        69.21    11.1   38.5     80  \n",
       "North Dakota     637      5087   0.8        72.78     1.4   50.3    186  \n",
       "Ohio           10735      4561   0.8        70.82     7.4   53.2    124  \n",
       "Oklahoma        2715      3983   1.1        71.42     6.4   51.6     82  \n",
       "Oregon          2284      4660   0.6        72.13     4.2   60.0     44  \n",
       "Pennsylvania   11860      4449   1.0        70.43     6.1   50.2    126  \n",
       "Rhode Island     931      4558   1.3        71.90     2.4   46.4    127  \n",
       "South Carolina  2816      3635   2.3        67.96    11.6   37.8     65  \n",
       "South Dakota     681      4167   0.5        72.08     1.7   53.3    172  \n",
       "Tennessee       4173      3821   1.7        70.11    11.0   41.8     70  \n",
       "Texas          12237      4188   2.2        70.90    12.2   47.4     35  \n",
       "Utah            1203      4022   0.6        72.90     4.5   67.3    137  \n",
       "Vermont          472      3907   0.6        71.64     5.5   57.1    168  \n",
       "Virginia        4981      4701   1.4        70.08     9.5   47.8     85  \n",
       "Washington      3559      4864   0.6        71.72     4.3   63.5     32  \n",
       "West Virginia   1799      3617   1.4        69.48     6.7   41.6    100  \n",
       "Wisconsin       4589      4468   0.7        72.48     3.0   54.5    149  \n",
       "Wyoming          376      4566   0.6        70.29     6.9   62.9    173  \n",
       "               Area  \n",
       "Alabama         50708\n",
       "Alaska         566432\n",
       "Arizona        113417\n",
       "Arkansas        51945\n",
       "California     156361\n",
       "Colorado       103766\n",
       "Connecticut      4862\n",
       "Delaware         1982\n",
       "Florida         54090\n",
       "Georgia         58073\n",
       "Hawaii           6425\n",
       "Idaho           82677\n",
       "Illinois        55748\n",
       "Indiana         36097\n",
       "Iowa            55941\n",
       "Kansas          81787\n",
       "Kentucky        39650\n",
       "Louisiana       44930\n",
       "Maine           30920\n",
       "Maryland         9891\n",
       "Massachusetts    7826\n",
       "Michigan        56817\n",
       "Minnesota       79289\n",
       "Mississippi     47296\n",
       "Missouri        68995\n",
       "Montana        145587\n",
       "Nebraska        76483\n",
       "Nevada         109889\n",
       "New Hampshire    9027\n",
       "New Jersey       7521\n",
       "New Mexico     121412\n",
       "New York        47831\n",
       "North Carolina  48798\n",
       "North Dakota    69273\n",
       "Ohio            40975\n",
       "Oklahoma        68782\n",
       "Oregon          96184\n",
       "Pennsylvania    44966\n",
       "Rhode Island     1049\n",
       "South Carolina  30225\n",
       "South Dakota    75955\n",
       "Tennessee       41328\n",
       "Texas          262134\n",
       "Utah            82096\n",
       "Vermont          9267\n",
       "Virginia        39780\n",
       "Washington      66570\n",
       "West Virginia   24070\n",
       "Wisconsin       54464\n",
       "Wyoming         97203"
      ]
     },
     "metadata": {},
     "output_type": "display_data"
    }
   ],
   "source": [
    "st"
   ]
  },
  {
   "cell_type": "code",
   "execution_count": 173,
   "id": "e37b106b",
   "metadata": {},
   "outputs": [],
   "source": [
    "st = data.frame(st, stname = rownames(st))"
   ]
  },
  {
   "cell_type": "code",
   "execution_count": 175,
   "id": "89cecb4b",
   "metadata": {},
   "outputs": [],
   "source": [
    "st$stname = rownames(st)"
   ]
  },
  {
   "cell_type": "code",
   "execution_count": 177,
   "id": "da588662",
   "metadata": {},
   "outputs": [
    {
     "data": {
      "text/html": [
       "<table class=\"dataframe\">\n",
       "<caption>A data.frame: 50 × 9</caption>\n",
       "<thead>\n",
       "\t<tr><th></th><th scope=col>Population</th><th scope=col>Income</th><th scope=col>Illiteracy</th><th scope=col>Life.Exp</th><th scope=col>Murder</th><th scope=col>HS.Grad</th><th scope=col>Frost</th><th scope=col>Area</th><th scope=col>stname</th></tr>\n",
       "\t<tr><th></th><th scope=col>&lt;dbl&gt;</th><th scope=col>&lt;dbl&gt;</th><th scope=col>&lt;dbl&gt;</th><th scope=col>&lt;dbl&gt;</th><th scope=col>&lt;dbl&gt;</th><th scope=col>&lt;dbl&gt;</th><th scope=col>&lt;dbl&gt;</th><th scope=col>&lt;dbl&gt;</th><th scope=col>&lt;chr&gt;</th></tr>\n",
       "</thead>\n",
       "<tbody>\n",
       "\t<tr><th scope=row>Alabama</th><td> 3615</td><td>3624</td><td>2.1</td><td>69.05</td><td>15.1</td><td>41.3</td><td> 20</td><td> 50708</td><td>Alabama       </td></tr>\n",
       "\t<tr><th scope=row>Alaska</th><td>  365</td><td>6315</td><td>1.5</td><td>69.31</td><td>11.3</td><td>66.7</td><td>152</td><td>566432</td><td>Alaska        </td></tr>\n",
       "\t<tr><th scope=row>Arizona</th><td> 2212</td><td>4530</td><td>1.8</td><td>70.55</td><td> 7.8</td><td>58.1</td><td> 15</td><td>113417</td><td>Arizona       </td></tr>\n",
       "\t<tr><th scope=row>Arkansas</th><td> 2110</td><td>3378</td><td>1.9</td><td>70.66</td><td>10.1</td><td>39.9</td><td> 65</td><td> 51945</td><td>Arkansas      </td></tr>\n",
       "\t<tr><th scope=row>California</th><td>21198</td><td>5114</td><td>1.1</td><td>71.71</td><td>10.3</td><td>62.6</td><td> 20</td><td>156361</td><td>California    </td></tr>\n",
       "\t<tr><th scope=row>Colorado</th><td> 2541</td><td>4884</td><td>0.7</td><td>72.06</td><td> 6.8</td><td>63.9</td><td>166</td><td>103766</td><td>Colorado      </td></tr>\n",
       "\t<tr><th scope=row>Connecticut</th><td> 3100</td><td>5348</td><td>1.1</td><td>72.48</td><td> 3.1</td><td>56.0</td><td>139</td><td>  4862</td><td>Connecticut   </td></tr>\n",
       "\t<tr><th scope=row>Delaware</th><td>  579</td><td>4809</td><td>0.9</td><td>70.06</td><td> 6.2</td><td>54.6</td><td>103</td><td>  1982</td><td>Delaware      </td></tr>\n",
       "\t<tr><th scope=row>Florida</th><td> 8277</td><td>4815</td><td>1.3</td><td>70.66</td><td>10.7</td><td>52.6</td><td> 11</td><td> 54090</td><td>Florida       </td></tr>\n",
       "\t<tr><th scope=row>Georgia</th><td> 4931</td><td>4091</td><td>2.0</td><td>68.54</td><td>13.9</td><td>40.6</td><td> 60</td><td> 58073</td><td>Georgia       </td></tr>\n",
       "\t<tr><th scope=row>Hawaii</th><td>  868</td><td>4963</td><td>1.9</td><td>73.60</td><td> 6.2</td><td>61.9</td><td>  0</td><td>  6425</td><td>Hawaii        </td></tr>\n",
       "\t<tr><th scope=row>Idaho</th><td>  813</td><td>4119</td><td>0.6</td><td>71.87</td><td> 5.3</td><td>59.5</td><td>126</td><td> 82677</td><td>Idaho         </td></tr>\n",
       "\t<tr><th scope=row>Illinois</th><td>11197</td><td>5107</td><td>0.9</td><td>70.14</td><td>10.3</td><td>52.6</td><td>127</td><td> 55748</td><td>Illinois      </td></tr>\n",
       "\t<tr><th scope=row>Indiana</th><td> 5313</td><td>4458</td><td>0.7</td><td>70.88</td><td> 7.1</td><td>52.9</td><td>122</td><td> 36097</td><td>Indiana       </td></tr>\n",
       "\t<tr><th scope=row>Iowa</th><td> 2861</td><td>4628</td><td>0.5</td><td>72.56</td><td> 2.3</td><td>59.0</td><td>140</td><td> 55941</td><td>Iowa          </td></tr>\n",
       "\t<tr><th scope=row>Kansas</th><td> 2280</td><td>4669</td><td>0.6</td><td>72.58</td><td> 4.5</td><td>59.9</td><td>114</td><td> 81787</td><td>Kansas        </td></tr>\n",
       "\t<tr><th scope=row>Kentucky</th><td> 3387</td><td>3712</td><td>1.6</td><td>70.10</td><td>10.6</td><td>38.5</td><td> 95</td><td> 39650</td><td>Kentucky      </td></tr>\n",
       "\t<tr><th scope=row>Louisiana</th><td> 3806</td><td>3545</td><td>2.8</td><td>68.76</td><td>13.2</td><td>42.2</td><td> 12</td><td> 44930</td><td>Louisiana     </td></tr>\n",
       "\t<tr><th scope=row>Maine</th><td> 1058</td><td>3694</td><td>0.7</td><td>70.39</td><td> 2.7</td><td>54.7</td><td>161</td><td> 30920</td><td>Maine         </td></tr>\n",
       "\t<tr><th scope=row>Maryland</th><td> 4122</td><td>5299</td><td>0.9</td><td>70.22</td><td> 8.5</td><td>52.3</td><td>101</td><td>  9891</td><td>Maryland      </td></tr>\n",
       "\t<tr><th scope=row>Massachusetts</th><td> 5814</td><td>4755</td><td>1.1</td><td>71.83</td><td> 3.3</td><td>58.5</td><td>103</td><td>  7826</td><td>Massachusetts </td></tr>\n",
       "\t<tr><th scope=row>Michigan</th><td> 9111</td><td>4751</td><td>0.9</td><td>70.63</td><td>11.1</td><td>52.8</td><td>125</td><td> 56817</td><td>Michigan      </td></tr>\n",
       "\t<tr><th scope=row>Minnesota</th><td> 3921</td><td>4675</td><td>0.6</td><td>72.96</td><td> 2.3</td><td>57.6</td><td>160</td><td> 79289</td><td>Minnesota     </td></tr>\n",
       "\t<tr><th scope=row>Mississippi</th><td> 2341</td><td>3098</td><td>2.4</td><td>68.09</td><td>12.5</td><td>41.0</td><td> 50</td><td> 47296</td><td>Mississippi   </td></tr>\n",
       "\t<tr><th scope=row>Missouri</th><td> 4767</td><td>4254</td><td>0.8</td><td>70.69</td><td> 9.3</td><td>48.8</td><td>108</td><td> 68995</td><td>Missouri      </td></tr>\n",
       "\t<tr><th scope=row>Montana</th><td>  746</td><td>4347</td><td>0.6</td><td>70.56</td><td> 5.0</td><td>59.2</td><td>155</td><td>145587</td><td>Montana       </td></tr>\n",
       "\t<tr><th scope=row>Nebraska</th><td> 1544</td><td>4508</td><td>0.6</td><td>72.60</td><td> 2.9</td><td>59.3</td><td>139</td><td> 76483</td><td>Nebraska      </td></tr>\n",
       "\t<tr><th scope=row>Nevada</th><td>  590</td><td>5149</td><td>0.5</td><td>69.03</td><td>11.5</td><td>65.2</td><td>188</td><td>109889</td><td>Nevada        </td></tr>\n",
       "\t<tr><th scope=row>New Hampshire</th><td>  812</td><td>4281</td><td>0.7</td><td>71.23</td><td> 3.3</td><td>57.6</td><td>174</td><td>  9027</td><td>New Hampshire </td></tr>\n",
       "\t<tr><th scope=row>New Jersey</th><td> 7333</td><td>5237</td><td>1.1</td><td>70.93</td><td> 5.2</td><td>52.5</td><td>115</td><td>  7521</td><td>New Jersey    </td></tr>\n",
       "\t<tr><th scope=row>New Mexico</th><td> 1144</td><td>3601</td><td>2.2</td><td>70.32</td><td> 9.7</td><td>55.2</td><td>120</td><td>121412</td><td>New Mexico    </td></tr>\n",
       "\t<tr><th scope=row>New York</th><td>18076</td><td>4903</td><td>1.4</td><td>70.55</td><td>10.9</td><td>52.7</td><td> 82</td><td> 47831</td><td>New York      </td></tr>\n",
       "\t<tr><th scope=row>North Carolina</th><td> 5441</td><td>3875</td><td>1.8</td><td>69.21</td><td>11.1</td><td>38.5</td><td> 80</td><td> 48798</td><td>North Carolina</td></tr>\n",
       "\t<tr><th scope=row>North Dakota</th><td>  637</td><td>5087</td><td>0.8</td><td>72.78</td><td> 1.4</td><td>50.3</td><td>186</td><td> 69273</td><td>North Dakota  </td></tr>\n",
       "\t<tr><th scope=row>Ohio</th><td>10735</td><td>4561</td><td>0.8</td><td>70.82</td><td> 7.4</td><td>53.2</td><td>124</td><td> 40975</td><td>Ohio          </td></tr>\n",
       "\t<tr><th scope=row>Oklahoma</th><td> 2715</td><td>3983</td><td>1.1</td><td>71.42</td><td> 6.4</td><td>51.6</td><td> 82</td><td> 68782</td><td>Oklahoma      </td></tr>\n",
       "\t<tr><th scope=row>Oregon</th><td> 2284</td><td>4660</td><td>0.6</td><td>72.13</td><td> 4.2</td><td>60.0</td><td> 44</td><td> 96184</td><td>Oregon        </td></tr>\n",
       "\t<tr><th scope=row>Pennsylvania</th><td>11860</td><td>4449</td><td>1.0</td><td>70.43</td><td> 6.1</td><td>50.2</td><td>126</td><td> 44966</td><td>Pennsylvania  </td></tr>\n",
       "\t<tr><th scope=row>Rhode Island</th><td>  931</td><td>4558</td><td>1.3</td><td>71.90</td><td> 2.4</td><td>46.4</td><td>127</td><td>  1049</td><td>Rhode Island  </td></tr>\n",
       "\t<tr><th scope=row>South Carolina</th><td> 2816</td><td>3635</td><td>2.3</td><td>67.96</td><td>11.6</td><td>37.8</td><td> 65</td><td> 30225</td><td>South Carolina</td></tr>\n",
       "\t<tr><th scope=row>South Dakota</th><td>  681</td><td>4167</td><td>0.5</td><td>72.08</td><td> 1.7</td><td>53.3</td><td>172</td><td> 75955</td><td>South Dakota  </td></tr>\n",
       "\t<tr><th scope=row>Tennessee</th><td> 4173</td><td>3821</td><td>1.7</td><td>70.11</td><td>11.0</td><td>41.8</td><td> 70</td><td> 41328</td><td>Tennessee     </td></tr>\n",
       "\t<tr><th scope=row>Texas</th><td>12237</td><td>4188</td><td>2.2</td><td>70.90</td><td>12.2</td><td>47.4</td><td> 35</td><td>262134</td><td>Texas         </td></tr>\n",
       "\t<tr><th scope=row>Utah</th><td> 1203</td><td>4022</td><td>0.6</td><td>72.90</td><td> 4.5</td><td>67.3</td><td>137</td><td> 82096</td><td>Utah          </td></tr>\n",
       "\t<tr><th scope=row>Vermont</th><td>  472</td><td>3907</td><td>0.6</td><td>71.64</td><td> 5.5</td><td>57.1</td><td>168</td><td>  9267</td><td>Vermont       </td></tr>\n",
       "\t<tr><th scope=row>Virginia</th><td> 4981</td><td>4701</td><td>1.4</td><td>70.08</td><td> 9.5</td><td>47.8</td><td> 85</td><td> 39780</td><td>Virginia      </td></tr>\n",
       "\t<tr><th scope=row>Washington</th><td> 3559</td><td>4864</td><td>0.6</td><td>71.72</td><td> 4.3</td><td>63.5</td><td> 32</td><td> 66570</td><td>Washington    </td></tr>\n",
       "\t<tr><th scope=row>West Virginia</th><td> 1799</td><td>3617</td><td>1.4</td><td>69.48</td><td> 6.7</td><td>41.6</td><td>100</td><td> 24070</td><td>West Virginia </td></tr>\n",
       "\t<tr><th scope=row>Wisconsin</th><td> 4589</td><td>4468</td><td>0.7</td><td>72.48</td><td> 3.0</td><td>54.5</td><td>149</td><td> 54464</td><td>Wisconsin     </td></tr>\n",
       "\t<tr><th scope=row>Wyoming</th><td>  376</td><td>4566</td><td>0.6</td><td>70.29</td><td> 6.9</td><td>62.9</td><td>173</td><td> 97203</td><td>Wyoming       </td></tr>\n",
       "</tbody>\n",
       "</table>\n"
      ],
      "text/latex": [
       "A data.frame: 50 × 9\n",
       "\\begin{tabular}{r|lllllllll}\n",
       "  & Population & Income & Illiteracy & Life.Exp & Murder & HS.Grad & Frost & Area & stname\\\\\n",
       "  & <dbl> & <dbl> & <dbl> & <dbl> & <dbl> & <dbl> & <dbl> & <dbl> & <chr>\\\\\n",
       "\\hline\n",
       "\tAlabama &  3615 & 3624 & 2.1 & 69.05 & 15.1 & 41.3 &  20 &  50708 & Alabama       \\\\\n",
       "\tAlaska &   365 & 6315 & 1.5 & 69.31 & 11.3 & 66.7 & 152 & 566432 & Alaska        \\\\\n",
       "\tArizona &  2212 & 4530 & 1.8 & 70.55 &  7.8 & 58.1 &  15 & 113417 & Arizona       \\\\\n",
       "\tArkansas &  2110 & 3378 & 1.9 & 70.66 & 10.1 & 39.9 &  65 &  51945 & Arkansas      \\\\\n",
       "\tCalifornia & 21198 & 5114 & 1.1 & 71.71 & 10.3 & 62.6 &  20 & 156361 & California    \\\\\n",
       "\tColorado &  2541 & 4884 & 0.7 & 72.06 &  6.8 & 63.9 & 166 & 103766 & Colorado      \\\\\n",
       "\tConnecticut &  3100 & 5348 & 1.1 & 72.48 &  3.1 & 56.0 & 139 &   4862 & Connecticut   \\\\\n",
       "\tDelaware &   579 & 4809 & 0.9 & 70.06 &  6.2 & 54.6 & 103 &   1982 & Delaware      \\\\\n",
       "\tFlorida &  8277 & 4815 & 1.3 & 70.66 & 10.7 & 52.6 &  11 &  54090 & Florida       \\\\\n",
       "\tGeorgia &  4931 & 4091 & 2.0 & 68.54 & 13.9 & 40.6 &  60 &  58073 & Georgia       \\\\\n",
       "\tHawaii &   868 & 4963 & 1.9 & 73.60 &  6.2 & 61.9 &   0 &   6425 & Hawaii        \\\\\n",
       "\tIdaho &   813 & 4119 & 0.6 & 71.87 &  5.3 & 59.5 & 126 &  82677 & Idaho         \\\\\n",
       "\tIllinois & 11197 & 5107 & 0.9 & 70.14 & 10.3 & 52.6 & 127 &  55748 & Illinois      \\\\\n",
       "\tIndiana &  5313 & 4458 & 0.7 & 70.88 &  7.1 & 52.9 & 122 &  36097 & Indiana       \\\\\n",
       "\tIowa &  2861 & 4628 & 0.5 & 72.56 &  2.3 & 59.0 & 140 &  55941 & Iowa          \\\\\n",
       "\tKansas &  2280 & 4669 & 0.6 & 72.58 &  4.5 & 59.9 & 114 &  81787 & Kansas        \\\\\n",
       "\tKentucky &  3387 & 3712 & 1.6 & 70.10 & 10.6 & 38.5 &  95 &  39650 & Kentucky      \\\\\n",
       "\tLouisiana &  3806 & 3545 & 2.8 & 68.76 & 13.2 & 42.2 &  12 &  44930 & Louisiana     \\\\\n",
       "\tMaine &  1058 & 3694 & 0.7 & 70.39 &  2.7 & 54.7 & 161 &  30920 & Maine         \\\\\n",
       "\tMaryland &  4122 & 5299 & 0.9 & 70.22 &  8.5 & 52.3 & 101 &   9891 & Maryland      \\\\\n",
       "\tMassachusetts &  5814 & 4755 & 1.1 & 71.83 &  3.3 & 58.5 & 103 &   7826 & Massachusetts \\\\\n",
       "\tMichigan &  9111 & 4751 & 0.9 & 70.63 & 11.1 & 52.8 & 125 &  56817 & Michigan      \\\\\n",
       "\tMinnesota &  3921 & 4675 & 0.6 & 72.96 &  2.3 & 57.6 & 160 &  79289 & Minnesota     \\\\\n",
       "\tMississippi &  2341 & 3098 & 2.4 & 68.09 & 12.5 & 41.0 &  50 &  47296 & Mississippi   \\\\\n",
       "\tMissouri &  4767 & 4254 & 0.8 & 70.69 &  9.3 & 48.8 & 108 &  68995 & Missouri      \\\\\n",
       "\tMontana &   746 & 4347 & 0.6 & 70.56 &  5.0 & 59.2 & 155 & 145587 & Montana       \\\\\n",
       "\tNebraska &  1544 & 4508 & 0.6 & 72.60 &  2.9 & 59.3 & 139 &  76483 & Nebraska      \\\\\n",
       "\tNevada &   590 & 5149 & 0.5 & 69.03 & 11.5 & 65.2 & 188 & 109889 & Nevada        \\\\\n",
       "\tNew Hampshire &   812 & 4281 & 0.7 & 71.23 &  3.3 & 57.6 & 174 &   9027 & New Hampshire \\\\\n",
       "\tNew Jersey &  7333 & 5237 & 1.1 & 70.93 &  5.2 & 52.5 & 115 &   7521 & New Jersey    \\\\\n",
       "\tNew Mexico &  1144 & 3601 & 2.2 & 70.32 &  9.7 & 55.2 & 120 & 121412 & New Mexico    \\\\\n",
       "\tNew York & 18076 & 4903 & 1.4 & 70.55 & 10.9 & 52.7 &  82 &  47831 & New York      \\\\\n",
       "\tNorth Carolina &  5441 & 3875 & 1.8 & 69.21 & 11.1 & 38.5 &  80 &  48798 & North Carolina\\\\\n",
       "\tNorth Dakota &   637 & 5087 & 0.8 & 72.78 &  1.4 & 50.3 & 186 &  69273 & North Dakota  \\\\\n",
       "\tOhio & 10735 & 4561 & 0.8 & 70.82 &  7.4 & 53.2 & 124 &  40975 & Ohio          \\\\\n",
       "\tOklahoma &  2715 & 3983 & 1.1 & 71.42 &  6.4 & 51.6 &  82 &  68782 & Oklahoma      \\\\\n",
       "\tOregon &  2284 & 4660 & 0.6 & 72.13 &  4.2 & 60.0 &  44 &  96184 & Oregon        \\\\\n",
       "\tPennsylvania & 11860 & 4449 & 1.0 & 70.43 &  6.1 & 50.2 & 126 &  44966 & Pennsylvania  \\\\\n",
       "\tRhode Island &   931 & 4558 & 1.3 & 71.90 &  2.4 & 46.4 & 127 &   1049 & Rhode Island  \\\\\n",
       "\tSouth Carolina &  2816 & 3635 & 2.3 & 67.96 & 11.6 & 37.8 &  65 &  30225 & South Carolina\\\\\n",
       "\tSouth Dakota &   681 & 4167 & 0.5 & 72.08 &  1.7 & 53.3 & 172 &  75955 & South Dakota  \\\\\n",
       "\tTennessee &  4173 & 3821 & 1.7 & 70.11 & 11.0 & 41.8 &  70 &  41328 & Tennessee     \\\\\n",
       "\tTexas & 12237 & 4188 & 2.2 & 70.90 & 12.2 & 47.4 &  35 & 262134 & Texas         \\\\\n",
       "\tUtah &  1203 & 4022 & 0.6 & 72.90 &  4.5 & 67.3 & 137 &  82096 & Utah          \\\\\n",
       "\tVermont &   472 & 3907 & 0.6 & 71.64 &  5.5 & 57.1 & 168 &   9267 & Vermont       \\\\\n",
       "\tVirginia &  4981 & 4701 & 1.4 & 70.08 &  9.5 & 47.8 &  85 &  39780 & Virginia      \\\\\n",
       "\tWashington &  3559 & 4864 & 0.6 & 71.72 &  4.3 & 63.5 &  32 &  66570 & Washington    \\\\\n",
       "\tWest Virginia &  1799 & 3617 & 1.4 & 69.48 &  6.7 & 41.6 & 100 &  24070 & West Virginia \\\\\n",
       "\tWisconsin &  4589 & 4468 & 0.7 & 72.48 &  3.0 & 54.5 & 149 &  54464 & Wisconsin     \\\\\n",
       "\tWyoming &   376 & 4566 & 0.6 & 70.29 &  6.9 & 62.9 & 173 &  97203 & Wyoming       \\\\\n",
       "\\end{tabular}\n"
      ],
      "text/markdown": [
       "\n",
       "A data.frame: 50 × 9\n",
       "\n",
       "| <!--/--> | Population &lt;dbl&gt; | Income &lt;dbl&gt; | Illiteracy &lt;dbl&gt; | Life.Exp &lt;dbl&gt; | Murder &lt;dbl&gt; | HS.Grad &lt;dbl&gt; | Frost &lt;dbl&gt; | Area &lt;dbl&gt; | stname &lt;chr&gt; |\n",
       "|---|---|---|---|---|---|---|---|---|---|\n",
       "| Alabama |  3615 | 3624 | 2.1 | 69.05 | 15.1 | 41.3 |  20 |  50708 | Alabama        |\n",
       "| Alaska |   365 | 6315 | 1.5 | 69.31 | 11.3 | 66.7 | 152 | 566432 | Alaska         |\n",
       "| Arizona |  2212 | 4530 | 1.8 | 70.55 |  7.8 | 58.1 |  15 | 113417 | Arizona        |\n",
       "| Arkansas |  2110 | 3378 | 1.9 | 70.66 | 10.1 | 39.9 |  65 |  51945 | Arkansas       |\n",
       "| California | 21198 | 5114 | 1.1 | 71.71 | 10.3 | 62.6 |  20 | 156361 | California     |\n",
       "| Colorado |  2541 | 4884 | 0.7 | 72.06 |  6.8 | 63.9 | 166 | 103766 | Colorado       |\n",
       "| Connecticut |  3100 | 5348 | 1.1 | 72.48 |  3.1 | 56.0 | 139 |   4862 | Connecticut    |\n",
       "| Delaware |   579 | 4809 | 0.9 | 70.06 |  6.2 | 54.6 | 103 |   1982 | Delaware       |\n",
       "| Florida |  8277 | 4815 | 1.3 | 70.66 | 10.7 | 52.6 |  11 |  54090 | Florida        |\n",
       "| Georgia |  4931 | 4091 | 2.0 | 68.54 | 13.9 | 40.6 |  60 |  58073 | Georgia        |\n",
       "| Hawaii |   868 | 4963 | 1.9 | 73.60 |  6.2 | 61.9 |   0 |   6425 | Hawaii         |\n",
       "| Idaho |   813 | 4119 | 0.6 | 71.87 |  5.3 | 59.5 | 126 |  82677 | Idaho          |\n",
       "| Illinois | 11197 | 5107 | 0.9 | 70.14 | 10.3 | 52.6 | 127 |  55748 | Illinois       |\n",
       "| Indiana |  5313 | 4458 | 0.7 | 70.88 |  7.1 | 52.9 | 122 |  36097 | Indiana        |\n",
       "| Iowa |  2861 | 4628 | 0.5 | 72.56 |  2.3 | 59.0 | 140 |  55941 | Iowa           |\n",
       "| Kansas |  2280 | 4669 | 0.6 | 72.58 |  4.5 | 59.9 | 114 |  81787 | Kansas         |\n",
       "| Kentucky |  3387 | 3712 | 1.6 | 70.10 | 10.6 | 38.5 |  95 |  39650 | Kentucky       |\n",
       "| Louisiana |  3806 | 3545 | 2.8 | 68.76 | 13.2 | 42.2 |  12 |  44930 | Louisiana      |\n",
       "| Maine |  1058 | 3694 | 0.7 | 70.39 |  2.7 | 54.7 | 161 |  30920 | Maine          |\n",
       "| Maryland |  4122 | 5299 | 0.9 | 70.22 |  8.5 | 52.3 | 101 |   9891 | Maryland       |\n",
       "| Massachusetts |  5814 | 4755 | 1.1 | 71.83 |  3.3 | 58.5 | 103 |   7826 | Massachusetts  |\n",
       "| Michigan |  9111 | 4751 | 0.9 | 70.63 | 11.1 | 52.8 | 125 |  56817 | Michigan       |\n",
       "| Minnesota |  3921 | 4675 | 0.6 | 72.96 |  2.3 | 57.6 | 160 |  79289 | Minnesota      |\n",
       "| Mississippi |  2341 | 3098 | 2.4 | 68.09 | 12.5 | 41.0 |  50 |  47296 | Mississippi    |\n",
       "| Missouri |  4767 | 4254 | 0.8 | 70.69 |  9.3 | 48.8 | 108 |  68995 | Missouri       |\n",
       "| Montana |   746 | 4347 | 0.6 | 70.56 |  5.0 | 59.2 | 155 | 145587 | Montana        |\n",
       "| Nebraska |  1544 | 4508 | 0.6 | 72.60 |  2.9 | 59.3 | 139 |  76483 | Nebraska       |\n",
       "| Nevada |   590 | 5149 | 0.5 | 69.03 | 11.5 | 65.2 | 188 | 109889 | Nevada         |\n",
       "| New Hampshire |   812 | 4281 | 0.7 | 71.23 |  3.3 | 57.6 | 174 |   9027 | New Hampshire  |\n",
       "| New Jersey |  7333 | 5237 | 1.1 | 70.93 |  5.2 | 52.5 | 115 |   7521 | New Jersey     |\n",
       "| New Mexico |  1144 | 3601 | 2.2 | 70.32 |  9.7 | 55.2 | 120 | 121412 | New Mexico     |\n",
       "| New York | 18076 | 4903 | 1.4 | 70.55 | 10.9 | 52.7 |  82 |  47831 | New York       |\n",
       "| North Carolina |  5441 | 3875 | 1.8 | 69.21 | 11.1 | 38.5 |  80 |  48798 | North Carolina |\n",
       "| North Dakota |   637 | 5087 | 0.8 | 72.78 |  1.4 | 50.3 | 186 |  69273 | North Dakota   |\n",
       "| Ohio | 10735 | 4561 | 0.8 | 70.82 |  7.4 | 53.2 | 124 |  40975 | Ohio           |\n",
       "| Oklahoma |  2715 | 3983 | 1.1 | 71.42 |  6.4 | 51.6 |  82 |  68782 | Oklahoma       |\n",
       "| Oregon |  2284 | 4660 | 0.6 | 72.13 |  4.2 | 60.0 |  44 |  96184 | Oregon         |\n",
       "| Pennsylvania | 11860 | 4449 | 1.0 | 70.43 |  6.1 | 50.2 | 126 |  44966 | Pennsylvania   |\n",
       "| Rhode Island |   931 | 4558 | 1.3 | 71.90 |  2.4 | 46.4 | 127 |   1049 | Rhode Island   |\n",
       "| South Carolina |  2816 | 3635 | 2.3 | 67.96 | 11.6 | 37.8 |  65 |  30225 | South Carolina |\n",
       "| South Dakota |   681 | 4167 | 0.5 | 72.08 |  1.7 | 53.3 | 172 |  75955 | South Dakota   |\n",
       "| Tennessee |  4173 | 3821 | 1.7 | 70.11 | 11.0 | 41.8 |  70 |  41328 | Tennessee      |\n",
       "| Texas | 12237 | 4188 | 2.2 | 70.90 | 12.2 | 47.4 |  35 | 262134 | Texas          |\n",
       "| Utah |  1203 | 4022 | 0.6 | 72.90 |  4.5 | 67.3 | 137 |  82096 | Utah           |\n",
       "| Vermont |   472 | 3907 | 0.6 | 71.64 |  5.5 | 57.1 | 168 |   9267 | Vermont        |\n",
       "| Virginia |  4981 | 4701 | 1.4 | 70.08 |  9.5 | 47.8 |  85 |  39780 | Virginia       |\n",
       "| Washington |  3559 | 4864 | 0.6 | 71.72 |  4.3 | 63.5 |  32 |  66570 | Washington     |\n",
       "| West Virginia |  1799 | 3617 | 1.4 | 69.48 |  6.7 | 41.6 | 100 |  24070 | West Virginia  |\n",
       "| Wisconsin |  4589 | 4468 | 0.7 | 72.48 |  3.0 | 54.5 | 149 |  54464 | Wisconsin      |\n",
       "| Wyoming |   376 | 4566 | 0.6 | 70.29 |  6.9 | 62.9 | 173 |  97203 | Wyoming        |\n",
       "\n"
      ],
      "text/plain": [
       "               Population Income Illiteracy Life.Exp Murder HS.Grad Frost\n",
       "Alabama         3615      3624   2.1        69.05    15.1   41.3     20  \n",
       "Alaska           365      6315   1.5        69.31    11.3   66.7    152  \n",
       "Arizona         2212      4530   1.8        70.55     7.8   58.1     15  \n",
       "Arkansas        2110      3378   1.9        70.66    10.1   39.9     65  \n",
       "California     21198      5114   1.1        71.71    10.3   62.6     20  \n",
       "Colorado        2541      4884   0.7        72.06     6.8   63.9    166  \n",
       "Connecticut     3100      5348   1.1        72.48     3.1   56.0    139  \n",
       "Delaware         579      4809   0.9        70.06     6.2   54.6    103  \n",
       "Florida         8277      4815   1.3        70.66    10.7   52.6     11  \n",
       "Georgia         4931      4091   2.0        68.54    13.9   40.6     60  \n",
       "Hawaii           868      4963   1.9        73.60     6.2   61.9      0  \n",
       "Idaho            813      4119   0.6        71.87     5.3   59.5    126  \n",
       "Illinois       11197      5107   0.9        70.14    10.3   52.6    127  \n",
       "Indiana         5313      4458   0.7        70.88     7.1   52.9    122  \n",
       "Iowa            2861      4628   0.5        72.56     2.3   59.0    140  \n",
       "Kansas          2280      4669   0.6        72.58     4.5   59.9    114  \n",
       "Kentucky        3387      3712   1.6        70.10    10.6   38.5     95  \n",
       "Louisiana       3806      3545   2.8        68.76    13.2   42.2     12  \n",
       "Maine           1058      3694   0.7        70.39     2.7   54.7    161  \n",
       "Maryland        4122      5299   0.9        70.22     8.5   52.3    101  \n",
       "Massachusetts   5814      4755   1.1        71.83     3.3   58.5    103  \n",
       "Michigan        9111      4751   0.9        70.63    11.1   52.8    125  \n",
       "Minnesota       3921      4675   0.6        72.96     2.3   57.6    160  \n",
       "Mississippi     2341      3098   2.4        68.09    12.5   41.0     50  \n",
       "Missouri        4767      4254   0.8        70.69     9.3   48.8    108  \n",
       "Montana          746      4347   0.6        70.56     5.0   59.2    155  \n",
       "Nebraska        1544      4508   0.6        72.60     2.9   59.3    139  \n",
       "Nevada           590      5149   0.5        69.03    11.5   65.2    188  \n",
       "New Hampshire    812      4281   0.7        71.23     3.3   57.6    174  \n",
       "New Jersey      7333      5237   1.1        70.93     5.2   52.5    115  \n",
       "New Mexico      1144      3601   2.2        70.32     9.7   55.2    120  \n",
       "New York       18076      4903   1.4        70.55    10.9   52.7     82  \n",
       "North Carolina  5441      3875   1.8        69.21    11.1   38.5     80  \n",
       "North Dakota     637      5087   0.8        72.78     1.4   50.3    186  \n",
       "Ohio           10735      4561   0.8        70.82     7.4   53.2    124  \n",
       "Oklahoma        2715      3983   1.1        71.42     6.4   51.6     82  \n",
       "Oregon          2284      4660   0.6        72.13     4.2   60.0     44  \n",
       "Pennsylvania   11860      4449   1.0        70.43     6.1   50.2    126  \n",
       "Rhode Island     931      4558   1.3        71.90     2.4   46.4    127  \n",
       "South Carolina  2816      3635   2.3        67.96    11.6   37.8     65  \n",
       "South Dakota     681      4167   0.5        72.08     1.7   53.3    172  \n",
       "Tennessee       4173      3821   1.7        70.11    11.0   41.8     70  \n",
       "Texas          12237      4188   2.2        70.90    12.2   47.4     35  \n",
       "Utah            1203      4022   0.6        72.90     4.5   67.3    137  \n",
       "Vermont          472      3907   0.6        71.64     5.5   57.1    168  \n",
       "Virginia        4981      4701   1.4        70.08     9.5   47.8     85  \n",
       "Washington      3559      4864   0.6        71.72     4.3   63.5     32  \n",
       "West Virginia   1799      3617   1.4        69.48     6.7   41.6    100  \n",
       "Wisconsin       4589      4468   0.7        72.48     3.0   54.5    149  \n",
       "Wyoming          376      4566   0.6        70.29     6.9   62.9    173  \n",
       "               Area   stname        \n",
       "Alabama         50708 Alabama       \n",
       "Alaska         566432 Alaska        \n",
       "Arizona        113417 Arizona       \n",
       "Arkansas        51945 Arkansas      \n",
       "California     156361 California    \n",
       "Colorado       103766 Colorado      \n",
       "Connecticut      4862 Connecticut   \n",
       "Delaware         1982 Delaware      \n",
       "Florida         54090 Florida       \n",
       "Georgia         58073 Georgia       \n",
       "Hawaii           6425 Hawaii        \n",
       "Idaho           82677 Idaho         \n",
       "Illinois        55748 Illinois      \n",
       "Indiana         36097 Indiana       \n",
       "Iowa            55941 Iowa          \n",
       "Kansas          81787 Kansas        \n",
       "Kentucky        39650 Kentucky      \n",
       "Louisiana       44930 Louisiana     \n",
       "Maine           30920 Maine         \n",
       "Maryland         9891 Maryland      \n",
       "Massachusetts    7826 Massachusetts \n",
       "Michigan        56817 Michigan      \n",
       "Minnesota       79289 Minnesota     \n",
       "Mississippi     47296 Mississippi   \n",
       "Missouri        68995 Missouri      \n",
       "Montana        145587 Montana       \n",
       "Nebraska        76483 Nebraska      \n",
       "Nevada         109889 Nevada        \n",
       "New Hampshire    9027 New Hampshire \n",
       "New Jersey       7521 New Jersey    \n",
       "New Mexico     121412 New Mexico    \n",
       "New York        47831 New York      \n",
       "North Carolina  48798 North Carolina\n",
       "North Dakota    69273 North Dakota  \n",
       "Ohio            40975 Ohio          \n",
       "Oklahoma        68782 Oklahoma      \n",
       "Oregon          96184 Oregon        \n",
       "Pennsylvania    44966 Pennsylvania  \n",
       "Rhode Island     1049 Rhode Island  \n",
       "South Carolina  30225 South Carolina\n",
       "South Dakota    75955 South Dakota  \n",
       "Tennessee       41328 Tennessee     \n",
       "Texas          262134 Texas         \n",
       "Utah            82096 Utah          \n",
       "Vermont          9267 Vermont       \n",
       "Virginia        39780 Virginia      \n",
       "Washington      66570 Washington    \n",
       "West Virginia   24070 West Virginia \n",
       "Wisconsin       54464 Wisconsin     \n",
       "Wyoming         97203 Wyoming       "
      ]
     },
     "metadata": {},
     "output_type": "display_data"
    }
   ],
   "source": [
    "st"
   ]
  },
  {
   "cell_type": "code",
   "execution_count": 174,
   "id": "99526702",
   "metadata": {},
   "outputs": [
    {
     "data": {
      "text/html": [
       "<table class=\"dataframe\">\n",
       "<caption>A data.frame: 50 × 9</caption>\n",
       "<thead>\n",
       "\t<tr><th></th><th scope=col>Population</th><th scope=col>Income</th><th scope=col>Illiteracy</th><th scope=col>Life.Exp</th><th scope=col>Murder</th><th scope=col>HS.Grad</th><th scope=col>Frost</th><th scope=col>Area</th><th scope=col>stname</th></tr>\n",
       "\t<tr><th></th><th scope=col>&lt;dbl&gt;</th><th scope=col>&lt;dbl&gt;</th><th scope=col>&lt;dbl&gt;</th><th scope=col>&lt;dbl&gt;</th><th scope=col>&lt;dbl&gt;</th><th scope=col>&lt;dbl&gt;</th><th scope=col>&lt;dbl&gt;</th><th scope=col>&lt;dbl&gt;</th><th scope=col>&lt;chr&gt;</th></tr>\n",
       "</thead>\n",
       "<tbody>\n",
       "\t<tr><th scope=row>Alabama</th><td> 3615</td><td>3624</td><td>2.1</td><td>69.05</td><td>15.1</td><td>41.3</td><td> 20</td><td> 50708</td><td>Alabama       </td></tr>\n",
       "\t<tr><th scope=row>Alaska</th><td>  365</td><td>6315</td><td>1.5</td><td>69.31</td><td>11.3</td><td>66.7</td><td>152</td><td>566432</td><td>Alaska        </td></tr>\n",
       "\t<tr><th scope=row>Arizona</th><td> 2212</td><td>4530</td><td>1.8</td><td>70.55</td><td> 7.8</td><td>58.1</td><td> 15</td><td>113417</td><td>Arizona       </td></tr>\n",
       "\t<tr><th scope=row>Arkansas</th><td> 2110</td><td>3378</td><td>1.9</td><td>70.66</td><td>10.1</td><td>39.9</td><td> 65</td><td> 51945</td><td>Arkansas      </td></tr>\n",
       "\t<tr><th scope=row>California</th><td>21198</td><td>5114</td><td>1.1</td><td>71.71</td><td>10.3</td><td>62.6</td><td> 20</td><td>156361</td><td>California    </td></tr>\n",
       "\t<tr><th scope=row>Colorado</th><td> 2541</td><td>4884</td><td>0.7</td><td>72.06</td><td> 6.8</td><td>63.9</td><td>166</td><td>103766</td><td>Colorado      </td></tr>\n",
       "\t<tr><th scope=row>Connecticut</th><td> 3100</td><td>5348</td><td>1.1</td><td>72.48</td><td> 3.1</td><td>56.0</td><td>139</td><td>  4862</td><td>Connecticut   </td></tr>\n",
       "\t<tr><th scope=row>Delaware</th><td>  579</td><td>4809</td><td>0.9</td><td>70.06</td><td> 6.2</td><td>54.6</td><td>103</td><td>  1982</td><td>Delaware      </td></tr>\n",
       "\t<tr><th scope=row>Florida</th><td> 8277</td><td>4815</td><td>1.3</td><td>70.66</td><td>10.7</td><td>52.6</td><td> 11</td><td> 54090</td><td>Florida       </td></tr>\n",
       "\t<tr><th scope=row>Georgia</th><td> 4931</td><td>4091</td><td>2.0</td><td>68.54</td><td>13.9</td><td>40.6</td><td> 60</td><td> 58073</td><td>Georgia       </td></tr>\n",
       "\t<tr><th scope=row>Hawaii</th><td>  868</td><td>4963</td><td>1.9</td><td>73.60</td><td> 6.2</td><td>61.9</td><td>  0</td><td>  6425</td><td>Hawaii        </td></tr>\n",
       "\t<tr><th scope=row>Idaho</th><td>  813</td><td>4119</td><td>0.6</td><td>71.87</td><td> 5.3</td><td>59.5</td><td>126</td><td> 82677</td><td>Idaho         </td></tr>\n",
       "\t<tr><th scope=row>Illinois</th><td>11197</td><td>5107</td><td>0.9</td><td>70.14</td><td>10.3</td><td>52.6</td><td>127</td><td> 55748</td><td>Illinois      </td></tr>\n",
       "\t<tr><th scope=row>Indiana</th><td> 5313</td><td>4458</td><td>0.7</td><td>70.88</td><td> 7.1</td><td>52.9</td><td>122</td><td> 36097</td><td>Indiana       </td></tr>\n",
       "\t<tr><th scope=row>Iowa</th><td> 2861</td><td>4628</td><td>0.5</td><td>72.56</td><td> 2.3</td><td>59.0</td><td>140</td><td> 55941</td><td>Iowa          </td></tr>\n",
       "\t<tr><th scope=row>Kansas</th><td> 2280</td><td>4669</td><td>0.6</td><td>72.58</td><td> 4.5</td><td>59.9</td><td>114</td><td> 81787</td><td>Kansas        </td></tr>\n",
       "\t<tr><th scope=row>Kentucky</th><td> 3387</td><td>3712</td><td>1.6</td><td>70.10</td><td>10.6</td><td>38.5</td><td> 95</td><td> 39650</td><td>Kentucky      </td></tr>\n",
       "\t<tr><th scope=row>Louisiana</th><td> 3806</td><td>3545</td><td>2.8</td><td>68.76</td><td>13.2</td><td>42.2</td><td> 12</td><td> 44930</td><td>Louisiana     </td></tr>\n",
       "\t<tr><th scope=row>Maine</th><td> 1058</td><td>3694</td><td>0.7</td><td>70.39</td><td> 2.7</td><td>54.7</td><td>161</td><td> 30920</td><td>Maine         </td></tr>\n",
       "\t<tr><th scope=row>Maryland</th><td> 4122</td><td>5299</td><td>0.9</td><td>70.22</td><td> 8.5</td><td>52.3</td><td>101</td><td>  9891</td><td>Maryland      </td></tr>\n",
       "\t<tr><th scope=row>Massachusetts</th><td> 5814</td><td>4755</td><td>1.1</td><td>71.83</td><td> 3.3</td><td>58.5</td><td>103</td><td>  7826</td><td>Massachusetts </td></tr>\n",
       "\t<tr><th scope=row>Michigan</th><td> 9111</td><td>4751</td><td>0.9</td><td>70.63</td><td>11.1</td><td>52.8</td><td>125</td><td> 56817</td><td>Michigan      </td></tr>\n",
       "\t<tr><th scope=row>Minnesota</th><td> 3921</td><td>4675</td><td>0.6</td><td>72.96</td><td> 2.3</td><td>57.6</td><td>160</td><td> 79289</td><td>Minnesota     </td></tr>\n",
       "\t<tr><th scope=row>Mississippi</th><td> 2341</td><td>3098</td><td>2.4</td><td>68.09</td><td>12.5</td><td>41.0</td><td> 50</td><td> 47296</td><td>Mississippi   </td></tr>\n",
       "\t<tr><th scope=row>Missouri</th><td> 4767</td><td>4254</td><td>0.8</td><td>70.69</td><td> 9.3</td><td>48.8</td><td>108</td><td> 68995</td><td>Missouri      </td></tr>\n",
       "\t<tr><th scope=row>Montana</th><td>  746</td><td>4347</td><td>0.6</td><td>70.56</td><td> 5.0</td><td>59.2</td><td>155</td><td>145587</td><td>Montana       </td></tr>\n",
       "\t<tr><th scope=row>Nebraska</th><td> 1544</td><td>4508</td><td>0.6</td><td>72.60</td><td> 2.9</td><td>59.3</td><td>139</td><td> 76483</td><td>Nebraska      </td></tr>\n",
       "\t<tr><th scope=row>Nevada</th><td>  590</td><td>5149</td><td>0.5</td><td>69.03</td><td>11.5</td><td>65.2</td><td>188</td><td>109889</td><td>Nevada        </td></tr>\n",
       "\t<tr><th scope=row>New Hampshire</th><td>  812</td><td>4281</td><td>0.7</td><td>71.23</td><td> 3.3</td><td>57.6</td><td>174</td><td>  9027</td><td>New Hampshire </td></tr>\n",
       "\t<tr><th scope=row>New Jersey</th><td> 7333</td><td>5237</td><td>1.1</td><td>70.93</td><td> 5.2</td><td>52.5</td><td>115</td><td>  7521</td><td>New Jersey    </td></tr>\n",
       "\t<tr><th scope=row>New Mexico</th><td> 1144</td><td>3601</td><td>2.2</td><td>70.32</td><td> 9.7</td><td>55.2</td><td>120</td><td>121412</td><td>New Mexico    </td></tr>\n",
       "\t<tr><th scope=row>New York</th><td>18076</td><td>4903</td><td>1.4</td><td>70.55</td><td>10.9</td><td>52.7</td><td> 82</td><td> 47831</td><td>New York      </td></tr>\n",
       "\t<tr><th scope=row>North Carolina</th><td> 5441</td><td>3875</td><td>1.8</td><td>69.21</td><td>11.1</td><td>38.5</td><td> 80</td><td> 48798</td><td>North Carolina</td></tr>\n",
       "\t<tr><th scope=row>North Dakota</th><td>  637</td><td>5087</td><td>0.8</td><td>72.78</td><td> 1.4</td><td>50.3</td><td>186</td><td> 69273</td><td>North Dakota  </td></tr>\n",
       "\t<tr><th scope=row>Ohio</th><td>10735</td><td>4561</td><td>0.8</td><td>70.82</td><td> 7.4</td><td>53.2</td><td>124</td><td> 40975</td><td>Ohio          </td></tr>\n",
       "\t<tr><th scope=row>Oklahoma</th><td> 2715</td><td>3983</td><td>1.1</td><td>71.42</td><td> 6.4</td><td>51.6</td><td> 82</td><td> 68782</td><td>Oklahoma      </td></tr>\n",
       "\t<tr><th scope=row>Oregon</th><td> 2284</td><td>4660</td><td>0.6</td><td>72.13</td><td> 4.2</td><td>60.0</td><td> 44</td><td> 96184</td><td>Oregon        </td></tr>\n",
       "\t<tr><th scope=row>Pennsylvania</th><td>11860</td><td>4449</td><td>1.0</td><td>70.43</td><td> 6.1</td><td>50.2</td><td>126</td><td> 44966</td><td>Pennsylvania  </td></tr>\n",
       "\t<tr><th scope=row>Rhode Island</th><td>  931</td><td>4558</td><td>1.3</td><td>71.90</td><td> 2.4</td><td>46.4</td><td>127</td><td>  1049</td><td>Rhode Island  </td></tr>\n",
       "\t<tr><th scope=row>South Carolina</th><td> 2816</td><td>3635</td><td>2.3</td><td>67.96</td><td>11.6</td><td>37.8</td><td> 65</td><td> 30225</td><td>South Carolina</td></tr>\n",
       "\t<tr><th scope=row>South Dakota</th><td>  681</td><td>4167</td><td>0.5</td><td>72.08</td><td> 1.7</td><td>53.3</td><td>172</td><td> 75955</td><td>South Dakota  </td></tr>\n",
       "\t<tr><th scope=row>Tennessee</th><td> 4173</td><td>3821</td><td>1.7</td><td>70.11</td><td>11.0</td><td>41.8</td><td> 70</td><td> 41328</td><td>Tennessee     </td></tr>\n",
       "\t<tr><th scope=row>Texas</th><td>12237</td><td>4188</td><td>2.2</td><td>70.90</td><td>12.2</td><td>47.4</td><td> 35</td><td>262134</td><td>Texas         </td></tr>\n",
       "\t<tr><th scope=row>Utah</th><td> 1203</td><td>4022</td><td>0.6</td><td>72.90</td><td> 4.5</td><td>67.3</td><td>137</td><td> 82096</td><td>Utah          </td></tr>\n",
       "\t<tr><th scope=row>Vermont</th><td>  472</td><td>3907</td><td>0.6</td><td>71.64</td><td> 5.5</td><td>57.1</td><td>168</td><td>  9267</td><td>Vermont       </td></tr>\n",
       "\t<tr><th scope=row>Virginia</th><td> 4981</td><td>4701</td><td>1.4</td><td>70.08</td><td> 9.5</td><td>47.8</td><td> 85</td><td> 39780</td><td>Virginia      </td></tr>\n",
       "\t<tr><th scope=row>Washington</th><td> 3559</td><td>4864</td><td>0.6</td><td>71.72</td><td> 4.3</td><td>63.5</td><td> 32</td><td> 66570</td><td>Washington    </td></tr>\n",
       "\t<tr><th scope=row>West Virginia</th><td> 1799</td><td>3617</td><td>1.4</td><td>69.48</td><td> 6.7</td><td>41.6</td><td>100</td><td> 24070</td><td>West Virginia </td></tr>\n",
       "\t<tr><th scope=row>Wisconsin</th><td> 4589</td><td>4468</td><td>0.7</td><td>72.48</td><td> 3.0</td><td>54.5</td><td>149</td><td> 54464</td><td>Wisconsin     </td></tr>\n",
       "\t<tr><th scope=row>Wyoming</th><td>  376</td><td>4566</td><td>0.6</td><td>70.29</td><td> 6.9</td><td>62.9</td><td>173</td><td> 97203</td><td>Wyoming       </td></tr>\n",
       "</tbody>\n",
       "</table>\n"
      ],
      "text/latex": [
       "A data.frame: 50 × 9\n",
       "\\begin{tabular}{r|lllllllll}\n",
       "  & Population & Income & Illiteracy & Life.Exp & Murder & HS.Grad & Frost & Area & stname\\\\\n",
       "  & <dbl> & <dbl> & <dbl> & <dbl> & <dbl> & <dbl> & <dbl> & <dbl> & <chr>\\\\\n",
       "\\hline\n",
       "\tAlabama &  3615 & 3624 & 2.1 & 69.05 & 15.1 & 41.3 &  20 &  50708 & Alabama       \\\\\n",
       "\tAlaska &   365 & 6315 & 1.5 & 69.31 & 11.3 & 66.7 & 152 & 566432 & Alaska        \\\\\n",
       "\tArizona &  2212 & 4530 & 1.8 & 70.55 &  7.8 & 58.1 &  15 & 113417 & Arizona       \\\\\n",
       "\tArkansas &  2110 & 3378 & 1.9 & 70.66 & 10.1 & 39.9 &  65 &  51945 & Arkansas      \\\\\n",
       "\tCalifornia & 21198 & 5114 & 1.1 & 71.71 & 10.3 & 62.6 &  20 & 156361 & California    \\\\\n",
       "\tColorado &  2541 & 4884 & 0.7 & 72.06 &  6.8 & 63.9 & 166 & 103766 & Colorado      \\\\\n",
       "\tConnecticut &  3100 & 5348 & 1.1 & 72.48 &  3.1 & 56.0 & 139 &   4862 & Connecticut   \\\\\n",
       "\tDelaware &   579 & 4809 & 0.9 & 70.06 &  6.2 & 54.6 & 103 &   1982 & Delaware      \\\\\n",
       "\tFlorida &  8277 & 4815 & 1.3 & 70.66 & 10.7 & 52.6 &  11 &  54090 & Florida       \\\\\n",
       "\tGeorgia &  4931 & 4091 & 2.0 & 68.54 & 13.9 & 40.6 &  60 &  58073 & Georgia       \\\\\n",
       "\tHawaii &   868 & 4963 & 1.9 & 73.60 &  6.2 & 61.9 &   0 &   6425 & Hawaii        \\\\\n",
       "\tIdaho &   813 & 4119 & 0.6 & 71.87 &  5.3 & 59.5 & 126 &  82677 & Idaho         \\\\\n",
       "\tIllinois & 11197 & 5107 & 0.9 & 70.14 & 10.3 & 52.6 & 127 &  55748 & Illinois      \\\\\n",
       "\tIndiana &  5313 & 4458 & 0.7 & 70.88 &  7.1 & 52.9 & 122 &  36097 & Indiana       \\\\\n",
       "\tIowa &  2861 & 4628 & 0.5 & 72.56 &  2.3 & 59.0 & 140 &  55941 & Iowa          \\\\\n",
       "\tKansas &  2280 & 4669 & 0.6 & 72.58 &  4.5 & 59.9 & 114 &  81787 & Kansas        \\\\\n",
       "\tKentucky &  3387 & 3712 & 1.6 & 70.10 & 10.6 & 38.5 &  95 &  39650 & Kentucky      \\\\\n",
       "\tLouisiana &  3806 & 3545 & 2.8 & 68.76 & 13.2 & 42.2 &  12 &  44930 & Louisiana     \\\\\n",
       "\tMaine &  1058 & 3694 & 0.7 & 70.39 &  2.7 & 54.7 & 161 &  30920 & Maine         \\\\\n",
       "\tMaryland &  4122 & 5299 & 0.9 & 70.22 &  8.5 & 52.3 & 101 &   9891 & Maryland      \\\\\n",
       "\tMassachusetts &  5814 & 4755 & 1.1 & 71.83 &  3.3 & 58.5 & 103 &   7826 & Massachusetts \\\\\n",
       "\tMichigan &  9111 & 4751 & 0.9 & 70.63 & 11.1 & 52.8 & 125 &  56817 & Michigan      \\\\\n",
       "\tMinnesota &  3921 & 4675 & 0.6 & 72.96 &  2.3 & 57.6 & 160 &  79289 & Minnesota     \\\\\n",
       "\tMississippi &  2341 & 3098 & 2.4 & 68.09 & 12.5 & 41.0 &  50 &  47296 & Mississippi   \\\\\n",
       "\tMissouri &  4767 & 4254 & 0.8 & 70.69 &  9.3 & 48.8 & 108 &  68995 & Missouri      \\\\\n",
       "\tMontana &   746 & 4347 & 0.6 & 70.56 &  5.0 & 59.2 & 155 & 145587 & Montana       \\\\\n",
       "\tNebraska &  1544 & 4508 & 0.6 & 72.60 &  2.9 & 59.3 & 139 &  76483 & Nebraska      \\\\\n",
       "\tNevada &   590 & 5149 & 0.5 & 69.03 & 11.5 & 65.2 & 188 & 109889 & Nevada        \\\\\n",
       "\tNew Hampshire &   812 & 4281 & 0.7 & 71.23 &  3.3 & 57.6 & 174 &   9027 & New Hampshire \\\\\n",
       "\tNew Jersey &  7333 & 5237 & 1.1 & 70.93 &  5.2 & 52.5 & 115 &   7521 & New Jersey    \\\\\n",
       "\tNew Mexico &  1144 & 3601 & 2.2 & 70.32 &  9.7 & 55.2 & 120 & 121412 & New Mexico    \\\\\n",
       "\tNew York & 18076 & 4903 & 1.4 & 70.55 & 10.9 & 52.7 &  82 &  47831 & New York      \\\\\n",
       "\tNorth Carolina &  5441 & 3875 & 1.8 & 69.21 & 11.1 & 38.5 &  80 &  48798 & North Carolina\\\\\n",
       "\tNorth Dakota &   637 & 5087 & 0.8 & 72.78 &  1.4 & 50.3 & 186 &  69273 & North Dakota  \\\\\n",
       "\tOhio & 10735 & 4561 & 0.8 & 70.82 &  7.4 & 53.2 & 124 &  40975 & Ohio          \\\\\n",
       "\tOklahoma &  2715 & 3983 & 1.1 & 71.42 &  6.4 & 51.6 &  82 &  68782 & Oklahoma      \\\\\n",
       "\tOregon &  2284 & 4660 & 0.6 & 72.13 &  4.2 & 60.0 &  44 &  96184 & Oregon        \\\\\n",
       "\tPennsylvania & 11860 & 4449 & 1.0 & 70.43 &  6.1 & 50.2 & 126 &  44966 & Pennsylvania  \\\\\n",
       "\tRhode Island &   931 & 4558 & 1.3 & 71.90 &  2.4 & 46.4 & 127 &   1049 & Rhode Island  \\\\\n",
       "\tSouth Carolina &  2816 & 3635 & 2.3 & 67.96 & 11.6 & 37.8 &  65 &  30225 & South Carolina\\\\\n",
       "\tSouth Dakota &   681 & 4167 & 0.5 & 72.08 &  1.7 & 53.3 & 172 &  75955 & South Dakota  \\\\\n",
       "\tTennessee &  4173 & 3821 & 1.7 & 70.11 & 11.0 & 41.8 &  70 &  41328 & Tennessee     \\\\\n",
       "\tTexas & 12237 & 4188 & 2.2 & 70.90 & 12.2 & 47.4 &  35 & 262134 & Texas         \\\\\n",
       "\tUtah &  1203 & 4022 & 0.6 & 72.90 &  4.5 & 67.3 & 137 &  82096 & Utah          \\\\\n",
       "\tVermont &   472 & 3907 & 0.6 & 71.64 &  5.5 & 57.1 & 168 &   9267 & Vermont       \\\\\n",
       "\tVirginia &  4981 & 4701 & 1.4 & 70.08 &  9.5 & 47.8 &  85 &  39780 & Virginia      \\\\\n",
       "\tWashington &  3559 & 4864 & 0.6 & 71.72 &  4.3 & 63.5 &  32 &  66570 & Washington    \\\\\n",
       "\tWest Virginia &  1799 & 3617 & 1.4 & 69.48 &  6.7 & 41.6 & 100 &  24070 & West Virginia \\\\\n",
       "\tWisconsin &  4589 & 4468 & 0.7 & 72.48 &  3.0 & 54.5 & 149 &  54464 & Wisconsin     \\\\\n",
       "\tWyoming &   376 & 4566 & 0.6 & 70.29 &  6.9 & 62.9 & 173 &  97203 & Wyoming       \\\\\n",
       "\\end{tabular}\n"
      ],
      "text/markdown": [
       "\n",
       "A data.frame: 50 × 9\n",
       "\n",
       "| <!--/--> | Population &lt;dbl&gt; | Income &lt;dbl&gt; | Illiteracy &lt;dbl&gt; | Life.Exp &lt;dbl&gt; | Murder &lt;dbl&gt; | HS.Grad &lt;dbl&gt; | Frost &lt;dbl&gt; | Area &lt;dbl&gt; | stname &lt;chr&gt; |\n",
       "|---|---|---|---|---|---|---|---|---|---|\n",
       "| Alabama |  3615 | 3624 | 2.1 | 69.05 | 15.1 | 41.3 |  20 |  50708 | Alabama        |\n",
       "| Alaska |   365 | 6315 | 1.5 | 69.31 | 11.3 | 66.7 | 152 | 566432 | Alaska         |\n",
       "| Arizona |  2212 | 4530 | 1.8 | 70.55 |  7.8 | 58.1 |  15 | 113417 | Arizona        |\n",
       "| Arkansas |  2110 | 3378 | 1.9 | 70.66 | 10.1 | 39.9 |  65 |  51945 | Arkansas       |\n",
       "| California | 21198 | 5114 | 1.1 | 71.71 | 10.3 | 62.6 |  20 | 156361 | California     |\n",
       "| Colorado |  2541 | 4884 | 0.7 | 72.06 |  6.8 | 63.9 | 166 | 103766 | Colorado       |\n",
       "| Connecticut |  3100 | 5348 | 1.1 | 72.48 |  3.1 | 56.0 | 139 |   4862 | Connecticut    |\n",
       "| Delaware |   579 | 4809 | 0.9 | 70.06 |  6.2 | 54.6 | 103 |   1982 | Delaware       |\n",
       "| Florida |  8277 | 4815 | 1.3 | 70.66 | 10.7 | 52.6 |  11 |  54090 | Florida        |\n",
       "| Georgia |  4931 | 4091 | 2.0 | 68.54 | 13.9 | 40.6 |  60 |  58073 | Georgia        |\n",
       "| Hawaii |   868 | 4963 | 1.9 | 73.60 |  6.2 | 61.9 |   0 |   6425 | Hawaii         |\n",
       "| Idaho |   813 | 4119 | 0.6 | 71.87 |  5.3 | 59.5 | 126 |  82677 | Idaho          |\n",
       "| Illinois | 11197 | 5107 | 0.9 | 70.14 | 10.3 | 52.6 | 127 |  55748 | Illinois       |\n",
       "| Indiana |  5313 | 4458 | 0.7 | 70.88 |  7.1 | 52.9 | 122 |  36097 | Indiana        |\n",
       "| Iowa |  2861 | 4628 | 0.5 | 72.56 |  2.3 | 59.0 | 140 |  55941 | Iowa           |\n",
       "| Kansas |  2280 | 4669 | 0.6 | 72.58 |  4.5 | 59.9 | 114 |  81787 | Kansas         |\n",
       "| Kentucky |  3387 | 3712 | 1.6 | 70.10 | 10.6 | 38.5 |  95 |  39650 | Kentucky       |\n",
       "| Louisiana |  3806 | 3545 | 2.8 | 68.76 | 13.2 | 42.2 |  12 |  44930 | Louisiana      |\n",
       "| Maine |  1058 | 3694 | 0.7 | 70.39 |  2.7 | 54.7 | 161 |  30920 | Maine          |\n",
       "| Maryland |  4122 | 5299 | 0.9 | 70.22 |  8.5 | 52.3 | 101 |   9891 | Maryland       |\n",
       "| Massachusetts |  5814 | 4755 | 1.1 | 71.83 |  3.3 | 58.5 | 103 |   7826 | Massachusetts  |\n",
       "| Michigan |  9111 | 4751 | 0.9 | 70.63 | 11.1 | 52.8 | 125 |  56817 | Michigan       |\n",
       "| Minnesota |  3921 | 4675 | 0.6 | 72.96 |  2.3 | 57.6 | 160 |  79289 | Minnesota      |\n",
       "| Mississippi |  2341 | 3098 | 2.4 | 68.09 | 12.5 | 41.0 |  50 |  47296 | Mississippi    |\n",
       "| Missouri |  4767 | 4254 | 0.8 | 70.69 |  9.3 | 48.8 | 108 |  68995 | Missouri       |\n",
       "| Montana |   746 | 4347 | 0.6 | 70.56 |  5.0 | 59.2 | 155 | 145587 | Montana        |\n",
       "| Nebraska |  1544 | 4508 | 0.6 | 72.60 |  2.9 | 59.3 | 139 |  76483 | Nebraska       |\n",
       "| Nevada |   590 | 5149 | 0.5 | 69.03 | 11.5 | 65.2 | 188 | 109889 | Nevada         |\n",
       "| New Hampshire |   812 | 4281 | 0.7 | 71.23 |  3.3 | 57.6 | 174 |   9027 | New Hampshire  |\n",
       "| New Jersey |  7333 | 5237 | 1.1 | 70.93 |  5.2 | 52.5 | 115 |   7521 | New Jersey     |\n",
       "| New Mexico |  1144 | 3601 | 2.2 | 70.32 |  9.7 | 55.2 | 120 | 121412 | New Mexico     |\n",
       "| New York | 18076 | 4903 | 1.4 | 70.55 | 10.9 | 52.7 |  82 |  47831 | New York       |\n",
       "| North Carolina |  5441 | 3875 | 1.8 | 69.21 | 11.1 | 38.5 |  80 |  48798 | North Carolina |\n",
       "| North Dakota |   637 | 5087 | 0.8 | 72.78 |  1.4 | 50.3 | 186 |  69273 | North Dakota   |\n",
       "| Ohio | 10735 | 4561 | 0.8 | 70.82 |  7.4 | 53.2 | 124 |  40975 | Ohio           |\n",
       "| Oklahoma |  2715 | 3983 | 1.1 | 71.42 |  6.4 | 51.6 |  82 |  68782 | Oklahoma       |\n",
       "| Oregon |  2284 | 4660 | 0.6 | 72.13 |  4.2 | 60.0 |  44 |  96184 | Oregon         |\n",
       "| Pennsylvania | 11860 | 4449 | 1.0 | 70.43 |  6.1 | 50.2 | 126 |  44966 | Pennsylvania   |\n",
       "| Rhode Island |   931 | 4558 | 1.3 | 71.90 |  2.4 | 46.4 | 127 |   1049 | Rhode Island   |\n",
       "| South Carolina |  2816 | 3635 | 2.3 | 67.96 | 11.6 | 37.8 |  65 |  30225 | South Carolina |\n",
       "| South Dakota |   681 | 4167 | 0.5 | 72.08 |  1.7 | 53.3 | 172 |  75955 | South Dakota   |\n",
       "| Tennessee |  4173 | 3821 | 1.7 | 70.11 | 11.0 | 41.8 |  70 |  41328 | Tennessee      |\n",
       "| Texas | 12237 | 4188 | 2.2 | 70.90 | 12.2 | 47.4 |  35 | 262134 | Texas          |\n",
       "| Utah |  1203 | 4022 | 0.6 | 72.90 |  4.5 | 67.3 | 137 |  82096 | Utah           |\n",
       "| Vermont |   472 | 3907 | 0.6 | 71.64 |  5.5 | 57.1 | 168 |   9267 | Vermont        |\n",
       "| Virginia |  4981 | 4701 | 1.4 | 70.08 |  9.5 | 47.8 |  85 |  39780 | Virginia       |\n",
       "| Washington |  3559 | 4864 | 0.6 | 71.72 |  4.3 | 63.5 |  32 |  66570 | Washington     |\n",
       "| West Virginia |  1799 | 3617 | 1.4 | 69.48 |  6.7 | 41.6 | 100 |  24070 | West Virginia  |\n",
       "| Wisconsin |  4589 | 4468 | 0.7 | 72.48 |  3.0 | 54.5 | 149 |  54464 | Wisconsin      |\n",
       "| Wyoming |   376 | 4566 | 0.6 | 70.29 |  6.9 | 62.9 | 173 |  97203 | Wyoming        |\n",
       "\n"
      ],
      "text/plain": [
       "               Population Income Illiteracy Life.Exp Murder HS.Grad Frost\n",
       "Alabama         3615      3624   2.1        69.05    15.1   41.3     20  \n",
       "Alaska           365      6315   1.5        69.31    11.3   66.7    152  \n",
       "Arizona         2212      4530   1.8        70.55     7.8   58.1     15  \n",
       "Arkansas        2110      3378   1.9        70.66    10.1   39.9     65  \n",
       "California     21198      5114   1.1        71.71    10.3   62.6     20  \n",
       "Colorado        2541      4884   0.7        72.06     6.8   63.9    166  \n",
       "Connecticut     3100      5348   1.1        72.48     3.1   56.0    139  \n",
       "Delaware         579      4809   0.9        70.06     6.2   54.6    103  \n",
       "Florida         8277      4815   1.3        70.66    10.7   52.6     11  \n",
       "Georgia         4931      4091   2.0        68.54    13.9   40.6     60  \n",
       "Hawaii           868      4963   1.9        73.60     6.2   61.9      0  \n",
       "Idaho            813      4119   0.6        71.87     5.3   59.5    126  \n",
       "Illinois       11197      5107   0.9        70.14    10.3   52.6    127  \n",
       "Indiana         5313      4458   0.7        70.88     7.1   52.9    122  \n",
       "Iowa            2861      4628   0.5        72.56     2.3   59.0    140  \n",
       "Kansas          2280      4669   0.6        72.58     4.5   59.9    114  \n",
       "Kentucky        3387      3712   1.6        70.10    10.6   38.5     95  \n",
       "Louisiana       3806      3545   2.8        68.76    13.2   42.2     12  \n",
       "Maine           1058      3694   0.7        70.39     2.7   54.7    161  \n",
       "Maryland        4122      5299   0.9        70.22     8.5   52.3    101  \n",
       "Massachusetts   5814      4755   1.1        71.83     3.3   58.5    103  \n",
       "Michigan        9111      4751   0.9        70.63    11.1   52.8    125  \n",
       "Minnesota       3921      4675   0.6        72.96     2.3   57.6    160  \n",
       "Mississippi     2341      3098   2.4        68.09    12.5   41.0     50  \n",
       "Missouri        4767      4254   0.8        70.69     9.3   48.8    108  \n",
       "Montana          746      4347   0.6        70.56     5.0   59.2    155  \n",
       "Nebraska        1544      4508   0.6        72.60     2.9   59.3    139  \n",
       "Nevada           590      5149   0.5        69.03    11.5   65.2    188  \n",
       "New Hampshire    812      4281   0.7        71.23     3.3   57.6    174  \n",
       "New Jersey      7333      5237   1.1        70.93     5.2   52.5    115  \n",
       "New Mexico      1144      3601   2.2        70.32     9.7   55.2    120  \n",
       "New York       18076      4903   1.4        70.55    10.9   52.7     82  \n",
       "North Carolina  5441      3875   1.8        69.21    11.1   38.5     80  \n",
       "North Dakota     637      5087   0.8        72.78     1.4   50.3    186  \n",
       "Ohio           10735      4561   0.8        70.82     7.4   53.2    124  \n",
       "Oklahoma        2715      3983   1.1        71.42     6.4   51.6     82  \n",
       "Oregon          2284      4660   0.6        72.13     4.2   60.0     44  \n",
       "Pennsylvania   11860      4449   1.0        70.43     6.1   50.2    126  \n",
       "Rhode Island     931      4558   1.3        71.90     2.4   46.4    127  \n",
       "South Carolina  2816      3635   2.3        67.96    11.6   37.8     65  \n",
       "South Dakota     681      4167   0.5        72.08     1.7   53.3    172  \n",
       "Tennessee       4173      3821   1.7        70.11    11.0   41.8     70  \n",
       "Texas          12237      4188   2.2        70.90    12.2   47.4     35  \n",
       "Utah            1203      4022   0.6        72.90     4.5   67.3    137  \n",
       "Vermont          472      3907   0.6        71.64     5.5   57.1    168  \n",
       "Virginia        4981      4701   1.4        70.08     9.5   47.8     85  \n",
       "Washington      3559      4864   0.6        71.72     4.3   63.5     32  \n",
       "West Virginia   1799      3617   1.4        69.48     6.7   41.6    100  \n",
       "Wisconsin       4589      4468   0.7        72.48     3.0   54.5    149  \n",
       "Wyoming          376      4566   0.6        70.29     6.9   62.9    173  \n",
       "               Area   stname        \n",
       "Alabama         50708 Alabama       \n",
       "Alaska         566432 Alaska        \n",
       "Arizona        113417 Arizona       \n",
       "Arkansas        51945 Arkansas      \n",
       "California     156361 California    \n",
       "Colorado       103766 Colorado      \n",
       "Connecticut      4862 Connecticut   \n",
       "Delaware         1982 Delaware      \n",
       "Florida         54090 Florida       \n",
       "Georgia         58073 Georgia       \n",
       "Hawaii           6425 Hawaii        \n",
       "Idaho           82677 Idaho         \n",
       "Illinois        55748 Illinois      \n",
       "Indiana         36097 Indiana       \n",
       "Iowa            55941 Iowa          \n",
       "Kansas          81787 Kansas        \n",
       "Kentucky        39650 Kentucky      \n",
       "Louisiana       44930 Louisiana     \n",
       "Maine           30920 Maine         \n",
       "Maryland         9891 Maryland      \n",
       "Massachusetts    7826 Massachusetts \n",
       "Michigan        56817 Michigan      \n",
       "Minnesota       79289 Minnesota     \n",
       "Mississippi     47296 Mississippi   \n",
       "Missouri        68995 Missouri      \n",
       "Montana        145587 Montana       \n",
       "Nebraska        76483 Nebraska      \n",
       "Nevada         109889 Nevada        \n",
       "New Hampshire    9027 New Hampshire \n",
       "New Jersey       7521 New Jersey    \n",
       "New Mexico     121412 New Mexico    \n",
       "New York        47831 New York      \n",
       "North Carolina  48798 North Carolina\n",
       "North Dakota    69273 North Dakota  \n",
       "Ohio            40975 Ohio          \n",
       "Oklahoma        68782 Oklahoma      \n",
       "Oregon          96184 Oregon        \n",
       "Pennsylvania    44966 Pennsylvania  \n",
       "Rhode Island     1049 Rhode Island  \n",
       "South Carolina  30225 South Carolina\n",
       "South Dakota    75955 South Dakota  \n",
       "Tennessee       41328 Tennessee     \n",
       "Texas          262134 Texas         \n",
       "Utah            82096 Utah          \n",
       "Vermont          9267 Vermont       \n",
       "Virginia        39780 Virginia      \n",
       "Washington      66570 Washington    \n",
       "West Virginia   24070 West Virginia \n",
       "Wisconsin       54464 Wisconsin     \n",
       "Wyoming         97203 Wyoming       "
      ]
     },
     "metadata": {},
     "output_type": "display_data"
    }
   ],
   "source": [
    "st"
   ]
  },
  {
   "cell_type": "code",
   "execution_count": 178,
   "id": "b544acbc",
   "metadata": {},
   "outputs": [
    {
     "data": {
      "image/png": "[encoded data removed]",
      "text/plain": [
       "plot without title"
      ]
     },
     "metadata": {
      "image/png": {
       "height": 420,
       "width": 420
      }
     },
     "output_type": "display_data"
    }
   ],
   "source": [
    "treemap(st,\n",
    "       index = c('stname'),\n",
    "       vSize = 'Area',\n",
    "       vColor = 'Income',\n",
    "       type = 'value',\n",
    "       title = 'USA states area and income')"
   ]
  },
  {
   "cell_type": "code",
   "execution_count": 180,
   "id": "8c78ef71",
   "metadata": {},
   "outputs": [],
   "source": [
    "library(fmsb)"
   ]
  },
  {
   "cell_type": "code",
   "execution_count": 181,
   "id": "63f49b4d",
   "metadata": {},
   "outputs": [],
   "source": [
    "score = c(80, 60, 95, 85, 40)"
   ]
  },
  {
   "cell_type": "code",
   "execution_count": 182,
   "id": "261730d1",
   "metadata": {},
   "outputs": [
    {
     "data": {
      "text/html": [
       "<style>\n",
       ".list-inline {list-style: none; margin:0; padding: 0}\n",
       ".list-inline>li {display: inline-block}\n",
       ".list-inline>li:not(:last-child)::after {content: \"\\00b7\"; padding: 0 .5ex}\n",
       "</style>\n",
       "<ol class=list-inline><li>80</li><li>60</li><li>95</li><li>85</li><li>40</li></ol>\n"
      ],
      "text/latex": [
       "\\begin{enumerate*}\n",
       "\\item 80\n",
       "\\item 60\n",
       "\\item 95\n",
       "\\item 85\n",
       "\\item 40\n",
       "\\end{enumerate*}\n"
      ],
      "text/markdown": [
       "1. 80\n",
       "2. 60\n",
       "3. 95\n",
       "4. 85\n",
       "5. 40\n",
       "\n",
       "\n"
      ],
      "text/plain": [
       "[1] 80 60 95 85 40"
      ]
     },
     "metadata": {},
     "output_type": "display_data"
    }
   ],
   "source": [
    "score"
   ]
  },
  {
   "cell_type": "code",
   "execution_count": 183,
   "id": "1e408bbd",
   "metadata": {},
   "outputs": [],
   "source": [
    "max.score = rep(100, 5)"
   ]
  },
  {
   "cell_type": "code",
   "execution_count": 184,
   "id": "9b033f4a",
   "metadata": {},
   "outputs": [],
   "source": [
    "min.score = rep(0, 5)"
   ]
  },
  {
   "cell_type": "code",
   "execution_count": 185,
   "id": "36071fad",
   "metadata": {},
   "outputs": [],
   "source": [
    "ds = rbind(max.score, min.score, score)"
   ]
  },
  {
   "cell_type": "code",
   "execution_count": 186,
   "id": "ede66b15",
   "metadata": {},
   "outputs": [
    {
     "data": {
      "text/html": [
       "<table class=\"dataframe\">\n",
       "<caption>A matrix: 3 × 5 of type dbl</caption>\n",
       "<tbody>\n",
       "\t<tr><th scope=row>max.score</th><td>100</td><td>100</td><td>100</td><td>100</td><td>100</td></tr>\n",
       "\t<tr><th scope=row>min.score</th><td>  0</td><td>  0</td><td>  0</td><td>  0</td><td>  0</td></tr>\n",
       "\t<tr><th scope=row>score</th><td> 80</td><td> 60</td><td> 95</td><td> 85</td><td> 40</td></tr>\n",
       "</tbody>\n",
       "</table>\n"
      ],
      "text/latex": [
       "A matrix: 3 × 5 of type dbl\n",
       "\\begin{tabular}{r|lllll}\n",
       "\tmax.score & 100 & 100 & 100 & 100 & 100\\\\\n",
       "\tmin.score &   0 &   0 &   0 &   0 &   0\\\\\n",
       "\tscore &  80 &  60 &  95 &  85 &  40\\\\\n",
       "\\end{tabular}\n"
      ],
      "text/markdown": [
       "\n",
       "A matrix: 3 × 5 of type dbl\n",
       "\n",
       "| max.score | 100 | 100 | 100 | 100 | 100 |\n",
       "| min.score |   0 |   0 |   0 |   0 |   0 |\n",
       "| score |  80 |  60 |  95 |  85 |  40 |\n",
       "\n"
      ],
      "text/plain": [
       "          [,1] [,2] [,3] [,4] [,5]\n",
       "max.score 100  100  100  100  100 \n",
       "min.score   0    0    0    0    0 \n",
       "score      80   60   95   85   40 "
      ]
     },
     "metadata": {},
     "output_type": "display_data"
    }
   ],
   "source": [
    "ds"
   ]
  },
  {
   "cell_type": "code",
   "execution_count": 187,
   "id": "9a69ad1e",
   "metadata": {},
   "outputs": [],
   "source": [
    "ds = data.frame(ds)"
   ]
  },
  {
   "cell_type": "code",
   "execution_count": 188,
   "id": "cedcba9a",
   "metadata": {},
   "outputs": [
    {
     "data": {
      "text/html": [
       "<table class=\"dataframe\">\n",
       "<caption>A data.frame: 3 × 5</caption>\n",
       "<thead>\n",
       "\t<tr><th></th><th scope=col>X1</th><th scope=col>X2</th><th scope=col>X3</th><th scope=col>X4</th><th scope=col>X5</th></tr>\n",
       "\t<tr><th></th><th scope=col>&lt;dbl&gt;</th><th scope=col>&lt;dbl&gt;</th><th scope=col>&lt;dbl&gt;</th><th scope=col>&lt;dbl&gt;</th><th scope=col>&lt;dbl&gt;</th></tr>\n",
       "</thead>\n",
       "<tbody>\n",
       "\t<tr><th scope=row>max.score</th><td>100</td><td>100</td><td>100</td><td>100</td><td>100</td></tr>\n",
       "\t<tr><th scope=row>min.score</th><td>  0</td><td>  0</td><td>  0</td><td>  0</td><td>  0</td></tr>\n",
       "\t<tr><th scope=row>score</th><td> 80</td><td> 60</td><td> 95</td><td> 85</td><td> 40</td></tr>\n",
       "</tbody>\n",
       "</table>\n"
      ],
      "text/latex": [
       "A data.frame: 3 × 5\n",
       "\\begin{tabular}{r|lllll}\n",
       "  & X1 & X2 & X3 & X4 & X5\\\\\n",
       "  & <dbl> & <dbl> & <dbl> & <dbl> & <dbl>\\\\\n",
       "\\hline\n",
       "\tmax.score & 100 & 100 & 100 & 100 & 100\\\\\n",
       "\tmin.score &   0 &   0 &   0 &   0 &   0\\\\\n",
       "\tscore &  80 &  60 &  95 &  85 &  40\\\\\n",
       "\\end{tabular}\n"
      ],
      "text/markdown": [
       "\n",
       "A data.frame: 3 × 5\n",
       "\n",
       "| <!--/--> | X1 &lt;dbl&gt; | X2 &lt;dbl&gt; | X3 &lt;dbl&gt; | X4 &lt;dbl&gt; | X5 &lt;dbl&gt; |\n",
       "|---|---|---|---|---|---|\n",
       "| max.score | 100 | 100 | 100 | 100 | 100 |\n",
       "| min.score |   0 |   0 |   0 |   0 |   0 |\n",
       "| score |  80 |  60 |  95 |  85 |  40 |\n",
       "\n"
      ],
      "text/plain": [
       "          X1  X2  X3  X4  X5 \n",
       "max.score 100 100 100 100 100\n",
       "min.score   0   0   0   0   0\n",
       "score      80  60  95  85  40"
      ]
     },
     "metadata": {},
     "output_type": "display_data"
    }
   ],
   "source": [
    "ds"
   ]
  },
  {
   "cell_type": "code",
   "execution_count": 189,
   "id": "e76f61bf",
   "metadata": {},
   "outputs": [
    {
     "data": {
      "text/html": [
       "'data.frame'"
      ],
      "text/latex": [
       "'data.frame'"
      ],
      "text/markdown": [
       "'data.frame'"
      ],
      "text/plain": [
       "[1] \"data.frame\""
      ]
     },
     "metadata": {},
     "output_type": "display_data"
    }
   ],
   "source": [
    "class(ds)"
   ]
  },
  {
   "cell_type": "code",
   "execution_count": 192,
   "id": "b9befc50",
   "metadata": {},
   "outputs": [],
   "source": [
    "colnames(ds) = c('힘','마력','지능','귀여움','초월')"
   ]
  },
  {
   "cell_type": "code",
   "execution_count": 193,
   "id": "1e22fc2e",
   "metadata": {},
   "outputs": [
    {
     "data": {
      "text/html": [
       "<table class=\"dataframe\">\n",
       "<caption>A data.frame: 3 × 5</caption>\n",
       "<thead>\n",
       "\t<tr><th></th><th scope=col>힘</th><th scope=col>마력</th><th scope=col>지능</th><th scope=col>귀여움</th><th scope=col>초월</th></tr>\n",
       "\t<tr><th></th><th scope=col>&lt;dbl&gt;</th><th scope=col>&lt;dbl&gt;</th><th scope=col>&lt;dbl&gt;</th><th scope=col>&lt;dbl&gt;</th><th scope=col>&lt;dbl&gt;</th></tr>\n",
       "</thead>\n",
       "<tbody>\n",
       "\t<tr><th scope=row>max.score</th><td>100</td><td>100</td><td>100</td><td>100</td><td>100</td></tr>\n",
       "\t<tr><th scope=row>min.score</th><td>  0</td><td>  0</td><td>  0</td><td>  0</td><td>  0</td></tr>\n",
       "\t<tr><th scope=row>score</th><td> 80</td><td> 60</td><td> 95</td><td> 85</td><td> 40</td></tr>\n",
       "</tbody>\n",
       "</table>\n"
      ],
      "text/latex": [
       "A data.frame: 3 × 5\n",
       "\\begin{tabular}{r|lllll}\n",
       "  & 힘 & 마력 & 지능 & 귀여움 & 초월\\\\\n",
       "  & <dbl> & <dbl> & <dbl> & <dbl> & <dbl>\\\\\n",
       "\\hline\n",
       "\tmax.score & 100 & 100 & 100 & 100 & 100\\\\\n",
       "\tmin.score &   0 &   0 &   0 &   0 &   0\\\\\n",
       "\tscore &  80 &  60 &  95 &  85 &  40\\\\\n",
       "\\end{tabular}\n"
      ],
      "text/markdown": [
       "\n",
       "A data.frame: 3 × 5\n",
       "\n",
       "| <!--/--> | 힘 &lt;dbl&gt; | 마력 &lt;dbl&gt; | 지능 &lt;dbl&gt; | 귀여움 &lt;dbl&gt; | 초월 &lt;dbl&gt; |\n",
       "|---|---|---|---|---|---|\n",
       "| max.score | 100 | 100 | 100 | 100 | 100 |\n",
       "| min.score |   0 |   0 |   0 |   0 |   0 |\n",
       "| score |  80 |  60 |  95 |  85 |  40 |\n",
       "\n"
      ],
      "text/plain": [
       "          힘  마력 지능 귀여움 초월\n",
       "max.score 100 100  100  100    100 \n",
       "min.score   0   0    0    0      0 \n",
       "score      80  60   95   85     40 "
      ]
     },
     "metadata": {},
     "output_type": "display_data"
    }
   ],
   "source": [
    "ds"
   ]
  },
  {
   "cell_type": "code",
   "execution_count": 194,
   "id": "e422b9f6",
   "metadata": {},
   "outputs": [
    {
     "data": {
      "image/png": "[encoded data removed]",
      "text/plain": [
       "Plot with title \"\""
      ]
     },
     "metadata": {
      "image/png": {
       "height": 420,
       "width": 420
      }
     },
     "output_type": "display_data"
    }
   ],
   "source": [
    "radarchart(ds)"
   ]
  },
  {
   "cell_type": "code",
   "execution_count": 195,
   "id": "c387d7d9",
   "metadata": {},
   "outputs": [
    {
     "name": "stderr",
     "output_type": "stream",
     "text": [
      "Warning message in plot.window(...):\n",
      "\"\"axislabel\" is not a graphical parameter\"\n",
      "Warning message in plot.xy(xy, type, ...):\n",
      "\"\"axislabel\" is not a graphical parameter\"\n",
      "Warning message in title(...):\n",
      "\"\"axislabel\" is not a graphical parameter\"\n"
     ]
    },
    {
     "data": {
      "image/png": "[encoded data removed]",
      "text/plain": [
       "Plot with title \"\""
      ]
     },
     "metadata": {
      "image/png": {
       "height": 420,
       "width": 420
      }
     },
     "output_type": "display_data"
    }
   ],
   "source": [
    "radarchart(ds,\n",
    "          pcol = 'dark Green',\n",
    "          pfcol = rgb(0.2, 0.5, 0.5, 0.5),\n",
    "          plwd = 3,\n",
    "          cglcol = 'grey',\n",
    "          cglty = 1,\n",
    "          cglwd = 0.8,\n",
    "          axistype = 1, \n",
    "          seg =4, \n",
    "          axislabel ='grey',\n",
    "          caxislabels = seq(0, 100, 25))"
   ]
  },
  {
   "cell_type": "code",
   "execution_count": null,
   "id": "6e2cbb6e",
   "metadata": {},
   "outputs": [],
   "source": [
    "fab = c('Winter', 'Summer')"
   ]
  }
 ],
 "metadata": {
  "kernelspec": {
   "display_name": "R",
   "language": "R",
   "name": "ir"
  },
  "language_info": {
   "codemirror_mode": "r",
   "file_extension": ".r",
   "mimetype": "text/x-r-source",
   "name": "R",
   "pygments_lexer": "r",
   "version": "4.3.1"
  }
 },
 "nbformat": 4,
 "nbformat_minor": 5
}
