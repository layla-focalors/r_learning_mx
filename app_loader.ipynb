{
 "cells": [
  {
   "cell_type": "code",
   "execution_count": 1,
   "id": "7419b16c",
   "metadata": {},
   "outputs": [
    {
     "data": {
      "text/html": [
       "<style>\n",
       ".list-inline {list-style: none; margin:0; padding: 0}\n",
       ".list-inline>li {display: inline-block}\n",
       ".list-inline>li:not(:last-child)::after {content: \"\\00b7\"; padding: 0 .5ex}\n",
       "</style>\n",
       "<ol class=list-inline><li>0-5yrs</li><li>0-5yrs</li><li>0-5yrs</li><li>0-5yrs</li><li>6-11yrs</li><li>6-11yrs</li><li>6-11yrs</li><li>6-11yrs</li><li>6-11yrs</li><li>6-11yrs</li><li>6-11yrs</li><li>6-11yrs</li><li>6-11yrs</li><li>6-11yrs</li><li>6-11yrs</li><li>6-11yrs</li><li>6-11yrs</li><li>6-11yrs</li><li>6-11yrs</li><li>6-11yrs</li><li>6-11yrs</li><li>6-11yrs</li><li>6-11yrs</li><li>6-11yrs</li><li>6-11yrs</li><li>6-11yrs</li><li>6-11yrs</li><li>6-11yrs</li><li>6-11yrs</li><li>6-11yrs</li><li>6-11yrs</li><li>6-11yrs</li><li>6-11yrs</li><li>6-11yrs</li><li>6-11yrs</li><li>6-11yrs</li><li>6-11yrs</li><li>6-11yrs</li><li>6-11yrs</li><li>6-11yrs</li><li>6-11yrs</li><li>6-11yrs</li><li>6-11yrs</li><li>6-11yrs</li><li>12+ yrs</li><li>12+ yrs</li><li>12+ yrs</li><li>12+ yrs</li><li>12+ yrs</li><li>12+ yrs</li><li>12+ yrs</li><li>12+ yrs</li><li>12+ yrs</li><li>12+ yrs</li><li>12+ yrs</li><li>12+ yrs</li><li>12+ yrs</li><li>12+ yrs</li><li>12+ yrs</li><li>12+ yrs</li><li>12+ yrs</li><li>12+ yrs</li><li>12+ yrs</li><li>12+ yrs</li><li>12+ yrs</li><li>12+ yrs</li><li>12+ yrs</li><li>12+ yrs</li><li>12+ yrs</li><li>12+ yrs</li><li>12+ yrs</li><li>12+ yrs</li><li>12+ yrs</li><li>12+ yrs</li><li>12+ yrs</li><li>12+ yrs</li><li>12+ yrs</li><li>12+ yrs</li><li>12+ yrs</li><li>12+ yrs</li><li>12+ yrs</li><li>12+ yrs</li><li>12+ yrs</li><li>0-5yrs</li><li>0-5yrs</li><li>0-5yrs</li><li>0-5yrs</li><li>6-11yrs</li><li>6-11yrs</li><li>6-11yrs</li><li>6-11yrs</li><li>6-11yrs</li><li>6-11yrs</li><li>6-11yrs</li><li>6-11yrs</li><li>6-11yrs</li><li>6-11yrs</li><li>6-11yrs</li><li>6-11yrs</li><li>6-11yrs</li><li>6-11yrs</li><li>6-11yrs</li><li>6-11yrs</li><li>6-11yrs</li><li>6-11yrs</li><li>6-11yrs</li><li>6-11yrs</li><li>6-11yrs</li><li>6-11yrs</li><li>6-11yrs</li><li>6-11yrs</li><li>6-11yrs</li><li>6-11yrs</li><li>6-11yrs</li><li>6-11yrs</li><li>6-11yrs</li><li>6-11yrs</li><li>6-11yrs</li><li>6-11yrs</li><li>6-11yrs</li><li>6-11yrs</li><li>6-11yrs</li><li>6-11yrs</li><li>6-11yrs</li><li>6-11yrs</li><li>6-11yrs</li><li>6-11yrs</li><li>12+ yrs</li><li>12+ yrs</li><li>12+ yrs</li><li>12+ yrs</li><li>12+ yrs</li><li>12+ yrs</li><li>12+ yrs</li><li>12+ yrs</li><li>12+ yrs</li><li>12+ yrs</li><li>12+ yrs</li><li>12+ yrs</li><li>12+ yrs</li><li>12+ yrs</li><li>12+ yrs</li><li>12+ yrs</li><li>12+ yrs</li><li>12+ yrs</li><li>12+ yrs</li><li>12+ yrs</li><li>12+ yrs</li><li>12+ yrs</li><li>12+ yrs</li><li>12+ yrs</li><li>12+ yrs</li><li>12+ yrs</li><li>12+ yrs</li><li>12+ yrs</li><li>12+ yrs</li><li>12+ yrs</li><li>12+ yrs</li><li>12+ yrs</li><li>12+ yrs</li><li>12+ yrs</li><li>12+ yrs</li><li>12+ yrs</li><li>12+ yrs</li><li>12+ yrs</li><li>0-5yrs</li><li>0-5yrs</li><li>0-5yrs</li><li>0-5yrs</li><li>6-11yrs</li><li>6-11yrs</li><li>6-11yrs</li><li>6-11yrs</li><li>6-11yrs</li><li>6-11yrs</li><li>6-11yrs</li><li>6-11yrs</li><li>6-11yrs</li><li>6-11yrs</li><li>6-11yrs</li><li>6-11yrs</li><li>6-11yrs</li><li>6-11yrs</li><li>6-11yrs</li><li>6-11yrs</li><li>6-11yrs</li><li>6-11yrs</li><li>6-11yrs</li><li>6-11yrs</li><li>6-11yrs</li><li>6-11yrs</li><li>6-11yrs</li><li>6-11yrs</li><li>6-11yrs</li><li>6-11yrs</li><li>6-11yrs</li><li>6-11yrs</li><li>6-11yrs</li><li>6-11yrs</li><li>6-11yrs</li><li>6-11yrs</li><li>6-11yrs</li><li>6-11yrs</li><li>6-11yrs</li><li>6-11yrs</li><li>6-11yrs</li><li>6-11yrs</li><li>6-11yrs</li><li>6-11yrs</li><li>12+ yrs</li><li>12+ yrs</li><li>12+ yrs</li><li>12+ yrs</li><li>12+ yrs</li><li>12+ yrs</li><li>12+ yrs</li><li>12+ yrs</li><li>12+ yrs</li><li>12+ yrs</li><li>12+ yrs</li><li>12+ yrs</li><li>12+ yrs</li><li>12+ yrs</li><li>12+ yrs</li><li>12+ yrs</li><li>12+ yrs</li><li>12+ yrs</li><li>12+ yrs</li><li>12+ yrs</li><li>12+ yrs</li><li>12+ yrs</li><li>12+ yrs</li><li>12+ yrs</li><li>12+ yrs</li><li>12+ yrs</li><li>12+ yrs</li><li>12+ yrs</li><li>12+ yrs</li><li>12+ yrs</li><li>12+ yrs</li><li>12+ yrs</li><li>12+ yrs</li><li>12+ yrs</li><li>12+ yrs</li><li>12+ yrs</li><li>12+ yrs</li><li>12+ yrs</li><li>12+ yrs</li></ol>\n",
       "\n",
       "<details>\n",
       "\t<summary style=display:list-item;cursor:pointer>\n",
       "\t\t<strong>Levels</strong>:\n",
       "\t</summary>\n",
       "\t<style>\n",
       "\t.list-inline {list-style: none; margin:0; padding: 0}\n",
       "\t.list-inline>li {display: inline-block}\n",
       "\t.list-inline>li:not(:last-child)::after {content: \"\\00b7\"; padding: 0 .5ex}\n",
       "\t</style>\n",
       "\t<ol class=list-inline><li>'0-5yrs'</li><li>'6-11yrs'</li><li>'12+ yrs'</li></ol>\n",
       "</details>"
      ],
      "text/latex": [
       "\\begin{enumerate*}\n",
       "\\item 0-5yrs\n",
       "\\item 0-5yrs\n",
       "\\item 0-5yrs\n",
       "\\item 0-5yrs\n",
       "\\item 6-11yrs\n",
       "\\item 6-11yrs\n",
       "\\item 6-11yrs\n",
       "\\item 6-11yrs\n",
       "\\item 6-11yrs\n",
       "\\item 6-11yrs\n",
       "\\item 6-11yrs\n",
       "\\item 6-11yrs\n",
       "\\item 6-11yrs\n",
       "\\item 6-11yrs\n",
       "\\item 6-11yrs\n",
       "\\item 6-11yrs\n",
       "\\item 6-11yrs\n",
       "\\item 6-11yrs\n",
       "\\item 6-11yrs\n",
       "\\item 6-11yrs\n",
       "\\item 6-11yrs\n",
       "\\item 6-11yrs\n",
       "\\item 6-11yrs\n",
       "\\item 6-11yrs\n",
       "\\item 6-11yrs\n",
       "\\item 6-11yrs\n",
       "\\item 6-11yrs\n",
       "\\item 6-11yrs\n",
       "\\item 6-11yrs\n",
       "\\item 6-11yrs\n",
       "\\item 6-11yrs\n",
       "\\item 6-11yrs\n",
       "\\item 6-11yrs\n",
       "\\item 6-11yrs\n",
       "\\item 6-11yrs\n",
       "\\item 6-11yrs\n",
       "\\item 6-11yrs\n",
       "\\item 6-11yrs\n",
       "\\item 6-11yrs\n",
       "\\item 6-11yrs\n",
       "\\item 6-11yrs\n",
       "\\item 6-11yrs\n",
       "\\item 6-11yrs\n",
       "\\item 6-11yrs\n",
       "\\item 12+ yrs\n",
       "\\item 12+ yrs\n",
       "\\item 12+ yrs\n",
       "\\item 12+ yrs\n",
       "\\item 12+ yrs\n",
       "\\item 12+ yrs\n",
       "\\item 12+ yrs\n",
       "\\item 12+ yrs\n",
       "\\item 12+ yrs\n",
       "\\item 12+ yrs\n",
       "\\item 12+ yrs\n",
       "\\item 12+ yrs\n",
       "\\item 12+ yrs\n",
       "\\item 12+ yrs\n",
       "\\item 12+ yrs\n",
       "\\item 12+ yrs\n",
       "\\item 12+ yrs\n",
       "\\item 12+ yrs\n",
       "\\item 12+ yrs\n",
       "\\item 12+ yrs\n",
       "\\item 12+ yrs\n",
       "\\item 12+ yrs\n",
       "\\item 12+ yrs\n",
       "\\item 12+ yrs\n",
       "\\item 12+ yrs\n",
       "\\item 12+ yrs\n",
       "\\item 12+ yrs\n",
       "\\item 12+ yrs\n",
       "\\item 12+ yrs\n",
       "\\item 12+ yrs\n",
       "\\item 12+ yrs\n",
       "\\item 12+ yrs\n",
       "\\item 12+ yrs\n",
       "\\item 12+ yrs\n",
       "\\item 12+ yrs\n",
       "\\item 12+ yrs\n",
       "\\item 12+ yrs\n",
       "\\item 12+ yrs\n",
       "\\item 12+ yrs\n",
       "\\item 0-5yrs\n",
       "\\item 0-5yrs\n",
       "\\item 0-5yrs\n",
       "\\item 0-5yrs\n",
       "\\item 6-11yrs\n",
       "\\item 6-11yrs\n",
       "\\item 6-11yrs\n",
       "\\item 6-11yrs\n",
       "\\item 6-11yrs\n",
       "\\item 6-11yrs\n",
       "\\item 6-11yrs\n",
       "\\item 6-11yrs\n",
       "\\item 6-11yrs\n",
       "\\item 6-11yrs\n",
       "\\item 6-11yrs\n",
       "\\item 6-11yrs\n",
       "\\item 6-11yrs\n",
       "\\item 6-11yrs\n",
       "\\item 6-11yrs\n",
       "\\item 6-11yrs\n",
       "\\item 6-11yrs\n",
       "\\item 6-11yrs\n",
       "\\item 6-11yrs\n",
       "\\item 6-11yrs\n",
       "\\item 6-11yrs\n",
       "\\item 6-11yrs\n",
       "\\item 6-11yrs\n",
       "\\item 6-11yrs\n",
       "\\item 6-11yrs\n",
       "\\item 6-11yrs\n",
       "\\item 6-11yrs\n",
       "\\item 6-11yrs\n",
       "\\item 6-11yrs\n",
       "\\item 6-11yrs\n",
       "\\item 6-11yrs\n",
       "\\item 6-11yrs\n",
       "\\item 6-11yrs\n",
       "\\item 6-11yrs\n",
       "\\item 6-11yrs\n",
       "\\item 6-11yrs\n",
       "\\item 6-11yrs\n",
       "\\item 6-11yrs\n",
       "\\item 6-11yrs\n",
       "\\item 6-11yrs\n",
       "\\item 12+ yrs\n",
       "\\item 12+ yrs\n",
       "\\item 12+ yrs\n",
       "\\item 12+ yrs\n",
       "\\item 12+ yrs\n",
       "\\item 12+ yrs\n",
       "\\item 12+ yrs\n",
       "\\item 12+ yrs\n",
       "\\item 12+ yrs\n",
       "\\item 12+ yrs\n",
       "\\item 12+ yrs\n",
       "\\item 12+ yrs\n",
       "\\item 12+ yrs\n",
       "\\item 12+ yrs\n",
       "\\item 12+ yrs\n",
       "\\item 12+ yrs\n",
       "\\item 12+ yrs\n",
       "\\item 12+ yrs\n",
       "\\item 12+ yrs\n",
       "\\item 12+ yrs\n",
       "\\item 12+ yrs\n",
       "\\item 12+ yrs\n",
       "\\item 12+ yrs\n",
       "\\item 12+ yrs\n",
       "\\item 12+ yrs\n",
       "\\item 12+ yrs\n",
       "\\item 12+ yrs\n",
       "\\item 12+ yrs\n",
       "\\item 12+ yrs\n",
       "\\item 12+ yrs\n",
       "\\item 12+ yrs\n",
       "\\item 12+ yrs\n",
       "\\item 12+ yrs\n",
       "\\item 12+ yrs\n",
       "\\item 12+ yrs\n",
       "\\item 12+ yrs\n",
       "\\item 12+ yrs\n",
       "\\item 12+ yrs\n",
       "\\item 0-5yrs\n",
       "\\item 0-5yrs\n",
       "\\item 0-5yrs\n",
       "\\item 0-5yrs\n",
       "\\item 6-11yrs\n",
       "\\item 6-11yrs\n",
       "\\item 6-11yrs\n",
       "\\item 6-11yrs\n",
       "\\item 6-11yrs\n",
       "\\item 6-11yrs\n",
       "\\item 6-11yrs\n",
       "\\item 6-11yrs\n",
       "\\item 6-11yrs\n",
       "\\item 6-11yrs\n",
       "\\item 6-11yrs\n",
       "\\item 6-11yrs\n",
       "\\item 6-11yrs\n",
       "\\item 6-11yrs\n",
       "\\item 6-11yrs\n",
       "\\item 6-11yrs\n",
       "\\item 6-11yrs\n",
       "\\item 6-11yrs\n",
       "\\item 6-11yrs\n",
       "\\item 6-11yrs\n",
       "\\item 6-11yrs\n",
       "\\item 6-11yrs\n",
       "\\item 6-11yrs\n",
       "\\item 6-11yrs\n",
       "\\item 6-11yrs\n",
       "\\item 6-11yrs\n",
       "\\item 6-11yrs\n",
       "\\item 6-11yrs\n",
       "\\item 6-11yrs\n",
       "\\item 6-11yrs\n",
       "\\item 6-11yrs\n",
       "\\item 6-11yrs\n",
       "\\item 6-11yrs\n",
       "\\item 6-11yrs\n",
       "\\item 6-11yrs\n",
       "\\item 6-11yrs\n",
       "\\item 6-11yrs\n",
       "\\item 6-11yrs\n",
       "\\item 6-11yrs\n",
       "\\item 6-11yrs\n",
       "\\item 12+ yrs\n",
       "\\item 12+ yrs\n",
       "\\item 12+ yrs\n",
       "\\item 12+ yrs\n",
       "\\item 12+ yrs\n",
       "\\item 12+ yrs\n",
       "\\item 12+ yrs\n",
       "\\item 12+ yrs\n",
       "\\item 12+ yrs\n",
       "\\item 12+ yrs\n",
       "\\item 12+ yrs\n",
       "\\item 12+ yrs\n",
       "\\item 12+ yrs\n",
       "\\item 12+ yrs\n",
       "\\item 12+ yrs\n",
       "\\item 12+ yrs\n",
       "\\item 12+ yrs\n",
       "\\item 12+ yrs\n",
       "\\item 12+ yrs\n",
       "\\item 12+ yrs\n",
       "\\item 12+ yrs\n",
       "\\item 12+ yrs\n",
       "\\item 12+ yrs\n",
       "\\item 12+ yrs\n",
       "\\item 12+ yrs\n",
       "\\item 12+ yrs\n",
       "\\item 12+ yrs\n",
       "\\item 12+ yrs\n",
       "\\item 12+ yrs\n",
       "\\item 12+ yrs\n",
       "\\item 12+ yrs\n",
       "\\item 12+ yrs\n",
       "\\item 12+ yrs\n",
       "\\item 12+ yrs\n",
       "\\item 12+ yrs\n",
       "\\item 12+ yrs\n",
       "\\item 12+ yrs\n",
       "\\item 12+ yrs\n",
       "\\item 12+ yrs\n",
       "\\end{enumerate*}\n",
       "\n",
       "\\emph{Levels}: \\begin{enumerate*}\n",
       "\\item '0-5yrs'\n",
       "\\item '6-11yrs'\n",
       "\\item '12+ yrs'\n",
       "\\end{enumerate*}\n"
      ],
      "text/markdown": [
       "1. 0-5yrs\n",
       "2. 0-5yrs\n",
       "3. 0-5yrs\n",
       "4. 0-5yrs\n",
       "5. 6-11yrs\n",
       "6. 6-11yrs\n",
       "7. 6-11yrs\n",
       "8. 6-11yrs\n",
       "9. 6-11yrs\n",
       "10. 6-11yrs\n",
       "11. 6-11yrs\n",
       "12. 6-11yrs\n",
       "13. 6-11yrs\n",
       "14. 6-11yrs\n",
       "15. 6-11yrs\n",
       "16. 6-11yrs\n",
       "17. 6-11yrs\n",
       "18. 6-11yrs\n",
       "19. 6-11yrs\n",
       "20. 6-11yrs\n",
       "21. 6-11yrs\n",
       "22. 6-11yrs\n",
       "23. 6-11yrs\n",
       "24. 6-11yrs\n",
       "25. 6-11yrs\n",
       "26. 6-11yrs\n",
       "27. 6-11yrs\n",
       "28. 6-11yrs\n",
       "29. 6-11yrs\n",
       "30. 6-11yrs\n",
       "31. 6-11yrs\n",
       "32. 6-11yrs\n",
       "33. 6-11yrs\n",
       "34. 6-11yrs\n",
       "35. 6-11yrs\n",
       "36. 6-11yrs\n",
       "37. 6-11yrs\n",
       "38. 6-11yrs\n",
       "39. 6-11yrs\n",
       "40. 6-11yrs\n",
       "41. 6-11yrs\n",
       "42. 6-11yrs\n",
       "43. 6-11yrs\n",
       "44. 6-11yrs\n",
       "45. 12+ yrs\n",
       "46. 12+ yrs\n",
       "47. 12+ yrs\n",
       "48. 12+ yrs\n",
       "49. 12+ yrs\n",
       "50. 12+ yrs\n",
       "51. 12+ yrs\n",
       "52. 12+ yrs\n",
       "53. 12+ yrs\n",
       "54. 12+ yrs\n",
       "55. 12+ yrs\n",
       "56. 12+ yrs\n",
       "57. 12+ yrs\n",
       "58. 12+ yrs\n",
       "59. 12+ yrs\n",
       "60. 12+ yrs\n",
       "61. 12+ yrs\n",
       "62. 12+ yrs\n",
       "63. 12+ yrs\n",
       "64. 12+ yrs\n",
       "65. 12+ yrs\n",
       "66. 12+ yrs\n",
       "67. 12+ yrs\n",
       "68. 12+ yrs\n",
       "69. 12+ yrs\n",
       "70. 12+ yrs\n",
       "71. 12+ yrs\n",
       "72. 12+ yrs\n",
       "73. 12+ yrs\n",
       "74. 12+ yrs\n",
       "75. 12+ yrs\n",
       "76. 12+ yrs\n",
       "77. 12+ yrs\n",
       "78. 12+ yrs\n",
       "79. 12+ yrs\n",
       "80. 12+ yrs\n",
       "81. 12+ yrs\n",
       "82. 12+ yrs\n",
       "83. 12+ yrs\n",
       "84. 0-5yrs\n",
       "85. 0-5yrs\n",
       "86. 0-5yrs\n",
       "87. 0-5yrs\n",
       "88. 6-11yrs\n",
       "89. 6-11yrs\n",
       "90. 6-11yrs\n",
       "91. 6-11yrs\n",
       "92. 6-11yrs\n",
       "93. 6-11yrs\n",
       "94. 6-11yrs\n",
       "95. 6-11yrs\n",
       "96. 6-11yrs\n",
       "97. 6-11yrs\n",
       "98. 6-11yrs\n",
       "99. 6-11yrs\n",
       "100. 6-11yrs\n",
       "101. 6-11yrs\n",
       "102. 6-11yrs\n",
       "103. 6-11yrs\n",
       "104. 6-11yrs\n",
       "105. 6-11yrs\n",
       "106. 6-11yrs\n",
       "107. 6-11yrs\n",
       "108. 6-11yrs\n",
       "109. 6-11yrs\n",
       "110. 6-11yrs\n",
       "111. 6-11yrs\n",
       "112. 6-11yrs\n",
       "113. 6-11yrs\n",
       "114. 6-11yrs\n",
       "115. 6-11yrs\n",
       "116. 6-11yrs\n",
       "117. 6-11yrs\n",
       "118. 6-11yrs\n",
       "119. 6-11yrs\n",
       "120. 6-11yrs\n",
       "121. 6-11yrs\n",
       "122. 6-11yrs\n",
       "123. 6-11yrs\n",
       "124. 6-11yrs\n",
       "125. 6-11yrs\n",
       "126. 6-11yrs\n",
       "127. 6-11yrs\n",
       "128. 12+ yrs\n",
       "129. 12+ yrs\n",
       "130. 12+ yrs\n",
       "131. 12+ yrs\n",
       "132. 12+ yrs\n",
       "133. 12+ yrs\n",
       "134. 12+ yrs\n",
       "135. 12+ yrs\n",
       "136. 12+ yrs\n",
       "137. 12+ yrs\n",
       "138. 12+ yrs\n",
       "139. 12+ yrs\n",
       "140. 12+ yrs\n",
       "141. 12+ yrs\n",
       "142. 12+ yrs\n",
       "143. 12+ yrs\n",
       "144. 12+ yrs\n",
       "145. 12+ yrs\n",
       "146. 12+ yrs\n",
       "147. 12+ yrs\n",
       "148. 12+ yrs\n",
       "149. 12+ yrs\n",
       "150. 12+ yrs\n",
       "151. 12+ yrs\n",
       "152. 12+ yrs\n",
       "153. 12+ yrs\n",
       "154. 12+ yrs\n",
       "155. 12+ yrs\n",
       "156. 12+ yrs\n",
       "157. 12+ yrs\n",
       "158. 12+ yrs\n",
       "159. 12+ yrs\n",
       "160. 12+ yrs\n",
       "161. 12+ yrs\n",
       "162. 12+ yrs\n",
       "163. 12+ yrs\n",
       "164. 12+ yrs\n",
       "165. 12+ yrs\n",
       "166. 0-5yrs\n",
       "167. 0-5yrs\n",
       "168. 0-5yrs\n",
       "169. 0-5yrs\n",
       "170. 6-11yrs\n",
       "171. 6-11yrs\n",
       "172. 6-11yrs\n",
       "173. 6-11yrs\n",
       "174. 6-11yrs\n",
       "175. 6-11yrs\n",
       "176. 6-11yrs\n",
       "177. 6-11yrs\n",
       "178. 6-11yrs\n",
       "179. 6-11yrs\n",
       "180. 6-11yrs\n",
       "181. 6-11yrs\n",
       "182. 6-11yrs\n",
       "183. 6-11yrs\n",
       "184. 6-11yrs\n",
       "185. 6-11yrs\n",
       "186. 6-11yrs\n",
       "187. 6-11yrs\n",
       "188. 6-11yrs\n",
       "189. 6-11yrs\n",
       "190. 6-11yrs\n",
       "191. 6-11yrs\n",
       "192. 6-11yrs\n",
       "193. 6-11yrs\n",
       "194. 6-11yrs\n",
       "195. 6-11yrs\n",
       "196. 6-11yrs\n",
       "197. 6-11yrs\n",
       "198. 6-11yrs\n",
       "199. 6-11yrs\n",
       "200. 6-11yrs\n",
       "201. 6-11yrs\n",
       "202. 6-11yrs\n",
       "203. 6-11yrs\n",
       "204. 6-11yrs\n",
       "205. 6-11yrs\n",
       "206. 6-11yrs\n",
       "207. 6-11yrs\n",
       "208. 6-11yrs\n",
       "209. 6-11yrs\n",
       "210. 12+ yrs\n",
       "211. 12+ yrs\n",
       "212. 12+ yrs\n",
       "213. 12+ yrs\n",
       "214. 12+ yrs\n",
       "215. 12+ yrs\n",
       "216. 12+ yrs\n",
       "217. 12+ yrs\n",
       "218. 12+ yrs\n",
       "219. 12+ yrs\n",
       "220. 12+ yrs\n",
       "221. 12+ yrs\n",
       "222. 12+ yrs\n",
       "223. 12+ yrs\n",
       "224. 12+ yrs\n",
       "225. 12+ yrs\n",
       "226. 12+ yrs\n",
       "227. 12+ yrs\n",
       "228. 12+ yrs\n",
       "229. 12+ yrs\n",
       "230. 12+ yrs\n",
       "231. 12+ yrs\n",
       "232. 12+ yrs\n",
       "233. 12+ yrs\n",
       "234. 12+ yrs\n",
       "235. 12+ yrs\n",
       "236. 12+ yrs\n",
       "237. 12+ yrs\n",
       "238. 12+ yrs\n",
       "239. 12+ yrs\n",
       "240. 12+ yrs\n",
       "241. 12+ yrs\n",
       "242. 12+ yrs\n",
       "243. 12+ yrs\n",
       "244. 12+ yrs\n",
       "245. 12+ yrs\n",
       "246. 12+ yrs\n",
       "247. 12+ yrs\n",
       "248. 12+ yrs\n",
       "\n",
       "\n",
       "\n",
       "**Levels**: 1. '0-5yrs'\n",
       "2. '6-11yrs'\n",
       "3. '12+ yrs'\n",
       "\n",
       "\n"
      ],
      "text/plain": [
       "  [1] 0-5yrs  0-5yrs  0-5yrs  0-5yrs  6-11yrs 6-11yrs 6-11yrs 6-11yrs 6-11yrs\n",
       " [10] 6-11yrs 6-11yrs 6-11yrs 6-11yrs 6-11yrs 6-11yrs 6-11yrs 6-11yrs 6-11yrs\n",
       " [19] 6-11yrs 6-11yrs 6-11yrs 6-11yrs 6-11yrs 6-11yrs 6-11yrs 6-11yrs 6-11yrs\n",
       " [28] 6-11yrs 6-11yrs 6-11yrs 6-11yrs 6-11yrs 6-11yrs 6-11yrs 6-11yrs 6-11yrs\n",
       " [37] 6-11yrs 6-11yrs 6-11yrs 6-11yrs 6-11yrs 6-11yrs 6-11yrs 6-11yrs 12+ yrs\n",
       " [46] 12+ yrs 12+ yrs 12+ yrs 12+ yrs 12+ yrs 12+ yrs 12+ yrs 12+ yrs 12+ yrs\n",
       " [55] 12+ yrs 12+ yrs 12+ yrs 12+ yrs 12+ yrs 12+ yrs 12+ yrs 12+ yrs 12+ yrs\n",
       " [64] 12+ yrs 12+ yrs 12+ yrs 12+ yrs 12+ yrs 12+ yrs 12+ yrs 12+ yrs 12+ yrs\n",
       " [73] 12+ yrs 12+ yrs 12+ yrs 12+ yrs 12+ yrs 12+ yrs 12+ yrs 12+ yrs 12+ yrs\n",
       " [82] 12+ yrs 12+ yrs 0-5yrs  0-5yrs  0-5yrs  0-5yrs  6-11yrs 6-11yrs 6-11yrs\n",
       " [91] 6-11yrs 6-11yrs 6-11yrs 6-11yrs 6-11yrs 6-11yrs 6-11yrs 6-11yrs 6-11yrs\n",
       "[100] 6-11yrs 6-11yrs 6-11yrs 6-11yrs 6-11yrs 6-11yrs 6-11yrs 6-11yrs 6-11yrs\n",
       "[109] 6-11yrs 6-11yrs 6-11yrs 6-11yrs 6-11yrs 6-11yrs 6-11yrs 6-11yrs 6-11yrs\n",
       "[118] 6-11yrs 6-11yrs 6-11yrs 6-11yrs 6-11yrs 6-11yrs 6-11yrs 6-11yrs 6-11yrs\n",
       "[127] 6-11yrs 12+ yrs 12+ yrs 12+ yrs 12+ yrs 12+ yrs 12+ yrs 12+ yrs 12+ yrs\n",
       "[136] 12+ yrs 12+ yrs 12+ yrs 12+ yrs 12+ yrs 12+ yrs 12+ yrs 12+ yrs 12+ yrs\n",
       "[145] 12+ yrs 12+ yrs 12+ yrs 12+ yrs 12+ yrs 12+ yrs 12+ yrs 12+ yrs 12+ yrs\n",
       "[154] 12+ yrs 12+ yrs 12+ yrs 12+ yrs 12+ yrs 12+ yrs 12+ yrs 12+ yrs 12+ yrs\n",
       "[163] 12+ yrs 12+ yrs 12+ yrs 0-5yrs  0-5yrs  0-5yrs  0-5yrs  6-11yrs 6-11yrs\n",
       "[172] 6-11yrs 6-11yrs 6-11yrs 6-11yrs 6-11yrs 6-11yrs 6-11yrs 6-11yrs 6-11yrs\n",
       "[181] 6-11yrs 6-11yrs 6-11yrs 6-11yrs 6-11yrs 6-11yrs 6-11yrs 6-11yrs 6-11yrs\n",
       "[190] 6-11yrs 6-11yrs 6-11yrs 6-11yrs 6-11yrs 6-11yrs 6-11yrs 6-11yrs 6-11yrs\n",
       "[199] 6-11yrs 6-11yrs 6-11yrs 6-11yrs 6-11yrs 6-11yrs 6-11yrs 6-11yrs 6-11yrs\n",
       "[208] 6-11yrs 6-11yrs 12+ yrs 12+ yrs 12+ yrs 12+ yrs 12+ yrs 12+ yrs 12+ yrs\n",
       "[217] 12+ yrs 12+ yrs 12+ yrs 12+ yrs 12+ yrs 12+ yrs 12+ yrs 12+ yrs 12+ yrs\n",
       "[226] 12+ yrs 12+ yrs 12+ yrs 12+ yrs 12+ yrs 12+ yrs 12+ yrs 12+ yrs 12+ yrs\n",
       "[235] 12+ yrs 12+ yrs 12+ yrs 12+ yrs 12+ yrs 12+ yrs 12+ yrs 12+ yrs 12+ yrs\n",
       "[244] 12+ yrs 12+ yrs 12+ yrs 12+ yrs 12+ yrs\n",
       "Levels: 0-5yrs 6-11yrs 12+ yrs"
      ]
     },
     "metadata": {},
     "output_type": "display_data"
    }
   ],
   "source": [
    "edu = infert$education\n",
    "edu"
   ]
  },
  {
   "cell_type": "code",
   "execution_count": 2,
   "id": "d6e51dc7",
   "metadata": {},
   "outputs": [
    {
     "data": {
      "text/html": [
       "<style>\n",
       ".list-inline {list-style: none; margin:0; padding: 0}\n",
       ".list-inline>li {display: inline-block}\n",
       ".list-inline>li:not(:last-child)::after {content: \"\\00b7\"; padding: 0 .5ex}\n",
       "</style>\n",
       "<ol class=list-inline><li>0-5yrs</li><li>6-11yrs</li><li>12+ yrs</li></ol>\n",
       "\n",
       "<details>\n",
       "\t<summary style=display:list-item;cursor:pointer>\n",
       "\t\t<strong>Levels</strong>:\n",
       "\t</summary>\n",
       "\t<style>\n",
       "\t.list-inline {list-style: none; margin:0; padding: 0}\n",
       "\t.list-inline>li {display: inline-block}\n",
       "\t.list-inline>li:not(:last-child)::after {content: \"\\00b7\"; padding: 0 .5ex}\n",
       "\t</style>\n",
       "\t<ol class=list-inline><li>'0-5yrs'</li><li>'6-11yrs'</li><li>'12+ yrs'</li></ol>\n",
       "</details>"
      ],
      "text/latex": [
       "\\begin{enumerate*}\n",
       "\\item 0-5yrs\n",
       "\\item 6-11yrs\n",
       "\\item 12+ yrs\n",
       "\\end{enumerate*}\n",
       "\n",
       "\\emph{Levels}: \\begin{enumerate*}\n",
       "\\item '0-5yrs'\n",
       "\\item '6-11yrs'\n",
       "\\item '12+ yrs'\n",
       "\\end{enumerate*}\n"
      ],
      "text/markdown": [
       "1. 0-5yrs\n",
       "2. 6-11yrs\n",
       "3. 12+ yrs\n",
       "\n",
       "\n",
       "\n",
       "**Levels**: 1. '0-5yrs'\n",
       "2. '6-11yrs'\n",
       "3. '12+ yrs'\n",
       "\n",
       "\n"
      ],
      "text/plain": [
       "[1] 0-5yrs  6-11yrs 12+ yrs\n",
       "Levels: 0-5yrs 6-11yrs 12+ yrs"
      ]
     },
     "metadata": {},
     "output_type": "display_data"
    }
   ],
   "source": [
    "unique(edu)"
   ]
  },
  {
   "cell_type": "code",
   "execution_count": 3,
   "id": "ab78ccea",
   "metadata": {},
   "outputs": [
    {
     "data": {
      "text/html": [
       "<style>\n",
       ".list-inline {list-style: none; margin:0; padding: 0}\n",
       ".list-inline>li {display: inline-block}\n",
       ".list-inline>li:not(:last-child)::after {content: \"\\00b7\"; padding: 0 .5ex}\n",
       "</style>\n",
       "<ol class=list-inline><li>'0-5yrs'</li><li>'6-11yrs'</li><li>'12+ yrs'</li></ol>\n"
      ],
      "text/latex": [
       "\\begin{enumerate*}\n",
       "\\item '0-5yrs'\n",
       "\\item '6-11yrs'\n",
       "\\item '12+ yrs'\n",
       "\\end{enumerate*}\n"
      ],
      "text/markdown": [
       "1. '0-5yrs'\n",
       "2. '6-11yrs'\n",
       "3. '12+ yrs'\n",
       "\n",
       "\n"
      ],
      "text/plain": [
       "[1] \"0-5yrs\"  \"6-11yrs\" \"12+ yrs\""
      ]
     },
     "metadata": {},
     "output_type": "display_data"
    }
   ],
   "source": [
    "levels(edu)"
   ]
  },
  {
   "cell_type": "code",
   "execution_count": 4,
   "id": "b06e2ee1",
   "metadata": {},
   "outputs": [
    {
     "data": {
      "text/plain": [
       "edu\n",
       " 0-5yrs 6-11yrs 12+ yrs \n",
       "     12     120     116 "
      ]
     },
     "metadata": {},
     "output_type": "display_data"
    }
   ],
   "source": [
    "table(edu)"
   ]
  },
  {
   "cell_type": "code",
   "execution_count": 8,
   "id": "0c2551af",
   "metadata": {},
   "outputs": [
    {
     "data": {
      "image/png": "[encoded data removed]",
      "text/plain": [
       "Plot with title \"barplot of Educational Edu\""
      ]
     },
     "metadata": {
      "image/png": {
       "height": 420,
       "width": 420
      }
     },
     "output_type": "display_data"
    }
   ],
   "source": [
    "barplot(table(edu),\n",
    "       main='barplot of Educational Edu',\n",
    "       xlab='age level',\n",
    "       ylab='values',\n",
    "       col=c('pink','white','pink'))"
   ]
  },
  {
   "cell_type": "code",
   "execution_count": 9,
   "id": "2ff5f83f",
   "metadata": {},
   "outputs": [
    {
     "data": {
      "text/html": [
       "<style>\n",
       ".list-inline {list-style: none; margin:0; padding: 0}\n",
       ".list-inline>li {display: inline-block}\n",
       ".list-inline>li:not(:last-child)::after {content: \"\\00b7\"; padding: 0 .5ex}\n",
       "</style>\n",
       "<ol class=list-inline><li>'F'</li><li>'F'</li><li>'F'</li><li>'M'</li><li>'M'</li><li>'F'</li><li>'F'</li><li>'F'</li><li>'M'</li><li>'M'</li></ol>\n"
      ],
      "text/latex": [
       "\\begin{enumerate*}\n",
       "\\item 'F'\n",
       "\\item 'F'\n",
       "\\item 'F'\n",
       "\\item 'M'\n",
       "\\item 'M'\n",
       "\\item 'F'\n",
       "\\item 'F'\n",
       "\\item 'F'\n",
       "\\item 'M'\n",
       "\\item 'M'\n",
       "\\end{enumerate*}\n"
      ],
      "text/markdown": [
       "1. 'F'\n",
       "2. 'F'\n",
       "3. 'F'\n",
       "4. 'M'\n",
       "5. 'M'\n",
       "6. 'F'\n",
       "7. 'F'\n",
       "8. 'F'\n",
       "9. 'M'\n",
       "10. 'M'\n",
       "\n",
       "\n"
      ],
      "text/plain": [
       " [1] \"F\" \"F\" \"F\" \"M\" \"M\" \"F\" \"F\" \"F\" \"M\" \"M\""
      ]
     },
     "metadata": {},
     "output_type": "display_data"
    }
   ],
   "source": [
    "gender = c('F','F','F','M','M','F','F','F','M','M')\n",
    "gender"
   ]
  },
  {
   "cell_type": "code",
   "execution_count": 11,
   "id": "2d785931",
   "metadata": {},
   "outputs": [
    {
     "data": {
      "text/plain": [
       "gender\n",
       "F M \n",
       "6 4 "
      ]
     },
     "metadata": {},
     "output_type": "display_data"
    }
   ],
   "source": [
    "table(gender)"
   ]
  },
  {
   "cell_type": "code",
   "execution_count": 14,
   "id": "db62f7e9",
   "metadata": {},
   "outputs": [
    {
     "data": {
      "image/png": "[encoded data removed]",
      "text/plain": [
       "Plot with title \"barplot of gender\""
      ]
     },
     "metadata": {
      "image/png": {
       "height": 420,
       "width": 420
      }
     },
     "output_type": "display_data"
    }
   ],
   "source": [
    "barplot(table(gender),\n",
    "       main='barplot of gender',\n",
    "       xlab='sex', ylab='counts',\n",
    "       col = c('pink','snow'))"
   ]
  },
  {
   "cell_type": "code",
   "execution_count": 16,
   "id": "ef6d8196",
   "metadata": {},
   "outputs": [
    {
     "data": {
      "image/png": "[encoded data removed]",
      "text/plain": [
       "Plot with title \"pieplot on gender\""
      ]
     },
     "metadata": {
      "image/png": {
       "height": 420,
       "width": 420
      }
     },
     "output_type": "display_data"
    }
   ],
   "source": [
    "pie(table(gender),\n",
    "   main='pieplot on gender')"
   ]
  },
  {
   "cell_type": "code",
   "execution_count": 17,
   "id": "d52abd9c",
   "metadata": {},
   "outputs": [
    {
     "data": {
      "text/html": [
       "<style>\n",
       ".list-inline {list-style: none; margin:0; padding: 0}\n",
       ".list-inline>li {display: inline-block}\n",
       ".list-inline>li:not(:last-child)::after {content: \"\\00b7\"; padding: 0 .5ex}\n",
       "</style>\n",
       "<ol class=list-inline><li>'여름'</li><li>'겨울'</li><li>'봄'</li><li>'가을'</li><li>'여름'</li><li>'가을'</li><li>'겨울'</li><li>'여름'</li><li>'여름'</li><li>'가을'</li></ol>\n"
      ],
      "text/latex": [
       "\\begin{enumerate*}\n",
       "\\item '여름'\n",
       "\\item '겨울'\n",
       "\\item '봄'\n",
       "\\item '가을'\n",
       "\\item '여름'\n",
       "\\item '가을'\n",
       "\\item '겨울'\n",
       "\\item '여름'\n",
       "\\item '여름'\n",
       "\\item '가을'\n",
       "\\end{enumerate*}\n"
      ],
      "text/markdown": [
       "1. '여름'\n",
       "2. '겨울'\n",
       "3. '봄'\n",
       "4. '가을'\n",
       "5. '여름'\n",
       "6. '가을'\n",
       "7. '겨울'\n",
       "8. '여름'\n",
       "9. '여름'\n",
       "10. '가을'\n",
       "\n",
       "\n"
      ],
      "text/plain": [
       " [1] \"여름\" \"겨울\" \"봄\"   \"가을\" \"여름\" \"가을\" \"겨울\" \"여름\" \"여름\" \"가을\""
      ]
     },
     "metadata": {},
     "output_type": "display_data"
    }
   ],
   "source": [
    "fab.season = c('여름','겨울','봄','가을','여름','가을','겨울','여름','여름','가을')\n",
    "fab.season"
   ]
  },
  {
   "cell_type": "code",
   "execution_count": 19,
   "id": "958f1941",
   "metadata": {},
   "outputs": [
    {
     "data": {
      "text/plain": [
       "fab.season\n",
       "가을 겨울   봄 여름 \n",
       "   3    2    1    4 "
      ]
     },
     "metadata": {},
     "output_type": "display_data"
    }
   ],
   "source": [
    "table(fab.season)"
   ]
  },
  {
   "cell_type": "code",
   "execution_count": 25,
   "id": "45da3105",
   "metadata": {},
   "outputs": [
    {
     "data": {
      "image/png": "[encoded data removed]",
      "text/plain": [
       "Plot with title \"favorite of season\""
      ]
     },
     "metadata": {
      "image/png": {
       "height": 420,
       "width": 420
      }
     },
     "output_type": "display_data"
    }
   ],
   "source": [
    "barplot(table(fab.season),\n",
    "       main='favorite of season',\n",
    "       xlab='season',\n",
    "       ylab='counts',\n",
    "       col = c('pink','red','white','black'))"
   ]
  },
  {
   "cell_type": "code",
   "execution_count": 27,
   "id": "0e326c1a",
   "metadata": {},
   "outputs": [
    {
     "data": {
      "image/png": "[encoded data removed]",
      "text/plain": [
       "Plot with title \"pie plot of season\""
      ]
     },
     "metadata": {
      "image/png": {
       "height": 420,
       "width": 420
      }
     },
     "output_type": "display_data"
    }
   ],
   "source": [
    "pie(table(fab.season),\n",
    "   main = 'pie plot of season')"
   ]
  },
  {
   "cell_type": "code",
   "execution_count": 28,
   "id": "7461f179",
   "metadata": {},
   "outputs": [],
   "source": [
    "score = c(90, 85, 73, 80, 85, 65, 78, 50, 68, 96)\n",
    "names(score) = c('KOR','ENG','ATH','HIST','SOC','MUSIC','BIO','EARTH','PHY','ART')"
   ]
  },
  {
   "cell_type": "code",
   "execution_count": 29,
   "id": "1c45a3bc",
   "metadata": {},
   "outputs": [
    {
     "data": {
      "text/html": [
       "<style>\n",
       ".dl-inline {width: auto; margin:0; padding: 0}\n",
       ".dl-inline>dt, .dl-inline>dd {float: none; width: auto; display: inline-block}\n",
       ".dl-inline>dt::after {content: \":\\0020\"; padding-right: .5ex}\n",
       ".dl-inline>dt:not(:first-of-type) {padding-left: .5ex}\n",
       "</style><dl class=dl-inline><dt>KOR</dt><dd>90</dd><dt>ENG</dt><dd>85</dd><dt>ATH</dt><dd>73</dd><dt>HIST</dt><dd>80</dd><dt>SOC</dt><dd>85</dd><dt>MUSIC</dt><dd>65</dd><dt>BIO</dt><dd>78</dd><dt>EARTH</dt><dd>50</dd><dt>PHY</dt><dd>68</dd><dt>ART</dt><dd>96</dd></dl>\n"
      ],
      "text/latex": [
       "\\begin{description*}\n",
       "\\item[KOR] 90\n",
       "\\item[ENG] 85\n",
       "\\item[ATH] 73\n",
       "\\item[HIST] 80\n",
       "\\item[SOC] 85\n",
       "\\item[MUSIC] 65\n",
       "\\item[BIO] 78\n",
       "\\item[EARTH] 50\n",
       "\\item[PHY] 68\n",
       "\\item[ART] 96\n",
       "\\end{description*}\n"
      ],
      "text/markdown": [
       "KOR\n",
       ":   90ENG\n",
       ":   85ATH\n",
       ":   73HIST\n",
       ":   80SOC\n",
       ":   85MUSIC\n",
       ":   65BIO\n",
       ":   78EARTH\n",
       ":   50PHY\n",
       ":   68ART\n",
       ":   96\n",
       "\n"
      ],
      "text/plain": [
       "  KOR   ENG   ATH  HIST   SOC MUSIC   BIO EARTH   PHY   ART \n",
       "   90    85    73    80    85    65    78    50    68    96 "
      ]
     },
     "metadata": {},
     "output_type": "display_data"
    }
   ],
   "source": [
    "score"
   ]
  },
  {
   "cell_type": "code",
   "execution_count": 30,
   "id": "1ed5bc94",
   "metadata": {},
   "outputs": [
    {
     "data": {
      "text/html": [
       "77"
      ],
      "text/latex": [
       "77"
      ],
      "text/markdown": [
       "77"
      ],
      "text/plain": [
       "[1] 77"
      ]
     },
     "metadata": {},
     "output_type": "display_data"
    },
    {
     "data": {
      "text/html": [
       "79"
      ],
      "text/latex": [
       "79"
      ],
      "text/markdown": [
       "79"
      ],
      "text/plain": [
       "[1] 79"
      ]
     },
     "metadata": {},
     "output_type": "display_data"
    }
   ],
   "source": [
    "mean(score)\n",
    "median(score)"
   ]
  },
  {
   "cell_type": "code",
   "execution_count": 31,
   "id": "0f2dcb21",
   "metadata": {},
   "outputs": [
    {
     "data": {
      "text/html": [
       "13.490737563232"
      ],
      "text/latex": [
       "13.490737563232"
      ],
      "text/markdown": [
       "13.490737563232"
      ],
      "text/plain": [
       "[1] 13.49074"
      ]
     },
     "metadata": {},
     "output_type": "display_data"
    }
   ],
   "source": [
    "sd(score)"
   ]
  },
  {
   "cell_type": "code",
   "execution_count": 35,
   "id": "93066148",
   "metadata": {},
   "outputs": [
    {
     "data": {
      "text/html": [
       "96"
      ],
      "text/latex": [
       "96"
      ],
      "text/markdown": [
       "96"
      ],
      "text/plain": [
       "[1] 96"
      ]
     },
     "metadata": {},
     "output_type": "display_data"
    }
   ],
   "source": [
    "max(score)"
   ]
  },
  {
   "cell_type": "code",
   "execution_count": 37,
   "id": "524cf2f8",
   "metadata": {},
   "outputs": [
    {
     "data": {
      "text/html": [
       "'ART'"
      ],
      "text/latex": [
       "'ART'"
      ],
      "text/markdown": [
       "'ART'"
      ],
      "text/plain": [
       "[1] \"ART\""
      ]
     },
     "metadata": {},
     "output_type": "display_data"
    }
   ],
   "source": [
    "names(score[score == max(score)])"
   ]
  },
  {
   "cell_type": "code",
   "execution_count": 38,
   "id": "a22e1caa",
   "metadata": {},
   "outputs": [
    {
     "data": {
      "text/html": [
       "'EARTH'"
      ],
      "text/latex": [
       "'EARTH'"
      ],
      "text/markdown": [
       "'EARTH'"
      ],
      "text/plain": [
       "[1] \"EARTH\""
      ]
     },
     "metadata": {},
     "output_type": "display_data"
    }
   ],
   "source": [
    "names(score[score == min(score)])"
   ]
  },
  {
   "cell_type": "code",
   "execution_count": 40,
   "id": "41dd4190",
   "metadata": {},
   "outputs": [
    {
     "data": {
      "text/html": [
       "<strong>EARTH:</strong> 50"
      ],
      "text/latex": [
       "\\textbf{EARTH:} 50"
      ],
      "text/markdown": [
       "**EARTH:** 50"
      ],
      "text/plain": [
       "EARTH \n",
       "   50 "
      ]
     },
     "metadata": {},
     "output_type": "display_data"
    }
   ],
   "source": [
    "score[score == min(score)]"
   ]
  },
  {
   "cell_type": "code",
   "execution_count": 42,
   "id": "4cddb37c",
   "metadata": {},
   "outputs": [
    {
     "data": {
      "text/html": [
       "<style>\n",
       ".list-inline {list-style: none; margin:0; padding: 0}\n",
       ".list-inline>li {display: inline-block}\n",
       ".list-inline>li:not(:last-child)::after {content: \"\\00b7\"; padding: 0 .5ex}\n",
       "</style>\n",
       "<ol class=list-inline><li>'KOR'</li><li>'ENG'</li><li>'ATH'</li><li>'HIST'</li><li>'SOC'</li><li>'MUSIC'</li><li>'BIO'</li><li>'EARTH'</li><li>'PHY'</li><li>'ART'</li></ol>\n"
      ],
      "text/latex": [
       "\\begin{enumerate*}\n",
       "\\item 'KOR'\n",
       "\\item 'ENG'\n",
       "\\item 'ATH'\n",
       "\\item 'HIST'\n",
       "\\item 'SOC'\n",
       "\\item 'MUSIC'\n",
       "\\item 'BIO'\n",
       "\\item 'EARTH'\n",
       "\\item 'PHY'\n",
       "\\item 'ART'\n",
       "\\end{enumerate*}\n"
      ],
      "text/markdown": [
       "1. 'KOR'\n",
       "2. 'ENG'\n",
       "3. 'ATH'\n",
       "4. 'HIST'\n",
       "5. 'SOC'\n",
       "6. 'MUSIC'\n",
       "7. 'BIO'\n",
       "8. 'EARTH'\n",
       "9. 'PHY'\n",
       "10. 'ART'\n",
       "\n",
       "\n"
      ],
      "text/plain": [
       " [1] \"KOR\"   \"ENG\"   \"ATH\"   \"HIST\"  \"SOC\"   \"MUSIC\" \"BIO\"   \"EARTH\" \"PHY\"  \n",
       "[10] \"ART\"  "
      ]
     },
     "metadata": {},
     "output_type": "display_data"
    }
   ],
   "source": [
    "names(score == max(score))"
   ]
  },
  {
   "cell_type": "code",
   "execution_count": 43,
   "id": "4cb23014",
   "metadata": {},
   "outputs": [
    {
     "data": {
      "text/html": [
       "'ART'"
      ],
      "text/latex": [
       "'ART'"
      ],
      "text/markdown": [
       "'ART'"
      ],
      "text/plain": [
       "[1] \"ART\""
      ]
     },
     "metadata": {},
     "output_type": "display_data"
    }
   ],
   "source": [
    "names(score[score == max(score)])"
   ]
  },
  {
   "cell_type": "code",
   "execution_count": 46,
   "id": "b7917dc8",
   "metadata": {},
   "outputs": [
    {
     "data": {
      "image/png": "[encoded data removed]",
      "text/plain": [
       "Plot with title \"boxplot of usa_01 exam oca\""
      ]
     },
     "metadata": {
      "image/png": {
       "height": 420,
       "width": 420
      }
     },
     "output_type": "display_data"
    }
   ],
   "source": [
    "boxplot(score,\n",
    "       main='boxplot of usa_01 exam oca')"
   ]
  },
  {
   "cell_type": "code",
   "execution_count": 51,
   "id": "adbb19de",
   "metadata": {},
   "outputs": [
    {
     "data": {
      "image/png": "[encoded data removed]",
      "text/plain": [
       "Plot with title \"학생 성적\""
      ]
     },
     "metadata": {
      "image/png": {
       "height": 420,
       "width": 420
      }
     },
     "output_type": "display_data"
    }
   ],
   "source": [
    "hist(score,\n",
    "    main='학생 성적',\n",
    "    col = 'purple',\n",
    "    border ='pink')"
   ]
  },
  {
   "cell_type": "code",
   "execution_count": 52,
   "id": "3fa56988",
   "metadata": {},
   "outputs": [
    {
     "data": {
      "text/html": [
       "3.21725"
      ],
      "text/latex": [
       "3.21725"
      ],
      "text/markdown": [
       "3.21725"
      ],
      "text/plain": [
       "[1] 3.21725"
      ]
     },
     "metadata": {},
     "output_type": "display_data"
    }
   ],
   "source": [
    "mean(mtcars$wt)"
   ]
  },
  {
   "cell_type": "code",
   "execution_count": 53,
   "id": "0ab2bedf",
   "metadata": {},
   "outputs": [
    {
     "data": {
      "text/html": [
       "3.325"
      ],
      "text/latex": [
       "3.325"
      ],
      "text/markdown": [
       "3.325"
      ],
      "text/plain": [
       "[1] 3.325"
      ]
     },
     "metadata": {},
     "output_type": "display_data"
    }
   ],
   "source": [
    "median(mtcars$wt)"
   ]
  },
  {
   "cell_type": "code",
   "execution_count": 55,
   "id": "15b63e0f",
   "metadata": {},
   "outputs": [
    {
     "data": {
      "text/html": [
       "3.325"
      ],
      "text/latex": [
       "3.325"
      ],
      "text/markdown": [
       "3.325"
      ],
      "text/plain": [
       "[1] 3.325"
      ]
     },
     "metadata": {},
     "output_type": "display_data"
    }
   ],
   "source": [
    "mean(mtcars$wt, trim = 1.5)\n",
    "# 절사평균 : 1.5 == 15%"
   ]
  },
  {
   "cell_type": "code",
   "execution_count": 57,
   "id": "7c6a83ab",
   "metadata": {},
   "outputs": [
    {
     "data": {
      "text/html": [
       "0.978457442989697"
      ],
      "text/latex": [
       "0.978457442989697"
      ],
      "text/markdown": [
       "0.978457442989697"
      ],
      "text/plain": [
       "[1] 0.9784574"
      ]
     },
     "metadata": {},
     "output_type": "display_data"
    }
   ],
   "source": [
    "sd(mtcars$wt)"
   ]
  },
  {
   "cell_type": "code",
   "execution_count": 58,
   "id": "d18272a1",
   "metadata": {},
   "outputs": [
    {
     "data": {
      "text/plain": [
       "   Min. 1st Qu.  Median    Mean 3rd Qu.    Max. \n",
       "  1.513   2.581   3.325   3.217   3.610   5.424 "
      ]
     },
     "metadata": {},
     "output_type": "display_data"
    }
   ],
   "source": [
    "summary(mtcars$wt)"
   ]
  },
  {
   "cell_type": "code",
   "execution_count": 60,
   "id": "c0f52cec",
   "metadata": {},
   "outputs": [
    {
     "data": {
      "text/html": [
       "<style>\n",
       ".dl-inline {width: auto; margin:0; padding: 0}\n",
       ".dl-inline>dt, .dl-inline>dd {float: none; width: auto; display: inline-block}\n",
       ".dl-inline>dt::after {content: \":\\0020\"; padding-right: .5ex}\n",
       ".dl-inline>dt:not(:first-of-type) {padding-left: .5ex}\n",
       "</style><dl class=dl-inline><dt>0%</dt><dd>1.513</dd><dt>25%</dt><dd>2.58125</dd><dt>50%</dt><dd>3.325</dd><dt>75%</dt><dd>3.61</dd><dt>100%</dt><dd>5.424</dd></dl>\n"
      ],
      "text/latex": [
       "\\begin{description*}\n",
       "\\item[0\\textbackslash{}\\%] 1.513\n",
       "\\item[25\\textbackslash{}\\%] 2.58125\n",
       "\\item[50\\textbackslash{}\\%] 3.325\n",
       "\\item[75\\textbackslash{}\\%] 3.61\n",
       "\\item[100\\textbackslash{}\\%] 5.424\n",
       "\\end{description*}\n"
      ],
      "text/markdown": [
       "0%\n",
       ":   1.51325%\n",
       ":   2.5812550%\n",
       ":   3.32575%\n",
       ":   3.61100%\n",
       ":   5.424\n",
       "\n"
      ],
      "text/plain": [
       "     0%     25%     50%     75%    100% \n",
       "1.51300 2.58125 3.32500 3.61000 5.42400 "
      ]
     },
     "metadata": {},
     "output_type": "display_data"
    }
   ],
   "source": [
    "quantile(mtcars$wt)"
   ]
  },
  {
   "cell_type": "code",
   "execution_count": 61,
   "id": "04712084",
   "metadata": {},
   "outputs": [
    {
     "data": {
      "text/plain": [
       "\n",
       " 4  6  8 \n",
       "11  7 14 "
      ]
     },
     "metadata": {},
     "output_type": "display_data"
    }
   ],
   "source": [
    "table(mtcars$cyl)"
   ]
  },
  {
   "cell_type": "code",
   "execution_count": 64,
   "id": "dcb19216",
   "metadata": {},
   "outputs": [
    {
     "data": {
      "image/png": "[encoded data removed]",
      "text/plain": [
       "Plot with title \"barplot of syl table\""
      ]
     },
     "metadata": {
      "image/png": {
       "height": 420,
       "width": 420
      }
     },
     "output_type": "display_data"
    }
   ],
   "source": [
    "barplot(table(mtcars$cyl),\n",
    "       main='barplot of syl table',\n",
    "       xlab='cyl values',\n",
    "       ylab = 'count')"
   ]
  },
  {
   "cell_type": "code",
   "execution_count": 67,
   "id": "88d5215f",
   "metadata": {},
   "outputs": [
    {
     "data": {
      "image/png": "[encoded data removed]",
      "text/plain": [
       "Plot with title \"Histogram of table(mtcars$wt)\""
      ]
     },
     "metadata": {
      "image/png": {
       "height": 420,
       "width": 420
      }
     },
     "output_type": "display_data"
    }
   ],
   "source": [
    "hist(table(mtcars$wt))"
   ]
  },
  {
   "cell_type": "code",
   "execution_count": 69,
   "id": "30ae0848",
   "metadata": {},
   "outputs": [
    {
     "name": "stderr",
     "output_type": "stream",
     "text": [
      "Warning message in min(x):\n",
      "\"no non-missing arguments to min; returning Inf\"\n",
      "Warning message in max(x):\n",
      "\"no non-missing arguments to max; returning -Inf\"\n"
     ]
    },
    {
     "ename": "ERROR",
     "evalue": "Error in plot.window(xlim = xlim, ylim = ylim, log = log, yaxs = pars$yaxs): need finite 'ylim' values\n",
     "output_type": "error",
     "traceback": [
      "Error in plot.window(xlim = xlim, ylim = ylim, log = log, yaxs = pars$yaxs): need finite 'ylim' values\nTraceback:\n",
      "1. boxplot(mtcars$dist)",
      "2. boxplot.default(mtcars$dist)",
      "3. do.call(bxp, c(list(z, notch = notch, width = width, varwidth = varwidth, \n .     log = log, border = border, pars = pars, outline = outline, \n .     horizontal = horizontal, add = add, ann = ann, at = at), \n .     args[namedargs]), quote = TRUE)",
      "4. (function (z, notch = FALSE, width = NULL, varwidth = FALSE, \n .     outline = TRUE, notch.frac = 0.5, log = \"\", border = par(\"fg\"), \n .     pars = NULL, frame.plot = axes, horizontal = FALSE, ann = TRUE, \n .     add = FALSE, at = NULL, show.names = NULL, ...) \n . {\n .     pars <- as.list(pars)\n .     if (...length()) {\n .         nmsA <- names(args <- list(...))\n .         if (anyDuplicated(nmsA)) {\n .             iD <- duplicated(nmsA)\n .             warning(sprintf(ngettext(sum(iD), \"Duplicated argument %s is disregarded\", \n .                 \"Duplicated arguments %s are disregarded\"), sub(\"^list\\\\((.*)\\\\)\", \n .                 \"\\\\1\", deparse(args[iD]))), domain = NA)\n .             nmsA <- names(args <- args[!iD])\n .         }\n .         pars[nmsA] <- args\n .     }\n .     bplt <- function(x, wid, stats, out, conf, notch, xlog, i) {\n .         ok <- TRUE\n .         if (!anyNA(stats)) {\n .             xP <- if (xlog) \n .                 function(x, w) x * exp(w)\n .             else function(x, w) x + w\n .             wid <- wid/2\n .             if (notch) {\n .                 ok <- stats[2L] <= conf[1L] && conf[2L] <= stats[4L]\n .                 xx <- xP(x, wid * c(-1, 1, 1, notch.frac, 1, \n .                   1, -1, -1, -notch.frac, -1))\n .                 yy <- c(stats[c(2, 2)], conf[1L], stats[3L], \n .                   conf[2L], stats[c(4, 4)], conf[2L], stats[3L], \n .                   conf[1L])\n .             }\n .             else {\n .                 xx <- xP(x, wid * c(-1, 1, 1, -1))\n .                 yy <- stats[c(2, 2, 4, 4)]\n .             }\n .             if (!notch) \n .                 notch.frac <- 1\n .             wntch <- notch.frac * wid\n .             xypolygon(xx, yy, lty = \"blank\", col = boxfill[i])\n .             xysegments(xP(x, -wntch), stats[3L], xP(x, +wntch), \n .                 stats[3L], lty = medlty[i], lwd = medlwd[i], \n .                 col = medcol[i], lend = 1)\n .             xypoints(x, stats[3L], pch = medpch[i], cex = medcex[i], \n .                 col = medcol[i], bg = medbg[i])\n .             xysegments(rep.int(x, 2), stats[c(1, 5)], rep.int(x, \n .                 2), stats[c(2, 4)], lty = whisklty[i], lwd = whisklwd[i], \n .                 col = whiskcol[i])\n .             xysegments(rep.int(xP(x, -wid * staplewex[i]), 2), \n .                 stats[c(1, 5)], rep.int(xP(x, +wid * staplewex[i]), \n .                   2), stats[c(1, 5)], lty = staplelty[i], lwd = staplelwd[i], \n .                 col = staplecol[i])\n .             xypolygon(xx, yy, lty = boxlty[i], lwd = boxlwd[i], \n .                 border = boxcol[i])\n .             if ((nout <- length(out))) {\n .                 xysegments(rep(x - wid * outwex, nout), out, \n .                   rep(x + wid * outwex, nout), out, lty = outlty[i], \n .                   lwd = outlwd[i], col = outcol[i])\n .                 xypoints(rep.int(x, nout), out, pch = outpch[i], \n .                   lwd = outlwd[i], cex = outcex[i], col = outcol[i], \n .                   bg = outbg[i])\n .             }\n .             if (any(inf <- !is.finite(out))) {\n .                 warning(sprintf(ngettext(length(unique(out[inf])), \n .                   \"Outlier (%s) in boxplot %d is not drawn\", \n .                   \"Outliers (%s) in boxplot %d are not drawn\"), \n .                   paste(unique(out[inf]), collapse = \", \"), i), \n .                   domain = NA)\n .             }\n .         }\n .         return(ok)\n .     }\n .     if (!is.list(z) || 0L == (n <- length(z$n))) \n .         stop(\"invalid first argument\")\n .     if (is.null(at)) \n .         at <- 1L:n\n .     else if (length(at) != n) \n .         stop(gettextf(\"'at' must have same length as 'z$n', i.e. %d\", \n .             n), domain = NA)\n .     if (is.null(z$out)) \n .         z$out <- numeric()\n .     if (is.null(z$group) || !outline) \n .         z$group <- integer()\n .     if (is.null(pars$ylim)) \n .         ylim <- range(z$stats[is.finite(z$stats)], if (outline) z$out[is.finite(z$out)], \n .             if (notch) z$conf[is.finite(z$conf)])\n .     else {\n .         ylim <- pars$ylim\n .         pars$ylim <- NULL\n .     }\n .     if (length(border) == 0L) \n .         border <- par(\"fg\")\n .     dev.hold()\n .     on.exit(dev.flush())\n .     if (!add) {\n .         if (is.null(pars$xlim)) \n .             xlim <- range(at, finite = TRUE) + c(-0.5, 0.5)\n .         else {\n .             xlim <- pars$xlim\n .             pars$xlim <- NULL\n .         }\n .         plot.new()\n .         if (horizontal) \n .             plot.window(ylim = xlim, xlim = ylim, log = log, \n .                 xaxs = pars$yaxs)\n .         else plot.window(xlim = xlim, ylim = ylim, log = log, \n .             yaxs = pars$yaxs)\n .     }\n .     xlog <- (par(\"ylog\") && horizontal) || (par(\"xlog\") && !horizontal)\n .     pcycle <- function(p, def1, def2 = NULL) rep(if (length(p)) p else if (length(def1)) def1 else def2, \n .         length.out = n)\n .     p <- function(sym) pars[[sym, exact = TRUE]]\n .     boxlty <- pcycle(pars$boxlty, p(\"lty\"), par(\"lty\"))\n .     boxlwd <- pcycle(pars$boxlwd, p(\"lwd\"), par(\"lwd\"))\n .     boxcol <- pcycle(pars$boxcol, border)\n .     boxfill <- pcycle(pars$boxfill, par(\"bg\"))\n .     boxwex <- pcycle(pars$boxwex, 0.8 * {\n .         if (n <= 1) \n .             1\n .         else stats::quantile(diff(sort(if (xlog) \n .             log(at)\n .         else at)), 0.1)\n .     })\n .     medlty <- pcycle(pars$medlty, p(\"lty\"), par(\"lty\"))\n .     medlwd <- pcycle(pars$medlwd, 3 * p(\"lwd\"), 3 * par(\"lwd\"))\n .     medpch <- pcycle(pars$medpch, NA_integer_)\n .     medcex <- pcycle(pars$medcex, p(\"cex\"), par(\"cex\"))\n .     medcol <- pcycle(pars$medcol, border)\n .     medbg <- pcycle(pars$medbg, p(\"bg\"), par(\"bg\"))\n .     whisklty <- pcycle(pars$whisklty, p(\"lty\"), \"dashed\")\n .     whisklwd <- pcycle(pars$whisklwd, p(\"lwd\"), par(\"lwd\"))\n .     whiskcol <- pcycle(pars$whiskcol, border)\n .     staplelty <- pcycle(pars$staplelty, p(\"lty\"), par(\"lty\"))\n .     staplelwd <- pcycle(pars$staplelwd, p(\"lwd\"), par(\"lwd\"))\n .     staplecol <- pcycle(pars$staplecol, border)\n .     staplewex <- pcycle(pars$staplewex, 0.5)\n .     outlty <- pcycle(pars$outlty, \"blank\")\n .     outlwd <- pcycle(pars$outlwd, p(\"lwd\"), par(\"lwd\"))\n .     outpch <- pcycle(pars$outpch, p(\"pch\"), par(\"pch\"))\n .     outcex <- pcycle(pars$outcex, p(\"cex\"), par(\"cex\"))\n .     outcol <- pcycle(pars$outcol, border)\n .     outbg <- pcycle(pars$outbg, p(\"bg\"), par(\"bg\"))\n .     outwex <- pcycle(pars$outwex, 0.5)\n .     width <- if (!is.null(width)) {\n .         if (length(width) != n || anyNA(width) || any(width <= \n .             0)) \n .             stop(\"invalid boxplot widths\")\n .         boxwex * width/max(width)\n .     }\n .     else if (varwidth) \n .         boxwex * sqrt(z$n/max(z$n))\n .     else if (n == 1) \n .         0.5 * boxwex\n .     else rep.int(boxwex, n)\n .     if (horizontal) {\n .         xypoints <- function(x, y, ...) points(y, x, ...)\n .         xypolygon <- function(x, y, ...) polygon(y, x, ...)\n .         xysegments <- function(x0, y0, x1, y1, ...) segments(y0, \n .             x0, y1, x1, ...)\n .     }\n .     else {\n .         xypoints <- points\n .         xypolygon <- polygon\n .         xysegments <- segments\n .     }\n .     ok <- TRUE\n .     for (i in 1L:n) ok <- ok & bplt(at[i], wid = width[i], stats = z$stats[, \n .         i], out = z$out[z$group == i], conf = z$conf[, i], notch = notch, \n .         xlog = xlog, i = i)\n .     if (!ok) \n .         warning(\"some notches went outside hinges ('box'): maybe set notch=FALSE\")\n .     axes <- is.null(pars$axes)\n .     if (!axes) {\n .         axes <- pars$axes\n .         pars$axes <- NULL\n .     }\n .     if (axes) {\n .         ax.pars <- pars[names(pars) %in% c(\"xaxt\", \"yaxt\", \"xaxp\", \n .             \"yaxp\", \"gap.axis\", \"las\", \"cex.axis\", \"col.axis\", \n .             \"format\")]\n .         if (is.null(show.names)) \n .             show.names <- n > 1\n .         if (show.names) \n .             do.call(\"axis\", c(list(side = 1 + horizontal, at = at, \n .                 labels = z$names), ax.pars), quote = TRUE)\n .         do.call(\"Axis\", c(list(x = z$stats, side = 2 - horizontal), \n .             ax.pars), quote = TRUE)\n .     }\n .     if (ann) \n .         do.call(title, pars[names(pars) %in% c(\"main\", \"cex.main\", \n .             \"col.main\", \"sub\", \"cex.sub\", \"col.sub\", \"xlab\", \n .             \"ylab\", \"cex.lab\", \"col.lab\")], quote = TRUE)\n .     if (frame.plot) \n .         box()\n .     invisible(at)\n . })(base::quote(list(stats = structure(c(NA_real_, NA_real_, NA_real_, \n . NA_real_, NA_real_), dim = c(5L, 1L)), n = 0, conf = structure(c(NA_real_, \n . NA_real_), dim = 2:1), out = numeric(0), group = numeric(0), \n .     names = \"1\")), notch = base::quote(FALSE), width = base::quote(NULL), \n .     varwidth = base::quote(FALSE), log = base::quote(\"\"), border = base::quote(\"black\"), \n .     pars = base::quote(list(boxwex = 0.8, staplewex = 0.5, outwex = 0.5, \n .         boxfill = \"lightgray\")), outline = base::quote(TRUE), \n .     horizontal = base::quote(FALSE), add = base::quote(FALSE), \n .     ann = base::quote(TRUE), at = base::quote(NULL))",
      "5. plot.window(xlim = xlim, ylim = ylim, log = log, yaxs = pars$yaxs)"
     ]
    },
    {
     "data": {
      "image/png": "[encoded data removed]",
      "text/plain": [
       "plot without title"
      ]
     },
     "metadata": {
      "image/png": {
       "height": 420,
       "width": 420
      }
     },
     "output_type": "display_data"
    }
   ],
   "source": [
    "boxplot(mtcars$dist)"
   ]
  },
  {
   "cell_type": "code",
   "execution_count": 71,
   "id": "90729175",
   "metadata": {},
   "outputs": [
    {
     "data": {
      "image/png": "[encoded data removed]",
      "text/plain": [
       "Plot with title \"배기량 정보\""
      ]
     },
     "metadata": {
      "image/png": {
       "height": 420,
       "width": 420
      }
     },
     "output_type": "display_data"
    }
   ],
   "source": [
    "boxplot(mtcars$disp,\n",
    "       main='배기량 정보')"
   ]
  },
  {
   "cell_type": "code",
   "execution_count": 74,
   "id": "4a9a3fa9",
   "metadata": {},
   "outputs": [
    {
     "data": {
      "image/png": "[encoded data removed]",
      "text/plain": [
       "Plot with title \"기어에 따른 연비값\""
      ]
     },
     "metadata": {
      "image/png": {
       "height": 420,
       "width": 420
      }
     },
     "output_type": "display_data"
    }
   ],
   "source": [
    "boxplot(mtcars$mpg~mtcars$gear,\n",
    "       main = '기어에 따른 연비값')"
   ]
  },
  {
   "cell_type": "code",
   "execution_count": 75,
   "id": "796a0c3c",
   "metadata": {},
   "outputs": [
    {
     "data": {
      "text/html": [
       "<table class=\"dataframe\">\n",
       "<caption>A data.frame: 6 × 3</caption>\n",
       "<thead>\n",
       "\t<tr><th></th><th scope=col>Girth</th><th scope=col>Height</th><th scope=col>Volume</th></tr>\n",
       "\t<tr><th></th><th scope=col>&lt;dbl&gt;</th><th scope=col>&lt;dbl&gt;</th><th scope=col>&lt;dbl&gt;</th></tr>\n",
       "</thead>\n",
       "<tbody>\n",
       "\t<tr><th scope=row>1</th><td> 8.3</td><td>70</td><td>10.3</td></tr>\n",
       "\t<tr><th scope=row>2</th><td> 8.6</td><td>65</td><td>10.3</td></tr>\n",
       "\t<tr><th scope=row>3</th><td> 8.8</td><td>63</td><td>10.2</td></tr>\n",
       "\t<tr><th scope=row>4</th><td>10.5</td><td>72</td><td>16.4</td></tr>\n",
       "\t<tr><th scope=row>5</th><td>10.7</td><td>81</td><td>18.8</td></tr>\n",
       "\t<tr><th scope=row>6</th><td>10.8</td><td>83</td><td>19.7</td></tr>\n",
       "</tbody>\n",
       "</table>\n"
      ],
      "text/latex": [
       "A data.frame: 6 × 3\n",
       "\\begin{tabular}{r|lll}\n",
       "  & Girth & Height & Volume\\\\\n",
       "  & <dbl> & <dbl> & <dbl>\\\\\n",
       "\\hline\n",
       "\t1 &  8.3 & 70 & 10.3\\\\\n",
       "\t2 &  8.6 & 65 & 10.3\\\\\n",
       "\t3 &  8.8 & 63 & 10.2\\\\\n",
       "\t4 & 10.5 & 72 & 16.4\\\\\n",
       "\t5 & 10.7 & 81 & 18.8\\\\\n",
       "\t6 & 10.8 & 83 & 19.7\\\\\n",
       "\\end{tabular}\n"
      ],
      "text/markdown": [
       "\n",
       "A data.frame: 6 × 3\n",
       "\n",
       "| <!--/--> | Girth &lt;dbl&gt; | Height &lt;dbl&gt; | Volume &lt;dbl&gt; |\n",
       "|---|---|---|---|\n",
       "| 1 |  8.3 | 70 | 10.3 |\n",
       "| 2 |  8.6 | 65 | 10.3 |\n",
       "| 3 |  8.8 | 63 | 10.2 |\n",
       "| 4 | 10.5 | 72 | 16.4 |\n",
       "| 5 | 10.7 | 81 | 18.8 |\n",
       "| 6 | 10.8 | 83 | 19.7 |\n",
       "\n"
      ],
      "text/plain": [
       "  Girth Height Volume\n",
       "1  8.3  70     10.3  \n",
       "2  8.6  65     10.3  \n",
       "3  8.8  63     10.2  \n",
       "4 10.5  72     16.4  \n",
       "5 10.7  81     18.8  \n",
       "6 10.8  83     19.7  "
      ]
     },
     "metadata": {},
     "output_type": "display_data"
    }
   ],
   "source": [
    "head(trees)"
   ]
  },
  {
   "cell_type": "code",
   "execution_count": 76,
   "id": "097b4040",
   "metadata": {},
   "outputs": [
    {
     "data": {
      "text/html": [
       "13.2483870967742"
      ],
      "text/latex": [
       "13.2483870967742"
      ],
      "text/markdown": [
       "13.2483870967742"
      ],
      "text/plain": [
       "[1] 13.24839"
      ]
     },
     "metadata": {},
     "output_type": "display_data"
    }
   ],
   "source": [
    "mean(trees$Girth)"
   ]
  },
  {
   "cell_type": "code",
   "execution_count": 77,
   "id": "48cb77b7",
   "metadata": {},
   "outputs": [
    {
     "data": {
      "text/html": [
       "12.9"
      ],
      "text/latex": [
       "12.9"
      ],
      "text/markdown": [
       "12.9"
      ],
      "text/plain": [
       "[1] 12.9"
      ]
     },
     "metadata": {},
     "output_type": "display_data"
    }
   ],
   "source": [
    "median(trees$Girth)"
   ]
  },
  {
   "cell_type": "code",
   "execution_count": 78,
   "id": "0ea7af64",
   "metadata": {},
   "outputs": [
    {
     "data": {
      "text/html": [
       "12.9"
      ],
      "text/latex": [
       "12.9"
      ],
      "text/markdown": [
       "12.9"
      ],
      "text/plain": [
       "[1] 12.9"
      ]
     },
     "metadata": {},
     "output_type": "display_data"
    }
   ],
   "source": [
    "mean(trees$Girth, trim = 1.5)"
   ]
  },
  {
   "cell_type": "code",
   "execution_count": 79,
   "id": "be146e72",
   "metadata": {},
   "outputs": [
    {
     "data": {
      "text/html": [
       "3.13813861683875"
      ],
      "text/latex": [
       "3.13813861683875"
      ],
      "text/markdown": [
       "3.13813861683875"
      ],
      "text/plain": [
       "[1] 3.138139"
      ]
     },
     "metadata": {},
     "output_type": "display_data"
    }
   ],
   "source": [
    "sd(trees$Girth)"
   ]
  },
  {
   "cell_type": "code",
   "execution_count": 80,
   "id": "7b5d0f3a",
   "metadata": {},
   "outputs": [
    {
     "data": {
      "text/html": [
       "76"
      ],
      "text/latex": [
       "76"
      ],
      "text/markdown": [
       "76"
      ],
      "text/plain": [
       "[1] 76"
      ]
     },
     "metadata": {},
     "output_type": "display_data"
    }
   ],
   "source": [
    "mean(trees$Height)"
   ]
  },
  {
   "cell_type": "code",
   "execution_count": 81,
   "id": "771142fc",
   "metadata": {},
   "outputs": [
    {
     "data": {
      "text/html": [
       "12.9"
      ],
      "text/latex": [
       "12.9"
      ],
      "text/markdown": [
       "12.9"
      ],
      "text/plain": [
       "[1] 12.9"
      ]
     },
     "metadata": {},
     "output_type": "display_data"
    }
   ],
   "source": [
    "median(trees$Girth)"
   ]
  },
  {
   "cell_type": "code",
   "execution_count": 82,
   "id": "c462af61",
   "metadata": {},
   "outputs": [
    {
     "data": {
      "text/html": [
       "12.9"
      ],
      "text/latex": [
       "12.9"
      ],
      "text/markdown": [
       "12.9"
      ],
      "text/plain": [
       "[1] 12.9"
      ]
     },
     "metadata": {},
     "output_type": "display_data"
    }
   ],
   "source": [
    "mean(trees$Girth, trim = 1.5)"
   ]
  },
  {
   "cell_type": "code",
   "execution_count": 83,
   "id": "df7178e6",
   "metadata": {},
   "outputs": [
    {
     "data": {
      "text/html": [
       "3.13813861683875"
      ],
      "text/latex": [
       "3.13813861683875"
      ],
      "text/markdown": [
       "3.13813861683875"
      ],
      "text/plain": [
       "[1] 3.138139"
      ]
     },
     "metadata": {},
     "output_type": "display_data"
    }
   ],
   "source": [
    "sd(trees$Girth)"
   ]
  },
  {
   "cell_type": "code",
   "execution_count": 84,
   "id": "5611a8d1",
   "metadata": {},
   "outputs": [
    {
     "data": {
      "image/png": "[encoded data removed]",
      "text/plain": [
       "Plot with title \"Histogram of table(trees$Height)\""
      ]
     },
     "metadata": {
      "image/png": {
       "height": 420,
       "width": 420
      }
     },
     "output_type": "display_data"
    }
   ],
   "source": [
    "hist(table(trees$Height))"
   ]
  },
  {
   "cell_type": "code",
   "execution_count": 85,
   "id": "85f4b56d",
   "metadata": {},
   "outputs": [
    {
     "data": {
      "image/png": "[encoded data removed]",
      "text/plain": [
       "plot without title"
      ]
     },
     "metadata": {
      "image/png": {
       "height": 420,
       "width": 420
      }
     },
     "output_type": "display_data"
    }
   ],
   "source": [
    "boxplot(table(trees$Height))"
   ]
  },
  {
   "cell_type": "code",
   "execution_count": 88,
   "id": "d05e73f4",
   "metadata": {},
   "outputs": [
    {
     "data": {
      "image/png": "[encoded data removed]",
      "text/plain": [
       "plot without title"
      ]
     },
     "metadata": {
      "image/png": {
       "height": 420,
       "width": 420
      }
     },
     "output_type": "display_data"
    }
   ],
   "source": [
    "boxplot(trees$Height)"
   ]
  },
  {
   "cell_type": "code",
   "execution_count": 89,
   "id": "d8f84dc3",
   "metadata": {},
   "outputs": [
    {
     "data": {
      "image/png": "[encoded data removed]",
      "text/plain": [
       "Plot with title \"Histogram of trees$Height\""
      ]
     },
     "metadata": {
      "image/png": {
       "height": 420,
       "width": 420
      }
     },
     "output_type": "display_data"
    }
   ],
   "source": [
    "hist(trees$Height)"
   ]
  },
  {
   "cell_type": "code",
   "execution_count": 90,
   "id": "74fad05d",
   "metadata": {},
   "outputs": [
    {
     "data": {
      "text/html": [
       "<table class=\"dataframe\">\n",
       "<caption>A nfnGroupedData: 6 × 3</caption>\n",
       "<thead>\n",
       "\t<tr><th></th><th scope=col>Tree</th><th scope=col>age</th><th scope=col>circumference</th></tr>\n",
       "\t<tr><th></th><th scope=col>&lt;ord&gt;</th><th scope=col>&lt;dbl&gt;</th><th scope=col>&lt;dbl&gt;</th></tr>\n",
       "</thead>\n",
       "<tbody>\n",
       "\t<tr><th scope=row>1</th><td>1</td><td> 118</td><td> 30</td></tr>\n",
       "\t<tr><th scope=row>2</th><td>1</td><td> 484</td><td> 58</td></tr>\n",
       "\t<tr><th scope=row>3</th><td>1</td><td> 664</td><td> 87</td></tr>\n",
       "\t<tr><th scope=row>4</th><td>1</td><td>1004</td><td>115</td></tr>\n",
       "\t<tr><th scope=row>5</th><td>1</td><td>1231</td><td>120</td></tr>\n",
       "\t<tr><th scope=row>6</th><td>1</td><td>1372</td><td>142</td></tr>\n",
       "</tbody>\n",
       "</table>\n"
      ],
      "text/latex": [
       "A nfnGroupedData: 6 × 3\n",
       "\\begin{tabular}{r|lll}\n",
       "  & Tree & age & circumference\\\\\n",
       "  & <ord> & <dbl> & <dbl>\\\\\n",
       "\\hline\n",
       "\t1 & 1 &  118 &  30\\\\\n",
       "\t2 & 1 &  484 &  58\\\\\n",
       "\t3 & 1 &  664 &  87\\\\\n",
       "\t4 & 1 & 1004 & 115\\\\\n",
       "\t5 & 1 & 1231 & 120\\\\\n",
       "\t6 & 1 & 1372 & 142\\\\\n",
       "\\end{tabular}\n"
      ],
      "text/markdown": [
       "\n",
       "A nfnGroupedData: 6 × 3\n",
       "\n",
       "| <!--/--> | Tree &lt;ord&gt; | age &lt;dbl&gt; | circumference &lt;dbl&gt; |\n",
       "|---|---|---|---|\n",
       "| 1 | 1 |  118 |  30 |\n",
       "| 2 | 1 |  484 |  58 |\n",
       "| 3 | 1 |  664 |  87 |\n",
       "| 4 | 1 | 1004 | 115 |\n",
       "| 5 | 1 | 1231 | 120 |\n",
       "| 6 | 1 | 1372 | 142 |\n",
       "\n"
      ],
      "text/plain": [
       "  Tree age  circumference\n",
       "1 1     118  30          \n",
       "2 1     484  58          \n",
       "3 1     664  87          \n",
       "4 1    1004 115          \n",
       "5 1    1231 120          \n",
       "6 1    1372 142          "
      ]
     },
     "metadata": {},
     "output_type": "display_data"
    }
   ],
   "source": [
    "head(Orange)"
   ]
  },
  {
   "cell_type": "code",
   "execution_count": 91,
   "id": "f824b898",
   "metadata": {},
   "outputs": [
    {
     "data": {
      "text/html": [
       "922.142857142857"
      ],
      "text/latex": [
       "922.142857142857"
      ],
      "text/markdown": [
       "922.142857142857"
      ],
      "text/plain": [
       "[1] 922.1429"
      ]
     },
     "metadata": {},
     "output_type": "display_data"
    }
   ],
   "source": [
    "mean(Orange$age)"
   ]
  },
  {
   "cell_type": "code",
   "execution_count": 92,
   "id": "22c47c8a",
   "metadata": {},
   "outputs": [
    {
     "data": {
      "text/html": [
       "1004"
      ],
      "text/latex": [
       "1004"
      ],
      "text/markdown": [
       "1004"
      ],
      "text/plain": [
       "[1] 1004"
      ]
     },
     "metadata": {},
     "output_type": "display_data"
    }
   ],
   "source": [
    "median(Orange$age)"
   ]
  },
  {
   "cell_type": "code",
   "execution_count": 93,
   "id": "52d51762",
   "metadata": {},
   "outputs": [
    {
     "data": {
      "text/html": [
       "1004"
      ],
      "text/latex": [
       "1004"
      ],
      "text/markdown": [
       "1004"
      ],
      "text/plain": [
       "[1] 1004"
      ]
     },
     "metadata": {},
     "output_type": "display_data"
    }
   ],
   "source": [
    "mean(Orange$age, trim=1.5)"
   ]
  },
  {
   "cell_type": "code",
   "execution_count": 94,
   "id": "7ed1db6e",
   "metadata": {},
   "outputs": [
    {
     "data": {
      "text/html": [
       "491.864528387354"
      ],
      "text/latex": [
       "491.864528387354"
      ],
      "text/markdown": [
       "491.864528387354"
      ],
      "text/plain": [
       "[1] 491.8645"
      ]
     },
     "metadata": {},
     "output_type": "display_data"
    }
   ],
   "source": [
    "sd(Orange$age)"
   ]
  },
  {
   "cell_type": "code",
   "execution_count": 96,
   "id": "f7e8a19d",
   "metadata": {},
   "outputs": [
    {
     "data": {
      "image/png": "[encoded data removed]",
      "text/plain": [
       "plot without title"
      ]
     },
     "metadata": {
      "image/png": {
       "height": 420,
       "width": 420
      }
     },
     "output_type": "display_data"
    }
   ],
   "source": [
    "boxplot(Orange$age~Orange$Tree)"
   ]
  },
  {
   "cell_type": "code",
   "execution_count": 97,
   "id": "81bc8f4d",
   "metadata": {},
   "outputs": [
    {
     "data": {
      "image/png": "[encoded data removed]",
      "text/plain": [
       "plot without title"
      ]
     },
     "metadata": {
      "image/png": {
       "height": 420,
       "width": 420
      }
     },
     "output_type": "display_data"
    }
   ],
   "source": [
    "boxplot(age~Tree,\n",
    "       data=Orange)"
   ]
  },
  {
   "cell_type": "code",
   "execution_count": 99,
   "id": "ce5b4831",
   "metadata": {},
   "outputs": [
    {
     "data": {
      "text/html": [
       "<table class=\"dataframe\">\n",
       "<caption>A nfnGroupedData: 28 × 3</caption>\n",
       "<thead>\n",
       "\t<tr><th></th><th scope=col>Tree</th><th scope=col>age</th><th scope=col>circumference</th></tr>\n",
       "\t<tr><th></th><th scope=col>&lt;ord&gt;</th><th scope=col>&lt;dbl&gt;</th><th scope=col>&lt;dbl&gt;</th></tr>\n",
       "</thead>\n",
       "<tbody>\n",
       "\t<tr><th scope=row>1</th><td>1</td><td> 118</td><td> 30</td></tr>\n",
       "\t<tr><th scope=row>2</th><td>1</td><td> 484</td><td> 58</td></tr>\n",
       "\t<tr><th scope=row>3</th><td>1</td><td> 664</td><td> 87</td></tr>\n",
       "\t<tr><th scope=row>4</th><td>1</td><td>1004</td><td>115</td></tr>\n",
       "\t<tr><th scope=row>5</th><td>1</td><td>1231</td><td>120</td></tr>\n",
       "\t<tr><th scope=row>6</th><td>1</td><td>1372</td><td>142</td></tr>\n",
       "\t<tr><th scope=row>7</th><td>1</td><td>1582</td><td>145</td></tr>\n",
       "\t<tr><th scope=row>15</th><td>3</td><td> 118</td><td> 30</td></tr>\n",
       "\t<tr><th scope=row>16</th><td>3</td><td> 484</td><td> 51</td></tr>\n",
       "\t<tr><th scope=row>17</th><td>3</td><td> 664</td><td> 75</td></tr>\n",
       "\t<tr><th scope=row>18</th><td>3</td><td>1004</td><td>108</td></tr>\n",
       "\t<tr><th scope=row>19</th><td>3</td><td>1231</td><td>115</td></tr>\n",
       "\t<tr><th scope=row>20</th><td>3</td><td>1372</td><td>139</td></tr>\n",
       "\t<tr><th scope=row>21</th><td>3</td><td>1582</td><td>140</td></tr>\n",
       "\t<tr><th scope=row>22</th><td>4</td><td> 118</td><td> 32</td></tr>\n",
       "\t<tr><th scope=row>23</th><td>4</td><td> 484</td><td> 62</td></tr>\n",
       "\t<tr><th scope=row>24</th><td>4</td><td> 664</td><td>112</td></tr>\n",
       "\t<tr><th scope=row>25</th><td>4</td><td>1004</td><td>167</td></tr>\n",
       "\t<tr><th scope=row>26</th><td>4</td><td>1231</td><td>179</td></tr>\n",
       "\t<tr><th scope=row>27</th><td>4</td><td>1372</td><td>209</td></tr>\n",
       "\t<tr><th scope=row>28</th><td>4</td><td>1582</td><td>214</td></tr>\n",
       "\t<tr><th scope=row>29</th><td>5</td><td> 118</td><td> 30</td></tr>\n",
       "\t<tr><th scope=row>30</th><td>5</td><td> 484</td><td> 49</td></tr>\n",
       "\t<tr><th scope=row>31</th><td>5</td><td> 664</td><td> 81</td></tr>\n",
       "\t<tr><th scope=row>32</th><td>5</td><td>1004</td><td>125</td></tr>\n",
       "\t<tr><th scope=row>33</th><td>5</td><td>1231</td><td>142</td></tr>\n",
       "\t<tr><th scope=row>34</th><td>5</td><td>1372</td><td>174</td></tr>\n",
       "\t<tr><th scope=row>35</th><td>5</td><td>1582</td><td>177</td></tr>\n",
       "</tbody>\n",
       "</table>\n"
      ],
      "text/latex": [
       "A nfnGroupedData: 28 × 3\n",
       "\\begin{tabular}{r|lll}\n",
       "  & Tree & age & circumference\\\\\n",
       "  & <ord> & <dbl> & <dbl>\\\\\n",
       "\\hline\n",
       "\t1 & 1 &  118 &  30\\\\\n",
       "\t2 & 1 &  484 &  58\\\\\n",
       "\t3 & 1 &  664 &  87\\\\\n",
       "\t4 & 1 & 1004 & 115\\\\\n",
       "\t5 & 1 & 1231 & 120\\\\\n",
       "\t6 & 1 & 1372 & 142\\\\\n",
       "\t7 & 1 & 1582 & 145\\\\\n",
       "\t15 & 3 &  118 &  30\\\\\n",
       "\t16 & 3 &  484 &  51\\\\\n",
       "\t17 & 3 &  664 &  75\\\\\n",
       "\t18 & 3 & 1004 & 108\\\\\n",
       "\t19 & 3 & 1231 & 115\\\\\n",
       "\t20 & 3 & 1372 & 139\\\\\n",
       "\t21 & 3 & 1582 & 140\\\\\n",
       "\t22 & 4 &  118 &  32\\\\\n",
       "\t23 & 4 &  484 &  62\\\\\n",
       "\t24 & 4 &  664 & 112\\\\\n",
       "\t25 & 4 & 1004 & 167\\\\\n",
       "\t26 & 4 & 1231 & 179\\\\\n",
       "\t27 & 4 & 1372 & 209\\\\\n",
       "\t28 & 4 & 1582 & 214\\\\\n",
       "\t29 & 5 &  118 &  30\\\\\n",
       "\t30 & 5 &  484 &  49\\\\\n",
       "\t31 & 5 &  664 &  81\\\\\n",
       "\t32 & 5 & 1004 & 125\\\\\n",
       "\t33 & 5 & 1231 & 142\\\\\n",
       "\t34 & 5 & 1372 & 174\\\\\n",
       "\t35 & 5 & 1582 & 177\\\\\n",
       "\\end{tabular}\n"
      ],
      "text/markdown": [
       "\n",
       "A nfnGroupedData: 28 × 3\n",
       "\n",
       "| <!--/--> | Tree &lt;ord&gt; | age &lt;dbl&gt; | circumference &lt;dbl&gt; |\n",
       "|---|---|---|---|\n",
       "| 1 | 1 |  118 |  30 |\n",
       "| 2 | 1 |  484 |  58 |\n",
       "| 3 | 1 |  664 |  87 |\n",
       "| 4 | 1 | 1004 | 115 |\n",
       "| 5 | 1 | 1231 | 120 |\n",
       "| 6 | 1 | 1372 | 142 |\n",
       "| 7 | 1 | 1582 | 145 |\n",
       "| 15 | 3 |  118 |  30 |\n",
       "| 16 | 3 |  484 |  51 |\n",
       "| 17 | 3 |  664 |  75 |\n",
       "| 18 | 3 | 1004 | 108 |\n",
       "| 19 | 3 | 1231 | 115 |\n",
       "| 20 | 3 | 1372 | 139 |\n",
       "| 21 | 3 | 1582 | 140 |\n",
       "| 22 | 4 |  118 |  32 |\n",
       "| 23 | 4 |  484 |  62 |\n",
       "| 24 | 4 |  664 | 112 |\n",
       "| 25 | 4 | 1004 | 167 |\n",
       "| 26 | 4 | 1231 | 179 |\n",
       "| 27 | 4 | 1372 | 209 |\n",
       "| 28 | 4 | 1582 | 214 |\n",
       "| 29 | 5 |  118 |  30 |\n",
       "| 30 | 5 |  484 |  49 |\n",
       "| 31 | 5 |  664 |  81 |\n",
       "| 32 | 5 | 1004 | 125 |\n",
       "| 33 | 5 | 1231 | 142 |\n",
       "| 34 | 5 | 1372 | 174 |\n",
       "| 35 | 5 | 1582 | 177 |\n",
       "\n"
      ],
      "text/plain": [
       "   Tree age  circumference\n",
       "1  1     118  30          \n",
       "2  1     484  58          \n",
       "3  1     664  87          \n",
       "4  1    1004 115          \n",
       "5  1    1231 120          \n",
       "6  1    1372 142          \n",
       "7  1    1582 145          \n",
       "15 3     118  30          \n",
       "16 3     484  51          \n",
       "17 3     664  75          \n",
       "18 3    1004 108          \n",
       "19 3    1231 115          \n",
       "20 3    1372 139          \n",
       "21 3    1582 140          \n",
       "22 4     118  32          \n",
       "23 4     484  62          \n",
       "24 4     664 112          \n",
       "25 4    1004 167          \n",
       "26 4    1231 179          \n",
       "27 4    1372 209          \n",
       "28 4    1582 214          \n",
       "29 5     118  30          \n",
       "30 5     484  49          \n",
       "31 5     664  81          \n",
       "32 5    1004 125          \n",
       "33 5    1231 142          \n",
       "34 5    1372 174          \n",
       "35 5    1582 177          "
      ]
     },
     "metadata": {},
     "output_type": "display_data"
    }
   ],
   "source": [
    "out = Orange[Orange$Tree != 2, ]\n",
    "out"
   ]
  },
  {
   "cell_type": "code",
   "execution_count": 100,
   "id": "06223e7b",
   "metadata": {},
   "outputs": [
    {
     "data": {
      "text/html": [
       "111"
      ],
      "text/latex": [
       "111"
      ],
      "text/markdown": [
       "111"
      ],
      "text/plain": [
       "[1] 111"
      ]
     },
     "metadata": {},
     "output_type": "display_data"
    }
   ],
   "source": [
    "mean(out$circumference)"
   ]
  },
  {
   "cell_type": "code",
   "execution_count": 101,
   "id": "5fdaa425",
   "metadata": {},
   "outputs": [
    {
     "data": {
      "text/html": [
       "115"
      ],
      "text/latex": [
       "115"
      ],
      "text/markdown": [
       "115"
      ],
      "text/plain": [
       "[1] 115"
      ]
     },
     "metadata": {},
     "output_type": "display_data"
    }
   ],
   "source": [
    "median(out$circumference)"
   ]
  },
  {
   "cell_type": "code",
   "execution_count": 102,
   "id": "ad7f3d85",
   "metadata": {},
   "outputs": [
    {
     "data": {
      "text/html": [
       "115"
      ],
      "text/latex": [
       "115"
      ],
      "text/markdown": [
       "115"
      ],
      "text/plain": [
       "[1] 115"
      ]
     },
     "metadata": {},
     "output_type": "display_data"
    }
   ],
   "source": [
    "mean(out$circumference, trim=1.5)"
   ]
  },
  {
   "cell_type": "code",
   "execution_count": 103,
   "id": "77a0e474",
   "metadata": {},
   "outputs": [
    {
     "data": {
      "text/html": [
       "55.3340026733278"
      ],
      "text/latex": [
       "55.3340026733278"
      ],
      "text/markdown": [
       "55.3340026733278"
      ],
      "text/plain": [
       "[1] 55.334"
      ]
     },
     "metadata": {},
     "output_type": "display_data"
    }
   ],
   "source": [
    "sd(out$circumference)"
   ]
  },
  {
   "cell_type": "code",
   "execution_count": 104,
   "id": "d6a47aa9",
   "metadata": {},
   "outputs": [
    {
     "data": {
      "image/png": "[encoded data removed]",
      "text/plain": [
       "Plot with title \"Histogram of out$circumference\""
      ]
     },
     "metadata": {
      "image/png": {
       "height": 420,
       "width": 420
      }
     },
     "output_type": "display_data"
    }
   ],
   "source": [
    "hist(out$circumference)"
   ]
  },
  {
   "cell_type": "code",
   "execution_count": 110,
   "id": "186b3ce0",
   "metadata": {},
   "outputs": [
    {
     "data": {
      "image/png": "[encoded data removed]",
      "text/plain": [
       "Plot with title \"사이즈에 따른 그룹별 둘레\""
      ]
     },
     "metadata": {
      "image/png": {
       "height": 420,
       "width": 420
      }
     },
     "output_type": "display_data"
    }
   ],
   "source": [
    "boxplot(Orange$circumference~Orange$Tree,\n",
    "       main='사이즈에 따른 그룹별 둘레')"
   ]
  },
  {
   "cell_type": "code",
   "execution_count": 106,
   "id": "af458302",
   "metadata": {},
   "outputs": [],
   "source": [
    "TreeOrder = factor(Orange$Tree, levels=levels(Orange$Tree)[c(2, 4, 1, 5, 3)])"
   ]
  },
  {
   "cell_type": "code",
   "execution_count": 107,
   "id": "b19d92e9",
   "metadata": {},
   "outputs": [
    {
     "data": {
      "text/html": [
       "<style>\n",
       ".list-inline {list-style: none; margin:0; padding: 0}\n",
       ".list-inline>li {display: inline-block}\n",
       ".list-inline>li:not(:last-child)::after {content: \"\\00b7\"; padding: 0 .5ex}\n",
       "</style>\n",
       "<ol class=list-inline><li>1</li><li>1</li><li>1</li><li>1</li><li>1</li><li>1</li><li>1</li><li>2</li><li>2</li><li>2</li><li>2</li><li>2</li><li>2</li><li>2</li><li>3</li><li>3</li><li>3</li><li>3</li><li>3</li><li>3</li><li>3</li><li>4</li><li>4</li><li>4</li><li>4</li><li>4</li><li>4</li><li>4</li><li>5</li><li>5</li><li>5</li><li>5</li><li>5</li><li>5</li><li>5</li></ol>\n",
       "\n",
       "<details>\n",
       "\t<summary style=display:list-item;cursor:pointer>\n",
       "\t\t<strong>Levels</strong>:\n",
       "\t</summary>\n",
       "\t<style>\n",
       "\t.list-inline {list-style: none; margin:0; padding: 0}\n",
       "\t.list-inline>li {display: inline-block}\n",
       "\t.list-inline>li:not(:last-child)::after {content: \"\\00b7\"; padding: 0 .5ex}\n",
       "\t</style>\n",
       "\t<ol class=list-inline><li>'1'</li><li>'2'</li><li>'3'</li><li>'4'</li><li>'5'</li></ol>\n",
       "</details>"
      ],
      "text/latex": [
       "\\begin{enumerate*}\n",
       "\\item 1\n",
       "\\item 1\n",
       "\\item 1\n",
       "\\item 1\n",
       "\\item 1\n",
       "\\item 1\n",
       "\\item 1\n",
       "\\item 2\n",
       "\\item 2\n",
       "\\item 2\n",
       "\\item 2\n",
       "\\item 2\n",
       "\\item 2\n",
       "\\item 2\n",
       "\\item 3\n",
       "\\item 3\n",
       "\\item 3\n",
       "\\item 3\n",
       "\\item 3\n",
       "\\item 3\n",
       "\\item 3\n",
       "\\item 4\n",
       "\\item 4\n",
       "\\item 4\n",
       "\\item 4\n",
       "\\item 4\n",
       "\\item 4\n",
       "\\item 4\n",
       "\\item 5\n",
       "\\item 5\n",
       "\\item 5\n",
       "\\item 5\n",
       "\\item 5\n",
       "\\item 5\n",
       "\\item 5\n",
       "\\end{enumerate*}\n",
       "\n",
       "\\emph{Levels}: \\begin{enumerate*}\n",
       "\\item '1'\n",
       "\\item '2'\n",
       "\\item '3'\n",
       "\\item '4'\n",
       "\\item '5'\n",
       "\\end{enumerate*}\n"
      ],
      "text/markdown": [
       "1. 1\n",
       "2. 1\n",
       "3. 1\n",
       "4. 1\n",
       "5. 1\n",
       "6. 1\n",
       "7. 1\n",
       "8. 2\n",
       "9. 2\n",
       "10. 2\n",
       "11. 2\n",
       "12. 2\n",
       "13. 2\n",
       "14. 2\n",
       "15. 3\n",
       "16. 3\n",
       "17. 3\n",
       "18. 3\n",
       "19. 3\n",
       "20. 3\n",
       "21. 3\n",
       "22. 4\n",
       "23. 4\n",
       "24. 4\n",
       "25. 4\n",
       "26. 4\n",
       "27. 4\n",
       "28. 4\n",
       "29. 5\n",
       "30. 5\n",
       "31. 5\n",
       "32. 5\n",
       "33. 5\n",
       "34. 5\n",
       "35. 5\n",
       "\n",
       "\n",
       "\n",
       "**Levels**: 1. '1'\n",
       "2. '2'\n",
       "3. '3'\n",
       "4. '4'\n",
       "5. '5'\n",
       "\n",
       "\n"
      ],
      "text/plain": [
       " [1] 1 1 1 1 1 1 1 2 2 2 2 2 2 2 3 3 3 3 3 3 3 4 4 4 4 4 4 4 5 5 5 5 5 5 5\n",
       "Levels: 1 < 2 < 3 < 4 < 5"
      ]
     },
     "metadata": {},
     "output_type": "display_data"
    }
   ],
   "source": [
    "TreeOrder"
   ]
  },
  {
   "cell_type": "code",
   "execution_count": 109,
   "id": "7aee2acd",
   "metadata": {},
   "outputs": [
    {
     "data": {
      "image/png": "[encoded data removed]",
      "text/plain": [
       "Plot with title \"정렬된 그룹별 둘레\""
      ]
     },
     "metadata": {
      "image/png": {
       "height": 420,
       "width": 420
      }
     },
     "output_type": "display_data"
    }
   ],
   "source": [
    "boxplot(Orange$circumference~TreeOrder,\n",
    "       main='정렬된 그룹별 둘레')"
   ]
  },
  {
   "cell_type": "code",
   "execution_count": 111,
   "id": "97b00fa4",
   "metadata": {},
   "outputs": [
    {
     "data": {
      "image/png": "[encoded data removed]",
      "text/plain": [
       "plot without title"
      ]
     },
     "metadata": {
      "image/png": {
       "height": 420,
       "width": 420
      }
     },
     "output_type": "display_data"
    }
   ],
   "source": [
    "plot(cars$speed, cars$dist)"
   ]
  },
  {
   "cell_type": "code",
   "execution_count": 113,
   "id": "40abf478",
   "metadata": {},
   "outputs": [
    {
     "data": {
      "image/png": "[encoded data removed]",
      "text/plain": [
       "plot without title"
      ]
     },
     "metadata": {
      "image/png": {
       "height": 420,
       "width": 420
      }
     },
     "output_type": "display_data"
    }
   ],
   "source": [
    "plot(cars$speed, cars$dist,\n",
    "    type='l',\n",
    "    col ='pink')"
   ]
  },
  {
   "cell_type": "code",
   "execution_count": 114,
   "id": "32fe02e5",
   "metadata": {},
   "outputs": [
    {
     "data": {
      "image/png": "[encoded data removed]",
      "text/plain": [
       "plot without title"
      ]
     },
     "metadata": {
      "image/png": {
       "height": 420,
       "width": 420
      }
     },
     "output_type": "display_data"
    }
   ],
   "source": [
    "plot(pressure$temperature, pressure$pressure)"
   ]
  },
  {
   "cell_type": "code",
   "execution_count": 115,
   "id": "8468ce5d",
   "metadata": {},
   "outputs": [
    {
     "data": {
      "image/png": "[encoded data removed]",
      "text/plain": [
       "plot without title"
      ]
     },
     "metadata": {
      "image/png": {
       "height": 420,
       "width": 420
      }
     },
     "output_type": "display_data"
    }
   ],
   "source": [
    "plot(pressure$temperature, pressure$pressure,\n",
    "    type = 'l')"
   ]
  },
  {
   "cell_type": "code",
   "execution_count": 118,
   "id": "eb45d0d0",
   "metadata": {},
   "outputs": [
    {
     "data": {
      "image/png": "[encoded data removed]",
      "text/plain": [
       "plot without title"
      ]
     },
     "metadata": {
      "image/png": {
       "height": 420,
       "width": 420
      }
     },
     "output_type": "display_data"
    }
   ],
   "source": [
    "pairs(state.x77)"
   ]
  },
  {
   "cell_type": "code",
   "execution_count": 119,
   "id": "8019a144",
   "metadata": {},
   "outputs": [
    {
     "data": {
      "image/png": "[encoded data removed]",
      "text/plain": [
       "plot without title"
      ]
     },
     "metadata": {
      "image/png": {
       "height": 420,
       "width": 420
      }
     },
     "output_type": "display_data"
    }
   ],
   "source": [
    "pairs(state.x77[,c('Population','Income','Illiteracy','Area')])"
   ]
  },
  {
   "cell_type": "code",
   "execution_count": 120,
   "id": "53560e0f",
   "metadata": {},
   "outputs": [
    {
     "data": {
      "text/html": [
       "<style>\n",
       ".list-inline {list-style: none; margin:0; padding: 0}\n",
       ".list-inline>li {display: inline-block}\n",
       ".list-inline>li:not(:last-child)::after {content: \"\\00b7\"; padding: 0 .5ex}\n",
       "</style>\n",
       "<ol class=list-inline><li>'Population'</li><li>'Income'</li><li>'Illiteracy'</li><li>'Life Exp'</li><li>'Murder'</li><li>'HS Grad'</li><li>'Frost'</li><li>'Area'</li></ol>\n"
      ],
      "text/latex": [
       "\\begin{enumerate*}\n",
       "\\item 'Population'\n",
       "\\item 'Income'\n",
       "\\item 'Illiteracy'\n",
       "\\item 'Life Exp'\n",
       "\\item 'Murder'\n",
       "\\item 'HS Grad'\n",
       "\\item 'Frost'\n",
       "\\item 'Area'\n",
       "\\end{enumerate*}\n"
      ],
      "text/markdown": [
       "1. 'Population'\n",
       "2. 'Income'\n",
       "3. 'Illiteracy'\n",
       "4. 'Life Exp'\n",
       "5. 'Murder'\n",
       "6. 'HS Grad'\n",
       "7. 'Frost'\n",
       "8. 'Area'\n",
       "\n",
       "\n"
      ],
      "text/plain": [
       "[1] \"Population\" \"Income\"     \"Illiteracy\" \"Life Exp\"   \"Murder\"    \n",
       "[6] \"HS Grad\"    \"Frost\"      \"Area\"      "
      ]
     },
     "metadata": {},
     "output_type": "display_data"
    }
   ],
   "source": [
    "colnames(state.x77)"
   ]
  },
  {
   "cell_type": "code",
   "execution_count": 123,
   "id": "69755b5a",
   "metadata": {},
   "outputs": [
    {
     "data": {
      "image/png": "[encoded data removed]",
      "text/plain": [
       "plot without title"
      ]
     },
     "metadata": {
      "image/png": {
       "height": 420,
       "width": 420
      }
     },
     "output_type": "display_data"
    }
   ],
   "source": [
    "pairs(state.x77[, c('Income','Life Exp', 'HS Grad')])"
   ]
  },
  {
   "cell_type": "code",
   "execution_count": 122,
   "id": "ade956de",
   "metadata": {},
   "outputs": [
    {
     "data": {
      "image/png": "[encoded data removed]",
      "text/plain": [
       "plot without title"
      ]
     },
     "metadata": {
      "image/png": {
       "height": 420,
       "width": 420
      }
     },
     "output_type": "display_data"
    }
   ],
   "source": [
    "pairs(state.x77[, c('Income','Life Exp')])"
   ]
  },
  {
   "cell_type": "code",
   "execution_count": 124,
   "id": "e92075ff",
   "metadata": {},
   "outputs": [
    {
     "data": {
      "image/png": "[encoded data removed]",
      "text/plain": [
       "plot without title"
      ]
     },
     "metadata": {
      "image/png": {
       "height": 420,
       "width": 420
      }
     },
     "output_type": "display_data"
    }
   ],
   "source": [
    "plot(iris$Sepal.Length, iris$Sepal.Width,\n",
    "    pch = as.integer(iris$Species),\n",
    "    col = as.integer(iris$Species))"
   ]
  },
  {
   "cell_type": "code",
   "execution_count": 127,
   "id": "2ae1290f",
   "metadata": {},
   "outputs": [
    {
     "data": {
      "image/png": "[encoded data removed]",
      "text/plain": [
       "Plot with title \"꽃받침 길이에 따른 산점도\""
      ]
     },
     "metadata": {
      "image/png": {
       "height": 420,
       "width": 420
      }
     },
     "output_type": "display_data"
    }
   ],
   "source": [
    "plot(iris$Sepal.Length, iris$Sepal.Width,\n",
    "    col = as.integer(iris$Species),\n",
    "    main='꽃받침 길이에 따른 산점도')"
   ]
  },
  {
   "cell_type": "code",
   "execution_count": 129,
   "id": "e0ef0725",
   "metadata": {},
   "outputs": [
    {
     "data": {
      "image/png": "[encoded data removed]",
      "text/plain": [
       "Plot with title \"꽃받침 길이에 따른 꽃의 종류 분포\""
      ]
     },
     "metadata": {
      "image/png": {
       "height": 420,
       "width": 420
      }
     },
     "output_type": "display_data"
    }
   ],
   "source": [
    "plot(iris$Sepal.Length, iris$Sepal.Width,\n",
    "    pch = as.integer(iris$Species),\n",
    "    col = as.integer(iris$Species),\n",
    "    main='꽃받침 길이에 따른 꽃의 종류 분포')"
   ]
  },
  {
   "cell_type": "markdown",
   "id": "2b6e9280",
   "metadata": {},
   "source": [
    "### Cor : Colation\n",
    "콜레이션, 상관계수는 1~ 0 ~ -1 의 값을 가지고, 어느 쪽에 가까우냐에 따라 더 많은 상관 계수를  \n",
    "갖는다고 확인할 수 있음"
   ]
  },
  {
   "cell_type": "code",
   "execution_count": 132,
   "id": "774a27c3",
   "metadata": {},
   "outputs": [
    {
     "data": {
      "text/html": [
       "0.779077302830565"
      ],
      "text/latex": [
       "0.779077302830565"
      ],
      "text/markdown": [
       "0.779077302830565"
      ],
      "text/plain": [
       "[1] 0.7790773"
      ]
     },
     "metadata": {},
     "output_type": "display_data"
    },
    {
     "data": {
      "text/plain": [
       "\n",
       "Call:\n",
       "lm(formula = income ~ period)\n",
       "\n",
       "Residuals:\n",
       "    Min      1Q  Median      3Q     Max \n",
       "-30.106  -9.250  -0.598   5.606  42.091 \n",
       "\n",
       "Coefficients:\n",
       "            Estimate Std. Error t value Pr(>|t|)   \n",
       "(Intercept)  -88.348     40.586  -2.177  0.06116 . \n",
       "period         8.803      2.505   3.515  0.00791 **\n",
       "---\n",
       "Signif. codes:  0 '***' 0.001 '**' 0.01 '*' 0.05 '.' 0.1 ' ' 1\n",
       "\n",
       "Residual standard error: 20.35 on 8 degrees of freedom\n",
       "Multiple R-squared:  0.607,\tAdjusted R-squared:  0.5578 \n",
       "F-statistic: 12.35 on 1 and 8 DF,  p-value: 0.007905\n"
      ]
     },
     "metadata": {},
     "output_type": "display_data"
    }
   ],
   "source": [
    "income = c(121, 90, 41, 35, 40, 29, 35, 24, 50, 60)\n",
    "period = c(19, 20, 16, 16, 18, 12, 14, 12, 16, 17)\n",
    "cor(income, period)\n",
    "# 비교적 강한 양의 상관관계\n",
    "summary(lm(income~period))"
   ]
  },
  {
   "cell_type": "code",
   "execution_count": 133,
   "id": "6ef8c759",
   "metadata": {},
   "outputs": [
    {
     "data": {
      "text/html": [
       "-0.628367054730914"
      ],
      "text/latex": [
       "-0.628367054730914"
      ],
      "text/markdown": [
       "-0.628367054730914"
      ],
      "text/plain": [
       "[1] -0.6283671"
      ]
     },
     "metadata": {},
     "output_type": "display_data"
    }
   ],
   "source": [
    "score = c(77.5, 60, 50, 95, 55, 85, 72.5, 80, 92.5, 87.5)\n",
    "youtube = c(14, 10, 20, 7, 25, 9, 15, 13, 4, 21)\n",
    "cor(score, youtube)"
   ]
  },
  {
   "cell_type": "code",
   "execution_count": 134,
   "id": "be3bdc0d",
   "metadata": {},
   "outputs": [
    {
     "data": {
      "text/plain": [
       "\n",
       "Call:\n",
       "lm(formula = score ~ youtube)\n",
       "\n",
       "Residuals:\n",
       "    Min      1Q  Median      3Q     Max \n",
       "-21.177  -3.127   2.314   3.068  22.756 \n",
       "\n",
       "Coefficients:\n",
       "            Estimate Std. Error t value Pr(>|t|)    \n",
       "(Intercept)  96.1167     9.9213   9.688 1.07e-05 ***\n",
       "youtube      -1.4940     0.6539  -2.285   0.0517 .  \n",
       "---\n",
       "Signif. codes:  0 '***' 0.001 '**' 0.01 '*' 0.05 '.' 0.1 ' ' 1\n",
       "\n",
       "Residual standard error: 13.04 on 8 degrees of freedom\n",
       "Multiple R-squared:  0.3948,\tAdjusted R-squared:  0.3192 \n",
       "F-statistic:  5.22 on 1 and 8 DF,  p-value: 0.05169\n"
      ]
     },
     "metadata": {},
     "output_type": "display_data"
    }
   ],
   "source": [
    "summary(lm(score~youtube))"
   ]
  },
  {
   "cell_type": "markdown",
   "id": "3bbef949",
   "metadata": {},
   "source": [
    "### 해설\n",
    "p-value가 0.05 이상이기 때문에 귀무가설을 기각하지 못하였으며,  \n",
    "이로 인해 유튜브와 성적 사이에는 유의미한 상관관계가 없다고 판단할 수 있다."
   ]
  },
  {
   "cell_type": "code",
   "execution_count": 135,
   "id": "e95d06ca",
   "metadata": {},
   "outputs": [
    {
     "data": {
      "text/plain": [
       "\n",
       "Call:\n",
       "lm(formula = score ~ youtube)\n",
       "\n",
       "Coefficients:\n",
       "(Intercept)      youtube  \n",
       "     96.117       -1.494  \n"
      ]
     },
     "metadata": {},
     "output_type": "display_data"
    }
   ],
   "source": [
    "result = lm(score~youtube)\n",
    "result"
   ]
  },
  {
   "cell_type": "code",
   "execution_count": 137,
   "id": "db8a94b4",
   "metadata": {},
   "outputs": [
    {
     "data": {
      "text/html": [
       "<strong>1:</strong> 36.3581488933602"
      ],
      "text/latex": [
       "\\textbf{1:} 36.3581488933602"
      ],
      "text/markdown": [
       "**1:** 36.3581488933602"
      ],
      "text/plain": [
       "       1 \n",
       "36.35815 "
      ]
     },
     "metadata": {},
     "output_type": "display_data"
    }
   ],
   "source": [
    "predict(result, newdata = data.frame(youtube = 40))"
   ]
  },
  {
   "cell_type": "code",
   "execution_count": 143,
   "id": "ea23de95",
   "metadata": {},
   "outputs": [
    {
     "data": {
      "image/png": "[encoded data removed]",
      "text/plain": [
       "plot without title"
      ]
     },
     "metadata": {
      "image/png": {
       "height": 420,
       "width": 420
      }
     },
     "output_type": "display_data"
    }
   ],
   "source": [
    "plot(score, youtube)\n",
    "abline(result)"
   ]
  },
  {
   "cell_type": "code",
   "execution_count": 144,
   "id": "178a6e61",
   "metadata": {},
   "outputs": [
    {
     "data": {
      "text/html": [
       "<table class=\"dataframe\">\n",
       "<caption>A matrix: 11 × 11 of type dbl</caption>\n",
       "<thead>\n",
       "\t<tr><th></th><th scope=col>mpg</th><th scope=col>cyl</th><th scope=col>disp</th><th scope=col>hp</th><th scope=col>drat</th><th scope=col>wt</th><th scope=col>qsec</th><th scope=col>vs</th><th scope=col>am</th><th scope=col>gear</th><th scope=col>carb</th></tr>\n",
       "</thead>\n",
       "<tbody>\n",
       "\t<tr><th scope=row>mpg</th><td> 1.0000000</td><td>-0.8521620</td><td>-0.8475514</td><td>-0.7761684</td><td> 0.68117191</td><td>-0.8676594</td><td> 0.41868403</td><td> 0.6640389</td><td> 0.59983243</td><td> 0.4802848</td><td>-0.55092507</td></tr>\n",
       "\t<tr><th scope=row>cyl</th><td>-0.8521620</td><td> 1.0000000</td><td> 0.9020329</td><td> 0.8324475</td><td>-0.69993811</td><td> 0.7824958</td><td>-0.59124207</td><td>-0.8108118</td><td>-0.52260705</td><td>-0.4926866</td><td> 0.52698829</td></tr>\n",
       "\t<tr><th scope=row>disp</th><td>-0.8475514</td><td> 0.9020329</td><td> 1.0000000</td><td> 0.7909486</td><td>-0.71021393</td><td> 0.8879799</td><td>-0.43369788</td><td>-0.7104159</td><td>-0.59122704</td><td>-0.5555692</td><td> 0.39497686</td></tr>\n",
       "\t<tr><th scope=row>hp</th><td>-0.7761684</td><td> 0.8324475</td><td> 0.7909486</td><td> 1.0000000</td><td>-0.44875912</td><td> 0.6587479</td><td>-0.70822339</td><td>-0.7230967</td><td>-0.24320426</td><td>-0.1257043</td><td> 0.74981247</td></tr>\n",
       "\t<tr><th scope=row>drat</th><td> 0.6811719</td><td>-0.6999381</td><td>-0.7102139</td><td>-0.4487591</td><td> 1.00000000</td><td>-0.7124406</td><td> 0.09120476</td><td> 0.4402785</td><td> 0.71271113</td><td> 0.6996101</td><td>-0.09078980</td></tr>\n",
       "\t<tr><th scope=row>wt</th><td>-0.8676594</td><td> 0.7824958</td><td> 0.8879799</td><td> 0.6587479</td><td>-0.71244065</td><td> 1.0000000</td><td>-0.17471588</td><td>-0.5549157</td><td>-0.69249526</td><td>-0.5832870</td><td> 0.42760594</td></tr>\n",
       "\t<tr><th scope=row>qsec</th><td> 0.4186840</td><td>-0.5912421</td><td>-0.4336979</td><td>-0.7082234</td><td> 0.09120476</td><td>-0.1747159</td><td> 1.00000000</td><td> 0.7445354</td><td>-0.22986086</td><td>-0.2126822</td><td>-0.65624923</td></tr>\n",
       "\t<tr><th scope=row>vs</th><td> 0.6640389</td><td>-0.8108118</td><td>-0.7104159</td><td>-0.7230967</td><td> 0.44027846</td><td>-0.5549157</td><td> 0.74453544</td><td> 1.0000000</td><td> 0.16834512</td><td> 0.2060233</td><td>-0.56960714</td></tr>\n",
       "\t<tr><th scope=row>am</th><td> 0.5998324</td><td>-0.5226070</td><td>-0.5912270</td><td>-0.2432043</td><td> 0.71271113</td><td>-0.6924953</td><td>-0.22986086</td><td> 0.1683451</td><td> 1.00000000</td><td> 0.7940588</td><td> 0.05753435</td></tr>\n",
       "\t<tr><th scope=row>gear</th><td> 0.4802848</td><td>-0.4926866</td><td>-0.5555692</td><td>-0.1257043</td><td> 0.69961013</td><td>-0.5832870</td><td>-0.21268223</td><td> 0.2060233</td><td> 0.79405876</td><td> 1.0000000</td><td> 0.27407284</td></tr>\n",
       "\t<tr><th scope=row>carb</th><td>-0.5509251</td><td> 0.5269883</td><td> 0.3949769</td><td> 0.7498125</td><td>-0.09078980</td><td> 0.4276059</td><td>-0.65624923</td><td>-0.5696071</td><td> 0.05753435</td><td> 0.2740728</td><td> 1.00000000</td></tr>\n",
       "</tbody>\n",
       "</table>\n"
      ],
      "text/latex": [
       "A matrix: 11 × 11 of type dbl\n",
       "\\begin{tabular}{r|lllllllllll}\n",
       "  & mpg & cyl & disp & hp & drat & wt & qsec & vs & am & gear & carb\\\\\n",
       "\\hline\n",
       "\tmpg &  1.0000000 & -0.8521620 & -0.8475514 & -0.7761684 &  0.68117191 & -0.8676594 &  0.41868403 &  0.6640389 &  0.59983243 &  0.4802848 & -0.55092507\\\\\n",
       "\tcyl & -0.8521620 &  1.0000000 &  0.9020329 &  0.8324475 & -0.69993811 &  0.7824958 & -0.59124207 & -0.8108118 & -0.52260705 & -0.4926866 &  0.52698829\\\\\n",
       "\tdisp & -0.8475514 &  0.9020329 &  1.0000000 &  0.7909486 & -0.71021393 &  0.8879799 & -0.43369788 & -0.7104159 & -0.59122704 & -0.5555692 &  0.39497686\\\\\n",
       "\thp & -0.7761684 &  0.8324475 &  0.7909486 &  1.0000000 & -0.44875912 &  0.6587479 & -0.70822339 & -0.7230967 & -0.24320426 & -0.1257043 &  0.74981247\\\\\n",
       "\tdrat &  0.6811719 & -0.6999381 & -0.7102139 & -0.4487591 &  1.00000000 & -0.7124406 &  0.09120476 &  0.4402785 &  0.71271113 &  0.6996101 & -0.09078980\\\\\n",
       "\twt & -0.8676594 &  0.7824958 &  0.8879799 &  0.6587479 & -0.71244065 &  1.0000000 & -0.17471588 & -0.5549157 & -0.69249526 & -0.5832870 &  0.42760594\\\\\n",
       "\tqsec &  0.4186840 & -0.5912421 & -0.4336979 & -0.7082234 &  0.09120476 & -0.1747159 &  1.00000000 &  0.7445354 & -0.22986086 & -0.2126822 & -0.65624923\\\\\n",
       "\tvs &  0.6640389 & -0.8108118 & -0.7104159 & -0.7230967 &  0.44027846 & -0.5549157 &  0.74453544 &  1.0000000 &  0.16834512 &  0.2060233 & -0.56960714\\\\\n",
       "\tam &  0.5998324 & -0.5226070 & -0.5912270 & -0.2432043 &  0.71271113 & -0.6924953 & -0.22986086 &  0.1683451 &  1.00000000 &  0.7940588 &  0.05753435\\\\\n",
       "\tgear &  0.4802848 & -0.4926866 & -0.5555692 & -0.1257043 &  0.69961013 & -0.5832870 & -0.21268223 &  0.2060233 &  0.79405876 &  1.0000000 &  0.27407284\\\\\n",
       "\tcarb & -0.5509251 &  0.5269883 &  0.3949769 &  0.7498125 & -0.09078980 &  0.4276059 & -0.65624923 & -0.5696071 &  0.05753435 &  0.2740728 &  1.00000000\\\\\n",
       "\\end{tabular}\n"
      ],
      "text/markdown": [
       "\n",
       "A matrix: 11 × 11 of type dbl\n",
       "\n",
       "| <!--/--> | mpg | cyl | disp | hp | drat | wt | qsec | vs | am | gear | carb |\n",
       "|---|---|---|---|---|---|---|---|---|---|---|---|\n",
       "| mpg |  1.0000000 | -0.8521620 | -0.8475514 | -0.7761684 |  0.68117191 | -0.8676594 |  0.41868403 |  0.6640389 |  0.59983243 |  0.4802848 | -0.55092507 |\n",
       "| cyl | -0.8521620 |  1.0000000 |  0.9020329 |  0.8324475 | -0.69993811 |  0.7824958 | -0.59124207 | -0.8108118 | -0.52260705 | -0.4926866 |  0.52698829 |\n",
       "| disp | -0.8475514 |  0.9020329 |  1.0000000 |  0.7909486 | -0.71021393 |  0.8879799 | -0.43369788 | -0.7104159 | -0.59122704 | -0.5555692 |  0.39497686 |\n",
       "| hp | -0.7761684 |  0.8324475 |  0.7909486 |  1.0000000 | -0.44875912 |  0.6587479 | -0.70822339 | -0.7230967 | -0.24320426 | -0.1257043 |  0.74981247 |\n",
       "| drat |  0.6811719 | -0.6999381 | -0.7102139 | -0.4487591 |  1.00000000 | -0.7124406 |  0.09120476 |  0.4402785 |  0.71271113 |  0.6996101 | -0.09078980 |\n",
       "| wt | -0.8676594 |  0.7824958 |  0.8879799 |  0.6587479 | -0.71244065 |  1.0000000 | -0.17471588 | -0.5549157 | -0.69249526 | -0.5832870 |  0.42760594 |\n",
       "| qsec |  0.4186840 | -0.5912421 | -0.4336979 | -0.7082234 |  0.09120476 | -0.1747159 |  1.00000000 |  0.7445354 | -0.22986086 | -0.2126822 | -0.65624923 |\n",
       "| vs |  0.6640389 | -0.8108118 | -0.7104159 | -0.7230967 |  0.44027846 | -0.5549157 |  0.74453544 |  1.0000000 |  0.16834512 |  0.2060233 | -0.56960714 |\n",
       "| am |  0.5998324 | -0.5226070 | -0.5912270 | -0.2432043 |  0.71271113 | -0.6924953 | -0.22986086 |  0.1683451 |  1.00000000 |  0.7940588 |  0.05753435 |\n",
       "| gear |  0.4802848 | -0.4926866 | -0.5555692 | -0.1257043 |  0.69961013 | -0.5832870 | -0.21268223 |  0.2060233 |  0.79405876 |  1.0000000 |  0.27407284 |\n",
       "| carb | -0.5509251 |  0.5269883 |  0.3949769 |  0.7498125 | -0.09078980 |  0.4276059 | -0.65624923 | -0.5696071 |  0.05753435 |  0.2740728 |  1.00000000 |\n",
       "\n"
      ],
      "text/plain": [
       "     mpg        cyl        disp       hp         drat        wt        \n",
       "mpg   1.0000000 -0.8521620 -0.8475514 -0.7761684  0.68117191 -0.8676594\n",
       "cyl  -0.8521620  1.0000000  0.9020329  0.8324475 -0.69993811  0.7824958\n",
       "disp -0.8475514  0.9020329  1.0000000  0.7909486 -0.71021393  0.8879799\n",
       "hp   -0.7761684  0.8324475  0.7909486  1.0000000 -0.44875912  0.6587479\n",
       "drat  0.6811719 -0.6999381 -0.7102139 -0.4487591  1.00000000 -0.7124406\n",
       "wt   -0.8676594  0.7824958  0.8879799  0.6587479 -0.71244065  1.0000000\n",
       "qsec  0.4186840 -0.5912421 -0.4336979 -0.7082234  0.09120476 -0.1747159\n",
       "vs    0.6640389 -0.8108118 -0.7104159 -0.7230967  0.44027846 -0.5549157\n",
       "am    0.5998324 -0.5226070 -0.5912270 -0.2432043  0.71271113 -0.6924953\n",
       "gear  0.4802848 -0.4926866 -0.5555692 -0.1257043  0.69961013 -0.5832870\n",
       "carb -0.5509251  0.5269883  0.3949769  0.7498125 -0.09078980  0.4276059\n",
       "     qsec        vs         am          gear       carb       \n",
       "mpg   0.41868403  0.6640389  0.59983243  0.4802848 -0.55092507\n",
       "cyl  -0.59124207 -0.8108118 -0.52260705 -0.4926866  0.52698829\n",
       "disp -0.43369788 -0.7104159 -0.59122704 -0.5555692  0.39497686\n",
       "hp   -0.70822339 -0.7230967 -0.24320426 -0.1257043  0.74981247\n",
       "drat  0.09120476  0.4402785  0.71271113  0.6996101 -0.09078980\n",
       "wt   -0.17471588 -0.5549157 -0.69249526 -0.5832870  0.42760594\n",
       "qsec  1.00000000  0.7445354 -0.22986086 -0.2126822 -0.65624923\n",
       "vs    0.74453544  1.0000000  0.16834512  0.2060233 -0.56960714\n",
       "am   -0.22986086  0.1683451  1.00000000  0.7940588  0.05753435\n",
       "gear -0.21268223  0.2060233  0.79405876  1.0000000  0.27407284\n",
       "carb -0.65624923 -0.5696071  0.05753435  0.2740728  1.00000000"
      ]
     },
     "metadata": {},
     "output_type": "display_data"
    }
   ],
   "source": [
    "cor(mtcars)"
   ]
  },
  {
   "cell_type": "code",
   "execution_count": 147,
   "id": "82812a00",
   "metadata": {},
   "outputs": [
    {
     "data": {
      "text/html": [
       "<style>\n",
       ".dl-inline {width: auto; margin:0; padding: 0}\n",
       ".dl-inline>dt, .dl-inline>dd {float: none; width: auto; display: inline-block}\n",
       ".dl-inline>dt::after {content: \":\\0020\"; padding-right: .5ex}\n",
       ".dl-inline>dt:not(:first-of-type) {padding-left: .5ex}\n",
       "</style><dl class=dl-inline><dt>mpg</dt><dd>1</dd><dt>cyl</dt><dd>-0.852161959426613</dd><dt>disp</dt><dd>-0.847551379262479</dd><dt>hp</dt><dd>-0.776168371826586</dd><dt>drat</dt><dd>0.681171907806749</dd><dt>wt</dt><dd>-0.867659376517228</dd><dt>qsec</dt><dd>0.418684033921778</dd><dt>vs</dt><dd>0.664038919127593</dd><dt>am</dt><dd>0.599832429454648</dd><dt>gear</dt><dd>0.480284757338842</dd><dt>carb</dt><dd>-0.550925073902459</dd></dl>\n"
      ],
      "text/latex": [
       "\\begin{description*}\n",
       "\\item[mpg] 1\n",
       "\\item[cyl] -0.852161959426613\n",
       "\\item[disp] -0.847551379262479\n",
       "\\item[hp] -0.776168371826586\n",
       "\\item[drat] 0.681171907806749\n",
       "\\item[wt] -0.867659376517228\n",
       "\\item[qsec] 0.418684033921778\n",
       "\\item[vs] 0.664038919127593\n",
       "\\item[am] 0.599832429454648\n",
       "\\item[gear] 0.480284757338842\n",
       "\\item[carb] -0.550925073902459\n",
       "\\end{description*}\n"
      ],
      "text/markdown": [
       "mpg\n",
       ":   1cyl\n",
       ":   -0.852161959426613disp\n",
       ":   -0.847551379262479hp\n",
       ":   -0.776168371826586drat\n",
       ":   0.681171907806749wt\n",
       ":   -0.867659376517228qsec\n",
       ":   0.418684033921778vs\n",
       ":   0.664038919127593am\n",
       ":   0.599832429454648gear\n",
       ":   0.480284757338842carb\n",
       ":   -0.550925073902459\n",
       "\n"
      ],
      "text/plain": [
       "       mpg        cyl       disp         hp       drat         wt       qsec \n",
       " 1.0000000 -0.8521620 -0.8475514 -0.7761684  0.6811719 -0.8676594  0.4186840 \n",
       "        vs         am       gear       carb \n",
       " 0.6640389  0.5998324  0.4802848 -0.5509251 "
      ]
     },
     "metadata": {},
     "output_type": "display_data"
    }
   ],
   "source": [
    "cor(mtcars)[,1]"
   ]
  },
  {
   "cell_type": "code",
   "execution_count": 149,
   "id": "5dee1f92",
   "metadata": {},
   "outputs": [
    {
     "data": {
      "image/png": "[encoded data removed]",
      "text/plain": [
       "plot without title"
      ]
     },
     "metadata": {
      "image/png": {
       "height": 420,
       "width": 420
      }
     },
     "output_type": "display_data"
    }
   ],
   "source": [
    "pairs(mtcars[,c('gear','mpg', 'cyl')])"
   ]
  },
  {
   "cell_type": "code",
   "execution_count": 150,
   "id": "21083236",
   "metadata": {},
   "outputs": [],
   "source": [
    "year = c(2015:2026)"
   ]
  },
  {
   "cell_type": "code",
   "execution_count": 151,
   "id": "94ff6263",
   "metadata": {},
   "outputs": [
    {
     "data": {
      "text/html": [
       "<style>\n",
       ".list-inline {list-style: none; margin:0; padding: 0}\n",
       ".list-inline>li {display: inline-block}\n",
       ".list-inline>li:not(:last-child)::after {content: \"\\00b7\"; padding: 0 .5ex}\n",
       "</style>\n",
       "<ol class=list-inline><li>2015</li><li>2016</li><li>2017</li><li>2018</li><li>2019</li><li>2020</li><li>2021</li><li>2022</li><li>2023</li><li>2024</li><li>2025</li><li>2026</li></ol>\n"
      ],
      "text/latex": [
       "\\begin{enumerate*}\n",
       "\\item 2015\n",
       "\\item 2016\n",
       "\\item 2017\n",
       "\\item 2018\n",
       "\\item 2019\n",
       "\\item 2020\n",
       "\\item 2021\n",
       "\\item 2022\n",
       "\\item 2023\n",
       "\\item 2024\n",
       "\\item 2025\n",
       "\\item 2026\n",
       "\\end{enumerate*}\n"
      ],
      "text/markdown": [
       "1. 2015\n",
       "2. 2016\n",
       "3. 2017\n",
       "4. 2018\n",
       "5. 2019\n",
       "6. 2020\n",
       "7. 2021\n",
       "8. 2022\n",
       "9. 2023\n",
       "10. 2024\n",
       "11. 2025\n",
       "12. 2026\n",
       "\n",
       "\n"
      ],
      "text/plain": [
       " [1] 2015 2016 2017 2018 2019 2020 2021 2022 2023 2024 2025 2026"
      ]
     },
     "metadata": {},
     "output_type": "display_data"
    }
   ],
   "source": [
    "year"
   ]
  },
  {
   "cell_type": "code",
   "execution_count": 152,
   "id": "9ad898f7",
   "metadata": {},
   "outputs": [],
   "source": [
    "pop = c(51014, 51245,51446,51635,51811, 51973,\n",
    "       52123, 52261, 52388, 52504, 52609, 52704)"
   ]
  },
  {
   "cell_type": "code",
   "execution_count": 153,
   "id": "9cba3dd1",
   "metadata": {},
   "outputs": [
    {
     "data": {
      "text/html": [
       "<style>\n",
       ".list-inline {list-style: none; margin:0; padding: 0}\n",
       ".list-inline>li {display: inline-block}\n",
       ".list-inline>li:not(:last-child)::after {content: \"\\00b7\"; padding: 0 .5ex}\n",
       "</style>\n",
       "<ol class=list-inline><li>51014</li><li>51245</li><li>51446</li><li>51635</li><li>51811</li><li>51973</li><li>52123</li><li>52261</li><li>52388</li><li>52504</li><li>52609</li><li>52704</li></ol>\n"
      ],
      "text/latex": [
       "\\begin{enumerate*}\n",
       "\\item 51014\n",
       "\\item 51245\n",
       "\\item 51446\n",
       "\\item 51635\n",
       "\\item 51811\n",
       "\\item 51973\n",
       "\\item 52123\n",
       "\\item 52261\n",
       "\\item 52388\n",
       "\\item 52504\n",
       "\\item 52609\n",
       "\\item 52704\n",
       "\\end{enumerate*}\n"
      ],
      "text/markdown": [
       "1. 51014\n",
       "2. 51245\n",
       "3. 51446\n",
       "4. 51635\n",
       "5. 51811\n",
       "6. 51973\n",
       "7. 52123\n",
       "8. 52261\n",
       "9. 52388\n",
       "10. 52504\n",
       "11. 52609\n",
       "12. 52704\n",
       "\n",
       "\n"
      ],
      "text/plain": [
       " [1] 51014 51245 51446 51635 51811 51973 52123 52261 52388 52504 52609 52704"
      ]
     },
     "metadata": {},
     "output_type": "display_data"
    }
   ],
   "source": [
    "pop"
   ]
  },
  {
   "cell_type": "code",
   "execution_count": 156,
   "id": "95fe1f7f",
   "metadata": {},
   "outputs": [
    {
     "data": {
      "image/png": "[encoded data removed]",
      "text/plain": [
       "Plot with title \"인구수 추계\""
      ]
     },
     "metadata": {
      "image/png": {
       "height": 420,
       "width": 420
      }
     },
     "output_type": "display_data"
    }
   ],
   "source": [
    "plot(year, pop,\n",
    "    type='l',\n",
    "    main='인구수 추계')"
   ]
  },
  {
   "cell_type": "code",
   "execution_count": 157,
   "id": "d0d6b41e",
   "metadata": {},
   "outputs": [],
   "source": [
    "year = c(20144, 20151, 20152, 20153, 20154, 20161, 20162, 20153, 20164, 20171, 20172, 20173)\n",
    "female = c(51.4, 50.5, 52.4, 52.4, 51.9, 50.9, 52.6, 52.7, 52.2, 51.5, 53.2, 53.1)\n",
    "male = c(73.9, 73.1, 74.4, 74.2, 73.5, 73, 74.2, 74.5, 73.8, 73.1, 74.5, 74.2)"
   ]
  },
  {
   "cell_type": "code",
   "execution_count": 166,
   "id": "0ae8de5e",
   "metadata": {},
   "outputs": [
    {
     "data": {
      "image/png": "[encoded data removed]",
      "text/plain": [
       "Plot with title \"남녀 경제활동참가율 비율\""
      ]
     },
     "metadata": {
      "image/png": {
       "height": 420,
       "width": 420
      }
     },
     "output_type": "display_data"
    }
   ],
   "source": [
    "plot(year, female,\n",
    "    type='l',\n",
    "    col='pink',\n",
    "    ylim = c(50, 100),\n",
    "    main='남녀 경제활동참가율 비율',\n",
    "    xlab='sex', ylab='year')\n",
    "lines(year, male,\n",
    "     type='l',\n",
    "     col='skyblue')"
   ]
  },
  {
   "cell_type": "code",
   "execution_count": 169,
   "id": "008c4ae7",
   "metadata": {},
   "outputs": [
    {
     "data": {
      "image/png": "[encoded data removed]",
      "text/plain": [
       "plot without title"
      ]
     },
     "metadata": {
      "image/png": {
       "height": 420,
       "width": 420
      }
     },
     "output_type": "display_data"
    }
   ],
   "source": [
    "plot(trees$Girth, trees$Height,\n",
    "    type='o')"
   ]
  },
  {
   "cell_type": "code",
   "execution_count": 170,
   "id": "3798ec36",
   "metadata": {},
   "outputs": [
    {
     "data": {
      "text/html": [
       "0.519280071949937"
      ],
      "text/latex": [
       "0.519280071949937"
      ],
      "text/markdown": [
       "0.519280071949937"
      ],
      "text/plain": [
       "[1] 0.5192801"
      ]
     },
     "metadata": {},
     "output_type": "display_data"
    }
   ],
   "source": [
    "cor(trees$Girth, trees$Height)"
   ]
  },
  {
   "cell_type": "code",
   "execution_count": 171,
   "id": "66177572",
   "metadata": {},
   "outputs": [
    {
     "data": {
      "image/png": "[encoded data removed]",
      "text/plain": [
       "plot without title"
      ]
     },
     "metadata": {
      "image/png": {
       "height": 420,
       "width": 420
      }
     },
     "output_type": "display_data"
    }
   ],
   "source": [
    "pairs(trees)"
   ]
  },
  {
   "cell_type": "code",
   "execution_count": 172,
   "id": "4798a3f2",
   "metadata": {},
   "outputs": [
    {
     "data": {
      "image/png": "[encoded data removed]",
      "text/plain": [
       "plot without title"
      ]
     },
     "metadata": {
      "image/png": {
       "height": 420,
       "width": 420
      }
     },
     "output_type": "display_data"
    }
   ],
   "source": [
    "plot(trees)"
   ]
  },
  {
   "cell_type": "code",
   "execution_count": 173,
   "id": "25cb0287",
   "metadata": {},
   "outputs": [
    {
     "data": {
      "text/html": [
       "<table class=\"dataframe\">\n",
       "<caption>A matrix: 3 × 3 of type dbl</caption>\n",
       "<thead>\n",
       "\t<tr><th></th><th scope=col>Girth</th><th scope=col>Height</th><th scope=col>Volume</th></tr>\n",
       "</thead>\n",
       "<tbody>\n",
       "\t<tr><th scope=row>Girth</th><td>1.0000000</td><td>0.5192801</td><td>0.9671194</td></tr>\n",
       "\t<tr><th scope=row>Height</th><td>0.5192801</td><td>1.0000000</td><td>0.5982497</td></tr>\n",
       "\t<tr><th scope=row>Volume</th><td>0.9671194</td><td>0.5982497</td><td>1.0000000</td></tr>\n",
       "</tbody>\n",
       "</table>\n"
      ],
      "text/latex": [
       "A matrix: 3 × 3 of type dbl\n",
       "\\begin{tabular}{r|lll}\n",
       "  & Girth & Height & Volume\\\\\n",
       "\\hline\n",
       "\tGirth & 1.0000000 & 0.5192801 & 0.9671194\\\\\n",
       "\tHeight & 0.5192801 & 1.0000000 & 0.5982497\\\\\n",
       "\tVolume & 0.9671194 & 0.5982497 & 1.0000000\\\\\n",
       "\\end{tabular}\n"
      ],
      "text/markdown": [
       "\n",
       "A matrix: 3 × 3 of type dbl\n",
       "\n",
       "| <!--/--> | Girth | Height | Volume |\n",
       "|---|---|---|---|\n",
       "| Girth | 1.0000000 | 0.5192801 | 0.9671194 |\n",
       "| Height | 0.5192801 | 1.0000000 | 0.5982497 |\n",
       "| Volume | 0.9671194 | 0.5982497 | 1.0000000 |\n",
       "\n"
      ],
      "text/plain": [
       "       Girth     Height    Volume   \n",
       "Girth  1.0000000 0.5192801 0.9671194\n",
       "Height 0.5192801 1.0000000 0.5982497\n",
       "Volume 0.9671194 0.5982497 1.0000000"
      ]
     },
     "metadata": {},
     "output_type": "display_data"
    }
   ],
   "source": [
    "cor(trees)"
   ]
  },
  {
   "cell_type": "code",
   "execution_count": 176,
   "id": "592d4c86",
   "metadata": {},
   "outputs": [
    {
     "data": {
      "image/png": "[encoded data removed]",
      "text/plain": [
       "Plot with title \"나무의 연령과 두께에 대한 산점도를 그룹별로 나타내기\""
      ]
     },
     "metadata": {
      "image/png": {
       "height": 420,
       "width": 420
      }
     },
     "output_type": "display_data"
    }
   ],
   "source": [
    "color = c('red','green','blue','purple','black')\n",
    "plot(Orange$age, Orange$circumference,\n",
    "    col = color[Orange$Tree],\n",
    "    main='나무의 연령과 두께에 대한 산점도를 그룹별로 나타내기')"
   ]
  },
  {
   "cell_type": "code",
   "execution_count": 177,
   "id": "a825985e",
   "metadata": {},
   "outputs": [
    {
     "data": {
      "image/png": "[encoded data removed]",
      "text/plain": [
       "Plot with title \"나무의 연령과 두께에 대한 산점도를 그룹별로 나타내기\""
      ]
     },
     "metadata": {
      "image/png": {
       "height": 420,
       "width": 420
      }
     },
     "output_type": "display_data"
    }
   ],
   "source": [
    "color = c('red','green','blue','purple','black')\n",
    "plot(Orange$age, Orange$circumference,\n",
    "    col = color[Orange$Tree],\n",
    "    main='나무의 연령과 두께에 대한 산점도를 그룹별로 나타내기',\n",
    "    type='l')"
   ]
  },
  {
   "cell_type": "code",
   "execution_count": 179,
   "id": "b0f506df",
   "metadata": {},
   "outputs": [
    {
     "name": "stderr",
     "output_type": "stream",
     "text": [
      "Installing package into 'C:/Users/starl/AppData/Local/R/win-library/4.3'\n",
      "(as 'lib' is unspecified)\n",
      "\n"
     ]
    },
    {
     "name": "stdout",
     "output_type": "stream",
     "text": [
      "package 'mlbench' successfully unpacked and MD5 sums checked\n",
      "\n",
      "The downloaded binary packages are in\n",
      "\tC:\\Users\\starl\\AppData\\Local\\Temp\\RtmpGmMXAC\\downloaded_packages\n"
     ]
    },
    {
     "name": "stderr",
     "output_type": "stream",
     "text": [
      "Warning message:\n",
      "\"package 'mlbench' was built under R version 4.3.2\"\n"
     ]
    }
   ],
   "source": [
    "install.packages('mlbench')\n",
    "library(mlbench)"
   ]
  },
  {
   "cell_type": "code",
   "execution_count": 180,
   "id": "05e1808d",
   "metadata": {},
   "outputs": [],
   "source": [
    "data('Glass')"
   ]
  },
  {
   "cell_type": "code",
   "execution_count": 181,
   "id": "b08796d7",
   "metadata": {},
   "outputs": [],
   "source": [
    "myds = data"
   ]
  },
  {
   "cell_type": "code",
   "execution_count": 182,
   "id": "4bc99af9",
   "metadata": {},
   "outputs": [
    {
     "data": {
      "text/html": [
       "<pre class=language-r><code>function (..., list = character(), package = NULL, lib.loc = NULL, \n",
       "<span style=white-space:pre-wrap>    verbose = getOption(\"verbose\"), envir = .GlobalEnv, overwrite = TRUE) </span>\n",
       "{\n",
       "<span style=white-space:pre-wrap>    fileExt &lt;- function(x) {</span>\n",
       "<span style=white-space:pre-wrap>        db &lt;- grepl(\"\\\\.[^.]+\\\\.(gz|bz2|xz)$\", x)</span>\n",
       "<span style=white-space:pre-wrap>        ans &lt;- sub(\".*\\\\.\", \"\", x)</span>\n",
       "<span style=white-space:pre-wrap>        ans[db] &lt;- sub(\".*\\\\.([^.]+\\\\.)(gz|bz2|xz)$\", \"\\\\1\\\\2\", </span>\n",
       "<span style=white-space:pre-wrap>            x[db])</span>\n",
       "<span style=white-space:pre-wrap>        ans</span>\n",
       "<span style=white-space:pre-wrap>    }</span>\n",
       "<span style=white-space:pre-wrap>    my_read_table &lt;- function(...) {</span>\n",
       "<span style=white-space:pre-wrap>        lcc &lt;- Sys.getlocale(\"LC_COLLATE\")</span>\n",
       "<span style=white-space:pre-wrap>        on.exit(Sys.setlocale(\"LC_COLLATE\", lcc))</span>\n",
       "<span style=white-space:pre-wrap>        Sys.setlocale(\"LC_COLLATE\", \"C\")</span>\n",
       "<span style=white-space:pre-wrap>        read.table(...)</span>\n",
       "<span style=white-space:pre-wrap>    }</span>\n",
       "<span style=white-space:pre-wrap>    stopifnot(is.character(list))</span>\n",
       "<span style=white-space:pre-wrap>    names &lt;- c(as.character(substitute(list(...))[-1L]), list)</span>\n",
       "<span style=white-space:pre-wrap>    if (!is.null(package)) {</span>\n",
       "<span style=white-space:pre-wrap>        if (!is.character(package)) </span>\n",
       "<span style=white-space:pre-wrap>            stop(\"'package' must be a character vector or NULL\")</span>\n",
       "<span style=white-space:pre-wrap>    }</span>\n",
       "<span style=white-space:pre-wrap>    paths &lt;- find.package(package, lib.loc, verbose = verbose)</span>\n",
       "<span style=white-space:pre-wrap>    if (is.null(lib.loc)) </span>\n",
       "<span style=white-space:pre-wrap>        paths &lt;- c(path.package(package, TRUE), if (!length(package)) getwd(), </span>\n",
       "<span style=white-space:pre-wrap>            paths)</span>\n",
       "<span style=white-space:pre-wrap>    paths &lt;- unique(normalizePath(paths[file.exists(paths)]))</span>\n",
       "<span style=white-space:pre-wrap>    paths &lt;- paths[dir.exists(file.path(paths, \"data\"))]</span>\n",
       "<span style=white-space:pre-wrap>    dataExts &lt;- tools:::.make_file_exts(\"data\")</span>\n",
       "<span style=white-space:pre-wrap>    if (length(names) == 0L) {</span>\n",
       "<span style=white-space:pre-wrap>        db &lt;- matrix(character(), nrow = 0L, ncol = 4L)</span>\n",
       "<span style=white-space:pre-wrap>        for (path in paths) {</span>\n",
       "<span style=white-space:pre-wrap>            entries &lt;- NULL</span>\n",
       "<span style=white-space:pre-wrap>            packageName &lt;- if (file_test(\"-f\", file.path(path, </span>\n",
       "<span style=white-space:pre-wrap>                \"DESCRIPTION\"))) </span>\n",
       "<span style=white-space:pre-wrap>                basename(path)</span>\n",
       "<span style=white-space:pre-wrap>            else \".\"</span>\n",
       "<span style=white-space:pre-wrap>            if (file_test(\"-f\", INDEX &lt;- file.path(path, \"Meta\", </span>\n",
       "<span style=white-space:pre-wrap>                \"data.rds\"))) {</span>\n",
       "<span style=white-space:pre-wrap>                entries &lt;- readRDS(INDEX)</span>\n",
       "<span style=white-space:pre-wrap>            }</span>\n",
       "<span style=white-space:pre-wrap>            else {</span>\n",
       "<span style=white-space:pre-wrap>                dataDir &lt;- file.path(path, \"data\")</span>\n",
       "<span style=white-space:pre-wrap>                entries &lt;- tools::list_files_with_type(dataDir, </span>\n",
       "<span style=white-space:pre-wrap>                  \"data\")</span>\n",
       "<span style=white-space:pre-wrap>                if (length(entries)) {</span>\n",
       "<span style=white-space:pre-wrap>                  entries &lt;- unique(tools::file_path_sans_ext(basename(entries)))</span>\n",
       "<span style=white-space:pre-wrap>                  entries &lt;- cbind(entries, \"\")</span>\n",
       "<span style=white-space:pre-wrap>                }</span>\n",
       "<span style=white-space:pre-wrap>            }</span>\n",
       "<span style=white-space:pre-wrap>            if (NROW(entries)) {</span>\n",
       "<span style=white-space:pre-wrap>                if (is.matrix(entries) &amp;&amp; ncol(entries) == 2L) </span>\n",
       "<span style=white-space:pre-wrap>                  db &lt;- rbind(db, cbind(packageName, dirname(path), </span>\n",
       "<span style=white-space:pre-wrap>                    entries))</span>\n",
       "<span style=white-space:pre-wrap>                else warning(gettextf(\"data index for package %s is invalid and will be ignored\", </span>\n",
       "<span style=white-space:pre-wrap>                  sQuote(packageName)), domain = NA, call. = FALSE)</span>\n",
       "<span style=white-space:pre-wrap>            }</span>\n",
       "<span style=white-space:pre-wrap>        }</span>\n",
       "<span style=white-space:pre-wrap>        colnames(db) &lt;- c(\"Package\", \"LibPath\", \"Item\", \"Title\")</span>\n",
       "<span style=white-space:pre-wrap>        footer &lt;- if (missing(package)) </span>\n",
       "<span style=white-space:pre-wrap>            paste0(\"Use \", sQuote(paste(\"data(package =\", \".packages(all.available = TRUE))\")), </span>\n",
       "<span style=white-space:pre-wrap>                \"\\n\", \"to list the data sets in all *available* packages.\")</span>\n",
       "<span style=white-space:pre-wrap>        else NULL</span>\n",
       "<span style=white-space:pre-wrap>        y &lt;- list(title = \"Data sets\", header = NULL, results = db, </span>\n",
       "<span style=white-space:pre-wrap>            footer = footer)</span>\n",
       "<span style=white-space:pre-wrap>        class(y) &lt;- \"packageIQR\"</span>\n",
       "<span style=white-space:pre-wrap>        return(y)</span>\n",
       "<span style=white-space:pre-wrap>    }</span>\n",
       "<span style=white-space:pre-wrap>    paths &lt;- file.path(paths, \"data\")</span>\n",
       "<span style=white-space:pre-wrap>    for (name in names) {</span>\n",
       "<span style=white-space:pre-wrap>        found &lt;- FALSE</span>\n",
       "<span style=white-space:pre-wrap>        for (p in paths) {</span>\n",
       "<span style=white-space:pre-wrap>            tmp_env &lt;- if (overwrite) </span>\n",
       "<span style=white-space:pre-wrap>                envir</span>\n",
       "<span style=white-space:pre-wrap>            else new.env()</span>\n",
       "<span style=white-space:pre-wrap>            if (file_test(\"-f\", file.path(p, \"Rdata.rds\"))) {</span>\n",
       "<span style=white-space:pre-wrap>                rds &lt;- readRDS(file.path(p, \"Rdata.rds\"))</span>\n",
       "<span style=white-space:pre-wrap>                if (name %in% names(rds)) {</span>\n",
       "<span style=white-space:pre-wrap>                  found &lt;- TRUE</span>\n",
       "<span style=white-space:pre-wrap>                  if (verbose) </span>\n",
       "<span style=white-space:pre-wrap>                    message(sprintf(\"name=%s:\\t found in Rdata.rds\", </span>\n",
       "<span style=white-space:pre-wrap>                      name), domain = NA)</span>\n",
       "<span style=white-space:pre-wrap>                  thispkg &lt;- sub(\".*/([^/]*)/data$\", \"\\\\1\", p)</span>\n",
       "<span style=white-space:pre-wrap>                  thispkg &lt;- sub(\"_.*$\", \"\", thispkg)</span>\n",
       "<span style=white-space:pre-wrap>                  thispkg &lt;- paste0(\"package:\", thispkg)</span>\n",
       "<span style=white-space:pre-wrap>                  objs &lt;- rds[[name]]</span>\n",
       "<span style=white-space:pre-wrap>                  lazyLoad(file.path(p, \"Rdata\"), envir = tmp_env, </span>\n",
       "<span style=white-space:pre-wrap>                    filter = function(x) x %in% objs)</span>\n",
       "<span style=white-space:pre-wrap>                  break</span>\n",
       "<span style=white-space:pre-wrap>                }</span>\n",
       "<span style=white-space:pre-wrap>                else if (verbose) </span>\n",
       "<span style=white-space:pre-wrap>                  message(sprintf(\"name=%s:\\t NOT found in names() of Rdata.rds, i.e.,\\n\\t%s\\n\", </span>\n",
       "<span style=white-space:pre-wrap>                    name, paste(names(rds), collapse = \",\")), </span>\n",
       "<span style=white-space:pre-wrap>                    domain = NA)</span>\n",
       "<span style=white-space:pre-wrap>            }</span>\n",
       "<span style=white-space:pre-wrap>            if (file_test(\"-f\", file.path(p, \"Rdata.zip\"))) {</span>\n",
       "<span style=white-space:pre-wrap>                warning(\"zipped data found for package \", sQuote(basename(dirname(p))), </span>\n",
       "<span style=white-space:pre-wrap>                  \".\\nThat is defunct, so please re-install the package.\", </span>\n",
       "<span style=white-space:pre-wrap>                  domain = NA)</span>\n",
       "<span style=white-space:pre-wrap>                if (file_test(\"-f\", fp &lt;- file.path(p, \"filelist\"))) </span>\n",
       "<span style=white-space:pre-wrap>                  files &lt;- file.path(p, scan(fp, what = \"\", quiet = TRUE))</span>\n",
       "<span style=white-space:pre-wrap>                else {</span>\n",
       "<span style=white-space:pre-wrap>                  warning(gettextf(\"file 'filelist' is missing for directory %s\", </span>\n",
       "<span style=white-space:pre-wrap>                    sQuote(p)), domain = NA)</span>\n",
       "<span style=white-space:pre-wrap>                  next</span>\n",
       "<span style=white-space:pre-wrap>                }</span>\n",
       "<span style=white-space:pre-wrap>            }</span>\n",
       "<span style=white-space:pre-wrap>            else {</span>\n",
       "<span style=white-space:pre-wrap>                files &lt;- list.files(p, full.names = TRUE)</span>\n",
       "<span style=white-space:pre-wrap>            }</span>\n",
       "<span style=white-space:pre-wrap>            files &lt;- files[grep(name, files, fixed = TRUE)]</span>\n",
       "<span style=white-space:pre-wrap>            if (length(files) &gt; 1L) {</span>\n",
       "<span style=white-space:pre-wrap>                o &lt;- match(fileExt(files), dataExts, nomatch = 100L)</span>\n",
       "<span style=white-space:pre-wrap>                paths0 &lt;- dirname(files)</span>\n",
       "<span style=white-space:pre-wrap>                paths0 &lt;- factor(paths0, levels = unique(paths0))</span>\n",
       "<span style=white-space:pre-wrap>                files &lt;- files[order(paths0, o)]</span>\n",
       "<span style=white-space:pre-wrap>            }</span>\n",
       "<span style=white-space:pre-wrap>            if (length(files)) {</span>\n",
       "<span style=white-space:pre-wrap>                for (file in files) {</span>\n",
       "<span style=white-space:pre-wrap>                  if (verbose) </span>\n",
       "<span style=white-space:pre-wrap>                    message(\"name=\", name, \":\\t file= ...\", .Platform$file.sep, </span>\n",
       "<span style=white-space:pre-wrap>                      basename(file), \"::\\t\", appendLF = FALSE, </span>\n",
       "<span style=white-space:pre-wrap>                      domain = NA)</span>\n",
       "<span style=white-space:pre-wrap>                  ext &lt;- fileExt(file)</span>\n",
       "<span style=white-space:pre-wrap>                  if (basename(file) != paste0(name, \".\", ext)) </span>\n",
       "<span style=white-space:pre-wrap>                    found &lt;- FALSE</span>\n",
       "<span style=white-space:pre-wrap>                  else {</span>\n",
       "<span style=white-space:pre-wrap>                    found &lt;- TRUE</span>\n",
       "<span style=white-space:pre-wrap>                    zfile &lt;- file</span>\n",
       "<span style=white-space:pre-wrap>                    zipname &lt;- file.path(dirname(file), \"Rdata.zip\")</span>\n",
       "<span style=white-space:pre-wrap>                    if (file.exists(zipname)) {</span>\n",
       "<span style=white-space:pre-wrap>                      Rdatadir &lt;- tempfile(\"Rdata\")</span>\n",
       "<span style=white-space:pre-wrap>                      dir.create(Rdatadir, showWarnings = FALSE)</span>\n",
       "<span style=white-space:pre-wrap>                      topic &lt;- basename(file)</span>\n",
       "<span style=white-space:pre-wrap>                      rc &lt;- .External(C_unzip, zipname, topic, </span>\n",
       "<span style=white-space:pre-wrap>                        Rdatadir, FALSE, TRUE, FALSE, FALSE)</span>\n",
       "<span style=white-space:pre-wrap>                      if (rc == 0L) </span>\n",
       "<span style=white-space:pre-wrap>                        zfile &lt;- file.path(Rdatadir, topic)</span>\n",
       "<span style=white-space:pre-wrap>                    }</span>\n",
       "<span style=white-space:pre-wrap>                    if (zfile != file) </span>\n",
       "<span style=white-space:pre-wrap>                      on.exit(unlink(zfile))</span>\n",
       "<span style=white-space:pre-wrap>                    switch(ext, R = , r = {</span>\n",
       "<span style=white-space:pre-wrap>                      library(\"utils\")</span>\n",
       "<span style=white-space:pre-wrap>                      sys.source(zfile, chdir = TRUE, envir = tmp_env)</span>\n",
       "<span style=white-space:pre-wrap>                    }, RData = , rdata = , rda = load(zfile, </span>\n",
       "<span style=white-space:pre-wrap>                      envir = tmp_env), TXT = , txt = , tab = , </span>\n",
       "<span style=white-space:pre-wrap>                      tab.gz = , tab.bz2 = , tab.xz = , txt.gz = , </span>\n",
       "<span style=white-space:pre-wrap>                      txt.bz2 = , txt.xz = assign(name, my_read_table(zfile, </span>\n",
       "<span style=white-space:pre-wrap>                        header = TRUE, as.is = FALSE), envir = tmp_env), </span>\n",
       "<span style=white-space:pre-wrap>                      CSV = , csv = , csv.gz = , csv.bz2 = , </span>\n",
       "<span style=white-space:pre-wrap>                      csv.xz = assign(name, my_read_table(zfile, </span>\n",
       "<span style=white-space:pre-wrap>                        header = TRUE, sep = \";\", as.is = FALSE), </span>\n",
       "<span style=white-space:pre-wrap>                        envir = tmp_env), found &lt;- FALSE)</span>\n",
       "<span style=white-space:pre-wrap>                  }</span>\n",
       "<span style=white-space:pre-wrap>                  if (found) </span>\n",
       "<span style=white-space:pre-wrap>                    break</span>\n",
       "<span style=white-space:pre-wrap>                }</span>\n",
       "<span style=white-space:pre-wrap>                if (verbose) </span>\n",
       "<span style=white-space:pre-wrap>                  message(if (!found) </span>\n",
       "<span style=white-space:pre-wrap>                    \"*NOT* \", \"found\", domain = NA)</span>\n",
       "<span style=white-space:pre-wrap>            }</span>\n",
       "<span style=white-space:pre-wrap>            if (found) </span>\n",
       "<span style=white-space:pre-wrap>                break</span>\n",
       "<span style=white-space:pre-wrap>        }</span>\n",
       "<span style=white-space:pre-wrap>        if (!found) {</span>\n",
       "<span style=white-space:pre-wrap>            warning(gettextf(\"data set %s not found\", sQuote(name)), </span>\n",
       "<span style=white-space:pre-wrap>                domain = NA)</span>\n",
       "<span style=white-space:pre-wrap>        }</span>\n",
       "<span style=white-space:pre-wrap>        else if (!overwrite) {</span>\n",
       "<span style=white-space:pre-wrap>            for (o in ls(envir = tmp_env, all.names = TRUE)) {</span>\n",
       "<span style=white-space:pre-wrap>                if (exists(o, envir = envir, inherits = FALSE)) </span>\n",
       "<span style=white-space:pre-wrap>                  warning(gettextf(\"an object named %s already exists and will not be overwritten\", </span>\n",
       "<span style=white-space:pre-wrap>                    sQuote(o)))</span>\n",
       "<span style=white-space:pre-wrap>                else assign(o, get(o, envir = tmp_env, inherits = FALSE), </span>\n",
       "<span style=white-space:pre-wrap>                  envir = envir)</span>\n",
       "<span style=white-space:pre-wrap>            }</span>\n",
       "<span style=white-space:pre-wrap>            rm(tmp_env)</span>\n",
       "<span style=white-space:pre-wrap>        }</span>\n",
       "<span style=white-space:pre-wrap>    }</span>\n",
       "<span style=white-space:pre-wrap>    invisible(names)</span>\n",
       "}</code></pre>"
      ],
      "text/latex": [
       "\\begin{minted}{r}\n",
       "function (..., list = character(), package = NULL, lib.loc = NULL, \n",
       "    verbose = getOption(\"verbose\"), envir = .GlobalEnv, overwrite = TRUE) \n",
       "\\{\n",
       "    fileExt <- function(x) \\{\n",
       "        db <- grepl(\"\\textbackslash{}\\textbackslash{}.{[}\\textasciicircum{}.{]}+\\textbackslash{}\\textbackslash{}.(gz\\textbar{}bz2\\textbar{}xz)\\$\", x)\n",
       "        ans <- sub(\".*\\textbackslash{}\\textbackslash{}.\", \"\", x)\n",
       "        ans{[}db{]} <- sub(\".*\\textbackslash{}\\textbackslash{}.({[}\\textasciicircum{}.{]}+\\textbackslash{}\\textbackslash{}.)(gz\\textbar{}bz2\\textbar{}xz)\\$\", \"\\textbackslash{}\\textbackslash{}1\\textbackslash{}\\textbackslash{}2\", \n",
       "            x{[}db{]})\n",
       "        ans\n",
       "    \\}\n",
       "    my\\_read\\_table <- function(...) \\{\n",
       "        lcc <- Sys.getlocale(\"LC\\_COLLATE\")\n",
       "        on.exit(Sys.setlocale(\"LC\\_COLLATE\", lcc))\n",
       "        Sys.setlocale(\"LC\\_COLLATE\", \"C\")\n",
       "        read.table(...)\n",
       "    \\}\n",
       "    stopifnot(is.character(list))\n",
       "    names <- c(as.character(substitute(list(...)){[}-1L{]}), list)\n",
       "    if (!is.null(package)) \\{\n",
       "        if (!is.character(package)) \n",
       "            stop(\"'package' must be a character vector or NULL\")\n",
       "    \\}\n",
       "    paths <- find.package(package, lib.loc, verbose = verbose)\n",
       "    if (is.null(lib.loc)) \n",
       "        paths <- c(path.package(package, TRUE), if (!length(package)) getwd(), \n",
       "            paths)\n",
       "    paths <- unique(normalizePath(paths{[}file.exists(paths){]}))\n",
       "    paths <- paths{[}dir.exists(file.path(paths, \"data\")){]}\n",
       "    dataExts <- tools:::.make\\_file\\_exts(\"data\")\n",
       "    if (length(names) == 0L) \\{\n",
       "        db <- matrix(character(), nrow = 0L, ncol = 4L)\n",
       "        for (path in paths) \\{\n",
       "            entries <- NULL\n",
       "            packageName <- if (file\\_test(\"-f\", file.path(path, \n",
       "                \"DESCRIPTION\"))) \n",
       "                basename(path)\n",
       "            else \".\"\n",
       "            if (file\\_test(\"-f\", INDEX <- file.path(path, \"Meta\", \n",
       "                \"data.rds\"))) \\{\n",
       "                entries <- readRDS(INDEX)\n",
       "            \\}\n",
       "            else \\{\n",
       "                dataDir <- file.path(path, \"data\")\n",
       "                entries <- tools::list\\_files\\_with\\_type(dataDir, \n",
       "                  \"data\")\n",
       "                if (length(entries)) \\{\n",
       "                  entries <- unique(tools::file\\_path\\_sans\\_ext(basename(entries)))\n",
       "                  entries <- cbind(entries, \"\")\n",
       "                \\}\n",
       "            \\}\n",
       "            if (NROW(entries)) \\{\n",
       "                if (is.matrix(entries) \\&\\& ncol(entries) == 2L) \n",
       "                  db <- rbind(db, cbind(packageName, dirname(path), \n",
       "                    entries))\n",
       "                else warning(gettextf(\"data index for package \\%s is invalid and will be ignored\", \n",
       "                  sQuote(packageName)), domain = NA, call. = FALSE)\n",
       "            \\}\n",
       "        \\}\n",
       "        colnames(db) <- c(\"Package\", \"LibPath\", \"Item\", \"Title\")\n",
       "        footer <- if (missing(package)) \n",
       "            paste0(\"Use \", sQuote(paste(\"data(package =\", \".packages(all.available = TRUE))\")), \n",
       "                \"\\textbackslash{}n\", \"to list the data sets in all *available* packages.\")\n",
       "        else NULL\n",
       "        y <- list(title = \"Data sets\", header = NULL, results = db, \n",
       "            footer = footer)\n",
       "        class(y) <- \"packageIQR\"\n",
       "        return(y)\n",
       "    \\}\n",
       "    paths <- file.path(paths, \"data\")\n",
       "    for (name in names) \\{\n",
       "        found <- FALSE\n",
       "        for (p in paths) \\{\n",
       "            tmp\\_env <- if (overwrite) \n",
       "                envir\n",
       "            else new.env()\n",
       "            if (file\\_test(\"-f\", file.path(p, \"Rdata.rds\"))) \\{\n",
       "                rds <- readRDS(file.path(p, \"Rdata.rds\"))\n",
       "                if (name \\%in\\% names(rds)) \\{\n",
       "                  found <- TRUE\n",
       "                  if (verbose) \n",
       "                    message(sprintf(\"name=\\%s:\\textbackslash{}t found in Rdata.rds\", \n",
       "                      name), domain = NA)\n",
       "                  thispkg <- sub(\".*/({[}\\textasciicircum{}/{]}*)/data\\$\", \"\\textbackslash{}\\textbackslash{}1\", p)\n",
       "                  thispkg <- sub(\"\\_.*\\$\", \"\", thispkg)\n",
       "                  thispkg <- paste0(\"package:\", thispkg)\n",
       "                  objs <- rds{[}{[}name{]}{]}\n",
       "                  lazyLoad(file.path(p, \"Rdata\"), envir = tmp\\_env, \n",
       "                    filter = function(x) x \\%in\\% objs)\n",
       "                  break\n",
       "                \\}\n",
       "                else if (verbose) \n",
       "                  message(sprintf(\"name=\\%s:\\textbackslash{}t NOT found in names() of Rdata.rds, i.e.,\\textbackslash{}n\\textbackslash{}t\\%s\\textbackslash{}n\", \n",
       "                    name, paste(names(rds), collapse = \",\")), \n",
       "                    domain = NA)\n",
       "            \\}\n",
       "            if (file\\_test(\"-f\", file.path(p, \"Rdata.zip\"))) \\{\n",
       "                warning(\"zipped data found for package \", sQuote(basename(dirname(p))), \n",
       "                  \".\\textbackslash{}nThat is defunct, so please re-install the package.\", \n",
       "                  domain = NA)\n",
       "                if (file\\_test(\"-f\", fp <- file.path(p, \"filelist\"))) \n",
       "                  files <- file.path(p, scan(fp, what = \"\", quiet = TRUE))\n",
       "                else \\{\n",
       "                  warning(gettextf(\"file 'filelist' is missing for directory \\%s\", \n",
       "                    sQuote(p)), domain = NA)\n",
       "                  next\n",
       "                \\}\n",
       "            \\}\n",
       "            else \\{\n",
       "                files <- list.files(p, full.names = TRUE)\n",
       "            \\}\n",
       "            files <- files{[}grep(name, files, fixed = TRUE){]}\n",
       "            if (length(files) > 1L) \\{\n",
       "                o <- match(fileExt(files), dataExts, nomatch = 100L)\n",
       "                paths0 <- dirname(files)\n",
       "                paths0 <- factor(paths0, levels = unique(paths0))\n",
       "                files <- files{[}order(paths0, o){]}\n",
       "            \\}\n",
       "            if (length(files)) \\{\n",
       "                for (file in files) \\{\n",
       "                  if (verbose) \n",
       "                    message(\"name=\", name, \":\\textbackslash{}t file= ...\", .Platform\\$file.sep, \n",
       "                      basename(file), \"::\\textbackslash{}t\", appendLF = FALSE, \n",
       "                      domain = NA)\n",
       "                  ext <- fileExt(file)\n",
       "                  if (basename(file) != paste0(name, \".\", ext)) \n",
       "                    found <- FALSE\n",
       "                  else \\{\n",
       "                    found <- TRUE\n",
       "                    zfile <- file\n",
       "                    zipname <- file.path(dirname(file), \"Rdata.zip\")\n",
       "                    if (file.exists(zipname)) \\{\n",
       "                      Rdatadir <- tempfile(\"Rdata\")\n",
       "                      dir.create(Rdatadir, showWarnings = FALSE)\n",
       "                      topic <- basename(file)\n",
       "                      rc <- .External(C\\_unzip, zipname, topic, \n",
       "                        Rdatadir, FALSE, TRUE, FALSE, FALSE)\n",
       "                      if (rc == 0L) \n",
       "                        zfile <- file.path(Rdatadir, topic)\n",
       "                    \\}\n",
       "                    if (zfile != file) \n",
       "                      on.exit(unlink(zfile))\n",
       "                    switch(ext, R = , r = \\{\n",
       "                      library(\"utils\")\n",
       "                      sys.source(zfile, chdir = TRUE, envir = tmp\\_env)\n",
       "                    \\}, RData = , rdata = , rda = load(zfile, \n",
       "                      envir = tmp\\_env), TXT = , txt = , tab = , \n",
       "                      tab.gz = , tab.bz2 = , tab.xz = , txt.gz = , \n",
       "                      txt.bz2 = , txt.xz = assign(name, my\\_read\\_table(zfile, \n",
       "                        header = TRUE, as.is = FALSE), envir = tmp\\_env), \n",
       "                      CSV = , csv = , csv.gz = , csv.bz2 = , \n",
       "                      csv.xz = assign(name, my\\_read\\_table(zfile, \n",
       "                        header = TRUE, sep = \";\", as.is = FALSE), \n",
       "                        envir = tmp\\_env), found <- FALSE)\n",
       "                  \\}\n",
       "                  if (found) \n",
       "                    break\n",
       "                \\}\n",
       "                if (verbose) \n",
       "                  message(if (!found) \n",
       "                    \"*NOT* \", \"found\", domain = NA)\n",
       "            \\}\n",
       "            if (found) \n",
       "                break\n",
       "        \\}\n",
       "        if (!found) \\{\n",
       "            warning(gettextf(\"data set \\%s not found\", sQuote(name)), \n",
       "                domain = NA)\n",
       "        \\}\n",
       "        else if (!overwrite) \\{\n",
       "            for (o in ls(envir = tmp\\_env, all.names = TRUE)) \\{\n",
       "                if (exists(o, envir = envir, inherits = FALSE)) \n",
       "                  warning(gettextf(\"an object named \\%s already exists and will not be overwritten\", \n",
       "                    sQuote(o)))\n",
       "                else assign(o, get(o, envir = tmp\\_env, inherits = FALSE), \n",
       "                  envir = envir)\n",
       "            \\}\n",
       "            rm(tmp\\_env)\n",
       "        \\}\n",
       "    \\}\n",
       "    invisible(names)\n",
       "\\}\n",
       "\\end{minted}"
      ],
      "text/markdown": [
       "```r\n",
       "function (..., list = character(), package = NULL, lib.loc = NULL, \n",
       "    verbose = getOption(\"verbose\"), envir = .GlobalEnv, overwrite = TRUE) \n",
       "{\n",
       "    fileExt <- function(x) {\n",
       "        db <- grepl(\"\\\\.[^.]+\\\\.(gz|bz2|xz)$\", x)\n",
       "        ans <- sub(\".*\\\\.\", \"\", x)\n",
       "        ans[db] <- sub(\".*\\\\.([^.]+\\\\.)(gz|bz2|xz)$\", \"\\\\1\\\\2\", \n",
       "            x[db])\n",
       "        ans\n",
       "    }\n",
       "    my_read_table <- function(...) {\n",
       "        lcc <- Sys.getlocale(\"LC_COLLATE\")\n",
       "        on.exit(Sys.setlocale(\"LC_COLLATE\", lcc))\n",
       "        Sys.setlocale(\"LC_COLLATE\", \"C\")\n",
       "        read.table(...)\n",
       "    }\n",
       "    stopifnot(is.character(list))\n",
       "    names <- c(as.character(substitute(list(...))[-1L]), list)\n",
       "    if (!is.null(package)) {\n",
       "        if (!is.character(package)) \n",
       "            stop(\"'package' must be a character vector or NULL\")\n",
       "    }\n",
       "    paths <- find.package(package, lib.loc, verbose = verbose)\n",
       "    if (is.null(lib.loc)) \n",
       "        paths <- c(path.package(package, TRUE), if (!length(package)) getwd(), \n",
       "            paths)\n",
       "    paths <- unique(normalizePath(paths[file.exists(paths)]))\n",
       "    paths <- paths[dir.exists(file.path(paths, \"data\"))]\n",
       "    dataExts <- tools:::.make_file_exts(\"data\")\n",
       "    if (length(names) == 0L) {\n",
       "        db <- matrix(character(), nrow = 0L, ncol = 4L)\n",
       "        for (path in paths) {\n",
       "            entries <- NULL\n",
       "            packageName <- if (file_test(\"-f\", file.path(path, \n",
       "                \"DESCRIPTION\"))) \n",
       "                basename(path)\n",
       "            else \".\"\n",
       "            if (file_test(\"-f\", INDEX <- file.path(path, \"Meta\", \n",
       "                \"data.rds\"))) {\n",
       "                entries <- readRDS(INDEX)\n",
       "            }\n",
       "            else {\n",
       "                dataDir <- file.path(path, \"data\")\n",
       "                entries <- tools::list_files_with_type(dataDir, \n",
       "                  \"data\")\n",
       "                if (length(entries)) {\n",
       "                  entries <- unique(tools::file_path_sans_ext(basename(entries)))\n",
       "                  entries <- cbind(entries, \"\")\n",
       "                }\n",
       "            }\n",
       "            if (NROW(entries)) {\n",
       "                if (is.matrix(entries) && ncol(entries) == 2L) \n",
       "                  db <- rbind(db, cbind(packageName, dirname(path), \n",
       "                    entries))\n",
       "                else warning(gettextf(\"data index for package %s is invalid and will be ignored\", \n",
       "                  sQuote(packageName)), domain = NA, call. = FALSE)\n",
       "            }\n",
       "        }\n",
       "        colnames(db) <- c(\"Package\", \"LibPath\", \"Item\", \"Title\")\n",
       "        footer <- if (missing(package)) \n",
       "            paste0(\"Use \", sQuote(paste(\"data(package =\", \".packages(all.available = TRUE))\")), \n",
       "                \"\\n\", \"to list the data sets in all *available* packages.\")\n",
       "        else NULL\n",
       "        y <- list(title = \"Data sets\", header = NULL, results = db, \n",
       "            footer = footer)\n",
       "        class(y) <- \"packageIQR\"\n",
       "        return(y)\n",
       "    }\n",
       "    paths <- file.path(paths, \"data\")\n",
       "    for (name in names) {\n",
       "        found <- FALSE\n",
       "        for (p in paths) {\n",
       "            tmp_env <- if (overwrite) \n",
       "                envir\n",
       "            else new.env()\n",
       "            if (file_test(\"-f\", file.path(p, \"Rdata.rds\"))) {\n",
       "                rds <- readRDS(file.path(p, \"Rdata.rds\"))\n",
       "                if (name %in% names(rds)) {\n",
       "                  found <- TRUE\n",
       "                  if (verbose) \n",
       "                    message(sprintf(\"name=%s:\\t found in Rdata.rds\", \n",
       "                      name), domain = NA)\n",
       "                  thispkg <- sub(\".*/([^/]*)/data$\", \"\\\\1\", p)\n",
       "                  thispkg <- sub(\"_.*$\", \"\", thispkg)\n",
       "                  thispkg <- paste0(\"package:\", thispkg)\n",
       "                  objs <- rds[[name]]\n",
       "                  lazyLoad(file.path(p, \"Rdata\"), envir = tmp_env, \n",
       "                    filter = function(x) x %in% objs)\n",
       "                  break\n",
       "                }\n",
       "                else if (verbose) \n",
       "                  message(sprintf(\"name=%s:\\t NOT found in names() of Rdata.rds, i.e.,\\n\\t%s\\n\", \n",
       "                    name, paste(names(rds), collapse = \",\")), \n",
       "                    domain = NA)\n",
       "            }\n",
       "            if (file_test(\"-f\", file.path(p, \"Rdata.zip\"))) {\n",
       "                warning(\"zipped data found for package \", sQuote(basename(dirname(p))), \n",
       "                  \".\\nThat is defunct, so please re-install the package.\", \n",
       "                  domain = NA)\n",
       "                if (file_test(\"-f\", fp <- file.path(p, \"filelist\"))) \n",
       "                  files <- file.path(p, scan(fp, what = \"\", quiet = TRUE))\n",
       "                else {\n",
       "                  warning(gettextf(\"file 'filelist' is missing for directory %s\", \n",
       "                    sQuote(p)), domain = NA)\n",
       "                  next\n",
       "                }\n",
       "            }\n",
       "            else {\n",
       "                files <- list.files(p, full.names = TRUE)\n",
       "            }\n",
       "            files <- files[grep(name, files, fixed = TRUE)]\n",
       "            if (length(files) > 1L) {\n",
       "                o <- match(fileExt(files), dataExts, nomatch = 100L)\n",
       "                paths0 <- dirname(files)\n",
       "                paths0 <- factor(paths0, levels = unique(paths0))\n",
       "                files <- files[order(paths0, o)]\n",
       "            }\n",
       "            if (length(files)) {\n",
       "                for (file in files) {\n",
       "                  if (verbose) \n",
       "                    message(\"name=\", name, \":\\t file= ...\", .Platform$file.sep, \n",
       "                      basename(file), \"::\\t\", appendLF = FALSE, \n",
       "                      domain = NA)\n",
       "                  ext <- fileExt(file)\n",
       "                  if (basename(file) != paste0(name, \".\", ext)) \n",
       "                    found <- FALSE\n",
       "                  else {\n",
       "                    found <- TRUE\n",
       "                    zfile <- file\n",
       "                    zipname <- file.path(dirname(file), \"Rdata.zip\")\n",
       "                    if (file.exists(zipname)) {\n",
       "                      Rdatadir <- tempfile(\"Rdata\")\n",
       "                      dir.create(Rdatadir, showWarnings = FALSE)\n",
       "                      topic <- basename(file)\n",
       "                      rc <- .External(C_unzip, zipname, topic, \n",
       "                        Rdatadir, FALSE, TRUE, FALSE, FALSE)\n",
       "                      if (rc == 0L) \n",
       "                        zfile <- file.path(Rdatadir, topic)\n",
       "                    }\n",
       "                    if (zfile != file) \n",
       "                      on.exit(unlink(zfile))\n",
       "                    switch(ext, R = , r = {\n",
       "                      library(\"utils\")\n",
       "                      sys.source(zfile, chdir = TRUE, envir = tmp_env)\n",
       "                    }, RData = , rdata = , rda = load(zfile, \n",
       "                      envir = tmp_env), TXT = , txt = , tab = , \n",
       "                      tab.gz = , tab.bz2 = , tab.xz = , txt.gz = , \n",
       "                      txt.bz2 = , txt.xz = assign(name, my_read_table(zfile, \n",
       "                        header = TRUE, as.is = FALSE), envir = tmp_env), \n",
       "                      CSV = , csv = , csv.gz = , csv.bz2 = , \n",
       "                      csv.xz = assign(name, my_read_table(zfile, \n",
       "                        header = TRUE, sep = \";\", as.is = FALSE), \n",
       "                        envir = tmp_env), found <- FALSE)\n",
       "                  }\n",
       "                  if (found) \n",
       "                    break\n",
       "                }\n",
       "                if (verbose) \n",
       "                  message(if (!found) \n",
       "                    \"*NOT* \", \"found\", domain = NA)\n",
       "            }\n",
       "            if (found) \n",
       "                break\n",
       "        }\n",
       "        if (!found) {\n",
       "            warning(gettextf(\"data set %s not found\", sQuote(name)), \n",
       "                domain = NA)\n",
       "        }\n",
       "        else if (!overwrite) {\n",
       "            for (o in ls(envir = tmp_env, all.names = TRUE)) {\n",
       "                if (exists(o, envir = envir, inherits = FALSE)) \n",
       "                  warning(gettextf(\"an object named %s already exists and will not be overwritten\", \n",
       "                    sQuote(o)))\n",
       "                else assign(o, get(o, envir = tmp_env, inherits = FALSE), \n",
       "                  envir = envir)\n",
       "            }\n",
       "            rm(tmp_env)\n",
       "        }\n",
       "    }\n",
       "    invisible(names)\n",
       "}\n",
       "```"
      ],
      "text/plain": [
       "function (..., list = character(), package = NULL, lib.loc = NULL, \n",
       "    verbose = getOption(\"verbose\"), envir = .GlobalEnv, overwrite = TRUE) \n",
       "{\n",
       "    fileExt <- function(x) {\n",
       "        db <- grepl(\"\\\\.[^.]+\\\\.(gz|bz2|xz)$\", x)\n",
       "        ans <- sub(\".*\\\\.\", \"\", x)\n",
       "        ans[db] <- sub(\".*\\\\.([^.]+\\\\.)(gz|bz2|xz)$\", \"\\\\1\\\\2\", \n",
       "            x[db])\n",
       "        ans\n",
       "    }\n",
       "    my_read_table <- function(...) {\n",
       "        lcc <- Sys.getlocale(\"LC_COLLATE\")\n",
       "        on.exit(Sys.setlocale(\"LC_COLLATE\", lcc))\n",
       "        Sys.setlocale(\"LC_COLLATE\", \"C\")\n",
       "        read.table(...)\n",
       "    }\n",
       "    stopifnot(is.character(list))\n",
       "    names <- c(as.character(substitute(list(...))[-1L]), list)\n",
       "    if (!is.null(package)) {\n",
       "        if (!is.character(package)) \n",
       "            stop(\"'package' must be a character vector or NULL\")\n",
       "    }\n",
       "    paths <- find.package(package, lib.loc, verbose = verbose)\n",
       "    if (is.null(lib.loc)) \n",
       "        paths <- c(path.package(package, TRUE), if (!length(package)) getwd(), \n",
       "            paths)\n",
       "    paths <- unique(normalizePath(paths[file.exists(paths)]))\n",
       "    paths <- paths[dir.exists(file.path(paths, \"data\"))]\n",
       "    dataExts <- tools:::.make_file_exts(\"data\")\n",
       "    if (length(names) == 0L) {\n",
       "        db <- matrix(character(), nrow = 0L, ncol = 4L)\n",
       "        for (path in paths) {\n",
       "            entries <- NULL\n",
       "            packageName <- if (file_test(\"-f\", file.path(path, \n",
       "                \"DESCRIPTION\"))) \n",
       "                basename(path)\n",
       "            else \".\"\n",
       "            if (file_test(\"-f\", INDEX <- file.path(path, \"Meta\", \n",
       "                \"data.rds\"))) {\n",
       "                entries <- readRDS(INDEX)\n",
       "            }\n",
       "            else {\n",
       "                dataDir <- file.path(path, \"data\")\n",
       "                entries <- tools::list_files_with_type(dataDir, \n",
       "                  \"data\")\n",
       "                if (length(entries)) {\n",
       "                  entries <- unique(tools::file_path_sans_ext(basename(entries)))\n",
       "                  entries <- cbind(entries, \"\")\n",
       "                }\n",
       "            }\n",
       "            if (NROW(entries)) {\n",
       "                if (is.matrix(entries) && ncol(entries) == 2L) \n",
       "                  db <- rbind(db, cbind(packageName, dirname(path), \n",
       "                    entries))\n",
       "                else warning(gettextf(\"data index for package %s is invalid and will be ignored\", \n",
       "                  sQuote(packageName)), domain = NA, call. = FALSE)\n",
       "            }\n",
       "        }\n",
       "        colnames(db) <- c(\"Package\", \"LibPath\", \"Item\", \"Title\")\n",
       "        footer <- if (missing(package)) \n",
       "            paste0(\"Use \", sQuote(paste(\"data(package =\", \".packages(all.available = TRUE))\")), \n",
       "                \"\\n\", \"to list the data sets in all *available* packages.\")\n",
       "        else NULL\n",
       "        y <- list(title = \"Data sets\", header = NULL, results = db, \n",
       "            footer = footer)\n",
       "        class(y) <- \"packageIQR\"\n",
       "        return(y)\n",
       "    }\n",
       "    paths <- file.path(paths, \"data\")\n",
       "    for (name in names) {\n",
       "        found <- FALSE\n",
       "        for (p in paths) {\n",
       "            tmp_env <- if (overwrite) \n",
       "                envir\n",
       "            else new.env()\n",
       "            if (file_test(\"-f\", file.path(p, \"Rdata.rds\"))) {\n",
       "                rds <- readRDS(file.path(p, \"Rdata.rds\"))\n",
       "                if (name %in% names(rds)) {\n",
       "                  found <- TRUE\n",
       "                  if (verbose) \n",
       "                    message(sprintf(\"name=%s:\\t found in Rdata.rds\", \n",
       "                      name), domain = NA)\n",
       "                  thispkg <- sub(\".*/([^/]*)/data$\", \"\\\\1\", p)\n",
       "                  thispkg <- sub(\"_.*$\", \"\", thispkg)\n",
       "                  thispkg <- paste0(\"package:\", thispkg)\n",
       "                  objs <- rds[[name]]\n",
       "                  lazyLoad(file.path(p, \"Rdata\"), envir = tmp_env, \n",
       "                    filter = function(x) x %in% objs)\n",
       "                  break\n",
       "                }\n",
       "                else if (verbose) \n",
       "                  message(sprintf(\"name=%s:\\t NOT found in names() of Rdata.rds, i.e.,\\n\\t%s\\n\", \n",
       "                    name, paste(names(rds), collapse = \",\")), \n",
       "                    domain = NA)\n",
       "            }\n",
       "            if (file_test(\"-f\", file.path(p, \"Rdata.zip\"))) {\n",
       "                warning(\"zipped data found for package \", sQuote(basename(dirname(p))), \n",
       "                  \".\\nThat is defunct, so please re-install the package.\", \n",
       "                  domain = NA)\n",
       "                if (file_test(\"-f\", fp <- file.path(p, \"filelist\"))) \n",
       "                  files <- file.path(p, scan(fp, what = \"\", quiet = TRUE))\n",
       "                else {\n",
       "                  warning(gettextf(\"file 'filelist' is missing for directory %s\", \n",
       "                    sQuote(p)), domain = NA)\n",
       "                  next\n",
       "                }\n",
       "            }\n",
       "            else {\n",
       "                files <- list.files(p, full.names = TRUE)\n",
       "            }\n",
       "            files <- files[grep(name, files, fixed = TRUE)]\n",
       "            if (length(files) > 1L) {\n",
       "                o <- match(fileExt(files), dataExts, nomatch = 100L)\n",
       "                paths0 <- dirname(files)\n",
       "                paths0 <- factor(paths0, levels = unique(paths0))\n",
       "                files <- files[order(paths0, o)]\n",
       "            }\n",
       "            if (length(files)) {\n",
       "                for (file in files) {\n",
       "                  if (verbose) \n",
       "                    message(\"name=\", name, \":\\t file= ...\", .Platform$file.sep, \n",
       "                      basename(file), \"::\\t\", appendLF = FALSE, \n",
       "                      domain = NA)\n",
       "                  ext <- fileExt(file)\n",
       "                  if (basename(file) != paste0(name, \".\", ext)) \n",
       "                    found <- FALSE\n",
       "                  else {\n",
       "                    found <- TRUE\n",
       "                    zfile <- file\n",
       "                    zipname <- file.path(dirname(file), \"Rdata.zip\")\n",
       "                    if (file.exists(zipname)) {\n",
       "                      Rdatadir <- tempfile(\"Rdata\")\n",
       "                      dir.create(Rdatadir, showWarnings = FALSE)\n",
       "                      topic <- basename(file)\n",
       "                      rc <- .External(C_unzip, zipname, topic, \n",
       "                        Rdatadir, FALSE, TRUE, FALSE, FALSE)\n",
       "                      if (rc == 0L) \n",
       "                        zfile <- file.path(Rdatadir, topic)\n",
       "                    }\n",
       "                    if (zfile != file) \n",
       "                      on.exit(unlink(zfile))\n",
       "                    switch(ext, R = , r = {\n",
       "                      library(\"utils\")\n",
       "                      sys.source(zfile, chdir = TRUE, envir = tmp_env)\n",
       "                    }, RData = , rdata = , rda = load(zfile, \n",
       "                      envir = tmp_env), TXT = , txt = , tab = , \n",
       "                      tab.gz = , tab.bz2 = , tab.xz = , txt.gz = , \n",
       "                      txt.bz2 = , txt.xz = assign(name, my_read_table(zfile, \n",
       "                        header = TRUE, as.is = FALSE), envir = tmp_env), \n",
       "                      CSV = , csv = , csv.gz = , csv.bz2 = , \n",
       "                      csv.xz = assign(name, my_read_table(zfile, \n",
       "                        header = TRUE, sep = \";\", as.is = FALSE), \n",
       "                        envir = tmp_env), found <- FALSE)\n",
       "                  }\n",
       "                  if (found) \n",
       "                    break\n",
       "                }\n",
       "                if (verbose) \n",
       "                  message(if (!found) \n",
       "                    \"*NOT* \", \"found\", domain = NA)\n",
       "            }\n",
       "            if (found) \n",
       "                break\n",
       "        }\n",
       "        if (!found) {\n",
       "            warning(gettextf(\"data set %s not found\", sQuote(name)), \n",
       "                domain = NA)\n",
       "        }\n",
       "        else if (!overwrite) {\n",
       "            for (o in ls(envir = tmp_env, all.names = TRUE)) {\n",
       "                if (exists(o, envir = envir, inherits = FALSE)) \n",
       "                  warning(gettextf(\"an object named %s already exists and will not be overwritten\", \n",
       "                    sQuote(o)))\n",
       "                else assign(o, get(o, envir = tmp_env, inherits = FALSE), \n",
       "                  envir = envir)\n",
       "            }\n",
       "            rm(tmp_env)\n",
       "        }\n",
       "    }\n",
       "    invisible(names)\n",
       "}\n",
       "<bytecode: 0x000001d21e41f488>\n",
       "<environment: namespace:utils>"
      ]
     },
     "metadata": {},
     "output_type": "display_data"
    }
   ],
   "source": [
    "myds"
   ]
  },
  {
   "cell_type": "code",
   "execution_count": 183,
   "id": "3a5fcf0a",
   "metadata": {},
   "outputs": [
    {
     "name": "stderr",
     "output_type": "stream",
     "text": [
      "Warning message in x(x):\n",
      "\"data set 'x' not found\"\n"
     ]
    },
    {
     "ename": "ERROR",
     "evalue": "Error in curve(expr = x, from = from, to = to, xlim = xlim, ylab = ylab, : 'expr' did not evaluate to an object of length 'n'\n",
     "output_type": "error",
     "traceback": [
      "Error in curve(expr = x, from = from, to = to, xlim = xlim, ylab = ylab, : 'expr' did not evaluate to an object of length 'n'\nTraceback:\n",
      "1. plot(myds)",
      "2. plot.function(myds)",
      "3. curve(expr = x, from = from, to = to, xlim = xlim, ylab = ylab, \n .     ...)",
      "4. stop(\"'expr' did not evaluate to an object of length 'n'\")"
     ]
    }
   ],
   "source": [
    "plot(myds)"
   ]
  },
  {
   "cell_type": "code",
   "execution_count": 184,
   "id": "20cf798e",
   "metadata": {},
   "outputs": [
    {
     "data": {
      "text/html": [
       "<table class=\"dataframe\">\n",
       "<caption>A data.frame: 214 × 10</caption>\n",
       "<thead>\n",
       "\t<tr><th></th><th scope=col>RI</th><th scope=col>Na</th><th scope=col>Mg</th><th scope=col>Al</th><th scope=col>Si</th><th scope=col>K</th><th scope=col>Ca</th><th scope=col>Ba</th><th scope=col>Fe</th><th scope=col>Type</th></tr>\n",
       "\t<tr><th></th><th scope=col>&lt;dbl&gt;</th><th scope=col>&lt;dbl&gt;</th><th scope=col>&lt;dbl&gt;</th><th scope=col>&lt;dbl&gt;</th><th scope=col>&lt;dbl&gt;</th><th scope=col>&lt;dbl&gt;</th><th scope=col>&lt;dbl&gt;</th><th scope=col>&lt;dbl&gt;</th><th scope=col>&lt;dbl&gt;</th><th scope=col>&lt;fct&gt;</th></tr>\n",
       "</thead>\n",
       "<tbody>\n",
       "\t<tr><th scope=row>1</th><td>1.52101</td><td>13.64</td><td>4.49</td><td>1.10</td><td>71.78</td><td>0.06</td><td>8.75</td><td>0</td><td>0.00</td><td>1</td></tr>\n",
       "\t<tr><th scope=row>2</th><td>1.51761</td><td>13.89</td><td>3.60</td><td>1.36</td><td>72.73</td><td>0.48</td><td>7.83</td><td>0</td><td>0.00</td><td>1</td></tr>\n",
       "\t<tr><th scope=row>3</th><td>1.51618</td><td>13.53</td><td>3.55</td><td>1.54</td><td>72.99</td><td>0.39</td><td>7.78</td><td>0</td><td>0.00</td><td>1</td></tr>\n",
       "\t<tr><th scope=row>4</th><td>1.51766</td><td>13.21</td><td>3.69</td><td>1.29</td><td>72.61</td><td>0.57</td><td>8.22</td><td>0</td><td>0.00</td><td>1</td></tr>\n",
       "\t<tr><th scope=row>5</th><td>1.51742</td><td>13.27</td><td>3.62</td><td>1.24</td><td>73.08</td><td>0.55</td><td>8.07</td><td>0</td><td>0.00</td><td>1</td></tr>\n",
       "\t<tr><th scope=row>6</th><td>1.51596</td><td>12.79</td><td>3.61</td><td>1.62</td><td>72.97</td><td>0.64</td><td>8.07</td><td>0</td><td>0.26</td><td>1</td></tr>\n",
       "\t<tr><th scope=row>7</th><td>1.51743</td><td>13.30</td><td>3.60</td><td>1.14</td><td>73.09</td><td>0.58</td><td>8.17</td><td>0</td><td>0.00</td><td>1</td></tr>\n",
       "\t<tr><th scope=row>8</th><td>1.51756</td><td>13.15</td><td>3.61</td><td>1.05</td><td>73.24</td><td>0.57</td><td>8.24</td><td>0</td><td>0.00</td><td>1</td></tr>\n",
       "\t<tr><th scope=row>9</th><td>1.51918</td><td>14.04</td><td>3.58</td><td>1.37</td><td>72.08</td><td>0.56</td><td>8.30</td><td>0</td><td>0.00</td><td>1</td></tr>\n",
       "\t<tr><th scope=row>10</th><td>1.51755</td><td>13.00</td><td>3.60</td><td>1.36</td><td>72.99</td><td>0.57</td><td>8.40</td><td>0</td><td>0.11</td><td>1</td></tr>\n",
       "\t<tr><th scope=row>11</th><td>1.51571</td><td>12.72</td><td>3.46</td><td>1.56</td><td>73.20</td><td>0.67</td><td>8.09</td><td>0</td><td>0.24</td><td>1</td></tr>\n",
       "\t<tr><th scope=row>12</th><td>1.51763</td><td>12.80</td><td>3.66</td><td>1.27</td><td>73.01</td><td>0.60</td><td>8.56</td><td>0</td><td>0.00</td><td>1</td></tr>\n",
       "\t<tr><th scope=row>13</th><td>1.51589</td><td>12.88</td><td>3.43</td><td>1.40</td><td>73.28</td><td>0.69</td><td>8.05</td><td>0</td><td>0.24</td><td>1</td></tr>\n",
       "\t<tr><th scope=row>14</th><td>1.51748</td><td>12.86</td><td>3.56</td><td>1.27</td><td>73.21</td><td>0.54</td><td>8.38</td><td>0</td><td>0.17</td><td>1</td></tr>\n",
       "\t<tr><th scope=row>15</th><td>1.51763</td><td>12.61</td><td>3.59</td><td>1.31</td><td>73.29</td><td>0.58</td><td>8.50</td><td>0</td><td>0.00</td><td>1</td></tr>\n",
       "\t<tr><th scope=row>16</th><td>1.51761</td><td>12.81</td><td>3.54</td><td>1.23</td><td>73.24</td><td>0.58</td><td>8.39</td><td>0</td><td>0.00</td><td>1</td></tr>\n",
       "\t<tr><th scope=row>17</th><td>1.51784</td><td>12.68</td><td>3.67</td><td>1.16</td><td>73.11</td><td>0.61</td><td>8.70</td><td>0</td><td>0.00</td><td>1</td></tr>\n",
       "\t<tr><th scope=row>18</th><td>1.52196</td><td>14.36</td><td>3.85</td><td>0.89</td><td>71.36</td><td>0.15</td><td>9.15</td><td>0</td><td>0.00</td><td>1</td></tr>\n",
       "\t<tr><th scope=row>19</th><td>1.51911</td><td>13.90</td><td>3.73</td><td>1.18</td><td>72.12</td><td>0.06</td><td>8.89</td><td>0</td><td>0.00</td><td>1</td></tr>\n",
       "\t<tr><th scope=row>20</th><td>1.51735</td><td>13.02</td><td>3.54</td><td>1.69</td><td>72.73</td><td>0.54</td><td>8.44</td><td>0</td><td>0.07</td><td>1</td></tr>\n",
       "\t<tr><th scope=row>21</th><td>1.51750</td><td>12.82</td><td>3.55</td><td>1.49</td><td>72.75</td><td>0.54</td><td>8.52</td><td>0</td><td>0.19</td><td>1</td></tr>\n",
       "\t<tr><th scope=row>22</th><td>1.51966</td><td>14.77</td><td>3.75</td><td>0.29</td><td>72.02</td><td>0.03</td><td>9.00</td><td>0</td><td>0.00</td><td>1</td></tr>\n",
       "\t<tr><th scope=row>23</th><td>1.51736</td><td>12.78</td><td>3.62</td><td>1.29</td><td>72.79</td><td>0.59</td><td>8.70</td><td>0</td><td>0.00</td><td>1</td></tr>\n",
       "\t<tr><th scope=row>24</th><td>1.51751</td><td>12.81</td><td>3.57</td><td>1.35</td><td>73.02</td><td>0.62</td><td>8.59</td><td>0</td><td>0.00</td><td>1</td></tr>\n",
       "\t<tr><th scope=row>25</th><td>1.51720</td><td>13.38</td><td>3.50</td><td>1.15</td><td>72.85</td><td>0.50</td><td>8.43</td><td>0</td><td>0.00</td><td>1</td></tr>\n",
       "\t<tr><th scope=row>26</th><td>1.51764</td><td>12.98</td><td>3.54</td><td>1.21</td><td>73.00</td><td>0.65</td><td>8.53</td><td>0</td><td>0.00</td><td>1</td></tr>\n",
       "\t<tr><th scope=row>27</th><td>1.51793</td><td>13.21</td><td>3.48</td><td>1.41</td><td>72.64</td><td>0.59</td><td>8.43</td><td>0</td><td>0.00</td><td>1</td></tr>\n",
       "\t<tr><th scope=row>28</th><td>1.51721</td><td>12.87</td><td>3.48</td><td>1.33</td><td>73.04</td><td>0.56</td><td>8.43</td><td>0</td><td>0.00</td><td>1</td></tr>\n",
       "\t<tr><th scope=row>29</th><td>1.51768</td><td>12.56</td><td>3.52</td><td>1.43</td><td>73.15</td><td>0.57</td><td>8.54</td><td>0</td><td>0.00</td><td>1</td></tr>\n",
       "\t<tr><th scope=row>30</th><td>1.51784</td><td>13.08</td><td>3.49</td><td>1.28</td><td>72.86</td><td>0.60</td><td>8.49</td><td>0</td><td>0.00</td><td>1</td></tr>\n",
       "\t<tr><th scope=row>⋮</th><td>⋮</td><td>⋮</td><td>⋮</td><td>⋮</td><td>⋮</td><td>⋮</td><td>⋮</td><td>⋮</td><td>⋮</td><td>⋮</td></tr>\n",
       "\t<tr><th scope=row>185</th><td>1.51115</td><td>17.38</td><td>0.00</td><td>0.34</td><td>75.41</td><td>0.00</td><td>6.65</td><td>0.00</td><td>0.00</td><td>6</td></tr>\n",
       "\t<tr><th scope=row>186</th><td>1.51131</td><td>13.69</td><td>3.20</td><td>1.81</td><td>72.81</td><td>1.76</td><td>5.43</td><td>1.19</td><td>0.00</td><td>7</td></tr>\n",
       "\t<tr><th scope=row>187</th><td>1.51838</td><td>14.32</td><td>3.26</td><td>2.22</td><td>71.25</td><td>1.46</td><td>5.79</td><td>1.63</td><td>0.00</td><td>7</td></tr>\n",
       "\t<tr><th scope=row>188</th><td>1.52315</td><td>13.44</td><td>3.34</td><td>1.23</td><td>72.38</td><td>0.60</td><td>8.83</td><td>0.00</td><td>0.00</td><td>7</td></tr>\n",
       "\t<tr><th scope=row>189</th><td>1.52247</td><td>14.86</td><td>2.20</td><td>2.06</td><td>70.26</td><td>0.76</td><td>9.76</td><td>0.00</td><td>0.00</td><td>7</td></tr>\n",
       "\t<tr><th scope=row>190</th><td>1.52365</td><td>15.79</td><td>1.83</td><td>1.31</td><td>70.43</td><td>0.31</td><td>8.61</td><td>1.68</td><td>0.00</td><td>7</td></tr>\n",
       "\t<tr><th scope=row>191</th><td>1.51613</td><td>13.88</td><td>1.78</td><td>1.79</td><td>73.10</td><td>0.00</td><td>8.67</td><td>0.76</td><td>0.00</td><td>7</td></tr>\n",
       "\t<tr><th scope=row>192</th><td>1.51602</td><td>14.85</td><td>0.00</td><td>2.38</td><td>73.28</td><td>0.00</td><td>8.76</td><td>0.64</td><td>0.09</td><td>7</td></tr>\n",
       "\t<tr><th scope=row>193</th><td>1.51623</td><td>14.20</td><td>0.00</td><td>2.79</td><td>73.46</td><td>0.04</td><td>9.04</td><td>0.40</td><td>0.09</td><td>7</td></tr>\n",
       "\t<tr><th scope=row>194</th><td>1.51719</td><td>14.75</td><td>0.00</td><td>2.00</td><td>73.02</td><td>0.00</td><td>8.53</td><td>1.59</td><td>0.08</td><td>7</td></tr>\n",
       "\t<tr><th scope=row>195</th><td>1.51683</td><td>14.56</td><td>0.00</td><td>1.98</td><td>73.29</td><td>0.00</td><td>8.52</td><td>1.57</td><td>0.07</td><td>7</td></tr>\n",
       "\t<tr><th scope=row>196</th><td>1.51545</td><td>14.14</td><td>0.00</td><td>2.68</td><td>73.39</td><td>0.08</td><td>9.07</td><td>0.61</td><td>0.05</td><td>7</td></tr>\n",
       "\t<tr><th scope=row>197</th><td>1.51556</td><td>13.87</td><td>0.00</td><td>2.54</td><td>73.23</td><td>0.14</td><td>9.41</td><td>0.81</td><td>0.01</td><td>7</td></tr>\n",
       "\t<tr><th scope=row>198</th><td>1.51727</td><td>14.70</td><td>0.00</td><td>2.34</td><td>73.28</td><td>0.00</td><td>8.95</td><td>0.66</td><td>0.00</td><td>7</td></tr>\n",
       "\t<tr><th scope=row>199</th><td>1.51531</td><td>14.38</td><td>0.00</td><td>2.66</td><td>73.10</td><td>0.04</td><td>9.08</td><td>0.64</td><td>0.00</td><td>7</td></tr>\n",
       "\t<tr><th scope=row>200</th><td>1.51609</td><td>15.01</td><td>0.00</td><td>2.51</td><td>73.05</td><td>0.05</td><td>8.83</td><td>0.53</td><td>0.00</td><td>7</td></tr>\n",
       "\t<tr><th scope=row>201</th><td>1.51508</td><td>15.15</td><td>0.00</td><td>2.25</td><td>73.50</td><td>0.00</td><td>8.34</td><td>0.63</td><td>0.00</td><td>7</td></tr>\n",
       "\t<tr><th scope=row>202</th><td>1.51653</td><td>11.95</td><td>0.00</td><td>1.19</td><td>75.18</td><td>2.70</td><td>8.93</td><td>0.00</td><td>0.00</td><td>7</td></tr>\n",
       "\t<tr><th scope=row>203</th><td>1.51514</td><td>14.85</td><td>0.00</td><td>2.42</td><td>73.72</td><td>0.00</td><td>8.39</td><td>0.56</td><td>0.00</td><td>7</td></tr>\n",
       "\t<tr><th scope=row>204</th><td>1.51658</td><td>14.80</td><td>0.00</td><td>1.99</td><td>73.11</td><td>0.00</td><td>8.28</td><td>1.71</td><td>0.00</td><td>7</td></tr>\n",
       "\t<tr><th scope=row>205</th><td>1.51617</td><td>14.95</td><td>0.00</td><td>2.27</td><td>73.30</td><td>0.00</td><td>8.71</td><td>0.67</td><td>0.00</td><td>7</td></tr>\n",
       "\t<tr><th scope=row>206</th><td>1.51732</td><td>14.95</td><td>0.00</td><td>1.80</td><td>72.99</td><td>0.00</td><td>8.61</td><td>1.55</td><td>0.00</td><td>7</td></tr>\n",
       "\t<tr><th scope=row>207</th><td>1.51645</td><td>14.94</td><td>0.00</td><td>1.87</td><td>73.11</td><td>0.00</td><td>8.67</td><td>1.38</td><td>0.00</td><td>7</td></tr>\n",
       "\t<tr><th scope=row>208</th><td>1.51831</td><td>14.39</td><td>0.00</td><td>1.82</td><td>72.86</td><td>1.41</td><td>6.47</td><td>2.88</td><td>0.00</td><td>7</td></tr>\n",
       "\t<tr><th scope=row>209</th><td>1.51640</td><td>14.37</td><td>0.00</td><td>2.74</td><td>72.85</td><td>0.00</td><td>9.45</td><td>0.54</td><td>0.00</td><td>7</td></tr>\n",
       "\t<tr><th scope=row>210</th><td>1.51623</td><td>14.14</td><td>0.00</td><td>2.88</td><td>72.61</td><td>0.08</td><td>9.18</td><td>1.06</td><td>0.00</td><td>7</td></tr>\n",
       "\t<tr><th scope=row>211</th><td>1.51685</td><td>14.92</td><td>0.00</td><td>1.99</td><td>73.06</td><td>0.00</td><td>8.40</td><td>1.59</td><td>0.00</td><td>7</td></tr>\n",
       "\t<tr><th scope=row>212</th><td>1.52065</td><td>14.36</td><td>0.00</td><td>2.02</td><td>73.42</td><td>0.00</td><td>8.44</td><td>1.64</td><td>0.00</td><td>7</td></tr>\n",
       "\t<tr><th scope=row>213</th><td>1.51651</td><td>14.38</td><td>0.00</td><td>1.94</td><td>73.61</td><td>0.00</td><td>8.48</td><td>1.57</td><td>0.00</td><td>7</td></tr>\n",
       "\t<tr><th scope=row>214</th><td>1.51711</td><td>14.23</td><td>0.00</td><td>2.08</td><td>73.36</td><td>0.00</td><td>8.62</td><td>1.67</td><td>0.00</td><td>7</td></tr>\n",
       "</tbody>\n",
       "</table>\n"
      ],
      "text/latex": [
       "A data.frame: 214 × 10\n",
       "\\begin{tabular}{r|llllllllll}\n",
       "  & RI & Na & Mg & Al & Si & K & Ca & Ba & Fe & Type\\\\\n",
       "  & <dbl> & <dbl> & <dbl> & <dbl> & <dbl> & <dbl> & <dbl> & <dbl> & <dbl> & <fct>\\\\\n",
       "\\hline\n",
       "\t1 & 1.52101 & 13.64 & 4.49 & 1.10 & 71.78 & 0.06 & 8.75 & 0 & 0.00 & 1\\\\\n",
       "\t2 & 1.51761 & 13.89 & 3.60 & 1.36 & 72.73 & 0.48 & 7.83 & 0 & 0.00 & 1\\\\\n",
       "\t3 & 1.51618 & 13.53 & 3.55 & 1.54 & 72.99 & 0.39 & 7.78 & 0 & 0.00 & 1\\\\\n",
       "\t4 & 1.51766 & 13.21 & 3.69 & 1.29 & 72.61 & 0.57 & 8.22 & 0 & 0.00 & 1\\\\\n",
       "\t5 & 1.51742 & 13.27 & 3.62 & 1.24 & 73.08 & 0.55 & 8.07 & 0 & 0.00 & 1\\\\\n",
       "\t6 & 1.51596 & 12.79 & 3.61 & 1.62 & 72.97 & 0.64 & 8.07 & 0 & 0.26 & 1\\\\\n",
       "\t7 & 1.51743 & 13.30 & 3.60 & 1.14 & 73.09 & 0.58 & 8.17 & 0 & 0.00 & 1\\\\\n",
       "\t8 & 1.51756 & 13.15 & 3.61 & 1.05 & 73.24 & 0.57 & 8.24 & 0 & 0.00 & 1\\\\\n",
       "\t9 & 1.51918 & 14.04 & 3.58 & 1.37 & 72.08 & 0.56 & 8.30 & 0 & 0.00 & 1\\\\\n",
       "\t10 & 1.51755 & 13.00 & 3.60 & 1.36 & 72.99 & 0.57 & 8.40 & 0 & 0.11 & 1\\\\\n",
       "\t11 & 1.51571 & 12.72 & 3.46 & 1.56 & 73.20 & 0.67 & 8.09 & 0 & 0.24 & 1\\\\\n",
       "\t12 & 1.51763 & 12.80 & 3.66 & 1.27 & 73.01 & 0.60 & 8.56 & 0 & 0.00 & 1\\\\\n",
       "\t13 & 1.51589 & 12.88 & 3.43 & 1.40 & 73.28 & 0.69 & 8.05 & 0 & 0.24 & 1\\\\\n",
       "\t14 & 1.51748 & 12.86 & 3.56 & 1.27 & 73.21 & 0.54 & 8.38 & 0 & 0.17 & 1\\\\\n",
       "\t15 & 1.51763 & 12.61 & 3.59 & 1.31 & 73.29 & 0.58 & 8.50 & 0 & 0.00 & 1\\\\\n",
       "\t16 & 1.51761 & 12.81 & 3.54 & 1.23 & 73.24 & 0.58 & 8.39 & 0 & 0.00 & 1\\\\\n",
       "\t17 & 1.51784 & 12.68 & 3.67 & 1.16 & 73.11 & 0.61 & 8.70 & 0 & 0.00 & 1\\\\\n",
       "\t18 & 1.52196 & 14.36 & 3.85 & 0.89 & 71.36 & 0.15 & 9.15 & 0 & 0.00 & 1\\\\\n",
       "\t19 & 1.51911 & 13.90 & 3.73 & 1.18 & 72.12 & 0.06 & 8.89 & 0 & 0.00 & 1\\\\\n",
       "\t20 & 1.51735 & 13.02 & 3.54 & 1.69 & 72.73 & 0.54 & 8.44 & 0 & 0.07 & 1\\\\\n",
       "\t21 & 1.51750 & 12.82 & 3.55 & 1.49 & 72.75 & 0.54 & 8.52 & 0 & 0.19 & 1\\\\\n",
       "\t22 & 1.51966 & 14.77 & 3.75 & 0.29 & 72.02 & 0.03 & 9.00 & 0 & 0.00 & 1\\\\\n",
       "\t23 & 1.51736 & 12.78 & 3.62 & 1.29 & 72.79 & 0.59 & 8.70 & 0 & 0.00 & 1\\\\\n",
       "\t24 & 1.51751 & 12.81 & 3.57 & 1.35 & 73.02 & 0.62 & 8.59 & 0 & 0.00 & 1\\\\\n",
       "\t25 & 1.51720 & 13.38 & 3.50 & 1.15 & 72.85 & 0.50 & 8.43 & 0 & 0.00 & 1\\\\\n",
       "\t26 & 1.51764 & 12.98 & 3.54 & 1.21 & 73.00 & 0.65 & 8.53 & 0 & 0.00 & 1\\\\\n",
       "\t27 & 1.51793 & 13.21 & 3.48 & 1.41 & 72.64 & 0.59 & 8.43 & 0 & 0.00 & 1\\\\\n",
       "\t28 & 1.51721 & 12.87 & 3.48 & 1.33 & 73.04 & 0.56 & 8.43 & 0 & 0.00 & 1\\\\\n",
       "\t29 & 1.51768 & 12.56 & 3.52 & 1.43 & 73.15 & 0.57 & 8.54 & 0 & 0.00 & 1\\\\\n",
       "\t30 & 1.51784 & 13.08 & 3.49 & 1.28 & 72.86 & 0.60 & 8.49 & 0 & 0.00 & 1\\\\\n",
       "\t⋮ & ⋮ & ⋮ & ⋮ & ⋮ & ⋮ & ⋮ & ⋮ & ⋮ & ⋮ & ⋮\\\\\n",
       "\t185 & 1.51115 & 17.38 & 0.00 & 0.34 & 75.41 & 0.00 & 6.65 & 0.00 & 0.00 & 6\\\\\n",
       "\t186 & 1.51131 & 13.69 & 3.20 & 1.81 & 72.81 & 1.76 & 5.43 & 1.19 & 0.00 & 7\\\\\n",
       "\t187 & 1.51838 & 14.32 & 3.26 & 2.22 & 71.25 & 1.46 & 5.79 & 1.63 & 0.00 & 7\\\\\n",
       "\t188 & 1.52315 & 13.44 & 3.34 & 1.23 & 72.38 & 0.60 & 8.83 & 0.00 & 0.00 & 7\\\\\n",
       "\t189 & 1.52247 & 14.86 & 2.20 & 2.06 & 70.26 & 0.76 & 9.76 & 0.00 & 0.00 & 7\\\\\n",
       "\t190 & 1.52365 & 15.79 & 1.83 & 1.31 & 70.43 & 0.31 & 8.61 & 1.68 & 0.00 & 7\\\\\n",
       "\t191 & 1.51613 & 13.88 & 1.78 & 1.79 & 73.10 & 0.00 & 8.67 & 0.76 & 0.00 & 7\\\\\n",
       "\t192 & 1.51602 & 14.85 & 0.00 & 2.38 & 73.28 & 0.00 & 8.76 & 0.64 & 0.09 & 7\\\\\n",
       "\t193 & 1.51623 & 14.20 & 0.00 & 2.79 & 73.46 & 0.04 & 9.04 & 0.40 & 0.09 & 7\\\\\n",
       "\t194 & 1.51719 & 14.75 & 0.00 & 2.00 & 73.02 & 0.00 & 8.53 & 1.59 & 0.08 & 7\\\\\n",
       "\t195 & 1.51683 & 14.56 & 0.00 & 1.98 & 73.29 & 0.00 & 8.52 & 1.57 & 0.07 & 7\\\\\n",
       "\t196 & 1.51545 & 14.14 & 0.00 & 2.68 & 73.39 & 0.08 & 9.07 & 0.61 & 0.05 & 7\\\\\n",
       "\t197 & 1.51556 & 13.87 & 0.00 & 2.54 & 73.23 & 0.14 & 9.41 & 0.81 & 0.01 & 7\\\\\n",
       "\t198 & 1.51727 & 14.70 & 0.00 & 2.34 & 73.28 & 0.00 & 8.95 & 0.66 & 0.00 & 7\\\\\n",
       "\t199 & 1.51531 & 14.38 & 0.00 & 2.66 & 73.10 & 0.04 & 9.08 & 0.64 & 0.00 & 7\\\\\n",
       "\t200 & 1.51609 & 15.01 & 0.00 & 2.51 & 73.05 & 0.05 & 8.83 & 0.53 & 0.00 & 7\\\\\n",
       "\t201 & 1.51508 & 15.15 & 0.00 & 2.25 & 73.50 & 0.00 & 8.34 & 0.63 & 0.00 & 7\\\\\n",
       "\t202 & 1.51653 & 11.95 & 0.00 & 1.19 & 75.18 & 2.70 & 8.93 & 0.00 & 0.00 & 7\\\\\n",
       "\t203 & 1.51514 & 14.85 & 0.00 & 2.42 & 73.72 & 0.00 & 8.39 & 0.56 & 0.00 & 7\\\\\n",
       "\t204 & 1.51658 & 14.80 & 0.00 & 1.99 & 73.11 & 0.00 & 8.28 & 1.71 & 0.00 & 7\\\\\n",
       "\t205 & 1.51617 & 14.95 & 0.00 & 2.27 & 73.30 & 0.00 & 8.71 & 0.67 & 0.00 & 7\\\\\n",
       "\t206 & 1.51732 & 14.95 & 0.00 & 1.80 & 72.99 & 0.00 & 8.61 & 1.55 & 0.00 & 7\\\\\n",
       "\t207 & 1.51645 & 14.94 & 0.00 & 1.87 & 73.11 & 0.00 & 8.67 & 1.38 & 0.00 & 7\\\\\n",
       "\t208 & 1.51831 & 14.39 & 0.00 & 1.82 & 72.86 & 1.41 & 6.47 & 2.88 & 0.00 & 7\\\\\n",
       "\t209 & 1.51640 & 14.37 & 0.00 & 2.74 & 72.85 & 0.00 & 9.45 & 0.54 & 0.00 & 7\\\\\n",
       "\t210 & 1.51623 & 14.14 & 0.00 & 2.88 & 72.61 & 0.08 & 9.18 & 1.06 & 0.00 & 7\\\\\n",
       "\t211 & 1.51685 & 14.92 & 0.00 & 1.99 & 73.06 & 0.00 & 8.40 & 1.59 & 0.00 & 7\\\\\n",
       "\t212 & 1.52065 & 14.36 & 0.00 & 2.02 & 73.42 & 0.00 & 8.44 & 1.64 & 0.00 & 7\\\\\n",
       "\t213 & 1.51651 & 14.38 & 0.00 & 1.94 & 73.61 & 0.00 & 8.48 & 1.57 & 0.00 & 7\\\\\n",
       "\t214 & 1.51711 & 14.23 & 0.00 & 2.08 & 73.36 & 0.00 & 8.62 & 1.67 & 0.00 & 7\\\\\n",
       "\\end{tabular}\n"
      ],
      "text/markdown": [
       "\n",
       "A data.frame: 214 × 10\n",
       "\n",
       "| <!--/--> | RI &lt;dbl&gt; | Na &lt;dbl&gt; | Mg &lt;dbl&gt; | Al &lt;dbl&gt; | Si &lt;dbl&gt; | K &lt;dbl&gt; | Ca &lt;dbl&gt; | Ba &lt;dbl&gt; | Fe &lt;dbl&gt; | Type &lt;fct&gt; |\n",
       "|---|---|---|---|---|---|---|---|---|---|---|\n",
       "| 1 | 1.52101 | 13.64 | 4.49 | 1.10 | 71.78 | 0.06 | 8.75 | 0 | 0.00 | 1 |\n",
       "| 2 | 1.51761 | 13.89 | 3.60 | 1.36 | 72.73 | 0.48 | 7.83 | 0 | 0.00 | 1 |\n",
       "| 3 | 1.51618 | 13.53 | 3.55 | 1.54 | 72.99 | 0.39 | 7.78 | 0 | 0.00 | 1 |\n",
       "| 4 | 1.51766 | 13.21 | 3.69 | 1.29 | 72.61 | 0.57 | 8.22 | 0 | 0.00 | 1 |\n",
       "| 5 | 1.51742 | 13.27 | 3.62 | 1.24 | 73.08 | 0.55 | 8.07 | 0 | 0.00 | 1 |\n",
       "| 6 | 1.51596 | 12.79 | 3.61 | 1.62 | 72.97 | 0.64 | 8.07 | 0 | 0.26 | 1 |\n",
       "| 7 | 1.51743 | 13.30 | 3.60 | 1.14 | 73.09 | 0.58 | 8.17 | 0 | 0.00 | 1 |\n",
       "| 8 | 1.51756 | 13.15 | 3.61 | 1.05 | 73.24 | 0.57 | 8.24 | 0 | 0.00 | 1 |\n",
       "| 9 | 1.51918 | 14.04 | 3.58 | 1.37 | 72.08 | 0.56 | 8.30 | 0 | 0.00 | 1 |\n",
       "| 10 | 1.51755 | 13.00 | 3.60 | 1.36 | 72.99 | 0.57 | 8.40 | 0 | 0.11 | 1 |\n",
       "| 11 | 1.51571 | 12.72 | 3.46 | 1.56 | 73.20 | 0.67 | 8.09 | 0 | 0.24 | 1 |\n",
       "| 12 | 1.51763 | 12.80 | 3.66 | 1.27 | 73.01 | 0.60 | 8.56 | 0 | 0.00 | 1 |\n",
       "| 13 | 1.51589 | 12.88 | 3.43 | 1.40 | 73.28 | 0.69 | 8.05 | 0 | 0.24 | 1 |\n",
       "| 14 | 1.51748 | 12.86 | 3.56 | 1.27 | 73.21 | 0.54 | 8.38 | 0 | 0.17 | 1 |\n",
       "| 15 | 1.51763 | 12.61 | 3.59 | 1.31 | 73.29 | 0.58 | 8.50 | 0 | 0.00 | 1 |\n",
       "| 16 | 1.51761 | 12.81 | 3.54 | 1.23 | 73.24 | 0.58 | 8.39 | 0 | 0.00 | 1 |\n",
       "| 17 | 1.51784 | 12.68 | 3.67 | 1.16 | 73.11 | 0.61 | 8.70 | 0 | 0.00 | 1 |\n",
       "| 18 | 1.52196 | 14.36 | 3.85 | 0.89 | 71.36 | 0.15 | 9.15 | 0 | 0.00 | 1 |\n",
       "| 19 | 1.51911 | 13.90 | 3.73 | 1.18 | 72.12 | 0.06 | 8.89 | 0 | 0.00 | 1 |\n",
       "| 20 | 1.51735 | 13.02 | 3.54 | 1.69 | 72.73 | 0.54 | 8.44 | 0 | 0.07 | 1 |\n",
       "| 21 | 1.51750 | 12.82 | 3.55 | 1.49 | 72.75 | 0.54 | 8.52 | 0 | 0.19 | 1 |\n",
       "| 22 | 1.51966 | 14.77 | 3.75 | 0.29 | 72.02 | 0.03 | 9.00 | 0 | 0.00 | 1 |\n",
       "| 23 | 1.51736 | 12.78 | 3.62 | 1.29 | 72.79 | 0.59 | 8.70 | 0 | 0.00 | 1 |\n",
       "| 24 | 1.51751 | 12.81 | 3.57 | 1.35 | 73.02 | 0.62 | 8.59 | 0 | 0.00 | 1 |\n",
       "| 25 | 1.51720 | 13.38 | 3.50 | 1.15 | 72.85 | 0.50 | 8.43 | 0 | 0.00 | 1 |\n",
       "| 26 | 1.51764 | 12.98 | 3.54 | 1.21 | 73.00 | 0.65 | 8.53 | 0 | 0.00 | 1 |\n",
       "| 27 | 1.51793 | 13.21 | 3.48 | 1.41 | 72.64 | 0.59 | 8.43 | 0 | 0.00 | 1 |\n",
       "| 28 | 1.51721 | 12.87 | 3.48 | 1.33 | 73.04 | 0.56 | 8.43 | 0 | 0.00 | 1 |\n",
       "| 29 | 1.51768 | 12.56 | 3.52 | 1.43 | 73.15 | 0.57 | 8.54 | 0 | 0.00 | 1 |\n",
       "| 30 | 1.51784 | 13.08 | 3.49 | 1.28 | 72.86 | 0.60 | 8.49 | 0 | 0.00 | 1 |\n",
       "| ⋮ | ⋮ | ⋮ | ⋮ | ⋮ | ⋮ | ⋮ | ⋮ | ⋮ | ⋮ | ⋮ |\n",
       "| 185 | 1.51115 | 17.38 | 0.00 | 0.34 | 75.41 | 0.00 | 6.65 | 0.00 | 0.00 | 6 |\n",
       "| 186 | 1.51131 | 13.69 | 3.20 | 1.81 | 72.81 | 1.76 | 5.43 | 1.19 | 0.00 | 7 |\n",
       "| 187 | 1.51838 | 14.32 | 3.26 | 2.22 | 71.25 | 1.46 | 5.79 | 1.63 | 0.00 | 7 |\n",
       "| 188 | 1.52315 | 13.44 | 3.34 | 1.23 | 72.38 | 0.60 | 8.83 | 0.00 | 0.00 | 7 |\n",
       "| 189 | 1.52247 | 14.86 | 2.20 | 2.06 | 70.26 | 0.76 | 9.76 | 0.00 | 0.00 | 7 |\n",
       "| 190 | 1.52365 | 15.79 | 1.83 | 1.31 | 70.43 | 0.31 | 8.61 | 1.68 | 0.00 | 7 |\n",
       "| 191 | 1.51613 | 13.88 | 1.78 | 1.79 | 73.10 | 0.00 | 8.67 | 0.76 | 0.00 | 7 |\n",
       "| 192 | 1.51602 | 14.85 | 0.00 | 2.38 | 73.28 | 0.00 | 8.76 | 0.64 | 0.09 | 7 |\n",
       "| 193 | 1.51623 | 14.20 | 0.00 | 2.79 | 73.46 | 0.04 | 9.04 | 0.40 | 0.09 | 7 |\n",
       "| 194 | 1.51719 | 14.75 | 0.00 | 2.00 | 73.02 | 0.00 | 8.53 | 1.59 | 0.08 | 7 |\n",
       "| 195 | 1.51683 | 14.56 | 0.00 | 1.98 | 73.29 | 0.00 | 8.52 | 1.57 | 0.07 | 7 |\n",
       "| 196 | 1.51545 | 14.14 | 0.00 | 2.68 | 73.39 | 0.08 | 9.07 | 0.61 | 0.05 | 7 |\n",
       "| 197 | 1.51556 | 13.87 | 0.00 | 2.54 | 73.23 | 0.14 | 9.41 | 0.81 | 0.01 | 7 |\n",
       "| 198 | 1.51727 | 14.70 | 0.00 | 2.34 | 73.28 | 0.00 | 8.95 | 0.66 | 0.00 | 7 |\n",
       "| 199 | 1.51531 | 14.38 | 0.00 | 2.66 | 73.10 | 0.04 | 9.08 | 0.64 | 0.00 | 7 |\n",
       "| 200 | 1.51609 | 15.01 | 0.00 | 2.51 | 73.05 | 0.05 | 8.83 | 0.53 | 0.00 | 7 |\n",
       "| 201 | 1.51508 | 15.15 | 0.00 | 2.25 | 73.50 | 0.00 | 8.34 | 0.63 | 0.00 | 7 |\n",
       "| 202 | 1.51653 | 11.95 | 0.00 | 1.19 | 75.18 | 2.70 | 8.93 | 0.00 | 0.00 | 7 |\n",
       "| 203 | 1.51514 | 14.85 | 0.00 | 2.42 | 73.72 | 0.00 | 8.39 | 0.56 | 0.00 | 7 |\n",
       "| 204 | 1.51658 | 14.80 | 0.00 | 1.99 | 73.11 | 0.00 | 8.28 | 1.71 | 0.00 | 7 |\n",
       "| 205 | 1.51617 | 14.95 | 0.00 | 2.27 | 73.30 | 0.00 | 8.71 | 0.67 | 0.00 | 7 |\n",
       "| 206 | 1.51732 | 14.95 | 0.00 | 1.80 | 72.99 | 0.00 | 8.61 | 1.55 | 0.00 | 7 |\n",
       "| 207 | 1.51645 | 14.94 | 0.00 | 1.87 | 73.11 | 0.00 | 8.67 | 1.38 | 0.00 | 7 |\n",
       "| 208 | 1.51831 | 14.39 | 0.00 | 1.82 | 72.86 | 1.41 | 6.47 | 2.88 | 0.00 | 7 |\n",
       "| 209 | 1.51640 | 14.37 | 0.00 | 2.74 | 72.85 | 0.00 | 9.45 | 0.54 | 0.00 | 7 |\n",
       "| 210 | 1.51623 | 14.14 | 0.00 | 2.88 | 72.61 | 0.08 | 9.18 | 1.06 | 0.00 | 7 |\n",
       "| 211 | 1.51685 | 14.92 | 0.00 | 1.99 | 73.06 | 0.00 | 8.40 | 1.59 | 0.00 | 7 |\n",
       "| 212 | 1.52065 | 14.36 | 0.00 | 2.02 | 73.42 | 0.00 | 8.44 | 1.64 | 0.00 | 7 |\n",
       "| 213 | 1.51651 | 14.38 | 0.00 | 1.94 | 73.61 | 0.00 | 8.48 | 1.57 | 0.00 | 7 |\n",
       "| 214 | 1.51711 | 14.23 | 0.00 | 2.08 | 73.36 | 0.00 | 8.62 | 1.67 | 0.00 | 7 |\n",
       "\n"
      ],
      "text/plain": [
       "    RI      Na    Mg   Al   Si    K    Ca   Ba   Fe   Type\n",
       "1   1.52101 13.64 4.49 1.10 71.78 0.06 8.75 0    0.00 1   \n",
       "2   1.51761 13.89 3.60 1.36 72.73 0.48 7.83 0    0.00 1   \n",
       "3   1.51618 13.53 3.55 1.54 72.99 0.39 7.78 0    0.00 1   \n",
       "4   1.51766 13.21 3.69 1.29 72.61 0.57 8.22 0    0.00 1   \n",
       "5   1.51742 13.27 3.62 1.24 73.08 0.55 8.07 0    0.00 1   \n",
       "6   1.51596 12.79 3.61 1.62 72.97 0.64 8.07 0    0.26 1   \n",
       "7   1.51743 13.30 3.60 1.14 73.09 0.58 8.17 0    0.00 1   \n",
       "8   1.51756 13.15 3.61 1.05 73.24 0.57 8.24 0    0.00 1   \n",
       "9   1.51918 14.04 3.58 1.37 72.08 0.56 8.30 0    0.00 1   \n",
       "10  1.51755 13.00 3.60 1.36 72.99 0.57 8.40 0    0.11 1   \n",
       "11  1.51571 12.72 3.46 1.56 73.20 0.67 8.09 0    0.24 1   \n",
       "12  1.51763 12.80 3.66 1.27 73.01 0.60 8.56 0    0.00 1   \n",
       "13  1.51589 12.88 3.43 1.40 73.28 0.69 8.05 0    0.24 1   \n",
       "14  1.51748 12.86 3.56 1.27 73.21 0.54 8.38 0    0.17 1   \n",
       "15  1.51763 12.61 3.59 1.31 73.29 0.58 8.50 0    0.00 1   \n",
       "16  1.51761 12.81 3.54 1.23 73.24 0.58 8.39 0    0.00 1   \n",
       "17  1.51784 12.68 3.67 1.16 73.11 0.61 8.70 0    0.00 1   \n",
       "18  1.52196 14.36 3.85 0.89 71.36 0.15 9.15 0    0.00 1   \n",
       "19  1.51911 13.90 3.73 1.18 72.12 0.06 8.89 0    0.00 1   \n",
       "20  1.51735 13.02 3.54 1.69 72.73 0.54 8.44 0    0.07 1   \n",
       "21  1.51750 12.82 3.55 1.49 72.75 0.54 8.52 0    0.19 1   \n",
       "22  1.51966 14.77 3.75 0.29 72.02 0.03 9.00 0    0.00 1   \n",
       "23  1.51736 12.78 3.62 1.29 72.79 0.59 8.70 0    0.00 1   \n",
       "24  1.51751 12.81 3.57 1.35 73.02 0.62 8.59 0    0.00 1   \n",
       "25  1.51720 13.38 3.50 1.15 72.85 0.50 8.43 0    0.00 1   \n",
       "26  1.51764 12.98 3.54 1.21 73.00 0.65 8.53 0    0.00 1   \n",
       "27  1.51793 13.21 3.48 1.41 72.64 0.59 8.43 0    0.00 1   \n",
       "28  1.51721 12.87 3.48 1.33 73.04 0.56 8.43 0    0.00 1   \n",
       "29  1.51768 12.56 3.52 1.43 73.15 0.57 8.54 0    0.00 1   \n",
       "30  1.51784 13.08 3.49 1.28 72.86 0.60 8.49 0    0.00 1   \n",
       "⋮   ⋮       ⋮     ⋮    ⋮    ⋮     ⋮    ⋮    ⋮    ⋮    ⋮   \n",
       "185 1.51115 17.38 0.00 0.34 75.41 0.00 6.65 0.00 0.00 6   \n",
       "186 1.51131 13.69 3.20 1.81 72.81 1.76 5.43 1.19 0.00 7   \n",
       "187 1.51838 14.32 3.26 2.22 71.25 1.46 5.79 1.63 0.00 7   \n",
       "188 1.52315 13.44 3.34 1.23 72.38 0.60 8.83 0.00 0.00 7   \n",
       "189 1.52247 14.86 2.20 2.06 70.26 0.76 9.76 0.00 0.00 7   \n",
       "190 1.52365 15.79 1.83 1.31 70.43 0.31 8.61 1.68 0.00 7   \n",
       "191 1.51613 13.88 1.78 1.79 73.10 0.00 8.67 0.76 0.00 7   \n",
       "192 1.51602 14.85 0.00 2.38 73.28 0.00 8.76 0.64 0.09 7   \n",
       "193 1.51623 14.20 0.00 2.79 73.46 0.04 9.04 0.40 0.09 7   \n",
       "194 1.51719 14.75 0.00 2.00 73.02 0.00 8.53 1.59 0.08 7   \n",
       "195 1.51683 14.56 0.00 1.98 73.29 0.00 8.52 1.57 0.07 7   \n",
       "196 1.51545 14.14 0.00 2.68 73.39 0.08 9.07 0.61 0.05 7   \n",
       "197 1.51556 13.87 0.00 2.54 73.23 0.14 9.41 0.81 0.01 7   \n",
       "198 1.51727 14.70 0.00 2.34 73.28 0.00 8.95 0.66 0.00 7   \n",
       "199 1.51531 14.38 0.00 2.66 73.10 0.04 9.08 0.64 0.00 7   \n",
       "200 1.51609 15.01 0.00 2.51 73.05 0.05 8.83 0.53 0.00 7   \n",
       "201 1.51508 15.15 0.00 2.25 73.50 0.00 8.34 0.63 0.00 7   \n",
       "202 1.51653 11.95 0.00 1.19 75.18 2.70 8.93 0.00 0.00 7   \n",
       "203 1.51514 14.85 0.00 2.42 73.72 0.00 8.39 0.56 0.00 7   \n",
       "204 1.51658 14.80 0.00 1.99 73.11 0.00 8.28 1.71 0.00 7   \n",
       "205 1.51617 14.95 0.00 2.27 73.30 0.00 8.71 0.67 0.00 7   \n",
       "206 1.51732 14.95 0.00 1.80 72.99 0.00 8.61 1.55 0.00 7   \n",
       "207 1.51645 14.94 0.00 1.87 73.11 0.00 8.67 1.38 0.00 7   \n",
       "208 1.51831 14.39 0.00 1.82 72.86 1.41 6.47 2.88 0.00 7   \n",
       "209 1.51640 14.37 0.00 2.74 72.85 0.00 9.45 0.54 0.00 7   \n",
       "210 1.51623 14.14 0.00 2.88 72.61 0.08 9.18 1.06 0.00 7   \n",
       "211 1.51685 14.92 0.00 1.99 73.06 0.00 8.40 1.59 0.00 7   \n",
       "212 1.52065 14.36 0.00 2.02 73.42 0.00 8.44 1.64 0.00 7   \n",
       "213 1.51651 14.38 0.00 1.94 73.61 0.00 8.48 1.57 0.00 7   \n",
       "214 1.51711 14.23 0.00 2.08 73.36 0.00 8.62 1.67 0.00 7   "
      ]
     },
     "metadata": {},
     "output_type": "display_data"
    }
   ],
   "source": [
    "Glass"
   ]
  },
  {
   "cell_type": "code",
   "execution_count": 185,
   "id": "0175227b",
   "metadata": {},
   "outputs": [
    {
     "data": {
      "image/png": "[encoded data removed]",
      "text/plain": [
       "plot without title"
      ]
     },
     "metadata": {
      "image/png": {
       "height": 420,
       "width": 420
      }
     },
     "output_type": "display_data"
    }
   ],
   "source": [
    "plot(Glass)"
   ]
  },
  {
   "cell_type": "code",
   "execution_count": 186,
   "id": "5c2816a8",
   "metadata": {},
   "outputs": [
    {
     "data": {
      "image/png": "[encoded data removed]",
      "text/plain": [
       "plot without title"
      ]
     },
     "metadata": {
      "image/png": {
       "height": 420,
       "width": 420
      }
     },
     "output_type": "display_data"
    }
   ],
   "source": [
    "pairs(Glass)"
   ]
  },
  {
   "cell_type": "code",
   "execution_count": 187,
   "id": "099267cb",
   "metadata": {},
   "outputs": [
    {
     "data": {
      "text/html": [
       "<style>\n",
       ".list-inline {list-style: none; margin:0; padding: 0}\n",
       ".list-inline>li {display: inline-block}\n",
       ".list-inline>li:not(:last-child)::after {content: \"\\00b7\"; padding: 0 .5ex}\n",
       "</style>\n",
       "<ol class=list-inline><li>'RI'</li><li>'Na'</li><li>'Mg'</li><li>'Al'</li><li>'Si'</li><li>'K'</li><li>'Ca'</li><li>'Ba'</li><li>'Fe'</li><li>'Type'</li></ol>\n"
      ],
      "text/latex": [
       "\\begin{enumerate*}\n",
       "\\item 'RI'\n",
       "\\item 'Na'\n",
       "\\item 'Mg'\n",
       "\\item 'Al'\n",
       "\\item 'Si'\n",
       "\\item 'K'\n",
       "\\item 'Ca'\n",
       "\\item 'Ba'\n",
       "\\item 'Fe'\n",
       "\\item 'Type'\n",
       "\\end{enumerate*}\n"
      ],
      "text/markdown": [
       "1. 'RI'\n",
       "2. 'Na'\n",
       "3. 'Mg'\n",
       "4. 'Al'\n",
       "5. 'Si'\n",
       "6. 'K'\n",
       "7. 'Ca'\n",
       "8. 'Ba'\n",
       "9. 'Fe'\n",
       "10. 'Type'\n",
       "\n",
       "\n"
      ],
      "text/plain": [
       " [1] \"RI\"   \"Na\"   \"Mg\"   \"Al\"   \"Si\"   \"K\"    \"Ca\"   \"Ba\"   \"Fe\"   \"Type\""
      ]
     },
     "metadata": {},
     "output_type": "display_data"
    }
   ],
   "source": [
    "colnames(Glass)"
   ]
  },
  {
   "cell_type": "raw",
   "id": "aebac3df",
   "metadata": {},
   "source": []
  },
  {
   "cell_type": "code",
   "execution_count": 191,
   "id": "54aa62e6",
   "metadata": {},
   "outputs": [
    {
     "data": {
      "text/html": [
       "<table class=\"dataframe\">\n",
       "<caption>A data.frame: 214 × 10</caption>\n",
       "<thead>\n",
       "\t<tr><th></th><th scope=col>RI</th><th scope=col>Na</th><th scope=col>Mg</th><th scope=col>Al</th><th scope=col>Si</th><th scope=col>K</th><th scope=col>Ca</th><th scope=col>Ba</th><th scope=col>Fe</th><th scope=col>Type</th></tr>\n",
       "\t<tr><th></th><th scope=col>&lt;dbl&gt;</th><th scope=col>&lt;dbl&gt;</th><th scope=col>&lt;dbl&gt;</th><th scope=col>&lt;dbl&gt;</th><th scope=col>&lt;dbl&gt;</th><th scope=col>&lt;dbl&gt;</th><th scope=col>&lt;dbl&gt;</th><th scope=col>&lt;dbl&gt;</th><th scope=col>&lt;dbl&gt;</th><th scope=col>&lt;fct&gt;</th></tr>\n",
       "</thead>\n",
       "<tbody>\n",
       "\t<tr><th scope=row>1</th><td>1.52101</td><td>13.64</td><td>4.49</td><td>1.10</td><td>71.78</td><td>0.06</td><td>8.75</td><td>0</td><td>0.00</td><td>1</td></tr>\n",
       "\t<tr><th scope=row>2</th><td>1.51761</td><td>13.89</td><td>3.60</td><td>1.36</td><td>72.73</td><td>0.48</td><td>7.83</td><td>0</td><td>0.00</td><td>1</td></tr>\n",
       "\t<tr><th scope=row>3</th><td>1.51618</td><td>13.53</td><td>3.55</td><td>1.54</td><td>72.99</td><td>0.39</td><td>7.78</td><td>0</td><td>0.00</td><td>1</td></tr>\n",
       "\t<tr><th scope=row>4</th><td>1.51766</td><td>13.21</td><td>3.69</td><td>1.29</td><td>72.61</td><td>0.57</td><td>8.22</td><td>0</td><td>0.00</td><td>1</td></tr>\n",
       "\t<tr><th scope=row>5</th><td>1.51742</td><td>13.27</td><td>3.62</td><td>1.24</td><td>73.08</td><td>0.55</td><td>8.07</td><td>0</td><td>0.00</td><td>1</td></tr>\n",
       "\t<tr><th scope=row>6</th><td>1.51596</td><td>12.79</td><td>3.61</td><td>1.62</td><td>72.97</td><td>0.64</td><td>8.07</td><td>0</td><td>0.26</td><td>1</td></tr>\n",
       "\t<tr><th scope=row>7</th><td>1.51743</td><td>13.30</td><td>3.60</td><td>1.14</td><td>73.09</td><td>0.58</td><td>8.17</td><td>0</td><td>0.00</td><td>1</td></tr>\n",
       "\t<tr><th scope=row>8</th><td>1.51756</td><td>13.15</td><td>3.61</td><td>1.05</td><td>73.24</td><td>0.57</td><td>8.24</td><td>0</td><td>0.00</td><td>1</td></tr>\n",
       "\t<tr><th scope=row>9</th><td>1.51918</td><td>14.04</td><td>3.58</td><td>1.37</td><td>72.08</td><td>0.56</td><td>8.30</td><td>0</td><td>0.00</td><td>1</td></tr>\n",
       "\t<tr><th scope=row>10</th><td>1.51755</td><td>13.00</td><td>3.60</td><td>1.36</td><td>72.99</td><td>0.57</td><td>8.40</td><td>0</td><td>0.11</td><td>1</td></tr>\n",
       "\t<tr><th scope=row>11</th><td>1.51571</td><td>12.72</td><td>3.46</td><td>1.56</td><td>73.20</td><td>0.67</td><td>8.09</td><td>0</td><td>0.24</td><td>1</td></tr>\n",
       "\t<tr><th scope=row>12</th><td>1.51763</td><td>12.80</td><td>3.66</td><td>1.27</td><td>73.01</td><td>0.60</td><td>8.56</td><td>0</td><td>0.00</td><td>1</td></tr>\n",
       "\t<tr><th scope=row>13</th><td>1.51589</td><td>12.88</td><td>3.43</td><td>1.40</td><td>73.28</td><td>0.69</td><td>8.05</td><td>0</td><td>0.24</td><td>1</td></tr>\n",
       "\t<tr><th scope=row>14</th><td>1.51748</td><td>12.86</td><td>3.56</td><td>1.27</td><td>73.21</td><td>0.54</td><td>8.38</td><td>0</td><td>0.17</td><td>1</td></tr>\n",
       "\t<tr><th scope=row>15</th><td>1.51763</td><td>12.61</td><td>3.59</td><td>1.31</td><td>73.29</td><td>0.58</td><td>8.50</td><td>0</td><td>0.00</td><td>1</td></tr>\n",
       "\t<tr><th scope=row>16</th><td>1.51761</td><td>12.81</td><td>3.54</td><td>1.23</td><td>73.24</td><td>0.58</td><td>8.39</td><td>0</td><td>0.00</td><td>1</td></tr>\n",
       "\t<tr><th scope=row>17</th><td>1.51784</td><td>12.68</td><td>3.67</td><td>1.16</td><td>73.11</td><td>0.61</td><td>8.70</td><td>0</td><td>0.00</td><td>1</td></tr>\n",
       "\t<tr><th scope=row>18</th><td>1.52196</td><td>14.36</td><td>3.85</td><td>0.89</td><td>71.36</td><td>0.15</td><td>9.15</td><td>0</td><td>0.00</td><td>1</td></tr>\n",
       "\t<tr><th scope=row>19</th><td>1.51911</td><td>13.90</td><td>3.73</td><td>1.18</td><td>72.12</td><td>0.06</td><td>8.89</td><td>0</td><td>0.00</td><td>1</td></tr>\n",
       "\t<tr><th scope=row>20</th><td>1.51735</td><td>13.02</td><td>3.54</td><td>1.69</td><td>72.73</td><td>0.54</td><td>8.44</td><td>0</td><td>0.07</td><td>1</td></tr>\n",
       "\t<tr><th scope=row>21</th><td>1.51750</td><td>12.82</td><td>3.55</td><td>1.49</td><td>72.75</td><td>0.54</td><td>8.52</td><td>0</td><td>0.19</td><td>1</td></tr>\n",
       "\t<tr><th scope=row>22</th><td>1.51966</td><td>14.77</td><td>3.75</td><td>0.29</td><td>72.02</td><td>0.03</td><td>9.00</td><td>0</td><td>0.00</td><td>1</td></tr>\n",
       "\t<tr><th scope=row>23</th><td>1.51736</td><td>12.78</td><td>3.62</td><td>1.29</td><td>72.79</td><td>0.59</td><td>8.70</td><td>0</td><td>0.00</td><td>1</td></tr>\n",
       "\t<tr><th scope=row>24</th><td>1.51751</td><td>12.81</td><td>3.57</td><td>1.35</td><td>73.02</td><td>0.62</td><td>8.59</td><td>0</td><td>0.00</td><td>1</td></tr>\n",
       "\t<tr><th scope=row>25</th><td>1.51720</td><td>13.38</td><td>3.50</td><td>1.15</td><td>72.85</td><td>0.50</td><td>8.43</td><td>0</td><td>0.00</td><td>1</td></tr>\n",
       "\t<tr><th scope=row>26</th><td>1.51764</td><td>12.98</td><td>3.54</td><td>1.21</td><td>73.00</td><td>0.65</td><td>8.53</td><td>0</td><td>0.00</td><td>1</td></tr>\n",
       "\t<tr><th scope=row>27</th><td>1.51793</td><td>13.21</td><td>3.48</td><td>1.41</td><td>72.64</td><td>0.59</td><td>8.43</td><td>0</td><td>0.00</td><td>1</td></tr>\n",
       "\t<tr><th scope=row>28</th><td>1.51721</td><td>12.87</td><td>3.48</td><td>1.33</td><td>73.04</td><td>0.56</td><td>8.43</td><td>0</td><td>0.00</td><td>1</td></tr>\n",
       "\t<tr><th scope=row>29</th><td>1.51768</td><td>12.56</td><td>3.52</td><td>1.43</td><td>73.15</td><td>0.57</td><td>8.54</td><td>0</td><td>0.00</td><td>1</td></tr>\n",
       "\t<tr><th scope=row>30</th><td>1.51784</td><td>13.08</td><td>3.49</td><td>1.28</td><td>72.86</td><td>0.60</td><td>8.49</td><td>0</td><td>0.00</td><td>1</td></tr>\n",
       "\t<tr><th scope=row>⋮</th><td>⋮</td><td>⋮</td><td>⋮</td><td>⋮</td><td>⋮</td><td>⋮</td><td>⋮</td><td>⋮</td><td>⋮</td><td>⋮</td></tr>\n",
       "\t<tr><th scope=row>185</th><td>1.51115</td><td>17.38</td><td>0.00</td><td>0.34</td><td>75.41</td><td>0.00</td><td>6.65</td><td>0.00</td><td>0.00</td><td>6</td></tr>\n",
       "\t<tr><th scope=row>186</th><td>1.51131</td><td>13.69</td><td>3.20</td><td>1.81</td><td>72.81</td><td>1.76</td><td>5.43</td><td>1.19</td><td>0.00</td><td>7</td></tr>\n",
       "\t<tr><th scope=row>187</th><td>1.51838</td><td>14.32</td><td>3.26</td><td>2.22</td><td>71.25</td><td>1.46</td><td>5.79</td><td>1.63</td><td>0.00</td><td>7</td></tr>\n",
       "\t<tr><th scope=row>188</th><td>1.52315</td><td>13.44</td><td>3.34</td><td>1.23</td><td>72.38</td><td>0.60</td><td>8.83</td><td>0.00</td><td>0.00</td><td>7</td></tr>\n",
       "\t<tr><th scope=row>189</th><td>1.52247</td><td>14.86</td><td>2.20</td><td>2.06</td><td>70.26</td><td>0.76</td><td>9.76</td><td>0.00</td><td>0.00</td><td>7</td></tr>\n",
       "\t<tr><th scope=row>190</th><td>1.52365</td><td>15.79</td><td>1.83</td><td>1.31</td><td>70.43</td><td>0.31</td><td>8.61</td><td>1.68</td><td>0.00</td><td>7</td></tr>\n",
       "\t<tr><th scope=row>191</th><td>1.51613</td><td>13.88</td><td>1.78</td><td>1.79</td><td>73.10</td><td>0.00</td><td>8.67</td><td>0.76</td><td>0.00</td><td>7</td></tr>\n",
       "\t<tr><th scope=row>192</th><td>1.51602</td><td>14.85</td><td>0.00</td><td>2.38</td><td>73.28</td><td>0.00</td><td>8.76</td><td>0.64</td><td>0.09</td><td>7</td></tr>\n",
       "\t<tr><th scope=row>193</th><td>1.51623</td><td>14.20</td><td>0.00</td><td>2.79</td><td>73.46</td><td>0.04</td><td>9.04</td><td>0.40</td><td>0.09</td><td>7</td></tr>\n",
       "\t<tr><th scope=row>194</th><td>1.51719</td><td>14.75</td><td>0.00</td><td>2.00</td><td>73.02</td><td>0.00</td><td>8.53</td><td>1.59</td><td>0.08</td><td>7</td></tr>\n",
       "\t<tr><th scope=row>195</th><td>1.51683</td><td>14.56</td><td>0.00</td><td>1.98</td><td>73.29</td><td>0.00</td><td>8.52</td><td>1.57</td><td>0.07</td><td>7</td></tr>\n",
       "\t<tr><th scope=row>196</th><td>1.51545</td><td>14.14</td><td>0.00</td><td>2.68</td><td>73.39</td><td>0.08</td><td>9.07</td><td>0.61</td><td>0.05</td><td>7</td></tr>\n",
       "\t<tr><th scope=row>197</th><td>1.51556</td><td>13.87</td><td>0.00</td><td>2.54</td><td>73.23</td><td>0.14</td><td>9.41</td><td>0.81</td><td>0.01</td><td>7</td></tr>\n",
       "\t<tr><th scope=row>198</th><td>1.51727</td><td>14.70</td><td>0.00</td><td>2.34</td><td>73.28</td><td>0.00</td><td>8.95</td><td>0.66</td><td>0.00</td><td>7</td></tr>\n",
       "\t<tr><th scope=row>199</th><td>1.51531</td><td>14.38</td><td>0.00</td><td>2.66</td><td>73.10</td><td>0.04</td><td>9.08</td><td>0.64</td><td>0.00</td><td>7</td></tr>\n",
       "\t<tr><th scope=row>200</th><td>1.51609</td><td>15.01</td><td>0.00</td><td>2.51</td><td>73.05</td><td>0.05</td><td>8.83</td><td>0.53</td><td>0.00</td><td>7</td></tr>\n",
       "\t<tr><th scope=row>201</th><td>1.51508</td><td>15.15</td><td>0.00</td><td>2.25</td><td>73.50</td><td>0.00</td><td>8.34</td><td>0.63</td><td>0.00</td><td>7</td></tr>\n",
       "\t<tr><th scope=row>202</th><td>1.51653</td><td>11.95</td><td>0.00</td><td>1.19</td><td>75.18</td><td>2.70</td><td>8.93</td><td>0.00</td><td>0.00</td><td>7</td></tr>\n",
       "\t<tr><th scope=row>203</th><td>1.51514</td><td>14.85</td><td>0.00</td><td>2.42</td><td>73.72</td><td>0.00</td><td>8.39</td><td>0.56</td><td>0.00</td><td>7</td></tr>\n",
       "\t<tr><th scope=row>204</th><td>1.51658</td><td>14.80</td><td>0.00</td><td>1.99</td><td>73.11</td><td>0.00</td><td>8.28</td><td>1.71</td><td>0.00</td><td>7</td></tr>\n",
       "\t<tr><th scope=row>205</th><td>1.51617</td><td>14.95</td><td>0.00</td><td>2.27</td><td>73.30</td><td>0.00</td><td>8.71</td><td>0.67</td><td>0.00</td><td>7</td></tr>\n",
       "\t<tr><th scope=row>206</th><td>1.51732</td><td>14.95</td><td>0.00</td><td>1.80</td><td>72.99</td><td>0.00</td><td>8.61</td><td>1.55</td><td>0.00</td><td>7</td></tr>\n",
       "\t<tr><th scope=row>207</th><td>1.51645</td><td>14.94</td><td>0.00</td><td>1.87</td><td>73.11</td><td>0.00</td><td>8.67</td><td>1.38</td><td>0.00</td><td>7</td></tr>\n",
       "\t<tr><th scope=row>208</th><td>1.51831</td><td>14.39</td><td>0.00</td><td>1.82</td><td>72.86</td><td>1.41</td><td>6.47</td><td>2.88</td><td>0.00</td><td>7</td></tr>\n",
       "\t<tr><th scope=row>209</th><td>1.51640</td><td>14.37</td><td>0.00</td><td>2.74</td><td>72.85</td><td>0.00</td><td>9.45</td><td>0.54</td><td>0.00</td><td>7</td></tr>\n",
       "\t<tr><th scope=row>210</th><td>1.51623</td><td>14.14</td><td>0.00</td><td>2.88</td><td>72.61</td><td>0.08</td><td>9.18</td><td>1.06</td><td>0.00</td><td>7</td></tr>\n",
       "\t<tr><th scope=row>211</th><td>1.51685</td><td>14.92</td><td>0.00</td><td>1.99</td><td>73.06</td><td>0.00</td><td>8.40</td><td>1.59</td><td>0.00</td><td>7</td></tr>\n",
       "\t<tr><th scope=row>212</th><td>1.52065</td><td>14.36</td><td>0.00</td><td>2.02</td><td>73.42</td><td>0.00</td><td>8.44</td><td>1.64</td><td>0.00</td><td>7</td></tr>\n",
       "\t<tr><th scope=row>213</th><td>1.51651</td><td>14.38</td><td>0.00</td><td>1.94</td><td>73.61</td><td>0.00</td><td>8.48</td><td>1.57</td><td>0.00</td><td>7</td></tr>\n",
       "\t<tr><th scope=row>214</th><td>1.51711</td><td>14.23</td><td>0.00</td><td>2.08</td><td>73.36</td><td>0.00</td><td>8.62</td><td>1.67</td><td>0.00</td><td>7</td></tr>\n",
       "</tbody>\n",
       "</table>\n"
      ],
      "text/latex": [
       "A data.frame: 214 × 10\n",
       "\\begin{tabular}{r|llllllllll}\n",
       "  & RI & Na & Mg & Al & Si & K & Ca & Ba & Fe & Type\\\\\n",
       "  & <dbl> & <dbl> & <dbl> & <dbl> & <dbl> & <dbl> & <dbl> & <dbl> & <dbl> & <fct>\\\\\n",
       "\\hline\n",
       "\t1 & 1.52101 & 13.64 & 4.49 & 1.10 & 71.78 & 0.06 & 8.75 & 0 & 0.00 & 1\\\\\n",
       "\t2 & 1.51761 & 13.89 & 3.60 & 1.36 & 72.73 & 0.48 & 7.83 & 0 & 0.00 & 1\\\\\n",
       "\t3 & 1.51618 & 13.53 & 3.55 & 1.54 & 72.99 & 0.39 & 7.78 & 0 & 0.00 & 1\\\\\n",
       "\t4 & 1.51766 & 13.21 & 3.69 & 1.29 & 72.61 & 0.57 & 8.22 & 0 & 0.00 & 1\\\\\n",
       "\t5 & 1.51742 & 13.27 & 3.62 & 1.24 & 73.08 & 0.55 & 8.07 & 0 & 0.00 & 1\\\\\n",
       "\t6 & 1.51596 & 12.79 & 3.61 & 1.62 & 72.97 & 0.64 & 8.07 & 0 & 0.26 & 1\\\\\n",
       "\t7 & 1.51743 & 13.30 & 3.60 & 1.14 & 73.09 & 0.58 & 8.17 & 0 & 0.00 & 1\\\\\n",
       "\t8 & 1.51756 & 13.15 & 3.61 & 1.05 & 73.24 & 0.57 & 8.24 & 0 & 0.00 & 1\\\\\n",
       "\t9 & 1.51918 & 14.04 & 3.58 & 1.37 & 72.08 & 0.56 & 8.30 & 0 & 0.00 & 1\\\\\n",
       "\t10 & 1.51755 & 13.00 & 3.60 & 1.36 & 72.99 & 0.57 & 8.40 & 0 & 0.11 & 1\\\\\n",
       "\t11 & 1.51571 & 12.72 & 3.46 & 1.56 & 73.20 & 0.67 & 8.09 & 0 & 0.24 & 1\\\\\n",
       "\t12 & 1.51763 & 12.80 & 3.66 & 1.27 & 73.01 & 0.60 & 8.56 & 0 & 0.00 & 1\\\\\n",
       "\t13 & 1.51589 & 12.88 & 3.43 & 1.40 & 73.28 & 0.69 & 8.05 & 0 & 0.24 & 1\\\\\n",
       "\t14 & 1.51748 & 12.86 & 3.56 & 1.27 & 73.21 & 0.54 & 8.38 & 0 & 0.17 & 1\\\\\n",
       "\t15 & 1.51763 & 12.61 & 3.59 & 1.31 & 73.29 & 0.58 & 8.50 & 0 & 0.00 & 1\\\\\n",
       "\t16 & 1.51761 & 12.81 & 3.54 & 1.23 & 73.24 & 0.58 & 8.39 & 0 & 0.00 & 1\\\\\n",
       "\t17 & 1.51784 & 12.68 & 3.67 & 1.16 & 73.11 & 0.61 & 8.70 & 0 & 0.00 & 1\\\\\n",
       "\t18 & 1.52196 & 14.36 & 3.85 & 0.89 & 71.36 & 0.15 & 9.15 & 0 & 0.00 & 1\\\\\n",
       "\t19 & 1.51911 & 13.90 & 3.73 & 1.18 & 72.12 & 0.06 & 8.89 & 0 & 0.00 & 1\\\\\n",
       "\t20 & 1.51735 & 13.02 & 3.54 & 1.69 & 72.73 & 0.54 & 8.44 & 0 & 0.07 & 1\\\\\n",
       "\t21 & 1.51750 & 12.82 & 3.55 & 1.49 & 72.75 & 0.54 & 8.52 & 0 & 0.19 & 1\\\\\n",
       "\t22 & 1.51966 & 14.77 & 3.75 & 0.29 & 72.02 & 0.03 & 9.00 & 0 & 0.00 & 1\\\\\n",
       "\t23 & 1.51736 & 12.78 & 3.62 & 1.29 & 72.79 & 0.59 & 8.70 & 0 & 0.00 & 1\\\\\n",
       "\t24 & 1.51751 & 12.81 & 3.57 & 1.35 & 73.02 & 0.62 & 8.59 & 0 & 0.00 & 1\\\\\n",
       "\t25 & 1.51720 & 13.38 & 3.50 & 1.15 & 72.85 & 0.50 & 8.43 & 0 & 0.00 & 1\\\\\n",
       "\t26 & 1.51764 & 12.98 & 3.54 & 1.21 & 73.00 & 0.65 & 8.53 & 0 & 0.00 & 1\\\\\n",
       "\t27 & 1.51793 & 13.21 & 3.48 & 1.41 & 72.64 & 0.59 & 8.43 & 0 & 0.00 & 1\\\\\n",
       "\t28 & 1.51721 & 12.87 & 3.48 & 1.33 & 73.04 & 0.56 & 8.43 & 0 & 0.00 & 1\\\\\n",
       "\t29 & 1.51768 & 12.56 & 3.52 & 1.43 & 73.15 & 0.57 & 8.54 & 0 & 0.00 & 1\\\\\n",
       "\t30 & 1.51784 & 13.08 & 3.49 & 1.28 & 72.86 & 0.60 & 8.49 & 0 & 0.00 & 1\\\\\n",
       "\t⋮ & ⋮ & ⋮ & ⋮ & ⋮ & ⋮ & ⋮ & ⋮ & ⋮ & ⋮ & ⋮\\\\\n",
       "\t185 & 1.51115 & 17.38 & 0.00 & 0.34 & 75.41 & 0.00 & 6.65 & 0.00 & 0.00 & 6\\\\\n",
       "\t186 & 1.51131 & 13.69 & 3.20 & 1.81 & 72.81 & 1.76 & 5.43 & 1.19 & 0.00 & 7\\\\\n",
       "\t187 & 1.51838 & 14.32 & 3.26 & 2.22 & 71.25 & 1.46 & 5.79 & 1.63 & 0.00 & 7\\\\\n",
       "\t188 & 1.52315 & 13.44 & 3.34 & 1.23 & 72.38 & 0.60 & 8.83 & 0.00 & 0.00 & 7\\\\\n",
       "\t189 & 1.52247 & 14.86 & 2.20 & 2.06 & 70.26 & 0.76 & 9.76 & 0.00 & 0.00 & 7\\\\\n",
       "\t190 & 1.52365 & 15.79 & 1.83 & 1.31 & 70.43 & 0.31 & 8.61 & 1.68 & 0.00 & 7\\\\\n",
       "\t191 & 1.51613 & 13.88 & 1.78 & 1.79 & 73.10 & 0.00 & 8.67 & 0.76 & 0.00 & 7\\\\\n",
       "\t192 & 1.51602 & 14.85 & 0.00 & 2.38 & 73.28 & 0.00 & 8.76 & 0.64 & 0.09 & 7\\\\\n",
       "\t193 & 1.51623 & 14.20 & 0.00 & 2.79 & 73.46 & 0.04 & 9.04 & 0.40 & 0.09 & 7\\\\\n",
       "\t194 & 1.51719 & 14.75 & 0.00 & 2.00 & 73.02 & 0.00 & 8.53 & 1.59 & 0.08 & 7\\\\\n",
       "\t195 & 1.51683 & 14.56 & 0.00 & 1.98 & 73.29 & 0.00 & 8.52 & 1.57 & 0.07 & 7\\\\\n",
       "\t196 & 1.51545 & 14.14 & 0.00 & 2.68 & 73.39 & 0.08 & 9.07 & 0.61 & 0.05 & 7\\\\\n",
       "\t197 & 1.51556 & 13.87 & 0.00 & 2.54 & 73.23 & 0.14 & 9.41 & 0.81 & 0.01 & 7\\\\\n",
       "\t198 & 1.51727 & 14.70 & 0.00 & 2.34 & 73.28 & 0.00 & 8.95 & 0.66 & 0.00 & 7\\\\\n",
       "\t199 & 1.51531 & 14.38 & 0.00 & 2.66 & 73.10 & 0.04 & 9.08 & 0.64 & 0.00 & 7\\\\\n",
       "\t200 & 1.51609 & 15.01 & 0.00 & 2.51 & 73.05 & 0.05 & 8.83 & 0.53 & 0.00 & 7\\\\\n",
       "\t201 & 1.51508 & 15.15 & 0.00 & 2.25 & 73.50 & 0.00 & 8.34 & 0.63 & 0.00 & 7\\\\\n",
       "\t202 & 1.51653 & 11.95 & 0.00 & 1.19 & 75.18 & 2.70 & 8.93 & 0.00 & 0.00 & 7\\\\\n",
       "\t203 & 1.51514 & 14.85 & 0.00 & 2.42 & 73.72 & 0.00 & 8.39 & 0.56 & 0.00 & 7\\\\\n",
       "\t204 & 1.51658 & 14.80 & 0.00 & 1.99 & 73.11 & 0.00 & 8.28 & 1.71 & 0.00 & 7\\\\\n",
       "\t205 & 1.51617 & 14.95 & 0.00 & 2.27 & 73.30 & 0.00 & 8.71 & 0.67 & 0.00 & 7\\\\\n",
       "\t206 & 1.51732 & 14.95 & 0.00 & 1.80 & 72.99 & 0.00 & 8.61 & 1.55 & 0.00 & 7\\\\\n",
       "\t207 & 1.51645 & 14.94 & 0.00 & 1.87 & 73.11 & 0.00 & 8.67 & 1.38 & 0.00 & 7\\\\\n",
       "\t208 & 1.51831 & 14.39 & 0.00 & 1.82 & 72.86 & 1.41 & 6.47 & 2.88 & 0.00 & 7\\\\\n",
       "\t209 & 1.51640 & 14.37 & 0.00 & 2.74 & 72.85 & 0.00 & 9.45 & 0.54 & 0.00 & 7\\\\\n",
       "\t210 & 1.51623 & 14.14 & 0.00 & 2.88 & 72.61 & 0.08 & 9.18 & 1.06 & 0.00 & 7\\\\\n",
       "\t211 & 1.51685 & 14.92 & 0.00 & 1.99 & 73.06 & 0.00 & 8.40 & 1.59 & 0.00 & 7\\\\\n",
       "\t212 & 1.52065 & 14.36 & 0.00 & 2.02 & 73.42 & 0.00 & 8.44 & 1.64 & 0.00 & 7\\\\\n",
       "\t213 & 1.51651 & 14.38 & 0.00 & 1.94 & 73.61 & 0.00 & 8.48 & 1.57 & 0.00 & 7\\\\\n",
       "\t214 & 1.51711 & 14.23 & 0.00 & 2.08 & 73.36 & 0.00 & 8.62 & 1.67 & 0.00 & 7\\\\\n",
       "\\end{tabular}\n"
      ],
      "text/markdown": [
       "\n",
       "A data.frame: 214 × 10\n",
       "\n",
       "| <!--/--> | RI &lt;dbl&gt; | Na &lt;dbl&gt; | Mg &lt;dbl&gt; | Al &lt;dbl&gt; | Si &lt;dbl&gt; | K &lt;dbl&gt; | Ca &lt;dbl&gt; | Ba &lt;dbl&gt; | Fe &lt;dbl&gt; | Type &lt;fct&gt; |\n",
       "|---|---|---|---|---|---|---|---|---|---|---|\n",
       "| 1 | 1.52101 | 13.64 | 4.49 | 1.10 | 71.78 | 0.06 | 8.75 | 0 | 0.00 | 1 |\n",
       "| 2 | 1.51761 | 13.89 | 3.60 | 1.36 | 72.73 | 0.48 | 7.83 | 0 | 0.00 | 1 |\n",
       "| 3 | 1.51618 | 13.53 | 3.55 | 1.54 | 72.99 | 0.39 | 7.78 | 0 | 0.00 | 1 |\n",
       "| 4 | 1.51766 | 13.21 | 3.69 | 1.29 | 72.61 | 0.57 | 8.22 | 0 | 0.00 | 1 |\n",
       "| 5 | 1.51742 | 13.27 | 3.62 | 1.24 | 73.08 | 0.55 | 8.07 | 0 | 0.00 | 1 |\n",
       "| 6 | 1.51596 | 12.79 | 3.61 | 1.62 | 72.97 | 0.64 | 8.07 | 0 | 0.26 | 1 |\n",
       "| 7 | 1.51743 | 13.30 | 3.60 | 1.14 | 73.09 | 0.58 | 8.17 | 0 | 0.00 | 1 |\n",
       "| 8 | 1.51756 | 13.15 | 3.61 | 1.05 | 73.24 | 0.57 | 8.24 | 0 | 0.00 | 1 |\n",
       "| 9 | 1.51918 | 14.04 | 3.58 | 1.37 | 72.08 | 0.56 | 8.30 | 0 | 0.00 | 1 |\n",
       "| 10 | 1.51755 | 13.00 | 3.60 | 1.36 | 72.99 | 0.57 | 8.40 | 0 | 0.11 | 1 |\n",
       "| 11 | 1.51571 | 12.72 | 3.46 | 1.56 | 73.20 | 0.67 | 8.09 | 0 | 0.24 | 1 |\n",
       "| 12 | 1.51763 | 12.80 | 3.66 | 1.27 | 73.01 | 0.60 | 8.56 | 0 | 0.00 | 1 |\n",
       "| 13 | 1.51589 | 12.88 | 3.43 | 1.40 | 73.28 | 0.69 | 8.05 | 0 | 0.24 | 1 |\n",
       "| 14 | 1.51748 | 12.86 | 3.56 | 1.27 | 73.21 | 0.54 | 8.38 | 0 | 0.17 | 1 |\n",
       "| 15 | 1.51763 | 12.61 | 3.59 | 1.31 | 73.29 | 0.58 | 8.50 | 0 | 0.00 | 1 |\n",
       "| 16 | 1.51761 | 12.81 | 3.54 | 1.23 | 73.24 | 0.58 | 8.39 | 0 | 0.00 | 1 |\n",
       "| 17 | 1.51784 | 12.68 | 3.67 | 1.16 | 73.11 | 0.61 | 8.70 | 0 | 0.00 | 1 |\n",
       "| 18 | 1.52196 | 14.36 | 3.85 | 0.89 | 71.36 | 0.15 | 9.15 | 0 | 0.00 | 1 |\n",
       "| 19 | 1.51911 | 13.90 | 3.73 | 1.18 | 72.12 | 0.06 | 8.89 | 0 | 0.00 | 1 |\n",
       "| 20 | 1.51735 | 13.02 | 3.54 | 1.69 | 72.73 | 0.54 | 8.44 | 0 | 0.07 | 1 |\n",
       "| 21 | 1.51750 | 12.82 | 3.55 | 1.49 | 72.75 | 0.54 | 8.52 | 0 | 0.19 | 1 |\n",
       "| 22 | 1.51966 | 14.77 | 3.75 | 0.29 | 72.02 | 0.03 | 9.00 | 0 | 0.00 | 1 |\n",
       "| 23 | 1.51736 | 12.78 | 3.62 | 1.29 | 72.79 | 0.59 | 8.70 | 0 | 0.00 | 1 |\n",
       "| 24 | 1.51751 | 12.81 | 3.57 | 1.35 | 73.02 | 0.62 | 8.59 | 0 | 0.00 | 1 |\n",
       "| 25 | 1.51720 | 13.38 | 3.50 | 1.15 | 72.85 | 0.50 | 8.43 | 0 | 0.00 | 1 |\n",
       "| 26 | 1.51764 | 12.98 | 3.54 | 1.21 | 73.00 | 0.65 | 8.53 | 0 | 0.00 | 1 |\n",
       "| 27 | 1.51793 | 13.21 | 3.48 | 1.41 | 72.64 | 0.59 | 8.43 | 0 | 0.00 | 1 |\n",
       "| 28 | 1.51721 | 12.87 | 3.48 | 1.33 | 73.04 | 0.56 | 8.43 | 0 | 0.00 | 1 |\n",
       "| 29 | 1.51768 | 12.56 | 3.52 | 1.43 | 73.15 | 0.57 | 8.54 | 0 | 0.00 | 1 |\n",
       "| 30 | 1.51784 | 13.08 | 3.49 | 1.28 | 72.86 | 0.60 | 8.49 | 0 | 0.00 | 1 |\n",
       "| ⋮ | ⋮ | ⋮ | ⋮ | ⋮ | ⋮ | ⋮ | ⋮ | ⋮ | ⋮ | ⋮ |\n",
       "| 185 | 1.51115 | 17.38 | 0.00 | 0.34 | 75.41 | 0.00 | 6.65 | 0.00 | 0.00 | 6 |\n",
       "| 186 | 1.51131 | 13.69 | 3.20 | 1.81 | 72.81 | 1.76 | 5.43 | 1.19 | 0.00 | 7 |\n",
       "| 187 | 1.51838 | 14.32 | 3.26 | 2.22 | 71.25 | 1.46 | 5.79 | 1.63 | 0.00 | 7 |\n",
       "| 188 | 1.52315 | 13.44 | 3.34 | 1.23 | 72.38 | 0.60 | 8.83 | 0.00 | 0.00 | 7 |\n",
       "| 189 | 1.52247 | 14.86 | 2.20 | 2.06 | 70.26 | 0.76 | 9.76 | 0.00 | 0.00 | 7 |\n",
       "| 190 | 1.52365 | 15.79 | 1.83 | 1.31 | 70.43 | 0.31 | 8.61 | 1.68 | 0.00 | 7 |\n",
       "| 191 | 1.51613 | 13.88 | 1.78 | 1.79 | 73.10 | 0.00 | 8.67 | 0.76 | 0.00 | 7 |\n",
       "| 192 | 1.51602 | 14.85 | 0.00 | 2.38 | 73.28 | 0.00 | 8.76 | 0.64 | 0.09 | 7 |\n",
       "| 193 | 1.51623 | 14.20 | 0.00 | 2.79 | 73.46 | 0.04 | 9.04 | 0.40 | 0.09 | 7 |\n",
       "| 194 | 1.51719 | 14.75 | 0.00 | 2.00 | 73.02 | 0.00 | 8.53 | 1.59 | 0.08 | 7 |\n",
       "| 195 | 1.51683 | 14.56 | 0.00 | 1.98 | 73.29 | 0.00 | 8.52 | 1.57 | 0.07 | 7 |\n",
       "| 196 | 1.51545 | 14.14 | 0.00 | 2.68 | 73.39 | 0.08 | 9.07 | 0.61 | 0.05 | 7 |\n",
       "| 197 | 1.51556 | 13.87 | 0.00 | 2.54 | 73.23 | 0.14 | 9.41 | 0.81 | 0.01 | 7 |\n",
       "| 198 | 1.51727 | 14.70 | 0.00 | 2.34 | 73.28 | 0.00 | 8.95 | 0.66 | 0.00 | 7 |\n",
       "| 199 | 1.51531 | 14.38 | 0.00 | 2.66 | 73.10 | 0.04 | 9.08 | 0.64 | 0.00 | 7 |\n",
       "| 200 | 1.51609 | 15.01 | 0.00 | 2.51 | 73.05 | 0.05 | 8.83 | 0.53 | 0.00 | 7 |\n",
       "| 201 | 1.51508 | 15.15 | 0.00 | 2.25 | 73.50 | 0.00 | 8.34 | 0.63 | 0.00 | 7 |\n",
       "| 202 | 1.51653 | 11.95 | 0.00 | 1.19 | 75.18 | 2.70 | 8.93 | 0.00 | 0.00 | 7 |\n",
       "| 203 | 1.51514 | 14.85 | 0.00 | 2.42 | 73.72 | 0.00 | 8.39 | 0.56 | 0.00 | 7 |\n",
       "| 204 | 1.51658 | 14.80 | 0.00 | 1.99 | 73.11 | 0.00 | 8.28 | 1.71 | 0.00 | 7 |\n",
       "| 205 | 1.51617 | 14.95 | 0.00 | 2.27 | 73.30 | 0.00 | 8.71 | 0.67 | 0.00 | 7 |\n",
       "| 206 | 1.51732 | 14.95 | 0.00 | 1.80 | 72.99 | 0.00 | 8.61 | 1.55 | 0.00 | 7 |\n",
       "| 207 | 1.51645 | 14.94 | 0.00 | 1.87 | 73.11 | 0.00 | 8.67 | 1.38 | 0.00 | 7 |\n",
       "| 208 | 1.51831 | 14.39 | 0.00 | 1.82 | 72.86 | 1.41 | 6.47 | 2.88 | 0.00 | 7 |\n",
       "| 209 | 1.51640 | 14.37 | 0.00 | 2.74 | 72.85 | 0.00 | 9.45 | 0.54 | 0.00 | 7 |\n",
       "| 210 | 1.51623 | 14.14 | 0.00 | 2.88 | 72.61 | 0.08 | 9.18 | 1.06 | 0.00 | 7 |\n",
       "| 211 | 1.51685 | 14.92 | 0.00 | 1.99 | 73.06 | 0.00 | 8.40 | 1.59 | 0.00 | 7 |\n",
       "| 212 | 1.52065 | 14.36 | 0.00 | 2.02 | 73.42 | 0.00 | 8.44 | 1.64 | 0.00 | 7 |\n",
       "| 213 | 1.51651 | 14.38 | 0.00 | 1.94 | 73.61 | 0.00 | 8.48 | 1.57 | 0.00 | 7 |\n",
       "| 214 | 1.51711 | 14.23 | 0.00 | 2.08 | 73.36 | 0.00 | 8.62 | 1.67 | 0.00 | 7 |\n",
       "\n"
      ],
      "text/plain": [
       "    RI      Na    Mg   Al   Si    K    Ca   Ba   Fe   Type\n",
       "1   1.52101 13.64 4.49 1.10 71.78 0.06 8.75 0    0.00 1   \n",
       "2   1.51761 13.89 3.60 1.36 72.73 0.48 7.83 0    0.00 1   \n",
       "3   1.51618 13.53 3.55 1.54 72.99 0.39 7.78 0    0.00 1   \n",
       "4   1.51766 13.21 3.69 1.29 72.61 0.57 8.22 0    0.00 1   \n",
       "5   1.51742 13.27 3.62 1.24 73.08 0.55 8.07 0    0.00 1   \n",
       "6   1.51596 12.79 3.61 1.62 72.97 0.64 8.07 0    0.26 1   \n",
       "7   1.51743 13.30 3.60 1.14 73.09 0.58 8.17 0    0.00 1   \n",
       "8   1.51756 13.15 3.61 1.05 73.24 0.57 8.24 0    0.00 1   \n",
       "9   1.51918 14.04 3.58 1.37 72.08 0.56 8.30 0    0.00 1   \n",
       "10  1.51755 13.00 3.60 1.36 72.99 0.57 8.40 0    0.11 1   \n",
       "11  1.51571 12.72 3.46 1.56 73.20 0.67 8.09 0    0.24 1   \n",
       "12  1.51763 12.80 3.66 1.27 73.01 0.60 8.56 0    0.00 1   \n",
       "13  1.51589 12.88 3.43 1.40 73.28 0.69 8.05 0    0.24 1   \n",
       "14  1.51748 12.86 3.56 1.27 73.21 0.54 8.38 0    0.17 1   \n",
       "15  1.51763 12.61 3.59 1.31 73.29 0.58 8.50 0    0.00 1   \n",
       "16  1.51761 12.81 3.54 1.23 73.24 0.58 8.39 0    0.00 1   \n",
       "17  1.51784 12.68 3.67 1.16 73.11 0.61 8.70 0    0.00 1   \n",
       "18  1.52196 14.36 3.85 0.89 71.36 0.15 9.15 0    0.00 1   \n",
       "19  1.51911 13.90 3.73 1.18 72.12 0.06 8.89 0    0.00 1   \n",
       "20  1.51735 13.02 3.54 1.69 72.73 0.54 8.44 0    0.07 1   \n",
       "21  1.51750 12.82 3.55 1.49 72.75 0.54 8.52 0    0.19 1   \n",
       "22  1.51966 14.77 3.75 0.29 72.02 0.03 9.00 0    0.00 1   \n",
       "23  1.51736 12.78 3.62 1.29 72.79 0.59 8.70 0    0.00 1   \n",
       "24  1.51751 12.81 3.57 1.35 73.02 0.62 8.59 0    0.00 1   \n",
       "25  1.51720 13.38 3.50 1.15 72.85 0.50 8.43 0    0.00 1   \n",
       "26  1.51764 12.98 3.54 1.21 73.00 0.65 8.53 0    0.00 1   \n",
       "27  1.51793 13.21 3.48 1.41 72.64 0.59 8.43 0    0.00 1   \n",
       "28  1.51721 12.87 3.48 1.33 73.04 0.56 8.43 0    0.00 1   \n",
       "29  1.51768 12.56 3.52 1.43 73.15 0.57 8.54 0    0.00 1   \n",
       "30  1.51784 13.08 3.49 1.28 72.86 0.60 8.49 0    0.00 1   \n",
       "⋮   ⋮       ⋮     ⋮    ⋮    ⋮     ⋮    ⋮    ⋮    ⋮    ⋮   \n",
       "185 1.51115 17.38 0.00 0.34 75.41 0.00 6.65 0.00 0.00 6   \n",
       "186 1.51131 13.69 3.20 1.81 72.81 1.76 5.43 1.19 0.00 7   \n",
       "187 1.51838 14.32 3.26 2.22 71.25 1.46 5.79 1.63 0.00 7   \n",
       "188 1.52315 13.44 3.34 1.23 72.38 0.60 8.83 0.00 0.00 7   \n",
       "189 1.52247 14.86 2.20 2.06 70.26 0.76 9.76 0.00 0.00 7   \n",
       "190 1.52365 15.79 1.83 1.31 70.43 0.31 8.61 1.68 0.00 7   \n",
       "191 1.51613 13.88 1.78 1.79 73.10 0.00 8.67 0.76 0.00 7   \n",
       "192 1.51602 14.85 0.00 2.38 73.28 0.00 8.76 0.64 0.09 7   \n",
       "193 1.51623 14.20 0.00 2.79 73.46 0.04 9.04 0.40 0.09 7   \n",
       "194 1.51719 14.75 0.00 2.00 73.02 0.00 8.53 1.59 0.08 7   \n",
       "195 1.51683 14.56 0.00 1.98 73.29 0.00 8.52 1.57 0.07 7   \n",
       "196 1.51545 14.14 0.00 2.68 73.39 0.08 9.07 0.61 0.05 7   \n",
       "197 1.51556 13.87 0.00 2.54 73.23 0.14 9.41 0.81 0.01 7   \n",
       "198 1.51727 14.70 0.00 2.34 73.28 0.00 8.95 0.66 0.00 7   \n",
       "199 1.51531 14.38 0.00 2.66 73.10 0.04 9.08 0.64 0.00 7   \n",
       "200 1.51609 15.01 0.00 2.51 73.05 0.05 8.83 0.53 0.00 7   \n",
       "201 1.51508 15.15 0.00 2.25 73.50 0.00 8.34 0.63 0.00 7   \n",
       "202 1.51653 11.95 0.00 1.19 75.18 2.70 8.93 0.00 0.00 7   \n",
       "203 1.51514 14.85 0.00 2.42 73.72 0.00 8.39 0.56 0.00 7   \n",
       "204 1.51658 14.80 0.00 1.99 73.11 0.00 8.28 1.71 0.00 7   \n",
       "205 1.51617 14.95 0.00 2.27 73.30 0.00 8.71 0.67 0.00 7   \n",
       "206 1.51732 14.95 0.00 1.80 72.99 0.00 8.61 1.55 0.00 7   \n",
       "207 1.51645 14.94 0.00 1.87 73.11 0.00 8.67 1.38 0.00 7   \n",
       "208 1.51831 14.39 0.00 1.82 72.86 1.41 6.47 2.88 0.00 7   \n",
       "209 1.51640 14.37 0.00 2.74 72.85 0.00 9.45 0.54 0.00 7   \n",
       "210 1.51623 14.14 0.00 2.88 72.61 0.08 9.18 1.06 0.00 7   \n",
       "211 1.51685 14.92 0.00 1.99 73.06 0.00 8.40 1.59 0.00 7   \n",
       "212 1.52065 14.36 0.00 2.02 73.42 0.00 8.44 1.64 0.00 7   \n",
       "213 1.51651 14.38 0.00 1.94 73.61 0.00 8.48 1.57 0.00 7   \n",
       "214 1.51711 14.23 0.00 2.08 73.36 0.00 8.62 1.67 0.00 7   "
      ]
     },
     "metadata": {},
     "output_type": "display_data"
    }
   ],
   "source": [
    "Glass"
   ]
  },
  {
   "cell_type": "code",
   "execution_count": 193,
   "id": "207e7543",
   "metadata": {},
   "outputs": [
    {
     "data": {
      "text/html": [
       "<style>\n",
       ".list-inline {list-style: none; margin:0; padding: 0}\n",
       ".list-inline>li {display: inline-block}\n",
       ".list-inline>li:not(:last-child)::after {content: \"\\00b7\"; padding: 0 .5ex}\n",
       "</style>\n",
       "<ol class=list-inline><li>'RI'</li><li>'Na'</li><li>'Mg'</li><li>'Al'</li><li>'Si'</li><li>'K'</li><li>'Ca'</li><li>'Ba'</li><li>'Fe'</li><li>'Type'</li></ol>\n"
      ],
      "text/latex": [
       "\\begin{enumerate*}\n",
       "\\item 'RI'\n",
       "\\item 'Na'\n",
       "\\item 'Mg'\n",
       "\\item 'Al'\n",
       "\\item 'Si'\n",
       "\\item 'K'\n",
       "\\item 'Ca'\n",
       "\\item 'Ba'\n",
       "\\item 'Fe'\n",
       "\\item 'Type'\n",
       "\\end{enumerate*}\n"
      ],
      "text/markdown": [
       "1. 'RI'\n",
       "2. 'Na'\n",
       "3. 'Mg'\n",
       "4. 'Al'\n",
       "5. 'Si'\n",
       "6. 'K'\n",
       "7. 'Ca'\n",
       "8. 'Ba'\n",
       "9. 'Fe'\n",
       "10. 'Type'\n",
       "\n",
       "\n"
      ],
      "text/plain": [
       " [1] \"RI\"   \"Na\"   \"Mg\"   \"Al\"   \"Si\"   \"K\"    \"Ca\"   \"Ba\"   \"Fe\"   \"Type\""
      ]
     },
     "metadata": {},
     "output_type": "display_data"
    }
   ],
   "source": [
    "colnames(Glass)"
   ]
  },
  {
   "cell_type": "code",
   "execution_count": 194,
   "id": "48aa036d",
   "metadata": {},
   "outputs": [
    {
     "data": {
      "image/png": "[encoded data removed]",
      "text/plain": [
       "plot without title"
      ]
     },
     "metadata": {
      "image/png": {
       "height": 420,
       "width": 420
      }
     },
     "output_type": "display_data"
    }
   ],
   "source": [
    "pairs(Glass[,c('RI','Na','Mg','Al','Si','K','Ca','Ba','Fe')])"
   ]
  },
  {
   "cell_type": "code",
   "execution_count": 195,
   "id": "eb58af28",
   "metadata": {},
   "outputs": [
    {
     "data": {
      "text/html": [
       "<table class=\"dataframe\">\n",
       "<caption>A matrix: 9 × 9 of type dbl</caption>\n",
       "<thead>\n",
       "\t<tr><th></th><th scope=col>RI</th><th scope=col>Na</th><th scope=col>Mg</th><th scope=col>Al</th><th scope=col>Si</th><th scope=col>K</th><th scope=col>Ca</th><th scope=col>Ba</th><th scope=col>Fe</th></tr>\n",
       "</thead>\n",
       "<tbody>\n",
       "\t<tr><th scope=row>RI</th><td> 1.0000000000</td><td>-0.19188538</td><td>-0.122274039</td><td>-0.40732603</td><td>-0.54205220</td><td>-0.289832711</td><td> 0.8104027</td><td>-0.0003860189</td><td> 0.143009609</td></tr>\n",
       "\t<tr><th scope=row>Na</th><td>-0.1918853790</td><td> 1.00000000</td><td>-0.273731961</td><td> 0.15679367</td><td>-0.06980881</td><td>-0.266086504</td><td>-0.2754425</td><td> 0.3266028795</td><td>-0.241346411</td></tr>\n",
       "\t<tr><th scope=row>Mg</th><td>-0.1222740393</td><td>-0.27373196</td><td> 1.000000000</td><td>-0.48179851</td><td>-0.16592672</td><td> 0.005395667</td><td>-0.4437500</td><td>-0.4922621178</td><td> 0.083059529</td></tr>\n",
       "\t<tr><th scope=row>Al</th><td>-0.4073260341</td><td> 0.15679367</td><td>-0.481798509</td><td> 1.00000000</td><td>-0.00552372</td><td> 0.325958446</td><td>-0.2595920</td><td> 0.4794039017</td><td>-0.074402151</td></tr>\n",
       "\t<tr><th scope=row>Si</th><td>-0.5420521997</td><td>-0.06980881</td><td>-0.165926723</td><td>-0.00552372</td><td> 1.00000000</td><td>-0.193330854</td><td>-0.2087322</td><td>-0.1021513105</td><td>-0.094200731</td></tr>\n",
       "\t<tr><th scope=row>K</th><td>-0.2898327111</td><td>-0.26608650</td><td> 0.005395667</td><td> 0.32595845</td><td>-0.19333085</td><td> 1.000000000</td><td>-0.3178362</td><td>-0.0426180594</td><td>-0.007719049</td></tr>\n",
       "\t<tr><th scope=row>Ca</th><td> 0.8104026963</td><td>-0.27544249</td><td>-0.443750026</td><td>-0.25959201</td><td>-0.20873215</td><td>-0.317836155</td><td> 1.0000000</td><td>-0.1128409671</td><td> 0.124968219</td></tr>\n",
       "\t<tr><th scope=row>Ba</th><td>-0.0003860189</td><td> 0.32660288</td><td>-0.492262118</td><td> 0.47940390</td><td>-0.10215131</td><td>-0.042618059</td><td>-0.1128410</td><td> 1.0000000000</td><td>-0.058691755</td></tr>\n",
       "\t<tr><th scope=row>Fe</th><td> 0.1430096093</td><td>-0.24134641</td><td> 0.083059529</td><td>-0.07440215</td><td>-0.09420073</td><td>-0.007719049</td><td> 0.1249682</td><td>-0.0586917554</td><td> 1.000000000</td></tr>\n",
       "</tbody>\n",
       "</table>\n"
      ],
      "text/latex": [
       "A matrix: 9 × 9 of type dbl\n",
       "\\begin{tabular}{r|lllllllll}\n",
       "  & RI & Na & Mg & Al & Si & K & Ca & Ba & Fe\\\\\n",
       "\\hline\n",
       "\tRI &  1.0000000000 & -0.19188538 & -0.122274039 & -0.40732603 & -0.54205220 & -0.289832711 &  0.8104027 & -0.0003860189 &  0.143009609\\\\\n",
       "\tNa & -0.1918853790 &  1.00000000 & -0.273731961 &  0.15679367 & -0.06980881 & -0.266086504 & -0.2754425 &  0.3266028795 & -0.241346411\\\\\n",
       "\tMg & -0.1222740393 & -0.27373196 &  1.000000000 & -0.48179851 & -0.16592672 &  0.005395667 & -0.4437500 & -0.4922621178 &  0.083059529\\\\\n",
       "\tAl & -0.4073260341 &  0.15679367 & -0.481798509 &  1.00000000 & -0.00552372 &  0.325958446 & -0.2595920 &  0.4794039017 & -0.074402151\\\\\n",
       "\tSi & -0.5420521997 & -0.06980881 & -0.165926723 & -0.00552372 &  1.00000000 & -0.193330854 & -0.2087322 & -0.1021513105 & -0.094200731\\\\\n",
       "\tK & -0.2898327111 & -0.26608650 &  0.005395667 &  0.32595845 & -0.19333085 &  1.000000000 & -0.3178362 & -0.0426180594 & -0.007719049\\\\\n",
       "\tCa &  0.8104026963 & -0.27544249 & -0.443750026 & -0.25959201 & -0.20873215 & -0.317836155 &  1.0000000 & -0.1128409671 &  0.124968219\\\\\n",
       "\tBa & -0.0003860189 &  0.32660288 & -0.492262118 &  0.47940390 & -0.10215131 & -0.042618059 & -0.1128410 &  1.0000000000 & -0.058691755\\\\\n",
       "\tFe &  0.1430096093 & -0.24134641 &  0.083059529 & -0.07440215 & -0.09420073 & -0.007719049 &  0.1249682 & -0.0586917554 &  1.000000000\\\\\n",
       "\\end{tabular}\n"
      ],
      "text/markdown": [
       "\n",
       "A matrix: 9 × 9 of type dbl\n",
       "\n",
       "| <!--/--> | RI | Na | Mg | Al | Si | K | Ca | Ba | Fe |\n",
       "|---|---|---|---|---|---|---|---|---|---|\n",
       "| RI |  1.0000000000 | -0.19188538 | -0.122274039 | -0.40732603 | -0.54205220 | -0.289832711 |  0.8104027 | -0.0003860189 |  0.143009609 |\n",
       "| Na | -0.1918853790 |  1.00000000 | -0.273731961 |  0.15679367 | -0.06980881 | -0.266086504 | -0.2754425 |  0.3266028795 | -0.241346411 |\n",
       "| Mg | -0.1222740393 | -0.27373196 |  1.000000000 | -0.48179851 | -0.16592672 |  0.005395667 | -0.4437500 | -0.4922621178 |  0.083059529 |\n",
       "| Al | -0.4073260341 |  0.15679367 | -0.481798509 |  1.00000000 | -0.00552372 |  0.325958446 | -0.2595920 |  0.4794039017 | -0.074402151 |\n",
       "| Si | -0.5420521997 | -0.06980881 | -0.165926723 | -0.00552372 |  1.00000000 | -0.193330854 | -0.2087322 | -0.1021513105 | -0.094200731 |\n",
       "| K | -0.2898327111 | -0.26608650 |  0.005395667 |  0.32595845 | -0.19333085 |  1.000000000 | -0.3178362 | -0.0426180594 | -0.007719049 |\n",
       "| Ca |  0.8104026963 | -0.27544249 | -0.443750026 | -0.25959201 | -0.20873215 | -0.317836155 |  1.0000000 | -0.1128409671 |  0.124968219 |\n",
       "| Ba | -0.0003860189 |  0.32660288 | -0.492262118 |  0.47940390 | -0.10215131 | -0.042618059 | -0.1128410 |  1.0000000000 | -0.058691755 |\n",
       "| Fe |  0.1430096093 | -0.24134641 |  0.083059529 | -0.07440215 | -0.09420073 | -0.007719049 |  0.1249682 | -0.0586917554 |  1.000000000 |\n",
       "\n"
      ],
      "text/plain": [
       "   RI            Na          Mg           Al          Si          K           \n",
       "RI  1.0000000000 -0.19188538 -0.122274039 -0.40732603 -0.54205220 -0.289832711\n",
       "Na -0.1918853790  1.00000000 -0.273731961  0.15679367 -0.06980881 -0.266086504\n",
       "Mg -0.1222740393 -0.27373196  1.000000000 -0.48179851 -0.16592672  0.005395667\n",
       "Al -0.4073260341  0.15679367 -0.481798509  1.00000000 -0.00552372  0.325958446\n",
       "Si -0.5420521997 -0.06980881 -0.165926723 -0.00552372  1.00000000 -0.193330854\n",
       "K  -0.2898327111 -0.26608650  0.005395667  0.32595845 -0.19333085  1.000000000\n",
       "Ca  0.8104026963 -0.27544249 -0.443750026 -0.25959201 -0.20873215 -0.317836155\n",
       "Ba -0.0003860189  0.32660288 -0.492262118  0.47940390 -0.10215131 -0.042618059\n",
       "Fe  0.1430096093 -0.24134641  0.083059529 -0.07440215 -0.09420073 -0.007719049\n",
       "   Ca         Ba            Fe          \n",
       "RI  0.8104027 -0.0003860189  0.143009609\n",
       "Na -0.2754425  0.3266028795 -0.241346411\n",
       "Mg -0.4437500 -0.4922621178  0.083059529\n",
       "Al -0.2595920  0.4794039017 -0.074402151\n",
       "Si -0.2087322 -0.1021513105 -0.094200731\n",
       "K  -0.3178362 -0.0426180594 -0.007719049\n",
       "Ca  1.0000000 -0.1128409671  0.124968219\n",
       "Ba -0.1128410  1.0000000000 -0.058691755\n",
       "Fe  0.1249682 -0.0586917554  1.000000000"
      ]
     },
     "metadata": {},
     "output_type": "display_data"
    }
   ],
   "source": [
    "cor(Glass[,c(-10)])"
   ]
  },
  {
   "cell_type": "code",
   "execution_count": 198,
   "id": "5248a1fa",
   "metadata": {},
   "outputs": [
    {
     "data": {
      "image/png": "[encoded data removed]",
      "text/plain": [
       "plot without title"
      ]
     },
     "metadata": {
      "image/png": {
       "height": 420,
       "width": 420
      }
     },
     "output_type": "display_data"
    }
   ],
   "source": [
    "plot(Glass[,c(-10)],\n",
    "    col=as.integer(Glass$Type))"
   ]
  },
  {
   "cell_type": "code",
   "execution_count": 203,
   "id": "a9aecd41",
   "metadata": {},
   "outputs": [
    {
     "data": {
      "image/png": "[encoded data removed]",
      "text/plain": [
       "plot without title"
      ]
     },
     "metadata": {
      "image/png": {
       "height": 420,
       "width": 420
      }
     },
     "output_type": "display_data"
    }
   ],
   "source": [
    "plot(Glass[,c(-10)], col=Glass$Type)"
   ]
  },
  {
   "cell_type": "code",
   "execution_count": null,
   "id": "816eb7a1",
   "metadata": {},
   "outputs": [],
   "source": []
  }
 ],
 "metadata": {
  "kernelspec": {
   "display_name": "R",
   "language": "R",
   "name": "ir"
  },
  "language_info": {
   "codemirror_mode": "r",
   "file_extension": ".r",
   "mimetype": "text/x-r-source",
   "name": "R",
   "pygments_lexer": "r",
   "version": "4.3.1"
  }
 },
 "nbformat": 4,
 "nbformat_minor": 5
}
