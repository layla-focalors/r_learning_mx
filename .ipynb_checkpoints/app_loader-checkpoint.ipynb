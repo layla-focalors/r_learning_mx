{
 "cells": [
  {
   "cell_type": "code",
   "execution_count": 1,
   "id": "6ee7d782",
   "metadata": {},
   "outputs": [
    {
     "data": {
      "text/html": [
       "<style>\n",
       ".list-inline {list-style: none; margin:0; padding: 0}\n",
       ".list-inline>li {display: inline-block}\n",
       ".list-inline>li:not(:last-child)::after {content: \"\\00b7\"; padding: 0 .5ex}\n",
       "</style>\n",
       "<ol class=list-inline><li>0-5yrs</li><li>0-5yrs</li><li>0-5yrs</li><li>0-5yrs</li><li>6-11yrs</li><li>6-11yrs</li><li>6-11yrs</li><li>6-11yrs</li><li>6-11yrs</li><li>6-11yrs</li><li>6-11yrs</li><li>6-11yrs</li><li>6-11yrs</li><li>6-11yrs</li><li>6-11yrs</li><li>6-11yrs</li><li>6-11yrs</li><li>6-11yrs</li><li>6-11yrs</li><li>6-11yrs</li><li>6-11yrs</li><li>6-11yrs</li><li>6-11yrs</li><li>6-11yrs</li><li>6-11yrs</li><li>6-11yrs</li><li>6-11yrs</li><li>6-11yrs</li><li>6-11yrs</li><li>6-11yrs</li><li>6-11yrs</li><li>6-11yrs</li><li>6-11yrs</li><li>6-11yrs</li><li>6-11yrs</li><li>6-11yrs</li><li>6-11yrs</li><li>6-11yrs</li><li>6-11yrs</li><li>6-11yrs</li><li>6-11yrs</li><li>6-11yrs</li><li>6-11yrs</li><li>6-11yrs</li><li>12+ yrs</li><li>12+ yrs</li><li>12+ yrs</li><li>12+ yrs</li><li>12+ yrs</li><li>12+ yrs</li><li>12+ yrs</li><li>12+ yrs</li><li>12+ yrs</li><li>12+ yrs</li><li>12+ yrs</li><li>12+ yrs</li><li>12+ yrs</li><li>12+ yrs</li><li>12+ yrs</li><li>12+ yrs</li><li>12+ yrs</li><li>12+ yrs</li><li>12+ yrs</li><li>12+ yrs</li><li>12+ yrs</li><li>12+ yrs</li><li>12+ yrs</li><li>12+ yrs</li><li>12+ yrs</li><li>12+ yrs</li><li>12+ yrs</li><li>12+ yrs</li><li>12+ yrs</li><li>12+ yrs</li><li>12+ yrs</li><li>12+ yrs</li><li>12+ yrs</li><li>12+ yrs</li><li>12+ yrs</li><li>12+ yrs</li><li>12+ yrs</li><li>12+ yrs</li><li>12+ yrs</li><li>0-5yrs</li><li>0-5yrs</li><li>0-5yrs</li><li>0-5yrs</li><li>6-11yrs</li><li>6-11yrs</li><li>6-11yrs</li><li>6-11yrs</li><li>6-11yrs</li><li>6-11yrs</li><li>6-11yrs</li><li>6-11yrs</li><li>6-11yrs</li><li>6-11yrs</li><li>6-11yrs</li><li>6-11yrs</li><li>6-11yrs</li><li>6-11yrs</li><li>6-11yrs</li><li>6-11yrs</li><li>6-11yrs</li><li>6-11yrs</li><li>6-11yrs</li><li>6-11yrs</li><li>6-11yrs</li><li>6-11yrs</li><li>6-11yrs</li><li>6-11yrs</li><li>6-11yrs</li><li>6-11yrs</li><li>6-11yrs</li><li>6-11yrs</li><li>6-11yrs</li><li>6-11yrs</li><li>6-11yrs</li><li>6-11yrs</li><li>6-11yrs</li><li>6-11yrs</li><li>6-11yrs</li><li>6-11yrs</li><li>6-11yrs</li><li>6-11yrs</li><li>6-11yrs</li><li>6-11yrs</li><li>12+ yrs</li><li>12+ yrs</li><li>12+ yrs</li><li>12+ yrs</li><li>12+ yrs</li><li>12+ yrs</li><li>12+ yrs</li><li>12+ yrs</li><li>12+ yrs</li><li>12+ yrs</li><li>12+ yrs</li><li>12+ yrs</li><li>12+ yrs</li><li>12+ yrs</li><li>12+ yrs</li><li>12+ yrs</li><li>12+ yrs</li><li>12+ yrs</li><li>12+ yrs</li><li>12+ yrs</li><li>12+ yrs</li><li>12+ yrs</li><li>12+ yrs</li><li>12+ yrs</li><li>12+ yrs</li><li>12+ yrs</li><li>12+ yrs</li><li>12+ yrs</li><li>12+ yrs</li><li>12+ yrs</li><li>12+ yrs</li><li>12+ yrs</li><li>12+ yrs</li><li>12+ yrs</li><li>12+ yrs</li><li>12+ yrs</li><li>12+ yrs</li><li>12+ yrs</li><li>0-5yrs</li><li>0-5yrs</li><li>0-5yrs</li><li>0-5yrs</li><li>6-11yrs</li><li>6-11yrs</li><li>6-11yrs</li><li>6-11yrs</li><li>6-11yrs</li><li>6-11yrs</li><li>6-11yrs</li><li>6-11yrs</li><li>6-11yrs</li><li>6-11yrs</li><li>6-11yrs</li><li>6-11yrs</li><li>6-11yrs</li><li>6-11yrs</li><li>6-11yrs</li><li>6-11yrs</li><li>6-11yrs</li><li>6-11yrs</li><li>6-11yrs</li><li>6-11yrs</li><li>6-11yrs</li><li>6-11yrs</li><li>6-11yrs</li><li>6-11yrs</li><li>6-11yrs</li><li>6-11yrs</li><li>6-11yrs</li><li>6-11yrs</li><li>6-11yrs</li><li>6-11yrs</li><li>6-11yrs</li><li>6-11yrs</li><li>6-11yrs</li><li>6-11yrs</li><li>6-11yrs</li><li>6-11yrs</li><li>6-11yrs</li><li>6-11yrs</li><li>6-11yrs</li><li>6-11yrs</li><li>12+ yrs</li><li>12+ yrs</li><li>12+ yrs</li><li>12+ yrs</li><li>12+ yrs</li><li>12+ yrs</li><li>12+ yrs</li><li>12+ yrs</li><li>12+ yrs</li><li>12+ yrs</li><li>12+ yrs</li><li>12+ yrs</li><li>12+ yrs</li><li>12+ yrs</li><li>12+ yrs</li><li>12+ yrs</li><li>12+ yrs</li><li>12+ yrs</li><li>12+ yrs</li><li>12+ yrs</li><li>12+ yrs</li><li>12+ yrs</li><li>12+ yrs</li><li>12+ yrs</li><li>12+ yrs</li><li>12+ yrs</li><li>12+ yrs</li><li>12+ yrs</li><li>12+ yrs</li><li>12+ yrs</li><li>12+ yrs</li><li>12+ yrs</li><li>12+ yrs</li><li>12+ yrs</li><li>12+ yrs</li><li>12+ yrs</li><li>12+ yrs</li><li>12+ yrs</li><li>12+ yrs</li></ol>\n",
       "\n",
       "<details>\n",
       "\t<summary style=display:list-item;cursor:pointer>\n",
       "\t\t<strong>Levels</strong>:\n",
       "\t</summary>\n",
       "\t<style>\n",
       "\t.list-inline {list-style: none; margin:0; padding: 0}\n",
       "\t.list-inline>li {display: inline-block}\n",
       "\t.list-inline>li:not(:last-child)::after {content: \"\\00b7\"; padding: 0 .5ex}\n",
       "\t</style>\n",
       "\t<ol class=list-inline><li>'0-5yrs'</li><li>'6-11yrs'</li><li>'12+ yrs'</li></ol>\n",
       "</details>"
      ],
      "text/latex": [
       "\\begin{enumerate*}\n",
       "\\item 0-5yrs\n",
       "\\item 0-5yrs\n",
       "\\item 0-5yrs\n",
       "\\item 0-5yrs\n",
       "\\item 6-11yrs\n",
       "\\item 6-11yrs\n",
       "\\item 6-11yrs\n",
       "\\item 6-11yrs\n",
       "\\item 6-11yrs\n",
       "\\item 6-11yrs\n",
       "\\item 6-11yrs\n",
       "\\item 6-11yrs\n",
       "\\item 6-11yrs\n",
       "\\item 6-11yrs\n",
       "\\item 6-11yrs\n",
       "\\item 6-11yrs\n",
       "\\item 6-11yrs\n",
       "\\item 6-11yrs\n",
       "\\item 6-11yrs\n",
       "\\item 6-11yrs\n",
       "\\item 6-11yrs\n",
       "\\item 6-11yrs\n",
       "\\item 6-11yrs\n",
       "\\item 6-11yrs\n",
       "\\item 6-11yrs\n",
       "\\item 6-11yrs\n",
       "\\item 6-11yrs\n",
       "\\item 6-11yrs\n",
       "\\item 6-11yrs\n",
       "\\item 6-11yrs\n",
       "\\item 6-11yrs\n",
       "\\item 6-11yrs\n",
       "\\item 6-11yrs\n",
       "\\item 6-11yrs\n",
       "\\item 6-11yrs\n",
       "\\item 6-11yrs\n",
       "\\item 6-11yrs\n",
       "\\item 6-11yrs\n",
       "\\item 6-11yrs\n",
       "\\item 6-11yrs\n",
       "\\item 6-11yrs\n",
       "\\item 6-11yrs\n",
       "\\item 6-11yrs\n",
       "\\item 6-11yrs\n",
       "\\item 12+ yrs\n",
       "\\item 12+ yrs\n",
       "\\item 12+ yrs\n",
       "\\item 12+ yrs\n",
       "\\item 12+ yrs\n",
       "\\item 12+ yrs\n",
       "\\item 12+ yrs\n",
       "\\item 12+ yrs\n",
       "\\item 12+ yrs\n",
       "\\item 12+ yrs\n",
       "\\item 12+ yrs\n",
       "\\item 12+ yrs\n",
       "\\item 12+ yrs\n",
       "\\item 12+ yrs\n",
       "\\item 12+ yrs\n",
       "\\item 12+ yrs\n",
       "\\item 12+ yrs\n",
       "\\item 12+ yrs\n",
       "\\item 12+ yrs\n",
       "\\item 12+ yrs\n",
       "\\item 12+ yrs\n",
       "\\item 12+ yrs\n",
       "\\item 12+ yrs\n",
       "\\item 12+ yrs\n",
       "\\item 12+ yrs\n",
       "\\item 12+ yrs\n",
       "\\item 12+ yrs\n",
       "\\item 12+ yrs\n",
       "\\item 12+ yrs\n",
       "\\item 12+ yrs\n",
       "\\item 12+ yrs\n",
       "\\item 12+ yrs\n",
       "\\item 12+ yrs\n",
       "\\item 12+ yrs\n",
       "\\item 12+ yrs\n",
       "\\item 12+ yrs\n",
       "\\item 12+ yrs\n",
       "\\item 12+ yrs\n",
       "\\item 12+ yrs\n",
       "\\item 0-5yrs\n",
       "\\item 0-5yrs\n",
       "\\item 0-5yrs\n",
       "\\item 0-5yrs\n",
       "\\item 6-11yrs\n",
       "\\item 6-11yrs\n",
       "\\item 6-11yrs\n",
       "\\item 6-11yrs\n",
       "\\item 6-11yrs\n",
       "\\item 6-11yrs\n",
       "\\item 6-11yrs\n",
       "\\item 6-11yrs\n",
       "\\item 6-11yrs\n",
       "\\item 6-11yrs\n",
       "\\item 6-11yrs\n",
       "\\item 6-11yrs\n",
       "\\item 6-11yrs\n",
       "\\item 6-11yrs\n",
       "\\item 6-11yrs\n",
       "\\item 6-11yrs\n",
       "\\item 6-11yrs\n",
       "\\item 6-11yrs\n",
       "\\item 6-11yrs\n",
       "\\item 6-11yrs\n",
       "\\item 6-11yrs\n",
       "\\item 6-11yrs\n",
       "\\item 6-11yrs\n",
       "\\item 6-11yrs\n",
       "\\item 6-11yrs\n",
       "\\item 6-11yrs\n",
       "\\item 6-11yrs\n",
       "\\item 6-11yrs\n",
       "\\item 6-11yrs\n",
       "\\item 6-11yrs\n",
       "\\item 6-11yrs\n",
       "\\item 6-11yrs\n",
       "\\item 6-11yrs\n",
       "\\item 6-11yrs\n",
       "\\item 6-11yrs\n",
       "\\item 6-11yrs\n",
       "\\item 6-11yrs\n",
       "\\item 6-11yrs\n",
       "\\item 6-11yrs\n",
       "\\item 6-11yrs\n",
       "\\item 12+ yrs\n",
       "\\item 12+ yrs\n",
       "\\item 12+ yrs\n",
       "\\item 12+ yrs\n",
       "\\item 12+ yrs\n",
       "\\item 12+ yrs\n",
       "\\item 12+ yrs\n",
       "\\item 12+ yrs\n",
       "\\item 12+ yrs\n",
       "\\item 12+ yrs\n",
       "\\item 12+ yrs\n",
       "\\item 12+ yrs\n",
       "\\item 12+ yrs\n",
       "\\item 12+ yrs\n",
       "\\item 12+ yrs\n",
       "\\item 12+ yrs\n",
       "\\item 12+ yrs\n",
       "\\item 12+ yrs\n",
       "\\item 12+ yrs\n",
       "\\item 12+ yrs\n",
       "\\item 12+ yrs\n",
       "\\item 12+ yrs\n",
       "\\item 12+ yrs\n",
       "\\item 12+ yrs\n",
       "\\item 12+ yrs\n",
       "\\item 12+ yrs\n",
       "\\item 12+ yrs\n",
       "\\item 12+ yrs\n",
       "\\item 12+ yrs\n",
       "\\item 12+ yrs\n",
       "\\item 12+ yrs\n",
       "\\item 12+ yrs\n",
       "\\item 12+ yrs\n",
       "\\item 12+ yrs\n",
       "\\item 12+ yrs\n",
       "\\item 12+ yrs\n",
       "\\item 12+ yrs\n",
       "\\item 12+ yrs\n",
       "\\item 0-5yrs\n",
       "\\item 0-5yrs\n",
       "\\item 0-5yrs\n",
       "\\item 0-5yrs\n",
       "\\item 6-11yrs\n",
       "\\item 6-11yrs\n",
       "\\item 6-11yrs\n",
       "\\item 6-11yrs\n",
       "\\item 6-11yrs\n",
       "\\item 6-11yrs\n",
       "\\item 6-11yrs\n",
       "\\item 6-11yrs\n",
       "\\item 6-11yrs\n",
       "\\item 6-11yrs\n",
       "\\item 6-11yrs\n",
       "\\item 6-11yrs\n",
       "\\item 6-11yrs\n",
       "\\item 6-11yrs\n",
       "\\item 6-11yrs\n",
       "\\item 6-11yrs\n",
       "\\item 6-11yrs\n",
       "\\item 6-11yrs\n",
       "\\item 6-11yrs\n",
       "\\item 6-11yrs\n",
       "\\item 6-11yrs\n",
       "\\item 6-11yrs\n",
       "\\item 6-11yrs\n",
       "\\item 6-11yrs\n",
       "\\item 6-11yrs\n",
       "\\item 6-11yrs\n",
       "\\item 6-11yrs\n",
       "\\item 6-11yrs\n",
       "\\item 6-11yrs\n",
       "\\item 6-11yrs\n",
       "\\item 6-11yrs\n",
       "\\item 6-11yrs\n",
       "\\item 6-11yrs\n",
       "\\item 6-11yrs\n",
       "\\item 6-11yrs\n",
       "\\item 6-11yrs\n",
       "\\item 6-11yrs\n",
       "\\item 6-11yrs\n",
       "\\item 6-11yrs\n",
       "\\item 6-11yrs\n",
       "\\item 12+ yrs\n",
       "\\item 12+ yrs\n",
       "\\item 12+ yrs\n",
       "\\item 12+ yrs\n",
       "\\item 12+ yrs\n",
       "\\item 12+ yrs\n",
       "\\item 12+ yrs\n",
       "\\item 12+ yrs\n",
       "\\item 12+ yrs\n",
       "\\item 12+ yrs\n",
       "\\item 12+ yrs\n",
       "\\item 12+ yrs\n",
       "\\item 12+ yrs\n",
       "\\item 12+ yrs\n",
       "\\item 12+ yrs\n",
       "\\item 12+ yrs\n",
       "\\item 12+ yrs\n",
       "\\item 12+ yrs\n",
       "\\item 12+ yrs\n",
       "\\item 12+ yrs\n",
       "\\item 12+ yrs\n",
       "\\item 12+ yrs\n",
       "\\item 12+ yrs\n",
       "\\item 12+ yrs\n",
       "\\item 12+ yrs\n",
       "\\item 12+ yrs\n",
       "\\item 12+ yrs\n",
       "\\item 12+ yrs\n",
       "\\item 12+ yrs\n",
       "\\item 12+ yrs\n",
       "\\item 12+ yrs\n",
       "\\item 12+ yrs\n",
       "\\item 12+ yrs\n",
       "\\item 12+ yrs\n",
       "\\item 12+ yrs\n",
       "\\item 12+ yrs\n",
       "\\item 12+ yrs\n",
       "\\item 12+ yrs\n",
       "\\item 12+ yrs\n",
       "\\end{enumerate*}\n",
       "\n",
       "\\emph{Levels}: \\begin{enumerate*}\n",
       "\\item '0-5yrs'\n",
       "\\item '6-11yrs'\n",
       "\\item '12+ yrs'\n",
       "\\end{enumerate*}\n"
      ],
      "text/markdown": [
       "1. 0-5yrs\n",
       "2. 0-5yrs\n",
       "3. 0-5yrs\n",
       "4. 0-5yrs\n",
       "5. 6-11yrs\n",
       "6. 6-11yrs\n",
       "7. 6-11yrs\n",
       "8. 6-11yrs\n",
       "9. 6-11yrs\n",
       "10. 6-11yrs\n",
       "11. 6-11yrs\n",
       "12. 6-11yrs\n",
       "13. 6-11yrs\n",
       "14. 6-11yrs\n",
       "15. 6-11yrs\n",
       "16. 6-11yrs\n",
       "17. 6-11yrs\n",
       "18. 6-11yrs\n",
       "19. 6-11yrs\n",
       "20. 6-11yrs\n",
       "21. 6-11yrs\n",
       "22. 6-11yrs\n",
       "23. 6-11yrs\n",
       "24. 6-11yrs\n",
       "25. 6-11yrs\n",
       "26. 6-11yrs\n",
       "27. 6-11yrs\n",
       "28. 6-11yrs\n",
       "29. 6-11yrs\n",
       "30. 6-11yrs\n",
       "31. 6-11yrs\n",
       "32. 6-11yrs\n",
       "33. 6-11yrs\n",
       "34. 6-11yrs\n",
       "35. 6-11yrs\n",
       "36. 6-11yrs\n",
       "37. 6-11yrs\n",
       "38. 6-11yrs\n",
       "39. 6-11yrs\n",
       "40. 6-11yrs\n",
       "41. 6-11yrs\n",
       "42. 6-11yrs\n",
       "43. 6-11yrs\n",
       "44. 6-11yrs\n",
       "45. 12+ yrs\n",
       "46. 12+ yrs\n",
       "47. 12+ yrs\n",
       "48. 12+ yrs\n",
       "49. 12+ yrs\n",
       "50. 12+ yrs\n",
       "51. 12+ yrs\n",
       "52. 12+ yrs\n",
       "53. 12+ yrs\n",
       "54. 12+ yrs\n",
       "55. 12+ yrs\n",
       "56. 12+ yrs\n",
       "57. 12+ yrs\n",
       "58. 12+ yrs\n",
       "59. 12+ yrs\n",
       "60. 12+ yrs\n",
       "61. 12+ yrs\n",
       "62. 12+ yrs\n",
       "63. 12+ yrs\n",
       "64. 12+ yrs\n",
       "65. 12+ yrs\n",
       "66. 12+ yrs\n",
       "67. 12+ yrs\n",
       "68. 12+ yrs\n",
       "69. 12+ yrs\n",
       "70. 12+ yrs\n",
       "71. 12+ yrs\n",
       "72. 12+ yrs\n",
       "73. 12+ yrs\n",
       "74. 12+ yrs\n",
       "75. 12+ yrs\n",
       "76. 12+ yrs\n",
       "77. 12+ yrs\n",
       "78. 12+ yrs\n",
       "79. 12+ yrs\n",
       "80. 12+ yrs\n",
       "81. 12+ yrs\n",
       "82. 12+ yrs\n",
       "83. 12+ yrs\n",
       "84. 0-5yrs\n",
       "85. 0-5yrs\n",
       "86. 0-5yrs\n",
       "87. 0-5yrs\n",
       "88. 6-11yrs\n",
       "89. 6-11yrs\n",
       "90. 6-11yrs\n",
       "91. 6-11yrs\n",
       "92. 6-11yrs\n",
       "93. 6-11yrs\n",
       "94. 6-11yrs\n",
       "95. 6-11yrs\n",
       "96. 6-11yrs\n",
       "97. 6-11yrs\n",
       "98. 6-11yrs\n",
       "99. 6-11yrs\n",
       "100. 6-11yrs\n",
       "101. 6-11yrs\n",
       "102. 6-11yrs\n",
       "103. 6-11yrs\n",
       "104. 6-11yrs\n",
       "105. 6-11yrs\n",
       "106. 6-11yrs\n",
       "107. 6-11yrs\n",
       "108. 6-11yrs\n",
       "109. 6-11yrs\n",
       "110. 6-11yrs\n",
       "111. 6-11yrs\n",
       "112. 6-11yrs\n",
       "113. 6-11yrs\n",
       "114. 6-11yrs\n",
       "115. 6-11yrs\n",
       "116. 6-11yrs\n",
       "117. 6-11yrs\n",
       "118. 6-11yrs\n",
       "119. 6-11yrs\n",
       "120. 6-11yrs\n",
       "121. 6-11yrs\n",
       "122. 6-11yrs\n",
       "123. 6-11yrs\n",
       "124. 6-11yrs\n",
       "125. 6-11yrs\n",
       "126. 6-11yrs\n",
       "127. 6-11yrs\n",
       "128. 12+ yrs\n",
       "129. 12+ yrs\n",
       "130. 12+ yrs\n",
       "131. 12+ yrs\n",
       "132. 12+ yrs\n",
       "133. 12+ yrs\n",
       "134. 12+ yrs\n",
       "135. 12+ yrs\n",
       "136. 12+ yrs\n",
       "137. 12+ yrs\n",
       "138. 12+ yrs\n",
       "139. 12+ yrs\n",
       "140. 12+ yrs\n",
       "141. 12+ yrs\n",
       "142. 12+ yrs\n",
       "143. 12+ yrs\n",
       "144. 12+ yrs\n",
       "145. 12+ yrs\n",
       "146. 12+ yrs\n",
       "147. 12+ yrs\n",
       "148. 12+ yrs\n",
       "149. 12+ yrs\n",
       "150. 12+ yrs\n",
       "151. 12+ yrs\n",
       "152. 12+ yrs\n",
       "153. 12+ yrs\n",
       "154. 12+ yrs\n",
       "155. 12+ yrs\n",
       "156. 12+ yrs\n",
       "157. 12+ yrs\n",
       "158. 12+ yrs\n",
       "159. 12+ yrs\n",
       "160. 12+ yrs\n",
       "161. 12+ yrs\n",
       "162. 12+ yrs\n",
       "163. 12+ yrs\n",
       "164. 12+ yrs\n",
       "165. 12+ yrs\n",
       "166. 0-5yrs\n",
       "167. 0-5yrs\n",
       "168. 0-5yrs\n",
       "169. 0-5yrs\n",
       "170. 6-11yrs\n",
       "171. 6-11yrs\n",
       "172. 6-11yrs\n",
       "173. 6-11yrs\n",
       "174. 6-11yrs\n",
       "175. 6-11yrs\n",
       "176. 6-11yrs\n",
       "177. 6-11yrs\n",
       "178. 6-11yrs\n",
       "179. 6-11yrs\n",
       "180. 6-11yrs\n",
       "181. 6-11yrs\n",
       "182. 6-11yrs\n",
       "183. 6-11yrs\n",
       "184. 6-11yrs\n",
       "185. 6-11yrs\n",
       "186. 6-11yrs\n",
       "187. 6-11yrs\n",
       "188. 6-11yrs\n",
       "189. 6-11yrs\n",
       "190. 6-11yrs\n",
       "191. 6-11yrs\n",
       "192. 6-11yrs\n",
       "193. 6-11yrs\n",
       "194. 6-11yrs\n",
       "195. 6-11yrs\n",
       "196. 6-11yrs\n",
       "197. 6-11yrs\n",
       "198. 6-11yrs\n",
       "199. 6-11yrs\n",
       "200. 6-11yrs\n",
       "201. 6-11yrs\n",
       "202. 6-11yrs\n",
       "203. 6-11yrs\n",
       "204. 6-11yrs\n",
       "205. 6-11yrs\n",
       "206. 6-11yrs\n",
       "207. 6-11yrs\n",
       "208. 6-11yrs\n",
       "209. 6-11yrs\n",
       "210. 12+ yrs\n",
       "211. 12+ yrs\n",
       "212. 12+ yrs\n",
       "213. 12+ yrs\n",
       "214. 12+ yrs\n",
       "215. 12+ yrs\n",
       "216. 12+ yrs\n",
       "217. 12+ yrs\n",
       "218. 12+ yrs\n",
       "219. 12+ yrs\n",
       "220. 12+ yrs\n",
       "221. 12+ yrs\n",
       "222. 12+ yrs\n",
       "223. 12+ yrs\n",
       "224. 12+ yrs\n",
       "225. 12+ yrs\n",
       "226. 12+ yrs\n",
       "227. 12+ yrs\n",
       "228. 12+ yrs\n",
       "229. 12+ yrs\n",
       "230. 12+ yrs\n",
       "231. 12+ yrs\n",
       "232. 12+ yrs\n",
       "233. 12+ yrs\n",
       "234. 12+ yrs\n",
       "235. 12+ yrs\n",
       "236. 12+ yrs\n",
       "237. 12+ yrs\n",
       "238. 12+ yrs\n",
       "239. 12+ yrs\n",
       "240. 12+ yrs\n",
       "241. 12+ yrs\n",
       "242. 12+ yrs\n",
       "243. 12+ yrs\n",
       "244. 12+ yrs\n",
       "245. 12+ yrs\n",
       "246. 12+ yrs\n",
       "247. 12+ yrs\n",
       "248. 12+ yrs\n",
       "\n",
       "\n",
       "\n",
       "**Levels**: 1. '0-5yrs'\n",
       "2. '6-11yrs'\n",
       "3. '12+ yrs'\n",
       "\n",
       "\n"
      ],
      "text/plain": [
       "  [1] 0-5yrs  0-5yrs  0-5yrs  0-5yrs  6-11yrs 6-11yrs 6-11yrs 6-11yrs 6-11yrs\n",
       " [10] 6-11yrs 6-11yrs 6-11yrs 6-11yrs 6-11yrs 6-11yrs 6-11yrs 6-11yrs 6-11yrs\n",
       " [19] 6-11yrs 6-11yrs 6-11yrs 6-11yrs 6-11yrs 6-11yrs 6-11yrs 6-11yrs 6-11yrs\n",
       " [28] 6-11yrs 6-11yrs 6-11yrs 6-11yrs 6-11yrs 6-11yrs 6-11yrs 6-11yrs 6-11yrs\n",
       " [37] 6-11yrs 6-11yrs 6-11yrs 6-11yrs 6-11yrs 6-11yrs 6-11yrs 6-11yrs 12+ yrs\n",
       " [46] 12+ yrs 12+ yrs 12+ yrs 12+ yrs 12+ yrs 12+ yrs 12+ yrs 12+ yrs 12+ yrs\n",
       " [55] 12+ yrs 12+ yrs 12+ yrs 12+ yrs 12+ yrs 12+ yrs 12+ yrs 12+ yrs 12+ yrs\n",
       " [64] 12+ yrs 12+ yrs 12+ yrs 12+ yrs 12+ yrs 12+ yrs 12+ yrs 12+ yrs 12+ yrs\n",
       " [73] 12+ yrs 12+ yrs 12+ yrs 12+ yrs 12+ yrs 12+ yrs 12+ yrs 12+ yrs 12+ yrs\n",
       " [82] 12+ yrs 12+ yrs 0-5yrs  0-5yrs  0-5yrs  0-5yrs  6-11yrs 6-11yrs 6-11yrs\n",
       " [91] 6-11yrs 6-11yrs 6-11yrs 6-11yrs 6-11yrs 6-11yrs 6-11yrs 6-11yrs 6-11yrs\n",
       "[100] 6-11yrs 6-11yrs 6-11yrs 6-11yrs 6-11yrs 6-11yrs 6-11yrs 6-11yrs 6-11yrs\n",
       "[109] 6-11yrs 6-11yrs 6-11yrs 6-11yrs 6-11yrs 6-11yrs 6-11yrs 6-11yrs 6-11yrs\n",
       "[118] 6-11yrs 6-11yrs 6-11yrs 6-11yrs 6-11yrs 6-11yrs 6-11yrs 6-11yrs 6-11yrs\n",
       "[127] 6-11yrs 12+ yrs 12+ yrs 12+ yrs 12+ yrs 12+ yrs 12+ yrs 12+ yrs 12+ yrs\n",
       "[136] 12+ yrs 12+ yrs 12+ yrs 12+ yrs 12+ yrs 12+ yrs 12+ yrs 12+ yrs 12+ yrs\n",
       "[145] 12+ yrs 12+ yrs 12+ yrs 12+ yrs 12+ yrs 12+ yrs 12+ yrs 12+ yrs 12+ yrs\n",
       "[154] 12+ yrs 12+ yrs 12+ yrs 12+ yrs 12+ yrs 12+ yrs 12+ yrs 12+ yrs 12+ yrs\n",
       "[163] 12+ yrs 12+ yrs 12+ yrs 0-5yrs  0-5yrs  0-5yrs  0-5yrs  6-11yrs 6-11yrs\n",
       "[172] 6-11yrs 6-11yrs 6-11yrs 6-11yrs 6-11yrs 6-11yrs 6-11yrs 6-11yrs 6-11yrs\n",
       "[181] 6-11yrs 6-11yrs 6-11yrs 6-11yrs 6-11yrs 6-11yrs 6-11yrs 6-11yrs 6-11yrs\n",
       "[190] 6-11yrs 6-11yrs 6-11yrs 6-11yrs 6-11yrs 6-11yrs 6-11yrs 6-11yrs 6-11yrs\n",
       "[199] 6-11yrs 6-11yrs 6-11yrs 6-11yrs 6-11yrs 6-11yrs 6-11yrs 6-11yrs 6-11yrs\n",
       "[208] 6-11yrs 6-11yrs 12+ yrs 12+ yrs 12+ yrs 12+ yrs 12+ yrs 12+ yrs 12+ yrs\n",
       "[217] 12+ yrs 12+ yrs 12+ yrs 12+ yrs 12+ yrs 12+ yrs 12+ yrs 12+ yrs 12+ yrs\n",
       "[226] 12+ yrs 12+ yrs 12+ yrs 12+ yrs 12+ yrs 12+ yrs 12+ yrs 12+ yrs 12+ yrs\n",
       "[235] 12+ yrs 12+ yrs 12+ yrs 12+ yrs 12+ yrs 12+ yrs 12+ yrs 12+ yrs 12+ yrs\n",
       "[244] 12+ yrs 12+ yrs 12+ yrs 12+ yrs 12+ yrs\n",
       "Levels: 0-5yrs 6-11yrs 12+ yrs"
      ]
     },
     "metadata": {},
     "output_type": "display_data"
    }
   ],
   "source": [
    "edu = infert$education\n",
    "edu"
   ]
  },
  {
   "cell_type": "code",
   "execution_count": 2,
   "id": "f3d00ce9",
   "metadata": {},
   "outputs": [
    {
     "data": {
      "text/html": [
       "<style>\n",
       ".list-inline {list-style: none; margin:0; padding: 0}\n",
       ".list-inline>li {display: inline-block}\n",
       ".list-inline>li:not(:last-child)::after {content: \"\\00b7\"; padding: 0 .5ex}\n",
       "</style>\n",
       "<ol class=list-inline><li>0-5yrs</li><li>6-11yrs</li><li>12+ yrs</li></ol>\n",
       "\n",
       "<details>\n",
       "\t<summary style=display:list-item;cursor:pointer>\n",
       "\t\t<strong>Levels</strong>:\n",
       "\t</summary>\n",
       "\t<style>\n",
       "\t.list-inline {list-style: none; margin:0; padding: 0}\n",
       "\t.list-inline>li {display: inline-block}\n",
       "\t.list-inline>li:not(:last-child)::after {content: \"\\00b7\"; padding: 0 .5ex}\n",
       "\t</style>\n",
       "\t<ol class=list-inline><li>'0-5yrs'</li><li>'6-11yrs'</li><li>'12+ yrs'</li></ol>\n",
       "</details>"
      ],
      "text/latex": [
       "\\begin{enumerate*}\n",
       "\\item 0-5yrs\n",
       "\\item 6-11yrs\n",
       "\\item 12+ yrs\n",
       "\\end{enumerate*}\n",
       "\n",
       "\\emph{Levels}: \\begin{enumerate*}\n",
       "\\item '0-5yrs'\n",
       "\\item '6-11yrs'\n",
       "\\item '12+ yrs'\n",
       "\\end{enumerate*}\n"
      ],
      "text/markdown": [
       "1. 0-5yrs\n",
       "2. 6-11yrs\n",
       "3. 12+ yrs\n",
       "\n",
       "\n",
       "\n",
       "**Levels**: 1. '0-5yrs'\n",
       "2. '6-11yrs'\n",
       "3. '12+ yrs'\n",
       "\n",
       "\n"
      ],
      "text/plain": [
       "[1] 0-5yrs  6-11yrs 12+ yrs\n",
       "Levels: 0-5yrs 6-11yrs 12+ yrs"
      ]
     },
     "metadata": {},
     "output_type": "display_data"
    }
   ],
   "source": [
    "unique(edu)"
   ]
  },
  {
   "cell_type": "code",
   "execution_count": 3,
   "id": "36bd2aae",
   "metadata": {},
   "outputs": [
    {
     "data": {
      "text/html": [
       "<style>\n",
       ".list-inline {list-style: none; margin:0; padding: 0}\n",
       ".list-inline>li {display: inline-block}\n",
       ".list-inline>li:not(:last-child)::after {content: \"\\00b7\"; padding: 0 .5ex}\n",
       "</style>\n",
       "<ol class=list-inline><li>'0-5yrs'</li><li>'6-11yrs'</li><li>'12+ yrs'</li></ol>\n"
      ],
      "text/latex": [
       "\\begin{enumerate*}\n",
       "\\item '0-5yrs'\n",
       "\\item '6-11yrs'\n",
       "\\item '12+ yrs'\n",
       "\\end{enumerate*}\n"
      ],
      "text/markdown": [
       "1. '0-5yrs'\n",
       "2. '6-11yrs'\n",
       "3. '12+ yrs'\n",
       "\n",
       "\n"
      ],
      "text/plain": [
       "[1] \"0-5yrs\"  \"6-11yrs\" \"12+ yrs\""
      ]
     },
     "metadata": {},
     "output_type": "display_data"
    }
   ],
   "source": [
    "levels(edu)"
   ]
  },
  {
   "cell_type": "code",
   "execution_count": 4,
   "id": "034bb96f",
   "metadata": {},
   "outputs": [
    {
     "data": {
      "text/plain": [
       "edu\n",
       " 0-5yrs 6-11yrs 12+ yrs \n",
       "     12     120     116 "
      ]
     },
     "metadata": {},
     "output_type": "display_data"
    }
   ],
   "source": [
    "table(edu)"
   ]
  },
  {
   "cell_type": "code",
   "execution_count": 8,
   "id": "3bb49146",
   "metadata": {},
   "outputs": [
    {
     "data": {
      "image/png": "[encoded data removed]",
      "text/plain": [
       "Plot with title \"barplot of Educational Edu\""
      ]
     },
     "metadata": {
      "image/png": {
       "height": 420,
       "width": 420
      }
     },
     "output_type": "display_data"
    }
   ],
   "source": [
    "barplot(table(edu),\n",
    "       main='barplot of Educational Edu',\n",
    "       xlab='age level',\n",
    "       ylab='values',\n",
    "       col=c('pink','white','pink'))"
   ]
  },
  {
   "cell_type": "code",
   "execution_count": 9,
   "id": "a6381408",
   "metadata": {},
   "outputs": [
    {
     "data": {
      "text/html": [
       "<style>\n",
       ".list-inline {list-style: none; margin:0; padding: 0}\n",
       ".list-inline>li {display: inline-block}\n",
       ".list-inline>li:not(:last-child)::after {content: \"\\00b7\"; padding: 0 .5ex}\n",
       "</style>\n",
       "<ol class=list-inline><li>'F'</li><li>'F'</li><li>'F'</li><li>'M'</li><li>'M'</li><li>'F'</li><li>'F'</li><li>'F'</li><li>'M'</li><li>'M'</li></ol>\n"
      ],
      "text/latex": [
       "\\begin{enumerate*}\n",
       "\\item 'F'\n",
       "\\item 'F'\n",
       "\\item 'F'\n",
       "\\item 'M'\n",
       "\\item 'M'\n",
       "\\item 'F'\n",
       "\\item 'F'\n",
       "\\item 'F'\n",
       "\\item 'M'\n",
       "\\item 'M'\n",
       "\\end{enumerate*}\n"
      ],
      "text/markdown": [
       "1. 'F'\n",
       "2. 'F'\n",
       "3. 'F'\n",
       "4. 'M'\n",
       "5. 'M'\n",
       "6. 'F'\n",
       "7. 'F'\n",
       "8. 'F'\n",
       "9. 'M'\n",
       "10. 'M'\n",
       "\n",
       "\n"
      ],
      "text/plain": [
       " [1] \"F\" \"F\" \"F\" \"M\" \"M\" \"F\" \"F\" \"F\" \"M\" \"M\""
      ]
     },
     "metadata": {},
     "output_type": "display_data"
    }
   ],
   "source": [
    "gender = c('F','F','F','M','M','F','F','F','M','M')\n",
    "gender"
   ]
  },
  {
   "cell_type": "code",
   "execution_count": 11,
   "id": "a837a688",
   "metadata": {},
   "outputs": [
    {
     "data": {
      "text/plain": [
       "gender\n",
       "F M \n",
       "6 4 "
      ]
     },
     "metadata": {},
     "output_type": "display_data"
    }
   ],
   "source": [
    "table(gender)"
   ]
  },
  {
   "cell_type": "code",
   "execution_count": 14,
   "id": "1bd00ebf",
   "metadata": {},
   "outputs": [
    {
     "data": {
      "image/png": "[encoded data removed]",
      "text/plain": [
       "Plot with title \"barplot of gender\""
      ]
     },
     "metadata": {
      "image/png": {
       "height": 420,
       "width": 420
      }
     },
     "output_type": "display_data"
    }
   ],
   "source": [
    "barplot(table(gender),\n",
    "       main='barplot of gender',\n",
    "       xlab='sex', ylab='counts',\n",
    "       col = c('pink','snow'))"
   ]
  },
  {
   "cell_type": "code",
   "execution_count": 16,
   "id": "b32b5de8",
   "metadata": {},
   "outputs": [
    {
     "data": {
      "image/png": "[encoded data removed]",
      "text/plain": [
       "Plot with title \"pieplot on gender\""
      ]
     },
     "metadata": {
      "image/png": {
       "height": 420,
       "width": 420
      }
     },
     "output_type": "display_data"
    }
   ],
   "source": [
    "pie(table(gender),\n",
    "   main='pieplot on gender')"
   ]
  },
  {
   "cell_type": "code",
   "execution_count": 17,
   "id": "ce3a5a04",
   "metadata": {},
   "outputs": [
    {
     "data": {
      "text/html": [
       "<style>\n",
       ".list-inline {list-style: none; margin:0; padding: 0}\n",
       ".list-inline>li {display: inline-block}\n",
       ".list-inline>li:not(:last-child)::after {content: \"\\00b7\"; padding: 0 .5ex}\n",
       "</style>\n",
       "<ol class=list-inline><li>'여름'</li><li>'겨울'</li><li>'봄'</li><li>'가을'</li><li>'여름'</li><li>'가을'</li><li>'겨울'</li><li>'여름'</li><li>'여름'</li><li>'가을'</li></ol>\n"
      ],
      "text/latex": [
       "\\begin{enumerate*}\n",
       "\\item '여름'\n",
       "\\item '겨울'\n",
       "\\item '봄'\n",
       "\\item '가을'\n",
       "\\item '여름'\n",
       "\\item '가을'\n",
       "\\item '겨울'\n",
       "\\item '여름'\n",
       "\\item '여름'\n",
       "\\item '가을'\n",
       "\\end{enumerate*}\n"
      ],
      "text/markdown": [
       "1. '여름'\n",
       "2. '겨울'\n",
       "3. '봄'\n",
       "4. '가을'\n",
       "5. '여름'\n",
       "6. '가을'\n",
       "7. '겨울'\n",
       "8. '여름'\n",
       "9. '여름'\n",
       "10. '가을'\n",
       "\n",
       "\n"
      ],
      "text/plain": [
       " [1] \"여름\" \"겨울\" \"봄\"   \"가을\" \"여름\" \"가을\" \"겨울\" \"여름\" \"여름\" \"가을\""
      ]
     },
     "metadata": {},
     "output_type": "display_data"
    }
   ],
   "source": [
    "fab.season = c('여름','겨울','봄','가을','여름','가을','겨울','여름','여름','가을')\n",
    "fab.season"
   ]
  },
  {
   "cell_type": "code",
   "execution_count": 19,
   "id": "fce99946",
   "metadata": {},
   "outputs": [
    {
     "data": {
      "text/plain": [
       "fab.season\n",
       "가을 겨울   봄 여름 \n",
       "   3    2    1    4 "
      ]
     },
     "metadata": {},
     "output_type": "display_data"
    }
   ],
   "source": [
    "table(fab.season)"
   ]
  },
  {
   "cell_type": "code",
   "execution_count": 25,
   "id": "e4f264db",
   "metadata": {},
   "outputs": [
    {
     "data": {
      "image/png": "[encoded data removed]",
      "text/plain": [
       "Plot with title \"favorite of season\""
      ]
     },
     "metadata": {
      "image/png": {
       "height": 420,
       "width": 420
      }
     },
     "output_type": "display_data"
    }
   ],
   "source": [
    "barplot(table(fab.season),\n",
    "       main='favorite of season',\n",
    "       xlab='season',\n",
    "       ylab='counts',\n",
    "       col = c('pink','red','white','black'))"
   ]
  },
  {
   "cell_type": "code",
   "execution_count": 27,
   "id": "cfc75916",
   "metadata": {},
   "outputs": [
    {
     "data": {
      "image/png": "[encoded data removed]",
      "text/plain": [
       "Plot with title \"pie plot of season\""
      ]
     },
     "metadata": {
      "image/png": {
       "height": 420,
       "width": 420
      }
     },
     "output_type": "display_data"
    }
   ],
   "source": [
    "pie(table(fab.season),\n",
    "   main = 'pie plot of season')"
   ]
  },
  {
   "cell_type": "code",
   "execution_count": 28,
   "id": "7b4d9999",
   "metadata": {},
   "outputs": [],
   "source": [
    "score = c(90, 85, 73, 80, 85, 65, 78, 50, 68, 96)\n",
    "names(score) = c('KOR','ENG','ATH','HIST','SOC','MUSIC','BIO','EARTH','PHY','ART')"
   ]
  },
  {
   "cell_type": "code",
   "execution_count": 29,
   "id": "d056f0a0",
   "metadata": {},
   "outputs": [
    {
     "data": {
      "text/html": [
       "<style>\n",
       ".dl-inline {width: auto; margin:0; padding: 0}\n",
       ".dl-inline>dt, .dl-inline>dd {float: none; width: auto; display: inline-block}\n",
       ".dl-inline>dt::after {content: \":\\0020\"; padding-right: .5ex}\n",
       ".dl-inline>dt:not(:first-of-type) {padding-left: .5ex}\n",
       "</style><dl class=dl-inline><dt>KOR</dt><dd>90</dd><dt>ENG</dt><dd>85</dd><dt>ATH</dt><dd>73</dd><dt>HIST</dt><dd>80</dd><dt>SOC</dt><dd>85</dd><dt>MUSIC</dt><dd>65</dd><dt>BIO</dt><dd>78</dd><dt>EARTH</dt><dd>50</dd><dt>PHY</dt><dd>68</dd><dt>ART</dt><dd>96</dd></dl>\n"
      ],
      "text/latex": [
       "\\begin{description*}\n",
       "\\item[KOR] 90\n",
       "\\item[ENG] 85\n",
       "\\item[ATH] 73\n",
       "\\item[HIST] 80\n",
       "\\item[SOC] 85\n",
       "\\item[MUSIC] 65\n",
       "\\item[BIO] 78\n",
       "\\item[EARTH] 50\n",
       "\\item[PHY] 68\n",
       "\\item[ART] 96\n",
       "\\end{description*}\n"
      ],
      "text/markdown": [
       "KOR\n",
       ":   90ENG\n",
       ":   85ATH\n",
       ":   73HIST\n",
       ":   80SOC\n",
       ":   85MUSIC\n",
       ":   65BIO\n",
       ":   78EARTH\n",
       ":   50PHY\n",
       ":   68ART\n",
       ":   96\n",
       "\n"
      ],
      "text/plain": [
       "  KOR   ENG   ATH  HIST   SOC MUSIC   BIO EARTH   PHY   ART \n",
       "   90    85    73    80    85    65    78    50    68    96 "
      ]
     },
     "metadata": {},
     "output_type": "display_data"
    }
   ],
   "source": [
    "score"
   ]
  },
  {
   "cell_type": "code",
   "execution_count": 30,
   "id": "10c6110a",
   "metadata": {},
   "outputs": [
    {
     "data": {
      "text/html": [
       "77"
      ],
      "text/latex": [
       "77"
      ],
      "text/markdown": [
       "77"
      ],
      "text/plain": [
       "[1] 77"
      ]
     },
     "metadata": {},
     "output_type": "display_data"
    },
    {
     "data": {
      "text/html": [
       "79"
      ],
      "text/latex": [
       "79"
      ],
      "text/markdown": [
       "79"
      ],
      "text/plain": [
       "[1] 79"
      ]
     },
     "metadata": {},
     "output_type": "display_data"
    }
   ],
   "source": [
    "mean(score)\n",
    "median(score)"
   ]
  },
  {
   "cell_type": "code",
   "execution_count": 31,
   "id": "afa005b6",
   "metadata": {},
   "outputs": [
    {
     "data": {
      "text/html": [
       "13.490737563232"
      ],
      "text/latex": [
       "13.490737563232"
      ],
      "text/markdown": [
       "13.490737563232"
      ],
      "text/plain": [
       "[1] 13.49074"
      ]
     },
     "metadata": {},
     "output_type": "display_data"
    }
   ],
   "source": [
    "sd(score)"
   ]
  },
  {
   "cell_type": "code",
   "execution_count": 35,
   "id": "a73acc59",
   "metadata": {},
   "outputs": [
    {
     "data": {
      "text/html": [
       "96"
      ],
      "text/latex": [
       "96"
      ],
      "text/markdown": [
       "96"
      ],
      "text/plain": [
       "[1] 96"
      ]
     },
     "metadata": {},
     "output_type": "display_data"
    }
   ],
   "source": [
    "max(score)"
   ]
  },
  {
   "cell_type": "code",
   "execution_count": 37,
   "id": "9aff33d2",
   "metadata": {},
   "outputs": [
    {
     "data": {
      "text/html": [
       "'ART'"
      ],
      "text/latex": [
       "'ART'"
      ],
      "text/markdown": [
       "'ART'"
      ],
      "text/plain": [
       "[1] \"ART\""
      ]
     },
     "metadata": {},
     "output_type": "display_data"
    }
   ],
   "source": [
    "names(score[score == max(score)])"
   ]
  },
  {
   "cell_type": "code",
   "execution_count": 38,
   "id": "e5a98ba3",
   "metadata": {},
   "outputs": [
    {
     "data": {
      "text/html": [
       "'EARTH'"
      ],
      "text/latex": [
       "'EARTH'"
      ],
      "text/markdown": [
       "'EARTH'"
      ],
      "text/plain": [
       "[1] \"EARTH\""
      ]
     },
     "metadata": {},
     "output_type": "display_data"
    }
   ],
   "source": [
    "names(score[score == min(score)])"
   ]
  },
  {
   "cell_type": "code",
   "execution_count": 40,
   "id": "cf0c9179",
   "metadata": {},
   "outputs": [
    {
     "data": {
      "text/html": [
       "<strong>EARTH:</strong> 50"
      ],
      "text/latex": [
       "\\textbf{EARTH:} 50"
      ],
      "text/markdown": [
       "**EARTH:** 50"
      ],
      "text/plain": [
       "EARTH \n",
       "   50 "
      ]
     },
     "metadata": {},
     "output_type": "display_data"
    }
   ],
   "source": [
    "score[score == min(score)]"
   ]
  },
  {
   "cell_type": "code",
   "execution_count": 42,
   "id": "dc51253e",
   "metadata": {},
   "outputs": [
    {
     "data": {
      "text/html": [
       "<style>\n",
       ".list-inline {list-style: none; margin:0; padding: 0}\n",
       ".list-inline>li {display: inline-block}\n",
       ".list-inline>li:not(:last-child)::after {content: \"\\00b7\"; padding: 0 .5ex}\n",
       "</style>\n",
       "<ol class=list-inline><li>'KOR'</li><li>'ENG'</li><li>'ATH'</li><li>'HIST'</li><li>'SOC'</li><li>'MUSIC'</li><li>'BIO'</li><li>'EARTH'</li><li>'PHY'</li><li>'ART'</li></ol>\n"
      ],
      "text/latex": [
       "\\begin{enumerate*}\n",
       "\\item 'KOR'\n",
       "\\item 'ENG'\n",
       "\\item 'ATH'\n",
       "\\item 'HIST'\n",
       "\\item 'SOC'\n",
       "\\item 'MUSIC'\n",
       "\\item 'BIO'\n",
       "\\item 'EARTH'\n",
       "\\item 'PHY'\n",
       "\\item 'ART'\n",
       "\\end{enumerate*}\n"
      ],
      "text/markdown": [
       "1. 'KOR'\n",
       "2. 'ENG'\n",
       "3. 'ATH'\n",
       "4. 'HIST'\n",
       "5. 'SOC'\n",
       "6. 'MUSIC'\n",
       "7. 'BIO'\n",
       "8. 'EARTH'\n",
       "9. 'PHY'\n",
       "10. 'ART'\n",
       "\n",
       "\n"
      ],
      "text/plain": [
       " [1] \"KOR\"   \"ENG\"   \"ATH\"   \"HIST\"  \"SOC\"   \"MUSIC\" \"BIO\"   \"EARTH\" \"PHY\"  \n",
       "[10] \"ART\"  "
      ]
     },
     "metadata": {},
     "output_type": "display_data"
    }
   ],
   "source": [
    "names(score == max(score))"
   ]
  },
  {
   "cell_type": "code",
   "execution_count": 43,
   "id": "1599d7c1",
   "metadata": {},
   "outputs": [
    {
     "data": {
      "text/html": [
       "'ART'"
      ],
      "text/latex": [
       "'ART'"
      ],
      "text/markdown": [
       "'ART'"
      ],
      "text/plain": [
       "[1] \"ART\""
      ]
     },
     "metadata": {},
     "output_type": "display_data"
    }
   ],
   "source": [
    "names(score[score == max(score)])"
   ]
  },
  {
   "cell_type": "code",
   "execution_count": 46,
   "id": "a97771b4",
   "metadata": {},
   "outputs": [
    {
     "data": {
      "image/png": "[encoded data removed]",
      "text/plain": [
       "Plot with title \"boxplot of usa_01 exam oca\""
      ]
     },
     "metadata": {
      "image/png": {
       "height": 420,
       "width": 420
      }
     },
     "output_type": "display_data"
    }
   ],
   "source": [
    "boxplot(score,\n",
    "       main='boxplot of usa_01 exam oca')"
   ]
  },
  {
   "cell_type": "code",
   "execution_count": 51,
   "id": "6aa6cae3",
   "metadata": {},
   "outputs": [
    {
     "data": {
      "image/png": "[encoded data removed]",
      "text/plain": [
       "Plot with title \"학생 성적\""
      ]
     },
     "metadata": {
      "image/png": {
       "height": 420,
       "width": 420
      }
     },
     "output_type": "display_data"
    }
   ],
   "source": [
    "hist(score,\n",
    "    main='학생 성적',\n",
    "    col = 'purple',\n",
    "    border ='pink')"
   ]
  },
  {
   "cell_type": "code",
   "execution_count": 52,
   "id": "8e6d0afc",
   "metadata": {},
   "outputs": [
    {
     "data": {
      "text/html": [
       "3.21725"
      ],
      "text/latex": [
       "3.21725"
      ],
      "text/markdown": [
       "3.21725"
      ],
      "text/plain": [
       "[1] 3.21725"
      ]
     },
     "metadata": {},
     "output_type": "display_data"
    }
   ],
   "source": [
    "mean(mtcars$wt)"
   ]
  },
  {
   "cell_type": "code",
   "execution_count": 53,
   "id": "6cfc1359",
   "metadata": {},
   "outputs": [
    {
     "data": {
      "text/html": [
       "3.325"
      ],
      "text/latex": [
       "3.325"
      ],
      "text/markdown": [
       "3.325"
      ],
      "text/plain": [
       "[1] 3.325"
      ]
     },
     "metadata": {},
     "output_type": "display_data"
    }
   ],
   "source": [
    "median(mtcars$wt)"
   ]
  },
  {
   "cell_type": "code",
   "execution_count": 55,
   "id": "c5838ad5",
   "metadata": {},
   "outputs": [
    {
     "data": {
      "text/html": [
       "3.325"
      ],
      "text/latex": [
       "3.325"
      ],
      "text/markdown": [
       "3.325"
      ],
      "text/plain": [
       "[1] 3.325"
      ]
     },
     "metadata": {},
     "output_type": "display_data"
    }
   ],
   "source": [
    "mean(mtcars$wt, trim = 1.5)\n",
    "# 절사평균 : 1.5 == 15%"
   ]
  },
  {
   "cell_type": "code",
   "execution_count": 57,
   "id": "558035c5",
   "metadata": {},
   "outputs": [
    {
     "data": {
      "text/html": [
       "0.978457442989697"
      ],
      "text/latex": [
       "0.978457442989697"
      ],
      "text/markdown": [
       "0.978457442989697"
      ],
      "text/plain": [
       "[1] 0.9784574"
      ]
     },
     "metadata": {},
     "output_type": "display_data"
    }
   ],
   "source": [
    "sd(mtcars$wt)"
   ]
  },
  {
   "cell_type": "code",
   "execution_count": 58,
   "id": "859a2297",
   "metadata": {},
   "outputs": [
    {
     "data": {
      "text/plain": [
       "   Min. 1st Qu.  Median    Mean 3rd Qu.    Max. \n",
       "  1.513   2.581   3.325   3.217   3.610   5.424 "
      ]
     },
     "metadata": {},
     "output_type": "display_data"
    }
   ],
   "source": [
    "summary(mtcars$wt)"
   ]
  },
  {
   "cell_type": "code",
   "execution_count": 60,
   "id": "f7f7e0bd",
   "metadata": {},
   "outputs": [
    {
     "data": {
      "text/html": [
       "<style>\n",
       ".dl-inline {width: auto; margin:0; padding: 0}\n",
       ".dl-inline>dt, .dl-inline>dd {float: none; width: auto; display: inline-block}\n",
       ".dl-inline>dt::after {content: \":\\0020\"; padding-right: .5ex}\n",
       ".dl-inline>dt:not(:first-of-type) {padding-left: .5ex}\n",
       "</style><dl class=dl-inline><dt>0%</dt><dd>1.513</dd><dt>25%</dt><dd>2.58125</dd><dt>50%</dt><dd>3.325</dd><dt>75%</dt><dd>3.61</dd><dt>100%</dt><dd>5.424</dd></dl>\n"
      ],
      "text/latex": [
       "\\begin{description*}\n",
       "\\item[0\\textbackslash{}\\%] 1.513\n",
       "\\item[25\\textbackslash{}\\%] 2.58125\n",
       "\\item[50\\textbackslash{}\\%] 3.325\n",
       "\\item[75\\textbackslash{}\\%] 3.61\n",
       "\\item[100\\textbackslash{}\\%] 5.424\n",
       "\\end{description*}\n"
      ],
      "text/markdown": [
       "0%\n",
       ":   1.51325%\n",
       ":   2.5812550%\n",
       ":   3.32575%\n",
       ":   3.61100%\n",
       ":   5.424\n",
       "\n"
      ],
      "text/plain": [
       "     0%     25%     50%     75%    100% \n",
       "1.51300 2.58125 3.32500 3.61000 5.42400 "
      ]
     },
     "metadata": {},
     "output_type": "display_data"
    }
   ],
   "source": [
    "quantile(mtcars$wt)"
   ]
  },
  {
   "cell_type": "code",
   "execution_count": 61,
   "id": "28b5d384",
   "metadata": {},
   "outputs": [
    {
     "data": {
      "text/plain": [
       "\n",
       " 4  6  8 \n",
       "11  7 14 "
      ]
     },
     "metadata": {},
     "output_type": "display_data"
    }
   ],
   "source": [
    "table(mtcars$cyl)"
   ]
  },
  {
   "cell_type": "code",
   "execution_count": 64,
   "id": "ecad7323",
   "metadata": {},
   "outputs": [
    {
     "data": {
      "image/png": "[encoded data removed]",
      "text/plain": [
       "Plot with title \"barplot of syl table\""
      ]
     },
     "metadata": {
      "image/png": {
       "height": 420,
       "width": 420
      }
     },
     "output_type": "display_data"
    }
   ],
   "source": [
    "barplot(table(mtcars$cyl),\n",
    "       main='barplot of syl table',\n",
    "       xlab='cyl values',\n",
    "       ylab = 'count')"
   ]
  },
  {
   "cell_type": "code",
   "execution_count": 67,
   "id": "0afa61de",
   "metadata": {},
   "outputs": [
    {
     "data": {
      "image/png": "[encoded data removed]",
      "text/plain": [
       "Plot with title \"Histogram of table(mtcars$wt)\""
      ]
     },
     "metadata": {
      "image/png": {
       "height": 420,
       "width": 420
      }
     },
     "output_type": "display_data"
    }
   ],
   "source": [
    "hist(table(mtcars$wt))"
   ]
  },
  {
   "cell_type": "code",
   "execution_count": 69,
   "id": "31811256",
   "metadata": {},
   "outputs": [
    {
     "name": "stderr",
     "output_type": "stream",
     "text": [
      "Warning message in min(x):\n",
      "\"no non-missing arguments to min; returning Inf\"\n",
      "Warning message in max(x):\n",
      "\"no non-missing arguments to max; returning -Inf\"\n"
     ]
    },
    {
     "ename": "ERROR",
     "evalue": "Error in plot.window(xlim = xlim, ylim = ylim, log = log, yaxs = pars$yaxs): need finite 'ylim' values\n",
     "output_type": "error",
     "traceback": [
      "Error in plot.window(xlim = xlim, ylim = ylim, log = log, yaxs = pars$yaxs): need finite 'ylim' values\nTraceback:\n",
      "1. boxplot(mtcars$dist)",
      "2. boxplot.default(mtcars$dist)",
      "3. do.call(bxp, c(list(z, notch = notch, width = width, varwidth = varwidth, \n .     log = log, border = border, pars = pars, outline = outline, \n .     horizontal = horizontal, add = add, ann = ann, at = at), \n .     args[namedargs]), quote = TRUE)",
      "4. (function (z, notch = FALSE, width = NULL, varwidth = FALSE, \n .     outline = TRUE, notch.frac = 0.5, log = \"\", border = par(\"fg\"), \n .     pars = NULL, frame.plot = axes, horizontal = FALSE, ann = TRUE, \n .     add = FALSE, at = NULL, show.names = NULL, ...) \n . {\n .     pars <- as.list(pars)\n .     if (...length()) {\n .         nmsA <- names(args <- list(...))\n .         if (anyDuplicated(nmsA)) {\n .             iD <- duplicated(nmsA)\n .             warning(sprintf(ngettext(sum(iD), \"Duplicated argument %s is disregarded\", \n .                 \"Duplicated arguments %s are disregarded\"), sub(\"^list\\\\((.*)\\\\)\", \n .                 \"\\\\1\", deparse(args[iD]))), domain = NA)\n .             nmsA <- names(args <- args[!iD])\n .         }\n .         pars[nmsA] <- args\n .     }\n .     bplt <- function(x, wid, stats, out, conf, notch, xlog, i) {\n .         ok <- TRUE\n .         if (!anyNA(stats)) {\n .             xP <- if (xlog) \n .                 function(x, w) x * exp(w)\n .             else function(x, w) x + w\n .             wid <- wid/2\n .             if (notch) {\n .                 ok <- stats[2L] <= conf[1L] && conf[2L] <= stats[4L]\n .                 xx <- xP(x, wid * c(-1, 1, 1, notch.frac, 1, \n .                   1, -1, -1, -notch.frac, -1))\n .                 yy <- c(stats[c(2, 2)], conf[1L], stats[3L], \n .                   conf[2L], stats[c(4, 4)], conf[2L], stats[3L], \n .                   conf[1L])\n .             }\n .             else {\n .                 xx <- xP(x, wid * c(-1, 1, 1, -1))\n .                 yy <- stats[c(2, 2, 4, 4)]\n .             }\n .             if (!notch) \n .                 notch.frac <- 1\n .             wntch <- notch.frac * wid\n .             xypolygon(xx, yy, lty = \"blank\", col = boxfill[i])\n .             xysegments(xP(x, -wntch), stats[3L], xP(x, +wntch), \n .                 stats[3L], lty = medlty[i], lwd = medlwd[i], \n .                 col = medcol[i], lend = 1)\n .             xypoints(x, stats[3L], pch = medpch[i], cex = medcex[i], \n .                 col = medcol[i], bg = medbg[i])\n .             xysegments(rep.int(x, 2), stats[c(1, 5)], rep.int(x, \n .                 2), stats[c(2, 4)], lty = whisklty[i], lwd = whisklwd[i], \n .                 col = whiskcol[i])\n .             xysegments(rep.int(xP(x, -wid * staplewex[i]), 2), \n .                 stats[c(1, 5)], rep.int(xP(x, +wid * staplewex[i]), \n .                   2), stats[c(1, 5)], lty = staplelty[i], lwd = staplelwd[i], \n .                 col = staplecol[i])\n .             xypolygon(xx, yy, lty = boxlty[i], lwd = boxlwd[i], \n .                 border = boxcol[i])\n .             if ((nout <- length(out))) {\n .                 xysegments(rep(x - wid * outwex, nout), out, \n .                   rep(x + wid * outwex, nout), out, lty = outlty[i], \n .                   lwd = outlwd[i], col = outcol[i])\n .                 xypoints(rep.int(x, nout), out, pch = outpch[i], \n .                   lwd = outlwd[i], cex = outcex[i], col = outcol[i], \n .                   bg = outbg[i])\n .             }\n .             if (any(inf <- !is.finite(out))) {\n .                 warning(sprintf(ngettext(length(unique(out[inf])), \n .                   \"Outlier (%s) in boxplot %d is not drawn\", \n .                   \"Outliers (%s) in boxplot %d are not drawn\"), \n .                   paste(unique(out[inf]), collapse = \", \"), i), \n .                   domain = NA)\n .             }\n .         }\n .         return(ok)\n .     }\n .     if (!is.list(z) || 0L == (n <- length(z$n))) \n .         stop(\"invalid first argument\")\n .     if (is.null(at)) \n .         at <- 1L:n\n .     else if (length(at) != n) \n .         stop(gettextf(\"'at' must have same length as 'z$n', i.e. %d\", \n .             n), domain = NA)\n .     if (is.null(z$out)) \n .         z$out <- numeric()\n .     if (is.null(z$group) || !outline) \n .         z$group <- integer()\n .     if (is.null(pars$ylim)) \n .         ylim <- range(z$stats[is.finite(z$stats)], if (outline) z$out[is.finite(z$out)], \n .             if (notch) z$conf[is.finite(z$conf)])\n .     else {\n .         ylim <- pars$ylim\n .         pars$ylim <- NULL\n .     }\n .     if (length(border) == 0L) \n .         border <- par(\"fg\")\n .     dev.hold()\n .     on.exit(dev.flush())\n .     if (!add) {\n .         if (is.null(pars$xlim)) \n .             xlim <- range(at, finite = TRUE) + c(-0.5, 0.5)\n .         else {\n .             xlim <- pars$xlim\n .             pars$xlim <- NULL\n .         }\n .         plot.new()\n .         if (horizontal) \n .             plot.window(ylim = xlim, xlim = ylim, log = log, \n .                 xaxs = pars$yaxs)\n .         else plot.window(xlim = xlim, ylim = ylim, log = log, \n .             yaxs = pars$yaxs)\n .     }\n .     xlog <- (par(\"ylog\") && horizontal) || (par(\"xlog\") && !horizontal)\n .     pcycle <- function(p, def1, def2 = NULL) rep(if (length(p)) p else if (length(def1)) def1 else def2, \n .         length.out = n)\n .     p <- function(sym) pars[[sym, exact = TRUE]]\n .     boxlty <- pcycle(pars$boxlty, p(\"lty\"), par(\"lty\"))\n .     boxlwd <- pcycle(pars$boxlwd, p(\"lwd\"), par(\"lwd\"))\n .     boxcol <- pcycle(pars$boxcol, border)\n .     boxfill <- pcycle(pars$boxfill, par(\"bg\"))\n .     boxwex <- pcycle(pars$boxwex, 0.8 * {\n .         if (n <= 1) \n .             1\n .         else stats::quantile(diff(sort(if (xlog) \n .             log(at)\n .         else at)), 0.1)\n .     })\n .     medlty <- pcycle(pars$medlty, p(\"lty\"), par(\"lty\"))\n .     medlwd <- pcycle(pars$medlwd, 3 * p(\"lwd\"), 3 * par(\"lwd\"))\n .     medpch <- pcycle(pars$medpch, NA_integer_)\n .     medcex <- pcycle(pars$medcex, p(\"cex\"), par(\"cex\"))\n .     medcol <- pcycle(pars$medcol, border)\n .     medbg <- pcycle(pars$medbg, p(\"bg\"), par(\"bg\"))\n .     whisklty <- pcycle(pars$whisklty, p(\"lty\"), \"dashed\")\n .     whisklwd <- pcycle(pars$whisklwd, p(\"lwd\"), par(\"lwd\"))\n .     whiskcol <- pcycle(pars$whiskcol, border)\n .     staplelty <- pcycle(pars$staplelty, p(\"lty\"), par(\"lty\"))\n .     staplelwd <- pcycle(pars$staplelwd, p(\"lwd\"), par(\"lwd\"))\n .     staplecol <- pcycle(pars$staplecol, border)\n .     staplewex <- pcycle(pars$staplewex, 0.5)\n .     outlty <- pcycle(pars$outlty, \"blank\")\n .     outlwd <- pcycle(pars$outlwd, p(\"lwd\"), par(\"lwd\"))\n .     outpch <- pcycle(pars$outpch, p(\"pch\"), par(\"pch\"))\n .     outcex <- pcycle(pars$outcex, p(\"cex\"), par(\"cex\"))\n .     outcol <- pcycle(pars$outcol, border)\n .     outbg <- pcycle(pars$outbg, p(\"bg\"), par(\"bg\"))\n .     outwex <- pcycle(pars$outwex, 0.5)\n .     width <- if (!is.null(width)) {\n .         if (length(width) != n || anyNA(width) || any(width <= \n .             0)) \n .             stop(\"invalid boxplot widths\")\n .         boxwex * width/max(width)\n .     }\n .     else if (varwidth) \n .         boxwex * sqrt(z$n/max(z$n))\n .     else if (n == 1) \n .         0.5 * boxwex\n .     else rep.int(boxwex, n)\n .     if (horizontal) {\n .         xypoints <- function(x, y, ...) points(y, x, ...)\n .         xypolygon <- function(x, y, ...) polygon(y, x, ...)\n .         xysegments <- function(x0, y0, x1, y1, ...) segments(y0, \n .             x0, y1, x1, ...)\n .     }\n .     else {\n .         xypoints <- points\n .         xypolygon <- polygon\n .         xysegments <- segments\n .     }\n .     ok <- TRUE\n .     for (i in 1L:n) ok <- ok & bplt(at[i], wid = width[i], stats = z$stats[, \n .         i], out = z$out[z$group == i], conf = z$conf[, i], notch = notch, \n .         xlog = xlog, i = i)\n .     if (!ok) \n .         warning(\"some notches went outside hinges ('box'): maybe set notch=FALSE\")\n .     axes <- is.null(pars$axes)\n .     if (!axes) {\n .         axes <- pars$axes\n .         pars$axes <- NULL\n .     }\n .     if (axes) {\n .         ax.pars <- pars[names(pars) %in% c(\"xaxt\", \"yaxt\", \"xaxp\", \n .             \"yaxp\", \"gap.axis\", \"las\", \"cex.axis\", \"col.axis\", \n .             \"format\")]\n .         if (is.null(show.names)) \n .             show.names <- n > 1\n .         if (show.names) \n .             do.call(\"axis\", c(list(side = 1 + horizontal, at = at, \n .                 labels = z$names), ax.pars), quote = TRUE)\n .         do.call(\"Axis\", c(list(x = z$stats, side = 2 - horizontal), \n .             ax.pars), quote = TRUE)\n .     }\n .     if (ann) \n .         do.call(title, pars[names(pars) %in% c(\"main\", \"cex.main\", \n .             \"col.main\", \"sub\", \"cex.sub\", \"col.sub\", \"xlab\", \n .             \"ylab\", \"cex.lab\", \"col.lab\")], quote = TRUE)\n .     if (frame.plot) \n .         box()\n .     invisible(at)\n . })(base::quote(list(stats = structure(c(NA_real_, NA_real_, NA_real_, \n . NA_real_, NA_real_), dim = c(5L, 1L)), n = 0, conf = structure(c(NA_real_, \n . NA_real_), dim = 2:1), out = numeric(0), group = numeric(0), \n .     names = \"1\")), notch = base::quote(FALSE), width = base::quote(NULL), \n .     varwidth = base::quote(FALSE), log = base::quote(\"\"), border = base::quote(\"black\"), \n .     pars = base::quote(list(boxwex = 0.8, staplewex = 0.5, outwex = 0.5, \n .         boxfill = \"lightgray\")), outline = base::quote(TRUE), \n .     horizontal = base::quote(FALSE), add = base::quote(FALSE), \n .     ann = base::quote(TRUE), at = base::quote(NULL))",
      "5. plot.window(xlim = xlim, ylim = ylim, log = log, yaxs = pars$yaxs)"
     ]
    },
    {
     "data": {
      "image/png": "[encoded data removed]",
      "text/plain": [
       "plot without title"
      ]
     },
     "metadata": {
      "image/png": {
       "height": 420,
       "width": 420
      }
     },
     "output_type": "display_data"
    }
   ],
   "source": [
    "boxplot(mtcars$dist)"
   ]
  },
  {
   "cell_type": "code",
   "execution_count": 71,
   "id": "b8b6a849",
   "metadata": {},
   "outputs": [
    {
     "data": {
      "image/png": "[encoded data removed]",
      "text/plain": [
       "Plot with title \"배기량 정보\""
      ]
     },
     "metadata": {
      "image/png": {
       "height": 420,
       "width": 420
      }
     },
     "output_type": "display_data"
    }
   ],
   "source": [
    "boxplot(mtcars$disp,\n",
    "       main='배기량 정보')"
   ]
  },
  {
   "cell_type": "code",
   "execution_count": 74,
   "id": "52e0d11f",
   "metadata": {},
   "outputs": [
    {
     "data": {
      "image/png": "[encoded data removed]",
      "text/plain": [
       "Plot with title \"기어에 따른 연비값\""
      ]
     },
     "metadata": {
      "image/png": {
       "height": 420,
       "width": 420
      }
     },
     "output_type": "display_data"
    }
   ],
   "source": [
    "boxplot(mtcars$mpg~mtcars$gear,\n",
    "       main = '기어에 따른 연비값')"
   ]
  },
  {
   "cell_type": "code",
   "execution_count": 75,
   "id": "21b99401",
   "metadata": {},
   "outputs": [
    {
     "data": {
      "text/html": [
       "<table class=\"dataframe\">\n",
       "<caption>A data.frame: 6 × 3</caption>\n",
       "<thead>\n",
       "\t<tr><th></th><th scope=col>Girth</th><th scope=col>Height</th><th scope=col>Volume</th></tr>\n",
       "\t<tr><th></th><th scope=col>&lt;dbl&gt;</th><th scope=col>&lt;dbl&gt;</th><th scope=col>&lt;dbl&gt;</th></tr>\n",
       "</thead>\n",
       "<tbody>\n",
       "\t<tr><th scope=row>1</th><td> 8.3</td><td>70</td><td>10.3</td></tr>\n",
       "\t<tr><th scope=row>2</th><td> 8.6</td><td>65</td><td>10.3</td></tr>\n",
       "\t<tr><th scope=row>3</th><td> 8.8</td><td>63</td><td>10.2</td></tr>\n",
       "\t<tr><th scope=row>4</th><td>10.5</td><td>72</td><td>16.4</td></tr>\n",
       "\t<tr><th scope=row>5</th><td>10.7</td><td>81</td><td>18.8</td></tr>\n",
       "\t<tr><th scope=row>6</th><td>10.8</td><td>83</td><td>19.7</td></tr>\n",
       "</tbody>\n",
       "</table>\n"
      ],
      "text/latex": [
       "A data.frame: 6 × 3\n",
       "\\begin{tabular}{r|lll}\n",
       "  & Girth & Height & Volume\\\\\n",
       "  & <dbl> & <dbl> & <dbl>\\\\\n",
       "\\hline\n",
       "\t1 &  8.3 & 70 & 10.3\\\\\n",
       "\t2 &  8.6 & 65 & 10.3\\\\\n",
       "\t3 &  8.8 & 63 & 10.2\\\\\n",
       "\t4 & 10.5 & 72 & 16.4\\\\\n",
       "\t5 & 10.7 & 81 & 18.8\\\\\n",
       "\t6 & 10.8 & 83 & 19.7\\\\\n",
       "\\end{tabular}\n"
      ],
      "text/markdown": [
       "\n",
       "A data.frame: 6 × 3\n",
       "\n",
       "| <!--/--> | Girth &lt;dbl&gt; | Height &lt;dbl&gt; | Volume &lt;dbl&gt; |\n",
       "|---|---|---|---|\n",
       "| 1 |  8.3 | 70 | 10.3 |\n",
       "| 2 |  8.6 | 65 | 10.3 |\n",
       "| 3 |  8.8 | 63 | 10.2 |\n",
       "| 4 | 10.5 | 72 | 16.4 |\n",
       "| 5 | 10.7 | 81 | 18.8 |\n",
       "| 6 | 10.8 | 83 | 19.7 |\n",
       "\n"
      ],
      "text/plain": [
       "  Girth Height Volume\n",
       "1  8.3  70     10.3  \n",
       "2  8.6  65     10.3  \n",
       "3  8.8  63     10.2  \n",
       "4 10.5  72     16.4  \n",
       "5 10.7  81     18.8  \n",
       "6 10.8  83     19.7  "
      ]
     },
     "metadata": {},
     "output_type": "display_data"
    }
   ],
   "source": [
    "head(trees)"
   ]
  },
  {
   "cell_type": "code",
   "execution_count": 76,
   "id": "0ff5ed5a",
   "metadata": {},
   "outputs": [
    {
     "data": {
      "text/html": [
       "13.2483870967742"
      ],
      "text/latex": [
       "13.2483870967742"
      ],
      "text/markdown": [
       "13.2483870967742"
      ],
      "text/plain": [
       "[1] 13.24839"
      ]
     },
     "metadata": {},
     "output_type": "display_data"
    }
   ],
   "source": [
    "mean(trees$Girth)"
   ]
  },
  {
   "cell_type": "code",
   "execution_count": 77,
   "id": "18d7e304",
   "metadata": {},
   "outputs": [
    {
     "data": {
      "text/html": [
       "12.9"
      ],
      "text/latex": [
       "12.9"
      ],
      "text/markdown": [
       "12.9"
      ],
      "text/plain": [
       "[1] 12.9"
      ]
     },
     "metadata": {},
     "output_type": "display_data"
    }
   ],
   "source": [
    "median(trees$Girth)"
   ]
  },
  {
   "cell_type": "code",
   "execution_count": 78,
   "id": "275a5f86",
   "metadata": {},
   "outputs": [
    {
     "data": {
      "text/html": [
       "12.9"
      ],
      "text/latex": [
       "12.9"
      ],
      "text/markdown": [
       "12.9"
      ],
      "text/plain": [
       "[1] 12.9"
      ]
     },
     "metadata": {},
     "output_type": "display_data"
    }
   ],
   "source": [
    "mean(trees$Girth, trim = 1.5)"
   ]
  },
  {
   "cell_type": "code",
   "execution_count": 79,
   "id": "f62d8c66",
   "metadata": {},
   "outputs": [
    {
     "data": {
      "text/html": [
       "3.13813861683875"
      ],
      "text/latex": [
       "3.13813861683875"
      ],
      "text/markdown": [
       "3.13813861683875"
      ],
      "text/plain": [
       "[1] 3.138139"
      ]
     },
     "metadata": {},
     "output_type": "display_data"
    }
   ],
   "source": [
    "sd(trees$Girth)"
   ]
  },
  {
   "cell_type": "code",
   "execution_count": 80,
   "id": "c358b877",
   "metadata": {},
   "outputs": [
    {
     "data": {
      "text/html": [
       "76"
      ],
      "text/latex": [
       "76"
      ],
      "text/markdown": [
       "76"
      ],
      "text/plain": [
       "[1] 76"
      ]
     },
     "metadata": {},
     "output_type": "display_data"
    }
   ],
   "source": [
    "mean(trees$Height)"
   ]
  },
  {
   "cell_type": "code",
   "execution_count": 81,
   "id": "42e75930",
   "metadata": {},
   "outputs": [
    {
     "data": {
      "text/html": [
       "12.9"
      ],
      "text/latex": [
       "12.9"
      ],
      "text/markdown": [
       "12.9"
      ],
      "text/plain": [
       "[1] 12.9"
      ]
     },
     "metadata": {},
     "output_type": "display_data"
    }
   ],
   "source": [
    "median(trees$Girth)"
   ]
  },
  {
   "cell_type": "code",
   "execution_count": 82,
   "id": "c917ca65",
   "metadata": {},
   "outputs": [
    {
     "data": {
      "text/html": [
       "12.9"
      ],
      "text/latex": [
       "12.9"
      ],
      "text/markdown": [
       "12.9"
      ],
      "text/plain": [
       "[1] 12.9"
      ]
     },
     "metadata": {},
     "output_type": "display_data"
    }
   ],
   "source": [
    "mean(trees$Girth, trim = 1.5)"
   ]
  },
  {
   "cell_type": "code",
   "execution_count": 83,
   "id": "939d2f04",
   "metadata": {},
   "outputs": [
    {
     "data": {
      "text/html": [
       "3.13813861683875"
      ],
      "text/latex": [
       "3.13813861683875"
      ],
      "text/markdown": [
       "3.13813861683875"
      ],
      "text/plain": [
       "[1] 3.138139"
      ]
     },
     "metadata": {},
     "output_type": "display_data"
    }
   ],
   "source": [
    "sd(trees$Girth)"
   ]
  },
  {
   "cell_type": "code",
   "execution_count": null,
   "id": "00089d05",
   "metadata": {},
   "outputs": [],
   "source": []
  }
 ],
 "metadata": {
  "kernelspec": {
   "display_name": "R",
   "language": "R",
   "name": "ir"
  },
  "language_info": {
   "codemirror_mode": "r",
   "file_extension": ".r",
   "mimetype": "text/x-r-source",
   "name": "R",
   "pygments_lexer": "r",
   "version": "4.3.1"
  }
 },
 "nbformat": 4,
 "nbformat_minor": 5
}
