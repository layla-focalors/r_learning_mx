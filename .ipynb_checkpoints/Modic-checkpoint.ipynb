{
 "cells": [
  {
   "cell_type": "code",
   "execution_count": 1,
   "id": "0038a37c",
   "metadata": {},
   "outputs": [
    {
     "data": {
      "text/html": [
       "'name'"
      ],
      "text/latex": [
       "'name'"
      ],
      "text/markdown": [
       "'name'"
      ],
      "text/plain": [
       "[1] \"name\""
      ]
     },
     "metadata": {},
     "output_type": "display_data"
    }
   ],
   "source": [
    "maipc = 'name'\n",
    "maipc"
   ]
  },
  {
   "cell_type": "code",
   "execution_count": null,
   "id": "ab754021",
   "metadata": {},
   "outputs": [],
   "source": []
  }
 ],
 "metadata": {
  "kernelspec": {
   "display_name": "R",
   "language": "R",
   "name": "ir"
  },
  "language_info": {
   "codemirror_mode": "r",
   "file_extension": ".r",
   "mimetype": "text/x-r-source",
   "name": "R",
   "pygments_lexer": "r",
   "version": "4.3.1"
  }
 },
 "nbformat": 4,
 "nbformat_minor": 5
}
