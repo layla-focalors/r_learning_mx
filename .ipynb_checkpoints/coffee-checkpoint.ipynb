{
 "cells": [
  {
   "cell_type": "code",
   "execution_count": 1,
   "id": "548ab827",
   "metadata": {},
   "outputs": [],
   "source": [
    "fab <- c(4,2,1,2,2,3,3,2,1,1)"
   ]
  },
  {
   "cell_type": "code",
   "execution_count": 2,
   "id": "e0beec12",
   "metadata": {},
   "outputs": [
    {
     "data": {
      "text/plain": [
       "fab\n",
       "1 2 3 4 \n",
       "3 4 2 1 "
      ]
     },
     "metadata": {},
     "output_type": "display_data"
    }
   ],
   "source": [
    "table(fab)"
   ]
  },
  {
   "cell_type": "code",
   "execution_count": null,
   "id": "5c12ad80",
   "metadata": {},
   "outputs": [],
   "source": []
  }
 ],
 "metadata": {
  "kernelspec": {
   "display_name": "R",
   "language": "R",
   "name": "ir"
  },
  "language_info": {
   "codemirror_mode": "r",
   "file_extension": ".r",
   "mimetype": "text/x-r-source",
   "name": "R",
   "pygments_lexer": "r",
   "version": "4.3.1"
  }
 },
 "nbformat": 4,
 "nbformat_minor": 5
}
