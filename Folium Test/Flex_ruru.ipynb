{
 "cells": [
  {
   "cell_type": "code",
   "execution_count": 1,
   "id": "d1e37395",
   "metadata": {},
   "outputs": [
    {
     "data": {
      "text/html": [
       "<table class=\"dataframe\">\n",
       "<caption>A data.frame: 50 × 2</caption>\n",
       "<thead>\n",
       "\t<tr><th scope=col>speed</th><th scope=col>dist</th></tr>\n",
       "\t<tr><th scope=col>&lt;dbl&gt;</th><th scope=col>&lt;dbl&gt;</th></tr>\n",
       "</thead>\n",
       "<tbody>\n",
       "\t<tr><td> 4</td><td>  2</td></tr>\n",
       "\t<tr><td> 4</td><td> 10</td></tr>\n",
       "\t<tr><td> 7</td><td>  4</td></tr>\n",
       "\t<tr><td> 7</td><td> 22</td></tr>\n",
       "\t<tr><td> 8</td><td> 16</td></tr>\n",
       "\t<tr><td> 9</td><td> 10</td></tr>\n",
       "\t<tr><td>10</td><td> 18</td></tr>\n",
       "\t<tr><td>10</td><td> 26</td></tr>\n",
       "\t<tr><td>10</td><td> 34</td></tr>\n",
       "\t<tr><td>11</td><td> 17</td></tr>\n",
       "\t<tr><td>11</td><td> 28</td></tr>\n",
       "\t<tr><td>12</td><td> 14</td></tr>\n",
       "\t<tr><td>12</td><td> 20</td></tr>\n",
       "\t<tr><td>12</td><td> 24</td></tr>\n",
       "\t<tr><td>12</td><td> 28</td></tr>\n",
       "\t<tr><td>13</td><td> 26</td></tr>\n",
       "\t<tr><td>13</td><td> 34</td></tr>\n",
       "\t<tr><td>13</td><td> 34</td></tr>\n",
       "\t<tr><td>13</td><td> 46</td></tr>\n",
       "\t<tr><td>14</td><td> 26</td></tr>\n",
       "\t<tr><td>14</td><td> 36</td></tr>\n",
       "\t<tr><td>14</td><td> 60</td></tr>\n",
       "\t<tr><td>14</td><td> 80</td></tr>\n",
       "\t<tr><td>15</td><td> 20</td></tr>\n",
       "\t<tr><td>15</td><td> 26</td></tr>\n",
       "\t<tr><td>15</td><td> 54</td></tr>\n",
       "\t<tr><td>16</td><td> 32</td></tr>\n",
       "\t<tr><td>16</td><td> 40</td></tr>\n",
       "\t<tr><td>17</td><td> 32</td></tr>\n",
       "\t<tr><td>17</td><td> 40</td></tr>\n",
       "\t<tr><td>17</td><td> 50</td></tr>\n",
       "\t<tr><td>18</td><td> 42</td></tr>\n",
       "\t<tr><td>18</td><td> 56</td></tr>\n",
       "\t<tr><td>18</td><td> 76</td></tr>\n",
       "\t<tr><td>18</td><td> 84</td></tr>\n",
       "\t<tr><td>19</td><td> 36</td></tr>\n",
       "\t<tr><td>19</td><td> 46</td></tr>\n",
       "\t<tr><td>19</td><td> 68</td></tr>\n",
       "\t<tr><td>20</td><td> 32</td></tr>\n",
       "\t<tr><td>20</td><td> 48</td></tr>\n",
       "\t<tr><td>20</td><td> 52</td></tr>\n",
       "\t<tr><td>20</td><td> 56</td></tr>\n",
       "\t<tr><td>20</td><td> 64</td></tr>\n",
       "\t<tr><td>22</td><td> 66</td></tr>\n",
       "\t<tr><td>23</td><td> 54</td></tr>\n",
       "\t<tr><td>24</td><td> 70</td></tr>\n",
       "\t<tr><td>24</td><td> 92</td></tr>\n",
       "\t<tr><td>24</td><td> 93</td></tr>\n",
       "\t<tr><td>24</td><td>120</td></tr>\n",
       "\t<tr><td>25</td><td> 85</td></tr>\n",
       "</tbody>\n",
       "</table>\n"
      ],
      "text/latex": [
       "A data.frame: 50 × 2\n",
       "\\begin{tabular}{ll}\n",
       " speed & dist\\\\\n",
       " <dbl> & <dbl>\\\\\n",
       "\\hline\n",
       "\t  4 &   2\\\\\n",
       "\t  4 &  10\\\\\n",
       "\t  7 &   4\\\\\n",
       "\t  7 &  22\\\\\n",
       "\t  8 &  16\\\\\n",
       "\t  9 &  10\\\\\n",
       "\t 10 &  18\\\\\n",
       "\t 10 &  26\\\\\n",
       "\t 10 &  34\\\\\n",
       "\t 11 &  17\\\\\n",
       "\t 11 &  28\\\\\n",
       "\t 12 &  14\\\\\n",
       "\t 12 &  20\\\\\n",
       "\t 12 &  24\\\\\n",
       "\t 12 &  28\\\\\n",
       "\t 13 &  26\\\\\n",
       "\t 13 &  34\\\\\n",
       "\t 13 &  34\\\\\n",
       "\t 13 &  46\\\\\n",
       "\t 14 &  26\\\\\n",
       "\t 14 &  36\\\\\n",
       "\t 14 &  60\\\\\n",
       "\t 14 &  80\\\\\n",
       "\t 15 &  20\\\\\n",
       "\t 15 &  26\\\\\n",
       "\t 15 &  54\\\\\n",
       "\t 16 &  32\\\\\n",
       "\t 16 &  40\\\\\n",
       "\t 17 &  32\\\\\n",
       "\t 17 &  40\\\\\n",
       "\t 17 &  50\\\\\n",
       "\t 18 &  42\\\\\n",
       "\t 18 &  56\\\\\n",
       "\t 18 &  76\\\\\n",
       "\t 18 &  84\\\\\n",
       "\t 19 &  36\\\\\n",
       "\t 19 &  46\\\\\n",
       "\t 19 &  68\\\\\n",
       "\t 20 &  32\\\\\n",
       "\t 20 &  48\\\\\n",
       "\t 20 &  52\\\\\n",
       "\t 20 &  56\\\\\n",
       "\t 20 &  64\\\\\n",
       "\t 22 &  66\\\\\n",
       "\t 23 &  54\\\\\n",
       "\t 24 &  70\\\\\n",
       "\t 24 &  92\\\\\n",
       "\t 24 &  93\\\\\n",
       "\t 24 & 120\\\\\n",
       "\t 25 &  85\\\\\n",
       "\\end{tabular}\n"
      ],
      "text/markdown": [
       "\n",
       "A data.frame: 50 × 2\n",
       "\n",
       "| speed &lt;dbl&gt; | dist &lt;dbl&gt; |\n",
       "|---|---|\n",
       "|  4 |   2 |\n",
       "|  4 |  10 |\n",
       "|  7 |   4 |\n",
       "|  7 |  22 |\n",
       "|  8 |  16 |\n",
       "|  9 |  10 |\n",
       "| 10 |  18 |\n",
       "| 10 |  26 |\n",
       "| 10 |  34 |\n",
       "| 11 |  17 |\n",
       "| 11 |  28 |\n",
       "| 12 |  14 |\n",
       "| 12 |  20 |\n",
       "| 12 |  24 |\n",
       "| 12 |  28 |\n",
       "| 13 |  26 |\n",
       "| 13 |  34 |\n",
       "| 13 |  34 |\n",
       "| 13 |  46 |\n",
       "| 14 |  26 |\n",
       "| 14 |  36 |\n",
       "| 14 |  60 |\n",
       "| 14 |  80 |\n",
       "| 15 |  20 |\n",
       "| 15 |  26 |\n",
       "| 15 |  54 |\n",
       "| 16 |  32 |\n",
       "| 16 |  40 |\n",
       "| 17 |  32 |\n",
       "| 17 |  40 |\n",
       "| 17 |  50 |\n",
       "| 18 |  42 |\n",
       "| 18 |  56 |\n",
       "| 18 |  76 |\n",
       "| 18 |  84 |\n",
       "| 19 |  36 |\n",
       "| 19 |  46 |\n",
       "| 19 |  68 |\n",
       "| 20 |  32 |\n",
       "| 20 |  48 |\n",
       "| 20 |  52 |\n",
       "| 20 |  56 |\n",
       "| 20 |  64 |\n",
       "| 22 |  66 |\n",
       "| 23 |  54 |\n",
       "| 24 |  70 |\n",
       "| 24 |  92 |\n",
       "| 24 |  93 |\n",
       "| 24 | 120 |\n",
       "| 25 |  85 |\n",
       "\n"
      ],
      "text/plain": [
       "   speed dist\n",
       "1   4      2 \n",
       "2   4     10 \n",
       "3   7      4 \n",
       "4   7     22 \n",
       "5   8     16 \n",
       "6   9     10 \n",
       "7  10     18 \n",
       "8  10     26 \n",
       "9  10     34 \n",
       "10 11     17 \n",
       "11 11     28 \n",
       "12 12     14 \n",
       "13 12     20 \n",
       "14 12     24 \n",
       "15 12     28 \n",
       "16 13     26 \n",
       "17 13     34 \n",
       "18 13     34 \n",
       "19 13     46 \n",
       "20 14     26 \n",
       "21 14     36 \n",
       "22 14     60 \n",
       "23 14     80 \n",
       "24 15     20 \n",
       "25 15     26 \n",
       "26 15     54 \n",
       "27 16     32 \n",
       "28 16     40 \n",
       "29 17     32 \n",
       "30 17     40 \n",
       "31 17     50 \n",
       "32 18     42 \n",
       "33 18     56 \n",
       "34 18     76 \n",
       "35 18     84 \n",
       "36 19     36 \n",
       "37 19     46 \n",
       "38 19     68 \n",
       "39 20     32 \n",
       "40 20     48 \n",
       "41 20     52 \n",
       "42 20     56 \n",
       "43 20     64 \n",
       "44 22     66 \n",
       "45 23     54 \n",
       "46 24     70 \n",
       "47 24     92 \n",
       "48 24     93 \n",
       "49 24    120 \n",
       "50 25     85 "
      ]
     },
     "metadata": {},
     "output_type": "display_data"
    }
   ],
   "source": [
    "cars"
   ]
  },
  {
   "cell_type": "code",
   "execution_count": 5,
   "id": "4043a6ad",
   "metadata": {},
   "outputs": [
    {
     "name": "stderr",
     "output_type": "stream",
     "text": [
      "Warning message in plot.window(...):\n",
      "\"\"data\" is not a graphical parameter\"\n",
      "Warning message in plot.xy(xy, type, ...):\n",
      "\"\"data\" is not a graphical parameter\"\n",
      "Warning message in axis(side = side, at = at, labels = labels, ...):\n",
      "\"\"data\" is not a graphical parameter\"\n",
      "Warning message in axis(side = side, at = at, labels = labels, ...):\n",
      "\"\"data\" is not a graphical parameter\"\n",
      "Warning message in box(...):\n",
      "\"\"data\" is not a graphical parameter\"\n",
      "Warning message in title(...):\n",
      "\"\"data\" is not a graphical parameter\"\n"
     ]
    },
    {
     "data": {
      "image/png": "[encoded data removed]",
      "text/plain": [
       "plot without title"
      ]
     },
     "metadata": {
      "image/png": {
       "height": 420,
       "width": 420
      }
     },
     "output_type": "display_data"
    }
   ],
   "source": [
    "plot(cars$speed, cars$dist, data = cars)"
   ]
  },
  {
   "cell_type": "code",
   "execution_count": 8,
   "id": "7136a37d",
   "metadata": {},
   "outputs": [
    {
     "name": "stderr",
     "output_type": "stream",
     "text": [
      "Warning message in plot.window(...):\n",
      "\"\"data\" is not a graphical parameter\"\n",
      "Warning message in plot.xy(xy, type, ...):\n",
      "\"\"data\" is not a graphical parameter\"\n",
      "Warning message in axis(side = side, at = at, labels = labels, ...):\n",
      "\"\"data\" is not a graphical parameter\"\n",
      "Warning message in axis(side = side, at = at, labels = labels, ...):\n",
      "\"\"data\" is not a graphical parameter\"\n",
      "Warning message in box(...):\n",
      "\"\"data\" is not a graphical parameter\"\n",
      "Warning message in title(...):\n",
      "\"\"data\" is not a graphical parameter\"\n"
     ]
    },
    {
     "data": {
      "text/html": [
       "<strong>1:</strong> 49.2718540145986"
      ],
      "text/latex": [
       "\\textbf{1:} 49.2718540145986"
      ],
      "text/markdown": [
       "**1:** 49.2718540145986"
      ],
      "text/plain": [
       "       1 \n",
       "49.27185 "
      ]
     },
     "metadata": {},
     "output_type": "display_data"
    },
    {
     "data": {
      "image/png": "[encoded data removed]",
      "text/plain": [
       "plot without title"
      ]
     },
     "metadata": {
      "image/png": {
       "height": 420,
       "width": 420
      }
     },
     "output_type": "display_data"
    }
   ],
   "source": [
    "plot(cars$speed, cars$dist, data = cars)\n",
    "abline(lm(dist~speed, data = cars))\n",
    "predict(lm(dist~speed, data = cars), newdata=data.frame(speed = 17))"
   ]
  },
  {
   "cell_type": "code",
   "execution_count": 9,
   "id": "e8ca673f",
   "metadata": {},
   "outputs": [
    {
     "data": {
      "text/plain": [
       "\n",
       "Call:\n",
       "lm(formula = dist ~ speed, data = cars)\n",
       "\n",
       "Coefficients:\n",
       "(Intercept)        speed  \n",
       "    -17.579        3.932  \n"
      ]
     },
     "metadata": {},
     "output_type": "display_data"
    }
   ],
   "source": [
    "lm(dist~speed, data = cars)"
   ]
  },
  {
   "cell_type": "code",
   "execution_count": 10,
   "id": "37e8d45f",
   "metadata": {},
   "outputs": [
    {
     "data": {
      "text/html": [
       "<strong>1:</strong> 49.2718540145986"
      ],
      "text/latex": [
       "\\textbf{1:} 49.2718540145986"
      ],
      "text/markdown": [
       "**1:** 49.2718540145986"
      ],
      "text/plain": [
       "       1 \n",
       "49.27185 "
      ]
     },
     "metadata": {},
     "output_type": "display_data"
    }
   ],
   "source": [
    "predict(lm(dist~speed, data = cars), newdata=data.frame(speed = 17))"
   ]
  },
  {
   "cell_type": "code",
   "execution_count": 12,
   "id": "f0724b91",
   "metadata": {},
   "outputs": [
    {
     "data": {
      "text/html": [
       "49.265"
      ],
      "text/latex": [
       "49.265"
      ],
      "text/markdown": [
       "49.265"
      ],
      "text/plain": [
       "[1] 49.265"
      ]
     },
     "metadata": {},
     "output_type": "display_data"
    }
   ],
   "source": [
    "-17.579 + 17 * 3.932"
   ]
  },
  {
   "cell_type": "code",
   "execution_count": null,
   "id": "f71ca0c8",
   "metadata": {},
   "outputs": [],
   "source": []
  },
  {
   "cell_type": "code",
   "execution_count": 14,
   "id": "427ec41f",
   "metadata": {},
   "outputs": [
    {
     "name": "stderr",
     "output_type": "stream",
     "text": [
      "Warning message:\n",
      "\"package 'car' was built under R version 4.3.2\"\n",
      "Loading required package: carData\n",
      "\n",
      "Warning message:\n",
      "\"package 'carData' was built under R version 4.3.2\"\n"
     ]
    }
   ],
   "source": [
    "library(MASS)\n",
    "library(car)"
   ]
  },
  {
   "cell_type": "code",
   "execution_count": 15,
   "id": "0bf8fc7b",
   "metadata": {},
   "outputs": [
    {
     "name": "stdout",
     "output_type": "stream",
     "text": [
      "Start:  AIC=1607.93\n",
      "income ~ education + prestige + women + census\n",
      "\n",
      "            Df Sum of Sq       RSS    AIC\n",
      "- census     1    639658 649654265 1606.0\n",
      "- education  1   5558323 654572930 1606.8\n",
      "<none>                   649014607 1607.9\n",
      "- prestige   1 143207106 792221712 1626.3\n",
      "- women      1 212639294 861653901 1634.8\n",
      "\n",
      "Step:  AIC=1606.03\n",
      "income ~ education + prestige + women\n",
      "\n",
      "            Df Sum of Sq       RSS    AIC\n",
      "- education  1   5912400 655566665 1605.0\n",
      "<none>                   649654265 1606.0\n",
      "- prestige   1 148234959 797889223 1625.0\n",
      "- women      1 234562232 884216497 1635.5\n",
      "\n",
      "Step:  AIC=1604.96\n",
      "income ~ prestige + women\n",
      "\n",
      "           Df Sum of Sq        RSS    AIC\n",
      "<none>                   655566665 1605.0\n",
      "- women     1 234647032  890213697 1634.2\n",
      "- prestige  1 811037947 1466604612 1685.1\n"
     ]
    },
    {
     "data": {
      "text/plain": [
       "\n",
       "Call:\n",
       "lm(formula = income ~ prestige + women, data = newdata)\n",
       "\n",
       "Coefficients:\n",
       "(Intercept)     prestige        women  \n",
       "     431.57       165.87       -48.38  \n"
      ]
     },
     "metadata": {},
     "output_type": "display_data"
    }
   ],
   "source": [
    "newdata = Prestige[, c(1:5)]\n",
    "mod2 = lm(income~education+prestige+women+census, data=newdata)\n",
    "mod3 = stepAIC(mod2)\n",
    "mod3"
   ]
  },
  {
   "cell_type": "code",
   "execution_count": 16,
   "id": "08b3fdc4",
   "metadata": {},
   "outputs": [
    {
     "data": {
      "text/plain": [
       "\n",
       "Call:\n",
       "lm(formula = income ~ prestige + women, data = newdata)\n",
       "\n",
       "Residuals:\n",
       "    Min      1Q  Median      3Q     Max \n",
       "-7620.9 -1008.7  -240.4   873.1 14180.0 \n",
       "\n",
       "Coefficients:\n",
       "            Estimate Std. Error t value Pr(>|t|)    \n",
       "(Intercept)  431.574    807.630   0.534    0.594    \n",
       "prestige     165.875     14.988  11.067  < 2e-16 ***\n",
       "women        -48.385      8.128  -5.953 4.02e-08 ***\n",
       "---\n",
       "Signif. codes:  0 '***' 0.001 '**' 0.01 '*' 0.05 '.' 0.1 ' ' 1\n",
       "\n",
       "Residual standard error: 2573 on 99 degrees of freedom\n",
       "Multiple R-squared:   0.64,\tAdjusted R-squared:  0.6327 \n",
       "F-statistic: 87.98 on 2 and 99 DF,  p-value: < 2.2e-16\n"
      ]
     },
     "metadata": {},
     "output_type": "display_data"
    }
   ],
   "source": [
    "summary(mod3)"
   ]
  },
  {
   "cell_type": "code",
   "execution_count": 17,
   "id": "7aff0b56",
   "metadata": {},
   "outputs": [
    {
     "data": {
      "text/html": [
       "<strong>1:</strong> -1296.60903081998"
      ],
      "text/latex": [
       "\\textbf{1:} -1296.60903081998"
      ],
      "text/markdown": [
       "**1:** -1296.60903081998"
      ],
      "text/plain": [
       "        1 \n",
       "-1296.609 "
      ]
     },
     "metadata": {},
     "output_type": "display_data"
    }
   ],
   "source": [
    "predict(mod3, newdata = data.frame(prestige = 10, women = 70))"
   ]
  },
  {
   "cell_type": "code",
   "execution_count": 18,
   "id": "b347f38c",
   "metadata": {},
   "outputs": [
    {
     "data": {
      "text/html": [
       "-1296.626"
      ],
      "text/latex": [
       "-1296.626"
      ],
      "text/markdown": [
       "-1296.626"
      ],
      "text/plain": [
       "[1] -1296.626"
      ]
     },
     "metadata": {},
     "output_type": "display_data"
    }
   ],
   "source": [
    "431.574 + 165.875 * 10 + -48.385 * 70"
   ]
  }
 ],
 "metadata": {
  "kernelspec": {
   "display_name": "R",
   "language": "R",
   "name": "ir"
  },
  "language_info": {
   "codemirror_mode": "r",
   "file_extension": ".r",
   "mimetype": "text/x-r-source",
   "name": "R",
   "pygments_lexer": "r",
   "version": "4.3.1"
  }
 },
 "nbformat": 4,
 "nbformat_minor": 5
}
