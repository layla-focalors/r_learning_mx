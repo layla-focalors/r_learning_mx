{
 "cells": [
  {
   "cell_type": "code",
   "execution_count": 1,
   "id": "f2f7facc",
   "metadata": {},
   "outputs": [],
   "source": [
    "x = c(4, 1, 0, 0, 2, 2, 2, 2, 2, 1, 2, 3, 1, 2, 3, 1, 2, 1, 2, 1, 4, 4, 3, 3)\n",
    "freq = table(x)"
   ]
  },
  {
   "cell_type": "code",
   "execution_count": 2,
   "id": "a39352ca",
   "metadata": {},
   "outputs": [],
   "source": [
    "prop = prop.table(freq)"
   ]
  },
  {
   "cell_type": "code",
   "execution_count": 3,
   "id": "4abddb7c",
   "metadata": {},
   "outputs": [
    {
     "data": {
      "text/plain": [
       "x\n",
       "         0          1          2          3          4 \n",
       "0.08333333 0.25000000 0.37500000 0.16666667 0.12500000 "
      ]
     },
     "metadata": {},
     "output_type": "display_data"
    }
   ],
   "source": [
    "prop"
   ]
  },
  {
   "cell_type": "code",
   "execution_count": 4,
   "id": "d4ae6026",
   "metadata": {},
   "outputs": [
    {
     "data": {
      "text/html": [
       "<style>\n",
       ".dl-inline {width: auto; margin:0; padding: 0}\n",
       ".dl-inline>dt, .dl-inline>dd {float: none; width: auto; display: inline-block}\n",
       ".dl-inline>dt::after {content: \":\\0020\"; padding-right: .5ex}\n",
       ".dl-inline>dt:not(:first-of-type) {padding-left: .5ex}\n",
       "</style><dl class=dl-inline><dt>0</dt><dd>0.0833333333333333</dd><dt>1</dt><dd>0.333333333333333</dd><dt>2</dt><dd>0.708333333333333</dd><dt>3</dt><dd>0.875</dd><dt>4</dt><dd>1</dd></dl>\n"
      ],
      "text/latex": [
       "\\begin{description*}\n",
       "\\item[0] 0.0833333333333333\n",
       "\\item[1] 0.333333333333333\n",
       "\\item[2] 0.708333333333333\n",
       "\\item[3] 0.875\n",
       "\\item[4] 1\n",
       "\\end{description*}\n"
      ],
      "text/markdown": [
       "0\n",
       ":   0.08333333333333331\n",
       ":   0.3333333333333332\n",
       ":   0.7083333333333333\n",
       ":   0.8754\n",
       ":   1\n",
       "\n"
      ],
      "text/plain": [
       "         0          1          2          3          4 \n",
       "0.08333333 0.33333333 0.70833333 0.87500000 1.00000000 "
      ]
     },
     "metadata": {},
     "output_type": "display_data"
    }
   ],
   "source": [
    "sum_prop = cumsum(prop)\n",
    "sum_prop"
   ]
  },
  {
   "cell_type": "code",
   "execution_count": 5,
   "id": "1df2b5ba",
   "metadata": {},
   "outputs": [
    {
     "data": {
      "text/plain": [
       "x\n",
       "0 1 2 3 4 \n",
       "2 6 9 4 3 "
      ]
     },
     "metadata": {},
     "output_type": "display_data"
    }
   ],
   "source": [
    "freq"
   ]
  },
  {
   "cell_type": "code",
   "execution_count": 9,
   "id": "75ee437d",
   "metadata": {},
   "outputs": [],
   "source": [
    "freq.table = cbind(freq,prop, sum_prop)"
   ]
  },
  {
   "cell_type": "code",
   "execution_count": 10,
   "id": "4e2064a1",
   "metadata": {},
   "outputs": [
    {
     "data": {
      "text/html": [
       "<table class=\"dataframe\">\n",
       "<caption>A matrix: 5 × 3 of type dbl</caption>\n",
       "<thead>\n",
       "\t<tr><th></th><th scope=col>freq</th><th scope=col>prop</th><th scope=col>sum_prop</th></tr>\n",
       "</thead>\n",
       "<tbody>\n",
       "\t<tr><th scope=row>0</th><td>2</td><td>0.08333333</td><td>0.08333333</td></tr>\n",
       "\t<tr><th scope=row>1</th><td>6</td><td>0.25000000</td><td>0.33333333</td></tr>\n",
       "\t<tr><th scope=row>2</th><td>9</td><td>0.37500000</td><td>0.70833333</td></tr>\n",
       "\t<tr><th scope=row>3</th><td>4</td><td>0.16666667</td><td>0.87500000</td></tr>\n",
       "\t<tr><th scope=row>4</th><td>3</td><td>0.12500000</td><td>1.00000000</td></tr>\n",
       "</tbody>\n",
       "</table>\n"
      ],
      "text/latex": [
       "A matrix: 5 × 3 of type dbl\n",
       "\\begin{tabular}{r|lll}\n",
       "  & freq & prop & sum\\_prop\\\\\n",
       "\\hline\n",
       "\t0 & 2 & 0.08333333 & 0.08333333\\\\\n",
       "\t1 & 6 & 0.25000000 & 0.33333333\\\\\n",
       "\t2 & 9 & 0.37500000 & 0.70833333\\\\\n",
       "\t3 & 4 & 0.16666667 & 0.87500000\\\\\n",
       "\t4 & 3 & 0.12500000 & 1.00000000\\\\\n",
       "\\end{tabular}\n"
      ],
      "text/markdown": [
       "\n",
       "A matrix: 5 × 3 of type dbl\n",
       "\n",
       "| <!--/--> | freq | prop | sum_prop |\n",
       "|---|---|---|---|\n",
       "| 0 | 2 | 0.08333333 | 0.08333333 |\n",
       "| 1 | 6 | 0.25000000 | 0.33333333 |\n",
       "| 2 | 9 | 0.37500000 | 0.70833333 |\n",
       "| 3 | 4 | 0.16666667 | 0.87500000 |\n",
       "| 4 | 3 | 0.12500000 | 1.00000000 |\n",
       "\n"
      ],
      "text/plain": [
       "  freq prop       sum_prop  \n",
       "0 2    0.08333333 0.08333333\n",
       "1 6    0.25000000 0.33333333\n",
       "2 9    0.37500000 0.70833333\n",
       "3 4    0.16666667 0.87500000\n",
       "4 3    0.12500000 1.00000000"
      ]
     },
     "metadata": {},
     "output_type": "display_data"
    }
   ],
   "source": [
    "freq.table"
   ]
  },
  {
   "cell_type": "code",
   "execution_count": 11,
   "id": "32ef76b8",
   "metadata": {},
   "outputs": [
    {
     "data": {
      "image/png": "[encoded data removed]",
      "text/plain": [
       "Plot with title \"barplot\""
      ]
     },
     "metadata": {
      "image/png": {
       "height": 420,
       "width": 420
      }
     },
     "output_type": "display_data"
    }
   ],
   "source": [
    "barplot(freq, main = 'barplot',\n",
    "       xlab = 'Num of Head', ylab = 'freq')"
   ]
  },
  {
   "cell_type": "code",
   "execution_count": 14,
   "id": "1fb4a5ba",
   "metadata": {},
   "outputs": [
    {
     "data": {
      "image/png": "[encoded data removed]",
      "text/plain": [
       "Plot with title \"barplot\""
      ]
     },
     "metadata": {
      "image/png": {
       "height": 420,
       "width": 420
      }
     },
     "output_type": "display_data"
    }
   ],
   "source": [
    "barplot(prop, main = 'barplot',\n",
    "       xlab = 'Num of Head', ylab = 'prob')\n",
    "lines(density(prop))"
   ]
  },
  {
   "cell_type": "code",
   "execution_count": 25,
   "id": "33582969",
   "metadata": {},
   "outputs": [],
   "source": [
    "level = c('중졸','고졸','대졸','고졸','대졸',\n",
    "         '고졸','중졸','대졸','고졸','대졸',\n",
    "         '고졸','중졸','고졸','중졸','고졸',\n",
    "         '대졸','대졸','중졸','대졸','고졸',\n",
    "         '고졸','중졸','고졸','중졸')\n",
    "pays = c('A','B','C','C','B','B','A','C','B','B','C','A','B','B','A','C','C','A','C','C','A','C','B','C')"
   ]
  },
  {
   "cell_type": "code",
   "execution_count": 23,
   "id": "ea907c40",
   "metadata": {},
   "outputs": [
    {
     "data": {
      "text/html": [
       "<style>\n",
       ".list-inline {list-style: none; margin:0; padding: 0}\n",
       ".list-inline>li {display: inline-block}\n",
       ".list-inline>li:not(:last-child)::after {content: \"\\00b7\"; padding: 0 .5ex}\n",
       "</style>\n",
       "<ol class=list-inline><li>'A'</li><li>'B'</li><li>'C'</li><li>'C'</li><li>'B'</li><li>'B'</li><li>'A'</li><li>'C'</li><li>'B'</li><li>'B'</li><li>'C'</li><li>'A'</li><li>'B'</li><li>'B'</li><li>'A'</li><li>'C'</li><li>'C'</li><li>'A'</li><li>'C'</li><li>'C'</li><li>'A'</li><li>'C'</li><li>'B'</li><li>'C'</li><li>'A'</li><li>'B'</li><li>'A'</li></ol>\n"
      ],
      "text/latex": [
       "\\begin{enumerate*}\n",
       "\\item 'A'\n",
       "\\item 'B'\n",
       "\\item 'C'\n",
       "\\item 'C'\n",
       "\\item 'B'\n",
       "\\item 'B'\n",
       "\\item 'A'\n",
       "\\item 'C'\n",
       "\\item 'B'\n",
       "\\item 'B'\n",
       "\\item 'C'\n",
       "\\item 'A'\n",
       "\\item 'B'\n",
       "\\item 'B'\n",
       "\\item 'A'\n",
       "\\item 'C'\n",
       "\\item 'C'\n",
       "\\item 'A'\n",
       "\\item 'C'\n",
       "\\item 'C'\n",
       "\\item 'A'\n",
       "\\item 'C'\n",
       "\\item 'B'\n",
       "\\item 'C'\n",
       "\\item 'A'\n",
       "\\item 'B'\n",
       "\\item 'A'\n",
       "\\end{enumerate*}\n"
      ],
      "text/markdown": [
       "1. 'A'\n",
       "2. 'B'\n",
       "3. 'C'\n",
       "4. 'C'\n",
       "5. 'B'\n",
       "6. 'B'\n",
       "7. 'A'\n",
       "8. 'C'\n",
       "9. 'B'\n",
       "10. 'B'\n",
       "11. 'C'\n",
       "12. 'A'\n",
       "13. 'B'\n",
       "14. 'B'\n",
       "15. 'A'\n",
       "16. 'C'\n",
       "17. 'C'\n",
       "18. 'A'\n",
       "19. 'C'\n",
       "20. 'C'\n",
       "21. 'A'\n",
       "22. 'C'\n",
       "23. 'B'\n",
       "24. 'C'\n",
       "25. 'A'\n",
       "26. 'B'\n",
       "27. 'A'\n",
       "\n",
       "\n"
      ],
      "text/plain": [
       " [1] \"A\" \"B\" \"C\" \"C\" \"B\" \"B\" \"A\" \"C\" \"B\" \"B\" \"C\" \"A\" \"B\" \"B\" \"A\" \"C\" \"C\" \"A\" \"C\"\n",
       "[20] \"C\" \"A\" \"C\" \"B\" \"C\" \"A\" \"B\" \"A\""
      ]
     },
     "metadata": {},
     "output_type": "display_data"
    }
   ],
   "source": [
    "pays"
   ]
  },
  {
   "cell_type": "code",
   "execution_count": 24,
   "id": "73115aef",
   "metadata": {},
   "outputs": [
    {
     "data": {
      "text/html": [
       "24"
      ],
      "text/latex": [
       "24"
      ],
      "text/markdown": [
       "24"
      ],
      "text/plain": [
       "[1] 24"
      ]
     },
     "metadata": {},
     "output_type": "display_data"
    },
    {
     "ename": "ERROR",
     "evalue": "Error in pays(length): could not find function \"pays\"\n",
     "output_type": "error",
     "traceback": [
      "Error in pays(length): could not find function \"pays\"\nTraceback:\n"
     ]
    }
   ],
   "source": [
    "length(level)\n",
    "pays(length)"
   ]
  },
  {
   "cell_type": "code",
   "execution_count": 121,
   "id": "99ebfa62",
   "metadata": {},
   "outputs": [
    {
     "ename": "ERROR",
     "evalue": "Error in data.frame(level, pay): arguments imply differing number of rows: 24, 27\n",
     "output_type": "error",
     "traceback": [
      "Error in data.frame(level, pay): arguments imply differing number of rows: 24, 27\nTraceback:\n",
      "1. data.frame(level, pay)",
      "2. stop(gettextf(\"arguments imply differing number of rows: %s\", \n .     paste(unique(nrows), collapse = \", \")), domain = NA)"
     ]
    }
   ],
   "source": [
    "total = data.frame(level, pay)"
   ]
  },
  {
   "cell_type": "code",
   "execution_count": 17,
   "id": "3a99fbf8",
   "metadata": {},
   "outputs": [
    {
     "ename": "ERROR",
     "evalue": "Error in eval(expr, envir, enclos): object 'total' not found\n",
     "output_type": "error",
     "traceback": [
      "Error in eval(expr, envir, enclos): object 'total' not found\nTraceback:\n"
     ]
    }
   ],
   "source": [
    "total"
   ]
  },
  {
   "cell_type": "code",
   "execution_count": 122,
   "id": "99e5557d",
   "metadata": {},
   "outputs": [],
   "source": [
    "level = c('중졸','고졸','대졸','고졸','대졸',\n",
    "         '고졸','중졸','대졸','고졸','대졸',\n",
    "         '고졸','중졸','고졸','중졸','고졸',\n",
    "         '대졸','대졸','중졸','대졸','고졸',\n",
    "         '고졸','중졸','고졸','중졸')\n",
    "pays = c('A','B','C','C','B','B','A','C','B','B','C','A','B','B','A','C','C','A','C','B',\n",
    "        'C','A','B','A')"
   ]
  },
  {
   "cell_type": "code",
   "execution_count": 124,
   "id": "2bd88278",
   "metadata": {},
   "outputs": [],
   "source": [
    "ds = data.frame(level, pays)"
   ]
  },
  {
   "cell_type": "code",
   "execution_count": 125,
   "id": "fd75ab8d",
   "metadata": {},
   "outputs": [
    {
     "data": {
      "text/html": [
       "<table class=\"dataframe\">\n",
       "<caption>A data.frame: 24 × 2</caption>\n",
       "<thead>\n",
       "\t<tr><th scope=col>level</th><th scope=col>pays</th></tr>\n",
       "\t<tr><th scope=col>&lt;chr&gt;</th><th scope=col>&lt;chr&gt;</th></tr>\n",
       "</thead>\n",
       "<tbody>\n",
       "\t<tr><td>중졸</td><td>A</td></tr>\n",
       "\t<tr><td>고졸</td><td>B</td></tr>\n",
       "\t<tr><td>대졸</td><td>C</td></tr>\n",
       "\t<tr><td>고졸</td><td>C</td></tr>\n",
       "\t<tr><td>대졸</td><td>B</td></tr>\n",
       "\t<tr><td>고졸</td><td>B</td></tr>\n",
       "\t<tr><td>중졸</td><td>A</td></tr>\n",
       "\t<tr><td>대졸</td><td>C</td></tr>\n",
       "\t<tr><td>고졸</td><td>B</td></tr>\n",
       "\t<tr><td>대졸</td><td>B</td></tr>\n",
       "\t<tr><td>고졸</td><td>C</td></tr>\n",
       "\t<tr><td>중졸</td><td>A</td></tr>\n",
       "\t<tr><td>고졸</td><td>B</td></tr>\n",
       "\t<tr><td>중졸</td><td>B</td></tr>\n",
       "\t<tr><td>고졸</td><td>A</td></tr>\n",
       "\t<tr><td>대졸</td><td>C</td></tr>\n",
       "\t<tr><td>대졸</td><td>C</td></tr>\n",
       "\t<tr><td>중졸</td><td>A</td></tr>\n",
       "\t<tr><td>대졸</td><td>C</td></tr>\n",
       "\t<tr><td>고졸</td><td>B</td></tr>\n",
       "\t<tr><td>고졸</td><td>C</td></tr>\n",
       "\t<tr><td>중졸</td><td>A</td></tr>\n",
       "\t<tr><td>고졸</td><td>B</td></tr>\n",
       "\t<tr><td>중졸</td><td>A</td></tr>\n",
       "</tbody>\n",
       "</table>\n"
      ],
      "text/latex": [
       "A data.frame: 24 × 2\n",
       "\\begin{tabular}{ll}\n",
       " level & pays\\\\\n",
       " <chr> & <chr>\\\\\n",
       "\\hline\n",
       "\t 중졸 & A\\\\\n",
       "\t 고졸 & B\\\\\n",
       "\t 대졸 & C\\\\\n",
       "\t 고졸 & C\\\\\n",
       "\t 대졸 & B\\\\\n",
       "\t 고졸 & B\\\\\n",
       "\t 중졸 & A\\\\\n",
       "\t 대졸 & C\\\\\n",
       "\t 고졸 & B\\\\\n",
       "\t 대졸 & B\\\\\n",
       "\t 고졸 & C\\\\\n",
       "\t 중졸 & A\\\\\n",
       "\t 고졸 & B\\\\\n",
       "\t 중졸 & B\\\\\n",
       "\t 고졸 & A\\\\\n",
       "\t 대졸 & C\\\\\n",
       "\t 대졸 & C\\\\\n",
       "\t 중졸 & A\\\\\n",
       "\t 대졸 & C\\\\\n",
       "\t 고졸 & B\\\\\n",
       "\t 고졸 & C\\\\\n",
       "\t 중졸 & A\\\\\n",
       "\t 고졸 & B\\\\\n",
       "\t 중졸 & A\\\\\n",
       "\\end{tabular}\n"
      ],
      "text/markdown": [
       "\n",
       "A data.frame: 24 × 2\n",
       "\n",
       "| level &lt;chr&gt; | pays &lt;chr&gt; |\n",
       "|---|---|\n",
       "| 중졸 | A |\n",
       "| 고졸 | B |\n",
       "| 대졸 | C |\n",
       "| 고졸 | C |\n",
       "| 대졸 | B |\n",
       "| 고졸 | B |\n",
       "| 중졸 | A |\n",
       "| 대졸 | C |\n",
       "| 고졸 | B |\n",
       "| 대졸 | B |\n",
       "| 고졸 | C |\n",
       "| 중졸 | A |\n",
       "| 고졸 | B |\n",
       "| 중졸 | B |\n",
       "| 고졸 | A |\n",
       "| 대졸 | C |\n",
       "| 대졸 | C |\n",
       "| 중졸 | A |\n",
       "| 대졸 | C |\n",
       "| 고졸 | B |\n",
       "| 고졸 | C |\n",
       "| 중졸 | A |\n",
       "| 고졸 | B |\n",
       "| 중졸 | A |\n",
       "\n"
      ],
      "text/plain": [
       "   level pays\n",
       "1  중졸  A   \n",
       "2  고졸  B   \n",
       "3  대졸  C   \n",
       "4  고졸  C   \n",
       "5  대졸  B   \n",
       "6  고졸  B   \n",
       "7  중졸  A   \n",
       "8  대졸  C   \n",
       "9  고졸  B   \n",
       "10 대졸  B   \n",
       "11 고졸  C   \n",
       "12 중졸  A   \n",
       "13 고졸  B   \n",
       "14 중졸  B   \n",
       "15 고졸  A   \n",
       "16 대졸  C   \n",
       "17 대졸  C   \n",
       "18 중졸  A   \n",
       "19 대졸  C   \n",
       "20 고졸  B   \n",
       "21 고졸  C   \n",
       "22 중졸  A   \n",
       "23 고졸  B   \n",
       "24 중졸  A   "
      ]
     },
     "metadata": {},
     "output_type": "display_data"
    }
   ],
   "source": [
    "ds"
   ]
  },
  {
   "cell_type": "code",
   "execution_count": 126,
   "id": "bbf76cc3",
   "metadata": {},
   "outputs": [
    {
     "data": {
      "text/plain": [
       "      pays\n",
       "level  A B C\n",
       "  고졸 1 6 3\n",
       "  대졸 0 2 5\n",
       "  중졸 6 1 0"
      ]
     },
     "metadata": {},
     "output_type": "display_data"
    }
   ],
   "source": [
    "table(ds)"
   ]
  },
  {
   "cell_type": "code",
   "execution_count": 131,
   "id": "539ffb47",
   "metadata": {},
   "outputs": [
    {
     "data": {
      "image/png": "[encoded data removed]",
      "text/plain": [
       "Plot with title \"barplot\""
      ]
     },
     "metadata": {
      "image/png": {
       "height": 420,
       "width": 420
      }
     },
     "output_type": "display_data"
    }
   ],
   "source": [
    "barplot(table(ds),\n",
    "       col = rainbow(3),\n",
    "       ylim = c(0, 10),\n",
    "       main = 'barplot',\n",
    "       las = 1)\n",
    "legend(\"topright\",fill = rainbow(3), \n",
    "      rownames(table(ds)))"
   ]
  },
  {
   "cell_type": "code",
   "execution_count": 132,
   "id": "b78a8fd3",
   "metadata": {},
   "outputs": [
    {
     "data": {
      "image/png": "[encoded data removed]",
      "text/plain": [
       "Plot with title \"barplot\""
      ]
     },
     "metadata": {
      "image/png": {
       "height": 420,
       "width": 420
      }
     },
     "output_type": "display_data"
    }
   ],
   "source": [
    "barplot(table(ds),\n",
    "       col = rainbow(3),\n",
    "       ylim = c(0, 10),\n",
    "       main = 'barplot',\n",
    "       las = 1,\n",
    "       xlab = '임금',\n",
    "       ylab = '빈도')\n",
    "legend(\"topright\",fill = rainbow(3), \n",
    "      rownames(table(ds)))"
   ]
  },
  {
   "cell_type": "code",
   "execution_count": 133,
   "id": "eaa723cf",
   "metadata": {},
   "outputs": [],
   "source": [
    "jour = c(12, 14, 8, 6)"
   ]
  },
  {
   "cell_type": "code",
   "execution_count": 134,
   "id": "e86c80a0",
   "metadata": {},
   "outputs": [
    {
     "data": {
      "text/html": [
       "<style>\n",
       ".list-inline {list-style: none; margin:0; padding: 0}\n",
       ".list-inline>li {display: inline-block}\n",
       ".list-inline>li:not(:last-child)::after {content: \"\\00b7\"; padding: 0 .5ex}\n",
       "</style>\n",
       "<ol class=list-inline><li>12</li><li>14</li><li>8</li><li>6</li></ol>\n"
      ],
      "text/latex": [
       "\\begin{enumerate*}\n",
       "\\item 12\n",
       "\\item 14\n",
       "\\item 8\n",
       "\\item 6\n",
       "\\end{enumerate*}\n"
      ],
      "text/markdown": [
       "1. 12\n",
       "2. 14\n",
       "3. 8\n",
       "4. 6\n",
       "\n",
       "\n"
      ],
      "text/plain": [
       "[1] 12 14  8  6"
      ]
     },
     "metadata": {},
     "output_type": "display_data"
    }
   ],
   "source": [
    "jour"
   ]
  },
  {
   "cell_type": "code",
   "execution_count": 135,
   "id": "5eeb5e99",
   "metadata": {},
   "outputs": [],
   "source": [
    "grob = prop.table(jour)"
   ]
  },
  {
   "cell_type": "code",
   "execution_count": 136,
   "id": "4e09668e",
   "metadata": {},
   "outputs": [
    {
     "data": {
      "text/html": [
       "<style>\n",
       ".list-inline {list-style: none; margin:0; padding: 0}\n",
       ".list-inline>li {display: inline-block}\n",
       ".list-inline>li:not(:last-child)::after {content: \"\\00b7\"; padding: 0 .5ex}\n",
       "</style>\n",
       "<ol class=list-inline><li>0.3</li><li>0.35</li><li>0.2</li><li>0.15</li></ol>\n"
      ],
      "text/latex": [
       "\\begin{enumerate*}\n",
       "\\item 0.3\n",
       "\\item 0.35\n",
       "\\item 0.2\n",
       "\\item 0.15\n",
       "\\end{enumerate*}\n"
      ],
      "text/markdown": [
       "1. 0.3\n",
       "2. 0.35\n",
       "3. 0.2\n",
       "4. 0.15\n",
       "\n",
       "\n"
      ],
      "text/plain": [
       "[1] 0.30 0.35 0.20 0.15"
      ]
     },
     "metadata": {},
     "output_type": "display_data"
    }
   ],
   "source": [
    "grob"
   ]
  },
  {
   "cell_type": "code",
   "execution_count": 140,
   "id": "3355134d",
   "metadata": {},
   "outputs": [
    {
     "data": {
      "image/png": "[encoded data removed]",
      "text/plain": [
       "plot without title"
      ]
     },
     "metadata": {
      "image/png": {
       "height": 420,
       "width": 420
      }
     },
     "output_type": "display_data"
    }
   ],
   "source": [
    "pie(table(jour))"
   ]
  },
  {
   "cell_type": "code",
   "execution_count": 139,
   "id": "1c9285bc",
   "metadata": {},
   "outputs": [
    {
     "data": {
      "image/png": "[encoded data removed]",
      "text/plain": [
       "Plot with title \"Pie chart\""
      ]
     },
     "metadata": {
      "image/png": {
       "height": 420,
       "width": 420
      }
     },
     "output_type": "display_data"
    }
   ],
   "source": [
    "pie(grob,\n",
    "   labels = c('하와이','동남아','유럽','기타'),\n",
    "   main = 'Pie chart',\n",
    "   sub = 'Obstacle')"
   ]
  },
  {
   "cell_type": "code",
   "execution_count": 141,
   "id": "c65050e4",
   "metadata": {},
   "outputs": [
    {
     "name": "stdout",
     "output_type": "stream",
     "text": [
      " [1] 14.2601638  7.7193191  0.9530177 17.0975760 11.2395340  3.7843795\n",
      " [7] 19.5032045 14.1059875 21.2430585 18.1231201 16.4092113  2.8760625\n",
      "[13]  3.5292425 15.1335621  4.0650057 13.1047191 16.5386630  3.4235362\n",
      "[19]  6.5183063 10.0539771\n"
     ]
    }
   ],
   "source": [
    "# 0부터 21.7 사이의 랜덤한 숫자 20개를 생성합니다.\n",
    "random_numbers <- runif(20, min = 0, max = 21.7)\n",
    "\n",
    "# 결과를 출력합니다.\n",
    "print(random_numbers)\n"
   ]
  },
  {
   "cell_type": "code",
   "execution_count": 142,
   "id": "d8c45a80",
   "metadata": {},
   "outputs": [],
   "source": [
    "mental = random_numbers"
   ]
  },
  {
   "cell_type": "code",
   "execution_count": 143,
   "id": "eb14331b",
   "metadata": {},
   "outputs": [
    {
     "name": "stdout",
     "output_type": "stream",
     "text": [
      " [1] 13.8798021  0.2501602  3.6582186 15.5365710  2.7987804 11.8242226\n",
      " [7]  9.1999601  5.9110453  1.0486807  1.4566017  3.1616401 17.5169204\n",
      "[13] 17.4522711  9.3492243 10.8640040 10.1458451  3.3685074  8.5953170\n",
      "[19]  4.1159882 10.6539319  7.1672644 11.7514268  8.4372869  3.3900550\n",
      "[25]  3.3255305 11.6963543 14.0247035 16.4659254 11.8974889 11.4032760\n",
      "[31] 11.3234037 16.3135923 10.7144946  0.4997750 17.5578981  6.1259189\n",
      "[37] 15.0591024  6.2109026  1.7714920  8.0890044\n"
     ]
    }
   ],
   "source": [
    "# 0부터 21.7 사이의 랜덤한 숫자 20개를 생성합니다.\n",
    "random_numbers <- runif(40, min = 0, max = 17.7)\n",
    "\n",
    "# 결과를 출력합니다.\n",
    "print(random_numbers)\n"
   ]
  },
  {
   "cell_type": "code",
   "execution_count": 144,
   "id": "8358664f",
   "metadata": {},
   "outputs": [],
   "source": [
    "overuse = random_numbers"
   ]
  },
  {
   "cell_type": "code",
   "execution_count": 145,
   "id": "44ac79b7",
   "metadata": {},
   "outputs": [
    {
     "data": {
      "text/html": [
       "<style>\n",
       ".list-inline {list-style: none; margin:0; padding: 0}\n",
       ".list-inline>li {display: inline-block}\n",
       ".list-inline>li:not(:last-child)::after {content: \"\\00b7\"; padding: 0 .5ex}\n",
       "</style>\n",
       "<ol class=list-inline><li>14.2601637833053</li><li>7.71931908659171</li><li>0.953017660975456</li><li>17.0975760175148</li><li>11.2395340225659</li><li>3.78437952029053</li><li>19.5032044722699</li><li>14.1059874641243</li><li>21.2430584838614</li><li>18.1231201324146</li><li>16.4092113284627</li><li>2.87606245661154</li><li>3.52924248764757</li><li>15.1335620728321</li><li>4.06500570343342</li><li>13.1047190638725</li><li>16.538662984618</li><li>3.4235362284584</li><li>6.51830631396733</li><li>10.0539770675823</li></ol>\n"
      ],
      "text/latex": [
       "\\begin{enumerate*}\n",
       "\\item 14.2601637833053\n",
       "\\item 7.71931908659171\n",
       "\\item 0.953017660975456\n",
       "\\item 17.0975760175148\n",
       "\\item 11.2395340225659\n",
       "\\item 3.78437952029053\n",
       "\\item 19.5032044722699\n",
       "\\item 14.1059874641243\n",
       "\\item 21.2430584838614\n",
       "\\item 18.1231201324146\n",
       "\\item 16.4092113284627\n",
       "\\item 2.87606245661154\n",
       "\\item 3.52924248764757\n",
       "\\item 15.1335620728321\n",
       "\\item 4.06500570343342\n",
       "\\item 13.1047190638725\n",
       "\\item 16.538662984618\n",
       "\\item 3.4235362284584\n",
       "\\item 6.51830631396733\n",
       "\\item 10.0539770675823\n",
       "\\end{enumerate*}\n"
      ],
      "text/markdown": [
       "1. 14.2601637833053\n",
       "2. 7.71931908659171\n",
       "3. 0.953017660975456\n",
       "4. 17.0975760175148\n",
       "5. 11.2395340225659\n",
       "6. 3.78437952029053\n",
       "7. 19.5032044722699\n",
       "8. 14.1059874641243\n",
       "9. 21.2430584838614\n",
       "10. 18.1231201324146\n",
       "11. 16.4092113284627\n",
       "12. 2.87606245661154\n",
       "13. 3.52924248764757\n",
       "14. 15.1335620728321\n",
       "15. 4.06500570343342\n",
       "16. 13.1047190638725\n",
       "17. 16.538662984618\n",
       "18. 3.4235362284584\n",
       "19. 6.51830631396733\n",
       "20. 10.0539770675823\n",
       "\n",
       "\n"
      ],
      "text/plain": [
       " [1] 14.2601638  7.7193191  0.9530177 17.0975760 11.2395340  3.7843795\n",
       " [7] 19.5032045 14.1059875 21.2430585 18.1231201 16.4092113  2.8760625\n",
       "[13]  3.5292425 15.1335621  4.0650057 13.1047191 16.5386630  3.4235362\n",
       "[19]  6.5183063 10.0539771"
      ]
     },
     "metadata": {},
     "output_type": "display_data"
    }
   ],
   "source": [
    "mental"
   ]
  },
  {
   "cell_type": "code",
   "execution_count": 146,
   "id": "7b855dc3",
   "metadata": {},
   "outputs": [
    {
     "data": {
      "text/html": [
       "<style>\n",
       ".list-inline {list-style: none; margin:0; padding: 0}\n",
       ".list-inline>li {display: inline-block}\n",
       ".list-inline>li:not(:last-child)::after {content: \"\\00b7\"; padding: 0 .5ex}\n",
       "</style>\n",
       "<ol class=list-inline><li>13.8798020579852</li><li>0.250160195957869</li><li>3.65821859354619</li><li>15.5365709676174</li><li>2.79878043502104</li><li>11.8242226461181</li><li>9.19996014134958</li><li>5.91104533192702</li><li>1.04868072993122</li><li>1.45660171613563</li><li>3.16164008430205</li><li>17.5169204300735</li><li>17.4522711308207</li><li>9.34922429819126</li><li>10.8640040412778</li><li>10.1458451069891</li><li>3.36850735782646</li><li>8.59531700131483</li><li>4.11598820763174</li><li>10.6539318688447</li><li>7.16726444042288</li><li>11.7514268175932</li><li>8.43728685581591</li><li>3.39005501973443</li><li>3.32553052394651</li><li>11.6963542968035</li><li>14.0247035457753</li><li>16.4659254003083</li><li>11.8974889479345</li><li>11.4032759555848</li><li>11.3234037285671</li><li>16.3135922873626</li><li>10.7144946499961</li><li>0.499774988740683</li><li>17.5578980883351</li><li>6.12591893482022</li><li>15.059102368704</li><li>6.21090259398334</li><li>1.77149201380089</li><li>8.08900436991826</li></ol>\n"
      ],
      "text/latex": [
       "\\begin{enumerate*}\n",
       "\\item 13.8798020579852\n",
       "\\item 0.250160195957869\n",
       "\\item 3.65821859354619\n",
       "\\item 15.5365709676174\n",
       "\\item 2.79878043502104\n",
       "\\item 11.8242226461181\n",
       "\\item 9.19996014134958\n",
       "\\item 5.91104533192702\n",
       "\\item 1.04868072993122\n",
       "\\item 1.45660171613563\n",
       "\\item 3.16164008430205\n",
       "\\item 17.5169204300735\n",
       "\\item 17.4522711308207\n",
       "\\item 9.34922429819126\n",
       "\\item 10.8640040412778\n",
       "\\item 10.1458451069891\n",
       "\\item 3.36850735782646\n",
       "\\item 8.59531700131483\n",
       "\\item 4.11598820763174\n",
       "\\item 10.6539318688447\n",
       "\\item 7.16726444042288\n",
       "\\item 11.7514268175932\n",
       "\\item 8.43728685581591\n",
       "\\item 3.39005501973443\n",
       "\\item 3.32553052394651\n",
       "\\item 11.6963542968035\n",
       "\\item 14.0247035457753\n",
       "\\item 16.4659254003083\n",
       "\\item 11.8974889479345\n",
       "\\item 11.4032759555848\n",
       "\\item 11.3234037285671\n",
       "\\item 16.3135922873626\n",
       "\\item 10.7144946499961\n",
       "\\item 0.499774988740683\n",
       "\\item 17.5578980883351\n",
       "\\item 6.12591893482022\n",
       "\\item 15.059102368704\n",
       "\\item 6.21090259398334\n",
       "\\item 1.77149201380089\n",
       "\\item 8.08900436991826\n",
       "\\end{enumerate*}\n"
      ],
      "text/markdown": [
       "1. 13.8798020579852\n",
       "2. 0.250160195957869\n",
       "3. 3.65821859354619\n",
       "4. 15.5365709676174\n",
       "5. 2.79878043502104\n",
       "6. 11.8242226461181\n",
       "7. 9.19996014134958\n",
       "8. 5.91104533192702\n",
       "9. 1.04868072993122\n",
       "10. 1.45660171613563\n",
       "11. 3.16164008430205\n",
       "12. 17.5169204300735\n",
       "13. 17.4522711308207\n",
       "14. 9.34922429819126\n",
       "15. 10.8640040412778\n",
       "16. 10.1458451069891\n",
       "17. 3.36850735782646\n",
       "18. 8.59531700131483\n",
       "19. 4.11598820763174\n",
       "20. 10.6539318688447\n",
       "21. 7.16726444042288\n",
       "22. 11.7514268175932\n",
       "23. 8.43728685581591\n",
       "24. 3.39005501973443\n",
       "25. 3.32553052394651\n",
       "26. 11.6963542968035\n",
       "27. 14.0247035457753\n",
       "28. 16.4659254003083\n",
       "29. 11.8974889479345\n",
       "30. 11.4032759555848\n",
       "31. 11.3234037285671\n",
       "32. 16.3135922873626\n",
       "33. 10.7144946499961\n",
       "34. 0.499774988740683\n",
       "35. 17.5578980883351\n",
       "36. 6.12591893482022\n",
       "37. 15.059102368704\n",
       "38. 6.21090259398334\n",
       "39. 1.77149201380089\n",
       "40. 8.08900436991826\n",
       "\n",
       "\n"
      ],
      "text/plain": [
       " [1] 13.8798021  0.2501602  3.6582186 15.5365710  2.7987804 11.8242226\n",
       " [7]  9.1999601  5.9110453  1.0486807  1.4566017  3.1616401 17.5169204\n",
       "[13] 17.4522711  9.3492243 10.8640040 10.1458451  3.3685074  8.5953170\n",
       "[19]  4.1159882 10.6539319  7.1672644 11.7514268  8.4372869  3.3900550\n",
       "[25]  3.3255305 11.6963543 14.0247035 16.4659254 11.8974889 11.4032760\n",
       "[31] 11.3234037 16.3135923 10.7144946  0.4997750 17.5578981  6.1259189\n",
       "[37] 15.0591024  6.2109026  1.7714920  8.0890044"
      ]
     },
     "metadata": {},
     "output_type": "display_data"
    }
   ],
   "source": [
    "overuse"
   ]
  },
  {
   "cell_type": "code",
   "execution_count": 153,
   "id": "ac699d42",
   "metadata": {},
   "outputs": [
    {
     "data": {
      "image/png": "[encoded data removed]",
      "text/plain": [
       "Plot with title \"Mental\""
      ]
     },
     "metadata": {
      "image/png": {
       "height": 420,
       "width": 420
      }
     },
     "output_type": "display_data"
    }
   ],
   "source": [
    "boxplot(c(mental, 30, 40, 70),\n",
    "       main = 'Mental')"
   ]
  },
  {
   "cell_type": "code",
   "execution_count": 152,
   "id": "dd38427c",
   "metadata": {},
   "outputs": [
    {
     "data": {
      "text/html": [
       "<dl>\n",
       "\t<dt>$stats</dt>\n",
       "\t\t<dd><style>\n",
       ".list-inline {list-style: none; margin:0; padding: 0}\n",
       ".list-inline>li {display: inline-block}\n",
       ".list-inline>li:not(:last-child)::after {content: \"\\00b7\"; padding: 0 .5ex}\n",
       "</style>\n",
       "<ol class=list-inline><li>0.953017660975456</li><li>5.29165600870037</li><li>14.1059874641243</li><li>17.6103480749647</li><li>30</li></ol>\n",
       "</dd>\n",
       "\t<dt>$n</dt>\n",
       "\t\t<dd>23</dd>\n",
       "\t<dt>$conf</dt>\n",
       "\t\t<dd><style>\n",
       ".list-inline {list-style: none; margin:0; padding: 0}\n",
       ".list-inline>li {display: inline-block}\n",
       ".list-inline>li:not(:last-child)::after {content: \"\\00b7\"; padding: 0 .5ex}\n",
       "</style>\n",
       "<ol class=list-inline><li>10.0475601882526</li><li>18.164414739996</li></ol>\n",
       "</dd>\n",
       "\t<dt>$out</dt>\n",
       "\t\t<dd><style>\n",
       ".list-inline {list-style: none; margin:0; padding: 0}\n",
       ".list-inline>li {display: inline-block}\n",
       ".list-inline>li:not(:last-child)::after {content: \"\\00b7\"; padding: 0 .5ex}\n",
       "</style>\n",
       "<ol class=list-inline><li>40</li><li>70</li></ol>\n",
       "</dd>\n",
       "</dl>\n"
      ],
      "text/latex": [
       "\\begin{description}\n",
       "\\item[\\$stats] \\begin{enumerate*}\n",
       "\\item 0.953017660975456\n",
       "\\item 5.29165600870037\n",
       "\\item 14.1059874641243\n",
       "\\item 17.6103480749647\n",
       "\\item 30\n",
       "\\end{enumerate*}\n",
       "\n",
       "\\item[\\$n] 23\n",
       "\\item[\\$conf] \\begin{enumerate*}\n",
       "\\item 10.0475601882526\n",
       "\\item 18.164414739996\n",
       "\\end{enumerate*}\n",
       "\n",
       "\\item[\\$out] \\begin{enumerate*}\n",
       "\\item 40\n",
       "\\item 70\n",
       "\\end{enumerate*}\n",
       "\n",
       "\\end{description}\n"
      ],
      "text/markdown": [
       "$stats\n",
       ":   1. 0.953017660975456\n",
       "2. 5.29165600870037\n",
       "3. 14.1059874641243\n",
       "4. 17.6103480749647\n",
       "5. 30\n",
       "\n",
       "\n",
       "\n",
       "$n\n",
       ":   23\n",
       "$conf\n",
       ":   1. 10.0475601882526\n",
       "2. 18.164414739996\n",
       "\n",
       "\n",
       "\n",
       "$out\n",
       ":   1. 40\n",
       "2. 70\n",
       "\n",
       "\n",
       "\n",
       "\n",
       "\n"
      ],
      "text/plain": [
       "$stats\n",
       "[1]  0.9530177  5.2916560 14.1059875 17.6103481 30.0000000\n",
       "\n",
       "$n\n",
       "[1] 23\n",
       "\n",
       "$conf\n",
       "[1] 10.04756 18.16441\n",
       "\n",
       "$out\n",
       "[1] 40 70\n"
      ]
     },
     "metadata": {},
     "output_type": "display_data"
    }
   ],
   "source": [
    "boxplot.stats(c(mental, 30, 40, 70))"
   ]
  },
  {
   "cell_type": "code",
   "execution_count": 154,
   "id": "6695d8a1",
   "metadata": {},
   "outputs": [
    {
     "data": {
      "image/png": "[encoded data removed]",
      "text/plain": [
       "Plot with title \"Overuse\""
      ]
     },
     "metadata": {
      "image/png": {
       "height": 420,
       "width": 420
      }
     },
     "output_type": "display_data"
    }
   ],
   "source": [
    "boxplot(overuse,\n",
    "       main = 'Overuse')"
   ]
  },
  {
   "cell_type": "code",
   "execution_count": 155,
   "id": "d6fab410",
   "metadata": {},
   "outputs": [],
   "source": [
    "a = c(70, 60, 90, 100, 70, 80)\n",
    "b = c(60, 80, 80, 90, 90, 50)\n",
    "c = c(80, 70, 60, 100, 70, 90)"
   ]
  },
  {
   "cell_type": "code",
   "execution_count": 156,
   "id": "5ae28d70",
   "metadata": {},
   "outputs": [
    {
     "name": "stdout",
     "output_type": "stream",
     "text": [
      "[1] 70\n",
      "[1] 60\n",
      "[1] 90\n",
      "[1] 100\n",
      "[1] 70\n",
      "[1] 80\n",
      "[1] 60\n",
      "[1] 80\n",
      "[1] 80\n",
      "[1] 90\n",
      "[1] 90\n",
      "[1] 50\n",
      "[1] 80\n",
      "[1] 70\n",
      "[1] 60\n",
      "[1] 100\n",
      "[1] 70\n",
      "[1] 90\n"
     ]
    }
   ],
   "source": [
    "for(i in c(a, b, c)){\n",
    "    print(i)\n",
    "}"
   ]
  },
  {
   "cell_type": "code",
   "execution_count": 157,
   "id": "4b6133fd",
   "metadata": {},
   "outputs": [
    {
     "data": {
      "text/html": [
       "<style>\n",
       ".list-inline {list-style: none; margin:0; padding: 0}\n",
       ".list-inline>li {display: inline-block}\n",
       ".list-inline>li:not(:last-child)::after {content: \"\\00b7\"; padding: 0 .5ex}\n",
       "</style>\n",
       "<ol class=list-inline><li>60</li><li>100</li></ol>\n"
      ],
      "text/latex": [
       "\\begin{enumerate*}\n",
       "\\item 60\n",
       "\\item 100\n",
       "\\end{enumerate*}\n"
      ],
      "text/markdown": [
       "1. 60\n",
       "2. 100\n",
       "\n",
       "\n"
      ],
      "text/plain": [
       "[1]  60 100"
      ]
     },
     "metadata": {},
     "output_type": "display_data"
    },
    {
     "data": {
      "text/html": [
       "<style>\n",
       ".list-inline {list-style: none; margin:0; padding: 0}\n",
       ".list-inline>li {display: inline-block}\n",
       ".list-inline>li:not(:last-child)::after {content: \"\\00b7\"; padding: 0 .5ex}\n",
       "</style>\n",
       "<ol class=list-inline><li>50</li><li>90</li></ol>\n"
      ],
      "text/latex": [
       "\\begin{enumerate*}\n",
       "\\item 50\n",
       "\\item 90\n",
       "\\end{enumerate*}\n"
      ],
      "text/markdown": [
       "1. 50\n",
       "2. 90\n",
       "\n",
       "\n"
      ],
      "text/plain": [
       "[1] 50 90"
      ]
     },
     "metadata": {},
     "output_type": "display_data"
    },
    {
     "data": {
      "text/html": [
       "<style>\n",
       ".list-inline {list-style: none; margin:0; padding: 0}\n",
       ".list-inline>li {display: inline-block}\n",
       ".list-inline>li:not(:last-child)::after {content: \"\\00b7\"; padding: 0 .5ex}\n",
       "</style>\n",
       "<ol class=list-inline><li>60</li><li>100</li></ol>\n"
      ],
      "text/latex": [
       "\\begin{enumerate*}\n",
       "\\item 60\n",
       "\\item 100\n",
       "\\end{enumerate*}\n"
      ],
      "text/markdown": [
       "1. 60\n",
       "2. 100\n",
       "\n",
       "\n"
      ],
      "text/plain": [
       "[1]  60 100"
      ]
     },
     "metadata": {},
     "output_type": "display_data"
    }
   ],
   "source": [
    "range(a)\n",
    "range(b)\n",
    "range(c)"
   ]
  },
  {
   "cell_type": "code",
   "execution_count": 158,
   "id": "9b010f0d",
   "metadata": {},
   "outputs": [
    {
     "data": {
      "text/html": [
       "17.5"
      ],
      "text/latex": [
       "17.5"
      ],
      "text/markdown": [
       "17.5"
      ],
      "text/plain": [
       "[1] 17.5"
      ]
     },
     "metadata": {},
     "output_type": "display_data"
    },
    {
     "data": {
      "text/html": [
       "22.5"
      ],
      "text/latex": [
       "22.5"
      ],
      "text/markdown": [
       "22.5"
      ],
      "text/plain": [
       "[1] 22.5"
      ]
     },
     "metadata": {},
     "output_type": "display_data"
    },
    {
     "data": {
      "text/html": [
       "17.5"
      ],
      "text/latex": [
       "17.5"
      ],
      "text/markdown": [
       "17.5"
      ],
      "text/plain": [
       "[1] 17.5"
      ]
     },
     "metadata": {},
     "output_type": "display_data"
    }
   ],
   "source": [
    "IQR(a)\n",
    "IQR(b)\n",
    "IQR(c)"
   ]
  },
  {
   "cell_type": "code",
   "execution_count": 159,
   "id": "e791705a",
   "metadata": {},
   "outputs": [
    {
     "data": {
      "text/html": [
       "216.666666666667"
      ],
      "text/latex": [
       "216.666666666667"
      ],
      "text/markdown": [
       "216.666666666667"
      ],
      "text/plain": [
       "[1] 216.6667"
      ]
     },
     "metadata": {},
     "output_type": "display_data"
    },
    {
     "data": {
      "text/html": [
       "270"
      ],
      "text/latex": [
       "270"
      ],
      "text/markdown": [
       "270"
      ],
      "text/plain": [
       "[1] 270"
      ]
     },
     "metadata": {},
     "output_type": "display_data"
    },
    {
     "data": {
      "text/html": [
       "216.666666666667"
      ],
      "text/latex": [
       "216.666666666667"
      ],
      "text/markdown": [
       "216.666666666667"
      ],
      "text/plain": [
       "[1] 216.6667"
      ]
     },
     "metadata": {},
     "output_type": "display_data"
    }
   ],
   "source": [
    "var(a)\n",
    "var(b)\n",
    "var(c)"
   ]
  },
  {
   "cell_type": "code",
   "execution_count": 160,
   "id": "3c7555fc",
   "metadata": {},
   "outputs": [
    {
     "name": "stdout",
     "output_type": "stream",
     "text": [
      " [1] 158 156 155 177 165 155 150 179 163 162 172 170 169 163 157 180 177 170 173\n",
      "[20] 153 157 150 163 173 176 155 159 169 164 159 162 157 171 171 172 151 161 157\n",
      "[39] 180 157\n"
     ]
    }
   ],
   "source": [
    "heights <- sample(150:180, 40, replace=TRUE)\n",
    "print(heights)\n"
   ]
  },
  {
   "cell_type": "code",
   "execution_count": 162,
   "id": "b7f64413",
   "metadata": {},
   "outputs": [
    {
     "data": {
      "text/html": [
       "<style>\n",
       ".list-inline {list-style: none; margin:0; padding: 0}\n",
       ".list-inline>li {display: inline-block}\n",
       ".list-inline>li:not(:last-child)::after {content: \"\\00b7\"; padding: 0 .5ex}\n",
       "</style>\n",
       "<ol class=list-inline><li>158</li><li>156</li><li>155</li><li>177</li><li>165</li><li>155</li><li>150</li><li>179</li><li>163</li><li>162</li><li>172</li><li>170</li><li>169</li><li>163</li><li>157</li><li>180</li><li>177</li><li>170</li><li>173</li><li>153</li><li>157</li><li>150</li><li>163</li><li>173</li><li>176</li><li>155</li><li>159</li><li>169</li><li>164</li><li>159</li><li>162</li><li>157</li><li>171</li><li>171</li><li>172</li><li>151</li><li>161</li><li>157</li><li>180</li><li>157</li></ol>\n"
      ],
      "text/latex": [
       "\\begin{enumerate*}\n",
       "\\item 158\n",
       "\\item 156\n",
       "\\item 155\n",
       "\\item 177\n",
       "\\item 165\n",
       "\\item 155\n",
       "\\item 150\n",
       "\\item 179\n",
       "\\item 163\n",
       "\\item 162\n",
       "\\item 172\n",
       "\\item 170\n",
       "\\item 169\n",
       "\\item 163\n",
       "\\item 157\n",
       "\\item 180\n",
       "\\item 177\n",
       "\\item 170\n",
       "\\item 173\n",
       "\\item 153\n",
       "\\item 157\n",
       "\\item 150\n",
       "\\item 163\n",
       "\\item 173\n",
       "\\item 176\n",
       "\\item 155\n",
       "\\item 159\n",
       "\\item 169\n",
       "\\item 164\n",
       "\\item 159\n",
       "\\item 162\n",
       "\\item 157\n",
       "\\item 171\n",
       "\\item 171\n",
       "\\item 172\n",
       "\\item 151\n",
       "\\item 161\n",
       "\\item 157\n",
       "\\item 180\n",
       "\\item 157\n",
       "\\end{enumerate*}\n"
      ],
      "text/markdown": [
       "1. 158\n",
       "2. 156\n",
       "3. 155\n",
       "4. 177\n",
       "5. 165\n",
       "6. 155\n",
       "7. 150\n",
       "8. 179\n",
       "9. 163\n",
       "10. 162\n",
       "11. 172\n",
       "12. 170\n",
       "13. 169\n",
       "14. 163\n",
       "15. 157\n",
       "16. 180\n",
       "17. 177\n",
       "18. 170\n",
       "19. 173\n",
       "20. 153\n",
       "21. 157\n",
       "22. 150\n",
       "23. 163\n",
       "24. 173\n",
       "25. 176\n",
       "26. 155\n",
       "27. 159\n",
       "28. 169\n",
       "29. 164\n",
       "30. 159\n",
       "31. 162\n",
       "32. 157\n",
       "33. 171\n",
       "34. 171\n",
       "35. 172\n",
       "36. 151\n",
       "37. 161\n",
       "38. 157\n",
       "39. 180\n",
       "40. 157\n",
       "\n",
       "\n"
      ],
      "text/plain": [
       " [1] 158 156 155 177 165 155 150 179 163 162 172 170 169 163 157 180 177 170 173\n",
       "[20] 153 157 150 163 173 176 155 159 169 164 159 162 157 171 171 172 151 161 157\n",
       "[39] 180 157"
      ]
     },
     "metadata": {},
     "output_type": "display_data"
    }
   ],
   "source": [
    "heights"
   ]
  },
  {
   "cell_type": "code",
   "execution_count": 164,
   "id": "fd545c8d",
   "metadata": {},
   "outputs": [
    {
     "data": {
      "text/html": [
       "40"
      ],
      "text/latex": [
       "40"
      ],
      "text/markdown": [
       "40"
      ],
      "text/plain": [
       "[1] 40"
      ]
     },
     "metadata": {},
     "output_type": "display_data"
    }
   ],
   "source": [
    "length(heights)"
   ]
  },
  {
   "cell_type": "code",
   "execution_count": 165,
   "id": "8ea5c8d6",
   "metadata": {},
   "outputs": [],
   "source": [
    "cut1 = cut(heights, breaks = 5, right = F)"
   ]
  },
  {
   "cell_type": "code",
   "execution_count": 166,
   "id": "56da1827",
   "metadata": {},
   "outputs": [],
   "source": [
    "freq = table(cut1)"
   ]
  },
  {
   "cell_type": "code",
   "execution_count": 167,
   "id": "66f0d12f",
   "metadata": {},
   "outputs": [
    {
     "data": {
      "text/plain": [
       "cut1\n",
       "[150,156) [156,162) [162,168) [168,174) [174,180) \n",
       "        7        10         7        10         6 "
      ]
     },
     "metadata": {},
     "output_type": "display_data"
    }
   ],
   "source": [
    "freq"
   ]
  },
  {
   "cell_type": "code",
   "execution_count": 168,
   "id": "5be348f3",
   "metadata": {},
   "outputs": [],
   "source": [
    "prop = prop.table(freq)"
   ]
  },
  {
   "cell_type": "code",
   "execution_count": 169,
   "id": "e2a11c99",
   "metadata": {},
   "outputs": [
    {
     "data": {
      "text/plain": [
       "cut1\n",
       "[150,156) [156,162) [162,168) [168,174) [174,180) \n",
       "    0.175     0.250     0.175     0.250     0.150 "
      ]
     },
     "metadata": {},
     "output_type": "display_data"
    }
   ],
   "source": [
    "prop"
   ]
  },
  {
   "cell_type": "code",
   "execution_count": 170,
   "id": "2ec8f16d",
   "metadata": {},
   "outputs": [
    {
     "data": {
      "image/png": "[encoded data removed]",
      "text/plain": [
       "Plot with title \"Heights of Students\""
      ]
     },
     "metadata": {
      "image/png": {
       "height": 420,
       "width": 420
      }
     },
     "output_type": "display_data"
    }
   ],
   "source": [
    "barplot(freq, main = 'Heights of Students')"
   ]
  },
  {
   "cell_type": "code",
   "execution_count": 171,
   "id": "f6293a4f",
   "metadata": {},
   "outputs": [
    {
     "name": "stdout",
     "output_type": "stream",
     "text": [
      " [1] 3.985798 2.405167 2.247786 2.413896 3.880177 1.313864 2.709746 2.632916\n",
      " [9] 2.758346 3.326381 3.372601 3.653641 3.431780 3.005947 3.961162 1.360419\n",
      "[17] 1.773631 1.346736 3.401163 2.822536\n"
     ]
    }
   ],
   "source": [
    "# 0부터 21.7 사이의 랜덤한 숫자 20개를 생성합니다.\n",
    "random_numbers <- runif(20, min = 1, max = 4)\n",
    "\n",
    "# 결과를 출력합니다.\n",
    "print(random_numbers)\n"
   ]
  },
  {
   "cell_type": "code",
   "execution_count": 172,
   "id": "f4d107ce",
   "metadata": {},
   "outputs": [],
   "source": [
    "data = c(random_numbers)"
   ]
  },
  {
   "cell_type": "code",
   "execution_count": 173,
   "id": "cd1a58b3",
   "metadata": {},
   "outputs": [
    {
     "data": {
      "text/html": [
       "<style>\n",
       ".list-inline {list-style: none; margin:0; padding: 0}\n",
       ".list-inline>li {display: inline-block}\n",
       ".list-inline>li:not(:last-child)::after {content: \"\\00b7\"; padding: 0 .5ex}\n",
       "</style>\n",
       "<ol class=list-inline><li>3.98579796170816</li><li>2.40516700502485</li><li>2.24778588069603</li><li>2.41389577649534</li><li>3.88017704314552</li><li>1.31386449793354</li><li>2.70974629814737</li><li>2.63291571801528</li><li>2.75834621209651</li><li>3.32638088613749</li><li>3.3726008431986</li><li>3.65364111331291</li><li>3.43177997064777</li><li>3.00594701641239</li><li>3.96116185095161</li><li>1.36041889712214</li><li>1.7736309892498</li><li>1.34673644253053</li><li>3.40116289909929</li><li>2.82253586035222</li></ol>\n"
      ],
      "text/latex": [
       "\\begin{enumerate*}\n",
       "\\item 3.98579796170816\n",
       "\\item 2.40516700502485\n",
       "\\item 2.24778588069603\n",
       "\\item 2.41389577649534\n",
       "\\item 3.88017704314552\n",
       "\\item 1.31386449793354\n",
       "\\item 2.70974629814737\n",
       "\\item 2.63291571801528\n",
       "\\item 2.75834621209651\n",
       "\\item 3.32638088613749\n",
       "\\item 3.3726008431986\n",
       "\\item 3.65364111331291\n",
       "\\item 3.43177997064777\n",
       "\\item 3.00594701641239\n",
       "\\item 3.96116185095161\n",
       "\\item 1.36041889712214\n",
       "\\item 1.7736309892498\n",
       "\\item 1.34673644253053\n",
       "\\item 3.40116289909929\n",
       "\\item 2.82253586035222\n",
       "\\end{enumerate*}\n"
      ],
      "text/markdown": [
       "1. 3.98579796170816\n",
       "2. 2.40516700502485\n",
       "3. 2.24778588069603\n",
       "4. 2.41389577649534\n",
       "5. 3.88017704314552\n",
       "6. 1.31386449793354\n",
       "7. 2.70974629814737\n",
       "8. 2.63291571801528\n",
       "9. 2.75834621209651\n",
       "10. 3.32638088613749\n",
       "11. 3.3726008431986\n",
       "12. 3.65364111331291\n",
       "13. 3.43177997064777\n",
       "14. 3.00594701641239\n",
       "15. 3.96116185095161\n",
       "16. 1.36041889712214\n",
       "17. 1.7736309892498\n",
       "18. 1.34673644253053\n",
       "19. 3.40116289909929\n",
       "20. 2.82253586035222\n",
       "\n",
       "\n"
      ],
      "text/plain": [
       " [1] 3.985798 2.405167 2.247786 2.413896 3.880177 1.313864 2.709746 2.632916\n",
       " [9] 2.758346 3.326381 3.372601 3.653641 3.431780 3.005947 3.961162 1.360419\n",
       "[17] 1.773631 1.346736 3.401163 2.822536"
      ]
     },
     "metadata": {},
     "output_type": "display_data"
    }
   ],
   "source": [
    "data"
   ]
  },
  {
   "cell_type": "code",
   "execution_count": 174,
   "id": "81e723d0",
   "metadata": {},
   "outputs": [],
   "source": [
    "data = as.integer(data)"
   ]
  },
  {
   "cell_type": "code",
   "execution_count": 175,
   "id": "dc7eeccf",
   "metadata": {},
   "outputs": [
    {
     "data": {
      "text/html": [
       "<style>\n",
       ".list-inline {list-style: none; margin:0; padding: 0}\n",
       ".list-inline>li {display: inline-block}\n",
       ".list-inline>li:not(:last-child)::after {content: \"\\00b7\"; padding: 0 .5ex}\n",
       "</style>\n",
       "<ol class=list-inline><li>3</li><li>2</li><li>2</li><li>2</li><li>3</li><li>1</li><li>2</li><li>2</li><li>2</li><li>3</li><li>3</li><li>3</li><li>3</li><li>3</li><li>3</li><li>1</li><li>1</li><li>1</li><li>3</li><li>2</li></ol>\n"
      ],
      "text/latex": [
       "\\begin{enumerate*}\n",
       "\\item 3\n",
       "\\item 2\n",
       "\\item 2\n",
       "\\item 2\n",
       "\\item 3\n",
       "\\item 1\n",
       "\\item 2\n",
       "\\item 2\n",
       "\\item 2\n",
       "\\item 3\n",
       "\\item 3\n",
       "\\item 3\n",
       "\\item 3\n",
       "\\item 3\n",
       "\\item 3\n",
       "\\item 1\n",
       "\\item 1\n",
       "\\item 1\n",
       "\\item 3\n",
       "\\item 2\n",
       "\\end{enumerate*}\n"
      ],
      "text/markdown": [
       "1. 3\n",
       "2. 2\n",
       "3. 2\n",
       "4. 2\n",
       "5. 3\n",
       "6. 1\n",
       "7. 2\n",
       "8. 2\n",
       "9. 2\n",
       "10. 3\n",
       "11. 3\n",
       "12. 3\n",
       "13. 3\n",
       "14. 3\n",
       "15. 3\n",
       "16. 1\n",
       "17. 1\n",
       "18. 1\n",
       "19. 3\n",
       "20. 2\n",
       "\n",
       "\n"
      ],
      "text/plain": [
       " [1] 3 2 2 2 3 1 2 2 2 3 3 3 3 3 3 1 1 1 3 2"
      ]
     },
     "metadata": {},
     "output_type": "display_data"
    }
   ],
   "source": [
    "data"
   ]
  },
  {
   "cell_type": "code",
   "execution_count": 176,
   "id": "19288f43",
   "metadata": {},
   "outputs": [],
   "source": [
    "freq = table(data)"
   ]
  },
  {
   "cell_type": "code",
   "execution_count": 177,
   "id": "f5d300e9",
   "metadata": {},
   "outputs": [
    {
     "data": {
      "text/plain": [
       "data\n",
       "1 2 3 \n",
       "4 7 9 "
      ]
     },
     "metadata": {},
     "output_type": "display_data"
    }
   ],
   "source": [
    "freq"
   ]
  },
  {
   "cell_type": "code",
   "execution_count": 178,
   "id": "c9a46d0b",
   "metadata": {},
   "outputs": [],
   "source": [
    "prop = prop.table(freq)"
   ]
  },
  {
   "cell_type": "code",
   "execution_count": 179,
   "id": "5987cab8",
   "metadata": {},
   "outputs": [
    {
     "data": {
      "text/plain": [
       "data\n",
       "   1    2    3 \n",
       "0.20 0.35 0.45 "
      ]
     },
     "metadata": {},
     "output_type": "display_data"
    }
   ],
   "source": [
    "prop"
   ]
  },
  {
   "cell_type": "code",
   "execution_count": 180,
   "id": "10d2a7b9",
   "metadata": {},
   "outputs": [],
   "source": [
    "sum_freq = cumsum(freq)"
   ]
  },
  {
   "cell_type": "code",
   "execution_count": 181,
   "id": "c43af606",
   "metadata": {},
   "outputs": [
    {
     "data": {
      "text/html": [
       "<style>\n",
       ".dl-inline {width: auto; margin:0; padding: 0}\n",
       ".dl-inline>dt, .dl-inline>dd {float: none; width: auto; display: inline-block}\n",
       ".dl-inline>dt::after {content: \":\\0020\"; padding-right: .5ex}\n",
       ".dl-inline>dt:not(:first-of-type) {padding-left: .5ex}\n",
       "</style><dl class=dl-inline><dt>1</dt><dd>4</dd><dt>2</dt><dd>11</dd><dt>3</dt><dd>20</dd></dl>\n"
      ],
      "text/latex": [
       "\\begin{description*}\n",
       "\\item[1] 4\n",
       "\\item[2] 11\n",
       "\\item[3] 20\n",
       "\\end{description*}\n"
      ],
      "text/markdown": [
       "1\n",
       ":   42\n",
       ":   113\n",
       ":   20\n",
       "\n"
      ],
      "text/plain": [
       " 1  2  3 \n",
       " 4 11 20 "
      ]
     },
     "metadata": {},
     "output_type": "display_data"
    }
   ],
   "source": [
    "sum_freq"
   ]
  },
  {
   "cell_type": "code",
   "execution_count": 182,
   "id": "4a1dba6b",
   "metadata": {},
   "outputs": [],
   "source": [
    "freq.table = cbind(freq, sum_freq, prop)"
   ]
  },
  {
   "cell_type": "code",
   "execution_count": 183,
   "id": "0fa92411",
   "metadata": {},
   "outputs": [
    {
     "data": {
      "text/html": [
       "<table class=\"dataframe\">\n",
       "<caption>A matrix: 3 × 3 of type dbl</caption>\n",
       "<thead>\n",
       "\t<tr><th></th><th scope=col>freq</th><th scope=col>sum_freq</th><th scope=col>prop</th></tr>\n",
       "</thead>\n",
       "<tbody>\n",
       "\t<tr><th scope=row>1</th><td>4</td><td> 4</td><td>0.20</td></tr>\n",
       "\t<tr><th scope=row>2</th><td>7</td><td>11</td><td>0.35</td></tr>\n",
       "\t<tr><th scope=row>3</th><td>9</td><td>20</td><td>0.45</td></tr>\n",
       "</tbody>\n",
       "</table>\n"
      ],
      "text/latex": [
       "A matrix: 3 × 3 of type dbl\n",
       "\\begin{tabular}{r|lll}\n",
       "  & freq & sum\\_freq & prop\\\\\n",
       "\\hline\n",
       "\t1 & 4 &  4 & 0.20\\\\\n",
       "\t2 & 7 & 11 & 0.35\\\\\n",
       "\t3 & 9 & 20 & 0.45\\\\\n",
       "\\end{tabular}\n"
      ],
      "text/markdown": [
       "\n",
       "A matrix: 3 × 3 of type dbl\n",
       "\n",
       "| <!--/--> | freq | sum_freq | prop |\n",
       "|---|---|---|---|\n",
       "| 1 | 4 |  4 | 0.20 |\n",
       "| 2 | 7 | 11 | 0.35 |\n",
       "| 3 | 9 | 20 | 0.45 |\n",
       "\n"
      ],
      "text/plain": [
       "  freq sum_freq prop\n",
       "1 4     4       0.20\n",
       "2 7    11       0.35\n",
       "3 9    20       0.45"
      ]
     },
     "metadata": {},
     "output_type": "display_data"
    }
   ],
   "source": [
    "freq.table"
   ]
  },
  {
   "cell_type": "code",
   "execution_count": 184,
   "id": "787f29af",
   "metadata": {},
   "outputs": [
    {
     "data": {
      "image/png": "[encoded data removed]",
      "text/plain": [
       "Plot with title \"Barplot\""
      ]
     },
     "metadata": {
      "image/png": {
       "height": 420,
       "width": 420
      }
     },
     "output_type": "display_data"
    }
   ],
   "source": [
    "barplot(freq, main = 'Barplot')"
   ]
  },
  {
   "cell_type": "code",
   "execution_count": 185,
   "id": "f8908b7f",
   "metadata": {},
   "outputs": [
    {
     "data": {
      "image/png": "[encoded data removed]",
      "text/plain": [
       "Plot with title \"Histogram\""
      ]
     },
     "metadata": {
      "image/png": {
       "height": 420,
       "width": 420
      }
     },
     "output_type": "display_data"
    }
   ],
   "source": [
    "hist(data,\n",
    "    main = 'Histogram', right = F)"
   ]
  },
  {
   "cell_type": "code",
   "execution_count": 186,
   "id": "69d3a2a7",
   "metadata": {},
   "outputs": [],
   "source": [
    "a = rep('A', 2240)\n",
    "b = rep('B', 1040)\n",
    "c = rep('C', 820)\n",
    "\n",
    "data = c(a, b, c)"
   ]
  },
  {
   "cell_type": "code",
   "execution_count": 187,
   "id": "eb4a2b9a",
   "metadata": {},
   "outputs": [
    {
     "data": {
      "text/html": [
       "<style>\n",
       ".list-inline {list-style: none; margin:0; padding: 0}\n",
       ".list-inline>li {display: inline-block}\n",
       ".list-inline>li:not(:last-child)::after {content: \"\\00b7\"; padding: 0 .5ex}\n",
       "</style>\n",
       "<ol class=list-inline><li>'A'</li><li>'A'</li><li>'A'</li><li>'A'</li><li>'A'</li><li>'A'</li><li>'A'</li><li>'A'</li><li>'A'</li><li>'A'</li><li>'A'</li><li>'A'</li><li>'A'</li><li>'A'</li><li>'A'</li><li>'A'</li><li>'A'</li><li>'A'</li><li>'A'</li><li>'A'</li><li>'A'</li><li>'A'</li><li>'A'</li><li>'A'</li><li>'A'</li><li>'A'</li><li>'A'</li><li>'A'</li><li>'A'</li><li>'A'</li><li>'A'</li><li>'A'</li><li>'A'</li><li>'A'</li><li>'A'</li><li>'A'</li><li>'A'</li><li>'A'</li><li>'A'</li><li>'A'</li><li>'A'</li><li>'A'</li><li>'A'</li><li>'A'</li><li>'A'</li><li>'A'</li><li>'A'</li><li>'A'</li><li>'A'</li><li>'A'</li><li>'A'</li><li>'A'</li><li>'A'</li><li>'A'</li><li>'A'</li><li>'A'</li><li>'A'</li><li>'A'</li><li>'A'</li><li>'A'</li><li>'A'</li><li>'A'</li><li>'A'</li><li>'A'</li><li>'A'</li><li>'A'</li><li>'A'</li><li>'A'</li><li>'A'</li><li>'A'</li><li>'A'</li><li>'A'</li><li>'A'</li><li>'A'</li><li>'A'</li><li>'A'</li><li>'A'</li><li>'A'</li><li>'A'</li><li>'A'</li><li>'A'</li><li>'A'</li><li>'A'</li><li>'A'</li><li>'A'</li><li>'A'</li><li>'A'</li><li>'A'</li><li>'A'</li><li>'A'</li><li>'A'</li><li>'A'</li><li>'A'</li><li>'A'</li><li>'A'</li><li>'A'</li><li>'A'</li><li>'A'</li><li>'A'</li><li>'A'</li><li>'A'</li><li>'A'</li><li>'A'</li><li>'A'</li><li>'A'</li><li>'A'</li><li>'A'</li><li>'A'</li><li>'A'</li><li>'A'</li><li>'A'</li><li>'A'</li><li>'A'</li><li>'A'</li><li>'A'</li><li>'A'</li><li>'A'</li><li>'A'</li><li>'A'</li><li>'A'</li><li>'A'</li><li>'A'</li><li>'A'</li><li>'A'</li><li>'A'</li><li>'A'</li><li>'A'</li><li>'A'</li><li>'A'</li><li>'A'</li><li>'A'</li><li>'A'</li><li>'A'</li><li>'A'</li><li>'A'</li><li>'A'</li><li>'A'</li><li>'A'</li><li>'A'</li><li>'A'</li><li>'A'</li><li>'A'</li><li>'A'</li><li>'A'</li><li>'A'</li><li>'A'</li><li>'A'</li><li>'A'</li><li>'A'</li><li>'A'</li><li>'A'</li><li>'A'</li><li>'A'</li><li>'A'</li><li>'A'</li><li>'A'</li><li>'A'</li><li>'A'</li><li>'A'</li><li>'A'</li><li>'A'</li><li>'A'</li><li>'A'</li><li>'A'</li><li>'A'</li><li>'A'</li><li>'A'</li><li>'A'</li><li>'A'</li><li>'A'</li><li>'A'</li><li>'A'</li><li>'A'</li><li>'A'</li><li>'A'</li><li>'A'</li><li>'A'</li><li>'A'</li><li>'A'</li><li>'A'</li><li>'A'</li><li>'A'</li><li>'A'</li><li>'A'</li><li>'A'</li><li>'A'</li><li>'A'</li><li>'A'</li><li>'A'</li><li>'A'</li><li>'A'</li><li>'A'</li><li>'A'</li><li>'A'</li><li>'A'</li><li>'A'</li><li>'A'</li><li>'A'</li><li>'A'</li><li>'A'</li><li>⋯</li><li>'C'</li><li>'C'</li><li>'C'</li><li>'C'</li><li>'C'</li><li>'C'</li><li>'C'</li><li>'C'</li><li>'C'</li><li>'C'</li><li>'C'</li><li>'C'</li><li>'C'</li><li>'C'</li><li>'C'</li><li>'C'</li><li>'C'</li><li>'C'</li><li>'C'</li><li>'C'</li><li>'C'</li><li>'C'</li><li>'C'</li><li>'C'</li><li>'C'</li><li>'C'</li><li>'C'</li><li>'C'</li><li>'C'</li><li>'C'</li><li>'C'</li><li>'C'</li><li>'C'</li><li>'C'</li><li>'C'</li><li>'C'</li><li>'C'</li><li>'C'</li><li>'C'</li><li>'C'</li><li>'C'</li><li>'C'</li><li>'C'</li><li>'C'</li><li>'C'</li><li>'C'</li><li>'C'</li><li>'C'</li><li>'C'</li><li>'C'</li><li>'C'</li><li>'C'</li><li>'C'</li><li>'C'</li><li>'C'</li><li>'C'</li><li>'C'</li><li>'C'</li><li>'C'</li><li>'C'</li><li>'C'</li><li>'C'</li><li>'C'</li><li>'C'</li><li>'C'</li><li>'C'</li><li>'C'</li><li>'C'</li><li>'C'</li><li>'C'</li><li>'C'</li><li>'C'</li><li>'C'</li><li>'C'</li><li>'C'</li><li>'C'</li><li>'C'</li><li>'C'</li><li>'C'</li><li>'C'</li><li>'C'</li><li>'C'</li><li>'C'</li><li>'C'</li><li>'C'</li><li>'C'</li><li>'C'</li><li>'C'</li><li>'C'</li><li>'C'</li><li>'C'</li><li>'C'</li><li>'C'</li><li>'C'</li><li>'C'</li><li>'C'</li><li>'C'</li><li>'C'</li><li>'C'</li><li>'C'</li><li>'C'</li><li>'C'</li><li>'C'</li><li>'C'</li><li>'C'</li><li>'C'</li><li>'C'</li><li>'C'</li><li>'C'</li><li>'C'</li><li>'C'</li><li>'C'</li><li>'C'</li><li>'C'</li><li>'C'</li><li>'C'</li><li>'C'</li><li>'C'</li><li>'C'</li><li>'C'</li><li>'C'</li><li>'C'</li><li>'C'</li><li>'C'</li><li>'C'</li><li>'C'</li><li>'C'</li><li>'C'</li><li>'C'</li><li>'C'</li><li>'C'</li><li>'C'</li><li>'C'</li><li>'C'</li><li>'C'</li><li>'C'</li><li>'C'</li><li>'C'</li><li>'C'</li><li>'C'</li><li>'C'</li><li>'C'</li><li>'C'</li><li>'C'</li><li>'C'</li><li>'C'</li><li>'C'</li><li>'C'</li><li>'C'</li><li>'C'</li><li>'C'</li><li>'C'</li><li>'C'</li><li>'C'</li><li>'C'</li><li>'C'</li><li>'C'</li><li>'C'</li><li>'C'</li><li>'C'</li><li>'C'</li><li>'C'</li><li>'C'</li><li>'C'</li><li>'C'</li><li>'C'</li><li>'C'</li><li>'C'</li><li>'C'</li><li>'C'</li><li>'C'</li><li>'C'</li><li>'C'</li><li>'C'</li><li>'C'</li><li>'C'</li><li>'C'</li><li>'C'</li><li>'C'</li><li>'C'</li><li>'C'</li><li>'C'</li><li>'C'</li><li>'C'</li><li>'C'</li><li>'C'</li><li>'C'</li><li>'C'</li><li>'C'</li><li>'C'</li><li>'C'</li><li>'C'</li><li>'C'</li><li>'C'</li><li>'C'</li><li>'C'</li><li>'C'</li><li>'C'</li><li>'C'</li><li>'C'</li></ol>\n"
      ],
      "text/latex": [
       "\\begin{enumerate*}\n",
       "\\item 'A'\n",
       "\\item 'A'\n",
       "\\item 'A'\n",
       "\\item 'A'\n",
       "\\item 'A'\n",
       "\\item 'A'\n",
       "\\item 'A'\n",
       "\\item 'A'\n",
       "\\item 'A'\n",
       "\\item 'A'\n",
       "\\item 'A'\n",
       "\\item 'A'\n",
       "\\item 'A'\n",
       "\\item 'A'\n",
       "\\item 'A'\n",
       "\\item 'A'\n",
       "\\item 'A'\n",
       "\\item 'A'\n",
       "\\item 'A'\n",
       "\\item 'A'\n",
       "\\item 'A'\n",
       "\\item 'A'\n",
       "\\item 'A'\n",
       "\\item 'A'\n",
       "\\item 'A'\n",
       "\\item 'A'\n",
       "\\item 'A'\n",
       "\\item 'A'\n",
       "\\item 'A'\n",
       "\\item 'A'\n",
       "\\item 'A'\n",
       "\\item 'A'\n",
       "\\item 'A'\n",
       "\\item 'A'\n",
       "\\item 'A'\n",
       "\\item 'A'\n",
       "\\item 'A'\n",
       "\\item 'A'\n",
       "\\item 'A'\n",
       "\\item 'A'\n",
       "\\item 'A'\n",
       "\\item 'A'\n",
       "\\item 'A'\n",
       "\\item 'A'\n",
       "\\item 'A'\n",
       "\\item 'A'\n",
       "\\item 'A'\n",
       "\\item 'A'\n",
       "\\item 'A'\n",
       "\\item 'A'\n",
       "\\item 'A'\n",
       "\\item 'A'\n",
       "\\item 'A'\n",
       "\\item 'A'\n",
       "\\item 'A'\n",
       "\\item 'A'\n",
       "\\item 'A'\n",
       "\\item 'A'\n",
       "\\item 'A'\n",
       "\\item 'A'\n",
       "\\item 'A'\n",
       "\\item 'A'\n",
       "\\item 'A'\n",
       "\\item 'A'\n",
       "\\item 'A'\n",
       "\\item 'A'\n",
       "\\item 'A'\n",
       "\\item 'A'\n",
       "\\item 'A'\n",
       "\\item 'A'\n",
       "\\item 'A'\n",
       "\\item 'A'\n",
       "\\item 'A'\n",
       "\\item 'A'\n",
       "\\item 'A'\n",
       "\\item 'A'\n",
       "\\item 'A'\n",
       "\\item 'A'\n",
       "\\item 'A'\n",
       "\\item 'A'\n",
       "\\item 'A'\n",
       "\\item 'A'\n",
       "\\item 'A'\n",
       "\\item 'A'\n",
       "\\item 'A'\n",
       "\\item 'A'\n",
       "\\item 'A'\n",
       "\\item 'A'\n",
       "\\item 'A'\n",
       "\\item 'A'\n",
       "\\item 'A'\n",
       "\\item 'A'\n",
       "\\item 'A'\n",
       "\\item 'A'\n",
       "\\item 'A'\n",
       "\\item 'A'\n",
       "\\item 'A'\n",
       "\\item 'A'\n",
       "\\item 'A'\n",
       "\\item 'A'\n",
       "\\item 'A'\n",
       "\\item 'A'\n",
       "\\item 'A'\n",
       "\\item 'A'\n",
       "\\item 'A'\n",
       "\\item 'A'\n",
       "\\item 'A'\n",
       "\\item 'A'\n",
       "\\item 'A'\n",
       "\\item 'A'\n",
       "\\item 'A'\n",
       "\\item 'A'\n",
       "\\item 'A'\n",
       "\\item 'A'\n",
       "\\item 'A'\n",
       "\\item 'A'\n",
       "\\item 'A'\n",
       "\\item 'A'\n",
       "\\item 'A'\n",
       "\\item 'A'\n",
       "\\item 'A'\n",
       "\\item 'A'\n",
       "\\item 'A'\n",
       "\\item 'A'\n",
       "\\item 'A'\n",
       "\\item 'A'\n",
       "\\item 'A'\n",
       "\\item 'A'\n",
       "\\item 'A'\n",
       "\\item 'A'\n",
       "\\item 'A'\n",
       "\\item 'A'\n",
       "\\item 'A'\n",
       "\\item 'A'\n",
       "\\item 'A'\n",
       "\\item 'A'\n",
       "\\item 'A'\n",
       "\\item 'A'\n",
       "\\item 'A'\n",
       "\\item 'A'\n",
       "\\item 'A'\n",
       "\\item 'A'\n",
       "\\item 'A'\n",
       "\\item 'A'\n",
       "\\item 'A'\n",
       "\\item 'A'\n",
       "\\item 'A'\n",
       "\\item 'A'\n",
       "\\item 'A'\n",
       "\\item 'A'\n",
       "\\item 'A'\n",
       "\\item 'A'\n",
       "\\item 'A'\n",
       "\\item 'A'\n",
       "\\item 'A'\n",
       "\\item 'A'\n",
       "\\item 'A'\n",
       "\\item 'A'\n",
       "\\item 'A'\n",
       "\\item 'A'\n",
       "\\item 'A'\n",
       "\\item 'A'\n",
       "\\item 'A'\n",
       "\\item 'A'\n",
       "\\item 'A'\n",
       "\\item 'A'\n",
       "\\item 'A'\n",
       "\\item 'A'\n",
       "\\item 'A'\n",
       "\\item 'A'\n",
       "\\item 'A'\n",
       "\\item 'A'\n",
       "\\item 'A'\n",
       "\\item 'A'\n",
       "\\item 'A'\n",
       "\\item 'A'\n",
       "\\item 'A'\n",
       "\\item 'A'\n",
       "\\item 'A'\n",
       "\\item 'A'\n",
       "\\item 'A'\n",
       "\\item 'A'\n",
       "\\item 'A'\n",
       "\\item 'A'\n",
       "\\item 'A'\n",
       "\\item 'A'\n",
       "\\item 'A'\n",
       "\\item 'A'\n",
       "\\item 'A'\n",
       "\\item 'A'\n",
       "\\item 'A'\n",
       "\\item 'A'\n",
       "\\item 'A'\n",
       "\\item 'A'\n",
       "\\item 'A'\n",
       "\\item 'A'\n",
       "\\item 'A'\n",
       "\\item 'A'\n",
       "\\item 'A'\n",
       "\\item 'A'\n",
       "\\item ⋯\n",
       "\\item 'C'\n",
       "\\item 'C'\n",
       "\\item 'C'\n",
       "\\item 'C'\n",
       "\\item 'C'\n",
       "\\item 'C'\n",
       "\\item 'C'\n",
       "\\item 'C'\n",
       "\\item 'C'\n",
       "\\item 'C'\n",
       "\\item 'C'\n",
       "\\item 'C'\n",
       "\\item 'C'\n",
       "\\item 'C'\n",
       "\\item 'C'\n",
       "\\item 'C'\n",
       "\\item 'C'\n",
       "\\item 'C'\n",
       "\\item 'C'\n",
       "\\item 'C'\n",
       "\\item 'C'\n",
       "\\item 'C'\n",
       "\\item 'C'\n",
       "\\item 'C'\n",
       "\\item 'C'\n",
       "\\item 'C'\n",
       "\\item 'C'\n",
       "\\item 'C'\n",
       "\\item 'C'\n",
       "\\item 'C'\n",
       "\\item 'C'\n",
       "\\item 'C'\n",
       "\\item 'C'\n",
       "\\item 'C'\n",
       "\\item 'C'\n",
       "\\item 'C'\n",
       "\\item 'C'\n",
       "\\item 'C'\n",
       "\\item 'C'\n",
       "\\item 'C'\n",
       "\\item 'C'\n",
       "\\item 'C'\n",
       "\\item 'C'\n",
       "\\item 'C'\n",
       "\\item 'C'\n",
       "\\item 'C'\n",
       "\\item 'C'\n",
       "\\item 'C'\n",
       "\\item 'C'\n",
       "\\item 'C'\n",
       "\\item 'C'\n",
       "\\item 'C'\n",
       "\\item 'C'\n",
       "\\item 'C'\n",
       "\\item 'C'\n",
       "\\item 'C'\n",
       "\\item 'C'\n",
       "\\item 'C'\n",
       "\\item 'C'\n",
       "\\item 'C'\n",
       "\\item 'C'\n",
       "\\item 'C'\n",
       "\\item 'C'\n",
       "\\item 'C'\n",
       "\\item 'C'\n",
       "\\item 'C'\n",
       "\\item 'C'\n",
       "\\item 'C'\n",
       "\\item 'C'\n",
       "\\item 'C'\n",
       "\\item 'C'\n",
       "\\item 'C'\n",
       "\\item 'C'\n",
       "\\item 'C'\n",
       "\\item 'C'\n",
       "\\item 'C'\n",
       "\\item 'C'\n",
       "\\item 'C'\n",
       "\\item 'C'\n",
       "\\item 'C'\n",
       "\\item 'C'\n",
       "\\item 'C'\n",
       "\\item 'C'\n",
       "\\item 'C'\n",
       "\\item 'C'\n",
       "\\item 'C'\n",
       "\\item 'C'\n",
       "\\item 'C'\n",
       "\\item 'C'\n",
       "\\item 'C'\n",
       "\\item 'C'\n",
       "\\item 'C'\n",
       "\\item 'C'\n",
       "\\item 'C'\n",
       "\\item 'C'\n",
       "\\item 'C'\n",
       "\\item 'C'\n",
       "\\item 'C'\n",
       "\\item 'C'\n",
       "\\item 'C'\n",
       "\\item 'C'\n",
       "\\item 'C'\n",
       "\\item 'C'\n",
       "\\item 'C'\n",
       "\\item 'C'\n",
       "\\item 'C'\n",
       "\\item 'C'\n",
       "\\item 'C'\n",
       "\\item 'C'\n",
       "\\item 'C'\n",
       "\\item 'C'\n",
       "\\item 'C'\n",
       "\\item 'C'\n",
       "\\item 'C'\n",
       "\\item 'C'\n",
       "\\item 'C'\n",
       "\\item 'C'\n",
       "\\item 'C'\n",
       "\\item 'C'\n",
       "\\item 'C'\n",
       "\\item 'C'\n",
       "\\item 'C'\n",
       "\\item 'C'\n",
       "\\item 'C'\n",
       "\\item 'C'\n",
       "\\item 'C'\n",
       "\\item 'C'\n",
       "\\item 'C'\n",
       "\\item 'C'\n",
       "\\item 'C'\n",
       "\\item 'C'\n",
       "\\item 'C'\n",
       "\\item 'C'\n",
       "\\item 'C'\n",
       "\\item 'C'\n",
       "\\item 'C'\n",
       "\\item 'C'\n",
       "\\item 'C'\n",
       "\\item 'C'\n",
       "\\item 'C'\n",
       "\\item 'C'\n",
       "\\item 'C'\n",
       "\\item 'C'\n",
       "\\item 'C'\n",
       "\\item 'C'\n",
       "\\item 'C'\n",
       "\\item 'C'\n",
       "\\item 'C'\n",
       "\\item 'C'\n",
       "\\item 'C'\n",
       "\\item 'C'\n",
       "\\item 'C'\n",
       "\\item 'C'\n",
       "\\item 'C'\n",
       "\\item 'C'\n",
       "\\item 'C'\n",
       "\\item 'C'\n",
       "\\item 'C'\n",
       "\\item 'C'\n",
       "\\item 'C'\n",
       "\\item 'C'\n",
       "\\item 'C'\n",
       "\\item 'C'\n",
       "\\item 'C'\n",
       "\\item 'C'\n",
       "\\item 'C'\n",
       "\\item 'C'\n",
       "\\item 'C'\n",
       "\\item 'C'\n",
       "\\item 'C'\n",
       "\\item 'C'\n",
       "\\item 'C'\n",
       "\\item 'C'\n",
       "\\item 'C'\n",
       "\\item 'C'\n",
       "\\item 'C'\n",
       "\\item 'C'\n",
       "\\item 'C'\n",
       "\\item 'C'\n",
       "\\item 'C'\n",
       "\\item 'C'\n",
       "\\item 'C'\n",
       "\\item 'C'\n",
       "\\item 'C'\n",
       "\\item 'C'\n",
       "\\item 'C'\n",
       "\\item 'C'\n",
       "\\item 'C'\n",
       "\\item 'C'\n",
       "\\item 'C'\n",
       "\\item 'C'\n",
       "\\item 'C'\n",
       "\\item 'C'\n",
       "\\item 'C'\n",
       "\\item 'C'\n",
       "\\item 'C'\n",
       "\\item 'C'\n",
       "\\item 'C'\n",
       "\\item 'C'\n",
       "\\item 'C'\n",
       "\\end{enumerate*}\n"
      ],
      "text/markdown": [
       "1. 'A'\n",
       "2. 'A'\n",
       "3. 'A'\n",
       "4. 'A'\n",
       "5. 'A'\n",
       "6. 'A'\n",
       "7. 'A'\n",
       "8. 'A'\n",
       "9. 'A'\n",
       "10. 'A'\n",
       "11. 'A'\n",
       "12. 'A'\n",
       "13. 'A'\n",
       "14. 'A'\n",
       "15. 'A'\n",
       "16. 'A'\n",
       "17. 'A'\n",
       "18. 'A'\n",
       "19. 'A'\n",
       "20. 'A'\n",
       "21. 'A'\n",
       "22. 'A'\n",
       "23. 'A'\n",
       "24. 'A'\n",
       "25. 'A'\n",
       "26. 'A'\n",
       "27. 'A'\n",
       "28. 'A'\n",
       "29. 'A'\n",
       "30. 'A'\n",
       "31. 'A'\n",
       "32. 'A'\n",
       "33. 'A'\n",
       "34. 'A'\n",
       "35. 'A'\n",
       "36. 'A'\n",
       "37. 'A'\n",
       "38. 'A'\n",
       "39. 'A'\n",
       "40. 'A'\n",
       "41. 'A'\n",
       "42. 'A'\n",
       "43. 'A'\n",
       "44. 'A'\n",
       "45. 'A'\n",
       "46. 'A'\n",
       "47. 'A'\n",
       "48. 'A'\n",
       "49. 'A'\n",
       "50. 'A'\n",
       "51. 'A'\n",
       "52. 'A'\n",
       "53. 'A'\n",
       "54. 'A'\n",
       "55. 'A'\n",
       "56. 'A'\n",
       "57. 'A'\n",
       "58. 'A'\n",
       "59. 'A'\n",
       "60. 'A'\n",
       "61. 'A'\n",
       "62. 'A'\n",
       "63. 'A'\n",
       "64. 'A'\n",
       "65. 'A'\n",
       "66. 'A'\n",
       "67. 'A'\n",
       "68. 'A'\n",
       "69. 'A'\n",
       "70. 'A'\n",
       "71. 'A'\n",
       "72. 'A'\n",
       "73. 'A'\n",
       "74. 'A'\n",
       "75. 'A'\n",
       "76. 'A'\n",
       "77. 'A'\n",
       "78. 'A'\n",
       "79. 'A'\n",
       "80. 'A'\n",
       "81. 'A'\n",
       "82. 'A'\n",
       "83. 'A'\n",
       "84. 'A'\n",
       "85. 'A'\n",
       "86. 'A'\n",
       "87. 'A'\n",
       "88. 'A'\n",
       "89. 'A'\n",
       "90. 'A'\n",
       "91. 'A'\n",
       "92. 'A'\n",
       "93. 'A'\n",
       "94. 'A'\n",
       "95. 'A'\n",
       "96. 'A'\n",
       "97. 'A'\n",
       "98. 'A'\n",
       "99. 'A'\n",
       "100. 'A'\n",
       "101. 'A'\n",
       "102. 'A'\n",
       "103. 'A'\n",
       "104. 'A'\n",
       "105. 'A'\n",
       "106. 'A'\n",
       "107. 'A'\n",
       "108. 'A'\n",
       "109. 'A'\n",
       "110. 'A'\n",
       "111. 'A'\n",
       "112. 'A'\n",
       "113. 'A'\n",
       "114. 'A'\n",
       "115. 'A'\n",
       "116. 'A'\n",
       "117. 'A'\n",
       "118. 'A'\n",
       "119. 'A'\n",
       "120. 'A'\n",
       "121. 'A'\n",
       "122. 'A'\n",
       "123. 'A'\n",
       "124. 'A'\n",
       "125. 'A'\n",
       "126. 'A'\n",
       "127. 'A'\n",
       "128. 'A'\n",
       "129. 'A'\n",
       "130. 'A'\n",
       "131. 'A'\n",
       "132. 'A'\n",
       "133. 'A'\n",
       "134. 'A'\n",
       "135. 'A'\n",
       "136. 'A'\n",
       "137. 'A'\n",
       "138. 'A'\n",
       "139. 'A'\n",
       "140. 'A'\n",
       "141. 'A'\n",
       "142. 'A'\n",
       "143. 'A'\n",
       "144. 'A'\n",
       "145. 'A'\n",
       "146. 'A'\n",
       "147. 'A'\n",
       "148. 'A'\n",
       "149. 'A'\n",
       "150. 'A'\n",
       "151. 'A'\n",
       "152. 'A'\n",
       "153. 'A'\n",
       "154. 'A'\n",
       "155. 'A'\n",
       "156. 'A'\n",
       "157. 'A'\n",
       "158. 'A'\n",
       "159. 'A'\n",
       "160. 'A'\n",
       "161. 'A'\n",
       "162. 'A'\n",
       "163. 'A'\n",
       "164. 'A'\n",
       "165. 'A'\n",
       "166. 'A'\n",
       "167. 'A'\n",
       "168. 'A'\n",
       "169. 'A'\n",
       "170. 'A'\n",
       "171. 'A'\n",
       "172. 'A'\n",
       "173. 'A'\n",
       "174. 'A'\n",
       "175. 'A'\n",
       "176. 'A'\n",
       "177. 'A'\n",
       "178. 'A'\n",
       "179. 'A'\n",
       "180. 'A'\n",
       "181. 'A'\n",
       "182. 'A'\n",
       "183. 'A'\n",
       "184. 'A'\n",
       "185. 'A'\n",
       "186. 'A'\n",
       "187. 'A'\n",
       "188. 'A'\n",
       "189. 'A'\n",
       "190. 'A'\n",
       "191. 'A'\n",
       "192. 'A'\n",
       "193. 'A'\n",
       "194. 'A'\n",
       "195. 'A'\n",
       "196. 'A'\n",
       "197. 'A'\n",
       "198. 'A'\n",
       "199. 'A'\n",
       "200. 'A'\n",
       "201. ⋯\n",
       "202. 'C'\n",
       "203. 'C'\n",
       "204. 'C'\n",
       "205. 'C'\n",
       "206. 'C'\n",
       "207. 'C'\n",
       "208. 'C'\n",
       "209. 'C'\n",
       "210. 'C'\n",
       "211. 'C'\n",
       "212. 'C'\n",
       "213. 'C'\n",
       "214. 'C'\n",
       "215. 'C'\n",
       "216. 'C'\n",
       "217. 'C'\n",
       "218. 'C'\n",
       "219. 'C'\n",
       "220. 'C'\n",
       "221. 'C'\n",
       "222. 'C'\n",
       "223. 'C'\n",
       "224. 'C'\n",
       "225. 'C'\n",
       "226. 'C'\n",
       "227. 'C'\n",
       "228. 'C'\n",
       "229. 'C'\n",
       "230. 'C'\n",
       "231. 'C'\n",
       "232. 'C'\n",
       "233. 'C'\n",
       "234. 'C'\n",
       "235. 'C'\n",
       "236. 'C'\n",
       "237. 'C'\n",
       "238. 'C'\n",
       "239. 'C'\n",
       "240. 'C'\n",
       "241. 'C'\n",
       "242. 'C'\n",
       "243. 'C'\n",
       "244. 'C'\n",
       "245. 'C'\n",
       "246. 'C'\n",
       "247. 'C'\n",
       "248. 'C'\n",
       "249. 'C'\n",
       "250. 'C'\n",
       "251. 'C'\n",
       "252. 'C'\n",
       "253. 'C'\n",
       "254. 'C'\n",
       "255. 'C'\n",
       "256. 'C'\n",
       "257. 'C'\n",
       "258. 'C'\n",
       "259. 'C'\n",
       "260. 'C'\n",
       "261. 'C'\n",
       "262. 'C'\n",
       "263. 'C'\n",
       "264. 'C'\n",
       "265. 'C'\n",
       "266. 'C'\n",
       "267. 'C'\n",
       "268. 'C'\n",
       "269. 'C'\n",
       "270. 'C'\n",
       "271. 'C'\n",
       "272. 'C'\n",
       "273. 'C'\n",
       "274. 'C'\n",
       "275. 'C'\n",
       "276. 'C'\n",
       "277. 'C'\n",
       "278. 'C'\n",
       "279. 'C'\n",
       "280. 'C'\n",
       "281. 'C'\n",
       "282. 'C'\n",
       "283. 'C'\n",
       "284. 'C'\n",
       "285. 'C'\n",
       "286. 'C'\n",
       "287. 'C'\n",
       "288. 'C'\n",
       "289. 'C'\n",
       "290. 'C'\n",
       "291. 'C'\n",
       "292. 'C'\n",
       "293. 'C'\n",
       "294. 'C'\n",
       "295. 'C'\n",
       "296. 'C'\n",
       "297. 'C'\n",
       "298. 'C'\n",
       "299. 'C'\n",
       "300. 'C'\n",
       "301. 'C'\n",
       "302. 'C'\n",
       "303. 'C'\n",
       "304. 'C'\n",
       "305. 'C'\n",
       "306. 'C'\n",
       "307. 'C'\n",
       "308. 'C'\n",
       "309. 'C'\n",
       "310. 'C'\n",
       "311. 'C'\n",
       "312. 'C'\n",
       "313. 'C'\n",
       "314. 'C'\n",
       "315. 'C'\n",
       "316. 'C'\n",
       "317. 'C'\n",
       "318. 'C'\n",
       "319. 'C'\n",
       "320. 'C'\n",
       "321. 'C'\n",
       "322. 'C'\n",
       "323. 'C'\n",
       "324. 'C'\n",
       "325. 'C'\n",
       "326. 'C'\n",
       "327. 'C'\n",
       "328. 'C'\n",
       "329. 'C'\n",
       "330. 'C'\n",
       "331. 'C'\n",
       "332. 'C'\n",
       "333. 'C'\n",
       "334. 'C'\n",
       "335. 'C'\n",
       "336. 'C'\n",
       "337. 'C'\n",
       "338. 'C'\n",
       "339. 'C'\n",
       "340. 'C'\n",
       "341. 'C'\n",
       "342. 'C'\n",
       "343. 'C'\n",
       "344. 'C'\n",
       "345. 'C'\n",
       "346. 'C'\n",
       "347. 'C'\n",
       "348. 'C'\n",
       "349. 'C'\n",
       "350. 'C'\n",
       "351. 'C'\n",
       "352. 'C'\n",
       "353. 'C'\n",
       "354. 'C'\n",
       "355. 'C'\n",
       "356. 'C'\n",
       "357. 'C'\n",
       "358. 'C'\n",
       "359. 'C'\n",
       "360. 'C'\n",
       "361. 'C'\n",
       "362. 'C'\n",
       "363. 'C'\n",
       "364. 'C'\n",
       "365. 'C'\n",
       "366. 'C'\n",
       "367. 'C'\n",
       "368. 'C'\n",
       "369. 'C'\n",
       "370. 'C'\n",
       "371. 'C'\n",
       "372. 'C'\n",
       "373. 'C'\n",
       "374. 'C'\n",
       "375. 'C'\n",
       "376. 'C'\n",
       "377. 'C'\n",
       "378. 'C'\n",
       "379. 'C'\n",
       "380. 'C'\n",
       "381. 'C'\n",
       "382. 'C'\n",
       "383. 'C'\n",
       "384. 'C'\n",
       "385. 'C'\n",
       "386. 'C'\n",
       "387. 'C'\n",
       "388. 'C'\n",
       "389. 'C'\n",
       "390. 'C'\n",
       "391. 'C'\n",
       "392. 'C'\n",
       "393. 'C'\n",
       "394. 'C'\n",
       "395. 'C'\n",
       "396. 'C'\n",
       "397. 'C'\n",
       "398. 'C'\n",
       "399. 'C'\n",
       "400. 'C'\n",
       "401. 'C'\n",
       "\n",
       "\n"
      ],
      "text/plain": [
       "   [1] \"A\" \"A\" \"A\" \"A\" \"A\" \"A\" \"A\" \"A\" \"A\" \"A\" \"A\" \"A\" \"A\" \"A\" \"A\" \"A\" \"A\" \"A\"\n",
       "  [19] \"A\" \"A\" \"A\" \"A\" \"A\" \"A\" \"A\" \"A\" \"A\" \"A\" \"A\" \"A\" \"A\" \"A\" \"A\" \"A\" \"A\" \"A\"\n",
       "  [37] \"A\" \"A\" \"A\" \"A\" \"A\" \"A\" \"A\" \"A\" \"A\" \"A\" \"A\" \"A\" \"A\" \"A\" \"A\" \"A\" \"A\" \"A\"\n",
       "  [55] \"A\" \"A\" \"A\" \"A\" \"A\" \"A\" \"A\" \"A\" \"A\" \"A\" \"A\" \"A\" \"A\" \"A\" \"A\" \"A\" \"A\" \"A\"\n",
       "  [73] \"A\" \"A\" \"A\" \"A\" \"A\" \"A\" \"A\" \"A\" \"A\" \"A\" \"A\" \"A\" \"A\" \"A\" \"A\" \"A\" \"A\" \"A\"\n",
       "  [91] \"A\" \"A\" \"A\" \"A\" \"A\" \"A\" \"A\" \"A\" \"A\" \"A\" \"A\" \"A\" \"A\" \"A\" \"A\" \"A\" \"A\" \"A\"\n",
       " [109] \"A\" \"A\" \"A\" \"A\" \"A\" \"A\" \"A\" \"A\" \"A\" \"A\" \"A\" \"A\" \"A\" \"A\" \"A\" \"A\" \"A\" \"A\"\n",
       " [127] \"A\" \"A\" \"A\" \"A\" \"A\" \"A\" \"A\" \"A\" \"A\" \"A\" \"A\" \"A\" \"A\" \"A\" \"A\" \"A\" \"A\" \"A\"\n",
       " [145] \"A\" \"A\" \"A\" \"A\" \"A\" \"A\" \"A\" \"A\" \"A\" \"A\" \"A\" \"A\" \"A\" \"A\" \"A\" \"A\" \"A\" \"A\"\n",
       " [163] \"A\" \"A\" \"A\" \"A\" \"A\" \"A\" \"A\" \"A\" \"A\" \"A\" \"A\" \"A\" \"A\" \"A\" \"A\" \"A\" \"A\" \"A\"\n",
       " [181] \"A\" \"A\" \"A\" \"A\" \"A\" \"A\" \"A\" \"A\" \"A\" \"A\" \"A\" \"A\" \"A\" \"A\" \"A\" \"A\" \"A\" \"A\"\n",
       " [199] \"A\" \"A\" \"A\" \"A\" \"A\" \"A\" \"A\" \"A\" \"A\" \"A\" \"A\" \"A\" \"A\" \"A\" \"A\" \"A\" \"A\" \"A\"\n",
       " [217] \"A\" \"A\" \"A\" \"A\" \"A\" \"A\" \"A\" \"A\" \"A\" \"A\" \"A\" \"A\" \"A\" \"A\" \"A\" \"A\" \"A\" \"A\"\n",
       " [235] \"A\" \"A\" \"A\" \"A\" \"A\" \"A\" \"A\" \"A\" \"A\" \"A\" \"A\" \"A\" \"A\" \"A\" \"A\" \"A\" \"A\" \"A\"\n",
       " [253] \"A\" \"A\" \"A\" \"A\" \"A\" \"A\" \"A\" \"A\" \"A\" \"A\" \"A\" \"A\" \"A\" \"A\" \"A\" \"A\" \"A\" \"A\"\n",
       " [271] \"A\" \"A\" \"A\" \"A\" \"A\" \"A\" \"A\" \"A\" \"A\" \"A\" \"A\" \"A\" \"A\" \"A\" \"A\" \"A\" \"A\" \"A\"\n",
       " [289] \"A\" \"A\" \"A\" \"A\" \"A\" \"A\" \"A\" \"A\" \"A\" \"A\" \"A\" \"A\" \"A\" \"A\" \"A\" \"A\" \"A\" \"A\"\n",
       " [307] \"A\" \"A\" \"A\" \"A\" \"A\" \"A\" \"A\" \"A\" \"A\" \"A\" \"A\" \"A\" \"A\" \"A\" \"A\" \"A\" \"A\" \"A\"\n",
       " [325] \"A\" \"A\" \"A\" \"A\" \"A\" \"A\" \"A\" \"A\" \"A\" \"A\" \"A\" \"A\" \"A\" \"A\" \"A\" \"A\" \"A\" \"A\"\n",
       " [343] \"A\" \"A\" \"A\" \"A\" \"A\" \"A\" \"A\" \"A\" \"A\" \"A\" \"A\" \"A\" \"A\" \"A\" \"A\" \"A\" \"A\" \"A\"\n",
       " [361] \"A\" \"A\" \"A\" \"A\" \"A\" \"A\" \"A\" \"A\" \"A\" \"A\" \"A\" \"A\" \"A\" \"A\" \"A\" \"A\" \"A\" \"A\"\n",
       " [379] \"A\" \"A\" \"A\" \"A\" \"A\" \"A\" \"A\" \"A\" \"A\" \"A\" \"A\" \"A\" \"A\" \"A\" \"A\" \"A\" \"A\" \"A\"\n",
       " [397] \"A\" \"A\" \"A\" \"A\" \"A\" \"A\" \"A\" \"A\" \"A\" \"A\" \"A\" \"A\" \"A\" \"A\" \"A\" \"A\" \"A\" \"A\"\n",
       " [415] \"A\" \"A\" \"A\" \"A\" \"A\" \"A\" \"A\" \"A\" \"A\" \"A\" \"A\" \"A\" \"A\" \"A\" \"A\" \"A\" \"A\" \"A\"\n",
       " [433] \"A\" \"A\" \"A\" \"A\" \"A\" \"A\" \"A\" \"A\" \"A\" \"A\" \"A\" \"A\" \"A\" \"A\" \"A\" \"A\" \"A\" \"A\"\n",
       " [451] \"A\" \"A\" \"A\" \"A\" \"A\" \"A\" \"A\" \"A\" \"A\" \"A\" \"A\" \"A\" \"A\" \"A\" \"A\" \"A\" \"A\" \"A\"\n",
       " [469] \"A\" \"A\" \"A\" \"A\" \"A\" \"A\" \"A\" \"A\" \"A\" \"A\" \"A\" \"A\" \"A\" \"A\" \"A\" \"A\" \"A\" \"A\"\n",
       " [487] \"A\" \"A\" \"A\" \"A\" \"A\" \"A\" \"A\" \"A\" \"A\" \"A\" \"A\" \"A\" \"A\" \"A\" \"A\" \"A\" \"A\" \"A\"\n",
       " [505] \"A\" \"A\" \"A\" \"A\" \"A\" \"A\" \"A\" \"A\" \"A\" \"A\" \"A\" \"A\" \"A\" \"A\" \"A\" \"A\" \"A\" \"A\"\n",
       " [523] \"A\" \"A\" \"A\" \"A\" \"A\" \"A\" \"A\" \"A\" \"A\" \"A\" \"A\" \"A\" \"A\" \"A\" \"A\" \"A\" \"A\" \"A\"\n",
       " [541] \"A\" \"A\" \"A\" \"A\" \"A\" \"A\" \"A\" \"A\" \"A\" \"A\" \"A\" \"A\" \"A\" \"A\" \"A\" \"A\" \"A\" \"A\"\n",
       " [559] \"A\" \"A\" \"A\" \"A\" \"A\" \"A\" \"A\" \"A\" \"A\" \"A\" \"A\" \"A\" \"A\" \"A\" \"A\" \"A\" \"A\" \"A\"\n",
       " [577] \"A\" \"A\" \"A\" \"A\" \"A\" \"A\" \"A\" \"A\" \"A\" \"A\" \"A\" \"A\" \"A\" \"A\" \"A\" \"A\" \"A\" \"A\"\n",
       " [595] \"A\" \"A\" \"A\" \"A\" \"A\" \"A\" \"A\" \"A\" \"A\" \"A\" \"A\" \"A\" \"A\" \"A\" \"A\" \"A\" \"A\" \"A\"\n",
       " [613] \"A\" \"A\" \"A\" \"A\" \"A\" \"A\" \"A\" \"A\" \"A\" \"A\" \"A\" \"A\" \"A\" \"A\" \"A\" \"A\" \"A\" \"A\"\n",
       " [631] \"A\" \"A\" \"A\" \"A\" \"A\" \"A\" \"A\" \"A\" \"A\" \"A\" \"A\" \"A\" \"A\" \"A\" \"A\" \"A\" \"A\" \"A\"\n",
       " [649] \"A\" \"A\" \"A\" \"A\" \"A\" \"A\" \"A\" \"A\" \"A\" \"A\" \"A\" \"A\" \"A\" \"A\" \"A\" \"A\" \"A\" \"A\"\n",
       " [667] \"A\" \"A\" \"A\" \"A\" \"A\" \"A\" \"A\" \"A\" \"A\" \"A\" \"A\" \"A\" \"A\" \"A\" \"A\" \"A\" \"A\" \"A\"\n",
       " [685] \"A\" \"A\" \"A\" \"A\" \"A\" \"A\" \"A\" \"A\" \"A\" \"A\" \"A\" \"A\" \"A\" \"A\" \"A\" \"A\" \"A\" \"A\"\n",
       " [703] \"A\" \"A\" \"A\" \"A\" \"A\" \"A\" \"A\" \"A\" \"A\" \"A\" \"A\" \"A\" \"A\" \"A\" \"A\" \"A\" \"A\" \"A\"\n",
       " [721] \"A\" \"A\" \"A\" \"A\" \"A\" \"A\" \"A\" \"A\" \"A\" \"A\" \"A\" \"A\" \"A\" \"A\" \"A\" \"A\" \"A\" \"A\"\n",
       " [739] \"A\" \"A\" \"A\" \"A\" \"A\" \"A\" \"A\" \"A\" \"A\" \"A\" \"A\" \"A\" \"A\" \"A\" \"A\" \"A\" \"A\" \"A\"\n",
       " [757] \"A\" \"A\" \"A\" \"A\" \"A\" \"A\" \"A\" \"A\" \"A\" \"A\" \"A\" \"A\" \"A\" \"A\" \"A\" \"A\" \"A\" \"A\"\n",
       " [775] \"A\" \"A\" \"A\" \"A\" \"A\" \"A\" \"A\" \"A\" \"A\" \"A\" \"A\" \"A\" \"A\" \"A\" \"A\" \"A\" \"A\" \"A\"\n",
       " [793] \"A\" \"A\" \"A\" \"A\" \"A\" \"A\" \"A\" \"A\" \"A\" \"A\" \"A\" \"A\" \"A\" \"A\" \"A\" \"A\" \"A\" \"A\"\n",
       " [811] \"A\" \"A\" \"A\" \"A\" \"A\" \"A\" \"A\" \"A\" \"A\" \"A\" \"A\" \"A\" \"A\" \"A\" \"A\" \"A\" \"A\" \"A\"\n",
       " [829] \"A\" \"A\" \"A\" \"A\" \"A\" \"A\" \"A\" \"A\" \"A\" \"A\" \"A\" \"A\" \"A\" \"A\" \"A\" \"A\" \"A\" \"A\"\n",
       " [847] \"A\" \"A\" \"A\" \"A\" \"A\" \"A\" \"A\" \"A\" \"A\" \"A\" \"A\" \"A\" \"A\" \"A\" \"A\" \"A\" \"A\" \"A\"\n",
       " [865] \"A\" \"A\" \"A\" \"A\" \"A\" \"A\" \"A\" \"A\" \"A\" \"A\" \"A\" \"A\" \"A\" \"A\" \"A\" \"A\" \"A\" \"A\"\n",
       " [883] \"A\" \"A\" \"A\" \"A\" \"A\" \"A\" \"A\" \"A\" \"A\" \"A\" \"A\" \"A\" \"A\" \"A\" \"A\" \"A\" \"A\" \"A\"\n",
       " [901] \"A\" \"A\" \"A\" \"A\" \"A\" \"A\" \"A\" \"A\" \"A\" \"A\" \"A\" \"A\" \"A\" \"A\" \"A\" \"A\" \"A\" \"A\"\n",
       " [919] \"A\" \"A\" \"A\" \"A\" \"A\" \"A\" \"A\" \"A\" \"A\" \"A\" \"A\" \"A\" \"A\" \"A\" \"A\" \"A\" \"A\" \"A\"\n",
       " [937] \"A\" \"A\" \"A\" \"A\" \"A\" \"A\" \"A\" \"A\" \"A\" \"A\" \"A\" \"A\" \"A\" \"A\" \"A\" \"A\" \"A\" \"A\"\n",
       " [955] \"A\" \"A\" \"A\" \"A\" \"A\" \"A\" \"A\" \"A\" \"A\" \"A\" \"A\" \"A\" \"A\" \"A\" \"A\" \"A\" \"A\" \"A\"\n",
       " [973] \"A\" \"A\" \"A\" \"A\" \"A\" \"A\" \"A\" \"A\" \"A\" \"A\" \"A\" \"A\" \"A\" \"A\" \"A\" \"A\" \"A\" \"A\"\n",
       " [991] \"A\" \"A\" \"A\" \"A\" \"A\" \"A\" \"A\" \"A\" \"A\" \"A\" \"A\" \"A\" \"A\" \"A\" \"A\" \"A\" \"A\" \"A\"\n",
       "[1009] \"A\" \"A\" \"A\" \"A\" \"A\" \"A\" \"A\" \"A\" \"A\" \"A\" \"A\" \"A\" \"A\" \"A\" \"A\" \"A\" \"A\" \"A\"\n",
       "[1027] \"A\" \"A\" \"A\" \"A\" \"A\" \"A\" \"A\" \"A\" \"A\" \"A\" \"A\" \"A\" \"A\" \"A\" \"A\" \"A\" \"A\" \"A\"\n",
       "[1045] \"A\" \"A\" \"A\" \"A\" \"A\" \"A\" \"A\" \"A\" \"A\" \"A\" \"A\" \"A\" \"A\" \"A\" \"A\" \"A\" \"A\" \"A\"\n",
       "[1063] \"A\" \"A\" \"A\" \"A\" \"A\" \"A\" \"A\" \"A\" \"A\" \"A\" \"A\" \"A\" \"A\" \"A\" \"A\" \"A\" \"A\" \"A\"\n",
       "[1081] \"A\" \"A\" \"A\" \"A\" \"A\" \"A\" \"A\" \"A\" \"A\" \"A\" \"A\" \"A\" \"A\" \"A\" \"A\" \"A\" \"A\" \"A\"\n",
       "[1099] \"A\" \"A\" \"A\" \"A\" \"A\" \"A\" \"A\" \"A\" \"A\" \"A\" \"A\" \"A\" \"A\" \"A\" \"A\" \"A\" \"A\" \"A\"\n",
       "[1117] \"A\" \"A\" \"A\" \"A\" \"A\" \"A\" \"A\" \"A\" \"A\" \"A\" \"A\" \"A\" \"A\" \"A\" \"A\" \"A\" \"A\" \"A\"\n",
       "[1135] \"A\" \"A\" \"A\" \"A\" \"A\" \"A\" \"A\" \"A\" \"A\" \"A\" \"A\" \"A\" \"A\" \"A\" \"A\" \"A\" \"A\" \"A\"\n",
       "[1153] \"A\" \"A\" \"A\" \"A\" \"A\" \"A\" \"A\" \"A\" \"A\" \"A\" \"A\" \"A\" \"A\" \"A\" \"A\" \"A\" \"A\" \"A\"\n",
       "[1171] \"A\" \"A\" \"A\" \"A\" \"A\" \"A\" \"A\" \"A\" \"A\" \"A\" \"A\" \"A\" \"A\" \"A\" \"A\" \"A\" \"A\" \"A\"\n",
       "[1189] \"A\" \"A\" \"A\" \"A\" \"A\" \"A\" \"A\" \"A\" \"A\" \"A\" \"A\" \"A\" \"A\" \"A\" \"A\" \"A\" \"A\" \"A\"\n",
       "[1207] \"A\" \"A\" \"A\" \"A\" \"A\" \"A\" \"A\" \"A\" \"A\" \"A\" \"A\" \"A\" \"A\" \"A\" \"A\" \"A\" \"A\" \"A\"\n",
       "[1225] \"A\" \"A\" \"A\" \"A\" \"A\" \"A\" \"A\" \"A\" \"A\" \"A\" \"A\" \"A\" \"A\" \"A\" \"A\" \"A\" \"A\" \"A\"\n",
       "[1243] \"A\" \"A\" \"A\" \"A\" \"A\" \"A\" \"A\" \"A\" \"A\" \"A\" \"A\" \"A\" \"A\" \"A\" \"A\" \"A\" \"A\" \"A\"\n",
       "[1261] \"A\" \"A\" \"A\" \"A\" \"A\" \"A\" \"A\" \"A\" \"A\" \"A\" \"A\" \"A\" \"A\" \"A\" \"A\" \"A\" \"A\" \"A\"\n",
       "[1279] \"A\" \"A\" \"A\" \"A\" \"A\" \"A\" \"A\" \"A\" \"A\" \"A\" \"A\" \"A\" \"A\" \"A\" \"A\" \"A\" \"A\" \"A\"\n",
       "[1297] \"A\" \"A\" \"A\" \"A\" \"A\" \"A\" \"A\" \"A\" \"A\" \"A\" \"A\" \"A\" \"A\" \"A\" \"A\" \"A\" \"A\" \"A\"\n",
       "[1315] \"A\" \"A\" \"A\" \"A\" \"A\" \"A\" \"A\" \"A\" \"A\" \"A\" \"A\" \"A\" \"A\" \"A\" \"A\" \"A\" \"A\" \"A\"\n",
       "[1333] \"A\" \"A\" \"A\" \"A\" \"A\" \"A\" \"A\" \"A\" \"A\" \"A\" \"A\" \"A\" \"A\" \"A\" \"A\" \"A\" \"A\" \"A\"\n",
       "[1351] \"A\" \"A\" \"A\" \"A\" \"A\" \"A\" \"A\" \"A\" \"A\" \"A\" \"A\" \"A\" \"A\" \"A\" \"A\" \"A\" \"A\" \"A\"\n",
       "[1369] \"A\" \"A\" \"A\" \"A\" \"A\" \"A\" \"A\" \"A\" \"A\" \"A\" \"A\" \"A\" \"A\" \"A\" \"A\" \"A\" \"A\" \"A\"\n",
       "[1387] \"A\" \"A\" \"A\" \"A\" \"A\" \"A\" \"A\" \"A\" \"A\" \"A\" \"A\" \"A\" \"A\" \"A\" \"A\" \"A\" \"A\" \"A\"\n",
       "[1405] \"A\" \"A\" \"A\" \"A\" \"A\" \"A\" \"A\" \"A\" \"A\" \"A\" \"A\" \"A\" \"A\" \"A\" \"A\" \"A\" \"A\" \"A\"\n",
       "[1423] \"A\" \"A\" \"A\" \"A\" \"A\" \"A\" \"A\" \"A\" \"A\" \"A\" \"A\" \"A\" \"A\" \"A\" \"A\" \"A\" \"A\" \"A\"\n",
       "[1441] \"A\" \"A\" \"A\" \"A\" \"A\" \"A\" \"A\" \"A\" \"A\" \"A\" \"A\" \"A\" \"A\" \"A\" \"A\" \"A\" \"A\" \"A\"\n",
       "[1459] \"A\" \"A\" \"A\" \"A\" \"A\" \"A\" \"A\" \"A\" \"A\" \"A\" \"A\" \"A\" \"A\" \"A\" \"A\" \"A\" \"A\" \"A\"\n",
       "[1477] \"A\" \"A\" \"A\" \"A\" \"A\" \"A\" \"A\" \"A\" \"A\" \"A\" \"A\" \"A\" \"A\" \"A\" \"A\" \"A\" \"A\" \"A\"\n",
       "[1495] \"A\" \"A\" \"A\" \"A\" \"A\" \"A\" \"A\" \"A\" \"A\" \"A\" \"A\" \"A\" \"A\" \"A\" \"A\" \"A\" \"A\" \"A\"\n",
       "[1513] \"A\" \"A\" \"A\" \"A\" \"A\" \"A\" \"A\" \"A\" \"A\" \"A\" \"A\" \"A\" \"A\" \"A\" \"A\" \"A\" \"A\" \"A\"\n",
       "[1531] \"A\" \"A\" \"A\" \"A\" \"A\" \"A\" \"A\" \"A\" \"A\" \"A\" \"A\" \"A\" \"A\" \"A\" \"A\" \"A\" \"A\" \"A\"\n",
       "[1549] \"A\" \"A\" \"A\" \"A\" \"A\" \"A\" \"A\" \"A\" \"A\" \"A\" \"A\" \"A\" \"A\" \"A\" \"A\" \"A\" \"A\" \"A\"\n",
       "[1567] \"A\" \"A\" \"A\" \"A\" \"A\" \"A\" \"A\" \"A\" \"A\" \"A\" \"A\" \"A\" \"A\" \"A\" \"A\" \"A\" \"A\" \"A\"\n",
       "[1585] \"A\" \"A\" \"A\" \"A\" \"A\" \"A\" \"A\" \"A\" \"A\" \"A\" \"A\" \"A\" \"A\" \"A\" \"A\" \"A\" \"A\" \"A\"\n",
       "[1603] \"A\" \"A\" \"A\" \"A\" \"A\" \"A\" \"A\" \"A\" \"A\" \"A\" \"A\" \"A\" \"A\" \"A\" \"A\" \"A\" \"A\" \"A\"\n",
       "[1621] \"A\" \"A\" \"A\" \"A\" \"A\" \"A\" \"A\" \"A\" \"A\" \"A\" \"A\" \"A\" \"A\" \"A\" \"A\" \"A\" \"A\" \"A\"\n",
       "[1639] \"A\" \"A\" \"A\" \"A\" \"A\" \"A\" \"A\" \"A\" \"A\" \"A\" \"A\" \"A\" \"A\" \"A\" \"A\" \"A\" \"A\" \"A\"\n",
       "[1657] \"A\" \"A\" \"A\" \"A\" \"A\" \"A\" \"A\" \"A\" \"A\" \"A\" \"A\" \"A\" \"A\" \"A\" \"A\" \"A\" \"A\" \"A\"\n",
       "[1675] \"A\" \"A\" \"A\" \"A\" \"A\" \"A\" \"A\" \"A\" \"A\" \"A\" \"A\" \"A\" \"A\" \"A\" \"A\" \"A\" \"A\" \"A\"\n",
       "[1693] \"A\" \"A\" \"A\" \"A\" \"A\" \"A\" \"A\" \"A\" \"A\" \"A\" \"A\" \"A\" \"A\" \"A\" \"A\" \"A\" \"A\" \"A\"\n",
       "[1711] \"A\" \"A\" \"A\" \"A\" \"A\" \"A\" \"A\" \"A\" \"A\" \"A\" \"A\" \"A\" \"A\" \"A\" \"A\" \"A\" \"A\" \"A\"\n",
       "[1729] \"A\" \"A\" \"A\" \"A\" \"A\" \"A\" \"A\" \"A\" \"A\" \"A\" \"A\" \"A\" \"A\" \"A\" \"A\" \"A\" \"A\" \"A\"\n",
       "[1747] \"A\" \"A\" \"A\" \"A\" \"A\" \"A\" \"A\" \"A\" \"A\" \"A\" \"A\" \"A\" \"A\" \"A\" \"A\" \"A\" \"A\" \"A\"\n",
       "[1765] \"A\" \"A\" \"A\" \"A\" \"A\" \"A\" \"A\" \"A\" \"A\" \"A\" \"A\" \"A\" \"A\" \"A\" \"A\" \"A\" \"A\" \"A\"\n",
       "[1783] \"A\" \"A\" \"A\" \"A\" \"A\" \"A\" \"A\" \"A\" \"A\" \"A\" \"A\" \"A\" \"A\" \"A\" \"A\" \"A\" \"A\" \"A\"\n",
       "[1801] \"A\" \"A\" \"A\" \"A\" \"A\" \"A\" \"A\" \"A\" \"A\" \"A\" \"A\" \"A\" \"A\" \"A\" \"A\" \"A\" \"A\" \"A\"\n",
       "[1819] \"A\" \"A\" \"A\" \"A\" \"A\" \"A\" \"A\" \"A\" \"A\" \"A\" \"A\" \"A\" \"A\" \"A\" \"A\" \"A\" \"A\" \"A\"\n",
       "[1837] \"A\" \"A\" \"A\" \"A\" \"A\" \"A\" \"A\" \"A\" \"A\" \"A\" \"A\" \"A\" \"A\" \"A\" \"A\" \"A\" \"A\" \"A\"\n",
       "[1855] \"A\" \"A\" \"A\" \"A\" \"A\" \"A\" \"A\" \"A\" \"A\" \"A\" \"A\" \"A\" \"A\" \"A\" \"A\" \"A\" \"A\" \"A\"\n",
       "[1873] \"A\" \"A\" \"A\" \"A\" \"A\" \"A\" \"A\" \"A\" \"A\" \"A\" \"A\" \"A\" \"A\" \"A\" \"A\" \"A\" \"A\" \"A\"\n",
       "[1891] \"A\" \"A\" \"A\" \"A\" \"A\" \"A\" \"A\" \"A\" \"A\" \"A\" \"A\" \"A\" \"A\" \"A\" \"A\" \"A\" \"A\" \"A\"\n",
       "[1909] \"A\" \"A\" \"A\" \"A\" \"A\" \"A\" \"A\" \"A\" \"A\" \"A\" \"A\" \"A\" \"A\" \"A\" \"A\" \"A\" \"A\" \"A\"\n",
       "[1927] \"A\" \"A\" \"A\" \"A\" \"A\" \"A\" \"A\" \"A\" \"A\" \"A\" \"A\" \"A\" \"A\" \"A\" \"A\" \"A\" \"A\" \"A\"\n",
       "[1945] \"A\" \"A\" \"A\" \"A\" \"A\" \"A\" \"A\" \"A\" \"A\" \"A\" \"A\" \"A\" \"A\" \"A\" \"A\" \"A\" \"A\" \"A\"\n",
       "[1963] \"A\" \"A\" \"A\" \"A\" \"A\" \"A\" \"A\" \"A\" \"A\" \"A\" \"A\" \"A\" \"A\" \"A\" \"A\" \"A\" \"A\" \"A\"\n",
       "[1981] \"A\" \"A\" \"A\" \"A\" \"A\" \"A\" \"A\" \"A\" \"A\" \"A\" \"A\" \"A\" \"A\" \"A\" \"A\" \"A\" \"A\" \"A\"\n",
       "[1999] \"A\" \"A\" \"A\" \"A\" \"A\" \"A\" \"A\" \"A\" \"A\" \"A\" \"A\" \"A\" \"A\" \"A\" \"A\" \"A\" \"A\" \"A\"\n",
       "[2017] \"A\" \"A\" \"A\" \"A\" \"A\" \"A\" \"A\" \"A\" \"A\" \"A\" \"A\" \"A\" \"A\" \"A\" \"A\" \"A\" \"A\" \"A\"\n",
       "[2035] \"A\" \"A\" \"A\" \"A\" \"A\" \"A\" \"A\" \"A\" \"A\" \"A\" \"A\" \"A\" \"A\" \"A\" \"A\" \"A\" \"A\" \"A\"\n",
       "[2053] \"A\" \"A\" \"A\" \"A\" \"A\" \"A\" \"A\" \"A\" \"A\" \"A\" \"A\" \"A\" \"A\" \"A\" \"A\" \"A\" \"A\" \"A\"\n",
       "[2071] \"A\" \"A\" \"A\" \"A\" \"A\" \"A\" \"A\" \"A\" \"A\" \"A\" \"A\" \"A\" \"A\" \"A\" \"A\" \"A\" \"A\" \"A\"\n",
       "[2089] \"A\" \"A\" \"A\" \"A\" \"A\" \"A\" \"A\" \"A\" \"A\" \"A\" \"A\" \"A\" \"A\" \"A\" \"A\" \"A\" \"A\" \"A\"\n",
       "[2107] \"A\" \"A\" \"A\" \"A\" \"A\" \"A\" \"A\" \"A\" \"A\" \"A\" \"A\" \"A\" \"A\" \"A\" \"A\" \"A\" \"A\" \"A\"\n",
       "[2125] \"A\" \"A\" \"A\" \"A\" \"A\" \"A\" \"A\" \"A\" \"A\" \"A\" \"A\" \"A\" \"A\" \"A\" \"A\" \"A\" \"A\" \"A\"\n",
       "[2143] \"A\" \"A\" \"A\" \"A\" \"A\" \"A\" \"A\" \"A\" \"A\" \"A\" \"A\" \"A\" \"A\" \"A\" \"A\" \"A\" \"A\" \"A\"\n",
       "[2161] \"A\" \"A\" \"A\" \"A\" \"A\" \"A\" \"A\" \"A\" \"A\" \"A\" \"A\" \"A\" \"A\" \"A\" \"A\" \"A\" \"A\" \"A\"\n",
       "[2179] \"A\" \"A\" \"A\" \"A\" \"A\" \"A\" \"A\" \"A\" \"A\" \"A\" \"A\" \"A\" \"A\" \"A\" \"A\" \"A\" \"A\" \"A\"\n",
       "[2197] \"A\" \"A\" \"A\" \"A\" \"A\" \"A\" \"A\" \"A\" \"A\" \"A\" \"A\" \"A\" \"A\" \"A\" \"A\" \"A\" \"A\" \"A\"\n",
       "[2215] \"A\" \"A\" \"A\" \"A\" \"A\" \"A\" \"A\" \"A\" \"A\" \"A\" \"A\" \"A\" \"A\" \"A\" \"A\" \"A\" \"A\" \"A\"\n",
       "[2233] \"A\" \"A\" \"A\" \"A\" \"A\" \"A\" \"A\" \"A\" \"B\" \"B\" \"B\" \"B\" \"B\" \"B\" \"B\" \"B\" \"B\" \"B\"\n",
       "[2251] \"B\" \"B\" \"B\" \"B\" \"B\" \"B\" \"B\" \"B\" \"B\" \"B\" \"B\" \"B\" \"B\" \"B\" \"B\" \"B\" \"B\" \"B\"\n",
       "[2269] \"B\" \"B\" \"B\" \"B\" \"B\" \"B\" \"B\" \"B\" \"B\" \"B\" \"B\" \"B\" \"B\" \"B\" \"B\" \"B\" \"B\" \"B\"\n",
       "[2287] \"B\" \"B\" \"B\" \"B\" \"B\" \"B\" \"B\" \"B\" \"B\" \"B\" \"B\" \"B\" \"B\" \"B\" \"B\" \"B\" \"B\" \"B\"\n",
       "[2305] \"B\" \"B\" \"B\" \"B\" \"B\" \"B\" \"B\" \"B\" \"B\" \"B\" \"B\" \"B\" \"B\" \"B\" \"B\" \"B\" \"B\" \"B\"\n",
       "[2323] \"B\" \"B\" \"B\" \"B\" \"B\" \"B\" \"B\" \"B\" \"B\" \"B\" \"B\" \"B\" \"B\" \"B\" \"B\" \"B\" \"B\" \"B\"\n",
       "[2341] \"B\" \"B\" \"B\" \"B\" \"B\" \"B\" \"B\" \"B\" \"B\" \"B\" \"B\" \"B\" \"B\" \"B\" \"B\" \"B\" \"B\" \"B\"\n",
       "[2359] \"B\" \"B\" \"B\" \"B\" \"B\" \"B\" \"B\" \"B\" \"B\" \"B\" \"B\" \"B\" \"B\" \"B\" \"B\" \"B\" \"B\" \"B\"\n",
       "[2377] \"B\" \"B\" \"B\" \"B\" \"B\" \"B\" \"B\" \"B\" \"B\" \"B\" \"B\" \"B\" \"B\" \"B\" \"B\" \"B\" \"B\" \"B\"\n",
       "[2395] \"B\" \"B\" \"B\" \"B\" \"B\" \"B\" \"B\" \"B\" \"B\" \"B\" \"B\" \"B\" \"B\" \"B\" \"B\" \"B\" \"B\" \"B\"\n",
       "[2413] \"B\" \"B\" \"B\" \"B\" \"B\" \"B\" \"B\" \"B\" \"B\" \"B\" \"B\" \"B\" \"B\" \"B\" \"B\" \"B\" \"B\" \"B\"\n",
       "[2431] \"B\" \"B\" \"B\" \"B\" \"B\" \"B\" \"B\" \"B\" \"B\" \"B\" \"B\" \"B\" \"B\" \"B\" \"B\" \"B\" \"B\" \"B\"\n",
       "[2449] \"B\" \"B\" \"B\" \"B\" \"B\" \"B\" \"B\" \"B\" \"B\" \"B\" \"B\" \"B\" \"B\" \"B\" \"B\" \"B\" \"B\" \"B\"\n",
       "[2467] \"B\" \"B\" \"B\" \"B\" \"B\" \"B\" \"B\" \"B\" \"B\" \"B\" \"B\" \"B\" \"B\" \"B\" \"B\" \"B\" \"B\" \"B\"\n",
       "[2485] \"B\" \"B\" \"B\" \"B\" \"B\" \"B\" \"B\" \"B\" \"B\" \"B\" \"B\" \"B\" \"B\" \"B\" \"B\" \"B\" \"B\" \"B\"\n",
       "[2503] \"B\" \"B\" \"B\" \"B\" \"B\" \"B\" \"B\" \"B\" \"B\" \"B\" \"B\" \"B\" \"B\" \"B\" \"B\" \"B\" \"B\" \"B\"\n",
       "[2521] \"B\" \"B\" \"B\" \"B\" \"B\" \"B\" \"B\" \"B\" \"B\" \"B\" \"B\" \"B\" \"B\" \"B\" \"B\" \"B\" \"B\" \"B\"\n",
       "[2539] \"B\" \"B\" \"B\" \"B\" \"B\" \"B\" \"B\" \"B\" \"B\" \"B\" \"B\" \"B\" \"B\" \"B\" \"B\" \"B\" \"B\" \"B\"\n",
       "[2557] \"B\" \"B\" \"B\" \"B\" \"B\" \"B\" \"B\" \"B\" \"B\" \"B\" \"B\" \"B\" \"B\" \"B\" \"B\" \"B\" \"B\" \"B\"\n",
       "[2575] \"B\" \"B\" \"B\" \"B\" \"B\" \"B\" \"B\" \"B\" \"B\" \"B\" \"B\" \"B\" \"B\" \"B\" \"B\" \"B\" \"B\" \"B\"\n",
       "[2593] \"B\" \"B\" \"B\" \"B\" \"B\" \"B\" \"B\" \"B\" \"B\" \"B\" \"B\" \"B\" \"B\" \"B\" \"B\" \"B\" \"B\" \"B\"\n",
       "[2611] \"B\" \"B\" \"B\" \"B\" \"B\" \"B\" \"B\" \"B\" \"B\" \"B\" \"B\" \"B\" \"B\" \"B\" \"B\" \"B\" \"B\" \"B\"\n",
       "[2629] \"B\" \"B\" \"B\" \"B\" \"B\" \"B\" \"B\" \"B\" \"B\" \"B\" \"B\" \"B\" \"B\" \"B\" \"B\" \"B\" \"B\" \"B\"\n",
       "[2647] \"B\" \"B\" \"B\" \"B\" \"B\" \"B\" \"B\" \"B\" \"B\" \"B\" \"B\" \"B\" \"B\" \"B\" \"B\" \"B\" \"B\" \"B\"\n",
       "[2665] \"B\" \"B\" \"B\" \"B\" \"B\" \"B\" \"B\" \"B\" \"B\" \"B\" \"B\" \"B\" \"B\" \"B\" \"B\" \"B\" \"B\" \"B\"\n",
       "[2683] \"B\" \"B\" \"B\" \"B\" \"B\" \"B\" \"B\" \"B\" \"B\" \"B\" \"B\" \"B\" \"B\" \"B\" \"B\" \"B\" \"B\" \"B\"\n",
       "[2701] \"B\" \"B\" \"B\" \"B\" \"B\" \"B\" \"B\" \"B\" \"B\" \"B\" \"B\" \"B\" \"B\" \"B\" \"B\" \"B\" \"B\" \"B\"\n",
       "[2719] \"B\" \"B\" \"B\" \"B\" \"B\" \"B\" \"B\" \"B\" \"B\" \"B\" \"B\" \"B\" \"B\" \"B\" \"B\" \"B\" \"B\" \"B\"\n",
       "[2737] \"B\" \"B\" \"B\" \"B\" \"B\" \"B\" \"B\" \"B\" \"B\" \"B\" \"B\" \"B\" \"B\" \"B\" \"B\" \"B\" \"B\" \"B\"\n",
       "[2755] \"B\" \"B\" \"B\" \"B\" \"B\" \"B\" \"B\" \"B\" \"B\" \"B\" \"B\" \"B\" \"B\" \"B\" \"B\" \"B\" \"B\" \"B\"\n",
       "[2773] \"B\" \"B\" \"B\" \"B\" \"B\" \"B\" \"B\" \"B\" \"B\" \"B\" \"B\" \"B\" \"B\" \"B\" \"B\" \"B\" \"B\" \"B\"\n",
       "[2791] \"B\" \"B\" \"B\" \"B\" \"B\" \"B\" \"B\" \"B\" \"B\" \"B\" \"B\" \"B\" \"B\" \"B\" \"B\" \"B\" \"B\" \"B\"\n",
       "[2809] \"B\" \"B\" \"B\" \"B\" \"B\" \"B\" \"B\" \"B\" \"B\" \"B\" \"B\" \"B\" \"B\" \"B\" \"B\" \"B\" \"B\" \"B\"\n",
       "[2827] \"B\" \"B\" \"B\" \"B\" \"B\" \"B\" \"B\" \"B\" \"B\" \"B\" \"B\" \"B\" \"B\" \"B\" \"B\" \"B\" \"B\" \"B\"\n",
       "[2845] \"B\" \"B\" \"B\" \"B\" \"B\" \"B\" \"B\" \"B\" \"B\" \"B\" \"B\" \"B\" \"B\" \"B\" \"B\" \"B\" \"B\" \"B\"\n",
       "[2863] \"B\" \"B\" \"B\" \"B\" \"B\" \"B\" \"B\" \"B\" \"B\" \"B\" \"B\" \"B\" \"B\" \"B\" \"B\" \"B\" \"B\" \"B\"\n",
       "[2881] \"B\" \"B\" \"B\" \"B\" \"B\" \"B\" \"B\" \"B\" \"B\" \"B\" \"B\" \"B\" \"B\" \"B\" \"B\" \"B\" \"B\" \"B\"\n",
       "[2899] \"B\" \"B\" \"B\" \"B\" \"B\" \"B\" \"B\" \"B\" \"B\" \"B\" \"B\" \"B\" \"B\" \"B\" \"B\" \"B\" \"B\" \"B\"\n",
       "[2917] \"B\" \"B\" \"B\" \"B\" \"B\" \"B\" \"B\" \"B\" \"B\" \"B\" \"B\" \"B\" \"B\" \"B\" \"B\" \"B\" \"B\" \"B\"\n",
       "[2935] \"B\" \"B\" \"B\" \"B\" \"B\" \"B\" \"B\" \"B\" \"B\" \"B\" \"B\" \"B\" \"B\" \"B\" \"B\" \"B\" \"B\" \"B\"\n",
       "[2953] \"B\" \"B\" \"B\" \"B\" \"B\" \"B\" \"B\" \"B\" \"B\" \"B\" \"B\" \"B\" \"B\" \"B\" \"B\" \"B\" \"B\" \"B\"\n",
       "[2971] \"B\" \"B\" \"B\" \"B\" \"B\" \"B\" \"B\" \"B\" \"B\" \"B\" \"B\" \"B\" \"B\" \"B\" \"B\" \"B\" \"B\" \"B\"\n",
       "[2989] \"B\" \"B\" \"B\" \"B\" \"B\" \"B\" \"B\" \"B\" \"B\" \"B\" \"B\" \"B\" \"B\" \"B\" \"B\" \"B\" \"B\" \"B\"\n",
       "[3007] \"B\" \"B\" \"B\" \"B\" \"B\" \"B\" \"B\" \"B\" \"B\" \"B\" \"B\" \"B\" \"B\" \"B\" \"B\" \"B\" \"B\" \"B\"\n",
       "[3025] \"B\" \"B\" \"B\" \"B\" \"B\" \"B\" \"B\" \"B\" \"B\" \"B\" \"B\" \"B\" \"B\" \"B\" \"B\" \"B\" \"B\" \"B\"\n",
       "[3043] \"B\" \"B\" \"B\" \"B\" \"B\" \"B\" \"B\" \"B\" \"B\" \"B\" \"B\" \"B\" \"B\" \"B\" \"B\" \"B\" \"B\" \"B\"\n",
       "[3061] \"B\" \"B\" \"B\" \"B\" \"B\" \"B\" \"B\" \"B\" \"B\" \"B\" \"B\" \"B\" \"B\" \"B\" \"B\" \"B\" \"B\" \"B\"\n",
       "[3079] \"B\" \"B\" \"B\" \"B\" \"B\" \"B\" \"B\" \"B\" \"B\" \"B\" \"B\" \"B\" \"B\" \"B\" \"B\" \"B\" \"B\" \"B\"\n",
       "[3097] \"B\" \"B\" \"B\" \"B\" \"B\" \"B\" \"B\" \"B\" \"B\" \"B\" \"B\" \"B\" \"B\" \"B\" \"B\" \"B\" \"B\" \"B\"\n",
       "[3115] \"B\" \"B\" \"B\" \"B\" \"B\" \"B\" \"B\" \"B\" \"B\" \"B\" \"B\" \"B\" \"B\" \"B\" \"B\" \"B\" \"B\" \"B\"\n",
       "[3133] \"B\" \"B\" \"B\" \"B\" \"B\" \"B\" \"B\" \"B\" \"B\" \"B\" \"B\" \"B\" \"B\" \"B\" \"B\" \"B\" \"B\" \"B\"\n",
       "[3151] \"B\" \"B\" \"B\" \"B\" \"B\" \"B\" \"B\" \"B\" \"B\" \"B\" \"B\" \"B\" \"B\" \"B\" \"B\" \"B\" \"B\" \"B\"\n",
       "[3169] \"B\" \"B\" \"B\" \"B\" \"B\" \"B\" \"B\" \"B\" \"B\" \"B\" \"B\" \"B\" \"B\" \"B\" \"B\" \"B\" \"B\" \"B\"\n",
       "[3187] \"B\" \"B\" \"B\" \"B\" \"B\" \"B\" \"B\" \"B\" \"B\" \"B\" \"B\" \"B\" \"B\" \"B\" \"B\" \"B\" \"B\" \"B\"\n",
       "[3205] \"B\" \"B\" \"B\" \"B\" \"B\" \"B\" \"B\" \"B\" \"B\" \"B\" \"B\" \"B\" \"B\" \"B\" \"B\" \"B\" \"B\" \"B\"\n",
       "[3223] \"B\" \"B\" \"B\" \"B\" \"B\" \"B\" \"B\" \"B\" \"B\" \"B\" \"B\" \"B\" \"B\" \"B\" \"B\" \"B\" \"B\" \"B\"\n",
       "[3241] \"B\" \"B\" \"B\" \"B\" \"B\" \"B\" \"B\" \"B\" \"B\" \"B\" \"B\" \"B\" \"B\" \"B\" \"B\" \"B\" \"B\" \"B\"\n",
       "[3259] \"B\" \"B\" \"B\" \"B\" \"B\" \"B\" \"B\" \"B\" \"B\" \"B\" \"B\" \"B\" \"B\" \"B\" \"B\" \"B\" \"B\" \"B\"\n",
       "[3277] \"B\" \"B\" \"B\" \"B\" \"C\" \"C\" \"C\" \"C\" \"C\" \"C\" \"C\" \"C\" \"C\" \"C\" \"C\" \"C\" \"C\" \"C\"\n",
       "[3295] \"C\" \"C\" \"C\" \"C\" \"C\" \"C\" \"C\" \"C\" \"C\" \"C\" \"C\" \"C\" \"C\" \"C\" \"C\" \"C\" \"C\" \"C\"\n",
       "[3313] \"C\" \"C\" \"C\" \"C\" \"C\" \"C\" \"C\" \"C\" \"C\" \"C\" \"C\" \"C\" \"C\" \"C\" \"C\" \"C\" \"C\" \"C\"\n",
       "[3331] \"C\" \"C\" \"C\" \"C\" \"C\" \"C\" \"C\" \"C\" \"C\" \"C\" \"C\" \"C\" \"C\" \"C\" \"C\" \"C\" \"C\" \"C\"\n",
       "[3349] \"C\" \"C\" \"C\" \"C\" \"C\" \"C\" \"C\" \"C\" \"C\" \"C\" \"C\" \"C\" \"C\" \"C\" \"C\" \"C\" \"C\" \"C\"\n",
       "[3367] \"C\" \"C\" \"C\" \"C\" \"C\" \"C\" \"C\" \"C\" \"C\" \"C\" \"C\" \"C\" \"C\" \"C\" \"C\" \"C\" \"C\" \"C\"\n",
       "[3385] \"C\" \"C\" \"C\" \"C\" \"C\" \"C\" \"C\" \"C\" \"C\" \"C\" \"C\" \"C\" \"C\" \"C\" \"C\" \"C\" \"C\" \"C\"\n",
       "[3403] \"C\" \"C\" \"C\" \"C\" \"C\" \"C\" \"C\" \"C\" \"C\" \"C\" \"C\" \"C\" \"C\" \"C\" \"C\" \"C\" \"C\" \"C\"\n",
       "[3421] \"C\" \"C\" \"C\" \"C\" \"C\" \"C\" \"C\" \"C\" \"C\" \"C\" \"C\" \"C\" \"C\" \"C\" \"C\" \"C\" \"C\" \"C\"\n",
       "[3439] \"C\" \"C\" \"C\" \"C\" \"C\" \"C\" \"C\" \"C\" \"C\" \"C\" \"C\" \"C\" \"C\" \"C\" \"C\" \"C\" \"C\" \"C\"\n",
       "[3457] \"C\" \"C\" \"C\" \"C\" \"C\" \"C\" \"C\" \"C\" \"C\" \"C\" \"C\" \"C\" \"C\" \"C\" \"C\" \"C\" \"C\" \"C\"\n",
       "[3475] \"C\" \"C\" \"C\" \"C\" \"C\" \"C\" \"C\" \"C\" \"C\" \"C\" \"C\" \"C\" \"C\" \"C\" \"C\" \"C\" \"C\" \"C\"\n",
       "[3493] \"C\" \"C\" \"C\" \"C\" \"C\" \"C\" \"C\" \"C\" \"C\" \"C\" \"C\" \"C\" \"C\" \"C\" \"C\" \"C\" \"C\" \"C\"\n",
       "[3511] \"C\" \"C\" \"C\" \"C\" \"C\" \"C\" \"C\" \"C\" \"C\" \"C\" \"C\" \"C\" \"C\" \"C\" \"C\" \"C\" \"C\" \"C\"\n",
       "[3529] \"C\" \"C\" \"C\" \"C\" \"C\" \"C\" \"C\" \"C\" \"C\" \"C\" \"C\" \"C\" \"C\" \"C\" \"C\" \"C\" \"C\" \"C\"\n",
       "[3547] \"C\" \"C\" \"C\" \"C\" \"C\" \"C\" \"C\" \"C\" \"C\" \"C\" \"C\" \"C\" \"C\" \"C\" \"C\" \"C\" \"C\" \"C\"\n",
       "[3565] \"C\" \"C\" \"C\" \"C\" \"C\" \"C\" \"C\" \"C\" \"C\" \"C\" \"C\" \"C\" \"C\" \"C\" \"C\" \"C\" \"C\" \"C\"\n",
       "[3583] \"C\" \"C\" \"C\" \"C\" \"C\" \"C\" \"C\" \"C\" \"C\" \"C\" \"C\" \"C\" \"C\" \"C\" \"C\" \"C\" \"C\" \"C\"\n",
       "[3601] \"C\" \"C\" \"C\" \"C\" \"C\" \"C\" \"C\" \"C\" \"C\" \"C\" \"C\" \"C\" \"C\" \"C\" \"C\" \"C\" \"C\" \"C\"\n",
       "[3619] \"C\" \"C\" \"C\" \"C\" \"C\" \"C\" \"C\" \"C\" \"C\" \"C\" \"C\" \"C\" \"C\" \"C\" \"C\" \"C\" \"C\" \"C\"\n",
       "[3637] \"C\" \"C\" \"C\" \"C\" \"C\" \"C\" \"C\" \"C\" \"C\" \"C\" \"C\" \"C\" \"C\" \"C\" \"C\" \"C\" \"C\" \"C\"\n",
       "[3655] \"C\" \"C\" \"C\" \"C\" \"C\" \"C\" \"C\" \"C\" \"C\" \"C\" \"C\" \"C\" \"C\" \"C\" \"C\" \"C\" \"C\" \"C\"\n",
       "[3673] \"C\" \"C\" \"C\" \"C\" \"C\" \"C\" \"C\" \"C\" \"C\" \"C\" \"C\" \"C\" \"C\" \"C\" \"C\" \"C\" \"C\" \"C\"\n",
       "[3691] \"C\" \"C\" \"C\" \"C\" \"C\" \"C\" \"C\" \"C\" \"C\" \"C\" \"C\" \"C\" \"C\" \"C\" \"C\" \"C\" \"C\" \"C\"\n",
       "[3709] \"C\" \"C\" \"C\" \"C\" \"C\" \"C\" \"C\" \"C\" \"C\" \"C\" \"C\" \"C\" \"C\" \"C\" \"C\" \"C\" \"C\" \"C\"\n",
       "[3727] \"C\" \"C\" \"C\" \"C\" \"C\" \"C\" \"C\" \"C\" \"C\" \"C\" \"C\" \"C\" \"C\" \"C\" \"C\" \"C\" \"C\" \"C\"\n",
       "[3745] \"C\" \"C\" \"C\" \"C\" \"C\" \"C\" \"C\" \"C\" \"C\" \"C\" \"C\" \"C\" \"C\" \"C\" \"C\" \"C\" \"C\" \"C\"\n",
       "[3763] \"C\" \"C\" \"C\" \"C\" \"C\" \"C\" \"C\" \"C\" \"C\" \"C\" \"C\" \"C\" \"C\" \"C\" \"C\" \"C\" \"C\" \"C\"\n",
       "[3781] \"C\" \"C\" \"C\" \"C\" \"C\" \"C\" \"C\" \"C\" \"C\" \"C\" \"C\" \"C\" \"C\" \"C\" \"C\" \"C\" \"C\" \"C\"\n",
       "[3799] \"C\" \"C\" \"C\" \"C\" \"C\" \"C\" \"C\" \"C\" \"C\" \"C\" \"C\" \"C\" \"C\" \"C\" \"C\" \"C\" \"C\" \"C\"\n",
       "[3817] \"C\" \"C\" \"C\" \"C\" \"C\" \"C\" \"C\" \"C\" \"C\" \"C\" \"C\" \"C\" \"C\" \"C\" \"C\" \"C\" \"C\" \"C\"\n",
       "[3835] \"C\" \"C\" \"C\" \"C\" \"C\" \"C\" \"C\" \"C\" \"C\" \"C\" \"C\" \"C\" \"C\" \"C\" \"C\" \"C\" \"C\" \"C\"\n",
       "[3853] \"C\" \"C\" \"C\" \"C\" \"C\" \"C\" \"C\" \"C\" \"C\" \"C\" \"C\" \"C\" \"C\" \"C\" \"C\" \"C\" \"C\" \"C\"\n",
       "[3871] \"C\" \"C\" \"C\" \"C\" \"C\" \"C\" \"C\" \"C\" \"C\" \"C\" \"C\" \"C\" \"C\" \"C\" \"C\" \"C\" \"C\" \"C\"\n",
       "[3889] \"C\" \"C\" \"C\" \"C\" \"C\" \"C\" \"C\" \"C\" \"C\" \"C\" \"C\" \"C\" \"C\" \"C\" \"C\" \"C\" \"C\" \"C\"\n",
       "[3907] \"C\" \"C\" \"C\" \"C\" \"C\" \"C\" \"C\" \"C\" \"C\" \"C\" \"C\" \"C\" \"C\" \"C\" \"C\" \"C\" \"C\" \"C\"\n",
       "[3925] \"C\" \"C\" \"C\" \"C\" \"C\" \"C\" \"C\" \"C\" \"C\" \"C\" \"C\" \"C\" \"C\" \"C\" \"C\" \"C\" \"C\" \"C\"\n",
       "[3943] \"C\" \"C\" \"C\" \"C\" \"C\" \"C\" \"C\" \"C\" \"C\" \"C\" \"C\" \"C\" \"C\" \"C\" \"C\" \"C\" \"C\" \"C\"\n",
       "[3961] \"C\" \"C\" \"C\" \"C\" \"C\" \"C\" \"C\" \"C\" \"C\" \"C\" \"C\" \"C\" \"C\" \"C\" \"C\" \"C\" \"C\" \"C\"\n",
       "[3979] \"C\" \"C\" \"C\" \"C\" \"C\" \"C\" \"C\" \"C\" \"C\" \"C\" \"C\" \"C\" \"C\" \"C\" \"C\" \"C\" \"C\" \"C\"\n",
       "[3997] \"C\" \"C\" \"C\" \"C\" \"C\" \"C\" \"C\" \"C\" \"C\" \"C\" \"C\" \"C\" \"C\" \"C\" \"C\" \"C\" \"C\" \"C\"\n",
       "[4015] \"C\" \"C\" \"C\" \"C\" \"C\" \"C\" \"C\" \"C\" \"C\" \"C\" \"C\" \"C\" \"C\" \"C\" \"C\" \"C\" \"C\" \"C\"\n",
       "[4033] \"C\" \"C\" \"C\" \"C\" \"C\" \"C\" \"C\" \"C\" \"C\" \"C\" \"C\" \"C\" \"C\" \"C\" \"C\" \"C\" \"C\" \"C\"\n",
       "[4051] \"C\" \"C\" \"C\" \"C\" \"C\" \"C\" \"C\" \"C\" \"C\" \"C\" \"C\" \"C\" \"C\" \"C\" \"C\" \"C\" \"C\" \"C\"\n",
       "[4069] \"C\" \"C\" \"C\" \"C\" \"C\" \"C\" \"C\" \"C\" \"C\" \"C\" \"C\" \"C\" \"C\" \"C\" \"C\" \"C\" \"C\" \"C\"\n",
       "[4087] \"C\" \"C\" \"C\" \"C\" \"C\" \"C\" \"C\" \"C\" \"C\" \"C\" \"C\" \"C\" \"C\" \"C\""
      ]
     },
     "metadata": {},
     "output_type": "display_data"
    }
   ],
   "source": [
    "data"
   ]
  },
  {
   "cell_type": "code",
   "execution_count": 188,
   "id": "5de960e0",
   "metadata": {},
   "outputs": [],
   "source": [
    "freq = table(data)"
   ]
  },
  {
   "cell_type": "code",
   "execution_count": 189,
   "id": "5d5c625e",
   "metadata": {},
   "outputs": [
    {
     "data": {
      "text/plain": [
       "data\n",
       "   A    B    C \n",
       "2240 1040  820 "
      ]
     },
     "metadata": {},
     "output_type": "display_data"
    }
   ],
   "source": [
    "freq"
   ]
  },
  {
   "cell_type": "code",
   "execution_count": 190,
   "id": "2deec1a8",
   "metadata": {},
   "outputs": [],
   "source": [
    "prob = prop.table(freq)"
   ]
  },
  {
   "cell_type": "code",
   "execution_count": 191,
   "id": "3d84561c",
   "metadata": {},
   "outputs": [
    {
     "data": {
      "text/plain": [
       "data\n",
       "        A         B         C \n",
       "0.5463415 0.2536585 0.2000000 "
      ]
     },
     "metadata": {},
     "output_type": "display_data"
    }
   ],
   "source": [
    "prob"
   ]
  },
  {
   "cell_type": "code",
   "execution_count": 192,
   "id": "baa0ea9d",
   "metadata": {},
   "outputs": [],
   "source": [
    "sum_prob = cumsum(prob)"
   ]
  },
  {
   "cell_type": "code",
   "execution_count": 193,
   "id": "7af45e4f",
   "metadata": {},
   "outputs": [
    {
     "data": {
      "text/html": [
       "<style>\n",
       ".dl-inline {width: auto; margin:0; padding: 0}\n",
       ".dl-inline>dt, .dl-inline>dd {float: none; width: auto; display: inline-block}\n",
       ".dl-inline>dt::after {content: \":\\0020\"; padding-right: .5ex}\n",
       ".dl-inline>dt:not(:first-of-type) {padding-left: .5ex}\n",
       "</style><dl class=dl-inline><dt>A</dt><dd>0.546341463414634</dd><dt>B</dt><dd>0.8</dd><dt>C</dt><dd>1</dd></dl>\n"
      ],
      "text/latex": [
       "\\begin{description*}\n",
       "\\item[A] 0.546341463414634\n",
       "\\item[B] 0.8\n",
       "\\item[C] 1\n",
       "\\end{description*}\n"
      ],
      "text/markdown": [
       "A\n",
       ":   0.546341463414634B\n",
       ":   0.8C\n",
       ":   1\n",
       "\n"
      ],
      "text/plain": [
       "        A         B         C \n",
       "0.5463415 0.8000000 1.0000000 "
      ]
     },
     "metadata": {},
     "output_type": "display_data"
    }
   ],
   "source": [
    "sum_prob"
   ]
  },
  {
   "cell_type": "code",
   "execution_count": 194,
   "id": "ff0e496c",
   "metadata": {},
   "outputs": [],
   "source": [
    "freq.table = cbind(freq, prop, sum_prob)"
   ]
  },
  {
   "cell_type": "code",
   "execution_count": 195,
   "id": "57d0def7",
   "metadata": {},
   "outputs": [
    {
     "data": {
      "text/html": [
       "<table class=\"dataframe\">\n",
       "<caption>A matrix: 3 × 3 of type dbl</caption>\n",
       "<thead>\n",
       "\t<tr><th></th><th scope=col>freq</th><th scope=col>prop</th><th scope=col>sum_prob</th></tr>\n",
       "</thead>\n",
       "<tbody>\n",
       "\t<tr><th scope=row>A</th><td>2240</td><td>0.20</td><td>0.5463415</td></tr>\n",
       "\t<tr><th scope=row>B</th><td>1040</td><td>0.35</td><td>0.8000000</td></tr>\n",
       "\t<tr><th scope=row>C</th><td> 820</td><td>0.45</td><td>1.0000000</td></tr>\n",
       "</tbody>\n",
       "</table>\n"
      ],
      "text/latex": [
       "A matrix: 3 × 3 of type dbl\n",
       "\\begin{tabular}{r|lll}\n",
       "  & freq & prop & sum\\_prob\\\\\n",
       "\\hline\n",
       "\tA & 2240 & 0.20 & 0.5463415\\\\\n",
       "\tB & 1040 & 0.35 & 0.8000000\\\\\n",
       "\tC &  820 & 0.45 & 1.0000000\\\\\n",
       "\\end{tabular}\n"
      ],
      "text/markdown": [
       "\n",
       "A matrix: 3 × 3 of type dbl\n",
       "\n",
       "| <!--/--> | freq | prop | sum_prob |\n",
       "|---|---|---|---|\n",
       "| A | 2240 | 0.20 | 0.5463415 |\n",
       "| B | 1040 | 0.35 | 0.8000000 |\n",
       "| C |  820 | 0.45 | 1.0000000 |\n",
       "\n"
      ],
      "text/plain": [
       "  freq prop sum_prob \n",
       "A 2240 0.20 0.5463415\n",
       "B 1040 0.35 0.8000000\n",
       "C  820 0.45 1.0000000"
      ]
     },
     "metadata": {},
     "output_type": "display_data"
    }
   ],
   "source": [
    "freq.table"
   ]
  },
  {
   "cell_type": "code",
   "execution_count": 197,
   "id": "856bb8f3",
   "metadata": {},
   "outputs": [
    {
     "data": {
      "image/png": "[encoded data removed]",
      "text/plain": [
       "Plot with title \"pie chart\""
      ]
     },
     "metadata": {
      "image/png": {
       "height": 420,
       "width": 420
      }
     },
     "output_type": "display_data"
    }
   ],
   "source": [
    "pie(freq,\n",
    "   main = 'pie chart',\n",
    "   labels = c('레일라','루미네','라이덴'))"
   ]
  },
  {
   "cell_type": "code",
   "execution_count": 198,
   "id": "e87434d6",
   "metadata": {},
   "outputs": [],
   "source": [
    "noise<-c(55.9,63.8,57.2,59.8,65.7,62.7,60.8,51.3,61.8,56.0,\n",
    "+          66.9,56.8,66.2,64.6,59.5,63.1,60.6,62.0,59.4,67.2,\n",
    "+          63.6,60.5,66.8,61.8,64.8,55.8,55.7,77.1,62.1,61.0,\n",
    "+          58.9,60.0,66.9,61.7,60.3,51.5,67.0,60.2,56.2,59.4,\n",
    "+          67.9,64.9,55.7,61.4,62.6,56.4,56.4,69.4,57.6,63.8)"
   ]
  },
  {
   "cell_type": "code",
   "execution_count": 199,
   "id": "a81587fc",
   "metadata": {},
   "outputs": [
    {
     "data": {
      "text/html": [
       "<style>\n",
       ".list-inline {list-style: none; margin:0; padding: 0}\n",
       ".list-inline>li {display: inline-block}\n",
       ".list-inline>li:not(:last-child)::after {content: \"\\00b7\"; padding: 0 .5ex}\n",
       "</style>\n",
       "<ol class=list-inline><li>55.9</li><li>63.8</li><li>57.2</li><li>59.8</li><li>65.7</li><li>62.7</li><li>60.8</li><li>51.3</li><li>61.8</li><li>56</li><li>66.9</li><li>56.8</li><li>66.2</li><li>64.6</li><li>59.5</li><li>63.1</li><li>60.6</li><li>62</li><li>59.4</li><li>67.2</li><li>63.6</li><li>60.5</li><li>66.8</li><li>61.8</li><li>64.8</li><li>55.8</li><li>55.7</li><li>77.1</li><li>62.1</li><li>61</li><li>58.9</li><li>60</li><li>66.9</li><li>61.7</li><li>60.3</li><li>51.5</li><li>67</li><li>60.2</li><li>56.2</li><li>59.4</li><li>67.9</li><li>64.9</li><li>55.7</li><li>61.4</li><li>62.6</li><li>56.4</li><li>56.4</li><li>69.4</li><li>57.6</li><li>63.8</li></ol>\n"
      ],
      "text/latex": [
       "\\begin{enumerate*}\n",
       "\\item 55.9\n",
       "\\item 63.8\n",
       "\\item 57.2\n",
       "\\item 59.8\n",
       "\\item 65.7\n",
       "\\item 62.7\n",
       "\\item 60.8\n",
       "\\item 51.3\n",
       "\\item 61.8\n",
       "\\item 56\n",
       "\\item 66.9\n",
       "\\item 56.8\n",
       "\\item 66.2\n",
       "\\item 64.6\n",
       "\\item 59.5\n",
       "\\item 63.1\n",
       "\\item 60.6\n",
       "\\item 62\n",
       "\\item 59.4\n",
       "\\item 67.2\n",
       "\\item 63.6\n",
       "\\item 60.5\n",
       "\\item 66.8\n",
       "\\item 61.8\n",
       "\\item 64.8\n",
       "\\item 55.8\n",
       "\\item 55.7\n",
       "\\item 77.1\n",
       "\\item 62.1\n",
       "\\item 61\n",
       "\\item 58.9\n",
       "\\item 60\n",
       "\\item 66.9\n",
       "\\item 61.7\n",
       "\\item 60.3\n",
       "\\item 51.5\n",
       "\\item 67\n",
       "\\item 60.2\n",
       "\\item 56.2\n",
       "\\item 59.4\n",
       "\\item 67.9\n",
       "\\item 64.9\n",
       "\\item 55.7\n",
       "\\item 61.4\n",
       "\\item 62.6\n",
       "\\item 56.4\n",
       "\\item 56.4\n",
       "\\item 69.4\n",
       "\\item 57.6\n",
       "\\item 63.8\n",
       "\\end{enumerate*}\n"
      ],
      "text/markdown": [
       "1. 55.9\n",
       "2. 63.8\n",
       "3. 57.2\n",
       "4. 59.8\n",
       "5. 65.7\n",
       "6. 62.7\n",
       "7. 60.8\n",
       "8. 51.3\n",
       "9. 61.8\n",
       "10. 56\n",
       "11. 66.9\n",
       "12. 56.8\n",
       "13. 66.2\n",
       "14. 64.6\n",
       "15. 59.5\n",
       "16. 63.1\n",
       "17. 60.6\n",
       "18. 62\n",
       "19. 59.4\n",
       "20. 67.2\n",
       "21. 63.6\n",
       "22. 60.5\n",
       "23. 66.8\n",
       "24. 61.8\n",
       "25. 64.8\n",
       "26. 55.8\n",
       "27. 55.7\n",
       "28. 77.1\n",
       "29. 62.1\n",
       "30. 61\n",
       "31. 58.9\n",
       "32. 60\n",
       "33. 66.9\n",
       "34. 61.7\n",
       "35. 60.3\n",
       "36. 51.5\n",
       "37. 67\n",
       "38. 60.2\n",
       "39. 56.2\n",
       "40. 59.4\n",
       "41. 67.9\n",
       "42. 64.9\n",
       "43. 55.7\n",
       "44. 61.4\n",
       "45. 62.6\n",
       "46. 56.4\n",
       "47. 56.4\n",
       "48. 69.4\n",
       "49. 57.6\n",
       "50. 63.8\n",
       "\n",
       "\n"
      ],
      "text/plain": [
       " [1] 55.9 63.8 57.2 59.8 65.7 62.7 60.8 51.3 61.8 56.0 66.9 56.8 66.2 64.6 59.5\n",
       "[16] 63.1 60.6 62.0 59.4 67.2 63.6 60.5 66.8 61.8 64.8 55.8 55.7 77.1 62.1 61.0\n",
       "[31] 58.9 60.0 66.9 61.7 60.3 51.5 67.0 60.2 56.2 59.4 67.9 64.9 55.7 61.4 62.6\n",
       "[46] 56.4 56.4 69.4 57.6 63.8"
      ]
     },
     "metadata": {},
     "output_type": "display_data"
    }
   ],
   "source": [
    "noise"
   ]
  },
  {
   "cell_type": "code",
   "execution_count": 200,
   "id": "7ba026dd",
   "metadata": {},
   "outputs": [
    {
     "data": {
      "text/html": [
       "61.374"
      ],
      "text/latex": [
       "61.374"
      ],
      "text/markdown": [
       "61.374"
      ],
      "text/plain": [
       "[1] 61.374"
      ]
     },
     "metadata": {},
     "output_type": "display_data"
    }
   ],
   "source": [
    "mean(noise)"
   ]
  },
  {
   "cell_type": "code",
   "execution_count": 201,
   "id": "939a4f18",
   "metadata": {},
   "outputs": [
    {
     "data": {
      "text/html": [
       "22.8497183673469"
      ],
      "text/latex": [
       "22.8497183673469"
      ],
      "text/markdown": [
       "22.8497183673469"
      ],
      "text/plain": [
       "[1] 22.84972"
      ]
     },
     "metadata": {},
     "output_type": "display_data"
    }
   ],
   "source": [
    "var(noise)"
   ]
  },
  {
   "cell_type": "code",
   "execution_count": 202,
   "id": "dcfc1682",
   "metadata": {},
   "outputs": [
    {
     "data": {
      "text/html": [
       "4.78013790254496"
      ],
      "text/latex": [
       "4.78013790254496"
      ],
      "text/markdown": [
       "4.78013790254496"
      ],
      "text/plain": [
       "[1] 4.780138"
      ]
     },
     "metadata": {},
     "output_type": "display_data"
    }
   ],
   "source": [
    "sd(noise)"
   ]
  },
  {
   "cell_type": "code",
   "execution_count": 207,
   "id": "fc371887",
   "metadata": {},
   "outputs": [
    {
     "data": {
      "text/html": [
       "<style>\n",
       ".dl-inline {width: auto; margin:0; padding: 0}\n",
       ".dl-inline>dt, .dl-inline>dd {float: none; width: auto; display: inline-block}\n",
       ".dl-inline>dt::after {content: \":\\0020\"; padding-right: .5ex}\n",
       ".dl-inline>dt:not(:first-of-type) {padding-left: .5ex}\n",
       "</style><dl class=dl-inline><dt>0%</dt><dd>51.3</dd><dt>25%</dt><dd>57.925</dd><dt>50%</dt><dd>61.2</dd><dt>75%</dt><dd>64.4</dd><dt>100%</dt><dd>77.1</dd></dl>\n"
      ],
      "text/latex": [
       "\\begin{description*}\n",
       "\\item[0\\textbackslash{}\\%] 51.3\n",
       "\\item[25\\textbackslash{}\\%] 57.925\n",
       "\\item[50\\textbackslash{}\\%] 61.2\n",
       "\\item[75\\textbackslash{}\\%] 64.4\n",
       "\\item[100\\textbackslash{}\\%] 77.1\n",
       "\\end{description*}\n"
      ],
      "text/markdown": [
       "0%\n",
       ":   51.325%\n",
       ":   57.92550%\n",
       ":   61.275%\n",
       ":   64.4100%\n",
       ":   77.1\n",
       "\n"
      ],
      "text/plain": [
       "    0%    25%    50%    75%   100% \n",
       "51.300 57.925 61.200 64.400 77.100 "
      ]
     },
     "metadata": {},
     "output_type": "display_data"
    }
   ],
   "source": [
    "quantile(noise)"
   ]
  },
  {
   "cell_type": "code",
   "execution_count": 203,
   "id": "cdc862a2",
   "metadata": {},
   "outputs": [
    {
     "data": {
      "text/html": [
       "<style>\n",
       ".dl-inline {width: auto; margin:0; padding: 0}\n",
       ".dl-inline>dt, .dl-inline>dd {float: none; width: auto; display: inline-block}\n",
       ".dl-inline>dt::after {content: \":\\0020\"; padding-right: .5ex}\n",
       ".dl-inline>dt:not(:first-of-type) {padding-left: .5ex}\n",
       "</style><dl class=dl-inline><dt>0%</dt><dd>51.3</dd><dt>25%</dt><dd>57.6</dd><dt>50%</dt><dd>61.2</dd><dt>75%</dt><dd>64.6</dd><dt>100%</dt><dd>77.1</dd></dl>\n"
      ],
      "text/latex": [
       "\\begin{description*}\n",
       "\\item[0\\textbackslash{}\\%] 51.3\n",
       "\\item[25\\textbackslash{}\\%] 57.6\n",
       "\\item[50\\textbackslash{}\\%] 61.2\n",
       "\\item[75\\textbackslash{}\\%] 64.6\n",
       "\\item[100\\textbackslash{}\\%] 77.1\n",
       "\\end{description*}\n"
      ],
      "text/markdown": [
       "0%\n",
       ":   51.325%\n",
       ":   57.650%\n",
       ":   61.275%\n",
       ":   64.6100%\n",
       ":   77.1\n",
       "\n"
      ],
      "text/plain": [
       "  0%  25%  50%  75% 100% \n",
       "51.3 57.6 61.2 64.6 77.1 "
      ]
     },
     "metadata": {},
     "output_type": "display_data"
    }
   ],
   "source": [
    "quantile(noise, type = 2)"
   ]
  },
  {
   "cell_type": "code",
   "execution_count": 206,
   "id": "c80532af",
   "metadata": {},
   "outputs": [
    {
     "data": {
      "text/html": [
       "<dl>\n",
       "\t<dt>$stats</dt>\n",
       "\t\t<dd><style>\n",
       ".list-inline {list-style: none; margin:0; padding: 0}\n",
       ".list-inline>li {display: inline-block}\n",
       ".list-inline>li:not(:last-child)::after {content: \"\\00b7\"; padding: 0 .5ex}\n",
       "</style>\n",
       "<ol class=list-inline><li>51.3</li><li>57.6</li><li>61.2</li><li>64.6</li><li>69.4</li></ol>\n",
       "</dd>\n",
       "\t<dt>$n</dt>\n",
       "\t\t<dd>50</dd>\n",
       "\t<dt>$conf</dt>\n",
       "\t\t<dd><style>\n",
       ".list-inline {list-style: none; margin:0; padding: 0}\n",
       ".list-inline>li {display: inline-block}\n",
       ".list-inline>li:not(:last-child)::after {content: \"\\00b7\"; padding: 0 .5ex}\n",
       "</style>\n",
       "<ol class=list-inline><li>59.6358798000154</li><li>62.7641201999846</li></ol>\n",
       "</dd>\n",
       "\t<dt>$out</dt>\n",
       "\t\t<dd>77.1</dd>\n",
       "</dl>\n"
      ],
      "text/latex": [
       "\\begin{description}\n",
       "\\item[\\$stats] \\begin{enumerate*}\n",
       "\\item 51.3\n",
       "\\item 57.6\n",
       "\\item 61.2\n",
       "\\item 64.6\n",
       "\\item 69.4\n",
       "\\end{enumerate*}\n",
       "\n",
       "\\item[\\$n] 50\n",
       "\\item[\\$conf] \\begin{enumerate*}\n",
       "\\item 59.6358798000154\n",
       "\\item 62.7641201999846\n",
       "\\end{enumerate*}\n",
       "\n",
       "\\item[\\$out] 77.1\n",
       "\\end{description}\n"
      ],
      "text/markdown": [
       "$stats\n",
       ":   1. 51.3\n",
       "2. 57.6\n",
       "3. 61.2\n",
       "4. 64.6\n",
       "5. 69.4\n",
       "\n",
       "\n",
       "\n",
       "$n\n",
       ":   50\n",
       "$conf\n",
       ":   1. 59.6358798000154\n",
       "2. 62.7641201999846\n",
       "\n",
       "\n",
       "\n",
       "$out\n",
       ":   77.1\n",
       "\n",
       "\n"
      ],
      "text/plain": [
       "$stats\n",
       "[1] 51.3 57.6 61.2 64.6 69.4\n",
       "\n",
       "$n\n",
       "[1] 50\n",
       "\n",
       "$conf\n",
       "[1] 59.63588 62.76412\n",
       "\n",
       "$out\n",
       "[1] 77.1\n"
      ]
     },
     "metadata": {},
     "output_type": "display_data"
    }
   ],
   "source": [
    "boxplot.stats(noise)"
   ]
  },
  {
   "cell_type": "code",
   "execution_count": 204,
   "id": "b983f39e",
   "metadata": {},
   "outputs": [
    {
     "data": {
      "image/png": "[encoded data removed]",
      "text/plain": [
       "plot without title"
      ]
     },
     "metadata": {
      "image/png": {
       "height": 420,
       "width": 420
      }
     },
     "output_type": "display_data"
    }
   ],
   "source": [
    "boxplot(noise, horizontal = T)"
   ]
  },
  {
   "cell_type": "code",
   "execution_count": 208,
   "id": "e472fb20",
   "metadata": {},
   "outputs": [],
   "source": [
    "data = matrix(c(64, 10, 8, 15), ncol =2, byrow = T)"
   ]
  },
  {
   "cell_type": "code",
   "execution_count": 209,
   "id": "04a787d0",
   "metadata": {},
   "outputs": [
    {
     "data": {
      "text/html": [
       "<table class=\"dataframe\">\n",
       "<caption>A matrix: 2 × 2 of type dbl</caption>\n",
       "<tbody>\n",
       "\t<tr><td>64</td><td>10</td></tr>\n",
       "\t<tr><td> 8</td><td>15</td></tr>\n",
       "</tbody>\n",
       "</table>\n"
      ],
      "text/latex": [
       "A matrix: 2 × 2 of type dbl\n",
       "\\begin{tabular}{ll}\n",
       "\t 64 & 10\\\\\n",
       "\t  8 & 15\\\\\n",
       "\\end{tabular}\n"
      ],
      "text/markdown": [
       "\n",
       "A matrix: 2 × 2 of type dbl\n",
       "\n",
       "| 64 | 10 |\n",
       "|  8 | 15 |\n",
       "\n"
      ],
      "text/plain": [
       "     [,1] [,2]\n",
       "[1,] 64   10  \n",
       "[2,]  8   15  "
      ]
     },
     "metadata": {},
     "output_type": "display_data"
    }
   ],
   "source": [
    "data"
   ]
  },
  {
   "cell_type": "code",
   "execution_count": 210,
   "id": "0ef87de0",
   "metadata": {},
   "outputs": [],
   "source": [
    "rownames(data) = c('A.belt', 'A.unbelt')\n",
    "colnames(data) = c('C.belt', 'C.unbelt')"
   ]
  },
  {
   "cell_type": "code",
   "execution_count": 211,
   "id": "eb4eb037",
   "metadata": {},
   "outputs": [
    {
     "data": {
      "text/html": [
       "<table class=\"dataframe\">\n",
       "<caption>A matrix: 2 × 2 of type dbl</caption>\n",
       "<thead>\n",
       "\t<tr><th></th><th scope=col>C.belt</th><th scope=col>C.unbelt</th></tr>\n",
       "</thead>\n",
       "<tbody>\n",
       "\t<tr><th scope=row>A.belt</th><td>64</td><td>10</td></tr>\n",
       "\t<tr><th scope=row>A.unbelt</th><td> 8</td><td>15</td></tr>\n",
       "</tbody>\n",
       "</table>\n"
      ],
      "text/latex": [
       "A matrix: 2 × 2 of type dbl\n",
       "\\begin{tabular}{r|ll}\n",
       "  & C.belt & C.unbelt\\\\\n",
       "\\hline\n",
       "\tA.belt & 64 & 10\\\\\n",
       "\tA.unbelt &  8 & 15\\\\\n",
       "\\end{tabular}\n"
      ],
      "text/markdown": [
       "\n",
       "A matrix: 2 × 2 of type dbl\n",
       "\n",
       "| <!--/--> | C.belt | C.unbelt |\n",
       "|---|---|---|\n",
       "| A.belt | 64 | 10 |\n",
       "| A.unbelt |  8 | 15 |\n",
       "\n"
      ],
      "text/plain": [
       "         C.belt C.unbelt\n",
       "A.belt   64     10      \n",
       "A.unbelt  8     15      "
      ]
     },
     "metadata": {},
     "output_type": "display_data"
    }
   ],
   "source": [
    "data"
   ]
  },
  {
   "cell_type": "code",
   "execution_count": 212,
   "id": "5237e295",
   "metadata": {},
   "outputs": [
    {
     "data": {
      "text/html": [
       "<style>\n",
       ".dl-inline {width: auto; margin:0; padding: 0}\n",
       ".dl-inline>dt, .dl-inline>dd {float: none; width: auto; display: inline-block}\n",
       ".dl-inline>dt::after {content: \":\\0020\"; padding-right: .5ex}\n",
       ".dl-inline>dt:not(:first-of-type) {padding-left: .5ex}\n",
       "</style><dl class=dl-inline><dt>A.belt</dt><dd>74</dd><dt>A.unbelt</dt><dd>23</dd></dl>\n"
      ],
      "text/latex": [
       "\\begin{description*}\n",
       "\\item[A.belt] 74\n",
       "\\item[A.unbelt] 23\n",
       "\\end{description*}\n"
      ],
      "text/markdown": [
       "A.belt\n",
       ":   74A.unbelt\n",
       ":   23\n",
       "\n"
      ],
      "text/plain": [
       "  A.belt A.unbelt \n",
       "      74       23 "
      ]
     },
     "metadata": {},
     "output_type": "display_data"
    }
   ],
   "source": [
    "margin.table(data, 1)"
   ]
  },
  {
   "cell_type": "code",
   "execution_count": 213,
   "id": "35185dd3",
   "metadata": {},
   "outputs": [
    {
     "data": {
      "text/html": [
       "<style>\n",
       ".dl-inline {width: auto; margin:0; padding: 0}\n",
       ".dl-inline>dt, .dl-inline>dd {float: none; width: auto; display: inline-block}\n",
       ".dl-inline>dt::after {content: \":\\0020\"; padding-right: .5ex}\n",
       ".dl-inline>dt:not(:first-of-type) {padding-left: .5ex}\n",
       "</style><dl class=dl-inline><dt>C.belt</dt><dd>72</dd><dt>C.unbelt</dt><dd>25</dd></dl>\n"
      ],
      "text/latex": [
       "\\begin{description*}\n",
       "\\item[C.belt] 72\n",
       "\\item[C.unbelt] 25\n",
       "\\end{description*}\n"
      ],
      "text/markdown": [
       "C.belt\n",
       ":   72C.unbelt\n",
       ":   25\n",
       "\n"
      ],
      "text/plain": [
       "  C.belt C.unbelt \n",
       "      72       25 "
      ]
     },
     "metadata": {},
     "output_type": "display_data"
    }
   ],
   "source": [
    "margin.table(data, 2)"
   ]
  },
  {
   "cell_type": "code",
   "execution_count": 214,
   "id": "f90b937b",
   "metadata": {},
   "outputs": [
    {
     "data": {
      "image/png": "[encoded data removed]",
      "text/plain": [
       "plot without title"
      ]
     },
     "metadata": {
      "image/png": {
       "height": 420,
       "width": 420
      }
     },
     "output_type": "display_data"
    }
   ],
   "source": [
    "barplot(margin.table(data, 1))"
   ]
  },
  {
   "cell_type": "code",
   "execution_count": 215,
   "id": "4e9c18be",
   "metadata": {},
   "outputs": [
    {
     "data": {
      "image/png": "[encoded data removed]",
      "text/plain": [
       "plot without title"
      ]
     },
     "metadata": {
      "image/png": {
       "height": 420,
       "width": 420
      }
     },
     "output_type": "display_data"
    }
   ],
   "source": [
    "barplot(margin.table(data, 2))"
   ]
  },
  {
   "cell_type": "code",
   "execution_count": 216,
   "id": "34015a73",
   "metadata": {},
   "outputs": [
    {
     "data": {
      "text/html": [
       "<style>\n",
       ".dl-inline {width: auto; margin:0; padding: 0}\n",
       ".dl-inline>dt, .dl-inline>dd {float: none; width: auto; display: inline-block}\n",
       ".dl-inline>dt::after {content: \":\\0020\"; padding-right: .5ex}\n",
       ".dl-inline>dt:not(:first-of-type) {padding-left: .5ex}\n",
       "</style><dl class=dl-inline><dt>A.belt</dt><dd>74</dd><dt>A.unbelt</dt><dd>23</dd></dl>\n"
      ],
      "text/latex": [
       "\\begin{description*}\n",
       "\\item[A.belt] 74\n",
       "\\item[A.unbelt] 23\n",
       "\\end{description*}\n"
      ],
      "text/markdown": [
       "A.belt\n",
       ":   74A.unbelt\n",
       ":   23\n",
       "\n"
      ],
      "text/plain": [
       "  A.belt A.unbelt \n",
       "      74       23 "
      ]
     },
     "metadata": {},
     "output_type": "display_data"
    }
   ],
   "source": [
    "rowSums(data)"
   ]
  },
  {
   "cell_type": "code",
   "execution_count": 217,
   "id": "caca638e",
   "metadata": {},
   "outputs": [
    {
     "data": {
      "text/html": [
       "<style>\n",
       ".dl-inline {width: auto; margin:0; padding: 0}\n",
       ".dl-inline>dt, .dl-inline>dd {float: none; width: auto; display: inline-block}\n",
       ".dl-inline>dt::after {content: \":\\0020\"; padding-right: .5ex}\n",
       ".dl-inline>dt:not(:first-of-type) {padding-left: .5ex}\n",
       "</style><dl class=dl-inline><dt>C.belt</dt><dd>72</dd><dt>C.unbelt</dt><dd>25</dd></dl>\n"
      ],
      "text/latex": [
       "\\begin{description*}\n",
       "\\item[C.belt] 72\n",
       "\\item[C.unbelt] 25\n",
       "\\end{description*}\n"
      ],
      "text/markdown": [
       "C.belt\n",
       ":   72C.unbelt\n",
       ":   25\n",
       "\n"
      ],
      "text/plain": [
       "  C.belt C.unbelt \n",
       "      72       25 "
      ]
     },
     "metadata": {},
     "output_type": "display_data"
    }
   ],
   "source": [
    "colSums(data)"
   ]
  },
  {
   "cell_type": "code",
   "execution_count": 218,
   "id": "bb0b2c60",
   "metadata": {},
   "outputs": [
    {
     "data": {
      "text/html": [
       "<style>\n",
       ".dl-inline {width: auto; margin:0; padding: 0}\n",
       ".dl-inline>dt, .dl-inline>dd {float: none; width: auto; display: inline-block}\n",
       ".dl-inline>dt::after {content: \":\\0020\"; padding-right: .5ex}\n",
       ".dl-inline>dt:not(:first-of-type) {padding-left: .5ex}\n",
       "</style><dl class=dl-inline><dt>A.belt</dt><dd>74</dd><dt>A.unbelt</dt><dd>23</dd></dl>\n"
      ],
      "text/latex": [
       "\\begin{description*}\n",
       "\\item[A.belt] 74\n",
       "\\item[A.unbelt] 23\n",
       "\\end{description*}\n"
      ],
      "text/markdown": [
       "A.belt\n",
       ":   74A.unbelt\n",
       ":   23\n",
       "\n"
      ],
      "text/plain": [
       "  A.belt A.unbelt \n",
       "      74       23 "
      ]
     },
     "metadata": {},
     "output_type": "display_data"
    },
    {
     "data": {
      "text/html": [
       "<style>\n",
       ".dl-inline {width: auto; margin:0; padding: 0}\n",
       ".dl-inline>dt, .dl-inline>dd {float: none; width: auto; display: inline-block}\n",
       ".dl-inline>dt::after {content: \":\\0020\"; padding-right: .5ex}\n",
       ".dl-inline>dt:not(:first-of-type) {padding-left: .5ex}\n",
       "</style><dl class=dl-inline><dt>C.belt</dt><dd>72</dd><dt>C.unbelt</dt><dd>25</dd></dl>\n"
      ],
      "text/latex": [
       "\\begin{description*}\n",
       "\\item[C.belt] 72\n",
       "\\item[C.unbelt] 25\n",
       "\\end{description*}\n"
      ],
      "text/markdown": [
       "C.belt\n",
       ":   72C.unbelt\n",
       ":   25\n",
       "\n"
      ],
      "text/plain": [
       "  C.belt C.unbelt \n",
       "      72       25 "
      ]
     },
     "metadata": {},
     "output_type": "display_data"
    }
   ],
   "source": [
    "apply(data, 1, FUN = sum)\n",
    "apply(data, 2, FUN = sum)"
   ]
  },
  {
   "cell_type": "code",
   "execution_count": 220,
   "id": "00f60430",
   "metadata": {},
   "outputs": [
    {
     "data": {
      "text/html": [
       "<table class=\"dataframe\">\n",
       "<caption>A matrix: 3 × 3 of type dbl</caption>\n",
       "<thead>\n",
       "\t<tr><th></th><th scope=col>C.belt</th><th scope=col>C.unbelt</th><th scope=col>Sum</th></tr>\n",
       "</thead>\n",
       "<tbody>\n",
       "\t<tr><th scope=row>A.belt</th><td>64</td><td>10</td><td>74</td></tr>\n",
       "\t<tr><th scope=row>A.unbelt</th><td> 8</td><td>15</td><td>23</td></tr>\n",
       "\t<tr><th scope=row>Sum</th><td>72</td><td>25</td><td>97</td></tr>\n",
       "</tbody>\n",
       "</table>\n"
      ],
      "text/latex": [
       "A matrix: 3 × 3 of type dbl\n",
       "\\begin{tabular}{r|lll}\n",
       "  & C.belt & C.unbelt & Sum\\\\\n",
       "\\hline\n",
       "\tA.belt & 64 & 10 & 74\\\\\n",
       "\tA.unbelt &  8 & 15 & 23\\\\\n",
       "\tSum & 72 & 25 & 97\\\\\n",
       "\\end{tabular}\n"
      ],
      "text/markdown": [
       "\n",
       "A matrix: 3 × 3 of type dbl\n",
       "\n",
       "| <!--/--> | C.belt | C.unbelt | Sum |\n",
       "|---|---|---|---|\n",
       "| A.belt | 64 | 10 | 74 |\n",
       "| A.unbelt |  8 | 15 | 23 |\n",
       "| Sum | 72 | 25 | 97 |\n",
       "\n"
      ],
      "text/plain": [
       "         C.belt C.unbelt Sum\n",
       "A.belt   64     10       74 \n",
       "A.unbelt  8     15       23 \n",
       "Sum      72     25       97 "
      ]
     },
     "metadata": {},
     "output_type": "display_data"
    }
   ],
   "source": [
    "addmargins(data)"
   ]
  },
  {
   "cell_type": "code",
   "execution_count": 221,
   "id": "6f34cbce",
   "metadata": {},
   "outputs": [
    {
     "data": {
      "text/html": [
       "<table class=\"dataframe\">\n",
       "<caption>A matrix: 2 × 2 of type dbl</caption>\n",
       "<thead>\n",
       "\t<tr><th></th><th scope=col>C.belt</th><th scope=col>C.unbelt</th></tr>\n",
       "</thead>\n",
       "<tbody>\n",
       "\t<tr><th scope=row>A.belt</th><td>0.65979381</td><td>0.1030928</td></tr>\n",
       "\t<tr><th scope=row>A.unbelt</th><td>0.08247423</td><td>0.1546392</td></tr>\n",
       "</tbody>\n",
       "</table>\n"
      ],
      "text/latex": [
       "A matrix: 2 × 2 of type dbl\n",
       "\\begin{tabular}{r|ll}\n",
       "  & C.belt & C.unbelt\\\\\n",
       "\\hline\n",
       "\tA.belt & 0.65979381 & 0.1030928\\\\\n",
       "\tA.unbelt & 0.08247423 & 0.1546392\\\\\n",
       "\\end{tabular}\n"
      ],
      "text/markdown": [
       "\n",
       "A matrix: 2 × 2 of type dbl\n",
       "\n",
       "| <!--/--> | C.belt | C.unbelt |\n",
       "|---|---|---|\n",
       "| A.belt | 0.65979381 | 0.1030928 |\n",
       "| A.unbelt | 0.08247423 | 0.1546392 |\n",
       "\n"
      ],
      "text/plain": [
       "         C.belt     C.unbelt \n",
       "A.belt   0.65979381 0.1030928\n",
       "A.unbelt 0.08247423 0.1546392"
      ]
     },
     "metadata": {},
     "output_type": "display_data"
    }
   ],
   "source": [
    "prop.table(data)"
   ]
  },
  {
   "cell_type": "code",
   "execution_count": 226,
   "id": "6f009f90",
   "metadata": {},
   "outputs": [
    {
     "data": {
      "image/png": "[encoded data removed]",
      "text/plain": [
       "plot without title"
      ]
     },
     "metadata": {
      "image/png": {
       "height": 420,
       "width": 420
      }
     },
     "output_type": "display_data"
    }
   ],
   "source": [
    "barplot(prop.table(data),\n",
    "       beside = T,\n",
    "       legend.text = T,\n",
    "       args.legend = list(bty = 'n'),\n",
    "       las = 1,\n",
    "       xlab = '타입',\n",
    "       ylab = 'prob')"
   ]
  },
  {
   "cell_type": "code",
   "execution_count": 227,
   "id": "c51e5f13",
   "metadata": {},
   "outputs": [
    {
     "data": {
      "image/png": "[encoded data removed]",
      "text/plain": [
       "plot without title"
      ]
     },
     "metadata": {
      "image/png": {
       "height": 420,
       "width": 420
      }
     },
     "output_type": "display_data"
    }
   ],
   "source": [
    "barplot((data),\n",
    "       beside = T,\n",
    "       legend.text = T,\n",
    "       args.legend = list(bty = 'n'),\n",
    "       las = 1,\n",
    "       xlab = '타입',\n",
    "       ylab = 'prob')"
   ]
  },
  {
   "cell_type": "code",
   "execution_count": 228,
   "id": "cbd226de",
   "metadata": {},
   "outputs": [
    {
     "data": {
      "image/png": "[encoded data removed]",
      "text/plain": [
       "plot without title"
      ]
     },
     "metadata": {
      "image/png": {
       "height": 420,
       "width": 420
      }
     },
     "output_type": "display_data"
    }
   ],
   "source": [
    "barplot(t(data),\n",
    "       beside = T,\n",
    "       legend.text = T,\n",
    "       args.legend = list(bty = 'n'),\n",
    "       las = 1,\n",
    "       xlab = '타입',\n",
    "       ylab = 'prob')"
   ]
  },
  {
   "cell_type": "code",
   "execution_count": 231,
   "id": "ad2ded4d",
   "metadata": {},
   "outputs": [
    {
     "name": "stderr",
     "output_type": "stream",
     "text": [
      "Warning message in dotchart(table(data), main = \"Dotplot\", sub = \"Num\"):\n",
      "\"'x' is neither a vector nor a matrix: using as.numeric(x)\"\n"
     ]
    },
    {
     "data": {
      "image/png": "[encoded data removed]",
      "text/plain": [
       "Plot with title \"Dotplot\""
      ]
     },
     "metadata": {
      "image/png": {
       "height": 420,
       "width": 420
      }
     },
     "output_type": "display_data"
    }
   ],
   "source": [
    "data = c('Y','N','Y','Y', 'Y','N','N','Y','Y','Y')\n",
    "dotchart(table(data),\n",
    "        main = 'Dotplot', sub = 'Num')"
   ]
  },
  {
   "cell_type": "code",
   "execution_count": 232,
   "id": "5b94d2c4",
   "metadata": {},
   "outputs": [],
   "source": [
    "x = c(45, 86, 34, 98, 67, 78, 56, 45, 85, 75, 64, 75, 75, 75, 58, 45, 83, 74)"
   ]
  },
  {
   "cell_type": "code",
   "execution_count": 233,
   "id": "2890abb7",
   "metadata": {},
   "outputs": [
    {
     "data": {
      "text/html": [
       "<style>\n",
       ".list-inline {list-style: none; margin:0; padding: 0}\n",
       ".list-inline>li {display: inline-block}\n",
       ".list-inline>li:not(:last-child)::after {content: \"\\00b7\"; padding: 0 .5ex}\n",
       "</style>\n",
       "<ol class=list-inline><li>45</li><li>86</li><li>34</li><li>98</li><li>67</li><li>78</li><li>56</li><li>45</li><li>85</li><li>75</li><li>64</li><li>75</li><li>75</li><li>75</li><li>58</li><li>45</li><li>83</li><li>74</li></ol>\n"
      ],
      "text/latex": [
       "\\begin{enumerate*}\n",
       "\\item 45\n",
       "\\item 86\n",
       "\\item 34\n",
       "\\item 98\n",
       "\\item 67\n",
       "\\item 78\n",
       "\\item 56\n",
       "\\item 45\n",
       "\\item 85\n",
       "\\item 75\n",
       "\\item 64\n",
       "\\item 75\n",
       "\\item 75\n",
       "\\item 75\n",
       "\\item 58\n",
       "\\item 45\n",
       "\\item 83\n",
       "\\item 74\n",
       "\\end{enumerate*}\n"
      ],
      "text/markdown": [
       "1. 45\n",
       "2. 86\n",
       "3. 34\n",
       "4. 98\n",
       "5. 67\n",
       "6. 78\n",
       "7. 56\n",
       "8. 45\n",
       "9. 85\n",
       "10. 75\n",
       "11. 64\n",
       "12. 75\n",
       "13. 75\n",
       "14. 75\n",
       "15. 58\n",
       "16. 45\n",
       "17. 83\n",
       "18. 74\n",
       "\n",
       "\n"
      ],
      "text/plain": [
       " [1] 45 86 34 98 67 78 56 45 85 75 64 75 75 75 58 45 83 74"
      ]
     },
     "metadata": {},
     "output_type": "display_data"
    }
   ],
   "source": [
    "x"
   ]
  },
  {
   "cell_type": "code",
   "execution_count": 234,
   "id": "6ab4a8df",
   "metadata": {},
   "outputs": [
    {
     "data": {
      "text/html": [
       "67.6666666666667"
      ],
      "text/latex": [
       "67.6666666666667"
      ],
      "text/markdown": [
       "67.6666666666667"
      ],
      "text/plain": [
       "[1] 67.66667"
      ]
     },
     "metadata": {},
     "output_type": "display_data"
    }
   ],
   "source": [
    "mean(x)"
   ]
  },
  {
   "cell_type": "code",
   "execution_count": 235,
   "id": "e826d989",
   "metadata": {},
   "outputs": [
    {
     "data": {
      "text/html": [
       "74.5"
      ],
      "text/latex": [
       "74.5"
      ],
      "text/markdown": [
       "74.5"
      ],
      "text/plain": [
       "[1] 74.5"
      ]
     },
     "metadata": {},
     "output_type": "display_data"
    }
   ],
   "source": [
    "median(x)"
   ]
  },
  {
   "cell_type": "code",
   "execution_count": 236,
   "id": "2d8c138e",
   "metadata": {},
   "outputs": [
    {
     "data": {
      "image/png": "[encoded data removed]",
      "text/plain": [
       "plot without title"
      ]
     },
     "metadata": {
      "image/png": {
       "height": 420,
       "width": 420
      }
     },
     "output_type": "display_data"
    }
   ],
   "source": [
    "score = c(42, 40, 38, 37, 43, 43, 39, 78, 38, 45, 44, 40, 38, 41, 35, 31, 44)\n",
    "boxplot(score)"
   ]
  },
  {
   "cell_type": "code",
   "execution_count": 237,
   "id": "16be5de9",
   "metadata": {},
   "outputs": [
    {
     "data": {
      "text/html": [
       "<dl>\n",
       "\t<dt>$stats</dt>\n",
       "\t\t<dd><style>\n",
       ".list-inline {list-style: none; margin:0; padding: 0}\n",
       ".list-inline>li {display: inline-block}\n",
       ".list-inline>li:not(:last-child)::after {content: \"\\00b7\"; padding: 0 .5ex}\n",
       "</style>\n",
       "<ol class=list-inline><li>31</li><li>38</li><li>40</li><li>43</li><li>45</li></ol>\n",
       "</dd>\n",
       "\t<dt>$n</dt>\n",
       "\t\t<dd>17</dd>\n",
       "\t<dt>$conf</dt>\n",
       "\t\t<dd><style>\n",
       ".list-inline {list-style: none; margin:0; padding: 0}\n",
       ".list-inline>li {display: inline-block}\n",
       ".list-inline>li:not(:last-child)::after {content: \"\\00b7\"; padding: 0 .5ex}\n",
       "</style>\n",
       "<ol class=list-inline><li>38.083968562213</li><li>41.916031437787</li></ol>\n",
       "</dd>\n",
       "\t<dt>$out</dt>\n",
       "\t\t<dd>78</dd>\n",
       "</dl>\n"
      ],
      "text/latex": [
       "\\begin{description}\n",
       "\\item[\\$stats] \\begin{enumerate*}\n",
       "\\item 31\n",
       "\\item 38\n",
       "\\item 40\n",
       "\\item 43\n",
       "\\item 45\n",
       "\\end{enumerate*}\n",
       "\n",
       "\\item[\\$n] 17\n",
       "\\item[\\$conf] \\begin{enumerate*}\n",
       "\\item 38.083968562213\n",
       "\\item 41.916031437787\n",
       "\\end{enumerate*}\n",
       "\n",
       "\\item[\\$out] 78\n",
       "\\end{description}\n"
      ],
      "text/markdown": [
       "$stats\n",
       ":   1. 31\n",
       "2. 38\n",
       "3. 40\n",
       "4. 43\n",
       "5. 45\n",
       "\n",
       "\n",
       "\n",
       "$n\n",
       ":   17\n",
       "$conf\n",
       ":   1. 38.083968562213\n",
       "2. 41.916031437787\n",
       "\n",
       "\n",
       "\n",
       "$out\n",
       ":   78\n",
       "\n",
       "\n"
      ],
      "text/plain": [
       "$stats\n",
       "[1] 31 38 40 43 45\n",
       "\n",
       "$n\n",
       "[1] 17\n",
       "\n",
       "$conf\n",
       "[1] 38.08397 41.91603\n",
       "\n",
       "$out\n",
       "[1] 78\n"
      ]
     },
     "metadata": {},
     "output_type": "display_data"
    }
   ],
   "source": [
    "boxplot.stats(score)"
   ]
  },
  {
   "cell_type": "code",
   "execution_count": 238,
   "id": "2d1b9b89",
   "metadata": {},
   "outputs": [],
   "source": [
    "noise<-c(55.9,63.8,57.2,59.8,65.7,62.7,60.8,51.3,61.8,56.0,\n",
    "+          66.9,56.8,66.2,64.6,59.5,63.1,60.6,62.0,59.4,67.2,\n",
    "+          63.6,60.5,66.8,61.8,64.8,55.8,55.7,77.1,62.1,61.0,\n",
    "+          58.9,60.0,66.9,61.7,60.3,51.5,67.0,60.2,56.2,59.4,\n",
    "+          67.9,64.9,55.7,61.4,62.6,56.4,56.4,69.4,57.6,63.8)"
   ]
  },
  {
   "cell_type": "code",
   "execution_count": 239,
   "id": "5d63e4b5",
   "metadata": {},
   "outputs": [
    {
     "data": {
      "text/html": [
       "<style>\n",
       ".list-inline {list-style: none; margin:0; padding: 0}\n",
       ".list-inline>li {display: inline-block}\n",
       ".list-inline>li:not(:last-child)::after {content: \"\\00b7\"; padding: 0 .5ex}\n",
       "</style>\n",
       "<ol class=list-inline><li>55.9</li><li>63.8</li><li>57.2</li><li>59.8</li><li>65.7</li><li>62.7</li><li>60.8</li><li>51.3</li><li>61.8</li><li>56</li><li>66.9</li><li>56.8</li><li>66.2</li><li>64.6</li><li>59.5</li><li>63.1</li><li>60.6</li><li>62</li><li>59.4</li><li>67.2</li><li>63.6</li><li>60.5</li><li>66.8</li><li>61.8</li><li>64.8</li><li>55.8</li><li>55.7</li><li>77.1</li><li>62.1</li><li>61</li><li>58.9</li><li>60</li><li>66.9</li><li>61.7</li><li>60.3</li><li>51.5</li><li>67</li><li>60.2</li><li>56.2</li><li>59.4</li><li>67.9</li><li>64.9</li><li>55.7</li><li>61.4</li><li>62.6</li><li>56.4</li><li>56.4</li><li>69.4</li><li>57.6</li><li>63.8</li></ol>\n"
      ],
      "text/latex": [
       "\\begin{enumerate*}\n",
       "\\item 55.9\n",
       "\\item 63.8\n",
       "\\item 57.2\n",
       "\\item 59.8\n",
       "\\item 65.7\n",
       "\\item 62.7\n",
       "\\item 60.8\n",
       "\\item 51.3\n",
       "\\item 61.8\n",
       "\\item 56\n",
       "\\item 66.9\n",
       "\\item 56.8\n",
       "\\item 66.2\n",
       "\\item 64.6\n",
       "\\item 59.5\n",
       "\\item 63.1\n",
       "\\item 60.6\n",
       "\\item 62\n",
       "\\item 59.4\n",
       "\\item 67.2\n",
       "\\item 63.6\n",
       "\\item 60.5\n",
       "\\item 66.8\n",
       "\\item 61.8\n",
       "\\item 64.8\n",
       "\\item 55.8\n",
       "\\item 55.7\n",
       "\\item 77.1\n",
       "\\item 62.1\n",
       "\\item 61\n",
       "\\item 58.9\n",
       "\\item 60\n",
       "\\item 66.9\n",
       "\\item 61.7\n",
       "\\item 60.3\n",
       "\\item 51.5\n",
       "\\item 67\n",
       "\\item 60.2\n",
       "\\item 56.2\n",
       "\\item 59.4\n",
       "\\item 67.9\n",
       "\\item 64.9\n",
       "\\item 55.7\n",
       "\\item 61.4\n",
       "\\item 62.6\n",
       "\\item 56.4\n",
       "\\item 56.4\n",
       "\\item 69.4\n",
       "\\item 57.6\n",
       "\\item 63.8\n",
       "\\end{enumerate*}\n"
      ],
      "text/markdown": [
       "1. 55.9\n",
       "2. 63.8\n",
       "3. 57.2\n",
       "4. 59.8\n",
       "5. 65.7\n",
       "6. 62.7\n",
       "7. 60.8\n",
       "8. 51.3\n",
       "9. 61.8\n",
       "10. 56\n",
       "11. 66.9\n",
       "12. 56.8\n",
       "13. 66.2\n",
       "14. 64.6\n",
       "15. 59.5\n",
       "16. 63.1\n",
       "17. 60.6\n",
       "18. 62\n",
       "19. 59.4\n",
       "20. 67.2\n",
       "21. 63.6\n",
       "22. 60.5\n",
       "23. 66.8\n",
       "24. 61.8\n",
       "25. 64.8\n",
       "26. 55.8\n",
       "27. 55.7\n",
       "28. 77.1\n",
       "29. 62.1\n",
       "30. 61\n",
       "31. 58.9\n",
       "32. 60\n",
       "33. 66.9\n",
       "34. 61.7\n",
       "35. 60.3\n",
       "36. 51.5\n",
       "37. 67\n",
       "38. 60.2\n",
       "39. 56.2\n",
       "40. 59.4\n",
       "41. 67.9\n",
       "42. 64.9\n",
       "43. 55.7\n",
       "44. 61.4\n",
       "45. 62.6\n",
       "46. 56.4\n",
       "47. 56.4\n",
       "48. 69.4\n",
       "49. 57.6\n",
       "50. 63.8\n",
       "\n",
       "\n"
      ],
      "text/plain": [
       " [1] 55.9 63.8 57.2 59.8 65.7 62.7 60.8 51.3 61.8 56.0 66.9 56.8 66.2 64.6 59.5\n",
       "[16] 63.1 60.6 62.0 59.4 67.2 63.6 60.5 66.8 61.8 64.8 55.8 55.7 77.1 62.1 61.0\n",
       "[31] 58.9 60.0 66.9 61.7 60.3 51.5 67.0 60.2 56.2 59.4 67.9 64.9 55.7 61.4 62.6\n",
       "[46] 56.4 56.4 69.4 57.6 63.8"
      ]
     },
     "metadata": {},
     "output_type": "display_data"
    }
   ],
   "source": [
    "noise"
   ]
  },
  {
   "cell_type": "code",
   "execution_count": 240,
   "id": "7af32025",
   "metadata": {},
   "outputs": [
    {
     "data": {
      "text/html": [
       "61.374"
      ],
      "text/latex": [
       "61.374"
      ],
      "text/markdown": [
       "61.374"
      ],
      "text/plain": [
       "[1] 61.374"
      ]
     },
     "metadata": {},
     "output_type": "display_data"
    }
   ],
   "source": [
    "mean(noise)"
   ]
  },
  {
   "cell_type": "code",
   "execution_count": 241,
   "id": "61e8c220",
   "metadata": {},
   "outputs": [
    {
     "data": {
      "text/html": [
       "22.8497183673469"
      ],
      "text/latex": [
       "22.8497183673469"
      ],
      "text/markdown": [
       "22.8497183673469"
      ],
      "text/plain": [
       "[1] 22.84972"
      ]
     },
     "metadata": {},
     "output_type": "display_data"
    }
   ],
   "source": [
    "var(noise)"
   ]
  },
  {
   "cell_type": "code",
   "execution_count": 242,
   "id": "442285ac",
   "metadata": {},
   "outputs": [
    {
     "data": {
      "text/html": [
       "4.78013790254496"
      ],
      "text/latex": [
       "4.78013790254496"
      ],
      "text/markdown": [
       "4.78013790254496"
      ],
      "text/plain": [
       "[1] 4.780138"
      ]
     },
     "metadata": {},
     "output_type": "display_data"
    }
   ],
   "source": [
    "sd(noise)"
   ]
  },
  {
   "cell_type": "code",
   "execution_count": 243,
   "id": "22c6bcda",
   "metadata": {},
   "outputs": [
    {
     "data": {
      "text/html": [
       "<style>\n",
       ".dl-inline {width: auto; margin:0; padding: 0}\n",
       ".dl-inline>dt, .dl-inline>dd {float: none; width: auto; display: inline-block}\n",
       ".dl-inline>dt::after {content: \":\\0020\"; padding-right: .5ex}\n",
       ".dl-inline>dt:not(:first-of-type) {padding-left: .5ex}\n",
       "</style><dl class=dl-inline><dt>0%</dt><dd>51.3</dd><dt>25%</dt><dd>57.6</dd><dt>50%</dt><dd>61.2</dd><dt>75%</dt><dd>64.6</dd><dt>100%</dt><dd>77.1</dd></dl>\n"
      ],
      "text/latex": [
       "\\begin{description*}\n",
       "\\item[0\\textbackslash{}\\%] 51.3\n",
       "\\item[25\\textbackslash{}\\%] 57.6\n",
       "\\item[50\\textbackslash{}\\%] 61.2\n",
       "\\item[75\\textbackslash{}\\%] 64.6\n",
       "\\item[100\\textbackslash{}\\%] 77.1\n",
       "\\end{description*}\n"
      ],
      "text/markdown": [
       "0%\n",
       ":   51.325%\n",
       ":   57.650%\n",
       ":   61.275%\n",
       ":   64.6100%\n",
       ":   77.1\n",
       "\n"
      ],
      "text/plain": [
       "  0%  25%  50%  75% 100% \n",
       "51.3 57.6 61.2 64.6 77.1 "
      ]
     },
     "metadata": {},
     "output_type": "display_data"
    }
   ],
   "source": [
    "quantile(noise, type = 2)"
   ]
  },
  {
   "cell_type": "code",
   "execution_count": 244,
   "id": "5ee7a2a7",
   "metadata": {},
   "outputs": [
    {
     "data": {
      "image/png": "[encoded data removed]",
      "text/plain": [
       "plot without title"
      ]
     },
     "metadata": {
      "image/png": {
       "height": 420,
       "width": 420
      }
     },
     "output_type": "display_data"
    }
   ],
   "source": [
    "boxplot(noise, horizeontal = T)"
   ]
  },
  {
   "cell_type": "code",
   "execution_count": 245,
   "id": "1296f385",
   "metadata": {},
   "outputs": [
    {
     "name": "stdout",
     "output_type": "stream",
     "text": [
      "\n",
      "  The decimal point is 1 digit(s) to the right of the |\n",
      "\n",
      "  5 | 12\n",
      "  5 | 66666666778999\n",
      "  6 | 000001111122222333444\n",
      "  6 | 555667777789\n",
      "  7 | \n",
      "  7 | 7\n",
      "\n"
     ]
    }
   ],
   "source": [
    "stem(noise)"
   ]
  },
  {
   "cell_type": "code",
   "execution_count": 246,
   "id": "a07b93b2",
   "metadata": {},
   "outputs": [],
   "source": [
    "model = lm(mpg~., data = mtcars)"
   ]
  },
  {
   "cell_type": "code",
   "execution_count": 247,
   "id": "d43ccecb",
   "metadata": {},
   "outputs": [
    {
     "data": {
      "text/plain": [
       "\n",
       "Call:\n",
       "lm(formula = mpg ~ ., data = mtcars)\n",
       "\n",
       "Residuals:\n",
       "    Min      1Q  Median      3Q     Max \n",
       "-3.4506 -1.6044 -0.1196  1.2193  4.6271 \n",
       "\n",
       "Coefficients:\n",
       "            Estimate Std. Error t value Pr(>|t|)  \n",
       "(Intercept) 12.30337   18.71788   0.657   0.5181  \n",
       "cyl         -0.11144    1.04502  -0.107   0.9161  \n",
       "disp         0.01334    0.01786   0.747   0.4635  \n",
       "hp          -0.02148    0.02177  -0.987   0.3350  \n",
       "drat         0.78711    1.63537   0.481   0.6353  \n",
       "wt          -3.71530    1.89441  -1.961   0.0633 .\n",
       "qsec         0.82104    0.73084   1.123   0.2739  \n",
       "vs           0.31776    2.10451   0.151   0.8814  \n",
       "am           2.52023    2.05665   1.225   0.2340  \n",
       "gear         0.65541    1.49326   0.439   0.6652  \n",
       "carb        -0.19942    0.82875  -0.241   0.8122  \n",
       "---\n",
       "Signif. codes:  0 '***' 0.001 '**' 0.01 '*' 0.05 '.' 0.1 ' ' 1\n",
       "\n",
       "Residual standard error: 2.65 on 21 degrees of freedom\n",
       "Multiple R-squared:  0.869,\tAdjusted R-squared:  0.8066 \n",
       "F-statistic: 13.93 on 10 and 21 DF,  p-value: 3.793e-07\n"
      ]
     },
     "metadata": {},
     "output_type": "display_data"
    }
   ],
   "source": [
    "summary(model)"
   ]
  },
  {
   "cell_type": "code",
   "execution_count": 248,
   "id": "6f662968",
   "metadata": {},
   "outputs": [],
   "source": [
    "library(MASS)"
   ]
  },
  {
   "cell_type": "code",
   "execution_count": 249,
   "id": "8ace9d4b",
   "metadata": {},
   "outputs": [
    {
     "name": "stdout",
     "output_type": "stream",
     "text": [
      "Start:  AIC=70.9\n",
      "mpg ~ cyl + disp + hp + drat + wt + qsec + vs + am + gear + carb\n",
      "\n",
      "       Df Sum of Sq    RSS    AIC\n",
      "- cyl   1    0.0799 147.57 68.915\n",
      "- vs    1    0.1601 147.66 68.932\n",
      "- carb  1    0.4067 147.90 68.986\n",
      "- gear  1    1.3531 148.85 69.190\n",
      "- drat  1    1.6270 149.12 69.249\n",
      "- disp  1    3.9167 151.41 69.736\n",
      "- hp    1    6.8399 154.33 70.348\n",
      "- qsec  1    8.8641 156.36 70.765\n",
      "<none>              147.49 70.898\n",
      "- am    1   10.5467 158.04 71.108\n",
      "- wt    1   27.0144 174.51 74.280\n",
      "\n",
      "Step:  AIC=68.92\n",
      "mpg ~ disp + hp + drat + wt + qsec + vs + am + gear + carb\n",
      "\n",
      "       Df Sum of Sq    RSS    AIC\n",
      "- vs    1    0.2685 147.84 66.973\n",
      "- carb  1    0.5201 148.09 67.028\n",
      "- gear  1    1.8211 149.40 67.308\n",
      "- drat  1    1.9826 149.56 67.342\n",
      "- disp  1    3.9009 151.47 67.750\n",
      "- hp    1    7.3632 154.94 68.473\n",
      "<none>              147.57 68.915\n",
      "- qsec  1   10.0933 157.67 69.032\n",
      "- am    1   11.8359 159.41 69.384\n",
      "- wt    1   27.0280 174.60 72.297\n",
      "\n",
      "Step:  AIC=66.97\n",
      "mpg ~ disp + hp + drat + wt + qsec + am + gear + carb\n",
      "\n",
      "       Df Sum of Sq    RSS    AIC\n",
      "- carb  1    0.6855 148.53 65.121\n",
      "- gear  1    2.1437 149.99 65.434\n",
      "- drat  1    2.2139 150.06 65.449\n",
      "- disp  1    3.6467 151.49 65.753\n",
      "- hp    1    7.1060 154.95 66.475\n",
      "<none>              147.84 66.973\n",
      "- am    1   11.5694 159.41 67.384\n",
      "- qsec  1   15.6830 163.53 68.200\n",
      "- wt    1   27.3799 175.22 70.410\n",
      "\n",
      "Step:  AIC=65.12\n",
      "mpg ~ disp + hp + drat + wt + qsec + am + gear\n",
      "\n",
      "       Df Sum of Sq    RSS    AIC\n",
      "- gear  1     1.565 150.09 63.457\n",
      "- drat  1     1.932 150.46 63.535\n",
      "<none>              148.53 65.121\n",
      "- disp  1    10.110 158.64 65.229\n",
      "- am    1    12.323 160.85 65.672\n",
      "- hp    1    14.826 163.35 66.166\n",
      "- qsec  1    26.408 174.94 68.358\n",
      "- wt    1    69.127 217.66 75.350\n",
      "\n",
      "Step:  AIC=63.46\n",
      "mpg ~ disp + hp + drat + wt + qsec + am\n",
      "\n",
      "       Df Sum of Sq    RSS    AIC\n",
      "- drat  1     3.345 153.44 62.162\n",
      "- disp  1     8.545 158.64 63.229\n",
      "<none>              150.09 63.457\n",
      "- hp    1    13.285 163.38 64.171\n",
      "- am    1    20.036 170.13 65.466\n",
      "- qsec  1    25.574 175.67 66.491\n",
      "- wt    1    67.572 217.66 73.351\n",
      "\n",
      "Step:  AIC=62.16\n",
      "mpg ~ disp + hp + wt + qsec + am\n",
      "\n",
      "       Df Sum of Sq    RSS    AIC\n",
      "- disp  1     6.629 160.07 61.515\n",
      "<none>              153.44 62.162\n",
      "- hp    1    12.572 166.01 62.682\n",
      "- qsec  1    26.470 179.91 65.255\n",
      "- am    1    32.198 185.63 66.258\n",
      "- wt    1    69.043 222.48 72.051\n",
      "\n",
      "Step:  AIC=61.52\n",
      "mpg ~ hp + wt + qsec + am\n",
      "\n",
      "       Df Sum of Sq    RSS    AIC\n",
      "- hp    1     9.219 169.29 61.307\n",
      "<none>              160.07 61.515\n",
      "- qsec  1    20.225 180.29 63.323\n",
      "- am    1    25.993 186.06 64.331\n",
      "- wt    1    78.494 238.56 72.284\n",
      "\n",
      "Step:  AIC=61.31\n",
      "mpg ~ wt + qsec + am\n",
      "\n",
      "       Df Sum of Sq    RSS    AIC\n",
      "<none>              169.29 61.307\n",
      "- am    1    26.178 195.46 63.908\n",
      "- qsec  1   109.034 278.32 75.217\n",
      "- wt    1   183.347 352.63 82.790\n"
     ]
    }
   ],
   "source": [
    "model = stepAIC(model)"
   ]
  },
  {
   "cell_type": "code",
   "execution_count": 251,
   "id": "734c727c",
   "metadata": {},
   "outputs": [
    {
     "data": {
      "text/plain": [
       "\n",
       "Call:\n",
       "lm(formula = mpg ~ wt + qsec + am, data = mtcars)\n",
       "\n",
       "Residuals:\n",
       "    Min      1Q  Median      3Q     Max \n",
       "-3.4811 -1.5555 -0.7257  1.4110  4.6610 \n",
       "\n",
       "Coefficients:\n",
       "            Estimate Std. Error t value Pr(>|t|)    \n",
       "(Intercept)   9.6178     6.9596   1.382 0.177915    \n",
       "wt           -3.9165     0.7112  -5.507 6.95e-06 ***\n",
       "qsec          1.2259     0.2887   4.247 0.000216 ***\n",
       "am            2.9358     1.4109   2.081 0.046716 *  \n",
       "---\n",
       "Signif. codes:  0 '***' 0.001 '**' 0.01 '*' 0.05 '.' 0.1 ' ' 1\n",
       "\n",
       "Residual standard error: 2.459 on 28 degrees of freedom\n",
       "Multiple R-squared:  0.8497,\tAdjusted R-squared:  0.8336 \n",
       "F-statistic: 52.75 on 3 and 28 DF,  p-value: 1.21e-11\n"
      ]
     },
     "metadata": {},
     "output_type": "display_data"
    }
   ],
   "source": [
    "summary(model)"
   ]
  },
  {
   "cell_type": "code",
   "execution_count": 252,
   "id": "660e921a",
   "metadata": {},
   "outputs": [
    {
     "data": {
      "text/html": [
       "<strong>1:</strong> 34.1293375389658"
      ],
      "text/latex": [
       "\\textbf{1:} 34.1293375389658"
      ],
      "text/markdown": [
       "**1:** 34.1293375389658"
      ],
      "text/plain": [
       "       1 \n",
       "34.12934 "
      ]
     },
     "metadata": {},
     "output_type": "display_data"
    }
   ],
   "source": [
    "predict(model, newdata = data.frame(wt = 3, qsec = 20, am = 4))"
   ]
  },
  {
   "cell_type": "code",
   "execution_count": 253,
   "id": "8e1fb1a1",
   "metadata": {},
   "outputs": [
    {
     "data": {
      "text/html": [
       "34.1295"
      ],
      "text/latex": [
       "34.1295"
      ],
      "text/markdown": [
       "34.1295"
      ],
      "text/plain": [
       "[1] 34.1295"
      ]
     },
     "metadata": {},
     "output_type": "display_data"
    }
   ],
   "source": [
    "9.6178 + -3.9165 * 3 + 1.2259 * 20 + 2.9358 * 4"
   ]
  }
 ],
 "metadata": {
  "kernelspec": {
   "display_name": "R",
   "language": "R",
   "name": "ir"
  },
  "language_info": {
   "codemirror_mode": "r",
   "file_extension": ".r",
   "mimetype": "text/x-r-source",
   "name": "R",
   "pygments_lexer": "r",
   "version": "4.3.1"
  }
 },
 "nbformat": 4,
 "nbformat_minor": 5
}
