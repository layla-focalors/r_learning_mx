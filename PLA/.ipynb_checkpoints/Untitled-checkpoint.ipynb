{
 "cells": [
  {
   "cell_type": "code",
   "execution_count": 1,
   "id": "6c7594f9",
   "metadata": {},
   "outputs": [],
   "source": [
    "total = c(rep('A', 8), rep('B', 14), rep('C', 8))"
   ]
  },
  {
   "cell_type": "code",
   "execution_count": 2,
   "id": "d28ce402",
   "metadata": {},
   "outputs": [
    {
     "data": {
      "text/html": [
       "<style>\n",
       ".list-inline {list-style: none; margin:0; padding: 0}\n",
       ".list-inline>li {display: inline-block}\n",
       ".list-inline>li:not(:last-child)::after {content: \"\\00b7\"; padding: 0 .5ex}\n",
       "</style>\n",
       "<ol class=list-inline><li>'A'</li><li>'A'</li><li>'A'</li><li>'A'</li><li>'A'</li><li>'A'</li><li>'A'</li><li>'A'</li><li>'B'</li><li>'B'</li><li>'B'</li><li>'B'</li><li>'B'</li><li>'B'</li><li>'B'</li><li>'B'</li><li>'B'</li><li>'B'</li><li>'B'</li><li>'B'</li><li>'B'</li><li>'B'</li><li>'C'</li><li>'C'</li><li>'C'</li><li>'C'</li><li>'C'</li><li>'C'</li><li>'C'</li><li>'C'</li></ol>\n"
      ],
      "text/latex": [
       "\\begin{enumerate*}\n",
       "\\item 'A'\n",
       "\\item 'A'\n",
       "\\item 'A'\n",
       "\\item 'A'\n",
       "\\item 'A'\n",
       "\\item 'A'\n",
       "\\item 'A'\n",
       "\\item 'A'\n",
       "\\item 'B'\n",
       "\\item 'B'\n",
       "\\item 'B'\n",
       "\\item 'B'\n",
       "\\item 'B'\n",
       "\\item 'B'\n",
       "\\item 'B'\n",
       "\\item 'B'\n",
       "\\item 'B'\n",
       "\\item 'B'\n",
       "\\item 'B'\n",
       "\\item 'B'\n",
       "\\item 'B'\n",
       "\\item 'B'\n",
       "\\item 'C'\n",
       "\\item 'C'\n",
       "\\item 'C'\n",
       "\\item 'C'\n",
       "\\item 'C'\n",
       "\\item 'C'\n",
       "\\item 'C'\n",
       "\\item 'C'\n",
       "\\end{enumerate*}\n"
      ],
      "text/markdown": [
       "1. 'A'\n",
       "2. 'A'\n",
       "3. 'A'\n",
       "4. 'A'\n",
       "5. 'A'\n",
       "6. 'A'\n",
       "7. 'A'\n",
       "8. 'A'\n",
       "9. 'B'\n",
       "10. 'B'\n",
       "11. 'B'\n",
       "12. 'B'\n",
       "13. 'B'\n",
       "14. 'B'\n",
       "15. 'B'\n",
       "16. 'B'\n",
       "17. 'B'\n",
       "18. 'B'\n",
       "19. 'B'\n",
       "20. 'B'\n",
       "21. 'B'\n",
       "22. 'B'\n",
       "23. 'C'\n",
       "24. 'C'\n",
       "25. 'C'\n",
       "26. 'C'\n",
       "27. 'C'\n",
       "28. 'C'\n",
       "29. 'C'\n",
       "30. 'C'\n",
       "\n",
       "\n"
      ],
      "text/plain": [
       " [1] \"A\" \"A\" \"A\" \"A\" \"A\" \"A\" \"A\" \"A\" \"B\" \"B\" \"B\" \"B\" \"B\" \"B\" \"B\" \"B\" \"B\" \"B\" \"B\"\n",
       "[20] \"B\" \"B\" \"B\" \"C\" \"C\" \"C\" \"C\" \"C\" \"C\" \"C\" \"C\""
      ]
     },
     "metadata": {},
     "output_type": "display_data"
    }
   ],
   "source": [
    "total"
   ]
  },
  {
   "cell_type": "code",
   "execution_count": 3,
   "id": "08df292a",
   "metadata": {},
   "outputs": [
    {
     "data": {
      "text/plain": [
       "total\n",
       " A  B  C \n",
       " 8 14  8 "
      ]
     },
     "metadata": {},
     "output_type": "display_data"
    }
   ],
   "source": [
    "table(total)"
   ]
  },
  {
   "cell_type": "code",
   "execution_count": 4,
   "id": "76aa6db3",
   "metadata": {},
   "outputs": [
    {
     "data": {
      "image/png": "[encoded data removed]",
      "text/plain": [
       "plot without title"
      ]
     },
     "metadata": {
      "image/png": {
       "height": 420,
       "width": 420
      }
     },
     "output_type": "display_data"
    }
   ],
   "source": [
    "barplot(table(total), horiz = T)"
   ]
  },
  {
   "cell_type": "code",
   "execution_count": 5,
   "id": "17ab5c1c",
   "metadata": {},
   "outputs": [
    {
     "data": {
      "image/png": "[encoded data removed]",
      "text/plain": [
       "plot without title"
      ]
     },
     "metadata": {
      "image/png": {
       "height": 420,
       "width": 420
      }
     },
     "output_type": "display_data"
    }
   ],
   "source": [
    "pie(table(total))"
   ]
  },
  {
   "cell_type": "code",
   "execution_count": 6,
   "id": "605f7ef1",
   "metadata": {},
   "outputs": [],
   "source": [
    "node = c(rep('찢어짐', 22), rep('구멍 뚫림', 15), rep('잘못 접혀짐', 5), rep('기타', 8))"
   ]
  },
  {
   "cell_type": "code",
   "execution_count": 7,
   "id": "03dc2d5c",
   "metadata": {},
   "outputs": [
    {
     "data": {
      "text/html": [
       "<style>\n",
       ".list-inline {list-style: none; margin:0; padding: 0}\n",
       ".list-inline>li {display: inline-block}\n",
       ".list-inline>li:not(:last-child)::after {content: \"\\00b7\"; padding: 0 .5ex}\n",
       "</style>\n",
       "<ol class=list-inline><li>'찢어짐'</li><li>'찢어짐'</li><li>'찢어짐'</li><li>'찢어짐'</li><li>'찢어짐'</li><li>'찢어짐'</li><li>'찢어짐'</li><li>'찢어짐'</li><li>'찢어짐'</li><li>'찢어짐'</li><li>'찢어짐'</li><li>'찢어짐'</li><li>'찢어짐'</li><li>'찢어짐'</li><li>'찢어짐'</li><li>'찢어짐'</li><li>'찢어짐'</li><li>'찢어짐'</li><li>'찢어짐'</li><li>'찢어짐'</li><li>'찢어짐'</li><li>'찢어짐'</li><li>'구멍 뚫림'</li><li>'구멍 뚫림'</li><li>'구멍 뚫림'</li><li>'구멍 뚫림'</li><li>'구멍 뚫림'</li><li>'구멍 뚫림'</li><li>'구멍 뚫림'</li><li>'구멍 뚫림'</li><li>'구멍 뚫림'</li><li>'구멍 뚫림'</li><li>'구멍 뚫림'</li><li>'구멍 뚫림'</li><li>'구멍 뚫림'</li><li>'구멍 뚫림'</li><li>'구멍 뚫림'</li><li>'잘못 접혀짐'</li><li>'잘못 접혀짐'</li><li>'잘못 접혀짐'</li><li>'잘못 접혀짐'</li><li>'잘못 접혀짐'</li><li>'기타'</li><li>'기타'</li><li>'기타'</li><li>'기타'</li><li>'기타'</li><li>'기타'</li><li>'기타'</li><li>'기타'</li></ol>\n"
      ],
      "text/latex": [
       "\\begin{enumerate*}\n",
       "\\item '찢어짐'\n",
       "\\item '찢어짐'\n",
       "\\item '찢어짐'\n",
       "\\item '찢어짐'\n",
       "\\item '찢어짐'\n",
       "\\item '찢어짐'\n",
       "\\item '찢어짐'\n",
       "\\item '찢어짐'\n",
       "\\item '찢어짐'\n",
       "\\item '찢어짐'\n",
       "\\item '찢어짐'\n",
       "\\item '찢어짐'\n",
       "\\item '찢어짐'\n",
       "\\item '찢어짐'\n",
       "\\item '찢어짐'\n",
       "\\item '찢어짐'\n",
       "\\item '찢어짐'\n",
       "\\item '찢어짐'\n",
       "\\item '찢어짐'\n",
       "\\item '찢어짐'\n",
       "\\item '찢어짐'\n",
       "\\item '찢어짐'\n",
       "\\item '구멍 뚫림'\n",
       "\\item '구멍 뚫림'\n",
       "\\item '구멍 뚫림'\n",
       "\\item '구멍 뚫림'\n",
       "\\item '구멍 뚫림'\n",
       "\\item '구멍 뚫림'\n",
       "\\item '구멍 뚫림'\n",
       "\\item '구멍 뚫림'\n",
       "\\item '구멍 뚫림'\n",
       "\\item '구멍 뚫림'\n",
       "\\item '구멍 뚫림'\n",
       "\\item '구멍 뚫림'\n",
       "\\item '구멍 뚫림'\n",
       "\\item '구멍 뚫림'\n",
       "\\item '구멍 뚫림'\n",
       "\\item '잘못 접혀짐'\n",
       "\\item '잘못 접혀짐'\n",
       "\\item '잘못 접혀짐'\n",
       "\\item '잘못 접혀짐'\n",
       "\\item '잘못 접혀짐'\n",
       "\\item '기타'\n",
       "\\item '기타'\n",
       "\\item '기타'\n",
       "\\item '기타'\n",
       "\\item '기타'\n",
       "\\item '기타'\n",
       "\\item '기타'\n",
       "\\item '기타'\n",
       "\\end{enumerate*}\n"
      ],
      "text/markdown": [
       "1. '찢어짐'\n",
       "2. '찢어짐'\n",
       "3. '찢어짐'\n",
       "4. '찢어짐'\n",
       "5. '찢어짐'\n",
       "6. '찢어짐'\n",
       "7. '찢어짐'\n",
       "8. '찢어짐'\n",
       "9. '찢어짐'\n",
       "10. '찢어짐'\n",
       "11. '찢어짐'\n",
       "12. '찢어짐'\n",
       "13. '찢어짐'\n",
       "14. '찢어짐'\n",
       "15. '찢어짐'\n",
       "16. '찢어짐'\n",
       "17. '찢어짐'\n",
       "18. '찢어짐'\n",
       "19. '찢어짐'\n",
       "20. '찢어짐'\n",
       "21. '찢어짐'\n",
       "22. '찢어짐'\n",
       "23. '구멍 뚫림'\n",
       "24. '구멍 뚫림'\n",
       "25. '구멍 뚫림'\n",
       "26. '구멍 뚫림'\n",
       "27. '구멍 뚫림'\n",
       "28. '구멍 뚫림'\n",
       "29. '구멍 뚫림'\n",
       "30. '구멍 뚫림'\n",
       "31. '구멍 뚫림'\n",
       "32. '구멍 뚫림'\n",
       "33. '구멍 뚫림'\n",
       "34. '구멍 뚫림'\n",
       "35. '구멍 뚫림'\n",
       "36. '구멍 뚫림'\n",
       "37. '구멍 뚫림'\n",
       "38. '잘못 접혀짐'\n",
       "39. '잘못 접혀짐'\n",
       "40. '잘못 접혀짐'\n",
       "41. '잘못 접혀짐'\n",
       "42. '잘못 접혀짐'\n",
       "43. '기타'\n",
       "44. '기타'\n",
       "45. '기타'\n",
       "46. '기타'\n",
       "47. '기타'\n",
       "48. '기타'\n",
       "49. '기타'\n",
       "50. '기타'\n",
       "\n",
       "\n"
      ],
      "text/plain": [
       " [1] \"찢어짐\"      \"찢어짐\"      \"찢어짐\"      \"찢어짐\"      \"찢어짐\"     \n",
       " [6] \"찢어짐\"      \"찢어짐\"      \"찢어짐\"      \"찢어짐\"      \"찢어짐\"     \n",
       "[11] \"찢어짐\"      \"찢어짐\"      \"찢어짐\"      \"찢어짐\"      \"찢어짐\"     \n",
       "[16] \"찢어짐\"      \"찢어짐\"      \"찢어짐\"      \"찢어짐\"      \"찢어짐\"     \n",
       "[21] \"찢어짐\"      \"찢어짐\"      \"구멍 뚫림\"   \"구멍 뚫림\"   \"구멍 뚫림\"  \n",
       "[26] \"구멍 뚫림\"   \"구멍 뚫림\"   \"구멍 뚫림\"   \"구멍 뚫림\"   \"구멍 뚫림\"  \n",
       "[31] \"구멍 뚫림\"   \"구멍 뚫림\"   \"구멍 뚫림\"   \"구멍 뚫림\"   \"구멍 뚫림\"  \n",
       "[36] \"구멍 뚫림\"   \"구멍 뚫림\"   \"잘못 접혀짐\" \"잘못 접혀짐\" \"잘못 접혀짐\"\n",
       "[41] \"잘못 접혀짐\" \"잘못 접혀짐\" \"기타\"        \"기타\"        \"기타\"       \n",
       "[46] \"기타\"        \"기타\"        \"기타\"        \"기타\"        \"기타\"       "
      ]
     },
     "metadata": {},
     "output_type": "display_data"
    }
   ],
   "source": [
    "node"
   ]
  },
  {
   "cell_type": "code",
   "execution_count": 8,
   "id": "c57680a5",
   "metadata": {},
   "outputs": [
    {
     "data": {
      "text/plain": [
       "node\n",
       "  구멍 뚫림        기타 잘못 접혀짐      찢어짐 \n",
       "         15           8           5          22 "
      ]
     },
     "metadata": {},
     "output_type": "display_data"
    }
   ],
   "source": [
    "table(node)"
   ]
  },
  {
   "cell_type": "code",
   "execution_count": 9,
   "id": "605d52ac",
   "metadata": {},
   "outputs": [],
   "source": [
    "x = table(node)"
   ]
  },
  {
   "cell_type": "code",
   "execution_count": 10,
   "id": "77102715",
   "metadata": {},
   "outputs": [],
   "source": [
    "freq = prop.table(x)"
   ]
  },
  {
   "cell_type": "code",
   "execution_count": 11,
   "id": "239d9463",
   "metadata": {},
   "outputs": [
    {
     "data": {
      "text/plain": [
       "node\n",
       "  구멍 뚫림        기타 잘못 접혀짐      찢어짐 \n",
       "       0.30        0.16        0.10        0.44 "
      ]
     },
     "metadata": {},
     "output_type": "display_data"
    }
   ],
   "source": [
    "freq"
   ]
  },
  {
   "cell_type": "code",
   "execution_count": 12,
   "id": "74927efe",
   "metadata": {},
   "outputs": [
    {
     "data": {
      "text/html": [
       "<style>\n",
       ".dl-inline {width: auto; margin:0; padding: 0}\n",
       ".dl-inline>dt, .dl-inline>dd {float: none; width: auto; display: inline-block}\n",
       ".dl-inline>dt::after {content: \":\\0020\"; padding-right: .5ex}\n",
       ".dl-inline>dt:not(:first-of-type) {padding-left: .5ex}\n",
       "</style><dl class=dl-inline><dt>구멍 뚫림</dt><dd>0.3</dd><dt>기타</dt><dd>0.46</dd><dt>잘못 접혀짐</dt><dd>0.56</dd><dt>찢어짐</dt><dd>1</dd></dl>\n"
      ],
      "text/latex": [
       "\\begin{description*}\n",
       "\\item[구멍 뚫림] 0.3\n",
       "\\item[기타] 0.46\n",
       "\\item[잘못 접혀짐] 0.56\n",
       "\\item[찢어짐] 1\n",
       "\\end{description*}\n"
      ],
      "text/markdown": [
       "구멍 뚫림\n",
       ":   0.3기타\n",
       ":   0.46잘못 접혀짐\n",
       ":   0.56찢어짐\n",
       ":   1\n",
       "\n"
      ],
      "text/plain": [
       "  구멍 뚫림        기타 잘못 접혀짐      찢어짐 \n",
       "       0.30        0.46        0.56        1.00 "
      ]
     },
     "metadata": {},
     "output_type": "display_data"
    }
   ],
   "source": [
    "fx = cumsum(freq)\n",
    "fx"
   ]
  },
  {
   "cell_type": "code",
   "execution_count": 13,
   "id": "ad6394d9",
   "metadata": {},
   "outputs": [
    {
     "data": {
      "text/html": [
       "<table class=\"dataframe\">\n",
       "<caption>A matrix: 4 × 3 of type dbl</caption>\n",
       "<thead>\n",
       "\t<tr><th></th><th scope=col>x</th><th scope=col>freq</th><th scope=col>fx</th></tr>\n",
       "</thead>\n",
       "<tbody>\n",
       "\t<tr><th scope=row>구멍 뚫림</th><td>15</td><td>0.30</td><td>0.30</td></tr>\n",
       "\t<tr><th scope=row>기타</th><td> 8</td><td>0.16</td><td>0.46</td></tr>\n",
       "\t<tr><th scope=row>잘못 접혀짐</th><td> 5</td><td>0.10</td><td>0.56</td></tr>\n",
       "\t<tr><th scope=row>찢어짐</th><td>22</td><td>0.44</td><td>1.00</td></tr>\n",
       "</tbody>\n",
       "</table>\n"
      ],
      "text/latex": [
       "A matrix: 4 × 3 of type dbl\n",
       "\\begin{tabular}{r|lll}\n",
       "  & x & freq & fx\\\\\n",
       "\\hline\n",
       "\t구멍 뚫림 & 15 & 0.30 & 0.30\\\\\n",
       "\t기타 &  8 & 0.16 & 0.46\\\\\n",
       "\t잘못 접혀짐 &  5 & 0.10 & 0.56\\\\\n",
       "\t찢어짐 & 22 & 0.44 & 1.00\\\\\n",
       "\\end{tabular}\n"
      ],
      "text/markdown": [
       "\n",
       "A matrix: 4 × 3 of type dbl\n",
       "\n",
       "| <!--/--> | x | freq | fx |\n",
       "|---|---|---|---|\n",
       "| 구멍 뚫림 | 15 | 0.30 | 0.30 |\n",
       "| 기타 |  8 | 0.16 | 0.46 |\n",
       "| 잘못 접혀짐 |  5 | 0.10 | 0.56 |\n",
       "| 찢어짐 | 22 | 0.44 | 1.00 |\n",
       "\n"
      ],
      "text/plain": [
       "            x  freq fx  \n",
       "구멍 뚫림   15 0.30 0.30\n",
       "기타         8 0.16 0.46\n",
       "잘못 접혀짐  5 0.10 0.56\n",
       "찢어짐      22 0.44 1.00"
      ]
     },
     "metadata": {},
     "output_type": "display_data"
    }
   ],
   "source": [
    "cbind(x, freq, fx)"
   ]
  },
  {
   "cell_type": "code",
   "execution_count": 14,
   "id": "3511fd24",
   "metadata": {},
   "outputs": [],
   "source": [
    "res = c(rep('예', 6), rep('아니요', 4))"
   ]
  },
  {
   "cell_type": "code",
   "execution_count": 15,
   "id": "66492f9b",
   "metadata": {},
   "outputs": [
    {
     "data": {
      "text/html": [
       "<style>\n",
       ".list-inline {list-style: none; margin:0; padding: 0}\n",
       ".list-inline>li {display: inline-block}\n",
       ".list-inline>li:not(:last-child)::after {content: \"\\00b7\"; padding: 0 .5ex}\n",
       "</style>\n",
       "<ol class=list-inline><li>'예'</li><li>'예'</li><li>'예'</li><li>'예'</li><li>'예'</li><li>'예'</li><li>'아니요'</li><li>'아니요'</li><li>'아니요'</li><li>'아니요'</li></ol>\n"
      ],
      "text/latex": [
       "\\begin{enumerate*}\n",
       "\\item '예'\n",
       "\\item '예'\n",
       "\\item '예'\n",
       "\\item '예'\n",
       "\\item '예'\n",
       "\\item '예'\n",
       "\\item '아니요'\n",
       "\\item '아니요'\n",
       "\\item '아니요'\n",
       "\\item '아니요'\n",
       "\\end{enumerate*}\n"
      ],
      "text/markdown": [
       "1. '예'\n",
       "2. '예'\n",
       "3. '예'\n",
       "4. '예'\n",
       "5. '예'\n",
       "6. '예'\n",
       "7. '아니요'\n",
       "8. '아니요'\n",
       "9. '아니요'\n",
       "10. '아니요'\n",
       "\n",
       "\n"
      ],
      "text/plain": [
       " [1] \"예\"     \"예\"     \"예\"     \"예\"     \"예\"     \"예\"     \"아니요\" \"아니요\"\n",
       " [9] \"아니요\" \"아니요\""
      ]
     },
     "metadata": {},
     "output_type": "display_data"
    }
   ],
   "source": [
    "res"
   ]
  },
  {
   "cell_type": "code",
   "execution_count": 16,
   "id": "d4d8fb5f",
   "metadata": {},
   "outputs": [
    {
     "data": {
      "text/plain": [
       "res\n",
       "아니요     예 \n",
       "     4      6 "
      ]
     },
     "metadata": {},
     "output_type": "display_data"
    }
   ],
   "source": [
    "table(res)"
   ]
  },
  {
   "cell_type": "code",
   "execution_count": 17,
   "id": "dcd7bea9",
   "metadata": {},
   "outputs": [
    {
     "data": {
      "image/png": "[encoded data removed]",
      "text/plain": [
       "plot without title"
      ]
     },
     "metadata": {
      "image/png": {
       "height": 420,
       "width": 420
      }
     },
     "output_type": "display_data"
    }
   ],
   "source": [
    "barplot(table(res))"
   ]
  },
  {
   "cell_type": "code",
   "execution_count": 19,
   "id": "eac41727",
   "metadata": {},
   "outputs": [
    {
     "data": {
      "image/png": "[encoded data removed]",
      "text/plain": [
       "plot without title"
      ]
     },
     "metadata": {
      "image/png": {
       "height": 420,
       "width": 420
      }
     },
     "output_type": "display_data"
    }
   ],
   "source": [
    "pie(table(res))"
   ]
  },
  {
   "cell_type": "code",
   "execution_count": 22,
   "id": "2ebafa2a",
   "metadata": {},
   "outputs": [
    {
     "data": {
      "image/png": "[encoded data removed]",
      "text/plain": [
       "Plot with title \"구매 의사\""
      ]
     },
     "metadata": {
      "image/png": {
       "height": 420,
       "width": 420
      }
     },
     "output_type": "display_data"
    }
   ],
   "source": [
    "barplot(table(res),\n",
    "       horiz = T,\n",
    "       las = 1,\n",
    "       main = '구매 의사',\n",
    "       xlab = 'Frequency',\n",
    "       ylab = '구분')"
   ]
  },
  {
   "cell_type": "code",
   "execution_count": 24,
   "id": "5e601e0c",
   "metadata": {},
   "outputs": [
    {
     "data": {
      "image/png": "[encoded data removed]",
      "text/plain": [
       "Plot with title \"구매 의사 원그래프\""
      ]
     },
     "metadata": {
      "image/png": {
       "height": 420,
       "width": 420
      }
     },
     "output_type": "display_data"
    }
   ],
   "source": [
    "pie(table(res),\n",
    "   main = '구매 의사 원그래프',\n",
    "   sub = 'Response')"
   ]
  },
  {
   "cell_type": "code",
   "execution_count": 25,
   "id": "2e76eb7d",
   "metadata": {},
   "outputs": [
    {
     "data": {
      "text/html": [
       "<table class=\"dataframe\">\n",
       "<caption>A matrix: 2 × 3 of type dbl</caption>\n",
       "<tbody>\n",
       "\t<tr><td>29</td><td>17</td><td>18</td></tr>\n",
       "\t<tr><td>19</td><td>20</td><td> 3</td></tr>\n",
       "</tbody>\n",
       "</table>\n"
      ],
      "text/latex": [
       "A matrix: 2 × 3 of type dbl\n",
       "\\begin{tabular}{lll}\n",
       "\t 29 & 17 & 18\\\\\n",
       "\t 19 & 20 &  3\\\\\n",
       "\\end{tabular}\n"
      ],
      "text/markdown": [
       "\n",
       "A matrix: 2 × 3 of type dbl\n",
       "\n",
       "| 29 | 17 | 18 |\n",
       "| 19 | 20 |  3 |\n",
       "\n"
      ],
      "text/plain": [
       "     [,1] [,2] [,3]\n",
       "[1,] 29   17   18  \n",
       "[2,] 19   20    3  "
      ]
     },
     "metadata": {},
     "output_type": "display_data"
    }
   ],
   "source": [
    "mat1 = matrix(c(29, 17, 18, 19, 20, 3), nrow = 2, byrow = T) \n",
    "mat1"
   ]
  },
  {
   "cell_type": "code",
   "execution_count": 26,
   "id": "bd9f6f08",
   "metadata": {},
   "outputs": [],
   "source": [
    "dimnames(mat1)[[1]] = c('심각하지 않은 심장발작', '심각한 심장 발작')"
   ]
  },
  {
   "cell_type": "code",
   "execution_count": 28,
   "id": "4caa1389",
   "metadata": {},
   "outputs": [],
   "source": [
    "dimnames(mat1)[[2]] = c('낮은 콜레스테롤', '중간 콜레스테롤', '높은 콜레스테롤')"
   ]
  },
  {
   "cell_type": "code",
   "execution_count": 29,
   "id": "48bb2b23",
   "metadata": {},
   "outputs": [
    {
     "data": {
      "text/html": [
       "<table class=\"dataframe\">\n",
       "<caption>A matrix: 2 × 3 of type dbl</caption>\n",
       "<thead>\n",
       "\t<tr><th></th><th scope=col>낮은 콜레스테롤</th><th scope=col>중간 콜레스테롤</th><th scope=col>높은 콜레스테롤</th></tr>\n",
       "</thead>\n",
       "<tbody>\n",
       "\t<tr><th scope=row>심각하지 않은 심장발작</th><td>29</td><td>17</td><td>18</td></tr>\n",
       "\t<tr><th scope=row>심각한 심장 발작</th><td>19</td><td>20</td><td> 3</td></tr>\n",
       "</tbody>\n",
       "</table>\n"
      ],
      "text/latex": [
       "A matrix: 2 × 3 of type dbl\n",
       "\\begin{tabular}{r|lll}\n",
       "  & 낮은 콜레스테롤 & 중간 콜레스테롤 & 높은 콜레스테롤\\\\\n",
       "\\hline\n",
       "\t심각하지 않은 심장발작 & 29 & 17 & 18\\\\\n",
       "\t심각한 심장 발작 & 19 & 20 &  3\\\\\n",
       "\\end{tabular}\n"
      ],
      "text/markdown": [
       "\n",
       "A matrix: 2 × 3 of type dbl\n",
       "\n",
       "| <!--/--> | 낮은 콜레스테롤 | 중간 콜레스테롤 | 높은 콜레스테롤 |\n",
       "|---|---|---|---|\n",
       "| 심각하지 않은 심장발작 | 29 | 17 | 18 |\n",
       "| 심각한 심장 발작 | 19 | 20 |  3 |\n",
       "\n"
      ],
      "text/plain": [
       "                       낮은 콜레스테롤 중간 콜레스테롤 높은 콜레스테롤\n",
       "심각하지 않은 심장발작 29              17              18             \n",
       "심각한 심장 발작       19              20               3             "
      ]
     },
     "metadata": {},
     "output_type": "display_data"
    }
   ],
   "source": [
    "mat1"
   ]
  },
  {
   "cell_type": "code",
   "execution_count": 30,
   "id": "2f42f0d4",
   "metadata": {},
   "outputs": [
    {
     "data": {
      "text/html": [
       "<table class=\"dataframe\">\n",
       "<caption>A matrix: 2 × 3 of type dbl</caption>\n",
       "<thead>\n",
       "\t<tr><th></th><th scope=col>낮은 콜레스테롤</th><th scope=col>중간 콜레스테롤</th><th scope=col>높은 콜레스테롤</th></tr>\n",
       "</thead>\n",
       "<tbody>\n",
       "\t<tr><th scope=row>심각하지 않은 심장발작</th><td>0.2735849</td><td>0.1603774</td><td>0.16981132</td></tr>\n",
       "\t<tr><th scope=row>심각한 심장 발작</th><td>0.1792453</td><td>0.1886792</td><td>0.02830189</td></tr>\n",
       "</tbody>\n",
       "</table>\n"
      ],
      "text/latex": [
       "A matrix: 2 × 3 of type dbl\n",
       "\\begin{tabular}{r|lll}\n",
       "  & 낮은 콜레스테롤 & 중간 콜레스테롤 & 높은 콜레스테롤\\\\\n",
       "\\hline\n",
       "\t심각하지 않은 심장발작 & 0.2735849 & 0.1603774 & 0.16981132\\\\\n",
       "\t심각한 심장 발작 & 0.1792453 & 0.1886792 & 0.02830189\\\\\n",
       "\\end{tabular}\n"
      ],
      "text/markdown": [
       "\n",
       "A matrix: 2 × 3 of type dbl\n",
       "\n",
       "| <!--/--> | 낮은 콜레스테롤 | 중간 콜레스테롤 | 높은 콜레스테롤 |\n",
       "|---|---|---|---|\n",
       "| 심각하지 않은 심장발작 | 0.2735849 | 0.1603774 | 0.16981132 |\n",
       "| 심각한 심장 발작 | 0.1792453 | 0.1886792 | 0.02830189 |\n",
       "\n"
      ],
      "text/plain": [
       "                       낮은 콜레스테롤 중간 콜레스테롤 높은 콜레스테롤\n",
       "심각하지 않은 심장발작 0.2735849       0.1603774       0.16981132     \n",
       "심각한 심장 발작       0.1792453       0.1886792       0.02830189     "
      ]
     },
     "metadata": {},
     "output_type": "display_data"
    }
   ],
   "source": [
    "prop.table(mat1)"
   ]
  },
  {
   "cell_type": "code",
   "execution_count": 34,
   "id": "c23411d6",
   "metadata": {},
   "outputs": [
    {
     "data": {
      "image/png": "[encoded data removed]",
      "text/plain": [
       "Plot with title \"콜레스테롤에 따른 심장 발작의 분포\""
      ]
     },
     "metadata": {
      "image/png": {
       "height": 420,
       "width": 420
      }
     },
     "output_type": "display_data"
    }
   ],
   "source": [
    "barplot(prop.table(mat1),\n",
    "       beside = T,\n",
    "       col = c('salmon','wheat'),\n",
    "       main  = '콜레스테롤에 따른 심장 발작의 분포',\n",
    "       xlab = '타입',\n",
    "       las = 1,\n",
    "       ylab = '빈도')"
   ]
  },
  {
   "cell_type": "code",
   "execution_count": 35,
   "id": "a664f97b",
   "metadata": {},
   "outputs": [
    {
     "data": {
      "image/png": "[encoded data removed]",
      "text/plain": [
       "Plot with title \"콜레스테롤에 따른 심장 발작의 분포\""
      ]
     },
     "metadata": {
      "image/png": {
       "height": 420,
       "width": 420
      }
     },
     "output_type": "display_data"
    }
   ],
   "source": [
    "barplot(t(prop.table(mat1)),\n",
    "       beside = T,\n",
    "       col = c('salmon','wheat'),\n",
    "       main  = '콜레스테롤에 따른 심장 발작의 분포',\n",
    "       xlab = '타입',\n",
    "       las = 1,\n",
    "       ylab = '빈도')"
   ]
  },
  {
   "cell_type": "code",
   "execution_count": 36,
   "id": "6c8db667",
   "metadata": {},
   "outputs": [],
   "source": [
    "table1 = margin.table(mat1, 1)"
   ]
  },
  {
   "cell_type": "code",
   "execution_count": 37,
   "id": "e7aba4fd",
   "metadata": {},
   "outputs": [
    {
     "data": {
      "text/html": [
       "<style>\n",
       ".dl-inline {width: auto; margin:0; padding: 0}\n",
       ".dl-inline>dt, .dl-inline>dd {float: none; width: auto; display: inline-block}\n",
       ".dl-inline>dt::after {content: \":\\0020\"; padding-right: .5ex}\n",
       ".dl-inline>dt:not(:first-of-type) {padding-left: .5ex}\n",
       "</style><dl class=dl-inline><dt>심각하지 않은 심장발작</dt><dd>64</dd><dt>심각한 심장 발작</dt><dd>42</dd></dl>\n"
      ],
      "text/latex": [
       "\\begin{description*}\n",
       "\\item[심각하지 않은 심장발작] 64\n",
       "\\item[심각한 심장 발작] 42\n",
       "\\end{description*}\n"
      ],
      "text/markdown": [
       "심각하지 않은 심장발작\n",
       ":   64심각한 심장 발작\n",
       ":   42\n",
       "\n"
      ],
      "text/plain": [
       "심각하지 않은 심장발작       심각한 심장 발작 \n",
       "                    64                     42 "
      ]
     },
     "metadata": {},
     "output_type": "display_data"
    }
   ],
   "source": [
    "table1"
   ]
  },
  {
   "cell_type": "code",
   "execution_count": 38,
   "id": "4cfc003d",
   "metadata": {},
   "outputs": [],
   "source": [
    "table2 = prop.table(table1)"
   ]
  },
  {
   "cell_type": "code",
   "execution_count": 39,
   "id": "523eac0f",
   "metadata": {},
   "outputs": [
    {
     "data": {
      "text/html": [
       "<style>\n",
       ".dl-inline {width: auto; margin:0; padding: 0}\n",
       ".dl-inline>dt, .dl-inline>dd {float: none; width: auto; display: inline-block}\n",
       ".dl-inline>dt::after {content: \":\\0020\"; padding-right: .5ex}\n",
       ".dl-inline>dt:not(:first-of-type) {padding-left: .5ex}\n",
       "</style><dl class=dl-inline><dt>심각하지 않은 심장발작</dt><dd>0.60377358490566</dd><dt>심각한 심장 발작</dt><dd>0.39622641509434</dd></dl>\n"
      ],
      "text/latex": [
       "\\begin{description*}\n",
       "\\item[심각하지 않은 심장발작] 0.60377358490566\n",
       "\\item[심각한 심장 발작] 0.39622641509434\n",
       "\\end{description*}\n"
      ],
      "text/markdown": [
       "심각하지 않은 심장발작\n",
       ":   0.60377358490566심각한 심장 발작\n",
       ":   0.39622641509434\n",
       "\n"
      ],
      "text/plain": [
       "심각하지 않은 심장발작       심각한 심장 발작 \n",
       "             0.6037736              0.3962264 "
      ]
     },
     "metadata": {},
     "output_type": "display_data"
    }
   ],
   "source": [
    "table2"
   ]
  },
  {
   "cell_type": "code",
   "execution_count": 40,
   "id": "3d849d4f",
   "metadata": {},
   "outputs": [
    {
     "data": {
      "image/png": "[encoded data removed]",
      "text/plain": [
       "plot without title"
      ]
     },
     "metadata": {
      "image/png": {
       "height": 420,
       "width": 420
      }
     },
     "output_type": "display_data"
    }
   ],
   "source": [
    "barplot(table2)"
   ]
  },
  {
   "cell_type": "code",
   "execution_count": 41,
   "id": "574ba28d",
   "metadata": {},
   "outputs": [],
   "source": [
    "table1 = margin.table(mat1, 2)"
   ]
  },
  {
   "cell_type": "code",
   "execution_count": 43,
   "id": "69830d74",
   "metadata": {},
   "outputs": [
    {
     "data": {
      "text/html": [
       "<style>\n",
       ".dl-inline {width: auto; margin:0; padding: 0}\n",
       ".dl-inline>dt, .dl-inline>dd {float: none; width: auto; display: inline-block}\n",
       ".dl-inline>dt::after {content: \":\\0020\"; padding-right: .5ex}\n",
       ".dl-inline>dt:not(:first-of-type) {padding-left: .5ex}\n",
       "</style><dl class=dl-inline><dt>낮은 콜레스테롤</dt><dd>48</dd><dt>중간 콜레스테롤</dt><dd>37</dd><dt>높은 콜레스테롤</dt><dd>21</dd></dl>\n"
      ],
      "text/latex": [
       "\\begin{description*}\n",
       "\\item[낮은 콜레스테롤] 48\n",
       "\\item[중간 콜레스테롤] 37\n",
       "\\item[높은 콜레스테롤] 21\n",
       "\\end{description*}\n"
      ],
      "text/markdown": [
       "낮은 콜레스테롤\n",
       ":   48중간 콜레스테롤\n",
       ":   37높은 콜레스테롤\n",
       ":   21\n",
       "\n"
      ],
      "text/plain": [
       "낮은 콜레스테롤 중간 콜레스테롤 높은 콜레스테롤 \n",
       "             48              37              21 "
      ]
     },
     "metadata": {},
     "output_type": "display_data"
    }
   ],
   "source": [
    "table1"
   ]
  },
  {
   "cell_type": "code",
   "execution_count": 45,
   "id": "81b43211",
   "metadata": {},
   "outputs": [
    {
     "data": {
      "image/png": "[encoded data removed]",
      "text/plain": [
       "plot without title"
      ]
     },
     "metadata": {
      "image/png": {
       "height": 420,
       "width": 420
      }
     },
     "output_type": "display_data"
    }
   ],
   "source": [
    "barplot(prop.table(table1),\n",
    "       las = 1)"
   ]
  },
  {
   "cell_type": "code",
   "execution_count": 46,
   "id": "48d6c0de",
   "metadata": {},
   "outputs": [],
   "source": [
    "total = matrix(c(137, 22, 40, 218, 34, 67, 153, 30, 68), nrow = 3, byrow = T)"
   ]
  },
  {
   "cell_type": "code",
   "execution_count": 47,
   "id": "06c98820",
   "metadata": {},
   "outputs": [
    {
     "data": {
      "text/html": [
       "<table class=\"dataframe\">\n",
       "<caption>A matrix: 3 × 3 of type dbl</caption>\n",
       "<tbody>\n",
       "\t<tr><td>137</td><td>22</td><td>40</td></tr>\n",
       "\t<tr><td>218</td><td>34</td><td>67</td></tr>\n",
       "\t<tr><td>153</td><td>30</td><td>68</td></tr>\n",
       "</tbody>\n",
       "</table>\n"
      ],
      "text/latex": [
       "A matrix: 3 × 3 of type dbl\n",
       "\\begin{tabular}{lll}\n",
       "\t 137 & 22 & 40\\\\\n",
       "\t 218 & 34 & 67\\\\\n",
       "\t 153 & 30 & 68\\\\\n",
       "\\end{tabular}\n"
      ],
      "text/markdown": [
       "\n",
       "A matrix: 3 × 3 of type dbl\n",
       "\n",
       "| 137 | 22 | 40 |\n",
       "| 218 | 34 | 67 |\n",
       "| 153 | 30 | 68 |\n",
       "\n"
      ],
      "text/plain": [
       "     [,1] [,2] [,3]\n",
       "[1,] 137  22   40  \n",
       "[2,] 218  34   67  \n",
       "[3,] 153  30   68  "
      ]
     },
     "metadata": {},
     "output_type": "display_data"
    }
   ],
   "source": [
    "total"
   ]
  },
  {
   "cell_type": "code",
   "execution_count": 48,
   "id": "fa9d5e03",
   "metadata": {},
   "outputs": [],
   "source": [
    "dimnames(total)[[1]] = c('< 25', '25~28','>28')"
   ]
  },
  {
   "cell_type": "code",
   "execution_count": 49,
   "id": "5736b16b",
   "metadata": {},
   "outputs": [
    {
     "data": {
      "text/html": [
       "<table class=\"dataframe\">\n",
       "<caption>A matrix: 3 × 3 of type dbl</caption>\n",
       "<tbody>\n",
       "\t<tr><th scope=row>&lt; 25</th><td>137</td><td>22</td><td>40</td></tr>\n",
       "\t<tr><th scope=row>25~28</th><td>218</td><td>34</td><td>67</td></tr>\n",
       "\t<tr><th scope=row>&gt;28</th><td>153</td><td>30</td><td>68</td></tr>\n",
       "</tbody>\n",
       "</table>\n"
      ],
      "text/latex": [
       "A matrix: 3 × 3 of type dbl\n",
       "\\begin{tabular}{r|lll}\n",
       "\t< 25 & 137 & 22 & 40\\\\\n",
       "\t25\\textasciitilde{}28 & 218 & 34 & 67\\\\\n",
       "\t>28 & 153 & 30 & 68\\\\\n",
       "\\end{tabular}\n"
      ],
      "text/markdown": [
       "\n",
       "A matrix: 3 × 3 of type dbl\n",
       "\n",
       "| &lt; 25 | 137 | 22 | 40 |\n",
       "| 25~28 | 218 | 34 | 67 |\n",
       "| &gt;28 | 153 | 30 | 68 |\n",
       "\n"
      ],
      "text/plain": [
       "      [,1] [,2] [,3]\n",
       "< 25  137  22   40  \n",
       "25~28 218  34   67  \n",
       ">28   153  30   68  "
      ]
     },
     "metadata": {},
     "output_type": "display_data"
    }
   ],
   "source": [
    "total"
   ]
  },
  {
   "cell_type": "code",
   "execution_count": 50,
   "id": "be86fb37",
   "metadata": {},
   "outputs": [],
   "source": [
    "dimnames(total)[[2]] = c('이상 없음','이마','정수리')"
   ]
  },
  {
   "cell_type": "code",
   "execution_count": 51,
   "id": "da36c84b",
   "metadata": {},
   "outputs": [
    {
     "data": {
      "text/html": [
       "<table class=\"dataframe\">\n",
       "<caption>A matrix: 3 × 3 of type dbl</caption>\n",
       "<thead>\n",
       "\t<tr><th></th><th scope=col>이상 없음</th><th scope=col>이마</th><th scope=col>정수리</th></tr>\n",
       "</thead>\n",
       "<tbody>\n",
       "\t<tr><th scope=row>&lt; 25</th><td>137</td><td>22</td><td>40</td></tr>\n",
       "\t<tr><th scope=row>25~28</th><td>218</td><td>34</td><td>67</td></tr>\n",
       "\t<tr><th scope=row>&gt;28</th><td>153</td><td>30</td><td>68</td></tr>\n",
       "</tbody>\n",
       "</table>\n"
      ],
      "text/latex": [
       "A matrix: 3 × 3 of type dbl\n",
       "\\begin{tabular}{r|lll}\n",
       "  & 이상 없음 & 이마 & 정수리\\\\\n",
       "\\hline\n",
       "\t< 25 & 137 & 22 & 40\\\\\n",
       "\t25\\textasciitilde{}28 & 218 & 34 & 67\\\\\n",
       "\t>28 & 153 & 30 & 68\\\\\n",
       "\\end{tabular}\n"
      ],
      "text/markdown": [
       "\n",
       "A matrix: 3 × 3 of type dbl\n",
       "\n",
       "| <!--/--> | 이상 없음 | 이마 | 정수리 |\n",
       "|---|---|---|---|\n",
       "| &lt; 25 | 137 | 22 | 40 |\n",
       "| 25~28 | 218 | 34 | 67 |\n",
       "| &gt;28 | 153 | 30 | 68 |\n",
       "\n"
      ],
      "text/plain": [
       "      이상 없음 이마 정수리\n",
       "< 25  137       22   40    \n",
       "25~28 218       34   67    \n",
       ">28   153       30   68    "
      ]
     },
     "metadata": {},
     "output_type": "display_data"
    }
   ],
   "source": [
    "total"
   ]
  },
  {
   "cell_type": "code",
   "execution_count": 52,
   "id": "f1eb43cc",
   "metadata": {},
   "outputs": [],
   "source": [
    "table = margin.table(total, 1)"
   ]
  },
  {
   "cell_type": "code",
   "execution_count": 53,
   "id": "c8ca7ca6",
   "metadata": {},
   "outputs": [
    {
     "data": {
      "text/html": [
       "<style>\n",
       ".dl-inline {width: auto; margin:0; padding: 0}\n",
       ".dl-inline>dt, .dl-inline>dd {float: none; width: auto; display: inline-block}\n",
       ".dl-inline>dt::after {content: \":\\0020\"; padding-right: .5ex}\n",
       ".dl-inline>dt:not(:first-of-type) {padding-left: .5ex}\n",
       "</style><dl class=dl-inline><dt>&lt; 25</dt><dd>199</dd><dt>25~28</dt><dd>319</dd><dt>&gt;28</dt><dd>251</dd></dl>\n"
      ],
      "text/latex": [
       "\\begin{description*}\n",
       "\\item[< 25] 199\n",
       "\\item[25\\textbackslash{}textasciitilde\\{\\}28] 319\n",
       "\\item[>28] 251\n",
       "\\end{description*}\n"
      ],
      "text/markdown": [
       "&amp;lt; 25\n",
       ":   19925~28\n",
       ":   319&amp;gt;28\n",
       ":   251\n",
       "\n"
      ],
      "text/plain": [
       " < 25 25~28   >28 \n",
       "  199   319   251 "
      ]
     },
     "metadata": {},
     "output_type": "display_data"
    }
   ],
   "source": [
    "table"
   ]
  },
  {
   "cell_type": "code",
   "execution_count": 55,
   "id": "fa112205",
   "metadata": {},
   "outputs": [
    {
     "data": {
      "image/png": "[encoded data removed]",
      "text/plain": [
       "plot without title"
      ]
     },
     "metadata": {
      "image/png": {
       "height": 420,
       "width": 420
      }
     },
     "output_type": "display_data"
    }
   ],
   "source": [
    "barplot(prop.table(table),\n",
    "       las = 1)"
   ]
  },
  {
   "cell_type": "code",
   "execution_count": 59,
   "id": "9ffa194b",
   "metadata": {},
   "outputs": [],
   "source": [
    "table = margin.table(total, 2)"
   ]
  },
  {
   "cell_type": "code",
   "execution_count": 58,
   "id": "39d082df",
   "metadata": {},
   "outputs": [
    {
     "data": {
      "text/html": [
       "<table class=\"dataframe\">\n",
       "<caption>A matrix: 3 × 3 of type dbl</caption>\n",
       "<thead>\n",
       "\t<tr><th></th><th scope=col>이상 없음</th><th scope=col>이마</th><th scope=col>정수리</th></tr>\n",
       "</thead>\n",
       "<tbody>\n",
       "\t<tr><th scope=row>&lt; 25</th><td>137</td><td>22</td><td>40</td></tr>\n",
       "\t<tr><th scope=row>25~28</th><td>218</td><td>34</td><td>67</td></tr>\n",
       "\t<tr><th scope=row>&gt;28</th><td>153</td><td>30</td><td>68</td></tr>\n",
       "</tbody>\n",
       "</table>\n"
      ],
      "text/latex": [
       "A matrix: 3 × 3 of type dbl\n",
       "\\begin{tabular}{r|lll}\n",
       "  & 이상 없음 & 이마 & 정수리\\\\\n",
       "\\hline\n",
       "\t< 25 & 137 & 22 & 40\\\\\n",
       "\t25\\textasciitilde{}28 & 218 & 34 & 67\\\\\n",
       "\t>28 & 153 & 30 & 68\\\\\n",
       "\\end{tabular}\n"
      ],
      "text/markdown": [
       "\n",
       "A matrix: 3 × 3 of type dbl\n",
       "\n",
       "| <!--/--> | 이상 없음 | 이마 | 정수리 |\n",
       "|---|---|---|---|\n",
       "| &lt; 25 | 137 | 22 | 40 |\n",
       "| 25~28 | 218 | 34 | 67 |\n",
       "| &gt;28 | 153 | 30 | 68 |\n",
       "\n"
      ],
      "text/plain": [
       "      이상 없음 이마 정수리\n",
       "< 25  137       22   40    \n",
       "25~28 218       34   67    \n",
       ">28   153       30   68    "
      ]
     },
     "metadata": {},
     "output_type": "display_data"
    }
   ],
   "source": [
    "total"
   ]
  },
  {
   "cell_type": "code",
   "execution_count": 60,
   "id": "60c4076d",
   "metadata": {},
   "outputs": [
    {
     "data": {
      "text/html": [
       "<style>\n",
       ".dl-inline {width: auto; margin:0; padding: 0}\n",
       ".dl-inline>dt, .dl-inline>dd {float: none; width: auto; display: inline-block}\n",
       ".dl-inline>dt::after {content: \":\\0020\"; padding-right: .5ex}\n",
       ".dl-inline>dt:not(:first-of-type) {padding-left: .5ex}\n",
       "</style><dl class=dl-inline><dt>이상 없음</dt><dd>508</dd><dt>이마</dt><dd>86</dd><dt>정수리</dt><dd>175</dd></dl>\n"
      ],
      "text/latex": [
       "\\begin{description*}\n",
       "\\item[이상 없음] 508\n",
       "\\item[이마] 86\n",
       "\\item[정수리] 175\n",
       "\\end{description*}\n"
      ],
      "text/markdown": [
       "이상 없음\n",
       ":   508이마\n",
       ":   86정수리\n",
       ":   175\n",
       "\n"
      ],
      "text/plain": [
       "이상 없음      이마    정수리 \n",
       "      508        86       175 "
      ]
     },
     "metadata": {},
     "output_type": "display_data"
    }
   ],
   "source": [
    "table"
   ]
  },
  {
   "cell_type": "code",
   "execution_count": 61,
   "id": "e4548bd8",
   "metadata": {},
   "outputs": [
    {
     "data": {
      "text/html": [
       "<style>\n",
       ".dl-inline {width: auto; margin:0; padding: 0}\n",
       ".dl-inline>dt, .dl-inline>dd {float: none; width: auto; display: inline-block}\n",
       ".dl-inline>dt::after {content: \":\\0020\"; padding-right: .5ex}\n",
       ".dl-inline>dt:not(:first-of-type) {padding-left: .5ex}\n",
       "</style><dl class=dl-inline><dt>이상 없음</dt><dd>508</dd><dt>이마</dt><dd>86</dd><dt>정수리</dt><dd>175</dd></dl>\n"
      ],
      "text/latex": [
       "\\begin{description*}\n",
       "\\item[이상 없음] 508\n",
       "\\item[이마] 86\n",
       "\\item[정수리] 175\n",
       "\\end{description*}\n"
      ],
      "text/markdown": [
       "이상 없음\n",
       ":   508이마\n",
       ":   86정수리\n",
       ":   175\n",
       "\n"
      ],
      "text/plain": [
       "이상 없음      이마    정수리 \n",
       "      508        86       175 "
      ]
     },
     "metadata": {},
     "output_type": "display_data"
    }
   ],
   "source": [
    "table"
   ]
  },
  {
   "cell_type": "code",
   "execution_count": 62,
   "id": "c7ba5d78",
   "metadata": {},
   "outputs": [
    {
     "data": {
      "image/png": "[encoded data removed]",
      "text/plain": [
       "plot without title"
      ]
     },
     "metadata": {
      "image/png": {
       "height": 420,
       "width": 420
      }
     },
     "output_type": "display_data"
    }
   ],
   "source": [
    "barplot(prop.table(table), las = 1)"
   ]
  },
  {
   "cell_type": "code",
   "execution_count": 68,
   "id": "7a73f46f",
   "metadata": {},
   "outputs": [
    {
     "data": {
      "image/png": "[encoded data removed]",
      "text/plain": [
       "Plot with title \"신체 용적 지수 그래프\""
      ]
     },
     "metadata": {
      "image/png": {
       "height": 420,
       "width": 420
      }
     },
     "output_type": "display_data"
    }
   ],
   "source": [
    "barplot(t(total),\n",
    "       main = '신체 용적 지수 그래프',\n",
    "       las = 1,\n",
    "       legend.text = T,\n",
    "       args.legend = list(bty = 'n'),\n",
    "       beside = T,\n",
    "       xlab = '신체 용적 지수',\n",
    "       ylab = '비율')"
   ]
  },
  {
   "cell_type": "code",
   "execution_count": 72,
   "id": "207767d1",
   "metadata": {},
   "outputs": [
    {
     "data": {
      "image/png": "[encoded data removed]",
      "text/plain": [
       "Plot with title \"신체 용적 지수 그래프\""
      ]
     },
     "metadata": {
      "image/png": {
       "height": 420,
       "width": 420
      }
     },
     "output_type": "display_data"
    }
   ],
   "source": [
    "barplot(t(prop.table(total, 1)),\n",
    "       main = '신체 용적 지수 그래프',\n",
    "       las = 1,\n",
    "       legend.text = T,\n",
    "       args.legend = list(bty = 'y'),\n",
    "       beside = T,\n",
    "       xlab = '신체 용적 지수',\n",
    "       ylab = '비율')"
   ]
  },
  {
   "cell_type": "code",
   "execution_count": 77,
   "id": "17b694a0",
   "metadata": {},
   "outputs": [
    {
     "data": {
      "image/png": "[encoded data removed]",
      "text/plain": [
       "plot without title"
      ]
     },
     "metadata": {
      "image/png": {
       "height": 420,
       "width": 420
      }
     },
     "output_type": "display_data"
    }
   ],
   "source": [
    "barplot(t(total),\n",
    "       legend.text = c('none','fore','crown'),\n",
    "       col = c('pink','orange','red'))"
   ]
  },
  {
   "cell_type": "code",
   "execution_count": 1,
   "id": "f48af22a",
   "metadata": {},
   "outputs": [],
   "source": [
    "data = c(rep('농구', 10), rep('야구', 7), rep('미식 축구', 6), rep('테니스', 5), rep('하키', 2))"
   ]
  },
  {
   "cell_type": "code",
   "execution_count": 2,
   "id": "611565ce",
   "metadata": {},
   "outputs": [
    {
     "data": {
      "text/html": [
       "<style>\n",
       ".list-inline {list-style: none; margin:0; padding: 0}\n",
       ".list-inline>li {display: inline-block}\n",
       ".list-inline>li:not(:last-child)::after {content: \"\\00b7\"; padding: 0 .5ex}\n",
       "</style>\n",
       "<ol class=list-inline><li>'농구'</li><li>'농구'</li><li>'농구'</li><li>'농구'</li><li>'농구'</li><li>'농구'</li><li>'농구'</li><li>'농구'</li><li>'농구'</li><li>'농구'</li><li>'야구'</li><li>'야구'</li><li>'야구'</li><li>'야구'</li><li>'야구'</li><li>'야구'</li><li>'야구'</li><li>'미식 축구'</li><li>'미식 축구'</li><li>'미식 축구'</li><li>'미식 축구'</li><li>'미식 축구'</li><li>'미식 축구'</li><li>'테니스'</li><li>'테니스'</li><li>'테니스'</li><li>'테니스'</li><li>'테니스'</li><li>'하키'</li><li>'하키'</li></ol>\n"
      ],
      "text/latex": [
       "\\begin{enumerate*}\n",
       "\\item '농구'\n",
       "\\item '농구'\n",
       "\\item '농구'\n",
       "\\item '농구'\n",
       "\\item '농구'\n",
       "\\item '농구'\n",
       "\\item '농구'\n",
       "\\item '농구'\n",
       "\\item '농구'\n",
       "\\item '농구'\n",
       "\\item '야구'\n",
       "\\item '야구'\n",
       "\\item '야구'\n",
       "\\item '야구'\n",
       "\\item '야구'\n",
       "\\item '야구'\n",
       "\\item '야구'\n",
       "\\item '미식 축구'\n",
       "\\item '미식 축구'\n",
       "\\item '미식 축구'\n",
       "\\item '미식 축구'\n",
       "\\item '미식 축구'\n",
       "\\item '미식 축구'\n",
       "\\item '테니스'\n",
       "\\item '테니스'\n",
       "\\item '테니스'\n",
       "\\item '테니스'\n",
       "\\item '테니스'\n",
       "\\item '하키'\n",
       "\\item '하키'\n",
       "\\end{enumerate*}\n"
      ],
      "text/markdown": [
       "1. '농구'\n",
       "2. '농구'\n",
       "3. '농구'\n",
       "4. '농구'\n",
       "5. '농구'\n",
       "6. '농구'\n",
       "7. '농구'\n",
       "8. '농구'\n",
       "9. '농구'\n",
       "10. '농구'\n",
       "11. '야구'\n",
       "12. '야구'\n",
       "13. '야구'\n",
       "14. '야구'\n",
       "15. '야구'\n",
       "16. '야구'\n",
       "17. '야구'\n",
       "18. '미식 축구'\n",
       "19. '미식 축구'\n",
       "20. '미식 축구'\n",
       "21. '미식 축구'\n",
       "22. '미식 축구'\n",
       "23. '미식 축구'\n",
       "24. '테니스'\n",
       "25. '테니스'\n",
       "26. '테니스'\n",
       "27. '테니스'\n",
       "28. '테니스'\n",
       "29. '하키'\n",
       "30. '하키'\n",
       "\n",
       "\n"
      ],
      "text/plain": [
       " [1] \"농구\"      \"농구\"      \"농구\"      \"농구\"      \"농구\"      \"농구\"     \n",
       " [7] \"농구\"      \"농구\"      \"농구\"      \"농구\"      \"야구\"      \"야구\"     \n",
       "[13] \"야구\"      \"야구\"      \"야구\"      \"야구\"      \"야구\"      \"미식 축구\"\n",
       "[19] \"미식 축구\" \"미식 축구\" \"미식 축구\" \"미식 축구\" \"미식 축구\" \"테니스\"   \n",
       "[25] \"테니스\"    \"테니스\"    \"테니스\"    \"테니스\"    \"하키\"      \"하키\"     "
      ]
     },
     "metadata": {},
     "output_type": "display_data"
    }
   ],
   "source": [
    "data"
   ]
  },
  {
   "cell_type": "code",
   "execution_count": 12,
   "id": "0875b952",
   "metadata": {},
   "outputs": [
    {
     "name": "stderr",
     "output_type": "stream",
     "text": [
      "Warning message in dotchart(table(data), main = \"Dot chart\", xlab = \"count\"):\n",
      "\"'x' is neither a vector nor a matrix: using as.numeric(x)\"\n"
     ]
    },
    {
     "data": {
      "image/png": "[encoded data removed]",
      "text/plain": [
       "Plot with title \"Dot chart\""
      ]
     },
     "metadata": {
      "image/png": {
       "height": 420,
       "width": 420
      }
     },
     "output_type": "display_data"
    }
   ],
   "source": [
    "dotchart(table(data),\n",
    "        main = 'Dot chart',\n",
    "        xlab = 'count')"
   ]
  },
  {
   "cell_type": "code",
   "execution_count": 10,
   "id": "3035add6",
   "metadata": {},
   "outputs": [
    {
     "data": {
      "image/png": "[encoded data removed]",
      "text/plain": [
       "plot without title"
      ]
     },
     "metadata": {
      "image/png": {
       "height": 420,
       "width": 420
      }
     },
     "output_type": "display_data"
    }
   ],
   "source": [
    "plot(table(data), type = 'p'\n",
    "    ,las = 1)"
   ]
  },
  {
   "cell_type": "code",
   "execution_count": 13,
   "id": "222d4c8e",
   "metadata": {},
   "outputs": [],
   "source": [
    "time = c(15, 8, 23, 21, 5, 17, 31, 22, 34, 6,\n",
    "        5, 10, 14, 17, 16, 25, 30, 3, 31, 19)"
   ]
  },
  {
   "cell_type": "code",
   "execution_count": 14,
   "id": "a7517572",
   "metadata": {},
   "outputs": [
    {
     "data": {
      "text/html": [
       "<style>\n",
       ".list-inline {list-style: none; margin:0; padding: 0}\n",
       ".list-inline>li {display: inline-block}\n",
       ".list-inline>li:not(:last-child)::after {content: \"\\00b7\"; padding: 0 .5ex}\n",
       "</style>\n",
       "<ol class=list-inline><li>15</li><li>8</li><li>23</li><li>21</li><li>5</li><li>17</li><li>31</li><li>22</li><li>34</li><li>6</li><li>5</li><li>10</li><li>14</li><li>17</li><li>16</li><li>25</li><li>30</li><li>3</li><li>31</li><li>19</li></ol>\n"
      ],
      "text/latex": [
       "\\begin{enumerate*}\n",
       "\\item 15\n",
       "\\item 8\n",
       "\\item 23\n",
       "\\item 21\n",
       "\\item 5\n",
       "\\item 17\n",
       "\\item 31\n",
       "\\item 22\n",
       "\\item 34\n",
       "\\item 6\n",
       "\\item 5\n",
       "\\item 10\n",
       "\\item 14\n",
       "\\item 17\n",
       "\\item 16\n",
       "\\item 25\n",
       "\\item 30\n",
       "\\item 3\n",
       "\\item 31\n",
       "\\item 19\n",
       "\\end{enumerate*}\n"
      ],
      "text/markdown": [
       "1. 15\n",
       "2. 8\n",
       "3. 23\n",
       "4. 21\n",
       "5. 5\n",
       "6. 17\n",
       "7. 31\n",
       "8. 22\n",
       "9. 34\n",
       "10. 6\n",
       "11. 5\n",
       "12. 10\n",
       "13. 14\n",
       "14. 17\n",
       "15. 16\n",
       "16. 25\n",
       "17. 30\n",
       "18. 3\n",
       "19. 31\n",
       "20. 19\n",
       "\n",
       "\n"
      ],
      "text/plain": [
       " [1] 15  8 23 21  5 17 31 22 34  6  5 10 14 17 16 25 30  3 31 19"
      ]
     },
     "metadata": {},
     "output_type": "display_data"
    }
   ],
   "source": [
    "time"
   ]
  },
  {
   "cell_type": "code",
   "execution_count": 15,
   "id": "9baf591a",
   "metadata": {},
   "outputs": [
    {
     "name": "stdout",
     "output_type": "stream",
     "text": [
      "\n",
      "  The decimal point is 1 digit(s) to the right of the |\n",
      "\n",
      "  0 | 35568\n",
      "  1 | 0456779\n",
      "  2 | 1235\n",
      "  3 | 0114\n",
      "\n"
     ]
    }
   ],
   "source": [
    "stem(time)"
   ]
  },
  {
   "cell_type": "code",
   "execution_count": 16,
   "id": "a7eacdf3",
   "metadata": {},
   "outputs": [],
   "source": [
    "height = c(181, 161, 170, 160, 158, 169, 162, 179, 183, 178, 171, 177, 163,\n",
    "          158, 160, 160, 158, 174, 160, 163, 167, 165, 163, 173, 178, 170,\n",
    "          167, 177, 176, 170, 152, 158, 160, 160, 159, 180, 169, 162, 178,\n",
    "          173, 173, 171, 171, 170, 160, 167, 168, 166, 164, 174, 180)"
   ]
  },
  {
   "cell_type": "code",
   "execution_count": 17,
   "id": "4e64713c",
   "metadata": {},
   "outputs": [
    {
     "data": {
      "text/html": [
       "<style>\n",
       ".list-inline {list-style: none; margin:0; padding: 0}\n",
       ".list-inline>li {display: inline-block}\n",
       ".list-inline>li:not(:last-child)::after {content: \"\\00b7\"; padding: 0 .5ex}\n",
       "</style>\n",
       "<ol class=list-inline><li>181</li><li>161</li><li>170</li><li>160</li><li>158</li><li>169</li><li>162</li><li>179</li><li>183</li><li>178</li><li>171</li><li>177</li><li>163</li><li>158</li><li>160</li><li>160</li><li>158</li><li>174</li><li>160</li><li>163</li><li>167</li><li>165</li><li>163</li><li>173</li><li>178</li><li>170</li><li>167</li><li>177</li><li>176</li><li>170</li><li>152</li><li>158</li><li>160</li><li>160</li><li>159</li><li>180</li><li>169</li><li>162</li><li>178</li><li>173</li><li>173</li><li>171</li><li>171</li><li>170</li><li>160</li><li>167</li><li>168</li><li>166</li><li>164</li><li>174</li><li>180</li></ol>\n"
      ],
      "text/latex": [
       "\\begin{enumerate*}\n",
       "\\item 181\n",
       "\\item 161\n",
       "\\item 170\n",
       "\\item 160\n",
       "\\item 158\n",
       "\\item 169\n",
       "\\item 162\n",
       "\\item 179\n",
       "\\item 183\n",
       "\\item 178\n",
       "\\item 171\n",
       "\\item 177\n",
       "\\item 163\n",
       "\\item 158\n",
       "\\item 160\n",
       "\\item 160\n",
       "\\item 158\n",
       "\\item 174\n",
       "\\item 160\n",
       "\\item 163\n",
       "\\item 167\n",
       "\\item 165\n",
       "\\item 163\n",
       "\\item 173\n",
       "\\item 178\n",
       "\\item 170\n",
       "\\item 167\n",
       "\\item 177\n",
       "\\item 176\n",
       "\\item 170\n",
       "\\item 152\n",
       "\\item 158\n",
       "\\item 160\n",
       "\\item 160\n",
       "\\item 159\n",
       "\\item 180\n",
       "\\item 169\n",
       "\\item 162\n",
       "\\item 178\n",
       "\\item 173\n",
       "\\item 173\n",
       "\\item 171\n",
       "\\item 171\n",
       "\\item 170\n",
       "\\item 160\n",
       "\\item 167\n",
       "\\item 168\n",
       "\\item 166\n",
       "\\item 164\n",
       "\\item 174\n",
       "\\item 180\n",
       "\\end{enumerate*}\n"
      ],
      "text/markdown": [
       "1. 181\n",
       "2. 161\n",
       "3. 170\n",
       "4. 160\n",
       "5. 158\n",
       "6. 169\n",
       "7. 162\n",
       "8. 179\n",
       "9. 183\n",
       "10. 178\n",
       "11. 171\n",
       "12. 177\n",
       "13. 163\n",
       "14. 158\n",
       "15. 160\n",
       "16. 160\n",
       "17. 158\n",
       "18. 174\n",
       "19. 160\n",
       "20. 163\n",
       "21. 167\n",
       "22. 165\n",
       "23. 163\n",
       "24. 173\n",
       "25. 178\n",
       "26. 170\n",
       "27. 167\n",
       "28. 177\n",
       "29. 176\n",
       "30. 170\n",
       "31. 152\n",
       "32. 158\n",
       "33. 160\n",
       "34. 160\n",
       "35. 159\n",
       "36. 180\n",
       "37. 169\n",
       "38. 162\n",
       "39. 178\n",
       "40. 173\n",
       "41. 173\n",
       "42. 171\n",
       "43. 171\n",
       "44. 170\n",
       "45. 160\n",
       "46. 167\n",
       "47. 168\n",
       "48. 166\n",
       "49. 164\n",
       "50. 174\n",
       "51. 180\n",
       "\n",
       "\n"
      ],
      "text/plain": [
       " [1] 181 161 170 160 158 169 162 179 183 178 171 177 163 158 160 160 158 174 160\n",
       "[20] 163 167 165 163 173 178 170 167 177 176 170 152 158 160 160 159 180 169 162\n",
       "[39] 178 173 173 171 171 170 160 167 168 166 164 174 180"
      ]
     },
     "metadata": {},
     "output_type": "display_data"
    }
   ],
   "source": [
    "height"
   ]
  },
  {
   "cell_type": "code",
   "execution_count": 18,
   "id": "13848d66",
   "metadata": {},
   "outputs": [
    {
     "data": {
      "text/plain": [
       "height\n",
       "152 158 159 160 161 162 163 164 165 166 167 168 169 170 171 173 174 176 177 178 \n",
       "  1   4   1   7   1   2   3   1   1   1   3   1   2   4   3   3   2   1   2   3 \n",
       "179 180 181 183 \n",
       "  1   2   1   1 "
      ]
     },
     "metadata": {},
     "output_type": "display_data"
    }
   ],
   "source": [
    "table(height)"
   ]
  },
  {
   "cell_type": "code",
   "execution_count": 23,
   "id": "e71edf60",
   "metadata": {},
   "outputs": [
    {
     "data": {
      "image/png": "[encoded data removed]",
      "text/plain": [
       "Plot with title \"Histogram of height\""
      ]
     },
     "metadata": {
      "image/png": {
       "height": 420,
       "width": 420
      }
     },
     "output_type": "display_data"
    }
   ],
   "source": [
    "hist(height, probability = T)\n",
    "lines(density(height),\n",
    "     type = 'l',\n",
    "     col =' red')"
   ]
  },
  {
   "cell_type": "code",
   "execution_count": 25,
   "id": "be751ba5",
   "metadata": {},
   "outputs": [],
   "source": [
    "cut1 = cut(height, breaks = c(150, 155, 160, 165, 170, 175, 180, 185), right = F)"
   ]
  },
  {
   "cell_type": "code",
   "execution_count": 26,
   "id": "dcd11f6e",
   "metadata": {},
   "outputs": [
    {
     "data": {
      "text/html": [
       "<style>\n",
       ".list-inline {list-style: none; margin:0; padding: 0}\n",
       ".list-inline>li {display: inline-block}\n",
       ".list-inline>li:not(:last-child)::after {content: \"\\00b7\"; padding: 0 .5ex}\n",
       "</style>\n",
       "<ol class=list-inline><li>[180,185)</li><li>[160,165)</li><li>[170,175)</li><li>[160,165)</li><li>[155,160)</li><li>[165,170)</li><li>[160,165)</li><li>[175,180)</li><li>[180,185)</li><li>[175,180)</li><li>[170,175)</li><li>[175,180)</li><li>[160,165)</li><li>[155,160)</li><li>[160,165)</li><li>[160,165)</li><li>[155,160)</li><li>[170,175)</li><li>[160,165)</li><li>[160,165)</li><li>[165,170)</li><li>[165,170)</li><li>[160,165)</li><li>[170,175)</li><li>[175,180)</li><li>[170,175)</li><li>[165,170)</li><li>[175,180)</li><li>[175,180)</li><li>[170,175)</li><li>[150,155)</li><li>[155,160)</li><li>[160,165)</li><li>[160,165)</li><li>[155,160)</li><li>[180,185)</li><li>[165,170)</li><li>[160,165)</li><li>[175,180)</li><li>[170,175)</li><li>[170,175)</li><li>[170,175)</li><li>[170,175)</li><li>[170,175)</li><li>[160,165)</li><li>[165,170)</li><li>[165,170)</li><li>[165,170)</li><li>[160,165)</li><li>[170,175)</li><li>[180,185)</li></ol>\n",
       "\n",
       "<details>\n",
       "\t<summary style=display:list-item;cursor:pointer>\n",
       "\t\t<strong>Levels</strong>:\n",
       "\t</summary>\n",
       "\t<style>\n",
       "\t.list-inline {list-style: none; margin:0; padding: 0}\n",
       "\t.list-inline>li {display: inline-block}\n",
       "\t.list-inline>li:not(:last-child)::after {content: \"\\00b7\"; padding: 0 .5ex}\n",
       "\t</style>\n",
       "\t<ol class=list-inline><li>'[150,155)'</li><li>'[155,160)'</li><li>'[160,165)'</li><li>'[165,170)'</li><li>'[170,175)'</li><li>'[175,180)'</li><li>'[180,185)'</li></ol>\n",
       "</details>"
      ],
      "text/latex": [
       "\\begin{enumerate*}\n",
       "\\item {[}180,185)\n",
       "\\item {[}160,165)\n",
       "\\item {[}170,175)\n",
       "\\item {[}160,165)\n",
       "\\item {[}155,160)\n",
       "\\item {[}165,170)\n",
       "\\item {[}160,165)\n",
       "\\item {[}175,180)\n",
       "\\item {[}180,185)\n",
       "\\item {[}175,180)\n",
       "\\item {[}170,175)\n",
       "\\item {[}175,180)\n",
       "\\item {[}160,165)\n",
       "\\item {[}155,160)\n",
       "\\item {[}160,165)\n",
       "\\item {[}160,165)\n",
       "\\item {[}155,160)\n",
       "\\item {[}170,175)\n",
       "\\item {[}160,165)\n",
       "\\item {[}160,165)\n",
       "\\item {[}165,170)\n",
       "\\item {[}165,170)\n",
       "\\item {[}160,165)\n",
       "\\item {[}170,175)\n",
       "\\item {[}175,180)\n",
       "\\item {[}170,175)\n",
       "\\item {[}165,170)\n",
       "\\item {[}175,180)\n",
       "\\item {[}175,180)\n",
       "\\item {[}170,175)\n",
       "\\item {[}150,155)\n",
       "\\item {[}155,160)\n",
       "\\item {[}160,165)\n",
       "\\item {[}160,165)\n",
       "\\item {[}155,160)\n",
       "\\item {[}180,185)\n",
       "\\item {[}165,170)\n",
       "\\item {[}160,165)\n",
       "\\item {[}175,180)\n",
       "\\item {[}170,175)\n",
       "\\item {[}170,175)\n",
       "\\item {[}170,175)\n",
       "\\item {[}170,175)\n",
       "\\item {[}170,175)\n",
       "\\item {[}160,165)\n",
       "\\item {[}165,170)\n",
       "\\item {[}165,170)\n",
       "\\item {[}165,170)\n",
       "\\item {[}160,165)\n",
       "\\item {[}170,175)\n",
       "\\item {[}180,185)\n",
       "\\end{enumerate*}\n",
       "\n",
       "\\emph{Levels}: \\begin{enumerate*}\n",
       "\\item '{[}150,155)'\n",
       "\\item '{[}155,160)'\n",
       "\\item '{[}160,165)'\n",
       "\\item '{[}165,170)'\n",
       "\\item '{[}170,175)'\n",
       "\\item '{[}175,180)'\n",
       "\\item '{[}180,185)'\n",
       "\\end{enumerate*}\n"
      ],
      "text/markdown": [
       "1. [180,185)\n",
       "2. [160,165)\n",
       "3. [170,175)\n",
       "4. [160,165)\n",
       "5. [155,160)\n",
       "6. [165,170)\n",
       "7. [160,165)\n",
       "8. [175,180)\n",
       "9. [180,185)\n",
       "10. [175,180)\n",
       "11. [170,175)\n",
       "12. [175,180)\n",
       "13. [160,165)\n",
       "14. [155,160)\n",
       "15. [160,165)\n",
       "16. [160,165)\n",
       "17. [155,160)\n",
       "18. [170,175)\n",
       "19. [160,165)\n",
       "20. [160,165)\n",
       "21. [165,170)\n",
       "22. [165,170)\n",
       "23. [160,165)\n",
       "24. [170,175)\n",
       "25. [175,180)\n",
       "26. [170,175)\n",
       "27. [165,170)\n",
       "28. [175,180)\n",
       "29. [175,180)\n",
       "30. [170,175)\n",
       "31. [150,155)\n",
       "32. [155,160)\n",
       "33. [160,165)\n",
       "34. [160,165)\n",
       "35. [155,160)\n",
       "36. [180,185)\n",
       "37. [165,170)\n",
       "38. [160,165)\n",
       "39. [175,180)\n",
       "40. [170,175)\n",
       "41. [170,175)\n",
       "42. [170,175)\n",
       "43. [170,175)\n",
       "44. [170,175)\n",
       "45. [160,165)\n",
       "46. [165,170)\n",
       "47. [165,170)\n",
       "48. [165,170)\n",
       "49. [160,165)\n",
       "50. [170,175)\n",
       "51. [180,185)\n",
       "\n",
       "\n",
       "\n",
       "**Levels**: 1. '[150,155)'\n",
       "2. '[155,160)'\n",
       "3. '[160,165)'\n",
       "4. '[165,170)'\n",
       "5. '[170,175)'\n",
       "6. '[175,180)'\n",
       "7. '[180,185)'\n",
       "\n",
       "\n"
      ],
      "text/plain": [
       " [1] [180,185) [160,165) [170,175) [160,165) [155,160) [165,170) [160,165)\n",
       " [8] [175,180) [180,185) [175,180) [170,175) [175,180) [160,165) [155,160)\n",
       "[15] [160,165) [160,165) [155,160) [170,175) [160,165) [160,165) [165,170)\n",
       "[22] [165,170) [160,165) [170,175) [175,180) [170,175) [165,170) [175,180)\n",
       "[29] [175,180) [170,175) [150,155) [155,160) [160,165) [160,165) [155,160)\n",
       "[36] [180,185) [165,170) [160,165) [175,180) [170,175) [170,175) [170,175)\n",
       "[43] [170,175) [170,175) [160,165) [165,170) [165,170) [165,170) [160,165)\n",
       "[50] [170,175) [180,185)\n",
       "7 Levels: [150,155) [155,160) [160,165) [165,170) [170,175) ... [180,185)"
      ]
     },
     "metadata": {},
     "output_type": "display_data"
    }
   ],
   "source": [
    "cut1"
   ]
  },
  {
   "cell_type": "code",
   "execution_count": 27,
   "id": "ca393852",
   "metadata": {},
   "outputs": [
    {
     "data": {
      "text/plain": [
       "cut1\n",
       "[150,155) [155,160) [160,165) [165,170) [170,175) [175,180) [180,185) \n",
       "        1         5        14         8        12         7         4 "
      ]
     },
     "metadata": {},
     "output_type": "display_data"
    }
   ],
   "source": [
    "freq = table(cut1)\n",
    "freq"
   ]
  },
  {
   "cell_type": "code",
   "execution_count": 28,
   "id": "24516203",
   "metadata": {},
   "outputs": [],
   "source": [
    "prop = prop.table(freq)"
   ]
  },
  {
   "cell_type": "code",
   "execution_count": 30,
   "id": "42790558",
   "metadata": {},
   "outputs": [
    {
     "data": {
      "text/plain": [
       "cut1\n",
       " [150,155)  [155,160)  [160,165)  [165,170)  [170,175)  [175,180)  [180,185) \n",
       "0.01960784 0.09803922 0.27450980 0.15686275 0.23529412 0.13725490 0.07843137 "
      ]
     },
     "metadata": {},
     "output_type": "display_data"
    }
   ],
   "source": [
    "prop"
   ]
  },
  {
   "cell_type": "code",
   "execution_count": 31,
   "id": "2e5d34f6",
   "metadata": {},
   "outputs": [
    {
     "data": {
      "text/html": [
       "<table class=\"dataframe\">\n",
       "<caption>A matrix: 7 × 2 of type dbl</caption>\n",
       "<thead>\n",
       "\t<tr><th></th><th scope=col>freq</th><th scope=col>prop</th></tr>\n",
       "</thead>\n",
       "<tbody>\n",
       "\t<tr><th scope=row>[150,155)</th><td> 1</td><td>0.01960784</td></tr>\n",
       "\t<tr><th scope=row>[155,160)</th><td> 5</td><td>0.09803922</td></tr>\n",
       "\t<tr><th scope=row>[160,165)</th><td>14</td><td>0.27450980</td></tr>\n",
       "\t<tr><th scope=row>[165,170)</th><td> 8</td><td>0.15686275</td></tr>\n",
       "\t<tr><th scope=row>[170,175)</th><td>12</td><td>0.23529412</td></tr>\n",
       "\t<tr><th scope=row>[175,180)</th><td> 7</td><td>0.13725490</td></tr>\n",
       "\t<tr><th scope=row>[180,185)</th><td> 4</td><td>0.07843137</td></tr>\n",
       "</tbody>\n",
       "</table>\n"
      ],
      "text/latex": [
       "A matrix: 7 × 2 of type dbl\n",
       "\\begin{tabular}{r|ll}\n",
       "  & freq & prop\\\\\n",
       "\\hline\n",
       "\t{[}150,155) &  1 & 0.01960784\\\\\n",
       "\t{[}155,160) &  5 & 0.09803922\\\\\n",
       "\t{[}160,165) & 14 & 0.27450980\\\\\n",
       "\t{[}165,170) &  8 & 0.15686275\\\\\n",
       "\t{[}170,175) & 12 & 0.23529412\\\\\n",
       "\t{[}175,180) &  7 & 0.13725490\\\\\n",
       "\t{[}180,185) &  4 & 0.07843137\\\\\n",
       "\\end{tabular}\n"
      ],
      "text/markdown": [
       "\n",
       "A matrix: 7 × 2 of type dbl\n",
       "\n",
       "| <!--/--> | freq | prop |\n",
       "|---|---|---|\n",
       "| [150,155) |  1 | 0.01960784 |\n",
       "| [155,160) |  5 | 0.09803922 |\n",
       "| [160,165) | 14 | 0.27450980 |\n",
       "| [165,170) |  8 | 0.15686275 |\n",
       "| [170,175) | 12 | 0.23529412 |\n",
       "| [175,180) |  7 | 0.13725490 |\n",
       "| [180,185) |  4 | 0.07843137 |\n",
       "\n"
      ],
      "text/plain": [
       "          freq prop      \n",
       "[150,155)  1   0.01960784\n",
       "[155,160)  5   0.09803922\n",
       "[160,165) 14   0.27450980\n",
       "[165,170)  8   0.15686275\n",
       "[170,175) 12   0.23529412\n",
       "[175,180)  7   0.13725490\n",
       "[180,185)  4   0.07843137"
      ]
     },
     "metadata": {},
     "output_type": "display_data"
    }
   ],
   "source": [
    "cbind(freq, prop)"
   ]
  },
  {
   "cell_type": "code",
   "execution_count": 32,
   "id": "a42286dc",
   "metadata": {},
   "outputs": [],
   "source": [
    "score = c(45, 86, 34, 98, 67, 78, 56, 45, 85, 75, 64, 75, 75, 75, 58, 48, 83, 74)"
   ]
  },
  {
   "cell_type": "code",
   "execution_count": 33,
   "id": "4ac0a84c",
   "metadata": {},
   "outputs": [
    {
     "data": {
      "text/html": [
       "<style>\n",
       ".list-inline {list-style: none; margin:0; padding: 0}\n",
       ".list-inline>li {display: inline-block}\n",
       ".list-inline>li:not(:last-child)::after {content: \"\\00b7\"; padding: 0 .5ex}\n",
       "</style>\n",
       "<ol class=list-inline><li>45</li><li>86</li><li>34</li><li>98</li><li>67</li><li>78</li><li>56</li><li>45</li><li>85</li><li>75</li><li>64</li><li>75</li><li>75</li><li>75</li><li>58</li><li>48</li><li>83</li><li>74</li></ol>\n"
      ],
      "text/latex": [
       "\\begin{enumerate*}\n",
       "\\item 45\n",
       "\\item 86\n",
       "\\item 34\n",
       "\\item 98\n",
       "\\item 67\n",
       "\\item 78\n",
       "\\item 56\n",
       "\\item 45\n",
       "\\item 85\n",
       "\\item 75\n",
       "\\item 64\n",
       "\\item 75\n",
       "\\item 75\n",
       "\\item 75\n",
       "\\item 58\n",
       "\\item 48\n",
       "\\item 83\n",
       "\\item 74\n",
       "\\end{enumerate*}\n"
      ],
      "text/markdown": [
       "1. 45\n",
       "2. 86\n",
       "3. 34\n",
       "4. 98\n",
       "5. 67\n",
       "6. 78\n",
       "7. 56\n",
       "8. 45\n",
       "9. 85\n",
       "10. 75\n",
       "11. 64\n",
       "12. 75\n",
       "13. 75\n",
       "14. 75\n",
       "15. 58\n",
       "16. 48\n",
       "17. 83\n",
       "18. 74\n",
       "\n",
       "\n"
      ],
      "text/plain": [
       " [1] 45 86 34 98 67 78 56 45 85 75 64 75 75 75 58 48 83 74"
      ]
     },
     "metadata": {},
     "output_type": "display_data"
    }
   ],
   "source": [
    "score"
   ]
  },
  {
   "cell_type": "code",
   "execution_count": 37,
   "id": "aa5e6cd3",
   "metadata": {},
   "outputs": [
    {
     "data": {
      "image/png": "[encoded data removed]",
      "text/plain": [
       "Plot with title \"Histogram of score\""
      ]
     },
     "metadata": {
      "image/png": {
       "height": 420,
       "width": 420
      }
     },
     "output_type": "display_data"
    }
   ],
   "source": [
    "hist(score, probability = T)\n",
    "lines(density(score))"
   ]
  },
  {
   "cell_type": "code",
   "execution_count": 38,
   "id": "98e4d863",
   "metadata": {},
   "outputs": [],
   "source": [
    "node = c(2, 2, 8, 20, 33)"
   ]
  },
  {
   "cell_type": "code",
   "execution_count": 39,
   "id": "0d5c2191",
   "metadata": {},
   "outputs": [
    {
     "data": {
      "text/html": [
       "13"
      ],
      "text/latex": [
       "13"
      ],
      "text/markdown": [
       "13"
      ],
      "text/plain": [
       "[1] 13"
      ]
     },
     "metadata": {},
     "output_type": "display_data"
    }
   ],
   "source": [
    "mean(node)"
   ]
  },
  {
   "cell_type": "code",
   "execution_count": 40,
   "id": "5d7c4dea",
   "metadata": {},
   "outputs": [
    {
     "data": {
      "text/html": [
       "8"
      ],
      "text/latex": [
       "8"
      ],
      "text/markdown": [
       "8"
      ],
      "text/plain": [
       "[1] 8"
      ]
     },
     "metadata": {},
     "output_type": "display_data"
    }
   ],
   "source": [
    "median(node)"
   ]
  },
  {
   "cell_type": "code",
   "execution_count": 41,
   "id": "eb54c5ec",
   "metadata": {},
   "outputs": [],
   "source": [
    "node2 = c(node, 25)"
   ]
  },
  {
   "cell_type": "code",
   "execution_count": 42,
   "id": "3b860a3a",
   "metadata": {},
   "outputs": [
    {
     "data": {
      "text/html": [
       "15"
      ],
      "text/latex": [
       "15"
      ],
      "text/markdown": [
       "15"
      ],
      "text/plain": [
       "[1] 15"
      ]
     },
     "metadata": {},
     "output_type": "display_data"
    }
   ],
   "source": [
    "mean(node2)"
   ]
  },
  {
   "cell_type": "code",
   "execution_count": 43,
   "id": "d12df433",
   "metadata": {},
   "outputs": [
    {
     "data": {
      "text/html": [
       "14"
      ],
      "text/latex": [
       "14"
      ],
      "text/markdown": [
       "14"
      ],
      "text/plain": [
       "[1] 14"
      ]
     },
     "metadata": {},
     "output_type": "display_data"
    }
   ],
   "source": [
    "median(node2)"
   ]
  },
  {
   "cell_type": "code",
   "execution_count": 44,
   "id": "821b8a81",
   "metadata": {},
   "outputs": [],
   "source": [
    "area = c(53182, 49651, 69903, 267277)"
   ]
  },
  {
   "cell_type": "code",
   "execution_count": 45,
   "id": "1073b6c5",
   "metadata": {},
   "outputs": [],
   "source": [
    "names(area) = c('알칸사스','루이지애나','오클라호마','텍사스')"
   ]
  },
  {
   "cell_type": "code",
   "execution_count": 46,
   "id": "0018046e",
   "metadata": {},
   "outputs": [
    {
     "data": {
      "text/html": [
       "<style>\n",
       ".dl-inline {width: auto; margin:0; padding: 0}\n",
       ".dl-inline>dt, .dl-inline>dd {float: none; width: auto; display: inline-block}\n",
       ".dl-inline>dt::after {content: \":\\0020\"; padding-right: .5ex}\n",
       ".dl-inline>dt:not(:first-of-type) {padding-left: .5ex}\n",
       "</style><dl class=dl-inline><dt>알칸사스</dt><dd>53182</dd><dt>루이지애나</dt><dd>49651</dd><dt>오클라호마</dt><dd>69903</dd><dt>텍사스</dt><dd>267277</dd></dl>\n"
      ],
      "text/latex": [
       "\\begin{description*}\n",
       "\\item[알칸사스] 53182\n",
       "\\item[루이지애나] 49651\n",
       "\\item[오클라호마] 69903\n",
       "\\item[텍사스] 267277\n",
       "\\end{description*}\n"
      ],
      "text/markdown": [
       "알칸사스\n",
       ":   53182루이지애나\n",
       ":   49651오클라호마\n",
       ":   69903텍사스\n",
       ":   267277\n",
       "\n"
      ],
      "text/plain": [
       "  알칸사스 루이지애나 오클라호마     텍사스 \n",
       "     53182      49651      69903     267277 "
      ]
     },
     "metadata": {},
     "output_type": "display_data"
    }
   ],
   "source": [
    "area"
   ]
  },
  {
   "cell_type": "code",
   "execution_count": 47,
   "id": "abaff2e7",
   "metadata": {},
   "outputs": [
    {
     "data": {
      "text/html": [
       "<style>\n",
       ".list-inline {list-style: none; margin:0; padding: 0}\n",
       ".list-inline>li {display: inline-block}\n",
       ".list-inline>li:not(:last-child)::after {content: \"\\00b7\"; padding: 0 .5ex}\n",
       "</style>\n",
       "<ol class=list-inline><li>49651</li><li>267277</li></ol>\n"
      ],
      "text/latex": [
       "\\begin{enumerate*}\n",
       "\\item 49651\n",
       "\\item 267277\n",
       "\\end{enumerate*}\n"
      ],
      "text/markdown": [
       "1. 49651\n",
       "2. 267277\n",
       "\n",
       "\n"
      ],
      "text/plain": [
       "[1]  49651 267277"
      ]
     },
     "metadata": {},
     "output_type": "display_data"
    }
   ],
   "source": [
    "range(area)"
   ]
  },
  {
   "cell_type": "code",
   "execution_count": 48,
   "id": "9cd27292",
   "metadata": {},
   "outputs": [
    {
     "data": {
      "text/html": [
       "217626"
      ],
      "text/latex": [
       "217626"
      ],
      "text/markdown": [
       "217626"
      ],
      "text/plain": [
       "[1] 217626"
      ]
     },
     "metadata": {},
     "output_type": "display_data"
    }
   ],
   "source": [
    "diff(range(area))"
   ]
  },
  {
   "cell_type": "code",
   "execution_count": 49,
   "id": "99dab26b",
   "metadata": {},
   "outputs": [],
   "source": [
    "min = c(42, 40, 38, 37, 43, 39, 78, 38, 45, 44, 40, 38, 41, 35, 31, 44)"
   ]
  },
  {
   "cell_type": "code",
   "execution_count": 50,
   "id": "a1722785",
   "metadata": {},
   "outputs": [
    {
     "data": {
      "text/html": [
       "<style>\n",
       ".list-inline {list-style: none; margin:0; padding: 0}\n",
       ".list-inline>li {display: inline-block}\n",
       ".list-inline>li:not(:last-child)::after {content: \"\\00b7\"; padding: 0 .5ex}\n",
       "</style>\n",
       "<ol class=list-inline><li>42</li><li>40</li><li>38</li><li>37</li><li>43</li><li>39</li><li>78</li><li>38</li><li>45</li><li>44</li><li>40</li><li>38</li><li>41</li><li>35</li><li>31</li><li>44</li></ol>\n"
      ],
      "text/latex": [
       "\\begin{enumerate*}\n",
       "\\item 42\n",
       "\\item 40\n",
       "\\item 38\n",
       "\\item 37\n",
       "\\item 43\n",
       "\\item 39\n",
       "\\item 78\n",
       "\\item 38\n",
       "\\item 45\n",
       "\\item 44\n",
       "\\item 40\n",
       "\\item 38\n",
       "\\item 41\n",
       "\\item 35\n",
       "\\item 31\n",
       "\\item 44\n",
       "\\end{enumerate*}\n"
      ],
      "text/markdown": [
       "1. 42\n",
       "2. 40\n",
       "3. 38\n",
       "4. 37\n",
       "5. 43\n",
       "6. 39\n",
       "7. 78\n",
       "8. 38\n",
       "9. 45\n",
       "10. 44\n",
       "11. 40\n",
       "12. 38\n",
       "13. 41\n",
       "14. 35\n",
       "15. 31\n",
       "16. 44\n",
       "\n",
       "\n"
      ],
      "text/plain": [
       " [1] 42 40 38 37 43 39 78 38 45 44 40 38 41 35 31 44"
      ]
     },
     "metadata": {},
     "output_type": "display_data"
    }
   ],
   "source": [
    "min"
   ]
  },
  {
   "cell_type": "code",
   "execution_count": 51,
   "id": "c4c535a9",
   "metadata": {},
   "outputs": [
    {
     "data": {
      "text/html": [
       "<style>\n",
       ".dl-inline {width: auto; margin:0; padding: 0}\n",
       ".dl-inline>dt, .dl-inline>dd {float: none; width: auto; display: inline-block}\n",
       ".dl-inline>dt::after {content: \":\\0020\"; padding-right: .5ex}\n",
       ".dl-inline>dt:not(:first-of-type) {padding-left: .5ex}\n",
       "</style><dl class=dl-inline><dt>0%</dt><dd>31</dd><dt>25%</dt><dd>38</dd><dt>50%</dt><dd>40</dd><dt>75%</dt><dd>43.25</dd><dt>100%</dt><dd>78</dd></dl>\n"
      ],
      "text/latex": [
       "\\begin{description*}\n",
       "\\item[0\\textbackslash{}\\%] 31\n",
       "\\item[25\\textbackslash{}\\%] 38\n",
       "\\item[50\\textbackslash{}\\%] 40\n",
       "\\item[75\\textbackslash{}\\%] 43.25\n",
       "\\item[100\\textbackslash{}\\%] 78\n",
       "\\end{description*}\n"
      ],
      "text/markdown": [
       "0%\n",
       ":   3125%\n",
       ":   3850%\n",
       ":   4075%\n",
       ":   43.25100%\n",
       ":   78\n",
       "\n"
      ],
      "text/plain": [
       "   0%   25%   50%   75%  100% \n",
       "31.00 38.00 40.00 43.25 78.00 "
      ]
     },
     "metadata": {},
     "output_type": "display_data"
    }
   ],
   "source": [
    "quantile(min)"
   ]
  },
  {
   "cell_type": "code",
   "execution_count": 52,
   "id": "ab840672",
   "metadata": {},
   "outputs": [
    {
     "data": {
      "text/html": [
       "<style>\n",
       ".dl-inline {width: auto; margin:0; padding: 0}\n",
       ".dl-inline>dt, .dl-inline>dd {float: none; width: auto; display: inline-block}\n",
       ".dl-inline>dt::after {content: \":\\0020\"; padding-right: .5ex}\n",
       ".dl-inline>dt:not(:first-of-type) {padding-left: .5ex}\n",
       "</style><dl class=dl-inline><dt>0%</dt><dd>31</dd><dt>10%</dt><dd>36</dd><dt>20%</dt><dd>38</dd><dt>30%</dt><dd>38</dd><dt>40%</dt><dd>39</dd><dt>50%</dt><dd>40</dd><dt>60%</dt><dd>41</dd><dt>70%</dt><dd>42.5</dd><dt>80%</dt><dd>44</dd><dt>90%</dt><dd>44.5</dd><dt>100%</dt><dd>78</dd></dl>\n"
      ],
      "text/latex": [
       "\\begin{description*}\n",
       "\\item[0\\textbackslash{}\\%] 31\n",
       "\\item[10\\textbackslash{}\\%] 36\n",
       "\\item[20\\textbackslash{}\\%] 38\n",
       "\\item[30\\textbackslash{}\\%] 38\n",
       "\\item[40\\textbackslash{}\\%] 39\n",
       "\\item[50\\textbackslash{}\\%] 40\n",
       "\\item[60\\textbackslash{}\\%] 41\n",
       "\\item[70\\textbackslash{}\\%] 42.5\n",
       "\\item[80\\textbackslash{}\\%] 44\n",
       "\\item[90\\textbackslash{}\\%] 44.5\n",
       "\\item[100\\textbackslash{}\\%] 78\n",
       "\\end{description*}\n"
      ],
      "text/markdown": [
       "0%\n",
       ":   3110%\n",
       ":   3620%\n",
       ":   3830%\n",
       ":   3840%\n",
       ":   3950%\n",
       ":   4060%\n",
       ":   4170%\n",
       ":   42.580%\n",
       ":   4490%\n",
       ":   44.5100%\n",
       ":   78\n",
       "\n"
      ],
      "text/plain": [
       "  0%  10%  20%  30%  40%  50%  60%  70%  80%  90% 100% \n",
       "31.0 36.0 38.0 38.0 39.0 40.0 41.0 42.5 44.0 44.5 78.0 "
      ]
     },
     "metadata": {},
     "output_type": "display_data"
    }
   ],
   "source": [
    "quantile(min, (0:10)/10)"
   ]
  },
  {
   "cell_type": "code",
   "execution_count": 53,
   "id": "3db8d654",
   "metadata": {},
   "outputs": [
    {
     "data": {
      "text/html": [
       "5.25"
      ],
      "text/latex": [
       "5.25"
      ],
      "text/markdown": [
       "5.25"
      ],
      "text/plain": [
       "[1] 5.25"
      ]
     },
     "metadata": {},
     "output_type": "display_data"
    }
   ],
   "source": [
    "IQR(min)"
   ]
  },
  {
   "cell_type": "code",
   "execution_count": 54,
   "id": "05cbe531",
   "metadata": {},
   "outputs": [],
   "source": [
    "buy = c(35, 29, 44, 72, 34, 64, 41, 50, 54, 104, 39, 58)"
   ]
  },
  {
   "cell_type": "code",
   "execution_count": 55,
   "id": "70d1a1bb",
   "metadata": {},
   "outputs": [
    {
     "data": {
      "text/html": [
       "<style>\n",
       ".list-inline {list-style: none; margin:0; padding: 0}\n",
       ".list-inline>li {display: inline-block}\n",
       ".list-inline>li:not(:last-child)::after {content: \"\\00b7\"; padding: 0 .5ex}\n",
       "</style>\n",
       "<ol class=list-inline><li>35</li><li>29</li><li>44</li><li>72</li><li>34</li><li>64</li><li>41</li><li>50</li><li>54</li><li>104</li><li>39</li><li>58</li></ol>\n"
      ],
      "text/latex": [
       "\\begin{enumerate*}\n",
       "\\item 35\n",
       "\\item 29\n",
       "\\item 44\n",
       "\\item 72\n",
       "\\item 34\n",
       "\\item 64\n",
       "\\item 41\n",
       "\\item 50\n",
       "\\item 54\n",
       "\\item 104\n",
       "\\item 39\n",
       "\\item 58\n",
       "\\end{enumerate*}\n"
      ],
      "text/markdown": [
       "1. 35\n",
       "2. 29\n",
       "3. 44\n",
       "4. 72\n",
       "5. 34\n",
       "6. 64\n",
       "7. 41\n",
       "8. 50\n",
       "9. 54\n",
       "10. 104\n",
       "11. 39\n",
       "12. 58\n",
       "\n",
       "\n"
      ],
      "text/plain": [
       " [1]  35  29  44  72  34  64  41  50  54 104  39  58"
      ]
     },
     "metadata": {},
     "output_type": "display_data"
    }
   ],
   "source": [
    "buy"
   ]
  }
 ],
 "metadata": {
  "kernelspec": {
   "display_name": "R",
   "language": "R",
   "name": "ir"
  },
  "language_info": {
   "codemirror_mode": "r",
   "file_extension": ".r",
   "mimetype": "text/x-r-source",
   "name": "R",
   "pygments_lexer": "r",
   "version": "4.3.1"
  }
 },
 "nbformat": 4,
 "nbformat_minor": 5
}
