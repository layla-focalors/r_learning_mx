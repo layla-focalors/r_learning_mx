{
 "cells": [
  {
   "cell_type": "code",
   "execution_count": 3,
   "id": "ee048365",
   "metadata": {},
   "outputs": [
    {
     "data": {
      "text/html": [
       "<style>\n",
       ".list-inline {list-style: none; margin:0; padding: 0}\n",
       ".list-inline>li {display: inline-block}\n",
       ".list-inline>li:not(:last-child)::after {content: \"\\00b7\"; padding: 0 .5ex}\n",
       "</style>\n",
       "<ol class=list-inline><li>-3</li><li>-2.9</li><li>-2.8</li><li>-2.7</li><li>-2.6</li><li>-2.5</li><li>-2.4</li><li>-2.3</li><li>-2.2</li><li>-2.1</li><li>-2</li><li>-1.9</li><li>-1.8</li><li>-1.7</li><li>-1.6</li><li>-1.5</li><li>-1.4</li><li>-1.3</li><li>-1.2</li><li>-1.1</li><li>-1</li><li>-0.9</li><li>-0.8</li><li>-0.7</li><li>-0.6</li><li>-0.5</li><li>-0.4</li><li>-0.3</li><li>-0.2</li><li>-0.0999999999999996</li><li>0</li><li>0.1</li><li>0.2</li><li>0.3</li><li>0.4</li><li>0.5</li><li>0.6</li><li>0.7</li><li>0.8</li><li>0.9</li><li>1</li><li>1.1</li><li>1.2</li><li>1.3</li><li>1.4</li><li>1.5</li><li>1.6</li><li>1.7</li><li>1.8</li><li>1.9</li><li>2</li><li>2.1</li><li>2.2</li><li>2.3</li><li>2.4</li><li>2.5</li><li>2.6</li><li>2.7</li><li>2.8</li><li>2.9</li><li>3</li></ol>\n"
      ],
      "text/latex": [
       "\\begin{enumerate*}\n",
       "\\item -3\n",
       "\\item -2.9\n",
       "\\item -2.8\n",
       "\\item -2.7\n",
       "\\item -2.6\n",
       "\\item -2.5\n",
       "\\item -2.4\n",
       "\\item -2.3\n",
       "\\item -2.2\n",
       "\\item -2.1\n",
       "\\item -2\n",
       "\\item -1.9\n",
       "\\item -1.8\n",
       "\\item -1.7\n",
       "\\item -1.6\n",
       "\\item -1.5\n",
       "\\item -1.4\n",
       "\\item -1.3\n",
       "\\item -1.2\n",
       "\\item -1.1\n",
       "\\item -1\n",
       "\\item -0.9\n",
       "\\item -0.8\n",
       "\\item -0.7\n",
       "\\item -0.6\n",
       "\\item -0.5\n",
       "\\item -0.4\n",
       "\\item -0.3\n",
       "\\item -0.2\n",
       "\\item -0.0999999999999996\n",
       "\\item 0\n",
       "\\item 0.1\n",
       "\\item 0.2\n",
       "\\item 0.3\n",
       "\\item 0.4\n",
       "\\item 0.5\n",
       "\\item 0.6\n",
       "\\item 0.7\n",
       "\\item 0.8\n",
       "\\item 0.9\n",
       "\\item 1\n",
       "\\item 1.1\n",
       "\\item 1.2\n",
       "\\item 1.3\n",
       "\\item 1.4\n",
       "\\item 1.5\n",
       "\\item 1.6\n",
       "\\item 1.7\n",
       "\\item 1.8\n",
       "\\item 1.9\n",
       "\\item 2\n",
       "\\item 2.1\n",
       "\\item 2.2\n",
       "\\item 2.3\n",
       "\\item 2.4\n",
       "\\item 2.5\n",
       "\\item 2.6\n",
       "\\item 2.7\n",
       "\\item 2.8\n",
       "\\item 2.9\n",
       "\\item 3\n",
       "\\end{enumerate*}\n"
      ],
      "text/markdown": [
       "1. -3\n",
       "2. -2.9\n",
       "3. -2.8\n",
       "4. -2.7\n",
       "5. -2.6\n",
       "6. -2.5\n",
       "7. -2.4\n",
       "8. -2.3\n",
       "9. -2.2\n",
       "10. -2.1\n",
       "11. -2\n",
       "12. -1.9\n",
       "13. -1.8\n",
       "14. -1.7\n",
       "15. -1.6\n",
       "16. -1.5\n",
       "17. -1.4\n",
       "18. -1.3\n",
       "19. -1.2\n",
       "20. -1.1\n",
       "21. -1\n",
       "22. -0.9\n",
       "23. -0.8\n",
       "24. -0.7\n",
       "25. -0.6\n",
       "26. -0.5\n",
       "27. -0.4\n",
       "28. -0.3\n",
       "29. -0.2\n",
       "30. -0.0999999999999996\n",
       "31. 0\n",
       "32. 0.1\n",
       "33. 0.2\n",
       "34. 0.3\n",
       "35. 0.4\n",
       "36. 0.5\n",
       "37. 0.6\n",
       "38. 0.7\n",
       "39. 0.8\n",
       "40. 0.9\n",
       "41. 1\n",
       "42. 1.1\n",
       "43. 1.2\n",
       "44. 1.3\n",
       "45. 1.4\n",
       "46. 1.5\n",
       "47. 1.6\n",
       "48. 1.7\n",
       "49. 1.8\n",
       "50. 1.9\n",
       "51. 2\n",
       "52. 2.1\n",
       "53. 2.2\n",
       "54. 2.3\n",
       "55. 2.4\n",
       "56. 2.5\n",
       "57. 2.6\n",
       "58. 2.7\n",
       "59. 2.8\n",
       "60. 2.9\n",
       "61. 3\n",
       "\n",
       "\n"
      ],
      "text/plain": [
       " [1] -3.0 -2.9 -2.8 -2.7 -2.6 -2.5 -2.4 -2.3 -2.2 -2.1 -2.0 -1.9 -1.8 -1.7 -1.6\n",
       "[16] -1.5 -1.4 -1.3 -1.2 -1.1 -1.0 -0.9 -0.8 -0.7 -0.6 -0.5 -0.4 -0.3 -0.2 -0.1\n",
       "[31]  0.0  0.1  0.2  0.3  0.4  0.5  0.6  0.7  0.8  0.9  1.0  1.1  1.2  1.3  1.4\n",
       "[46]  1.5  1.6  1.7  1.8  1.9  2.0  2.1  2.2  2.3  2.4  2.5  2.6  2.7  2.8  2.9\n",
       "[61]  3.0"
      ]
     },
     "metadata": {},
     "output_type": "display_data"
    }
   ],
   "source": [
    "x = seq(-3, 3, 0.1)\n",
    "x"
   ]
  },
  {
   "cell_type": "code",
   "execution_count": 4,
   "id": "3e9b847a",
   "metadata": {},
   "outputs": [],
   "source": [
    "y = x ^ 3"
   ]
  },
  {
   "cell_type": "code",
   "execution_count": 5,
   "id": "1a80e051",
   "metadata": {},
   "outputs": [
    {
     "data": {
      "text/html": [
       "<style>\n",
       ".list-inline {list-style: none; margin:0; padding: 0}\n",
       ".list-inline>li {display: inline-block}\n",
       ".list-inline>li:not(:last-child)::after {content: \"\\00b7\"; padding: 0 .5ex}\n",
       "</style>\n",
       "<ol class=list-inline><li>-27</li><li>-24.389</li><li>-21.952</li><li>-19.683</li><li>-17.576</li><li>-15.625</li><li>-13.824</li><li>-12.167</li><li>-10.648</li><li>-9.261</li><li>-8</li><li>-6.859</li><li>-5.832</li><li>-4.913</li><li>-4.096</li><li>-3.375</li><li>-2.744</li><li>-2.197</li><li>-1.728</li><li>-1.331</li><li>-1</li><li>-0.729</li><li>-0.512</li><li>-0.343</li><li>-0.216</li><li>-0.125</li><li>-0.064</li><li>-0.027</li><li>-0.00799999999999997</li><li>-0.000999999999999989</li><li>0</li><li>0.001</li><li>0.00800000000000002</li><li>0.0270000000000001</li><li>0.0640000000000002</li><li>0.125</li><li>0.216</li><li>0.343</li><li>0.512000000000001</li><li>0.729000000000001</li><li>1</li><li>1.331</li><li>1.728</li><li>2.197</li><li>2.744</li><li>3.375</li><li>4.096</li><li>4.913</li><li>5.83200000000001</li><li>6.859</li><li>8</li><li>9.26100000000001</li><li>10.648</li><li>12.167</li><li>13.824</li><li>15.625</li><li>17.576</li><li>19.683</li><li>21.952</li><li>24.389</li><li>27</li></ol>\n"
      ],
      "text/latex": [
       "\\begin{enumerate*}\n",
       "\\item -27\n",
       "\\item -24.389\n",
       "\\item -21.952\n",
       "\\item -19.683\n",
       "\\item -17.576\n",
       "\\item -15.625\n",
       "\\item -13.824\n",
       "\\item -12.167\n",
       "\\item -10.648\n",
       "\\item -9.261\n",
       "\\item -8\n",
       "\\item -6.859\n",
       "\\item -5.832\n",
       "\\item -4.913\n",
       "\\item -4.096\n",
       "\\item -3.375\n",
       "\\item -2.744\n",
       "\\item -2.197\n",
       "\\item -1.728\n",
       "\\item -1.331\n",
       "\\item -1\n",
       "\\item -0.729\n",
       "\\item -0.512\n",
       "\\item -0.343\n",
       "\\item -0.216\n",
       "\\item -0.125\n",
       "\\item -0.064\n",
       "\\item -0.027\n",
       "\\item -0.00799999999999997\n",
       "\\item -0.000999999999999989\n",
       "\\item 0\n",
       "\\item 0.001\n",
       "\\item 0.00800000000000002\n",
       "\\item 0.0270000000000001\n",
       "\\item 0.0640000000000002\n",
       "\\item 0.125\n",
       "\\item 0.216\n",
       "\\item 0.343\n",
       "\\item 0.512000000000001\n",
       "\\item 0.729000000000001\n",
       "\\item 1\n",
       "\\item 1.331\n",
       "\\item 1.728\n",
       "\\item 2.197\n",
       "\\item 2.744\n",
       "\\item 3.375\n",
       "\\item 4.096\n",
       "\\item 4.913\n",
       "\\item 5.83200000000001\n",
       "\\item 6.859\n",
       "\\item 8\n",
       "\\item 9.26100000000001\n",
       "\\item 10.648\n",
       "\\item 12.167\n",
       "\\item 13.824\n",
       "\\item 15.625\n",
       "\\item 17.576\n",
       "\\item 19.683\n",
       "\\item 21.952\n",
       "\\item 24.389\n",
       "\\item 27\n",
       "\\end{enumerate*}\n"
      ],
      "text/markdown": [
       "1. -27\n",
       "2. -24.389\n",
       "3. -21.952\n",
       "4. -19.683\n",
       "5. -17.576\n",
       "6. -15.625\n",
       "7. -13.824\n",
       "8. -12.167\n",
       "9. -10.648\n",
       "10. -9.261\n",
       "11. -8\n",
       "12. -6.859\n",
       "13. -5.832\n",
       "14. -4.913\n",
       "15. -4.096\n",
       "16. -3.375\n",
       "17. -2.744\n",
       "18. -2.197\n",
       "19. -1.728\n",
       "20. -1.331\n",
       "21. -1\n",
       "22. -0.729\n",
       "23. -0.512\n",
       "24. -0.343\n",
       "25. -0.216\n",
       "26. -0.125\n",
       "27. -0.064\n",
       "28. -0.027\n",
       "29. -0.00799999999999997\n",
       "30. -0.000999999999999989\n",
       "31. 0\n",
       "32. 0.001\n",
       "33. 0.00800000000000002\n",
       "34. 0.0270000000000001\n",
       "35. 0.0640000000000002\n",
       "36. 0.125\n",
       "37. 0.216\n",
       "38. 0.343\n",
       "39. 0.512000000000001\n",
       "40. 0.729000000000001\n",
       "41. 1\n",
       "42. 1.331\n",
       "43. 1.728\n",
       "44. 2.197\n",
       "45. 2.744\n",
       "46. 3.375\n",
       "47. 4.096\n",
       "48. 4.913\n",
       "49. 5.83200000000001\n",
       "50. 6.859\n",
       "51. 8\n",
       "52. 9.26100000000001\n",
       "53. 10.648\n",
       "54. 12.167\n",
       "55. 13.824\n",
       "56. 15.625\n",
       "57. 17.576\n",
       "58. 19.683\n",
       "59. 21.952\n",
       "60. 24.389\n",
       "61. 27\n",
       "\n",
       "\n"
      ],
      "text/plain": [
       " [1] -27.000 -24.389 -21.952 -19.683 -17.576 -15.625 -13.824 -12.167 -10.648\n",
       "[10]  -9.261  -8.000  -6.859  -5.832  -4.913  -4.096  -3.375  -2.744  -2.197\n",
       "[19]  -1.728  -1.331  -1.000  -0.729  -0.512  -0.343  -0.216  -0.125  -0.064\n",
       "[28]  -0.027  -0.008  -0.001   0.000   0.001   0.008   0.027   0.064   0.125\n",
       "[37]   0.216   0.343   0.512   0.729   1.000   1.331   1.728   2.197   2.744\n",
       "[46]   3.375   4.096   4.913   5.832   6.859   8.000   9.261  10.648  12.167\n",
       "[55]  13.824  15.625  17.576  19.683  21.952  24.389  27.000"
      ]
     },
     "metadata": {},
     "output_type": "display_data"
    }
   ],
   "source": [
    "y"
   ]
  },
  {
   "cell_type": "code",
   "execution_count": 7,
   "id": "f502b2f1",
   "metadata": {},
   "outputs": [
    {
     "data": {
      "image/png": "[encoded data removed]",
      "text/plain": [
       "plot without title"
      ]
     },
     "metadata": {
      "image/png": {
       "height": 420,
       "width": 420
      }
     },
     "output_type": "display_data"
    }
   ],
   "source": [
    "plot(x, y,\n",
    "    type = 'l')"
   ]
  },
  {
   "cell_type": "code",
   "execution_count": 8,
   "id": "ab14b9ed",
   "metadata": {},
   "outputs": [],
   "source": [
    "x = seq(0, 8, 0.1)"
   ]
  },
  {
   "cell_type": "code",
   "execution_count": 9,
   "id": "dcf4bd25",
   "metadata": {},
   "outputs": [
    {
     "data": {
      "text/html": [
       "<style>\n",
       ".list-inline {list-style: none; margin:0; padding: 0}\n",
       ".list-inline>li {display: inline-block}\n",
       ".list-inline>li:not(:last-child)::after {content: \"\\00b7\"; padding: 0 .5ex}\n",
       "</style>\n",
       "<ol class=list-inline><li>0</li><li>0.1</li><li>0.2</li><li>0.3</li><li>0.4</li><li>0.5</li><li>0.6</li><li>0.7</li><li>0.8</li><li>0.9</li><li>1</li><li>1.1</li><li>1.2</li><li>1.3</li><li>1.4</li><li>1.5</li><li>1.6</li><li>1.7</li><li>1.8</li><li>1.9</li><li>2</li><li>2.1</li><li>2.2</li><li>2.3</li><li>2.4</li><li>2.5</li><li>2.6</li><li>2.7</li><li>2.8</li><li>2.9</li><li>3</li><li>3.1</li><li>3.2</li><li>3.3</li><li>3.4</li><li>3.5</li><li>3.6</li><li>3.7</li><li>3.8</li><li>3.9</li><li>4</li><li>4.1</li><li>4.2</li><li>4.3</li><li>4.4</li><li>4.5</li><li>4.6</li><li>4.7</li><li>4.8</li><li>4.9</li><li>5</li><li>5.1</li><li>5.2</li><li>5.3</li><li>5.4</li><li>5.5</li><li>5.6</li><li>5.7</li><li>5.8</li><li>5.9</li><li>6</li><li>6.1</li><li>6.2</li><li>6.3</li><li>6.4</li><li>6.5</li><li>6.6</li><li>6.7</li><li>6.8</li><li>6.9</li><li>7</li><li>7.1</li><li>7.2</li><li>7.3</li><li>7.4</li><li>7.5</li><li>7.6</li><li>7.7</li><li>7.8</li><li>7.9</li><li>8</li></ol>\n"
      ],
      "text/latex": [
       "\\begin{enumerate*}\n",
       "\\item 0\n",
       "\\item 0.1\n",
       "\\item 0.2\n",
       "\\item 0.3\n",
       "\\item 0.4\n",
       "\\item 0.5\n",
       "\\item 0.6\n",
       "\\item 0.7\n",
       "\\item 0.8\n",
       "\\item 0.9\n",
       "\\item 1\n",
       "\\item 1.1\n",
       "\\item 1.2\n",
       "\\item 1.3\n",
       "\\item 1.4\n",
       "\\item 1.5\n",
       "\\item 1.6\n",
       "\\item 1.7\n",
       "\\item 1.8\n",
       "\\item 1.9\n",
       "\\item 2\n",
       "\\item 2.1\n",
       "\\item 2.2\n",
       "\\item 2.3\n",
       "\\item 2.4\n",
       "\\item 2.5\n",
       "\\item 2.6\n",
       "\\item 2.7\n",
       "\\item 2.8\n",
       "\\item 2.9\n",
       "\\item 3\n",
       "\\item 3.1\n",
       "\\item 3.2\n",
       "\\item 3.3\n",
       "\\item 3.4\n",
       "\\item 3.5\n",
       "\\item 3.6\n",
       "\\item 3.7\n",
       "\\item 3.8\n",
       "\\item 3.9\n",
       "\\item 4\n",
       "\\item 4.1\n",
       "\\item 4.2\n",
       "\\item 4.3\n",
       "\\item 4.4\n",
       "\\item 4.5\n",
       "\\item 4.6\n",
       "\\item 4.7\n",
       "\\item 4.8\n",
       "\\item 4.9\n",
       "\\item 5\n",
       "\\item 5.1\n",
       "\\item 5.2\n",
       "\\item 5.3\n",
       "\\item 5.4\n",
       "\\item 5.5\n",
       "\\item 5.6\n",
       "\\item 5.7\n",
       "\\item 5.8\n",
       "\\item 5.9\n",
       "\\item 6\n",
       "\\item 6.1\n",
       "\\item 6.2\n",
       "\\item 6.3\n",
       "\\item 6.4\n",
       "\\item 6.5\n",
       "\\item 6.6\n",
       "\\item 6.7\n",
       "\\item 6.8\n",
       "\\item 6.9\n",
       "\\item 7\n",
       "\\item 7.1\n",
       "\\item 7.2\n",
       "\\item 7.3\n",
       "\\item 7.4\n",
       "\\item 7.5\n",
       "\\item 7.6\n",
       "\\item 7.7\n",
       "\\item 7.8\n",
       "\\item 7.9\n",
       "\\item 8\n",
       "\\end{enumerate*}\n"
      ],
      "text/markdown": [
       "1. 0\n",
       "2. 0.1\n",
       "3. 0.2\n",
       "4. 0.3\n",
       "5. 0.4\n",
       "6. 0.5\n",
       "7. 0.6\n",
       "8. 0.7\n",
       "9. 0.8\n",
       "10. 0.9\n",
       "11. 1\n",
       "12. 1.1\n",
       "13. 1.2\n",
       "14. 1.3\n",
       "15. 1.4\n",
       "16. 1.5\n",
       "17. 1.6\n",
       "18. 1.7\n",
       "19. 1.8\n",
       "20. 1.9\n",
       "21. 2\n",
       "22. 2.1\n",
       "23. 2.2\n",
       "24. 2.3\n",
       "25. 2.4\n",
       "26. 2.5\n",
       "27. 2.6\n",
       "28. 2.7\n",
       "29. 2.8\n",
       "30. 2.9\n",
       "31. 3\n",
       "32. 3.1\n",
       "33. 3.2\n",
       "34. 3.3\n",
       "35. 3.4\n",
       "36. 3.5\n",
       "37. 3.6\n",
       "38. 3.7\n",
       "39. 3.8\n",
       "40. 3.9\n",
       "41. 4\n",
       "42. 4.1\n",
       "43. 4.2\n",
       "44. 4.3\n",
       "45. 4.4\n",
       "46. 4.5\n",
       "47. 4.6\n",
       "48. 4.7\n",
       "49. 4.8\n",
       "50. 4.9\n",
       "51. 5\n",
       "52. 5.1\n",
       "53. 5.2\n",
       "54. 5.3\n",
       "55. 5.4\n",
       "56. 5.5\n",
       "57. 5.6\n",
       "58. 5.7\n",
       "59. 5.8\n",
       "60. 5.9\n",
       "61. 6\n",
       "62. 6.1\n",
       "63. 6.2\n",
       "64. 6.3\n",
       "65. 6.4\n",
       "66. 6.5\n",
       "67. 6.6\n",
       "68. 6.7\n",
       "69. 6.8\n",
       "70. 6.9\n",
       "71. 7\n",
       "72. 7.1\n",
       "73. 7.2\n",
       "74. 7.3\n",
       "75. 7.4\n",
       "76. 7.5\n",
       "77. 7.6\n",
       "78. 7.7\n",
       "79. 7.8\n",
       "80. 7.9\n",
       "81. 8\n",
       "\n",
       "\n"
      ],
      "text/plain": [
       " [1] 0.0 0.1 0.2 0.3 0.4 0.5 0.6 0.7 0.8 0.9 1.0 1.1 1.2 1.3 1.4 1.5 1.6 1.7 1.8\n",
       "[20] 1.9 2.0 2.1 2.2 2.3 2.4 2.5 2.6 2.7 2.8 2.9 3.0 3.1 3.2 3.3 3.4 3.5 3.6 3.7\n",
       "[39] 3.8 3.9 4.0 4.1 4.2 4.3 4.4 4.5 4.6 4.7 4.8 4.9 5.0 5.1 5.2 5.3 5.4 5.5 5.6\n",
       "[58] 5.7 5.8 5.9 6.0 6.1 6.2 6.3 6.4 6.5 6.6 6.7 6.8 6.9 7.0 7.1 7.2 7.3 7.4 7.5\n",
       "[77] 7.6 7.7 7.8 7.9 8.0"
      ]
     },
     "metadata": {},
     "output_type": "display_data"
    }
   ],
   "source": [
    "x"
   ]
  },
  {
   "cell_type": "code",
   "execution_count": 10,
   "id": "7b339d76",
   "metadata": {},
   "outputs": [],
   "source": [
    "y1 = x^2"
   ]
  },
  {
   "cell_type": "code",
   "execution_count": 11,
   "id": "fac9fe1b",
   "metadata": {},
   "outputs": [],
   "source": [
    "y2 = x^3"
   ]
  },
  {
   "cell_type": "code",
   "execution_count": 12,
   "id": "13feb195",
   "metadata": {},
   "outputs": [],
   "source": [
    "y3 = log(x)"
   ]
  },
  {
   "cell_type": "code",
   "execution_count": 13,
   "id": "f937d3d3",
   "metadata": {},
   "outputs": [],
   "source": [
    "y4 = exp(x)"
   ]
  },
  {
   "cell_type": "code",
   "execution_count": 15,
   "id": "3a8cbded",
   "metadata": {},
   "outputs": [],
   "source": [
    "ytotal = cbind(y1, y2, y3, y4)"
   ]
  },
  {
   "cell_type": "code",
   "execution_count": 16,
   "id": "17656622",
   "metadata": {},
   "outputs": [
    {
     "data": {
      "text/html": [
       "<table class=\"dataframe\">\n",
       "<caption>A matrix: 81 × 4 of type dbl</caption>\n",
       "<thead>\n",
       "\t<tr><th scope=col>y1</th><th scope=col>y2</th><th scope=col>y3</th><th scope=col>y4</th></tr>\n",
       "</thead>\n",
       "<tbody>\n",
       "\t<tr><td>0.00</td><td> 0.000</td><td>       -Inf</td><td> 1.000000</td></tr>\n",
       "\t<tr><td>0.01</td><td> 0.001</td><td>-2.30258509</td><td> 1.105171</td></tr>\n",
       "\t<tr><td>0.04</td><td> 0.008</td><td>-1.60943791</td><td> 1.221403</td></tr>\n",
       "\t<tr><td>0.09</td><td> 0.027</td><td>-1.20397280</td><td> 1.349859</td></tr>\n",
       "\t<tr><td>0.16</td><td> 0.064</td><td>-0.91629073</td><td> 1.491825</td></tr>\n",
       "\t<tr><td>0.25</td><td> 0.125</td><td>-0.69314718</td><td> 1.648721</td></tr>\n",
       "\t<tr><td>0.36</td><td> 0.216</td><td>-0.51082562</td><td> 1.822119</td></tr>\n",
       "\t<tr><td>0.49</td><td> 0.343</td><td>-0.35667494</td><td> 2.013753</td></tr>\n",
       "\t<tr><td>0.64</td><td> 0.512</td><td>-0.22314355</td><td> 2.225541</td></tr>\n",
       "\t<tr><td>0.81</td><td> 0.729</td><td>-0.10536052</td><td> 2.459603</td></tr>\n",
       "\t<tr><td>1.00</td><td> 1.000</td><td> 0.00000000</td><td> 2.718282</td></tr>\n",
       "\t<tr><td>1.21</td><td> 1.331</td><td> 0.09531018</td><td> 3.004166</td></tr>\n",
       "\t<tr><td>1.44</td><td> 1.728</td><td> 0.18232156</td><td> 3.320117</td></tr>\n",
       "\t<tr><td>1.69</td><td> 2.197</td><td> 0.26236426</td><td> 3.669297</td></tr>\n",
       "\t<tr><td>1.96</td><td> 2.744</td><td> 0.33647224</td><td> 4.055200</td></tr>\n",
       "\t<tr><td>2.25</td><td> 3.375</td><td> 0.40546511</td><td> 4.481689</td></tr>\n",
       "\t<tr><td>2.56</td><td> 4.096</td><td> 0.47000363</td><td> 4.953032</td></tr>\n",
       "\t<tr><td>2.89</td><td> 4.913</td><td> 0.53062825</td><td> 5.473947</td></tr>\n",
       "\t<tr><td>3.24</td><td> 5.832</td><td> 0.58778666</td><td> 6.049647</td></tr>\n",
       "\t<tr><td>3.61</td><td> 6.859</td><td> 0.64185389</td><td> 6.685894</td></tr>\n",
       "\t<tr><td>4.00</td><td> 8.000</td><td> 0.69314718</td><td> 7.389056</td></tr>\n",
       "\t<tr><td>4.41</td><td> 9.261</td><td> 0.74193734</td><td> 8.166170</td></tr>\n",
       "\t<tr><td>4.84</td><td>10.648</td><td> 0.78845736</td><td> 9.025013</td></tr>\n",
       "\t<tr><td>5.29</td><td>12.167</td><td> 0.83290912</td><td> 9.974182</td></tr>\n",
       "\t<tr><td>5.76</td><td>13.824</td><td> 0.87546874</td><td>11.023176</td></tr>\n",
       "\t<tr><td>6.25</td><td>15.625</td><td> 0.91629073</td><td>12.182494</td></tr>\n",
       "\t<tr><td>6.76</td><td>17.576</td><td> 0.95551145</td><td>13.463738</td></tr>\n",
       "\t<tr><td>7.29</td><td>19.683</td><td> 0.99325177</td><td>14.879732</td></tr>\n",
       "\t<tr><td>7.84</td><td>21.952</td><td> 1.02961942</td><td>16.444647</td></tr>\n",
       "\t<tr><td>8.41</td><td>24.389</td><td> 1.06471074</td><td>18.174145</td></tr>\n",
       "\t<tr><td>⋮</td><td>⋮</td><td>⋮</td><td>⋮</td></tr>\n",
       "\t<tr><td>26.01</td><td>132.651</td><td>1.629241</td><td> 164.0219</td></tr>\n",
       "\t<tr><td>27.04</td><td>140.608</td><td>1.648659</td><td> 181.2722</td></tr>\n",
       "\t<tr><td>28.09</td><td>148.877</td><td>1.667707</td><td> 200.3368</td></tr>\n",
       "\t<tr><td>29.16</td><td>157.464</td><td>1.686399</td><td> 221.4064</td></tr>\n",
       "\t<tr><td>30.25</td><td>166.375</td><td>1.704748</td><td> 244.6919</td></tr>\n",
       "\t<tr><td>31.36</td><td>175.616</td><td>1.722767</td><td> 270.4264</td></tr>\n",
       "\t<tr><td>32.49</td><td>185.193</td><td>1.740466</td><td> 298.8674</td></tr>\n",
       "\t<tr><td>33.64</td><td>195.112</td><td>1.757858</td><td> 330.2996</td></tr>\n",
       "\t<tr><td>34.81</td><td>205.379</td><td>1.774952</td><td> 365.0375</td></tr>\n",
       "\t<tr><td>36.00</td><td>216.000</td><td>1.791759</td><td> 403.4288</td></tr>\n",
       "\t<tr><td>37.21</td><td>226.981</td><td>1.808289</td><td> 445.8578</td></tr>\n",
       "\t<tr><td>38.44</td><td>238.328</td><td>1.824549</td><td> 492.7490</td></tr>\n",
       "\t<tr><td>39.69</td><td>250.047</td><td>1.840550</td><td> 544.5719</td></tr>\n",
       "\t<tr><td>40.96</td><td>262.144</td><td>1.856298</td><td> 601.8450</td></tr>\n",
       "\t<tr><td>42.25</td><td>274.625</td><td>1.871802</td><td> 665.1416</td></tr>\n",
       "\t<tr><td>43.56</td><td>287.496</td><td>1.887070</td><td> 735.0952</td></tr>\n",
       "\t<tr><td>44.89</td><td>300.763</td><td>1.902108</td><td> 812.4058</td></tr>\n",
       "\t<tr><td>46.24</td><td>314.432</td><td>1.916923</td><td> 897.8473</td></tr>\n",
       "\t<tr><td>47.61</td><td>328.509</td><td>1.931521</td><td> 992.2747</td></tr>\n",
       "\t<tr><td>49.00</td><td>343.000</td><td>1.945910</td><td>1096.6332</td></tr>\n",
       "\t<tr><td>50.41</td><td>357.911</td><td>1.960095</td><td>1211.9671</td></tr>\n",
       "\t<tr><td>51.84</td><td>373.248</td><td>1.974081</td><td>1339.4308</td></tr>\n",
       "\t<tr><td>53.29</td><td>389.017</td><td>1.987874</td><td>1480.2999</td></tr>\n",
       "\t<tr><td>54.76</td><td>405.224</td><td>2.001480</td><td>1635.9844</td></tr>\n",
       "\t<tr><td>56.25</td><td>421.875</td><td>2.014903</td><td>1808.0424</td></tr>\n",
       "\t<tr><td>57.76</td><td>438.976</td><td>2.028148</td><td>1998.1959</td></tr>\n",
       "\t<tr><td>59.29</td><td>456.533</td><td>2.041220</td><td>2208.3480</td></tr>\n",
       "\t<tr><td>60.84</td><td>474.552</td><td>2.054124</td><td>2440.6020</td></tr>\n",
       "\t<tr><td>62.41</td><td>493.039</td><td>2.066863</td><td>2697.2823</td></tr>\n",
       "\t<tr><td>64.00</td><td>512.000</td><td>2.079442</td><td>2980.9580</td></tr>\n",
       "</tbody>\n",
       "</table>\n"
      ],
      "text/latex": [
       "A matrix: 81 × 4 of type dbl\n",
       "\\begin{tabular}{llll}\n",
       " y1 & y2 & y3 & y4\\\\\n",
       "\\hline\n",
       "\t 0.00 &  0.000 &        -Inf &  1.000000\\\\\n",
       "\t 0.01 &  0.001 & -2.30258509 &  1.105171\\\\\n",
       "\t 0.04 &  0.008 & -1.60943791 &  1.221403\\\\\n",
       "\t 0.09 &  0.027 & -1.20397280 &  1.349859\\\\\n",
       "\t 0.16 &  0.064 & -0.91629073 &  1.491825\\\\\n",
       "\t 0.25 &  0.125 & -0.69314718 &  1.648721\\\\\n",
       "\t 0.36 &  0.216 & -0.51082562 &  1.822119\\\\\n",
       "\t 0.49 &  0.343 & -0.35667494 &  2.013753\\\\\n",
       "\t 0.64 &  0.512 & -0.22314355 &  2.225541\\\\\n",
       "\t 0.81 &  0.729 & -0.10536052 &  2.459603\\\\\n",
       "\t 1.00 &  1.000 &  0.00000000 &  2.718282\\\\\n",
       "\t 1.21 &  1.331 &  0.09531018 &  3.004166\\\\\n",
       "\t 1.44 &  1.728 &  0.18232156 &  3.320117\\\\\n",
       "\t 1.69 &  2.197 &  0.26236426 &  3.669297\\\\\n",
       "\t 1.96 &  2.744 &  0.33647224 &  4.055200\\\\\n",
       "\t 2.25 &  3.375 &  0.40546511 &  4.481689\\\\\n",
       "\t 2.56 &  4.096 &  0.47000363 &  4.953032\\\\\n",
       "\t 2.89 &  4.913 &  0.53062825 &  5.473947\\\\\n",
       "\t 3.24 &  5.832 &  0.58778666 &  6.049647\\\\\n",
       "\t 3.61 &  6.859 &  0.64185389 &  6.685894\\\\\n",
       "\t 4.00 &  8.000 &  0.69314718 &  7.389056\\\\\n",
       "\t 4.41 &  9.261 &  0.74193734 &  8.166170\\\\\n",
       "\t 4.84 & 10.648 &  0.78845736 &  9.025013\\\\\n",
       "\t 5.29 & 12.167 &  0.83290912 &  9.974182\\\\\n",
       "\t 5.76 & 13.824 &  0.87546874 & 11.023176\\\\\n",
       "\t 6.25 & 15.625 &  0.91629073 & 12.182494\\\\\n",
       "\t 6.76 & 17.576 &  0.95551145 & 13.463738\\\\\n",
       "\t 7.29 & 19.683 &  0.99325177 & 14.879732\\\\\n",
       "\t 7.84 & 21.952 &  1.02961942 & 16.444647\\\\\n",
       "\t 8.41 & 24.389 &  1.06471074 & 18.174145\\\\\n",
       "\t ⋮ & ⋮ & ⋮ & ⋮\\\\\n",
       "\t 26.01 & 132.651 & 1.629241 &  164.0219\\\\\n",
       "\t 27.04 & 140.608 & 1.648659 &  181.2722\\\\\n",
       "\t 28.09 & 148.877 & 1.667707 &  200.3368\\\\\n",
       "\t 29.16 & 157.464 & 1.686399 &  221.4064\\\\\n",
       "\t 30.25 & 166.375 & 1.704748 &  244.6919\\\\\n",
       "\t 31.36 & 175.616 & 1.722767 &  270.4264\\\\\n",
       "\t 32.49 & 185.193 & 1.740466 &  298.8674\\\\\n",
       "\t 33.64 & 195.112 & 1.757858 &  330.2996\\\\\n",
       "\t 34.81 & 205.379 & 1.774952 &  365.0375\\\\\n",
       "\t 36.00 & 216.000 & 1.791759 &  403.4288\\\\\n",
       "\t 37.21 & 226.981 & 1.808289 &  445.8578\\\\\n",
       "\t 38.44 & 238.328 & 1.824549 &  492.7490\\\\\n",
       "\t 39.69 & 250.047 & 1.840550 &  544.5719\\\\\n",
       "\t 40.96 & 262.144 & 1.856298 &  601.8450\\\\\n",
       "\t 42.25 & 274.625 & 1.871802 &  665.1416\\\\\n",
       "\t 43.56 & 287.496 & 1.887070 &  735.0952\\\\\n",
       "\t 44.89 & 300.763 & 1.902108 &  812.4058\\\\\n",
       "\t 46.24 & 314.432 & 1.916923 &  897.8473\\\\\n",
       "\t 47.61 & 328.509 & 1.931521 &  992.2747\\\\\n",
       "\t 49.00 & 343.000 & 1.945910 & 1096.6332\\\\\n",
       "\t 50.41 & 357.911 & 1.960095 & 1211.9671\\\\\n",
       "\t 51.84 & 373.248 & 1.974081 & 1339.4308\\\\\n",
       "\t 53.29 & 389.017 & 1.987874 & 1480.2999\\\\\n",
       "\t 54.76 & 405.224 & 2.001480 & 1635.9844\\\\\n",
       "\t 56.25 & 421.875 & 2.014903 & 1808.0424\\\\\n",
       "\t 57.76 & 438.976 & 2.028148 & 1998.1959\\\\\n",
       "\t 59.29 & 456.533 & 2.041220 & 2208.3480\\\\\n",
       "\t 60.84 & 474.552 & 2.054124 & 2440.6020\\\\\n",
       "\t 62.41 & 493.039 & 2.066863 & 2697.2823\\\\\n",
       "\t 64.00 & 512.000 & 2.079442 & 2980.9580\\\\\n",
       "\\end{tabular}\n"
      ],
      "text/markdown": [
       "\n",
       "A matrix: 81 × 4 of type dbl\n",
       "\n",
       "| y1 | y2 | y3 | y4 |\n",
       "|---|---|---|---|\n",
       "| 0.00 |  0.000 |        -Inf |  1.000000 |\n",
       "| 0.01 |  0.001 | -2.30258509 |  1.105171 |\n",
       "| 0.04 |  0.008 | -1.60943791 |  1.221403 |\n",
       "| 0.09 |  0.027 | -1.20397280 |  1.349859 |\n",
       "| 0.16 |  0.064 | -0.91629073 |  1.491825 |\n",
       "| 0.25 |  0.125 | -0.69314718 |  1.648721 |\n",
       "| 0.36 |  0.216 | -0.51082562 |  1.822119 |\n",
       "| 0.49 |  0.343 | -0.35667494 |  2.013753 |\n",
       "| 0.64 |  0.512 | -0.22314355 |  2.225541 |\n",
       "| 0.81 |  0.729 | -0.10536052 |  2.459603 |\n",
       "| 1.00 |  1.000 |  0.00000000 |  2.718282 |\n",
       "| 1.21 |  1.331 |  0.09531018 |  3.004166 |\n",
       "| 1.44 |  1.728 |  0.18232156 |  3.320117 |\n",
       "| 1.69 |  2.197 |  0.26236426 |  3.669297 |\n",
       "| 1.96 |  2.744 |  0.33647224 |  4.055200 |\n",
       "| 2.25 |  3.375 |  0.40546511 |  4.481689 |\n",
       "| 2.56 |  4.096 |  0.47000363 |  4.953032 |\n",
       "| 2.89 |  4.913 |  0.53062825 |  5.473947 |\n",
       "| 3.24 |  5.832 |  0.58778666 |  6.049647 |\n",
       "| 3.61 |  6.859 |  0.64185389 |  6.685894 |\n",
       "| 4.00 |  8.000 |  0.69314718 |  7.389056 |\n",
       "| 4.41 |  9.261 |  0.74193734 |  8.166170 |\n",
       "| 4.84 | 10.648 |  0.78845736 |  9.025013 |\n",
       "| 5.29 | 12.167 |  0.83290912 |  9.974182 |\n",
       "| 5.76 | 13.824 |  0.87546874 | 11.023176 |\n",
       "| 6.25 | 15.625 |  0.91629073 | 12.182494 |\n",
       "| 6.76 | 17.576 |  0.95551145 | 13.463738 |\n",
       "| 7.29 | 19.683 |  0.99325177 | 14.879732 |\n",
       "| 7.84 | 21.952 |  1.02961942 | 16.444647 |\n",
       "| 8.41 | 24.389 |  1.06471074 | 18.174145 |\n",
       "| ⋮ | ⋮ | ⋮ | ⋮ |\n",
       "| 26.01 | 132.651 | 1.629241 |  164.0219 |\n",
       "| 27.04 | 140.608 | 1.648659 |  181.2722 |\n",
       "| 28.09 | 148.877 | 1.667707 |  200.3368 |\n",
       "| 29.16 | 157.464 | 1.686399 |  221.4064 |\n",
       "| 30.25 | 166.375 | 1.704748 |  244.6919 |\n",
       "| 31.36 | 175.616 | 1.722767 |  270.4264 |\n",
       "| 32.49 | 185.193 | 1.740466 |  298.8674 |\n",
       "| 33.64 | 195.112 | 1.757858 |  330.2996 |\n",
       "| 34.81 | 205.379 | 1.774952 |  365.0375 |\n",
       "| 36.00 | 216.000 | 1.791759 |  403.4288 |\n",
       "| 37.21 | 226.981 | 1.808289 |  445.8578 |\n",
       "| 38.44 | 238.328 | 1.824549 |  492.7490 |\n",
       "| 39.69 | 250.047 | 1.840550 |  544.5719 |\n",
       "| 40.96 | 262.144 | 1.856298 |  601.8450 |\n",
       "| 42.25 | 274.625 | 1.871802 |  665.1416 |\n",
       "| 43.56 | 287.496 | 1.887070 |  735.0952 |\n",
       "| 44.89 | 300.763 | 1.902108 |  812.4058 |\n",
       "| 46.24 | 314.432 | 1.916923 |  897.8473 |\n",
       "| 47.61 | 328.509 | 1.931521 |  992.2747 |\n",
       "| 49.00 | 343.000 | 1.945910 | 1096.6332 |\n",
       "| 50.41 | 357.911 | 1.960095 | 1211.9671 |\n",
       "| 51.84 | 373.248 | 1.974081 | 1339.4308 |\n",
       "| 53.29 | 389.017 | 1.987874 | 1480.2999 |\n",
       "| 54.76 | 405.224 | 2.001480 | 1635.9844 |\n",
       "| 56.25 | 421.875 | 2.014903 | 1808.0424 |\n",
       "| 57.76 | 438.976 | 2.028148 | 1998.1959 |\n",
       "| 59.29 | 456.533 | 2.041220 | 2208.3480 |\n",
       "| 60.84 | 474.552 | 2.054124 | 2440.6020 |\n",
       "| 62.41 | 493.039 | 2.066863 | 2697.2823 |\n",
       "| 64.00 | 512.000 | 2.079442 | 2980.9580 |\n",
       "\n"
      ],
      "text/plain": [
       "      y1    y2      y3          y4       \n",
       " [1,] 0.00   0.000         -Inf  1.000000\n",
       " [2,] 0.01   0.001  -2.30258509  1.105171\n",
       " [3,] 0.04   0.008  -1.60943791  1.221403\n",
       " [4,] 0.09   0.027  -1.20397280  1.349859\n",
       " [5,] 0.16   0.064  -0.91629073  1.491825\n",
       " [6,] 0.25   0.125  -0.69314718  1.648721\n",
       " [7,] 0.36   0.216  -0.51082562  1.822119\n",
       " [8,] 0.49   0.343  -0.35667494  2.013753\n",
       " [9,] 0.64   0.512  -0.22314355  2.225541\n",
       "[10,] 0.81   0.729  -0.10536052  2.459603\n",
       "[11,] 1.00   1.000   0.00000000  2.718282\n",
       "[12,] 1.21   1.331   0.09531018  3.004166\n",
       "[13,] 1.44   1.728   0.18232156  3.320117\n",
       "[14,] 1.69   2.197   0.26236426  3.669297\n",
       "[15,] 1.96   2.744   0.33647224  4.055200\n",
       "[16,] 2.25   3.375   0.40546511  4.481689\n",
       "[17,] 2.56   4.096   0.47000363  4.953032\n",
       "[18,] 2.89   4.913   0.53062825  5.473947\n",
       "[19,] 3.24   5.832   0.58778666  6.049647\n",
       "[20,] 3.61   6.859   0.64185389  6.685894\n",
       "[21,] 4.00   8.000   0.69314718  7.389056\n",
       "[22,] 4.41   9.261   0.74193734  8.166170\n",
       "[23,] 4.84  10.648   0.78845736  9.025013\n",
       "[24,] 5.29  12.167   0.83290912  9.974182\n",
       "[25,] 5.76  13.824   0.87546874 11.023176\n",
       "[26,] 6.25  15.625   0.91629073 12.182494\n",
       "[27,] 6.76  17.576   0.95551145 13.463738\n",
       "[28,] 7.29  19.683   0.99325177 14.879732\n",
       "[29,] 7.84  21.952   1.02961942 16.444647\n",
       "[30,] 8.41  24.389   1.06471074 18.174145\n",
       "[31,] ⋮     ⋮       ⋮           ⋮        \n",
       "[32,] 26.01 132.651 1.629241     164.0219\n",
       "[33,] 27.04 140.608 1.648659     181.2722\n",
       "[34,] 28.09 148.877 1.667707     200.3368\n",
       "[35,] 29.16 157.464 1.686399     221.4064\n",
       "[36,] 30.25 166.375 1.704748     244.6919\n",
       "[37,] 31.36 175.616 1.722767     270.4264\n",
       "[38,] 32.49 185.193 1.740466     298.8674\n",
       "[39,] 33.64 195.112 1.757858     330.2996\n",
       "[40,] 34.81 205.379 1.774952     365.0375\n",
       "[41,] 36.00 216.000 1.791759     403.4288\n",
       "[42,] 37.21 226.981 1.808289     445.8578\n",
       "[43,] 38.44 238.328 1.824549     492.7490\n",
       "[44,] 39.69 250.047 1.840550     544.5719\n",
       "[45,] 40.96 262.144 1.856298     601.8450\n",
       "[46,] 42.25 274.625 1.871802     665.1416\n",
       "[47,] 43.56 287.496 1.887070     735.0952\n",
       "[48,] 44.89 300.763 1.902108     812.4058\n",
       "[49,] 46.24 314.432 1.916923     897.8473\n",
       "[50,] 47.61 328.509 1.931521     992.2747\n",
       "[51,] 49.00 343.000 1.945910    1096.6332\n",
       "[52,] 50.41 357.911 1.960095    1211.9671\n",
       "[53,] 51.84 373.248 1.974081    1339.4308\n",
       "[54,] 53.29 389.017 1.987874    1480.2999\n",
       "[55,] 54.76 405.224 2.001480    1635.9844\n",
       "[56,] 56.25 421.875 2.014903    1808.0424\n",
       "[57,] 57.76 438.976 2.028148    1998.1959\n",
       "[58,] 59.29 456.533 2.041220    2208.3480\n",
       "[59,] 60.84 474.552 2.054124    2440.6020\n",
       "[60,] 62.41 493.039 2.066863    2697.2823\n",
       "[61,] 64.00 512.000 2.079442    2980.9580"
      ]
     },
     "metadata": {},
     "output_type": "display_data"
    }
   ],
   "source": [
    "ytotal"
   ]
  },
  {
   "cell_type": "code",
   "execution_count": 18,
   "id": "b177203a",
   "metadata": {},
   "outputs": [
    {
     "data": {
      "image/png": "[encoded data removed]",
      "text/plain": [
       "plot without title"
      ]
     },
     "metadata": {
      "image/png": {
       "height": 420,
       "width": 420
      }
     },
     "output_type": "display_data"
    }
   ],
   "source": [
    "plot(x, y1,\n",
    "    type = 'o')"
   ]
  },
  {
   "cell_type": "code",
   "execution_count": 20,
   "id": "8de801fe",
   "metadata": {},
   "outputs": [
    {
     "data": {
      "image/png": "[encoded data removed]",
      "text/plain": [
       "plot without title"
      ]
     },
     "metadata": {
      "image/png": {
       "height": 420,
       "width": 420
      }
     },
     "output_type": "display_data"
    }
   ],
   "source": [
    "plot(x, y2,\n",
    "    type = 'l')"
   ]
  },
  {
   "cell_type": "code",
   "execution_count": 21,
   "id": "96c93467",
   "metadata": {},
   "outputs": [
    {
     "data": {
      "image/png": "[encoded data removed]",
      "text/plain": [
       "plot without title"
      ]
     },
     "metadata": {
      "image/png": {
       "height": 420,
       "width": 420
      }
     },
     "output_type": "display_data"
    }
   ],
   "source": [
    "plot(x, y3,\n",
    "    type = 'l')"
   ]
  },
  {
   "cell_type": "code",
   "execution_count": 22,
   "id": "4581a42e",
   "metadata": {},
   "outputs": [
    {
     "data": {
      "image/png": "[encoded data removed]",
      "text/plain": [
       "plot without title"
      ]
     },
     "metadata": {
      "image/png": {
       "height": 420,
       "width": 420
      }
     },
     "output_type": "display_data"
    }
   ],
   "source": [
    "plot(x, y4,\n",
    "    type = 'l')"
   ]
  },
  {
   "cell_type": "code",
   "execution_count": 23,
   "id": "e876d5a3",
   "metadata": {},
   "outputs": [],
   "source": [
    "x = seq(-2 * pi, 2 * pi, 0.1)"
   ]
  },
  {
   "cell_type": "code",
   "execution_count": 24,
   "id": "07dd9395",
   "metadata": {},
   "outputs": [
    {
     "data": {
      "text/html": [
       "<style>\n",
       ".list-inline {list-style: none; margin:0; padding: 0}\n",
       ".list-inline>li {display: inline-block}\n",
       ".list-inline>li:not(:last-child)::after {content: \"\\00b7\"; padding: 0 .5ex}\n",
       "</style>\n",
       "<ol class=list-inline><li>-6.28318530717959</li><li>-6.18318530717959</li><li>-6.08318530717959</li><li>-5.98318530717959</li><li>-5.88318530717959</li><li>-5.78318530717959</li><li>-5.68318530717959</li><li>-5.58318530717959</li><li>-5.48318530717959</li><li>-5.38318530717959</li><li>-5.28318530717959</li><li>-5.18318530717959</li><li>-5.08318530717959</li><li>-4.98318530717959</li><li>-4.88318530717959</li><li>-4.78318530717959</li><li>-4.68318530717959</li><li>-4.58318530717959</li><li>-4.48318530717959</li><li>-4.38318530717959</li><li>-4.28318530717959</li><li>-4.18318530717959</li><li>-4.08318530717959</li><li>-3.98318530717959</li><li>-3.88318530717959</li><li>-3.78318530717959</li><li>-3.68318530717959</li><li>-3.58318530717959</li><li>-3.48318530717959</li><li>-3.38318530717959</li><li>-3.28318530717959</li><li>-3.18318530717959</li><li>-3.08318530717959</li><li>-2.98318530717959</li><li>-2.88318530717959</li><li>-2.78318530717959</li><li>-2.68318530717959</li><li>-2.58318530717959</li><li>-2.48318530717959</li><li>-2.38318530717959</li><li>-2.28318530717959</li><li>-2.18318530717959</li><li>-2.08318530717959</li><li>-1.98318530717959</li><li>-1.88318530717959</li><li>-1.78318530717959</li><li>-1.68318530717959</li><li>-1.58318530717959</li><li>-1.48318530717959</li><li>-1.38318530717959</li><li>-1.28318530717959</li><li>-1.18318530717959</li><li>-1.08318530717959</li><li>-0.983185307179586</li><li>-0.883185307179586</li><li>-0.783185307179586</li><li>-0.683185307179586</li><li>-0.583185307179586</li><li>-0.483185307179586</li><li>-0.383185307179586</li><li>-0.283185307179586</li><li>-0.183185307179586</li><li>-0.0831853071795861</li><li>0.0168146928204145</li><li>0.116814692820414</li><li>0.216814692820414</li><li>0.316814692820414</li><li>0.416814692820414</li><li>0.516814692820414</li><li>0.616814692820414</li><li>0.716814692820414</li><li>0.816814692820414</li><li>0.916814692820414</li><li>1.01681469282041</li><li>1.11681469282041</li><li>1.21681469282041</li><li>1.31681469282041</li><li>1.41681469282041</li><li>1.51681469282041</li><li>1.61681469282041</li><li>1.71681469282041</li><li>1.81681469282041</li><li>1.91681469282041</li><li>2.01681469282041</li><li>2.11681469282041</li><li>2.21681469282041</li><li>2.31681469282041</li><li>2.41681469282041</li><li>2.51681469282041</li><li>2.61681469282041</li><li>2.71681469282041</li><li>2.81681469282041</li><li>2.91681469282041</li><li>3.01681469282041</li><li>3.11681469282041</li><li>3.21681469282041</li><li>3.31681469282042</li><li>3.41681469282041</li><li>3.51681469282041</li><li>3.61681469282041</li><li>3.71681469282041</li><li>3.81681469282042</li><li>3.91681469282041</li><li>4.01681469282041</li><li>4.11681469282041</li><li>4.21681469282041</li><li>4.31681469282042</li><li>4.41681469282041</li><li>4.51681469282041</li><li>4.61681469282041</li><li>4.71681469282041</li><li>4.81681469282042</li><li>4.91681469282041</li><li>5.01681469282041</li><li>5.11681469282041</li><li>5.21681469282041</li><li>5.31681469282042</li><li>5.41681469282041</li><li>5.51681469282041</li><li>5.61681469282041</li><li>5.71681469282041</li><li>5.81681469282042</li><li>5.91681469282041</li><li>6.01681469282041</li><li>6.11681469282041</li><li>6.21681469282041</li></ol>\n"
      ],
      "text/latex": [
       "\\begin{enumerate*}\n",
       "\\item -6.28318530717959\n",
       "\\item -6.18318530717959\n",
       "\\item -6.08318530717959\n",
       "\\item -5.98318530717959\n",
       "\\item -5.88318530717959\n",
       "\\item -5.78318530717959\n",
       "\\item -5.68318530717959\n",
       "\\item -5.58318530717959\n",
       "\\item -5.48318530717959\n",
       "\\item -5.38318530717959\n",
       "\\item -5.28318530717959\n",
       "\\item -5.18318530717959\n",
       "\\item -5.08318530717959\n",
       "\\item -4.98318530717959\n",
       "\\item -4.88318530717959\n",
       "\\item -4.78318530717959\n",
       "\\item -4.68318530717959\n",
       "\\item -4.58318530717959\n",
       "\\item -4.48318530717959\n",
       "\\item -4.38318530717959\n",
       "\\item -4.28318530717959\n",
       "\\item -4.18318530717959\n",
       "\\item -4.08318530717959\n",
       "\\item -3.98318530717959\n",
       "\\item -3.88318530717959\n",
       "\\item -3.78318530717959\n",
       "\\item -3.68318530717959\n",
       "\\item -3.58318530717959\n",
       "\\item -3.48318530717959\n",
       "\\item -3.38318530717959\n",
       "\\item -3.28318530717959\n",
       "\\item -3.18318530717959\n",
       "\\item -3.08318530717959\n",
       "\\item -2.98318530717959\n",
       "\\item -2.88318530717959\n",
       "\\item -2.78318530717959\n",
       "\\item -2.68318530717959\n",
       "\\item -2.58318530717959\n",
       "\\item -2.48318530717959\n",
       "\\item -2.38318530717959\n",
       "\\item -2.28318530717959\n",
       "\\item -2.18318530717959\n",
       "\\item -2.08318530717959\n",
       "\\item -1.98318530717959\n",
       "\\item -1.88318530717959\n",
       "\\item -1.78318530717959\n",
       "\\item -1.68318530717959\n",
       "\\item -1.58318530717959\n",
       "\\item -1.48318530717959\n",
       "\\item -1.38318530717959\n",
       "\\item -1.28318530717959\n",
       "\\item -1.18318530717959\n",
       "\\item -1.08318530717959\n",
       "\\item -0.983185307179586\n",
       "\\item -0.883185307179586\n",
       "\\item -0.783185307179586\n",
       "\\item -0.683185307179586\n",
       "\\item -0.583185307179586\n",
       "\\item -0.483185307179586\n",
       "\\item -0.383185307179586\n",
       "\\item -0.283185307179586\n",
       "\\item -0.183185307179586\n",
       "\\item -0.0831853071795861\n",
       "\\item 0.0168146928204145\n",
       "\\item 0.116814692820414\n",
       "\\item 0.216814692820414\n",
       "\\item 0.316814692820414\n",
       "\\item 0.416814692820414\n",
       "\\item 0.516814692820414\n",
       "\\item 0.616814692820414\n",
       "\\item 0.716814692820414\n",
       "\\item 0.816814692820414\n",
       "\\item 0.916814692820414\n",
       "\\item 1.01681469282041\n",
       "\\item 1.11681469282041\n",
       "\\item 1.21681469282041\n",
       "\\item 1.31681469282041\n",
       "\\item 1.41681469282041\n",
       "\\item 1.51681469282041\n",
       "\\item 1.61681469282041\n",
       "\\item 1.71681469282041\n",
       "\\item 1.81681469282041\n",
       "\\item 1.91681469282041\n",
       "\\item 2.01681469282041\n",
       "\\item 2.11681469282041\n",
       "\\item 2.21681469282041\n",
       "\\item 2.31681469282041\n",
       "\\item 2.41681469282041\n",
       "\\item 2.51681469282041\n",
       "\\item 2.61681469282041\n",
       "\\item 2.71681469282041\n",
       "\\item 2.81681469282041\n",
       "\\item 2.91681469282041\n",
       "\\item 3.01681469282041\n",
       "\\item 3.11681469282041\n",
       "\\item 3.21681469282041\n",
       "\\item 3.31681469282042\n",
       "\\item 3.41681469282041\n",
       "\\item 3.51681469282041\n",
       "\\item 3.61681469282041\n",
       "\\item 3.71681469282041\n",
       "\\item 3.81681469282042\n",
       "\\item 3.91681469282041\n",
       "\\item 4.01681469282041\n",
       "\\item 4.11681469282041\n",
       "\\item 4.21681469282041\n",
       "\\item 4.31681469282042\n",
       "\\item 4.41681469282041\n",
       "\\item 4.51681469282041\n",
       "\\item 4.61681469282041\n",
       "\\item 4.71681469282041\n",
       "\\item 4.81681469282042\n",
       "\\item 4.91681469282041\n",
       "\\item 5.01681469282041\n",
       "\\item 5.11681469282041\n",
       "\\item 5.21681469282041\n",
       "\\item 5.31681469282042\n",
       "\\item 5.41681469282041\n",
       "\\item 5.51681469282041\n",
       "\\item 5.61681469282041\n",
       "\\item 5.71681469282041\n",
       "\\item 5.81681469282042\n",
       "\\item 5.91681469282041\n",
       "\\item 6.01681469282041\n",
       "\\item 6.11681469282041\n",
       "\\item 6.21681469282041\n",
       "\\end{enumerate*}\n"
      ],
      "text/markdown": [
       "1. -6.28318530717959\n",
       "2. -6.18318530717959\n",
       "3. -6.08318530717959\n",
       "4. -5.98318530717959\n",
       "5. -5.88318530717959\n",
       "6. -5.78318530717959\n",
       "7. -5.68318530717959\n",
       "8. -5.58318530717959\n",
       "9. -5.48318530717959\n",
       "10. -5.38318530717959\n",
       "11. -5.28318530717959\n",
       "12. -5.18318530717959\n",
       "13. -5.08318530717959\n",
       "14. -4.98318530717959\n",
       "15. -4.88318530717959\n",
       "16. -4.78318530717959\n",
       "17. -4.68318530717959\n",
       "18. -4.58318530717959\n",
       "19. -4.48318530717959\n",
       "20. -4.38318530717959\n",
       "21. -4.28318530717959\n",
       "22. -4.18318530717959\n",
       "23. -4.08318530717959\n",
       "24. -3.98318530717959\n",
       "25. -3.88318530717959\n",
       "26. -3.78318530717959\n",
       "27. -3.68318530717959\n",
       "28. -3.58318530717959\n",
       "29. -3.48318530717959\n",
       "30. -3.38318530717959\n",
       "31. -3.28318530717959\n",
       "32. -3.18318530717959\n",
       "33. -3.08318530717959\n",
       "34. -2.98318530717959\n",
       "35. -2.88318530717959\n",
       "36. -2.78318530717959\n",
       "37. -2.68318530717959\n",
       "38. -2.58318530717959\n",
       "39. -2.48318530717959\n",
       "40. -2.38318530717959\n",
       "41. -2.28318530717959\n",
       "42. -2.18318530717959\n",
       "43. -2.08318530717959\n",
       "44. -1.98318530717959\n",
       "45. -1.88318530717959\n",
       "46. -1.78318530717959\n",
       "47. -1.68318530717959\n",
       "48. -1.58318530717959\n",
       "49. -1.48318530717959\n",
       "50. -1.38318530717959\n",
       "51. -1.28318530717959\n",
       "52. -1.18318530717959\n",
       "53. -1.08318530717959\n",
       "54. -0.983185307179586\n",
       "55. -0.883185307179586\n",
       "56. -0.783185307179586\n",
       "57. -0.683185307179586\n",
       "58. -0.583185307179586\n",
       "59. -0.483185307179586\n",
       "60. -0.383185307179586\n",
       "61. -0.283185307179586\n",
       "62. -0.183185307179586\n",
       "63. -0.0831853071795861\n",
       "64. 0.0168146928204145\n",
       "65. 0.116814692820414\n",
       "66. 0.216814692820414\n",
       "67. 0.316814692820414\n",
       "68. 0.416814692820414\n",
       "69. 0.516814692820414\n",
       "70. 0.616814692820414\n",
       "71. 0.716814692820414\n",
       "72. 0.816814692820414\n",
       "73. 0.916814692820414\n",
       "74. 1.01681469282041\n",
       "75. 1.11681469282041\n",
       "76. 1.21681469282041\n",
       "77. 1.31681469282041\n",
       "78. 1.41681469282041\n",
       "79. 1.51681469282041\n",
       "80. 1.61681469282041\n",
       "81. 1.71681469282041\n",
       "82. 1.81681469282041\n",
       "83. 1.91681469282041\n",
       "84. 2.01681469282041\n",
       "85. 2.11681469282041\n",
       "86. 2.21681469282041\n",
       "87. 2.31681469282041\n",
       "88. 2.41681469282041\n",
       "89. 2.51681469282041\n",
       "90. 2.61681469282041\n",
       "91. 2.71681469282041\n",
       "92. 2.81681469282041\n",
       "93. 2.91681469282041\n",
       "94. 3.01681469282041\n",
       "95. 3.11681469282041\n",
       "96. 3.21681469282041\n",
       "97. 3.31681469282042\n",
       "98. 3.41681469282041\n",
       "99. 3.51681469282041\n",
       "100. 3.61681469282041\n",
       "101. 3.71681469282041\n",
       "102. 3.81681469282042\n",
       "103. 3.91681469282041\n",
       "104. 4.01681469282041\n",
       "105. 4.11681469282041\n",
       "106. 4.21681469282041\n",
       "107. 4.31681469282042\n",
       "108. 4.41681469282041\n",
       "109. 4.51681469282041\n",
       "110. 4.61681469282041\n",
       "111. 4.71681469282041\n",
       "112. 4.81681469282042\n",
       "113. 4.91681469282041\n",
       "114. 5.01681469282041\n",
       "115. 5.11681469282041\n",
       "116. 5.21681469282041\n",
       "117. 5.31681469282042\n",
       "118. 5.41681469282041\n",
       "119. 5.51681469282041\n",
       "120. 5.61681469282041\n",
       "121. 5.71681469282041\n",
       "122. 5.81681469282042\n",
       "123. 5.91681469282041\n",
       "124. 6.01681469282041\n",
       "125. 6.11681469282041\n",
       "126. 6.21681469282041\n",
       "\n",
       "\n"
      ],
      "text/plain": [
       "  [1] -6.28318531 -6.18318531 -6.08318531 -5.98318531 -5.88318531 -5.78318531\n",
       "  [7] -5.68318531 -5.58318531 -5.48318531 -5.38318531 -5.28318531 -5.18318531\n",
       " [13] -5.08318531 -4.98318531 -4.88318531 -4.78318531 -4.68318531 -4.58318531\n",
       " [19] -4.48318531 -4.38318531 -4.28318531 -4.18318531 -4.08318531 -3.98318531\n",
       " [25] -3.88318531 -3.78318531 -3.68318531 -3.58318531 -3.48318531 -3.38318531\n",
       " [31] -3.28318531 -3.18318531 -3.08318531 -2.98318531 -2.88318531 -2.78318531\n",
       " [37] -2.68318531 -2.58318531 -2.48318531 -2.38318531 -2.28318531 -2.18318531\n",
       " [43] -2.08318531 -1.98318531 -1.88318531 -1.78318531 -1.68318531 -1.58318531\n",
       " [49] -1.48318531 -1.38318531 -1.28318531 -1.18318531 -1.08318531 -0.98318531\n",
       " [55] -0.88318531 -0.78318531 -0.68318531 -0.58318531 -0.48318531 -0.38318531\n",
       " [61] -0.28318531 -0.18318531 -0.08318531  0.01681469  0.11681469  0.21681469\n",
       " [67]  0.31681469  0.41681469  0.51681469  0.61681469  0.71681469  0.81681469\n",
       " [73]  0.91681469  1.01681469  1.11681469  1.21681469  1.31681469  1.41681469\n",
       " [79]  1.51681469  1.61681469  1.71681469  1.81681469  1.91681469  2.01681469\n",
       " [85]  2.11681469  2.21681469  2.31681469  2.41681469  2.51681469  2.61681469\n",
       " [91]  2.71681469  2.81681469  2.91681469  3.01681469  3.11681469  3.21681469\n",
       " [97]  3.31681469  3.41681469  3.51681469  3.61681469  3.71681469  3.81681469\n",
       "[103]  3.91681469  4.01681469  4.11681469  4.21681469  4.31681469  4.41681469\n",
       "[109]  4.51681469  4.61681469  4.71681469  4.81681469  4.91681469  5.01681469\n",
       "[115]  5.11681469  5.21681469  5.31681469  5.41681469  5.51681469  5.61681469\n",
       "[121]  5.71681469  5.81681469  5.91681469  6.01681469  6.11681469  6.21681469"
      ]
     },
     "metadata": {},
     "output_type": "display_data"
    }
   ],
   "source": [
    "x"
   ]
  },
  {
   "cell_type": "code",
   "execution_count": 25,
   "id": "48d0dca0",
   "metadata": {},
   "outputs": [],
   "source": [
    "ytotal = cbind(sin(x), cos(x), tan(x))"
   ]
  },
  {
   "cell_type": "code",
   "execution_count": 26,
   "id": "7a81f48a",
   "metadata": {},
   "outputs": [
    {
     "data": {
      "text/html": [
       "<table class=\"dataframe\">\n",
       "<caption>A matrix: 126 × 3 of type dbl</caption>\n",
       "<tbody>\n",
       "\t<tr><td>2.449213e-16</td><td> 1.00000000</td><td> 2.449294e-16</td></tr>\n",
       "\t<tr><td>9.983342e-02</td><td> 0.99500417</td><td> 1.003347e-01</td></tr>\n",
       "\t<tr><td>1.986693e-01</td><td> 0.98006658</td><td> 2.027100e-01</td></tr>\n",
       "\t<tr><td>2.955202e-01</td><td> 0.95533649</td><td> 3.093362e-01</td></tr>\n",
       "\t<tr><td>3.894183e-01</td><td> 0.92106099</td><td> 4.227932e-01</td></tr>\n",
       "\t<tr><td>4.794255e-01</td><td> 0.87758256</td><td> 5.463025e-01</td></tr>\n",
       "\t<tr><td>5.646425e-01</td><td> 0.82533561</td><td> 6.841368e-01</td></tr>\n",
       "\t<tr><td>6.442177e-01</td><td> 0.76484219</td><td> 8.422884e-01</td></tr>\n",
       "\t<tr><td>7.173561e-01</td><td> 0.69670671</td><td> 1.029639e+00</td></tr>\n",
       "\t<tr><td>7.833269e-01</td><td> 0.62160997</td><td> 1.260158e+00</td></tr>\n",
       "\t<tr><td>8.414710e-01</td><td> 0.54030231</td><td> 1.557408e+00</td></tr>\n",
       "\t<tr><td>8.912074e-01</td><td> 0.45359612</td><td> 1.964760e+00</td></tr>\n",
       "\t<tr><td>9.320391e-01</td><td> 0.36235775</td><td> 2.572152e+00</td></tr>\n",
       "\t<tr><td>9.635582e-01</td><td> 0.26749883</td><td> 3.602102e+00</td></tr>\n",
       "\t<tr><td>9.854497e-01</td><td> 0.16996714</td><td> 5.797884e+00</td></tr>\n",
       "\t<tr><td>9.974950e-01</td><td> 0.07073720</td><td> 1.410142e+01</td></tr>\n",
       "\t<tr><td>9.995736e-01</td><td>-0.02919952</td><td>-3.423253e+01</td></tr>\n",
       "\t<tr><td>9.916648e-01</td><td>-0.12884449</td><td>-7.696602e+00</td></tr>\n",
       "\t<tr><td>9.738476e-01</td><td>-0.22720209</td><td>-4.286262e+00</td></tr>\n",
       "\t<tr><td>9.463001e-01</td><td>-0.32328957</td><td>-2.927098e+00</td></tr>\n",
       "\t<tr><td>9.092974e-01</td><td>-0.41614684</td><td>-2.185040e+00</td></tr>\n",
       "\t<tr><td>8.632094e-01</td><td>-0.50484610</td><td>-1.709847e+00</td></tr>\n",
       "\t<tr><td>8.084964e-01</td><td>-0.58850112</td><td>-1.373823e+00</td></tr>\n",
       "\t<tr><td>7.457052e-01</td><td>-0.66627602</td><td>-1.119214e+00</td></tr>\n",
       "\t<tr><td>6.754632e-01</td><td>-0.73739372</td><td>-9.160143e-01</td></tr>\n",
       "\t<tr><td>5.984721e-01</td><td>-0.80114362</td><td>-7.470223e-01</td></tr>\n",
       "\t<tr><td>5.155014e-01</td><td>-0.85688875</td><td>-6.015966e-01</td></tr>\n",
       "\t<tr><td>4.273799e-01</td><td>-0.90407214</td><td>-4.727276e-01</td></tr>\n",
       "\t<tr><td>3.349882e-01</td><td>-0.94222234</td><td>-3.555298e-01</td></tr>\n",
       "\t<tr><td>2.392493e-01</td><td>-0.97095817</td><td>-2.464054e-01</td></tr>\n",
       "\t<tr><td>⋮</td><td>⋮</td><td>⋮</td></tr>\n",
       "\t<tr><td>-0.1743268</td><td>-0.984687856</td><td>   0.17703761</td></tr>\n",
       "\t<tr><td>-0.2717606</td><td>-0.962364880</td><td>   0.28238835</td></tr>\n",
       "\t<tr><td>-0.3664791</td><td>-0.930426272</td><td>   0.39388304</td></tr>\n",
       "\t<tr><td>-0.4575359</td><td>-0.889191153</td><td>   0.51455291</td></tr>\n",
       "\t<tr><td>-0.5440211</td><td>-0.839071529</td><td>   0.64836083</td></tr>\n",
       "\t<tr><td>-0.6250706</td><td>-0.780568180</td><td>   0.80078930</td></tr>\n",
       "\t<tr><td>-0.6998747</td><td>-0.714265652</td><td>   0.97985208</td></tr>\n",
       "\t<tr><td>-0.7676858</td><td>-0.640826418</td><td>   1.19796218</td></tr>\n",
       "\t<tr><td>-0.8278265</td><td>-0.560984257</td><td>   1.47566791</td></tr>\n",
       "\t<tr><td>-0.8796958</td><td>-0.475536928</td><td>   1.84989999</td></tr>\n",
       "\t<tr><td>-0.9227754</td><td>-0.385338191</td><td>   2.39471572</td></tr>\n",
       "\t<tr><td>-0.9566350</td><td>-0.291289282</td><td>   3.28414081</td></tr>\n",
       "\t<tr><td>-0.9809362</td><td>-0.194329906</td><td>   5.04778831</td></tr>\n",
       "\t<tr><td>-0.9954363</td><td>-0.095428851</td><td>  10.43118766</td></tr>\n",
       "\t<tr><td>-0.9999902</td><td> 0.004425698</td><td>-225.95084645</td></tr>\n",
       "\t<tr><td>-0.9945526</td><td> 0.104236027</td><td>  -9.54135166</td></tr>\n",
       "\t<tr><td>-0.9791777</td><td> 0.203004864</td><td>  -4.82342004</td></tr>\n",
       "\t<tr><td>-0.9540192</td><td> 0.299745343</td><td>  -3.18276588</td></tr>\n",
       "\t<tr><td>-0.9193285</td><td> 0.393490866</td><td>  -2.33634019</td></tr>\n",
       "\t<tr><td>-0.8754522</td><td> 0.483304759</td><td>  -1.81138745</td></tr>\n",
       "\t<tr><td>-0.8228286</td><td> 0.568289630</td><td>  -1.44790359</td></tr>\n",
       "\t<tr><td>-0.7619836</td><td> 0.647596339</td><td>  -1.17663356</td></tr>\n",
       "\t<tr><td>-0.6935251</td><td> 0.720432479</td><td>  -0.96265105</td></tr>\n",
       "\t<tr><td>-0.6181371</td><td> 0.786070296</td><td>  -0.78636366</td></tr>\n",
       "\t<tr><td>-0.5365729</td><td> 0.843853959</td><td>  -0.63585993</td></tr>\n",
       "\t<tr><td>-0.4496475</td><td> 0.893206112</td><td>  -0.50340841</td></tr>\n",
       "\t<tr><td>-0.3582293</td><td> 0.933633644</td><td>  -0.38369363</td></tr>\n",
       "\t<tr><td>-0.2632318</td><td> 0.964732618</td><td>  -0.27285466</td></tr>\n",
       "\t<tr><td>-0.1656042</td><td> 0.986192302</td><td>  -0.16792280</td></tr>\n",
       "\t<tr><td>-0.0663219</td><td> 0.997798279</td><td>  -0.06646824</td></tr>\n",
       "</tbody>\n",
       "</table>\n"
      ],
      "text/latex": [
       "A matrix: 126 × 3 of type dbl\n",
       "\\begin{tabular}{lll}\n",
       "\t 2.449213e-16 &  1.00000000 &  2.449294e-16\\\\\n",
       "\t 9.983342e-02 &  0.99500417 &  1.003347e-01\\\\\n",
       "\t 1.986693e-01 &  0.98006658 &  2.027100e-01\\\\\n",
       "\t 2.955202e-01 &  0.95533649 &  3.093362e-01\\\\\n",
       "\t 3.894183e-01 &  0.92106099 &  4.227932e-01\\\\\n",
       "\t 4.794255e-01 &  0.87758256 &  5.463025e-01\\\\\n",
       "\t 5.646425e-01 &  0.82533561 &  6.841368e-01\\\\\n",
       "\t 6.442177e-01 &  0.76484219 &  8.422884e-01\\\\\n",
       "\t 7.173561e-01 &  0.69670671 &  1.029639e+00\\\\\n",
       "\t 7.833269e-01 &  0.62160997 &  1.260158e+00\\\\\n",
       "\t 8.414710e-01 &  0.54030231 &  1.557408e+00\\\\\n",
       "\t 8.912074e-01 &  0.45359612 &  1.964760e+00\\\\\n",
       "\t 9.320391e-01 &  0.36235775 &  2.572152e+00\\\\\n",
       "\t 9.635582e-01 &  0.26749883 &  3.602102e+00\\\\\n",
       "\t 9.854497e-01 &  0.16996714 &  5.797884e+00\\\\\n",
       "\t 9.974950e-01 &  0.07073720 &  1.410142e+01\\\\\n",
       "\t 9.995736e-01 & -0.02919952 & -3.423253e+01\\\\\n",
       "\t 9.916648e-01 & -0.12884449 & -7.696602e+00\\\\\n",
       "\t 9.738476e-01 & -0.22720209 & -4.286262e+00\\\\\n",
       "\t 9.463001e-01 & -0.32328957 & -2.927098e+00\\\\\n",
       "\t 9.092974e-01 & -0.41614684 & -2.185040e+00\\\\\n",
       "\t 8.632094e-01 & -0.50484610 & -1.709847e+00\\\\\n",
       "\t 8.084964e-01 & -0.58850112 & -1.373823e+00\\\\\n",
       "\t 7.457052e-01 & -0.66627602 & -1.119214e+00\\\\\n",
       "\t 6.754632e-01 & -0.73739372 & -9.160143e-01\\\\\n",
       "\t 5.984721e-01 & -0.80114362 & -7.470223e-01\\\\\n",
       "\t 5.155014e-01 & -0.85688875 & -6.015966e-01\\\\\n",
       "\t 4.273799e-01 & -0.90407214 & -4.727276e-01\\\\\n",
       "\t 3.349882e-01 & -0.94222234 & -3.555298e-01\\\\\n",
       "\t 2.392493e-01 & -0.97095817 & -2.464054e-01\\\\\n",
       "\t ⋮ & ⋮ & ⋮\\\\\n",
       "\t -0.1743268 & -0.984687856 &    0.17703761\\\\\n",
       "\t -0.2717606 & -0.962364880 &    0.28238835\\\\\n",
       "\t -0.3664791 & -0.930426272 &    0.39388304\\\\\n",
       "\t -0.4575359 & -0.889191153 &    0.51455291\\\\\n",
       "\t -0.5440211 & -0.839071529 &    0.64836083\\\\\n",
       "\t -0.6250706 & -0.780568180 &    0.80078930\\\\\n",
       "\t -0.6998747 & -0.714265652 &    0.97985208\\\\\n",
       "\t -0.7676858 & -0.640826418 &    1.19796218\\\\\n",
       "\t -0.8278265 & -0.560984257 &    1.47566791\\\\\n",
       "\t -0.8796958 & -0.475536928 &    1.84989999\\\\\n",
       "\t -0.9227754 & -0.385338191 &    2.39471572\\\\\n",
       "\t -0.9566350 & -0.291289282 &    3.28414081\\\\\n",
       "\t -0.9809362 & -0.194329906 &    5.04778831\\\\\n",
       "\t -0.9954363 & -0.095428851 &   10.43118766\\\\\n",
       "\t -0.9999902 &  0.004425698 & -225.95084645\\\\\n",
       "\t -0.9945526 &  0.104236027 &   -9.54135166\\\\\n",
       "\t -0.9791777 &  0.203004864 &   -4.82342004\\\\\n",
       "\t -0.9540192 &  0.299745343 &   -3.18276588\\\\\n",
       "\t -0.9193285 &  0.393490866 &   -2.33634019\\\\\n",
       "\t -0.8754522 &  0.483304759 &   -1.81138745\\\\\n",
       "\t -0.8228286 &  0.568289630 &   -1.44790359\\\\\n",
       "\t -0.7619836 &  0.647596339 &   -1.17663356\\\\\n",
       "\t -0.6935251 &  0.720432479 &   -0.96265105\\\\\n",
       "\t -0.6181371 &  0.786070296 &   -0.78636366\\\\\n",
       "\t -0.5365729 &  0.843853959 &   -0.63585993\\\\\n",
       "\t -0.4496475 &  0.893206112 &   -0.50340841\\\\\n",
       "\t -0.3582293 &  0.933633644 &   -0.38369363\\\\\n",
       "\t -0.2632318 &  0.964732618 &   -0.27285466\\\\\n",
       "\t -0.1656042 &  0.986192302 &   -0.16792280\\\\\n",
       "\t -0.0663219 &  0.997798279 &   -0.06646824\\\\\n",
       "\\end{tabular}\n"
      ],
      "text/markdown": [
       "\n",
       "A matrix: 126 × 3 of type dbl\n",
       "\n",
       "| 2.449213e-16 |  1.00000000 |  2.449294e-16 |\n",
       "| 9.983342e-02 |  0.99500417 |  1.003347e-01 |\n",
       "| 1.986693e-01 |  0.98006658 |  2.027100e-01 |\n",
       "| 2.955202e-01 |  0.95533649 |  3.093362e-01 |\n",
       "| 3.894183e-01 |  0.92106099 |  4.227932e-01 |\n",
       "| 4.794255e-01 |  0.87758256 |  5.463025e-01 |\n",
       "| 5.646425e-01 |  0.82533561 |  6.841368e-01 |\n",
       "| 6.442177e-01 |  0.76484219 |  8.422884e-01 |\n",
       "| 7.173561e-01 |  0.69670671 |  1.029639e+00 |\n",
       "| 7.833269e-01 |  0.62160997 |  1.260158e+00 |\n",
       "| 8.414710e-01 |  0.54030231 |  1.557408e+00 |\n",
       "| 8.912074e-01 |  0.45359612 |  1.964760e+00 |\n",
       "| 9.320391e-01 |  0.36235775 |  2.572152e+00 |\n",
       "| 9.635582e-01 |  0.26749883 |  3.602102e+00 |\n",
       "| 9.854497e-01 |  0.16996714 |  5.797884e+00 |\n",
       "| 9.974950e-01 |  0.07073720 |  1.410142e+01 |\n",
       "| 9.995736e-01 | -0.02919952 | -3.423253e+01 |\n",
       "| 9.916648e-01 | -0.12884449 | -7.696602e+00 |\n",
       "| 9.738476e-01 | -0.22720209 | -4.286262e+00 |\n",
       "| 9.463001e-01 | -0.32328957 | -2.927098e+00 |\n",
       "| 9.092974e-01 | -0.41614684 | -2.185040e+00 |\n",
       "| 8.632094e-01 | -0.50484610 | -1.709847e+00 |\n",
       "| 8.084964e-01 | -0.58850112 | -1.373823e+00 |\n",
       "| 7.457052e-01 | -0.66627602 | -1.119214e+00 |\n",
       "| 6.754632e-01 | -0.73739372 | -9.160143e-01 |\n",
       "| 5.984721e-01 | -0.80114362 | -7.470223e-01 |\n",
       "| 5.155014e-01 | -0.85688875 | -6.015966e-01 |\n",
       "| 4.273799e-01 | -0.90407214 | -4.727276e-01 |\n",
       "| 3.349882e-01 | -0.94222234 | -3.555298e-01 |\n",
       "| 2.392493e-01 | -0.97095817 | -2.464054e-01 |\n",
       "| ⋮ | ⋮ | ⋮ |\n",
       "| -0.1743268 | -0.984687856 |    0.17703761 |\n",
       "| -0.2717606 | -0.962364880 |    0.28238835 |\n",
       "| -0.3664791 | -0.930426272 |    0.39388304 |\n",
       "| -0.4575359 | -0.889191153 |    0.51455291 |\n",
       "| -0.5440211 | -0.839071529 |    0.64836083 |\n",
       "| -0.6250706 | -0.780568180 |    0.80078930 |\n",
       "| -0.6998747 | -0.714265652 |    0.97985208 |\n",
       "| -0.7676858 | -0.640826418 |    1.19796218 |\n",
       "| -0.8278265 | -0.560984257 |    1.47566791 |\n",
       "| -0.8796958 | -0.475536928 |    1.84989999 |\n",
       "| -0.9227754 | -0.385338191 |    2.39471572 |\n",
       "| -0.9566350 | -0.291289282 |    3.28414081 |\n",
       "| -0.9809362 | -0.194329906 |    5.04778831 |\n",
       "| -0.9954363 | -0.095428851 |   10.43118766 |\n",
       "| -0.9999902 |  0.004425698 | -225.95084645 |\n",
       "| -0.9945526 |  0.104236027 |   -9.54135166 |\n",
       "| -0.9791777 |  0.203004864 |   -4.82342004 |\n",
       "| -0.9540192 |  0.299745343 |   -3.18276588 |\n",
       "| -0.9193285 |  0.393490866 |   -2.33634019 |\n",
       "| -0.8754522 |  0.483304759 |   -1.81138745 |\n",
       "| -0.8228286 |  0.568289630 |   -1.44790359 |\n",
       "| -0.7619836 |  0.647596339 |   -1.17663356 |\n",
       "| -0.6935251 |  0.720432479 |   -0.96265105 |\n",
       "| -0.6181371 |  0.786070296 |   -0.78636366 |\n",
       "| -0.5365729 |  0.843853959 |   -0.63585993 |\n",
       "| -0.4496475 |  0.893206112 |   -0.50340841 |\n",
       "| -0.3582293 |  0.933633644 |   -0.38369363 |\n",
       "| -0.2632318 |  0.964732618 |   -0.27285466 |\n",
       "| -0.1656042 |  0.986192302 |   -0.16792280 |\n",
       "| -0.0663219 |  0.997798279 |   -0.06646824 |\n",
       "\n"
      ],
      "text/plain": [
       "      [,1]         [,2]         [,3]         \n",
       " [1,] 2.449213e-16  1.00000000   2.449294e-16\n",
       " [2,] 9.983342e-02  0.99500417   1.003347e-01\n",
       " [3,] 1.986693e-01  0.98006658   2.027100e-01\n",
       " [4,] 2.955202e-01  0.95533649   3.093362e-01\n",
       " [5,] 3.894183e-01  0.92106099   4.227932e-01\n",
       " [6,] 4.794255e-01  0.87758256   5.463025e-01\n",
       " [7,] 5.646425e-01  0.82533561   6.841368e-01\n",
       " [8,] 6.442177e-01  0.76484219   8.422884e-01\n",
       " [9,] 7.173561e-01  0.69670671   1.029639e+00\n",
       "[10,] 7.833269e-01  0.62160997   1.260158e+00\n",
       "[11,] 8.414710e-01  0.54030231   1.557408e+00\n",
       "[12,] 8.912074e-01  0.45359612   1.964760e+00\n",
       "[13,] 9.320391e-01  0.36235775   2.572152e+00\n",
       "[14,] 9.635582e-01  0.26749883   3.602102e+00\n",
       "[15,] 9.854497e-01  0.16996714   5.797884e+00\n",
       "[16,] 9.974950e-01  0.07073720   1.410142e+01\n",
       "[17,] 9.995736e-01 -0.02919952  -3.423253e+01\n",
       "[18,] 9.916648e-01 -0.12884449  -7.696602e+00\n",
       "[19,] 9.738476e-01 -0.22720209  -4.286262e+00\n",
       "[20,] 9.463001e-01 -0.32328957  -2.927098e+00\n",
       "[21,] 9.092974e-01 -0.41614684  -2.185040e+00\n",
       "[22,] 8.632094e-01 -0.50484610  -1.709847e+00\n",
       "[23,] 8.084964e-01 -0.58850112  -1.373823e+00\n",
       "[24,] 7.457052e-01 -0.66627602  -1.119214e+00\n",
       "[25,] 6.754632e-01 -0.73739372  -9.160143e-01\n",
       "[26,] 5.984721e-01 -0.80114362  -7.470223e-01\n",
       "[27,] 5.155014e-01 -0.85688875  -6.015966e-01\n",
       "[28,] 4.273799e-01 -0.90407214  -4.727276e-01\n",
       "[29,] 3.349882e-01 -0.94222234  -3.555298e-01\n",
       "[30,] 2.392493e-01 -0.97095817  -2.464054e-01\n",
       "[31,] ⋮            ⋮            ⋮            \n",
       "[32,] -0.1743268   -0.984687856    0.17703761\n",
       "[33,] -0.2717606   -0.962364880    0.28238835\n",
       "[34,] -0.3664791   -0.930426272    0.39388304\n",
       "[35,] -0.4575359   -0.889191153    0.51455291\n",
       "[36,] -0.5440211   -0.839071529    0.64836083\n",
       "[37,] -0.6250706   -0.780568180    0.80078930\n",
       "[38,] -0.6998747   -0.714265652    0.97985208\n",
       "[39,] -0.7676858   -0.640826418    1.19796218\n",
       "[40,] -0.8278265   -0.560984257    1.47566791\n",
       "[41,] -0.8796958   -0.475536928    1.84989999\n",
       "[42,] -0.9227754   -0.385338191    2.39471572\n",
       "[43,] -0.9566350   -0.291289282    3.28414081\n",
       "[44,] -0.9809362   -0.194329906    5.04778831\n",
       "[45,] -0.9954363   -0.095428851   10.43118766\n",
       "[46,] -0.9999902    0.004425698 -225.95084645\n",
       "[47,] -0.9945526    0.104236027   -9.54135166\n",
       "[48,] -0.9791777    0.203004864   -4.82342004\n",
       "[49,] -0.9540192    0.299745343   -3.18276588\n",
       "[50,] -0.9193285    0.393490866   -2.33634019\n",
       "[51,] -0.8754522    0.483304759   -1.81138745\n",
       "[52,] -0.8228286    0.568289630   -1.44790359\n",
       "[53,] -0.7619836    0.647596339   -1.17663356\n",
       "[54,] -0.6935251    0.720432479   -0.96265105\n",
       "[55,] -0.6181371    0.786070296   -0.78636366\n",
       "[56,] -0.5365729    0.843853959   -0.63585993\n",
       "[57,] -0.4496475    0.893206112   -0.50340841\n",
       "[58,] -0.3582293    0.933633644   -0.38369363\n",
       "[59,] -0.2632318    0.964732618   -0.27285466\n",
       "[60,] -0.1656042    0.986192302   -0.16792280\n",
       "[61,] -0.0663219    0.997798279   -0.06646824"
      ]
     },
     "metadata": {},
     "output_type": "display_data"
    }
   ],
   "source": [
    "ytotal"
   ]
  },
  {
   "cell_type": "code",
   "execution_count": 28,
   "id": "709ea61a",
   "metadata": {},
   "outputs": [],
   "source": [
    "colnames(ytotal) = c('ysin', 'ycos', 'ytan')"
   ]
  },
  {
   "cell_type": "code",
   "execution_count": 29,
   "id": "a7e3b66a",
   "metadata": {},
   "outputs": [
    {
     "data": {
      "text/html": [
       "<table class=\"dataframe\">\n",
       "<caption>A matrix: 126 × 3 of type dbl</caption>\n",
       "<thead>\n",
       "\t<tr><th scope=col>ysin</th><th scope=col>ycos</th><th scope=col>ytan</th></tr>\n",
       "</thead>\n",
       "<tbody>\n",
       "\t<tr><td>2.449213e-16</td><td> 1.00000000</td><td> 2.449294e-16</td></tr>\n",
       "\t<tr><td>9.983342e-02</td><td> 0.99500417</td><td> 1.003347e-01</td></tr>\n",
       "\t<tr><td>1.986693e-01</td><td> 0.98006658</td><td> 2.027100e-01</td></tr>\n",
       "\t<tr><td>2.955202e-01</td><td> 0.95533649</td><td> 3.093362e-01</td></tr>\n",
       "\t<tr><td>3.894183e-01</td><td> 0.92106099</td><td> 4.227932e-01</td></tr>\n",
       "\t<tr><td>4.794255e-01</td><td> 0.87758256</td><td> 5.463025e-01</td></tr>\n",
       "\t<tr><td>5.646425e-01</td><td> 0.82533561</td><td> 6.841368e-01</td></tr>\n",
       "\t<tr><td>6.442177e-01</td><td> 0.76484219</td><td> 8.422884e-01</td></tr>\n",
       "\t<tr><td>7.173561e-01</td><td> 0.69670671</td><td> 1.029639e+00</td></tr>\n",
       "\t<tr><td>7.833269e-01</td><td> 0.62160997</td><td> 1.260158e+00</td></tr>\n",
       "\t<tr><td>8.414710e-01</td><td> 0.54030231</td><td> 1.557408e+00</td></tr>\n",
       "\t<tr><td>8.912074e-01</td><td> 0.45359612</td><td> 1.964760e+00</td></tr>\n",
       "\t<tr><td>9.320391e-01</td><td> 0.36235775</td><td> 2.572152e+00</td></tr>\n",
       "\t<tr><td>9.635582e-01</td><td> 0.26749883</td><td> 3.602102e+00</td></tr>\n",
       "\t<tr><td>9.854497e-01</td><td> 0.16996714</td><td> 5.797884e+00</td></tr>\n",
       "\t<tr><td>9.974950e-01</td><td> 0.07073720</td><td> 1.410142e+01</td></tr>\n",
       "\t<tr><td>9.995736e-01</td><td>-0.02919952</td><td>-3.423253e+01</td></tr>\n",
       "\t<tr><td>9.916648e-01</td><td>-0.12884449</td><td>-7.696602e+00</td></tr>\n",
       "\t<tr><td>9.738476e-01</td><td>-0.22720209</td><td>-4.286262e+00</td></tr>\n",
       "\t<tr><td>9.463001e-01</td><td>-0.32328957</td><td>-2.927098e+00</td></tr>\n",
       "\t<tr><td>9.092974e-01</td><td>-0.41614684</td><td>-2.185040e+00</td></tr>\n",
       "\t<tr><td>8.632094e-01</td><td>-0.50484610</td><td>-1.709847e+00</td></tr>\n",
       "\t<tr><td>8.084964e-01</td><td>-0.58850112</td><td>-1.373823e+00</td></tr>\n",
       "\t<tr><td>7.457052e-01</td><td>-0.66627602</td><td>-1.119214e+00</td></tr>\n",
       "\t<tr><td>6.754632e-01</td><td>-0.73739372</td><td>-9.160143e-01</td></tr>\n",
       "\t<tr><td>5.984721e-01</td><td>-0.80114362</td><td>-7.470223e-01</td></tr>\n",
       "\t<tr><td>5.155014e-01</td><td>-0.85688875</td><td>-6.015966e-01</td></tr>\n",
       "\t<tr><td>4.273799e-01</td><td>-0.90407214</td><td>-4.727276e-01</td></tr>\n",
       "\t<tr><td>3.349882e-01</td><td>-0.94222234</td><td>-3.555298e-01</td></tr>\n",
       "\t<tr><td>2.392493e-01</td><td>-0.97095817</td><td>-2.464054e-01</td></tr>\n",
       "\t<tr><td>⋮</td><td>⋮</td><td>⋮</td></tr>\n",
       "\t<tr><td>-0.1743268</td><td>-0.984687856</td><td>   0.17703761</td></tr>\n",
       "\t<tr><td>-0.2717606</td><td>-0.962364880</td><td>   0.28238835</td></tr>\n",
       "\t<tr><td>-0.3664791</td><td>-0.930426272</td><td>   0.39388304</td></tr>\n",
       "\t<tr><td>-0.4575359</td><td>-0.889191153</td><td>   0.51455291</td></tr>\n",
       "\t<tr><td>-0.5440211</td><td>-0.839071529</td><td>   0.64836083</td></tr>\n",
       "\t<tr><td>-0.6250706</td><td>-0.780568180</td><td>   0.80078930</td></tr>\n",
       "\t<tr><td>-0.6998747</td><td>-0.714265652</td><td>   0.97985208</td></tr>\n",
       "\t<tr><td>-0.7676858</td><td>-0.640826418</td><td>   1.19796218</td></tr>\n",
       "\t<tr><td>-0.8278265</td><td>-0.560984257</td><td>   1.47566791</td></tr>\n",
       "\t<tr><td>-0.8796958</td><td>-0.475536928</td><td>   1.84989999</td></tr>\n",
       "\t<tr><td>-0.9227754</td><td>-0.385338191</td><td>   2.39471572</td></tr>\n",
       "\t<tr><td>-0.9566350</td><td>-0.291289282</td><td>   3.28414081</td></tr>\n",
       "\t<tr><td>-0.9809362</td><td>-0.194329906</td><td>   5.04778831</td></tr>\n",
       "\t<tr><td>-0.9954363</td><td>-0.095428851</td><td>  10.43118766</td></tr>\n",
       "\t<tr><td>-0.9999902</td><td> 0.004425698</td><td>-225.95084645</td></tr>\n",
       "\t<tr><td>-0.9945526</td><td> 0.104236027</td><td>  -9.54135166</td></tr>\n",
       "\t<tr><td>-0.9791777</td><td> 0.203004864</td><td>  -4.82342004</td></tr>\n",
       "\t<tr><td>-0.9540192</td><td> 0.299745343</td><td>  -3.18276588</td></tr>\n",
       "\t<tr><td>-0.9193285</td><td> 0.393490866</td><td>  -2.33634019</td></tr>\n",
       "\t<tr><td>-0.8754522</td><td> 0.483304759</td><td>  -1.81138745</td></tr>\n",
       "\t<tr><td>-0.8228286</td><td> 0.568289630</td><td>  -1.44790359</td></tr>\n",
       "\t<tr><td>-0.7619836</td><td> 0.647596339</td><td>  -1.17663356</td></tr>\n",
       "\t<tr><td>-0.6935251</td><td> 0.720432479</td><td>  -0.96265105</td></tr>\n",
       "\t<tr><td>-0.6181371</td><td> 0.786070296</td><td>  -0.78636366</td></tr>\n",
       "\t<tr><td>-0.5365729</td><td> 0.843853959</td><td>  -0.63585993</td></tr>\n",
       "\t<tr><td>-0.4496475</td><td> 0.893206112</td><td>  -0.50340841</td></tr>\n",
       "\t<tr><td>-0.3582293</td><td> 0.933633644</td><td>  -0.38369363</td></tr>\n",
       "\t<tr><td>-0.2632318</td><td> 0.964732618</td><td>  -0.27285466</td></tr>\n",
       "\t<tr><td>-0.1656042</td><td> 0.986192302</td><td>  -0.16792280</td></tr>\n",
       "\t<tr><td>-0.0663219</td><td> 0.997798279</td><td>  -0.06646824</td></tr>\n",
       "</tbody>\n",
       "</table>\n"
      ],
      "text/latex": [
       "A matrix: 126 × 3 of type dbl\n",
       "\\begin{tabular}{lll}\n",
       " ysin & ycos & ytan\\\\\n",
       "\\hline\n",
       "\t 2.449213e-16 &  1.00000000 &  2.449294e-16\\\\\n",
       "\t 9.983342e-02 &  0.99500417 &  1.003347e-01\\\\\n",
       "\t 1.986693e-01 &  0.98006658 &  2.027100e-01\\\\\n",
       "\t 2.955202e-01 &  0.95533649 &  3.093362e-01\\\\\n",
       "\t 3.894183e-01 &  0.92106099 &  4.227932e-01\\\\\n",
       "\t 4.794255e-01 &  0.87758256 &  5.463025e-01\\\\\n",
       "\t 5.646425e-01 &  0.82533561 &  6.841368e-01\\\\\n",
       "\t 6.442177e-01 &  0.76484219 &  8.422884e-01\\\\\n",
       "\t 7.173561e-01 &  0.69670671 &  1.029639e+00\\\\\n",
       "\t 7.833269e-01 &  0.62160997 &  1.260158e+00\\\\\n",
       "\t 8.414710e-01 &  0.54030231 &  1.557408e+00\\\\\n",
       "\t 8.912074e-01 &  0.45359612 &  1.964760e+00\\\\\n",
       "\t 9.320391e-01 &  0.36235775 &  2.572152e+00\\\\\n",
       "\t 9.635582e-01 &  0.26749883 &  3.602102e+00\\\\\n",
       "\t 9.854497e-01 &  0.16996714 &  5.797884e+00\\\\\n",
       "\t 9.974950e-01 &  0.07073720 &  1.410142e+01\\\\\n",
       "\t 9.995736e-01 & -0.02919952 & -3.423253e+01\\\\\n",
       "\t 9.916648e-01 & -0.12884449 & -7.696602e+00\\\\\n",
       "\t 9.738476e-01 & -0.22720209 & -4.286262e+00\\\\\n",
       "\t 9.463001e-01 & -0.32328957 & -2.927098e+00\\\\\n",
       "\t 9.092974e-01 & -0.41614684 & -2.185040e+00\\\\\n",
       "\t 8.632094e-01 & -0.50484610 & -1.709847e+00\\\\\n",
       "\t 8.084964e-01 & -0.58850112 & -1.373823e+00\\\\\n",
       "\t 7.457052e-01 & -0.66627602 & -1.119214e+00\\\\\n",
       "\t 6.754632e-01 & -0.73739372 & -9.160143e-01\\\\\n",
       "\t 5.984721e-01 & -0.80114362 & -7.470223e-01\\\\\n",
       "\t 5.155014e-01 & -0.85688875 & -6.015966e-01\\\\\n",
       "\t 4.273799e-01 & -0.90407214 & -4.727276e-01\\\\\n",
       "\t 3.349882e-01 & -0.94222234 & -3.555298e-01\\\\\n",
       "\t 2.392493e-01 & -0.97095817 & -2.464054e-01\\\\\n",
       "\t ⋮ & ⋮ & ⋮\\\\\n",
       "\t -0.1743268 & -0.984687856 &    0.17703761\\\\\n",
       "\t -0.2717606 & -0.962364880 &    0.28238835\\\\\n",
       "\t -0.3664791 & -0.930426272 &    0.39388304\\\\\n",
       "\t -0.4575359 & -0.889191153 &    0.51455291\\\\\n",
       "\t -0.5440211 & -0.839071529 &    0.64836083\\\\\n",
       "\t -0.6250706 & -0.780568180 &    0.80078930\\\\\n",
       "\t -0.6998747 & -0.714265652 &    0.97985208\\\\\n",
       "\t -0.7676858 & -0.640826418 &    1.19796218\\\\\n",
       "\t -0.8278265 & -0.560984257 &    1.47566791\\\\\n",
       "\t -0.8796958 & -0.475536928 &    1.84989999\\\\\n",
       "\t -0.9227754 & -0.385338191 &    2.39471572\\\\\n",
       "\t -0.9566350 & -0.291289282 &    3.28414081\\\\\n",
       "\t -0.9809362 & -0.194329906 &    5.04778831\\\\\n",
       "\t -0.9954363 & -0.095428851 &   10.43118766\\\\\n",
       "\t -0.9999902 &  0.004425698 & -225.95084645\\\\\n",
       "\t -0.9945526 &  0.104236027 &   -9.54135166\\\\\n",
       "\t -0.9791777 &  0.203004864 &   -4.82342004\\\\\n",
       "\t -0.9540192 &  0.299745343 &   -3.18276588\\\\\n",
       "\t -0.9193285 &  0.393490866 &   -2.33634019\\\\\n",
       "\t -0.8754522 &  0.483304759 &   -1.81138745\\\\\n",
       "\t -0.8228286 &  0.568289630 &   -1.44790359\\\\\n",
       "\t -0.7619836 &  0.647596339 &   -1.17663356\\\\\n",
       "\t -0.6935251 &  0.720432479 &   -0.96265105\\\\\n",
       "\t -0.6181371 &  0.786070296 &   -0.78636366\\\\\n",
       "\t -0.5365729 &  0.843853959 &   -0.63585993\\\\\n",
       "\t -0.4496475 &  0.893206112 &   -0.50340841\\\\\n",
       "\t -0.3582293 &  0.933633644 &   -0.38369363\\\\\n",
       "\t -0.2632318 &  0.964732618 &   -0.27285466\\\\\n",
       "\t -0.1656042 &  0.986192302 &   -0.16792280\\\\\n",
       "\t -0.0663219 &  0.997798279 &   -0.06646824\\\\\n",
       "\\end{tabular}\n"
      ],
      "text/markdown": [
       "\n",
       "A matrix: 126 × 3 of type dbl\n",
       "\n",
       "| ysin | ycos | ytan |\n",
       "|---|---|---|\n",
       "| 2.449213e-16 |  1.00000000 |  2.449294e-16 |\n",
       "| 9.983342e-02 |  0.99500417 |  1.003347e-01 |\n",
       "| 1.986693e-01 |  0.98006658 |  2.027100e-01 |\n",
       "| 2.955202e-01 |  0.95533649 |  3.093362e-01 |\n",
       "| 3.894183e-01 |  0.92106099 |  4.227932e-01 |\n",
       "| 4.794255e-01 |  0.87758256 |  5.463025e-01 |\n",
       "| 5.646425e-01 |  0.82533561 |  6.841368e-01 |\n",
       "| 6.442177e-01 |  0.76484219 |  8.422884e-01 |\n",
       "| 7.173561e-01 |  0.69670671 |  1.029639e+00 |\n",
       "| 7.833269e-01 |  0.62160997 |  1.260158e+00 |\n",
       "| 8.414710e-01 |  0.54030231 |  1.557408e+00 |\n",
       "| 8.912074e-01 |  0.45359612 |  1.964760e+00 |\n",
       "| 9.320391e-01 |  0.36235775 |  2.572152e+00 |\n",
       "| 9.635582e-01 |  0.26749883 |  3.602102e+00 |\n",
       "| 9.854497e-01 |  0.16996714 |  5.797884e+00 |\n",
       "| 9.974950e-01 |  0.07073720 |  1.410142e+01 |\n",
       "| 9.995736e-01 | -0.02919952 | -3.423253e+01 |\n",
       "| 9.916648e-01 | -0.12884449 | -7.696602e+00 |\n",
       "| 9.738476e-01 | -0.22720209 | -4.286262e+00 |\n",
       "| 9.463001e-01 | -0.32328957 | -2.927098e+00 |\n",
       "| 9.092974e-01 | -0.41614684 | -2.185040e+00 |\n",
       "| 8.632094e-01 | -0.50484610 | -1.709847e+00 |\n",
       "| 8.084964e-01 | -0.58850112 | -1.373823e+00 |\n",
       "| 7.457052e-01 | -0.66627602 | -1.119214e+00 |\n",
       "| 6.754632e-01 | -0.73739372 | -9.160143e-01 |\n",
       "| 5.984721e-01 | -0.80114362 | -7.470223e-01 |\n",
       "| 5.155014e-01 | -0.85688875 | -6.015966e-01 |\n",
       "| 4.273799e-01 | -0.90407214 | -4.727276e-01 |\n",
       "| 3.349882e-01 | -0.94222234 | -3.555298e-01 |\n",
       "| 2.392493e-01 | -0.97095817 | -2.464054e-01 |\n",
       "| ⋮ | ⋮ | ⋮ |\n",
       "| -0.1743268 | -0.984687856 |    0.17703761 |\n",
       "| -0.2717606 | -0.962364880 |    0.28238835 |\n",
       "| -0.3664791 | -0.930426272 |    0.39388304 |\n",
       "| -0.4575359 | -0.889191153 |    0.51455291 |\n",
       "| -0.5440211 | -0.839071529 |    0.64836083 |\n",
       "| -0.6250706 | -0.780568180 |    0.80078930 |\n",
       "| -0.6998747 | -0.714265652 |    0.97985208 |\n",
       "| -0.7676858 | -0.640826418 |    1.19796218 |\n",
       "| -0.8278265 | -0.560984257 |    1.47566791 |\n",
       "| -0.8796958 | -0.475536928 |    1.84989999 |\n",
       "| -0.9227754 | -0.385338191 |    2.39471572 |\n",
       "| -0.9566350 | -0.291289282 |    3.28414081 |\n",
       "| -0.9809362 | -0.194329906 |    5.04778831 |\n",
       "| -0.9954363 | -0.095428851 |   10.43118766 |\n",
       "| -0.9999902 |  0.004425698 | -225.95084645 |\n",
       "| -0.9945526 |  0.104236027 |   -9.54135166 |\n",
       "| -0.9791777 |  0.203004864 |   -4.82342004 |\n",
       "| -0.9540192 |  0.299745343 |   -3.18276588 |\n",
       "| -0.9193285 |  0.393490866 |   -2.33634019 |\n",
       "| -0.8754522 |  0.483304759 |   -1.81138745 |\n",
       "| -0.8228286 |  0.568289630 |   -1.44790359 |\n",
       "| -0.7619836 |  0.647596339 |   -1.17663356 |\n",
       "| -0.6935251 |  0.720432479 |   -0.96265105 |\n",
       "| -0.6181371 |  0.786070296 |   -0.78636366 |\n",
       "| -0.5365729 |  0.843853959 |   -0.63585993 |\n",
       "| -0.4496475 |  0.893206112 |   -0.50340841 |\n",
       "| -0.3582293 |  0.933633644 |   -0.38369363 |\n",
       "| -0.2632318 |  0.964732618 |   -0.27285466 |\n",
       "| -0.1656042 |  0.986192302 |   -0.16792280 |\n",
       "| -0.0663219 |  0.997798279 |   -0.06646824 |\n",
       "\n"
      ],
      "text/plain": [
       "      ysin         ycos         ytan         \n",
       " [1,] 2.449213e-16  1.00000000   2.449294e-16\n",
       " [2,] 9.983342e-02  0.99500417   1.003347e-01\n",
       " [3,] 1.986693e-01  0.98006658   2.027100e-01\n",
       " [4,] 2.955202e-01  0.95533649   3.093362e-01\n",
       " [5,] 3.894183e-01  0.92106099   4.227932e-01\n",
       " [6,] 4.794255e-01  0.87758256   5.463025e-01\n",
       " [7,] 5.646425e-01  0.82533561   6.841368e-01\n",
       " [8,] 6.442177e-01  0.76484219   8.422884e-01\n",
       " [9,] 7.173561e-01  0.69670671   1.029639e+00\n",
       "[10,] 7.833269e-01  0.62160997   1.260158e+00\n",
       "[11,] 8.414710e-01  0.54030231   1.557408e+00\n",
       "[12,] 8.912074e-01  0.45359612   1.964760e+00\n",
       "[13,] 9.320391e-01  0.36235775   2.572152e+00\n",
       "[14,] 9.635582e-01  0.26749883   3.602102e+00\n",
       "[15,] 9.854497e-01  0.16996714   5.797884e+00\n",
       "[16,] 9.974950e-01  0.07073720   1.410142e+01\n",
       "[17,] 9.995736e-01 -0.02919952  -3.423253e+01\n",
       "[18,] 9.916648e-01 -0.12884449  -7.696602e+00\n",
       "[19,] 9.738476e-01 -0.22720209  -4.286262e+00\n",
       "[20,] 9.463001e-01 -0.32328957  -2.927098e+00\n",
       "[21,] 9.092974e-01 -0.41614684  -2.185040e+00\n",
       "[22,] 8.632094e-01 -0.50484610  -1.709847e+00\n",
       "[23,] 8.084964e-01 -0.58850112  -1.373823e+00\n",
       "[24,] 7.457052e-01 -0.66627602  -1.119214e+00\n",
       "[25,] 6.754632e-01 -0.73739372  -9.160143e-01\n",
       "[26,] 5.984721e-01 -0.80114362  -7.470223e-01\n",
       "[27,] 5.155014e-01 -0.85688875  -6.015966e-01\n",
       "[28,] 4.273799e-01 -0.90407214  -4.727276e-01\n",
       "[29,] 3.349882e-01 -0.94222234  -3.555298e-01\n",
       "[30,] 2.392493e-01 -0.97095817  -2.464054e-01\n",
       "[31,] ⋮            ⋮            ⋮            \n",
       "[32,] -0.1743268   -0.984687856    0.17703761\n",
       "[33,] -0.2717606   -0.962364880    0.28238835\n",
       "[34,] -0.3664791   -0.930426272    0.39388304\n",
       "[35,] -0.4575359   -0.889191153    0.51455291\n",
       "[36,] -0.5440211   -0.839071529    0.64836083\n",
       "[37,] -0.6250706   -0.780568180    0.80078930\n",
       "[38,] -0.6998747   -0.714265652    0.97985208\n",
       "[39,] -0.7676858   -0.640826418    1.19796218\n",
       "[40,] -0.8278265   -0.560984257    1.47566791\n",
       "[41,] -0.8796958   -0.475536928    1.84989999\n",
       "[42,] -0.9227754   -0.385338191    2.39471572\n",
       "[43,] -0.9566350   -0.291289282    3.28414081\n",
       "[44,] -0.9809362   -0.194329906    5.04778831\n",
       "[45,] -0.9954363   -0.095428851   10.43118766\n",
       "[46,] -0.9999902    0.004425698 -225.95084645\n",
       "[47,] -0.9945526    0.104236027   -9.54135166\n",
       "[48,] -0.9791777    0.203004864   -4.82342004\n",
       "[49,] -0.9540192    0.299745343   -3.18276588\n",
       "[50,] -0.9193285    0.393490866   -2.33634019\n",
       "[51,] -0.8754522    0.483304759   -1.81138745\n",
       "[52,] -0.8228286    0.568289630   -1.44790359\n",
       "[53,] -0.7619836    0.647596339   -1.17663356\n",
       "[54,] -0.6935251    0.720432479   -0.96265105\n",
       "[55,] -0.6181371    0.786070296   -0.78636366\n",
       "[56,] -0.5365729    0.843853959   -0.63585993\n",
       "[57,] -0.4496475    0.893206112   -0.50340841\n",
       "[58,] -0.3582293    0.933633644   -0.38369363\n",
       "[59,] -0.2632318    0.964732618   -0.27285466\n",
       "[60,] -0.1656042    0.986192302   -0.16792280\n",
       "[61,] -0.0663219    0.997798279   -0.06646824"
      ]
     },
     "metadata": {},
     "output_type": "display_data"
    }
   ],
   "source": [
    "ytotal"
   ]
  },
  {
   "cell_type": "code",
   "execution_count": 32,
   "id": "4b09e59a",
   "metadata": {},
   "outputs": [
    {
     "data": {
      "image/png": "[encoded data removed]",
      "text/plain": [
       "plot without title"
      ]
     },
     "metadata": {
      "image/png": {
       "height": 420,
       "width": 420
      }
     },
     "output_type": "display_data"
    }
   ],
   "source": [
    "matplot(ytotal,\n",
    "       ylim = c(-2, 2),\n",
    "       type = 'l')"
   ]
  },
  {
   "cell_type": "code",
   "execution_count": 33,
   "id": "f143031a",
   "metadata": {},
   "outputs": [],
   "source": [
    "x = seq(-2, 2, 0.1)\n",
    "y = log(abs(x))"
   ]
  },
  {
   "cell_type": "code",
   "execution_count": 34,
   "id": "eca607cf",
   "metadata": {},
   "outputs": [
    {
     "data": {
      "text/html": [
       "<style>\n",
       ".list-inline {list-style: none; margin:0; padding: 0}\n",
       ".list-inline>li {display: inline-block}\n",
       ".list-inline>li:not(:last-child)::after {content: \"\\00b7\"; padding: 0 .5ex}\n",
       "</style>\n",
       "<ol class=list-inline><li>0.693147180559945</li><li>0.641853886172395</li><li>0.587786664902119</li><li>0.53062825106217</li><li>0.470003629245736</li><li>0.405465108108164</li><li>0.336472236621213</li><li>0.262364264467491</li><li>0.182321556793955</li><li>0.0953101798043249</li><li>0</li><li>-0.105360515657826</li><li>-0.22314355131421</li><li>-0.356674943938732</li><li>-0.510825623765991</li><li>-0.693147180559945</li><li>-0.916290731874155</li><li>-1.20397280432594</li><li>-1.6094379124341</li><li>-2.30258509299405</li><li>-Inf</li><li>-2.30258509299405</li><li>-1.6094379124341</li><li>-1.20397280432594</li><li>-0.916290731874154</li><li>-0.693147180559945</li><li>-0.51082562376599</li><li>-0.356674943938732</li><li>-0.223143551314209</li><li>-0.105360515657826</li><li>0</li><li>0.0953101798043249</li><li>0.182321556793955</li><li>0.262364264467491</li><li>0.336472236621213</li><li>0.405465108108164</li><li>0.470003629245736</li><li>0.53062825106217</li><li>0.587786664902119</li><li>0.641853886172395</li><li>0.693147180559945</li></ol>\n"
      ],
      "text/latex": [
       "\\begin{enumerate*}\n",
       "\\item 0.693147180559945\n",
       "\\item 0.641853886172395\n",
       "\\item 0.587786664902119\n",
       "\\item 0.53062825106217\n",
       "\\item 0.470003629245736\n",
       "\\item 0.405465108108164\n",
       "\\item 0.336472236621213\n",
       "\\item 0.262364264467491\n",
       "\\item 0.182321556793955\n",
       "\\item 0.0953101798043249\n",
       "\\item 0\n",
       "\\item -0.105360515657826\n",
       "\\item -0.22314355131421\n",
       "\\item -0.356674943938732\n",
       "\\item -0.510825623765991\n",
       "\\item -0.693147180559945\n",
       "\\item -0.916290731874155\n",
       "\\item -1.20397280432594\n",
       "\\item -1.6094379124341\n",
       "\\item -2.30258509299405\n",
       "\\item -Inf\n",
       "\\item -2.30258509299405\n",
       "\\item -1.6094379124341\n",
       "\\item -1.20397280432594\n",
       "\\item -0.916290731874154\n",
       "\\item -0.693147180559945\n",
       "\\item -0.51082562376599\n",
       "\\item -0.356674943938732\n",
       "\\item -0.223143551314209\n",
       "\\item -0.105360515657826\n",
       "\\item 0\n",
       "\\item 0.0953101798043249\n",
       "\\item 0.182321556793955\n",
       "\\item 0.262364264467491\n",
       "\\item 0.336472236621213\n",
       "\\item 0.405465108108164\n",
       "\\item 0.470003629245736\n",
       "\\item 0.53062825106217\n",
       "\\item 0.587786664902119\n",
       "\\item 0.641853886172395\n",
       "\\item 0.693147180559945\n",
       "\\end{enumerate*}\n"
      ],
      "text/markdown": [
       "1. 0.693147180559945\n",
       "2. 0.641853886172395\n",
       "3. 0.587786664902119\n",
       "4. 0.53062825106217\n",
       "5. 0.470003629245736\n",
       "6. 0.405465108108164\n",
       "7. 0.336472236621213\n",
       "8. 0.262364264467491\n",
       "9. 0.182321556793955\n",
       "10. 0.0953101798043249\n",
       "11. 0\n",
       "12. -0.105360515657826\n",
       "13. -0.22314355131421\n",
       "14. -0.356674943938732\n",
       "15. -0.510825623765991\n",
       "16. -0.693147180559945\n",
       "17. -0.916290731874155\n",
       "18. -1.20397280432594\n",
       "19. -1.6094379124341\n",
       "20. -2.30258509299405\n",
       "21. -Inf\n",
       "22. -2.30258509299405\n",
       "23. -1.6094379124341\n",
       "24. -1.20397280432594\n",
       "25. -0.916290731874154\n",
       "26. -0.693147180559945\n",
       "27. -0.51082562376599\n",
       "28. -0.356674943938732\n",
       "29. -0.223143551314209\n",
       "30. -0.105360515657826\n",
       "31. 0\n",
       "32. 0.0953101798043249\n",
       "33. 0.182321556793955\n",
       "34. 0.262364264467491\n",
       "35. 0.336472236621213\n",
       "36. 0.405465108108164\n",
       "37. 0.470003629245736\n",
       "38. 0.53062825106217\n",
       "39. 0.587786664902119\n",
       "40. 0.641853886172395\n",
       "41. 0.693147180559945\n",
       "\n",
       "\n"
      ],
      "text/plain": [
       " [1]  0.69314718  0.64185389  0.58778666  0.53062825  0.47000363  0.40546511\n",
       " [7]  0.33647224  0.26236426  0.18232156  0.09531018  0.00000000 -0.10536052\n",
       "[13] -0.22314355 -0.35667494 -0.51082562 -0.69314718 -0.91629073 -1.20397280\n",
       "[19] -1.60943791 -2.30258509        -Inf -2.30258509 -1.60943791 -1.20397280\n",
       "[25] -0.91629073 -0.69314718 -0.51082562 -0.35667494 -0.22314355 -0.10536052\n",
       "[31]  0.00000000  0.09531018  0.18232156  0.26236426  0.33647224  0.40546511\n",
       "[37]  0.47000363  0.53062825  0.58778666  0.64185389  0.69314718"
      ]
     },
     "metadata": {},
     "output_type": "display_data"
    }
   ],
   "source": [
    "y"
   ]
  },
  {
   "cell_type": "code",
   "execution_count": 35,
   "id": "426fe416",
   "metadata": {},
   "outputs": [
    {
     "data": {
      "image/png": "[encoded data removed]",
      "text/plain": [
       "plot without title"
      ]
     },
     "metadata": {
      "image/png": {
       "height": 420,
       "width": 420
      }
     },
     "output_type": "display_data"
    }
   ],
   "source": [
    "plot(x, y, type ='l')"
   ]
  },
  {
   "cell_type": "code",
   "execution_count": 36,
   "id": "9189e369",
   "metadata": {},
   "outputs": [],
   "source": [
    "x = seq(0, 5, 0.1)\n",
    "y = -1/4 * exp(-x^2)"
   ]
  },
  {
   "cell_type": "code",
   "execution_count": 37,
   "id": "904d1dfb",
   "metadata": {},
   "outputs": [
    {
     "data": {
      "image/png": "[encoded data removed]",
      "text/plain": [
       "plot without title"
      ]
     },
     "metadata": {
      "image/png": {
       "height": 420,
       "width": 420
      }
     },
     "output_type": "display_data"
    }
   ],
   "source": [
    "plot(x, y,\n",
    "    type = 'l')"
   ]
  },
  {
   "cell_type": "code",
   "execution_count": 38,
   "id": "0bf40c19",
   "metadata": {},
   "outputs": [],
   "source": [
    "x = seq(0, 5, 0.1)\n",
    "y = -1/4 * x * exp(-x^2)"
   ]
  },
  {
   "cell_type": "code",
   "execution_count": 39,
   "id": "de77ada1",
   "metadata": {},
   "outputs": [
    {
     "data": {
      "image/png": "[encoded data removed]",
      "text/plain": [
       "plot without title"
      ]
     },
     "metadata": {
      "image/png": {
       "height": 420,
       "width": 420
      }
     },
     "output_type": "display_data"
    }
   ],
   "source": [
    "plot(x, y, type = 'l')"
   ]
  },
  {
   "cell_type": "code",
   "execution_count": 40,
   "id": "41126cfd",
   "metadata": {},
   "outputs": [],
   "source": [
    "x = seq(0, 5, 0.1)\n",
    "y = 1/4 * x * exp(-x^2)"
   ]
  },
  {
   "cell_type": "code",
   "execution_count": 41,
   "id": "5becf83e",
   "metadata": {},
   "outputs": [
    {
     "data": {
      "image/png": "[encoded data removed]",
      "text/plain": [
       "plot without title"
      ]
     },
     "metadata": {
      "image/png": {
       "height": 420,
       "width": 420
      }
     },
     "output_type": "display_data"
    }
   ],
   "source": [
    "plot(x, y, type = 'l')"
   ]
  },
  {
   "cell_type": "code",
   "execution_count": 42,
   "id": "74ba5143",
   "metadata": {},
   "outputs": [],
   "source": [
    "y = dbinom(c(0:5), 5, 0.5)"
   ]
  },
  {
   "cell_type": "code",
   "execution_count": 43,
   "id": "5b521d8d",
   "metadata": {},
   "outputs": [
    {
     "data": {
      "text/html": [
       "<style>\n",
       ".list-inline {list-style: none; margin:0; padding: 0}\n",
       ".list-inline>li {display: inline-block}\n",
       ".list-inline>li:not(:last-child)::after {content: \"\\00b7\"; padding: 0 .5ex}\n",
       "</style>\n",
       "<ol class=list-inline><li>0.03125</li><li>0.15625</li><li>0.3125</li><li>0.3125</li><li>0.15625</li><li>0.03125</li></ol>\n"
      ],
      "text/latex": [
       "\\begin{enumerate*}\n",
       "\\item 0.03125\n",
       "\\item 0.15625\n",
       "\\item 0.3125\n",
       "\\item 0.3125\n",
       "\\item 0.15625\n",
       "\\item 0.03125\n",
       "\\end{enumerate*}\n"
      ],
      "text/markdown": [
       "1. 0.03125\n",
       "2. 0.15625\n",
       "3. 0.3125\n",
       "4. 0.3125\n",
       "5. 0.15625\n",
       "6. 0.03125\n",
       "\n",
       "\n"
      ],
      "text/plain": [
       "[1] 0.03125 0.15625 0.31250 0.31250 0.15625 0.03125"
      ]
     },
     "metadata": {},
     "output_type": "display_data"
    }
   ],
   "source": [
    "y"
   ]
  },
  {
   "cell_type": "code",
   "execution_count": 47,
   "id": "593feca7",
   "metadata": {},
   "outputs": [],
   "source": [
    "x = 1:6"
   ]
  },
  {
   "cell_type": "code",
   "execution_count": 48,
   "id": "30aead22",
   "metadata": {},
   "outputs": [
    {
     "data": {
      "text/html": [
       "<style>\n",
       ".list-inline {list-style: none; margin:0; padding: 0}\n",
       ".list-inline>li {display: inline-block}\n",
       ".list-inline>li:not(:last-child)::after {content: \"\\00b7\"; padding: 0 .5ex}\n",
       "</style>\n",
       "<ol class=list-inline><li>1</li><li>2</li><li>3</li><li>4</li><li>5</li><li>6</li></ol>\n"
      ],
      "text/latex": [
       "\\begin{enumerate*}\n",
       "\\item 1\n",
       "\\item 2\n",
       "\\item 3\n",
       "\\item 4\n",
       "\\item 5\n",
       "\\item 6\n",
       "\\end{enumerate*}\n"
      ],
      "text/markdown": [
       "1. 1\n",
       "2. 2\n",
       "3. 3\n",
       "4. 4\n",
       "5. 5\n",
       "6. 6\n",
       "\n",
       "\n"
      ],
      "text/plain": [
       "[1] 1 2 3 4 5 6"
      ]
     },
     "metadata": {},
     "output_type": "display_data"
    }
   ],
   "source": [
    "x"
   ]
  },
  {
   "cell_type": "code",
   "execution_count": 52,
   "id": "5882ae97",
   "metadata": {},
   "outputs": [
    {
     "data": {
      "image/png": "[encoded data removed]",
      "text/plain": [
       "plot without title"
      ]
     },
     "metadata": {
      "image/png": {
       "height": 420,
       "width": 420
      }
     },
     "output_type": "display_data"
    }
   ],
   "source": [
    "plot(x, y,\n",
    "    type = 'h',\n",
    "    lwd = 10)"
   ]
  },
  {
   "cell_type": "code",
   "execution_count": 53,
   "id": "c40956f7",
   "metadata": {},
   "outputs": [],
   "source": [
    "a.blood = c(90, 99, 102, 97, 102, 95, 87, 90, 89, 109)"
   ]
  },
  {
   "cell_type": "code",
   "execution_count": 54,
   "id": "82ce059b",
   "metadata": {},
   "outputs": [
    {
     "data": {
      "text/html": [
       "<style>\n",
       ".list-inline {list-style: none; margin:0; padding: 0}\n",
       ".list-inline>li {display: inline-block}\n",
       ".list-inline>li:not(:last-child)::after {content: \"\\00b7\"; padding: 0 .5ex}\n",
       "</style>\n",
       "<ol class=list-inline><li>90</li><li>99</li><li>102</li><li>97</li><li>102</li><li>95</li><li>87</li><li>90</li><li>89</li><li>109</li></ol>\n"
      ],
      "text/latex": [
       "\\begin{enumerate*}\n",
       "\\item 90\n",
       "\\item 99\n",
       "\\item 102\n",
       "\\item 97\n",
       "\\item 102\n",
       "\\item 95\n",
       "\\item 87\n",
       "\\item 90\n",
       "\\item 89\n",
       "\\item 109\n",
       "\\end{enumerate*}\n"
      ],
      "text/markdown": [
       "1. 90\n",
       "2. 99\n",
       "3. 102\n",
       "4. 97\n",
       "5. 102\n",
       "6. 95\n",
       "7. 87\n",
       "8. 90\n",
       "9. 89\n",
       "10. 109\n",
       "\n",
       "\n"
      ],
      "text/plain": [
       " [1]  90  99 102  97 102  95  87  90  89 109"
      ]
     },
     "metadata": {},
     "output_type": "display_data"
    }
   ],
   "source": [
    "a.blood"
   ]
  },
  {
   "cell_type": "code",
   "execution_count": 55,
   "id": "4211055b",
   "metadata": {},
   "outputs": [],
   "source": [
    "b.blood = c(88, 78, 99, 88, 91, 99, 108, 110, 77, 99)"
   ]
  },
  {
   "cell_type": "code",
   "execution_count": 57,
   "id": "35fa4d08",
   "metadata": {},
   "outputs": [
    {
     "data": {
      "image/png": "[encoded data removed]",
      "text/plain": [
       "plot without title"
      ]
     },
     "metadata": {
      "image/png": {
       "height": 420,
       "width": 420
      }
     },
     "output_type": "display_data"
    }
   ],
   "source": [
    "plot(a.blood, b.blood)"
   ]
  },
  {
   "cell_type": "code",
   "execution_count": 58,
   "id": "5d487b31",
   "metadata": {},
   "outputs": [],
   "source": [
    "h1 = 1:10"
   ]
  },
  {
   "cell_type": "code",
   "execution_count": 59,
   "id": "707367d0",
   "metadata": {},
   "outputs": [],
   "source": [
    "h2 = 1:10"
   ]
  },
  {
   "cell_type": "code",
   "execution_count": 60,
   "id": "d4c3a26b",
   "metadata": {},
   "outputs": [],
   "source": [
    "h = rbind(h1, h2)"
   ]
  },
  {
   "cell_type": "code",
   "execution_count": 61,
   "id": "99b20603",
   "metadata": {},
   "outputs": [
    {
     "data": {
      "text/html": [
       "<table class=\"dataframe\">\n",
       "<caption>A matrix: 2 × 10 of type int</caption>\n",
       "<tbody>\n",
       "\t<tr><th scope=row>h1</th><td>1</td><td>2</td><td>3</td><td>4</td><td>5</td><td>6</td><td>7</td><td>8</td><td>9</td><td>10</td></tr>\n",
       "\t<tr><th scope=row>h2</th><td>1</td><td>2</td><td>3</td><td>4</td><td>5</td><td>6</td><td>7</td><td>8</td><td>9</td><td>10</td></tr>\n",
       "</tbody>\n",
       "</table>\n"
      ],
      "text/latex": [
       "A matrix: 2 × 10 of type int\n",
       "\\begin{tabular}{r|llllllllll}\n",
       "\th1 & 1 & 2 & 3 & 4 & 5 & 6 & 7 & 8 & 9 & 10\\\\\n",
       "\th2 & 1 & 2 & 3 & 4 & 5 & 6 & 7 & 8 & 9 & 10\\\\\n",
       "\\end{tabular}\n"
      ],
      "text/markdown": [
       "\n",
       "A matrix: 2 × 10 of type int\n",
       "\n",
       "| h1 | 1 | 2 | 3 | 4 | 5 | 6 | 7 | 8 | 9 | 10 |\n",
       "| h2 | 1 | 2 | 3 | 4 | 5 | 6 | 7 | 8 | 9 | 10 |\n",
       "\n"
      ],
      "text/plain": [
       "   [,1] [,2] [,3] [,4] [,5] [,6] [,7] [,8] [,9] [,10]\n",
       "h1 1    2    3    4    5    6    7    8    9    10   \n",
       "h2 1    2    3    4    5    6    7    8    9    10   "
      ]
     },
     "metadata": {},
     "output_type": "display_data"
    }
   ],
   "source": [
    "h"
   ]
  },
  {
   "cell_type": "code",
   "execution_count": 62,
   "id": "5e4e94bb",
   "metadata": {},
   "outputs": [],
   "source": [
    "blood = rbind(a.blood, b.blood)"
   ]
  },
  {
   "cell_type": "code",
   "execution_count": 63,
   "id": "8e4a9ad5",
   "metadata": {},
   "outputs": [
    {
     "data": {
      "text/html": [
       "<table class=\"dataframe\">\n",
       "<caption>A matrix: 2 × 10 of type dbl</caption>\n",
       "<tbody>\n",
       "\t<tr><th scope=row>a.blood</th><td>90</td><td>99</td><td>102</td><td>97</td><td>102</td><td>95</td><td> 87</td><td> 90</td><td>89</td><td>109</td></tr>\n",
       "\t<tr><th scope=row>b.blood</th><td>88</td><td>78</td><td> 99</td><td>88</td><td> 91</td><td>99</td><td>108</td><td>110</td><td>77</td><td> 99</td></tr>\n",
       "</tbody>\n",
       "</table>\n"
      ],
      "text/latex": [
       "A matrix: 2 × 10 of type dbl\n",
       "\\begin{tabular}{r|llllllllll}\n",
       "\ta.blood & 90 & 99 & 102 & 97 & 102 & 95 &  87 &  90 & 89 & 109\\\\\n",
       "\tb.blood & 88 & 78 &  99 & 88 &  91 & 99 & 108 & 110 & 77 &  99\\\\\n",
       "\\end{tabular}\n"
      ],
      "text/markdown": [
       "\n",
       "A matrix: 2 × 10 of type dbl\n",
       "\n",
       "| a.blood | 90 | 99 | 102 | 97 | 102 | 95 |  87 |  90 | 89 | 109 |\n",
       "| b.blood | 88 | 78 |  99 | 88 |  91 | 99 | 108 | 110 | 77 |  99 |\n",
       "\n"
      ],
      "text/plain": [
       "        [,1] [,2] [,3] [,4] [,5] [,6] [,7] [,8] [,9] [,10]\n",
       "a.blood 90   99   102  97   102  95    87   90  89   109  \n",
       "b.blood 88   78    99  88    91  99   108  110  77    99  "
      ]
     },
     "metadata": {},
     "output_type": "display_data"
    }
   ],
   "source": [
    "blood"
   ]
  },
  {
   "cell_type": "code",
   "execution_count": 68,
   "id": "4d15e6c9",
   "metadata": {},
   "outputs": [
    {
     "data": {
      "image/png": "[encoded data removed]",
      "text/plain": [
       "plot without title"
      ]
     },
     "metadata": {
      "image/png": {
       "height": 420,
       "width": 420
      }
     },
     "output_type": "display_data"
    }
   ],
   "source": [
    "plot(blood~h,\n",
    "    col = c('red','blue'))"
   ]
  },
  {
   "cell_type": "code",
   "execution_count": 71,
   "id": "d8ffbaaf",
   "metadata": {},
   "outputs": [
    {
     "data": {
      "text/html": [
       "<table class=\"dataframe\">\n",
       "<caption>A matrix: 2 × 10 of type int</caption>\n",
       "<tbody>\n",
       "\t<tr><th scope=row>h1</th><td>1</td><td>2</td><td>3</td><td>4</td><td>5</td><td>6</td><td>7</td><td>8</td><td>9</td><td>10</td></tr>\n",
       "\t<tr><th scope=row>h2</th><td>1</td><td>2</td><td>3</td><td>4</td><td>5</td><td>6</td><td>7</td><td>8</td><td>9</td><td>10</td></tr>\n",
       "</tbody>\n",
       "</table>\n"
      ],
      "text/latex": [
       "A matrix: 2 × 10 of type int\n",
       "\\begin{tabular}{r|llllllllll}\n",
       "\th1 & 1 & 2 & 3 & 4 & 5 & 6 & 7 & 8 & 9 & 10\\\\\n",
       "\th2 & 1 & 2 & 3 & 4 & 5 & 6 & 7 & 8 & 9 & 10\\\\\n",
       "\\end{tabular}\n"
      ],
      "text/markdown": [
       "\n",
       "A matrix: 2 × 10 of type int\n",
       "\n",
       "| h1 | 1 | 2 | 3 | 4 | 5 | 6 | 7 | 8 | 9 | 10 |\n",
       "| h2 | 1 | 2 | 3 | 4 | 5 | 6 | 7 | 8 | 9 | 10 |\n",
       "\n"
      ],
      "text/plain": [
       "   [,1] [,2] [,3] [,4] [,5] [,6] [,7] [,8] [,9] [,10]\n",
       "h1 1    2    3    4    5    6    7    8    9    10   \n",
       "h2 1    2    3    4    5    6    7    8    9    10   "
      ]
     },
     "metadata": {},
     "output_type": "display_data"
    }
   ],
   "source": [
    "h"
   ]
  },
  {
   "cell_type": "code",
   "execution_count": 70,
   "id": "ea95552d",
   "metadata": {},
   "outputs": [
    {
     "data": {
      "text/html": [
       "<table class=\"dataframe\">\n",
       "<caption>A matrix: 2 × 10 of type dbl</caption>\n",
       "<tbody>\n",
       "\t<tr><th scope=row>a.blood</th><td>90</td><td>99</td><td>102</td><td>97</td><td>102</td><td>95</td><td> 87</td><td> 90</td><td>89</td><td>109</td></tr>\n",
       "\t<tr><th scope=row>b.blood</th><td>88</td><td>78</td><td> 99</td><td>88</td><td> 91</td><td>99</td><td>108</td><td>110</td><td>77</td><td> 99</td></tr>\n",
       "</tbody>\n",
       "</table>\n"
      ],
      "text/latex": [
       "A matrix: 2 × 10 of type dbl\n",
       "\\begin{tabular}{r|llllllllll}\n",
       "\ta.blood & 90 & 99 & 102 & 97 & 102 & 95 &  87 &  90 & 89 & 109\\\\\n",
       "\tb.blood & 88 & 78 &  99 & 88 &  91 & 99 & 108 & 110 & 77 &  99\\\\\n",
       "\\end{tabular}\n"
      ],
      "text/markdown": [
       "\n",
       "A matrix: 2 × 10 of type dbl\n",
       "\n",
       "| a.blood | 90 | 99 | 102 | 97 | 102 | 95 |  87 |  90 | 89 | 109 |\n",
       "| b.blood | 88 | 78 |  99 | 88 |  91 | 99 | 108 | 110 | 77 |  99 |\n",
       "\n"
      ],
      "text/plain": [
       "        [,1] [,2] [,3] [,4] [,5] [,6] [,7] [,8] [,9] [,10]\n",
       "a.blood 90   99   102  97   102  95    87   90  89   109  \n",
       "b.blood 88   78    99  88    91  99   108  110  77    99  "
      ]
     },
     "metadata": {},
     "output_type": "display_data"
    }
   ],
   "source": [
    "blood"
   ]
  },
  {
   "cell_type": "code",
   "execution_count": 75,
   "id": "b3263fee",
   "metadata": {},
   "outputs": [
    {
     "data": {
      "image/png": "[encoded data removed]",
      "text/plain": [
       "plot without title"
      ]
     },
     "metadata": {
      "image/png": {
       "height": 420,
       "width": 420
      }
     },
     "output_type": "display_data"
    }
   ],
   "source": [
    "plot(h1, a.blood,\n",
    "    type = 'l')\n",
    "lm.res = lm(a.blood~h1)\n",
    "abline(lm.res)"
   ]
  },
  {
   "cell_type": "code",
   "execution_count": 76,
   "id": "6eeeb8b7",
   "metadata": {},
   "outputs": [
    {
     "data": {
      "text/plain": [
       "\n",
       "Call:\n",
       "lm(formula = a.blood ~ h1)\n",
       "\n",
       "Residuals:\n",
       "    Min      1Q  Median      3Q     Max \n",
       "-9.0364 -6.0182  0.0121  5.2803 12.8909 \n",
       "\n",
       "Coefficients:\n",
       "            Estimate Std. Error t value Pr(>|t|)    \n",
       "(Intercept) 95.86667    5.14592  18.630 7.11e-08 ***\n",
       "h1           0.02424    0.82934   0.029    0.977    \n",
       "---\n",
       "Signif. codes:  0 '***' 0.001 '**' 0.01 '*' 0.05 '.' 0.1 ' ' 1\n",
       "\n",
       "Residual standard error: 7.533 on 8 degrees of freedom\n",
       "Multiple R-squared:  0.0001068,\tAdjusted R-squared:  -0.1249 \n",
       "F-statistic: 0.0008544 on 1 and 8 DF,  p-value: 0.9774\n"
      ]
     },
     "metadata": {},
     "output_type": "display_data"
    }
   ],
   "source": [
    "summary(lm.res)"
   ]
  },
  {
   "cell_type": "code",
   "execution_count": 77,
   "id": "333a9b86",
   "metadata": {},
   "outputs": [
    {
     "data": {
      "text/html": [
       "<strong>1:</strong> 96.0121212121212"
      ],
      "text/latex": [
       "\\textbf{1:} 96.0121212121212"
      ],
      "text/markdown": [
       "**1:** 96.0121212121212"
      ],
      "text/plain": [
       "       1 \n",
       "96.01212 "
      ]
     },
     "metadata": {},
     "output_type": "display_data"
    }
   ],
   "source": [
    "predict(lm.res, newdata = data.frame(h1 = 6))"
   ]
  },
  {
   "cell_type": "code",
   "execution_count": 78,
   "id": "aebb9c53",
   "metadata": {},
   "outputs": [
    {
     "data": {
      "text/html": [
       "96.01211"
      ],
      "text/latex": [
       "96.01211"
      ],
      "text/markdown": [
       "96.01211"
      ],
      "text/plain": [
       "[1] 96.01211"
      ]
     },
     "metadata": {},
     "output_type": "display_data"
    }
   ],
   "source": [
    "95.86667 + 0.02424 * 6"
   ]
  },
  {
   "cell_type": "code",
   "execution_count": 79,
   "id": "3a770f8d",
   "metadata": {},
   "outputs": [
    {
     "name": "stderr",
     "output_type": "stream",
     "text": [
      "Warning message:\n",
      "\"package 'rgl' was built under R version 4.3.2\"\n"
     ]
    }
   ],
   "source": [
    "library(rgl)"
   ]
  },
  {
   "cell_type": "code",
   "execution_count": 80,
   "id": "97c18cc7",
   "metadata": {},
   "outputs": [],
   "source": [
    "plot3d(mtcars$mpg, mtcars$hp, mtcars$drat)"
   ]
  },
  {
   "cell_type": "code",
   "execution_count": 81,
   "id": "a401633e",
   "metadata": {},
   "outputs": [],
   "source": [
    "text3d(mtcars$mpg, mtcars$hp, mtcars$drat, texts = colnames(mtcars), col = 'red', adj =  1)"
   ]
  },
  {
   "cell_type": "code",
   "execution_count": 83,
   "id": "aa7f297a",
   "metadata": {},
   "outputs": [],
   "source": [
    "x1 = seq(-4, 4, 0.5)\n",
    "x2 = seq(-4, 4, 0.5)"
   ]
  },
  {
   "cell_type": "code",
   "execution_count": 87,
   "id": "da0ef148",
   "metadata": {},
   "outputs": [],
   "source": [
    "func = function(x1, x2){\n",
    "    answer = x1 ^ 2 + x1 * x2 + x2 ^ 2\n",
    "    return(answer)\n",
    "}"
   ]
  },
  {
   "cell_type": "code",
   "execution_count": 88,
   "id": "fb12ef1b",
   "metadata": {},
   "outputs": [
    {
     "ename": "ERROR",
     "evalue": "Error in eval(expr, envir, enclos): object 'answer' not found\n",
     "output_type": "error",
     "traceback": [
      "Error in eval(expr, envir, enclos): object 'answer' not found\nTraceback:\n"
     ]
    }
   ],
   "source": [
    "answer"
   ]
  },
  {
   "cell_type": "code",
   "execution_count": 89,
   "id": "387e48a8",
   "metadata": {},
   "outputs": [],
   "source": [
    "ly = outer(x1, x2, FUN = func)"
   ]
  },
  {
   "cell_type": "code",
   "execution_count": 90,
   "id": "2af5a961",
   "metadata": {},
   "outputs": [
    {
     "data": {
      "text/html": [
       "<table class=\"dataframe\">\n",
       "<caption>A matrix: 17 × 17 of type dbl</caption>\n",
       "<tbody>\n",
       "\t<tr><td>48.00</td><td>42.25</td><td>37.00</td><td>32.25</td><td>28.00</td><td>24.25</td><td>21.00</td><td>18.25</td><td>16.00</td><td>14.25</td><td>13.00</td><td>12.25</td><td>12.00</td><td>12.25</td><td>13.00</td><td>14.25</td><td>16.00</td></tr>\n",
       "\t<tr><td>42.25</td><td>36.75</td><td>31.75</td><td>27.25</td><td>23.25</td><td>19.75</td><td>16.75</td><td>14.25</td><td>12.25</td><td>10.75</td><td> 9.75</td><td> 9.25</td><td> 9.25</td><td> 9.75</td><td>10.75</td><td>12.25</td><td>14.25</td></tr>\n",
       "\t<tr><td>37.00</td><td>31.75</td><td>27.00</td><td>22.75</td><td>19.00</td><td>15.75</td><td>13.00</td><td>10.75</td><td> 9.00</td><td> 7.75</td><td> 7.00</td><td> 6.75</td><td> 7.00</td><td> 7.75</td><td> 9.00</td><td>10.75</td><td>13.00</td></tr>\n",
       "\t<tr><td>32.25</td><td>27.25</td><td>22.75</td><td>18.75</td><td>15.25</td><td>12.25</td><td> 9.75</td><td> 7.75</td><td> 6.25</td><td> 5.25</td><td> 4.75</td><td> 4.75</td><td> 5.25</td><td> 6.25</td><td> 7.75</td><td> 9.75</td><td>12.25</td></tr>\n",
       "\t<tr><td>28.00</td><td>23.25</td><td>19.00</td><td>15.25</td><td>12.00</td><td> 9.25</td><td> 7.00</td><td> 5.25</td><td> 4.00</td><td> 3.25</td><td> 3.00</td><td> 3.25</td><td> 4.00</td><td> 5.25</td><td> 7.00</td><td> 9.25</td><td>12.00</td></tr>\n",
       "\t<tr><td>24.25</td><td>19.75</td><td>15.75</td><td>12.25</td><td> 9.25</td><td> 6.75</td><td> 4.75</td><td> 3.25</td><td> 2.25</td><td> 1.75</td><td> 1.75</td><td> 2.25</td><td> 3.25</td><td> 4.75</td><td> 6.75</td><td> 9.25</td><td>12.25</td></tr>\n",
       "\t<tr><td>21.00</td><td>16.75</td><td>13.00</td><td> 9.75</td><td> 7.00</td><td> 4.75</td><td> 3.00</td><td> 1.75</td><td> 1.00</td><td> 0.75</td><td> 1.00</td><td> 1.75</td><td> 3.00</td><td> 4.75</td><td> 7.00</td><td> 9.75</td><td>13.00</td></tr>\n",
       "\t<tr><td>18.25</td><td>14.25</td><td>10.75</td><td> 7.75</td><td> 5.25</td><td> 3.25</td><td> 1.75</td><td> 0.75</td><td> 0.25</td><td> 0.25</td><td> 0.75</td><td> 1.75</td><td> 3.25</td><td> 5.25</td><td> 7.75</td><td>10.75</td><td>14.25</td></tr>\n",
       "\t<tr><td>16.00</td><td>12.25</td><td> 9.00</td><td> 6.25</td><td> 4.00</td><td> 2.25</td><td> 1.00</td><td> 0.25</td><td> 0.00</td><td> 0.25</td><td> 1.00</td><td> 2.25</td><td> 4.00</td><td> 6.25</td><td> 9.00</td><td>12.25</td><td>16.00</td></tr>\n",
       "\t<tr><td>14.25</td><td>10.75</td><td> 7.75</td><td> 5.25</td><td> 3.25</td><td> 1.75</td><td> 0.75</td><td> 0.25</td><td> 0.25</td><td> 0.75</td><td> 1.75</td><td> 3.25</td><td> 5.25</td><td> 7.75</td><td>10.75</td><td>14.25</td><td>18.25</td></tr>\n",
       "\t<tr><td>13.00</td><td> 9.75</td><td> 7.00</td><td> 4.75</td><td> 3.00</td><td> 1.75</td><td> 1.00</td><td> 0.75</td><td> 1.00</td><td> 1.75</td><td> 3.00</td><td> 4.75</td><td> 7.00</td><td> 9.75</td><td>13.00</td><td>16.75</td><td>21.00</td></tr>\n",
       "\t<tr><td>12.25</td><td> 9.25</td><td> 6.75</td><td> 4.75</td><td> 3.25</td><td> 2.25</td><td> 1.75</td><td> 1.75</td><td> 2.25</td><td> 3.25</td><td> 4.75</td><td> 6.75</td><td> 9.25</td><td>12.25</td><td>15.75</td><td>19.75</td><td>24.25</td></tr>\n",
       "\t<tr><td>12.00</td><td> 9.25</td><td> 7.00</td><td> 5.25</td><td> 4.00</td><td> 3.25</td><td> 3.00</td><td> 3.25</td><td> 4.00</td><td> 5.25</td><td> 7.00</td><td> 9.25</td><td>12.00</td><td>15.25</td><td>19.00</td><td>23.25</td><td>28.00</td></tr>\n",
       "\t<tr><td>12.25</td><td> 9.75</td><td> 7.75</td><td> 6.25</td><td> 5.25</td><td> 4.75</td><td> 4.75</td><td> 5.25</td><td> 6.25</td><td> 7.75</td><td> 9.75</td><td>12.25</td><td>15.25</td><td>18.75</td><td>22.75</td><td>27.25</td><td>32.25</td></tr>\n",
       "\t<tr><td>13.00</td><td>10.75</td><td> 9.00</td><td> 7.75</td><td> 7.00</td><td> 6.75</td><td> 7.00</td><td> 7.75</td><td> 9.00</td><td>10.75</td><td>13.00</td><td>15.75</td><td>19.00</td><td>22.75</td><td>27.00</td><td>31.75</td><td>37.00</td></tr>\n",
       "\t<tr><td>14.25</td><td>12.25</td><td>10.75</td><td> 9.75</td><td> 9.25</td><td> 9.25</td><td> 9.75</td><td>10.75</td><td>12.25</td><td>14.25</td><td>16.75</td><td>19.75</td><td>23.25</td><td>27.25</td><td>31.75</td><td>36.75</td><td>42.25</td></tr>\n",
       "\t<tr><td>16.00</td><td>14.25</td><td>13.00</td><td>12.25</td><td>12.00</td><td>12.25</td><td>13.00</td><td>14.25</td><td>16.00</td><td>18.25</td><td>21.00</td><td>24.25</td><td>28.00</td><td>32.25</td><td>37.00</td><td>42.25</td><td>48.00</td></tr>\n",
       "</tbody>\n",
       "</table>\n"
      ],
      "text/latex": [
       "A matrix: 17 × 17 of type dbl\n",
       "\\begin{tabular}{lllllllllllllllll}\n",
       "\t 48.00 & 42.25 & 37.00 & 32.25 & 28.00 & 24.25 & 21.00 & 18.25 & 16.00 & 14.25 & 13.00 & 12.25 & 12.00 & 12.25 & 13.00 & 14.25 & 16.00\\\\\n",
       "\t 42.25 & 36.75 & 31.75 & 27.25 & 23.25 & 19.75 & 16.75 & 14.25 & 12.25 & 10.75 &  9.75 &  9.25 &  9.25 &  9.75 & 10.75 & 12.25 & 14.25\\\\\n",
       "\t 37.00 & 31.75 & 27.00 & 22.75 & 19.00 & 15.75 & 13.00 & 10.75 &  9.00 &  7.75 &  7.00 &  6.75 &  7.00 &  7.75 &  9.00 & 10.75 & 13.00\\\\\n",
       "\t 32.25 & 27.25 & 22.75 & 18.75 & 15.25 & 12.25 &  9.75 &  7.75 &  6.25 &  5.25 &  4.75 &  4.75 &  5.25 &  6.25 &  7.75 &  9.75 & 12.25\\\\\n",
       "\t 28.00 & 23.25 & 19.00 & 15.25 & 12.00 &  9.25 &  7.00 &  5.25 &  4.00 &  3.25 &  3.00 &  3.25 &  4.00 &  5.25 &  7.00 &  9.25 & 12.00\\\\\n",
       "\t 24.25 & 19.75 & 15.75 & 12.25 &  9.25 &  6.75 &  4.75 &  3.25 &  2.25 &  1.75 &  1.75 &  2.25 &  3.25 &  4.75 &  6.75 &  9.25 & 12.25\\\\\n",
       "\t 21.00 & 16.75 & 13.00 &  9.75 &  7.00 &  4.75 &  3.00 &  1.75 &  1.00 &  0.75 &  1.00 &  1.75 &  3.00 &  4.75 &  7.00 &  9.75 & 13.00\\\\\n",
       "\t 18.25 & 14.25 & 10.75 &  7.75 &  5.25 &  3.25 &  1.75 &  0.75 &  0.25 &  0.25 &  0.75 &  1.75 &  3.25 &  5.25 &  7.75 & 10.75 & 14.25\\\\\n",
       "\t 16.00 & 12.25 &  9.00 &  6.25 &  4.00 &  2.25 &  1.00 &  0.25 &  0.00 &  0.25 &  1.00 &  2.25 &  4.00 &  6.25 &  9.00 & 12.25 & 16.00\\\\\n",
       "\t 14.25 & 10.75 &  7.75 &  5.25 &  3.25 &  1.75 &  0.75 &  0.25 &  0.25 &  0.75 &  1.75 &  3.25 &  5.25 &  7.75 & 10.75 & 14.25 & 18.25\\\\\n",
       "\t 13.00 &  9.75 &  7.00 &  4.75 &  3.00 &  1.75 &  1.00 &  0.75 &  1.00 &  1.75 &  3.00 &  4.75 &  7.00 &  9.75 & 13.00 & 16.75 & 21.00\\\\\n",
       "\t 12.25 &  9.25 &  6.75 &  4.75 &  3.25 &  2.25 &  1.75 &  1.75 &  2.25 &  3.25 &  4.75 &  6.75 &  9.25 & 12.25 & 15.75 & 19.75 & 24.25\\\\\n",
       "\t 12.00 &  9.25 &  7.00 &  5.25 &  4.00 &  3.25 &  3.00 &  3.25 &  4.00 &  5.25 &  7.00 &  9.25 & 12.00 & 15.25 & 19.00 & 23.25 & 28.00\\\\\n",
       "\t 12.25 &  9.75 &  7.75 &  6.25 &  5.25 &  4.75 &  4.75 &  5.25 &  6.25 &  7.75 &  9.75 & 12.25 & 15.25 & 18.75 & 22.75 & 27.25 & 32.25\\\\\n",
       "\t 13.00 & 10.75 &  9.00 &  7.75 &  7.00 &  6.75 &  7.00 &  7.75 &  9.00 & 10.75 & 13.00 & 15.75 & 19.00 & 22.75 & 27.00 & 31.75 & 37.00\\\\\n",
       "\t 14.25 & 12.25 & 10.75 &  9.75 &  9.25 &  9.25 &  9.75 & 10.75 & 12.25 & 14.25 & 16.75 & 19.75 & 23.25 & 27.25 & 31.75 & 36.75 & 42.25\\\\\n",
       "\t 16.00 & 14.25 & 13.00 & 12.25 & 12.00 & 12.25 & 13.00 & 14.25 & 16.00 & 18.25 & 21.00 & 24.25 & 28.00 & 32.25 & 37.00 & 42.25 & 48.00\\\\\n",
       "\\end{tabular}\n"
      ],
      "text/markdown": [
       "\n",
       "A matrix: 17 × 17 of type dbl\n",
       "\n",
       "| 48.00 | 42.25 | 37.00 | 32.25 | 28.00 | 24.25 | 21.00 | 18.25 | 16.00 | 14.25 | 13.00 | 12.25 | 12.00 | 12.25 | 13.00 | 14.25 | 16.00 |\n",
       "| 42.25 | 36.75 | 31.75 | 27.25 | 23.25 | 19.75 | 16.75 | 14.25 | 12.25 | 10.75 |  9.75 |  9.25 |  9.25 |  9.75 | 10.75 | 12.25 | 14.25 |\n",
       "| 37.00 | 31.75 | 27.00 | 22.75 | 19.00 | 15.75 | 13.00 | 10.75 |  9.00 |  7.75 |  7.00 |  6.75 |  7.00 |  7.75 |  9.00 | 10.75 | 13.00 |\n",
       "| 32.25 | 27.25 | 22.75 | 18.75 | 15.25 | 12.25 |  9.75 |  7.75 |  6.25 |  5.25 |  4.75 |  4.75 |  5.25 |  6.25 |  7.75 |  9.75 | 12.25 |\n",
       "| 28.00 | 23.25 | 19.00 | 15.25 | 12.00 |  9.25 |  7.00 |  5.25 |  4.00 |  3.25 |  3.00 |  3.25 |  4.00 |  5.25 |  7.00 |  9.25 | 12.00 |\n",
       "| 24.25 | 19.75 | 15.75 | 12.25 |  9.25 |  6.75 |  4.75 |  3.25 |  2.25 |  1.75 |  1.75 |  2.25 |  3.25 |  4.75 |  6.75 |  9.25 | 12.25 |\n",
       "| 21.00 | 16.75 | 13.00 |  9.75 |  7.00 |  4.75 |  3.00 |  1.75 |  1.00 |  0.75 |  1.00 |  1.75 |  3.00 |  4.75 |  7.00 |  9.75 | 13.00 |\n",
       "| 18.25 | 14.25 | 10.75 |  7.75 |  5.25 |  3.25 |  1.75 |  0.75 |  0.25 |  0.25 |  0.75 |  1.75 |  3.25 |  5.25 |  7.75 | 10.75 | 14.25 |\n",
       "| 16.00 | 12.25 |  9.00 |  6.25 |  4.00 |  2.25 |  1.00 |  0.25 |  0.00 |  0.25 |  1.00 |  2.25 |  4.00 |  6.25 |  9.00 | 12.25 | 16.00 |\n",
       "| 14.25 | 10.75 |  7.75 |  5.25 |  3.25 |  1.75 |  0.75 |  0.25 |  0.25 |  0.75 |  1.75 |  3.25 |  5.25 |  7.75 | 10.75 | 14.25 | 18.25 |\n",
       "| 13.00 |  9.75 |  7.00 |  4.75 |  3.00 |  1.75 |  1.00 |  0.75 |  1.00 |  1.75 |  3.00 |  4.75 |  7.00 |  9.75 | 13.00 | 16.75 | 21.00 |\n",
       "| 12.25 |  9.25 |  6.75 |  4.75 |  3.25 |  2.25 |  1.75 |  1.75 |  2.25 |  3.25 |  4.75 |  6.75 |  9.25 | 12.25 | 15.75 | 19.75 | 24.25 |\n",
       "| 12.00 |  9.25 |  7.00 |  5.25 |  4.00 |  3.25 |  3.00 |  3.25 |  4.00 |  5.25 |  7.00 |  9.25 | 12.00 | 15.25 | 19.00 | 23.25 | 28.00 |\n",
       "| 12.25 |  9.75 |  7.75 |  6.25 |  5.25 |  4.75 |  4.75 |  5.25 |  6.25 |  7.75 |  9.75 | 12.25 | 15.25 | 18.75 | 22.75 | 27.25 | 32.25 |\n",
       "| 13.00 | 10.75 |  9.00 |  7.75 |  7.00 |  6.75 |  7.00 |  7.75 |  9.00 | 10.75 | 13.00 | 15.75 | 19.00 | 22.75 | 27.00 | 31.75 | 37.00 |\n",
       "| 14.25 | 12.25 | 10.75 |  9.75 |  9.25 |  9.25 |  9.75 | 10.75 | 12.25 | 14.25 | 16.75 | 19.75 | 23.25 | 27.25 | 31.75 | 36.75 | 42.25 |\n",
       "| 16.00 | 14.25 | 13.00 | 12.25 | 12.00 | 12.25 | 13.00 | 14.25 | 16.00 | 18.25 | 21.00 | 24.25 | 28.00 | 32.25 | 37.00 | 42.25 | 48.00 |\n",
       "\n"
      ],
      "text/plain": [
       "      [,1]  [,2]  [,3]  [,4]  [,5]  [,6]  [,7]  [,8]  [,9]  [,10] [,11] [,12]\n",
       " [1,] 48.00 42.25 37.00 32.25 28.00 24.25 21.00 18.25 16.00 14.25 13.00 12.25\n",
       " [2,] 42.25 36.75 31.75 27.25 23.25 19.75 16.75 14.25 12.25 10.75  9.75  9.25\n",
       " [3,] 37.00 31.75 27.00 22.75 19.00 15.75 13.00 10.75  9.00  7.75  7.00  6.75\n",
       " [4,] 32.25 27.25 22.75 18.75 15.25 12.25  9.75  7.75  6.25  5.25  4.75  4.75\n",
       " [5,] 28.00 23.25 19.00 15.25 12.00  9.25  7.00  5.25  4.00  3.25  3.00  3.25\n",
       " [6,] 24.25 19.75 15.75 12.25  9.25  6.75  4.75  3.25  2.25  1.75  1.75  2.25\n",
       " [7,] 21.00 16.75 13.00  9.75  7.00  4.75  3.00  1.75  1.00  0.75  1.00  1.75\n",
       " [8,] 18.25 14.25 10.75  7.75  5.25  3.25  1.75  0.75  0.25  0.25  0.75  1.75\n",
       " [9,] 16.00 12.25  9.00  6.25  4.00  2.25  1.00  0.25  0.00  0.25  1.00  2.25\n",
       "[10,] 14.25 10.75  7.75  5.25  3.25  1.75  0.75  0.25  0.25  0.75  1.75  3.25\n",
       "[11,] 13.00  9.75  7.00  4.75  3.00  1.75  1.00  0.75  1.00  1.75  3.00  4.75\n",
       "[12,] 12.25  9.25  6.75  4.75  3.25  2.25  1.75  1.75  2.25  3.25  4.75  6.75\n",
       "[13,] 12.00  9.25  7.00  5.25  4.00  3.25  3.00  3.25  4.00  5.25  7.00  9.25\n",
       "[14,] 12.25  9.75  7.75  6.25  5.25  4.75  4.75  5.25  6.25  7.75  9.75 12.25\n",
       "[15,] 13.00 10.75  9.00  7.75  7.00  6.75  7.00  7.75  9.00 10.75 13.00 15.75\n",
       "[16,] 14.25 12.25 10.75  9.75  9.25  9.25  9.75 10.75 12.25 14.25 16.75 19.75\n",
       "[17,] 16.00 14.25 13.00 12.25 12.00 12.25 13.00 14.25 16.00 18.25 21.00 24.25\n",
       "      [,13] [,14] [,15] [,16] [,17]\n",
       " [1,] 12.00 12.25 13.00 14.25 16.00\n",
       " [2,]  9.25  9.75 10.75 12.25 14.25\n",
       " [3,]  7.00  7.75  9.00 10.75 13.00\n",
       " [4,]  5.25  6.25  7.75  9.75 12.25\n",
       " [5,]  4.00  5.25  7.00  9.25 12.00\n",
       " [6,]  3.25  4.75  6.75  9.25 12.25\n",
       " [7,]  3.00  4.75  7.00  9.75 13.00\n",
       " [8,]  3.25  5.25  7.75 10.75 14.25\n",
       " [9,]  4.00  6.25  9.00 12.25 16.00\n",
       "[10,]  5.25  7.75 10.75 14.25 18.25\n",
       "[11,]  7.00  9.75 13.00 16.75 21.00\n",
       "[12,]  9.25 12.25 15.75 19.75 24.25\n",
       "[13,] 12.00 15.25 19.00 23.25 28.00\n",
       "[14,] 15.25 18.75 22.75 27.25 32.25\n",
       "[15,] 19.00 22.75 27.00 31.75 37.00\n",
       "[16,] 23.25 27.25 31.75 36.75 42.25\n",
       "[17,] 28.00 32.25 37.00 42.25 48.00"
      ]
     },
     "metadata": {},
     "output_type": "display_data"
    }
   ],
   "source": [
    "ly"
   ]
  },
  {
   "cell_type": "code",
   "execution_count": 91,
   "id": "39e8a732",
   "metadata": {},
   "outputs": [
    {
     "ename": "ERROR",
     "evalue": "Error in persp.default(x1, x2, y): invalid 'z' argument\n",
     "output_type": "error",
     "traceback": [
      "Error in persp.default(x1, x2, y): invalid 'z' argument\nTraceback:\n",
      "1. persp(x1, x2, y)",
      "2. persp.default(x1, x2, y)"
     ]
    },
    {
     "data": {
      "image/png": "[encoded data removed]",
      "text/plain": [
       "plot without title"
      ]
     },
     "metadata": {
      "image/png": {
       "height": 420,
       "width": 420
      }
     },
     "output_type": "display_data"
    }
   ],
   "source": [
    "persp(x1, x2, y)"
   ]
  },
  {
   "cell_type": "code",
   "execution_count": 94,
   "id": "dce1e9ae",
   "metadata": {},
   "outputs": [],
   "source": [
    "x1 = seq(-6, 6, 0.5)\n",
    "x2 = seq(-6, 6, 0.5)\n",
    "mu1 = 1\n",
    "s1 = 1\n",
    "r = 0.5"
   ]
  },
  {
   "cell_type": "code",
   "execution_count": 95,
   "id": "de709541",
   "metadata": {},
   "outputs": [],
   "source": [
    "mu2 = 2\n",
    "s2 = 4"
   ]
  },
  {
   "cell_type": "code",
   "execution_count": 97,
   "id": "4dd6536f",
   "metadata": {},
   "outputs": [],
   "source": [
    "func = function(x1, x2) {\n",
    "    pro1 = 1 / (2 * pi * sqrt(s1 * s2) * (1-r ^2))\n",
    "    pro2 = ((x1 - mu1) / sqrt(s1)) ^ 2\n",
    "    pro3 = (2 * r * (x1 - mu1) * (x2 - mu2)) / (sqrt(s1 * s2))\n",
    "    pro4 = ((x2 - mu2) / sqrt(s2)) ^ 2\n",
    "    pro5 = (pro2 - pro3 + pro4)\n",
    "    pro6 = pro1 * exp(-pro5 / (2*(1-3^2)))\n",
    "    return(pro6)\n",
    "}"
   ]
  },
  {
   "cell_type": "code",
   "execution_count": 98,
   "id": "f2eca6a5",
   "metadata": {},
   "outputs": [],
   "source": [
    "y = outer(x1, x2, FUN = func)"
   ]
  },
  {
   "cell_type": "code",
   "execution_count": 99,
   "id": "cdeb9681",
   "metadata": {},
   "outputs": [
    {
     "data": {
      "text/html": [
       "<table class=\"dataframe\">\n",
       "<caption>A matrix: 25 × 25 of type dbl</caption>\n",
       "<tbody>\n",
       "\t<tr><td>1.0716053</td><td>1.0591207</td><td>1.0549916</td><td>1.0591207</td><td>1.0716053</td><td>1.0927408</td><td>1.1230327</td><td>1.1632166</td><td>1.2142879</td><td>1.2775435</td><td>⋯</td><td>2.0415087</td><td>2.2685885</td><td>2.5406986</td><td>2.8677646</td><td>3.2623216</td><td>3.7402701</td><td>4.3218739</td><td>5.0330835</td><td>5.9073012</td><td>6.9877445</td></tr>\n",
       "\t<tr><td>0.7963495</td><td>0.7809467</td><td>0.7718484</td><td>0.7688392</td><td>0.7718484</td><td>0.7809467</td><td>0.7963495</td><td>0.8184251</td><td>0.8477096</td><td>0.8849285</td><td>⋯</td><td>1.3493548</td><td>1.4877767</td><td>1.6532641</td><td>1.8515680</td><td>2.0899216</td><td>2.3774603</td><td>2.7257717</td><td>3.1496232</td><td>3.6679267</td><td>4.3050245</td></tr>\n",
       "\t<tr><td>0.6105823</td><td>0.5941129</td><td>0.5826217</td><td>0.5758340</td><td>0.5735890</td><td>0.5758340</td><td>0.5826217</td><td>0.5941129</td><td>0.6105823</td><td>0.6324299</td><td>⋯</td><td>0.9201800</td><td>1.0066800</td><td>1.1099490</td><td>1.2334102</td><td>1.3813539</td><td>1.5591765</td><td>1.7736935</td><td>2.0335496</td><td>2.3497621</td><td>2.7364401</td></tr>\n",
       "\t<tr><td>0.4830104</td><td>0.4663246</td><td>0.4537462</td><td>0.4449700</td><td>0.4397859</td><td>0.4380714</td><td>0.4397859</td><td>0.4449700</td><td>0.4537462</td><td>0.4663246</td><td>⋯</td><td>0.6474275</td><td>0.7027759</td><td>0.7688392</td><td>0.8477096</td><td>0.9420015</td><td>1.0549916</td><td>1.1908015</td><td>1.3546361</td><td>1.5530979</td><td>1.7946012</td></tr>\n",
       "\t<tr><td>0.3942216</td><td>0.3776411</td><td>0.3645953</td><td>0.3547610</td><td>0.3478993</td><td>0.3438462</td><td>0.3425056</td><td>0.3438462</td><td>0.3478993</td><td>0.3547610</td><td>⋯</td><td>0.4699820</td><td>0.5061905</td><td>0.5494646</td><td>0.6011161</td><td>0.6627808</td><td>0.7365028</td><td>0.8248441</td><td>0.9310268</td><td>1.0591207</td><td>1.2142879</td></tr>\n",
       "\t<tr><td>0.3319678</td><td>0.3155310</td><td>0.3022602</td><td>0.2918184</td><td>0.2839471</td><td>0.2784551</td><td>0.2752110</td><td>0.2741381</td><td>0.2752110</td><td>0.2784551</td><td>⋯</td><td>0.3520002</td><td>0.3761688</td><td>0.4051498</td><td>0.4397859</td><td>0.4811273</td><td>0.5304831</td><td>0.5894895</td><td>0.6601969</td><td>0.7451845</td><td>0.8477096</td></tr>\n",
       "\t<tr><td>0.2884187</td><td>0.2720047</td><td>0.2585368</td><td>0.2476631</td><td>0.2391075</td><td>0.2326580</td><td>0.2281579</td><td>0.2254998</td><td>0.2246207</td><td>0.2254998</td><td>⋯</td><td>0.2720047</td><td>0.2884187</td><td>0.3082217</td><td>0.3319678</td><td>0.3603477</td><td>0.3942216</td><td>0.4346623</td><td>0.4830104</td><td>0.5409459</td><td>0.6105823</td></tr>\n",
       "\t<tr><td>0.2585368</td><td>0.2419260</td><td>0.2281579</td><td>0.2168611</td><td>0.2077402</td><td>0.2005637</td><td>0.1951538</td><td>0.1913792</td><td>0.1891496</td><td>0.1884122</td><td>⋯</td><td>0.2168611</td><td>0.2281579</td><td>0.2419260</td><td>0.2585368</td><td>0.2784551</td><td>0.3022602</td><td>0.3306736</td><td>0.3645953</td><td>0.4051498</td><td>0.4537462</td></tr>\n",
       "\t<tr><td>0.2391075</td><td>0.2220038</td><td>0.2077402</td><td>0.1959176</td><td>0.1862171</td><td>0.1783850</td><td>0.1722226</td><td>0.1675772</td><td>0.1643360</td><td>0.1624214</td><td>⋯</td><td>0.1783850</td><td>0.1862171</td><td>0.1959176</td><td>0.2077402</td><td>0.2220038</td><td>0.2391075</td><td>0.2595487</td><td>0.2839471</td><td>0.3130755</td><td>0.3478993</td></tr>\n",
       "\t<tr><td>0.2281579</td><td>0.2101889</td><td>0.1951538</td><td>0.1826153</td><td>0.1722226</td><td>0.1636953</td><td>0.1568105</td><td>0.1513934</td><td>0.1473098</td><td>0.1444606</td><td>⋯</td><td>0.1513934</td><td>0.1568105</td><td>0.1636953</td><td>0.1722226</td><td>0.1826153</td><td>0.1951538</td><td>0.2101889</td><td>0.2281579</td><td>0.2496055</td><td>0.2752110</td></tr>\n",
       "\t<tr><td>0.2246207</td><td>0.2053199</td><td>0.1891496</td><td>0.1756194</td><td>0.1643360</td><td>0.1549836</td><td>0.1473098</td><td>0.1411142</td><td>0.1362393</td><td>0.1325645</td><td>⋯</td><td>0.1325645</td><td>0.1362393</td><td>0.1411142</td><td>0.1473098</td><td>0.1549836</td><td>0.1643360</td><td>0.1756194</td><td>0.1891496</td><td>0.2053199</td><td>0.2246207</td></tr>\n",
       "\t<tr><td>0.2281579</td><td>0.2069303</td><td>0.1891496</td><td>0.1742528</td><td>0.1617882</td><td>0.1513934</td><td>0.1427776</td><td>0.1357082</td><td>0.1300005</td><td>0.1255096</td><td>⋯</td><td>0.1197620</td><td>0.1221241</td><td>0.1255096</td><td>0.1300005</td><td>0.1357082</td><td>0.1427776</td><td>0.1513934</td><td>0.1617882</td><td>0.1742528</td><td>0.1891496</td></tr>\n",
       "\t<tr><td>0.2391075</td><td>0.2151734</td><td>0.1951538</td><td>0.1783850</td><td>0.1643360</td><td>0.1525808</td><td>0.1427776</td><td>0.1346521</td><td>0.1279850</td><td>0.1226021</td><td>⋯</td><td>0.1116305</td><td>0.1129464</td><td>0.1151740</td><td>0.1183668</td><td>0.1226021</td><td>0.1279850</td><td>0.1346521</td><td>0.1427776</td><td>0.1525808</td><td>0.1643360</td></tr>\n",
       "\t<tr><td>0.2585368</td><td>0.2308474</td><td>0.2077402</td><td>0.1884122</td><td>0.1722226</td><td>0.1586589</td><td>0.1473098</td><td>0.1378453</td><td>0.1300005</td><td>0.1235637</td><td>⋯</td><td>0.1073540</td><td>0.1077742</td><td>0.1090446</td><td>0.1111953</td><td>0.1142777</td><td>0.1183668</td><td>0.1235637</td><td>0.1300005</td><td>0.1378453</td><td>0.1473098</td></tr>\n",
       "\t<tr><td>0.2884187</td><td>0.2555248</td><td>0.2281579</td><td>0.2053199</td><td>0.1862171</td><td>0.1702162</td><td>0.1568105</td><td>0.1455936</td><td>0.1362393</td><td>0.1284859</td><td>⋯</td><td>0.1065186</td><td>0.1061033</td><td>0.1065186</td><td>0.1077742</td><td>0.1098998</td><td>0.1129464</td><td>0.1169878</td><td>0.1221241</td><td>0.1284859</td><td>0.1362393</td></tr>\n",
       "\t<tr><td>0.3319678</td><td>0.2918184</td><td>0.2585368</td><td>0.2308474</td><td>0.2077402</td><td>0.1884122</td><td>0.1722226</td><td>0.1586589</td><td>0.1473098</td><td>0.1378453</td><td>⋯</td><td>0.1090446</td><td>0.1077742</td><td>0.1073540</td><td>0.1077742</td><td>0.1090446</td><td>0.1111953</td><td>0.1142777</td><td>0.1183668</td><td>0.1235637</td><td>0.1300005</td></tr>\n",
       "\t<tr><td>0.3942216</td><td>0.3438462</td><td>0.3022602</td><td>0.2677877</td><td>0.2391075</td><td>0.2151734</td><td>0.1951538</td><td>0.1783850</td><td>0.1643360</td><td>0.1525808</td><td>⋯</td><td>0.1151740</td><td>0.1129464</td><td>0.1116305</td><td>0.1111953</td><td>0.1116305</td><td>0.1129464</td><td>0.1151740</td><td>0.1183668</td><td>0.1226021</td><td>0.1279850</td></tr>\n",
       "\t<tr><td>0.4830104</td><td>0.4180106</td><td>0.3645953</td><td>0.3204999</td><td>0.2839471</td><td>0.2535363</td><td>0.2281579</td><td>0.2069303</td><td>0.1891496</td><td>0.1742528</td><td>⋯</td><td>0.1255096</td><td>0.1221241</td><td>0.1197620</td><td>0.1183668</td><td>0.1179053</td><td>0.1183668</td><td>0.1197620</td><td>0.1221241</td><td>0.1255096</td><td>0.1300005</td></tr>\n",
       "\t<tr><td>0.6105823</td><td>0.5243028</td><td>0.4537462</td><td>0.3957645</td><td>0.3478993</td><td>0.3082217</td><td>0.2752110</td><td>0.2476631</td><td>0.2246207</td><td>0.2053199</td><td>⋯</td><td>0.1411142</td><td>0.1362393</td><td>0.1325645</td><td>0.1300005</td><td>0.1284859</td><td>0.1279850</td><td>0.1284859</td><td>0.1300005</td><td>0.1325645</td><td>0.1362393</td></tr>\n",
       "\t<tr><td>0.7963495</td><td>0.6784982</td><td>0.5826217</td><td>0.5042171</td><td>0.4397859</td><td>0.3865966</td><td>0.3425056</td><td>0.3058231</td><td>0.2752110</td><td>0.2496055</td><td>⋯</td><td>0.1636953</td><td>0.1568105</td><td>0.1513934</td><td>0.1473098</td><td>0.1444606</td><td>0.1427776</td><td>0.1422210</td><td>0.1427776</td><td>0.1444606</td><td>0.1473098</td></tr>\n",
       "\t<tr><td>1.0716053</td><td>0.9059140</td><td>0.7718484</td><td>0.6627808</td><td>0.5735890</td><td>0.5002932</td><td>0.4397859</td><td>0.3896287</td><td>0.3478993</td><td>0.3130755</td><td>⋯</td><td>0.1959176</td><td>0.1862171</td><td>0.1783850</td><td>0.1722226</td><td>0.1675772</td><td>0.1643360</td><td>0.1624214</td><td>0.1617882</td><td>0.1624214</td><td>0.1643360</td></tr>\n",
       "\t<tr><td>1.4877767</td><td>1.2479492</td><td>1.0549916</td><td>0.8988641</td><td>0.7718484</td><td>0.6679791</td><td>0.5826217</td><td>0.5121573</td><td>0.4537462</td><td>0.4051498</td><td>⋯</td><td>0.2419260</td><td>0.2281579</td><td>0.2168611</td><td>0.2077402</td><td>0.2005637</td><td>0.1951538</td><td>0.1913792</td><td>0.1891496</td><td>0.1884122</td><td>0.1891496</td></tr>\n",
       "\t<tr><td>2.1311417</td><td>1.7736935</td><td>1.4877767</td><td>1.2577370</td><td>1.0716053</td><td>0.9201800</td><td>0.7963495</td><td>0.6945883</td><td>0.6105823</td><td>0.5409459</td><td>⋯</td><td>0.3082217</td><td>0.2884187</td><td>0.2720047</td><td>0.2585368</td><td>0.2476631</td><td>0.2391075</td><td>0.2326580</td><td>0.2281579</td><td>0.2254998</td><td>0.2246207</td></tr>\n",
       "\t<tr><td>3.1496232</td><td>2.6009495</td><td>2.1647023</td><td>1.8157554</td><td>1.5350038</td><td>1.3078395</td><td>1.1230327</td><td>0.9719038</td><td>0.8477096</td><td>0.7451845</td><td>⋯</td><td>0.4051498</td><td>0.3761688</td><td>0.3520002</td><td>0.3319678</td><td>0.3155310</td><td>0.3022602</td><td>0.2918184</td><td>0.2839471</td><td>0.2784551</td><td>0.2752110</td></tr>\n",
       "\t<tr><td>4.8026019</td><td>3.9351109</td><td>3.2496030</td><td>2.7045596</td><td>2.2685885</td><td>1.9178199</td><td>1.6340030</td><td>1.4031070</td><td>1.2142879</td><td>1.0591207</td><td>⋯</td><td>0.5494646</td><td>0.5061905</td><td>0.4699820</td><td>0.4397859</td><td>0.4147576</td><td>0.3942216</td><td>0.3776411</td><td>0.3645953</td><td>0.3547610</td><td>0.3478993</td></tr>\n",
       "</tbody>\n",
       "</table>\n"
      ],
      "text/latex": [
       "A matrix: 25 × 25 of type dbl\n",
       "\\begin{tabular}{lllllllllllllllllllll}\n",
       "\t 1.0716053 & 1.0591207 & 1.0549916 & 1.0591207 & 1.0716053 & 1.0927408 & 1.1230327 & 1.1632166 & 1.2142879 & 1.2775435 & ⋯ & 2.0415087 & 2.2685885 & 2.5406986 & 2.8677646 & 3.2623216 & 3.7402701 & 4.3218739 & 5.0330835 & 5.9073012 & 6.9877445\\\\\n",
       "\t 0.7963495 & 0.7809467 & 0.7718484 & 0.7688392 & 0.7718484 & 0.7809467 & 0.7963495 & 0.8184251 & 0.8477096 & 0.8849285 & ⋯ & 1.3493548 & 1.4877767 & 1.6532641 & 1.8515680 & 2.0899216 & 2.3774603 & 2.7257717 & 3.1496232 & 3.6679267 & 4.3050245\\\\\n",
       "\t 0.6105823 & 0.5941129 & 0.5826217 & 0.5758340 & 0.5735890 & 0.5758340 & 0.5826217 & 0.5941129 & 0.6105823 & 0.6324299 & ⋯ & 0.9201800 & 1.0066800 & 1.1099490 & 1.2334102 & 1.3813539 & 1.5591765 & 1.7736935 & 2.0335496 & 2.3497621 & 2.7364401\\\\\n",
       "\t 0.4830104 & 0.4663246 & 0.4537462 & 0.4449700 & 0.4397859 & 0.4380714 & 0.4397859 & 0.4449700 & 0.4537462 & 0.4663246 & ⋯ & 0.6474275 & 0.7027759 & 0.7688392 & 0.8477096 & 0.9420015 & 1.0549916 & 1.1908015 & 1.3546361 & 1.5530979 & 1.7946012\\\\\n",
       "\t 0.3942216 & 0.3776411 & 0.3645953 & 0.3547610 & 0.3478993 & 0.3438462 & 0.3425056 & 0.3438462 & 0.3478993 & 0.3547610 & ⋯ & 0.4699820 & 0.5061905 & 0.5494646 & 0.6011161 & 0.6627808 & 0.7365028 & 0.8248441 & 0.9310268 & 1.0591207 & 1.2142879\\\\\n",
       "\t 0.3319678 & 0.3155310 & 0.3022602 & 0.2918184 & 0.2839471 & 0.2784551 & 0.2752110 & 0.2741381 & 0.2752110 & 0.2784551 & ⋯ & 0.3520002 & 0.3761688 & 0.4051498 & 0.4397859 & 0.4811273 & 0.5304831 & 0.5894895 & 0.6601969 & 0.7451845 & 0.8477096\\\\\n",
       "\t 0.2884187 & 0.2720047 & 0.2585368 & 0.2476631 & 0.2391075 & 0.2326580 & 0.2281579 & 0.2254998 & 0.2246207 & 0.2254998 & ⋯ & 0.2720047 & 0.2884187 & 0.3082217 & 0.3319678 & 0.3603477 & 0.3942216 & 0.4346623 & 0.4830104 & 0.5409459 & 0.6105823\\\\\n",
       "\t 0.2585368 & 0.2419260 & 0.2281579 & 0.2168611 & 0.2077402 & 0.2005637 & 0.1951538 & 0.1913792 & 0.1891496 & 0.1884122 & ⋯ & 0.2168611 & 0.2281579 & 0.2419260 & 0.2585368 & 0.2784551 & 0.3022602 & 0.3306736 & 0.3645953 & 0.4051498 & 0.4537462\\\\\n",
       "\t 0.2391075 & 0.2220038 & 0.2077402 & 0.1959176 & 0.1862171 & 0.1783850 & 0.1722226 & 0.1675772 & 0.1643360 & 0.1624214 & ⋯ & 0.1783850 & 0.1862171 & 0.1959176 & 0.2077402 & 0.2220038 & 0.2391075 & 0.2595487 & 0.2839471 & 0.3130755 & 0.3478993\\\\\n",
       "\t 0.2281579 & 0.2101889 & 0.1951538 & 0.1826153 & 0.1722226 & 0.1636953 & 0.1568105 & 0.1513934 & 0.1473098 & 0.1444606 & ⋯ & 0.1513934 & 0.1568105 & 0.1636953 & 0.1722226 & 0.1826153 & 0.1951538 & 0.2101889 & 0.2281579 & 0.2496055 & 0.2752110\\\\\n",
       "\t 0.2246207 & 0.2053199 & 0.1891496 & 0.1756194 & 0.1643360 & 0.1549836 & 0.1473098 & 0.1411142 & 0.1362393 & 0.1325645 & ⋯ & 0.1325645 & 0.1362393 & 0.1411142 & 0.1473098 & 0.1549836 & 0.1643360 & 0.1756194 & 0.1891496 & 0.2053199 & 0.2246207\\\\\n",
       "\t 0.2281579 & 0.2069303 & 0.1891496 & 0.1742528 & 0.1617882 & 0.1513934 & 0.1427776 & 0.1357082 & 0.1300005 & 0.1255096 & ⋯ & 0.1197620 & 0.1221241 & 0.1255096 & 0.1300005 & 0.1357082 & 0.1427776 & 0.1513934 & 0.1617882 & 0.1742528 & 0.1891496\\\\\n",
       "\t 0.2391075 & 0.2151734 & 0.1951538 & 0.1783850 & 0.1643360 & 0.1525808 & 0.1427776 & 0.1346521 & 0.1279850 & 0.1226021 & ⋯ & 0.1116305 & 0.1129464 & 0.1151740 & 0.1183668 & 0.1226021 & 0.1279850 & 0.1346521 & 0.1427776 & 0.1525808 & 0.1643360\\\\\n",
       "\t 0.2585368 & 0.2308474 & 0.2077402 & 0.1884122 & 0.1722226 & 0.1586589 & 0.1473098 & 0.1378453 & 0.1300005 & 0.1235637 & ⋯ & 0.1073540 & 0.1077742 & 0.1090446 & 0.1111953 & 0.1142777 & 0.1183668 & 0.1235637 & 0.1300005 & 0.1378453 & 0.1473098\\\\\n",
       "\t 0.2884187 & 0.2555248 & 0.2281579 & 0.2053199 & 0.1862171 & 0.1702162 & 0.1568105 & 0.1455936 & 0.1362393 & 0.1284859 & ⋯ & 0.1065186 & 0.1061033 & 0.1065186 & 0.1077742 & 0.1098998 & 0.1129464 & 0.1169878 & 0.1221241 & 0.1284859 & 0.1362393\\\\\n",
       "\t 0.3319678 & 0.2918184 & 0.2585368 & 0.2308474 & 0.2077402 & 0.1884122 & 0.1722226 & 0.1586589 & 0.1473098 & 0.1378453 & ⋯ & 0.1090446 & 0.1077742 & 0.1073540 & 0.1077742 & 0.1090446 & 0.1111953 & 0.1142777 & 0.1183668 & 0.1235637 & 0.1300005\\\\\n",
       "\t 0.3942216 & 0.3438462 & 0.3022602 & 0.2677877 & 0.2391075 & 0.2151734 & 0.1951538 & 0.1783850 & 0.1643360 & 0.1525808 & ⋯ & 0.1151740 & 0.1129464 & 0.1116305 & 0.1111953 & 0.1116305 & 0.1129464 & 0.1151740 & 0.1183668 & 0.1226021 & 0.1279850\\\\\n",
       "\t 0.4830104 & 0.4180106 & 0.3645953 & 0.3204999 & 0.2839471 & 0.2535363 & 0.2281579 & 0.2069303 & 0.1891496 & 0.1742528 & ⋯ & 0.1255096 & 0.1221241 & 0.1197620 & 0.1183668 & 0.1179053 & 0.1183668 & 0.1197620 & 0.1221241 & 0.1255096 & 0.1300005\\\\\n",
       "\t 0.6105823 & 0.5243028 & 0.4537462 & 0.3957645 & 0.3478993 & 0.3082217 & 0.2752110 & 0.2476631 & 0.2246207 & 0.2053199 & ⋯ & 0.1411142 & 0.1362393 & 0.1325645 & 0.1300005 & 0.1284859 & 0.1279850 & 0.1284859 & 0.1300005 & 0.1325645 & 0.1362393\\\\\n",
       "\t 0.7963495 & 0.6784982 & 0.5826217 & 0.5042171 & 0.4397859 & 0.3865966 & 0.3425056 & 0.3058231 & 0.2752110 & 0.2496055 & ⋯ & 0.1636953 & 0.1568105 & 0.1513934 & 0.1473098 & 0.1444606 & 0.1427776 & 0.1422210 & 0.1427776 & 0.1444606 & 0.1473098\\\\\n",
       "\t 1.0716053 & 0.9059140 & 0.7718484 & 0.6627808 & 0.5735890 & 0.5002932 & 0.4397859 & 0.3896287 & 0.3478993 & 0.3130755 & ⋯ & 0.1959176 & 0.1862171 & 0.1783850 & 0.1722226 & 0.1675772 & 0.1643360 & 0.1624214 & 0.1617882 & 0.1624214 & 0.1643360\\\\\n",
       "\t 1.4877767 & 1.2479492 & 1.0549916 & 0.8988641 & 0.7718484 & 0.6679791 & 0.5826217 & 0.5121573 & 0.4537462 & 0.4051498 & ⋯ & 0.2419260 & 0.2281579 & 0.2168611 & 0.2077402 & 0.2005637 & 0.1951538 & 0.1913792 & 0.1891496 & 0.1884122 & 0.1891496\\\\\n",
       "\t 2.1311417 & 1.7736935 & 1.4877767 & 1.2577370 & 1.0716053 & 0.9201800 & 0.7963495 & 0.6945883 & 0.6105823 & 0.5409459 & ⋯ & 0.3082217 & 0.2884187 & 0.2720047 & 0.2585368 & 0.2476631 & 0.2391075 & 0.2326580 & 0.2281579 & 0.2254998 & 0.2246207\\\\\n",
       "\t 3.1496232 & 2.6009495 & 2.1647023 & 1.8157554 & 1.5350038 & 1.3078395 & 1.1230327 & 0.9719038 & 0.8477096 & 0.7451845 & ⋯ & 0.4051498 & 0.3761688 & 0.3520002 & 0.3319678 & 0.3155310 & 0.3022602 & 0.2918184 & 0.2839471 & 0.2784551 & 0.2752110\\\\\n",
       "\t 4.8026019 & 3.9351109 & 3.2496030 & 2.7045596 & 2.2685885 & 1.9178199 & 1.6340030 & 1.4031070 & 1.2142879 & 1.0591207 & ⋯ & 0.5494646 & 0.5061905 & 0.4699820 & 0.4397859 & 0.4147576 & 0.3942216 & 0.3776411 & 0.3645953 & 0.3547610 & 0.3478993\\\\\n",
       "\\end{tabular}\n"
      ],
      "text/markdown": [
       "\n",
       "A matrix: 25 × 25 of type dbl\n",
       "\n",
       "| 1.0716053 | 1.0591207 | 1.0549916 | 1.0591207 | 1.0716053 | 1.0927408 | 1.1230327 | 1.1632166 | 1.2142879 | 1.2775435 | ⋯ | 2.0415087 | 2.2685885 | 2.5406986 | 2.8677646 | 3.2623216 | 3.7402701 | 4.3218739 | 5.0330835 | 5.9073012 | 6.9877445 |\n",
       "| 0.7963495 | 0.7809467 | 0.7718484 | 0.7688392 | 0.7718484 | 0.7809467 | 0.7963495 | 0.8184251 | 0.8477096 | 0.8849285 | ⋯ | 1.3493548 | 1.4877767 | 1.6532641 | 1.8515680 | 2.0899216 | 2.3774603 | 2.7257717 | 3.1496232 | 3.6679267 | 4.3050245 |\n",
       "| 0.6105823 | 0.5941129 | 0.5826217 | 0.5758340 | 0.5735890 | 0.5758340 | 0.5826217 | 0.5941129 | 0.6105823 | 0.6324299 | ⋯ | 0.9201800 | 1.0066800 | 1.1099490 | 1.2334102 | 1.3813539 | 1.5591765 | 1.7736935 | 2.0335496 | 2.3497621 | 2.7364401 |\n",
       "| 0.4830104 | 0.4663246 | 0.4537462 | 0.4449700 | 0.4397859 | 0.4380714 | 0.4397859 | 0.4449700 | 0.4537462 | 0.4663246 | ⋯ | 0.6474275 | 0.7027759 | 0.7688392 | 0.8477096 | 0.9420015 | 1.0549916 | 1.1908015 | 1.3546361 | 1.5530979 | 1.7946012 |\n",
       "| 0.3942216 | 0.3776411 | 0.3645953 | 0.3547610 | 0.3478993 | 0.3438462 | 0.3425056 | 0.3438462 | 0.3478993 | 0.3547610 | ⋯ | 0.4699820 | 0.5061905 | 0.5494646 | 0.6011161 | 0.6627808 | 0.7365028 | 0.8248441 | 0.9310268 | 1.0591207 | 1.2142879 |\n",
       "| 0.3319678 | 0.3155310 | 0.3022602 | 0.2918184 | 0.2839471 | 0.2784551 | 0.2752110 | 0.2741381 | 0.2752110 | 0.2784551 | ⋯ | 0.3520002 | 0.3761688 | 0.4051498 | 0.4397859 | 0.4811273 | 0.5304831 | 0.5894895 | 0.6601969 | 0.7451845 | 0.8477096 |\n",
       "| 0.2884187 | 0.2720047 | 0.2585368 | 0.2476631 | 0.2391075 | 0.2326580 | 0.2281579 | 0.2254998 | 0.2246207 | 0.2254998 | ⋯ | 0.2720047 | 0.2884187 | 0.3082217 | 0.3319678 | 0.3603477 | 0.3942216 | 0.4346623 | 0.4830104 | 0.5409459 | 0.6105823 |\n",
       "| 0.2585368 | 0.2419260 | 0.2281579 | 0.2168611 | 0.2077402 | 0.2005637 | 0.1951538 | 0.1913792 | 0.1891496 | 0.1884122 | ⋯ | 0.2168611 | 0.2281579 | 0.2419260 | 0.2585368 | 0.2784551 | 0.3022602 | 0.3306736 | 0.3645953 | 0.4051498 | 0.4537462 |\n",
       "| 0.2391075 | 0.2220038 | 0.2077402 | 0.1959176 | 0.1862171 | 0.1783850 | 0.1722226 | 0.1675772 | 0.1643360 | 0.1624214 | ⋯ | 0.1783850 | 0.1862171 | 0.1959176 | 0.2077402 | 0.2220038 | 0.2391075 | 0.2595487 | 0.2839471 | 0.3130755 | 0.3478993 |\n",
       "| 0.2281579 | 0.2101889 | 0.1951538 | 0.1826153 | 0.1722226 | 0.1636953 | 0.1568105 | 0.1513934 | 0.1473098 | 0.1444606 | ⋯ | 0.1513934 | 0.1568105 | 0.1636953 | 0.1722226 | 0.1826153 | 0.1951538 | 0.2101889 | 0.2281579 | 0.2496055 | 0.2752110 |\n",
       "| 0.2246207 | 0.2053199 | 0.1891496 | 0.1756194 | 0.1643360 | 0.1549836 | 0.1473098 | 0.1411142 | 0.1362393 | 0.1325645 | ⋯ | 0.1325645 | 0.1362393 | 0.1411142 | 0.1473098 | 0.1549836 | 0.1643360 | 0.1756194 | 0.1891496 | 0.2053199 | 0.2246207 |\n",
       "| 0.2281579 | 0.2069303 | 0.1891496 | 0.1742528 | 0.1617882 | 0.1513934 | 0.1427776 | 0.1357082 | 0.1300005 | 0.1255096 | ⋯ | 0.1197620 | 0.1221241 | 0.1255096 | 0.1300005 | 0.1357082 | 0.1427776 | 0.1513934 | 0.1617882 | 0.1742528 | 0.1891496 |\n",
       "| 0.2391075 | 0.2151734 | 0.1951538 | 0.1783850 | 0.1643360 | 0.1525808 | 0.1427776 | 0.1346521 | 0.1279850 | 0.1226021 | ⋯ | 0.1116305 | 0.1129464 | 0.1151740 | 0.1183668 | 0.1226021 | 0.1279850 | 0.1346521 | 0.1427776 | 0.1525808 | 0.1643360 |\n",
       "| 0.2585368 | 0.2308474 | 0.2077402 | 0.1884122 | 0.1722226 | 0.1586589 | 0.1473098 | 0.1378453 | 0.1300005 | 0.1235637 | ⋯ | 0.1073540 | 0.1077742 | 0.1090446 | 0.1111953 | 0.1142777 | 0.1183668 | 0.1235637 | 0.1300005 | 0.1378453 | 0.1473098 |\n",
       "| 0.2884187 | 0.2555248 | 0.2281579 | 0.2053199 | 0.1862171 | 0.1702162 | 0.1568105 | 0.1455936 | 0.1362393 | 0.1284859 | ⋯ | 0.1065186 | 0.1061033 | 0.1065186 | 0.1077742 | 0.1098998 | 0.1129464 | 0.1169878 | 0.1221241 | 0.1284859 | 0.1362393 |\n",
       "| 0.3319678 | 0.2918184 | 0.2585368 | 0.2308474 | 0.2077402 | 0.1884122 | 0.1722226 | 0.1586589 | 0.1473098 | 0.1378453 | ⋯ | 0.1090446 | 0.1077742 | 0.1073540 | 0.1077742 | 0.1090446 | 0.1111953 | 0.1142777 | 0.1183668 | 0.1235637 | 0.1300005 |\n",
       "| 0.3942216 | 0.3438462 | 0.3022602 | 0.2677877 | 0.2391075 | 0.2151734 | 0.1951538 | 0.1783850 | 0.1643360 | 0.1525808 | ⋯ | 0.1151740 | 0.1129464 | 0.1116305 | 0.1111953 | 0.1116305 | 0.1129464 | 0.1151740 | 0.1183668 | 0.1226021 | 0.1279850 |\n",
       "| 0.4830104 | 0.4180106 | 0.3645953 | 0.3204999 | 0.2839471 | 0.2535363 | 0.2281579 | 0.2069303 | 0.1891496 | 0.1742528 | ⋯ | 0.1255096 | 0.1221241 | 0.1197620 | 0.1183668 | 0.1179053 | 0.1183668 | 0.1197620 | 0.1221241 | 0.1255096 | 0.1300005 |\n",
       "| 0.6105823 | 0.5243028 | 0.4537462 | 0.3957645 | 0.3478993 | 0.3082217 | 0.2752110 | 0.2476631 | 0.2246207 | 0.2053199 | ⋯ | 0.1411142 | 0.1362393 | 0.1325645 | 0.1300005 | 0.1284859 | 0.1279850 | 0.1284859 | 0.1300005 | 0.1325645 | 0.1362393 |\n",
       "| 0.7963495 | 0.6784982 | 0.5826217 | 0.5042171 | 0.4397859 | 0.3865966 | 0.3425056 | 0.3058231 | 0.2752110 | 0.2496055 | ⋯ | 0.1636953 | 0.1568105 | 0.1513934 | 0.1473098 | 0.1444606 | 0.1427776 | 0.1422210 | 0.1427776 | 0.1444606 | 0.1473098 |\n",
       "| 1.0716053 | 0.9059140 | 0.7718484 | 0.6627808 | 0.5735890 | 0.5002932 | 0.4397859 | 0.3896287 | 0.3478993 | 0.3130755 | ⋯ | 0.1959176 | 0.1862171 | 0.1783850 | 0.1722226 | 0.1675772 | 0.1643360 | 0.1624214 | 0.1617882 | 0.1624214 | 0.1643360 |\n",
       "| 1.4877767 | 1.2479492 | 1.0549916 | 0.8988641 | 0.7718484 | 0.6679791 | 0.5826217 | 0.5121573 | 0.4537462 | 0.4051498 | ⋯ | 0.2419260 | 0.2281579 | 0.2168611 | 0.2077402 | 0.2005637 | 0.1951538 | 0.1913792 | 0.1891496 | 0.1884122 | 0.1891496 |\n",
       "| 2.1311417 | 1.7736935 | 1.4877767 | 1.2577370 | 1.0716053 | 0.9201800 | 0.7963495 | 0.6945883 | 0.6105823 | 0.5409459 | ⋯ | 0.3082217 | 0.2884187 | 0.2720047 | 0.2585368 | 0.2476631 | 0.2391075 | 0.2326580 | 0.2281579 | 0.2254998 | 0.2246207 |\n",
       "| 3.1496232 | 2.6009495 | 2.1647023 | 1.8157554 | 1.5350038 | 1.3078395 | 1.1230327 | 0.9719038 | 0.8477096 | 0.7451845 | ⋯ | 0.4051498 | 0.3761688 | 0.3520002 | 0.3319678 | 0.3155310 | 0.3022602 | 0.2918184 | 0.2839471 | 0.2784551 | 0.2752110 |\n",
       "| 4.8026019 | 3.9351109 | 3.2496030 | 2.7045596 | 2.2685885 | 1.9178199 | 1.6340030 | 1.4031070 | 1.2142879 | 1.0591207 | ⋯ | 0.5494646 | 0.5061905 | 0.4699820 | 0.4397859 | 0.4147576 | 0.3942216 | 0.3776411 | 0.3645953 | 0.3547610 | 0.3478993 |\n",
       "\n"
      ],
      "text/plain": [
       "      [,1]      [,2]      [,3]      [,4]      [,5]      [,6]      [,7]     \n",
       " [1,] 1.0716053 1.0591207 1.0549916 1.0591207 1.0716053 1.0927408 1.1230327\n",
       " [2,] 0.7963495 0.7809467 0.7718484 0.7688392 0.7718484 0.7809467 0.7963495\n",
       " [3,] 0.6105823 0.5941129 0.5826217 0.5758340 0.5735890 0.5758340 0.5826217\n",
       " [4,] 0.4830104 0.4663246 0.4537462 0.4449700 0.4397859 0.4380714 0.4397859\n",
       " [5,] 0.3942216 0.3776411 0.3645953 0.3547610 0.3478993 0.3438462 0.3425056\n",
       " [6,] 0.3319678 0.3155310 0.3022602 0.2918184 0.2839471 0.2784551 0.2752110\n",
       " [7,] 0.2884187 0.2720047 0.2585368 0.2476631 0.2391075 0.2326580 0.2281579\n",
       " [8,] 0.2585368 0.2419260 0.2281579 0.2168611 0.2077402 0.2005637 0.1951538\n",
       " [9,] 0.2391075 0.2220038 0.2077402 0.1959176 0.1862171 0.1783850 0.1722226\n",
       "[10,] 0.2281579 0.2101889 0.1951538 0.1826153 0.1722226 0.1636953 0.1568105\n",
       "[11,] 0.2246207 0.2053199 0.1891496 0.1756194 0.1643360 0.1549836 0.1473098\n",
       "[12,] 0.2281579 0.2069303 0.1891496 0.1742528 0.1617882 0.1513934 0.1427776\n",
       "[13,] 0.2391075 0.2151734 0.1951538 0.1783850 0.1643360 0.1525808 0.1427776\n",
       "[14,] 0.2585368 0.2308474 0.2077402 0.1884122 0.1722226 0.1586589 0.1473098\n",
       "[15,] 0.2884187 0.2555248 0.2281579 0.2053199 0.1862171 0.1702162 0.1568105\n",
       "[16,] 0.3319678 0.2918184 0.2585368 0.2308474 0.2077402 0.1884122 0.1722226\n",
       "[17,] 0.3942216 0.3438462 0.3022602 0.2677877 0.2391075 0.2151734 0.1951538\n",
       "[18,] 0.4830104 0.4180106 0.3645953 0.3204999 0.2839471 0.2535363 0.2281579\n",
       "[19,] 0.6105823 0.5243028 0.4537462 0.3957645 0.3478993 0.3082217 0.2752110\n",
       "[20,] 0.7963495 0.6784982 0.5826217 0.5042171 0.4397859 0.3865966 0.3425056\n",
       "[21,] 1.0716053 0.9059140 0.7718484 0.6627808 0.5735890 0.5002932 0.4397859\n",
       "[22,] 1.4877767 1.2479492 1.0549916 0.8988641 0.7718484 0.6679791 0.5826217\n",
       "[23,] 2.1311417 1.7736935 1.4877767 1.2577370 1.0716053 0.9201800 0.7963495\n",
       "[24,] 3.1496232 2.6009495 2.1647023 1.8157554 1.5350038 1.3078395 1.1230327\n",
       "[25,] 4.8026019 3.9351109 3.2496030 2.7045596 2.2685885 1.9178199 1.6340030\n",
       "      [,8]      [,9]      [,10]     [,11] [,12]     [,13]     [,14]    \n",
       " [1,] 1.1632166 1.2142879 1.2775435 ⋯     2.0415087 2.2685885 2.5406986\n",
       " [2,] 0.8184251 0.8477096 0.8849285 ⋯     1.3493548 1.4877767 1.6532641\n",
       " [3,] 0.5941129 0.6105823 0.6324299 ⋯     0.9201800 1.0066800 1.1099490\n",
       " [4,] 0.4449700 0.4537462 0.4663246 ⋯     0.6474275 0.7027759 0.7688392\n",
       " [5,] 0.3438462 0.3478993 0.3547610 ⋯     0.4699820 0.5061905 0.5494646\n",
       " [6,] 0.2741381 0.2752110 0.2784551 ⋯     0.3520002 0.3761688 0.4051498\n",
       " [7,] 0.2254998 0.2246207 0.2254998 ⋯     0.2720047 0.2884187 0.3082217\n",
       " [8,] 0.1913792 0.1891496 0.1884122 ⋯     0.2168611 0.2281579 0.2419260\n",
       " [9,] 0.1675772 0.1643360 0.1624214 ⋯     0.1783850 0.1862171 0.1959176\n",
       "[10,] 0.1513934 0.1473098 0.1444606 ⋯     0.1513934 0.1568105 0.1636953\n",
       "[11,] 0.1411142 0.1362393 0.1325645 ⋯     0.1325645 0.1362393 0.1411142\n",
       "[12,] 0.1357082 0.1300005 0.1255096 ⋯     0.1197620 0.1221241 0.1255096\n",
       "[13,] 0.1346521 0.1279850 0.1226021 ⋯     0.1116305 0.1129464 0.1151740\n",
       "[14,] 0.1378453 0.1300005 0.1235637 ⋯     0.1073540 0.1077742 0.1090446\n",
       "[15,] 0.1455936 0.1362393 0.1284859 ⋯     0.1065186 0.1061033 0.1065186\n",
       "[16,] 0.1586589 0.1473098 0.1378453 ⋯     0.1090446 0.1077742 0.1073540\n",
       "[17,] 0.1783850 0.1643360 0.1525808 ⋯     0.1151740 0.1129464 0.1116305\n",
       "[18,] 0.2069303 0.1891496 0.1742528 ⋯     0.1255096 0.1221241 0.1197620\n",
       "[19,] 0.2476631 0.2246207 0.2053199 ⋯     0.1411142 0.1362393 0.1325645\n",
       "[20,] 0.3058231 0.2752110 0.2496055 ⋯     0.1636953 0.1568105 0.1513934\n",
       "[21,] 0.3896287 0.3478993 0.3130755 ⋯     0.1959176 0.1862171 0.1783850\n",
       "[22,] 0.5121573 0.4537462 0.4051498 ⋯     0.2419260 0.2281579 0.2168611\n",
       "[23,] 0.6945883 0.6105823 0.5409459 ⋯     0.3082217 0.2884187 0.2720047\n",
       "[24,] 0.9719038 0.8477096 0.7451845 ⋯     0.4051498 0.3761688 0.3520002\n",
       "[25,] 1.4031070 1.2142879 1.0591207 ⋯     0.5494646 0.5061905 0.4699820\n",
       "      [,15]     [,16]     [,17]     [,18]     [,19]     [,20]     [,21]    \n",
       " [1,] 2.8677646 3.2623216 3.7402701 4.3218739 5.0330835 5.9073012 6.9877445\n",
       " [2,] 1.8515680 2.0899216 2.3774603 2.7257717 3.1496232 3.6679267 4.3050245\n",
       " [3,] 1.2334102 1.3813539 1.5591765 1.7736935 2.0335496 2.3497621 2.7364401\n",
       " [4,] 0.8477096 0.9420015 1.0549916 1.1908015 1.3546361 1.5530979 1.7946012\n",
       " [5,] 0.6011161 0.6627808 0.7365028 0.8248441 0.9310268 1.0591207 1.2142879\n",
       " [6,] 0.4397859 0.4811273 0.5304831 0.5894895 0.6601969 0.7451845 0.8477096\n",
       " [7,] 0.3319678 0.3603477 0.3942216 0.4346623 0.4830104 0.5409459 0.6105823\n",
       " [8,] 0.2585368 0.2784551 0.3022602 0.3306736 0.3645953 0.4051498 0.4537462\n",
       " [9,] 0.2077402 0.2220038 0.2391075 0.2595487 0.2839471 0.3130755 0.3478993\n",
       "[10,] 0.1722226 0.1826153 0.1951538 0.2101889 0.2281579 0.2496055 0.2752110\n",
       "[11,] 0.1473098 0.1549836 0.1643360 0.1756194 0.1891496 0.2053199 0.2246207\n",
       "[12,] 0.1300005 0.1357082 0.1427776 0.1513934 0.1617882 0.1742528 0.1891496\n",
       "[13,] 0.1183668 0.1226021 0.1279850 0.1346521 0.1427776 0.1525808 0.1643360\n",
       "[14,] 0.1111953 0.1142777 0.1183668 0.1235637 0.1300005 0.1378453 0.1473098\n",
       "[15,] 0.1077742 0.1098998 0.1129464 0.1169878 0.1221241 0.1284859 0.1362393\n",
       "[16,] 0.1077742 0.1090446 0.1111953 0.1142777 0.1183668 0.1235637 0.1300005\n",
       "[17,] 0.1111953 0.1116305 0.1129464 0.1151740 0.1183668 0.1226021 0.1279850\n",
       "[18,] 0.1183668 0.1179053 0.1183668 0.1197620 0.1221241 0.1255096 0.1300005\n",
       "[19,] 0.1300005 0.1284859 0.1279850 0.1284859 0.1300005 0.1325645 0.1362393\n",
       "[20,] 0.1473098 0.1444606 0.1427776 0.1422210 0.1427776 0.1444606 0.1473098\n",
       "[21,] 0.1722226 0.1675772 0.1643360 0.1624214 0.1617882 0.1624214 0.1643360\n",
       "[22,] 0.2077402 0.2005637 0.1951538 0.1913792 0.1891496 0.1884122 0.1891496\n",
       "[23,] 0.2585368 0.2476631 0.2391075 0.2326580 0.2281579 0.2254998 0.2246207\n",
       "[24,] 0.3319678 0.3155310 0.3022602 0.2918184 0.2839471 0.2784551 0.2752110\n",
       "[25,] 0.4397859 0.4147576 0.3942216 0.3776411 0.3645953 0.3547610 0.3478993"
      ]
     },
     "metadata": {},
     "output_type": "display_data"
    }
   ],
   "source": [
    "y"
   ]
  },
  {
   "cell_type": "code",
   "execution_count": 100,
   "id": "58e6038c",
   "metadata": {},
   "outputs": [
    {
     "data": {
      "image/png": "[encoded data removed]",
      "text/plain": [
       "plot without title"
      ]
     },
     "metadata": {
      "image/png": {
       "height": 420,
       "width": 420
      }
     },
     "output_type": "display_data"
    }
   ],
   "source": [
    "persp(x1, x2, y)"
   ]
  },
  {
   "cell_type": "code",
   "execution_count": 101,
   "id": "2aea3d76",
   "metadata": {},
   "outputs": [
    {
     "data": {
      "text/html": [
       "<style>\n",
       ".list-inline {list-style: none; margin:0; padding: 0}\n",
       ".list-inline>li {display: inline-block}\n",
       ".list-inline>li:not(:last-child)::after {content: \"\\00b7\"; padding: 0 .5ex}\n",
       "</style>\n",
       "<ol class=list-inline><li>TRUE</li><li>FALSE</li><li>TRUE</li><li>TRUE</li><li>FALSE</li><li>TRUE</li><li>FALSE</li><li>FALSE</li><li>FALSE</li><li>FALSE</li></ol>\n"
      ],
      "text/latex": [
       "\\begin{enumerate*}\n",
       "\\item TRUE\n",
       "\\item FALSE\n",
       "\\item TRUE\n",
       "\\item TRUE\n",
       "\\item FALSE\n",
       "\\item TRUE\n",
       "\\item FALSE\n",
       "\\item FALSE\n",
       "\\item FALSE\n",
       "\\item FALSE\n",
       "\\end{enumerate*}\n"
      ],
      "text/markdown": [
       "1. TRUE\n",
       "2. FALSE\n",
       "3. TRUE\n",
       "4. TRUE\n",
       "5. FALSE\n",
       "6. TRUE\n",
       "7. FALSE\n",
       "8. FALSE\n",
       "9. FALSE\n",
       "10. FALSE\n",
       "\n",
       "\n"
      ],
      "text/plain": [
       " [1]  TRUE FALSE  TRUE  TRUE FALSE  TRUE FALSE FALSE FALSE FALSE"
      ]
     },
     "metadata": {},
     "output_type": "display_data"
    }
   ],
   "source": [
    "survey = c(T, F, T, T, F, T, F, F, F, F)\n",
    "survey"
   ]
  },
  {
   "cell_type": "code",
   "execution_count": 106,
   "id": "cfa797ee",
   "metadata": {},
   "outputs": [
    {
     "data": {
      "image/png": "[encoded data removed]",
      "text/plain": [
       "Plot with title \"Survey\""
      ]
     },
     "metadata": {
      "image/png": {
       "height": 420,
       "width": 420
      }
     },
     "output_type": "display_data"
    }
   ],
   "source": [
    "barplot(table(survey),\n",
    "       main = 'Survey',\n",
    "       col = c('wheat','salmon'),\n",
    "       names = c('no','yes'),\n",
    "       xlab =  'response',\n",
    "       ylab = 'Frequency')"
   ]
  },
  {
   "cell_type": "code",
   "execution_count": 107,
   "id": "e7cf72f9",
   "metadata": {},
   "outputs": [],
   "source": [
    "cyl = mtcars$cyl"
   ]
  },
  {
   "cell_type": "code",
   "execution_count": 108,
   "id": "703eacfb",
   "metadata": {},
   "outputs": [
    {
     "data": {
      "text/html": [
       "<style>\n",
       ".list-inline {list-style: none; margin:0; padding: 0}\n",
       ".list-inline>li {display: inline-block}\n",
       ".list-inline>li:not(:last-child)::after {content: \"\\00b7\"; padding: 0 .5ex}\n",
       "</style>\n",
       "<ol class=list-inline><li>6</li><li>6</li><li>4</li><li>6</li><li>8</li><li>6</li><li>8</li><li>4</li><li>4</li><li>6</li><li>6</li><li>8</li><li>8</li><li>8</li><li>8</li><li>8</li><li>8</li><li>4</li><li>4</li><li>4</li><li>4</li><li>8</li><li>8</li><li>8</li><li>8</li><li>4</li><li>4</li><li>4</li><li>8</li><li>6</li><li>8</li><li>4</li></ol>\n"
      ],
      "text/latex": [
       "\\begin{enumerate*}\n",
       "\\item 6\n",
       "\\item 6\n",
       "\\item 4\n",
       "\\item 6\n",
       "\\item 8\n",
       "\\item 6\n",
       "\\item 8\n",
       "\\item 4\n",
       "\\item 4\n",
       "\\item 6\n",
       "\\item 6\n",
       "\\item 8\n",
       "\\item 8\n",
       "\\item 8\n",
       "\\item 8\n",
       "\\item 8\n",
       "\\item 8\n",
       "\\item 4\n",
       "\\item 4\n",
       "\\item 4\n",
       "\\item 4\n",
       "\\item 8\n",
       "\\item 8\n",
       "\\item 8\n",
       "\\item 8\n",
       "\\item 4\n",
       "\\item 4\n",
       "\\item 4\n",
       "\\item 8\n",
       "\\item 6\n",
       "\\item 8\n",
       "\\item 4\n",
       "\\end{enumerate*}\n"
      ],
      "text/markdown": [
       "1. 6\n",
       "2. 6\n",
       "3. 4\n",
       "4. 6\n",
       "5. 8\n",
       "6. 6\n",
       "7. 8\n",
       "8. 4\n",
       "9. 4\n",
       "10. 6\n",
       "11. 6\n",
       "12. 8\n",
       "13. 8\n",
       "14. 8\n",
       "15. 8\n",
       "16. 8\n",
       "17. 8\n",
       "18. 4\n",
       "19. 4\n",
       "20. 4\n",
       "21. 4\n",
       "22. 8\n",
       "23. 8\n",
       "24. 8\n",
       "25. 8\n",
       "26. 4\n",
       "27. 4\n",
       "28. 4\n",
       "29. 8\n",
       "30. 6\n",
       "31. 8\n",
       "32. 4\n",
       "\n",
       "\n"
      ],
      "text/plain": [
       " [1] 6 6 4 6 8 6 8 4 4 6 6 8 8 8 8 8 8 4 4 4 4 8 8 8 8 4 4 4 8 6 8 4"
      ]
     },
     "metadata": {},
     "output_type": "display_data"
    }
   ],
   "source": [
    "cyl"
   ]
  },
  {
   "cell_type": "code",
   "execution_count": 113,
   "id": "96bc5a50",
   "metadata": {},
   "outputs": [
    {
     "data": {
      "image/png": "[encoded data removed]",
      "text/plain": [
       "Plot with title \"실린더 종류별 분포\""
      ]
     },
     "metadata": {
      "image/png": {
       "height": 420,
       "width": 420
      }
     },
     "output_type": "display_data"
    }
   ],
   "source": [
    "barplot(table(cyl),\n",
    "       horiz = T,\n",
    "       main = '실린더 종류별 분포',\n",
    "       las = 1,\n",
    "       ylab = '실린더의 수',\n",
    "       col = c('#a8dadc', '#1d3557','steelblue'))"
   ]
  },
  {
   "cell_type": "code",
   "execution_count": 114,
   "id": "920cd81f",
   "metadata": {},
   "outputs": [],
   "source": [
    "ds = sleep$extra"
   ]
  },
  {
   "cell_type": "code",
   "execution_count": 115,
   "id": "670869b7",
   "metadata": {},
   "outputs": [
    {
     "data": {
      "text/html": [
       "<style>\n",
       ".list-inline {list-style: none; margin:0; padding: 0}\n",
       ".list-inline>li {display: inline-block}\n",
       ".list-inline>li:not(:last-child)::after {content: \"\\00b7\"; padding: 0 .5ex}\n",
       "</style>\n",
       "<ol class=list-inline><li>0.7</li><li>-1.6</li><li>-0.2</li><li>-1.2</li><li>-0.1</li><li>3.4</li><li>3.7</li><li>0.8</li><li>0</li><li>2</li><li>1.9</li><li>0.8</li><li>1.1</li><li>0.1</li><li>-0.1</li><li>4.4</li><li>5.5</li><li>1.6</li><li>4.6</li><li>3.4</li></ol>\n"
      ],
      "text/latex": [
       "\\begin{enumerate*}\n",
       "\\item 0.7\n",
       "\\item -1.6\n",
       "\\item -0.2\n",
       "\\item -1.2\n",
       "\\item -0.1\n",
       "\\item 3.4\n",
       "\\item 3.7\n",
       "\\item 0.8\n",
       "\\item 0\n",
       "\\item 2\n",
       "\\item 1.9\n",
       "\\item 0.8\n",
       "\\item 1.1\n",
       "\\item 0.1\n",
       "\\item -0.1\n",
       "\\item 4.4\n",
       "\\item 5.5\n",
       "\\item 1.6\n",
       "\\item 4.6\n",
       "\\item 3.4\n",
       "\\end{enumerate*}\n"
      ],
      "text/markdown": [
       "1. 0.7\n",
       "2. -1.6\n",
       "3. -0.2\n",
       "4. -1.2\n",
       "5. -0.1\n",
       "6. 3.4\n",
       "7. 3.7\n",
       "8. 0.8\n",
       "9. 0\n",
       "10. 2\n",
       "11. 1.9\n",
       "12. 0.8\n",
       "13. 1.1\n",
       "14. 0.1\n",
       "15. -0.1\n",
       "16. 4.4\n",
       "17. 5.5\n",
       "18. 1.6\n",
       "19. 4.6\n",
       "20. 3.4\n",
       "\n",
       "\n"
      ],
      "text/plain": [
       " [1]  0.7 -1.6 -0.2 -1.2 -0.1  3.4  3.7  0.8  0.0  2.0  1.9  0.8  1.1  0.1 -0.1\n",
       "[16]  4.4  5.5  1.6  4.6  3.4"
      ]
     },
     "metadata": {},
     "output_type": "display_data"
    }
   ],
   "source": [
    "ds"
   ]
  },
  {
   "cell_type": "code",
   "execution_count": 123,
   "id": "1f14f83c",
   "metadata": {},
   "outputs": [
    {
     "data": {
      "image/png": "[encoded data removed]",
      "text/plain": [
       "Plot with title \"Histogram of sleep\""
      ]
     },
     "metadata": {
      "image/png": {
       "height": 420,
       "width": 420
      }
     },
     "output_type": "display_data"
    }
   ],
   "source": [
    "hist(ds,\n",
    "    main = 'Histogram of sleep',\n",
    "    xlab = 'Increase in hours of sleeps',\n",
    "    ylab = 'Frequency',\n",
    "    breaks = 4,\n",
    "    col = c('#a8dadc','#1d3557','steelblue', 'blue'))"
   ]
  },
  {
   "cell_type": "code",
   "execution_count": 124,
   "id": "73c73c5e",
   "metadata": {},
   "outputs": [],
   "source": [
    "ds = table(mtcars$cyl, mtcars$gear)"
   ]
  },
  {
   "cell_type": "code",
   "execution_count": 125,
   "id": "94479e15",
   "metadata": {},
   "outputs": [
    {
     "data": {
      "text/plain": [
       "   \n",
       "     3  4  5\n",
       "  4  1  8  2\n",
       "  6  2  4  1\n",
       "  8 12  0  2"
      ]
     },
     "metadata": {},
     "output_type": "display_data"
    }
   ],
   "source": [
    "ds"
   ]
  },
  {
   "cell_type": "code",
   "execution_count": 126,
   "id": "df11e8fb",
   "metadata": {},
   "outputs": [],
   "source": [
    "color = c('tomato','salmon','peachpuff')"
   ]
  },
  {
   "cell_type": "code",
   "execution_count": 133,
   "id": "a6b58348",
   "metadata": {},
   "outputs": [
    {
     "data": {
      "image/png": "[encoded data removed]",
      "text/plain": [
       "plot without title"
      ]
     },
     "metadata": {
      "image/png": {
       "height": 420,
       "width": 420
      }
     },
     "output_type": "display_data"
    }
   ],
   "source": [
    "barplot(ds,\n",
    "       beside = T,\n",
    "       col = color,\n",
    "       legend.text = c('cyl 4','cyl 6', 'cyl 8'),\n",
    "       args.legend = list(bty = 'n'),\n",
    "       xlab = 'Number of gear',\n",
    "       ylab = 'Frequency')"
   ]
  },
  {
   "cell_type": "code",
   "execution_count": 134,
   "id": "704cc716",
   "metadata": {},
   "outputs": [],
   "source": [
    "ds = trees$Height"
   ]
  },
  {
   "cell_type": "code",
   "execution_count": 135,
   "id": "2c401b92",
   "metadata": {},
   "outputs": [
    {
     "data": {
      "text/html": [
       "<style>\n",
       ".list-inline {list-style: none; margin:0; padding: 0}\n",
       ".list-inline>li {display: inline-block}\n",
       ".list-inline>li:not(:last-child)::after {content: \"\\00b7\"; padding: 0 .5ex}\n",
       "</style>\n",
       "<ol class=list-inline><li>70</li><li>65</li><li>63</li><li>72</li><li>81</li><li>83</li><li>66</li><li>75</li><li>80</li><li>75</li><li>79</li><li>76</li><li>76</li><li>69</li><li>75</li><li>74</li><li>85</li><li>86</li><li>71</li><li>64</li><li>78</li><li>80</li><li>74</li><li>72</li><li>77</li><li>81</li><li>82</li><li>80</li><li>80</li><li>80</li><li>87</li></ol>\n"
      ],
      "text/latex": [
       "\\begin{enumerate*}\n",
       "\\item 70\n",
       "\\item 65\n",
       "\\item 63\n",
       "\\item 72\n",
       "\\item 81\n",
       "\\item 83\n",
       "\\item 66\n",
       "\\item 75\n",
       "\\item 80\n",
       "\\item 75\n",
       "\\item 79\n",
       "\\item 76\n",
       "\\item 76\n",
       "\\item 69\n",
       "\\item 75\n",
       "\\item 74\n",
       "\\item 85\n",
       "\\item 86\n",
       "\\item 71\n",
       "\\item 64\n",
       "\\item 78\n",
       "\\item 80\n",
       "\\item 74\n",
       "\\item 72\n",
       "\\item 77\n",
       "\\item 81\n",
       "\\item 82\n",
       "\\item 80\n",
       "\\item 80\n",
       "\\item 80\n",
       "\\item 87\n",
       "\\end{enumerate*}\n"
      ],
      "text/markdown": [
       "1. 70\n",
       "2. 65\n",
       "3. 63\n",
       "4. 72\n",
       "5. 81\n",
       "6. 83\n",
       "7. 66\n",
       "8. 75\n",
       "9. 80\n",
       "10. 75\n",
       "11. 79\n",
       "12. 76\n",
       "13. 76\n",
       "14. 69\n",
       "15. 75\n",
       "16. 74\n",
       "17. 85\n",
       "18. 86\n",
       "19. 71\n",
       "20. 64\n",
       "21. 78\n",
       "22. 80\n",
       "23. 74\n",
       "24. 72\n",
       "25. 77\n",
       "26. 81\n",
       "27. 82\n",
       "28. 80\n",
       "29. 80\n",
       "30. 80\n",
       "31. 87\n",
       "\n",
       "\n"
      ],
      "text/plain": [
       " [1] 70 65 63 72 81 83 66 75 80 75 79 76 76 69 75 74 85 86 71 64 78 80 74 72 77\n",
       "[26] 81 82 80 80 80 87"
      ]
     },
     "metadata": {},
     "output_type": "display_data"
    }
   ],
   "source": [
    "ds"
   ]
  },
  {
   "cell_type": "code",
   "execution_count": 136,
   "id": "2760d030",
   "metadata": {},
   "outputs": [],
   "source": [
    "color.6 = rep('#f1faee', 6)"
   ]
  },
  {
   "cell_type": "code",
   "execution_count": 137,
   "id": "0f084577",
   "metadata": {},
   "outputs": [
    {
     "data": {
      "text/html": [
       "<style>\n",
       ".list-inline {list-style: none; margin:0; padding: 0}\n",
       ".list-inline>li {display: inline-block}\n",
       ".list-inline>li:not(:last-child)::after {content: \"\\00b7\"; padding: 0 .5ex}\n",
       "</style>\n",
       "<ol class=list-inline><li>'#f1faee'</li><li>'#f1faee'</li><li>'#f1faee'</li><li>'#f1faee'</li><li>'#f1faee'</li><li>'#f1faee'</li></ol>\n"
      ],
      "text/latex": [
       "\\begin{enumerate*}\n",
       "\\item '\\#f1faee'\n",
       "\\item '\\#f1faee'\n",
       "\\item '\\#f1faee'\n",
       "\\item '\\#f1faee'\n",
       "\\item '\\#f1faee'\n",
       "\\item '\\#f1faee'\n",
       "\\end{enumerate*}\n"
      ],
      "text/markdown": [
       "1. '#f1faee'\n",
       "2. '#f1faee'\n",
       "3. '#f1faee'\n",
       "4. '#f1faee'\n",
       "5. '#f1faee'\n",
       "6. '#f1faee'\n",
       "\n",
       "\n"
      ],
      "text/plain": [
       "[1] \"#f1faee\" \"#f1faee\" \"#f1faee\" \"#f1faee\" \"#f1faee\" \"#f1faee\""
      ]
     },
     "metadata": {},
     "output_type": "display_data"
    }
   ],
   "source": [
    "color.6"
   ]
  },
  {
   "cell_type": "code",
   "execution_count": 138,
   "id": "532304c6",
   "metadata": {},
   "outputs": [],
   "source": [
    "color.6[3:5] = '#e63946'"
   ]
  },
  {
   "cell_type": "code",
   "execution_count": 139,
   "id": "31706a9e",
   "metadata": {},
   "outputs": [
    {
     "data": {
      "text/html": [
       "<style>\n",
       ".list-inline {list-style: none; margin:0; padding: 0}\n",
       ".list-inline>li {display: inline-block}\n",
       ".list-inline>li:not(:last-child)::after {content: \"\\00b7\"; padding: 0 .5ex}\n",
       "</style>\n",
       "<ol class=list-inline><li>'#f1faee'</li><li>'#f1faee'</li><li>'#e63946'</li><li>'#e63946'</li><li>'#e63946'</li><li>'#f1faee'</li></ol>\n"
      ],
      "text/latex": [
       "\\begin{enumerate*}\n",
       "\\item '\\#f1faee'\n",
       "\\item '\\#f1faee'\n",
       "\\item '\\#e63946'\n",
       "\\item '\\#e63946'\n",
       "\\item '\\#e63946'\n",
       "\\item '\\#f1faee'\n",
       "\\end{enumerate*}\n"
      ],
      "text/markdown": [
       "1. '#f1faee'\n",
       "2. '#f1faee'\n",
       "3. '#e63946'\n",
       "4. '#e63946'\n",
       "5. '#e63946'\n",
       "6. '#f1faee'\n",
       "\n",
       "\n"
      ],
      "text/plain": [
       "[1] \"#f1faee\" \"#f1faee\" \"#e63946\" \"#e63946\" \"#e63946\" \"#f1faee\""
      ]
     },
     "metadata": {},
     "output_type": "display_data"
    }
   ],
   "source": [
    "color.6"
   ]
  },
  {
   "cell_type": "code",
   "execution_count": 142,
   "id": "8e886d47",
   "metadata": {},
   "outputs": [
    {
     "data": {
      "image/png": "[encoded data removed]",
      "text/plain": [
       "Plot with title \"Histogram of Black Cherry Trees\""
      ]
     },
     "metadata": {
      "image/png": {
       "height": 420,
       "width": 420
      }
     },
     "output_type": "display_data"
    }
   ],
   "source": [
    "hist(ds,\n",
    "    xlab = 'Height(ft)',\n",
    "    ylab = 'Frequncey',\n",
    "    main = 'Histogram of Black Cherry Trees',\n",
    "    col = color.6)"
   ]
  },
  {
   "cell_type": "code",
   "execution_count": 143,
   "id": "380e5c7e",
   "metadata": {},
   "outputs": [],
   "source": [
    "male = c(6.9, 30.4, 80.4)\n",
    "female = c(4.9, 38.2, 82.7)"
   ]
  },
  {
   "cell_type": "code",
   "execution_count": 144,
   "id": "28393772",
   "metadata": {},
   "outputs": [],
   "source": [
    "ds = rbind(male, female)"
   ]
  },
  {
   "cell_type": "code",
   "execution_count": 145,
   "id": "eefc1478",
   "metadata": {},
   "outputs": [
    {
     "data": {
      "text/html": [
       "<table class=\"dataframe\">\n",
       "<caption>A matrix: 2 × 3 of type dbl</caption>\n",
       "<tbody>\n",
       "\t<tr><th scope=row>male</th><td>6.9</td><td>30.4</td><td>80.4</td></tr>\n",
       "\t<tr><th scope=row>female</th><td>4.9</td><td>38.2</td><td>82.7</td></tr>\n",
       "</tbody>\n",
       "</table>\n"
      ],
      "text/latex": [
       "A matrix: 2 × 3 of type dbl\n",
       "\\begin{tabular}{r|lll}\n",
       "\tmale & 6.9 & 30.4 & 80.4\\\\\n",
       "\tfemale & 4.9 & 38.2 & 82.7\\\\\n",
       "\\end{tabular}\n"
      ],
      "text/markdown": [
       "\n",
       "A matrix: 2 × 3 of type dbl\n",
       "\n",
       "| male | 6.9 | 30.4 | 80.4 |\n",
       "| female | 4.9 | 38.2 | 82.7 |\n",
       "\n"
      ],
      "text/plain": [
       "       [,1] [,2] [,3]\n",
       "male   6.9  30.4 80.4\n",
       "female 4.9  38.2 82.7"
      ]
     },
     "metadata": {},
     "output_type": "display_data"
    }
   ],
   "source": [
    "ds"
   ]
  },
  {
   "cell_type": "code",
   "execution_count": 148,
   "id": "3e0084af",
   "metadata": {},
   "outputs": [],
   "source": [
    "colnames(ds) = c('samsung','apple','huawei')"
   ]
  },
  {
   "cell_type": "code",
   "execution_count": 149,
   "id": "88d633f1",
   "metadata": {},
   "outputs": [
    {
     "data": {
      "text/html": [
       "<table class=\"dataframe\">\n",
       "<caption>A matrix: 2 × 3 of type dbl</caption>\n",
       "<thead>\n",
       "\t<tr><th></th><th scope=col>samsung</th><th scope=col>apple</th><th scope=col>huawei</th></tr>\n",
       "</thead>\n",
       "<tbody>\n",
       "\t<tr><th scope=row>male</th><td>6.9</td><td>30.4</td><td>80.4</td></tr>\n",
       "\t<tr><th scope=row>female</th><td>4.9</td><td>38.2</td><td>82.7</td></tr>\n",
       "</tbody>\n",
       "</table>\n"
      ],
      "text/latex": [
       "A matrix: 2 × 3 of type dbl\n",
       "\\begin{tabular}{r|lll}\n",
       "  & samsung & apple & huawei\\\\\n",
       "\\hline\n",
       "\tmale & 6.9 & 30.4 & 80.4\\\\\n",
       "\tfemale & 4.9 & 38.2 & 82.7\\\\\n",
       "\\end{tabular}\n"
      ],
      "text/markdown": [
       "\n",
       "A matrix: 2 × 3 of type dbl\n",
       "\n",
       "| <!--/--> | samsung | apple | huawei |\n",
       "|---|---|---|---|\n",
       "| male | 6.9 | 30.4 | 80.4 |\n",
       "| female | 4.9 | 38.2 | 82.7 |\n",
       "\n"
      ],
      "text/plain": [
       "       samsung apple huawei\n",
       "male   6.9     30.4  80.4  \n",
       "female 4.9     38.2  82.7  "
      ]
     },
     "metadata": {},
     "output_type": "display_data"
    }
   ],
   "source": [
    "ds"
   ]
  },
  {
   "cell_type": "code",
   "execution_count": 157,
   "id": "b45ad296",
   "metadata": {},
   "outputs": [
    {
     "data": {
      "image/png": "[encoded data removed]",
      "text/plain": [
       "Plot with title \"성별에 따른 브랜드 선호도\""
      ]
     },
     "metadata": {
      "image/png": {
       "height": 420,
       "width": 420
      }
     },
     "output_type": "display_data"
    }
   ],
   "source": [
    "barplot(ds, horiz = T, beside = T,\n",
    "       las = 1,\n",
    "       legend.text = c('남자','여자'),\n",
    "       args.legend = list(x='right', bty = 'n'), \n",
    "       main = '성별에 따른 브랜드 선호도',\n",
    "       col = c('#ffe66d', '#00afb9'))"
   ]
  },
  {
   "cell_type": "code",
   "execution_count": 160,
   "id": "becad5e7",
   "metadata": {},
   "outputs": [],
   "source": [
    "holyday = c(14, 15, 15, 16, 14, 11, 12)\n",
    "holyday.acual = c(15, 35, 38, 36, 34, 32, 32)\n",
    "ds = rbind(holyday, holyday.acual)\n",
    "colnames(ds) = c('한국','일본','독일','러시아','미국','프랑스','호주')"
   ]
  },
  {
   "cell_type": "code",
   "execution_count": 161,
   "id": "13dd874b",
   "metadata": {},
   "outputs": [
    {
     "data": {
      "text/html": [
       "<table class=\"dataframe\">\n",
       "<caption>A matrix: 2 × 7 of type dbl</caption>\n",
       "<thead>\n",
       "\t<tr><th></th><th scope=col>한국</th><th scope=col>일본</th><th scope=col>독일</th><th scope=col>러시아</th><th scope=col>미국</th><th scope=col>프랑스</th><th scope=col>호주</th></tr>\n",
       "</thead>\n",
       "<tbody>\n",
       "\t<tr><th scope=row>holyday</th><td>14</td><td>15</td><td>15</td><td>16</td><td>14</td><td>11</td><td>12</td></tr>\n",
       "\t<tr><th scope=row>holyday.acual</th><td>15</td><td>35</td><td>38</td><td>36</td><td>34</td><td>32</td><td>32</td></tr>\n",
       "</tbody>\n",
       "</table>\n"
      ],
      "text/latex": [
       "A matrix: 2 × 7 of type dbl\n",
       "\\begin{tabular}{r|lllllll}\n",
       "  & 한국 & 일본 & 독일 & 러시아 & 미국 & 프랑스 & 호주\\\\\n",
       "\\hline\n",
       "\tholyday & 14 & 15 & 15 & 16 & 14 & 11 & 12\\\\\n",
       "\tholyday.acual & 15 & 35 & 38 & 36 & 34 & 32 & 32\\\\\n",
       "\\end{tabular}\n"
      ],
      "text/markdown": [
       "\n",
       "A matrix: 2 × 7 of type dbl\n",
       "\n",
       "| <!--/--> | 한국 | 일본 | 독일 | 러시아 | 미국 | 프랑스 | 호주 |\n",
       "|---|---|---|---|---|---|---|---|\n",
       "| holyday | 14 | 15 | 15 | 16 | 14 | 11 | 12 |\n",
       "| holyday.acual | 15 | 35 | 38 | 36 | 34 | 32 | 32 |\n",
       "\n"
      ],
      "text/plain": [
       "              한국 일본 독일 러시아 미국 프랑스 호주\n",
       "holyday       14   15   15   16     14   11     12  \n",
       "holyday.acual 15   35   38   36     34   32     32  "
      ]
     },
     "metadata": {},
     "output_type": "display_data"
    }
   ],
   "source": [
    "ds"
   ]
  },
  {
   "cell_type": "code",
   "execution_count": 169,
   "id": "76ca1e7a",
   "metadata": {},
   "outputs": [
    {
     "data": {
      "image/png": "[encoded data removed]",
      "text/plain": [
       "Plot with title \"주요 국가별 공휴일 현황\""
      ]
     },
     "metadata": {
      "image/png": {
       "height": 420,
       "width": 420
      }
     },
     "output_type": "display_data"
    }
   ],
   "source": [
    "barplot(ds,\n",
    "       beside = T,\n",
    "       main = '주요 국가별 공휴일 현황',\n",
    "       xlab = '국가',\n",
    "       legend.text = c('공휴일 수','실제 쉬는 날'),\n",
    "       args.legend = list(x='topleft', bty = 'n', inset= c(0, 3, -2)))"
   ]
  },
  {
   "cell_type": "code",
   "execution_count": 171,
   "id": "73e0206c",
   "metadata": {},
   "outputs": [
    {
     "data": {
      "image/png": "[encoded data removed]",
      "text/plain": [
       "Plot with title \"주요 국가별 공휴일 현황\""
      ]
     },
     "metadata": {
      "image/png": {
       "height": 420,
       "width": 420
      }
     },
     "output_type": "display_data"
    }
   ],
   "source": [
    "barplot(ds,\n",
    "       beside = T,\n",
    "       main = '주요 국가별 공휴일 현황',\n",
    "       xlab = '국가',\n",
    "       legend.text = c('공휴일 수','실제 쉬는 날'),\n",
    "       args.legend = list(x='topleft', bty = 'n'))"
   ]
  },
  {
   "cell_type": "code",
   "execution_count": 172,
   "id": "50d39d4b",
   "metadata": {},
   "outputs": [],
   "source": [
    "year.2017 = c(116215, 3437, 26183, 7522, 147, 1411)\n",
    "year.2016 = c(104359, 3393, 24527, 7058, 102, 975)"
   ]
  },
  {
   "cell_type": "code",
   "execution_count": 173,
   "id": "f41c7294",
   "metadata": {},
   "outputs": [],
   "source": [
    "ds = rbind(year.2017, year.2016)"
   ]
  },
  {
   "cell_type": "code",
   "execution_count": 174,
   "id": "1685b033",
   "metadata": {},
   "outputs": [
    {
     "data": {
      "text/html": [
       "<table class=\"dataframe\">\n",
       "<caption>A matrix: 2 × 6 of type dbl</caption>\n",
       "<tbody>\n",
       "\t<tr><th scope=row>year.2017</th><td>116215</td><td>3437</td><td>26183</td><td>7522</td><td>147</td><td>1411</td></tr>\n",
       "\t<tr><th scope=row>year.2016</th><td>104359</td><td>3393</td><td>24527</td><td>7058</td><td>102</td><td> 975</td></tr>\n",
       "</tbody>\n",
       "</table>\n"
      ],
      "text/latex": [
       "A matrix: 2 × 6 of type dbl\n",
       "\\begin{tabular}{r|llllll}\n",
       "\tyear.2017 & 116215 & 3437 & 26183 & 7522 & 147 & 1411\\\\\n",
       "\tyear.2016 & 104359 & 3393 & 24527 & 7058 & 102 &  975\\\\\n",
       "\\end{tabular}\n"
      ],
      "text/markdown": [
       "\n",
       "A matrix: 2 × 6 of type dbl\n",
       "\n",
       "| year.2017 | 116215 | 3437 | 26183 | 7522 | 147 | 1411 |\n",
       "| year.2016 | 104359 | 3393 | 24527 | 7058 | 102 |  975 |\n",
       "\n"
      ],
      "text/plain": [
       "          [,1]   [,2] [,3]  [,4] [,5] [,6]\n",
       "year.2017 116215 3437 26183 7522 147  1411\n",
       "year.2016 104359 3393 24527 7058 102   975"
      ]
     },
     "metadata": {},
     "output_type": "display_data"
    }
   ],
   "source": [
    "ds"
   ]
  },
  {
   "cell_type": "code",
   "execution_count": 175,
   "id": "2b30eef5",
   "metadata": {},
   "outputs": [],
   "source": [
    "colnames(ds) = c('시', '소설', '수필','평론','희곡','기타')"
   ]
  },
  {
   "cell_type": "code",
   "execution_count": 176,
   "id": "c8332499",
   "metadata": {},
   "outputs": [
    {
     "data": {
      "text/html": [
       "<table class=\"dataframe\">\n",
       "<caption>A matrix: 2 × 6 of type dbl</caption>\n",
       "<thead>\n",
       "\t<tr><th></th><th scope=col>시</th><th scope=col>소설</th><th scope=col>수필</th><th scope=col>평론</th><th scope=col>희곡</th><th scope=col>기타</th></tr>\n",
       "</thead>\n",
       "<tbody>\n",
       "\t<tr><th scope=row>year.2017</th><td>116215</td><td>3437</td><td>26183</td><td>7522</td><td>147</td><td>1411</td></tr>\n",
       "\t<tr><th scope=row>year.2016</th><td>104359</td><td>3393</td><td>24527</td><td>7058</td><td>102</td><td> 975</td></tr>\n",
       "</tbody>\n",
       "</table>\n"
      ],
      "text/latex": [
       "A matrix: 2 × 6 of type dbl\n",
       "\\begin{tabular}{r|llllll}\n",
       "  & 시 & 소설 & 수필 & 평론 & 희곡 & 기타\\\\\n",
       "\\hline\n",
       "\tyear.2017 & 116215 & 3437 & 26183 & 7522 & 147 & 1411\\\\\n",
       "\tyear.2016 & 104359 & 3393 & 24527 & 7058 & 102 &  975\\\\\n",
       "\\end{tabular}\n"
      ],
      "text/markdown": [
       "\n",
       "A matrix: 2 × 6 of type dbl\n",
       "\n",
       "| <!--/--> | 시 | 소설 | 수필 | 평론 | 희곡 | 기타 |\n",
       "|---|---|---|---|---|---|---|\n",
       "| year.2017 | 116215 | 3437 | 26183 | 7522 | 147 | 1411 |\n",
       "| year.2016 | 104359 | 3393 | 24527 | 7058 | 102 |  975 |\n",
       "\n"
      ],
      "text/plain": [
       "          시     소설 수필  평론 희곡 기타\n",
       "year.2017 116215 3437 26183 7522 147  1411\n",
       "year.2016 104359 3393 24527 7058 102   975"
      ]
     },
     "metadata": {},
     "output_type": "display_data"
    }
   ],
   "source": [
    "ds"
   ]
  },
  {
   "cell_type": "code",
   "execution_count": 182,
   "id": "60948040",
   "metadata": {},
   "outputs": [
    {
     "data": {
      "image/png": "[encoded data removed]",
      "text/plain": [
       "Plot with title \"문인잡지의 작품 발표 현황\""
      ]
     },
     "metadata": {
      "image/png": {
       "height": 420,
       "width": 420
      }
     },
     "output_type": "display_data"
    }
   ],
   "source": [
    "barplot(ds,\n",
    "       main = '문인잡지의 작품 발표 현황',\n",
    "       col = c('maroon','indianred'),\n",
    "       xlab = '작품 종류',\n",
    "       ylab = '발표 건수',\n",
    "       legend.text = c('2017','2016'))"
   ]
  },
  {
   "cell_type": "code",
   "execution_count": 183,
   "id": "ffa792d0",
   "metadata": {},
   "outputs": [],
   "source": [
    "temp = pressure$temperature\n",
    "pres = pressure$pressure"
   ]
  },
  {
   "cell_type": "code",
   "execution_count": null,
   "id": "30869c32",
   "metadata": {},
   "outputs": [],
   "source": []
  }
 ],
 "metadata": {
  "kernelspec": {
   "display_name": "R",
   "language": "R",
   "name": "ir"
  },
  "language_info": {
   "codemirror_mode": "r",
   "file_extension": ".r",
   "mimetype": "text/x-r-source",
   "name": "R",
   "pygments_lexer": "r",
   "version": "4.3.1"
  }
 },
 "nbformat": 4,
 "nbformat_minor": 5
}
