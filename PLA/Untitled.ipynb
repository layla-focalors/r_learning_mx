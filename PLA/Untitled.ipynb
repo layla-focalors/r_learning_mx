{
 "cells": [
  {
   "cell_type": "code",
   "execution_count": 1,
   "id": "74d5c7fb",
   "metadata": {},
   "outputs": [],
   "source": [
    "total = c(rep('A', 8), rep('B', 14), rep('C', 8))"
   ]
  },
  {
   "cell_type": "code",
   "execution_count": 2,
   "id": "186b4acf",
   "metadata": {},
   "outputs": [
    {
     "data": {
      "text/html": [
       "<style>\n",
       ".list-inline {list-style: none; margin:0; padding: 0}\n",
       ".list-inline>li {display: inline-block}\n",
       ".list-inline>li:not(:last-child)::after {content: \"\\00b7\"; padding: 0 .5ex}\n",
       "</style>\n",
       "<ol class=list-inline><li>'A'</li><li>'A'</li><li>'A'</li><li>'A'</li><li>'A'</li><li>'A'</li><li>'A'</li><li>'A'</li><li>'B'</li><li>'B'</li><li>'B'</li><li>'B'</li><li>'B'</li><li>'B'</li><li>'B'</li><li>'B'</li><li>'B'</li><li>'B'</li><li>'B'</li><li>'B'</li><li>'B'</li><li>'B'</li><li>'C'</li><li>'C'</li><li>'C'</li><li>'C'</li><li>'C'</li><li>'C'</li><li>'C'</li><li>'C'</li></ol>\n"
      ],
      "text/latex": [
       "\\begin{enumerate*}\n",
       "\\item 'A'\n",
       "\\item 'A'\n",
       "\\item 'A'\n",
       "\\item 'A'\n",
       "\\item 'A'\n",
       "\\item 'A'\n",
       "\\item 'A'\n",
       "\\item 'A'\n",
       "\\item 'B'\n",
       "\\item 'B'\n",
       "\\item 'B'\n",
       "\\item 'B'\n",
       "\\item 'B'\n",
       "\\item 'B'\n",
       "\\item 'B'\n",
       "\\item 'B'\n",
       "\\item 'B'\n",
       "\\item 'B'\n",
       "\\item 'B'\n",
       "\\item 'B'\n",
       "\\item 'B'\n",
       "\\item 'B'\n",
       "\\item 'C'\n",
       "\\item 'C'\n",
       "\\item 'C'\n",
       "\\item 'C'\n",
       "\\item 'C'\n",
       "\\item 'C'\n",
       "\\item 'C'\n",
       "\\item 'C'\n",
       "\\end{enumerate*}\n"
      ],
      "text/markdown": [
       "1. 'A'\n",
       "2. 'A'\n",
       "3. 'A'\n",
       "4. 'A'\n",
       "5. 'A'\n",
       "6. 'A'\n",
       "7. 'A'\n",
       "8. 'A'\n",
       "9. 'B'\n",
       "10. 'B'\n",
       "11. 'B'\n",
       "12. 'B'\n",
       "13. 'B'\n",
       "14. 'B'\n",
       "15. 'B'\n",
       "16. 'B'\n",
       "17. 'B'\n",
       "18. 'B'\n",
       "19. 'B'\n",
       "20. 'B'\n",
       "21. 'B'\n",
       "22. 'B'\n",
       "23. 'C'\n",
       "24. 'C'\n",
       "25. 'C'\n",
       "26. 'C'\n",
       "27. 'C'\n",
       "28. 'C'\n",
       "29. 'C'\n",
       "30. 'C'\n",
       "\n",
       "\n"
      ],
      "text/plain": [
       " [1] \"A\" \"A\" \"A\" \"A\" \"A\" \"A\" \"A\" \"A\" \"B\" \"B\" \"B\" \"B\" \"B\" \"B\" \"B\" \"B\" \"B\" \"B\" \"B\"\n",
       "[20] \"B\" \"B\" \"B\" \"C\" \"C\" \"C\" \"C\" \"C\" \"C\" \"C\" \"C\""
      ]
     },
     "metadata": {},
     "output_type": "display_data"
    }
   ],
   "source": [
    "total"
   ]
  },
  {
   "cell_type": "code",
   "execution_count": 3,
   "id": "6d0fb6e5",
   "metadata": {},
   "outputs": [
    {
     "data": {
      "text/plain": [
       "total\n",
       " A  B  C \n",
       " 8 14  8 "
      ]
     },
     "metadata": {},
     "output_type": "display_data"
    }
   ],
   "source": [
    "table(total)"
   ]
  },
  {
   "cell_type": "code",
   "execution_count": 4,
   "id": "5bd1c9a6",
   "metadata": {},
   "outputs": [
    {
     "data": {
      "image/png": "[encoded data removed]",
      "text/plain": [
       "plot without title"
      ]
     },
     "metadata": {
      "image/png": {
       "height": 420,
       "width": 420
      }
     },
     "output_type": "display_data"
    }
   ],
   "source": [
    "barplot(table(total), horiz = T)"
   ]
  },
  {
   "cell_type": "code",
   "execution_count": 5,
   "id": "a86eeae2",
   "metadata": {},
   "outputs": [
    {
     "data": {
      "image/png": "[encoded data removed]",
      "text/plain": [
       "plot without title"
      ]
     },
     "metadata": {
      "image/png": {
       "height": 420,
       "width": 420
      }
     },
     "output_type": "display_data"
    }
   ],
   "source": [
    "pie(table(total))"
   ]
  },
  {
   "cell_type": "code",
   "execution_count": 6,
   "id": "21d8f343",
   "metadata": {},
   "outputs": [],
   "source": [
    "node = c(rep('찢어짐', 22), rep('구멍 뚫림', 15), rep('잘못 접혀짐', 5), rep('기타', 8))"
   ]
  },
  {
   "cell_type": "code",
   "execution_count": 7,
   "id": "47b4c1e4",
   "metadata": {},
   "outputs": [
    {
     "data": {
      "text/html": [
       "<style>\n",
       ".list-inline {list-style: none; margin:0; padding: 0}\n",
       ".list-inline>li {display: inline-block}\n",
       ".list-inline>li:not(:last-child)::after {content: \"\\00b7\"; padding: 0 .5ex}\n",
       "</style>\n",
       "<ol class=list-inline><li>'찢어짐'</li><li>'찢어짐'</li><li>'찢어짐'</li><li>'찢어짐'</li><li>'찢어짐'</li><li>'찢어짐'</li><li>'찢어짐'</li><li>'찢어짐'</li><li>'찢어짐'</li><li>'찢어짐'</li><li>'찢어짐'</li><li>'찢어짐'</li><li>'찢어짐'</li><li>'찢어짐'</li><li>'찢어짐'</li><li>'찢어짐'</li><li>'찢어짐'</li><li>'찢어짐'</li><li>'찢어짐'</li><li>'찢어짐'</li><li>'찢어짐'</li><li>'찢어짐'</li><li>'구멍 뚫림'</li><li>'구멍 뚫림'</li><li>'구멍 뚫림'</li><li>'구멍 뚫림'</li><li>'구멍 뚫림'</li><li>'구멍 뚫림'</li><li>'구멍 뚫림'</li><li>'구멍 뚫림'</li><li>'구멍 뚫림'</li><li>'구멍 뚫림'</li><li>'구멍 뚫림'</li><li>'구멍 뚫림'</li><li>'구멍 뚫림'</li><li>'구멍 뚫림'</li><li>'구멍 뚫림'</li><li>'잘못 접혀짐'</li><li>'잘못 접혀짐'</li><li>'잘못 접혀짐'</li><li>'잘못 접혀짐'</li><li>'잘못 접혀짐'</li><li>'기타'</li><li>'기타'</li><li>'기타'</li><li>'기타'</li><li>'기타'</li><li>'기타'</li><li>'기타'</li><li>'기타'</li></ol>\n"
      ],
      "text/latex": [
       "\\begin{enumerate*}\n",
       "\\item '찢어짐'\n",
       "\\item '찢어짐'\n",
       "\\item '찢어짐'\n",
       "\\item '찢어짐'\n",
       "\\item '찢어짐'\n",
       "\\item '찢어짐'\n",
       "\\item '찢어짐'\n",
       "\\item '찢어짐'\n",
       "\\item '찢어짐'\n",
       "\\item '찢어짐'\n",
       "\\item '찢어짐'\n",
       "\\item '찢어짐'\n",
       "\\item '찢어짐'\n",
       "\\item '찢어짐'\n",
       "\\item '찢어짐'\n",
       "\\item '찢어짐'\n",
       "\\item '찢어짐'\n",
       "\\item '찢어짐'\n",
       "\\item '찢어짐'\n",
       "\\item '찢어짐'\n",
       "\\item '찢어짐'\n",
       "\\item '찢어짐'\n",
       "\\item '구멍 뚫림'\n",
       "\\item '구멍 뚫림'\n",
       "\\item '구멍 뚫림'\n",
       "\\item '구멍 뚫림'\n",
       "\\item '구멍 뚫림'\n",
       "\\item '구멍 뚫림'\n",
       "\\item '구멍 뚫림'\n",
       "\\item '구멍 뚫림'\n",
       "\\item '구멍 뚫림'\n",
       "\\item '구멍 뚫림'\n",
       "\\item '구멍 뚫림'\n",
       "\\item '구멍 뚫림'\n",
       "\\item '구멍 뚫림'\n",
       "\\item '구멍 뚫림'\n",
       "\\item '구멍 뚫림'\n",
       "\\item '잘못 접혀짐'\n",
       "\\item '잘못 접혀짐'\n",
       "\\item '잘못 접혀짐'\n",
       "\\item '잘못 접혀짐'\n",
       "\\item '잘못 접혀짐'\n",
       "\\item '기타'\n",
       "\\item '기타'\n",
       "\\item '기타'\n",
       "\\item '기타'\n",
       "\\item '기타'\n",
       "\\item '기타'\n",
       "\\item '기타'\n",
       "\\item '기타'\n",
       "\\end{enumerate*}\n"
      ],
      "text/markdown": [
       "1. '찢어짐'\n",
       "2. '찢어짐'\n",
       "3. '찢어짐'\n",
       "4. '찢어짐'\n",
       "5. '찢어짐'\n",
       "6. '찢어짐'\n",
       "7. '찢어짐'\n",
       "8. '찢어짐'\n",
       "9. '찢어짐'\n",
       "10. '찢어짐'\n",
       "11. '찢어짐'\n",
       "12. '찢어짐'\n",
       "13. '찢어짐'\n",
       "14. '찢어짐'\n",
       "15. '찢어짐'\n",
       "16. '찢어짐'\n",
       "17. '찢어짐'\n",
       "18. '찢어짐'\n",
       "19. '찢어짐'\n",
       "20. '찢어짐'\n",
       "21. '찢어짐'\n",
       "22. '찢어짐'\n",
       "23. '구멍 뚫림'\n",
       "24. '구멍 뚫림'\n",
       "25. '구멍 뚫림'\n",
       "26. '구멍 뚫림'\n",
       "27. '구멍 뚫림'\n",
       "28. '구멍 뚫림'\n",
       "29. '구멍 뚫림'\n",
       "30. '구멍 뚫림'\n",
       "31. '구멍 뚫림'\n",
       "32. '구멍 뚫림'\n",
       "33. '구멍 뚫림'\n",
       "34. '구멍 뚫림'\n",
       "35. '구멍 뚫림'\n",
       "36. '구멍 뚫림'\n",
       "37. '구멍 뚫림'\n",
       "38. '잘못 접혀짐'\n",
       "39. '잘못 접혀짐'\n",
       "40. '잘못 접혀짐'\n",
       "41. '잘못 접혀짐'\n",
       "42. '잘못 접혀짐'\n",
       "43. '기타'\n",
       "44. '기타'\n",
       "45. '기타'\n",
       "46. '기타'\n",
       "47. '기타'\n",
       "48. '기타'\n",
       "49. '기타'\n",
       "50. '기타'\n",
       "\n",
       "\n"
      ],
      "text/plain": [
       " [1] \"찢어짐\"      \"찢어짐\"      \"찢어짐\"      \"찢어짐\"      \"찢어짐\"     \n",
       " [6] \"찢어짐\"      \"찢어짐\"      \"찢어짐\"      \"찢어짐\"      \"찢어짐\"     \n",
       "[11] \"찢어짐\"      \"찢어짐\"      \"찢어짐\"      \"찢어짐\"      \"찢어짐\"     \n",
       "[16] \"찢어짐\"      \"찢어짐\"      \"찢어짐\"      \"찢어짐\"      \"찢어짐\"     \n",
       "[21] \"찢어짐\"      \"찢어짐\"      \"구멍 뚫림\"   \"구멍 뚫림\"   \"구멍 뚫림\"  \n",
       "[26] \"구멍 뚫림\"   \"구멍 뚫림\"   \"구멍 뚫림\"   \"구멍 뚫림\"   \"구멍 뚫림\"  \n",
       "[31] \"구멍 뚫림\"   \"구멍 뚫림\"   \"구멍 뚫림\"   \"구멍 뚫림\"   \"구멍 뚫림\"  \n",
       "[36] \"구멍 뚫림\"   \"구멍 뚫림\"   \"잘못 접혀짐\" \"잘못 접혀짐\" \"잘못 접혀짐\"\n",
       "[41] \"잘못 접혀짐\" \"잘못 접혀짐\" \"기타\"        \"기타\"        \"기타\"       \n",
       "[46] \"기타\"        \"기타\"        \"기타\"        \"기타\"        \"기타\"       "
      ]
     },
     "metadata": {},
     "output_type": "display_data"
    }
   ],
   "source": [
    "node"
   ]
  },
  {
   "cell_type": "code",
   "execution_count": 8,
   "id": "31f2ea2f",
   "metadata": {},
   "outputs": [
    {
     "data": {
      "text/plain": [
       "node\n",
       "  구멍 뚫림        기타 잘못 접혀짐      찢어짐 \n",
       "         15           8           5          22 "
      ]
     },
     "metadata": {},
     "output_type": "display_data"
    }
   ],
   "source": [
    "table(node)"
   ]
  },
  {
   "cell_type": "code",
   "execution_count": 9,
   "id": "ce453acd",
   "metadata": {},
   "outputs": [],
   "source": [
    "x = table(node)"
   ]
  },
  {
   "cell_type": "code",
   "execution_count": 10,
   "id": "2678c334",
   "metadata": {},
   "outputs": [],
   "source": [
    "freq = prop.table(x)"
   ]
  },
  {
   "cell_type": "code",
   "execution_count": 11,
   "id": "780a23d9",
   "metadata": {},
   "outputs": [
    {
     "data": {
      "text/plain": [
       "node\n",
       "  구멍 뚫림        기타 잘못 접혀짐      찢어짐 \n",
       "       0.30        0.16        0.10        0.44 "
      ]
     },
     "metadata": {},
     "output_type": "display_data"
    }
   ],
   "source": [
    "freq"
   ]
  },
  {
   "cell_type": "code",
   "execution_count": 12,
   "id": "6db4dc6d",
   "metadata": {},
   "outputs": [
    {
     "data": {
      "text/html": [
       "<style>\n",
       ".dl-inline {width: auto; margin:0; padding: 0}\n",
       ".dl-inline>dt, .dl-inline>dd {float: none; width: auto; display: inline-block}\n",
       ".dl-inline>dt::after {content: \":\\0020\"; padding-right: .5ex}\n",
       ".dl-inline>dt:not(:first-of-type) {padding-left: .5ex}\n",
       "</style><dl class=dl-inline><dt>구멍 뚫림</dt><dd>0.3</dd><dt>기타</dt><dd>0.46</dd><dt>잘못 접혀짐</dt><dd>0.56</dd><dt>찢어짐</dt><dd>1</dd></dl>\n"
      ],
      "text/latex": [
       "\\begin{description*}\n",
       "\\item[구멍 뚫림] 0.3\n",
       "\\item[기타] 0.46\n",
       "\\item[잘못 접혀짐] 0.56\n",
       "\\item[찢어짐] 1\n",
       "\\end{description*}\n"
      ],
      "text/markdown": [
       "구멍 뚫림\n",
       ":   0.3기타\n",
       ":   0.46잘못 접혀짐\n",
       ":   0.56찢어짐\n",
       ":   1\n",
       "\n"
      ],
      "text/plain": [
       "  구멍 뚫림        기타 잘못 접혀짐      찢어짐 \n",
       "       0.30        0.46        0.56        1.00 "
      ]
     },
     "metadata": {},
     "output_type": "display_data"
    }
   ],
   "source": [
    "fx = cumsum(freq)\n",
    "fx"
   ]
  },
  {
   "cell_type": "code",
   "execution_count": 13,
   "id": "6cfef321",
   "metadata": {},
   "outputs": [
    {
     "data": {
      "text/html": [
       "<table class=\"dataframe\">\n",
       "<caption>A matrix: 4 × 3 of type dbl</caption>\n",
       "<thead>\n",
       "\t<tr><th></th><th scope=col>x</th><th scope=col>freq</th><th scope=col>fx</th></tr>\n",
       "</thead>\n",
       "<tbody>\n",
       "\t<tr><th scope=row>구멍 뚫림</th><td>15</td><td>0.30</td><td>0.30</td></tr>\n",
       "\t<tr><th scope=row>기타</th><td> 8</td><td>0.16</td><td>0.46</td></tr>\n",
       "\t<tr><th scope=row>잘못 접혀짐</th><td> 5</td><td>0.10</td><td>0.56</td></tr>\n",
       "\t<tr><th scope=row>찢어짐</th><td>22</td><td>0.44</td><td>1.00</td></tr>\n",
       "</tbody>\n",
       "</table>\n"
      ],
      "text/latex": [
       "A matrix: 4 × 3 of type dbl\n",
       "\\begin{tabular}{r|lll}\n",
       "  & x & freq & fx\\\\\n",
       "\\hline\n",
       "\t구멍 뚫림 & 15 & 0.30 & 0.30\\\\\n",
       "\t기타 &  8 & 0.16 & 0.46\\\\\n",
       "\t잘못 접혀짐 &  5 & 0.10 & 0.56\\\\\n",
       "\t찢어짐 & 22 & 0.44 & 1.00\\\\\n",
       "\\end{tabular}\n"
      ],
      "text/markdown": [
       "\n",
       "A matrix: 4 × 3 of type dbl\n",
       "\n",
       "| <!--/--> | x | freq | fx |\n",
       "|---|---|---|---|\n",
       "| 구멍 뚫림 | 15 | 0.30 | 0.30 |\n",
       "| 기타 |  8 | 0.16 | 0.46 |\n",
       "| 잘못 접혀짐 |  5 | 0.10 | 0.56 |\n",
       "| 찢어짐 | 22 | 0.44 | 1.00 |\n",
       "\n"
      ],
      "text/plain": [
       "            x  freq fx  \n",
       "구멍 뚫림   15 0.30 0.30\n",
       "기타         8 0.16 0.46\n",
       "잘못 접혀짐  5 0.10 0.56\n",
       "찢어짐      22 0.44 1.00"
      ]
     },
     "metadata": {},
     "output_type": "display_data"
    }
   ],
   "source": [
    "cbind(x, freq, fx)"
   ]
  },
  {
   "cell_type": "code",
   "execution_count": 14,
   "id": "42b722e2",
   "metadata": {},
   "outputs": [],
   "source": [
    "res = c(rep('예', 6), rep('아니요', 4))"
   ]
  },
  {
   "cell_type": "code",
   "execution_count": 15,
   "id": "e67d81f3",
   "metadata": {},
   "outputs": [
    {
     "data": {
      "text/html": [
       "<style>\n",
       ".list-inline {list-style: none; margin:0; padding: 0}\n",
       ".list-inline>li {display: inline-block}\n",
       ".list-inline>li:not(:last-child)::after {content: \"\\00b7\"; padding: 0 .5ex}\n",
       "</style>\n",
       "<ol class=list-inline><li>'예'</li><li>'예'</li><li>'예'</li><li>'예'</li><li>'예'</li><li>'예'</li><li>'아니요'</li><li>'아니요'</li><li>'아니요'</li><li>'아니요'</li></ol>\n"
      ],
      "text/latex": [
       "\\begin{enumerate*}\n",
       "\\item '예'\n",
       "\\item '예'\n",
       "\\item '예'\n",
       "\\item '예'\n",
       "\\item '예'\n",
       "\\item '예'\n",
       "\\item '아니요'\n",
       "\\item '아니요'\n",
       "\\item '아니요'\n",
       "\\item '아니요'\n",
       "\\end{enumerate*}\n"
      ],
      "text/markdown": [
       "1. '예'\n",
       "2. '예'\n",
       "3. '예'\n",
       "4. '예'\n",
       "5. '예'\n",
       "6. '예'\n",
       "7. '아니요'\n",
       "8. '아니요'\n",
       "9. '아니요'\n",
       "10. '아니요'\n",
       "\n",
       "\n"
      ],
      "text/plain": [
       " [1] \"예\"     \"예\"     \"예\"     \"예\"     \"예\"     \"예\"     \"아니요\" \"아니요\"\n",
       " [9] \"아니요\" \"아니요\""
      ]
     },
     "metadata": {},
     "output_type": "display_data"
    }
   ],
   "source": [
    "res"
   ]
  },
  {
   "cell_type": "code",
   "execution_count": 16,
   "id": "3e1b35c0",
   "metadata": {},
   "outputs": [
    {
     "data": {
      "text/plain": [
       "res\n",
       "아니요     예 \n",
       "     4      6 "
      ]
     },
     "metadata": {},
     "output_type": "display_data"
    }
   ],
   "source": [
    "table(res)"
   ]
  },
  {
   "cell_type": "code",
   "execution_count": 17,
   "id": "0e65e7bb",
   "metadata": {},
   "outputs": [
    {
     "data": {
      "image/png": "[encoded data removed]",
      "text/plain": [
       "plot without title"
      ]
     },
     "metadata": {
      "image/png": {
       "height": 420,
       "width": 420
      }
     },
     "output_type": "display_data"
    }
   ],
   "source": [
    "barplot(table(res))"
   ]
  },
  {
   "cell_type": "code",
   "execution_count": 19,
   "id": "6e97e3b4",
   "metadata": {},
   "outputs": [
    {
     "data": {
      "image/png": "[encoded data removed]",
      "text/plain": [
       "plot without title"
      ]
     },
     "metadata": {
      "image/png": {
       "height": 420,
       "width": 420
      }
     },
     "output_type": "display_data"
    }
   ],
   "source": [
    "pie(table(res))"
   ]
  },
  {
   "cell_type": "code",
   "execution_count": 22,
   "id": "423cf448",
   "metadata": {},
   "outputs": [
    {
     "data": {
      "image/png": "[encoded data removed]",
      "text/plain": [
       "Plot with title \"구매 의사\""
      ]
     },
     "metadata": {
      "image/png": {
       "height": 420,
       "width": 420
      }
     },
     "output_type": "display_data"
    }
   ],
   "source": [
    "barplot(table(res),\n",
    "       horiz = T,\n",
    "       las = 1,\n",
    "       main = '구매 의사',\n",
    "       xlab = 'Frequency',\n",
    "       ylab = '구분')"
   ]
  },
  {
   "cell_type": "code",
   "execution_count": 24,
   "id": "bd916d38",
   "metadata": {},
   "outputs": [
    {
     "data": {
      "image/png": "[encoded data removed]",
      "text/plain": [
       "Plot with title \"구매 의사 원그래프\""
      ]
     },
     "metadata": {
      "image/png": {
       "height": 420,
       "width": 420
      }
     },
     "output_type": "display_data"
    }
   ],
   "source": [
    "pie(table(res),\n",
    "   main = '구매 의사 원그래프',\n",
    "   sub = 'Response')"
   ]
  },
  {
   "cell_type": "code",
   "execution_count": 25,
   "id": "231de3de",
   "metadata": {},
   "outputs": [
    {
     "data": {
      "text/html": [
       "<table class=\"dataframe\">\n",
       "<caption>A matrix: 2 × 3 of type dbl</caption>\n",
       "<tbody>\n",
       "\t<tr><td>29</td><td>17</td><td>18</td></tr>\n",
       "\t<tr><td>19</td><td>20</td><td> 3</td></tr>\n",
       "</tbody>\n",
       "</table>\n"
      ],
      "text/latex": [
       "A matrix: 2 × 3 of type dbl\n",
       "\\begin{tabular}{lll}\n",
       "\t 29 & 17 & 18\\\\\n",
       "\t 19 & 20 &  3\\\\\n",
       "\\end{tabular}\n"
      ],
      "text/markdown": [
       "\n",
       "A matrix: 2 × 3 of type dbl\n",
       "\n",
       "| 29 | 17 | 18 |\n",
       "| 19 | 20 |  3 |\n",
       "\n"
      ],
      "text/plain": [
       "     [,1] [,2] [,3]\n",
       "[1,] 29   17   18  \n",
       "[2,] 19   20    3  "
      ]
     },
     "metadata": {},
     "output_type": "display_data"
    }
   ],
   "source": [
    "mat1 = matrix(c(29, 17, 18, 19, 20, 3), nrow = 2, byrow = T) \n",
    "mat1"
   ]
  },
  {
   "cell_type": "code",
   "execution_count": 26,
   "id": "22df23c5",
   "metadata": {},
   "outputs": [],
   "source": [
    "dimnames(mat1)[[1]] = c('심각하지 않은 심장발작', '심각한 심장 발작')"
   ]
  },
  {
   "cell_type": "code",
   "execution_count": 28,
   "id": "17c51c8d",
   "metadata": {},
   "outputs": [],
   "source": [
    "dimnames(mat1)[[2]] = c('낮은 콜레스테롤', '중간 콜레스테롤', '높은 콜레스테롤')"
   ]
  },
  {
   "cell_type": "code",
   "execution_count": 29,
   "id": "9d3b37bc",
   "metadata": {},
   "outputs": [
    {
     "data": {
      "text/html": [
       "<table class=\"dataframe\">\n",
       "<caption>A matrix: 2 × 3 of type dbl</caption>\n",
       "<thead>\n",
       "\t<tr><th></th><th scope=col>낮은 콜레스테롤</th><th scope=col>중간 콜레스테롤</th><th scope=col>높은 콜레스테롤</th></tr>\n",
       "</thead>\n",
       "<tbody>\n",
       "\t<tr><th scope=row>심각하지 않은 심장발작</th><td>29</td><td>17</td><td>18</td></tr>\n",
       "\t<tr><th scope=row>심각한 심장 발작</th><td>19</td><td>20</td><td> 3</td></tr>\n",
       "</tbody>\n",
       "</table>\n"
      ],
      "text/latex": [
       "A matrix: 2 × 3 of type dbl\n",
       "\\begin{tabular}{r|lll}\n",
       "  & 낮은 콜레스테롤 & 중간 콜레스테롤 & 높은 콜레스테롤\\\\\n",
       "\\hline\n",
       "\t심각하지 않은 심장발작 & 29 & 17 & 18\\\\\n",
       "\t심각한 심장 발작 & 19 & 20 &  3\\\\\n",
       "\\end{tabular}\n"
      ],
      "text/markdown": [
       "\n",
       "A matrix: 2 × 3 of type dbl\n",
       "\n",
       "| <!--/--> | 낮은 콜레스테롤 | 중간 콜레스테롤 | 높은 콜레스테롤 |\n",
       "|---|---|---|---|\n",
       "| 심각하지 않은 심장발작 | 29 | 17 | 18 |\n",
       "| 심각한 심장 발작 | 19 | 20 |  3 |\n",
       "\n"
      ],
      "text/plain": [
       "                       낮은 콜레스테롤 중간 콜레스테롤 높은 콜레스테롤\n",
       "심각하지 않은 심장발작 29              17              18             \n",
       "심각한 심장 발작       19              20               3             "
      ]
     },
     "metadata": {},
     "output_type": "display_data"
    }
   ],
   "source": [
    "mat1"
   ]
  },
  {
   "cell_type": "code",
   "execution_count": 30,
   "id": "0dbcdb9b",
   "metadata": {},
   "outputs": [
    {
     "data": {
      "text/html": [
       "<table class=\"dataframe\">\n",
       "<caption>A matrix: 2 × 3 of type dbl</caption>\n",
       "<thead>\n",
       "\t<tr><th></th><th scope=col>낮은 콜레스테롤</th><th scope=col>중간 콜레스테롤</th><th scope=col>높은 콜레스테롤</th></tr>\n",
       "</thead>\n",
       "<tbody>\n",
       "\t<tr><th scope=row>심각하지 않은 심장발작</th><td>0.2735849</td><td>0.1603774</td><td>0.16981132</td></tr>\n",
       "\t<tr><th scope=row>심각한 심장 발작</th><td>0.1792453</td><td>0.1886792</td><td>0.02830189</td></tr>\n",
       "</tbody>\n",
       "</table>\n"
      ],
      "text/latex": [
       "A matrix: 2 × 3 of type dbl\n",
       "\\begin{tabular}{r|lll}\n",
       "  & 낮은 콜레스테롤 & 중간 콜레스테롤 & 높은 콜레스테롤\\\\\n",
       "\\hline\n",
       "\t심각하지 않은 심장발작 & 0.2735849 & 0.1603774 & 0.16981132\\\\\n",
       "\t심각한 심장 발작 & 0.1792453 & 0.1886792 & 0.02830189\\\\\n",
       "\\end{tabular}\n"
      ],
      "text/markdown": [
       "\n",
       "A matrix: 2 × 3 of type dbl\n",
       "\n",
       "| <!--/--> | 낮은 콜레스테롤 | 중간 콜레스테롤 | 높은 콜레스테롤 |\n",
       "|---|---|---|---|\n",
       "| 심각하지 않은 심장발작 | 0.2735849 | 0.1603774 | 0.16981132 |\n",
       "| 심각한 심장 발작 | 0.1792453 | 0.1886792 | 0.02830189 |\n",
       "\n"
      ],
      "text/plain": [
       "                       낮은 콜레스테롤 중간 콜레스테롤 높은 콜레스테롤\n",
       "심각하지 않은 심장발작 0.2735849       0.1603774       0.16981132     \n",
       "심각한 심장 발작       0.1792453       0.1886792       0.02830189     "
      ]
     },
     "metadata": {},
     "output_type": "display_data"
    }
   ],
   "source": [
    "prop.table(mat1)"
   ]
  },
  {
   "cell_type": "code",
   "execution_count": 34,
   "id": "4f7d194f",
   "metadata": {},
   "outputs": [
    {
     "data": {
      "image/png": "[encoded data removed]",
      "text/plain": [
       "Plot with title \"콜레스테롤에 따른 심장 발작의 분포\""
      ]
     },
     "metadata": {
      "image/png": {
       "height": 420,
       "width": 420
      }
     },
     "output_type": "display_data"
    }
   ],
   "source": [
    "barplot(prop.table(mat1),\n",
    "       beside = T,\n",
    "       col = c('salmon','wheat'),\n",
    "       main  = '콜레스테롤에 따른 심장 발작의 분포',\n",
    "       xlab = '타입',\n",
    "       las = 1,\n",
    "       ylab = '빈도')"
   ]
  },
  {
   "cell_type": "code",
   "execution_count": 35,
   "id": "38d5fec5",
   "metadata": {},
   "outputs": [
    {
     "data": {
      "image/png": "[encoded data removed]",
      "text/plain": [
       "Plot with title \"콜레스테롤에 따른 심장 발작의 분포\""
      ]
     },
     "metadata": {
      "image/png": {
       "height": 420,
       "width": 420
      }
     },
     "output_type": "display_data"
    }
   ],
   "source": [
    "barplot(t(prop.table(mat1)),\n",
    "       beside = T,\n",
    "       col = c('salmon','wheat'),\n",
    "       main  = '콜레스테롤에 따른 심장 발작의 분포',\n",
    "       xlab = '타입',\n",
    "       las = 1,\n",
    "       ylab = '빈도')"
   ]
  },
  {
   "cell_type": "code",
   "execution_count": 36,
   "id": "190d0cb2",
   "metadata": {},
   "outputs": [],
   "source": [
    "table1 = margin.table(mat1, 1)"
   ]
  },
  {
   "cell_type": "code",
   "execution_count": 37,
   "id": "4eaeba55",
   "metadata": {},
   "outputs": [
    {
     "data": {
      "text/html": [
       "<style>\n",
       ".dl-inline {width: auto; margin:0; padding: 0}\n",
       ".dl-inline>dt, .dl-inline>dd {float: none; width: auto; display: inline-block}\n",
       ".dl-inline>dt::after {content: \":\\0020\"; padding-right: .5ex}\n",
       ".dl-inline>dt:not(:first-of-type) {padding-left: .5ex}\n",
       "</style><dl class=dl-inline><dt>심각하지 않은 심장발작</dt><dd>64</dd><dt>심각한 심장 발작</dt><dd>42</dd></dl>\n"
      ],
      "text/latex": [
       "\\begin{description*}\n",
       "\\item[심각하지 않은 심장발작] 64\n",
       "\\item[심각한 심장 발작] 42\n",
       "\\end{description*}\n"
      ],
      "text/markdown": [
       "심각하지 않은 심장발작\n",
       ":   64심각한 심장 발작\n",
       ":   42\n",
       "\n"
      ],
      "text/plain": [
       "심각하지 않은 심장발작       심각한 심장 발작 \n",
       "                    64                     42 "
      ]
     },
     "metadata": {},
     "output_type": "display_data"
    }
   ],
   "source": [
    "table1"
   ]
  },
  {
   "cell_type": "code",
   "execution_count": 38,
   "id": "ab0970c8",
   "metadata": {},
   "outputs": [],
   "source": [
    "table2 = prop.table(table1)"
   ]
  },
  {
   "cell_type": "code",
   "execution_count": 39,
   "id": "a72023ee",
   "metadata": {},
   "outputs": [
    {
     "data": {
      "text/html": [
       "<style>\n",
       ".dl-inline {width: auto; margin:0; padding: 0}\n",
       ".dl-inline>dt, .dl-inline>dd {float: none; width: auto; display: inline-block}\n",
       ".dl-inline>dt::after {content: \":\\0020\"; padding-right: .5ex}\n",
       ".dl-inline>dt:not(:first-of-type) {padding-left: .5ex}\n",
       "</style><dl class=dl-inline><dt>심각하지 않은 심장발작</dt><dd>0.60377358490566</dd><dt>심각한 심장 발작</dt><dd>0.39622641509434</dd></dl>\n"
      ],
      "text/latex": [
       "\\begin{description*}\n",
       "\\item[심각하지 않은 심장발작] 0.60377358490566\n",
       "\\item[심각한 심장 발작] 0.39622641509434\n",
       "\\end{description*}\n"
      ],
      "text/markdown": [
       "심각하지 않은 심장발작\n",
       ":   0.60377358490566심각한 심장 발작\n",
       ":   0.39622641509434\n",
       "\n"
      ],
      "text/plain": [
       "심각하지 않은 심장발작       심각한 심장 발작 \n",
       "             0.6037736              0.3962264 "
      ]
     },
     "metadata": {},
     "output_type": "display_data"
    }
   ],
   "source": [
    "table2"
   ]
  },
  {
   "cell_type": "code",
   "execution_count": 40,
   "id": "c91670d7",
   "metadata": {},
   "outputs": [
    {
     "data": {
      "image/png": "[encoded data removed]",
      "text/plain": [
       "plot without title"
      ]
     },
     "metadata": {
      "image/png": {
       "height": 420,
       "width": 420
      }
     },
     "output_type": "display_data"
    }
   ],
   "source": [
    "barplot(table2)"
   ]
  },
  {
   "cell_type": "code",
   "execution_count": 41,
   "id": "f5e97d34",
   "metadata": {},
   "outputs": [],
   "source": [
    "table1 = margin.table(mat1, 2)"
   ]
  },
  {
   "cell_type": "code",
   "execution_count": 43,
   "id": "30659bbd",
   "metadata": {},
   "outputs": [
    {
     "data": {
      "text/html": [
       "<style>\n",
       ".dl-inline {width: auto; margin:0; padding: 0}\n",
       ".dl-inline>dt, .dl-inline>dd {float: none; width: auto; display: inline-block}\n",
       ".dl-inline>dt::after {content: \":\\0020\"; padding-right: .5ex}\n",
       ".dl-inline>dt:not(:first-of-type) {padding-left: .5ex}\n",
       "</style><dl class=dl-inline><dt>낮은 콜레스테롤</dt><dd>48</dd><dt>중간 콜레스테롤</dt><dd>37</dd><dt>높은 콜레스테롤</dt><dd>21</dd></dl>\n"
      ],
      "text/latex": [
       "\\begin{description*}\n",
       "\\item[낮은 콜레스테롤] 48\n",
       "\\item[중간 콜레스테롤] 37\n",
       "\\item[높은 콜레스테롤] 21\n",
       "\\end{description*}\n"
      ],
      "text/markdown": [
       "낮은 콜레스테롤\n",
       ":   48중간 콜레스테롤\n",
       ":   37높은 콜레스테롤\n",
       ":   21\n",
       "\n"
      ],
      "text/plain": [
       "낮은 콜레스테롤 중간 콜레스테롤 높은 콜레스테롤 \n",
       "             48              37              21 "
      ]
     },
     "metadata": {},
     "output_type": "display_data"
    }
   ],
   "source": [
    "table1"
   ]
  },
  {
   "cell_type": "code",
   "execution_count": 45,
   "id": "8be2b8ca",
   "metadata": {},
   "outputs": [
    {
     "data": {
      "image/png": "[encoded data removed]",
      "text/plain": [
       "plot without title"
      ]
     },
     "metadata": {
      "image/png": {
       "height": 420,
       "width": 420
      }
     },
     "output_type": "display_data"
    }
   ],
   "source": [
    "barplot(prop.table(table1),\n",
    "       las = 1)"
   ]
  },
  {
   "cell_type": "code",
   "execution_count": 46,
   "id": "d6fa4467",
   "metadata": {},
   "outputs": [],
   "source": [
    "total = matrix(c(137, 22, 40, 218, 34, 67, 153, 30, 68), nrow = 3, byrow = T)"
   ]
  },
  {
   "cell_type": "code",
   "execution_count": 47,
   "id": "46fbef21",
   "metadata": {},
   "outputs": [
    {
     "data": {
      "text/html": [
       "<table class=\"dataframe\">\n",
       "<caption>A matrix: 3 × 3 of type dbl</caption>\n",
       "<tbody>\n",
       "\t<tr><td>137</td><td>22</td><td>40</td></tr>\n",
       "\t<tr><td>218</td><td>34</td><td>67</td></tr>\n",
       "\t<tr><td>153</td><td>30</td><td>68</td></tr>\n",
       "</tbody>\n",
       "</table>\n"
      ],
      "text/latex": [
       "A matrix: 3 × 3 of type dbl\n",
       "\\begin{tabular}{lll}\n",
       "\t 137 & 22 & 40\\\\\n",
       "\t 218 & 34 & 67\\\\\n",
       "\t 153 & 30 & 68\\\\\n",
       "\\end{tabular}\n"
      ],
      "text/markdown": [
       "\n",
       "A matrix: 3 × 3 of type dbl\n",
       "\n",
       "| 137 | 22 | 40 |\n",
       "| 218 | 34 | 67 |\n",
       "| 153 | 30 | 68 |\n",
       "\n"
      ],
      "text/plain": [
       "     [,1] [,2] [,3]\n",
       "[1,] 137  22   40  \n",
       "[2,] 218  34   67  \n",
       "[3,] 153  30   68  "
      ]
     },
     "metadata": {},
     "output_type": "display_data"
    }
   ],
   "source": [
    "total"
   ]
  },
  {
   "cell_type": "code",
   "execution_count": 48,
   "id": "eb5d0424",
   "metadata": {},
   "outputs": [],
   "source": [
    "dimnames(total)[[1]] = c('< 25', '25~28','>28')"
   ]
  },
  {
   "cell_type": "code",
   "execution_count": 49,
   "id": "2808ca6d",
   "metadata": {},
   "outputs": [
    {
     "data": {
      "text/html": [
       "<table class=\"dataframe\">\n",
       "<caption>A matrix: 3 × 3 of type dbl</caption>\n",
       "<tbody>\n",
       "\t<tr><th scope=row>&lt; 25</th><td>137</td><td>22</td><td>40</td></tr>\n",
       "\t<tr><th scope=row>25~28</th><td>218</td><td>34</td><td>67</td></tr>\n",
       "\t<tr><th scope=row>&gt;28</th><td>153</td><td>30</td><td>68</td></tr>\n",
       "</tbody>\n",
       "</table>\n"
      ],
      "text/latex": [
       "A matrix: 3 × 3 of type dbl\n",
       "\\begin{tabular}{r|lll}\n",
       "\t< 25 & 137 & 22 & 40\\\\\n",
       "\t25\\textasciitilde{}28 & 218 & 34 & 67\\\\\n",
       "\t>28 & 153 & 30 & 68\\\\\n",
       "\\end{tabular}\n"
      ],
      "text/markdown": [
       "\n",
       "A matrix: 3 × 3 of type dbl\n",
       "\n",
       "| &lt; 25 | 137 | 22 | 40 |\n",
       "| 25~28 | 218 | 34 | 67 |\n",
       "| &gt;28 | 153 | 30 | 68 |\n",
       "\n"
      ],
      "text/plain": [
       "      [,1] [,2] [,3]\n",
       "< 25  137  22   40  \n",
       "25~28 218  34   67  \n",
       ">28   153  30   68  "
      ]
     },
     "metadata": {},
     "output_type": "display_data"
    }
   ],
   "source": [
    "total"
   ]
  },
  {
   "cell_type": "code",
   "execution_count": 50,
   "id": "6c64072b",
   "metadata": {},
   "outputs": [],
   "source": [
    "dimnames(total)[[2]] = c('이상 없음','이마','정수리')"
   ]
  },
  {
   "cell_type": "code",
   "execution_count": 51,
   "id": "8cd32d9f",
   "metadata": {},
   "outputs": [
    {
     "data": {
      "text/html": [
       "<table class=\"dataframe\">\n",
       "<caption>A matrix: 3 × 3 of type dbl</caption>\n",
       "<thead>\n",
       "\t<tr><th></th><th scope=col>이상 없음</th><th scope=col>이마</th><th scope=col>정수리</th></tr>\n",
       "</thead>\n",
       "<tbody>\n",
       "\t<tr><th scope=row>&lt; 25</th><td>137</td><td>22</td><td>40</td></tr>\n",
       "\t<tr><th scope=row>25~28</th><td>218</td><td>34</td><td>67</td></tr>\n",
       "\t<tr><th scope=row>&gt;28</th><td>153</td><td>30</td><td>68</td></tr>\n",
       "</tbody>\n",
       "</table>\n"
      ],
      "text/latex": [
       "A matrix: 3 × 3 of type dbl\n",
       "\\begin{tabular}{r|lll}\n",
       "  & 이상 없음 & 이마 & 정수리\\\\\n",
       "\\hline\n",
       "\t< 25 & 137 & 22 & 40\\\\\n",
       "\t25\\textasciitilde{}28 & 218 & 34 & 67\\\\\n",
       "\t>28 & 153 & 30 & 68\\\\\n",
       "\\end{tabular}\n"
      ],
      "text/markdown": [
       "\n",
       "A matrix: 3 × 3 of type dbl\n",
       "\n",
       "| <!--/--> | 이상 없음 | 이마 | 정수리 |\n",
       "|---|---|---|---|\n",
       "| &lt; 25 | 137 | 22 | 40 |\n",
       "| 25~28 | 218 | 34 | 67 |\n",
       "| &gt;28 | 153 | 30 | 68 |\n",
       "\n"
      ],
      "text/plain": [
       "      이상 없음 이마 정수리\n",
       "< 25  137       22   40    \n",
       "25~28 218       34   67    \n",
       ">28   153       30   68    "
      ]
     },
     "metadata": {},
     "output_type": "display_data"
    }
   ],
   "source": [
    "total"
   ]
  },
  {
   "cell_type": "code",
   "execution_count": 52,
   "id": "528cb6db",
   "metadata": {},
   "outputs": [],
   "source": [
    "table = margin.table(total, 1)"
   ]
  },
  {
   "cell_type": "code",
   "execution_count": 53,
   "id": "615e7788",
   "metadata": {},
   "outputs": [
    {
     "data": {
      "text/html": [
       "<style>\n",
       ".dl-inline {width: auto; margin:0; padding: 0}\n",
       ".dl-inline>dt, .dl-inline>dd {float: none; width: auto; display: inline-block}\n",
       ".dl-inline>dt::after {content: \":\\0020\"; padding-right: .5ex}\n",
       ".dl-inline>dt:not(:first-of-type) {padding-left: .5ex}\n",
       "</style><dl class=dl-inline><dt>&lt; 25</dt><dd>199</dd><dt>25~28</dt><dd>319</dd><dt>&gt;28</dt><dd>251</dd></dl>\n"
      ],
      "text/latex": [
       "\\begin{description*}\n",
       "\\item[< 25] 199\n",
       "\\item[25\\textbackslash{}textasciitilde\\{\\}28] 319\n",
       "\\item[>28] 251\n",
       "\\end{description*}\n"
      ],
      "text/markdown": [
       "&amp;lt; 25\n",
       ":   19925~28\n",
       ":   319&amp;gt;28\n",
       ":   251\n",
       "\n"
      ],
      "text/plain": [
       " < 25 25~28   >28 \n",
       "  199   319   251 "
      ]
     },
     "metadata": {},
     "output_type": "display_data"
    }
   ],
   "source": [
    "table"
   ]
  },
  {
   "cell_type": "code",
   "execution_count": 55,
   "id": "0b9fc66f",
   "metadata": {},
   "outputs": [
    {
     "data": {
      "image/png": "[encoded data removed]",
      "text/plain": [
       "plot without title"
      ]
     },
     "metadata": {
      "image/png": {
       "height": 420,
       "width": 420
      }
     },
     "output_type": "display_data"
    }
   ],
   "source": [
    "barplot(prop.table(table),\n",
    "       las = 1)"
   ]
  },
  {
   "cell_type": "code",
   "execution_count": 59,
   "id": "efd18c49",
   "metadata": {},
   "outputs": [],
   "source": [
    "table = margin.table(total, 2)"
   ]
  },
  {
   "cell_type": "code",
   "execution_count": 58,
   "id": "720e3b8e",
   "metadata": {},
   "outputs": [
    {
     "data": {
      "text/html": [
       "<table class=\"dataframe\">\n",
       "<caption>A matrix: 3 × 3 of type dbl</caption>\n",
       "<thead>\n",
       "\t<tr><th></th><th scope=col>이상 없음</th><th scope=col>이마</th><th scope=col>정수리</th></tr>\n",
       "</thead>\n",
       "<tbody>\n",
       "\t<tr><th scope=row>&lt; 25</th><td>137</td><td>22</td><td>40</td></tr>\n",
       "\t<tr><th scope=row>25~28</th><td>218</td><td>34</td><td>67</td></tr>\n",
       "\t<tr><th scope=row>&gt;28</th><td>153</td><td>30</td><td>68</td></tr>\n",
       "</tbody>\n",
       "</table>\n"
      ],
      "text/latex": [
       "A matrix: 3 × 3 of type dbl\n",
       "\\begin{tabular}{r|lll}\n",
       "  & 이상 없음 & 이마 & 정수리\\\\\n",
       "\\hline\n",
       "\t< 25 & 137 & 22 & 40\\\\\n",
       "\t25\\textasciitilde{}28 & 218 & 34 & 67\\\\\n",
       "\t>28 & 153 & 30 & 68\\\\\n",
       "\\end{tabular}\n"
      ],
      "text/markdown": [
       "\n",
       "A matrix: 3 × 3 of type dbl\n",
       "\n",
       "| <!--/--> | 이상 없음 | 이마 | 정수리 |\n",
       "|---|---|---|---|\n",
       "| &lt; 25 | 137 | 22 | 40 |\n",
       "| 25~28 | 218 | 34 | 67 |\n",
       "| &gt;28 | 153 | 30 | 68 |\n",
       "\n"
      ],
      "text/plain": [
       "      이상 없음 이마 정수리\n",
       "< 25  137       22   40    \n",
       "25~28 218       34   67    \n",
       ">28   153       30   68    "
      ]
     },
     "metadata": {},
     "output_type": "display_data"
    }
   ],
   "source": [
    "total"
   ]
  },
  {
   "cell_type": "code",
   "execution_count": 60,
   "id": "53eace55",
   "metadata": {},
   "outputs": [
    {
     "data": {
      "text/html": [
       "<style>\n",
       ".dl-inline {width: auto; margin:0; padding: 0}\n",
       ".dl-inline>dt, .dl-inline>dd {float: none; width: auto; display: inline-block}\n",
       ".dl-inline>dt::after {content: \":\\0020\"; padding-right: .5ex}\n",
       ".dl-inline>dt:not(:first-of-type) {padding-left: .5ex}\n",
       "</style><dl class=dl-inline><dt>이상 없음</dt><dd>508</dd><dt>이마</dt><dd>86</dd><dt>정수리</dt><dd>175</dd></dl>\n"
      ],
      "text/latex": [
       "\\begin{description*}\n",
       "\\item[이상 없음] 508\n",
       "\\item[이마] 86\n",
       "\\item[정수리] 175\n",
       "\\end{description*}\n"
      ],
      "text/markdown": [
       "이상 없음\n",
       ":   508이마\n",
       ":   86정수리\n",
       ":   175\n",
       "\n"
      ],
      "text/plain": [
       "이상 없음      이마    정수리 \n",
       "      508        86       175 "
      ]
     },
     "metadata": {},
     "output_type": "display_data"
    }
   ],
   "source": [
    "table"
   ]
  },
  {
   "cell_type": "code",
   "execution_count": 61,
   "id": "efaa482a",
   "metadata": {},
   "outputs": [
    {
     "data": {
      "text/html": [
       "<style>\n",
       ".dl-inline {width: auto; margin:0; padding: 0}\n",
       ".dl-inline>dt, .dl-inline>dd {float: none; width: auto; display: inline-block}\n",
       ".dl-inline>dt::after {content: \":\\0020\"; padding-right: .5ex}\n",
       ".dl-inline>dt:not(:first-of-type) {padding-left: .5ex}\n",
       "</style><dl class=dl-inline><dt>이상 없음</dt><dd>508</dd><dt>이마</dt><dd>86</dd><dt>정수리</dt><dd>175</dd></dl>\n"
      ],
      "text/latex": [
       "\\begin{description*}\n",
       "\\item[이상 없음] 508\n",
       "\\item[이마] 86\n",
       "\\item[정수리] 175\n",
       "\\end{description*}\n"
      ],
      "text/markdown": [
       "이상 없음\n",
       ":   508이마\n",
       ":   86정수리\n",
       ":   175\n",
       "\n"
      ],
      "text/plain": [
       "이상 없음      이마    정수리 \n",
       "      508        86       175 "
      ]
     },
     "metadata": {},
     "output_type": "display_data"
    }
   ],
   "source": [
    "table"
   ]
  },
  {
   "cell_type": "code",
   "execution_count": 62,
   "id": "974ca4cb",
   "metadata": {},
   "outputs": [
    {
     "data": {
      "image/png": "[encoded data removed]",
      "text/plain": [
       "plot without title"
      ]
     },
     "metadata": {
      "image/png": {
       "height": 420,
       "width": 420
      }
     },
     "output_type": "display_data"
    }
   ],
   "source": [
    "barplot(prop.table(table), las = 1)"
   ]
  },
  {
   "cell_type": "code",
   "execution_count": 68,
   "id": "1a3a8e56",
   "metadata": {},
   "outputs": [
    {
     "data": {
      "image/png": "[encoded data removed]",
      "text/plain": [
       "Plot with title \"신체 용적 지수 그래프\""
      ]
     },
     "metadata": {
      "image/png": {
       "height": 420,
       "width": 420
      }
     },
     "output_type": "display_data"
    }
   ],
   "source": [
    "barplot(t(total),\n",
    "       main = '신체 용적 지수 그래프',\n",
    "       las = 1,\n",
    "       legend.text = T,\n",
    "       args.legend = list(bty = 'n'),\n",
    "       beside = T,\n",
    "       xlab = '신체 용적 지수',\n",
    "       ylab = '비율')"
   ]
  },
  {
   "cell_type": "code",
   "execution_count": 72,
   "id": "92189aa7",
   "metadata": {},
   "outputs": [
    {
     "data": {
      "image/png": "[encoded data removed]",
      "text/plain": [
       "Plot with title \"신체 용적 지수 그래프\""
      ]
     },
     "metadata": {
      "image/png": {
       "height": 420,
       "width": 420
      }
     },
     "output_type": "display_data"
    }
   ],
   "source": [
    "barplot(t(prop.table(total, 1)),\n",
    "       main = '신체 용적 지수 그래프',\n",
    "       las = 1,\n",
    "       legend.text = T,\n",
    "       args.legend = list(bty = 'y'),\n",
    "       beside = T,\n",
    "       xlab = '신체 용적 지수',\n",
    "       ylab = '비율')"
   ]
  },
  {
   "cell_type": "code",
   "execution_count": 77,
   "id": "d6895658",
   "metadata": {},
   "outputs": [
    {
     "data": {
      "image/png": "[encoded data removed]",
      "text/plain": [
       "plot without title"
      ]
     },
     "metadata": {
      "image/png": {
       "height": 420,
       "width": 420
      }
     },
     "output_type": "display_data"
    }
   ],
   "source": [
    "barplot(t(total),\n",
    "       legend.text = c('none','fore','crown'),\n",
    "       col = c('pink','orange','red'))"
   ]
  },
  {
   "cell_type": "code",
   "execution_count": null,
   "id": "a15db9ac",
   "metadata": {},
   "outputs": [],
   "source": []
  }
 ],
 "metadata": {
  "kernelspec": {
   "display_name": "R",
   "language": "R",
   "name": "ir"
  },
  "language_info": {
   "codemirror_mode": "r",
   "file_extension": ".r",
   "mimetype": "text/x-r-source",
   "name": "R",
   "pygments_lexer": "r",
   "version": "4.3.1"
  }
 },
 "nbformat": 4,
 "nbformat_minor": 5
}
