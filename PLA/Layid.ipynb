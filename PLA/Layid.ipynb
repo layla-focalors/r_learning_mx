{
 "cells": [
  {
   "cell_type": "code",
   "execution_count": 1,
   "id": "aeb330c4",
   "metadata": {},
   "outputs": [],
   "source": [
    "total = c(rep('A', 8), rep('B', 14), rep('C', 8))"
   ]
  },
  {
   "cell_type": "code",
   "execution_count": 2,
   "id": "6eb99dd5",
   "metadata": {},
   "outputs": [
    {
     "data": {
      "text/html": [
       "<style>\n",
       ".list-inline {list-style: none; margin:0; padding: 0}\n",
       ".list-inline>li {display: inline-block}\n",
       ".list-inline>li:not(:last-child)::after {content: \"\\00b7\"; padding: 0 .5ex}\n",
       "</style>\n",
       "<ol class=list-inline><li>'A'</li><li>'A'</li><li>'A'</li><li>'A'</li><li>'A'</li><li>'A'</li><li>'A'</li><li>'A'</li><li>'B'</li><li>'B'</li><li>'B'</li><li>'B'</li><li>'B'</li><li>'B'</li><li>'B'</li><li>'B'</li><li>'B'</li><li>'B'</li><li>'B'</li><li>'B'</li><li>'B'</li><li>'B'</li><li>'C'</li><li>'C'</li><li>'C'</li><li>'C'</li><li>'C'</li><li>'C'</li><li>'C'</li><li>'C'</li></ol>\n"
      ],
      "text/latex": [
       "\\begin{enumerate*}\n",
       "\\item 'A'\n",
       "\\item 'A'\n",
       "\\item 'A'\n",
       "\\item 'A'\n",
       "\\item 'A'\n",
       "\\item 'A'\n",
       "\\item 'A'\n",
       "\\item 'A'\n",
       "\\item 'B'\n",
       "\\item 'B'\n",
       "\\item 'B'\n",
       "\\item 'B'\n",
       "\\item 'B'\n",
       "\\item 'B'\n",
       "\\item 'B'\n",
       "\\item 'B'\n",
       "\\item 'B'\n",
       "\\item 'B'\n",
       "\\item 'B'\n",
       "\\item 'B'\n",
       "\\item 'B'\n",
       "\\item 'B'\n",
       "\\item 'C'\n",
       "\\item 'C'\n",
       "\\item 'C'\n",
       "\\item 'C'\n",
       "\\item 'C'\n",
       "\\item 'C'\n",
       "\\item 'C'\n",
       "\\item 'C'\n",
       "\\end{enumerate*}\n"
      ],
      "text/markdown": [
       "1. 'A'\n",
       "2. 'A'\n",
       "3. 'A'\n",
       "4. 'A'\n",
       "5. 'A'\n",
       "6. 'A'\n",
       "7. 'A'\n",
       "8. 'A'\n",
       "9. 'B'\n",
       "10. 'B'\n",
       "11. 'B'\n",
       "12. 'B'\n",
       "13. 'B'\n",
       "14. 'B'\n",
       "15. 'B'\n",
       "16. 'B'\n",
       "17. 'B'\n",
       "18. 'B'\n",
       "19. 'B'\n",
       "20. 'B'\n",
       "21. 'B'\n",
       "22. 'B'\n",
       "23. 'C'\n",
       "24. 'C'\n",
       "25. 'C'\n",
       "26. 'C'\n",
       "27. 'C'\n",
       "28. 'C'\n",
       "29. 'C'\n",
       "30. 'C'\n",
       "\n",
       "\n"
      ],
      "text/plain": [
       " [1] \"A\" \"A\" \"A\" \"A\" \"A\" \"A\" \"A\" \"A\" \"B\" \"B\" \"B\" \"B\" \"B\" \"B\" \"B\" \"B\" \"B\" \"B\" \"B\"\n",
       "[20] \"B\" \"B\" \"B\" \"C\" \"C\" \"C\" \"C\" \"C\" \"C\" \"C\" \"C\""
      ]
     },
     "metadata": {},
     "output_type": "display_data"
    }
   ],
   "source": [
    "total"
   ]
  },
  {
   "cell_type": "code",
   "execution_count": 3,
   "id": "985a7c46",
   "metadata": {},
   "outputs": [
    {
     "data": {
      "text/plain": [
       "total\n",
       " A  B  C \n",
       " 8 14  8 "
      ]
     },
     "metadata": {},
     "output_type": "display_data"
    }
   ],
   "source": [
    "table(total)"
   ]
  },
  {
   "cell_type": "code",
   "execution_count": 4,
   "id": "da3cedea",
   "metadata": {},
   "outputs": [
    {
     "data": {
      "image/png": "[encoded data removed]",
      "text/plain": [
       "plot without title"
      ]
     },
     "metadata": {
      "image/png": {
       "height": 420,
       "width": 420
      }
     },
     "output_type": "display_data"
    }
   ],
   "source": [
    "barplot(table(total), horiz = T)"
   ]
  },
  {
   "cell_type": "code",
   "execution_count": 5,
   "id": "23c4fbae",
   "metadata": {},
   "outputs": [
    {
     "data": {
      "image/png": "[encoded data removed]",
      "text/plain": [
       "plot without title"
      ]
     },
     "metadata": {
      "image/png": {
       "height": 420,
       "width": 420
      }
     },
     "output_type": "display_data"
    }
   ],
   "source": [
    "pie(table(total))"
   ]
  },
  {
   "cell_type": "code",
   "execution_count": 6,
   "id": "737c5ec2",
   "metadata": {},
   "outputs": [],
   "source": [
    "node = c(rep('찢어짐', 22), rep('구멍 뚫림', 15), rep('잘못 접혀짐', 5), rep('기타', 8))"
   ]
  },
  {
   "cell_type": "code",
   "execution_count": 7,
   "id": "61772250",
   "metadata": {},
   "outputs": [
    {
     "data": {
      "text/html": [
       "<style>\n",
       ".list-inline {list-style: none; margin:0; padding: 0}\n",
       ".list-inline>li {display: inline-block}\n",
       ".list-inline>li:not(:last-child)::after {content: \"\\00b7\"; padding: 0 .5ex}\n",
       "</style>\n",
       "<ol class=list-inline><li>'찢어짐'</li><li>'찢어짐'</li><li>'찢어짐'</li><li>'찢어짐'</li><li>'찢어짐'</li><li>'찢어짐'</li><li>'찢어짐'</li><li>'찢어짐'</li><li>'찢어짐'</li><li>'찢어짐'</li><li>'찢어짐'</li><li>'찢어짐'</li><li>'찢어짐'</li><li>'찢어짐'</li><li>'찢어짐'</li><li>'찢어짐'</li><li>'찢어짐'</li><li>'찢어짐'</li><li>'찢어짐'</li><li>'찢어짐'</li><li>'찢어짐'</li><li>'찢어짐'</li><li>'구멍 뚫림'</li><li>'구멍 뚫림'</li><li>'구멍 뚫림'</li><li>'구멍 뚫림'</li><li>'구멍 뚫림'</li><li>'구멍 뚫림'</li><li>'구멍 뚫림'</li><li>'구멍 뚫림'</li><li>'구멍 뚫림'</li><li>'구멍 뚫림'</li><li>'구멍 뚫림'</li><li>'구멍 뚫림'</li><li>'구멍 뚫림'</li><li>'구멍 뚫림'</li><li>'구멍 뚫림'</li><li>'잘못 접혀짐'</li><li>'잘못 접혀짐'</li><li>'잘못 접혀짐'</li><li>'잘못 접혀짐'</li><li>'잘못 접혀짐'</li><li>'기타'</li><li>'기타'</li><li>'기타'</li><li>'기타'</li><li>'기타'</li><li>'기타'</li><li>'기타'</li><li>'기타'</li></ol>\n"
      ],
      "text/latex": [
       "\\begin{enumerate*}\n",
       "\\item '찢어짐'\n",
       "\\item '찢어짐'\n",
       "\\item '찢어짐'\n",
       "\\item '찢어짐'\n",
       "\\item '찢어짐'\n",
       "\\item '찢어짐'\n",
       "\\item '찢어짐'\n",
       "\\item '찢어짐'\n",
       "\\item '찢어짐'\n",
       "\\item '찢어짐'\n",
       "\\item '찢어짐'\n",
       "\\item '찢어짐'\n",
       "\\item '찢어짐'\n",
       "\\item '찢어짐'\n",
       "\\item '찢어짐'\n",
       "\\item '찢어짐'\n",
       "\\item '찢어짐'\n",
       "\\item '찢어짐'\n",
       "\\item '찢어짐'\n",
       "\\item '찢어짐'\n",
       "\\item '찢어짐'\n",
       "\\item '찢어짐'\n",
       "\\item '구멍 뚫림'\n",
       "\\item '구멍 뚫림'\n",
       "\\item '구멍 뚫림'\n",
       "\\item '구멍 뚫림'\n",
       "\\item '구멍 뚫림'\n",
       "\\item '구멍 뚫림'\n",
       "\\item '구멍 뚫림'\n",
       "\\item '구멍 뚫림'\n",
       "\\item '구멍 뚫림'\n",
       "\\item '구멍 뚫림'\n",
       "\\item '구멍 뚫림'\n",
       "\\item '구멍 뚫림'\n",
       "\\item '구멍 뚫림'\n",
       "\\item '구멍 뚫림'\n",
       "\\item '구멍 뚫림'\n",
       "\\item '잘못 접혀짐'\n",
       "\\item '잘못 접혀짐'\n",
       "\\item '잘못 접혀짐'\n",
       "\\item '잘못 접혀짐'\n",
       "\\item '잘못 접혀짐'\n",
       "\\item '기타'\n",
       "\\item '기타'\n",
       "\\item '기타'\n",
       "\\item '기타'\n",
       "\\item '기타'\n",
       "\\item '기타'\n",
       "\\item '기타'\n",
       "\\item '기타'\n",
       "\\end{enumerate*}\n"
      ],
      "text/markdown": [
       "1. '찢어짐'\n",
       "2. '찢어짐'\n",
       "3. '찢어짐'\n",
       "4. '찢어짐'\n",
       "5. '찢어짐'\n",
       "6. '찢어짐'\n",
       "7. '찢어짐'\n",
       "8. '찢어짐'\n",
       "9. '찢어짐'\n",
       "10. '찢어짐'\n",
       "11. '찢어짐'\n",
       "12. '찢어짐'\n",
       "13. '찢어짐'\n",
       "14. '찢어짐'\n",
       "15. '찢어짐'\n",
       "16. '찢어짐'\n",
       "17. '찢어짐'\n",
       "18. '찢어짐'\n",
       "19. '찢어짐'\n",
       "20. '찢어짐'\n",
       "21. '찢어짐'\n",
       "22. '찢어짐'\n",
       "23. '구멍 뚫림'\n",
       "24. '구멍 뚫림'\n",
       "25. '구멍 뚫림'\n",
       "26. '구멍 뚫림'\n",
       "27. '구멍 뚫림'\n",
       "28. '구멍 뚫림'\n",
       "29. '구멍 뚫림'\n",
       "30. '구멍 뚫림'\n",
       "31. '구멍 뚫림'\n",
       "32. '구멍 뚫림'\n",
       "33. '구멍 뚫림'\n",
       "34. '구멍 뚫림'\n",
       "35. '구멍 뚫림'\n",
       "36. '구멍 뚫림'\n",
       "37. '구멍 뚫림'\n",
       "38. '잘못 접혀짐'\n",
       "39. '잘못 접혀짐'\n",
       "40. '잘못 접혀짐'\n",
       "41. '잘못 접혀짐'\n",
       "42. '잘못 접혀짐'\n",
       "43. '기타'\n",
       "44. '기타'\n",
       "45. '기타'\n",
       "46. '기타'\n",
       "47. '기타'\n",
       "48. '기타'\n",
       "49. '기타'\n",
       "50. '기타'\n",
       "\n",
       "\n"
      ],
      "text/plain": [
       " [1] \"찢어짐\"      \"찢어짐\"      \"찢어짐\"      \"찢어짐\"      \"찢어짐\"     \n",
       " [6] \"찢어짐\"      \"찢어짐\"      \"찢어짐\"      \"찢어짐\"      \"찢어짐\"     \n",
       "[11] \"찢어짐\"      \"찢어짐\"      \"찢어짐\"      \"찢어짐\"      \"찢어짐\"     \n",
       "[16] \"찢어짐\"      \"찢어짐\"      \"찢어짐\"      \"찢어짐\"      \"찢어짐\"     \n",
       "[21] \"찢어짐\"      \"찢어짐\"      \"구멍 뚫림\"   \"구멍 뚫림\"   \"구멍 뚫림\"  \n",
       "[26] \"구멍 뚫림\"   \"구멍 뚫림\"   \"구멍 뚫림\"   \"구멍 뚫림\"   \"구멍 뚫림\"  \n",
       "[31] \"구멍 뚫림\"   \"구멍 뚫림\"   \"구멍 뚫림\"   \"구멍 뚫림\"   \"구멍 뚫림\"  \n",
       "[36] \"구멍 뚫림\"   \"구멍 뚫림\"   \"잘못 접혀짐\" \"잘못 접혀짐\" \"잘못 접혀짐\"\n",
       "[41] \"잘못 접혀짐\" \"잘못 접혀짐\" \"기타\"        \"기타\"        \"기타\"       \n",
       "[46] \"기타\"        \"기타\"        \"기타\"        \"기타\"        \"기타\"       "
      ]
     },
     "metadata": {},
     "output_type": "display_data"
    }
   ],
   "source": [
    "node"
   ]
  },
  {
   "cell_type": "code",
   "execution_count": 8,
   "id": "99a1cda0",
   "metadata": {},
   "outputs": [
    {
     "data": {
      "text/plain": [
       "node\n",
       "  구멍 뚫림        기타 잘못 접혀짐      찢어짐 \n",
       "         15           8           5          22 "
      ]
     },
     "metadata": {},
     "output_type": "display_data"
    }
   ],
   "source": [
    "table(node)"
   ]
  },
  {
   "cell_type": "code",
   "execution_count": 9,
   "id": "0eef6e0d",
   "metadata": {},
   "outputs": [],
   "source": [
    "x = table(node)"
   ]
  },
  {
   "cell_type": "code",
   "execution_count": 10,
   "id": "e47257f0",
   "metadata": {},
   "outputs": [],
   "source": [
    "freq = prop.table(x)"
   ]
  },
  {
   "cell_type": "code",
   "execution_count": 11,
   "id": "a0d95a7f",
   "metadata": {},
   "outputs": [
    {
     "data": {
      "text/plain": [
       "node\n",
       "  구멍 뚫림        기타 잘못 접혀짐      찢어짐 \n",
       "       0.30        0.16        0.10        0.44 "
      ]
     },
     "metadata": {},
     "output_type": "display_data"
    }
   ],
   "source": [
    "freq"
   ]
  },
  {
   "cell_type": "code",
   "execution_count": 12,
   "id": "622f97d5",
   "metadata": {},
   "outputs": [
    {
     "data": {
      "text/html": [
       "<style>\n",
       ".dl-inline {width: auto; margin:0; padding: 0}\n",
       ".dl-inline>dt, .dl-inline>dd {float: none; width: auto; display: inline-block}\n",
       ".dl-inline>dt::after {content: \":\\0020\"; padding-right: .5ex}\n",
       ".dl-inline>dt:not(:first-of-type) {padding-left: .5ex}\n",
       "</style><dl class=dl-inline><dt>구멍 뚫림</dt><dd>0.3</dd><dt>기타</dt><dd>0.46</dd><dt>잘못 접혀짐</dt><dd>0.56</dd><dt>찢어짐</dt><dd>1</dd></dl>\n"
      ],
      "text/latex": [
       "\\begin{description*}\n",
       "\\item[구멍 뚫림] 0.3\n",
       "\\item[기타] 0.46\n",
       "\\item[잘못 접혀짐] 0.56\n",
       "\\item[찢어짐] 1\n",
       "\\end{description*}\n"
      ],
      "text/markdown": [
       "구멍 뚫림\n",
       ":   0.3기타\n",
       ":   0.46잘못 접혀짐\n",
       ":   0.56찢어짐\n",
       ":   1\n",
       "\n"
      ],
      "text/plain": [
       "  구멍 뚫림        기타 잘못 접혀짐      찢어짐 \n",
       "       0.30        0.46        0.56        1.00 "
      ]
     },
     "metadata": {},
     "output_type": "display_data"
    }
   ],
   "source": [
    "fx = cumsum(freq)\n",
    "fx"
   ]
  },
  {
   "cell_type": "code",
   "execution_count": 13,
   "id": "065f9aec",
   "metadata": {},
   "outputs": [
    {
     "data": {
      "text/html": [
       "<table class=\"dataframe\">\n",
       "<caption>A matrix: 4 × 3 of type dbl</caption>\n",
       "<thead>\n",
       "\t<tr><th></th><th scope=col>x</th><th scope=col>freq</th><th scope=col>fx</th></tr>\n",
       "</thead>\n",
       "<tbody>\n",
       "\t<tr><th scope=row>구멍 뚫림</th><td>15</td><td>0.30</td><td>0.30</td></tr>\n",
       "\t<tr><th scope=row>기타</th><td> 8</td><td>0.16</td><td>0.46</td></tr>\n",
       "\t<tr><th scope=row>잘못 접혀짐</th><td> 5</td><td>0.10</td><td>0.56</td></tr>\n",
       "\t<tr><th scope=row>찢어짐</th><td>22</td><td>0.44</td><td>1.00</td></tr>\n",
       "</tbody>\n",
       "</table>\n"
      ],
      "text/latex": [
       "A matrix: 4 × 3 of type dbl\n",
       "\\begin{tabular}{r|lll}\n",
       "  & x & freq & fx\\\\\n",
       "\\hline\n",
       "\t구멍 뚫림 & 15 & 0.30 & 0.30\\\\\n",
       "\t기타 &  8 & 0.16 & 0.46\\\\\n",
       "\t잘못 접혀짐 &  5 & 0.10 & 0.56\\\\\n",
       "\t찢어짐 & 22 & 0.44 & 1.00\\\\\n",
       "\\end{tabular}\n"
      ],
      "text/markdown": [
       "\n",
       "A matrix: 4 × 3 of type dbl\n",
       "\n",
       "| <!--/--> | x | freq | fx |\n",
       "|---|---|---|---|\n",
       "| 구멍 뚫림 | 15 | 0.30 | 0.30 |\n",
       "| 기타 |  8 | 0.16 | 0.46 |\n",
       "| 잘못 접혀짐 |  5 | 0.10 | 0.56 |\n",
       "| 찢어짐 | 22 | 0.44 | 1.00 |\n",
       "\n"
      ],
      "text/plain": [
       "            x  freq fx  \n",
       "구멍 뚫림   15 0.30 0.30\n",
       "기타         8 0.16 0.46\n",
       "잘못 접혀짐  5 0.10 0.56\n",
       "찢어짐      22 0.44 1.00"
      ]
     },
     "metadata": {},
     "output_type": "display_data"
    }
   ],
   "source": [
    "cbind(x, freq, fx)"
   ]
  },
  {
   "cell_type": "code",
   "execution_count": 14,
   "id": "8a69e10c",
   "metadata": {},
   "outputs": [],
   "source": [
    "res = c(rep('예', 6), rep('아니요', 4))"
   ]
  },
  {
   "cell_type": "code",
   "execution_count": 15,
   "id": "2634fe84",
   "metadata": {},
   "outputs": [
    {
     "data": {
      "text/html": [
       "<style>\n",
       ".list-inline {list-style: none; margin:0; padding: 0}\n",
       ".list-inline>li {display: inline-block}\n",
       ".list-inline>li:not(:last-child)::after {content: \"\\00b7\"; padding: 0 .5ex}\n",
       "</style>\n",
       "<ol class=list-inline><li>'예'</li><li>'예'</li><li>'예'</li><li>'예'</li><li>'예'</li><li>'예'</li><li>'아니요'</li><li>'아니요'</li><li>'아니요'</li><li>'아니요'</li></ol>\n"
      ],
      "text/latex": [
       "\\begin{enumerate*}\n",
       "\\item '예'\n",
       "\\item '예'\n",
       "\\item '예'\n",
       "\\item '예'\n",
       "\\item '예'\n",
       "\\item '예'\n",
       "\\item '아니요'\n",
       "\\item '아니요'\n",
       "\\item '아니요'\n",
       "\\item '아니요'\n",
       "\\end{enumerate*}\n"
      ],
      "text/markdown": [
       "1. '예'\n",
       "2. '예'\n",
       "3. '예'\n",
       "4. '예'\n",
       "5. '예'\n",
       "6. '예'\n",
       "7. '아니요'\n",
       "8. '아니요'\n",
       "9. '아니요'\n",
       "10. '아니요'\n",
       "\n",
       "\n"
      ],
      "text/plain": [
       " [1] \"예\"     \"예\"     \"예\"     \"예\"     \"예\"     \"예\"     \"아니요\" \"아니요\"\n",
       " [9] \"아니요\" \"아니요\""
      ]
     },
     "metadata": {},
     "output_type": "display_data"
    }
   ],
   "source": [
    "res"
   ]
  },
  {
   "cell_type": "code",
   "execution_count": 16,
   "id": "f3c0aa08",
   "metadata": {},
   "outputs": [
    {
     "data": {
      "text/plain": [
       "res\n",
       "아니요     예 \n",
       "     4      6 "
      ]
     },
     "metadata": {},
     "output_type": "display_data"
    }
   ],
   "source": [
    "table(res)"
   ]
  },
  {
   "cell_type": "code",
   "execution_count": 17,
   "id": "a05f4e57",
   "metadata": {},
   "outputs": [
    {
     "data": {
      "image/png": "[encoded data removed]",
      "text/plain": [
       "plot without title"
      ]
     },
     "metadata": {
      "image/png": {
       "height": 420,
       "width": 420
      }
     },
     "output_type": "display_data"
    }
   ],
   "source": [
    "barplot(table(res))"
   ]
  },
  {
   "cell_type": "code",
   "execution_count": 19,
   "id": "4215c49f",
   "metadata": {},
   "outputs": [
    {
     "data": {
      "image/png": "[encoded data removed]",
      "text/plain": [
       "plot without title"
      ]
     },
     "metadata": {
      "image/png": {
       "height": 420,
       "width": 420
      }
     },
     "output_type": "display_data"
    }
   ],
   "source": [
    "pie(table(res))"
   ]
  },
  {
   "cell_type": "code",
   "execution_count": 22,
   "id": "8c58a8b0",
   "metadata": {},
   "outputs": [
    {
     "data": {
      "image/png": "[encoded data removed]",
      "text/plain": [
       "Plot with title \"구매 의사\""
      ]
     },
     "metadata": {
      "image/png": {
       "height": 420,
       "width": 420
      }
     },
     "output_type": "display_data"
    }
   ],
   "source": [
    "barplot(table(res),\n",
    "       horiz = T,\n",
    "       las = 1,\n",
    "       main = '구매 의사',\n",
    "       xlab = 'Frequency',\n",
    "       ylab = '구분')"
   ]
  },
  {
   "cell_type": "code",
   "execution_count": 24,
   "id": "87992c7d",
   "metadata": {},
   "outputs": [
    {
     "data": {
      "image/png": "[encoded data removed]",
      "text/plain": [
       "Plot with title \"구매 의사 원그래프\""
      ]
     },
     "metadata": {
      "image/png": {
       "height": 420,
       "width": 420
      }
     },
     "output_type": "display_data"
    }
   ],
   "source": [
    "pie(table(res),\n",
    "   main = '구매 의사 원그래프',\n",
    "   sub = 'Response')"
   ]
  },
  {
   "cell_type": "code",
   "execution_count": 25,
   "id": "2958ee38",
   "metadata": {},
   "outputs": [
    {
     "data": {
      "text/html": [
       "<table class=\"dataframe\">\n",
       "<caption>A matrix: 2 × 3 of type dbl</caption>\n",
       "<tbody>\n",
       "\t<tr><td>29</td><td>17</td><td>18</td></tr>\n",
       "\t<tr><td>19</td><td>20</td><td> 3</td></tr>\n",
       "</tbody>\n",
       "</table>\n"
      ],
      "text/latex": [
       "A matrix: 2 × 3 of type dbl\n",
       "\\begin{tabular}{lll}\n",
       "\t 29 & 17 & 18\\\\\n",
       "\t 19 & 20 &  3\\\\\n",
       "\\end{tabular}\n"
      ],
      "text/markdown": [
       "\n",
       "A matrix: 2 × 3 of type dbl\n",
       "\n",
       "| 29 | 17 | 18 |\n",
       "| 19 | 20 |  3 |\n",
       "\n"
      ],
      "text/plain": [
       "     [,1] [,2] [,3]\n",
       "[1,] 29   17   18  \n",
       "[2,] 19   20    3  "
      ]
     },
     "metadata": {},
     "output_type": "display_data"
    }
   ],
   "source": [
    "mat1 = matrix(c(29, 17, 18, 19, 20, 3), nrow = 2, byrow = T) \n",
    "mat1"
   ]
  },
  {
   "cell_type": "code",
   "execution_count": 26,
   "id": "567571f6",
   "metadata": {},
   "outputs": [],
   "source": [
    "dimnames(mat1)[[1]] = c('심각하지 않은 심장발작', '심각한 심장 발작')"
   ]
  },
  {
   "cell_type": "code",
   "execution_count": 28,
   "id": "aed1d1c4",
   "metadata": {},
   "outputs": [],
   "source": [
    "dimnames(mat1)[[2]] = c('낮은 콜레스테롤', '중간 콜레스테롤', '높은 콜레스테롤')"
   ]
  },
  {
   "cell_type": "code",
   "execution_count": 29,
   "id": "9376b7e8",
   "metadata": {},
   "outputs": [
    {
     "data": {
      "text/html": [
       "<table class=\"dataframe\">\n",
       "<caption>A matrix: 2 × 3 of type dbl</caption>\n",
       "<thead>\n",
       "\t<tr><th></th><th scope=col>낮은 콜레스테롤</th><th scope=col>중간 콜레스테롤</th><th scope=col>높은 콜레스테롤</th></tr>\n",
       "</thead>\n",
       "<tbody>\n",
       "\t<tr><th scope=row>심각하지 않은 심장발작</th><td>29</td><td>17</td><td>18</td></tr>\n",
       "\t<tr><th scope=row>심각한 심장 발작</th><td>19</td><td>20</td><td> 3</td></tr>\n",
       "</tbody>\n",
       "</table>\n"
      ],
      "text/latex": [
       "A matrix: 2 × 3 of type dbl\n",
       "\\begin{tabular}{r|lll}\n",
       "  & 낮은 콜레스테롤 & 중간 콜레스테롤 & 높은 콜레스테롤\\\\\n",
       "\\hline\n",
       "\t심각하지 않은 심장발작 & 29 & 17 & 18\\\\\n",
       "\t심각한 심장 발작 & 19 & 20 &  3\\\\\n",
       "\\end{tabular}\n"
      ],
      "text/markdown": [
       "\n",
       "A matrix: 2 × 3 of type dbl\n",
       "\n",
       "| <!--/--> | 낮은 콜레스테롤 | 중간 콜레스테롤 | 높은 콜레스테롤 |\n",
       "|---|---|---|---|\n",
       "| 심각하지 않은 심장발작 | 29 | 17 | 18 |\n",
       "| 심각한 심장 발작 | 19 | 20 |  3 |\n",
       "\n"
      ],
      "text/plain": [
       "                       낮은 콜레스테롤 중간 콜레스테롤 높은 콜레스테롤\n",
       "심각하지 않은 심장발작 29              17              18             \n",
       "심각한 심장 발작       19              20               3             "
      ]
     },
     "metadata": {},
     "output_type": "display_data"
    }
   ],
   "source": [
    "mat1"
   ]
  },
  {
   "cell_type": "code",
   "execution_count": 30,
   "id": "9b68a5c5",
   "metadata": {},
   "outputs": [
    {
     "data": {
      "text/html": [
       "<table class=\"dataframe\">\n",
       "<caption>A matrix: 2 × 3 of type dbl</caption>\n",
       "<thead>\n",
       "\t<tr><th></th><th scope=col>낮은 콜레스테롤</th><th scope=col>중간 콜레스테롤</th><th scope=col>높은 콜레스테롤</th></tr>\n",
       "</thead>\n",
       "<tbody>\n",
       "\t<tr><th scope=row>심각하지 않은 심장발작</th><td>0.2735849</td><td>0.1603774</td><td>0.16981132</td></tr>\n",
       "\t<tr><th scope=row>심각한 심장 발작</th><td>0.1792453</td><td>0.1886792</td><td>0.02830189</td></tr>\n",
       "</tbody>\n",
       "</table>\n"
      ],
      "text/latex": [
       "A matrix: 2 × 3 of type dbl\n",
       "\\begin{tabular}{r|lll}\n",
       "  & 낮은 콜레스테롤 & 중간 콜레스테롤 & 높은 콜레스테롤\\\\\n",
       "\\hline\n",
       "\t심각하지 않은 심장발작 & 0.2735849 & 0.1603774 & 0.16981132\\\\\n",
       "\t심각한 심장 발작 & 0.1792453 & 0.1886792 & 0.02830189\\\\\n",
       "\\end{tabular}\n"
      ],
      "text/markdown": [
       "\n",
       "A matrix: 2 × 3 of type dbl\n",
       "\n",
       "| <!--/--> | 낮은 콜레스테롤 | 중간 콜레스테롤 | 높은 콜레스테롤 |\n",
       "|---|---|---|---|\n",
       "| 심각하지 않은 심장발작 | 0.2735849 | 0.1603774 | 0.16981132 |\n",
       "| 심각한 심장 발작 | 0.1792453 | 0.1886792 | 0.02830189 |\n",
       "\n"
      ],
      "text/plain": [
       "                       낮은 콜레스테롤 중간 콜레스테롤 높은 콜레스테롤\n",
       "심각하지 않은 심장발작 0.2735849       0.1603774       0.16981132     \n",
       "심각한 심장 발작       0.1792453       0.1886792       0.02830189     "
      ]
     },
     "metadata": {},
     "output_type": "display_data"
    }
   ],
   "source": [
    "prop.table(mat1)"
   ]
  },
  {
   "cell_type": "code",
   "execution_count": 34,
   "id": "71bddb3a",
   "metadata": {},
   "outputs": [
    {
     "data": {
      "image/png": "[encoded data removed]",
      "text/plain": [
       "Plot with title \"콜레스테롤에 따른 심장 발작의 분포\""
      ]
     },
     "metadata": {
      "image/png": {
       "height": 420,
       "width": 420
      }
     },
     "output_type": "display_data"
    }
   ],
   "source": [
    "barplot(prop.table(mat1),\n",
    "       beside = T,\n",
    "       col = c('salmon','wheat'),\n",
    "       main  = '콜레스테롤에 따른 심장 발작의 분포',\n",
    "       xlab = '타입',\n",
    "       las = 1,\n",
    "       ylab = '빈도')"
   ]
  },
  {
   "cell_type": "code",
   "execution_count": 35,
   "id": "d89047b3",
   "metadata": {},
   "outputs": [
    {
     "data": {
      "image/png": "[encoded data removed]",
      "text/plain": [
       "Plot with title \"콜레스테롤에 따른 심장 발작의 분포\""
      ]
     },
     "metadata": {
      "image/png": {
       "height": 420,
       "width": 420
      }
     },
     "output_type": "display_data"
    }
   ],
   "source": [
    "barplot(t(prop.table(mat1)),\n",
    "       beside = T,\n",
    "       col = c('salmon','wheat'),\n",
    "       main  = '콜레스테롤에 따른 심장 발작의 분포',\n",
    "       xlab = '타입',\n",
    "       las = 1,\n",
    "       ylab = '빈도')"
   ]
  },
  {
   "cell_type": "code",
   "execution_count": 36,
   "id": "78018527",
   "metadata": {},
   "outputs": [],
   "source": [
    "table1 = margin.table(mat1, 1)"
   ]
  },
  {
   "cell_type": "code",
   "execution_count": 37,
   "id": "9ee93989",
   "metadata": {},
   "outputs": [
    {
     "data": {
      "text/html": [
       "<style>\n",
       ".dl-inline {width: auto; margin:0; padding: 0}\n",
       ".dl-inline>dt, .dl-inline>dd {float: none; width: auto; display: inline-block}\n",
       ".dl-inline>dt::after {content: \":\\0020\"; padding-right: .5ex}\n",
       ".dl-inline>dt:not(:first-of-type) {padding-left: .5ex}\n",
       "</style><dl class=dl-inline><dt>심각하지 않은 심장발작</dt><dd>64</dd><dt>심각한 심장 발작</dt><dd>42</dd></dl>\n"
      ],
      "text/latex": [
       "\\begin{description*}\n",
       "\\item[심각하지 않은 심장발작] 64\n",
       "\\item[심각한 심장 발작] 42\n",
       "\\end{description*}\n"
      ],
      "text/markdown": [
       "심각하지 않은 심장발작\n",
       ":   64심각한 심장 발작\n",
       ":   42\n",
       "\n"
      ],
      "text/plain": [
       "심각하지 않은 심장발작       심각한 심장 발작 \n",
       "                    64                     42 "
      ]
     },
     "metadata": {},
     "output_type": "display_data"
    }
   ],
   "source": [
    "table1"
   ]
  },
  {
   "cell_type": "code",
   "execution_count": 38,
   "id": "7f03f6b0",
   "metadata": {},
   "outputs": [],
   "source": [
    "table2 = prop.table(table1)"
   ]
  },
  {
   "cell_type": "code",
   "execution_count": 39,
   "id": "f2a72337",
   "metadata": {},
   "outputs": [
    {
     "data": {
      "text/html": [
       "<style>\n",
       ".dl-inline {width: auto; margin:0; padding: 0}\n",
       ".dl-inline>dt, .dl-inline>dd {float: none; width: auto; display: inline-block}\n",
       ".dl-inline>dt::after {content: \":\\0020\"; padding-right: .5ex}\n",
       ".dl-inline>dt:not(:first-of-type) {padding-left: .5ex}\n",
       "</style><dl class=dl-inline><dt>심각하지 않은 심장발작</dt><dd>0.60377358490566</dd><dt>심각한 심장 발작</dt><dd>0.39622641509434</dd></dl>\n"
      ],
      "text/latex": [
       "\\begin{description*}\n",
       "\\item[심각하지 않은 심장발작] 0.60377358490566\n",
       "\\item[심각한 심장 발작] 0.39622641509434\n",
       "\\end{description*}\n"
      ],
      "text/markdown": [
       "심각하지 않은 심장발작\n",
       ":   0.60377358490566심각한 심장 발작\n",
       ":   0.39622641509434\n",
       "\n"
      ],
      "text/plain": [
       "심각하지 않은 심장발작       심각한 심장 발작 \n",
       "             0.6037736              0.3962264 "
      ]
     },
     "metadata": {},
     "output_type": "display_data"
    }
   ],
   "source": [
    "table2"
   ]
  },
  {
   "cell_type": "code",
   "execution_count": 40,
   "id": "a5ddbc16",
   "metadata": {},
   "outputs": [
    {
     "data": {
      "image/png": "[encoded data removed]",
      "text/plain": [
       "plot without title"
      ]
     },
     "metadata": {
      "image/png": {
       "height": 420,
       "width": 420
      }
     },
     "output_type": "display_data"
    }
   ],
   "source": [
    "barplot(table2)"
   ]
  },
  {
   "cell_type": "code",
   "execution_count": 41,
   "id": "90235eb2",
   "metadata": {},
   "outputs": [],
   "source": [
    "table1 = margin.table(mat1, 2)"
   ]
  },
  {
   "cell_type": "code",
   "execution_count": 43,
   "id": "71773483",
   "metadata": {},
   "outputs": [
    {
     "data": {
      "text/html": [
       "<style>\n",
       ".dl-inline {width: auto; margin:0; padding: 0}\n",
       ".dl-inline>dt, .dl-inline>dd {float: none; width: auto; display: inline-block}\n",
       ".dl-inline>dt::after {content: \":\\0020\"; padding-right: .5ex}\n",
       ".dl-inline>dt:not(:first-of-type) {padding-left: .5ex}\n",
       "</style><dl class=dl-inline><dt>낮은 콜레스테롤</dt><dd>48</dd><dt>중간 콜레스테롤</dt><dd>37</dd><dt>높은 콜레스테롤</dt><dd>21</dd></dl>\n"
      ],
      "text/latex": [
       "\\begin{description*}\n",
       "\\item[낮은 콜레스테롤] 48\n",
       "\\item[중간 콜레스테롤] 37\n",
       "\\item[높은 콜레스테롤] 21\n",
       "\\end{description*}\n"
      ],
      "text/markdown": [
       "낮은 콜레스테롤\n",
       ":   48중간 콜레스테롤\n",
       ":   37높은 콜레스테롤\n",
       ":   21\n",
       "\n"
      ],
      "text/plain": [
       "낮은 콜레스테롤 중간 콜레스테롤 높은 콜레스테롤 \n",
       "             48              37              21 "
      ]
     },
     "metadata": {},
     "output_type": "display_data"
    }
   ],
   "source": [
    "table1"
   ]
  },
  {
   "cell_type": "code",
   "execution_count": 45,
   "id": "ec1ea797",
   "metadata": {},
   "outputs": [
    {
     "data": {
      "image/png": "[encoded data removed]",
      "text/plain": [
       "plot without title"
      ]
     },
     "metadata": {
      "image/png": {
       "height": 420,
       "width": 420
      }
     },
     "output_type": "display_data"
    }
   ],
   "source": [
    "barplot(prop.table(table1),\n",
    "       las = 1)"
   ]
  },
  {
   "cell_type": "code",
   "execution_count": 46,
   "id": "346ba0c6",
   "metadata": {},
   "outputs": [],
   "source": [
    "total = matrix(c(137, 22, 40, 218, 34, 67, 153, 30, 68), nrow = 3, byrow = T)"
   ]
  },
  {
   "cell_type": "code",
   "execution_count": 47,
   "id": "47ef4aae",
   "metadata": {},
   "outputs": [
    {
     "data": {
      "text/html": [
       "<table class=\"dataframe\">\n",
       "<caption>A matrix: 3 × 3 of type dbl</caption>\n",
       "<tbody>\n",
       "\t<tr><td>137</td><td>22</td><td>40</td></tr>\n",
       "\t<tr><td>218</td><td>34</td><td>67</td></tr>\n",
       "\t<tr><td>153</td><td>30</td><td>68</td></tr>\n",
       "</tbody>\n",
       "</table>\n"
      ],
      "text/latex": [
       "A matrix: 3 × 3 of type dbl\n",
       "\\begin{tabular}{lll}\n",
       "\t 137 & 22 & 40\\\\\n",
       "\t 218 & 34 & 67\\\\\n",
       "\t 153 & 30 & 68\\\\\n",
       "\\end{tabular}\n"
      ],
      "text/markdown": [
       "\n",
       "A matrix: 3 × 3 of type dbl\n",
       "\n",
       "| 137 | 22 | 40 |\n",
       "| 218 | 34 | 67 |\n",
       "| 153 | 30 | 68 |\n",
       "\n"
      ],
      "text/plain": [
       "     [,1] [,2] [,3]\n",
       "[1,] 137  22   40  \n",
       "[2,] 218  34   67  \n",
       "[3,] 153  30   68  "
      ]
     },
     "metadata": {},
     "output_type": "display_data"
    }
   ],
   "source": [
    "total"
   ]
  },
  {
   "cell_type": "code",
   "execution_count": 48,
   "id": "b554e2a0",
   "metadata": {},
   "outputs": [],
   "source": [
    "dimnames(total)[[1]] = c('< 25', '25~28','>28')"
   ]
  },
  {
   "cell_type": "code",
   "execution_count": 49,
   "id": "bfd2312d",
   "metadata": {},
   "outputs": [
    {
     "data": {
      "text/html": [
       "<table class=\"dataframe\">\n",
       "<caption>A matrix: 3 × 3 of type dbl</caption>\n",
       "<tbody>\n",
       "\t<tr><th scope=row>&lt; 25</th><td>137</td><td>22</td><td>40</td></tr>\n",
       "\t<tr><th scope=row>25~28</th><td>218</td><td>34</td><td>67</td></tr>\n",
       "\t<tr><th scope=row>&gt;28</th><td>153</td><td>30</td><td>68</td></tr>\n",
       "</tbody>\n",
       "</table>\n"
      ],
      "text/latex": [
       "A matrix: 3 × 3 of type dbl\n",
       "\\begin{tabular}{r|lll}\n",
       "\t< 25 & 137 & 22 & 40\\\\\n",
       "\t25\\textasciitilde{}28 & 218 & 34 & 67\\\\\n",
       "\t>28 & 153 & 30 & 68\\\\\n",
       "\\end{tabular}\n"
      ],
      "text/markdown": [
       "\n",
       "A matrix: 3 × 3 of type dbl\n",
       "\n",
       "| &lt; 25 | 137 | 22 | 40 |\n",
       "| 25~28 | 218 | 34 | 67 |\n",
       "| &gt;28 | 153 | 30 | 68 |\n",
       "\n"
      ],
      "text/plain": [
       "      [,1] [,2] [,3]\n",
       "< 25  137  22   40  \n",
       "25~28 218  34   67  \n",
       ">28   153  30   68  "
      ]
     },
     "metadata": {},
     "output_type": "display_data"
    }
   ],
   "source": [
    "total"
   ]
  },
  {
   "cell_type": "code",
   "execution_count": 50,
   "id": "cc546bad",
   "metadata": {},
   "outputs": [],
   "source": [
    "dimnames(total)[[2]] = c('이상 없음','이마','정수리')"
   ]
  },
  {
   "cell_type": "code",
   "execution_count": 51,
   "id": "9a5434d5",
   "metadata": {},
   "outputs": [
    {
     "data": {
      "text/html": [
       "<table class=\"dataframe\">\n",
       "<caption>A matrix: 3 × 3 of type dbl</caption>\n",
       "<thead>\n",
       "\t<tr><th></th><th scope=col>이상 없음</th><th scope=col>이마</th><th scope=col>정수리</th></tr>\n",
       "</thead>\n",
       "<tbody>\n",
       "\t<tr><th scope=row>&lt; 25</th><td>137</td><td>22</td><td>40</td></tr>\n",
       "\t<tr><th scope=row>25~28</th><td>218</td><td>34</td><td>67</td></tr>\n",
       "\t<tr><th scope=row>&gt;28</th><td>153</td><td>30</td><td>68</td></tr>\n",
       "</tbody>\n",
       "</table>\n"
      ],
      "text/latex": [
       "A matrix: 3 × 3 of type dbl\n",
       "\\begin{tabular}{r|lll}\n",
       "  & 이상 없음 & 이마 & 정수리\\\\\n",
       "\\hline\n",
       "\t< 25 & 137 & 22 & 40\\\\\n",
       "\t25\\textasciitilde{}28 & 218 & 34 & 67\\\\\n",
       "\t>28 & 153 & 30 & 68\\\\\n",
       "\\end{tabular}\n"
      ],
      "text/markdown": [
       "\n",
       "A matrix: 3 × 3 of type dbl\n",
       "\n",
       "| <!--/--> | 이상 없음 | 이마 | 정수리 |\n",
       "|---|---|---|---|\n",
       "| &lt; 25 | 137 | 22 | 40 |\n",
       "| 25~28 | 218 | 34 | 67 |\n",
       "| &gt;28 | 153 | 30 | 68 |\n",
       "\n"
      ],
      "text/plain": [
       "      이상 없음 이마 정수리\n",
       "< 25  137       22   40    \n",
       "25~28 218       34   67    \n",
       ">28   153       30   68    "
      ]
     },
     "metadata": {},
     "output_type": "display_data"
    }
   ],
   "source": [
    "total"
   ]
  },
  {
   "cell_type": "code",
   "execution_count": 52,
   "id": "67e011ca",
   "metadata": {},
   "outputs": [],
   "source": [
    "table = margin.table(total, 1)"
   ]
  },
  {
   "cell_type": "code",
   "execution_count": 53,
   "id": "e861e46d",
   "metadata": {},
   "outputs": [
    {
     "data": {
      "text/html": [
       "<style>\n",
       ".dl-inline {width: auto; margin:0; padding: 0}\n",
       ".dl-inline>dt, .dl-inline>dd {float: none; width: auto; display: inline-block}\n",
       ".dl-inline>dt::after {content: \":\\0020\"; padding-right: .5ex}\n",
       ".dl-inline>dt:not(:first-of-type) {padding-left: .5ex}\n",
       "</style><dl class=dl-inline><dt>&lt; 25</dt><dd>199</dd><dt>25~28</dt><dd>319</dd><dt>&gt;28</dt><dd>251</dd></dl>\n"
      ],
      "text/latex": [
       "\\begin{description*}\n",
       "\\item[< 25] 199\n",
       "\\item[25\\textbackslash{}textasciitilde\\{\\}28] 319\n",
       "\\item[>28] 251\n",
       "\\end{description*}\n"
      ],
      "text/markdown": [
       "&amp;lt; 25\n",
       ":   19925~28\n",
       ":   319&amp;gt;28\n",
       ":   251\n",
       "\n"
      ],
      "text/plain": [
       " < 25 25~28   >28 \n",
       "  199   319   251 "
      ]
     },
     "metadata": {},
     "output_type": "display_data"
    }
   ],
   "source": [
    "table"
   ]
  },
  {
   "cell_type": "code",
   "execution_count": 55,
   "id": "290e8c28",
   "metadata": {},
   "outputs": [
    {
     "data": {
      "image/png": "[encoded data removed]",
      "text/plain": [
       "plot without title"
      ]
     },
     "metadata": {
      "image/png": {
       "height": 420,
       "width": 420
      }
     },
     "output_type": "display_data"
    }
   ],
   "source": [
    "barplot(prop.table(table),\n",
    "       las = 1)"
   ]
  },
  {
   "cell_type": "code",
   "execution_count": 59,
   "id": "685bb9f2",
   "metadata": {},
   "outputs": [],
   "source": [
    "table = margin.table(total, 2)"
   ]
  },
  {
   "cell_type": "code",
   "execution_count": 58,
   "id": "542eba1b",
   "metadata": {},
   "outputs": [
    {
     "data": {
      "text/html": [
       "<table class=\"dataframe\">\n",
       "<caption>A matrix: 3 × 3 of type dbl</caption>\n",
       "<thead>\n",
       "\t<tr><th></th><th scope=col>이상 없음</th><th scope=col>이마</th><th scope=col>정수리</th></tr>\n",
       "</thead>\n",
       "<tbody>\n",
       "\t<tr><th scope=row>&lt; 25</th><td>137</td><td>22</td><td>40</td></tr>\n",
       "\t<tr><th scope=row>25~28</th><td>218</td><td>34</td><td>67</td></tr>\n",
       "\t<tr><th scope=row>&gt;28</th><td>153</td><td>30</td><td>68</td></tr>\n",
       "</tbody>\n",
       "</table>\n"
      ],
      "text/latex": [
       "A matrix: 3 × 3 of type dbl\n",
       "\\begin{tabular}{r|lll}\n",
       "  & 이상 없음 & 이마 & 정수리\\\\\n",
       "\\hline\n",
       "\t< 25 & 137 & 22 & 40\\\\\n",
       "\t25\\textasciitilde{}28 & 218 & 34 & 67\\\\\n",
       "\t>28 & 153 & 30 & 68\\\\\n",
       "\\end{tabular}\n"
      ],
      "text/markdown": [
       "\n",
       "A matrix: 3 × 3 of type dbl\n",
       "\n",
       "| <!--/--> | 이상 없음 | 이마 | 정수리 |\n",
       "|---|---|---|---|\n",
       "| &lt; 25 | 137 | 22 | 40 |\n",
       "| 25~28 | 218 | 34 | 67 |\n",
       "| &gt;28 | 153 | 30 | 68 |\n",
       "\n"
      ],
      "text/plain": [
       "      이상 없음 이마 정수리\n",
       "< 25  137       22   40    \n",
       "25~28 218       34   67    \n",
       ">28   153       30   68    "
      ]
     },
     "metadata": {},
     "output_type": "display_data"
    }
   ],
   "source": [
    "total"
   ]
  },
  {
   "cell_type": "code",
   "execution_count": 60,
   "id": "05a4cb97",
   "metadata": {},
   "outputs": [
    {
     "data": {
      "text/html": [
       "<style>\n",
       ".dl-inline {width: auto; margin:0; padding: 0}\n",
       ".dl-inline>dt, .dl-inline>dd {float: none; width: auto; display: inline-block}\n",
       ".dl-inline>dt::after {content: \":\\0020\"; padding-right: .5ex}\n",
       ".dl-inline>dt:not(:first-of-type) {padding-left: .5ex}\n",
       "</style><dl class=dl-inline><dt>이상 없음</dt><dd>508</dd><dt>이마</dt><dd>86</dd><dt>정수리</dt><dd>175</dd></dl>\n"
      ],
      "text/latex": [
       "\\begin{description*}\n",
       "\\item[이상 없음] 508\n",
       "\\item[이마] 86\n",
       "\\item[정수리] 175\n",
       "\\end{description*}\n"
      ],
      "text/markdown": [
       "이상 없음\n",
       ":   508이마\n",
       ":   86정수리\n",
       ":   175\n",
       "\n"
      ],
      "text/plain": [
       "이상 없음      이마    정수리 \n",
       "      508        86       175 "
      ]
     },
     "metadata": {},
     "output_type": "display_data"
    }
   ],
   "source": [
    "table"
   ]
  },
  {
   "cell_type": "code",
   "execution_count": 61,
   "id": "d5014de9",
   "metadata": {},
   "outputs": [
    {
     "data": {
      "text/html": [
       "<style>\n",
       ".dl-inline {width: auto; margin:0; padding: 0}\n",
       ".dl-inline>dt, .dl-inline>dd {float: none; width: auto; display: inline-block}\n",
       ".dl-inline>dt::after {content: \":\\0020\"; padding-right: .5ex}\n",
       ".dl-inline>dt:not(:first-of-type) {padding-left: .5ex}\n",
       "</style><dl class=dl-inline><dt>이상 없음</dt><dd>508</dd><dt>이마</dt><dd>86</dd><dt>정수리</dt><dd>175</dd></dl>\n"
      ],
      "text/latex": [
       "\\begin{description*}\n",
       "\\item[이상 없음] 508\n",
       "\\item[이마] 86\n",
       "\\item[정수리] 175\n",
       "\\end{description*}\n"
      ],
      "text/markdown": [
       "이상 없음\n",
       ":   508이마\n",
       ":   86정수리\n",
       ":   175\n",
       "\n"
      ],
      "text/plain": [
       "이상 없음      이마    정수리 \n",
       "      508        86       175 "
      ]
     },
     "metadata": {},
     "output_type": "display_data"
    }
   ],
   "source": [
    "table"
   ]
  },
  {
   "cell_type": "code",
   "execution_count": 62,
   "id": "3938ffef",
   "metadata": {},
   "outputs": [
    {
     "data": {
      "image/png": "[encoded data removed]",
      "text/plain": [
       "plot without title"
      ]
     },
     "metadata": {
      "image/png": {
       "height": 420,
       "width": 420
      }
     },
     "output_type": "display_data"
    }
   ],
   "source": [
    "barplot(prop.table(table), las = 1)"
   ]
  },
  {
   "cell_type": "code",
   "execution_count": 68,
   "id": "4d28a5d4",
   "metadata": {},
   "outputs": [
    {
     "data": {
      "image/png": "[encoded data removed]",
      "text/plain": [
       "Plot with title \"신체 용적 지수 그래프\""
      ]
     },
     "metadata": {
      "image/png": {
       "height": 420,
       "width": 420
      }
     },
     "output_type": "display_data"
    }
   ],
   "source": [
    "barplot(t(total),\n",
    "       main = '신체 용적 지수 그래프',\n",
    "       las = 1,\n",
    "       legend.text = T,\n",
    "       args.legend = list(bty = 'n'),\n",
    "       beside = T,\n",
    "       xlab = '신체 용적 지수',\n",
    "       ylab = '비율')"
   ]
  },
  {
   "cell_type": "code",
   "execution_count": 72,
   "id": "03ada894",
   "metadata": {},
   "outputs": [
    {
     "data": {
      "image/png": "[encoded data removed]",
      "text/plain": [
       "Plot with title \"신체 용적 지수 그래프\""
      ]
     },
     "metadata": {
      "image/png": {
       "height": 420,
       "width": 420
      }
     },
     "output_type": "display_data"
    }
   ],
   "source": [
    "barplot(t(prop.table(total, 1)),\n",
    "       main = '신체 용적 지수 그래프',\n",
    "       las = 1,\n",
    "       legend.text = T,\n",
    "       args.legend = list(bty = 'y'),\n",
    "       beside = T,\n",
    "       xlab = '신체 용적 지수',\n",
    "       ylab = '비율')"
   ]
  },
  {
   "cell_type": "code",
   "execution_count": 77,
   "id": "039b6d9b",
   "metadata": {},
   "outputs": [
    {
     "data": {
      "image/png": "[encoded data removed]",
      "text/plain": [
       "plot without title"
      ]
     },
     "metadata": {
      "image/png": {
       "height": 420,
       "width": 420
      }
     },
     "output_type": "display_data"
    }
   ],
   "source": [
    "barplot(t(total),\n",
    "       legend.text = c('none','fore','crown'),\n",
    "       col = c('pink','orange','red'))"
   ]
  },
  {
   "cell_type": "code",
   "execution_count": 1,
   "id": "3790955e",
   "metadata": {},
   "outputs": [],
   "source": [
    "data = c(rep('농구', 10), rep('야구', 7), rep('미식 축구', 6), rep('테니스', 5), rep('하키', 2))"
   ]
  },
  {
   "cell_type": "code",
   "execution_count": 2,
   "id": "58bbed14",
   "metadata": {},
   "outputs": [
    {
     "data": {
      "text/html": [
       "<style>\n",
       ".list-inline {list-style: none; margin:0; padding: 0}\n",
       ".list-inline>li {display: inline-block}\n",
       ".list-inline>li:not(:last-child)::after {content: \"\\00b7\"; padding: 0 .5ex}\n",
       "</style>\n",
       "<ol class=list-inline><li>'농구'</li><li>'농구'</li><li>'농구'</li><li>'농구'</li><li>'농구'</li><li>'농구'</li><li>'농구'</li><li>'농구'</li><li>'농구'</li><li>'농구'</li><li>'야구'</li><li>'야구'</li><li>'야구'</li><li>'야구'</li><li>'야구'</li><li>'야구'</li><li>'야구'</li><li>'미식 축구'</li><li>'미식 축구'</li><li>'미식 축구'</li><li>'미식 축구'</li><li>'미식 축구'</li><li>'미식 축구'</li><li>'테니스'</li><li>'테니스'</li><li>'테니스'</li><li>'테니스'</li><li>'테니스'</li><li>'하키'</li><li>'하키'</li></ol>\n"
      ],
      "text/latex": [
       "\\begin{enumerate*}\n",
       "\\item '농구'\n",
       "\\item '농구'\n",
       "\\item '농구'\n",
       "\\item '농구'\n",
       "\\item '농구'\n",
       "\\item '농구'\n",
       "\\item '농구'\n",
       "\\item '농구'\n",
       "\\item '농구'\n",
       "\\item '농구'\n",
       "\\item '야구'\n",
       "\\item '야구'\n",
       "\\item '야구'\n",
       "\\item '야구'\n",
       "\\item '야구'\n",
       "\\item '야구'\n",
       "\\item '야구'\n",
       "\\item '미식 축구'\n",
       "\\item '미식 축구'\n",
       "\\item '미식 축구'\n",
       "\\item '미식 축구'\n",
       "\\item '미식 축구'\n",
       "\\item '미식 축구'\n",
       "\\item '테니스'\n",
       "\\item '테니스'\n",
       "\\item '테니스'\n",
       "\\item '테니스'\n",
       "\\item '테니스'\n",
       "\\item '하키'\n",
       "\\item '하키'\n",
       "\\end{enumerate*}\n"
      ],
      "text/markdown": [
       "1. '농구'\n",
       "2. '농구'\n",
       "3. '농구'\n",
       "4. '농구'\n",
       "5. '농구'\n",
       "6. '농구'\n",
       "7. '농구'\n",
       "8. '농구'\n",
       "9. '농구'\n",
       "10. '농구'\n",
       "11. '야구'\n",
       "12. '야구'\n",
       "13. '야구'\n",
       "14. '야구'\n",
       "15. '야구'\n",
       "16. '야구'\n",
       "17. '야구'\n",
       "18. '미식 축구'\n",
       "19. '미식 축구'\n",
       "20. '미식 축구'\n",
       "21. '미식 축구'\n",
       "22. '미식 축구'\n",
       "23. '미식 축구'\n",
       "24. '테니스'\n",
       "25. '테니스'\n",
       "26. '테니스'\n",
       "27. '테니스'\n",
       "28. '테니스'\n",
       "29. '하키'\n",
       "30. '하키'\n",
       "\n",
       "\n"
      ],
      "text/plain": [
       " [1] \"농구\"      \"농구\"      \"농구\"      \"농구\"      \"농구\"      \"농구\"     \n",
       " [7] \"농구\"      \"농구\"      \"농구\"      \"농구\"      \"야구\"      \"야구\"     \n",
       "[13] \"야구\"      \"야구\"      \"야구\"      \"야구\"      \"야구\"      \"미식 축구\"\n",
       "[19] \"미식 축구\" \"미식 축구\" \"미식 축구\" \"미식 축구\" \"미식 축구\" \"테니스\"   \n",
       "[25] \"테니스\"    \"테니스\"    \"테니스\"    \"테니스\"    \"하키\"      \"하키\"     "
      ]
     },
     "metadata": {},
     "output_type": "display_data"
    }
   ],
   "source": [
    "data"
   ]
  },
  {
   "cell_type": "code",
   "execution_count": 12,
   "id": "2e2dc1fb",
   "metadata": {},
   "outputs": [
    {
     "name": "stderr",
     "output_type": "stream",
     "text": [
      "Warning message in dotchart(table(data), main = \"Dot chart\", xlab = \"count\"):\n",
      "\"'x' is neither a vector nor a matrix: using as.numeric(x)\"\n"
     ]
    },
    {
     "data": {
      "image/png": "[encoded data removed]",
      "text/plain": [
       "Plot with title \"Dot chart\""
      ]
     },
     "metadata": {
      "image/png": {
       "height": 420,
       "width": 420
      }
     },
     "output_type": "display_data"
    }
   ],
   "source": [
    "dotchart(table(data),\n",
    "        main = 'Dot chart',\n",
    "        xlab = 'count')"
   ]
  },
  {
   "cell_type": "code",
   "execution_count": 10,
   "id": "93f9c25e",
   "metadata": {},
   "outputs": [
    {
     "data": {
      "image/png": "[encoded data removed]",
      "text/plain": [
       "plot without title"
      ]
     },
     "metadata": {
      "image/png": {
       "height": 420,
       "width": 420
      }
     },
     "output_type": "display_data"
    }
   ],
   "source": [
    "plot(table(data), type = 'p'\n",
    "    ,las = 1)"
   ]
  },
  {
   "cell_type": "code",
   "execution_count": 13,
   "id": "f4e79f1c",
   "metadata": {},
   "outputs": [],
   "source": [
    "time = c(15, 8, 23, 21, 5, 17, 31, 22, 34, 6,\n",
    "        5, 10, 14, 17, 16, 25, 30, 3, 31, 19)"
   ]
  },
  {
   "cell_type": "code",
   "execution_count": 14,
   "id": "877485ed",
   "metadata": {},
   "outputs": [
    {
     "data": {
      "text/html": [
       "<style>\n",
       ".list-inline {list-style: none; margin:0; padding: 0}\n",
       ".list-inline>li {display: inline-block}\n",
       ".list-inline>li:not(:last-child)::after {content: \"\\00b7\"; padding: 0 .5ex}\n",
       "</style>\n",
       "<ol class=list-inline><li>15</li><li>8</li><li>23</li><li>21</li><li>5</li><li>17</li><li>31</li><li>22</li><li>34</li><li>6</li><li>5</li><li>10</li><li>14</li><li>17</li><li>16</li><li>25</li><li>30</li><li>3</li><li>31</li><li>19</li></ol>\n"
      ],
      "text/latex": [
       "\\begin{enumerate*}\n",
       "\\item 15\n",
       "\\item 8\n",
       "\\item 23\n",
       "\\item 21\n",
       "\\item 5\n",
       "\\item 17\n",
       "\\item 31\n",
       "\\item 22\n",
       "\\item 34\n",
       "\\item 6\n",
       "\\item 5\n",
       "\\item 10\n",
       "\\item 14\n",
       "\\item 17\n",
       "\\item 16\n",
       "\\item 25\n",
       "\\item 30\n",
       "\\item 3\n",
       "\\item 31\n",
       "\\item 19\n",
       "\\end{enumerate*}\n"
      ],
      "text/markdown": [
       "1. 15\n",
       "2. 8\n",
       "3. 23\n",
       "4. 21\n",
       "5. 5\n",
       "6. 17\n",
       "7. 31\n",
       "8. 22\n",
       "9. 34\n",
       "10. 6\n",
       "11. 5\n",
       "12. 10\n",
       "13. 14\n",
       "14. 17\n",
       "15. 16\n",
       "16. 25\n",
       "17. 30\n",
       "18. 3\n",
       "19. 31\n",
       "20. 19\n",
       "\n",
       "\n"
      ],
      "text/plain": [
       " [1] 15  8 23 21  5 17 31 22 34  6  5 10 14 17 16 25 30  3 31 19"
      ]
     },
     "metadata": {},
     "output_type": "display_data"
    }
   ],
   "source": [
    "time"
   ]
  },
  {
   "cell_type": "code",
   "execution_count": 15,
   "id": "cd61f24b",
   "metadata": {},
   "outputs": [
    {
     "name": "stdout",
     "output_type": "stream",
     "text": [
      "\n",
      "  The decimal point is 1 digit(s) to the right of the |\n",
      "\n",
      "  0 | 35568\n",
      "  1 | 0456779\n",
      "  2 | 1235\n",
      "  3 | 0114\n",
      "\n"
     ]
    }
   ],
   "source": [
    "stem(time)"
   ]
  },
  {
   "cell_type": "code",
   "execution_count": 16,
   "id": "fd1e164d",
   "metadata": {},
   "outputs": [],
   "source": [
    "height = c(181, 161, 170, 160, 158, 169, 162, 179, 183, 178, 171, 177, 163,\n",
    "          158, 160, 160, 158, 174, 160, 163, 167, 165, 163, 173, 178, 170,\n",
    "          167, 177, 176, 170, 152, 158, 160, 160, 159, 180, 169, 162, 178,\n",
    "          173, 173, 171, 171, 170, 160, 167, 168, 166, 164, 174, 180)"
   ]
  },
  {
   "cell_type": "code",
   "execution_count": 17,
   "id": "ec57deee",
   "metadata": {},
   "outputs": [
    {
     "data": {
      "text/html": [
       "<style>\n",
       ".list-inline {list-style: none; margin:0; padding: 0}\n",
       ".list-inline>li {display: inline-block}\n",
       ".list-inline>li:not(:last-child)::after {content: \"\\00b7\"; padding: 0 .5ex}\n",
       "</style>\n",
       "<ol class=list-inline><li>181</li><li>161</li><li>170</li><li>160</li><li>158</li><li>169</li><li>162</li><li>179</li><li>183</li><li>178</li><li>171</li><li>177</li><li>163</li><li>158</li><li>160</li><li>160</li><li>158</li><li>174</li><li>160</li><li>163</li><li>167</li><li>165</li><li>163</li><li>173</li><li>178</li><li>170</li><li>167</li><li>177</li><li>176</li><li>170</li><li>152</li><li>158</li><li>160</li><li>160</li><li>159</li><li>180</li><li>169</li><li>162</li><li>178</li><li>173</li><li>173</li><li>171</li><li>171</li><li>170</li><li>160</li><li>167</li><li>168</li><li>166</li><li>164</li><li>174</li><li>180</li></ol>\n"
      ],
      "text/latex": [
       "\\begin{enumerate*}\n",
       "\\item 181\n",
       "\\item 161\n",
       "\\item 170\n",
       "\\item 160\n",
       "\\item 158\n",
       "\\item 169\n",
       "\\item 162\n",
       "\\item 179\n",
       "\\item 183\n",
       "\\item 178\n",
       "\\item 171\n",
       "\\item 177\n",
       "\\item 163\n",
       "\\item 158\n",
       "\\item 160\n",
       "\\item 160\n",
       "\\item 158\n",
       "\\item 174\n",
       "\\item 160\n",
       "\\item 163\n",
       "\\item 167\n",
       "\\item 165\n",
       "\\item 163\n",
       "\\item 173\n",
       "\\item 178\n",
       "\\item 170\n",
       "\\item 167\n",
       "\\item 177\n",
       "\\item 176\n",
       "\\item 170\n",
       "\\item 152\n",
       "\\item 158\n",
       "\\item 160\n",
       "\\item 160\n",
       "\\item 159\n",
       "\\item 180\n",
       "\\item 169\n",
       "\\item 162\n",
       "\\item 178\n",
       "\\item 173\n",
       "\\item 173\n",
       "\\item 171\n",
       "\\item 171\n",
       "\\item 170\n",
       "\\item 160\n",
       "\\item 167\n",
       "\\item 168\n",
       "\\item 166\n",
       "\\item 164\n",
       "\\item 174\n",
       "\\item 180\n",
       "\\end{enumerate*}\n"
      ],
      "text/markdown": [
       "1. 181\n",
       "2. 161\n",
       "3. 170\n",
       "4. 160\n",
       "5. 158\n",
       "6. 169\n",
       "7. 162\n",
       "8. 179\n",
       "9. 183\n",
       "10. 178\n",
       "11. 171\n",
       "12. 177\n",
       "13. 163\n",
       "14. 158\n",
       "15. 160\n",
       "16. 160\n",
       "17. 158\n",
       "18. 174\n",
       "19. 160\n",
       "20. 163\n",
       "21. 167\n",
       "22. 165\n",
       "23. 163\n",
       "24. 173\n",
       "25. 178\n",
       "26. 170\n",
       "27. 167\n",
       "28. 177\n",
       "29. 176\n",
       "30. 170\n",
       "31. 152\n",
       "32. 158\n",
       "33. 160\n",
       "34. 160\n",
       "35. 159\n",
       "36. 180\n",
       "37. 169\n",
       "38. 162\n",
       "39. 178\n",
       "40. 173\n",
       "41. 173\n",
       "42. 171\n",
       "43. 171\n",
       "44. 170\n",
       "45. 160\n",
       "46. 167\n",
       "47. 168\n",
       "48. 166\n",
       "49. 164\n",
       "50. 174\n",
       "51. 180\n",
       "\n",
       "\n"
      ],
      "text/plain": [
       " [1] 181 161 170 160 158 169 162 179 183 178 171 177 163 158 160 160 158 174 160\n",
       "[20] 163 167 165 163 173 178 170 167 177 176 170 152 158 160 160 159 180 169 162\n",
       "[39] 178 173 173 171 171 170 160 167 168 166 164 174 180"
      ]
     },
     "metadata": {},
     "output_type": "display_data"
    }
   ],
   "source": [
    "height"
   ]
  },
  {
   "cell_type": "code",
   "execution_count": 18,
   "id": "068af798",
   "metadata": {},
   "outputs": [
    {
     "data": {
      "text/plain": [
       "height\n",
       "152 158 159 160 161 162 163 164 165 166 167 168 169 170 171 173 174 176 177 178 \n",
       "  1   4   1   7   1   2   3   1   1   1   3   1   2   4   3   3   2   1   2   3 \n",
       "179 180 181 183 \n",
       "  1   2   1   1 "
      ]
     },
     "metadata": {},
     "output_type": "display_data"
    }
   ],
   "source": [
    "table(height)"
   ]
  },
  {
   "cell_type": "code",
   "execution_count": 23,
   "id": "201d716f",
   "metadata": {},
   "outputs": [
    {
     "data": {
      "image/png": "[encoded data removed]",
      "text/plain": [
       "Plot with title \"Histogram of height\""
      ]
     },
     "metadata": {
      "image/png": {
       "height": 420,
       "width": 420
      }
     },
     "output_type": "display_data"
    }
   ],
   "source": [
    "hist(height, probability = T)\n",
    "lines(density(height),\n",
    "     type = 'l',\n",
    "     col =' red')"
   ]
  },
  {
   "cell_type": "code",
   "execution_count": 25,
   "id": "e1a9d92b",
   "metadata": {},
   "outputs": [],
   "source": [
    "cut1 = cut(height, breaks = c(150, 155, 160, 165, 170, 175, 180, 185), right = F)"
   ]
  },
  {
   "cell_type": "code",
   "execution_count": 26,
   "id": "739285b8",
   "metadata": {},
   "outputs": [
    {
     "data": {
      "text/html": [
       "<style>\n",
       ".list-inline {list-style: none; margin:0; padding: 0}\n",
       ".list-inline>li {display: inline-block}\n",
       ".list-inline>li:not(:last-child)::after {content: \"\\00b7\"; padding: 0 .5ex}\n",
       "</style>\n",
       "<ol class=list-inline><li>[180,185)</li><li>[160,165)</li><li>[170,175)</li><li>[160,165)</li><li>[155,160)</li><li>[165,170)</li><li>[160,165)</li><li>[175,180)</li><li>[180,185)</li><li>[175,180)</li><li>[170,175)</li><li>[175,180)</li><li>[160,165)</li><li>[155,160)</li><li>[160,165)</li><li>[160,165)</li><li>[155,160)</li><li>[170,175)</li><li>[160,165)</li><li>[160,165)</li><li>[165,170)</li><li>[165,170)</li><li>[160,165)</li><li>[170,175)</li><li>[175,180)</li><li>[170,175)</li><li>[165,170)</li><li>[175,180)</li><li>[175,180)</li><li>[170,175)</li><li>[150,155)</li><li>[155,160)</li><li>[160,165)</li><li>[160,165)</li><li>[155,160)</li><li>[180,185)</li><li>[165,170)</li><li>[160,165)</li><li>[175,180)</li><li>[170,175)</li><li>[170,175)</li><li>[170,175)</li><li>[170,175)</li><li>[170,175)</li><li>[160,165)</li><li>[165,170)</li><li>[165,170)</li><li>[165,170)</li><li>[160,165)</li><li>[170,175)</li><li>[180,185)</li></ol>\n",
       "\n",
       "<details>\n",
       "\t<summary style=display:list-item;cursor:pointer>\n",
       "\t\t<strong>Levels</strong>:\n",
       "\t</summary>\n",
       "\t<style>\n",
       "\t.list-inline {list-style: none; margin:0; padding: 0}\n",
       "\t.list-inline>li {display: inline-block}\n",
       "\t.list-inline>li:not(:last-child)::after {content: \"\\00b7\"; padding: 0 .5ex}\n",
       "\t</style>\n",
       "\t<ol class=list-inline><li>'[150,155)'</li><li>'[155,160)'</li><li>'[160,165)'</li><li>'[165,170)'</li><li>'[170,175)'</li><li>'[175,180)'</li><li>'[180,185)'</li></ol>\n",
       "</details>"
      ],
      "text/latex": [
       "\\begin{enumerate*}\n",
       "\\item {[}180,185)\n",
       "\\item {[}160,165)\n",
       "\\item {[}170,175)\n",
       "\\item {[}160,165)\n",
       "\\item {[}155,160)\n",
       "\\item {[}165,170)\n",
       "\\item {[}160,165)\n",
       "\\item {[}175,180)\n",
       "\\item {[}180,185)\n",
       "\\item {[}175,180)\n",
       "\\item {[}170,175)\n",
       "\\item {[}175,180)\n",
       "\\item {[}160,165)\n",
       "\\item {[}155,160)\n",
       "\\item {[}160,165)\n",
       "\\item {[}160,165)\n",
       "\\item {[}155,160)\n",
       "\\item {[}170,175)\n",
       "\\item {[}160,165)\n",
       "\\item {[}160,165)\n",
       "\\item {[}165,170)\n",
       "\\item {[}165,170)\n",
       "\\item {[}160,165)\n",
       "\\item {[}170,175)\n",
       "\\item {[}175,180)\n",
       "\\item {[}170,175)\n",
       "\\item {[}165,170)\n",
       "\\item {[}175,180)\n",
       "\\item {[}175,180)\n",
       "\\item {[}170,175)\n",
       "\\item {[}150,155)\n",
       "\\item {[}155,160)\n",
       "\\item {[}160,165)\n",
       "\\item {[}160,165)\n",
       "\\item {[}155,160)\n",
       "\\item {[}180,185)\n",
       "\\item {[}165,170)\n",
       "\\item {[}160,165)\n",
       "\\item {[}175,180)\n",
       "\\item {[}170,175)\n",
       "\\item {[}170,175)\n",
       "\\item {[}170,175)\n",
       "\\item {[}170,175)\n",
       "\\item {[}170,175)\n",
       "\\item {[}160,165)\n",
       "\\item {[}165,170)\n",
       "\\item {[}165,170)\n",
       "\\item {[}165,170)\n",
       "\\item {[}160,165)\n",
       "\\item {[}170,175)\n",
       "\\item {[}180,185)\n",
       "\\end{enumerate*}\n",
       "\n",
       "\\emph{Levels}: \\begin{enumerate*}\n",
       "\\item '{[}150,155)'\n",
       "\\item '{[}155,160)'\n",
       "\\item '{[}160,165)'\n",
       "\\item '{[}165,170)'\n",
       "\\item '{[}170,175)'\n",
       "\\item '{[}175,180)'\n",
       "\\item '{[}180,185)'\n",
       "\\end{enumerate*}\n"
      ],
      "text/markdown": [
       "1. [180,185)\n",
       "2. [160,165)\n",
       "3. [170,175)\n",
       "4. [160,165)\n",
       "5. [155,160)\n",
       "6. [165,170)\n",
       "7. [160,165)\n",
       "8. [175,180)\n",
       "9. [180,185)\n",
       "10. [175,180)\n",
       "11. [170,175)\n",
       "12. [175,180)\n",
       "13. [160,165)\n",
       "14. [155,160)\n",
       "15. [160,165)\n",
       "16. [160,165)\n",
       "17. [155,160)\n",
       "18. [170,175)\n",
       "19. [160,165)\n",
       "20. [160,165)\n",
       "21. [165,170)\n",
       "22. [165,170)\n",
       "23. [160,165)\n",
       "24. [170,175)\n",
       "25. [175,180)\n",
       "26. [170,175)\n",
       "27. [165,170)\n",
       "28. [175,180)\n",
       "29. [175,180)\n",
       "30. [170,175)\n",
       "31. [150,155)\n",
       "32. [155,160)\n",
       "33. [160,165)\n",
       "34. [160,165)\n",
       "35. [155,160)\n",
       "36. [180,185)\n",
       "37. [165,170)\n",
       "38. [160,165)\n",
       "39. [175,180)\n",
       "40. [170,175)\n",
       "41. [170,175)\n",
       "42. [170,175)\n",
       "43. [170,175)\n",
       "44. [170,175)\n",
       "45. [160,165)\n",
       "46. [165,170)\n",
       "47. [165,170)\n",
       "48. [165,170)\n",
       "49. [160,165)\n",
       "50. [170,175)\n",
       "51. [180,185)\n",
       "\n",
       "\n",
       "\n",
       "**Levels**: 1. '[150,155)'\n",
       "2. '[155,160)'\n",
       "3. '[160,165)'\n",
       "4. '[165,170)'\n",
       "5. '[170,175)'\n",
       "6. '[175,180)'\n",
       "7. '[180,185)'\n",
       "\n",
       "\n"
      ],
      "text/plain": [
       " [1] [180,185) [160,165) [170,175) [160,165) [155,160) [165,170) [160,165)\n",
       " [8] [175,180) [180,185) [175,180) [170,175) [175,180) [160,165) [155,160)\n",
       "[15] [160,165) [160,165) [155,160) [170,175) [160,165) [160,165) [165,170)\n",
       "[22] [165,170) [160,165) [170,175) [175,180) [170,175) [165,170) [175,180)\n",
       "[29] [175,180) [170,175) [150,155) [155,160) [160,165) [160,165) [155,160)\n",
       "[36] [180,185) [165,170) [160,165) [175,180) [170,175) [170,175) [170,175)\n",
       "[43] [170,175) [170,175) [160,165) [165,170) [165,170) [165,170) [160,165)\n",
       "[50] [170,175) [180,185)\n",
       "7 Levels: [150,155) [155,160) [160,165) [165,170) [170,175) ... [180,185)"
      ]
     },
     "metadata": {},
     "output_type": "display_data"
    }
   ],
   "source": [
    "cut1"
   ]
  },
  {
   "cell_type": "code",
   "execution_count": 27,
   "id": "e435ddf1",
   "metadata": {},
   "outputs": [
    {
     "data": {
      "text/plain": [
       "cut1\n",
       "[150,155) [155,160) [160,165) [165,170) [170,175) [175,180) [180,185) \n",
       "        1         5        14         8        12         7         4 "
      ]
     },
     "metadata": {},
     "output_type": "display_data"
    }
   ],
   "source": [
    "freq = table(cut1)\n",
    "freq"
   ]
  },
  {
   "cell_type": "code",
   "execution_count": 28,
   "id": "406bf306",
   "metadata": {},
   "outputs": [],
   "source": [
    "prop = prop.table(freq)"
   ]
  },
  {
   "cell_type": "code",
   "execution_count": 30,
   "id": "9ca89a6b",
   "metadata": {},
   "outputs": [
    {
     "data": {
      "text/plain": [
       "cut1\n",
       " [150,155)  [155,160)  [160,165)  [165,170)  [170,175)  [175,180)  [180,185) \n",
       "0.01960784 0.09803922 0.27450980 0.15686275 0.23529412 0.13725490 0.07843137 "
      ]
     },
     "metadata": {},
     "output_type": "display_data"
    }
   ],
   "source": [
    "prop"
   ]
  },
  {
   "cell_type": "code",
   "execution_count": 31,
   "id": "a226a962",
   "metadata": {},
   "outputs": [
    {
     "data": {
      "text/html": [
       "<table class=\"dataframe\">\n",
       "<caption>A matrix: 7 × 2 of type dbl</caption>\n",
       "<thead>\n",
       "\t<tr><th></th><th scope=col>freq</th><th scope=col>prop</th></tr>\n",
       "</thead>\n",
       "<tbody>\n",
       "\t<tr><th scope=row>[150,155)</th><td> 1</td><td>0.01960784</td></tr>\n",
       "\t<tr><th scope=row>[155,160)</th><td> 5</td><td>0.09803922</td></tr>\n",
       "\t<tr><th scope=row>[160,165)</th><td>14</td><td>0.27450980</td></tr>\n",
       "\t<tr><th scope=row>[165,170)</th><td> 8</td><td>0.15686275</td></tr>\n",
       "\t<tr><th scope=row>[170,175)</th><td>12</td><td>0.23529412</td></tr>\n",
       "\t<tr><th scope=row>[175,180)</th><td> 7</td><td>0.13725490</td></tr>\n",
       "\t<tr><th scope=row>[180,185)</th><td> 4</td><td>0.07843137</td></tr>\n",
       "</tbody>\n",
       "</table>\n"
      ],
      "text/latex": [
       "A matrix: 7 × 2 of type dbl\n",
       "\\begin{tabular}{r|ll}\n",
       "  & freq & prop\\\\\n",
       "\\hline\n",
       "\t{[}150,155) &  1 & 0.01960784\\\\\n",
       "\t{[}155,160) &  5 & 0.09803922\\\\\n",
       "\t{[}160,165) & 14 & 0.27450980\\\\\n",
       "\t{[}165,170) &  8 & 0.15686275\\\\\n",
       "\t{[}170,175) & 12 & 0.23529412\\\\\n",
       "\t{[}175,180) &  7 & 0.13725490\\\\\n",
       "\t{[}180,185) &  4 & 0.07843137\\\\\n",
       "\\end{tabular}\n"
      ],
      "text/markdown": [
       "\n",
       "A matrix: 7 × 2 of type dbl\n",
       "\n",
       "| <!--/--> | freq | prop |\n",
       "|---|---|---|\n",
       "| [150,155) |  1 | 0.01960784 |\n",
       "| [155,160) |  5 | 0.09803922 |\n",
       "| [160,165) | 14 | 0.27450980 |\n",
       "| [165,170) |  8 | 0.15686275 |\n",
       "| [170,175) | 12 | 0.23529412 |\n",
       "| [175,180) |  7 | 0.13725490 |\n",
       "| [180,185) |  4 | 0.07843137 |\n",
       "\n"
      ],
      "text/plain": [
       "          freq prop      \n",
       "[150,155)  1   0.01960784\n",
       "[155,160)  5   0.09803922\n",
       "[160,165) 14   0.27450980\n",
       "[165,170)  8   0.15686275\n",
       "[170,175) 12   0.23529412\n",
       "[175,180)  7   0.13725490\n",
       "[180,185)  4   0.07843137"
      ]
     },
     "metadata": {},
     "output_type": "display_data"
    }
   ],
   "source": [
    "cbind(freq, prop)"
   ]
  },
  {
   "cell_type": "code",
   "execution_count": 32,
   "id": "31b0e12b",
   "metadata": {},
   "outputs": [],
   "source": [
    "score = c(45, 86, 34, 98, 67, 78, 56, 45, 85, 75, 64, 75, 75, 75, 58, 48, 83, 74)"
   ]
  },
  {
   "cell_type": "code",
   "execution_count": 33,
   "id": "8b7d79ac",
   "metadata": {},
   "outputs": [
    {
     "data": {
      "text/html": [
       "<style>\n",
       ".list-inline {list-style: none; margin:0; padding: 0}\n",
       ".list-inline>li {display: inline-block}\n",
       ".list-inline>li:not(:last-child)::after {content: \"\\00b7\"; padding: 0 .5ex}\n",
       "</style>\n",
       "<ol class=list-inline><li>45</li><li>86</li><li>34</li><li>98</li><li>67</li><li>78</li><li>56</li><li>45</li><li>85</li><li>75</li><li>64</li><li>75</li><li>75</li><li>75</li><li>58</li><li>48</li><li>83</li><li>74</li></ol>\n"
      ],
      "text/latex": [
       "\\begin{enumerate*}\n",
       "\\item 45\n",
       "\\item 86\n",
       "\\item 34\n",
       "\\item 98\n",
       "\\item 67\n",
       "\\item 78\n",
       "\\item 56\n",
       "\\item 45\n",
       "\\item 85\n",
       "\\item 75\n",
       "\\item 64\n",
       "\\item 75\n",
       "\\item 75\n",
       "\\item 75\n",
       "\\item 58\n",
       "\\item 48\n",
       "\\item 83\n",
       "\\item 74\n",
       "\\end{enumerate*}\n"
      ],
      "text/markdown": [
       "1. 45\n",
       "2. 86\n",
       "3. 34\n",
       "4. 98\n",
       "5. 67\n",
       "6. 78\n",
       "7. 56\n",
       "8. 45\n",
       "9. 85\n",
       "10. 75\n",
       "11. 64\n",
       "12. 75\n",
       "13. 75\n",
       "14. 75\n",
       "15. 58\n",
       "16. 48\n",
       "17. 83\n",
       "18. 74\n",
       "\n",
       "\n"
      ],
      "text/plain": [
       " [1] 45 86 34 98 67 78 56 45 85 75 64 75 75 75 58 48 83 74"
      ]
     },
     "metadata": {},
     "output_type": "display_data"
    }
   ],
   "source": [
    "score"
   ]
  },
  {
   "cell_type": "code",
   "execution_count": 37,
   "id": "d611ef09",
   "metadata": {},
   "outputs": [
    {
     "data": {
      "image/png": "[encoded data removed]",
      "text/plain": [
       "Plot with title \"Histogram of score\""
      ]
     },
     "metadata": {
      "image/png": {
       "height": 420,
       "width": 420
      }
     },
     "output_type": "display_data"
    }
   ],
   "source": [
    "hist(score, probability = T)\n",
    "lines(density(score))"
   ]
  },
  {
   "cell_type": "code",
   "execution_count": 38,
   "id": "64c6872c",
   "metadata": {},
   "outputs": [],
   "source": [
    "node = c(2, 2, 8, 20, 33)"
   ]
  },
  {
   "cell_type": "code",
   "execution_count": 39,
   "id": "0d065ba4",
   "metadata": {},
   "outputs": [
    {
     "data": {
      "text/html": [
       "13"
      ],
      "text/latex": [
       "13"
      ],
      "text/markdown": [
       "13"
      ],
      "text/plain": [
       "[1] 13"
      ]
     },
     "metadata": {},
     "output_type": "display_data"
    }
   ],
   "source": [
    "mean(node)"
   ]
  },
  {
   "cell_type": "code",
   "execution_count": 40,
   "id": "98819351",
   "metadata": {},
   "outputs": [
    {
     "data": {
      "text/html": [
       "8"
      ],
      "text/latex": [
       "8"
      ],
      "text/markdown": [
       "8"
      ],
      "text/plain": [
       "[1] 8"
      ]
     },
     "metadata": {},
     "output_type": "display_data"
    }
   ],
   "source": [
    "median(node)"
   ]
  },
  {
   "cell_type": "code",
   "execution_count": 41,
   "id": "74cf4326",
   "metadata": {},
   "outputs": [],
   "source": [
    "node2 = c(node, 25)"
   ]
  },
  {
   "cell_type": "code",
   "execution_count": 42,
   "id": "5af140e9",
   "metadata": {},
   "outputs": [
    {
     "data": {
      "text/html": [
       "15"
      ],
      "text/latex": [
       "15"
      ],
      "text/markdown": [
       "15"
      ],
      "text/plain": [
       "[1] 15"
      ]
     },
     "metadata": {},
     "output_type": "display_data"
    }
   ],
   "source": [
    "mean(node2)"
   ]
  },
  {
   "cell_type": "code",
   "execution_count": 43,
   "id": "96a41b96",
   "metadata": {},
   "outputs": [
    {
     "data": {
      "text/html": [
       "14"
      ],
      "text/latex": [
       "14"
      ],
      "text/markdown": [
       "14"
      ],
      "text/plain": [
       "[1] 14"
      ]
     },
     "metadata": {},
     "output_type": "display_data"
    }
   ],
   "source": [
    "median(node2)"
   ]
  },
  {
   "cell_type": "code",
   "execution_count": 44,
   "id": "eff09fb7",
   "metadata": {},
   "outputs": [],
   "source": [
    "area = c(53182, 49651, 69903, 267277)"
   ]
  },
  {
   "cell_type": "code",
   "execution_count": 45,
   "id": "1369f500",
   "metadata": {},
   "outputs": [],
   "source": [
    "names(area) = c('알칸사스','루이지애나','오클라호마','텍사스')"
   ]
  },
  {
   "cell_type": "code",
   "execution_count": 46,
   "id": "458c6397",
   "metadata": {},
   "outputs": [
    {
     "data": {
      "text/html": [
       "<style>\n",
       ".dl-inline {width: auto; margin:0; padding: 0}\n",
       ".dl-inline>dt, .dl-inline>dd {float: none; width: auto; display: inline-block}\n",
       ".dl-inline>dt::after {content: \":\\0020\"; padding-right: .5ex}\n",
       ".dl-inline>dt:not(:first-of-type) {padding-left: .5ex}\n",
       "</style><dl class=dl-inline><dt>알칸사스</dt><dd>53182</dd><dt>루이지애나</dt><dd>49651</dd><dt>오클라호마</dt><dd>69903</dd><dt>텍사스</dt><dd>267277</dd></dl>\n"
      ],
      "text/latex": [
       "\\begin{description*}\n",
       "\\item[알칸사스] 53182\n",
       "\\item[루이지애나] 49651\n",
       "\\item[오클라호마] 69903\n",
       "\\item[텍사스] 267277\n",
       "\\end{description*}\n"
      ],
      "text/markdown": [
       "알칸사스\n",
       ":   53182루이지애나\n",
       ":   49651오클라호마\n",
       ":   69903텍사스\n",
       ":   267277\n",
       "\n"
      ],
      "text/plain": [
       "  알칸사스 루이지애나 오클라호마     텍사스 \n",
       "     53182      49651      69903     267277 "
      ]
     },
     "metadata": {},
     "output_type": "display_data"
    }
   ],
   "source": [
    "area"
   ]
  },
  {
   "cell_type": "code",
   "execution_count": 47,
   "id": "4c7d0c8f",
   "metadata": {},
   "outputs": [
    {
     "data": {
      "text/html": [
       "<style>\n",
       ".list-inline {list-style: none; margin:0; padding: 0}\n",
       ".list-inline>li {display: inline-block}\n",
       ".list-inline>li:not(:last-child)::after {content: \"\\00b7\"; padding: 0 .5ex}\n",
       "</style>\n",
       "<ol class=list-inline><li>49651</li><li>267277</li></ol>\n"
      ],
      "text/latex": [
       "\\begin{enumerate*}\n",
       "\\item 49651\n",
       "\\item 267277\n",
       "\\end{enumerate*}\n"
      ],
      "text/markdown": [
       "1. 49651\n",
       "2. 267277\n",
       "\n",
       "\n"
      ],
      "text/plain": [
       "[1]  49651 267277"
      ]
     },
     "metadata": {},
     "output_type": "display_data"
    }
   ],
   "source": [
    "range(area)"
   ]
  },
  {
   "cell_type": "code",
   "execution_count": 48,
   "id": "a1caa3ff",
   "metadata": {},
   "outputs": [
    {
     "data": {
      "text/html": [
       "217626"
      ],
      "text/latex": [
       "217626"
      ],
      "text/markdown": [
       "217626"
      ],
      "text/plain": [
       "[1] 217626"
      ]
     },
     "metadata": {},
     "output_type": "display_data"
    }
   ],
   "source": [
    "diff(range(area))"
   ]
  },
  {
   "cell_type": "code",
   "execution_count": 49,
   "id": "7fcd7fca",
   "metadata": {},
   "outputs": [],
   "source": [
    "min = c(42, 40, 38, 37, 43, 39, 78, 38, 45, 44, 40, 38, 41, 35, 31, 44)"
   ]
  },
  {
   "cell_type": "code",
   "execution_count": 50,
   "id": "c134a6b2",
   "metadata": {},
   "outputs": [
    {
     "data": {
      "text/html": [
       "<style>\n",
       ".list-inline {list-style: none; margin:0; padding: 0}\n",
       ".list-inline>li {display: inline-block}\n",
       ".list-inline>li:not(:last-child)::after {content: \"\\00b7\"; padding: 0 .5ex}\n",
       "</style>\n",
       "<ol class=list-inline><li>42</li><li>40</li><li>38</li><li>37</li><li>43</li><li>39</li><li>78</li><li>38</li><li>45</li><li>44</li><li>40</li><li>38</li><li>41</li><li>35</li><li>31</li><li>44</li></ol>\n"
      ],
      "text/latex": [
       "\\begin{enumerate*}\n",
       "\\item 42\n",
       "\\item 40\n",
       "\\item 38\n",
       "\\item 37\n",
       "\\item 43\n",
       "\\item 39\n",
       "\\item 78\n",
       "\\item 38\n",
       "\\item 45\n",
       "\\item 44\n",
       "\\item 40\n",
       "\\item 38\n",
       "\\item 41\n",
       "\\item 35\n",
       "\\item 31\n",
       "\\item 44\n",
       "\\end{enumerate*}\n"
      ],
      "text/markdown": [
       "1. 42\n",
       "2. 40\n",
       "3. 38\n",
       "4. 37\n",
       "5. 43\n",
       "6. 39\n",
       "7. 78\n",
       "8. 38\n",
       "9. 45\n",
       "10. 44\n",
       "11. 40\n",
       "12. 38\n",
       "13. 41\n",
       "14. 35\n",
       "15. 31\n",
       "16. 44\n",
       "\n",
       "\n"
      ],
      "text/plain": [
       " [1] 42 40 38 37 43 39 78 38 45 44 40 38 41 35 31 44"
      ]
     },
     "metadata": {},
     "output_type": "display_data"
    }
   ],
   "source": [
    "min"
   ]
  },
  {
   "cell_type": "code",
   "execution_count": 51,
   "id": "ca095758",
   "metadata": {},
   "outputs": [
    {
     "data": {
      "text/html": [
       "<style>\n",
       ".dl-inline {width: auto; margin:0; padding: 0}\n",
       ".dl-inline>dt, .dl-inline>dd {float: none; width: auto; display: inline-block}\n",
       ".dl-inline>dt::after {content: \":\\0020\"; padding-right: .5ex}\n",
       ".dl-inline>dt:not(:first-of-type) {padding-left: .5ex}\n",
       "</style><dl class=dl-inline><dt>0%</dt><dd>31</dd><dt>25%</dt><dd>38</dd><dt>50%</dt><dd>40</dd><dt>75%</dt><dd>43.25</dd><dt>100%</dt><dd>78</dd></dl>\n"
      ],
      "text/latex": [
       "\\begin{description*}\n",
       "\\item[0\\textbackslash{}\\%] 31\n",
       "\\item[25\\textbackslash{}\\%] 38\n",
       "\\item[50\\textbackslash{}\\%] 40\n",
       "\\item[75\\textbackslash{}\\%] 43.25\n",
       "\\item[100\\textbackslash{}\\%] 78\n",
       "\\end{description*}\n"
      ],
      "text/markdown": [
       "0%\n",
       ":   3125%\n",
       ":   3850%\n",
       ":   4075%\n",
       ":   43.25100%\n",
       ":   78\n",
       "\n"
      ],
      "text/plain": [
       "   0%   25%   50%   75%  100% \n",
       "31.00 38.00 40.00 43.25 78.00 "
      ]
     },
     "metadata": {},
     "output_type": "display_data"
    }
   ],
   "source": [
    "quantile(min)"
   ]
  },
  {
   "cell_type": "code",
   "execution_count": 52,
   "id": "4f6b9738",
   "metadata": {},
   "outputs": [
    {
     "data": {
      "text/html": [
       "<style>\n",
       ".dl-inline {width: auto; margin:0; padding: 0}\n",
       ".dl-inline>dt, .dl-inline>dd {float: none; width: auto; display: inline-block}\n",
       ".dl-inline>dt::after {content: \":\\0020\"; padding-right: .5ex}\n",
       ".dl-inline>dt:not(:first-of-type) {padding-left: .5ex}\n",
       "</style><dl class=dl-inline><dt>0%</dt><dd>31</dd><dt>10%</dt><dd>36</dd><dt>20%</dt><dd>38</dd><dt>30%</dt><dd>38</dd><dt>40%</dt><dd>39</dd><dt>50%</dt><dd>40</dd><dt>60%</dt><dd>41</dd><dt>70%</dt><dd>42.5</dd><dt>80%</dt><dd>44</dd><dt>90%</dt><dd>44.5</dd><dt>100%</dt><dd>78</dd></dl>\n"
      ],
      "text/latex": [
       "\\begin{description*}\n",
       "\\item[0\\textbackslash{}\\%] 31\n",
       "\\item[10\\textbackslash{}\\%] 36\n",
       "\\item[20\\textbackslash{}\\%] 38\n",
       "\\item[30\\textbackslash{}\\%] 38\n",
       "\\item[40\\textbackslash{}\\%] 39\n",
       "\\item[50\\textbackslash{}\\%] 40\n",
       "\\item[60\\textbackslash{}\\%] 41\n",
       "\\item[70\\textbackslash{}\\%] 42.5\n",
       "\\item[80\\textbackslash{}\\%] 44\n",
       "\\item[90\\textbackslash{}\\%] 44.5\n",
       "\\item[100\\textbackslash{}\\%] 78\n",
       "\\end{description*}\n"
      ],
      "text/markdown": [
       "0%\n",
       ":   3110%\n",
       ":   3620%\n",
       ":   3830%\n",
       ":   3840%\n",
       ":   3950%\n",
       ":   4060%\n",
       ":   4170%\n",
       ":   42.580%\n",
       ":   4490%\n",
       ":   44.5100%\n",
       ":   78\n",
       "\n"
      ],
      "text/plain": [
       "  0%  10%  20%  30%  40%  50%  60%  70%  80%  90% 100% \n",
       "31.0 36.0 38.0 38.0 39.0 40.0 41.0 42.5 44.0 44.5 78.0 "
      ]
     },
     "metadata": {},
     "output_type": "display_data"
    }
   ],
   "source": [
    "quantile(min, (0:10)/10)"
   ]
  },
  {
   "cell_type": "code",
   "execution_count": 53,
   "id": "6722b616",
   "metadata": {},
   "outputs": [
    {
     "data": {
      "text/html": [
       "5.25"
      ],
      "text/latex": [
       "5.25"
      ],
      "text/markdown": [
       "5.25"
      ],
      "text/plain": [
       "[1] 5.25"
      ]
     },
     "metadata": {},
     "output_type": "display_data"
    }
   ],
   "source": [
    "IQR(min)"
   ]
  },
  {
   "cell_type": "code",
   "execution_count": 54,
   "id": "a42d022f",
   "metadata": {},
   "outputs": [],
   "source": [
    "buy = c(35, 29, 44, 72, 34, 64, 41, 50, 54, 104, 39, 58)"
   ]
  },
  {
   "cell_type": "code",
   "execution_count": 55,
   "id": "3e3d3ba7",
   "metadata": {},
   "outputs": [
    {
     "data": {
      "text/html": [
       "<style>\n",
       ".list-inline {list-style: none; margin:0; padding: 0}\n",
       ".list-inline>li {display: inline-block}\n",
       ".list-inline>li:not(:last-child)::after {content: \"\\00b7\"; padding: 0 .5ex}\n",
       "</style>\n",
       "<ol class=list-inline><li>35</li><li>29</li><li>44</li><li>72</li><li>34</li><li>64</li><li>41</li><li>50</li><li>54</li><li>104</li><li>39</li><li>58</li></ol>\n"
      ],
      "text/latex": [
       "\\begin{enumerate*}\n",
       "\\item 35\n",
       "\\item 29\n",
       "\\item 44\n",
       "\\item 72\n",
       "\\item 34\n",
       "\\item 64\n",
       "\\item 41\n",
       "\\item 50\n",
       "\\item 54\n",
       "\\item 104\n",
       "\\item 39\n",
       "\\item 58\n",
       "\\end{enumerate*}\n"
      ],
      "text/markdown": [
       "1. 35\n",
       "2. 29\n",
       "3. 44\n",
       "4. 72\n",
       "5. 34\n",
       "6. 64\n",
       "7. 41\n",
       "8. 50\n",
       "9. 54\n",
       "10. 104\n",
       "11. 39\n",
       "12. 58\n",
       "\n",
       "\n"
      ],
      "text/plain": [
       " [1]  35  29  44  72  34  64  41  50  54 104  39  58"
      ]
     },
     "metadata": {},
     "output_type": "display_data"
    }
   ],
   "source": [
    "buy"
   ]
  },
  {
   "cell_type": "code",
   "execution_count": 56,
   "id": "bebe468a",
   "metadata": {},
   "outputs": [
    {
     "data": {
      "image/png": "[encoded data removed]",
      "text/plain": [
       "plot without title"
      ]
     },
     "metadata": {
      "image/png": {
       "height": 420,
       "width": 420
      }
     },
     "output_type": "display_data"
    }
   ],
   "source": [
    "boxplot(buy)"
   ]
  },
  {
   "cell_type": "code",
   "execution_count": 57,
   "id": "f971da2b",
   "metadata": {},
   "outputs": [
    {
     "data": {
      "text/html": [
       "<dl>\n",
       "\t<dt>$stats</dt>\n",
       "\t\t<dd><style>\n",
       ".list-inline {list-style: none; margin:0; padding: 0}\n",
       ".list-inline>li {display: inline-block}\n",
       ".list-inline>li:not(:last-child)::after {content: \"\\00b7\"; padding: 0 .5ex}\n",
       "</style>\n",
       "<ol class=list-inline><li>29</li><li>37</li><li>47</li><li>61</li><li>72</li></ol>\n",
       "</dd>\n",
       "\t<dt>$n</dt>\n",
       "\t\t<dd>12</dd>\n",
       "\t<dt>$conf</dt>\n",
       "\t\t<dd><style>\n",
       ".list-inline {list-style: none; margin:0; padding: 0}\n",
       ".list-inline>li {display: inline-block}\n",
       ".list-inline>li:not(:last-child)::after {content: \"\\00b7\"; padding: 0 .5ex}\n",
       "</style>\n",
       "<ol class=list-inline><li>36.0534388961647</li><li>57.9465611038353</li></ol>\n",
       "</dd>\n",
       "\t<dt>$out</dt>\n",
       "\t\t<dd>104</dd>\n",
       "</dl>\n"
      ],
      "text/latex": [
       "\\begin{description}\n",
       "\\item[\\$stats] \\begin{enumerate*}\n",
       "\\item 29\n",
       "\\item 37\n",
       "\\item 47\n",
       "\\item 61\n",
       "\\item 72\n",
       "\\end{enumerate*}\n",
       "\n",
       "\\item[\\$n] 12\n",
       "\\item[\\$conf] \\begin{enumerate*}\n",
       "\\item 36.0534388961647\n",
       "\\item 57.9465611038353\n",
       "\\end{enumerate*}\n",
       "\n",
       "\\item[\\$out] 104\n",
       "\\end{description}\n"
      ],
      "text/markdown": [
       "$stats\n",
       ":   1. 29\n",
       "2. 37\n",
       "3. 47\n",
       "4. 61\n",
       "5. 72\n",
       "\n",
       "\n",
       "\n",
       "$n\n",
       ":   12\n",
       "$conf\n",
       ":   1. 36.0534388961647\n",
       "2. 57.9465611038353\n",
       "\n",
       "\n",
       "\n",
       "$out\n",
       ":   104\n",
       "\n",
       "\n"
      ],
      "text/plain": [
       "$stats\n",
       "[1] 29 37 47 61 72\n",
       "\n",
       "$n\n",
       "[1] 12\n",
       "\n",
       "$conf\n",
       "[1] 36.05344 57.94656\n",
       "\n",
       "$out\n",
       "[1] 104\n"
      ]
     },
     "metadata": {},
     "output_type": "display_data"
    }
   ],
   "source": [
    "boxplot.stats(buy)"
   ]
  },
  {
   "cell_type": "code",
   "execution_count": 58,
   "id": "c9424994",
   "metadata": {},
   "outputs": [],
   "source": [
    "noise<-c(55.9,63.8,57.2,59.8,65.7,62.7,60.8,51.3,61.8,56.0,\n",
    "+          66.9,56.8,66.2,64.6,59.5,63.1,60.6,62.0,59.4,67.2,\n",
    "+          63.6,60.5,66.8,61.8,64.8,55.8,55.7,77.1,62.1,61.0,\n",
    "+          58.9,60.0,66.9,61.7,60.3,51.5,67.0,60.2,56.2,59.4,\n",
    "+          67.9,64.9,55.7,61.4,62.6,56.4,56.4,69.4,57.6,63.8)"
   ]
  },
  {
   "cell_type": "code",
   "execution_count": 59,
   "id": "e452e4a1",
   "metadata": {},
   "outputs": [
    {
     "data": {
      "text/html": [
       "<style>\n",
       ".list-inline {list-style: none; margin:0; padding: 0}\n",
       ".list-inline>li {display: inline-block}\n",
       ".list-inline>li:not(:last-child)::after {content: \"\\00b7\"; padding: 0 .5ex}\n",
       "</style>\n",
       "<ol class=list-inline><li>55.9</li><li>63.8</li><li>57.2</li><li>59.8</li><li>65.7</li><li>62.7</li><li>60.8</li><li>51.3</li><li>61.8</li><li>56</li><li>66.9</li><li>56.8</li><li>66.2</li><li>64.6</li><li>59.5</li><li>63.1</li><li>60.6</li><li>62</li><li>59.4</li><li>67.2</li><li>63.6</li><li>60.5</li><li>66.8</li><li>61.8</li><li>64.8</li><li>55.8</li><li>55.7</li><li>77.1</li><li>62.1</li><li>61</li><li>58.9</li><li>60</li><li>66.9</li><li>61.7</li><li>60.3</li><li>51.5</li><li>67</li><li>60.2</li><li>56.2</li><li>59.4</li><li>67.9</li><li>64.9</li><li>55.7</li><li>61.4</li><li>62.6</li><li>56.4</li><li>56.4</li><li>69.4</li><li>57.6</li><li>63.8</li></ol>\n"
      ],
      "text/latex": [
       "\\begin{enumerate*}\n",
       "\\item 55.9\n",
       "\\item 63.8\n",
       "\\item 57.2\n",
       "\\item 59.8\n",
       "\\item 65.7\n",
       "\\item 62.7\n",
       "\\item 60.8\n",
       "\\item 51.3\n",
       "\\item 61.8\n",
       "\\item 56\n",
       "\\item 66.9\n",
       "\\item 56.8\n",
       "\\item 66.2\n",
       "\\item 64.6\n",
       "\\item 59.5\n",
       "\\item 63.1\n",
       "\\item 60.6\n",
       "\\item 62\n",
       "\\item 59.4\n",
       "\\item 67.2\n",
       "\\item 63.6\n",
       "\\item 60.5\n",
       "\\item 66.8\n",
       "\\item 61.8\n",
       "\\item 64.8\n",
       "\\item 55.8\n",
       "\\item 55.7\n",
       "\\item 77.1\n",
       "\\item 62.1\n",
       "\\item 61\n",
       "\\item 58.9\n",
       "\\item 60\n",
       "\\item 66.9\n",
       "\\item 61.7\n",
       "\\item 60.3\n",
       "\\item 51.5\n",
       "\\item 67\n",
       "\\item 60.2\n",
       "\\item 56.2\n",
       "\\item 59.4\n",
       "\\item 67.9\n",
       "\\item 64.9\n",
       "\\item 55.7\n",
       "\\item 61.4\n",
       "\\item 62.6\n",
       "\\item 56.4\n",
       "\\item 56.4\n",
       "\\item 69.4\n",
       "\\item 57.6\n",
       "\\item 63.8\n",
       "\\end{enumerate*}\n"
      ],
      "text/markdown": [
       "1. 55.9\n",
       "2. 63.8\n",
       "3. 57.2\n",
       "4. 59.8\n",
       "5. 65.7\n",
       "6. 62.7\n",
       "7. 60.8\n",
       "8. 51.3\n",
       "9. 61.8\n",
       "10. 56\n",
       "11. 66.9\n",
       "12. 56.8\n",
       "13. 66.2\n",
       "14. 64.6\n",
       "15. 59.5\n",
       "16. 63.1\n",
       "17. 60.6\n",
       "18. 62\n",
       "19. 59.4\n",
       "20. 67.2\n",
       "21. 63.6\n",
       "22. 60.5\n",
       "23. 66.8\n",
       "24. 61.8\n",
       "25. 64.8\n",
       "26. 55.8\n",
       "27. 55.7\n",
       "28. 77.1\n",
       "29. 62.1\n",
       "30. 61\n",
       "31. 58.9\n",
       "32. 60\n",
       "33. 66.9\n",
       "34. 61.7\n",
       "35. 60.3\n",
       "36. 51.5\n",
       "37. 67\n",
       "38. 60.2\n",
       "39. 56.2\n",
       "40. 59.4\n",
       "41. 67.9\n",
       "42. 64.9\n",
       "43. 55.7\n",
       "44. 61.4\n",
       "45. 62.6\n",
       "46. 56.4\n",
       "47. 56.4\n",
       "48. 69.4\n",
       "49. 57.6\n",
       "50. 63.8\n",
       "\n",
       "\n"
      ],
      "text/plain": [
       " [1] 55.9 63.8 57.2 59.8 65.7 62.7 60.8 51.3 61.8 56.0 66.9 56.8 66.2 64.6 59.5\n",
       "[16] 63.1 60.6 62.0 59.4 67.2 63.6 60.5 66.8 61.8 64.8 55.8 55.7 77.1 62.1 61.0\n",
       "[31] 58.9 60.0 66.9 61.7 60.3 51.5 67.0 60.2 56.2 59.4 67.9 64.9 55.7 61.4 62.6\n",
       "[46] 56.4 56.4 69.4 57.6 63.8"
      ]
     },
     "metadata": {},
     "output_type": "display_data"
    }
   ],
   "source": [
    "noise"
   ]
  },
  {
   "cell_type": "code",
   "execution_count": 60,
   "id": "1d70295f",
   "metadata": {},
   "outputs": [
    {
     "data": {
      "image/png": "[encoded data removed]",
      "text/plain": [
       "plot without title"
      ]
     },
     "metadata": {
      "image/png": {
       "height": 420,
       "width": 420
      }
     },
     "output_type": "display_data"
    }
   ],
   "source": [
    "boxplot(noise)"
   ]
  },
  {
   "cell_type": "code",
   "execution_count": 61,
   "id": "e2a533a6",
   "metadata": {},
   "outputs": [
    {
     "data": {
      "text/html": [
       "<dl>\n",
       "\t<dt>$stats</dt>\n",
       "\t\t<dd><style>\n",
       ".list-inline {list-style: none; margin:0; padding: 0}\n",
       ".list-inline>li {display: inline-block}\n",
       ".list-inline>li:not(:last-child)::after {content: \"\\00b7\"; padding: 0 .5ex}\n",
       "</style>\n",
       "<ol class=list-inline><li>51.3</li><li>57.6</li><li>61.2</li><li>64.6</li><li>69.4</li></ol>\n",
       "</dd>\n",
       "\t<dt>$n</dt>\n",
       "\t\t<dd>50</dd>\n",
       "\t<dt>$conf</dt>\n",
       "\t\t<dd><style>\n",
       ".list-inline {list-style: none; margin:0; padding: 0}\n",
       ".list-inline>li {display: inline-block}\n",
       ".list-inline>li:not(:last-child)::after {content: \"\\00b7\"; padding: 0 .5ex}\n",
       "</style>\n",
       "<ol class=list-inline><li>59.6358798000154</li><li>62.7641201999846</li></ol>\n",
       "</dd>\n",
       "\t<dt>$out</dt>\n",
       "\t\t<dd>77.1</dd>\n",
       "</dl>\n"
      ],
      "text/latex": [
       "\\begin{description}\n",
       "\\item[\\$stats] \\begin{enumerate*}\n",
       "\\item 51.3\n",
       "\\item 57.6\n",
       "\\item 61.2\n",
       "\\item 64.6\n",
       "\\item 69.4\n",
       "\\end{enumerate*}\n",
       "\n",
       "\\item[\\$n] 50\n",
       "\\item[\\$conf] \\begin{enumerate*}\n",
       "\\item 59.6358798000154\n",
       "\\item 62.7641201999846\n",
       "\\end{enumerate*}\n",
       "\n",
       "\\item[\\$out] 77.1\n",
       "\\end{description}\n"
      ],
      "text/markdown": [
       "$stats\n",
       ":   1. 51.3\n",
       "2. 57.6\n",
       "3. 61.2\n",
       "4. 64.6\n",
       "5. 69.4\n",
       "\n",
       "\n",
       "\n",
       "$n\n",
       ":   50\n",
       "$conf\n",
       ":   1. 59.6358798000154\n",
       "2. 62.7641201999846\n",
       "\n",
       "\n",
       "\n",
       "$out\n",
       ":   77.1\n",
       "\n",
       "\n"
      ],
      "text/plain": [
       "$stats\n",
       "[1] 51.3 57.6 61.2 64.6 69.4\n",
       "\n",
       "$n\n",
       "[1] 50\n",
       "\n",
       "$conf\n",
       "[1] 59.63588 62.76412\n",
       "\n",
       "$out\n",
       "[1] 77.1\n"
      ]
     },
     "metadata": {},
     "output_type": "display_data"
    }
   ],
   "source": [
    "boxplot.stats(noise)"
   ]
  },
  {
   "cell_type": "code",
   "execution_count": 62,
   "id": "d1b3c696",
   "metadata": {},
   "outputs": [
    {
     "data": {
      "text/html": [
       "22.8497183673469"
      ],
      "text/latex": [
       "22.8497183673469"
      ],
      "text/markdown": [
       "22.8497183673469"
      ],
      "text/plain": [
       "[1] 22.84972"
      ]
     },
     "metadata": {},
     "output_type": "display_data"
    }
   ],
   "source": [
    "var(noise)"
   ]
  },
  {
   "cell_type": "code",
   "execution_count": 63,
   "id": "46e4e01e",
   "metadata": {},
   "outputs": [
    {
     "data": {
      "text/html": [
       "61.374"
      ],
      "text/latex": [
       "61.374"
      ],
      "text/markdown": [
       "61.374"
      ],
      "text/plain": [
       "[1] 61.374"
      ]
     },
     "metadata": {},
     "output_type": "display_data"
    }
   ],
   "source": [
    "mean(noise)"
   ]
  },
  {
   "cell_type": "code",
   "execution_count": 64,
   "id": "88192e50",
   "metadata": {},
   "outputs": [
    {
     "data": {
      "text/html": [
       "<style>\n",
       ".dl-inline {width: auto; margin:0; padding: 0}\n",
       ".dl-inline>dt, .dl-inline>dd {float: none; width: auto; display: inline-block}\n",
       ".dl-inline>dt::after {content: \":\\0020\"; padding-right: .5ex}\n",
       ".dl-inline>dt:not(:first-of-type) {padding-left: .5ex}\n",
       "</style><dl class=dl-inline><dt>0%</dt><dd>51.3</dd><dt>25%</dt><dd>57.6</dd><dt>50%</dt><dd>61.2</dd><dt>75%</dt><dd>64.6</dd><dt>100%</dt><dd>77.1</dd></dl>\n"
      ],
      "text/latex": [
       "\\begin{description*}\n",
       "\\item[0\\textbackslash{}\\%] 51.3\n",
       "\\item[25\\textbackslash{}\\%] 57.6\n",
       "\\item[50\\textbackslash{}\\%] 61.2\n",
       "\\item[75\\textbackslash{}\\%] 64.6\n",
       "\\item[100\\textbackslash{}\\%] 77.1\n",
       "\\end{description*}\n"
      ],
      "text/markdown": [
       "0%\n",
       ":   51.325%\n",
       ":   57.650%\n",
       ":   61.275%\n",
       ":   64.6100%\n",
       ":   77.1\n",
       "\n"
      ],
      "text/plain": [
       "  0%  25%  50%  75% 100% \n",
       "51.3 57.6 61.2 64.6 77.1 "
      ]
     },
     "metadata": {},
     "output_type": "display_data"
    }
   ],
   "source": [
    "quantile(noise, type = 2)"
   ]
  },
  {
   "cell_type": "code",
   "execution_count": 65,
   "id": "4fb35b23",
   "metadata": {},
   "outputs": [],
   "source": [
    "work = c(45, 43, 41, 39, 39, 35, 37, 40, 39, 36, 37)"
   ]
  },
  {
   "cell_type": "code",
   "execution_count": 66,
   "id": "60c18140",
   "metadata": {},
   "outputs": [
    {
     "data": {
      "text/html": [
       "<style>\n",
       ".list-inline {list-style: none; margin:0; padding: 0}\n",
       ".list-inline>li {display: inline-block}\n",
       ".list-inline>li:not(:last-child)::after {content: \"\\00b7\"; padding: 0 .5ex}\n",
       "</style>\n",
       "<ol class=list-inline><li>45</li><li>43</li><li>41</li><li>39</li><li>39</li><li>35</li><li>37</li><li>40</li><li>39</li><li>36</li><li>37</li></ol>\n"
      ],
      "text/latex": [
       "\\begin{enumerate*}\n",
       "\\item 45\n",
       "\\item 43\n",
       "\\item 41\n",
       "\\item 39\n",
       "\\item 39\n",
       "\\item 35\n",
       "\\item 37\n",
       "\\item 40\n",
       "\\item 39\n",
       "\\item 36\n",
       "\\item 37\n",
       "\\end{enumerate*}\n"
      ],
      "text/markdown": [
       "1. 45\n",
       "2. 43\n",
       "3. 41\n",
       "4. 39\n",
       "5. 39\n",
       "6. 35\n",
       "7. 37\n",
       "8. 40\n",
       "9. 39\n",
       "10. 36\n",
       "11. 37\n",
       "\n",
       "\n"
      ],
      "text/plain": [
       " [1] 45 43 41 39 39 35 37 40 39 36 37"
      ]
     },
     "metadata": {},
     "output_type": "display_data"
    }
   ],
   "source": [
    "work"
   ]
  },
  {
   "cell_type": "code",
   "execution_count": 67,
   "id": "1da86823",
   "metadata": {},
   "outputs": [
    {
     "data": {
      "text/html": [
       "8.96363636363636"
      ],
      "text/latex": [
       "8.96363636363636"
      ],
      "text/markdown": [
       "8.96363636363636"
      ],
      "text/plain": [
       "[1] 8.963636"
      ]
     },
     "metadata": {},
     "output_type": "display_data"
    }
   ],
   "source": [
    "var(work)"
   ]
  },
  {
   "cell_type": "code",
   "execution_count": 68,
   "id": "5980dcfe",
   "metadata": {},
   "outputs": [
    {
     "data": {
      "text/html": [
       "2.99393325971645"
      ],
      "text/latex": [
       "2.99393325971645"
      ],
      "text/markdown": [
       "2.99393325971645"
      ],
      "text/plain": [
       "[1] 2.993933"
      ]
     },
     "metadata": {},
     "output_type": "display_data"
    }
   ],
   "source": [
    "sd(work)"
   ]
  },
  {
   "cell_type": "code",
   "execution_count": 69,
   "id": "4a207cb2",
   "metadata": {},
   "outputs": [],
   "source": [
    "crime = c(7, 10, 8, 3, 15, 12, 6, 11)"
   ]
  },
  {
   "cell_type": "code",
   "execution_count": 70,
   "id": "37d0ae2a",
   "metadata": {},
   "outputs": [
    {
     "data": {
      "text/html": [
       "<style>\n",
       ".list-inline {list-style: none; margin:0; padding: 0}\n",
       ".list-inline>li {display: inline-block}\n",
       ".list-inline>li:not(:last-child)::after {content: \"\\00b7\"; padding: 0 .5ex}\n",
       "</style>\n",
       "<ol class=list-inline><li>7</li><li>10</li><li>8</li><li>3</li><li>15</li><li>12</li><li>6</li><li>11</li></ol>\n"
      ],
      "text/latex": [
       "\\begin{enumerate*}\n",
       "\\item 7\n",
       "\\item 10\n",
       "\\item 8\n",
       "\\item 3\n",
       "\\item 15\n",
       "\\item 12\n",
       "\\item 6\n",
       "\\item 11\n",
       "\\end{enumerate*}\n"
      ],
      "text/markdown": [
       "1. 7\n",
       "2. 10\n",
       "3. 8\n",
       "4. 3\n",
       "5. 15\n",
       "6. 12\n",
       "7. 6\n",
       "8. 11\n",
       "\n",
       "\n"
      ],
      "text/plain": [
       "[1]  7 10  8  3 15 12  6 11"
      ]
     },
     "metadata": {},
     "output_type": "display_data"
    }
   ],
   "source": [
    "crime\n"
   ]
  },
  {
   "cell_type": "code",
   "execution_count": 71,
   "id": "14cbec51",
   "metadata": {},
   "outputs": [
    {
     "data": {
      "text/html": [
       "9"
      ],
      "text/latex": [
       "9"
      ],
      "text/markdown": [
       "9"
      ],
      "text/plain": [
       "[1] 9"
      ]
     },
     "metadata": {},
     "output_type": "display_data"
    }
   ],
   "source": [
    "mean(crime)"
   ]
  },
  {
   "cell_type": "code",
   "execution_count": 72,
   "id": "6690f0b4",
   "metadata": {},
   "outputs": [
    {
     "data": {
      "text/html": [
       "<style>\n",
       ".list-inline {list-style: none; margin:0; padding: 0}\n",
       ".list-inline>li {display: inline-block}\n",
       ".list-inline>li:not(:last-child)::after {content: \"\\00b7\"; padding: 0 .5ex}\n",
       "</style>\n",
       "<ol class=list-inline><li>3</li><li>15</li></ol>\n"
      ],
      "text/latex": [
       "\\begin{enumerate*}\n",
       "\\item 3\n",
       "\\item 15\n",
       "\\end{enumerate*}\n"
      ],
      "text/markdown": [
       "1. 3\n",
       "2. 15\n",
       "\n",
       "\n"
      ],
      "text/plain": [
       "[1]  3 15"
      ]
     },
     "metadata": {},
     "output_type": "display_data"
    }
   ],
   "source": [
    "range(crime\n",
    "     )"
   ]
  },
  {
   "cell_type": "code",
   "execution_count": null,
   "id": "f9b7eef4",
   "metadata": {},
   "outputs": [],
   "source": []
  },
  {
   "cell_type": "code",
   "execution_count": 73,
   "id": "4f2fbadc",
   "metadata": {},
   "outputs": [
    {
     "data": {
      "text/html": [
       "14.2857142857143"
      ],
      "text/latex": [
       "14.2857142857143"
      ],
      "text/markdown": [
       "14.2857142857143"
      ],
      "text/plain": [
       "[1] 14.28571"
      ]
     },
     "metadata": {},
     "output_type": "display_data"
    }
   ],
   "source": [
    "var(crime)"
   ]
  },
  {
   "cell_type": "code",
   "execution_count": 74,
   "id": "5d186b7f",
   "metadata": {},
   "outputs": [
    {
     "data": {
      "text/html": [
       "3.77964473009227"
      ],
      "text/latex": [
       "3.77964473009227"
      ],
      "text/markdown": [
       "3.77964473009227"
      ],
      "text/plain": [
       "[1] 3.779645"
      ]
     },
     "metadata": {},
     "output_type": "display_data"
    }
   ],
   "source": [
    "sd(crime)"
   ]
  },
  {
   "cell_type": "code",
   "execution_count": 75,
   "id": "c9d9d998",
   "metadata": {},
   "outputs": [],
   "source": [
    "coin = c(4, 1, 0, 0, 2, 2, 2, 2, 2, 1, 2, 3, 1, 2, 2, 3, 1, 2, 1, 2, 1, 4, 4, 3, 3)"
   ]
  },
  {
   "cell_type": "code",
   "execution_count": 76,
   "id": "381dc3b2",
   "metadata": {},
   "outputs": [
    {
     "data": {
      "text/html": [
       "<style>\n",
       ".list-inline {list-style: none; margin:0; padding: 0}\n",
       ".list-inline>li {display: inline-block}\n",
       ".list-inline>li:not(:last-child)::after {content: \"\\00b7\"; padding: 0 .5ex}\n",
       "</style>\n",
       "<ol class=list-inline><li>4</li><li>1</li><li>0</li><li>0</li><li>2</li><li>2</li><li>2</li><li>2</li><li>2</li><li>1</li><li>2</li><li>3</li><li>1</li><li>2</li><li>2</li><li>3</li><li>1</li><li>2</li><li>1</li><li>2</li><li>1</li><li>4</li><li>4</li><li>3</li><li>3</li></ol>\n"
      ],
      "text/latex": [
       "\\begin{enumerate*}\n",
       "\\item 4\n",
       "\\item 1\n",
       "\\item 0\n",
       "\\item 0\n",
       "\\item 2\n",
       "\\item 2\n",
       "\\item 2\n",
       "\\item 2\n",
       "\\item 2\n",
       "\\item 1\n",
       "\\item 2\n",
       "\\item 3\n",
       "\\item 1\n",
       "\\item 2\n",
       "\\item 2\n",
       "\\item 3\n",
       "\\item 1\n",
       "\\item 2\n",
       "\\item 1\n",
       "\\item 2\n",
       "\\item 1\n",
       "\\item 4\n",
       "\\item 4\n",
       "\\item 3\n",
       "\\item 3\n",
       "\\end{enumerate*}\n"
      ],
      "text/markdown": [
       "1. 4\n",
       "2. 1\n",
       "3. 0\n",
       "4. 0\n",
       "5. 2\n",
       "6. 2\n",
       "7. 2\n",
       "8. 2\n",
       "9. 2\n",
       "10. 1\n",
       "11. 2\n",
       "12. 3\n",
       "13. 1\n",
       "14. 2\n",
       "15. 2\n",
       "16. 3\n",
       "17. 1\n",
       "18. 2\n",
       "19. 1\n",
       "20. 2\n",
       "21. 1\n",
       "22. 4\n",
       "23. 4\n",
       "24. 3\n",
       "25. 3\n",
       "\n",
       "\n"
      ],
      "text/plain": [
       " [1] 4 1 0 0 2 2 2 2 2 1 2 3 1 2 2 3 1 2 1 2 1 4 4 3 3"
      ]
     },
     "metadata": {},
     "output_type": "display_data"
    }
   ],
   "source": [
    "coin"
   ]
  },
  {
   "cell_type": "code",
   "execution_count": 77,
   "id": "f1455183",
   "metadata": {},
   "outputs": [
    {
     "data": {
      "text/plain": [
       "coin\n",
       " 0  1  2  3  4 \n",
       " 2  6 10  4  3 "
      ]
     },
     "metadata": {},
     "output_type": "display_data"
    }
   ],
   "source": [
    "table(coin)"
   ]
  },
  {
   "cell_type": "code",
   "execution_count": 78,
   "id": "424fbb18",
   "metadata": {},
   "outputs": [],
   "source": [
    "freq = prop.table(table(freq))"
   ]
  },
  {
   "cell_type": "code",
   "execution_count": 79,
   "id": "1f9d96a8",
   "metadata": {},
   "outputs": [
    {
     "data": {
      "text/plain": [
       "freq\n",
       "        1         4         5         7         8        12        14 \n",
       "0.1428571 0.1428571 0.1428571 0.1428571 0.1428571 0.1428571 0.1428571 "
      ]
     },
     "metadata": {},
     "output_type": "display_data"
    }
   ],
   "source": [
    "freq"
   ]
  },
  {
   "cell_type": "code",
   "execution_count": 80,
   "id": "8bc52e43",
   "metadata": {},
   "outputs": [
    {
     "data": {
      "text/html": [
       "<style>\n",
       ".dl-inline {width: auto; margin:0; padding: 0}\n",
       ".dl-inline>dt, .dl-inline>dd {float: none; width: auto; display: inline-block}\n",
       ".dl-inline>dt::after {content: \":\\0020\"; padding-right: .5ex}\n",
       ".dl-inline>dt:not(:first-of-type) {padding-left: .5ex}\n",
       "</style><dl class=dl-inline><dt>1</dt><dd>0.142857142857143</dd><dt>4</dt><dd>0.285714285714286</dd><dt>5</dt><dd>0.428571428571429</dd><dt>7</dt><dd>0.571428571428571</dd><dt>8</dt><dd>0.714285714285714</dd><dt>12</dt><dd>0.857142857142857</dd><dt>14</dt><dd>1</dd></dl>\n"
      ],
      "text/latex": [
       "\\begin{description*}\n",
       "\\item[1] 0.142857142857143\n",
       "\\item[4] 0.285714285714286\n",
       "\\item[5] 0.428571428571429\n",
       "\\item[7] 0.571428571428571\n",
       "\\item[8] 0.714285714285714\n",
       "\\item[12] 0.857142857142857\n",
       "\\item[14] 1\n",
       "\\end{description*}\n"
      ],
      "text/markdown": [
       "1\n",
       ":   0.1428571428571434\n",
       ":   0.2857142857142865\n",
       ":   0.4285714285714297\n",
       ":   0.5714285714285718\n",
       ":   0.71428571428571412\n",
       ":   0.85714285714285714\n",
       ":   1\n",
       "\n"
      ],
      "text/plain": [
       "        1         4         5         7         8        12        14 \n",
       "0.1428571 0.2857143 0.4285714 0.5714286 0.7142857 0.8571429 1.0000000 "
      ]
     },
     "metadata": {},
     "output_type": "display_data"
    }
   ],
   "source": [
    "sumx = cumsum(freq)\n",
    "sumx"
   ]
  },
  {
   "cell_type": "code",
   "execution_count": 81,
   "id": "7f4625c4",
   "metadata": {},
   "outputs": [
    {
     "data": {
      "text/html": [
       "<table class=\"dataframe\">\n",
       "<caption>A matrix: 7 × 2 of type dbl</caption>\n",
       "<thead>\n",
       "\t<tr><th></th><th scope=col>freq</th><th scope=col>sumx</th></tr>\n",
       "</thead>\n",
       "<tbody>\n",
       "\t<tr><th scope=row>1</th><td>0.1428571</td><td>0.1428571</td></tr>\n",
       "\t<tr><th scope=row>4</th><td>0.1428571</td><td>0.2857143</td></tr>\n",
       "\t<tr><th scope=row>5</th><td>0.1428571</td><td>0.4285714</td></tr>\n",
       "\t<tr><th scope=row>7</th><td>0.1428571</td><td>0.5714286</td></tr>\n",
       "\t<tr><th scope=row>8</th><td>0.1428571</td><td>0.7142857</td></tr>\n",
       "\t<tr><th scope=row>12</th><td>0.1428571</td><td>0.8571429</td></tr>\n",
       "\t<tr><th scope=row>14</th><td>0.1428571</td><td>1.0000000</td></tr>\n",
       "</tbody>\n",
       "</table>\n"
      ],
      "text/latex": [
       "A matrix: 7 × 2 of type dbl\n",
       "\\begin{tabular}{r|ll}\n",
       "  & freq & sumx\\\\\n",
       "\\hline\n",
       "\t1 & 0.1428571 & 0.1428571\\\\\n",
       "\t4 & 0.1428571 & 0.2857143\\\\\n",
       "\t5 & 0.1428571 & 0.4285714\\\\\n",
       "\t7 & 0.1428571 & 0.5714286\\\\\n",
       "\t8 & 0.1428571 & 0.7142857\\\\\n",
       "\t12 & 0.1428571 & 0.8571429\\\\\n",
       "\t14 & 0.1428571 & 1.0000000\\\\\n",
       "\\end{tabular}\n"
      ],
      "text/markdown": [
       "\n",
       "A matrix: 7 × 2 of type dbl\n",
       "\n",
       "| <!--/--> | freq | sumx |\n",
       "|---|---|---|\n",
       "| 1 | 0.1428571 | 0.1428571 |\n",
       "| 4 | 0.1428571 | 0.2857143 |\n",
       "| 5 | 0.1428571 | 0.4285714 |\n",
       "| 7 | 0.1428571 | 0.5714286 |\n",
       "| 8 | 0.1428571 | 0.7142857 |\n",
       "| 12 | 0.1428571 | 0.8571429 |\n",
       "| 14 | 0.1428571 | 1.0000000 |\n",
       "\n"
      ],
      "text/plain": [
       "   freq      sumx     \n",
       "1  0.1428571 0.1428571\n",
       "4  0.1428571 0.2857143\n",
       "5  0.1428571 0.4285714\n",
       "7  0.1428571 0.5714286\n",
       "8  0.1428571 0.7142857\n",
       "12 0.1428571 0.8571429\n",
       "14 0.1428571 1.0000000"
      ]
     },
     "metadata": {},
     "output_type": "display_data"
    }
   ],
   "source": [
    "freq.table = cbind(freq, sumx)\n",
    "freq.table"
   ]
  },
  {
   "cell_type": "code",
   "execution_count": 82,
   "id": "066004fd",
   "metadata": {},
   "outputs": [
    {
     "data": {
      "image/png": "[encoded data removed]",
      "text/plain": [
       "plot without title"
      ]
     },
     "metadata": {
      "image/png": {
       "height": 420,
       "width": 420
      }
     },
     "output_type": "display_data"
    }
   ],
   "source": [
    "boxplot(coin)"
   ]
  },
  {
   "cell_type": "code",
   "execution_count": 84,
   "id": "e26ef90c",
   "metadata": {},
   "outputs": [
    {
     "data": {
      "image/png": "[encoded data removed]",
      "text/plain": [
       "plot without title"
      ]
     },
     "metadata": {
      "image/png": {
       "height": 420,
       "width": 420
      }
     },
     "output_type": "display_data"
    }
   ],
   "source": [
    "boxplot(sumx)"
   ]
  },
  {
   "cell_type": "code",
   "execution_count": 85,
   "id": "bc63c07e",
   "metadata": {},
   "outputs": [
    {
     "data": {
      "image/png": "[encoded data removed]",
      "text/plain": [
       "plot without title"
      ]
     },
     "metadata": {
      "image/png": {
       "height": 420,
       "width": 420
      }
     },
     "output_type": "display_data"
    }
   ],
   "source": [
    "boxplot(coin)"
   ]
  },
  {
   "cell_type": "code",
   "execution_count": 86,
   "id": "17f77877",
   "metadata": {},
   "outputs": [
    {
     "data": {
      "text/html": [
       "<style>\n",
       ".list-inline {list-style: none; margin:0; padding: 0}\n",
       ".list-inline>li {display: inline-block}\n",
       ".list-inline>li:not(:last-child)::after {content: \"\\00b7\"; padding: 0 .5ex}\n",
       "</style>\n",
       "<ol class=list-inline><li>4</li><li>1</li><li>0</li><li>0</li><li>2</li><li>2</li><li>2</li><li>2</li><li>2</li><li>1</li><li>2</li><li>3</li><li>1</li><li>2</li><li>2</li><li>3</li><li>1</li><li>2</li><li>1</li><li>2</li><li>1</li><li>4</li><li>4</li><li>3</li><li>3</li></ol>\n"
      ],
      "text/latex": [
       "\\begin{enumerate*}\n",
       "\\item 4\n",
       "\\item 1\n",
       "\\item 0\n",
       "\\item 0\n",
       "\\item 2\n",
       "\\item 2\n",
       "\\item 2\n",
       "\\item 2\n",
       "\\item 2\n",
       "\\item 1\n",
       "\\item 2\n",
       "\\item 3\n",
       "\\item 1\n",
       "\\item 2\n",
       "\\item 2\n",
       "\\item 3\n",
       "\\item 1\n",
       "\\item 2\n",
       "\\item 1\n",
       "\\item 2\n",
       "\\item 1\n",
       "\\item 4\n",
       "\\item 4\n",
       "\\item 3\n",
       "\\item 3\n",
       "\\end{enumerate*}\n"
      ],
      "text/markdown": [
       "1. 4\n",
       "2. 1\n",
       "3. 0\n",
       "4. 0\n",
       "5. 2\n",
       "6. 2\n",
       "7. 2\n",
       "8. 2\n",
       "9. 2\n",
       "10. 1\n",
       "11. 2\n",
       "12. 3\n",
       "13. 1\n",
       "14. 2\n",
       "15. 2\n",
       "16. 3\n",
       "17. 1\n",
       "18. 2\n",
       "19. 1\n",
       "20. 2\n",
       "21. 1\n",
       "22. 4\n",
       "23. 4\n",
       "24. 3\n",
       "25. 3\n",
       "\n",
       "\n"
      ],
      "text/plain": [
       " [1] 4 1 0 0 2 2 2 2 2 1 2 3 1 2 2 3 1 2 1 2 1 4 4 3 3"
      ]
     },
     "metadata": {},
     "output_type": "display_data"
    }
   ],
   "source": [
    "coin"
   ]
  },
  {
   "cell_type": "code",
   "execution_count": 87,
   "id": "97ea1841",
   "metadata": {},
   "outputs": [],
   "source": [
    "freq = table(coin)"
   ]
  },
  {
   "cell_type": "code",
   "execution_count": 88,
   "id": "4234b608",
   "metadata": {},
   "outputs": [
    {
     "data": {
      "text/plain": [
       "coin\n",
       " 0  1  2  3  4 \n",
       " 2  6 10  4  3 "
      ]
     },
     "metadata": {},
     "output_type": "display_data"
    }
   ],
   "source": [
    "freq"
   ]
  },
  {
   "cell_type": "code",
   "execution_count": 89,
   "id": "4171d6b1",
   "metadata": {},
   "outputs": [
    {
     "data": {
      "text/plain": [
       "coin\n",
       "   0    1    2    3    4 \n",
       "0.08 0.24 0.40 0.16 0.12 "
      ]
     },
     "metadata": {},
     "output_type": "display_data"
    }
   ],
   "source": [
    "prop = prop.table(freq)\n",
    "prop"
   ]
  },
  {
   "cell_type": "code",
   "execution_count": 90,
   "id": "df383c79",
   "metadata": {},
   "outputs": [],
   "source": [
    "sum_prob = cumsum(prop)"
   ]
  },
  {
   "cell_type": "code",
   "execution_count": 91,
   "id": "c2c2211f",
   "metadata": {},
   "outputs": [
    {
     "data": {
      "text/html": [
       "<style>\n",
       ".dl-inline {width: auto; margin:0; padding: 0}\n",
       ".dl-inline>dt, .dl-inline>dd {float: none; width: auto; display: inline-block}\n",
       ".dl-inline>dt::after {content: \":\\0020\"; padding-right: .5ex}\n",
       ".dl-inline>dt:not(:first-of-type) {padding-left: .5ex}\n",
       "</style><dl class=dl-inline><dt>0</dt><dd>0.08</dd><dt>1</dt><dd>0.32</dd><dt>2</dt><dd>0.72</dd><dt>3</dt><dd>0.88</dd><dt>4</dt><dd>1</dd></dl>\n"
      ],
      "text/latex": [
       "\\begin{description*}\n",
       "\\item[0] 0.08\n",
       "\\item[1] 0.32\n",
       "\\item[2] 0.72\n",
       "\\item[3] 0.88\n",
       "\\item[4] 1\n",
       "\\end{description*}\n"
      ],
      "text/markdown": [
       "0\n",
       ":   0.081\n",
       ":   0.322\n",
       ":   0.723\n",
       ":   0.884\n",
       ":   1\n",
       "\n"
      ],
      "text/plain": [
       "   0    1    2    3    4 \n",
       "0.08 0.32 0.72 0.88 1.00 "
      ]
     },
     "metadata": {},
     "output_type": "display_data"
    }
   ],
   "source": [
    "sum_prob"
   ]
  },
  {
   "cell_type": "code",
   "execution_count": 92,
   "id": "6b321092",
   "metadata": {},
   "outputs": [],
   "source": [
    "freq.table = cbind(prop, sum_prob)"
   ]
  },
  {
   "cell_type": "code",
   "execution_count": 93,
   "id": "780d2fe1",
   "metadata": {},
   "outputs": [
    {
     "data": {
      "text/html": [
       "<table class=\"dataframe\">\n",
       "<caption>A matrix: 5 × 2 of type dbl</caption>\n",
       "<thead>\n",
       "\t<tr><th></th><th scope=col>prop</th><th scope=col>sum_prob</th></tr>\n",
       "</thead>\n",
       "<tbody>\n",
       "\t<tr><th scope=row>0</th><td>0.08</td><td>0.08</td></tr>\n",
       "\t<tr><th scope=row>1</th><td>0.24</td><td>0.32</td></tr>\n",
       "\t<tr><th scope=row>2</th><td>0.40</td><td>0.72</td></tr>\n",
       "\t<tr><th scope=row>3</th><td>0.16</td><td>0.88</td></tr>\n",
       "\t<tr><th scope=row>4</th><td>0.12</td><td>1.00</td></tr>\n",
       "</tbody>\n",
       "</table>\n"
      ],
      "text/latex": [
       "A matrix: 5 × 2 of type dbl\n",
       "\\begin{tabular}{r|ll}\n",
       "  & prop & sum\\_prob\\\\\n",
       "\\hline\n",
       "\t0 & 0.08 & 0.08\\\\\n",
       "\t1 & 0.24 & 0.32\\\\\n",
       "\t2 & 0.40 & 0.72\\\\\n",
       "\t3 & 0.16 & 0.88\\\\\n",
       "\t4 & 0.12 & 1.00\\\\\n",
       "\\end{tabular}\n"
      ],
      "text/markdown": [
       "\n",
       "A matrix: 5 × 2 of type dbl\n",
       "\n",
       "| <!--/--> | prop | sum_prob |\n",
       "|---|---|---|\n",
       "| 0 | 0.08 | 0.08 |\n",
       "| 1 | 0.24 | 0.32 |\n",
       "| 2 | 0.40 | 0.72 |\n",
       "| 3 | 0.16 | 0.88 |\n",
       "| 4 | 0.12 | 1.00 |\n",
       "\n"
      ],
      "text/plain": [
       "  prop sum_prob\n",
       "0 0.08 0.08    \n",
       "1 0.24 0.32    \n",
       "2 0.40 0.72    \n",
       "3 0.16 0.88    \n",
       "4 0.12 1.00    "
      ]
     },
     "metadata": {},
     "output_type": "display_data"
    }
   ],
   "source": [
    "freq.table"
   ]
  },
  {
   "cell_type": "code",
   "execution_count": 94,
   "id": "5b0f213d",
   "metadata": {},
   "outputs": [
    {
     "data": {
      "image/png": "[encoded data removed]",
      "text/plain": [
       "plot without title"
      ]
     },
     "metadata": {
      "image/png": {
       "height": 420,
       "width": 420
      }
     },
     "output_type": "display_data"
    }
   ],
   "source": [
    "barplot(freq)"
   ]
  },
  {
   "cell_type": "code",
   "execution_count": 98,
   "id": "7e31f083",
   "metadata": {},
   "outputs": [
    {
     "data": {
      "image/png": "[encoded data removed]",
      "text/plain": [
       "Plot with title \"Barplot\""
      ]
     },
     "metadata": {
      "image/png": {
       "height": 420,
       "width": 420
      }
     },
     "output_type": "display_data"
    }
   ],
   "source": [
    "barplot(freq,\n",
    "       main = 'Barplot',\n",
    "       xlab = 'Num of Head',\n",
    "       ylab = 'Freq',\n",
    "       las = 1)"
   ]
  },
  {
   "cell_type": "code",
   "execution_count": 100,
   "id": "bfbc18df",
   "metadata": {},
   "outputs": [
    {
     "data": {
      "image/png": "[encoded data removed]",
      "text/plain": [
       "Plot with title \"Barplot\""
      ]
     },
     "metadata": {
      "image/png": {
       "height": 420,
       "width": 420
      }
     },
     "output_type": "display_data"
    }
   ],
   "source": [
    "barplot(prop,\n",
    "       main = 'Barplot',\n",
    "       xlab = 'Num of Head',\n",
    "       ylab = 'Prop',\n",
    "       las = 1)"
   ]
  },
  {
   "cell_type": "code",
   "execution_count": 102,
   "id": "0db8ca68",
   "metadata": {},
   "outputs": [],
   "source": [
    "level = c('중졸','고졸','대졸','고졸','대졸',\n",
    "         '고졸','중졸','대졸','고졸','대졸',\n",
    "         '고졸','중졸','고졸','중졸','고졸',\n",
    "         '대졸','대졸','중졸','대졸','고졸',\n",
    "         '고졸','중졸','고졸','중졸')\n",
    "pay = c('A','B','C','C','B','B','A','C','B','B',\n",
    "       'C','A','B','B','A','C','C','A','C','B','C','A','B','A')"
   ]
  },
  {
   "cell_type": "code",
   "execution_count": 104,
   "id": "0041c3d8",
   "metadata": {},
   "outputs": [],
   "source": [
    "total = data.frame(level,pay)"
   ]
  },
  {
   "cell_type": "code",
   "execution_count": 105,
   "id": "6a70373c",
   "metadata": {},
   "outputs": [
    {
     "data": {
      "text/html": [
       "<table class=\"dataframe\">\n",
       "<caption>A data.frame: 24 × 2</caption>\n",
       "<thead>\n",
       "\t<tr><th scope=col>level</th><th scope=col>pay</th></tr>\n",
       "\t<tr><th scope=col>&lt;chr&gt;</th><th scope=col>&lt;chr&gt;</th></tr>\n",
       "</thead>\n",
       "<tbody>\n",
       "\t<tr><td>중졸</td><td>A</td></tr>\n",
       "\t<tr><td>고졸</td><td>B</td></tr>\n",
       "\t<tr><td>대졸</td><td>C</td></tr>\n",
       "\t<tr><td>고졸</td><td>C</td></tr>\n",
       "\t<tr><td>대졸</td><td>B</td></tr>\n",
       "\t<tr><td>고졸</td><td>B</td></tr>\n",
       "\t<tr><td>중졸</td><td>A</td></tr>\n",
       "\t<tr><td>대졸</td><td>C</td></tr>\n",
       "\t<tr><td>고졸</td><td>B</td></tr>\n",
       "\t<tr><td>대졸</td><td>B</td></tr>\n",
       "\t<tr><td>고졸</td><td>C</td></tr>\n",
       "\t<tr><td>중졸</td><td>A</td></tr>\n",
       "\t<tr><td>고졸</td><td>B</td></tr>\n",
       "\t<tr><td>중졸</td><td>B</td></tr>\n",
       "\t<tr><td>고졸</td><td>A</td></tr>\n",
       "\t<tr><td>대졸</td><td>C</td></tr>\n",
       "\t<tr><td>대졸</td><td>C</td></tr>\n",
       "\t<tr><td>중졸</td><td>A</td></tr>\n",
       "\t<tr><td>대졸</td><td>C</td></tr>\n",
       "\t<tr><td>고졸</td><td>B</td></tr>\n",
       "\t<tr><td>고졸</td><td>C</td></tr>\n",
       "\t<tr><td>중졸</td><td>A</td></tr>\n",
       "\t<tr><td>고졸</td><td>B</td></tr>\n",
       "\t<tr><td>중졸</td><td>A</td></tr>\n",
       "</tbody>\n",
       "</table>\n"
      ],
      "text/latex": [
       "A data.frame: 24 × 2\n",
       "\\begin{tabular}{ll}\n",
       " level & pay\\\\\n",
       " <chr> & <chr>\\\\\n",
       "\\hline\n",
       "\t 중졸 & A\\\\\n",
       "\t 고졸 & B\\\\\n",
       "\t 대졸 & C\\\\\n",
       "\t 고졸 & C\\\\\n",
       "\t 대졸 & B\\\\\n",
       "\t 고졸 & B\\\\\n",
       "\t 중졸 & A\\\\\n",
       "\t 대졸 & C\\\\\n",
       "\t 고졸 & B\\\\\n",
       "\t 대졸 & B\\\\\n",
       "\t 고졸 & C\\\\\n",
       "\t 중졸 & A\\\\\n",
       "\t 고졸 & B\\\\\n",
       "\t 중졸 & B\\\\\n",
       "\t 고졸 & A\\\\\n",
       "\t 대졸 & C\\\\\n",
       "\t 대졸 & C\\\\\n",
       "\t 중졸 & A\\\\\n",
       "\t 대졸 & C\\\\\n",
       "\t 고졸 & B\\\\\n",
       "\t 고졸 & C\\\\\n",
       "\t 중졸 & A\\\\\n",
       "\t 고졸 & B\\\\\n",
       "\t 중졸 & A\\\\\n",
       "\\end{tabular}\n"
      ],
      "text/markdown": [
       "\n",
       "A data.frame: 24 × 2\n",
       "\n",
       "| level &lt;chr&gt; | pay &lt;chr&gt; |\n",
       "|---|---|\n",
       "| 중졸 | A |\n",
       "| 고졸 | B |\n",
       "| 대졸 | C |\n",
       "| 고졸 | C |\n",
       "| 대졸 | B |\n",
       "| 고졸 | B |\n",
       "| 중졸 | A |\n",
       "| 대졸 | C |\n",
       "| 고졸 | B |\n",
       "| 대졸 | B |\n",
       "| 고졸 | C |\n",
       "| 중졸 | A |\n",
       "| 고졸 | B |\n",
       "| 중졸 | B |\n",
       "| 고졸 | A |\n",
       "| 대졸 | C |\n",
       "| 대졸 | C |\n",
       "| 중졸 | A |\n",
       "| 대졸 | C |\n",
       "| 고졸 | B |\n",
       "| 고졸 | C |\n",
       "| 중졸 | A |\n",
       "| 고졸 | B |\n",
       "| 중졸 | A |\n",
       "\n"
      ],
      "text/plain": [
       "   level pay\n",
       "1  중졸  A  \n",
       "2  고졸  B  \n",
       "3  대졸  C  \n",
       "4  고졸  C  \n",
       "5  대졸  B  \n",
       "6  고졸  B  \n",
       "7  중졸  A  \n",
       "8  대졸  C  \n",
       "9  고졸  B  \n",
       "10 대졸  B  \n",
       "11 고졸  C  \n",
       "12 중졸  A  \n",
       "13 고졸  B  \n",
       "14 중졸  B  \n",
       "15 고졸  A  \n",
       "16 대졸  C  \n",
       "17 대졸  C  \n",
       "18 중졸  A  \n",
       "19 대졸  C  \n",
       "20 고졸  B  \n",
       "21 고졸  C  \n",
       "22 중졸  A  \n",
       "23 고졸  B  \n",
       "24 중졸  A  "
      ]
     },
     "metadata": {},
     "output_type": "display_data"
    }
   ],
   "source": [
    "total"
   ]
  },
  {
   "cell_type": "code",
   "execution_count": 106,
   "id": "2f65f5d5",
   "metadata": {},
   "outputs": [
    {
     "data": {
      "text/plain": [
       "      pay\n",
       "level  A B C\n",
       "  고졸 1 6 3\n",
       "  대졸 0 2 5\n",
       "  중졸 6 1 0"
      ]
     },
     "metadata": {},
     "output_type": "display_data"
    }
   ],
   "source": [
    "table(total)"
   ]
  },
  {
   "cell_type": "code",
   "execution_count": 110,
   "id": "20c50f72",
   "metadata": {},
   "outputs": [
    {
     "data": {
      "image/png": "[encoded data removed]",
      "text/plain": [
       "Plot with title \"barplot\""
      ]
     },
     "metadata": {
      "image/png": {
       "height": 420,
       "width": 420
      }
     },
     "output_type": "display_data"
    }
   ],
   "source": [
    "barplot(table(total),\n",
    "       col = rainbow(3),\n",
    "       ylim = c(0, 10),\n",
    "       main = 'barplot')\n",
    "legend(\"topright\",fill = rainbow(3), rownames(table(total)))"
   ]
  },
  {
   "cell_type": "code",
   "execution_count": 111,
   "id": "950cfb8e",
   "metadata": {},
   "outputs": [
    {
     "data": {
      "image/png": "[encoded data removed]",
      "text/plain": [
       "Plot with title \"barplot\""
      ]
     },
     "metadata": {
      "image/png": {
       "height": 420,
       "width": 420
      }
     },
     "output_type": "display_data"
    }
   ],
   "source": [
    "barplot(table(total),\n",
    "       col = rainbow(3),\n",
    "       ylim = c(0, 10),\n",
    "       main = 'barplot',\n",
    "       beside = T)\n",
    "legend(\"topright\",fill = rainbow(3), rownames(table(total)))"
   ]
  },
  {
   "cell_type": "code",
   "execution_count": 112,
   "id": "5b22c762",
   "metadata": {},
   "outputs": [],
   "source": [
    "job = c(12, 14, 8, 6)\n",
    "prob = prop.table(job)"
   ]
  },
  {
   "cell_type": "code",
   "execution_count": 113,
   "id": "a7280330",
   "metadata": {},
   "outputs": [
    {
     "data": {
      "text/plain": [
       "coin\n",
       "   0    1    2    3    4 \n",
       "0.08 0.24 0.40 0.16 0.12 "
      ]
     },
     "metadata": {},
     "output_type": "display_data"
    }
   ],
   "source": [
    "prop"
   ]
  },
  {
   "cell_type": "code",
   "execution_count": 117,
   "id": "18c60e2e",
   "metadata": {},
   "outputs": [
    {
     "data": {
      "image/png": "[encoded data removed]",
      "text/plain": [
       "Plot with title \"Pie Chart\""
      ]
     },
     "metadata": {
      "image/png": {
       "height": 420,
       "width": 420
      }
     },
     "output_type": "display_data"
    }
   ],
   "source": [
    "pie(prop,\n",
    "   labels = c('하와이','동남아','유럽','기타'),\n",
    "   main = 'Pie Chart',sub = 'Trip site')"
   ]
  },
  {
   "cell_type": "code",
   "execution_count": 118,
   "id": "dc98f586",
   "metadata": {},
   "outputs": [
    {
     "data": {
      "text/html": [
       "5.125"
      ],
      "text/latex": [
       "5.125"
      ],
      "text/markdown": [
       "5.125"
      ],
      "text/plain": [
       "[1] 5.125"
      ]
     },
     "metadata": {},
     "output_type": "display_data"
    }
   ],
   "source": [
    "age = c(4, 5, 6, 3, 7, 5, 6, 5)\n",
    "mean(age\n",
    "    )"
   ]
  },
  {
   "cell_type": "code",
   "execution_count": 119,
   "id": "cbc43667",
   "metadata": {},
   "outputs": [
    {
     "data": {
      "text/html": [
       "1.55357142857143"
      ],
      "text/latex": [
       "1.55357142857143"
      ],
      "text/markdown": [
       "1.55357142857143"
      ],
      "text/plain": [
       "[1] 1.553571"
      ]
     },
     "metadata": {},
     "output_type": "display_data"
    }
   ],
   "source": [
    "var(age)"
   ]
  },
  {
   "cell_type": "code",
   "execution_count": 120,
   "id": "d6845e4d",
   "metadata": {},
   "outputs": [
    {
     "data": {
      "text/html": [
       "<style>\n",
       ".list-inline {list-style: none; margin:0; padding: 0}\n",
       ".list-inline>li {display: inline-block}\n",
       ".list-inline>li:not(:last-child)::after {content: \"\\00b7\"; padding: 0 .5ex}\n",
       "</style>\n",
       "<ol class=list-inline><li>3</li><li>7</li></ol>\n"
      ],
      "text/latex": [
       "\\begin{enumerate*}\n",
       "\\item 3\n",
       "\\item 7\n",
       "\\end{enumerate*}\n"
      ],
      "text/markdown": [
       "1. 3\n",
       "2. 7\n",
       "\n",
       "\n"
      ],
      "text/plain": [
       "[1] 3 7"
      ]
     },
     "metadata": {},
     "output_type": "display_data"
    }
   ],
   "source": [
    "range(age)"
   ]
  },
  {
   "cell_type": "code",
   "execution_count": 121,
   "id": "e1bd4eb6",
   "metadata": {},
   "outputs": [
    {
     "data": {
      "text/html": [
       "1.25"
      ],
      "text/latex": [
       "1.25"
      ],
      "text/markdown": [
       "1.25"
      ],
      "text/plain": [
       "[1] 1.25"
      ]
     },
     "metadata": {},
     "output_type": "display_data"
    }
   ],
   "source": [
    "IQR(age)"
   ]
  },
  {
   "cell_type": "code",
   "execution_count": 122,
   "id": "6c65735d",
   "metadata": {},
   "outputs": [
    {
     "data": {
      "text/html": [
       "<style>\n",
       ".list-inline {list-style: none; margin:0; padding: 0}\n",
       ".list-inline>li {display: inline-block}\n",
       ".list-inline>li:not(:last-child)::after {content: \"\\00b7\"; padding: 0 .5ex}\n",
       "</style>\n",
       "<ol class=list-inline><li>181</li><li>161</li><li>170</li><li>160</li><li>158</li><li>169</li><li>162</li><li>179</li><li>183</li><li>178</li><li>171</li><li>177</li><li>163</li><li>158</li><li>160</li><li>160</li><li>158</li><li>174</li><li>160</li><li>163</li><li>167</li><li>165</li><li>163</li><li>173</li><li>178</li><li>170</li><li>167</li><li>177</li><li>176</li><li>170</li><li>152</li><li>158</li><li>160</li><li>160</li><li>159</li><li>180</li><li>169</li><li>162</li><li>178</li><li>173</li><li>173</li><li>171</li><li>171</li><li>170</li><li>160</li><li>167</li><li>168</li><li>166</li><li>164</li><li>174</li><li>180</li></ol>\n"
      ],
      "text/latex": [
       "\\begin{enumerate*}\n",
       "\\item 181\n",
       "\\item 161\n",
       "\\item 170\n",
       "\\item 160\n",
       "\\item 158\n",
       "\\item 169\n",
       "\\item 162\n",
       "\\item 179\n",
       "\\item 183\n",
       "\\item 178\n",
       "\\item 171\n",
       "\\item 177\n",
       "\\item 163\n",
       "\\item 158\n",
       "\\item 160\n",
       "\\item 160\n",
       "\\item 158\n",
       "\\item 174\n",
       "\\item 160\n",
       "\\item 163\n",
       "\\item 167\n",
       "\\item 165\n",
       "\\item 163\n",
       "\\item 173\n",
       "\\item 178\n",
       "\\item 170\n",
       "\\item 167\n",
       "\\item 177\n",
       "\\item 176\n",
       "\\item 170\n",
       "\\item 152\n",
       "\\item 158\n",
       "\\item 160\n",
       "\\item 160\n",
       "\\item 159\n",
       "\\item 180\n",
       "\\item 169\n",
       "\\item 162\n",
       "\\item 178\n",
       "\\item 173\n",
       "\\item 173\n",
       "\\item 171\n",
       "\\item 171\n",
       "\\item 170\n",
       "\\item 160\n",
       "\\item 167\n",
       "\\item 168\n",
       "\\item 166\n",
       "\\item 164\n",
       "\\item 174\n",
       "\\item 180\n",
       "\\end{enumerate*}\n"
      ],
      "text/markdown": [
       "1. 181\n",
       "2. 161\n",
       "3. 170\n",
       "4. 160\n",
       "5. 158\n",
       "6. 169\n",
       "7. 162\n",
       "8. 179\n",
       "9. 183\n",
       "10. 178\n",
       "11. 171\n",
       "12. 177\n",
       "13. 163\n",
       "14. 158\n",
       "15. 160\n",
       "16. 160\n",
       "17. 158\n",
       "18. 174\n",
       "19. 160\n",
       "20. 163\n",
       "21. 167\n",
       "22. 165\n",
       "23. 163\n",
       "24. 173\n",
       "25. 178\n",
       "26. 170\n",
       "27. 167\n",
       "28. 177\n",
       "29. 176\n",
       "30. 170\n",
       "31. 152\n",
       "32. 158\n",
       "33. 160\n",
       "34. 160\n",
       "35. 159\n",
       "36. 180\n",
       "37. 169\n",
       "38. 162\n",
       "39. 178\n",
       "40. 173\n",
       "41. 173\n",
       "42. 171\n",
       "43. 171\n",
       "44. 170\n",
       "45. 160\n",
       "46. 167\n",
       "47. 168\n",
       "48. 166\n",
       "49. 164\n",
       "50. 174\n",
       "51. 180\n",
       "\n",
       "\n"
      ],
      "text/plain": [
       " [1] 181 161 170 160 158 169 162 179 183 178 171 177 163 158 160 160 158 174 160\n",
       "[20] 163 167 165 163 173 178 170 167 177 176 170 152 158 160 160 159 180 169 162\n",
       "[39] 178 173 173 171 171 170 160 167 168 166 164 174 180"
      ]
     },
     "metadata": {},
     "output_type": "display_data"
    }
   ],
   "source": [
    "height"
   ]
  },
  {
   "cell_type": "code",
   "execution_count": 123,
   "id": "45897407",
   "metadata": {},
   "outputs": [
    {
     "data": {
      "text/html": [
       "51"
      ],
      "text/latex": [
       "51"
      ],
      "text/markdown": [
       "51"
      ],
      "text/plain": [
       "[1] 51"
      ]
     },
     "metadata": {},
     "output_type": "display_data"
    }
   ],
   "source": [
    "length(height)"
   ]
  },
  {
   "cell_type": "code",
   "execution_count": 125,
   "id": "d4df6292",
   "metadata": {},
   "outputs": [],
   "source": [
    "cut1 = cut(height, breaks = 5, right = FALSE)"
   ]
  },
  {
   "cell_type": "code",
   "execution_count": 126,
   "id": "22383a01",
   "metadata": {},
   "outputs": [
    {
     "data": {
      "text/html": [
       "<style>\n",
       ".list-inline {list-style: none; margin:0; padding: 0}\n",
       ".list-inline>li {display: inline-block}\n",
       ".list-inline>li:not(:last-child)::after {content: \"\\00b7\"; padding: 0 .5ex}\n",
       "</style>\n",
       "<ol class=list-inline><li>[177,183)</li><li>[158,164)</li><li>[164,171)</li><li>[158,164)</li><li>[152,158)</li><li>[164,171)</li><li>[158,164)</li><li>[177,183)</li><li>[177,183)</li><li>[177,183)</li><li>[171,177)</li><li>[177,183)</li><li>[158,164)</li><li>[152,158)</li><li>[158,164)</li><li>[158,164)</li><li>[152,158)</li><li>[171,177)</li><li>[158,164)</li><li>[158,164)</li><li>[164,171)</li><li>[164,171)</li><li>[158,164)</li><li>[171,177)</li><li>[177,183)</li><li>[164,171)</li><li>[164,171)</li><li>[177,183)</li><li>[171,177)</li><li>[164,171)</li><li>[152,158)</li><li>[152,158)</li><li>[158,164)</li><li>[158,164)</li><li>[158,164)</li><li>[177,183)</li><li>[164,171)</li><li>[158,164)</li><li>[177,183)</li><li>[171,177)</li><li>[171,177)</li><li>[171,177)</li><li>[171,177)</li><li>[164,171)</li><li>[158,164)</li><li>[164,171)</li><li>[164,171)</li><li>[164,171)</li><li>[158,164)</li><li>[171,177)</li><li>[177,183)</li></ol>\n",
       "\n",
       "<details>\n",
       "\t<summary style=display:list-item;cursor:pointer>\n",
       "\t\t<strong>Levels</strong>:\n",
       "\t</summary>\n",
       "\t<style>\n",
       "\t.list-inline {list-style: none; margin:0; padding: 0}\n",
       "\t.list-inline>li {display: inline-block}\n",
       "\t.list-inline>li:not(:last-child)::after {content: \"\\00b7\"; padding: 0 .5ex}\n",
       "\t</style>\n",
       "\t<ol class=list-inline><li>'[152,158)'</li><li>'[158,164)'</li><li>'[164,171)'</li><li>'[171,177)'</li><li>'[177,183)'</li></ol>\n",
       "</details>"
      ],
      "text/latex": [
       "\\begin{enumerate*}\n",
       "\\item {[}177,183)\n",
       "\\item {[}158,164)\n",
       "\\item {[}164,171)\n",
       "\\item {[}158,164)\n",
       "\\item {[}152,158)\n",
       "\\item {[}164,171)\n",
       "\\item {[}158,164)\n",
       "\\item {[}177,183)\n",
       "\\item {[}177,183)\n",
       "\\item {[}177,183)\n",
       "\\item {[}171,177)\n",
       "\\item {[}177,183)\n",
       "\\item {[}158,164)\n",
       "\\item {[}152,158)\n",
       "\\item {[}158,164)\n",
       "\\item {[}158,164)\n",
       "\\item {[}152,158)\n",
       "\\item {[}171,177)\n",
       "\\item {[}158,164)\n",
       "\\item {[}158,164)\n",
       "\\item {[}164,171)\n",
       "\\item {[}164,171)\n",
       "\\item {[}158,164)\n",
       "\\item {[}171,177)\n",
       "\\item {[}177,183)\n",
       "\\item {[}164,171)\n",
       "\\item {[}164,171)\n",
       "\\item {[}177,183)\n",
       "\\item {[}171,177)\n",
       "\\item {[}164,171)\n",
       "\\item {[}152,158)\n",
       "\\item {[}152,158)\n",
       "\\item {[}158,164)\n",
       "\\item {[}158,164)\n",
       "\\item {[}158,164)\n",
       "\\item {[}177,183)\n",
       "\\item {[}164,171)\n",
       "\\item {[}158,164)\n",
       "\\item {[}177,183)\n",
       "\\item {[}171,177)\n",
       "\\item {[}171,177)\n",
       "\\item {[}171,177)\n",
       "\\item {[}171,177)\n",
       "\\item {[}164,171)\n",
       "\\item {[}158,164)\n",
       "\\item {[}164,171)\n",
       "\\item {[}164,171)\n",
       "\\item {[}164,171)\n",
       "\\item {[}158,164)\n",
       "\\item {[}171,177)\n",
       "\\item {[}177,183)\n",
       "\\end{enumerate*}\n",
       "\n",
       "\\emph{Levels}: \\begin{enumerate*}\n",
       "\\item '{[}152,158)'\n",
       "\\item '{[}158,164)'\n",
       "\\item '{[}164,171)'\n",
       "\\item '{[}171,177)'\n",
       "\\item '{[}177,183)'\n",
       "\\end{enumerate*}\n"
      ],
      "text/markdown": [
       "1. [177,183)\n",
       "2. [158,164)\n",
       "3. [164,171)\n",
       "4. [158,164)\n",
       "5. [152,158)\n",
       "6. [164,171)\n",
       "7. [158,164)\n",
       "8. [177,183)\n",
       "9. [177,183)\n",
       "10. [177,183)\n",
       "11. [171,177)\n",
       "12. [177,183)\n",
       "13. [158,164)\n",
       "14. [152,158)\n",
       "15. [158,164)\n",
       "16. [158,164)\n",
       "17. [152,158)\n",
       "18. [171,177)\n",
       "19. [158,164)\n",
       "20. [158,164)\n",
       "21. [164,171)\n",
       "22. [164,171)\n",
       "23. [158,164)\n",
       "24. [171,177)\n",
       "25. [177,183)\n",
       "26. [164,171)\n",
       "27. [164,171)\n",
       "28. [177,183)\n",
       "29. [171,177)\n",
       "30. [164,171)\n",
       "31. [152,158)\n",
       "32. [152,158)\n",
       "33. [158,164)\n",
       "34. [158,164)\n",
       "35. [158,164)\n",
       "36. [177,183)\n",
       "37. [164,171)\n",
       "38. [158,164)\n",
       "39. [177,183)\n",
       "40. [171,177)\n",
       "41. [171,177)\n",
       "42. [171,177)\n",
       "43. [171,177)\n",
       "44. [164,171)\n",
       "45. [158,164)\n",
       "46. [164,171)\n",
       "47. [164,171)\n",
       "48. [164,171)\n",
       "49. [158,164)\n",
       "50. [171,177)\n",
       "51. [177,183)\n",
       "\n",
       "\n",
       "\n",
       "**Levels**: 1. '[152,158)'\n",
       "2. '[158,164)'\n",
       "3. '[164,171)'\n",
       "4. '[171,177)'\n",
       "5. '[177,183)'\n",
       "\n",
       "\n"
      ],
      "text/plain": [
       " [1] [177,183) [158,164) [164,171) [158,164) [152,158) [164,171) [158,164)\n",
       " [8] [177,183) [177,183) [177,183) [171,177) [177,183) [158,164) [152,158)\n",
       "[15] [158,164) [158,164) [152,158) [171,177) [158,164) [158,164) [164,171)\n",
       "[22] [164,171) [158,164) [171,177) [177,183) [164,171) [164,171) [177,183)\n",
       "[29] [171,177) [164,171) [152,158) [152,158) [158,164) [158,164) [158,164)\n",
       "[36] [177,183) [164,171) [158,164) [177,183) [171,177) [171,177) [171,177)\n",
       "[43] [171,177) [164,171) [158,164) [164,171) [164,171) [164,171) [158,164)\n",
       "[50] [171,177) [177,183)\n",
       "Levels: [152,158) [158,164) [164,171) [171,177) [177,183)"
      ]
     },
     "metadata": {},
     "output_type": "display_data"
    }
   ],
   "source": [
    "cut1"
   ]
  },
  {
   "cell_type": "code",
   "execution_count": 127,
   "id": "3a8b7cdc",
   "metadata": {},
   "outputs": [],
   "source": [
    "freq = table(cut1)"
   ]
  },
  {
   "cell_type": "code",
   "execution_count": 128,
   "id": "b68af7f9",
   "metadata": {},
   "outputs": [
    {
     "data": {
      "text/plain": [
       "cut1\n",
       "[152,158) [158,164) [164,171) [171,177) [177,183) \n",
       "        5        15        12         9        10 "
      ]
     },
     "metadata": {},
     "output_type": "display_data"
    }
   ],
   "source": [
    "freq"
   ]
  },
  {
   "cell_type": "code",
   "execution_count": 129,
   "id": "d8f898a4",
   "metadata": {},
   "outputs": [],
   "source": [
    "prop = prop.table(freq)"
   ]
  },
  {
   "cell_type": "code",
   "execution_count": 130,
   "id": "c87539c1",
   "metadata": {},
   "outputs": [
    {
     "data": {
      "text/plain": [
       "cut1\n",
       " [152,158)  [158,164)  [164,171)  [171,177)  [177,183) \n",
       "0.09803922 0.29411765 0.23529412 0.17647059 0.19607843 "
      ]
     },
     "metadata": {},
     "output_type": "display_data"
    }
   ],
   "source": [
    "prop"
   ]
  },
  {
   "cell_type": "code",
   "execution_count": 131,
   "id": "0afe79ea",
   "metadata": {},
   "outputs": [],
   "source": [
    "freq.table = cbind(freq, prop)"
   ]
  },
  {
   "cell_type": "code",
   "execution_count": 132,
   "id": "d71c4be4",
   "metadata": {},
   "outputs": [
    {
     "data": {
      "text/html": [
       "<table class=\"dataframe\">\n",
       "<caption>A matrix: 5 × 2 of type dbl</caption>\n",
       "<thead>\n",
       "\t<tr><th></th><th scope=col>freq</th><th scope=col>prop</th></tr>\n",
       "</thead>\n",
       "<tbody>\n",
       "\t<tr><th scope=row>[152,158)</th><td> 5</td><td>0.09803922</td></tr>\n",
       "\t<tr><th scope=row>[158,164)</th><td>15</td><td>0.29411765</td></tr>\n",
       "\t<tr><th scope=row>[164,171)</th><td>12</td><td>0.23529412</td></tr>\n",
       "\t<tr><th scope=row>[171,177)</th><td> 9</td><td>0.17647059</td></tr>\n",
       "\t<tr><th scope=row>[177,183)</th><td>10</td><td>0.19607843</td></tr>\n",
       "</tbody>\n",
       "</table>\n"
      ],
      "text/latex": [
       "A matrix: 5 × 2 of type dbl\n",
       "\\begin{tabular}{r|ll}\n",
       "  & freq & prop\\\\\n",
       "\\hline\n",
       "\t{[}152,158) &  5 & 0.09803922\\\\\n",
       "\t{[}158,164) & 15 & 0.29411765\\\\\n",
       "\t{[}164,171) & 12 & 0.23529412\\\\\n",
       "\t{[}171,177) &  9 & 0.17647059\\\\\n",
       "\t{[}177,183) & 10 & 0.19607843\\\\\n",
       "\\end{tabular}\n"
      ],
      "text/markdown": [
       "\n",
       "A matrix: 5 × 2 of type dbl\n",
       "\n",
       "| <!--/--> | freq | prop |\n",
       "|---|---|---|\n",
       "| [152,158) |  5 | 0.09803922 |\n",
       "| [158,164) | 15 | 0.29411765 |\n",
       "| [164,171) | 12 | 0.23529412 |\n",
       "| [171,177) |  9 | 0.17647059 |\n",
       "| [177,183) | 10 | 0.19607843 |\n",
       "\n"
      ],
      "text/plain": [
       "          freq prop      \n",
       "[152,158)  5   0.09803922\n",
       "[158,164) 15   0.29411765\n",
       "[164,171) 12   0.23529412\n",
       "[171,177)  9   0.17647059\n",
       "[177,183) 10   0.19607843"
      ]
     },
     "metadata": {},
     "output_type": "display_data"
    }
   ],
   "source": [
    "freq.table"
   ]
  },
  {
   "cell_type": "code",
   "execution_count": 133,
   "id": "2418c6ef",
   "metadata": {},
   "outputs": [
    {
     "data": {
      "image/png": "[encoded data removed]",
      "text/plain": [
       "Plot with title \"Height of students\""
      ]
     },
     "metadata": {
      "image/png": {
       "height": 420,
       "width": 420
      }
     },
     "output_type": "display_data"
    }
   ],
   "source": [
    "barplot(freq, main = 'Height of students')"
   ]
  },
  {
   "cell_type": "code",
   "execution_count": 134,
   "id": "8109f78e",
   "metadata": {},
   "outputs": [],
   "source": [
    "data = c(1, 1, 1, 3, 0, 0, 1, 1, 1, 0, 2, 2, 0, 0, 0, 1, 2, 1, 2, 0, 0, 1, 6, 4, 3, 3, 1, 2, 4, 0)"
   ]
  },
  {
   "cell_type": "code",
   "execution_count": 135,
   "id": "974c6ef8",
   "metadata": {},
   "outputs": [
    {
     "data": {
      "text/html": [
       "<style>\n",
       ".list-inline {list-style: none; margin:0; padding: 0}\n",
       ".list-inline>li {display: inline-block}\n",
       ".list-inline>li:not(:last-child)::after {content: \"\\00b7\"; padding: 0 .5ex}\n",
       "</style>\n",
       "<ol class=list-inline><li>1</li><li>1</li><li>1</li><li>3</li><li>0</li><li>0</li><li>1</li><li>1</li><li>1</li><li>0</li><li>2</li><li>2</li><li>0</li><li>0</li><li>0</li><li>1</li><li>2</li><li>1</li><li>2</li><li>0</li><li>0</li><li>1</li><li>6</li><li>4</li><li>3</li><li>3</li><li>1</li><li>2</li><li>4</li><li>0</li></ol>\n"
      ],
      "text/latex": [
       "\\begin{enumerate*}\n",
       "\\item 1\n",
       "\\item 1\n",
       "\\item 1\n",
       "\\item 3\n",
       "\\item 0\n",
       "\\item 0\n",
       "\\item 1\n",
       "\\item 1\n",
       "\\item 1\n",
       "\\item 0\n",
       "\\item 2\n",
       "\\item 2\n",
       "\\item 0\n",
       "\\item 0\n",
       "\\item 0\n",
       "\\item 1\n",
       "\\item 2\n",
       "\\item 1\n",
       "\\item 2\n",
       "\\item 0\n",
       "\\item 0\n",
       "\\item 1\n",
       "\\item 6\n",
       "\\item 4\n",
       "\\item 3\n",
       "\\item 3\n",
       "\\item 1\n",
       "\\item 2\n",
       "\\item 4\n",
       "\\item 0\n",
       "\\end{enumerate*}\n"
      ],
      "text/markdown": [
       "1. 1\n",
       "2. 1\n",
       "3. 1\n",
       "4. 3\n",
       "5. 0\n",
       "6. 0\n",
       "7. 1\n",
       "8. 1\n",
       "9. 1\n",
       "10. 0\n",
       "11. 2\n",
       "12. 2\n",
       "13. 0\n",
       "14. 0\n",
       "15. 0\n",
       "16. 1\n",
       "17. 2\n",
       "18. 1\n",
       "19. 2\n",
       "20. 0\n",
       "21. 0\n",
       "22. 1\n",
       "23. 6\n",
       "24. 4\n",
       "25. 3\n",
       "26. 3\n",
       "27. 1\n",
       "28. 2\n",
       "29. 4\n",
       "30. 0\n",
       "\n",
       "\n"
      ],
      "text/plain": [
       " [1] 1 1 1 3 0 0 1 1 1 0 2 2 0 0 0 1 2 1 2 0 0 1 6 4 3 3 1 2 4 0"
      ]
     },
     "metadata": {},
     "output_type": "display_data"
    }
   ],
   "source": [
    "data"
   ]
  },
  {
   "cell_type": "code",
   "execution_count": 136,
   "id": "b7bf2590",
   "metadata": {},
   "outputs": [],
   "source": [
    "freq = table(data)"
   ]
  },
  {
   "cell_type": "code",
   "execution_count": 137,
   "id": "5d52bba1",
   "metadata": {},
   "outputs": [
    {
     "data": {
      "text/plain": [
       "data\n",
       " 0  1  2  3  4  6 \n",
       " 9 10  5  3  2  1 "
      ]
     },
     "metadata": {},
     "output_type": "display_data"
    }
   ],
   "source": [
    "freq"
   ]
  },
  {
   "cell_type": "code",
   "execution_count": 138,
   "id": "322dfff3",
   "metadata": {},
   "outputs": [],
   "source": [
    "prob = prop.table(freq)"
   ]
  },
  {
   "cell_type": "code",
   "execution_count": 139,
   "id": "f3522de0",
   "metadata": {},
   "outputs": [
    {
     "data": {
      "text/plain": [
       "data\n",
       "         0          1          2          3          4          6 \n",
       "0.30000000 0.33333333 0.16666667 0.10000000 0.06666667 0.03333333 "
      ]
     },
     "metadata": {},
     "output_type": "display_data"
    }
   ],
   "source": [
    "prob"
   ]
  },
  {
   "cell_type": "code",
   "execution_count": 140,
   "id": "23a047f2",
   "metadata": {},
   "outputs": [],
   "source": [
    "sum_freq = cumsum(prob)"
   ]
  },
  {
   "cell_type": "code",
   "execution_count": 141,
   "id": "9b665571",
   "metadata": {},
   "outputs": [
    {
     "data": {
      "text/html": [
       "<style>\n",
       ".dl-inline {width: auto; margin:0; padding: 0}\n",
       ".dl-inline>dt, .dl-inline>dd {float: none; width: auto; display: inline-block}\n",
       ".dl-inline>dt::after {content: \":\\0020\"; padding-right: .5ex}\n",
       ".dl-inline>dt:not(:first-of-type) {padding-left: .5ex}\n",
       "</style><dl class=dl-inline><dt>0</dt><dd>0.3</dd><dt>1</dt><dd>0.633333333333333</dd><dt>2</dt><dd>0.8</dd><dt>3</dt><dd>0.9</dd><dt>4</dt><dd>0.966666666666667</dd><dt>6</dt><dd>1</dd></dl>\n"
      ],
      "text/latex": [
       "\\begin{description*}\n",
       "\\item[0] 0.3\n",
       "\\item[1] 0.633333333333333\n",
       "\\item[2] 0.8\n",
       "\\item[3] 0.9\n",
       "\\item[4] 0.966666666666667\n",
       "\\item[6] 1\n",
       "\\end{description*}\n"
      ],
      "text/markdown": [
       "0\n",
       ":   0.31\n",
       ":   0.6333333333333332\n",
       ":   0.83\n",
       ":   0.94\n",
       ":   0.9666666666666676\n",
       ":   1\n",
       "\n"
      ],
      "text/plain": [
       "        0         1         2         3         4         6 \n",
       "0.3000000 0.6333333 0.8000000 0.9000000 0.9666667 1.0000000 "
      ]
     },
     "metadata": {},
     "output_type": "display_data"
    }
   ],
   "source": [
    "sum_freq"
   ]
  },
  {
   "cell_type": "code",
   "execution_count": 142,
   "id": "7ec536ad",
   "metadata": {},
   "outputs": [],
   "source": [
    "freq.table = cbind(freq, sum_freq)"
   ]
  },
  {
   "cell_type": "code",
   "execution_count": 143,
   "id": "83e6527f",
   "metadata": {},
   "outputs": [
    {
     "data": {
      "text/html": [
       "<table class=\"dataframe\">\n",
       "<caption>A matrix: 6 × 2 of type dbl</caption>\n",
       "<thead>\n",
       "\t<tr><th></th><th scope=col>freq</th><th scope=col>sum_freq</th></tr>\n",
       "</thead>\n",
       "<tbody>\n",
       "\t<tr><th scope=row>0</th><td> 9</td><td>0.3000000</td></tr>\n",
       "\t<tr><th scope=row>1</th><td>10</td><td>0.6333333</td></tr>\n",
       "\t<tr><th scope=row>2</th><td> 5</td><td>0.8000000</td></tr>\n",
       "\t<tr><th scope=row>3</th><td> 3</td><td>0.9000000</td></tr>\n",
       "\t<tr><th scope=row>4</th><td> 2</td><td>0.9666667</td></tr>\n",
       "\t<tr><th scope=row>6</th><td> 1</td><td>1.0000000</td></tr>\n",
       "</tbody>\n",
       "</table>\n"
      ],
      "text/latex": [
       "A matrix: 6 × 2 of type dbl\n",
       "\\begin{tabular}{r|ll}\n",
       "  & freq & sum\\_freq\\\\\n",
       "\\hline\n",
       "\t0 &  9 & 0.3000000\\\\\n",
       "\t1 & 10 & 0.6333333\\\\\n",
       "\t2 &  5 & 0.8000000\\\\\n",
       "\t3 &  3 & 0.9000000\\\\\n",
       "\t4 &  2 & 0.9666667\\\\\n",
       "\t6 &  1 & 1.0000000\\\\\n",
       "\\end{tabular}\n"
      ],
      "text/markdown": [
       "\n",
       "A matrix: 6 × 2 of type dbl\n",
       "\n",
       "| <!--/--> | freq | sum_freq |\n",
       "|---|---|---|\n",
       "| 0 |  9 | 0.3000000 |\n",
       "| 1 | 10 | 0.6333333 |\n",
       "| 2 |  5 | 0.8000000 |\n",
       "| 3 |  3 | 0.9000000 |\n",
       "| 4 |  2 | 0.9666667 |\n",
       "| 6 |  1 | 1.0000000 |\n",
       "\n"
      ],
      "text/plain": [
       "  freq sum_freq \n",
       "0  9   0.3000000\n",
       "1 10   0.6333333\n",
       "2  5   0.8000000\n",
       "3  3   0.9000000\n",
       "4  2   0.9666667\n",
       "6  1   1.0000000"
      ]
     },
     "metadata": {},
     "output_type": "display_data"
    }
   ],
   "source": [
    "freq.table"
   ]
  },
  {
   "cell_type": "code",
   "execution_count": 144,
   "id": "f5710cdd",
   "metadata": {},
   "outputs": [],
   "source": [
    "a = rep('A', 2240)"
   ]
  },
  {
   "cell_type": "code",
   "execution_count": 145,
   "id": "12e1e5d7",
   "metadata": {},
   "outputs": [],
   "source": [
    "b = rep('B', 1040)\n",
    "c = rep('C', 820)"
   ]
  },
  {
   "cell_type": "code",
   "execution_count": 146,
   "id": "547cfa0b",
   "metadata": {},
   "outputs": [],
   "source": [
    "data = c(a, b, c)"
   ]
  },
  {
   "cell_type": "code",
   "execution_count": 147,
   "id": "b2bc055a",
   "metadata": {},
   "outputs": [
    {
     "data": {
      "text/html": [
       "<style>\n",
       ".list-inline {list-style: none; margin:0; padding: 0}\n",
       ".list-inline>li {display: inline-block}\n",
       ".list-inline>li:not(:last-child)::after {content: \"\\00b7\"; padding: 0 .5ex}\n",
       "</style>\n",
       "<ol class=list-inline><li>'A'</li><li>'A'</li><li>'A'</li><li>'A'</li><li>'A'</li><li>'A'</li><li>'A'</li><li>'A'</li><li>'A'</li><li>'A'</li><li>'A'</li><li>'A'</li><li>'A'</li><li>'A'</li><li>'A'</li><li>'A'</li><li>'A'</li><li>'A'</li><li>'A'</li><li>'A'</li><li>'A'</li><li>'A'</li><li>'A'</li><li>'A'</li><li>'A'</li><li>'A'</li><li>'A'</li><li>'A'</li><li>'A'</li><li>'A'</li><li>'A'</li><li>'A'</li><li>'A'</li><li>'A'</li><li>'A'</li><li>'A'</li><li>'A'</li><li>'A'</li><li>'A'</li><li>'A'</li><li>'A'</li><li>'A'</li><li>'A'</li><li>'A'</li><li>'A'</li><li>'A'</li><li>'A'</li><li>'A'</li><li>'A'</li><li>'A'</li><li>'A'</li><li>'A'</li><li>'A'</li><li>'A'</li><li>'A'</li><li>'A'</li><li>'A'</li><li>'A'</li><li>'A'</li><li>'A'</li><li>'A'</li><li>'A'</li><li>'A'</li><li>'A'</li><li>'A'</li><li>'A'</li><li>'A'</li><li>'A'</li><li>'A'</li><li>'A'</li><li>'A'</li><li>'A'</li><li>'A'</li><li>'A'</li><li>'A'</li><li>'A'</li><li>'A'</li><li>'A'</li><li>'A'</li><li>'A'</li><li>'A'</li><li>'A'</li><li>'A'</li><li>'A'</li><li>'A'</li><li>'A'</li><li>'A'</li><li>'A'</li><li>'A'</li><li>'A'</li><li>'A'</li><li>'A'</li><li>'A'</li><li>'A'</li><li>'A'</li><li>'A'</li><li>'A'</li><li>'A'</li><li>'A'</li><li>'A'</li><li>'A'</li><li>'A'</li><li>'A'</li><li>'A'</li><li>'A'</li><li>'A'</li><li>'A'</li><li>'A'</li><li>'A'</li><li>'A'</li><li>'A'</li><li>'A'</li><li>'A'</li><li>'A'</li><li>'A'</li><li>'A'</li><li>'A'</li><li>'A'</li><li>'A'</li><li>'A'</li><li>'A'</li><li>'A'</li><li>'A'</li><li>'A'</li><li>'A'</li><li>'A'</li><li>'A'</li><li>'A'</li><li>'A'</li><li>'A'</li><li>'A'</li><li>'A'</li><li>'A'</li><li>'A'</li><li>'A'</li><li>'A'</li><li>'A'</li><li>'A'</li><li>'A'</li><li>'A'</li><li>'A'</li><li>'A'</li><li>'A'</li><li>'A'</li><li>'A'</li><li>'A'</li><li>'A'</li><li>'A'</li><li>'A'</li><li>'A'</li><li>'A'</li><li>'A'</li><li>'A'</li><li>'A'</li><li>'A'</li><li>'A'</li><li>'A'</li><li>'A'</li><li>'A'</li><li>'A'</li><li>'A'</li><li>'A'</li><li>'A'</li><li>'A'</li><li>'A'</li><li>'A'</li><li>'A'</li><li>'A'</li><li>'A'</li><li>'A'</li><li>'A'</li><li>'A'</li><li>'A'</li><li>'A'</li><li>'A'</li><li>'A'</li><li>'A'</li><li>'A'</li><li>'A'</li><li>'A'</li><li>'A'</li><li>'A'</li><li>'A'</li><li>'A'</li><li>'A'</li><li>'A'</li><li>'A'</li><li>'A'</li><li>'A'</li><li>'A'</li><li>'A'</li><li>'A'</li><li>'A'</li><li>'A'</li><li>'A'</li><li>'A'</li><li>'A'</li><li>'A'</li><li>'A'</li><li>'A'</li><li>⋯</li><li>'C'</li><li>'C'</li><li>'C'</li><li>'C'</li><li>'C'</li><li>'C'</li><li>'C'</li><li>'C'</li><li>'C'</li><li>'C'</li><li>'C'</li><li>'C'</li><li>'C'</li><li>'C'</li><li>'C'</li><li>'C'</li><li>'C'</li><li>'C'</li><li>'C'</li><li>'C'</li><li>'C'</li><li>'C'</li><li>'C'</li><li>'C'</li><li>'C'</li><li>'C'</li><li>'C'</li><li>'C'</li><li>'C'</li><li>'C'</li><li>'C'</li><li>'C'</li><li>'C'</li><li>'C'</li><li>'C'</li><li>'C'</li><li>'C'</li><li>'C'</li><li>'C'</li><li>'C'</li><li>'C'</li><li>'C'</li><li>'C'</li><li>'C'</li><li>'C'</li><li>'C'</li><li>'C'</li><li>'C'</li><li>'C'</li><li>'C'</li><li>'C'</li><li>'C'</li><li>'C'</li><li>'C'</li><li>'C'</li><li>'C'</li><li>'C'</li><li>'C'</li><li>'C'</li><li>'C'</li><li>'C'</li><li>'C'</li><li>'C'</li><li>'C'</li><li>'C'</li><li>'C'</li><li>'C'</li><li>'C'</li><li>'C'</li><li>'C'</li><li>'C'</li><li>'C'</li><li>'C'</li><li>'C'</li><li>'C'</li><li>'C'</li><li>'C'</li><li>'C'</li><li>'C'</li><li>'C'</li><li>'C'</li><li>'C'</li><li>'C'</li><li>'C'</li><li>'C'</li><li>'C'</li><li>'C'</li><li>'C'</li><li>'C'</li><li>'C'</li><li>'C'</li><li>'C'</li><li>'C'</li><li>'C'</li><li>'C'</li><li>'C'</li><li>'C'</li><li>'C'</li><li>'C'</li><li>'C'</li><li>'C'</li><li>'C'</li><li>'C'</li><li>'C'</li><li>'C'</li><li>'C'</li><li>'C'</li><li>'C'</li><li>'C'</li><li>'C'</li><li>'C'</li><li>'C'</li><li>'C'</li><li>'C'</li><li>'C'</li><li>'C'</li><li>'C'</li><li>'C'</li><li>'C'</li><li>'C'</li><li>'C'</li><li>'C'</li><li>'C'</li><li>'C'</li><li>'C'</li><li>'C'</li><li>'C'</li><li>'C'</li><li>'C'</li><li>'C'</li><li>'C'</li><li>'C'</li><li>'C'</li><li>'C'</li><li>'C'</li><li>'C'</li><li>'C'</li><li>'C'</li><li>'C'</li><li>'C'</li><li>'C'</li><li>'C'</li><li>'C'</li><li>'C'</li><li>'C'</li><li>'C'</li><li>'C'</li><li>'C'</li><li>'C'</li><li>'C'</li><li>'C'</li><li>'C'</li><li>'C'</li><li>'C'</li><li>'C'</li><li>'C'</li><li>'C'</li><li>'C'</li><li>'C'</li><li>'C'</li><li>'C'</li><li>'C'</li><li>'C'</li><li>'C'</li><li>'C'</li><li>'C'</li><li>'C'</li><li>'C'</li><li>'C'</li><li>'C'</li><li>'C'</li><li>'C'</li><li>'C'</li><li>'C'</li><li>'C'</li><li>'C'</li><li>'C'</li><li>'C'</li><li>'C'</li><li>'C'</li><li>'C'</li><li>'C'</li><li>'C'</li><li>'C'</li><li>'C'</li><li>'C'</li><li>'C'</li><li>'C'</li><li>'C'</li><li>'C'</li><li>'C'</li><li>'C'</li><li>'C'</li><li>'C'</li><li>'C'</li><li>'C'</li><li>'C'</li><li>'C'</li><li>'C'</li><li>'C'</li></ol>\n"
      ],
      "text/latex": [
       "\\begin{enumerate*}\n",
       "\\item 'A'\n",
       "\\item 'A'\n",
       "\\item 'A'\n",
       "\\item 'A'\n",
       "\\item 'A'\n",
       "\\item 'A'\n",
       "\\item 'A'\n",
       "\\item 'A'\n",
       "\\item 'A'\n",
       "\\item 'A'\n",
       "\\item 'A'\n",
       "\\item 'A'\n",
       "\\item 'A'\n",
       "\\item 'A'\n",
       "\\item 'A'\n",
       "\\item 'A'\n",
       "\\item 'A'\n",
       "\\item 'A'\n",
       "\\item 'A'\n",
       "\\item 'A'\n",
       "\\item 'A'\n",
       "\\item 'A'\n",
       "\\item 'A'\n",
       "\\item 'A'\n",
       "\\item 'A'\n",
       "\\item 'A'\n",
       "\\item 'A'\n",
       "\\item 'A'\n",
       "\\item 'A'\n",
       "\\item 'A'\n",
       "\\item 'A'\n",
       "\\item 'A'\n",
       "\\item 'A'\n",
       "\\item 'A'\n",
       "\\item 'A'\n",
       "\\item 'A'\n",
       "\\item 'A'\n",
       "\\item 'A'\n",
       "\\item 'A'\n",
       "\\item 'A'\n",
       "\\item 'A'\n",
       "\\item 'A'\n",
       "\\item 'A'\n",
       "\\item 'A'\n",
       "\\item 'A'\n",
       "\\item 'A'\n",
       "\\item 'A'\n",
       "\\item 'A'\n",
       "\\item 'A'\n",
       "\\item 'A'\n",
       "\\item 'A'\n",
       "\\item 'A'\n",
       "\\item 'A'\n",
       "\\item 'A'\n",
       "\\item 'A'\n",
       "\\item 'A'\n",
       "\\item 'A'\n",
       "\\item 'A'\n",
       "\\item 'A'\n",
       "\\item 'A'\n",
       "\\item 'A'\n",
       "\\item 'A'\n",
       "\\item 'A'\n",
       "\\item 'A'\n",
       "\\item 'A'\n",
       "\\item 'A'\n",
       "\\item 'A'\n",
       "\\item 'A'\n",
       "\\item 'A'\n",
       "\\item 'A'\n",
       "\\item 'A'\n",
       "\\item 'A'\n",
       "\\item 'A'\n",
       "\\item 'A'\n",
       "\\item 'A'\n",
       "\\item 'A'\n",
       "\\item 'A'\n",
       "\\item 'A'\n",
       "\\item 'A'\n",
       "\\item 'A'\n",
       "\\item 'A'\n",
       "\\item 'A'\n",
       "\\item 'A'\n",
       "\\item 'A'\n",
       "\\item 'A'\n",
       "\\item 'A'\n",
       "\\item 'A'\n",
       "\\item 'A'\n",
       "\\item 'A'\n",
       "\\item 'A'\n",
       "\\item 'A'\n",
       "\\item 'A'\n",
       "\\item 'A'\n",
       "\\item 'A'\n",
       "\\item 'A'\n",
       "\\item 'A'\n",
       "\\item 'A'\n",
       "\\item 'A'\n",
       "\\item 'A'\n",
       "\\item 'A'\n",
       "\\item 'A'\n",
       "\\item 'A'\n",
       "\\item 'A'\n",
       "\\item 'A'\n",
       "\\item 'A'\n",
       "\\item 'A'\n",
       "\\item 'A'\n",
       "\\item 'A'\n",
       "\\item 'A'\n",
       "\\item 'A'\n",
       "\\item 'A'\n",
       "\\item 'A'\n",
       "\\item 'A'\n",
       "\\item 'A'\n",
       "\\item 'A'\n",
       "\\item 'A'\n",
       "\\item 'A'\n",
       "\\item 'A'\n",
       "\\item 'A'\n",
       "\\item 'A'\n",
       "\\item 'A'\n",
       "\\item 'A'\n",
       "\\item 'A'\n",
       "\\item 'A'\n",
       "\\item 'A'\n",
       "\\item 'A'\n",
       "\\item 'A'\n",
       "\\item 'A'\n",
       "\\item 'A'\n",
       "\\item 'A'\n",
       "\\item 'A'\n",
       "\\item 'A'\n",
       "\\item 'A'\n",
       "\\item 'A'\n",
       "\\item 'A'\n",
       "\\item 'A'\n",
       "\\item 'A'\n",
       "\\item 'A'\n",
       "\\item 'A'\n",
       "\\item 'A'\n",
       "\\item 'A'\n",
       "\\item 'A'\n",
       "\\item 'A'\n",
       "\\item 'A'\n",
       "\\item 'A'\n",
       "\\item 'A'\n",
       "\\item 'A'\n",
       "\\item 'A'\n",
       "\\item 'A'\n",
       "\\item 'A'\n",
       "\\item 'A'\n",
       "\\item 'A'\n",
       "\\item 'A'\n",
       "\\item 'A'\n",
       "\\item 'A'\n",
       "\\item 'A'\n",
       "\\item 'A'\n",
       "\\item 'A'\n",
       "\\item 'A'\n",
       "\\item 'A'\n",
       "\\item 'A'\n",
       "\\item 'A'\n",
       "\\item 'A'\n",
       "\\item 'A'\n",
       "\\item 'A'\n",
       "\\item 'A'\n",
       "\\item 'A'\n",
       "\\item 'A'\n",
       "\\item 'A'\n",
       "\\item 'A'\n",
       "\\item 'A'\n",
       "\\item 'A'\n",
       "\\item 'A'\n",
       "\\item 'A'\n",
       "\\item 'A'\n",
       "\\item 'A'\n",
       "\\item 'A'\n",
       "\\item 'A'\n",
       "\\item 'A'\n",
       "\\item 'A'\n",
       "\\item 'A'\n",
       "\\item 'A'\n",
       "\\item 'A'\n",
       "\\item 'A'\n",
       "\\item 'A'\n",
       "\\item 'A'\n",
       "\\item 'A'\n",
       "\\item 'A'\n",
       "\\item 'A'\n",
       "\\item 'A'\n",
       "\\item 'A'\n",
       "\\item 'A'\n",
       "\\item 'A'\n",
       "\\item 'A'\n",
       "\\item 'A'\n",
       "\\item 'A'\n",
       "\\item 'A'\n",
       "\\item 'A'\n",
       "\\item 'A'\n",
       "\\item 'A'\n",
       "\\item ⋯\n",
       "\\item 'C'\n",
       "\\item 'C'\n",
       "\\item 'C'\n",
       "\\item 'C'\n",
       "\\item 'C'\n",
       "\\item 'C'\n",
       "\\item 'C'\n",
       "\\item 'C'\n",
       "\\item 'C'\n",
       "\\item 'C'\n",
       "\\item 'C'\n",
       "\\item 'C'\n",
       "\\item 'C'\n",
       "\\item 'C'\n",
       "\\item 'C'\n",
       "\\item 'C'\n",
       "\\item 'C'\n",
       "\\item 'C'\n",
       "\\item 'C'\n",
       "\\item 'C'\n",
       "\\item 'C'\n",
       "\\item 'C'\n",
       "\\item 'C'\n",
       "\\item 'C'\n",
       "\\item 'C'\n",
       "\\item 'C'\n",
       "\\item 'C'\n",
       "\\item 'C'\n",
       "\\item 'C'\n",
       "\\item 'C'\n",
       "\\item 'C'\n",
       "\\item 'C'\n",
       "\\item 'C'\n",
       "\\item 'C'\n",
       "\\item 'C'\n",
       "\\item 'C'\n",
       "\\item 'C'\n",
       "\\item 'C'\n",
       "\\item 'C'\n",
       "\\item 'C'\n",
       "\\item 'C'\n",
       "\\item 'C'\n",
       "\\item 'C'\n",
       "\\item 'C'\n",
       "\\item 'C'\n",
       "\\item 'C'\n",
       "\\item 'C'\n",
       "\\item 'C'\n",
       "\\item 'C'\n",
       "\\item 'C'\n",
       "\\item 'C'\n",
       "\\item 'C'\n",
       "\\item 'C'\n",
       "\\item 'C'\n",
       "\\item 'C'\n",
       "\\item 'C'\n",
       "\\item 'C'\n",
       "\\item 'C'\n",
       "\\item 'C'\n",
       "\\item 'C'\n",
       "\\item 'C'\n",
       "\\item 'C'\n",
       "\\item 'C'\n",
       "\\item 'C'\n",
       "\\item 'C'\n",
       "\\item 'C'\n",
       "\\item 'C'\n",
       "\\item 'C'\n",
       "\\item 'C'\n",
       "\\item 'C'\n",
       "\\item 'C'\n",
       "\\item 'C'\n",
       "\\item 'C'\n",
       "\\item 'C'\n",
       "\\item 'C'\n",
       "\\item 'C'\n",
       "\\item 'C'\n",
       "\\item 'C'\n",
       "\\item 'C'\n",
       "\\item 'C'\n",
       "\\item 'C'\n",
       "\\item 'C'\n",
       "\\item 'C'\n",
       "\\item 'C'\n",
       "\\item 'C'\n",
       "\\item 'C'\n",
       "\\item 'C'\n",
       "\\item 'C'\n",
       "\\item 'C'\n",
       "\\item 'C'\n",
       "\\item 'C'\n",
       "\\item 'C'\n",
       "\\item 'C'\n",
       "\\item 'C'\n",
       "\\item 'C'\n",
       "\\item 'C'\n",
       "\\item 'C'\n",
       "\\item 'C'\n",
       "\\item 'C'\n",
       "\\item 'C'\n",
       "\\item 'C'\n",
       "\\item 'C'\n",
       "\\item 'C'\n",
       "\\item 'C'\n",
       "\\item 'C'\n",
       "\\item 'C'\n",
       "\\item 'C'\n",
       "\\item 'C'\n",
       "\\item 'C'\n",
       "\\item 'C'\n",
       "\\item 'C'\n",
       "\\item 'C'\n",
       "\\item 'C'\n",
       "\\item 'C'\n",
       "\\item 'C'\n",
       "\\item 'C'\n",
       "\\item 'C'\n",
       "\\item 'C'\n",
       "\\item 'C'\n",
       "\\item 'C'\n",
       "\\item 'C'\n",
       "\\item 'C'\n",
       "\\item 'C'\n",
       "\\item 'C'\n",
       "\\item 'C'\n",
       "\\item 'C'\n",
       "\\item 'C'\n",
       "\\item 'C'\n",
       "\\item 'C'\n",
       "\\item 'C'\n",
       "\\item 'C'\n",
       "\\item 'C'\n",
       "\\item 'C'\n",
       "\\item 'C'\n",
       "\\item 'C'\n",
       "\\item 'C'\n",
       "\\item 'C'\n",
       "\\item 'C'\n",
       "\\item 'C'\n",
       "\\item 'C'\n",
       "\\item 'C'\n",
       "\\item 'C'\n",
       "\\item 'C'\n",
       "\\item 'C'\n",
       "\\item 'C'\n",
       "\\item 'C'\n",
       "\\item 'C'\n",
       "\\item 'C'\n",
       "\\item 'C'\n",
       "\\item 'C'\n",
       "\\item 'C'\n",
       "\\item 'C'\n",
       "\\item 'C'\n",
       "\\item 'C'\n",
       "\\item 'C'\n",
       "\\item 'C'\n",
       "\\item 'C'\n",
       "\\item 'C'\n",
       "\\item 'C'\n",
       "\\item 'C'\n",
       "\\item 'C'\n",
       "\\item 'C'\n",
       "\\item 'C'\n",
       "\\item 'C'\n",
       "\\item 'C'\n",
       "\\item 'C'\n",
       "\\item 'C'\n",
       "\\item 'C'\n",
       "\\item 'C'\n",
       "\\item 'C'\n",
       "\\item 'C'\n",
       "\\item 'C'\n",
       "\\item 'C'\n",
       "\\item 'C'\n",
       "\\item 'C'\n",
       "\\item 'C'\n",
       "\\item 'C'\n",
       "\\item 'C'\n",
       "\\item 'C'\n",
       "\\item 'C'\n",
       "\\item 'C'\n",
       "\\item 'C'\n",
       "\\item 'C'\n",
       "\\item 'C'\n",
       "\\item 'C'\n",
       "\\item 'C'\n",
       "\\item 'C'\n",
       "\\item 'C'\n",
       "\\item 'C'\n",
       "\\item 'C'\n",
       "\\item 'C'\n",
       "\\item 'C'\n",
       "\\item 'C'\n",
       "\\item 'C'\n",
       "\\item 'C'\n",
       "\\item 'C'\n",
       "\\item 'C'\n",
       "\\item 'C'\n",
       "\\item 'C'\n",
       "\\item 'C'\n",
       "\\end{enumerate*}\n"
      ],
      "text/markdown": [
       "1. 'A'\n",
       "2. 'A'\n",
       "3. 'A'\n",
       "4. 'A'\n",
       "5. 'A'\n",
       "6. 'A'\n",
       "7. 'A'\n",
       "8. 'A'\n",
       "9. 'A'\n",
       "10. 'A'\n",
       "11. 'A'\n",
       "12. 'A'\n",
       "13. 'A'\n",
       "14. 'A'\n",
       "15. 'A'\n",
       "16. 'A'\n",
       "17. 'A'\n",
       "18. 'A'\n",
       "19. 'A'\n",
       "20. 'A'\n",
       "21. 'A'\n",
       "22. 'A'\n",
       "23. 'A'\n",
       "24. 'A'\n",
       "25. 'A'\n",
       "26. 'A'\n",
       "27. 'A'\n",
       "28. 'A'\n",
       "29. 'A'\n",
       "30. 'A'\n",
       "31. 'A'\n",
       "32. 'A'\n",
       "33. 'A'\n",
       "34. 'A'\n",
       "35. 'A'\n",
       "36. 'A'\n",
       "37. 'A'\n",
       "38. 'A'\n",
       "39. 'A'\n",
       "40. 'A'\n",
       "41. 'A'\n",
       "42. 'A'\n",
       "43. 'A'\n",
       "44. 'A'\n",
       "45. 'A'\n",
       "46. 'A'\n",
       "47. 'A'\n",
       "48. 'A'\n",
       "49. 'A'\n",
       "50. 'A'\n",
       "51. 'A'\n",
       "52. 'A'\n",
       "53. 'A'\n",
       "54. 'A'\n",
       "55. 'A'\n",
       "56. 'A'\n",
       "57. 'A'\n",
       "58. 'A'\n",
       "59. 'A'\n",
       "60. 'A'\n",
       "61. 'A'\n",
       "62. 'A'\n",
       "63. 'A'\n",
       "64. 'A'\n",
       "65. 'A'\n",
       "66. 'A'\n",
       "67. 'A'\n",
       "68. 'A'\n",
       "69. 'A'\n",
       "70. 'A'\n",
       "71. 'A'\n",
       "72. 'A'\n",
       "73. 'A'\n",
       "74. 'A'\n",
       "75. 'A'\n",
       "76. 'A'\n",
       "77. 'A'\n",
       "78. 'A'\n",
       "79. 'A'\n",
       "80. 'A'\n",
       "81. 'A'\n",
       "82. 'A'\n",
       "83. 'A'\n",
       "84. 'A'\n",
       "85. 'A'\n",
       "86. 'A'\n",
       "87. 'A'\n",
       "88. 'A'\n",
       "89. 'A'\n",
       "90. 'A'\n",
       "91. 'A'\n",
       "92. 'A'\n",
       "93. 'A'\n",
       "94. 'A'\n",
       "95. 'A'\n",
       "96. 'A'\n",
       "97. 'A'\n",
       "98. 'A'\n",
       "99. 'A'\n",
       "100. 'A'\n",
       "101. 'A'\n",
       "102. 'A'\n",
       "103. 'A'\n",
       "104. 'A'\n",
       "105. 'A'\n",
       "106. 'A'\n",
       "107. 'A'\n",
       "108. 'A'\n",
       "109. 'A'\n",
       "110. 'A'\n",
       "111. 'A'\n",
       "112. 'A'\n",
       "113. 'A'\n",
       "114. 'A'\n",
       "115. 'A'\n",
       "116. 'A'\n",
       "117. 'A'\n",
       "118. 'A'\n",
       "119. 'A'\n",
       "120. 'A'\n",
       "121. 'A'\n",
       "122. 'A'\n",
       "123. 'A'\n",
       "124. 'A'\n",
       "125. 'A'\n",
       "126. 'A'\n",
       "127. 'A'\n",
       "128. 'A'\n",
       "129. 'A'\n",
       "130. 'A'\n",
       "131. 'A'\n",
       "132. 'A'\n",
       "133. 'A'\n",
       "134. 'A'\n",
       "135. 'A'\n",
       "136. 'A'\n",
       "137. 'A'\n",
       "138. 'A'\n",
       "139. 'A'\n",
       "140. 'A'\n",
       "141. 'A'\n",
       "142. 'A'\n",
       "143. 'A'\n",
       "144. 'A'\n",
       "145. 'A'\n",
       "146. 'A'\n",
       "147. 'A'\n",
       "148. 'A'\n",
       "149. 'A'\n",
       "150. 'A'\n",
       "151. 'A'\n",
       "152. 'A'\n",
       "153. 'A'\n",
       "154. 'A'\n",
       "155. 'A'\n",
       "156. 'A'\n",
       "157. 'A'\n",
       "158. 'A'\n",
       "159. 'A'\n",
       "160. 'A'\n",
       "161. 'A'\n",
       "162. 'A'\n",
       "163. 'A'\n",
       "164. 'A'\n",
       "165. 'A'\n",
       "166. 'A'\n",
       "167. 'A'\n",
       "168. 'A'\n",
       "169. 'A'\n",
       "170. 'A'\n",
       "171. 'A'\n",
       "172. 'A'\n",
       "173. 'A'\n",
       "174. 'A'\n",
       "175. 'A'\n",
       "176. 'A'\n",
       "177. 'A'\n",
       "178. 'A'\n",
       "179. 'A'\n",
       "180. 'A'\n",
       "181. 'A'\n",
       "182. 'A'\n",
       "183. 'A'\n",
       "184. 'A'\n",
       "185. 'A'\n",
       "186. 'A'\n",
       "187. 'A'\n",
       "188. 'A'\n",
       "189. 'A'\n",
       "190. 'A'\n",
       "191. 'A'\n",
       "192. 'A'\n",
       "193. 'A'\n",
       "194. 'A'\n",
       "195. 'A'\n",
       "196. 'A'\n",
       "197. 'A'\n",
       "198. 'A'\n",
       "199. 'A'\n",
       "200. 'A'\n",
       "201. ⋯\n",
       "202. 'C'\n",
       "203. 'C'\n",
       "204. 'C'\n",
       "205. 'C'\n",
       "206. 'C'\n",
       "207. 'C'\n",
       "208. 'C'\n",
       "209. 'C'\n",
       "210. 'C'\n",
       "211. 'C'\n",
       "212. 'C'\n",
       "213. 'C'\n",
       "214. 'C'\n",
       "215. 'C'\n",
       "216. 'C'\n",
       "217. 'C'\n",
       "218. 'C'\n",
       "219. 'C'\n",
       "220. 'C'\n",
       "221. 'C'\n",
       "222. 'C'\n",
       "223. 'C'\n",
       "224. 'C'\n",
       "225. 'C'\n",
       "226. 'C'\n",
       "227. 'C'\n",
       "228. 'C'\n",
       "229. 'C'\n",
       "230. 'C'\n",
       "231. 'C'\n",
       "232. 'C'\n",
       "233. 'C'\n",
       "234. 'C'\n",
       "235. 'C'\n",
       "236. 'C'\n",
       "237. 'C'\n",
       "238. 'C'\n",
       "239. 'C'\n",
       "240. 'C'\n",
       "241. 'C'\n",
       "242. 'C'\n",
       "243. 'C'\n",
       "244. 'C'\n",
       "245. 'C'\n",
       "246. 'C'\n",
       "247. 'C'\n",
       "248. 'C'\n",
       "249. 'C'\n",
       "250. 'C'\n",
       "251. 'C'\n",
       "252. 'C'\n",
       "253. 'C'\n",
       "254. 'C'\n",
       "255. 'C'\n",
       "256. 'C'\n",
       "257. 'C'\n",
       "258. 'C'\n",
       "259. 'C'\n",
       "260. 'C'\n",
       "261. 'C'\n",
       "262. 'C'\n",
       "263. 'C'\n",
       "264. 'C'\n",
       "265. 'C'\n",
       "266. 'C'\n",
       "267. 'C'\n",
       "268. 'C'\n",
       "269. 'C'\n",
       "270. 'C'\n",
       "271. 'C'\n",
       "272. 'C'\n",
       "273. 'C'\n",
       "274. 'C'\n",
       "275. 'C'\n",
       "276. 'C'\n",
       "277. 'C'\n",
       "278. 'C'\n",
       "279. 'C'\n",
       "280. 'C'\n",
       "281. 'C'\n",
       "282. 'C'\n",
       "283. 'C'\n",
       "284. 'C'\n",
       "285. 'C'\n",
       "286. 'C'\n",
       "287. 'C'\n",
       "288. 'C'\n",
       "289. 'C'\n",
       "290. 'C'\n",
       "291. 'C'\n",
       "292. 'C'\n",
       "293. 'C'\n",
       "294. 'C'\n",
       "295. 'C'\n",
       "296. 'C'\n",
       "297. 'C'\n",
       "298. 'C'\n",
       "299. 'C'\n",
       "300. 'C'\n",
       "301. 'C'\n",
       "302. 'C'\n",
       "303. 'C'\n",
       "304. 'C'\n",
       "305. 'C'\n",
       "306. 'C'\n",
       "307. 'C'\n",
       "308. 'C'\n",
       "309. 'C'\n",
       "310. 'C'\n",
       "311. 'C'\n",
       "312. 'C'\n",
       "313. 'C'\n",
       "314. 'C'\n",
       "315. 'C'\n",
       "316. 'C'\n",
       "317. 'C'\n",
       "318. 'C'\n",
       "319. 'C'\n",
       "320. 'C'\n",
       "321. 'C'\n",
       "322. 'C'\n",
       "323. 'C'\n",
       "324. 'C'\n",
       "325. 'C'\n",
       "326. 'C'\n",
       "327. 'C'\n",
       "328. 'C'\n",
       "329. 'C'\n",
       "330. 'C'\n",
       "331. 'C'\n",
       "332. 'C'\n",
       "333. 'C'\n",
       "334. 'C'\n",
       "335. 'C'\n",
       "336. 'C'\n",
       "337. 'C'\n",
       "338. 'C'\n",
       "339. 'C'\n",
       "340. 'C'\n",
       "341. 'C'\n",
       "342. 'C'\n",
       "343. 'C'\n",
       "344. 'C'\n",
       "345. 'C'\n",
       "346. 'C'\n",
       "347. 'C'\n",
       "348. 'C'\n",
       "349. 'C'\n",
       "350. 'C'\n",
       "351. 'C'\n",
       "352. 'C'\n",
       "353. 'C'\n",
       "354. 'C'\n",
       "355. 'C'\n",
       "356. 'C'\n",
       "357. 'C'\n",
       "358. 'C'\n",
       "359. 'C'\n",
       "360. 'C'\n",
       "361. 'C'\n",
       "362. 'C'\n",
       "363. 'C'\n",
       "364. 'C'\n",
       "365. 'C'\n",
       "366. 'C'\n",
       "367. 'C'\n",
       "368. 'C'\n",
       "369. 'C'\n",
       "370. 'C'\n",
       "371. 'C'\n",
       "372. 'C'\n",
       "373. 'C'\n",
       "374. 'C'\n",
       "375. 'C'\n",
       "376. 'C'\n",
       "377. 'C'\n",
       "378. 'C'\n",
       "379. 'C'\n",
       "380. 'C'\n",
       "381. 'C'\n",
       "382. 'C'\n",
       "383. 'C'\n",
       "384. 'C'\n",
       "385. 'C'\n",
       "386. 'C'\n",
       "387. 'C'\n",
       "388. 'C'\n",
       "389. 'C'\n",
       "390. 'C'\n",
       "391. 'C'\n",
       "392. 'C'\n",
       "393. 'C'\n",
       "394. 'C'\n",
       "395. 'C'\n",
       "396. 'C'\n",
       "397. 'C'\n",
       "398. 'C'\n",
       "399. 'C'\n",
       "400. 'C'\n",
       "401. 'C'\n",
       "\n",
       "\n"
      ],
      "text/plain": [
       "   [1] \"A\" \"A\" \"A\" \"A\" \"A\" \"A\" \"A\" \"A\" \"A\" \"A\" \"A\" \"A\" \"A\" \"A\" \"A\" \"A\" \"A\" \"A\"\n",
       "  [19] \"A\" \"A\" \"A\" \"A\" \"A\" \"A\" \"A\" \"A\" \"A\" \"A\" \"A\" \"A\" \"A\" \"A\" \"A\" \"A\" \"A\" \"A\"\n",
       "  [37] \"A\" \"A\" \"A\" \"A\" \"A\" \"A\" \"A\" \"A\" \"A\" \"A\" \"A\" \"A\" \"A\" \"A\" \"A\" \"A\" \"A\" \"A\"\n",
       "  [55] \"A\" \"A\" \"A\" \"A\" \"A\" \"A\" \"A\" \"A\" \"A\" \"A\" \"A\" \"A\" \"A\" \"A\" \"A\" \"A\" \"A\" \"A\"\n",
       "  [73] \"A\" \"A\" \"A\" \"A\" \"A\" \"A\" \"A\" \"A\" \"A\" \"A\" \"A\" \"A\" \"A\" \"A\" \"A\" \"A\" \"A\" \"A\"\n",
       "  [91] \"A\" \"A\" \"A\" \"A\" \"A\" \"A\" \"A\" \"A\" \"A\" \"A\" \"A\" \"A\" \"A\" \"A\" \"A\" \"A\" \"A\" \"A\"\n",
       " [109] \"A\" \"A\" \"A\" \"A\" \"A\" \"A\" \"A\" \"A\" \"A\" \"A\" \"A\" \"A\" \"A\" \"A\" \"A\" \"A\" \"A\" \"A\"\n",
       " [127] \"A\" \"A\" \"A\" \"A\" \"A\" \"A\" \"A\" \"A\" \"A\" \"A\" \"A\" \"A\" \"A\" \"A\" \"A\" \"A\" \"A\" \"A\"\n",
       " [145] \"A\" \"A\" \"A\" \"A\" \"A\" \"A\" \"A\" \"A\" \"A\" \"A\" \"A\" \"A\" \"A\" \"A\" \"A\" \"A\" \"A\" \"A\"\n",
       " [163] \"A\" \"A\" \"A\" \"A\" \"A\" \"A\" \"A\" \"A\" \"A\" \"A\" \"A\" \"A\" \"A\" \"A\" \"A\" \"A\" \"A\" \"A\"\n",
       " [181] \"A\" \"A\" \"A\" \"A\" \"A\" \"A\" \"A\" \"A\" \"A\" \"A\" \"A\" \"A\" \"A\" \"A\" \"A\" \"A\" \"A\" \"A\"\n",
       " [199] \"A\" \"A\" \"A\" \"A\" \"A\" \"A\" \"A\" \"A\" \"A\" \"A\" \"A\" \"A\" \"A\" \"A\" \"A\" \"A\" \"A\" \"A\"\n",
       " [217] \"A\" \"A\" \"A\" \"A\" \"A\" \"A\" \"A\" \"A\" \"A\" \"A\" \"A\" \"A\" \"A\" \"A\" \"A\" \"A\" \"A\" \"A\"\n",
       " [235] \"A\" \"A\" \"A\" \"A\" \"A\" \"A\" \"A\" \"A\" \"A\" \"A\" \"A\" \"A\" \"A\" \"A\" \"A\" \"A\" \"A\" \"A\"\n",
       " [253] \"A\" \"A\" \"A\" \"A\" \"A\" \"A\" \"A\" \"A\" \"A\" \"A\" \"A\" \"A\" \"A\" \"A\" \"A\" \"A\" \"A\" \"A\"\n",
       " [271] \"A\" \"A\" \"A\" \"A\" \"A\" \"A\" \"A\" \"A\" \"A\" \"A\" \"A\" \"A\" \"A\" \"A\" \"A\" \"A\" \"A\" \"A\"\n",
       " [289] \"A\" \"A\" \"A\" \"A\" \"A\" \"A\" \"A\" \"A\" \"A\" \"A\" \"A\" \"A\" \"A\" \"A\" \"A\" \"A\" \"A\" \"A\"\n",
       " [307] \"A\" \"A\" \"A\" \"A\" \"A\" \"A\" \"A\" \"A\" \"A\" \"A\" \"A\" \"A\" \"A\" \"A\" \"A\" \"A\" \"A\" \"A\"\n",
       " [325] \"A\" \"A\" \"A\" \"A\" \"A\" \"A\" \"A\" \"A\" \"A\" \"A\" \"A\" \"A\" \"A\" \"A\" \"A\" \"A\" \"A\" \"A\"\n",
       " [343] \"A\" \"A\" \"A\" \"A\" \"A\" \"A\" \"A\" \"A\" \"A\" \"A\" \"A\" \"A\" \"A\" \"A\" \"A\" \"A\" \"A\" \"A\"\n",
       " [361] \"A\" \"A\" \"A\" \"A\" \"A\" \"A\" \"A\" \"A\" \"A\" \"A\" \"A\" \"A\" \"A\" \"A\" \"A\" \"A\" \"A\" \"A\"\n",
       " [379] \"A\" \"A\" \"A\" \"A\" \"A\" \"A\" \"A\" \"A\" \"A\" \"A\" \"A\" \"A\" \"A\" \"A\" \"A\" \"A\" \"A\" \"A\"\n",
       " [397] \"A\" \"A\" \"A\" \"A\" \"A\" \"A\" \"A\" \"A\" \"A\" \"A\" \"A\" \"A\" \"A\" \"A\" \"A\" \"A\" \"A\" \"A\"\n",
       " [415] \"A\" \"A\" \"A\" \"A\" \"A\" \"A\" \"A\" \"A\" \"A\" \"A\" \"A\" \"A\" \"A\" \"A\" \"A\" \"A\" \"A\" \"A\"\n",
       " [433] \"A\" \"A\" \"A\" \"A\" \"A\" \"A\" \"A\" \"A\" \"A\" \"A\" \"A\" \"A\" \"A\" \"A\" \"A\" \"A\" \"A\" \"A\"\n",
       " [451] \"A\" \"A\" \"A\" \"A\" \"A\" \"A\" \"A\" \"A\" \"A\" \"A\" \"A\" \"A\" \"A\" \"A\" \"A\" \"A\" \"A\" \"A\"\n",
       " [469] \"A\" \"A\" \"A\" \"A\" \"A\" \"A\" \"A\" \"A\" \"A\" \"A\" \"A\" \"A\" \"A\" \"A\" \"A\" \"A\" \"A\" \"A\"\n",
       " [487] \"A\" \"A\" \"A\" \"A\" \"A\" \"A\" \"A\" \"A\" \"A\" \"A\" \"A\" \"A\" \"A\" \"A\" \"A\" \"A\" \"A\" \"A\"\n",
       " [505] \"A\" \"A\" \"A\" \"A\" \"A\" \"A\" \"A\" \"A\" \"A\" \"A\" \"A\" \"A\" \"A\" \"A\" \"A\" \"A\" \"A\" \"A\"\n",
       " [523] \"A\" \"A\" \"A\" \"A\" \"A\" \"A\" \"A\" \"A\" \"A\" \"A\" \"A\" \"A\" \"A\" \"A\" \"A\" \"A\" \"A\" \"A\"\n",
       " [541] \"A\" \"A\" \"A\" \"A\" \"A\" \"A\" \"A\" \"A\" \"A\" \"A\" \"A\" \"A\" \"A\" \"A\" \"A\" \"A\" \"A\" \"A\"\n",
       " [559] \"A\" \"A\" \"A\" \"A\" \"A\" \"A\" \"A\" \"A\" \"A\" \"A\" \"A\" \"A\" \"A\" \"A\" \"A\" \"A\" \"A\" \"A\"\n",
       " [577] \"A\" \"A\" \"A\" \"A\" \"A\" \"A\" \"A\" \"A\" \"A\" \"A\" \"A\" \"A\" \"A\" \"A\" \"A\" \"A\" \"A\" \"A\"\n",
       " [595] \"A\" \"A\" \"A\" \"A\" \"A\" \"A\" \"A\" \"A\" \"A\" \"A\" \"A\" \"A\" \"A\" \"A\" \"A\" \"A\" \"A\" \"A\"\n",
       " [613] \"A\" \"A\" \"A\" \"A\" \"A\" \"A\" \"A\" \"A\" \"A\" \"A\" \"A\" \"A\" \"A\" \"A\" \"A\" \"A\" \"A\" \"A\"\n",
       " [631] \"A\" \"A\" \"A\" \"A\" \"A\" \"A\" \"A\" \"A\" \"A\" \"A\" \"A\" \"A\" \"A\" \"A\" \"A\" \"A\" \"A\" \"A\"\n",
       " [649] \"A\" \"A\" \"A\" \"A\" \"A\" \"A\" \"A\" \"A\" \"A\" \"A\" \"A\" \"A\" \"A\" \"A\" \"A\" \"A\" \"A\" \"A\"\n",
       " [667] \"A\" \"A\" \"A\" \"A\" \"A\" \"A\" \"A\" \"A\" \"A\" \"A\" \"A\" \"A\" \"A\" \"A\" \"A\" \"A\" \"A\" \"A\"\n",
       " [685] \"A\" \"A\" \"A\" \"A\" \"A\" \"A\" \"A\" \"A\" \"A\" \"A\" \"A\" \"A\" \"A\" \"A\" \"A\" \"A\" \"A\" \"A\"\n",
       " [703] \"A\" \"A\" \"A\" \"A\" \"A\" \"A\" \"A\" \"A\" \"A\" \"A\" \"A\" \"A\" \"A\" \"A\" \"A\" \"A\" \"A\" \"A\"\n",
       " [721] \"A\" \"A\" \"A\" \"A\" \"A\" \"A\" \"A\" \"A\" \"A\" \"A\" \"A\" \"A\" \"A\" \"A\" \"A\" \"A\" \"A\" \"A\"\n",
       " [739] \"A\" \"A\" \"A\" \"A\" \"A\" \"A\" \"A\" \"A\" \"A\" \"A\" \"A\" \"A\" \"A\" \"A\" \"A\" \"A\" \"A\" \"A\"\n",
       " [757] \"A\" \"A\" \"A\" \"A\" \"A\" \"A\" \"A\" \"A\" \"A\" \"A\" \"A\" \"A\" \"A\" \"A\" \"A\" \"A\" \"A\" \"A\"\n",
       " [775] \"A\" \"A\" \"A\" \"A\" \"A\" \"A\" \"A\" \"A\" \"A\" \"A\" \"A\" \"A\" \"A\" \"A\" \"A\" \"A\" \"A\" \"A\"\n",
       " [793] \"A\" \"A\" \"A\" \"A\" \"A\" \"A\" \"A\" \"A\" \"A\" \"A\" \"A\" \"A\" \"A\" \"A\" \"A\" \"A\" \"A\" \"A\"\n",
       " [811] \"A\" \"A\" \"A\" \"A\" \"A\" \"A\" \"A\" \"A\" \"A\" \"A\" \"A\" \"A\" \"A\" \"A\" \"A\" \"A\" \"A\" \"A\"\n",
       " [829] \"A\" \"A\" \"A\" \"A\" \"A\" \"A\" \"A\" \"A\" \"A\" \"A\" \"A\" \"A\" \"A\" \"A\" \"A\" \"A\" \"A\" \"A\"\n",
       " [847] \"A\" \"A\" \"A\" \"A\" \"A\" \"A\" \"A\" \"A\" \"A\" \"A\" \"A\" \"A\" \"A\" \"A\" \"A\" \"A\" \"A\" \"A\"\n",
       " [865] \"A\" \"A\" \"A\" \"A\" \"A\" \"A\" \"A\" \"A\" \"A\" \"A\" \"A\" \"A\" \"A\" \"A\" \"A\" \"A\" \"A\" \"A\"\n",
       " [883] \"A\" \"A\" \"A\" \"A\" \"A\" \"A\" \"A\" \"A\" \"A\" \"A\" \"A\" \"A\" \"A\" \"A\" \"A\" \"A\" \"A\" \"A\"\n",
       " [901] \"A\" \"A\" \"A\" \"A\" \"A\" \"A\" \"A\" \"A\" \"A\" \"A\" \"A\" \"A\" \"A\" \"A\" \"A\" \"A\" \"A\" \"A\"\n",
       " [919] \"A\" \"A\" \"A\" \"A\" \"A\" \"A\" \"A\" \"A\" \"A\" \"A\" \"A\" \"A\" \"A\" \"A\" \"A\" \"A\" \"A\" \"A\"\n",
       " [937] \"A\" \"A\" \"A\" \"A\" \"A\" \"A\" \"A\" \"A\" \"A\" \"A\" \"A\" \"A\" \"A\" \"A\" \"A\" \"A\" \"A\" \"A\"\n",
       " [955] \"A\" \"A\" \"A\" \"A\" \"A\" \"A\" \"A\" \"A\" \"A\" \"A\" \"A\" \"A\" \"A\" \"A\" \"A\" \"A\" \"A\" \"A\"\n",
       " [973] \"A\" \"A\" \"A\" \"A\" \"A\" \"A\" \"A\" \"A\" \"A\" \"A\" \"A\" \"A\" \"A\" \"A\" \"A\" \"A\" \"A\" \"A\"\n",
       " [991] \"A\" \"A\" \"A\" \"A\" \"A\" \"A\" \"A\" \"A\" \"A\" \"A\" \"A\" \"A\" \"A\" \"A\" \"A\" \"A\" \"A\" \"A\"\n",
       "[1009] \"A\" \"A\" \"A\" \"A\" \"A\" \"A\" \"A\" \"A\" \"A\" \"A\" \"A\" \"A\" \"A\" \"A\" \"A\" \"A\" \"A\" \"A\"\n",
       "[1027] \"A\" \"A\" \"A\" \"A\" \"A\" \"A\" \"A\" \"A\" \"A\" \"A\" \"A\" \"A\" \"A\" \"A\" \"A\" \"A\" \"A\" \"A\"\n",
       "[1045] \"A\" \"A\" \"A\" \"A\" \"A\" \"A\" \"A\" \"A\" \"A\" \"A\" \"A\" \"A\" \"A\" \"A\" \"A\" \"A\" \"A\" \"A\"\n",
       "[1063] \"A\" \"A\" \"A\" \"A\" \"A\" \"A\" \"A\" \"A\" \"A\" \"A\" \"A\" \"A\" \"A\" \"A\" \"A\" \"A\" \"A\" \"A\"\n",
       "[1081] \"A\" \"A\" \"A\" \"A\" \"A\" \"A\" \"A\" \"A\" \"A\" \"A\" \"A\" \"A\" \"A\" \"A\" \"A\" \"A\" \"A\" \"A\"\n",
       "[1099] \"A\" \"A\" \"A\" \"A\" \"A\" \"A\" \"A\" \"A\" \"A\" \"A\" \"A\" \"A\" \"A\" \"A\" \"A\" \"A\" \"A\" \"A\"\n",
       "[1117] \"A\" \"A\" \"A\" \"A\" \"A\" \"A\" \"A\" \"A\" \"A\" \"A\" \"A\" \"A\" \"A\" \"A\" \"A\" \"A\" \"A\" \"A\"\n",
       "[1135] \"A\" \"A\" \"A\" \"A\" \"A\" \"A\" \"A\" \"A\" \"A\" \"A\" \"A\" \"A\" \"A\" \"A\" \"A\" \"A\" \"A\" \"A\"\n",
       "[1153] \"A\" \"A\" \"A\" \"A\" \"A\" \"A\" \"A\" \"A\" \"A\" \"A\" \"A\" \"A\" \"A\" \"A\" \"A\" \"A\" \"A\" \"A\"\n",
       "[1171] \"A\" \"A\" \"A\" \"A\" \"A\" \"A\" \"A\" \"A\" \"A\" \"A\" \"A\" \"A\" \"A\" \"A\" \"A\" \"A\" \"A\" \"A\"\n",
       "[1189] \"A\" \"A\" \"A\" \"A\" \"A\" \"A\" \"A\" \"A\" \"A\" \"A\" \"A\" \"A\" \"A\" \"A\" \"A\" \"A\" \"A\" \"A\"\n",
       "[1207] \"A\" \"A\" \"A\" \"A\" \"A\" \"A\" \"A\" \"A\" \"A\" \"A\" \"A\" \"A\" \"A\" \"A\" \"A\" \"A\" \"A\" \"A\"\n",
       "[1225] \"A\" \"A\" \"A\" \"A\" \"A\" \"A\" \"A\" \"A\" \"A\" \"A\" \"A\" \"A\" \"A\" \"A\" \"A\" \"A\" \"A\" \"A\"\n",
       "[1243] \"A\" \"A\" \"A\" \"A\" \"A\" \"A\" \"A\" \"A\" \"A\" \"A\" \"A\" \"A\" \"A\" \"A\" \"A\" \"A\" \"A\" \"A\"\n",
       "[1261] \"A\" \"A\" \"A\" \"A\" \"A\" \"A\" \"A\" \"A\" \"A\" \"A\" \"A\" \"A\" \"A\" \"A\" \"A\" \"A\" \"A\" \"A\"\n",
       "[1279] \"A\" \"A\" \"A\" \"A\" \"A\" \"A\" \"A\" \"A\" \"A\" \"A\" \"A\" \"A\" \"A\" \"A\" \"A\" \"A\" \"A\" \"A\"\n",
       "[1297] \"A\" \"A\" \"A\" \"A\" \"A\" \"A\" \"A\" \"A\" \"A\" \"A\" \"A\" \"A\" \"A\" \"A\" \"A\" \"A\" \"A\" \"A\"\n",
       "[1315] \"A\" \"A\" \"A\" \"A\" \"A\" \"A\" \"A\" \"A\" \"A\" \"A\" \"A\" \"A\" \"A\" \"A\" \"A\" \"A\" \"A\" \"A\"\n",
       "[1333] \"A\" \"A\" \"A\" \"A\" \"A\" \"A\" \"A\" \"A\" \"A\" \"A\" \"A\" \"A\" \"A\" \"A\" \"A\" \"A\" \"A\" \"A\"\n",
       "[1351] \"A\" \"A\" \"A\" \"A\" \"A\" \"A\" \"A\" \"A\" \"A\" \"A\" \"A\" \"A\" \"A\" \"A\" \"A\" \"A\" \"A\" \"A\"\n",
       "[1369] \"A\" \"A\" \"A\" \"A\" \"A\" \"A\" \"A\" \"A\" \"A\" \"A\" \"A\" \"A\" \"A\" \"A\" \"A\" \"A\" \"A\" \"A\"\n",
       "[1387] \"A\" \"A\" \"A\" \"A\" \"A\" \"A\" \"A\" \"A\" \"A\" \"A\" \"A\" \"A\" \"A\" \"A\" \"A\" \"A\" \"A\" \"A\"\n",
       "[1405] \"A\" \"A\" \"A\" \"A\" \"A\" \"A\" \"A\" \"A\" \"A\" \"A\" \"A\" \"A\" \"A\" \"A\" \"A\" \"A\" \"A\" \"A\"\n",
       "[1423] \"A\" \"A\" \"A\" \"A\" \"A\" \"A\" \"A\" \"A\" \"A\" \"A\" \"A\" \"A\" \"A\" \"A\" \"A\" \"A\" \"A\" \"A\"\n",
       "[1441] \"A\" \"A\" \"A\" \"A\" \"A\" \"A\" \"A\" \"A\" \"A\" \"A\" \"A\" \"A\" \"A\" \"A\" \"A\" \"A\" \"A\" \"A\"\n",
       "[1459] \"A\" \"A\" \"A\" \"A\" \"A\" \"A\" \"A\" \"A\" \"A\" \"A\" \"A\" \"A\" \"A\" \"A\" \"A\" \"A\" \"A\" \"A\"\n",
       "[1477] \"A\" \"A\" \"A\" \"A\" \"A\" \"A\" \"A\" \"A\" \"A\" \"A\" \"A\" \"A\" \"A\" \"A\" \"A\" \"A\" \"A\" \"A\"\n",
       "[1495] \"A\" \"A\" \"A\" \"A\" \"A\" \"A\" \"A\" \"A\" \"A\" \"A\" \"A\" \"A\" \"A\" \"A\" \"A\" \"A\" \"A\" \"A\"\n",
       "[1513] \"A\" \"A\" \"A\" \"A\" \"A\" \"A\" \"A\" \"A\" \"A\" \"A\" \"A\" \"A\" \"A\" \"A\" \"A\" \"A\" \"A\" \"A\"\n",
       "[1531] \"A\" \"A\" \"A\" \"A\" \"A\" \"A\" \"A\" \"A\" \"A\" \"A\" \"A\" \"A\" \"A\" \"A\" \"A\" \"A\" \"A\" \"A\"\n",
       "[1549] \"A\" \"A\" \"A\" \"A\" \"A\" \"A\" \"A\" \"A\" \"A\" \"A\" \"A\" \"A\" \"A\" \"A\" \"A\" \"A\" \"A\" \"A\"\n",
       "[1567] \"A\" \"A\" \"A\" \"A\" \"A\" \"A\" \"A\" \"A\" \"A\" \"A\" \"A\" \"A\" \"A\" \"A\" \"A\" \"A\" \"A\" \"A\"\n",
       "[1585] \"A\" \"A\" \"A\" \"A\" \"A\" \"A\" \"A\" \"A\" \"A\" \"A\" \"A\" \"A\" \"A\" \"A\" \"A\" \"A\" \"A\" \"A\"\n",
       "[1603] \"A\" \"A\" \"A\" \"A\" \"A\" \"A\" \"A\" \"A\" \"A\" \"A\" \"A\" \"A\" \"A\" \"A\" \"A\" \"A\" \"A\" \"A\"\n",
       "[1621] \"A\" \"A\" \"A\" \"A\" \"A\" \"A\" \"A\" \"A\" \"A\" \"A\" \"A\" \"A\" \"A\" \"A\" \"A\" \"A\" \"A\" \"A\"\n",
       "[1639] \"A\" \"A\" \"A\" \"A\" \"A\" \"A\" \"A\" \"A\" \"A\" \"A\" \"A\" \"A\" \"A\" \"A\" \"A\" \"A\" \"A\" \"A\"\n",
       "[1657] \"A\" \"A\" \"A\" \"A\" \"A\" \"A\" \"A\" \"A\" \"A\" \"A\" \"A\" \"A\" \"A\" \"A\" \"A\" \"A\" \"A\" \"A\"\n",
       "[1675] \"A\" \"A\" \"A\" \"A\" \"A\" \"A\" \"A\" \"A\" \"A\" \"A\" \"A\" \"A\" \"A\" \"A\" \"A\" \"A\" \"A\" \"A\"\n",
       "[1693] \"A\" \"A\" \"A\" \"A\" \"A\" \"A\" \"A\" \"A\" \"A\" \"A\" \"A\" \"A\" \"A\" \"A\" \"A\" \"A\" \"A\" \"A\"\n",
       "[1711] \"A\" \"A\" \"A\" \"A\" \"A\" \"A\" \"A\" \"A\" \"A\" \"A\" \"A\" \"A\" \"A\" \"A\" \"A\" \"A\" \"A\" \"A\"\n",
       "[1729] \"A\" \"A\" \"A\" \"A\" \"A\" \"A\" \"A\" \"A\" \"A\" \"A\" \"A\" \"A\" \"A\" \"A\" \"A\" \"A\" \"A\" \"A\"\n",
       "[1747] \"A\" \"A\" \"A\" \"A\" \"A\" \"A\" \"A\" \"A\" \"A\" \"A\" \"A\" \"A\" \"A\" \"A\" \"A\" \"A\" \"A\" \"A\"\n",
       "[1765] \"A\" \"A\" \"A\" \"A\" \"A\" \"A\" \"A\" \"A\" \"A\" \"A\" \"A\" \"A\" \"A\" \"A\" \"A\" \"A\" \"A\" \"A\"\n",
       "[1783] \"A\" \"A\" \"A\" \"A\" \"A\" \"A\" \"A\" \"A\" \"A\" \"A\" \"A\" \"A\" \"A\" \"A\" \"A\" \"A\" \"A\" \"A\"\n",
       "[1801] \"A\" \"A\" \"A\" \"A\" \"A\" \"A\" \"A\" \"A\" \"A\" \"A\" \"A\" \"A\" \"A\" \"A\" \"A\" \"A\" \"A\" \"A\"\n",
       "[1819] \"A\" \"A\" \"A\" \"A\" \"A\" \"A\" \"A\" \"A\" \"A\" \"A\" \"A\" \"A\" \"A\" \"A\" \"A\" \"A\" \"A\" \"A\"\n",
       "[1837] \"A\" \"A\" \"A\" \"A\" \"A\" \"A\" \"A\" \"A\" \"A\" \"A\" \"A\" \"A\" \"A\" \"A\" \"A\" \"A\" \"A\" \"A\"\n",
       "[1855] \"A\" \"A\" \"A\" \"A\" \"A\" \"A\" \"A\" \"A\" \"A\" \"A\" \"A\" \"A\" \"A\" \"A\" \"A\" \"A\" \"A\" \"A\"\n",
       "[1873] \"A\" \"A\" \"A\" \"A\" \"A\" \"A\" \"A\" \"A\" \"A\" \"A\" \"A\" \"A\" \"A\" \"A\" \"A\" \"A\" \"A\" \"A\"\n",
       "[1891] \"A\" \"A\" \"A\" \"A\" \"A\" \"A\" \"A\" \"A\" \"A\" \"A\" \"A\" \"A\" \"A\" \"A\" \"A\" \"A\" \"A\" \"A\"\n",
       "[1909] \"A\" \"A\" \"A\" \"A\" \"A\" \"A\" \"A\" \"A\" \"A\" \"A\" \"A\" \"A\" \"A\" \"A\" \"A\" \"A\" \"A\" \"A\"\n",
       "[1927] \"A\" \"A\" \"A\" \"A\" \"A\" \"A\" \"A\" \"A\" \"A\" \"A\" \"A\" \"A\" \"A\" \"A\" \"A\" \"A\" \"A\" \"A\"\n",
       "[1945] \"A\" \"A\" \"A\" \"A\" \"A\" \"A\" \"A\" \"A\" \"A\" \"A\" \"A\" \"A\" \"A\" \"A\" \"A\" \"A\" \"A\" \"A\"\n",
       "[1963] \"A\" \"A\" \"A\" \"A\" \"A\" \"A\" \"A\" \"A\" \"A\" \"A\" \"A\" \"A\" \"A\" \"A\" \"A\" \"A\" \"A\" \"A\"\n",
       "[1981] \"A\" \"A\" \"A\" \"A\" \"A\" \"A\" \"A\" \"A\" \"A\" \"A\" \"A\" \"A\" \"A\" \"A\" \"A\" \"A\" \"A\" \"A\"\n",
       "[1999] \"A\" \"A\" \"A\" \"A\" \"A\" \"A\" \"A\" \"A\" \"A\" \"A\" \"A\" \"A\" \"A\" \"A\" \"A\" \"A\" \"A\" \"A\"\n",
       "[2017] \"A\" \"A\" \"A\" \"A\" \"A\" \"A\" \"A\" \"A\" \"A\" \"A\" \"A\" \"A\" \"A\" \"A\" \"A\" \"A\" \"A\" \"A\"\n",
       "[2035] \"A\" \"A\" \"A\" \"A\" \"A\" \"A\" \"A\" \"A\" \"A\" \"A\" \"A\" \"A\" \"A\" \"A\" \"A\" \"A\" \"A\" \"A\"\n",
       "[2053] \"A\" \"A\" \"A\" \"A\" \"A\" \"A\" \"A\" \"A\" \"A\" \"A\" \"A\" \"A\" \"A\" \"A\" \"A\" \"A\" \"A\" \"A\"\n",
       "[2071] \"A\" \"A\" \"A\" \"A\" \"A\" \"A\" \"A\" \"A\" \"A\" \"A\" \"A\" \"A\" \"A\" \"A\" \"A\" \"A\" \"A\" \"A\"\n",
       "[2089] \"A\" \"A\" \"A\" \"A\" \"A\" \"A\" \"A\" \"A\" \"A\" \"A\" \"A\" \"A\" \"A\" \"A\" \"A\" \"A\" \"A\" \"A\"\n",
       "[2107] \"A\" \"A\" \"A\" \"A\" \"A\" \"A\" \"A\" \"A\" \"A\" \"A\" \"A\" \"A\" \"A\" \"A\" \"A\" \"A\" \"A\" \"A\"\n",
       "[2125] \"A\" \"A\" \"A\" \"A\" \"A\" \"A\" \"A\" \"A\" \"A\" \"A\" \"A\" \"A\" \"A\" \"A\" \"A\" \"A\" \"A\" \"A\"\n",
       "[2143] \"A\" \"A\" \"A\" \"A\" \"A\" \"A\" \"A\" \"A\" \"A\" \"A\" \"A\" \"A\" \"A\" \"A\" \"A\" \"A\" \"A\" \"A\"\n",
       "[2161] \"A\" \"A\" \"A\" \"A\" \"A\" \"A\" \"A\" \"A\" \"A\" \"A\" \"A\" \"A\" \"A\" \"A\" \"A\" \"A\" \"A\" \"A\"\n",
       "[2179] \"A\" \"A\" \"A\" \"A\" \"A\" \"A\" \"A\" \"A\" \"A\" \"A\" \"A\" \"A\" \"A\" \"A\" \"A\" \"A\" \"A\" \"A\"\n",
       "[2197] \"A\" \"A\" \"A\" \"A\" \"A\" \"A\" \"A\" \"A\" \"A\" \"A\" \"A\" \"A\" \"A\" \"A\" \"A\" \"A\" \"A\" \"A\"\n",
       "[2215] \"A\" \"A\" \"A\" \"A\" \"A\" \"A\" \"A\" \"A\" \"A\" \"A\" \"A\" \"A\" \"A\" \"A\" \"A\" \"A\" \"A\" \"A\"\n",
       "[2233] \"A\" \"A\" \"A\" \"A\" \"A\" \"A\" \"A\" \"A\" \"B\" \"B\" \"B\" \"B\" \"B\" \"B\" \"B\" \"B\" \"B\" \"B\"\n",
       "[2251] \"B\" \"B\" \"B\" \"B\" \"B\" \"B\" \"B\" \"B\" \"B\" \"B\" \"B\" \"B\" \"B\" \"B\" \"B\" \"B\" \"B\" \"B\"\n",
       "[2269] \"B\" \"B\" \"B\" \"B\" \"B\" \"B\" \"B\" \"B\" \"B\" \"B\" \"B\" \"B\" \"B\" \"B\" \"B\" \"B\" \"B\" \"B\"\n",
       "[2287] \"B\" \"B\" \"B\" \"B\" \"B\" \"B\" \"B\" \"B\" \"B\" \"B\" \"B\" \"B\" \"B\" \"B\" \"B\" \"B\" \"B\" \"B\"\n",
       "[2305] \"B\" \"B\" \"B\" \"B\" \"B\" \"B\" \"B\" \"B\" \"B\" \"B\" \"B\" \"B\" \"B\" \"B\" \"B\" \"B\" \"B\" \"B\"\n",
       "[2323] \"B\" \"B\" \"B\" \"B\" \"B\" \"B\" \"B\" \"B\" \"B\" \"B\" \"B\" \"B\" \"B\" \"B\" \"B\" \"B\" \"B\" \"B\"\n",
       "[2341] \"B\" \"B\" \"B\" \"B\" \"B\" \"B\" \"B\" \"B\" \"B\" \"B\" \"B\" \"B\" \"B\" \"B\" \"B\" \"B\" \"B\" \"B\"\n",
       "[2359] \"B\" \"B\" \"B\" \"B\" \"B\" \"B\" \"B\" \"B\" \"B\" \"B\" \"B\" \"B\" \"B\" \"B\" \"B\" \"B\" \"B\" \"B\"\n",
       "[2377] \"B\" \"B\" \"B\" \"B\" \"B\" \"B\" \"B\" \"B\" \"B\" \"B\" \"B\" \"B\" \"B\" \"B\" \"B\" \"B\" \"B\" \"B\"\n",
       "[2395] \"B\" \"B\" \"B\" \"B\" \"B\" \"B\" \"B\" \"B\" \"B\" \"B\" \"B\" \"B\" \"B\" \"B\" \"B\" \"B\" \"B\" \"B\"\n",
       "[2413] \"B\" \"B\" \"B\" \"B\" \"B\" \"B\" \"B\" \"B\" \"B\" \"B\" \"B\" \"B\" \"B\" \"B\" \"B\" \"B\" \"B\" \"B\"\n",
       "[2431] \"B\" \"B\" \"B\" \"B\" \"B\" \"B\" \"B\" \"B\" \"B\" \"B\" \"B\" \"B\" \"B\" \"B\" \"B\" \"B\" \"B\" \"B\"\n",
       "[2449] \"B\" \"B\" \"B\" \"B\" \"B\" \"B\" \"B\" \"B\" \"B\" \"B\" \"B\" \"B\" \"B\" \"B\" \"B\" \"B\" \"B\" \"B\"\n",
       "[2467] \"B\" \"B\" \"B\" \"B\" \"B\" \"B\" \"B\" \"B\" \"B\" \"B\" \"B\" \"B\" \"B\" \"B\" \"B\" \"B\" \"B\" \"B\"\n",
       "[2485] \"B\" \"B\" \"B\" \"B\" \"B\" \"B\" \"B\" \"B\" \"B\" \"B\" \"B\" \"B\" \"B\" \"B\" \"B\" \"B\" \"B\" \"B\"\n",
       "[2503] \"B\" \"B\" \"B\" \"B\" \"B\" \"B\" \"B\" \"B\" \"B\" \"B\" \"B\" \"B\" \"B\" \"B\" \"B\" \"B\" \"B\" \"B\"\n",
       "[2521] \"B\" \"B\" \"B\" \"B\" \"B\" \"B\" \"B\" \"B\" \"B\" \"B\" \"B\" \"B\" \"B\" \"B\" \"B\" \"B\" \"B\" \"B\"\n",
       "[2539] \"B\" \"B\" \"B\" \"B\" \"B\" \"B\" \"B\" \"B\" \"B\" \"B\" \"B\" \"B\" \"B\" \"B\" \"B\" \"B\" \"B\" \"B\"\n",
       "[2557] \"B\" \"B\" \"B\" \"B\" \"B\" \"B\" \"B\" \"B\" \"B\" \"B\" \"B\" \"B\" \"B\" \"B\" \"B\" \"B\" \"B\" \"B\"\n",
       "[2575] \"B\" \"B\" \"B\" \"B\" \"B\" \"B\" \"B\" \"B\" \"B\" \"B\" \"B\" \"B\" \"B\" \"B\" \"B\" \"B\" \"B\" \"B\"\n",
       "[2593] \"B\" \"B\" \"B\" \"B\" \"B\" \"B\" \"B\" \"B\" \"B\" \"B\" \"B\" \"B\" \"B\" \"B\" \"B\" \"B\" \"B\" \"B\"\n",
       "[2611] \"B\" \"B\" \"B\" \"B\" \"B\" \"B\" \"B\" \"B\" \"B\" \"B\" \"B\" \"B\" \"B\" \"B\" \"B\" \"B\" \"B\" \"B\"\n",
       "[2629] \"B\" \"B\" \"B\" \"B\" \"B\" \"B\" \"B\" \"B\" \"B\" \"B\" \"B\" \"B\" \"B\" \"B\" \"B\" \"B\" \"B\" \"B\"\n",
       "[2647] \"B\" \"B\" \"B\" \"B\" \"B\" \"B\" \"B\" \"B\" \"B\" \"B\" \"B\" \"B\" \"B\" \"B\" \"B\" \"B\" \"B\" \"B\"\n",
       "[2665] \"B\" \"B\" \"B\" \"B\" \"B\" \"B\" \"B\" \"B\" \"B\" \"B\" \"B\" \"B\" \"B\" \"B\" \"B\" \"B\" \"B\" \"B\"\n",
       "[2683] \"B\" \"B\" \"B\" \"B\" \"B\" \"B\" \"B\" \"B\" \"B\" \"B\" \"B\" \"B\" \"B\" \"B\" \"B\" \"B\" \"B\" \"B\"\n",
       "[2701] \"B\" \"B\" \"B\" \"B\" \"B\" \"B\" \"B\" \"B\" \"B\" \"B\" \"B\" \"B\" \"B\" \"B\" \"B\" \"B\" \"B\" \"B\"\n",
       "[2719] \"B\" \"B\" \"B\" \"B\" \"B\" \"B\" \"B\" \"B\" \"B\" \"B\" \"B\" \"B\" \"B\" \"B\" \"B\" \"B\" \"B\" \"B\"\n",
       "[2737] \"B\" \"B\" \"B\" \"B\" \"B\" \"B\" \"B\" \"B\" \"B\" \"B\" \"B\" \"B\" \"B\" \"B\" \"B\" \"B\" \"B\" \"B\"\n",
       "[2755] \"B\" \"B\" \"B\" \"B\" \"B\" \"B\" \"B\" \"B\" \"B\" \"B\" \"B\" \"B\" \"B\" \"B\" \"B\" \"B\" \"B\" \"B\"\n",
       "[2773] \"B\" \"B\" \"B\" \"B\" \"B\" \"B\" \"B\" \"B\" \"B\" \"B\" \"B\" \"B\" \"B\" \"B\" \"B\" \"B\" \"B\" \"B\"\n",
       "[2791] \"B\" \"B\" \"B\" \"B\" \"B\" \"B\" \"B\" \"B\" \"B\" \"B\" \"B\" \"B\" \"B\" \"B\" \"B\" \"B\" \"B\" \"B\"\n",
       "[2809] \"B\" \"B\" \"B\" \"B\" \"B\" \"B\" \"B\" \"B\" \"B\" \"B\" \"B\" \"B\" \"B\" \"B\" \"B\" \"B\" \"B\" \"B\"\n",
       "[2827] \"B\" \"B\" \"B\" \"B\" \"B\" \"B\" \"B\" \"B\" \"B\" \"B\" \"B\" \"B\" \"B\" \"B\" \"B\" \"B\" \"B\" \"B\"\n",
       "[2845] \"B\" \"B\" \"B\" \"B\" \"B\" \"B\" \"B\" \"B\" \"B\" \"B\" \"B\" \"B\" \"B\" \"B\" \"B\" \"B\" \"B\" \"B\"\n",
       "[2863] \"B\" \"B\" \"B\" \"B\" \"B\" \"B\" \"B\" \"B\" \"B\" \"B\" \"B\" \"B\" \"B\" \"B\" \"B\" \"B\" \"B\" \"B\"\n",
       "[2881] \"B\" \"B\" \"B\" \"B\" \"B\" \"B\" \"B\" \"B\" \"B\" \"B\" \"B\" \"B\" \"B\" \"B\" \"B\" \"B\" \"B\" \"B\"\n",
       "[2899] \"B\" \"B\" \"B\" \"B\" \"B\" \"B\" \"B\" \"B\" \"B\" \"B\" \"B\" \"B\" \"B\" \"B\" \"B\" \"B\" \"B\" \"B\"\n",
       "[2917] \"B\" \"B\" \"B\" \"B\" \"B\" \"B\" \"B\" \"B\" \"B\" \"B\" \"B\" \"B\" \"B\" \"B\" \"B\" \"B\" \"B\" \"B\"\n",
       "[2935] \"B\" \"B\" \"B\" \"B\" \"B\" \"B\" \"B\" \"B\" \"B\" \"B\" \"B\" \"B\" \"B\" \"B\" \"B\" \"B\" \"B\" \"B\"\n",
       "[2953] \"B\" \"B\" \"B\" \"B\" \"B\" \"B\" \"B\" \"B\" \"B\" \"B\" \"B\" \"B\" \"B\" \"B\" \"B\" \"B\" \"B\" \"B\"\n",
       "[2971] \"B\" \"B\" \"B\" \"B\" \"B\" \"B\" \"B\" \"B\" \"B\" \"B\" \"B\" \"B\" \"B\" \"B\" \"B\" \"B\" \"B\" \"B\"\n",
       "[2989] \"B\" \"B\" \"B\" \"B\" \"B\" \"B\" \"B\" \"B\" \"B\" \"B\" \"B\" \"B\" \"B\" \"B\" \"B\" \"B\" \"B\" \"B\"\n",
       "[3007] \"B\" \"B\" \"B\" \"B\" \"B\" \"B\" \"B\" \"B\" \"B\" \"B\" \"B\" \"B\" \"B\" \"B\" \"B\" \"B\" \"B\" \"B\"\n",
       "[3025] \"B\" \"B\" \"B\" \"B\" \"B\" \"B\" \"B\" \"B\" \"B\" \"B\" \"B\" \"B\" \"B\" \"B\" \"B\" \"B\" \"B\" \"B\"\n",
       "[3043] \"B\" \"B\" \"B\" \"B\" \"B\" \"B\" \"B\" \"B\" \"B\" \"B\" \"B\" \"B\" \"B\" \"B\" \"B\" \"B\" \"B\" \"B\"\n",
       "[3061] \"B\" \"B\" \"B\" \"B\" \"B\" \"B\" \"B\" \"B\" \"B\" \"B\" \"B\" \"B\" \"B\" \"B\" \"B\" \"B\" \"B\" \"B\"\n",
       "[3079] \"B\" \"B\" \"B\" \"B\" \"B\" \"B\" \"B\" \"B\" \"B\" \"B\" \"B\" \"B\" \"B\" \"B\" \"B\" \"B\" \"B\" \"B\"\n",
       "[3097] \"B\" \"B\" \"B\" \"B\" \"B\" \"B\" \"B\" \"B\" \"B\" \"B\" \"B\" \"B\" \"B\" \"B\" \"B\" \"B\" \"B\" \"B\"\n",
       "[3115] \"B\" \"B\" \"B\" \"B\" \"B\" \"B\" \"B\" \"B\" \"B\" \"B\" \"B\" \"B\" \"B\" \"B\" \"B\" \"B\" \"B\" \"B\"\n",
       "[3133] \"B\" \"B\" \"B\" \"B\" \"B\" \"B\" \"B\" \"B\" \"B\" \"B\" \"B\" \"B\" \"B\" \"B\" \"B\" \"B\" \"B\" \"B\"\n",
       "[3151] \"B\" \"B\" \"B\" \"B\" \"B\" \"B\" \"B\" \"B\" \"B\" \"B\" \"B\" \"B\" \"B\" \"B\" \"B\" \"B\" \"B\" \"B\"\n",
       "[3169] \"B\" \"B\" \"B\" \"B\" \"B\" \"B\" \"B\" \"B\" \"B\" \"B\" \"B\" \"B\" \"B\" \"B\" \"B\" \"B\" \"B\" \"B\"\n",
       "[3187] \"B\" \"B\" \"B\" \"B\" \"B\" \"B\" \"B\" \"B\" \"B\" \"B\" \"B\" \"B\" \"B\" \"B\" \"B\" \"B\" \"B\" \"B\"\n",
       "[3205] \"B\" \"B\" \"B\" \"B\" \"B\" \"B\" \"B\" \"B\" \"B\" \"B\" \"B\" \"B\" \"B\" \"B\" \"B\" \"B\" \"B\" \"B\"\n",
       "[3223] \"B\" \"B\" \"B\" \"B\" \"B\" \"B\" \"B\" \"B\" \"B\" \"B\" \"B\" \"B\" \"B\" \"B\" \"B\" \"B\" \"B\" \"B\"\n",
       "[3241] \"B\" \"B\" \"B\" \"B\" \"B\" \"B\" \"B\" \"B\" \"B\" \"B\" \"B\" \"B\" \"B\" \"B\" \"B\" \"B\" \"B\" \"B\"\n",
       "[3259] \"B\" \"B\" \"B\" \"B\" \"B\" \"B\" \"B\" \"B\" \"B\" \"B\" \"B\" \"B\" \"B\" \"B\" \"B\" \"B\" \"B\" \"B\"\n",
       "[3277] \"B\" \"B\" \"B\" \"B\" \"C\" \"C\" \"C\" \"C\" \"C\" \"C\" \"C\" \"C\" \"C\" \"C\" \"C\" \"C\" \"C\" \"C\"\n",
       "[3295] \"C\" \"C\" \"C\" \"C\" \"C\" \"C\" \"C\" \"C\" \"C\" \"C\" \"C\" \"C\" \"C\" \"C\" \"C\" \"C\" \"C\" \"C\"\n",
       "[3313] \"C\" \"C\" \"C\" \"C\" \"C\" \"C\" \"C\" \"C\" \"C\" \"C\" \"C\" \"C\" \"C\" \"C\" \"C\" \"C\" \"C\" \"C\"\n",
       "[3331] \"C\" \"C\" \"C\" \"C\" \"C\" \"C\" \"C\" \"C\" \"C\" \"C\" \"C\" \"C\" \"C\" \"C\" \"C\" \"C\" \"C\" \"C\"\n",
       "[3349] \"C\" \"C\" \"C\" \"C\" \"C\" \"C\" \"C\" \"C\" \"C\" \"C\" \"C\" \"C\" \"C\" \"C\" \"C\" \"C\" \"C\" \"C\"\n",
       "[3367] \"C\" \"C\" \"C\" \"C\" \"C\" \"C\" \"C\" \"C\" \"C\" \"C\" \"C\" \"C\" \"C\" \"C\" \"C\" \"C\" \"C\" \"C\"\n",
       "[3385] \"C\" \"C\" \"C\" \"C\" \"C\" \"C\" \"C\" \"C\" \"C\" \"C\" \"C\" \"C\" \"C\" \"C\" \"C\" \"C\" \"C\" \"C\"\n",
       "[3403] \"C\" \"C\" \"C\" \"C\" \"C\" \"C\" \"C\" \"C\" \"C\" \"C\" \"C\" \"C\" \"C\" \"C\" \"C\" \"C\" \"C\" \"C\"\n",
       "[3421] \"C\" \"C\" \"C\" \"C\" \"C\" \"C\" \"C\" \"C\" \"C\" \"C\" \"C\" \"C\" \"C\" \"C\" \"C\" \"C\" \"C\" \"C\"\n",
       "[3439] \"C\" \"C\" \"C\" \"C\" \"C\" \"C\" \"C\" \"C\" \"C\" \"C\" \"C\" \"C\" \"C\" \"C\" \"C\" \"C\" \"C\" \"C\"\n",
       "[3457] \"C\" \"C\" \"C\" \"C\" \"C\" \"C\" \"C\" \"C\" \"C\" \"C\" \"C\" \"C\" \"C\" \"C\" \"C\" \"C\" \"C\" \"C\"\n",
       "[3475] \"C\" \"C\" \"C\" \"C\" \"C\" \"C\" \"C\" \"C\" \"C\" \"C\" \"C\" \"C\" \"C\" \"C\" \"C\" \"C\" \"C\" \"C\"\n",
       "[3493] \"C\" \"C\" \"C\" \"C\" \"C\" \"C\" \"C\" \"C\" \"C\" \"C\" \"C\" \"C\" \"C\" \"C\" \"C\" \"C\" \"C\" \"C\"\n",
       "[3511] \"C\" \"C\" \"C\" \"C\" \"C\" \"C\" \"C\" \"C\" \"C\" \"C\" \"C\" \"C\" \"C\" \"C\" \"C\" \"C\" \"C\" \"C\"\n",
       "[3529] \"C\" \"C\" \"C\" \"C\" \"C\" \"C\" \"C\" \"C\" \"C\" \"C\" \"C\" \"C\" \"C\" \"C\" \"C\" \"C\" \"C\" \"C\"\n",
       "[3547] \"C\" \"C\" \"C\" \"C\" \"C\" \"C\" \"C\" \"C\" \"C\" \"C\" \"C\" \"C\" \"C\" \"C\" \"C\" \"C\" \"C\" \"C\"\n",
       "[3565] \"C\" \"C\" \"C\" \"C\" \"C\" \"C\" \"C\" \"C\" \"C\" \"C\" \"C\" \"C\" \"C\" \"C\" \"C\" \"C\" \"C\" \"C\"\n",
       "[3583] \"C\" \"C\" \"C\" \"C\" \"C\" \"C\" \"C\" \"C\" \"C\" \"C\" \"C\" \"C\" \"C\" \"C\" \"C\" \"C\" \"C\" \"C\"\n",
       "[3601] \"C\" \"C\" \"C\" \"C\" \"C\" \"C\" \"C\" \"C\" \"C\" \"C\" \"C\" \"C\" \"C\" \"C\" \"C\" \"C\" \"C\" \"C\"\n",
       "[3619] \"C\" \"C\" \"C\" \"C\" \"C\" \"C\" \"C\" \"C\" \"C\" \"C\" \"C\" \"C\" \"C\" \"C\" \"C\" \"C\" \"C\" \"C\"\n",
       "[3637] \"C\" \"C\" \"C\" \"C\" \"C\" \"C\" \"C\" \"C\" \"C\" \"C\" \"C\" \"C\" \"C\" \"C\" \"C\" \"C\" \"C\" \"C\"\n",
       "[3655] \"C\" \"C\" \"C\" \"C\" \"C\" \"C\" \"C\" \"C\" \"C\" \"C\" \"C\" \"C\" \"C\" \"C\" \"C\" \"C\" \"C\" \"C\"\n",
       "[3673] \"C\" \"C\" \"C\" \"C\" \"C\" \"C\" \"C\" \"C\" \"C\" \"C\" \"C\" \"C\" \"C\" \"C\" \"C\" \"C\" \"C\" \"C\"\n",
       "[3691] \"C\" \"C\" \"C\" \"C\" \"C\" \"C\" \"C\" \"C\" \"C\" \"C\" \"C\" \"C\" \"C\" \"C\" \"C\" \"C\" \"C\" \"C\"\n",
       "[3709] \"C\" \"C\" \"C\" \"C\" \"C\" \"C\" \"C\" \"C\" \"C\" \"C\" \"C\" \"C\" \"C\" \"C\" \"C\" \"C\" \"C\" \"C\"\n",
       "[3727] \"C\" \"C\" \"C\" \"C\" \"C\" \"C\" \"C\" \"C\" \"C\" \"C\" \"C\" \"C\" \"C\" \"C\" \"C\" \"C\" \"C\" \"C\"\n",
       "[3745] \"C\" \"C\" \"C\" \"C\" \"C\" \"C\" \"C\" \"C\" \"C\" \"C\" \"C\" \"C\" \"C\" \"C\" \"C\" \"C\" \"C\" \"C\"\n",
       "[3763] \"C\" \"C\" \"C\" \"C\" \"C\" \"C\" \"C\" \"C\" \"C\" \"C\" \"C\" \"C\" \"C\" \"C\" \"C\" \"C\" \"C\" \"C\"\n",
       "[3781] \"C\" \"C\" \"C\" \"C\" \"C\" \"C\" \"C\" \"C\" \"C\" \"C\" \"C\" \"C\" \"C\" \"C\" \"C\" \"C\" \"C\" \"C\"\n",
       "[3799] \"C\" \"C\" \"C\" \"C\" \"C\" \"C\" \"C\" \"C\" \"C\" \"C\" \"C\" \"C\" \"C\" \"C\" \"C\" \"C\" \"C\" \"C\"\n",
       "[3817] \"C\" \"C\" \"C\" \"C\" \"C\" \"C\" \"C\" \"C\" \"C\" \"C\" \"C\" \"C\" \"C\" \"C\" \"C\" \"C\" \"C\" \"C\"\n",
       "[3835] \"C\" \"C\" \"C\" \"C\" \"C\" \"C\" \"C\" \"C\" \"C\" \"C\" \"C\" \"C\" \"C\" \"C\" \"C\" \"C\" \"C\" \"C\"\n",
       "[3853] \"C\" \"C\" \"C\" \"C\" \"C\" \"C\" \"C\" \"C\" \"C\" \"C\" \"C\" \"C\" \"C\" \"C\" \"C\" \"C\" \"C\" \"C\"\n",
       "[3871] \"C\" \"C\" \"C\" \"C\" \"C\" \"C\" \"C\" \"C\" \"C\" \"C\" \"C\" \"C\" \"C\" \"C\" \"C\" \"C\" \"C\" \"C\"\n",
       "[3889] \"C\" \"C\" \"C\" \"C\" \"C\" \"C\" \"C\" \"C\" \"C\" \"C\" \"C\" \"C\" \"C\" \"C\" \"C\" \"C\" \"C\" \"C\"\n",
       "[3907] \"C\" \"C\" \"C\" \"C\" \"C\" \"C\" \"C\" \"C\" \"C\" \"C\" \"C\" \"C\" \"C\" \"C\" \"C\" \"C\" \"C\" \"C\"\n",
       "[3925] \"C\" \"C\" \"C\" \"C\" \"C\" \"C\" \"C\" \"C\" \"C\" \"C\" \"C\" \"C\" \"C\" \"C\" \"C\" \"C\" \"C\" \"C\"\n",
       "[3943] \"C\" \"C\" \"C\" \"C\" \"C\" \"C\" \"C\" \"C\" \"C\" \"C\" \"C\" \"C\" \"C\" \"C\" \"C\" \"C\" \"C\" \"C\"\n",
       "[3961] \"C\" \"C\" \"C\" \"C\" \"C\" \"C\" \"C\" \"C\" \"C\" \"C\" \"C\" \"C\" \"C\" \"C\" \"C\" \"C\" \"C\" \"C\"\n",
       "[3979] \"C\" \"C\" \"C\" \"C\" \"C\" \"C\" \"C\" \"C\" \"C\" \"C\" \"C\" \"C\" \"C\" \"C\" \"C\" \"C\" \"C\" \"C\"\n",
       "[3997] \"C\" \"C\" \"C\" \"C\" \"C\" \"C\" \"C\" \"C\" \"C\" \"C\" \"C\" \"C\" \"C\" \"C\" \"C\" \"C\" \"C\" \"C\"\n",
       "[4015] \"C\" \"C\" \"C\" \"C\" \"C\" \"C\" \"C\" \"C\" \"C\" \"C\" \"C\" \"C\" \"C\" \"C\" \"C\" \"C\" \"C\" \"C\"\n",
       "[4033] \"C\" \"C\" \"C\" \"C\" \"C\" \"C\" \"C\" \"C\" \"C\" \"C\" \"C\" \"C\" \"C\" \"C\" \"C\" \"C\" \"C\" \"C\"\n",
       "[4051] \"C\" \"C\" \"C\" \"C\" \"C\" \"C\" \"C\" \"C\" \"C\" \"C\" \"C\" \"C\" \"C\" \"C\" \"C\" \"C\" \"C\" \"C\"\n",
       "[4069] \"C\" \"C\" \"C\" \"C\" \"C\" \"C\" \"C\" \"C\" \"C\" \"C\" \"C\" \"C\" \"C\" \"C\" \"C\" \"C\" \"C\" \"C\"\n",
       "[4087] \"C\" \"C\" \"C\" \"C\" \"C\" \"C\" \"C\" \"C\" \"C\" \"C\" \"C\" \"C\" \"C\" \"C\""
      ]
     },
     "metadata": {},
     "output_type": "display_data"
    }
   ],
   "source": [
    "data"
   ]
  },
  {
   "cell_type": "code",
   "execution_count": 148,
   "id": "9a388861",
   "metadata": {},
   "outputs": [],
   "source": [
    "freq = table(data)"
   ]
  },
  {
   "cell_type": "code",
   "execution_count": 149,
   "id": "d01d45e9",
   "metadata": {},
   "outputs": [
    {
     "data": {
      "text/plain": [
       "data\n",
       "   A    B    C \n",
       "2240 1040  820 "
      ]
     },
     "metadata": {},
     "output_type": "display_data"
    }
   ],
   "source": [
    "freq"
   ]
  },
  {
   "cell_type": "code",
   "execution_count": 150,
   "id": "87ce6ee4",
   "metadata": {},
   "outputs": [],
   "source": [
    "prop = prop.table(freq)"
   ]
  },
  {
   "cell_type": "code",
   "execution_count": 151,
   "id": "52cbf689",
   "metadata": {},
   "outputs": [
    {
     "data": {
      "text/plain": [
       "data\n",
       "        A         B         C \n",
       "0.5463415 0.2536585 0.2000000 "
      ]
     },
     "metadata": {},
     "output_type": "display_data"
    }
   ],
   "source": [
    "prop"
   ]
  },
  {
   "cell_type": "code",
   "execution_count": 152,
   "id": "b5731c30",
   "metadata": {},
   "outputs": [],
   "source": [
    "sum_prob = cumsum(prop)"
   ]
  },
  {
   "cell_type": "code",
   "execution_count": 153,
   "id": "5e88ecf5",
   "metadata": {},
   "outputs": [
    {
     "data": {
      "text/html": [
       "<style>\n",
       ".dl-inline {width: auto; margin:0; padding: 0}\n",
       ".dl-inline>dt, .dl-inline>dd {float: none; width: auto; display: inline-block}\n",
       ".dl-inline>dt::after {content: \":\\0020\"; padding-right: .5ex}\n",
       ".dl-inline>dt:not(:first-of-type) {padding-left: .5ex}\n",
       "</style><dl class=dl-inline><dt>A</dt><dd>0.546341463414634</dd><dt>B</dt><dd>0.8</dd><dt>C</dt><dd>1</dd></dl>\n"
      ],
      "text/latex": [
       "\\begin{description*}\n",
       "\\item[A] 0.546341463414634\n",
       "\\item[B] 0.8\n",
       "\\item[C] 1\n",
       "\\end{description*}\n"
      ],
      "text/markdown": [
       "A\n",
       ":   0.546341463414634B\n",
       ":   0.8C\n",
       ":   1\n",
       "\n"
      ],
      "text/plain": [
       "        A         B         C \n",
       "0.5463415 0.8000000 1.0000000 "
      ]
     },
     "metadata": {},
     "output_type": "display_data"
    }
   ],
   "source": [
    "sum_prob"
   ]
  },
  {
   "cell_type": "code",
   "execution_count": 154,
   "id": "decbd1d8",
   "metadata": {},
   "outputs": [],
   "source": [
    "freq.table = cbind(freq, prop, sum_prob)"
   ]
  },
  {
   "cell_type": "code",
   "execution_count": 155,
   "id": "8d8d7836",
   "metadata": {},
   "outputs": [
    {
     "data": {
      "text/html": [
       "<table class=\"dataframe\">\n",
       "<caption>A matrix: 3 × 3 of type dbl</caption>\n",
       "<thead>\n",
       "\t<tr><th></th><th scope=col>freq</th><th scope=col>prop</th><th scope=col>sum_prob</th></tr>\n",
       "</thead>\n",
       "<tbody>\n",
       "\t<tr><th scope=row>A</th><td>2240</td><td>0.5463415</td><td>0.5463415</td></tr>\n",
       "\t<tr><th scope=row>B</th><td>1040</td><td>0.2536585</td><td>0.8000000</td></tr>\n",
       "\t<tr><th scope=row>C</th><td> 820</td><td>0.2000000</td><td>1.0000000</td></tr>\n",
       "</tbody>\n",
       "</table>\n"
      ],
      "text/latex": [
       "A matrix: 3 × 3 of type dbl\n",
       "\\begin{tabular}{r|lll}\n",
       "  & freq & prop & sum\\_prob\\\\\n",
       "\\hline\n",
       "\tA & 2240 & 0.5463415 & 0.5463415\\\\\n",
       "\tB & 1040 & 0.2536585 & 0.8000000\\\\\n",
       "\tC &  820 & 0.2000000 & 1.0000000\\\\\n",
       "\\end{tabular}\n"
      ],
      "text/markdown": [
       "\n",
       "A matrix: 3 × 3 of type dbl\n",
       "\n",
       "| <!--/--> | freq | prop | sum_prob |\n",
       "|---|---|---|---|\n",
       "| A | 2240 | 0.5463415 | 0.5463415 |\n",
       "| B | 1040 | 0.2536585 | 0.8000000 |\n",
       "| C |  820 | 0.2000000 | 1.0000000 |\n",
       "\n"
      ],
      "text/plain": [
       "  freq prop      sum_prob \n",
       "A 2240 0.5463415 0.5463415\n",
       "B 1040 0.2536585 0.8000000\n",
       "C  820 0.2000000 1.0000000"
      ]
     },
     "metadata": {},
     "output_type": "display_data"
    }
   ],
   "source": [
    "freq.table"
   ]
  },
  {
   "cell_type": "code",
   "execution_count": 157,
   "id": "01688230",
   "metadata": {},
   "outputs": [
    {
     "data": {
      "image/png": "[encoded data removed]",
      "text/plain": [
       "Plot with title \"Pie Chart\""
      ]
     },
     "metadata": {
      "image/png": {
       "height": 420,
       "width": 420
      }
     },
     "output_type": "display_data"
    }
   ],
   "source": [
    "pie(freq, main = 'Pie Chart')"
   ]
  },
  {
   "cell_type": "code",
   "execution_count": 158,
   "id": "f51260a0",
   "metadata": {},
   "outputs": [
    {
     "data": {
      "text/html": [
       "<table class=\"dataframe\">\n",
       "<caption>A matrix: 2 × 2 of type dbl</caption>\n",
       "<tbody>\n",
       "\t<tr><td>64</td><td>10</td></tr>\n",
       "\t<tr><td> 8</td><td>15</td></tr>\n",
       "</tbody>\n",
       "</table>\n"
      ],
      "text/latex": [
       "A matrix: 2 × 2 of type dbl\n",
       "\\begin{tabular}{ll}\n",
       "\t 64 & 10\\\\\n",
       "\t  8 & 15\\\\\n",
       "\\end{tabular}\n"
      ],
      "text/markdown": [
       "\n",
       "A matrix: 2 × 2 of type dbl\n",
       "\n",
       "| 64 | 10 |\n",
       "|  8 | 15 |\n",
       "\n"
      ],
      "text/plain": [
       "     [,1] [,2]\n",
       "[1,] 64   10  \n",
       "[2,]  8   15  "
      ]
     },
     "metadata": {},
     "output_type": "display_data"
    }
   ],
   "source": [
    "matrix(c(64, 10, 8, 15),\n",
    "      ncol = 2, byrow = T)"
   ]
  },
  {
   "cell_type": "code",
   "execution_count": 159,
   "id": "0b203499",
   "metadata": {},
   "outputs": [
    {
     "data": {
      "text/html": [
       "<table class=\"dataframe\">\n",
       "<caption>A matrix: 2 × 2 of type dbl</caption>\n",
       "<tbody>\n",
       "\t<tr><td>65</td><td>10</td></tr>\n",
       "\t<tr><td> 8</td><td>15</td></tr>\n",
       "</tbody>\n",
       "</table>\n"
      ],
      "text/latex": [
       "A matrix: 2 × 2 of type dbl\n",
       "\\begin{tabular}{ll}\n",
       "\t 65 & 10\\\\\n",
       "\t  8 & 15\\\\\n",
       "\\end{tabular}\n"
      ],
      "text/markdown": [
       "\n",
       "A matrix: 2 × 2 of type dbl\n",
       "\n",
       "| 65 | 10 |\n",
       "|  8 | 15 |\n",
       "\n"
      ],
      "text/plain": [
       "     [,1] [,2]\n",
       "[1,] 65   10  \n",
       "[2,]  8   15  "
      ]
     },
     "metadata": {},
     "output_type": "display_data"
    }
   ],
   "source": [
    "rbind(c(65, 10), c(8, 15))"
   ]
  },
  {
   "cell_type": "code",
   "execution_count": 160,
   "id": "0a9dc1a0",
   "metadata": {},
   "outputs": [
    {
     "data": {
      "text/html": [
       "<table class=\"dataframe\">\n",
       "<caption>A matrix: 2 × 2 of type dbl</caption>\n",
       "<tbody>\n",
       "\t<tr><td>64</td><td>10</td></tr>\n",
       "\t<tr><td> 8</td><td>15</td></tr>\n",
       "</tbody>\n",
       "</table>\n"
      ],
      "text/latex": [
       "A matrix: 2 × 2 of type dbl\n",
       "\\begin{tabular}{ll}\n",
       "\t 64 & 10\\\\\n",
       "\t  8 & 15\\\\\n",
       "\\end{tabular}\n"
      ],
      "text/markdown": [
       "\n",
       "A matrix: 2 × 2 of type dbl\n",
       "\n",
       "| 64 | 10 |\n",
       "|  8 | 15 |\n",
       "\n"
      ],
      "text/plain": [
       "     [,1] [,2]\n",
       "[1,] 64   10  \n",
       "[2,]  8   15  "
      ]
     },
     "metadata": {},
     "output_type": "display_data"
    }
   ],
   "source": [
    "cbind(c(64, 8), c(10, 15))"
   ]
  },
  {
   "cell_type": "code",
   "execution_count": 161,
   "id": "d1f79603",
   "metadata": {},
   "outputs": [],
   "source": [
    "data = matrix(c(64, 10, 8, 15), ncol = 2, byrow = T)"
   ]
  },
  {
   "cell_type": "code",
   "execution_count": 162,
   "id": "ff824682",
   "metadata": {},
   "outputs": [
    {
     "data": {
      "text/html": [
       "<table class=\"dataframe\">\n",
       "<caption>A matrix: 2 × 2 of type dbl</caption>\n",
       "<tbody>\n",
       "\t<tr><td>64</td><td>10</td></tr>\n",
       "\t<tr><td> 8</td><td>15</td></tr>\n",
       "</tbody>\n",
       "</table>\n"
      ],
      "text/latex": [
       "A matrix: 2 × 2 of type dbl\n",
       "\\begin{tabular}{ll}\n",
       "\t 64 & 10\\\\\n",
       "\t  8 & 15\\\\\n",
       "\\end{tabular}\n"
      ],
      "text/markdown": [
       "\n",
       "A matrix: 2 × 2 of type dbl\n",
       "\n",
       "| 64 | 10 |\n",
       "|  8 | 15 |\n",
       "\n"
      ],
      "text/plain": [
       "     [,1] [,2]\n",
       "[1,] 64   10  \n",
       "[2,]  8   15  "
      ]
     },
     "metadata": {},
     "output_type": "display_data"
    }
   ],
   "source": [
    "data"
   ]
  },
  {
   "cell_type": "code",
   "execution_count": 163,
   "id": "3efbc40d",
   "metadata": {},
   "outputs": [],
   "source": [
    "rownames(data) = c('A.belt','A.unbelt')"
   ]
  },
  {
   "cell_type": "code",
   "execution_count": 164,
   "id": "e34d79df",
   "metadata": {},
   "outputs": [
    {
     "data": {
      "text/html": [
       "<table class=\"dataframe\">\n",
       "<caption>A matrix: 2 × 2 of type dbl</caption>\n",
       "<tbody>\n",
       "\t<tr><th scope=row>A.belt</th><td>64</td><td>10</td></tr>\n",
       "\t<tr><th scope=row>A.unbelt</th><td> 8</td><td>15</td></tr>\n",
       "</tbody>\n",
       "</table>\n"
      ],
      "text/latex": [
       "A matrix: 2 × 2 of type dbl\n",
       "\\begin{tabular}{r|ll}\n",
       "\tA.belt & 64 & 10\\\\\n",
       "\tA.unbelt &  8 & 15\\\\\n",
       "\\end{tabular}\n"
      ],
      "text/markdown": [
       "\n",
       "A matrix: 2 × 2 of type dbl\n",
       "\n",
       "| A.belt | 64 | 10 |\n",
       "| A.unbelt |  8 | 15 |\n",
       "\n"
      ],
      "text/plain": [
       "         [,1] [,2]\n",
       "A.belt   64   10  \n",
       "A.unbelt  8   15  "
      ]
     },
     "metadata": {},
     "output_type": "display_data"
    }
   ],
   "source": [
    "data"
   ]
  },
  {
   "cell_type": "code",
   "execution_count": 165,
   "id": "80e09ec3",
   "metadata": {},
   "outputs": [],
   "source": [
    "colnames(data) = c('C.belt','C.unbelt')"
   ]
  },
  {
   "cell_type": "code",
   "execution_count": 166,
   "id": "86809e28",
   "metadata": {},
   "outputs": [
    {
     "data": {
      "text/html": [
       "<table class=\"dataframe\">\n",
       "<caption>A matrix: 2 × 2 of type dbl</caption>\n",
       "<thead>\n",
       "\t<tr><th></th><th scope=col>C.belt</th><th scope=col>C.unbelt</th></tr>\n",
       "</thead>\n",
       "<tbody>\n",
       "\t<tr><th scope=row>A.belt</th><td>64</td><td>10</td></tr>\n",
       "\t<tr><th scope=row>A.unbelt</th><td> 8</td><td>15</td></tr>\n",
       "</tbody>\n",
       "</table>\n"
      ],
      "text/latex": [
       "A matrix: 2 × 2 of type dbl\n",
       "\\begin{tabular}{r|ll}\n",
       "  & C.belt & C.unbelt\\\\\n",
       "\\hline\n",
       "\tA.belt & 64 & 10\\\\\n",
       "\tA.unbelt &  8 & 15\\\\\n",
       "\\end{tabular}\n"
      ],
      "text/markdown": [
       "\n",
       "A matrix: 2 × 2 of type dbl\n",
       "\n",
       "| <!--/--> | C.belt | C.unbelt |\n",
       "|---|---|---|\n",
       "| A.belt | 64 | 10 |\n",
       "| A.unbelt |  8 | 15 |\n",
       "\n"
      ],
      "text/plain": [
       "         C.belt C.unbelt\n",
       "A.belt   64     10      \n",
       "A.unbelt  8     15      "
      ]
     },
     "metadata": {},
     "output_type": "display_data"
    }
   ],
   "source": [
    "data"
   ]
  },
  {
   "cell_type": "code",
   "execution_count": 167,
   "id": "e1d8d1fc",
   "metadata": {},
   "outputs": [
    {
     "data": {
      "text/html": [
       "<style>\n",
       ".dl-inline {width: auto; margin:0; padding: 0}\n",
       ".dl-inline>dt, .dl-inline>dd {float: none; width: auto; display: inline-block}\n",
       ".dl-inline>dt::after {content: \":\\0020\"; padding-right: .5ex}\n",
       ".dl-inline>dt:not(:first-of-type) {padding-left: .5ex}\n",
       "</style><dl class=dl-inline><dt>A.belt</dt><dd>74</dd><dt>A.unbelt</dt><dd>23</dd></dl>\n"
      ],
      "text/latex": [
       "\\begin{description*}\n",
       "\\item[A.belt] 74\n",
       "\\item[A.unbelt] 23\n",
       "\\end{description*}\n"
      ],
      "text/markdown": [
       "A.belt\n",
       ":   74A.unbelt\n",
       ":   23\n",
       "\n"
      ],
      "text/plain": [
       "  A.belt A.unbelt \n",
       "      74       23 "
      ]
     },
     "metadata": {},
     "output_type": "display_data"
    }
   ],
   "source": [
    "margin.table(data, 1)"
   ]
  },
  {
   "cell_type": "code",
   "execution_count": 168,
   "id": "632a2ca1",
   "metadata": {},
   "outputs": [
    {
     "data": {
      "text/html": [
       "<style>\n",
       ".dl-inline {width: auto; margin:0; padding: 0}\n",
       ".dl-inline>dt, .dl-inline>dd {float: none; width: auto; display: inline-block}\n",
       ".dl-inline>dt::after {content: \":\\0020\"; padding-right: .5ex}\n",
       ".dl-inline>dt:not(:first-of-type) {padding-left: .5ex}\n",
       "</style><dl class=dl-inline><dt>C.belt</dt><dd>72</dd><dt>C.unbelt</dt><dd>25</dd></dl>\n"
      ],
      "text/latex": [
       "\\begin{description*}\n",
       "\\item[C.belt] 72\n",
       "\\item[C.unbelt] 25\n",
       "\\end{description*}\n"
      ],
      "text/markdown": [
       "C.belt\n",
       ":   72C.unbelt\n",
       ":   25\n",
       "\n"
      ],
      "text/plain": [
       "  C.belt C.unbelt \n",
       "      72       25 "
      ]
     },
     "metadata": {},
     "output_type": "display_data"
    }
   ],
   "source": [
    "margin.table(data, 2)"
   ]
  },
  {
   "cell_type": "code",
   "execution_count": 169,
   "id": "37406fa9",
   "metadata": {},
   "outputs": [
    {
     "data": {
      "text/html": [
       "<style>\n",
       ".dl-inline {width: auto; margin:0; padding: 0}\n",
       ".dl-inline>dt, .dl-inline>dd {float: none; width: auto; display: inline-block}\n",
       ".dl-inline>dt::after {content: \":\\0020\"; padding-right: .5ex}\n",
       ".dl-inline>dt:not(:first-of-type) {padding-left: .5ex}\n",
       "</style><dl class=dl-inline><dt>A.belt</dt><dd>74</dd><dt>A.unbelt</dt><dd>23</dd></dl>\n"
      ],
      "text/latex": [
       "\\begin{description*}\n",
       "\\item[A.belt] 74\n",
       "\\item[A.unbelt] 23\n",
       "\\end{description*}\n"
      ],
      "text/markdown": [
       "A.belt\n",
       ":   74A.unbelt\n",
       ":   23\n",
       "\n"
      ],
      "text/plain": [
       "  A.belt A.unbelt \n",
       "      74       23 "
      ]
     },
     "metadata": {},
     "output_type": "display_data"
    }
   ],
   "source": [
    "rowSums(data)"
   ]
  },
  {
   "cell_type": "code",
   "execution_count": 170,
   "id": "04abe06a",
   "metadata": {},
   "outputs": [
    {
     "data": {
      "text/html": [
       "<style>\n",
       ".dl-inline {width: auto; margin:0; padding: 0}\n",
       ".dl-inline>dt, .dl-inline>dd {float: none; width: auto; display: inline-block}\n",
       ".dl-inline>dt::after {content: \":\\0020\"; padding-right: .5ex}\n",
       ".dl-inline>dt:not(:first-of-type) {padding-left: .5ex}\n",
       "</style><dl class=dl-inline><dt>C.belt</dt><dd>72</dd><dt>C.unbelt</dt><dd>25</dd></dl>\n"
      ],
      "text/latex": [
       "\\begin{description*}\n",
       "\\item[C.belt] 72\n",
       "\\item[C.unbelt] 25\n",
       "\\end{description*}\n"
      ],
      "text/markdown": [
       "C.belt\n",
       ":   72C.unbelt\n",
       ":   25\n",
       "\n"
      ],
      "text/plain": [
       "  C.belt C.unbelt \n",
       "      72       25 "
      ]
     },
     "metadata": {},
     "output_type": "display_data"
    }
   ],
   "source": [
    "colSums(data)"
   ]
  },
  {
   "cell_type": "code",
   "execution_count": 171,
   "id": "c76a2ebb",
   "metadata": {},
   "outputs": [
    {
     "data": {
      "text/html": [
       "<style>\n",
       ".dl-inline {width: auto; margin:0; padding: 0}\n",
       ".dl-inline>dt, .dl-inline>dd {float: none; width: auto; display: inline-block}\n",
       ".dl-inline>dt::after {content: \":\\0020\"; padding-right: .5ex}\n",
       ".dl-inline>dt:not(:first-of-type) {padding-left: .5ex}\n",
       "</style><dl class=dl-inline><dt>A.belt</dt><dd>74</dd><dt>A.unbelt</dt><dd>23</dd></dl>\n"
      ],
      "text/latex": [
       "\\begin{description*}\n",
       "\\item[A.belt] 74\n",
       "\\item[A.unbelt] 23\n",
       "\\end{description*}\n"
      ],
      "text/markdown": [
       "A.belt\n",
       ":   74A.unbelt\n",
       ":   23\n",
       "\n"
      ],
      "text/plain": [
       "  A.belt A.unbelt \n",
       "      74       23 "
      ]
     },
     "metadata": {},
     "output_type": "display_data"
    }
   ],
   "source": [
    "apply(data, 1, FUN = sum)"
   ]
  },
  {
   "cell_type": "code",
   "execution_count": 172,
   "id": "ffc1675c",
   "metadata": {},
   "outputs": [
    {
     "data": {
      "text/html": [
       "<style>\n",
       ".dl-inline {width: auto; margin:0; padding: 0}\n",
       ".dl-inline>dt, .dl-inline>dd {float: none; width: auto; display: inline-block}\n",
       ".dl-inline>dt::after {content: \":\\0020\"; padding-right: .5ex}\n",
       ".dl-inline>dt:not(:first-of-type) {padding-left: .5ex}\n",
       "</style><dl class=dl-inline><dt>C.belt</dt><dd>72</dd><dt>C.unbelt</dt><dd>25</dd></dl>\n"
      ],
      "text/latex": [
       "\\begin{description*}\n",
       "\\item[C.belt] 72\n",
       "\\item[C.unbelt] 25\n",
       "\\end{description*}\n"
      ],
      "text/markdown": [
       "C.belt\n",
       ":   72C.unbelt\n",
       ":   25\n",
       "\n"
      ],
      "text/plain": [
       "  C.belt C.unbelt \n",
       "      72       25 "
      ]
     },
     "metadata": {},
     "output_type": "display_data"
    }
   ],
   "source": [
    "apply(data, 2, FUN = sum)"
   ]
  },
  {
   "cell_type": "code",
   "execution_count": 173,
   "id": "33ad79dd",
   "metadata": {},
   "outputs": [
    {
     "data": {
      "text/html": [
       "<table class=\"dataframe\">\n",
       "<caption>A matrix: 2 × 2 of type dbl</caption>\n",
       "<thead>\n",
       "\t<tr><th></th><th scope=col>C.belt</th><th scope=col>C.unbelt</th></tr>\n",
       "</thead>\n",
       "<tbody>\n",
       "\t<tr><th scope=row>A.belt</th><td>64</td><td>10</td></tr>\n",
       "\t<tr><th scope=row>A.unbelt</th><td> 8</td><td>15</td></tr>\n",
       "</tbody>\n",
       "</table>\n"
      ],
      "text/latex": [
       "A matrix: 2 × 2 of type dbl\n",
       "\\begin{tabular}{r|ll}\n",
       "  & C.belt & C.unbelt\\\\\n",
       "\\hline\n",
       "\tA.belt & 64 & 10\\\\\n",
       "\tA.unbelt &  8 & 15\\\\\n",
       "\\end{tabular}\n"
      ],
      "text/markdown": [
       "\n",
       "A matrix: 2 × 2 of type dbl\n",
       "\n",
       "| <!--/--> | C.belt | C.unbelt |\n",
       "|---|---|---|\n",
       "| A.belt | 64 | 10 |\n",
       "| A.unbelt |  8 | 15 |\n",
       "\n"
      ],
      "text/plain": [
       "         C.belt C.unbelt\n",
       "A.belt   64     10      \n",
       "A.unbelt  8     15      "
      ]
     },
     "metadata": {},
     "output_type": "display_data"
    }
   ],
   "source": [
    "data"
   ]
  },
  {
   "cell_type": "code",
   "execution_count": 174,
   "id": "927459bf",
   "metadata": {},
   "outputs": [
    {
     "data": {
      "text/html": [
       "<table class=\"dataframe\">\n",
       "<caption>A matrix: 3 × 3 of type dbl</caption>\n",
       "<thead>\n",
       "\t<tr><th></th><th scope=col>C.belt</th><th scope=col>C.unbelt</th><th scope=col>Sum</th></tr>\n",
       "</thead>\n",
       "<tbody>\n",
       "\t<tr><th scope=row>A.belt</th><td>64</td><td>10</td><td>74</td></tr>\n",
       "\t<tr><th scope=row>A.unbelt</th><td> 8</td><td>15</td><td>23</td></tr>\n",
       "\t<tr><th scope=row>Sum</th><td>72</td><td>25</td><td>97</td></tr>\n",
       "</tbody>\n",
       "</table>\n"
      ],
      "text/latex": [
       "A matrix: 3 × 3 of type dbl\n",
       "\\begin{tabular}{r|lll}\n",
       "  & C.belt & C.unbelt & Sum\\\\\n",
       "\\hline\n",
       "\tA.belt & 64 & 10 & 74\\\\\n",
       "\tA.unbelt &  8 & 15 & 23\\\\\n",
       "\tSum & 72 & 25 & 97\\\\\n",
       "\\end{tabular}\n"
      ],
      "text/markdown": [
       "\n",
       "A matrix: 3 × 3 of type dbl\n",
       "\n",
       "| <!--/--> | C.belt | C.unbelt | Sum |\n",
       "|---|---|---|---|\n",
       "| A.belt | 64 | 10 | 74 |\n",
       "| A.unbelt |  8 | 15 | 23 |\n",
       "| Sum | 72 | 25 | 97 |\n",
       "\n"
      ],
      "text/plain": [
       "         C.belt C.unbelt Sum\n",
       "A.belt   64     10       74 \n",
       "A.unbelt  8     15       23 \n",
       "Sum      72     25       97 "
      ]
     },
     "metadata": {},
     "output_type": "display_data"
    }
   ],
   "source": [
    "addmargins(data)"
   ]
  },
  {
   "cell_type": "code",
   "execution_count": 175,
   "id": "ac9134b2",
   "metadata": {},
   "outputs": [
    {
     "data": {
      "text/html": [
       "<table class=\"dataframe\">\n",
       "<caption>A matrix: 2 × 2 of type dbl</caption>\n",
       "<thead>\n",
       "\t<tr><th></th><th scope=col>C.belt</th><th scope=col>C.unbelt</th></tr>\n",
       "</thead>\n",
       "<tbody>\n",
       "\t<tr><th scope=row>A.belt</th><td>0.65979381</td><td>0.1030928</td></tr>\n",
       "\t<tr><th scope=row>A.unbelt</th><td>0.08247423</td><td>0.1546392</td></tr>\n",
       "</tbody>\n",
       "</table>\n"
      ],
      "text/latex": [
       "A matrix: 2 × 2 of type dbl\n",
       "\\begin{tabular}{r|ll}\n",
       "  & C.belt & C.unbelt\\\\\n",
       "\\hline\n",
       "\tA.belt & 0.65979381 & 0.1030928\\\\\n",
       "\tA.unbelt & 0.08247423 & 0.1546392\\\\\n",
       "\\end{tabular}\n"
      ],
      "text/markdown": [
       "\n",
       "A matrix: 2 × 2 of type dbl\n",
       "\n",
       "| <!--/--> | C.belt | C.unbelt |\n",
       "|---|---|---|\n",
       "| A.belt | 0.65979381 | 0.1030928 |\n",
       "| A.unbelt | 0.08247423 | 0.1546392 |\n",
       "\n"
      ],
      "text/plain": [
       "         C.belt     C.unbelt \n",
       "A.belt   0.65979381 0.1030928\n",
       "A.unbelt 0.08247423 0.1546392"
      ]
     },
     "metadata": {},
     "output_type": "display_data"
    }
   ],
   "source": [
    "prop.table(data)"
   ]
  },
  {
   "cell_type": "code",
   "execution_count": 178,
   "id": "830bcfba",
   "metadata": {},
   "outputs": [
    {
     "data": {
      "image/png": "[encoded data removed]",
      "text/plain": [
       "Plot with title \"Child Usage of seatbelt\""
      ]
     },
     "metadata": {
      "image/png": {
       "height": 420,
       "width": 420
      }
     },
     "output_type": "display_data"
    }
   ],
   "source": [
    "barplot(data, main = 'Child Usage of seatbelt',\n",
    "       legend.text = T,\n",
    "       beside = F)"
   ]
  },
  {
   "cell_type": "code",
   "execution_count": 179,
   "id": "c5f03cd9",
   "metadata": {},
   "outputs": [
    {
     "data": {
      "image/png": "[encoded data removed]",
      "text/plain": [
       "Plot with title \"Child Usage of seatbelt\""
      ]
     },
     "metadata": {
      "image/png": {
       "height": 420,
       "width": 420
      }
     },
     "output_type": "display_data"
    }
   ],
   "source": [
    "barplot(data, main = 'Child Usage of seatbelt',\n",
    "       legend.text = T,\n",
    "       beside = T)"
   ]
  },
  {
   "cell_type": "code",
   "execution_count": 180,
   "id": "335b3b5e",
   "metadata": {},
   "outputs": [
    {
     "data": {
      "image/png": "[encoded data removed]",
      "text/plain": [
       "Plot with title \"Adult Usage of seatbelt\""
      ]
     },
     "metadata": {
      "image/png": {
       "height": 420,
       "width": 420
      }
     },
     "output_type": "display_data"
    }
   ],
   "source": [
    "barplot(t(data), main = 'Adult Usage of seatbelt',\n",
    "       legend.text = T,\n",
    "       beside = F)"
   ]
  },
  {
   "cell_type": "code",
   "execution_count": 181,
   "id": "a1756568",
   "metadata": {},
   "outputs": [
    {
     "data": {
      "image/png": "[encoded data removed]",
      "text/plain": [
       "Plot with title \"Adult Usage of seatbelt\""
      ]
     },
     "metadata": {
      "image/png": {
       "height": 420,
       "width": 420
      }
     },
     "output_type": "display_data"
    }
   ],
   "source": [
    "barplot(t(data), main = 'Adult Usage of seatbelt',\n",
    "       legend.text = T,\n",
    "       beside = T\n",
    "       )"
   ]
  },
  {
   "cell_type": "code",
   "execution_count": 182,
   "id": "e3b8668d",
   "metadata": {},
   "outputs": [
    {
     "name": "stderr",
     "output_type": "stream",
     "text": [
      "Warning message in dotchart(table(data), main = \"Dotchart\", xlab = \"Num\"):\n",
      "\"'x' is neither a vector nor a matrix: using as.numeric(x)\"\n"
     ]
    },
    {
     "data": {
      "image/png": "[encoded data removed]",
      "text/plain": [
       "Plot with title \"Dotchart\""
      ]
     },
     "metadata": {
      "image/png": {
       "height": 420,
       "width": 420
      }
     },
     "output_type": "display_data"
    }
   ],
   "source": [
    "data = c('Y','N','Y','Y','Y','N','N','Y','Y','Y')\n",
    "dotchart(table(data), main = 'Dotchart', xlab = 'Num')"
   ]
  },
  {
   "cell_type": "code",
   "execution_count": 183,
   "id": "2a6cf4f7",
   "metadata": {},
   "outputs": [],
   "source": [
    "x = c(45, 86, 34, 98, 67, 78, 56, 45, 85, 75, 64, 75, 75, 58, 45, 83, 74)"
   ]
  },
  {
   "cell_type": "code",
   "execution_count": 184,
   "id": "b67fd138",
   "metadata": {},
   "outputs": [
    {
     "data": {
      "text/html": [
       "67.2352941176471"
      ],
      "text/latex": [
       "67.2352941176471"
      ],
      "text/markdown": [
       "67.2352941176471"
      ],
      "text/plain": [
       "[1] 67.23529"
      ]
     },
     "metadata": {},
     "output_type": "display_data"
    }
   ],
   "source": [
    "mean(x)"
   ]
  },
  {
   "cell_type": "code",
   "execution_count": 185,
   "id": "e58201e5",
   "metadata": {},
   "outputs": [
    {
     "data": {
      "text/html": [
       "74"
      ],
      "text/latex": [
       "74"
      ],
      "text/markdown": [
       "74"
      ],
      "text/plain": [
       "[1] 74"
      ]
     },
     "metadata": {},
     "output_type": "display_data"
    }
   ],
   "source": [
    "median(x)"
   ]
  },
  {
   "cell_type": "code",
   "execution_count": 186,
   "id": "0eb90c06",
   "metadata": {},
   "outputs": [],
   "source": [
    "score = c(42, 40, 38, 37, 43, 39, 78, 38, 45, 44, 40, 38, 41, 35, 31, 44)"
   ]
  },
  {
   "cell_type": "code",
   "execution_count": 187,
   "id": "4ab767a6",
   "metadata": {},
   "outputs": [
    {
     "data": {
      "text/html": [
       "<style>\n",
       ".list-inline {list-style: none; margin:0; padding: 0}\n",
       ".list-inline>li {display: inline-block}\n",
       ".list-inline>li:not(:last-child)::after {content: \"\\00b7\"; padding: 0 .5ex}\n",
       "</style>\n",
       "<ol class=list-inline><li>42</li><li>40</li><li>38</li><li>37</li><li>43</li><li>39</li><li>78</li><li>38</li><li>45</li><li>44</li><li>40</li><li>38</li><li>41</li><li>35</li><li>31</li><li>44</li></ol>\n"
      ],
      "text/latex": [
       "\\begin{enumerate*}\n",
       "\\item 42\n",
       "\\item 40\n",
       "\\item 38\n",
       "\\item 37\n",
       "\\item 43\n",
       "\\item 39\n",
       "\\item 78\n",
       "\\item 38\n",
       "\\item 45\n",
       "\\item 44\n",
       "\\item 40\n",
       "\\item 38\n",
       "\\item 41\n",
       "\\item 35\n",
       "\\item 31\n",
       "\\item 44\n",
       "\\end{enumerate*}\n"
      ],
      "text/markdown": [
       "1. 42\n",
       "2. 40\n",
       "3. 38\n",
       "4. 37\n",
       "5. 43\n",
       "6. 39\n",
       "7. 78\n",
       "8. 38\n",
       "9. 45\n",
       "10. 44\n",
       "11. 40\n",
       "12. 38\n",
       "13. 41\n",
       "14. 35\n",
       "15. 31\n",
       "16. 44\n",
       "\n",
       "\n"
      ],
      "text/plain": [
       " [1] 42 40 38 37 43 39 78 38 45 44 40 38 41 35 31 44"
      ]
     },
     "metadata": {},
     "output_type": "display_data"
    }
   ],
   "source": [
    "score"
   ]
  },
  {
   "cell_type": "code",
   "execution_count": 188,
   "id": "92ff0c4a",
   "metadata": {},
   "outputs": [
    {
     "data": {
      "image/png": "[encoded data removed]",
      "text/plain": [
       "plot without title"
      ]
     },
     "metadata": {
      "image/png": {
       "height": 420,
       "width": 420
      }
     },
     "output_type": "display_data"
    }
   ],
   "source": [
    "boxplot(score)"
   ]
  },
  {
   "cell_type": "code",
   "execution_count": 189,
   "id": "0911757b",
   "metadata": {},
   "outputs": [
    {
     "data": {
      "text/html": [
       "<dl>\n",
       "\t<dt>$stats</dt>\n",
       "\t\t<dd><style>\n",
       ".list-inline {list-style: none; margin:0; padding: 0}\n",
       ".list-inline>li {display: inline-block}\n",
       ".list-inline>li:not(:last-child)::after {content: \"\\00b7\"; padding: 0 .5ex}\n",
       "</style>\n",
       "<ol class=list-inline><li>31</li><li>38</li><li>40</li><li>43.5</li><li>45</li></ol>\n",
       "</dd>\n",
       "\t<dt>$n</dt>\n",
       "\t\t<dd>16</dd>\n",
       "\t<dt>$conf</dt>\n",
       "\t\t<dd><style>\n",
       ".list-inline {list-style: none; margin:0; padding: 0}\n",
       ".list-inline>li {display: inline-block}\n",
       ".list-inline>li:not(:last-child)::after {content: \"\\00b7\"; padding: 0 .5ex}\n",
       "</style>\n",
       "<ol class=list-inline><li>37.8275</li><li>42.1725</li></ol>\n",
       "</dd>\n",
       "\t<dt>$out</dt>\n",
       "\t\t<dd>78</dd>\n",
       "</dl>\n"
      ],
      "text/latex": [
       "\\begin{description}\n",
       "\\item[\\$stats] \\begin{enumerate*}\n",
       "\\item 31\n",
       "\\item 38\n",
       "\\item 40\n",
       "\\item 43.5\n",
       "\\item 45\n",
       "\\end{enumerate*}\n",
       "\n",
       "\\item[\\$n] 16\n",
       "\\item[\\$conf] \\begin{enumerate*}\n",
       "\\item 37.8275\n",
       "\\item 42.1725\n",
       "\\end{enumerate*}\n",
       "\n",
       "\\item[\\$out] 78\n",
       "\\end{description}\n"
      ],
      "text/markdown": [
       "$stats\n",
       ":   1. 31\n",
       "2. 38\n",
       "3. 40\n",
       "4. 43.5\n",
       "5. 45\n",
       "\n",
       "\n",
       "\n",
       "$n\n",
       ":   16\n",
       "$conf\n",
       ":   1. 37.8275\n",
       "2. 42.1725\n",
       "\n",
       "\n",
       "\n",
       "$out\n",
       ":   78\n",
       "\n",
       "\n"
      ],
      "text/plain": [
       "$stats\n",
       "[1] 31.0 38.0 40.0 43.5 45.0\n",
       "\n",
       "$n\n",
       "[1] 16\n",
       "\n",
       "$conf\n",
       "[1] 37.8275 42.1725\n",
       "\n",
       "$out\n",
       "[1] 78\n"
      ]
     },
     "metadata": {},
     "output_type": "display_data"
    }
   ],
   "source": [
    "boxplot.stats(score)"
   ]
  }
 ],
 "metadata": {
  "kernelspec": {
   "display_name": "R",
   "language": "R",
   "name": "ir"
  },
  "language_info": {
   "codemirror_mode": "r",
   "file_extension": ".r",
   "mimetype": "text/x-r-source",
   "name": "R",
   "pygments_lexer": "r",
   "version": "4.3.1"
  }
 },
 "nbformat": 4,
 "nbformat_minor": 5
}
