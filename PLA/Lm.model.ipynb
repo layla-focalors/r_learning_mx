{
 "cells": [
  {
   "cell_type": "code",
   "execution_count": 1,
   "id": "f752c6bf",
   "metadata": {},
   "outputs": [],
   "source": [
    "age = c(8, 3, 6, 9, 2, 5, 6, 1)"
   ]
  },
  {
   "cell_type": "code",
   "execution_count": 2,
   "id": "4052b208",
   "metadata": {},
   "outputs": [],
   "source": [
    "price = c(18, 94, 50, 21, 145, 42, 36, 99)"
   ]
  },
  {
   "cell_type": "code",
   "execution_count": 5,
   "id": "2406256c",
   "metadata": {},
   "outputs": [
    {
     "data": {
      "image/png": "[encoded data removed]",
      "text/plain": [
       "plot without title"
      ]
     },
     "metadata": {
      "image/png": {
       "height": 420,
       "width": 420
      }
     },
     "output_type": "display_data"
    }
   ],
   "source": [
    "plot(age, price)\n",
    "lm.res = lm(price~age)\n",
    "abline(lm.res)"
   ]
  },
  {
   "cell_type": "code",
   "execution_count": 6,
   "id": "da592c41",
   "metadata": {},
   "outputs": [
    {
     "data": {
      "text/plain": [
       "\n",
       "Call:\n",
       "lm(formula = price ~ age)\n",
       "\n",
       "Residuals:\n",
       "    Min      1Q  Median      3Q     Max \n",
       "-21.125 -14.924  -0.732   5.527  39.286 \n",
       "\n",
       "Coefficients:\n",
       "            Estimate Std. Error t value Pr(>|t|)    \n",
       "(Intercept)  134.107     16.396   8.179  0.00018 ***\n",
       "age          -14.196      2.898  -4.898  0.00272 ** \n",
       "---\n",
       "Signif. codes:  0 '***' 0.001 '**' 0.01 '*' 0.05 '.' 0.1 ' ' 1\n",
       "\n",
       "Residual standard error: 21.69 on 6 degrees of freedom\n",
       "Multiple R-squared:  0.7999,\tAdjusted R-squared:  0.7666 \n",
       "F-statistic: 23.99 on 1 and 6 DF,  p-value: 0.002716\n"
      ]
     },
     "metadata": {},
     "output_type": "display_data"
    }
   ],
   "source": [
    "summary(lm.res)"
   ]
  },
  {
   "cell_type": "code",
   "execution_count": 7,
   "id": "6482d2fe",
   "metadata": {},
   "outputs": [
    {
     "data": {
      "text/html": [
       "<strong>1:</strong> 77.3214285714286"
      ],
      "text/latex": [
       "\\textbf{1:} 77.3214285714286"
      ],
      "text/markdown": [
       "**1:** 77.3214285714286"
      ],
      "text/plain": [
       "       1 \n",
       "77.32143 "
      ]
     },
     "metadata": {},
     "output_type": "display_data"
    }
   ],
   "source": [
    "predict(lm.res, newdata = data.frame(age = 4))"
   ]
  },
  {
   "cell_type": "code",
   "execution_count": 8,
   "id": "27fafe4d",
   "metadata": {},
   "outputs": [
    {
     "data": {
      "text/html": [
       "77.323"
      ],
      "text/latex": [
       "77.323"
      ],
      "text/markdown": [
       "77.323"
      ],
      "text/plain": [
       "[1] 77.323"
      ]
     },
     "metadata": {},
     "output_type": "display_data"
    }
   ],
   "source": [
    "134.107 + -14.196 * 4"
   ]
  },
  {
   "cell_type": "code",
   "execution_count": 9,
   "id": "b81f7520",
   "metadata": {},
   "outputs": [
    {
     "data": {
      "text/html": [
       "<strong>1:</strong> 34.7321428571428"
      ],
      "text/latex": [
       "\\textbf{1:} 34.7321428571428"
      ],
      "text/markdown": [
       "**1:** 34.7321428571428"
      ],
      "text/plain": [
       "       1 \n",
       "34.73214 "
      ]
     },
     "metadata": {},
     "output_type": "display_data"
    }
   ],
   "source": [
    "predict(lm.res, newdata = data.frame(age = 7))"
   ]
  },
  {
   "cell_type": "code",
   "execution_count": 10,
   "id": "10c8ecea",
   "metadata": {},
   "outputs": [
    {
     "data": {
      "text/html": [
       "34.735"
      ],
      "text/latex": [
       "34.735"
      ],
      "text/markdown": [
       "34.735"
      ],
      "text/plain": [
       "[1] 34.735"
      ]
     },
     "metadata": {},
     "output_type": "display_data"
    }
   ],
   "source": [
    "134.107 + -14.196 * 7"
   ]
  },
  {
   "cell_type": "code",
   "execution_count": 12,
   "id": "3efc3c72",
   "metadata": {},
   "outputs": [
    {
     "data": {
      "text/html": [
       "<style>\n",
       ".list-inline {list-style: none; margin:0; padding: 0}\n",
       ".list-inline>li {display: inline-block}\n",
       ".list-inline>li:not(:last-child)::after {content: \"\\00b7\"; padding: 0 .5ex}\n",
       "</style>\n",
       "<ol class=list-inline><li>8</li><li>3</li><li>6</li><li>9</li><li>2</li><li>5</li><li>6</li><li>1</li></ol>\n"
      ],
      "text/latex": [
       "\\begin{enumerate*}\n",
       "\\item 8\n",
       "\\item 3\n",
       "\\item 6\n",
       "\\item 9\n",
       "\\item 2\n",
       "\\item 5\n",
       "\\item 6\n",
       "\\item 1\n",
       "\\end{enumerate*}\n"
      ],
      "text/markdown": [
       "1. 8\n",
       "2. 3\n",
       "3. 6\n",
       "4. 9\n",
       "5. 2\n",
       "6. 5\n",
       "7. 6\n",
       "8. 1\n",
       "\n",
       "\n"
      ],
      "text/plain": [
       "[1] 8 3 6 9 2 5 6 1"
      ]
     },
     "metadata": {},
     "output_type": "display_data"
    }
   ],
   "source": [
    "age"
   ]
  },
  {
   "cell_type": "code",
   "execution_count": 13,
   "id": "46bc6666",
   "metadata": {},
   "outputs": [
    {
     "data": {
      "text/html": [
       "<style>\n",
       ".list-inline {list-style: none; margin:0; padding: 0}\n",
       ".list-inline>li {display: inline-block}\n",
       ".list-inline>li:not(:last-child)::after {content: \"\\00b7\"; padding: 0 .5ex}\n",
       "</style>\n",
       "<ol class=list-inline><li>18</li><li>94</li><li>50</li><li>21</li><li>145</li><li>42</li><li>36</li><li>99</li></ol>\n"
      ],
      "text/latex": [
       "\\begin{enumerate*}\n",
       "\\item 18\n",
       "\\item 94\n",
       "\\item 50\n",
       "\\item 21\n",
       "\\item 145\n",
       "\\item 42\n",
       "\\item 36\n",
       "\\item 99\n",
       "\\end{enumerate*}\n"
      ],
      "text/markdown": [
       "1. 18\n",
       "2. 94\n",
       "3. 50\n",
       "4. 21\n",
       "5. 145\n",
       "6. 42\n",
       "7. 36\n",
       "8. 99\n",
       "\n",
       "\n"
      ],
      "text/plain": [
       "[1]  18  94  50  21 145  42  36  99"
      ]
     },
     "metadata": {},
     "output_type": "display_data"
    }
   ],
   "source": [
    "price"
   ]
  },
  {
   "cell_type": "code",
   "execution_count": 14,
   "id": "d8fc6b7c",
   "metadata": {},
   "outputs": [
    {
     "data": {
      "text/html": [
       "-0.894389974169997"
      ],
      "text/latex": [
       "-0.894389974169997"
      ],
      "text/markdown": [
       "-0.894389974169997"
      ],
      "text/plain": [
       "[1] -0.89439"
      ]
     },
     "metadata": {},
     "output_type": "display_data"
    }
   ],
   "source": [
    "cor(age,price)"
   ]
  },
  {
   "cell_type": "code",
   "execution_count": 15,
   "id": "02a5de1a",
   "metadata": {},
   "outputs": [
    {
     "data": {
      "text/plain": [
       "\n",
       "\tPearson's product-moment correlation\n",
       "\n",
       "data:  age and price\n",
       "t = -4.898, df = 6, p-value = 0.002716\n",
       "alternative hypothesis: true correlation is not equal to 0\n",
       "95 percent confidence interval:\n",
       " -0.9808683 -0.5130988\n",
       "sample estimates:\n",
       "     cor \n",
       "-0.89439 \n"
      ]
     },
     "metadata": {},
     "output_type": "display_data"
    }
   ],
   "source": [
    "cor.test(age, price)"
   ]
  },
  {
   "cell_type": "code",
   "execution_count": 16,
   "id": "8296ba2c",
   "metadata": {},
   "outputs": [],
   "source": [
    "score = c(90, 85, 73, 80, 85, 65, 78, 50, 68, 96)\n",
    "names(score) = c('KOR','ENG','ATH','HIST','SOC','MUSIC','BIO','EARTH','PHY','ART')"
   ]
  },
  {
   "cell_type": "code",
   "execution_count": 17,
   "id": "4f83838e",
   "metadata": {},
   "outputs": [
    {
     "data": {
      "text/html": [
       "<style>\n",
       ".dl-inline {width: auto; margin:0; padding: 0}\n",
       ".dl-inline>dt, .dl-inline>dd {float: none; width: auto; display: inline-block}\n",
       ".dl-inline>dt::after {content: \":\\0020\"; padding-right: .5ex}\n",
       ".dl-inline>dt:not(:first-of-type) {padding-left: .5ex}\n",
       "</style><dl class=dl-inline><dt>KOR</dt><dd>90</dd><dt>ENG</dt><dd>85</dd><dt>ATH</dt><dd>73</dd><dt>HIST</dt><dd>80</dd><dt>SOC</dt><dd>85</dd><dt>MUSIC</dt><dd>65</dd><dt>BIO</dt><dd>78</dd><dt>EARTH</dt><dd>50</dd><dt>PHY</dt><dd>68</dd><dt>ART</dt><dd>96</dd></dl>\n"
      ],
      "text/latex": [
       "\\begin{description*}\n",
       "\\item[KOR] 90\n",
       "\\item[ENG] 85\n",
       "\\item[ATH] 73\n",
       "\\item[HIST] 80\n",
       "\\item[SOC] 85\n",
       "\\item[MUSIC] 65\n",
       "\\item[BIO] 78\n",
       "\\item[EARTH] 50\n",
       "\\item[PHY] 68\n",
       "\\item[ART] 96\n",
       "\\end{description*}\n"
      ],
      "text/markdown": [
       "KOR\n",
       ":   90ENG\n",
       ":   85ATH\n",
       ":   73HIST\n",
       ":   80SOC\n",
       ":   85MUSIC\n",
       ":   65BIO\n",
       ":   78EARTH\n",
       ":   50PHY\n",
       ":   68ART\n",
       ":   96\n",
       "\n"
      ],
      "text/plain": [
       "  KOR   ENG   ATH  HIST   SOC MUSIC   BIO EARTH   PHY   ART \n",
       "   90    85    73    80    85    65    78    50    68    96 "
      ]
     },
     "metadata": {},
     "output_type": "display_data"
    }
   ],
   "source": [
    "score"
   ]
  },
  {
   "cell_type": "code",
   "execution_count": 18,
   "id": "c93dd5f7",
   "metadata": {},
   "outputs": [
    {
     "data": {
      "text/html": [
       "77"
      ],
      "text/latex": [
       "77"
      ],
      "text/markdown": [
       "77"
      ],
      "text/plain": [
       "[1] 77"
      ]
     },
     "metadata": {},
     "output_type": "display_data"
    }
   ],
   "source": [
    "mean(score)"
   ]
  },
  {
   "cell_type": "code",
   "execution_count": 19,
   "id": "d42cce8f",
   "metadata": {},
   "outputs": [
    {
     "data": {
      "text/html": [
       "79"
      ],
      "text/latex": [
       "79"
      ],
      "text/markdown": [
       "79"
      ],
      "text/plain": [
       "[1] 79"
      ]
     },
     "metadata": {},
     "output_type": "display_data"
    }
   ],
   "source": [
    "median(score)"
   ]
  },
  {
   "cell_type": "code",
   "execution_count": 20,
   "id": "d5f0063b",
   "metadata": {},
   "outputs": [
    {
     "data": {
      "text/html": [
       "13.490737563232"
      ],
      "text/latex": [
       "13.490737563232"
      ],
      "text/markdown": [
       "13.490737563232"
      ],
      "text/plain": [
       "[1] 13.49074"
      ]
     },
     "metadata": {},
     "output_type": "display_data"
    }
   ],
   "source": [
    "sd(score)"
   ]
  },
  {
   "cell_type": "code",
   "execution_count": 21,
   "id": "280de926",
   "metadata": {},
   "outputs": [
    {
     "data": {
      "text/html": [
       "'ART'"
      ],
      "text/latex": [
       "'ART'"
      ],
      "text/markdown": [
       "'ART'"
      ],
      "text/plain": [
       "[1] \"ART\""
      ]
     },
     "metadata": {},
     "output_type": "display_data"
    }
   ],
   "source": [
    "names(score[score == max(score)])"
   ]
  },
  {
   "cell_type": "code",
   "execution_count": 22,
   "id": "bfd2da87",
   "metadata": {},
   "outputs": [
    {
     "data": {
      "image/png": "[encoded data removed]",
      "text/plain": [
       "plot without title"
      ]
     },
     "metadata": {
      "image/png": {
       "height": 420,
       "width": 420
      }
     },
     "output_type": "display_data"
    }
   ],
   "source": [
    "boxplot(score)"
   ]
  },
  {
   "cell_type": "code",
   "execution_count": 24,
   "id": "2716bb66",
   "metadata": {},
   "outputs": [
    {
     "data": {
      "image/png": "[encoded data removed]",
      "text/plain": [
       "Plot with title \"학생 성적\""
      ]
     },
     "metadata": {
      "image/png": {
       "height": 420,
       "width": 420
      }
     },
     "output_type": "display_data"
    }
   ],
   "source": [
    "hist(score,\n",
    "    main = '학생 성적',\n",
    "    col = 'purple',\n",
    "    las = 1)"
   ]
  },
  {
   "cell_type": "code",
   "execution_count": 25,
   "id": "fdf57f46",
   "metadata": {},
   "outputs": [],
   "source": [
    "wt = mtcars$wt"
   ]
  },
  {
   "cell_type": "code",
   "execution_count": 26,
   "id": "7b7f87d8",
   "metadata": {},
   "outputs": [
    {
     "data": {
      "text/html": [
       "<style>\n",
       ".list-inline {list-style: none; margin:0; padding: 0}\n",
       ".list-inline>li {display: inline-block}\n",
       ".list-inline>li:not(:last-child)::after {content: \"\\00b7\"; padding: 0 .5ex}\n",
       "</style>\n",
       "<ol class=list-inline><li>2.62</li><li>2.875</li><li>2.32</li><li>3.215</li><li>3.44</li><li>3.46</li><li>3.57</li><li>3.19</li><li>3.15</li><li>3.44</li><li>3.44</li><li>4.07</li><li>3.73</li><li>3.78</li><li>5.25</li><li>5.424</li><li>5.345</li><li>2.2</li><li>1.615</li><li>1.835</li><li>2.465</li><li>3.52</li><li>3.435</li><li>3.84</li><li>3.845</li><li>1.935</li><li>2.14</li><li>1.513</li><li>3.17</li><li>2.77</li><li>3.57</li><li>2.78</li></ol>\n"
      ],
      "text/latex": [
       "\\begin{enumerate*}\n",
       "\\item 2.62\n",
       "\\item 2.875\n",
       "\\item 2.32\n",
       "\\item 3.215\n",
       "\\item 3.44\n",
       "\\item 3.46\n",
       "\\item 3.57\n",
       "\\item 3.19\n",
       "\\item 3.15\n",
       "\\item 3.44\n",
       "\\item 3.44\n",
       "\\item 4.07\n",
       "\\item 3.73\n",
       "\\item 3.78\n",
       "\\item 5.25\n",
       "\\item 5.424\n",
       "\\item 5.345\n",
       "\\item 2.2\n",
       "\\item 1.615\n",
       "\\item 1.835\n",
       "\\item 2.465\n",
       "\\item 3.52\n",
       "\\item 3.435\n",
       "\\item 3.84\n",
       "\\item 3.845\n",
       "\\item 1.935\n",
       "\\item 2.14\n",
       "\\item 1.513\n",
       "\\item 3.17\n",
       "\\item 2.77\n",
       "\\item 3.57\n",
       "\\item 2.78\n",
       "\\end{enumerate*}\n"
      ],
      "text/markdown": [
       "1. 2.62\n",
       "2. 2.875\n",
       "3. 2.32\n",
       "4. 3.215\n",
       "5. 3.44\n",
       "6. 3.46\n",
       "7. 3.57\n",
       "8. 3.19\n",
       "9. 3.15\n",
       "10. 3.44\n",
       "11. 3.44\n",
       "12. 4.07\n",
       "13. 3.73\n",
       "14. 3.78\n",
       "15. 5.25\n",
       "16. 5.424\n",
       "17. 5.345\n",
       "18. 2.2\n",
       "19. 1.615\n",
       "20. 1.835\n",
       "21. 2.465\n",
       "22. 3.52\n",
       "23. 3.435\n",
       "24. 3.84\n",
       "25. 3.845\n",
       "26. 1.935\n",
       "27. 2.14\n",
       "28. 1.513\n",
       "29. 3.17\n",
       "30. 2.77\n",
       "31. 3.57\n",
       "32. 2.78\n",
       "\n",
       "\n"
      ],
      "text/plain": [
       " [1] 2.620 2.875 2.320 3.215 3.440 3.460 3.570 3.190 3.150 3.440 3.440 4.070\n",
       "[13] 3.730 3.780 5.250 5.424 5.345 2.200 1.615 1.835 2.465 3.520 3.435 3.840\n",
       "[25] 3.845 1.935 2.140 1.513 3.170 2.770 3.570 2.780"
      ]
     },
     "metadata": {},
     "output_type": "display_data"
    }
   ],
   "source": [
    "wt"
   ]
  },
  {
   "cell_type": "code",
   "execution_count": 27,
   "id": "7afc8870",
   "metadata": {},
   "outputs": [
    {
     "data": {
      "text/html": [
       "3.21725"
      ],
      "text/latex": [
       "3.21725"
      ],
      "text/markdown": [
       "3.21725"
      ],
      "text/plain": [
       "[1] 3.21725"
      ]
     },
     "metadata": {},
     "output_type": "display_data"
    }
   ],
   "source": [
    "mean(wt)"
   ]
  },
  {
   "cell_type": "code",
   "execution_count": 28,
   "id": "6206faa7",
   "metadata": {},
   "outputs": [
    {
     "data": {
      "text/html": [
       "3.325"
      ],
      "text/latex": [
       "3.325"
      ],
      "text/markdown": [
       "3.325"
      ],
      "text/plain": [
       "[1] 3.325"
      ]
     },
     "metadata": {},
     "output_type": "display_data"
    }
   ],
   "source": [
    "median(wt)"
   ]
  },
  {
   "cell_type": "code",
   "execution_count": 29,
   "id": "985af3fe",
   "metadata": {},
   "outputs": [
    {
     "data": {
      "text/html": [
       "3.16520833333333"
      ],
      "text/latex": [
       "3.16520833333333"
      ],
      "text/markdown": [
       "3.16520833333333"
      ],
      "text/plain": [
       "[1] 3.165208"
      ]
     },
     "metadata": {},
     "output_type": "display_data"
    }
   ],
   "source": [
    "mean(wt, trim = 0.15)"
   ]
  },
  {
   "cell_type": "code",
   "execution_count": 30,
   "id": "1f7ca67a",
   "metadata": {},
   "outputs": [
    {
     "data": {
      "text/html": [
       "0.978457442989697"
      ],
      "text/latex": [
       "0.978457442989697"
      ],
      "text/markdown": [
       "0.978457442989697"
      ],
      "text/plain": [
       "[1] 0.9784574"
      ]
     },
     "metadata": {},
     "output_type": "display_data"
    }
   ],
   "source": [
    "sd(wt)"
   ]
  },
  {
   "cell_type": "code",
   "execution_count": 32,
   "id": "056f2e6f",
   "metadata": {},
   "outputs": [
    {
     "data": {
      "text/plain": [
       "\n",
       " 4  6  8 \n",
       "11  7 14 "
      ]
     },
     "metadata": {},
     "output_type": "display_data"
    }
   ],
   "source": [
    "table(mtcars$cyl)"
   ]
  },
  {
   "cell_type": "code",
   "execution_count": 33,
   "id": "529d1492",
   "metadata": {},
   "outputs": [
    {
     "data": {
      "image/png": "[encoded data removed]",
      "text/plain": [
       "plot without title"
      ]
     },
     "metadata": {
      "image/png": {
       "height": 420,
       "width": 420
      }
     },
     "output_type": "display_data"
    }
   ],
   "source": [
    "barplot(table(mtcars$cyl))"
   ]
  },
  {
   "cell_type": "code",
   "execution_count": 34,
   "id": "77a18783",
   "metadata": {},
   "outputs": [
    {
     "data": {
      "image/png": "[encoded data removed]",
      "text/plain": [
       "Plot with title \"Histogram of wt\""
      ]
     },
     "metadata": {
      "image/png": {
       "height": 420,
       "width": 420
      }
     },
     "output_type": "display_data"
    }
   ],
   "source": [
    "hist(wt)"
   ]
  },
  {
   "cell_type": "code",
   "execution_count": 35,
   "id": "8dd34b5e",
   "metadata": {},
   "outputs": [
    {
     "data": {
      "image/png": "[encoded data removed]",
      "text/plain": [
       "plot without title"
      ]
     },
     "metadata": {
      "image/png": {
       "height": 420,
       "width": 420
      }
     },
     "output_type": "display_data"
    }
   ],
   "source": [
    "boxplot(wt)"
   ]
  },
  {
   "cell_type": "code",
   "execution_count": 36,
   "id": "f20473af",
   "metadata": {},
   "outputs": [
    {
     "data": {
      "text/html": [
       "<dl>\n",
       "\t<dt>$stats</dt>\n",
       "\t\t<dd><style>\n",
       ".list-inline {list-style: none; margin:0; padding: 0}\n",
       ".list-inline>li {display: inline-block}\n",
       ".list-inline>li:not(:last-child)::after {content: \"\\00b7\"; padding: 0 .5ex}\n",
       "</style>\n",
       "<ol class=list-inline><li>1.513</li><li>2.5425</li><li>3.325</li><li>3.65</li><li>5.25</li></ol>\n",
       "</dd>\n",
       "\t<dt>$n</dt>\n",
       "\t\t<dd>32</dd>\n",
       "\t<dt>$conf</dt>\n",
       "\t\t<dd><style>\n",
       ".list-inline {list-style: none; margin:0; padding: 0}\n",
       ".list-inline>li {display: inline-block}\n",
       ".list-inline>li:not(:last-child)::after {content: \"\\00b7\"; padding: 0 .5ex}\n",
       "</style>\n",
       "<ol class=list-inline><li>3.01566729973518</li><li>3.63433270026482</li></ol>\n",
       "</dd>\n",
       "\t<dt>$out</dt>\n",
       "\t\t<dd><style>\n",
       ".list-inline {list-style: none; margin:0; padding: 0}\n",
       ".list-inline>li {display: inline-block}\n",
       ".list-inline>li:not(:last-child)::after {content: \"\\00b7\"; padding: 0 .5ex}\n",
       "</style>\n",
       "<ol class=list-inline><li>5.424</li><li>5.345</li></ol>\n",
       "</dd>\n",
       "</dl>\n"
      ],
      "text/latex": [
       "\\begin{description}\n",
       "\\item[\\$stats] \\begin{enumerate*}\n",
       "\\item 1.513\n",
       "\\item 2.5425\n",
       "\\item 3.325\n",
       "\\item 3.65\n",
       "\\item 5.25\n",
       "\\end{enumerate*}\n",
       "\n",
       "\\item[\\$n] 32\n",
       "\\item[\\$conf] \\begin{enumerate*}\n",
       "\\item 3.01566729973518\n",
       "\\item 3.63433270026482\n",
       "\\end{enumerate*}\n",
       "\n",
       "\\item[\\$out] \\begin{enumerate*}\n",
       "\\item 5.424\n",
       "\\item 5.345\n",
       "\\end{enumerate*}\n",
       "\n",
       "\\end{description}\n"
      ],
      "text/markdown": [
       "$stats\n",
       ":   1. 1.513\n",
       "2. 2.5425\n",
       "3. 3.325\n",
       "4. 3.65\n",
       "5. 5.25\n",
       "\n",
       "\n",
       "\n",
       "$n\n",
       ":   32\n",
       "$conf\n",
       ":   1. 3.01566729973518\n",
       "2. 3.63433270026482\n",
       "\n",
       "\n",
       "\n",
       "$out\n",
       ":   1. 5.424\n",
       "2. 5.345\n",
       "\n",
       "\n",
       "\n",
       "\n",
       "\n"
      ],
      "text/plain": [
       "$stats\n",
       "[1] 1.5130 2.5425 3.3250 3.6500 5.2500\n",
       "\n",
       "$n\n",
       "[1] 32\n",
       "\n",
       "$conf\n",
       "[1] 3.015667 3.634333\n",
       "\n",
       "$out\n",
       "[1] 5.424 5.345\n"
      ]
     },
     "metadata": {},
     "output_type": "display_data"
    }
   ],
   "source": [
    "boxplot.stats(wt)"
   ]
  },
  {
   "cell_type": "code",
   "execution_count": 37,
   "id": "b22f09c7",
   "metadata": {},
   "outputs": [],
   "source": [
    "disp = mtcars$disp"
   ]
  },
  {
   "cell_type": "code",
   "execution_count": 38,
   "id": "386a24b6",
   "metadata": {},
   "outputs": [
    {
     "data": {
      "text/html": [
       "<style>\n",
       ".list-inline {list-style: none; margin:0; padding: 0}\n",
       ".list-inline>li {display: inline-block}\n",
       ".list-inline>li:not(:last-child)::after {content: \"\\00b7\"; padding: 0 .5ex}\n",
       "</style>\n",
       "<ol class=list-inline><li>160</li><li>160</li><li>108</li><li>258</li><li>360</li><li>225</li><li>360</li><li>146.7</li><li>140.8</li><li>167.6</li><li>167.6</li><li>275.8</li><li>275.8</li><li>275.8</li><li>472</li><li>460</li><li>440</li><li>78.7</li><li>75.7</li><li>71.1</li><li>120.1</li><li>318</li><li>304</li><li>350</li><li>400</li><li>79</li><li>120.3</li><li>95.1</li><li>351</li><li>145</li><li>301</li><li>121</li></ol>\n"
      ],
      "text/latex": [
       "\\begin{enumerate*}\n",
       "\\item 160\n",
       "\\item 160\n",
       "\\item 108\n",
       "\\item 258\n",
       "\\item 360\n",
       "\\item 225\n",
       "\\item 360\n",
       "\\item 146.7\n",
       "\\item 140.8\n",
       "\\item 167.6\n",
       "\\item 167.6\n",
       "\\item 275.8\n",
       "\\item 275.8\n",
       "\\item 275.8\n",
       "\\item 472\n",
       "\\item 460\n",
       "\\item 440\n",
       "\\item 78.7\n",
       "\\item 75.7\n",
       "\\item 71.1\n",
       "\\item 120.1\n",
       "\\item 318\n",
       "\\item 304\n",
       "\\item 350\n",
       "\\item 400\n",
       "\\item 79\n",
       "\\item 120.3\n",
       "\\item 95.1\n",
       "\\item 351\n",
       "\\item 145\n",
       "\\item 301\n",
       "\\item 121\n",
       "\\end{enumerate*}\n"
      ],
      "text/markdown": [
       "1. 160\n",
       "2. 160\n",
       "3. 108\n",
       "4. 258\n",
       "5. 360\n",
       "6. 225\n",
       "7. 360\n",
       "8. 146.7\n",
       "9. 140.8\n",
       "10. 167.6\n",
       "11. 167.6\n",
       "12. 275.8\n",
       "13. 275.8\n",
       "14. 275.8\n",
       "15. 472\n",
       "16. 460\n",
       "17. 440\n",
       "18. 78.7\n",
       "19. 75.7\n",
       "20. 71.1\n",
       "21. 120.1\n",
       "22. 318\n",
       "23. 304\n",
       "24. 350\n",
       "25. 400\n",
       "26. 79\n",
       "27. 120.3\n",
       "28. 95.1\n",
       "29. 351\n",
       "30. 145\n",
       "31. 301\n",
       "32. 121\n",
       "\n",
       "\n"
      ],
      "text/plain": [
       " [1] 160.0 160.0 108.0 258.0 360.0 225.0 360.0 146.7 140.8 167.6 167.6 275.8\n",
       "[13] 275.8 275.8 472.0 460.0 440.0  78.7  75.7  71.1 120.1 318.0 304.0 350.0\n",
       "[25] 400.0  79.0 120.3  95.1 351.0 145.0 301.0 121.0"
      ]
     },
     "metadata": {},
     "output_type": "display_data"
    }
   ],
   "source": [
    "disp"
   ]
  },
  {
   "cell_type": "code",
   "execution_count": 39,
   "id": "b1169a0d",
   "metadata": {},
   "outputs": [
    {
     "data": {
      "image/png": "[encoded data removed]",
      "text/plain": [
       "plot without title"
      ]
     },
     "metadata": {
      "image/png": {
       "height": 420,
       "width": 420
      }
     },
     "output_type": "display_data"
    }
   ],
   "source": [
    "boxplot(disp)"
   ]
  },
  {
   "cell_type": "code",
   "execution_count": 40,
   "id": "67f90aad",
   "metadata": {},
   "outputs": [
    {
     "data": {
      "text/html": [
       "<dl>\n",
       "\t<dt>$stats</dt>\n",
       "\t\t<dd><style>\n",
       ".list-inline {list-style: none; margin:0; padding: 0}\n",
       ".list-inline>li {display: inline-block}\n",
       ".list-inline>li:not(:last-child)::after {content: \"\\00b7\"; padding: 0 .5ex}\n",
       "</style>\n",
       "<ol class=list-inline><li>71.1</li><li>120.65</li><li>196.3</li><li>334</li><li>472</li></ol>\n",
       "</dd>\n",
       "\t<dt>$n</dt>\n",
       "\t\t<dd>32</dd>\n",
       "\t<dt>$conf</dt>\n",
       "\t\t<dd><style>\n",
       ".list-inline {list-style: none; margin:0; padding: 0}\n",
       ".list-inline>li {display: inline-block}\n",
       ".list-inline>li:not(:last-child)::after {content: \"\\00b7\"; padding: 0 .5ex}\n",
       "</style>\n",
       "<ol class=list-inline><li>136.709813452371</li><li>255.890186547629</li></ol>\n",
       "</dd>\n",
       "\t<dt>$out</dt>\n",
       "\t\t<dd></dd>\n",
       "</dl>\n"
      ],
      "text/latex": [
       "\\begin{description}\n",
       "\\item[\\$stats] \\begin{enumerate*}\n",
       "\\item 71.1\n",
       "\\item 120.65\n",
       "\\item 196.3\n",
       "\\item 334\n",
       "\\item 472\n",
       "\\end{enumerate*}\n",
       "\n",
       "\\item[\\$n] 32\n",
       "\\item[\\$conf] \\begin{enumerate*}\n",
       "\\item 136.709813452371\n",
       "\\item 255.890186547629\n",
       "\\end{enumerate*}\n",
       "\n",
       "\\item[\\$out] \n",
       "\\end{description}\n"
      ],
      "text/markdown": [
       "$stats\n",
       ":   1. 71.1\n",
       "2. 120.65\n",
       "3. 196.3\n",
       "4. 334\n",
       "5. 472\n",
       "\n",
       "\n",
       "\n",
       "$n\n",
       ":   32\n",
       "$conf\n",
       ":   1. 136.709813452371\n",
       "2. 255.890186547629\n",
       "\n",
       "\n",
       "\n",
       "$out\n",
       ":   \n",
       "\n",
       "\n"
      ],
      "text/plain": [
       "$stats\n",
       "[1]  71.10 120.65 196.30 334.00 472.00\n",
       "\n",
       "$n\n",
       "[1] 32\n",
       "\n",
       "$conf\n",
       "[1] 136.7098 255.8902\n",
       "\n",
       "$out\n",
       "numeric(0)\n"
      ]
     },
     "metadata": {},
     "output_type": "display_data"
    }
   ],
   "source": [
    "boxplot.stats(disp)"
   ]
  },
  {
   "cell_type": "code",
   "execution_count": 41,
   "id": "26b5cf9a",
   "metadata": {},
   "outputs": [
    {
     "data": {
      "image/png": "[encoded data removed]",
      "text/plain": [
       "plot without title"
      ]
     },
     "metadata": {
      "image/png": {
       "height": 420,
       "width": 420
      }
     },
     "output_type": "display_data"
    }
   ],
   "source": [
    "boxplot(mtcars$mpg~mtcars$gear)"
   ]
  },
  {
   "cell_type": "code",
   "execution_count": 44,
   "id": "7e9d1cf0",
   "metadata": {},
   "outputs": [],
   "source": [
    "result = c('P','P','F','P','F','P','F','P','P','F')"
   ]
  },
  {
   "cell_type": "code",
   "execution_count": 45,
   "id": "3d871330",
   "metadata": {},
   "outputs": [
    {
     "data": {
      "text/html": [
       "<style>\n",
       ".list-inline {list-style: none; margin:0; padding: 0}\n",
       ".list-inline>li {display: inline-block}\n",
       ".list-inline>li:not(:last-child)::after {content: \"\\00b7\"; padding: 0 .5ex}\n",
       "</style>\n",
       "<ol class=list-inline><li>'P'</li><li>'P'</li><li>'F'</li><li>'P'</li><li>'F'</li><li>'P'</li><li>'F'</li><li>'P'</li><li>'P'</li><li>'F'</li></ol>\n"
      ],
      "text/latex": [
       "\\begin{enumerate*}\n",
       "\\item 'P'\n",
       "\\item 'P'\n",
       "\\item 'F'\n",
       "\\item 'P'\n",
       "\\item 'F'\n",
       "\\item 'P'\n",
       "\\item 'F'\n",
       "\\item 'P'\n",
       "\\item 'P'\n",
       "\\item 'F'\n",
       "\\end{enumerate*}\n"
      ],
      "text/markdown": [
       "1. 'P'\n",
       "2. 'P'\n",
       "3. 'F'\n",
       "4. 'P'\n",
       "5. 'F'\n",
       "6. 'P'\n",
       "7. 'F'\n",
       "8. 'P'\n",
       "9. 'P'\n",
       "10. 'F'\n",
       "\n",
       "\n"
      ],
      "text/plain": [
       " [1] \"P\" \"P\" \"F\" \"P\" \"F\" \"P\" \"F\" \"P\" \"P\" \"F\""
      ]
     },
     "metadata": {},
     "output_type": "display_data"
    }
   ],
   "source": [
    "result"
   ]
  },
  {
   "cell_type": "code",
   "execution_count": 46,
   "id": "0139a06b",
   "metadata": {},
   "outputs": [
    {
     "data": {
      "text/plain": [
       "result\n",
       "F P \n",
       "4 6 "
      ]
     },
     "metadata": {},
     "output_type": "display_data"
    }
   ],
   "source": [
    "table(result)"
   ]
  },
  {
   "cell_type": "code",
   "execution_count": 47,
   "id": "7c1b75c5",
   "metadata": {},
   "outputs": [
    {
     "data": {
      "image/png": "[encoded data removed]",
      "text/plain": [
       "plot without title"
      ]
     },
     "metadata": {
      "image/png": {
       "height": 420,
       "width": 420
      }
     },
     "output_type": "display_data"
    }
   ],
   "source": [
    "barplot(table(result))"
   ]
  },
  {
   "cell_type": "code",
   "execution_count": 48,
   "id": "37dbe78d",
   "metadata": {},
   "outputs": [
    {
     "data": {
      "image/png": "[encoded data removed]",
      "text/plain": [
       "plot without title"
      ]
     },
     "metadata": {
      "image/png": {
       "height": 420,
       "width": 420
      }
     },
     "output_type": "display_data"
    }
   ],
   "source": [
    "pie(table(result))"
   ]
  },
  {
   "cell_type": "code",
   "execution_count": 49,
   "id": "dc153b6b",
   "metadata": {},
   "outputs": [],
   "source": [
    "season = c('여름','겨울','봄','가을','여름','가을','여름','가을','겨울','여름','여름','가을')"
   ]
  },
  {
   "cell_type": "code",
   "execution_count": 50,
   "id": "3111ab83",
   "metadata": {},
   "outputs": [
    {
     "data": {
      "text/html": [
       "<style>\n",
       ".list-inline {list-style: none; margin:0; padding: 0}\n",
       ".list-inline>li {display: inline-block}\n",
       ".list-inline>li:not(:last-child)::after {content: \"\\00b7\"; padding: 0 .5ex}\n",
       "</style>\n",
       "<ol class=list-inline><li>'여름'</li><li>'겨울'</li><li>'봄'</li><li>'가을'</li><li>'여름'</li><li>'가을'</li><li>'여름'</li><li>'가을'</li><li>'겨울'</li><li>'여름'</li><li>'여름'</li><li>'가을'</li></ol>\n"
      ],
      "text/latex": [
       "\\begin{enumerate*}\n",
       "\\item '여름'\n",
       "\\item '겨울'\n",
       "\\item '봄'\n",
       "\\item '가을'\n",
       "\\item '여름'\n",
       "\\item '가을'\n",
       "\\item '여름'\n",
       "\\item '가을'\n",
       "\\item '겨울'\n",
       "\\item '여름'\n",
       "\\item '여름'\n",
       "\\item '가을'\n",
       "\\end{enumerate*}\n"
      ],
      "text/markdown": [
       "1. '여름'\n",
       "2. '겨울'\n",
       "3. '봄'\n",
       "4. '가을'\n",
       "5. '여름'\n",
       "6. '가을'\n",
       "7. '여름'\n",
       "8. '가을'\n",
       "9. '겨울'\n",
       "10. '여름'\n",
       "11. '여름'\n",
       "12. '가을'\n",
       "\n",
       "\n"
      ],
      "text/plain": [
       " [1] \"여름\" \"겨울\" \"봄\"   \"가을\" \"여름\" \"가을\" \"여름\" \"가을\" \"겨울\" \"여름\"\n",
       "[11] \"여름\" \"가을\""
      ]
     },
     "metadata": {},
     "output_type": "display_data"
    }
   ],
   "source": [
    "season"
   ]
  },
  {
   "cell_type": "code",
   "execution_count": 51,
   "id": "7a0e7f1c",
   "metadata": {},
   "outputs": [
    {
     "data": {
      "text/plain": [
       "season\n",
       "가을 겨울   봄 여름 \n",
       "   4    2    1    5 "
      ]
     },
     "metadata": {},
     "output_type": "display_data"
    }
   ],
   "source": [
    "table(season)"
   ]
  },
  {
   "cell_type": "code",
   "execution_count": 52,
   "id": "3f7a0cb0",
   "metadata": {},
   "outputs": [
    {
     "data": {
      "image/png": "[encoded data removed]",
      "text/plain": [
       "plot without title"
      ]
     },
     "metadata": {
      "image/png": {
       "height": 420,
       "width": 420
      }
     },
     "output_type": "display_data"
    }
   ],
   "source": [
    "barplot(table(season))"
   ]
  },
  {
   "cell_type": "code",
   "execution_count": 53,
   "id": "8f08d51b",
   "metadata": {},
   "outputs": [
    {
     "data": {
      "image/png": "[encoded data removed]",
      "text/plain": [
       "plot without title"
      ]
     },
     "metadata": {
      "image/png": {
       "height": 420,
       "width": 420
      }
     },
     "output_type": "display_data"
    }
   ],
   "source": [
    "pie(table(season))"
   ]
  },
  {
   "cell_type": "code",
   "execution_count": 54,
   "id": "2e82603f",
   "metadata": {},
   "outputs": [
    {
     "name": "stderr",
     "output_type": "stream",
     "text": [
      "Warning message:\n",
      "\"package 'carData' was built under R version 4.3.2\"\n"
     ]
    }
   ],
   "source": [
    "library(carData)"
   ]
  },
  {
   "cell_type": "code",
   "execution_count": 55,
   "id": "d09958c8",
   "metadata": {},
   "outputs": [
    {
     "name": "stderr",
     "output_type": "stream",
     "text": [
      "Warning message:\n",
      "\"package 'car' was built under R version 4.3.2\"\n"
     ]
    }
   ],
   "source": [
    "library(car)"
   ]
  },
  {
   "cell_type": "code",
   "execution_count": 56,
   "id": "ad451ec4",
   "metadata": {},
   "outputs": [
    {
     "name": "stderr",
     "output_type": "stream",
     "text": [
      "Warning message:\n",
      "\"package 'mlbench' was built under R version 4.3.2\"\n"
     ]
    }
   ],
   "source": [
    "library(mlbench)"
   ]
  },
  {
   "cell_type": "code",
   "execution_count": 57,
   "id": "105520d0",
   "metadata": {},
   "outputs": [
    {
     "name": "stderr",
     "output_type": "stream",
     "text": [
      "Warning message:\n",
      "\"package 'DAAG' was built under R version 4.3.2\"\n",
      "\n",
      "Attaching package: 'DAAG'\n",
      "\n",
      "\n",
      "The following object is masked from 'package:car':\n",
      "\n",
      "    vif\n",
      "\n",
      "\n"
     ]
    }
   ],
   "source": [
    "library(DAAG)"
   ]
  },
  {
   "cell_type": "code",
   "execution_count": 58,
   "id": "86a99d96",
   "metadata": {},
   "outputs": [
    {
     "data": {
      "text/html": [
       "<table class=\"dataframe\">\n",
       "<caption>A data.frame: 30 × 11</caption>\n",
       "<thead>\n",
       "\t<tr><th></th><th scope=col>age</th><th scope=col>weight</th><th scope=col>heart</th><th scope=col>lung</th><th scope=col>liver</th><th scope=col>spleen</th><th scope=col>stomach</th><th scope=col>leftkid</th><th scope=col>rightkid</th><th scope=col>kidney</th><th scope=col>intestines</th></tr>\n",
       "\t<tr><th></th><th scope=col>&lt;dbl&gt;</th><th scope=col>&lt;dbl&gt;</th><th scope=col>&lt;dbl&gt;</th><th scope=col>&lt;dbl&gt;</th><th scope=col>&lt;dbl&gt;</th><th scope=col>&lt;dbl&gt;</th><th scope=col>&lt;dbl&gt;</th><th scope=col>&lt;dbl&gt;</th><th scope=col>&lt;dbl&gt;</th><th scope=col>&lt;dbl&gt;</th><th scope=col>&lt;dbl&gt;</th></tr>\n",
       "</thead>\n",
       "<tbody>\n",
       "\t<tr><th scope=row>2</th><td> 33</td><td> 27.5</td><td> 127.7</td><td> 605.0</td><td> 855.0</td><td> 52.5</td><td> 338.2</td><td>107.9</td><td>107.5</td><td> 215</td><td> 885.0</td></tr>\n",
       "\t<tr><th scope=row>1</th><td> 10</td><td> 24.3</td><td>  93.2</td><td> 436.0</td><td> 435.4</td><td> 24.5</td><td> 120.4</td><td> 62.8</td><td> 63.9</td><td> 127</td><td> 711.4</td></tr>\n",
       "\t<tr><th scope=row>3</th><td> 10</td><td> 22.0</td><td>  84.5</td><td> 380.0</td><td> 530.0</td><td> 31.3</td><td> 237.6</td><td> 53.5</td><td> 58.0</td><td> 112</td><td> 765.0</td></tr>\n",
       "\t<tr><th scope=row>4</th><td> 10</td><td> 18.5</td><td>  85.4</td><td> 493.9</td><td> 542.0</td><td> 30.8</td><td> 193.1</td><td> 66.0</td><td> 73.2</td><td> 139</td><td> 849.6</td></tr>\n",
       "\t<tr><th scope=row>5</th><td> 12</td><td> 28.0</td><td> 182.0</td><td>    NA</td><td> 949.0</td><td> 46.0</td><td> 400.0</td><td>   NA</td><td>   NA</td><td> 238</td><td>    NA</td></tr>\n",
       "\t<tr><th scope=row>6</th><td> 18</td><td> 23.8</td><td> 130.0</td><td> 550.0</td><td>1100.0</td><td> 51.0</td><td> 443.2</td><td>145.9</td><td>147.3</td><td> 293</td><td>1210.0</td></tr>\n",
       "\t<tr><th scope=row>7</th><td> 19</td><td> 18.5</td><td>  98.8</td><td> 470.0</td><td> 627.2</td><td> 40.0</td><td> 265.9</td><td> 92.7</td><td> 88.5</td><td> 181</td><td> 959.0</td></tr>\n",
       "\t<tr><th scope=row>8</th><td> 23</td><td> 18.0</td><td> 117.3</td><td> 592.5</td><td> 632.9</td><td> 28.9</td><td> 280.8</td><td> 86.1</td><td> 86.0</td><td> 172</td><td> 855.4</td></tr>\n",
       "\t<tr><th scope=row>10</th><td> 31</td><td> 34.0</td><td> 180.0</td><td> 605.0</td><td>1040.0</td><td> 45.0</td><td> 425.0</td><td>125.0</td><td>120.0</td><td> 245</td><td>1540.0</td></tr>\n",
       "\t<tr><th scope=row>9</th><td> 33</td><td> 28.5</td><td> 150.4</td><td> 799.9</td><td>1047.1</td><td> 41.3</td><td> 476.2</td><td>124.5</td><td>123.9</td><td> 248</td><td>1644.0</td></tr>\n",
       "\t<tr><th scope=row>11</th><td> 44</td><td> 35.8</td><td> 145.5</td><td> 995.0</td><td>1525.0</td><td> 90.0</td><td> 475.6</td><td>176.0</td><td>156.3</td><td> 332</td><td>2405.0</td></tr>\n",
       "\t<tr><th scope=row>12</th><td> 46</td><td> 30.3</td><td> 140.0</td><td> 785.0</td><td>1210.0</td><td> 60.2</td><td> 360.3</td><td>127.3</td><td>104.9</td><td> 232</td><td>1345.0</td></tr>\n",
       "\t<tr><th scope=row>13</th><td> 46</td><td> 33.0</td><td> 168.1</td><td> 910.0</td><td>1195.0</td><td> 89.3</td><td> 384.9</td><td>123.4</td><td>125.2</td><td> 249</td><td>1460.0</td></tr>\n",
       "\t<tr><th scope=row>14</th><td> 50</td><td> 42.0</td><td> 205.0</td><td>1115.0</td><td>1415.0</td><td> 80.0</td><td> 560.0</td><td>145.0</td><td>160.0</td><td> 305</td><td>1745.0</td></tr>\n",
       "\t<tr><th scope=row>15</th><td> 50</td><td> 37.5</td><td> 205.0</td><td>1142.6</td><td>1099.8</td><td> 57.5</td><td> 543.0</td><td>143.3</td><td>131.1</td><td> 274</td><td>1372.0</td></tr>\n",
       "\t<tr><th scope=row>16</th><td> 60</td><td> 55.0</td><td> 320.9</td><td>1465.0</td><td>2250.0</td><td> 96.5</td><td> 961.8</td><td>226.5</td><td>200.7</td><td> 427</td><td>2805.0</td></tr>\n",
       "\t<tr><th scope=row>17</th><td> 59</td><td> 50.5</td><td> 255.0</td><td>1250.0</td><td>2115.0</td><td>135.0</td><td> 850.0</td><td>200.0</td><td>215.0</td><td> 415</td><td>2675.0</td></tr>\n",
       "\t<tr><th scope=row>18</th><td> 66</td><td> 57.5</td><td> 370.0</td><td>1580.0</td><td>2195.0</td><td>140.0</td><td> 720.0</td><td>220.0</td><td>230.0</td><td> 450</td><td>2490.0</td></tr>\n",
       "\t<tr><th scope=row>19</th><td> 68</td><td> 67.5</td><td> 465.0</td><td>2000.0</td><td>2990.0</td><td>350.0</td><td> 865.0</td><td>255.0</td><td>275.0</td><td> 530</td><td>2880.0</td></tr>\n",
       "\t<tr><th scope=row>20</th><td> 68</td><td> 53.5</td><td> 332.8</td><td>1474.4</td><td>2124.2</td><td>149.6</td><td> 730.0</td><td>227.6</td><td>229.3</td><td> 457</td><td>2497.0</td></tr>\n",
       "\t<tr><th scope=row>23</th><td> 72</td><td> 73.0</td><td> 449.0</td><td>    NA</td><td>2715.0</td><td>127.0</td><td>1044.0</td><td>   NA</td><td>   NA</td><td> 605</td><td>    NA</td></tr>\n",
       "\t<tr><th scope=row>21</th><td> 73</td><td> 54.5</td><td> 282.5</td><td>1220.0</td><td>2795.0</td><td>136.5</td><td> 919.0</td><td>277.9</td><td>262.8</td><td> 541</td><td>2515.0</td></tr>\n",
       "\t<tr><th scope=row>22</th><td> 73</td><td> 68.5</td><td> 355.0</td><td>1790.0</td><td>3875.0</td><td>145.0</td><td>1390.0</td><td>290.0</td><td>335.0</td><td> 625</td><td>3535.0</td></tr>\n",
       "\t<tr><th scope=row>24</th><td> 80</td><td> 74.0</td><td> 310.0</td><td>1510.0</td><td>3130.0</td><td>118.3</td><td> 985.8</td><td>285.0</td><td>300.0</td><td> 585</td><td>3410.0</td></tr>\n",
       "\t<tr><th scope=row>25</th><td> 84</td><td> 68.0</td><td> 532.0</td><td>    NA</td><td>2937.0</td><td>160.0</td><td>1209.0</td><td>   NA</td><td>   NA</td><td> 620</td><td>    NA</td></tr>\n",
       "\t<tr><th scope=row>26</th><td> 96</td><td> 97.0</td><td> 667.0</td><td>    NA</td><td>4241.0</td><td>213.0</td><td>1542.0</td><td>   NA</td><td>   NA</td><td> 757</td><td>    NA</td></tr>\n",
       "\t<tr><th scope=row>27</th><td>106</td><td>101.0</td><td> 440.0</td><td>2735.0</td><td>3580.0</td><td>305.0</td><td>1260.0</td><td>368.4</td><td>391.7</td><td> 760</td><td>3570.0</td></tr>\n",
       "\t<tr><th scope=row>28</th><td>108</td><td>128.0</td><td>1012.0</td><td>    NA</td><td>5172.0</td><td>284.0</td><td>1734.0</td><td>   NA</td><td>   NA</td><td> 888</td><td>    NA</td></tr>\n",
       "\t<tr><th scope=row>29</th><td>118</td><td> 95.0</td><td> 505.0</td><td>2380.0</td><td>3720.0</td><td>425.0</td><td>1245.0</td><td>385.0</td><td>400.0</td><td> 785</td><td>3565.0</td></tr>\n",
       "\t<tr><th scope=row>30</th><td>120</td><td>179.0</td><td>1075.0</td><td>    NA</td><td>8309.0</td><td>   NA</td><td>2500.0</td><td>   NA</td><td>   NA</td><td>1410</td><td>    NA</td></tr>\n",
       "</tbody>\n",
       "</table>\n"
      ],
      "text/latex": [
       "A data.frame: 30 × 11\n",
       "\\begin{tabular}{r|lllllllllll}\n",
       "  & age & weight & heart & lung & liver & spleen & stomach & leftkid & rightkid & kidney & intestines\\\\\n",
       "  & <dbl> & <dbl> & <dbl> & <dbl> & <dbl> & <dbl> & <dbl> & <dbl> & <dbl> & <dbl> & <dbl>\\\\\n",
       "\\hline\n",
       "\t2 &  33 &  27.5 &  127.7 &  605.0 &  855.0 &  52.5 &  338.2 & 107.9 & 107.5 &  215 &  885.0\\\\\n",
       "\t1 &  10 &  24.3 &   93.2 &  436.0 &  435.4 &  24.5 &  120.4 &  62.8 &  63.9 &  127 &  711.4\\\\\n",
       "\t3 &  10 &  22.0 &   84.5 &  380.0 &  530.0 &  31.3 &  237.6 &  53.5 &  58.0 &  112 &  765.0\\\\\n",
       "\t4 &  10 &  18.5 &   85.4 &  493.9 &  542.0 &  30.8 &  193.1 &  66.0 &  73.2 &  139 &  849.6\\\\\n",
       "\t5 &  12 &  28.0 &  182.0 &     NA &  949.0 &  46.0 &  400.0 &    NA &    NA &  238 &     NA\\\\\n",
       "\t6 &  18 &  23.8 &  130.0 &  550.0 & 1100.0 &  51.0 &  443.2 & 145.9 & 147.3 &  293 & 1210.0\\\\\n",
       "\t7 &  19 &  18.5 &   98.8 &  470.0 &  627.2 &  40.0 &  265.9 &  92.7 &  88.5 &  181 &  959.0\\\\\n",
       "\t8 &  23 &  18.0 &  117.3 &  592.5 &  632.9 &  28.9 &  280.8 &  86.1 &  86.0 &  172 &  855.4\\\\\n",
       "\t10 &  31 &  34.0 &  180.0 &  605.0 & 1040.0 &  45.0 &  425.0 & 125.0 & 120.0 &  245 & 1540.0\\\\\n",
       "\t9 &  33 &  28.5 &  150.4 &  799.9 & 1047.1 &  41.3 &  476.2 & 124.5 & 123.9 &  248 & 1644.0\\\\\n",
       "\t11 &  44 &  35.8 &  145.5 &  995.0 & 1525.0 &  90.0 &  475.6 & 176.0 & 156.3 &  332 & 2405.0\\\\\n",
       "\t12 &  46 &  30.3 &  140.0 &  785.0 & 1210.0 &  60.2 &  360.3 & 127.3 & 104.9 &  232 & 1345.0\\\\\n",
       "\t13 &  46 &  33.0 &  168.1 &  910.0 & 1195.0 &  89.3 &  384.9 & 123.4 & 125.2 &  249 & 1460.0\\\\\n",
       "\t14 &  50 &  42.0 &  205.0 & 1115.0 & 1415.0 &  80.0 &  560.0 & 145.0 & 160.0 &  305 & 1745.0\\\\\n",
       "\t15 &  50 &  37.5 &  205.0 & 1142.6 & 1099.8 &  57.5 &  543.0 & 143.3 & 131.1 &  274 & 1372.0\\\\\n",
       "\t16 &  60 &  55.0 &  320.9 & 1465.0 & 2250.0 &  96.5 &  961.8 & 226.5 & 200.7 &  427 & 2805.0\\\\\n",
       "\t17 &  59 &  50.5 &  255.0 & 1250.0 & 2115.0 & 135.0 &  850.0 & 200.0 & 215.0 &  415 & 2675.0\\\\\n",
       "\t18 &  66 &  57.5 &  370.0 & 1580.0 & 2195.0 & 140.0 &  720.0 & 220.0 & 230.0 &  450 & 2490.0\\\\\n",
       "\t19 &  68 &  67.5 &  465.0 & 2000.0 & 2990.0 & 350.0 &  865.0 & 255.0 & 275.0 &  530 & 2880.0\\\\\n",
       "\t20 &  68 &  53.5 &  332.8 & 1474.4 & 2124.2 & 149.6 &  730.0 & 227.6 & 229.3 &  457 & 2497.0\\\\\n",
       "\t23 &  72 &  73.0 &  449.0 &     NA & 2715.0 & 127.0 & 1044.0 &    NA &    NA &  605 &     NA\\\\\n",
       "\t21 &  73 &  54.5 &  282.5 & 1220.0 & 2795.0 & 136.5 &  919.0 & 277.9 & 262.8 &  541 & 2515.0\\\\\n",
       "\t22 &  73 &  68.5 &  355.0 & 1790.0 & 3875.0 & 145.0 & 1390.0 & 290.0 & 335.0 &  625 & 3535.0\\\\\n",
       "\t24 &  80 &  74.0 &  310.0 & 1510.0 & 3130.0 & 118.3 &  985.8 & 285.0 & 300.0 &  585 & 3410.0\\\\\n",
       "\t25 &  84 &  68.0 &  532.0 &     NA & 2937.0 & 160.0 & 1209.0 &    NA &    NA &  620 &     NA\\\\\n",
       "\t26 &  96 &  97.0 &  667.0 &     NA & 4241.0 & 213.0 & 1542.0 &    NA &    NA &  757 &     NA\\\\\n",
       "\t27 & 106 & 101.0 &  440.0 & 2735.0 & 3580.0 & 305.0 & 1260.0 & 368.4 & 391.7 &  760 & 3570.0\\\\\n",
       "\t28 & 108 & 128.0 & 1012.0 &     NA & 5172.0 & 284.0 & 1734.0 &    NA &    NA &  888 &     NA\\\\\n",
       "\t29 & 118 &  95.0 &  505.0 & 2380.0 & 3720.0 & 425.0 & 1245.0 & 385.0 & 400.0 &  785 & 3565.0\\\\\n",
       "\t30 & 120 & 179.0 & 1075.0 &     NA & 8309.0 &    NA & 2500.0 &    NA &    NA & 1410 &     NA\\\\\n",
       "\\end{tabular}\n"
      ],
      "text/markdown": [
       "\n",
       "A data.frame: 30 × 11\n",
       "\n",
       "| <!--/--> | age &lt;dbl&gt; | weight &lt;dbl&gt; | heart &lt;dbl&gt; | lung &lt;dbl&gt; | liver &lt;dbl&gt; | spleen &lt;dbl&gt; | stomach &lt;dbl&gt; | leftkid &lt;dbl&gt; | rightkid &lt;dbl&gt; | kidney &lt;dbl&gt; | intestines &lt;dbl&gt; |\n",
       "|---|---|---|---|---|---|---|---|---|---|---|---|\n",
       "| 2 |  33 |  27.5 |  127.7 |  605.0 |  855.0 |  52.5 |  338.2 | 107.9 | 107.5 |  215 |  885.0 |\n",
       "| 1 |  10 |  24.3 |   93.2 |  436.0 |  435.4 |  24.5 |  120.4 |  62.8 |  63.9 |  127 |  711.4 |\n",
       "| 3 |  10 |  22.0 |   84.5 |  380.0 |  530.0 |  31.3 |  237.6 |  53.5 |  58.0 |  112 |  765.0 |\n",
       "| 4 |  10 |  18.5 |   85.4 |  493.9 |  542.0 |  30.8 |  193.1 |  66.0 |  73.2 |  139 |  849.6 |\n",
       "| 5 |  12 |  28.0 |  182.0 |     NA |  949.0 |  46.0 |  400.0 |    NA |    NA |  238 |     NA |\n",
       "| 6 |  18 |  23.8 |  130.0 |  550.0 | 1100.0 |  51.0 |  443.2 | 145.9 | 147.3 |  293 | 1210.0 |\n",
       "| 7 |  19 |  18.5 |   98.8 |  470.0 |  627.2 |  40.0 |  265.9 |  92.7 |  88.5 |  181 |  959.0 |\n",
       "| 8 |  23 |  18.0 |  117.3 |  592.5 |  632.9 |  28.9 |  280.8 |  86.1 |  86.0 |  172 |  855.4 |\n",
       "| 10 |  31 |  34.0 |  180.0 |  605.0 | 1040.0 |  45.0 |  425.0 | 125.0 | 120.0 |  245 | 1540.0 |\n",
       "| 9 |  33 |  28.5 |  150.4 |  799.9 | 1047.1 |  41.3 |  476.2 | 124.5 | 123.9 |  248 | 1644.0 |\n",
       "| 11 |  44 |  35.8 |  145.5 |  995.0 | 1525.0 |  90.0 |  475.6 | 176.0 | 156.3 |  332 | 2405.0 |\n",
       "| 12 |  46 |  30.3 |  140.0 |  785.0 | 1210.0 |  60.2 |  360.3 | 127.3 | 104.9 |  232 | 1345.0 |\n",
       "| 13 |  46 |  33.0 |  168.1 |  910.0 | 1195.0 |  89.3 |  384.9 | 123.4 | 125.2 |  249 | 1460.0 |\n",
       "| 14 |  50 |  42.0 |  205.0 | 1115.0 | 1415.0 |  80.0 |  560.0 | 145.0 | 160.0 |  305 | 1745.0 |\n",
       "| 15 |  50 |  37.5 |  205.0 | 1142.6 | 1099.8 |  57.5 |  543.0 | 143.3 | 131.1 |  274 | 1372.0 |\n",
       "| 16 |  60 |  55.0 |  320.9 | 1465.0 | 2250.0 |  96.5 |  961.8 | 226.5 | 200.7 |  427 | 2805.0 |\n",
       "| 17 |  59 |  50.5 |  255.0 | 1250.0 | 2115.0 | 135.0 |  850.0 | 200.0 | 215.0 |  415 | 2675.0 |\n",
       "| 18 |  66 |  57.5 |  370.0 | 1580.0 | 2195.0 | 140.0 |  720.0 | 220.0 | 230.0 |  450 | 2490.0 |\n",
       "| 19 |  68 |  67.5 |  465.0 | 2000.0 | 2990.0 | 350.0 |  865.0 | 255.0 | 275.0 |  530 | 2880.0 |\n",
       "| 20 |  68 |  53.5 |  332.8 | 1474.4 | 2124.2 | 149.6 |  730.0 | 227.6 | 229.3 |  457 | 2497.0 |\n",
       "| 23 |  72 |  73.0 |  449.0 |     NA | 2715.0 | 127.0 | 1044.0 |    NA |    NA |  605 |     NA |\n",
       "| 21 |  73 |  54.5 |  282.5 | 1220.0 | 2795.0 | 136.5 |  919.0 | 277.9 | 262.8 |  541 | 2515.0 |\n",
       "| 22 |  73 |  68.5 |  355.0 | 1790.0 | 3875.0 | 145.0 | 1390.0 | 290.0 | 335.0 |  625 | 3535.0 |\n",
       "| 24 |  80 |  74.0 |  310.0 | 1510.0 | 3130.0 | 118.3 |  985.8 | 285.0 | 300.0 |  585 | 3410.0 |\n",
       "| 25 |  84 |  68.0 |  532.0 |     NA | 2937.0 | 160.0 | 1209.0 |    NA |    NA |  620 |     NA |\n",
       "| 26 |  96 |  97.0 |  667.0 |     NA | 4241.0 | 213.0 | 1542.0 |    NA |    NA |  757 |     NA |\n",
       "| 27 | 106 | 101.0 |  440.0 | 2735.0 | 3580.0 | 305.0 | 1260.0 | 368.4 | 391.7 |  760 | 3570.0 |\n",
       "| 28 | 108 | 128.0 | 1012.0 |     NA | 5172.0 | 284.0 | 1734.0 |    NA |    NA |  888 |     NA |\n",
       "| 29 | 118 |  95.0 |  505.0 | 2380.0 | 3720.0 | 425.0 | 1245.0 | 385.0 | 400.0 |  785 | 3565.0 |\n",
       "| 30 | 120 | 179.0 | 1075.0 |     NA | 8309.0 |    NA | 2500.0 |    NA |    NA | 1410 |     NA |\n",
       "\n"
      ],
      "text/plain": [
       "   age weight heart  lung   liver  spleen stomach leftkid rightkid kidney\n",
       "2   33  27.5   127.7  605.0  855.0  52.5   338.2  107.9   107.5     215  \n",
       "1   10  24.3    93.2  436.0  435.4  24.5   120.4   62.8    63.9     127  \n",
       "3   10  22.0    84.5  380.0  530.0  31.3   237.6   53.5    58.0     112  \n",
       "4   10  18.5    85.4  493.9  542.0  30.8   193.1   66.0    73.2     139  \n",
       "5   12  28.0   182.0     NA  949.0  46.0   400.0     NA      NA     238  \n",
       "6   18  23.8   130.0  550.0 1100.0  51.0   443.2  145.9   147.3     293  \n",
       "7   19  18.5    98.8  470.0  627.2  40.0   265.9   92.7    88.5     181  \n",
       "8   23  18.0   117.3  592.5  632.9  28.9   280.8   86.1    86.0     172  \n",
       "10  31  34.0   180.0  605.0 1040.0  45.0   425.0  125.0   120.0     245  \n",
       "9   33  28.5   150.4  799.9 1047.1  41.3   476.2  124.5   123.9     248  \n",
       "11  44  35.8   145.5  995.0 1525.0  90.0   475.6  176.0   156.3     332  \n",
       "12  46  30.3   140.0  785.0 1210.0  60.2   360.3  127.3   104.9     232  \n",
       "13  46  33.0   168.1  910.0 1195.0  89.3   384.9  123.4   125.2     249  \n",
       "14  50  42.0   205.0 1115.0 1415.0  80.0   560.0  145.0   160.0     305  \n",
       "15  50  37.5   205.0 1142.6 1099.8  57.5   543.0  143.3   131.1     274  \n",
       "16  60  55.0   320.9 1465.0 2250.0  96.5   961.8  226.5   200.7     427  \n",
       "17  59  50.5   255.0 1250.0 2115.0 135.0   850.0  200.0   215.0     415  \n",
       "18  66  57.5   370.0 1580.0 2195.0 140.0   720.0  220.0   230.0     450  \n",
       "19  68  67.5   465.0 2000.0 2990.0 350.0   865.0  255.0   275.0     530  \n",
       "20  68  53.5   332.8 1474.4 2124.2 149.6   730.0  227.6   229.3     457  \n",
       "23  72  73.0   449.0     NA 2715.0 127.0  1044.0     NA      NA     605  \n",
       "21  73  54.5   282.5 1220.0 2795.0 136.5   919.0  277.9   262.8     541  \n",
       "22  73  68.5   355.0 1790.0 3875.0 145.0  1390.0  290.0   335.0     625  \n",
       "24  80  74.0   310.0 1510.0 3130.0 118.3   985.8  285.0   300.0     585  \n",
       "25  84  68.0   532.0     NA 2937.0 160.0  1209.0     NA      NA     620  \n",
       "26  96  97.0   667.0     NA 4241.0 213.0  1542.0     NA      NA     757  \n",
       "27 106 101.0   440.0 2735.0 3580.0 305.0  1260.0  368.4   391.7     760  \n",
       "28 108 128.0  1012.0     NA 5172.0 284.0  1734.0     NA      NA     888  \n",
       "29 118  95.0   505.0 2380.0 3720.0 425.0  1245.0  385.0   400.0     785  \n",
       "30 120 179.0  1075.0     NA 8309.0    NA  2500.0     NA      NA    1410  \n",
       "   intestines\n",
       "2   885.0    \n",
       "1   711.4    \n",
       "3   765.0    \n",
       "4   849.6    \n",
       "5      NA    \n",
       "6  1210.0    \n",
       "7   959.0    \n",
       "8   855.4    \n",
       "10 1540.0    \n",
       "9  1644.0    \n",
       "11 2405.0    \n",
       "12 1345.0    \n",
       "13 1460.0    \n",
       "14 1745.0    \n",
       "15 1372.0    \n",
       "16 2805.0    \n",
       "17 2675.0    \n",
       "18 2490.0    \n",
       "19 2880.0    \n",
       "20 2497.0    \n",
       "23     NA    \n",
       "21 2515.0    \n",
       "22 3535.0    \n",
       "24 3410.0    \n",
       "25     NA    \n",
       "26     NA    \n",
       "27 3570.0    \n",
       "28     NA    \n",
       "29 3565.0    \n",
       "30     NA    "
      ]
     },
     "metadata": {},
     "output_type": "display_data"
    }
   ],
   "source": [
    "cfseal"
   ]
  },
  {
   "cell_type": "code",
   "execution_count": 60,
   "id": "3a90c71d",
   "metadata": {},
   "outputs": [],
   "source": [
    "ds = cfseal"
   ]
  },
  {
   "cell_type": "code",
   "execution_count": 61,
   "id": "585baaba",
   "metadata": {},
   "outputs": [
    {
     "data": {
      "text/html": [
       "<table class=\"dataframe\">\n",
       "<caption>A data.frame: 30 × 11</caption>\n",
       "<thead>\n",
       "\t<tr><th></th><th scope=col>age</th><th scope=col>weight</th><th scope=col>heart</th><th scope=col>lung</th><th scope=col>liver</th><th scope=col>spleen</th><th scope=col>stomach</th><th scope=col>leftkid</th><th scope=col>rightkid</th><th scope=col>kidney</th><th scope=col>intestines</th></tr>\n",
       "\t<tr><th></th><th scope=col>&lt;dbl&gt;</th><th scope=col>&lt;dbl&gt;</th><th scope=col>&lt;dbl&gt;</th><th scope=col>&lt;dbl&gt;</th><th scope=col>&lt;dbl&gt;</th><th scope=col>&lt;dbl&gt;</th><th scope=col>&lt;dbl&gt;</th><th scope=col>&lt;dbl&gt;</th><th scope=col>&lt;dbl&gt;</th><th scope=col>&lt;dbl&gt;</th><th scope=col>&lt;dbl&gt;</th></tr>\n",
       "</thead>\n",
       "<tbody>\n",
       "\t<tr><th scope=row>2</th><td> 33</td><td> 27.5</td><td> 127.7</td><td> 605.0</td><td> 855.0</td><td> 52.5</td><td> 338.2</td><td>107.9</td><td>107.5</td><td> 215</td><td> 885.0</td></tr>\n",
       "\t<tr><th scope=row>1</th><td> 10</td><td> 24.3</td><td>  93.2</td><td> 436.0</td><td> 435.4</td><td> 24.5</td><td> 120.4</td><td> 62.8</td><td> 63.9</td><td> 127</td><td> 711.4</td></tr>\n",
       "\t<tr><th scope=row>3</th><td> 10</td><td> 22.0</td><td>  84.5</td><td> 380.0</td><td> 530.0</td><td> 31.3</td><td> 237.6</td><td> 53.5</td><td> 58.0</td><td> 112</td><td> 765.0</td></tr>\n",
       "\t<tr><th scope=row>4</th><td> 10</td><td> 18.5</td><td>  85.4</td><td> 493.9</td><td> 542.0</td><td> 30.8</td><td> 193.1</td><td> 66.0</td><td> 73.2</td><td> 139</td><td> 849.6</td></tr>\n",
       "\t<tr><th scope=row>5</th><td> 12</td><td> 28.0</td><td> 182.0</td><td>    NA</td><td> 949.0</td><td> 46.0</td><td> 400.0</td><td>   NA</td><td>   NA</td><td> 238</td><td>    NA</td></tr>\n",
       "\t<tr><th scope=row>6</th><td> 18</td><td> 23.8</td><td> 130.0</td><td> 550.0</td><td>1100.0</td><td> 51.0</td><td> 443.2</td><td>145.9</td><td>147.3</td><td> 293</td><td>1210.0</td></tr>\n",
       "\t<tr><th scope=row>7</th><td> 19</td><td> 18.5</td><td>  98.8</td><td> 470.0</td><td> 627.2</td><td> 40.0</td><td> 265.9</td><td> 92.7</td><td> 88.5</td><td> 181</td><td> 959.0</td></tr>\n",
       "\t<tr><th scope=row>8</th><td> 23</td><td> 18.0</td><td> 117.3</td><td> 592.5</td><td> 632.9</td><td> 28.9</td><td> 280.8</td><td> 86.1</td><td> 86.0</td><td> 172</td><td> 855.4</td></tr>\n",
       "\t<tr><th scope=row>10</th><td> 31</td><td> 34.0</td><td> 180.0</td><td> 605.0</td><td>1040.0</td><td> 45.0</td><td> 425.0</td><td>125.0</td><td>120.0</td><td> 245</td><td>1540.0</td></tr>\n",
       "\t<tr><th scope=row>9</th><td> 33</td><td> 28.5</td><td> 150.4</td><td> 799.9</td><td>1047.1</td><td> 41.3</td><td> 476.2</td><td>124.5</td><td>123.9</td><td> 248</td><td>1644.0</td></tr>\n",
       "\t<tr><th scope=row>11</th><td> 44</td><td> 35.8</td><td> 145.5</td><td> 995.0</td><td>1525.0</td><td> 90.0</td><td> 475.6</td><td>176.0</td><td>156.3</td><td> 332</td><td>2405.0</td></tr>\n",
       "\t<tr><th scope=row>12</th><td> 46</td><td> 30.3</td><td> 140.0</td><td> 785.0</td><td>1210.0</td><td> 60.2</td><td> 360.3</td><td>127.3</td><td>104.9</td><td> 232</td><td>1345.0</td></tr>\n",
       "\t<tr><th scope=row>13</th><td> 46</td><td> 33.0</td><td> 168.1</td><td> 910.0</td><td>1195.0</td><td> 89.3</td><td> 384.9</td><td>123.4</td><td>125.2</td><td> 249</td><td>1460.0</td></tr>\n",
       "\t<tr><th scope=row>14</th><td> 50</td><td> 42.0</td><td> 205.0</td><td>1115.0</td><td>1415.0</td><td> 80.0</td><td> 560.0</td><td>145.0</td><td>160.0</td><td> 305</td><td>1745.0</td></tr>\n",
       "\t<tr><th scope=row>15</th><td> 50</td><td> 37.5</td><td> 205.0</td><td>1142.6</td><td>1099.8</td><td> 57.5</td><td> 543.0</td><td>143.3</td><td>131.1</td><td> 274</td><td>1372.0</td></tr>\n",
       "\t<tr><th scope=row>16</th><td> 60</td><td> 55.0</td><td> 320.9</td><td>1465.0</td><td>2250.0</td><td> 96.5</td><td> 961.8</td><td>226.5</td><td>200.7</td><td> 427</td><td>2805.0</td></tr>\n",
       "\t<tr><th scope=row>17</th><td> 59</td><td> 50.5</td><td> 255.0</td><td>1250.0</td><td>2115.0</td><td>135.0</td><td> 850.0</td><td>200.0</td><td>215.0</td><td> 415</td><td>2675.0</td></tr>\n",
       "\t<tr><th scope=row>18</th><td> 66</td><td> 57.5</td><td> 370.0</td><td>1580.0</td><td>2195.0</td><td>140.0</td><td> 720.0</td><td>220.0</td><td>230.0</td><td> 450</td><td>2490.0</td></tr>\n",
       "\t<tr><th scope=row>19</th><td> 68</td><td> 67.5</td><td> 465.0</td><td>2000.0</td><td>2990.0</td><td>350.0</td><td> 865.0</td><td>255.0</td><td>275.0</td><td> 530</td><td>2880.0</td></tr>\n",
       "\t<tr><th scope=row>20</th><td> 68</td><td> 53.5</td><td> 332.8</td><td>1474.4</td><td>2124.2</td><td>149.6</td><td> 730.0</td><td>227.6</td><td>229.3</td><td> 457</td><td>2497.0</td></tr>\n",
       "\t<tr><th scope=row>23</th><td> 72</td><td> 73.0</td><td> 449.0</td><td>    NA</td><td>2715.0</td><td>127.0</td><td>1044.0</td><td>   NA</td><td>   NA</td><td> 605</td><td>    NA</td></tr>\n",
       "\t<tr><th scope=row>21</th><td> 73</td><td> 54.5</td><td> 282.5</td><td>1220.0</td><td>2795.0</td><td>136.5</td><td> 919.0</td><td>277.9</td><td>262.8</td><td> 541</td><td>2515.0</td></tr>\n",
       "\t<tr><th scope=row>22</th><td> 73</td><td> 68.5</td><td> 355.0</td><td>1790.0</td><td>3875.0</td><td>145.0</td><td>1390.0</td><td>290.0</td><td>335.0</td><td> 625</td><td>3535.0</td></tr>\n",
       "\t<tr><th scope=row>24</th><td> 80</td><td> 74.0</td><td> 310.0</td><td>1510.0</td><td>3130.0</td><td>118.3</td><td> 985.8</td><td>285.0</td><td>300.0</td><td> 585</td><td>3410.0</td></tr>\n",
       "\t<tr><th scope=row>25</th><td> 84</td><td> 68.0</td><td> 532.0</td><td>    NA</td><td>2937.0</td><td>160.0</td><td>1209.0</td><td>   NA</td><td>   NA</td><td> 620</td><td>    NA</td></tr>\n",
       "\t<tr><th scope=row>26</th><td> 96</td><td> 97.0</td><td> 667.0</td><td>    NA</td><td>4241.0</td><td>213.0</td><td>1542.0</td><td>   NA</td><td>   NA</td><td> 757</td><td>    NA</td></tr>\n",
       "\t<tr><th scope=row>27</th><td>106</td><td>101.0</td><td> 440.0</td><td>2735.0</td><td>3580.0</td><td>305.0</td><td>1260.0</td><td>368.4</td><td>391.7</td><td> 760</td><td>3570.0</td></tr>\n",
       "\t<tr><th scope=row>28</th><td>108</td><td>128.0</td><td>1012.0</td><td>    NA</td><td>5172.0</td><td>284.0</td><td>1734.0</td><td>   NA</td><td>   NA</td><td> 888</td><td>    NA</td></tr>\n",
       "\t<tr><th scope=row>29</th><td>118</td><td> 95.0</td><td> 505.0</td><td>2380.0</td><td>3720.0</td><td>425.0</td><td>1245.0</td><td>385.0</td><td>400.0</td><td> 785</td><td>3565.0</td></tr>\n",
       "\t<tr><th scope=row>30</th><td>120</td><td>179.0</td><td>1075.0</td><td>    NA</td><td>8309.0</td><td>   NA</td><td>2500.0</td><td>   NA</td><td>   NA</td><td>1410</td><td>    NA</td></tr>\n",
       "</tbody>\n",
       "</table>\n"
      ],
      "text/latex": [
       "A data.frame: 30 × 11\n",
       "\\begin{tabular}{r|lllllllllll}\n",
       "  & age & weight & heart & lung & liver & spleen & stomach & leftkid & rightkid & kidney & intestines\\\\\n",
       "  & <dbl> & <dbl> & <dbl> & <dbl> & <dbl> & <dbl> & <dbl> & <dbl> & <dbl> & <dbl> & <dbl>\\\\\n",
       "\\hline\n",
       "\t2 &  33 &  27.5 &  127.7 &  605.0 &  855.0 &  52.5 &  338.2 & 107.9 & 107.5 &  215 &  885.0\\\\\n",
       "\t1 &  10 &  24.3 &   93.2 &  436.0 &  435.4 &  24.5 &  120.4 &  62.8 &  63.9 &  127 &  711.4\\\\\n",
       "\t3 &  10 &  22.0 &   84.5 &  380.0 &  530.0 &  31.3 &  237.6 &  53.5 &  58.0 &  112 &  765.0\\\\\n",
       "\t4 &  10 &  18.5 &   85.4 &  493.9 &  542.0 &  30.8 &  193.1 &  66.0 &  73.2 &  139 &  849.6\\\\\n",
       "\t5 &  12 &  28.0 &  182.0 &     NA &  949.0 &  46.0 &  400.0 &    NA &    NA &  238 &     NA\\\\\n",
       "\t6 &  18 &  23.8 &  130.0 &  550.0 & 1100.0 &  51.0 &  443.2 & 145.9 & 147.3 &  293 & 1210.0\\\\\n",
       "\t7 &  19 &  18.5 &   98.8 &  470.0 &  627.2 &  40.0 &  265.9 &  92.7 &  88.5 &  181 &  959.0\\\\\n",
       "\t8 &  23 &  18.0 &  117.3 &  592.5 &  632.9 &  28.9 &  280.8 &  86.1 &  86.0 &  172 &  855.4\\\\\n",
       "\t10 &  31 &  34.0 &  180.0 &  605.0 & 1040.0 &  45.0 &  425.0 & 125.0 & 120.0 &  245 & 1540.0\\\\\n",
       "\t9 &  33 &  28.5 &  150.4 &  799.9 & 1047.1 &  41.3 &  476.2 & 124.5 & 123.9 &  248 & 1644.0\\\\\n",
       "\t11 &  44 &  35.8 &  145.5 &  995.0 & 1525.0 &  90.0 &  475.6 & 176.0 & 156.3 &  332 & 2405.0\\\\\n",
       "\t12 &  46 &  30.3 &  140.0 &  785.0 & 1210.0 &  60.2 &  360.3 & 127.3 & 104.9 &  232 & 1345.0\\\\\n",
       "\t13 &  46 &  33.0 &  168.1 &  910.0 & 1195.0 &  89.3 &  384.9 & 123.4 & 125.2 &  249 & 1460.0\\\\\n",
       "\t14 &  50 &  42.0 &  205.0 & 1115.0 & 1415.0 &  80.0 &  560.0 & 145.0 & 160.0 &  305 & 1745.0\\\\\n",
       "\t15 &  50 &  37.5 &  205.0 & 1142.6 & 1099.8 &  57.5 &  543.0 & 143.3 & 131.1 &  274 & 1372.0\\\\\n",
       "\t16 &  60 &  55.0 &  320.9 & 1465.0 & 2250.0 &  96.5 &  961.8 & 226.5 & 200.7 &  427 & 2805.0\\\\\n",
       "\t17 &  59 &  50.5 &  255.0 & 1250.0 & 2115.0 & 135.0 &  850.0 & 200.0 & 215.0 &  415 & 2675.0\\\\\n",
       "\t18 &  66 &  57.5 &  370.0 & 1580.0 & 2195.0 & 140.0 &  720.0 & 220.0 & 230.0 &  450 & 2490.0\\\\\n",
       "\t19 &  68 &  67.5 &  465.0 & 2000.0 & 2990.0 & 350.0 &  865.0 & 255.0 & 275.0 &  530 & 2880.0\\\\\n",
       "\t20 &  68 &  53.5 &  332.8 & 1474.4 & 2124.2 & 149.6 &  730.0 & 227.6 & 229.3 &  457 & 2497.0\\\\\n",
       "\t23 &  72 &  73.0 &  449.0 &     NA & 2715.0 & 127.0 & 1044.0 &    NA &    NA &  605 &     NA\\\\\n",
       "\t21 &  73 &  54.5 &  282.5 & 1220.0 & 2795.0 & 136.5 &  919.0 & 277.9 & 262.8 &  541 & 2515.0\\\\\n",
       "\t22 &  73 &  68.5 &  355.0 & 1790.0 & 3875.0 & 145.0 & 1390.0 & 290.0 & 335.0 &  625 & 3535.0\\\\\n",
       "\t24 &  80 &  74.0 &  310.0 & 1510.0 & 3130.0 & 118.3 &  985.8 & 285.0 & 300.0 &  585 & 3410.0\\\\\n",
       "\t25 &  84 &  68.0 &  532.0 &     NA & 2937.0 & 160.0 & 1209.0 &    NA &    NA &  620 &     NA\\\\\n",
       "\t26 &  96 &  97.0 &  667.0 &     NA & 4241.0 & 213.0 & 1542.0 &    NA &    NA &  757 &     NA\\\\\n",
       "\t27 & 106 & 101.0 &  440.0 & 2735.0 & 3580.0 & 305.0 & 1260.0 & 368.4 & 391.7 &  760 & 3570.0\\\\\n",
       "\t28 & 108 & 128.0 & 1012.0 &     NA & 5172.0 & 284.0 & 1734.0 &    NA &    NA &  888 &     NA\\\\\n",
       "\t29 & 118 &  95.0 &  505.0 & 2380.0 & 3720.0 & 425.0 & 1245.0 & 385.0 & 400.0 &  785 & 3565.0\\\\\n",
       "\t30 & 120 & 179.0 & 1075.0 &     NA & 8309.0 &    NA & 2500.0 &    NA &    NA & 1410 &     NA\\\\\n",
       "\\end{tabular}\n"
      ],
      "text/markdown": [
       "\n",
       "A data.frame: 30 × 11\n",
       "\n",
       "| <!--/--> | age &lt;dbl&gt; | weight &lt;dbl&gt; | heart &lt;dbl&gt; | lung &lt;dbl&gt; | liver &lt;dbl&gt; | spleen &lt;dbl&gt; | stomach &lt;dbl&gt; | leftkid &lt;dbl&gt; | rightkid &lt;dbl&gt; | kidney &lt;dbl&gt; | intestines &lt;dbl&gt; |\n",
       "|---|---|---|---|---|---|---|---|---|---|---|---|\n",
       "| 2 |  33 |  27.5 |  127.7 |  605.0 |  855.0 |  52.5 |  338.2 | 107.9 | 107.5 |  215 |  885.0 |\n",
       "| 1 |  10 |  24.3 |   93.2 |  436.0 |  435.4 |  24.5 |  120.4 |  62.8 |  63.9 |  127 |  711.4 |\n",
       "| 3 |  10 |  22.0 |   84.5 |  380.0 |  530.0 |  31.3 |  237.6 |  53.5 |  58.0 |  112 |  765.0 |\n",
       "| 4 |  10 |  18.5 |   85.4 |  493.9 |  542.0 |  30.8 |  193.1 |  66.0 |  73.2 |  139 |  849.6 |\n",
       "| 5 |  12 |  28.0 |  182.0 |     NA |  949.0 |  46.0 |  400.0 |    NA |    NA |  238 |     NA |\n",
       "| 6 |  18 |  23.8 |  130.0 |  550.0 | 1100.0 |  51.0 |  443.2 | 145.9 | 147.3 |  293 | 1210.0 |\n",
       "| 7 |  19 |  18.5 |   98.8 |  470.0 |  627.2 |  40.0 |  265.9 |  92.7 |  88.5 |  181 |  959.0 |\n",
       "| 8 |  23 |  18.0 |  117.3 |  592.5 |  632.9 |  28.9 |  280.8 |  86.1 |  86.0 |  172 |  855.4 |\n",
       "| 10 |  31 |  34.0 |  180.0 |  605.0 | 1040.0 |  45.0 |  425.0 | 125.0 | 120.0 |  245 | 1540.0 |\n",
       "| 9 |  33 |  28.5 |  150.4 |  799.9 | 1047.1 |  41.3 |  476.2 | 124.5 | 123.9 |  248 | 1644.0 |\n",
       "| 11 |  44 |  35.8 |  145.5 |  995.0 | 1525.0 |  90.0 |  475.6 | 176.0 | 156.3 |  332 | 2405.0 |\n",
       "| 12 |  46 |  30.3 |  140.0 |  785.0 | 1210.0 |  60.2 |  360.3 | 127.3 | 104.9 |  232 | 1345.0 |\n",
       "| 13 |  46 |  33.0 |  168.1 |  910.0 | 1195.0 |  89.3 |  384.9 | 123.4 | 125.2 |  249 | 1460.0 |\n",
       "| 14 |  50 |  42.0 |  205.0 | 1115.0 | 1415.0 |  80.0 |  560.0 | 145.0 | 160.0 |  305 | 1745.0 |\n",
       "| 15 |  50 |  37.5 |  205.0 | 1142.6 | 1099.8 |  57.5 |  543.0 | 143.3 | 131.1 |  274 | 1372.0 |\n",
       "| 16 |  60 |  55.0 |  320.9 | 1465.0 | 2250.0 |  96.5 |  961.8 | 226.5 | 200.7 |  427 | 2805.0 |\n",
       "| 17 |  59 |  50.5 |  255.0 | 1250.0 | 2115.0 | 135.0 |  850.0 | 200.0 | 215.0 |  415 | 2675.0 |\n",
       "| 18 |  66 |  57.5 |  370.0 | 1580.0 | 2195.0 | 140.0 |  720.0 | 220.0 | 230.0 |  450 | 2490.0 |\n",
       "| 19 |  68 |  67.5 |  465.0 | 2000.0 | 2990.0 | 350.0 |  865.0 | 255.0 | 275.0 |  530 | 2880.0 |\n",
       "| 20 |  68 |  53.5 |  332.8 | 1474.4 | 2124.2 | 149.6 |  730.0 | 227.6 | 229.3 |  457 | 2497.0 |\n",
       "| 23 |  72 |  73.0 |  449.0 |     NA | 2715.0 | 127.0 | 1044.0 |    NA |    NA |  605 |     NA |\n",
       "| 21 |  73 |  54.5 |  282.5 | 1220.0 | 2795.0 | 136.5 |  919.0 | 277.9 | 262.8 |  541 | 2515.0 |\n",
       "| 22 |  73 |  68.5 |  355.0 | 1790.0 | 3875.0 | 145.0 | 1390.0 | 290.0 | 335.0 |  625 | 3535.0 |\n",
       "| 24 |  80 |  74.0 |  310.0 | 1510.0 | 3130.0 | 118.3 |  985.8 | 285.0 | 300.0 |  585 | 3410.0 |\n",
       "| 25 |  84 |  68.0 |  532.0 |     NA | 2937.0 | 160.0 | 1209.0 |    NA |    NA |  620 |     NA |\n",
       "| 26 |  96 |  97.0 |  667.0 |     NA | 4241.0 | 213.0 | 1542.0 |    NA |    NA |  757 |     NA |\n",
       "| 27 | 106 | 101.0 |  440.0 | 2735.0 | 3580.0 | 305.0 | 1260.0 | 368.4 | 391.7 |  760 | 3570.0 |\n",
       "| 28 | 108 | 128.0 | 1012.0 |     NA | 5172.0 | 284.0 | 1734.0 |    NA |    NA |  888 |     NA |\n",
       "| 29 | 118 |  95.0 |  505.0 | 2380.0 | 3720.0 | 425.0 | 1245.0 | 385.0 | 400.0 |  785 | 3565.0 |\n",
       "| 30 | 120 | 179.0 | 1075.0 |     NA | 8309.0 |    NA | 2500.0 |    NA |    NA | 1410 |     NA |\n",
       "\n"
      ],
      "text/plain": [
       "   age weight heart  lung   liver  spleen stomach leftkid rightkid kidney\n",
       "2   33  27.5   127.7  605.0  855.0  52.5   338.2  107.9   107.5     215  \n",
       "1   10  24.3    93.2  436.0  435.4  24.5   120.4   62.8    63.9     127  \n",
       "3   10  22.0    84.5  380.0  530.0  31.3   237.6   53.5    58.0     112  \n",
       "4   10  18.5    85.4  493.9  542.0  30.8   193.1   66.0    73.2     139  \n",
       "5   12  28.0   182.0     NA  949.0  46.0   400.0     NA      NA     238  \n",
       "6   18  23.8   130.0  550.0 1100.0  51.0   443.2  145.9   147.3     293  \n",
       "7   19  18.5    98.8  470.0  627.2  40.0   265.9   92.7    88.5     181  \n",
       "8   23  18.0   117.3  592.5  632.9  28.9   280.8   86.1    86.0     172  \n",
       "10  31  34.0   180.0  605.0 1040.0  45.0   425.0  125.0   120.0     245  \n",
       "9   33  28.5   150.4  799.9 1047.1  41.3   476.2  124.5   123.9     248  \n",
       "11  44  35.8   145.5  995.0 1525.0  90.0   475.6  176.0   156.3     332  \n",
       "12  46  30.3   140.0  785.0 1210.0  60.2   360.3  127.3   104.9     232  \n",
       "13  46  33.0   168.1  910.0 1195.0  89.3   384.9  123.4   125.2     249  \n",
       "14  50  42.0   205.0 1115.0 1415.0  80.0   560.0  145.0   160.0     305  \n",
       "15  50  37.5   205.0 1142.6 1099.8  57.5   543.0  143.3   131.1     274  \n",
       "16  60  55.0   320.9 1465.0 2250.0  96.5   961.8  226.5   200.7     427  \n",
       "17  59  50.5   255.0 1250.0 2115.0 135.0   850.0  200.0   215.0     415  \n",
       "18  66  57.5   370.0 1580.0 2195.0 140.0   720.0  220.0   230.0     450  \n",
       "19  68  67.5   465.0 2000.0 2990.0 350.0   865.0  255.0   275.0     530  \n",
       "20  68  53.5   332.8 1474.4 2124.2 149.6   730.0  227.6   229.3     457  \n",
       "23  72  73.0   449.0     NA 2715.0 127.0  1044.0     NA      NA     605  \n",
       "21  73  54.5   282.5 1220.0 2795.0 136.5   919.0  277.9   262.8     541  \n",
       "22  73  68.5   355.0 1790.0 3875.0 145.0  1390.0  290.0   335.0     625  \n",
       "24  80  74.0   310.0 1510.0 3130.0 118.3   985.8  285.0   300.0     585  \n",
       "25  84  68.0   532.0     NA 2937.0 160.0  1209.0     NA      NA     620  \n",
       "26  96  97.0   667.0     NA 4241.0 213.0  1542.0     NA      NA     757  \n",
       "27 106 101.0   440.0 2735.0 3580.0 305.0  1260.0  368.4   391.7     760  \n",
       "28 108 128.0  1012.0     NA 5172.0 284.0  1734.0     NA      NA     888  \n",
       "29 118  95.0   505.0 2380.0 3720.0 425.0  1245.0  385.0   400.0     785  \n",
       "30 120 179.0  1075.0     NA 8309.0    NA  2500.0     NA      NA    1410  \n",
       "   intestines\n",
       "2   885.0    \n",
       "1   711.4    \n",
       "3   765.0    \n",
       "4   849.6    \n",
       "5      NA    \n",
       "6  1210.0    \n",
       "7   959.0    \n",
       "8   855.4    \n",
       "10 1540.0    \n",
       "9  1644.0    \n",
       "11 2405.0    \n",
       "12 1345.0    \n",
       "13 1460.0    \n",
       "14 1745.0    \n",
       "15 1372.0    \n",
       "16 2805.0    \n",
       "17 2675.0    \n",
       "18 2490.0    \n",
       "19 2880.0    \n",
       "20 2497.0    \n",
       "23     NA    \n",
       "21 2515.0    \n",
       "22 3535.0    \n",
       "24 3410.0    \n",
       "25     NA    \n",
       "26     NA    \n",
       "27 3570.0    \n",
       "28     NA    \n",
       "29 3565.0    \n",
       "30     NA    "
      ]
     },
     "metadata": {},
     "output_type": "display_data"
    }
   ],
   "source": [
    "ds"
   ]
  },
  {
   "cell_type": "code",
   "execution_count": 62,
   "id": "77aa61ce",
   "metadata": {},
   "outputs": [
    {
     "data": {
      "image/png": "[encoded data removed]",
      "text/plain": [
       "plot without title"
      ]
     },
     "metadata": {
      "image/png": {
       "height": 420,
       "width": 420
      }
     },
     "output_type": "display_data"
    }
   ],
   "source": [
    "boxplot(ds$weight)"
   ]
  },
  {
   "cell_type": "code",
   "execution_count": 63,
   "id": "507c278d",
   "metadata": {},
   "outputs": [
    {
     "data": {
      "text/html": [
       "179"
      ],
      "text/latex": [
       "179"
      ],
      "text/markdown": [
       "179"
      ],
      "text/plain": [
       "[1] 179"
      ]
     },
     "metadata": {},
     "output_type": "display_data"
    },
    {
     "data": {
      "image/png": "[encoded data removed]",
      "text/plain": [
       "plot without title"
      ]
     },
     "metadata": {
      "image/png": {
       "height": 420,
       "width": 420
      }
     },
     "output_type": "display_data"
    }
   ],
   "source": [
    "boxplot(ds$weight)$out"
   ]
  },
  {
   "cell_type": "code",
   "execution_count": 64,
   "id": "8b9134bd",
   "metadata": {},
   "outputs": [
    {
     "data": {
      "image/png": "[encoded data removed]",
      "text/plain": [
       "plot without title"
      ]
     },
     "metadata": {
      "image/png": {
       "height": 420,
       "width": 420
      }
     },
     "output_type": "display_data"
    }
   ],
   "source": [
    "boxplot(ds$heart)"
   ]
  },
  {
   "cell_type": "code",
   "execution_count": 65,
   "id": "75e010f6",
   "metadata": {},
   "outputs": [
    {
     "data": {
      "text/html": [
       "<dl>\n",
       "\t<dt>$stats</dt>\n",
       "\t\t<dd><style>\n",
       ".list-inline {list-style: none; margin:0; padding: 0}\n",
       ".list-inline>li {display: inline-block}\n",
       ".list-inline>li:not(:last-child)::after {content: \"\\00b7\"; padding: 0 .5ex}\n",
       "</style>\n",
       "<ol class=list-inline><li>84.5</li><li>140</li><li>230</li><li>440</li><li>667</li></ol>\n",
       "</dd>\n",
       "\t<dt>$n</dt>\n",
       "\t\t<dd>30</dd>\n",
       "\t<dt>$conf</dt>\n",
       "\t\t<dd><style>\n",
       ".list-inline {list-style: none; margin:0; padding: 0}\n",
       ".list-inline>li {display: inline-block}\n",
       ".list-inline>li:not(:last-child)::after {content: \"\\00b7\"; padding: 0 .5ex}\n",
       "</style>\n",
       "<ol class=list-inline><li>143.459835914184</li><li>316.540164085816</li></ol>\n",
       "</dd>\n",
       "\t<dt>$out</dt>\n",
       "\t\t<dd><style>\n",
       ".list-inline {list-style: none; margin:0; padding: 0}\n",
       ".list-inline>li {display: inline-block}\n",
       ".list-inline>li:not(:last-child)::after {content: \"\\00b7\"; padding: 0 .5ex}\n",
       "</style>\n",
       "<ol class=list-inline><li>1012</li><li>1075</li></ol>\n",
       "</dd>\n",
       "</dl>\n"
      ],
      "text/latex": [
       "\\begin{description}\n",
       "\\item[\\$stats] \\begin{enumerate*}\n",
       "\\item 84.5\n",
       "\\item 140\n",
       "\\item 230\n",
       "\\item 440\n",
       "\\item 667\n",
       "\\end{enumerate*}\n",
       "\n",
       "\\item[\\$n] 30\n",
       "\\item[\\$conf] \\begin{enumerate*}\n",
       "\\item 143.459835914184\n",
       "\\item 316.540164085816\n",
       "\\end{enumerate*}\n",
       "\n",
       "\\item[\\$out] \\begin{enumerate*}\n",
       "\\item 1012\n",
       "\\item 1075\n",
       "\\end{enumerate*}\n",
       "\n",
       "\\end{description}\n"
      ],
      "text/markdown": [
       "$stats\n",
       ":   1. 84.5\n",
       "2. 140\n",
       "3. 230\n",
       "4. 440\n",
       "5. 667\n",
       "\n",
       "\n",
       "\n",
       "$n\n",
       ":   30\n",
       "$conf\n",
       ":   1. 143.459835914184\n",
       "2. 316.540164085816\n",
       "\n",
       "\n",
       "\n",
       "$out\n",
       ":   1. 1012\n",
       "2. 1075\n",
       "\n",
       "\n",
       "\n",
       "\n",
       "\n"
      ],
      "text/plain": [
       "$stats\n",
       "[1]  84.5 140.0 230.0 440.0 667.0\n",
       "\n",
       "$n\n",
       "[1] 30\n",
       "\n",
       "$conf\n",
       "[1] 143.4598 316.5402\n",
       "\n",
       "$out\n",
       "[1] 1012 1075\n"
      ]
     },
     "metadata": {},
     "output_type": "display_data"
    }
   ],
   "source": [
    "boxplot.stats(ds$heart)"
   ]
  },
  {
   "cell_type": "code",
   "execution_count": 66,
   "id": "2b8f73cd",
   "metadata": {},
   "outputs": [],
   "source": [
    "ds$group = NA"
   ]
  },
  {
   "cell_type": "code",
   "execution_count": 67,
   "id": "a7cf90e4",
   "metadata": {},
   "outputs": [
    {
     "data": {
      "text/html": [
       "<table class=\"dataframe\">\n",
       "<caption>A data.frame: 30 × 12</caption>\n",
       "<thead>\n",
       "\t<tr><th></th><th scope=col>age</th><th scope=col>weight</th><th scope=col>heart</th><th scope=col>lung</th><th scope=col>liver</th><th scope=col>spleen</th><th scope=col>stomach</th><th scope=col>leftkid</th><th scope=col>rightkid</th><th scope=col>kidney</th><th scope=col>intestines</th><th scope=col>group</th></tr>\n",
       "\t<tr><th></th><th scope=col>&lt;dbl&gt;</th><th scope=col>&lt;dbl&gt;</th><th scope=col>&lt;dbl&gt;</th><th scope=col>&lt;dbl&gt;</th><th scope=col>&lt;dbl&gt;</th><th scope=col>&lt;dbl&gt;</th><th scope=col>&lt;dbl&gt;</th><th scope=col>&lt;dbl&gt;</th><th scope=col>&lt;dbl&gt;</th><th scope=col>&lt;dbl&gt;</th><th scope=col>&lt;dbl&gt;</th><th scope=col>&lt;lgl&gt;</th></tr>\n",
       "</thead>\n",
       "<tbody>\n",
       "\t<tr><th scope=row>2</th><td> 33</td><td> 27.5</td><td> 127.7</td><td> 605.0</td><td> 855.0</td><td> 52.5</td><td> 338.2</td><td>107.9</td><td>107.5</td><td> 215</td><td> 885.0</td><td>NA</td></tr>\n",
       "\t<tr><th scope=row>1</th><td> 10</td><td> 24.3</td><td>  93.2</td><td> 436.0</td><td> 435.4</td><td> 24.5</td><td> 120.4</td><td> 62.8</td><td> 63.9</td><td> 127</td><td> 711.4</td><td>NA</td></tr>\n",
       "\t<tr><th scope=row>3</th><td> 10</td><td> 22.0</td><td>  84.5</td><td> 380.0</td><td> 530.0</td><td> 31.3</td><td> 237.6</td><td> 53.5</td><td> 58.0</td><td> 112</td><td> 765.0</td><td>NA</td></tr>\n",
       "\t<tr><th scope=row>4</th><td> 10</td><td> 18.5</td><td>  85.4</td><td> 493.9</td><td> 542.0</td><td> 30.8</td><td> 193.1</td><td> 66.0</td><td> 73.2</td><td> 139</td><td> 849.6</td><td>NA</td></tr>\n",
       "\t<tr><th scope=row>5</th><td> 12</td><td> 28.0</td><td> 182.0</td><td>    NA</td><td> 949.0</td><td> 46.0</td><td> 400.0</td><td>   NA</td><td>   NA</td><td> 238</td><td>    NA</td><td>NA</td></tr>\n",
       "\t<tr><th scope=row>6</th><td> 18</td><td> 23.8</td><td> 130.0</td><td> 550.0</td><td>1100.0</td><td> 51.0</td><td> 443.2</td><td>145.9</td><td>147.3</td><td> 293</td><td>1210.0</td><td>NA</td></tr>\n",
       "\t<tr><th scope=row>7</th><td> 19</td><td> 18.5</td><td>  98.8</td><td> 470.0</td><td> 627.2</td><td> 40.0</td><td> 265.9</td><td> 92.7</td><td> 88.5</td><td> 181</td><td> 959.0</td><td>NA</td></tr>\n",
       "\t<tr><th scope=row>8</th><td> 23</td><td> 18.0</td><td> 117.3</td><td> 592.5</td><td> 632.9</td><td> 28.9</td><td> 280.8</td><td> 86.1</td><td> 86.0</td><td> 172</td><td> 855.4</td><td>NA</td></tr>\n",
       "\t<tr><th scope=row>10</th><td> 31</td><td> 34.0</td><td> 180.0</td><td> 605.0</td><td>1040.0</td><td> 45.0</td><td> 425.0</td><td>125.0</td><td>120.0</td><td> 245</td><td>1540.0</td><td>NA</td></tr>\n",
       "\t<tr><th scope=row>9</th><td> 33</td><td> 28.5</td><td> 150.4</td><td> 799.9</td><td>1047.1</td><td> 41.3</td><td> 476.2</td><td>124.5</td><td>123.9</td><td> 248</td><td>1644.0</td><td>NA</td></tr>\n",
       "\t<tr><th scope=row>11</th><td> 44</td><td> 35.8</td><td> 145.5</td><td> 995.0</td><td>1525.0</td><td> 90.0</td><td> 475.6</td><td>176.0</td><td>156.3</td><td> 332</td><td>2405.0</td><td>NA</td></tr>\n",
       "\t<tr><th scope=row>12</th><td> 46</td><td> 30.3</td><td> 140.0</td><td> 785.0</td><td>1210.0</td><td> 60.2</td><td> 360.3</td><td>127.3</td><td>104.9</td><td> 232</td><td>1345.0</td><td>NA</td></tr>\n",
       "\t<tr><th scope=row>13</th><td> 46</td><td> 33.0</td><td> 168.1</td><td> 910.0</td><td>1195.0</td><td> 89.3</td><td> 384.9</td><td>123.4</td><td>125.2</td><td> 249</td><td>1460.0</td><td>NA</td></tr>\n",
       "\t<tr><th scope=row>14</th><td> 50</td><td> 42.0</td><td> 205.0</td><td>1115.0</td><td>1415.0</td><td> 80.0</td><td> 560.0</td><td>145.0</td><td>160.0</td><td> 305</td><td>1745.0</td><td>NA</td></tr>\n",
       "\t<tr><th scope=row>15</th><td> 50</td><td> 37.5</td><td> 205.0</td><td>1142.6</td><td>1099.8</td><td> 57.5</td><td> 543.0</td><td>143.3</td><td>131.1</td><td> 274</td><td>1372.0</td><td>NA</td></tr>\n",
       "\t<tr><th scope=row>16</th><td> 60</td><td> 55.0</td><td> 320.9</td><td>1465.0</td><td>2250.0</td><td> 96.5</td><td> 961.8</td><td>226.5</td><td>200.7</td><td> 427</td><td>2805.0</td><td>NA</td></tr>\n",
       "\t<tr><th scope=row>17</th><td> 59</td><td> 50.5</td><td> 255.0</td><td>1250.0</td><td>2115.0</td><td>135.0</td><td> 850.0</td><td>200.0</td><td>215.0</td><td> 415</td><td>2675.0</td><td>NA</td></tr>\n",
       "\t<tr><th scope=row>18</th><td> 66</td><td> 57.5</td><td> 370.0</td><td>1580.0</td><td>2195.0</td><td>140.0</td><td> 720.0</td><td>220.0</td><td>230.0</td><td> 450</td><td>2490.0</td><td>NA</td></tr>\n",
       "\t<tr><th scope=row>19</th><td> 68</td><td> 67.5</td><td> 465.0</td><td>2000.0</td><td>2990.0</td><td>350.0</td><td> 865.0</td><td>255.0</td><td>275.0</td><td> 530</td><td>2880.0</td><td>NA</td></tr>\n",
       "\t<tr><th scope=row>20</th><td> 68</td><td> 53.5</td><td> 332.8</td><td>1474.4</td><td>2124.2</td><td>149.6</td><td> 730.0</td><td>227.6</td><td>229.3</td><td> 457</td><td>2497.0</td><td>NA</td></tr>\n",
       "\t<tr><th scope=row>23</th><td> 72</td><td> 73.0</td><td> 449.0</td><td>    NA</td><td>2715.0</td><td>127.0</td><td>1044.0</td><td>   NA</td><td>   NA</td><td> 605</td><td>    NA</td><td>NA</td></tr>\n",
       "\t<tr><th scope=row>21</th><td> 73</td><td> 54.5</td><td> 282.5</td><td>1220.0</td><td>2795.0</td><td>136.5</td><td> 919.0</td><td>277.9</td><td>262.8</td><td> 541</td><td>2515.0</td><td>NA</td></tr>\n",
       "\t<tr><th scope=row>22</th><td> 73</td><td> 68.5</td><td> 355.0</td><td>1790.0</td><td>3875.0</td><td>145.0</td><td>1390.0</td><td>290.0</td><td>335.0</td><td> 625</td><td>3535.0</td><td>NA</td></tr>\n",
       "\t<tr><th scope=row>24</th><td> 80</td><td> 74.0</td><td> 310.0</td><td>1510.0</td><td>3130.0</td><td>118.3</td><td> 985.8</td><td>285.0</td><td>300.0</td><td> 585</td><td>3410.0</td><td>NA</td></tr>\n",
       "\t<tr><th scope=row>25</th><td> 84</td><td> 68.0</td><td> 532.0</td><td>    NA</td><td>2937.0</td><td>160.0</td><td>1209.0</td><td>   NA</td><td>   NA</td><td> 620</td><td>    NA</td><td>NA</td></tr>\n",
       "\t<tr><th scope=row>26</th><td> 96</td><td> 97.0</td><td> 667.0</td><td>    NA</td><td>4241.0</td><td>213.0</td><td>1542.0</td><td>   NA</td><td>   NA</td><td> 757</td><td>    NA</td><td>NA</td></tr>\n",
       "\t<tr><th scope=row>27</th><td>106</td><td>101.0</td><td> 440.0</td><td>2735.0</td><td>3580.0</td><td>305.0</td><td>1260.0</td><td>368.4</td><td>391.7</td><td> 760</td><td>3570.0</td><td>NA</td></tr>\n",
       "\t<tr><th scope=row>28</th><td>108</td><td>128.0</td><td>1012.0</td><td>    NA</td><td>5172.0</td><td>284.0</td><td>1734.0</td><td>   NA</td><td>   NA</td><td> 888</td><td>    NA</td><td>NA</td></tr>\n",
       "\t<tr><th scope=row>29</th><td>118</td><td> 95.0</td><td> 505.0</td><td>2380.0</td><td>3720.0</td><td>425.0</td><td>1245.0</td><td>385.0</td><td>400.0</td><td> 785</td><td>3565.0</td><td>NA</td></tr>\n",
       "\t<tr><th scope=row>30</th><td>120</td><td>179.0</td><td>1075.0</td><td>    NA</td><td>8309.0</td><td>   NA</td><td>2500.0</td><td>   NA</td><td>   NA</td><td>1410</td><td>    NA</td><td>NA</td></tr>\n",
       "</tbody>\n",
       "</table>\n"
      ],
      "text/latex": [
       "A data.frame: 30 × 12\n",
       "\\begin{tabular}{r|llllllllllll}\n",
       "  & age & weight & heart & lung & liver & spleen & stomach & leftkid & rightkid & kidney & intestines & group\\\\\n",
       "  & <dbl> & <dbl> & <dbl> & <dbl> & <dbl> & <dbl> & <dbl> & <dbl> & <dbl> & <dbl> & <dbl> & <lgl>\\\\\n",
       "\\hline\n",
       "\t2 &  33 &  27.5 &  127.7 &  605.0 &  855.0 &  52.5 &  338.2 & 107.9 & 107.5 &  215 &  885.0 & NA\\\\\n",
       "\t1 &  10 &  24.3 &   93.2 &  436.0 &  435.4 &  24.5 &  120.4 &  62.8 &  63.9 &  127 &  711.4 & NA\\\\\n",
       "\t3 &  10 &  22.0 &   84.5 &  380.0 &  530.0 &  31.3 &  237.6 &  53.5 &  58.0 &  112 &  765.0 & NA\\\\\n",
       "\t4 &  10 &  18.5 &   85.4 &  493.9 &  542.0 &  30.8 &  193.1 &  66.0 &  73.2 &  139 &  849.6 & NA\\\\\n",
       "\t5 &  12 &  28.0 &  182.0 &     NA &  949.0 &  46.0 &  400.0 &    NA &    NA &  238 &     NA & NA\\\\\n",
       "\t6 &  18 &  23.8 &  130.0 &  550.0 & 1100.0 &  51.0 &  443.2 & 145.9 & 147.3 &  293 & 1210.0 & NA\\\\\n",
       "\t7 &  19 &  18.5 &   98.8 &  470.0 &  627.2 &  40.0 &  265.9 &  92.7 &  88.5 &  181 &  959.0 & NA\\\\\n",
       "\t8 &  23 &  18.0 &  117.3 &  592.5 &  632.9 &  28.9 &  280.8 &  86.1 &  86.0 &  172 &  855.4 & NA\\\\\n",
       "\t10 &  31 &  34.0 &  180.0 &  605.0 & 1040.0 &  45.0 &  425.0 & 125.0 & 120.0 &  245 & 1540.0 & NA\\\\\n",
       "\t9 &  33 &  28.5 &  150.4 &  799.9 & 1047.1 &  41.3 &  476.2 & 124.5 & 123.9 &  248 & 1644.0 & NA\\\\\n",
       "\t11 &  44 &  35.8 &  145.5 &  995.0 & 1525.0 &  90.0 &  475.6 & 176.0 & 156.3 &  332 & 2405.0 & NA\\\\\n",
       "\t12 &  46 &  30.3 &  140.0 &  785.0 & 1210.0 &  60.2 &  360.3 & 127.3 & 104.9 &  232 & 1345.0 & NA\\\\\n",
       "\t13 &  46 &  33.0 &  168.1 &  910.0 & 1195.0 &  89.3 &  384.9 & 123.4 & 125.2 &  249 & 1460.0 & NA\\\\\n",
       "\t14 &  50 &  42.0 &  205.0 & 1115.0 & 1415.0 &  80.0 &  560.0 & 145.0 & 160.0 &  305 & 1745.0 & NA\\\\\n",
       "\t15 &  50 &  37.5 &  205.0 & 1142.6 & 1099.8 &  57.5 &  543.0 & 143.3 & 131.1 &  274 & 1372.0 & NA\\\\\n",
       "\t16 &  60 &  55.0 &  320.9 & 1465.0 & 2250.0 &  96.5 &  961.8 & 226.5 & 200.7 &  427 & 2805.0 & NA\\\\\n",
       "\t17 &  59 &  50.5 &  255.0 & 1250.0 & 2115.0 & 135.0 &  850.0 & 200.0 & 215.0 &  415 & 2675.0 & NA\\\\\n",
       "\t18 &  66 &  57.5 &  370.0 & 1580.0 & 2195.0 & 140.0 &  720.0 & 220.0 & 230.0 &  450 & 2490.0 & NA\\\\\n",
       "\t19 &  68 &  67.5 &  465.0 & 2000.0 & 2990.0 & 350.0 &  865.0 & 255.0 & 275.0 &  530 & 2880.0 & NA\\\\\n",
       "\t20 &  68 &  53.5 &  332.8 & 1474.4 & 2124.2 & 149.6 &  730.0 & 227.6 & 229.3 &  457 & 2497.0 & NA\\\\\n",
       "\t23 &  72 &  73.0 &  449.0 &     NA & 2715.0 & 127.0 & 1044.0 &    NA &    NA &  605 &     NA & NA\\\\\n",
       "\t21 &  73 &  54.5 &  282.5 & 1220.0 & 2795.0 & 136.5 &  919.0 & 277.9 & 262.8 &  541 & 2515.0 & NA\\\\\n",
       "\t22 &  73 &  68.5 &  355.0 & 1790.0 & 3875.0 & 145.0 & 1390.0 & 290.0 & 335.0 &  625 & 3535.0 & NA\\\\\n",
       "\t24 &  80 &  74.0 &  310.0 & 1510.0 & 3130.0 & 118.3 &  985.8 & 285.0 & 300.0 &  585 & 3410.0 & NA\\\\\n",
       "\t25 &  84 &  68.0 &  532.0 &     NA & 2937.0 & 160.0 & 1209.0 &    NA &    NA &  620 &     NA & NA\\\\\n",
       "\t26 &  96 &  97.0 &  667.0 &     NA & 4241.0 & 213.0 & 1542.0 &    NA &    NA &  757 &     NA & NA\\\\\n",
       "\t27 & 106 & 101.0 &  440.0 & 2735.0 & 3580.0 & 305.0 & 1260.0 & 368.4 & 391.7 &  760 & 3570.0 & NA\\\\\n",
       "\t28 & 108 & 128.0 & 1012.0 &     NA & 5172.0 & 284.0 & 1734.0 &    NA &    NA &  888 &     NA & NA\\\\\n",
       "\t29 & 118 &  95.0 &  505.0 & 2380.0 & 3720.0 & 425.0 & 1245.0 & 385.0 & 400.0 &  785 & 3565.0 & NA\\\\\n",
       "\t30 & 120 & 179.0 & 1075.0 &     NA & 8309.0 &    NA & 2500.0 &    NA &    NA & 1410 &     NA & NA\\\\\n",
       "\\end{tabular}\n"
      ],
      "text/markdown": [
       "\n",
       "A data.frame: 30 × 12\n",
       "\n",
       "| <!--/--> | age &lt;dbl&gt; | weight &lt;dbl&gt; | heart &lt;dbl&gt; | lung &lt;dbl&gt; | liver &lt;dbl&gt; | spleen &lt;dbl&gt; | stomach &lt;dbl&gt; | leftkid &lt;dbl&gt; | rightkid &lt;dbl&gt; | kidney &lt;dbl&gt; | intestines &lt;dbl&gt; | group &lt;lgl&gt; |\n",
       "|---|---|---|---|---|---|---|---|---|---|---|---|---|\n",
       "| 2 |  33 |  27.5 |  127.7 |  605.0 |  855.0 |  52.5 |  338.2 | 107.9 | 107.5 |  215 |  885.0 | NA |\n",
       "| 1 |  10 |  24.3 |   93.2 |  436.0 |  435.4 |  24.5 |  120.4 |  62.8 |  63.9 |  127 |  711.4 | NA |\n",
       "| 3 |  10 |  22.0 |   84.5 |  380.0 |  530.0 |  31.3 |  237.6 |  53.5 |  58.0 |  112 |  765.0 | NA |\n",
       "| 4 |  10 |  18.5 |   85.4 |  493.9 |  542.0 |  30.8 |  193.1 |  66.0 |  73.2 |  139 |  849.6 | NA |\n",
       "| 5 |  12 |  28.0 |  182.0 |     NA |  949.0 |  46.0 |  400.0 |    NA |    NA |  238 |     NA | NA |\n",
       "| 6 |  18 |  23.8 |  130.0 |  550.0 | 1100.0 |  51.0 |  443.2 | 145.9 | 147.3 |  293 | 1210.0 | NA |\n",
       "| 7 |  19 |  18.5 |   98.8 |  470.0 |  627.2 |  40.0 |  265.9 |  92.7 |  88.5 |  181 |  959.0 | NA |\n",
       "| 8 |  23 |  18.0 |  117.3 |  592.5 |  632.9 |  28.9 |  280.8 |  86.1 |  86.0 |  172 |  855.4 | NA |\n",
       "| 10 |  31 |  34.0 |  180.0 |  605.0 | 1040.0 |  45.0 |  425.0 | 125.0 | 120.0 |  245 | 1540.0 | NA |\n",
       "| 9 |  33 |  28.5 |  150.4 |  799.9 | 1047.1 |  41.3 |  476.2 | 124.5 | 123.9 |  248 | 1644.0 | NA |\n",
       "| 11 |  44 |  35.8 |  145.5 |  995.0 | 1525.0 |  90.0 |  475.6 | 176.0 | 156.3 |  332 | 2405.0 | NA |\n",
       "| 12 |  46 |  30.3 |  140.0 |  785.0 | 1210.0 |  60.2 |  360.3 | 127.3 | 104.9 |  232 | 1345.0 | NA |\n",
       "| 13 |  46 |  33.0 |  168.1 |  910.0 | 1195.0 |  89.3 |  384.9 | 123.4 | 125.2 |  249 | 1460.0 | NA |\n",
       "| 14 |  50 |  42.0 |  205.0 | 1115.0 | 1415.0 |  80.0 |  560.0 | 145.0 | 160.0 |  305 | 1745.0 | NA |\n",
       "| 15 |  50 |  37.5 |  205.0 | 1142.6 | 1099.8 |  57.5 |  543.0 | 143.3 | 131.1 |  274 | 1372.0 | NA |\n",
       "| 16 |  60 |  55.0 |  320.9 | 1465.0 | 2250.0 |  96.5 |  961.8 | 226.5 | 200.7 |  427 | 2805.0 | NA |\n",
       "| 17 |  59 |  50.5 |  255.0 | 1250.0 | 2115.0 | 135.0 |  850.0 | 200.0 | 215.0 |  415 | 2675.0 | NA |\n",
       "| 18 |  66 |  57.5 |  370.0 | 1580.0 | 2195.0 | 140.0 |  720.0 | 220.0 | 230.0 |  450 | 2490.0 | NA |\n",
       "| 19 |  68 |  67.5 |  465.0 | 2000.0 | 2990.0 | 350.0 |  865.0 | 255.0 | 275.0 |  530 | 2880.0 | NA |\n",
       "| 20 |  68 |  53.5 |  332.8 | 1474.4 | 2124.2 | 149.6 |  730.0 | 227.6 | 229.3 |  457 | 2497.0 | NA |\n",
       "| 23 |  72 |  73.0 |  449.0 |     NA | 2715.0 | 127.0 | 1044.0 |    NA |    NA |  605 |     NA | NA |\n",
       "| 21 |  73 |  54.5 |  282.5 | 1220.0 | 2795.0 | 136.5 |  919.0 | 277.9 | 262.8 |  541 | 2515.0 | NA |\n",
       "| 22 |  73 |  68.5 |  355.0 | 1790.0 | 3875.0 | 145.0 | 1390.0 | 290.0 | 335.0 |  625 | 3535.0 | NA |\n",
       "| 24 |  80 |  74.0 |  310.0 | 1510.0 | 3130.0 | 118.3 |  985.8 | 285.0 | 300.0 |  585 | 3410.0 | NA |\n",
       "| 25 |  84 |  68.0 |  532.0 |     NA | 2937.0 | 160.0 | 1209.0 |    NA |    NA |  620 |     NA | NA |\n",
       "| 26 |  96 |  97.0 |  667.0 |     NA | 4241.0 | 213.0 | 1542.0 |    NA |    NA |  757 |     NA | NA |\n",
       "| 27 | 106 | 101.0 |  440.0 | 2735.0 | 3580.0 | 305.0 | 1260.0 | 368.4 | 391.7 |  760 | 3570.0 | NA |\n",
       "| 28 | 108 | 128.0 | 1012.0 |     NA | 5172.0 | 284.0 | 1734.0 |    NA |    NA |  888 |     NA | NA |\n",
       "| 29 | 118 |  95.0 |  505.0 | 2380.0 | 3720.0 | 425.0 | 1245.0 | 385.0 | 400.0 |  785 | 3565.0 | NA |\n",
       "| 30 | 120 | 179.0 | 1075.0 |     NA | 8309.0 |    NA | 2500.0 |    NA |    NA | 1410 |     NA | NA |\n",
       "\n"
      ],
      "text/plain": [
       "   age weight heart  lung   liver  spleen stomach leftkid rightkid kidney\n",
       "2   33  27.5   127.7  605.0  855.0  52.5   338.2  107.9   107.5     215  \n",
       "1   10  24.3    93.2  436.0  435.4  24.5   120.4   62.8    63.9     127  \n",
       "3   10  22.0    84.5  380.0  530.0  31.3   237.6   53.5    58.0     112  \n",
       "4   10  18.5    85.4  493.9  542.0  30.8   193.1   66.0    73.2     139  \n",
       "5   12  28.0   182.0     NA  949.0  46.0   400.0     NA      NA     238  \n",
       "6   18  23.8   130.0  550.0 1100.0  51.0   443.2  145.9   147.3     293  \n",
       "7   19  18.5    98.8  470.0  627.2  40.0   265.9   92.7    88.5     181  \n",
       "8   23  18.0   117.3  592.5  632.9  28.9   280.8   86.1    86.0     172  \n",
       "10  31  34.0   180.0  605.0 1040.0  45.0   425.0  125.0   120.0     245  \n",
       "9   33  28.5   150.4  799.9 1047.1  41.3   476.2  124.5   123.9     248  \n",
       "11  44  35.8   145.5  995.0 1525.0  90.0   475.6  176.0   156.3     332  \n",
       "12  46  30.3   140.0  785.0 1210.0  60.2   360.3  127.3   104.9     232  \n",
       "13  46  33.0   168.1  910.0 1195.0  89.3   384.9  123.4   125.2     249  \n",
       "14  50  42.0   205.0 1115.0 1415.0  80.0   560.0  145.0   160.0     305  \n",
       "15  50  37.5   205.0 1142.6 1099.8  57.5   543.0  143.3   131.1     274  \n",
       "16  60  55.0   320.9 1465.0 2250.0  96.5   961.8  226.5   200.7     427  \n",
       "17  59  50.5   255.0 1250.0 2115.0 135.0   850.0  200.0   215.0     415  \n",
       "18  66  57.5   370.0 1580.0 2195.0 140.0   720.0  220.0   230.0     450  \n",
       "19  68  67.5   465.0 2000.0 2990.0 350.0   865.0  255.0   275.0     530  \n",
       "20  68  53.5   332.8 1474.4 2124.2 149.6   730.0  227.6   229.3     457  \n",
       "23  72  73.0   449.0     NA 2715.0 127.0  1044.0     NA      NA     605  \n",
       "21  73  54.5   282.5 1220.0 2795.0 136.5   919.0  277.9   262.8     541  \n",
       "22  73  68.5   355.0 1790.0 3875.0 145.0  1390.0  290.0   335.0     625  \n",
       "24  80  74.0   310.0 1510.0 3130.0 118.3   985.8  285.0   300.0     585  \n",
       "25  84  68.0   532.0     NA 2937.0 160.0  1209.0     NA      NA     620  \n",
       "26  96  97.0   667.0     NA 4241.0 213.0  1542.0     NA      NA     757  \n",
       "27 106 101.0   440.0 2735.0 3580.0 305.0  1260.0  368.4   391.7     760  \n",
       "28 108 128.0  1012.0     NA 5172.0 284.0  1734.0     NA      NA     888  \n",
       "29 118  95.0   505.0 2380.0 3720.0 425.0  1245.0  385.0   400.0     785  \n",
       "30 120 179.0  1075.0     NA 8309.0    NA  2500.0     NA      NA    1410  \n",
       "   intestines group\n",
       "2   885.0     NA   \n",
       "1   711.4     NA   \n",
       "3   765.0     NA   \n",
       "4   849.6     NA   \n",
       "5      NA     NA   \n",
       "6  1210.0     NA   \n",
       "7   959.0     NA   \n",
       "8   855.4     NA   \n",
       "10 1540.0     NA   \n",
       "9  1644.0     NA   \n",
       "11 2405.0     NA   \n",
       "12 1345.0     NA   \n",
       "13 1460.0     NA   \n",
       "14 1745.0     NA   \n",
       "15 1372.0     NA   \n",
       "16 2805.0     NA   \n",
       "17 2675.0     NA   \n",
       "18 2490.0     NA   \n",
       "19 2880.0     NA   \n",
       "20 2497.0     NA   \n",
       "23     NA     NA   \n",
       "21 2515.0     NA   \n",
       "22 3535.0     NA   \n",
       "24 3410.0     NA   \n",
       "25     NA     NA   \n",
       "26     NA     NA   \n",
       "27 3570.0     NA   \n",
       "28     NA     NA   \n",
       "29 3565.0     NA   \n",
       "30     NA     NA   "
      ]
     },
     "metadata": {},
     "output_type": "display_data"
    }
   ],
   "source": [
    "ds"
   ]
  },
  {
   "cell_type": "code",
   "execution_count": 71,
   "id": "0e2cde3b",
   "metadata": {},
   "outputs": [],
   "source": [
    "ds$group = 'old'"
   ]
  },
  {
   "cell_type": "code",
   "execution_count": 72,
   "id": "907c4044",
   "metadata": {},
   "outputs": [],
   "source": [
    "ds[ds$age < mean(ds$age), 'group'] = 'young'"
   ]
  },
  {
   "cell_type": "code",
   "execution_count": 73,
   "id": "c0ce240b",
   "metadata": {},
   "outputs": [
    {
     "data": {
      "text/html": [
       "<table class=\"dataframe\">\n",
       "<caption>A data.frame: 30 × 12</caption>\n",
       "<thead>\n",
       "\t<tr><th></th><th scope=col>age</th><th scope=col>weight</th><th scope=col>heart</th><th scope=col>lung</th><th scope=col>liver</th><th scope=col>spleen</th><th scope=col>stomach</th><th scope=col>leftkid</th><th scope=col>rightkid</th><th scope=col>kidney</th><th scope=col>intestines</th><th scope=col>group</th></tr>\n",
       "\t<tr><th></th><th scope=col>&lt;dbl&gt;</th><th scope=col>&lt;dbl&gt;</th><th scope=col>&lt;dbl&gt;</th><th scope=col>&lt;dbl&gt;</th><th scope=col>&lt;dbl&gt;</th><th scope=col>&lt;dbl&gt;</th><th scope=col>&lt;dbl&gt;</th><th scope=col>&lt;dbl&gt;</th><th scope=col>&lt;dbl&gt;</th><th scope=col>&lt;dbl&gt;</th><th scope=col>&lt;dbl&gt;</th><th scope=col>&lt;chr&gt;</th></tr>\n",
       "</thead>\n",
       "<tbody>\n",
       "\t<tr><th scope=row>2</th><td> 33</td><td> 27.5</td><td> 127.7</td><td> 605.0</td><td> 855.0</td><td> 52.5</td><td> 338.2</td><td>107.9</td><td>107.5</td><td> 215</td><td> 885.0</td><td>young</td></tr>\n",
       "\t<tr><th scope=row>1</th><td> 10</td><td> 24.3</td><td>  93.2</td><td> 436.0</td><td> 435.4</td><td> 24.5</td><td> 120.4</td><td> 62.8</td><td> 63.9</td><td> 127</td><td> 711.4</td><td>young</td></tr>\n",
       "\t<tr><th scope=row>3</th><td> 10</td><td> 22.0</td><td>  84.5</td><td> 380.0</td><td> 530.0</td><td> 31.3</td><td> 237.6</td><td> 53.5</td><td> 58.0</td><td> 112</td><td> 765.0</td><td>young</td></tr>\n",
       "\t<tr><th scope=row>4</th><td> 10</td><td> 18.5</td><td>  85.4</td><td> 493.9</td><td> 542.0</td><td> 30.8</td><td> 193.1</td><td> 66.0</td><td> 73.2</td><td> 139</td><td> 849.6</td><td>young</td></tr>\n",
       "\t<tr><th scope=row>5</th><td> 12</td><td> 28.0</td><td> 182.0</td><td>    NA</td><td> 949.0</td><td> 46.0</td><td> 400.0</td><td>   NA</td><td>   NA</td><td> 238</td><td>    NA</td><td>young</td></tr>\n",
       "\t<tr><th scope=row>6</th><td> 18</td><td> 23.8</td><td> 130.0</td><td> 550.0</td><td>1100.0</td><td> 51.0</td><td> 443.2</td><td>145.9</td><td>147.3</td><td> 293</td><td>1210.0</td><td>young</td></tr>\n",
       "\t<tr><th scope=row>7</th><td> 19</td><td> 18.5</td><td>  98.8</td><td> 470.0</td><td> 627.2</td><td> 40.0</td><td> 265.9</td><td> 92.7</td><td> 88.5</td><td> 181</td><td> 959.0</td><td>young</td></tr>\n",
       "\t<tr><th scope=row>8</th><td> 23</td><td> 18.0</td><td> 117.3</td><td> 592.5</td><td> 632.9</td><td> 28.9</td><td> 280.8</td><td> 86.1</td><td> 86.0</td><td> 172</td><td> 855.4</td><td>young</td></tr>\n",
       "\t<tr><th scope=row>10</th><td> 31</td><td> 34.0</td><td> 180.0</td><td> 605.0</td><td>1040.0</td><td> 45.0</td><td> 425.0</td><td>125.0</td><td>120.0</td><td> 245</td><td>1540.0</td><td>young</td></tr>\n",
       "\t<tr><th scope=row>9</th><td> 33</td><td> 28.5</td><td> 150.4</td><td> 799.9</td><td>1047.1</td><td> 41.3</td><td> 476.2</td><td>124.5</td><td>123.9</td><td> 248</td><td>1644.0</td><td>young</td></tr>\n",
       "\t<tr><th scope=row>11</th><td> 44</td><td> 35.8</td><td> 145.5</td><td> 995.0</td><td>1525.0</td><td> 90.0</td><td> 475.6</td><td>176.0</td><td>156.3</td><td> 332</td><td>2405.0</td><td>young</td></tr>\n",
       "\t<tr><th scope=row>12</th><td> 46</td><td> 30.3</td><td> 140.0</td><td> 785.0</td><td>1210.0</td><td> 60.2</td><td> 360.3</td><td>127.3</td><td>104.9</td><td> 232</td><td>1345.0</td><td>young</td></tr>\n",
       "\t<tr><th scope=row>13</th><td> 46</td><td> 33.0</td><td> 168.1</td><td> 910.0</td><td>1195.0</td><td> 89.3</td><td> 384.9</td><td>123.4</td><td>125.2</td><td> 249</td><td>1460.0</td><td>young</td></tr>\n",
       "\t<tr><th scope=row>14</th><td> 50</td><td> 42.0</td><td> 205.0</td><td>1115.0</td><td>1415.0</td><td> 80.0</td><td> 560.0</td><td>145.0</td><td>160.0</td><td> 305</td><td>1745.0</td><td>young</td></tr>\n",
       "\t<tr><th scope=row>15</th><td> 50</td><td> 37.5</td><td> 205.0</td><td>1142.6</td><td>1099.8</td><td> 57.5</td><td> 543.0</td><td>143.3</td><td>131.1</td><td> 274</td><td>1372.0</td><td>young</td></tr>\n",
       "\t<tr><th scope=row>16</th><td> 60</td><td> 55.0</td><td> 320.9</td><td>1465.0</td><td>2250.0</td><td> 96.5</td><td> 961.8</td><td>226.5</td><td>200.7</td><td> 427</td><td>2805.0</td><td>old  </td></tr>\n",
       "\t<tr><th scope=row>17</th><td> 59</td><td> 50.5</td><td> 255.0</td><td>1250.0</td><td>2115.0</td><td>135.0</td><td> 850.0</td><td>200.0</td><td>215.0</td><td> 415</td><td>2675.0</td><td>old  </td></tr>\n",
       "\t<tr><th scope=row>18</th><td> 66</td><td> 57.5</td><td> 370.0</td><td>1580.0</td><td>2195.0</td><td>140.0</td><td> 720.0</td><td>220.0</td><td>230.0</td><td> 450</td><td>2490.0</td><td>old  </td></tr>\n",
       "\t<tr><th scope=row>19</th><td> 68</td><td> 67.5</td><td> 465.0</td><td>2000.0</td><td>2990.0</td><td>350.0</td><td> 865.0</td><td>255.0</td><td>275.0</td><td> 530</td><td>2880.0</td><td>old  </td></tr>\n",
       "\t<tr><th scope=row>20</th><td> 68</td><td> 53.5</td><td> 332.8</td><td>1474.4</td><td>2124.2</td><td>149.6</td><td> 730.0</td><td>227.6</td><td>229.3</td><td> 457</td><td>2497.0</td><td>old  </td></tr>\n",
       "\t<tr><th scope=row>23</th><td> 72</td><td> 73.0</td><td> 449.0</td><td>    NA</td><td>2715.0</td><td>127.0</td><td>1044.0</td><td>   NA</td><td>   NA</td><td> 605</td><td>    NA</td><td>old  </td></tr>\n",
       "\t<tr><th scope=row>21</th><td> 73</td><td> 54.5</td><td> 282.5</td><td>1220.0</td><td>2795.0</td><td>136.5</td><td> 919.0</td><td>277.9</td><td>262.8</td><td> 541</td><td>2515.0</td><td>old  </td></tr>\n",
       "\t<tr><th scope=row>22</th><td> 73</td><td> 68.5</td><td> 355.0</td><td>1790.0</td><td>3875.0</td><td>145.0</td><td>1390.0</td><td>290.0</td><td>335.0</td><td> 625</td><td>3535.0</td><td>old  </td></tr>\n",
       "\t<tr><th scope=row>24</th><td> 80</td><td> 74.0</td><td> 310.0</td><td>1510.0</td><td>3130.0</td><td>118.3</td><td> 985.8</td><td>285.0</td><td>300.0</td><td> 585</td><td>3410.0</td><td>old  </td></tr>\n",
       "\t<tr><th scope=row>25</th><td> 84</td><td> 68.0</td><td> 532.0</td><td>    NA</td><td>2937.0</td><td>160.0</td><td>1209.0</td><td>   NA</td><td>   NA</td><td> 620</td><td>    NA</td><td>old  </td></tr>\n",
       "\t<tr><th scope=row>26</th><td> 96</td><td> 97.0</td><td> 667.0</td><td>    NA</td><td>4241.0</td><td>213.0</td><td>1542.0</td><td>   NA</td><td>   NA</td><td> 757</td><td>    NA</td><td>old  </td></tr>\n",
       "\t<tr><th scope=row>27</th><td>106</td><td>101.0</td><td> 440.0</td><td>2735.0</td><td>3580.0</td><td>305.0</td><td>1260.0</td><td>368.4</td><td>391.7</td><td> 760</td><td>3570.0</td><td>old  </td></tr>\n",
       "\t<tr><th scope=row>28</th><td>108</td><td>128.0</td><td>1012.0</td><td>    NA</td><td>5172.0</td><td>284.0</td><td>1734.0</td><td>   NA</td><td>   NA</td><td> 888</td><td>    NA</td><td>old  </td></tr>\n",
       "\t<tr><th scope=row>29</th><td>118</td><td> 95.0</td><td> 505.0</td><td>2380.0</td><td>3720.0</td><td>425.0</td><td>1245.0</td><td>385.0</td><td>400.0</td><td> 785</td><td>3565.0</td><td>old  </td></tr>\n",
       "\t<tr><th scope=row>30</th><td>120</td><td>179.0</td><td>1075.0</td><td>    NA</td><td>8309.0</td><td>   NA</td><td>2500.0</td><td>   NA</td><td>   NA</td><td>1410</td><td>    NA</td><td>old  </td></tr>\n",
       "</tbody>\n",
       "</table>\n"
      ],
      "text/latex": [
       "A data.frame: 30 × 12\n",
       "\\begin{tabular}{r|llllllllllll}\n",
       "  & age & weight & heart & lung & liver & spleen & stomach & leftkid & rightkid & kidney & intestines & group\\\\\n",
       "  & <dbl> & <dbl> & <dbl> & <dbl> & <dbl> & <dbl> & <dbl> & <dbl> & <dbl> & <dbl> & <dbl> & <chr>\\\\\n",
       "\\hline\n",
       "\t2 &  33 &  27.5 &  127.7 &  605.0 &  855.0 &  52.5 &  338.2 & 107.9 & 107.5 &  215 &  885.0 & young\\\\\n",
       "\t1 &  10 &  24.3 &   93.2 &  436.0 &  435.4 &  24.5 &  120.4 &  62.8 &  63.9 &  127 &  711.4 & young\\\\\n",
       "\t3 &  10 &  22.0 &   84.5 &  380.0 &  530.0 &  31.3 &  237.6 &  53.5 &  58.0 &  112 &  765.0 & young\\\\\n",
       "\t4 &  10 &  18.5 &   85.4 &  493.9 &  542.0 &  30.8 &  193.1 &  66.0 &  73.2 &  139 &  849.6 & young\\\\\n",
       "\t5 &  12 &  28.0 &  182.0 &     NA &  949.0 &  46.0 &  400.0 &    NA &    NA &  238 &     NA & young\\\\\n",
       "\t6 &  18 &  23.8 &  130.0 &  550.0 & 1100.0 &  51.0 &  443.2 & 145.9 & 147.3 &  293 & 1210.0 & young\\\\\n",
       "\t7 &  19 &  18.5 &   98.8 &  470.0 &  627.2 &  40.0 &  265.9 &  92.7 &  88.5 &  181 &  959.0 & young\\\\\n",
       "\t8 &  23 &  18.0 &  117.3 &  592.5 &  632.9 &  28.9 &  280.8 &  86.1 &  86.0 &  172 &  855.4 & young\\\\\n",
       "\t10 &  31 &  34.0 &  180.0 &  605.0 & 1040.0 &  45.0 &  425.0 & 125.0 & 120.0 &  245 & 1540.0 & young\\\\\n",
       "\t9 &  33 &  28.5 &  150.4 &  799.9 & 1047.1 &  41.3 &  476.2 & 124.5 & 123.9 &  248 & 1644.0 & young\\\\\n",
       "\t11 &  44 &  35.8 &  145.5 &  995.0 & 1525.0 &  90.0 &  475.6 & 176.0 & 156.3 &  332 & 2405.0 & young\\\\\n",
       "\t12 &  46 &  30.3 &  140.0 &  785.0 & 1210.0 &  60.2 &  360.3 & 127.3 & 104.9 &  232 & 1345.0 & young\\\\\n",
       "\t13 &  46 &  33.0 &  168.1 &  910.0 & 1195.0 &  89.3 &  384.9 & 123.4 & 125.2 &  249 & 1460.0 & young\\\\\n",
       "\t14 &  50 &  42.0 &  205.0 & 1115.0 & 1415.0 &  80.0 &  560.0 & 145.0 & 160.0 &  305 & 1745.0 & young\\\\\n",
       "\t15 &  50 &  37.5 &  205.0 & 1142.6 & 1099.8 &  57.5 &  543.0 & 143.3 & 131.1 &  274 & 1372.0 & young\\\\\n",
       "\t16 &  60 &  55.0 &  320.9 & 1465.0 & 2250.0 &  96.5 &  961.8 & 226.5 & 200.7 &  427 & 2805.0 & old  \\\\\n",
       "\t17 &  59 &  50.5 &  255.0 & 1250.0 & 2115.0 & 135.0 &  850.0 & 200.0 & 215.0 &  415 & 2675.0 & old  \\\\\n",
       "\t18 &  66 &  57.5 &  370.0 & 1580.0 & 2195.0 & 140.0 &  720.0 & 220.0 & 230.0 &  450 & 2490.0 & old  \\\\\n",
       "\t19 &  68 &  67.5 &  465.0 & 2000.0 & 2990.0 & 350.0 &  865.0 & 255.0 & 275.0 &  530 & 2880.0 & old  \\\\\n",
       "\t20 &  68 &  53.5 &  332.8 & 1474.4 & 2124.2 & 149.6 &  730.0 & 227.6 & 229.3 &  457 & 2497.0 & old  \\\\\n",
       "\t23 &  72 &  73.0 &  449.0 &     NA & 2715.0 & 127.0 & 1044.0 &    NA &    NA &  605 &     NA & old  \\\\\n",
       "\t21 &  73 &  54.5 &  282.5 & 1220.0 & 2795.0 & 136.5 &  919.0 & 277.9 & 262.8 &  541 & 2515.0 & old  \\\\\n",
       "\t22 &  73 &  68.5 &  355.0 & 1790.0 & 3875.0 & 145.0 & 1390.0 & 290.0 & 335.0 &  625 & 3535.0 & old  \\\\\n",
       "\t24 &  80 &  74.0 &  310.0 & 1510.0 & 3130.0 & 118.3 &  985.8 & 285.0 & 300.0 &  585 & 3410.0 & old  \\\\\n",
       "\t25 &  84 &  68.0 &  532.0 &     NA & 2937.0 & 160.0 & 1209.0 &    NA &    NA &  620 &     NA & old  \\\\\n",
       "\t26 &  96 &  97.0 &  667.0 &     NA & 4241.0 & 213.0 & 1542.0 &    NA &    NA &  757 &     NA & old  \\\\\n",
       "\t27 & 106 & 101.0 &  440.0 & 2735.0 & 3580.0 & 305.0 & 1260.0 & 368.4 & 391.7 &  760 & 3570.0 & old  \\\\\n",
       "\t28 & 108 & 128.0 & 1012.0 &     NA & 5172.0 & 284.0 & 1734.0 &    NA &    NA &  888 &     NA & old  \\\\\n",
       "\t29 & 118 &  95.0 &  505.0 & 2380.0 & 3720.0 & 425.0 & 1245.0 & 385.0 & 400.0 &  785 & 3565.0 & old  \\\\\n",
       "\t30 & 120 & 179.0 & 1075.0 &     NA & 8309.0 &    NA & 2500.0 &    NA &    NA & 1410 &     NA & old  \\\\\n",
       "\\end{tabular}\n"
      ],
      "text/markdown": [
       "\n",
       "A data.frame: 30 × 12\n",
       "\n",
       "| <!--/--> | age &lt;dbl&gt; | weight &lt;dbl&gt; | heart &lt;dbl&gt; | lung &lt;dbl&gt; | liver &lt;dbl&gt; | spleen &lt;dbl&gt; | stomach &lt;dbl&gt; | leftkid &lt;dbl&gt; | rightkid &lt;dbl&gt; | kidney &lt;dbl&gt; | intestines &lt;dbl&gt; | group &lt;chr&gt; |\n",
       "|---|---|---|---|---|---|---|---|---|---|---|---|---|\n",
       "| 2 |  33 |  27.5 |  127.7 |  605.0 |  855.0 |  52.5 |  338.2 | 107.9 | 107.5 |  215 |  885.0 | young |\n",
       "| 1 |  10 |  24.3 |   93.2 |  436.0 |  435.4 |  24.5 |  120.4 |  62.8 |  63.9 |  127 |  711.4 | young |\n",
       "| 3 |  10 |  22.0 |   84.5 |  380.0 |  530.0 |  31.3 |  237.6 |  53.5 |  58.0 |  112 |  765.0 | young |\n",
       "| 4 |  10 |  18.5 |   85.4 |  493.9 |  542.0 |  30.8 |  193.1 |  66.0 |  73.2 |  139 |  849.6 | young |\n",
       "| 5 |  12 |  28.0 |  182.0 |     NA |  949.0 |  46.0 |  400.0 |    NA |    NA |  238 |     NA | young |\n",
       "| 6 |  18 |  23.8 |  130.0 |  550.0 | 1100.0 |  51.0 |  443.2 | 145.9 | 147.3 |  293 | 1210.0 | young |\n",
       "| 7 |  19 |  18.5 |   98.8 |  470.0 |  627.2 |  40.0 |  265.9 |  92.7 |  88.5 |  181 |  959.0 | young |\n",
       "| 8 |  23 |  18.0 |  117.3 |  592.5 |  632.9 |  28.9 |  280.8 |  86.1 |  86.0 |  172 |  855.4 | young |\n",
       "| 10 |  31 |  34.0 |  180.0 |  605.0 | 1040.0 |  45.0 |  425.0 | 125.0 | 120.0 |  245 | 1540.0 | young |\n",
       "| 9 |  33 |  28.5 |  150.4 |  799.9 | 1047.1 |  41.3 |  476.2 | 124.5 | 123.9 |  248 | 1644.0 | young |\n",
       "| 11 |  44 |  35.8 |  145.5 |  995.0 | 1525.0 |  90.0 |  475.6 | 176.0 | 156.3 |  332 | 2405.0 | young |\n",
       "| 12 |  46 |  30.3 |  140.0 |  785.0 | 1210.0 |  60.2 |  360.3 | 127.3 | 104.9 |  232 | 1345.0 | young |\n",
       "| 13 |  46 |  33.0 |  168.1 |  910.0 | 1195.0 |  89.3 |  384.9 | 123.4 | 125.2 |  249 | 1460.0 | young |\n",
       "| 14 |  50 |  42.0 |  205.0 | 1115.0 | 1415.0 |  80.0 |  560.0 | 145.0 | 160.0 |  305 | 1745.0 | young |\n",
       "| 15 |  50 |  37.5 |  205.0 | 1142.6 | 1099.8 |  57.5 |  543.0 | 143.3 | 131.1 |  274 | 1372.0 | young |\n",
       "| 16 |  60 |  55.0 |  320.9 | 1465.0 | 2250.0 |  96.5 |  961.8 | 226.5 | 200.7 |  427 | 2805.0 | old   |\n",
       "| 17 |  59 |  50.5 |  255.0 | 1250.0 | 2115.0 | 135.0 |  850.0 | 200.0 | 215.0 |  415 | 2675.0 | old   |\n",
       "| 18 |  66 |  57.5 |  370.0 | 1580.0 | 2195.0 | 140.0 |  720.0 | 220.0 | 230.0 |  450 | 2490.0 | old   |\n",
       "| 19 |  68 |  67.5 |  465.0 | 2000.0 | 2990.0 | 350.0 |  865.0 | 255.0 | 275.0 |  530 | 2880.0 | old   |\n",
       "| 20 |  68 |  53.5 |  332.8 | 1474.4 | 2124.2 | 149.6 |  730.0 | 227.6 | 229.3 |  457 | 2497.0 | old   |\n",
       "| 23 |  72 |  73.0 |  449.0 |     NA | 2715.0 | 127.0 | 1044.0 |    NA |    NA |  605 |     NA | old   |\n",
       "| 21 |  73 |  54.5 |  282.5 | 1220.0 | 2795.0 | 136.5 |  919.0 | 277.9 | 262.8 |  541 | 2515.0 | old   |\n",
       "| 22 |  73 |  68.5 |  355.0 | 1790.0 | 3875.0 | 145.0 | 1390.0 | 290.0 | 335.0 |  625 | 3535.0 | old   |\n",
       "| 24 |  80 |  74.0 |  310.0 | 1510.0 | 3130.0 | 118.3 |  985.8 | 285.0 | 300.0 |  585 | 3410.0 | old   |\n",
       "| 25 |  84 |  68.0 |  532.0 |     NA | 2937.0 | 160.0 | 1209.0 |    NA |    NA |  620 |     NA | old   |\n",
       "| 26 |  96 |  97.0 |  667.0 |     NA | 4241.0 | 213.0 | 1542.0 |    NA |    NA |  757 |     NA | old   |\n",
       "| 27 | 106 | 101.0 |  440.0 | 2735.0 | 3580.0 | 305.0 | 1260.0 | 368.4 | 391.7 |  760 | 3570.0 | old   |\n",
       "| 28 | 108 | 128.0 | 1012.0 |     NA | 5172.0 | 284.0 | 1734.0 |    NA |    NA |  888 |     NA | old   |\n",
       "| 29 | 118 |  95.0 |  505.0 | 2380.0 | 3720.0 | 425.0 | 1245.0 | 385.0 | 400.0 |  785 | 3565.0 | old   |\n",
       "| 30 | 120 | 179.0 | 1075.0 |     NA | 8309.0 |    NA | 2500.0 |    NA |    NA | 1410 |     NA | old   |\n",
       "\n"
      ],
      "text/plain": [
       "   age weight heart  lung   liver  spleen stomach leftkid rightkid kidney\n",
       "2   33  27.5   127.7  605.0  855.0  52.5   338.2  107.9   107.5     215  \n",
       "1   10  24.3    93.2  436.0  435.4  24.5   120.4   62.8    63.9     127  \n",
       "3   10  22.0    84.5  380.0  530.0  31.3   237.6   53.5    58.0     112  \n",
       "4   10  18.5    85.4  493.9  542.0  30.8   193.1   66.0    73.2     139  \n",
       "5   12  28.0   182.0     NA  949.0  46.0   400.0     NA      NA     238  \n",
       "6   18  23.8   130.0  550.0 1100.0  51.0   443.2  145.9   147.3     293  \n",
       "7   19  18.5    98.8  470.0  627.2  40.0   265.9   92.7    88.5     181  \n",
       "8   23  18.0   117.3  592.5  632.9  28.9   280.8   86.1    86.0     172  \n",
       "10  31  34.0   180.0  605.0 1040.0  45.0   425.0  125.0   120.0     245  \n",
       "9   33  28.5   150.4  799.9 1047.1  41.3   476.2  124.5   123.9     248  \n",
       "11  44  35.8   145.5  995.0 1525.0  90.0   475.6  176.0   156.3     332  \n",
       "12  46  30.3   140.0  785.0 1210.0  60.2   360.3  127.3   104.9     232  \n",
       "13  46  33.0   168.1  910.0 1195.0  89.3   384.9  123.4   125.2     249  \n",
       "14  50  42.0   205.0 1115.0 1415.0  80.0   560.0  145.0   160.0     305  \n",
       "15  50  37.5   205.0 1142.6 1099.8  57.5   543.0  143.3   131.1     274  \n",
       "16  60  55.0   320.9 1465.0 2250.0  96.5   961.8  226.5   200.7     427  \n",
       "17  59  50.5   255.0 1250.0 2115.0 135.0   850.0  200.0   215.0     415  \n",
       "18  66  57.5   370.0 1580.0 2195.0 140.0   720.0  220.0   230.0     450  \n",
       "19  68  67.5   465.0 2000.0 2990.0 350.0   865.0  255.0   275.0     530  \n",
       "20  68  53.5   332.8 1474.4 2124.2 149.6   730.0  227.6   229.3     457  \n",
       "23  72  73.0   449.0     NA 2715.0 127.0  1044.0     NA      NA     605  \n",
       "21  73  54.5   282.5 1220.0 2795.0 136.5   919.0  277.9   262.8     541  \n",
       "22  73  68.5   355.0 1790.0 3875.0 145.0  1390.0  290.0   335.0     625  \n",
       "24  80  74.0   310.0 1510.0 3130.0 118.3   985.8  285.0   300.0     585  \n",
       "25  84  68.0   532.0     NA 2937.0 160.0  1209.0     NA      NA     620  \n",
       "26  96  97.0   667.0     NA 4241.0 213.0  1542.0     NA      NA     757  \n",
       "27 106 101.0   440.0 2735.0 3580.0 305.0  1260.0  368.4   391.7     760  \n",
       "28 108 128.0  1012.0     NA 5172.0 284.0  1734.0     NA      NA     888  \n",
       "29 118  95.0   505.0 2380.0 3720.0 425.0  1245.0  385.0   400.0     785  \n",
       "30 120 179.0  1075.0     NA 8309.0    NA  2500.0     NA      NA    1410  \n",
       "   intestines group\n",
       "2   885.0     young\n",
       "1   711.4     young\n",
       "3   765.0     young\n",
       "4   849.6     young\n",
       "5      NA     young\n",
       "6  1210.0     young\n",
       "7   959.0     young\n",
       "8   855.4     young\n",
       "10 1540.0     young\n",
       "9  1644.0     young\n",
       "11 2405.0     young\n",
       "12 1345.0     young\n",
       "13 1460.0     young\n",
       "14 1745.0     young\n",
       "15 1372.0     young\n",
       "16 2805.0     old  \n",
       "17 2675.0     old  \n",
       "18 2490.0     old  \n",
       "19 2880.0     old  \n",
       "20 2497.0     old  \n",
       "23     NA     old  \n",
       "21 2515.0     old  \n",
       "22 3535.0     old  \n",
       "24 3410.0     old  \n",
       "25     NA     old  \n",
       "26     NA     old  \n",
       "27 3570.0     old  \n",
       "28     NA     old  \n",
       "29 3565.0     old  \n",
       "30     NA     old  "
      ]
     },
     "metadata": {},
     "output_type": "display_data"
    }
   ],
   "source": [
    "ds"
   ]
  },
  {
   "cell_type": "code",
   "execution_count": 78,
   "id": "74191222",
   "metadata": {},
   "outputs": [
    {
     "data": {
      "image/png": "[encoded data removed]",
      "text/plain": [
       "plot without title"
      ]
     },
     "metadata": {
      "image/png": {
       "height": 420,
       "width": 420
      }
     },
     "output_type": "display_data"
    }
   ],
   "source": [
    "boxplot(ds$age~ds$group,\n",
    "       col = c('orange','green'))"
   ]
  },
  {
   "cell_type": "code",
   "execution_count": 79,
   "id": "fe4e5578",
   "metadata": {},
   "outputs": [
    {
     "data": {
      "text/html": [
       "<table class=\"dataframe\">\n",
       "<caption>A data.frame: 30 × 12</caption>\n",
       "<thead>\n",
       "\t<tr><th></th><th scope=col>age</th><th scope=col>weight</th><th scope=col>heart</th><th scope=col>lung</th><th scope=col>liver</th><th scope=col>spleen</th><th scope=col>stomach</th><th scope=col>leftkid</th><th scope=col>rightkid</th><th scope=col>kidney</th><th scope=col>intestines</th><th scope=col>group</th></tr>\n",
       "\t<tr><th></th><th scope=col>&lt;dbl&gt;</th><th scope=col>&lt;dbl&gt;</th><th scope=col>&lt;dbl&gt;</th><th scope=col>&lt;dbl&gt;</th><th scope=col>&lt;dbl&gt;</th><th scope=col>&lt;dbl&gt;</th><th scope=col>&lt;dbl&gt;</th><th scope=col>&lt;dbl&gt;</th><th scope=col>&lt;dbl&gt;</th><th scope=col>&lt;dbl&gt;</th><th scope=col>&lt;dbl&gt;</th><th scope=col>&lt;chr&gt;</th></tr>\n",
       "</thead>\n",
       "<tbody>\n",
       "\t<tr><th scope=row>2</th><td> 33</td><td> 27.5</td><td> 127.7</td><td> 605.0</td><td> 855.0</td><td> 52.5</td><td> 338.2</td><td>107.9</td><td>107.5</td><td> 215</td><td> 885.0</td><td>young</td></tr>\n",
       "\t<tr><th scope=row>1</th><td> 10</td><td> 24.3</td><td>  93.2</td><td> 436.0</td><td> 435.4</td><td> 24.5</td><td> 120.4</td><td> 62.8</td><td> 63.9</td><td> 127</td><td> 711.4</td><td>young</td></tr>\n",
       "\t<tr><th scope=row>3</th><td> 10</td><td> 22.0</td><td>  84.5</td><td> 380.0</td><td> 530.0</td><td> 31.3</td><td> 237.6</td><td> 53.5</td><td> 58.0</td><td> 112</td><td> 765.0</td><td>young</td></tr>\n",
       "\t<tr><th scope=row>4</th><td> 10</td><td> 18.5</td><td>  85.4</td><td> 493.9</td><td> 542.0</td><td> 30.8</td><td> 193.1</td><td> 66.0</td><td> 73.2</td><td> 139</td><td> 849.6</td><td>young</td></tr>\n",
       "\t<tr><th scope=row>5</th><td> 12</td><td> 28.0</td><td> 182.0</td><td>    NA</td><td> 949.0</td><td> 46.0</td><td> 400.0</td><td>   NA</td><td>   NA</td><td> 238</td><td>    NA</td><td>young</td></tr>\n",
       "\t<tr><th scope=row>6</th><td> 18</td><td> 23.8</td><td> 130.0</td><td> 550.0</td><td>1100.0</td><td> 51.0</td><td> 443.2</td><td>145.9</td><td>147.3</td><td> 293</td><td>1210.0</td><td>young</td></tr>\n",
       "\t<tr><th scope=row>7</th><td> 19</td><td> 18.5</td><td>  98.8</td><td> 470.0</td><td> 627.2</td><td> 40.0</td><td> 265.9</td><td> 92.7</td><td> 88.5</td><td> 181</td><td> 959.0</td><td>young</td></tr>\n",
       "\t<tr><th scope=row>8</th><td> 23</td><td> 18.0</td><td> 117.3</td><td> 592.5</td><td> 632.9</td><td> 28.9</td><td> 280.8</td><td> 86.1</td><td> 86.0</td><td> 172</td><td> 855.4</td><td>young</td></tr>\n",
       "\t<tr><th scope=row>10</th><td> 31</td><td> 34.0</td><td> 180.0</td><td> 605.0</td><td>1040.0</td><td> 45.0</td><td> 425.0</td><td>125.0</td><td>120.0</td><td> 245</td><td>1540.0</td><td>young</td></tr>\n",
       "\t<tr><th scope=row>9</th><td> 33</td><td> 28.5</td><td> 150.4</td><td> 799.9</td><td>1047.1</td><td> 41.3</td><td> 476.2</td><td>124.5</td><td>123.9</td><td> 248</td><td>1644.0</td><td>young</td></tr>\n",
       "\t<tr><th scope=row>11</th><td> 44</td><td> 35.8</td><td> 145.5</td><td> 995.0</td><td>1525.0</td><td> 90.0</td><td> 475.6</td><td>176.0</td><td>156.3</td><td> 332</td><td>2405.0</td><td>young</td></tr>\n",
       "\t<tr><th scope=row>12</th><td> 46</td><td> 30.3</td><td> 140.0</td><td> 785.0</td><td>1210.0</td><td> 60.2</td><td> 360.3</td><td>127.3</td><td>104.9</td><td> 232</td><td>1345.0</td><td>young</td></tr>\n",
       "\t<tr><th scope=row>13</th><td> 46</td><td> 33.0</td><td> 168.1</td><td> 910.0</td><td>1195.0</td><td> 89.3</td><td> 384.9</td><td>123.4</td><td>125.2</td><td> 249</td><td>1460.0</td><td>young</td></tr>\n",
       "\t<tr><th scope=row>14</th><td> 50</td><td> 42.0</td><td> 205.0</td><td>1115.0</td><td>1415.0</td><td> 80.0</td><td> 560.0</td><td>145.0</td><td>160.0</td><td> 305</td><td>1745.0</td><td>young</td></tr>\n",
       "\t<tr><th scope=row>15</th><td> 50</td><td> 37.5</td><td> 205.0</td><td>1142.6</td><td>1099.8</td><td> 57.5</td><td> 543.0</td><td>143.3</td><td>131.1</td><td> 274</td><td>1372.0</td><td>young</td></tr>\n",
       "\t<tr><th scope=row>16</th><td> 60</td><td> 55.0</td><td> 320.9</td><td>1465.0</td><td>2250.0</td><td> 96.5</td><td> 961.8</td><td>226.5</td><td>200.7</td><td> 427</td><td>2805.0</td><td>old  </td></tr>\n",
       "\t<tr><th scope=row>17</th><td> 59</td><td> 50.5</td><td> 255.0</td><td>1250.0</td><td>2115.0</td><td>135.0</td><td> 850.0</td><td>200.0</td><td>215.0</td><td> 415</td><td>2675.0</td><td>old  </td></tr>\n",
       "\t<tr><th scope=row>18</th><td> 66</td><td> 57.5</td><td> 370.0</td><td>1580.0</td><td>2195.0</td><td>140.0</td><td> 720.0</td><td>220.0</td><td>230.0</td><td> 450</td><td>2490.0</td><td>old  </td></tr>\n",
       "\t<tr><th scope=row>19</th><td> 68</td><td> 67.5</td><td> 465.0</td><td>2000.0</td><td>2990.0</td><td>350.0</td><td> 865.0</td><td>255.0</td><td>275.0</td><td> 530</td><td>2880.0</td><td>old  </td></tr>\n",
       "\t<tr><th scope=row>20</th><td> 68</td><td> 53.5</td><td> 332.8</td><td>1474.4</td><td>2124.2</td><td>149.6</td><td> 730.0</td><td>227.6</td><td>229.3</td><td> 457</td><td>2497.0</td><td>old  </td></tr>\n",
       "\t<tr><th scope=row>23</th><td> 72</td><td> 73.0</td><td> 449.0</td><td>    NA</td><td>2715.0</td><td>127.0</td><td>1044.0</td><td>   NA</td><td>   NA</td><td> 605</td><td>    NA</td><td>old  </td></tr>\n",
       "\t<tr><th scope=row>21</th><td> 73</td><td> 54.5</td><td> 282.5</td><td>1220.0</td><td>2795.0</td><td>136.5</td><td> 919.0</td><td>277.9</td><td>262.8</td><td> 541</td><td>2515.0</td><td>old  </td></tr>\n",
       "\t<tr><th scope=row>22</th><td> 73</td><td> 68.5</td><td> 355.0</td><td>1790.0</td><td>3875.0</td><td>145.0</td><td>1390.0</td><td>290.0</td><td>335.0</td><td> 625</td><td>3535.0</td><td>old  </td></tr>\n",
       "\t<tr><th scope=row>24</th><td> 80</td><td> 74.0</td><td> 310.0</td><td>1510.0</td><td>3130.0</td><td>118.3</td><td> 985.8</td><td>285.0</td><td>300.0</td><td> 585</td><td>3410.0</td><td>old  </td></tr>\n",
       "\t<tr><th scope=row>25</th><td> 84</td><td> 68.0</td><td> 532.0</td><td>    NA</td><td>2937.0</td><td>160.0</td><td>1209.0</td><td>   NA</td><td>   NA</td><td> 620</td><td>    NA</td><td>old  </td></tr>\n",
       "\t<tr><th scope=row>26</th><td> 96</td><td> 97.0</td><td> 667.0</td><td>    NA</td><td>4241.0</td><td>213.0</td><td>1542.0</td><td>   NA</td><td>   NA</td><td> 757</td><td>    NA</td><td>old  </td></tr>\n",
       "\t<tr><th scope=row>27</th><td>106</td><td>101.0</td><td> 440.0</td><td>2735.0</td><td>3580.0</td><td>305.0</td><td>1260.0</td><td>368.4</td><td>391.7</td><td> 760</td><td>3570.0</td><td>old  </td></tr>\n",
       "\t<tr><th scope=row>28</th><td>108</td><td>128.0</td><td>1012.0</td><td>    NA</td><td>5172.0</td><td>284.0</td><td>1734.0</td><td>   NA</td><td>   NA</td><td> 888</td><td>    NA</td><td>old  </td></tr>\n",
       "\t<tr><th scope=row>29</th><td>118</td><td> 95.0</td><td> 505.0</td><td>2380.0</td><td>3720.0</td><td>425.0</td><td>1245.0</td><td>385.0</td><td>400.0</td><td> 785</td><td>3565.0</td><td>old  </td></tr>\n",
       "\t<tr><th scope=row>30</th><td>120</td><td>179.0</td><td>1075.0</td><td>    NA</td><td>8309.0</td><td>   NA</td><td>2500.0</td><td>   NA</td><td>   NA</td><td>1410</td><td>    NA</td><td>old  </td></tr>\n",
       "</tbody>\n",
       "</table>\n"
      ],
      "text/latex": [
       "A data.frame: 30 × 12\n",
       "\\begin{tabular}{r|llllllllllll}\n",
       "  & age & weight & heart & lung & liver & spleen & stomach & leftkid & rightkid & kidney & intestines & group\\\\\n",
       "  & <dbl> & <dbl> & <dbl> & <dbl> & <dbl> & <dbl> & <dbl> & <dbl> & <dbl> & <dbl> & <dbl> & <chr>\\\\\n",
       "\\hline\n",
       "\t2 &  33 &  27.5 &  127.7 &  605.0 &  855.0 &  52.5 &  338.2 & 107.9 & 107.5 &  215 &  885.0 & young\\\\\n",
       "\t1 &  10 &  24.3 &   93.2 &  436.0 &  435.4 &  24.5 &  120.4 &  62.8 &  63.9 &  127 &  711.4 & young\\\\\n",
       "\t3 &  10 &  22.0 &   84.5 &  380.0 &  530.0 &  31.3 &  237.6 &  53.5 &  58.0 &  112 &  765.0 & young\\\\\n",
       "\t4 &  10 &  18.5 &   85.4 &  493.9 &  542.0 &  30.8 &  193.1 &  66.0 &  73.2 &  139 &  849.6 & young\\\\\n",
       "\t5 &  12 &  28.0 &  182.0 &     NA &  949.0 &  46.0 &  400.0 &    NA &    NA &  238 &     NA & young\\\\\n",
       "\t6 &  18 &  23.8 &  130.0 &  550.0 & 1100.0 &  51.0 &  443.2 & 145.9 & 147.3 &  293 & 1210.0 & young\\\\\n",
       "\t7 &  19 &  18.5 &   98.8 &  470.0 &  627.2 &  40.0 &  265.9 &  92.7 &  88.5 &  181 &  959.0 & young\\\\\n",
       "\t8 &  23 &  18.0 &  117.3 &  592.5 &  632.9 &  28.9 &  280.8 &  86.1 &  86.0 &  172 &  855.4 & young\\\\\n",
       "\t10 &  31 &  34.0 &  180.0 &  605.0 & 1040.0 &  45.0 &  425.0 & 125.0 & 120.0 &  245 & 1540.0 & young\\\\\n",
       "\t9 &  33 &  28.5 &  150.4 &  799.9 & 1047.1 &  41.3 &  476.2 & 124.5 & 123.9 &  248 & 1644.0 & young\\\\\n",
       "\t11 &  44 &  35.8 &  145.5 &  995.0 & 1525.0 &  90.0 &  475.6 & 176.0 & 156.3 &  332 & 2405.0 & young\\\\\n",
       "\t12 &  46 &  30.3 &  140.0 &  785.0 & 1210.0 &  60.2 &  360.3 & 127.3 & 104.9 &  232 & 1345.0 & young\\\\\n",
       "\t13 &  46 &  33.0 &  168.1 &  910.0 & 1195.0 &  89.3 &  384.9 & 123.4 & 125.2 &  249 & 1460.0 & young\\\\\n",
       "\t14 &  50 &  42.0 &  205.0 & 1115.0 & 1415.0 &  80.0 &  560.0 & 145.0 & 160.0 &  305 & 1745.0 & young\\\\\n",
       "\t15 &  50 &  37.5 &  205.0 & 1142.6 & 1099.8 &  57.5 &  543.0 & 143.3 & 131.1 &  274 & 1372.0 & young\\\\\n",
       "\t16 &  60 &  55.0 &  320.9 & 1465.0 & 2250.0 &  96.5 &  961.8 & 226.5 & 200.7 &  427 & 2805.0 & old  \\\\\n",
       "\t17 &  59 &  50.5 &  255.0 & 1250.0 & 2115.0 & 135.0 &  850.0 & 200.0 & 215.0 &  415 & 2675.0 & old  \\\\\n",
       "\t18 &  66 &  57.5 &  370.0 & 1580.0 & 2195.0 & 140.0 &  720.0 & 220.0 & 230.0 &  450 & 2490.0 & old  \\\\\n",
       "\t19 &  68 &  67.5 &  465.0 & 2000.0 & 2990.0 & 350.0 &  865.0 & 255.0 & 275.0 &  530 & 2880.0 & old  \\\\\n",
       "\t20 &  68 &  53.5 &  332.8 & 1474.4 & 2124.2 & 149.6 &  730.0 & 227.6 & 229.3 &  457 & 2497.0 & old  \\\\\n",
       "\t23 &  72 &  73.0 &  449.0 &     NA & 2715.0 & 127.0 & 1044.0 &    NA &    NA &  605 &     NA & old  \\\\\n",
       "\t21 &  73 &  54.5 &  282.5 & 1220.0 & 2795.0 & 136.5 &  919.0 & 277.9 & 262.8 &  541 & 2515.0 & old  \\\\\n",
       "\t22 &  73 &  68.5 &  355.0 & 1790.0 & 3875.0 & 145.0 & 1390.0 & 290.0 & 335.0 &  625 & 3535.0 & old  \\\\\n",
       "\t24 &  80 &  74.0 &  310.0 & 1510.0 & 3130.0 & 118.3 &  985.8 & 285.0 & 300.0 &  585 & 3410.0 & old  \\\\\n",
       "\t25 &  84 &  68.0 &  532.0 &     NA & 2937.0 & 160.0 & 1209.0 &    NA &    NA &  620 &     NA & old  \\\\\n",
       "\t26 &  96 &  97.0 &  667.0 &     NA & 4241.0 & 213.0 & 1542.0 &    NA &    NA &  757 &     NA & old  \\\\\n",
       "\t27 & 106 & 101.0 &  440.0 & 2735.0 & 3580.0 & 305.0 & 1260.0 & 368.4 & 391.7 &  760 & 3570.0 & old  \\\\\n",
       "\t28 & 108 & 128.0 & 1012.0 &     NA & 5172.0 & 284.0 & 1734.0 &    NA &    NA &  888 &     NA & old  \\\\\n",
       "\t29 & 118 &  95.0 &  505.0 & 2380.0 & 3720.0 & 425.0 & 1245.0 & 385.0 & 400.0 &  785 & 3565.0 & old  \\\\\n",
       "\t30 & 120 & 179.0 & 1075.0 &     NA & 8309.0 &    NA & 2500.0 &    NA &    NA & 1410 &     NA & old  \\\\\n",
       "\\end{tabular}\n"
      ],
      "text/markdown": [
       "\n",
       "A data.frame: 30 × 12\n",
       "\n",
       "| <!--/--> | age &lt;dbl&gt; | weight &lt;dbl&gt; | heart &lt;dbl&gt; | lung &lt;dbl&gt; | liver &lt;dbl&gt; | spleen &lt;dbl&gt; | stomach &lt;dbl&gt; | leftkid &lt;dbl&gt; | rightkid &lt;dbl&gt; | kidney &lt;dbl&gt; | intestines &lt;dbl&gt; | group &lt;chr&gt; |\n",
       "|---|---|---|---|---|---|---|---|---|---|---|---|---|\n",
       "| 2 |  33 |  27.5 |  127.7 |  605.0 |  855.0 |  52.5 |  338.2 | 107.9 | 107.5 |  215 |  885.0 | young |\n",
       "| 1 |  10 |  24.3 |   93.2 |  436.0 |  435.4 |  24.5 |  120.4 |  62.8 |  63.9 |  127 |  711.4 | young |\n",
       "| 3 |  10 |  22.0 |   84.5 |  380.0 |  530.0 |  31.3 |  237.6 |  53.5 |  58.0 |  112 |  765.0 | young |\n",
       "| 4 |  10 |  18.5 |   85.4 |  493.9 |  542.0 |  30.8 |  193.1 |  66.0 |  73.2 |  139 |  849.6 | young |\n",
       "| 5 |  12 |  28.0 |  182.0 |     NA |  949.0 |  46.0 |  400.0 |    NA |    NA |  238 |     NA | young |\n",
       "| 6 |  18 |  23.8 |  130.0 |  550.0 | 1100.0 |  51.0 |  443.2 | 145.9 | 147.3 |  293 | 1210.0 | young |\n",
       "| 7 |  19 |  18.5 |   98.8 |  470.0 |  627.2 |  40.0 |  265.9 |  92.7 |  88.5 |  181 |  959.0 | young |\n",
       "| 8 |  23 |  18.0 |  117.3 |  592.5 |  632.9 |  28.9 |  280.8 |  86.1 |  86.0 |  172 |  855.4 | young |\n",
       "| 10 |  31 |  34.0 |  180.0 |  605.0 | 1040.0 |  45.0 |  425.0 | 125.0 | 120.0 |  245 | 1540.0 | young |\n",
       "| 9 |  33 |  28.5 |  150.4 |  799.9 | 1047.1 |  41.3 |  476.2 | 124.5 | 123.9 |  248 | 1644.0 | young |\n",
       "| 11 |  44 |  35.8 |  145.5 |  995.0 | 1525.0 |  90.0 |  475.6 | 176.0 | 156.3 |  332 | 2405.0 | young |\n",
       "| 12 |  46 |  30.3 |  140.0 |  785.0 | 1210.0 |  60.2 |  360.3 | 127.3 | 104.9 |  232 | 1345.0 | young |\n",
       "| 13 |  46 |  33.0 |  168.1 |  910.0 | 1195.0 |  89.3 |  384.9 | 123.4 | 125.2 |  249 | 1460.0 | young |\n",
       "| 14 |  50 |  42.0 |  205.0 | 1115.0 | 1415.0 |  80.0 |  560.0 | 145.0 | 160.0 |  305 | 1745.0 | young |\n",
       "| 15 |  50 |  37.5 |  205.0 | 1142.6 | 1099.8 |  57.5 |  543.0 | 143.3 | 131.1 |  274 | 1372.0 | young |\n",
       "| 16 |  60 |  55.0 |  320.9 | 1465.0 | 2250.0 |  96.5 |  961.8 | 226.5 | 200.7 |  427 | 2805.0 | old   |\n",
       "| 17 |  59 |  50.5 |  255.0 | 1250.0 | 2115.0 | 135.0 |  850.0 | 200.0 | 215.0 |  415 | 2675.0 | old   |\n",
       "| 18 |  66 |  57.5 |  370.0 | 1580.0 | 2195.0 | 140.0 |  720.0 | 220.0 | 230.0 |  450 | 2490.0 | old   |\n",
       "| 19 |  68 |  67.5 |  465.0 | 2000.0 | 2990.0 | 350.0 |  865.0 | 255.0 | 275.0 |  530 | 2880.0 | old   |\n",
       "| 20 |  68 |  53.5 |  332.8 | 1474.4 | 2124.2 | 149.6 |  730.0 | 227.6 | 229.3 |  457 | 2497.0 | old   |\n",
       "| 23 |  72 |  73.0 |  449.0 |     NA | 2715.0 | 127.0 | 1044.0 |    NA |    NA |  605 |     NA | old   |\n",
       "| 21 |  73 |  54.5 |  282.5 | 1220.0 | 2795.0 | 136.5 |  919.0 | 277.9 | 262.8 |  541 | 2515.0 | old   |\n",
       "| 22 |  73 |  68.5 |  355.0 | 1790.0 | 3875.0 | 145.0 | 1390.0 | 290.0 | 335.0 |  625 | 3535.0 | old   |\n",
       "| 24 |  80 |  74.0 |  310.0 | 1510.0 | 3130.0 | 118.3 |  985.8 | 285.0 | 300.0 |  585 | 3410.0 | old   |\n",
       "| 25 |  84 |  68.0 |  532.0 |     NA | 2937.0 | 160.0 | 1209.0 |    NA |    NA |  620 |     NA | old   |\n",
       "| 26 |  96 |  97.0 |  667.0 |     NA | 4241.0 | 213.0 | 1542.0 |    NA |    NA |  757 |     NA | old   |\n",
       "| 27 | 106 | 101.0 |  440.0 | 2735.0 | 3580.0 | 305.0 | 1260.0 | 368.4 | 391.7 |  760 | 3570.0 | old   |\n",
       "| 28 | 108 | 128.0 | 1012.0 |     NA | 5172.0 | 284.0 | 1734.0 |    NA |    NA |  888 |     NA | old   |\n",
       "| 29 | 118 |  95.0 |  505.0 | 2380.0 | 3720.0 | 425.0 | 1245.0 | 385.0 | 400.0 |  785 | 3565.0 | old   |\n",
       "| 30 | 120 | 179.0 | 1075.0 |     NA | 8309.0 |    NA | 2500.0 |    NA |    NA | 1410 |     NA | old   |\n",
       "\n"
      ],
      "text/plain": [
       "   age weight heart  lung   liver  spleen stomach leftkid rightkid kidney\n",
       "2   33  27.5   127.7  605.0  855.0  52.5   338.2  107.9   107.5     215  \n",
       "1   10  24.3    93.2  436.0  435.4  24.5   120.4   62.8    63.9     127  \n",
       "3   10  22.0    84.5  380.0  530.0  31.3   237.6   53.5    58.0     112  \n",
       "4   10  18.5    85.4  493.9  542.0  30.8   193.1   66.0    73.2     139  \n",
       "5   12  28.0   182.0     NA  949.0  46.0   400.0     NA      NA     238  \n",
       "6   18  23.8   130.0  550.0 1100.0  51.0   443.2  145.9   147.3     293  \n",
       "7   19  18.5    98.8  470.0  627.2  40.0   265.9   92.7    88.5     181  \n",
       "8   23  18.0   117.3  592.5  632.9  28.9   280.8   86.1    86.0     172  \n",
       "10  31  34.0   180.0  605.0 1040.0  45.0   425.0  125.0   120.0     245  \n",
       "9   33  28.5   150.4  799.9 1047.1  41.3   476.2  124.5   123.9     248  \n",
       "11  44  35.8   145.5  995.0 1525.0  90.0   475.6  176.0   156.3     332  \n",
       "12  46  30.3   140.0  785.0 1210.0  60.2   360.3  127.3   104.9     232  \n",
       "13  46  33.0   168.1  910.0 1195.0  89.3   384.9  123.4   125.2     249  \n",
       "14  50  42.0   205.0 1115.0 1415.0  80.0   560.0  145.0   160.0     305  \n",
       "15  50  37.5   205.0 1142.6 1099.8  57.5   543.0  143.3   131.1     274  \n",
       "16  60  55.0   320.9 1465.0 2250.0  96.5   961.8  226.5   200.7     427  \n",
       "17  59  50.5   255.0 1250.0 2115.0 135.0   850.0  200.0   215.0     415  \n",
       "18  66  57.5   370.0 1580.0 2195.0 140.0   720.0  220.0   230.0     450  \n",
       "19  68  67.5   465.0 2000.0 2990.0 350.0   865.0  255.0   275.0     530  \n",
       "20  68  53.5   332.8 1474.4 2124.2 149.6   730.0  227.6   229.3     457  \n",
       "23  72  73.0   449.0     NA 2715.0 127.0  1044.0     NA      NA     605  \n",
       "21  73  54.5   282.5 1220.0 2795.0 136.5   919.0  277.9   262.8     541  \n",
       "22  73  68.5   355.0 1790.0 3875.0 145.0  1390.0  290.0   335.0     625  \n",
       "24  80  74.0   310.0 1510.0 3130.0 118.3   985.8  285.0   300.0     585  \n",
       "25  84  68.0   532.0     NA 2937.0 160.0  1209.0     NA      NA     620  \n",
       "26  96  97.0   667.0     NA 4241.0 213.0  1542.0     NA      NA     757  \n",
       "27 106 101.0   440.0 2735.0 3580.0 305.0  1260.0  368.4   391.7     760  \n",
       "28 108 128.0  1012.0     NA 5172.0 284.0  1734.0     NA      NA     888  \n",
       "29 118  95.0   505.0 2380.0 3720.0 425.0  1245.0  385.0   400.0     785  \n",
       "30 120 179.0  1075.0     NA 8309.0    NA  2500.0     NA      NA    1410  \n",
       "   intestines group\n",
       "2   885.0     young\n",
       "1   711.4     young\n",
       "3   765.0     young\n",
       "4   849.6     young\n",
       "5      NA     young\n",
       "6  1210.0     young\n",
       "7   959.0     young\n",
       "8   855.4     young\n",
       "10 1540.0     young\n",
       "9  1644.0     young\n",
       "11 2405.0     young\n",
       "12 1345.0     young\n",
       "13 1460.0     young\n",
       "14 1745.0     young\n",
       "15 1372.0     young\n",
       "16 2805.0     old  \n",
       "17 2675.0     old  \n",
       "18 2490.0     old  \n",
       "19 2880.0     old  \n",
       "20 2497.0     old  \n",
       "23     NA     old  \n",
       "21 2515.0     old  \n",
       "22 3535.0     old  \n",
       "24 3410.0     old  \n",
       "25     NA     old  \n",
       "26     NA     old  \n",
       "27 3570.0     old  \n",
       "28     NA     old  \n",
       "29 3565.0     old  \n",
       "30     NA     old  "
      ]
     },
     "metadata": {},
     "output_type": "display_data"
    }
   ],
   "source": [
    "ds"
   ]
  },
  {
   "cell_type": "code",
   "execution_count": 81,
   "id": "1ac9b3cf",
   "metadata": {},
   "outputs": [],
   "source": [
    "ds$group = NA"
   ]
  },
  {
   "cell_type": "code",
   "execution_count": 83,
   "id": "60a5ce95",
   "metadata": {},
   "outputs": [
    {
     "data": {
      "text/html": [
       "<strong>25%:</strong> 28.125"
      ],
      "text/latex": [
       "\\textbf{25\\textbackslash{}\\%:} 28.125"
      ],
      "text/markdown": [
       "**25%:** 28.125"
      ],
      "text/plain": [
       "   25% \n",
       "28.125 "
      ]
     },
     "metadata": {},
     "output_type": "display_data"
    }
   ],
   "source": [
    "quantile(ds$weight)[2]"
   ]
  },
  {
   "cell_type": "code",
   "execution_count": 85,
   "id": "08a25a58",
   "metadata": {},
   "outputs": [],
   "source": [
    "ds[ds$weight < quantile(ds$weight)[2], 'group'] = 'low'"
   ]
  },
  {
   "cell_type": "code",
   "execution_count": 86,
   "id": "e452d9c9",
   "metadata": {},
   "outputs": [
    {
     "data": {
      "text/html": [
       "<table class=\"dataframe\">\n",
       "<caption>A data.frame: 30 × 12</caption>\n",
       "<thead>\n",
       "\t<tr><th></th><th scope=col>age</th><th scope=col>weight</th><th scope=col>heart</th><th scope=col>lung</th><th scope=col>liver</th><th scope=col>spleen</th><th scope=col>stomach</th><th scope=col>leftkid</th><th scope=col>rightkid</th><th scope=col>kidney</th><th scope=col>intestines</th><th scope=col>group</th></tr>\n",
       "\t<tr><th></th><th scope=col>&lt;dbl&gt;</th><th scope=col>&lt;dbl&gt;</th><th scope=col>&lt;dbl&gt;</th><th scope=col>&lt;dbl&gt;</th><th scope=col>&lt;dbl&gt;</th><th scope=col>&lt;dbl&gt;</th><th scope=col>&lt;dbl&gt;</th><th scope=col>&lt;dbl&gt;</th><th scope=col>&lt;dbl&gt;</th><th scope=col>&lt;dbl&gt;</th><th scope=col>&lt;dbl&gt;</th><th scope=col>&lt;chr&gt;</th></tr>\n",
       "</thead>\n",
       "<tbody>\n",
       "\t<tr><th scope=row>2</th><td> 33</td><td> 27.5</td><td> 127.7</td><td> 605.0</td><td> 855.0</td><td> 52.5</td><td> 338.2</td><td>107.9</td><td>107.5</td><td> 215</td><td> 885.0</td><td>low</td></tr>\n",
       "\t<tr><th scope=row>1</th><td> 10</td><td> 24.3</td><td>  93.2</td><td> 436.0</td><td> 435.4</td><td> 24.5</td><td> 120.4</td><td> 62.8</td><td> 63.9</td><td> 127</td><td> 711.4</td><td>low</td></tr>\n",
       "\t<tr><th scope=row>3</th><td> 10</td><td> 22.0</td><td>  84.5</td><td> 380.0</td><td> 530.0</td><td> 31.3</td><td> 237.6</td><td> 53.5</td><td> 58.0</td><td> 112</td><td> 765.0</td><td>low</td></tr>\n",
       "\t<tr><th scope=row>4</th><td> 10</td><td> 18.5</td><td>  85.4</td><td> 493.9</td><td> 542.0</td><td> 30.8</td><td> 193.1</td><td> 66.0</td><td> 73.2</td><td> 139</td><td> 849.6</td><td>low</td></tr>\n",
       "\t<tr><th scope=row>5</th><td> 12</td><td> 28.0</td><td> 182.0</td><td>    NA</td><td> 949.0</td><td> 46.0</td><td> 400.0</td><td>   NA</td><td>   NA</td><td> 238</td><td>    NA</td><td>low</td></tr>\n",
       "\t<tr><th scope=row>6</th><td> 18</td><td> 23.8</td><td> 130.0</td><td> 550.0</td><td>1100.0</td><td> 51.0</td><td> 443.2</td><td>145.9</td><td>147.3</td><td> 293</td><td>1210.0</td><td>low</td></tr>\n",
       "\t<tr><th scope=row>7</th><td> 19</td><td> 18.5</td><td>  98.8</td><td> 470.0</td><td> 627.2</td><td> 40.0</td><td> 265.9</td><td> 92.7</td><td> 88.5</td><td> 181</td><td> 959.0</td><td>low</td></tr>\n",
       "\t<tr><th scope=row>8</th><td> 23</td><td> 18.0</td><td> 117.3</td><td> 592.5</td><td> 632.9</td><td> 28.9</td><td> 280.8</td><td> 86.1</td><td> 86.0</td><td> 172</td><td> 855.4</td><td>low</td></tr>\n",
       "\t<tr><th scope=row>10</th><td> 31</td><td> 34.0</td><td> 180.0</td><td> 605.0</td><td>1040.0</td><td> 45.0</td><td> 425.0</td><td>125.0</td><td>120.0</td><td> 245</td><td>1540.0</td><td>NA </td></tr>\n",
       "\t<tr><th scope=row>9</th><td> 33</td><td> 28.5</td><td> 150.4</td><td> 799.9</td><td>1047.1</td><td> 41.3</td><td> 476.2</td><td>124.5</td><td>123.9</td><td> 248</td><td>1644.0</td><td>NA </td></tr>\n",
       "\t<tr><th scope=row>11</th><td> 44</td><td> 35.8</td><td> 145.5</td><td> 995.0</td><td>1525.0</td><td> 90.0</td><td> 475.6</td><td>176.0</td><td>156.3</td><td> 332</td><td>2405.0</td><td>NA </td></tr>\n",
       "\t<tr><th scope=row>12</th><td> 46</td><td> 30.3</td><td> 140.0</td><td> 785.0</td><td>1210.0</td><td> 60.2</td><td> 360.3</td><td>127.3</td><td>104.9</td><td> 232</td><td>1345.0</td><td>NA </td></tr>\n",
       "\t<tr><th scope=row>13</th><td> 46</td><td> 33.0</td><td> 168.1</td><td> 910.0</td><td>1195.0</td><td> 89.3</td><td> 384.9</td><td>123.4</td><td>125.2</td><td> 249</td><td>1460.0</td><td>NA </td></tr>\n",
       "\t<tr><th scope=row>14</th><td> 50</td><td> 42.0</td><td> 205.0</td><td>1115.0</td><td>1415.0</td><td> 80.0</td><td> 560.0</td><td>145.0</td><td>160.0</td><td> 305</td><td>1745.0</td><td>NA </td></tr>\n",
       "\t<tr><th scope=row>15</th><td> 50</td><td> 37.5</td><td> 205.0</td><td>1142.6</td><td>1099.8</td><td> 57.5</td><td> 543.0</td><td>143.3</td><td>131.1</td><td> 274</td><td>1372.0</td><td>NA </td></tr>\n",
       "\t<tr><th scope=row>16</th><td> 60</td><td> 55.0</td><td> 320.9</td><td>1465.0</td><td>2250.0</td><td> 96.5</td><td> 961.8</td><td>226.5</td><td>200.7</td><td> 427</td><td>2805.0</td><td>NA </td></tr>\n",
       "\t<tr><th scope=row>17</th><td> 59</td><td> 50.5</td><td> 255.0</td><td>1250.0</td><td>2115.0</td><td>135.0</td><td> 850.0</td><td>200.0</td><td>215.0</td><td> 415</td><td>2675.0</td><td>NA </td></tr>\n",
       "\t<tr><th scope=row>18</th><td> 66</td><td> 57.5</td><td> 370.0</td><td>1580.0</td><td>2195.0</td><td>140.0</td><td> 720.0</td><td>220.0</td><td>230.0</td><td> 450</td><td>2490.0</td><td>NA </td></tr>\n",
       "\t<tr><th scope=row>19</th><td> 68</td><td> 67.5</td><td> 465.0</td><td>2000.0</td><td>2990.0</td><td>350.0</td><td> 865.0</td><td>255.0</td><td>275.0</td><td> 530</td><td>2880.0</td><td>NA </td></tr>\n",
       "\t<tr><th scope=row>20</th><td> 68</td><td> 53.5</td><td> 332.8</td><td>1474.4</td><td>2124.2</td><td>149.6</td><td> 730.0</td><td>227.6</td><td>229.3</td><td> 457</td><td>2497.0</td><td>NA </td></tr>\n",
       "\t<tr><th scope=row>23</th><td> 72</td><td> 73.0</td><td> 449.0</td><td>    NA</td><td>2715.0</td><td>127.0</td><td>1044.0</td><td>   NA</td><td>   NA</td><td> 605</td><td>    NA</td><td>NA </td></tr>\n",
       "\t<tr><th scope=row>21</th><td> 73</td><td> 54.5</td><td> 282.5</td><td>1220.0</td><td>2795.0</td><td>136.5</td><td> 919.0</td><td>277.9</td><td>262.8</td><td> 541</td><td>2515.0</td><td>NA </td></tr>\n",
       "\t<tr><th scope=row>22</th><td> 73</td><td> 68.5</td><td> 355.0</td><td>1790.0</td><td>3875.0</td><td>145.0</td><td>1390.0</td><td>290.0</td><td>335.0</td><td> 625</td><td>3535.0</td><td>NA </td></tr>\n",
       "\t<tr><th scope=row>24</th><td> 80</td><td> 74.0</td><td> 310.0</td><td>1510.0</td><td>3130.0</td><td>118.3</td><td> 985.8</td><td>285.0</td><td>300.0</td><td> 585</td><td>3410.0</td><td>NA </td></tr>\n",
       "\t<tr><th scope=row>25</th><td> 84</td><td> 68.0</td><td> 532.0</td><td>    NA</td><td>2937.0</td><td>160.0</td><td>1209.0</td><td>   NA</td><td>   NA</td><td> 620</td><td>    NA</td><td>NA </td></tr>\n",
       "\t<tr><th scope=row>26</th><td> 96</td><td> 97.0</td><td> 667.0</td><td>    NA</td><td>4241.0</td><td>213.0</td><td>1542.0</td><td>   NA</td><td>   NA</td><td> 757</td><td>    NA</td><td>NA </td></tr>\n",
       "\t<tr><th scope=row>27</th><td>106</td><td>101.0</td><td> 440.0</td><td>2735.0</td><td>3580.0</td><td>305.0</td><td>1260.0</td><td>368.4</td><td>391.7</td><td> 760</td><td>3570.0</td><td>NA </td></tr>\n",
       "\t<tr><th scope=row>28</th><td>108</td><td>128.0</td><td>1012.0</td><td>    NA</td><td>5172.0</td><td>284.0</td><td>1734.0</td><td>   NA</td><td>   NA</td><td> 888</td><td>    NA</td><td>NA </td></tr>\n",
       "\t<tr><th scope=row>29</th><td>118</td><td> 95.0</td><td> 505.0</td><td>2380.0</td><td>3720.0</td><td>425.0</td><td>1245.0</td><td>385.0</td><td>400.0</td><td> 785</td><td>3565.0</td><td>NA </td></tr>\n",
       "\t<tr><th scope=row>30</th><td>120</td><td>179.0</td><td>1075.0</td><td>    NA</td><td>8309.0</td><td>   NA</td><td>2500.0</td><td>   NA</td><td>   NA</td><td>1410</td><td>    NA</td><td>NA </td></tr>\n",
       "</tbody>\n",
       "</table>\n"
      ],
      "text/latex": [
       "A data.frame: 30 × 12\n",
       "\\begin{tabular}{r|llllllllllll}\n",
       "  & age & weight & heart & lung & liver & spleen & stomach & leftkid & rightkid & kidney & intestines & group\\\\\n",
       "  & <dbl> & <dbl> & <dbl> & <dbl> & <dbl> & <dbl> & <dbl> & <dbl> & <dbl> & <dbl> & <dbl> & <chr>\\\\\n",
       "\\hline\n",
       "\t2 &  33 &  27.5 &  127.7 &  605.0 &  855.0 &  52.5 &  338.2 & 107.9 & 107.5 &  215 &  885.0 & low\\\\\n",
       "\t1 &  10 &  24.3 &   93.2 &  436.0 &  435.4 &  24.5 &  120.4 &  62.8 &  63.9 &  127 &  711.4 & low\\\\\n",
       "\t3 &  10 &  22.0 &   84.5 &  380.0 &  530.0 &  31.3 &  237.6 &  53.5 &  58.0 &  112 &  765.0 & low\\\\\n",
       "\t4 &  10 &  18.5 &   85.4 &  493.9 &  542.0 &  30.8 &  193.1 &  66.0 &  73.2 &  139 &  849.6 & low\\\\\n",
       "\t5 &  12 &  28.0 &  182.0 &     NA &  949.0 &  46.0 &  400.0 &    NA &    NA &  238 &     NA & low\\\\\n",
       "\t6 &  18 &  23.8 &  130.0 &  550.0 & 1100.0 &  51.0 &  443.2 & 145.9 & 147.3 &  293 & 1210.0 & low\\\\\n",
       "\t7 &  19 &  18.5 &   98.8 &  470.0 &  627.2 &  40.0 &  265.9 &  92.7 &  88.5 &  181 &  959.0 & low\\\\\n",
       "\t8 &  23 &  18.0 &  117.3 &  592.5 &  632.9 &  28.9 &  280.8 &  86.1 &  86.0 &  172 &  855.4 & low\\\\\n",
       "\t10 &  31 &  34.0 &  180.0 &  605.0 & 1040.0 &  45.0 &  425.0 & 125.0 & 120.0 &  245 & 1540.0 & NA \\\\\n",
       "\t9 &  33 &  28.5 &  150.4 &  799.9 & 1047.1 &  41.3 &  476.2 & 124.5 & 123.9 &  248 & 1644.0 & NA \\\\\n",
       "\t11 &  44 &  35.8 &  145.5 &  995.0 & 1525.0 &  90.0 &  475.6 & 176.0 & 156.3 &  332 & 2405.0 & NA \\\\\n",
       "\t12 &  46 &  30.3 &  140.0 &  785.0 & 1210.0 &  60.2 &  360.3 & 127.3 & 104.9 &  232 & 1345.0 & NA \\\\\n",
       "\t13 &  46 &  33.0 &  168.1 &  910.0 & 1195.0 &  89.3 &  384.9 & 123.4 & 125.2 &  249 & 1460.0 & NA \\\\\n",
       "\t14 &  50 &  42.0 &  205.0 & 1115.0 & 1415.0 &  80.0 &  560.0 & 145.0 & 160.0 &  305 & 1745.0 & NA \\\\\n",
       "\t15 &  50 &  37.5 &  205.0 & 1142.6 & 1099.8 &  57.5 &  543.0 & 143.3 & 131.1 &  274 & 1372.0 & NA \\\\\n",
       "\t16 &  60 &  55.0 &  320.9 & 1465.0 & 2250.0 &  96.5 &  961.8 & 226.5 & 200.7 &  427 & 2805.0 & NA \\\\\n",
       "\t17 &  59 &  50.5 &  255.0 & 1250.0 & 2115.0 & 135.0 &  850.0 & 200.0 & 215.0 &  415 & 2675.0 & NA \\\\\n",
       "\t18 &  66 &  57.5 &  370.0 & 1580.0 & 2195.0 & 140.0 &  720.0 & 220.0 & 230.0 &  450 & 2490.0 & NA \\\\\n",
       "\t19 &  68 &  67.5 &  465.0 & 2000.0 & 2990.0 & 350.0 &  865.0 & 255.0 & 275.0 &  530 & 2880.0 & NA \\\\\n",
       "\t20 &  68 &  53.5 &  332.8 & 1474.4 & 2124.2 & 149.6 &  730.0 & 227.6 & 229.3 &  457 & 2497.0 & NA \\\\\n",
       "\t23 &  72 &  73.0 &  449.0 &     NA & 2715.0 & 127.0 & 1044.0 &    NA &    NA &  605 &     NA & NA \\\\\n",
       "\t21 &  73 &  54.5 &  282.5 & 1220.0 & 2795.0 & 136.5 &  919.0 & 277.9 & 262.8 &  541 & 2515.0 & NA \\\\\n",
       "\t22 &  73 &  68.5 &  355.0 & 1790.0 & 3875.0 & 145.0 & 1390.0 & 290.0 & 335.0 &  625 & 3535.0 & NA \\\\\n",
       "\t24 &  80 &  74.0 &  310.0 & 1510.0 & 3130.0 & 118.3 &  985.8 & 285.0 & 300.0 &  585 & 3410.0 & NA \\\\\n",
       "\t25 &  84 &  68.0 &  532.0 &     NA & 2937.0 & 160.0 & 1209.0 &    NA &    NA &  620 &     NA & NA \\\\\n",
       "\t26 &  96 &  97.0 &  667.0 &     NA & 4241.0 & 213.0 & 1542.0 &    NA &    NA &  757 &     NA & NA \\\\\n",
       "\t27 & 106 & 101.0 &  440.0 & 2735.0 & 3580.0 & 305.0 & 1260.0 & 368.4 & 391.7 &  760 & 3570.0 & NA \\\\\n",
       "\t28 & 108 & 128.0 & 1012.0 &     NA & 5172.0 & 284.0 & 1734.0 &    NA &    NA &  888 &     NA & NA \\\\\n",
       "\t29 & 118 &  95.0 &  505.0 & 2380.0 & 3720.0 & 425.0 & 1245.0 & 385.0 & 400.0 &  785 & 3565.0 & NA \\\\\n",
       "\t30 & 120 & 179.0 & 1075.0 &     NA & 8309.0 &    NA & 2500.0 &    NA &    NA & 1410 &     NA & NA \\\\\n",
       "\\end{tabular}\n"
      ],
      "text/markdown": [
       "\n",
       "A data.frame: 30 × 12\n",
       "\n",
       "| <!--/--> | age &lt;dbl&gt; | weight &lt;dbl&gt; | heart &lt;dbl&gt; | lung &lt;dbl&gt; | liver &lt;dbl&gt; | spleen &lt;dbl&gt; | stomach &lt;dbl&gt; | leftkid &lt;dbl&gt; | rightkid &lt;dbl&gt; | kidney &lt;dbl&gt; | intestines &lt;dbl&gt; | group &lt;chr&gt; |\n",
       "|---|---|---|---|---|---|---|---|---|---|---|---|---|\n",
       "| 2 |  33 |  27.5 |  127.7 |  605.0 |  855.0 |  52.5 |  338.2 | 107.9 | 107.5 |  215 |  885.0 | low |\n",
       "| 1 |  10 |  24.3 |   93.2 |  436.0 |  435.4 |  24.5 |  120.4 |  62.8 |  63.9 |  127 |  711.4 | low |\n",
       "| 3 |  10 |  22.0 |   84.5 |  380.0 |  530.0 |  31.3 |  237.6 |  53.5 |  58.0 |  112 |  765.0 | low |\n",
       "| 4 |  10 |  18.5 |   85.4 |  493.9 |  542.0 |  30.8 |  193.1 |  66.0 |  73.2 |  139 |  849.6 | low |\n",
       "| 5 |  12 |  28.0 |  182.0 |     NA |  949.0 |  46.0 |  400.0 |    NA |    NA |  238 |     NA | low |\n",
       "| 6 |  18 |  23.8 |  130.0 |  550.0 | 1100.0 |  51.0 |  443.2 | 145.9 | 147.3 |  293 | 1210.0 | low |\n",
       "| 7 |  19 |  18.5 |   98.8 |  470.0 |  627.2 |  40.0 |  265.9 |  92.7 |  88.5 |  181 |  959.0 | low |\n",
       "| 8 |  23 |  18.0 |  117.3 |  592.5 |  632.9 |  28.9 |  280.8 |  86.1 |  86.0 |  172 |  855.4 | low |\n",
       "| 10 |  31 |  34.0 |  180.0 |  605.0 | 1040.0 |  45.0 |  425.0 | 125.0 | 120.0 |  245 | 1540.0 | NA  |\n",
       "| 9 |  33 |  28.5 |  150.4 |  799.9 | 1047.1 |  41.3 |  476.2 | 124.5 | 123.9 |  248 | 1644.0 | NA  |\n",
       "| 11 |  44 |  35.8 |  145.5 |  995.0 | 1525.0 |  90.0 |  475.6 | 176.0 | 156.3 |  332 | 2405.0 | NA  |\n",
       "| 12 |  46 |  30.3 |  140.0 |  785.0 | 1210.0 |  60.2 |  360.3 | 127.3 | 104.9 |  232 | 1345.0 | NA  |\n",
       "| 13 |  46 |  33.0 |  168.1 |  910.0 | 1195.0 |  89.3 |  384.9 | 123.4 | 125.2 |  249 | 1460.0 | NA  |\n",
       "| 14 |  50 |  42.0 |  205.0 | 1115.0 | 1415.0 |  80.0 |  560.0 | 145.0 | 160.0 |  305 | 1745.0 | NA  |\n",
       "| 15 |  50 |  37.5 |  205.0 | 1142.6 | 1099.8 |  57.5 |  543.0 | 143.3 | 131.1 |  274 | 1372.0 | NA  |\n",
       "| 16 |  60 |  55.0 |  320.9 | 1465.0 | 2250.0 |  96.5 |  961.8 | 226.5 | 200.7 |  427 | 2805.0 | NA  |\n",
       "| 17 |  59 |  50.5 |  255.0 | 1250.0 | 2115.0 | 135.0 |  850.0 | 200.0 | 215.0 |  415 | 2675.0 | NA  |\n",
       "| 18 |  66 |  57.5 |  370.0 | 1580.0 | 2195.0 | 140.0 |  720.0 | 220.0 | 230.0 |  450 | 2490.0 | NA  |\n",
       "| 19 |  68 |  67.5 |  465.0 | 2000.0 | 2990.0 | 350.0 |  865.0 | 255.0 | 275.0 |  530 | 2880.0 | NA  |\n",
       "| 20 |  68 |  53.5 |  332.8 | 1474.4 | 2124.2 | 149.6 |  730.0 | 227.6 | 229.3 |  457 | 2497.0 | NA  |\n",
       "| 23 |  72 |  73.0 |  449.0 |     NA | 2715.0 | 127.0 | 1044.0 |    NA |    NA |  605 |     NA | NA  |\n",
       "| 21 |  73 |  54.5 |  282.5 | 1220.0 | 2795.0 | 136.5 |  919.0 | 277.9 | 262.8 |  541 | 2515.0 | NA  |\n",
       "| 22 |  73 |  68.5 |  355.0 | 1790.0 | 3875.0 | 145.0 | 1390.0 | 290.0 | 335.0 |  625 | 3535.0 | NA  |\n",
       "| 24 |  80 |  74.0 |  310.0 | 1510.0 | 3130.0 | 118.3 |  985.8 | 285.0 | 300.0 |  585 | 3410.0 | NA  |\n",
       "| 25 |  84 |  68.0 |  532.0 |     NA | 2937.0 | 160.0 | 1209.0 |    NA |    NA |  620 |     NA | NA  |\n",
       "| 26 |  96 |  97.0 |  667.0 |     NA | 4241.0 | 213.0 | 1542.0 |    NA |    NA |  757 |     NA | NA  |\n",
       "| 27 | 106 | 101.0 |  440.0 | 2735.0 | 3580.0 | 305.0 | 1260.0 | 368.4 | 391.7 |  760 | 3570.0 | NA  |\n",
       "| 28 | 108 | 128.0 | 1012.0 |     NA | 5172.0 | 284.0 | 1734.0 |    NA |    NA |  888 |     NA | NA  |\n",
       "| 29 | 118 |  95.0 |  505.0 | 2380.0 | 3720.0 | 425.0 | 1245.0 | 385.0 | 400.0 |  785 | 3565.0 | NA  |\n",
       "| 30 | 120 | 179.0 | 1075.0 |     NA | 8309.0 |    NA | 2500.0 |    NA |    NA | 1410 |     NA | NA  |\n",
       "\n"
      ],
      "text/plain": [
       "   age weight heart  lung   liver  spleen stomach leftkid rightkid kidney\n",
       "2   33  27.5   127.7  605.0  855.0  52.5   338.2  107.9   107.5     215  \n",
       "1   10  24.3    93.2  436.0  435.4  24.5   120.4   62.8    63.9     127  \n",
       "3   10  22.0    84.5  380.0  530.0  31.3   237.6   53.5    58.0     112  \n",
       "4   10  18.5    85.4  493.9  542.0  30.8   193.1   66.0    73.2     139  \n",
       "5   12  28.0   182.0     NA  949.0  46.0   400.0     NA      NA     238  \n",
       "6   18  23.8   130.0  550.0 1100.0  51.0   443.2  145.9   147.3     293  \n",
       "7   19  18.5    98.8  470.0  627.2  40.0   265.9   92.7    88.5     181  \n",
       "8   23  18.0   117.3  592.5  632.9  28.9   280.8   86.1    86.0     172  \n",
       "10  31  34.0   180.0  605.0 1040.0  45.0   425.0  125.0   120.0     245  \n",
       "9   33  28.5   150.4  799.9 1047.1  41.3   476.2  124.5   123.9     248  \n",
       "11  44  35.8   145.5  995.0 1525.0  90.0   475.6  176.0   156.3     332  \n",
       "12  46  30.3   140.0  785.0 1210.0  60.2   360.3  127.3   104.9     232  \n",
       "13  46  33.0   168.1  910.0 1195.0  89.3   384.9  123.4   125.2     249  \n",
       "14  50  42.0   205.0 1115.0 1415.0  80.0   560.0  145.0   160.0     305  \n",
       "15  50  37.5   205.0 1142.6 1099.8  57.5   543.0  143.3   131.1     274  \n",
       "16  60  55.0   320.9 1465.0 2250.0  96.5   961.8  226.5   200.7     427  \n",
       "17  59  50.5   255.0 1250.0 2115.0 135.0   850.0  200.0   215.0     415  \n",
       "18  66  57.5   370.0 1580.0 2195.0 140.0   720.0  220.0   230.0     450  \n",
       "19  68  67.5   465.0 2000.0 2990.0 350.0   865.0  255.0   275.0     530  \n",
       "20  68  53.5   332.8 1474.4 2124.2 149.6   730.0  227.6   229.3     457  \n",
       "23  72  73.0   449.0     NA 2715.0 127.0  1044.0     NA      NA     605  \n",
       "21  73  54.5   282.5 1220.0 2795.0 136.5   919.0  277.9   262.8     541  \n",
       "22  73  68.5   355.0 1790.0 3875.0 145.0  1390.0  290.0   335.0     625  \n",
       "24  80  74.0   310.0 1510.0 3130.0 118.3   985.8  285.0   300.0     585  \n",
       "25  84  68.0   532.0     NA 2937.0 160.0  1209.0     NA      NA     620  \n",
       "26  96  97.0   667.0     NA 4241.0 213.0  1542.0     NA      NA     757  \n",
       "27 106 101.0   440.0 2735.0 3580.0 305.0  1260.0  368.4   391.7     760  \n",
       "28 108 128.0  1012.0     NA 5172.0 284.0  1734.0     NA      NA     888  \n",
       "29 118  95.0   505.0 2380.0 3720.0 425.0  1245.0  385.0   400.0     785  \n",
       "30 120 179.0  1075.0     NA 8309.0    NA  2500.0     NA      NA    1410  \n",
       "   intestines group\n",
       "2   885.0     low  \n",
       "1   711.4     low  \n",
       "3   765.0     low  \n",
       "4   849.6     low  \n",
       "5      NA     low  \n",
       "6  1210.0     low  \n",
       "7   959.0     low  \n",
       "8   855.4     low  \n",
       "10 1540.0     NA   \n",
       "9  1644.0     NA   \n",
       "11 2405.0     NA   \n",
       "12 1345.0     NA   \n",
       "13 1460.0     NA   \n",
       "14 1745.0     NA   \n",
       "15 1372.0     NA   \n",
       "16 2805.0     NA   \n",
       "17 2675.0     NA   \n",
       "18 2490.0     NA   \n",
       "19 2880.0     NA   \n",
       "20 2497.0     NA   \n",
       "23     NA     NA   \n",
       "21 2515.0     NA   \n",
       "22 3535.0     NA   \n",
       "24 3410.0     NA   \n",
       "25     NA     NA   \n",
       "26     NA     NA   \n",
       "27 3570.0     NA   \n",
       "28     NA     NA   \n",
       "29 3565.0     NA   \n",
       "30     NA     NA   "
      ]
     },
     "metadata": {},
     "output_type": "display_data"
    }
   ],
   "source": [
    "ds"
   ]
  },
  {
   "cell_type": "code",
   "execution_count": 88,
   "id": "0acbfe69",
   "metadata": {},
   "outputs": [
    {
     "data": {
      "text/html": [
       "<strong>75%:</strong> 68.375"
      ],
      "text/latex": [
       "\\textbf{75\\textbackslash{}\\%:} 68.375"
      ],
      "text/markdown": [
       "**75%:** 68.375"
      ],
      "text/plain": [
       "   75% \n",
       "68.375 "
      ]
     },
     "metadata": {},
     "output_type": "display_data"
    }
   ],
   "source": [
    "quantile(ds$weight)[4]"
   ]
  },
  {
   "cell_type": "code",
   "execution_count": 90,
   "id": "a9f8a6f7",
   "metadata": {},
   "outputs": [],
   "source": [
    "ds[ds$weight >= quantile(ds$weight)[2] & ds$weight <=  quantile(ds$weight)[4], 'group'] = 'middle'"
   ]
  },
  {
   "cell_type": "code",
   "execution_count": 92,
   "id": "c2e04a3d",
   "metadata": {},
   "outputs": [],
   "source": [
    "ds[ds$weight > quantile(ds$weight)[4], 'group'] = 'high'"
   ]
  },
  {
   "cell_type": "code",
   "execution_count": 93,
   "id": "498df85a",
   "metadata": {},
   "outputs": [
    {
     "data": {
      "text/html": [
       "<table class=\"dataframe\">\n",
       "<caption>A data.frame: 30 × 12</caption>\n",
       "<thead>\n",
       "\t<tr><th></th><th scope=col>age</th><th scope=col>weight</th><th scope=col>heart</th><th scope=col>lung</th><th scope=col>liver</th><th scope=col>spleen</th><th scope=col>stomach</th><th scope=col>leftkid</th><th scope=col>rightkid</th><th scope=col>kidney</th><th scope=col>intestines</th><th scope=col>group</th></tr>\n",
       "\t<tr><th></th><th scope=col>&lt;dbl&gt;</th><th scope=col>&lt;dbl&gt;</th><th scope=col>&lt;dbl&gt;</th><th scope=col>&lt;dbl&gt;</th><th scope=col>&lt;dbl&gt;</th><th scope=col>&lt;dbl&gt;</th><th scope=col>&lt;dbl&gt;</th><th scope=col>&lt;dbl&gt;</th><th scope=col>&lt;dbl&gt;</th><th scope=col>&lt;dbl&gt;</th><th scope=col>&lt;dbl&gt;</th><th scope=col>&lt;chr&gt;</th></tr>\n",
       "</thead>\n",
       "<tbody>\n",
       "\t<tr><th scope=row>2</th><td> 33</td><td> 27.5</td><td> 127.7</td><td> 605.0</td><td> 855.0</td><td> 52.5</td><td> 338.2</td><td>107.9</td><td>107.5</td><td> 215</td><td> 885.0</td><td>low   </td></tr>\n",
       "\t<tr><th scope=row>1</th><td> 10</td><td> 24.3</td><td>  93.2</td><td> 436.0</td><td> 435.4</td><td> 24.5</td><td> 120.4</td><td> 62.8</td><td> 63.9</td><td> 127</td><td> 711.4</td><td>low   </td></tr>\n",
       "\t<tr><th scope=row>3</th><td> 10</td><td> 22.0</td><td>  84.5</td><td> 380.0</td><td> 530.0</td><td> 31.3</td><td> 237.6</td><td> 53.5</td><td> 58.0</td><td> 112</td><td> 765.0</td><td>low   </td></tr>\n",
       "\t<tr><th scope=row>4</th><td> 10</td><td> 18.5</td><td>  85.4</td><td> 493.9</td><td> 542.0</td><td> 30.8</td><td> 193.1</td><td> 66.0</td><td> 73.2</td><td> 139</td><td> 849.6</td><td>low   </td></tr>\n",
       "\t<tr><th scope=row>5</th><td> 12</td><td> 28.0</td><td> 182.0</td><td>    NA</td><td> 949.0</td><td> 46.0</td><td> 400.0</td><td>   NA</td><td>   NA</td><td> 238</td><td>    NA</td><td>low   </td></tr>\n",
       "\t<tr><th scope=row>6</th><td> 18</td><td> 23.8</td><td> 130.0</td><td> 550.0</td><td>1100.0</td><td> 51.0</td><td> 443.2</td><td>145.9</td><td>147.3</td><td> 293</td><td>1210.0</td><td>low   </td></tr>\n",
       "\t<tr><th scope=row>7</th><td> 19</td><td> 18.5</td><td>  98.8</td><td> 470.0</td><td> 627.2</td><td> 40.0</td><td> 265.9</td><td> 92.7</td><td> 88.5</td><td> 181</td><td> 959.0</td><td>low   </td></tr>\n",
       "\t<tr><th scope=row>8</th><td> 23</td><td> 18.0</td><td> 117.3</td><td> 592.5</td><td> 632.9</td><td> 28.9</td><td> 280.8</td><td> 86.1</td><td> 86.0</td><td> 172</td><td> 855.4</td><td>low   </td></tr>\n",
       "\t<tr><th scope=row>10</th><td> 31</td><td> 34.0</td><td> 180.0</td><td> 605.0</td><td>1040.0</td><td> 45.0</td><td> 425.0</td><td>125.0</td><td>120.0</td><td> 245</td><td>1540.0</td><td>middle</td></tr>\n",
       "\t<tr><th scope=row>9</th><td> 33</td><td> 28.5</td><td> 150.4</td><td> 799.9</td><td>1047.1</td><td> 41.3</td><td> 476.2</td><td>124.5</td><td>123.9</td><td> 248</td><td>1644.0</td><td>middle</td></tr>\n",
       "\t<tr><th scope=row>11</th><td> 44</td><td> 35.8</td><td> 145.5</td><td> 995.0</td><td>1525.0</td><td> 90.0</td><td> 475.6</td><td>176.0</td><td>156.3</td><td> 332</td><td>2405.0</td><td>middle</td></tr>\n",
       "\t<tr><th scope=row>12</th><td> 46</td><td> 30.3</td><td> 140.0</td><td> 785.0</td><td>1210.0</td><td> 60.2</td><td> 360.3</td><td>127.3</td><td>104.9</td><td> 232</td><td>1345.0</td><td>middle</td></tr>\n",
       "\t<tr><th scope=row>13</th><td> 46</td><td> 33.0</td><td> 168.1</td><td> 910.0</td><td>1195.0</td><td> 89.3</td><td> 384.9</td><td>123.4</td><td>125.2</td><td> 249</td><td>1460.0</td><td>middle</td></tr>\n",
       "\t<tr><th scope=row>14</th><td> 50</td><td> 42.0</td><td> 205.0</td><td>1115.0</td><td>1415.0</td><td> 80.0</td><td> 560.0</td><td>145.0</td><td>160.0</td><td> 305</td><td>1745.0</td><td>middle</td></tr>\n",
       "\t<tr><th scope=row>15</th><td> 50</td><td> 37.5</td><td> 205.0</td><td>1142.6</td><td>1099.8</td><td> 57.5</td><td> 543.0</td><td>143.3</td><td>131.1</td><td> 274</td><td>1372.0</td><td>middle</td></tr>\n",
       "\t<tr><th scope=row>16</th><td> 60</td><td> 55.0</td><td> 320.9</td><td>1465.0</td><td>2250.0</td><td> 96.5</td><td> 961.8</td><td>226.5</td><td>200.7</td><td> 427</td><td>2805.0</td><td>middle</td></tr>\n",
       "\t<tr><th scope=row>17</th><td> 59</td><td> 50.5</td><td> 255.0</td><td>1250.0</td><td>2115.0</td><td>135.0</td><td> 850.0</td><td>200.0</td><td>215.0</td><td> 415</td><td>2675.0</td><td>middle</td></tr>\n",
       "\t<tr><th scope=row>18</th><td> 66</td><td> 57.5</td><td> 370.0</td><td>1580.0</td><td>2195.0</td><td>140.0</td><td> 720.0</td><td>220.0</td><td>230.0</td><td> 450</td><td>2490.0</td><td>middle</td></tr>\n",
       "\t<tr><th scope=row>19</th><td> 68</td><td> 67.5</td><td> 465.0</td><td>2000.0</td><td>2990.0</td><td>350.0</td><td> 865.0</td><td>255.0</td><td>275.0</td><td> 530</td><td>2880.0</td><td>middle</td></tr>\n",
       "\t<tr><th scope=row>20</th><td> 68</td><td> 53.5</td><td> 332.8</td><td>1474.4</td><td>2124.2</td><td>149.6</td><td> 730.0</td><td>227.6</td><td>229.3</td><td> 457</td><td>2497.0</td><td>middle</td></tr>\n",
       "\t<tr><th scope=row>23</th><td> 72</td><td> 73.0</td><td> 449.0</td><td>    NA</td><td>2715.0</td><td>127.0</td><td>1044.0</td><td>   NA</td><td>   NA</td><td> 605</td><td>    NA</td><td>high  </td></tr>\n",
       "\t<tr><th scope=row>21</th><td> 73</td><td> 54.5</td><td> 282.5</td><td>1220.0</td><td>2795.0</td><td>136.5</td><td> 919.0</td><td>277.9</td><td>262.8</td><td> 541</td><td>2515.0</td><td>middle</td></tr>\n",
       "\t<tr><th scope=row>22</th><td> 73</td><td> 68.5</td><td> 355.0</td><td>1790.0</td><td>3875.0</td><td>145.0</td><td>1390.0</td><td>290.0</td><td>335.0</td><td> 625</td><td>3535.0</td><td>high  </td></tr>\n",
       "\t<tr><th scope=row>24</th><td> 80</td><td> 74.0</td><td> 310.0</td><td>1510.0</td><td>3130.0</td><td>118.3</td><td> 985.8</td><td>285.0</td><td>300.0</td><td> 585</td><td>3410.0</td><td>high  </td></tr>\n",
       "\t<tr><th scope=row>25</th><td> 84</td><td> 68.0</td><td> 532.0</td><td>    NA</td><td>2937.0</td><td>160.0</td><td>1209.0</td><td>   NA</td><td>   NA</td><td> 620</td><td>    NA</td><td>middle</td></tr>\n",
       "\t<tr><th scope=row>26</th><td> 96</td><td> 97.0</td><td> 667.0</td><td>    NA</td><td>4241.0</td><td>213.0</td><td>1542.0</td><td>   NA</td><td>   NA</td><td> 757</td><td>    NA</td><td>high  </td></tr>\n",
       "\t<tr><th scope=row>27</th><td>106</td><td>101.0</td><td> 440.0</td><td>2735.0</td><td>3580.0</td><td>305.0</td><td>1260.0</td><td>368.4</td><td>391.7</td><td> 760</td><td>3570.0</td><td>high  </td></tr>\n",
       "\t<tr><th scope=row>28</th><td>108</td><td>128.0</td><td>1012.0</td><td>    NA</td><td>5172.0</td><td>284.0</td><td>1734.0</td><td>   NA</td><td>   NA</td><td> 888</td><td>    NA</td><td>high  </td></tr>\n",
       "\t<tr><th scope=row>29</th><td>118</td><td> 95.0</td><td> 505.0</td><td>2380.0</td><td>3720.0</td><td>425.0</td><td>1245.0</td><td>385.0</td><td>400.0</td><td> 785</td><td>3565.0</td><td>high  </td></tr>\n",
       "\t<tr><th scope=row>30</th><td>120</td><td>179.0</td><td>1075.0</td><td>    NA</td><td>8309.0</td><td>   NA</td><td>2500.0</td><td>   NA</td><td>   NA</td><td>1410</td><td>    NA</td><td>high  </td></tr>\n",
       "</tbody>\n",
       "</table>\n"
      ],
      "text/latex": [
       "A data.frame: 30 × 12\n",
       "\\begin{tabular}{r|llllllllllll}\n",
       "  & age & weight & heart & lung & liver & spleen & stomach & leftkid & rightkid & kidney & intestines & group\\\\\n",
       "  & <dbl> & <dbl> & <dbl> & <dbl> & <dbl> & <dbl> & <dbl> & <dbl> & <dbl> & <dbl> & <dbl> & <chr>\\\\\n",
       "\\hline\n",
       "\t2 &  33 &  27.5 &  127.7 &  605.0 &  855.0 &  52.5 &  338.2 & 107.9 & 107.5 &  215 &  885.0 & low   \\\\\n",
       "\t1 &  10 &  24.3 &   93.2 &  436.0 &  435.4 &  24.5 &  120.4 &  62.8 &  63.9 &  127 &  711.4 & low   \\\\\n",
       "\t3 &  10 &  22.0 &   84.5 &  380.0 &  530.0 &  31.3 &  237.6 &  53.5 &  58.0 &  112 &  765.0 & low   \\\\\n",
       "\t4 &  10 &  18.5 &   85.4 &  493.9 &  542.0 &  30.8 &  193.1 &  66.0 &  73.2 &  139 &  849.6 & low   \\\\\n",
       "\t5 &  12 &  28.0 &  182.0 &     NA &  949.0 &  46.0 &  400.0 &    NA &    NA &  238 &     NA & low   \\\\\n",
       "\t6 &  18 &  23.8 &  130.0 &  550.0 & 1100.0 &  51.0 &  443.2 & 145.9 & 147.3 &  293 & 1210.0 & low   \\\\\n",
       "\t7 &  19 &  18.5 &   98.8 &  470.0 &  627.2 &  40.0 &  265.9 &  92.7 &  88.5 &  181 &  959.0 & low   \\\\\n",
       "\t8 &  23 &  18.0 &  117.3 &  592.5 &  632.9 &  28.9 &  280.8 &  86.1 &  86.0 &  172 &  855.4 & low   \\\\\n",
       "\t10 &  31 &  34.0 &  180.0 &  605.0 & 1040.0 &  45.0 &  425.0 & 125.0 & 120.0 &  245 & 1540.0 & middle\\\\\n",
       "\t9 &  33 &  28.5 &  150.4 &  799.9 & 1047.1 &  41.3 &  476.2 & 124.5 & 123.9 &  248 & 1644.0 & middle\\\\\n",
       "\t11 &  44 &  35.8 &  145.5 &  995.0 & 1525.0 &  90.0 &  475.6 & 176.0 & 156.3 &  332 & 2405.0 & middle\\\\\n",
       "\t12 &  46 &  30.3 &  140.0 &  785.0 & 1210.0 &  60.2 &  360.3 & 127.3 & 104.9 &  232 & 1345.0 & middle\\\\\n",
       "\t13 &  46 &  33.0 &  168.1 &  910.0 & 1195.0 &  89.3 &  384.9 & 123.4 & 125.2 &  249 & 1460.0 & middle\\\\\n",
       "\t14 &  50 &  42.0 &  205.0 & 1115.0 & 1415.0 &  80.0 &  560.0 & 145.0 & 160.0 &  305 & 1745.0 & middle\\\\\n",
       "\t15 &  50 &  37.5 &  205.0 & 1142.6 & 1099.8 &  57.5 &  543.0 & 143.3 & 131.1 &  274 & 1372.0 & middle\\\\\n",
       "\t16 &  60 &  55.0 &  320.9 & 1465.0 & 2250.0 &  96.5 &  961.8 & 226.5 & 200.7 &  427 & 2805.0 & middle\\\\\n",
       "\t17 &  59 &  50.5 &  255.0 & 1250.0 & 2115.0 & 135.0 &  850.0 & 200.0 & 215.0 &  415 & 2675.0 & middle\\\\\n",
       "\t18 &  66 &  57.5 &  370.0 & 1580.0 & 2195.0 & 140.0 &  720.0 & 220.0 & 230.0 &  450 & 2490.0 & middle\\\\\n",
       "\t19 &  68 &  67.5 &  465.0 & 2000.0 & 2990.0 & 350.0 &  865.0 & 255.0 & 275.0 &  530 & 2880.0 & middle\\\\\n",
       "\t20 &  68 &  53.5 &  332.8 & 1474.4 & 2124.2 & 149.6 &  730.0 & 227.6 & 229.3 &  457 & 2497.0 & middle\\\\\n",
       "\t23 &  72 &  73.0 &  449.0 &     NA & 2715.0 & 127.0 & 1044.0 &    NA &    NA &  605 &     NA & high  \\\\\n",
       "\t21 &  73 &  54.5 &  282.5 & 1220.0 & 2795.0 & 136.5 &  919.0 & 277.9 & 262.8 &  541 & 2515.0 & middle\\\\\n",
       "\t22 &  73 &  68.5 &  355.0 & 1790.0 & 3875.0 & 145.0 & 1390.0 & 290.0 & 335.0 &  625 & 3535.0 & high  \\\\\n",
       "\t24 &  80 &  74.0 &  310.0 & 1510.0 & 3130.0 & 118.3 &  985.8 & 285.0 & 300.0 &  585 & 3410.0 & high  \\\\\n",
       "\t25 &  84 &  68.0 &  532.0 &     NA & 2937.0 & 160.0 & 1209.0 &    NA &    NA &  620 &     NA & middle\\\\\n",
       "\t26 &  96 &  97.0 &  667.0 &     NA & 4241.0 & 213.0 & 1542.0 &    NA &    NA &  757 &     NA & high  \\\\\n",
       "\t27 & 106 & 101.0 &  440.0 & 2735.0 & 3580.0 & 305.0 & 1260.0 & 368.4 & 391.7 &  760 & 3570.0 & high  \\\\\n",
       "\t28 & 108 & 128.0 & 1012.0 &     NA & 5172.0 & 284.0 & 1734.0 &    NA &    NA &  888 &     NA & high  \\\\\n",
       "\t29 & 118 &  95.0 &  505.0 & 2380.0 & 3720.0 & 425.0 & 1245.0 & 385.0 & 400.0 &  785 & 3565.0 & high  \\\\\n",
       "\t30 & 120 & 179.0 & 1075.0 &     NA & 8309.0 &    NA & 2500.0 &    NA &    NA & 1410 &     NA & high  \\\\\n",
       "\\end{tabular}\n"
      ],
      "text/markdown": [
       "\n",
       "A data.frame: 30 × 12\n",
       "\n",
       "| <!--/--> | age &lt;dbl&gt; | weight &lt;dbl&gt; | heart &lt;dbl&gt; | lung &lt;dbl&gt; | liver &lt;dbl&gt; | spleen &lt;dbl&gt; | stomach &lt;dbl&gt; | leftkid &lt;dbl&gt; | rightkid &lt;dbl&gt; | kidney &lt;dbl&gt; | intestines &lt;dbl&gt; | group &lt;chr&gt; |\n",
       "|---|---|---|---|---|---|---|---|---|---|---|---|---|\n",
       "| 2 |  33 |  27.5 |  127.7 |  605.0 |  855.0 |  52.5 |  338.2 | 107.9 | 107.5 |  215 |  885.0 | low    |\n",
       "| 1 |  10 |  24.3 |   93.2 |  436.0 |  435.4 |  24.5 |  120.4 |  62.8 |  63.9 |  127 |  711.4 | low    |\n",
       "| 3 |  10 |  22.0 |   84.5 |  380.0 |  530.0 |  31.3 |  237.6 |  53.5 |  58.0 |  112 |  765.0 | low    |\n",
       "| 4 |  10 |  18.5 |   85.4 |  493.9 |  542.0 |  30.8 |  193.1 |  66.0 |  73.2 |  139 |  849.6 | low    |\n",
       "| 5 |  12 |  28.0 |  182.0 |     NA |  949.0 |  46.0 |  400.0 |    NA |    NA |  238 |     NA | low    |\n",
       "| 6 |  18 |  23.8 |  130.0 |  550.0 | 1100.0 |  51.0 |  443.2 | 145.9 | 147.3 |  293 | 1210.0 | low    |\n",
       "| 7 |  19 |  18.5 |   98.8 |  470.0 |  627.2 |  40.0 |  265.9 |  92.7 |  88.5 |  181 |  959.0 | low    |\n",
       "| 8 |  23 |  18.0 |  117.3 |  592.5 |  632.9 |  28.9 |  280.8 |  86.1 |  86.0 |  172 |  855.4 | low    |\n",
       "| 10 |  31 |  34.0 |  180.0 |  605.0 | 1040.0 |  45.0 |  425.0 | 125.0 | 120.0 |  245 | 1540.0 | middle |\n",
       "| 9 |  33 |  28.5 |  150.4 |  799.9 | 1047.1 |  41.3 |  476.2 | 124.5 | 123.9 |  248 | 1644.0 | middle |\n",
       "| 11 |  44 |  35.8 |  145.5 |  995.0 | 1525.0 |  90.0 |  475.6 | 176.0 | 156.3 |  332 | 2405.0 | middle |\n",
       "| 12 |  46 |  30.3 |  140.0 |  785.0 | 1210.0 |  60.2 |  360.3 | 127.3 | 104.9 |  232 | 1345.0 | middle |\n",
       "| 13 |  46 |  33.0 |  168.1 |  910.0 | 1195.0 |  89.3 |  384.9 | 123.4 | 125.2 |  249 | 1460.0 | middle |\n",
       "| 14 |  50 |  42.0 |  205.0 | 1115.0 | 1415.0 |  80.0 |  560.0 | 145.0 | 160.0 |  305 | 1745.0 | middle |\n",
       "| 15 |  50 |  37.5 |  205.0 | 1142.6 | 1099.8 |  57.5 |  543.0 | 143.3 | 131.1 |  274 | 1372.0 | middle |\n",
       "| 16 |  60 |  55.0 |  320.9 | 1465.0 | 2250.0 |  96.5 |  961.8 | 226.5 | 200.7 |  427 | 2805.0 | middle |\n",
       "| 17 |  59 |  50.5 |  255.0 | 1250.0 | 2115.0 | 135.0 |  850.0 | 200.0 | 215.0 |  415 | 2675.0 | middle |\n",
       "| 18 |  66 |  57.5 |  370.0 | 1580.0 | 2195.0 | 140.0 |  720.0 | 220.0 | 230.0 |  450 | 2490.0 | middle |\n",
       "| 19 |  68 |  67.5 |  465.0 | 2000.0 | 2990.0 | 350.0 |  865.0 | 255.0 | 275.0 |  530 | 2880.0 | middle |\n",
       "| 20 |  68 |  53.5 |  332.8 | 1474.4 | 2124.2 | 149.6 |  730.0 | 227.6 | 229.3 |  457 | 2497.0 | middle |\n",
       "| 23 |  72 |  73.0 |  449.0 |     NA | 2715.0 | 127.0 | 1044.0 |    NA |    NA |  605 |     NA | high   |\n",
       "| 21 |  73 |  54.5 |  282.5 | 1220.0 | 2795.0 | 136.5 |  919.0 | 277.9 | 262.8 |  541 | 2515.0 | middle |\n",
       "| 22 |  73 |  68.5 |  355.0 | 1790.0 | 3875.0 | 145.0 | 1390.0 | 290.0 | 335.0 |  625 | 3535.0 | high   |\n",
       "| 24 |  80 |  74.0 |  310.0 | 1510.0 | 3130.0 | 118.3 |  985.8 | 285.0 | 300.0 |  585 | 3410.0 | high   |\n",
       "| 25 |  84 |  68.0 |  532.0 |     NA | 2937.0 | 160.0 | 1209.0 |    NA |    NA |  620 |     NA | middle |\n",
       "| 26 |  96 |  97.0 |  667.0 |     NA | 4241.0 | 213.0 | 1542.0 |    NA |    NA |  757 |     NA | high   |\n",
       "| 27 | 106 | 101.0 |  440.0 | 2735.0 | 3580.0 | 305.0 | 1260.0 | 368.4 | 391.7 |  760 | 3570.0 | high   |\n",
       "| 28 | 108 | 128.0 | 1012.0 |     NA | 5172.0 | 284.0 | 1734.0 |    NA |    NA |  888 |     NA | high   |\n",
       "| 29 | 118 |  95.0 |  505.0 | 2380.0 | 3720.0 | 425.0 | 1245.0 | 385.0 | 400.0 |  785 | 3565.0 | high   |\n",
       "| 30 | 120 | 179.0 | 1075.0 |     NA | 8309.0 |    NA | 2500.0 |    NA |    NA | 1410 |     NA | high   |\n",
       "\n"
      ],
      "text/plain": [
       "   age weight heart  lung   liver  spleen stomach leftkid rightkid kidney\n",
       "2   33  27.5   127.7  605.0  855.0  52.5   338.2  107.9   107.5     215  \n",
       "1   10  24.3    93.2  436.0  435.4  24.5   120.4   62.8    63.9     127  \n",
       "3   10  22.0    84.5  380.0  530.0  31.3   237.6   53.5    58.0     112  \n",
       "4   10  18.5    85.4  493.9  542.0  30.8   193.1   66.0    73.2     139  \n",
       "5   12  28.0   182.0     NA  949.0  46.0   400.0     NA      NA     238  \n",
       "6   18  23.8   130.0  550.0 1100.0  51.0   443.2  145.9   147.3     293  \n",
       "7   19  18.5    98.8  470.0  627.2  40.0   265.9   92.7    88.5     181  \n",
       "8   23  18.0   117.3  592.5  632.9  28.9   280.8   86.1    86.0     172  \n",
       "10  31  34.0   180.0  605.0 1040.0  45.0   425.0  125.0   120.0     245  \n",
       "9   33  28.5   150.4  799.9 1047.1  41.3   476.2  124.5   123.9     248  \n",
       "11  44  35.8   145.5  995.0 1525.0  90.0   475.6  176.0   156.3     332  \n",
       "12  46  30.3   140.0  785.0 1210.0  60.2   360.3  127.3   104.9     232  \n",
       "13  46  33.0   168.1  910.0 1195.0  89.3   384.9  123.4   125.2     249  \n",
       "14  50  42.0   205.0 1115.0 1415.0  80.0   560.0  145.0   160.0     305  \n",
       "15  50  37.5   205.0 1142.6 1099.8  57.5   543.0  143.3   131.1     274  \n",
       "16  60  55.0   320.9 1465.0 2250.0  96.5   961.8  226.5   200.7     427  \n",
       "17  59  50.5   255.0 1250.0 2115.0 135.0   850.0  200.0   215.0     415  \n",
       "18  66  57.5   370.0 1580.0 2195.0 140.0   720.0  220.0   230.0     450  \n",
       "19  68  67.5   465.0 2000.0 2990.0 350.0   865.0  255.0   275.0     530  \n",
       "20  68  53.5   332.8 1474.4 2124.2 149.6   730.0  227.6   229.3     457  \n",
       "23  72  73.0   449.0     NA 2715.0 127.0  1044.0     NA      NA     605  \n",
       "21  73  54.5   282.5 1220.0 2795.0 136.5   919.0  277.9   262.8     541  \n",
       "22  73  68.5   355.0 1790.0 3875.0 145.0  1390.0  290.0   335.0     625  \n",
       "24  80  74.0   310.0 1510.0 3130.0 118.3   985.8  285.0   300.0     585  \n",
       "25  84  68.0   532.0     NA 2937.0 160.0  1209.0     NA      NA     620  \n",
       "26  96  97.0   667.0     NA 4241.0 213.0  1542.0     NA      NA     757  \n",
       "27 106 101.0   440.0 2735.0 3580.0 305.0  1260.0  368.4   391.7     760  \n",
       "28 108 128.0  1012.0     NA 5172.0 284.0  1734.0     NA      NA     888  \n",
       "29 118  95.0   505.0 2380.0 3720.0 425.0  1245.0  385.0   400.0     785  \n",
       "30 120 179.0  1075.0     NA 8309.0    NA  2500.0     NA      NA    1410  \n",
       "   intestines group \n",
       "2   885.0     low   \n",
       "1   711.4     low   \n",
       "3   765.0     low   \n",
       "4   849.6     low   \n",
       "5      NA     low   \n",
       "6  1210.0     low   \n",
       "7   959.0     low   \n",
       "8   855.4     low   \n",
       "10 1540.0     middle\n",
       "9  1644.0     middle\n",
       "11 2405.0     middle\n",
       "12 1345.0     middle\n",
       "13 1460.0     middle\n",
       "14 1745.0     middle\n",
       "15 1372.0     middle\n",
       "16 2805.0     middle\n",
       "17 2675.0     middle\n",
       "18 2490.0     middle\n",
       "19 2880.0     middle\n",
       "20 2497.0     middle\n",
       "23     NA     high  \n",
       "21 2515.0     middle\n",
       "22 3535.0     high  \n",
       "24 3410.0     high  \n",
       "25     NA     middle\n",
       "26     NA     high  \n",
       "27 3570.0     high  \n",
       "28     NA     high  \n",
       "29 3565.0     high  \n",
       "30     NA     high  "
      ]
     },
     "metadata": {},
     "output_type": "display_data"
    }
   ],
   "source": [
    "ds"
   ]
  },
  {
   "cell_type": "code",
   "execution_count": 98,
   "id": "4962082e",
   "metadata": {},
   "outputs": [
    {
     "data": {
      "image/png": "[encoded data removed]",
      "text/plain": [
       "Plot with title \"물개의 위 무게 분포\""
      ]
     },
     "metadata": {
      "image/png": {
       "height": 420,
       "width": 420
      }
     },
     "output_type": "display_data"
    }
   ],
   "source": [
    "boxplot(ds$stomach~ds$group,\n",
    "       main  = '물개의 위 무게 분포',\n",
    "       col = c('orange','green','skyblue'))"
   ]
  },
  {
   "cell_type": "code",
   "execution_count": 99,
   "id": "fc0ac8b4",
   "metadata": {},
   "outputs": [],
   "source": [
    "data(greatLakes)"
   ]
  },
  {
   "cell_type": "code",
   "execution_count": 100,
   "id": "048d8bc2",
   "metadata": {},
   "outputs": [],
   "source": [
    "ds = data.frame(year = 1918:2009, greatLakes)"
   ]
  },
  {
   "cell_type": "code",
   "execution_count": 101,
   "id": "8eea9b39",
   "metadata": {},
   "outputs": [
    {
     "data": {
      "text/html": [
       "<table class=\"dataframe\">\n",
       "<caption>A data.frame: 92 × 5</caption>\n",
       "<thead>\n",
       "\t<tr><th scope=col>year</th><th scope=col>Erie</th><th scope=col>michHuron</th><th scope=col>Ontario</th><th scope=col>StClair</th></tr>\n",
       "\t<tr><th scope=col>&lt;int&gt;</th><th scope=col>&lt;dbl&gt;</th><th scope=col>&lt;dbl&gt;</th><th scope=col>&lt;dbl&gt;</th><th scope=col>&lt;dbl&gt;</th></tr>\n",
       "</thead>\n",
       "<tbody>\n",
       "\t<tr><td>1918</td><td>174.0150</td><td>176.8867</td><td>74.87250</td><td>174.9567</td></tr>\n",
       "\t<tr><td>1919</td><td>174.1808</td><td>176.7450</td><td>74.95583</td><td>175.0767</td></tr>\n",
       "\t<tr><td>1920</td><td>173.9083</td><td>176.6250</td><td>74.56750</td><td>174.8150</td></tr>\n",
       "\t<tr><td>1921</td><td>174.0258</td><td>176.4883</td><td>74.66583</td><td>174.8692</td></tr>\n",
       "\t<tr><td>1922</td><td>173.9275</td><td>176.4450</td><td>74.65667</td><td>174.8108</td></tr>\n",
       "\t<tr><td>1923</td><td>173.7575</td><td>176.2642</td><td>74.44333</td><td>174.6525</td></tr>\n",
       "\t<tr><td>1924</td><td>173.8433</td><td>176.1867</td><td>74.55750</td><td>174.6375</td></tr>\n",
       "\t<tr><td>1925</td><td>173.5933</td><td>175.9192</td><td>74.39000</td><td>174.4058</td></tr>\n",
       "\t<tr><td>1926</td><td>173.6408</td><td>175.8850</td><td>74.40250</td><td>174.4017</td></tr>\n",
       "\t<tr><td>1927</td><td>173.8183</td><td>176.1483</td><td>74.60667</td><td>174.5983</td></tr>\n",
       "\t<tr><td>1928</td><td>173.9517</td><td>176.4433</td><td>74.80083</td><td>174.8050</td></tr>\n",
       "\t<tr><td>1929</td><td>174.3117</td><td>176.8958</td><td>75.08500</td><td>175.2642</td></tr>\n",
       "\t<tr><td>1930</td><td>174.2700</td><td>176.6508</td><td>75.08083</td><td>175.0950</td></tr>\n",
       "\t<tr><td>1931</td><td>173.7050</td><td>176.1183</td><td>74.35750</td><td>174.5083</td></tr>\n",
       "\t<tr><td>1932</td><td>173.7358</td><td>175.9408</td><td>74.50250</td><td>174.5658</td></tr>\n",
       "\t<tr><td>1933</td><td>173.6767</td><td>175.8675</td><td>74.27583</td><td>174.5467</td></tr>\n",
       "\t<tr><td>1934</td><td>173.3317</td><td>175.7667</td><td>74.02167</td><td>174.2742</td></tr>\n",
       "\t<tr><td>1935</td><td>173.4108</td><td>175.8908</td><td>74.00417</td><td>174.3608</td></tr>\n",
       "\t<tr><td>1936</td><td>173.4883</td><td>175.9392</td><td>74.16417</td><td>174.3933</td></tr>\n",
       "\t<tr><td>1937</td><td>173.8200</td><td>175.9225</td><td>74.49583</td><td>174.6033</td></tr>\n",
       "\t<tr><td>1938</td><td>173.8408</td><td>176.1408</td><td>74.52250</td><td>174.6892</td></tr>\n",
       "\t<tr><td>1939</td><td>173.8458</td><td>176.2692</td><td>74.49250</td><td>174.7208</td></tr>\n",
       "\t<tr><td>1940</td><td>173.7950</td><td>176.1417</td><td>74.42583</td><td>174.6450</td></tr>\n",
       "\t<tr><td>1941</td><td>173.7000</td><td>176.1217</td><td>74.40750</td><td>174.5817</td></tr>\n",
       "\t<tr><td>1942</td><td>173.8767</td><td>176.3342</td><td>74.51667</td><td>174.7675</td></tr>\n",
       "\t<tr><td>1943</td><td>174.2317</td><td>176.6267</td><td>75.13417</td><td>175.1125</td></tr>\n",
       "\t<tr><td>1944</td><td>174.0917</td><td>176.5967</td><td>74.84583</td><td>174.9817</td></tr>\n",
       "\t<tr><td>1945</td><td>174.1883</td><td>176.5700</td><td>75.06000</td><td>175.0892</td></tr>\n",
       "\t<tr><td>1946</td><td>174.1358</td><td>176.6017</td><td>74.99333</td><td>175.0383</td></tr>\n",
       "\t<tr><td>1947</td><td>174.2350</td><td>176.5667</td><td>75.16917</td><td>175.1042</td></tr>\n",
       "\t<tr><td>⋮</td><td>⋮</td><td>⋮</td><td>⋮</td><td>⋮</td></tr>\n",
       "\t<tr><td>1980</td><td>174.5217</td><td>176.8033</td><td>74.82333</td><td>175.4075</td></tr>\n",
       "\t<tr><td>1981</td><td>174.3983</td><td>176.6983</td><td>74.78583</td><td>175.2958</td></tr>\n",
       "\t<tr><td>1982</td><td>174.4250</td><td>176.5983</td><td>74.75250</td><td>175.2992</td></tr>\n",
       "\t<tr><td>1983</td><td>174.5208</td><td>176.8333</td><td>74.82167</td><td>175.4333</td></tr>\n",
       "\t<tr><td>1984</td><td>174.5225</td><td>176.8950</td><td>74.90167</td><td>175.4350</td></tr>\n",
       "\t<tr><td>1985</td><td>174.7283</td><td>177.1267</td><td>74.87750</td><td>175.7000</td></tr>\n",
       "\t<tr><td>1986</td><td>174.8983</td><td>177.2925</td><td>75.14750</td><td>175.8517</td></tr>\n",
       "\t<tr><td>1987</td><td>174.6675</td><td>176.9700</td><td>74.84917</td><td>175.5608</td></tr>\n",
       "\t<tr><td>1988</td><td>174.2617</td><td>176.5642</td><td>74.68000</td><td>175.1933</td></tr>\n",
       "\t<tr><td>1989</td><td>174.2258</td><td>176.4008</td><td>74.76083</td><td>175.1092</td></tr>\n",
       "\t<tr><td>1990</td><td>174.2942</td><td>176.3500</td><td>74.80417</td><td>175.1308</td></tr>\n",
       "\t<tr><td>1991</td><td>174.3267</td><td>176.4692</td><td>74.87000</td><td>175.1975</td></tr>\n",
       "\t<tr><td>1992</td><td>174.3567</td><td>176.4792</td><td>74.83250</td><td>175.2200</td></tr>\n",
       "\t<tr><td>1993</td><td>174.5042</td><td>176.6958</td><td>75.04250</td><td>175.3808</td></tr>\n",
       "\t<tr><td>1994</td><td>174.3667</td><td>176.6783</td><td>74.75500</td><td>175.2900</td></tr>\n",
       "\t<tr><td>1995</td><td>174.2842</td><td>176.5275</td><td>74.73917</td><td>175.1833</td></tr>\n",
       "\t<tr><td>1996</td><td>174.3750</td><td>176.6542</td><td>74.87333</td><td>175.2467</td></tr>\n",
       "\t<tr><td>1997</td><td>174.7175</td><td>176.9842</td><td>74.96250</td><td>175.6125</td></tr>\n",
       "\t<tr><td>1998</td><td>174.5508</td><td>176.7167</td><td>74.91000</td><td>175.3975</td></tr>\n",
       "\t<tr><td>1999</td><td>174.1025</td><td>176.2358</td><td>74.57250</td><td>174.9758</td></tr>\n",
       "\t<tr><td>2000</td><td>173.9900</td><td>175.9783</td><td>74.78000</td><td>174.7925</td></tr>\n",
       "\t<tr><td>2001</td><td>173.9142</td><td>175.9508</td><td>74.69917</td><td>174.7617</td></tr>\n",
       "\t<tr><td>2002</td><td>174.0583</td><td>176.1183</td><td>74.79000</td><td>174.8833</td></tr>\n",
       "\t<tr><td>2003</td><td>173.9658</td><td>175.8917</td><td>74.71333</td><td>174.7375</td></tr>\n",
       "\t<tr><td>2004</td><td>174.1158</td><td>176.1108</td><td>74.84833</td><td>174.9167</td></tr>\n",
       "\t<tr><td>2005</td><td>174.1700</td><td>176.0900</td><td>74.82167</td><td>174.9383</td></tr>\n",
       "\t<tr><td>2006</td><td>174.1467</td><td>176.0158</td><td>74.83083</td><td>174.8917</td></tr>\n",
       "\t<tr><td>2007</td><td>174.1392</td><td>175.9433</td><td>74.75167</td><td>174.8483</td></tr>\n",
       "\t<tr><td>2008</td><td>174.1592</td><td>176.0050</td><td>74.87500</td><td>174.9200</td></tr>\n",
       "\t<tr><td>2009</td><td>174.2483</td><td>176.2583</td><td>74.87333</td><td>175.0767</td></tr>\n",
       "</tbody>\n",
       "</table>\n"
      ],
      "text/latex": [
       "A data.frame: 92 × 5\n",
       "\\begin{tabular}{lllll}\n",
       " year & Erie & michHuron & Ontario & StClair\\\\\n",
       " <int> & <dbl> & <dbl> & <dbl> & <dbl>\\\\\n",
       "\\hline\n",
       "\t 1918 & 174.0150 & 176.8867 & 74.87250 & 174.9567\\\\\n",
       "\t 1919 & 174.1808 & 176.7450 & 74.95583 & 175.0767\\\\\n",
       "\t 1920 & 173.9083 & 176.6250 & 74.56750 & 174.8150\\\\\n",
       "\t 1921 & 174.0258 & 176.4883 & 74.66583 & 174.8692\\\\\n",
       "\t 1922 & 173.9275 & 176.4450 & 74.65667 & 174.8108\\\\\n",
       "\t 1923 & 173.7575 & 176.2642 & 74.44333 & 174.6525\\\\\n",
       "\t 1924 & 173.8433 & 176.1867 & 74.55750 & 174.6375\\\\\n",
       "\t 1925 & 173.5933 & 175.9192 & 74.39000 & 174.4058\\\\\n",
       "\t 1926 & 173.6408 & 175.8850 & 74.40250 & 174.4017\\\\\n",
       "\t 1927 & 173.8183 & 176.1483 & 74.60667 & 174.5983\\\\\n",
       "\t 1928 & 173.9517 & 176.4433 & 74.80083 & 174.8050\\\\\n",
       "\t 1929 & 174.3117 & 176.8958 & 75.08500 & 175.2642\\\\\n",
       "\t 1930 & 174.2700 & 176.6508 & 75.08083 & 175.0950\\\\\n",
       "\t 1931 & 173.7050 & 176.1183 & 74.35750 & 174.5083\\\\\n",
       "\t 1932 & 173.7358 & 175.9408 & 74.50250 & 174.5658\\\\\n",
       "\t 1933 & 173.6767 & 175.8675 & 74.27583 & 174.5467\\\\\n",
       "\t 1934 & 173.3317 & 175.7667 & 74.02167 & 174.2742\\\\\n",
       "\t 1935 & 173.4108 & 175.8908 & 74.00417 & 174.3608\\\\\n",
       "\t 1936 & 173.4883 & 175.9392 & 74.16417 & 174.3933\\\\\n",
       "\t 1937 & 173.8200 & 175.9225 & 74.49583 & 174.6033\\\\\n",
       "\t 1938 & 173.8408 & 176.1408 & 74.52250 & 174.6892\\\\\n",
       "\t 1939 & 173.8458 & 176.2692 & 74.49250 & 174.7208\\\\\n",
       "\t 1940 & 173.7950 & 176.1417 & 74.42583 & 174.6450\\\\\n",
       "\t 1941 & 173.7000 & 176.1217 & 74.40750 & 174.5817\\\\\n",
       "\t 1942 & 173.8767 & 176.3342 & 74.51667 & 174.7675\\\\\n",
       "\t 1943 & 174.2317 & 176.6267 & 75.13417 & 175.1125\\\\\n",
       "\t 1944 & 174.0917 & 176.5967 & 74.84583 & 174.9817\\\\\n",
       "\t 1945 & 174.1883 & 176.5700 & 75.06000 & 175.0892\\\\\n",
       "\t 1946 & 174.1358 & 176.6017 & 74.99333 & 175.0383\\\\\n",
       "\t 1947 & 174.2350 & 176.5667 & 75.16917 & 175.1042\\\\\n",
       "\t ⋮ & ⋮ & ⋮ & ⋮ & ⋮\\\\\n",
       "\t 1980 & 174.5217 & 176.8033 & 74.82333 & 175.4075\\\\\n",
       "\t 1981 & 174.3983 & 176.6983 & 74.78583 & 175.2958\\\\\n",
       "\t 1982 & 174.4250 & 176.5983 & 74.75250 & 175.2992\\\\\n",
       "\t 1983 & 174.5208 & 176.8333 & 74.82167 & 175.4333\\\\\n",
       "\t 1984 & 174.5225 & 176.8950 & 74.90167 & 175.4350\\\\\n",
       "\t 1985 & 174.7283 & 177.1267 & 74.87750 & 175.7000\\\\\n",
       "\t 1986 & 174.8983 & 177.2925 & 75.14750 & 175.8517\\\\\n",
       "\t 1987 & 174.6675 & 176.9700 & 74.84917 & 175.5608\\\\\n",
       "\t 1988 & 174.2617 & 176.5642 & 74.68000 & 175.1933\\\\\n",
       "\t 1989 & 174.2258 & 176.4008 & 74.76083 & 175.1092\\\\\n",
       "\t 1990 & 174.2942 & 176.3500 & 74.80417 & 175.1308\\\\\n",
       "\t 1991 & 174.3267 & 176.4692 & 74.87000 & 175.1975\\\\\n",
       "\t 1992 & 174.3567 & 176.4792 & 74.83250 & 175.2200\\\\\n",
       "\t 1993 & 174.5042 & 176.6958 & 75.04250 & 175.3808\\\\\n",
       "\t 1994 & 174.3667 & 176.6783 & 74.75500 & 175.2900\\\\\n",
       "\t 1995 & 174.2842 & 176.5275 & 74.73917 & 175.1833\\\\\n",
       "\t 1996 & 174.3750 & 176.6542 & 74.87333 & 175.2467\\\\\n",
       "\t 1997 & 174.7175 & 176.9842 & 74.96250 & 175.6125\\\\\n",
       "\t 1998 & 174.5508 & 176.7167 & 74.91000 & 175.3975\\\\\n",
       "\t 1999 & 174.1025 & 176.2358 & 74.57250 & 174.9758\\\\\n",
       "\t 2000 & 173.9900 & 175.9783 & 74.78000 & 174.7925\\\\\n",
       "\t 2001 & 173.9142 & 175.9508 & 74.69917 & 174.7617\\\\\n",
       "\t 2002 & 174.0583 & 176.1183 & 74.79000 & 174.8833\\\\\n",
       "\t 2003 & 173.9658 & 175.8917 & 74.71333 & 174.7375\\\\\n",
       "\t 2004 & 174.1158 & 176.1108 & 74.84833 & 174.9167\\\\\n",
       "\t 2005 & 174.1700 & 176.0900 & 74.82167 & 174.9383\\\\\n",
       "\t 2006 & 174.1467 & 176.0158 & 74.83083 & 174.8917\\\\\n",
       "\t 2007 & 174.1392 & 175.9433 & 74.75167 & 174.8483\\\\\n",
       "\t 2008 & 174.1592 & 176.0050 & 74.87500 & 174.9200\\\\\n",
       "\t 2009 & 174.2483 & 176.2583 & 74.87333 & 175.0767\\\\\n",
       "\\end{tabular}\n"
      ],
      "text/markdown": [
       "\n",
       "A data.frame: 92 × 5\n",
       "\n",
       "| year &lt;int&gt; | Erie &lt;dbl&gt; | michHuron &lt;dbl&gt; | Ontario &lt;dbl&gt; | StClair &lt;dbl&gt; |\n",
       "|---|---|---|---|---|\n",
       "| 1918 | 174.0150 | 176.8867 | 74.87250 | 174.9567 |\n",
       "| 1919 | 174.1808 | 176.7450 | 74.95583 | 175.0767 |\n",
       "| 1920 | 173.9083 | 176.6250 | 74.56750 | 174.8150 |\n",
       "| 1921 | 174.0258 | 176.4883 | 74.66583 | 174.8692 |\n",
       "| 1922 | 173.9275 | 176.4450 | 74.65667 | 174.8108 |\n",
       "| 1923 | 173.7575 | 176.2642 | 74.44333 | 174.6525 |\n",
       "| 1924 | 173.8433 | 176.1867 | 74.55750 | 174.6375 |\n",
       "| 1925 | 173.5933 | 175.9192 | 74.39000 | 174.4058 |\n",
       "| 1926 | 173.6408 | 175.8850 | 74.40250 | 174.4017 |\n",
       "| 1927 | 173.8183 | 176.1483 | 74.60667 | 174.5983 |\n",
       "| 1928 | 173.9517 | 176.4433 | 74.80083 | 174.8050 |\n",
       "| 1929 | 174.3117 | 176.8958 | 75.08500 | 175.2642 |\n",
       "| 1930 | 174.2700 | 176.6508 | 75.08083 | 175.0950 |\n",
       "| 1931 | 173.7050 | 176.1183 | 74.35750 | 174.5083 |\n",
       "| 1932 | 173.7358 | 175.9408 | 74.50250 | 174.5658 |\n",
       "| 1933 | 173.6767 | 175.8675 | 74.27583 | 174.5467 |\n",
       "| 1934 | 173.3317 | 175.7667 | 74.02167 | 174.2742 |\n",
       "| 1935 | 173.4108 | 175.8908 | 74.00417 | 174.3608 |\n",
       "| 1936 | 173.4883 | 175.9392 | 74.16417 | 174.3933 |\n",
       "| 1937 | 173.8200 | 175.9225 | 74.49583 | 174.6033 |\n",
       "| 1938 | 173.8408 | 176.1408 | 74.52250 | 174.6892 |\n",
       "| 1939 | 173.8458 | 176.2692 | 74.49250 | 174.7208 |\n",
       "| 1940 | 173.7950 | 176.1417 | 74.42583 | 174.6450 |\n",
       "| 1941 | 173.7000 | 176.1217 | 74.40750 | 174.5817 |\n",
       "| 1942 | 173.8767 | 176.3342 | 74.51667 | 174.7675 |\n",
       "| 1943 | 174.2317 | 176.6267 | 75.13417 | 175.1125 |\n",
       "| 1944 | 174.0917 | 176.5967 | 74.84583 | 174.9817 |\n",
       "| 1945 | 174.1883 | 176.5700 | 75.06000 | 175.0892 |\n",
       "| 1946 | 174.1358 | 176.6017 | 74.99333 | 175.0383 |\n",
       "| 1947 | 174.2350 | 176.5667 | 75.16917 | 175.1042 |\n",
       "| ⋮ | ⋮ | ⋮ | ⋮ | ⋮ |\n",
       "| 1980 | 174.5217 | 176.8033 | 74.82333 | 175.4075 |\n",
       "| 1981 | 174.3983 | 176.6983 | 74.78583 | 175.2958 |\n",
       "| 1982 | 174.4250 | 176.5983 | 74.75250 | 175.2992 |\n",
       "| 1983 | 174.5208 | 176.8333 | 74.82167 | 175.4333 |\n",
       "| 1984 | 174.5225 | 176.8950 | 74.90167 | 175.4350 |\n",
       "| 1985 | 174.7283 | 177.1267 | 74.87750 | 175.7000 |\n",
       "| 1986 | 174.8983 | 177.2925 | 75.14750 | 175.8517 |\n",
       "| 1987 | 174.6675 | 176.9700 | 74.84917 | 175.5608 |\n",
       "| 1988 | 174.2617 | 176.5642 | 74.68000 | 175.1933 |\n",
       "| 1989 | 174.2258 | 176.4008 | 74.76083 | 175.1092 |\n",
       "| 1990 | 174.2942 | 176.3500 | 74.80417 | 175.1308 |\n",
       "| 1991 | 174.3267 | 176.4692 | 74.87000 | 175.1975 |\n",
       "| 1992 | 174.3567 | 176.4792 | 74.83250 | 175.2200 |\n",
       "| 1993 | 174.5042 | 176.6958 | 75.04250 | 175.3808 |\n",
       "| 1994 | 174.3667 | 176.6783 | 74.75500 | 175.2900 |\n",
       "| 1995 | 174.2842 | 176.5275 | 74.73917 | 175.1833 |\n",
       "| 1996 | 174.3750 | 176.6542 | 74.87333 | 175.2467 |\n",
       "| 1997 | 174.7175 | 176.9842 | 74.96250 | 175.6125 |\n",
       "| 1998 | 174.5508 | 176.7167 | 74.91000 | 175.3975 |\n",
       "| 1999 | 174.1025 | 176.2358 | 74.57250 | 174.9758 |\n",
       "| 2000 | 173.9900 | 175.9783 | 74.78000 | 174.7925 |\n",
       "| 2001 | 173.9142 | 175.9508 | 74.69917 | 174.7617 |\n",
       "| 2002 | 174.0583 | 176.1183 | 74.79000 | 174.8833 |\n",
       "| 2003 | 173.9658 | 175.8917 | 74.71333 | 174.7375 |\n",
       "| 2004 | 174.1158 | 176.1108 | 74.84833 | 174.9167 |\n",
       "| 2005 | 174.1700 | 176.0900 | 74.82167 | 174.9383 |\n",
       "| 2006 | 174.1467 | 176.0158 | 74.83083 | 174.8917 |\n",
       "| 2007 | 174.1392 | 175.9433 | 74.75167 | 174.8483 |\n",
       "| 2008 | 174.1592 | 176.0050 | 74.87500 | 174.9200 |\n",
       "| 2009 | 174.2483 | 176.2583 | 74.87333 | 175.0767 |\n",
       "\n"
      ],
      "text/plain": [
       "   year Erie     michHuron Ontario  StClair \n",
       "1  1918 174.0150 176.8867  74.87250 174.9567\n",
       "2  1919 174.1808 176.7450  74.95583 175.0767\n",
       "3  1920 173.9083 176.6250  74.56750 174.8150\n",
       "4  1921 174.0258 176.4883  74.66583 174.8692\n",
       "5  1922 173.9275 176.4450  74.65667 174.8108\n",
       "6  1923 173.7575 176.2642  74.44333 174.6525\n",
       "7  1924 173.8433 176.1867  74.55750 174.6375\n",
       "8  1925 173.5933 175.9192  74.39000 174.4058\n",
       "9  1926 173.6408 175.8850  74.40250 174.4017\n",
       "10 1927 173.8183 176.1483  74.60667 174.5983\n",
       "11 1928 173.9517 176.4433  74.80083 174.8050\n",
       "12 1929 174.3117 176.8958  75.08500 175.2642\n",
       "13 1930 174.2700 176.6508  75.08083 175.0950\n",
       "14 1931 173.7050 176.1183  74.35750 174.5083\n",
       "15 1932 173.7358 175.9408  74.50250 174.5658\n",
       "16 1933 173.6767 175.8675  74.27583 174.5467\n",
       "17 1934 173.3317 175.7667  74.02167 174.2742\n",
       "18 1935 173.4108 175.8908  74.00417 174.3608\n",
       "19 1936 173.4883 175.9392  74.16417 174.3933\n",
       "20 1937 173.8200 175.9225  74.49583 174.6033\n",
       "21 1938 173.8408 176.1408  74.52250 174.6892\n",
       "22 1939 173.8458 176.2692  74.49250 174.7208\n",
       "23 1940 173.7950 176.1417  74.42583 174.6450\n",
       "24 1941 173.7000 176.1217  74.40750 174.5817\n",
       "25 1942 173.8767 176.3342  74.51667 174.7675\n",
       "26 1943 174.2317 176.6267  75.13417 175.1125\n",
       "27 1944 174.0917 176.5967  74.84583 174.9817\n",
       "28 1945 174.1883 176.5700  75.06000 175.0892\n",
       "29 1946 174.1358 176.6017  74.99333 175.0383\n",
       "30 1947 174.2350 176.5667  75.16917 175.1042\n",
       "⋮  ⋮    ⋮        ⋮         ⋮        ⋮       \n",
       "63 1980 174.5217 176.8033  74.82333 175.4075\n",
       "64 1981 174.3983 176.6983  74.78583 175.2958\n",
       "65 1982 174.4250 176.5983  74.75250 175.2992\n",
       "66 1983 174.5208 176.8333  74.82167 175.4333\n",
       "67 1984 174.5225 176.8950  74.90167 175.4350\n",
       "68 1985 174.7283 177.1267  74.87750 175.7000\n",
       "69 1986 174.8983 177.2925  75.14750 175.8517\n",
       "70 1987 174.6675 176.9700  74.84917 175.5608\n",
       "71 1988 174.2617 176.5642  74.68000 175.1933\n",
       "72 1989 174.2258 176.4008  74.76083 175.1092\n",
       "73 1990 174.2942 176.3500  74.80417 175.1308\n",
       "74 1991 174.3267 176.4692  74.87000 175.1975\n",
       "75 1992 174.3567 176.4792  74.83250 175.2200\n",
       "76 1993 174.5042 176.6958  75.04250 175.3808\n",
       "77 1994 174.3667 176.6783  74.75500 175.2900\n",
       "78 1995 174.2842 176.5275  74.73917 175.1833\n",
       "79 1996 174.3750 176.6542  74.87333 175.2467\n",
       "80 1997 174.7175 176.9842  74.96250 175.6125\n",
       "81 1998 174.5508 176.7167  74.91000 175.3975\n",
       "82 1999 174.1025 176.2358  74.57250 174.9758\n",
       "83 2000 173.9900 175.9783  74.78000 174.7925\n",
       "84 2001 173.9142 175.9508  74.69917 174.7617\n",
       "85 2002 174.0583 176.1183  74.79000 174.8833\n",
       "86 2003 173.9658 175.8917  74.71333 174.7375\n",
       "87 2004 174.1158 176.1108  74.84833 174.9167\n",
       "88 2005 174.1700 176.0900  74.82167 174.9383\n",
       "89 2006 174.1467 176.0158  74.83083 174.8917\n",
       "90 2007 174.1392 175.9433  74.75167 174.8483\n",
       "91 2008 174.1592 176.0050  74.87500 174.9200\n",
       "92 2009 174.2483 176.2583  74.87333 175.0767"
      ]
     },
     "metadata": {},
     "output_type": "display_data"
    }
   ],
   "source": [
    "ds"
   ]
  },
  {
   "cell_type": "code",
   "execution_count": 106,
   "id": "ea22dac1",
   "metadata": {},
   "outputs": [
    {
     "data": {
      "image/png": "[encoded data removed]",
      "text/plain": [
       "Plot with title \"michHuron 호 수위\""
      ]
     },
     "metadata": {
      "image/png": {
       "height": 420,
       "width": 420
      }
     },
     "output_type": "display_data"
    }
   ],
   "source": [
    "plot(ds$year, ds$michHuron,\n",
    "    type = 'b',\n",
    "    col = 'red',\n",
    "    main = 'michHuron 호 수위',\n",
    "    xlab = '연도',\n",
    "    ylab = '수위')"
   ]
  },
  {
   "cell_type": "code",
   "execution_count": 111,
   "id": "8c58e807",
   "metadata": {},
   "outputs": [
    {
     "data": {
      "image/png": "[encoded data removed]",
      "text/plain": [
       "Plot with title \"michHuron 호 수위\""
      ]
     },
     "metadata": {
      "image/png": {
       "height": 420,
       "width": 420
      }
     },
     "output_type": "display_data"
    }
   ],
   "source": [
    "plot(ds$year, ds$michHuron,\n",
    "    type = 'b',\n",
    "    col = 'red',\n",
    "    main = 'michHuron 호 수위',\n",
    "    xlab = '연도',\n",
    "    ylab = '수위',\n",
    "    ylim = c(173, 178))\n",
    "lines(ds$year, ds$StClair,\n",
    "     type = 'b',\n",
    "     col = 'blue')\n",
    "lines(ds$year, ds$Erie,\n",
    "     type ='b',\n",
    "     col = 'yellow')"
   ]
  },
  {
   "cell_type": "code",
   "execution_count": 112,
   "id": "3800a66e",
   "metadata": {},
   "outputs": [],
   "source": [
    "library(carData)"
   ]
  },
  {
   "cell_type": "code",
   "execution_count": 118,
   "id": "59bae5d4",
   "metadata": {},
   "outputs": [
    {
     "data": {
      "image/png": "[encoded data removed]",
      "text/plain": [
       "Plot with title \"수상한 행위를 한 시민의 인종\""
      ]
     },
     "metadata": {
      "image/png": {
       "height": 420,
       "width": 420
      }
     },
     "output_type": "display_data"
    }
   ],
   "source": [
    "pie(table(MplsStops$race),\n",
    "   main = '수상한 행위를 한 시민의 인종')"
   ]
  },
  {
   "cell_type": "code",
   "execution_count": 121,
   "id": "90e76191",
   "metadata": {},
   "outputs": [
    {
     "data": {
      "image/png": "[encoded data removed]",
      "text/plain": [
       "Plot with title \"타입별 수상한 멈춤\""
      ]
     },
     "metadata": {
      "image/png": {
       "height": 420,
       "width": 420
      }
     },
     "output_type": "display_data"
    }
   ],
   "source": [
    "pie(table(MplsStops$problem),\n",
    "   main = '타입별 수상한 멈춤',\n",
    "   col = c('red', 'blue'))"
   ]
  },
  {
   "cell_type": "code",
   "execution_count": 123,
   "id": "4b1d2051",
   "metadata": {},
   "outputs": [
    {
     "data": {
      "image/png": "[encoded data removed]",
      "text/plain": [
       "Plot with title \"수상한 행위를 한 시민의 수색비율\""
      ]
     },
     "metadata": {
      "image/png": {
       "height": 420,
       "width": 420
      }
     },
     "output_type": "display_data"
    }
   ],
   "source": [
    "pie(table(MplsStops$personSearch),\n",
    "   main = '수상한 행위를 한 시민의 수색비율')"
   ]
  },
  {
   "cell_type": "code",
   "execution_count": 130,
   "id": "a17ab7d9",
   "metadata": {},
   "outputs": [
    {
     "data": {
      "image/png": "[encoded data removed]",
      "text/plain": [
       "plot without title"
      ]
     },
     "metadata": {
      "image/png": {
       "height": 420,
       "width": 420
      }
     },
     "output_type": "display_data"
    }
   ],
   "source": [
    "library(plotrix)\n",
    "pie3D(table(MplsStops$gender),\n",
    "     labels = names(table(MplsStops$gender)),\n",
    "     explode = 0.1,\n",
    "     col = c('orange','green', 'yellow'))"
   ]
  },
  {
   "cell_type": "code",
   "execution_count": 131,
   "id": "02542a68",
   "metadata": {},
   "outputs": [
    {
     "data": {
      "image/png": "[encoded data removed]",
      "text/plain": [
       "plot without title"
      ]
     },
     "metadata": {
      "image/png": {
       "height": 420,
       "width": 420
      }
     },
     "output_type": "display_data"
    }
   ],
   "source": [
    "pairs(greatLakes[, c('Erie','michHuron')])"
   ]
  },
  {
   "cell_type": "code",
   "execution_count": 132,
   "id": "0e02cb38",
   "metadata": {},
   "outputs": [
    {
     "data": {
      "text/html": [
       "<table class=\"dataframe\">\n",
       "<caption>A data.frame: 92 × 5</caption>\n",
       "<thead>\n",
       "\t<tr><th scope=col>year</th><th scope=col>Erie</th><th scope=col>michHuron</th><th scope=col>Ontario</th><th scope=col>StClair</th></tr>\n",
       "\t<tr><th scope=col>&lt;int&gt;</th><th scope=col>&lt;dbl&gt;</th><th scope=col>&lt;dbl&gt;</th><th scope=col>&lt;dbl&gt;</th><th scope=col>&lt;dbl&gt;</th></tr>\n",
       "</thead>\n",
       "<tbody>\n",
       "\t<tr><td>1918</td><td>174.0150</td><td>176.8867</td><td>74.87250</td><td>174.9567</td></tr>\n",
       "\t<tr><td>1919</td><td>174.1808</td><td>176.7450</td><td>74.95583</td><td>175.0767</td></tr>\n",
       "\t<tr><td>1920</td><td>173.9083</td><td>176.6250</td><td>74.56750</td><td>174.8150</td></tr>\n",
       "\t<tr><td>1921</td><td>174.0258</td><td>176.4883</td><td>74.66583</td><td>174.8692</td></tr>\n",
       "\t<tr><td>1922</td><td>173.9275</td><td>176.4450</td><td>74.65667</td><td>174.8108</td></tr>\n",
       "\t<tr><td>1923</td><td>173.7575</td><td>176.2642</td><td>74.44333</td><td>174.6525</td></tr>\n",
       "\t<tr><td>1924</td><td>173.8433</td><td>176.1867</td><td>74.55750</td><td>174.6375</td></tr>\n",
       "\t<tr><td>1925</td><td>173.5933</td><td>175.9192</td><td>74.39000</td><td>174.4058</td></tr>\n",
       "\t<tr><td>1926</td><td>173.6408</td><td>175.8850</td><td>74.40250</td><td>174.4017</td></tr>\n",
       "\t<tr><td>1927</td><td>173.8183</td><td>176.1483</td><td>74.60667</td><td>174.5983</td></tr>\n",
       "\t<tr><td>1928</td><td>173.9517</td><td>176.4433</td><td>74.80083</td><td>174.8050</td></tr>\n",
       "\t<tr><td>1929</td><td>174.3117</td><td>176.8958</td><td>75.08500</td><td>175.2642</td></tr>\n",
       "\t<tr><td>1930</td><td>174.2700</td><td>176.6508</td><td>75.08083</td><td>175.0950</td></tr>\n",
       "\t<tr><td>1931</td><td>173.7050</td><td>176.1183</td><td>74.35750</td><td>174.5083</td></tr>\n",
       "\t<tr><td>1932</td><td>173.7358</td><td>175.9408</td><td>74.50250</td><td>174.5658</td></tr>\n",
       "\t<tr><td>1933</td><td>173.6767</td><td>175.8675</td><td>74.27583</td><td>174.5467</td></tr>\n",
       "\t<tr><td>1934</td><td>173.3317</td><td>175.7667</td><td>74.02167</td><td>174.2742</td></tr>\n",
       "\t<tr><td>1935</td><td>173.4108</td><td>175.8908</td><td>74.00417</td><td>174.3608</td></tr>\n",
       "\t<tr><td>1936</td><td>173.4883</td><td>175.9392</td><td>74.16417</td><td>174.3933</td></tr>\n",
       "\t<tr><td>1937</td><td>173.8200</td><td>175.9225</td><td>74.49583</td><td>174.6033</td></tr>\n",
       "\t<tr><td>1938</td><td>173.8408</td><td>176.1408</td><td>74.52250</td><td>174.6892</td></tr>\n",
       "\t<tr><td>1939</td><td>173.8458</td><td>176.2692</td><td>74.49250</td><td>174.7208</td></tr>\n",
       "\t<tr><td>1940</td><td>173.7950</td><td>176.1417</td><td>74.42583</td><td>174.6450</td></tr>\n",
       "\t<tr><td>1941</td><td>173.7000</td><td>176.1217</td><td>74.40750</td><td>174.5817</td></tr>\n",
       "\t<tr><td>1942</td><td>173.8767</td><td>176.3342</td><td>74.51667</td><td>174.7675</td></tr>\n",
       "\t<tr><td>1943</td><td>174.2317</td><td>176.6267</td><td>75.13417</td><td>175.1125</td></tr>\n",
       "\t<tr><td>1944</td><td>174.0917</td><td>176.5967</td><td>74.84583</td><td>174.9817</td></tr>\n",
       "\t<tr><td>1945</td><td>174.1883</td><td>176.5700</td><td>75.06000</td><td>175.0892</td></tr>\n",
       "\t<tr><td>1946</td><td>174.1358</td><td>176.6017</td><td>74.99333</td><td>175.0383</td></tr>\n",
       "\t<tr><td>1947</td><td>174.2350</td><td>176.5667</td><td>75.16917</td><td>175.1042</td></tr>\n",
       "\t<tr><td>⋮</td><td>⋮</td><td>⋮</td><td>⋮</td><td>⋮</td></tr>\n",
       "\t<tr><td>1980</td><td>174.5217</td><td>176.8033</td><td>74.82333</td><td>175.4075</td></tr>\n",
       "\t<tr><td>1981</td><td>174.3983</td><td>176.6983</td><td>74.78583</td><td>175.2958</td></tr>\n",
       "\t<tr><td>1982</td><td>174.4250</td><td>176.5983</td><td>74.75250</td><td>175.2992</td></tr>\n",
       "\t<tr><td>1983</td><td>174.5208</td><td>176.8333</td><td>74.82167</td><td>175.4333</td></tr>\n",
       "\t<tr><td>1984</td><td>174.5225</td><td>176.8950</td><td>74.90167</td><td>175.4350</td></tr>\n",
       "\t<tr><td>1985</td><td>174.7283</td><td>177.1267</td><td>74.87750</td><td>175.7000</td></tr>\n",
       "\t<tr><td>1986</td><td>174.8983</td><td>177.2925</td><td>75.14750</td><td>175.8517</td></tr>\n",
       "\t<tr><td>1987</td><td>174.6675</td><td>176.9700</td><td>74.84917</td><td>175.5608</td></tr>\n",
       "\t<tr><td>1988</td><td>174.2617</td><td>176.5642</td><td>74.68000</td><td>175.1933</td></tr>\n",
       "\t<tr><td>1989</td><td>174.2258</td><td>176.4008</td><td>74.76083</td><td>175.1092</td></tr>\n",
       "\t<tr><td>1990</td><td>174.2942</td><td>176.3500</td><td>74.80417</td><td>175.1308</td></tr>\n",
       "\t<tr><td>1991</td><td>174.3267</td><td>176.4692</td><td>74.87000</td><td>175.1975</td></tr>\n",
       "\t<tr><td>1992</td><td>174.3567</td><td>176.4792</td><td>74.83250</td><td>175.2200</td></tr>\n",
       "\t<tr><td>1993</td><td>174.5042</td><td>176.6958</td><td>75.04250</td><td>175.3808</td></tr>\n",
       "\t<tr><td>1994</td><td>174.3667</td><td>176.6783</td><td>74.75500</td><td>175.2900</td></tr>\n",
       "\t<tr><td>1995</td><td>174.2842</td><td>176.5275</td><td>74.73917</td><td>175.1833</td></tr>\n",
       "\t<tr><td>1996</td><td>174.3750</td><td>176.6542</td><td>74.87333</td><td>175.2467</td></tr>\n",
       "\t<tr><td>1997</td><td>174.7175</td><td>176.9842</td><td>74.96250</td><td>175.6125</td></tr>\n",
       "\t<tr><td>1998</td><td>174.5508</td><td>176.7167</td><td>74.91000</td><td>175.3975</td></tr>\n",
       "\t<tr><td>1999</td><td>174.1025</td><td>176.2358</td><td>74.57250</td><td>174.9758</td></tr>\n",
       "\t<tr><td>2000</td><td>173.9900</td><td>175.9783</td><td>74.78000</td><td>174.7925</td></tr>\n",
       "\t<tr><td>2001</td><td>173.9142</td><td>175.9508</td><td>74.69917</td><td>174.7617</td></tr>\n",
       "\t<tr><td>2002</td><td>174.0583</td><td>176.1183</td><td>74.79000</td><td>174.8833</td></tr>\n",
       "\t<tr><td>2003</td><td>173.9658</td><td>175.8917</td><td>74.71333</td><td>174.7375</td></tr>\n",
       "\t<tr><td>2004</td><td>174.1158</td><td>176.1108</td><td>74.84833</td><td>174.9167</td></tr>\n",
       "\t<tr><td>2005</td><td>174.1700</td><td>176.0900</td><td>74.82167</td><td>174.9383</td></tr>\n",
       "\t<tr><td>2006</td><td>174.1467</td><td>176.0158</td><td>74.83083</td><td>174.8917</td></tr>\n",
       "\t<tr><td>2007</td><td>174.1392</td><td>175.9433</td><td>74.75167</td><td>174.8483</td></tr>\n",
       "\t<tr><td>2008</td><td>174.1592</td><td>176.0050</td><td>74.87500</td><td>174.9200</td></tr>\n",
       "\t<tr><td>2009</td><td>174.2483</td><td>176.2583</td><td>74.87333</td><td>175.0767</td></tr>\n",
       "</tbody>\n",
       "</table>\n"
      ],
      "text/latex": [
       "A data.frame: 92 × 5\n",
       "\\begin{tabular}{lllll}\n",
       " year & Erie & michHuron & Ontario & StClair\\\\\n",
       " <int> & <dbl> & <dbl> & <dbl> & <dbl>\\\\\n",
       "\\hline\n",
       "\t 1918 & 174.0150 & 176.8867 & 74.87250 & 174.9567\\\\\n",
       "\t 1919 & 174.1808 & 176.7450 & 74.95583 & 175.0767\\\\\n",
       "\t 1920 & 173.9083 & 176.6250 & 74.56750 & 174.8150\\\\\n",
       "\t 1921 & 174.0258 & 176.4883 & 74.66583 & 174.8692\\\\\n",
       "\t 1922 & 173.9275 & 176.4450 & 74.65667 & 174.8108\\\\\n",
       "\t 1923 & 173.7575 & 176.2642 & 74.44333 & 174.6525\\\\\n",
       "\t 1924 & 173.8433 & 176.1867 & 74.55750 & 174.6375\\\\\n",
       "\t 1925 & 173.5933 & 175.9192 & 74.39000 & 174.4058\\\\\n",
       "\t 1926 & 173.6408 & 175.8850 & 74.40250 & 174.4017\\\\\n",
       "\t 1927 & 173.8183 & 176.1483 & 74.60667 & 174.5983\\\\\n",
       "\t 1928 & 173.9517 & 176.4433 & 74.80083 & 174.8050\\\\\n",
       "\t 1929 & 174.3117 & 176.8958 & 75.08500 & 175.2642\\\\\n",
       "\t 1930 & 174.2700 & 176.6508 & 75.08083 & 175.0950\\\\\n",
       "\t 1931 & 173.7050 & 176.1183 & 74.35750 & 174.5083\\\\\n",
       "\t 1932 & 173.7358 & 175.9408 & 74.50250 & 174.5658\\\\\n",
       "\t 1933 & 173.6767 & 175.8675 & 74.27583 & 174.5467\\\\\n",
       "\t 1934 & 173.3317 & 175.7667 & 74.02167 & 174.2742\\\\\n",
       "\t 1935 & 173.4108 & 175.8908 & 74.00417 & 174.3608\\\\\n",
       "\t 1936 & 173.4883 & 175.9392 & 74.16417 & 174.3933\\\\\n",
       "\t 1937 & 173.8200 & 175.9225 & 74.49583 & 174.6033\\\\\n",
       "\t 1938 & 173.8408 & 176.1408 & 74.52250 & 174.6892\\\\\n",
       "\t 1939 & 173.8458 & 176.2692 & 74.49250 & 174.7208\\\\\n",
       "\t 1940 & 173.7950 & 176.1417 & 74.42583 & 174.6450\\\\\n",
       "\t 1941 & 173.7000 & 176.1217 & 74.40750 & 174.5817\\\\\n",
       "\t 1942 & 173.8767 & 176.3342 & 74.51667 & 174.7675\\\\\n",
       "\t 1943 & 174.2317 & 176.6267 & 75.13417 & 175.1125\\\\\n",
       "\t 1944 & 174.0917 & 176.5967 & 74.84583 & 174.9817\\\\\n",
       "\t 1945 & 174.1883 & 176.5700 & 75.06000 & 175.0892\\\\\n",
       "\t 1946 & 174.1358 & 176.6017 & 74.99333 & 175.0383\\\\\n",
       "\t 1947 & 174.2350 & 176.5667 & 75.16917 & 175.1042\\\\\n",
       "\t ⋮ & ⋮ & ⋮ & ⋮ & ⋮\\\\\n",
       "\t 1980 & 174.5217 & 176.8033 & 74.82333 & 175.4075\\\\\n",
       "\t 1981 & 174.3983 & 176.6983 & 74.78583 & 175.2958\\\\\n",
       "\t 1982 & 174.4250 & 176.5983 & 74.75250 & 175.2992\\\\\n",
       "\t 1983 & 174.5208 & 176.8333 & 74.82167 & 175.4333\\\\\n",
       "\t 1984 & 174.5225 & 176.8950 & 74.90167 & 175.4350\\\\\n",
       "\t 1985 & 174.7283 & 177.1267 & 74.87750 & 175.7000\\\\\n",
       "\t 1986 & 174.8983 & 177.2925 & 75.14750 & 175.8517\\\\\n",
       "\t 1987 & 174.6675 & 176.9700 & 74.84917 & 175.5608\\\\\n",
       "\t 1988 & 174.2617 & 176.5642 & 74.68000 & 175.1933\\\\\n",
       "\t 1989 & 174.2258 & 176.4008 & 74.76083 & 175.1092\\\\\n",
       "\t 1990 & 174.2942 & 176.3500 & 74.80417 & 175.1308\\\\\n",
       "\t 1991 & 174.3267 & 176.4692 & 74.87000 & 175.1975\\\\\n",
       "\t 1992 & 174.3567 & 176.4792 & 74.83250 & 175.2200\\\\\n",
       "\t 1993 & 174.5042 & 176.6958 & 75.04250 & 175.3808\\\\\n",
       "\t 1994 & 174.3667 & 176.6783 & 74.75500 & 175.2900\\\\\n",
       "\t 1995 & 174.2842 & 176.5275 & 74.73917 & 175.1833\\\\\n",
       "\t 1996 & 174.3750 & 176.6542 & 74.87333 & 175.2467\\\\\n",
       "\t 1997 & 174.7175 & 176.9842 & 74.96250 & 175.6125\\\\\n",
       "\t 1998 & 174.5508 & 176.7167 & 74.91000 & 175.3975\\\\\n",
       "\t 1999 & 174.1025 & 176.2358 & 74.57250 & 174.9758\\\\\n",
       "\t 2000 & 173.9900 & 175.9783 & 74.78000 & 174.7925\\\\\n",
       "\t 2001 & 173.9142 & 175.9508 & 74.69917 & 174.7617\\\\\n",
       "\t 2002 & 174.0583 & 176.1183 & 74.79000 & 174.8833\\\\\n",
       "\t 2003 & 173.9658 & 175.8917 & 74.71333 & 174.7375\\\\\n",
       "\t 2004 & 174.1158 & 176.1108 & 74.84833 & 174.9167\\\\\n",
       "\t 2005 & 174.1700 & 176.0900 & 74.82167 & 174.9383\\\\\n",
       "\t 2006 & 174.1467 & 176.0158 & 74.83083 & 174.8917\\\\\n",
       "\t 2007 & 174.1392 & 175.9433 & 74.75167 & 174.8483\\\\\n",
       "\t 2008 & 174.1592 & 176.0050 & 74.87500 & 174.9200\\\\\n",
       "\t 2009 & 174.2483 & 176.2583 & 74.87333 & 175.0767\\\\\n",
       "\\end{tabular}\n"
      ],
      "text/markdown": [
       "\n",
       "A data.frame: 92 × 5\n",
       "\n",
       "| year &lt;int&gt; | Erie &lt;dbl&gt; | michHuron &lt;dbl&gt; | Ontario &lt;dbl&gt; | StClair &lt;dbl&gt; |\n",
       "|---|---|---|---|---|\n",
       "| 1918 | 174.0150 | 176.8867 | 74.87250 | 174.9567 |\n",
       "| 1919 | 174.1808 | 176.7450 | 74.95583 | 175.0767 |\n",
       "| 1920 | 173.9083 | 176.6250 | 74.56750 | 174.8150 |\n",
       "| 1921 | 174.0258 | 176.4883 | 74.66583 | 174.8692 |\n",
       "| 1922 | 173.9275 | 176.4450 | 74.65667 | 174.8108 |\n",
       "| 1923 | 173.7575 | 176.2642 | 74.44333 | 174.6525 |\n",
       "| 1924 | 173.8433 | 176.1867 | 74.55750 | 174.6375 |\n",
       "| 1925 | 173.5933 | 175.9192 | 74.39000 | 174.4058 |\n",
       "| 1926 | 173.6408 | 175.8850 | 74.40250 | 174.4017 |\n",
       "| 1927 | 173.8183 | 176.1483 | 74.60667 | 174.5983 |\n",
       "| 1928 | 173.9517 | 176.4433 | 74.80083 | 174.8050 |\n",
       "| 1929 | 174.3117 | 176.8958 | 75.08500 | 175.2642 |\n",
       "| 1930 | 174.2700 | 176.6508 | 75.08083 | 175.0950 |\n",
       "| 1931 | 173.7050 | 176.1183 | 74.35750 | 174.5083 |\n",
       "| 1932 | 173.7358 | 175.9408 | 74.50250 | 174.5658 |\n",
       "| 1933 | 173.6767 | 175.8675 | 74.27583 | 174.5467 |\n",
       "| 1934 | 173.3317 | 175.7667 | 74.02167 | 174.2742 |\n",
       "| 1935 | 173.4108 | 175.8908 | 74.00417 | 174.3608 |\n",
       "| 1936 | 173.4883 | 175.9392 | 74.16417 | 174.3933 |\n",
       "| 1937 | 173.8200 | 175.9225 | 74.49583 | 174.6033 |\n",
       "| 1938 | 173.8408 | 176.1408 | 74.52250 | 174.6892 |\n",
       "| 1939 | 173.8458 | 176.2692 | 74.49250 | 174.7208 |\n",
       "| 1940 | 173.7950 | 176.1417 | 74.42583 | 174.6450 |\n",
       "| 1941 | 173.7000 | 176.1217 | 74.40750 | 174.5817 |\n",
       "| 1942 | 173.8767 | 176.3342 | 74.51667 | 174.7675 |\n",
       "| 1943 | 174.2317 | 176.6267 | 75.13417 | 175.1125 |\n",
       "| 1944 | 174.0917 | 176.5967 | 74.84583 | 174.9817 |\n",
       "| 1945 | 174.1883 | 176.5700 | 75.06000 | 175.0892 |\n",
       "| 1946 | 174.1358 | 176.6017 | 74.99333 | 175.0383 |\n",
       "| 1947 | 174.2350 | 176.5667 | 75.16917 | 175.1042 |\n",
       "| ⋮ | ⋮ | ⋮ | ⋮ | ⋮ |\n",
       "| 1980 | 174.5217 | 176.8033 | 74.82333 | 175.4075 |\n",
       "| 1981 | 174.3983 | 176.6983 | 74.78583 | 175.2958 |\n",
       "| 1982 | 174.4250 | 176.5983 | 74.75250 | 175.2992 |\n",
       "| 1983 | 174.5208 | 176.8333 | 74.82167 | 175.4333 |\n",
       "| 1984 | 174.5225 | 176.8950 | 74.90167 | 175.4350 |\n",
       "| 1985 | 174.7283 | 177.1267 | 74.87750 | 175.7000 |\n",
       "| 1986 | 174.8983 | 177.2925 | 75.14750 | 175.8517 |\n",
       "| 1987 | 174.6675 | 176.9700 | 74.84917 | 175.5608 |\n",
       "| 1988 | 174.2617 | 176.5642 | 74.68000 | 175.1933 |\n",
       "| 1989 | 174.2258 | 176.4008 | 74.76083 | 175.1092 |\n",
       "| 1990 | 174.2942 | 176.3500 | 74.80417 | 175.1308 |\n",
       "| 1991 | 174.3267 | 176.4692 | 74.87000 | 175.1975 |\n",
       "| 1992 | 174.3567 | 176.4792 | 74.83250 | 175.2200 |\n",
       "| 1993 | 174.5042 | 176.6958 | 75.04250 | 175.3808 |\n",
       "| 1994 | 174.3667 | 176.6783 | 74.75500 | 175.2900 |\n",
       "| 1995 | 174.2842 | 176.5275 | 74.73917 | 175.1833 |\n",
       "| 1996 | 174.3750 | 176.6542 | 74.87333 | 175.2467 |\n",
       "| 1997 | 174.7175 | 176.9842 | 74.96250 | 175.6125 |\n",
       "| 1998 | 174.5508 | 176.7167 | 74.91000 | 175.3975 |\n",
       "| 1999 | 174.1025 | 176.2358 | 74.57250 | 174.9758 |\n",
       "| 2000 | 173.9900 | 175.9783 | 74.78000 | 174.7925 |\n",
       "| 2001 | 173.9142 | 175.9508 | 74.69917 | 174.7617 |\n",
       "| 2002 | 174.0583 | 176.1183 | 74.79000 | 174.8833 |\n",
       "| 2003 | 173.9658 | 175.8917 | 74.71333 | 174.7375 |\n",
       "| 2004 | 174.1158 | 176.1108 | 74.84833 | 174.9167 |\n",
       "| 2005 | 174.1700 | 176.0900 | 74.82167 | 174.9383 |\n",
       "| 2006 | 174.1467 | 176.0158 | 74.83083 | 174.8917 |\n",
       "| 2007 | 174.1392 | 175.9433 | 74.75167 | 174.8483 |\n",
       "| 2008 | 174.1592 | 176.0050 | 74.87500 | 174.9200 |\n",
       "| 2009 | 174.2483 | 176.2583 | 74.87333 | 175.0767 |\n",
       "\n"
      ],
      "text/plain": [
       "   year Erie     michHuron Ontario  StClair \n",
       "1  1918 174.0150 176.8867  74.87250 174.9567\n",
       "2  1919 174.1808 176.7450  74.95583 175.0767\n",
       "3  1920 173.9083 176.6250  74.56750 174.8150\n",
       "4  1921 174.0258 176.4883  74.66583 174.8692\n",
       "5  1922 173.9275 176.4450  74.65667 174.8108\n",
       "6  1923 173.7575 176.2642  74.44333 174.6525\n",
       "7  1924 173.8433 176.1867  74.55750 174.6375\n",
       "8  1925 173.5933 175.9192  74.39000 174.4058\n",
       "9  1926 173.6408 175.8850  74.40250 174.4017\n",
       "10 1927 173.8183 176.1483  74.60667 174.5983\n",
       "11 1928 173.9517 176.4433  74.80083 174.8050\n",
       "12 1929 174.3117 176.8958  75.08500 175.2642\n",
       "13 1930 174.2700 176.6508  75.08083 175.0950\n",
       "14 1931 173.7050 176.1183  74.35750 174.5083\n",
       "15 1932 173.7358 175.9408  74.50250 174.5658\n",
       "16 1933 173.6767 175.8675  74.27583 174.5467\n",
       "17 1934 173.3317 175.7667  74.02167 174.2742\n",
       "18 1935 173.4108 175.8908  74.00417 174.3608\n",
       "19 1936 173.4883 175.9392  74.16417 174.3933\n",
       "20 1937 173.8200 175.9225  74.49583 174.6033\n",
       "21 1938 173.8408 176.1408  74.52250 174.6892\n",
       "22 1939 173.8458 176.2692  74.49250 174.7208\n",
       "23 1940 173.7950 176.1417  74.42583 174.6450\n",
       "24 1941 173.7000 176.1217  74.40750 174.5817\n",
       "25 1942 173.8767 176.3342  74.51667 174.7675\n",
       "26 1943 174.2317 176.6267  75.13417 175.1125\n",
       "27 1944 174.0917 176.5967  74.84583 174.9817\n",
       "28 1945 174.1883 176.5700  75.06000 175.0892\n",
       "29 1946 174.1358 176.6017  74.99333 175.0383\n",
       "30 1947 174.2350 176.5667  75.16917 175.1042\n",
       "⋮  ⋮    ⋮        ⋮         ⋮        ⋮       \n",
       "63 1980 174.5217 176.8033  74.82333 175.4075\n",
       "64 1981 174.3983 176.6983  74.78583 175.2958\n",
       "65 1982 174.4250 176.5983  74.75250 175.2992\n",
       "66 1983 174.5208 176.8333  74.82167 175.4333\n",
       "67 1984 174.5225 176.8950  74.90167 175.4350\n",
       "68 1985 174.7283 177.1267  74.87750 175.7000\n",
       "69 1986 174.8983 177.2925  75.14750 175.8517\n",
       "70 1987 174.6675 176.9700  74.84917 175.5608\n",
       "71 1988 174.2617 176.5642  74.68000 175.1933\n",
       "72 1989 174.2258 176.4008  74.76083 175.1092\n",
       "73 1990 174.2942 176.3500  74.80417 175.1308\n",
       "74 1991 174.3267 176.4692  74.87000 175.1975\n",
       "75 1992 174.3567 176.4792  74.83250 175.2200\n",
       "76 1993 174.5042 176.6958  75.04250 175.3808\n",
       "77 1994 174.3667 176.6783  74.75500 175.2900\n",
       "78 1995 174.2842 176.5275  74.73917 175.1833\n",
       "79 1996 174.3750 176.6542  74.87333 175.2467\n",
       "80 1997 174.7175 176.9842  74.96250 175.6125\n",
       "81 1998 174.5508 176.7167  74.91000 175.3975\n",
       "82 1999 174.1025 176.2358  74.57250 174.9758\n",
       "83 2000 173.9900 175.9783  74.78000 174.7925\n",
       "84 2001 173.9142 175.9508  74.69917 174.7617\n",
       "85 2002 174.0583 176.1183  74.79000 174.8833\n",
       "86 2003 173.9658 175.8917  74.71333 174.7375\n",
       "87 2004 174.1158 176.1108  74.84833 174.9167\n",
       "88 2005 174.1700 176.0900  74.82167 174.9383\n",
       "89 2006 174.1467 176.0158  74.83083 174.8917\n",
       "90 2007 174.1392 175.9433  74.75167 174.8483\n",
       "91 2008 174.1592 176.0050  74.87500 174.9200\n",
       "92 2009 174.2483 176.2583  74.87333 175.0767"
      ]
     },
     "metadata": {},
     "output_type": "display_data"
    }
   ],
   "source": [
    "ds"
   ]
  },
  {
   "cell_type": "code",
   "execution_count": 133,
   "id": "df42450f",
   "metadata": {},
   "outputs": [
    {
     "data": {
      "image/png": "[encoded data removed]",
      "text/plain": [
       "plot without title"
      ]
     },
     "metadata": {
      "image/png": {
       "height": 420,
       "width": 420
      }
     },
     "output_type": "display_data"
    }
   ],
   "source": [
    "pairs(ds[, c('Erie','michHuron')])"
   ]
  },
  {
   "cell_type": "code",
   "execution_count": 134,
   "id": "da2d8be7",
   "metadata": {},
   "outputs": [
    {
     "data": {
      "text/html": [
       "<style>\n",
       ".list-inline {list-style: none; margin:0; padding: 0}\n",
       ".list-inline>li {display: inline-block}\n",
       ".list-inline>li:not(:last-child)::after {content: \"\\00b7\"; padding: 0 .5ex}\n",
       "</style>\n",
       "<ol class=list-inline><li>'year'</li><li>'Erie'</li><li>'michHuron'</li><li>'Ontario'</li><li>'StClair'</li></ol>\n"
      ],
      "text/latex": [
       "\\begin{enumerate*}\n",
       "\\item 'year'\n",
       "\\item 'Erie'\n",
       "\\item 'michHuron'\n",
       "\\item 'Ontario'\n",
       "\\item 'StClair'\n",
       "\\end{enumerate*}\n"
      ],
      "text/markdown": [
       "1. 'year'\n",
       "2. 'Erie'\n",
       "3. 'michHuron'\n",
       "4. 'Ontario'\n",
       "5. 'StClair'\n",
       "\n",
       "\n"
      ],
      "text/plain": [
       "[1] \"year\"      \"Erie\"      \"michHuron\" \"Ontario\"   \"StClair\"  "
      ]
     },
     "metadata": {},
     "output_type": "display_data"
    }
   ],
   "source": [
    "colnames(ds)"
   ]
  },
  {
   "cell_type": "code",
   "execution_count": 135,
   "id": "2f4d45a7",
   "metadata": {},
   "outputs": [
    {
     "data": {
      "image/png": "[encoded data removed]",
      "text/plain": [
       "plot without title"
      ]
     },
     "metadata": {
      "image/png": {
       "height": 420,
       "width": 420
      }
     },
     "output_type": "display_data"
    }
   ],
   "source": [
    "pairs(ds[, c('Erie','michHuron','Ontario','StClair')])"
   ]
  },
  {
   "cell_type": "code",
   "execution_count": 136,
   "id": "6b3dc58a",
   "metadata": {},
   "outputs": [],
   "source": [
    "data(grog)"
   ]
  },
  {
   "cell_type": "code",
   "execution_count": 139,
   "id": "01c0e3b1",
   "metadata": {},
   "outputs": [
    {
     "data": {
      "image/png": "[encoded data removed]",
      "text/plain": [
       "plot without title"
      ]
     },
     "metadata": {
      "image/png": {
       "height": 420,
       "width": 420
      }
     },
     "output_type": "display_data"
    }
   ],
   "source": [
    "plot(grog$Beer, grog$Wine)\n",
    "lm.res = lm(Wine~Beer, data = grog)\n",
    "abline(lm.res)"
   ]
  },
  {
   "cell_type": "code",
   "execution_count": 140,
   "id": "756d6b0f",
   "metadata": {},
   "outputs": [
    {
     "data": {
      "text/plain": [
       "\n",
       "Call:\n",
       "lm(formula = Wine ~ Beer, data = grog)\n",
       "\n",
       "Residuals:\n",
       "      Min        1Q    Median        3Q       Max \n",
       "-0.296404 -0.092873  0.009232  0.122112  0.236695 \n",
       "\n",
       "Coefficients:\n",
       "            Estimate Std. Error t value Pr(>|t|)    \n",
       "(Intercept)   2.5870     0.4726   5.474  5.1e-05 ***\n",
       "Beer          0.0671     0.1030   0.652    0.524    \n",
       "---\n",
       "Signif. codes:  0 '***' 0.001 '**' 0.01 '*' 0.05 '.' 0.1 ' ' 1\n",
       "\n",
       "Residual standard error: 0.1673 on 16 degrees of freedom\n",
       "Multiple R-squared:  0.02585,\tAdjusted R-squared:  -0.03504 \n",
       "F-statistic: 0.4245 on 1 and 16 DF,  p-value: 0.5239\n"
      ]
     },
     "metadata": {},
     "output_type": "display_data"
    }
   ],
   "source": [
    "summary(lm.res)"
   ]
  },
  {
   "cell_type": "code",
   "execution_count": 141,
   "id": "2def06a8",
   "metadata": {},
   "outputs": [
    {
     "data": {
      "text/html": [
       "<style>\n",
       ".list-inline {list-style: none; margin:0; padding: 0}\n",
       ".list-inline>li {display: inline-block}\n",
       ".list-inline>li:not(:last-child)::after {content: \"\\00b7\"; padding: 0 .5ex}\n",
       "</style>\n",
       "<ol class=list-inline><li>'Beer'</li><li>'Wine'</li><li>'Spirit'</li><li>'Country'</li><li>'Year'</li></ol>\n"
      ],
      "text/latex": [
       "\\begin{enumerate*}\n",
       "\\item 'Beer'\n",
       "\\item 'Wine'\n",
       "\\item 'Spirit'\n",
       "\\item 'Country'\n",
       "\\item 'Year'\n",
       "\\end{enumerate*}\n"
      ],
      "text/markdown": [
       "1. 'Beer'\n",
       "2. 'Wine'\n",
       "3. 'Spirit'\n",
       "4. 'Country'\n",
       "5. 'Year'\n",
       "\n",
       "\n"
      ],
      "text/plain": [
       "[1] \"Beer\"    \"Wine\"    \"Spirit\"  \"Country\" \"Year\"   "
      ]
     },
     "metadata": {},
     "output_type": "display_data"
    }
   ],
   "source": [
    "colnames(grog)"
   ]
  },
  {
   "cell_type": "code",
   "execution_count": 143,
   "id": "81f154bf",
   "metadata": {},
   "outputs": [],
   "source": [
    "color = c('red','blue')"
   ]
  },
  {
   "cell_type": "code",
   "execution_count": 144,
   "id": "72c0f65d",
   "metadata": {},
   "outputs": [],
   "source": [
    "point = as.numeric(grog$Country)"
   ]
  },
  {
   "cell_type": "code",
   "execution_count": 146,
   "id": "b0414fa8",
   "metadata": {},
   "outputs": [
    {
     "data": {
      "image/png": "[encoded data removed]",
      "text/plain": [
       "plot without title"
      ]
     },
     "metadata": {
      "image/png": {
       "height": 420,
       "width": 420
      }
     },
     "output_type": "display_data"
    }
   ],
   "source": [
    "pairs(grog[, c('Beer','Wine','Spirit')],\n",
    "     pch = point,\n",
    "     col = color[point])"
   ]
  },
  {
   "cell_type": "code",
   "execution_count": 149,
   "id": "9b87fde4",
   "metadata": {},
   "outputs": [
    {
     "data": {
      "image/png": "[encoded data removed]",
      "text/plain": [
       "Plot with title \"michHuron 호 수위\""
      ]
     },
     "metadata": {
      "image/png": {
       "height": 420,
       "width": 420
      }
     },
     "output_type": "display_data"
    }
   ],
   "source": [
    "plot(ds$year, ds$michHuron,\n",
    "    type = 'b',\n",
    "    col = 'red',\n",
    "    main = 'michHuron 호 수위',\n",
    "    xlab = '연도',\n",
    "    ylab = '수위',\n",
    "    ylim = c(173, 177.5))\n",
    "lines(ds$year, ds$StClair,\n",
    "     type = 'b',\n",
    "     col = 'blue')\n",
    "lines(ds$year, ds$Erie,\n",
    "     type ='b',\n",
    "     col = 'yellow')"
   ]
  },
  {
   "cell_type": "code",
   "execution_count": 150,
   "id": "86db6e0c",
   "metadata": {},
   "outputs": [],
   "source": [
    "data = Loblolly"
   ]
  },
  {
   "cell_type": "code",
   "execution_count": 151,
   "id": "113dde39",
   "metadata": {},
   "outputs": [
    {
     "data": {
      "text/html": [
       "<table class=\"dataframe\">\n",
       "<caption>A nfnGroupedData: 84 × 3</caption>\n",
       "<thead>\n",
       "\t<tr><th></th><th scope=col>height</th><th scope=col>age</th><th scope=col>Seed</th></tr>\n",
       "\t<tr><th></th><th scope=col>&lt;dbl&gt;</th><th scope=col>&lt;dbl&gt;</th><th scope=col>&lt;ord&gt;</th></tr>\n",
       "</thead>\n",
       "<tbody>\n",
       "\t<tr><th scope=row>1</th><td> 4.51</td><td> 3</td><td>301</td></tr>\n",
       "\t<tr><th scope=row>15</th><td>10.89</td><td> 5</td><td>301</td></tr>\n",
       "\t<tr><th scope=row>29</th><td>28.72</td><td>10</td><td>301</td></tr>\n",
       "\t<tr><th scope=row>43</th><td>41.74</td><td>15</td><td>301</td></tr>\n",
       "\t<tr><th scope=row>57</th><td>52.70</td><td>20</td><td>301</td></tr>\n",
       "\t<tr><th scope=row>71</th><td>60.92</td><td>25</td><td>301</td></tr>\n",
       "\t<tr><th scope=row>2</th><td> 4.55</td><td> 3</td><td>303</td></tr>\n",
       "\t<tr><th scope=row>16</th><td>10.92</td><td> 5</td><td>303</td></tr>\n",
       "\t<tr><th scope=row>30</th><td>29.07</td><td>10</td><td>303</td></tr>\n",
       "\t<tr><th scope=row>44</th><td>42.83</td><td>15</td><td>303</td></tr>\n",
       "\t<tr><th scope=row>58</th><td>53.88</td><td>20</td><td>303</td></tr>\n",
       "\t<tr><th scope=row>72</th><td>63.39</td><td>25</td><td>303</td></tr>\n",
       "\t<tr><th scope=row>3</th><td> 4.79</td><td> 3</td><td>305</td></tr>\n",
       "\t<tr><th scope=row>17</th><td>11.37</td><td> 5</td><td>305</td></tr>\n",
       "\t<tr><th scope=row>31</th><td>30.21</td><td>10</td><td>305</td></tr>\n",
       "\t<tr><th scope=row>45</th><td>44.40</td><td>15</td><td>305</td></tr>\n",
       "\t<tr><th scope=row>59</th><td>55.82</td><td>20</td><td>305</td></tr>\n",
       "\t<tr><th scope=row>73</th><td>64.10</td><td>25</td><td>305</td></tr>\n",
       "\t<tr><th scope=row>4</th><td> 3.91</td><td> 3</td><td>307</td></tr>\n",
       "\t<tr><th scope=row>18</th><td> 9.48</td><td> 5</td><td>307</td></tr>\n",
       "\t<tr><th scope=row>32</th><td>25.66</td><td>10</td><td>307</td></tr>\n",
       "\t<tr><th scope=row>46</th><td>39.07</td><td>15</td><td>307</td></tr>\n",
       "\t<tr><th scope=row>60</th><td>50.78</td><td>20</td><td>307</td></tr>\n",
       "\t<tr><th scope=row>74</th><td>59.07</td><td>25</td><td>307</td></tr>\n",
       "\t<tr><th scope=row>5</th><td> 4.81</td><td> 3</td><td>309</td></tr>\n",
       "\t<tr><th scope=row>19</th><td>11.20</td><td> 5</td><td>309</td></tr>\n",
       "\t<tr><th scope=row>33</th><td>28.66</td><td>10</td><td>309</td></tr>\n",
       "\t<tr><th scope=row>47</th><td>41.66</td><td>15</td><td>309</td></tr>\n",
       "\t<tr><th scope=row>61</th><td>53.31</td><td>20</td><td>309</td></tr>\n",
       "\t<tr><th scope=row>75</th><td>63.05</td><td>25</td><td>309</td></tr>\n",
       "\t<tr><th scope=row>⋮</th><td>⋮</td><td>⋮</td><td>⋮</td></tr>\n",
       "\t<tr><th scope=row>10</th><td> 4.33</td><td> 3</td><td>323</td></tr>\n",
       "\t<tr><th scope=row>24</th><td>10.79</td><td> 5</td><td>323</td></tr>\n",
       "\t<tr><th scope=row>38</th><td>28.97</td><td>10</td><td>323</td></tr>\n",
       "\t<tr><th scope=row>52</th><td>42.44</td><td>15</td><td>323</td></tr>\n",
       "\t<tr><th scope=row>66</th><td>53.17</td><td>20</td><td>323</td></tr>\n",
       "\t<tr><th scope=row>80</th><td>61.62</td><td>25</td><td>323</td></tr>\n",
       "\t<tr><th scope=row>11</th><td> 4.38</td><td> 3</td><td>325</td></tr>\n",
       "\t<tr><th scope=row>25</th><td>10.48</td><td> 5</td><td>325</td></tr>\n",
       "\t<tr><th scope=row>39</th><td>27.93</td><td>10</td><td>325</td></tr>\n",
       "\t<tr><th scope=row>53</th><td>40.20</td><td>15</td><td>325</td></tr>\n",
       "\t<tr><th scope=row>67</th><td>50.06</td><td>20</td><td>325</td></tr>\n",
       "\t<tr><th scope=row>81</th><td>58.49</td><td>25</td><td>325</td></tr>\n",
       "\t<tr><th scope=row>12</th><td> 4.12</td><td> 3</td><td>327</td></tr>\n",
       "\t<tr><th scope=row>26</th><td> 9.92</td><td> 5</td><td>327</td></tr>\n",
       "\t<tr><th scope=row>40</th><td>26.54</td><td>10</td><td>327</td></tr>\n",
       "\t<tr><th scope=row>54</th><td>37.82</td><td>15</td><td>327</td></tr>\n",
       "\t<tr><th scope=row>68</th><td>48.43</td><td>20</td><td>327</td></tr>\n",
       "\t<tr><th scope=row>82</th><td>56.81</td><td>25</td><td>327</td></tr>\n",
       "\t<tr><th scope=row>13</th><td> 3.93</td><td> 3</td><td>329</td></tr>\n",
       "\t<tr><th scope=row>27</th><td> 9.34</td><td> 5</td><td>329</td></tr>\n",
       "\t<tr><th scope=row>41</th><td>26.08</td><td>10</td><td>329</td></tr>\n",
       "\t<tr><th scope=row>55</th><td>37.79</td><td>15</td><td>329</td></tr>\n",
       "\t<tr><th scope=row>69</th><td>48.31</td><td>20</td><td>329</td></tr>\n",
       "\t<tr><th scope=row>83</th><td>56.43</td><td>25</td><td>329</td></tr>\n",
       "\t<tr><th scope=row>14</th><td> 3.46</td><td> 3</td><td>331</td></tr>\n",
       "\t<tr><th scope=row>28</th><td> 9.05</td><td> 5</td><td>331</td></tr>\n",
       "\t<tr><th scope=row>42</th><td>25.85</td><td>10</td><td>331</td></tr>\n",
       "\t<tr><th scope=row>56</th><td>39.15</td><td>15</td><td>331</td></tr>\n",
       "\t<tr><th scope=row>70</th><td>49.12</td><td>20</td><td>331</td></tr>\n",
       "\t<tr><th scope=row>84</th><td>59.49</td><td>25</td><td>331</td></tr>\n",
       "</tbody>\n",
       "</table>\n"
      ],
      "text/latex": [
       "A nfnGroupedData: 84 × 3\n",
       "\\begin{tabular}{r|lll}\n",
       "  & height & age & Seed\\\\\n",
       "  & <dbl> & <dbl> & <ord>\\\\\n",
       "\\hline\n",
       "\t1 &  4.51 &  3 & 301\\\\\n",
       "\t15 & 10.89 &  5 & 301\\\\\n",
       "\t29 & 28.72 & 10 & 301\\\\\n",
       "\t43 & 41.74 & 15 & 301\\\\\n",
       "\t57 & 52.70 & 20 & 301\\\\\n",
       "\t71 & 60.92 & 25 & 301\\\\\n",
       "\t2 &  4.55 &  3 & 303\\\\\n",
       "\t16 & 10.92 &  5 & 303\\\\\n",
       "\t30 & 29.07 & 10 & 303\\\\\n",
       "\t44 & 42.83 & 15 & 303\\\\\n",
       "\t58 & 53.88 & 20 & 303\\\\\n",
       "\t72 & 63.39 & 25 & 303\\\\\n",
       "\t3 &  4.79 &  3 & 305\\\\\n",
       "\t17 & 11.37 &  5 & 305\\\\\n",
       "\t31 & 30.21 & 10 & 305\\\\\n",
       "\t45 & 44.40 & 15 & 305\\\\\n",
       "\t59 & 55.82 & 20 & 305\\\\\n",
       "\t73 & 64.10 & 25 & 305\\\\\n",
       "\t4 &  3.91 &  3 & 307\\\\\n",
       "\t18 &  9.48 &  5 & 307\\\\\n",
       "\t32 & 25.66 & 10 & 307\\\\\n",
       "\t46 & 39.07 & 15 & 307\\\\\n",
       "\t60 & 50.78 & 20 & 307\\\\\n",
       "\t74 & 59.07 & 25 & 307\\\\\n",
       "\t5 &  4.81 &  3 & 309\\\\\n",
       "\t19 & 11.20 &  5 & 309\\\\\n",
       "\t33 & 28.66 & 10 & 309\\\\\n",
       "\t47 & 41.66 & 15 & 309\\\\\n",
       "\t61 & 53.31 & 20 & 309\\\\\n",
       "\t75 & 63.05 & 25 & 309\\\\\n",
       "\t⋮ & ⋮ & ⋮ & ⋮\\\\\n",
       "\t10 &  4.33 &  3 & 323\\\\\n",
       "\t24 & 10.79 &  5 & 323\\\\\n",
       "\t38 & 28.97 & 10 & 323\\\\\n",
       "\t52 & 42.44 & 15 & 323\\\\\n",
       "\t66 & 53.17 & 20 & 323\\\\\n",
       "\t80 & 61.62 & 25 & 323\\\\\n",
       "\t11 &  4.38 &  3 & 325\\\\\n",
       "\t25 & 10.48 &  5 & 325\\\\\n",
       "\t39 & 27.93 & 10 & 325\\\\\n",
       "\t53 & 40.20 & 15 & 325\\\\\n",
       "\t67 & 50.06 & 20 & 325\\\\\n",
       "\t81 & 58.49 & 25 & 325\\\\\n",
       "\t12 &  4.12 &  3 & 327\\\\\n",
       "\t26 &  9.92 &  5 & 327\\\\\n",
       "\t40 & 26.54 & 10 & 327\\\\\n",
       "\t54 & 37.82 & 15 & 327\\\\\n",
       "\t68 & 48.43 & 20 & 327\\\\\n",
       "\t82 & 56.81 & 25 & 327\\\\\n",
       "\t13 &  3.93 &  3 & 329\\\\\n",
       "\t27 &  9.34 &  5 & 329\\\\\n",
       "\t41 & 26.08 & 10 & 329\\\\\n",
       "\t55 & 37.79 & 15 & 329\\\\\n",
       "\t69 & 48.31 & 20 & 329\\\\\n",
       "\t83 & 56.43 & 25 & 329\\\\\n",
       "\t14 &  3.46 &  3 & 331\\\\\n",
       "\t28 &  9.05 &  5 & 331\\\\\n",
       "\t42 & 25.85 & 10 & 331\\\\\n",
       "\t56 & 39.15 & 15 & 331\\\\\n",
       "\t70 & 49.12 & 20 & 331\\\\\n",
       "\t84 & 59.49 & 25 & 331\\\\\n",
       "\\end{tabular}\n"
      ],
      "text/markdown": [
       "\n",
       "A nfnGroupedData: 84 × 3\n",
       "\n",
       "| <!--/--> | height &lt;dbl&gt; | age &lt;dbl&gt; | Seed &lt;ord&gt; |\n",
       "|---|---|---|---|\n",
       "| 1 |  4.51 |  3 | 301 |\n",
       "| 15 | 10.89 |  5 | 301 |\n",
       "| 29 | 28.72 | 10 | 301 |\n",
       "| 43 | 41.74 | 15 | 301 |\n",
       "| 57 | 52.70 | 20 | 301 |\n",
       "| 71 | 60.92 | 25 | 301 |\n",
       "| 2 |  4.55 |  3 | 303 |\n",
       "| 16 | 10.92 |  5 | 303 |\n",
       "| 30 | 29.07 | 10 | 303 |\n",
       "| 44 | 42.83 | 15 | 303 |\n",
       "| 58 | 53.88 | 20 | 303 |\n",
       "| 72 | 63.39 | 25 | 303 |\n",
       "| 3 |  4.79 |  3 | 305 |\n",
       "| 17 | 11.37 |  5 | 305 |\n",
       "| 31 | 30.21 | 10 | 305 |\n",
       "| 45 | 44.40 | 15 | 305 |\n",
       "| 59 | 55.82 | 20 | 305 |\n",
       "| 73 | 64.10 | 25 | 305 |\n",
       "| 4 |  3.91 |  3 | 307 |\n",
       "| 18 |  9.48 |  5 | 307 |\n",
       "| 32 | 25.66 | 10 | 307 |\n",
       "| 46 | 39.07 | 15 | 307 |\n",
       "| 60 | 50.78 | 20 | 307 |\n",
       "| 74 | 59.07 | 25 | 307 |\n",
       "| 5 |  4.81 |  3 | 309 |\n",
       "| 19 | 11.20 |  5 | 309 |\n",
       "| 33 | 28.66 | 10 | 309 |\n",
       "| 47 | 41.66 | 15 | 309 |\n",
       "| 61 | 53.31 | 20 | 309 |\n",
       "| 75 | 63.05 | 25 | 309 |\n",
       "| ⋮ | ⋮ | ⋮ | ⋮ |\n",
       "| 10 |  4.33 |  3 | 323 |\n",
       "| 24 | 10.79 |  5 | 323 |\n",
       "| 38 | 28.97 | 10 | 323 |\n",
       "| 52 | 42.44 | 15 | 323 |\n",
       "| 66 | 53.17 | 20 | 323 |\n",
       "| 80 | 61.62 | 25 | 323 |\n",
       "| 11 |  4.38 |  3 | 325 |\n",
       "| 25 | 10.48 |  5 | 325 |\n",
       "| 39 | 27.93 | 10 | 325 |\n",
       "| 53 | 40.20 | 15 | 325 |\n",
       "| 67 | 50.06 | 20 | 325 |\n",
       "| 81 | 58.49 | 25 | 325 |\n",
       "| 12 |  4.12 |  3 | 327 |\n",
       "| 26 |  9.92 |  5 | 327 |\n",
       "| 40 | 26.54 | 10 | 327 |\n",
       "| 54 | 37.82 | 15 | 327 |\n",
       "| 68 | 48.43 | 20 | 327 |\n",
       "| 82 | 56.81 | 25 | 327 |\n",
       "| 13 |  3.93 |  3 | 329 |\n",
       "| 27 |  9.34 |  5 | 329 |\n",
       "| 41 | 26.08 | 10 | 329 |\n",
       "| 55 | 37.79 | 15 | 329 |\n",
       "| 69 | 48.31 | 20 | 329 |\n",
       "| 83 | 56.43 | 25 | 329 |\n",
       "| 14 |  3.46 |  3 | 331 |\n",
       "| 28 |  9.05 |  5 | 331 |\n",
       "| 42 | 25.85 | 10 | 331 |\n",
       "| 56 | 39.15 | 15 | 331 |\n",
       "| 70 | 49.12 | 20 | 331 |\n",
       "| 84 | 59.49 | 25 | 331 |\n",
       "\n"
      ],
      "text/plain": [
       "   height age Seed\n",
       "1   4.51   3  301 \n",
       "15 10.89   5  301 \n",
       "29 28.72  10  301 \n",
       "43 41.74  15  301 \n",
       "57 52.70  20  301 \n",
       "71 60.92  25  301 \n",
       "2   4.55   3  303 \n",
       "16 10.92   5  303 \n",
       "30 29.07  10  303 \n",
       "44 42.83  15  303 \n",
       "58 53.88  20  303 \n",
       "72 63.39  25  303 \n",
       "3   4.79   3  305 \n",
       "17 11.37   5  305 \n",
       "31 30.21  10  305 \n",
       "45 44.40  15  305 \n",
       "59 55.82  20  305 \n",
       "73 64.10  25  305 \n",
       "4   3.91   3  307 \n",
       "18  9.48   5  307 \n",
       "32 25.66  10  307 \n",
       "46 39.07  15  307 \n",
       "60 50.78  20  307 \n",
       "74 59.07  25  307 \n",
       "5   4.81   3  309 \n",
       "19 11.20   5  309 \n",
       "33 28.66  10  309 \n",
       "47 41.66  15  309 \n",
       "61 53.31  20  309 \n",
       "75 63.05  25  309 \n",
       "⋮  ⋮      ⋮   ⋮   \n",
       "10  4.33   3  323 \n",
       "24 10.79   5  323 \n",
       "38 28.97  10  323 \n",
       "52 42.44  15  323 \n",
       "66 53.17  20  323 \n",
       "80 61.62  25  323 \n",
       "11  4.38   3  325 \n",
       "25 10.48   5  325 \n",
       "39 27.93  10  325 \n",
       "53 40.20  15  325 \n",
       "67 50.06  20  325 \n",
       "81 58.49  25  325 \n",
       "12  4.12   3  327 \n",
       "26  9.92   5  327 \n",
       "40 26.54  10  327 \n",
       "54 37.82  15  327 \n",
       "68 48.43  20  327 \n",
       "82 56.81  25  327 \n",
       "13  3.93   3  329 \n",
       "27  9.34   5  329 \n",
       "41 26.08  10  329 \n",
       "55 37.79  15  329 \n",
       "69 48.31  20  329 \n",
       "83 56.43  25  329 \n",
       "14  3.46   3  331 \n",
       "28  9.05   5  331 \n",
       "42 25.85  10  331 \n",
       "56 39.15  15  331 \n",
       "70 49.12  20  331 \n",
       "84 59.49  25  331 "
      ]
     },
     "metadata": {},
     "output_type": "display_data"
    }
   ],
   "source": [
    "data"
   ]
  },
  {
   "cell_type": "code",
   "execution_count": 152,
   "id": "02471b4c",
   "metadata": {},
   "outputs": [
    {
     "data": {
      "text/html": [
       "<style>\n",
       ".list-inline {list-style: none; margin:0; padding: 0}\n",
       ".list-inline>li {display: inline-block}\n",
       ".list-inline>li:not(:last-child)::after {content: \"\\00b7\"; padding: 0 .5ex}\n",
       "</style>\n",
       "<ol class=list-inline><li>'height'</li><li>'age'</li><li>'Seed'</li></ol>\n"
      ],
      "text/latex": [
       "\\begin{enumerate*}\n",
       "\\item 'height'\n",
       "\\item 'age'\n",
       "\\item 'Seed'\n",
       "\\end{enumerate*}\n"
      ],
      "text/markdown": [
       "1. 'height'\n",
       "2. 'age'\n",
       "3. 'Seed'\n",
       "\n",
       "\n"
      ],
      "text/plain": [
       "[1] \"height\" \"age\"    \"Seed\"  "
      ]
     },
     "metadata": {},
     "output_type": "display_data"
    }
   ],
   "source": [
    "colnames(data)"
   ]
  },
  {
   "cell_type": "code",
   "execution_count": 156,
   "id": "53dc828b",
   "metadata": {},
   "outputs": [
    {
     "data": {
      "image/png": "[encoded data removed]",
      "text/plain": [
       "plot without title"
      ]
     },
     "metadata": {
      "image/png": {
       "height": 420,
       "width": 420
      }
     },
     "output_type": "display_data"
    }
   ],
   "source": [
    "plot(data$age, data$height)\n",
    "lm.res = lm(height~age, data = data)\n",
    "abline(lm.res)"
   ]
  },
  {
   "cell_type": "code",
   "execution_count": 157,
   "id": "60576ade",
   "metadata": {},
   "outputs": [
    {
     "data": {
      "text/plain": [
       "\n",
       "Call:\n",
       "lm(formula = height ~ age, data = data)\n",
       "\n",
       "Residuals:\n",
       "    Min      1Q  Median      3Q     Max \n",
       "-7.0207 -2.1672 -0.4391  2.0539  6.8545 \n",
       "\n",
       "Coefficients:\n",
       "            Estimate Std. Error t value Pr(>|t|)    \n",
       "(Intercept) -1.31240    0.62183  -2.111   0.0379 *  \n",
       "age          2.59052    0.04094  63.272   <2e-16 ***\n",
       "---\n",
       "Signif. codes:  0 '***' 0.001 '**' 0.01 '*' 0.05 '.' 0.1 ' ' 1\n",
       "\n",
       "Residual standard error: 2.947 on 82 degrees of freedom\n",
       "Multiple R-squared:  0.9799,\tAdjusted R-squared:  0.9797 \n",
       "F-statistic:  4003 on 1 and 82 DF,  p-value: < 2.2e-16\n"
      ]
     },
     "metadata": {},
     "output_type": "display_data"
    }
   ],
   "source": [
    "summary(lm.res)"
   ]
  },
  {
   "cell_type": "code",
   "execution_count": 160,
   "id": "e17395d1",
   "metadata": {},
   "outputs": [
    {
     "name": "stdout",
     "output_type": "stream",
     "text": [
      "[1] 10\n",
      "       1 \n",
      "24.59284 \n",
      "[1] 24.5928\n",
      "[1] 15\n",
      "       1 \n",
      "37.54545 \n",
      "[1] 37.5454\n",
      "[1] 20\n",
      "       1 \n",
      "50.49807 \n",
      "[1] 50.498\n"
     ]
    }
   ],
   "source": [
    "for(i in c(10, 15, 20)){\n",
    "    print(i)\n",
    "    print(predict(lm.res, newdata = data.frame(age = i)))\n",
    "    print(-1.31240 + 2.59052 * i)\n",
    "}"
   ]
  },
  {
   "cell_type": "code",
   "execution_count": 161,
   "id": "56ed8e24",
   "metadata": {},
   "outputs": [],
   "source": [
    "df = airquality"
   ]
  },
  {
   "cell_type": "code",
   "execution_count": 162,
   "id": "e5351677",
   "metadata": {},
   "outputs": [
    {
     "data": {
      "text/html": [
       "<table class=\"dataframe\">\n",
       "<caption>A data.frame: 153 × 6</caption>\n",
       "<thead>\n",
       "\t<tr><th scope=col>Ozone</th><th scope=col>Solar.R</th><th scope=col>Wind</th><th scope=col>Temp</th><th scope=col>Month</th><th scope=col>Day</th></tr>\n",
       "\t<tr><th scope=col>&lt;int&gt;</th><th scope=col>&lt;int&gt;</th><th scope=col>&lt;dbl&gt;</th><th scope=col>&lt;int&gt;</th><th scope=col>&lt;int&gt;</th><th scope=col>&lt;int&gt;</th></tr>\n",
       "</thead>\n",
       "<tbody>\n",
       "\t<tr><td> 41</td><td>190</td><td> 7.4</td><td>67</td><td>5</td><td> 1</td></tr>\n",
       "\t<tr><td> 36</td><td>118</td><td> 8.0</td><td>72</td><td>5</td><td> 2</td></tr>\n",
       "\t<tr><td> 12</td><td>149</td><td>12.6</td><td>74</td><td>5</td><td> 3</td></tr>\n",
       "\t<tr><td> 18</td><td>313</td><td>11.5</td><td>62</td><td>5</td><td> 4</td></tr>\n",
       "\t<tr><td> NA</td><td> NA</td><td>14.3</td><td>56</td><td>5</td><td> 5</td></tr>\n",
       "\t<tr><td> 28</td><td> NA</td><td>14.9</td><td>66</td><td>5</td><td> 6</td></tr>\n",
       "\t<tr><td> 23</td><td>299</td><td> 8.6</td><td>65</td><td>5</td><td> 7</td></tr>\n",
       "\t<tr><td> 19</td><td> 99</td><td>13.8</td><td>59</td><td>5</td><td> 8</td></tr>\n",
       "\t<tr><td>  8</td><td> 19</td><td>20.1</td><td>61</td><td>5</td><td> 9</td></tr>\n",
       "\t<tr><td> NA</td><td>194</td><td> 8.6</td><td>69</td><td>5</td><td>10</td></tr>\n",
       "\t<tr><td>  7</td><td> NA</td><td> 6.9</td><td>74</td><td>5</td><td>11</td></tr>\n",
       "\t<tr><td> 16</td><td>256</td><td> 9.7</td><td>69</td><td>5</td><td>12</td></tr>\n",
       "\t<tr><td> 11</td><td>290</td><td> 9.2</td><td>66</td><td>5</td><td>13</td></tr>\n",
       "\t<tr><td> 14</td><td>274</td><td>10.9</td><td>68</td><td>5</td><td>14</td></tr>\n",
       "\t<tr><td> 18</td><td> 65</td><td>13.2</td><td>58</td><td>5</td><td>15</td></tr>\n",
       "\t<tr><td> 14</td><td>334</td><td>11.5</td><td>64</td><td>5</td><td>16</td></tr>\n",
       "\t<tr><td> 34</td><td>307</td><td>12.0</td><td>66</td><td>5</td><td>17</td></tr>\n",
       "\t<tr><td>  6</td><td> 78</td><td>18.4</td><td>57</td><td>5</td><td>18</td></tr>\n",
       "\t<tr><td> 30</td><td>322</td><td>11.5</td><td>68</td><td>5</td><td>19</td></tr>\n",
       "\t<tr><td> 11</td><td> 44</td><td> 9.7</td><td>62</td><td>5</td><td>20</td></tr>\n",
       "\t<tr><td>  1</td><td>  8</td><td> 9.7</td><td>59</td><td>5</td><td>21</td></tr>\n",
       "\t<tr><td> 11</td><td>320</td><td>16.6</td><td>73</td><td>5</td><td>22</td></tr>\n",
       "\t<tr><td>  4</td><td> 25</td><td> 9.7</td><td>61</td><td>5</td><td>23</td></tr>\n",
       "\t<tr><td> 32</td><td> 92</td><td>12.0</td><td>61</td><td>5</td><td>24</td></tr>\n",
       "\t<tr><td> NA</td><td> 66</td><td>16.6</td><td>57</td><td>5</td><td>25</td></tr>\n",
       "\t<tr><td> NA</td><td>266</td><td>14.9</td><td>58</td><td>5</td><td>26</td></tr>\n",
       "\t<tr><td> NA</td><td> NA</td><td> 8.0</td><td>57</td><td>5</td><td>27</td></tr>\n",
       "\t<tr><td> 23</td><td> 13</td><td>12.0</td><td>67</td><td>5</td><td>28</td></tr>\n",
       "\t<tr><td> 45</td><td>252</td><td>14.9</td><td>81</td><td>5</td><td>29</td></tr>\n",
       "\t<tr><td>115</td><td>223</td><td> 5.7</td><td>79</td><td>5</td><td>30</td></tr>\n",
       "\t<tr><td>⋮</td><td>⋮</td><td>⋮</td><td>⋮</td><td>⋮</td><td>⋮</td></tr>\n",
       "\t<tr><td>96</td><td>167</td><td> 6.9</td><td>91</td><td>9</td><td> 1</td></tr>\n",
       "\t<tr><td>78</td><td>197</td><td> 5.1</td><td>92</td><td>9</td><td> 2</td></tr>\n",
       "\t<tr><td>73</td><td>183</td><td> 2.8</td><td>93</td><td>9</td><td> 3</td></tr>\n",
       "\t<tr><td>91</td><td>189</td><td> 4.6</td><td>93</td><td>9</td><td> 4</td></tr>\n",
       "\t<tr><td>47</td><td> 95</td><td> 7.4</td><td>87</td><td>9</td><td> 5</td></tr>\n",
       "\t<tr><td>32</td><td> 92</td><td>15.5</td><td>84</td><td>9</td><td> 6</td></tr>\n",
       "\t<tr><td>20</td><td>252</td><td>10.9</td><td>80</td><td>9</td><td> 7</td></tr>\n",
       "\t<tr><td>23</td><td>220</td><td>10.3</td><td>78</td><td>9</td><td> 8</td></tr>\n",
       "\t<tr><td>21</td><td>230</td><td>10.9</td><td>75</td><td>9</td><td> 9</td></tr>\n",
       "\t<tr><td>24</td><td>259</td><td> 9.7</td><td>73</td><td>9</td><td>10</td></tr>\n",
       "\t<tr><td>44</td><td>236</td><td>14.9</td><td>81</td><td>9</td><td>11</td></tr>\n",
       "\t<tr><td>21</td><td>259</td><td>15.5</td><td>76</td><td>9</td><td>12</td></tr>\n",
       "\t<tr><td>28</td><td>238</td><td> 6.3</td><td>77</td><td>9</td><td>13</td></tr>\n",
       "\t<tr><td> 9</td><td> 24</td><td>10.9</td><td>71</td><td>9</td><td>14</td></tr>\n",
       "\t<tr><td>13</td><td>112</td><td>11.5</td><td>71</td><td>9</td><td>15</td></tr>\n",
       "\t<tr><td>46</td><td>237</td><td> 6.9</td><td>78</td><td>9</td><td>16</td></tr>\n",
       "\t<tr><td>18</td><td>224</td><td>13.8</td><td>67</td><td>9</td><td>17</td></tr>\n",
       "\t<tr><td>13</td><td> 27</td><td>10.3</td><td>76</td><td>9</td><td>18</td></tr>\n",
       "\t<tr><td>24</td><td>238</td><td>10.3</td><td>68</td><td>9</td><td>19</td></tr>\n",
       "\t<tr><td>16</td><td>201</td><td> 8.0</td><td>82</td><td>9</td><td>20</td></tr>\n",
       "\t<tr><td>13</td><td>238</td><td>12.6</td><td>64</td><td>9</td><td>21</td></tr>\n",
       "\t<tr><td>23</td><td> 14</td><td> 9.2</td><td>71</td><td>9</td><td>22</td></tr>\n",
       "\t<tr><td>36</td><td>139</td><td>10.3</td><td>81</td><td>9</td><td>23</td></tr>\n",
       "\t<tr><td> 7</td><td> 49</td><td>10.3</td><td>69</td><td>9</td><td>24</td></tr>\n",
       "\t<tr><td>14</td><td> 20</td><td>16.6</td><td>63</td><td>9</td><td>25</td></tr>\n",
       "\t<tr><td>30</td><td>193</td><td> 6.9</td><td>70</td><td>9</td><td>26</td></tr>\n",
       "\t<tr><td>NA</td><td>145</td><td>13.2</td><td>77</td><td>9</td><td>27</td></tr>\n",
       "\t<tr><td>14</td><td>191</td><td>14.3</td><td>75</td><td>9</td><td>28</td></tr>\n",
       "\t<tr><td>18</td><td>131</td><td> 8.0</td><td>76</td><td>9</td><td>29</td></tr>\n",
       "\t<tr><td>20</td><td>223</td><td>11.5</td><td>68</td><td>9</td><td>30</td></tr>\n",
       "</tbody>\n",
       "</table>\n"
      ],
      "text/latex": [
       "A data.frame: 153 × 6\n",
       "\\begin{tabular}{llllll}\n",
       " Ozone & Solar.R & Wind & Temp & Month & Day\\\\\n",
       " <int> & <int> & <dbl> & <int> & <int> & <int>\\\\\n",
       "\\hline\n",
       "\t  41 & 190 &  7.4 & 67 & 5 &  1\\\\\n",
       "\t  36 & 118 &  8.0 & 72 & 5 &  2\\\\\n",
       "\t  12 & 149 & 12.6 & 74 & 5 &  3\\\\\n",
       "\t  18 & 313 & 11.5 & 62 & 5 &  4\\\\\n",
       "\t  NA &  NA & 14.3 & 56 & 5 &  5\\\\\n",
       "\t  28 &  NA & 14.9 & 66 & 5 &  6\\\\\n",
       "\t  23 & 299 &  8.6 & 65 & 5 &  7\\\\\n",
       "\t  19 &  99 & 13.8 & 59 & 5 &  8\\\\\n",
       "\t   8 &  19 & 20.1 & 61 & 5 &  9\\\\\n",
       "\t  NA & 194 &  8.6 & 69 & 5 & 10\\\\\n",
       "\t   7 &  NA &  6.9 & 74 & 5 & 11\\\\\n",
       "\t  16 & 256 &  9.7 & 69 & 5 & 12\\\\\n",
       "\t  11 & 290 &  9.2 & 66 & 5 & 13\\\\\n",
       "\t  14 & 274 & 10.9 & 68 & 5 & 14\\\\\n",
       "\t  18 &  65 & 13.2 & 58 & 5 & 15\\\\\n",
       "\t  14 & 334 & 11.5 & 64 & 5 & 16\\\\\n",
       "\t  34 & 307 & 12.0 & 66 & 5 & 17\\\\\n",
       "\t   6 &  78 & 18.4 & 57 & 5 & 18\\\\\n",
       "\t  30 & 322 & 11.5 & 68 & 5 & 19\\\\\n",
       "\t  11 &  44 &  9.7 & 62 & 5 & 20\\\\\n",
       "\t   1 &   8 &  9.7 & 59 & 5 & 21\\\\\n",
       "\t  11 & 320 & 16.6 & 73 & 5 & 22\\\\\n",
       "\t   4 &  25 &  9.7 & 61 & 5 & 23\\\\\n",
       "\t  32 &  92 & 12.0 & 61 & 5 & 24\\\\\n",
       "\t  NA &  66 & 16.6 & 57 & 5 & 25\\\\\n",
       "\t  NA & 266 & 14.9 & 58 & 5 & 26\\\\\n",
       "\t  NA &  NA &  8.0 & 57 & 5 & 27\\\\\n",
       "\t  23 &  13 & 12.0 & 67 & 5 & 28\\\\\n",
       "\t  45 & 252 & 14.9 & 81 & 5 & 29\\\\\n",
       "\t 115 & 223 &  5.7 & 79 & 5 & 30\\\\\n",
       "\t ⋮ & ⋮ & ⋮ & ⋮ & ⋮ & ⋮\\\\\n",
       "\t 96 & 167 &  6.9 & 91 & 9 &  1\\\\\n",
       "\t 78 & 197 &  5.1 & 92 & 9 &  2\\\\\n",
       "\t 73 & 183 &  2.8 & 93 & 9 &  3\\\\\n",
       "\t 91 & 189 &  4.6 & 93 & 9 &  4\\\\\n",
       "\t 47 &  95 &  7.4 & 87 & 9 &  5\\\\\n",
       "\t 32 &  92 & 15.5 & 84 & 9 &  6\\\\\n",
       "\t 20 & 252 & 10.9 & 80 & 9 &  7\\\\\n",
       "\t 23 & 220 & 10.3 & 78 & 9 &  8\\\\\n",
       "\t 21 & 230 & 10.9 & 75 & 9 &  9\\\\\n",
       "\t 24 & 259 &  9.7 & 73 & 9 & 10\\\\\n",
       "\t 44 & 236 & 14.9 & 81 & 9 & 11\\\\\n",
       "\t 21 & 259 & 15.5 & 76 & 9 & 12\\\\\n",
       "\t 28 & 238 &  6.3 & 77 & 9 & 13\\\\\n",
       "\t  9 &  24 & 10.9 & 71 & 9 & 14\\\\\n",
       "\t 13 & 112 & 11.5 & 71 & 9 & 15\\\\\n",
       "\t 46 & 237 &  6.9 & 78 & 9 & 16\\\\\n",
       "\t 18 & 224 & 13.8 & 67 & 9 & 17\\\\\n",
       "\t 13 &  27 & 10.3 & 76 & 9 & 18\\\\\n",
       "\t 24 & 238 & 10.3 & 68 & 9 & 19\\\\\n",
       "\t 16 & 201 &  8.0 & 82 & 9 & 20\\\\\n",
       "\t 13 & 238 & 12.6 & 64 & 9 & 21\\\\\n",
       "\t 23 &  14 &  9.2 & 71 & 9 & 22\\\\\n",
       "\t 36 & 139 & 10.3 & 81 & 9 & 23\\\\\n",
       "\t  7 &  49 & 10.3 & 69 & 9 & 24\\\\\n",
       "\t 14 &  20 & 16.6 & 63 & 9 & 25\\\\\n",
       "\t 30 & 193 &  6.9 & 70 & 9 & 26\\\\\n",
       "\t NA & 145 & 13.2 & 77 & 9 & 27\\\\\n",
       "\t 14 & 191 & 14.3 & 75 & 9 & 28\\\\\n",
       "\t 18 & 131 &  8.0 & 76 & 9 & 29\\\\\n",
       "\t 20 & 223 & 11.5 & 68 & 9 & 30\\\\\n",
       "\\end{tabular}\n"
      ],
      "text/markdown": [
       "\n",
       "A data.frame: 153 × 6\n",
       "\n",
       "| Ozone &lt;int&gt; | Solar.R &lt;int&gt; | Wind &lt;dbl&gt; | Temp &lt;int&gt; | Month &lt;int&gt; | Day &lt;int&gt; |\n",
       "|---|---|---|---|---|---|\n",
       "|  41 | 190 |  7.4 | 67 | 5 |  1 |\n",
       "|  36 | 118 |  8.0 | 72 | 5 |  2 |\n",
       "|  12 | 149 | 12.6 | 74 | 5 |  3 |\n",
       "|  18 | 313 | 11.5 | 62 | 5 |  4 |\n",
       "|  NA |  NA | 14.3 | 56 | 5 |  5 |\n",
       "|  28 |  NA | 14.9 | 66 | 5 |  6 |\n",
       "|  23 | 299 |  8.6 | 65 | 5 |  7 |\n",
       "|  19 |  99 | 13.8 | 59 | 5 |  8 |\n",
       "|   8 |  19 | 20.1 | 61 | 5 |  9 |\n",
       "|  NA | 194 |  8.6 | 69 | 5 | 10 |\n",
       "|   7 |  NA |  6.9 | 74 | 5 | 11 |\n",
       "|  16 | 256 |  9.7 | 69 | 5 | 12 |\n",
       "|  11 | 290 |  9.2 | 66 | 5 | 13 |\n",
       "|  14 | 274 | 10.9 | 68 | 5 | 14 |\n",
       "|  18 |  65 | 13.2 | 58 | 5 | 15 |\n",
       "|  14 | 334 | 11.5 | 64 | 5 | 16 |\n",
       "|  34 | 307 | 12.0 | 66 | 5 | 17 |\n",
       "|   6 |  78 | 18.4 | 57 | 5 | 18 |\n",
       "|  30 | 322 | 11.5 | 68 | 5 | 19 |\n",
       "|  11 |  44 |  9.7 | 62 | 5 | 20 |\n",
       "|   1 |   8 |  9.7 | 59 | 5 | 21 |\n",
       "|  11 | 320 | 16.6 | 73 | 5 | 22 |\n",
       "|   4 |  25 |  9.7 | 61 | 5 | 23 |\n",
       "|  32 |  92 | 12.0 | 61 | 5 | 24 |\n",
       "|  NA |  66 | 16.6 | 57 | 5 | 25 |\n",
       "|  NA | 266 | 14.9 | 58 | 5 | 26 |\n",
       "|  NA |  NA |  8.0 | 57 | 5 | 27 |\n",
       "|  23 |  13 | 12.0 | 67 | 5 | 28 |\n",
       "|  45 | 252 | 14.9 | 81 | 5 | 29 |\n",
       "| 115 | 223 |  5.7 | 79 | 5 | 30 |\n",
       "| ⋮ | ⋮ | ⋮ | ⋮ | ⋮ | ⋮ |\n",
       "| 96 | 167 |  6.9 | 91 | 9 |  1 |\n",
       "| 78 | 197 |  5.1 | 92 | 9 |  2 |\n",
       "| 73 | 183 |  2.8 | 93 | 9 |  3 |\n",
       "| 91 | 189 |  4.6 | 93 | 9 |  4 |\n",
       "| 47 |  95 |  7.4 | 87 | 9 |  5 |\n",
       "| 32 |  92 | 15.5 | 84 | 9 |  6 |\n",
       "| 20 | 252 | 10.9 | 80 | 9 |  7 |\n",
       "| 23 | 220 | 10.3 | 78 | 9 |  8 |\n",
       "| 21 | 230 | 10.9 | 75 | 9 |  9 |\n",
       "| 24 | 259 |  9.7 | 73 | 9 | 10 |\n",
       "| 44 | 236 | 14.9 | 81 | 9 | 11 |\n",
       "| 21 | 259 | 15.5 | 76 | 9 | 12 |\n",
       "| 28 | 238 |  6.3 | 77 | 9 | 13 |\n",
       "|  9 |  24 | 10.9 | 71 | 9 | 14 |\n",
       "| 13 | 112 | 11.5 | 71 | 9 | 15 |\n",
       "| 46 | 237 |  6.9 | 78 | 9 | 16 |\n",
       "| 18 | 224 | 13.8 | 67 | 9 | 17 |\n",
       "| 13 |  27 | 10.3 | 76 | 9 | 18 |\n",
       "| 24 | 238 | 10.3 | 68 | 9 | 19 |\n",
       "| 16 | 201 |  8.0 | 82 | 9 | 20 |\n",
       "| 13 | 238 | 12.6 | 64 | 9 | 21 |\n",
       "| 23 |  14 |  9.2 | 71 | 9 | 22 |\n",
       "| 36 | 139 | 10.3 | 81 | 9 | 23 |\n",
       "|  7 |  49 | 10.3 | 69 | 9 | 24 |\n",
       "| 14 |  20 | 16.6 | 63 | 9 | 25 |\n",
       "| 30 | 193 |  6.9 | 70 | 9 | 26 |\n",
       "| NA | 145 | 13.2 | 77 | 9 | 27 |\n",
       "| 14 | 191 | 14.3 | 75 | 9 | 28 |\n",
       "| 18 | 131 |  8.0 | 76 | 9 | 29 |\n",
       "| 20 | 223 | 11.5 | 68 | 9 | 30 |\n",
       "\n"
      ],
      "text/plain": [
       "    Ozone Solar.R Wind Temp Month Day\n",
       "1    41   190      7.4 67   5      1 \n",
       "2    36   118      8.0 72   5      2 \n",
       "3    12   149     12.6 74   5      3 \n",
       "4    18   313     11.5 62   5      4 \n",
       "5    NA    NA     14.3 56   5      5 \n",
       "6    28    NA     14.9 66   5      6 \n",
       "7    23   299      8.6 65   5      7 \n",
       "8    19    99     13.8 59   5      8 \n",
       "9     8    19     20.1 61   5      9 \n",
       "10   NA   194      8.6 69   5     10 \n",
       "11    7    NA      6.9 74   5     11 \n",
       "12   16   256      9.7 69   5     12 \n",
       "13   11   290      9.2 66   5     13 \n",
       "14   14   274     10.9 68   5     14 \n",
       "15   18    65     13.2 58   5     15 \n",
       "16   14   334     11.5 64   5     16 \n",
       "17   34   307     12.0 66   5     17 \n",
       "18    6    78     18.4 57   5     18 \n",
       "19   30   322     11.5 68   5     19 \n",
       "20   11    44      9.7 62   5     20 \n",
       "21    1     8      9.7 59   5     21 \n",
       "22   11   320     16.6 73   5     22 \n",
       "23    4    25      9.7 61   5     23 \n",
       "24   32    92     12.0 61   5     24 \n",
       "25   NA    66     16.6 57   5     25 \n",
       "26   NA   266     14.9 58   5     26 \n",
       "27   NA    NA      8.0 57   5     27 \n",
       "28   23    13     12.0 67   5     28 \n",
       "29   45   252     14.9 81   5     29 \n",
       "30  115   223      5.7 79   5     30 \n",
       "⋮   ⋮     ⋮       ⋮    ⋮    ⋮     ⋮  \n",
       "124 96    167      6.9 91   9      1 \n",
       "125 78    197      5.1 92   9      2 \n",
       "126 73    183      2.8 93   9      3 \n",
       "127 91    189      4.6 93   9      4 \n",
       "128 47     95      7.4 87   9      5 \n",
       "129 32     92     15.5 84   9      6 \n",
       "130 20    252     10.9 80   9      7 \n",
       "131 23    220     10.3 78   9      8 \n",
       "132 21    230     10.9 75   9      9 \n",
       "133 24    259      9.7 73   9     10 \n",
       "134 44    236     14.9 81   9     11 \n",
       "135 21    259     15.5 76   9     12 \n",
       "136 28    238      6.3 77   9     13 \n",
       "137  9     24     10.9 71   9     14 \n",
       "138 13    112     11.5 71   9     15 \n",
       "139 46    237      6.9 78   9     16 \n",
       "140 18    224     13.8 67   9     17 \n",
       "141 13     27     10.3 76   9     18 \n",
       "142 24    238     10.3 68   9     19 \n",
       "143 16    201      8.0 82   9     20 \n",
       "144 13    238     12.6 64   9     21 \n",
       "145 23     14      9.2 71   9     22 \n",
       "146 36    139     10.3 81   9     23 \n",
       "147  7     49     10.3 69   9     24 \n",
       "148 14     20     16.6 63   9     25 \n",
       "149 30    193      6.9 70   9     26 \n",
       "150 NA    145     13.2 77   9     27 \n",
       "151 14    191     14.3 75   9     28 \n",
       "152 18    131      8.0 76   9     29 \n",
       "153 20    223     11.5 68   9     30 "
      ]
     },
     "metadata": {},
     "output_type": "display_data"
    }
   ],
   "source": [
    "df"
   ]
  },
  {
   "cell_type": "code",
   "execution_count": 163,
   "id": "93f00a2a",
   "metadata": {},
   "outputs": [
    {
     "data": {
      "text/html": [
       "<style>\n",
       ".list-inline {list-style: none; margin:0; padding: 0}\n",
       ".list-inline>li {display: inline-block}\n",
       ".list-inline>li:not(:last-child)::after {content: \"\\00b7\"; padding: 0 .5ex}\n",
       "</style>\n",
       "<ol class=list-inline><li>'Ozone'</li><li>'Solar.R'</li><li>'Wind'</li><li>'Temp'</li><li>'Month'</li><li>'Day'</li></ol>\n"
      ],
      "text/latex": [
       "\\begin{enumerate*}\n",
       "\\item 'Ozone'\n",
       "\\item 'Solar.R'\n",
       "\\item 'Wind'\n",
       "\\item 'Temp'\n",
       "\\item 'Month'\n",
       "\\item 'Day'\n",
       "\\end{enumerate*}\n"
      ],
      "text/markdown": [
       "1. 'Ozone'\n",
       "2. 'Solar.R'\n",
       "3. 'Wind'\n",
       "4. 'Temp'\n",
       "5. 'Month'\n",
       "6. 'Day'\n",
       "\n",
       "\n"
      ],
      "text/plain": [
       "[1] \"Ozone\"   \"Solar.R\" \"Wind\"    \"Temp\"    \"Month\"   \"Day\"    "
      ]
     },
     "metadata": {},
     "output_type": "display_data"
    }
   ],
   "source": [
    "colnames(df)"
   ]
  },
  {
   "cell_type": "code",
   "execution_count": 167,
   "id": "21cc0b29",
   "metadata": {},
   "outputs": [
    {
     "data": {
      "image/png": "[encoded data removed]",
      "text/plain": [
       "plot without title"
      ]
     },
     "metadata": {
      "image/png": {
       "height": 420,
       "width": 420
      }
     },
     "output_type": "display_data"
    }
   ],
   "source": [
    "plot(df$Temp~df$Wind)\n",
    "lm.res = lm(Temp~Wind, data = df)\n",
    "abline(lm.res)"
   ]
  },
  {
   "cell_type": "code",
   "execution_count": 168,
   "id": "31e3588f",
   "metadata": {},
   "outputs": [
    {
     "data": {
      "text/plain": [
       "\n",
       "Call:\n",
       "lm(formula = Temp ~ Wind, data = df)\n",
       "\n",
       "Residuals:\n",
       "    Min      1Q  Median      3Q     Max \n",
       "-23.291  -5.723   1.709   6.016  19.199 \n",
       "\n",
       "Coefficients:\n",
       "            Estimate Std. Error t value Pr(>|t|)    \n",
       "(Intercept)  90.1349     2.0522  43.921  < 2e-16 ***\n",
       "Wind         -1.2305     0.1944  -6.331 2.64e-09 ***\n",
       "---\n",
       "Signif. codes:  0 '***' 0.001 '**' 0.01 '*' 0.05 '.' 0.1 ' ' 1\n",
       "\n",
       "Residual standard error: 8.442 on 151 degrees of freedom\n",
       "Multiple R-squared:  0.2098,\tAdjusted R-squared:  0.2045 \n",
       "F-statistic: 40.08 on 1 and 151 DF,  p-value: 2.642e-09\n"
      ]
     },
     "metadata": {},
     "output_type": "display_data"
    }
   ],
   "source": [
    "summary(lm.res)"
   ]
  },
  {
   "cell_type": "code",
   "execution_count": 169,
   "id": "1ae5e708",
   "metadata": {},
   "outputs": [
    {
     "name": "stdout",
     "output_type": "stream",
     "text": [
      "[1] 10\n",
      "       1 \n",
      "77.83008 \n",
      "[1] 77.8299\n",
      "[1] 15\n",
      "       1 \n",
      "71.67768 \n",
      "[1] 71.6774\n",
      "[1] 20\n",
      "       1 \n",
      "65.52529 \n",
      "[1] 65.5249\n"
     ]
    }
   ],
   "source": [
    "for(i in c(10, 15, 20)){\n",
    "    print(i)\n",
    "    print(predict(lm.res, newdata = data.frame(Wind = i)))\n",
    "    print(90.1349 + -1.2305 * i)\n",
    "}"
   ]
  },
  {
   "cell_type": "code",
   "execution_count": 170,
   "id": "16f70add",
   "metadata": {},
   "outputs": [],
   "source": [
    "edu = infert$education"
   ]
  },
  {
   "cell_type": "code",
   "execution_count": 171,
   "id": "e1d3e1d6",
   "metadata": {},
   "outputs": [
    {
     "data": {
      "text/html": [
       "<style>\n",
       ".list-inline {list-style: none; margin:0; padding: 0}\n",
       ".list-inline>li {display: inline-block}\n",
       ".list-inline>li:not(:last-child)::after {content: \"\\00b7\"; padding: 0 .5ex}\n",
       "</style>\n",
       "<ol class=list-inline><li>0-5yrs</li><li>0-5yrs</li><li>0-5yrs</li><li>0-5yrs</li><li>6-11yrs</li><li>6-11yrs</li><li>6-11yrs</li><li>6-11yrs</li><li>6-11yrs</li><li>6-11yrs</li><li>6-11yrs</li><li>6-11yrs</li><li>6-11yrs</li><li>6-11yrs</li><li>6-11yrs</li><li>6-11yrs</li><li>6-11yrs</li><li>6-11yrs</li><li>6-11yrs</li><li>6-11yrs</li><li>6-11yrs</li><li>6-11yrs</li><li>6-11yrs</li><li>6-11yrs</li><li>6-11yrs</li><li>6-11yrs</li><li>6-11yrs</li><li>6-11yrs</li><li>6-11yrs</li><li>6-11yrs</li><li>6-11yrs</li><li>6-11yrs</li><li>6-11yrs</li><li>6-11yrs</li><li>6-11yrs</li><li>6-11yrs</li><li>6-11yrs</li><li>6-11yrs</li><li>6-11yrs</li><li>6-11yrs</li><li>6-11yrs</li><li>6-11yrs</li><li>6-11yrs</li><li>6-11yrs</li><li>12+ yrs</li><li>12+ yrs</li><li>12+ yrs</li><li>12+ yrs</li><li>12+ yrs</li><li>12+ yrs</li><li>12+ yrs</li><li>12+ yrs</li><li>12+ yrs</li><li>12+ yrs</li><li>12+ yrs</li><li>12+ yrs</li><li>12+ yrs</li><li>12+ yrs</li><li>12+ yrs</li><li>12+ yrs</li><li>12+ yrs</li><li>12+ yrs</li><li>12+ yrs</li><li>12+ yrs</li><li>12+ yrs</li><li>12+ yrs</li><li>12+ yrs</li><li>12+ yrs</li><li>12+ yrs</li><li>12+ yrs</li><li>12+ yrs</li><li>12+ yrs</li><li>12+ yrs</li><li>12+ yrs</li><li>12+ yrs</li><li>12+ yrs</li><li>12+ yrs</li><li>12+ yrs</li><li>12+ yrs</li><li>12+ yrs</li><li>12+ yrs</li><li>12+ yrs</li><li>12+ yrs</li><li>0-5yrs</li><li>0-5yrs</li><li>0-5yrs</li><li>0-5yrs</li><li>6-11yrs</li><li>6-11yrs</li><li>6-11yrs</li><li>6-11yrs</li><li>6-11yrs</li><li>6-11yrs</li><li>6-11yrs</li><li>6-11yrs</li><li>6-11yrs</li><li>6-11yrs</li><li>6-11yrs</li><li>6-11yrs</li><li>6-11yrs</li><li>6-11yrs</li><li>6-11yrs</li><li>6-11yrs</li><li>6-11yrs</li><li>6-11yrs</li><li>6-11yrs</li><li>6-11yrs</li><li>6-11yrs</li><li>6-11yrs</li><li>6-11yrs</li><li>6-11yrs</li><li>6-11yrs</li><li>6-11yrs</li><li>6-11yrs</li><li>6-11yrs</li><li>6-11yrs</li><li>6-11yrs</li><li>6-11yrs</li><li>6-11yrs</li><li>6-11yrs</li><li>6-11yrs</li><li>6-11yrs</li><li>6-11yrs</li><li>6-11yrs</li><li>6-11yrs</li><li>6-11yrs</li><li>6-11yrs</li><li>12+ yrs</li><li>12+ yrs</li><li>12+ yrs</li><li>12+ yrs</li><li>12+ yrs</li><li>12+ yrs</li><li>12+ yrs</li><li>12+ yrs</li><li>12+ yrs</li><li>12+ yrs</li><li>12+ yrs</li><li>12+ yrs</li><li>12+ yrs</li><li>12+ yrs</li><li>12+ yrs</li><li>12+ yrs</li><li>12+ yrs</li><li>12+ yrs</li><li>12+ yrs</li><li>12+ yrs</li><li>12+ yrs</li><li>12+ yrs</li><li>12+ yrs</li><li>12+ yrs</li><li>12+ yrs</li><li>12+ yrs</li><li>12+ yrs</li><li>12+ yrs</li><li>12+ yrs</li><li>12+ yrs</li><li>12+ yrs</li><li>12+ yrs</li><li>12+ yrs</li><li>12+ yrs</li><li>12+ yrs</li><li>12+ yrs</li><li>12+ yrs</li><li>12+ yrs</li><li>0-5yrs</li><li>0-5yrs</li><li>0-5yrs</li><li>0-5yrs</li><li>6-11yrs</li><li>6-11yrs</li><li>6-11yrs</li><li>6-11yrs</li><li>6-11yrs</li><li>6-11yrs</li><li>6-11yrs</li><li>6-11yrs</li><li>6-11yrs</li><li>6-11yrs</li><li>6-11yrs</li><li>6-11yrs</li><li>6-11yrs</li><li>6-11yrs</li><li>6-11yrs</li><li>6-11yrs</li><li>6-11yrs</li><li>6-11yrs</li><li>6-11yrs</li><li>6-11yrs</li><li>6-11yrs</li><li>6-11yrs</li><li>6-11yrs</li><li>6-11yrs</li><li>6-11yrs</li><li>6-11yrs</li><li>6-11yrs</li><li>6-11yrs</li><li>6-11yrs</li><li>6-11yrs</li><li>6-11yrs</li><li>6-11yrs</li><li>6-11yrs</li><li>6-11yrs</li><li>6-11yrs</li><li>6-11yrs</li><li>6-11yrs</li><li>6-11yrs</li><li>6-11yrs</li><li>6-11yrs</li><li>12+ yrs</li><li>12+ yrs</li><li>12+ yrs</li><li>12+ yrs</li><li>12+ yrs</li><li>12+ yrs</li><li>12+ yrs</li><li>12+ yrs</li><li>12+ yrs</li><li>12+ yrs</li><li>12+ yrs</li><li>12+ yrs</li><li>12+ yrs</li><li>12+ yrs</li><li>12+ yrs</li><li>12+ yrs</li><li>12+ yrs</li><li>12+ yrs</li><li>12+ yrs</li><li>12+ yrs</li><li>12+ yrs</li><li>12+ yrs</li><li>12+ yrs</li><li>12+ yrs</li><li>12+ yrs</li><li>12+ yrs</li><li>12+ yrs</li><li>12+ yrs</li><li>12+ yrs</li><li>12+ yrs</li><li>12+ yrs</li><li>12+ yrs</li><li>12+ yrs</li><li>12+ yrs</li><li>12+ yrs</li><li>12+ yrs</li><li>12+ yrs</li><li>12+ yrs</li><li>12+ yrs</li></ol>\n",
       "\n",
       "<details>\n",
       "\t<summary style=display:list-item;cursor:pointer>\n",
       "\t\t<strong>Levels</strong>:\n",
       "\t</summary>\n",
       "\t<style>\n",
       "\t.list-inline {list-style: none; margin:0; padding: 0}\n",
       "\t.list-inline>li {display: inline-block}\n",
       "\t.list-inline>li:not(:last-child)::after {content: \"\\00b7\"; padding: 0 .5ex}\n",
       "\t</style>\n",
       "\t<ol class=list-inline><li>'0-5yrs'</li><li>'6-11yrs'</li><li>'12+ yrs'</li></ol>\n",
       "</details>"
      ],
      "text/latex": [
       "\\begin{enumerate*}\n",
       "\\item 0-5yrs\n",
       "\\item 0-5yrs\n",
       "\\item 0-5yrs\n",
       "\\item 0-5yrs\n",
       "\\item 6-11yrs\n",
       "\\item 6-11yrs\n",
       "\\item 6-11yrs\n",
       "\\item 6-11yrs\n",
       "\\item 6-11yrs\n",
       "\\item 6-11yrs\n",
       "\\item 6-11yrs\n",
       "\\item 6-11yrs\n",
       "\\item 6-11yrs\n",
       "\\item 6-11yrs\n",
       "\\item 6-11yrs\n",
       "\\item 6-11yrs\n",
       "\\item 6-11yrs\n",
       "\\item 6-11yrs\n",
       "\\item 6-11yrs\n",
       "\\item 6-11yrs\n",
       "\\item 6-11yrs\n",
       "\\item 6-11yrs\n",
       "\\item 6-11yrs\n",
       "\\item 6-11yrs\n",
       "\\item 6-11yrs\n",
       "\\item 6-11yrs\n",
       "\\item 6-11yrs\n",
       "\\item 6-11yrs\n",
       "\\item 6-11yrs\n",
       "\\item 6-11yrs\n",
       "\\item 6-11yrs\n",
       "\\item 6-11yrs\n",
       "\\item 6-11yrs\n",
       "\\item 6-11yrs\n",
       "\\item 6-11yrs\n",
       "\\item 6-11yrs\n",
       "\\item 6-11yrs\n",
       "\\item 6-11yrs\n",
       "\\item 6-11yrs\n",
       "\\item 6-11yrs\n",
       "\\item 6-11yrs\n",
       "\\item 6-11yrs\n",
       "\\item 6-11yrs\n",
       "\\item 6-11yrs\n",
       "\\item 12+ yrs\n",
       "\\item 12+ yrs\n",
       "\\item 12+ yrs\n",
       "\\item 12+ yrs\n",
       "\\item 12+ yrs\n",
       "\\item 12+ yrs\n",
       "\\item 12+ yrs\n",
       "\\item 12+ yrs\n",
       "\\item 12+ yrs\n",
       "\\item 12+ yrs\n",
       "\\item 12+ yrs\n",
       "\\item 12+ yrs\n",
       "\\item 12+ yrs\n",
       "\\item 12+ yrs\n",
       "\\item 12+ yrs\n",
       "\\item 12+ yrs\n",
       "\\item 12+ yrs\n",
       "\\item 12+ yrs\n",
       "\\item 12+ yrs\n",
       "\\item 12+ yrs\n",
       "\\item 12+ yrs\n",
       "\\item 12+ yrs\n",
       "\\item 12+ yrs\n",
       "\\item 12+ yrs\n",
       "\\item 12+ yrs\n",
       "\\item 12+ yrs\n",
       "\\item 12+ yrs\n",
       "\\item 12+ yrs\n",
       "\\item 12+ yrs\n",
       "\\item 12+ yrs\n",
       "\\item 12+ yrs\n",
       "\\item 12+ yrs\n",
       "\\item 12+ yrs\n",
       "\\item 12+ yrs\n",
       "\\item 12+ yrs\n",
       "\\item 12+ yrs\n",
       "\\item 12+ yrs\n",
       "\\item 12+ yrs\n",
       "\\item 12+ yrs\n",
       "\\item 0-5yrs\n",
       "\\item 0-5yrs\n",
       "\\item 0-5yrs\n",
       "\\item 0-5yrs\n",
       "\\item 6-11yrs\n",
       "\\item 6-11yrs\n",
       "\\item 6-11yrs\n",
       "\\item 6-11yrs\n",
       "\\item 6-11yrs\n",
       "\\item 6-11yrs\n",
       "\\item 6-11yrs\n",
       "\\item 6-11yrs\n",
       "\\item 6-11yrs\n",
       "\\item 6-11yrs\n",
       "\\item 6-11yrs\n",
       "\\item 6-11yrs\n",
       "\\item 6-11yrs\n",
       "\\item 6-11yrs\n",
       "\\item 6-11yrs\n",
       "\\item 6-11yrs\n",
       "\\item 6-11yrs\n",
       "\\item 6-11yrs\n",
       "\\item 6-11yrs\n",
       "\\item 6-11yrs\n",
       "\\item 6-11yrs\n",
       "\\item 6-11yrs\n",
       "\\item 6-11yrs\n",
       "\\item 6-11yrs\n",
       "\\item 6-11yrs\n",
       "\\item 6-11yrs\n",
       "\\item 6-11yrs\n",
       "\\item 6-11yrs\n",
       "\\item 6-11yrs\n",
       "\\item 6-11yrs\n",
       "\\item 6-11yrs\n",
       "\\item 6-11yrs\n",
       "\\item 6-11yrs\n",
       "\\item 6-11yrs\n",
       "\\item 6-11yrs\n",
       "\\item 6-11yrs\n",
       "\\item 6-11yrs\n",
       "\\item 6-11yrs\n",
       "\\item 6-11yrs\n",
       "\\item 6-11yrs\n",
       "\\item 12+ yrs\n",
       "\\item 12+ yrs\n",
       "\\item 12+ yrs\n",
       "\\item 12+ yrs\n",
       "\\item 12+ yrs\n",
       "\\item 12+ yrs\n",
       "\\item 12+ yrs\n",
       "\\item 12+ yrs\n",
       "\\item 12+ yrs\n",
       "\\item 12+ yrs\n",
       "\\item 12+ yrs\n",
       "\\item 12+ yrs\n",
       "\\item 12+ yrs\n",
       "\\item 12+ yrs\n",
       "\\item 12+ yrs\n",
       "\\item 12+ yrs\n",
       "\\item 12+ yrs\n",
       "\\item 12+ yrs\n",
       "\\item 12+ yrs\n",
       "\\item 12+ yrs\n",
       "\\item 12+ yrs\n",
       "\\item 12+ yrs\n",
       "\\item 12+ yrs\n",
       "\\item 12+ yrs\n",
       "\\item 12+ yrs\n",
       "\\item 12+ yrs\n",
       "\\item 12+ yrs\n",
       "\\item 12+ yrs\n",
       "\\item 12+ yrs\n",
       "\\item 12+ yrs\n",
       "\\item 12+ yrs\n",
       "\\item 12+ yrs\n",
       "\\item 12+ yrs\n",
       "\\item 12+ yrs\n",
       "\\item 12+ yrs\n",
       "\\item 12+ yrs\n",
       "\\item 12+ yrs\n",
       "\\item 12+ yrs\n",
       "\\item 0-5yrs\n",
       "\\item 0-5yrs\n",
       "\\item 0-5yrs\n",
       "\\item 0-5yrs\n",
       "\\item 6-11yrs\n",
       "\\item 6-11yrs\n",
       "\\item 6-11yrs\n",
       "\\item 6-11yrs\n",
       "\\item 6-11yrs\n",
       "\\item 6-11yrs\n",
       "\\item 6-11yrs\n",
       "\\item 6-11yrs\n",
       "\\item 6-11yrs\n",
       "\\item 6-11yrs\n",
       "\\item 6-11yrs\n",
       "\\item 6-11yrs\n",
       "\\item 6-11yrs\n",
       "\\item 6-11yrs\n",
       "\\item 6-11yrs\n",
       "\\item 6-11yrs\n",
       "\\item 6-11yrs\n",
       "\\item 6-11yrs\n",
       "\\item 6-11yrs\n",
       "\\item 6-11yrs\n",
       "\\item 6-11yrs\n",
       "\\item 6-11yrs\n",
       "\\item 6-11yrs\n",
       "\\item 6-11yrs\n",
       "\\item 6-11yrs\n",
       "\\item 6-11yrs\n",
       "\\item 6-11yrs\n",
       "\\item 6-11yrs\n",
       "\\item 6-11yrs\n",
       "\\item 6-11yrs\n",
       "\\item 6-11yrs\n",
       "\\item 6-11yrs\n",
       "\\item 6-11yrs\n",
       "\\item 6-11yrs\n",
       "\\item 6-11yrs\n",
       "\\item 6-11yrs\n",
       "\\item 6-11yrs\n",
       "\\item 6-11yrs\n",
       "\\item 6-11yrs\n",
       "\\item 6-11yrs\n",
       "\\item 12+ yrs\n",
       "\\item 12+ yrs\n",
       "\\item 12+ yrs\n",
       "\\item 12+ yrs\n",
       "\\item 12+ yrs\n",
       "\\item 12+ yrs\n",
       "\\item 12+ yrs\n",
       "\\item 12+ yrs\n",
       "\\item 12+ yrs\n",
       "\\item 12+ yrs\n",
       "\\item 12+ yrs\n",
       "\\item 12+ yrs\n",
       "\\item 12+ yrs\n",
       "\\item 12+ yrs\n",
       "\\item 12+ yrs\n",
       "\\item 12+ yrs\n",
       "\\item 12+ yrs\n",
       "\\item 12+ yrs\n",
       "\\item 12+ yrs\n",
       "\\item 12+ yrs\n",
       "\\item 12+ yrs\n",
       "\\item 12+ yrs\n",
       "\\item 12+ yrs\n",
       "\\item 12+ yrs\n",
       "\\item 12+ yrs\n",
       "\\item 12+ yrs\n",
       "\\item 12+ yrs\n",
       "\\item 12+ yrs\n",
       "\\item 12+ yrs\n",
       "\\item 12+ yrs\n",
       "\\item 12+ yrs\n",
       "\\item 12+ yrs\n",
       "\\item 12+ yrs\n",
       "\\item 12+ yrs\n",
       "\\item 12+ yrs\n",
       "\\item 12+ yrs\n",
       "\\item 12+ yrs\n",
       "\\item 12+ yrs\n",
       "\\item 12+ yrs\n",
       "\\end{enumerate*}\n",
       "\n",
       "\\emph{Levels}: \\begin{enumerate*}\n",
       "\\item '0-5yrs'\n",
       "\\item '6-11yrs'\n",
       "\\item '12+ yrs'\n",
       "\\end{enumerate*}\n"
      ],
      "text/markdown": [
       "1. 0-5yrs\n",
       "2. 0-5yrs\n",
       "3. 0-5yrs\n",
       "4. 0-5yrs\n",
       "5. 6-11yrs\n",
       "6. 6-11yrs\n",
       "7. 6-11yrs\n",
       "8. 6-11yrs\n",
       "9. 6-11yrs\n",
       "10. 6-11yrs\n",
       "11. 6-11yrs\n",
       "12. 6-11yrs\n",
       "13. 6-11yrs\n",
       "14. 6-11yrs\n",
       "15. 6-11yrs\n",
       "16. 6-11yrs\n",
       "17. 6-11yrs\n",
       "18. 6-11yrs\n",
       "19. 6-11yrs\n",
       "20. 6-11yrs\n",
       "21. 6-11yrs\n",
       "22. 6-11yrs\n",
       "23. 6-11yrs\n",
       "24. 6-11yrs\n",
       "25. 6-11yrs\n",
       "26. 6-11yrs\n",
       "27. 6-11yrs\n",
       "28. 6-11yrs\n",
       "29. 6-11yrs\n",
       "30. 6-11yrs\n",
       "31. 6-11yrs\n",
       "32. 6-11yrs\n",
       "33. 6-11yrs\n",
       "34. 6-11yrs\n",
       "35. 6-11yrs\n",
       "36. 6-11yrs\n",
       "37. 6-11yrs\n",
       "38. 6-11yrs\n",
       "39. 6-11yrs\n",
       "40. 6-11yrs\n",
       "41. 6-11yrs\n",
       "42. 6-11yrs\n",
       "43. 6-11yrs\n",
       "44. 6-11yrs\n",
       "45. 12+ yrs\n",
       "46. 12+ yrs\n",
       "47. 12+ yrs\n",
       "48. 12+ yrs\n",
       "49. 12+ yrs\n",
       "50. 12+ yrs\n",
       "51. 12+ yrs\n",
       "52. 12+ yrs\n",
       "53. 12+ yrs\n",
       "54. 12+ yrs\n",
       "55. 12+ yrs\n",
       "56. 12+ yrs\n",
       "57. 12+ yrs\n",
       "58. 12+ yrs\n",
       "59. 12+ yrs\n",
       "60. 12+ yrs\n",
       "61. 12+ yrs\n",
       "62. 12+ yrs\n",
       "63. 12+ yrs\n",
       "64. 12+ yrs\n",
       "65. 12+ yrs\n",
       "66. 12+ yrs\n",
       "67. 12+ yrs\n",
       "68. 12+ yrs\n",
       "69. 12+ yrs\n",
       "70. 12+ yrs\n",
       "71. 12+ yrs\n",
       "72. 12+ yrs\n",
       "73. 12+ yrs\n",
       "74. 12+ yrs\n",
       "75. 12+ yrs\n",
       "76. 12+ yrs\n",
       "77. 12+ yrs\n",
       "78. 12+ yrs\n",
       "79. 12+ yrs\n",
       "80. 12+ yrs\n",
       "81. 12+ yrs\n",
       "82. 12+ yrs\n",
       "83. 12+ yrs\n",
       "84. 0-5yrs\n",
       "85. 0-5yrs\n",
       "86. 0-5yrs\n",
       "87. 0-5yrs\n",
       "88. 6-11yrs\n",
       "89. 6-11yrs\n",
       "90. 6-11yrs\n",
       "91. 6-11yrs\n",
       "92. 6-11yrs\n",
       "93. 6-11yrs\n",
       "94. 6-11yrs\n",
       "95. 6-11yrs\n",
       "96. 6-11yrs\n",
       "97. 6-11yrs\n",
       "98. 6-11yrs\n",
       "99. 6-11yrs\n",
       "100. 6-11yrs\n",
       "101. 6-11yrs\n",
       "102. 6-11yrs\n",
       "103. 6-11yrs\n",
       "104. 6-11yrs\n",
       "105. 6-11yrs\n",
       "106. 6-11yrs\n",
       "107. 6-11yrs\n",
       "108. 6-11yrs\n",
       "109. 6-11yrs\n",
       "110. 6-11yrs\n",
       "111. 6-11yrs\n",
       "112. 6-11yrs\n",
       "113. 6-11yrs\n",
       "114. 6-11yrs\n",
       "115. 6-11yrs\n",
       "116. 6-11yrs\n",
       "117. 6-11yrs\n",
       "118. 6-11yrs\n",
       "119. 6-11yrs\n",
       "120. 6-11yrs\n",
       "121. 6-11yrs\n",
       "122. 6-11yrs\n",
       "123. 6-11yrs\n",
       "124. 6-11yrs\n",
       "125. 6-11yrs\n",
       "126. 6-11yrs\n",
       "127. 6-11yrs\n",
       "128. 12+ yrs\n",
       "129. 12+ yrs\n",
       "130. 12+ yrs\n",
       "131. 12+ yrs\n",
       "132. 12+ yrs\n",
       "133. 12+ yrs\n",
       "134. 12+ yrs\n",
       "135. 12+ yrs\n",
       "136. 12+ yrs\n",
       "137. 12+ yrs\n",
       "138. 12+ yrs\n",
       "139. 12+ yrs\n",
       "140. 12+ yrs\n",
       "141. 12+ yrs\n",
       "142. 12+ yrs\n",
       "143. 12+ yrs\n",
       "144. 12+ yrs\n",
       "145. 12+ yrs\n",
       "146. 12+ yrs\n",
       "147. 12+ yrs\n",
       "148. 12+ yrs\n",
       "149. 12+ yrs\n",
       "150. 12+ yrs\n",
       "151. 12+ yrs\n",
       "152. 12+ yrs\n",
       "153. 12+ yrs\n",
       "154. 12+ yrs\n",
       "155. 12+ yrs\n",
       "156. 12+ yrs\n",
       "157. 12+ yrs\n",
       "158. 12+ yrs\n",
       "159. 12+ yrs\n",
       "160. 12+ yrs\n",
       "161. 12+ yrs\n",
       "162. 12+ yrs\n",
       "163. 12+ yrs\n",
       "164. 12+ yrs\n",
       "165. 12+ yrs\n",
       "166. 0-5yrs\n",
       "167. 0-5yrs\n",
       "168. 0-5yrs\n",
       "169. 0-5yrs\n",
       "170. 6-11yrs\n",
       "171. 6-11yrs\n",
       "172. 6-11yrs\n",
       "173. 6-11yrs\n",
       "174. 6-11yrs\n",
       "175. 6-11yrs\n",
       "176. 6-11yrs\n",
       "177. 6-11yrs\n",
       "178. 6-11yrs\n",
       "179. 6-11yrs\n",
       "180. 6-11yrs\n",
       "181. 6-11yrs\n",
       "182. 6-11yrs\n",
       "183. 6-11yrs\n",
       "184. 6-11yrs\n",
       "185. 6-11yrs\n",
       "186. 6-11yrs\n",
       "187. 6-11yrs\n",
       "188. 6-11yrs\n",
       "189. 6-11yrs\n",
       "190. 6-11yrs\n",
       "191. 6-11yrs\n",
       "192. 6-11yrs\n",
       "193. 6-11yrs\n",
       "194. 6-11yrs\n",
       "195. 6-11yrs\n",
       "196. 6-11yrs\n",
       "197. 6-11yrs\n",
       "198. 6-11yrs\n",
       "199. 6-11yrs\n",
       "200. 6-11yrs\n",
       "201. 6-11yrs\n",
       "202. 6-11yrs\n",
       "203. 6-11yrs\n",
       "204. 6-11yrs\n",
       "205. 6-11yrs\n",
       "206. 6-11yrs\n",
       "207. 6-11yrs\n",
       "208. 6-11yrs\n",
       "209. 6-11yrs\n",
       "210. 12+ yrs\n",
       "211. 12+ yrs\n",
       "212. 12+ yrs\n",
       "213. 12+ yrs\n",
       "214. 12+ yrs\n",
       "215. 12+ yrs\n",
       "216. 12+ yrs\n",
       "217. 12+ yrs\n",
       "218. 12+ yrs\n",
       "219. 12+ yrs\n",
       "220. 12+ yrs\n",
       "221. 12+ yrs\n",
       "222. 12+ yrs\n",
       "223. 12+ yrs\n",
       "224. 12+ yrs\n",
       "225. 12+ yrs\n",
       "226. 12+ yrs\n",
       "227. 12+ yrs\n",
       "228. 12+ yrs\n",
       "229. 12+ yrs\n",
       "230. 12+ yrs\n",
       "231. 12+ yrs\n",
       "232. 12+ yrs\n",
       "233. 12+ yrs\n",
       "234. 12+ yrs\n",
       "235. 12+ yrs\n",
       "236. 12+ yrs\n",
       "237. 12+ yrs\n",
       "238. 12+ yrs\n",
       "239. 12+ yrs\n",
       "240. 12+ yrs\n",
       "241. 12+ yrs\n",
       "242. 12+ yrs\n",
       "243. 12+ yrs\n",
       "244. 12+ yrs\n",
       "245. 12+ yrs\n",
       "246. 12+ yrs\n",
       "247. 12+ yrs\n",
       "248. 12+ yrs\n",
       "\n",
       "\n",
       "\n",
       "**Levels**: 1. '0-5yrs'\n",
       "2. '6-11yrs'\n",
       "3. '12+ yrs'\n",
       "\n",
       "\n"
      ],
      "text/plain": [
       "  [1] 0-5yrs  0-5yrs  0-5yrs  0-5yrs  6-11yrs 6-11yrs 6-11yrs 6-11yrs 6-11yrs\n",
       " [10] 6-11yrs 6-11yrs 6-11yrs 6-11yrs 6-11yrs 6-11yrs 6-11yrs 6-11yrs 6-11yrs\n",
       " [19] 6-11yrs 6-11yrs 6-11yrs 6-11yrs 6-11yrs 6-11yrs 6-11yrs 6-11yrs 6-11yrs\n",
       " [28] 6-11yrs 6-11yrs 6-11yrs 6-11yrs 6-11yrs 6-11yrs 6-11yrs 6-11yrs 6-11yrs\n",
       " [37] 6-11yrs 6-11yrs 6-11yrs 6-11yrs 6-11yrs 6-11yrs 6-11yrs 6-11yrs 12+ yrs\n",
       " [46] 12+ yrs 12+ yrs 12+ yrs 12+ yrs 12+ yrs 12+ yrs 12+ yrs 12+ yrs 12+ yrs\n",
       " [55] 12+ yrs 12+ yrs 12+ yrs 12+ yrs 12+ yrs 12+ yrs 12+ yrs 12+ yrs 12+ yrs\n",
       " [64] 12+ yrs 12+ yrs 12+ yrs 12+ yrs 12+ yrs 12+ yrs 12+ yrs 12+ yrs 12+ yrs\n",
       " [73] 12+ yrs 12+ yrs 12+ yrs 12+ yrs 12+ yrs 12+ yrs 12+ yrs 12+ yrs 12+ yrs\n",
       " [82] 12+ yrs 12+ yrs 0-5yrs  0-5yrs  0-5yrs  0-5yrs  6-11yrs 6-11yrs 6-11yrs\n",
       " [91] 6-11yrs 6-11yrs 6-11yrs 6-11yrs 6-11yrs 6-11yrs 6-11yrs 6-11yrs 6-11yrs\n",
       "[100] 6-11yrs 6-11yrs 6-11yrs 6-11yrs 6-11yrs 6-11yrs 6-11yrs 6-11yrs 6-11yrs\n",
       "[109] 6-11yrs 6-11yrs 6-11yrs 6-11yrs 6-11yrs 6-11yrs 6-11yrs 6-11yrs 6-11yrs\n",
       "[118] 6-11yrs 6-11yrs 6-11yrs 6-11yrs 6-11yrs 6-11yrs 6-11yrs 6-11yrs 6-11yrs\n",
       "[127] 6-11yrs 12+ yrs 12+ yrs 12+ yrs 12+ yrs 12+ yrs 12+ yrs 12+ yrs 12+ yrs\n",
       "[136] 12+ yrs 12+ yrs 12+ yrs 12+ yrs 12+ yrs 12+ yrs 12+ yrs 12+ yrs 12+ yrs\n",
       "[145] 12+ yrs 12+ yrs 12+ yrs 12+ yrs 12+ yrs 12+ yrs 12+ yrs 12+ yrs 12+ yrs\n",
       "[154] 12+ yrs 12+ yrs 12+ yrs 12+ yrs 12+ yrs 12+ yrs 12+ yrs 12+ yrs 12+ yrs\n",
       "[163] 12+ yrs 12+ yrs 12+ yrs 0-5yrs  0-5yrs  0-5yrs  0-5yrs  6-11yrs 6-11yrs\n",
       "[172] 6-11yrs 6-11yrs 6-11yrs 6-11yrs 6-11yrs 6-11yrs 6-11yrs 6-11yrs 6-11yrs\n",
       "[181] 6-11yrs 6-11yrs 6-11yrs 6-11yrs 6-11yrs 6-11yrs 6-11yrs 6-11yrs 6-11yrs\n",
       "[190] 6-11yrs 6-11yrs 6-11yrs 6-11yrs 6-11yrs 6-11yrs 6-11yrs 6-11yrs 6-11yrs\n",
       "[199] 6-11yrs 6-11yrs 6-11yrs 6-11yrs 6-11yrs 6-11yrs 6-11yrs 6-11yrs 6-11yrs\n",
       "[208] 6-11yrs 6-11yrs 12+ yrs 12+ yrs 12+ yrs 12+ yrs 12+ yrs 12+ yrs 12+ yrs\n",
       "[217] 12+ yrs 12+ yrs 12+ yrs 12+ yrs 12+ yrs 12+ yrs 12+ yrs 12+ yrs 12+ yrs\n",
       "[226] 12+ yrs 12+ yrs 12+ yrs 12+ yrs 12+ yrs 12+ yrs 12+ yrs 12+ yrs 12+ yrs\n",
       "[235] 12+ yrs 12+ yrs 12+ yrs 12+ yrs 12+ yrs 12+ yrs 12+ yrs 12+ yrs 12+ yrs\n",
       "[244] 12+ yrs 12+ yrs 12+ yrs 12+ yrs 12+ yrs\n",
       "Levels: 0-5yrs 6-11yrs 12+ yrs"
      ]
     },
     "metadata": {},
     "output_type": "display_data"
    }
   ],
   "source": [
    "edu"
   ]
  },
  {
   "cell_type": "code",
   "execution_count": 172,
   "id": "9d9c13c0",
   "metadata": {},
   "outputs": [
    {
     "data": {
      "text/html": [
       "<style>\n",
       ".list-inline {list-style: none; margin:0; padding: 0}\n",
       ".list-inline>li {display: inline-block}\n",
       ".list-inline>li:not(:last-child)::after {content: \"\\00b7\"; padding: 0 .5ex}\n",
       "</style>\n",
       "<ol class=list-inline><li>0-5yrs</li><li>6-11yrs</li><li>12+ yrs</li></ol>\n",
       "\n",
       "<details>\n",
       "\t<summary style=display:list-item;cursor:pointer>\n",
       "\t\t<strong>Levels</strong>:\n",
       "\t</summary>\n",
       "\t<style>\n",
       "\t.list-inline {list-style: none; margin:0; padding: 0}\n",
       "\t.list-inline>li {display: inline-block}\n",
       "\t.list-inline>li:not(:last-child)::after {content: \"\\00b7\"; padding: 0 .5ex}\n",
       "\t</style>\n",
       "\t<ol class=list-inline><li>'0-5yrs'</li><li>'6-11yrs'</li><li>'12+ yrs'</li></ol>\n",
       "</details>"
      ],
      "text/latex": [
       "\\begin{enumerate*}\n",
       "\\item 0-5yrs\n",
       "\\item 6-11yrs\n",
       "\\item 12+ yrs\n",
       "\\end{enumerate*}\n",
       "\n",
       "\\emph{Levels}: \\begin{enumerate*}\n",
       "\\item '0-5yrs'\n",
       "\\item '6-11yrs'\n",
       "\\item '12+ yrs'\n",
       "\\end{enumerate*}\n"
      ],
      "text/markdown": [
       "1. 0-5yrs\n",
       "2. 6-11yrs\n",
       "3. 12+ yrs\n",
       "\n",
       "\n",
       "\n",
       "**Levels**: 1. '0-5yrs'\n",
       "2. '6-11yrs'\n",
       "3. '12+ yrs'\n",
       "\n",
       "\n"
      ],
      "text/plain": [
       "[1] 0-5yrs  6-11yrs 12+ yrs\n",
       "Levels: 0-5yrs 6-11yrs 12+ yrs"
      ]
     },
     "metadata": {},
     "output_type": "display_data"
    }
   ],
   "source": [
    "unique(edu)"
   ]
  },
  {
   "cell_type": "code",
   "execution_count": 173,
   "id": "7d3fca05",
   "metadata": {},
   "outputs": [
    {
     "data": {
      "text/plain": [
       "edu\n",
       " 0-5yrs 6-11yrs 12+ yrs \n",
       "     12     120     116 "
      ]
     },
     "metadata": {},
     "output_type": "display_data"
    }
   ],
   "source": [
    "table(edu)"
   ]
  },
  {
   "cell_type": "code",
   "execution_count": 176,
   "id": "595f8a2d",
   "metadata": {},
   "outputs": [
    {
     "data": {
      "image/png": "[encoded data removed]",
      "text/plain": [
       "Plot with title \"Education\""
      ]
     },
     "metadata": {
      "image/png": {
       "height": 420,
       "width": 420
      }
     },
     "output_type": "display_data"
    }
   ],
   "source": [
    "barplot(table(edu),\n",
    "       main = 'Education',\n",
    "       xlab = '교육 기간',\n",
    "       ylab = 'Frequency')"
   ]
  },
  {
   "cell_type": "code",
   "execution_count": 177,
   "id": "3294c508",
   "metadata": {},
   "outputs": [],
   "source": [
    "data = c('F','F','F','M','M','F','F','F','M','M')"
   ]
  },
  {
   "cell_type": "code",
   "execution_count": 178,
   "id": "72b29bca",
   "metadata": {},
   "outputs": [
    {
     "data": {
      "text/html": [
       "<style>\n",
       ".list-inline {list-style: none; margin:0; padding: 0}\n",
       ".list-inline>li {display: inline-block}\n",
       ".list-inline>li:not(:last-child)::after {content: \"\\00b7\"; padding: 0 .5ex}\n",
       "</style>\n",
       "<ol class=list-inline><li>'F'</li><li>'F'</li><li>'F'</li><li>'M'</li><li>'M'</li><li>'F'</li><li>'F'</li><li>'F'</li><li>'M'</li><li>'M'</li></ol>\n"
      ],
      "text/latex": [
       "\\begin{enumerate*}\n",
       "\\item 'F'\n",
       "\\item 'F'\n",
       "\\item 'F'\n",
       "\\item 'M'\n",
       "\\item 'M'\n",
       "\\item 'F'\n",
       "\\item 'F'\n",
       "\\item 'F'\n",
       "\\item 'M'\n",
       "\\item 'M'\n",
       "\\end{enumerate*}\n"
      ],
      "text/markdown": [
       "1. 'F'\n",
       "2. 'F'\n",
       "3. 'F'\n",
       "4. 'M'\n",
       "5. 'M'\n",
       "6. 'F'\n",
       "7. 'F'\n",
       "8. 'F'\n",
       "9. 'M'\n",
       "10. 'M'\n",
       "\n",
       "\n"
      ],
      "text/plain": [
       " [1] \"F\" \"F\" \"F\" \"M\" \"M\" \"F\" \"F\" \"F\" \"M\" \"M\""
      ]
     },
     "metadata": {},
     "output_type": "display_data"
    }
   ],
   "source": [
    "data"
   ]
  },
  {
   "cell_type": "code",
   "execution_count": 181,
   "id": "42fe1728",
   "metadata": {},
   "outputs": [],
   "source": [
    "gender = data"
   ]
  },
  {
   "cell_type": "code",
   "execution_count": 182,
   "id": "f95a8b62",
   "metadata": {},
   "outputs": [
    {
     "data": {
      "text/html": [
       "<style>\n",
       ".list-inline {list-style: none; margin:0; padding: 0}\n",
       ".list-inline>li {display: inline-block}\n",
       ".list-inline>li:not(:last-child)::after {content: \"\\00b7\"; padding: 0 .5ex}\n",
       "</style>\n",
       "<ol class=list-inline><li>'F'</li><li>'F'</li><li>'F'</li><li>'M'</li><li>'M'</li><li>'F'</li><li>'F'</li><li>'F'</li><li>'M'</li><li>'M'</li></ol>\n"
      ],
      "text/latex": [
       "\\begin{enumerate*}\n",
       "\\item 'F'\n",
       "\\item 'F'\n",
       "\\item 'F'\n",
       "\\item 'M'\n",
       "\\item 'M'\n",
       "\\item 'F'\n",
       "\\item 'F'\n",
       "\\item 'F'\n",
       "\\item 'M'\n",
       "\\item 'M'\n",
       "\\end{enumerate*}\n"
      ],
      "text/markdown": [
       "1. 'F'\n",
       "2. 'F'\n",
       "3. 'F'\n",
       "4. 'M'\n",
       "5. 'M'\n",
       "6. 'F'\n",
       "7. 'F'\n",
       "8. 'F'\n",
       "9. 'M'\n",
       "10. 'M'\n",
       "\n",
       "\n"
      ],
      "text/plain": [
       " [1] \"F\" \"F\" \"F\" \"M\" \"M\" \"F\" \"F\" \"F\" \"M\" \"M\""
      ]
     },
     "metadata": {},
     "output_type": "display_data"
    }
   ],
   "source": [
    "gender"
   ]
  },
  {
   "cell_type": "code",
   "execution_count": 183,
   "id": "fbd1e11d",
   "metadata": {},
   "outputs": [
    {
     "data": {
      "text/plain": [
       "gender\n",
       "F M \n",
       "6 4 "
      ]
     },
     "metadata": {},
     "output_type": "display_data"
    }
   ],
   "source": [
    "table(gender)"
   ]
  },
  {
   "cell_type": "code",
   "execution_count": 184,
   "id": "64efa9cb",
   "metadata": {},
   "outputs": [
    {
     "data": {
      "image/png": "[encoded data removed]",
      "text/plain": [
       "plot without title"
      ]
     },
     "metadata": {
      "image/png": {
       "height": 420,
       "width": 420
      }
     },
     "output_type": "display_data"
    }
   ],
   "source": [
    "barplot(table(gender))"
   ]
  },
  {
   "cell_type": "code",
   "execution_count": 185,
   "id": "76810afa",
   "metadata": {},
   "outputs": [
    {
     "data": {
      "image/png": "[encoded data removed]",
      "text/plain": [
       "plot without title"
      ]
     },
     "metadata": {
      "image/png": {
       "height": 420,
       "width": 420
      }
     },
     "output_type": "display_data"
    }
   ],
   "source": [
    "pie(table(gender))"
   ]
  },
  {
   "cell_type": "code",
   "execution_count": 186,
   "id": "3dfdd93f",
   "metadata": {},
   "outputs": [],
   "source": [
    "season = c('여름','겨울','봄','가을','여름','가을','겨울','여름','여름','가을')"
   ]
  },
  {
   "cell_type": "markdown",
   "id": "6034ff23",
   "metadata": {},
   "source": [
    "## season"
   ]
  },
  {
   "cell_type": "code",
   "execution_count": 188,
   "id": "56275f5f",
   "metadata": {},
   "outputs": [
    {
     "data": {
      "text/html": [
       "<style>\n",
       ".list-inline {list-style: none; margin:0; padding: 0}\n",
       ".list-inline>li {display: inline-block}\n",
       ".list-inline>li:not(:last-child)::after {content: \"\\00b7\"; padding: 0 .5ex}\n",
       "</style>\n",
       "<ol class=list-inline><li>'여름'</li><li>'겨울'</li><li>'봄'</li><li>'가을'</li><li>'여름'</li><li>'가을'</li><li>'겨울'</li><li>'여름'</li><li>'여름'</li><li>'가을'</li></ol>\n"
      ],
      "text/latex": [
       "\\begin{enumerate*}\n",
       "\\item '여름'\n",
       "\\item '겨울'\n",
       "\\item '봄'\n",
       "\\item '가을'\n",
       "\\item '여름'\n",
       "\\item '가을'\n",
       "\\item '겨울'\n",
       "\\item '여름'\n",
       "\\item '여름'\n",
       "\\item '가을'\n",
       "\\end{enumerate*}\n"
      ],
      "text/markdown": [
       "1. '여름'\n",
       "2. '겨울'\n",
       "3. '봄'\n",
       "4. '가을'\n",
       "5. '여름'\n",
       "6. '가을'\n",
       "7. '겨울'\n",
       "8. '여름'\n",
       "9. '여름'\n",
       "10. '가을'\n",
       "\n",
       "\n"
      ],
      "text/plain": [
       " [1] \"여름\" \"겨울\" \"봄\"   \"가을\" \"여름\" \"가을\" \"겨울\" \"여름\" \"여름\" \"가을\""
      ]
     },
     "metadata": {},
     "output_type": "display_data"
    }
   ],
   "source": [
    "season"
   ]
  },
  {
   "cell_type": "code",
   "execution_count": 189,
   "id": "7e2b2b2c",
   "metadata": {},
   "outputs": [
    {
     "data": {
      "text/plain": [
       "season\n",
       "가을 겨울   봄 여름 \n",
       "   3    2    1    4 "
      ]
     },
     "metadata": {},
     "output_type": "display_data"
    }
   ],
   "source": [
    "table(season)"
   ]
  },
  {
   "cell_type": "code",
   "execution_count": 190,
   "id": "46fa82fb",
   "metadata": {},
   "outputs": [
    {
     "data": {
      "image/png": "[encoded data removed]",
      "text/plain": [
       "plot without title"
      ]
     },
     "metadata": {
      "image/png": {
       "height": 420,
       "width": 420
      }
     },
     "output_type": "display_data"
    }
   ],
   "source": [
    "barplot(table(season))"
   ]
  },
  {
   "cell_type": "code",
   "execution_count": 191,
   "id": "2f9ea158",
   "metadata": {},
   "outputs": [
    {
     "data": {
      "image/png": "[encoded data removed]",
      "text/plain": [
       "plot without title"
      ]
     },
     "metadata": {
      "image/png": {
       "height": 420,
       "width": 420
      }
     },
     "output_type": "display_data"
    }
   ],
   "source": [
    "pie(table(season))"
   ]
  },
  {
   "cell_type": "code",
   "execution_count": 192,
   "id": "9e4a6370",
   "metadata": {},
   "outputs": [],
   "source": [
    "score = c(90, 85, 73, 80, 85, 65, 78, 50, 68, 96)\n",
    "names(score) = c('KOR','ENG','ATH','HIST','SOC','MUSIC','BIO','EARTH','PHY','ART')"
   ]
  },
  {
   "cell_type": "code",
   "execution_count": 193,
   "id": "db1cd634",
   "metadata": {},
   "outputs": [
    {
     "data": {
      "text/html": [
       "<style>\n",
       ".dl-inline {width: auto; margin:0; padding: 0}\n",
       ".dl-inline>dt, .dl-inline>dd {float: none; width: auto; display: inline-block}\n",
       ".dl-inline>dt::after {content: \":\\0020\"; padding-right: .5ex}\n",
       ".dl-inline>dt:not(:first-of-type) {padding-left: .5ex}\n",
       "</style><dl class=dl-inline><dt>KOR</dt><dd>90</dd><dt>ENG</dt><dd>85</dd><dt>ATH</dt><dd>73</dd><dt>HIST</dt><dd>80</dd><dt>SOC</dt><dd>85</dd><dt>MUSIC</dt><dd>65</dd><dt>BIO</dt><dd>78</dd><dt>EARTH</dt><dd>50</dd><dt>PHY</dt><dd>68</dd><dt>ART</dt><dd>96</dd></dl>\n"
      ],
      "text/latex": [
       "\\begin{description*}\n",
       "\\item[KOR] 90\n",
       "\\item[ENG] 85\n",
       "\\item[ATH] 73\n",
       "\\item[HIST] 80\n",
       "\\item[SOC] 85\n",
       "\\item[MUSIC] 65\n",
       "\\item[BIO] 78\n",
       "\\item[EARTH] 50\n",
       "\\item[PHY] 68\n",
       "\\item[ART] 96\n",
       "\\end{description*}\n"
      ],
      "text/markdown": [
       "KOR\n",
       ":   90ENG\n",
       ":   85ATH\n",
       ":   73HIST\n",
       ":   80SOC\n",
       ":   85MUSIC\n",
       ":   65BIO\n",
       ":   78EARTH\n",
       ":   50PHY\n",
       ":   68ART\n",
       ":   96\n",
       "\n"
      ],
      "text/plain": [
       "  KOR   ENG   ATH  HIST   SOC MUSIC   BIO EARTH   PHY   ART \n",
       "   90    85    73    80    85    65    78    50    68    96 "
      ]
     },
     "metadata": {},
     "output_type": "display_data"
    }
   ],
   "source": [
    "score"
   ]
  },
  {
   "cell_type": "code",
   "execution_count": 194,
   "id": "07397a8d",
   "metadata": {},
   "outputs": [
    {
     "data": {
      "text/html": [
       "77"
      ],
      "text/latex": [
       "77"
      ],
      "text/markdown": [
       "77"
      ],
      "text/plain": [
       "[1] 77"
      ]
     },
     "metadata": {},
     "output_type": "display_data"
    }
   ],
   "source": [
    "mean(score)"
   ]
  },
  {
   "cell_type": "code",
   "execution_count": 195,
   "id": "5a4ea5c0",
   "metadata": {},
   "outputs": [
    {
     "data": {
      "text/html": [
       "79"
      ],
      "text/latex": [
       "79"
      ],
      "text/markdown": [
       "79"
      ],
      "text/plain": [
       "[1] 79"
      ]
     },
     "metadata": {},
     "output_type": "display_data"
    }
   ],
   "source": [
    "median(score)"
   ]
  },
  {
   "cell_type": "code",
   "execution_count": 196,
   "id": "aa6ac533",
   "metadata": {},
   "outputs": [
    {
     "data": {
      "text/html": [
       "13.490737563232"
      ],
      "text/latex": [
       "13.490737563232"
      ],
      "text/markdown": [
       "13.490737563232"
      ],
      "text/plain": [
       "[1] 13.49074"
      ]
     },
     "metadata": {},
     "output_type": "display_data"
    }
   ],
   "source": [
    "sd(score)"
   ]
  },
  {
   "cell_type": "code",
   "execution_count": 197,
   "id": "701a2261",
   "metadata": {},
   "outputs": [
    {
     "data": {
      "text/html": [
       "'ART'"
      ],
      "text/latex": [
       "'ART'"
      ],
      "text/markdown": [
       "'ART'"
      ],
      "text/plain": [
       "[1] \"ART\""
      ]
     },
     "metadata": {},
     "output_type": "display_data"
    }
   ],
   "source": [
    "names(score[score == max(score)])"
   ]
  },
  {
   "cell_type": "code",
   "execution_count": 198,
   "id": "8a88633a",
   "metadata": {},
   "outputs": [
    {
     "data": {
      "image/png": "[encoded data removed]",
      "text/plain": [
       "plot without title"
      ]
     },
     "metadata": {
      "image/png": {
       "height": 420,
       "width": 420
      }
     },
     "output_type": "display_data"
    }
   ],
   "source": [
    "boxplot(score)"
   ]
  },
  {
   "cell_type": "code",
   "execution_count": 199,
   "id": "8105e37c",
   "metadata": {},
   "outputs": [
    {
     "data": {
      "image/png": "[encoded data removed]",
      "text/plain": [
       "Plot with title \"학생 성적\""
      ]
     },
     "metadata": {
      "image/png": {
       "height": 420,
       "width": 420
      }
     },
     "output_type": "display_data"
    }
   ],
   "source": [
    "hist(score,\n",
    "    main = '학생 성적',\n",
    "    col = 'purple')"
   ]
  },
  {
   "cell_type": "code",
   "execution_count": 200,
   "id": "9b724a84",
   "metadata": {},
   "outputs": [],
   "source": [
    "wt = mtcars$wt"
   ]
  },
  {
   "cell_type": "code",
   "execution_count": 201,
   "id": "263e3e66",
   "metadata": {},
   "outputs": [
    {
     "data": {
      "text/html": [
       "<style>\n",
       ".list-inline {list-style: none; margin:0; padding: 0}\n",
       ".list-inline>li {display: inline-block}\n",
       ".list-inline>li:not(:last-child)::after {content: \"\\00b7\"; padding: 0 .5ex}\n",
       "</style>\n",
       "<ol class=list-inline><li>2.62</li><li>2.875</li><li>2.32</li><li>3.215</li><li>3.44</li><li>3.46</li><li>3.57</li><li>3.19</li><li>3.15</li><li>3.44</li><li>3.44</li><li>4.07</li><li>3.73</li><li>3.78</li><li>5.25</li><li>5.424</li><li>5.345</li><li>2.2</li><li>1.615</li><li>1.835</li><li>2.465</li><li>3.52</li><li>3.435</li><li>3.84</li><li>3.845</li><li>1.935</li><li>2.14</li><li>1.513</li><li>3.17</li><li>2.77</li><li>3.57</li><li>2.78</li></ol>\n"
      ],
      "text/latex": [
       "\\begin{enumerate*}\n",
       "\\item 2.62\n",
       "\\item 2.875\n",
       "\\item 2.32\n",
       "\\item 3.215\n",
       "\\item 3.44\n",
       "\\item 3.46\n",
       "\\item 3.57\n",
       "\\item 3.19\n",
       "\\item 3.15\n",
       "\\item 3.44\n",
       "\\item 3.44\n",
       "\\item 4.07\n",
       "\\item 3.73\n",
       "\\item 3.78\n",
       "\\item 5.25\n",
       "\\item 5.424\n",
       "\\item 5.345\n",
       "\\item 2.2\n",
       "\\item 1.615\n",
       "\\item 1.835\n",
       "\\item 2.465\n",
       "\\item 3.52\n",
       "\\item 3.435\n",
       "\\item 3.84\n",
       "\\item 3.845\n",
       "\\item 1.935\n",
       "\\item 2.14\n",
       "\\item 1.513\n",
       "\\item 3.17\n",
       "\\item 2.77\n",
       "\\item 3.57\n",
       "\\item 2.78\n",
       "\\end{enumerate*}\n"
      ],
      "text/markdown": [
       "1. 2.62\n",
       "2. 2.875\n",
       "3. 2.32\n",
       "4. 3.215\n",
       "5. 3.44\n",
       "6. 3.46\n",
       "7. 3.57\n",
       "8. 3.19\n",
       "9. 3.15\n",
       "10. 3.44\n",
       "11. 3.44\n",
       "12. 4.07\n",
       "13. 3.73\n",
       "14. 3.78\n",
       "15. 5.25\n",
       "16. 5.424\n",
       "17. 5.345\n",
       "18. 2.2\n",
       "19. 1.615\n",
       "20. 1.835\n",
       "21. 2.465\n",
       "22. 3.52\n",
       "23. 3.435\n",
       "24. 3.84\n",
       "25. 3.845\n",
       "26. 1.935\n",
       "27. 2.14\n",
       "28. 1.513\n",
       "29. 3.17\n",
       "30. 2.77\n",
       "31. 3.57\n",
       "32. 2.78\n",
       "\n",
       "\n"
      ],
      "text/plain": [
       " [1] 2.620 2.875 2.320 3.215 3.440 3.460 3.570 3.190 3.150 3.440 3.440 4.070\n",
       "[13] 3.730 3.780 5.250 5.424 5.345 2.200 1.615 1.835 2.465 3.520 3.435 3.840\n",
       "[25] 3.845 1.935 2.140 1.513 3.170 2.770 3.570 2.780"
      ]
     },
     "metadata": {},
     "output_type": "display_data"
    }
   ],
   "source": [
    "wt"
   ]
  },
  {
   "cell_type": "code",
   "execution_count": 202,
   "id": "11db3274",
   "metadata": {},
   "outputs": [
    {
     "data": {
      "text/html": [
       "3.21725"
      ],
      "text/latex": [
       "3.21725"
      ],
      "text/markdown": [
       "3.21725"
      ],
      "text/plain": [
       "[1] 3.21725"
      ]
     },
     "metadata": {},
     "output_type": "display_data"
    }
   ],
   "source": [
    "mean(wt)"
   ]
  },
  {
   "cell_type": "code",
   "execution_count": 203,
   "id": "951d15d2",
   "metadata": {},
   "outputs": [
    {
     "data": {
      "text/html": [
       "3.325"
      ],
      "text/latex": [
       "3.325"
      ],
      "text/markdown": [
       "3.325"
      ],
      "text/plain": [
       "[1] 3.325"
      ]
     },
     "metadata": {},
     "output_type": "display_data"
    }
   ],
   "source": [
    "median(wt)"
   ]
  },
  {
   "cell_type": "code",
   "execution_count": 204,
   "id": "9910ac28",
   "metadata": {},
   "outputs": [
    {
     "data": {
      "text/html": [
       "3.16520833333333"
      ],
      "text/latex": [
       "3.16520833333333"
      ],
      "text/markdown": [
       "3.16520833333333"
      ],
      "text/plain": [
       "[1] 3.165208"
      ]
     },
     "metadata": {},
     "output_type": "display_data"
    }
   ],
   "source": [
    "mean(wt, trim = 0.15)"
   ]
  },
  {
   "cell_type": "code",
   "execution_count": 205,
   "id": "f80fd188",
   "metadata": {},
   "outputs": [
    {
     "data": {
      "text/html": [
       "0.978457442989697"
      ],
      "text/latex": [
       "0.978457442989697"
      ],
      "text/markdown": [
       "0.978457442989697"
      ],
      "text/plain": [
       "[1] 0.9784574"
      ]
     },
     "metadata": {},
     "output_type": "display_data"
    }
   ],
   "source": [
    "sd(wt)"
   ]
  },
  {
   "cell_type": "code",
   "execution_count": 206,
   "id": "901c4cc0",
   "metadata": {},
   "outputs": [
    {
     "data": {
      "text/plain": [
       "   Min. 1st Qu.  Median    Mean 3rd Qu.    Max. \n",
       "  1.513   2.581   3.325   3.217   3.610   5.424 "
      ]
     },
     "metadata": {},
     "output_type": "display_data"
    }
   ],
   "source": [
    "summary(wt)"
   ]
  },
  {
   "cell_type": "code",
   "execution_count": 207,
   "id": "9688e999",
   "metadata": {},
   "outputs": [
    {
     "data": {
      "text/html": [
       "<style>\n",
       ".dl-inline {width: auto; margin:0; padding: 0}\n",
       ".dl-inline>dt, .dl-inline>dd {float: none; width: auto; display: inline-block}\n",
       ".dl-inline>dt::after {content: \":\\0020\"; padding-right: .5ex}\n",
       ".dl-inline>dt:not(:first-of-type) {padding-left: .5ex}\n",
       "</style><dl class=dl-inline><dt>0%</dt><dd>1.513</dd><dt>25%</dt><dd>2.58125</dd><dt>50%</dt><dd>3.325</dd><dt>75%</dt><dd>3.61</dd><dt>100%</dt><dd>5.424</dd></dl>\n"
      ],
      "text/latex": [
       "\\begin{description*}\n",
       "\\item[0\\textbackslash{}\\%] 1.513\n",
       "\\item[25\\textbackslash{}\\%] 2.58125\n",
       "\\item[50\\textbackslash{}\\%] 3.325\n",
       "\\item[75\\textbackslash{}\\%] 3.61\n",
       "\\item[100\\textbackslash{}\\%] 5.424\n",
       "\\end{description*}\n"
      ],
      "text/markdown": [
       "0%\n",
       ":   1.51325%\n",
       ":   2.5812550%\n",
       ":   3.32575%\n",
       ":   3.61100%\n",
       ":   5.424\n",
       "\n"
      ],
      "text/plain": [
       "     0%     25%     50%     75%    100% \n",
       "1.51300 2.58125 3.32500 3.61000 5.42400 "
      ]
     },
     "metadata": {},
     "output_type": "display_data"
    }
   ],
   "source": [
    "quantile(wt)"
   ]
  },
  {
   "cell_type": "code",
   "execution_count": 209,
   "id": "40353188",
   "metadata": {},
   "outputs": [
    {
     "data": {
      "text/html": [
       "<style>\n",
       ".list-inline {list-style: none; margin:0; padding: 0}\n",
       ".list-inline>li {display: inline-block}\n",
       ".list-inline>li:not(:last-child)::after {content: \"\\00b7\"; padding: 0 .5ex}\n",
       "</style>\n",
       "<ol class=list-inline><li>2.62</li><li>2.875</li><li>2.32</li><li>3.215</li><li>3.44</li><li>3.46</li><li>3.57</li><li>3.19</li><li>3.15</li><li>3.44</li><li>3.44</li><li>4.07</li><li>3.73</li><li>3.78</li><li>5.25</li><li>5.424</li><li>5.345</li><li>2.2</li><li>1.615</li><li>1.835</li><li>2.465</li><li>3.52</li><li>3.435</li><li>3.84</li><li>3.845</li><li>1.935</li><li>2.14</li><li>1.513</li><li>3.17</li><li>2.77</li><li>3.57</li><li>2.78</li></ol>\n"
      ],
      "text/latex": [
       "\\begin{enumerate*}\n",
       "\\item 2.62\n",
       "\\item 2.875\n",
       "\\item 2.32\n",
       "\\item 3.215\n",
       "\\item 3.44\n",
       "\\item 3.46\n",
       "\\item 3.57\n",
       "\\item 3.19\n",
       "\\item 3.15\n",
       "\\item 3.44\n",
       "\\item 3.44\n",
       "\\item 4.07\n",
       "\\item 3.73\n",
       "\\item 3.78\n",
       "\\item 5.25\n",
       "\\item 5.424\n",
       "\\item 5.345\n",
       "\\item 2.2\n",
       "\\item 1.615\n",
       "\\item 1.835\n",
       "\\item 2.465\n",
       "\\item 3.52\n",
       "\\item 3.435\n",
       "\\item 3.84\n",
       "\\item 3.845\n",
       "\\item 1.935\n",
       "\\item 2.14\n",
       "\\item 1.513\n",
       "\\item 3.17\n",
       "\\item 2.77\n",
       "\\item 3.57\n",
       "\\item 2.78\n",
       "\\end{enumerate*}\n"
      ],
      "text/markdown": [
       "1. 2.62\n",
       "2. 2.875\n",
       "3. 2.32\n",
       "4. 3.215\n",
       "5. 3.44\n",
       "6. 3.46\n",
       "7. 3.57\n",
       "8. 3.19\n",
       "9. 3.15\n",
       "10. 3.44\n",
       "11. 3.44\n",
       "12. 4.07\n",
       "13. 3.73\n",
       "14. 3.78\n",
       "15. 5.25\n",
       "16. 5.424\n",
       "17. 5.345\n",
       "18. 2.2\n",
       "19. 1.615\n",
       "20. 1.835\n",
       "21. 2.465\n",
       "22. 3.52\n",
       "23. 3.435\n",
       "24. 3.84\n",
       "25. 3.845\n",
       "26. 1.935\n",
       "27. 2.14\n",
       "28. 1.513\n",
       "29. 3.17\n",
       "30. 2.77\n",
       "31. 3.57\n",
       "32. 2.78\n",
       "\n",
       "\n"
      ],
      "text/plain": [
       " [1] 2.620 2.875 2.320 3.215 3.440 3.460 3.570 3.190 3.150 3.440 3.440 4.070\n",
       "[13] 3.730 3.780 5.250 5.424 5.345 2.200 1.615 1.835 2.465 3.520 3.435 3.840\n",
       "[25] 3.845 1.935 2.140 1.513 3.170 2.770 3.570 2.780"
      ]
     },
     "metadata": {},
     "output_type": "display_data"
    }
   ],
   "source": [
    "wt"
   ]
  },
  {
   "cell_type": "code",
   "execution_count": 210,
   "id": "fd90dfaa",
   "metadata": {},
   "outputs": [
    {
     "data": {
      "image/png": "[encoded data removed]",
      "text/plain": [
       "plot without title"
      ]
     },
     "metadata": {
      "image/png": {
       "height": 420,
       "width": 420
      }
     },
     "output_type": "display_data"
    }
   ],
   "source": [
    "barplot(table(mtcars$wt))"
   ]
  },
  {
   "cell_type": "code",
   "execution_count": 211,
   "id": "d33f45af",
   "metadata": {},
   "outputs": [
    {
     "data": {
      "text/plain": [
       "\n",
       " 4  6  8 \n",
       "11  7 14 "
      ]
     },
     "metadata": {},
     "output_type": "display_data"
    }
   ],
   "source": [
    "table(mtcars$cyl)"
   ]
  },
  {
   "cell_type": "code",
   "execution_count": 212,
   "id": "06169587",
   "metadata": {},
   "outputs": [
    {
     "data": {
      "image/png": "[encoded data removed]",
      "text/plain": [
       "plot without title"
      ]
     },
     "metadata": {
      "image/png": {
       "height": 420,
       "width": 420
      }
     },
     "output_type": "display_data"
    }
   ],
   "source": [
    "barplot(table(mtcars$cyl))"
   ]
  },
  {
   "cell_type": "code",
   "execution_count": 215,
   "id": "956b4863",
   "metadata": {},
   "outputs": [
    {
     "data": {
      "image/png": "[encoded data removed]",
      "text/plain": [
       "Plot with title \"Histogram of wt\""
      ]
     },
     "metadata": {
      "image/png": {
       "height": 420,
       "width": 420
      }
     },
     "output_type": "display_data"
    }
   ],
   "source": [
    "hist(wt,\n",
    "    breaks = 5,\n",
    "    las = 1)"
   ]
  },
  {
   "cell_type": "code",
   "execution_count": 217,
   "id": "3dca5165",
   "metadata": {},
   "outputs": [
    {
     "data": {
      "image/png": "[encoded data removed]",
      "text/plain": [
       "plot without title"
      ]
     },
     "metadata": {
      "image/png": {
       "height": 420,
       "width": 420
      }
     },
     "output_type": "display_data"
    }
   ],
   "source": [
    "boxplot(wt,\n",
    "       horizontal = T)"
   ]
  },
  {
   "cell_type": "code",
   "execution_count": 219,
   "id": "458446e2",
   "metadata": {},
   "outputs": [
    {
     "data": {
      "text/html": [
       "<dl>\n",
       "\t<dt>$stats</dt>\n",
       "\t\t<dd><style>\n",
       ".list-inline {list-style: none; margin:0; padding: 0}\n",
       ".list-inline>li {display: inline-block}\n",
       ".list-inline>li:not(:last-child)::after {content: \"\\00b7\"; padding: 0 .5ex}\n",
       "</style>\n",
       "<ol class=list-inline><li>1.513</li><li>2.5425</li><li>3.325</li><li>3.65</li><li>5.25</li></ol>\n",
       "</dd>\n",
       "\t<dt>$n</dt>\n",
       "\t\t<dd>32</dd>\n",
       "\t<dt>$conf</dt>\n",
       "\t\t<dd><style>\n",
       ".list-inline {list-style: none; margin:0; padding: 0}\n",
       ".list-inline>li {display: inline-block}\n",
       ".list-inline>li:not(:last-child)::after {content: \"\\00b7\"; padding: 0 .5ex}\n",
       "</style>\n",
       "<ol class=list-inline><li>3.01566729973518</li><li>3.63433270026482</li></ol>\n",
       "</dd>\n",
       "\t<dt>$out</dt>\n",
       "\t\t<dd><style>\n",
       ".list-inline {list-style: none; margin:0; padding: 0}\n",
       ".list-inline>li {display: inline-block}\n",
       ".list-inline>li:not(:last-child)::after {content: \"\\00b7\"; padding: 0 .5ex}\n",
       "</style>\n",
       "<ol class=list-inline><li>5.424</li><li>5.345</li></ol>\n",
       "</dd>\n",
       "</dl>\n"
      ],
      "text/latex": [
       "\\begin{description}\n",
       "\\item[\\$stats] \\begin{enumerate*}\n",
       "\\item 1.513\n",
       "\\item 2.5425\n",
       "\\item 3.325\n",
       "\\item 3.65\n",
       "\\item 5.25\n",
       "\\end{enumerate*}\n",
       "\n",
       "\\item[\\$n] 32\n",
       "\\item[\\$conf] \\begin{enumerate*}\n",
       "\\item 3.01566729973518\n",
       "\\item 3.63433270026482\n",
       "\\end{enumerate*}\n",
       "\n",
       "\\item[\\$out] \\begin{enumerate*}\n",
       "\\item 5.424\n",
       "\\item 5.345\n",
       "\\end{enumerate*}\n",
       "\n",
       "\\end{description}\n"
      ],
      "text/markdown": [
       "$stats\n",
       ":   1. 1.513\n",
       "2. 2.5425\n",
       "3. 3.325\n",
       "4. 3.65\n",
       "5. 5.25\n",
       "\n",
       "\n",
       "\n",
       "$n\n",
       ":   32\n",
       "$conf\n",
       ":   1. 3.01566729973518\n",
       "2. 3.63433270026482\n",
       "\n",
       "\n",
       "\n",
       "$out\n",
       ":   1. 5.424\n",
       "2. 5.345\n",
       "\n",
       "\n",
       "\n",
       "\n",
       "\n"
      ],
      "text/plain": [
       "$stats\n",
       "[1] 1.5130 2.5425 3.3250 3.6500 5.2500\n",
       "\n",
       "$n\n",
       "[1] 32\n",
       "\n",
       "$conf\n",
       "[1] 3.015667 3.634333\n",
       "\n",
       "$out\n",
       "[1] 5.424 5.345\n"
      ]
     },
     "metadata": {},
     "output_type": "display_data"
    }
   ],
   "source": [
    "boxplot.stats(wt)"
   ]
  },
  {
   "cell_type": "code",
   "execution_count": 220,
   "id": "360956af",
   "metadata": {},
   "outputs": [],
   "source": [
    "disp = mtcars$disp"
   ]
  },
  {
   "cell_type": "code",
   "execution_count": 221,
   "id": "b494e9da",
   "metadata": {},
   "outputs": [
    {
     "data": {
      "text/html": [
       "<style>\n",
       ".list-inline {list-style: none; margin:0; padding: 0}\n",
       ".list-inline>li {display: inline-block}\n",
       ".list-inline>li:not(:last-child)::after {content: \"\\00b7\"; padding: 0 .5ex}\n",
       "</style>\n",
       "<ol class=list-inline><li>160</li><li>160</li><li>108</li><li>258</li><li>360</li><li>225</li><li>360</li><li>146.7</li><li>140.8</li><li>167.6</li><li>167.6</li><li>275.8</li><li>275.8</li><li>275.8</li><li>472</li><li>460</li><li>440</li><li>78.7</li><li>75.7</li><li>71.1</li><li>120.1</li><li>318</li><li>304</li><li>350</li><li>400</li><li>79</li><li>120.3</li><li>95.1</li><li>351</li><li>145</li><li>301</li><li>121</li></ol>\n"
      ],
      "text/latex": [
       "\\begin{enumerate*}\n",
       "\\item 160\n",
       "\\item 160\n",
       "\\item 108\n",
       "\\item 258\n",
       "\\item 360\n",
       "\\item 225\n",
       "\\item 360\n",
       "\\item 146.7\n",
       "\\item 140.8\n",
       "\\item 167.6\n",
       "\\item 167.6\n",
       "\\item 275.8\n",
       "\\item 275.8\n",
       "\\item 275.8\n",
       "\\item 472\n",
       "\\item 460\n",
       "\\item 440\n",
       "\\item 78.7\n",
       "\\item 75.7\n",
       "\\item 71.1\n",
       "\\item 120.1\n",
       "\\item 318\n",
       "\\item 304\n",
       "\\item 350\n",
       "\\item 400\n",
       "\\item 79\n",
       "\\item 120.3\n",
       "\\item 95.1\n",
       "\\item 351\n",
       "\\item 145\n",
       "\\item 301\n",
       "\\item 121\n",
       "\\end{enumerate*}\n"
      ],
      "text/markdown": [
       "1. 160\n",
       "2. 160\n",
       "3. 108\n",
       "4. 258\n",
       "5. 360\n",
       "6. 225\n",
       "7. 360\n",
       "8. 146.7\n",
       "9. 140.8\n",
       "10. 167.6\n",
       "11. 167.6\n",
       "12. 275.8\n",
       "13. 275.8\n",
       "14. 275.8\n",
       "15. 472\n",
       "16. 460\n",
       "17. 440\n",
       "18. 78.7\n",
       "19. 75.7\n",
       "20. 71.1\n",
       "21. 120.1\n",
       "22. 318\n",
       "23. 304\n",
       "24. 350\n",
       "25. 400\n",
       "26. 79\n",
       "27. 120.3\n",
       "28. 95.1\n",
       "29. 351\n",
       "30. 145\n",
       "31. 301\n",
       "32. 121\n",
       "\n",
       "\n"
      ],
      "text/plain": [
       " [1] 160.0 160.0 108.0 258.0 360.0 225.0 360.0 146.7 140.8 167.6 167.6 275.8\n",
       "[13] 275.8 275.8 472.0 460.0 440.0  78.7  75.7  71.1 120.1 318.0 304.0 350.0\n",
       "[25] 400.0  79.0 120.3  95.1 351.0 145.0 301.0 121.0"
      ]
     },
     "metadata": {},
     "output_type": "display_data"
    }
   ],
   "source": [
    "disp\n"
   ]
  },
  {
   "cell_type": "code",
   "execution_count": 222,
   "id": "f014dce0",
   "metadata": {},
   "outputs": [
    {
     "data": {
      "image/png": "[encoded data removed]",
      "text/plain": [
       "plot without title"
      ]
     },
     "metadata": {
      "image/png": {
       "height": 420,
       "width": 420
      }
     },
     "output_type": "display_data"
    }
   ],
   "source": [
    "boxplot(disp)"
   ]
  },
  {
   "cell_type": "code",
   "execution_count": 223,
   "id": "6df19894",
   "metadata": {},
   "outputs": [
    {
     "data": {
      "text/html": [
       "<dl>\n",
       "\t<dt>$stats</dt>\n",
       "\t\t<dd><style>\n",
       ".list-inline {list-style: none; margin:0; padding: 0}\n",
       ".list-inline>li {display: inline-block}\n",
       ".list-inline>li:not(:last-child)::after {content: \"\\00b7\"; padding: 0 .5ex}\n",
       "</style>\n",
       "<ol class=list-inline><li>71.1</li><li>120.65</li><li>196.3</li><li>334</li><li>472</li></ol>\n",
       "</dd>\n",
       "\t<dt>$n</dt>\n",
       "\t\t<dd>32</dd>\n",
       "\t<dt>$conf</dt>\n",
       "\t\t<dd><style>\n",
       ".list-inline {list-style: none; margin:0; padding: 0}\n",
       ".list-inline>li {display: inline-block}\n",
       ".list-inline>li:not(:last-child)::after {content: \"\\00b7\"; padding: 0 .5ex}\n",
       "</style>\n",
       "<ol class=list-inline><li>136.709813452371</li><li>255.890186547629</li></ol>\n",
       "</dd>\n",
       "\t<dt>$out</dt>\n",
       "\t\t<dd></dd>\n",
       "</dl>\n"
      ],
      "text/latex": [
       "\\begin{description}\n",
       "\\item[\\$stats] \\begin{enumerate*}\n",
       "\\item 71.1\n",
       "\\item 120.65\n",
       "\\item 196.3\n",
       "\\item 334\n",
       "\\item 472\n",
       "\\end{enumerate*}\n",
       "\n",
       "\\item[\\$n] 32\n",
       "\\item[\\$conf] \\begin{enumerate*}\n",
       "\\item 136.709813452371\n",
       "\\item 255.890186547629\n",
       "\\end{enumerate*}\n",
       "\n",
       "\\item[\\$out] \n",
       "\\end{description}\n"
      ],
      "text/markdown": [
       "$stats\n",
       ":   1. 71.1\n",
       "2. 120.65\n",
       "3. 196.3\n",
       "4. 334\n",
       "5. 472\n",
       "\n",
       "\n",
       "\n",
       "$n\n",
       ":   32\n",
       "$conf\n",
       ":   1. 136.709813452371\n",
       "2. 255.890186547629\n",
       "\n",
       "\n",
       "\n",
       "$out\n",
       ":   \n",
       "\n",
       "\n"
      ],
      "text/plain": [
       "$stats\n",
       "[1]  71.10 120.65 196.30 334.00 472.00\n",
       "\n",
       "$n\n",
       "[1] 32\n",
       "\n",
       "$conf\n",
       "[1] 136.7098 255.8902\n",
       "\n",
       "$out\n",
       "numeric(0)\n"
      ]
     },
     "metadata": {},
     "output_type": "display_data"
    }
   ],
   "source": [
    "boxplot.stats(disp)"
   ]
  },
  {
   "cell_type": "code",
   "execution_count": 225,
   "id": "7ff33da3",
   "metadata": {},
   "outputs": [
    {
     "data": {
      "image/png": "[encoded data removed]",
      "text/plain": [
       "Plot with title \"기어수별 연비\""
      ]
     },
     "metadata": {
      "image/png": {
       "height": 420,
       "width": 420
      }
     },
     "output_type": "display_data"
    }
   ],
   "source": [
    "boxplot(mtcars$mpg~mtcars$gear,\n",
    "       main = '기어수별 연비')"
   ]
  },
  {
   "cell_type": "code",
   "execution_count": 226,
   "id": "86987ff6",
   "metadata": {},
   "outputs": [
    {
     "data": {
      "text/html": [
       "<table class=\"dataframe\">\n",
       "<caption>A data.frame: 6 × 3</caption>\n",
       "<thead>\n",
       "\t<tr><th></th><th scope=col>Girth</th><th scope=col>Height</th><th scope=col>Volume</th></tr>\n",
       "\t<tr><th></th><th scope=col>&lt;dbl&gt;</th><th scope=col>&lt;dbl&gt;</th><th scope=col>&lt;dbl&gt;</th></tr>\n",
       "</thead>\n",
       "<tbody>\n",
       "\t<tr><th scope=row>1</th><td> 8.3</td><td>70</td><td>10.3</td></tr>\n",
       "\t<tr><th scope=row>2</th><td> 8.6</td><td>65</td><td>10.3</td></tr>\n",
       "\t<tr><th scope=row>3</th><td> 8.8</td><td>63</td><td>10.2</td></tr>\n",
       "\t<tr><th scope=row>4</th><td>10.5</td><td>72</td><td>16.4</td></tr>\n",
       "\t<tr><th scope=row>5</th><td>10.7</td><td>81</td><td>18.8</td></tr>\n",
       "\t<tr><th scope=row>6</th><td>10.8</td><td>83</td><td>19.7</td></tr>\n",
       "</tbody>\n",
       "</table>\n"
      ],
      "text/latex": [
       "A data.frame: 6 × 3\n",
       "\\begin{tabular}{r|lll}\n",
       "  & Girth & Height & Volume\\\\\n",
       "  & <dbl> & <dbl> & <dbl>\\\\\n",
       "\\hline\n",
       "\t1 &  8.3 & 70 & 10.3\\\\\n",
       "\t2 &  8.6 & 65 & 10.3\\\\\n",
       "\t3 &  8.8 & 63 & 10.2\\\\\n",
       "\t4 & 10.5 & 72 & 16.4\\\\\n",
       "\t5 & 10.7 & 81 & 18.8\\\\\n",
       "\t6 & 10.8 & 83 & 19.7\\\\\n",
       "\\end{tabular}\n"
      ],
      "text/markdown": [
       "\n",
       "A data.frame: 6 × 3\n",
       "\n",
       "| <!--/--> | Girth &lt;dbl&gt; | Height &lt;dbl&gt; | Volume &lt;dbl&gt; |\n",
       "|---|---|---|---|\n",
       "| 1 |  8.3 | 70 | 10.3 |\n",
       "| 2 |  8.6 | 65 | 10.3 |\n",
       "| 3 |  8.8 | 63 | 10.2 |\n",
       "| 4 | 10.5 | 72 | 16.4 |\n",
       "| 5 | 10.7 | 81 | 18.8 |\n",
       "| 6 | 10.8 | 83 | 19.7 |\n",
       "\n"
      ],
      "text/plain": [
       "  Girth Height Volume\n",
       "1  8.3  70     10.3  \n",
       "2  8.6  65     10.3  \n",
       "3  8.8  63     10.2  \n",
       "4 10.5  72     16.4  \n",
       "5 10.7  81     18.8  \n",
       "6 10.8  83     19.7  "
      ]
     },
     "metadata": {},
     "output_type": "display_data"
    }
   ],
   "source": [
    "head(trees)"
   ]
  },
  {
   "cell_type": "code",
   "execution_count": 227,
   "id": "91cac10d",
   "metadata": {},
   "outputs": [],
   "source": [
    "girth = trees$Girth"
   ]
  },
  {
   "cell_type": "code",
   "execution_count": 228,
   "id": "b14d6f98",
   "metadata": {},
   "outputs": [
    {
     "data": {
      "text/html": [
       "<style>\n",
       ".list-inline {list-style: none; margin:0; padding: 0}\n",
       ".list-inline>li {display: inline-block}\n",
       ".list-inline>li:not(:last-child)::after {content: \"\\00b7\"; padding: 0 .5ex}\n",
       "</style>\n",
       "<ol class=list-inline><li>8.3</li><li>8.6</li><li>8.8</li><li>10.5</li><li>10.7</li><li>10.8</li><li>11</li><li>11</li><li>11.1</li><li>11.2</li><li>11.3</li><li>11.4</li><li>11.4</li><li>11.7</li><li>12</li><li>12.9</li><li>12.9</li><li>13.3</li><li>13.7</li><li>13.8</li><li>14</li><li>14.2</li><li>14.5</li><li>16</li><li>16.3</li><li>17.3</li><li>17.5</li><li>17.9</li><li>18</li><li>18</li><li>20.6</li></ol>\n"
      ],
      "text/latex": [
       "\\begin{enumerate*}\n",
       "\\item 8.3\n",
       "\\item 8.6\n",
       "\\item 8.8\n",
       "\\item 10.5\n",
       "\\item 10.7\n",
       "\\item 10.8\n",
       "\\item 11\n",
       "\\item 11\n",
       "\\item 11.1\n",
       "\\item 11.2\n",
       "\\item 11.3\n",
       "\\item 11.4\n",
       "\\item 11.4\n",
       "\\item 11.7\n",
       "\\item 12\n",
       "\\item 12.9\n",
       "\\item 12.9\n",
       "\\item 13.3\n",
       "\\item 13.7\n",
       "\\item 13.8\n",
       "\\item 14\n",
       "\\item 14.2\n",
       "\\item 14.5\n",
       "\\item 16\n",
       "\\item 16.3\n",
       "\\item 17.3\n",
       "\\item 17.5\n",
       "\\item 17.9\n",
       "\\item 18\n",
       "\\item 18\n",
       "\\item 20.6\n",
       "\\end{enumerate*}\n"
      ],
      "text/markdown": [
       "1. 8.3\n",
       "2. 8.6\n",
       "3. 8.8\n",
       "4. 10.5\n",
       "5. 10.7\n",
       "6. 10.8\n",
       "7. 11\n",
       "8. 11\n",
       "9. 11.1\n",
       "10. 11.2\n",
       "11. 11.3\n",
       "12. 11.4\n",
       "13. 11.4\n",
       "14. 11.7\n",
       "15. 12\n",
       "16. 12.9\n",
       "17. 12.9\n",
       "18. 13.3\n",
       "19. 13.7\n",
       "20. 13.8\n",
       "21. 14\n",
       "22. 14.2\n",
       "23. 14.5\n",
       "24. 16\n",
       "25. 16.3\n",
       "26. 17.3\n",
       "27. 17.5\n",
       "28. 17.9\n",
       "29. 18\n",
       "30. 18\n",
       "31. 20.6\n",
       "\n",
       "\n"
      ],
      "text/plain": [
       " [1]  8.3  8.6  8.8 10.5 10.7 10.8 11.0 11.0 11.1 11.2 11.3 11.4 11.4 11.7 12.0\n",
       "[16] 12.9 12.9 13.3 13.7 13.8 14.0 14.2 14.5 16.0 16.3 17.3 17.5 17.9 18.0 18.0\n",
       "[31] 20.6"
      ]
     },
     "metadata": {},
     "output_type": "display_data"
    }
   ],
   "source": [
    "girth"
   ]
  },
  {
   "cell_type": "code",
   "execution_count": 229,
   "id": "dcc456a6",
   "metadata": {},
   "outputs": [
    {
     "data": {
      "text/html": [
       "13.2483870967742"
      ],
      "text/latex": [
       "13.2483870967742"
      ],
      "text/markdown": [
       "13.2483870967742"
      ],
      "text/plain": [
       "[1] 13.24839"
      ]
     },
     "metadata": {},
     "output_type": "display_data"
    }
   ],
   "source": [
    "mean(girth)"
   ]
  },
  {
   "cell_type": "code",
   "execution_count": 230,
   "id": "86dd1d61",
   "metadata": {},
   "outputs": [
    {
     "data": {
      "text/html": [
       "12.9"
      ],
      "text/latex": [
       "12.9"
      ],
      "text/markdown": [
       "12.9"
      ],
      "text/plain": [
       "[1] 12.9"
      ]
     },
     "metadata": {},
     "output_type": "display_data"
    }
   ],
   "source": [
    "median(girth)"
   ]
  },
  {
   "cell_type": "code",
   "execution_count": 231,
   "id": "c167db26",
   "metadata": {},
   "outputs": [
    {
     "data": {
      "text/html": [
       "13.0434782608696"
      ],
      "text/latex": [
       "13.0434782608696"
      ],
      "text/markdown": [
       "13.0434782608696"
      ],
      "text/plain": [
       "[1] 13.04348"
      ]
     },
     "metadata": {},
     "output_type": "display_data"
    }
   ],
   "source": [
    "mean(girth, trim = 0.15)"
   ]
  },
  {
   "cell_type": "code",
   "execution_count": 232,
   "id": "7e0b75be",
   "metadata": {},
   "outputs": [
    {
     "data": {
      "text/html": [
       "3.13813861683875"
      ],
      "text/latex": [
       "3.13813861683875"
      ],
      "text/markdown": [
       "3.13813861683875"
      ],
      "text/plain": [
       "[1] 3.138139"
      ]
     },
     "metadata": {},
     "output_type": "display_data"
    }
   ],
   "source": [
    "sd(girth)"
   ]
  },
  {
   "cell_type": "code",
   "execution_count": 234,
   "id": "69d21149",
   "metadata": {},
   "outputs": [
    {
     "data": {
      "image/png": "[encoded data removed]",
      "text/plain": [
       "Plot with title \"Histogram of girth\""
      ]
     },
     "metadata": {
      "image/png": {
       "height": 420,
       "width": 420
      }
     },
     "output_type": "display_data"
    }
   ],
   "source": [
    "hist(girth, las = 1)"
   ]
  },
  {
   "cell_type": "code",
   "execution_count": 238,
   "id": "6be21b4c",
   "metadata": {},
   "outputs": [
    {
     "data": {
      "image/png": "[encoded data removed]",
      "text/plain": [
       "Plot with title \"Histogram of girth\""
      ]
     },
     "metadata": {
      "image/png": {
       "height": 420,
       "width": 420
      }
     },
     "output_type": "display_data"
    }
   ],
   "source": [
    "hist(girth, las = 1, prob = T)\n",
    "lines(density(girth))"
   ]
  },
  {
   "cell_type": "code",
   "execution_count": 239,
   "id": "8ac5262c",
   "metadata": {},
   "outputs": [
    {
     "data": {
      "image/png": "[encoded data removed]",
      "text/plain": [
       "plot without title"
      ]
     },
     "metadata": {
      "image/png": {
       "height": 420,
       "width": 420
      }
     },
     "output_type": "display_data"
    }
   ],
   "source": [
    "boxplot(girth)"
   ]
  },
  {
   "cell_type": "code",
   "execution_count": 240,
   "id": "163d52ba",
   "metadata": {},
   "outputs": [],
   "source": [
    "height = trees$Height"
   ]
  },
  {
   "cell_type": "code",
   "execution_count": 241,
   "id": "ddf70596",
   "metadata": {},
   "outputs": [
    {
     "data": {
      "text/html": [
       "<style>\n",
       ".list-inline {list-style: none; margin:0; padding: 0}\n",
       ".list-inline>li {display: inline-block}\n",
       ".list-inline>li:not(:last-child)::after {content: \"\\00b7\"; padding: 0 .5ex}\n",
       "</style>\n",
       "<ol class=list-inline><li>70</li><li>65</li><li>63</li><li>72</li><li>81</li><li>83</li><li>66</li><li>75</li><li>80</li><li>75</li><li>79</li><li>76</li><li>76</li><li>69</li><li>75</li><li>74</li><li>85</li><li>86</li><li>71</li><li>64</li><li>78</li><li>80</li><li>74</li><li>72</li><li>77</li><li>81</li><li>82</li><li>80</li><li>80</li><li>80</li><li>87</li></ol>\n"
      ],
      "text/latex": [
       "\\begin{enumerate*}\n",
       "\\item 70\n",
       "\\item 65\n",
       "\\item 63\n",
       "\\item 72\n",
       "\\item 81\n",
       "\\item 83\n",
       "\\item 66\n",
       "\\item 75\n",
       "\\item 80\n",
       "\\item 75\n",
       "\\item 79\n",
       "\\item 76\n",
       "\\item 76\n",
       "\\item 69\n",
       "\\item 75\n",
       "\\item 74\n",
       "\\item 85\n",
       "\\item 86\n",
       "\\item 71\n",
       "\\item 64\n",
       "\\item 78\n",
       "\\item 80\n",
       "\\item 74\n",
       "\\item 72\n",
       "\\item 77\n",
       "\\item 81\n",
       "\\item 82\n",
       "\\item 80\n",
       "\\item 80\n",
       "\\item 80\n",
       "\\item 87\n",
       "\\end{enumerate*}\n"
      ],
      "text/markdown": [
       "1. 70\n",
       "2. 65\n",
       "3. 63\n",
       "4. 72\n",
       "5. 81\n",
       "6. 83\n",
       "7. 66\n",
       "8. 75\n",
       "9. 80\n",
       "10. 75\n",
       "11. 79\n",
       "12. 76\n",
       "13. 76\n",
       "14. 69\n",
       "15. 75\n",
       "16. 74\n",
       "17. 85\n",
       "18. 86\n",
       "19. 71\n",
       "20. 64\n",
       "21. 78\n",
       "22. 80\n",
       "23. 74\n",
       "24. 72\n",
       "25. 77\n",
       "26. 81\n",
       "27. 82\n",
       "28. 80\n",
       "29. 80\n",
       "30. 80\n",
       "31. 87\n",
       "\n",
       "\n"
      ],
      "text/plain": [
       " [1] 70 65 63 72 81 83 66 75 80 75 79 76 76 69 75 74 85 86 71 64 78 80 74 72 77\n",
       "[26] 81 82 80 80 80 87"
      ]
     },
     "metadata": {},
     "output_type": "display_data"
    }
   ],
   "source": [
    "height\n"
   ]
  },
  {
   "cell_type": "code",
   "execution_count": 242,
   "id": "28a98a1f",
   "metadata": {},
   "outputs": [
    {
     "data": {
      "text/html": [
       "76"
      ],
      "text/latex": [
       "76"
      ],
      "text/markdown": [
       "76"
      ],
      "text/plain": [
       "[1] 76"
      ]
     },
     "metadata": {},
     "output_type": "display_data"
    }
   ],
   "source": [
    "mean(height)"
   ]
  },
  {
   "cell_type": "code",
   "execution_count": 243,
   "id": "8e017f69",
   "metadata": {},
   "outputs": [
    {
     "data": {
      "text/html": [
       "76"
      ],
      "text/latex": [
       "76"
      ],
      "text/markdown": [
       "76"
      ],
      "text/plain": [
       "[1] 76"
      ]
     },
     "metadata": {},
     "output_type": "display_data"
    }
   ],
   "source": [
    "median(height)"
   ]
  },
  {
   "cell_type": "code",
   "execution_count": 244,
   "id": "da9366fe",
   "metadata": {},
   "outputs": [
    {
     "data": {
      "text/html": [
       "76.3913043478261"
      ],
      "text/latex": [
       "76.3913043478261"
      ],
      "text/markdown": [
       "76.3913043478261"
      ],
      "text/plain": [
       "[1] 76.3913"
      ]
     },
     "metadata": {},
     "output_type": "display_data"
    }
   ],
   "source": [
    "mean(height, trim = 0.15)"
   ]
  },
  {
   "cell_type": "code",
   "execution_count": 245,
   "id": "c453f6f2",
   "metadata": {},
   "outputs": [
    {
     "data": {
      "text/html": [
       "6.3718129288296"
      ],
      "text/latex": [
       "6.3718129288296"
      ],
      "text/markdown": [
       "6.3718129288296"
      ],
      "text/plain": [
       "[1] 6.371813"
      ]
     },
     "metadata": {},
     "output_type": "display_data"
    }
   ],
   "source": [
    "sd(height)"
   ]
  },
  {
   "cell_type": "code",
   "execution_count": 247,
   "id": "dbf71058",
   "metadata": {},
   "outputs": [
    {
     "data": {
      "image/png": "[encoded data removed]",
      "text/plain": [
       "Plot with title \"Histogram of height\""
      ]
     },
     "metadata": {
      "image/png": {
       "height": 420,
       "width": 420
      }
     },
     "output_type": "display_data"
    }
   ],
   "source": [
    "hist(height, las = 1)"
   ]
  },
  {
   "cell_type": "code",
   "execution_count": 248,
   "id": "376f05b2",
   "metadata": {},
   "outputs": [
    {
     "data": {
      "image/png": "[encoded data removed]",
      "text/plain": [
       "Plot with title \"Histogram of height\""
      ]
     },
     "metadata": {
      "image/png": {
       "height": 420,
       "width": 420
      }
     },
     "output_type": "display_data"
    }
   ],
   "source": [
    "hist(height, las = 1,\n",
    "    prob = T)\n",
    "lines(density(height))"
   ]
  },
  {
   "cell_type": "code",
   "execution_count": 249,
   "id": "ac3675ad",
   "metadata": {},
   "outputs": [
    {
     "data": {
      "image/png": "[encoded data removed]",
      "text/plain": [
       "plot without title"
      ]
     },
     "metadata": {
      "image/png": {
       "height": 420,
       "width": 420
      }
     },
     "output_type": "display_data"
    }
   ],
   "source": [
    "boxplot(height)"
   ]
  },
  {
   "cell_type": "code",
   "execution_count": null,
   "id": "14a0dfc5",
   "metadata": {},
   "outputs": [],
   "source": []
  }
 ],
 "metadata": {
  "kernelspec": {
   "display_name": "R",
   "language": "R",
   "name": "ir"
  },
  "language_info": {
   "codemirror_mode": "r",
   "file_extension": ".r",
   "mimetype": "text/x-r-source",
   "name": "R",
   "pygments_lexer": "r",
   "version": "4.3.1"
  }
 },
 "nbformat": 4,
 "nbformat_minor": 5
}
