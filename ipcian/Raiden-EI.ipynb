{
 "cells": [
  {
   "cell_type": "code",
   "execution_count": 1,
   "id": "50e43b16",
   "metadata": {},
   "outputs": [],
   "source": [
    "x = c(30, 40, 50, 60, 70, 80)"
   ]
  },
  {
   "cell_type": "code",
   "execution_count": 2,
   "id": "ad8386fc",
   "metadata": {},
   "outputs": [],
   "source": [
    "y = c(43, 45, 54, 53, 56, 63)"
   ]
  },
  {
   "cell_type": "code",
   "execution_count": 3,
   "id": "a845b7cb",
   "metadata": {},
   "outputs": [
    {
     "data": {
      "image/png": "[encoded data removed]",
      "text/plain": [
       "plot without title"
      ]
     },
     "metadata": {
      "image/png": {
       "height": 420,
       "width": 420
      }
     },
     "output_type": "display_data"
    }
   ],
   "source": [
    "plot(x, y)"
   ]
  },
  {
   "cell_type": "code",
   "execution_count": 5,
   "id": "0792de6f",
   "metadata": {},
   "outputs": [
    {
     "data": {
      "image/png": "[encoded data removed]",
      "text/plain": [
       "plot without title"
      ]
     },
     "metadata": {
      "image/png": {
       "height": 420,
       "width": 420
      }
     },
     "output_type": "display_data"
    }
   ],
   "source": [
    "plot(x, y)\n",
    "lm.result = lm(y~x)\n",
    "abline(lm.result)"
   ]
  },
  {
   "cell_type": "code",
   "execution_count": 6,
   "id": "eea19fcf",
   "metadata": {},
   "outputs": [
    {
     "data": {
      "text/plain": [
       "\n",
       "Call:\n",
       "lm(formula = y ~ x)\n",
       "\n",
       "Residuals:\n",
       "       1        2        3        4        5        6 \n",
       " 0.09524 -1.67619  3.55238 -1.21905 -1.99048  1.23810 \n",
       "\n",
       "Coefficients:\n",
       "            Estimate Std. Error t value Pr(>|t|)    \n",
       "(Intercept) 31.59048    3.25920   9.693 0.000634 ***\n",
       "x            0.37714    0.05659   6.664 0.002634 ** \n",
       "---\n",
       "Signif. codes:  0 '***' 0.001 '**' 0.01 '*' 0.05 '.' 0.1 ' ' 1\n",
       "\n",
       "Residual standard error: 2.367 on 4 degrees of freedom\n",
       "Multiple R-squared:  0.9174,\tAdjusted R-squared:  0.8967 \n",
       "F-statistic: 44.41 on 1 and 4 DF,  p-value: 0.002634\n"
      ]
     },
     "metadata": {},
     "output_type": "display_data"
    }
   ],
   "source": [
    "summary(lm.result)"
   ]
  },
  {
   "cell_type": "code",
   "execution_count": 7,
   "id": "351906ac",
   "metadata": {},
   "outputs": [],
   "source": [
    "# 분산은 2.367\n",
    "# 데이터의 설명률은 약 91%\n",
    "# 매우 유의\n",
    "# P-VALUE 0.05미만, 연관성이 있음"
   ]
  },
  {
   "cell_type": "code",
   "execution_count": 9,
   "id": "7938c3b8",
   "metadata": {},
   "outputs": [
    {
     "data": {
      "text/html": [
       "<strong>1:</strong> 48.5619047619048"
      ],
      "text/latex": [
       "\\textbf{1:} 48.5619047619048"
      ],
      "text/markdown": [
       "**1:** 48.5619047619048"
      ],
      "text/plain": [
       "      1 \n",
       "48.5619 "
      ]
     },
     "metadata": {},
     "output_type": "display_data"
    }
   ],
   "source": [
    "predict(lm.result, newdata=data.frame(x=45))"
   ]
  },
  {
   "cell_type": "code",
   "execution_count": 10,
   "id": "52f65cdc",
   "metadata": {},
   "outputs": [
    {
     "data": {
      "text/html": [
       "48.56178"
      ],
      "text/latex": [
       "48.56178"
      ],
      "text/markdown": [
       "48.56178"
      ],
      "text/plain": [
       "[1] 48.56178"
      ]
     },
     "metadata": {},
     "output_type": "display_data"
    }
   ],
   "source": [
    "31.59048 + 0.37714 * 45"
   ]
  },
  {
   "cell_type": "code",
   "execution_count": 11,
   "id": "4061dfaf",
   "metadata": {},
   "outputs": [],
   "source": [
    "x = c(1, 1, 2, 2, 2, 4, 4, 4, 4, 6, 6, 6)\n",
    "y = c(30, 32, 25, 27, 26, 16, 18, 16, 20, 10, 8, 11)"
   ]
  },
  {
   "cell_type": "code",
   "execution_count": 13,
   "id": "81ea55c7",
   "metadata": {},
   "outputs": [
    {
     "data": {
      "image/png": "[encoded data removed]",
      "text/plain": [
       "plot without title"
      ]
     },
     "metadata": {
      "image/png": {
       "height": 420,
       "width": 420
      }
     },
     "output_type": "display_data"
    }
   ],
   "source": [
    "plot(x, y)\n",
    "lm.res = lm(y~x)\n",
    "abline(lm.res)"
   ]
  },
  {
   "cell_type": "code",
   "execution_count": 14,
   "id": "069e8180",
   "metadata": {},
   "outputs": [
    {
     "data": {
      "text/plain": [
       "\n",
       "Call:\n",
       "lm(formula = y ~ x)\n",
       "\n",
       "Residuals:\n",
       "     Min       1Q   Median       3Q      Max \n",
       "-1.80769 -1.27564 -0.02564  0.95192  2.19231 \n",
       "\n",
       "Coefficients:\n",
       "            Estimate Std. Error t value Pr(>|t|)    \n",
       "(Intercept)  34.6795     0.9150   37.90 3.90e-12 ***\n",
       "x            -4.2179     0.2324  -18.15 5.53e-09 ***\n",
       "---\n",
       "Signif. codes:  0 '***' 0.001 '**' 0.01 '*' 0.05 '.' 0.1 ' ' 1\n",
       "\n",
       "Residual standard error: 1.451 on 10 degrees of freedom\n",
       "Multiple R-squared:  0.9705,\tAdjusted R-squared:  0.9676 \n",
       "F-statistic: 329.4 on 1 and 10 DF,  p-value: 5.533e-09\n"
      ]
     },
     "metadata": {},
     "output_type": "display_data"
    }
   ],
   "source": [
    "summary(lm.res)"
   ]
  },
  {
   "cell_type": "code",
   "execution_count": 15,
   "id": "27cb724b",
   "metadata": {},
   "outputs": [
    {
     "data": {
      "text/html": [
       "<strong>1:</strong> 22.025641025641"
      ],
      "text/latex": [
       "\\textbf{1:} 22.025641025641"
      ],
      "text/markdown": [
       "**1:** 22.025641025641"
      ],
      "text/plain": [
       "       1 \n",
       "22.02564 "
      ]
     },
     "metadata": {},
     "output_type": "display_data"
    }
   ],
   "source": [
    "predict(lm.res, newdata = data.frame(x = 3))"
   ]
  },
  {
   "cell_type": "code",
   "execution_count": 16,
   "id": "b264dbf0",
   "metadata": {},
   "outputs": [
    {
     "data": {
      "text/html": [
       "22.0258"
      ],
      "text/latex": [
       "22.0258"
      ],
      "text/markdown": [
       "22.0258"
      ],
      "text/plain": [
       "[1] 22.0258"
      ]
     },
     "metadata": {},
     "output_type": "display_data"
    }
   ],
   "source": [
    "34.6795 + -4.2179 * 3"
   ]
  },
  {
   "cell_type": "code",
   "execution_count": 17,
   "id": "1b5d815b",
   "metadata": {},
   "outputs": [],
   "source": [
    "age = c(8, 3, 6, 9, 2, 5, 6, 3)\n",
    "price = c(18, 94, 50, 21, 145, 42, 36, 99)"
   ]
  },
  {
   "cell_type": "code",
   "execution_count": 19,
   "id": "083e07e7",
   "metadata": {},
   "outputs": [
    {
     "data": {
      "image/png": "[encoded data removed]",
      "text/plain": [
       "plot without title"
      ]
     },
     "metadata": {
      "image/png": {
       "height": 420,
       "width": 420
      }
     },
     "output_type": "display_data"
    }
   ],
   "source": [
    "plot(age, price)\n",
    "lm.res = lm(price~age)\n",
    "abline(lm.res)"
   ]
  },
  {
   "cell_type": "code",
   "execution_count": 21,
   "id": "408aee8e",
   "metadata": {},
   "outputs": [
    {
     "data": {
      "text/plain": [
       "\n",
       "Call:\n",
       "lm(formula = price ~ age)\n",
       "\n",
       "Residuals:\n",
       "    Min      1Q  Median      3Q     Max \n",
       "-25.282  -8.565  -1.095   5.504  27.839 \n",
       "\n",
       "Coefficients:\n",
       "            Estimate Std. Error t value Pr(>|t|)    \n",
       "(Intercept)  150.414     16.232   9.267 8.93e-05 ***\n",
       "age          -16.626      2.826  -5.884  0.00107 ** \n",
       "---\n",
       "Signif. codes:  0 '***' 0.001 '**' 0.01 '*' 0.05 '.' 0.1 ' ' 1\n",
       "\n",
       "Residual standard error: 18.64 on 6 degrees of freedom\n",
       "Multiple R-squared:  0.8523,\tAdjusted R-squared:  0.8277 \n",
       "F-statistic: 34.62 on 1 and 6 DF,  p-value: 0.001068\n"
      ]
     },
     "metadata": {},
     "output_type": "display_data"
    }
   ],
   "source": [
    "summary(lm.res\n",
    "       )"
   ]
  },
  {
   "cell_type": "code",
   "execution_count": 20,
   "id": "dd65ac4b",
   "metadata": {},
   "outputs": [
    {
     "data": {
      "text/html": [
       "<strong>1:</strong> 50.6551724137931"
      ],
      "text/latex": [
       "\\textbf{1:} 50.6551724137931"
      ],
      "text/markdown": [
       "**1:** 50.6551724137931"
      ],
      "text/plain": [
       "       1 \n",
       "50.65517 "
      ]
     },
     "metadata": {},
     "output_type": "display_data"
    }
   ],
   "source": [
    "predict(lm.res, newdata= data.frame(age = 6))"
   ]
  },
  {
   "cell_type": "code",
   "execution_count": 22,
   "id": "cc01b5d2",
   "metadata": {},
   "outputs": [
    {
     "data": {
      "text/html": [
       "50.658"
      ],
      "text/latex": [
       "50.658"
      ],
      "text/markdown": [
       "50.658"
      ],
      "text/plain": [
       "[1] 50.658"
      ]
     },
     "metadata": {},
     "output_type": "display_data"
    }
   ],
   "source": [
    "150.414 + -16.626 * 6"
   ]
  },
  {
   "cell_type": "code",
   "execution_count": 23,
   "id": "6977910a",
   "metadata": {},
   "outputs": [],
   "source": [
    "x1 = c(195, 179, 205, 204, 201, 184, 210, 209)\n",
    "x2 = c(57, 61, 60, 62, 61, 54, 58, 61)\n",
    "y = c(81.4, 122.2, 101.7, 145.2, 135.9, 64.8, 92.1, 113.8)"
   ]
  },
  {
   "cell_type": "code",
   "execution_count": 24,
   "id": "e2314603",
   "metadata": {},
   "outputs": [],
   "source": [
    "lm.res = lm(y~x1 + x2)"
   ]
  },
  {
   "cell_type": "code",
   "execution_count": 25,
   "id": "2d1016c7",
   "metadata": {},
   "outputs": [
    {
     "data": {
      "text/plain": [
       "\n",
       "Call:\n",
       "lm(formula = y ~ x1 + x2)\n",
       "\n",
       "Residuals:\n",
       "        1         2         3         4         5         6         7         8 \n",
       " -4.41018  -6.66819 -11.26091  12.34641  12.17458   5.90680  -0.03319  -8.05532 \n",
       "\n",
       "Coefficients:\n",
       "             Estimate Std. Error t value Pr(>|t|)   \n",
       "(Intercept) -428.8851    98.9870  -4.333  0.00748 **\n",
       "x1            -0.2338     0.3832  -0.610  0.56854   \n",
       "x2             9.8295     1.6232   6.056  0.00177 **\n",
       "---\n",
       "Signif. codes:  0 '***' 0.001 '**' 0.01 '*' 0.05 '.' 0.1 ' ' 1\n",
       "\n",
       "Residual standard error: 10.87 on 5 degrees of freedom\n",
       "Multiple R-squared:  0.8876,\tAdjusted R-squared:  0.8426 \n",
       "F-statistic: 19.74 on 2 and 5 DF,  p-value: 0.004239\n"
      ]
     },
     "metadata": {},
     "output_type": "display_data"
    }
   ],
   "source": [
    "summary(lm.res)"
   ]
  },
  {
   "cell_type": "code",
   "execution_count": 26,
   "id": "8965d2d2",
   "metadata": {},
   "outputs": [
    {
     "data": {
      "text/html": [
       "<strong>1:</strong> 94.4708176039945"
      ],
      "text/latex": [
       "\\textbf{1:} 94.4708176039945"
      ],
      "text/markdown": [
       "**1:** 94.4708176039945"
      ],
      "text/plain": [
       "       1 \n",
       "94.47082 "
      ]
     },
     "metadata": {},
     "output_type": "display_data"
    }
   ],
   "source": [
    "predict(lm.res, newdata = data.frame(x1 = 200, x2 = 58))"
   ]
  },
  {
   "cell_type": "code",
   "execution_count": 27,
   "id": "3f2d50a5",
   "metadata": {},
   "outputs": [
    {
     "data": {
      "text/html": [
       "94.4659"
      ],
      "text/latex": [
       "94.4659"
      ],
      "text/markdown": [
       "94.4659"
      ],
      "text/plain": [
       "[1] 94.4659"
      ]
     },
     "metadata": {},
     "output_type": "display_data"
    }
   ],
   "source": [
    "-428.8851 + -0.2338 * 200 + 9.8295 * 58"
   ]
  },
  {
   "cell_type": "code",
   "execution_count": 28,
   "id": "cafd2c7f",
   "metadata": {},
   "outputs": [
    {
     "data": {
      "text/html": [
       "<table class=\"dataframe\">\n",
       "<caption>A data.frame: 6 × 2</caption>\n",
       "<thead>\n",
       "\t<tr><th></th><th scope=col>speed</th><th scope=col>dist</th></tr>\n",
       "\t<tr><th></th><th scope=col>&lt;dbl&gt;</th><th scope=col>&lt;dbl&gt;</th></tr>\n",
       "</thead>\n",
       "<tbody>\n",
       "\t<tr><th scope=row>1</th><td>4</td><td> 2</td></tr>\n",
       "\t<tr><th scope=row>2</th><td>4</td><td>10</td></tr>\n",
       "\t<tr><th scope=row>3</th><td>7</td><td> 4</td></tr>\n",
       "\t<tr><th scope=row>4</th><td>7</td><td>22</td></tr>\n",
       "\t<tr><th scope=row>5</th><td>8</td><td>16</td></tr>\n",
       "\t<tr><th scope=row>6</th><td>9</td><td>10</td></tr>\n",
       "</tbody>\n",
       "</table>\n"
      ],
      "text/latex": [
       "A data.frame: 6 × 2\n",
       "\\begin{tabular}{r|ll}\n",
       "  & speed & dist\\\\\n",
       "  & <dbl> & <dbl>\\\\\n",
       "\\hline\n",
       "\t1 & 4 &  2\\\\\n",
       "\t2 & 4 & 10\\\\\n",
       "\t3 & 7 &  4\\\\\n",
       "\t4 & 7 & 22\\\\\n",
       "\t5 & 8 & 16\\\\\n",
       "\t6 & 9 & 10\\\\\n",
       "\\end{tabular}\n"
      ],
      "text/markdown": [
       "\n",
       "A data.frame: 6 × 2\n",
       "\n",
       "| <!--/--> | speed &lt;dbl&gt; | dist &lt;dbl&gt; |\n",
       "|---|---|---|\n",
       "| 1 | 4 |  2 |\n",
       "| 2 | 4 | 10 |\n",
       "| 3 | 7 |  4 |\n",
       "| 4 | 7 | 22 |\n",
       "| 5 | 8 | 16 |\n",
       "| 6 | 9 | 10 |\n",
       "\n"
      ],
      "text/plain": [
       "  speed dist\n",
       "1 4      2  \n",
       "2 4     10  \n",
       "3 7      4  \n",
       "4 7     22  \n",
       "5 8     16  \n",
       "6 9     10  "
      ]
     },
     "metadata": {},
     "output_type": "display_data"
    }
   ],
   "source": [
    "head(cars)"
   ]
  },
  {
   "cell_type": "code",
   "execution_count": 33,
   "id": "c6ae27ef",
   "metadata": {},
   "outputs": [
    {
     "data": {
      "image/png": "[encoded data removed]",
      "text/plain": [
       "plot without title"
      ]
     },
     "metadata": {
      "image/png": {
       "height": 420,
       "width": 420
      }
     },
     "output_type": "display_data"
    }
   ],
   "source": [
    "plot(dist~speed, data = cars)\n",
    "lm.res = lm(dist~speed, data = cars)\n",
    "abline(lm.res)"
   ]
  },
  {
   "cell_type": "code",
   "execution_count": 35,
   "id": "33f7d6a5",
   "metadata": {},
   "outputs": [
    {
     "data": {
      "text/plain": [
       "\n",
       "Call:\n",
       "lm(formula = dist ~ speed, data = cars)\n",
       "\n",
       "Residuals:\n",
       "    Min      1Q  Median      3Q     Max \n",
       "-29.069  -9.525  -2.272   9.215  43.201 \n",
       "\n",
       "Coefficients:\n",
       "            Estimate Std. Error t value Pr(>|t|)    \n",
       "(Intercept) -17.5791     6.7584  -2.601   0.0123 *  \n",
       "speed         3.9324     0.4155   9.464 1.49e-12 ***\n",
       "---\n",
       "Signif. codes:  0 '***' 0.001 '**' 0.01 '*' 0.05 '.' 0.1 ' ' 1\n",
       "\n",
       "Residual standard error: 15.38 on 48 degrees of freedom\n",
       "Multiple R-squared:  0.6511,\tAdjusted R-squared:  0.6438 \n",
       "F-statistic: 89.57 on 1 and 48 DF,  p-value: 1.49e-12\n"
      ]
     },
     "metadata": {},
     "output_type": "display_data"
    }
   ],
   "source": [
    "summary(lm.res)"
   ]
  },
  {
   "cell_type": "code",
   "execution_count": 34,
   "id": "93b41cfa",
   "metadata": {},
   "outputs": [
    {
     "data": {
      "text/html": [
       "<strong>1:</strong> 21.74499270073"
      ],
      "text/latex": [
       "\\textbf{1:} 21.74499270073"
      ],
      "text/markdown": [
       "**1:** 21.74499270073"
      ],
      "text/plain": [
       "       1 \n",
       "21.74499 "
      ]
     },
     "metadata": {},
     "output_type": "display_data"
    }
   ],
   "source": [
    "predict(lm.res, newdata=data.frame(speed = 10))"
   ]
  },
  {
   "cell_type": "code",
   "execution_count": 36,
   "id": "cf3e9a7e",
   "metadata": {},
   "outputs": [
    {
     "data": {
      "text/html": [
       "21.7449"
      ],
      "text/latex": [
       "21.7449"
      ],
      "text/markdown": [
       "21.7449"
      ],
      "text/plain": [
       "[1] 21.7449"
      ]
     },
     "metadata": {},
     "output_type": "display_data"
    }
   ],
   "source": [
    "-17.5791 + 3.9324 * 10"
   ]
  },
  {
   "cell_type": "code",
   "execution_count": 37,
   "id": "a569f03d",
   "metadata": {},
   "outputs": [
    {
     "data": {
      "text/html": [
       "<strong>(Intercept):</strong> -17.5790948905109"
      ],
      "text/latex": [
       "\\textbf{(Intercept):} -17.5790948905109"
      ],
      "text/markdown": [
       "**(Intercept):** -17.5790948905109"
      ],
      "text/plain": [
       "(Intercept) \n",
       "  -17.57909 "
      ]
     },
     "metadata": {},
     "output_type": "display_data"
    }
   ],
   "source": [
    "coef(lm.res)[1]"
   ]
  },
  {
   "cell_type": "code",
   "execution_count": 38,
   "id": "9f85c99b",
   "metadata": {},
   "outputs": [
    {
     "data": {
      "text/html": [
       "<strong>speed:</strong> 3.93240875912409"
      ],
      "text/latex": [
       "\\textbf{speed:} 3.93240875912409"
      ],
      "text/markdown": [
       "**speed:** 3.93240875912409"
      ],
      "text/plain": [
       "   speed \n",
       "3.932409 "
      ]
     },
     "metadata": {},
     "output_type": "display_data"
    }
   ],
   "source": [
    "coef(lm.res)[2]"
   ]
  },
  {
   "cell_type": "code",
   "execution_count": 39,
   "id": "9569a435",
   "metadata": {},
   "outputs": [
    {
     "data": {
      "text/plain": [
       "\n",
       "Call:\n",
       "lm(formula = dist ~ speed, data = cars)\n",
       "\n",
       "Coefficients:\n",
       "(Intercept)        speed  \n",
       "    -17.579        3.932  \n"
      ]
     },
     "metadata": {},
     "output_type": "display_data"
    }
   ],
   "source": [
    "lm.res"
   ]
  },
  {
   "cell_type": "code",
   "execution_count": 40,
   "id": "dfe5c18c",
   "metadata": {},
   "outputs": [],
   "source": [
    "target = mtcars[,c('mpg','disp','drat','wt')]"
   ]
  },
  {
   "cell_type": "code",
   "execution_count": 41,
   "id": "3e582588",
   "metadata": {},
   "outputs": [
    {
     "data": {
      "text/html": [
       "<table class=\"dataframe\">\n",
       "<caption>A data.frame: 32 × 4</caption>\n",
       "<thead>\n",
       "\t<tr><th></th><th scope=col>mpg</th><th scope=col>disp</th><th scope=col>drat</th><th scope=col>wt</th></tr>\n",
       "\t<tr><th></th><th scope=col>&lt;dbl&gt;</th><th scope=col>&lt;dbl&gt;</th><th scope=col>&lt;dbl&gt;</th><th scope=col>&lt;dbl&gt;</th></tr>\n",
       "</thead>\n",
       "<tbody>\n",
       "\t<tr><th scope=row>Mazda RX4</th><td>21.0</td><td>160.0</td><td>3.90</td><td>2.620</td></tr>\n",
       "\t<tr><th scope=row>Mazda RX4 Wag</th><td>21.0</td><td>160.0</td><td>3.90</td><td>2.875</td></tr>\n",
       "\t<tr><th scope=row>Datsun 710</th><td>22.8</td><td>108.0</td><td>3.85</td><td>2.320</td></tr>\n",
       "\t<tr><th scope=row>Hornet 4 Drive</th><td>21.4</td><td>258.0</td><td>3.08</td><td>3.215</td></tr>\n",
       "\t<tr><th scope=row>Hornet Sportabout</th><td>18.7</td><td>360.0</td><td>3.15</td><td>3.440</td></tr>\n",
       "\t<tr><th scope=row>Valiant</th><td>18.1</td><td>225.0</td><td>2.76</td><td>3.460</td></tr>\n",
       "\t<tr><th scope=row>Duster 360</th><td>14.3</td><td>360.0</td><td>3.21</td><td>3.570</td></tr>\n",
       "\t<tr><th scope=row>Merc 240D</th><td>24.4</td><td>146.7</td><td>3.69</td><td>3.190</td></tr>\n",
       "\t<tr><th scope=row>Merc 230</th><td>22.8</td><td>140.8</td><td>3.92</td><td>3.150</td></tr>\n",
       "\t<tr><th scope=row>Merc 280</th><td>19.2</td><td>167.6</td><td>3.92</td><td>3.440</td></tr>\n",
       "\t<tr><th scope=row>Merc 280C</th><td>17.8</td><td>167.6</td><td>3.92</td><td>3.440</td></tr>\n",
       "\t<tr><th scope=row>Merc 450SE</th><td>16.4</td><td>275.8</td><td>3.07</td><td>4.070</td></tr>\n",
       "\t<tr><th scope=row>Merc 450SL</th><td>17.3</td><td>275.8</td><td>3.07</td><td>3.730</td></tr>\n",
       "\t<tr><th scope=row>Merc 450SLC</th><td>15.2</td><td>275.8</td><td>3.07</td><td>3.780</td></tr>\n",
       "\t<tr><th scope=row>Cadillac Fleetwood</th><td>10.4</td><td>472.0</td><td>2.93</td><td>5.250</td></tr>\n",
       "\t<tr><th scope=row>Lincoln Continental</th><td>10.4</td><td>460.0</td><td>3.00</td><td>5.424</td></tr>\n",
       "\t<tr><th scope=row>Chrysler Imperial</th><td>14.7</td><td>440.0</td><td>3.23</td><td>5.345</td></tr>\n",
       "\t<tr><th scope=row>Fiat 128</th><td>32.4</td><td> 78.7</td><td>4.08</td><td>2.200</td></tr>\n",
       "\t<tr><th scope=row>Honda Civic</th><td>30.4</td><td> 75.7</td><td>4.93</td><td>1.615</td></tr>\n",
       "\t<tr><th scope=row>Toyota Corolla</th><td>33.9</td><td> 71.1</td><td>4.22</td><td>1.835</td></tr>\n",
       "\t<tr><th scope=row>Toyota Corona</th><td>21.5</td><td>120.1</td><td>3.70</td><td>2.465</td></tr>\n",
       "\t<tr><th scope=row>Dodge Challenger</th><td>15.5</td><td>318.0</td><td>2.76</td><td>3.520</td></tr>\n",
       "\t<tr><th scope=row>AMC Javelin</th><td>15.2</td><td>304.0</td><td>3.15</td><td>3.435</td></tr>\n",
       "\t<tr><th scope=row>Camaro Z28</th><td>13.3</td><td>350.0</td><td>3.73</td><td>3.840</td></tr>\n",
       "\t<tr><th scope=row>Pontiac Firebird</th><td>19.2</td><td>400.0</td><td>3.08</td><td>3.845</td></tr>\n",
       "\t<tr><th scope=row>Fiat X1-9</th><td>27.3</td><td> 79.0</td><td>4.08</td><td>1.935</td></tr>\n",
       "\t<tr><th scope=row>Porsche 914-2</th><td>26.0</td><td>120.3</td><td>4.43</td><td>2.140</td></tr>\n",
       "\t<tr><th scope=row>Lotus Europa</th><td>30.4</td><td> 95.1</td><td>3.77</td><td>1.513</td></tr>\n",
       "\t<tr><th scope=row>Ford Pantera L</th><td>15.8</td><td>351.0</td><td>4.22</td><td>3.170</td></tr>\n",
       "\t<tr><th scope=row>Ferrari Dino</th><td>19.7</td><td>145.0</td><td>3.62</td><td>2.770</td></tr>\n",
       "\t<tr><th scope=row>Maserati Bora</th><td>15.0</td><td>301.0</td><td>3.54</td><td>3.570</td></tr>\n",
       "\t<tr><th scope=row>Volvo 142E</th><td>21.4</td><td>121.0</td><td>4.11</td><td>2.780</td></tr>\n",
       "</tbody>\n",
       "</table>\n"
      ],
      "text/latex": [
       "A data.frame: 32 × 4\n",
       "\\begin{tabular}{r|llll}\n",
       "  & mpg & disp & drat & wt\\\\\n",
       "  & <dbl> & <dbl> & <dbl> & <dbl>\\\\\n",
       "\\hline\n",
       "\tMazda RX4 & 21.0 & 160.0 & 3.90 & 2.620\\\\\n",
       "\tMazda RX4 Wag & 21.0 & 160.0 & 3.90 & 2.875\\\\\n",
       "\tDatsun 710 & 22.8 & 108.0 & 3.85 & 2.320\\\\\n",
       "\tHornet 4 Drive & 21.4 & 258.0 & 3.08 & 3.215\\\\\n",
       "\tHornet Sportabout & 18.7 & 360.0 & 3.15 & 3.440\\\\\n",
       "\tValiant & 18.1 & 225.0 & 2.76 & 3.460\\\\\n",
       "\tDuster 360 & 14.3 & 360.0 & 3.21 & 3.570\\\\\n",
       "\tMerc 240D & 24.4 & 146.7 & 3.69 & 3.190\\\\\n",
       "\tMerc 230 & 22.8 & 140.8 & 3.92 & 3.150\\\\\n",
       "\tMerc 280 & 19.2 & 167.6 & 3.92 & 3.440\\\\\n",
       "\tMerc 280C & 17.8 & 167.6 & 3.92 & 3.440\\\\\n",
       "\tMerc 450SE & 16.4 & 275.8 & 3.07 & 4.070\\\\\n",
       "\tMerc 450SL & 17.3 & 275.8 & 3.07 & 3.730\\\\\n",
       "\tMerc 450SLC & 15.2 & 275.8 & 3.07 & 3.780\\\\\n",
       "\tCadillac Fleetwood & 10.4 & 472.0 & 2.93 & 5.250\\\\\n",
       "\tLincoln Continental & 10.4 & 460.0 & 3.00 & 5.424\\\\\n",
       "\tChrysler Imperial & 14.7 & 440.0 & 3.23 & 5.345\\\\\n",
       "\tFiat 128 & 32.4 &  78.7 & 4.08 & 2.200\\\\\n",
       "\tHonda Civic & 30.4 &  75.7 & 4.93 & 1.615\\\\\n",
       "\tToyota Corolla & 33.9 &  71.1 & 4.22 & 1.835\\\\\n",
       "\tToyota Corona & 21.5 & 120.1 & 3.70 & 2.465\\\\\n",
       "\tDodge Challenger & 15.5 & 318.0 & 2.76 & 3.520\\\\\n",
       "\tAMC Javelin & 15.2 & 304.0 & 3.15 & 3.435\\\\\n",
       "\tCamaro Z28 & 13.3 & 350.0 & 3.73 & 3.840\\\\\n",
       "\tPontiac Firebird & 19.2 & 400.0 & 3.08 & 3.845\\\\\n",
       "\tFiat X1-9 & 27.3 &  79.0 & 4.08 & 1.935\\\\\n",
       "\tPorsche 914-2 & 26.0 & 120.3 & 4.43 & 2.140\\\\\n",
       "\tLotus Europa & 30.4 &  95.1 & 3.77 & 1.513\\\\\n",
       "\tFord Pantera L & 15.8 & 351.0 & 4.22 & 3.170\\\\\n",
       "\tFerrari Dino & 19.7 & 145.0 & 3.62 & 2.770\\\\\n",
       "\tMaserati Bora & 15.0 & 301.0 & 3.54 & 3.570\\\\\n",
       "\tVolvo 142E & 21.4 & 121.0 & 4.11 & 2.780\\\\\n",
       "\\end{tabular}\n"
      ],
      "text/markdown": [
       "\n",
       "A data.frame: 32 × 4\n",
       "\n",
       "| <!--/--> | mpg &lt;dbl&gt; | disp &lt;dbl&gt; | drat &lt;dbl&gt; | wt &lt;dbl&gt; |\n",
       "|---|---|---|---|---|\n",
       "| Mazda RX4 | 21.0 | 160.0 | 3.90 | 2.620 |\n",
       "| Mazda RX4 Wag | 21.0 | 160.0 | 3.90 | 2.875 |\n",
       "| Datsun 710 | 22.8 | 108.0 | 3.85 | 2.320 |\n",
       "| Hornet 4 Drive | 21.4 | 258.0 | 3.08 | 3.215 |\n",
       "| Hornet Sportabout | 18.7 | 360.0 | 3.15 | 3.440 |\n",
       "| Valiant | 18.1 | 225.0 | 2.76 | 3.460 |\n",
       "| Duster 360 | 14.3 | 360.0 | 3.21 | 3.570 |\n",
       "| Merc 240D | 24.4 | 146.7 | 3.69 | 3.190 |\n",
       "| Merc 230 | 22.8 | 140.8 | 3.92 | 3.150 |\n",
       "| Merc 280 | 19.2 | 167.6 | 3.92 | 3.440 |\n",
       "| Merc 280C | 17.8 | 167.6 | 3.92 | 3.440 |\n",
       "| Merc 450SE | 16.4 | 275.8 | 3.07 | 4.070 |\n",
       "| Merc 450SL | 17.3 | 275.8 | 3.07 | 3.730 |\n",
       "| Merc 450SLC | 15.2 | 275.8 | 3.07 | 3.780 |\n",
       "| Cadillac Fleetwood | 10.4 | 472.0 | 2.93 | 5.250 |\n",
       "| Lincoln Continental | 10.4 | 460.0 | 3.00 | 5.424 |\n",
       "| Chrysler Imperial | 14.7 | 440.0 | 3.23 | 5.345 |\n",
       "| Fiat 128 | 32.4 |  78.7 | 4.08 | 2.200 |\n",
       "| Honda Civic | 30.4 |  75.7 | 4.93 | 1.615 |\n",
       "| Toyota Corolla | 33.9 |  71.1 | 4.22 | 1.835 |\n",
       "| Toyota Corona | 21.5 | 120.1 | 3.70 | 2.465 |\n",
       "| Dodge Challenger | 15.5 | 318.0 | 2.76 | 3.520 |\n",
       "| AMC Javelin | 15.2 | 304.0 | 3.15 | 3.435 |\n",
       "| Camaro Z28 | 13.3 | 350.0 | 3.73 | 3.840 |\n",
       "| Pontiac Firebird | 19.2 | 400.0 | 3.08 | 3.845 |\n",
       "| Fiat X1-9 | 27.3 |  79.0 | 4.08 | 1.935 |\n",
       "| Porsche 914-2 | 26.0 | 120.3 | 4.43 | 2.140 |\n",
       "| Lotus Europa | 30.4 |  95.1 | 3.77 | 1.513 |\n",
       "| Ford Pantera L | 15.8 | 351.0 | 4.22 | 3.170 |\n",
       "| Ferrari Dino | 19.7 | 145.0 | 3.62 | 2.770 |\n",
       "| Maserati Bora | 15.0 | 301.0 | 3.54 | 3.570 |\n",
       "| Volvo 142E | 21.4 | 121.0 | 4.11 | 2.780 |\n",
       "\n"
      ],
      "text/plain": [
       "                    mpg  disp  drat wt   \n",
       "Mazda RX4           21.0 160.0 3.90 2.620\n",
       "Mazda RX4 Wag       21.0 160.0 3.90 2.875\n",
       "Datsun 710          22.8 108.0 3.85 2.320\n",
       "Hornet 4 Drive      21.4 258.0 3.08 3.215\n",
       "Hornet Sportabout   18.7 360.0 3.15 3.440\n",
       "Valiant             18.1 225.0 2.76 3.460\n",
       "Duster 360          14.3 360.0 3.21 3.570\n",
       "Merc 240D           24.4 146.7 3.69 3.190\n",
       "Merc 230            22.8 140.8 3.92 3.150\n",
       "Merc 280            19.2 167.6 3.92 3.440\n",
       "Merc 280C           17.8 167.6 3.92 3.440\n",
       "Merc 450SE          16.4 275.8 3.07 4.070\n",
       "Merc 450SL          17.3 275.8 3.07 3.730\n",
       "Merc 450SLC         15.2 275.8 3.07 3.780\n",
       "Cadillac Fleetwood  10.4 472.0 2.93 5.250\n",
       "Lincoln Continental 10.4 460.0 3.00 5.424\n",
       "Chrysler Imperial   14.7 440.0 3.23 5.345\n",
       "Fiat 128            32.4  78.7 4.08 2.200\n",
       "Honda Civic         30.4  75.7 4.93 1.615\n",
       "Toyota Corolla      33.9  71.1 4.22 1.835\n",
       "Toyota Corona       21.5 120.1 3.70 2.465\n",
       "Dodge Challenger    15.5 318.0 2.76 3.520\n",
       "AMC Javelin         15.2 304.0 3.15 3.435\n",
       "Camaro Z28          13.3 350.0 3.73 3.840\n",
       "Pontiac Firebird    19.2 400.0 3.08 3.845\n",
       "Fiat X1-9           27.3  79.0 4.08 1.935\n",
       "Porsche 914-2       26.0 120.3 4.43 2.140\n",
       "Lotus Europa        30.4  95.1 3.77 1.513\n",
       "Ford Pantera L      15.8 351.0 4.22 3.170\n",
       "Ferrari Dino        19.7 145.0 3.62 2.770\n",
       "Maserati Bora       15.0 301.0 3.54 3.570\n",
       "Volvo 142E          21.4 121.0 4.11 2.780"
      ]
     },
     "metadata": {},
     "output_type": "display_data"
    }
   ],
   "source": [
    "target"
   ]
  },
  {
   "cell_type": "code",
   "execution_count": 42,
   "id": "07c98c1e",
   "metadata": {},
   "outputs": [
    {
     "data": {
      "text/html": [
       "<table class=\"dataframe\">\n",
       "<caption>A data.frame: 6 × 4</caption>\n",
       "<thead>\n",
       "\t<tr><th></th><th scope=col>mpg</th><th scope=col>disp</th><th scope=col>drat</th><th scope=col>wt</th></tr>\n",
       "\t<tr><th></th><th scope=col>&lt;dbl&gt;</th><th scope=col>&lt;dbl&gt;</th><th scope=col>&lt;dbl&gt;</th><th scope=col>&lt;dbl&gt;</th></tr>\n",
       "</thead>\n",
       "<tbody>\n",
       "\t<tr><th scope=row>Mazda RX4</th><td>21.0</td><td>160</td><td>3.90</td><td>2.620</td></tr>\n",
       "\t<tr><th scope=row>Mazda RX4 Wag</th><td>21.0</td><td>160</td><td>3.90</td><td>2.875</td></tr>\n",
       "\t<tr><th scope=row>Datsun 710</th><td>22.8</td><td>108</td><td>3.85</td><td>2.320</td></tr>\n",
       "\t<tr><th scope=row>Hornet 4 Drive</th><td>21.4</td><td>258</td><td>3.08</td><td>3.215</td></tr>\n",
       "\t<tr><th scope=row>Hornet Sportabout</th><td>18.7</td><td>360</td><td>3.15</td><td>3.440</td></tr>\n",
       "\t<tr><th scope=row>Valiant</th><td>18.1</td><td>225</td><td>2.76</td><td>3.460</td></tr>\n",
       "</tbody>\n",
       "</table>\n"
      ],
      "text/latex": [
       "A data.frame: 6 × 4\n",
       "\\begin{tabular}{r|llll}\n",
       "  & mpg & disp & drat & wt\\\\\n",
       "  & <dbl> & <dbl> & <dbl> & <dbl>\\\\\n",
       "\\hline\n",
       "\tMazda RX4 & 21.0 & 160 & 3.90 & 2.620\\\\\n",
       "\tMazda RX4 Wag & 21.0 & 160 & 3.90 & 2.875\\\\\n",
       "\tDatsun 710 & 22.8 & 108 & 3.85 & 2.320\\\\\n",
       "\tHornet 4 Drive & 21.4 & 258 & 3.08 & 3.215\\\\\n",
       "\tHornet Sportabout & 18.7 & 360 & 3.15 & 3.440\\\\\n",
       "\tValiant & 18.1 & 225 & 2.76 & 3.460\\\\\n",
       "\\end{tabular}\n"
      ],
      "text/markdown": [
       "\n",
       "A data.frame: 6 × 4\n",
       "\n",
       "| <!--/--> | mpg &lt;dbl&gt; | disp &lt;dbl&gt; | drat &lt;dbl&gt; | wt &lt;dbl&gt; |\n",
       "|---|---|---|---|---|\n",
       "| Mazda RX4 | 21.0 | 160 | 3.90 | 2.620 |\n",
       "| Mazda RX4 Wag | 21.0 | 160 | 3.90 | 2.875 |\n",
       "| Datsun 710 | 22.8 | 108 | 3.85 | 2.320 |\n",
       "| Hornet 4 Drive | 21.4 | 258 | 3.08 | 3.215 |\n",
       "| Hornet Sportabout | 18.7 | 360 | 3.15 | 3.440 |\n",
       "| Valiant | 18.1 | 225 | 2.76 | 3.460 |\n",
       "\n"
      ],
      "text/plain": [
       "                  mpg  disp drat wt   \n",
       "Mazda RX4         21.0 160  3.90 2.620\n",
       "Mazda RX4 Wag     21.0 160  3.90 2.875\n",
       "Datsun 710        22.8 108  3.85 2.320\n",
       "Hornet 4 Drive    21.4 258  3.08 3.215\n",
       "Hornet Sportabout 18.7 360  3.15 3.440\n",
       "Valiant           18.1 225  2.76 3.460"
      ]
     },
     "metadata": {},
     "output_type": "display_data"
    }
   ],
   "source": [
    "head(target)"
   ]
  },
  {
   "cell_type": "code",
   "execution_count": 44,
   "id": "d2c345f9",
   "metadata": {},
   "outputs": [
    {
     "data": {
      "image/png": "[encoded data removed]",
      "text/plain": [
       "plot without title"
      ]
     },
     "metadata": {
      "image/png": {
       "height": 420,
       "width": 420
      }
     },
     "output_type": "display_data"
    }
   ],
   "source": [
    "pairs(target,\n",
    "     main = 'Multi plot')"
   ]
  },
  {
   "cell_type": "code",
   "execution_count": 45,
   "id": "7a005b80",
   "metadata": {},
   "outputs": [],
   "source": [
    "iris.2 = iris[,3:4]"
   ]
  },
  {
   "cell_type": "code",
   "execution_count": 46,
   "id": "ec362612",
   "metadata": {},
   "outputs": [
    {
     "data": {
      "text/html": [
       "<table class=\"dataframe\">\n",
       "<caption>A data.frame: 150 × 2</caption>\n",
       "<thead>\n",
       "\t<tr><th scope=col>Petal.Length</th><th scope=col>Petal.Width</th></tr>\n",
       "\t<tr><th scope=col>&lt;dbl&gt;</th><th scope=col>&lt;dbl&gt;</th></tr>\n",
       "</thead>\n",
       "<tbody>\n",
       "\t<tr><td>1.4</td><td>0.2</td></tr>\n",
       "\t<tr><td>1.4</td><td>0.2</td></tr>\n",
       "\t<tr><td>1.3</td><td>0.2</td></tr>\n",
       "\t<tr><td>1.5</td><td>0.2</td></tr>\n",
       "\t<tr><td>1.4</td><td>0.2</td></tr>\n",
       "\t<tr><td>1.7</td><td>0.4</td></tr>\n",
       "\t<tr><td>1.4</td><td>0.3</td></tr>\n",
       "\t<tr><td>1.5</td><td>0.2</td></tr>\n",
       "\t<tr><td>1.4</td><td>0.2</td></tr>\n",
       "\t<tr><td>1.5</td><td>0.1</td></tr>\n",
       "\t<tr><td>1.5</td><td>0.2</td></tr>\n",
       "\t<tr><td>1.6</td><td>0.2</td></tr>\n",
       "\t<tr><td>1.4</td><td>0.1</td></tr>\n",
       "\t<tr><td>1.1</td><td>0.1</td></tr>\n",
       "\t<tr><td>1.2</td><td>0.2</td></tr>\n",
       "\t<tr><td>1.5</td><td>0.4</td></tr>\n",
       "\t<tr><td>1.3</td><td>0.4</td></tr>\n",
       "\t<tr><td>1.4</td><td>0.3</td></tr>\n",
       "\t<tr><td>1.7</td><td>0.3</td></tr>\n",
       "\t<tr><td>1.5</td><td>0.3</td></tr>\n",
       "\t<tr><td>1.7</td><td>0.2</td></tr>\n",
       "\t<tr><td>1.5</td><td>0.4</td></tr>\n",
       "\t<tr><td>1.0</td><td>0.2</td></tr>\n",
       "\t<tr><td>1.7</td><td>0.5</td></tr>\n",
       "\t<tr><td>1.9</td><td>0.2</td></tr>\n",
       "\t<tr><td>1.6</td><td>0.2</td></tr>\n",
       "\t<tr><td>1.6</td><td>0.4</td></tr>\n",
       "\t<tr><td>1.5</td><td>0.2</td></tr>\n",
       "\t<tr><td>1.4</td><td>0.2</td></tr>\n",
       "\t<tr><td>1.6</td><td>0.2</td></tr>\n",
       "\t<tr><td>⋮</td><td>⋮</td></tr>\n",
       "\t<tr><td>5.7</td><td>2.3</td></tr>\n",
       "\t<tr><td>4.9</td><td>2.0</td></tr>\n",
       "\t<tr><td>6.7</td><td>2.0</td></tr>\n",
       "\t<tr><td>4.9</td><td>1.8</td></tr>\n",
       "\t<tr><td>5.7</td><td>2.1</td></tr>\n",
       "\t<tr><td>6.0</td><td>1.8</td></tr>\n",
       "\t<tr><td>4.8</td><td>1.8</td></tr>\n",
       "\t<tr><td>4.9</td><td>1.8</td></tr>\n",
       "\t<tr><td>5.6</td><td>2.1</td></tr>\n",
       "\t<tr><td>5.8</td><td>1.6</td></tr>\n",
       "\t<tr><td>6.1</td><td>1.9</td></tr>\n",
       "\t<tr><td>6.4</td><td>2.0</td></tr>\n",
       "\t<tr><td>5.6</td><td>2.2</td></tr>\n",
       "\t<tr><td>5.1</td><td>1.5</td></tr>\n",
       "\t<tr><td>5.6</td><td>1.4</td></tr>\n",
       "\t<tr><td>6.1</td><td>2.3</td></tr>\n",
       "\t<tr><td>5.6</td><td>2.4</td></tr>\n",
       "\t<tr><td>5.5</td><td>1.8</td></tr>\n",
       "\t<tr><td>4.8</td><td>1.8</td></tr>\n",
       "\t<tr><td>5.4</td><td>2.1</td></tr>\n",
       "\t<tr><td>5.6</td><td>2.4</td></tr>\n",
       "\t<tr><td>5.1</td><td>2.3</td></tr>\n",
       "\t<tr><td>5.1</td><td>1.9</td></tr>\n",
       "\t<tr><td>5.9</td><td>2.3</td></tr>\n",
       "\t<tr><td>5.7</td><td>2.5</td></tr>\n",
       "\t<tr><td>5.2</td><td>2.3</td></tr>\n",
       "\t<tr><td>5.0</td><td>1.9</td></tr>\n",
       "\t<tr><td>5.2</td><td>2.0</td></tr>\n",
       "\t<tr><td>5.4</td><td>2.3</td></tr>\n",
       "\t<tr><td>5.1</td><td>1.8</td></tr>\n",
       "</tbody>\n",
       "</table>\n"
      ],
      "text/latex": [
       "A data.frame: 150 × 2\n",
       "\\begin{tabular}{ll}\n",
       " Petal.Length & Petal.Width\\\\\n",
       " <dbl> & <dbl>\\\\\n",
       "\\hline\n",
       "\t 1.4 & 0.2\\\\\n",
       "\t 1.4 & 0.2\\\\\n",
       "\t 1.3 & 0.2\\\\\n",
       "\t 1.5 & 0.2\\\\\n",
       "\t 1.4 & 0.2\\\\\n",
       "\t 1.7 & 0.4\\\\\n",
       "\t 1.4 & 0.3\\\\\n",
       "\t 1.5 & 0.2\\\\\n",
       "\t 1.4 & 0.2\\\\\n",
       "\t 1.5 & 0.1\\\\\n",
       "\t 1.5 & 0.2\\\\\n",
       "\t 1.6 & 0.2\\\\\n",
       "\t 1.4 & 0.1\\\\\n",
       "\t 1.1 & 0.1\\\\\n",
       "\t 1.2 & 0.2\\\\\n",
       "\t 1.5 & 0.4\\\\\n",
       "\t 1.3 & 0.4\\\\\n",
       "\t 1.4 & 0.3\\\\\n",
       "\t 1.7 & 0.3\\\\\n",
       "\t 1.5 & 0.3\\\\\n",
       "\t 1.7 & 0.2\\\\\n",
       "\t 1.5 & 0.4\\\\\n",
       "\t 1.0 & 0.2\\\\\n",
       "\t 1.7 & 0.5\\\\\n",
       "\t 1.9 & 0.2\\\\\n",
       "\t 1.6 & 0.2\\\\\n",
       "\t 1.6 & 0.4\\\\\n",
       "\t 1.5 & 0.2\\\\\n",
       "\t 1.4 & 0.2\\\\\n",
       "\t 1.6 & 0.2\\\\\n",
       "\t ⋮ & ⋮\\\\\n",
       "\t 5.7 & 2.3\\\\\n",
       "\t 4.9 & 2.0\\\\\n",
       "\t 6.7 & 2.0\\\\\n",
       "\t 4.9 & 1.8\\\\\n",
       "\t 5.7 & 2.1\\\\\n",
       "\t 6.0 & 1.8\\\\\n",
       "\t 4.8 & 1.8\\\\\n",
       "\t 4.9 & 1.8\\\\\n",
       "\t 5.6 & 2.1\\\\\n",
       "\t 5.8 & 1.6\\\\\n",
       "\t 6.1 & 1.9\\\\\n",
       "\t 6.4 & 2.0\\\\\n",
       "\t 5.6 & 2.2\\\\\n",
       "\t 5.1 & 1.5\\\\\n",
       "\t 5.6 & 1.4\\\\\n",
       "\t 6.1 & 2.3\\\\\n",
       "\t 5.6 & 2.4\\\\\n",
       "\t 5.5 & 1.8\\\\\n",
       "\t 4.8 & 1.8\\\\\n",
       "\t 5.4 & 2.1\\\\\n",
       "\t 5.6 & 2.4\\\\\n",
       "\t 5.1 & 2.3\\\\\n",
       "\t 5.1 & 1.9\\\\\n",
       "\t 5.9 & 2.3\\\\\n",
       "\t 5.7 & 2.5\\\\\n",
       "\t 5.2 & 2.3\\\\\n",
       "\t 5.0 & 1.9\\\\\n",
       "\t 5.2 & 2.0\\\\\n",
       "\t 5.4 & 2.3\\\\\n",
       "\t 5.1 & 1.8\\\\\n",
       "\\end{tabular}\n"
      ],
      "text/markdown": [
       "\n",
       "A data.frame: 150 × 2\n",
       "\n",
       "| Petal.Length &lt;dbl&gt; | Petal.Width &lt;dbl&gt; |\n",
       "|---|---|\n",
       "| 1.4 | 0.2 |\n",
       "| 1.4 | 0.2 |\n",
       "| 1.3 | 0.2 |\n",
       "| 1.5 | 0.2 |\n",
       "| 1.4 | 0.2 |\n",
       "| 1.7 | 0.4 |\n",
       "| 1.4 | 0.3 |\n",
       "| 1.5 | 0.2 |\n",
       "| 1.4 | 0.2 |\n",
       "| 1.5 | 0.1 |\n",
       "| 1.5 | 0.2 |\n",
       "| 1.6 | 0.2 |\n",
       "| 1.4 | 0.1 |\n",
       "| 1.1 | 0.1 |\n",
       "| 1.2 | 0.2 |\n",
       "| 1.5 | 0.4 |\n",
       "| 1.3 | 0.4 |\n",
       "| 1.4 | 0.3 |\n",
       "| 1.7 | 0.3 |\n",
       "| 1.5 | 0.3 |\n",
       "| 1.7 | 0.2 |\n",
       "| 1.5 | 0.4 |\n",
       "| 1.0 | 0.2 |\n",
       "| 1.7 | 0.5 |\n",
       "| 1.9 | 0.2 |\n",
       "| 1.6 | 0.2 |\n",
       "| 1.6 | 0.4 |\n",
       "| 1.5 | 0.2 |\n",
       "| 1.4 | 0.2 |\n",
       "| 1.6 | 0.2 |\n",
       "| ⋮ | ⋮ |\n",
       "| 5.7 | 2.3 |\n",
       "| 4.9 | 2.0 |\n",
       "| 6.7 | 2.0 |\n",
       "| 4.9 | 1.8 |\n",
       "| 5.7 | 2.1 |\n",
       "| 6.0 | 1.8 |\n",
       "| 4.8 | 1.8 |\n",
       "| 4.9 | 1.8 |\n",
       "| 5.6 | 2.1 |\n",
       "| 5.8 | 1.6 |\n",
       "| 6.1 | 1.9 |\n",
       "| 6.4 | 2.0 |\n",
       "| 5.6 | 2.2 |\n",
       "| 5.1 | 1.5 |\n",
       "| 5.6 | 1.4 |\n",
       "| 6.1 | 2.3 |\n",
       "| 5.6 | 2.4 |\n",
       "| 5.5 | 1.8 |\n",
       "| 4.8 | 1.8 |\n",
       "| 5.4 | 2.1 |\n",
       "| 5.6 | 2.4 |\n",
       "| 5.1 | 2.3 |\n",
       "| 5.1 | 1.9 |\n",
       "| 5.9 | 2.3 |\n",
       "| 5.7 | 2.5 |\n",
       "| 5.2 | 2.3 |\n",
       "| 5.0 | 1.9 |\n",
       "| 5.2 | 2.0 |\n",
       "| 5.4 | 2.3 |\n",
       "| 5.1 | 1.8 |\n",
       "\n"
      ],
      "text/plain": [
       "    Petal.Length Petal.Width\n",
       "1   1.4          0.2        \n",
       "2   1.4          0.2        \n",
       "3   1.3          0.2        \n",
       "4   1.5          0.2        \n",
       "5   1.4          0.2        \n",
       "6   1.7          0.4        \n",
       "7   1.4          0.3        \n",
       "8   1.5          0.2        \n",
       "9   1.4          0.2        \n",
       "10  1.5          0.1        \n",
       "11  1.5          0.2        \n",
       "12  1.6          0.2        \n",
       "13  1.4          0.1        \n",
       "14  1.1          0.1        \n",
       "15  1.2          0.2        \n",
       "16  1.5          0.4        \n",
       "17  1.3          0.4        \n",
       "18  1.4          0.3        \n",
       "19  1.7          0.3        \n",
       "20  1.5          0.3        \n",
       "21  1.7          0.2        \n",
       "22  1.5          0.4        \n",
       "23  1.0          0.2        \n",
       "24  1.7          0.5        \n",
       "25  1.9          0.2        \n",
       "26  1.6          0.2        \n",
       "27  1.6          0.4        \n",
       "28  1.5          0.2        \n",
       "29  1.4          0.2        \n",
       "30  1.6          0.2        \n",
       "⋮   ⋮            ⋮          \n",
       "121 5.7          2.3        \n",
       "122 4.9          2.0        \n",
       "123 6.7          2.0        \n",
       "124 4.9          1.8        \n",
       "125 5.7          2.1        \n",
       "126 6.0          1.8        \n",
       "127 4.8          1.8        \n",
       "128 4.9          1.8        \n",
       "129 5.6          2.1        \n",
       "130 5.8          1.6        \n",
       "131 6.1          1.9        \n",
       "132 6.4          2.0        \n",
       "133 5.6          2.2        \n",
       "134 5.1          1.5        \n",
       "135 5.6          1.4        \n",
       "136 6.1          2.3        \n",
       "137 5.6          2.4        \n",
       "138 5.5          1.8        \n",
       "139 4.8          1.8        \n",
       "140 5.4          2.1        \n",
       "141 5.6          2.4        \n",
       "142 5.1          2.3        \n",
       "143 5.1          1.9        \n",
       "144 5.9          2.3        \n",
       "145 5.7          2.5        \n",
       "146 5.2          2.3        \n",
       "147 5.0          1.9        \n",
       "148 5.2          2.0        \n",
       "149 5.4          2.3        \n",
       "150 5.1          1.8        "
      ]
     },
     "metadata": {},
     "output_type": "display_data"
    }
   ],
   "source": [
    "iris.2"
   ]
  },
  {
   "cell_type": "code",
   "execution_count": 50,
   "id": "d45ce7dd",
   "metadata": {},
   "outputs": [],
   "source": [
    "iris.2 = iris[,3:4]"
   ]
  },
  {
   "cell_type": "code",
   "execution_count": 51,
   "id": "102aaa69",
   "metadata": {},
   "outputs": [],
   "source": [
    "point = as.numeric(iris$Species)"
   ]
  },
  {
   "cell_type": "code",
   "execution_count": 52,
   "id": "f3613019",
   "metadata": {},
   "outputs": [
    {
     "data": {
      "text/html": [
       "<style>\n",
       ".list-inline {list-style: none; margin:0; padding: 0}\n",
       ".list-inline>li {display: inline-block}\n",
       ".list-inline>li:not(:last-child)::after {content: \"\\00b7\"; padding: 0 .5ex}\n",
       "</style>\n",
       "<ol class=list-inline><li>1</li><li>1</li><li>1</li><li>1</li><li>1</li><li>1</li><li>1</li><li>1</li><li>1</li><li>1</li><li>1</li><li>1</li><li>1</li><li>1</li><li>1</li><li>1</li><li>1</li><li>1</li><li>1</li><li>1</li><li>1</li><li>1</li><li>1</li><li>1</li><li>1</li><li>1</li><li>1</li><li>1</li><li>1</li><li>1</li><li>1</li><li>1</li><li>1</li><li>1</li><li>1</li><li>1</li><li>1</li><li>1</li><li>1</li><li>1</li><li>1</li><li>1</li><li>1</li><li>1</li><li>1</li><li>1</li><li>1</li><li>1</li><li>1</li><li>1</li><li>2</li><li>2</li><li>2</li><li>2</li><li>2</li><li>2</li><li>2</li><li>2</li><li>2</li><li>2</li><li>2</li><li>2</li><li>2</li><li>2</li><li>2</li><li>2</li><li>2</li><li>2</li><li>2</li><li>2</li><li>2</li><li>2</li><li>2</li><li>2</li><li>2</li><li>2</li><li>2</li><li>2</li><li>2</li><li>2</li><li>2</li><li>2</li><li>2</li><li>2</li><li>2</li><li>2</li><li>2</li><li>2</li><li>2</li><li>2</li><li>2</li><li>2</li><li>2</li><li>2</li><li>2</li><li>2</li><li>2</li><li>2</li><li>2</li><li>2</li><li>3</li><li>3</li><li>3</li><li>3</li><li>3</li><li>3</li><li>3</li><li>3</li><li>3</li><li>3</li><li>3</li><li>3</li><li>3</li><li>3</li><li>3</li><li>3</li><li>3</li><li>3</li><li>3</li><li>3</li><li>3</li><li>3</li><li>3</li><li>3</li><li>3</li><li>3</li><li>3</li><li>3</li><li>3</li><li>3</li><li>3</li><li>3</li><li>3</li><li>3</li><li>3</li><li>3</li><li>3</li><li>3</li><li>3</li><li>3</li><li>3</li><li>3</li><li>3</li><li>3</li><li>3</li><li>3</li><li>3</li><li>3</li><li>3</li><li>3</li></ol>\n"
      ],
      "text/latex": [
       "\\begin{enumerate*}\n",
       "\\item 1\n",
       "\\item 1\n",
       "\\item 1\n",
       "\\item 1\n",
       "\\item 1\n",
       "\\item 1\n",
       "\\item 1\n",
       "\\item 1\n",
       "\\item 1\n",
       "\\item 1\n",
       "\\item 1\n",
       "\\item 1\n",
       "\\item 1\n",
       "\\item 1\n",
       "\\item 1\n",
       "\\item 1\n",
       "\\item 1\n",
       "\\item 1\n",
       "\\item 1\n",
       "\\item 1\n",
       "\\item 1\n",
       "\\item 1\n",
       "\\item 1\n",
       "\\item 1\n",
       "\\item 1\n",
       "\\item 1\n",
       "\\item 1\n",
       "\\item 1\n",
       "\\item 1\n",
       "\\item 1\n",
       "\\item 1\n",
       "\\item 1\n",
       "\\item 1\n",
       "\\item 1\n",
       "\\item 1\n",
       "\\item 1\n",
       "\\item 1\n",
       "\\item 1\n",
       "\\item 1\n",
       "\\item 1\n",
       "\\item 1\n",
       "\\item 1\n",
       "\\item 1\n",
       "\\item 1\n",
       "\\item 1\n",
       "\\item 1\n",
       "\\item 1\n",
       "\\item 1\n",
       "\\item 1\n",
       "\\item 1\n",
       "\\item 2\n",
       "\\item 2\n",
       "\\item 2\n",
       "\\item 2\n",
       "\\item 2\n",
       "\\item 2\n",
       "\\item 2\n",
       "\\item 2\n",
       "\\item 2\n",
       "\\item 2\n",
       "\\item 2\n",
       "\\item 2\n",
       "\\item 2\n",
       "\\item 2\n",
       "\\item 2\n",
       "\\item 2\n",
       "\\item 2\n",
       "\\item 2\n",
       "\\item 2\n",
       "\\item 2\n",
       "\\item 2\n",
       "\\item 2\n",
       "\\item 2\n",
       "\\item 2\n",
       "\\item 2\n",
       "\\item 2\n",
       "\\item 2\n",
       "\\item 2\n",
       "\\item 2\n",
       "\\item 2\n",
       "\\item 2\n",
       "\\item 2\n",
       "\\item 2\n",
       "\\item 2\n",
       "\\item 2\n",
       "\\item 2\n",
       "\\item 2\n",
       "\\item 2\n",
       "\\item 2\n",
       "\\item 2\n",
       "\\item 2\n",
       "\\item 2\n",
       "\\item 2\n",
       "\\item 2\n",
       "\\item 2\n",
       "\\item 2\n",
       "\\item 2\n",
       "\\item 2\n",
       "\\item 2\n",
       "\\item 2\n",
       "\\item 3\n",
       "\\item 3\n",
       "\\item 3\n",
       "\\item 3\n",
       "\\item 3\n",
       "\\item 3\n",
       "\\item 3\n",
       "\\item 3\n",
       "\\item 3\n",
       "\\item 3\n",
       "\\item 3\n",
       "\\item 3\n",
       "\\item 3\n",
       "\\item 3\n",
       "\\item 3\n",
       "\\item 3\n",
       "\\item 3\n",
       "\\item 3\n",
       "\\item 3\n",
       "\\item 3\n",
       "\\item 3\n",
       "\\item 3\n",
       "\\item 3\n",
       "\\item 3\n",
       "\\item 3\n",
       "\\item 3\n",
       "\\item 3\n",
       "\\item 3\n",
       "\\item 3\n",
       "\\item 3\n",
       "\\item 3\n",
       "\\item 3\n",
       "\\item 3\n",
       "\\item 3\n",
       "\\item 3\n",
       "\\item 3\n",
       "\\item 3\n",
       "\\item 3\n",
       "\\item 3\n",
       "\\item 3\n",
       "\\item 3\n",
       "\\item 3\n",
       "\\item 3\n",
       "\\item 3\n",
       "\\item 3\n",
       "\\item 3\n",
       "\\item 3\n",
       "\\item 3\n",
       "\\item 3\n",
       "\\item 3\n",
       "\\end{enumerate*}\n"
      ],
      "text/markdown": [
       "1. 1\n",
       "2. 1\n",
       "3. 1\n",
       "4. 1\n",
       "5. 1\n",
       "6. 1\n",
       "7. 1\n",
       "8. 1\n",
       "9. 1\n",
       "10. 1\n",
       "11. 1\n",
       "12. 1\n",
       "13. 1\n",
       "14. 1\n",
       "15. 1\n",
       "16. 1\n",
       "17. 1\n",
       "18. 1\n",
       "19. 1\n",
       "20. 1\n",
       "21. 1\n",
       "22. 1\n",
       "23. 1\n",
       "24. 1\n",
       "25. 1\n",
       "26. 1\n",
       "27. 1\n",
       "28. 1\n",
       "29. 1\n",
       "30. 1\n",
       "31. 1\n",
       "32. 1\n",
       "33. 1\n",
       "34. 1\n",
       "35. 1\n",
       "36. 1\n",
       "37. 1\n",
       "38. 1\n",
       "39. 1\n",
       "40. 1\n",
       "41. 1\n",
       "42. 1\n",
       "43. 1\n",
       "44. 1\n",
       "45. 1\n",
       "46. 1\n",
       "47. 1\n",
       "48. 1\n",
       "49. 1\n",
       "50. 1\n",
       "51. 2\n",
       "52. 2\n",
       "53. 2\n",
       "54. 2\n",
       "55. 2\n",
       "56. 2\n",
       "57. 2\n",
       "58. 2\n",
       "59. 2\n",
       "60. 2\n",
       "61. 2\n",
       "62. 2\n",
       "63. 2\n",
       "64. 2\n",
       "65. 2\n",
       "66. 2\n",
       "67. 2\n",
       "68. 2\n",
       "69. 2\n",
       "70. 2\n",
       "71. 2\n",
       "72. 2\n",
       "73. 2\n",
       "74. 2\n",
       "75. 2\n",
       "76. 2\n",
       "77. 2\n",
       "78. 2\n",
       "79. 2\n",
       "80. 2\n",
       "81. 2\n",
       "82. 2\n",
       "83. 2\n",
       "84. 2\n",
       "85. 2\n",
       "86. 2\n",
       "87. 2\n",
       "88. 2\n",
       "89. 2\n",
       "90. 2\n",
       "91. 2\n",
       "92. 2\n",
       "93. 2\n",
       "94. 2\n",
       "95. 2\n",
       "96. 2\n",
       "97. 2\n",
       "98. 2\n",
       "99. 2\n",
       "100. 2\n",
       "101. 3\n",
       "102. 3\n",
       "103. 3\n",
       "104. 3\n",
       "105. 3\n",
       "106. 3\n",
       "107. 3\n",
       "108. 3\n",
       "109. 3\n",
       "110. 3\n",
       "111. 3\n",
       "112. 3\n",
       "113. 3\n",
       "114. 3\n",
       "115. 3\n",
       "116. 3\n",
       "117. 3\n",
       "118. 3\n",
       "119. 3\n",
       "120. 3\n",
       "121. 3\n",
       "122. 3\n",
       "123. 3\n",
       "124. 3\n",
       "125. 3\n",
       "126. 3\n",
       "127. 3\n",
       "128. 3\n",
       "129. 3\n",
       "130. 3\n",
       "131. 3\n",
       "132. 3\n",
       "133. 3\n",
       "134. 3\n",
       "135. 3\n",
       "136. 3\n",
       "137. 3\n",
       "138. 3\n",
       "139. 3\n",
       "140. 3\n",
       "141. 3\n",
       "142. 3\n",
       "143. 3\n",
       "144. 3\n",
       "145. 3\n",
       "146. 3\n",
       "147. 3\n",
       "148. 3\n",
       "149. 3\n",
       "150. 3\n",
       "\n",
       "\n"
      ],
      "text/plain": [
       "  [1] 1 1 1 1 1 1 1 1 1 1 1 1 1 1 1 1 1 1 1 1 1 1 1 1 1 1 1 1 1 1 1 1 1 1 1 1 1\n",
       " [38] 1 1 1 1 1 1 1 1 1 1 1 1 1 2 2 2 2 2 2 2 2 2 2 2 2 2 2 2 2 2 2 2 2 2 2 2 2\n",
       " [75] 2 2 2 2 2 2 2 2 2 2 2 2 2 2 2 2 2 2 2 2 2 2 2 2 2 2 3 3 3 3 3 3 3 3 3 3 3\n",
       "[112] 3 3 3 3 3 3 3 3 3 3 3 3 3 3 3 3 3 3 3 3 3 3 3 3 3 3 3 3 3 3 3 3 3 3 3 3 3\n",
       "[149] 3 3"
      ]
     },
     "metadata": {},
     "output_type": "display_data"
    }
   ],
   "source": [
    "point"
   ]
  },
  {
   "cell_type": "code",
   "execution_count": 53,
   "id": "c861f3f8",
   "metadata": {},
   "outputs": [],
   "source": [
    "color = c('red','green','blue')"
   ]
  },
  {
   "cell_type": "code",
   "execution_count": 54,
   "id": "eb6ddc86",
   "metadata": {},
   "outputs": [
    {
     "data": {
      "image/png": "[encoded data removed]",
      "text/plain": [
       "Plot with title \"Iris Plot\""
      ]
     },
     "metadata": {
      "image/png": {
       "height": 420,
       "width": 420
      }
     },
     "output_type": "display_data"
    }
   ],
   "source": [
    "plot(iris.2,\n",
    "    main = 'Iris Plot',\n",
    "    pch = c(point),\n",
    "    col = color[point])"
   ]
  },
  {
   "cell_type": "code",
   "execution_count": 56,
   "id": "a858a553",
   "metadata": {},
   "outputs": [
    {
     "data": {
      "text/html": [
       "<table class=\"dataframe\">\n",
       "<caption>A matrix: 2 × 2 of type dbl</caption>\n",
       "<thead>\n",
       "\t<tr><th></th><th scope=col>Petal.Length</th><th scope=col>Petal.Width</th></tr>\n",
       "</thead>\n",
       "<tbody>\n",
       "\t<tr><th scope=row>Petal.Length</th><td>1.0000000</td><td>0.9628654</td></tr>\n",
       "\t<tr><th scope=row>Petal.Width</th><td>0.9628654</td><td>1.0000000</td></tr>\n",
       "</tbody>\n",
       "</table>\n"
      ],
      "text/latex": [
       "A matrix: 2 × 2 of type dbl\n",
       "\\begin{tabular}{r|ll}\n",
       "  & Petal.Length & Petal.Width\\\\\n",
       "\\hline\n",
       "\tPetal.Length & 1.0000000 & 0.9628654\\\\\n",
       "\tPetal.Width & 0.9628654 & 1.0000000\\\\\n",
       "\\end{tabular}\n"
      ],
      "text/markdown": [
       "\n",
       "A matrix: 2 × 2 of type dbl\n",
       "\n",
       "| <!--/--> | Petal.Length | Petal.Width |\n",
       "|---|---|---|\n",
       "| Petal.Length | 1.0000000 | 0.9628654 |\n",
       "| Petal.Width | 0.9628654 | 1.0000000 |\n",
       "\n"
      ],
      "text/plain": [
       "             Petal.Length Petal.Width\n",
       "Petal.Length 1.0000000    0.9628654  \n",
       "Petal.Width  0.9628654    1.0000000  "
      ]
     },
     "metadata": {},
     "output_type": "display_data"
    }
   ],
   "source": [
    "cor(iris.2)"
   ]
  },
  {
   "cell_type": "code",
   "execution_count": 57,
   "id": "f1a5dc2a",
   "metadata": {},
   "outputs": [],
   "source": [
    "beers = c(5, 2, 9, 8, 3, 7, 3, 5, 3, 5)"
   ]
  },
  {
   "cell_type": "code",
   "execution_count": 58,
   "id": "2dfebb3c",
   "metadata": {},
   "outputs": [
    {
     "data": {
      "text/html": [
       "<style>\n",
       ".list-inline {list-style: none; margin:0; padding: 0}\n",
       ".list-inline>li {display: inline-block}\n",
       ".list-inline>li:not(:last-child)::after {content: \"\\00b7\"; padding: 0 .5ex}\n",
       "</style>\n",
       "<ol class=list-inline><li>5</li><li>2</li><li>9</li><li>8</li><li>3</li><li>7</li><li>3</li><li>5</li><li>3</li><li>5</li></ol>\n"
      ],
      "text/latex": [
       "\\begin{enumerate*}\n",
       "\\item 5\n",
       "\\item 2\n",
       "\\item 9\n",
       "\\item 8\n",
       "\\item 3\n",
       "\\item 7\n",
       "\\item 3\n",
       "\\item 5\n",
       "\\item 3\n",
       "\\item 5\n",
       "\\end{enumerate*}\n"
      ],
      "text/markdown": [
       "1. 5\n",
       "2. 2\n",
       "3. 9\n",
       "4. 8\n",
       "5. 3\n",
       "6. 7\n",
       "7. 3\n",
       "8. 5\n",
       "9. 3\n",
       "10. 5\n",
       "\n",
       "\n"
      ],
      "text/plain": [
       " [1] 5 2 9 8 3 7 3 5 3 5"
      ]
     },
     "metadata": {},
     "output_type": "display_data"
    }
   ],
   "source": [
    "beers"
   ]
  },
  {
   "cell_type": "code",
   "execution_count": 59,
   "id": "762d98a5",
   "metadata": {},
   "outputs": [],
   "source": [
    "bal = c(0.1, 0.03, 0.19, 0.12, 0.04, 0.0095, 0.07, 0.06, 0.02, 0.05)"
   ]
  },
  {
   "cell_type": "code",
   "execution_count": 60,
   "id": "9f7ec260",
   "metadata": {},
   "outputs": [
    {
     "data": {
      "text/html": [
       "<style>\n",
       ".list-inline {list-style: none; margin:0; padding: 0}\n",
       ".list-inline>li {display: inline-block}\n",
       ".list-inline>li:not(:last-child)::after {content: \"\\00b7\"; padding: 0 .5ex}\n",
       "</style>\n",
       "<ol class=list-inline><li>0.1</li><li>0.03</li><li>0.19</li><li>0.12</li><li>0.04</li><li>0.0095</li><li>0.07</li><li>0.06</li><li>0.02</li><li>0.05</li></ol>\n"
      ],
      "text/latex": [
       "\\begin{enumerate*}\n",
       "\\item 0.1\n",
       "\\item 0.03\n",
       "\\item 0.19\n",
       "\\item 0.12\n",
       "\\item 0.04\n",
       "\\item 0.0095\n",
       "\\item 0.07\n",
       "\\item 0.06\n",
       "\\item 0.02\n",
       "\\item 0.05\n",
       "\\end{enumerate*}\n"
      ],
      "text/markdown": [
       "1. 0.1\n",
       "2. 0.03\n",
       "3. 0.19\n",
       "4. 0.12\n",
       "5. 0.04\n",
       "6. 0.0095\n",
       "7. 0.07\n",
       "8. 0.06\n",
       "9. 0.02\n",
       "10. 0.05\n",
       "\n",
       "\n"
      ],
      "text/plain": [
       " [1] 0.1000 0.0300 0.1900 0.1200 0.0400 0.0095 0.0700 0.0600 0.0200 0.0500"
      ]
     },
     "metadata": {},
     "output_type": "display_data"
    }
   ],
   "source": [
    "bal"
   ]
  },
  {
   "cell_type": "code",
   "execution_count": 64,
   "id": "4a2248ee",
   "metadata": {},
   "outputs": [
    {
     "data": {
      "image/png": "[encoded data removed]",
      "text/plain": [
       "plot without title"
      ]
     },
     "metadata": {
      "image/png": {
       "height": 420,
       "width": 420
      }
     },
     "output_type": "display_data"
    }
   ],
   "source": [
    "plot(beers, bal)\n",
    "lm.res = lm(bal~beers)\n",
    "abline(lm.res)"
   ]
  },
  {
   "cell_type": "code",
   "execution_count": 65,
   "id": "3def4f56",
   "metadata": {},
   "outputs": [
    {
     "data": {
      "text/plain": [
       "\n",
       "Call:\n",
       "lm(formula = bal ~ beers)\n",
       "\n",
       "Residuals:\n",
       "     Min       1Q   Median       3Q      Max \n",
       "-0.09101 -0.01528  0.00316  0.02539  0.05793 \n",
       "\n",
       "Coefficients:\n",
       "             Estimate Std. Error t value Pr(>|t|)  \n",
       "(Intercept) -0.009950   0.032976  -0.302   0.7705  \n",
       "beers        0.015780   0.006021   2.621   0.0306 *\n",
       "---\n",
       "Signif. codes:  0 '***' 0.001 '**' 0.01 '*' 0.05 '.' 0.1 ' ' 1\n",
       "\n",
       "Residual standard error: 0.04257 on 8 degrees of freedom\n",
       "Multiple R-squared:  0.462,\tAdjusted R-squared:  0.3947 \n",
       "F-statistic:  6.87 on 1 and 8 DF,  p-value: 0.0306\n"
      ]
     },
     "metadata": {},
     "output_type": "display_data"
    }
   ],
   "source": [
    "summary(lm.res)"
   ]
  },
  {
   "cell_type": "code",
   "execution_count": 66,
   "id": "d7116f56",
   "metadata": {},
   "outputs": [
    {
     "data": {
      "text/html": [
       "<strong>1:</strong> 0.03739"
      ],
      "text/latex": [
       "\\textbf{1:} 0.03739"
      ],
      "text/markdown": [
       "**1:** 0.03739"
      ],
      "text/plain": [
       "      1 \n",
       "0.03739 "
      ]
     },
     "metadata": {},
     "output_type": "display_data"
    }
   ],
   "source": [
    "predict(lm.res, newdata = data.frame(beers = 3))"
   ]
  },
  {
   "cell_type": "code",
   "execution_count": 67,
   "id": "25dbb724",
   "metadata": {},
   "outputs": [
    {
     "data": {
      "text/html": [
       "0.03739"
      ],
      "text/latex": [
       "0.03739"
      ],
      "text/markdown": [
       "0.03739"
      ],
      "text/plain": [
       "[1] 0.03739"
      ]
     },
     "metadata": {},
     "output_type": "display_data"
    }
   ],
   "source": [
    "-0.009950 + 0.015780 * 3"
   ]
  },
  {
   "cell_type": "code",
   "execution_count": 68,
   "id": "9c38bedd",
   "metadata": {},
   "outputs": [
    {
     "data": {
      "text/html": [
       "0.679702489934742"
      ],
      "text/latex": [
       "0.679702489934742"
      ],
      "text/markdown": [
       "0.679702489934742"
      ],
      "text/plain": [
       "[1] 0.6797025"
      ]
     },
     "metadata": {},
     "output_type": "display_data"
    }
   ],
   "source": [
    "cor(beers, bal)"
   ]
  },
  {
   "cell_type": "code",
   "execution_count": 69,
   "id": "c280fcda",
   "metadata": {},
   "outputs": [],
   "source": [
    "library(MASS)"
   ]
  },
  {
   "cell_type": "code",
   "execution_count": 70,
   "id": "99cca1ff",
   "metadata": {},
   "outputs": [
    {
     "name": "stdout",
     "output_type": "stream",
     "text": [
      "Start:  AIC=-61.36\n",
      "bal ~ beers\n",
      "\n",
      "        Df Sum of Sq      RSS     AIC\n",
      "<none>               0.014499 -61.363\n",
      "- beers  1   0.01245 0.026949 -57.164\n"
     ]
    }
   ],
   "source": [
    "model2 = stepAIC(lm.res)"
   ]
  },
  {
   "cell_type": "code",
   "execution_count": 71,
   "id": "c3f4e8d3",
   "metadata": {},
   "outputs": [
    {
     "data": {
      "text/plain": [
       "\n",
       "Call:\n",
       "lm(formula = bal ~ beers)\n",
       "\n",
       "Coefficients:\n",
       "(Intercept)        beers  \n",
       "   -0.00995      0.01578  \n"
      ]
     },
     "metadata": {},
     "output_type": "display_data"
    }
   ],
   "source": [
    "model2"
   ]
  },
  {
   "cell_type": "code",
   "execution_count": 72,
   "id": "62dad43d",
   "metadata": {},
   "outputs": [],
   "source": [
    "beers = c(5, 2, 9, 8, 3, 7, 3, 5, 3, 5)"
   ]
  },
  {
   "cell_type": "code",
   "execution_count": 73,
   "id": "590f9ef0",
   "metadata": {},
   "outputs": [],
   "source": [
    "bal = c(0.10, 0.03, 0.19, 0.12, 0.04, 0.095, 0.07, 0.06, 0.02, 0.05)"
   ]
  },
  {
   "cell_type": "code",
   "execution_count": 78,
   "id": "c3a3be10",
   "metadata": {},
   "outputs": [
    {
     "data": {
      "image/png": "[encoded data removed]",
      "text/plain": [
       "plot without title"
      ]
     },
     "metadata": {
      "image/png": {
       "height": 420,
       "width": 420
      }
     },
     "output_type": "display_data"
    }
   ],
   "source": [
    "plot(beers, bal)\n",
    "lm.res = lm(bal~beers)\n",
    "abline(lm.res)"
   ]
  },
  {
   "cell_type": "code",
   "execution_count": 80,
   "id": "2d6db196",
   "metadata": {},
   "outputs": [
    {
     "data": {
      "text/plain": [
       "\n",
       "Call:\n",
       "lm(formula = bal ~ beers)\n",
       "\n",
       "Residuals:\n",
       "    Min      1Q  Median      3Q     Max \n",
       "-0.0275 -0.0187 -0.0071  0.0194  0.0357 \n",
       "\n",
       "Coefficients:\n",
       "             Estimate Std. Error t value Pr(>|t|)    \n",
       "(Intercept) -0.018500   0.019230  -0.962 0.364200    \n",
       "beers        0.019200   0.003511   5.469 0.000595 ***\n",
       "---\n",
       "Signif. codes:  0 '***' 0.001 '**' 0.01 '*' 0.05 '.' 0.1 ' ' 1\n",
       "\n",
       "Residual standard error: 0.02483 on 8 degrees of freedom\n",
       "Multiple R-squared:  0.789,\tAdjusted R-squared:  0.7626 \n",
       "F-statistic: 29.91 on 1 and 8 DF,  p-value: 0.0005953\n"
      ]
     },
     "metadata": {},
     "output_type": "display_data"
    }
   ],
   "source": [
    "summary(lm.res)"
   ]
  },
  {
   "cell_type": "code",
   "execution_count": 79,
   "id": "87834505",
   "metadata": {},
   "outputs": [
    {
     "data": {
      "text/html": [
       "<strong>1:</strong> 0.0583"
      ],
      "text/latex": [
       "\\textbf{1:} 0.0583"
      ],
      "text/markdown": [
       "**1:** 0.0583"
      ],
      "text/plain": [
       "     1 \n",
       "0.0583 "
      ]
     },
     "metadata": {},
     "output_type": "display_data"
    }
   ],
   "source": [
    "predict(lm.res, newdata=data.frame(beers = 4))"
   ]
  },
  {
   "cell_type": "code",
   "execution_count": 81,
   "id": "9ed4e09f",
   "metadata": {},
   "outputs": [
    {
     "data": {
      "text/html": [
       "0.0583"
      ],
      "text/latex": [
       "0.0583"
      ],
      "text/markdown": [
       "0.0583"
      ],
      "text/plain": [
       "[1] 0.0583"
      ]
     },
     "metadata": {},
     "output_type": "display_data"
    }
   ],
   "source": [
    "-0.018500 + 0.019200 * 4"
   ]
  },
  {
   "cell_type": "code",
   "execution_count": 82,
   "id": "5f1520eb",
   "metadata": {},
   "outputs": [
    {
     "data": {
      "text/html": [
       "0.888232323953712"
      ],
      "text/latex": [
       "0.888232323953712"
      ],
      "text/markdown": [
       "0.888232323953712"
      ],
      "text/plain": [
       "[1] 0.8882323"
      ]
     },
     "metadata": {},
     "output_type": "display_data"
    }
   ],
   "source": [
    "cor(beers, bal)"
   ]
  },
  {
   "cell_type": "code",
   "execution_count": 83,
   "id": "ddf88b89",
   "metadata": {},
   "outputs": [
    {
     "data": {
      "text/plain": [
       "\n",
       "\tPearson's product-moment correlation\n",
       "\n",
       "data:  beers and bal\n",
       "t = 5.4687, df = 8, p-value = 0.0005953\n",
       "alternative hypothesis: true correlation is not equal to 0\n",
       "95 percent confidence interval:\n",
       " 0.5867467 0.9734515\n",
       "sample estimates:\n",
       "      cor \n",
       "0.8882323 \n"
      ]
     },
     "metadata": {},
     "output_type": "display_data"
    }
   ],
   "source": [
    "cor.test(beers, bal)"
   ]
  },
  {
   "cell_type": "code",
   "execution_count": 85,
   "id": "7282c910",
   "metadata": {},
   "outputs": [
    {
     "data": {
      "text/html": [
       "<table class=\"dataframe\">\n",
       "<caption>A matrix: 2 × 2 of type dbl</caption>\n",
       "<thead>\n",
       "\t<tr><th></th><th scope=col>Petal.Length</th><th scope=col>Petal.Width</th></tr>\n",
       "</thead>\n",
       "<tbody>\n",
       "\t<tr><th scope=row>Petal.Length</th><td>1.0000000</td><td>0.9628654</td></tr>\n",
       "\t<tr><th scope=row>Petal.Width</th><td>0.9628654</td><td>1.0000000</td></tr>\n",
       "</tbody>\n",
       "</table>\n"
      ],
      "text/latex": [
       "A matrix: 2 × 2 of type dbl\n",
       "\\begin{tabular}{r|ll}\n",
       "  & Petal.Length & Petal.Width\\\\\n",
       "\\hline\n",
       "\tPetal.Length & 1.0000000 & 0.9628654\\\\\n",
       "\tPetal.Width & 0.9628654 & 1.0000000\\\\\n",
       "\\end{tabular}\n"
      ],
      "text/markdown": [
       "\n",
       "A matrix: 2 × 2 of type dbl\n",
       "\n",
       "| <!--/--> | Petal.Length | Petal.Width |\n",
       "|---|---|---|\n",
       "| Petal.Length | 1.0000000 | 0.9628654 |\n",
       "| Petal.Width | 0.9628654 | 1.0000000 |\n",
       "\n"
      ],
      "text/plain": [
       "             Petal.Length Petal.Width\n",
       "Petal.Length 1.0000000    0.9628654  \n",
       "Petal.Width  0.9628654    1.0000000  "
      ]
     },
     "metadata": {},
     "output_type": "display_data"
    }
   ],
   "source": [
    "cor(iris[,3:4])"
   ]
  },
  {
   "cell_type": "code",
   "execution_count": 87,
   "id": "07e9b18a",
   "metadata": {},
   "outputs": [
    {
     "data": {
      "text/html": [
       "<table class=\"dataframe\">\n",
       "<caption>A data.frame: 6 × 2</caption>\n",
       "<thead>\n",
       "\t<tr><th></th><th scope=col>speed</th><th scope=col>dist</th></tr>\n",
       "\t<tr><th></th><th scope=col>&lt;dbl&gt;</th><th scope=col>&lt;dbl&gt;</th></tr>\n",
       "</thead>\n",
       "<tbody>\n",
       "\t<tr><th scope=row>1</th><td>4</td><td> 2</td></tr>\n",
       "\t<tr><th scope=row>2</th><td>4</td><td>10</td></tr>\n",
       "\t<tr><th scope=row>3</th><td>7</td><td> 4</td></tr>\n",
       "\t<tr><th scope=row>4</th><td>7</td><td>22</td></tr>\n",
       "\t<tr><th scope=row>5</th><td>8</td><td>16</td></tr>\n",
       "\t<tr><th scope=row>6</th><td>9</td><td>10</td></tr>\n",
       "</tbody>\n",
       "</table>\n"
      ],
      "text/latex": [
       "A data.frame: 6 × 2\n",
       "\\begin{tabular}{r|ll}\n",
       "  & speed & dist\\\\\n",
       "  & <dbl> & <dbl>\\\\\n",
       "\\hline\n",
       "\t1 & 4 &  2\\\\\n",
       "\t2 & 4 & 10\\\\\n",
       "\t3 & 7 &  4\\\\\n",
       "\t4 & 7 & 22\\\\\n",
       "\t5 & 8 & 16\\\\\n",
       "\t6 & 9 & 10\\\\\n",
       "\\end{tabular}\n"
      ],
      "text/markdown": [
       "\n",
       "A data.frame: 6 × 2\n",
       "\n",
       "| <!--/--> | speed &lt;dbl&gt; | dist &lt;dbl&gt; |\n",
       "|---|---|---|\n",
       "| 1 | 4 |  2 |\n",
       "| 2 | 4 | 10 |\n",
       "| 3 | 7 |  4 |\n",
       "| 4 | 7 | 22 |\n",
       "| 5 | 8 | 16 |\n",
       "| 6 | 9 | 10 |\n",
       "\n"
      ],
      "text/plain": [
       "  speed dist\n",
       "1 4      2  \n",
       "2 4     10  \n",
       "3 7      4  \n",
       "4 7     22  \n",
       "5 8     16  \n",
       "6 9     10  "
      ]
     },
     "metadata": {},
     "output_type": "display_data"
    }
   ],
   "source": [
    "head(cars)"
   ]
  },
  {
   "cell_type": "code",
   "execution_count": 93,
   "id": "4ff81f21",
   "metadata": {},
   "outputs": [
    {
     "name": "stderr",
     "output_type": "stream",
     "text": [
      "Warning message in plot.window(...):\n",
      "\"\"data\" is not a graphical parameter\"\n",
      "Warning message in plot.xy(xy, type, ...):\n",
      "\"\"data\" is not a graphical parameter\"\n",
      "Warning message in axis(side = side, at = at, labels = labels, ...):\n",
      "\"\"data\" is not a graphical parameter\"\n",
      "Warning message in axis(side = side, at = at, labels = labels, ...):\n",
      "\"\"data\" is not a graphical parameter\"\n",
      "Warning message in box(...):\n",
      "\"\"data\" is not a graphical parameter\"\n",
      "Warning message in title(...):\n",
      "\"\"data\" is not a graphical parameter\"\n"
     ]
    },
    {
     "data": {
      "image/png": "[encoded data removed]",
      "text/plain": [
       "plot without title"
      ]
     },
     "metadata": {
      "image/png": {
       "height": 420,
       "width": 420
      }
     },
     "output_type": "display_data"
    }
   ],
   "source": [
    "plot(cars$speed, cars$dist, data = cars)"
   ]
  },
  {
   "cell_type": "code",
   "execution_count": 96,
   "id": "44a5701c",
   "metadata": {},
   "outputs": [
    {
     "data": {
      "image/png": "[encoded data removed]",
      "text/plain": [
       "plot without title"
      ]
     },
     "metadata": {
      "image/png": {
       "height": 420,
       "width": 420
      }
     },
     "output_type": "display_data"
    }
   ],
   "source": [
    "plot(dist~speed, data = cars)\n",
    "lm.res = lm(dist~speed, data = cars)\n",
    "abline(lm.res)"
   ]
  },
  {
   "cell_type": "code",
   "execution_count": 97,
   "id": "58588c4a",
   "metadata": {},
   "outputs": [
    {
     "data": {
      "text/plain": [
       "\n",
       "Call:\n",
       "lm(formula = dist ~ speed, data = cars)\n",
       "\n",
       "Residuals:\n",
       "    Min      1Q  Median      3Q     Max \n",
       "-29.069  -9.525  -2.272   9.215  43.201 \n",
       "\n",
       "Coefficients:\n",
       "            Estimate Std. Error t value Pr(>|t|)    \n",
       "(Intercept) -17.5791     6.7584  -2.601   0.0123 *  \n",
       "speed         3.9324     0.4155   9.464 1.49e-12 ***\n",
       "---\n",
       "Signif. codes:  0 '***' 0.001 '**' 0.01 '*' 0.05 '.' 0.1 ' ' 1\n",
       "\n",
       "Residual standard error: 15.38 on 48 degrees of freedom\n",
       "Multiple R-squared:  0.6511,\tAdjusted R-squared:  0.6438 \n",
       "F-statistic: 89.57 on 1 and 48 DF,  p-value: 1.49e-12\n"
      ]
     },
     "metadata": {},
     "output_type": "display_data"
    }
   ],
   "source": [
    "summary(lm.res)"
   ]
  },
  {
   "cell_type": "code",
   "execution_count": 98,
   "id": "bc0b9f4a",
   "metadata": {},
   "outputs": [
    {
     "data": {
      "text/html": [
       "<strong>1:</strong> 49.2718540145986"
      ],
      "text/latex": [
       "\\textbf{1:} 49.2718540145986"
      ],
      "text/markdown": [
       "**1:** 49.2718540145986"
      ],
      "text/plain": [
       "       1 \n",
       "49.27185 "
      ]
     },
     "metadata": {},
     "output_type": "display_data"
    }
   ],
   "source": [
    "predict(lm.res, newdata = data.frame(speed = 17))"
   ]
  },
  {
   "cell_type": "code",
   "execution_count": 99,
   "id": "3887aae3",
   "metadata": {},
   "outputs": [
    {
     "data": {
      "text/html": [
       "49.2717"
      ],
      "text/latex": [
       "49.2717"
      ],
      "text/markdown": [
       "49.2717"
      ],
      "text/plain": [
       "[1] 49.2717"
      ]
     },
     "metadata": {},
     "output_type": "display_data"
    }
   ],
   "source": [
    "-17.5791 + 3.9324 * 17"
   ]
  },
  {
   "cell_type": "code",
   "execution_count": 101,
   "id": "e986e67e",
   "metadata": {},
   "outputs": [
    {
     "name": "stderr",
     "output_type": "stream",
     "text": [
      "Warning message:\n",
      "\"package 'car' was built under R version 4.3.2\"\n",
      "Loading required package: carData\n",
      "\n",
      "Warning message:\n",
      "\"package 'carData' was built under R version 4.3.2\"\n"
     ]
    }
   ],
   "source": [
    "library(car)"
   ]
  },
  {
   "cell_type": "code",
   "execution_count": 102,
   "id": "e2e4413c",
   "metadata": {},
   "outputs": [
    {
     "data": {
      "text/html": [
       "<table class=\"dataframe\">\n",
       "<caption>A data.frame: 6 × 6</caption>\n",
       "<thead>\n",
       "\t<tr><th></th><th scope=col>education</th><th scope=col>income</th><th scope=col>women</th><th scope=col>prestige</th><th scope=col>census</th><th scope=col>type</th></tr>\n",
       "\t<tr><th></th><th scope=col>&lt;dbl&gt;</th><th scope=col>&lt;int&gt;</th><th scope=col>&lt;dbl&gt;</th><th scope=col>&lt;dbl&gt;</th><th scope=col>&lt;int&gt;</th><th scope=col>&lt;fct&gt;</th></tr>\n",
       "</thead>\n",
       "<tbody>\n",
       "\t<tr><th scope=row>gov.administrators</th><td>13.11</td><td>12351</td><td>11.16</td><td>68.8</td><td>1113</td><td>prof</td></tr>\n",
       "\t<tr><th scope=row>general.managers</th><td>12.26</td><td>25879</td><td> 4.02</td><td>69.1</td><td>1130</td><td>prof</td></tr>\n",
       "\t<tr><th scope=row>accountants</th><td>12.77</td><td> 9271</td><td>15.70</td><td>63.4</td><td>1171</td><td>prof</td></tr>\n",
       "\t<tr><th scope=row>purchasing.officers</th><td>11.42</td><td> 8865</td><td> 9.11</td><td>56.8</td><td>1175</td><td>prof</td></tr>\n",
       "\t<tr><th scope=row>chemists</th><td>14.62</td><td> 8403</td><td>11.68</td><td>73.5</td><td>2111</td><td>prof</td></tr>\n",
       "\t<tr><th scope=row>physicists</th><td>15.64</td><td>11030</td><td> 5.13</td><td>77.6</td><td>2113</td><td>prof</td></tr>\n",
       "</tbody>\n",
       "</table>\n"
      ],
      "text/latex": [
       "A data.frame: 6 × 6\n",
       "\\begin{tabular}{r|llllll}\n",
       "  & education & income & women & prestige & census & type\\\\\n",
       "  & <dbl> & <int> & <dbl> & <dbl> & <int> & <fct>\\\\\n",
       "\\hline\n",
       "\tgov.administrators & 13.11 & 12351 & 11.16 & 68.8 & 1113 & prof\\\\\n",
       "\tgeneral.managers & 12.26 & 25879 &  4.02 & 69.1 & 1130 & prof\\\\\n",
       "\taccountants & 12.77 &  9271 & 15.70 & 63.4 & 1171 & prof\\\\\n",
       "\tpurchasing.officers & 11.42 &  8865 &  9.11 & 56.8 & 1175 & prof\\\\\n",
       "\tchemists & 14.62 &  8403 & 11.68 & 73.5 & 2111 & prof\\\\\n",
       "\tphysicists & 15.64 & 11030 &  5.13 & 77.6 & 2113 & prof\\\\\n",
       "\\end{tabular}\n"
      ],
      "text/markdown": [
       "\n",
       "A data.frame: 6 × 6\n",
       "\n",
       "| <!--/--> | education &lt;dbl&gt; | income &lt;int&gt; | women &lt;dbl&gt; | prestige &lt;dbl&gt; | census &lt;int&gt; | type &lt;fct&gt; |\n",
       "|---|---|---|---|---|---|---|\n",
       "| gov.administrators | 13.11 | 12351 | 11.16 | 68.8 | 1113 | prof |\n",
       "| general.managers | 12.26 | 25879 |  4.02 | 69.1 | 1130 | prof |\n",
       "| accountants | 12.77 |  9271 | 15.70 | 63.4 | 1171 | prof |\n",
       "| purchasing.officers | 11.42 |  8865 |  9.11 | 56.8 | 1175 | prof |\n",
       "| chemists | 14.62 |  8403 | 11.68 | 73.5 | 2111 | prof |\n",
       "| physicists | 15.64 | 11030 |  5.13 | 77.6 | 2113 | prof |\n",
       "\n"
      ],
      "text/plain": [
       "                    education income women prestige census type\n",
       "gov.administrators  13.11     12351  11.16 68.8     1113   prof\n",
       "general.managers    12.26     25879   4.02 69.1     1130   prof\n",
       "accountants         12.77      9271  15.70 63.4     1171   prof\n",
       "purchasing.officers 11.42      8865   9.11 56.8     1175   prof\n",
       "chemists            14.62      8403  11.68 73.5     2111   prof\n",
       "physicists          15.64     11030   5.13 77.6     2113   prof"
      ]
     },
     "metadata": {},
     "output_type": "display_data"
    }
   ],
   "source": [
    "head(Prestige)"
   ]
  },
  {
   "cell_type": "code",
   "execution_count": 103,
   "id": "d9d9cc98",
   "metadata": {},
   "outputs": [
    {
     "data": {
      "text/plain": [
       "\n",
       "\tPearson's product-moment correlation\n",
       "\n",
       "data:  Prestige$income and Prestige$education\n",
       "t = 7.0753, df = 100, p-value = 2.079e-10\n",
       "alternative hypothesis: true correlation is not equal to 0\n",
       "95 percent confidence interval:\n",
       " 0.4315828 0.6940914\n",
       "sample estimates:\n",
       "      cor \n",
       "0.5775802 \n"
      ]
     },
     "metadata": {},
     "output_type": "display_data"
    }
   ],
   "source": [
    "cor.test(Prestige$income, Prestige$education)"
   ]
  },
  {
   "cell_type": "code",
   "execution_count": 104,
   "id": "54aec308",
   "metadata": {},
   "outputs": [],
   "source": [
    "newdata = Prestige[, c(1:4)]"
   ]
  },
  {
   "cell_type": "code",
   "execution_count": 105,
   "id": "8e2a01a8",
   "metadata": {},
   "outputs": [
    {
     "data": {
      "text/html": [
       "<table class=\"dataframe\">\n",
       "<caption>A data.frame: 102 × 4</caption>\n",
       "<thead>\n",
       "\t<tr><th></th><th scope=col>education</th><th scope=col>income</th><th scope=col>women</th><th scope=col>prestige</th></tr>\n",
       "\t<tr><th></th><th scope=col>&lt;dbl&gt;</th><th scope=col>&lt;int&gt;</th><th scope=col>&lt;dbl&gt;</th><th scope=col>&lt;dbl&gt;</th></tr>\n",
       "</thead>\n",
       "<tbody>\n",
       "\t<tr><th scope=row>gov.administrators</th><td>13.11</td><td>12351</td><td>11.16</td><td>68.8</td></tr>\n",
       "\t<tr><th scope=row>general.managers</th><td>12.26</td><td>25879</td><td> 4.02</td><td>69.1</td></tr>\n",
       "\t<tr><th scope=row>accountants</th><td>12.77</td><td> 9271</td><td>15.70</td><td>63.4</td></tr>\n",
       "\t<tr><th scope=row>purchasing.officers</th><td>11.42</td><td> 8865</td><td> 9.11</td><td>56.8</td></tr>\n",
       "\t<tr><th scope=row>chemists</th><td>14.62</td><td> 8403</td><td>11.68</td><td>73.5</td></tr>\n",
       "\t<tr><th scope=row>physicists</th><td>15.64</td><td>11030</td><td> 5.13</td><td>77.6</td></tr>\n",
       "\t<tr><th scope=row>biologists</th><td>15.09</td><td> 8258</td><td>25.65</td><td>72.6</td></tr>\n",
       "\t<tr><th scope=row>architects</th><td>15.44</td><td>14163</td><td> 2.69</td><td>78.1</td></tr>\n",
       "\t<tr><th scope=row>civil.engineers</th><td>14.52</td><td>11377</td><td> 1.03</td><td>73.1</td></tr>\n",
       "\t<tr><th scope=row>mining.engineers</th><td>14.64</td><td>11023</td><td> 0.94</td><td>68.8</td></tr>\n",
       "\t<tr><th scope=row>surveyors</th><td>12.39</td><td> 5902</td><td> 1.91</td><td>62.0</td></tr>\n",
       "\t<tr><th scope=row>draughtsmen</th><td>12.30</td><td> 7059</td><td> 7.83</td><td>60.0</td></tr>\n",
       "\t<tr><th scope=row>computer.programers</th><td>13.83</td><td> 8425</td><td>15.33</td><td>53.8</td></tr>\n",
       "\t<tr><th scope=row>economists</th><td>14.44</td><td> 8049</td><td>57.31</td><td>62.2</td></tr>\n",
       "\t<tr><th scope=row>psychologists</th><td>14.36</td><td> 7405</td><td>48.28</td><td>74.9</td></tr>\n",
       "\t<tr><th scope=row>social.workers</th><td>14.21</td><td> 6336</td><td>54.77</td><td>55.1</td></tr>\n",
       "\t<tr><th scope=row>lawyers</th><td>15.77</td><td>19263</td><td> 5.13</td><td>82.3</td></tr>\n",
       "\t<tr><th scope=row>librarians</th><td>14.15</td><td> 6112</td><td>77.10</td><td>58.1</td></tr>\n",
       "\t<tr><th scope=row>vocational.counsellors</th><td>15.22</td><td> 9593</td><td>34.89</td><td>58.3</td></tr>\n",
       "\t<tr><th scope=row>ministers</th><td>14.50</td><td> 4686</td><td> 4.14</td><td>72.8</td></tr>\n",
       "\t<tr><th scope=row>university.teachers</th><td>15.97</td><td>12480</td><td>19.59</td><td>84.6</td></tr>\n",
       "\t<tr><th scope=row>primary.school.teachers</th><td>13.62</td><td> 5648</td><td>83.78</td><td>59.6</td></tr>\n",
       "\t<tr><th scope=row>secondary.school.teachers</th><td>15.08</td><td> 8034</td><td>46.80</td><td>66.1</td></tr>\n",
       "\t<tr><th scope=row>physicians</th><td>15.96</td><td>25308</td><td>10.56</td><td>87.2</td></tr>\n",
       "\t<tr><th scope=row>veterinarians</th><td>15.94</td><td>14558</td><td> 4.32</td><td>66.7</td></tr>\n",
       "\t<tr><th scope=row>osteopaths.chiropractors</th><td>14.71</td><td>17498</td><td> 6.91</td><td>68.4</td></tr>\n",
       "\t<tr><th scope=row>nurses</th><td>12.46</td><td> 4614</td><td>96.12</td><td>64.7</td></tr>\n",
       "\t<tr><th scope=row>nursing.aides</th><td> 9.45</td><td> 3485</td><td>76.14</td><td>34.9</td></tr>\n",
       "\t<tr><th scope=row>physio.therapsts</th><td>13.62</td><td> 5092</td><td>82.66</td><td>72.1</td></tr>\n",
       "\t<tr><th scope=row>pharmacists</th><td>15.21</td><td>10432</td><td>24.71</td><td>69.3</td></tr>\n",
       "\t<tr><th scope=row>⋮</th><td>⋮</td><td>⋮</td><td>⋮</td><td>⋮</td></tr>\n",
       "\t<tr><th scope=row>canners</th><td> 7.42</td><td> 1890</td><td>72.24</td><td>23.2</td></tr>\n",
       "\t<tr><th scope=row>textile.weavers</th><td> 6.69</td><td> 4443</td><td>31.36</td><td>33.3</td></tr>\n",
       "\t<tr><th scope=row>textile.labourers</th><td> 6.74</td><td> 3485</td><td>39.48</td><td>28.8</td></tr>\n",
       "\t<tr><th scope=row>tool.die.makers</th><td>10.09</td><td> 8043</td><td> 1.50</td><td>42.5</td></tr>\n",
       "\t<tr><th scope=row>machinists</th><td> 8.81</td><td> 6686</td><td> 4.28</td><td>44.2</td></tr>\n",
       "\t<tr><th scope=row>sheet.metal.workers</th><td> 8.40</td><td> 6565</td><td> 2.30</td><td>35.9</td></tr>\n",
       "\t<tr><th scope=row>welders</th><td> 7.92</td><td> 6477</td><td> 5.17</td><td>41.8</td></tr>\n",
       "\t<tr><th scope=row>auto.workers</th><td> 8.43</td><td> 5811</td><td>13.62</td><td>35.9</td></tr>\n",
       "\t<tr><th scope=row>aircraft.workers</th><td> 8.78</td><td> 6573</td><td> 5.78</td><td>43.7</td></tr>\n",
       "\t<tr><th scope=row>electronic.workers</th><td> 8.76</td><td> 3942</td><td>74.54</td><td>50.8</td></tr>\n",
       "\t<tr><th scope=row>radio.tv.repairmen</th><td>10.29</td><td> 5449</td><td> 2.92</td><td>37.2</td></tr>\n",
       "\t<tr><th scope=row>sewing.mach.operators</th><td> 6.38</td><td> 2847</td><td>90.67</td><td>28.2</td></tr>\n",
       "\t<tr><th scope=row>auto.repairmen</th><td> 8.10</td><td> 5795</td><td> 0.81</td><td>38.1</td></tr>\n",
       "\t<tr><th scope=row>aircraft.repairmen</th><td>10.10</td><td> 7716</td><td> 0.78</td><td>50.3</td></tr>\n",
       "\t<tr><th scope=row>railway.sectionmen</th><td> 6.67</td><td> 4696</td><td> 0.00</td><td>27.3</td></tr>\n",
       "\t<tr><th scope=row>electrical.linemen</th><td> 9.05</td><td> 8316</td><td> 1.34</td><td>40.9</td></tr>\n",
       "\t<tr><th scope=row>electricians</th><td> 9.93</td><td> 7147</td><td> 0.99</td><td>50.2</td></tr>\n",
       "\t<tr><th scope=row>construction.foremen</th><td> 8.24</td><td> 8880</td><td> 0.65</td><td>51.1</td></tr>\n",
       "\t<tr><th scope=row>carpenters</th><td> 6.92</td><td> 5299</td><td> 0.56</td><td>38.9</td></tr>\n",
       "\t<tr><th scope=row>masons</th><td> 6.60</td><td> 5959</td><td> 0.52</td><td>36.2</td></tr>\n",
       "\t<tr><th scope=row>house.painters</th><td> 7.81</td><td> 4549</td><td> 2.46</td><td>29.9</td></tr>\n",
       "\t<tr><th scope=row>plumbers</th><td> 8.33</td><td> 6928</td><td> 0.61</td><td>42.9</td></tr>\n",
       "\t<tr><th scope=row>construction.labourers</th><td> 7.52</td><td> 3910</td><td> 1.09</td><td>26.5</td></tr>\n",
       "\t<tr><th scope=row>pilots</th><td>12.27</td><td>14032</td><td> 0.58</td><td>66.1</td></tr>\n",
       "\t<tr><th scope=row>train.engineers</th><td> 8.49</td><td> 8845</td><td> 0.00</td><td>48.9</td></tr>\n",
       "\t<tr><th scope=row>bus.drivers</th><td> 7.58</td><td> 5562</td><td> 9.47</td><td>35.9</td></tr>\n",
       "\t<tr><th scope=row>taxi.drivers</th><td> 7.93</td><td> 4224</td><td> 3.59</td><td>25.1</td></tr>\n",
       "\t<tr><th scope=row>longshoremen</th><td> 8.37</td><td> 4753</td><td> 0.00</td><td>26.1</td></tr>\n",
       "\t<tr><th scope=row>typesetters</th><td>10.00</td><td> 6462</td><td>13.58</td><td>42.2</td></tr>\n",
       "\t<tr><th scope=row>bookbinders</th><td> 8.55</td><td> 3617</td><td>70.87</td><td>35.2</td></tr>\n",
       "</tbody>\n",
       "</table>\n"
      ],
      "text/latex": [
       "A data.frame: 102 × 4\n",
       "\\begin{tabular}{r|llll}\n",
       "  & education & income & women & prestige\\\\\n",
       "  & <dbl> & <int> & <dbl> & <dbl>\\\\\n",
       "\\hline\n",
       "\tgov.administrators & 13.11 & 12351 & 11.16 & 68.8\\\\\n",
       "\tgeneral.managers & 12.26 & 25879 &  4.02 & 69.1\\\\\n",
       "\taccountants & 12.77 &  9271 & 15.70 & 63.4\\\\\n",
       "\tpurchasing.officers & 11.42 &  8865 &  9.11 & 56.8\\\\\n",
       "\tchemists & 14.62 &  8403 & 11.68 & 73.5\\\\\n",
       "\tphysicists & 15.64 & 11030 &  5.13 & 77.6\\\\\n",
       "\tbiologists & 15.09 &  8258 & 25.65 & 72.6\\\\\n",
       "\tarchitects & 15.44 & 14163 &  2.69 & 78.1\\\\\n",
       "\tcivil.engineers & 14.52 & 11377 &  1.03 & 73.1\\\\\n",
       "\tmining.engineers & 14.64 & 11023 &  0.94 & 68.8\\\\\n",
       "\tsurveyors & 12.39 &  5902 &  1.91 & 62.0\\\\\n",
       "\tdraughtsmen & 12.30 &  7059 &  7.83 & 60.0\\\\\n",
       "\tcomputer.programers & 13.83 &  8425 & 15.33 & 53.8\\\\\n",
       "\teconomists & 14.44 &  8049 & 57.31 & 62.2\\\\\n",
       "\tpsychologists & 14.36 &  7405 & 48.28 & 74.9\\\\\n",
       "\tsocial.workers & 14.21 &  6336 & 54.77 & 55.1\\\\\n",
       "\tlawyers & 15.77 & 19263 &  5.13 & 82.3\\\\\n",
       "\tlibrarians & 14.15 &  6112 & 77.10 & 58.1\\\\\n",
       "\tvocational.counsellors & 15.22 &  9593 & 34.89 & 58.3\\\\\n",
       "\tministers & 14.50 &  4686 &  4.14 & 72.8\\\\\n",
       "\tuniversity.teachers & 15.97 & 12480 & 19.59 & 84.6\\\\\n",
       "\tprimary.school.teachers & 13.62 &  5648 & 83.78 & 59.6\\\\\n",
       "\tsecondary.school.teachers & 15.08 &  8034 & 46.80 & 66.1\\\\\n",
       "\tphysicians & 15.96 & 25308 & 10.56 & 87.2\\\\\n",
       "\tveterinarians & 15.94 & 14558 &  4.32 & 66.7\\\\\n",
       "\tosteopaths.chiropractors & 14.71 & 17498 &  6.91 & 68.4\\\\\n",
       "\tnurses & 12.46 &  4614 & 96.12 & 64.7\\\\\n",
       "\tnursing.aides &  9.45 &  3485 & 76.14 & 34.9\\\\\n",
       "\tphysio.therapsts & 13.62 &  5092 & 82.66 & 72.1\\\\\n",
       "\tpharmacists & 15.21 & 10432 & 24.71 & 69.3\\\\\n",
       "\t⋮ & ⋮ & ⋮ & ⋮ & ⋮\\\\\n",
       "\tcanners &  7.42 &  1890 & 72.24 & 23.2\\\\\n",
       "\ttextile.weavers &  6.69 &  4443 & 31.36 & 33.3\\\\\n",
       "\ttextile.labourers &  6.74 &  3485 & 39.48 & 28.8\\\\\n",
       "\ttool.die.makers & 10.09 &  8043 &  1.50 & 42.5\\\\\n",
       "\tmachinists &  8.81 &  6686 &  4.28 & 44.2\\\\\n",
       "\tsheet.metal.workers &  8.40 &  6565 &  2.30 & 35.9\\\\\n",
       "\twelders &  7.92 &  6477 &  5.17 & 41.8\\\\\n",
       "\tauto.workers &  8.43 &  5811 & 13.62 & 35.9\\\\\n",
       "\taircraft.workers &  8.78 &  6573 &  5.78 & 43.7\\\\\n",
       "\telectronic.workers &  8.76 &  3942 & 74.54 & 50.8\\\\\n",
       "\tradio.tv.repairmen & 10.29 &  5449 &  2.92 & 37.2\\\\\n",
       "\tsewing.mach.operators &  6.38 &  2847 & 90.67 & 28.2\\\\\n",
       "\tauto.repairmen &  8.10 &  5795 &  0.81 & 38.1\\\\\n",
       "\taircraft.repairmen & 10.10 &  7716 &  0.78 & 50.3\\\\\n",
       "\trailway.sectionmen &  6.67 &  4696 &  0.00 & 27.3\\\\\n",
       "\telectrical.linemen &  9.05 &  8316 &  1.34 & 40.9\\\\\n",
       "\telectricians &  9.93 &  7147 &  0.99 & 50.2\\\\\n",
       "\tconstruction.foremen &  8.24 &  8880 &  0.65 & 51.1\\\\\n",
       "\tcarpenters &  6.92 &  5299 &  0.56 & 38.9\\\\\n",
       "\tmasons &  6.60 &  5959 &  0.52 & 36.2\\\\\n",
       "\thouse.painters &  7.81 &  4549 &  2.46 & 29.9\\\\\n",
       "\tplumbers &  8.33 &  6928 &  0.61 & 42.9\\\\\n",
       "\tconstruction.labourers &  7.52 &  3910 &  1.09 & 26.5\\\\\n",
       "\tpilots & 12.27 & 14032 &  0.58 & 66.1\\\\\n",
       "\ttrain.engineers &  8.49 &  8845 &  0.00 & 48.9\\\\\n",
       "\tbus.drivers &  7.58 &  5562 &  9.47 & 35.9\\\\\n",
       "\ttaxi.drivers &  7.93 &  4224 &  3.59 & 25.1\\\\\n",
       "\tlongshoremen &  8.37 &  4753 &  0.00 & 26.1\\\\\n",
       "\ttypesetters & 10.00 &  6462 & 13.58 & 42.2\\\\\n",
       "\tbookbinders &  8.55 &  3617 & 70.87 & 35.2\\\\\n",
       "\\end{tabular}\n"
      ],
      "text/markdown": [
       "\n",
       "A data.frame: 102 × 4\n",
       "\n",
       "| <!--/--> | education &lt;dbl&gt; | income &lt;int&gt; | women &lt;dbl&gt; | prestige &lt;dbl&gt; |\n",
       "|---|---|---|---|---|\n",
       "| gov.administrators | 13.11 | 12351 | 11.16 | 68.8 |\n",
       "| general.managers | 12.26 | 25879 |  4.02 | 69.1 |\n",
       "| accountants | 12.77 |  9271 | 15.70 | 63.4 |\n",
       "| purchasing.officers | 11.42 |  8865 |  9.11 | 56.8 |\n",
       "| chemists | 14.62 |  8403 | 11.68 | 73.5 |\n",
       "| physicists | 15.64 | 11030 |  5.13 | 77.6 |\n",
       "| biologists | 15.09 |  8258 | 25.65 | 72.6 |\n",
       "| architects | 15.44 | 14163 |  2.69 | 78.1 |\n",
       "| civil.engineers | 14.52 | 11377 |  1.03 | 73.1 |\n",
       "| mining.engineers | 14.64 | 11023 |  0.94 | 68.8 |\n",
       "| surveyors | 12.39 |  5902 |  1.91 | 62.0 |\n",
       "| draughtsmen | 12.30 |  7059 |  7.83 | 60.0 |\n",
       "| computer.programers | 13.83 |  8425 | 15.33 | 53.8 |\n",
       "| economists | 14.44 |  8049 | 57.31 | 62.2 |\n",
       "| psychologists | 14.36 |  7405 | 48.28 | 74.9 |\n",
       "| social.workers | 14.21 |  6336 | 54.77 | 55.1 |\n",
       "| lawyers | 15.77 | 19263 |  5.13 | 82.3 |\n",
       "| librarians | 14.15 |  6112 | 77.10 | 58.1 |\n",
       "| vocational.counsellors | 15.22 |  9593 | 34.89 | 58.3 |\n",
       "| ministers | 14.50 |  4686 |  4.14 | 72.8 |\n",
       "| university.teachers | 15.97 | 12480 | 19.59 | 84.6 |\n",
       "| primary.school.teachers | 13.62 |  5648 | 83.78 | 59.6 |\n",
       "| secondary.school.teachers | 15.08 |  8034 | 46.80 | 66.1 |\n",
       "| physicians | 15.96 | 25308 | 10.56 | 87.2 |\n",
       "| veterinarians | 15.94 | 14558 |  4.32 | 66.7 |\n",
       "| osteopaths.chiropractors | 14.71 | 17498 |  6.91 | 68.4 |\n",
       "| nurses | 12.46 |  4614 | 96.12 | 64.7 |\n",
       "| nursing.aides |  9.45 |  3485 | 76.14 | 34.9 |\n",
       "| physio.therapsts | 13.62 |  5092 | 82.66 | 72.1 |\n",
       "| pharmacists | 15.21 | 10432 | 24.71 | 69.3 |\n",
       "| ⋮ | ⋮ | ⋮ | ⋮ | ⋮ |\n",
       "| canners |  7.42 |  1890 | 72.24 | 23.2 |\n",
       "| textile.weavers |  6.69 |  4443 | 31.36 | 33.3 |\n",
       "| textile.labourers |  6.74 |  3485 | 39.48 | 28.8 |\n",
       "| tool.die.makers | 10.09 |  8043 |  1.50 | 42.5 |\n",
       "| machinists |  8.81 |  6686 |  4.28 | 44.2 |\n",
       "| sheet.metal.workers |  8.40 |  6565 |  2.30 | 35.9 |\n",
       "| welders |  7.92 |  6477 |  5.17 | 41.8 |\n",
       "| auto.workers |  8.43 |  5811 | 13.62 | 35.9 |\n",
       "| aircraft.workers |  8.78 |  6573 |  5.78 | 43.7 |\n",
       "| electronic.workers |  8.76 |  3942 | 74.54 | 50.8 |\n",
       "| radio.tv.repairmen | 10.29 |  5449 |  2.92 | 37.2 |\n",
       "| sewing.mach.operators |  6.38 |  2847 | 90.67 | 28.2 |\n",
       "| auto.repairmen |  8.10 |  5795 |  0.81 | 38.1 |\n",
       "| aircraft.repairmen | 10.10 |  7716 |  0.78 | 50.3 |\n",
       "| railway.sectionmen |  6.67 |  4696 |  0.00 | 27.3 |\n",
       "| electrical.linemen |  9.05 |  8316 |  1.34 | 40.9 |\n",
       "| electricians |  9.93 |  7147 |  0.99 | 50.2 |\n",
       "| construction.foremen |  8.24 |  8880 |  0.65 | 51.1 |\n",
       "| carpenters |  6.92 |  5299 |  0.56 | 38.9 |\n",
       "| masons |  6.60 |  5959 |  0.52 | 36.2 |\n",
       "| house.painters |  7.81 |  4549 |  2.46 | 29.9 |\n",
       "| plumbers |  8.33 |  6928 |  0.61 | 42.9 |\n",
       "| construction.labourers |  7.52 |  3910 |  1.09 | 26.5 |\n",
       "| pilots | 12.27 | 14032 |  0.58 | 66.1 |\n",
       "| train.engineers |  8.49 |  8845 |  0.00 | 48.9 |\n",
       "| bus.drivers |  7.58 |  5562 |  9.47 | 35.9 |\n",
       "| taxi.drivers |  7.93 |  4224 |  3.59 | 25.1 |\n",
       "| longshoremen |  8.37 |  4753 |  0.00 | 26.1 |\n",
       "| typesetters | 10.00 |  6462 | 13.58 | 42.2 |\n",
       "| bookbinders |  8.55 |  3617 | 70.87 | 35.2 |\n",
       "\n"
      ],
      "text/plain": [
       "                          education income women prestige\n",
       "gov.administrators        13.11     12351  11.16 68.8    \n",
       "general.managers          12.26     25879   4.02 69.1    \n",
       "accountants               12.77      9271  15.70 63.4    \n",
       "purchasing.officers       11.42      8865   9.11 56.8    \n",
       "chemists                  14.62      8403  11.68 73.5    \n",
       "physicists                15.64     11030   5.13 77.6    \n",
       "biologists                15.09      8258  25.65 72.6    \n",
       "architects                15.44     14163   2.69 78.1    \n",
       "civil.engineers           14.52     11377   1.03 73.1    \n",
       "mining.engineers          14.64     11023   0.94 68.8    \n",
       "surveyors                 12.39      5902   1.91 62.0    \n",
       "draughtsmen               12.30      7059   7.83 60.0    \n",
       "computer.programers       13.83      8425  15.33 53.8    \n",
       "economists                14.44      8049  57.31 62.2    \n",
       "psychologists             14.36      7405  48.28 74.9    \n",
       "social.workers            14.21      6336  54.77 55.1    \n",
       "lawyers                   15.77     19263   5.13 82.3    \n",
       "librarians                14.15      6112  77.10 58.1    \n",
       "vocational.counsellors    15.22      9593  34.89 58.3    \n",
       "ministers                 14.50      4686   4.14 72.8    \n",
       "university.teachers       15.97     12480  19.59 84.6    \n",
       "primary.school.teachers   13.62      5648  83.78 59.6    \n",
       "secondary.school.teachers 15.08      8034  46.80 66.1    \n",
       "physicians                15.96     25308  10.56 87.2    \n",
       "veterinarians             15.94     14558   4.32 66.7    \n",
       "osteopaths.chiropractors  14.71     17498   6.91 68.4    \n",
       "nurses                    12.46      4614  96.12 64.7    \n",
       "nursing.aides              9.45      3485  76.14 34.9    \n",
       "physio.therapsts          13.62      5092  82.66 72.1    \n",
       "pharmacists               15.21     10432  24.71 69.3    \n",
       "⋮                         ⋮         ⋮      ⋮     ⋮       \n",
       "canners                    7.42      1890  72.24 23.2    \n",
       "textile.weavers            6.69      4443  31.36 33.3    \n",
       "textile.labourers          6.74      3485  39.48 28.8    \n",
       "tool.die.makers           10.09      8043   1.50 42.5    \n",
       "machinists                 8.81      6686   4.28 44.2    \n",
       "sheet.metal.workers        8.40      6565   2.30 35.9    \n",
       "welders                    7.92      6477   5.17 41.8    \n",
       "auto.workers               8.43      5811  13.62 35.9    \n",
       "aircraft.workers           8.78      6573   5.78 43.7    \n",
       "electronic.workers         8.76      3942  74.54 50.8    \n",
       "radio.tv.repairmen        10.29      5449   2.92 37.2    \n",
       "sewing.mach.operators      6.38      2847  90.67 28.2    \n",
       "auto.repairmen             8.10      5795   0.81 38.1    \n",
       "aircraft.repairmen        10.10      7716   0.78 50.3    \n",
       "railway.sectionmen         6.67      4696   0.00 27.3    \n",
       "electrical.linemen         9.05      8316   1.34 40.9    \n",
       "electricians               9.93      7147   0.99 50.2    \n",
       "construction.foremen       8.24      8880   0.65 51.1    \n",
       "carpenters                 6.92      5299   0.56 38.9    \n",
       "masons                     6.60      5959   0.52 36.2    \n",
       "house.painters             7.81      4549   2.46 29.9    \n",
       "plumbers                   8.33      6928   0.61 42.9    \n",
       "construction.labourers     7.52      3910   1.09 26.5    \n",
       "pilots                    12.27     14032   0.58 66.1    \n",
       "train.engineers            8.49      8845   0.00 48.9    \n",
       "bus.drivers                7.58      5562   9.47 35.9    \n",
       "taxi.drivers               7.93      4224   3.59 25.1    \n",
       "longshoremen               8.37      4753   0.00 26.1    \n",
       "typesetters               10.00      6462  13.58 42.2    \n",
       "bookbinders                8.55      3617  70.87 35.2    "
      ]
     },
     "metadata": {},
     "output_type": "display_data"
    }
   ],
   "source": [
    "newdata"
   ]
  },
  {
   "cell_type": "code",
   "execution_count": 109,
   "id": "0cce1610",
   "metadata": {},
   "outputs": [
    {
     "data": {
      "image/png": "[encoded data removed]",
      "text/plain": [
       "plot without title"
      ]
     },
     "metadata": {
      "image/png": {
       "height": 420,
       "width": 420
      }
     },
     "output_type": "display_data"
    }
   ],
   "source": [
    "plot(newdata, pch = 16, col = 'blue',\n",
    "    main = 'Matrix Scatterplot')"
   ]
  },
  {
   "cell_type": "code",
   "execution_count": 110,
   "id": "214c72c5",
   "metadata": {},
   "outputs": [],
   "source": [
    "mode1 = lm(income~prestige + women, data = Prestige)"
   ]
  },
  {
   "cell_type": "code",
   "execution_count": 111,
   "id": "38c51114",
   "metadata": {},
   "outputs": [
    {
     "data": {
      "text/plain": [
       "\n",
       "Call:\n",
       "lm(formula = income ~ prestige + women, data = Prestige)\n",
       "\n",
       "Coefficients:\n",
       "(Intercept)     prestige        women  \n",
       "     431.57       165.87       -48.38  \n"
      ]
     },
     "metadata": {},
     "output_type": "display_data"
    }
   ],
   "source": [
    "mode1"
   ]
  },
  {
   "cell_type": "code",
   "execution_count": 112,
   "id": "856b8419",
   "metadata": {},
   "outputs": [
    {
     "data": {
      "text/plain": [
       "\n",
       "Call:\n",
       "lm(formula = income ~ prestige + women, data = Prestige)\n",
       "\n",
       "Residuals:\n",
       "    Min      1Q  Median      3Q     Max \n",
       "-7620.9 -1008.7  -240.4   873.1 14180.0 \n",
       "\n",
       "Coefficients:\n",
       "            Estimate Std. Error t value Pr(>|t|)    \n",
       "(Intercept)  431.574    807.630   0.534    0.594    \n",
       "prestige     165.875     14.988  11.067  < 2e-16 ***\n",
       "women        -48.385      8.128  -5.953 4.02e-08 ***\n",
       "---\n",
       "Signif. codes:  0 '***' 0.001 '**' 0.01 '*' 0.05 '.' 0.1 ' ' 1\n",
       "\n",
       "Residual standard error: 2573 on 99 degrees of freedom\n",
       "Multiple R-squared:   0.64,\tAdjusted R-squared:  0.6327 \n",
       "F-statistic: 87.98 on 2 and 99 DF,  p-value: < 2.2e-16\n"
      ]
     },
     "metadata": {},
     "output_type": "display_data"
    }
   ],
   "source": [
    "summary(mode1)"
   ]
  },
  {
   "cell_type": "code",
   "execution_count": 116,
   "id": "0c2aa1e8",
   "metadata": {},
   "outputs": [
    {
     "data": {
      "text/html": [
       "<table class=\"dataframe\">\n",
       "<caption>A data.frame: 6 × 6</caption>\n",
       "<thead>\n",
       "\t<tr><th></th><th scope=col>education</th><th scope=col>income</th><th scope=col>women</th><th scope=col>prestige</th><th scope=col>census</th><th scope=col>type</th></tr>\n",
       "\t<tr><th></th><th scope=col>&lt;dbl&gt;</th><th scope=col>&lt;int&gt;</th><th scope=col>&lt;dbl&gt;</th><th scope=col>&lt;dbl&gt;</th><th scope=col>&lt;int&gt;</th><th scope=col>&lt;fct&gt;</th></tr>\n",
       "</thead>\n",
       "<tbody>\n",
       "\t<tr><th scope=row>gov.administrators</th><td>13.11</td><td>12351</td><td>11.16</td><td>68.8</td><td>1113</td><td>prof</td></tr>\n",
       "\t<tr><th scope=row>general.managers</th><td>12.26</td><td>25879</td><td> 4.02</td><td>69.1</td><td>1130</td><td>prof</td></tr>\n",
       "\t<tr><th scope=row>accountants</th><td>12.77</td><td> 9271</td><td>15.70</td><td>63.4</td><td>1171</td><td>prof</td></tr>\n",
       "\t<tr><th scope=row>purchasing.officers</th><td>11.42</td><td> 8865</td><td> 9.11</td><td>56.8</td><td>1175</td><td>prof</td></tr>\n",
       "\t<tr><th scope=row>chemists</th><td>14.62</td><td> 8403</td><td>11.68</td><td>73.5</td><td>2111</td><td>prof</td></tr>\n",
       "\t<tr><th scope=row>physicists</th><td>15.64</td><td>11030</td><td> 5.13</td><td>77.6</td><td>2113</td><td>prof</td></tr>\n",
       "</tbody>\n",
       "</table>\n"
      ],
      "text/latex": [
       "A data.frame: 6 × 6\n",
       "\\begin{tabular}{r|llllll}\n",
       "  & education & income & women & prestige & census & type\\\\\n",
       "  & <dbl> & <int> & <dbl> & <dbl> & <int> & <fct>\\\\\n",
       "\\hline\n",
       "\tgov.administrators & 13.11 & 12351 & 11.16 & 68.8 & 1113 & prof\\\\\n",
       "\tgeneral.managers & 12.26 & 25879 &  4.02 & 69.1 & 1130 & prof\\\\\n",
       "\taccountants & 12.77 &  9271 & 15.70 & 63.4 & 1171 & prof\\\\\n",
       "\tpurchasing.officers & 11.42 &  8865 &  9.11 & 56.8 & 1175 & prof\\\\\n",
       "\tchemists & 14.62 &  8403 & 11.68 & 73.5 & 2111 & prof\\\\\n",
       "\tphysicists & 15.64 & 11030 &  5.13 & 77.6 & 2113 & prof\\\\\n",
       "\\end{tabular}\n"
      ],
      "text/markdown": [
       "\n",
       "A data.frame: 6 × 6\n",
       "\n",
       "| <!--/--> | education &lt;dbl&gt; | income &lt;int&gt; | women &lt;dbl&gt; | prestige &lt;dbl&gt; | census &lt;int&gt; | type &lt;fct&gt; |\n",
       "|---|---|---|---|---|---|---|\n",
       "| gov.administrators | 13.11 | 12351 | 11.16 | 68.8 | 1113 | prof |\n",
       "| general.managers | 12.26 | 25879 |  4.02 | 69.1 | 1130 | prof |\n",
       "| accountants | 12.77 |  9271 | 15.70 | 63.4 | 1171 | prof |\n",
       "| purchasing.officers | 11.42 |  8865 |  9.11 | 56.8 | 1175 | prof |\n",
       "| chemists | 14.62 |  8403 | 11.68 | 73.5 | 2111 | prof |\n",
       "| physicists | 15.64 | 11030 |  5.13 | 77.6 | 2113 | prof |\n",
       "\n"
      ],
      "text/plain": [
       "                    education income women prestige census type\n",
       "gov.administrators  13.11     12351  11.16 68.8     1113   prof\n",
       "general.managers    12.26     25879   4.02 69.1     1130   prof\n",
       "accountants         12.77      9271  15.70 63.4     1171   prof\n",
       "purchasing.officers 11.42      8865   9.11 56.8     1175   prof\n",
       "chemists            14.62      8403  11.68 73.5     2111   prof\n",
       "physicists          15.64     11030   5.13 77.6     2113   prof"
      ]
     },
     "metadata": {},
     "output_type": "display_data"
    }
   ],
   "source": [
    "head(Prestige)"
   ]
  },
  {
   "cell_type": "code",
   "execution_count": 120,
   "id": "aeb37e59",
   "metadata": {},
   "outputs": [
    {
     "data": {
      "text/plain": [
       "\n",
       "Call:\n",
       "lm(formula = income ~ prestige + women, data = Prestige)\n",
       "\n",
       "Residuals:\n",
       "    Min      1Q  Median      3Q     Max \n",
       "-7620.9 -1008.7  -240.4   873.1 14180.0 \n",
       "\n",
       "Coefficients:\n",
       "            Estimate Std. Error t value Pr(>|t|)    \n",
       "(Intercept)  431.574    807.630   0.534    0.594    \n",
       "prestige     165.875     14.988  11.067  < 2e-16 ***\n",
       "women        -48.385      8.128  -5.953 4.02e-08 ***\n",
       "---\n",
       "Signif. codes:  0 '***' 0.001 '**' 0.01 '*' 0.05 '.' 0.1 ' ' 1\n",
       "\n",
       "Residual standard error: 2573 on 99 degrees of freedom\n",
       "Multiple R-squared:   0.64,\tAdjusted R-squared:  0.6327 \n",
       "F-statistic: 87.98 on 2 and 99 DF,  p-value: < 2.2e-16\n"
      ]
     },
     "metadata": {},
     "output_type": "display_data"
    }
   ],
   "source": [
    "summary(mode1)"
   ]
  },
  {
   "cell_type": "code",
   "execution_count": 117,
   "id": "c78930be",
   "metadata": {},
   "outputs": [
    {
     "data": {
      "text/html": [
       "<strong>1:</strong> 6824.64267194135"
      ],
      "text/latex": [
       "\\textbf{1:} 6824.64267194135"
      ],
      "text/markdown": [
       "**1:** 6824.64267194135"
      ],
      "text/plain": [
       "       1 \n",
       "6824.643 "
      ]
     },
     "metadata": {},
     "output_type": "display_data"
    }
   ],
   "source": [
    "predict(mode1, newdata = data.frame(education = 11.2, prestige = 40, women = 5))"
   ]
  },
  {
   "cell_type": "code",
   "execution_count": 124,
   "id": "46ea3998",
   "metadata": {},
   "outputs": [
    {
     "data": {
      "text/html": [
       "<strong>1:</strong> 6824.64267194135"
      ],
      "text/latex": [
       "\\textbf{1:} 6824.64267194135"
      ],
      "text/markdown": [
       "**1:** 6824.64267194135"
      ],
      "text/plain": [
       "       1 \n",
       "6824.643 "
      ]
     },
     "metadata": {},
     "output_type": "display_data"
    }
   ],
   "source": [
    "predict(mode1, newdata = data.frame(prestige = 40, women = 5))"
   ]
  },
  {
   "cell_type": "code",
   "execution_count": 122,
   "id": "2c456ca4",
   "metadata": {},
   "outputs": [
    {
     "data": {
      "text/html": [
       "6824.649"
      ],
      "text/latex": [
       "6824.649"
      ],
      "text/markdown": [
       "6824.649"
      ],
      "text/plain": [
       "[1] 6824.649"
      ]
     },
     "metadata": {},
     "output_type": "display_data"
    }
   ],
   "source": [
    "431.574 + 165.875 * 40 + -48.385 * 5"
   ]
  },
  {
   "cell_type": "code",
   "execution_count": 125,
   "id": "65fbf7e5",
   "metadata": {},
   "outputs": [
    {
     "data": {
      "text/plain": [
       "fab\n",
       " Layla Lumine nahida  Nilou   qiqi \n",
       "     3      1      1      2      1 "
      ]
     },
     "metadata": {},
     "output_type": "display_data"
    }
   ],
   "source": [
    "fab = c('Layla','Layla','Lumine','Nilou','Nilou','qiqi', 'Layla', 'nahida')\n",
    "table(fab)"
   ]
  },
  {
   "cell_type": "code",
   "execution_count": 129,
   "id": "2d712b78",
   "metadata": {},
   "outputs": [
    {
     "data": {
      "image/png": "[encoded data removed]",
      "text/plain": [
       "Plot with title \"Favorite Chractor\""
      ]
     },
     "metadata": {
      "image/png": {
       "height": 420,
       "width": 420
      }
     },
     "output_type": "display_data"
    }
   ],
   "source": [
    "barplot(table(fab), main ='Favorite Chractor',\n",
    "       xlab = 'Charactor Name',\n",
    "       ylab = 'Count',\n",
    "       col = c('skyblue','yellow','green','blue','skyblue'))"
   ]
  },
  {
   "cell_type": "code",
   "execution_count": 132,
   "id": "46f8cf93",
   "metadata": {},
   "outputs": [
    {
     "data": {
      "image/png": "[encoded data removed]",
      "text/plain": [
       "Plot with title \"Favorite Chractor\""
      ]
     },
     "metadata": {
      "image/png": {
       "height": 420,
       "width": 420
      }
     },
     "output_type": "display_data"
    }
   ],
   "source": [
    "barplot(table(fab), main ='Favorite Chractor',\n",
    "       xlab = 'Charactor Name',\n",
    "       ylab = 'Count',\n",
    "       col = c('skyblue','yellow','green','blue','skyblue'),\n",
    "       legend.text = T,\n",
    "       args.legend = list(bty = 'n'))"
   ]
  },
  {
   "cell_type": "code",
   "execution_count": 135,
   "id": "16ebf504",
   "metadata": {},
   "outputs": [
    {
     "data": {
      "image/png": "[encoded data removed]",
      "text/plain": [
       "Plot with title \"Favorite Charactor\""
      ]
     },
     "metadata": {
      "image/png": {
       "height": 420,
       "width": 420
      }
     },
     "output_type": "display_data"
    }
   ],
   "source": [
    "pie(table(fab),\n",
    "   main = 'Favorite Charactor',\n",
    "    col = c('skyblue','yellow','green','blue','skyblue'))"
   ]
  },
  {
   "cell_type": "code",
   "execution_count": 138,
   "id": "5c3d4b4b",
   "metadata": {},
   "outputs": [
    {
     "data": {
      "image/png": "[encoded data removed]",
      "text/plain": [
       "Plot with title \"Favorite Chractor\""
      ]
     },
     "metadata": {
      "image/png": {
       "height": 420,
       "width": 420
      }
     },
     "output_type": "display_data"
    }
   ],
   "source": [
    "barplot(table(fab), main ='Favorite Chractor',\n",
    "       xlab = 'Charactor Name',\n",
    "       ylab = 'Count',\n",
    "       col = c('skyblue','yellow','green','blue','skyblue'),\n",
    "       legend.text = T,\n",
    "       args.legend = list(bty = 'n'),\n",
    "       horiz = T,\n",
    "       las = 2)"
   ]
  },
  {
   "cell_type": "code",
   "execution_count": 148,
   "id": "10d8562f",
   "metadata": {},
   "outputs": [
    {
     "data": {
      "image/png": "[encoded data removed]",
      "text/plain": [
       "Plot with title \"Favorite Chractor\""
      ]
     },
     "metadata": {
      "image/png": {
       "height": 420,
       "width": 420
      }
     },
     "output_type": "display_data"
    }
   ],
   "source": [
    "barplot(table(fab), main ='Favorite Chractor',\n",
    "       xlab = 'Charactor Name',\n",
    "       ylab = 'Count',\n",
    "       col = c('skyblue','yellow','green','blue','skyblue'),\n",
    "       legend.text = T,\n",
    "       args.legend = list(bty = 'n'),\n",
    "       horiz = T,\n",
    "       las = 2,\n",
    "       names = c('레일라', '루미네', '나히다', '닐루', '치치'),\n",
    "       las = 1,)"
   ]
  },
  {
   "cell_type": "code",
   "execution_count": 149,
   "id": "16a3002f",
   "metadata": {},
   "outputs": [],
   "source": [
    "age1 = c(13709, 10974, 7079, 5000, 4250)\n",
    "age2 = c(17540, 29701, 36209, 33947, 24487)\n",
    "age3 = c(991, 2195, 5366, 12980, 19007)"
   ]
  },
  {
   "cell_type": "code",
   "execution_count": 157,
   "id": "d921c413",
   "metadata": {},
   "outputs": [
    {
     "data": {
      "text/html": [
       "<table class=\"dataframe\">\n",
       "<caption>A matrix: 3 × 5 of type dbl</caption>\n",
       "<thead>\n",
       "\t<tr><th></th><th scope=col>1970</th><th scope=col>1990</th><th scope=col>2010</th><th scope=col>2030</th><th scope=col>2050</th></tr>\n",
       "</thead>\n",
       "<tbody>\n",
       "\t<tr><th scope=row>age1</th><td>13709</td><td>10974</td><td> 7079</td><td> 5000</td><td> 4250</td></tr>\n",
       "\t<tr><th scope=row>age2</th><td>17540</td><td>29701</td><td>36209</td><td>33947</td><td>24487</td></tr>\n",
       "\t<tr><th scope=row>age3</th><td>  991</td><td> 2195</td><td> 5366</td><td>12980</td><td>19007</td></tr>\n",
       "</tbody>\n",
       "</table>\n"
      ],
      "text/latex": [
       "A matrix: 3 × 5 of type dbl\n",
       "\\begin{tabular}{r|lllll}\n",
       "  & 1970 & 1990 & 2010 & 2030 & 2050\\\\\n",
       "\\hline\n",
       "\tage1 & 13709 & 10974 &  7079 &  5000 &  4250\\\\\n",
       "\tage2 & 17540 & 29701 & 36209 & 33947 & 24487\\\\\n",
       "\tage3 &   991 &  2195 &  5366 & 12980 & 19007\\\\\n",
       "\\end{tabular}\n"
      ],
      "text/markdown": [
       "\n",
       "A matrix: 3 × 5 of type dbl\n",
       "\n",
       "| <!--/--> | 1970 | 1990 | 2010 | 2030 | 2050 |\n",
       "|---|---|---|---|---|---|\n",
       "| age1 | 13709 | 10974 |  7079 |  5000 |  4250 |\n",
       "| age2 | 17540 | 29701 | 36209 | 33947 | 24487 |\n",
       "| age3 |   991 |  2195 |  5366 | 12980 | 19007 |\n",
       "\n"
      ],
      "text/plain": [
       "     1970  1990  2010  2030  2050 \n",
       "age1 13709 10974  7079  5000  4250\n",
       "age2 17540 29701 36209 33947 24487\n",
       "age3   991  2195  5366 12980 19007"
      ]
     },
     "metadata": {},
     "output_type": "display_data"
    }
   ],
   "source": [
    "ds = rbind(age1, age2, age3)\n",
    "colnames(ds) = c('1970','1990','2010','2030','2050')\n",
    "ds"
   ]
  },
  {
   "cell_type": "code",
   "execution_count": 158,
   "id": "71d4d060",
   "metadata": {},
   "outputs": [
    {
     "data": {
      "image/png": "[encoded data removed]",
      "text/plain": [
       "Plot with title \"인구 추정\""
      ]
     },
     "metadata": {
      "image/png": {
       "height": 420,
       "width": 420
      }
     },
     "output_type": "display_data"
    }
   ],
   "source": [
    "barplot(ds, main = '인구 추정',\n",
    "    xlab = '년도', ylab ='인구수',\n",
    "    col = c('pink','skyblue','purple'),\n",
    "    legend = T)"
   ]
  },
  {
   "cell_type": "code",
   "execution_count": 159,
   "id": "9c56fd8a",
   "metadata": {},
   "outputs": [
    {
     "data": {
      "image/png": "[encoded data removed]",
      "text/plain": [
       "Plot with title \"인구 추정\""
      ]
     },
     "metadata": {
      "image/png": {
       "height": 420,
       "width": 420
      }
     },
     "output_type": "display_data"
    }
   ],
   "source": [
    "barplot(ds, main = '인구 추정',\n",
    "    xlab = '년도', ylab ='인구수',\n",
    "    col = c('pink','skyblue','purple'),\n",
    "    legend = T,\n",
    "       beside = T)"
   ]
  },
  {
   "cell_type": "code",
   "execution_count": 160,
   "id": "45c6ecec",
   "metadata": {},
   "outputs": [
    {
     "data": {
      "image/png": "[encoded data removed]",
      "text/plain": [
       "plot without title"
      ]
     },
     "metadata": {
      "image/png": {
       "height": 420,
       "width": 420
      }
     },
     "output_type": "display_data"
    }
   ],
   "source": [
    "pie(ds)"
   ]
  },
  {
   "cell_type": "code",
   "execution_count": 163,
   "id": "1749a085",
   "metadata": {},
   "outputs": [
    {
     "data": {
      "image/png": "[encoded data removed]",
      "text/plain": [
       "Plot with title \"인구 추정\""
      ]
     },
     "metadata": {
      "image/png": {
       "height": 420,
       "width": 420
      }
     },
     "output_type": "display_data"
    }
   ],
   "source": [
    "barplot(ds, main = '인구 추정',\n",
    "    xlab = '년도', ylab ='인구수',\n",
    "    col = c('pink','skyblue','purple'),\n",
    "    legend = T,\n",
    "       beside = T,\n",
    "       args.legend = list(bty = 'n', x='topright'))"
   ]
  },
  {
   "cell_type": "code",
   "execution_count": 164,
   "id": "50c9ab0d",
   "metadata": {},
   "outputs": [
    {
     "data": {
      "text/html": [
       "<table class=\"dataframe\">\n",
       "<caption>A data.frame: 6 × 2</caption>\n",
       "<thead>\n",
       "\t<tr><th></th><th scope=col>speed</th><th scope=col>dist</th></tr>\n",
       "\t<tr><th></th><th scope=col>&lt;dbl&gt;</th><th scope=col>&lt;dbl&gt;</th></tr>\n",
       "</thead>\n",
       "<tbody>\n",
       "\t<tr><th scope=row>1</th><td>4</td><td> 2</td></tr>\n",
       "\t<tr><th scope=row>2</th><td>4</td><td>10</td></tr>\n",
       "\t<tr><th scope=row>3</th><td>7</td><td> 4</td></tr>\n",
       "\t<tr><th scope=row>4</th><td>7</td><td>22</td></tr>\n",
       "\t<tr><th scope=row>5</th><td>8</td><td>16</td></tr>\n",
       "\t<tr><th scope=row>6</th><td>9</td><td>10</td></tr>\n",
       "</tbody>\n",
       "</table>\n"
      ],
      "text/latex": [
       "A data.frame: 6 × 2\n",
       "\\begin{tabular}{r|ll}\n",
       "  & speed & dist\\\\\n",
       "  & <dbl> & <dbl>\\\\\n",
       "\\hline\n",
       "\t1 & 4 &  2\\\\\n",
       "\t2 & 4 & 10\\\\\n",
       "\t3 & 7 &  4\\\\\n",
       "\t4 & 7 & 22\\\\\n",
       "\t5 & 8 & 16\\\\\n",
       "\t6 & 9 & 10\\\\\n",
       "\\end{tabular}\n"
      ],
      "text/markdown": [
       "\n",
       "A data.frame: 6 × 2\n",
       "\n",
       "| <!--/--> | speed &lt;dbl&gt; | dist &lt;dbl&gt; |\n",
       "|---|---|---|\n",
       "| 1 | 4 |  2 |\n",
       "| 2 | 4 | 10 |\n",
       "| 3 | 7 |  4 |\n",
       "| 4 | 7 | 22 |\n",
       "| 5 | 8 | 16 |\n",
       "| 6 | 9 | 10 |\n",
       "\n"
      ],
      "text/plain": [
       "  speed dist\n",
       "1 4      2  \n",
       "2 4     10  \n",
       "3 7      4  \n",
       "4 7     22  \n",
       "5 8     16  \n",
       "6 9     10  "
      ]
     },
     "metadata": {},
     "output_type": "display_data"
    }
   ],
   "source": [
    "head(cars)"
   ]
  },
  {
   "cell_type": "code",
   "execution_count": 165,
   "id": "dfbd6b28",
   "metadata": {},
   "outputs": [],
   "source": [
    "dist = cars$dist"
   ]
  },
  {
   "cell_type": "code",
   "execution_count": 170,
   "id": "3c952655",
   "metadata": {},
   "outputs": [
    {
     "data": {
      "image/png": "[encoded data removed]",
      "text/plain": [
       "Plot with title \"Histogram for 제동거리\""
      ]
     },
     "metadata": {
      "image/png": {
       "height": 420,
       "width": 420
      }
     },
     "output_type": "display_data"
    }
   ],
   "source": [
    "hist(dist,\n",
    "    main ='Histogram for 제동거리',\n",
    "    col = 'pink',\n",
    "    border = 'black',\n",
    "    las = 1)"
   ]
  },
  {
   "cell_type": "code",
   "execution_count": 173,
   "id": "d6839607",
   "metadata": {},
   "outputs": [
    {
     "data": {
      "image/png": "[encoded data removed]",
      "text/plain": [
       "Plot with title \"Histogram for 제동거리\""
      ]
     },
     "metadata": {
      "image/png": {
       "height": 420,
       "width": 420
      }
     },
     "output_type": "display_data"
    }
   ],
   "source": [
    "hist(dist,\n",
    "    main ='Histogram for 제동거리',\n",
    "    col = 'pink',\n",
    "    border = 'black',\n",
    "    las = 2,\n",
    "    xlab = '제동거리',\n",
    "    ylab = '빈도수',\n",
    "    breaks =5)"
   ]
  },
  {
   "cell_type": "code",
   "execution_count": 176,
   "id": "365dc4f6",
   "metadata": {},
   "outputs": [
    {
     "data": {
      "image/png": "[encoded data removed]",
      "text/plain": [
       "Plot with title \"Sepal Length\""
      ]
     },
     "metadata": {
      "image/png": {
       "height": 420,
       "width": 420
      }
     },
     "output_type": "display_data"
    }
   ],
   "source": [
    "hist(iris$Sepal.Length,\n",
    "    main = 'Sepal Length',\n",
    "    col = 'orange')"
   ]
  },
  {
   "cell_type": "code",
   "execution_count": 178,
   "id": "d6013e75",
   "metadata": {},
   "outputs": [
    {
     "data": {
      "image/png": "[encoded data removed]",
      "text/plain": [
       "Plot with title \"mtcars\""
      ]
     },
     "metadata": {
      "image/png": {
       "height": 420,
       "width": 420
      }
     },
     "output_type": "display_data"
    }
   ],
   "source": [
    "barplot(table(mtcars$cyl),\n",
    "       main = 'mtcars',\n",
    "       col = c('red','green','blue'))"
   ]
  },
  {
   "cell_type": "code",
   "execution_count": 182,
   "id": "d681fa34",
   "metadata": {},
   "outputs": [
    {
     "data": {
      "image/png": "[encoded data removed]",
      "text/plain": [
       "Plot with title \"mtcars gear\""
      ]
     },
     "metadata": {
      "image/png": {
       "height": 420,
       "width": 420
      }
     },
     "output_type": "display_data"
    }
   ],
   "source": [
    "barplot(table(mtcars$gear),\n",
    "       main = 'mtcars gear',\n",
    "       col = rainbow(3),\n",
    "       horiz = T,\n",
    "       las = 2)"
   ]
  },
  {
   "cell_type": "code",
   "execution_count": 184,
   "id": "18afb2f6",
   "metadata": {},
   "outputs": [
    {
     "data": {
      "image/png": "[encoded data removed]",
      "text/plain": [
       "Plot with title \"Mtcars\""
      ]
     },
     "metadata": {
      "image/png": {
       "height": 420,
       "width": 420
      }
     },
     "output_type": "display_data"
    }
   ],
   "source": [
    "pie(table(mtcars$cyl),\n",
    "   main = 'Mtcars',\n",
    "   col = topo.colors(3))"
   ]
  },
  {
   "cell_type": "code",
   "execution_count": 185,
   "id": "88f5166d",
   "metadata": {},
   "outputs": [],
   "source": [
    "wt = mtcars$wt"
   ]
  },
  {
   "cell_type": "code",
   "execution_count": 186,
   "id": "c7a13b6a",
   "metadata": {},
   "outputs": [],
   "source": [
    "mpg = mtcars$mpg"
   ]
  },
  {
   "cell_type": "code",
   "execution_count": 196,
   "id": "f1452640",
   "metadata": {},
   "outputs": [
    {
     "data": {
      "image/png": "[encoded data removed]",
      "text/plain": [
       "Plot with title \"중량 - 연비 그래프\""
      ]
     },
     "metadata": {
      "image/png": {
       "height": 420,
       "width": 420
      }
     },
     "output_type": "display_data"
    }
   ],
   "source": [
    "plot(wt, mpg,\n",
    "    pch = 8,\n",
    "    col = 'red',\n",
    "    main = '중량 - 연비 그래프',\n",
    "    xlab = '중량', ylab = '연비')\n",
    "lm.res = lm(mpg~wt)\n",
    "abline(lm.res)"
   ]
  },
  {
   "cell_type": "code",
   "execution_count": 198,
   "id": "28320719",
   "metadata": {},
   "outputs": [
    {
     "data": {
      "text/plain": [
       "\n",
       "Call:\n",
       "lm(formula = mpg ~ wt)\n",
       "\n",
       "Residuals:\n",
       "    Min      1Q  Median      3Q     Max \n",
       "-4.5432 -2.3647 -0.1252  1.4096  6.8727 \n",
       "\n",
       "Coefficients:\n",
       "            Estimate Std. Error t value Pr(>|t|)    \n",
       "(Intercept)  37.2851     1.8776  19.858  < 2e-16 ***\n",
       "wt           -5.3445     0.5591  -9.559 1.29e-10 ***\n",
       "---\n",
       "Signif. codes:  0 '***' 0.001 '**' 0.01 '*' 0.05 '.' 0.1 ' ' 1\n",
       "\n",
       "Residual standard error: 3.046 on 30 degrees of freedom\n",
       "Multiple R-squared:  0.7528,\tAdjusted R-squared:  0.7446 \n",
       "F-statistic: 91.38 on 1 and 30 DF,  p-value: 1.294e-10\n"
      ]
     },
     "metadata": {},
     "output_type": "display_data"
    }
   ],
   "source": [
    "summary(lm.res)"
   ]
  },
  {
   "cell_type": "code",
   "execution_count": 197,
   "id": "19ecd1be",
   "metadata": {},
   "outputs": [
    {
     "data": {
      "text/html": [
       "<strong>1:</strong> 18.0450285055404"
      ],
      "text/latex": [
       "\\textbf{1:} 18.0450285055404"
      ],
      "text/markdown": [
       "**1:** 18.0450285055404"
      ],
      "text/plain": [
       "       1 \n",
       "18.04503 "
      ]
     },
     "metadata": {},
     "output_type": "display_data"
    }
   ],
   "source": [
    "predict(lm.res, newdata = data.frame(wt = 3.6))"
   ]
  },
  {
   "cell_type": "code",
   "execution_count": 199,
   "id": "32ffc54d",
   "metadata": {},
   "outputs": [
    {
     "data": {
      "text/html": [
       "18.0449"
      ],
      "text/latex": [
       "18.0449"
      ],
      "text/markdown": [
       "18.0449"
      ],
      "text/plain": [
       "[1] 18.0449"
      ]
     },
     "metadata": {},
     "output_type": "display_data"
    }
   ],
   "source": [
    "37.2851 + -5.3445 * 3.6"
   ]
  },
  {
   "cell_type": "code",
   "execution_count": 200,
   "id": "1d243bff",
   "metadata": {},
   "outputs": [],
   "source": [
    "vars = mtcars[, c('mpg','disp','drat','wt')]"
   ]
  },
  {
   "cell_type": "code",
   "execution_count": 201,
   "id": "420119b1",
   "metadata": {},
   "outputs": [
    {
     "data": {
      "text/html": [
       "<table class=\"dataframe\">\n",
       "<caption>A data.frame: 32 × 4</caption>\n",
       "<thead>\n",
       "\t<tr><th></th><th scope=col>mpg</th><th scope=col>disp</th><th scope=col>drat</th><th scope=col>wt</th></tr>\n",
       "\t<tr><th></th><th scope=col>&lt;dbl&gt;</th><th scope=col>&lt;dbl&gt;</th><th scope=col>&lt;dbl&gt;</th><th scope=col>&lt;dbl&gt;</th></tr>\n",
       "</thead>\n",
       "<tbody>\n",
       "\t<tr><th scope=row>Mazda RX4</th><td>21.0</td><td>160.0</td><td>3.90</td><td>2.620</td></tr>\n",
       "\t<tr><th scope=row>Mazda RX4 Wag</th><td>21.0</td><td>160.0</td><td>3.90</td><td>2.875</td></tr>\n",
       "\t<tr><th scope=row>Datsun 710</th><td>22.8</td><td>108.0</td><td>3.85</td><td>2.320</td></tr>\n",
       "\t<tr><th scope=row>Hornet 4 Drive</th><td>21.4</td><td>258.0</td><td>3.08</td><td>3.215</td></tr>\n",
       "\t<tr><th scope=row>Hornet Sportabout</th><td>18.7</td><td>360.0</td><td>3.15</td><td>3.440</td></tr>\n",
       "\t<tr><th scope=row>Valiant</th><td>18.1</td><td>225.0</td><td>2.76</td><td>3.460</td></tr>\n",
       "\t<tr><th scope=row>Duster 360</th><td>14.3</td><td>360.0</td><td>3.21</td><td>3.570</td></tr>\n",
       "\t<tr><th scope=row>Merc 240D</th><td>24.4</td><td>146.7</td><td>3.69</td><td>3.190</td></tr>\n",
       "\t<tr><th scope=row>Merc 230</th><td>22.8</td><td>140.8</td><td>3.92</td><td>3.150</td></tr>\n",
       "\t<tr><th scope=row>Merc 280</th><td>19.2</td><td>167.6</td><td>3.92</td><td>3.440</td></tr>\n",
       "\t<tr><th scope=row>Merc 280C</th><td>17.8</td><td>167.6</td><td>3.92</td><td>3.440</td></tr>\n",
       "\t<tr><th scope=row>Merc 450SE</th><td>16.4</td><td>275.8</td><td>3.07</td><td>4.070</td></tr>\n",
       "\t<tr><th scope=row>Merc 450SL</th><td>17.3</td><td>275.8</td><td>3.07</td><td>3.730</td></tr>\n",
       "\t<tr><th scope=row>Merc 450SLC</th><td>15.2</td><td>275.8</td><td>3.07</td><td>3.780</td></tr>\n",
       "\t<tr><th scope=row>Cadillac Fleetwood</th><td>10.4</td><td>472.0</td><td>2.93</td><td>5.250</td></tr>\n",
       "\t<tr><th scope=row>Lincoln Continental</th><td>10.4</td><td>460.0</td><td>3.00</td><td>5.424</td></tr>\n",
       "\t<tr><th scope=row>Chrysler Imperial</th><td>14.7</td><td>440.0</td><td>3.23</td><td>5.345</td></tr>\n",
       "\t<tr><th scope=row>Fiat 128</th><td>32.4</td><td> 78.7</td><td>4.08</td><td>2.200</td></tr>\n",
       "\t<tr><th scope=row>Honda Civic</th><td>30.4</td><td> 75.7</td><td>4.93</td><td>1.615</td></tr>\n",
       "\t<tr><th scope=row>Toyota Corolla</th><td>33.9</td><td> 71.1</td><td>4.22</td><td>1.835</td></tr>\n",
       "\t<tr><th scope=row>Toyota Corona</th><td>21.5</td><td>120.1</td><td>3.70</td><td>2.465</td></tr>\n",
       "\t<tr><th scope=row>Dodge Challenger</th><td>15.5</td><td>318.0</td><td>2.76</td><td>3.520</td></tr>\n",
       "\t<tr><th scope=row>AMC Javelin</th><td>15.2</td><td>304.0</td><td>3.15</td><td>3.435</td></tr>\n",
       "\t<tr><th scope=row>Camaro Z28</th><td>13.3</td><td>350.0</td><td>3.73</td><td>3.840</td></tr>\n",
       "\t<tr><th scope=row>Pontiac Firebird</th><td>19.2</td><td>400.0</td><td>3.08</td><td>3.845</td></tr>\n",
       "\t<tr><th scope=row>Fiat X1-9</th><td>27.3</td><td> 79.0</td><td>4.08</td><td>1.935</td></tr>\n",
       "\t<tr><th scope=row>Porsche 914-2</th><td>26.0</td><td>120.3</td><td>4.43</td><td>2.140</td></tr>\n",
       "\t<tr><th scope=row>Lotus Europa</th><td>30.4</td><td> 95.1</td><td>3.77</td><td>1.513</td></tr>\n",
       "\t<tr><th scope=row>Ford Pantera L</th><td>15.8</td><td>351.0</td><td>4.22</td><td>3.170</td></tr>\n",
       "\t<tr><th scope=row>Ferrari Dino</th><td>19.7</td><td>145.0</td><td>3.62</td><td>2.770</td></tr>\n",
       "\t<tr><th scope=row>Maserati Bora</th><td>15.0</td><td>301.0</td><td>3.54</td><td>3.570</td></tr>\n",
       "\t<tr><th scope=row>Volvo 142E</th><td>21.4</td><td>121.0</td><td>4.11</td><td>2.780</td></tr>\n",
       "</tbody>\n",
       "</table>\n"
      ],
      "text/latex": [
       "A data.frame: 32 × 4\n",
       "\\begin{tabular}{r|llll}\n",
       "  & mpg & disp & drat & wt\\\\\n",
       "  & <dbl> & <dbl> & <dbl> & <dbl>\\\\\n",
       "\\hline\n",
       "\tMazda RX4 & 21.0 & 160.0 & 3.90 & 2.620\\\\\n",
       "\tMazda RX4 Wag & 21.0 & 160.0 & 3.90 & 2.875\\\\\n",
       "\tDatsun 710 & 22.8 & 108.0 & 3.85 & 2.320\\\\\n",
       "\tHornet 4 Drive & 21.4 & 258.0 & 3.08 & 3.215\\\\\n",
       "\tHornet Sportabout & 18.7 & 360.0 & 3.15 & 3.440\\\\\n",
       "\tValiant & 18.1 & 225.0 & 2.76 & 3.460\\\\\n",
       "\tDuster 360 & 14.3 & 360.0 & 3.21 & 3.570\\\\\n",
       "\tMerc 240D & 24.4 & 146.7 & 3.69 & 3.190\\\\\n",
       "\tMerc 230 & 22.8 & 140.8 & 3.92 & 3.150\\\\\n",
       "\tMerc 280 & 19.2 & 167.6 & 3.92 & 3.440\\\\\n",
       "\tMerc 280C & 17.8 & 167.6 & 3.92 & 3.440\\\\\n",
       "\tMerc 450SE & 16.4 & 275.8 & 3.07 & 4.070\\\\\n",
       "\tMerc 450SL & 17.3 & 275.8 & 3.07 & 3.730\\\\\n",
       "\tMerc 450SLC & 15.2 & 275.8 & 3.07 & 3.780\\\\\n",
       "\tCadillac Fleetwood & 10.4 & 472.0 & 2.93 & 5.250\\\\\n",
       "\tLincoln Continental & 10.4 & 460.0 & 3.00 & 5.424\\\\\n",
       "\tChrysler Imperial & 14.7 & 440.0 & 3.23 & 5.345\\\\\n",
       "\tFiat 128 & 32.4 &  78.7 & 4.08 & 2.200\\\\\n",
       "\tHonda Civic & 30.4 &  75.7 & 4.93 & 1.615\\\\\n",
       "\tToyota Corolla & 33.9 &  71.1 & 4.22 & 1.835\\\\\n",
       "\tToyota Corona & 21.5 & 120.1 & 3.70 & 2.465\\\\\n",
       "\tDodge Challenger & 15.5 & 318.0 & 2.76 & 3.520\\\\\n",
       "\tAMC Javelin & 15.2 & 304.0 & 3.15 & 3.435\\\\\n",
       "\tCamaro Z28 & 13.3 & 350.0 & 3.73 & 3.840\\\\\n",
       "\tPontiac Firebird & 19.2 & 400.0 & 3.08 & 3.845\\\\\n",
       "\tFiat X1-9 & 27.3 &  79.0 & 4.08 & 1.935\\\\\n",
       "\tPorsche 914-2 & 26.0 & 120.3 & 4.43 & 2.140\\\\\n",
       "\tLotus Europa & 30.4 &  95.1 & 3.77 & 1.513\\\\\n",
       "\tFord Pantera L & 15.8 & 351.0 & 4.22 & 3.170\\\\\n",
       "\tFerrari Dino & 19.7 & 145.0 & 3.62 & 2.770\\\\\n",
       "\tMaserati Bora & 15.0 & 301.0 & 3.54 & 3.570\\\\\n",
       "\tVolvo 142E & 21.4 & 121.0 & 4.11 & 2.780\\\\\n",
       "\\end{tabular}\n"
      ],
      "text/markdown": [
       "\n",
       "A data.frame: 32 × 4\n",
       "\n",
       "| <!--/--> | mpg &lt;dbl&gt; | disp &lt;dbl&gt; | drat &lt;dbl&gt; | wt &lt;dbl&gt; |\n",
       "|---|---|---|---|---|\n",
       "| Mazda RX4 | 21.0 | 160.0 | 3.90 | 2.620 |\n",
       "| Mazda RX4 Wag | 21.0 | 160.0 | 3.90 | 2.875 |\n",
       "| Datsun 710 | 22.8 | 108.0 | 3.85 | 2.320 |\n",
       "| Hornet 4 Drive | 21.4 | 258.0 | 3.08 | 3.215 |\n",
       "| Hornet Sportabout | 18.7 | 360.0 | 3.15 | 3.440 |\n",
       "| Valiant | 18.1 | 225.0 | 2.76 | 3.460 |\n",
       "| Duster 360 | 14.3 | 360.0 | 3.21 | 3.570 |\n",
       "| Merc 240D | 24.4 | 146.7 | 3.69 | 3.190 |\n",
       "| Merc 230 | 22.8 | 140.8 | 3.92 | 3.150 |\n",
       "| Merc 280 | 19.2 | 167.6 | 3.92 | 3.440 |\n",
       "| Merc 280C | 17.8 | 167.6 | 3.92 | 3.440 |\n",
       "| Merc 450SE | 16.4 | 275.8 | 3.07 | 4.070 |\n",
       "| Merc 450SL | 17.3 | 275.8 | 3.07 | 3.730 |\n",
       "| Merc 450SLC | 15.2 | 275.8 | 3.07 | 3.780 |\n",
       "| Cadillac Fleetwood | 10.4 | 472.0 | 2.93 | 5.250 |\n",
       "| Lincoln Continental | 10.4 | 460.0 | 3.00 | 5.424 |\n",
       "| Chrysler Imperial | 14.7 | 440.0 | 3.23 | 5.345 |\n",
       "| Fiat 128 | 32.4 |  78.7 | 4.08 | 2.200 |\n",
       "| Honda Civic | 30.4 |  75.7 | 4.93 | 1.615 |\n",
       "| Toyota Corolla | 33.9 |  71.1 | 4.22 | 1.835 |\n",
       "| Toyota Corona | 21.5 | 120.1 | 3.70 | 2.465 |\n",
       "| Dodge Challenger | 15.5 | 318.0 | 2.76 | 3.520 |\n",
       "| AMC Javelin | 15.2 | 304.0 | 3.15 | 3.435 |\n",
       "| Camaro Z28 | 13.3 | 350.0 | 3.73 | 3.840 |\n",
       "| Pontiac Firebird | 19.2 | 400.0 | 3.08 | 3.845 |\n",
       "| Fiat X1-9 | 27.3 |  79.0 | 4.08 | 1.935 |\n",
       "| Porsche 914-2 | 26.0 | 120.3 | 4.43 | 2.140 |\n",
       "| Lotus Europa | 30.4 |  95.1 | 3.77 | 1.513 |\n",
       "| Ford Pantera L | 15.8 | 351.0 | 4.22 | 3.170 |\n",
       "| Ferrari Dino | 19.7 | 145.0 | 3.62 | 2.770 |\n",
       "| Maserati Bora | 15.0 | 301.0 | 3.54 | 3.570 |\n",
       "| Volvo 142E | 21.4 | 121.0 | 4.11 | 2.780 |\n",
       "\n"
      ],
      "text/plain": [
       "                    mpg  disp  drat wt   \n",
       "Mazda RX4           21.0 160.0 3.90 2.620\n",
       "Mazda RX4 Wag       21.0 160.0 3.90 2.875\n",
       "Datsun 710          22.8 108.0 3.85 2.320\n",
       "Hornet 4 Drive      21.4 258.0 3.08 3.215\n",
       "Hornet Sportabout   18.7 360.0 3.15 3.440\n",
       "Valiant             18.1 225.0 2.76 3.460\n",
       "Duster 360          14.3 360.0 3.21 3.570\n",
       "Merc 240D           24.4 146.7 3.69 3.190\n",
       "Merc 230            22.8 140.8 3.92 3.150\n",
       "Merc 280            19.2 167.6 3.92 3.440\n",
       "Merc 280C           17.8 167.6 3.92 3.440\n",
       "Merc 450SE          16.4 275.8 3.07 4.070\n",
       "Merc 450SL          17.3 275.8 3.07 3.730\n",
       "Merc 450SLC         15.2 275.8 3.07 3.780\n",
       "Cadillac Fleetwood  10.4 472.0 2.93 5.250\n",
       "Lincoln Continental 10.4 460.0 3.00 5.424\n",
       "Chrysler Imperial   14.7 440.0 3.23 5.345\n",
       "Fiat 128            32.4  78.7 4.08 2.200\n",
       "Honda Civic         30.4  75.7 4.93 1.615\n",
       "Toyota Corolla      33.9  71.1 4.22 1.835\n",
       "Toyota Corona       21.5 120.1 3.70 2.465\n",
       "Dodge Challenger    15.5 318.0 2.76 3.520\n",
       "AMC Javelin         15.2 304.0 3.15 3.435\n",
       "Camaro Z28          13.3 350.0 3.73 3.840\n",
       "Pontiac Firebird    19.2 400.0 3.08 3.845\n",
       "Fiat X1-9           27.3  79.0 4.08 1.935\n",
       "Porsche 914-2       26.0 120.3 4.43 2.140\n",
       "Lotus Europa        30.4  95.1 3.77 1.513\n",
       "Ford Pantera L      15.8 351.0 4.22 3.170\n",
       "Ferrari Dino        19.7 145.0 3.62 2.770\n",
       "Maserati Bora       15.0 301.0 3.54 3.570\n",
       "Volvo 142E          21.4 121.0 4.11 2.780"
      ]
     },
     "metadata": {},
     "output_type": "display_data"
    }
   ],
   "source": [
    "vars"
   ]
  },
  {
   "cell_type": "code",
   "execution_count": 202,
   "id": "9286ce82",
   "metadata": {},
   "outputs": [
    {
     "data": {
      "text/html": [
       "<table class=\"dataframe\">\n",
       "<caption>A data.frame: 6 × 4</caption>\n",
       "<thead>\n",
       "\t<tr><th></th><th scope=col>mpg</th><th scope=col>disp</th><th scope=col>drat</th><th scope=col>wt</th></tr>\n",
       "\t<tr><th></th><th scope=col>&lt;dbl&gt;</th><th scope=col>&lt;dbl&gt;</th><th scope=col>&lt;dbl&gt;</th><th scope=col>&lt;dbl&gt;</th></tr>\n",
       "</thead>\n",
       "<tbody>\n",
       "\t<tr><th scope=row>Mazda RX4</th><td>21.0</td><td>160</td><td>3.90</td><td>2.620</td></tr>\n",
       "\t<tr><th scope=row>Mazda RX4 Wag</th><td>21.0</td><td>160</td><td>3.90</td><td>2.875</td></tr>\n",
       "\t<tr><th scope=row>Datsun 710</th><td>22.8</td><td>108</td><td>3.85</td><td>2.320</td></tr>\n",
       "\t<tr><th scope=row>Hornet 4 Drive</th><td>21.4</td><td>258</td><td>3.08</td><td>3.215</td></tr>\n",
       "\t<tr><th scope=row>Hornet Sportabout</th><td>18.7</td><td>360</td><td>3.15</td><td>3.440</td></tr>\n",
       "\t<tr><th scope=row>Valiant</th><td>18.1</td><td>225</td><td>2.76</td><td>3.460</td></tr>\n",
       "</tbody>\n",
       "</table>\n"
      ],
      "text/latex": [
       "A data.frame: 6 × 4\n",
       "\\begin{tabular}{r|llll}\n",
       "  & mpg & disp & drat & wt\\\\\n",
       "  & <dbl> & <dbl> & <dbl> & <dbl>\\\\\n",
       "\\hline\n",
       "\tMazda RX4 & 21.0 & 160 & 3.90 & 2.620\\\\\n",
       "\tMazda RX4 Wag & 21.0 & 160 & 3.90 & 2.875\\\\\n",
       "\tDatsun 710 & 22.8 & 108 & 3.85 & 2.320\\\\\n",
       "\tHornet 4 Drive & 21.4 & 258 & 3.08 & 3.215\\\\\n",
       "\tHornet Sportabout & 18.7 & 360 & 3.15 & 3.440\\\\\n",
       "\tValiant & 18.1 & 225 & 2.76 & 3.460\\\\\n",
       "\\end{tabular}\n"
      ],
      "text/markdown": [
       "\n",
       "A data.frame: 6 × 4\n",
       "\n",
       "| <!--/--> | mpg &lt;dbl&gt; | disp &lt;dbl&gt; | drat &lt;dbl&gt; | wt &lt;dbl&gt; |\n",
       "|---|---|---|---|---|\n",
       "| Mazda RX4 | 21.0 | 160 | 3.90 | 2.620 |\n",
       "| Mazda RX4 Wag | 21.0 | 160 | 3.90 | 2.875 |\n",
       "| Datsun 710 | 22.8 | 108 | 3.85 | 2.320 |\n",
       "| Hornet 4 Drive | 21.4 | 258 | 3.08 | 3.215 |\n",
       "| Hornet Sportabout | 18.7 | 360 | 3.15 | 3.440 |\n",
       "| Valiant | 18.1 | 225 | 2.76 | 3.460 |\n",
       "\n"
      ],
      "text/plain": [
       "                  mpg  disp drat wt   \n",
       "Mazda RX4         21.0 160  3.90 2.620\n",
       "Mazda RX4 Wag     21.0 160  3.90 2.875\n",
       "Datsun 710        22.8 108  3.85 2.320\n",
       "Hornet 4 Drive    21.4 258  3.08 3.215\n",
       "Hornet Sportabout 18.7 360  3.15 3.440\n",
       "Valiant           18.1 225  2.76 3.460"
      ]
     },
     "metadata": {},
     "output_type": "display_data"
    }
   ],
   "source": [
    "head(vars)"
   ]
  },
  {
   "cell_type": "code",
   "execution_count": 204,
   "id": "c9cc082f",
   "metadata": {},
   "outputs": [
    {
     "data": {
      "image/png": "[encoded data removed]",
      "text/plain": [
       "plot without title"
      ]
     },
     "metadata": {
      "image/png": {
       "height": 420,
       "width": 420
      }
     },
     "output_type": "display_data"
    }
   ],
   "source": [
    "pairs(vars, main = 'Multui plot')"
   ]
  },
  {
   "cell_type": "code",
   "execution_count": 205,
   "id": "89b6b31d",
   "metadata": {},
   "outputs": [],
   "source": [
    "iris.2 = iris[, 3:4]"
   ]
  },
  {
   "cell_type": "code",
   "execution_count": 206,
   "id": "ceaaedf7",
   "metadata": {},
   "outputs": [
    {
     "data": {
      "text/html": [
       "<style>\n",
       ".list-inline {list-style: none; margin:0; padding: 0}\n",
       ".list-inline>li {display: inline-block}\n",
       ".list-inline>li:not(:last-child)::after {content: \"\\00b7\"; padding: 0 .5ex}\n",
       "</style>\n",
       "<ol class=list-inline><li>1</li><li>1</li><li>1</li><li>1</li><li>1</li><li>1</li><li>1</li><li>1</li><li>1</li><li>1</li><li>1</li><li>1</li><li>1</li><li>1</li><li>1</li><li>1</li><li>1</li><li>1</li><li>1</li><li>1</li><li>1</li><li>1</li><li>1</li><li>1</li><li>1</li><li>1</li><li>1</li><li>1</li><li>1</li><li>1</li><li>1</li><li>1</li><li>1</li><li>1</li><li>1</li><li>1</li><li>1</li><li>1</li><li>1</li><li>1</li><li>1</li><li>1</li><li>1</li><li>1</li><li>1</li><li>1</li><li>1</li><li>1</li><li>1</li><li>1</li><li>2</li><li>2</li><li>2</li><li>2</li><li>2</li><li>2</li><li>2</li><li>2</li><li>2</li><li>2</li><li>2</li><li>2</li><li>2</li><li>2</li><li>2</li><li>2</li><li>2</li><li>2</li><li>2</li><li>2</li><li>2</li><li>2</li><li>2</li><li>2</li><li>2</li><li>2</li><li>2</li><li>2</li><li>2</li><li>2</li><li>2</li><li>2</li><li>2</li><li>2</li><li>2</li><li>2</li><li>2</li><li>2</li><li>2</li><li>2</li><li>2</li><li>2</li><li>2</li><li>2</li><li>2</li><li>2</li><li>2</li><li>2</li><li>2</li><li>2</li><li>3</li><li>3</li><li>3</li><li>3</li><li>3</li><li>3</li><li>3</li><li>3</li><li>3</li><li>3</li><li>3</li><li>3</li><li>3</li><li>3</li><li>3</li><li>3</li><li>3</li><li>3</li><li>3</li><li>3</li><li>3</li><li>3</li><li>3</li><li>3</li><li>3</li><li>3</li><li>3</li><li>3</li><li>3</li><li>3</li><li>3</li><li>3</li><li>3</li><li>3</li><li>3</li><li>3</li><li>3</li><li>3</li><li>3</li><li>3</li><li>3</li><li>3</li><li>3</li><li>3</li><li>3</li><li>3</li><li>3</li><li>3</li><li>3</li><li>3</li></ol>\n"
      ],
      "text/latex": [
       "\\begin{enumerate*}\n",
       "\\item 1\n",
       "\\item 1\n",
       "\\item 1\n",
       "\\item 1\n",
       "\\item 1\n",
       "\\item 1\n",
       "\\item 1\n",
       "\\item 1\n",
       "\\item 1\n",
       "\\item 1\n",
       "\\item 1\n",
       "\\item 1\n",
       "\\item 1\n",
       "\\item 1\n",
       "\\item 1\n",
       "\\item 1\n",
       "\\item 1\n",
       "\\item 1\n",
       "\\item 1\n",
       "\\item 1\n",
       "\\item 1\n",
       "\\item 1\n",
       "\\item 1\n",
       "\\item 1\n",
       "\\item 1\n",
       "\\item 1\n",
       "\\item 1\n",
       "\\item 1\n",
       "\\item 1\n",
       "\\item 1\n",
       "\\item 1\n",
       "\\item 1\n",
       "\\item 1\n",
       "\\item 1\n",
       "\\item 1\n",
       "\\item 1\n",
       "\\item 1\n",
       "\\item 1\n",
       "\\item 1\n",
       "\\item 1\n",
       "\\item 1\n",
       "\\item 1\n",
       "\\item 1\n",
       "\\item 1\n",
       "\\item 1\n",
       "\\item 1\n",
       "\\item 1\n",
       "\\item 1\n",
       "\\item 1\n",
       "\\item 1\n",
       "\\item 2\n",
       "\\item 2\n",
       "\\item 2\n",
       "\\item 2\n",
       "\\item 2\n",
       "\\item 2\n",
       "\\item 2\n",
       "\\item 2\n",
       "\\item 2\n",
       "\\item 2\n",
       "\\item 2\n",
       "\\item 2\n",
       "\\item 2\n",
       "\\item 2\n",
       "\\item 2\n",
       "\\item 2\n",
       "\\item 2\n",
       "\\item 2\n",
       "\\item 2\n",
       "\\item 2\n",
       "\\item 2\n",
       "\\item 2\n",
       "\\item 2\n",
       "\\item 2\n",
       "\\item 2\n",
       "\\item 2\n",
       "\\item 2\n",
       "\\item 2\n",
       "\\item 2\n",
       "\\item 2\n",
       "\\item 2\n",
       "\\item 2\n",
       "\\item 2\n",
       "\\item 2\n",
       "\\item 2\n",
       "\\item 2\n",
       "\\item 2\n",
       "\\item 2\n",
       "\\item 2\n",
       "\\item 2\n",
       "\\item 2\n",
       "\\item 2\n",
       "\\item 2\n",
       "\\item 2\n",
       "\\item 2\n",
       "\\item 2\n",
       "\\item 2\n",
       "\\item 2\n",
       "\\item 2\n",
       "\\item 2\n",
       "\\item 3\n",
       "\\item 3\n",
       "\\item 3\n",
       "\\item 3\n",
       "\\item 3\n",
       "\\item 3\n",
       "\\item 3\n",
       "\\item 3\n",
       "\\item 3\n",
       "\\item 3\n",
       "\\item 3\n",
       "\\item 3\n",
       "\\item 3\n",
       "\\item 3\n",
       "\\item 3\n",
       "\\item 3\n",
       "\\item 3\n",
       "\\item 3\n",
       "\\item 3\n",
       "\\item 3\n",
       "\\item 3\n",
       "\\item 3\n",
       "\\item 3\n",
       "\\item 3\n",
       "\\item 3\n",
       "\\item 3\n",
       "\\item 3\n",
       "\\item 3\n",
       "\\item 3\n",
       "\\item 3\n",
       "\\item 3\n",
       "\\item 3\n",
       "\\item 3\n",
       "\\item 3\n",
       "\\item 3\n",
       "\\item 3\n",
       "\\item 3\n",
       "\\item 3\n",
       "\\item 3\n",
       "\\item 3\n",
       "\\item 3\n",
       "\\item 3\n",
       "\\item 3\n",
       "\\item 3\n",
       "\\item 3\n",
       "\\item 3\n",
       "\\item 3\n",
       "\\item 3\n",
       "\\item 3\n",
       "\\item 3\n",
       "\\end{enumerate*}\n"
      ],
      "text/markdown": [
       "1. 1\n",
       "2. 1\n",
       "3. 1\n",
       "4. 1\n",
       "5. 1\n",
       "6. 1\n",
       "7. 1\n",
       "8. 1\n",
       "9. 1\n",
       "10. 1\n",
       "11. 1\n",
       "12. 1\n",
       "13. 1\n",
       "14. 1\n",
       "15. 1\n",
       "16. 1\n",
       "17. 1\n",
       "18. 1\n",
       "19. 1\n",
       "20. 1\n",
       "21. 1\n",
       "22. 1\n",
       "23. 1\n",
       "24. 1\n",
       "25. 1\n",
       "26. 1\n",
       "27. 1\n",
       "28. 1\n",
       "29. 1\n",
       "30. 1\n",
       "31. 1\n",
       "32. 1\n",
       "33. 1\n",
       "34. 1\n",
       "35. 1\n",
       "36. 1\n",
       "37. 1\n",
       "38. 1\n",
       "39. 1\n",
       "40. 1\n",
       "41. 1\n",
       "42. 1\n",
       "43. 1\n",
       "44. 1\n",
       "45. 1\n",
       "46. 1\n",
       "47. 1\n",
       "48. 1\n",
       "49. 1\n",
       "50. 1\n",
       "51. 2\n",
       "52. 2\n",
       "53. 2\n",
       "54. 2\n",
       "55. 2\n",
       "56. 2\n",
       "57. 2\n",
       "58. 2\n",
       "59. 2\n",
       "60. 2\n",
       "61. 2\n",
       "62. 2\n",
       "63. 2\n",
       "64. 2\n",
       "65. 2\n",
       "66. 2\n",
       "67. 2\n",
       "68. 2\n",
       "69. 2\n",
       "70. 2\n",
       "71. 2\n",
       "72. 2\n",
       "73. 2\n",
       "74. 2\n",
       "75. 2\n",
       "76. 2\n",
       "77. 2\n",
       "78. 2\n",
       "79. 2\n",
       "80. 2\n",
       "81. 2\n",
       "82. 2\n",
       "83. 2\n",
       "84. 2\n",
       "85. 2\n",
       "86. 2\n",
       "87. 2\n",
       "88. 2\n",
       "89. 2\n",
       "90. 2\n",
       "91. 2\n",
       "92. 2\n",
       "93. 2\n",
       "94. 2\n",
       "95. 2\n",
       "96. 2\n",
       "97. 2\n",
       "98. 2\n",
       "99. 2\n",
       "100. 2\n",
       "101. 3\n",
       "102. 3\n",
       "103. 3\n",
       "104. 3\n",
       "105. 3\n",
       "106. 3\n",
       "107. 3\n",
       "108. 3\n",
       "109. 3\n",
       "110. 3\n",
       "111. 3\n",
       "112. 3\n",
       "113. 3\n",
       "114. 3\n",
       "115. 3\n",
       "116. 3\n",
       "117. 3\n",
       "118. 3\n",
       "119. 3\n",
       "120. 3\n",
       "121. 3\n",
       "122. 3\n",
       "123. 3\n",
       "124. 3\n",
       "125. 3\n",
       "126. 3\n",
       "127. 3\n",
       "128. 3\n",
       "129. 3\n",
       "130. 3\n",
       "131. 3\n",
       "132. 3\n",
       "133. 3\n",
       "134. 3\n",
       "135. 3\n",
       "136. 3\n",
       "137. 3\n",
       "138. 3\n",
       "139. 3\n",
       "140. 3\n",
       "141. 3\n",
       "142. 3\n",
       "143. 3\n",
       "144. 3\n",
       "145. 3\n",
       "146. 3\n",
       "147. 3\n",
       "148. 3\n",
       "149. 3\n",
       "150. 3\n",
       "\n",
       "\n"
      ],
      "text/plain": [
       "  [1] 1 1 1 1 1 1 1 1 1 1 1 1 1 1 1 1 1 1 1 1 1 1 1 1 1 1 1 1 1 1 1 1 1 1 1 1 1\n",
       " [38] 1 1 1 1 1 1 1 1 1 1 1 1 1 2 2 2 2 2 2 2 2 2 2 2 2 2 2 2 2 2 2 2 2 2 2 2 2\n",
       " [75] 2 2 2 2 2 2 2 2 2 2 2 2 2 2 2 2 2 2 2 2 2 2 2 2 2 2 3 3 3 3 3 3 3 3 3 3 3\n",
       "[112] 3 3 3 3 3 3 3 3 3 3 3 3 3 3 3 3 3 3 3 3 3 3 3 3 3 3 3 3 3 3 3 3 3 3 3 3 3\n",
       "[149] 3 3"
      ]
     },
     "metadata": {},
     "output_type": "display_data"
    }
   ],
   "source": [
    "point = as.numeric(iris$Species)\n",
    "point"
   ]
  },
  {
   "cell_type": "code",
   "execution_count": 207,
   "id": "21972090",
   "metadata": {},
   "outputs": [],
   "source": [
    "color = c('red','green','blue')"
   ]
  },
  {
   "cell_type": "code",
   "execution_count": 208,
   "id": "2a51122f",
   "metadata": {},
   "outputs": [
    {
     "data": {
      "text/html": [
       "<style>\n",
       ".list-inline {list-style: none; margin:0; padding: 0}\n",
       ".list-inline>li {display: inline-block}\n",
       ".list-inline>li:not(:last-child)::after {content: \"\\00b7\"; padding: 0 .5ex}\n",
       "</style>\n",
       "<ol class=list-inline><li>'red'</li><li>'green'</li><li>'blue'</li></ol>\n"
      ],
      "text/latex": [
       "\\begin{enumerate*}\n",
       "\\item 'red'\n",
       "\\item 'green'\n",
       "\\item 'blue'\n",
       "\\end{enumerate*}\n"
      ],
      "text/markdown": [
       "1. 'red'\n",
       "2. 'green'\n",
       "3. 'blue'\n",
       "\n",
       "\n"
      ],
      "text/plain": [
       "[1] \"red\"   \"green\" \"blue\" "
      ]
     },
     "metadata": {},
     "output_type": "display_data"
    }
   ],
   "source": [
    "color"
   ]
  },
  {
   "cell_type": "code",
   "execution_count": 213,
   "id": "3178b2c2",
   "metadata": {},
   "outputs": [
    {
     "data": {
      "image/png": "[encoded data removed]",
      "text/plain": [
       "Plot with title \"Iris Plot\""
      ]
     },
     "metadata": {
      "image/png": {
       "height": 420,
       "width": 420
      }
     },
     "output_type": "display_data"
    }
   ],
   "source": [
    "plot(iris.2, col=color[point],\n",
    "    pch = c(point),\n",
    "    main = 'Iris Plot')"
   ]
  },
  {
   "cell_type": "code",
   "execution_count": 218,
   "id": "48b777b9",
   "metadata": {},
   "outputs": [],
   "source": [
    "beers = c(5, 2, 9, 8, 3, 7, 3, 5, 3, 5)\n",
    "bal = c(0.1, 0.03, 0.19, 0.12, 0.04, 0.0095, 0.07, 0.06, 0.02, 0.05)"
   ]
  },
  {
   "cell_type": "code",
   "execution_count": 219,
   "id": "cb4af1c2",
   "metadata": {},
   "outputs": [
    {
     "data": {
      "text/html": [
       "10"
      ],
      "text/latex": [
       "10"
      ],
      "text/markdown": [
       "10"
      ],
      "text/plain": [
       "[1] 10"
      ]
     },
     "metadata": {},
     "output_type": "display_data"
    }
   ],
   "source": [
    "length(beers)"
   ]
  },
  {
   "cell_type": "code",
   "execution_count": 220,
   "id": "18ce2537",
   "metadata": {},
   "outputs": [
    {
     "data": {
      "text/html": [
       "10"
      ],
      "text/latex": [
       "10"
      ],
      "text/markdown": [
       "10"
      ],
      "text/plain": [
       "[1] 10"
      ]
     },
     "metadata": {},
     "output_type": "display_data"
    }
   ],
   "source": [
    "length(bal)"
   ]
  },
  {
   "cell_type": "code",
   "execution_count": 223,
   "id": "6ff2acbb",
   "metadata": {},
   "outputs": [
    {
     "data": {
      "image/png": "[encoded data removed]",
      "text/plain": [
       "plot without title"
      ]
     },
     "metadata": {
      "image/png": {
       "height": 420,
       "width": 420
      }
     },
     "output_type": "display_data"
    }
   ],
   "source": [
    "plot(beers, bal)\n",
    "lm.res = lm(bal~beers)\n",
    "abline(lm.res)"
   ]
  },
  {
   "cell_type": "code",
   "execution_count": 225,
   "id": "5ab50694",
   "metadata": {},
   "outputs": [
    {
     "data": {
      "text/plain": [
       "\n",
       "Call:\n",
       "lm(formula = bal ~ beers)\n",
       "\n",
       "Residuals:\n",
       "     Min       1Q   Median       3Q      Max \n",
       "-0.09101 -0.01528  0.00316  0.02539  0.05793 \n",
       "\n",
       "Coefficients:\n",
       "             Estimate Std. Error t value Pr(>|t|)  \n",
       "(Intercept) -0.009950   0.032976  -0.302   0.7705  \n",
       "beers        0.015780   0.006021   2.621   0.0306 *\n",
       "---\n",
       "Signif. codes:  0 '***' 0.001 '**' 0.01 '*' 0.05 '.' 0.1 ' ' 1\n",
       "\n",
       "Residual standard error: 0.04257 on 8 degrees of freedom\n",
       "Multiple R-squared:  0.462,\tAdjusted R-squared:  0.3947 \n",
       "F-statistic:  6.87 on 1 and 8 DF,  p-value: 0.0306\n"
      ]
     },
     "metadata": {},
     "output_type": "display_data"
    }
   ],
   "source": [
    "summary(lm.res)"
   ]
  },
  {
   "cell_type": "code",
   "execution_count": 224,
   "id": "83678eab",
   "metadata": {},
   "outputs": [
    {
     "data": {
      "text/html": [
       "<strong>1:</strong> 0.10051"
      ],
      "text/latex": [
       "\\textbf{1:} 0.10051"
      ],
      "text/markdown": [
       "**1:** 0.10051"
      ],
      "text/plain": [
       "      1 \n",
       "0.10051 "
      ]
     },
     "metadata": {},
     "output_type": "display_data"
    }
   ],
   "source": [
    "predict(lm.res, newdata = data.frame(beers = 7))"
   ]
  },
  {
   "cell_type": "code",
   "execution_count": 226,
   "id": "31d3f6b1",
   "metadata": {},
   "outputs": [
    {
     "data": {
      "text/html": [
       "0.10051"
      ],
      "text/latex": [
       "0.10051"
      ],
      "text/markdown": [
       "0.10051"
      ],
      "text/plain": [
       "[1] 0.10051"
      ]
     },
     "metadata": {},
     "output_type": "display_data"
    }
   ],
   "source": [
    "-0.009950 + 0.015780 * 7"
   ]
  },
  {
   "cell_type": "code",
   "execution_count": 227,
   "id": "93166a39",
   "metadata": {},
   "outputs": [
    {
     "data": {
      "text/html": [
       "0.679702489934742"
      ],
      "text/latex": [
       "0.679702489934742"
      ],
      "text/markdown": [
       "0.679702489934742"
      ],
      "text/plain": [
       "[1] 0.6797025"
      ]
     },
     "metadata": {},
     "output_type": "display_data"
    }
   ],
   "source": [
    "cor(beers, bal)"
   ]
  },
  {
   "cell_type": "code",
   "execution_count": 228,
   "id": "bbcd355c",
   "metadata": {},
   "outputs": [],
   "source": [
    "month = 1:12\n",
    "late1 = c(5, 8, 7, 9, 4, 6, 12, 13, 8, 6, 6, 4)\n",
    "late2 = c(4, 6, 5, 8, 7, 8, 10, 11, 6, 5, 7, 3)"
   ]
  },
  {
   "cell_type": "code",
   "execution_count": 233,
   "id": "bd61ef58",
   "metadata": {},
   "outputs": [
    {
     "data": {
      "image/png": "[encoded data removed]",
      "text/plain": [
       "Plot with title \"지각생 통계\""
      ]
     },
     "metadata": {
      "image/png": {
       "height": 420,
       "width": 420
      }
     },
     "output_type": "display_data"
    }
   ],
   "source": [
    "plot(month, late1,\n",
    "    type = 's',\n",
    "    main = '지각생 통계',\n",
    "    col = 'pink')\n",
    "lines(month, late2, \n",
    "     type = 's')"
   ]
  },
  {
   "cell_type": "code",
   "execution_count": 234,
   "id": "d0326d34",
   "metadata": {},
   "outputs": [
    {
     "data": {
      "image/png": "[encoded data removed]",
      "text/plain": [
       "Plot with title \"지각생 통계\""
      ]
     },
     "metadata": {
      "image/png": {
       "height": 420,
       "width": 420
      }
     },
     "output_type": "display_data"
    }
   ],
   "source": [
    "plot(month, late1,\n",
    "    type = 'l',\n",
    "    main = '지각생 통계',\n",
    "    col = 'pink')\n",
    "lines(month, late2, \n",
    "     type = 'l')"
   ]
  },
  {
   "cell_type": "code",
   "execution_count": 235,
   "id": "cc585095",
   "metadata": {},
   "outputs": [
    {
     "data": {
      "image/png": "[encoded data removed]",
      "text/plain": [
       "Plot with title \"지각생 통계\""
      ]
     },
     "metadata": {
      "image/png": {
       "height": 420,
       "width": 420
      }
     },
     "output_type": "display_data"
    }
   ],
   "source": [
    "plot(month, late1,\n",
    "    type = 'o',\n",
    "    main = '지각생 통계',\n",
    "    col = 'pink')\n",
    "lines(month, late2, \n",
    "     type = 'o')"
   ]
  },
  {
   "cell_type": "code",
   "execution_count": 236,
   "id": "cee222ab",
   "metadata": {},
   "outputs": [
    {
     "data": {
      "image/png": "[encoded data removed]",
      "text/plain": [
       "Plot with title \"지각생 통계\""
      ]
     },
     "metadata": {
      "image/png": {
       "height": 420,
       "width": 420
      }
     },
     "output_type": "display_data"
    }
   ],
   "source": [
    "plot(month, late1,\n",
    "    type = 'p',\n",
    "    main = '지각생 통계',\n",
    "    col = 'pink')\n",
    "lines(month, late2, \n",
    "     type = 'p')"
   ]
  },
  {
   "cell_type": "code",
   "execution_count": 237,
   "id": "b506587e",
   "metadata": {},
   "outputs": [
    {
     "data": {
      "image/png": "[encoded data removed]",
      "text/plain": [
       "Plot with title \"지각생 통계\""
      ]
     },
     "metadata": {
      "image/png": {
       "height": 420,
       "width": 420
      }
     },
     "output_type": "display_data"
    }
   ],
   "source": [
    "plot(month, late1,\n",
    "    type = 'o',\n",
    "    main = '지각생 통계',\n",
    "    col = 'pink')\n",
    "lines(month, late2, \n",
    "     type = 'o')"
   ]
  }
 ],
 "metadata": {
  "kernelspec": {
   "display_name": "R",
   "language": "R",
   "name": "ir"
  },
  "language_info": {
   "codemirror_mode": "r",
   "file_extension": ".r",
   "mimetype": "text/x-r-source",
   "name": "R",
   "pygments_lexer": "r",
   "version": "4.3.1"
  }
 },
 "nbformat": 4,
 "nbformat_minor": 5
}
