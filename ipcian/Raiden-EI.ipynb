{
 "cells": [
  {
   "cell_type": "code",
   "execution_count": 1,
   "id": "50e43b16",
   "metadata": {},
   "outputs": [],
   "source": [
    "x = c(30, 40, 50, 60, 70, 80)"
   ]
  },
  {
   "cell_type": "code",
   "execution_count": 2,
   "id": "87542258",
   "metadata": {},
   "outputs": [],
   "source": [
    "y = c(43, 45, 54, 53, 56, 63)"
   ]
  },
  {
   "cell_type": "code",
   "execution_count": 3,
   "id": "4185935f",
   "metadata": {},
   "outputs": [
    {
     "data": {
      "image/png": "[encoded data removed]",
      "text/plain": [
       "plot without title"
      ]
     },
     "metadata": {
      "image/png": {
       "height": 420,
       "width": 420
      }
     },
     "output_type": "display_data"
    }
   ],
   "source": [
    "plot(x, y)"
   ]
  },
  {
   "cell_type": "code",
   "execution_count": 5,
   "id": "54f78434",
   "metadata": {},
   "outputs": [
    {
     "data": {
      "image/png": "[encoded data removed]",
      "text/plain": [
       "plot without title"
      ]
     },
     "metadata": {
      "image/png": {
       "height": 420,
       "width": 420
      }
     },
     "output_type": "display_data"
    }
   ],
   "source": [
    "plot(x, y)\n",
    "lm.result = lm(y~x)\n",
    "abline(lm.result)"
   ]
  },
  {
   "cell_type": "code",
   "execution_count": 6,
   "id": "5bdbe847",
   "metadata": {},
   "outputs": [
    {
     "data": {
      "text/plain": [
       "\n",
       "Call:\n",
       "lm(formula = y ~ x)\n",
       "\n",
       "Residuals:\n",
       "       1        2        3        4        5        6 \n",
       " 0.09524 -1.67619  3.55238 -1.21905 -1.99048  1.23810 \n",
       "\n",
       "Coefficients:\n",
       "            Estimate Std. Error t value Pr(>|t|)    \n",
       "(Intercept) 31.59048    3.25920   9.693 0.000634 ***\n",
       "x            0.37714    0.05659   6.664 0.002634 ** \n",
       "---\n",
       "Signif. codes:  0 '***' 0.001 '**' 0.01 '*' 0.05 '.' 0.1 ' ' 1\n",
       "\n",
       "Residual standard error: 2.367 on 4 degrees of freedom\n",
       "Multiple R-squared:  0.9174,\tAdjusted R-squared:  0.8967 \n",
       "F-statistic: 44.41 on 1 and 4 DF,  p-value: 0.002634\n"
      ]
     },
     "metadata": {},
     "output_type": "display_data"
    }
   ],
   "source": [
    "summary(lm.result)"
   ]
  },
  {
   "cell_type": "code",
   "execution_count": 7,
   "id": "013147d1",
   "metadata": {},
   "outputs": [],
   "source": [
    "# 분산은 2.367\n",
    "# 데이터의 설명률은 약 91%\n",
    "# 매우 유의\n",
    "# P-VALUE 0.05미만, 연관성이 있음"
   ]
  },
  {
   "cell_type": "code",
   "execution_count": 9,
   "id": "131fba35",
   "metadata": {},
   "outputs": [
    {
     "data": {
      "text/html": [
       "<strong>1:</strong> 48.5619047619048"
      ],
      "text/latex": [
       "\\textbf{1:} 48.5619047619048"
      ],
      "text/markdown": [
       "**1:** 48.5619047619048"
      ],
      "text/plain": [
       "      1 \n",
       "48.5619 "
      ]
     },
     "metadata": {},
     "output_type": "display_data"
    }
   ],
   "source": [
    "predict(lm.result, newdata=data.frame(x=45))"
   ]
  },
  {
   "cell_type": "code",
   "execution_count": 10,
   "id": "cdc42459",
   "metadata": {},
   "outputs": [
    {
     "data": {
      "text/html": [
       "48.56178"
      ],
      "text/latex": [
       "48.56178"
      ],
      "text/markdown": [
       "48.56178"
      ],
      "text/plain": [
       "[1] 48.56178"
      ]
     },
     "metadata": {},
     "output_type": "display_data"
    }
   ],
   "source": [
    "31.59048 + 0.37714 * 45"
   ]
  },
  {
   "cell_type": "code",
   "execution_count": 11,
   "id": "58263d8a",
   "metadata": {},
   "outputs": [],
   "source": [
    "x = c(1, 1, 2, 2, 2, 4, 4, 4, 4, 6, 6, 6)\n",
    "y = c(30, 32, 25, 27, 26, 16, 18, 16, 20, 10, 8, 11)"
   ]
  },
  {
   "cell_type": "code",
   "execution_count": 13,
   "id": "a78821cf",
   "metadata": {},
   "outputs": [
    {
     "data": {
      "image/png": "[encoded data removed]",
      "text/plain": [
       "plot without title"
      ]
     },
     "metadata": {
      "image/png": {
       "height": 420,
       "width": 420
      }
     },
     "output_type": "display_data"
    }
   ],
   "source": [
    "plot(x, y)\n",
    "lm.res = lm(y~x)\n",
    "abline(lm.res)"
   ]
  },
  {
   "cell_type": "code",
   "execution_count": 14,
   "id": "4f75f98a",
   "metadata": {},
   "outputs": [
    {
     "data": {
      "text/plain": [
       "\n",
       "Call:\n",
       "lm(formula = y ~ x)\n",
       "\n",
       "Residuals:\n",
       "     Min       1Q   Median       3Q      Max \n",
       "-1.80769 -1.27564 -0.02564  0.95192  2.19231 \n",
       "\n",
       "Coefficients:\n",
       "            Estimate Std. Error t value Pr(>|t|)    \n",
       "(Intercept)  34.6795     0.9150   37.90 3.90e-12 ***\n",
       "x            -4.2179     0.2324  -18.15 5.53e-09 ***\n",
       "---\n",
       "Signif. codes:  0 '***' 0.001 '**' 0.01 '*' 0.05 '.' 0.1 ' ' 1\n",
       "\n",
       "Residual standard error: 1.451 on 10 degrees of freedom\n",
       "Multiple R-squared:  0.9705,\tAdjusted R-squared:  0.9676 \n",
       "F-statistic: 329.4 on 1 and 10 DF,  p-value: 5.533e-09\n"
      ]
     },
     "metadata": {},
     "output_type": "display_data"
    }
   ],
   "source": [
    "summary(lm.res)"
   ]
  },
  {
   "cell_type": "code",
   "execution_count": 15,
   "id": "8346d0cd",
   "metadata": {},
   "outputs": [
    {
     "data": {
      "text/html": [
       "<strong>1:</strong> 22.025641025641"
      ],
      "text/latex": [
       "\\textbf{1:} 22.025641025641"
      ],
      "text/markdown": [
       "**1:** 22.025641025641"
      ],
      "text/plain": [
       "       1 \n",
       "22.02564 "
      ]
     },
     "metadata": {},
     "output_type": "display_data"
    }
   ],
   "source": [
    "predict(lm.res, newdata = data.frame(x = 3))"
   ]
  },
  {
   "cell_type": "code",
   "execution_count": 16,
   "id": "07e2194c",
   "metadata": {},
   "outputs": [
    {
     "data": {
      "text/html": [
       "22.0258"
      ],
      "text/latex": [
       "22.0258"
      ],
      "text/markdown": [
       "22.0258"
      ],
      "text/plain": [
       "[1] 22.0258"
      ]
     },
     "metadata": {},
     "output_type": "display_data"
    }
   ],
   "source": [
    "34.6795 + -4.2179 * 3"
   ]
  },
  {
   "cell_type": "code",
   "execution_count": 17,
   "id": "6274ddb2",
   "metadata": {},
   "outputs": [],
   "source": [
    "age = c(8, 3, 6, 9, 2, 5, 6, 3)\n",
    "price = c(18, 94, 50, 21, 145, 42, 36, 99)"
   ]
  },
  {
   "cell_type": "code",
   "execution_count": 19,
   "id": "f010b375",
   "metadata": {},
   "outputs": [
    {
     "data": {
      "image/png": "[encoded data removed]",
      "text/plain": [
       "plot without title"
      ]
     },
     "metadata": {
      "image/png": {
       "height": 420,
       "width": 420
      }
     },
     "output_type": "display_data"
    }
   ],
   "source": [
    "plot(age, price)\n",
    "lm.res = lm(price~age)\n",
    "abline(lm.res)"
   ]
  },
  {
   "cell_type": "code",
   "execution_count": 21,
   "id": "687b6903",
   "metadata": {},
   "outputs": [
    {
     "data": {
      "text/plain": [
       "\n",
       "Call:\n",
       "lm(formula = price ~ age)\n",
       "\n",
       "Residuals:\n",
       "    Min      1Q  Median      3Q     Max \n",
       "-25.282  -8.565  -1.095   5.504  27.839 \n",
       "\n",
       "Coefficients:\n",
       "            Estimate Std. Error t value Pr(>|t|)    \n",
       "(Intercept)  150.414     16.232   9.267 8.93e-05 ***\n",
       "age          -16.626      2.826  -5.884  0.00107 ** \n",
       "---\n",
       "Signif. codes:  0 '***' 0.001 '**' 0.01 '*' 0.05 '.' 0.1 ' ' 1\n",
       "\n",
       "Residual standard error: 18.64 on 6 degrees of freedom\n",
       "Multiple R-squared:  0.8523,\tAdjusted R-squared:  0.8277 \n",
       "F-statistic: 34.62 on 1 and 6 DF,  p-value: 0.001068\n"
      ]
     },
     "metadata": {},
     "output_type": "display_data"
    }
   ],
   "source": [
    "summary(lm.res\n",
    "       )"
   ]
  },
  {
   "cell_type": "code",
   "execution_count": 20,
   "id": "7289d170",
   "metadata": {},
   "outputs": [
    {
     "data": {
      "text/html": [
       "<strong>1:</strong> 50.6551724137931"
      ],
      "text/latex": [
       "\\textbf{1:} 50.6551724137931"
      ],
      "text/markdown": [
       "**1:** 50.6551724137931"
      ],
      "text/plain": [
       "       1 \n",
       "50.65517 "
      ]
     },
     "metadata": {},
     "output_type": "display_data"
    }
   ],
   "source": [
    "predict(lm.res, newdata= data.frame(age = 6))"
   ]
  },
  {
   "cell_type": "code",
   "execution_count": 22,
   "id": "da620238",
   "metadata": {},
   "outputs": [
    {
     "data": {
      "text/html": [
       "50.658"
      ],
      "text/latex": [
       "50.658"
      ],
      "text/markdown": [
       "50.658"
      ],
      "text/plain": [
       "[1] 50.658"
      ]
     },
     "metadata": {},
     "output_type": "display_data"
    }
   ],
   "source": [
    "150.414 + -16.626 * 6"
   ]
  },
  {
   "cell_type": "code",
   "execution_count": 23,
   "id": "9a285681",
   "metadata": {},
   "outputs": [],
   "source": [
    "x1 = c(195, 179, 205, 204, 201, 184, 210, 209)\n",
    "x2 = c(57, 61, 60, 62, 61, 54, 58, 61)\n",
    "y = c(81.4, 122.2, 101.7, 145.2, 135.9, 64.8, 92.1, 113.8)"
   ]
  },
  {
   "cell_type": "code",
   "execution_count": 24,
   "id": "0ac3ffd2",
   "metadata": {},
   "outputs": [],
   "source": [
    "lm.res = lm(y~x1 + x2)"
   ]
  },
  {
   "cell_type": "code",
   "execution_count": 25,
   "id": "6e220e7e",
   "metadata": {},
   "outputs": [
    {
     "data": {
      "text/plain": [
       "\n",
       "Call:\n",
       "lm(formula = y ~ x1 + x2)\n",
       "\n",
       "Residuals:\n",
       "        1         2         3         4         5         6         7         8 \n",
       " -4.41018  -6.66819 -11.26091  12.34641  12.17458   5.90680  -0.03319  -8.05532 \n",
       "\n",
       "Coefficients:\n",
       "             Estimate Std. Error t value Pr(>|t|)   \n",
       "(Intercept) -428.8851    98.9870  -4.333  0.00748 **\n",
       "x1            -0.2338     0.3832  -0.610  0.56854   \n",
       "x2             9.8295     1.6232   6.056  0.00177 **\n",
       "---\n",
       "Signif. codes:  0 '***' 0.001 '**' 0.01 '*' 0.05 '.' 0.1 ' ' 1\n",
       "\n",
       "Residual standard error: 10.87 on 5 degrees of freedom\n",
       "Multiple R-squared:  0.8876,\tAdjusted R-squared:  0.8426 \n",
       "F-statistic: 19.74 on 2 and 5 DF,  p-value: 0.004239\n"
      ]
     },
     "metadata": {},
     "output_type": "display_data"
    }
   ],
   "source": [
    "summary(lm.res)"
   ]
  },
  {
   "cell_type": "code",
   "execution_count": 26,
   "id": "10e19fa0",
   "metadata": {},
   "outputs": [
    {
     "data": {
      "text/html": [
       "<strong>1:</strong> 94.4708176039945"
      ],
      "text/latex": [
       "\\textbf{1:} 94.4708176039945"
      ],
      "text/markdown": [
       "**1:** 94.4708176039945"
      ],
      "text/plain": [
       "       1 \n",
       "94.47082 "
      ]
     },
     "metadata": {},
     "output_type": "display_data"
    }
   ],
   "source": [
    "predict(lm.res, newdata = data.frame(x1 = 200, x2 = 58))"
   ]
  },
  {
   "cell_type": "code",
   "execution_count": 27,
   "id": "8982c3dc",
   "metadata": {},
   "outputs": [
    {
     "data": {
      "text/html": [
       "94.4659"
      ],
      "text/latex": [
       "94.4659"
      ],
      "text/markdown": [
       "94.4659"
      ],
      "text/plain": [
       "[1] 94.4659"
      ]
     },
     "metadata": {},
     "output_type": "display_data"
    }
   ],
   "source": [
    "-428.8851 + -0.2338 * 200 + 9.8295 * 58"
   ]
  },
  {
   "cell_type": "code",
   "execution_count": 28,
   "id": "d11e55e3",
   "metadata": {},
   "outputs": [
    {
     "data": {
      "text/html": [
       "<table class=\"dataframe\">\n",
       "<caption>A data.frame: 6 × 2</caption>\n",
       "<thead>\n",
       "\t<tr><th></th><th scope=col>speed</th><th scope=col>dist</th></tr>\n",
       "\t<tr><th></th><th scope=col>&lt;dbl&gt;</th><th scope=col>&lt;dbl&gt;</th></tr>\n",
       "</thead>\n",
       "<tbody>\n",
       "\t<tr><th scope=row>1</th><td>4</td><td> 2</td></tr>\n",
       "\t<tr><th scope=row>2</th><td>4</td><td>10</td></tr>\n",
       "\t<tr><th scope=row>3</th><td>7</td><td> 4</td></tr>\n",
       "\t<tr><th scope=row>4</th><td>7</td><td>22</td></tr>\n",
       "\t<tr><th scope=row>5</th><td>8</td><td>16</td></tr>\n",
       "\t<tr><th scope=row>6</th><td>9</td><td>10</td></tr>\n",
       "</tbody>\n",
       "</table>\n"
      ],
      "text/latex": [
       "A data.frame: 6 × 2\n",
       "\\begin{tabular}{r|ll}\n",
       "  & speed & dist\\\\\n",
       "  & <dbl> & <dbl>\\\\\n",
       "\\hline\n",
       "\t1 & 4 &  2\\\\\n",
       "\t2 & 4 & 10\\\\\n",
       "\t3 & 7 &  4\\\\\n",
       "\t4 & 7 & 22\\\\\n",
       "\t5 & 8 & 16\\\\\n",
       "\t6 & 9 & 10\\\\\n",
       "\\end{tabular}\n"
      ],
      "text/markdown": [
       "\n",
       "A data.frame: 6 × 2\n",
       "\n",
       "| <!--/--> | speed &lt;dbl&gt; | dist &lt;dbl&gt; |\n",
       "|---|---|---|\n",
       "| 1 | 4 |  2 |\n",
       "| 2 | 4 | 10 |\n",
       "| 3 | 7 |  4 |\n",
       "| 4 | 7 | 22 |\n",
       "| 5 | 8 | 16 |\n",
       "| 6 | 9 | 10 |\n",
       "\n"
      ],
      "text/plain": [
       "  speed dist\n",
       "1 4      2  \n",
       "2 4     10  \n",
       "3 7      4  \n",
       "4 7     22  \n",
       "5 8     16  \n",
       "6 9     10  "
      ]
     },
     "metadata": {},
     "output_type": "display_data"
    }
   ],
   "source": [
    "head(cars)"
   ]
  },
  {
   "cell_type": "code",
   "execution_count": 33,
   "id": "ed0d718e",
   "metadata": {},
   "outputs": [
    {
     "data": {
      "image/png": "[encoded data removed]",
      "text/plain": [
       "plot without title"
      ]
     },
     "metadata": {
      "image/png": {
       "height": 420,
       "width": 420
      }
     },
     "output_type": "display_data"
    }
   ],
   "source": [
    "plot(dist~speed, data = cars)\n",
    "lm.res = lm(dist~speed, data = cars)\n",
    "abline(lm.res)"
   ]
  },
  {
   "cell_type": "code",
   "execution_count": 35,
   "id": "194b2426",
   "metadata": {},
   "outputs": [
    {
     "data": {
      "text/plain": [
       "\n",
       "Call:\n",
       "lm(formula = dist ~ speed, data = cars)\n",
       "\n",
       "Residuals:\n",
       "    Min      1Q  Median      3Q     Max \n",
       "-29.069  -9.525  -2.272   9.215  43.201 \n",
       "\n",
       "Coefficients:\n",
       "            Estimate Std. Error t value Pr(>|t|)    \n",
       "(Intercept) -17.5791     6.7584  -2.601   0.0123 *  \n",
       "speed         3.9324     0.4155   9.464 1.49e-12 ***\n",
       "---\n",
       "Signif. codes:  0 '***' 0.001 '**' 0.01 '*' 0.05 '.' 0.1 ' ' 1\n",
       "\n",
       "Residual standard error: 15.38 on 48 degrees of freedom\n",
       "Multiple R-squared:  0.6511,\tAdjusted R-squared:  0.6438 \n",
       "F-statistic: 89.57 on 1 and 48 DF,  p-value: 1.49e-12\n"
      ]
     },
     "metadata": {},
     "output_type": "display_data"
    }
   ],
   "source": [
    "summary(lm.res)"
   ]
  },
  {
   "cell_type": "code",
   "execution_count": 34,
   "id": "b7bcfc4d",
   "metadata": {},
   "outputs": [
    {
     "data": {
      "text/html": [
       "<strong>1:</strong> 21.74499270073"
      ],
      "text/latex": [
       "\\textbf{1:} 21.74499270073"
      ],
      "text/markdown": [
       "**1:** 21.74499270073"
      ],
      "text/plain": [
       "       1 \n",
       "21.74499 "
      ]
     },
     "metadata": {},
     "output_type": "display_data"
    }
   ],
   "source": [
    "predict(lm.res, newdata=data.frame(speed = 10))"
   ]
  },
  {
   "cell_type": "code",
   "execution_count": 36,
   "id": "f029603a",
   "metadata": {},
   "outputs": [
    {
     "data": {
      "text/html": [
       "21.7449"
      ],
      "text/latex": [
       "21.7449"
      ],
      "text/markdown": [
       "21.7449"
      ],
      "text/plain": [
       "[1] 21.7449"
      ]
     },
     "metadata": {},
     "output_type": "display_data"
    }
   ],
   "source": [
    "-17.5791 + 3.9324 * 10"
   ]
  },
  {
   "cell_type": "code",
   "execution_count": 37,
   "id": "319de6c2",
   "metadata": {},
   "outputs": [
    {
     "data": {
      "text/html": [
       "<strong>(Intercept):</strong> -17.5790948905109"
      ],
      "text/latex": [
       "\\textbf{(Intercept):} -17.5790948905109"
      ],
      "text/markdown": [
       "**(Intercept):** -17.5790948905109"
      ],
      "text/plain": [
       "(Intercept) \n",
       "  -17.57909 "
      ]
     },
     "metadata": {},
     "output_type": "display_data"
    }
   ],
   "source": [
    "coef(lm.res)[1]"
   ]
  },
  {
   "cell_type": "code",
   "execution_count": 38,
   "id": "ef997e1b",
   "metadata": {},
   "outputs": [
    {
     "data": {
      "text/html": [
       "<strong>speed:</strong> 3.93240875912409"
      ],
      "text/latex": [
       "\\textbf{speed:} 3.93240875912409"
      ],
      "text/markdown": [
       "**speed:** 3.93240875912409"
      ],
      "text/plain": [
       "   speed \n",
       "3.932409 "
      ]
     },
     "metadata": {},
     "output_type": "display_data"
    }
   ],
   "source": [
    "coef(lm.res)[2]"
   ]
  },
  {
   "cell_type": "code",
   "execution_count": 39,
   "id": "7584b32d",
   "metadata": {},
   "outputs": [
    {
     "data": {
      "text/plain": [
       "\n",
       "Call:\n",
       "lm(formula = dist ~ speed, data = cars)\n",
       "\n",
       "Coefficients:\n",
       "(Intercept)        speed  \n",
       "    -17.579        3.932  \n"
      ]
     },
     "metadata": {},
     "output_type": "display_data"
    }
   ],
   "source": [
    "lm.res"
   ]
  },
  {
   "cell_type": "code",
   "execution_count": 40,
   "id": "9b253a2b",
   "metadata": {},
   "outputs": [],
   "source": [
    "target = mtcars[,c('mpg','disp','drat','wt')]"
   ]
  },
  {
   "cell_type": "code",
   "execution_count": 41,
   "id": "acb5fed1",
   "metadata": {},
   "outputs": [
    {
     "data": {
      "text/html": [
       "<table class=\"dataframe\">\n",
       "<caption>A data.frame: 32 × 4</caption>\n",
       "<thead>\n",
       "\t<tr><th></th><th scope=col>mpg</th><th scope=col>disp</th><th scope=col>drat</th><th scope=col>wt</th></tr>\n",
       "\t<tr><th></th><th scope=col>&lt;dbl&gt;</th><th scope=col>&lt;dbl&gt;</th><th scope=col>&lt;dbl&gt;</th><th scope=col>&lt;dbl&gt;</th></tr>\n",
       "</thead>\n",
       "<tbody>\n",
       "\t<tr><th scope=row>Mazda RX4</th><td>21.0</td><td>160.0</td><td>3.90</td><td>2.620</td></tr>\n",
       "\t<tr><th scope=row>Mazda RX4 Wag</th><td>21.0</td><td>160.0</td><td>3.90</td><td>2.875</td></tr>\n",
       "\t<tr><th scope=row>Datsun 710</th><td>22.8</td><td>108.0</td><td>3.85</td><td>2.320</td></tr>\n",
       "\t<tr><th scope=row>Hornet 4 Drive</th><td>21.4</td><td>258.0</td><td>3.08</td><td>3.215</td></tr>\n",
       "\t<tr><th scope=row>Hornet Sportabout</th><td>18.7</td><td>360.0</td><td>3.15</td><td>3.440</td></tr>\n",
       "\t<tr><th scope=row>Valiant</th><td>18.1</td><td>225.0</td><td>2.76</td><td>3.460</td></tr>\n",
       "\t<tr><th scope=row>Duster 360</th><td>14.3</td><td>360.0</td><td>3.21</td><td>3.570</td></tr>\n",
       "\t<tr><th scope=row>Merc 240D</th><td>24.4</td><td>146.7</td><td>3.69</td><td>3.190</td></tr>\n",
       "\t<tr><th scope=row>Merc 230</th><td>22.8</td><td>140.8</td><td>3.92</td><td>3.150</td></tr>\n",
       "\t<tr><th scope=row>Merc 280</th><td>19.2</td><td>167.6</td><td>3.92</td><td>3.440</td></tr>\n",
       "\t<tr><th scope=row>Merc 280C</th><td>17.8</td><td>167.6</td><td>3.92</td><td>3.440</td></tr>\n",
       "\t<tr><th scope=row>Merc 450SE</th><td>16.4</td><td>275.8</td><td>3.07</td><td>4.070</td></tr>\n",
       "\t<tr><th scope=row>Merc 450SL</th><td>17.3</td><td>275.8</td><td>3.07</td><td>3.730</td></tr>\n",
       "\t<tr><th scope=row>Merc 450SLC</th><td>15.2</td><td>275.8</td><td>3.07</td><td>3.780</td></tr>\n",
       "\t<tr><th scope=row>Cadillac Fleetwood</th><td>10.4</td><td>472.0</td><td>2.93</td><td>5.250</td></tr>\n",
       "\t<tr><th scope=row>Lincoln Continental</th><td>10.4</td><td>460.0</td><td>3.00</td><td>5.424</td></tr>\n",
       "\t<tr><th scope=row>Chrysler Imperial</th><td>14.7</td><td>440.0</td><td>3.23</td><td>5.345</td></tr>\n",
       "\t<tr><th scope=row>Fiat 128</th><td>32.4</td><td> 78.7</td><td>4.08</td><td>2.200</td></tr>\n",
       "\t<tr><th scope=row>Honda Civic</th><td>30.4</td><td> 75.7</td><td>4.93</td><td>1.615</td></tr>\n",
       "\t<tr><th scope=row>Toyota Corolla</th><td>33.9</td><td> 71.1</td><td>4.22</td><td>1.835</td></tr>\n",
       "\t<tr><th scope=row>Toyota Corona</th><td>21.5</td><td>120.1</td><td>3.70</td><td>2.465</td></tr>\n",
       "\t<tr><th scope=row>Dodge Challenger</th><td>15.5</td><td>318.0</td><td>2.76</td><td>3.520</td></tr>\n",
       "\t<tr><th scope=row>AMC Javelin</th><td>15.2</td><td>304.0</td><td>3.15</td><td>3.435</td></tr>\n",
       "\t<tr><th scope=row>Camaro Z28</th><td>13.3</td><td>350.0</td><td>3.73</td><td>3.840</td></tr>\n",
       "\t<tr><th scope=row>Pontiac Firebird</th><td>19.2</td><td>400.0</td><td>3.08</td><td>3.845</td></tr>\n",
       "\t<tr><th scope=row>Fiat X1-9</th><td>27.3</td><td> 79.0</td><td>4.08</td><td>1.935</td></tr>\n",
       "\t<tr><th scope=row>Porsche 914-2</th><td>26.0</td><td>120.3</td><td>4.43</td><td>2.140</td></tr>\n",
       "\t<tr><th scope=row>Lotus Europa</th><td>30.4</td><td> 95.1</td><td>3.77</td><td>1.513</td></tr>\n",
       "\t<tr><th scope=row>Ford Pantera L</th><td>15.8</td><td>351.0</td><td>4.22</td><td>3.170</td></tr>\n",
       "\t<tr><th scope=row>Ferrari Dino</th><td>19.7</td><td>145.0</td><td>3.62</td><td>2.770</td></tr>\n",
       "\t<tr><th scope=row>Maserati Bora</th><td>15.0</td><td>301.0</td><td>3.54</td><td>3.570</td></tr>\n",
       "\t<tr><th scope=row>Volvo 142E</th><td>21.4</td><td>121.0</td><td>4.11</td><td>2.780</td></tr>\n",
       "</tbody>\n",
       "</table>\n"
      ],
      "text/latex": [
       "A data.frame: 32 × 4\n",
       "\\begin{tabular}{r|llll}\n",
       "  & mpg & disp & drat & wt\\\\\n",
       "  & <dbl> & <dbl> & <dbl> & <dbl>\\\\\n",
       "\\hline\n",
       "\tMazda RX4 & 21.0 & 160.0 & 3.90 & 2.620\\\\\n",
       "\tMazda RX4 Wag & 21.0 & 160.0 & 3.90 & 2.875\\\\\n",
       "\tDatsun 710 & 22.8 & 108.0 & 3.85 & 2.320\\\\\n",
       "\tHornet 4 Drive & 21.4 & 258.0 & 3.08 & 3.215\\\\\n",
       "\tHornet Sportabout & 18.7 & 360.0 & 3.15 & 3.440\\\\\n",
       "\tValiant & 18.1 & 225.0 & 2.76 & 3.460\\\\\n",
       "\tDuster 360 & 14.3 & 360.0 & 3.21 & 3.570\\\\\n",
       "\tMerc 240D & 24.4 & 146.7 & 3.69 & 3.190\\\\\n",
       "\tMerc 230 & 22.8 & 140.8 & 3.92 & 3.150\\\\\n",
       "\tMerc 280 & 19.2 & 167.6 & 3.92 & 3.440\\\\\n",
       "\tMerc 280C & 17.8 & 167.6 & 3.92 & 3.440\\\\\n",
       "\tMerc 450SE & 16.4 & 275.8 & 3.07 & 4.070\\\\\n",
       "\tMerc 450SL & 17.3 & 275.8 & 3.07 & 3.730\\\\\n",
       "\tMerc 450SLC & 15.2 & 275.8 & 3.07 & 3.780\\\\\n",
       "\tCadillac Fleetwood & 10.4 & 472.0 & 2.93 & 5.250\\\\\n",
       "\tLincoln Continental & 10.4 & 460.0 & 3.00 & 5.424\\\\\n",
       "\tChrysler Imperial & 14.7 & 440.0 & 3.23 & 5.345\\\\\n",
       "\tFiat 128 & 32.4 &  78.7 & 4.08 & 2.200\\\\\n",
       "\tHonda Civic & 30.4 &  75.7 & 4.93 & 1.615\\\\\n",
       "\tToyota Corolla & 33.9 &  71.1 & 4.22 & 1.835\\\\\n",
       "\tToyota Corona & 21.5 & 120.1 & 3.70 & 2.465\\\\\n",
       "\tDodge Challenger & 15.5 & 318.0 & 2.76 & 3.520\\\\\n",
       "\tAMC Javelin & 15.2 & 304.0 & 3.15 & 3.435\\\\\n",
       "\tCamaro Z28 & 13.3 & 350.0 & 3.73 & 3.840\\\\\n",
       "\tPontiac Firebird & 19.2 & 400.0 & 3.08 & 3.845\\\\\n",
       "\tFiat X1-9 & 27.3 &  79.0 & 4.08 & 1.935\\\\\n",
       "\tPorsche 914-2 & 26.0 & 120.3 & 4.43 & 2.140\\\\\n",
       "\tLotus Europa & 30.4 &  95.1 & 3.77 & 1.513\\\\\n",
       "\tFord Pantera L & 15.8 & 351.0 & 4.22 & 3.170\\\\\n",
       "\tFerrari Dino & 19.7 & 145.0 & 3.62 & 2.770\\\\\n",
       "\tMaserati Bora & 15.0 & 301.0 & 3.54 & 3.570\\\\\n",
       "\tVolvo 142E & 21.4 & 121.0 & 4.11 & 2.780\\\\\n",
       "\\end{tabular}\n"
      ],
      "text/markdown": [
       "\n",
       "A data.frame: 32 × 4\n",
       "\n",
       "| <!--/--> | mpg &lt;dbl&gt; | disp &lt;dbl&gt; | drat &lt;dbl&gt; | wt &lt;dbl&gt; |\n",
       "|---|---|---|---|---|\n",
       "| Mazda RX4 | 21.0 | 160.0 | 3.90 | 2.620 |\n",
       "| Mazda RX4 Wag | 21.0 | 160.0 | 3.90 | 2.875 |\n",
       "| Datsun 710 | 22.8 | 108.0 | 3.85 | 2.320 |\n",
       "| Hornet 4 Drive | 21.4 | 258.0 | 3.08 | 3.215 |\n",
       "| Hornet Sportabout | 18.7 | 360.0 | 3.15 | 3.440 |\n",
       "| Valiant | 18.1 | 225.0 | 2.76 | 3.460 |\n",
       "| Duster 360 | 14.3 | 360.0 | 3.21 | 3.570 |\n",
       "| Merc 240D | 24.4 | 146.7 | 3.69 | 3.190 |\n",
       "| Merc 230 | 22.8 | 140.8 | 3.92 | 3.150 |\n",
       "| Merc 280 | 19.2 | 167.6 | 3.92 | 3.440 |\n",
       "| Merc 280C | 17.8 | 167.6 | 3.92 | 3.440 |\n",
       "| Merc 450SE | 16.4 | 275.8 | 3.07 | 4.070 |\n",
       "| Merc 450SL | 17.3 | 275.8 | 3.07 | 3.730 |\n",
       "| Merc 450SLC | 15.2 | 275.8 | 3.07 | 3.780 |\n",
       "| Cadillac Fleetwood | 10.4 | 472.0 | 2.93 | 5.250 |\n",
       "| Lincoln Continental | 10.4 | 460.0 | 3.00 | 5.424 |\n",
       "| Chrysler Imperial | 14.7 | 440.0 | 3.23 | 5.345 |\n",
       "| Fiat 128 | 32.4 |  78.7 | 4.08 | 2.200 |\n",
       "| Honda Civic | 30.4 |  75.7 | 4.93 | 1.615 |\n",
       "| Toyota Corolla | 33.9 |  71.1 | 4.22 | 1.835 |\n",
       "| Toyota Corona | 21.5 | 120.1 | 3.70 | 2.465 |\n",
       "| Dodge Challenger | 15.5 | 318.0 | 2.76 | 3.520 |\n",
       "| AMC Javelin | 15.2 | 304.0 | 3.15 | 3.435 |\n",
       "| Camaro Z28 | 13.3 | 350.0 | 3.73 | 3.840 |\n",
       "| Pontiac Firebird | 19.2 | 400.0 | 3.08 | 3.845 |\n",
       "| Fiat X1-9 | 27.3 |  79.0 | 4.08 | 1.935 |\n",
       "| Porsche 914-2 | 26.0 | 120.3 | 4.43 | 2.140 |\n",
       "| Lotus Europa | 30.4 |  95.1 | 3.77 | 1.513 |\n",
       "| Ford Pantera L | 15.8 | 351.0 | 4.22 | 3.170 |\n",
       "| Ferrari Dino | 19.7 | 145.0 | 3.62 | 2.770 |\n",
       "| Maserati Bora | 15.0 | 301.0 | 3.54 | 3.570 |\n",
       "| Volvo 142E | 21.4 | 121.0 | 4.11 | 2.780 |\n",
       "\n"
      ],
      "text/plain": [
       "                    mpg  disp  drat wt   \n",
       "Mazda RX4           21.0 160.0 3.90 2.620\n",
       "Mazda RX4 Wag       21.0 160.0 3.90 2.875\n",
       "Datsun 710          22.8 108.0 3.85 2.320\n",
       "Hornet 4 Drive      21.4 258.0 3.08 3.215\n",
       "Hornet Sportabout   18.7 360.0 3.15 3.440\n",
       "Valiant             18.1 225.0 2.76 3.460\n",
       "Duster 360          14.3 360.0 3.21 3.570\n",
       "Merc 240D           24.4 146.7 3.69 3.190\n",
       "Merc 230            22.8 140.8 3.92 3.150\n",
       "Merc 280            19.2 167.6 3.92 3.440\n",
       "Merc 280C           17.8 167.6 3.92 3.440\n",
       "Merc 450SE          16.4 275.8 3.07 4.070\n",
       "Merc 450SL          17.3 275.8 3.07 3.730\n",
       "Merc 450SLC         15.2 275.8 3.07 3.780\n",
       "Cadillac Fleetwood  10.4 472.0 2.93 5.250\n",
       "Lincoln Continental 10.4 460.0 3.00 5.424\n",
       "Chrysler Imperial   14.7 440.0 3.23 5.345\n",
       "Fiat 128            32.4  78.7 4.08 2.200\n",
       "Honda Civic         30.4  75.7 4.93 1.615\n",
       "Toyota Corolla      33.9  71.1 4.22 1.835\n",
       "Toyota Corona       21.5 120.1 3.70 2.465\n",
       "Dodge Challenger    15.5 318.0 2.76 3.520\n",
       "AMC Javelin         15.2 304.0 3.15 3.435\n",
       "Camaro Z28          13.3 350.0 3.73 3.840\n",
       "Pontiac Firebird    19.2 400.0 3.08 3.845\n",
       "Fiat X1-9           27.3  79.0 4.08 1.935\n",
       "Porsche 914-2       26.0 120.3 4.43 2.140\n",
       "Lotus Europa        30.4  95.1 3.77 1.513\n",
       "Ford Pantera L      15.8 351.0 4.22 3.170\n",
       "Ferrari Dino        19.7 145.0 3.62 2.770\n",
       "Maserati Bora       15.0 301.0 3.54 3.570\n",
       "Volvo 142E          21.4 121.0 4.11 2.780"
      ]
     },
     "metadata": {},
     "output_type": "display_data"
    }
   ],
   "source": [
    "target"
   ]
  },
  {
   "cell_type": "code",
   "execution_count": 42,
   "id": "4758cb11",
   "metadata": {},
   "outputs": [
    {
     "data": {
      "text/html": [
       "<table class=\"dataframe\">\n",
       "<caption>A data.frame: 6 × 4</caption>\n",
       "<thead>\n",
       "\t<tr><th></th><th scope=col>mpg</th><th scope=col>disp</th><th scope=col>drat</th><th scope=col>wt</th></tr>\n",
       "\t<tr><th></th><th scope=col>&lt;dbl&gt;</th><th scope=col>&lt;dbl&gt;</th><th scope=col>&lt;dbl&gt;</th><th scope=col>&lt;dbl&gt;</th></tr>\n",
       "</thead>\n",
       "<tbody>\n",
       "\t<tr><th scope=row>Mazda RX4</th><td>21.0</td><td>160</td><td>3.90</td><td>2.620</td></tr>\n",
       "\t<tr><th scope=row>Mazda RX4 Wag</th><td>21.0</td><td>160</td><td>3.90</td><td>2.875</td></tr>\n",
       "\t<tr><th scope=row>Datsun 710</th><td>22.8</td><td>108</td><td>3.85</td><td>2.320</td></tr>\n",
       "\t<tr><th scope=row>Hornet 4 Drive</th><td>21.4</td><td>258</td><td>3.08</td><td>3.215</td></tr>\n",
       "\t<tr><th scope=row>Hornet Sportabout</th><td>18.7</td><td>360</td><td>3.15</td><td>3.440</td></tr>\n",
       "\t<tr><th scope=row>Valiant</th><td>18.1</td><td>225</td><td>2.76</td><td>3.460</td></tr>\n",
       "</tbody>\n",
       "</table>\n"
      ],
      "text/latex": [
       "A data.frame: 6 × 4\n",
       "\\begin{tabular}{r|llll}\n",
       "  & mpg & disp & drat & wt\\\\\n",
       "  & <dbl> & <dbl> & <dbl> & <dbl>\\\\\n",
       "\\hline\n",
       "\tMazda RX4 & 21.0 & 160 & 3.90 & 2.620\\\\\n",
       "\tMazda RX4 Wag & 21.0 & 160 & 3.90 & 2.875\\\\\n",
       "\tDatsun 710 & 22.8 & 108 & 3.85 & 2.320\\\\\n",
       "\tHornet 4 Drive & 21.4 & 258 & 3.08 & 3.215\\\\\n",
       "\tHornet Sportabout & 18.7 & 360 & 3.15 & 3.440\\\\\n",
       "\tValiant & 18.1 & 225 & 2.76 & 3.460\\\\\n",
       "\\end{tabular}\n"
      ],
      "text/markdown": [
       "\n",
       "A data.frame: 6 × 4\n",
       "\n",
       "| <!--/--> | mpg &lt;dbl&gt; | disp &lt;dbl&gt; | drat &lt;dbl&gt; | wt &lt;dbl&gt; |\n",
       "|---|---|---|---|---|\n",
       "| Mazda RX4 | 21.0 | 160 | 3.90 | 2.620 |\n",
       "| Mazda RX4 Wag | 21.0 | 160 | 3.90 | 2.875 |\n",
       "| Datsun 710 | 22.8 | 108 | 3.85 | 2.320 |\n",
       "| Hornet 4 Drive | 21.4 | 258 | 3.08 | 3.215 |\n",
       "| Hornet Sportabout | 18.7 | 360 | 3.15 | 3.440 |\n",
       "| Valiant | 18.1 | 225 | 2.76 | 3.460 |\n",
       "\n"
      ],
      "text/plain": [
       "                  mpg  disp drat wt   \n",
       "Mazda RX4         21.0 160  3.90 2.620\n",
       "Mazda RX4 Wag     21.0 160  3.90 2.875\n",
       "Datsun 710        22.8 108  3.85 2.320\n",
       "Hornet 4 Drive    21.4 258  3.08 3.215\n",
       "Hornet Sportabout 18.7 360  3.15 3.440\n",
       "Valiant           18.1 225  2.76 3.460"
      ]
     },
     "metadata": {},
     "output_type": "display_data"
    }
   ],
   "source": [
    "head(target)"
   ]
  },
  {
   "cell_type": "code",
   "execution_count": 44,
   "id": "5d7c8717",
   "metadata": {},
   "outputs": [
    {
     "data": {
      "image/png": "[encoded data removed]",
      "text/plain": [
       "plot without title"
      ]
     },
     "metadata": {
      "image/png": {
       "height": 420,
       "width": 420
      }
     },
     "output_type": "display_data"
    }
   ],
   "source": [
    "pairs(target,\n",
    "     main = 'Multi plot')"
   ]
  },
  {
   "cell_type": "code",
   "execution_count": null,
   "id": "fa3195da",
   "metadata": {},
   "outputs": [],
   "source": []
  }
 ],
 "metadata": {
  "kernelspec": {
   "display_name": "R",
   "language": "R",
   "name": "ir"
  },
  "language_info": {
   "codemirror_mode": "r",
   "file_extension": ".r",
   "mimetype": "text/x-r-source",
   "name": "R",
   "pygments_lexer": "r",
   "version": "4.3.1"
  }
 },
 "nbformat": 4,
 "nbformat_minor": 5
}
