{
 "cells": [
  {
   "cell_type": "code",
   "execution_count": 1,
   "id": "9afdb71d",
   "metadata": {},
   "outputs": [],
   "source": [
    "mod = lm(pressure~temperature, data = pressure)"
   ]
  },
  {
   "cell_type": "code",
   "execution_count": 2,
   "id": "d89a8fb6",
   "metadata": {},
   "outputs": [
    {
     "data": {
      "text/plain": [
       "\n",
       "Call:\n",
       "lm(formula = pressure ~ temperature, data = pressure)\n",
       "\n",
       "Coefficients:\n",
       "(Intercept)  temperature  \n",
       "   -147.899        1.512  \n"
      ]
     },
     "metadata": {},
     "output_type": "display_data"
    }
   ],
   "source": [
    "mod"
   ]
  },
  {
   "cell_type": "code",
   "execution_count": 3,
   "id": "8fecafc7",
   "metadata": {},
   "outputs": [
    {
     "data": {
      "text/plain": [
       "\n",
       "Call:\n",
       "lm(formula = pressure ~ temperature, data = pressure)\n",
       "\n",
       "Residuals:\n",
       "    Min      1Q  Median      3Q     Max \n",
       "-158.08 -117.06  -32.84   72.30  409.43 \n",
       "\n",
       "Coefficients:\n",
       "             Estimate Std. Error t value Pr(>|t|)    \n",
       "(Intercept) -147.8989    66.5529  -2.222 0.040124 *  \n",
       "temperature    1.5124     0.3158   4.788 0.000171 ***\n",
       "---\n",
       "Signif. codes:  0 '***' 0.001 '**' 0.01 '*' 0.05 '.' 0.1 ' ' 1\n",
       "\n",
       "Residual standard error: 150.8 on 17 degrees of freedom\n",
       "Multiple R-squared:  0.5742,\tAdjusted R-squared:  0.5492 \n",
       "F-statistic: 22.93 on 1 and 17 DF,  p-value: 0.000171\n"
      ]
     },
     "metadata": {},
     "output_type": "display_data"
    }
   ],
   "source": [
    "summary(mod)"
   ]
  },
  {
   "cell_type": "code",
   "execution_count": 4,
   "id": "c1d7bcf0",
   "metadata": {},
   "outputs": [
    {
     "data": {
      "text/html": [
       "<strong>1:</strong> -49.591580614035"
      ],
      "text/latex": [
       "\\textbf{1:} -49.591580614035"
      ],
      "text/markdown": [
       "**1:** -49.591580614035"
      ],
      "text/plain": [
       "        1 \n",
       "-49.59158 "
      ]
     },
     "metadata": {},
     "output_type": "display_data"
    }
   ],
   "source": [
    "predict(mod, newdata = data.frame(temperature = 65))"
   ]
  },
  {
   "cell_type": "code",
   "execution_count": 5,
   "id": "1730aeac",
   "metadata": {},
   "outputs": [
    {
     "data": {
      "text/html": [
       "-49.5929"
      ],
      "text/latex": [
       "-49.5929"
      ],
      "text/markdown": [
       "-49.5929"
      ],
      "text/plain": [
       "[1] -49.5929"
      ]
     },
     "metadata": {},
     "output_type": "display_data"
    }
   ],
   "source": [
    "-147.8989 + 1.5124 * 65"
   ]
  },
  {
   "cell_type": "code",
   "execution_count": 6,
   "id": "0c76afe1",
   "metadata": {},
   "outputs": [
    {
     "data": {
      "text/html": [
       "<strong>1:</strong> -4.21898429824557"
      ],
      "text/latex": [
       "\\textbf{1:} -4.21898429824557"
      ],
      "text/markdown": [
       "**1:** -4.21898429824557"
      ],
      "text/plain": [
       "        1 \n",
       "-4.218984 "
      ]
     },
     "metadata": {},
     "output_type": "display_data"
    }
   ],
   "source": [
    "predict(mod, newdata = data.frame(temperature = 95))"
   ]
  },
  {
   "cell_type": "code",
   "execution_count": 7,
   "id": "a7fdd0ef",
   "metadata": {},
   "outputs": [
    {
     "data": {
      "text/html": [
       "-4.2209"
      ],
      "text/latex": [
       "-4.2209"
      ],
      "text/markdown": [
       "-4.2209"
      ],
      "text/plain": [
       "[1] -4.2209"
      ]
     },
     "metadata": {},
     "output_type": "display_data"
    }
   ],
   "source": [
    "-147.8989 + 1.5124 * 95"
   ]
  },
  {
   "cell_type": "code",
   "execution_count": 8,
   "id": "86b9598c",
   "metadata": {},
   "outputs": [
    {
     "data": {
      "text/html": [
       "<strong>1:</strong> 86.5262083333334"
      ],
      "text/latex": [
       "\\textbf{1:} 86.5262083333334"
      ],
      "text/markdown": [
       "**1:** 86.5262083333334"
      ],
      "text/plain": [
       "       1 \n",
       "86.52621 "
      ]
     },
     "metadata": {},
     "output_type": "display_data"
    }
   ],
   "source": [
    "predict(mod, newdata = data.frame(temperature = 155))"
   ]
  },
  {
   "cell_type": "code",
   "execution_count": 9,
   "id": "ec8cf366",
   "metadata": {},
   "outputs": [
    {
     "data": {
      "text/html": [
       "86.5231"
      ],
      "text/latex": [
       "86.5231"
      ],
      "text/markdown": [
       "86.5231"
      ],
      "text/plain": [
       "[1] 86.5231"
      ]
     },
     "metadata": {},
     "output_type": "display_data"
    }
   ],
   "source": [
    "-147.8989 + 1.5124 * 155"
   ]
  },
  {
   "cell_type": "code",
   "execution_count": 13,
   "id": "95f985c0",
   "metadata": {},
   "outputs": [],
   "source": [
    "model = lm(Income~Illiteracy+HS.Grad, data = data.frame(state.x77))"
   ]
  },
  {
   "cell_type": "code",
   "execution_count": 14,
   "id": "7582f937",
   "metadata": {},
   "outputs": [
    {
     "data": {
      "text/plain": [
       "\n",
       "Call:\n",
       "lm(formula = Income ~ Illiteracy + HS.Grad, data = data.frame(state.x77))\n",
       "\n",
       "Coefficients:\n",
       "(Intercept)   Illiteracy      HS.Grad  \n",
       "    2131.33       -52.64        44.55  \n"
      ]
     },
     "metadata": {},
     "output_type": "display_data"
    }
   ],
   "source": [
    "model"
   ]
  },
  {
   "cell_type": "code",
   "execution_count": 15,
   "id": "eda7d335",
   "metadata": {},
   "outputs": [
    {
     "data": {
      "text/html": [
       "<strong>1:</strong> 1783.17007099408"
      ],
      "text/latex": [
       "\\textbf{1:} 1783.17007099408"
      ],
      "text/markdown": [
       "**1:** 1783.17007099408"
      ],
      "text/plain": [
       "      1 \n",
       "1783.17 "
      ]
     },
     "metadata": {},
     "output_type": "display_data"
    }
   ],
   "source": [
    "predict(model, newdata = data.frame(Illiteracy = 10, HS.Grad = 4))"
   ]
  },
  {
   "cell_type": "code",
   "execution_count": 17,
   "id": "558bc219",
   "metadata": {},
   "outputs": [
    {
     "data": {
      "text/html": [
       "1783.13"
      ],
      "text/latex": [
       "1783.13"
      ],
      "text/markdown": [
       "1783.13"
      ],
      "text/plain": [
       "[1] 1783.13"
      ]
     },
     "metadata": {},
     "output_type": "display_data"
    }
   ],
   "source": [
    "2131.33 + -52.64 * 10 + 44.55 * 4"
   ]
  },
  {
   "cell_type": "code",
   "execution_count": 19,
   "id": "4f9b7b1a",
   "metadata": {},
   "outputs": [],
   "source": [
    "model = lm(Income~Illiteracy+Population, data = data.frame(state.x77))"
   ]
  },
  {
   "cell_type": "code",
   "execution_count": 20,
   "id": "dc3f6f51",
   "metadata": {},
   "outputs": [],
   "source": [
    "pred = predict(model, data.frame(state.x77)[,c('Illiteracy', 'Population')])"
   ]
  },
  {
   "cell_type": "code",
   "execution_count": 21,
   "id": "b0914bac",
   "metadata": {},
   "outputs": [
    {
     "data": {
      "text/html": [
       "<style>\n",
       ".dl-inline {width: auto; margin:0; padding: 0}\n",
       ".dl-inline>dt, .dl-inline>dd {float: none; width: auto; display: inline-block}\n",
       ".dl-inline>dt::after {content: \":\\0020\"; padding-right: .5ex}\n",
       ".dl-inline>dt:not(:first-of-type) {padding-left: .5ex}\n",
       "</style><dl class=dl-inline><dt>Alabama</dt><dd>3977.52574535517</dd><dt>Alaska</dt><dd>4143.18428855298</dd><dt>Arizona</dt><dd>4068.2460755361</dd><dt>Arkansas</dt><dd>4017.75698782313</dd><dt>California</dt><dd>5071.15357425967</dd><dt>Colorado</dt><dd>4595.43861039884</dd><dt>Connecticut</dt><dd>4427.85457328036</dd><dt>Delaware</dt><dd>4431.97178187744</dd><dt>Florida</dt><dd>4518.14570519609</dd><dt>Georgia</dt><dd>4071.16683810676</dd><dt>Hawaii</dt><dd>3973.60971413452</dd><dt>Idaho</dt><dd>4580.87978277353</dd><dt>Illinois</dt><dd>4809.39187207516</dd><dt>Indiana</dt><dd>4693.97020674731</dd><dt>Iowa</dt><dd>4700.54004166043</dd><dt>Kansas</dt><dd>4633.02475097094</dd><dt>Kentucky</dt><dd>4203.73874593114</dd><dt>Louisiana</dt><dd>3656.27063594424</dd><dt>Maine</dt><dd>4542.72491725859</dd><dt>Maryland</dt><dd>4557.90881140942</dd><dt>Massachusetts</dt><dd>4524.324541711</dd><dt>Michigan</dt><dd>4735.24435765131</dd><dt>Minnesota</dt><dd>4691.35460292182</dd><dt>Mississippi</dt><dd>3791.65062317394</dd><dt>Missouri</dt><dd>4627.6990018703</dd><dt>Montana</dt><dd>4578.49824707536</dd><dt>Nebraska</dt><dd>4606.86340359992</dd><dt>Nevada</dt><dd>4619.8166450849</dd><dt>New Hampshire</dt><dd>4533.98077126229</dd><dt>New Jersey</dt><dd>4578.31786597267</dd><dt>New Mexico</dt><dd>3842.82982079172</dd><dt>New York</dt><dd>4819.59072117945</dd><dt>North Carolina</dt><dd>4183.02187806467</dd><dt>North Dakota</dt><dd>4480.89687599758</dd><dt>Ohio</dt><dd>4839.83340555273</dd><dt>Oklahoma</dt><dd>4414.16962934307</dd><dt>Oregon</dt><dd>4633.16693220665</dd><dt>Pennsylvania</dt><dd>4786.09494569213</dd><dt>Rhode Island</dt><dd>4257.02986581086</dd><dt>South Carolina</dt><dd>3855.39811111706</dd><dt>South Dakota</dt><dd>4623.05126819735</dd><dt>Tennessee</dt><dd>4184.81389254625</dd><dt>Texas</dt><dd>4237.13393273025</dd><dt>Utah</dt><dd>4594.74245325546</dd><dt>Vermont</dt><dd>4568.75883242908</dd><dt>Virginia</dt><dd>4354.12490076703</dd><dt>Washington</dt><dd>4678.48720108988</dd><dt>West Virginia</dt><dd>4241.01972775807</dd><dt>Wisconsin</dt><dd>4668.23540308343</dd><dt>Wyoming</dt><dd>4565.34648277199</dd></dl>\n"
      ],
      "text/latex": [
       "\\begin{description*}\n",
       "\\item[Alabama] 3977.52574535517\n",
       "\\item[Alaska] 4143.18428855298\n",
       "\\item[Arizona] 4068.2460755361\n",
       "\\item[Arkansas] 4017.75698782313\n",
       "\\item[California] 5071.15357425967\n",
       "\\item[Colorado] 4595.43861039884\n",
       "\\item[Connecticut] 4427.85457328036\n",
       "\\item[Delaware] 4431.97178187744\n",
       "\\item[Florida] 4518.14570519609\n",
       "\\item[Georgia] 4071.16683810676\n",
       "\\item[Hawaii] 3973.60971413452\n",
       "\\item[Idaho] 4580.87978277353\n",
       "\\item[Illinois] 4809.39187207516\n",
       "\\item[Indiana] 4693.97020674731\n",
       "\\item[Iowa] 4700.54004166043\n",
       "\\item[Kansas] 4633.02475097094\n",
       "\\item[Kentucky] 4203.73874593114\n",
       "\\item[Louisiana] 3656.27063594424\n",
       "\\item[Maine] 4542.72491725859\n",
       "\\item[Maryland] 4557.90881140942\n",
       "\\item[Massachusetts] 4524.324541711\n",
       "\\item[Michigan] 4735.24435765131\n",
       "\\item[Minnesota] 4691.35460292182\n",
       "\\item[Mississippi] 3791.65062317394\n",
       "\\item[Missouri] 4627.6990018703\n",
       "\\item[Montana] 4578.49824707536\n",
       "\\item[Nebraska] 4606.86340359992\n",
       "\\item[Nevada] 4619.8166450849\n",
       "\\item[New Hampshire] 4533.98077126229\n",
       "\\item[New Jersey] 4578.31786597267\n",
       "\\item[New Mexico] 3842.82982079172\n",
       "\\item[New York] 4819.59072117945\n",
       "\\item[North Carolina] 4183.02187806467\n",
       "\\item[North Dakota] 4480.89687599758\n",
       "\\item[Ohio] 4839.83340555273\n",
       "\\item[Oklahoma] 4414.16962934307\n",
       "\\item[Oregon] 4633.16693220665\n",
       "\\item[Pennsylvania] 4786.09494569213\n",
       "\\item[Rhode Island] 4257.02986581086\n",
       "\\item[South Carolina] 3855.39811111706\n",
       "\\item[South Dakota] 4623.05126819735\n",
       "\\item[Tennessee] 4184.81389254625\n",
       "\\item[Texas] 4237.13393273025\n",
       "\\item[Utah] 4594.74245325546\n",
       "\\item[Vermont] 4568.75883242908\n",
       "\\item[Virginia] 4354.12490076703\n",
       "\\item[Washington] 4678.48720108988\n",
       "\\item[West Virginia] 4241.01972775807\n",
       "\\item[Wisconsin] 4668.23540308343\n",
       "\\item[Wyoming] 4565.34648277199\n",
       "\\end{description*}\n"
      ],
      "text/markdown": [
       "Alabama\n",
       ":   3977.52574535517Alaska\n",
       ":   4143.18428855298Arizona\n",
       ":   4068.2460755361Arkansas\n",
       ":   4017.75698782313California\n",
       ":   5071.15357425967Colorado\n",
       ":   4595.43861039884Connecticut\n",
       ":   4427.85457328036Delaware\n",
       ":   4431.97178187744Florida\n",
       ":   4518.14570519609Georgia\n",
       ":   4071.16683810676Hawaii\n",
       ":   3973.60971413452Idaho\n",
       ":   4580.87978277353Illinois\n",
       ":   4809.39187207516Indiana\n",
       ":   4693.97020674731Iowa\n",
       ":   4700.54004166043Kansas\n",
       ":   4633.02475097094Kentucky\n",
       ":   4203.73874593114Louisiana\n",
       ":   3656.27063594424Maine\n",
       ":   4542.72491725859Maryland\n",
       ":   4557.90881140942Massachusetts\n",
       ":   4524.324541711Michigan\n",
       ":   4735.24435765131Minnesota\n",
       ":   4691.35460292182Mississippi\n",
       ":   3791.65062317394Missouri\n",
       ":   4627.6990018703Montana\n",
       ":   4578.49824707536Nebraska\n",
       ":   4606.86340359992Nevada\n",
       ":   4619.8166450849New Hampshire\n",
       ":   4533.98077126229New Jersey\n",
       ":   4578.31786597267New Mexico\n",
       ":   3842.82982079172New York\n",
       ":   4819.59072117945North Carolina\n",
       ":   4183.02187806467North Dakota\n",
       ":   4480.89687599758Ohio\n",
       ":   4839.83340555273Oklahoma\n",
       ":   4414.16962934307Oregon\n",
       ":   4633.16693220665Pennsylvania\n",
       ":   4786.09494569213Rhode Island\n",
       ":   4257.02986581086South Carolina\n",
       ":   3855.39811111706South Dakota\n",
       ":   4623.05126819735Tennessee\n",
       ":   4184.81389254625Texas\n",
       ":   4237.13393273025Utah\n",
       ":   4594.74245325546Vermont\n",
       ":   4568.75883242908Virginia\n",
       ":   4354.12490076703Washington\n",
       ":   4678.48720108988West Virginia\n",
       ":   4241.01972775807Wisconsin\n",
       ":   4668.23540308343Wyoming\n",
       ":   4565.34648277199\n",
       "\n"
      ],
      "text/plain": [
       "       Alabama         Alaska        Arizona       Arkansas     California \n",
       "      3977.526       4143.184       4068.246       4017.757       5071.154 \n",
       "      Colorado    Connecticut       Delaware        Florida        Georgia \n",
       "      4595.439       4427.855       4431.972       4518.146       4071.167 \n",
       "        Hawaii          Idaho       Illinois        Indiana           Iowa \n",
       "      3973.610       4580.880       4809.392       4693.970       4700.540 \n",
       "        Kansas       Kentucky      Louisiana          Maine       Maryland \n",
       "      4633.025       4203.739       3656.271       4542.725       4557.909 \n",
       " Massachusetts       Michigan      Minnesota    Mississippi       Missouri \n",
       "      4524.325       4735.244       4691.355       3791.651       4627.699 \n",
       "       Montana       Nebraska         Nevada  New Hampshire     New Jersey \n",
       "      4578.498       4606.863       4619.817       4533.981       4578.318 \n",
       "    New Mexico       New York North Carolina   North Dakota           Ohio \n",
       "      3842.830       4819.591       4183.022       4480.897       4839.833 \n",
       "      Oklahoma         Oregon   Pennsylvania   Rhode Island South Carolina \n",
       "      4414.170       4633.167       4786.095       4257.030       3855.398 \n",
       "  South Dakota      Tennessee          Texas           Utah        Vermont \n",
       "      4623.051       4184.814       4237.134       4594.742       4568.759 \n",
       "      Virginia     Washington  West Virginia      Wisconsin        Wyoming \n",
       "      4354.125       4678.487       4241.020       4668.235       4565.346 "
      ]
     },
     "metadata": {},
     "output_type": "display_data"
    }
   ],
   "source": [
    "pred"
   ]
  },
  {
   "cell_type": "code",
   "execution_count": 23,
   "id": "b4dbb252",
   "metadata": {},
   "outputs": [],
   "source": [
    "result = data.frame(예측값 = pred, 실제값 = data.frame(state.x77)$Income, 예측값_실제값 = (pred - data.frame(state.x77)$Income))"
   ]
  },
  {
   "cell_type": "code",
   "execution_count": 24,
   "id": "d2a4e118",
   "metadata": {},
   "outputs": [
    {
     "data": {
      "text/html": [
       "<table class=\"dataframe\">\n",
       "<caption>A data.frame: 50 × 3</caption>\n",
       "<thead>\n",
       "\t<tr><th></th><th scope=col>예측값</th><th scope=col>실제값</th><th scope=col>예측값_실제값</th></tr>\n",
       "\t<tr><th></th><th scope=col>&lt;dbl&gt;</th><th scope=col>&lt;dbl&gt;</th><th scope=col>&lt;dbl&gt;</th></tr>\n",
       "</thead>\n",
       "<tbody>\n",
       "\t<tr><th scope=row>Alabama</th><td>3977.526</td><td>3624</td><td>  353.5257454</td></tr>\n",
       "\t<tr><th scope=row>Alaska</th><td>4143.184</td><td>6315</td><td>-2171.8157114</td></tr>\n",
       "\t<tr><th scope=row>Arizona</th><td>4068.246</td><td>4530</td><td> -461.7539245</td></tr>\n",
       "\t<tr><th scope=row>Arkansas</th><td>4017.757</td><td>3378</td><td>  639.7569878</td></tr>\n",
       "\t<tr><th scope=row>California</th><td>5071.154</td><td>5114</td><td>  -42.8464257</td></tr>\n",
       "\t<tr><th scope=row>Colorado</th><td>4595.439</td><td>4884</td><td> -288.5613896</td></tr>\n",
       "\t<tr><th scope=row>Connecticut</th><td>4427.855</td><td>5348</td><td> -920.1454267</td></tr>\n",
       "\t<tr><th scope=row>Delaware</th><td>4431.972</td><td>4809</td><td> -377.0282181</td></tr>\n",
       "\t<tr><th scope=row>Florida</th><td>4518.146</td><td>4815</td><td> -296.8542948</td></tr>\n",
       "\t<tr><th scope=row>Georgia</th><td>4071.167</td><td>4091</td><td>  -19.8331619</td></tr>\n",
       "\t<tr><th scope=row>Hawaii</th><td>3973.610</td><td>4963</td><td> -989.3902859</td></tr>\n",
       "\t<tr><th scope=row>Idaho</th><td>4580.880</td><td>4119</td><td>  461.8797828</td></tr>\n",
       "\t<tr><th scope=row>Illinois</th><td>4809.392</td><td>5107</td><td> -297.6081279</td></tr>\n",
       "\t<tr><th scope=row>Indiana</th><td>4693.970</td><td>4458</td><td>  235.9702067</td></tr>\n",
       "\t<tr><th scope=row>Iowa</th><td>4700.540</td><td>4628</td><td>   72.5400417</td></tr>\n",
       "\t<tr><th scope=row>Kansas</th><td>4633.025</td><td>4669</td><td>  -35.9752490</td></tr>\n",
       "\t<tr><th scope=row>Kentucky</th><td>4203.739</td><td>3712</td><td>  491.7387459</td></tr>\n",
       "\t<tr><th scope=row>Louisiana</th><td>3656.271</td><td>3545</td><td>  111.2706359</td></tr>\n",
       "\t<tr><th scope=row>Maine</th><td>4542.725</td><td>3694</td><td>  848.7249173</td></tr>\n",
       "\t<tr><th scope=row>Maryland</th><td>4557.909</td><td>5299</td><td> -741.0911886</td></tr>\n",
       "\t<tr><th scope=row>Massachusetts</th><td>4524.325</td><td>4755</td><td> -230.6754583</td></tr>\n",
       "\t<tr><th scope=row>Michigan</th><td>4735.244</td><td>4751</td><td>  -15.7556423</td></tr>\n",
       "\t<tr><th scope=row>Minnesota</th><td>4691.355</td><td>4675</td><td>   16.3546029</td></tr>\n",
       "\t<tr><th scope=row>Mississippi</th><td>3791.651</td><td>3098</td><td>  693.6506232</td></tr>\n",
       "\t<tr><th scope=row>Missouri</th><td>4627.699</td><td>4254</td><td>  373.6990019</td></tr>\n",
       "\t<tr><th scope=row>Montana</th><td>4578.498</td><td>4347</td><td>  231.4982471</td></tr>\n",
       "\t<tr><th scope=row>Nebraska</th><td>4606.863</td><td>4508</td><td>   98.8634036</td></tr>\n",
       "\t<tr><th scope=row>Nevada</th><td>4619.817</td><td>5149</td><td> -529.1833549</td></tr>\n",
       "\t<tr><th scope=row>New Hampshire</th><td>4533.981</td><td>4281</td><td>  252.9807713</td></tr>\n",
       "\t<tr><th scope=row>New Jersey</th><td>4578.318</td><td>5237</td><td> -658.6821340</td></tr>\n",
       "\t<tr><th scope=row>New Mexico</th><td>3842.830</td><td>3601</td><td>  241.8298208</td></tr>\n",
       "\t<tr><th scope=row>New York</th><td>4819.591</td><td>4903</td><td>  -83.4092788</td></tr>\n",
       "\t<tr><th scope=row>North Carolina</th><td>4183.022</td><td>3875</td><td>  308.0218781</td></tr>\n",
       "\t<tr><th scope=row>North Dakota</th><td>4480.897</td><td>5087</td><td> -606.1031240</td></tr>\n",
       "\t<tr><th scope=row>Ohio</th><td>4839.833</td><td>4561</td><td>  278.8334056</td></tr>\n",
       "\t<tr><th scope=row>Oklahoma</th><td>4414.170</td><td>3983</td><td>  431.1696293</td></tr>\n",
       "\t<tr><th scope=row>Oregon</th><td>4633.167</td><td>4660</td><td>  -26.8330678</td></tr>\n",
       "\t<tr><th scope=row>Pennsylvania</th><td>4786.095</td><td>4449</td><td>  337.0949457</td></tr>\n",
       "\t<tr><th scope=row>Rhode Island</th><td>4257.030</td><td>4558</td><td> -300.9701342</td></tr>\n",
       "\t<tr><th scope=row>South Carolina</th><td>3855.398</td><td>3635</td><td>  220.3981111</td></tr>\n",
       "\t<tr><th scope=row>South Dakota</th><td>4623.051</td><td>4167</td><td>  456.0512682</td></tr>\n",
       "\t<tr><th scope=row>Tennessee</th><td>4184.814</td><td>3821</td><td>  363.8138925</td></tr>\n",
       "\t<tr><th scope=row>Texas</th><td>4237.134</td><td>4188</td><td>   49.1339327</td></tr>\n",
       "\t<tr><th scope=row>Utah</th><td>4594.742</td><td>4022</td><td>  572.7424533</td></tr>\n",
       "\t<tr><th scope=row>Vermont</th><td>4568.759</td><td>3907</td><td>  661.7588324</td></tr>\n",
       "\t<tr><th scope=row>Virginia</th><td>4354.125</td><td>4701</td><td> -346.8750992</td></tr>\n",
       "\t<tr><th scope=row>Washington</th><td>4678.487</td><td>4864</td><td> -185.5127989</td></tr>\n",
       "\t<tr><th scope=row>West Virginia</th><td>4241.020</td><td>3617</td><td>  624.0197278</td></tr>\n",
       "\t<tr><th scope=row>Wisconsin</th><td>4668.235</td><td>4468</td><td>  200.2354031</td></tr>\n",
       "\t<tr><th scope=row>Wyoming</th><td>4565.346</td><td>4566</td><td>   -0.6535172</td></tr>\n",
       "</tbody>\n",
       "</table>\n"
      ],
      "text/latex": [
       "A data.frame: 50 × 3\n",
       "\\begin{tabular}{r|lll}\n",
       "  & 예측값 & 실제값 & 예측값\\_실제값\\\\\n",
       "  & <dbl> & <dbl> & <dbl>\\\\\n",
       "\\hline\n",
       "\tAlabama & 3977.526 & 3624 &   353.5257454\\\\\n",
       "\tAlaska & 4143.184 & 6315 & -2171.8157114\\\\\n",
       "\tArizona & 4068.246 & 4530 &  -461.7539245\\\\\n",
       "\tArkansas & 4017.757 & 3378 &   639.7569878\\\\\n",
       "\tCalifornia & 5071.154 & 5114 &   -42.8464257\\\\\n",
       "\tColorado & 4595.439 & 4884 &  -288.5613896\\\\\n",
       "\tConnecticut & 4427.855 & 5348 &  -920.1454267\\\\\n",
       "\tDelaware & 4431.972 & 4809 &  -377.0282181\\\\\n",
       "\tFlorida & 4518.146 & 4815 &  -296.8542948\\\\\n",
       "\tGeorgia & 4071.167 & 4091 &   -19.8331619\\\\\n",
       "\tHawaii & 3973.610 & 4963 &  -989.3902859\\\\\n",
       "\tIdaho & 4580.880 & 4119 &   461.8797828\\\\\n",
       "\tIllinois & 4809.392 & 5107 &  -297.6081279\\\\\n",
       "\tIndiana & 4693.970 & 4458 &   235.9702067\\\\\n",
       "\tIowa & 4700.540 & 4628 &    72.5400417\\\\\n",
       "\tKansas & 4633.025 & 4669 &   -35.9752490\\\\\n",
       "\tKentucky & 4203.739 & 3712 &   491.7387459\\\\\n",
       "\tLouisiana & 3656.271 & 3545 &   111.2706359\\\\\n",
       "\tMaine & 4542.725 & 3694 &   848.7249173\\\\\n",
       "\tMaryland & 4557.909 & 5299 &  -741.0911886\\\\\n",
       "\tMassachusetts & 4524.325 & 4755 &  -230.6754583\\\\\n",
       "\tMichigan & 4735.244 & 4751 &   -15.7556423\\\\\n",
       "\tMinnesota & 4691.355 & 4675 &    16.3546029\\\\\n",
       "\tMississippi & 3791.651 & 3098 &   693.6506232\\\\\n",
       "\tMissouri & 4627.699 & 4254 &   373.6990019\\\\\n",
       "\tMontana & 4578.498 & 4347 &   231.4982471\\\\\n",
       "\tNebraska & 4606.863 & 4508 &    98.8634036\\\\\n",
       "\tNevada & 4619.817 & 5149 &  -529.1833549\\\\\n",
       "\tNew Hampshire & 4533.981 & 4281 &   252.9807713\\\\\n",
       "\tNew Jersey & 4578.318 & 5237 &  -658.6821340\\\\\n",
       "\tNew Mexico & 3842.830 & 3601 &   241.8298208\\\\\n",
       "\tNew York & 4819.591 & 4903 &   -83.4092788\\\\\n",
       "\tNorth Carolina & 4183.022 & 3875 &   308.0218781\\\\\n",
       "\tNorth Dakota & 4480.897 & 5087 &  -606.1031240\\\\\n",
       "\tOhio & 4839.833 & 4561 &   278.8334056\\\\\n",
       "\tOklahoma & 4414.170 & 3983 &   431.1696293\\\\\n",
       "\tOregon & 4633.167 & 4660 &   -26.8330678\\\\\n",
       "\tPennsylvania & 4786.095 & 4449 &   337.0949457\\\\\n",
       "\tRhode Island & 4257.030 & 4558 &  -300.9701342\\\\\n",
       "\tSouth Carolina & 3855.398 & 3635 &   220.3981111\\\\\n",
       "\tSouth Dakota & 4623.051 & 4167 &   456.0512682\\\\\n",
       "\tTennessee & 4184.814 & 3821 &   363.8138925\\\\\n",
       "\tTexas & 4237.134 & 4188 &    49.1339327\\\\\n",
       "\tUtah & 4594.742 & 4022 &   572.7424533\\\\\n",
       "\tVermont & 4568.759 & 3907 &   661.7588324\\\\\n",
       "\tVirginia & 4354.125 & 4701 &  -346.8750992\\\\\n",
       "\tWashington & 4678.487 & 4864 &  -185.5127989\\\\\n",
       "\tWest Virginia & 4241.020 & 3617 &   624.0197278\\\\\n",
       "\tWisconsin & 4668.235 & 4468 &   200.2354031\\\\\n",
       "\tWyoming & 4565.346 & 4566 &    -0.6535172\\\\\n",
       "\\end{tabular}\n"
      ],
      "text/markdown": [
       "\n",
       "A data.frame: 50 × 3\n",
       "\n",
       "| <!--/--> | 예측값 &lt;dbl&gt; | 실제값 &lt;dbl&gt; | 예측값_실제값 &lt;dbl&gt; |\n",
       "|---|---|---|---|\n",
       "| Alabama | 3977.526 | 3624 |   353.5257454 |\n",
       "| Alaska | 4143.184 | 6315 | -2171.8157114 |\n",
       "| Arizona | 4068.246 | 4530 |  -461.7539245 |\n",
       "| Arkansas | 4017.757 | 3378 |   639.7569878 |\n",
       "| California | 5071.154 | 5114 |   -42.8464257 |\n",
       "| Colorado | 4595.439 | 4884 |  -288.5613896 |\n",
       "| Connecticut | 4427.855 | 5348 |  -920.1454267 |\n",
       "| Delaware | 4431.972 | 4809 |  -377.0282181 |\n",
       "| Florida | 4518.146 | 4815 |  -296.8542948 |\n",
       "| Georgia | 4071.167 | 4091 |   -19.8331619 |\n",
       "| Hawaii | 3973.610 | 4963 |  -989.3902859 |\n",
       "| Idaho | 4580.880 | 4119 |   461.8797828 |\n",
       "| Illinois | 4809.392 | 5107 |  -297.6081279 |\n",
       "| Indiana | 4693.970 | 4458 |   235.9702067 |\n",
       "| Iowa | 4700.540 | 4628 |    72.5400417 |\n",
       "| Kansas | 4633.025 | 4669 |   -35.9752490 |\n",
       "| Kentucky | 4203.739 | 3712 |   491.7387459 |\n",
       "| Louisiana | 3656.271 | 3545 |   111.2706359 |\n",
       "| Maine | 4542.725 | 3694 |   848.7249173 |\n",
       "| Maryland | 4557.909 | 5299 |  -741.0911886 |\n",
       "| Massachusetts | 4524.325 | 4755 |  -230.6754583 |\n",
       "| Michigan | 4735.244 | 4751 |   -15.7556423 |\n",
       "| Minnesota | 4691.355 | 4675 |    16.3546029 |\n",
       "| Mississippi | 3791.651 | 3098 |   693.6506232 |\n",
       "| Missouri | 4627.699 | 4254 |   373.6990019 |\n",
       "| Montana | 4578.498 | 4347 |   231.4982471 |\n",
       "| Nebraska | 4606.863 | 4508 |    98.8634036 |\n",
       "| Nevada | 4619.817 | 5149 |  -529.1833549 |\n",
       "| New Hampshire | 4533.981 | 4281 |   252.9807713 |\n",
       "| New Jersey | 4578.318 | 5237 |  -658.6821340 |\n",
       "| New Mexico | 3842.830 | 3601 |   241.8298208 |\n",
       "| New York | 4819.591 | 4903 |   -83.4092788 |\n",
       "| North Carolina | 4183.022 | 3875 |   308.0218781 |\n",
       "| North Dakota | 4480.897 | 5087 |  -606.1031240 |\n",
       "| Ohio | 4839.833 | 4561 |   278.8334056 |\n",
       "| Oklahoma | 4414.170 | 3983 |   431.1696293 |\n",
       "| Oregon | 4633.167 | 4660 |   -26.8330678 |\n",
       "| Pennsylvania | 4786.095 | 4449 |   337.0949457 |\n",
       "| Rhode Island | 4257.030 | 4558 |  -300.9701342 |\n",
       "| South Carolina | 3855.398 | 3635 |   220.3981111 |\n",
       "| South Dakota | 4623.051 | 4167 |   456.0512682 |\n",
       "| Tennessee | 4184.814 | 3821 |   363.8138925 |\n",
       "| Texas | 4237.134 | 4188 |    49.1339327 |\n",
       "| Utah | 4594.742 | 4022 |   572.7424533 |\n",
       "| Vermont | 4568.759 | 3907 |   661.7588324 |\n",
       "| Virginia | 4354.125 | 4701 |  -346.8750992 |\n",
       "| Washington | 4678.487 | 4864 |  -185.5127989 |\n",
       "| West Virginia | 4241.020 | 3617 |   624.0197278 |\n",
       "| Wisconsin | 4668.235 | 4468 |   200.2354031 |\n",
       "| Wyoming | 4565.346 | 4566 |    -0.6535172 |\n",
       "\n"
      ],
      "text/plain": [
       "               예측값   실제값 예측값_실제값\n",
       "Alabama        3977.526 3624     353.5257454\n",
       "Alaska         4143.184 6315   -2171.8157114\n",
       "Arizona        4068.246 4530    -461.7539245\n",
       "Arkansas       4017.757 3378     639.7569878\n",
       "California     5071.154 5114     -42.8464257\n",
       "Colorado       4595.439 4884    -288.5613896\n",
       "Connecticut    4427.855 5348    -920.1454267\n",
       "Delaware       4431.972 4809    -377.0282181\n",
       "Florida        4518.146 4815    -296.8542948\n",
       "Georgia        4071.167 4091     -19.8331619\n",
       "Hawaii         3973.610 4963    -989.3902859\n",
       "Idaho          4580.880 4119     461.8797828\n",
       "Illinois       4809.392 5107    -297.6081279\n",
       "Indiana        4693.970 4458     235.9702067\n",
       "Iowa           4700.540 4628      72.5400417\n",
       "Kansas         4633.025 4669     -35.9752490\n",
       "Kentucky       4203.739 3712     491.7387459\n",
       "Louisiana      3656.271 3545     111.2706359\n",
       "Maine          4542.725 3694     848.7249173\n",
       "Maryland       4557.909 5299    -741.0911886\n",
       "Massachusetts  4524.325 4755    -230.6754583\n",
       "Michigan       4735.244 4751     -15.7556423\n",
       "Minnesota      4691.355 4675      16.3546029\n",
       "Mississippi    3791.651 3098     693.6506232\n",
       "Missouri       4627.699 4254     373.6990019\n",
       "Montana        4578.498 4347     231.4982471\n",
       "Nebraska       4606.863 4508      98.8634036\n",
       "Nevada         4619.817 5149    -529.1833549\n",
       "New Hampshire  4533.981 4281     252.9807713\n",
       "New Jersey     4578.318 5237    -658.6821340\n",
       "New Mexico     3842.830 3601     241.8298208\n",
       "New York       4819.591 4903     -83.4092788\n",
       "North Carolina 4183.022 3875     308.0218781\n",
       "North Dakota   4480.897 5087    -606.1031240\n",
       "Ohio           4839.833 4561     278.8334056\n",
       "Oklahoma       4414.170 3983     431.1696293\n",
       "Oregon         4633.167 4660     -26.8330678\n",
       "Pennsylvania   4786.095 4449     337.0949457\n",
       "Rhode Island   4257.030 4558    -300.9701342\n",
       "South Carolina 3855.398 3635     220.3981111\n",
       "South Dakota   4623.051 4167     456.0512682\n",
       "Tennessee      4184.814 3821     363.8138925\n",
       "Texas          4237.134 4188      49.1339327\n",
       "Utah           4594.742 4022     572.7424533\n",
       "Vermont        4568.759 3907     661.7588324\n",
       "Virginia       4354.125 4701    -346.8750992\n",
       "Washington     4678.487 4864    -185.5127989\n",
       "West Virginia  4241.020 3617     624.0197278\n",
       "Wisconsin      4668.235 4468     200.2354031\n",
       "Wyoming        4565.346 4566      -0.6535172"
      ]
     },
     "metadata": {},
     "output_type": "display_data"
    }
   ],
   "source": [
    "result"
   ]
  },
  {
   "cell_type": "code",
   "execution_count": 25,
   "id": "ed60b9d4",
   "metadata": {},
   "outputs": [
    {
     "name": "stderr",
     "output_type": "stream",
     "text": [
      "Warning message:\n",
      "\"package 'mlbench' was built under R version 4.3.2\"\n"
     ]
    }
   ],
   "source": [
    "library(mlbench)"
   ]
  },
  {
   "cell_type": "code",
   "execution_count": 26,
   "id": "6e23b510",
   "metadata": {},
   "outputs": [],
   "source": [
    "data(BostonHousing)"
   ]
  },
  {
   "cell_type": "code",
   "execution_count": 27,
   "id": "56698770",
   "metadata": {},
   "outputs": [],
   "source": [
    "ds = BostonHousing[, -4]"
   ]
  },
  {
   "cell_type": "code",
   "execution_count": 28,
   "id": "17598b30",
   "metadata": {},
   "outputs": [
    {
     "data": {
      "text/html": [
       "<table class=\"dataframe\">\n",
       "<caption>A data.frame: 506 × 13</caption>\n",
       "<thead>\n",
       "\t<tr><th></th><th scope=col>crim</th><th scope=col>zn</th><th scope=col>indus</th><th scope=col>nox</th><th scope=col>rm</th><th scope=col>age</th><th scope=col>dis</th><th scope=col>rad</th><th scope=col>tax</th><th scope=col>ptratio</th><th scope=col>b</th><th scope=col>lstat</th><th scope=col>medv</th></tr>\n",
       "\t<tr><th></th><th scope=col>&lt;dbl&gt;</th><th scope=col>&lt;dbl&gt;</th><th scope=col>&lt;dbl&gt;</th><th scope=col>&lt;dbl&gt;</th><th scope=col>&lt;dbl&gt;</th><th scope=col>&lt;dbl&gt;</th><th scope=col>&lt;dbl&gt;</th><th scope=col>&lt;dbl&gt;</th><th scope=col>&lt;dbl&gt;</th><th scope=col>&lt;dbl&gt;</th><th scope=col>&lt;dbl&gt;</th><th scope=col>&lt;dbl&gt;</th><th scope=col>&lt;dbl&gt;</th></tr>\n",
       "</thead>\n",
       "<tbody>\n",
       "\t<tr><th scope=row>1</th><td>0.00632</td><td>18.0</td><td>2.31</td><td>0.538</td><td>6.575</td><td> 65.2</td><td>4.0900</td><td>1</td><td>296</td><td>15.3</td><td>396.90</td><td> 4.98</td><td>24.0</td></tr>\n",
       "\t<tr><th scope=row>2</th><td>0.02731</td><td> 0.0</td><td>7.07</td><td>0.469</td><td>6.421</td><td> 78.9</td><td>4.9671</td><td>2</td><td>242</td><td>17.8</td><td>396.90</td><td> 9.14</td><td>21.6</td></tr>\n",
       "\t<tr><th scope=row>3</th><td>0.02729</td><td> 0.0</td><td>7.07</td><td>0.469</td><td>7.185</td><td> 61.1</td><td>4.9671</td><td>2</td><td>242</td><td>17.8</td><td>392.83</td><td> 4.03</td><td>34.7</td></tr>\n",
       "\t<tr><th scope=row>4</th><td>0.03237</td><td> 0.0</td><td>2.18</td><td>0.458</td><td>6.998</td><td> 45.8</td><td>6.0622</td><td>3</td><td>222</td><td>18.7</td><td>394.63</td><td> 2.94</td><td>33.4</td></tr>\n",
       "\t<tr><th scope=row>5</th><td>0.06905</td><td> 0.0</td><td>2.18</td><td>0.458</td><td>7.147</td><td> 54.2</td><td>6.0622</td><td>3</td><td>222</td><td>18.7</td><td>396.90</td><td> 5.33</td><td>36.2</td></tr>\n",
       "\t<tr><th scope=row>6</th><td>0.02985</td><td> 0.0</td><td>2.18</td><td>0.458</td><td>6.430</td><td> 58.7</td><td>6.0622</td><td>3</td><td>222</td><td>18.7</td><td>394.12</td><td> 5.21</td><td>28.7</td></tr>\n",
       "\t<tr><th scope=row>7</th><td>0.08829</td><td>12.5</td><td>7.87</td><td>0.524</td><td>6.012</td><td> 66.6</td><td>5.5605</td><td>5</td><td>311</td><td>15.2</td><td>395.60</td><td>12.43</td><td>22.9</td></tr>\n",
       "\t<tr><th scope=row>8</th><td>0.14455</td><td>12.5</td><td>7.87</td><td>0.524</td><td>6.172</td><td> 96.1</td><td>5.9505</td><td>5</td><td>311</td><td>15.2</td><td>396.90</td><td>19.15</td><td>27.1</td></tr>\n",
       "\t<tr><th scope=row>9</th><td>0.21124</td><td>12.5</td><td>7.87</td><td>0.524</td><td>5.631</td><td>100.0</td><td>6.0821</td><td>5</td><td>311</td><td>15.2</td><td>386.63</td><td>29.93</td><td>16.5</td></tr>\n",
       "\t<tr><th scope=row>10</th><td>0.17004</td><td>12.5</td><td>7.87</td><td>0.524</td><td>6.004</td><td> 85.9</td><td>6.5921</td><td>5</td><td>311</td><td>15.2</td><td>386.71</td><td>17.10</td><td>18.9</td></tr>\n",
       "\t<tr><th scope=row>11</th><td>0.22489</td><td>12.5</td><td>7.87</td><td>0.524</td><td>6.377</td><td> 94.3</td><td>6.3467</td><td>5</td><td>311</td><td>15.2</td><td>392.52</td><td>20.45</td><td>15.0</td></tr>\n",
       "\t<tr><th scope=row>12</th><td>0.11747</td><td>12.5</td><td>7.87</td><td>0.524</td><td>6.009</td><td> 82.9</td><td>6.2267</td><td>5</td><td>311</td><td>15.2</td><td>396.90</td><td>13.27</td><td>18.9</td></tr>\n",
       "\t<tr><th scope=row>13</th><td>0.09378</td><td>12.5</td><td>7.87</td><td>0.524</td><td>5.889</td><td> 39.0</td><td>5.4509</td><td>5</td><td>311</td><td>15.2</td><td>390.50</td><td>15.71</td><td>21.7</td></tr>\n",
       "\t<tr><th scope=row>14</th><td>0.62976</td><td> 0.0</td><td>8.14</td><td>0.538</td><td>5.949</td><td> 61.8</td><td>4.7075</td><td>4</td><td>307</td><td>21.0</td><td>396.90</td><td> 8.26</td><td>20.4</td></tr>\n",
       "\t<tr><th scope=row>15</th><td>0.63796</td><td> 0.0</td><td>8.14</td><td>0.538</td><td>6.096</td><td> 84.5</td><td>4.4619</td><td>4</td><td>307</td><td>21.0</td><td>380.02</td><td>10.26</td><td>18.2</td></tr>\n",
       "\t<tr><th scope=row>16</th><td>0.62739</td><td> 0.0</td><td>8.14</td><td>0.538</td><td>5.834</td><td> 56.5</td><td>4.4986</td><td>4</td><td>307</td><td>21.0</td><td>395.62</td><td> 8.47</td><td>19.9</td></tr>\n",
       "\t<tr><th scope=row>17</th><td>1.05393</td><td> 0.0</td><td>8.14</td><td>0.538</td><td>5.935</td><td> 29.3</td><td>4.4986</td><td>4</td><td>307</td><td>21.0</td><td>386.85</td><td> 6.58</td><td>23.1</td></tr>\n",
       "\t<tr><th scope=row>18</th><td>0.78420</td><td> 0.0</td><td>8.14</td><td>0.538</td><td>5.990</td><td> 81.7</td><td>4.2579</td><td>4</td><td>307</td><td>21.0</td><td>386.75</td><td>14.67</td><td>17.5</td></tr>\n",
       "\t<tr><th scope=row>19</th><td>0.80271</td><td> 0.0</td><td>8.14</td><td>0.538</td><td>5.456</td><td> 36.6</td><td>3.7965</td><td>4</td><td>307</td><td>21.0</td><td>288.99</td><td>11.69</td><td>20.2</td></tr>\n",
       "\t<tr><th scope=row>20</th><td>0.72580</td><td> 0.0</td><td>8.14</td><td>0.538</td><td>5.727</td><td> 69.5</td><td>3.7965</td><td>4</td><td>307</td><td>21.0</td><td>390.95</td><td>11.28</td><td>18.2</td></tr>\n",
       "\t<tr><th scope=row>21</th><td>1.25179</td><td> 0.0</td><td>8.14</td><td>0.538</td><td>5.570</td><td> 98.1</td><td>3.7979</td><td>4</td><td>307</td><td>21.0</td><td>376.57</td><td>21.02</td><td>13.6</td></tr>\n",
       "\t<tr><th scope=row>22</th><td>0.85204</td><td> 0.0</td><td>8.14</td><td>0.538</td><td>5.965</td><td> 89.2</td><td>4.0123</td><td>4</td><td>307</td><td>21.0</td><td>392.53</td><td>13.83</td><td>19.6</td></tr>\n",
       "\t<tr><th scope=row>23</th><td>1.23247</td><td> 0.0</td><td>8.14</td><td>0.538</td><td>6.142</td><td> 91.7</td><td>3.9769</td><td>4</td><td>307</td><td>21.0</td><td>396.90</td><td>18.72</td><td>15.2</td></tr>\n",
       "\t<tr><th scope=row>24</th><td>0.98843</td><td> 0.0</td><td>8.14</td><td>0.538</td><td>5.813</td><td>100.0</td><td>4.0952</td><td>4</td><td>307</td><td>21.0</td><td>394.54</td><td>19.88</td><td>14.5</td></tr>\n",
       "\t<tr><th scope=row>25</th><td>0.75026</td><td> 0.0</td><td>8.14</td><td>0.538</td><td>5.924</td><td> 94.1</td><td>4.3996</td><td>4</td><td>307</td><td>21.0</td><td>394.33</td><td>16.30</td><td>15.6</td></tr>\n",
       "\t<tr><th scope=row>26</th><td>0.84054</td><td> 0.0</td><td>8.14</td><td>0.538</td><td>5.599</td><td> 85.7</td><td>4.4546</td><td>4</td><td>307</td><td>21.0</td><td>303.42</td><td>16.51</td><td>13.9</td></tr>\n",
       "\t<tr><th scope=row>27</th><td>0.67191</td><td> 0.0</td><td>8.14</td><td>0.538</td><td>5.813</td><td> 90.3</td><td>4.6820</td><td>4</td><td>307</td><td>21.0</td><td>376.88</td><td>14.81</td><td>16.6</td></tr>\n",
       "\t<tr><th scope=row>28</th><td>0.95577</td><td> 0.0</td><td>8.14</td><td>0.538</td><td>6.047</td><td> 88.8</td><td>4.4534</td><td>4</td><td>307</td><td>21.0</td><td>306.38</td><td>17.28</td><td>14.8</td></tr>\n",
       "\t<tr><th scope=row>29</th><td>0.77299</td><td> 0.0</td><td>8.14</td><td>0.538</td><td>6.495</td><td> 94.4</td><td>4.4547</td><td>4</td><td>307</td><td>21.0</td><td>387.94</td><td>12.80</td><td>18.4</td></tr>\n",
       "\t<tr><th scope=row>30</th><td>1.00245</td><td> 0.0</td><td>8.14</td><td>0.538</td><td>6.674</td><td> 87.3</td><td>4.2390</td><td>4</td><td>307</td><td>21.0</td><td>380.23</td><td>11.98</td><td>21.0</td></tr>\n",
       "\t<tr><th scope=row>⋮</th><td>⋮</td><td>⋮</td><td>⋮</td><td>⋮</td><td>⋮</td><td>⋮</td><td>⋮</td><td>⋮</td><td>⋮</td><td>⋮</td><td>⋮</td><td>⋮</td><td>⋮</td></tr>\n",
       "\t<tr><th scope=row>477</th><td> 4.87141</td><td>0</td><td>18.10</td><td>0.614</td><td>6.484</td><td>93.6</td><td>2.3053</td><td>24</td><td>666</td><td>20.2</td><td>396.21</td><td>18.68</td><td>16.7</td></tr>\n",
       "\t<tr><th scope=row>478</th><td>15.02340</td><td>0</td><td>18.10</td><td>0.614</td><td>5.304</td><td>97.3</td><td>2.1007</td><td>24</td><td>666</td><td>20.2</td><td>349.48</td><td>24.91</td><td>12.0</td></tr>\n",
       "\t<tr><th scope=row>479</th><td>10.23300</td><td>0</td><td>18.10</td><td>0.614</td><td>6.185</td><td>96.7</td><td>2.1705</td><td>24</td><td>666</td><td>20.2</td><td>379.70</td><td>18.03</td><td>14.6</td></tr>\n",
       "\t<tr><th scope=row>480</th><td>14.33370</td><td>0</td><td>18.10</td><td>0.614</td><td>6.229</td><td>88.0</td><td>1.9512</td><td>24</td><td>666</td><td>20.2</td><td>383.32</td><td>13.11</td><td>21.4</td></tr>\n",
       "\t<tr><th scope=row>481</th><td> 5.82401</td><td>0</td><td>18.10</td><td>0.532</td><td>6.242</td><td>64.7</td><td>3.4242</td><td>24</td><td>666</td><td>20.2</td><td>396.90</td><td>10.74</td><td>23.0</td></tr>\n",
       "\t<tr><th scope=row>482</th><td> 5.70818</td><td>0</td><td>18.10</td><td>0.532</td><td>6.750</td><td>74.9</td><td>3.3317</td><td>24</td><td>666</td><td>20.2</td><td>393.07</td><td> 7.74</td><td>23.7</td></tr>\n",
       "\t<tr><th scope=row>483</th><td> 5.73116</td><td>0</td><td>18.10</td><td>0.532</td><td>7.061</td><td>77.0</td><td>3.4106</td><td>24</td><td>666</td><td>20.2</td><td>395.28</td><td> 7.01</td><td>25.0</td></tr>\n",
       "\t<tr><th scope=row>484</th><td> 2.81838</td><td>0</td><td>18.10</td><td>0.532</td><td>5.762</td><td>40.3</td><td>4.0983</td><td>24</td><td>666</td><td>20.2</td><td>392.92</td><td>10.42</td><td>21.8</td></tr>\n",
       "\t<tr><th scope=row>485</th><td> 2.37857</td><td>0</td><td>18.10</td><td>0.583</td><td>5.871</td><td>41.9</td><td>3.7240</td><td>24</td><td>666</td><td>20.2</td><td>370.73</td><td>13.34</td><td>20.6</td></tr>\n",
       "\t<tr><th scope=row>486</th><td> 3.67367</td><td>0</td><td>18.10</td><td>0.583</td><td>6.312</td><td>51.9</td><td>3.9917</td><td>24</td><td>666</td><td>20.2</td><td>388.62</td><td>10.58</td><td>21.2</td></tr>\n",
       "\t<tr><th scope=row>487</th><td> 5.69175</td><td>0</td><td>18.10</td><td>0.583</td><td>6.114</td><td>79.8</td><td>3.5459</td><td>24</td><td>666</td><td>20.2</td><td>392.68</td><td>14.98</td><td>19.1</td></tr>\n",
       "\t<tr><th scope=row>488</th><td> 4.83567</td><td>0</td><td>18.10</td><td>0.583</td><td>5.905</td><td>53.2</td><td>3.1523</td><td>24</td><td>666</td><td>20.2</td><td>388.22</td><td>11.45</td><td>20.6</td></tr>\n",
       "\t<tr><th scope=row>489</th><td> 0.15086</td><td>0</td><td>27.74</td><td>0.609</td><td>5.454</td><td>92.7</td><td>1.8209</td><td> 4</td><td>711</td><td>20.1</td><td>395.09</td><td>18.06</td><td>15.2</td></tr>\n",
       "\t<tr><th scope=row>490</th><td> 0.18337</td><td>0</td><td>27.74</td><td>0.609</td><td>5.414</td><td>98.3</td><td>1.7554</td><td> 4</td><td>711</td><td>20.1</td><td>344.05</td><td>23.97</td><td> 7.0</td></tr>\n",
       "\t<tr><th scope=row>491</th><td> 0.20746</td><td>0</td><td>27.74</td><td>0.609</td><td>5.093</td><td>98.0</td><td>1.8226</td><td> 4</td><td>711</td><td>20.1</td><td>318.43</td><td>29.68</td><td> 8.1</td></tr>\n",
       "\t<tr><th scope=row>492</th><td> 0.10574</td><td>0</td><td>27.74</td><td>0.609</td><td>5.983</td><td>98.8</td><td>1.8681</td><td> 4</td><td>711</td><td>20.1</td><td>390.11</td><td>18.07</td><td>13.6</td></tr>\n",
       "\t<tr><th scope=row>493</th><td> 0.11132</td><td>0</td><td>27.74</td><td>0.609</td><td>5.983</td><td>83.5</td><td>2.1099</td><td> 4</td><td>711</td><td>20.1</td><td>396.90</td><td>13.35</td><td>20.1</td></tr>\n",
       "\t<tr><th scope=row>494</th><td> 0.17331</td><td>0</td><td> 9.69</td><td>0.585</td><td>5.707</td><td>54.0</td><td>2.3817</td><td> 6</td><td>391</td><td>19.2</td><td>396.90</td><td>12.01</td><td>21.8</td></tr>\n",
       "\t<tr><th scope=row>495</th><td> 0.27957</td><td>0</td><td> 9.69</td><td>0.585</td><td>5.926</td><td>42.6</td><td>2.3817</td><td> 6</td><td>391</td><td>19.2</td><td>396.90</td><td>13.59</td><td>24.5</td></tr>\n",
       "\t<tr><th scope=row>496</th><td> 0.17899</td><td>0</td><td> 9.69</td><td>0.585</td><td>5.670</td><td>28.8</td><td>2.7986</td><td> 6</td><td>391</td><td>19.2</td><td>393.29</td><td>17.60</td><td>23.1</td></tr>\n",
       "\t<tr><th scope=row>497</th><td> 0.28960</td><td>0</td><td> 9.69</td><td>0.585</td><td>5.390</td><td>72.9</td><td>2.7986</td><td> 6</td><td>391</td><td>19.2</td><td>396.90</td><td>21.14</td><td>19.7</td></tr>\n",
       "\t<tr><th scope=row>498</th><td> 0.26838</td><td>0</td><td> 9.69</td><td>0.585</td><td>5.794</td><td>70.6</td><td>2.8927</td><td> 6</td><td>391</td><td>19.2</td><td>396.90</td><td>14.10</td><td>18.3</td></tr>\n",
       "\t<tr><th scope=row>499</th><td> 0.23912</td><td>0</td><td> 9.69</td><td>0.585</td><td>6.019</td><td>65.3</td><td>2.4091</td><td> 6</td><td>391</td><td>19.2</td><td>396.90</td><td>12.92</td><td>21.2</td></tr>\n",
       "\t<tr><th scope=row>500</th><td> 0.17783</td><td>0</td><td> 9.69</td><td>0.585</td><td>5.569</td><td>73.5</td><td>2.3999</td><td> 6</td><td>391</td><td>19.2</td><td>395.77</td><td>15.10</td><td>17.5</td></tr>\n",
       "\t<tr><th scope=row>501</th><td> 0.22438</td><td>0</td><td> 9.69</td><td>0.585</td><td>6.027</td><td>79.7</td><td>2.4982</td><td> 6</td><td>391</td><td>19.2</td><td>396.90</td><td>14.33</td><td>16.8</td></tr>\n",
       "\t<tr><th scope=row>502</th><td> 0.06263</td><td>0</td><td>11.93</td><td>0.573</td><td>6.593</td><td>69.1</td><td>2.4786</td><td> 1</td><td>273</td><td>21.0</td><td>391.99</td><td> 9.67</td><td>22.4</td></tr>\n",
       "\t<tr><th scope=row>503</th><td> 0.04527</td><td>0</td><td>11.93</td><td>0.573</td><td>6.120</td><td>76.7</td><td>2.2875</td><td> 1</td><td>273</td><td>21.0</td><td>396.90</td><td> 9.08</td><td>20.6</td></tr>\n",
       "\t<tr><th scope=row>504</th><td> 0.06076</td><td>0</td><td>11.93</td><td>0.573</td><td>6.976</td><td>91.0</td><td>2.1675</td><td> 1</td><td>273</td><td>21.0</td><td>396.90</td><td> 5.64</td><td>23.9</td></tr>\n",
       "\t<tr><th scope=row>505</th><td> 0.10959</td><td>0</td><td>11.93</td><td>0.573</td><td>6.794</td><td>89.3</td><td>2.3889</td><td> 1</td><td>273</td><td>21.0</td><td>393.45</td><td> 6.48</td><td>22.0</td></tr>\n",
       "\t<tr><th scope=row>506</th><td> 0.04741</td><td>0</td><td>11.93</td><td>0.573</td><td>6.030</td><td>80.8</td><td>2.5050</td><td> 1</td><td>273</td><td>21.0</td><td>396.90</td><td> 7.88</td><td>11.9</td></tr>\n",
       "</tbody>\n",
       "</table>\n"
      ],
      "text/latex": [
       "A data.frame: 506 × 13\n",
       "\\begin{tabular}{r|lllllllllllll}\n",
       "  & crim & zn & indus & nox & rm & age & dis & rad & tax & ptratio & b & lstat & medv\\\\\n",
       "  & <dbl> & <dbl> & <dbl> & <dbl> & <dbl> & <dbl> & <dbl> & <dbl> & <dbl> & <dbl> & <dbl> & <dbl> & <dbl>\\\\\n",
       "\\hline\n",
       "\t1 & 0.00632 & 18.0 & 2.31 & 0.538 & 6.575 &  65.2 & 4.0900 & 1 & 296 & 15.3 & 396.90 &  4.98 & 24.0\\\\\n",
       "\t2 & 0.02731 &  0.0 & 7.07 & 0.469 & 6.421 &  78.9 & 4.9671 & 2 & 242 & 17.8 & 396.90 &  9.14 & 21.6\\\\\n",
       "\t3 & 0.02729 &  0.0 & 7.07 & 0.469 & 7.185 &  61.1 & 4.9671 & 2 & 242 & 17.8 & 392.83 &  4.03 & 34.7\\\\\n",
       "\t4 & 0.03237 &  0.0 & 2.18 & 0.458 & 6.998 &  45.8 & 6.0622 & 3 & 222 & 18.7 & 394.63 &  2.94 & 33.4\\\\\n",
       "\t5 & 0.06905 &  0.0 & 2.18 & 0.458 & 7.147 &  54.2 & 6.0622 & 3 & 222 & 18.7 & 396.90 &  5.33 & 36.2\\\\\n",
       "\t6 & 0.02985 &  0.0 & 2.18 & 0.458 & 6.430 &  58.7 & 6.0622 & 3 & 222 & 18.7 & 394.12 &  5.21 & 28.7\\\\\n",
       "\t7 & 0.08829 & 12.5 & 7.87 & 0.524 & 6.012 &  66.6 & 5.5605 & 5 & 311 & 15.2 & 395.60 & 12.43 & 22.9\\\\\n",
       "\t8 & 0.14455 & 12.5 & 7.87 & 0.524 & 6.172 &  96.1 & 5.9505 & 5 & 311 & 15.2 & 396.90 & 19.15 & 27.1\\\\\n",
       "\t9 & 0.21124 & 12.5 & 7.87 & 0.524 & 5.631 & 100.0 & 6.0821 & 5 & 311 & 15.2 & 386.63 & 29.93 & 16.5\\\\\n",
       "\t10 & 0.17004 & 12.5 & 7.87 & 0.524 & 6.004 &  85.9 & 6.5921 & 5 & 311 & 15.2 & 386.71 & 17.10 & 18.9\\\\\n",
       "\t11 & 0.22489 & 12.5 & 7.87 & 0.524 & 6.377 &  94.3 & 6.3467 & 5 & 311 & 15.2 & 392.52 & 20.45 & 15.0\\\\\n",
       "\t12 & 0.11747 & 12.5 & 7.87 & 0.524 & 6.009 &  82.9 & 6.2267 & 5 & 311 & 15.2 & 396.90 & 13.27 & 18.9\\\\\n",
       "\t13 & 0.09378 & 12.5 & 7.87 & 0.524 & 5.889 &  39.0 & 5.4509 & 5 & 311 & 15.2 & 390.50 & 15.71 & 21.7\\\\\n",
       "\t14 & 0.62976 &  0.0 & 8.14 & 0.538 & 5.949 &  61.8 & 4.7075 & 4 & 307 & 21.0 & 396.90 &  8.26 & 20.4\\\\\n",
       "\t15 & 0.63796 &  0.0 & 8.14 & 0.538 & 6.096 &  84.5 & 4.4619 & 4 & 307 & 21.0 & 380.02 & 10.26 & 18.2\\\\\n",
       "\t16 & 0.62739 &  0.0 & 8.14 & 0.538 & 5.834 &  56.5 & 4.4986 & 4 & 307 & 21.0 & 395.62 &  8.47 & 19.9\\\\\n",
       "\t17 & 1.05393 &  0.0 & 8.14 & 0.538 & 5.935 &  29.3 & 4.4986 & 4 & 307 & 21.0 & 386.85 &  6.58 & 23.1\\\\\n",
       "\t18 & 0.78420 &  0.0 & 8.14 & 0.538 & 5.990 &  81.7 & 4.2579 & 4 & 307 & 21.0 & 386.75 & 14.67 & 17.5\\\\\n",
       "\t19 & 0.80271 &  0.0 & 8.14 & 0.538 & 5.456 &  36.6 & 3.7965 & 4 & 307 & 21.0 & 288.99 & 11.69 & 20.2\\\\\n",
       "\t20 & 0.72580 &  0.0 & 8.14 & 0.538 & 5.727 &  69.5 & 3.7965 & 4 & 307 & 21.0 & 390.95 & 11.28 & 18.2\\\\\n",
       "\t21 & 1.25179 &  0.0 & 8.14 & 0.538 & 5.570 &  98.1 & 3.7979 & 4 & 307 & 21.0 & 376.57 & 21.02 & 13.6\\\\\n",
       "\t22 & 0.85204 &  0.0 & 8.14 & 0.538 & 5.965 &  89.2 & 4.0123 & 4 & 307 & 21.0 & 392.53 & 13.83 & 19.6\\\\\n",
       "\t23 & 1.23247 &  0.0 & 8.14 & 0.538 & 6.142 &  91.7 & 3.9769 & 4 & 307 & 21.0 & 396.90 & 18.72 & 15.2\\\\\n",
       "\t24 & 0.98843 &  0.0 & 8.14 & 0.538 & 5.813 & 100.0 & 4.0952 & 4 & 307 & 21.0 & 394.54 & 19.88 & 14.5\\\\\n",
       "\t25 & 0.75026 &  0.0 & 8.14 & 0.538 & 5.924 &  94.1 & 4.3996 & 4 & 307 & 21.0 & 394.33 & 16.30 & 15.6\\\\\n",
       "\t26 & 0.84054 &  0.0 & 8.14 & 0.538 & 5.599 &  85.7 & 4.4546 & 4 & 307 & 21.0 & 303.42 & 16.51 & 13.9\\\\\n",
       "\t27 & 0.67191 &  0.0 & 8.14 & 0.538 & 5.813 &  90.3 & 4.6820 & 4 & 307 & 21.0 & 376.88 & 14.81 & 16.6\\\\\n",
       "\t28 & 0.95577 &  0.0 & 8.14 & 0.538 & 6.047 &  88.8 & 4.4534 & 4 & 307 & 21.0 & 306.38 & 17.28 & 14.8\\\\\n",
       "\t29 & 0.77299 &  0.0 & 8.14 & 0.538 & 6.495 &  94.4 & 4.4547 & 4 & 307 & 21.0 & 387.94 & 12.80 & 18.4\\\\\n",
       "\t30 & 1.00245 &  0.0 & 8.14 & 0.538 & 6.674 &  87.3 & 4.2390 & 4 & 307 & 21.0 & 380.23 & 11.98 & 21.0\\\\\n",
       "\t⋮ & ⋮ & ⋮ & ⋮ & ⋮ & ⋮ & ⋮ & ⋮ & ⋮ & ⋮ & ⋮ & ⋮ & ⋮ & ⋮\\\\\n",
       "\t477 &  4.87141 & 0 & 18.10 & 0.614 & 6.484 & 93.6 & 2.3053 & 24 & 666 & 20.2 & 396.21 & 18.68 & 16.7\\\\\n",
       "\t478 & 15.02340 & 0 & 18.10 & 0.614 & 5.304 & 97.3 & 2.1007 & 24 & 666 & 20.2 & 349.48 & 24.91 & 12.0\\\\\n",
       "\t479 & 10.23300 & 0 & 18.10 & 0.614 & 6.185 & 96.7 & 2.1705 & 24 & 666 & 20.2 & 379.70 & 18.03 & 14.6\\\\\n",
       "\t480 & 14.33370 & 0 & 18.10 & 0.614 & 6.229 & 88.0 & 1.9512 & 24 & 666 & 20.2 & 383.32 & 13.11 & 21.4\\\\\n",
       "\t481 &  5.82401 & 0 & 18.10 & 0.532 & 6.242 & 64.7 & 3.4242 & 24 & 666 & 20.2 & 396.90 & 10.74 & 23.0\\\\\n",
       "\t482 &  5.70818 & 0 & 18.10 & 0.532 & 6.750 & 74.9 & 3.3317 & 24 & 666 & 20.2 & 393.07 &  7.74 & 23.7\\\\\n",
       "\t483 &  5.73116 & 0 & 18.10 & 0.532 & 7.061 & 77.0 & 3.4106 & 24 & 666 & 20.2 & 395.28 &  7.01 & 25.0\\\\\n",
       "\t484 &  2.81838 & 0 & 18.10 & 0.532 & 5.762 & 40.3 & 4.0983 & 24 & 666 & 20.2 & 392.92 & 10.42 & 21.8\\\\\n",
       "\t485 &  2.37857 & 0 & 18.10 & 0.583 & 5.871 & 41.9 & 3.7240 & 24 & 666 & 20.2 & 370.73 & 13.34 & 20.6\\\\\n",
       "\t486 &  3.67367 & 0 & 18.10 & 0.583 & 6.312 & 51.9 & 3.9917 & 24 & 666 & 20.2 & 388.62 & 10.58 & 21.2\\\\\n",
       "\t487 &  5.69175 & 0 & 18.10 & 0.583 & 6.114 & 79.8 & 3.5459 & 24 & 666 & 20.2 & 392.68 & 14.98 & 19.1\\\\\n",
       "\t488 &  4.83567 & 0 & 18.10 & 0.583 & 5.905 & 53.2 & 3.1523 & 24 & 666 & 20.2 & 388.22 & 11.45 & 20.6\\\\\n",
       "\t489 &  0.15086 & 0 & 27.74 & 0.609 & 5.454 & 92.7 & 1.8209 &  4 & 711 & 20.1 & 395.09 & 18.06 & 15.2\\\\\n",
       "\t490 &  0.18337 & 0 & 27.74 & 0.609 & 5.414 & 98.3 & 1.7554 &  4 & 711 & 20.1 & 344.05 & 23.97 &  7.0\\\\\n",
       "\t491 &  0.20746 & 0 & 27.74 & 0.609 & 5.093 & 98.0 & 1.8226 &  4 & 711 & 20.1 & 318.43 & 29.68 &  8.1\\\\\n",
       "\t492 &  0.10574 & 0 & 27.74 & 0.609 & 5.983 & 98.8 & 1.8681 &  4 & 711 & 20.1 & 390.11 & 18.07 & 13.6\\\\\n",
       "\t493 &  0.11132 & 0 & 27.74 & 0.609 & 5.983 & 83.5 & 2.1099 &  4 & 711 & 20.1 & 396.90 & 13.35 & 20.1\\\\\n",
       "\t494 &  0.17331 & 0 &  9.69 & 0.585 & 5.707 & 54.0 & 2.3817 &  6 & 391 & 19.2 & 396.90 & 12.01 & 21.8\\\\\n",
       "\t495 &  0.27957 & 0 &  9.69 & 0.585 & 5.926 & 42.6 & 2.3817 &  6 & 391 & 19.2 & 396.90 & 13.59 & 24.5\\\\\n",
       "\t496 &  0.17899 & 0 &  9.69 & 0.585 & 5.670 & 28.8 & 2.7986 &  6 & 391 & 19.2 & 393.29 & 17.60 & 23.1\\\\\n",
       "\t497 &  0.28960 & 0 &  9.69 & 0.585 & 5.390 & 72.9 & 2.7986 &  6 & 391 & 19.2 & 396.90 & 21.14 & 19.7\\\\\n",
       "\t498 &  0.26838 & 0 &  9.69 & 0.585 & 5.794 & 70.6 & 2.8927 &  6 & 391 & 19.2 & 396.90 & 14.10 & 18.3\\\\\n",
       "\t499 &  0.23912 & 0 &  9.69 & 0.585 & 6.019 & 65.3 & 2.4091 &  6 & 391 & 19.2 & 396.90 & 12.92 & 21.2\\\\\n",
       "\t500 &  0.17783 & 0 &  9.69 & 0.585 & 5.569 & 73.5 & 2.3999 &  6 & 391 & 19.2 & 395.77 & 15.10 & 17.5\\\\\n",
       "\t501 &  0.22438 & 0 &  9.69 & 0.585 & 6.027 & 79.7 & 2.4982 &  6 & 391 & 19.2 & 396.90 & 14.33 & 16.8\\\\\n",
       "\t502 &  0.06263 & 0 & 11.93 & 0.573 & 6.593 & 69.1 & 2.4786 &  1 & 273 & 21.0 & 391.99 &  9.67 & 22.4\\\\\n",
       "\t503 &  0.04527 & 0 & 11.93 & 0.573 & 6.120 & 76.7 & 2.2875 &  1 & 273 & 21.0 & 396.90 &  9.08 & 20.6\\\\\n",
       "\t504 &  0.06076 & 0 & 11.93 & 0.573 & 6.976 & 91.0 & 2.1675 &  1 & 273 & 21.0 & 396.90 &  5.64 & 23.9\\\\\n",
       "\t505 &  0.10959 & 0 & 11.93 & 0.573 & 6.794 & 89.3 & 2.3889 &  1 & 273 & 21.0 & 393.45 &  6.48 & 22.0\\\\\n",
       "\t506 &  0.04741 & 0 & 11.93 & 0.573 & 6.030 & 80.8 & 2.5050 &  1 & 273 & 21.0 & 396.90 &  7.88 & 11.9\\\\\n",
       "\\end{tabular}\n"
      ],
      "text/markdown": [
       "\n",
       "A data.frame: 506 × 13\n",
       "\n",
       "| <!--/--> | crim &lt;dbl&gt; | zn &lt;dbl&gt; | indus &lt;dbl&gt; | nox &lt;dbl&gt; | rm &lt;dbl&gt; | age &lt;dbl&gt; | dis &lt;dbl&gt; | rad &lt;dbl&gt; | tax &lt;dbl&gt; | ptratio &lt;dbl&gt; | b &lt;dbl&gt; | lstat &lt;dbl&gt; | medv &lt;dbl&gt; |\n",
       "|---|---|---|---|---|---|---|---|---|---|---|---|---|---|\n",
       "| 1 | 0.00632 | 18.0 | 2.31 | 0.538 | 6.575 |  65.2 | 4.0900 | 1 | 296 | 15.3 | 396.90 |  4.98 | 24.0 |\n",
       "| 2 | 0.02731 |  0.0 | 7.07 | 0.469 | 6.421 |  78.9 | 4.9671 | 2 | 242 | 17.8 | 396.90 |  9.14 | 21.6 |\n",
       "| 3 | 0.02729 |  0.0 | 7.07 | 0.469 | 7.185 |  61.1 | 4.9671 | 2 | 242 | 17.8 | 392.83 |  4.03 | 34.7 |\n",
       "| 4 | 0.03237 |  0.0 | 2.18 | 0.458 | 6.998 |  45.8 | 6.0622 | 3 | 222 | 18.7 | 394.63 |  2.94 | 33.4 |\n",
       "| 5 | 0.06905 |  0.0 | 2.18 | 0.458 | 7.147 |  54.2 | 6.0622 | 3 | 222 | 18.7 | 396.90 |  5.33 | 36.2 |\n",
       "| 6 | 0.02985 |  0.0 | 2.18 | 0.458 | 6.430 |  58.7 | 6.0622 | 3 | 222 | 18.7 | 394.12 |  5.21 | 28.7 |\n",
       "| 7 | 0.08829 | 12.5 | 7.87 | 0.524 | 6.012 |  66.6 | 5.5605 | 5 | 311 | 15.2 | 395.60 | 12.43 | 22.9 |\n",
       "| 8 | 0.14455 | 12.5 | 7.87 | 0.524 | 6.172 |  96.1 | 5.9505 | 5 | 311 | 15.2 | 396.90 | 19.15 | 27.1 |\n",
       "| 9 | 0.21124 | 12.5 | 7.87 | 0.524 | 5.631 | 100.0 | 6.0821 | 5 | 311 | 15.2 | 386.63 | 29.93 | 16.5 |\n",
       "| 10 | 0.17004 | 12.5 | 7.87 | 0.524 | 6.004 |  85.9 | 6.5921 | 5 | 311 | 15.2 | 386.71 | 17.10 | 18.9 |\n",
       "| 11 | 0.22489 | 12.5 | 7.87 | 0.524 | 6.377 |  94.3 | 6.3467 | 5 | 311 | 15.2 | 392.52 | 20.45 | 15.0 |\n",
       "| 12 | 0.11747 | 12.5 | 7.87 | 0.524 | 6.009 |  82.9 | 6.2267 | 5 | 311 | 15.2 | 396.90 | 13.27 | 18.9 |\n",
       "| 13 | 0.09378 | 12.5 | 7.87 | 0.524 | 5.889 |  39.0 | 5.4509 | 5 | 311 | 15.2 | 390.50 | 15.71 | 21.7 |\n",
       "| 14 | 0.62976 |  0.0 | 8.14 | 0.538 | 5.949 |  61.8 | 4.7075 | 4 | 307 | 21.0 | 396.90 |  8.26 | 20.4 |\n",
       "| 15 | 0.63796 |  0.0 | 8.14 | 0.538 | 6.096 |  84.5 | 4.4619 | 4 | 307 | 21.0 | 380.02 | 10.26 | 18.2 |\n",
       "| 16 | 0.62739 |  0.0 | 8.14 | 0.538 | 5.834 |  56.5 | 4.4986 | 4 | 307 | 21.0 | 395.62 |  8.47 | 19.9 |\n",
       "| 17 | 1.05393 |  0.0 | 8.14 | 0.538 | 5.935 |  29.3 | 4.4986 | 4 | 307 | 21.0 | 386.85 |  6.58 | 23.1 |\n",
       "| 18 | 0.78420 |  0.0 | 8.14 | 0.538 | 5.990 |  81.7 | 4.2579 | 4 | 307 | 21.0 | 386.75 | 14.67 | 17.5 |\n",
       "| 19 | 0.80271 |  0.0 | 8.14 | 0.538 | 5.456 |  36.6 | 3.7965 | 4 | 307 | 21.0 | 288.99 | 11.69 | 20.2 |\n",
       "| 20 | 0.72580 |  0.0 | 8.14 | 0.538 | 5.727 |  69.5 | 3.7965 | 4 | 307 | 21.0 | 390.95 | 11.28 | 18.2 |\n",
       "| 21 | 1.25179 |  0.0 | 8.14 | 0.538 | 5.570 |  98.1 | 3.7979 | 4 | 307 | 21.0 | 376.57 | 21.02 | 13.6 |\n",
       "| 22 | 0.85204 |  0.0 | 8.14 | 0.538 | 5.965 |  89.2 | 4.0123 | 4 | 307 | 21.0 | 392.53 | 13.83 | 19.6 |\n",
       "| 23 | 1.23247 |  0.0 | 8.14 | 0.538 | 6.142 |  91.7 | 3.9769 | 4 | 307 | 21.0 | 396.90 | 18.72 | 15.2 |\n",
       "| 24 | 0.98843 |  0.0 | 8.14 | 0.538 | 5.813 | 100.0 | 4.0952 | 4 | 307 | 21.0 | 394.54 | 19.88 | 14.5 |\n",
       "| 25 | 0.75026 |  0.0 | 8.14 | 0.538 | 5.924 |  94.1 | 4.3996 | 4 | 307 | 21.0 | 394.33 | 16.30 | 15.6 |\n",
       "| 26 | 0.84054 |  0.0 | 8.14 | 0.538 | 5.599 |  85.7 | 4.4546 | 4 | 307 | 21.0 | 303.42 | 16.51 | 13.9 |\n",
       "| 27 | 0.67191 |  0.0 | 8.14 | 0.538 | 5.813 |  90.3 | 4.6820 | 4 | 307 | 21.0 | 376.88 | 14.81 | 16.6 |\n",
       "| 28 | 0.95577 |  0.0 | 8.14 | 0.538 | 6.047 |  88.8 | 4.4534 | 4 | 307 | 21.0 | 306.38 | 17.28 | 14.8 |\n",
       "| 29 | 0.77299 |  0.0 | 8.14 | 0.538 | 6.495 |  94.4 | 4.4547 | 4 | 307 | 21.0 | 387.94 | 12.80 | 18.4 |\n",
       "| 30 | 1.00245 |  0.0 | 8.14 | 0.538 | 6.674 |  87.3 | 4.2390 | 4 | 307 | 21.0 | 380.23 | 11.98 | 21.0 |\n",
       "| ⋮ | ⋮ | ⋮ | ⋮ | ⋮ | ⋮ | ⋮ | ⋮ | ⋮ | ⋮ | ⋮ | ⋮ | ⋮ | ⋮ |\n",
       "| 477 |  4.87141 | 0 | 18.10 | 0.614 | 6.484 | 93.6 | 2.3053 | 24 | 666 | 20.2 | 396.21 | 18.68 | 16.7 |\n",
       "| 478 | 15.02340 | 0 | 18.10 | 0.614 | 5.304 | 97.3 | 2.1007 | 24 | 666 | 20.2 | 349.48 | 24.91 | 12.0 |\n",
       "| 479 | 10.23300 | 0 | 18.10 | 0.614 | 6.185 | 96.7 | 2.1705 | 24 | 666 | 20.2 | 379.70 | 18.03 | 14.6 |\n",
       "| 480 | 14.33370 | 0 | 18.10 | 0.614 | 6.229 | 88.0 | 1.9512 | 24 | 666 | 20.2 | 383.32 | 13.11 | 21.4 |\n",
       "| 481 |  5.82401 | 0 | 18.10 | 0.532 | 6.242 | 64.7 | 3.4242 | 24 | 666 | 20.2 | 396.90 | 10.74 | 23.0 |\n",
       "| 482 |  5.70818 | 0 | 18.10 | 0.532 | 6.750 | 74.9 | 3.3317 | 24 | 666 | 20.2 | 393.07 |  7.74 | 23.7 |\n",
       "| 483 |  5.73116 | 0 | 18.10 | 0.532 | 7.061 | 77.0 | 3.4106 | 24 | 666 | 20.2 | 395.28 |  7.01 | 25.0 |\n",
       "| 484 |  2.81838 | 0 | 18.10 | 0.532 | 5.762 | 40.3 | 4.0983 | 24 | 666 | 20.2 | 392.92 | 10.42 | 21.8 |\n",
       "| 485 |  2.37857 | 0 | 18.10 | 0.583 | 5.871 | 41.9 | 3.7240 | 24 | 666 | 20.2 | 370.73 | 13.34 | 20.6 |\n",
       "| 486 |  3.67367 | 0 | 18.10 | 0.583 | 6.312 | 51.9 | 3.9917 | 24 | 666 | 20.2 | 388.62 | 10.58 | 21.2 |\n",
       "| 487 |  5.69175 | 0 | 18.10 | 0.583 | 6.114 | 79.8 | 3.5459 | 24 | 666 | 20.2 | 392.68 | 14.98 | 19.1 |\n",
       "| 488 |  4.83567 | 0 | 18.10 | 0.583 | 5.905 | 53.2 | 3.1523 | 24 | 666 | 20.2 | 388.22 | 11.45 | 20.6 |\n",
       "| 489 |  0.15086 | 0 | 27.74 | 0.609 | 5.454 | 92.7 | 1.8209 |  4 | 711 | 20.1 | 395.09 | 18.06 | 15.2 |\n",
       "| 490 |  0.18337 | 0 | 27.74 | 0.609 | 5.414 | 98.3 | 1.7554 |  4 | 711 | 20.1 | 344.05 | 23.97 |  7.0 |\n",
       "| 491 |  0.20746 | 0 | 27.74 | 0.609 | 5.093 | 98.0 | 1.8226 |  4 | 711 | 20.1 | 318.43 | 29.68 |  8.1 |\n",
       "| 492 |  0.10574 | 0 | 27.74 | 0.609 | 5.983 | 98.8 | 1.8681 |  4 | 711 | 20.1 | 390.11 | 18.07 | 13.6 |\n",
       "| 493 |  0.11132 | 0 | 27.74 | 0.609 | 5.983 | 83.5 | 2.1099 |  4 | 711 | 20.1 | 396.90 | 13.35 | 20.1 |\n",
       "| 494 |  0.17331 | 0 |  9.69 | 0.585 | 5.707 | 54.0 | 2.3817 |  6 | 391 | 19.2 | 396.90 | 12.01 | 21.8 |\n",
       "| 495 |  0.27957 | 0 |  9.69 | 0.585 | 5.926 | 42.6 | 2.3817 |  6 | 391 | 19.2 | 396.90 | 13.59 | 24.5 |\n",
       "| 496 |  0.17899 | 0 |  9.69 | 0.585 | 5.670 | 28.8 | 2.7986 |  6 | 391 | 19.2 | 393.29 | 17.60 | 23.1 |\n",
       "| 497 |  0.28960 | 0 |  9.69 | 0.585 | 5.390 | 72.9 | 2.7986 |  6 | 391 | 19.2 | 396.90 | 21.14 | 19.7 |\n",
       "| 498 |  0.26838 | 0 |  9.69 | 0.585 | 5.794 | 70.6 | 2.8927 |  6 | 391 | 19.2 | 396.90 | 14.10 | 18.3 |\n",
       "| 499 |  0.23912 | 0 |  9.69 | 0.585 | 6.019 | 65.3 | 2.4091 |  6 | 391 | 19.2 | 396.90 | 12.92 | 21.2 |\n",
       "| 500 |  0.17783 | 0 |  9.69 | 0.585 | 5.569 | 73.5 | 2.3999 |  6 | 391 | 19.2 | 395.77 | 15.10 | 17.5 |\n",
       "| 501 |  0.22438 | 0 |  9.69 | 0.585 | 6.027 | 79.7 | 2.4982 |  6 | 391 | 19.2 | 396.90 | 14.33 | 16.8 |\n",
       "| 502 |  0.06263 | 0 | 11.93 | 0.573 | 6.593 | 69.1 | 2.4786 |  1 | 273 | 21.0 | 391.99 |  9.67 | 22.4 |\n",
       "| 503 |  0.04527 | 0 | 11.93 | 0.573 | 6.120 | 76.7 | 2.2875 |  1 | 273 | 21.0 | 396.90 |  9.08 | 20.6 |\n",
       "| 504 |  0.06076 | 0 | 11.93 | 0.573 | 6.976 | 91.0 | 2.1675 |  1 | 273 | 21.0 | 396.90 |  5.64 | 23.9 |\n",
       "| 505 |  0.10959 | 0 | 11.93 | 0.573 | 6.794 | 89.3 | 2.3889 |  1 | 273 | 21.0 | 393.45 |  6.48 | 22.0 |\n",
       "| 506 |  0.04741 | 0 | 11.93 | 0.573 | 6.030 | 80.8 | 2.5050 |  1 | 273 | 21.0 | 396.90 |  7.88 | 11.9 |\n",
       "\n"
      ],
      "text/plain": [
       "    crim     zn   indus nox   rm    age   dis    rad tax ptratio b      lstat\n",
       "1   0.00632  18.0 2.31  0.538 6.575  65.2 4.0900 1   296 15.3    396.90  4.98\n",
       "2   0.02731   0.0 7.07  0.469 6.421  78.9 4.9671 2   242 17.8    396.90  9.14\n",
       "3   0.02729   0.0 7.07  0.469 7.185  61.1 4.9671 2   242 17.8    392.83  4.03\n",
       "4   0.03237   0.0 2.18  0.458 6.998  45.8 6.0622 3   222 18.7    394.63  2.94\n",
       "5   0.06905   0.0 2.18  0.458 7.147  54.2 6.0622 3   222 18.7    396.90  5.33\n",
       "6   0.02985   0.0 2.18  0.458 6.430  58.7 6.0622 3   222 18.7    394.12  5.21\n",
       "7   0.08829  12.5 7.87  0.524 6.012  66.6 5.5605 5   311 15.2    395.60 12.43\n",
       "8   0.14455  12.5 7.87  0.524 6.172  96.1 5.9505 5   311 15.2    396.90 19.15\n",
       "9   0.21124  12.5 7.87  0.524 5.631 100.0 6.0821 5   311 15.2    386.63 29.93\n",
       "10  0.17004  12.5 7.87  0.524 6.004  85.9 6.5921 5   311 15.2    386.71 17.10\n",
       "11  0.22489  12.5 7.87  0.524 6.377  94.3 6.3467 5   311 15.2    392.52 20.45\n",
       "12  0.11747  12.5 7.87  0.524 6.009  82.9 6.2267 5   311 15.2    396.90 13.27\n",
       "13  0.09378  12.5 7.87  0.524 5.889  39.0 5.4509 5   311 15.2    390.50 15.71\n",
       "14  0.62976   0.0 8.14  0.538 5.949  61.8 4.7075 4   307 21.0    396.90  8.26\n",
       "15  0.63796   0.0 8.14  0.538 6.096  84.5 4.4619 4   307 21.0    380.02 10.26\n",
       "16  0.62739   0.0 8.14  0.538 5.834  56.5 4.4986 4   307 21.0    395.62  8.47\n",
       "17  1.05393   0.0 8.14  0.538 5.935  29.3 4.4986 4   307 21.0    386.85  6.58\n",
       "18  0.78420   0.0 8.14  0.538 5.990  81.7 4.2579 4   307 21.0    386.75 14.67\n",
       "19  0.80271   0.0 8.14  0.538 5.456  36.6 3.7965 4   307 21.0    288.99 11.69\n",
       "20  0.72580   0.0 8.14  0.538 5.727  69.5 3.7965 4   307 21.0    390.95 11.28\n",
       "21  1.25179   0.0 8.14  0.538 5.570  98.1 3.7979 4   307 21.0    376.57 21.02\n",
       "22  0.85204   0.0 8.14  0.538 5.965  89.2 4.0123 4   307 21.0    392.53 13.83\n",
       "23  1.23247   0.0 8.14  0.538 6.142  91.7 3.9769 4   307 21.0    396.90 18.72\n",
       "24  0.98843   0.0 8.14  0.538 5.813 100.0 4.0952 4   307 21.0    394.54 19.88\n",
       "25  0.75026   0.0 8.14  0.538 5.924  94.1 4.3996 4   307 21.0    394.33 16.30\n",
       "26  0.84054   0.0 8.14  0.538 5.599  85.7 4.4546 4   307 21.0    303.42 16.51\n",
       "27  0.67191   0.0 8.14  0.538 5.813  90.3 4.6820 4   307 21.0    376.88 14.81\n",
       "28  0.95577   0.0 8.14  0.538 6.047  88.8 4.4534 4   307 21.0    306.38 17.28\n",
       "29  0.77299   0.0 8.14  0.538 6.495  94.4 4.4547 4   307 21.0    387.94 12.80\n",
       "30  1.00245   0.0 8.14  0.538 6.674  87.3 4.2390 4   307 21.0    380.23 11.98\n",
       "⋮   ⋮        ⋮    ⋮     ⋮     ⋮     ⋮     ⋮      ⋮   ⋮   ⋮       ⋮      ⋮    \n",
       "477  4.87141 0    18.10 0.614 6.484 93.6  2.3053 24  666 20.2    396.21 18.68\n",
       "478 15.02340 0    18.10 0.614 5.304 97.3  2.1007 24  666 20.2    349.48 24.91\n",
       "479 10.23300 0    18.10 0.614 6.185 96.7  2.1705 24  666 20.2    379.70 18.03\n",
       "480 14.33370 0    18.10 0.614 6.229 88.0  1.9512 24  666 20.2    383.32 13.11\n",
       "481  5.82401 0    18.10 0.532 6.242 64.7  3.4242 24  666 20.2    396.90 10.74\n",
       "482  5.70818 0    18.10 0.532 6.750 74.9  3.3317 24  666 20.2    393.07  7.74\n",
       "483  5.73116 0    18.10 0.532 7.061 77.0  3.4106 24  666 20.2    395.28  7.01\n",
       "484  2.81838 0    18.10 0.532 5.762 40.3  4.0983 24  666 20.2    392.92 10.42\n",
       "485  2.37857 0    18.10 0.583 5.871 41.9  3.7240 24  666 20.2    370.73 13.34\n",
       "486  3.67367 0    18.10 0.583 6.312 51.9  3.9917 24  666 20.2    388.62 10.58\n",
       "487  5.69175 0    18.10 0.583 6.114 79.8  3.5459 24  666 20.2    392.68 14.98\n",
       "488  4.83567 0    18.10 0.583 5.905 53.2  3.1523 24  666 20.2    388.22 11.45\n",
       "489  0.15086 0    27.74 0.609 5.454 92.7  1.8209  4  711 20.1    395.09 18.06\n",
       "490  0.18337 0    27.74 0.609 5.414 98.3  1.7554  4  711 20.1    344.05 23.97\n",
       "491  0.20746 0    27.74 0.609 5.093 98.0  1.8226  4  711 20.1    318.43 29.68\n",
       "492  0.10574 0    27.74 0.609 5.983 98.8  1.8681  4  711 20.1    390.11 18.07\n",
       "493  0.11132 0    27.74 0.609 5.983 83.5  2.1099  4  711 20.1    396.90 13.35\n",
       "494  0.17331 0     9.69 0.585 5.707 54.0  2.3817  6  391 19.2    396.90 12.01\n",
       "495  0.27957 0     9.69 0.585 5.926 42.6  2.3817  6  391 19.2    396.90 13.59\n",
       "496  0.17899 0     9.69 0.585 5.670 28.8  2.7986  6  391 19.2    393.29 17.60\n",
       "497  0.28960 0     9.69 0.585 5.390 72.9  2.7986  6  391 19.2    396.90 21.14\n",
       "498  0.26838 0     9.69 0.585 5.794 70.6  2.8927  6  391 19.2    396.90 14.10\n",
       "499  0.23912 0     9.69 0.585 6.019 65.3  2.4091  6  391 19.2    396.90 12.92\n",
       "500  0.17783 0     9.69 0.585 5.569 73.5  2.3999  6  391 19.2    395.77 15.10\n",
       "501  0.22438 0     9.69 0.585 6.027 79.7  2.4982  6  391 19.2    396.90 14.33\n",
       "502  0.06263 0    11.93 0.573 6.593 69.1  2.4786  1  273 21.0    391.99  9.67\n",
       "503  0.04527 0    11.93 0.573 6.120 76.7  2.2875  1  273 21.0    396.90  9.08\n",
       "504  0.06076 0    11.93 0.573 6.976 91.0  2.1675  1  273 21.0    396.90  5.64\n",
       "505  0.10959 0    11.93 0.573 6.794 89.3  2.3889  1  273 21.0    393.45  6.48\n",
       "506  0.04741 0    11.93 0.573 6.030 80.8  2.5050  1  273 21.0    396.90  7.88\n",
       "    medv\n",
       "1   24.0\n",
       "2   21.6\n",
       "3   34.7\n",
       "4   33.4\n",
       "5   36.2\n",
       "6   28.7\n",
       "7   22.9\n",
       "8   27.1\n",
       "9   16.5\n",
       "10  18.9\n",
       "11  15.0\n",
       "12  18.9\n",
       "13  21.7\n",
       "14  20.4\n",
       "15  18.2\n",
       "16  19.9\n",
       "17  23.1\n",
       "18  17.5\n",
       "19  20.2\n",
       "20  18.2\n",
       "21  13.6\n",
       "22  19.6\n",
       "23  15.2\n",
       "24  14.5\n",
       "25  15.6\n",
       "26  13.9\n",
       "27  16.6\n",
       "28  14.8\n",
       "29  18.4\n",
       "30  21.0\n",
       "⋮   ⋮   \n",
       "477 16.7\n",
       "478 12.0\n",
       "479 14.6\n",
       "480 21.4\n",
       "481 23.0\n",
       "482 23.7\n",
       "483 25.0\n",
       "484 21.8\n",
       "485 20.6\n",
       "486 21.2\n",
       "487 19.1\n",
       "488 20.6\n",
       "489 15.2\n",
       "490  7.0\n",
       "491  8.1\n",
       "492 13.6\n",
       "493 20.1\n",
       "494 21.8\n",
       "495 24.5\n",
       "496 23.1\n",
       "497 19.7\n",
       "498 18.3\n",
       "499 21.2\n",
       "500 17.5\n",
       "501 16.8\n",
       "502 22.4\n",
       "503 20.6\n",
       "504 23.9\n",
       "505 22.0\n",
       "506 11.9"
      ]
     },
     "metadata": {},
     "output_type": "display_data"
    }
   ],
   "source": [
    "ds"
   ]
  },
  {
   "cell_type": "code",
   "execution_count": 29,
   "id": "0aa01d57",
   "metadata": {},
   "outputs": [],
   "source": [
    "mod = lm(medv~., data=ds)"
   ]
  },
  {
   "cell_type": "code",
   "execution_count": 30,
   "id": "681fd1c7",
   "metadata": {},
   "outputs": [
    {
     "data": {
      "text/plain": [
       "\n",
       "Call:\n",
       "lm(formula = medv ~ ., data = ds)\n",
       "\n",
       "Coefficients:\n",
       "(Intercept)         crim           zn        indus          nox           rm  \n",
       "  36.891960    -0.113139     0.047052     0.040311   -17.366999     3.850492  \n",
       "        age          dis          rad          tax      ptratio            b  \n",
       "   0.002784    -1.485374     0.328311    -0.013756    -0.990958     0.009741  \n",
       "      lstat  \n",
       "  -0.534158  \n"
      ]
     },
     "metadata": {},
     "output_type": "display_data"
    }
   ],
   "source": [
    "mod"
   ]
  },
  {
   "cell_type": "code",
   "execution_count": 31,
   "id": "360ad1ea",
   "metadata": {},
   "outputs": [],
   "source": [
    "mod = lm(mpg~., data = mtcars)"
   ]
  },
  {
   "cell_type": "code",
   "execution_count": 33,
   "id": "78205421",
   "metadata": {},
   "outputs": [
    {
     "data": {
      "text/plain": [
       "\n",
       "Call:\n",
       "lm(formula = mpg ~ ., data = mtcars)\n",
       "\n",
       "Coefficients:\n",
       "(Intercept)          cyl         disp           hp         drat           wt  \n",
       "   12.30337     -0.11144      0.01334     -0.02148      0.78711     -3.71530  \n",
       "       qsec           vs           am         gear         carb  \n",
       "    0.82104      0.31776      2.52023      0.65541     -0.19942  \n"
      ]
     },
     "metadata": {},
     "output_type": "display_data"
    }
   ],
   "source": [
    "mod"
   ]
  },
  {
   "cell_type": "code",
   "execution_count": 34,
   "id": "c8e3b7cd",
   "metadata": {},
   "outputs": [],
   "source": [
    "data(PimaIndiansDiabetes)"
   ]
  },
  {
   "cell_type": "code",
   "execution_count": 35,
   "id": "c0da7dad",
   "metadata": {},
   "outputs": [],
   "source": [
    "total = c(rep('A', 8), rep('B', 8), rep('C', 14))"
   ]
  },
  {
   "cell_type": "code",
   "execution_count": 36,
   "id": "f91adfd3",
   "metadata": {},
   "outputs": [
    {
     "data": {
      "text/html": [
       "<style>\n",
       ".list-inline {list-style: none; margin:0; padding: 0}\n",
       ".list-inline>li {display: inline-block}\n",
       ".list-inline>li:not(:last-child)::after {content: \"\\00b7\"; padding: 0 .5ex}\n",
       "</style>\n",
       "<ol class=list-inline><li>'A'</li><li>'A'</li><li>'A'</li><li>'A'</li><li>'A'</li><li>'A'</li><li>'A'</li><li>'A'</li><li>'B'</li><li>'B'</li><li>'B'</li><li>'B'</li><li>'B'</li><li>'B'</li><li>'B'</li><li>'B'</li><li>'C'</li><li>'C'</li><li>'C'</li><li>'C'</li><li>'C'</li><li>'C'</li><li>'C'</li><li>'C'</li><li>'C'</li><li>'C'</li><li>'C'</li><li>'C'</li><li>'C'</li><li>'C'</li></ol>\n"
      ],
      "text/latex": [
       "\\begin{enumerate*}\n",
       "\\item 'A'\n",
       "\\item 'A'\n",
       "\\item 'A'\n",
       "\\item 'A'\n",
       "\\item 'A'\n",
       "\\item 'A'\n",
       "\\item 'A'\n",
       "\\item 'A'\n",
       "\\item 'B'\n",
       "\\item 'B'\n",
       "\\item 'B'\n",
       "\\item 'B'\n",
       "\\item 'B'\n",
       "\\item 'B'\n",
       "\\item 'B'\n",
       "\\item 'B'\n",
       "\\item 'C'\n",
       "\\item 'C'\n",
       "\\item 'C'\n",
       "\\item 'C'\n",
       "\\item 'C'\n",
       "\\item 'C'\n",
       "\\item 'C'\n",
       "\\item 'C'\n",
       "\\item 'C'\n",
       "\\item 'C'\n",
       "\\item 'C'\n",
       "\\item 'C'\n",
       "\\item 'C'\n",
       "\\item 'C'\n",
       "\\end{enumerate*}\n"
      ],
      "text/markdown": [
       "1. 'A'\n",
       "2. 'A'\n",
       "3. 'A'\n",
       "4. 'A'\n",
       "5. 'A'\n",
       "6. 'A'\n",
       "7. 'A'\n",
       "8. 'A'\n",
       "9. 'B'\n",
       "10. 'B'\n",
       "11. 'B'\n",
       "12. 'B'\n",
       "13. 'B'\n",
       "14. 'B'\n",
       "15. 'B'\n",
       "16. 'B'\n",
       "17. 'C'\n",
       "18. 'C'\n",
       "19. 'C'\n",
       "20. 'C'\n",
       "21. 'C'\n",
       "22. 'C'\n",
       "23. 'C'\n",
       "24. 'C'\n",
       "25. 'C'\n",
       "26. 'C'\n",
       "27. 'C'\n",
       "28. 'C'\n",
       "29. 'C'\n",
       "30. 'C'\n",
       "\n",
       "\n"
      ],
      "text/plain": [
       " [1] \"A\" \"A\" \"A\" \"A\" \"A\" \"A\" \"A\" \"A\" \"B\" \"B\" \"B\" \"B\" \"B\" \"B\" \"B\" \"B\" \"C\" \"C\" \"C\"\n",
       "[20] \"C\" \"C\" \"C\" \"C\" \"C\" \"C\" \"C\" \"C\" \"C\" \"C\" \"C\""
      ]
     },
     "metadata": {},
     "output_type": "display_data"
    }
   ],
   "source": [
    "total"
   ]
  },
  {
   "cell_type": "code",
   "execution_count": 37,
   "id": "689f935b",
   "metadata": {},
   "outputs": [
    {
     "data": {
      "text/plain": [
       "total\n",
       " A  B  C \n",
       " 8  8 14 "
      ]
     },
     "metadata": {},
     "output_type": "display_data"
    }
   ],
   "source": [
    "table(total)"
   ]
  },
  {
   "cell_type": "markdown",
   "id": "fae08cd1",
   "metadata": {},
   "source": [
    "# product = c(rep(\"찢어짐\", 22), rep('구멍 뚫림', 15), rep('기타', 8), rep('잘못 접혀짐', 5))"
   ]
  },
  {
   "cell_type": "code",
   "execution_count": 39,
   "id": "8f4633e2",
   "metadata": {},
   "outputs": [],
   "source": [
    "product = c(rep(\"찢어짐\", 22), rep('구멍 뚫림', 15), rep('기타', 8), rep('잘못 접혀짐', 5))"
   ]
  },
  {
   "cell_type": "code",
   "execution_count": 41,
   "id": "e55c1027",
   "metadata": {},
   "outputs": [
    {
     "data": {
      "text/html": [
       "<style>\n",
       ".list-inline {list-style: none; margin:0; padding: 0}\n",
       ".list-inline>li {display: inline-block}\n",
       ".list-inline>li:not(:last-child)::after {content: \"\\00b7\"; padding: 0 .5ex}\n",
       "</style>\n",
       "<ol class=list-inline><li>'찢어짐'</li><li>'찢어짐'</li><li>'찢어짐'</li><li>'찢어짐'</li><li>'찢어짐'</li><li>'찢어짐'</li><li>'찢어짐'</li><li>'찢어짐'</li><li>'찢어짐'</li><li>'찢어짐'</li><li>'찢어짐'</li><li>'찢어짐'</li><li>'찢어짐'</li><li>'찢어짐'</li><li>'찢어짐'</li><li>'찢어짐'</li><li>'찢어짐'</li><li>'찢어짐'</li><li>'찢어짐'</li><li>'찢어짐'</li><li>'찢어짐'</li><li>'찢어짐'</li><li>'구멍 뚫림'</li><li>'구멍 뚫림'</li><li>'구멍 뚫림'</li><li>'구멍 뚫림'</li><li>'구멍 뚫림'</li><li>'구멍 뚫림'</li><li>'구멍 뚫림'</li><li>'구멍 뚫림'</li><li>'구멍 뚫림'</li><li>'구멍 뚫림'</li><li>'구멍 뚫림'</li><li>'구멍 뚫림'</li><li>'구멍 뚫림'</li><li>'구멍 뚫림'</li><li>'구멍 뚫림'</li><li>'기타'</li><li>'기타'</li><li>'기타'</li><li>'기타'</li><li>'기타'</li><li>'기타'</li><li>'기타'</li><li>'기타'</li><li>'잘못 접혀짐'</li><li>'잘못 접혀짐'</li><li>'잘못 접혀짐'</li><li>'잘못 접혀짐'</li><li>'잘못 접혀짐'</li></ol>\n"
      ],
      "text/latex": [
       "\\begin{enumerate*}\n",
       "\\item '찢어짐'\n",
       "\\item '찢어짐'\n",
       "\\item '찢어짐'\n",
       "\\item '찢어짐'\n",
       "\\item '찢어짐'\n",
       "\\item '찢어짐'\n",
       "\\item '찢어짐'\n",
       "\\item '찢어짐'\n",
       "\\item '찢어짐'\n",
       "\\item '찢어짐'\n",
       "\\item '찢어짐'\n",
       "\\item '찢어짐'\n",
       "\\item '찢어짐'\n",
       "\\item '찢어짐'\n",
       "\\item '찢어짐'\n",
       "\\item '찢어짐'\n",
       "\\item '찢어짐'\n",
       "\\item '찢어짐'\n",
       "\\item '찢어짐'\n",
       "\\item '찢어짐'\n",
       "\\item '찢어짐'\n",
       "\\item '찢어짐'\n",
       "\\item '구멍 뚫림'\n",
       "\\item '구멍 뚫림'\n",
       "\\item '구멍 뚫림'\n",
       "\\item '구멍 뚫림'\n",
       "\\item '구멍 뚫림'\n",
       "\\item '구멍 뚫림'\n",
       "\\item '구멍 뚫림'\n",
       "\\item '구멍 뚫림'\n",
       "\\item '구멍 뚫림'\n",
       "\\item '구멍 뚫림'\n",
       "\\item '구멍 뚫림'\n",
       "\\item '구멍 뚫림'\n",
       "\\item '구멍 뚫림'\n",
       "\\item '구멍 뚫림'\n",
       "\\item '구멍 뚫림'\n",
       "\\item '기타'\n",
       "\\item '기타'\n",
       "\\item '기타'\n",
       "\\item '기타'\n",
       "\\item '기타'\n",
       "\\item '기타'\n",
       "\\item '기타'\n",
       "\\item '기타'\n",
       "\\item '잘못 접혀짐'\n",
       "\\item '잘못 접혀짐'\n",
       "\\item '잘못 접혀짐'\n",
       "\\item '잘못 접혀짐'\n",
       "\\item '잘못 접혀짐'\n",
       "\\end{enumerate*}\n"
      ],
      "text/markdown": [
       "1. '찢어짐'\n",
       "2. '찢어짐'\n",
       "3. '찢어짐'\n",
       "4. '찢어짐'\n",
       "5. '찢어짐'\n",
       "6. '찢어짐'\n",
       "7. '찢어짐'\n",
       "8. '찢어짐'\n",
       "9. '찢어짐'\n",
       "10. '찢어짐'\n",
       "11. '찢어짐'\n",
       "12. '찢어짐'\n",
       "13. '찢어짐'\n",
       "14. '찢어짐'\n",
       "15. '찢어짐'\n",
       "16. '찢어짐'\n",
       "17. '찢어짐'\n",
       "18. '찢어짐'\n",
       "19. '찢어짐'\n",
       "20. '찢어짐'\n",
       "21. '찢어짐'\n",
       "22. '찢어짐'\n",
       "23. '구멍 뚫림'\n",
       "24. '구멍 뚫림'\n",
       "25. '구멍 뚫림'\n",
       "26. '구멍 뚫림'\n",
       "27. '구멍 뚫림'\n",
       "28. '구멍 뚫림'\n",
       "29. '구멍 뚫림'\n",
       "30. '구멍 뚫림'\n",
       "31. '구멍 뚫림'\n",
       "32. '구멍 뚫림'\n",
       "33. '구멍 뚫림'\n",
       "34. '구멍 뚫림'\n",
       "35. '구멍 뚫림'\n",
       "36. '구멍 뚫림'\n",
       "37. '구멍 뚫림'\n",
       "38. '기타'\n",
       "39. '기타'\n",
       "40. '기타'\n",
       "41. '기타'\n",
       "42. '기타'\n",
       "43. '기타'\n",
       "44. '기타'\n",
       "45. '기타'\n",
       "46. '잘못 접혀짐'\n",
       "47. '잘못 접혀짐'\n",
       "48. '잘못 접혀짐'\n",
       "49. '잘못 접혀짐'\n",
       "50. '잘못 접혀짐'\n",
       "\n",
       "\n"
      ],
      "text/plain": [
       " [1] \"찢어짐\"      \"찢어짐\"      \"찢어짐\"      \"찢어짐\"      \"찢어짐\"     \n",
       " [6] \"찢어짐\"      \"찢어짐\"      \"찢어짐\"      \"찢어짐\"      \"찢어짐\"     \n",
       "[11] \"찢어짐\"      \"찢어짐\"      \"찢어짐\"      \"찢어짐\"      \"찢어짐\"     \n",
       "[16] \"찢어짐\"      \"찢어짐\"      \"찢어짐\"      \"찢어짐\"      \"찢어짐\"     \n",
       "[21] \"찢어짐\"      \"찢어짐\"      \"구멍 뚫림\"   \"구멍 뚫림\"   \"구멍 뚫림\"  \n",
       "[26] \"구멍 뚫림\"   \"구멍 뚫림\"   \"구멍 뚫림\"   \"구멍 뚫림\"   \"구멍 뚫림\"  \n",
       "[31] \"구멍 뚫림\"   \"구멍 뚫림\"   \"구멍 뚫림\"   \"구멍 뚫림\"   \"구멍 뚫림\"  \n",
       "[36] \"구멍 뚫림\"   \"구멍 뚫림\"   \"기타\"        \"기타\"        \"기타\"       \n",
       "[41] \"기타\"        \"기타\"        \"기타\"        \"기타\"        \"기타\"       \n",
       "[46] \"잘못 접혀짐\" \"잘못 접혀짐\" \"잘못 접혀짐\" \"잘못 접혀짐\" \"잘못 접혀짐\""
      ]
     },
     "metadata": {},
     "output_type": "display_data"
    }
   ],
   "source": [
    "product"
   ]
  },
  {
   "cell_type": "code",
   "execution_count": 42,
   "id": "de197398",
   "metadata": {},
   "outputs": [
    {
     "data": {
      "text/plain": [
       "product\n",
       "  구멍 뚫림        기타 잘못 접혀짐      찢어짐 \n",
       "         15           8           5          22 "
      ]
     },
     "metadata": {},
     "output_type": "display_data"
    }
   ],
   "source": [
    "table(product)"
   ]
  },
  {
   "cell_type": "code",
   "execution_count": 44,
   "id": "16697311",
   "metadata": {},
   "outputs": [
    {
     "data": {
      "image/png": "[encoded data removed]",
      "text/plain": [
       "Plot with title \"불량품 막대그래프\""
      ]
     },
     "metadata": {
      "image/png": {
       "height": 420,
       "width": 420
      }
     },
     "output_type": "display_data"
    }
   ],
   "source": [
    "barplot(table(product), main = '불량품 막대그래프')"
   ]
  },
  {
   "cell_type": "code",
   "execution_count": 45,
   "id": "16940a39",
   "metadata": {},
   "outputs": [
    {
     "data": {
      "text/plain": [
       "survey\n",
       "FALSE  TRUE \n",
       "    4     6 "
      ]
     },
     "metadata": {},
     "output_type": "display_data"
    }
   ],
   "source": [
    "survey = c(T, F, T, F, T, F, F, T, T, T)\n",
    "table(survey)"
   ]
  },
  {
   "cell_type": "code",
   "execution_count": 47,
   "id": "02036ead",
   "metadata": {},
   "outputs": [
    {
     "data": {
      "image/png": "[encoded data removed]",
      "text/plain": [
       "plot without title"
      ]
     },
     "metadata": {
      "image/png": {
       "height": 420,
       "width": 420
      }
     },
     "output_type": "display_data"
    }
   ],
   "source": [
    "barplot(table(survey), names = c('아니요', '예'))"
   ]
  },
  {
   "cell_type": "code",
   "execution_count": 50,
   "id": "b5176c22",
   "metadata": {},
   "outputs": [
    {
     "name": "stderr",
     "output_type": "stream",
     "text": [
      "Warning message in text.default(1.1 * P$x, 1.1 * P$y, labels[i], xpd = TRUE, adj = ifelse(P$x < :\n",
      "\"\"names\" is not a graphical parameter\"\n",
      "Warning message in text.default(1.1 * P$x, 1.1 * P$y, labels[i], xpd = TRUE, adj = ifelse(P$x < :\n",
      "\"\"names\" is not a graphical parameter\"\n",
      "Warning message in title(main = main, ...):\n",
      "\"\"names\" is not a graphical parameter\"\n"
     ]
    },
    {
     "data": {
      "image/png": "[encoded data removed]",
      "text/plain": [
       "plot without title"
      ]
     },
     "metadata": {
      "image/png": {
       "height": 420,
       "width": 420
      }
     },
     "output_type": "display_data"
    }
   ],
   "source": [
    "pie(table(survey),\n",
    "   names = c(\"아니요\",'예'))"
   ]
  },
  {
   "cell_type": "code",
   "execution_count": 53,
   "id": "f70432ef",
   "metadata": {},
   "outputs": [
    {
     "data": {
      "image/png": "[encoded data removed]",
      "text/plain": [
       "plot without title"
      ]
     },
     "metadata": {
      "image/png": {
       "height": 420,
       "width": 420
      }
     },
     "output_type": "display_data"
    }
   ],
   "source": [
    "barplot(table(survey), horiz = T,\n",
    "       xlab = 'Freq',\n",
    "       ylab = 'Response')"
   ]
  },
  {
   "cell_type": "code",
   "execution_count": 56,
   "id": "e16bc571",
   "metadata": {},
   "outputs": [
    {
     "data": {
      "image/png": "[encoded data removed]",
      "text/plain": [
       "Plot with title \"Piebchart\""
      ]
     },
     "metadata": {
      "image/png": {
       "height": 420,
       "width": 420
      }
     },
     "output_type": "display_data"
    }
   ],
   "source": [
    "pie(table(survey),\n",
    "   main = 'Piebchart', sub = 'Response')"
   ]
  },
  {
   "cell_type": "code",
   "execution_count": 57,
   "id": "e259312c",
   "metadata": {},
   "outputs": [],
   "source": [
    "total = c(rep('낮은', 29), rep('중간', 17), rep('높은', 18))"
   ]
  },
  {
   "cell_type": "code",
   "execution_count": 58,
   "id": "e7a723c5",
   "metadata": {},
   "outputs": [
    {
     "data": {
      "text/html": [
       "<style>\n",
       ".list-inline {list-style: none; margin:0; padding: 0}\n",
       ".list-inline>li {display: inline-block}\n",
       ".list-inline>li:not(:last-child)::after {content: \"\\00b7\"; padding: 0 .5ex}\n",
       "</style>\n",
       "<ol class=list-inline><li>'낮은'</li><li>'낮은'</li><li>'낮은'</li><li>'낮은'</li><li>'낮은'</li><li>'낮은'</li><li>'낮은'</li><li>'낮은'</li><li>'낮은'</li><li>'낮은'</li><li>'낮은'</li><li>'낮은'</li><li>'낮은'</li><li>'낮은'</li><li>'낮은'</li><li>'낮은'</li><li>'낮은'</li><li>'낮은'</li><li>'낮은'</li><li>'낮은'</li><li>'낮은'</li><li>'낮은'</li><li>'낮은'</li><li>'낮은'</li><li>'낮은'</li><li>'낮은'</li><li>'낮은'</li><li>'낮은'</li><li>'낮은'</li><li>'중간'</li><li>'중간'</li><li>'중간'</li><li>'중간'</li><li>'중간'</li><li>'중간'</li><li>'중간'</li><li>'중간'</li><li>'중간'</li><li>'중간'</li><li>'중간'</li><li>'중간'</li><li>'중간'</li><li>'중간'</li><li>'중간'</li><li>'중간'</li><li>'중간'</li><li>'높은'</li><li>'높은'</li><li>'높은'</li><li>'높은'</li><li>'높은'</li><li>'높은'</li><li>'높은'</li><li>'높은'</li><li>'높은'</li><li>'높은'</li><li>'높은'</li><li>'높은'</li><li>'높은'</li><li>'높은'</li><li>'높은'</li><li>'높은'</li><li>'높은'</li><li>'높은'</li></ol>\n"
      ],
      "text/latex": [
       "\\begin{enumerate*}\n",
       "\\item '낮은'\n",
       "\\item '낮은'\n",
       "\\item '낮은'\n",
       "\\item '낮은'\n",
       "\\item '낮은'\n",
       "\\item '낮은'\n",
       "\\item '낮은'\n",
       "\\item '낮은'\n",
       "\\item '낮은'\n",
       "\\item '낮은'\n",
       "\\item '낮은'\n",
       "\\item '낮은'\n",
       "\\item '낮은'\n",
       "\\item '낮은'\n",
       "\\item '낮은'\n",
       "\\item '낮은'\n",
       "\\item '낮은'\n",
       "\\item '낮은'\n",
       "\\item '낮은'\n",
       "\\item '낮은'\n",
       "\\item '낮은'\n",
       "\\item '낮은'\n",
       "\\item '낮은'\n",
       "\\item '낮은'\n",
       "\\item '낮은'\n",
       "\\item '낮은'\n",
       "\\item '낮은'\n",
       "\\item '낮은'\n",
       "\\item '낮은'\n",
       "\\item '중간'\n",
       "\\item '중간'\n",
       "\\item '중간'\n",
       "\\item '중간'\n",
       "\\item '중간'\n",
       "\\item '중간'\n",
       "\\item '중간'\n",
       "\\item '중간'\n",
       "\\item '중간'\n",
       "\\item '중간'\n",
       "\\item '중간'\n",
       "\\item '중간'\n",
       "\\item '중간'\n",
       "\\item '중간'\n",
       "\\item '중간'\n",
       "\\item '중간'\n",
       "\\item '중간'\n",
       "\\item '높은'\n",
       "\\item '높은'\n",
       "\\item '높은'\n",
       "\\item '높은'\n",
       "\\item '높은'\n",
       "\\item '높은'\n",
       "\\item '높은'\n",
       "\\item '높은'\n",
       "\\item '높은'\n",
       "\\item '높은'\n",
       "\\item '높은'\n",
       "\\item '높은'\n",
       "\\item '높은'\n",
       "\\item '높은'\n",
       "\\item '높은'\n",
       "\\item '높은'\n",
       "\\item '높은'\n",
       "\\item '높은'\n",
       "\\end{enumerate*}\n"
      ],
      "text/markdown": [
       "1. '낮은'\n",
       "2. '낮은'\n",
       "3. '낮은'\n",
       "4. '낮은'\n",
       "5. '낮은'\n",
       "6. '낮은'\n",
       "7. '낮은'\n",
       "8. '낮은'\n",
       "9. '낮은'\n",
       "10. '낮은'\n",
       "11. '낮은'\n",
       "12. '낮은'\n",
       "13. '낮은'\n",
       "14. '낮은'\n",
       "15. '낮은'\n",
       "16. '낮은'\n",
       "17. '낮은'\n",
       "18. '낮은'\n",
       "19. '낮은'\n",
       "20. '낮은'\n",
       "21. '낮은'\n",
       "22. '낮은'\n",
       "23. '낮은'\n",
       "24. '낮은'\n",
       "25. '낮은'\n",
       "26. '낮은'\n",
       "27. '낮은'\n",
       "28. '낮은'\n",
       "29. '낮은'\n",
       "30. '중간'\n",
       "31. '중간'\n",
       "32. '중간'\n",
       "33. '중간'\n",
       "34. '중간'\n",
       "35. '중간'\n",
       "36. '중간'\n",
       "37. '중간'\n",
       "38. '중간'\n",
       "39. '중간'\n",
       "40. '중간'\n",
       "41. '중간'\n",
       "42. '중간'\n",
       "43. '중간'\n",
       "44. '중간'\n",
       "45. '중간'\n",
       "46. '중간'\n",
       "47. '높은'\n",
       "48. '높은'\n",
       "49. '높은'\n",
       "50. '높은'\n",
       "51. '높은'\n",
       "52. '높은'\n",
       "53. '높은'\n",
       "54. '높은'\n",
       "55. '높은'\n",
       "56. '높은'\n",
       "57. '높은'\n",
       "58. '높은'\n",
       "59. '높은'\n",
       "60. '높은'\n",
       "61. '높은'\n",
       "62. '높은'\n",
       "63. '높은'\n",
       "64. '높은'\n",
       "\n",
       "\n"
      ],
      "text/plain": [
       " [1] \"낮은\" \"낮은\" \"낮은\" \"낮은\" \"낮은\" \"낮은\" \"낮은\" \"낮은\" \"낮은\" \"낮은\"\n",
       "[11] \"낮은\" \"낮은\" \"낮은\" \"낮은\" \"낮은\" \"낮은\" \"낮은\" \"낮은\" \"낮은\" \"낮은\"\n",
       "[21] \"낮은\" \"낮은\" \"낮은\" \"낮은\" \"낮은\" \"낮은\" \"낮은\" \"낮은\" \"낮은\" \"중간\"\n",
       "[31] \"중간\" \"중간\" \"중간\" \"중간\" \"중간\" \"중간\" \"중간\" \"중간\" \"중간\" \"중간\"\n",
       "[41] \"중간\" \"중간\" \"중간\" \"중간\" \"중간\" \"중간\" \"높은\" \"높은\" \"높은\" \"높은\"\n",
       "[51] \"높은\" \"높은\" \"높은\" \"높은\" \"높은\" \"높은\" \"높은\" \"높은\" \"높은\" \"높은\"\n",
       "[61] \"높은\" \"높은\" \"높은\" \"높은\""
      ]
     },
     "metadata": {},
     "output_type": "display_data"
    }
   ],
   "source": [
    "total"
   ]
  },
  {
   "cell_type": "code",
   "execution_count": 59,
   "id": "b2c0b08c",
   "metadata": {},
   "outputs": [
    {
     "data": {
      "image/png": "[encoded data removed]",
      "text/plain": [
       "plot without title"
      ]
     },
     "metadata": {
      "image/png": {
       "height": 420,
       "width": 420
      }
     },
     "output_type": "display_data"
    }
   ],
   "source": [
    "barplot(table(total))"
   ]
  },
  {
   "cell_type": "code",
   "execution_count": 60,
   "id": "a1ec1d29",
   "metadata": {},
   "outputs": [],
   "source": [
    "mat1 = matrix(c(29, 17, 18, 19, 20, 9), ncol = 3, byrow = T)"
   ]
  },
  {
   "cell_type": "code",
   "execution_count": 61,
   "id": "19f1c3de",
   "metadata": {},
   "outputs": [
    {
     "data": {
      "text/html": [
       "<table class=\"dataframe\">\n",
       "<caption>A matrix: 2 × 3 of type dbl</caption>\n",
       "<tbody>\n",
       "\t<tr><td>29</td><td>17</td><td>18</td></tr>\n",
       "\t<tr><td>19</td><td>20</td><td> 9</td></tr>\n",
       "</tbody>\n",
       "</table>\n"
      ],
      "text/latex": [
       "A matrix: 2 × 3 of type dbl\n",
       "\\begin{tabular}{lll}\n",
       "\t 29 & 17 & 18\\\\\n",
       "\t 19 & 20 &  9\\\\\n",
       "\\end{tabular}\n"
      ],
      "text/markdown": [
       "\n",
       "A matrix: 2 × 3 of type dbl\n",
       "\n",
       "| 29 | 17 | 18 |\n",
       "| 19 | 20 |  9 |\n",
       "\n"
      ],
      "text/plain": [
       "     [,1] [,2] [,3]\n",
       "[1,] 29   17   18  \n",
       "[2,] 19   20    9  "
      ]
     },
     "metadata": {},
     "output_type": "display_data"
    }
   ],
   "source": [
    "mat1"
   ]
  },
  {
   "cell_type": "code",
   "execution_count": 62,
   "id": "8062b4c0",
   "metadata": {},
   "outputs": [],
   "source": [
    "dimnames(mat1)[[1]] = c('Not seri', 'seri')"
   ]
  },
  {
   "cell_type": "code",
   "execution_count": 63,
   "id": "c8fe86ab",
   "metadata": {},
   "outputs": [],
   "source": [
    "dimnames(mat1)[[2]] = c('Low','Mid','High')"
   ]
  },
  {
   "cell_type": "code",
   "execution_count": 64,
   "id": "affc416c",
   "metadata": {},
   "outputs": [
    {
     "data": {
      "text/html": [
       "<table class=\"dataframe\">\n",
       "<caption>A matrix: 2 × 3 of type dbl</caption>\n",
       "<thead>\n",
       "\t<tr><th></th><th scope=col>Low</th><th scope=col>Mid</th><th scope=col>High</th></tr>\n",
       "</thead>\n",
       "<tbody>\n",
       "\t<tr><th scope=row>Not seri</th><td>29</td><td>17</td><td>18</td></tr>\n",
       "\t<tr><th scope=row>seri</th><td>19</td><td>20</td><td> 9</td></tr>\n",
       "</tbody>\n",
       "</table>\n"
      ],
      "text/latex": [
       "A matrix: 2 × 3 of type dbl\n",
       "\\begin{tabular}{r|lll}\n",
       "  & Low & Mid & High\\\\\n",
       "\\hline\n",
       "\tNot seri & 29 & 17 & 18\\\\\n",
       "\tseri & 19 & 20 &  9\\\\\n",
       "\\end{tabular}\n"
      ],
      "text/markdown": [
       "\n",
       "A matrix: 2 × 3 of type dbl\n",
       "\n",
       "| <!--/--> | Low | Mid | High |\n",
       "|---|---|---|---|\n",
       "| Not seri | 29 | 17 | 18 |\n",
       "| seri | 19 | 20 |  9 |\n",
       "\n"
      ],
      "text/plain": [
       "         Low Mid High\n",
       "Not seri 29  17  18  \n",
       "seri     19  20   9  "
      ]
     },
     "metadata": {},
     "output_type": "display_data"
    }
   ],
   "source": [
    "mat1"
   ]
  },
  {
   "cell_type": "code",
   "execution_count": 65,
   "id": "f28ce3ae",
   "metadata": {},
   "outputs": [],
   "source": [
    "table1 = margin.table(mat1, 1)"
   ]
  },
  {
   "cell_type": "code",
   "execution_count": 66,
   "id": "64640ff0",
   "metadata": {},
   "outputs": [
    {
     "data": {
      "text/html": [
       "<style>\n",
       ".dl-inline {width: auto; margin:0; padding: 0}\n",
       ".dl-inline>dt, .dl-inline>dd {float: none; width: auto; display: inline-block}\n",
       ".dl-inline>dt::after {content: \":\\0020\"; padding-right: .5ex}\n",
       ".dl-inline>dt:not(:first-of-type) {padding-left: .5ex}\n",
       "</style><dl class=dl-inline><dt>Not seri</dt><dd>64</dd><dt>seri</dt><dd>48</dd></dl>\n"
      ],
      "text/latex": [
       "\\begin{description*}\n",
       "\\item[Not seri] 64\n",
       "\\item[seri] 48\n",
       "\\end{description*}\n"
      ],
      "text/markdown": [
       "Not seri\n",
       ":   64seri\n",
       ":   48\n",
       "\n"
      ],
      "text/plain": [
       "Not seri     seri \n",
       "      64       48 "
      ]
     },
     "metadata": {},
     "output_type": "display_data"
    }
   ],
   "source": [
    "table1"
   ]
  },
  {
   "cell_type": "code",
   "execution_count": 67,
   "id": "98582b6a",
   "metadata": {},
   "outputs": [],
   "source": [
    "table2 = prop.table(table1)"
   ]
  },
  {
   "cell_type": "code",
   "execution_count": 68,
   "id": "0700bd69",
   "metadata": {},
   "outputs": [
    {
     "data": {
      "text/html": [
       "<style>\n",
       ".dl-inline {width: auto; margin:0; padding: 0}\n",
       ".dl-inline>dt, .dl-inline>dd {float: none; width: auto; display: inline-block}\n",
       ".dl-inline>dt::after {content: \":\\0020\"; padding-right: .5ex}\n",
       ".dl-inline>dt:not(:first-of-type) {padding-left: .5ex}\n",
       "</style><dl class=dl-inline><dt>Not seri</dt><dd>0.571428571428571</dd><dt>seri</dt><dd>0.428571428571429</dd></dl>\n"
      ],
      "text/latex": [
       "\\begin{description*}\n",
       "\\item[Not seri] 0.571428571428571\n",
       "\\item[seri] 0.428571428571429\n",
       "\\end{description*}\n"
      ],
      "text/markdown": [
       "Not seri\n",
       ":   0.571428571428571seri\n",
       ":   0.428571428571429\n",
       "\n"
      ],
      "text/plain": [
       " Not seri      seri \n",
       "0.5714286 0.4285714 "
      ]
     },
     "metadata": {},
     "output_type": "display_data"
    }
   ],
   "source": [
    "table2"
   ]
  },
  {
   "cell_type": "code",
   "execution_count": 69,
   "id": "83961751",
   "metadata": {},
   "outputs": [
    {
     "data": {
      "image/png": "[encoded data removed]",
      "text/plain": [
       "plot without title"
      ]
     },
     "metadata": {
      "image/png": {
       "height": 420,
       "width": 420
      }
     },
     "output_type": "display_data"
    }
   ],
   "source": [
    "barplot(table2)"
   ]
  },
  {
   "cell_type": "code",
   "execution_count": 70,
   "id": "f1c96e30",
   "metadata": {},
   "outputs": [],
   "source": [
    "table1 = margin.table(mat1, 2)"
   ]
  },
  {
   "cell_type": "code",
   "execution_count": 71,
   "id": "8eef102e",
   "metadata": {},
   "outputs": [
    {
     "data": {
      "text/html": [
       "<style>\n",
       ".dl-inline {width: auto; margin:0; padding: 0}\n",
       ".dl-inline>dt, .dl-inline>dd {float: none; width: auto; display: inline-block}\n",
       ".dl-inline>dt::after {content: \":\\0020\"; padding-right: .5ex}\n",
       ".dl-inline>dt:not(:first-of-type) {padding-left: .5ex}\n",
       "</style><dl class=dl-inline><dt>Low</dt><dd>48</dd><dt>Mid</dt><dd>37</dd><dt>High</dt><dd>27</dd></dl>\n"
      ],
      "text/latex": [
       "\\begin{description*}\n",
       "\\item[Low] 48\n",
       "\\item[Mid] 37\n",
       "\\item[High] 27\n",
       "\\end{description*}\n"
      ],
      "text/markdown": [
       "Low\n",
       ":   48Mid\n",
       ":   37High\n",
       ":   27\n",
       "\n"
      ],
      "text/plain": [
       " Low  Mid High \n",
       "  48   37   27 "
      ]
     },
     "metadata": {},
     "output_type": "display_data"
    }
   ],
   "source": [
    "table1"
   ]
  },
  {
   "cell_type": "code",
   "execution_count": 72,
   "id": "857eba19",
   "metadata": {},
   "outputs": [],
   "source": [
    "table2 = prop.table(table1)"
   ]
  },
  {
   "cell_type": "code",
   "execution_count": 73,
   "id": "34c1baef",
   "metadata": {},
   "outputs": [
    {
     "data": {
      "text/html": [
       "<style>\n",
       ".dl-inline {width: auto; margin:0; padding: 0}\n",
       ".dl-inline>dt, .dl-inline>dd {float: none; width: auto; display: inline-block}\n",
       ".dl-inline>dt::after {content: \":\\0020\"; padding-right: .5ex}\n",
       ".dl-inline>dt:not(:first-of-type) {padding-left: .5ex}\n",
       "</style><dl class=dl-inline><dt>Low</dt><dd>0.428571428571429</dd><dt>Mid</dt><dd>0.330357142857143</dd><dt>High</dt><dd>0.241071428571429</dd></dl>\n"
      ],
      "text/latex": [
       "\\begin{description*}\n",
       "\\item[Low] 0.428571428571429\n",
       "\\item[Mid] 0.330357142857143\n",
       "\\item[High] 0.241071428571429\n",
       "\\end{description*}\n"
      ],
      "text/markdown": [
       "Low\n",
       ":   0.428571428571429Mid\n",
       ":   0.330357142857143High\n",
       ":   0.241071428571429\n",
       "\n"
      ],
      "text/plain": [
       "      Low       Mid      High \n",
       "0.4285714 0.3303571 0.2410714 "
      ]
     },
     "metadata": {},
     "output_type": "display_data"
    }
   ],
   "source": [
    "table2"
   ]
  },
  {
   "cell_type": "code",
   "execution_count": 74,
   "id": "249ad44d",
   "metadata": {},
   "outputs": [
    {
     "data": {
      "image/png": "[encoded data removed]",
      "text/plain": [
       "plot without title"
      ]
     },
     "metadata": {
      "image/png": {
       "height": 420,
       "width": 420
      }
     },
     "output_type": "display_data"
    }
   ],
   "source": [
    "barplot(table2)"
   ]
  },
  {
   "cell_type": "code",
   "execution_count": 75,
   "id": "513daad0",
   "metadata": {},
   "outputs": [
    {
     "name": "stderr",
     "output_type": "stream",
     "text": [
      "Warning message in matrix(c(137, 153, 22, 34, 30, 40, 67, 68), nrow = 3, byrow = F):\n",
      "\"data length [8] is not a sub-multiple or multiple of the number of rows [3]\"\n"
     ]
    }
   ],
   "source": [
    "mat1 = matrix(c(137, 153, 22, 34, 30, 40, 67, 68), nrow =3, byrow=F)"
   ]
  },
  {
   "cell_type": "code",
   "execution_count": 76,
   "id": "2d2c0f61",
   "metadata": {},
   "outputs": [
    {
     "data": {
      "text/html": [
       "<table class=\"dataframe\">\n",
       "<caption>A matrix: 3 × 3 of type dbl</caption>\n",
       "<tbody>\n",
       "\t<tr><td>137</td><td>34</td><td> 67</td></tr>\n",
       "\t<tr><td>153</td><td>30</td><td> 68</td></tr>\n",
       "\t<tr><td> 22</td><td>40</td><td>137</td></tr>\n",
       "</tbody>\n",
       "</table>\n"
      ],
      "text/latex": [
       "A matrix: 3 × 3 of type dbl\n",
       "\\begin{tabular}{lll}\n",
       "\t 137 & 34 &  67\\\\\n",
       "\t 153 & 30 &  68\\\\\n",
       "\t  22 & 40 & 137\\\\\n",
       "\\end{tabular}\n"
      ],
      "text/markdown": [
       "\n",
       "A matrix: 3 × 3 of type dbl\n",
       "\n",
       "| 137 | 34 |  67 |\n",
       "| 153 | 30 |  68 |\n",
       "|  22 | 40 | 137 |\n",
       "\n"
      ],
      "text/plain": [
       "     [,1] [,2] [,3]\n",
       "[1,] 137  34    67 \n",
       "[2,] 153  30    68 \n",
       "[3,]  22  40   137 "
      ]
     },
     "metadata": {},
     "output_type": "display_data"
    }
   ],
   "source": [
    "mat1"
   ]
  },
  {
   "cell_type": "code",
   "execution_count": 77,
   "id": "50ddc6ee",
   "metadata": {},
   "outputs": [],
   "source": [
    "dimnames(mat1)[[1]] = c('< 25','25 ~ 28', '> 28')"
   ]
  },
  {
   "cell_type": "code",
   "execution_count": 78,
   "id": "a6d3a1cf",
   "metadata": {},
   "outputs": [],
   "source": [
    "dimnames(mat1)[[2]] = c('none','fore','crown')"
   ]
  },
  {
   "cell_type": "code",
   "execution_count": 80,
   "id": "75143a3c",
   "metadata": {},
   "outputs": [],
   "source": [
    "mat2 = prop.table(mat1, 1)"
   ]
  },
  {
   "cell_type": "code",
   "execution_count": 81,
   "id": "4b40950f",
   "metadata": {},
   "outputs": [
    {
     "data": {
      "text/html": [
       "<table class=\"dataframe\">\n",
       "<caption>A matrix: 3 × 3 of type dbl</caption>\n",
       "<thead>\n",
       "\t<tr><th></th><th scope=col>none</th><th scope=col>fore</th><th scope=col>crown</th></tr>\n",
       "</thead>\n",
       "<tbody>\n",
       "\t<tr><th scope=row>&lt; 25</th><td>0.5756303</td><td>0.1428571</td><td>0.2815126</td></tr>\n",
       "\t<tr><th scope=row>25 ~ 28</th><td>0.6095618</td><td>0.1195219</td><td>0.2709163</td></tr>\n",
       "\t<tr><th scope=row>&gt; 28</th><td>0.1105528</td><td>0.2010050</td><td>0.6884422</td></tr>\n",
       "</tbody>\n",
       "</table>\n"
      ],
      "text/latex": [
       "A matrix: 3 × 3 of type dbl\n",
       "\\begin{tabular}{r|lll}\n",
       "  & none & fore & crown\\\\\n",
       "\\hline\n",
       "\t< 25 & 0.5756303 & 0.1428571 & 0.2815126\\\\\n",
       "\t25 \\textasciitilde{} 28 & 0.6095618 & 0.1195219 & 0.2709163\\\\\n",
       "\t> 28 & 0.1105528 & 0.2010050 & 0.6884422\\\\\n",
       "\\end{tabular}\n"
      ],
      "text/markdown": [
       "\n",
       "A matrix: 3 × 3 of type dbl\n",
       "\n",
       "| <!--/--> | none | fore | crown |\n",
       "|---|---|---|---|\n",
       "| &lt; 25 | 0.5756303 | 0.1428571 | 0.2815126 |\n",
       "| 25 ~ 28 | 0.6095618 | 0.1195219 | 0.2709163 |\n",
       "| &gt; 28 | 0.1105528 | 0.2010050 | 0.6884422 |\n",
       "\n"
      ],
      "text/plain": [
       "        none      fore      crown    \n",
       "< 25    0.5756303 0.1428571 0.2815126\n",
       "25 ~ 28 0.6095618 0.1195219 0.2709163\n",
       "> 28    0.1105528 0.2010050 0.6884422"
      ]
     },
     "metadata": {},
     "output_type": "display_data"
    }
   ],
   "source": [
    "mat2"
   ]
  },
  {
   "cell_type": "code",
   "execution_count": 83,
   "id": "ff22e7c1",
   "metadata": {},
   "outputs": [
    {
     "data": {
      "image/png": "[encoded data removed]",
      "text/plain": [
       "Plot with title \"신체 용적 지수에 따른 막대그래프\""
      ]
     },
     "metadata": {
      "image/png": {
       "height": 420,
       "width": 420
      }
     },
     "output_type": "display_data"
    }
   ],
   "source": [
    "barplot(t(mat2), legend.text = T, beside = T,\n",
    "       main = '신체 용적 지수에 따른 막대그래프')"
   ]
  },
  {
   "cell_type": "code",
   "execution_count": 84,
   "id": "cad9ea37",
   "metadata": {},
   "outputs": [],
   "source": [
    "class = c(rep('baseball', 7), rep('basketball', 10),rep('Afootball', 6), rep('Hockey', 2), rep('tenniss', 5), rep('soccor', 5))"
   ]
  },
  {
   "cell_type": "code",
   "execution_count": 85,
   "id": "12b9f25f",
   "metadata": {},
   "outputs": [
    {
     "data": {
      "text/html": [
       "<style>\n",
       ".list-inline {list-style: none; margin:0; padding: 0}\n",
       ".list-inline>li {display: inline-block}\n",
       ".list-inline>li:not(:last-child)::after {content: \"\\00b7\"; padding: 0 .5ex}\n",
       "</style>\n",
       "<ol class=list-inline><li>'baseball'</li><li>'baseball'</li><li>'baseball'</li><li>'baseball'</li><li>'baseball'</li><li>'baseball'</li><li>'baseball'</li><li>'basketball'</li><li>'basketball'</li><li>'basketball'</li><li>'basketball'</li><li>'basketball'</li><li>'basketball'</li><li>'basketball'</li><li>'basketball'</li><li>'basketball'</li><li>'basketball'</li><li>'Afootball'</li><li>'Afootball'</li><li>'Afootball'</li><li>'Afootball'</li><li>'Afootball'</li><li>'Afootball'</li><li>'Hockey'</li><li>'Hockey'</li><li>'tenniss'</li><li>'tenniss'</li><li>'tenniss'</li><li>'tenniss'</li><li>'tenniss'</li><li>'soccor'</li><li>'soccor'</li><li>'soccor'</li><li>'soccor'</li><li>'soccor'</li></ol>\n"
      ],
      "text/latex": [
       "\\begin{enumerate*}\n",
       "\\item 'baseball'\n",
       "\\item 'baseball'\n",
       "\\item 'baseball'\n",
       "\\item 'baseball'\n",
       "\\item 'baseball'\n",
       "\\item 'baseball'\n",
       "\\item 'baseball'\n",
       "\\item 'basketball'\n",
       "\\item 'basketball'\n",
       "\\item 'basketball'\n",
       "\\item 'basketball'\n",
       "\\item 'basketball'\n",
       "\\item 'basketball'\n",
       "\\item 'basketball'\n",
       "\\item 'basketball'\n",
       "\\item 'basketball'\n",
       "\\item 'basketball'\n",
       "\\item 'Afootball'\n",
       "\\item 'Afootball'\n",
       "\\item 'Afootball'\n",
       "\\item 'Afootball'\n",
       "\\item 'Afootball'\n",
       "\\item 'Afootball'\n",
       "\\item 'Hockey'\n",
       "\\item 'Hockey'\n",
       "\\item 'tenniss'\n",
       "\\item 'tenniss'\n",
       "\\item 'tenniss'\n",
       "\\item 'tenniss'\n",
       "\\item 'tenniss'\n",
       "\\item 'soccor'\n",
       "\\item 'soccor'\n",
       "\\item 'soccor'\n",
       "\\item 'soccor'\n",
       "\\item 'soccor'\n",
       "\\end{enumerate*}\n"
      ],
      "text/markdown": [
       "1. 'baseball'\n",
       "2. 'baseball'\n",
       "3. 'baseball'\n",
       "4. 'baseball'\n",
       "5. 'baseball'\n",
       "6. 'baseball'\n",
       "7. 'baseball'\n",
       "8. 'basketball'\n",
       "9. 'basketball'\n",
       "10. 'basketball'\n",
       "11. 'basketball'\n",
       "12. 'basketball'\n",
       "13. 'basketball'\n",
       "14. 'basketball'\n",
       "15. 'basketball'\n",
       "16. 'basketball'\n",
       "17. 'basketball'\n",
       "18. 'Afootball'\n",
       "19. 'Afootball'\n",
       "20. 'Afootball'\n",
       "21. 'Afootball'\n",
       "22. 'Afootball'\n",
       "23. 'Afootball'\n",
       "24. 'Hockey'\n",
       "25. 'Hockey'\n",
       "26. 'tenniss'\n",
       "27. 'tenniss'\n",
       "28. 'tenniss'\n",
       "29. 'tenniss'\n",
       "30. 'tenniss'\n",
       "31. 'soccor'\n",
       "32. 'soccor'\n",
       "33. 'soccor'\n",
       "34. 'soccor'\n",
       "35. 'soccor'\n",
       "\n",
       "\n"
      ],
      "text/plain": [
       " [1] \"baseball\"   \"baseball\"   \"baseball\"   \"baseball\"   \"baseball\"  \n",
       " [6] \"baseball\"   \"baseball\"   \"basketball\" \"basketball\" \"basketball\"\n",
       "[11] \"basketball\" \"basketball\" \"basketball\" \"basketball\" \"basketball\"\n",
       "[16] \"basketball\" \"basketball\" \"Afootball\"  \"Afootball\"  \"Afootball\" \n",
       "[21] \"Afootball\"  \"Afootball\"  \"Afootball\"  \"Hockey\"     \"Hockey\"    \n",
       "[26] \"tenniss\"    \"tenniss\"    \"tenniss\"    \"tenniss\"    \"tenniss\"   \n",
       "[31] \"soccor\"     \"soccor\"     \"soccor\"     \"soccor\"     \"soccor\"    "
      ]
     },
     "metadata": {},
     "output_type": "display_data"
    }
   ],
   "source": [
    "class"
   ]
  },
  {
   "cell_type": "code",
   "execution_count": 86,
   "id": "3cc68428",
   "metadata": {},
   "outputs": [],
   "source": [
    "table_class = table(class)"
   ]
  },
  {
   "cell_type": "code",
   "execution_count": 87,
   "id": "97ab11db",
   "metadata": {},
   "outputs": [
    {
     "data": {
      "text/plain": [
       "class\n",
       " Afootball   baseball basketball     Hockey     soccor    tenniss \n",
       "         6          7         10          2          5          5 "
      ]
     },
     "metadata": {},
     "output_type": "display_data"
    }
   ],
   "source": [
    "table_class"
   ]
  },
  {
   "cell_type": "code",
   "execution_count": 88,
   "id": "e1ae3fc2",
   "metadata": {},
   "outputs": [
    {
     "name": "stderr",
     "output_type": "stream",
     "text": [
      "Warning message in dotchart(table_class, main = \"dot chart\", xlab = \"count\"):\n",
      "\"'x' is neither a vector nor a matrix: using as.numeric(x)\"\n"
     ]
    },
    {
     "data": {
      "image/png": "[encoded data removed]",
      "text/plain": [
       "Plot with title \"dot chart\""
      ]
     },
     "metadata": {
      "image/png": {
       "height": 420,
       "width": 420
      }
     },
     "output_type": "display_data"
    }
   ],
   "source": [
    "dotchart(table_class, main = 'dot chart', xlab = 'count')"
   ]
  },
  {
   "cell_type": "code",
   "execution_count": 91,
   "id": "2be9c4d5",
   "metadata": {},
   "outputs": [
    {
     "data": {
      "image/png": "[encoded data removed]",
      "text/plain": [
       "Plot with title \"dot plot\""
      ]
     },
     "metadata": {
      "image/png": {
       "height": 420,
       "width": 420
      }
     },
     "output_type": "display_data"
    }
   ],
   "source": [
    "plot(table(class), type ='p', main ='dot plot', ylab = 'count',\n",
    "    las = 1)"
   ]
  },
  {
   "cell_type": "code",
   "execution_count": 98,
   "id": "8a896928",
   "metadata": {},
   "outputs": [
    {
     "data": {
      "text/html": [
       "<style>\n",
       ".list-inline {list-style: none; margin:0; padding: 0}\n",
       ".list-inline>li {display: inline-block}\n",
       ".list-inline>li:not(:last-child)::after {content: \"\\00b7\"; padding: 0 .5ex}\n",
       "</style>\n",
       "<ol class=list-inline><li>6</li><li>25</li><li>6</li><li>8</li><li>23</li><li>27</li><li>14</li><li>10</li><li>18</li><li>27</li><li>24</li><li>10</li><li>23</li><li>8</li><li>9</li><li>13</li><li>11</li><li>12</li><li>5</li><li>17</li><li>14</li><li>15</li><li>16</li><li>24</li><li>9</li><li>19</li><li>16</li><li>14</li><li>12</li></ol>\n"
      ],
      "text/latex": [
       "\\begin{enumerate*}\n",
       "\\item 6\n",
       "\\item 25\n",
       "\\item 6\n",
       "\\item 8\n",
       "\\item 23\n",
       "\\item 27\n",
       "\\item 14\n",
       "\\item 10\n",
       "\\item 18\n",
       "\\item 27\n",
       "\\item 24\n",
       "\\item 10\n",
       "\\item 23\n",
       "\\item 8\n",
       "\\item 9\n",
       "\\item 13\n",
       "\\item 11\n",
       "\\item 12\n",
       "\\item 5\n",
       "\\item 17\n",
       "\\item 14\n",
       "\\item 15\n",
       "\\item 16\n",
       "\\item 24\n",
       "\\item 9\n",
       "\\item 19\n",
       "\\item 16\n",
       "\\item 14\n",
       "\\item 12\n",
       "\\end{enumerate*}\n"
      ],
      "text/markdown": [
       "1. 6\n",
       "2. 25\n",
       "3. 6\n",
       "4. 8\n",
       "5. 23\n",
       "6. 27\n",
       "7. 14\n",
       "8. 10\n",
       "9. 18\n",
       "10. 27\n",
       "11. 24\n",
       "12. 10\n",
       "13. 23\n",
       "14. 8\n",
       "15. 9\n",
       "16. 13\n",
       "17. 11\n",
       "18. 12\n",
       "19. 5\n",
       "20. 17\n",
       "21. 14\n",
       "22. 15\n",
       "23. 16\n",
       "24. 24\n",
       "25. 9\n",
       "26. 19\n",
       "27. 16\n",
       "28. 14\n",
       "29. 12\n",
       "\n",
       "\n"
      ],
      "text/plain": [
       " [1]  6 25  6  8 23 27 14 10 18 27 24 10 23  8  9 13 11 12  5 17 14 15 16 24  9\n",
       "[26] 19 16 14 12"
      ]
     },
     "metadata": {},
     "output_type": "display_data"
    },
    {
     "name": "stdout",
     "output_type": "stream",
     "text": [
      "\n",
      "  The decimal point is at the |\n",
      "\n",
      "   4 | 0\n",
      "   6 | 00\n",
      "   8 | 0000\n",
      "  10 | 000\n",
      "  12 | 000\n",
      "  14 | 0000\n",
      "  16 | 000\n",
      "  18 | 00\n",
      "  20 | \n",
      "  22 | 00\n",
      "  24 | 000\n",
      "  26 | 00\n",
      "\n"
     ]
    }
   ],
   "source": [
    "time = c(6,25, 6, 8,23, 27, 14, 10, 18, 27, 24, 10, 23, 8, 9, 13, 11, 12, 5, 17, 14, 15, 16, 24, 9, 19, 16, 14, 12)\n",
    "time\n",
    "stem(time)"
   ]
  },
  {
   "cell_type": "code",
   "execution_count": 93,
   "id": "646f630a",
   "metadata": {},
   "outputs": [
    {
     "data": {
      "text/plain": [
       "time\n",
       " 5  6  8  9 10 11 12 13 14 15 16 17 18 19 23 24 25 27 \n",
       " 1  2  2  2  2  1  2  1  3  1  2  1  1  1  2  2  1  2 "
      ]
     },
     "metadata": {},
     "output_type": "display_data"
    }
   ],
   "source": [
    "table(time)"
   ]
  },
  {
   "cell_type": "code",
   "execution_count": 94,
   "id": "14674e19",
   "metadata": {},
   "outputs": [
    {
     "name": "stdout",
     "output_type": "stream",
     "text": [
      "\n",
      "  The decimal point is at the |\n",
      "\n",
      "   4 | 0\n",
      "   6 | 00\n",
      "   8 | 0000\n",
      "  10 | 000\n",
      "  12 | 000\n",
      "  14 | 0000\n",
      "  16 | 000\n",
      "  18 | 00\n",
      "  20 | \n",
      "  22 | 00\n",
      "  24 | 000\n",
      "  26 | 00\n",
      "\n"
     ]
    }
   ],
   "source": [
    "stem(time)"
   ]
  },
  {
   "cell_type": "code",
   "execution_count": 95,
   "id": "a8470b02",
   "metadata": {},
   "outputs": [
    {
     "name": "stdout",
     "output_type": "stream",
     "text": [
      "\n",
      "  The decimal point is 1 digit(s) to the right of the |\n",
      "\n",
      "  1 | 0\n",
      "  1 | \n",
      "  2 | 014\n",
      "\n"
     ]
    }
   ],
   "source": [
    "time = c(20, 10, 21, 24)\n",
    "stem(time)"
   ]
  },
  {
   "cell_type": "code",
   "execution_count": 99,
   "id": "5a0c70c9",
   "metadata": {},
   "outputs": [],
   "source": [
    "time = c(15, 8, 23, 21, 5, 17, 31, 22, 34, 6, 5, 10, 14, 17, 16, 25, 30, 3, 31, 19)"
   ]
  },
  {
   "cell_type": "code",
   "execution_count": 101,
   "id": "a82c2f6e",
   "metadata": {},
   "outputs": [
    {
     "data": {
      "text/html": [
       "<style>\n",
       ".list-inline {list-style: none; margin:0; padding: 0}\n",
       ".list-inline>li {display: inline-block}\n",
       ".list-inline>li:not(:last-child)::after {content: \"\\00b7\"; padding: 0 .5ex}\n",
       "</style>\n",
       "<ol class=list-inline><li>15</li><li>8</li><li>23</li><li>21</li><li>5</li><li>17</li><li>31</li><li>22</li><li>34</li><li>6</li><li>5</li><li>10</li><li>14</li><li>17</li><li>16</li><li>25</li><li>30</li><li>3</li><li>31</li><li>19</li></ol>\n"
      ],
      "text/latex": [
       "\\begin{enumerate*}\n",
       "\\item 15\n",
       "\\item 8\n",
       "\\item 23\n",
       "\\item 21\n",
       "\\item 5\n",
       "\\item 17\n",
       "\\item 31\n",
       "\\item 22\n",
       "\\item 34\n",
       "\\item 6\n",
       "\\item 5\n",
       "\\item 10\n",
       "\\item 14\n",
       "\\item 17\n",
       "\\item 16\n",
       "\\item 25\n",
       "\\item 30\n",
       "\\item 3\n",
       "\\item 31\n",
       "\\item 19\n",
       "\\end{enumerate*}\n"
      ],
      "text/markdown": [
       "1. 15\n",
       "2. 8\n",
       "3. 23\n",
       "4. 21\n",
       "5. 5\n",
       "6. 17\n",
       "7. 31\n",
       "8. 22\n",
       "9. 34\n",
       "10. 6\n",
       "11. 5\n",
       "12. 10\n",
       "13. 14\n",
       "14. 17\n",
       "15. 16\n",
       "16. 25\n",
       "17. 30\n",
       "18. 3\n",
       "19. 31\n",
       "20. 19\n",
       "\n",
       "\n"
      ],
      "text/plain": [
       " [1] 15  8 23 21  5 17 31 22 34  6  5 10 14 17 16 25 30  3 31 19"
      ]
     },
     "metadata": {},
     "output_type": "display_data"
    }
   ],
   "source": [
    "time"
   ]
  },
  {
   "cell_type": "code",
   "execution_count": 100,
   "id": "1d1862d7",
   "metadata": {},
   "outputs": [
    {
     "name": "stdout",
     "output_type": "stream",
     "text": [
      "\n",
      "  The decimal point is 1 digit(s) to the right of the |\n",
      "\n",
      "  0 | 35568\n",
      "  1 | 0456779\n",
      "  2 | 1235\n",
      "  3 | 0114\n",
      "\n"
     ]
    }
   ],
   "source": [
    "stem(time)"
   ]
  },
  {
   "cell_type": "code",
   "execution_count": 102,
   "id": "57bb5460",
   "metadata": {},
   "outputs": [
    {
     "data": {
      "text/html": [
       "<style>\n",
       ".list-inline {list-style: none; margin:0; padding: 0}\n",
       ".list-inline>li {display: inline-block}\n",
       ".list-inline>li:not(:last-child)::after {content: \"\\00b7\"; padding: 0 .5ex}\n",
       "</style>\n",
       "<ol class=list-inline><li>158</li><li>184</li><li>171</li><li>158</li><li>182</li><li>163</li><li>172</li><li>173</li><li>151</li><li>157</li><li>172</li><li>156</li><li>152</li><li>168</li><li>169</li><li>176</li><li>173</li><li>178</li><li>179</li><li>157</li><li>151</li><li>175</li><li>182</li><li>182</li><li>161</li><li>174</li><li>174</li><li>180</li><li>173</li><li>162</li><li>170</li><li>156</li><li>173</li><li>156</li><li>161</li><li>170</li><li>185</li><li>158</li><li>165</li><li>150</li><li>173</li><li>162</li><li>183</li><li>180</li><li>169</li><li>179</li><li>169</li><li>179</li><li>157</li><li>168</li><li>167</li><li>169</li><li>161</li><li>183</li><li>159</li><li>164</li><li>153</li><li>181</li><li>168</li><li>183</li><li>180</li><li>171</li><li>161</li><li>167</li><li>161</li><li>181</li><li>176</li><li>150</li><li>156</li><li>172</li><li>168</li><li>156</li><li>151</li><li>150</li><li>172</li><li>158</li><li>160</li><li>184</li><li>157</li><li>150</li><li>151</li><li>163</li><li>161</li><li>171</li><li>151</li><li>167</li><li>175</li><li>171</li><li>154</li><li>158</li><li>166</li><li>170</li><li>162</li><li>174</li><li>176</li><li>170</li><li>180</li><li>162</li><li>155</li></ol>\n"
      ],
      "text/latex": [
       "\\begin{enumerate*}\n",
       "\\item 158\n",
       "\\item 184\n",
       "\\item 171\n",
       "\\item 158\n",
       "\\item 182\n",
       "\\item 163\n",
       "\\item 172\n",
       "\\item 173\n",
       "\\item 151\n",
       "\\item 157\n",
       "\\item 172\n",
       "\\item 156\n",
       "\\item 152\n",
       "\\item 168\n",
       "\\item 169\n",
       "\\item 176\n",
       "\\item 173\n",
       "\\item 178\n",
       "\\item 179\n",
       "\\item 157\n",
       "\\item 151\n",
       "\\item 175\n",
       "\\item 182\n",
       "\\item 182\n",
       "\\item 161\n",
       "\\item 174\n",
       "\\item 174\n",
       "\\item 180\n",
       "\\item 173\n",
       "\\item 162\n",
       "\\item 170\n",
       "\\item 156\n",
       "\\item 173\n",
       "\\item 156\n",
       "\\item 161\n",
       "\\item 170\n",
       "\\item 185\n",
       "\\item 158\n",
       "\\item 165\n",
       "\\item 150\n",
       "\\item 173\n",
       "\\item 162\n",
       "\\item 183\n",
       "\\item 180\n",
       "\\item 169\n",
       "\\item 179\n",
       "\\item 169\n",
       "\\item 179\n",
       "\\item 157\n",
       "\\item 168\n",
       "\\item 167\n",
       "\\item 169\n",
       "\\item 161\n",
       "\\item 183\n",
       "\\item 159\n",
       "\\item 164\n",
       "\\item 153\n",
       "\\item 181\n",
       "\\item 168\n",
       "\\item 183\n",
       "\\item 180\n",
       "\\item 171\n",
       "\\item 161\n",
       "\\item 167\n",
       "\\item 161\n",
       "\\item 181\n",
       "\\item 176\n",
       "\\item 150\n",
       "\\item 156\n",
       "\\item 172\n",
       "\\item 168\n",
       "\\item 156\n",
       "\\item 151\n",
       "\\item 150\n",
       "\\item 172\n",
       "\\item 158\n",
       "\\item 160\n",
       "\\item 184\n",
       "\\item 157\n",
       "\\item 150\n",
       "\\item 151\n",
       "\\item 163\n",
       "\\item 161\n",
       "\\item 171\n",
       "\\item 151\n",
       "\\item 167\n",
       "\\item 175\n",
       "\\item 171\n",
       "\\item 154\n",
       "\\item 158\n",
       "\\item 166\n",
       "\\item 170\n",
       "\\item 162\n",
       "\\item 174\n",
       "\\item 176\n",
       "\\item 170\n",
       "\\item 180\n",
       "\\item 162\n",
       "\\item 155\n",
       "\\end{enumerate*}\n"
      ],
      "text/markdown": [
       "1. 158\n",
       "2. 184\n",
       "3. 171\n",
       "4. 158\n",
       "5. 182\n",
       "6. 163\n",
       "7. 172\n",
       "8. 173\n",
       "9. 151\n",
       "10. 157\n",
       "11. 172\n",
       "12. 156\n",
       "13. 152\n",
       "14. 168\n",
       "15. 169\n",
       "16. 176\n",
       "17. 173\n",
       "18. 178\n",
       "19. 179\n",
       "20. 157\n",
       "21. 151\n",
       "22. 175\n",
       "23. 182\n",
       "24. 182\n",
       "25. 161\n",
       "26. 174\n",
       "27. 174\n",
       "28. 180\n",
       "29. 173\n",
       "30. 162\n",
       "31. 170\n",
       "32. 156\n",
       "33. 173\n",
       "34. 156\n",
       "35. 161\n",
       "36. 170\n",
       "37. 185\n",
       "38. 158\n",
       "39. 165\n",
       "40. 150\n",
       "41. 173\n",
       "42. 162\n",
       "43. 183\n",
       "44. 180\n",
       "45. 169\n",
       "46. 179\n",
       "47. 169\n",
       "48. 179\n",
       "49. 157\n",
       "50. 168\n",
       "51. 167\n",
       "52. 169\n",
       "53. 161\n",
       "54. 183\n",
       "55. 159\n",
       "56. 164\n",
       "57. 153\n",
       "58. 181\n",
       "59. 168\n",
       "60. 183\n",
       "61. 180\n",
       "62. 171\n",
       "63. 161\n",
       "64. 167\n",
       "65. 161\n",
       "66. 181\n",
       "67. 176\n",
       "68. 150\n",
       "69. 156\n",
       "70. 172\n",
       "71. 168\n",
       "72. 156\n",
       "73. 151\n",
       "74. 150\n",
       "75. 172\n",
       "76. 158\n",
       "77. 160\n",
       "78. 184\n",
       "79. 157\n",
       "80. 150\n",
       "81. 151\n",
       "82. 163\n",
       "83. 161\n",
       "84. 171\n",
       "85. 151\n",
       "86. 167\n",
       "87. 175\n",
       "88. 171\n",
       "89. 154\n",
       "90. 158\n",
       "91. 166\n",
       "92. 170\n",
       "93. 162\n",
       "94. 174\n",
       "95. 176\n",
       "96. 170\n",
       "97. 180\n",
       "98. 162\n",
       "99. 155\n",
       "\n",
       "\n"
      ],
      "text/plain": [
       " [1] 158 184 171 158 182 163 172 173 151 157 172 156 152 168 169 176 173 178 179\n",
       "[20] 157 151 175 182 182 161 174 174 180 173 162 170 156 173 156 161 170 185 158\n",
       "[39] 165 150 173 162 183 180 169 179 169 179 157 168 167 169 161 183 159 164 153\n",
       "[58] 181 168 183 180 171 161 167 161 181 176 150 156 172 168 156 151 150 172 158\n",
       "[77] 160 184 157 150 151 163 161 171 151 167 175 171 154 158 166 170 162 174 176\n",
       "[96] 170 180 162 155"
      ]
     },
     "metadata": {},
     "output_type": "display_data"
    }
   ],
   "source": [
    "height = c(158, 184, 171, 158, 182, 163, 172, 173, 151, 157, 172, 156, 152, 168, 169, 176, 173, 178, 179, 157, 151, 175, 182, 182, 161, 174, 174, 180, 173, 162, 170, 156, 173, 156, 161, 170, 185, 158, 165, 150, 173, 162, 183, 180, 169, 179, 169, 179, 157, 168, 167, 169, 161, 183, 159, 164, 153, 181, 168, 183, 180, 171, 161, 167, 161, 181, 176, 150, 156, 172, 168, 156, 151, 150, 172, 158, 160, 184, 157, 150, 151, 163, 161, 171, 151, 167, 175, 171, 154, 158, 166, 170, 162, 174, 176, 170, 180, 162, 155)\n",
    "height"
   ]
  },
  {
   "cell_type": "code",
   "execution_count": 103,
   "id": "1b769f94",
   "metadata": {},
   "outputs": [
    {
     "data": {
      "text/plain": [
       "height\n",
       "150 151 152 153 154 155 156 157 158 159 160 161 162 163 164 165 166 167 168 169 \n",
       "  4   5   1   1   1   1   5   4   5   1   1   6   4   2   1   1   1   3   4   4 \n",
       "170 171 172 173 174 175 176 178 179 180 181 182 183 184 185 \n",
       "  4   4   4   5   3   2   3   1   3   4   2   3   3   2   1 "
      ]
     },
     "metadata": {},
     "output_type": "display_data"
    }
   ],
   "source": [
    "table(height)"
   ]
  },
  {
   "cell_type": "code",
   "execution_count": 108,
   "id": "3e07bfc1",
   "metadata": {},
   "outputs": [
    {
     "data": {
      "image/png": "[encoded data removed]",
      "text/plain": [
       "Plot with title \"Histogram of height\""
      ]
     },
     "metadata": {
      "image/png": {
       "height": 420,
       "width": 420
      }
     },
     "output_type": "display_data"
    }
   ],
   "source": [
    "cut = c('149, 155, 159, 164, 169, 175, 180')\n",
    "hist(height,\n",
    "    breaks = 7, probability = T)"
   ]
  },
  {
   "cell_type": "code",
   "execution_count": 109,
   "id": "389bc6bb",
   "metadata": {},
   "outputs": [],
   "source": [
    "cut1 = cut(height, breaks = c(150, 155, 160, 165, 170, 175, 180, 185), right = F)"
   ]
  },
  {
   "cell_type": "code",
   "execution_count": 110,
   "id": "a40f6434",
   "metadata": {},
   "outputs": [
    {
     "data": {
      "text/html": [
       "<style>\n",
       ".list-inline {list-style: none; margin:0; padding: 0}\n",
       ".list-inline>li {display: inline-block}\n",
       ".list-inline>li:not(:last-child)::after {content: \"\\00b7\"; padding: 0 .5ex}\n",
       "</style>\n",
       "<ol class=list-inline><li>[155,160)</li><li>[180,185)</li><li>[170,175)</li><li>[155,160)</li><li>[180,185)</li><li>[160,165)</li><li>[170,175)</li><li>[170,175)</li><li>[150,155)</li><li>[155,160)</li><li>[170,175)</li><li>[155,160)</li><li>[150,155)</li><li>[165,170)</li><li>[165,170)</li><li>[175,180)</li><li>[170,175)</li><li>[175,180)</li><li>[175,180)</li><li>[155,160)</li><li>[150,155)</li><li>[175,180)</li><li>[180,185)</li><li>[180,185)</li><li>[160,165)</li><li>[170,175)</li><li>[170,175)</li><li>[180,185)</li><li>[170,175)</li><li>[160,165)</li><li>[170,175)</li><li>[155,160)</li><li>[170,175)</li><li>[155,160)</li><li>[160,165)</li><li>[170,175)</li><li>&lt;NA&gt;</li><li>[155,160)</li><li>[165,170)</li><li>[150,155)</li><li>[170,175)</li><li>[160,165)</li><li>[180,185)</li><li>[180,185)</li><li>[165,170)</li><li>[175,180)</li><li>[165,170)</li><li>[175,180)</li><li>[155,160)</li><li>[165,170)</li><li>[165,170)</li><li>[165,170)</li><li>[160,165)</li><li>[180,185)</li><li>[155,160)</li><li>[160,165)</li><li>[150,155)</li><li>[180,185)</li><li>[165,170)</li><li>[180,185)</li><li>[180,185)</li><li>[170,175)</li><li>[160,165)</li><li>[165,170)</li><li>[160,165)</li><li>[180,185)</li><li>[175,180)</li><li>[150,155)</li><li>[155,160)</li><li>[170,175)</li><li>[165,170)</li><li>[155,160)</li><li>[150,155)</li><li>[150,155)</li><li>[170,175)</li><li>[155,160)</li><li>[160,165)</li><li>[180,185)</li><li>[155,160)</li><li>[150,155)</li><li>[150,155)</li><li>[160,165)</li><li>[160,165)</li><li>[170,175)</li><li>[150,155)</li><li>[165,170)</li><li>[175,180)</li><li>[170,175)</li><li>[150,155)</li><li>[155,160)</li><li>[165,170)</li><li>[170,175)</li><li>[160,165)</li><li>[170,175)</li><li>[175,180)</li><li>[170,175)</li><li>[180,185)</li><li>[160,165)</li><li>[155,160)</li></ol>\n",
       "\n",
       "<details>\n",
       "\t<summary style=display:list-item;cursor:pointer>\n",
       "\t\t<strong>Levels</strong>:\n",
       "\t</summary>\n",
       "\t<style>\n",
       "\t.list-inline {list-style: none; margin:0; padding: 0}\n",
       "\t.list-inline>li {display: inline-block}\n",
       "\t.list-inline>li:not(:last-child)::after {content: \"\\00b7\"; padding: 0 .5ex}\n",
       "\t</style>\n",
       "\t<ol class=list-inline><li>'[150,155)'</li><li>'[155,160)'</li><li>'[160,165)'</li><li>'[165,170)'</li><li>'[170,175)'</li><li>'[175,180)'</li><li>'[180,185)'</li></ol>\n",
       "</details>"
      ],
      "text/latex": [
       "\\begin{enumerate*}\n",
       "\\item {[}155,160)\n",
       "\\item {[}180,185)\n",
       "\\item {[}170,175)\n",
       "\\item {[}155,160)\n",
       "\\item {[}180,185)\n",
       "\\item {[}160,165)\n",
       "\\item {[}170,175)\n",
       "\\item {[}170,175)\n",
       "\\item {[}150,155)\n",
       "\\item {[}155,160)\n",
       "\\item {[}170,175)\n",
       "\\item {[}155,160)\n",
       "\\item {[}150,155)\n",
       "\\item {[}165,170)\n",
       "\\item {[}165,170)\n",
       "\\item {[}175,180)\n",
       "\\item {[}170,175)\n",
       "\\item {[}175,180)\n",
       "\\item {[}175,180)\n",
       "\\item {[}155,160)\n",
       "\\item {[}150,155)\n",
       "\\item {[}175,180)\n",
       "\\item {[}180,185)\n",
       "\\item {[}180,185)\n",
       "\\item {[}160,165)\n",
       "\\item {[}170,175)\n",
       "\\item {[}170,175)\n",
       "\\item {[}180,185)\n",
       "\\item {[}170,175)\n",
       "\\item {[}160,165)\n",
       "\\item {[}170,175)\n",
       "\\item {[}155,160)\n",
       "\\item {[}170,175)\n",
       "\\item {[}155,160)\n",
       "\\item {[}160,165)\n",
       "\\item {[}170,175)\n",
       "\\item <NA>\n",
       "\\item {[}155,160)\n",
       "\\item {[}165,170)\n",
       "\\item {[}150,155)\n",
       "\\item {[}170,175)\n",
       "\\item {[}160,165)\n",
       "\\item {[}180,185)\n",
       "\\item {[}180,185)\n",
       "\\item {[}165,170)\n",
       "\\item {[}175,180)\n",
       "\\item {[}165,170)\n",
       "\\item {[}175,180)\n",
       "\\item {[}155,160)\n",
       "\\item {[}165,170)\n",
       "\\item {[}165,170)\n",
       "\\item {[}165,170)\n",
       "\\item {[}160,165)\n",
       "\\item {[}180,185)\n",
       "\\item {[}155,160)\n",
       "\\item {[}160,165)\n",
       "\\item {[}150,155)\n",
       "\\item {[}180,185)\n",
       "\\item {[}165,170)\n",
       "\\item {[}180,185)\n",
       "\\item {[}180,185)\n",
       "\\item {[}170,175)\n",
       "\\item {[}160,165)\n",
       "\\item {[}165,170)\n",
       "\\item {[}160,165)\n",
       "\\item {[}180,185)\n",
       "\\item {[}175,180)\n",
       "\\item {[}150,155)\n",
       "\\item {[}155,160)\n",
       "\\item {[}170,175)\n",
       "\\item {[}165,170)\n",
       "\\item {[}155,160)\n",
       "\\item {[}150,155)\n",
       "\\item {[}150,155)\n",
       "\\item {[}170,175)\n",
       "\\item {[}155,160)\n",
       "\\item {[}160,165)\n",
       "\\item {[}180,185)\n",
       "\\item {[}155,160)\n",
       "\\item {[}150,155)\n",
       "\\item {[}150,155)\n",
       "\\item {[}160,165)\n",
       "\\item {[}160,165)\n",
       "\\item {[}170,175)\n",
       "\\item {[}150,155)\n",
       "\\item {[}165,170)\n",
       "\\item {[}175,180)\n",
       "\\item {[}170,175)\n",
       "\\item {[}150,155)\n",
       "\\item {[}155,160)\n",
       "\\item {[}165,170)\n",
       "\\item {[}170,175)\n",
       "\\item {[}160,165)\n",
       "\\item {[}170,175)\n",
       "\\item {[}175,180)\n",
       "\\item {[}170,175)\n",
       "\\item {[}180,185)\n",
       "\\item {[}160,165)\n",
       "\\item {[}155,160)\n",
       "\\end{enumerate*}\n",
       "\n",
       "\\emph{Levels}: \\begin{enumerate*}\n",
       "\\item '{[}150,155)'\n",
       "\\item '{[}155,160)'\n",
       "\\item '{[}160,165)'\n",
       "\\item '{[}165,170)'\n",
       "\\item '{[}170,175)'\n",
       "\\item '{[}175,180)'\n",
       "\\item '{[}180,185)'\n",
       "\\end{enumerate*}\n"
      ],
      "text/markdown": [
       "1. [155,160)\n",
       "2. [180,185)\n",
       "3. [170,175)\n",
       "4. [155,160)\n",
       "5. [180,185)\n",
       "6. [160,165)\n",
       "7. [170,175)\n",
       "8. [170,175)\n",
       "9. [150,155)\n",
       "10. [155,160)\n",
       "11. [170,175)\n",
       "12. [155,160)\n",
       "13. [150,155)\n",
       "14. [165,170)\n",
       "15. [165,170)\n",
       "16. [175,180)\n",
       "17. [170,175)\n",
       "18. [175,180)\n",
       "19. [175,180)\n",
       "20. [155,160)\n",
       "21. [150,155)\n",
       "22. [175,180)\n",
       "23. [180,185)\n",
       "24. [180,185)\n",
       "25. [160,165)\n",
       "26. [170,175)\n",
       "27. [170,175)\n",
       "28. [180,185)\n",
       "29. [170,175)\n",
       "30. [160,165)\n",
       "31. [170,175)\n",
       "32. [155,160)\n",
       "33. [170,175)\n",
       "34. [155,160)\n",
       "35. [160,165)\n",
       "36. [170,175)\n",
       "37. &lt;NA&gt;\n",
       "38. [155,160)\n",
       "39. [165,170)\n",
       "40. [150,155)\n",
       "41. [170,175)\n",
       "42. [160,165)\n",
       "43. [180,185)\n",
       "44. [180,185)\n",
       "45. [165,170)\n",
       "46. [175,180)\n",
       "47. [165,170)\n",
       "48. [175,180)\n",
       "49. [155,160)\n",
       "50. [165,170)\n",
       "51. [165,170)\n",
       "52. [165,170)\n",
       "53. [160,165)\n",
       "54. [180,185)\n",
       "55. [155,160)\n",
       "56. [160,165)\n",
       "57. [150,155)\n",
       "58. [180,185)\n",
       "59. [165,170)\n",
       "60. [180,185)\n",
       "61. [180,185)\n",
       "62. [170,175)\n",
       "63. [160,165)\n",
       "64. [165,170)\n",
       "65. [160,165)\n",
       "66. [180,185)\n",
       "67. [175,180)\n",
       "68. [150,155)\n",
       "69. [155,160)\n",
       "70. [170,175)\n",
       "71. [165,170)\n",
       "72. [155,160)\n",
       "73. [150,155)\n",
       "74. [150,155)\n",
       "75. [170,175)\n",
       "76. [155,160)\n",
       "77. [160,165)\n",
       "78. [180,185)\n",
       "79. [155,160)\n",
       "80. [150,155)\n",
       "81. [150,155)\n",
       "82. [160,165)\n",
       "83. [160,165)\n",
       "84. [170,175)\n",
       "85. [150,155)\n",
       "86. [165,170)\n",
       "87. [175,180)\n",
       "88. [170,175)\n",
       "89. [150,155)\n",
       "90. [155,160)\n",
       "91. [165,170)\n",
       "92. [170,175)\n",
       "93. [160,165)\n",
       "94. [170,175)\n",
       "95. [175,180)\n",
       "96. [170,175)\n",
       "97. [180,185)\n",
       "98. [160,165)\n",
       "99. [155,160)\n",
       "\n",
       "\n",
       "\n",
       "**Levels**: 1. '[150,155)'\n",
       "2. '[155,160)'\n",
       "3. '[160,165)'\n",
       "4. '[165,170)'\n",
       "5. '[170,175)'\n",
       "6. '[175,180)'\n",
       "7. '[180,185)'\n",
       "\n",
       "\n"
      ],
      "text/plain": [
       " [1] [155,160) [180,185) [170,175) [155,160) [180,185) [160,165) [170,175)\n",
       " [8] [170,175) [150,155) [155,160) [170,175) [155,160) [150,155) [165,170)\n",
       "[15] [165,170) [175,180) [170,175) [175,180) [175,180) [155,160) [150,155)\n",
       "[22] [175,180) [180,185) [180,185) [160,165) [170,175) [170,175) [180,185)\n",
       "[29] [170,175) [160,165) [170,175) [155,160) [170,175) [155,160) [160,165)\n",
       "[36] [170,175) <NA>      [155,160) [165,170) [150,155) [170,175) [160,165)\n",
       "[43] [180,185) [180,185) [165,170) [175,180) [165,170) [175,180) [155,160)\n",
       "[50] [165,170) [165,170) [165,170) [160,165) [180,185) [155,160) [160,165)\n",
       "[57] [150,155) [180,185) [165,170) [180,185) [180,185) [170,175) [160,165)\n",
       "[64] [165,170) [160,165) [180,185) [175,180) [150,155) [155,160) [170,175)\n",
       "[71] [165,170) [155,160) [150,155) [150,155) [170,175) [155,160) [160,165)\n",
       "[78] [180,185) [155,160) [150,155) [150,155) [160,165) [160,165) [170,175)\n",
       "[85] [150,155) [165,170) [175,180) [170,175) [150,155) [155,160) [165,170)\n",
       "[92] [170,175) [160,165) [170,175) [175,180) [170,175) [180,185) [160,165)\n",
       "[99] [155,160)\n",
       "7 Levels: [150,155) [155,160) [160,165) [165,170) [170,175) ... [180,185)"
      ]
     },
     "metadata": {},
     "output_type": "display_data"
    }
   ],
   "source": [
    "cut1"
   ]
  },
  {
   "cell_type": "code",
   "execution_count": 111,
   "id": "20fd465e",
   "metadata": {},
   "outputs": [],
   "source": [
    "freq = table(cut1)"
   ]
  },
  {
   "cell_type": "code",
   "execution_count": 112,
   "id": "0f74ab44",
   "metadata": {},
   "outputs": [
    {
     "data": {
      "text/plain": [
       "cut1\n",
       "[150,155) [155,160) [160,165) [165,170) [170,175) [175,180) [180,185) \n",
       "       12        16        14        13        20         9        14 "
      ]
     },
     "metadata": {},
     "output_type": "display_data"
    }
   ],
   "source": [
    "freq"
   ]
  },
  {
   "cell_type": "code",
   "execution_count": 113,
   "id": "11874801",
   "metadata": {},
   "outputs": [],
   "source": [
    "prop = prop.table(freq)"
   ]
  },
  {
   "cell_type": "code",
   "execution_count": 114,
   "id": "ee2b6ab2",
   "metadata": {},
   "outputs": [
    {
     "data": {
      "text/plain": [
       "cut1\n",
       " [150,155)  [155,160)  [160,165)  [165,170)  [170,175)  [175,180)  [180,185) \n",
       "0.12244898 0.16326531 0.14285714 0.13265306 0.20408163 0.09183673 0.14285714 "
      ]
     },
     "metadata": {},
     "output_type": "display_data"
    }
   ],
   "source": [
    "prop"
   ]
  },
  {
   "cell_type": "code",
   "execution_count": 115,
   "id": "88de88bc",
   "metadata": {},
   "outputs": [
    {
     "data": {
      "text/html": [
       "<table class=\"dataframe\">\n",
       "<caption>A matrix: 7 × 2 of type dbl</caption>\n",
       "<thead>\n",
       "\t<tr><th></th><th scope=col>freq</th><th scope=col>prop</th></tr>\n",
       "</thead>\n",
       "<tbody>\n",
       "\t<tr><th scope=row>[150,155)</th><td>12</td><td>0.12244898</td></tr>\n",
       "\t<tr><th scope=row>[155,160)</th><td>16</td><td>0.16326531</td></tr>\n",
       "\t<tr><th scope=row>[160,165)</th><td>14</td><td>0.14285714</td></tr>\n",
       "\t<tr><th scope=row>[165,170)</th><td>13</td><td>0.13265306</td></tr>\n",
       "\t<tr><th scope=row>[170,175)</th><td>20</td><td>0.20408163</td></tr>\n",
       "\t<tr><th scope=row>[175,180)</th><td> 9</td><td>0.09183673</td></tr>\n",
       "\t<tr><th scope=row>[180,185)</th><td>14</td><td>0.14285714</td></tr>\n",
       "</tbody>\n",
       "</table>\n"
      ],
      "text/latex": [
       "A matrix: 7 × 2 of type dbl\n",
       "\\begin{tabular}{r|ll}\n",
       "  & freq & prop\\\\\n",
       "\\hline\n",
       "\t{[}150,155) & 12 & 0.12244898\\\\\n",
       "\t{[}155,160) & 16 & 0.16326531\\\\\n",
       "\t{[}160,165) & 14 & 0.14285714\\\\\n",
       "\t{[}165,170) & 13 & 0.13265306\\\\\n",
       "\t{[}170,175) & 20 & 0.20408163\\\\\n",
       "\t{[}175,180) &  9 & 0.09183673\\\\\n",
       "\t{[}180,185) & 14 & 0.14285714\\\\\n",
       "\\end{tabular}\n"
      ],
      "text/markdown": [
       "\n",
       "A matrix: 7 × 2 of type dbl\n",
       "\n",
       "| <!--/--> | freq | prop |\n",
       "|---|---|---|\n",
       "| [150,155) | 12 | 0.12244898 |\n",
       "| [155,160) | 16 | 0.16326531 |\n",
       "| [160,165) | 14 | 0.14285714 |\n",
       "| [165,170) | 13 | 0.13265306 |\n",
       "| [170,175) | 20 | 0.20408163 |\n",
       "| [175,180) |  9 | 0.09183673 |\n",
       "| [180,185) | 14 | 0.14285714 |\n",
       "\n"
      ],
      "text/plain": [
       "          freq prop      \n",
       "[150,155) 12   0.12244898\n",
       "[155,160) 16   0.16326531\n",
       "[160,165) 14   0.14285714\n",
       "[165,170) 13   0.13265306\n",
       "[170,175) 20   0.20408163\n",
       "[175,180)  9   0.09183673\n",
       "[180,185) 14   0.14285714"
      ]
     },
     "metadata": {},
     "output_type": "display_data"
    }
   ],
   "source": [
    "cbind(freq, prop)"
   ]
  },
  {
   "cell_type": "code",
   "execution_count": 116,
   "id": "63957e6e",
   "metadata": {},
   "outputs": [],
   "source": [
    "x = c(45, 86, 34, 98, 67, 78, 56, 45, 85, 75, 64, 75, 75, 75, 58, 45, 83, 74)"
   ]
  },
  {
   "cell_type": "code",
   "execution_count": 117,
   "id": "8a58f57d",
   "metadata": {},
   "outputs": [
    {
     "data": {
      "text/html": [
       "<style>\n",
       ".list-inline {list-style: none; margin:0; padding: 0}\n",
       ".list-inline>li {display: inline-block}\n",
       ".list-inline>li:not(:last-child)::after {content: \"\\00b7\"; padding: 0 .5ex}\n",
       "</style>\n",
       "<ol class=list-inline><li>45</li><li>86</li><li>34</li><li>98</li><li>67</li><li>78</li><li>56</li><li>45</li><li>85</li><li>75</li><li>64</li><li>75</li><li>75</li><li>75</li><li>58</li><li>45</li><li>83</li><li>74</li></ol>\n"
      ],
      "text/latex": [
       "\\begin{enumerate*}\n",
       "\\item 45\n",
       "\\item 86\n",
       "\\item 34\n",
       "\\item 98\n",
       "\\item 67\n",
       "\\item 78\n",
       "\\item 56\n",
       "\\item 45\n",
       "\\item 85\n",
       "\\item 75\n",
       "\\item 64\n",
       "\\item 75\n",
       "\\item 75\n",
       "\\item 75\n",
       "\\item 58\n",
       "\\item 45\n",
       "\\item 83\n",
       "\\item 74\n",
       "\\end{enumerate*}\n"
      ],
      "text/markdown": [
       "1. 45\n",
       "2. 86\n",
       "3. 34\n",
       "4. 98\n",
       "5. 67\n",
       "6. 78\n",
       "7. 56\n",
       "8. 45\n",
       "9. 85\n",
       "10. 75\n",
       "11. 64\n",
       "12. 75\n",
       "13. 75\n",
       "14. 75\n",
       "15. 58\n",
       "16. 45\n",
       "17. 83\n",
       "18. 74\n",
       "\n",
       "\n"
      ],
      "text/plain": [
       " [1] 45 86 34 98 67 78 56 45 85 75 64 75 75 75 58 45 83 74"
      ]
     },
     "metadata": {},
     "output_type": "display_data"
    }
   ],
   "source": [
    "x"
   ]
  },
  {
   "cell_type": "code",
   "execution_count": 118,
   "id": "1ce7840f",
   "metadata": {},
   "outputs": [
    {
     "data": {
      "image/png": "[encoded data removed]",
      "text/plain": [
       "Plot with title \"Histogram of x\""
      ]
     },
     "metadata": {
      "image/png": {
       "height": 420,
       "width": 420
      }
     },
     "output_type": "display_data"
    }
   ],
   "source": [
    "hist(x)"
   ]
  },
  {
   "cell_type": "code",
   "execution_count": 120,
   "id": "0f4f868e",
   "metadata": {},
   "outputs": [
    {
     "data": {
      "image/png": "[encoded data removed]",
      "text/plain": [
       "Plot with title \"Histogram of x\""
      ]
     },
     "metadata": {
      "image/png": {
       "height": 420,
       "width": 420
      }
     },
     "output_type": "display_data"
    }
   ],
   "source": [
    "hist(x, prob = T)\n",
    "lines(density(x))"
   ]
  },
  {
   "cell_type": "code",
   "execution_count": 121,
   "id": "cc800d8e",
   "metadata": {},
   "outputs": [],
   "source": [
    "x = c(2, 2, 8, 20, 33)"
   ]
  },
  {
   "cell_type": "code",
   "execution_count": 122,
   "id": "27e25ec8",
   "metadata": {},
   "outputs": [
    {
     "data": {
      "text/html": [
       "<style>\n",
       ".list-inline {list-style: none; margin:0; padding: 0}\n",
       ".list-inline>li {display: inline-block}\n",
       ".list-inline>li:not(:last-child)::after {content: \"\\00b7\"; padding: 0 .5ex}\n",
       "</style>\n",
       "<ol class=list-inline><li>2</li><li>2</li><li>8</li><li>20</li><li>33</li></ol>\n"
      ],
      "text/latex": [
       "\\begin{enumerate*}\n",
       "\\item 2\n",
       "\\item 2\n",
       "\\item 8\n",
       "\\item 20\n",
       "\\item 33\n",
       "\\end{enumerate*}\n"
      ],
      "text/markdown": [
       "1. 2\n",
       "2. 2\n",
       "3. 8\n",
       "4. 20\n",
       "5. 33\n",
       "\n",
       "\n"
      ],
      "text/plain": [
       "[1]  2  2  8 20 33"
      ]
     },
     "metadata": {},
     "output_type": "display_data"
    }
   ],
   "source": [
    "x"
   ]
  },
  {
   "cell_type": "code",
   "execution_count": 123,
   "id": "7ed8bc6a",
   "metadata": {},
   "outputs": [
    {
     "data": {
      "text/html": [
       "13"
      ],
      "text/latex": [
       "13"
      ],
      "text/markdown": [
       "13"
      ],
      "text/plain": [
       "[1] 13"
      ]
     },
     "metadata": {},
     "output_type": "display_data"
    }
   ],
   "source": [
    "mean(x)"
   ]
  },
  {
   "cell_type": "code",
   "execution_count": 124,
   "id": "065c89b1",
   "metadata": {},
   "outputs": [
    {
     "data": {
      "text/html": [
       "8"
      ],
      "text/latex": [
       "8"
      ],
      "text/markdown": [
       "8"
      ],
      "text/plain": [
       "[1] 8"
      ]
     },
     "metadata": {},
     "output_type": "display_data"
    }
   ],
   "source": [
    "median(x)"
   ]
  },
  {
   "cell_type": "code",
   "execution_count": 125,
   "id": "4519e1d1",
   "metadata": {},
   "outputs": [],
   "source": [
    "y = c(2, 2, 8, 20, 58)"
   ]
  },
  {
   "cell_type": "code",
   "execution_count": 126,
   "id": "d6c7cf00",
   "metadata": {},
   "outputs": [
    {
     "data": {
      "text/html": [
       "18"
      ],
      "text/latex": [
       "18"
      ],
      "text/markdown": [
       "18"
      ],
      "text/plain": [
       "[1] 18"
      ]
     },
     "metadata": {},
     "output_type": "display_data"
    }
   ],
   "source": [
    "mean(y)"
   ]
  },
  {
   "cell_type": "code",
   "execution_count": 127,
   "id": "3cd23b9a",
   "metadata": {},
   "outputs": [
    {
     "data": {
      "text/html": [
       "8"
      ],
      "text/latex": [
       "8"
      ],
      "text/markdown": [
       "8"
      ],
      "text/plain": [
       "[1] 8"
      ]
     },
     "metadata": {},
     "output_type": "display_data"
    }
   ],
   "source": [
    "median(y)"
   ]
  },
  {
   "cell_type": "code",
   "execution_count": 128,
   "id": "14e98e80",
   "metadata": {},
   "outputs": [],
   "source": [
    "x = c(58182, 49651, 69903, 267277)"
   ]
  },
  {
   "cell_type": "code",
   "execution_count": 129,
   "id": "892ad711",
   "metadata": {},
   "outputs": [
    {
     "data": {
      "text/html": [
       "<style>\n",
       ".list-inline {list-style: none; margin:0; padding: 0}\n",
       ".list-inline>li {display: inline-block}\n",
       ".list-inline>li:not(:last-child)::after {content: \"\\00b7\"; padding: 0 .5ex}\n",
       "</style>\n",
       "<ol class=list-inline><li>49651</li><li>267277</li></ol>\n"
      ],
      "text/latex": [
       "\\begin{enumerate*}\n",
       "\\item 49651\n",
       "\\item 267277\n",
       "\\end{enumerate*}\n"
      ],
      "text/markdown": [
       "1. 49651\n",
       "2. 267277\n",
       "\n",
       "\n"
      ],
      "text/plain": [
       "[1]  49651 267277"
      ]
     },
     "metadata": {},
     "output_type": "display_data"
    }
   ],
   "source": [
    "range(x)"
   ]
  },
  {
   "cell_type": "code",
   "execution_count": 130,
   "id": "12f7032c",
   "metadata": {},
   "outputs": [
    {
     "data": {
      "text/html": [
       "217626"
      ],
      "text/latex": [
       "217626"
      ],
      "text/markdown": [
       "217626"
      ],
      "text/plain": [
       "[1] 217626"
      ]
     },
     "metadata": {},
     "output_type": "display_data"
    }
   ],
   "source": [
    "diff(range(x))"
   ]
  },
  {
   "cell_type": "code",
   "execution_count": 131,
   "id": "996cff66",
   "metadata": {},
   "outputs": [],
   "source": [
    "x = c(43, 40, 38, 37, 43, 37, 43, 39, 78, 45, 44, 40, 38, 41, 35, 31, 44)"
   ]
  },
  {
   "cell_type": "code",
   "execution_count": 132,
   "id": "b6fe2f28",
   "metadata": {},
   "outputs": [
    {
     "data": {
      "text/html": [
       "<style>\n",
       ".dl-inline {width: auto; margin:0; padding: 0}\n",
       ".dl-inline>dt, .dl-inline>dd {float: none; width: auto; display: inline-block}\n",
       ".dl-inline>dt::after {content: \":\\0020\"; padding-right: .5ex}\n",
       ".dl-inline>dt:not(:first-of-type) {padding-left: .5ex}\n",
       "</style><dl class=dl-inline><dt>0%</dt><dd>31</dd><dt>25%</dt><dd>38</dd><dt>50%</dt><dd>40</dd><dt>75%</dt><dd>43</dd><dt>100%</dt><dd>78</dd></dl>\n"
      ],
      "text/latex": [
       "\\begin{description*}\n",
       "\\item[0\\textbackslash{}\\%] 31\n",
       "\\item[25\\textbackslash{}\\%] 38\n",
       "\\item[50\\textbackslash{}\\%] 40\n",
       "\\item[75\\textbackslash{}\\%] 43\n",
       "\\item[100\\textbackslash{}\\%] 78\n",
       "\\end{description*}\n"
      ],
      "text/markdown": [
       "0%\n",
       ":   3125%\n",
       ":   3850%\n",
       ":   4075%\n",
       ":   43100%\n",
       ":   78\n",
       "\n"
      ],
      "text/plain": [
       "  0%  25%  50%  75% 100% \n",
       "  31   38   40   43   78 "
      ]
     },
     "metadata": {},
     "output_type": "display_data"
    }
   ],
   "source": [
    "quantile(x)"
   ]
  },
  {
   "cell_type": "code",
   "execution_count": 133,
   "id": "436fa0e9",
   "metadata": {},
   "outputs": [
    {
     "data": {
      "text/plain": [
       "   Min. 1st Qu.  Median    Mean 3rd Qu.    Max. \n",
       "  31.00   38.00   40.00   42.12   43.00   78.00 "
      ]
     },
     "metadata": {},
     "output_type": "display_data"
    }
   ],
   "source": [
    "summary(x)"
   ]
  },
  {
   "cell_type": "code",
   "execution_count": 134,
   "id": "6255b67a",
   "metadata": {},
   "outputs": [
    {
     "data": {
      "text/html": [
       "5"
      ],
      "text/latex": [
       "5"
      ],
      "text/markdown": [
       "5"
      ],
      "text/plain": [
       "[1] 5"
      ]
     },
     "metadata": {},
     "output_type": "display_data"
    }
   ],
   "source": [
    "IQR(x)"
   ]
  },
  {
   "cell_type": "code",
   "execution_count": 135,
   "id": "7159ddf9",
   "metadata": {},
   "outputs": [],
   "source": [
    "x = c(35, 29, 44, 72, 34, 64, 41, 50, 54, 104, 39, 58)"
   ]
  },
  {
   "cell_type": "code",
   "execution_count": 136,
   "id": "f064aa7a",
   "metadata": {},
   "outputs": [
    {
     "data": {
      "image/png": "[encoded data removed]",
      "text/plain": [
       "plot without title"
      ]
     },
     "metadata": {
      "image/png": {
       "height": 420,
       "width": 420
      }
     },
     "output_type": "display_data"
    }
   ],
   "source": [
    "boxplot(x)"
   ]
  },
  {
   "cell_type": "code",
   "execution_count": 137,
   "id": "4be2f2a3",
   "metadata": {},
   "outputs": [
    {
     "data": {
      "text/html": [
       "<dl>\n",
       "\t<dt>$stats</dt>\n",
       "\t\t<dd><style>\n",
       ".list-inline {list-style: none; margin:0; padding: 0}\n",
       ".list-inline>li {display: inline-block}\n",
       ".list-inline>li:not(:last-child)::after {content: \"\\00b7\"; padding: 0 .5ex}\n",
       "</style>\n",
       "<ol class=list-inline><li>29</li><li>37</li><li>47</li><li>61</li><li>72</li></ol>\n",
       "</dd>\n",
       "\t<dt>$n</dt>\n",
       "\t\t<dd>12</dd>\n",
       "\t<dt>$conf</dt>\n",
       "\t\t<dd><style>\n",
       ".list-inline {list-style: none; margin:0; padding: 0}\n",
       ".list-inline>li {display: inline-block}\n",
       ".list-inline>li:not(:last-child)::after {content: \"\\00b7\"; padding: 0 .5ex}\n",
       "</style>\n",
       "<ol class=list-inline><li>36.0534388961647</li><li>57.9465611038353</li></ol>\n",
       "</dd>\n",
       "\t<dt>$out</dt>\n",
       "\t\t<dd>104</dd>\n",
       "</dl>\n"
      ],
      "text/latex": [
       "\\begin{description}\n",
       "\\item[\\$stats] \\begin{enumerate*}\n",
       "\\item 29\n",
       "\\item 37\n",
       "\\item 47\n",
       "\\item 61\n",
       "\\item 72\n",
       "\\end{enumerate*}\n",
       "\n",
       "\\item[\\$n] 12\n",
       "\\item[\\$conf] \\begin{enumerate*}\n",
       "\\item 36.0534388961647\n",
       "\\item 57.9465611038353\n",
       "\\end{enumerate*}\n",
       "\n",
       "\\item[\\$out] 104\n",
       "\\end{description}\n"
      ],
      "text/markdown": [
       "$stats\n",
       ":   1. 29\n",
       "2. 37\n",
       "3. 47\n",
       "4. 61\n",
       "5. 72\n",
       "\n",
       "\n",
       "\n",
       "$n\n",
       ":   12\n",
       "$conf\n",
       ":   1. 36.0534388961647\n",
       "2. 57.9465611038353\n",
       "\n",
       "\n",
       "\n",
       "$out\n",
       ":   104\n",
       "\n",
       "\n"
      ],
      "text/plain": [
       "$stats\n",
       "[1] 29 37 47 61 72\n",
       "\n",
       "$n\n",
       "[1] 12\n",
       "\n",
       "$conf\n",
       "[1] 36.05344 57.94656\n",
       "\n",
       "$out\n",
       "[1] 104\n"
      ]
     },
     "metadata": {},
     "output_type": "display_data"
    }
   ],
   "source": [
    "boxplot.stats(x)"
   ]
  },
  {
   "cell_type": "code",
   "execution_count": 138,
   "id": "4ffad77f",
   "metadata": {},
   "outputs": [],
   "source": [
    "place = c(59, 59, 60, 63, 61, 60, 57, 55, 57, 56, 57, 60, 62, 62, 62, 59, 58, 57, 57, 61, 57, 57, 56, 63, 55, 56, 59, 62, 56, 63, 55, 63, 55, 60, 60, 62, 60, 55, 55, 60, 60, 63, 55, 62, 56, 55, 59, 59, 55, 55, 59, 58, 61, 62, 59, 59, 63, 56, 57, 55, 55, 56, 56, 57, 63, 55, 60, 55, 61, 56, 60, 61, 59, 62, 55, 56, 63, 62, 57, 59, 56, 57, 60, 58, 63, 56, 62, 56, 59, 61, 59, 59, 57, 56, 60, 58, 62, 56, 61\n",
    "        )"
   ]
  },
  {
   "cell_type": "code",
   "execution_count": 139,
   "id": "99b89eaa",
   "metadata": {},
   "outputs": [
    {
     "data": {
      "text/html": [
       "<style>\n",
       ".list-inline {list-style: none; margin:0; padding: 0}\n",
       ".list-inline>li {display: inline-block}\n",
       ".list-inline>li:not(:last-child)::after {content: \"\\00b7\"; padding: 0 .5ex}\n",
       "</style>\n",
       "<ol class=list-inline><li>59</li><li>59</li><li>60</li><li>63</li><li>61</li><li>60</li><li>57</li><li>55</li><li>57</li><li>56</li><li>57</li><li>60</li><li>62</li><li>62</li><li>62</li><li>59</li><li>58</li><li>57</li><li>57</li><li>61</li><li>57</li><li>57</li><li>56</li><li>63</li><li>55</li><li>56</li><li>59</li><li>62</li><li>56</li><li>63</li><li>55</li><li>63</li><li>55</li><li>60</li><li>60</li><li>62</li><li>60</li><li>55</li><li>55</li><li>60</li><li>60</li><li>63</li><li>55</li><li>62</li><li>56</li><li>55</li><li>59</li><li>59</li><li>55</li><li>55</li><li>59</li><li>58</li><li>61</li><li>62</li><li>59</li><li>59</li><li>63</li><li>56</li><li>57</li><li>55</li><li>55</li><li>56</li><li>56</li><li>57</li><li>63</li><li>55</li><li>60</li><li>55</li><li>61</li><li>56</li><li>60</li><li>61</li><li>59</li><li>62</li><li>55</li><li>56</li><li>63</li><li>62</li><li>57</li><li>59</li><li>56</li><li>57</li><li>60</li><li>58</li><li>63</li><li>56</li><li>62</li><li>56</li><li>59</li><li>61</li><li>59</li><li>59</li><li>57</li><li>56</li><li>60</li><li>58</li><li>62</li><li>56</li><li>61</li></ol>\n"
      ],
      "text/latex": [
       "\\begin{enumerate*}\n",
       "\\item 59\n",
       "\\item 59\n",
       "\\item 60\n",
       "\\item 63\n",
       "\\item 61\n",
       "\\item 60\n",
       "\\item 57\n",
       "\\item 55\n",
       "\\item 57\n",
       "\\item 56\n",
       "\\item 57\n",
       "\\item 60\n",
       "\\item 62\n",
       "\\item 62\n",
       "\\item 62\n",
       "\\item 59\n",
       "\\item 58\n",
       "\\item 57\n",
       "\\item 57\n",
       "\\item 61\n",
       "\\item 57\n",
       "\\item 57\n",
       "\\item 56\n",
       "\\item 63\n",
       "\\item 55\n",
       "\\item 56\n",
       "\\item 59\n",
       "\\item 62\n",
       "\\item 56\n",
       "\\item 63\n",
       "\\item 55\n",
       "\\item 63\n",
       "\\item 55\n",
       "\\item 60\n",
       "\\item 60\n",
       "\\item 62\n",
       "\\item 60\n",
       "\\item 55\n",
       "\\item 55\n",
       "\\item 60\n",
       "\\item 60\n",
       "\\item 63\n",
       "\\item 55\n",
       "\\item 62\n",
       "\\item 56\n",
       "\\item 55\n",
       "\\item 59\n",
       "\\item 59\n",
       "\\item 55\n",
       "\\item 55\n",
       "\\item 59\n",
       "\\item 58\n",
       "\\item 61\n",
       "\\item 62\n",
       "\\item 59\n",
       "\\item 59\n",
       "\\item 63\n",
       "\\item 56\n",
       "\\item 57\n",
       "\\item 55\n",
       "\\item 55\n",
       "\\item 56\n",
       "\\item 56\n",
       "\\item 57\n",
       "\\item 63\n",
       "\\item 55\n",
       "\\item 60\n",
       "\\item 55\n",
       "\\item 61\n",
       "\\item 56\n",
       "\\item 60\n",
       "\\item 61\n",
       "\\item 59\n",
       "\\item 62\n",
       "\\item 55\n",
       "\\item 56\n",
       "\\item 63\n",
       "\\item 62\n",
       "\\item 57\n",
       "\\item 59\n",
       "\\item 56\n",
       "\\item 57\n",
       "\\item 60\n",
       "\\item 58\n",
       "\\item 63\n",
       "\\item 56\n",
       "\\item 62\n",
       "\\item 56\n",
       "\\item 59\n",
       "\\item 61\n",
       "\\item 59\n",
       "\\item 59\n",
       "\\item 57\n",
       "\\item 56\n",
       "\\item 60\n",
       "\\item 58\n",
       "\\item 62\n",
       "\\item 56\n",
       "\\item 61\n",
       "\\end{enumerate*}\n"
      ],
      "text/markdown": [
       "1. 59\n",
       "2. 59\n",
       "3. 60\n",
       "4. 63\n",
       "5. 61\n",
       "6. 60\n",
       "7. 57\n",
       "8. 55\n",
       "9. 57\n",
       "10. 56\n",
       "11. 57\n",
       "12. 60\n",
       "13. 62\n",
       "14. 62\n",
       "15. 62\n",
       "16. 59\n",
       "17. 58\n",
       "18. 57\n",
       "19. 57\n",
       "20. 61\n",
       "21. 57\n",
       "22. 57\n",
       "23. 56\n",
       "24. 63\n",
       "25. 55\n",
       "26. 56\n",
       "27. 59\n",
       "28. 62\n",
       "29. 56\n",
       "30. 63\n",
       "31. 55\n",
       "32. 63\n",
       "33. 55\n",
       "34. 60\n",
       "35. 60\n",
       "36. 62\n",
       "37. 60\n",
       "38. 55\n",
       "39. 55\n",
       "40. 60\n",
       "41. 60\n",
       "42. 63\n",
       "43. 55\n",
       "44. 62\n",
       "45. 56\n",
       "46. 55\n",
       "47. 59\n",
       "48. 59\n",
       "49. 55\n",
       "50. 55\n",
       "51. 59\n",
       "52. 58\n",
       "53. 61\n",
       "54. 62\n",
       "55. 59\n",
       "56. 59\n",
       "57. 63\n",
       "58. 56\n",
       "59. 57\n",
       "60. 55\n",
       "61. 55\n",
       "62. 56\n",
       "63. 56\n",
       "64. 57\n",
       "65. 63\n",
       "66. 55\n",
       "67. 60\n",
       "68. 55\n",
       "69. 61\n",
       "70. 56\n",
       "71. 60\n",
       "72. 61\n",
       "73. 59\n",
       "74. 62\n",
       "75. 55\n",
       "76. 56\n",
       "77. 63\n",
       "78. 62\n",
       "79. 57\n",
       "80. 59\n",
       "81. 56\n",
       "82. 57\n",
       "83. 60\n",
       "84. 58\n",
       "85. 63\n",
       "86. 56\n",
       "87. 62\n",
       "88. 56\n",
       "89. 59\n",
       "90. 61\n",
       "91. 59\n",
       "92. 59\n",
       "93. 57\n",
       "94. 56\n",
       "95. 60\n",
       "96. 58\n",
       "97. 62\n",
       "98. 56\n",
       "99. 61\n",
       "\n",
       "\n"
      ],
      "text/plain": [
       " [1] 59 59 60 63 61 60 57 55 57 56 57 60 62 62 62 59 58 57 57 61 57 57 56 63 55\n",
       "[26] 56 59 62 56 63 55 63 55 60 60 62 60 55 55 60 60 63 55 62 56 55 59 59 55 55\n",
       "[51] 59 58 61 62 59 59 63 56 57 55 55 56 56 57 63 55 60 55 61 56 60 61 59 62 55\n",
       "[76] 56 63 62 57 59 56 57 60 58 63 56 62 56 59 61 59 59 57 56 60 58 62 56 61"
      ]
     },
     "metadata": {},
     "output_type": "display_data"
    }
   ],
   "source": [
    "place"
   ]
  },
  {
   "cell_type": "code",
   "execution_count": 140,
   "id": "f9609858",
   "metadata": {},
   "outputs": [
    {
     "data": {
      "text/html": [
       "58.6161616161616"
      ],
      "text/latex": [
       "58.6161616161616"
      ],
      "text/markdown": [
       "58.6161616161616"
      ],
      "text/plain": [
       "[1] 58.61616"
      ]
     },
     "metadata": {},
     "output_type": "display_data"
    }
   ],
   "source": [
    "mean(place)"
   ]
  },
  {
   "cell_type": "code",
   "execution_count": 141,
   "id": "5c0293ba",
   "metadata": {},
   "outputs": [
    {
     "data": {
      "text/html": [
       "7.09606266749124"
      ],
      "text/latex": [
       "7.09606266749124"
      ],
      "text/markdown": [
       "7.09606266749124"
      ],
      "text/plain": [
       "[1] 7.096063"
      ]
     },
     "metadata": {},
     "output_type": "display_data"
    }
   ],
   "source": [
    "var(place)"
   ]
  },
  {
   "cell_type": "code",
   "execution_count": 142,
   "id": "ae8bd5c5",
   "metadata": {},
   "outputs": [
    {
     "data": {
      "text/html": [
       "2.6638435891567"
      ],
      "text/latex": [
       "2.6638435891567"
      ],
      "text/markdown": [
       "2.6638435891567"
      ],
      "text/plain": [
       "[1] 2.663844"
      ]
     },
     "metadata": {},
     "output_type": "display_data"
    }
   ],
   "source": [
    "sd(place)"
   ]
  },
  {
   "cell_type": "code",
   "execution_count": 143,
   "id": "14997165",
   "metadata": {},
   "outputs": [
    {
     "data": {
      "text/html": [
       "<style>\n",
       ".dl-inline {width: auto; margin:0; padding: 0}\n",
       ".dl-inline>dt, .dl-inline>dd {float: none; width: auto; display: inline-block}\n",
       ".dl-inline>dt::after {content: \":\\0020\"; padding-right: .5ex}\n",
       ".dl-inline>dt:not(:first-of-type) {padding-left: .5ex}\n",
       "</style><dl class=dl-inline><dt>0%</dt><dd>55</dd><dt>25%</dt><dd>56</dd><dt>50%</dt><dd>59</dd><dt>75%</dt><dd>61</dd><dt>100%</dt><dd>63</dd></dl>\n"
      ],
      "text/latex": [
       "\\begin{description*}\n",
       "\\item[0\\textbackslash{}\\%] 55\n",
       "\\item[25\\textbackslash{}\\%] 56\n",
       "\\item[50\\textbackslash{}\\%] 59\n",
       "\\item[75\\textbackslash{}\\%] 61\n",
       "\\item[100\\textbackslash{}\\%] 63\n",
       "\\end{description*}\n"
      ],
      "text/markdown": [
       "0%\n",
       ":   5525%\n",
       ":   5650%\n",
       ":   5975%\n",
       ":   61100%\n",
       ":   63\n",
       "\n"
      ],
      "text/plain": [
       "  0%  25%  50%  75% 100% \n",
       "  55   56   59   61   63 "
      ]
     },
     "metadata": {},
     "output_type": "display_data"
    }
   ],
   "source": [
    "quantile(place)"
   ]
  },
  {
   "cell_type": "code",
   "execution_count": 144,
   "id": "46fbdc59",
   "metadata": {},
   "outputs": [
    {
     "data": {
      "image/png": "[encoded data removed]",
      "text/plain": [
       "plot without title"
      ]
     },
     "metadata": {
      "image/png": {
       "height": 420,
       "width": 420
      }
     },
     "output_type": "display_data"
    }
   ],
   "source": [
    "boxplot(place, horizontal = T)"
   ]
  },
  {
   "cell_type": "code",
   "execution_count": 148,
   "id": "7c90118d",
   "metadata": {},
   "outputs": [],
   "source": [
    "vec = c(45, 43,41, 39, 39, 35, 37, 40, 39, 36, 37)"
   ]
  },
  {
   "cell_type": "code",
   "execution_count": 149,
   "id": "8479bcd1",
   "metadata": {},
   "outputs": [
    {
     "data": {
      "text/html": [
       "8.96363636363636"
      ],
      "text/latex": [
       "8.96363636363636"
      ],
      "text/markdown": [
       "8.96363636363636"
      ],
      "text/plain": [
       "[1] 8.963636"
      ]
     },
     "metadata": {},
     "output_type": "display_data"
    }
   ],
   "source": [
    "var(vec)"
   ]
  },
  {
   "cell_type": "code",
   "execution_count": 150,
   "id": "e8a23f84",
   "metadata": {},
   "outputs": [
    {
     "data": {
      "text/html": [
       "10.4555555555556"
      ],
      "text/latex": [
       "10.4555555555556"
      ],
      "text/markdown": [
       "10.4555555555556"
      ],
      "text/plain": [
       "[1] 10.45556"
      ]
     },
     "metadata": {},
     "output_type": "display_data"
    }
   ],
   "source": [
    "var(c(45, 43, 42, 39, 35, 37, 40, 39, 36, 37))"
   ]
  },
  {
   "cell_type": "code",
   "execution_count": 151,
   "id": "198fc74c",
   "metadata": {},
   "outputs": [
    {
     "data": {
      "text/html": [
       "14.2857142857143"
      ],
      "text/latex": [
       "14.2857142857143"
      ],
      "text/markdown": [
       "14.2857142857143"
      ],
      "text/plain": [
       "[1] 14.28571"
      ]
     },
     "metadata": {},
     "output_type": "display_data"
    }
   ],
   "source": [
    "code = c(7, 10, 8, 3, 15, 12, 6, 11)\n",
    "var(code)"
   ]
  },
  {
   "cell_type": "code",
   "execution_count": 152,
   "id": "1eba2850",
   "metadata": {},
   "outputs": [
    {
     "data": {
      "text/html": [
       "<style>\n",
       ".list-inline {list-style: none; margin:0; padding: 0}\n",
       ".list-inline>li {display: inline-block}\n",
       ".list-inline>li:not(:last-child)::after {content: \"\\00b7\"; padding: 0 .5ex}\n",
       "</style>\n",
       "<ol class=list-inline><li>3</li><li>15</li></ol>\n"
      ],
      "text/latex": [
       "\\begin{enumerate*}\n",
       "\\item 3\n",
       "\\item 15\n",
       "\\end{enumerate*}\n"
      ],
      "text/markdown": [
       "1. 3\n",
       "2. 15\n",
       "\n",
       "\n"
      ],
      "text/plain": [
       "[1]  3 15"
      ]
     },
     "metadata": {},
     "output_type": "display_data"
    }
   ],
   "source": [
    "range(code)"
   ]
  },
  {
   "cell_type": "code",
   "execution_count": 153,
   "id": "3584270c",
   "metadata": {},
   "outputs": [
    {
     "data": {
      "text/html": [
       "3.77964473009227"
      ],
      "text/latex": [
       "3.77964473009227"
      ],
      "text/markdown": [
       "3.77964473009227"
      ],
      "text/plain": [
       "[1] 3.779645"
      ]
     },
     "metadata": {},
     "output_type": "display_data"
    }
   ],
   "source": [
    "sd(code)"
   ]
  },
  {
   "cell_type": "code",
   "execution_count": 154,
   "id": "a5d9b36a",
   "metadata": {},
   "outputs": [
    {
     "data": {
      "text/html": [
       "25"
      ],
      "text/latex": [
       "25"
      ],
      "text/markdown": [
       "25"
      ],
      "text/plain": [
       "[1] 25"
      ]
     },
     "metadata": {},
     "output_type": "display_data"
    }
   ],
   "source": [
    "ive = c(4, 1, 0, 0, 2, 2, 2, 2, 2, 1, 2, 3, 1, 2, 2, 3, 1, 2, 1, 2, 1, 4, 4, 3, 3)\n",
    "length(ive)"
   ]
  },
  {
   "cell_type": "code",
   "execution_count": 155,
   "id": "00a893bc",
   "metadata": {},
   "outputs": [
    {
     "data": {
      "text/plain": [
       "ive\n",
       " 0  1  2  3  4 \n",
       " 2  6 10  4  3 "
      ]
     },
     "metadata": {},
     "output_type": "display_data"
    }
   ],
   "source": [
    "table(ive)"
   ]
  },
  {
   "cell_type": "code",
   "execution_count": 156,
   "id": "481dbf76",
   "metadata": {},
   "outputs": [
    {
     "data": {
      "image/png": "[encoded data removed]",
      "text/plain": [
       "plot without title"
      ]
     },
     "metadata": {
      "image/png": {
       "height": 420,
       "width": 420
      }
     },
     "output_type": "display_data"
    }
   ],
   "source": [
    "barplot(table(ive))"
   ]
  },
  {
   "cell_type": "code",
   "execution_count": 159,
   "id": "e78e8475",
   "metadata": {},
   "outputs": [],
   "source": [
    "prop = prop.table(table(ive))"
   ]
  },
  {
   "cell_type": "code",
   "execution_count": 160,
   "id": "4460f3ff",
   "metadata": {},
   "outputs": [
    {
     "data": {
      "text/plain": [
       "ive\n",
       "   0    1    2    3    4 \n",
       "0.08 0.24 0.40 0.16 0.12 "
      ]
     },
     "metadata": {},
     "output_type": "display_data"
    }
   ],
   "source": [
    "prop"
   ]
  },
  {
   "cell_type": "code",
   "execution_count": 162,
   "id": "274deb60",
   "metadata": {},
   "outputs": [],
   "source": [
    "sum_prob = cumsum(prop)"
   ]
  },
  {
   "cell_type": "code",
   "execution_count": 164,
   "id": "468abc2f",
   "metadata": {},
   "outputs": [
    {
     "data": {
      "text/html": [
       "<style>\n",
       ".dl-inline {width: auto; margin:0; padding: 0}\n",
       ".dl-inline>dt, .dl-inline>dd {float: none; width: auto; display: inline-block}\n",
       ".dl-inline>dt::after {content: \":\\0020\"; padding-right: .5ex}\n",
       ".dl-inline>dt:not(:first-of-type) {padding-left: .5ex}\n",
       "</style><dl class=dl-inline><dt>0</dt><dd>0.08</dd><dt>1</dt><dd>0.32</dd><dt>2</dt><dd>0.72</dd><dt>3</dt><dd>0.88</dd><dt>4</dt><dd>1</dd></dl>\n"
      ],
      "text/latex": [
       "\\begin{description*}\n",
       "\\item[0] 0.08\n",
       "\\item[1] 0.32\n",
       "\\item[2] 0.72\n",
       "\\item[3] 0.88\n",
       "\\item[4] 1\n",
       "\\end{description*}\n"
      ],
      "text/markdown": [
       "0\n",
       ":   0.081\n",
       ":   0.322\n",
       ":   0.723\n",
       ":   0.884\n",
       ":   1\n",
       "\n"
      ],
      "text/plain": [
       "   0    1    2    3    4 \n",
       "0.08 0.32 0.72 0.88 1.00 "
      ]
     },
     "metadata": {},
     "output_type": "display_data"
    }
   ],
   "source": [
    "sum_prob"
   ]
  },
  {
   "cell_type": "code",
   "execution_count": 167,
   "id": "ce0e4049",
   "metadata": {},
   "outputs": [
    {
     "name": "stderr",
     "output_type": "stream",
     "text": [
      "Warning message in cbind(freq, prop, sum_prob):\n",
      "\"number of rows of result is not a multiple of vector length (arg 2)\"\n"
     ]
    }
   ],
   "source": [
    "freq.table = cbind(freq, prop, sum_prob)"
   ]
  },
  {
   "cell_type": "code",
   "execution_count": 168,
   "id": "63a954d0",
   "metadata": {},
   "outputs": [
    {
     "data": {
      "text/html": [
       "<table class=\"dataframe\">\n",
       "<caption>A matrix: 7 × 3 of type dbl</caption>\n",
       "<thead>\n",
       "\t<tr><th></th><th scope=col>freq</th><th scope=col>prop</th><th scope=col>sum_prob</th></tr>\n",
       "</thead>\n",
       "<tbody>\n",
       "\t<tr><th scope=row>[150,155)</th><td>12</td><td>0.08</td><td>0.08</td></tr>\n",
       "\t<tr><th scope=row>[155,160)</th><td>16</td><td>0.24</td><td>0.32</td></tr>\n",
       "\t<tr><th scope=row>[160,165)</th><td>14</td><td>0.40</td><td>0.72</td></tr>\n",
       "\t<tr><th scope=row>[165,170)</th><td>13</td><td>0.16</td><td>0.88</td></tr>\n",
       "\t<tr><th scope=row>[170,175)</th><td>20</td><td>0.12</td><td>1.00</td></tr>\n",
       "\t<tr><th scope=row>[175,180)</th><td> 9</td><td>0.08</td><td>0.08</td></tr>\n",
       "\t<tr><th scope=row>[180,185)</th><td>14</td><td>0.24</td><td>0.32</td></tr>\n",
       "</tbody>\n",
       "</table>\n"
      ],
      "text/latex": [
       "A matrix: 7 × 3 of type dbl\n",
       "\\begin{tabular}{r|lll}\n",
       "  & freq & prop & sum\\_prob\\\\\n",
       "\\hline\n",
       "\t{[}150,155) & 12 & 0.08 & 0.08\\\\\n",
       "\t{[}155,160) & 16 & 0.24 & 0.32\\\\\n",
       "\t{[}160,165) & 14 & 0.40 & 0.72\\\\\n",
       "\t{[}165,170) & 13 & 0.16 & 0.88\\\\\n",
       "\t{[}170,175) & 20 & 0.12 & 1.00\\\\\n",
       "\t{[}175,180) &  9 & 0.08 & 0.08\\\\\n",
       "\t{[}180,185) & 14 & 0.24 & 0.32\\\\\n",
       "\\end{tabular}\n"
      ],
      "text/markdown": [
       "\n",
       "A matrix: 7 × 3 of type dbl\n",
       "\n",
       "| <!--/--> | freq | prop | sum_prob |\n",
       "|---|---|---|---|\n",
       "| [150,155) | 12 | 0.08 | 0.08 |\n",
       "| [155,160) | 16 | 0.24 | 0.32 |\n",
       "| [160,165) | 14 | 0.40 | 0.72 |\n",
       "| [165,170) | 13 | 0.16 | 0.88 |\n",
       "| [170,175) | 20 | 0.12 | 1.00 |\n",
       "| [175,180) |  9 | 0.08 | 0.08 |\n",
       "| [180,185) | 14 | 0.24 | 0.32 |\n",
       "\n"
      ],
      "text/plain": [
       "          freq prop sum_prob\n",
       "[150,155) 12   0.08 0.08    \n",
       "[155,160) 16   0.24 0.32    \n",
       "[160,165) 14   0.40 0.72    \n",
       "[165,170) 13   0.16 0.88    \n",
       "[170,175) 20   0.12 1.00    \n",
       "[175,180)  9   0.08 0.08    \n",
       "[180,185) 14   0.24 0.32    "
      ]
     },
     "metadata": {},
     "output_type": "display_data"
    }
   ],
   "source": [
    "freq.table"
   ]
  },
  {
   "cell_type": "code",
   "execution_count": 169,
   "id": "656bc233",
   "metadata": {},
   "outputs": [],
   "source": [
    "x = ive"
   ]
  },
  {
   "cell_type": "code",
   "execution_count": 170,
   "id": "90fe49b2",
   "metadata": {},
   "outputs": [
    {
     "data": {
      "text/html": [
       "<style>\n",
       ".list-inline {list-style: none; margin:0; padding: 0}\n",
       ".list-inline>li {display: inline-block}\n",
       ".list-inline>li:not(:last-child)::after {content: \"\\00b7\"; padding: 0 .5ex}\n",
       "</style>\n",
       "<ol class=list-inline><li>4</li><li>1</li><li>0</li><li>0</li><li>2</li><li>2</li><li>2</li><li>2</li><li>2</li><li>1</li><li>2</li><li>3</li><li>1</li><li>2</li><li>2</li><li>3</li><li>1</li><li>2</li><li>1</li><li>2</li><li>1</li><li>4</li><li>4</li><li>3</li><li>3</li></ol>\n"
      ],
      "text/latex": [
       "\\begin{enumerate*}\n",
       "\\item 4\n",
       "\\item 1\n",
       "\\item 0\n",
       "\\item 0\n",
       "\\item 2\n",
       "\\item 2\n",
       "\\item 2\n",
       "\\item 2\n",
       "\\item 2\n",
       "\\item 1\n",
       "\\item 2\n",
       "\\item 3\n",
       "\\item 1\n",
       "\\item 2\n",
       "\\item 2\n",
       "\\item 3\n",
       "\\item 1\n",
       "\\item 2\n",
       "\\item 1\n",
       "\\item 2\n",
       "\\item 1\n",
       "\\item 4\n",
       "\\item 4\n",
       "\\item 3\n",
       "\\item 3\n",
       "\\end{enumerate*}\n"
      ],
      "text/markdown": [
       "1. 4\n",
       "2. 1\n",
       "3. 0\n",
       "4. 0\n",
       "5. 2\n",
       "6. 2\n",
       "7. 2\n",
       "8. 2\n",
       "9. 2\n",
       "10. 1\n",
       "11. 2\n",
       "12. 3\n",
       "13. 1\n",
       "14. 2\n",
       "15. 2\n",
       "16. 3\n",
       "17. 1\n",
       "18. 2\n",
       "19. 1\n",
       "20. 2\n",
       "21. 1\n",
       "22. 4\n",
       "23. 4\n",
       "24. 3\n",
       "25. 3\n",
       "\n",
       "\n"
      ],
      "text/plain": [
       " [1] 4 1 0 0 2 2 2 2 2 1 2 3 1 2 2 3 1 2 1 2 1 4 4 3 3"
      ]
     },
     "metadata": {},
     "output_type": "display_data"
    }
   ],
   "source": [
    "x"
   ]
  },
  {
   "cell_type": "code",
   "execution_count": 171,
   "id": "1bb9d3ed",
   "metadata": {},
   "outputs": [],
   "source": [
    "freq = table(x)"
   ]
  },
  {
   "cell_type": "code",
   "execution_count": 172,
   "id": "c3cf965a",
   "metadata": {},
   "outputs": [
    {
     "data": {
      "text/plain": [
       "x\n",
       " 0  1  2  3  4 \n",
       " 2  6 10  4  3 "
      ]
     },
     "metadata": {},
     "output_type": "display_data"
    }
   ],
   "source": [
    "freq"
   ]
  },
  {
   "cell_type": "code",
   "execution_count": 173,
   "id": "de543fb6",
   "metadata": {},
   "outputs": [
    {
     "data": {
      "text/plain": [
       "x\n",
       "   0    1    2    3    4 \n",
       "0.08 0.24 0.40 0.16 0.12 "
      ]
     },
     "metadata": {},
     "output_type": "display_data"
    }
   ],
   "source": [
    "prob = prop.table(freq)\n",
    "prob"
   ]
  },
  {
   "cell_type": "code",
   "execution_count": 174,
   "id": "d31ed7b6",
   "metadata": {},
   "outputs": [],
   "source": [
    "sum_prob = cumsum(prob)"
   ]
  },
  {
   "cell_type": "code",
   "execution_count": 175,
   "id": "39a069fb",
   "metadata": {},
   "outputs": [
    {
     "data": {
      "text/html": [
       "<style>\n",
       ".dl-inline {width: auto; margin:0; padding: 0}\n",
       ".dl-inline>dt, .dl-inline>dd {float: none; width: auto; display: inline-block}\n",
       ".dl-inline>dt::after {content: \":\\0020\"; padding-right: .5ex}\n",
       ".dl-inline>dt:not(:first-of-type) {padding-left: .5ex}\n",
       "</style><dl class=dl-inline><dt>0</dt><dd>0.08</dd><dt>1</dt><dd>0.32</dd><dt>2</dt><dd>0.72</dd><dt>3</dt><dd>0.88</dd><dt>4</dt><dd>1</dd></dl>\n"
      ],
      "text/latex": [
       "\\begin{description*}\n",
       "\\item[0] 0.08\n",
       "\\item[1] 0.32\n",
       "\\item[2] 0.72\n",
       "\\item[3] 0.88\n",
       "\\item[4] 1\n",
       "\\end{description*}\n"
      ],
      "text/markdown": [
       "0\n",
       ":   0.081\n",
       ":   0.322\n",
       ":   0.723\n",
       ":   0.884\n",
       ":   1\n",
       "\n"
      ],
      "text/plain": [
       "   0    1    2    3    4 \n",
       "0.08 0.32 0.72 0.88 1.00 "
      ]
     },
     "metadata": {},
     "output_type": "display_data"
    }
   ],
   "source": [
    "sum_prob"
   ]
  },
  {
   "cell_type": "code",
   "execution_count": 176,
   "id": "1abbe4a6",
   "metadata": {},
   "outputs": [],
   "source": [
    "freq.table = cbind(freq, prob, sum_prob)"
   ]
  },
  {
   "cell_type": "code",
   "execution_count": 177,
   "id": "eb3189e3",
   "metadata": {},
   "outputs": [
    {
     "data": {
      "text/html": [
       "<table class=\"dataframe\">\n",
       "<caption>A matrix: 5 × 3 of type dbl</caption>\n",
       "<thead>\n",
       "\t<tr><th></th><th scope=col>freq</th><th scope=col>prob</th><th scope=col>sum_prob</th></tr>\n",
       "</thead>\n",
       "<tbody>\n",
       "\t<tr><th scope=row>0</th><td> 2</td><td>0.08</td><td>0.08</td></tr>\n",
       "\t<tr><th scope=row>1</th><td> 6</td><td>0.24</td><td>0.32</td></tr>\n",
       "\t<tr><th scope=row>2</th><td>10</td><td>0.40</td><td>0.72</td></tr>\n",
       "\t<tr><th scope=row>3</th><td> 4</td><td>0.16</td><td>0.88</td></tr>\n",
       "\t<tr><th scope=row>4</th><td> 3</td><td>0.12</td><td>1.00</td></tr>\n",
       "</tbody>\n",
       "</table>\n"
      ],
      "text/latex": [
       "A matrix: 5 × 3 of type dbl\n",
       "\\begin{tabular}{r|lll}\n",
       "  & freq & prob & sum\\_prob\\\\\n",
       "\\hline\n",
       "\t0 &  2 & 0.08 & 0.08\\\\\n",
       "\t1 &  6 & 0.24 & 0.32\\\\\n",
       "\t2 & 10 & 0.40 & 0.72\\\\\n",
       "\t3 &  4 & 0.16 & 0.88\\\\\n",
       "\t4 &  3 & 0.12 & 1.00\\\\\n",
       "\\end{tabular}\n"
      ],
      "text/markdown": [
       "\n",
       "A matrix: 5 × 3 of type dbl\n",
       "\n",
       "| <!--/--> | freq | prob | sum_prob |\n",
       "|---|---|---|---|\n",
       "| 0 |  2 | 0.08 | 0.08 |\n",
       "| 1 |  6 | 0.24 | 0.32 |\n",
       "| 2 | 10 | 0.40 | 0.72 |\n",
       "| 3 |  4 | 0.16 | 0.88 |\n",
       "| 4 |  3 | 0.12 | 1.00 |\n",
       "\n"
      ],
      "text/plain": [
       "  freq prob sum_prob\n",
       "0  2   0.08 0.08    \n",
       "1  6   0.24 0.32    \n",
       "2 10   0.40 0.72    \n",
       "3  4   0.16 0.88    \n",
       "4  3   0.12 1.00    "
      ]
     },
     "metadata": {},
     "output_type": "display_data"
    }
   ],
   "source": [
    "freq.table"
   ]
  },
  {
   "cell_type": "code",
   "execution_count": 179,
   "id": "e04fbd9e",
   "metadata": {},
   "outputs": [
    {
     "data": {
      "image/png": "[encoded data removed]",
      "text/plain": [
       "Plot with title \"boxplot\""
      ]
     },
     "metadata": {
      "image/png": {
       "height": 420,
       "width": 420
      }
     },
     "output_type": "display_data"
    }
   ],
   "source": [
    "barplot(freq, main ='boxplot', xlab = 'Num of Head', ylab = 'Freq')"
   ]
  },
  {
   "cell_type": "code",
   "execution_count": 180,
   "id": "50cc9f42",
   "metadata": {},
   "outputs": [
    {
     "data": {
      "image/png": "[encoded data removed]",
      "text/plain": [
       "Plot with title \"barplot\""
      ]
     },
     "metadata": {
      "image/png": {
       "height": 420,
       "width": 420
      }
     },
     "output_type": "display_data"
    }
   ],
   "source": [
    "barplot(prop, main = 'barplot', xlab = 'Number of Head', ylab = 'Prob')"
   ]
  },
  {
   "cell_type": "code",
   "execution_count": null,
   "id": "23684765",
   "metadata": {},
   "outputs": [],
   "source": [
    "level = c('중졸','고졸','대졸','고졸','대졸',\n",
    "         '고졸','중졸','대졸','고졸','대졸',\n",
    "         '고졸','중졸','고졸','중졸','고졸',\n",
    "         '대졸','대졸','중졸','대졸','고졸',\n",
    "         '고졸','중졸','고졸','중졸')\n",
    "pay = c('A','B','C','C','B','B','A','C','B','B',\n",
    "       'C','A','B','B','A', 'C','C','A','C','B','C','A','B','A')"
   ]
  }
 ],
 "metadata": {
  "kernelspec": {
   "display_name": "R",
   "language": "R",
   "name": "ir"
  },
  "language_info": {
   "codemirror_mode": "r",
   "file_extension": ".r",
   "mimetype": "text/x-r-source",
   "name": "R",
   "pygments_lexer": "r",
   "version": "4.3.1"
  }
 },
 "nbformat": 4,
 "nbformat_minor": 5
}
