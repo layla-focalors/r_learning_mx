{
 "cells": [
  {
   "cell_type": "code",
   "execution_count": 1,
   "id": "97d2da0e",
   "metadata": {},
   "outputs": [],
   "source": [
    "import random\n",
    "import clipboard\n",
    "\n",
    "data = [\n",
    "]\n",
    "\n",
    "for i in range(1, 100):\n",
    "    data.append(random.randint(150, 185))\n",
    "\n",
    "clipboard.copy(str(data).replace('[', '').replace(']', ''))"
   ]
  },
  {
   "cell_type": "code",
   "execution_count": 2,
   "id": "4aa2968b",
   "metadata": {},
   "outputs": [
    {
     "name": "stdout",
     "output_type": "stream",
     "text": [
      "[59, 59, 60, 63, 61, 60, 57, 55, 57, 56, 57, 60, 62, 62, 62, 59, 58, 57, 57, 61, 57, 57, 56, 63, 55, 56, 59, 62, 56, 63, 55, 63, 55, 60, 60, 62, 60, 55, 55, 60, 60, 63, 55, 62, 56, 55, 59, 59, 55, 55, 59, 58, 61, 62, 59, 59, 63, 56, 57, 55, 55, 56, 56, 57, 63, 55, 60, 55, 61, 56, 60, 61, 59, 62, 55, 56, 63, 62, 57, 59, 56, 57, 60, 58, 63, 56, 62, 56, 59, 61, 59, 59, 57, 56, 60, 58, 62, 56, 61]\n"
     ]
    }
   ],
   "source": [
    "import random\n",
    "import clipboard\n",
    "\n",
    "data = [\n",
    "]\n",
    "\n",
    "for i in range(1, 100):\n",
    "    data.append(random.randint(55, 63))\n",
    "\n",
    "clipboard.copy(str(data).replace('[', '').replace(']', ''))\n",
    "print(data)"
   ]
  }
 ],
 "metadata": {
  "kernelspec": {
   "display_name": "Python 3 (ipykernel)",
   "language": "python",
   "name": "python3"
  },
  "language_info": {
   "codemirror_mode": {
    "name": "ipython",
    "version": 3
   },
   "file_extension": ".py",
   "mimetype": "text/x-python",
   "name": "python",
   "nbconvert_exporter": "python",
   "pygments_lexer": "ipython3",
   "version": "3.11.4"
  }
 },
 "nbformat": 4,
 "nbformat_minor": 5
}
