{
 "cells": [
  {
   "cell_type": "code",
   "execution_count": 1,
   "id": "349761ce",
   "metadata": {},
   "outputs": [],
   "source": [
    "age = c(8, 3, 6, 9, 2, 5, 6, 3)"
   ]
  },
  {
   "cell_type": "code",
   "execution_count": 2,
   "id": "291f34d8",
   "metadata": {},
   "outputs": [
    {
     "data": {
      "text/html": [
       "<style>\n",
       ".list-inline {list-style: none; margin:0; padding: 0}\n",
       ".list-inline>li {display: inline-block}\n",
       ".list-inline>li:not(:last-child)::after {content: \"\\00b7\"; padding: 0 .5ex}\n",
       "</style>\n",
       "<ol class=list-inline><li>8</li><li>3</li><li>6</li><li>9</li><li>2</li><li>5</li><li>6</li><li>3</li></ol>\n"
      ],
      "text/latex": [
       "\\begin{enumerate*}\n",
       "\\item 8\n",
       "\\item 3\n",
       "\\item 6\n",
       "\\item 9\n",
       "\\item 2\n",
       "\\item 5\n",
       "\\item 6\n",
       "\\item 3\n",
       "\\end{enumerate*}\n"
      ],
      "text/markdown": [
       "1. 8\n",
       "2. 3\n",
       "3. 6\n",
       "4. 9\n",
       "5. 2\n",
       "6. 5\n",
       "7. 6\n",
       "8. 3\n",
       "\n",
       "\n"
      ],
      "text/plain": [
       "[1] 8 3 6 9 2 5 6 3"
      ]
     },
     "metadata": {},
     "output_type": "display_data"
    }
   ],
   "source": [
    "age"
   ]
  },
  {
   "cell_type": "code",
   "execution_count": 3,
   "id": "b37b2e97",
   "metadata": {},
   "outputs": [],
   "source": [
    "price = c(18, 94, 50, 21, 145, 42, 36, 99)"
   ]
  },
  {
   "cell_type": "code",
   "execution_count": 4,
   "id": "edaa2ed7",
   "metadata": {},
   "outputs": [
    {
     "data": {
      "text/html": [
       "<style>\n",
       ".list-inline {list-style: none; margin:0; padding: 0}\n",
       ".list-inline>li {display: inline-block}\n",
       ".list-inline>li:not(:last-child)::after {content: \"\\00b7\"; padding: 0 .5ex}\n",
       "</style>\n",
       "<ol class=list-inline><li>18</li><li>94</li><li>50</li><li>21</li><li>145</li><li>42</li><li>36</li><li>99</li></ol>\n"
      ],
      "text/latex": [
       "\\begin{enumerate*}\n",
       "\\item 18\n",
       "\\item 94\n",
       "\\item 50\n",
       "\\item 21\n",
       "\\item 145\n",
       "\\item 42\n",
       "\\item 36\n",
       "\\item 99\n",
       "\\end{enumerate*}\n"
      ],
      "text/markdown": [
       "1. 18\n",
       "2. 94\n",
       "3. 50\n",
       "4. 21\n",
       "5. 145\n",
       "6. 42\n",
       "7. 36\n",
       "8. 99\n",
       "\n",
       "\n"
      ],
      "text/plain": [
       "[1]  18  94  50  21 145  42  36  99"
      ]
     },
     "metadata": {},
     "output_type": "display_data"
    }
   ],
   "source": [
    "price"
   ]
  },
  {
   "cell_type": "code",
   "execution_count": 6,
   "id": "c18983e1",
   "metadata": {},
   "outputs": [
    {
     "data": {
      "image/png": "[encoded data removed]",
      "text/plain": [
       "Plot with title \"Scatterplot for Price & age\""
      ]
     },
     "metadata": {
      "image/png": {
       "height": 420,
       "width": 420
      }
     },
     "output_type": "display_data"
    }
   ],
   "source": [
    "plot(age, price,\n",
    "    main='Scatterplot for Price & age')"
   ]
  },
  {
   "cell_type": "code",
   "execution_count": 8,
   "id": "13a963b3",
   "metadata": {},
   "outputs": [
    {
     "data": {
      "image/png": "[encoded data removed]",
      "text/plain": [
       "Plot with title \"Scatterplot for Price & age\""
      ]
     },
     "metadata": {
      "image/png": {
       "height": 420,
       "width": 420
      }
     },
     "output_type": "display_data"
    }
   ],
   "source": [
    "plot(age, price,\n",
    "    main='Scatterplot for Price & age',\n",
    "    type ='l')"
   ]
  },
  {
   "cell_type": "code",
   "execution_count": 10,
   "id": "bc959f90",
   "metadata": {},
   "outputs": [
    {
     "data": {
      "text/plain": [
       "\n",
       "Call:\n",
       "lm(formula = price ~ age)\n",
       "\n",
       "Coefficients:\n",
       "(Intercept)          age  \n",
       "     150.41       -16.63  \n"
      ]
     },
     "metadata": {},
     "output_type": "display_data"
    }
   ],
   "source": [
    "model = lm(price~age)\n",
    "model"
   ]
  },
  {
   "cell_type": "code",
   "execution_count": 11,
   "id": "4dfe2c4c",
   "metadata": {},
   "outputs": [
    {
     "data": {
      "text/plain": [
       "\n",
       "Call:\n",
       "lm(formula = price ~ age)\n",
       "\n",
       "Residuals:\n",
       "    Min      1Q  Median      3Q     Max \n",
       "-25.282  -8.565  -1.095   5.504  27.839 \n",
       "\n",
       "Coefficients:\n",
       "            Estimate Std. Error t value Pr(>|t|)    \n",
       "(Intercept)  150.414     16.232   9.267 8.93e-05 ***\n",
       "age          -16.626      2.826  -5.884  0.00107 ** \n",
       "---\n",
       "Signif. codes:  0 '***' 0.001 '**' 0.01 '*' 0.05 '.' 0.1 ' ' 1\n",
       "\n",
       "Residual standard error: 18.64 on 6 degrees of freedom\n",
       "Multiple R-squared:  0.8523,\tAdjusted R-squared:  0.8277 \n",
       "F-statistic: 34.62 on 1 and 6 DF,  p-value: 0.001068\n"
      ]
     },
     "metadata": {},
     "output_type": "display_data"
    }
   ],
   "source": [
    "summary(model)"
   ]
  },
  {
   "cell_type": "code",
   "execution_count": 13,
   "id": "a03bc2f9",
   "metadata": {},
   "outputs": [
    {
     "data": {
      "text/html": [
       "-0.923203879799409"
      ],
      "text/latex": [
       "-0.923203879799409"
      ],
      "text/markdown": [
       "-0.923203879799409"
      ],
      "text/plain": [
       "[1] -0.9232039"
      ]
     },
     "metadata": {},
     "output_type": "display_data"
    }
   ],
   "source": [
    "cor(age, price)"
   ]
  },
  {
   "cell_type": "code",
   "execution_count": 16,
   "id": "854b3b8c",
   "metadata": {},
   "outputs": [
    {
     "data": {
      "image/png": "[encoded data removed]",
      "text/plain": [
       "plot without title"
      ]
     },
     "metadata": {
      "image/png": {
       "height": 420,
       "width": 420
      }
     },
     "output_type": "display_data"
    }
   ],
   "source": [
    "plot(age, price)\n",
    "abline(model)\n",
    "# 종속변수는 무조건 뒤에 나와야 한다!\n",
    "# 독립변수를 먼저 표기한다!"
   ]
  },
  {
   "cell_type": "code",
   "execution_count": 18,
   "id": "61a077d1",
   "metadata": {},
   "outputs": [
    {
     "data": {
      "text/html": [
       "<strong>1:</strong> 34.0287356321839"
      ],
      "text/latex": [
       "\\textbf{1:} 34.0287356321839"
      ],
      "text/markdown": [
       "**1:** 34.0287356321839"
      ],
      "text/plain": [
       "       1 \n",
       "34.02874 "
      ]
     },
     "metadata": {},
     "output_type": "display_data"
    }
   ],
   "source": [
    "predict(model, newdata = data.frame(age=7))"
   ]
  },
  {
   "cell_type": "code",
   "execution_count": 19,
   "id": "5368dc4a",
   "metadata": {},
   "outputs": [
    {
     "data": {
      "text/plain": [
       "\n",
       "Call:\n",
       "lm(formula = price ~ age)\n",
       "\n",
       "Coefficients:\n",
       "(Intercept)          age  \n",
       "     150.41       -16.63  \n"
      ]
     },
     "metadata": {},
     "output_type": "display_data"
    }
   ],
   "source": [
    "model"
   ]
  },
  {
   "cell_type": "code",
   "execution_count": 22,
   "id": "b189cf16",
   "metadata": {},
   "outputs": [
    {
     "data": {
      "text/html": [
       "34"
      ],
      "text/latex": [
       "34"
      ],
      "text/markdown": [
       "34"
      ],
      "text/plain": [
       "[1] 34"
      ]
     },
     "metadata": {},
     "output_type": "display_data"
    }
   ],
   "source": [
    "150.41 - 16.63  * 7"
   ]
  },
  {
   "cell_type": "code",
   "execution_count": 24,
   "id": "2dc59a9d",
   "metadata": {},
   "outputs": [],
   "source": [
    "score = c(90, 85, 73, 80, 85, 65, 78, 50, 68, 96)\n",
    "names(score) = c('KOR','ENG','ATH','HIST','SOC','MUSIC','BIO', 'EARTH','PHY','ART')"
   ]
  },
  {
   "cell_type": "code",
   "execution_count": 25,
   "id": "952105ba",
   "metadata": {},
   "outputs": [
    {
     "data": {
      "text/html": [
       "<style>\n",
       ".dl-inline {width: auto; margin:0; padding: 0}\n",
       ".dl-inline>dt, .dl-inline>dd {float: none; width: auto; display: inline-block}\n",
       ".dl-inline>dt::after {content: \":\\0020\"; padding-right: .5ex}\n",
       ".dl-inline>dt:not(:first-of-type) {padding-left: .5ex}\n",
       "</style><dl class=dl-inline><dt>KOR</dt><dd>90</dd><dt>ENG</dt><dd>85</dd><dt>ATH</dt><dd>73</dd><dt>HIST</dt><dd>80</dd><dt>SOC</dt><dd>85</dd><dt>MUSIC</dt><dd>65</dd><dt>BIO</dt><dd>78</dd><dt>EARTH</dt><dd>50</dd><dt>PHY</dt><dd>68</dd><dt>ART</dt><dd>96</dd></dl>\n"
      ],
      "text/latex": [
       "\\begin{description*}\n",
       "\\item[KOR] 90\n",
       "\\item[ENG] 85\n",
       "\\item[ATH] 73\n",
       "\\item[HIST] 80\n",
       "\\item[SOC] 85\n",
       "\\item[MUSIC] 65\n",
       "\\item[BIO] 78\n",
       "\\item[EARTH] 50\n",
       "\\item[PHY] 68\n",
       "\\item[ART] 96\n",
       "\\end{description*}\n"
      ],
      "text/markdown": [
       "KOR\n",
       ":   90ENG\n",
       ":   85ATH\n",
       ":   73HIST\n",
       ":   80SOC\n",
       ":   85MUSIC\n",
       ":   65BIO\n",
       ":   78EARTH\n",
       ":   50PHY\n",
       ":   68ART\n",
       ":   96\n",
       "\n"
      ],
      "text/plain": [
       "  KOR   ENG   ATH  HIST   SOC MUSIC   BIO EARTH   PHY   ART \n",
       "   90    85    73    80    85    65    78    50    68    96 "
      ]
     },
     "metadata": {},
     "output_type": "display_data"
    }
   ],
   "source": [
    "score"
   ]
  },
  {
   "cell_type": "code",
   "execution_count": 26,
   "id": "ea32cf81",
   "metadata": {},
   "outputs": [
    {
     "data": {
      "text/html": [
       "77"
      ],
      "text/latex": [
       "77"
      ],
      "text/markdown": [
       "77"
      ],
      "text/plain": [
       "[1] 77"
      ]
     },
     "metadata": {},
     "output_type": "display_data"
    },
    {
     "data": {
      "text/html": [
       "79"
      ],
      "text/latex": [
       "79"
      ],
      "text/markdown": [
       "79"
      ],
      "text/plain": [
       "[1] 79"
      ]
     },
     "metadata": {},
     "output_type": "display_data"
    }
   ],
   "source": [
    "mean(score)\n",
    "median(score)"
   ]
  },
  {
   "cell_type": "code",
   "execution_count": 27,
   "id": "d6a18a91",
   "metadata": {},
   "outputs": [
    {
     "data": {
      "text/html": [
       "13.490737563232"
      ],
      "text/latex": [
       "13.490737563232"
      ],
      "text/markdown": [
       "13.490737563232"
      ],
      "text/plain": [
       "[1] 13.49074"
      ]
     },
     "metadata": {},
     "output_type": "display_data"
    }
   ],
   "source": [
    "sd(score)"
   ]
  },
  {
   "cell_type": "code",
   "execution_count": 33,
   "id": "a8ff9407",
   "metadata": {},
   "outputs": [
    {
     "data": {
      "text/html": [
       "'ART'"
      ],
      "text/latex": [
       "'ART'"
      ],
      "text/markdown": [
       "'ART'"
      ],
      "text/plain": [
       "[1] \"ART\""
      ]
     },
     "metadata": {},
     "output_type": "display_data"
    }
   ],
   "source": [
    "names(score[score == max(score)])"
   ]
  },
  {
   "cell_type": "code",
   "execution_count": 34,
   "id": "91956792",
   "metadata": {},
   "outputs": [
    {
     "data": {
      "text/html": [
       "'EARTH'"
      ],
      "text/latex": [
       "'EARTH'"
      ],
      "text/markdown": [
       "'EARTH'"
      ],
      "text/plain": [
       "[1] \"EARTH\""
      ]
     },
     "metadata": {},
     "output_type": "display_data"
    }
   ],
   "source": [
    "names(score[score == min(score)])"
   ]
  },
  {
   "cell_type": "code",
   "execution_count": 36,
   "id": "167c4345",
   "metadata": {},
   "outputs": [
    {
     "data": {
      "image/png": "[encoded data removed]",
      "text/plain": [
       "Plot with title \"Boxplot of Score\""
      ]
     },
     "metadata": {
      "image/png": {
       "height": 420,
       "width": 420
      }
     },
     "output_type": "display_data"
    }
   ],
   "source": [
    "boxplot(score, \n",
    "       main = 'Boxplot of Score')"
   ]
  },
  {
   "cell_type": "code",
   "execution_count": 40,
   "id": "b839127c",
   "metadata": {},
   "outputs": [
    {
     "data": {
      "image/png": "[encoded data removed]",
      "text/plain": [
       "Plot with title \"학생 성적의 분포\""
      ]
     },
     "metadata": {
      "image/png": {
       "height": 420,
       "width": 420
      }
     },
     "output_type": "display_data"
    }
   ],
   "source": [
    "hist(score,\n",
    "    main = '학생 성적의 분포',\n",
    "    col = 'purple',\n",
    "    breaks=5)"
   ]
  },
  {
   "cell_type": "code",
   "execution_count": 41,
   "id": "7d4f56aa",
   "metadata": {},
   "outputs": [
    {
     "data": {
      "text/html": [
       "3.21725"
      ],
      "text/latex": [
       "3.21725"
      ],
      "text/markdown": [
       "3.21725"
      ],
      "text/plain": [
       "[1] 3.21725"
      ]
     },
     "metadata": {},
     "output_type": "display_data"
    },
    {
     "data": {
      "text/html": [
       "3.325"
      ],
      "text/latex": [
       "3.325"
      ],
      "text/markdown": [
       "3.325"
      ],
      "text/plain": [
       "[1] 3.325"
      ]
     },
     "metadata": {},
     "output_type": "display_data"
    }
   ],
   "source": [
    "mean(mtcars$wt)\n",
    "median(mtcars$wt)"
   ]
  },
  {
   "cell_type": "code",
   "execution_count": 42,
   "id": "a2c80f39",
   "metadata": {},
   "outputs": [
    {
     "data": {
      "text/html": [
       "3.325"
      ],
      "text/latex": [
       "3.325"
      ],
      "text/markdown": [
       "3.325"
      ],
      "text/plain": [
       "[1] 3.325"
      ]
     },
     "metadata": {},
     "output_type": "display_data"
    }
   ],
   "source": [
    "mean(mtcars$wt, trim = 1.5)"
   ]
  },
  {
   "cell_type": "code",
   "execution_count": 43,
   "id": "a9d2e56a",
   "metadata": {},
   "outputs": [
    {
     "data": {
      "text/html": [
       "0.978457442989697"
      ],
      "text/latex": [
       "0.978457442989697"
      ],
      "text/markdown": [
       "0.978457442989697"
      ],
      "text/plain": [
       "[1] 0.9784574"
      ]
     },
     "metadata": {},
     "output_type": "display_data"
    }
   ],
   "source": [
    "sd(mtcars$wt)"
   ]
  },
  {
   "cell_type": "code",
   "execution_count": 44,
   "id": "ed822d6a",
   "metadata": {},
   "outputs": [
    {
     "data": {
      "text/plain": [
       "   Min. 1st Qu.  Median    Mean 3rd Qu.    Max. \n",
       "  1.513   2.581   3.325   3.217   3.610   5.424 "
      ]
     },
     "metadata": {},
     "output_type": "display_data"
    }
   ],
   "source": [
    "summary(mtcars$wt\n",
    "       )"
   ]
  },
  {
   "cell_type": "code",
   "execution_count": 45,
   "id": "cecc9ed1",
   "metadata": {},
   "outputs": [
    {
     "data": {
      "text/html": [
       "<style>\n",
       ".dl-inline {width: auto; margin:0; padding: 0}\n",
       ".dl-inline>dt, .dl-inline>dd {float: none; width: auto; display: inline-block}\n",
       ".dl-inline>dt::after {content: \":\\0020\"; padding-right: .5ex}\n",
       ".dl-inline>dt:not(:first-of-type) {padding-left: .5ex}\n",
       "</style><dl class=dl-inline><dt>0%</dt><dd>1.513</dd><dt>25%</dt><dd>2.58125</dd><dt>50%</dt><dd>3.325</dd><dt>75%</dt><dd>3.61</dd><dt>100%</dt><dd>5.424</dd></dl>\n"
      ],
      "text/latex": [
       "\\begin{description*}\n",
       "\\item[0\\textbackslash{}\\%] 1.513\n",
       "\\item[25\\textbackslash{}\\%] 2.58125\n",
       "\\item[50\\textbackslash{}\\%] 3.325\n",
       "\\item[75\\textbackslash{}\\%] 3.61\n",
       "\\item[100\\textbackslash{}\\%] 5.424\n",
       "\\end{description*}\n"
      ],
      "text/markdown": [
       "0%\n",
       ":   1.51325%\n",
       ":   2.5812550%\n",
       ":   3.32575%\n",
       ":   3.61100%\n",
       ":   5.424\n",
       "\n"
      ],
      "text/plain": [
       "     0%     25%     50%     75%    100% \n",
       "1.51300 2.58125 3.32500 3.61000 5.42400 "
      ]
     },
     "metadata": {},
     "output_type": "display_data"
    }
   ],
   "source": [
    "quantile(mtcars$wt)"
   ]
  },
  {
   "cell_type": "code",
   "execution_count": 46,
   "id": "1a5fa7bd",
   "metadata": {},
   "outputs": [
    {
     "data": {
      "text/plain": [
       "\n",
       " 4  6  8 \n",
       "11  7 14 "
      ]
     },
     "metadata": {},
     "output_type": "display_data"
    }
   ],
   "source": [
    "table(mtcars$cyl)"
   ]
  },
  {
   "cell_type": "code",
   "execution_count": 48,
   "id": "4e417773",
   "metadata": {},
   "outputs": [
    {
     "data": {
      "image/png": "[encoded data removed]",
      "text/plain": [
       "Plot with title \"Histogram of mtcars$wt\""
      ]
     },
     "metadata": {
      "image/png": {
       "height": 420,
       "width": 420
      }
     },
     "output_type": "display_data"
    }
   ],
   "source": [
    "hist(mtcars$wt,\n",
    "    breaks=5)"
   ]
  },
  {
   "cell_type": "code",
   "execution_count": 49,
   "id": "b0694773",
   "metadata": {},
   "outputs": [
    {
     "data": {
      "image/png": "[encoded data removed]",
      "text/plain": [
       "Plot with title \"Histogram of table(mtcars$wt)\""
      ]
     },
     "metadata": {
      "image/png": {
       "height": 420,
       "width": 420
      }
     },
     "output_type": "display_data"
    }
   ],
   "source": [
    "hist(table(mtcars$wt))"
   ]
  },
  {
   "cell_type": "code",
   "execution_count": 50,
   "id": "4cd6e69d",
   "metadata": {},
   "outputs": [
    {
     "data": {
      "image/png": "[encoded data removed]",
      "text/plain": [
       "plot without title"
      ]
     },
     "metadata": {
      "image/png": {
       "height": 420,
       "width": 420
      }
     },
     "output_type": "display_data"
    }
   ],
   "source": [
    "boxplot(mtcars$wt)"
   ]
  },
  {
   "cell_type": "code",
   "execution_count": 52,
   "id": "c13f30d6",
   "metadata": {},
   "outputs": [
    {
     "data": {
      "image/png": "[encoded data removed]",
      "text/plain": [
       "plot without title"
      ]
     },
     "metadata": {
      "image/png": {
       "height": 420,
       "width": 420
      }
     },
     "output_type": "display_data"
    }
   ],
   "source": [
    "boxplot(mtcars$mpg~mtcars$gear)"
   ]
  },
  {
   "cell_type": "code",
   "execution_count": 53,
   "id": "ab86893c",
   "metadata": {},
   "outputs": [],
   "source": [
    "pass = c('P','P','F','P','F','P','F','P','P','F')"
   ]
  },
  {
   "cell_type": "code",
   "execution_count": 54,
   "id": "c9c2f1d1",
   "metadata": {},
   "outputs": [
    {
     "data": {
      "text/html": [
       "<style>\n",
       ".list-inline {list-style: none; margin:0; padding: 0}\n",
       ".list-inline>li {display: inline-block}\n",
       ".list-inline>li:not(:last-child)::after {content: \"\\00b7\"; padding: 0 .5ex}\n",
       "</style>\n",
       "<ol class=list-inline><li>'P'</li><li>'P'</li><li>'F'</li><li>'P'</li><li>'F'</li><li>'P'</li><li>'F'</li><li>'P'</li><li>'P'</li><li>'F'</li></ol>\n"
      ],
      "text/latex": [
       "\\begin{enumerate*}\n",
       "\\item 'P'\n",
       "\\item 'P'\n",
       "\\item 'F'\n",
       "\\item 'P'\n",
       "\\item 'F'\n",
       "\\item 'P'\n",
       "\\item 'F'\n",
       "\\item 'P'\n",
       "\\item 'P'\n",
       "\\item 'F'\n",
       "\\end{enumerate*}\n"
      ],
      "text/markdown": [
       "1. 'P'\n",
       "2. 'P'\n",
       "3. 'F'\n",
       "4. 'P'\n",
       "5. 'F'\n",
       "6. 'P'\n",
       "7. 'F'\n",
       "8. 'P'\n",
       "9. 'P'\n",
       "10. 'F'\n",
       "\n",
       "\n"
      ],
      "text/plain": [
       " [1] \"P\" \"P\" \"F\" \"P\" \"F\" \"P\" \"F\" \"P\" \"P\" \"F\""
      ]
     },
     "metadata": {},
     "output_type": "display_data"
    }
   ],
   "source": [
    "pass"
   ]
  },
  {
   "cell_type": "code",
   "execution_count": 55,
   "id": "e5f4155f",
   "metadata": {},
   "outputs": [
    {
     "data": {
      "text/plain": [
       "pass\n",
       "F P \n",
       "4 6 "
      ]
     },
     "metadata": {},
     "output_type": "display_data"
    }
   ],
   "source": [
    "table(pass)"
   ]
  },
  {
   "cell_type": "code",
   "execution_count": 56,
   "id": "79d0d4ed",
   "metadata": {},
   "outputs": [
    {
     "data": {
      "image/png": "[encoded data removed]",
      "text/plain": [
       "plot without title"
      ]
     },
     "metadata": {
      "image/png": {
       "height": 420,
       "width": 420
      }
     },
     "output_type": "display_data"
    }
   ],
   "source": [
    "barplot(table(pass))"
   ]
  },
  {
   "cell_type": "code",
   "execution_count": 57,
   "id": "60b56f48",
   "metadata": {},
   "outputs": [
    {
     "data": {
      "image/png": "[encoded data removed]",
      "text/plain": [
       "plot without title"
      ]
     },
     "metadata": {
      "image/png": {
       "height": 420,
       "width": 420
      }
     },
     "output_type": "display_data"
    }
   ],
   "source": [
    "pie(table(pass))"
   ]
  },
  {
   "cell_type": "code",
   "execution_count": 58,
   "id": "3dab0846",
   "metadata": {},
   "outputs": [
    {
     "data": {
      "text/html": [
       "<style>\n",
       ".list-inline {list-style: none; margin:0; padding: 0}\n",
       ".list-inline>li {display: inline-block}\n",
       ".list-inline>li:not(:last-child)::after {content: \"\\00b7\"; padding: 0 .5ex}\n",
       "</style>\n",
       "<ol class=list-inline><li>'여름'</li><li>'겨울'</li><li>'봄'</li><li>'가을'</li><li>'여름'</li><li>'가을'</li><li>'겨울'</li><li>'여름'</li><li>'여름'</li><li>'가을'</li></ol>\n"
      ],
      "text/latex": [
       "\\begin{enumerate*}\n",
       "\\item '여름'\n",
       "\\item '겨울'\n",
       "\\item '봄'\n",
       "\\item '가을'\n",
       "\\item '여름'\n",
       "\\item '가을'\n",
       "\\item '겨울'\n",
       "\\item '여름'\n",
       "\\item '여름'\n",
       "\\item '가을'\n",
       "\\end{enumerate*}\n"
      ],
      "text/markdown": [
       "1. '여름'\n",
       "2. '겨울'\n",
       "3. '봄'\n",
       "4. '가을'\n",
       "5. '여름'\n",
       "6. '가을'\n",
       "7. '겨울'\n",
       "8. '여름'\n",
       "9. '여름'\n",
       "10. '가을'\n",
       "\n",
       "\n"
      ],
      "text/plain": [
       " [1] \"여름\" \"겨울\" \"봄\"   \"가을\" \"여름\" \"가을\" \"겨울\" \"여름\" \"여름\" \"가을\""
      ]
     },
     "metadata": {},
     "output_type": "display_data"
    }
   ],
   "source": [
    "season = c('여름','겨울','봄','가을','여름','가을','겨울','여름','여름','가을')\n",
    "season"
   ]
  },
  {
   "cell_type": "code",
   "execution_count": 59,
   "id": "6e24e5f0",
   "metadata": {},
   "outputs": [
    {
     "data": {
      "text/plain": [
       "season\n",
       "가을 겨울   봄 여름 \n",
       "   3    2    1    4 "
      ]
     },
     "metadata": {},
     "output_type": "display_data"
    }
   ],
   "source": [
    "table(season)"
   ]
  },
  {
   "cell_type": "code",
   "execution_count": 60,
   "id": "066bef06",
   "metadata": {},
   "outputs": [
    {
     "data": {
      "image/png": "[encoded data removed]",
      "text/plain": [
       "plot without title"
      ]
     },
     "metadata": {
      "image/png": {
       "height": 420,
       "width": 420
      }
     },
     "output_type": "display_data"
    }
   ],
   "source": [
    "barplot(table(season))"
   ]
  },
  {
   "cell_type": "code",
   "execution_count": 61,
   "id": "a31c96c9",
   "metadata": {},
   "outputs": [
    {
     "data": {
      "image/png": "[encoded data removed]",
      "text/plain": [
       "plot without title"
      ]
     },
     "metadata": {
      "image/png": {
       "height": 420,
       "width": 420
      }
     },
     "output_type": "display_data"
    }
   ],
   "source": [
    "pie(table(season))"
   ]
  },
  {
   "cell_type": "code",
   "execution_count": 62,
   "id": "120d744e",
   "metadata": {},
   "outputs": [
    {
     "name": "stderr",
     "output_type": "stream",
     "text": [
      "Warning message:\n",
      "\"package 'DAAG' was built under R version 4.3.2\"\n"
     ]
    }
   ],
   "source": [
    "library(DAAG)"
   ]
  },
  {
   "cell_type": "code",
   "execution_count": 63,
   "id": "d26d5607",
   "metadata": {},
   "outputs": [
    {
     "data": {
      "image/png": "[encoded data removed]",
      "text/plain": [
       "plot without title"
      ]
     },
     "metadata": {
      "image/png": {
       "height": 420,
       "width": 420
      }
     },
     "output_type": "display_data"
    }
   ],
   "source": [
    "boxplot(cfseal$weight)"
   ]
  },
  {
   "cell_type": "code",
   "execution_count": 64,
   "id": "09956b2a",
   "metadata": {},
   "outputs": [
    {
     "data": {
      "image/png": "[encoded data removed]",
      "text/plain": [
       "plot without title"
      ]
     },
     "metadata": {
      "image/png": {
       "height": 420,
       "width": 420
      }
     },
     "output_type": "display_data"
    }
   ],
   "source": [
    "boxplot(cfseal$heart)"
   ]
  },
  {
   "cell_type": "code",
   "execution_count": 67,
   "id": "0824245b",
   "metadata": {},
   "outputs": [
    {
     "data": {
      "text/html": [
       "<style>\n",
       ".list-inline {list-style: none; margin:0; padding: 0}\n",
       ".list-inline>li {display: inline-block}\n",
       ".list-inline>li:not(:last-child)::after {content: \"\\00b7\"; padding: 0 .5ex}\n",
       "</style>\n",
       "<ol class=list-inline><li>1012</li><li>1075</li></ol>\n"
      ],
      "text/latex": [
       "\\begin{enumerate*}\n",
       "\\item 1012\n",
       "\\item 1075\n",
       "\\end{enumerate*}\n"
      ],
      "text/markdown": [
       "1. 1012\n",
       "2. 1075\n",
       "\n",
       "\n"
      ],
      "text/plain": [
       "[1] 1012 1075"
      ]
     },
     "metadata": {},
     "output_type": "display_data"
    },
    {
     "data": {
      "image/png": "[encoded data removed]",
      "text/plain": [
       "plot without title"
      ]
     },
     "metadata": {
      "image/png": {
       "height": 420,
       "width": 420
      }
     },
     "output_type": "display_data"
    }
   ],
   "source": [
    "boxplot(cfseal$heart)$out"
   ]
  },
  {
   "cell_type": "raw",
   "id": "cc05e82a",
   "metadata": {},
   "source": [
    "grp = rep('old', nrow"
   ]
  },
  {
   "cell_type": "code",
   "execution_count": 66,
   "id": "704310e2",
   "metadata": {},
   "outputs": [
    {
     "data": {
      "text/html": [
       "<style>\n",
       ".list-inline {list-style: none; margin:0; padding: 0}\n",
       ".list-inline>li {display: inline-block}\n",
       ".list-inline>li:not(:last-child)::after {content: \"\\00b7\"; padding: 0 .5ex}\n",
       "</style>\n",
       "<ol class=list-inline><li>'Young'</li><li>'Young'</li><li>'Young'</li><li>'Young'</li><li>'Young'</li><li>'Young'</li><li>'Young'</li><li>'Young'</li><li>'Young'</li><li>'Young'</li><li>'Young'</li><li>'Young'</li><li>'Young'</li><li>'Young'</li><li>'Young'</li><li>'old'</li><li>'old'</li><li>'old'</li><li>'old'</li><li>'old'</li><li>'old'</li><li>'old'</li><li>'old'</li><li>'old'</li><li>'old'</li><li>'old'</li><li>'old'</li><li>'old'</li><li>'old'</li><li>'old'</li></ol>\n"
      ],
      "text/latex": [
       "\\begin{enumerate*}\n",
       "\\item 'Young'\n",
       "\\item 'Young'\n",
       "\\item 'Young'\n",
       "\\item 'Young'\n",
       "\\item 'Young'\n",
       "\\item 'Young'\n",
       "\\item 'Young'\n",
       "\\item 'Young'\n",
       "\\item 'Young'\n",
       "\\item 'Young'\n",
       "\\item 'Young'\n",
       "\\item 'Young'\n",
       "\\item 'Young'\n",
       "\\item 'Young'\n",
       "\\item 'Young'\n",
       "\\item 'old'\n",
       "\\item 'old'\n",
       "\\item 'old'\n",
       "\\item 'old'\n",
       "\\item 'old'\n",
       "\\item 'old'\n",
       "\\item 'old'\n",
       "\\item 'old'\n",
       "\\item 'old'\n",
       "\\item 'old'\n",
       "\\item 'old'\n",
       "\\item 'old'\n",
       "\\item 'old'\n",
       "\\item 'old'\n",
       "\\item 'old'\n",
       "\\end{enumerate*}\n"
      ],
      "text/markdown": [
       "1. 'Young'\n",
       "2. 'Young'\n",
       "3. 'Young'\n",
       "4. 'Young'\n",
       "5. 'Young'\n",
       "6. 'Young'\n",
       "7. 'Young'\n",
       "8. 'Young'\n",
       "9. 'Young'\n",
       "10. 'Young'\n",
       "11. 'Young'\n",
       "12. 'Young'\n",
       "13. 'Young'\n",
       "14. 'Young'\n",
       "15. 'Young'\n",
       "16. 'old'\n",
       "17. 'old'\n",
       "18. 'old'\n",
       "19. 'old'\n",
       "20. 'old'\n",
       "21. 'old'\n",
       "22. 'old'\n",
       "23. 'old'\n",
       "24. 'old'\n",
       "25. 'old'\n",
       "26. 'old'\n",
       "27. 'old'\n",
       "28. 'old'\n",
       "29. 'old'\n",
       "30. 'old'\n",
       "\n",
       "\n"
      ],
      "text/plain": [
       " [1] \"Young\" \"Young\" \"Young\" \"Young\" \"Young\" \"Young\" \"Young\" \"Young\" \"Young\"\n",
       "[10] \"Young\" \"Young\" \"Young\" \"Young\" \"Young\" \"Young\" \"old\"   \"old\"   \"old\"  \n",
       "[19] \"old\"   \"old\"   \"old\"   \"old\"   \"old\"   \"old\"   \"old\"   \"old\"   \"old\"  \n",
       "[28] \"old\"   \"old\"   \"old\"  "
      ]
     },
     "metadata": {},
     "output_type": "display_data"
    },
    {
     "data": {
      "image/png": "[encoded data removed]",
      "text/plain": [
       "plot without title"
      ]
     },
     "metadata": {
      "image/png": {
       "height": 420,
       "width": 420
      }
     },
     "output_type": "display_data"
    }
   ],
   "source": [
    "grp = rep('old',nrow(cfseal))\n",
    "grp[cfseal$age < mean(cfseal$age)] = 'Young'\n",
    "grp\n",
    "grp = factor(grp)\n",
    "boxplot(cfseal$weight~grp,\n",
    "       col = c('Orange','Green'))"
   ]
  },
  {
   "cell_type": "code",
   "execution_count": 69,
   "id": "67d05afe",
   "metadata": {},
   "outputs": [
    {
     "data": {
      "image/png": "[encoded data removed]",
      "text/plain": [
       "plot without title"
      ]
     },
     "metadata": {
      "image/png": {
       "height": 420,
       "width": 420
      }
     },
     "output_type": "display_data"
    }
   ],
   "source": [
    "boxplot(cfseal$age)"
   ]
  },
  {
   "cell_type": "code",
   "execution_count": 70,
   "id": "eebf2b61",
   "metadata": {},
   "outputs": [],
   "source": [
    "grp = rep('middle', nrow(cfseal))\n",
    "Q1 = summary(cfseal$weight)[2]\n",
    "Q3 = summary(cfseal$weight)[5]"
   ]
  },
  {
   "cell_type": "code",
   "execution_count": 71,
   "id": "8ba920a0",
   "metadata": {},
   "outputs": [],
   "source": [
    "grp[cfseal$weight < Q1] = 'low'\n",
    "grp[cfseal$weight > Q3] = 'high'\n",
    "grp = factor(grp)"
   ]
  },
  {
   "cell_type": "code",
   "execution_count": 72,
   "id": "78282654",
   "metadata": {},
   "outputs": [
    {
     "data": {
      "text/html": [
       "<style>\n",
       ".list-inline {list-style: none; margin:0; padding: 0}\n",
       ".list-inline>li {display: inline-block}\n",
       ".list-inline>li:not(:last-child)::after {content: \"\\00b7\"; padding: 0 .5ex}\n",
       "</style>\n",
       "<ol class=list-inline><li>low</li><li>low</li><li>low</li><li>low</li><li>low</li><li>low</li><li>low</li><li>low</li><li>middle</li><li>middle</li><li>middle</li><li>middle</li><li>middle</li><li>middle</li><li>middle</li><li>middle</li><li>middle</li><li>middle</li><li>middle</li><li>middle</li><li>high</li><li>middle</li><li>high</li><li>high</li><li>middle</li><li>high</li><li>high</li><li>high</li><li>high</li><li>high</li></ol>\n",
       "\n",
       "<details>\n",
       "\t<summary style=display:list-item;cursor:pointer>\n",
       "\t\t<strong>Levels</strong>:\n",
       "\t</summary>\n",
       "\t<style>\n",
       "\t.list-inline {list-style: none; margin:0; padding: 0}\n",
       "\t.list-inline>li {display: inline-block}\n",
       "\t.list-inline>li:not(:last-child)::after {content: \"\\00b7\"; padding: 0 .5ex}\n",
       "\t</style>\n",
       "\t<ol class=list-inline><li>'high'</li><li>'low'</li><li>'middle'</li></ol>\n",
       "</details>"
      ],
      "text/latex": [
       "\\begin{enumerate*}\n",
       "\\item low\n",
       "\\item low\n",
       "\\item low\n",
       "\\item low\n",
       "\\item low\n",
       "\\item low\n",
       "\\item low\n",
       "\\item low\n",
       "\\item middle\n",
       "\\item middle\n",
       "\\item middle\n",
       "\\item middle\n",
       "\\item middle\n",
       "\\item middle\n",
       "\\item middle\n",
       "\\item middle\n",
       "\\item middle\n",
       "\\item middle\n",
       "\\item middle\n",
       "\\item middle\n",
       "\\item high\n",
       "\\item middle\n",
       "\\item high\n",
       "\\item high\n",
       "\\item middle\n",
       "\\item high\n",
       "\\item high\n",
       "\\item high\n",
       "\\item high\n",
       "\\item high\n",
       "\\end{enumerate*}\n",
       "\n",
       "\\emph{Levels}: \\begin{enumerate*}\n",
       "\\item 'high'\n",
       "\\item 'low'\n",
       "\\item 'middle'\n",
       "\\end{enumerate*}\n"
      ],
      "text/markdown": [
       "1. low\n",
       "2. low\n",
       "3. low\n",
       "4. low\n",
       "5. low\n",
       "6. low\n",
       "7. low\n",
       "8. low\n",
       "9. middle\n",
       "10. middle\n",
       "11. middle\n",
       "12. middle\n",
       "13. middle\n",
       "14. middle\n",
       "15. middle\n",
       "16. middle\n",
       "17. middle\n",
       "18. middle\n",
       "19. middle\n",
       "20. middle\n",
       "21. high\n",
       "22. middle\n",
       "23. high\n",
       "24. high\n",
       "25. middle\n",
       "26. high\n",
       "27. high\n",
       "28. high\n",
       "29. high\n",
       "30. high\n",
       "\n",
       "\n",
       "\n",
       "**Levels**: 1. 'high'\n",
       "2. 'low'\n",
       "3. 'middle'\n",
       "\n",
       "\n"
      ],
      "text/plain": [
       " [1] low    low    low    low    low    low    low    low    middle middle\n",
       "[11] middle middle middle middle middle middle middle middle middle middle\n",
       "[21] high   middle high   high   middle high   high   high   high   high  \n",
       "Levels: high low middle"
      ]
     },
     "metadata": {},
     "output_type": "display_data"
    }
   ],
   "source": [
    "grp"
   ]
  },
  {
   "cell_type": "code",
   "execution_count": 73,
   "id": "12fa1cf7",
   "metadata": {},
   "outputs": [
    {
     "data": {
      "text/html": [
       "<style>\n",
       ".list-inline {list-style: none; margin:0; padding: 0}\n",
       ".list-inline>li {display: inline-block}\n",
       ".list-inline>li:not(:last-child)::after {content: \"\\00b7\"; padding: 0 .5ex}\n",
       "</style>\n",
       "<ol class=list-inline><li>'high'</li><li>'low'</li><li>'middle'</li></ol>\n"
      ],
      "text/latex": [
       "\\begin{enumerate*}\n",
       "\\item 'high'\n",
       "\\item 'low'\n",
       "\\item 'middle'\n",
       "\\end{enumerate*}\n"
      ],
      "text/markdown": [
       "1. 'high'\n",
       "2. 'low'\n",
       "3. 'middle'\n",
       "\n",
       "\n"
      ],
      "text/plain": [
       "[1] \"high\"   \"low\"    \"middle\""
      ]
     },
     "metadata": {},
     "output_type": "display_data"
    }
   ],
   "source": [
    "levels(grp)"
   ]
  },
  {
   "cell_type": "code",
   "execution_count": 74,
   "id": "1878cd7d",
   "metadata": {},
   "outputs": [
    {
     "data": {
      "text/html": [
       "<style>\n",
       ".list-inline {list-style: none; margin:0; padding: 0}\n",
       ".list-inline>li {display: inline-block}\n",
       ".list-inline>li:not(:last-child)::after {content: \"\\00b7\"; padding: 0 .5ex}\n",
       "</style>\n",
       "<ol class=list-inline><li>low</li><li>middle</li><li>high</li></ol>\n",
       "\n",
       "<details>\n",
       "\t<summary style=display:list-item;cursor:pointer>\n",
       "\t\t<strong>Levels</strong>:\n",
       "\t</summary>\n",
       "\t<style>\n",
       "\t.list-inline {list-style: none; margin:0; padding: 0}\n",
       "\t.list-inline>li {display: inline-block}\n",
       "\t.list-inline>li:not(:last-child)::after {content: \"\\00b7\"; padding: 0 .5ex}\n",
       "\t</style>\n",
       "\t<ol class=list-inline><li>'high'</li><li>'low'</li><li>'middle'</li></ol>\n",
       "</details>"
      ],
      "text/latex": [
       "\\begin{enumerate*}\n",
       "\\item low\n",
       "\\item middle\n",
       "\\item high\n",
       "\\end{enumerate*}\n",
       "\n",
       "\\emph{Levels}: \\begin{enumerate*}\n",
       "\\item 'high'\n",
       "\\item 'low'\n",
       "\\item 'middle'\n",
       "\\end{enumerate*}\n"
      ],
      "text/markdown": [
       "1. low\n",
       "2. middle\n",
       "3. high\n",
       "\n",
       "\n",
       "\n",
       "**Levels**: 1. 'high'\n",
       "2. 'low'\n",
       "3. 'middle'\n",
       "\n",
       "\n"
      ],
      "text/plain": [
       "[1] low    middle high  \n",
       "Levels: high low middle"
      ]
     },
     "metadata": {},
     "output_type": "display_data"
    }
   ],
   "source": [
    "unique(grp)"
   ]
  },
  {
   "cell_type": "code",
   "execution_count": 75,
   "id": "d4481b96",
   "metadata": {},
   "outputs": [
    {
     "data": {
      "image/png": "[encoded data removed]",
      "text/plain": [
       "plot without title"
      ]
     },
     "metadata": {
      "image/png": {
       "height": 420,
       "width": 420
      }
     },
     "output_type": "display_data"
    }
   ],
   "source": [
    "boxplot(cfseal$weight~grp)"
   ]
  },
  {
   "cell_type": "code",
   "execution_count": 76,
   "id": "d8f52431",
   "metadata": {},
   "outputs": [],
   "source": [
    "data(greatLakes)"
   ]
  },
  {
   "cell_type": "code",
   "execution_count": 77,
   "id": "d32a38eb",
   "metadata": {},
   "outputs": [
    {
     "data": {
      "text/html": [
       "<table class=\"dataframe\">\n",
       "<caption>A Time Series: 92 × 4</caption>\n",
       "<thead>\n",
       "\t<tr><th></th><th scope=col>Erie</th><th scope=col>michHuron</th><th scope=col>Ontario</th><th scope=col>StClair</th></tr>\n",
       "</thead>\n",
       "<tbody>\n",
       "\t<tr><th scope=row>1918</th><td>174.0150</td><td>176.8867</td><td>74.87250</td><td>174.9567</td></tr>\n",
       "\t<tr><th scope=row>1919</th><td>174.1808</td><td>176.7450</td><td>74.95583</td><td>175.0767</td></tr>\n",
       "\t<tr><th scope=row>1920</th><td>173.9083</td><td>176.6250</td><td>74.56750</td><td>174.8150</td></tr>\n",
       "\t<tr><th scope=row>1921</th><td>174.0258</td><td>176.4883</td><td>74.66583</td><td>174.8692</td></tr>\n",
       "\t<tr><th scope=row>1922</th><td>173.9275</td><td>176.4450</td><td>74.65667</td><td>174.8108</td></tr>\n",
       "\t<tr><th scope=row>1923</th><td>173.7575</td><td>176.2642</td><td>74.44333</td><td>174.6525</td></tr>\n",
       "\t<tr><th scope=row>1924</th><td>173.8433</td><td>176.1867</td><td>74.55750</td><td>174.6375</td></tr>\n",
       "\t<tr><th scope=row>1925</th><td>173.5933</td><td>175.9192</td><td>74.39000</td><td>174.4058</td></tr>\n",
       "\t<tr><th scope=row>1926</th><td>173.6408</td><td>175.8850</td><td>74.40250</td><td>174.4017</td></tr>\n",
       "\t<tr><th scope=row>1927</th><td>173.8183</td><td>176.1483</td><td>74.60667</td><td>174.5983</td></tr>\n",
       "\t<tr><th scope=row>1928</th><td>173.9517</td><td>176.4433</td><td>74.80083</td><td>174.8050</td></tr>\n",
       "\t<tr><th scope=row>1929</th><td>174.3117</td><td>176.8958</td><td>75.08500</td><td>175.2642</td></tr>\n",
       "\t<tr><th scope=row>1930</th><td>174.2700</td><td>176.6508</td><td>75.08083</td><td>175.0950</td></tr>\n",
       "\t<tr><th scope=row>1931</th><td>173.7050</td><td>176.1183</td><td>74.35750</td><td>174.5083</td></tr>\n",
       "\t<tr><th scope=row>1932</th><td>173.7358</td><td>175.9408</td><td>74.50250</td><td>174.5658</td></tr>\n",
       "\t<tr><th scope=row>1933</th><td>173.6767</td><td>175.8675</td><td>74.27583</td><td>174.5467</td></tr>\n",
       "\t<tr><th scope=row>1934</th><td>173.3317</td><td>175.7667</td><td>74.02167</td><td>174.2742</td></tr>\n",
       "\t<tr><th scope=row>1935</th><td>173.4108</td><td>175.8908</td><td>74.00417</td><td>174.3608</td></tr>\n",
       "\t<tr><th scope=row>1936</th><td>173.4883</td><td>175.9392</td><td>74.16417</td><td>174.3933</td></tr>\n",
       "\t<tr><th scope=row>1937</th><td>173.8200</td><td>175.9225</td><td>74.49583</td><td>174.6033</td></tr>\n",
       "\t<tr><th scope=row>1938</th><td>173.8408</td><td>176.1408</td><td>74.52250</td><td>174.6892</td></tr>\n",
       "\t<tr><th scope=row>1939</th><td>173.8458</td><td>176.2692</td><td>74.49250</td><td>174.7208</td></tr>\n",
       "\t<tr><th scope=row>1940</th><td>173.7950</td><td>176.1417</td><td>74.42583</td><td>174.6450</td></tr>\n",
       "\t<tr><th scope=row>1941</th><td>173.7000</td><td>176.1217</td><td>74.40750</td><td>174.5817</td></tr>\n",
       "\t<tr><th scope=row>1942</th><td>173.8767</td><td>176.3342</td><td>74.51667</td><td>174.7675</td></tr>\n",
       "\t<tr><th scope=row>1943</th><td>174.2317</td><td>176.6267</td><td>75.13417</td><td>175.1125</td></tr>\n",
       "\t<tr><th scope=row>1944</th><td>174.0917</td><td>176.5967</td><td>74.84583</td><td>174.9817</td></tr>\n",
       "\t<tr><th scope=row>1945</th><td>174.1883</td><td>176.5700</td><td>75.06000</td><td>175.0892</td></tr>\n",
       "\t<tr><th scope=row>1946</th><td>174.1358</td><td>176.6017</td><td>74.99333</td><td>175.0383</td></tr>\n",
       "\t<tr><th scope=row>1947</th><td>174.2350</td><td>176.5667</td><td>75.16917</td><td>175.1042</td></tr>\n",
       "\t<tr><th scope=row>1948</th><td>174.2208</td><td>176.5308</td><td>75.08083</td><td>175.0975</td></tr>\n",
       "\t<tr><th scope=row>1949</th><td>173.9733</td><td>176.2108</td><td>74.74083</td><td>174.8317</td></tr>\n",
       "\t<tr><th scope=row>1950</th><td>174.1350</td><td>176.2608</td><td>74.89167</td><td>174.9300</td></tr>\n",
       "\t<tr><th scope=row>1951</th><td>174.3242</td><td>176.7358</td><td>75.24667</td><td>175.2408</td></tr>\n",
       "\t<tr><th scope=row>1952</th><td>174.5200</td><td>177.0850</td><td>75.36583</td><td>175.4992</td></tr>\n",
       "\t<tr><th scope=row>1953</th><td>174.3308</td><td>176.9333</td><td>75.01500</td><td>175.3233</td></tr>\n",
       "\t<tr><th scope=row>1954</th><td>174.2883</td><td>176.8292</td><td>74.98167</td><td>175.2350</td></tr>\n",
       "\t<tr><th scope=row>1955</th><td>174.3483</td><td>176.7225</td><td>75.14583</td><td>175.2517</td></tr>\n",
       "\t<tr><th scope=row>1956</th><td>174.1200</td><td>176.4400</td><td>74.92167</td><td>174.9392</td></tr>\n",
       "\t<tr><th scope=row>1957</th><td>174.0367</td><td>176.2633</td><td>74.63333</td><td>174.8800</td></tr>\n",
       "\t<tr><th scope=row>1958</th><td>173.8083</td><td>176.0675</td><td>74.42833</td><td>174.6292</td></tr>\n",
       "\t<tr><th scope=row>1959</th><td>173.8500</td><td>176.0058</td><td>74.47500</td><td>174.6567</td></tr>\n",
       "\t<tr><th scope=row>1960</th><td>174.0942</td><td>176.4775</td><td>74.71250</td><td>174.9900</td></tr>\n",
       "\t<tr><th scope=row>1961</th><td>174.1008</td><td>176.3767</td><td>74.61333</td><td>174.9633</td></tr>\n",
       "\t<tr><th scope=row>1962</th><td>173.9075</td><td>176.2225</td><td>74.64167</td><td>174.7700</td></tr>\n",
       "\t<tr><th scope=row>1963</th><td>173.7267</td><td>175.9225</td><td>74.65500</td><td>174.5600</td></tr>\n",
       "\t<tr><th scope=row>1964</th><td>173.6075</td><td>175.6825</td><td>74.28667</td><td>174.3650</td></tr>\n",
       "\t<tr><th scope=row>1965</th><td>173.7125</td><td>175.9158</td><td>74.39583</td><td>174.5333</td></tr>\n",
       "\t<tr><th scope=row>1966</th><td>173.8992</td><td>176.1608</td><td>74.69000</td><td>174.7567</td></tr>\n",
       "\t<tr><th scope=row>1967</th><td>174.0592</td><td>176.3008</td><td>74.85833</td><td>174.9250</td></tr>\n",
       "\t<tr><th scope=row>1968</th><td>174.2042</td><td>176.4467</td><td>74.79917</td><td>175.0608</td></tr>\n",
       "\t<tr><th scope=row>1969</th><td>174.3900</td><td>176.6958</td><td>74.74917</td><td>175.2617</td></tr>\n",
       "\t<tr><th scope=row>1970</th><td>174.2583</td><td>176.6783</td><td>74.68583</td><td>175.1500</td></tr>\n",
       "\t<tr><th scope=row>1971</th><td>174.3117</td><td>176.8050</td><td>74.72333</td><td>175.2692</td></tr>\n",
       "\t<tr><th scope=row>1972</th><td>174.5000</td><td>176.8883</td><td>74.93500</td><td>175.4208</td></tr>\n",
       "\t<tr><th scope=row>1973</th><td>174.7408</td><td>177.1233</td><td>75.21000</td><td>175.6500</td></tr>\n",
       "\t<tr><th scope=row>1974</th><td>174.6892</td><td>177.0933</td><td>75.06583</td><td>175.6133</td></tr>\n",
       "\t<tr><th scope=row>1975</th><td>174.6158</td><td>176.9733</td><td>74.81000</td><td>175.5158</td></tr>\n",
       "\t<tr><th scope=row>1976</th><td>174.5733</td><td>176.8992</td><td>75.04417</td><td>175.4783</td></tr>\n",
       "\t<tr><th scope=row>1977</th><td>174.2975</td><td>176.5050</td><td>74.75833</td><td>175.1992</td></tr>\n",
       "\t<tr><th scope=row>1978</th><td>174.3725</td><td>176.5908</td><td>74.92083</td><td>175.2708</td></tr>\n",
       "\t<tr><th scope=row>1979</th><td>174.3917</td><td>176.7942</td><td>74.84000</td><td>175.3558</td></tr>\n",
       "\t<tr><th scope=row>1980</th><td>174.5217</td><td>176.8033</td><td>74.82333</td><td>175.4075</td></tr>\n",
       "\t<tr><th scope=row>1981</th><td>174.3983</td><td>176.6983</td><td>74.78583</td><td>175.2958</td></tr>\n",
       "\t<tr><th scope=row>1982</th><td>174.4250</td><td>176.5983</td><td>74.75250</td><td>175.2992</td></tr>\n",
       "\t<tr><th scope=row>1983</th><td>174.5208</td><td>176.8333</td><td>74.82167</td><td>175.4333</td></tr>\n",
       "\t<tr><th scope=row>1984</th><td>174.5225</td><td>176.8950</td><td>74.90167</td><td>175.4350</td></tr>\n",
       "\t<tr><th scope=row>1985</th><td>174.7283</td><td>177.1267</td><td>74.87750</td><td>175.7000</td></tr>\n",
       "\t<tr><th scope=row>1986</th><td>174.8983</td><td>177.2925</td><td>75.14750</td><td>175.8517</td></tr>\n",
       "\t<tr><th scope=row>1987</th><td>174.6675</td><td>176.9700</td><td>74.84917</td><td>175.5608</td></tr>\n",
       "\t<tr><th scope=row>1988</th><td>174.2617</td><td>176.5642</td><td>74.68000</td><td>175.1933</td></tr>\n",
       "\t<tr><th scope=row>1989</th><td>174.2258</td><td>176.4008</td><td>74.76083</td><td>175.1092</td></tr>\n",
       "\t<tr><th scope=row>1990</th><td>174.2942</td><td>176.3500</td><td>74.80417</td><td>175.1308</td></tr>\n",
       "\t<tr><th scope=row>1991</th><td>174.3267</td><td>176.4692</td><td>74.87000</td><td>175.1975</td></tr>\n",
       "\t<tr><th scope=row>1992</th><td>174.3567</td><td>176.4792</td><td>74.83250</td><td>175.2200</td></tr>\n",
       "\t<tr><th scope=row>1993</th><td>174.5042</td><td>176.6958</td><td>75.04250</td><td>175.3808</td></tr>\n",
       "\t<tr><th scope=row>1994</th><td>174.3667</td><td>176.6783</td><td>74.75500</td><td>175.2900</td></tr>\n",
       "\t<tr><th scope=row>1995</th><td>174.2842</td><td>176.5275</td><td>74.73917</td><td>175.1833</td></tr>\n",
       "\t<tr><th scope=row>1996</th><td>174.3750</td><td>176.6542</td><td>74.87333</td><td>175.2467</td></tr>\n",
       "\t<tr><th scope=row>1997</th><td>174.7175</td><td>176.9842</td><td>74.96250</td><td>175.6125</td></tr>\n",
       "\t<tr><th scope=row>1998</th><td>174.5508</td><td>176.7167</td><td>74.91000</td><td>175.3975</td></tr>\n",
       "\t<tr><th scope=row>1999</th><td>174.1025</td><td>176.2358</td><td>74.57250</td><td>174.9758</td></tr>\n",
       "\t<tr><th scope=row>2000</th><td>173.9900</td><td>175.9783</td><td>74.78000</td><td>174.7925</td></tr>\n",
       "\t<tr><th scope=row>2001</th><td>173.9142</td><td>175.9508</td><td>74.69917</td><td>174.7617</td></tr>\n",
       "\t<tr><th scope=row>2002</th><td>174.0583</td><td>176.1183</td><td>74.79000</td><td>174.8833</td></tr>\n",
       "\t<tr><th scope=row>2003</th><td>173.9658</td><td>175.8917</td><td>74.71333</td><td>174.7375</td></tr>\n",
       "\t<tr><th scope=row>2004</th><td>174.1158</td><td>176.1108</td><td>74.84833</td><td>174.9167</td></tr>\n",
       "\t<tr><th scope=row>2005</th><td>174.1700</td><td>176.0900</td><td>74.82167</td><td>174.9383</td></tr>\n",
       "\t<tr><th scope=row>2006</th><td>174.1467</td><td>176.0158</td><td>74.83083</td><td>174.8917</td></tr>\n",
       "\t<tr><th scope=row>2007</th><td>174.1392</td><td>175.9433</td><td>74.75167</td><td>174.8483</td></tr>\n",
       "\t<tr><th scope=row>2008</th><td>174.1592</td><td>176.0050</td><td>74.87500</td><td>174.9200</td></tr>\n",
       "\t<tr><th scope=row>2009</th><td>174.2483</td><td>176.2583</td><td>74.87333</td><td>175.0767</td></tr>\n",
       "</tbody>\n",
       "</table>\n"
      ],
      "text/latex": [
       "A Time Series: 92 × 4\n",
       "\\begin{tabular}{r|llll}\n",
       "  & Erie & michHuron & Ontario & StClair\\\\\n",
       "\\hline\n",
       "\t1918 & 174.0150 & 176.8867 & 74.87250 & 174.9567\\\\\n",
       "\t1919 & 174.1808 & 176.7450 & 74.95583 & 175.0767\\\\\n",
       "\t1920 & 173.9083 & 176.6250 & 74.56750 & 174.8150\\\\\n",
       "\t1921 & 174.0258 & 176.4883 & 74.66583 & 174.8692\\\\\n",
       "\t1922 & 173.9275 & 176.4450 & 74.65667 & 174.8108\\\\\n",
       "\t1923 & 173.7575 & 176.2642 & 74.44333 & 174.6525\\\\\n",
       "\t1924 & 173.8433 & 176.1867 & 74.55750 & 174.6375\\\\\n",
       "\t1925 & 173.5933 & 175.9192 & 74.39000 & 174.4058\\\\\n",
       "\t1926 & 173.6408 & 175.8850 & 74.40250 & 174.4017\\\\\n",
       "\t1927 & 173.8183 & 176.1483 & 74.60667 & 174.5983\\\\\n",
       "\t1928 & 173.9517 & 176.4433 & 74.80083 & 174.8050\\\\\n",
       "\t1929 & 174.3117 & 176.8958 & 75.08500 & 175.2642\\\\\n",
       "\t1930 & 174.2700 & 176.6508 & 75.08083 & 175.0950\\\\\n",
       "\t1931 & 173.7050 & 176.1183 & 74.35750 & 174.5083\\\\\n",
       "\t1932 & 173.7358 & 175.9408 & 74.50250 & 174.5658\\\\\n",
       "\t1933 & 173.6767 & 175.8675 & 74.27583 & 174.5467\\\\\n",
       "\t1934 & 173.3317 & 175.7667 & 74.02167 & 174.2742\\\\\n",
       "\t1935 & 173.4108 & 175.8908 & 74.00417 & 174.3608\\\\\n",
       "\t1936 & 173.4883 & 175.9392 & 74.16417 & 174.3933\\\\\n",
       "\t1937 & 173.8200 & 175.9225 & 74.49583 & 174.6033\\\\\n",
       "\t1938 & 173.8408 & 176.1408 & 74.52250 & 174.6892\\\\\n",
       "\t1939 & 173.8458 & 176.2692 & 74.49250 & 174.7208\\\\\n",
       "\t1940 & 173.7950 & 176.1417 & 74.42583 & 174.6450\\\\\n",
       "\t1941 & 173.7000 & 176.1217 & 74.40750 & 174.5817\\\\\n",
       "\t1942 & 173.8767 & 176.3342 & 74.51667 & 174.7675\\\\\n",
       "\t1943 & 174.2317 & 176.6267 & 75.13417 & 175.1125\\\\\n",
       "\t1944 & 174.0917 & 176.5967 & 74.84583 & 174.9817\\\\\n",
       "\t1945 & 174.1883 & 176.5700 & 75.06000 & 175.0892\\\\\n",
       "\t1946 & 174.1358 & 176.6017 & 74.99333 & 175.0383\\\\\n",
       "\t1947 & 174.2350 & 176.5667 & 75.16917 & 175.1042\\\\\n",
       "\t1948 & 174.2208 & 176.5308 & 75.08083 & 175.0975\\\\\n",
       "\t1949 & 173.9733 & 176.2108 & 74.74083 & 174.8317\\\\\n",
       "\t1950 & 174.1350 & 176.2608 & 74.89167 & 174.9300\\\\\n",
       "\t1951 & 174.3242 & 176.7358 & 75.24667 & 175.2408\\\\\n",
       "\t1952 & 174.5200 & 177.0850 & 75.36583 & 175.4992\\\\\n",
       "\t1953 & 174.3308 & 176.9333 & 75.01500 & 175.3233\\\\\n",
       "\t1954 & 174.2883 & 176.8292 & 74.98167 & 175.2350\\\\\n",
       "\t1955 & 174.3483 & 176.7225 & 75.14583 & 175.2517\\\\\n",
       "\t1956 & 174.1200 & 176.4400 & 74.92167 & 174.9392\\\\\n",
       "\t1957 & 174.0367 & 176.2633 & 74.63333 & 174.8800\\\\\n",
       "\t1958 & 173.8083 & 176.0675 & 74.42833 & 174.6292\\\\\n",
       "\t1959 & 173.8500 & 176.0058 & 74.47500 & 174.6567\\\\\n",
       "\t1960 & 174.0942 & 176.4775 & 74.71250 & 174.9900\\\\\n",
       "\t1961 & 174.1008 & 176.3767 & 74.61333 & 174.9633\\\\\n",
       "\t1962 & 173.9075 & 176.2225 & 74.64167 & 174.7700\\\\\n",
       "\t1963 & 173.7267 & 175.9225 & 74.65500 & 174.5600\\\\\n",
       "\t1964 & 173.6075 & 175.6825 & 74.28667 & 174.3650\\\\\n",
       "\t1965 & 173.7125 & 175.9158 & 74.39583 & 174.5333\\\\\n",
       "\t1966 & 173.8992 & 176.1608 & 74.69000 & 174.7567\\\\\n",
       "\t1967 & 174.0592 & 176.3008 & 74.85833 & 174.9250\\\\\n",
       "\t1968 & 174.2042 & 176.4467 & 74.79917 & 175.0608\\\\\n",
       "\t1969 & 174.3900 & 176.6958 & 74.74917 & 175.2617\\\\\n",
       "\t1970 & 174.2583 & 176.6783 & 74.68583 & 175.1500\\\\\n",
       "\t1971 & 174.3117 & 176.8050 & 74.72333 & 175.2692\\\\\n",
       "\t1972 & 174.5000 & 176.8883 & 74.93500 & 175.4208\\\\\n",
       "\t1973 & 174.7408 & 177.1233 & 75.21000 & 175.6500\\\\\n",
       "\t1974 & 174.6892 & 177.0933 & 75.06583 & 175.6133\\\\\n",
       "\t1975 & 174.6158 & 176.9733 & 74.81000 & 175.5158\\\\\n",
       "\t1976 & 174.5733 & 176.8992 & 75.04417 & 175.4783\\\\\n",
       "\t1977 & 174.2975 & 176.5050 & 74.75833 & 175.1992\\\\\n",
       "\t1978 & 174.3725 & 176.5908 & 74.92083 & 175.2708\\\\\n",
       "\t1979 & 174.3917 & 176.7942 & 74.84000 & 175.3558\\\\\n",
       "\t1980 & 174.5217 & 176.8033 & 74.82333 & 175.4075\\\\\n",
       "\t1981 & 174.3983 & 176.6983 & 74.78583 & 175.2958\\\\\n",
       "\t1982 & 174.4250 & 176.5983 & 74.75250 & 175.2992\\\\\n",
       "\t1983 & 174.5208 & 176.8333 & 74.82167 & 175.4333\\\\\n",
       "\t1984 & 174.5225 & 176.8950 & 74.90167 & 175.4350\\\\\n",
       "\t1985 & 174.7283 & 177.1267 & 74.87750 & 175.7000\\\\\n",
       "\t1986 & 174.8983 & 177.2925 & 75.14750 & 175.8517\\\\\n",
       "\t1987 & 174.6675 & 176.9700 & 74.84917 & 175.5608\\\\\n",
       "\t1988 & 174.2617 & 176.5642 & 74.68000 & 175.1933\\\\\n",
       "\t1989 & 174.2258 & 176.4008 & 74.76083 & 175.1092\\\\\n",
       "\t1990 & 174.2942 & 176.3500 & 74.80417 & 175.1308\\\\\n",
       "\t1991 & 174.3267 & 176.4692 & 74.87000 & 175.1975\\\\\n",
       "\t1992 & 174.3567 & 176.4792 & 74.83250 & 175.2200\\\\\n",
       "\t1993 & 174.5042 & 176.6958 & 75.04250 & 175.3808\\\\\n",
       "\t1994 & 174.3667 & 176.6783 & 74.75500 & 175.2900\\\\\n",
       "\t1995 & 174.2842 & 176.5275 & 74.73917 & 175.1833\\\\\n",
       "\t1996 & 174.3750 & 176.6542 & 74.87333 & 175.2467\\\\\n",
       "\t1997 & 174.7175 & 176.9842 & 74.96250 & 175.6125\\\\\n",
       "\t1998 & 174.5508 & 176.7167 & 74.91000 & 175.3975\\\\\n",
       "\t1999 & 174.1025 & 176.2358 & 74.57250 & 174.9758\\\\\n",
       "\t2000 & 173.9900 & 175.9783 & 74.78000 & 174.7925\\\\\n",
       "\t2001 & 173.9142 & 175.9508 & 74.69917 & 174.7617\\\\\n",
       "\t2002 & 174.0583 & 176.1183 & 74.79000 & 174.8833\\\\\n",
       "\t2003 & 173.9658 & 175.8917 & 74.71333 & 174.7375\\\\\n",
       "\t2004 & 174.1158 & 176.1108 & 74.84833 & 174.9167\\\\\n",
       "\t2005 & 174.1700 & 176.0900 & 74.82167 & 174.9383\\\\\n",
       "\t2006 & 174.1467 & 176.0158 & 74.83083 & 174.8917\\\\\n",
       "\t2007 & 174.1392 & 175.9433 & 74.75167 & 174.8483\\\\\n",
       "\t2008 & 174.1592 & 176.0050 & 74.87500 & 174.9200\\\\\n",
       "\t2009 & 174.2483 & 176.2583 & 74.87333 & 175.0767\\\\\n",
       "\\end{tabular}\n"
      ],
      "text/markdown": [
       "\n",
       "A Time Series: 92 × 4\n",
       "\n",
       "| <!--/--> | Erie | michHuron | Ontario | StClair |\n",
       "|---|---|---|---|---|\n",
       "| 1918 | 174.0150 | 176.8867 | 74.87250 | 174.9567 |\n",
       "| 1919 | 174.1808 | 176.7450 | 74.95583 | 175.0767 |\n",
       "| 1920 | 173.9083 | 176.6250 | 74.56750 | 174.8150 |\n",
       "| 1921 | 174.0258 | 176.4883 | 74.66583 | 174.8692 |\n",
       "| 1922 | 173.9275 | 176.4450 | 74.65667 | 174.8108 |\n",
       "| 1923 | 173.7575 | 176.2642 | 74.44333 | 174.6525 |\n",
       "| 1924 | 173.8433 | 176.1867 | 74.55750 | 174.6375 |\n",
       "| 1925 | 173.5933 | 175.9192 | 74.39000 | 174.4058 |\n",
       "| 1926 | 173.6408 | 175.8850 | 74.40250 | 174.4017 |\n",
       "| 1927 | 173.8183 | 176.1483 | 74.60667 | 174.5983 |\n",
       "| 1928 | 173.9517 | 176.4433 | 74.80083 | 174.8050 |\n",
       "| 1929 | 174.3117 | 176.8958 | 75.08500 | 175.2642 |\n",
       "| 1930 | 174.2700 | 176.6508 | 75.08083 | 175.0950 |\n",
       "| 1931 | 173.7050 | 176.1183 | 74.35750 | 174.5083 |\n",
       "| 1932 | 173.7358 | 175.9408 | 74.50250 | 174.5658 |\n",
       "| 1933 | 173.6767 | 175.8675 | 74.27583 | 174.5467 |\n",
       "| 1934 | 173.3317 | 175.7667 | 74.02167 | 174.2742 |\n",
       "| 1935 | 173.4108 | 175.8908 | 74.00417 | 174.3608 |\n",
       "| 1936 | 173.4883 | 175.9392 | 74.16417 | 174.3933 |\n",
       "| 1937 | 173.8200 | 175.9225 | 74.49583 | 174.6033 |\n",
       "| 1938 | 173.8408 | 176.1408 | 74.52250 | 174.6892 |\n",
       "| 1939 | 173.8458 | 176.2692 | 74.49250 | 174.7208 |\n",
       "| 1940 | 173.7950 | 176.1417 | 74.42583 | 174.6450 |\n",
       "| 1941 | 173.7000 | 176.1217 | 74.40750 | 174.5817 |\n",
       "| 1942 | 173.8767 | 176.3342 | 74.51667 | 174.7675 |\n",
       "| 1943 | 174.2317 | 176.6267 | 75.13417 | 175.1125 |\n",
       "| 1944 | 174.0917 | 176.5967 | 74.84583 | 174.9817 |\n",
       "| 1945 | 174.1883 | 176.5700 | 75.06000 | 175.0892 |\n",
       "| 1946 | 174.1358 | 176.6017 | 74.99333 | 175.0383 |\n",
       "| 1947 | 174.2350 | 176.5667 | 75.16917 | 175.1042 |\n",
       "| 1948 | 174.2208 | 176.5308 | 75.08083 | 175.0975 |\n",
       "| 1949 | 173.9733 | 176.2108 | 74.74083 | 174.8317 |\n",
       "| 1950 | 174.1350 | 176.2608 | 74.89167 | 174.9300 |\n",
       "| 1951 | 174.3242 | 176.7358 | 75.24667 | 175.2408 |\n",
       "| 1952 | 174.5200 | 177.0850 | 75.36583 | 175.4992 |\n",
       "| 1953 | 174.3308 | 176.9333 | 75.01500 | 175.3233 |\n",
       "| 1954 | 174.2883 | 176.8292 | 74.98167 | 175.2350 |\n",
       "| 1955 | 174.3483 | 176.7225 | 75.14583 | 175.2517 |\n",
       "| 1956 | 174.1200 | 176.4400 | 74.92167 | 174.9392 |\n",
       "| 1957 | 174.0367 | 176.2633 | 74.63333 | 174.8800 |\n",
       "| 1958 | 173.8083 | 176.0675 | 74.42833 | 174.6292 |\n",
       "| 1959 | 173.8500 | 176.0058 | 74.47500 | 174.6567 |\n",
       "| 1960 | 174.0942 | 176.4775 | 74.71250 | 174.9900 |\n",
       "| 1961 | 174.1008 | 176.3767 | 74.61333 | 174.9633 |\n",
       "| 1962 | 173.9075 | 176.2225 | 74.64167 | 174.7700 |\n",
       "| 1963 | 173.7267 | 175.9225 | 74.65500 | 174.5600 |\n",
       "| 1964 | 173.6075 | 175.6825 | 74.28667 | 174.3650 |\n",
       "| 1965 | 173.7125 | 175.9158 | 74.39583 | 174.5333 |\n",
       "| 1966 | 173.8992 | 176.1608 | 74.69000 | 174.7567 |\n",
       "| 1967 | 174.0592 | 176.3008 | 74.85833 | 174.9250 |\n",
       "| 1968 | 174.2042 | 176.4467 | 74.79917 | 175.0608 |\n",
       "| 1969 | 174.3900 | 176.6958 | 74.74917 | 175.2617 |\n",
       "| 1970 | 174.2583 | 176.6783 | 74.68583 | 175.1500 |\n",
       "| 1971 | 174.3117 | 176.8050 | 74.72333 | 175.2692 |\n",
       "| 1972 | 174.5000 | 176.8883 | 74.93500 | 175.4208 |\n",
       "| 1973 | 174.7408 | 177.1233 | 75.21000 | 175.6500 |\n",
       "| 1974 | 174.6892 | 177.0933 | 75.06583 | 175.6133 |\n",
       "| 1975 | 174.6158 | 176.9733 | 74.81000 | 175.5158 |\n",
       "| 1976 | 174.5733 | 176.8992 | 75.04417 | 175.4783 |\n",
       "| 1977 | 174.2975 | 176.5050 | 74.75833 | 175.1992 |\n",
       "| 1978 | 174.3725 | 176.5908 | 74.92083 | 175.2708 |\n",
       "| 1979 | 174.3917 | 176.7942 | 74.84000 | 175.3558 |\n",
       "| 1980 | 174.5217 | 176.8033 | 74.82333 | 175.4075 |\n",
       "| 1981 | 174.3983 | 176.6983 | 74.78583 | 175.2958 |\n",
       "| 1982 | 174.4250 | 176.5983 | 74.75250 | 175.2992 |\n",
       "| 1983 | 174.5208 | 176.8333 | 74.82167 | 175.4333 |\n",
       "| 1984 | 174.5225 | 176.8950 | 74.90167 | 175.4350 |\n",
       "| 1985 | 174.7283 | 177.1267 | 74.87750 | 175.7000 |\n",
       "| 1986 | 174.8983 | 177.2925 | 75.14750 | 175.8517 |\n",
       "| 1987 | 174.6675 | 176.9700 | 74.84917 | 175.5608 |\n",
       "| 1988 | 174.2617 | 176.5642 | 74.68000 | 175.1933 |\n",
       "| 1989 | 174.2258 | 176.4008 | 74.76083 | 175.1092 |\n",
       "| 1990 | 174.2942 | 176.3500 | 74.80417 | 175.1308 |\n",
       "| 1991 | 174.3267 | 176.4692 | 74.87000 | 175.1975 |\n",
       "| 1992 | 174.3567 | 176.4792 | 74.83250 | 175.2200 |\n",
       "| 1993 | 174.5042 | 176.6958 | 75.04250 | 175.3808 |\n",
       "| 1994 | 174.3667 | 176.6783 | 74.75500 | 175.2900 |\n",
       "| 1995 | 174.2842 | 176.5275 | 74.73917 | 175.1833 |\n",
       "| 1996 | 174.3750 | 176.6542 | 74.87333 | 175.2467 |\n",
       "| 1997 | 174.7175 | 176.9842 | 74.96250 | 175.6125 |\n",
       "| 1998 | 174.5508 | 176.7167 | 74.91000 | 175.3975 |\n",
       "| 1999 | 174.1025 | 176.2358 | 74.57250 | 174.9758 |\n",
       "| 2000 | 173.9900 | 175.9783 | 74.78000 | 174.7925 |\n",
       "| 2001 | 173.9142 | 175.9508 | 74.69917 | 174.7617 |\n",
       "| 2002 | 174.0583 | 176.1183 | 74.79000 | 174.8833 |\n",
       "| 2003 | 173.9658 | 175.8917 | 74.71333 | 174.7375 |\n",
       "| 2004 | 174.1158 | 176.1108 | 74.84833 | 174.9167 |\n",
       "| 2005 | 174.1700 | 176.0900 | 74.82167 | 174.9383 |\n",
       "| 2006 | 174.1467 | 176.0158 | 74.83083 | 174.8917 |\n",
       "| 2007 | 174.1392 | 175.9433 | 74.75167 | 174.8483 |\n",
       "| 2008 | 174.1592 | 176.0050 | 74.87500 | 174.9200 |\n",
       "| 2009 | 174.2483 | 176.2583 | 74.87333 | 175.0767 |\n",
       "\n"
      ],
      "text/plain": [
       "     Erie     michHuron Ontario  StClair \n",
       "1918 174.0150 176.8867  74.87250 174.9567\n",
       "1919 174.1808 176.7450  74.95583 175.0767\n",
       "1920 173.9083 176.6250  74.56750 174.8150\n",
       "1921 174.0258 176.4883  74.66583 174.8692\n",
       "1922 173.9275 176.4450  74.65667 174.8108\n",
       "1923 173.7575 176.2642  74.44333 174.6525\n",
       "1924 173.8433 176.1867  74.55750 174.6375\n",
       "1925 173.5933 175.9192  74.39000 174.4058\n",
       "1926 173.6408 175.8850  74.40250 174.4017\n",
       "1927 173.8183 176.1483  74.60667 174.5983\n",
       "1928 173.9517 176.4433  74.80083 174.8050\n",
       "1929 174.3117 176.8958  75.08500 175.2642\n",
       "1930 174.2700 176.6508  75.08083 175.0950\n",
       "1931 173.7050 176.1183  74.35750 174.5083\n",
       "1932 173.7358 175.9408  74.50250 174.5658\n",
       "1933 173.6767 175.8675  74.27583 174.5467\n",
       "1934 173.3317 175.7667  74.02167 174.2742\n",
       "1935 173.4108 175.8908  74.00417 174.3608\n",
       "1936 173.4883 175.9392  74.16417 174.3933\n",
       "1937 173.8200 175.9225  74.49583 174.6033\n",
       "1938 173.8408 176.1408  74.52250 174.6892\n",
       "1939 173.8458 176.2692  74.49250 174.7208\n",
       "1940 173.7950 176.1417  74.42583 174.6450\n",
       "1941 173.7000 176.1217  74.40750 174.5817\n",
       "1942 173.8767 176.3342  74.51667 174.7675\n",
       "1943 174.2317 176.6267  75.13417 175.1125\n",
       "1944 174.0917 176.5967  74.84583 174.9817\n",
       "1945 174.1883 176.5700  75.06000 175.0892\n",
       "1946 174.1358 176.6017  74.99333 175.0383\n",
       "1947 174.2350 176.5667  75.16917 175.1042\n",
       "1948 174.2208 176.5308  75.08083 175.0975\n",
       "1949 173.9733 176.2108  74.74083 174.8317\n",
       "1950 174.1350 176.2608  74.89167 174.9300\n",
       "1951 174.3242 176.7358  75.24667 175.2408\n",
       "1952 174.5200 177.0850  75.36583 175.4992\n",
       "1953 174.3308 176.9333  75.01500 175.3233\n",
       "1954 174.2883 176.8292  74.98167 175.2350\n",
       "1955 174.3483 176.7225  75.14583 175.2517\n",
       "1956 174.1200 176.4400  74.92167 174.9392\n",
       "1957 174.0367 176.2633  74.63333 174.8800\n",
       "1958 173.8083 176.0675  74.42833 174.6292\n",
       "1959 173.8500 176.0058  74.47500 174.6567\n",
       "1960 174.0942 176.4775  74.71250 174.9900\n",
       "1961 174.1008 176.3767  74.61333 174.9633\n",
       "1962 173.9075 176.2225  74.64167 174.7700\n",
       "1963 173.7267 175.9225  74.65500 174.5600\n",
       "1964 173.6075 175.6825  74.28667 174.3650\n",
       "1965 173.7125 175.9158  74.39583 174.5333\n",
       "1966 173.8992 176.1608  74.69000 174.7567\n",
       "1967 174.0592 176.3008  74.85833 174.9250\n",
       "1968 174.2042 176.4467  74.79917 175.0608\n",
       "1969 174.3900 176.6958  74.74917 175.2617\n",
       "1970 174.2583 176.6783  74.68583 175.1500\n",
       "1971 174.3117 176.8050  74.72333 175.2692\n",
       "1972 174.5000 176.8883  74.93500 175.4208\n",
       "1973 174.7408 177.1233  75.21000 175.6500\n",
       "1974 174.6892 177.0933  75.06583 175.6133\n",
       "1975 174.6158 176.9733  74.81000 175.5158\n",
       "1976 174.5733 176.8992  75.04417 175.4783\n",
       "1977 174.2975 176.5050  74.75833 175.1992\n",
       "1978 174.3725 176.5908  74.92083 175.2708\n",
       "1979 174.3917 176.7942  74.84000 175.3558\n",
       "1980 174.5217 176.8033  74.82333 175.4075\n",
       "1981 174.3983 176.6983  74.78583 175.2958\n",
       "1982 174.4250 176.5983  74.75250 175.2992\n",
       "1983 174.5208 176.8333  74.82167 175.4333\n",
       "1984 174.5225 176.8950  74.90167 175.4350\n",
       "1985 174.7283 177.1267  74.87750 175.7000\n",
       "1986 174.8983 177.2925  75.14750 175.8517\n",
       "1987 174.6675 176.9700  74.84917 175.5608\n",
       "1988 174.2617 176.5642  74.68000 175.1933\n",
       "1989 174.2258 176.4008  74.76083 175.1092\n",
       "1990 174.2942 176.3500  74.80417 175.1308\n",
       "1991 174.3267 176.4692  74.87000 175.1975\n",
       "1992 174.3567 176.4792  74.83250 175.2200\n",
       "1993 174.5042 176.6958  75.04250 175.3808\n",
       "1994 174.3667 176.6783  74.75500 175.2900\n",
       "1995 174.2842 176.5275  74.73917 175.1833\n",
       "1996 174.3750 176.6542  74.87333 175.2467\n",
       "1997 174.7175 176.9842  74.96250 175.6125\n",
       "1998 174.5508 176.7167  74.91000 175.3975\n",
       "1999 174.1025 176.2358  74.57250 174.9758\n",
       "2000 173.9900 175.9783  74.78000 174.7925\n",
       "2001 173.9142 175.9508  74.69917 174.7617\n",
       "2002 174.0583 176.1183  74.79000 174.8833\n",
       "2003 173.9658 175.8917  74.71333 174.7375\n",
       "2004 174.1158 176.1108  74.84833 174.9167\n",
       "2005 174.1700 176.0900  74.82167 174.9383\n",
       "2006 174.1467 176.0158  74.83083 174.8917\n",
       "2007 174.1392 175.9433  74.75167 174.8483\n",
       "2008 174.1592 176.0050  74.87500 174.9200\n",
       "2009 174.2483 176.2583  74.87333 175.0767"
      ]
     },
     "metadata": {},
     "output_type": "display_data"
    }
   ],
   "source": [
    "greatLakes"
   ]
  },
  {
   "cell_type": "code",
   "execution_count": 78,
   "id": "5378f9bd",
   "metadata": {},
   "outputs": [],
   "source": [
    "ds = data.frame(year=1918:2009, greatLakes)"
   ]
  },
  {
   "cell_type": "code",
   "execution_count": 79,
   "id": "c90e92ad",
   "metadata": {},
   "outputs": [
    {
     "data": {
      "text/html": [
       "<table class=\"dataframe\">\n",
       "<caption>A data.frame: 92 × 5</caption>\n",
       "<thead>\n",
       "\t<tr><th scope=col>year</th><th scope=col>Erie</th><th scope=col>michHuron</th><th scope=col>Ontario</th><th scope=col>StClair</th></tr>\n",
       "\t<tr><th scope=col>&lt;int&gt;</th><th scope=col>&lt;dbl&gt;</th><th scope=col>&lt;dbl&gt;</th><th scope=col>&lt;dbl&gt;</th><th scope=col>&lt;dbl&gt;</th></tr>\n",
       "</thead>\n",
       "<tbody>\n",
       "\t<tr><td>1918</td><td>174.0150</td><td>176.8867</td><td>74.87250</td><td>174.9567</td></tr>\n",
       "\t<tr><td>1919</td><td>174.1808</td><td>176.7450</td><td>74.95583</td><td>175.0767</td></tr>\n",
       "\t<tr><td>1920</td><td>173.9083</td><td>176.6250</td><td>74.56750</td><td>174.8150</td></tr>\n",
       "\t<tr><td>1921</td><td>174.0258</td><td>176.4883</td><td>74.66583</td><td>174.8692</td></tr>\n",
       "\t<tr><td>1922</td><td>173.9275</td><td>176.4450</td><td>74.65667</td><td>174.8108</td></tr>\n",
       "\t<tr><td>1923</td><td>173.7575</td><td>176.2642</td><td>74.44333</td><td>174.6525</td></tr>\n",
       "\t<tr><td>1924</td><td>173.8433</td><td>176.1867</td><td>74.55750</td><td>174.6375</td></tr>\n",
       "\t<tr><td>1925</td><td>173.5933</td><td>175.9192</td><td>74.39000</td><td>174.4058</td></tr>\n",
       "\t<tr><td>1926</td><td>173.6408</td><td>175.8850</td><td>74.40250</td><td>174.4017</td></tr>\n",
       "\t<tr><td>1927</td><td>173.8183</td><td>176.1483</td><td>74.60667</td><td>174.5983</td></tr>\n",
       "\t<tr><td>1928</td><td>173.9517</td><td>176.4433</td><td>74.80083</td><td>174.8050</td></tr>\n",
       "\t<tr><td>1929</td><td>174.3117</td><td>176.8958</td><td>75.08500</td><td>175.2642</td></tr>\n",
       "\t<tr><td>1930</td><td>174.2700</td><td>176.6508</td><td>75.08083</td><td>175.0950</td></tr>\n",
       "\t<tr><td>1931</td><td>173.7050</td><td>176.1183</td><td>74.35750</td><td>174.5083</td></tr>\n",
       "\t<tr><td>1932</td><td>173.7358</td><td>175.9408</td><td>74.50250</td><td>174.5658</td></tr>\n",
       "\t<tr><td>1933</td><td>173.6767</td><td>175.8675</td><td>74.27583</td><td>174.5467</td></tr>\n",
       "\t<tr><td>1934</td><td>173.3317</td><td>175.7667</td><td>74.02167</td><td>174.2742</td></tr>\n",
       "\t<tr><td>1935</td><td>173.4108</td><td>175.8908</td><td>74.00417</td><td>174.3608</td></tr>\n",
       "\t<tr><td>1936</td><td>173.4883</td><td>175.9392</td><td>74.16417</td><td>174.3933</td></tr>\n",
       "\t<tr><td>1937</td><td>173.8200</td><td>175.9225</td><td>74.49583</td><td>174.6033</td></tr>\n",
       "\t<tr><td>1938</td><td>173.8408</td><td>176.1408</td><td>74.52250</td><td>174.6892</td></tr>\n",
       "\t<tr><td>1939</td><td>173.8458</td><td>176.2692</td><td>74.49250</td><td>174.7208</td></tr>\n",
       "\t<tr><td>1940</td><td>173.7950</td><td>176.1417</td><td>74.42583</td><td>174.6450</td></tr>\n",
       "\t<tr><td>1941</td><td>173.7000</td><td>176.1217</td><td>74.40750</td><td>174.5817</td></tr>\n",
       "\t<tr><td>1942</td><td>173.8767</td><td>176.3342</td><td>74.51667</td><td>174.7675</td></tr>\n",
       "\t<tr><td>1943</td><td>174.2317</td><td>176.6267</td><td>75.13417</td><td>175.1125</td></tr>\n",
       "\t<tr><td>1944</td><td>174.0917</td><td>176.5967</td><td>74.84583</td><td>174.9817</td></tr>\n",
       "\t<tr><td>1945</td><td>174.1883</td><td>176.5700</td><td>75.06000</td><td>175.0892</td></tr>\n",
       "\t<tr><td>1946</td><td>174.1358</td><td>176.6017</td><td>74.99333</td><td>175.0383</td></tr>\n",
       "\t<tr><td>1947</td><td>174.2350</td><td>176.5667</td><td>75.16917</td><td>175.1042</td></tr>\n",
       "\t<tr><td>⋮</td><td>⋮</td><td>⋮</td><td>⋮</td><td>⋮</td></tr>\n",
       "\t<tr><td>1980</td><td>174.5217</td><td>176.8033</td><td>74.82333</td><td>175.4075</td></tr>\n",
       "\t<tr><td>1981</td><td>174.3983</td><td>176.6983</td><td>74.78583</td><td>175.2958</td></tr>\n",
       "\t<tr><td>1982</td><td>174.4250</td><td>176.5983</td><td>74.75250</td><td>175.2992</td></tr>\n",
       "\t<tr><td>1983</td><td>174.5208</td><td>176.8333</td><td>74.82167</td><td>175.4333</td></tr>\n",
       "\t<tr><td>1984</td><td>174.5225</td><td>176.8950</td><td>74.90167</td><td>175.4350</td></tr>\n",
       "\t<tr><td>1985</td><td>174.7283</td><td>177.1267</td><td>74.87750</td><td>175.7000</td></tr>\n",
       "\t<tr><td>1986</td><td>174.8983</td><td>177.2925</td><td>75.14750</td><td>175.8517</td></tr>\n",
       "\t<tr><td>1987</td><td>174.6675</td><td>176.9700</td><td>74.84917</td><td>175.5608</td></tr>\n",
       "\t<tr><td>1988</td><td>174.2617</td><td>176.5642</td><td>74.68000</td><td>175.1933</td></tr>\n",
       "\t<tr><td>1989</td><td>174.2258</td><td>176.4008</td><td>74.76083</td><td>175.1092</td></tr>\n",
       "\t<tr><td>1990</td><td>174.2942</td><td>176.3500</td><td>74.80417</td><td>175.1308</td></tr>\n",
       "\t<tr><td>1991</td><td>174.3267</td><td>176.4692</td><td>74.87000</td><td>175.1975</td></tr>\n",
       "\t<tr><td>1992</td><td>174.3567</td><td>176.4792</td><td>74.83250</td><td>175.2200</td></tr>\n",
       "\t<tr><td>1993</td><td>174.5042</td><td>176.6958</td><td>75.04250</td><td>175.3808</td></tr>\n",
       "\t<tr><td>1994</td><td>174.3667</td><td>176.6783</td><td>74.75500</td><td>175.2900</td></tr>\n",
       "\t<tr><td>1995</td><td>174.2842</td><td>176.5275</td><td>74.73917</td><td>175.1833</td></tr>\n",
       "\t<tr><td>1996</td><td>174.3750</td><td>176.6542</td><td>74.87333</td><td>175.2467</td></tr>\n",
       "\t<tr><td>1997</td><td>174.7175</td><td>176.9842</td><td>74.96250</td><td>175.6125</td></tr>\n",
       "\t<tr><td>1998</td><td>174.5508</td><td>176.7167</td><td>74.91000</td><td>175.3975</td></tr>\n",
       "\t<tr><td>1999</td><td>174.1025</td><td>176.2358</td><td>74.57250</td><td>174.9758</td></tr>\n",
       "\t<tr><td>2000</td><td>173.9900</td><td>175.9783</td><td>74.78000</td><td>174.7925</td></tr>\n",
       "\t<tr><td>2001</td><td>173.9142</td><td>175.9508</td><td>74.69917</td><td>174.7617</td></tr>\n",
       "\t<tr><td>2002</td><td>174.0583</td><td>176.1183</td><td>74.79000</td><td>174.8833</td></tr>\n",
       "\t<tr><td>2003</td><td>173.9658</td><td>175.8917</td><td>74.71333</td><td>174.7375</td></tr>\n",
       "\t<tr><td>2004</td><td>174.1158</td><td>176.1108</td><td>74.84833</td><td>174.9167</td></tr>\n",
       "\t<tr><td>2005</td><td>174.1700</td><td>176.0900</td><td>74.82167</td><td>174.9383</td></tr>\n",
       "\t<tr><td>2006</td><td>174.1467</td><td>176.0158</td><td>74.83083</td><td>174.8917</td></tr>\n",
       "\t<tr><td>2007</td><td>174.1392</td><td>175.9433</td><td>74.75167</td><td>174.8483</td></tr>\n",
       "\t<tr><td>2008</td><td>174.1592</td><td>176.0050</td><td>74.87500</td><td>174.9200</td></tr>\n",
       "\t<tr><td>2009</td><td>174.2483</td><td>176.2583</td><td>74.87333</td><td>175.0767</td></tr>\n",
       "</tbody>\n",
       "</table>\n"
      ],
      "text/latex": [
       "A data.frame: 92 × 5\n",
       "\\begin{tabular}{lllll}\n",
       " year & Erie & michHuron & Ontario & StClair\\\\\n",
       " <int> & <dbl> & <dbl> & <dbl> & <dbl>\\\\\n",
       "\\hline\n",
       "\t 1918 & 174.0150 & 176.8867 & 74.87250 & 174.9567\\\\\n",
       "\t 1919 & 174.1808 & 176.7450 & 74.95583 & 175.0767\\\\\n",
       "\t 1920 & 173.9083 & 176.6250 & 74.56750 & 174.8150\\\\\n",
       "\t 1921 & 174.0258 & 176.4883 & 74.66583 & 174.8692\\\\\n",
       "\t 1922 & 173.9275 & 176.4450 & 74.65667 & 174.8108\\\\\n",
       "\t 1923 & 173.7575 & 176.2642 & 74.44333 & 174.6525\\\\\n",
       "\t 1924 & 173.8433 & 176.1867 & 74.55750 & 174.6375\\\\\n",
       "\t 1925 & 173.5933 & 175.9192 & 74.39000 & 174.4058\\\\\n",
       "\t 1926 & 173.6408 & 175.8850 & 74.40250 & 174.4017\\\\\n",
       "\t 1927 & 173.8183 & 176.1483 & 74.60667 & 174.5983\\\\\n",
       "\t 1928 & 173.9517 & 176.4433 & 74.80083 & 174.8050\\\\\n",
       "\t 1929 & 174.3117 & 176.8958 & 75.08500 & 175.2642\\\\\n",
       "\t 1930 & 174.2700 & 176.6508 & 75.08083 & 175.0950\\\\\n",
       "\t 1931 & 173.7050 & 176.1183 & 74.35750 & 174.5083\\\\\n",
       "\t 1932 & 173.7358 & 175.9408 & 74.50250 & 174.5658\\\\\n",
       "\t 1933 & 173.6767 & 175.8675 & 74.27583 & 174.5467\\\\\n",
       "\t 1934 & 173.3317 & 175.7667 & 74.02167 & 174.2742\\\\\n",
       "\t 1935 & 173.4108 & 175.8908 & 74.00417 & 174.3608\\\\\n",
       "\t 1936 & 173.4883 & 175.9392 & 74.16417 & 174.3933\\\\\n",
       "\t 1937 & 173.8200 & 175.9225 & 74.49583 & 174.6033\\\\\n",
       "\t 1938 & 173.8408 & 176.1408 & 74.52250 & 174.6892\\\\\n",
       "\t 1939 & 173.8458 & 176.2692 & 74.49250 & 174.7208\\\\\n",
       "\t 1940 & 173.7950 & 176.1417 & 74.42583 & 174.6450\\\\\n",
       "\t 1941 & 173.7000 & 176.1217 & 74.40750 & 174.5817\\\\\n",
       "\t 1942 & 173.8767 & 176.3342 & 74.51667 & 174.7675\\\\\n",
       "\t 1943 & 174.2317 & 176.6267 & 75.13417 & 175.1125\\\\\n",
       "\t 1944 & 174.0917 & 176.5967 & 74.84583 & 174.9817\\\\\n",
       "\t 1945 & 174.1883 & 176.5700 & 75.06000 & 175.0892\\\\\n",
       "\t 1946 & 174.1358 & 176.6017 & 74.99333 & 175.0383\\\\\n",
       "\t 1947 & 174.2350 & 176.5667 & 75.16917 & 175.1042\\\\\n",
       "\t ⋮ & ⋮ & ⋮ & ⋮ & ⋮\\\\\n",
       "\t 1980 & 174.5217 & 176.8033 & 74.82333 & 175.4075\\\\\n",
       "\t 1981 & 174.3983 & 176.6983 & 74.78583 & 175.2958\\\\\n",
       "\t 1982 & 174.4250 & 176.5983 & 74.75250 & 175.2992\\\\\n",
       "\t 1983 & 174.5208 & 176.8333 & 74.82167 & 175.4333\\\\\n",
       "\t 1984 & 174.5225 & 176.8950 & 74.90167 & 175.4350\\\\\n",
       "\t 1985 & 174.7283 & 177.1267 & 74.87750 & 175.7000\\\\\n",
       "\t 1986 & 174.8983 & 177.2925 & 75.14750 & 175.8517\\\\\n",
       "\t 1987 & 174.6675 & 176.9700 & 74.84917 & 175.5608\\\\\n",
       "\t 1988 & 174.2617 & 176.5642 & 74.68000 & 175.1933\\\\\n",
       "\t 1989 & 174.2258 & 176.4008 & 74.76083 & 175.1092\\\\\n",
       "\t 1990 & 174.2942 & 176.3500 & 74.80417 & 175.1308\\\\\n",
       "\t 1991 & 174.3267 & 176.4692 & 74.87000 & 175.1975\\\\\n",
       "\t 1992 & 174.3567 & 176.4792 & 74.83250 & 175.2200\\\\\n",
       "\t 1993 & 174.5042 & 176.6958 & 75.04250 & 175.3808\\\\\n",
       "\t 1994 & 174.3667 & 176.6783 & 74.75500 & 175.2900\\\\\n",
       "\t 1995 & 174.2842 & 176.5275 & 74.73917 & 175.1833\\\\\n",
       "\t 1996 & 174.3750 & 176.6542 & 74.87333 & 175.2467\\\\\n",
       "\t 1997 & 174.7175 & 176.9842 & 74.96250 & 175.6125\\\\\n",
       "\t 1998 & 174.5508 & 176.7167 & 74.91000 & 175.3975\\\\\n",
       "\t 1999 & 174.1025 & 176.2358 & 74.57250 & 174.9758\\\\\n",
       "\t 2000 & 173.9900 & 175.9783 & 74.78000 & 174.7925\\\\\n",
       "\t 2001 & 173.9142 & 175.9508 & 74.69917 & 174.7617\\\\\n",
       "\t 2002 & 174.0583 & 176.1183 & 74.79000 & 174.8833\\\\\n",
       "\t 2003 & 173.9658 & 175.8917 & 74.71333 & 174.7375\\\\\n",
       "\t 2004 & 174.1158 & 176.1108 & 74.84833 & 174.9167\\\\\n",
       "\t 2005 & 174.1700 & 176.0900 & 74.82167 & 174.9383\\\\\n",
       "\t 2006 & 174.1467 & 176.0158 & 74.83083 & 174.8917\\\\\n",
       "\t 2007 & 174.1392 & 175.9433 & 74.75167 & 174.8483\\\\\n",
       "\t 2008 & 174.1592 & 176.0050 & 74.87500 & 174.9200\\\\\n",
       "\t 2009 & 174.2483 & 176.2583 & 74.87333 & 175.0767\\\\\n",
       "\\end{tabular}\n"
      ],
      "text/markdown": [
       "\n",
       "A data.frame: 92 × 5\n",
       "\n",
       "| year &lt;int&gt; | Erie &lt;dbl&gt; | michHuron &lt;dbl&gt; | Ontario &lt;dbl&gt; | StClair &lt;dbl&gt; |\n",
       "|---|---|---|---|---|\n",
       "| 1918 | 174.0150 | 176.8867 | 74.87250 | 174.9567 |\n",
       "| 1919 | 174.1808 | 176.7450 | 74.95583 | 175.0767 |\n",
       "| 1920 | 173.9083 | 176.6250 | 74.56750 | 174.8150 |\n",
       "| 1921 | 174.0258 | 176.4883 | 74.66583 | 174.8692 |\n",
       "| 1922 | 173.9275 | 176.4450 | 74.65667 | 174.8108 |\n",
       "| 1923 | 173.7575 | 176.2642 | 74.44333 | 174.6525 |\n",
       "| 1924 | 173.8433 | 176.1867 | 74.55750 | 174.6375 |\n",
       "| 1925 | 173.5933 | 175.9192 | 74.39000 | 174.4058 |\n",
       "| 1926 | 173.6408 | 175.8850 | 74.40250 | 174.4017 |\n",
       "| 1927 | 173.8183 | 176.1483 | 74.60667 | 174.5983 |\n",
       "| 1928 | 173.9517 | 176.4433 | 74.80083 | 174.8050 |\n",
       "| 1929 | 174.3117 | 176.8958 | 75.08500 | 175.2642 |\n",
       "| 1930 | 174.2700 | 176.6508 | 75.08083 | 175.0950 |\n",
       "| 1931 | 173.7050 | 176.1183 | 74.35750 | 174.5083 |\n",
       "| 1932 | 173.7358 | 175.9408 | 74.50250 | 174.5658 |\n",
       "| 1933 | 173.6767 | 175.8675 | 74.27583 | 174.5467 |\n",
       "| 1934 | 173.3317 | 175.7667 | 74.02167 | 174.2742 |\n",
       "| 1935 | 173.4108 | 175.8908 | 74.00417 | 174.3608 |\n",
       "| 1936 | 173.4883 | 175.9392 | 74.16417 | 174.3933 |\n",
       "| 1937 | 173.8200 | 175.9225 | 74.49583 | 174.6033 |\n",
       "| 1938 | 173.8408 | 176.1408 | 74.52250 | 174.6892 |\n",
       "| 1939 | 173.8458 | 176.2692 | 74.49250 | 174.7208 |\n",
       "| 1940 | 173.7950 | 176.1417 | 74.42583 | 174.6450 |\n",
       "| 1941 | 173.7000 | 176.1217 | 74.40750 | 174.5817 |\n",
       "| 1942 | 173.8767 | 176.3342 | 74.51667 | 174.7675 |\n",
       "| 1943 | 174.2317 | 176.6267 | 75.13417 | 175.1125 |\n",
       "| 1944 | 174.0917 | 176.5967 | 74.84583 | 174.9817 |\n",
       "| 1945 | 174.1883 | 176.5700 | 75.06000 | 175.0892 |\n",
       "| 1946 | 174.1358 | 176.6017 | 74.99333 | 175.0383 |\n",
       "| 1947 | 174.2350 | 176.5667 | 75.16917 | 175.1042 |\n",
       "| ⋮ | ⋮ | ⋮ | ⋮ | ⋮ |\n",
       "| 1980 | 174.5217 | 176.8033 | 74.82333 | 175.4075 |\n",
       "| 1981 | 174.3983 | 176.6983 | 74.78583 | 175.2958 |\n",
       "| 1982 | 174.4250 | 176.5983 | 74.75250 | 175.2992 |\n",
       "| 1983 | 174.5208 | 176.8333 | 74.82167 | 175.4333 |\n",
       "| 1984 | 174.5225 | 176.8950 | 74.90167 | 175.4350 |\n",
       "| 1985 | 174.7283 | 177.1267 | 74.87750 | 175.7000 |\n",
       "| 1986 | 174.8983 | 177.2925 | 75.14750 | 175.8517 |\n",
       "| 1987 | 174.6675 | 176.9700 | 74.84917 | 175.5608 |\n",
       "| 1988 | 174.2617 | 176.5642 | 74.68000 | 175.1933 |\n",
       "| 1989 | 174.2258 | 176.4008 | 74.76083 | 175.1092 |\n",
       "| 1990 | 174.2942 | 176.3500 | 74.80417 | 175.1308 |\n",
       "| 1991 | 174.3267 | 176.4692 | 74.87000 | 175.1975 |\n",
       "| 1992 | 174.3567 | 176.4792 | 74.83250 | 175.2200 |\n",
       "| 1993 | 174.5042 | 176.6958 | 75.04250 | 175.3808 |\n",
       "| 1994 | 174.3667 | 176.6783 | 74.75500 | 175.2900 |\n",
       "| 1995 | 174.2842 | 176.5275 | 74.73917 | 175.1833 |\n",
       "| 1996 | 174.3750 | 176.6542 | 74.87333 | 175.2467 |\n",
       "| 1997 | 174.7175 | 176.9842 | 74.96250 | 175.6125 |\n",
       "| 1998 | 174.5508 | 176.7167 | 74.91000 | 175.3975 |\n",
       "| 1999 | 174.1025 | 176.2358 | 74.57250 | 174.9758 |\n",
       "| 2000 | 173.9900 | 175.9783 | 74.78000 | 174.7925 |\n",
       "| 2001 | 173.9142 | 175.9508 | 74.69917 | 174.7617 |\n",
       "| 2002 | 174.0583 | 176.1183 | 74.79000 | 174.8833 |\n",
       "| 2003 | 173.9658 | 175.8917 | 74.71333 | 174.7375 |\n",
       "| 2004 | 174.1158 | 176.1108 | 74.84833 | 174.9167 |\n",
       "| 2005 | 174.1700 | 176.0900 | 74.82167 | 174.9383 |\n",
       "| 2006 | 174.1467 | 176.0158 | 74.83083 | 174.8917 |\n",
       "| 2007 | 174.1392 | 175.9433 | 74.75167 | 174.8483 |\n",
       "| 2008 | 174.1592 | 176.0050 | 74.87500 | 174.9200 |\n",
       "| 2009 | 174.2483 | 176.2583 | 74.87333 | 175.0767 |\n",
       "\n"
      ],
      "text/plain": [
       "   year Erie     michHuron Ontario  StClair \n",
       "1  1918 174.0150 176.8867  74.87250 174.9567\n",
       "2  1919 174.1808 176.7450  74.95583 175.0767\n",
       "3  1920 173.9083 176.6250  74.56750 174.8150\n",
       "4  1921 174.0258 176.4883  74.66583 174.8692\n",
       "5  1922 173.9275 176.4450  74.65667 174.8108\n",
       "6  1923 173.7575 176.2642  74.44333 174.6525\n",
       "7  1924 173.8433 176.1867  74.55750 174.6375\n",
       "8  1925 173.5933 175.9192  74.39000 174.4058\n",
       "9  1926 173.6408 175.8850  74.40250 174.4017\n",
       "10 1927 173.8183 176.1483  74.60667 174.5983\n",
       "11 1928 173.9517 176.4433  74.80083 174.8050\n",
       "12 1929 174.3117 176.8958  75.08500 175.2642\n",
       "13 1930 174.2700 176.6508  75.08083 175.0950\n",
       "14 1931 173.7050 176.1183  74.35750 174.5083\n",
       "15 1932 173.7358 175.9408  74.50250 174.5658\n",
       "16 1933 173.6767 175.8675  74.27583 174.5467\n",
       "17 1934 173.3317 175.7667  74.02167 174.2742\n",
       "18 1935 173.4108 175.8908  74.00417 174.3608\n",
       "19 1936 173.4883 175.9392  74.16417 174.3933\n",
       "20 1937 173.8200 175.9225  74.49583 174.6033\n",
       "21 1938 173.8408 176.1408  74.52250 174.6892\n",
       "22 1939 173.8458 176.2692  74.49250 174.7208\n",
       "23 1940 173.7950 176.1417  74.42583 174.6450\n",
       "24 1941 173.7000 176.1217  74.40750 174.5817\n",
       "25 1942 173.8767 176.3342  74.51667 174.7675\n",
       "26 1943 174.2317 176.6267  75.13417 175.1125\n",
       "27 1944 174.0917 176.5967  74.84583 174.9817\n",
       "28 1945 174.1883 176.5700  75.06000 175.0892\n",
       "29 1946 174.1358 176.6017  74.99333 175.0383\n",
       "30 1947 174.2350 176.5667  75.16917 175.1042\n",
       "⋮  ⋮    ⋮        ⋮         ⋮        ⋮       \n",
       "63 1980 174.5217 176.8033  74.82333 175.4075\n",
       "64 1981 174.3983 176.6983  74.78583 175.2958\n",
       "65 1982 174.4250 176.5983  74.75250 175.2992\n",
       "66 1983 174.5208 176.8333  74.82167 175.4333\n",
       "67 1984 174.5225 176.8950  74.90167 175.4350\n",
       "68 1985 174.7283 177.1267  74.87750 175.7000\n",
       "69 1986 174.8983 177.2925  75.14750 175.8517\n",
       "70 1987 174.6675 176.9700  74.84917 175.5608\n",
       "71 1988 174.2617 176.5642  74.68000 175.1933\n",
       "72 1989 174.2258 176.4008  74.76083 175.1092\n",
       "73 1990 174.2942 176.3500  74.80417 175.1308\n",
       "74 1991 174.3267 176.4692  74.87000 175.1975\n",
       "75 1992 174.3567 176.4792  74.83250 175.2200\n",
       "76 1993 174.5042 176.6958  75.04250 175.3808\n",
       "77 1994 174.3667 176.6783  74.75500 175.2900\n",
       "78 1995 174.2842 176.5275  74.73917 175.1833\n",
       "79 1996 174.3750 176.6542  74.87333 175.2467\n",
       "80 1997 174.7175 176.9842  74.96250 175.6125\n",
       "81 1998 174.5508 176.7167  74.91000 175.3975\n",
       "82 1999 174.1025 176.2358  74.57250 174.9758\n",
       "83 2000 173.9900 175.9783  74.78000 174.7925\n",
       "84 2001 173.9142 175.9508  74.69917 174.7617\n",
       "85 2002 174.0583 176.1183  74.79000 174.8833\n",
       "86 2003 173.9658 175.8917  74.71333 174.7375\n",
       "87 2004 174.1158 176.1108  74.84833 174.9167\n",
       "88 2005 174.1700 176.0900  74.82167 174.9383\n",
       "89 2006 174.1467 176.0158  74.83083 174.8917\n",
       "90 2007 174.1392 175.9433  74.75167 174.8483\n",
       "91 2008 174.1592 176.0050  74.87500 174.9200\n",
       "92 2009 174.2483 176.2583  74.87333 175.0767"
      ]
     },
     "metadata": {},
     "output_type": "display_data"
    }
   ],
   "source": [
    "ds"
   ]
  },
  {
   "cell_type": "code",
   "execution_count": 80,
   "id": "74385319",
   "metadata": {},
   "outputs": [
    {
     "data": {
      "text/html": [
       "<style>\n",
       ".list-inline {list-style: none; margin:0; padding: 0}\n",
       ".list-inline>li {display: inline-block}\n",
       ".list-inline>li:not(:last-child)::after {content: \"\\00b7\"; padding: 0 .5ex}\n",
       "</style>\n",
       "<ol class=list-inline><li>'year'</li><li>'Erie'</li><li>'michHuron'</li><li>'Ontario'</li><li>'StClair'</li></ol>\n"
      ],
      "text/latex": [
       "\\begin{enumerate*}\n",
       "\\item 'year'\n",
       "\\item 'Erie'\n",
       "\\item 'michHuron'\n",
       "\\item 'Ontario'\n",
       "\\item 'StClair'\n",
       "\\end{enumerate*}\n"
      ],
      "text/markdown": [
       "1. 'year'\n",
       "2. 'Erie'\n",
       "3. 'michHuron'\n",
       "4. 'Ontario'\n",
       "5. 'StClair'\n",
       "\n",
       "\n"
      ],
      "text/plain": [
       "[1] \"year\"      \"Erie\"      \"michHuron\" \"Ontario\"   \"StClair\"  "
      ]
     },
     "metadata": {},
     "output_type": "display_data"
    }
   ],
   "source": [
    "colnames(ds)"
   ]
  },
  {
   "cell_type": "code",
   "execution_count": 85,
   "id": "554b09cf",
   "metadata": {},
   "outputs": [
    {
     "data": {
      "image/png": "[encoded data removed]",
      "text/plain": [
       "Plot with title \"Eric 호 수위\""
      ]
     },
     "metadata": {
      "image/png": {
       "height": 420,
       "width": 420
      }
     },
     "output_type": "display_data"
    }
   ],
   "source": [
    "plot(ds$year, ds$Erie,\n",
    "    type='l',\n",
    "    lwd = 1,\n",
    "    lty = 1,\n",
    "    main = 'Eric 호 수위')"
   ]
  },
  {
   "cell_type": "code",
   "execution_count": 91,
   "id": "fe382d81",
   "metadata": {},
   "outputs": [
    {
     "data": {
      "image/png": "[encoded data removed]",
      "text/plain": [
       "Plot with title \"michHuron 호 수위\""
      ]
     },
     "metadata": {
      "image/png": {
       "height": 420,
       "width": 420
      }
     },
     "output_type": "display_data"
    }
   ],
   "source": [
    "plot(ds$year, ds$michHuron,\n",
    "    type='b',\n",
    "    lwd = 1,\n",
    "    lty = 1,\n",
    "    main = 'michHuron 호 수위',\n",
    "    xlab = '수위',\n",
    "    ylab = '연도',\n",
    "    col='skyblue')\n",
    "# type b는 아래와 같은 그래프를 그릴 때 사용한다!"
   ]
  },
  {
   "cell_type": "code",
   "execution_count": 92,
   "id": "1cc11dfb",
   "metadata": {},
   "outputs": [
    {
     "name": "stderr",
     "output_type": "stream",
     "text": [
      "Warning message:\n",
      "\"package 'carData' was built under R version 4.3.2\"\n"
     ]
    }
   ],
   "source": [
    "library(carData)"
   ]
  },
  {
   "cell_type": "code",
   "execution_count": 93,
   "id": "c92273d7",
   "metadata": {},
   "outputs": [],
   "source": [
    "ds = table(MplsStops$race)"
   ]
  },
  {
   "cell_type": "code",
   "execution_count": 94,
   "id": "3f516b33",
   "metadata": {},
   "outputs": [
    {
     "data": {
      "image/png": "[encoded data removed]",
      "text/plain": [
       "plot without title"
      ]
     },
     "metadata": {
      "image/png": {
       "height": 420,
       "width": 420
      }
     },
     "output_type": "display_data"
    }
   ],
   "source": [
    "pie(ds)"
   ]
  },
  {
   "cell_type": "code",
   "execution_count": 96,
   "id": "dcfd4733",
   "metadata": {},
   "outputs": [
    {
     "data": {
      "image/png": "[encoded data removed]",
      "text/plain": [
       "plot without title"
      ]
     },
     "metadata": {
      "image/png": {
       "height": 420,
       "width": 420
      }
     },
     "output_type": "display_data"
    }
   ],
   "source": [
    "pie(table(MplsStops$problem),\n",
    "   col = c('red','blue'))"
   ]
  },
  {
   "cell_type": "code",
   "execution_count": 97,
   "id": "964013cc",
   "metadata": {},
   "outputs": [
    {
     "data": {
      "text/html": [
       "<table class=\"dataframe\">\n",
       "<caption>A data.frame: 25822 × 14</caption>\n",
       "<thead>\n",
       "\t<tr><th></th><th scope=col>idNum</th><th scope=col>date</th><th scope=col>problem</th><th scope=col>MDC</th><th scope=col>citationIssued</th><th scope=col>personSearch</th><th scope=col>vehicleSearch</th><th scope=col>preRace</th><th scope=col>race</th><th scope=col>gender</th><th scope=col>lat</th><th scope=col>long</th><th scope=col>policePrecinct</th><th scope=col>neighborhood</th></tr>\n",
       "\t<tr><th></th><th scope=col>&lt;fct&gt;</th><th scope=col>&lt;dttm&gt;</th><th scope=col>&lt;fct&gt;</th><th scope=col>&lt;fct&gt;</th><th scope=col>&lt;fct&gt;</th><th scope=col>&lt;fct&gt;</th><th scope=col>&lt;fct&gt;</th><th scope=col>&lt;fct&gt;</th><th scope=col>&lt;fct&gt;</th><th scope=col>&lt;fct&gt;</th><th scope=col>&lt;dbl&gt;</th><th scope=col>&lt;dbl&gt;</th><th scope=col>&lt;int&gt;</th><th scope=col>&lt;fct&gt;</th></tr>\n",
       "</thead>\n",
       "<tbody>\n",
       "\t<tr><th scope=row>6823</th><td>17-000003</td><td>2017-01-01 00:00:42</td><td>suspicious</td><td>MDC  </td><td>NA</td><td>NO </td><td>NO</td><td>Unknown</td><td>Unknown        </td><td>Unknown</td><td>44.96662</td><td>-93.24646</td><td>1</td><td>Cedar Riverside                 </td></tr>\n",
       "\t<tr><th scope=row>6824</th><td>17-000007</td><td>2017-01-01 00:03:07</td><td>suspicious</td><td>MDC  </td><td>NA</td><td>NO </td><td>NO</td><td>Unknown</td><td>Unknown        </td><td>Male   </td><td>44.98045</td><td>-93.27134</td><td>1</td><td>Downtown West                   </td></tr>\n",
       "\t<tr><th scope=row>6826</th><td>17-000092</td><td>2017-01-01 00:33:48</td><td>suspicious</td><td>MDC  </td><td>NA</td><td>NO </td><td>NO</td><td>Unknown</td><td>East African   </td><td>Male   </td><td>44.94836</td><td>-93.28135</td><td>5</td><td>Whittier                        </td></tr>\n",
       "\t<tr><th scope=row>6829</th><td>17-000114</td><td>2017-01-01 00:48:46</td><td>suspicious</td><td>MDC  </td><td>NA</td><td>NO </td><td>NO</td><td>Unknown</td><td>Black          </td><td>Male   </td><td>44.98081</td><td>-93.27314</td><td>1</td><td>Downtown West                   </td></tr>\n",
       "\t<tr><th scope=row>6833</th><td>17-000149</td><td>2017-01-01 01:09:13</td><td>suspicious</td><td>MDC  </td><td>NA</td><td>NO </td><td>NO</td><td>White  </td><td>Unknown        </td><td>Male   </td><td>44.96458</td><td>-93.27658</td><td>5</td><td>Steven's Square - Loring Heights</td></tr>\n",
       "\t<tr><th scope=row>6837</th><td>17-000204</td><td>2017-01-01 01:41:24</td><td>suspicious</td><td>MDC  </td><td>NA</td><td>NO </td><td>NO</td><td>Unknown</td><td>White          </td><td>Female </td><td>44.98045</td><td>-93.27134</td><td>1</td><td>Downtown West                   </td></tr>\n",
       "\t<tr><th scope=row>6838</th><td>17-000211</td><td>2017-01-01 01:45:09</td><td>suspicious</td><td>MDC  </td><td>NA</td><td>NO </td><td>NO</td><td>Unknown</td><td>Unknown        </td><td>Unknown</td><td>44.98078</td><td>-93.27430</td><td>1</td><td>Downtown West                   </td></tr>\n",
       "\t<tr><th scope=row>6839</th><td>17-000220</td><td>2017-01-01 01:51:02</td><td>suspicious</td><td>MDC  </td><td>NA</td><td>NO </td><td>NO</td><td>Unknown</td><td>White          </td><td>Female </td><td>44.99150</td><td>-93.30572</td><td>4</td><td>Willard - Hay                   </td></tr>\n",
       "\t<tr><th scope=row>6840</th><td>17-000224</td><td>2017-01-01 01:52:52</td><td>suspicious</td><td>other</td><td>NA</td><td>NA </td><td>NA</td><td>NA     </td><td>NA             </td><td>NA     </td><td>44.98124</td><td>-93.27254</td><td>1</td><td>Downtown West                   </td></tr>\n",
       "\t<tr><th scope=row>6842</th><td>17-000236</td><td>2017-01-01 02:04:13</td><td>suspicious</td><td>MDC  </td><td>NA</td><td>NO </td><td>NO</td><td>Black  </td><td>Unknown        </td><td>Male   </td><td>44.94925</td><td>-93.29573</td><td>5</td><td>Lowry Hill East                 </td></tr>\n",
       "\t<tr><th scope=row>6845</th><td>17-000290</td><td>2017-01-01 02:33:22</td><td>suspicious</td><td>MDC  </td><td>NA</td><td>YES</td><td>NO</td><td>Black  </td><td>Black          </td><td>Male   </td><td>44.98074</td><td>-93.28960</td><td>4</td><td>Sumner - Glenwood               </td></tr>\n",
       "\t<tr><th scope=row>6851</th><td>17-000365</td><td>2017-01-01 03:16:11</td><td>suspicious</td><td>other</td><td>NA</td><td>NA </td><td>NA</td><td>NA     </td><td>NA             </td><td>NA     </td><td>45.01044</td><td>-93.29306</td><td>4</td><td>Hawthorne                       </td></tr>\n",
       "\t<tr><th scope=row>6853</th><td>17-000388</td><td>2017-01-01 03:26:59</td><td>suspicious</td><td>MDC  </td><td>NA</td><td>NO </td><td>NO</td><td>Unknown</td><td>Unknown        </td><td>Unknown</td><td>44.95464</td><td>-93.28131</td><td>5</td><td>Whittier                        </td></tr>\n",
       "\t<tr><th scope=row>6854</th><td>17-000395</td><td>2017-01-01 03:33:29</td><td>suspicious</td><td>MDC  </td><td>NA</td><td>NO </td><td>NO</td><td>Black  </td><td>Unknown        </td><td>Unknown</td><td>45.02393</td><td>-93.23904</td><td>2</td><td>Audubon Park                    </td></tr>\n",
       "\t<tr><th scope=row>6855</th><td>17-000414</td><td>2017-01-01 04:00:02</td><td>suspicious</td><td>other</td><td>NA</td><td>NA </td><td>NA</td><td>NA     </td><td>NA             </td><td>NA     </td><td>44.97246</td><td>-93.26489</td><td>1</td><td>Elliot Park                     </td></tr>\n",
       "\t<tr><th scope=row>6856</th><td>17-000421</td><td>2017-01-01 04:05:54</td><td>suspicious</td><td>other</td><td>NA</td><td>NA </td><td>NA</td><td>NA     </td><td>NA             </td><td>NA     </td><td>44.99150</td><td>-93.30509</td><td>4</td><td>Willard - Hay                   </td></tr>\n",
       "\t<tr><th scope=row>6857</th><td>17-000426</td><td>2017-01-01 04:20:33</td><td>suspicious</td><td>other</td><td>NA</td><td>NA </td><td>NA</td><td>NA     </td><td>NA             </td><td>NA     </td><td>44.90901</td><td>-93.21456</td><td>3</td><td>Minnehaha                       </td></tr>\n",
       "\t<tr><th scope=row>6861</th><td>17-000488</td><td>2017-01-01 06:47:07</td><td>suspicious</td><td>MDC  </td><td>NA</td><td>NO </td><td>NO</td><td>Black  </td><td>Unknown        </td><td>Unknown</td><td>44.94044</td><td>-93.27792</td><td>5</td><td>Lyndale                         </td></tr>\n",
       "\t<tr><th scope=row>6863</th><td>17-000536</td><td>2017-01-01 09:02:59</td><td>suspicious</td><td>MDC  </td><td>NA</td><td>NO </td><td>NO</td><td>Black  </td><td>Unknown        </td><td>Male   </td><td>44.97092</td><td>-93.25508</td><td>1</td><td>Downtown East                   </td></tr>\n",
       "\t<tr><th scope=row>6864</th><td>17-000547</td><td>2017-01-01 09:48:36</td><td>suspicious</td><td>MDC  </td><td>NA</td><td>NO </td><td>NO</td><td>Unknown</td><td>Unknown        </td><td>Unknown</td><td>44.93863</td><td>-93.24228</td><td>3</td><td>Corcoran                        </td></tr>\n",
       "\t<tr><th scope=row>6865</th><td>17-000549</td><td>2017-01-01 09:51:43</td><td>suspicious</td><td>MDC  </td><td>NA</td><td>NO </td><td>NO</td><td>Unknown</td><td>Unknown        </td><td>Unknown</td><td>44.93773</td><td>-93.24058</td><td>3</td><td>Standish                        </td></tr>\n",
       "\t<tr><th scope=row>6867</th><td>17-000576</td><td>2017-01-01 10:41:29</td><td>suspicious</td><td>MDC  </td><td>NA</td><td>NO </td><td>NO</td><td>Unknown</td><td>Unknown        </td><td>Unknown</td><td>45.04118</td><td>-93.29786</td><td>4</td><td>Lind - Bohanon                  </td></tr>\n",
       "\t<tr><th scope=row>6868</th><td>17-000601</td><td>2017-01-01 11:49:49</td><td>suspicious</td><td>other</td><td>NA</td><td>NA </td><td>NA</td><td>NA     </td><td>NA             </td><td>NA     </td><td>45.02121</td><td>-93.28804</td><td>4</td><td>McKinley                        </td></tr>\n",
       "\t<tr><th scope=row>6869</th><td>17-000619</td><td>2017-01-01 12:43:26</td><td>suspicious</td><td>MDC  </td><td>NA</td><td>YES</td><td>NO</td><td>Unknown</td><td>Black          </td><td>Male   </td><td>45.04843</td><td>-93.29407</td><td>4</td><td>Lind - Bohanon                  </td></tr>\n",
       "\t<tr><th scope=row>6871</th><td>17-000637</td><td>2017-01-01 13:24:55</td><td>suspicious</td><td>MDC  </td><td>NA</td><td>NO </td><td>NO</td><td>Other  </td><td>Other          </td><td>Unknown</td><td>44.93770</td><td>-93.28627</td><td>5</td><td>King Field                      </td></tr>\n",
       "\t<tr><th scope=row>6872</th><td>17-000639</td><td>2017-01-01 13:34:06</td><td>suspicious</td><td>MDC  </td><td>NA</td><td>NO </td><td>NO</td><td>Other  </td><td>Other          </td><td>Unknown</td><td>44.93951</td><td>-93.29265</td><td>5</td><td>CARAG                           </td></tr>\n",
       "\t<tr><th scope=row>6873</th><td>17-000646</td><td>2017-01-01 13:41:02</td><td>suspicious</td><td>MDC  </td><td>NA</td><td>NO </td><td>NO</td><td>Other  </td><td>Other          </td><td>Unknown</td><td>44.94041</td><td>-93.29200</td><td>5</td><td>CARAG                           </td></tr>\n",
       "\t<tr><th scope=row>6874</th><td>17-000651</td><td>2017-01-01 13:47:54</td><td>suspicious</td><td>other</td><td>NA</td><td>NA </td><td>NA</td><td>NA     </td><td>NA             </td><td>NA     </td><td>45.03940</td><td>-93.29015</td><td>4</td><td>Lind - Bohanon                  </td></tr>\n",
       "\t<tr><th scope=row>6875</th><td>17-000668</td><td>2017-01-01 14:38:12</td><td>suspicious</td><td>MDC  </td><td>NA</td><td>NO </td><td>NO</td><td>Unknown</td><td>Unknown        </td><td>Unknown</td><td>44.92955</td><td>-93.28439</td><td>5</td><td>King Field                      </td></tr>\n",
       "\t<tr><th scope=row>6876</th><td>17-000713</td><td>2017-01-01 15:36:30</td><td>suspicious</td><td>MDC  </td><td>NA</td><td>YES</td><td>NO</td><td>Unknown</td><td>Native American</td><td>Male   </td><td>44.95373</td><td>-93.25627</td><td>3</td><td>Midtown Phillips                </td></tr>\n",
       "\t<tr><th scope=row>⋮</th><td>⋮</td><td>⋮</td><td>⋮</td><td>⋮</td><td>⋮</td><td>⋮</td><td>⋮</td><td>⋮</td><td>⋮</td><td>⋮</td><td>⋮</td><td>⋮</td><td>⋮</td><td>⋮</td></tr>\n",
       "\t<tr><th scope=row>60774</th><td>17-490578</td><td>2017-12-31 00:10:08</td><td>suspicious</td><td>MDC  </td><td>NO </td><td>NO </td><td>NO </td><td>Unknown</td><td>Latino         </td><td>Male   </td><td>45.00598</td><td>-93.23717</td><td>2</td><td>Windom Park     </td></tr>\n",
       "\t<tr><th scope=row>60777</th><td>17-490585</td><td>2017-12-31 00:19:18</td><td>suspicious</td><td>MDC  </td><td>NO </td><td>NO </td><td>NO </td><td>Unknown</td><td>White          </td><td>Male   </td><td>44.98083</td><td>-93.27196</td><td>1</td><td>Downtown West   </td></tr>\n",
       "\t<tr><th scope=row>60782</th><td>17-490611</td><td>2017-12-31 00:43:51</td><td>suspicious</td><td>MDC  </td><td>NO </td><td>NO </td><td>NO </td><td>Unknown</td><td>Unknown        </td><td>Unknown</td><td>45.02133</td><td>-93.30320</td><td>4</td><td>Folwell         </td></tr>\n",
       "\t<tr><th scope=row>60784</th><td>17-490618</td><td>2017-12-31 00:53:04</td><td>suspicious</td><td>other</td><td>NA </td><td>NA </td><td>NA </td><td>NA     </td><td>NA             </td><td>NA     </td><td>44.93863</td><td>-93.27791</td><td>5</td><td>Lyndale         </td></tr>\n",
       "\t<tr><th scope=row>60786</th><td>17-490637</td><td>2017-12-31 01:20:34</td><td>suspicious</td><td>MDC  </td><td>NO </td><td>NO </td><td>NO </td><td>Unknown</td><td>White          </td><td>Male   </td><td>44.93498</td><td>-93.28823</td><td>5</td><td>King Field      </td></tr>\n",
       "\t<tr><th scope=row>60788</th><td>17-490682</td><td>2017-12-31 02:11:44</td><td>suspicious</td><td>MDC  </td><td>YES</td><td>NO </td><td>NO </td><td>Unknown</td><td>White          </td><td>Male   </td><td>44.94748</td><td>-93.28811</td><td>5</td><td>Lyndale         </td></tr>\n",
       "\t<tr><th scope=row>60792</th><td>17-490704</td><td>2017-12-31 02:31:37</td><td>suspicious</td><td>MDC  </td><td>NO </td><td>NO </td><td>NO </td><td>Unknown</td><td>Unknown        </td><td>Unknown</td><td>44.94837</td><td>-93.25314</td><td>3</td><td>Midtown Phillips</td></tr>\n",
       "\t<tr><th scope=row>60793</th><td>17-490705</td><td>2017-12-31 02:32:08</td><td>suspicious</td><td>MDC  </td><td>NO </td><td>NO </td><td>NO </td><td>White  </td><td>White          </td><td>Female </td><td>44.91628</td><td>-93.24794</td><td>3</td><td>Northrop        </td></tr>\n",
       "\t<tr><th scope=row>60794</th><td>17-490722</td><td>2017-12-31 02:54:42</td><td>suspicious</td><td>MDC  </td><td>NO </td><td>NO </td><td>NO </td><td>Unknown</td><td>Black          </td><td>Male   </td><td>44.97501</td><td>-93.27707</td><td>1</td><td>Downtown West   </td></tr>\n",
       "\t<tr><th scope=row>60798</th><td>17-490915</td><td>2017-12-31 11:35:43</td><td>suspicious</td><td>other</td><td>NA </td><td>NA </td><td>NA </td><td>NA     </td><td>NA             </td><td>NA     </td><td>44.97894</td><td>-93.28953</td><td>4</td><td>Harrison        </td></tr>\n",
       "\t<tr><th scope=row>60799</th><td>17-490957</td><td>2017-12-31 12:58:22</td><td>suspicious</td><td>MDC  </td><td>NO </td><td>NO </td><td>NO </td><td>Unknown</td><td>Unknown        </td><td>Unknown</td><td>44.95464</td><td>-93.28678</td><td>5</td><td>Whittier        </td></tr>\n",
       "\t<tr><th scope=row>60800</th><td>17-490971</td><td>2017-12-31 13:14:17</td><td>suspicious</td><td>MDC  </td><td>NO </td><td>NO </td><td>NO </td><td>Unknown</td><td>Unknown        </td><td>Unknown</td><td>44.93684</td><td>-93.25241</td><td>3</td><td>Powderhorn Park </td></tr>\n",
       "\t<tr><th scope=row>60802</th><td>17-490994</td><td>2017-12-31 14:01:34</td><td>suspicious</td><td>MDC  </td><td>NO </td><td>NO </td><td>NO </td><td>Black  </td><td>Black          </td><td>Male   </td><td>44.98123</td><td>-93.26859</td><td>1</td><td>Downtown West   </td></tr>\n",
       "\t<tr><th scope=row>60803</th><td>17-491005</td><td>2017-12-31 14:23:18</td><td>suspicious</td><td>MDC  </td><td>NO </td><td>NO </td><td>NO </td><td>Unknown</td><td>Unknown        </td><td>Unknown</td><td>44.94835</td><td>-93.27095</td><td>3</td><td>Phillips West   </td></tr>\n",
       "\t<tr><th scope=row>60804</th><td>17-491040</td><td>2017-12-31 15:14:37</td><td>suspicious</td><td>other</td><td>NA </td><td>NA </td><td>NA </td><td>NA     </td><td>NA             </td><td>NA     </td><td>44.99791</td><td>-93.31462</td><td>4</td><td>Willard - Hay   </td></tr>\n",
       "\t<tr><th scope=row>60805</th><td>17-491132</td><td>2017-12-31 17:50:40</td><td>suspicious</td><td>other</td><td>NA </td><td>NA </td><td>NA </td><td>NA     </td><td>NA             </td><td>NA     </td><td>45.00848</td><td>-93.31403</td><td>4</td><td>Willard - Hay   </td></tr>\n",
       "\t<tr><th scope=row>60807</th><td>17-491162</td><td>2017-12-31 18:17:52</td><td>suspicious</td><td>MDC  </td><td>NO </td><td>NO </td><td>NO </td><td>Unknown</td><td>White          </td><td>Male   </td><td>45.01316</td><td>-93.24734</td><td>2</td><td>Audubon Park    </td></tr>\n",
       "\t<tr><th scope=row>60811</th><td>17-491221</td><td>2017-12-31 19:17:41</td><td>suspicious</td><td>MDC  </td><td>NO </td><td>NO </td><td>NO </td><td>Unknown</td><td>White          </td><td>Male   </td><td>44.94920</td><td>-93.29319</td><td>5</td><td>Lowry Hill East </td></tr>\n",
       "\t<tr><th scope=row>60815</th><td>17-491245</td><td>2017-12-31 19:57:58</td><td>suspicious</td><td>MDC  </td><td>NO </td><td>NO </td><td>NO </td><td>Unknown</td><td>Unknown        </td><td>Unknown</td><td>44.98262</td><td>-93.29820</td><td>4</td><td>Harrison        </td></tr>\n",
       "\t<tr><th scope=row>60816</th><td>17-491247</td><td>2017-12-31 20:02:09</td><td>suspicious</td><td>other</td><td>NA </td><td>NA </td><td>NA </td><td>NA     </td><td>NA             </td><td>NA     </td><td>44.98598</td><td>-93.28148</td><td>1</td><td>North Loop      </td></tr>\n",
       "\t<tr><th scope=row>60818</th><td>17-491250</td><td>2017-12-31 20:04:07</td><td>suspicious</td><td>MDC  </td><td>NO </td><td>NO </td><td>NO </td><td>Unknown</td><td>Black          </td><td>Male   </td><td>44.92953</td><td>-93.28827</td><td>5</td><td>East Harriet    </td></tr>\n",
       "\t<tr><th scope=row>60821</th><td>17-491261</td><td>2017-12-31 20:26:41</td><td>suspicious</td><td>other</td><td>NA </td><td>NA </td><td>NA </td><td>NA     </td><td>NA             </td><td>NA     </td><td>44.95644</td><td>-93.25497</td><td>3</td><td>Midtown Phillips</td></tr>\n",
       "\t<tr><th scope=row>60823</th><td>17-491265</td><td>2017-12-31 20:30:39</td><td>suspicious</td><td>MDC  </td><td>YES</td><td>YES</td><td>YES</td><td>Unknown</td><td>Native American</td><td>Female </td><td>44.98104</td><td>-93.23717</td><td>2</td><td>Marcy Holmes    </td></tr>\n",
       "\t<tr><th scope=row>60825</th><td>17-491324</td><td>2017-12-31 21:31:17</td><td>suspicious</td><td>MDC  </td><td>NO </td><td>YES</td><td>NO </td><td>Unknown</td><td>Native American</td><td>Female </td><td>44.95646</td><td>-93.24735</td><td>3</td><td>East Phillips   </td></tr>\n",
       "\t<tr><th scope=row>60828</th><td>17-491351</td><td>2017-12-31 21:56:33</td><td>suspicious</td><td>MDC  </td><td>NO </td><td>NO </td><td>NO </td><td>Unknown</td><td>Unknown        </td><td>Unknown</td><td>45.04843</td><td>-93.29407</td><td>4</td><td>Lind - Bohanon  </td></tr>\n",
       "\t<tr><th scope=row>60829</th><td>17-491366</td><td>2017-12-31 22:07:19</td><td>suspicious</td><td>MDC  </td><td>NO </td><td>NO </td><td>NO </td><td>Unknown</td><td>Unknown        </td><td>Male   </td><td>45.02304</td><td>-93.29058</td><td>4</td><td>McKinley        </td></tr>\n",
       "\t<tr><th scope=row>60831</th><td>17-491414</td><td>2017-12-31 22:50:49</td><td>suspicious</td><td>other</td><td>NA </td><td>NA </td><td>NA </td><td>NA     </td><td>NA             </td><td>NA     </td><td>44.96986</td><td>-93.28008</td><td>1</td><td>Loring Park     </td></tr>\n",
       "\t<tr><th scope=row>60832</th><td>17-491435</td><td>2017-12-31 23:08:18</td><td>suspicious</td><td>other</td><td>NA </td><td>NA </td><td>NA </td><td>NA     </td><td>NA             </td><td>NA     </td><td>45.01497</td><td>-93.24734</td><td>2</td><td>Holland         </td></tr>\n",
       "\t<tr><th scope=row>60833</th><td>17-491438</td><td>2017-12-31 23:11:15</td><td>suspicious</td><td>MDC  </td><td>NO </td><td>NO </td><td>NO </td><td>Unknown</td><td>Unknown        </td><td>Unknown</td><td>44.93141</td><td>-93.23466</td><td>3</td><td>Standish        </td></tr>\n",
       "\t<tr><th scope=row>60835</th><td>17-491445</td><td>2017-12-31 23:18:32</td><td>suspicious</td><td>MDC  </td><td>NO </td><td>NO </td><td>NO </td><td>Unknown</td><td>Unknown        </td><td>Unknown</td><td>44.95915</td><td>-93.27785</td><td>5</td><td>Whittier        </td></tr>\n",
       "</tbody>\n",
       "</table>\n"
      ],
      "text/latex": [
       "A data.frame: 25822 × 14\n",
       "\\begin{tabular}{r|llllllllllllll}\n",
       "  & idNum & date & problem & MDC & citationIssued & personSearch & vehicleSearch & preRace & race & gender & lat & long & policePrecinct & neighborhood\\\\\n",
       "  & <fct> & <dttm> & <fct> & <fct> & <fct> & <fct> & <fct> & <fct> & <fct> & <fct> & <dbl> & <dbl> & <int> & <fct>\\\\\n",
       "\\hline\n",
       "\t6823 & 17-000003 & 2017-01-01 00:00:42 & suspicious & MDC   & NA & NO  & NO & Unknown & Unknown         & Unknown & 44.96662 & -93.24646 & 1 & Cedar Riverside                 \\\\\n",
       "\t6824 & 17-000007 & 2017-01-01 00:03:07 & suspicious & MDC   & NA & NO  & NO & Unknown & Unknown         & Male    & 44.98045 & -93.27134 & 1 & Downtown West                   \\\\\n",
       "\t6826 & 17-000092 & 2017-01-01 00:33:48 & suspicious & MDC   & NA & NO  & NO & Unknown & East African    & Male    & 44.94836 & -93.28135 & 5 & Whittier                        \\\\\n",
       "\t6829 & 17-000114 & 2017-01-01 00:48:46 & suspicious & MDC   & NA & NO  & NO & Unknown & Black           & Male    & 44.98081 & -93.27314 & 1 & Downtown West                   \\\\\n",
       "\t6833 & 17-000149 & 2017-01-01 01:09:13 & suspicious & MDC   & NA & NO  & NO & White   & Unknown         & Male    & 44.96458 & -93.27658 & 5 & Steven's Square - Loring Heights\\\\\n",
       "\t6837 & 17-000204 & 2017-01-01 01:41:24 & suspicious & MDC   & NA & NO  & NO & Unknown & White           & Female  & 44.98045 & -93.27134 & 1 & Downtown West                   \\\\\n",
       "\t6838 & 17-000211 & 2017-01-01 01:45:09 & suspicious & MDC   & NA & NO  & NO & Unknown & Unknown         & Unknown & 44.98078 & -93.27430 & 1 & Downtown West                   \\\\\n",
       "\t6839 & 17-000220 & 2017-01-01 01:51:02 & suspicious & MDC   & NA & NO  & NO & Unknown & White           & Female  & 44.99150 & -93.30572 & 4 & Willard - Hay                   \\\\\n",
       "\t6840 & 17-000224 & 2017-01-01 01:52:52 & suspicious & other & NA & NA  & NA & NA      & NA              & NA      & 44.98124 & -93.27254 & 1 & Downtown West                   \\\\\n",
       "\t6842 & 17-000236 & 2017-01-01 02:04:13 & suspicious & MDC   & NA & NO  & NO & Black   & Unknown         & Male    & 44.94925 & -93.29573 & 5 & Lowry Hill East                 \\\\\n",
       "\t6845 & 17-000290 & 2017-01-01 02:33:22 & suspicious & MDC   & NA & YES & NO & Black   & Black           & Male    & 44.98074 & -93.28960 & 4 & Sumner - Glenwood               \\\\\n",
       "\t6851 & 17-000365 & 2017-01-01 03:16:11 & suspicious & other & NA & NA  & NA & NA      & NA              & NA      & 45.01044 & -93.29306 & 4 & Hawthorne                       \\\\\n",
       "\t6853 & 17-000388 & 2017-01-01 03:26:59 & suspicious & MDC   & NA & NO  & NO & Unknown & Unknown         & Unknown & 44.95464 & -93.28131 & 5 & Whittier                        \\\\\n",
       "\t6854 & 17-000395 & 2017-01-01 03:33:29 & suspicious & MDC   & NA & NO  & NO & Black   & Unknown         & Unknown & 45.02393 & -93.23904 & 2 & Audubon Park                    \\\\\n",
       "\t6855 & 17-000414 & 2017-01-01 04:00:02 & suspicious & other & NA & NA  & NA & NA      & NA              & NA      & 44.97246 & -93.26489 & 1 & Elliot Park                     \\\\\n",
       "\t6856 & 17-000421 & 2017-01-01 04:05:54 & suspicious & other & NA & NA  & NA & NA      & NA              & NA      & 44.99150 & -93.30509 & 4 & Willard - Hay                   \\\\\n",
       "\t6857 & 17-000426 & 2017-01-01 04:20:33 & suspicious & other & NA & NA  & NA & NA      & NA              & NA      & 44.90901 & -93.21456 & 3 & Minnehaha                       \\\\\n",
       "\t6861 & 17-000488 & 2017-01-01 06:47:07 & suspicious & MDC   & NA & NO  & NO & Black   & Unknown         & Unknown & 44.94044 & -93.27792 & 5 & Lyndale                         \\\\\n",
       "\t6863 & 17-000536 & 2017-01-01 09:02:59 & suspicious & MDC   & NA & NO  & NO & Black   & Unknown         & Male    & 44.97092 & -93.25508 & 1 & Downtown East                   \\\\\n",
       "\t6864 & 17-000547 & 2017-01-01 09:48:36 & suspicious & MDC   & NA & NO  & NO & Unknown & Unknown         & Unknown & 44.93863 & -93.24228 & 3 & Corcoran                        \\\\\n",
       "\t6865 & 17-000549 & 2017-01-01 09:51:43 & suspicious & MDC   & NA & NO  & NO & Unknown & Unknown         & Unknown & 44.93773 & -93.24058 & 3 & Standish                        \\\\\n",
       "\t6867 & 17-000576 & 2017-01-01 10:41:29 & suspicious & MDC   & NA & NO  & NO & Unknown & Unknown         & Unknown & 45.04118 & -93.29786 & 4 & Lind - Bohanon                  \\\\\n",
       "\t6868 & 17-000601 & 2017-01-01 11:49:49 & suspicious & other & NA & NA  & NA & NA      & NA              & NA      & 45.02121 & -93.28804 & 4 & McKinley                        \\\\\n",
       "\t6869 & 17-000619 & 2017-01-01 12:43:26 & suspicious & MDC   & NA & YES & NO & Unknown & Black           & Male    & 45.04843 & -93.29407 & 4 & Lind - Bohanon                  \\\\\n",
       "\t6871 & 17-000637 & 2017-01-01 13:24:55 & suspicious & MDC   & NA & NO  & NO & Other   & Other           & Unknown & 44.93770 & -93.28627 & 5 & King Field                      \\\\\n",
       "\t6872 & 17-000639 & 2017-01-01 13:34:06 & suspicious & MDC   & NA & NO  & NO & Other   & Other           & Unknown & 44.93951 & -93.29265 & 5 & CARAG                           \\\\\n",
       "\t6873 & 17-000646 & 2017-01-01 13:41:02 & suspicious & MDC   & NA & NO  & NO & Other   & Other           & Unknown & 44.94041 & -93.29200 & 5 & CARAG                           \\\\\n",
       "\t6874 & 17-000651 & 2017-01-01 13:47:54 & suspicious & other & NA & NA  & NA & NA      & NA              & NA      & 45.03940 & -93.29015 & 4 & Lind - Bohanon                  \\\\\n",
       "\t6875 & 17-000668 & 2017-01-01 14:38:12 & suspicious & MDC   & NA & NO  & NO & Unknown & Unknown         & Unknown & 44.92955 & -93.28439 & 5 & King Field                      \\\\\n",
       "\t6876 & 17-000713 & 2017-01-01 15:36:30 & suspicious & MDC   & NA & YES & NO & Unknown & Native American & Male    & 44.95373 & -93.25627 & 3 & Midtown Phillips                \\\\\n",
       "\t⋮ & ⋮ & ⋮ & ⋮ & ⋮ & ⋮ & ⋮ & ⋮ & ⋮ & ⋮ & ⋮ & ⋮ & ⋮ & ⋮ & ⋮\\\\\n",
       "\t60774 & 17-490578 & 2017-12-31 00:10:08 & suspicious & MDC   & NO  & NO  & NO  & Unknown & Latino          & Male    & 45.00598 & -93.23717 & 2 & Windom Park     \\\\\n",
       "\t60777 & 17-490585 & 2017-12-31 00:19:18 & suspicious & MDC   & NO  & NO  & NO  & Unknown & White           & Male    & 44.98083 & -93.27196 & 1 & Downtown West   \\\\\n",
       "\t60782 & 17-490611 & 2017-12-31 00:43:51 & suspicious & MDC   & NO  & NO  & NO  & Unknown & Unknown         & Unknown & 45.02133 & -93.30320 & 4 & Folwell         \\\\\n",
       "\t60784 & 17-490618 & 2017-12-31 00:53:04 & suspicious & other & NA  & NA  & NA  & NA      & NA              & NA      & 44.93863 & -93.27791 & 5 & Lyndale         \\\\\n",
       "\t60786 & 17-490637 & 2017-12-31 01:20:34 & suspicious & MDC   & NO  & NO  & NO  & Unknown & White           & Male    & 44.93498 & -93.28823 & 5 & King Field      \\\\\n",
       "\t60788 & 17-490682 & 2017-12-31 02:11:44 & suspicious & MDC   & YES & NO  & NO  & Unknown & White           & Male    & 44.94748 & -93.28811 & 5 & Lyndale         \\\\\n",
       "\t60792 & 17-490704 & 2017-12-31 02:31:37 & suspicious & MDC   & NO  & NO  & NO  & Unknown & Unknown         & Unknown & 44.94837 & -93.25314 & 3 & Midtown Phillips\\\\\n",
       "\t60793 & 17-490705 & 2017-12-31 02:32:08 & suspicious & MDC   & NO  & NO  & NO  & White   & White           & Female  & 44.91628 & -93.24794 & 3 & Northrop        \\\\\n",
       "\t60794 & 17-490722 & 2017-12-31 02:54:42 & suspicious & MDC   & NO  & NO  & NO  & Unknown & Black           & Male    & 44.97501 & -93.27707 & 1 & Downtown West   \\\\\n",
       "\t60798 & 17-490915 & 2017-12-31 11:35:43 & suspicious & other & NA  & NA  & NA  & NA      & NA              & NA      & 44.97894 & -93.28953 & 4 & Harrison        \\\\\n",
       "\t60799 & 17-490957 & 2017-12-31 12:58:22 & suspicious & MDC   & NO  & NO  & NO  & Unknown & Unknown         & Unknown & 44.95464 & -93.28678 & 5 & Whittier        \\\\\n",
       "\t60800 & 17-490971 & 2017-12-31 13:14:17 & suspicious & MDC   & NO  & NO  & NO  & Unknown & Unknown         & Unknown & 44.93684 & -93.25241 & 3 & Powderhorn Park \\\\\n",
       "\t60802 & 17-490994 & 2017-12-31 14:01:34 & suspicious & MDC   & NO  & NO  & NO  & Black   & Black           & Male    & 44.98123 & -93.26859 & 1 & Downtown West   \\\\\n",
       "\t60803 & 17-491005 & 2017-12-31 14:23:18 & suspicious & MDC   & NO  & NO  & NO  & Unknown & Unknown         & Unknown & 44.94835 & -93.27095 & 3 & Phillips West   \\\\\n",
       "\t60804 & 17-491040 & 2017-12-31 15:14:37 & suspicious & other & NA  & NA  & NA  & NA      & NA              & NA      & 44.99791 & -93.31462 & 4 & Willard - Hay   \\\\\n",
       "\t60805 & 17-491132 & 2017-12-31 17:50:40 & suspicious & other & NA  & NA  & NA  & NA      & NA              & NA      & 45.00848 & -93.31403 & 4 & Willard - Hay   \\\\\n",
       "\t60807 & 17-491162 & 2017-12-31 18:17:52 & suspicious & MDC   & NO  & NO  & NO  & Unknown & White           & Male    & 45.01316 & -93.24734 & 2 & Audubon Park    \\\\\n",
       "\t60811 & 17-491221 & 2017-12-31 19:17:41 & suspicious & MDC   & NO  & NO  & NO  & Unknown & White           & Male    & 44.94920 & -93.29319 & 5 & Lowry Hill East \\\\\n",
       "\t60815 & 17-491245 & 2017-12-31 19:57:58 & suspicious & MDC   & NO  & NO  & NO  & Unknown & Unknown         & Unknown & 44.98262 & -93.29820 & 4 & Harrison        \\\\\n",
       "\t60816 & 17-491247 & 2017-12-31 20:02:09 & suspicious & other & NA  & NA  & NA  & NA      & NA              & NA      & 44.98598 & -93.28148 & 1 & North Loop      \\\\\n",
       "\t60818 & 17-491250 & 2017-12-31 20:04:07 & suspicious & MDC   & NO  & NO  & NO  & Unknown & Black           & Male    & 44.92953 & -93.28827 & 5 & East Harriet    \\\\\n",
       "\t60821 & 17-491261 & 2017-12-31 20:26:41 & suspicious & other & NA  & NA  & NA  & NA      & NA              & NA      & 44.95644 & -93.25497 & 3 & Midtown Phillips\\\\\n",
       "\t60823 & 17-491265 & 2017-12-31 20:30:39 & suspicious & MDC   & YES & YES & YES & Unknown & Native American & Female  & 44.98104 & -93.23717 & 2 & Marcy Holmes    \\\\\n",
       "\t60825 & 17-491324 & 2017-12-31 21:31:17 & suspicious & MDC   & NO  & YES & NO  & Unknown & Native American & Female  & 44.95646 & -93.24735 & 3 & East Phillips   \\\\\n",
       "\t60828 & 17-491351 & 2017-12-31 21:56:33 & suspicious & MDC   & NO  & NO  & NO  & Unknown & Unknown         & Unknown & 45.04843 & -93.29407 & 4 & Lind - Bohanon  \\\\\n",
       "\t60829 & 17-491366 & 2017-12-31 22:07:19 & suspicious & MDC   & NO  & NO  & NO  & Unknown & Unknown         & Male    & 45.02304 & -93.29058 & 4 & McKinley        \\\\\n",
       "\t60831 & 17-491414 & 2017-12-31 22:50:49 & suspicious & other & NA  & NA  & NA  & NA      & NA              & NA      & 44.96986 & -93.28008 & 1 & Loring Park     \\\\\n",
       "\t60832 & 17-491435 & 2017-12-31 23:08:18 & suspicious & other & NA  & NA  & NA  & NA      & NA              & NA      & 45.01497 & -93.24734 & 2 & Holland         \\\\\n",
       "\t60833 & 17-491438 & 2017-12-31 23:11:15 & suspicious & MDC   & NO  & NO  & NO  & Unknown & Unknown         & Unknown & 44.93141 & -93.23466 & 3 & Standish        \\\\\n",
       "\t60835 & 17-491445 & 2017-12-31 23:18:32 & suspicious & MDC   & NO  & NO  & NO  & Unknown & Unknown         & Unknown & 44.95915 & -93.27785 & 5 & Whittier        \\\\\n",
       "\\end{tabular}\n"
      ],
      "text/markdown": [
       "\n",
       "A data.frame: 25822 × 14\n",
       "\n",
       "| <!--/--> | idNum &lt;fct&gt; | date &lt;dttm&gt; | problem &lt;fct&gt; | MDC &lt;fct&gt; | citationIssued &lt;fct&gt; | personSearch &lt;fct&gt; | vehicleSearch &lt;fct&gt; | preRace &lt;fct&gt; | race &lt;fct&gt; | gender &lt;fct&gt; | lat &lt;dbl&gt; | long &lt;dbl&gt; | policePrecinct &lt;int&gt; | neighborhood &lt;fct&gt; |\n",
       "|---|---|---|---|---|---|---|---|---|---|---|---|---|---|---|\n",
       "| 6823 | 17-000003 | 2017-01-01 00:00:42 | suspicious | MDC   | NA | NO  | NO | Unknown | Unknown         | Unknown | 44.96662 | -93.24646 | 1 | Cedar Riverside                  |\n",
       "| 6824 | 17-000007 | 2017-01-01 00:03:07 | suspicious | MDC   | NA | NO  | NO | Unknown | Unknown         | Male    | 44.98045 | -93.27134 | 1 | Downtown West                    |\n",
       "| 6826 | 17-000092 | 2017-01-01 00:33:48 | suspicious | MDC   | NA | NO  | NO | Unknown | East African    | Male    | 44.94836 | -93.28135 | 5 | Whittier                         |\n",
       "| 6829 | 17-000114 | 2017-01-01 00:48:46 | suspicious | MDC   | NA | NO  | NO | Unknown | Black           | Male    | 44.98081 | -93.27314 | 1 | Downtown West                    |\n",
       "| 6833 | 17-000149 | 2017-01-01 01:09:13 | suspicious | MDC   | NA | NO  | NO | White   | Unknown         | Male    | 44.96458 | -93.27658 | 5 | Steven's Square - Loring Heights |\n",
       "| 6837 | 17-000204 | 2017-01-01 01:41:24 | suspicious | MDC   | NA | NO  | NO | Unknown | White           | Female  | 44.98045 | -93.27134 | 1 | Downtown West                    |\n",
       "| 6838 | 17-000211 | 2017-01-01 01:45:09 | suspicious | MDC   | NA | NO  | NO | Unknown | Unknown         | Unknown | 44.98078 | -93.27430 | 1 | Downtown West                    |\n",
       "| 6839 | 17-000220 | 2017-01-01 01:51:02 | suspicious | MDC   | NA | NO  | NO | Unknown | White           | Female  | 44.99150 | -93.30572 | 4 | Willard - Hay                    |\n",
       "| 6840 | 17-000224 | 2017-01-01 01:52:52 | suspicious | other | NA | NA  | NA | NA      | NA              | NA      | 44.98124 | -93.27254 | 1 | Downtown West                    |\n",
       "| 6842 | 17-000236 | 2017-01-01 02:04:13 | suspicious | MDC   | NA | NO  | NO | Black   | Unknown         | Male    | 44.94925 | -93.29573 | 5 | Lowry Hill East                  |\n",
       "| 6845 | 17-000290 | 2017-01-01 02:33:22 | suspicious | MDC   | NA | YES | NO | Black   | Black           | Male    | 44.98074 | -93.28960 | 4 | Sumner - Glenwood                |\n",
       "| 6851 | 17-000365 | 2017-01-01 03:16:11 | suspicious | other | NA | NA  | NA | NA      | NA              | NA      | 45.01044 | -93.29306 | 4 | Hawthorne                        |\n",
       "| 6853 | 17-000388 | 2017-01-01 03:26:59 | suspicious | MDC   | NA | NO  | NO | Unknown | Unknown         | Unknown | 44.95464 | -93.28131 | 5 | Whittier                         |\n",
       "| 6854 | 17-000395 | 2017-01-01 03:33:29 | suspicious | MDC   | NA | NO  | NO | Black   | Unknown         | Unknown | 45.02393 | -93.23904 | 2 | Audubon Park                     |\n",
       "| 6855 | 17-000414 | 2017-01-01 04:00:02 | suspicious | other | NA | NA  | NA | NA      | NA              | NA      | 44.97246 | -93.26489 | 1 | Elliot Park                      |\n",
       "| 6856 | 17-000421 | 2017-01-01 04:05:54 | suspicious | other | NA | NA  | NA | NA      | NA              | NA      | 44.99150 | -93.30509 | 4 | Willard - Hay                    |\n",
       "| 6857 | 17-000426 | 2017-01-01 04:20:33 | suspicious | other | NA | NA  | NA | NA      | NA              | NA      | 44.90901 | -93.21456 | 3 | Minnehaha                        |\n",
       "| 6861 | 17-000488 | 2017-01-01 06:47:07 | suspicious | MDC   | NA | NO  | NO | Black   | Unknown         | Unknown | 44.94044 | -93.27792 | 5 | Lyndale                          |\n",
       "| 6863 | 17-000536 | 2017-01-01 09:02:59 | suspicious | MDC   | NA | NO  | NO | Black   | Unknown         | Male    | 44.97092 | -93.25508 | 1 | Downtown East                    |\n",
       "| 6864 | 17-000547 | 2017-01-01 09:48:36 | suspicious | MDC   | NA | NO  | NO | Unknown | Unknown         | Unknown | 44.93863 | -93.24228 | 3 | Corcoran                         |\n",
       "| 6865 | 17-000549 | 2017-01-01 09:51:43 | suspicious | MDC   | NA | NO  | NO | Unknown | Unknown         | Unknown | 44.93773 | -93.24058 | 3 | Standish                         |\n",
       "| 6867 | 17-000576 | 2017-01-01 10:41:29 | suspicious | MDC   | NA | NO  | NO | Unknown | Unknown         | Unknown | 45.04118 | -93.29786 | 4 | Lind - Bohanon                   |\n",
       "| 6868 | 17-000601 | 2017-01-01 11:49:49 | suspicious | other | NA | NA  | NA | NA      | NA              | NA      | 45.02121 | -93.28804 | 4 | McKinley                         |\n",
       "| 6869 | 17-000619 | 2017-01-01 12:43:26 | suspicious | MDC   | NA | YES | NO | Unknown | Black           | Male    | 45.04843 | -93.29407 | 4 | Lind - Bohanon                   |\n",
       "| 6871 | 17-000637 | 2017-01-01 13:24:55 | suspicious | MDC   | NA | NO  | NO | Other   | Other           | Unknown | 44.93770 | -93.28627 | 5 | King Field                       |\n",
       "| 6872 | 17-000639 | 2017-01-01 13:34:06 | suspicious | MDC   | NA | NO  | NO | Other   | Other           | Unknown | 44.93951 | -93.29265 | 5 | CARAG                            |\n",
       "| 6873 | 17-000646 | 2017-01-01 13:41:02 | suspicious | MDC   | NA | NO  | NO | Other   | Other           | Unknown | 44.94041 | -93.29200 | 5 | CARAG                            |\n",
       "| 6874 | 17-000651 | 2017-01-01 13:47:54 | suspicious | other | NA | NA  | NA | NA      | NA              | NA      | 45.03940 | -93.29015 | 4 | Lind - Bohanon                   |\n",
       "| 6875 | 17-000668 | 2017-01-01 14:38:12 | suspicious | MDC   | NA | NO  | NO | Unknown | Unknown         | Unknown | 44.92955 | -93.28439 | 5 | King Field                       |\n",
       "| 6876 | 17-000713 | 2017-01-01 15:36:30 | suspicious | MDC   | NA | YES | NO | Unknown | Native American | Male    | 44.95373 | -93.25627 | 3 | Midtown Phillips                 |\n",
       "| ⋮ | ⋮ | ⋮ | ⋮ | ⋮ | ⋮ | ⋮ | ⋮ | ⋮ | ⋮ | ⋮ | ⋮ | ⋮ | ⋮ | ⋮ |\n",
       "| 60774 | 17-490578 | 2017-12-31 00:10:08 | suspicious | MDC   | NO  | NO  | NO  | Unknown | Latino          | Male    | 45.00598 | -93.23717 | 2 | Windom Park      |\n",
       "| 60777 | 17-490585 | 2017-12-31 00:19:18 | suspicious | MDC   | NO  | NO  | NO  | Unknown | White           | Male    | 44.98083 | -93.27196 | 1 | Downtown West    |\n",
       "| 60782 | 17-490611 | 2017-12-31 00:43:51 | suspicious | MDC   | NO  | NO  | NO  | Unknown | Unknown         | Unknown | 45.02133 | -93.30320 | 4 | Folwell          |\n",
       "| 60784 | 17-490618 | 2017-12-31 00:53:04 | suspicious | other | NA  | NA  | NA  | NA      | NA              | NA      | 44.93863 | -93.27791 | 5 | Lyndale          |\n",
       "| 60786 | 17-490637 | 2017-12-31 01:20:34 | suspicious | MDC   | NO  | NO  | NO  | Unknown | White           | Male    | 44.93498 | -93.28823 | 5 | King Field       |\n",
       "| 60788 | 17-490682 | 2017-12-31 02:11:44 | suspicious | MDC   | YES | NO  | NO  | Unknown | White           | Male    | 44.94748 | -93.28811 | 5 | Lyndale          |\n",
       "| 60792 | 17-490704 | 2017-12-31 02:31:37 | suspicious | MDC   | NO  | NO  | NO  | Unknown | Unknown         | Unknown | 44.94837 | -93.25314 | 3 | Midtown Phillips |\n",
       "| 60793 | 17-490705 | 2017-12-31 02:32:08 | suspicious | MDC   | NO  | NO  | NO  | White   | White           | Female  | 44.91628 | -93.24794 | 3 | Northrop         |\n",
       "| 60794 | 17-490722 | 2017-12-31 02:54:42 | suspicious | MDC   | NO  | NO  | NO  | Unknown | Black           | Male    | 44.97501 | -93.27707 | 1 | Downtown West    |\n",
       "| 60798 | 17-490915 | 2017-12-31 11:35:43 | suspicious | other | NA  | NA  | NA  | NA      | NA              | NA      | 44.97894 | -93.28953 | 4 | Harrison         |\n",
       "| 60799 | 17-490957 | 2017-12-31 12:58:22 | suspicious | MDC   | NO  | NO  | NO  | Unknown | Unknown         | Unknown | 44.95464 | -93.28678 | 5 | Whittier         |\n",
       "| 60800 | 17-490971 | 2017-12-31 13:14:17 | suspicious | MDC   | NO  | NO  | NO  | Unknown | Unknown         | Unknown | 44.93684 | -93.25241 | 3 | Powderhorn Park  |\n",
       "| 60802 | 17-490994 | 2017-12-31 14:01:34 | suspicious | MDC   | NO  | NO  | NO  | Black   | Black           | Male    | 44.98123 | -93.26859 | 1 | Downtown West    |\n",
       "| 60803 | 17-491005 | 2017-12-31 14:23:18 | suspicious | MDC   | NO  | NO  | NO  | Unknown | Unknown         | Unknown | 44.94835 | -93.27095 | 3 | Phillips West    |\n",
       "| 60804 | 17-491040 | 2017-12-31 15:14:37 | suspicious | other | NA  | NA  | NA  | NA      | NA              | NA      | 44.99791 | -93.31462 | 4 | Willard - Hay    |\n",
       "| 60805 | 17-491132 | 2017-12-31 17:50:40 | suspicious | other | NA  | NA  | NA  | NA      | NA              | NA      | 45.00848 | -93.31403 | 4 | Willard - Hay    |\n",
       "| 60807 | 17-491162 | 2017-12-31 18:17:52 | suspicious | MDC   | NO  | NO  | NO  | Unknown | White           | Male    | 45.01316 | -93.24734 | 2 | Audubon Park     |\n",
       "| 60811 | 17-491221 | 2017-12-31 19:17:41 | suspicious | MDC   | NO  | NO  | NO  | Unknown | White           | Male    | 44.94920 | -93.29319 | 5 | Lowry Hill East  |\n",
       "| 60815 | 17-491245 | 2017-12-31 19:57:58 | suspicious | MDC   | NO  | NO  | NO  | Unknown | Unknown         | Unknown | 44.98262 | -93.29820 | 4 | Harrison         |\n",
       "| 60816 | 17-491247 | 2017-12-31 20:02:09 | suspicious | other | NA  | NA  | NA  | NA      | NA              | NA      | 44.98598 | -93.28148 | 1 | North Loop       |\n",
       "| 60818 | 17-491250 | 2017-12-31 20:04:07 | suspicious | MDC   | NO  | NO  | NO  | Unknown | Black           | Male    | 44.92953 | -93.28827 | 5 | East Harriet     |\n",
       "| 60821 | 17-491261 | 2017-12-31 20:26:41 | suspicious | other | NA  | NA  | NA  | NA      | NA              | NA      | 44.95644 | -93.25497 | 3 | Midtown Phillips |\n",
       "| 60823 | 17-491265 | 2017-12-31 20:30:39 | suspicious | MDC   | YES | YES | YES | Unknown | Native American | Female  | 44.98104 | -93.23717 | 2 | Marcy Holmes     |\n",
       "| 60825 | 17-491324 | 2017-12-31 21:31:17 | suspicious | MDC   | NO  | YES | NO  | Unknown | Native American | Female  | 44.95646 | -93.24735 | 3 | East Phillips    |\n",
       "| 60828 | 17-491351 | 2017-12-31 21:56:33 | suspicious | MDC   | NO  | NO  | NO  | Unknown | Unknown         | Unknown | 45.04843 | -93.29407 | 4 | Lind - Bohanon   |\n",
       "| 60829 | 17-491366 | 2017-12-31 22:07:19 | suspicious | MDC   | NO  | NO  | NO  | Unknown | Unknown         | Male    | 45.02304 | -93.29058 | 4 | McKinley         |\n",
       "| 60831 | 17-491414 | 2017-12-31 22:50:49 | suspicious | other | NA  | NA  | NA  | NA      | NA              | NA      | 44.96986 | -93.28008 | 1 | Loring Park      |\n",
       "| 60832 | 17-491435 | 2017-12-31 23:08:18 | suspicious | other | NA  | NA  | NA  | NA      | NA              | NA      | 45.01497 | -93.24734 | 2 | Holland          |\n",
       "| 60833 | 17-491438 | 2017-12-31 23:11:15 | suspicious | MDC   | NO  | NO  | NO  | Unknown | Unknown         | Unknown | 44.93141 | -93.23466 | 3 | Standish         |\n",
       "| 60835 | 17-491445 | 2017-12-31 23:18:32 | suspicious | MDC   | NO  | NO  | NO  | Unknown | Unknown         | Unknown | 44.95915 | -93.27785 | 5 | Whittier         |\n",
       "\n"
      ],
      "text/plain": [
       "      idNum     date                problem    MDC   citationIssued\n",
       "6823  17-000003 2017-01-01 00:00:42 suspicious MDC   NA            \n",
       "6824  17-000007 2017-01-01 00:03:07 suspicious MDC   NA            \n",
       "6826  17-000092 2017-01-01 00:33:48 suspicious MDC   NA            \n",
       "6829  17-000114 2017-01-01 00:48:46 suspicious MDC   NA            \n",
       "6833  17-000149 2017-01-01 01:09:13 suspicious MDC   NA            \n",
       "6837  17-000204 2017-01-01 01:41:24 suspicious MDC   NA            \n",
       "6838  17-000211 2017-01-01 01:45:09 suspicious MDC   NA            \n",
       "6839  17-000220 2017-01-01 01:51:02 suspicious MDC   NA            \n",
       "6840  17-000224 2017-01-01 01:52:52 suspicious other NA            \n",
       "6842  17-000236 2017-01-01 02:04:13 suspicious MDC   NA            \n",
       "6845  17-000290 2017-01-01 02:33:22 suspicious MDC   NA            \n",
       "6851  17-000365 2017-01-01 03:16:11 suspicious other NA            \n",
       "6853  17-000388 2017-01-01 03:26:59 suspicious MDC   NA            \n",
       "6854  17-000395 2017-01-01 03:33:29 suspicious MDC   NA            \n",
       "6855  17-000414 2017-01-01 04:00:02 suspicious other NA            \n",
       "6856  17-000421 2017-01-01 04:05:54 suspicious other NA            \n",
       "6857  17-000426 2017-01-01 04:20:33 suspicious other NA            \n",
       "6861  17-000488 2017-01-01 06:47:07 suspicious MDC   NA            \n",
       "6863  17-000536 2017-01-01 09:02:59 suspicious MDC   NA            \n",
       "6864  17-000547 2017-01-01 09:48:36 suspicious MDC   NA            \n",
       "6865  17-000549 2017-01-01 09:51:43 suspicious MDC   NA            \n",
       "6867  17-000576 2017-01-01 10:41:29 suspicious MDC   NA            \n",
       "6868  17-000601 2017-01-01 11:49:49 suspicious other NA            \n",
       "6869  17-000619 2017-01-01 12:43:26 suspicious MDC   NA            \n",
       "6871  17-000637 2017-01-01 13:24:55 suspicious MDC   NA            \n",
       "6872  17-000639 2017-01-01 13:34:06 suspicious MDC   NA            \n",
       "6873  17-000646 2017-01-01 13:41:02 suspicious MDC   NA            \n",
       "6874  17-000651 2017-01-01 13:47:54 suspicious other NA            \n",
       "6875  17-000668 2017-01-01 14:38:12 suspicious MDC   NA            \n",
       "6876  17-000713 2017-01-01 15:36:30 suspicious MDC   NA            \n",
       "⋮     ⋮         ⋮                   ⋮          ⋮     ⋮             \n",
       "60774 17-490578 2017-12-31 00:10:08 suspicious MDC   NO            \n",
       "60777 17-490585 2017-12-31 00:19:18 suspicious MDC   NO            \n",
       "60782 17-490611 2017-12-31 00:43:51 suspicious MDC   NO            \n",
       "60784 17-490618 2017-12-31 00:53:04 suspicious other NA            \n",
       "60786 17-490637 2017-12-31 01:20:34 suspicious MDC   NO            \n",
       "60788 17-490682 2017-12-31 02:11:44 suspicious MDC   YES           \n",
       "60792 17-490704 2017-12-31 02:31:37 suspicious MDC   NO            \n",
       "60793 17-490705 2017-12-31 02:32:08 suspicious MDC   NO            \n",
       "60794 17-490722 2017-12-31 02:54:42 suspicious MDC   NO            \n",
       "60798 17-490915 2017-12-31 11:35:43 suspicious other NA            \n",
       "60799 17-490957 2017-12-31 12:58:22 suspicious MDC   NO            \n",
       "60800 17-490971 2017-12-31 13:14:17 suspicious MDC   NO            \n",
       "60802 17-490994 2017-12-31 14:01:34 suspicious MDC   NO            \n",
       "60803 17-491005 2017-12-31 14:23:18 suspicious MDC   NO            \n",
       "60804 17-491040 2017-12-31 15:14:37 suspicious other NA            \n",
       "60805 17-491132 2017-12-31 17:50:40 suspicious other NA            \n",
       "60807 17-491162 2017-12-31 18:17:52 suspicious MDC   NO            \n",
       "60811 17-491221 2017-12-31 19:17:41 suspicious MDC   NO            \n",
       "60815 17-491245 2017-12-31 19:57:58 suspicious MDC   NO            \n",
       "60816 17-491247 2017-12-31 20:02:09 suspicious other NA            \n",
       "60818 17-491250 2017-12-31 20:04:07 suspicious MDC   NO            \n",
       "60821 17-491261 2017-12-31 20:26:41 suspicious other NA            \n",
       "60823 17-491265 2017-12-31 20:30:39 suspicious MDC   YES           \n",
       "60825 17-491324 2017-12-31 21:31:17 suspicious MDC   NO            \n",
       "60828 17-491351 2017-12-31 21:56:33 suspicious MDC   NO            \n",
       "60829 17-491366 2017-12-31 22:07:19 suspicious MDC   NO            \n",
       "60831 17-491414 2017-12-31 22:50:49 suspicious other NA            \n",
       "60832 17-491435 2017-12-31 23:08:18 suspicious other NA            \n",
       "60833 17-491438 2017-12-31 23:11:15 suspicious MDC   NO            \n",
       "60835 17-491445 2017-12-31 23:18:32 suspicious MDC   NO            \n",
       "      personSearch vehicleSearch preRace race            gender  lat     \n",
       "6823  NO           NO            Unknown Unknown         Unknown 44.96662\n",
       "6824  NO           NO            Unknown Unknown         Male    44.98045\n",
       "6826  NO           NO            Unknown East African    Male    44.94836\n",
       "6829  NO           NO            Unknown Black           Male    44.98081\n",
       "6833  NO           NO            White   Unknown         Male    44.96458\n",
       "6837  NO           NO            Unknown White           Female  44.98045\n",
       "6838  NO           NO            Unknown Unknown         Unknown 44.98078\n",
       "6839  NO           NO            Unknown White           Female  44.99150\n",
       "6840  NA           NA            NA      NA              NA      44.98124\n",
       "6842  NO           NO            Black   Unknown         Male    44.94925\n",
       "6845  YES          NO            Black   Black           Male    44.98074\n",
       "6851  NA           NA            NA      NA              NA      45.01044\n",
       "6853  NO           NO            Unknown Unknown         Unknown 44.95464\n",
       "6854  NO           NO            Black   Unknown         Unknown 45.02393\n",
       "6855  NA           NA            NA      NA              NA      44.97246\n",
       "6856  NA           NA            NA      NA              NA      44.99150\n",
       "6857  NA           NA            NA      NA              NA      44.90901\n",
       "6861  NO           NO            Black   Unknown         Unknown 44.94044\n",
       "6863  NO           NO            Black   Unknown         Male    44.97092\n",
       "6864  NO           NO            Unknown Unknown         Unknown 44.93863\n",
       "6865  NO           NO            Unknown Unknown         Unknown 44.93773\n",
       "6867  NO           NO            Unknown Unknown         Unknown 45.04118\n",
       "6868  NA           NA            NA      NA              NA      45.02121\n",
       "6869  YES          NO            Unknown Black           Male    45.04843\n",
       "6871  NO           NO            Other   Other           Unknown 44.93770\n",
       "6872  NO           NO            Other   Other           Unknown 44.93951\n",
       "6873  NO           NO            Other   Other           Unknown 44.94041\n",
       "6874  NA           NA            NA      NA              NA      45.03940\n",
       "6875  NO           NO            Unknown Unknown         Unknown 44.92955\n",
       "6876  YES          NO            Unknown Native American Male    44.95373\n",
       "⋮     ⋮            ⋮             ⋮       ⋮               ⋮       ⋮       \n",
       "60774 NO           NO            Unknown Latino          Male    45.00598\n",
       "60777 NO           NO            Unknown White           Male    44.98083\n",
       "60782 NO           NO            Unknown Unknown         Unknown 45.02133\n",
       "60784 NA           NA            NA      NA              NA      44.93863\n",
       "60786 NO           NO            Unknown White           Male    44.93498\n",
       "60788 NO           NO            Unknown White           Male    44.94748\n",
       "60792 NO           NO            Unknown Unknown         Unknown 44.94837\n",
       "60793 NO           NO            White   White           Female  44.91628\n",
       "60794 NO           NO            Unknown Black           Male    44.97501\n",
       "60798 NA           NA            NA      NA              NA      44.97894\n",
       "60799 NO           NO            Unknown Unknown         Unknown 44.95464\n",
       "60800 NO           NO            Unknown Unknown         Unknown 44.93684\n",
       "60802 NO           NO            Black   Black           Male    44.98123\n",
       "60803 NO           NO            Unknown Unknown         Unknown 44.94835\n",
       "60804 NA           NA            NA      NA              NA      44.99791\n",
       "60805 NA           NA            NA      NA              NA      45.00848\n",
       "60807 NO           NO            Unknown White           Male    45.01316\n",
       "60811 NO           NO            Unknown White           Male    44.94920\n",
       "60815 NO           NO            Unknown Unknown         Unknown 44.98262\n",
       "60816 NA           NA            NA      NA              NA      44.98598\n",
       "60818 NO           NO            Unknown Black           Male    44.92953\n",
       "60821 NA           NA            NA      NA              NA      44.95644\n",
       "60823 YES          YES           Unknown Native American Female  44.98104\n",
       "60825 YES          NO            Unknown Native American Female  44.95646\n",
       "60828 NO           NO            Unknown Unknown         Unknown 45.04843\n",
       "60829 NO           NO            Unknown Unknown         Male    45.02304\n",
       "60831 NA           NA            NA      NA              NA      44.96986\n",
       "60832 NA           NA            NA      NA              NA      45.01497\n",
       "60833 NO           NO            Unknown Unknown         Unknown 44.93141\n",
       "60835 NO           NO            Unknown Unknown         Unknown 44.95915\n",
       "      long      policePrecinct neighborhood                    \n",
       "6823  -93.24646 1              Cedar Riverside                 \n",
       "6824  -93.27134 1              Downtown West                   \n",
       "6826  -93.28135 5              Whittier                        \n",
       "6829  -93.27314 1              Downtown West                   \n",
       "6833  -93.27658 5              Steven's Square - Loring Heights\n",
       "6837  -93.27134 1              Downtown West                   \n",
       "6838  -93.27430 1              Downtown West                   \n",
       "6839  -93.30572 4              Willard - Hay                   \n",
       "6840  -93.27254 1              Downtown West                   \n",
       "6842  -93.29573 5              Lowry Hill East                 \n",
       "6845  -93.28960 4              Sumner - Glenwood               \n",
       "6851  -93.29306 4              Hawthorne                       \n",
       "6853  -93.28131 5              Whittier                        \n",
       "6854  -93.23904 2              Audubon Park                    \n",
       "6855  -93.26489 1              Elliot Park                     \n",
       "6856  -93.30509 4              Willard - Hay                   \n",
       "6857  -93.21456 3              Minnehaha                       \n",
       "6861  -93.27792 5              Lyndale                         \n",
       "6863  -93.25508 1              Downtown East                   \n",
       "6864  -93.24228 3              Corcoran                        \n",
       "6865  -93.24058 3              Standish                        \n",
       "6867  -93.29786 4              Lind - Bohanon                  \n",
       "6868  -93.28804 4              McKinley                        \n",
       "6869  -93.29407 4              Lind - Bohanon                  \n",
       "6871  -93.28627 5              King Field                      \n",
       "6872  -93.29265 5              CARAG                           \n",
       "6873  -93.29200 5              CARAG                           \n",
       "6874  -93.29015 4              Lind - Bohanon                  \n",
       "6875  -93.28439 5              King Field                      \n",
       "6876  -93.25627 3              Midtown Phillips                \n",
       "⋮     ⋮         ⋮              ⋮                               \n",
       "60774 -93.23717 2              Windom Park                     \n",
       "60777 -93.27196 1              Downtown West                   \n",
       "60782 -93.30320 4              Folwell                         \n",
       "60784 -93.27791 5              Lyndale                         \n",
       "60786 -93.28823 5              King Field                      \n",
       "60788 -93.28811 5              Lyndale                         \n",
       "60792 -93.25314 3              Midtown Phillips                \n",
       "60793 -93.24794 3              Northrop                        \n",
       "60794 -93.27707 1              Downtown West                   \n",
       "60798 -93.28953 4              Harrison                        \n",
       "60799 -93.28678 5              Whittier                        \n",
       "60800 -93.25241 3              Powderhorn Park                 \n",
       "60802 -93.26859 1              Downtown West                   \n",
       "60803 -93.27095 3              Phillips West                   \n",
       "60804 -93.31462 4              Willard - Hay                   \n",
       "60805 -93.31403 4              Willard - Hay                   \n",
       "60807 -93.24734 2              Audubon Park                    \n",
       "60811 -93.29319 5              Lowry Hill East                 \n",
       "60815 -93.29820 4              Harrison                        \n",
       "60816 -93.28148 1              North Loop                      \n",
       "60818 -93.28827 5              East Harriet                    \n",
       "60821 -93.25497 3              Midtown Phillips                \n",
       "60823 -93.23717 2              Marcy Holmes                    \n",
       "60825 -93.24735 3              East Phillips                   \n",
       "60828 -93.29407 4              Lind - Bohanon                  \n",
       "60829 -93.29058 4              McKinley                        \n",
       "60831 -93.28008 1              Loring Park                     \n",
       "60832 -93.24734 2              Holland                         \n",
       "60833 -93.23466 3              Standish                        \n",
       "60835 -93.27785 5              Whittier                        "
      ]
     },
     "metadata": {},
     "output_type": "display_data"
    }
   ],
   "source": [
    "tmp = subset(MplsStops, problem == 'suspicious')\n",
    "tmp"
   ]
  },
  {
   "cell_type": "code",
   "execution_count": 99,
   "id": "26b31fae",
   "metadata": {},
   "outputs": [],
   "source": [
    "tmp = MplsStops[MplsStops$problem == 'suspicious', ]"
   ]
  },
  {
   "cell_type": "code",
   "execution_count": 100,
   "id": "81b65101",
   "metadata": {},
   "outputs": [
    {
     "data": {
      "text/html": [
       "<table class=\"dataframe\">\n",
       "<caption>A data.frame: 25822 × 14</caption>\n",
       "<thead>\n",
       "\t<tr><th></th><th scope=col>idNum</th><th scope=col>date</th><th scope=col>problem</th><th scope=col>MDC</th><th scope=col>citationIssued</th><th scope=col>personSearch</th><th scope=col>vehicleSearch</th><th scope=col>preRace</th><th scope=col>race</th><th scope=col>gender</th><th scope=col>lat</th><th scope=col>long</th><th scope=col>policePrecinct</th><th scope=col>neighborhood</th></tr>\n",
       "\t<tr><th></th><th scope=col>&lt;fct&gt;</th><th scope=col>&lt;dttm&gt;</th><th scope=col>&lt;fct&gt;</th><th scope=col>&lt;fct&gt;</th><th scope=col>&lt;fct&gt;</th><th scope=col>&lt;fct&gt;</th><th scope=col>&lt;fct&gt;</th><th scope=col>&lt;fct&gt;</th><th scope=col>&lt;fct&gt;</th><th scope=col>&lt;fct&gt;</th><th scope=col>&lt;dbl&gt;</th><th scope=col>&lt;dbl&gt;</th><th scope=col>&lt;int&gt;</th><th scope=col>&lt;fct&gt;</th></tr>\n",
       "</thead>\n",
       "<tbody>\n",
       "\t<tr><th scope=row>6823</th><td>17-000003</td><td>2017-01-01 00:00:42</td><td>suspicious</td><td>MDC  </td><td>NA</td><td>NO </td><td>NO</td><td>Unknown</td><td>Unknown        </td><td>Unknown</td><td>44.96662</td><td>-93.24646</td><td>1</td><td>Cedar Riverside                 </td></tr>\n",
       "\t<tr><th scope=row>6824</th><td>17-000007</td><td>2017-01-01 00:03:07</td><td>suspicious</td><td>MDC  </td><td>NA</td><td>NO </td><td>NO</td><td>Unknown</td><td>Unknown        </td><td>Male   </td><td>44.98045</td><td>-93.27134</td><td>1</td><td>Downtown West                   </td></tr>\n",
       "\t<tr><th scope=row>6826</th><td>17-000092</td><td>2017-01-01 00:33:48</td><td>suspicious</td><td>MDC  </td><td>NA</td><td>NO </td><td>NO</td><td>Unknown</td><td>East African   </td><td>Male   </td><td>44.94836</td><td>-93.28135</td><td>5</td><td>Whittier                        </td></tr>\n",
       "\t<tr><th scope=row>6829</th><td>17-000114</td><td>2017-01-01 00:48:46</td><td>suspicious</td><td>MDC  </td><td>NA</td><td>NO </td><td>NO</td><td>Unknown</td><td>Black          </td><td>Male   </td><td>44.98081</td><td>-93.27314</td><td>1</td><td>Downtown West                   </td></tr>\n",
       "\t<tr><th scope=row>6833</th><td>17-000149</td><td>2017-01-01 01:09:13</td><td>suspicious</td><td>MDC  </td><td>NA</td><td>NO </td><td>NO</td><td>White  </td><td>Unknown        </td><td>Male   </td><td>44.96458</td><td>-93.27658</td><td>5</td><td>Steven's Square - Loring Heights</td></tr>\n",
       "\t<tr><th scope=row>6837</th><td>17-000204</td><td>2017-01-01 01:41:24</td><td>suspicious</td><td>MDC  </td><td>NA</td><td>NO </td><td>NO</td><td>Unknown</td><td>White          </td><td>Female </td><td>44.98045</td><td>-93.27134</td><td>1</td><td>Downtown West                   </td></tr>\n",
       "\t<tr><th scope=row>6838</th><td>17-000211</td><td>2017-01-01 01:45:09</td><td>suspicious</td><td>MDC  </td><td>NA</td><td>NO </td><td>NO</td><td>Unknown</td><td>Unknown        </td><td>Unknown</td><td>44.98078</td><td>-93.27430</td><td>1</td><td>Downtown West                   </td></tr>\n",
       "\t<tr><th scope=row>6839</th><td>17-000220</td><td>2017-01-01 01:51:02</td><td>suspicious</td><td>MDC  </td><td>NA</td><td>NO </td><td>NO</td><td>Unknown</td><td>White          </td><td>Female </td><td>44.99150</td><td>-93.30572</td><td>4</td><td>Willard - Hay                   </td></tr>\n",
       "\t<tr><th scope=row>6840</th><td>17-000224</td><td>2017-01-01 01:52:52</td><td>suspicious</td><td>other</td><td>NA</td><td>NA </td><td>NA</td><td>NA     </td><td>NA             </td><td>NA     </td><td>44.98124</td><td>-93.27254</td><td>1</td><td>Downtown West                   </td></tr>\n",
       "\t<tr><th scope=row>6842</th><td>17-000236</td><td>2017-01-01 02:04:13</td><td>suspicious</td><td>MDC  </td><td>NA</td><td>NO </td><td>NO</td><td>Black  </td><td>Unknown        </td><td>Male   </td><td>44.94925</td><td>-93.29573</td><td>5</td><td>Lowry Hill East                 </td></tr>\n",
       "\t<tr><th scope=row>6845</th><td>17-000290</td><td>2017-01-01 02:33:22</td><td>suspicious</td><td>MDC  </td><td>NA</td><td>YES</td><td>NO</td><td>Black  </td><td>Black          </td><td>Male   </td><td>44.98074</td><td>-93.28960</td><td>4</td><td>Sumner - Glenwood               </td></tr>\n",
       "\t<tr><th scope=row>6851</th><td>17-000365</td><td>2017-01-01 03:16:11</td><td>suspicious</td><td>other</td><td>NA</td><td>NA </td><td>NA</td><td>NA     </td><td>NA             </td><td>NA     </td><td>45.01044</td><td>-93.29306</td><td>4</td><td>Hawthorne                       </td></tr>\n",
       "\t<tr><th scope=row>6853</th><td>17-000388</td><td>2017-01-01 03:26:59</td><td>suspicious</td><td>MDC  </td><td>NA</td><td>NO </td><td>NO</td><td>Unknown</td><td>Unknown        </td><td>Unknown</td><td>44.95464</td><td>-93.28131</td><td>5</td><td>Whittier                        </td></tr>\n",
       "\t<tr><th scope=row>6854</th><td>17-000395</td><td>2017-01-01 03:33:29</td><td>suspicious</td><td>MDC  </td><td>NA</td><td>NO </td><td>NO</td><td>Black  </td><td>Unknown        </td><td>Unknown</td><td>45.02393</td><td>-93.23904</td><td>2</td><td>Audubon Park                    </td></tr>\n",
       "\t<tr><th scope=row>6855</th><td>17-000414</td><td>2017-01-01 04:00:02</td><td>suspicious</td><td>other</td><td>NA</td><td>NA </td><td>NA</td><td>NA     </td><td>NA             </td><td>NA     </td><td>44.97246</td><td>-93.26489</td><td>1</td><td>Elliot Park                     </td></tr>\n",
       "\t<tr><th scope=row>6856</th><td>17-000421</td><td>2017-01-01 04:05:54</td><td>suspicious</td><td>other</td><td>NA</td><td>NA </td><td>NA</td><td>NA     </td><td>NA             </td><td>NA     </td><td>44.99150</td><td>-93.30509</td><td>4</td><td>Willard - Hay                   </td></tr>\n",
       "\t<tr><th scope=row>6857</th><td>17-000426</td><td>2017-01-01 04:20:33</td><td>suspicious</td><td>other</td><td>NA</td><td>NA </td><td>NA</td><td>NA     </td><td>NA             </td><td>NA     </td><td>44.90901</td><td>-93.21456</td><td>3</td><td>Minnehaha                       </td></tr>\n",
       "\t<tr><th scope=row>6861</th><td>17-000488</td><td>2017-01-01 06:47:07</td><td>suspicious</td><td>MDC  </td><td>NA</td><td>NO </td><td>NO</td><td>Black  </td><td>Unknown        </td><td>Unknown</td><td>44.94044</td><td>-93.27792</td><td>5</td><td>Lyndale                         </td></tr>\n",
       "\t<tr><th scope=row>6863</th><td>17-000536</td><td>2017-01-01 09:02:59</td><td>suspicious</td><td>MDC  </td><td>NA</td><td>NO </td><td>NO</td><td>Black  </td><td>Unknown        </td><td>Male   </td><td>44.97092</td><td>-93.25508</td><td>1</td><td>Downtown East                   </td></tr>\n",
       "\t<tr><th scope=row>6864</th><td>17-000547</td><td>2017-01-01 09:48:36</td><td>suspicious</td><td>MDC  </td><td>NA</td><td>NO </td><td>NO</td><td>Unknown</td><td>Unknown        </td><td>Unknown</td><td>44.93863</td><td>-93.24228</td><td>3</td><td>Corcoran                        </td></tr>\n",
       "\t<tr><th scope=row>6865</th><td>17-000549</td><td>2017-01-01 09:51:43</td><td>suspicious</td><td>MDC  </td><td>NA</td><td>NO </td><td>NO</td><td>Unknown</td><td>Unknown        </td><td>Unknown</td><td>44.93773</td><td>-93.24058</td><td>3</td><td>Standish                        </td></tr>\n",
       "\t<tr><th scope=row>6867</th><td>17-000576</td><td>2017-01-01 10:41:29</td><td>suspicious</td><td>MDC  </td><td>NA</td><td>NO </td><td>NO</td><td>Unknown</td><td>Unknown        </td><td>Unknown</td><td>45.04118</td><td>-93.29786</td><td>4</td><td>Lind - Bohanon                  </td></tr>\n",
       "\t<tr><th scope=row>6868</th><td>17-000601</td><td>2017-01-01 11:49:49</td><td>suspicious</td><td>other</td><td>NA</td><td>NA </td><td>NA</td><td>NA     </td><td>NA             </td><td>NA     </td><td>45.02121</td><td>-93.28804</td><td>4</td><td>McKinley                        </td></tr>\n",
       "\t<tr><th scope=row>6869</th><td>17-000619</td><td>2017-01-01 12:43:26</td><td>suspicious</td><td>MDC  </td><td>NA</td><td>YES</td><td>NO</td><td>Unknown</td><td>Black          </td><td>Male   </td><td>45.04843</td><td>-93.29407</td><td>4</td><td>Lind - Bohanon                  </td></tr>\n",
       "\t<tr><th scope=row>6871</th><td>17-000637</td><td>2017-01-01 13:24:55</td><td>suspicious</td><td>MDC  </td><td>NA</td><td>NO </td><td>NO</td><td>Other  </td><td>Other          </td><td>Unknown</td><td>44.93770</td><td>-93.28627</td><td>5</td><td>King Field                      </td></tr>\n",
       "\t<tr><th scope=row>6872</th><td>17-000639</td><td>2017-01-01 13:34:06</td><td>suspicious</td><td>MDC  </td><td>NA</td><td>NO </td><td>NO</td><td>Other  </td><td>Other          </td><td>Unknown</td><td>44.93951</td><td>-93.29265</td><td>5</td><td>CARAG                           </td></tr>\n",
       "\t<tr><th scope=row>6873</th><td>17-000646</td><td>2017-01-01 13:41:02</td><td>suspicious</td><td>MDC  </td><td>NA</td><td>NO </td><td>NO</td><td>Other  </td><td>Other          </td><td>Unknown</td><td>44.94041</td><td>-93.29200</td><td>5</td><td>CARAG                           </td></tr>\n",
       "\t<tr><th scope=row>6874</th><td>17-000651</td><td>2017-01-01 13:47:54</td><td>suspicious</td><td>other</td><td>NA</td><td>NA </td><td>NA</td><td>NA     </td><td>NA             </td><td>NA     </td><td>45.03940</td><td>-93.29015</td><td>4</td><td>Lind - Bohanon                  </td></tr>\n",
       "\t<tr><th scope=row>6875</th><td>17-000668</td><td>2017-01-01 14:38:12</td><td>suspicious</td><td>MDC  </td><td>NA</td><td>NO </td><td>NO</td><td>Unknown</td><td>Unknown        </td><td>Unknown</td><td>44.92955</td><td>-93.28439</td><td>5</td><td>King Field                      </td></tr>\n",
       "\t<tr><th scope=row>6876</th><td>17-000713</td><td>2017-01-01 15:36:30</td><td>suspicious</td><td>MDC  </td><td>NA</td><td>YES</td><td>NO</td><td>Unknown</td><td>Native American</td><td>Male   </td><td>44.95373</td><td>-93.25627</td><td>3</td><td>Midtown Phillips                </td></tr>\n",
       "\t<tr><th scope=row>⋮</th><td>⋮</td><td>⋮</td><td>⋮</td><td>⋮</td><td>⋮</td><td>⋮</td><td>⋮</td><td>⋮</td><td>⋮</td><td>⋮</td><td>⋮</td><td>⋮</td><td>⋮</td><td>⋮</td></tr>\n",
       "\t<tr><th scope=row>60774</th><td>17-490578</td><td>2017-12-31 00:10:08</td><td>suspicious</td><td>MDC  </td><td>NO </td><td>NO </td><td>NO </td><td>Unknown</td><td>Latino         </td><td>Male   </td><td>45.00598</td><td>-93.23717</td><td>2</td><td>Windom Park     </td></tr>\n",
       "\t<tr><th scope=row>60777</th><td>17-490585</td><td>2017-12-31 00:19:18</td><td>suspicious</td><td>MDC  </td><td>NO </td><td>NO </td><td>NO </td><td>Unknown</td><td>White          </td><td>Male   </td><td>44.98083</td><td>-93.27196</td><td>1</td><td>Downtown West   </td></tr>\n",
       "\t<tr><th scope=row>60782</th><td>17-490611</td><td>2017-12-31 00:43:51</td><td>suspicious</td><td>MDC  </td><td>NO </td><td>NO </td><td>NO </td><td>Unknown</td><td>Unknown        </td><td>Unknown</td><td>45.02133</td><td>-93.30320</td><td>4</td><td>Folwell         </td></tr>\n",
       "\t<tr><th scope=row>60784</th><td>17-490618</td><td>2017-12-31 00:53:04</td><td>suspicious</td><td>other</td><td>NA </td><td>NA </td><td>NA </td><td>NA     </td><td>NA             </td><td>NA     </td><td>44.93863</td><td>-93.27791</td><td>5</td><td>Lyndale         </td></tr>\n",
       "\t<tr><th scope=row>60786</th><td>17-490637</td><td>2017-12-31 01:20:34</td><td>suspicious</td><td>MDC  </td><td>NO </td><td>NO </td><td>NO </td><td>Unknown</td><td>White          </td><td>Male   </td><td>44.93498</td><td>-93.28823</td><td>5</td><td>King Field      </td></tr>\n",
       "\t<tr><th scope=row>60788</th><td>17-490682</td><td>2017-12-31 02:11:44</td><td>suspicious</td><td>MDC  </td><td>YES</td><td>NO </td><td>NO </td><td>Unknown</td><td>White          </td><td>Male   </td><td>44.94748</td><td>-93.28811</td><td>5</td><td>Lyndale         </td></tr>\n",
       "\t<tr><th scope=row>60792</th><td>17-490704</td><td>2017-12-31 02:31:37</td><td>suspicious</td><td>MDC  </td><td>NO </td><td>NO </td><td>NO </td><td>Unknown</td><td>Unknown        </td><td>Unknown</td><td>44.94837</td><td>-93.25314</td><td>3</td><td>Midtown Phillips</td></tr>\n",
       "\t<tr><th scope=row>60793</th><td>17-490705</td><td>2017-12-31 02:32:08</td><td>suspicious</td><td>MDC  </td><td>NO </td><td>NO </td><td>NO </td><td>White  </td><td>White          </td><td>Female </td><td>44.91628</td><td>-93.24794</td><td>3</td><td>Northrop        </td></tr>\n",
       "\t<tr><th scope=row>60794</th><td>17-490722</td><td>2017-12-31 02:54:42</td><td>suspicious</td><td>MDC  </td><td>NO </td><td>NO </td><td>NO </td><td>Unknown</td><td>Black          </td><td>Male   </td><td>44.97501</td><td>-93.27707</td><td>1</td><td>Downtown West   </td></tr>\n",
       "\t<tr><th scope=row>60798</th><td>17-490915</td><td>2017-12-31 11:35:43</td><td>suspicious</td><td>other</td><td>NA </td><td>NA </td><td>NA </td><td>NA     </td><td>NA             </td><td>NA     </td><td>44.97894</td><td>-93.28953</td><td>4</td><td>Harrison        </td></tr>\n",
       "\t<tr><th scope=row>60799</th><td>17-490957</td><td>2017-12-31 12:58:22</td><td>suspicious</td><td>MDC  </td><td>NO </td><td>NO </td><td>NO </td><td>Unknown</td><td>Unknown        </td><td>Unknown</td><td>44.95464</td><td>-93.28678</td><td>5</td><td>Whittier        </td></tr>\n",
       "\t<tr><th scope=row>60800</th><td>17-490971</td><td>2017-12-31 13:14:17</td><td>suspicious</td><td>MDC  </td><td>NO </td><td>NO </td><td>NO </td><td>Unknown</td><td>Unknown        </td><td>Unknown</td><td>44.93684</td><td>-93.25241</td><td>3</td><td>Powderhorn Park </td></tr>\n",
       "\t<tr><th scope=row>60802</th><td>17-490994</td><td>2017-12-31 14:01:34</td><td>suspicious</td><td>MDC  </td><td>NO </td><td>NO </td><td>NO </td><td>Black  </td><td>Black          </td><td>Male   </td><td>44.98123</td><td>-93.26859</td><td>1</td><td>Downtown West   </td></tr>\n",
       "\t<tr><th scope=row>60803</th><td>17-491005</td><td>2017-12-31 14:23:18</td><td>suspicious</td><td>MDC  </td><td>NO </td><td>NO </td><td>NO </td><td>Unknown</td><td>Unknown        </td><td>Unknown</td><td>44.94835</td><td>-93.27095</td><td>3</td><td>Phillips West   </td></tr>\n",
       "\t<tr><th scope=row>60804</th><td>17-491040</td><td>2017-12-31 15:14:37</td><td>suspicious</td><td>other</td><td>NA </td><td>NA </td><td>NA </td><td>NA     </td><td>NA             </td><td>NA     </td><td>44.99791</td><td>-93.31462</td><td>4</td><td>Willard - Hay   </td></tr>\n",
       "\t<tr><th scope=row>60805</th><td>17-491132</td><td>2017-12-31 17:50:40</td><td>suspicious</td><td>other</td><td>NA </td><td>NA </td><td>NA </td><td>NA     </td><td>NA             </td><td>NA     </td><td>45.00848</td><td>-93.31403</td><td>4</td><td>Willard - Hay   </td></tr>\n",
       "\t<tr><th scope=row>60807</th><td>17-491162</td><td>2017-12-31 18:17:52</td><td>suspicious</td><td>MDC  </td><td>NO </td><td>NO </td><td>NO </td><td>Unknown</td><td>White          </td><td>Male   </td><td>45.01316</td><td>-93.24734</td><td>2</td><td>Audubon Park    </td></tr>\n",
       "\t<tr><th scope=row>60811</th><td>17-491221</td><td>2017-12-31 19:17:41</td><td>suspicious</td><td>MDC  </td><td>NO </td><td>NO </td><td>NO </td><td>Unknown</td><td>White          </td><td>Male   </td><td>44.94920</td><td>-93.29319</td><td>5</td><td>Lowry Hill East </td></tr>\n",
       "\t<tr><th scope=row>60815</th><td>17-491245</td><td>2017-12-31 19:57:58</td><td>suspicious</td><td>MDC  </td><td>NO </td><td>NO </td><td>NO </td><td>Unknown</td><td>Unknown        </td><td>Unknown</td><td>44.98262</td><td>-93.29820</td><td>4</td><td>Harrison        </td></tr>\n",
       "\t<tr><th scope=row>60816</th><td>17-491247</td><td>2017-12-31 20:02:09</td><td>suspicious</td><td>other</td><td>NA </td><td>NA </td><td>NA </td><td>NA     </td><td>NA             </td><td>NA     </td><td>44.98598</td><td>-93.28148</td><td>1</td><td>North Loop      </td></tr>\n",
       "\t<tr><th scope=row>60818</th><td>17-491250</td><td>2017-12-31 20:04:07</td><td>suspicious</td><td>MDC  </td><td>NO </td><td>NO </td><td>NO </td><td>Unknown</td><td>Black          </td><td>Male   </td><td>44.92953</td><td>-93.28827</td><td>5</td><td>East Harriet    </td></tr>\n",
       "\t<tr><th scope=row>60821</th><td>17-491261</td><td>2017-12-31 20:26:41</td><td>suspicious</td><td>other</td><td>NA </td><td>NA </td><td>NA </td><td>NA     </td><td>NA             </td><td>NA     </td><td>44.95644</td><td>-93.25497</td><td>3</td><td>Midtown Phillips</td></tr>\n",
       "\t<tr><th scope=row>60823</th><td>17-491265</td><td>2017-12-31 20:30:39</td><td>suspicious</td><td>MDC  </td><td>YES</td><td>YES</td><td>YES</td><td>Unknown</td><td>Native American</td><td>Female </td><td>44.98104</td><td>-93.23717</td><td>2</td><td>Marcy Holmes    </td></tr>\n",
       "\t<tr><th scope=row>60825</th><td>17-491324</td><td>2017-12-31 21:31:17</td><td>suspicious</td><td>MDC  </td><td>NO </td><td>YES</td><td>NO </td><td>Unknown</td><td>Native American</td><td>Female </td><td>44.95646</td><td>-93.24735</td><td>3</td><td>East Phillips   </td></tr>\n",
       "\t<tr><th scope=row>60828</th><td>17-491351</td><td>2017-12-31 21:56:33</td><td>suspicious</td><td>MDC  </td><td>NO </td><td>NO </td><td>NO </td><td>Unknown</td><td>Unknown        </td><td>Unknown</td><td>45.04843</td><td>-93.29407</td><td>4</td><td>Lind - Bohanon  </td></tr>\n",
       "\t<tr><th scope=row>60829</th><td>17-491366</td><td>2017-12-31 22:07:19</td><td>suspicious</td><td>MDC  </td><td>NO </td><td>NO </td><td>NO </td><td>Unknown</td><td>Unknown        </td><td>Male   </td><td>45.02304</td><td>-93.29058</td><td>4</td><td>McKinley        </td></tr>\n",
       "\t<tr><th scope=row>60831</th><td>17-491414</td><td>2017-12-31 22:50:49</td><td>suspicious</td><td>other</td><td>NA </td><td>NA </td><td>NA </td><td>NA     </td><td>NA             </td><td>NA     </td><td>44.96986</td><td>-93.28008</td><td>1</td><td>Loring Park     </td></tr>\n",
       "\t<tr><th scope=row>60832</th><td>17-491435</td><td>2017-12-31 23:08:18</td><td>suspicious</td><td>other</td><td>NA </td><td>NA </td><td>NA </td><td>NA     </td><td>NA             </td><td>NA     </td><td>45.01497</td><td>-93.24734</td><td>2</td><td>Holland         </td></tr>\n",
       "\t<tr><th scope=row>60833</th><td>17-491438</td><td>2017-12-31 23:11:15</td><td>suspicious</td><td>MDC  </td><td>NO </td><td>NO </td><td>NO </td><td>Unknown</td><td>Unknown        </td><td>Unknown</td><td>44.93141</td><td>-93.23466</td><td>3</td><td>Standish        </td></tr>\n",
       "\t<tr><th scope=row>60835</th><td>17-491445</td><td>2017-12-31 23:18:32</td><td>suspicious</td><td>MDC  </td><td>NO </td><td>NO </td><td>NO </td><td>Unknown</td><td>Unknown        </td><td>Unknown</td><td>44.95915</td><td>-93.27785</td><td>5</td><td>Whittier        </td></tr>\n",
       "</tbody>\n",
       "</table>\n"
      ],
      "text/latex": [
       "A data.frame: 25822 × 14\n",
       "\\begin{tabular}{r|llllllllllllll}\n",
       "  & idNum & date & problem & MDC & citationIssued & personSearch & vehicleSearch & preRace & race & gender & lat & long & policePrecinct & neighborhood\\\\\n",
       "  & <fct> & <dttm> & <fct> & <fct> & <fct> & <fct> & <fct> & <fct> & <fct> & <fct> & <dbl> & <dbl> & <int> & <fct>\\\\\n",
       "\\hline\n",
       "\t6823 & 17-000003 & 2017-01-01 00:00:42 & suspicious & MDC   & NA & NO  & NO & Unknown & Unknown         & Unknown & 44.96662 & -93.24646 & 1 & Cedar Riverside                 \\\\\n",
       "\t6824 & 17-000007 & 2017-01-01 00:03:07 & suspicious & MDC   & NA & NO  & NO & Unknown & Unknown         & Male    & 44.98045 & -93.27134 & 1 & Downtown West                   \\\\\n",
       "\t6826 & 17-000092 & 2017-01-01 00:33:48 & suspicious & MDC   & NA & NO  & NO & Unknown & East African    & Male    & 44.94836 & -93.28135 & 5 & Whittier                        \\\\\n",
       "\t6829 & 17-000114 & 2017-01-01 00:48:46 & suspicious & MDC   & NA & NO  & NO & Unknown & Black           & Male    & 44.98081 & -93.27314 & 1 & Downtown West                   \\\\\n",
       "\t6833 & 17-000149 & 2017-01-01 01:09:13 & suspicious & MDC   & NA & NO  & NO & White   & Unknown         & Male    & 44.96458 & -93.27658 & 5 & Steven's Square - Loring Heights\\\\\n",
       "\t6837 & 17-000204 & 2017-01-01 01:41:24 & suspicious & MDC   & NA & NO  & NO & Unknown & White           & Female  & 44.98045 & -93.27134 & 1 & Downtown West                   \\\\\n",
       "\t6838 & 17-000211 & 2017-01-01 01:45:09 & suspicious & MDC   & NA & NO  & NO & Unknown & Unknown         & Unknown & 44.98078 & -93.27430 & 1 & Downtown West                   \\\\\n",
       "\t6839 & 17-000220 & 2017-01-01 01:51:02 & suspicious & MDC   & NA & NO  & NO & Unknown & White           & Female  & 44.99150 & -93.30572 & 4 & Willard - Hay                   \\\\\n",
       "\t6840 & 17-000224 & 2017-01-01 01:52:52 & suspicious & other & NA & NA  & NA & NA      & NA              & NA      & 44.98124 & -93.27254 & 1 & Downtown West                   \\\\\n",
       "\t6842 & 17-000236 & 2017-01-01 02:04:13 & suspicious & MDC   & NA & NO  & NO & Black   & Unknown         & Male    & 44.94925 & -93.29573 & 5 & Lowry Hill East                 \\\\\n",
       "\t6845 & 17-000290 & 2017-01-01 02:33:22 & suspicious & MDC   & NA & YES & NO & Black   & Black           & Male    & 44.98074 & -93.28960 & 4 & Sumner - Glenwood               \\\\\n",
       "\t6851 & 17-000365 & 2017-01-01 03:16:11 & suspicious & other & NA & NA  & NA & NA      & NA              & NA      & 45.01044 & -93.29306 & 4 & Hawthorne                       \\\\\n",
       "\t6853 & 17-000388 & 2017-01-01 03:26:59 & suspicious & MDC   & NA & NO  & NO & Unknown & Unknown         & Unknown & 44.95464 & -93.28131 & 5 & Whittier                        \\\\\n",
       "\t6854 & 17-000395 & 2017-01-01 03:33:29 & suspicious & MDC   & NA & NO  & NO & Black   & Unknown         & Unknown & 45.02393 & -93.23904 & 2 & Audubon Park                    \\\\\n",
       "\t6855 & 17-000414 & 2017-01-01 04:00:02 & suspicious & other & NA & NA  & NA & NA      & NA              & NA      & 44.97246 & -93.26489 & 1 & Elliot Park                     \\\\\n",
       "\t6856 & 17-000421 & 2017-01-01 04:05:54 & suspicious & other & NA & NA  & NA & NA      & NA              & NA      & 44.99150 & -93.30509 & 4 & Willard - Hay                   \\\\\n",
       "\t6857 & 17-000426 & 2017-01-01 04:20:33 & suspicious & other & NA & NA  & NA & NA      & NA              & NA      & 44.90901 & -93.21456 & 3 & Minnehaha                       \\\\\n",
       "\t6861 & 17-000488 & 2017-01-01 06:47:07 & suspicious & MDC   & NA & NO  & NO & Black   & Unknown         & Unknown & 44.94044 & -93.27792 & 5 & Lyndale                         \\\\\n",
       "\t6863 & 17-000536 & 2017-01-01 09:02:59 & suspicious & MDC   & NA & NO  & NO & Black   & Unknown         & Male    & 44.97092 & -93.25508 & 1 & Downtown East                   \\\\\n",
       "\t6864 & 17-000547 & 2017-01-01 09:48:36 & suspicious & MDC   & NA & NO  & NO & Unknown & Unknown         & Unknown & 44.93863 & -93.24228 & 3 & Corcoran                        \\\\\n",
       "\t6865 & 17-000549 & 2017-01-01 09:51:43 & suspicious & MDC   & NA & NO  & NO & Unknown & Unknown         & Unknown & 44.93773 & -93.24058 & 3 & Standish                        \\\\\n",
       "\t6867 & 17-000576 & 2017-01-01 10:41:29 & suspicious & MDC   & NA & NO  & NO & Unknown & Unknown         & Unknown & 45.04118 & -93.29786 & 4 & Lind - Bohanon                  \\\\\n",
       "\t6868 & 17-000601 & 2017-01-01 11:49:49 & suspicious & other & NA & NA  & NA & NA      & NA              & NA      & 45.02121 & -93.28804 & 4 & McKinley                        \\\\\n",
       "\t6869 & 17-000619 & 2017-01-01 12:43:26 & suspicious & MDC   & NA & YES & NO & Unknown & Black           & Male    & 45.04843 & -93.29407 & 4 & Lind - Bohanon                  \\\\\n",
       "\t6871 & 17-000637 & 2017-01-01 13:24:55 & suspicious & MDC   & NA & NO  & NO & Other   & Other           & Unknown & 44.93770 & -93.28627 & 5 & King Field                      \\\\\n",
       "\t6872 & 17-000639 & 2017-01-01 13:34:06 & suspicious & MDC   & NA & NO  & NO & Other   & Other           & Unknown & 44.93951 & -93.29265 & 5 & CARAG                           \\\\\n",
       "\t6873 & 17-000646 & 2017-01-01 13:41:02 & suspicious & MDC   & NA & NO  & NO & Other   & Other           & Unknown & 44.94041 & -93.29200 & 5 & CARAG                           \\\\\n",
       "\t6874 & 17-000651 & 2017-01-01 13:47:54 & suspicious & other & NA & NA  & NA & NA      & NA              & NA      & 45.03940 & -93.29015 & 4 & Lind - Bohanon                  \\\\\n",
       "\t6875 & 17-000668 & 2017-01-01 14:38:12 & suspicious & MDC   & NA & NO  & NO & Unknown & Unknown         & Unknown & 44.92955 & -93.28439 & 5 & King Field                      \\\\\n",
       "\t6876 & 17-000713 & 2017-01-01 15:36:30 & suspicious & MDC   & NA & YES & NO & Unknown & Native American & Male    & 44.95373 & -93.25627 & 3 & Midtown Phillips                \\\\\n",
       "\t⋮ & ⋮ & ⋮ & ⋮ & ⋮ & ⋮ & ⋮ & ⋮ & ⋮ & ⋮ & ⋮ & ⋮ & ⋮ & ⋮ & ⋮\\\\\n",
       "\t60774 & 17-490578 & 2017-12-31 00:10:08 & suspicious & MDC   & NO  & NO  & NO  & Unknown & Latino          & Male    & 45.00598 & -93.23717 & 2 & Windom Park     \\\\\n",
       "\t60777 & 17-490585 & 2017-12-31 00:19:18 & suspicious & MDC   & NO  & NO  & NO  & Unknown & White           & Male    & 44.98083 & -93.27196 & 1 & Downtown West   \\\\\n",
       "\t60782 & 17-490611 & 2017-12-31 00:43:51 & suspicious & MDC   & NO  & NO  & NO  & Unknown & Unknown         & Unknown & 45.02133 & -93.30320 & 4 & Folwell         \\\\\n",
       "\t60784 & 17-490618 & 2017-12-31 00:53:04 & suspicious & other & NA  & NA  & NA  & NA      & NA              & NA      & 44.93863 & -93.27791 & 5 & Lyndale         \\\\\n",
       "\t60786 & 17-490637 & 2017-12-31 01:20:34 & suspicious & MDC   & NO  & NO  & NO  & Unknown & White           & Male    & 44.93498 & -93.28823 & 5 & King Field      \\\\\n",
       "\t60788 & 17-490682 & 2017-12-31 02:11:44 & suspicious & MDC   & YES & NO  & NO  & Unknown & White           & Male    & 44.94748 & -93.28811 & 5 & Lyndale         \\\\\n",
       "\t60792 & 17-490704 & 2017-12-31 02:31:37 & suspicious & MDC   & NO  & NO  & NO  & Unknown & Unknown         & Unknown & 44.94837 & -93.25314 & 3 & Midtown Phillips\\\\\n",
       "\t60793 & 17-490705 & 2017-12-31 02:32:08 & suspicious & MDC   & NO  & NO  & NO  & White   & White           & Female  & 44.91628 & -93.24794 & 3 & Northrop        \\\\\n",
       "\t60794 & 17-490722 & 2017-12-31 02:54:42 & suspicious & MDC   & NO  & NO  & NO  & Unknown & Black           & Male    & 44.97501 & -93.27707 & 1 & Downtown West   \\\\\n",
       "\t60798 & 17-490915 & 2017-12-31 11:35:43 & suspicious & other & NA  & NA  & NA  & NA      & NA              & NA      & 44.97894 & -93.28953 & 4 & Harrison        \\\\\n",
       "\t60799 & 17-490957 & 2017-12-31 12:58:22 & suspicious & MDC   & NO  & NO  & NO  & Unknown & Unknown         & Unknown & 44.95464 & -93.28678 & 5 & Whittier        \\\\\n",
       "\t60800 & 17-490971 & 2017-12-31 13:14:17 & suspicious & MDC   & NO  & NO  & NO  & Unknown & Unknown         & Unknown & 44.93684 & -93.25241 & 3 & Powderhorn Park \\\\\n",
       "\t60802 & 17-490994 & 2017-12-31 14:01:34 & suspicious & MDC   & NO  & NO  & NO  & Black   & Black           & Male    & 44.98123 & -93.26859 & 1 & Downtown West   \\\\\n",
       "\t60803 & 17-491005 & 2017-12-31 14:23:18 & suspicious & MDC   & NO  & NO  & NO  & Unknown & Unknown         & Unknown & 44.94835 & -93.27095 & 3 & Phillips West   \\\\\n",
       "\t60804 & 17-491040 & 2017-12-31 15:14:37 & suspicious & other & NA  & NA  & NA  & NA      & NA              & NA      & 44.99791 & -93.31462 & 4 & Willard - Hay   \\\\\n",
       "\t60805 & 17-491132 & 2017-12-31 17:50:40 & suspicious & other & NA  & NA  & NA  & NA      & NA              & NA      & 45.00848 & -93.31403 & 4 & Willard - Hay   \\\\\n",
       "\t60807 & 17-491162 & 2017-12-31 18:17:52 & suspicious & MDC   & NO  & NO  & NO  & Unknown & White           & Male    & 45.01316 & -93.24734 & 2 & Audubon Park    \\\\\n",
       "\t60811 & 17-491221 & 2017-12-31 19:17:41 & suspicious & MDC   & NO  & NO  & NO  & Unknown & White           & Male    & 44.94920 & -93.29319 & 5 & Lowry Hill East \\\\\n",
       "\t60815 & 17-491245 & 2017-12-31 19:57:58 & suspicious & MDC   & NO  & NO  & NO  & Unknown & Unknown         & Unknown & 44.98262 & -93.29820 & 4 & Harrison        \\\\\n",
       "\t60816 & 17-491247 & 2017-12-31 20:02:09 & suspicious & other & NA  & NA  & NA  & NA      & NA              & NA      & 44.98598 & -93.28148 & 1 & North Loop      \\\\\n",
       "\t60818 & 17-491250 & 2017-12-31 20:04:07 & suspicious & MDC   & NO  & NO  & NO  & Unknown & Black           & Male    & 44.92953 & -93.28827 & 5 & East Harriet    \\\\\n",
       "\t60821 & 17-491261 & 2017-12-31 20:26:41 & suspicious & other & NA  & NA  & NA  & NA      & NA              & NA      & 44.95644 & -93.25497 & 3 & Midtown Phillips\\\\\n",
       "\t60823 & 17-491265 & 2017-12-31 20:30:39 & suspicious & MDC   & YES & YES & YES & Unknown & Native American & Female  & 44.98104 & -93.23717 & 2 & Marcy Holmes    \\\\\n",
       "\t60825 & 17-491324 & 2017-12-31 21:31:17 & suspicious & MDC   & NO  & YES & NO  & Unknown & Native American & Female  & 44.95646 & -93.24735 & 3 & East Phillips   \\\\\n",
       "\t60828 & 17-491351 & 2017-12-31 21:56:33 & suspicious & MDC   & NO  & NO  & NO  & Unknown & Unknown         & Unknown & 45.04843 & -93.29407 & 4 & Lind - Bohanon  \\\\\n",
       "\t60829 & 17-491366 & 2017-12-31 22:07:19 & suspicious & MDC   & NO  & NO  & NO  & Unknown & Unknown         & Male    & 45.02304 & -93.29058 & 4 & McKinley        \\\\\n",
       "\t60831 & 17-491414 & 2017-12-31 22:50:49 & suspicious & other & NA  & NA  & NA  & NA      & NA              & NA      & 44.96986 & -93.28008 & 1 & Loring Park     \\\\\n",
       "\t60832 & 17-491435 & 2017-12-31 23:08:18 & suspicious & other & NA  & NA  & NA  & NA      & NA              & NA      & 45.01497 & -93.24734 & 2 & Holland         \\\\\n",
       "\t60833 & 17-491438 & 2017-12-31 23:11:15 & suspicious & MDC   & NO  & NO  & NO  & Unknown & Unknown         & Unknown & 44.93141 & -93.23466 & 3 & Standish        \\\\\n",
       "\t60835 & 17-491445 & 2017-12-31 23:18:32 & suspicious & MDC   & NO  & NO  & NO  & Unknown & Unknown         & Unknown & 44.95915 & -93.27785 & 5 & Whittier        \\\\\n",
       "\\end{tabular}\n"
      ],
      "text/markdown": [
       "\n",
       "A data.frame: 25822 × 14\n",
       "\n",
       "| <!--/--> | idNum &lt;fct&gt; | date &lt;dttm&gt; | problem &lt;fct&gt; | MDC &lt;fct&gt; | citationIssued &lt;fct&gt; | personSearch &lt;fct&gt; | vehicleSearch &lt;fct&gt; | preRace &lt;fct&gt; | race &lt;fct&gt; | gender &lt;fct&gt; | lat &lt;dbl&gt; | long &lt;dbl&gt; | policePrecinct &lt;int&gt; | neighborhood &lt;fct&gt; |\n",
       "|---|---|---|---|---|---|---|---|---|---|---|---|---|---|---|\n",
       "| 6823 | 17-000003 | 2017-01-01 00:00:42 | suspicious | MDC   | NA | NO  | NO | Unknown | Unknown         | Unknown | 44.96662 | -93.24646 | 1 | Cedar Riverside                  |\n",
       "| 6824 | 17-000007 | 2017-01-01 00:03:07 | suspicious | MDC   | NA | NO  | NO | Unknown | Unknown         | Male    | 44.98045 | -93.27134 | 1 | Downtown West                    |\n",
       "| 6826 | 17-000092 | 2017-01-01 00:33:48 | suspicious | MDC   | NA | NO  | NO | Unknown | East African    | Male    | 44.94836 | -93.28135 | 5 | Whittier                         |\n",
       "| 6829 | 17-000114 | 2017-01-01 00:48:46 | suspicious | MDC   | NA | NO  | NO | Unknown | Black           | Male    | 44.98081 | -93.27314 | 1 | Downtown West                    |\n",
       "| 6833 | 17-000149 | 2017-01-01 01:09:13 | suspicious | MDC   | NA | NO  | NO | White   | Unknown         | Male    | 44.96458 | -93.27658 | 5 | Steven's Square - Loring Heights |\n",
       "| 6837 | 17-000204 | 2017-01-01 01:41:24 | suspicious | MDC   | NA | NO  | NO | Unknown | White           | Female  | 44.98045 | -93.27134 | 1 | Downtown West                    |\n",
       "| 6838 | 17-000211 | 2017-01-01 01:45:09 | suspicious | MDC   | NA | NO  | NO | Unknown | Unknown         | Unknown | 44.98078 | -93.27430 | 1 | Downtown West                    |\n",
       "| 6839 | 17-000220 | 2017-01-01 01:51:02 | suspicious | MDC   | NA | NO  | NO | Unknown | White           | Female  | 44.99150 | -93.30572 | 4 | Willard - Hay                    |\n",
       "| 6840 | 17-000224 | 2017-01-01 01:52:52 | suspicious | other | NA | NA  | NA | NA      | NA              | NA      | 44.98124 | -93.27254 | 1 | Downtown West                    |\n",
       "| 6842 | 17-000236 | 2017-01-01 02:04:13 | suspicious | MDC   | NA | NO  | NO | Black   | Unknown         | Male    | 44.94925 | -93.29573 | 5 | Lowry Hill East                  |\n",
       "| 6845 | 17-000290 | 2017-01-01 02:33:22 | suspicious | MDC   | NA | YES | NO | Black   | Black           | Male    | 44.98074 | -93.28960 | 4 | Sumner - Glenwood                |\n",
       "| 6851 | 17-000365 | 2017-01-01 03:16:11 | suspicious | other | NA | NA  | NA | NA      | NA              | NA      | 45.01044 | -93.29306 | 4 | Hawthorne                        |\n",
       "| 6853 | 17-000388 | 2017-01-01 03:26:59 | suspicious | MDC   | NA | NO  | NO | Unknown | Unknown         | Unknown | 44.95464 | -93.28131 | 5 | Whittier                         |\n",
       "| 6854 | 17-000395 | 2017-01-01 03:33:29 | suspicious | MDC   | NA | NO  | NO | Black   | Unknown         | Unknown | 45.02393 | -93.23904 | 2 | Audubon Park                     |\n",
       "| 6855 | 17-000414 | 2017-01-01 04:00:02 | suspicious | other | NA | NA  | NA | NA      | NA              | NA      | 44.97246 | -93.26489 | 1 | Elliot Park                      |\n",
       "| 6856 | 17-000421 | 2017-01-01 04:05:54 | suspicious | other | NA | NA  | NA | NA      | NA              | NA      | 44.99150 | -93.30509 | 4 | Willard - Hay                    |\n",
       "| 6857 | 17-000426 | 2017-01-01 04:20:33 | suspicious | other | NA | NA  | NA | NA      | NA              | NA      | 44.90901 | -93.21456 | 3 | Minnehaha                        |\n",
       "| 6861 | 17-000488 | 2017-01-01 06:47:07 | suspicious | MDC   | NA | NO  | NO | Black   | Unknown         | Unknown | 44.94044 | -93.27792 | 5 | Lyndale                          |\n",
       "| 6863 | 17-000536 | 2017-01-01 09:02:59 | suspicious | MDC   | NA | NO  | NO | Black   | Unknown         | Male    | 44.97092 | -93.25508 | 1 | Downtown East                    |\n",
       "| 6864 | 17-000547 | 2017-01-01 09:48:36 | suspicious | MDC   | NA | NO  | NO | Unknown | Unknown         | Unknown | 44.93863 | -93.24228 | 3 | Corcoran                         |\n",
       "| 6865 | 17-000549 | 2017-01-01 09:51:43 | suspicious | MDC   | NA | NO  | NO | Unknown | Unknown         | Unknown | 44.93773 | -93.24058 | 3 | Standish                         |\n",
       "| 6867 | 17-000576 | 2017-01-01 10:41:29 | suspicious | MDC   | NA | NO  | NO | Unknown | Unknown         | Unknown | 45.04118 | -93.29786 | 4 | Lind - Bohanon                   |\n",
       "| 6868 | 17-000601 | 2017-01-01 11:49:49 | suspicious | other | NA | NA  | NA | NA      | NA              | NA      | 45.02121 | -93.28804 | 4 | McKinley                         |\n",
       "| 6869 | 17-000619 | 2017-01-01 12:43:26 | suspicious | MDC   | NA | YES | NO | Unknown | Black           | Male    | 45.04843 | -93.29407 | 4 | Lind - Bohanon                   |\n",
       "| 6871 | 17-000637 | 2017-01-01 13:24:55 | suspicious | MDC   | NA | NO  | NO | Other   | Other           | Unknown | 44.93770 | -93.28627 | 5 | King Field                       |\n",
       "| 6872 | 17-000639 | 2017-01-01 13:34:06 | suspicious | MDC   | NA | NO  | NO | Other   | Other           | Unknown | 44.93951 | -93.29265 | 5 | CARAG                            |\n",
       "| 6873 | 17-000646 | 2017-01-01 13:41:02 | suspicious | MDC   | NA | NO  | NO | Other   | Other           | Unknown | 44.94041 | -93.29200 | 5 | CARAG                            |\n",
       "| 6874 | 17-000651 | 2017-01-01 13:47:54 | suspicious | other | NA | NA  | NA | NA      | NA              | NA      | 45.03940 | -93.29015 | 4 | Lind - Bohanon                   |\n",
       "| 6875 | 17-000668 | 2017-01-01 14:38:12 | suspicious | MDC   | NA | NO  | NO | Unknown | Unknown         | Unknown | 44.92955 | -93.28439 | 5 | King Field                       |\n",
       "| 6876 | 17-000713 | 2017-01-01 15:36:30 | suspicious | MDC   | NA | YES | NO | Unknown | Native American | Male    | 44.95373 | -93.25627 | 3 | Midtown Phillips                 |\n",
       "| ⋮ | ⋮ | ⋮ | ⋮ | ⋮ | ⋮ | ⋮ | ⋮ | ⋮ | ⋮ | ⋮ | ⋮ | ⋮ | ⋮ | ⋮ |\n",
       "| 60774 | 17-490578 | 2017-12-31 00:10:08 | suspicious | MDC   | NO  | NO  | NO  | Unknown | Latino          | Male    | 45.00598 | -93.23717 | 2 | Windom Park      |\n",
       "| 60777 | 17-490585 | 2017-12-31 00:19:18 | suspicious | MDC   | NO  | NO  | NO  | Unknown | White           | Male    | 44.98083 | -93.27196 | 1 | Downtown West    |\n",
       "| 60782 | 17-490611 | 2017-12-31 00:43:51 | suspicious | MDC   | NO  | NO  | NO  | Unknown | Unknown         | Unknown | 45.02133 | -93.30320 | 4 | Folwell          |\n",
       "| 60784 | 17-490618 | 2017-12-31 00:53:04 | suspicious | other | NA  | NA  | NA  | NA      | NA              | NA      | 44.93863 | -93.27791 | 5 | Lyndale          |\n",
       "| 60786 | 17-490637 | 2017-12-31 01:20:34 | suspicious | MDC   | NO  | NO  | NO  | Unknown | White           | Male    | 44.93498 | -93.28823 | 5 | King Field       |\n",
       "| 60788 | 17-490682 | 2017-12-31 02:11:44 | suspicious | MDC   | YES | NO  | NO  | Unknown | White           | Male    | 44.94748 | -93.28811 | 5 | Lyndale          |\n",
       "| 60792 | 17-490704 | 2017-12-31 02:31:37 | suspicious | MDC   | NO  | NO  | NO  | Unknown | Unknown         | Unknown | 44.94837 | -93.25314 | 3 | Midtown Phillips |\n",
       "| 60793 | 17-490705 | 2017-12-31 02:32:08 | suspicious | MDC   | NO  | NO  | NO  | White   | White           | Female  | 44.91628 | -93.24794 | 3 | Northrop         |\n",
       "| 60794 | 17-490722 | 2017-12-31 02:54:42 | suspicious | MDC   | NO  | NO  | NO  | Unknown | Black           | Male    | 44.97501 | -93.27707 | 1 | Downtown West    |\n",
       "| 60798 | 17-490915 | 2017-12-31 11:35:43 | suspicious | other | NA  | NA  | NA  | NA      | NA              | NA      | 44.97894 | -93.28953 | 4 | Harrison         |\n",
       "| 60799 | 17-490957 | 2017-12-31 12:58:22 | suspicious | MDC   | NO  | NO  | NO  | Unknown | Unknown         | Unknown | 44.95464 | -93.28678 | 5 | Whittier         |\n",
       "| 60800 | 17-490971 | 2017-12-31 13:14:17 | suspicious | MDC   | NO  | NO  | NO  | Unknown | Unknown         | Unknown | 44.93684 | -93.25241 | 3 | Powderhorn Park  |\n",
       "| 60802 | 17-490994 | 2017-12-31 14:01:34 | suspicious | MDC   | NO  | NO  | NO  | Black   | Black           | Male    | 44.98123 | -93.26859 | 1 | Downtown West    |\n",
       "| 60803 | 17-491005 | 2017-12-31 14:23:18 | suspicious | MDC   | NO  | NO  | NO  | Unknown | Unknown         | Unknown | 44.94835 | -93.27095 | 3 | Phillips West    |\n",
       "| 60804 | 17-491040 | 2017-12-31 15:14:37 | suspicious | other | NA  | NA  | NA  | NA      | NA              | NA      | 44.99791 | -93.31462 | 4 | Willard - Hay    |\n",
       "| 60805 | 17-491132 | 2017-12-31 17:50:40 | suspicious | other | NA  | NA  | NA  | NA      | NA              | NA      | 45.00848 | -93.31403 | 4 | Willard - Hay    |\n",
       "| 60807 | 17-491162 | 2017-12-31 18:17:52 | suspicious | MDC   | NO  | NO  | NO  | Unknown | White           | Male    | 45.01316 | -93.24734 | 2 | Audubon Park     |\n",
       "| 60811 | 17-491221 | 2017-12-31 19:17:41 | suspicious | MDC   | NO  | NO  | NO  | Unknown | White           | Male    | 44.94920 | -93.29319 | 5 | Lowry Hill East  |\n",
       "| 60815 | 17-491245 | 2017-12-31 19:57:58 | suspicious | MDC   | NO  | NO  | NO  | Unknown | Unknown         | Unknown | 44.98262 | -93.29820 | 4 | Harrison         |\n",
       "| 60816 | 17-491247 | 2017-12-31 20:02:09 | suspicious | other | NA  | NA  | NA  | NA      | NA              | NA      | 44.98598 | -93.28148 | 1 | North Loop       |\n",
       "| 60818 | 17-491250 | 2017-12-31 20:04:07 | suspicious | MDC   | NO  | NO  | NO  | Unknown | Black           | Male    | 44.92953 | -93.28827 | 5 | East Harriet     |\n",
       "| 60821 | 17-491261 | 2017-12-31 20:26:41 | suspicious | other | NA  | NA  | NA  | NA      | NA              | NA      | 44.95644 | -93.25497 | 3 | Midtown Phillips |\n",
       "| 60823 | 17-491265 | 2017-12-31 20:30:39 | suspicious | MDC   | YES | YES | YES | Unknown | Native American | Female  | 44.98104 | -93.23717 | 2 | Marcy Holmes     |\n",
       "| 60825 | 17-491324 | 2017-12-31 21:31:17 | suspicious | MDC   | NO  | YES | NO  | Unknown | Native American | Female  | 44.95646 | -93.24735 | 3 | East Phillips    |\n",
       "| 60828 | 17-491351 | 2017-12-31 21:56:33 | suspicious | MDC   | NO  | NO  | NO  | Unknown | Unknown         | Unknown | 45.04843 | -93.29407 | 4 | Lind - Bohanon   |\n",
       "| 60829 | 17-491366 | 2017-12-31 22:07:19 | suspicious | MDC   | NO  | NO  | NO  | Unknown | Unknown         | Male    | 45.02304 | -93.29058 | 4 | McKinley         |\n",
       "| 60831 | 17-491414 | 2017-12-31 22:50:49 | suspicious | other | NA  | NA  | NA  | NA      | NA              | NA      | 44.96986 | -93.28008 | 1 | Loring Park      |\n",
       "| 60832 | 17-491435 | 2017-12-31 23:08:18 | suspicious | other | NA  | NA  | NA  | NA      | NA              | NA      | 45.01497 | -93.24734 | 2 | Holland          |\n",
       "| 60833 | 17-491438 | 2017-12-31 23:11:15 | suspicious | MDC   | NO  | NO  | NO  | Unknown | Unknown         | Unknown | 44.93141 | -93.23466 | 3 | Standish         |\n",
       "| 60835 | 17-491445 | 2017-12-31 23:18:32 | suspicious | MDC   | NO  | NO  | NO  | Unknown | Unknown         | Unknown | 44.95915 | -93.27785 | 5 | Whittier         |\n",
       "\n"
      ],
      "text/plain": [
       "      idNum     date                problem    MDC   citationIssued\n",
       "6823  17-000003 2017-01-01 00:00:42 suspicious MDC   NA            \n",
       "6824  17-000007 2017-01-01 00:03:07 suspicious MDC   NA            \n",
       "6826  17-000092 2017-01-01 00:33:48 suspicious MDC   NA            \n",
       "6829  17-000114 2017-01-01 00:48:46 suspicious MDC   NA            \n",
       "6833  17-000149 2017-01-01 01:09:13 suspicious MDC   NA            \n",
       "6837  17-000204 2017-01-01 01:41:24 suspicious MDC   NA            \n",
       "6838  17-000211 2017-01-01 01:45:09 suspicious MDC   NA            \n",
       "6839  17-000220 2017-01-01 01:51:02 suspicious MDC   NA            \n",
       "6840  17-000224 2017-01-01 01:52:52 suspicious other NA            \n",
       "6842  17-000236 2017-01-01 02:04:13 suspicious MDC   NA            \n",
       "6845  17-000290 2017-01-01 02:33:22 suspicious MDC   NA            \n",
       "6851  17-000365 2017-01-01 03:16:11 suspicious other NA            \n",
       "6853  17-000388 2017-01-01 03:26:59 suspicious MDC   NA            \n",
       "6854  17-000395 2017-01-01 03:33:29 suspicious MDC   NA            \n",
       "6855  17-000414 2017-01-01 04:00:02 suspicious other NA            \n",
       "6856  17-000421 2017-01-01 04:05:54 suspicious other NA            \n",
       "6857  17-000426 2017-01-01 04:20:33 suspicious other NA            \n",
       "6861  17-000488 2017-01-01 06:47:07 suspicious MDC   NA            \n",
       "6863  17-000536 2017-01-01 09:02:59 suspicious MDC   NA            \n",
       "6864  17-000547 2017-01-01 09:48:36 suspicious MDC   NA            \n",
       "6865  17-000549 2017-01-01 09:51:43 suspicious MDC   NA            \n",
       "6867  17-000576 2017-01-01 10:41:29 suspicious MDC   NA            \n",
       "6868  17-000601 2017-01-01 11:49:49 suspicious other NA            \n",
       "6869  17-000619 2017-01-01 12:43:26 suspicious MDC   NA            \n",
       "6871  17-000637 2017-01-01 13:24:55 suspicious MDC   NA            \n",
       "6872  17-000639 2017-01-01 13:34:06 suspicious MDC   NA            \n",
       "6873  17-000646 2017-01-01 13:41:02 suspicious MDC   NA            \n",
       "6874  17-000651 2017-01-01 13:47:54 suspicious other NA            \n",
       "6875  17-000668 2017-01-01 14:38:12 suspicious MDC   NA            \n",
       "6876  17-000713 2017-01-01 15:36:30 suspicious MDC   NA            \n",
       "⋮     ⋮         ⋮                   ⋮          ⋮     ⋮             \n",
       "60774 17-490578 2017-12-31 00:10:08 suspicious MDC   NO            \n",
       "60777 17-490585 2017-12-31 00:19:18 suspicious MDC   NO            \n",
       "60782 17-490611 2017-12-31 00:43:51 suspicious MDC   NO            \n",
       "60784 17-490618 2017-12-31 00:53:04 suspicious other NA            \n",
       "60786 17-490637 2017-12-31 01:20:34 suspicious MDC   NO            \n",
       "60788 17-490682 2017-12-31 02:11:44 suspicious MDC   YES           \n",
       "60792 17-490704 2017-12-31 02:31:37 suspicious MDC   NO            \n",
       "60793 17-490705 2017-12-31 02:32:08 suspicious MDC   NO            \n",
       "60794 17-490722 2017-12-31 02:54:42 suspicious MDC   NO            \n",
       "60798 17-490915 2017-12-31 11:35:43 suspicious other NA            \n",
       "60799 17-490957 2017-12-31 12:58:22 suspicious MDC   NO            \n",
       "60800 17-490971 2017-12-31 13:14:17 suspicious MDC   NO            \n",
       "60802 17-490994 2017-12-31 14:01:34 suspicious MDC   NO            \n",
       "60803 17-491005 2017-12-31 14:23:18 suspicious MDC   NO            \n",
       "60804 17-491040 2017-12-31 15:14:37 suspicious other NA            \n",
       "60805 17-491132 2017-12-31 17:50:40 suspicious other NA            \n",
       "60807 17-491162 2017-12-31 18:17:52 suspicious MDC   NO            \n",
       "60811 17-491221 2017-12-31 19:17:41 suspicious MDC   NO            \n",
       "60815 17-491245 2017-12-31 19:57:58 suspicious MDC   NO            \n",
       "60816 17-491247 2017-12-31 20:02:09 suspicious other NA            \n",
       "60818 17-491250 2017-12-31 20:04:07 suspicious MDC   NO            \n",
       "60821 17-491261 2017-12-31 20:26:41 suspicious other NA            \n",
       "60823 17-491265 2017-12-31 20:30:39 suspicious MDC   YES           \n",
       "60825 17-491324 2017-12-31 21:31:17 suspicious MDC   NO            \n",
       "60828 17-491351 2017-12-31 21:56:33 suspicious MDC   NO            \n",
       "60829 17-491366 2017-12-31 22:07:19 suspicious MDC   NO            \n",
       "60831 17-491414 2017-12-31 22:50:49 suspicious other NA            \n",
       "60832 17-491435 2017-12-31 23:08:18 suspicious other NA            \n",
       "60833 17-491438 2017-12-31 23:11:15 suspicious MDC   NO            \n",
       "60835 17-491445 2017-12-31 23:18:32 suspicious MDC   NO            \n",
       "      personSearch vehicleSearch preRace race            gender  lat     \n",
       "6823  NO           NO            Unknown Unknown         Unknown 44.96662\n",
       "6824  NO           NO            Unknown Unknown         Male    44.98045\n",
       "6826  NO           NO            Unknown East African    Male    44.94836\n",
       "6829  NO           NO            Unknown Black           Male    44.98081\n",
       "6833  NO           NO            White   Unknown         Male    44.96458\n",
       "6837  NO           NO            Unknown White           Female  44.98045\n",
       "6838  NO           NO            Unknown Unknown         Unknown 44.98078\n",
       "6839  NO           NO            Unknown White           Female  44.99150\n",
       "6840  NA           NA            NA      NA              NA      44.98124\n",
       "6842  NO           NO            Black   Unknown         Male    44.94925\n",
       "6845  YES          NO            Black   Black           Male    44.98074\n",
       "6851  NA           NA            NA      NA              NA      45.01044\n",
       "6853  NO           NO            Unknown Unknown         Unknown 44.95464\n",
       "6854  NO           NO            Black   Unknown         Unknown 45.02393\n",
       "6855  NA           NA            NA      NA              NA      44.97246\n",
       "6856  NA           NA            NA      NA              NA      44.99150\n",
       "6857  NA           NA            NA      NA              NA      44.90901\n",
       "6861  NO           NO            Black   Unknown         Unknown 44.94044\n",
       "6863  NO           NO            Black   Unknown         Male    44.97092\n",
       "6864  NO           NO            Unknown Unknown         Unknown 44.93863\n",
       "6865  NO           NO            Unknown Unknown         Unknown 44.93773\n",
       "6867  NO           NO            Unknown Unknown         Unknown 45.04118\n",
       "6868  NA           NA            NA      NA              NA      45.02121\n",
       "6869  YES          NO            Unknown Black           Male    45.04843\n",
       "6871  NO           NO            Other   Other           Unknown 44.93770\n",
       "6872  NO           NO            Other   Other           Unknown 44.93951\n",
       "6873  NO           NO            Other   Other           Unknown 44.94041\n",
       "6874  NA           NA            NA      NA              NA      45.03940\n",
       "6875  NO           NO            Unknown Unknown         Unknown 44.92955\n",
       "6876  YES          NO            Unknown Native American Male    44.95373\n",
       "⋮     ⋮            ⋮             ⋮       ⋮               ⋮       ⋮       \n",
       "60774 NO           NO            Unknown Latino          Male    45.00598\n",
       "60777 NO           NO            Unknown White           Male    44.98083\n",
       "60782 NO           NO            Unknown Unknown         Unknown 45.02133\n",
       "60784 NA           NA            NA      NA              NA      44.93863\n",
       "60786 NO           NO            Unknown White           Male    44.93498\n",
       "60788 NO           NO            Unknown White           Male    44.94748\n",
       "60792 NO           NO            Unknown Unknown         Unknown 44.94837\n",
       "60793 NO           NO            White   White           Female  44.91628\n",
       "60794 NO           NO            Unknown Black           Male    44.97501\n",
       "60798 NA           NA            NA      NA              NA      44.97894\n",
       "60799 NO           NO            Unknown Unknown         Unknown 44.95464\n",
       "60800 NO           NO            Unknown Unknown         Unknown 44.93684\n",
       "60802 NO           NO            Black   Black           Male    44.98123\n",
       "60803 NO           NO            Unknown Unknown         Unknown 44.94835\n",
       "60804 NA           NA            NA      NA              NA      44.99791\n",
       "60805 NA           NA            NA      NA              NA      45.00848\n",
       "60807 NO           NO            Unknown White           Male    45.01316\n",
       "60811 NO           NO            Unknown White           Male    44.94920\n",
       "60815 NO           NO            Unknown Unknown         Unknown 44.98262\n",
       "60816 NA           NA            NA      NA              NA      44.98598\n",
       "60818 NO           NO            Unknown Black           Male    44.92953\n",
       "60821 NA           NA            NA      NA              NA      44.95644\n",
       "60823 YES          YES           Unknown Native American Female  44.98104\n",
       "60825 YES          NO            Unknown Native American Female  44.95646\n",
       "60828 NO           NO            Unknown Unknown         Unknown 45.04843\n",
       "60829 NO           NO            Unknown Unknown         Male    45.02304\n",
       "60831 NA           NA            NA      NA              NA      44.96986\n",
       "60832 NA           NA            NA      NA              NA      45.01497\n",
       "60833 NO           NO            Unknown Unknown         Unknown 44.93141\n",
       "60835 NO           NO            Unknown Unknown         Unknown 44.95915\n",
       "      long      policePrecinct neighborhood                    \n",
       "6823  -93.24646 1              Cedar Riverside                 \n",
       "6824  -93.27134 1              Downtown West                   \n",
       "6826  -93.28135 5              Whittier                        \n",
       "6829  -93.27314 1              Downtown West                   \n",
       "6833  -93.27658 5              Steven's Square - Loring Heights\n",
       "6837  -93.27134 1              Downtown West                   \n",
       "6838  -93.27430 1              Downtown West                   \n",
       "6839  -93.30572 4              Willard - Hay                   \n",
       "6840  -93.27254 1              Downtown West                   \n",
       "6842  -93.29573 5              Lowry Hill East                 \n",
       "6845  -93.28960 4              Sumner - Glenwood               \n",
       "6851  -93.29306 4              Hawthorne                       \n",
       "6853  -93.28131 5              Whittier                        \n",
       "6854  -93.23904 2              Audubon Park                    \n",
       "6855  -93.26489 1              Elliot Park                     \n",
       "6856  -93.30509 4              Willard - Hay                   \n",
       "6857  -93.21456 3              Minnehaha                       \n",
       "6861  -93.27792 5              Lyndale                         \n",
       "6863  -93.25508 1              Downtown East                   \n",
       "6864  -93.24228 3              Corcoran                        \n",
       "6865  -93.24058 3              Standish                        \n",
       "6867  -93.29786 4              Lind - Bohanon                  \n",
       "6868  -93.28804 4              McKinley                        \n",
       "6869  -93.29407 4              Lind - Bohanon                  \n",
       "6871  -93.28627 5              King Field                      \n",
       "6872  -93.29265 5              CARAG                           \n",
       "6873  -93.29200 5              CARAG                           \n",
       "6874  -93.29015 4              Lind - Bohanon                  \n",
       "6875  -93.28439 5              King Field                      \n",
       "6876  -93.25627 3              Midtown Phillips                \n",
       "⋮     ⋮         ⋮              ⋮                               \n",
       "60774 -93.23717 2              Windom Park                     \n",
       "60777 -93.27196 1              Downtown West                   \n",
       "60782 -93.30320 4              Folwell                         \n",
       "60784 -93.27791 5              Lyndale                         \n",
       "60786 -93.28823 5              King Field                      \n",
       "60788 -93.28811 5              Lyndale                         \n",
       "60792 -93.25314 3              Midtown Phillips                \n",
       "60793 -93.24794 3              Northrop                        \n",
       "60794 -93.27707 1              Downtown West                   \n",
       "60798 -93.28953 4              Harrison                        \n",
       "60799 -93.28678 5              Whittier                        \n",
       "60800 -93.25241 3              Powderhorn Park                 \n",
       "60802 -93.26859 1              Downtown West                   \n",
       "60803 -93.27095 3              Phillips West                   \n",
       "60804 -93.31462 4              Willard - Hay                   \n",
       "60805 -93.31403 4              Willard - Hay                   \n",
       "60807 -93.24734 2              Audubon Park                    \n",
       "60811 -93.29319 5              Lowry Hill East                 \n",
       "60815 -93.29820 4              Harrison                        \n",
       "60816 -93.28148 1              North Loop                      \n",
       "60818 -93.28827 5              East Harriet                    \n",
       "60821 -93.25497 3              Midtown Phillips                \n",
       "60823 -93.23717 2              Marcy Holmes                    \n",
       "60825 -93.24735 3              East Phillips                   \n",
       "60828 -93.29407 4              Lind - Bohanon                  \n",
       "60829 -93.29058 4              McKinley                        \n",
       "60831 -93.28008 1              Loring Park                     \n",
       "60832 -93.24734 2              Holland                         \n",
       "60833 -93.23466 3              Standish                        \n",
       "60835 -93.27785 5              Whittier                        "
      ]
     },
     "metadata": {},
     "output_type": "display_data"
    }
   ],
   "source": [
    "tmp"
   ]
  },
  {
   "cell_type": "code",
   "execution_count": 101,
   "id": "df076805",
   "metadata": {},
   "outputs": [
    {
     "data": {
      "image/png": "[encoded data removed]",
      "text/plain": [
       "plot without title"
      ]
     },
     "metadata": {
      "image/png": {
       "height": 420,
       "width": 420
      }
     },
     "output_type": "display_data"
    }
   ],
   "source": [
    "pie(table(tmp$personSearch))"
   ]
  },
  {
   "cell_type": "code",
   "execution_count": 106,
   "id": "89e185de",
   "metadata": {},
   "outputs": [
    {
     "data": {
      "image/png": "[encoded data removed]",
      "text/plain": [
       "plot without title"
      ]
     },
     "metadata": {
      "image/png": {
       "height": 420,
       "width": 420
      }
     },
     "output_type": "display_data"
    }
   ],
   "source": [
    "library(plotrix)\n",
    "pie3D(table(MplsStops$gender),\n",
    "     labels = names(table(MplsStops$gender)),\n",
    "     labelcex = 1.0,\n",
    "     radius = 1.0,\n",
    "     col = c('green','orange','yellow'))"
   ]
  },
  {
   "cell_type": "code",
   "execution_count": 107,
   "id": "d2bd5316",
   "metadata": {},
   "outputs": [],
   "source": [
    "data(greatLakes)"
   ]
  },
  {
   "cell_type": "code",
   "execution_count": 108,
   "id": "33e88181",
   "metadata": {},
   "outputs": [],
   "source": [
    "ds = data.frame(greatLakes)"
   ]
  },
  {
   "cell_type": "code",
   "execution_count": 109,
   "id": "432330e1",
   "metadata": {},
   "outputs": [
    {
     "data": {
      "text/html": [
       "<table class=\"dataframe\">\n",
       "<caption>A data.frame: 92 × 4</caption>\n",
       "<thead>\n",
       "\t<tr><th scope=col>Erie</th><th scope=col>michHuron</th><th scope=col>Ontario</th><th scope=col>StClair</th></tr>\n",
       "\t<tr><th scope=col>&lt;dbl&gt;</th><th scope=col>&lt;dbl&gt;</th><th scope=col>&lt;dbl&gt;</th><th scope=col>&lt;dbl&gt;</th></tr>\n",
       "</thead>\n",
       "<tbody>\n",
       "\t<tr><td>174.0150</td><td>176.8867</td><td>74.87250</td><td>174.9567</td></tr>\n",
       "\t<tr><td>174.1808</td><td>176.7450</td><td>74.95583</td><td>175.0767</td></tr>\n",
       "\t<tr><td>173.9083</td><td>176.6250</td><td>74.56750</td><td>174.8150</td></tr>\n",
       "\t<tr><td>174.0258</td><td>176.4883</td><td>74.66583</td><td>174.8692</td></tr>\n",
       "\t<tr><td>173.9275</td><td>176.4450</td><td>74.65667</td><td>174.8108</td></tr>\n",
       "\t<tr><td>173.7575</td><td>176.2642</td><td>74.44333</td><td>174.6525</td></tr>\n",
       "\t<tr><td>173.8433</td><td>176.1867</td><td>74.55750</td><td>174.6375</td></tr>\n",
       "\t<tr><td>173.5933</td><td>175.9192</td><td>74.39000</td><td>174.4058</td></tr>\n",
       "\t<tr><td>173.6408</td><td>175.8850</td><td>74.40250</td><td>174.4017</td></tr>\n",
       "\t<tr><td>173.8183</td><td>176.1483</td><td>74.60667</td><td>174.5983</td></tr>\n",
       "\t<tr><td>173.9517</td><td>176.4433</td><td>74.80083</td><td>174.8050</td></tr>\n",
       "\t<tr><td>174.3117</td><td>176.8958</td><td>75.08500</td><td>175.2642</td></tr>\n",
       "\t<tr><td>174.2700</td><td>176.6508</td><td>75.08083</td><td>175.0950</td></tr>\n",
       "\t<tr><td>173.7050</td><td>176.1183</td><td>74.35750</td><td>174.5083</td></tr>\n",
       "\t<tr><td>173.7358</td><td>175.9408</td><td>74.50250</td><td>174.5658</td></tr>\n",
       "\t<tr><td>173.6767</td><td>175.8675</td><td>74.27583</td><td>174.5467</td></tr>\n",
       "\t<tr><td>173.3317</td><td>175.7667</td><td>74.02167</td><td>174.2742</td></tr>\n",
       "\t<tr><td>173.4108</td><td>175.8908</td><td>74.00417</td><td>174.3608</td></tr>\n",
       "\t<tr><td>173.4883</td><td>175.9392</td><td>74.16417</td><td>174.3933</td></tr>\n",
       "\t<tr><td>173.8200</td><td>175.9225</td><td>74.49583</td><td>174.6033</td></tr>\n",
       "\t<tr><td>173.8408</td><td>176.1408</td><td>74.52250</td><td>174.6892</td></tr>\n",
       "\t<tr><td>173.8458</td><td>176.2692</td><td>74.49250</td><td>174.7208</td></tr>\n",
       "\t<tr><td>173.7950</td><td>176.1417</td><td>74.42583</td><td>174.6450</td></tr>\n",
       "\t<tr><td>173.7000</td><td>176.1217</td><td>74.40750</td><td>174.5817</td></tr>\n",
       "\t<tr><td>173.8767</td><td>176.3342</td><td>74.51667</td><td>174.7675</td></tr>\n",
       "\t<tr><td>174.2317</td><td>176.6267</td><td>75.13417</td><td>175.1125</td></tr>\n",
       "\t<tr><td>174.0917</td><td>176.5967</td><td>74.84583</td><td>174.9817</td></tr>\n",
       "\t<tr><td>174.1883</td><td>176.5700</td><td>75.06000</td><td>175.0892</td></tr>\n",
       "\t<tr><td>174.1358</td><td>176.6017</td><td>74.99333</td><td>175.0383</td></tr>\n",
       "\t<tr><td>174.2350</td><td>176.5667</td><td>75.16917</td><td>175.1042</td></tr>\n",
       "\t<tr><td>⋮</td><td>⋮</td><td>⋮</td><td>⋮</td></tr>\n",
       "\t<tr><td>174.5217</td><td>176.8033</td><td>74.82333</td><td>175.4075</td></tr>\n",
       "\t<tr><td>174.3983</td><td>176.6983</td><td>74.78583</td><td>175.2958</td></tr>\n",
       "\t<tr><td>174.4250</td><td>176.5983</td><td>74.75250</td><td>175.2992</td></tr>\n",
       "\t<tr><td>174.5208</td><td>176.8333</td><td>74.82167</td><td>175.4333</td></tr>\n",
       "\t<tr><td>174.5225</td><td>176.8950</td><td>74.90167</td><td>175.4350</td></tr>\n",
       "\t<tr><td>174.7283</td><td>177.1267</td><td>74.87750</td><td>175.7000</td></tr>\n",
       "\t<tr><td>174.8983</td><td>177.2925</td><td>75.14750</td><td>175.8517</td></tr>\n",
       "\t<tr><td>174.6675</td><td>176.9700</td><td>74.84917</td><td>175.5608</td></tr>\n",
       "\t<tr><td>174.2617</td><td>176.5642</td><td>74.68000</td><td>175.1933</td></tr>\n",
       "\t<tr><td>174.2258</td><td>176.4008</td><td>74.76083</td><td>175.1092</td></tr>\n",
       "\t<tr><td>174.2942</td><td>176.3500</td><td>74.80417</td><td>175.1308</td></tr>\n",
       "\t<tr><td>174.3267</td><td>176.4692</td><td>74.87000</td><td>175.1975</td></tr>\n",
       "\t<tr><td>174.3567</td><td>176.4792</td><td>74.83250</td><td>175.2200</td></tr>\n",
       "\t<tr><td>174.5042</td><td>176.6958</td><td>75.04250</td><td>175.3808</td></tr>\n",
       "\t<tr><td>174.3667</td><td>176.6783</td><td>74.75500</td><td>175.2900</td></tr>\n",
       "\t<tr><td>174.2842</td><td>176.5275</td><td>74.73917</td><td>175.1833</td></tr>\n",
       "\t<tr><td>174.3750</td><td>176.6542</td><td>74.87333</td><td>175.2467</td></tr>\n",
       "\t<tr><td>174.7175</td><td>176.9842</td><td>74.96250</td><td>175.6125</td></tr>\n",
       "\t<tr><td>174.5508</td><td>176.7167</td><td>74.91000</td><td>175.3975</td></tr>\n",
       "\t<tr><td>174.1025</td><td>176.2358</td><td>74.57250</td><td>174.9758</td></tr>\n",
       "\t<tr><td>173.9900</td><td>175.9783</td><td>74.78000</td><td>174.7925</td></tr>\n",
       "\t<tr><td>173.9142</td><td>175.9508</td><td>74.69917</td><td>174.7617</td></tr>\n",
       "\t<tr><td>174.0583</td><td>176.1183</td><td>74.79000</td><td>174.8833</td></tr>\n",
       "\t<tr><td>173.9658</td><td>175.8917</td><td>74.71333</td><td>174.7375</td></tr>\n",
       "\t<tr><td>174.1158</td><td>176.1108</td><td>74.84833</td><td>174.9167</td></tr>\n",
       "\t<tr><td>174.1700</td><td>176.0900</td><td>74.82167</td><td>174.9383</td></tr>\n",
       "\t<tr><td>174.1467</td><td>176.0158</td><td>74.83083</td><td>174.8917</td></tr>\n",
       "\t<tr><td>174.1392</td><td>175.9433</td><td>74.75167</td><td>174.8483</td></tr>\n",
       "\t<tr><td>174.1592</td><td>176.0050</td><td>74.87500</td><td>174.9200</td></tr>\n",
       "\t<tr><td>174.2483</td><td>176.2583</td><td>74.87333</td><td>175.0767</td></tr>\n",
       "</tbody>\n",
       "</table>\n"
      ],
      "text/latex": [
       "A data.frame: 92 × 4\n",
       "\\begin{tabular}{llll}\n",
       " Erie & michHuron & Ontario & StClair\\\\\n",
       " <dbl> & <dbl> & <dbl> & <dbl>\\\\\n",
       "\\hline\n",
       "\t 174.0150 & 176.8867 & 74.87250 & 174.9567\\\\\n",
       "\t 174.1808 & 176.7450 & 74.95583 & 175.0767\\\\\n",
       "\t 173.9083 & 176.6250 & 74.56750 & 174.8150\\\\\n",
       "\t 174.0258 & 176.4883 & 74.66583 & 174.8692\\\\\n",
       "\t 173.9275 & 176.4450 & 74.65667 & 174.8108\\\\\n",
       "\t 173.7575 & 176.2642 & 74.44333 & 174.6525\\\\\n",
       "\t 173.8433 & 176.1867 & 74.55750 & 174.6375\\\\\n",
       "\t 173.5933 & 175.9192 & 74.39000 & 174.4058\\\\\n",
       "\t 173.6408 & 175.8850 & 74.40250 & 174.4017\\\\\n",
       "\t 173.8183 & 176.1483 & 74.60667 & 174.5983\\\\\n",
       "\t 173.9517 & 176.4433 & 74.80083 & 174.8050\\\\\n",
       "\t 174.3117 & 176.8958 & 75.08500 & 175.2642\\\\\n",
       "\t 174.2700 & 176.6508 & 75.08083 & 175.0950\\\\\n",
       "\t 173.7050 & 176.1183 & 74.35750 & 174.5083\\\\\n",
       "\t 173.7358 & 175.9408 & 74.50250 & 174.5658\\\\\n",
       "\t 173.6767 & 175.8675 & 74.27583 & 174.5467\\\\\n",
       "\t 173.3317 & 175.7667 & 74.02167 & 174.2742\\\\\n",
       "\t 173.4108 & 175.8908 & 74.00417 & 174.3608\\\\\n",
       "\t 173.4883 & 175.9392 & 74.16417 & 174.3933\\\\\n",
       "\t 173.8200 & 175.9225 & 74.49583 & 174.6033\\\\\n",
       "\t 173.8408 & 176.1408 & 74.52250 & 174.6892\\\\\n",
       "\t 173.8458 & 176.2692 & 74.49250 & 174.7208\\\\\n",
       "\t 173.7950 & 176.1417 & 74.42583 & 174.6450\\\\\n",
       "\t 173.7000 & 176.1217 & 74.40750 & 174.5817\\\\\n",
       "\t 173.8767 & 176.3342 & 74.51667 & 174.7675\\\\\n",
       "\t 174.2317 & 176.6267 & 75.13417 & 175.1125\\\\\n",
       "\t 174.0917 & 176.5967 & 74.84583 & 174.9817\\\\\n",
       "\t 174.1883 & 176.5700 & 75.06000 & 175.0892\\\\\n",
       "\t 174.1358 & 176.6017 & 74.99333 & 175.0383\\\\\n",
       "\t 174.2350 & 176.5667 & 75.16917 & 175.1042\\\\\n",
       "\t ⋮ & ⋮ & ⋮ & ⋮\\\\\n",
       "\t 174.5217 & 176.8033 & 74.82333 & 175.4075\\\\\n",
       "\t 174.3983 & 176.6983 & 74.78583 & 175.2958\\\\\n",
       "\t 174.4250 & 176.5983 & 74.75250 & 175.2992\\\\\n",
       "\t 174.5208 & 176.8333 & 74.82167 & 175.4333\\\\\n",
       "\t 174.5225 & 176.8950 & 74.90167 & 175.4350\\\\\n",
       "\t 174.7283 & 177.1267 & 74.87750 & 175.7000\\\\\n",
       "\t 174.8983 & 177.2925 & 75.14750 & 175.8517\\\\\n",
       "\t 174.6675 & 176.9700 & 74.84917 & 175.5608\\\\\n",
       "\t 174.2617 & 176.5642 & 74.68000 & 175.1933\\\\\n",
       "\t 174.2258 & 176.4008 & 74.76083 & 175.1092\\\\\n",
       "\t 174.2942 & 176.3500 & 74.80417 & 175.1308\\\\\n",
       "\t 174.3267 & 176.4692 & 74.87000 & 175.1975\\\\\n",
       "\t 174.3567 & 176.4792 & 74.83250 & 175.2200\\\\\n",
       "\t 174.5042 & 176.6958 & 75.04250 & 175.3808\\\\\n",
       "\t 174.3667 & 176.6783 & 74.75500 & 175.2900\\\\\n",
       "\t 174.2842 & 176.5275 & 74.73917 & 175.1833\\\\\n",
       "\t 174.3750 & 176.6542 & 74.87333 & 175.2467\\\\\n",
       "\t 174.7175 & 176.9842 & 74.96250 & 175.6125\\\\\n",
       "\t 174.5508 & 176.7167 & 74.91000 & 175.3975\\\\\n",
       "\t 174.1025 & 176.2358 & 74.57250 & 174.9758\\\\\n",
       "\t 173.9900 & 175.9783 & 74.78000 & 174.7925\\\\\n",
       "\t 173.9142 & 175.9508 & 74.69917 & 174.7617\\\\\n",
       "\t 174.0583 & 176.1183 & 74.79000 & 174.8833\\\\\n",
       "\t 173.9658 & 175.8917 & 74.71333 & 174.7375\\\\\n",
       "\t 174.1158 & 176.1108 & 74.84833 & 174.9167\\\\\n",
       "\t 174.1700 & 176.0900 & 74.82167 & 174.9383\\\\\n",
       "\t 174.1467 & 176.0158 & 74.83083 & 174.8917\\\\\n",
       "\t 174.1392 & 175.9433 & 74.75167 & 174.8483\\\\\n",
       "\t 174.1592 & 176.0050 & 74.87500 & 174.9200\\\\\n",
       "\t 174.2483 & 176.2583 & 74.87333 & 175.0767\\\\\n",
       "\\end{tabular}\n"
      ],
      "text/markdown": [
       "\n",
       "A data.frame: 92 × 4\n",
       "\n",
       "| Erie &lt;dbl&gt; | michHuron &lt;dbl&gt; | Ontario &lt;dbl&gt; | StClair &lt;dbl&gt; |\n",
       "|---|---|---|---|\n",
       "| 174.0150 | 176.8867 | 74.87250 | 174.9567 |\n",
       "| 174.1808 | 176.7450 | 74.95583 | 175.0767 |\n",
       "| 173.9083 | 176.6250 | 74.56750 | 174.8150 |\n",
       "| 174.0258 | 176.4883 | 74.66583 | 174.8692 |\n",
       "| 173.9275 | 176.4450 | 74.65667 | 174.8108 |\n",
       "| 173.7575 | 176.2642 | 74.44333 | 174.6525 |\n",
       "| 173.8433 | 176.1867 | 74.55750 | 174.6375 |\n",
       "| 173.5933 | 175.9192 | 74.39000 | 174.4058 |\n",
       "| 173.6408 | 175.8850 | 74.40250 | 174.4017 |\n",
       "| 173.8183 | 176.1483 | 74.60667 | 174.5983 |\n",
       "| 173.9517 | 176.4433 | 74.80083 | 174.8050 |\n",
       "| 174.3117 | 176.8958 | 75.08500 | 175.2642 |\n",
       "| 174.2700 | 176.6508 | 75.08083 | 175.0950 |\n",
       "| 173.7050 | 176.1183 | 74.35750 | 174.5083 |\n",
       "| 173.7358 | 175.9408 | 74.50250 | 174.5658 |\n",
       "| 173.6767 | 175.8675 | 74.27583 | 174.5467 |\n",
       "| 173.3317 | 175.7667 | 74.02167 | 174.2742 |\n",
       "| 173.4108 | 175.8908 | 74.00417 | 174.3608 |\n",
       "| 173.4883 | 175.9392 | 74.16417 | 174.3933 |\n",
       "| 173.8200 | 175.9225 | 74.49583 | 174.6033 |\n",
       "| 173.8408 | 176.1408 | 74.52250 | 174.6892 |\n",
       "| 173.8458 | 176.2692 | 74.49250 | 174.7208 |\n",
       "| 173.7950 | 176.1417 | 74.42583 | 174.6450 |\n",
       "| 173.7000 | 176.1217 | 74.40750 | 174.5817 |\n",
       "| 173.8767 | 176.3342 | 74.51667 | 174.7675 |\n",
       "| 174.2317 | 176.6267 | 75.13417 | 175.1125 |\n",
       "| 174.0917 | 176.5967 | 74.84583 | 174.9817 |\n",
       "| 174.1883 | 176.5700 | 75.06000 | 175.0892 |\n",
       "| 174.1358 | 176.6017 | 74.99333 | 175.0383 |\n",
       "| 174.2350 | 176.5667 | 75.16917 | 175.1042 |\n",
       "| ⋮ | ⋮ | ⋮ | ⋮ |\n",
       "| 174.5217 | 176.8033 | 74.82333 | 175.4075 |\n",
       "| 174.3983 | 176.6983 | 74.78583 | 175.2958 |\n",
       "| 174.4250 | 176.5983 | 74.75250 | 175.2992 |\n",
       "| 174.5208 | 176.8333 | 74.82167 | 175.4333 |\n",
       "| 174.5225 | 176.8950 | 74.90167 | 175.4350 |\n",
       "| 174.7283 | 177.1267 | 74.87750 | 175.7000 |\n",
       "| 174.8983 | 177.2925 | 75.14750 | 175.8517 |\n",
       "| 174.6675 | 176.9700 | 74.84917 | 175.5608 |\n",
       "| 174.2617 | 176.5642 | 74.68000 | 175.1933 |\n",
       "| 174.2258 | 176.4008 | 74.76083 | 175.1092 |\n",
       "| 174.2942 | 176.3500 | 74.80417 | 175.1308 |\n",
       "| 174.3267 | 176.4692 | 74.87000 | 175.1975 |\n",
       "| 174.3567 | 176.4792 | 74.83250 | 175.2200 |\n",
       "| 174.5042 | 176.6958 | 75.04250 | 175.3808 |\n",
       "| 174.3667 | 176.6783 | 74.75500 | 175.2900 |\n",
       "| 174.2842 | 176.5275 | 74.73917 | 175.1833 |\n",
       "| 174.3750 | 176.6542 | 74.87333 | 175.2467 |\n",
       "| 174.7175 | 176.9842 | 74.96250 | 175.6125 |\n",
       "| 174.5508 | 176.7167 | 74.91000 | 175.3975 |\n",
       "| 174.1025 | 176.2358 | 74.57250 | 174.9758 |\n",
       "| 173.9900 | 175.9783 | 74.78000 | 174.7925 |\n",
       "| 173.9142 | 175.9508 | 74.69917 | 174.7617 |\n",
       "| 174.0583 | 176.1183 | 74.79000 | 174.8833 |\n",
       "| 173.9658 | 175.8917 | 74.71333 | 174.7375 |\n",
       "| 174.1158 | 176.1108 | 74.84833 | 174.9167 |\n",
       "| 174.1700 | 176.0900 | 74.82167 | 174.9383 |\n",
       "| 174.1467 | 176.0158 | 74.83083 | 174.8917 |\n",
       "| 174.1392 | 175.9433 | 74.75167 | 174.8483 |\n",
       "| 174.1592 | 176.0050 | 74.87500 | 174.9200 |\n",
       "| 174.2483 | 176.2583 | 74.87333 | 175.0767 |\n",
       "\n"
      ],
      "text/plain": [
       "   Erie     michHuron Ontario  StClair \n",
       "1  174.0150 176.8867  74.87250 174.9567\n",
       "2  174.1808 176.7450  74.95583 175.0767\n",
       "3  173.9083 176.6250  74.56750 174.8150\n",
       "4  174.0258 176.4883  74.66583 174.8692\n",
       "5  173.9275 176.4450  74.65667 174.8108\n",
       "6  173.7575 176.2642  74.44333 174.6525\n",
       "7  173.8433 176.1867  74.55750 174.6375\n",
       "8  173.5933 175.9192  74.39000 174.4058\n",
       "9  173.6408 175.8850  74.40250 174.4017\n",
       "10 173.8183 176.1483  74.60667 174.5983\n",
       "11 173.9517 176.4433  74.80083 174.8050\n",
       "12 174.3117 176.8958  75.08500 175.2642\n",
       "13 174.2700 176.6508  75.08083 175.0950\n",
       "14 173.7050 176.1183  74.35750 174.5083\n",
       "15 173.7358 175.9408  74.50250 174.5658\n",
       "16 173.6767 175.8675  74.27583 174.5467\n",
       "17 173.3317 175.7667  74.02167 174.2742\n",
       "18 173.4108 175.8908  74.00417 174.3608\n",
       "19 173.4883 175.9392  74.16417 174.3933\n",
       "20 173.8200 175.9225  74.49583 174.6033\n",
       "21 173.8408 176.1408  74.52250 174.6892\n",
       "22 173.8458 176.2692  74.49250 174.7208\n",
       "23 173.7950 176.1417  74.42583 174.6450\n",
       "24 173.7000 176.1217  74.40750 174.5817\n",
       "25 173.8767 176.3342  74.51667 174.7675\n",
       "26 174.2317 176.6267  75.13417 175.1125\n",
       "27 174.0917 176.5967  74.84583 174.9817\n",
       "28 174.1883 176.5700  75.06000 175.0892\n",
       "29 174.1358 176.6017  74.99333 175.0383\n",
       "30 174.2350 176.5667  75.16917 175.1042\n",
       "⋮  ⋮        ⋮         ⋮        ⋮       \n",
       "63 174.5217 176.8033  74.82333 175.4075\n",
       "64 174.3983 176.6983  74.78583 175.2958\n",
       "65 174.4250 176.5983  74.75250 175.2992\n",
       "66 174.5208 176.8333  74.82167 175.4333\n",
       "67 174.5225 176.8950  74.90167 175.4350\n",
       "68 174.7283 177.1267  74.87750 175.7000\n",
       "69 174.8983 177.2925  75.14750 175.8517\n",
       "70 174.6675 176.9700  74.84917 175.5608\n",
       "71 174.2617 176.5642  74.68000 175.1933\n",
       "72 174.2258 176.4008  74.76083 175.1092\n",
       "73 174.2942 176.3500  74.80417 175.1308\n",
       "74 174.3267 176.4692  74.87000 175.1975\n",
       "75 174.3567 176.4792  74.83250 175.2200\n",
       "76 174.5042 176.6958  75.04250 175.3808\n",
       "77 174.3667 176.6783  74.75500 175.2900\n",
       "78 174.2842 176.5275  74.73917 175.1833\n",
       "79 174.3750 176.6542  74.87333 175.2467\n",
       "80 174.7175 176.9842  74.96250 175.6125\n",
       "81 174.5508 176.7167  74.91000 175.3975\n",
       "82 174.1025 176.2358  74.57250 174.9758\n",
       "83 173.9900 175.9783  74.78000 174.7925\n",
       "84 173.9142 175.9508  74.69917 174.7617\n",
       "85 174.0583 176.1183  74.79000 174.8833\n",
       "86 173.9658 175.8917  74.71333 174.7375\n",
       "87 174.1158 176.1108  74.84833 174.9167\n",
       "88 174.1700 176.0900  74.82167 174.9383\n",
       "89 174.1467 176.0158  74.83083 174.8917\n",
       "90 174.1392 175.9433  74.75167 174.8483\n",
       "91 174.1592 176.0050  74.87500 174.9200\n",
       "92 174.2483 176.2583  74.87333 175.0767"
      ]
     },
     "metadata": {},
     "output_type": "display_data"
    }
   ],
   "source": [
    "ds"
   ]
  },
  {
   "cell_type": "code",
   "execution_count": 111,
   "id": "9bd56d3c",
   "metadata": {},
   "outputs": [
    {
     "data": {
      "image/png": "[encoded data removed]",
      "text/plain": [
       "plot without title"
      ]
     },
     "metadata": {
      "image/png": {
       "height": 420,
       "width": 420
      }
     },
     "output_type": "display_data"
    }
   ],
   "source": [
    "plot(ds[,c('Erie','michHuron')])"
   ]
  },
  {
   "cell_type": "code",
   "execution_count": 112,
   "id": "63eb7e68",
   "metadata": {},
   "outputs": [
    {
     "data": {
      "image/png": "[encoded data removed]",
      "text/plain": [
       "plot without title"
      ]
     },
     "metadata": {
      "image/png": {
       "height": 420,
       "width": 420
      }
     },
     "output_type": "display_data"
    }
   ],
   "source": [
    "pairs(ds)"
   ]
  },
  {
   "cell_type": "code",
   "execution_count": 113,
   "id": "6c8f8e7a",
   "metadata": {},
   "outputs": [],
   "source": [
    "data(grog)"
   ]
  },
  {
   "cell_type": "code",
   "execution_count": 114,
   "id": "5a2885ed",
   "metadata": {},
   "outputs": [
    {
     "data": {
      "text/html": [
       "<table class=\"dataframe\">\n",
       "<caption>A data.frame: 18 × 5</caption>\n",
       "<thead>\n",
       "\t<tr><th scope=col>Beer</th><th scope=col>Wine</th><th scope=col>Spirit</th><th scope=col>Country</th><th scope=col>Year</th></tr>\n",
       "\t<tr><th scope=col>&lt;dbl&gt;</th><th scope=col>&lt;dbl&gt;</th><th scope=col>&lt;dbl&gt;</th><th scope=col>&lt;fct&gt;</th><th scope=col>&lt;int&gt;</th></tr>\n",
       "</thead>\n",
       "<tbody>\n",
       "\t<tr><td>5.240000</td><td>2.860000</td><td>1.810000</td><td>Australia </td><td>1998</td></tr>\n",
       "\t<tr><td>5.150000</td><td>2.870000</td><td>1.770000</td><td>Australia </td><td>1999</td></tr>\n",
       "\t<tr><td>5.060000</td><td>2.940000</td><td>1.880000</td><td>Australia </td><td>2000</td></tr>\n",
       "\t<tr><td>5.070000</td><td>2.950000</td><td>2.070000</td><td>Australia </td><td>2001</td></tr>\n",
       "\t<tr><td>4.800000</td><td>2.910000</td><td>1.810000</td><td>Australia </td><td>2002</td></tr>\n",
       "\t<tr><td>4.970000</td><td>3.010000</td><td>1.860000</td><td>Australia </td><td>2003</td></tr>\n",
       "\t<tr><td>4.680000</td><td>3.070000</td><td>2.060000</td><td>Australia </td><td>2004</td></tr>\n",
       "\t<tr><td>4.580000</td><td>3.130000</td><td>2.120000</td><td>Australia </td><td>2005</td></tr>\n",
       "\t<tr><td>4.570000</td><td>3.110000</td><td>2.150000</td><td>Australia </td><td>2006</td></tr>\n",
       "\t<tr><td>4.499955</td><td>2.592596</td><td>1.771449</td><td>NewZealand</td><td>1998</td></tr>\n",
       "\t<tr><td>4.283794</td><td>2.651694</td><td>1.640512</td><td>NewZealand</td><td>1999</td></tr>\n",
       "\t<tr><td>4.387809</td><td>2.746680</td><td>1.802511</td><td>NewZealand</td><td>2000</td></tr>\n",
       "\t<tr><td>4.250764</td><td>2.629687</td><td>2.043550</td><td>NewZealand</td><td>2001</td></tr>\n",
       "\t<tr><td>4.231346</td><td>2.773365</td><td>1.885289</td><td>NewZealand</td><td>2002</td></tr>\n",
       "\t<tr><td>4.217866</td><td>2.878332</td><td>2.044802</td><td>NewZealand</td><td>2003</td></tr>\n",
       "\t<tr><td>4.199607</td><td>2.879048</td><td>2.008345</td><td>NewZealand</td><td>2004</td></tr>\n",
       "\t<tr><td>4.162326</td><td>2.999341</td><td>2.222333</td><td>NewZealand</td><td>2005</td></tr>\n",
       "\t<tr><td>3.959409</td><td>3.089423</td><td>2.201168</td><td>NewZealand</td><td>2006</td></tr>\n",
       "</tbody>\n",
       "</table>\n"
      ],
      "text/latex": [
       "A data.frame: 18 × 5\n",
       "\\begin{tabular}{lllll}\n",
       " Beer & Wine & Spirit & Country & Year\\\\\n",
       " <dbl> & <dbl> & <dbl> & <fct> & <int>\\\\\n",
       "\\hline\n",
       "\t 5.240000 & 2.860000 & 1.810000 & Australia  & 1998\\\\\n",
       "\t 5.150000 & 2.870000 & 1.770000 & Australia  & 1999\\\\\n",
       "\t 5.060000 & 2.940000 & 1.880000 & Australia  & 2000\\\\\n",
       "\t 5.070000 & 2.950000 & 2.070000 & Australia  & 2001\\\\\n",
       "\t 4.800000 & 2.910000 & 1.810000 & Australia  & 2002\\\\\n",
       "\t 4.970000 & 3.010000 & 1.860000 & Australia  & 2003\\\\\n",
       "\t 4.680000 & 3.070000 & 2.060000 & Australia  & 2004\\\\\n",
       "\t 4.580000 & 3.130000 & 2.120000 & Australia  & 2005\\\\\n",
       "\t 4.570000 & 3.110000 & 2.150000 & Australia  & 2006\\\\\n",
       "\t 4.499955 & 2.592596 & 1.771449 & NewZealand & 1998\\\\\n",
       "\t 4.283794 & 2.651694 & 1.640512 & NewZealand & 1999\\\\\n",
       "\t 4.387809 & 2.746680 & 1.802511 & NewZealand & 2000\\\\\n",
       "\t 4.250764 & 2.629687 & 2.043550 & NewZealand & 2001\\\\\n",
       "\t 4.231346 & 2.773365 & 1.885289 & NewZealand & 2002\\\\\n",
       "\t 4.217866 & 2.878332 & 2.044802 & NewZealand & 2003\\\\\n",
       "\t 4.199607 & 2.879048 & 2.008345 & NewZealand & 2004\\\\\n",
       "\t 4.162326 & 2.999341 & 2.222333 & NewZealand & 2005\\\\\n",
       "\t 3.959409 & 3.089423 & 2.201168 & NewZealand & 2006\\\\\n",
       "\\end{tabular}\n"
      ],
      "text/markdown": [
       "\n",
       "A data.frame: 18 × 5\n",
       "\n",
       "| Beer &lt;dbl&gt; | Wine &lt;dbl&gt; | Spirit &lt;dbl&gt; | Country &lt;fct&gt; | Year &lt;int&gt; |\n",
       "|---|---|---|---|---|\n",
       "| 5.240000 | 2.860000 | 1.810000 | Australia  | 1998 |\n",
       "| 5.150000 | 2.870000 | 1.770000 | Australia  | 1999 |\n",
       "| 5.060000 | 2.940000 | 1.880000 | Australia  | 2000 |\n",
       "| 5.070000 | 2.950000 | 2.070000 | Australia  | 2001 |\n",
       "| 4.800000 | 2.910000 | 1.810000 | Australia  | 2002 |\n",
       "| 4.970000 | 3.010000 | 1.860000 | Australia  | 2003 |\n",
       "| 4.680000 | 3.070000 | 2.060000 | Australia  | 2004 |\n",
       "| 4.580000 | 3.130000 | 2.120000 | Australia  | 2005 |\n",
       "| 4.570000 | 3.110000 | 2.150000 | Australia  | 2006 |\n",
       "| 4.499955 | 2.592596 | 1.771449 | NewZealand | 1998 |\n",
       "| 4.283794 | 2.651694 | 1.640512 | NewZealand | 1999 |\n",
       "| 4.387809 | 2.746680 | 1.802511 | NewZealand | 2000 |\n",
       "| 4.250764 | 2.629687 | 2.043550 | NewZealand | 2001 |\n",
       "| 4.231346 | 2.773365 | 1.885289 | NewZealand | 2002 |\n",
       "| 4.217866 | 2.878332 | 2.044802 | NewZealand | 2003 |\n",
       "| 4.199607 | 2.879048 | 2.008345 | NewZealand | 2004 |\n",
       "| 4.162326 | 2.999341 | 2.222333 | NewZealand | 2005 |\n",
       "| 3.959409 | 3.089423 | 2.201168 | NewZealand | 2006 |\n",
       "\n"
      ],
      "text/plain": [
       "   Beer     Wine     Spirit   Country    Year\n",
       "1  5.240000 2.860000 1.810000 Australia  1998\n",
       "2  5.150000 2.870000 1.770000 Australia  1999\n",
       "3  5.060000 2.940000 1.880000 Australia  2000\n",
       "4  5.070000 2.950000 2.070000 Australia  2001\n",
       "5  4.800000 2.910000 1.810000 Australia  2002\n",
       "6  4.970000 3.010000 1.860000 Australia  2003\n",
       "7  4.680000 3.070000 2.060000 Australia  2004\n",
       "8  4.580000 3.130000 2.120000 Australia  2005\n",
       "9  4.570000 3.110000 2.150000 Australia  2006\n",
       "10 4.499955 2.592596 1.771449 NewZealand 1998\n",
       "11 4.283794 2.651694 1.640512 NewZealand 1999\n",
       "12 4.387809 2.746680 1.802511 NewZealand 2000\n",
       "13 4.250764 2.629687 2.043550 NewZealand 2001\n",
       "14 4.231346 2.773365 1.885289 NewZealand 2002\n",
       "15 4.217866 2.878332 2.044802 NewZealand 2003\n",
       "16 4.199607 2.879048 2.008345 NewZealand 2004\n",
       "17 4.162326 2.999341 2.222333 NewZealand 2005\n",
       "18 3.959409 3.089423 2.201168 NewZealand 2006"
      ]
     },
     "metadata": {},
     "output_type": "display_data"
    }
   ],
   "source": [
    "grog"
   ]
  },
  {
   "cell_type": "code",
   "execution_count": 115,
   "id": "11da3d90",
   "metadata": {},
   "outputs": [
    {
     "data": {
      "image/png": "[encoded data removed]",
      "text/plain": [
       "plot without title"
      ]
     },
     "metadata": {
      "image/png": {
       "height": 420,
       "width": 420
      }
     },
     "output_type": "display_data"
    }
   ],
   "source": [
    "plot(grog$Beer, grog$Wine)"
   ]
  },
  {
   "cell_type": "code",
   "execution_count": 116,
   "id": "acf9eb93",
   "metadata": {},
   "outputs": [],
   "source": [
    "grp = as.numeric(grog$Country)"
   ]
  },
  {
   "cell_type": "code",
   "execution_count": 117,
   "id": "e8e13b42",
   "metadata": {},
   "outputs": [
    {
     "data": {
      "text/html": [
       "<style>\n",
       ".list-inline {list-style: none; margin:0; padding: 0}\n",
       ".list-inline>li {display: inline-block}\n",
       ".list-inline>li:not(:last-child)::after {content: \"\\00b7\"; padding: 0 .5ex}\n",
       "</style>\n",
       "<ol class=list-inline><li>1</li><li>1</li><li>1</li><li>1</li><li>1</li><li>1</li><li>1</li><li>1</li><li>1</li><li>2</li><li>2</li><li>2</li><li>2</li><li>2</li><li>2</li><li>2</li><li>2</li><li>2</li></ol>\n"
      ],
      "text/latex": [
       "\\begin{enumerate*}\n",
       "\\item 1\n",
       "\\item 1\n",
       "\\item 1\n",
       "\\item 1\n",
       "\\item 1\n",
       "\\item 1\n",
       "\\item 1\n",
       "\\item 1\n",
       "\\item 1\n",
       "\\item 2\n",
       "\\item 2\n",
       "\\item 2\n",
       "\\item 2\n",
       "\\item 2\n",
       "\\item 2\n",
       "\\item 2\n",
       "\\item 2\n",
       "\\item 2\n",
       "\\end{enumerate*}\n"
      ],
      "text/markdown": [
       "1. 1\n",
       "2. 1\n",
       "3. 1\n",
       "4. 1\n",
       "5. 1\n",
       "6. 1\n",
       "7. 1\n",
       "8. 1\n",
       "9. 1\n",
       "10. 2\n",
       "11. 2\n",
       "12. 2\n",
       "13. 2\n",
       "14. 2\n",
       "15. 2\n",
       "16. 2\n",
       "17. 2\n",
       "18. 2\n",
       "\n",
       "\n"
      ],
      "text/plain": [
       " [1] 1 1 1 1 1 1 1 1 1 2 2 2 2 2 2 2 2 2"
      ]
     },
     "metadata": {},
     "output_type": "display_data"
    }
   ],
   "source": [
    "grp"
   ]
  },
  {
   "cell_type": "code",
   "execution_count": 121,
   "id": "07d6ef14",
   "metadata": {},
   "outputs": [
    {
     "data": {
      "text/html": [
       "<style>\n",
       ".list-inline {list-style: none; margin:0; padding: 0}\n",
       ".list-inline>li {display: inline-block}\n",
       ".list-inline>li:not(:last-child)::after {content: \"\\00b7\"; padding: 0 .5ex}\n",
       "</style>\n",
       "<ol class=list-inline><li>'Beer'</li><li>'Wine'</li><li>'Spirit'</li><li>'Country'</li><li>'Year'</li></ol>\n"
      ],
      "text/latex": [
       "\\begin{enumerate*}\n",
       "\\item 'Beer'\n",
       "\\item 'Wine'\n",
       "\\item 'Spirit'\n",
       "\\item 'Country'\n",
       "\\item 'Year'\n",
       "\\end{enumerate*}\n"
      ],
      "text/markdown": [
       "1. 'Beer'\n",
       "2. 'Wine'\n",
       "3. 'Spirit'\n",
       "4. 'Country'\n",
       "5. 'Year'\n",
       "\n",
       "\n"
      ],
      "text/plain": [
       "[1] \"Beer\"    \"Wine\"    \"Spirit\"  \"Country\" \"Year\"   "
      ]
     },
     "metadata": {},
     "output_type": "display_data"
    }
   ],
   "source": [
    "colnames(grog)"
   ]
  },
  {
   "cell_type": "code",
   "execution_count": 123,
   "id": "842f3c17",
   "metadata": {},
   "outputs": [],
   "source": [
    "color = c('red','blue')"
   ]
  },
  {
   "cell_type": "code",
   "execution_count": 124,
   "id": "8c585f35",
   "metadata": {},
   "outputs": [
    {
     "data": {
      "image/png": "[encoded data removed]",
      "text/plain": [
       "plot without title"
      ]
     },
     "metadata": {
      "image/png": {
       "height": 420,
       "width": 420
      }
     },
     "output_type": "display_data"
    }
   ],
   "source": [
    "plot(grog[,c('Beer','Wine','Spirit')],\n",
    "    pch = grp,\n",
    "    col = color[grp])"
   ]
  },
  {
   "cell_type": "code",
   "execution_count": 126,
   "id": "68225aab",
   "metadata": {},
   "outputs": [],
   "source": [
    "ds = data.frame(greatLakes)"
   ]
  },
  {
   "cell_type": "code",
   "execution_count": 137,
   "id": "854c656d",
   "metadata": {},
   "outputs": [
    {
     "data": {
      "image/png": "[encoded data removed]",
      "text/plain": [
       "Plot with title \"4개 호 수위\""
      ]
     },
     "metadata": {
      "image/png": {
       "height": 420,
       "width": 420
      }
     },
     "output_type": "display_data"
    }
   ],
   "source": [
    "year = 1918:2009\n",
    "plot(year, ds$Erie,\n",
    "    main = '4개 호 수위',\n",
    "    type = 'b',\n",
    "    ylim = c(173, 177.5),\n",
    "    col = 'skyblue',\n",
    "    xlab = '수위',\n",
    "    ylab='year')\n",
    "lines(year, ds$michHuron,\n",
    "     type='b')\n",
    "lines(year, ds$StClair,\n",
    "     type = 'b')"
   ]
  },
  {
   "cell_type": "code",
   "execution_count": 130,
   "id": "326755af",
   "metadata": {},
   "outputs": [
    {
     "data": {
      "text/html": [
       "<table class=\"dataframe\">\n",
       "<caption>A data.frame: 92 × 4</caption>\n",
       "<thead>\n",
       "\t<tr><th scope=col>Erie</th><th scope=col>michHuron</th><th scope=col>Ontario</th><th scope=col>StClair</th></tr>\n",
       "\t<tr><th scope=col>&lt;dbl&gt;</th><th scope=col>&lt;dbl&gt;</th><th scope=col>&lt;dbl&gt;</th><th scope=col>&lt;dbl&gt;</th></tr>\n",
       "</thead>\n",
       "<tbody>\n",
       "\t<tr><td>174.0150</td><td>176.8867</td><td>74.87250</td><td>174.9567</td></tr>\n",
       "\t<tr><td>174.1808</td><td>176.7450</td><td>74.95583</td><td>175.0767</td></tr>\n",
       "\t<tr><td>173.9083</td><td>176.6250</td><td>74.56750</td><td>174.8150</td></tr>\n",
       "\t<tr><td>174.0258</td><td>176.4883</td><td>74.66583</td><td>174.8692</td></tr>\n",
       "\t<tr><td>173.9275</td><td>176.4450</td><td>74.65667</td><td>174.8108</td></tr>\n",
       "\t<tr><td>173.7575</td><td>176.2642</td><td>74.44333</td><td>174.6525</td></tr>\n",
       "\t<tr><td>173.8433</td><td>176.1867</td><td>74.55750</td><td>174.6375</td></tr>\n",
       "\t<tr><td>173.5933</td><td>175.9192</td><td>74.39000</td><td>174.4058</td></tr>\n",
       "\t<tr><td>173.6408</td><td>175.8850</td><td>74.40250</td><td>174.4017</td></tr>\n",
       "\t<tr><td>173.8183</td><td>176.1483</td><td>74.60667</td><td>174.5983</td></tr>\n",
       "\t<tr><td>173.9517</td><td>176.4433</td><td>74.80083</td><td>174.8050</td></tr>\n",
       "\t<tr><td>174.3117</td><td>176.8958</td><td>75.08500</td><td>175.2642</td></tr>\n",
       "\t<tr><td>174.2700</td><td>176.6508</td><td>75.08083</td><td>175.0950</td></tr>\n",
       "\t<tr><td>173.7050</td><td>176.1183</td><td>74.35750</td><td>174.5083</td></tr>\n",
       "\t<tr><td>173.7358</td><td>175.9408</td><td>74.50250</td><td>174.5658</td></tr>\n",
       "\t<tr><td>173.6767</td><td>175.8675</td><td>74.27583</td><td>174.5467</td></tr>\n",
       "\t<tr><td>173.3317</td><td>175.7667</td><td>74.02167</td><td>174.2742</td></tr>\n",
       "\t<tr><td>173.4108</td><td>175.8908</td><td>74.00417</td><td>174.3608</td></tr>\n",
       "\t<tr><td>173.4883</td><td>175.9392</td><td>74.16417</td><td>174.3933</td></tr>\n",
       "\t<tr><td>173.8200</td><td>175.9225</td><td>74.49583</td><td>174.6033</td></tr>\n",
       "\t<tr><td>173.8408</td><td>176.1408</td><td>74.52250</td><td>174.6892</td></tr>\n",
       "\t<tr><td>173.8458</td><td>176.2692</td><td>74.49250</td><td>174.7208</td></tr>\n",
       "\t<tr><td>173.7950</td><td>176.1417</td><td>74.42583</td><td>174.6450</td></tr>\n",
       "\t<tr><td>173.7000</td><td>176.1217</td><td>74.40750</td><td>174.5817</td></tr>\n",
       "\t<tr><td>173.8767</td><td>176.3342</td><td>74.51667</td><td>174.7675</td></tr>\n",
       "\t<tr><td>174.2317</td><td>176.6267</td><td>75.13417</td><td>175.1125</td></tr>\n",
       "\t<tr><td>174.0917</td><td>176.5967</td><td>74.84583</td><td>174.9817</td></tr>\n",
       "\t<tr><td>174.1883</td><td>176.5700</td><td>75.06000</td><td>175.0892</td></tr>\n",
       "\t<tr><td>174.1358</td><td>176.6017</td><td>74.99333</td><td>175.0383</td></tr>\n",
       "\t<tr><td>174.2350</td><td>176.5667</td><td>75.16917</td><td>175.1042</td></tr>\n",
       "\t<tr><td>⋮</td><td>⋮</td><td>⋮</td><td>⋮</td></tr>\n",
       "\t<tr><td>174.5217</td><td>176.8033</td><td>74.82333</td><td>175.4075</td></tr>\n",
       "\t<tr><td>174.3983</td><td>176.6983</td><td>74.78583</td><td>175.2958</td></tr>\n",
       "\t<tr><td>174.4250</td><td>176.5983</td><td>74.75250</td><td>175.2992</td></tr>\n",
       "\t<tr><td>174.5208</td><td>176.8333</td><td>74.82167</td><td>175.4333</td></tr>\n",
       "\t<tr><td>174.5225</td><td>176.8950</td><td>74.90167</td><td>175.4350</td></tr>\n",
       "\t<tr><td>174.7283</td><td>177.1267</td><td>74.87750</td><td>175.7000</td></tr>\n",
       "\t<tr><td>174.8983</td><td>177.2925</td><td>75.14750</td><td>175.8517</td></tr>\n",
       "\t<tr><td>174.6675</td><td>176.9700</td><td>74.84917</td><td>175.5608</td></tr>\n",
       "\t<tr><td>174.2617</td><td>176.5642</td><td>74.68000</td><td>175.1933</td></tr>\n",
       "\t<tr><td>174.2258</td><td>176.4008</td><td>74.76083</td><td>175.1092</td></tr>\n",
       "\t<tr><td>174.2942</td><td>176.3500</td><td>74.80417</td><td>175.1308</td></tr>\n",
       "\t<tr><td>174.3267</td><td>176.4692</td><td>74.87000</td><td>175.1975</td></tr>\n",
       "\t<tr><td>174.3567</td><td>176.4792</td><td>74.83250</td><td>175.2200</td></tr>\n",
       "\t<tr><td>174.5042</td><td>176.6958</td><td>75.04250</td><td>175.3808</td></tr>\n",
       "\t<tr><td>174.3667</td><td>176.6783</td><td>74.75500</td><td>175.2900</td></tr>\n",
       "\t<tr><td>174.2842</td><td>176.5275</td><td>74.73917</td><td>175.1833</td></tr>\n",
       "\t<tr><td>174.3750</td><td>176.6542</td><td>74.87333</td><td>175.2467</td></tr>\n",
       "\t<tr><td>174.7175</td><td>176.9842</td><td>74.96250</td><td>175.6125</td></tr>\n",
       "\t<tr><td>174.5508</td><td>176.7167</td><td>74.91000</td><td>175.3975</td></tr>\n",
       "\t<tr><td>174.1025</td><td>176.2358</td><td>74.57250</td><td>174.9758</td></tr>\n",
       "\t<tr><td>173.9900</td><td>175.9783</td><td>74.78000</td><td>174.7925</td></tr>\n",
       "\t<tr><td>173.9142</td><td>175.9508</td><td>74.69917</td><td>174.7617</td></tr>\n",
       "\t<tr><td>174.0583</td><td>176.1183</td><td>74.79000</td><td>174.8833</td></tr>\n",
       "\t<tr><td>173.9658</td><td>175.8917</td><td>74.71333</td><td>174.7375</td></tr>\n",
       "\t<tr><td>174.1158</td><td>176.1108</td><td>74.84833</td><td>174.9167</td></tr>\n",
       "\t<tr><td>174.1700</td><td>176.0900</td><td>74.82167</td><td>174.9383</td></tr>\n",
       "\t<tr><td>174.1467</td><td>176.0158</td><td>74.83083</td><td>174.8917</td></tr>\n",
       "\t<tr><td>174.1392</td><td>175.9433</td><td>74.75167</td><td>174.8483</td></tr>\n",
       "\t<tr><td>174.1592</td><td>176.0050</td><td>74.87500</td><td>174.9200</td></tr>\n",
       "\t<tr><td>174.2483</td><td>176.2583</td><td>74.87333</td><td>175.0767</td></tr>\n",
       "</tbody>\n",
       "</table>\n"
      ],
      "text/latex": [
       "A data.frame: 92 × 4\n",
       "\\begin{tabular}{llll}\n",
       " Erie & michHuron & Ontario & StClair\\\\\n",
       " <dbl> & <dbl> & <dbl> & <dbl>\\\\\n",
       "\\hline\n",
       "\t 174.0150 & 176.8867 & 74.87250 & 174.9567\\\\\n",
       "\t 174.1808 & 176.7450 & 74.95583 & 175.0767\\\\\n",
       "\t 173.9083 & 176.6250 & 74.56750 & 174.8150\\\\\n",
       "\t 174.0258 & 176.4883 & 74.66583 & 174.8692\\\\\n",
       "\t 173.9275 & 176.4450 & 74.65667 & 174.8108\\\\\n",
       "\t 173.7575 & 176.2642 & 74.44333 & 174.6525\\\\\n",
       "\t 173.8433 & 176.1867 & 74.55750 & 174.6375\\\\\n",
       "\t 173.5933 & 175.9192 & 74.39000 & 174.4058\\\\\n",
       "\t 173.6408 & 175.8850 & 74.40250 & 174.4017\\\\\n",
       "\t 173.8183 & 176.1483 & 74.60667 & 174.5983\\\\\n",
       "\t 173.9517 & 176.4433 & 74.80083 & 174.8050\\\\\n",
       "\t 174.3117 & 176.8958 & 75.08500 & 175.2642\\\\\n",
       "\t 174.2700 & 176.6508 & 75.08083 & 175.0950\\\\\n",
       "\t 173.7050 & 176.1183 & 74.35750 & 174.5083\\\\\n",
       "\t 173.7358 & 175.9408 & 74.50250 & 174.5658\\\\\n",
       "\t 173.6767 & 175.8675 & 74.27583 & 174.5467\\\\\n",
       "\t 173.3317 & 175.7667 & 74.02167 & 174.2742\\\\\n",
       "\t 173.4108 & 175.8908 & 74.00417 & 174.3608\\\\\n",
       "\t 173.4883 & 175.9392 & 74.16417 & 174.3933\\\\\n",
       "\t 173.8200 & 175.9225 & 74.49583 & 174.6033\\\\\n",
       "\t 173.8408 & 176.1408 & 74.52250 & 174.6892\\\\\n",
       "\t 173.8458 & 176.2692 & 74.49250 & 174.7208\\\\\n",
       "\t 173.7950 & 176.1417 & 74.42583 & 174.6450\\\\\n",
       "\t 173.7000 & 176.1217 & 74.40750 & 174.5817\\\\\n",
       "\t 173.8767 & 176.3342 & 74.51667 & 174.7675\\\\\n",
       "\t 174.2317 & 176.6267 & 75.13417 & 175.1125\\\\\n",
       "\t 174.0917 & 176.5967 & 74.84583 & 174.9817\\\\\n",
       "\t 174.1883 & 176.5700 & 75.06000 & 175.0892\\\\\n",
       "\t 174.1358 & 176.6017 & 74.99333 & 175.0383\\\\\n",
       "\t 174.2350 & 176.5667 & 75.16917 & 175.1042\\\\\n",
       "\t ⋮ & ⋮ & ⋮ & ⋮\\\\\n",
       "\t 174.5217 & 176.8033 & 74.82333 & 175.4075\\\\\n",
       "\t 174.3983 & 176.6983 & 74.78583 & 175.2958\\\\\n",
       "\t 174.4250 & 176.5983 & 74.75250 & 175.2992\\\\\n",
       "\t 174.5208 & 176.8333 & 74.82167 & 175.4333\\\\\n",
       "\t 174.5225 & 176.8950 & 74.90167 & 175.4350\\\\\n",
       "\t 174.7283 & 177.1267 & 74.87750 & 175.7000\\\\\n",
       "\t 174.8983 & 177.2925 & 75.14750 & 175.8517\\\\\n",
       "\t 174.6675 & 176.9700 & 74.84917 & 175.5608\\\\\n",
       "\t 174.2617 & 176.5642 & 74.68000 & 175.1933\\\\\n",
       "\t 174.2258 & 176.4008 & 74.76083 & 175.1092\\\\\n",
       "\t 174.2942 & 176.3500 & 74.80417 & 175.1308\\\\\n",
       "\t 174.3267 & 176.4692 & 74.87000 & 175.1975\\\\\n",
       "\t 174.3567 & 176.4792 & 74.83250 & 175.2200\\\\\n",
       "\t 174.5042 & 176.6958 & 75.04250 & 175.3808\\\\\n",
       "\t 174.3667 & 176.6783 & 74.75500 & 175.2900\\\\\n",
       "\t 174.2842 & 176.5275 & 74.73917 & 175.1833\\\\\n",
       "\t 174.3750 & 176.6542 & 74.87333 & 175.2467\\\\\n",
       "\t 174.7175 & 176.9842 & 74.96250 & 175.6125\\\\\n",
       "\t 174.5508 & 176.7167 & 74.91000 & 175.3975\\\\\n",
       "\t 174.1025 & 176.2358 & 74.57250 & 174.9758\\\\\n",
       "\t 173.9900 & 175.9783 & 74.78000 & 174.7925\\\\\n",
       "\t 173.9142 & 175.9508 & 74.69917 & 174.7617\\\\\n",
       "\t 174.0583 & 176.1183 & 74.79000 & 174.8833\\\\\n",
       "\t 173.9658 & 175.8917 & 74.71333 & 174.7375\\\\\n",
       "\t 174.1158 & 176.1108 & 74.84833 & 174.9167\\\\\n",
       "\t 174.1700 & 176.0900 & 74.82167 & 174.9383\\\\\n",
       "\t 174.1467 & 176.0158 & 74.83083 & 174.8917\\\\\n",
       "\t 174.1392 & 175.9433 & 74.75167 & 174.8483\\\\\n",
       "\t 174.1592 & 176.0050 & 74.87500 & 174.9200\\\\\n",
       "\t 174.2483 & 176.2583 & 74.87333 & 175.0767\\\\\n",
       "\\end{tabular}\n"
      ],
      "text/markdown": [
       "\n",
       "A data.frame: 92 × 4\n",
       "\n",
       "| Erie &lt;dbl&gt; | michHuron &lt;dbl&gt; | Ontario &lt;dbl&gt; | StClair &lt;dbl&gt; |\n",
       "|---|---|---|---|\n",
       "| 174.0150 | 176.8867 | 74.87250 | 174.9567 |\n",
       "| 174.1808 | 176.7450 | 74.95583 | 175.0767 |\n",
       "| 173.9083 | 176.6250 | 74.56750 | 174.8150 |\n",
       "| 174.0258 | 176.4883 | 74.66583 | 174.8692 |\n",
       "| 173.9275 | 176.4450 | 74.65667 | 174.8108 |\n",
       "| 173.7575 | 176.2642 | 74.44333 | 174.6525 |\n",
       "| 173.8433 | 176.1867 | 74.55750 | 174.6375 |\n",
       "| 173.5933 | 175.9192 | 74.39000 | 174.4058 |\n",
       "| 173.6408 | 175.8850 | 74.40250 | 174.4017 |\n",
       "| 173.8183 | 176.1483 | 74.60667 | 174.5983 |\n",
       "| 173.9517 | 176.4433 | 74.80083 | 174.8050 |\n",
       "| 174.3117 | 176.8958 | 75.08500 | 175.2642 |\n",
       "| 174.2700 | 176.6508 | 75.08083 | 175.0950 |\n",
       "| 173.7050 | 176.1183 | 74.35750 | 174.5083 |\n",
       "| 173.7358 | 175.9408 | 74.50250 | 174.5658 |\n",
       "| 173.6767 | 175.8675 | 74.27583 | 174.5467 |\n",
       "| 173.3317 | 175.7667 | 74.02167 | 174.2742 |\n",
       "| 173.4108 | 175.8908 | 74.00417 | 174.3608 |\n",
       "| 173.4883 | 175.9392 | 74.16417 | 174.3933 |\n",
       "| 173.8200 | 175.9225 | 74.49583 | 174.6033 |\n",
       "| 173.8408 | 176.1408 | 74.52250 | 174.6892 |\n",
       "| 173.8458 | 176.2692 | 74.49250 | 174.7208 |\n",
       "| 173.7950 | 176.1417 | 74.42583 | 174.6450 |\n",
       "| 173.7000 | 176.1217 | 74.40750 | 174.5817 |\n",
       "| 173.8767 | 176.3342 | 74.51667 | 174.7675 |\n",
       "| 174.2317 | 176.6267 | 75.13417 | 175.1125 |\n",
       "| 174.0917 | 176.5967 | 74.84583 | 174.9817 |\n",
       "| 174.1883 | 176.5700 | 75.06000 | 175.0892 |\n",
       "| 174.1358 | 176.6017 | 74.99333 | 175.0383 |\n",
       "| 174.2350 | 176.5667 | 75.16917 | 175.1042 |\n",
       "| ⋮ | ⋮ | ⋮ | ⋮ |\n",
       "| 174.5217 | 176.8033 | 74.82333 | 175.4075 |\n",
       "| 174.3983 | 176.6983 | 74.78583 | 175.2958 |\n",
       "| 174.4250 | 176.5983 | 74.75250 | 175.2992 |\n",
       "| 174.5208 | 176.8333 | 74.82167 | 175.4333 |\n",
       "| 174.5225 | 176.8950 | 74.90167 | 175.4350 |\n",
       "| 174.7283 | 177.1267 | 74.87750 | 175.7000 |\n",
       "| 174.8983 | 177.2925 | 75.14750 | 175.8517 |\n",
       "| 174.6675 | 176.9700 | 74.84917 | 175.5608 |\n",
       "| 174.2617 | 176.5642 | 74.68000 | 175.1933 |\n",
       "| 174.2258 | 176.4008 | 74.76083 | 175.1092 |\n",
       "| 174.2942 | 176.3500 | 74.80417 | 175.1308 |\n",
       "| 174.3267 | 176.4692 | 74.87000 | 175.1975 |\n",
       "| 174.3567 | 176.4792 | 74.83250 | 175.2200 |\n",
       "| 174.5042 | 176.6958 | 75.04250 | 175.3808 |\n",
       "| 174.3667 | 176.6783 | 74.75500 | 175.2900 |\n",
       "| 174.2842 | 176.5275 | 74.73917 | 175.1833 |\n",
       "| 174.3750 | 176.6542 | 74.87333 | 175.2467 |\n",
       "| 174.7175 | 176.9842 | 74.96250 | 175.6125 |\n",
       "| 174.5508 | 176.7167 | 74.91000 | 175.3975 |\n",
       "| 174.1025 | 176.2358 | 74.57250 | 174.9758 |\n",
       "| 173.9900 | 175.9783 | 74.78000 | 174.7925 |\n",
       "| 173.9142 | 175.9508 | 74.69917 | 174.7617 |\n",
       "| 174.0583 | 176.1183 | 74.79000 | 174.8833 |\n",
       "| 173.9658 | 175.8917 | 74.71333 | 174.7375 |\n",
       "| 174.1158 | 176.1108 | 74.84833 | 174.9167 |\n",
       "| 174.1700 | 176.0900 | 74.82167 | 174.9383 |\n",
       "| 174.1467 | 176.0158 | 74.83083 | 174.8917 |\n",
       "| 174.1392 | 175.9433 | 74.75167 | 174.8483 |\n",
       "| 174.1592 | 176.0050 | 74.87500 | 174.9200 |\n",
       "| 174.2483 | 176.2583 | 74.87333 | 175.0767 |\n",
       "\n"
      ],
      "text/plain": [
       "   Erie     michHuron Ontario  StClair \n",
       "1  174.0150 176.8867  74.87250 174.9567\n",
       "2  174.1808 176.7450  74.95583 175.0767\n",
       "3  173.9083 176.6250  74.56750 174.8150\n",
       "4  174.0258 176.4883  74.66583 174.8692\n",
       "5  173.9275 176.4450  74.65667 174.8108\n",
       "6  173.7575 176.2642  74.44333 174.6525\n",
       "7  173.8433 176.1867  74.55750 174.6375\n",
       "8  173.5933 175.9192  74.39000 174.4058\n",
       "9  173.6408 175.8850  74.40250 174.4017\n",
       "10 173.8183 176.1483  74.60667 174.5983\n",
       "11 173.9517 176.4433  74.80083 174.8050\n",
       "12 174.3117 176.8958  75.08500 175.2642\n",
       "13 174.2700 176.6508  75.08083 175.0950\n",
       "14 173.7050 176.1183  74.35750 174.5083\n",
       "15 173.7358 175.9408  74.50250 174.5658\n",
       "16 173.6767 175.8675  74.27583 174.5467\n",
       "17 173.3317 175.7667  74.02167 174.2742\n",
       "18 173.4108 175.8908  74.00417 174.3608\n",
       "19 173.4883 175.9392  74.16417 174.3933\n",
       "20 173.8200 175.9225  74.49583 174.6033\n",
       "21 173.8408 176.1408  74.52250 174.6892\n",
       "22 173.8458 176.2692  74.49250 174.7208\n",
       "23 173.7950 176.1417  74.42583 174.6450\n",
       "24 173.7000 176.1217  74.40750 174.5817\n",
       "25 173.8767 176.3342  74.51667 174.7675\n",
       "26 174.2317 176.6267  75.13417 175.1125\n",
       "27 174.0917 176.5967  74.84583 174.9817\n",
       "28 174.1883 176.5700  75.06000 175.0892\n",
       "29 174.1358 176.6017  74.99333 175.0383\n",
       "30 174.2350 176.5667  75.16917 175.1042\n",
       "⋮  ⋮        ⋮         ⋮        ⋮       \n",
       "63 174.5217 176.8033  74.82333 175.4075\n",
       "64 174.3983 176.6983  74.78583 175.2958\n",
       "65 174.4250 176.5983  74.75250 175.2992\n",
       "66 174.5208 176.8333  74.82167 175.4333\n",
       "67 174.5225 176.8950  74.90167 175.4350\n",
       "68 174.7283 177.1267  74.87750 175.7000\n",
       "69 174.8983 177.2925  75.14750 175.8517\n",
       "70 174.6675 176.9700  74.84917 175.5608\n",
       "71 174.2617 176.5642  74.68000 175.1933\n",
       "72 174.2258 176.4008  74.76083 175.1092\n",
       "73 174.2942 176.3500  74.80417 175.1308\n",
       "74 174.3267 176.4692  74.87000 175.1975\n",
       "75 174.3567 176.4792  74.83250 175.2200\n",
       "76 174.5042 176.6958  75.04250 175.3808\n",
       "77 174.3667 176.6783  74.75500 175.2900\n",
       "78 174.2842 176.5275  74.73917 175.1833\n",
       "79 174.3750 176.6542  74.87333 175.2467\n",
       "80 174.7175 176.9842  74.96250 175.6125\n",
       "81 174.5508 176.7167  74.91000 175.3975\n",
       "82 174.1025 176.2358  74.57250 174.9758\n",
       "83 173.9900 175.9783  74.78000 174.7925\n",
       "84 173.9142 175.9508  74.69917 174.7617\n",
       "85 174.0583 176.1183  74.79000 174.8833\n",
       "86 173.9658 175.8917  74.71333 174.7375\n",
       "87 174.1158 176.1108  74.84833 174.9167\n",
       "88 174.1700 176.0900  74.82167 174.9383\n",
       "89 174.1467 176.0158  74.83083 174.8917\n",
       "90 174.1392 175.9433  74.75167 174.8483\n",
       "91 174.1592 176.0050  74.87500 174.9200\n",
       "92 174.2483 176.2583  74.87333 175.0767"
      ]
     },
     "metadata": {},
     "output_type": "display_data"
    }
   ],
   "source": [
    "ds"
   ]
  },
  {
   "cell_type": "code",
   "execution_count": null,
   "id": "c4fa0065",
   "metadata": {},
   "outputs": [],
   "source": []
  }
 ],
 "metadata": {
  "kernelspec": {
   "display_name": "R",
   "language": "R",
   "name": "ir"
  },
  "language_info": {
   "codemirror_mode": "r",
   "file_extension": ".r",
   "mimetype": "text/x-r-source",
   "name": "R",
   "pygments_lexer": "r",
   "version": "4.3.1"
  }
 },
 "nbformat": 4,
 "nbformat_minor": 5
}
