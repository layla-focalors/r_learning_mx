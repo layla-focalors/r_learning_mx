{
 "cells": [
  {
   "cell_type": "code",
   "execution_count": 1,
   "id": "14aaf129",
   "metadata": {},
   "outputs": [],
   "source": [
    "age = c(8, 3, 6, 9, 2, 5, 6, 3)"
   ]
  },
  {
   "cell_type": "code",
   "execution_count": 2,
   "id": "b587a618",
   "metadata": {},
   "outputs": [
    {
     "data": {
      "text/html": [
       "<style>\n",
       ".list-inline {list-style: none; margin:0; padding: 0}\n",
       ".list-inline>li {display: inline-block}\n",
       ".list-inline>li:not(:last-child)::after {content: \"\\00b7\"; padding: 0 .5ex}\n",
       "</style>\n",
       "<ol class=list-inline><li>8</li><li>3</li><li>6</li><li>9</li><li>2</li><li>5</li><li>6</li><li>3</li></ol>\n"
      ],
      "text/latex": [
       "\\begin{enumerate*}\n",
       "\\item 8\n",
       "\\item 3\n",
       "\\item 6\n",
       "\\item 9\n",
       "\\item 2\n",
       "\\item 5\n",
       "\\item 6\n",
       "\\item 3\n",
       "\\end{enumerate*}\n"
      ],
      "text/markdown": [
       "1. 8\n",
       "2. 3\n",
       "3. 6\n",
       "4. 9\n",
       "5. 2\n",
       "6. 5\n",
       "7. 6\n",
       "8. 3\n",
       "\n",
       "\n"
      ],
      "text/plain": [
       "[1] 8 3 6 9 2 5 6 3"
      ]
     },
     "metadata": {},
     "output_type": "display_data"
    }
   ],
   "source": [
    "age"
   ]
  },
  {
   "cell_type": "code",
   "execution_count": 3,
   "id": "be19e77d",
   "metadata": {},
   "outputs": [],
   "source": [
    "price = c(18, 94, 50, 21, 145, 42, 36, 99)"
   ]
  },
  {
   "cell_type": "code",
   "execution_count": 4,
   "id": "ddd57845",
   "metadata": {},
   "outputs": [
    {
     "data": {
      "text/html": [
       "<style>\n",
       ".list-inline {list-style: none; margin:0; padding: 0}\n",
       ".list-inline>li {display: inline-block}\n",
       ".list-inline>li:not(:last-child)::after {content: \"\\00b7\"; padding: 0 .5ex}\n",
       "</style>\n",
       "<ol class=list-inline><li>18</li><li>94</li><li>50</li><li>21</li><li>145</li><li>42</li><li>36</li><li>99</li></ol>\n"
      ],
      "text/latex": [
       "\\begin{enumerate*}\n",
       "\\item 18\n",
       "\\item 94\n",
       "\\item 50\n",
       "\\item 21\n",
       "\\item 145\n",
       "\\item 42\n",
       "\\item 36\n",
       "\\item 99\n",
       "\\end{enumerate*}\n"
      ],
      "text/markdown": [
       "1. 18\n",
       "2. 94\n",
       "3. 50\n",
       "4. 21\n",
       "5. 145\n",
       "6. 42\n",
       "7. 36\n",
       "8. 99\n",
       "\n",
       "\n"
      ],
      "text/plain": [
       "[1]  18  94  50  21 145  42  36  99"
      ]
     },
     "metadata": {},
     "output_type": "display_data"
    }
   ],
   "source": [
    "price"
   ]
  },
  {
   "cell_type": "code",
   "execution_count": 6,
   "id": "196d76b1",
   "metadata": {},
   "outputs": [
    {
     "data": {
      "image/png": "[encoded data removed]",
      "text/plain": [
       "Plot with title \"Scatterplot for Price & age\""
      ]
     },
     "metadata": {
      "image/png": {
       "height": 420,
       "width": 420
      }
     },
     "output_type": "display_data"
    }
   ],
   "source": [
    "plot(age, price,\n",
    "    main='Scatterplot for Price & age')"
   ]
  },
  {
   "cell_type": "code",
   "execution_count": 8,
   "id": "5eaa1327",
   "metadata": {},
   "outputs": [
    {
     "data": {
      "image/png": "[encoded data removed]",
      "text/plain": [
       "Plot with title \"Scatterplot for Price & age\""
      ]
     },
     "metadata": {
      "image/png": {
       "height": 420,
       "width": 420
      }
     },
     "output_type": "display_data"
    }
   ],
   "source": [
    "plot(age, price,\n",
    "    main='Scatterplot for Price & age',\n",
    "    type ='l')"
   ]
  },
  {
   "cell_type": "code",
   "execution_count": 10,
   "id": "d8c63aa2",
   "metadata": {},
   "outputs": [
    {
     "data": {
      "text/plain": [
       "\n",
       "Call:\n",
       "lm(formula = price ~ age)\n",
       "\n",
       "Coefficients:\n",
       "(Intercept)          age  \n",
       "     150.41       -16.63  \n"
      ]
     },
     "metadata": {},
     "output_type": "display_data"
    }
   ],
   "source": [
    "model = lm(price~age)\n",
    "model"
   ]
  },
  {
   "cell_type": "code",
   "execution_count": 11,
   "id": "f0c99446",
   "metadata": {},
   "outputs": [
    {
     "data": {
      "text/plain": [
       "\n",
       "Call:\n",
       "lm(formula = price ~ age)\n",
       "\n",
       "Residuals:\n",
       "    Min      1Q  Median      3Q     Max \n",
       "-25.282  -8.565  -1.095   5.504  27.839 \n",
       "\n",
       "Coefficients:\n",
       "            Estimate Std. Error t value Pr(>|t|)    \n",
       "(Intercept)  150.414     16.232   9.267 8.93e-05 ***\n",
       "age          -16.626      2.826  -5.884  0.00107 ** \n",
       "---\n",
       "Signif. codes:  0 '***' 0.001 '**' 0.01 '*' 0.05 '.' 0.1 ' ' 1\n",
       "\n",
       "Residual standard error: 18.64 on 6 degrees of freedom\n",
       "Multiple R-squared:  0.8523,\tAdjusted R-squared:  0.8277 \n",
       "F-statistic: 34.62 on 1 and 6 DF,  p-value: 0.001068\n"
      ]
     },
     "metadata": {},
     "output_type": "display_data"
    }
   ],
   "source": [
    "summary(model)"
   ]
  },
  {
   "cell_type": "code",
   "execution_count": 13,
   "id": "b63242b2",
   "metadata": {},
   "outputs": [
    {
     "data": {
      "text/html": [
       "-0.923203879799409"
      ],
      "text/latex": [
       "-0.923203879799409"
      ],
      "text/markdown": [
       "-0.923203879799409"
      ],
      "text/plain": [
       "[1] -0.9232039"
      ]
     },
     "metadata": {},
     "output_type": "display_data"
    }
   ],
   "source": [
    "cor(age, price)"
   ]
  },
  {
   "cell_type": "code",
   "execution_count": 16,
   "id": "c61cbb76",
   "metadata": {},
   "outputs": [
    {
     "data": {
      "image/png": "[encoded data removed]",
      "text/plain": [
       "plot without title"
      ]
     },
     "metadata": {
      "image/png": {
       "height": 420,
       "width": 420
      }
     },
     "output_type": "display_data"
    }
   ],
   "source": [
    "plot(age, price)\n",
    "abline(model)\n",
    "# 종속변수는 무조건 뒤에 나와야 한다!\n",
    "# 독립변수를 먼저 표기한다!"
   ]
  },
  {
   "cell_type": "code",
   "execution_count": 18,
   "id": "7b051457",
   "metadata": {},
   "outputs": [
    {
     "data": {
      "text/html": [
       "<strong>1:</strong> 34.0287356321839"
      ],
      "text/latex": [
       "\\textbf{1:} 34.0287356321839"
      ],
      "text/markdown": [
       "**1:** 34.0287356321839"
      ],
      "text/plain": [
       "       1 \n",
       "34.02874 "
      ]
     },
     "metadata": {},
     "output_type": "display_data"
    }
   ],
   "source": [
    "predict(model, newdata = data.frame(age=7))"
   ]
  },
  {
   "cell_type": "code",
   "execution_count": 19,
   "id": "c640e1a1",
   "metadata": {},
   "outputs": [
    {
     "data": {
      "text/plain": [
       "\n",
       "Call:\n",
       "lm(formula = price ~ age)\n",
       "\n",
       "Coefficients:\n",
       "(Intercept)          age  \n",
       "     150.41       -16.63  \n"
      ]
     },
     "metadata": {},
     "output_type": "display_data"
    }
   ],
   "source": [
    "model"
   ]
  },
  {
   "cell_type": "code",
   "execution_count": 22,
   "id": "e038c708",
   "metadata": {},
   "outputs": [
    {
     "data": {
      "text/html": [
       "34"
      ],
      "text/latex": [
       "34"
      ],
      "text/markdown": [
       "34"
      ],
      "text/plain": [
       "[1] 34"
      ]
     },
     "metadata": {},
     "output_type": "display_data"
    }
   ],
   "source": [
    "150.41 - 16.63  * 7"
   ]
  },
  {
   "cell_type": "code",
   "execution_count": 24,
   "id": "87e9faa1",
   "metadata": {},
   "outputs": [],
   "source": [
    "score = c(90, 85, 73, 80, 85, 65, 78, 50, 68, 96)\n",
    "names(score) = c('KOR','ENG','ATH','HIST','SOC','MUSIC','BIO', 'EARTH','PHY','ART')"
   ]
  },
  {
   "cell_type": "code",
   "execution_count": 25,
   "id": "8972103f",
   "metadata": {},
   "outputs": [
    {
     "data": {
      "text/html": [
       "<style>\n",
       ".dl-inline {width: auto; margin:0; padding: 0}\n",
       ".dl-inline>dt, .dl-inline>dd {float: none; width: auto; display: inline-block}\n",
       ".dl-inline>dt::after {content: \":\\0020\"; padding-right: .5ex}\n",
       ".dl-inline>dt:not(:first-of-type) {padding-left: .5ex}\n",
       "</style><dl class=dl-inline><dt>KOR</dt><dd>90</dd><dt>ENG</dt><dd>85</dd><dt>ATH</dt><dd>73</dd><dt>HIST</dt><dd>80</dd><dt>SOC</dt><dd>85</dd><dt>MUSIC</dt><dd>65</dd><dt>BIO</dt><dd>78</dd><dt>EARTH</dt><dd>50</dd><dt>PHY</dt><dd>68</dd><dt>ART</dt><dd>96</dd></dl>\n"
      ],
      "text/latex": [
       "\\begin{description*}\n",
       "\\item[KOR] 90\n",
       "\\item[ENG] 85\n",
       "\\item[ATH] 73\n",
       "\\item[HIST] 80\n",
       "\\item[SOC] 85\n",
       "\\item[MUSIC] 65\n",
       "\\item[BIO] 78\n",
       "\\item[EARTH] 50\n",
       "\\item[PHY] 68\n",
       "\\item[ART] 96\n",
       "\\end{description*}\n"
      ],
      "text/markdown": [
       "KOR\n",
       ":   90ENG\n",
       ":   85ATH\n",
       ":   73HIST\n",
       ":   80SOC\n",
       ":   85MUSIC\n",
       ":   65BIO\n",
       ":   78EARTH\n",
       ":   50PHY\n",
       ":   68ART\n",
       ":   96\n",
       "\n"
      ],
      "text/plain": [
       "  KOR   ENG   ATH  HIST   SOC MUSIC   BIO EARTH   PHY   ART \n",
       "   90    85    73    80    85    65    78    50    68    96 "
      ]
     },
     "metadata": {},
     "output_type": "display_data"
    }
   ],
   "source": [
    "score"
   ]
  },
  {
   "cell_type": "code",
   "execution_count": 26,
   "id": "a32a6a99",
   "metadata": {},
   "outputs": [
    {
     "data": {
      "text/html": [
       "77"
      ],
      "text/latex": [
       "77"
      ],
      "text/markdown": [
       "77"
      ],
      "text/plain": [
       "[1] 77"
      ]
     },
     "metadata": {},
     "output_type": "display_data"
    },
    {
     "data": {
      "text/html": [
       "79"
      ],
      "text/latex": [
       "79"
      ],
      "text/markdown": [
       "79"
      ],
      "text/plain": [
       "[1] 79"
      ]
     },
     "metadata": {},
     "output_type": "display_data"
    }
   ],
   "source": [
    "mean(score)\n",
    "median(score)"
   ]
  },
  {
   "cell_type": "code",
   "execution_count": 27,
   "id": "0dc52c78",
   "metadata": {},
   "outputs": [
    {
     "data": {
      "text/html": [
       "13.490737563232"
      ],
      "text/latex": [
       "13.490737563232"
      ],
      "text/markdown": [
       "13.490737563232"
      ],
      "text/plain": [
       "[1] 13.49074"
      ]
     },
     "metadata": {},
     "output_type": "display_data"
    }
   ],
   "source": [
    "sd(score)"
   ]
  },
  {
   "cell_type": "code",
   "execution_count": 33,
   "id": "302b0efa",
   "metadata": {},
   "outputs": [
    {
     "data": {
      "text/html": [
       "'ART'"
      ],
      "text/latex": [
       "'ART'"
      ],
      "text/markdown": [
       "'ART'"
      ],
      "text/plain": [
       "[1] \"ART\""
      ]
     },
     "metadata": {},
     "output_type": "display_data"
    }
   ],
   "source": [
    "names(score[score == max(score)])"
   ]
  },
  {
   "cell_type": "code",
   "execution_count": 34,
   "id": "08c0d7ea",
   "metadata": {},
   "outputs": [
    {
     "data": {
      "text/html": [
       "'EARTH'"
      ],
      "text/latex": [
       "'EARTH'"
      ],
      "text/markdown": [
       "'EARTH'"
      ],
      "text/plain": [
       "[1] \"EARTH\""
      ]
     },
     "metadata": {},
     "output_type": "display_data"
    }
   ],
   "source": [
    "names(score[score == min(score)])"
   ]
  },
  {
   "cell_type": "code",
   "execution_count": 36,
   "id": "9fec6f6c",
   "metadata": {},
   "outputs": [
    {
     "data": {
      "image/png": "[encoded data removed]",
      "text/plain": [
       "Plot with title \"Boxplot of Score\""
      ]
     },
     "metadata": {
      "image/png": {
       "height": 420,
       "width": 420
      }
     },
     "output_type": "display_data"
    }
   ],
   "source": [
    "boxplot(score, \n",
    "       main = 'Boxplot of Score')"
   ]
  },
  {
   "cell_type": "code",
   "execution_count": 40,
   "id": "b6b07acc",
   "metadata": {},
   "outputs": [
    {
     "data": {
      "image/png": "[encoded data removed]",
      "text/plain": [
       "Plot with title \"학생 성적의 분포\""
      ]
     },
     "metadata": {
      "image/png": {
       "height": 420,
       "width": 420
      }
     },
     "output_type": "display_data"
    }
   ],
   "source": [
    "hist(score,\n",
    "    main = '학생 성적의 분포',\n",
    "    col = 'purple',\n",
    "    breaks=5)"
   ]
  },
  {
   "cell_type": "code",
   "execution_count": 41,
   "id": "e4df73f8",
   "metadata": {},
   "outputs": [
    {
     "data": {
      "text/html": [
       "3.21725"
      ],
      "text/latex": [
       "3.21725"
      ],
      "text/markdown": [
       "3.21725"
      ],
      "text/plain": [
       "[1] 3.21725"
      ]
     },
     "metadata": {},
     "output_type": "display_data"
    },
    {
     "data": {
      "text/html": [
       "3.325"
      ],
      "text/latex": [
       "3.325"
      ],
      "text/markdown": [
       "3.325"
      ],
      "text/plain": [
       "[1] 3.325"
      ]
     },
     "metadata": {},
     "output_type": "display_data"
    }
   ],
   "source": [
    "mean(mtcars$wt)\n",
    "median(mtcars$wt)"
   ]
  },
  {
   "cell_type": "code",
   "execution_count": 42,
   "id": "5cbcccf4",
   "metadata": {},
   "outputs": [
    {
     "data": {
      "text/html": [
       "3.325"
      ],
      "text/latex": [
       "3.325"
      ],
      "text/markdown": [
       "3.325"
      ],
      "text/plain": [
       "[1] 3.325"
      ]
     },
     "metadata": {},
     "output_type": "display_data"
    }
   ],
   "source": [
    "mean(mtcars$wt, trim = 1.5)"
   ]
  },
  {
   "cell_type": "code",
   "execution_count": 43,
   "id": "c3337018",
   "metadata": {},
   "outputs": [
    {
     "data": {
      "text/html": [
       "0.978457442989697"
      ],
      "text/latex": [
       "0.978457442989697"
      ],
      "text/markdown": [
       "0.978457442989697"
      ],
      "text/plain": [
       "[1] 0.9784574"
      ]
     },
     "metadata": {},
     "output_type": "display_data"
    }
   ],
   "source": [
    "sd(mtcars$wt)"
   ]
  },
  {
   "cell_type": "code",
   "execution_count": 44,
   "id": "e5689954",
   "metadata": {},
   "outputs": [
    {
     "data": {
      "text/plain": [
       "   Min. 1st Qu.  Median    Mean 3rd Qu.    Max. \n",
       "  1.513   2.581   3.325   3.217   3.610   5.424 "
      ]
     },
     "metadata": {},
     "output_type": "display_data"
    }
   ],
   "source": [
    "summary(mtcars$wt\n",
    "       )"
   ]
  },
  {
   "cell_type": "code",
   "execution_count": 45,
   "id": "f450b86a",
   "metadata": {},
   "outputs": [
    {
     "data": {
      "text/html": [
       "<style>\n",
       ".dl-inline {width: auto; margin:0; padding: 0}\n",
       ".dl-inline>dt, .dl-inline>dd {float: none; width: auto; display: inline-block}\n",
       ".dl-inline>dt::after {content: \":\\0020\"; padding-right: .5ex}\n",
       ".dl-inline>dt:not(:first-of-type) {padding-left: .5ex}\n",
       "</style><dl class=dl-inline><dt>0%</dt><dd>1.513</dd><dt>25%</dt><dd>2.58125</dd><dt>50%</dt><dd>3.325</dd><dt>75%</dt><dd>3.61</dd><dt>100%</dt><dd>5.424</dd></dl>\n"
      ],
      "text/latex": [
       "\\begin{description*}\n",
       "\\item[0\\textbackslash{}\\%] 1.513\n",
       "\\item[25\\textbackslash{}\\%] 2.58125\n",
       "\\item[50\\textbackslash{}\\%] 3.325\n",
       "\\item[75\\textbackslash{}\\%] 3.61\n",
       "\\item[100\\textbackslash{}\\%] 5.424\n",
       "\\end{description*}\n"
      ],
      "text/markdown": [
       "0%\n",
       ":   1.51325%\n",
       ":   2.5812550%\n",
       ":   3.32575%\n",
       ":   3.61100%\n",
       ":   5.424\n",
       "\n"
      ],
      "text/plain": [
       "     0%     25%     50%     75%    100% \n",
       "1.51300 2.58125 3.32500 3.61000 5.42400 "
      ]
     },
     "metadata": {},
     "output_type": "display_data"
    }
   ],
   "source": [
    "quantile(mtcars$wt)"
   ]
  },
  {
   "cell_type": "code",
   "execution_count": null,
   "id": "87685296",
   "metadata": {},
   "outputs": [],
   "source": []
  }
 ],
 "metadata": {
  "kernelspec": {
   "display_name": "R",
   "language": "R",
   "name": "ir"
  },
  "language_info": {
   "codemirror_mode": "r",
   "file_extension": ".r",
   "mimetype": "text/x-r-source",
   "name": "R",
   "pygments_lexer": "r",
   "version": "4.3.1"
  }
 },
 "nbformat": 4,
 "nbformat_minor": 5
}
