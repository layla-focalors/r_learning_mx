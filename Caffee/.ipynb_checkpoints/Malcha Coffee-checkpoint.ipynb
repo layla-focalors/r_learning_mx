{
 "cells": [
  {
   "cell_type": "code",
   "execution_count": 1,
   "id": "483dbefd",
   "metadata": {},
   "outputs": [],
   "source": [
    "age = c(8, 3, 6, 9, 2, 5, 6, 3)"
   ]
  },
  {
   "cell_type": "code",
   "execution_count": 2,
   "id": "5bc04e63",
   "metadata": {},
   "outputs": [
    {
     "data": {
      "text/html": [
       "<style>\n",
       ".list-inline {list-style: none; margin:0; padding: 0}\n",
       ".list-inline>li {display: inline-block}\n",
       ".list-inline>li:not(:last-child)::after {content: \"\\00b7\"; padding: 0 .5ex}\n",
       "</style>\n",
       "<ol class=list-inline><li>8</li><li>3</li><li>6</li><li>9</li><li>2</li><li>5</li><li>6</li><li>3</li></ol>\n"
      ],
      "text/latex": [
       "\\begin{enumerate*}\n",
       "\\item 8\n",
       "\\item 3\n",
       "\\item 6\n",
       "\\item 9\n",
       "\\item 2\n",
       "\\item 5\n",
       "\\item 6\n",
       "\\item 3\n",
       "\\end{enumerate*}\n"
      ],
      "text/markdown": [
       "1. 8\n",
       "2. 3\n",
       "3. 6\n",
       "4. 9\n",
       "5. 2\n",
       "6. 5\n",
       "7. 6\n",
       "8. 3\n",
       "\n",
       "\n"
      ],
      "text/plain": [
       "[1] 8 3 6 9 2 5 6 3"
      ]
     },
     "metadata": {},
     "output_type": "display_data"
    }
   ],
   "source": [
    "age"
   ]
  },
  {
   "cell_type": "code",
   "execution_count": 3,
   "id": "34aaf783",
   "metadata": {},
   "outputs": [],
   "source": [
    "price = c(18, 94, 50, 21, 145, 42, 36, 99)"
   ]
  },
  {
   "cell_type": "code",
   "execution_count": 4,
   "id": "d7edecd5",
   "metadata": {},
   "outputs": [
    {
     "data": {
      "text/html": [
       "<style>\n",
       ".list-inline {list-style: none; margin:0; padding: 0}\n",
       ".list-inline>li {display: inline-block}\n",
       ".list-inline>li:not(:last-child)::after {content: \"\\00b7\"; padding: 0 .5ex}\n",
       "</style>\n",
       "<ol class=list-inline><li>18</li><li>94</li><li>50</li><li>21</li><li>145</li><li>42</li><li>36</li><li>99</li></ol>\n"
      ],
      "text/latex": [
       "\\begin{enumerate*}\n",
       "\\item 18\n",
       "\\item 94\n",
       "\\item 50\n",
       "\\item 21\n",
       "\\item 145\n",
       "\\item 42\n",
       "\\item 36\n",
       "\\item 99\n",
       "\\end{enumerate*}\n"
      ],
      "text/markdown": [
       "1. 18\n",
       "2. 94\n",
       "3. 50\n",
       "4. 21\n",
       "5. 145\n",
       "6. 42\n",
       "7. 36\n",
       "8. 99\n",
       "\n",
       "\n"
      ],
      "text/plain": [
       "[1]  18  94  50  21 145  42  36  99"
      ]
     },
     "metadata": {},
     "output_type": "display_data"
    }
   ],
   "source": [
    "price"
   ]
  },
  {
   "cell_type": "code",
   "execution_count": 6,
   "id": "b2b9ab1e",
   "metadata": {},
   "outputs": [
    {
     "data": {
      "image/png": "[encoded data removed]",
      "text/plain": [
       "Plot with title \"Scatterplot for Price & age\""
      ]
     },
     "metadata": {
      "image/png": {
       "height": 420,
       "width": 420
      }
     },
     "output_type": "display_data"
    }
   ],
   "source": [
    "plot(age, price,\n",
    "    main='Scatterplot for Price & age')"
   ]
  },
  {
   "cell_type": "code",
   "execution_count": 8,
   "id": "b6a05cd6",
   "metadata": {},
   "outputs": [
    {
     "data": {
      "image/png": "[encoded data removed]",
      "text/plain": [
       "Plot with title \"Scatterplot for Price & age\""
      ]
     },
     "metadata": {
      "image/png": {
       "height": 420,
       "width": 420
      }
     },
     "output_type": "display_data"
    }
   ],
   "source": [
    "plot(age, price,\n",
    "    main='Scatterplot for Price & age',\n",
    "    type ='l')"
   ]
  },
  {
   "cell_type": "code",
   "execution_count": 10,
   "id": "4d936099",
   "metadata": {},
   "outputs": [
    {
     "data": {
      "text/plain": [
       "\n",
       "Call:\n",
       "lm(formula = price ~ age)\n",
       "\n",
       "Coefficients:\n",
       "(Intercept)          age  \n",
       "     150.41       -16.63  \n"
      ]
     },
     "metadata": {},
     "output_type": "display_data"
    }
   ],
   "source": [
    "model = lm(price~age)\n",
    "model"
   ]
  },
  {
   "cell_type": "code",
   "execution_count": 11,
   "id": "32e770ae",
   "metadata": {},
   "outputs": [
    {
     "data": {
      "text/plain": [
       "\n",
       "Call:\n",
       "lm(formula = price ~ age)\n",
       "\n",
       "Residuals:\n",
       "    Min      1Q  Median      3Q     Max \n",
       "-25.282  -8.565  -1.095   5.504  27.839 \n",
       "\n",
       "Coefficients:\n",
       "            Estimate Std. Error t value Pr(>|t|)    \n",
       "(Intercept)  150.414     16.232   9.267 8.93e-05 ***\n",
       "age          -16.626      2.826  -5.884  0.00107 ** \n",
       "---\n",
       "Signif. codes:  0 '***' 0.001 '**' 0.01 '*' 0.05 '.' 0.1 ' ' 1\n",
       "\n",
       "Residual standard error: 18.64 on 6 degrees of freedom\n",
       "Multiple R-squared:  0.8523,\tAdjusted R-squared:  0.8277 \n",
       "F-statistic: 34.62 on 1 and 6 DF,  p-value: 0.001068\n"
      ]
     },
     "metadata": {},
     "output_type": "display_data"
    }
   ],
   "source": [
    "summary(model)"
   ]
  },
  {
   "cell_type": "code",
   "execution_count": 13,
   "id": "72658f27",
   "metadata": {},
   "outputs": [
    {
     "data": {
      "text/html": [
       "-0.923203879799409"
      ],
      "text/latex": [
       "-0.923203879799409"
      ],
      "text/markdown": [
       "-0.923203879799409"
      ],
      "text/plain": [
       "[1] -0.9232039"
      ]
     },
     "metadata": {},
     "output_type": "display_data"
    }
   ],
   "source": [
    "cor(age, price)"
   ]
  },
  {
   "cell_type": "code",
   "execution_count": 16,
   "id": "37429f4a",
   "metadata": {},
   "outputs": [
    {
     "data": {
      "image/png": "[encoded data removed]",
      "text/plain": [
       "plot without title"
      ]
     },
     "metadata": {
      "image/png": {
       "height": 420,
       "width": 420
      }
     },
     "output_type": "display_data"
    }
   ],
   "source": [
    "plot(age, price)\n",
    "abline(model)\n",
    "# 종속변수는 무조건 뒤에 나와야 한다!\n",
    "# 독립변수를 먼저 표기한다!"
   ]
  },
  {
   "cell_type": "code",
   "execution_count": 18,
   "id": "1bc82a72",
   "metadata": {},
   "outputs": [
    {
     "data": {
      "text/html": [
       "<strong>1:</strong> 34.0287356321839"
      ],
      "text/latex": [
       "\\textbf{1:} 34.0287356321839"
      ],
      "text/markdown": [
       "**1:** 34.0287356321839"
      ],
      "text/plain": [
       "       1 \n",
       "34.02874 "
      ]
     },
     "metadata": {},
     "output_type": "display_data"
    }
   ],
   "source": [
    "predict(model, newdata = data.frame(age=7))"
   ]
  },
  {
   "cell_type": "code",
   "execution_count": 19,
   "id": "b88bac91",
   "metadata": {},
   "outputs": [
    {
     "data": {
      "text/plain": [
       "\n",
       "Call:\n",
       "lm(formula = price ~ age)\n",
       "\n",
       "Coefficients:\n",
       "(Intercept)          age  \n",
       "     150.41       -16.63  \n"
      ]
     },
     "metadata": {},
     "output_type": "display_data"
    }
   ],
   "source": [
    "model"
   ]
  },
  {
   "cell_type": "code",
   "execution_count": 22,
   "id": "a0e07933",
   "metadata": {},
   "outputs": [
    {
     "data": {
      "text/html": [
       "34"
      ],
      "text/latex": [
       "34"
      ],
      "text/markdown": [
       "34"
      ],
      "text/plain": [
       "[1] 34"
      ]
     },
     "metadata": {},
     "output_type": "display_data"
    }
   ],
   "source": [
    "150.41 - 16.63  * 7"
   ]
  },
  {
   "cell_type": "code",
   "execution_count": 24,
   "id": "a131b1fc",
   "metadata": {},
   "outputs": [],
   "source": [
    "score = c(90, 85, 73, 80, 85, 65, 78, 50, 68, 96)\n",
    "names(score) = c('KOR','ENG','ATH','HIST','SOC','MUSIC','BIO', 'EARTH','PHY','ART')"
   ]
  },
  {
   "cell_type": "code",
   "execution_count": 25,
   "id": "1db540c5",
   "metadata": {},
   "outputs": [
    {
     "data": {
      "text/html": [
       "<style>\n",
       ".dl-inline {width: auto; margin:0; padding: 0}\n",
       ".dl-inline>dt, .dl-inline>dd {float: none; width: auto; display: inline-block}\n",
       ".dl-inline>dt::after {content: \":\\0020\"; padding-right: .5ex}\n",
       ".dl-inline>dt:not(:first-of-type) {padding-left: .5ex}\n",
       "</style><dl class=dl-inline><dt>KOR</dt><dd>90</dd><dt>ENG</dt><dd>85</dd><dt>ATH</dt><dd>73</dd><dt>HIST</dt><dd>80</dd><dt>SOC</dt><dd>85</dd><dt>MUSIC</dt><dd>65</dd><dt>BIO</dt><dd>78</dd><dt>EARTH</dt><dd>50</dd><dt>PHY</dt><dd>68</dd><dt>ART</dt><dd>96</dd></dl>\n"
      ],
      "text/latex": [
       "\\begin{description*}\n",
       "\\item[KOR] 90\n",
       "\\item[ENG] 85\n",
       "\\item[ATH] 73\n",
       "\\item[HIST] 80\n",
       "\\item[SOC] 85\n",
       "\\item[MUSIC] 65\n",
       "\\item[BIO] 78\n",
       "\\item[EARTH] 50\n",
       "\\item[PHY] 68\n",
       "\\item[ART] 96\n",
       "\\end{description*}\n"
      ],
      "text/markdown": [
       "KOR\n",
       ":   90ENG\n",
       ":   85ATH\n",
       ":   73HIST\n",
       ":   80SOC\n",
       ":   85MUSIC\n",
       ":   65BIO\n",
       ":   78EARTH\n",
       ":   50PHY\n",
       ":   68ART\n",
       ":   96\n",
       "\n"
      ],
      "text/plain": [
       "  KOR   ENG   ATH  HIST   SOC MUSIC   BIO EARTH   PHY   ART \n",
       "   90    85    73    80    85    65    78    50    68    96 "
      ]
     },
     "metadata": {},
     "output_type": "display_data"
    }
   ],
   "source": [
    "score"
   ]
  },
  {
   "cell_type": "code",
   "execution_count": 26,
   "id": "26934ad8",
   "metadata": {},
   "outputs": [
    {
     "data": {
      "text/html": [
       "77"
      ],
      "text/latex": [
       "77"
      ],
      "text/markdown": [
       "77"
      ],
      "text/plain": [
       "[1] 77"
      ]
     },
     "metadata": {},
     "output_type": "display_data"
    },
    {
     "data": {
      "text/html": [
       "79"
      ],
      "text/latex": [
       "79"
      ],
      "text/markdown": [
       "79"
      ],
      "text/plain": [
       "[1] 79"
      ]
     },
     "metadata": {},
     "output_type": "display_data"
    }
   ],
   "source": [
    "mean(score)\n",
    "median(score)"
   ]
  },
  {
   "cell_type": "code",
   "execution_count": 27,
   "id": "f87265ba",
   "metadata": {},
   "outputs": [
    {
     "data": {
      "text/html": [
       "13.490737563232"
      ],
      "text/latex": [
       "13.490737563232"
      ],
      "text/markdown": [
       "13.490737563232"
      ],
      "text/plain": [
       "[1] 13.49074"
      ]
     },
     "metadata": {},
     "output_type": "display_data"
    }
   ],
   "source": [
    "sd(score)"
   ]
  },
  {
   "cell_type": "code",
   "execution_count": 33,
   "id": "14ec1017",
   "metadata": {},
   "outputs": [
    {
     "data": {
      "text/html": [
       "'ART'"
      ],
      "text/latex": [
       "'ART'"
      ],
      "text/markdown": [
       "'ART'"
      ],
      "text/plain": [
       "[1] \"ART\""
      ]
     },
     "metadata": {},
     "output_type": "display_data"
    }
   ],
   "source": [
    "names(score[score == max(score)])"
   ]
  },
  {
   "cell_type": "code",
   "execution_count": 34,
   "id": "45c4b792",
   "metadata": {},
   "outputs": [
    {
     "data": {
      "text/html": [
       "'EARTH'"
      ],
      "text/latex": [
       "'EARTH'"
      ],
      "text/markdown": [
       "'EARTH'"
      ],
      "text/plain": [
       "[1] \"EARTH\""
      ]
     },
     "metadata": {},
     "output_type": "display_data"
    }
   ],
   "source": [
    "names(score[score == min(score)])"
   ]
  },
  {
   "cell_type": "code",
   "execution_count": 36,
   "id": "c04d91c3",
   "metadata": {},
   "outputs": [
    {
     "data": {
      "image/png": "[encoded data removed]",
      "text/plain": [
       "Plot with title \"Boxplot of Score\""
      ]
     },
     "metadata": {
      "image/png": {
       "height": 420,
       "width": 420
      }
     },
     "output_type": "display_data"
    }
   ],
   "source": [
    "boxplot(score, \n",
    "       main = 'Boxplot of Score')"
   ]
  },
  {
   "cell_type": "code",
   "execution_count": 40,
   "id": "5ddd0dc9",
   "metadata": {},
   "outputs": [
    {
     "data": {
      "image/png": "[encoded data removed]",
      "text/plain": [
       "Plot with title \"학생 성적의 분포\""
      ]
     },
     "metadata": {
      "image/png": {
       "height": 420,
       "width": 420
      }
     },
     "output_type": "display_data"
    }
   ],
   "source": [
    "hist(score,\n",
    "    main = '학생 성적의 분포',\n",
    "    col = 'purple',\n",
    "    breaks=5)"
   ]
  },
  {
   "cell_type": "code",
   "execution_count": 41,
   "id": "ff786570",
   "metadata": {},
   "outputs": [
    {
     "data": {
      "text/html": [
       "3.21725"
      ],
      "text/latex": [
       "3.21725"
      ],
      "text/markdown": [
       "3.21725"
      ],
      "text/plain": [
       "[1] 3.21725"
      ]
     },
     "metadata": {},
     "output_type": "display_data"
    },
    {
     "data": {
      "text/html": [
       "3.325"
      ],
      "text/latex": [
       "3.325"
      ],
      "text/markdown": [
       "3.325"
      ],
      "text/plain": [
       "[1] 3.325"
      ]
     },
     "metadata": {},
     "output_type": "display_data"
    }
   ],
   "source": [
    "mean(mtcars$wt)\n",
    "median(mtcars$wt)"
   ]
  },
  {
   "cell_type": "code",
   "execution_count": 42,
   "id": "4d4fbb89",
   "metadata": {},
   "outputs": [
    {
     "data": {
      "text/html": [
       "3.325"
      ],
      "text/latex": [
       "3.325"
      ],
      "text/markdown": [
       "3.325"
      ],
      "text/plain": [
       "[1] 3.325"
      ]
     },
     "metadata": {},
     "output_type": "display_data"
    }
   ],
   "source": [
    "mean(mtcars$wt, trim = 1.5)"
   ]
  },
  {
   "cell_type": "code",
   "execution_count": 43,
   "id": "2b67153f",
   "metadata": {},
   "outputs": [
    {
     "data": {
      "text/html": [
       "0.978457442989697"
      ],
      "text/latex": [
       "0.978457442989697"
      ],
      "text/markdown": [
       "0.978457442989697"
      ],
      "text/plain": [
       "[1] 0.9784574"
      ]
     },
     "metadata": {},
     "output_type": "display_data"
    }
   ],
   "source": [
    "sd(mtcars$wt)"
   ]
  },
  {
   "cell_type": "code",
   "execution_count": 44,
   "id": "d96dda62",
   "metadata": {},
   "outputs": [
    {
     "data": {
      "text/plain": [
       "   Min. 1st Qu.  Median    Mean 3rd Qu.    Max. \n",
       "  1.513   2.581   3.325   3.217   3.610   5.424 "
      ]
     },
     "metadata": {},
     "output_type": "display_data"
    }
   ],
   "source": [
    "summary(mtcars$wt\n",
    "       )"
   ]
  },
  {
   "cell_type": "code",
   "execution_count": 45,
   "id": "c16269a1",
   "metadata": {},
   "outputs": [
    {
     "data": {
      "text/html": [
       "<style>\n",
       ".dl-inline {width: auto; margin:0; padding: 0}\n",
       ".dl-inline>dt, .dl-inline>dd {float: none; width: auto; display: inline-block}\n",
       ".dl-inline>dt::after {content: \":\\0020\"; padding-right: .5ex}\n",
       ".dl-inline>dt:not(:first-of-type) {padding-left: .5ex}\n",
       "</style><dl class=dl-inline><dt>0%</dt><dd>1.513</dd><dt>25%</dt><dd>2.58125</dd><dt>50%</dt><dd>3.325</dd><dt>75%</dt><dd>3.61</dd><dt>100%</dt><dd>5.424</dd></dl>\n"
      ],
      "text/latex": [
       "\\begin{description*}\n",
       "\\item[0\\textbackslash{}\\%] 1.513\n",
       "\\item[25\\textbackslash{}\\%] 2.58125\n",
       "\\item[50\\textbackslash{}\\%] 3.325\n",
       "\\item[75\\textbackslash{}\\%] 3.61\n",
       "\\item[100\\textbackslash{}\\%] 5.424\n",
       "\\end{description*}\n"
      ],
      "text/markdown": [
       "0%\n",
       ":   1.51325%\n",
       ":   2.5812550%\n",
       ":   3.32575%\n",
       ":   3.61100%\n",
       ":   5.424\n",
       "\n"
      ],
      "text/plain": [
       "     0%     25%     50%     75%    100% \n",
       "1.51300 2.58125 3.32500 3.61000 5.42400 "
      ]
     },
     "metadata": {},
     "output_type": "display_data"
    }
   ],
   "source": [
    "quantile(mtcars$wt)"
   ]
  },
  {
   "cell_type": "code",
   "execution_count": 46,
   "id": "7b9b001f",
   "metadata": {},
   "outputs": [
    {
     "data": {
      "text/plain": [
       "\n",
       " 4  6  8 \n",
       "11  7 14 "
      ]
     },
     "metadata": {},
     "output_type": "display_data"
    }
   ],
   "source": [
    "table(mtcars$cyl)"
   ]
  },
  {
   "cell_type": "code",
   "execution_count": 48,
   "id": "927054dc",
   "metadata": {},
   "outputs": [
    {
     "data": {
      "image/png": "[encoded data removed]",
      "text/plain": [
       "Plot with title \"Histogram of mtcars$wt\""
      ]
     },
     "metadata": {
      "image/png": {
       "height": 420,
       "width": 420
      }
     },
     "output_type": "display_data"
    }
   ],
   "source": [
    "hist(mtcars$wt,\n",
    "    breaks=5)"
   ]
  },
  {
   "cell_type": "code",
   "execution_count": 49,
   "id": "34155e9e",
   "metadata": {},
   "outputs": [
    {
     "data": {
      "image/png": "[encoded data removed]",
      "text/plain": [
       "Plot with title \"Histogram of table(mtcars$wt)\""
      ]
     },
     "metadata": {
      "image/png": {
       "height": 420,
       "width": 420
      }
     },
     "output_type": "display_data"
    }
   ],
   "source": [
    "hist(table(mtcars$wt))"
   ]
  },
  {
   "cell_type": "code",
   "execution_count": 50,
   "id": "297a54b3",
   "metadata": {},
   "outputs": [
    {
     "data": {
      "image/png": "[encoded data removed]",
      "text/plain": [
       "plot without title"
      ]
     },
     "metadata": {
      "image/png": {
       "height": 420,
       "width": 420
      }
     },
     "output_type": "display_data"
    }
   ],
   "source": [
    "boxplot(mtcars$wt)"
   ]
  },
  {
   "cell_type": "code",
   "execution_count": 52,
   "id": "3c73b9d7",
   "metadata": {},
   "outputs": [
    {
     "data": {
      "image/png": "[encoded data removed]",
      "text/plain": [
       "plot without title"
      ]
     },
     "metadata": {
      "image/png": {
       "height": 420,
       "width": 420
      }
     },
     "output_type": "display_data"
    }
   ],
   "source": [
    "boxplot(mtcars$mpg~mtcars$gear)"
   ]
  },
  {
   "cell_type": "code",
   "execution_count": 53,
   "id": "bc6f9a0b",
   "metadata": {},
   "outputs": [],
   "source": [
    "pass = c('P','P','F','P','F','P','F','P','P','F')"
   ]
  },
  {
   "cell_type": "code",
   "execution_count": 54,
   "id": "84474b91",
   "metadata": {},
   "outputs": [
    {
     "data": {
      "text/html": [
       "<style>\n",
       ".list-inline {list-style: none; margin:0; padding: 0}\n",
       ".list-inline>li {display: inline-block}\n",
       ".list-inline>li:not(:last-child)::after {content: \"\\00b7\"; padding: 0 .5ex}\n",
       "</style>\n",
       "<ol class=list-inline><li>'P'</li><li>'P'</li><li>'F'</li><li>'P'</li><li>'F'</li><li>'P'</li><li>'F'</li><li>'P'</li><li>'P'</li><li>'F'</li></ol>\n"
      ],
      "text/latex": [
       "\\begin{enumerate*}\n",
       "\\item 'P'\n",
       "\\item 'P'\n",
       "\\item 'F'\n",
       "\\item 'P'\n",
       "\\item 'F'\n",
       "\\item 'P'\n",
       "\\item 'F'\n",
       "\\item 'P'\n",
       "\\item 'P'\n",
       "\\item 'F'\n",
       "\\end{enumerate*}\n"
      ],
      "text/markdown": [
       "1. 'P'\n",
       "2. 'P'\n",
       "3. 'F'\n",
       "4. 'P'\n",
       "5. 'F'\n",
       "6. 'P'\n",
       "7. 'F'\n",
       "8. 'P'\n",
       "9. 'P'\n",
       "10. 'F'\n",
       "\n",
       "\n"
      ],
      "text/plain": [
       " [1] \"P\" \"P\" \"F\" \"P\" \"F\" \"P\" \"F\" \"P\" \"P\" \"F\""
      ]
     },
     "metadata": {},
     "output_type": "display_data"
    }
   ],
   "source": [
    "pass"
   ]
  },
  {
   "cell_type": "code",
   "execution_count": 55,
   "id": "4c2a889f",
   "metadata": {},
   "outputs": [
    {
     "data": {
      "text/plain": [
       "pass\n",
       "F P \n",
       "4 6 "
      ]
     },
     "metadata": {},
     "output_type": "display_data"
    }
   ],
   "source": [
    "table(pass)"
   ]
  },
  {
   "cell_type": "code",
   "execution_count": 56,
   "id": "8acc2ae2",
   "metadata": {},
   "outputs": [
    {
     "data": {
      "image/png": "[encoded data removed]",
      "text/plain": [
       "plot without title"
      ]
     },
     "metadata": {
      "image/png": {
       "height": 420,
       "width": 420
      }
     },
     "output_type": "display_data"
    }
   ],
   "source": [
    "barplot(table(pass))"
   ]
  },
  {
   "cell_type": "code",
   "execution_count": 57,
   "id": "69d499ea",
   "metadata": {},
   "outputs": [
    {
     "data": {
      "image/png": "[encoded data removed]",
      "text/plain": [
       "plot without title"
      ]
     },
     "metadata": {
      "image/png": {
       "height": 420,
       "width": 420
      }
     },
     "output_type": "display_data"
    }
   ],
   "source": [
    "pie(table(pass))"
   ]
  },
  {
   "cell_type": "code",
   "execution_count": 58,
   "id": "5177cf32",
   "metadata": {},
   "outputs": [
    {
     "data": {
      "text/html": [
       "<style>\n",
       ".list-inline {list-style: none; margin:0; padding: 0}\n",
       ".list-inline>li {display: inline-block}\n",
       ".list-inline>li:not(:last-child)::after {content: \"\\00b7\"; padding: 0 .5ex}\n",
       "</style>\n",
       "<ol class=list-inline><li>'여름'</li><li>'겨울'</li><li>'봄'</li><li>'가을'</li><li>'여름'</li><li>'가을'</li><li>'겨울'</li><li>'여름'</li><li>'여름'</li><li>'가을'</li></ol>\n"
      ],
      "text/latex": [
       "\\begin{enumerate*}\n",
       "\\item '여름'\n",
       "\\item '겨울'\n",
       "\\item '봄'\n",
       "\\item '가을'\n",
       "\\item '여름'\n",
       "\\item '가을'\n",
       "\\item '겨울'\n",
       "\\item '여름'\n",
       "\\item '여름'\n",
       "\\item '가을'\n",
       "\\end{enumerate*}\n"
      ],
      "text/markdown": [
       "1. '여름'\n",
       "2. '겨울'\n",
       "3. '봄'\n",
       "4. '가을'\n",
       "5. '여름'\n",
       "6. '가을'\n",
       "7. '겨울'\n",
       "8. '여름'\n",
       "9. '여름'\n",
       "10. '가을'\n",
       "\n",
       "\n"
      ],
      "text/plain": [
       " [1] \"여름\" \"겨울\" \"봄\"   \"가을\" \"여름\" \"가을\" \"겨울\" \"여름\" \"여름\" \"가을\""
      ]
     },
     "metadata": {},
     "output_type": "display_data"
    }
   ],
   "source": [
    "season = c('여름','겨울','봄','가을','여름','가을','겨울','여름','여름','가을')\n",
    "season"
   ]
  },
  {
   "cell_type": "code",
   "execution_count": 59,
   "id": "20cc12ed",
   "metadata": {},
   "outputs": [
    {
     "data": {
      "text/plain": [
       "season\n",
       "가을 겨울   봄 여름 \n",
       "   3    2    1    4 "
      ]
     },
     "metadata": {},
     "output_type": "display_data"
    }
   ],
   "source": [
    "table(season)"
   ]
  },
  {
   "cell_type": "code",
   "execution_count": 60,
   "id": "d6c1ca7f",
   "metadata": {},
   "outputs": [
    {
     "data": {
      "image/png": "[encoded data removed]",
      "text/plain": [
       "plot without title"
      ]
     },
     "metadata": {
      "image/png": {
       "height": 420,
       "width": 420
      }
     },
     "output_type": "display_data"
    }
   ],
   "source": [
    "barplot(table(season))"
   ]
  },
  {
   "cell_type": "code",
   "execution_count": 61,
   "id": "a919669c",
   "metadata": {},
   "outputs": [
    {
     "data": {
      "image/png": "[encoded data removed]",
      "text/plain": [
       "plot without title"
      ]
     },
     "metadata": {
      "image/png": {
       "height": 420,
       "width": 420
      }
     },
     "output_type": "display_data"
    }
   ],
   "source": [
    "pie(table(season))"
   ]
  },
  {
   "cell_type": "code",
   "execution_count": 62,
   "id": "9da0fa4c",
   "metadata": {},
   "outputs": [
    {
     "name": "stderr",
     "output_type": "stream",
     "text": [
      "Warning message:\n",
      "\"package 'DAAG' was built under R version 4.3.2\"\n"
     ]
    }
   ],
   "source": [
    "library(DAAG)"
   ]
  },
  {
   "cell_type": "code",
   "execution_count": 63,
   "id": "67f57a53",
   "metadata": {},
   "outputs": [
    {
     "data": {
      "image/png": "[encoded data removed]",
      "text/plain": [
       "plot without title"
      ]
     },
     "metadata": {
      "image/png": {
       "height": 420,
       "width": 420
      }
     },
     "output_type": "display_data"
    }
   ],
   "source": [
    "boxplot(cfseal$weight)"
   ]
  },
  {
   "cell_type": "code",
   "execution_count": 64,
   "id": "a71fbcb5",
   "metadata": {},
   "outputs": [
    {
     "data": {
      "image/png": "[encoded data removed]",
      "text/plain": [
       "plot without title"
      ]
     },
     "metadata": {
      "image/png": {
       "height": 420,
       "width": 420
      }
     },
     "output_type": "display_data"
    }
   ],
   "source": [
    "boxplot(cfseal$heart)"
   ]
  },
  {
   "cell_type": "code",
   "execution_count": 67,
   "id": "2a6b70b8",
   "metadata": {},
   "outputs": [
    {
     "data": {
      "text/html": [
       "<style>\n",
       ".list-inline {list-style: none; margin:0; padding: 0}\n",
       ".list-inline>li {display: inline-block}\n",
       ".list-inline>li:not(:last-child)::after {content: \"\\00b7\"; padding: 0 .5ex}\n",
       "</style>\n",
       "<ol class=list-inline><li>1012</li><li>1075</li></ol>\n"
      ],
      "text/latex": [
       "\\begin{enumerate*}\n",
       "\\item 1012\n",
       "\\item 1075\n",
       "\\end{enumerate*}\n"
      ],
      "text/markdown": [
       "1. 1012\n",
       "2. 1075\n",
       "\n",
       "\n"
      ],
      "text/plain": [
       "[1] 1012 1075"
      ]
     },
     "metadata": {},
     "output_type": "display_data"
    },
    {
     "data": {
      "image/png": "[encoded data removed]",
      "text/plain": [
       "plot without title"
      ]
     },
     "metadata": {
      "image/png": {
       "height": 420,
       "width": 420
      }
     },
     "output_type": "display_data"
    }
   ],
   "source": [
    "boxplot(cfseal$heart)$out"
   ]
  },
  {
   "cell_type": "raw",
   "id": "fa28d862",
   "metadata": {},
   "source": [
    "grp = rep('old', nrow"
   ]
  },
  {
   "cell_type": "code",
   "execution_count": 66,
   "id": "a6485a7b",
   "metadata": {},
   "outputs": [
    {
     "data": {
      "text/html": [
       "<style>\n",
       ".list-inline {list-style: none; margin:0; padding: 0}\n",
       ".list-inline>li {display: inline-block}\n",
       ".list-inline>li:not(:last-child)::after {content: \"\\00b7\"; padding: 0 .5ex}\n",
       "</style>\n",
       "<ol class=list-inline><li>'Young'</li><li>'Young'</li><li>'Young'</li><li>'Young'</li><li>'Young'</li><li>'Young'</li><li>'Young'</li><li>'Young'</li><li>'Young'</li><li>'Young'</li><li>'Young'</li><li>'Young'</li><li>'Young'</li><li>'Young'</li><li>'Young'</li><li>'old'</li><li>'old'</li><li>'old'</li><li>'old'</li><li>'old'</li><li>'old'</li><li>'old'</li><li>'old'</li><li>'old'</li><li>'old'</li><li>'old'</li><li>'old'</li><li>'old'</li><li>'old'</li><li>'old'</li></ol>\n"
      ],
      "text/latex": [
       "\\begin{enumerate*}\n",
       "\\item 'Young'\n",
       "\\item 'Young'\n",
       "\\item 'Young'\n",
       "\\item 'Young'\n",
       "\\item 'Young'\n",
       "\\item 'Young'\n",
       "\\item 'Young'\n",
       "\\item 'Young'\n",
       "\\item 'Young'\n",
       "\\item 'Young'\n",
       "\\item 'Young'\n",
       "\\item 'Young'\n",
       "\\item 'Young'\n",
       "\\item 'Young'\n",
       "\\item 'Young'\n",
       "\\item 'old'\n",
       "\\item 'old'\n",
       "\\item 'old'\n",
       "\\item 'old'\n",
       "\\item 'old'\n",
       "\\item 'old'\n",
       "\\item 'old'\n",
       "\\item 'old'\n",
       "\\item 'old'\n",
       "\\item 'old'\n",
       "\\item 'old'\n",
       "\\item 'old'\n",
       "\\item 'old'\n",
       "\\item 'old'\n",
       "\\item 'old'\n",
       "\\end{enumerate*}\n"
      ],
      "text/markdown": [
       "1. 'Young'\n",
       "2. 'Young'\n",
       "3. 'Young'\n",
       "4. 'Young'\n",
       "5. 'Young'\n",
       "6. 'Young'\n",
       "7. 'Young'\n",
       "8. 'Young'\n",
       "9. 'Young'\n",
       "10. 'Young'\n",
       "11. 'Young'\n",
       "12. 'Young'\n",
       "13. 'Young'\n",
       "14. 'Young'\n",
       "15. 'Young'\n",
       "16. 'old'\n",
       "17. 'old'\n",
       "18. 'old'\n",
       "19. 'old'\n",
       "20. 'old'\n",
       "21. 'old'\n",
       "22. 'old'\n",
       "23. 'old'\n",
       "24. 'old'\n",
       "25. 'old'\n",
       "26. 'old'\n",
       "27. 'old'\n",
       "28. 'old'\n",
       "29. 'old'\n",
       "30. 'old'\n",
       "\n",
       "\n"
      ],
      "text/plain": [
       " [1] \"Young\" \"Young\" \"Young\" \"Young\" \"Young\" \"Young\" \"Young\" \"Young\" \"Young\"\n",
       "[10] \"Young\" \"Young\" \"Young\" \"Young\" \"Young\" \"Young\" \"old\"   \"old\"   \"old\"  \n",
       "[19] \"old\"   \"old\"   \"old\"   \"old\"   \"old\"   \"old\"   \"old\"   \"old\"   \"old\"  \n",
       "[28] \"old\"   \"old\"   \"old\"  "
      ]
     },
     "metadata": {},
     "output_type": "display_data"
    },
    {
     "data": {
      "image/png": "[encoded data removed]",
      "text/plain": [
       "plot without title"
      ]
     },
     "metadata": {
      "image/png": {
       "height": 420,
       "width": 420
      }
     },
     "output_type": "display_data"
    }
   ],
   "source": [
    "grp = rep('old',nrow(cfseal))\n",
    "grp[cfseal$age < mean(cfseal$age)] = 'Young'\n",
    "grp\n",
    "grp = factor(grp)\n",
    "boxplot(cfseal$weight~grp,\n",
    "       col = c('Orange','Green'))"
   ]
  },
  {
   "cell_type": "code",
   "execution_count": 69,
   "id": "66d0911f",
   "metadata": {},
   "outputs": [
    {
     "data": {
      "image/png": "[encoded data removed]",
      "text/plain": [
       "plot without title"
      ]
     },
     "metadata": {
      "image/png": {
       "height": 420,
       "width": 420
      }
     },
     "output_type": "display_data"
    }
   ],
   "source": [
    "boxplot(cfseal$age)"
   ]
  },
  {
   "cell_type": "code",
   "execution_count": 70,
   "id": "0abe11f2",
   "metadata": {},
   "outputs": [],
   "source": [
    "grp = rep('middle', nrow(cfseal))\n",
    "Q1 = summary(cfseal$weight)[2]\n",
    "Q3 = summary(cfseal$weight)[5]"
   ]
  },
  {
   "cell_type": "code",
   "execution_count": 71,
   "id": "35311de0",
   "metadata": {},
   "outputs": [],
   "source": [
    "grp[cfseal$weight < Q1] = 'low'\n",
    "grp[cfseal$weight > Q3] = 'high'\n",
    "grp = factor(grp)"
   ]
  },
  {
   "cell_type": "code",
   "execution_count": 72,
   "id": "7d8b32fc",
   "metadata": {},
   "outputs": [
    {
     "data": {
      "text/html": [
       "<style>\n",
       ".list-inline {list-style: none; margin:0; padding: 0}\n",
       ".list-inline>li {display: inline-block}\n",
       ".list-inline>li:not(:last-child)::after {content: \"\\00b7\"; padding: 0 .5ex}\n",
       "</style>\n",
       "<ol class=list-inline><li>low</li><li>low</li><li>low</li><li>low</li><li>low</li><li>low</li><li>low</li><li>low</li><li>middle</li><li>middle</li><li>middle</li><li>middle</li><li>middle</li><li>middle</li><li>middle</li><li>middle</li><li>middle</li><li>middle</li><li>middle</li><li>middle</li><li>high</li><li>middle</li><li>high</li><li>high</li><li>middle</li><li>high</li><li>high</li><li>high</li><li>high</li><li>high</li></ol>\n",
       "\n",
       "<details>\n",
       "\t<summary style=display:list-item;cursor:pointer>\n",
       "\t\t<strong>Levels</strong>:\n",
       "\t</summary>\n",
       "\t<style>\n",
       "\t.list-inline {list-style: none; margin:0; padding: 0}\n",
       "\t.list-inline>li {display: inline-block}\n",
       "\t.list-inline>li:not(:last-child)::after {content: \"\\00b7\"; padding: 0 .5ex}\n",
       "\t</style>\n",
       "\t<ol class=list-inline><li>'high'</li><li>'low'</li><li>'middle'</li></ol>\n",
       "</details>"
      ],
      "text/latex": [
       "\\begin{enumerate*}\n",
       "\\item low\n",
       "\\item low\n",
       "\\item low\n",
       "\\item low\n",
       "\\item low\n",
       "\\item low\n",
       "\\item low\n",
       "\\item low\n",
       "\\item middle\n",
       "\\item middle\n",
       "\\item middle\n",
       "\\item middle\n",
       "\\item middle\n",
       "\\item middle\n",
       "\\item middle\n",
       "\\item middle\n",
       "\\item middle\n",
       "\\item middle\n",
       "\\item middle\n",
       "\\item middle\n",
       "\\item high\n",
       "\\item middle\n",
       "\\item high\n",
       "\\item high\n",
       "\\item middle\n",
       "\\item high\n",
       "\\item high\n",
       "\\item high\n",
       "\\item high\n",
       "\\item high\n",
       "\\end{enumerate*}\n",
       "\n",
       "\\emph{Levels}: \\begin{enumerate*}\n",
       "\\item 'high'\n",
       "\\item 'low'\n",
       "\\item 'middle'\n",
       "\\end{enumerate*}\n"
      ],
      "text/markdown": [
       "1. low\n",
       "2. low\n",
       "3. low\n",
       "4. low\n",
       "5. low\n",
       "6. low\n",
       "7. low\n",
       "8. low\n",
       "9. middle\n",
       "10. middle\n",
       "11. middle\n",
       "12. middle\n",
       "13. middle\n",
       "14. middle\n",
       "15. middle\n",
       "16. middle\n",
       "17. middle\n",
       "18. middle\n",
       "19. middle\n",
       "20. middle\n",
       "21. high\n",
       "22. middle\n",
       "23. high\n",
       "24. high\n",
       "25. middle\n",
       "26. high\n",
       "27. high\n",
       "28. high\n",
       "29. high\n",
       "30. high\n",
       "\n",
       "\n",
       "\n",
       "**Levels**: 1. 'high'\n",
       "2. 'low'\n",
       "3. 'middle'\n",
       "\n",
       "\n"
      ],
      "text/plain": [
       " [1] low    low    low    low    low    low    low    low    middle middle\n",
       "[11] middle middle middle middle middle middle middle middle middle middle\n",
       "[21] high   middle high   high   middle high   high   high   high   high  \n",
       "Levels: high low middle"
      ]
     },
     "metadata": {},
     "output_type": "display_data"
    }
   ],
   "source": [
    "grp"
   ]
  },
  {
   "cell_type": "code",
   "execution_count": 73,
   "id": "c47b2b09",
   "metadata": {},
   "outputs": [
    {
     "data": {
      "text/html": [
       "<style>\n",
       ".list-inline {list-style: none; margin:0; padding: 0}\n",
       ".list-inline>li {display: inline-block}\n",
       ".list-inline>li:not(:last-child)::after {content: \"\\00b7\"; padding: 0 .5ex}\n",
       "</style>\n",
       "<ol class=list-inline><li>'high'</li><li>'low'</li><li>'middle'</li></ol>\n"
      ],
      "text/latex": [
       "\\begin{enumerate*}\n",
       "\\item 'high'\n",
       "\\item 'low'\n",
       "\\item 'middle'\n",
       "\\end{enumerate*}\n"
      ],
      "text/markdown": [
       "1. 'high'\n",
       "2. 'low'\n",
       "3. 'middle'\n",
       "\n",
       "\n"
      ],
      "text/plain": [
       "[1] \"high\"   \"low\"    \"middle\""
      ]
     },
     "metadata": {},
     "output_type": "display_data"
    }
   ],
   "source": [
    "levels(grp)"
   ]
  },
  {
   "cell_type": "code",
   "execution_count": 74,
   "id": "14ec48d4",
   "metadata": {},
   "outputs": [
    {
     "data": {
      "text/html": [
       "<style>\n",
       ".list-inline {list-style: none; margin:0; padding: 0}\n",
       ".list-inline>li {display: inline-block}\n",
       ".list-inline>li:not(:last-child)::after {content: \"\\00b7\"; padding: 0 .5ex}\n",
       "</style>\n",
       "<ol class=list-inline><li>low</li><li>middle</li><li>high</li></ol>\n",
       "\n",
       "<details>\n",
       "\t<summary style=display:list-item;cursor:pointer>\n",
       "\t\t<strong>Levels</strong>:\n",
       "\t</summary>\n",
       "\t<style>\n",
       "\t.list-inline {list-style: none; margin:0; padding: 0}\n",
       "\t.list-inline>li {display: inline-block}\n",
       "\t.list-inline>li:not(:last-child)::after {content: \"\\00b7\"; padding: 0 .5ex}\n",
       "\t</style>\n",
       "\t<ol class=list-inline><li>'high'</li><li>'low'</li><li>'middle'</li></ol>\n",
       "</details>"
      ],
      "text/latex": [
       "\\begin{enumerate*}\n",
       "\\item low\n",
       "\\item middle\n",
       "\\item high\n",
       "\\end{enumerate*}\n",
       "\n",
       "\\emph{Levels}: \\begin{enumerate*}\n",
       "\\item 'high'\n",
       "\\item 'low'\n",
       "\\item 'middle'\n",
       "\\end{enumerate*}\n"
      ],
      "text/markdown": [
       "1. low\n",
       "2. middle\n",
       "3. high\n",
       "\n",
       "\n",
       "\n",
       "**Levels**: 1. 'high'\n",
       "2. 'low'\n",
       "3. 'middle'\n",
       "\n",
       "\n"
      ],
      "text/plain": [
       "[1] low    middle high  \n",
       "Levels: high low middle"
      ]
     },
     "metadata": {},
     "output_type": "display_data"
    }
   ],
   "source": [
    "unique(grp)"
   ]
  },
  {
   "cell_type": "code",
   "execution_count": 75,
   "id": "9c87f6c7",
   "metadata": {},
   "outputs": [
    {
     "data": {
      "image/png": "[encoded data removed]",
      "text/plain": [
       "plot without title"
      ]
     },
     "metadata": {
      "image/png": {
       "height": 420,
       "width": 420
      }
     },
     "output_type": "display_data"
    }
   ],
   "source": [
    "boxplot(cfseal$weight~grp)"
   ]
  },
  {
   "cell_type": "code",
   "execution_count": 76,
   "id": "c19672ce",
   "metadata": {},
   "outputs": [],
   "source": [
    "data(greatLakes)"
   ]
  },
  {
   "cell_type": "code",
   "execution_count": 77,
   "id": "ffc6c44d",
   "metadata": {},
   "outputs": [
    {
     "data": {
      "text/html": [
       "<table class=\"dataframe\">\n",
       "<caption>A Time Series: 92 × 4</caption>\n",
       "<thead>\n",
       "\t<tr><th></th><th scope=col>Erie</th><th scope=col>michHuron</th><th scope=col>Ontario</th><th scope=col>StClair</th></tr>\n",
       "</thead>\n",
       "<tbody>\n",
       "\t<tr><th scope=row>1918</th><td>174.0150</td><td>176.8867</td><td>74.87250</td><td>174.9567</td></tr>\n",
       "\t<tr><th scope=row>1919</th><td>174.1808</td><td>176.7450</td><td>74.95583</td><td>175.0767</td></tr>\n",
       "\t<tr><th scope=row>1920</th><td>173.9083</td><td>176.6250</td><td>74.56750</td><td>174.8150</td></tr>\n",
       "\t<tr><th scope=row>1921</th><td>174.0258</td><td>176.4883</td><td>74.66583</td><td>174.8692</td></tr>\n",
       "\t<tr><th scope=row>1922</th><td>173.9275</td><td>176.4450</td><td>74.65667</td><td>174.8108</td></tr>\n",
       "\t<tr><th scope=row>1923</th><td>173.7575</td><td>176.2642</td><td>74.44333</td><td>174.6525</td></tr>\n",
       "\t<tr><th scope=row>1924</th><td>173.8433</td><td>176.1867</td><td>74.55750</td><td>174.6375</td></tr>\n",
       "\t<tr><th scope=row>1925</th><td>173.5933</td><td>175.9192</td><td>74.39000</td><td>174.4058</td></tr>\n",
       "\t<tr><th scope=row>1926</th><td>173.6408</td><td>175.8850</td><td>74.40250</td><td>174.4017</td></tr>\n",
       "\t<tr><th scope=row>1927</th><td>173.8183</td><td>176.1483</td><td>74.60667</td><td>174.5983</td></tr>\n",
       "\t<tr><th scope=row>1928</th><td>173.9517</td><td>176.4433</td><td>74.80083</td><td>174.8050</td></tr>\n",
       "\t<tr><th scope=row>1929</th><td>174.3117</td><td>176.8958</td><td>75.08500</td><td>175.2642</td></tr>\n",
       "\t<tr><th scope=row>1930</th><td>174.2700</td><td>176.6508</td><td>75.08083</td><td>175.0950</td></tr>\n",
       "\t<tr><th scope=row>1931</th><td>173.7050</td><td>176.1183</td><td>74.35750</td><td>174.5083</td></tr>\n",
       "\t<tr><th scope=row>1932</th><td>173.7358</td><td>175.9408</td><td>74.50250</td><td>174.5658</td></tr>\n",
       "\t<tr><th scope=row>1933</th><td>173.6767</td><td>175.8675</td><td>74.27583</td><td>174.5467</td></tr>\n",
       "\t<tr><th scope=row>1934</th><td>173.3317</td><td>175.7667</td><td>74.02167</td><td>174.2742</td></tr>\n",
       "\t<tr><th scope=row>1935</th><td>173.4108</td><td>175.8908</td><td>74.00417</td><td>174.3608</td></tr>\n",
       "\t<tr><th scope=row>1936</th><td>173.4883</td><td>175.9392</td><td>74.16417</td><td>174.3933</td></tr>\n",
       "\t<tr><th scope=row>1937</th><td>173.8200</td><td>175.9225</td><td>74.49583</td><td>174.6033</td></tr>\n",
       "\t<tr><th scope=row>1938</th><td>173.8408</td><td>176.1408</td><td>74.52250</td><td>174.6892</td></tr>\n",
       "\t<tr><th scope=row>1939</th><td>173.8458</td><td>176.2692</td><td>74.49250</td><td>174.7208</td></tr>\n",
       "\t<tr><th scope=row>1940</th><td>173.7950</td><td>176.1417</td><td>74.42583</td><td>174.6450</td></tr>\n",
       "\t<tr><th scope=row>1941</th><td>173.7000</td><td>176.1217</td><td>74.40750</td><td>174.5817</td></tr>\n",
       "\t<tr><th scope=row>1942</th><td>173.8767</td><td>176.3342</td><td>74.51667</td><td>174.7675</td></tr>\n",
       "\t<tr><th scope=row>1943</th><td>174.2317</td><td>176.6267</td><td>75.13417</td><td>175.1125</td></tr>\n",
       "\t<tr><th scope=row>1944</th><td>174.0917</td><td>176.5967</td><td>74.84583</td><td>174.9817</td></tr>\n",
       "\t<tr><th scope=row>1945</th><td>174.1883</td><td>176.5700</td><td>75.06000</td><td>175.0892</td></tr>\n",
       "\t<tr><th scope=row>1946</th><td>174.1358</td><td>176.6017</td><td>74.99333</td><td>175.0383</td></tr>\n",
       "\t<tr><th scope=row>1947</th><td>174.2350</td><td>176.5667</td><td>75.16917</td><td>175.1042</td></tr>\n",
       "\t<tr><th scope=row>1948</th><td>174.2208</td><td>176.5308</td><td>75.08083</td><td>175.0975</td></tr>\n",
       "\t<tr><th scope=row>1949</th><td>173.9733</td><td>176.2108</td><td>74.74083</td><td>174.8317</td></tr>\n",
       "\t<tr><th scope=row>1950</th><td>174.1350</td><td>176.2608</td><td>74.89167</td><td>174.9300</td></tr>\n",
       "\t<tr><th scope=row>1951</th><td>174.3242</td><td>176.7358</td><td>75.24667</td><td>175.2408</td></tr>\n",
       "\t<tr><th scope=row>1952</th><td>174.5200</td><td>177.0850</td><td>75.36583</td><td>175.4992</td></tr>\n",
       "\t<tr><th scope=row>1953</th><td>174.3308</td><td>176.9333</td><td>75.01500</td><td>175.3233</td></tr>\n",
       "\t<tr><th scope=row>1954</th><td>174.2883</td><td>176.8292</td><td>74.98167</td><td>175.2350</td></tr>\n",
       "\t<tr><th scope=row>1955</th><td>174.3483</td><td>176.7225</td><td>75.14583</td><td>175.2517</td></tr>\n",
       "\t<tr><th scope=row>1956</th><td>174.1200</td><td>176.4400</td><td>74.92167</td><td>174.9392</td></tr>\n",
       "\t<tr><th scope=row>1957</th><td>174.0367</td><td>176.2633</td><td>74.63333</td><td>174.8800</td></tr>\n",
       "\t<tr><th scope=row>1958</th><td>173.8083</td><td>176.0675</td><td>74.42833</td><td>174.6292</td></tr>\n",
       "\t<tr><th scope=row>1959</th><td>173.8500</td><td>176.0058</td><td>74.47500</td><td>174.6567</td></tr>\n",
       "\t<tr><th scope=row>1960</th><td>174.0942</td><td>176.4775</td><td>74.71250</td><td>174.9900</td></tr>\n",
       "\t<tr><th scope=row>1961</th><td>174.1008</td><td>176.3767</td><td>74.61333</td><td>174.9633</td></tr>\n",
       "\t<tr><th scope=row>1962</th><td>173.9075</td><td>176.2225</td><td>74.64167</td><td>174.7700</td></tr>\n",
       "\t<tr><th scope=row>1963</th><td>173.7267</td><td>175.9225</td><td>74.65500</td><td>174.5600</td></tr>\n",
       "\t<tr><th scope=row>1964</th><td>173.6075</td><td>175.6825</td><td>74.28667</td><td>174.3650</td></tr>\n",
       "\t<tr><th scope=row>1965</th><td>173.7125</td><td>175.9158</td><td>74.39583</td><td>174.5333</td></tr>\n",
       "\t<tr><th scope=row>1966</th><td>173.8992</td><td>176.1608</td><td>74.69000</td><td>174.7567</td></tr>\n",
       "\t<tr><th scope=row>1967</th><td>174.0592</td><td>176.3008</td><td>74.85833</td><td>174.9250</td></tr>\n",
       "\t<tr><th scope=row>1968</th><td>174.2042</td><td>176.4467</td><td>74.79917</td><td>175.0608</td></tr>\n",
       "\t<tr><th scope=row>1969</th><td>174.3900</td><td>176.6958</td><td>74.74917</td><td>175.2617</td></tr>\n",
       "\t<tr><th scope=row>1970</th><td>174.2583</td><td>176.6783</td><td>74.68583</td><td>175.1500</td></tr>\n",
       "\t<tr><th scope=row>1971</th><td>174.3117</td><td>176.8050</td><td>74.72333</td><td>175.2692</td></tr>\n",
       "\t<tr><th scope=row>1972</th><td>174.5000</td><td>176.8883</td><td>74.93500</td><td>175.4208</td></tr>\n",
       "\t<tr><th scope=row>1973</th><td>174.7408</td><td>177.1233</td><td>75.21000</td><td>175.6500</td></tr>\n",
       "\t<tr><th scope=row>1974</th><td>174.6892</td><td>177.0933</td><td>75.06583</td><td>175.6133</td></tr>\n",
       "\t<tr><th scope=row>1975</th><td>174.6158</td><td>176.9733</td><td>74.81000</td><td>175.5158</td></tr>\n",
       "\t<tr><th scope=row>1976</th><td>174.5733</td><td>176.8992</td><td>75.04417</td><td>175.4783</td></tr>\n",
       "\t<tr><th scope=row>1977</th><td>174.2975</td><td>176.5050</td><td>74.75833</td><td>175.1992</td></tr>\n",
       "\t<tr><th scope=row>1978</th><td>174.3725</td><td>176.5908</td><td>74.92083</td><td>175.2708</td></tr>\n",
       "\t<tr><th scope=row>1979</th><td>174.3917</td><td>176.7942</td><td>74.84000</td><td>175.3558</td></tr>\n",
       "\t<tr><th scope=row>1980</th><td>174.5217</td><td>176.8033</td><td>74.82333</td><td>175.4075</td></tr>\n",
       "\t<tr><th scope=row>1981</th><td>174.3983</td><td>176.6983</td><td>74.78583</td><td>175.2958</td></tr>\n",
       "\t<tr><th scope=row>1982</th><td>174.4250</td><td>176.5983</td><td>74.75250</td><td>175.2992</td></tr>\n",
       "\t<tr><th scope=row>1983</th><td>174.5208</td><td>176.8333</td><td>74.82167</td><td>175.4333</td></tr>\n",
       "\t<tr><th scope=row>1984</th><td>174.5225</td><td>176.8950</td><td>74.90167</td><td>175.4350</td></tr>\n",
       "\t<tr><th scope=row>1985</th><td>174.7283</td><td>177.1267</td><td>74.87750</td><td>175.7000</td></tr>\n",
       "\t<tr><th scope=row>1986</th><td>174.8983</td><td>177.2925</td><td>75.14750</td><td>175.8517</td></tr>\n",
       "\t<tr><th scope=row>1987</th><td>174.6675</td><td>176.9700</td><td>74.84917</td><td>175.5608</td></tr>\n",
       "\t<tr><th scope=row>1988</th><td>174.2617</td><td>176.5642</td><td>74.68000</td><td>175.1933</td></tr>\n",
       "\t<tr><th scope=row>1989</th><td>174.2258</td><td>176.4008</td><td>74.76083</td><td>175.1092</td></tr>\n",
       "\t<tr><th scope=row>1990</th><td>174.2942</td><td>176.3500</td><td>74.80417</td><td>175.1308</td></tr>\n",
       "\t<tr><th scope=row>1991</th><td>174.3267</td><td>176.4692</td><td>74.87000</td><td>175.1975</td></tr>\n",
       "\t<tr><th scope=row>1992</th><td>174.3567</td><td>176.4792</td><td>74.83250</td><td>175.2200</td></tr>\n",
       "\t<tr><th scope=row>1993</th><td>174.5042</td><td>176.6958</td><td>75.04250</td><td>175.3808</td></tr>\n",
       "\t<tr><th scope=row>1994</th><td>174.3667</td><td>176.6783</td><td>74.75500</td><td>175.2900</td></tr>\n",
       "\t<tr><th scope=row>1995</th><td>174.2842</td><td>176.5275</td><td>74.73917</td><td>175.1833</td></tr>\n",
       "\t<tr><th scope=row>1996</th><td>174.3750</td><td>176.6542</td><td>74.87333</td><td>175.2467</td></tr>\n",
       "\t<tr><th scope=row>1997</th><td>174.7175</td><td>176.9842</td><td>74.96250</td><td>175.6125</td></tr>\n",
       "\t<tr><th scope=row>1998</th><td>174.5508</td><td>176.7167</td><td>74.91000</td><td>175.3975</td></tr>\n",
       "\t<tr><th scope=row>1999</th><td>174.1025</td><td>176.2358</td><td>74.57250</td><td>174.9758</td></tr>\n",
       "\t<tr><th scope=row>2000</th><td>173.9900</td><td>175.9783</td><td>74.78000</td><td>174.7925</td></tr>\n",
       "\t<tr><th scope=row>2001</th><td>173.9142</td><td>175.9508</td><td>74.69917</td><td>174.7617</td></tr>\n",
       "\t<tr><th scope=row>2002</th><td>174.0583</td><td>176.1183</td><td>74.79000</td><td>174.8833</td></tr>\n",
       "\t<tr><th scope=row>2003</th><td>173.9658</td><td>175.8917</td><td>74.71333</td><td>174.7375</td></tr>\n",
       "\t<tr><th scope=row>2004</th><td>174.1158</td><td>176.1108</td><td>74.84833</td><td>174.9167</td></tr>\n",
       "\t<tr><th scope=row>2005</th><td>174.1700</td><td>176.0900</td><td>74.82167</td><td>174.9383</td></tr>\n",
       "\t<tr><th scope=row>2006</th><td>174.1467</td><td>176.0158</td><td>74.83083</td><td>174.8917</td></tr>\n",
       "\t<tr><th scope=row>2007</th><td>174.1392</td><td>175.9433</td><td>74.75167</td><td>174.8483</td></tr>\n",
       "\t<tr><th scope=row>2008</th><td>174.1592</td><td>176.0050</td><td>74.87500</td><td>174.9200</td></tr>\n",
       "\t<tr><th scope=row>2009</th><td>174.2483</td><td>176.2583</td><td>74.87333</td><td>175.0767</td></tr>\n",
       "</tbody>\n",
       "</table>\n"
      ],
      "text/latex": [
       "A Time Series: 92 × 4\n",
       "\\begin{tabular}{r|llll}\n",
       "  & Erie & michHuron & Ontario & StClair\\\\\n",
       "\\hline\n",
       "\t1918 & 174.0150 & 176.8867 & 74.87250 & 174.9567\\\\\n",
       "\t1919 & 174.1808 & 176.7450 & 74.95583 & 175.0767\\\\\n",
       "\t1920 & 173.9083 & 176.6250 & 74.56750 & 174.8150\\\\\n",
       "\t1921 & 174.0258 & 176.4883 & 74.66583 & 174.8692\\\\\n",
       "\t1922 & 173.9275 & 176.4450 & 74.65667 & 174.8108\\\\\n",
       "\t1923 & 173.7575 & 176.2642 & 74.44333 & 174.6525\\\\\n",
       "\t1924 & 173.8433 & 176.1867 & 74.55750 & 174.6375\\\\\n",
       "\t1925 & 173.5933 & 175.9192 & 74.39000 & 174.4058\\\\\n",
       "\t1926 & 173.6408 & 175.8850 & 74.40250 & 174.4017\\\\\n",
       "\t1927 & 173.8183 & 176.1483 & 74.60667 & 174.5983\\\\\n",
       "\t1928 & 173.9517 & 176.4433 & 74.80083 & 174.8050\\\\\n",
       "\t1929 & 174.3117 & 176.8958 & 75.08500 & 175.2642\\\\\n",
       "\t1930 & 174.2700 & 176.6508 & 75.08083 & 175.0950\\\\\n",
       "\t1931 & 173.7050 & 176.1183 & 74.35750 & 174.5083\\\\\n",
       "\t1932 & 173.7358 & 175.9408 & 74.50250 & 174.5658\\\\\n",
       "\t1933 & 173.6767 & 175.8675 & 74.27583 & 174.5467\\\\\n",
       "\t1934 & 173.3317 & 175.7667 & 74.02167 & 174.2742\\\\\n",
       "\t1935 & 173.4108 & 175.8908 & 74.00417 & 174.3608\\\\\n",
       "\t1936 & 173.4883 & 175.9392 & 74.16417 & 174.3933\\\\\n",
       "\t1937 & 173.8200 & 175.9225 & 74.49583 & 174.6033\\\\\n",
       "\t1938 & 173.8408 & 176.1408 & 74.52250 & 174.6892\\\\\n",
       "\t1939 & 173.8458 & 176.2692 & 74.49250 & 174.7208\\\\\n",
       "\t1940 & 173.7950 & 176.1417 & 74.42583 & 174.6450\\\\\n",
       "\t1941 & 173.7000 & 176.1217 & 74.40750 & 174.5817\\\\\n",
       "\t1942 & 173.8767 & 176.3342 & 74.51667 & 174.7675\\\\\n",
       "\t1943 & 174.2317 & 176.6267 & 75.13417 & 175.1125\\\\\n",
       "\t1944 & 174.0917 & 176.5967 & 74.84583 & 174.9817\\\\\n",
       "\t1945 & 174.1883 & 176.5700 & 75.06000 & 175.0892\\\\\n",
       "\t1946 & 174.1358 & 176.6017 & 74.99333 & 175.0383\\\\\n",
       "\t1947 & 174.2350 & 176.5667 & 75.16917 & 175.1042\\\\\n",
       "\t1948 & 174.2208 & 176.5308 & 75.08083 & 175.0975\\\\\n",
       "\t1949 & 173.9733 & 176.2108 & 74.74083 & 174.8317\\\\\n",
       "\t1950 & 174.1350 & 176.2608 & 74.89167 & 174.9300\\\\\n",
       "\t1951 & 174.3242 & 176.7358 & 75.24667 & 175.2408\\\\\n",
       "\t1952 & 174.5200 & 177.0850 & 75.36583 & 175.4992\\\\\n",
       "\t1953 & 174.3308 & 176.9333 & 75.01500 & 175.3233\\\\\n",
       "\t1954 & 174.2883 & 176.8292 & 74.98167 & 175.2350\\\\\n",
       "\t1955 & 174.3483 & 176.7225 & 75.14583 & 175.2517\\\\\n",
       "\t1956 & 174.1200 & 176.4400 & 74.92167 & 174.9392\\\\\n",
       "\t1957 & 174.0367 & 176.2633 & 74.63333 & 174.8800\\\\\n",
       "\t1958 & 173.8083 & 176.0675 & 74.42833 & 174.6292\\\\\n",
       "\t1959 & 173.8500 & 176.0058 & 74.47500 & 174.6567\\\\\n",
       "\t1960 & 174.0942 & 176.4775 & 74.71250 & 174.9900\\\\\n",
       "\t1961 & 174.1008 & 176.3767 & 74.61333 & 174.9633\\\\\n",
       "\t1962 & 173.9075 & 176.2225 & 74.64167 & 174.7700\\\\\n",
       "\t1963 & 173.7267 & 175.9225 & 74.65500 & 174.5600\\\\\n",
       "\t1964 & 173.6075 & 175.6825 & 74.28667 & 174.3650\\\\\n",
       "\t1965 & 173.7125 & 175.9158 & 74.39583 & 174.5333\\\\\n",
       "\t1966 & 173.8992 & 176.1608 & 74.69000 & 174.7567\\\\\n",
       "\t1967 & 174.0592 & 176.3008 & 74.85833 & 174.9250\\\\\n",
       "\t1968 & 174.2042 & 176.4467 & 74.79917 & 175.0608\\\\\n",
       "\t1969 & 174.3900 & 176.6958 & 74.74917 & 175.2617\\\\\n",
       "\t1970 & 174.2583 & 176.6783 & 74.68583 & 175.1500\\\\\n",
       "\t1971 & 174.3117 & 176.8050 & 74.72333 & 175.2692\\\\\n",
       "\t1972 & 174.5000 & 176.8883 & 74.93500 & 175.4208\\\\\n",
       "\t1973 & 174.7408 & 177.1233 & 75.21000 & 175.6500\\\\\n",
       "\t1974 & 174.6892 & 177.0933 & 75.06583 & 175.6133\\\\\n",
       "\t1975 & 174.6158 & 176.9733 & 74.81000 & 175.5158\\\\\n",
       "\t1976 & 174.5733 & 176.8992 & 75.04417 & 175.4783\\\\\n",
       "\t1977 & 174.2975 & 176.5050 & 74.75833 & 175.1992\\\\\n",
       "\t1978 & 174.3725 & 176.5908 & 74.92083 & 175.2708\\\\\n",
       "\t1979 & 174.3917 & 176.7942 & 74.84000 & 175.3558\\\\\n",
       "\t1980 & 174.5217 & 176.8033 & 74.82333 & 175.4075\\\\\n",
       "\t1981 & 174.3983 & 176.6983 & 74.78583 & 175.2958\\\\\n",
       "\t1982 & 174.4250 & 176.5983 & 74.75250 & 175.2992\\\\\n",
       "\t1983 & 174.5208 & 176.8333 & 74.82167 & 175.4333\\\\\n",
       "\t1984 & 174.5225 & 176.8950 & 74.90167 & 175.4350\\\\\n",
       "\t1985 & 174.7283 & 177.1267 & 74.87750 & 175.7000\\\\\n",
       "\t1986 & 174.8983 & 177.2925 & 75.14750 & 175.8517\\\\\n",
       "\t1987 & 174.6675 & 176.9700 & 74.84917 & 175.5608\\\\\n",
       "\t1988 & 174.2617 & 176.5642 & 74.68000 & 175.1933\\\\\n",
       "\t1989 & 174.2258 & 176.4008 & 74.76083 & 175.1092\\\\\n",
       "\t1990 & 174.2942 & 176.3500 & 74.80417 & 175.1308\\\\\n",
       "\t1991 & 174.3267 & 176.4692 & 74.87000 & 175.1975\\\\\n",
       "\t1992 & 174.3567 & 176.4792 & 74.83250 & 175.2200\\\\\n",
       "\t1993 & 174.5042 & 176.6958 & 75.04250 & 175.3808\\\\\n",
       "\t1994 & 174.3667 & 176.6783 & 74.75500 & 175.2900\\\\\n",
       "\t1995 & 174.2842 & 176.5275 & 74.73917 & 175.1833\\\\\n",
       "\t1996 & 174.3750 & 176.6542 & 74.87333 & 175.2467\\\\\n",
       "\t1997 & 174.7175 & 176.9842 & 74.96250 & 175.6125\\\\\n",
       "\t1998 & 174.5508 & 176.7167 & 74.91000 & 175.3975\\\\\n",
       "\t1999 & 174.1025 & 176.2358 & 74.57250 & 174.9758\\\\\n",
       "\t2000 & 173.9900 & 175.9783 & 74.78000 & 174.7925\\\\\n",
       "\t2001 & 173.9142 & 175.9508 & 74.69917 & 174.7617\\\\\n",
       "\t2002 & 174.0583 & 176.1183 & 74.79000 & 174.8833\\\\\n",
       "\t2003 & 173.9658 & 175.8917 & 74.71333 & 174.7375\\\\\n",
       "\t2004 & 174.1158 & 176.1108 & 74.84833 & 174.9167\\\\\n",
       "\t2005 & 174.1700 & 176.0900 & 74.82167 & 174.9383\\\\\n",
       "\t2006 & 174.1467 & 176.0158 & 74.83083 & 174.8917\\\\\n",
       "\t2007 & 174.1392 & 175.9433 & 74.75167 & 174.8483\\\\\n",
       "\t2008 & 174.1592 & 176.0050 & 74.87500 & 174.9200\\\\\n",
       "\t2009 & 174.2483 & 176.2583 & 74.87333 & 175.0767\\\\\n",
       "\\end{tabular}\n"
      ],
      "text/markdown": [
       "\n",
       "A Time Series: 92 × 4\n",
       "\n",
       "| <!--/--> | Erie | michHuron | Ontario | StClair |\n",
       "|---|---|---|---|---|\n",
       "| 1918 | 174.0150 | 176.8867 | 74.87250 | 174.9567 |\n",
       "| 1919 | 174.1808 | 176.7450 | 74.95583 | 175.0767 |\n",
       "| 1920 | 173.9083 | 176.6250 | 74.56750 | 174.8150 |\n",
       "| 1921 | 174.0258 | 176.4883 | 74.66583 | 174.8692 |\n",
       "| 1922 | 173.9275 | 176.4450 | 74.65667 | 174.8108 |\n",
       "| 1923 | 173.7575 | 176.2642 | 74.44333 | 174.6525 |\n",
       "| 1924 | 173.8433 | 176.1867 | 74.55750 | 174.6375 |\n",
       "| 1925 | 173.5933 | 175.9192 | 74.39000 | 174.4058 |\n",
       "| 1926 | 173.6408 | 175.8850 | 74.40250 | 174.4017 |\n",
       "| 1927 | 173.8183 | 176.1483 | 74.60667 | 174.5983 |\n",
       "| 1928 | 173.9517 | 176.4433 | 74.80083 | 174.8050 |\n",
       "| 1929 | 174.3117 | 176.8958 | 75.08500 | 175.2642 |\n",
       "| 1930 | 174.2700 | 176.6508 | 75.08083 | 175.0950 |\n",
       "| 1931 | 173.7050 | 176.1183 | 74.35750 | 174.5083 |\n",
       "| 1932 | 173.7358 | 175.9408 | 74.50250 | 174.5658 |\n",
       "| 1933 | 173.6767 | 175.8675 | 74.27583 | 174.5467 |\n",
       "| 1934 | 173.3317 | 175.7667 | 74.02167 | 174.2742 |\n",
       "| 1935 | 173.4108 | 175.8908 | 74.00417 | 174.3608 |\n",
       "| 1936 | 173.4883 | 175.9392 | 74.16417 | 174.3933 |\n",
       "| 1937 | 173.8200 | 175.9225 | 74.49583 | 174.6033 |\n",
       "| 1938 | 173.8408 | 176.1408 | 74.52250 | 174.6892 |\n",
       "| 1939 | 173.8458 | 176.2692 | 74.49250 | 174.7208 |\n",
       "| 1940 | 173.7950 | 176.1417 | 74.42583 | 174.6450 |\n",
       "| 1941 | 173.7000 | 176.1217 | 74.40750 | 174.5817 |\n",
       "| 1942 | 173.8767 | 176.3342 | 74.51667 | 174.7675 |\n",
       "| 1943 | 174.2317 | 176.6267 | 75.13417 | 175.1125 |\n",
       "| 1944 | 174.0917 | 176.5967 | 74.84583 | 174.9817 |\n",
       "| 1945 | 174.1883 | 176.5700 | 75.06000 | 175.0892 |\n",
       "| 1946 | 174.1358 | 176.6017 | 74.99333 | 175.0383 |\n",
       "| 1947 | 174.2350 | 176.5667 | 75.16917 | 175.1042 |\n",
       "| 1948 | 174.2208 | 176.5308 | 75.08083 | 175.0975 |\n",
       "| 1949 | 173.9733 | 176.2108 | 74.74083 | 174.8317 |\n",
       "| 1950 | 174.1350 | 176.2608 | 74.89167 | 174.9300 |\n",
       "| 1951 | 174.3242 | 176.7358 | 75.24667 | 175.2408 |\n",
       "| 1952 | 174.5200 | 177.0850 | 75.36583 | 175.4992 |\n",
       "| 1953 | 174.3308 | 176.9333 | 75.01500 | 175.3233 |\n",
       "| 1954 | 174.2883 | 176.8292 | 74.98167 | 175.2350 |\n",
       "| 1955 | 174.3483 | 176.7225 | 75.14583 | 175.2517 |\n",
       "| 1956 | 174.1200 | 176.4400 | 74.92167 | 174.9392 |\n",
       "| 1957 | 174.0367 | 176.2633 | 74.63333 | 174.8800 |\n",
       "| 1958 | 173.8083 | 176.0675 | 74.42833 | 174.6292 |\n",
       "| 1959 | 173.8500 | 176.0058 | 74.47500 | 174.6567 |\n",
       "| 1960 | 174.0942 | 176.4775 | 74.71250 | 174.9900 |\n",
       "| 1961 | 174.1008 | 176.3767 | 74.61333 | 174.9633 |\n",
       "| 1962 | 173.9075 | 176.2225 | 74.64167 | 174.7700 |\n",
       "| 1963 | 173.7267 | 175.9225 | 74.65500 | 174.5600 |\n",
       "| 1964 | 173.6075 | 175.6825 | 74.28667 | 174.3650 |\n",
       "| 1965 | 173.7125 | 175.9158 | 74.39583 | 174.5333 |\n",
       "| 1966 | 173.8992 | 176.1608 | 74.69000 | 174.7567 |\n",
       "| 1967 | 174.0592 | 176.3008 | 74.85833 | 174.9250 |\n",
       "| 1968 | 174.2042 | 176.4467 | 74.79917 | 175.0608 |\n",
       "| 1969 | 174.3900 | 176.6958 | 74.74917 | 175.2617 |\n",
       "| 1970 | 174.2583 | 176.6783 | 74.68583 | 175.1500 |\n",
       "| 1971 | 174.3117 | 176.8050 | 74.72333 | 175.2692 |\n",
       "| 1972 | 174.5000 | 176.8883 | 74.93500 | 175.4208 |\n",
       "| 1973 | 174.7408 | 177.1233 | 75.21000 | 175.6500 |\n",
       "| 1974 | 174.6892 | 177.0933 | 75.06583 | 175.6133 |\n",
       "| 1975 | 174.6158 | 176.9733 | 74.81000 | 175.5158 |\n",
       "| 1976 | 174.5733 | 176.8992 | 75.04417 | 175.4783 |\n",
       "| 1977 | 174.2975 | 176.5050 | 74.75833 | 175.1992 |\n",
       "| 1978 | 174.3725 | 176.5908 | 74.92083 | 175.2708 |\n",
       "| 1979 | 174.3917 | 176.7942 | 74.84000 | 175.3558 |\n",
       "| 1980 | 174.5217 | 176.8033 | 74.82333 | 175.4075 |\n",
       "| 1981 | 174.3983 | 176.6983 | 74.78583 | 175.2958 |\n",
       "| 1982 | 174.4250 | 176.5983 | 74.75250 | 175.2992 |\n",
       "| 1983 | 174.5208 | 176.8333 | 74.82167 | 175.4333 |\n",
       "| 1984 | 174.5225 | 176.8950 | 74.90167 | 175.4350 |\n",
       "| 1985 | 174.7283 | 177.1267 | 74.87750 | 175.7000 |\n",
       "| 1986 | 174.8983 | 177.2925 | 75.14750 | 175.8517 |\n",
       "| 1987 | 174.6675 | 176.9700 | 74.84917 | 175.5608 |\n",
       "| 1988 | 174.2617 | 176.5642 | 74.68000 | 175.1933 |\n",
       "| 1989 | 174.2258 | 176.4008 | 74.76083 | 175.1092 |\n",
       "| 1990 | 174.2942 | 176.3500 | 74.80417 | 175.1308 |\n",
       "| 1991 | 174.3267 | 176.4692 | 74.87000 | 175.1975 |\n",
       "| 1992 | 174.3567 | 176.4792 | 74.83250 | 175.2200 |\n",
       "| 1993 | 174.5042 | 176.6958 | 75.04250 | 175.3808 |\n",
       "| 1994 | 174.3667 | 176.6783 | 74.75500 | 175.2900 |\n",
       "| 1995 | 174.2842 | 176.5275 | 74.73917 | 175.1833 |\n",
       "| 1996 | 174.3750 | 176.6542 | 74.87333 | 175.2467 |\n",
       "| 1997 | 174.7175 | 176.9842 | 74.96250 | 175.6125 |\n",
       "| 1998 | 174.5508 | 176.7167 | 74.91000 | 175.3975 |\n",
       "| 1999 | 174.1025 | 176.2358 | 74.57250 | 174.9758 |\n",
       "| 2000 | 173.9900 | 175.9783 | 74.78000 | 174.7925 |\n",
       "| 2001 | 173.9142 | 175.9508 | 74.69917 | 174.7617 |\n",
       "| 2002 | 174.0583 | 176.1183 | 74.79000 | 174.8833 |\n",
       "| 2003 | 173.9658 | 175.8917 | 74.71333 | 174.7375 |\n",
       "| 2004 | 174.1158 | 176.1108 | 74.84833 | 174.9167 |\n",
       "| 2005 | 174.1700 | 176.0900 | 74.82167 | 174.9383 |\n",
       "| 2006 | 174.1467 | 176.0158 | 74.83083 | 174.8917 |\n",
       "| 2007 | 174.1392 | 175.9433 | 74.75167 | 174.8483 |\n",
       "| 2008 | 174.1592 | 176.0050 | 74.87500 | 174.9200 |\n",
       "| 2009 | 174.2483 | 176.2583 | 74.87333 | 175.0767 |\n",
       "\n"
      ],
      "text/plain": [
       "     Erie     michHuron Ontario  StClair \n",
       "1918 174.0150 176.8867  74.87250 174.9567\n",
       "1919 174.1808 176.7450  74.95583 175.0767\n",
       "1920 173.9083 176.6250  74.56750 174.8150\n",
       "1921 174.0258 176.4883  74.66583 174.8692\n",
       "1922 173.9275 176.4450  74.65667 174.8108\n",
       "1923 173.7575 176.2642  74.44333 174.6525\n",
       "1924 173.8433 176.1867  74.55750 174.6375\n",
       "1925 173.5933 175.9192  74.39000 174.4058\n",
       "1926 173.6408 175.8850  74.40250 174.4017\n",
       "1927 173.8183 176.1483  74.60667 174.5983\n",
       "1928 173.9517 176.4433  74.80083 174.8050\n",
       "1929 174.3117 176.8958  75.08500 175.2642\n",
       "1930 174.2700 176.6508  75.08083 175.0950\n",
       "1931 173.7050 176.1183  74.35750 174.5083\n",
       "1932 173.7358 175.9408  74.50250 174.5658\n",
       "1933 173.6767 175.8675  74.27583 174.5467\n",
       "1934 173.3317 175.7667  74.02167 174.2742\n",
       "1935 173.4108 175.8908  74.00417 174.3608\n",
       "1936 173.4883 175.9392  74.16417 174.3933\n",
       "1937 173.8200 175.9225  74.49583 174.6033\n",
       "1938 173.8408 176.1408  74.52250 174.6892\n",
       "1939 173.8458 176.2692  74.49250 174.7208\n",
       "1940 173.7950 176.1417  74.42583 174.6450\n",
       "1941 173.7000 176.1217  74.40750 174.5817\n",
       "1942 173.8767 176.3342  74.51667 174.7675\n",
       "1943 174.2317 176.6267  75.13417 175.1125\n",
       "1944 174.0917 176.5967  74.84583 174.9817\n",
       "1945 174.1883 176.5700  75.06000 175.0892\n",
       "1946 174.1358 176.6017  74.99333 175.0383\n",
       "1947 174.2350 176.5667  75.16917 175.1042\n",
       "1948 174.2208 176.5308  75.08083 175.0975\n",
       "1949 173.9733 176.2108  74.74083 174.8317\n",
       "1950 174.1350 176.2608  74.89167 174.9300\n",
       "1951 174.3242 176.7358  75.24667 175.2408\n",
       "1952 174.5200 177.0850  75.36583 175.4992\n",
       "1953 174.3308 176.9333  75.01500 175.3233\n",
       "1954 174.2883 176.8292  74.98167 175.2350\n",
       "1955 174.3483 176.7225  75.14583 175.2517\n",
       "1956 174.1200 176.4400  74.92167 174.9392\n",
       "1957 174.0367 176.2633  74.63333 174.8800\n",
       "1958 173.8083 176.0675  74.42833 174.6292\n",
       "1959 173.8500 176.0058  74.47500 174.6567\n",
       "1960 174.0942 176.4775  74.71250 174.9900\n",
       "1961 174.1008 176.3767  74.61333 174.9633\n",
       "1962 173.9075 176.2225  74.64167 174.7700\n",
       "1963 173.7267 175.9225  74.65500 174.5600\n",
       "1964 173.6075 175.6825  74.28667 174.3650\n",
       "1965 173.7125 175.9158  74.39583 174.5333\n",
       "1966 173.8992 176.1608  74.69000 174.7567\n",
       "1967 174.0592 176.3008  74.85833 174.9250\n",
       "1968 174.2042 176.4467  74.79917 175.0608\n",
       "1969 174.3900 176.6958  74.74917 175.2617\n",
       "1970 174.2583 176.6783  74.68583 175.1500\n",
       "1971 174.3117 176.8050  74.72333 175.2692\n",
       "1972 174.5000 176.8883  74.93500 175.4208\n",
       "1973 174.7408 177.1233  75.21000 175.6500\n",
       "1974 174.6892 177.0933  75.06583 175.6133\n",
       "1975 174.6158 176.9733  74.81000 175.5158\n",
       "1976 174.5733 176.8992  75.04417 175.4783\n",
       "1977 174.2975 176.5050  74.75833 175.1992\n",
       "1978 174.3725 176.5908  74.92083 175.2708\n",
       "1979 174.3917 176.7942  74.84000 175.3558\n",
       "1980 174.5217 176.8033  74.82333 175.4075\n",
       "1981 174.3983 176.6983  74.78583 175.2958\n",
       "1982 174.4250 176.5983  74.75250 175.2992\n",
       "1983 174.5208 176.8333  74.82167 175.4333\n",
       "1984 174.5225 176.8950  74.90167 175.4350\n",
       "1985 174.7283 177.1267  74.87750 175.7000\n",
       "1986 174.8983 177.2925  75.14750 175.8517\n",
       "1987 174.6675 176.9700  74.84917 175.5608\n",
       "1988 174.2617 176.5642  74.68000 175.1933\n",
       "1989 174.2258 176.4008  74.76083 175.1092\n",
       "1990 174.2942 176.3500  74.80417 175.1308\n",
       "1991 174.3267 176.4692  74.87000 175.1975\n",
       "1992 174.3567 176.4792  74.83250 175.2200\n",
       "1993 174.5042 176.6958  75.04250 175.3808\n",
       "1994 174.3667 176.6783  74.75500 175.2900\n",
       "1995 174.2842 176.5275  74.73917 175.1833\n",
       "1996 174.3750 176.6542  74.87333 175.2467\n",
       "1997 174.7175 176.9842  74.96250 175.6125\n",
       "1998 174.5508 176.7167  74.91000 175.3975\n",
       "1999 174.1025 176.2358  74.57250 174.9758\n",
       "2000 173.9900 175.9783  74.78000 174.7925\n",
       "2001 173.9142 175.9508  74.69917 174.7617\n",
       "2002 174.0583 176.1183  74.79000 174.8833\n",
       "2003 173.9658 175.8917  74.71333 174.7375\n",
       "2004 174.1158 176.1108  74.84833 174.9167\n",
       "2005 174.1700 176.0900  74.82167 174.9383\n",
       "2006 174.1467 176.0158  74.83083 174.8917\n",
       "2007 174.1392 175.9433  74.75167 174.8483\n",
       "2008 174.1592 176.0050  74.87500 174.9200\n",
       "2009 174.2483 176.2583  74.87333 175.0767"
      ]
     },
     "metadata": {},
     "output_type": "display_data"
    }
   ],
   "source": [
    "greatLakes"
   ]
  },
  {
   "cell_type": "code",
   "execution_count": 78,
   "id": "36c4c90b",
   "metadata": {},
   "outputs": [],
   "source": [
    "ds = data.frame(year=1918:2009, greatLakes)"
   ]
  },
  {
   "cell_type": "code",
   "execution_count": 79,
   "id": "b89af116",
   "metadata": {},
   "outputs": [
    {
     "data": {
      "text/html": [
       "<table class=\"dataframe\">\n",
       "<caption>A data.frame: 92 × 5</caption>\n",
       "<thead>\n",
       "\t<tr><th scope=col>year</th><th scope=col>Erie</th><th scope=col>michHuron</th><th scope=col>Ontario</th><th scope=col>StClair</th></tr>\n",
       "\t<tr><th scope=col>&lt;int&gt;</th><th scope=col>&lt;dbl&gt;</th><th scope=col>&lt;dbl&gt;</th><th scope=col>&lt;dbl&gt;</th><th scope=col>&lt;dbl&gt;</th></tr>\n",
       "</thead>\n",
       "<tbody>\n",
       "\t<tr><td>1918</td><td>174.0150</td><td>176.8867</td><td>74.87250</td><td>174.9567</td></tr>\n",
       "\t<tr><td>1919</td><td>174.1808</td><td>176.7450</td><td>74.95583</td><td>175.0767</td></tr>\n",
       "\t<tr><td>1920</td><td>173.9083</td><td>176.6250</td><td>74.56750</td><td>174.8150</td></tr>\n",
       "\t<tr><td>1921</td><td>174.0258</td><td>176.4883</td><td>74.66583</td><td>174.8692</td></tr>\n",
       "\t<tr><td>1922</td><td>173.9275</td><td>176.4450</td><td>74.65667</td><td>174.8108</td></tr>\n",
       "\t<tr><td>1923</td><td>173.7575</td><td>176.2642</td><td>74.44333</td><td>174.6525</td></tr>\n",
       "\t<tr><td>1924</td><td>173.8433</td><td>176.1867</td><td>74.55750</td><td>174.6375</td></tr>\n",
       "\t<tr><td>1925</td><td>173.5933</td><td>175.9192</td><td>74.39000</td><td>174.4058</td></tr>\n",
       "\t<tr><td>1926</td><td>173.6408</td><td>175.8850</td><td>74.40250</td><td>174.4017</td></tr>\n",
       "\t<tr><td>1927</td><td>173.8183</td><td>176.1483</td><td>74.60667</td><td>174.5983</td></tr>\n",
       "\t<tr><td>1928</td><td>173.9517</td><td>176.4433</td><td>74.80083</td><td>174.8050</td></tr>\n",
       "\t<tr><td>1929</td><td>174.3117</td><td>176.8958</td><td>75.08500</td><td>175.2642</td></tr>\n",
       "\t<tr><td>1930</td><td>174.2700</td><td>176.6508</td><td>75.08083</td><td>175.0950</td></tr>\n",
       "\t<tr><td>1931</td><td>173.7050</td><td>176.1183</td><td>74.35750</td><td>174.5083</td></tr>\n",
       "\t<tr><td>1932</td><td>173.7358</td><td>175.9408</td><td>74.50250</td><td>174.5658</td></tr>\n",
       "\t<tr><td>1933</td><td>173.6767</td><td>175.8675</td><td>74.27583</td><td>174.5467</td></tr>\n",
       "\t<tr><td>1934</td><td>173.3317</td><td>175.7667</td><td>74.02167</td><td>174.2742</td></tr>\n",
       "\t<tr><td>1935</td><td>173.4108</td><td>175.8908</td><td>74.00417</td><td>174.3608</td></tr>\n",
       "\t<tr><td>1936</td><td>173.4883</td><td>175.9392</td><td>74.16417</td><td>174.3933</td></tr>\n",
       "\t<tr><td>1937</td><td>173.8200</td><td>175.9225</td><td>74.49583</td><td>174.6033</td></tr>\n",
       "\t<tr><td>1938</td><td>173.8408</td><td>176.1408</td><td>74.52250</td><td>174.6892</td></tr>\n",
       "\t<tr><td>1939</td><td>173.8458</td><td>176.2692</td><td>74.49250</td><td>174.7208</td></tr>\n",
       "\t<tr><td>1940</td><td>173.7950</td><td>176.1417</td><td>74.42583</td><td>174.6450</td></tr>\n",
       "\t<tr><td>1941</td><td>173.7000</td><td>176.1217</td><td>74.40750</td><td>174.5817</td></tr>\n",
       "\t<tr><td>1942</td><td>173.8767</td><td>176.3342</td><td>74.51667</td><td>174.7675</td></tr>\n",
       "\t<tr><td>1943</td><td>174.2317</td><td>176.6267</td><td>75.13417</td><td>175.1125</td></tr>\n",
       "\t<tr><td>1944</td><td>174.0917</td><td>176.5967</td><td>74.84583</td><td>174.9817</td></tr>\n",
       "\t<tr><td>1945</td><td>174.1883</td><td>176.5700</td><td>75.06000</td><td>175.0892</td></tr>\n",
       "\t<tr><td>1946</td><td>174.1358</td><td>176.6017</td><td>74.99333</td><td>175.0383</td></tr>\n",
       "\t<tr><td>1947</td><td>174.2350</td><td>176.5667</td><td>75.16917</td><td>175.1042</td></tr>\n",
       "\t<tr><td>⋮</td><td>⋮</td><td>⋮</td><td>⋮</td><td>⋮</td></tr>\n",
       "\t<tr><td>1980</td><td>174.5217</td><td>176.8033</td><td>74.82333</td><td>175.4075</td></tr>\n",
       "\t<tr><td>1981</td><td>174.3983</td><td>176.6983</td><td>74.78583</td><td>175.2958</td></tr>\n",
       "\t<tr><td>1982</td><td>174.4250</td><td>176.5983</td><td>74.75250</td><td>175.2992</td></tr>\n",
       "\t<tr><td>1983</td><td>174.5208</td><td>176.8333</td><td>74.82167</td><td>175.4333</td></tr>\n",
       "\t<tr><td>1984</td><td>174.5225</td><td>176.8950</td><td>74.90167</td><td>175.4350</td></tr>\n",
       "\t<tr><td>1985</td><td>174.7283</td><td>177.1267</td><td>74.87750</td><td>175.7000</td></tr>\n",
       "\t<tr><td>1986</td><td>174.8983</td><td>177.2925</td><td>75.14750</td><td>175.8517</td></tr>\n",
       "\t<tr><td>1987</td><td>174.6675</td><td>176.9700</td><td>74.84917</td><td>175.5608</td></tr>\n",
       "\t<tr><td>1988</td><td>174.2617</td><td>176.5642</td><td>74.68000</td><td>175.1933</td></tr>\n",
       "\t<tr><td>1989</td><td>174.2258</td><td>176.4008</td><td>74.76083</td><td>175.1092</td></tr>\n",
       "\t<tr><td>1990</td><td>174.2942</td><td>176.3500</td><td>74.80417</td><td>175.1308</td></tr>\n",
       "\t<tr><td>1991</td><td>174.3267</td><td>176.4692</td><td>74.87000</td><td>175.1975</td></tr>\n",
       "\t<tr><td>1992</td><td>174.3567</td><td>176.4792</td><td>74.83250</td><td>175.2200</td></tr>\n",
       "\t<tr><td>1993</td><td>174.5042</td><td>176.6958</td><td>75.04250</td><td>175.3808</td></tr>\n",
       "\t<tr><td>1994</td><td>174.3667</td><td>176.6783</td><td>74.75500</td><td>175.2900</td></tr>\n",
       "\t<tr><td>1995</td><td>174.2842</td><td>176.5275</td><td>74.73917</td><td>175.1833</td></tr>\n",
       "\t<tr><td>1996</td><td>174.3750</td><td>176.6542</td><td>74.87333</td><td>175.2467</td></tr>\n",
       "\t<tr><td>1997</td><td>174.7175</td><td>176.9842</td><td>74.96250</td><td>175.6125</td></tr>\n",
       "\t<tr><td>1998</td><td>174.5508</td><td>176.7167</td><td>74.91000</td><td>175.3975</td></tr>\n",
       "\t<tr><td>1999</td><td>174.1025</td><td>176.2358</td><td>74.57250</td><td>174.9758</td></tr>\n",
       "\t<tr><td>2000</td><td>173.9900</td><td>175.9783</td><td>74.78000</td><td>174.7925</td></tr>\n",
       "\t<tr><td>2001</td><td>173.9142</td><td>175.9508</td><td>74.69917</td><td>174.7617</td></tr>\n",
       "\t<tr><td>2002</td><td>174.0583</td><td>176.1183</td><td>74.79000</td><td>174.8833</td></tr>\n",
       "\t<tr><td>2003</td><td>173.9658</td><td>175.8917</td><td>74.71333</td><td>174.7375</td></tr>\n",
       "\t<tr><td>2004</td><td>174.1158</td><td>176.1108</td><td>74.84833</td><td>174.9167</td></tr>\n",
       "\t<tr><td>2005</td><td>174.1700</td><td>176.0900</td><td>74.82167</td><td>174.9383</td></tr>\n",
       "\t<tr><td>2006</td><td>174.1467</td><td>176.0158</td><td>74.83083</td><td>174.8917</td></tr>\n",
       "\t<tr><td>2007</td><td>174.1392</td><td>175.9433</td><td>74.75167</td><td>174.8483</td></tr>\n",
       "\t<tr><td>2008</td><td>174.1592</td><td>176.0050</td><td>74.87500</td><td>174.9200</td></tr>\n",
       "\t<tr><td>2009</td><td>174.2483</td><td>176.2583</td><td>74.87333</td><td>175.0767</td></tr>\n",
       "</tbody>\n",
       "</table>\n"
      ],
      "text/latex": [
       "A data.frame: 92 × 5\n",
       "\\begin{tabular}{lllll}\n",
       " year & Erie & michHuron & Ontario & StClair\\\\\n",
       " <int> & <dbl> & <dbl> & <dbl> & <dbl>\\\\\n",
       "\\hline\n",
       "\t 1918 & 174.0150 & 176.8867 & 74.87250 & 174.9567\\\\\n",
       "\t 1919 & 174.1808 & 176.7450 & 74.95583 & 175.0767\\\\\n",
       "\t 1920 & 173.9083 & 176.6250 & 74.56750 & 174.8150\\\\\n",
       "\t 1921 & 174.0258 & 176.4883 & 74.66583 & 174.8692\\\\\n",
       "\t 1922 & 173.9275 & 176.4450 & 74.65667 & 174.8108\\\\\n",
       "\t 1923 & 173.7575 & 176.2642 & 74.44333 & 174.6525\\\\\n",
       "\t 1924 & 173.8433 & 176.1867 & 74.55750 & 174.6375\\\\\n",
       "\t 1925 & 173.5933 & 175.9192 & 74.39000 & 174.4058\\\\\n",
       "\t 1926 & 173.6408 & 175.8850 & 74.40250 & 174.4017\\\\\n",
       "\t 1927 & 173.8183 & 176.1483 & 74.60667 & 174.5983\\\\\n",
       "\t 1928 & 173.9517 & 176.4433 & 74.80083 & 174.8050\\\\\n",
       "\t 1929 & 174.3117 & 176.8958 & 75.08500 & 175.2642\\\\\n",
       "\t 1930 & 174.2700 & 176.6508 & 75.08083 & 175.0950\\\\\n",
       "\t 1931 & 173.7050 & 176.1183 & 74.35750 & 174.5083\\\\\n",
       "\t 1932 & 173.7358 & 175.9408 & 74.50250 & 174.5658\\\\\n",
       "\t 1933 & 173.6767 & 175.8675 & 74.27583 & 174.5467\\\\\n",
       "\t 1934 & 173.3317 & 175.7667 & 74.02167 & 174.2742\\\\\n",
       "\t 1935 & 173.4108 & 175.8908 & 74.00417 & 174.3608\\\\\n",
       "\t 1936 & 173.4883 & 175.9392 & 74.16417 & 174.3933\\\\\n",
       "\t 1937 & 173.8200 & 175.9225 & 74.49583 & 174.6033\\\\\n",
       "\t 1938 & 173.8408 & 176.1408 & 74.52250 & 174.6892\\\\\n",
       "\t 1939 & 173.8458 & 176.2692 & 74.49250 & 174.7208\\\\\n",
       "\t 1940 & 173.7950 & 176.1417 & 74.42583 & 174.6450\\\\\n",
       "\t 1941 & 173.7000 & 176.1217 & 74.40750 & 174.5817\\\\\n",
       "\t 1942 & 173.8767 & 176.3342 & 74.51667 & 174.7675\\\\\n",
       "\t 1943 & 174.2317 & 176.6267 & 75.13417 & 175.1125\\\\\n",
       "\t 1944 & 174.0917 & 176.5967 & 74.84583 & 174.9817\\\\\n",
       "\t 1945 & 174.1883 & 176.5700 & 75.06000 & 175.0892\\\\\n",
       "\t 1946 & 174.1358 & 176.6017 & 74.99333 & 175.0383\\\\\n",
       "\t 1947 & 174.2350 & 176.5667 & 75.16917 & 175.1042\\\\\n",
       "\t ⋮ & ⋮ & ⋮ & ⋮ & ⋮\\\\\n",
       "\t 1980 & 174.5217 & 176.8033 & 74.82333 & 175.4075\\\\\n",
       "\t 1981 & 174.3983 & 176.6983 & 74.78583 & 175.2958\\\\\n",
       "\t 1982 & 174.4250 & 176.5983 & 74.75250 & 175.2992\\\\\n",
       "\t 1983 & 174.5208 & 176.8333 & 74.82167 & 175.4333\\\\\n",
       "\t 1984 & 174.5225 & 176.8950 & 74.90167 & 175.4350\\\\\n",
       "\t 1985 & 174.7283 & 177.1267 & 74.87750 & 175.7000\\\\\n",
       "\t 1986 & 174.8983 & 177.2925 & 75.14750 & 175.8517\\\\\n",
       "\t 1987 & 174.6675 & 176.9700 & 74.84917 & 175.5608\\\\\n",
       "\t 1988 & 174.2617 & 176.5642 & 74.68000 & 175.1933\\\\\n",
       "\t 1989 & 174.2258 & 176.4008 & 74.76083 & 175.1092\\\\\n",
       "\t 1990 & 174.2942 & 176.3500 & 74.80417 & 175.1308\\\\\n",
       "\t 1991 & 174.3267 & 176.4692 & 74.87000 & 175.1975\\\\\n",
       "\t 1992 & 174.3567 & 176.4792 & 74.83250 & 175.2200\\\\\n",
       "\t 1993 & 174.5042 & 176.6958 & 75.04250 & 175.3808\\\\\n",
       "\t 1994 & 174.3667 & 176.6783 & 74.75500 & 175.2900\\\\\n",
       "\t 1995 & 174.2842 & 176.5275 & 74.73917 & 175.1833\\\\\n",
       "\t 1996 & 174.3750 & 176.6542 & 74.87333 & 175.2467\\\\\n",
       "\t 1997 & 174.7175 & 176.9842 & 74.96250 & 175.6125\\\\\n",
       "\t 1998 & 174.5508 & 176.7167 & 74.91000 & 175.3975\\\\\n",
       "\t 1999 & 174.1025 & 176.2358 & 74.57250 & 174.9758\\\\\n",
       "\t 2000 & 173.9900 & 175.9783 & 74.78000 & 174.7925\\\\\n",
       "\t 2001 & 173.9142 & 175.9508 & 74.69917 & 174.7617\\\\\n",
       "\t 2002 & 174.0583 & 176.1183 & 74.79000 & 174.8833\\\\\n",
       "\t 2003 & 173.9658 & 175.8917 & 74.71333 & 174.7375\\\\\n",
       "\t 2004 & 174.1158 & 176.1108 & 74.84833 & 174.9167\\\\\n",
       "\t 2005 & 174.1700 & 176.0900 & 74.82167 & 174.9383\\\\\n",
       "\t 2006 & 174.1467 & 176.0158 & 74.83083 & 174.8917\\\\\n",
       "\t 2007 & 174.1392 & 175.9433 & 74.75167 & 174.8483\\\\\n",
       "\t 2008 & 174.1592 & 176.0050 & 74.87500 & 174.9200\\\\\n",
       "\t 2009 & 174.2483 & 176.2583 & 74.87333 & 175.0767\\\\\n",
       "\\end{tabular}\n"
      ],
      "text/markdown": [
       "\n",
       "A data.frame: 92 × 5\n",
       "\n",
       "| year &lt;int&gt; | Erie &lt;dbl&gt; | michHuron &lt;dbl&gt; | Ontario &lt;dbl&gt; | StClair &lt;dbl&gt; |\n",
       "|---|---|---|---|---|\n",
       "| 1918 | 174.0150 | 176.8867 | 74.87250 | 174.9567 |\n",
       "| 1919 | 174.1808 | 176.7450 | 74.95583 | 175.0767 |\n",
       "| 1920 | 173.9083 | 176.6250 | 74.56750 | 174.8150 |\n",
       "| 1921 | 174.0258 | 176.4883 | 74.66583 | 174.8692 |\n",
       "| 1922 | 173.9275 | 176.4450 | 74.65667 | 174.8108 |\n",
       "| 1923 | 173.7575 | 176.2642 | 74.44333 | 174.6525 |\n",
       "| 1924 | 173.8433 | 176.1867 | 74.55750 | 174.6375 |\n",
       "| 1925 | 173.5933 | 175.9192 | 74.39000 | 174.4058 |\n",
       "| 1926 | 173.6408 | 175.8850 | 74.40250 | 174.4017 |\n",
       "| 1927 | 173.8183 | 176.1483 | 74.60667 | 174.5983 |\n",
       "| 1928 | 173.9517 | 176.4433 | 74.80083 | 174.8050 |\n",
       "| 1929 | 174.3117 | 176.8958 | 75.08500 | 175.2642 |\n",
       "| 1930 | 174.2700 | 176.6508 | 75.08083 | 175.0950 |\n",
       "| 1931 | 173.7050 | 176.1183 | 74.35750 | 174.5083 |\n",
       "| 1932 | 173.7358 | 175.9408 | 74.50250 | 174.5658 |\n",
       "| 1933 | 173.6767 | 175.8675 | 74.27583 | 174.5467 |\n",
       "| 1934 | 173.3317 | 175.7667 | 74.02167 | 174.2742 |\n",
       "| 1935 | 173.4108 | 175.8908 | 74.00417 | 174.3608 |\n",
       "| 1936 | 173.4883 | 175.9392 | 74.16417 | 174.3933 |\n",
       "| 1937 | 173.8200 | 175.9225 | 74.49583 | 174.6033 |\n",
       "| 1938 | 173.8408 | 176.1408 | 74.52250 | 174.6892 |\n",
       "| 1939 | 173.8458 | 176.2692 | 74.49250 | 174.7208 |\n",
       "| 1940 | 173.7950 | 176.1417 | 74.42583 | 174.6450 |\n",
       "| 1941 | 173.7000 | 176.1217 | 74.40750 | 174.5817 |\n",
       "| 1942 | 173.8767 | 176.3342 | 74.51667 | 174.7675 |\n",
       "| 1943 | 174.2317 | 176.6267 | 75.13417 | 175.1125 |\n",
       "| 1944 | 174.0917 | 176.5967 | 74.84583 | 174.9817 |\n",
       "| 1945 | 174.1883 | 176.5700 | 75.06000 | 175.0892 |\n",
       "| 1946 | 174.1358 | 176.6017 | 74.99333 | 175.0383 |\n",
       "| 1947 | 174.2350 | 176.5667 | 75.16917 | 175.1042 |\n",
       "| ⋮ | ⋮ | ⋮ | ⋮ | ⋮ |\n",
       "| 1980 | 174.5217 | 176.8033 | 74.82333 | 175.4075 |\n",
       "| 1981 | 174.3983 | 176.6983 | 74.78583 | 175.2958 |\n",
       "| 1982 | 174.4250 | 176.5983 | 74.75250 | 175.2992 |\n",
       "| 1983 | 174.5208 | 176.8333 | 74.82167 | 175.4333 |\n",
       "| 1984 | 174.5225 | 176.8950 | 74.90167 | 175.4350 |\n",
       "| 1985 | 174.7283 | 177.1267 | 74.87750 | 175.7000 |\n",
       "| 1986 | 174.8983 | 177.2925 | 75.14750 | 175.8517 |\n",
       "| 1987 | 174.6675 | 176.9700 | 74.84917 | 175.5608 |\n",
       "| 1988 | 174.2617 | 176.5642 | 74.68000 | 175.1933 |\n",
       "| 1989 | 174.2258 | 176.4008 | 74.76083 | 175.1092 |\n",
       "| 1990 | 174.2942 | 176.3500 | 74.80417 | 175.1308 |\n",
       "| 1991 | 174.3267 | 176.4692 | 74.87000 | 175.1975 |\n",
       "| 1992 | 174.3567 | 176.4792 | 74.83250 | 175.2200 |\n",
       "| 1993 | 174.5042 | 176.6958 | 75.04250 | 175.3808 |\n",
       "| 1994 | 174.3667 | 176.6783 | 74.75500 | 175.2900 |\n",
       "| 1995 | 174.2842 | 176.5275 | 74.73917 | 175.1833 |\n",
       "| 1996 | 174.3750 | 176.6542 | 74.87333 | 175.2467 |\n",
       "| 1997 | 174.7175 | 176.9842 | 74.96250 | 175.6125 |\n",
       "| 1998 | 174.5508 | 176.7167 | 74.91000 | 175.3975 |\n",
       "| 1999 | 174.1025 | 176.2358 | 74.57250 | 174.9758 |\n",
       "| 2000 | 173.9900 | 175.9783 | 74.78000 | 174.7925 |\n",
       "| 2001 | 173.9142 | 175.9508 | 74.69917 | 174.7617 |\n",
       "| 2002 | 174.0583 | 176.1183 | 74.79000 | 174.8833 |\n",
       "| 2003 | 173.9658 | 175.8917 | 74.71333 | 174.7375 |\n",
       "| 2004 | 174.1158 | 176.1108 | 74.84833 | 174.9167 |\n",
       "| 2005 | 174.1700 | 176.0900 | 74.82167 | 174.9383 |\n",
       "| 2006 | 174.1467 | 176.0158 | 74.83083 | 174.8917 |\n",
       "| 2007 | 174.1392 | 175.9433 | 74.75167 | 174.8483 |\n",
       "| 2008 | 174.1592 | 176.0050 | 74.87500 | 174.9200 |\n",
       "| 2009 | 174.2483 | 176.2583 | 74.87333 | 175.0767 |\n",
       "\n"
      ],
      "text/plain": [
       "   year Erie     michHuron Ontario  StClair \n",
       "1  1918 174.0150 176.8867  74.87250 174.9567\n",
       "2  1919 174.1808 176.7450  74.95583 175.0767\n",
       "3  1920 173.9083 176.6250  74.56750 174.8150\n",
       "4  1921 174.0258 176.4883  74.66583 174.8692\n",
       "5  1922 173.9275 176.4450  74.65667 174.8108\n",
       "6  1923 173.7575 176.2642  74.44333 174.6525\n",
       "7  1924 173.8433 176.1867  74.55750 174.6375\n",
       "8  1925 173.5933 175.9192  74.39000 174.4058\n",
       "9  1926 173.6408 175.8850  74.40250 174.4017\n",
       "10 1927 173.8183 176.1483  74.60667 174.5983\n",
       "11 1928 173.9517 176.4433  74.80083 174.8050\n",
       "12 1929 174.3117 176.8958  75.08500 175.2642\n",
       "13 1930 174.2700 176.6508  75.08083 175.0950\n",
       "14 1931 173.7050 176.1183  74.35750 174.5083\n",
       "15 1932 173.7358 175.9408  74.50250 174.5658\n",
       "16 1933 173.6767 175.8675  74.27583 174.5467\n",
       "17 1934 173.3317 175.7667  74.02167 174.2742\n",
       "18 1935 173.4108 175.8908  74.00417 174.3608\n",
       "19 1936 173.4883 175.9392  74.16417 174.3933\n",
       "20 1937 173.8200 175.9225  74.49583 174.6033\n",
       "21 1938 173.8408 176.1408  74.52250 174.6892\n",
       "22 1939 173.8458 176.2692  74.49250 174.7208\n",
       "23 1940 173.7950 176.1417  74.42583 174.6450\n",
       "24 1941 173.7000 176.1217  74.40750 174.5817\n",
       "25 1942 173.8767 176.3342  74.51667 174.7675\n",
       "26 1943 174.2317 176.6267  75.13417 175.1125\n",
       "27 1944 174.0917 176.5967  74.84583 174.9817\n",
       "28 1945 174.1883 176.5700  75.06000 175.0892\n",
       "29 1946 174.1358 176.6017  74.99333 175.0383\n",
       "30 1947 174.2350 176.5667  75.16917 175.1042\n",
       "⋮  ⋮    ⋮        ⋮         ⋮        ⋮       \n",
       "63 1980 174.5217 176.8033  74.82333 175.4075\n",
       "64 1981 174.3983 176.6983  74.78583 175.2958\n",
       "65 1982 174.4250 176.5983  74.75250 175.2992\n",
       "66 1983 174.5208 176.8333  74.82167 175.4333\n",
       "67 1984 174.5225 176.8950  74.90167 175.4350\n",
       "68 1985 174.7283 177.1267  74.87750 175.7000\n",
       "69 1986 174.8983 177.2925  75.14750 175.8517\n",
       "70 1987 174.6675 176.9700  74.84917 175.5608\n",
       "71 1988 174.2617 176.5642  74.68000 175.1933\n",
       "72 1989 174.2258 176.4008  74.76083 175.1092\n",
       "73 1990 174.2942 176.3500  74.80417 175.1308\n",
       "74 1991 174.3267 176.4692  74.87000 175.1975\n",
       "75 1992 174.3567 176.4792  74.83250 175.2200\n",
       "76 1993 174.5042 176.6958  75.04250 175.3808\n",
       "77 1994 174.3667 176.6783  74.75500 175.2900\n",
       "78 1995 174.2842 176.5275  74.73917 175.1833\n",
       "79 1996 174.3750 176.6542  74.87333 175.2467\n",
       "80 1997 174.7175 176.9842  74.96250 175.6125\n",
       "81 1998 174.5508 176.7167  74.91000 175.3975\n",
       "82 1999 174.1025 176.2358  74.57250 174.9758\n",
       "83 2000 173.9900 175.9783  74.78000 174.7925\n",
       "84 2001 173.9142 175.9508  74.69917 174.7617\n",
       "85 2002 174.0583 176.1183  74.79000 174.8833\n",
       "86 2003 173.9658 175.8917  74.71333 174.7375\n",
       "87 2004 174.1158 176.1108  74.84833 174.9167\n",
       "88 2005 174.1700 176.0900  74.82167 174.9383\n",
       "89 2006 174.1467 176.0158  74.83083 174.8917\n",
       "90 2007 174.1392 175.9433  74.75167 174.8483\n",
       "91 2008 174.1592 176.0050  74.87500 174.9200\n",
       "92 2009 174.2483 176.2583  74.87333 175.0767"
      ]
     },
     "metadata": {},
     "output_type": "display_data"
    }
   ],
   "source": [
    "ds"
   ]
  },
  {
   "cell_type": "code",
   "execution_count": 80,
   "id": "5bfff0ea",
   "metadata": {},
   "outputs": [
    {
     "data": {
      "text/html": [
       "<style>\n",
       ".list-inline {list-style: none; margin:0; padding: 0}\n",
       ".list-inline>li {display: inline-block}\n",
       ".list-inline>li:not(:last-child)::after {content: \"\\00b7\"; padding: 0 .5ex}\n",
       "</style>\n",
       "<ol class=list-inline><li>'year'</li><li>'Erie'</li><li>'michHuron'</li><li>'Ontario'</li><li>'StClair'</li></ol>\n"
      ],
      "text/latex": [
       "\\begin{enumerate*}\n",
       "\\item 'year'\n",
       "\\item 'Erie'\n",
       "\\item 'michHuron'\n",
       "\\item 'Ontario'\n",
       "\\item 'StClair'\n",
       "\\end{enumerate*}\n"
      ],
      "text/markdown": [
       "1. 'year'\n",
       "2. 'Erie'\n",
       "3. 'michHuron'\n",
       "4. 'Ontario'\n",
       "5. 'StClair'\n",
       "\n",
       "\n"
      ],
      "text/plain": [
       "[1] \"year\"      \"Erie\"      \"michHuron\" \"Ontario\"   \"StClair\"  "
      ]
     },
     "metadata": {},
     "output_type": "display_data"
    }
   ],
   "source": [
    "colnames(ds)"
   ]
  },
  {
   "cell_type": "code",
   "execution_count": 85,
   "id": "15a430a4",
   "metadata": {},
   "outputs": [
    {
     "data": {
      "image/png": "[encoded data removed]",
      "text/plain": [
       "Plot with title \"Eric 호 수위\""
      ]
     },
     "metadata": {
      "image/png": {
       "height": 420,
       "width": 420
      }
     },
     "output_type": "display_data"
    }
   ],
   "source": [
    "plot(ds$year, ds$Erie,\n",
    "    type='l',\n",
    "    lwd = 1,\n",
    "    lty = 1,\n",
    "    main = 'Eric 호 수위')"
   ]
  },
  {
   "cell_type": "code",
   "execution_count": 91,
   "id": "3549796d",
   "metadata": {},
   "outputs": [
    {
     "data": {
      "image/png": "[encoded data removed]",
      "text/plain": [
       "Plot with title \"michHuron 호 수위\""
      ]
     },
     "metadata": {
      "image/png": {
       "height": 420,
       "width": 420
      }
     },
     "output_type": "display_data"
    }
   ],
   "source": [
    "plot(ds$year, ds$michHuron,\n",
    "    type='b',\n",
    "    lwd = 1,\n",
    "    lty = 1,\n",
    "    main = 'michHuron 호 수위',\n",
    "    xlab = '수위',\n",
    "    ylab = '연도',\n",
    "    col='skyblue')\n",
    "# type b는 아래와 같은 그래프를 그릴 때 사용한다!"
   ]
  },
  {
   "cell_type": "code",
   "execution_count": null,
   "id": "35b16ba8",
   "metadata": {},
   "outputs": [],
   "source": []
  }
 ],
 "metadata": {
  "kernelspec": {
   "display_name": "R",
   "language": "R",
   "name": "ir"
  },
  "language_info": {
   "codemirror_mode": "r",
   "file_extension": ".r",
   "mimetype": "text/x-r-source",
   "name": "R",
   "pygments_lexer": "r",
   "version": "4.3.1"
  }
 },
 "nbformat": 4,
 "nbformat_minor": 5
}
