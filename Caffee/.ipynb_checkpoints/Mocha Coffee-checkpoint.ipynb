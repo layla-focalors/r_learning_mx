{
 "cells": [
  {
   "cell_type": "code",
   "execution_count": 6,
   "id": "f4995865",
   "metadata": {},
   "outputs": [],
   "source": [
    "data = c(4, 1, 0, 0, 2, 2, 2, 2, 2, 1, 2, 3, 1, 2, 2, 3,1,2,2,1,2,1,4,4,4,3,3,1)\n",
    "fq = table(data)\n",
    "names(fq) = c('레일라', '닐루', '라이덴', '유라', '설탕')"
   ]
  },
  {
   "cell_type": "code",
   "execution_count": 7,
   "id": "f14bd8be",
   "metadata": {},
   "outputs": [
    {
     "data": {
      "text/plain": [
       "레일라   닐루 라이덴   유라   설탕 \n",
       "     2      7     11      4      4 "
      ]
     },
     "metadata": {},
     "output_type": "display_data"
    }
   ],
   "source": [
    "fq"
   ]
  },
  {
   "cell_type": "code",
   "execution_count": 5,
   "id": "0b85032c",
   "metadata": {},
   "outputs": [
    {
     "data": {
      "text/html": [
       "<style>\n",
       ".list-inline {list-style: none; margin:0; padding: 0}\n",
       ".list-inline>li {display: inline-block}\n",
       ".list-inline>li:not(:last-child)::after {content: \"\\00b7\"; padding: 0 .5ex}\n",
       "</style>\n",
       "<ol class=list-inline><li>'레일라'</li><li>'닐루'</li><li>'라이덴'</li><li>'유라'</li><li>'설탕'</li><li>NA</li><li>NA</li><li>NA</li><li>NA</li><li>NA</li><li>NA</li><li>NA</li><li>NA</li><li>NA</li><li>NA</li><li>NA</li><li>NA</li><li>NA</li><li>NA</li><li>NA</li><li>NA</li><li>NA</li><li>NA</li><li>NA</li><li>NA</li><li>NA</li><li>NA</li><li>NA</li></ol>\n"
      ],
      "text/latex": [
       "\\begin{enumerate*}\n",
       "\\item '레일라'\n",
       "\\item '닐루'\n",
       "\\item '라이덴'\n",
       "\\item '유라'\n",
       "\\item '설탕'\n",
       "\\item NA\n",
       "\\item NA\n",
       "\\item NA\n",
       "\\item NA\n",
       "\\item NA\n",
       "\\item NA\n",
       "\\item NA\n",
       "\\item NA\n",
       "\\item NA\n",
       "\\item NA\n",
       "\\item NA\n",
       "\\item NA\n",
       "\\item NA\n",
       "\\item NA\n",
       "\\item NA\n",
       "\\item NA\n",
       "\\item NA\n",
       "\\item NA\n",
       "\\item NA\n",
       "\\item NA\n",
       "\\item NA\n",
       "\\item NA\n",
       "\\item NA\n",
       "\\end{enumerate*}\n"
      ],
      "text/markdown": [
       "1. '레일라'\n",
       "2. '닐루'\n",
       "3. '라이덴'\n",
       "4. '유라'\n",
       "5. '설탕'\n",
       "6. NA\n",
       "7. NA\n",
       "8. NA\n",
       "9. NA\n",
       "10. NA\n",
       "11. NA\n",
       "12. NA\n",
       "13. NA\n",
       "14. NA\n",
       "15. NA\n",
       "16. NA\n",
       "17. NA\n",
       "18. NA\n",
       "19. NA\n",
       "20. NA\n",
       "21. NA\n",
       "22. NA\n",
       "23. NA\n",
       "24. NA\n",
       "25. NA\n",
       "26. NA\n",
       "27. NA\n",
       "28. NA\n",
       "\n",
       "\n"
      ],
      "text/plain": [
       " [1] \"레일라\" \"닐루\"   \"라이덴\" \"유라\"   \"설탕\"   NA       NA       NA      \n",
       " [9] NA       NA       NA       NA       NA       NA       NA       NA      \n",
       "[17] NA       NA       NA       NA       NA       NA       NA       NA      \n",
       "[25] NA       NA       NA       NA      "
      ]
     },
     "metadata": {},
     "output_type": "display_data"
    }
   ],
   "source": [
    "names(data)"
   ]
  },
  {
   "cell_type": "code",
   "execution_count": 10,
   "id": "9bf20e55",
   "metadata": {},
   "outputs": [
    {
     "data": {
      "image/png": "[encoded data removed]",
      "text/plain": [
       "Plot with title \"최애인 캐릭터\""
      ]
     },
     "metadata": {
      "image/png": {
       "height": 420,
       "width": 420
      }
     },
     "output_type": "display_data"
    }
   ],
   "source": [
    "barplot(fq, main ='최애인 캐릭터', xlab='캐릭터',\n",
    "       ylab='빈도',\n",
    "       col = c('pink','blue','purple','skyblue', 'green'))"
   ]
  },
  {
   "cell_type": "code",
   "execution_count": 11,
   "id": "dfc9bfc5",
   "metadata": {},
   "outputs": [],
   "source": [
    "model = lm(pressure$temperature~pressure$pressure)"
   ]
  },
  {
   "cell_type": "code",
   "execution_count": 12,
   "id": "8f9fd97e",
   "metadata": {},
   "outputs": [
    {
     "data": {
      "text/plain": [
       "\n",
       "Call:\n",
       "lm(formula = pressure$temperature ~ pressure$pressure)\n",
       "\n",
       "Residuals:\n",
       "     Min       1Q   Median       3Q      Max \n",
       "-132.791  -62.813    6.507   67.033   90.759 \n",
       "\n",
       "Coefficients:\n",
       "                   Estimate Std. Error t value Pr(>|t|)    \n",
       "(Intercept)       132.79072   19.94314   6.658 4.03e-06 ***\n",
       "pressure$pressure   0.37969    0.07929   4.788 0.000171 ***\n",
       "---\n",
       "Signif. codes:  0 '***' 0.001 '**' 0.01 '*' 0.05 '.' 0.1 ' ' 1\n",
       "\n",
       "Residual standard error: 75.56 on 17 degrees of freedom\n",
       "Multiple R-squared:  0.5742,\tAdjusted R-squared:  0.5492 \n",
       "F-statistic: 22.93 on 1 and 17 DF,  p-value: 0.000171\n"
      ]
     },
     "metadata": {},
     "output_type": "display_data"
    }
   ],
   "source": [
    "summary(model)"
   ]
  },
  {
   "cell_type": "code",
   "execution_count": 19,
   "id": "ce85bfe8",
   "metadata": {},
   "outputs": [
    {
     "name": "stderr",
     "output_type": "stream",
     "text": [
      "Warning message:\n",
      "\"'newdata' had 1 row but variables found have 19 rows\"\n",
      "Warning message:\n",
      "\"'newdata' had 1 row but variables found have 19 rows\"\n",
      "Warning message:\n",
      "\"'newdata' had 1 row but variables found have 19 rows\"\n"
     ]
    }
   ],
   "source": [
    "model = lm(pressure$pressure~pressure$temperature)\n",
    "for(i in c(65, 95, 155)){\n",
    "    predict(model, newdata = data.frame(temperature = i))\n",
    "}"
   ]
  },
  {
   "cell_type": "code",
   "execution_count": 20,
   "id": "64982d5a",
   "metadata": {},
   "outputs": [
    {
     "data": {
      "text/plain": [
       "\n",
       "Call:\n",
       "lm(formula = pressure$pressure ~ pressure$temperature)\n",
       "\n",
       "Residuals:\n",
       "    Min      1Q  Median      3Q     Max \n",
       "-158.08 -117.06  -32.84   72.30  409.43 \n",
       "\n",
       "Coefficients:\n",
       "                      Estimate Std. Error t value Pr(>|t|)    \n",
       "(Intercept)          -147.8989    66.5529  -2.222 0.040124 *  \n",
       "pressure$temperature    1.5124     0.3158   4.788 0.000171 ***\n",
       "---\n",
       "Signif. codes:  0 '***' 0.001 '**' 0.01 '*' 0.05 '.' 0.1 ' ' 1\n",
       "\n",
       "Residual standard error: 150.8 on 17 degrees of freedom\n",
       "Multiple R-squared:  0.5742,\tAdjusted R-squared:  0.5492 \n",
       "F-statistic: 22.93 on 1 and 17 DF,  p-value: 0.000171\n"
      ]
     },
     "metadata": {},
     "output_type": "display_data"
    }
   ],
   "source": [
    "summary(model)"
   ]
  },
  {
   "cell_type": "code",
   "execution_count": 21,
   "id": "f0df6871",
   "metadata": {},
   "outputs": [
    {
     "data": {
      "text/plain": [
       "\n",
       "Call:\n",
       "lm(formula = pressure$pressure ~ pressure$temperature)\n",
       "\n",
       "Coefficients:\n",
       "         (Intercept)  pressure$temperature  \n",
       "            -147.899                 1.512  \n"
      ]
     },
     "metadata": {},
     "output_type": "display_data"
    }
   ],
   "source": [
    "model"
   ]
  },
  {
   "cell_type": "code",
   "execution_count": null,
   "id": "07198f28",
   "metadata": {},
   "outputs": [],
   "source": []
  }
 ],
 "metadata": {
  "kernelspec": {
   "display_name": "R",
   "language": "R",
   "name": "ir"
  },
  "language_info": {
   "codemirror_mode": "r",
   "file_extension": ".r",
   "mimetype": "text/x-r-source",
   "name": "R",
   "pygments_lexer": "r",
   "version": "4.3.1"
  }
 },
 "nbformat": 4,
 "nbformat_minor": 5
}
