{
 "cells": [
  {
   "cell_type": "code",
   "execution_count": 1,
   "id": "bd49c849",
   "metadata": {},
   "outputs": [
    {
     "name": "stderr",
     "output_type": "stream",
     "text": [
      "Installing package into 'C:/Users/starl/AppData/Local/R/win-library/4.3'\n",
      "(as 'lib' is unspecified)\n",
      "\n",
      "also installing the dependencies 'farver', 'labeling', 'munsell', 'viridisLite', 'gtable', 'isoband', 'scales', 'colorspace', 'data.table', 'ggplot2', 'gridBase', 'igraph'\n",
      "\n",
      "\n"
     ]
    },
    {
     "name": "stdout",
     "output_type": "stream",
     "text": [
      "\n",
      "  There is a binary version available but the source version is later:\n",
      "           binary  source needs_compilation\n",
      "data.table 1.14.8 1.14.10              TRUE\n",
      "\n",
      "  Binaries will be installed\n",
      "package 'farver' successfully unpacked and MD5 sums checked\n",
      "package 'labeling' successfully unpacked and MD5 sums checked\n",
      "package 'munsell' successfully unpacked and MD5 sums checked\n",
      "package 'viridisLite' successfully unpacked and MD5 sums checked\n",
      "package 'gtable' successfully unpacked and MD5 sums checked\n",
      "package 'isoband' successfully unpacked and MD5 sums checked\n",
      "package 'scales' successfully unpacked and MD5 sums checked\n",
      "package 'colorspace' successfully unpacked and MD5 sums checked\n",
      "package 'data.table' successfully unpacked and MD5 sums checked\n",
      "package 'ggplot2' successfully unpacked and MD5 sums checked\n",
      "package 'gridBase' successfully unpacked and MD5 sums checked\n",
      "package 'igraph' successfully unpacked and MD5 sums checked\n",
      "package 'treemap' successfully unpacked and MD5 sums checked\n",
      "\n",
      "The downloaded binary packages are in\n",
      "\tC:\\Users\\starl\\AppData\\Local\\Temp\\Rtmp42pdax\\downloaded_packages\n"
     ]
    }
   ],
   "source": [
    "install.packages('treemap')"
   ]
  },
  {
   "cell_type": "code",
   "execution_count": 2,
   "id": "a96e75f2",
   "metadata": {},
   "outputs": [
    {
     "name": "stderr",
     "output_type": "stream",
     "text": [
      "Warning message:\n",
      "\"package 'treemap' was built under R version 4.3.2\"\n"
     ]
    }
   ],
   "source": [
    "library(treemap)"
   ]
  },
  {
   "cell_type": "code",
   "execution_count": 3,
   "id": "0f686fbf",
   "metadata": {},
   "outputs": [
    {
     "data": {
      "text/plain": [
       "[1] '4.3.1'"
      ]
     },
     "metadata": {},
     "output_type": "display_data"
    }
   ],
   "source": [
    "package_version(R.version) "
   ]
  },
  {
   "cell_type": "code",
   "execution_count": 4,
   "id": "76669fc0",
   "metadata": {},
   "outputs": [],
   "source": [
    "data(GNI2014)"
   ]
  },
  {
   "cell_type": "code",
   "execution_count": 5,
   "id": "7e5d5d7a",
   "metadata": {},
   "outputs": [
    {
     "data": {
      "text/html": [
       "<table class=\"dataframe\">\n",
       "<caption>A data.frame: 188 × 5</caption>\n",
       "<thead>\n",
       "\t<tr><th></th><th scope=col>iso3</th><th scope=col>country</th><th scope=col>continent</th><th scope=col>population</th><th scope=col>GNI</th></tr>\n",
       "\t<tr><th></th><th scope=col>&lt;chr&gt;</th><th scope=col>&lt;chr&gt;</th><th scope=col>&lt;fct&gt;</th><th scope=col>&lt;dbl&gt;</th><th scope=col>&lt;int&gt;</th></tr>\n",
       "</thead>\n",
       "<tbody>\n",
       "\t<tr><th scope=row>3</th><td>BMU</td><td>Bermuda             </td><td>North America</td><td>    67837</td><td>106140</td></tr>\n",
       "\t<tr><th scope=row>4</th><td>NOR</td><td>Norway              </td><td>Europe       </td><td>  4676305</td><td>103630</td></tr>\n",
       "\t<tr><th scope=row>5</th><td>QAT</td><td>Qatar               </td><td>Asia         </td><td>   833285</td><td> 92200</td></tr>\n",
       "\t<tr><th scope=row>6</th><td>CHE</td><td>Switzerland         </td><td>Europe       </td><td>  7604467</td><td> 88120</td></tr>\n",
       "\t<tr><th scope=row>7</th><td>MAC</td><td>Macao SAR, China    </td><td>Asia         </td><td>   559846</td><td> 76270</td></tr>\n",
       "\t<tr><th scope=row>8</th><td>LUX</td><td>Luxembourg          </td><td>Europe       </td><td>   491775</td><td> 75990</td></tr>\n",
       "\t<tr><th scope=row>10</th><td>AUS</td><td>Australia           </td><td>Oceania      </td><td> 21262641</td><td> 64540</td></tr>\n",
       "\t<tr><th scope=row>11</th><td>SWE</td><td>Sweden              </td><td>Europe       </td><td>  9059651</td><td> 61610</td></tr>\n",
       "\t<tr><th scope=row>12</th><td>DNK</td><td>Denmark             </td><td>Europe       </td><td>  5500510</td><td> 61310</td></tr>\n",
       "\t<tr><th scope=row>14</th><td>USA</td><td>United States       </td><td>North America</td><td>313973000</td><td> 55200</td></tr>\n",
       "\t<tr><th scope=row>15</th><td>SGP</td><td>Singapore           </td><td>Asia         </td><td>  4657542</td><td> 55150</td></tr>\n",
       "\t<tr><th scope=row>18</th><td>NLD</td><td>Netherlands         </td><td>Europe       </td><td> 16715999</td><td> 51890</td></tr>\n",
       "\t<tr><th scope=row>19</th><td>CAN</td><td>Canada              </td><td>North America</td><td> 33487208</td><td> 51630</td></tr>\n",
       "\t<tr><th scope=row>20</th><td>AUT</td><td>Austria             </td><td>Europe       </td><td>  8210281</td><td> 49670</td></tr>\n",
       "\t<tr><th scope=row>21</th><td>KWT</td><td>Kuwait              </td><td>Asia         </td><td>  2691158</td><td> 49300</td></tr>\n",
       "\t<tr><th scope=row>22</th><td>FIN</td><td>Finland             </td><td>Europe       </td><td>  5250275</td><td> 48420</td></tr>\n",
       "\t<tr><th scope=row>23</th><td>DEU</td><td>Germany             </td><td>Europe       </td><td> 82329758</td><td> 47640</td></tr>\n",
       "\t<tr><th scope=row>24</th><td>ISL</td><td>Iceland             </td><td>Europe       </td><td>   306694</td><td> 46350</td></tr>\n",
       "\t<tr><th scope=row>25</th><td>BEL</td><td>Belgium             </td><td>Europe       </td><td> 10414336</td><td> 47260</td></tr>\n",
       "\t<tr><th scope=row>26</th><td>IRL</td><td>Ireland             </td><td>Europe       </td><td>  4203200</td><td> 46550</td></tr>\n",
       "\t<tr><th scope=row>27</th><td>ARE</td><td>United Arab Emirates</td><td>Asia         </td><td>  4798491</td><td> 44600</td></tr>\n",
       "\t<tr><th scope=row>28</th><td>GBR</td><td>United Kingdom      </td><td>Europe       </td><td> 62262000</td><td> 43430</td></tr>\n",
       "\t<tr><th scope=row>29</th><td>FRA</td><td>France              </td><td>Europe       </td><td> 64057792</td><td> 42960</td></tr>\n",
       "\t<tr><th scope=row>30</th><td>JPN</td><td>Japan               </td><td>Asia         </td><td>127078679</td><td> 42000</td></tr>\n",
       "\t<tr><th scope=row>31</th><td>ADO</td><td>Andorra             </td><td>Europe       </td><td>    79218</td><td> 43270</td></tr>\n",
       "\t<tr><th scope=row>32</th><td>NZL</td><td>New Zealand         </td><td>Oceania      </td><td>  4213418</td><td> 41070</td></tr>\n",
       "\t<tr><th scope=row>33</th><td>HKG</td><td>Hong Kong SAR, China</td><td>Asia         </td><td>  7061200</td><td> 40320</td></tr>\n",
       "\t<tr><th scope=row>34</th><td>BRN</td><td>Brunei Darussalam   </td><td>Asia         </td><td>   388190</td><td> 37320</td></tr>\n",
       "\t<tr><th scope=row>35</th><td>ISR</td><td>Israel              </td><td>Asia         </td><td>  7233701</td><td> 35320</td></tr>\n",
       "\t<tr><th scope=row>36</th><td>ITA</td><td>Italy               </td><td>Europe       </td><td> 58126212</td><td> 34270</td></tr>\n",
       "\t<tr><th scope=row>⋮</th><td>⋮</td><td>⋮</td><td>⋮</td><td>⋮</td><td>⋮</td></tr>\n",
       "\t<tr><th scope=row>165</th><td>TJK</td><td>Tajikistan              </td><td>Asia         </td><td> 7349145</td><td>1080</td></tr>\n",
       "\t<tr><th scope=row>166</th><td>SEN</td><td>Senegal                 </td><td>Africa       </td><td>13711597</td><td>1050</td></tr>\n",
       "\t<tr><th scope=row>167</th><td>KHM</td><td>Cambodia                </td><td>Asia         </td><td>14494293</td><td>1020</td></tr>\n",
       "\t<tr><th scope=row>168</th><td>TCD</td><td>Chad                    </td><td>Africa       </td><td>10329208</td><td> 980</td></tr>\n",
       "\t<tr><th scope=row>169</th><td>SSD</td><td>South Sudan             </td><td>Africa       </td><td>10625176</td><td> 970</td></tr>\n",
       "\t<tr><th scope=row>170</th><td>TZA</td><td>Tanzania                </td><td>Africa       </td><td>41048532</td><td> 920</td></tr>\n",
       "\t<tr><th scope=row>171</th><td>BEN</td><td>Benin                   </td><td>Africa       </td><td> 8791832</td><td> 890</td></tr>\n",
       "\t<tr><th scope=row>172</th><td>ZWE</td><td>Zimbabwe                </td><td>Africa       </td><td>12619600</td><td> 840</td></tr>\n",
       "\t<tr><th scope=row>173</th><td>HTI</td><td>Haiti                   </td><td>North America</td><td> 9035536</td><td> 820</td></tr>\n",
       "\t<tr><th scope=row>174</th><td>COM</td><td>Comoros                 </td><td>Africa       </td><td>  752438</td><td> 790</td></tr>\n",
       "\t<tr><th scope=row>175</th><td>NPL</td><td>Nepal                   </td><td>Asia         </td><td>28563377</td><td> 730</td></tr>\n",
       "\t<tr><th scope=row>176</th><td>BFA</td><td>Burkina Faso            </td><td>Africa       </td><td>15746232</td><td> 700</td></tr>\n",
       "\t<tr><th scope=row>177</th><td>RWA</td><td>Rwanda                  </td><td>Africa       </td><td>10473282</td><td> 700</td></tr>\n",
       "\t<tr><th scope=row>178</th><td>SLE</td><td>Sierra Leone            </td><td>Africa       </td><td> 6440053</td><td> 700</td></tr>\n",
       "\t<tr><th scope=row>179</th><td>AFG</td><td>Afghanistan             </td><td>Asia         </td><td>28400000</td><td> 680</td></tr>\n",
       "\t<tr><th scope=row>180</th><td>UGA</td><td>Uganda                  </td><td>Africa       </td><td>32369558</td><td> 670</td></tr>\n",
       "\t<tr><th scope=row>181</th><td>MLI</td><td>Mali                    </td><td>Africa       </td><td>12666987</td><td> 650</td></tr>\n",
       "\t<tr><th scope=row>182</th><td>MOZ</td><td>Mozambique              </td><td>Africa       </td><td>21669278</td><td> 600</td></tr>\n",
       "\t<tr><th scope=row>183</th><td>TGO</td><td>Togo                    </td><td>Africa       </td><td> 6019877</td><td> 570</td></tr>\n",
       "\t<tr><th scope=row>184</th><td>ETH</td><td>Ethiopia                </td><td>Africa       </td><td>85237338</td><td> 550</td></tr>\n",
       "\t<tr><th scope=row>185</th><td>GNB</td><td>Guinea-Bissau           </td><td>Africa       </td><td> 1533964</td><td> 550</td></tr>\n",
       "\t<tr><th scope=row>186</th><td>GIN</td><td>Guinea                  </td><td>Africa       </td><td>10057975</td><td> 470</td></tr>\n",
       "\t<tr><th scope=row>187</th><td>GMB</td><td>Gambia, The             </td><td>Africa       </td><td> 1782893</td><td> 500</td></tr>\n",
       "\t<tr><th scope=row>188</th><td>MDG</td><td>Madagascar              </td><td>Africa       </td><td>20653556</td><td> 440</td></tr>\n",
       "\t<tr><th scope=row>189</th><td>NER</td><td>Niger                   </td><td>Africa       </td><td>15306252</td><td> 410</td></tr>\n",
       "\t<tr><th scope=row>190</th><td>COD</td><td>Congo, Dem. Rep.        </td><td>Africa       </td><td>68692542</td><td> 380</td></tr>\n",
       "\t<tr><th scope=row>191</th><td>LBR</td><td>Liberia                 </td><td>Africa       </td><td> 3441790</td><td> 370</td></tr>\n",
       "\t<tr><th scope=row>192</th><td>CAF</td><td>Central African Republic</td><td>Africa       </td><td> 4511488</td><td> 320</td></tr>\n",
       "\t<tr><th scope=row>193</th><td>BDI</td><td>Burundi                 </td><td>Africa       </td><td> 8988091</td><td> 270</td></tr>\n",
       "\t<tr><th scope=row>194</th><td>MWI</td><td>Malawi                  </td><td>Africa       </td><td>14268711</td><td> 250</td></tr>\n",
       "</tbody>\n",
       "</table>\n"
      ],
      "text/latex": [
       "A data.frame: 188 × 5\n",
       "\\begin{tabular}{r|lllll}\n",
       "  & iso3 & country & continent & population & GNI\\\\\n",
       "  & <chr> & <chr> & <fct> & <dbl> & <int>\\\\\n",
       "\\hline\n",
       "\t3 & BMU & Bermuda              & North America &     67837 & 106140\\\\\n",
       "\t4 & NOR & Norway               & Europe        &   4676305 & 103630\\\\\n",
       "\t5 & QAT & Qatar                & Asia          &    833285 &  92200\\\\\n",
       "\t6 & CHE & Switzerland          & Europe        &   7604467 &  88120\\\\\n",
       "\t7 & MAC & Macao SAR, China     & Asia          &    559846 &  76270\\\\\n",
       "\t8 & LUX & Luxembourg           & Europe        &    491775 &  75990\\\\\n",
       "\t10 & AUS & Australia            & Oceania       &  21262641 &  64540\\\\\n",
       "\t11 & SWE & Sweden               & Europe        &   9059651 &  61610\\\\\n",
       "\t12 & DNK & Denmark              & Europe        &   5500510 &  61310\\\\\n",
       "\t14 & USA & United States        & North America & 313973000 &  55200\\\\\n",
       "\t15 & SGP & Singapore            & Asia          &   4657542 &  55150\\\\\n",
       "\t18 & NLD & Netherlands          & Europe        &  16715999 &  51890\\\\\n",
       "\t19 & CAN & Canada               & North America &  33487208 &  51630\\\\\n",
       "\t20 & AUT & Austria              & Europe        &   8210281 &  49670\\\\\n",
       "\t21 & KWT & Kuwait               & Asia          &   2691158 &  49300\\\\\n",
       "\t22 & FIN & Finland              & Europe        &   5250275 &  48420\\\\\n",
       "\t23 & DEU & Germany              & Europe        &  82329758 &  47640\\\\\n",
       "\t24 & ISL & Iceland              & Europe        &    306694 &  46350\\\\\n",
       "\t25 & BEL & Belgium              & Europe        &  10414336 &  47260\\\\\n",
       "\t26 & IRL & Ireland              & Europe        &   4203200 &  46550\\\\\n",
       "\t27 & ARE & United Arab Emirates & Asia          &   4798491 &  44600\\\\\n",
       "\t28 & GBR & United Kingdom       & Europe        &  62262000 &  43430\\\\\n",
       "\t29 & FRA & France               & Europe        &  64057792 &  42960\\\\\n",
       "\t30 & JPN & Japan                & Asia          & 127078679 &  42000\\\\\n",
       "\t31 & ADO & Andorra              & Europe        &     79218 &  43270\\\\\n",
       "\t32 & NZL & New Zealand          & Oceania       &   4213418 &  41070\\\\\n",
       "\t33 & HKG & Hong Kong SAR, China & Asia          &   7061200 &  40320\\\\\n",
       "\t34 & BRN & Brunei Darussalam    & Asia          &    388190 &  37320\\\\\n",
       "\t35 & ISR & Israel               & Asia          &   7233701 &  35320\\\\\n",
       "\t36 & ITA & Italy                & Europe        &  58126212 &  34270\\\\\n",
       "\t⋮ & ⋮ & ⋮ & ⋮ & ⋮ & ⋮\\\\\n",
       "\t165 & TJK & Tajikistan               & Asia          &  7349145 & 1080\\\\\n",
       "\t166 & SEN & Senegal                  & Africa        & 13711597 & 1050\\\\\n",
       "\t167 & KHM & Cambodia                 & Asia          & 14494293 & 1020\\\\\n",
       "\t168 & TCD & Chad                     & Africa        & 10329208 &  980\\\\\n",
       "\t169 & SSD & South Sudan              & Africa        & 10625176 &  970\\\\\n",
       "\t170 & TZA & Tanzania                 & Africa        & 41048532 &  920\\\\\n",
       "\t171 & BEN & Benin                    & Africa        &  8791832 &  890\\\\\n",
       "\t172 & ZWE & Zimbabwe                 & Africa        & 12619600 &  840\\\\\n",
       "\t173 & HTI & Haiti                    & North America &  9035536 &  820\\\\\n",
       "\t174 & COM & Comoros                  & Africa        &   752438 &  790\\\\\n",
       "\t175 & NPL & Nepal                    & Asia          & 28563377 &  730\\\\\n",
       "\t176 & BFA & Burkina Faso             & Africa        & 15746232 &  700\\\\\n",
       "\t177 & RWA & Rwanda                   & Africa        & 10473282 &  700\\\\\n",
       "\t178 & SLE & Sierra Leone             & Africa        &  6440053 &  700\\\\\n",
       "\t179 & AFG & Afghanistan              & Asia          & 28400000 &  680\\\\\n",
       "\t180 & UGA & Uganda                   & Africa        & 32369558 &  670\\\\\n",
       "\t181 & MLI & Mali                     & Africa        & 12666987 &  650\\\\\n",
       "\t182 & MOZ & Mozambique               & Africa        & 21669278 &  600\\\\\n",
       "\t183 & TGO & Togo                     & Africa        &  6019877 &  570\\\\\n",
       "\t184 & ETH & Ethiopia                 & Africa        & 85237338 &  550\\\\\n",
       "\t185 & GNB & Guinea-Bissau            & Africa        &  1533964 &  550\\\\\n",
       "\t186 & GIN & Guinea                   & Africa        & 10057975 &  470\\\\\n",
       "\t187 & GMB & Gambia, The              & Africa        &  1782893 &  500\\\\\n",
       "\t188 & MDG & Madagascar               & Africa        & 20653556 &  440\\\\\n",
       "\t189 & NER & Niger                    & Africa        & 15306252 &  410\\\\\n",
       "\t190 & COD & Congo, Dem. Rep.         & Africa        & 68692542 &  380\\\\\n",
       "\t191 & LBR & Liberia                  & Africa        &  3441790 &  370\\\\\n",
       "\t192 & CAF & Central African Republic & Africa        &  4511488 &  320\\\\\n",
       "\t193 & BDI & Burundi                  & Africa        &  8988091 &  270\\\\\n",
       "\t194 & MWI & Malawi                   & Africa        & 14268711 &  250\\\\\n",
       "\\end{tabular}\n"
      ],
      "text/markdown": [
       "\n",
       "A data.frame: 188 × 5\n",
       "\n",
       "| <!--/--> | iso3 &lt;chr&gt; | country &lt;chr&gt; | continent &lt;fct&gt; | population &lt;dbl&gt; | GNI &lt;int&gt; |\n",
       "|---|---|---|---|---|---|\n",
       "| 3 | BMU | Bermuda              | North America |     67837 | 106140 |\n",
       "| 4 | NOR | Norway               | Europe        |   4676305 | 103630 |\n",
       "| 5 | QAT | Qatar                | Asia          |    833285 |  92200 |\n",
       "| 6 | CHE | Switzerland          | Europe        |   7604467 |  88120 |\n",
       "| 7 | MAC | Macao SAR, China     | Asia          |    559846 |  76270 |\n",
       "| 8 | LUX | Luxembourg           | Europe        |    491775 |  75990 |\n",
       "| 10 | AUS | Australia            | Oceania       |  21262641 |  64540 |\n",
       "| 11 | SWE | Sweden               | Europe        |   9059651 |  61610 |\n",
       "| 12 | DNK | Denmark              | Europe        |   5500510 |  61310 |\n",
       "| 14 | USA | United States        | North America | 313973000 |  55200 |\n",
       "| 15 | SGP | Singapore            | Asia          |   4657542 |  55150 |\n",
       "| 18 | NLD | Netherlands          | Europe        |  16715999 |  51890 |\n",
       "| 19 | CAN | Canada               | North America |  33487208 |  51630 |\n",
       "| 20 | AUT | Austria              | Europe        |   8210281 |  49670 |\n",
       "| 21 | KWT | Kuwait               | Asia          |   2691158 |  49300 |\n",
       "| 22 | FIN | Finland              | Europe        |   5250275 |  48420 |\n",
       "| 23 | DEU | Germany              | Europe        |  82329758 |  47640 |\n",
       "| 24 | ISL | Iceland              | Europe        |    306694 |  46350 |\n",
       "| 25 | BEL | Belgium              | Europe        |  10414336 |  47260 |\n",
       "| 26 | IRL | Ireland              | Europe        |   4203200 |  46550 |\n",
       "| 27 | ARE | United Arab Emirates | Asia          |   4798491 |  44600 |\n",
       "| 28 | GBR | United Kingdom       | Europe        |  62262000 |  43430 |\n",
       "| 29 | FRA | France               | Europe        |  64057792 |  42960 |\n",
       "| 30 | JPN | Japan                | Asia          | 127078679 |  42000 |\n",
       "| 31 | ADO | Andorra              | Europe        |     79218 |  43270 |\n",
       "| 32 | NZL | New Zealand          | Oceania       |   4213418 |  41070 |\n",
       "| 33 | HKG | Hong Kong SAR, China | Asia          |   7061200 |  40320 |\n",
       "| 34 | BRN | Brunei Darussalam    | Asia          |    388190 |  37320 |\n",
       "| 35 | ISR | Israel               | Asia          |   7233701 |  35320 |\n",
       "| 36 | ITA | Italy                | Europe        |  58126212 |  34270 |\n",
       "| ⋮ | ⋮ | ⋮ | ⋮ | ⋮ | ⋮ |\n",
       "| 165 | TJK | Tajikistan               | Asia          |  7349145 | 1080 |\n",
       "| 166 | SEN | Senegal                  | Africa        | 13711597 | 1050 |\n",
       "| 167 | KHM | Cambodia                 | Asia          | 14494293 | 1020 |\n",
       "| 168 | TCD | Chad                     | Africa        | 10329208 |  980 |\n",
       "| 169 | SSD | South Sudan              | Africa        | 10625176 |  970 |\n",
       "| 170 | TZA | Tanzania                 | Africa        | 41048532 |  920 |\n",
       "| 171 | BEN | Benin                    | Africa        |  8791832 |  890 |\n",
       "| 172 | ZWE | Zimbabwe                 | Africa        | 12619600 |  840 |\n",
       "| 173 | HTI | Haiti                    | North America |  9035536 |  820 |\n",
       "| 174 | COM | Comoros                  | Africa        |   752438 |  790 |\n",
       "| 175 | NPL | Nepal                    | Asia          | 28563377 |  730 |\n",
       "| 176 | BFA | Burkina Faso             | Africa        | 15746232 |  700 |\n",
       "| 177 | RWA | Rwanda                   | Africa        | 10473282 |  700 |\n",
       "| 178 | SLE | Sierra Leone             | Africa        |  6440053 |  700 |\n",
       "| 179 | AFG | Afghanistan              | Asia          | 28400000 |  680 |\n",
       "| 180 | UGA | Uganda                   | Africa        | 32369558 |  670 |\n",
       "| 181 | MLI | Mali                     | Africa        | 12666987 |  650 |\n",
       "| 182 | MOZ | Mozambique               | Africa        | 21669278 |  600 |\n",
       "| 183 | TGO | Togo                     | Africa        |  6019877 |  570 |\n",
       "| 184 | ETH | Ethiopia                 | Africa        | 85237338 |  550 |\n",
       "| 185 | GNB | Guinea-Bissau            | Africa        |  1533964 |  550 |\n",
       "| 186 | GIN | Guinea                   | Africa        | 10057975 |  470 |\n",
       "| 187 | GMB | Gambia, The              | Africa        |  1782893 |  500 |\n",
       "| 188 | MDG | Madagascar               | Africa        | 20653556 |  440 |\n",
       "| 189 | NER | Niger                    | Africa        | 15306252 |  410 |\n",
       "| 190 | COD | Congo, Dem. Rep.         | Africa        | 68692542 |  380 |\n",
       "| 191 | LBR | Liberia                  | Africa        |  3441790 |  370 |\n",
       "| 192 | CAF | Central African Republic | Africa        |  4511488 |  320 |\n",
       "| 193 | BDI | Burundi                  | Africa        |  8988091 |  270 |\n",
       "| 194 | MWI | Malawi                   | Africa        | 14268711 |  250 |\n",
       "\n"
      ],
      "text/plain": [
       "    iso3 country                  continent     population GNI   \n",
       "3   BMU  Bermuda                  North America     67837  106140\n",
       "4   NOR  Norway                   Europe          4676305  103630\n",
       "5   QAT  Qatar                    Asia             833285   92200\n",
       "6   CHE  Switzerland              Europe          7604467   88120\n",
       "7   MAC  Macao SAR, China         Asia             559846   76270\n",
       "8   LUX  Luxembourg               Europe           491775   75990\n",
       "10  AUS  Australia                Oceania        21262641   64540\n",
       "11  SWE  Sweden                   Europe          9059651   61610\n",
       "12  DNK  Denmark                  Europe          5500510   61310\n",
       "14  USA  United States            North America 313973000   55200\n",
       "15  SGP  Singapore                Asia            4657542   55150\n",
       "18  NLD  Netherlands              Europe         16715999   51890\n",
       "19  CAN  Canada                   North America  33487208   51630\n",
       "20  AUT  Austria                  Europe          8210281   49670\n",
       "21  KWT  Kuwait                   Asia            2691158   49300\n",
       "22  FIN  Finland                  Europe          5250275   48420\n",
       "23  DEU  Germany                  Europe         82329758   47640\n",
       "24  ISL  Iceland                  Europe           306694   46350\n",
       "25  BEL  Belgium                  Europe         10414336   47260\n",
       "26  IRL  Ireland                  Europe          4203200   46550\n",
       "27  ARE  United Arab Emirates     Asia            4798491   44600\n",
       "28  GBR  United Kingdom           Europe         62262000   43430\n",
       "29  FRA  France                   Europe         64057792   42960\n",
       "30  JPN  Japan                    Asia          127078679   42000\n",
       "31  ADO  Andorra                  Europe            79218   43270\n",
       "32  NZL  New Zealand              Oceania         4213418   41070\n",
       "33  HKG  Hong Kong SAR, China     Asia            7061200   40320\n",
       "34  BRN  Brunei Darussalam        Asia             388190   37320\n",
       "35  ISR  Israel                   Asia            7233701   35320\n",
       "36  ITA  Italy                    Europe         58126212   34270\n",
       "⋮   ⋮    ⋮                        ⋮             ⋮          ⋮     \n",
       "165 TJK  Tajikistan               Asia           7349145   1080  \n",
       "166 SEN  Senegal                  Africa        13711597   1050  \n",
       "167 KHM  Cambodia                 Asia          14494293   1020  \n",
       "168 TCD  Chad                     Africa        10329208    980  \n",
       "169 SSD  South Sudan              Africa        10625176    970  \n",
       "170 TZA  Tanzania                 Africa        41048532    920  \n",
       "171 BEN  Benin                    Africa         8791832    890  \n",
       "172 ZWE  Zimbabwe                 Africa        12619600    840  \n",
       "173 HTI  Haiti                    North America  9035536    820  \n",
       "174 COM  Comoros                  Africa          752438    790  \n",
       "175 NPL  Nepal                    Asia          28563377    730  \n",
       "176 BFA  Burkina Faso             Africa        15746232    700  \n",
       "177 RWA  Rwanda                   Africa        10473282    700  \n",
       "178 SLE  Sierra Leone             Africa         6440053    700  \n",
       "179 AFG  Afghanistan              Asia          28400000    680  \n",
       "180 UGA  Uganda                   Africa        32369558    670  \n",
       "181 MLI  Mali                     Africa        12666987    650  \n",
       "182 MOZ  Mozambique               Africa        21669278    600  \n",
       "183 TGO  Togo                     Africa         6019877    570  \n",
       "184 ETH  Ethiopia                 Africa        85237338    550  \n",
       "185 GNB  Guinea-Bissau            Africa         1533964    550  \n",
       "186 GIN  Guinea                   Africa        10057975    470  \n",
       "187 GMB  Gambia, The              Africa         1782893    500  \n",
       "188 MDG  Madagascar               Africa        20653556    440  \n",
       "189 NER  Niger                    Africa        15306252    410  \n",
       "190 COD  Congo, Dem. Rep.         Africa        68692542    380  \n",
       "191 LBR  Liberia                  Africa         3441790    370  \n",
       "192 CAF  Central African Republic Africa         4511488    320  \n",
       "193 BDI  Burundi                  Africa         8988091    270  \n",
       "194 MWI  Malawi                   Africa        14268711    250  "
      ]
     },
     "metadata": {},
     "output_type": "display_data"
    }
   ],
   "source": [
    "GNI2014"
   ]
  },
  {
   "cell_type": "code",
   "execution_count": 6,
   "id": "4d561f54",
   "metadata": {},
   "outputs": [
    {
     "data": {
      "image/png": "[encoded data removed]",
      "text/plain": [
       "plot without title"
      ]
     },
     "metadata": {
      "image/png": {
       "height": 420,
       "width": 420
      }
     },
     "output_type": "display_data"
    }
   ],
   "source": [
    "treemap(GNI2014,\n",
    "       index = c('continent','iso3'),\n",
    "       vSize = 'population',\n",
    "       vColor = 'GNI',\n",
    "       type = 'value',\n",
    "       bg.labels='yellow',\n",
    "       title=\"World's GNI\")"
   ]
  },
  {
   "cell_type": "markdown",
   "id": "acca7703",
   "metadata": {},
   "source": [
    "### GNI 2014\n",
    "> DATASET Describe  \n",
    "iso3 : 국가 식별 표준 코드  \n",
    "country : 국가명  \n",
    "continent : 국가가 속한 대륙명  \n",
    "population : 국가의 인구  \n",
    "GNI : 국가의 국민 총소득"
   ]
  },
  {
   "cell_type": "code",
   "execution_count": 7,
   "id": "a9cf708e",
   "metadata": {},
   "outputs": [
    {
     "data": {
      "text/html": [
       "<table class=\"dataframe\">\n",
       "<caption>A data.frame: 50 × 8</caption>\n",
       "<thead>\n",
       "\t<tr><th></th><th scope=col>Population</th><th scope=col>Income</th><th scope=col>Illiteracy</th><th scope=col>Life.Exp</th><th scope=col>Murder</th><th scope=col>HS.Grad</th><th scope=col>Frost</th><th scope=col>Area</th></tr>\n",
       "\t<tr><th></th><th scope=col>&lt;dbl&gt;</th><th scope=col>&lt;dbl&gt;</th><th scope=col>&lt;dbl&gt;</th><th scope=col>&lt;dbl&gt;</th><th scope=col>&lt;dbl&gt;</th><th scope=col>&lt;dbl&gt;</th><th scope=col>&lt;dbl&gt;</th><th scope=col>&lt;dbl&gt;</th></tr>\n",
       "</thead>\n",
       "<tbody>\n",
       "\t<tr><th scope=row>Alabama</th><td> 3615</td><td>3624</td><td>2.1</td><td>69.05</td><td>15.1</td><td>41.3</td><td> 20</td><td> 50708</td></tr>\n",
       "\t<tr><th scope=row>Alaska</th><td>  365</td><td>6315</td><td>1.5</td><td>69.31</td><td>11.3</td><td>66.7</td><td>152</td><td>566432</td></tr>\n",
       "\t<tr><th scope=row>Arizona</th><td> 2212</td><td>4530</td><td>1.8</td><td>70.55</td><td> 7.8</td><td>58.1</td><td> 15</td><td>113417</td></tr>\n",
       "\t<tr><th scope=row>Arkansas</th><td> 2110</td><td>3378</td><td>1.9</td><td>70.66</td><td>10.1</td><td>39.9</td><td> 65</td><td> 51945</td></tr>\n",
       "\t<tr><th scope=row>California</th><td>21198</td><td>5114</td><td>1.1</td><td>71.71</td><td>10.3</td><td>62.6</td><td> 20</td><td>156361</td></tr>\n",
       "\t<tr><th scope=row>Colorado</th><td> 2541</td><td>4884</td><td>0.7</td><td>72.06</td><td> 6.8</td><td>63.9</td><td>166</td><td>103766</td></tr>\n",
       "\t<tr><th scope=row>Connecticut</th><td> 3100</td><td>5348</td><td>1.1</td><td>72.48</td><td> 3.1</td><td>56.0</td><td>139</td><td>  4862</td></tr>\n",
       "\t<tr><th scope=row>Delaware</th><td>  579</td><td>4809</td><td>0.9</td><td>70.06</td><td> 6.2</td><td>54.6</td><td>103</td><td>  1982</td></tr>\n",
       "\t<tr><th scope=row>Florida</th><td> 8277</td><td>4815</td><td>1.3</td><td>70.66</td><td>10.7</td><td>52.6</td><td> 11</td><td> 54090</td></tr>\n",
       "\t<tr><th scope=row>Georgia</th><td> 4931</td><td>4091</td><td>2.0</td><td>68.54</td><td>13.9</td><td>40.6</td><td> 60</td><td> 58073</td></tr>\n",
       "\t<tr><th scope=row>Hawaii</th><td>  868</td><td>4963</td><td>1.9</td><td>73.60</td><td> 6.2</td><td>61.9</td><td>  0</td><td>  6425</td></tr>\n",
       "\t<tr><th scope=row>Idaho</th><td>  813</td><td>4119</td><td>0.6</td><td>71.87</td><td> 5.3</td><td>59.5</td><td>126</td><td> 82677</td></tr>\n",
       "\t<tr><th scope=row>Illinois</th><td>11197</td><td>5107</td><td>0.9</td><td>70.14</td><td>10.3</td><td>52.6</td><td>127</td><td> 55748</td></tr>\n",
       "\t<tr><th scope=row>Indiana</th><td> 5313</td><td>4458</td><td>0.7</td><td>70.88</td><td> 7.1</td><td>52.9</td><td>122</td><td> 36097</td></tr>\n",
       "\t<tr><th scope=row>Iowa</th><td> 2861</td><td>4628</td><td>0.5</td><td>72.56</td><td> 2.3</td><td>59.0</td><td>140</td><td> 55941</td></tr>\n",
       "\t<tr><th scope=row>Kansas</th><td> 2280</td><td>4669</td><td>0.6</td><td>72.58</td><td> 4.5</td><td>59.9</td><td>114</td><td> 81787</td></tr>\n",
       "\t<tr><th scope=row>Kentucky</th><td> 3387</td><td>3712</td><td>1.6</td><td>70.10</td><td>10.6</td><td>38.5</td><td> 95</td><td> 39650</td></tr>\n",
       "\t<tr><th scope=row>Louisiana</th><td> 3806</td><td>3545</td><td>2.8</td><td>68.76</td><td>13.2</td><td>42.2</td><td> 12</td><td> 44930</td></tr>\n",
       "\t<tr><th scope=row>Maine</th><td> 1058</td><td>3694</td><td>0.7</td><td>70.39</td><td> 2.7</td><td>54.7</td><td>161</td><td> 30920</td></tr>\n",
       "\t<tr><th scope=row>Maryland</th><td> 4122</td><td>5299</td><td>0.9</td><td>70.22</td><td> 8.5</td><td>52.3</td><td>101</td><td>  9891</td></tr>\n",
       "\t<tr><th scope=row>Massachusetts</th><td> 5814</td><td>4755</td><td>1.1</td><td>71.83</td><td> 3.3</td><td>58.5</td><td>103</td><td>  7826</td></tr>\n",
       "\t<tr><th scope=row>Michigan</th><td> 9111</td><td>4751</td><td>0.9</td><td>70.63</td><td>11.1</td><td>52.8</td><td>125</td><td> 56817</td></tr>\n",
       "\t<tr><th scope=row>Minnesota</th><td> 3921</td><td>4675</td><td>0.6</td><td>72.96</td><td> 2.3</td><td>57.6</td><td>160</td><td> 79289</td></tr>\n",
       "\t<tr><th scope=row>Mississippi</th><td> 2341</td><td>3098</td><td>2.4</td><td>68.09</td><td>12.5</td><td>41.0</td><td> 50</td><td> 47296</td></tr>\n",
       "\t<tr><th scope=row>Missouri</th><td> 4767</td><td>4254</td><td>0.8</td><td>70.69</td><td> 9.3</td><td>48.8</td><td>108</td><td> 68995</td></tr>\n",
       "\t<tr><th scope=row>Montana</th><td>  746</td><td>4347</td><td>0.6</td><td>70.56</td><td> 5.0</td><td>59.2</td><td>155</td><td>145587</td></tr>\n",
       "\t<tr><th scope=row>Nebraska</th><td> 1544</td><td>4508</td><td>0.6</td><td>72.60</td><td> 2.9</td><td>59.3</td><td>139</td><td> 76483</td></tr>\n",
       "\t<tr><th scope=row>Nevada</th><td>  590</td><td>5149</td><td>0.5</td><td>69.03</td><td>11.5</td><td>65.2</td><td>188</td><td>109889</td></tr>\n",
       "\t<tr><th scope=row>New Hampshire</th><td>  812</td><td>4281</td><td>0.7</td><td>71.23</td><td> 3.3</td><td>57.6</td><td>174</td><td>  9027</td></tr>\n",
       "\t<tr><th scope=row>New Jersey</th><td> 7333</td><td>5237</td><td>1.1</td><td>70.93</td><td> 5.2</td><td>52.5</td><td>115</td><td>  7521</td></tr>\n",
       "\t<tr><th scope=row>New Mexico</th><td> 1144</td><td>3601</td><td>2.2</td><td>70.32</td><td> 9.7</td><td>55.2</td><td>120</td><td>121412</td></tr>\n",
       "\t<tr><th scope=row>New York</th><td>18076</td><td>4903</td><td>1.4</td><td>70.55</td><td>10.9</td><td>52.7</td><td> 82</td><td> 47831</td></tr>\n",
       "\t<tr><th scope=row>North Carolina</th><td> 5441</td><td>3875</td><td>1.8</td><td>69.21</td><td>11.1</td><td>38.5</td><td> 80</td><td> 48798</td></tr>\n",
       "\t<tr><th scope=row>North Dakota</th><td>  637</td><td>5087</td><td>0.8</td><td>72.78</td><td> 1.4</td><td>50.3</td><td>186</td><td> 69273</td></tr>\n",
       "\t<tr><th scope=row>Ohio</th><td>10735</td><td>4561</td><td>0.8</td><td>70.82</td><td> 7.4</td><td>53.2</td><td>124</td><td> 40975</td></tr>\n",
       "\t<tr><th scope=row>Oklahoma</th><td> 2715</td><td>3983</td><td>1.1</td><td>71.42</td><td> 6.4</td><td>51.6</td><td> 82</td><td> 68782</td></tr>\n",
       "\t<tr><th scope=row>Oregon</th><td> 2284</td><td>4660</td><td>0.6</td><td>72.13</td><td> 4.2</td><td>60.0</td><td> 44</td><td> 96184</td></tr>\n",
       "\t<tr><th scope=row>Pennsylvania</th><td>11860</td><td>4449</td><td>1.0</td><td>70.43</td><td> 6.1</td><td>50.2</td><td>126</td><td> 44966</td></tr>\n",
       "\t<tr><th scope=row>Rhode Island</th><td>  931</td><td>4558</td><td>1.3</td><td>71.90</td><td> 2.4</td><td>46.4</td><td>127</td><td>  1049</td></tr>\n",
       "\t<tr><th scope=row>South Carolina</th><td> 2816</td><td>3635</td><td>2.3</td><td>67.96</td><td>11.6</td><td>37.8</td><td> 65</td><td> 30225</td></tr>\n",
       "\t<tr><th scope=row>South Dakota</th><td>  681</td><td>4167</td><td>0.5</td><td>72.08</td><td> 1.7</td><td>53.3</td><td>172</td><td> 75955</td></tr>\n",
       "\t<tr><th scope=row>Tennessee</th><td> 4173</td><td>3821</td><td>1.7</td><td>70.11</td><td>11.0</td><td>41.8</td><td> 70</td><td> 41328</td></tr>\n",
       "\t<tr><th scope=row>Texas</th><td>12237</td><td>4188</td><td>2.2</td><td>70.90</td><td>12.2</td><td>47.4</td><td> 35</td><td>262134</td></tr>\n",
       "\t<tr><th scope=row>Utah</th><td> 1203</td><td>4022</td><td>0.6</td><td>72.90</td><td> 4.5</td><td>67.3</td><td>137</td><td> 82096</td></tr>\n",
       "\t<tr><th scope=row>Vermont</th><td>  472</td><td>3907</td><td>0.6</td><td>71.64</td><td> 5.5</td><td>57.1</td><td>168</td><td>  9267</td></tr>\n",
       "\t<tr><th scope=row>Virginia</th><td> 4981</td><td>4701</td><td>1.4</td><td>70.08</td><td> 9.5</td><td>47.8</td><td> 85</td><td> 39780</td></tr>\n",
       "\t<tr><th scope=row>Washington</th><td> 3559</td><td>4864</td><td>0.6</td><td>71.72</td><td> 4.3</td><td>63.5</td><td> 32</td><td> 66570</td></tr>\n",
       "\t<tr><th scope=row>West Virginia</th><td> 1799</td><td>3617</td><td>1.4</td><td>69.48</td><td> 6.7</td><td>41.6</td><td>100</td><td> 24070</td></tr>\n",
       "\t<tr><th scope=row>Wisconsin</th><td> 4589</td><td>4468</td><td>0.7</td><td>72.48</td><td> 3.0</td><td>54.5</td><td>149</td><td> 54464</td></tr>\n",
       "\t<tr><th scope=row>Wyoming</th><td>  376</td><td>4566</td><td>0.6</td><td>70.29</td><td> 6.9</td><td>62.9</td><td>173</td><td> 97203</td></tr>\n",
       "</tbody>\n",
       "</table>\n"
      ],
      "text/latex": [
       "A data.frame: 50 × 8\n",
       "\\begin{tabular}{r|llllllll}\n",
       "  & Population & Income & Illiteracy & Life.Exp & Murder & HS.Grad & Frost & Area\\\\\n",
       "  & <dbl> & <dbl> & <dbl> & <dbl> & <dbl> & <dbl> & <dbl> & <dbl>\\\\\n",
       "\\hline\n",
       "\tAlabama &  3615 & 3624 & 2.1 & 69.05 & 15.1 & 41.3 &  20 &  50708\\\\\n",
       "\tAlaska &   365 & 6315 & 1.5 & 69.31 & 11.3 & 66.7 & 152 & 566432\\\\\n",
       "\tArizona &  2212 & 4530 & 1.8 & 70.55 &  7.8 & 58.1 &  15 & 113417\\\\\n",
       "\tArkansas &  2110 & 3378 & 1.9 & 70.66 & 10.1 & 39.9 &  65 &  51945\\\\\n",
       "\tCalifornia & 21198 & 5114 & 1.1 & 71.71 & 10.3 & 62.6 &  20 & 156361\\\\\n",
       "\tColorado &  2541 & 4884 & 0.7 & 72.06 &  6.8 & 63.9 & 166 & 103766\\\\\n",
       "\tConnecticut &  3100 & 5348 & 1.1 & 72.48 &  3.1 & 56.0 & 139 &   4862\\\\\n",
       "\tDelaware &   579 & 4809 & 0.9 & 70.06 &  6.2 & 54.6 & 103 &   1982\\\\\n",
       "\tFlorida &  8277 & 4815 & 1.3 & 70.66 & 10.7 & 52.6 &  11 &  54090\\\\\n",
       "\tGeorgia &  4931 & 4091 & 2.0 & 68.54 & 13.9 & 40.6 &  60 &  58073\\\\\n",
       "\tHawaii &   868 & 4963 & 1.9 & 73.60 &  6.2 & 61.9 &   0 &   6425\\\\\n",
       "\tIdaho &   813 & 4119 & 0.6 & 71.87 &  5.3 & 59.5 & 126 &  82677\\\\\n",
       "\tIllinois & 11197 & 5107 & 0.9 & 70.14 & 10.3 & 52.6 & 127 &  55748\\\\\n",
       "\tIndiana &  5313 & 4458 & 0.7 & 70.88 &  7.1 & 52.9 & 122 &  36097\\\\\n",
       "\tIowa &  2861 & 4628 & 0.5 & 72.56 &  2.3 & 59.0 & 140 &  55941\\\\\n",
       "\tKansas &  2280 & 4669 & 0.6 & 72.58 &  4.5 & 59.9 & 114 &  81787\\\\\n",
       "\tKentucky &  3387 & 3712 & 1.6 & 70.10 & 10.6 & 38.5 &  95 &  39650\\\\\n",
       "\tLouisiana &  3806 & 3545 & 2.8 & 68.76 & 13.2 & 42.2 &  12 &  44930\\\\\n",
       "\tMaine &  1058 & 3694 & 0.7 & 70.39 &  2.7 & 54.7 & 161 &  30920\\\\\n",
       "\tMaryland &  4122 & 5299 & 0.9 & 70.22 &  8.5 & 52.3 & 101 &   9891\\\\\n",
       "\tMassachusetts &  5814 & 4755 & 1.1 & 71.83 &  3.3 & 58.5 & 103 &   7826\\\\\n",
       "\tMichigan &  9111 & 4751 & 0.9 & 70.63 & 11.1 & 52.8 & 125 &  56817\\\\\n",
       "\tMinnesota &  3921 & 4675 & 0.6 & 72.96 &  2.3 & 57.6 & 160 &  79289\\\\\n",
       "\tMississippi &  2341 & 3098 & 2.4 & 68.09 & 12.5 & 41.0 &  50 &  47296\\\\\n",
       "\tMissouri &  4767 & 4254 & 0.8 & 70.69 &  9.3 & 48.8 & 108 &  68995\\\\\n",
       "\tMontana &   746 & 4347 & 0.6 & 70.56 &  5.0 & 59.2 & 155 & 145587\\\\\n",
       "\tNebraska &  1544 & 4508 & 0.6 & 72.60 &  2.9 & 59.3 & 139 &  76483\\\\\n",
       "\tNevada &   590 & 5149 & 0.5 & 69.03 & 11.5 & 65.2 & 188 & 109889\\\\\n",
       "\tNew Hampshire &   812 & 4281 & 0.7 & 71.23 &  3.3 & 57.6 & 174 &   9027\\\\\n",
       "\tNew Jersey &  7333 & 5237 & 1.1 & 70.93 &  5.2 & 52.5 & 115 &   7521\\\\\n",
       "\tNew Mexico &  1144 & 3601 & 2.2 & 70.32 &  9.7 & 55.2 & 120 & 121412\\\\\n",
       "\tNew York & 18076 & 4903 & 1.4 & 70.55 & 10.9 & 52.7 &  82 &  47831\\\\\n",
       "\tNorth Carolina &  5441 & 3875 & 1.8 & 69.21 & 11.1 & 38.5 &  80 &  48798\\\\\n",
       "\tNorth Dakota &   637 & 5087 & 0.8 & 72.78 &  1.4 & 50.3 & 186 &  69273\\\\\n",
       "\tOhio & 10735 & 4561 & 0.8 & 70.82 &  7.4 & 53.2 & 124 &  40975\\\\\n",
       "\tOklahoma &  2715 & 3983 & 1.1 & 71.42 &  6.4 & 51.6 &  82 &  68782\\\\\n",
       "\tOregon &  2284 & 4660 & 0.6 & 72.13 &  4.2 & 60.0 &  44 &  96184\\\\\n",
       "\tPennsylvania & 11860 & 4449 & 1.0 & 70.43 &  6.1 & 50.2 & 126 &  44966\\\\\n",
       "\tRhode Island &   931 & 4558 & 1.3 & 71.90 &  2.4 & 46.4 & 127 &   1049\\\\\n",
       "\tSouth Carolina &  2816 & 3635 & 2.3 & 67.96 & 11.6 & 37.8 &  65 &  30225\\\\\n",
       "\tSouth Dakota &   681 & 4167 & 0.5 & 72.08 &  1.7 & 53.3 & 172 &  75955\\\\\n",
       "\tTennessee &  4173 & 3821 & 1.7 & 70.11 & 11.0 & 41.8 &  70 &  41328\\\\\n",
       "\tTexas & 12237 & 4188 & 2.2 & 70.90 & 12.2 & 47.4 &  35 & 262134\\\\\n",
       "\tUtah &  1203 & 4022 & 0.6 & 72.90 &  4.5 & 67.3 & 137 &  82096\\\\\n",
       "\tVermont &   472 & 3907 & 0.6 & 71.64 &  5.5 & 57.1 & 168 &   9267\\\\\n",
       "\tVirginia &  4981 & 4701 & 1.4 & 70.08 &  9.5 & 47.8 &  85 &  39780\\\\\n",
       "\tWashington &  3559 & 4864 & 0.6 & 71.72 &  4.3 & 63.5 &  32 &  66570\\\\\n",
       "\tWest Virginia &  1799 & 3617 & 1.4 & 69.48 &  6.7 & 41.6 & 100 &  24070\\\\\n",
       "\tWisconsin &  4589 & 4468 & 0.7 & 72.48 &  3.0 & 54.5 & 149 &  54464\\\\\n",
       "\tWyoming &   376 & 4566 & 0.6 & 70.29 &  6.9 & 62.9 & 173 &  97203\\\\\n",
       "\\end{tabular}\n"
      ],
      "text/markdown": [
       "\n",
       "A data.frame: 50 × 8\n",
       "\n",
       "| <!--/--> | Population &lt;dbl&gt; | Income &lt;dbl&gt; | Illiteracy &lt;dbl&gt; | Life.Exp &lt;dbl&gt; | Murder &lt;dbl&gt; | HS.Grad &lt;dbl&gt; | Frost &lt;dbl&gt; | Area &lt;dbl&gt; |\n",
       "|---|---|---|---|---|---|---|---|---|\n",
       "| Alabama |  3615 | 3624 | 2.1 | 69.05 | 15.1 | 41.3 |  20 |  50708 |\n",
       "| Alaska |   365 | 6315 | 1.5 | 69.31 | 11.3 | 66.7 | 152 | 566432 |\n",
       "| Arizona |  2212 | 4530 | 1.8 | 70.55 |  7.8 | 58.1 |  15 | 113417 |\n",
       "| Arkansas |  2110 | 3378 | 1.9 | 70.66 | 10.1 | 39.9 |  65 |  51945 |\n",
       "| California | 21198 | 5114 | 1.1 | 71.71 | 10.3 | 62.6 |  20 | 156361 |\n",
       "| Colorado |  2541 | 4884 | 0.7 | 72.06 |  6.8 | 63.9 | 166 | 103766 |\n",
       "| Connecticut |  3100 | 5348 | 1.1 | 72.48 |  3.1 | 56.0 | 139 |   4862 |\n",
       "| Delaware |   579 | 4809 | 0.9 | 70.06 |  6.2 | 54.6 | 103 |   1982 |\n",
       "| Florida |  8277 | 4815 | 1.3 | 70.66 | 10.7 | 52.6 |  11 |  54090 |\n",
       "| Georgia |  4931 | 4091 | 2.0 | 68.54 | 13.9 | 40.6 |  60 |  58073 |\n",
       "| Hawaii |   868 | 4963 | 1.9 | 73.60 |  6.2 | 61.9 |   0 |   6425 |\n",
       "| Idaho |   813 | 4119 | 0.6 | 71.87 |  5.3 | 59.5 | 126 |  82677 |\n",
       "| Illinois | 11197 | 5107 | 0.9 | 70.14 | 10.3 | 52.6 | 127 |  55748 |\n",
       "| Indiana |  5313 | 4458 | 0.7 | 70.88 |  7.1 | 52.9 | 122 |  36097 |\n",
       "| Iowa |  2861 | 4628 | 0.5 | 72.56 |  2.3 | 59.0 | 140 |  55941 |\n",
       "| Kansas |  2280 | 4669 | 0.6 | 72.58 |  4.5 | 59.9 | 114 |  81787 |\n",
       "| Kentucky |  3387 | 3712 | 1.6 | 70.10 | 10.6 | 38.5 |  95 |  39650 |\n",
       "| Louisiana |  3806 | 3545 | 2.8 | 68.76 | 13.2 | 42.2 |  12 |  44930 |\n",
       "| Maine |  1058 | 3694 | 0.7 | 70.39 |  2.7 | 54.7 | 161 |  30920 |\n",
       "| Maryland |  4122 | 5299 | 0.9 | 70.22 |  8.5 | 52.3 | 101 |   9891 |\n",
       "| Massachusetts |  5814 | 4755 | 1.1 | 71.83 |  3.3 | 58.5 | 103 |   7826 |\n",
       "| Michigan |  9111 | 4751 | 0.9 | 70.63 | 11.1 | 52.8 | 125 |  56817 |\n",
       "| Minnesota |  3921 | 4675 | 0.6 | 72.96 |  2.3 | 57.6 | 160 |  79289 |\n",
       "| Mississippi |  2341 | 3098 | 2.4 | 68.09 | 12.5 | 41.0 |  50 |  47296 |\n",
       "| Missouri |  4767 | 4254 | 0.8 | 70.69 |  9.3 | 48.8 | 108 |  68995 |\n",
       "| Montana |   746 | 4347 | 0.6 | 70.56 |  5.0 | 59.2 | 155 | 145587 |\n",
       "| Nebraska |  1544 | 4508 | 0.6 | 72.60 |  2.9 | 59.3 | 139 |  76483 |\n",
       "| Nevada |   590 | 5149 | 0.5 | 69.03 | 11.5 | 65.2 | 188 | 109889 |\n",
       "| New Hampshire |   812 | 4281 | 0.7 | 71.23 |  3.3 | 57.6 | 174 |   9027 |\n",
       "| New Jersey |  7333 | 5237 | 1.1 | 70.93 |  5.2 | 52.5 | 115 |   7521 |\n",
       "| New Mexico |  1144 | 3601 | 2.2 | 70.32 |  9.7 | 55.2 | 120 | 121412 |\n",
       "| New York | 18076 | 4903 | 1.4 | 70.55 | 10.9 | 52.7 |  82 |  47831 |\n",
       "| North Carolina |  5441 | 3875 | 1.8 | 69.21 | 11.1 | 38.5 |  80 |  48798 |\n",
       "| North Dakota |   637 | 5087 | 0.8 | 72.78 |  1.4 | 50.3 | 186 |  69273 |\n",
       "| Ohio | 10735 | 4561 | 0.8 | 70.82 |  7.4 | 53.2 | 124 |  40975 |\n",
       "| Oklahoma |  2715 | 3983 | 1.1 | 71.42 |  6.4 | 51.6 |  82 |  68782 |\n",
       "| Oregon |  2284 | 4660 | 0.6 | 72.13 |  4.2 | 60.0 |  44 |  96184 |\n",
       "| Pennsylvania | 11860 | 4449 | 1.0 | 70.43 |  6.1 | 50.2 | 126 |  44966 |\n",
       "| Rhode Island |   931 | 4558 | 1.3 | 71.90 |  2.4 | 46.4 | 127 |   1049 |\n",
       "| South Carolina |  2816 | 3635 | 2.3 | 67.96 | 11.6 | 37.8 |  65 |  30225 |\n",
       "| South Dakota |   681 | 4167 | 0.5 | 72.08 |  1.7 | 53.3 | 172 |  75955 |\n",
       "| Tennessee |  4173 | 3821 | 1.7 | 70.11 | 11.0 | 41.8 |  70 |  41328 |\n",
       "| Texas | 12237 | 4188 | 2.2 | 70.90 | 12.2 | 47.4 |  35 | 262134 |\n",
       "| Utah |  1203 | 4022 | 0.6 | 72.90 |  4.5 | 67.3 | 137 |  82096 |\n",
       "| Vermont |   472 | 3907 | 0.6 | 71.64 |  5.5 | 57.1 | 168 |   9267 |\n",
       "| Virginia |  4981 | 4701 | 1.4 | 70.08 |  9.5 | 47.8 |  85 |  39780 |\n",
       "| Washington |  3559 | 4864 | 0.6 | 71.72 |  4.3 | 63.5 |  32 |  66570 |\n",
       "| West Virginia |  1799 | 3617 | 1.4 | 69.48 |  6.7 | 41.6 | 100 |  24070 |\n",
       "| Wisconsin |  4589 | 4468 | 0.7 | 72.48 |  3.0 | 54.5 | 149 |  54464 |\n",
       "| Wyoming |   376 | 4566 | 0.6 | 70.29 |  6.9 | 62.9 | 173 |  97203 |\n",
       "\n"
      ],
      "text/plain": [
       "               Population Income Illiteracy Life.Exp Murder HS.Grad Frost\n",
       "Alabama         3615      3624   2.1        69.05    15.1   41.3     20  \n",
       "Alaska           365      6315   1.5        69.31    11.3   66.7    152  \n",
       "Arizona         2212      4530   1.8        70.55     7.8   58.1     15  \n",
       "Arkansas        2110      3378   1.9        70.66    10.1   39.9     65  \n",
       "California     21198      5114   1.1        71.71    10.3   62.6     20  \n",
       "Colorado        2541      4884   0.7        72.06     6.8   63.9    166  \n",
       "Connecticut     3100      5348   1.1        72.48     3.1   56.0    139  \n",
       "Delaware         579      4809   0.9        70.06     6.2   54.6    103  \n",
       "Florida         8277      4815   1.3        70.66    10.7   52.6     11  \n",
       "Georgia         4931      4091   2.0        68.54    13.9   40.6     60  \n",
       "Hawaii           868      4963   1.9        73.60     6.2   61.9      0  \n",
       "Idaho            813      4119   0.6        71.87     5.3   59.5    126  \n",
       "Illinois       11197      5107   0.9        70.14    10.3   52.6    127  \n",
       "Indiana         5313      4458   0.7        70.88     7.1   52.9    122  \n",
       "Iowa            2861      4628   0.5        72.56     2.3   59.0    140  \n",
       "Kansas          2280      4669   0.6        72.58     4.5   59.9    114  \n",
       "Kentucky        3387      3712   1.6        70.10    10.6   38.5     95  \n",
       "Louisiana       3806      3545   2.8        68.76    13.2   42.2     12  \n",
       "Maine           1058      3694   0.7        70.39     2.7   54.7    161  \n",
       "Maryland        4122      5299   0.9        70.22     8.5   52.3    101  \n",
       "Massachusetts   5814      4755   1.1        71.83     3.3   58.5    103  \n",
       "Michigan        9111      4751   0.9        70.63    11.1   52.8    125  \n",
       "Minnesota       3921      4675   0.6        72.96     2.3   57.6    160  \n",
       "Mississippi     2341      3098   2.4        68.09    12.5   41.0     50  \n",
       "Missouri        4767      4254   0.8        70.69     9.3   48.8    108  \n",
       "Montana          746      4347   0.6        70.56     5.0   59.2    155  \n",
       "Nebraska        1544      4508   0.6        72.60     2.9   59.3    139  \n",
       "Nevada           590      5149   0.5        69.03    11.5   65.2    188  \n",
       "New Hampshire    812      4281   0.7        71.23     3.3   57.6    174  \n",
       "New Jersey      7333      5237   1.1        70.93     5.2   52.5    115  \n",
       "New Mexico      1144      3601   2.2        70.32     9.7   55.2    120  \n",
       "New York       18076      4903   1.4        70.55    10.9   52.7     82  \n",
       "North Carolina  5441      3875   1.8        69.21    11.1   38.5     80  \n",
       "North Dakota     637      5087   0.8        72.78     1.4   50.3    186  \n",
       "Ohio           10735      4561   0.8        70.82     7.4   53.2    124  \n",
       "Oklahoma        2715      3983   1.1        71.42     6.4   51.6     82  \n",
       "Oregon          2284      4660   0.6        72.13     4.2   60.0     44  \n",
       "Pennsylvania   11860      4449   1.0        70.43     6.1   50.2    126  \n",
       "Rhode Island     931      4558   1.3        71.90     2.4   46.4    127  \n",
       "South Carolina  2816      3635   2.3        67.96    11.6   37.8     65  \n",
       "South Dakota     681      4167   0.5        72.08     1.7   53.3    172  \n",
       "Tennessee       4173      3821   1.7        70.11    11.0   41.8     70  \n",
       "Texas          12237      4188   2.2        70.90    12.2   47.4     35  \n",
       "Utah            1203      4022   0.6        72.90     4.5   67.3    137  \n",
       "Vermont          472      3907   0.6        71.64     5.5   57.1    168  \n",
       "Virginia        4981      4701   1.4        70.08     9.5   47.8     85  \n",
       "Washington      3559      4864   0.6        71.72     4.3   63.5     32  \n",
       "West Virginia   1799      3617   1.4        69.48     6.7   41.6    100  \n",
       "Wisconsin       4589      4468   0.7        72.48     3.0   54.5    149  \n",
       "Wyoming          376      4566   0.6        70.29     6.9   62.9    173  \n",
       "               Area  \n",
       "Alabama         50708\n",
       "Alaska         566432\n",
       "Arizona        113417\n",
       "Arkansas        51945\n",
       "California     156361\n",
       "Colorado       103766\n",
       "Connecticut      4862\n",
       "Delaware         1982\n",
       "Florida         54090\n",
       "Georgia         58073\n",
       "Hawaii           6425\n",
       "Idaho           82677\n",
       "Illinois        55748\n",
       "Indiana         36097\n",
       "Iowa            55941\n",
       "Kansas          81787\n",
       "Kentucky        39650\n",
       "Louisiana       44930\n",
       "Maine           30920\n",
       "Maryland         9891\n",
       "Massachusetts    7826\n",
       "Michigan        56817\n",
       "Minnesota       79289\n",
       "Mississippi     47296\n",
       "Missouri        68995\n",
       "Montana        145587\n",
       "Nebraska        76483\n",
       "Nevada         109889\n",
       "New Hampshire    9027\n",
       "New Jersey       7521\n",
       "New Mexico     121412\n",
       "New York        47831\n",
       "North Carolina  48798\n",
       "North Dakota    69273\n",
       "Ohio            40975\n",
       "Oklahoma        68782\n",
       "Oregon          96184\n",
       "Pennsylvania    44966\n",
       "Rhode Island     1049\n",
       "South Carolina  30225\n",
       "South Dakota    75955\n",
       "Tennessee       41328\n",
       "Texas          262134\n",
       "Utah            82096\n",
       "Vermont          9267\n",
       "Virginia        39780\n",
       "Washington      66570\n",
       "West Virginia   24070\n",
       "Wisconsin       54464\n",
       "Wyoming         97203"
      ]
     },
     "metadata": {},
     "output_type": "display_data"
    }
   ],
   "source": [
    "st = data.frame(state.x77)\n",
    "st"
   ]
  },
  {
   "cell_type": "code",
   "execution_count": 8,
   "id": "03568501",
   "metadata": {},
   "outputs": [],
   "source": [
    "st = data.frame(st, stname=rownames(st))"
   ]
  },
  {
   "cell_type": "code",
   "execution_count": 9,
   "id": "f96462a1",
   "metadata": {},
   "outputs": [
    {
     "data": {
      "text/html": [
       "<table class=\"dataframe\">\n",
       "<caption>A data.frame: 50 × 9</caption>\n",
       "<thead>\n",
       "\t<tr><th></th><th scope=col>Population</th><th scope=col>Income</th><th scope=col>Illiteracy</th><th scope=col>Life.Exp</th><th scope=col>Murder</th><th scope=col>HS.Grad</th><th scope=col>Frost</th><th scope=col>Area</th><th scope=col>stname</th></tr>\n",
       "\t<tr><th></th><th scope=col>&lt;dbl&gt;</th><th scope=col>&lt;dbl&gt;</th><th scope=col>&lt;dbl&gt;</th><th scope=col>&lt;dbl&gt;</th><th scope=col>&lt;dbl&gt;</th><th scope=col>&lt;dbl&gt;</th><th scope=col>&lt;dbl&gt;</th><th scope=col>&lt;dbl&gt;</th><th scope=col>&lt;chr&gt;</th></tr>\n",
       "</thead>\n",
       "<tbody>\n",
       "\t<tr><th scope=row>Alabama</th><td> 3615</td><td>3624</td><td>2.1</td><td>69.05</td><td>15.1</td><td>41.3</td><td> 20</td><td> 50708</td><td>Alabama       </td></tr>\n",
       "\t<tr><th scope=row>Alaska</th><td>  365</td><td>6315</td><td>1.5</td><td>69.31</td><td>11.3</td><td>66.7</td><td>152</td><td>566432</td><td>Alaska        </td></tr>\n",
       "\t<tr><th scope=row>Arizona</th><td> 2212</td><td>4530</td><td>1.8</td><td>70.55</td><td> 7.8</td><td>58.1</td><td> 15</td><td>113417</td><td>Arizona       </td></tr>\n",
       "\t<tr><th scope=row>Arkansas</th><td> 2110</td><td>3378</td><td>1.9</td><td>70.66</td><td>10.1</td><td>39.9</td><td> 65</td><td> 51945</td><td>Arkansas      </td></tr>\n",
       "\t<tr><th scope=row>California</th><td>21198</td><td>5114</td><td>1.1</td><td>71.71</td><td>10.3</td><td>62.6</td><td> 20</td><td>156361</td><td>California    </td></tr>\n",
       "\t<tr><th scope=row>Colorado</th><td> 2541</td><td>4884</td><td>0.7</td><td>72.06</td><td> 6.8</td><td>63.9</td><td>166</td><td>103766</td><td>Colorado      </td></tr>\n",
       "\t<tr><th scope=row>Connecticut</th><td> 3100</td><td>5348</td><td>1.1</td><td>72.48</td><td> 3.1</td><td>56.0</td><td>139</td><td>  4862</td><td>Connecticut   </td></tr>\n",
       "\t<tr><th scope=row>Delaware</th><td>  579</td><td>4809</td><td>0.9</td><td>70.06</td><td> 6.2</td><td>54.6</td><td>103</td><td>  1982</td><td>Delaware      </td></tr>\n",
       "\t<tr><th scope=row>Florida</th><td> 8277</td><td>4815</td><td>1.3</td><td>70.66</td><td>10.7</td><td>52.6</td><td> 11</td><td> 54090</td><td>Florida       </td></tr>\n",
       "\t<tr><th scope=row>Georgia</th><td> 4931</td><td>4091</td><td>2.0</td><td>68.54</td><td>13.9</td><td>40.6</td><td> 60</td><td> 58073</td><td>Georgia       </td></tr>\n",
       "\t<tr><th scope=row>Hawaii</th><td>  868</td><td>4963</td><td>1.9</td><td>73.60</td><td> 6.2</td><td>61.9</td><td>  0</td><td>  6425</td><td>Hawaii        </td></tr>\n",
       "\t<tr><th scope=row>Idaho</th><td>  813</td><td>4119</td><td>0.6</td><td>71.87</td><td> 5.3</td><td>59.5</td><td>126</td><td> 82677</td><td>Idaho         </td></tr>\n",
       "\t<tr><th scope=row>Illinois</th><td>11197</td><td>5107</td><td>0.9</td><td>70.14</td><td>10.3</td><td>52.6</td><td>127</td><td> 55748</td><td>Illinois      </td></tr>\n",
       "\t<tr><th scope=row>Indiana</th><td> 5313</td><td>4458</td><td>0.7</td><td>70.88</td><td> 7.1</td><td>52.9</td><td>122</td><td> 36097</td><td>Indiana       </td></tr>\n",
       "\t<tr><th scope=row>Iowa</th><td> 2861</td><td>4628</td><td>0.5</td><td>72.56</td><td> 2.3</td><td>59.0</td><td>140</td><td> 55941</td><td>Iowa          </td></tr>\n",
       "\t<tr><th scope=row>Kansas</th><td> 2280</td><td>4669</td><td>0.6</td><td>72.58</td><td> 4.5</td><td>59.9</td><td>114</td><td> 81787</td><td>Kansas        </td></tr>\n",
       "\t<tr><th scope=row>Kentucky</th><td> 3387</td><td>3712</td><td>1.6</td><td>70.10</td><td>10.6</td><td>38.5</td><td> 95</td><td> 39650</td><td>Kentucky      </td></tr>\n",
       "\t<tr><th scope=row>Louisiana</th><td> 3806</td><td>3545</td><td>2.8</td><td>68.76</td><td>13.2</td><td>42.2</td><td> 12</td><td> 44930</td><td>Louisiana     </td></tr>\n",
       "\t<tr><th scope=row>Maine</th><td> 1058</td><td>3694</td><td>0.7</td><td>70.39</td><td> 2.7</td><td>54.7</td><td>161</td><td> 30920</td><td>Maine         </td></tr>\n",
       "\t<tr><th scope=row>Maryland</th><td> 4122</td><td>5299</td><td>0.9</td><td>70.22</td><td> 8.5</td><td>52.3</td><td>101</td><td>  9891</td><td>Maryland      </td></tr>\n",
       "\t<tr><th scope=row>Massachusetts</th><td> 5814</td><td>4755</td><td>1.1</td><td>71.83</td><td> 3.3</td><td>58.5</td><td>103</td><td>  7826</td><td>Massachusetts </td></tr>\n",
       "\t<tr><th scope=row>Michigan</th><td> 9111</td><td>4751</td><td>0.9</td><td>70.63</td><td>11.1</td><td>52.8</td><td>125</td><td> 56817</td><td>Michigan      </td></tr>\n",
       "\t<tr><th scope=row>Minnesota</th><td> 3921</td><td>4675</td><td>0.6</td><td>72.96</td><td> 2.3</td><td>57.6</td><td>160</td><td> 79289</td><td>Minnesota     </td></tr>\n",
       "\t<tr><th scope=row>Mississippi</th><td> 2341</td><td>3098</td><td>2.4</td><td>68.09</td><td>12.5</td><td>41.0</td><td> 50</td><td> 47296</td><td>Mississippi   </td></tr>\n",
       "\t<tr><th scope=row>Missouri</th><td> 4767</td><td>4254</td><td>0.8</td><td>70.69</td><td> 9.3</td><td>48.8</td><td>108</td><td> 68995</td><td>Missouri      </td></tr>\n",
       "\t<tr><th scope=row>Montana</th><td>  746</td><td>4347</td><td>0.6</td><td>70.56</td><td> 5.0</td><td>59.2</td><td>155</td><td>145587</td><td>Montana       </td></tr>\n",
       "\t<tr><th scope=row>Nebraska</th><td> 1544</td><td>4508</td><td>0.6</td><td>72.60</td><td> 2.9</td><td>59.3</td><td>139</td><td> 76483</td><td>Nebraska      </td></tr>\n",
       "\t<tr><th scope=row>Nevada</th><td>  590</td><td>5149</td><td>0.5</td><td>69.03</td><td>11.5</td><td>65.2</td><td>188</td><td>109889</td><td>Nevada        </td></tr>\n",
       "\t<tr><th scope=row>New Hampshire</th><td>  812</td><td>4281</td><td>0.7</td><td>71.23</td><td> 3.3</td><td>57.6</td><td>174</td><td>  9027</td><td>New Hampshire </td></tr>\n",
       "\t<tr><th scope=row>New Jersey</th><td> 7333</td><td>5237</td><td>1.1</td><td>70.93</td><td> 5.2</td><td>52.5</td><td>115</td><td>  7521</td><td>New Jersey    </td></tr>\n",
       "\t<tr><th scope=row>New Mexico</th><td> 1144</td><td>3601</td><td>2.2</td><td>70.32</td><td> 9.7</td><td>55.2</td><td>120</td><td>121412</td><td>New Mexico    </td></tr>\n",
       "\t<tr><th scope=row>New York</th><td>18076</td><td>4903</td><td>1.4</td><td>70.55</td><td>10.9</td><td>52.7</td><td> 82</td><td> 47831</td><td>New York      </td></tr>\n",
       "\t<tr><th scope=row>North Carolina</th><td> 5441</td><td>3875</td><td>1.8</td><td>69.21</td><td>11.1</td><td>38.5</td><td> 80</td><td> 48798</td><td>North Carolina</td></tr>\n",
       "\t<tr><th scope=row>North Dakota</th><td>  637</td><td>5087</td><td>0.8</td><td>72.78</td><td> 1.4</td><td>50.3</td><td>186</td><td> 69273</td><td>North Dakota  </td></tr>\n",
       "\t<tr><th scope=row>Ohio</th><td>10735</td><td>4561</td><td>0.8</td><td>70.82</td><td> 7.4</td><td>53.2</td><td>124</td><td> 40975</td><td>Ohio          </td></tr>\n",
       "\t<tr><th scope=row>Oklahoma</th><td> 2715</td><td>3983</td><td>1.1</td><td>71.42</td><td> 6.4</td><td>51.6</td><td> 82</td><td> 68782</td><td>Oklahoma      </td></tr>\n",
       "\t<tr><th scope=row>Oregon</th><td> 2284</td><td>4660</td><td>0.6</td><td>72.13</td><td> 4.2</td><td>60.0</td><td> 44</td><td> 96184</td><td>Oregon        </td></tr>\n",
       "\t<tr><th scope=row>Pennsylvania</th><td>11860</td><td>4449</td><td>1.0</td><td>70.43</td><td> 6.1</td><td>50.2</td><td>126</td><td> 44966</td><td>Pennsylvania  </td></tr>\n",
       "\t<tr><th scope=row>Rhode Island</th><td>  931</td><td>4558</td><td>1.3</td><td>71.90</td><td> 2.4</td><td>46.4</td><td>127</td><td>  1049</td><td>Rhode Island  </td></tr>\n",
       "\t<tr><th scope=row>South Carolina</th><td> 2816</td><td>3635</td><td>2.3</td><td>67.96</td><td>11.6</td><td>37.8</td><td> 65</td><td> 30225</td><td>South Carolina</td></tr>\n",
       "\t<tr><th scope=row>South Dakota</th><td>  681</td><td>4167</td><td>0.5</td><td>72.08</td><td> 1.7</td><td>53.3</td><td>172</td><td> 75955</td><td>South Dakota  </td></tr>\n",
       "\t<tr><th scope=row>Tennessee</th><td> 4173</td><td>3821</td><td>1.7</td><td>70.11</td><td>11.0</td><td>41.8</td><td> 70</td><td> 41328</td><td>Tennessee     </td></tr>\n",
       "\t<tr><th scope=row>Texas</th><td>12237</td><td>4188</td><td>2.2</td><td>70.90</td><td>12.2</td><td>47.4</td><td> 35</td><td>262134</td><td>Texas         </td></tr>\n",
       "\t<tr><th scope=row>Utah</th><td> 1203</td><td>4022</td><td>0.6</td><td>72.90</td><td> 4.5</td><td>67.3</td><td>137</td><td> 82096</td><td>Utah          </td></tr>\n",
       "\t<tr><th scope=row>Vermont</th><td>  472</td><td>3907</td><td>0.6</td><td>71.64</td><td> 5.5</td><td>57.1</td><td>168</td><td>  9267</td><td>Vermont       </td></tr>\n",
       "\t<tr><th scope=row>Virginia</th><td> 4981</td><td>4701</td><td>1.4</td><td>70.08</td><td> 9.5</td><td>47.8</td><td> 85</td><td> 39780</td><td>Virginia      </td></tr>\n",
       "\t<tr><th scope=row>Washington</th><td> 3559</td><td>4864</td><td>0.6</td><td>71.72</td><td> 4.3</td><td>63.5</td><td> 32</td><td> 66570</td><td>Washington    </td></tr>\n",
       "\t<tr><th scope=row>West Virginia</th><td> 1799</td><td>3617</td><td>1.4</td><td>69.48</td><td> 6.7</td><td>41.6</td><td>100</td><td> 24070</td><td>West Virginia </td></tr>\n",
       "\t<tr><th scope=row>Wisconsin</th><td> 4589</td><td>4468</td><td>0.7</td><td>72.48</td><td> 3.0</td><td>54.5</td><td>149</td><td> 54464</td><td>Wisconsin     </td></tr>\n",
       "\t<tr><th scope=row>Wyoming</th><td>  376</td><td>4566</td><td>0.6</td><td>70.29</td><td> 6.9</td><td>62.9</td><td>173</td><td> 97203</td><td>Wyoming       </td></tr>\n",
       "</tbody>\n",
       "</table>\n"
      ],
      "text/latex": [
       "A data.frame: 50 × 9\n",
       "\\begin{tabular}{r|lllllllll}\n",
       "  & Population & Income & Illiteracy & Life.Exp & Murder & HS.Grad & Frost & Area & stname\\\\\n",
       "  & <dbl> & <dbl> & <dbl> & <dbl> & <dbl> & <dbl> & <dbl> & <dbl> & <chr>\\\\\n",
       "\\hline\n",
       "\tAlabama &  3615 & 3624 & 2.1 & 69.05 & 15.1 & 41.3 &  20 &  50708 & Alabama       \\\\\n",
       "\tAlaska &   365 & 6315 & 1.5 & 69.31 & 11.3 & 66.7 & 152 & 566432 & Alaska        \\\\\n",
       "\tArizona &  2212 & 4530 & 1.8 & 70.55 &  7.8 & 58.1 &  15 & 113417 & Arizona       \\\\\n",
       "\tArkansas &  2110 & 3378 & 1.9 & 70.66 & 10.1 & 39.9 &  65 &  51945 & Arkansas      \\\\\n",
       "\tCalifornia & 21198 & 5114 & 1.1 & 71.71 & 10.3 & 62.6 &  20 & 156361 & California    \\\\\n",
       "\tColorado &  2541 & 4884 & 0.7 & 72.06 &  6.8 & 63.9 & 166 & 103766 & Colorado      \\\\\n",
       "\tConnecticut &  3100 & 5348 & 1.1 & 72.48 &  3.1 & 56.0 & 139 &   4862 & Connecticut   \\\\\n",
       "\tDelaware &   579 & 4809 & 0.9 & 70.06 &  6.2 & 54.6 & 103 &   1982 & Delaware      \\\\\n",
       "\tFlorida &  8277 & 4815 & 1.3 & 70.66 & 10.7 & 52.6 &  11 &  54090 & Florida       \\\\\n",
       "\tGeorgia &  4931 & 4091 & 2.0 & 68.54 & 13.9 & 40.6 &  60 &  58073 & Georgia       \\\\\n",
       "\tHawaii &   868 & 4963 & 1.9 & 73.60 &  6.2 & 61.9 &   0 &   6425 & Hawaii        \\\\\n",
       "\tIdaho &   813 & 4119 & 0.6 & 71.87 &  5.3 & 59.5 & 126 &  82677 & Idaho         \\\\\n",
       "\tIllinois & 11197 & 5107 & 0.9 & 70.14 & 10.3 & 52.6 & 127 &  55748 & Illinois      \\\\\n",
       "\tIndiana &  5313 & 4458 & 0.7 & 70.88 &  7.1 & 52.9 & 122 &  36097 & Indiana       \\\\\n",
       "\tIowa &  2861 & 4628 & 0.5 & 72.56 &  2.3 & 59.0 & 140 &  55941 & Iowa          \\\\\n",
       "\tKansas &  2280 & 4669 & 0.6 & 72.58 &  4.5 & 59.9 & 114 &  81787 & Kansas        \\\\\n",
       "\tKentucky &  3387 & 3712 & 1.6 & 70.10 & 10.6 & 38.5 &  95 &  39650 & Kentucky      \\\\\n",
       "\tLouisiana &  3806 & 3545 & 2.8 & 68.76 & 13.2 & 42.2 &  12 &  44930 & Louisiana     \\\\\n",
       "\tMaine &  1058 & 3694 & 0.7 & 70.39 &  2.7 & 54.7 & 161 &  30920 & Maine         \\\\\n",
       "\tMaryland &  4122 & 5299 & 0.9 & 70.22 &  8.5 & 52.3 & 101 &   9891 & Maryland      \\\\\n",
       "\tMassachusetts &  5814 & 4755 & 1.1 & 71.83 &  3.3 & 58.5 & 103 &   7826 & Massachusetts \\\\\n",
       "\tMichigan &  9111 & 4751 & 0.9 & 70.63 & 11.1 & 52.8 & 125 &  56817 & Michigan      \\\\\n",
       "\tMinnesota &  3921 & 4675 & 0.6 & 72.96 &  2.3 & 57.6 & 160 &  79289 & Minnesota     \\\\\n",
       "\tMississippi &  2341 & 3098 & 2.4 & 68.09 & 12.5 & 41.0 &  50 &  47296 & Mississippi   \\\\\n",
       "\tMissouri &  4767 & 4254 & 0.8 & 70.69 &  9.3 & 48.8 & 108 &  68995 & Missouri      \\\\\n",
       "\tMontana &   746 & 4347 & 0.6 & 70.56 &  5.0 & 59.2 & 155 & 145587 & Montana       \\\\\n",
       "\tNebraska &  1544 & 4508 & 0.6 & 72.60 &  2.9 & 59.3 & 139 &  76483 & Nebraska      \\\\\n",
       "\tNevada &   590 & 5149 & 0.5 & 69.03 & 11.5 & 65.2 & 188 & 109889 & Nevada        \\\\\n",
       "\tNew Hampshire &   812 & 4281 & 0.7 & 71.23 &  3.3 & 57.6 & 174 &   9027 & New Hampshire \\\\\n",
       "\tNew Jersey &  7333 & 5237 & 1.1 & 70.93 &  5.2 & 52.5 & 115 &   7521 & New Jersey    \\\\\n",
       "\tNew Mexico &  1144 & 3601 & 2.2 & 70.32 &  9.7 & 55.2 & 120 & 121412 & New Mexico    \\\\\n",
       "\tNew York & 18076 & 4903 & 1.4 & 70.55 & 10.9 & 52.7 &  82 &  47831 & New York      \\\\\n",
       "\tNorth Carolina &  5441 & 3875 & 1.8 & 69.21 & 11.1 & 38.5 &  80 &  48798 & North Carolina\\\\\n",
       "\tNorth Dakota &   637 & 5087 & 0.8 & 72.78 &  1.4 & 50.3 & 186 &  69273 & North Dakota  \\\\\n",
       "\tOhio & 10735 & 4561 & 0.8 & 70.82 &  7.4 & 53.2 & 124 &  40975 & Ohio          \\\\\n",
       "\tOklahoma &  2715 & 3983 & 1.1 & 71.42 &  6.4 & 51.6 &  82 &  68782 & Oklahoma      \\\\\n",
       "\tOregon &  2284 & 4660 & 0.6 & 72.13 &  4.2 & 60.0 &  44 &  96184 & Oregon        \\\\\n",
       "\tPennsylvania & 11860 & 4449 & 1.0 & 70.43 &  6.1 & 50.2 & 126 &  44966 & Pennsylvania  \\\\\n",
       "\tRhode Island &   931 & 4558 & 1.3 & 71.90 &  2.4 & 46.4 & 127 &   1049 & Rhode Island  \\\\\n",
       "\tSouth Carolina &  2816 & 3635 & 2.3 & 67.96 & 11.6 & 37.8 &  65 &  30225 & South Carolina\\\\\n",
       "\tSouth Dakota &   681 & 4167 & 0.5 & 72.08 &  1.7 & 53.3 & 172 &  75955 & South Dakota  \\\\\n",
       "\tTennessee &  4173 & 3821 & 1.7 & 70.11 & 11.0 & 41.8 &  70 &  41328 & Tennessee     \\\\\n",
       "\tTexas & 12237 & 4188 & 2.2 & 70.90 & 12.2 & 47.4 &  35 & 262134 & Texas         \\\\\n",
       "\tUtah &  1203 & 4022 & 0.6 & 72.90 &  4.5 & 67.3 & 137 &  82096 & Utah          \\\\\n",
       "\tVermont &   472 & 3907 & 0.6 & 71.64 &  5.5 & 57.1 & 168 &   9267 & Vermont       \\\\\n",
       "\tVirginia &  4981 & 4701 & 1.4 & 70.08 &  9.5 & 47.8 &  85 &  39780 & Virginia      \\\\\n",
       "\tWashington &  3559 & 4864 & 0.6 & 71.72 &  4.3 & 63.5 &  32 &  66570 & Washington    \\\\\n",
       "\tWest Virginia &  1799 & 3617 & 1.4 & 69.48 &  6.7 & 41.6 & 100 &  24070 & West Virginia \\\\\n",
       "\tWisconsin &  4589 & 4468 & 0.7 & 72.48 &  3.0 & 54.5 & 149 &  54464 & Wisconsin     \\\\\n",
       "\tWyoming &   376 & 4566 & 0.6 & 70.29 &  6.9 & 62.9 & 173 &  97203 & Wyoming       \\\\\n",
       "\\end{tabular}\n"
      ],
      "text/markdown": [
       "\n",
       "A data.frame: 50 × 9\n",
       "\n",
       "| <!--/--> | Population &lt;dbl&gt; | Income &lt;dbl&gt; | Illiteracy &lt;dbl&gt; | Life.Exp &lt;dbl&gt; | Murder &lt;dbl&gt; | HS.Grad &lt;dbl&gt; | Frost &lt;dbl&gt; | Area &lt;dbl&gt; | stname &lt;chr&gt; |\n",
       "|---|---|---|---|---|---|---|---|---|---|\n",
       "| Alabama |  3615 | 3624 | 2.1 | 69.05 | 15.1 | 41.3 |  20 |  50708 | Alabama        |\n",
       "| Alaska |   365 | 6315 | 1.5 | 69.31 | 11.3 | 66.7 | 152 | 566432 | Alaska         |\n",
       "| Arizona |  2212 | 4530 | 1.8 | 70.55 |  7.8 | 58.1 |  15 | 113417 | Arizona        |\n",
       "| Arkansas |  2110 | 3378 | 1.9 | 70.66 | 10.1 | 39.9 |  65 |  51945 | Arkansas       |\n",
       "| California | 21198 | 5114 | 1.1 | 71.71 | 10.3 | 62.6 |  20 | 156361 | California     |\n",
       "| Colorado |  2541 | 4884 | 0.7 | 72.06 |  6.8 | 63.9 | 166 | 103766 | Colorado       |\n",
       "| Connecticut |  3100 | 5348 | 1.1 | 72.48 |  3.1 | 56.0 | 139 |   4862 | Connecticut    |\n",
       "| Delaware |   579 | 4809 | 0.9 | 70.06 |  6.2 | 54.6 | 103 |   1982 | Delaware       |\n",
       "| Florida |  8277 | 4815 | 1.3 | 70.66 | 10.7 | 52.6 |  11 |  54090 | Florida        |\n",
       "| Georgia |  4931 | 4091 | 2.0 | 68.54 | 13.9 | 40.6 |  60 |  58073 | Georgia        |\n",
       "| Hawaii |   868 | 4963 | 1.9 | 73.60 |  6.2 | 61.9 |   0 |   6425 | Hawaii         |\n",
       "| Idaho |   813 | 4119 | 0.6 | 71.87 |  5.3 | 59.5 | 126 |  82677 | Idaho          |\n",
       "| Illinois | 11197 | 5107 | 0.9 | 70.14 | 10.3 | 52.6 | 127 |  55748 | Illinois       |\n",
       "| Indiana |  5313 | 4458 | 0.7 | 70.88 |  7.1 | 52.9 | 122 |  36097 | Indiana        |\n",
       "| Iowa |  2861 | 4628 | 0.5 | 72.56 |  2.3 | 59.0 | 140 |  55941 | Iowa           |\n",
       "| Kansas |  2280 | 4669 | 0.6 | 72.58 |  4.5 | 59.9 | 114 |  81787 | Kansas         |\n",
       "| Kentucky |  3387 | 3712 | 1.6 | 70.10 | 10.6 | 38.5 |  95 |  39650 | Kentucky       |\n",
       "| Louisiana |  3806 | 3545 | 2.8 | 68.76 | 13.2 | 42.2 |  12 |  44930 | Louisiana      |\n",
       "| Maine |  1058 | 3694 | 0.7 | 70.39 |  2.7 | 54.7 | 161 |  30920 | Maine          |\n",
       "| Maryland |  4122 | 5299 | 0.9 | 70.22 |  8.5 | 52.3 | 101 |   9891 | Maryland       |\n",
       "| Massachusetts |  5814 | 4755 | 1.1 | 71.83 |  3.3 | 58.5 | 103 |   7826 | Massachusetts  |\n",
       "| Michigan |  9111 | 4751 | 0.9 | 70.63 | 11.1 | 52.8 | 125 |  56817 | Michigan       |\n",
       "| Minnesota |  3921 | 4675 | 0.6 | 72.96 |  2.3 | 57.6 | 160 |  79289 | Minnesota      |\n",
       "| Mississippi |  2341 | 3098 | 2.4 | 68.09 | 12.5 | 41.0 |  50 |  47296 | Mississippi    |\n",
       "| Missouri |  4767 | 4254 | 0.8 | 70.69 |  9.3 | 48.8 | 108 |  68995 | Missouri       |\n",
       "| Montana |   746 | 4347 | 0.6 | 70.56 |  5.0 | 59.2 | 155 | 145587 | Montana        |\n",
       "| Nebraska |  1544 | 4508 | 0.6 | 72.60 |  2.9 | 59.3 | 139 |  76483 | Nebraska       |\n",
       "| Nevada |   590 | 5149 | 0.5 | 69.03 | 11.5 | 65.2 | 188 | 109889 | Nevada         |\n",
       "| New Hampshire |   812 | 4281 | 0.7 | 71.23 |  3.3 | 57.6 | 174 |   9027 | New Hampshire  |\n",
       "| New Jersey |  7333 | 5237 | 1.1 | 70.93 |  5.2 | 52.5 | 115 |   7521 | New Jersey     |\n",
       "| New Mexico |  1144 | 3601 | 2.2 | 70.32 |  9.7 | 55.2 | 120 | 121412 | New Mexico     |\n",
       "| New York | 18076 | 4903 | 1.4 | 70.55 | 10.9 | 52.7 |  82 |  47831 | New York       |\n",
       "| North Carolina |  5441 | 3875 | 1.8 | 69.21 | 11.1 | 38.5 |  80 |  48798 | North Carolina |\n",
       "| North Dakota |   637 | 5087 | 0.8 | 72.78 |  1.4 | 50.3 | 186 |  69273 | North Dakota   |\n",
       "| Ohio | 10735 | 4561 | 0.8 | 70.82 |  7.4 | 53.2 | 124 |  40975 | Ohio           |\n",
       "| Oklahoma |  2715 | 3983 | 1.1 | 71.42 |  6.4 | 51.6 |  82 |  68782 | Oklahoma       |\n",
       "| Oregon |  2284 | 4660 | 0.6 | 72.13 |  4.2 | 60.0 |  44 |  96184 | Oregon         |\n",
       "| Pennsylvania | 11860 | 4449 | 1.0 | 70.43 |  6.1 | 50.2 | 126 |  44966 | Pennsylvania   |\n",
       "| Rhode Island |   931 | 4558 | 1.3 | 71.90 |  2.4 | 46.4 | 127 |   1049 | Rhode Island   |\n",
       "| South Carolina |  2816 | 3635 | 2.3 | 67.96 | 11.6 | 37.8 |  65 |  30225 | South Carolina |\n",
       "| South Dakota |   681 | 4167 | 0.5 | 72.08 |  1.7 | 53.3 | 172 |  75955 | South Dakota   |\n",
       "| Tennessee |  4173 | 3821 | 1.7 | 70.11 | 11.0 | 41.8 |  70 |  41328 | Tennessee      |\n",
       "| Texas | 12237 | 4188 | 2.2 | 70.90 | 12.2 | 47.4 |  35 | 262134 | Texas          |\n",
       "| Utah |  1203 | 4022 | 0.6 | 72.90 |  4.5 | 67.3 | 137 |  82096 | Utah           |\n",
       "| Vermont |   472 | 3907 | 0.6 | 71.64 |  5.5 | 57.1 | 168 |   9267 | Vermont        |\n",
       "| Virginia |  4981 | 4701 | 1.4 | 70.08 |  9.5 | 47.8 |  85 |  39780 | Virginia       |\n",
       "| Washington |  3559 | 4864 | 0.6 | 71.72 |  4.3 | 63.5 |  32 |  66570 | Washington     |\n",
       "| West Virginia |  1799 | 3617 | 1.4 | 69.48 |  6.7 | 41.6 | 100 |  24070 | West Virginia  |\n",
       "| Wisconsin |  4589 | 4468 | 0.7 | 72.48 |  3.0 | 54.5 | 149 |  54464 | Wisconsin      |\n",
       "| Wyoming |   376 | 4566 | 0.6 | 70.29 |  6.9 | 62.9 | 173 |  97203 | Wyoming        |\n",
       "\n"
      ],
      "text/plain": [
       "               Population Income Illiteracy Life.Exp Murder HS.Grad Frost\n",
       "Alabama         3615      3624   2.1        69.05    15.1   41.3     20  \n",
       "Alaska           365      6315   1.5        69.31    11.3   66.7    152  \n",
       "Arizona         2212      4530   1.8        70.55     7.8   58.1     15  \n",
       "Arkansas        2110      3378   1.9        70.66    10.1   39.9     65  \n",
       "California     21198      5114   1.1        71.71    10.3   62.6     20  \n",
       "Colorado        2541      4884   0.7        72.06     6.8   63.9    166  \n",
       "Connecticut     3100      5348   1.1        72.48     3.1   56.0    139  \n",
       "Delaware         579      4809   0.9        70.06     6.2   54.6    103  \n",
       "Florida         8277      4815   1.3        70.66    10.7   52.6     11  \n",
       "Georgia         4931      4091   2.0        68.54    13.9   40.6     60  \n",
       "Hawaii           868      4963   1.9        73.60     6.2   61.9      0  \n",
       "Idaho            813      4119   0.6        71.87     5.3   59.5    126  \n",
       "Illinois       11197      5107   0.9        70.14    10.3   52.6    127  \n",
       "Indiana         5313      4458   0.7        70.88     7.1   52.9    122  \n",
       "Iowa            2861      4628   0.5        72.56     2.3   59.0    140  \n",
       "Kansas          2280      4669   0.6        72.58     4.5   59.9    114  \n",
       "Kentucky        3387      3712   1.6        70.10    10.6   38.5     95  \n",
       "Louisiana       3806      3545   2.8        68.76    13.2   42.2     12  \n",
       "Maine           1058      3694   0.7        70.39     2.7   54.7    161  \n",
       "Maryland        4122      5299   0.9        70.22     8.5   52.3    101  \n",
       "Massachusetts   5814      4755   1.1        71.83     3.3   58.5    103  \n",
       "Michigan        9111      4751   0.9        70.63    11.1   52.8    125  \n",
       "Minnesota       3921      4675   0.6        72.96     2.3   57.6    160  \n",
       "Mississippi     2341      3098   2.4        68.09    12.5   41.0     50  \n",
       "Missouri        4767      4254   0.8        70.69     9.3   48.8    108  \n",
       "Montana          746      4347   0.6        70.56     5.0   59.2    155  \n",
       "Nebraska        1544      4508   0.6        72.60     2.9   59.3    139  \n",
       "Nevada           590      5149   0.5        69.03    11.5   65.2    188  \n",
       "New Hampshire    812      4281   0.7        71.23     3.3   57.6    174  \n",
       "New Jersey      7333      5237   1.1        70.93     5.2   52.5    115  \n",
       "New Mexico      1144      3601   2.2        70.32     9.7   55.2    120  \n",
       "New York       18076      4903   1.4        70.55    10.9   52.7     82  \n",
       "North Carolina  5441      3875   1.8        69.21    11.1   38.5     80  \n",
       "North Dakota     637      5087   0.8        72.78     1.4   50.3    186  \n",
       "Ohio           10735      4561   0.8        70.82     7.4   53.2    124  \n",
       "Oklahoma        2715      3983   1.1        71.42     6.4   51.6     82  \n",
       "Oregon          2284      4660   0.6        72.13     4.2   60.0     44  \n",
       "Pennsylvania   11860      4449   1.0        70.43     6.1   50.2    126  \n",
       "Rhode Island     931      4558   1.3        71.90     2.4   46.4    127  \n",
       "South Carolina  2816      3635   2.3        67.96    11.6   37.8     65  \n",
       "South Dakota     681      4167   0.5        72.08     1.7   53.3    172  \n",
       "Tennessee       4173      3821   1.7        70.11    11.0   41.8     70  \n",
       "Texas          12237      4188   2.2        70.90    12.2   47.4     35  \n",
       "Utah            1203      4022   0.6        72.90     4.5   67.3    137  \n",
       "Vermont          472      3907   0.6        71.64     5.5   57.1    168  \n",
       "Virginia        4981      4701   1.4        70.08     9.5   47.8     85  \n",
       "Washington      3559      4864   0.6        71.72     4.3   63.5     32  \n",
       "West Virginia   1799      3617   1.4        69.48     6.7   41.6    100  \n",
       "Wisconsin       4589      4468   0.7        72.48     3.0   54.5    149  \n",
       "Wyoming          376      4566   0.6        70.29     6.9   62.9    173  \n",
       "               Area   stname        \n",
       "Alabama         50708 Alabama       \n",
       "Alaska         566432 Alaska        \n",
       "Arizona        113417 Arizona       \n",
       "Arkansas        51945 Arkansas      \n",
       "California     156361 California    \n",
       "Colorado       103766 Colorado      \n",
       "Connecticut      4862 Connecticut   \n",
       "Delaware         1982 Delaware      \n",
       "Florida         54090 Florida       \n",
       "Georgia         58073 Georgia       \n",
       "Hawaii           6425 Hawaii        \n",
       "Idaho           82677 Idaho         \n",
       "Illinois        55748 Illinois      \n",
       "Indiana         36097 Indiana       \n",
       "Iowa            55941 Iowa          \n",
       "Kansas          81787 Kansas        \n",
       "Kentucky        39650 Kentucky      \n",
       "Louisiana       44930 Louisiana     \n",
       "Maine           30920 Maine         \n",
       "Maryland         9891 Maryland      \n",
       "Massachusetts    7826 Massachusetts \n",
       "Michigan        56817 Michigan      \n",
       "Minnesota       79289 Minnesota     \n",
       "Mississippi     47296 Mississippi   \n",
       "Missouri        68995 Missouri      \n",
       "Montana        145587 Montana       \n",
       "Nebraska        76483 Nebraska      \n",
       "Nevada         109889 Nevada        \n",
       "New Hampshire    9027 New Hampshire \n",
       "New Jersey       7521 New Jersey    \n",
       "New Mexico     121412 New Mexico    \n",
       "New York        47831 New York      \n",
       "North Carolina  48798 North Carolina\n",
       "North Dakota    69273 North Dakota  \n",
       "Ohio            40975 Ohio          \n",
       "Oklahoma        68782 Oklahoma      \n",
       "Oregon          96184 Oregon        \n",
       "Pennsylvania    44966 Pennsylvania  \n",
       "Rhode Island     1049 Rhode Island  \n",
       "South Carolina  30225 South Carolina\n",
       "South Dakota    75955 South Dakota  \n",
       "Tennessee       41328 Tennessee     \n",
       "Texas          262134 Texas         \n",
       "Utah            82096 Utah          \n",
       "Vermont          9267 Vermont       \n",
       "Virginia        39780 Virginia      \n",
       "Washington      66570 Washington    \n",
       "West Virginia   24070 West Virginia \n",
       "Wisconsin       54464 Wisconsin     \n",
       "Wyoming         97203 Wyoming       "
      ]
     },
     "metadata": {},
     "output_type": "display_data"
    }
   ],
   "source": [
    "st"
   ]
  },
  {
   "cell_type": "code",
   "execution_count": 10,
   "id": "40a6ecbf",
   "metadata": {},
   "outputs": [
    {
     "data": {
      "image/png": "[encoded data removed]",
      "text/plain": [
       "plot without title"
      ]
     },
     "metadata": {
      "image/png": {
       "height": 420,
       "width": 420
      }
     },
     "output_type": "display_data"
    }
   ],
   "source": [
    "treemap(st,\n",
    "       index = c('stname'),\n",
    "       vSize = 'Area',\n",
    "       vColor = 'Income',\n",
    "       type='value',\n",
    "       title = 'USA states area and income')"
   ]
  },
  {
   "cell_type": "code",
   "execution_count": 13,
   "id": "a4007380",
   "metadata": {},
   "outputs": [
    {
     "name": "stderr",
     "output_type": "stream",
     "text": [
      "Installing package into 'C:/Users/starl/AppData/Local/R/win-library/4.3'\n",
      "(as 'lib' is unspecified)\n",
      "\n"
     ]
    },
    {
     "name": "stdout",
     "output_type": "stream",
     "text": [
      "package 'carData' successfully unpacked and MD5 sums checked\n",
      "\n",
      "The downloaded binary packages are in\n",
      "\tC:\\Users\\starl\\AppData\\Local\\Temp\\Rtmp42pdax\\downloaded_packages\n"
     ]
    }
   ],
   "source": [
    "install.packages(\"carData\")"
   ]
  },
  {
   "cell_type": "code",
   "execution_count": 14,
   "id": "3b856281",
   "metadata": {},
   "outputs": [
    {
     "name": "stderr",
     "output_type": "stream",
     "text": [
      "Warning message:\n",
      "\"package 'carData' was built under R version 4.3.2\"\n"
     ]
    }
   ],
   "source": [
    "library(carData)"
   ]
  },
  {
   "cell_type": "code",
   "execution_count": 15,
   "id": "b1fb347b",
   "metadata": {},
   "outputs": [
    {
     "name": "stderr",
     "output_type": "stream",
     "text": [
      "Warning message in data(\"carData\\n\"):\n",
      "\"data set 'carData\n",
      "' not found\"\n"
     ]
    }
   ],
   "source": [
    "data(\"carData\n",
    "\")"
   ]
  },
  {
   "cell_type": "code",
   "execution_count": 16,
   "id": "57a6de39",
   "metadata": {},
   "outputs": [
    {
     "data": {
      "text/html": [
       "<table class=\"dataframe\">\n",
       "<caption>A data.frame: 6 × 9</caption>\n",
       "<thead>\n",
       "\t<tr><th></th><th scope=col>minority</th><th scope=col>crime</th><th scope=col>poverty</th><th scope=col>language</th><th scope=col>highschool</th><th scope=col>housing</th><th scope=col>city</th><th scope=col>conventional</th><th scope=col>undercount</th></tr>\n",
       "\t<tr><th></th><th scope=col>&lt;dbl&gt;</th><th scope=col>&lt;int&gt;</th><th scope=col>&lt;dbl&gt;</th><th scope=col>&lt;dbl&gt;</th><th scope=col>&lt;dbl&gt;</th><th scope=col>&lt;dbl&gt;</th><th scope=col>&lt;fct&gt;</th><th scope=col>&lt;int&gt;</th><th scope=col>&lt;dbl&gt;</th></tr>\n",
       "</thead>\n",
       "<tbody>\n",
       "\t<tr><th scope=row>Alabama</th><td>26.1</td><td>49</td><td>18.9</td><td>0.2</td><td>43.5</td><td> 7.6</td><td>state</td><td>  0</td><td>-0.04</td></tr>\n",
       "\t<tr><th scope=row>Alaska</th><td> 5.7</td><td>62</td><td>10.7</td><td>1.7</td><td>17.5</td><td>23.6</td><td>state</td><td>100</td><td> 3.35</td></tr>\n",
       "\t<tr><th scope=row>Arizona</th><td>18.9</td><td>81</td><td>13.2</td><td>3.2</td><td>27.6</td><td> 8.1</td><td>state</td><td> 18</td><td> 2.48</td></tr>\n",
       "\t<tr><th scope=row>Arkansas</th><td>16.9</td><td>38</td><td>19.0</td><td>0.2</td><td>44.5</td><td> 7.0</td><td>state</td><td>  0</td><td>-0.74</td></tr>\n",
       "\t<tr><th scope=row>California.R</th><td>24.3</td><td>73</td><td>10.4</td><td>5.0</td><td>26.0</td><td>11.8</td><td>state</td><td>  4</td><td> 3.60</td></tr>\n",
       "\t<tr><th scope=row>Colorado</th><td>15.2</td><td>73</td><td>10.1</td><td>1.2</td><td>21.4</td><td> 9.2</td><td>state</td><td> 19</td><td> 1.34</td></tr>\n",
       "</tbody>\n",
       "</table>\n"
      ],
      "text/latex": [
       "A data.frame: 6 × 9\n",
       "\\begin{tabular}{r|lllllllll}\n",
       "  & minority & crime & poverty & language & highschool & housing & city & conventional & undercount\\\\\n",
       "  & <dbl> & <int> & <dbl> & <dbl> & <dbl> & <dbl> & <fct> & <int> & <dbl>\\\\\n",
       "\\hline\n",
       "\tAlabama & 26.1 & 49 & 18.9 & 0.2 & 43.5 &  7.6 & state &   0 & -0.04\\\\\n",
       "\tAlaska &  5.7 & 62 & 10.7 & 1.7 & 17.5 & 23.6 & state & 100 &  3.35\\\\\n",
       "\tArizona & 18.9 & 81 & 13.2 & 3.2 & 27.6 &  8.1 & state &  18 &  2.48\\\\\n",
       "\tArkansas & 16.9 & 38 & 19.0 & 0.2 & 44.5 &  7.0 & state &   0 & -0.74\\\\\n",
       "\tCalifornia.R & 24.3 & 73 & 10.4 & 5.0 & 26.0 & 11.8 & state &   4 &  3.60\\\\\n",
       "\tColorado & 15.2 & 73 & 10.1 & 1.2 & 21.4 &  9.2 & state &  19 &  1.34\\\\\n",
       "\\end{tabular}\n"
      ],
      "text/markdown": [
       "\n",
       "A data.frame: 6 × 9\n",
       "\n",
       "| <!--/--> | minority &lt;dbl&gt; | crime &lt;int&gt; | poverty &lt;dbl&gt; | language &lt;dbl&gt; | highschool &lt;dbl&gt; | housing &lt;dbl&gt; | city &lt;fct&gt; | conventional &lt;int&gt; | undercount &lt;dbl&gt; |\n",
       "|---|---|---|---|---|---|---|---|---|---|\n",
       "| Alabama | 26.1 | 49 | 18.9 | 0.2 | 43.5 |  7.6 | state |   0 | -0.04 |\n",
       "| Alaska |  5.7 | 62 | 10.7 | 1.7 | 17.5 | 23.6 | state | 100 |  3.35 |\n",
       "| Arizona | 18.9 | 81 | 13.2 | 3.2 | 27.6 |  8.1 | state |  18 |  2.48 |\n",
       "| Arkansas | 16.9 | 38 | 19.0 | 0.2 | 44.5 |  7.0 | state |   0 | -0.74 |\n",
       "| California.R | 24.3 | 73 | 10.4 | 5.0 | 26.0 | 11.8 | state |   4 |  3.60 |\n",
       "| Colorado | 15.2 | 73 | 10.1 | 1.2 | 21.4 |  9.2 | state |  19 |  1.34 |\n",
       "\n"
      ],
      "text/plain": [
       "             minority crime poverty language highschool housing city \n",
       "Alabama      26.1     49    18.9    0.2      43.5        7.6    state\n",
       "Alaska        5.7     62    10.7    1.7      17.5       23.6    state\n",
       "Arizona      18.9     81    13.2    3.2      27.6        8.1    state\n",
       "Arkansas     16.9     38    19.0    0.2      44.5        7.0    state\n",
       "California.R 24.3     73    10.4    5.0      26.0       11.8    state\n",
       "Colorado     15.2     73    10.1    1.2      21.4        9.2    state\n",
       "             conventional undercount\n",
       "Alabama        0          -0.04     \n",
       "Alaska       100           3.35     \n",
       "Arizona       18           2.48     \n",
       "Arkansas       0          -0.74     \n",
       "California.R   4           3.60     \n",
       "Colorado      19           1.34     "
      ]
     },
     "metadata": {},
     "output_type": "display_data"
    }
   ],
   "source": [
    "head(Ericksen)"
   ]
  },
  {
   "cell_type": "code",
   "execution_count": 17,
   "id": "c97d0dd8",
   "metadata": {},
   "outputs": [],
   "source": [
    "ds = subset(Ericksen, city == 'state')"
   ]
  },
  {
   "cell_type": "code",
   "execution_count": 18,
   "id": "18167e7f",
   "metadata": {},
   "outputs": [
    {
     "data": {
      "text/html": [
       "<table class=\"dataframe\">\n",
       "<caption>A data.frame: 50 × 9</caption>\n",
       "<thead>\n",
       "\t<tr><th></th><th scope=col>minority</th><th scope=col>crime</th><th scope=col>poverty</th><th scope=col>language</th><th scope=col>highschool</th><th scope=col>housing</th><th scope=col>city</th><th scope=col>conventional</th><th scope=col>undercount</th></tr>\n",
       "\t<tr><th></th><th scope=col>&lt;dbl&gt;</th><th scope=col>&lt;int&gt;</th><th scope=col>&lt;dbl&gt;</th><th scope=col>&lt;dbl&gt;</th><th scope=col>&lt;dbl&gt;</th><th scope=col>&lt;dbl&gt;</th><th scope=col>&lt;fct&gt;</th><th scope=col>&lt;int&gt;</th><th scope=col>&lt;dbl&gt;</th></tr>\n",
       "</thead>\n",
       "<tbody>\n",
       "\t<tr><th scope=row>Alabama</th><td>26.1</td><td>49</td><td>18.9</td><td>0.2</td><td>43.5</td><td> 7.6</td><td>state</td><td>  0</td><td>-0.04</td></tr>\n",
       "\t<tr><th scope=row>Alaska</th><td> 5.7</td><td>62</td><td>10.7</td><td>1.7</td><td>17.5</td><td>23.6</td><td>state</td><td>100</td><td> 3.35</td></tr>\n",
       "\t<tr><th scope=row>Arizona</th><td>18.9</td><td>81</td><td>13.2</td><td>3.2</td><td>27.6</td><td> 8.1</td><td>state</td><td> 18</td><td> 2.48</td></tr>\n",
       "\t<tr><th scope=row>Arkansas</th><td>16.9</td><td>38</td><td>19.0</td><td>0.2</td><td>44.5</td><td> 7.0</td><td>state</td><td>  0</td><td>-0.74</td></tr>\n",
       "\t<tr><th scope=row>California.R</th><td>24.3</td><td>73</td><td>10.4</td><td>5.0</td><td>26.0</td><td>11.8</td><td>state</td><td>  4</td><td> 3.60</td></tr>\n",
       "\t<tr><th scope=row>Colorado</th><td>15.2</td><td>73</td><td>10.1</td><td>1.2</td><td>21.4</td><td> 9.2</td><td>state</td><td> 19</td><td> 1.34</td></tr>\n",
       "\t<tr><th scope=row>Connecticut</th><td>10.8</td><td>58</td><td> 8.0</td><td>2.4</td><td>29.7</td><td>21.0</td><td>state</td><td>  0</td><td>-0.26</td></tr>\n",
       "\t<tr><th scope=row>Delaware</th><td>17.5</td><td>68</td><td>11.8</td><td>0.7</td><td>31.4</td><td> 8.9</td><td>state</td><td>  0</td><td>-0.16</td></tr>\n",
       "\t<tr><th scope=row>Florida</th><td>22.3</td><td>81</td><td>13.4</td><td>3.6</td><td>33.3</td><td>10.1</td><td>state</td><td>  0</td><td> 2.20</td></tr>\n",
       "\t<tr><th scope=row>Georgia</th><td>27.6</td><td>55</td><td>16.6</td><td>0.3</td><td>43.6</td><td>10.2</td><td>state</td><td>  0</td><td> 0.37</td></tr>\n",
       "\t<tr><th scope=row>Hawaii</th><td> 9.1</td><td>75</td><td> 9.9</td><td>5.7</td><td>26.2</td><td>17.0</td><td>state</td><td> 29</td><td> 1.46</td></tr>\n",
       "\t<tr><th scope=row>Idaho</th><td> 4.2</td><td>48</td><td>12.6</td><td>1.0</td><td>26.3</td><td> 9.1</td><td>state</td><td> 56</td><td> 1.53</td></tr>\n",
       "\t<tr><th scope=row>Illinois.R</th><td> 8.1</td><td>48</td><td> 7.7</td><td>1.0</td><td>29.8</td><td>13.5</td><td>state</td><td>  0</td><td> 1.69</td></tr>\n",
       "\t<tr><th scope=row>Indiana.R</th><td> 7.1</td><td>48</td><td> 9.4</td><td>0.5</td><td>33.6</td><td> 9.9</td><td>state</td><td>  0</td><td>-0.68</td></tr>\n",
       "\t<tr><th scope=row>Iowa</th><td> 2.3</td><td>47</td><td>10.1</td><td>0.3</td><td>28.5</td><td>10.4</td><td>state</td><td>  0</td><td>-0.59</td></tr>\n",
       "\t<tr><th scope=row>Kansas</th><td> 7.9</td><td>54</td><td>10.1</td><td>0.5</td><td>26.7</td><td> 8.5</td><td>state</td><td> 14</td><td> 0.94</td></tr>\n",
       "\t<tr><th scope=row>Kentucky</th><td> 7.7</td><td>34</td><td>17.6</td><td>0.2</td><td>46.9</td><td>10.6</td><td>state</td><td>  0</td><td>-1.41</td></tr>\n",
       "\t<tr><th scope=row>Louisiana</th><td>31.4</td><td>54</td><td>18.6</td><td>1.1</td><td>42.3</td><td> 9.7</td><td>state</td><td>  0</td><td> 2.46</td></tr>\n",
       "\t<tr><th scope=row>Maine</th><td> 0.7</td><td>44</td><td>13.0</td><td>1.0</td><td>31.3</td><td>19.5</td><td>state</td><td> 40</td><td> 2.06</td></tr>\n",
       "\t<tr><th scope=row>Maryland.R</th><td>16.7</td><td>58</td><td> 6.8</td><td>0.8</td><td>28.2</td><td>10.5</td><td>state</td><td>  0</td><td> 2.03</td></tr>\n",
       "\t<tr><th scope=row>Massachusetts.R</th><td> 3.8</td><td>53</td><td> 8.5</td><td>2.1</td><td>27.4</td><td>26.9</td><td>state</td><td>  4</td><td>-0.57</td></tr>\n",
       "\t<tr><th scope=row>Michigan.R</th><td> 7.0</td><td>61</td><td> 8.7</td><td>0.7</td><td>29.9</td><td> 9.4</td><td>state</td><td>  8</td><td> 0.89</td></tr>\n",
       "\t<tr><th scope=row>Minnesota</th><td> 2.1</td><td>48</td><td> 9.5</td><td>0.5</td><td>26.9</td><td>10.7</td><td>state</td><td> 11</td><td> 1.57</td></tr>\n",
       "\t<tr><th scope=row>Mississippi</th><td>35.8</td><td>34</td><td>23.9</td><td>0.2</td><td>45.2</td><td> 7.2</td><td>state</td><td>  0</td><td> 1.52</td></tr>\n",
       "\t<tr><th scope=row>Missouri.R</th><td> 7.8</td><td>45</td><td>11.2</td><td>0.3</td><td>34.9</td><td> 9.1</td><td>state</td><td>  0</td><td> 0.81</td></tr>\n",
       "\t<tr><th scope=row>Montana</th><td> 1.5</td><td>50</td><td>12.3</td><td>0.4</td><td>25.6</td><td>12.8</td><td>state</td><td> 75</td><td> 1.81</td></tr>\n",
       "\t<tr><th scope=row>Nebraska</th><td> 4.8</td><td>43</td><td>10.7</td><td>0.5</td><td>26.6</td><td> 9.7</td><td>state</td><td> 33</td><td> 0.36</td></tr>\n",
       "\t<tr><th scope=row>Nevada</th><td>13.0</td><td>88</td><td> 8.7</td><td>1.6</td><td>24.5</td><td>11.7</td><td>state</td><td> 10</td><td> 5.08</td></tr>\n",
       "\t<tr><th scope=row>New.Hampshire</th><td> 1.0</td><td>47</td><td> 8.5</td><td>0.8</td><td>27.7</td><td>20.3</td><td>state</td><td>  0</td><td>-1.49</td></tr>\n",
       "\t<tr><th scope=row>New.Jersey</th><td>19.0</td><td>64</td><td> 9.5</td><td>3.6</td><td>32.6</td><td>23.7</td><td>state</td><td>  0</td><td> 1.44</td></tr>\n",
       "\t<tr><th scope=row>New.Mexico</th><td>38.4</td><td>59</td><td>17.6</td><td>4.6</td><td>31.1</td><td>10.7</td><td>state</td><td> 58</td><td> 2.69</td></tr>\n",
       "\t<tr><th scope=row>New.York.R</th><td> 8.0</td><td>48</td><td> 8.9</td><td>1.3</td><td>29.3</td><td>21.6</td><td>state</td><td>  0</td><td>-1.48</td></tr>\n",
       "\t<tr><th scope=row>North.Carolina</th><td>23.1</td><td>46</td><td>14.8</td><td>0.2</td><td>45.2</td><td> 8.2</td><td>state</td><td>  0</td><td> 1.36</td></tr>\n",
       "\t<tr><th scope=row>North.Dakota</th><td> 1.0</td><td>30</td><td>12.6</td><td>0.5</td><td>33.6</td><td>15.1</td><td>state</td><td> 70</td><td> 0.35</td></tr>\n",
       "\t<tr><th scope=row>Ohio.R</th><td> 8.9</td><td>52</td><td> 9.6</td><td>0.5</td><td>32.1</td><td>11.3</td><td>state</td><td>  0</td><td> 0.97</td></tr>\n",
       "\t<tr><th scope=row>Oklahoma</th><td> 8.6</td><td>50</td><td>13.4</td><td>0.5</td><td>34.0</td><td> 8.0</td><td>state</td><td>  0</td><td>-0.12</td></tr>\n",
       "\t<tr><th scope=row>Oregon</th><td> 3.9</td><td>60</td><td>10.7</td><td>0.8</td><td>24.4</td><td> 7.9</td><td>state</td><td> 13</td><td> 0.93</td></tr>\n",
       "\t<tr><th scope=row>Pennsylvania.R</th><td> 4.8</td><td>33</td><td> 8.8</td><td>0.6</td><td>33.6</td><td>13.3</td><td>state</td><td>  0</td><td>-0.78</td></tr>\n",
       "\t<tr><th scope=row>Rhode.Island</th><td> 4.9</td><td>59</td><td>10.3</td><td>3.2</td><td>38.9</td><td>29.6</td><td>state</td><td>  0</td><td> 0.74</td></tr>\n",
       "\t<tr><th scope=row>South.Carolina</th><td>31.0</td><td>53</td><td>16.6</td><td>0.2</td><td>46.3</td><td> 7.9</td><td>state</td><td>  0</td><td> 6.19</td></tr>\n",
       "\t<tr><th scope=row>South.Dakota</th><td> 0.9</td><td>32</td><td>16.9</td><td>0.4</td><td>32.1</td><td>12.0</td><td>state</td><td> 84</td><td> 0.42</td></tr>\n",
       "\t<tr><th scope=row>Tennessee</th><td>16.4</td><td>44</td><td>16.4</td><td>0.2</td><td>43.8</td><td> 9.4</td><td>state</td><td>  0</td><td>-2.31</td></tr>\n",
       "\t<tr><th scope=row>Texas.R</th><td>30.6</td><td>55</td><td>15.0</td><td>4.7</td><td>38.7</td><td> 7.7</td><td>state</td><td>  1</td><td> 0.27</td></tr>\n",
       "\t<tr><th scope=row>Utah</th><td> 4.7</td><td>58</td><td>10.3</td><td>0.9</td><td>20.0</td><td>11.3</td><td>state</td><td> 14</td><td> 1.14</td></tr>\n",
       "\t<tr><th scope=row>Vermont</th><td> 0.9</td><td>50</td><td>12.1</td><td>0.5</td><td>29.0</td><td>20.8</td><td>state</td><td>  0</td><td>-1.12</td></tr>\n",
       "\t<tr><th scope=row>Virginia</th><td>20.0</td><td>46</td><td>11.8</td><td>0.5</td><td>37.6</td><td>10.3</td><td>state</td><td>  0</td><td> 1.11</td></tr>\n",
       "\t<tr><th scope=row>Washington</th><td> 5.4</td><td>69</td><td> 9.8</td><td>1.0</td><td>22.4</td><td> 9.4</td><td>state</td><td>  4</td><td> 1.48</td></tr>\n",
       "\t<tr><th scope=row>West.Virginia</th><td> 3.9</td><td>25</td><td>15.0</td><td>0.2</td><td>44.0</td><td> 9.0</td><td>state</td><td>  0</td><td>-0.69</td></tr>\n",
       "\t<tr><th scope=row>Wisconsin.R</th><td> 1.7</td><td>45</td><td> 7.9</td><td>0.4</td><td>29.5</td><td>12.8</td><td>state</td><td>  9</td><td> 1.45</td></tr>\n",
       "\t<tr><th scope=row>Wyoming</th><td> 5.9</td><td>49</td><td> 7.9</td><td>0.7</td><td>22.1</td><td>13.2</td><td>state</td><td>100</td><td> 4.01</td></tr>\n",
       "</tbody>\n",
       "</table>\n"
      ],
      "text/latex": [
       "A data.frame: 50 × 9\n",
       "\\begin{tabular}{r|lllllllll}\n",
       "  & minority & crime & poverty & language & highschool & housing & city & conventional & undercount\\\\\n",
       "  & <dbl> & <int> & <dbl> & <dbl> & <dbl> & <dbl> & <fct> & <int> & <dbl>\\\\\n",
       "\\hline\n",
       "\tAlabama & 26.1 & 49 & 18.9 & 0.2 & 43.5 &  7.6 & state &   0 & -0.04\\\\\n",
       "\tAlaska &  5.7 & 62 & 10.7 & 1.7 & 17.5 & 23.6 & state & 100 &  3.35\\\\\n",
       "\tArizona & 18.9 & 81 & 13.2 & 3.2 & 27.6 &  8.1 & state &  18 &  2.48\\\\\n",
       "\tArkansas & 16.9 & 38 & 19.0 & 0.2 & 44.5 &  7.0 & state &   0 & -0.74\\\\\n",
       "\tCalifornia.R & 24.3 & 73 & 10.4 & 5.0 & 26.0 & 11.8 & state &   4 &  3.60\\\\\n",
       "\tColorado & 15.2 & 73 & 10.1 & 1.2 & 21.4 &  9.2 & state &  19 &  1.34\\\\\n",
       "\tConnecticut & 10.8 & 58 &  8.0 & 2.4 & 29.7 & 21.0 & state &   0 & -0.26\\\\\n",
       "\tDelaware & 17.5 & 68 & 11.8 & 0.7 & 31.4 &  8.9 & state &   0 & -0.16\\\\\n",
       "\tFlorida & 22.3 & 81 & 13.4 & 3.6 & 33.3 & 10.1 & state &   0 &  2.20\\\\\n",
       "\tGeorgia & 27.6 & 55 & 16.6 & 0.3 & 43.6 & 10.2 & state &   0 &  0.37\\\\\n",
       "\tHawaii &  9.1 & 75 &  9.9 & 5.7 & 26.2 & 17.0 & state &  29 &  1.46\\\\\n",
       "\tIdaho &  4.2 & 48 & 12.6 & 1.0 & 26.3 &  9.1 & state &  56 &  1.53\\\\\n",
       "\tIllinois.R &  8.1 & 48 &  7.7 & 1.0 & 29.8 & 13.5 & state &   0 &  1.69\\\\\n",
       "\tIndiana.R &  7.1 & 48 &  9.4 & 0.5 & 33.6 &  9.9 & state &   0 & -0.68\\\\\n",
       "\tIowa &  2.3 & 47 & 10.1 & 0.3 & 28.5 & 10.4 & state &   0 & -0.59\\\\\n",
       "\tKansas &  7.9 & 54 & 10.1 & 0.5 & 26.7 &  8.5 & state &  14 &  0.94\\\\\n",
       "\tKentucky &  7.7 & 34 & 17.6 & 0.2 & 46.9 & 10.6 & state &   0 & -1.41\\\\\n",
       "\tLouisiana & 31.4 & 54 & 18.6 & 1.1 & 42.3 &  9.7 & state &   0 &  2.46\\\\\n",
       "\tMaine &  0.7 & 44 & 13.0 & 1.0 & 31.3 & 19.5 & state &  40 &  2.06\\\\\n",
       "\tMaryland.R & 16.7 & 58 &  6.8 & 0.8 & 28.2 & 10.5 & state &   0 &  2.03\\\\\n",
       "\tMassachusetts.R &  3.8 & 53 &  8.5 & 2.1 & 27.4 & 26.9 & state &   4 & -0.57\\\\\n",
       "\tMichigan.R &  7.0 & 61 &  8.7 & 0.7 & 29.9 &  9.4 & state &   8 &  0.89\\\\\n",
       "\tMinnesota &  2.1 & 48 &  9.5 & 0.5 & 26.9 & 10.7 & state &  11 &  1.57\\\\\n",
       "\tMississippi & 35.8 & 34 & 23.9 & 0.2 & 45.2 &  7.2 & state &   0 &  1.52\\\\\n",
       "\tMissouri.R &  7.8 & 45 & 11.2 & 0.3 & 34.9 &  9.1 & state &   0 &  0.81\\\\\n",
       "\tMontana &  1.5 & 50 & 12.3 & 0.4 & 25.6 & 12.8 & state &  75 &  1.81\\\\\n",
       "\tNebraska &  4.8 & 43 & 10.7 & 0.5 & 26.6 &  9.7 & state &  33 &  0.36\\\\\n",
       "\tNevada & 13.0 & 88 &  8.7 & 1.6 & 24.5 & 11.7 & state &  10 &  5.08\\\\\n",
       "\tNew.Hampshire &  1.0 & 47 &  8.5 & 0.8 & 27.7 & 20.3 & state &   0 & -1.49\\\\\n",
       "\tNew.Jersey & 19.0 & 64 &  9.5 & 3.6 & 32.6 & 23.7 & state &   0 &  1.44\\\\\n",
       "\tNew.Mexico & 38.4 & 59 & 17.6 & 4.6 & 31.1 & 10.7 & state &  58 &  2.69\\\\\n",
       "\tNew.York.R &  8.0 & 48 &  8.9 & 1.3 & 29.3 & 21.6 & state &   0 & -1.48\\\\\n",
       "\tNorth.Carolina & 23.1 & 46 & 14.8 & 0.2 & 45.2 &  8.2 & state &   0 &  1.36\\\\\n",
       "\tNorth.Dakota &  1.0 & 30 & 12.6 & 0.5 & 33.6 & 15.1 & state &  70 &  0.35\\\\\n",
       "\tOhio.R &  8.9 & 52 &  9.6 & 0.5 & 32.1 & 11.3 & state &   0 &  0.97\\\\\n",
       "\tOklahoma &  8.6 & 50 & 13.4 & 0.5 & 34.0 &  8.0 & state &   0 & -0.12\\\\\n",
       "\tOregon &  3.9 & 60 & 10.7 & 0.8 & 24.4 &  7.9 & state &  13 &  0.93\\\\\n",
       "\tPennsylvania.R &  4.8 & 33 &  8.8 & 0.6 & 33.6 & 13.3 & state &   0 & -0.78\\\\\n",
       "\tRhode.Island &  4.9 & 59 & 10.3 & 3.2 & 38.9 & 29.6 & state &   0 &  0.74\\\\\n",
       "\tSouth.Carolina & 31.0 & 53 & 16.6 & 0.2 & 46.3 &  7.9 & state &   0 &  6.19\\\\\n",
       "\tSouth.Dakota &  0.9 & 32 & 16.9 & 0.4 & 32.1 & 12.0 & state &  84 &  0.42\\\\\n",
       "\tTennessee & 16.4 & 44 & 16.4 & 0.2 & 43.8 &  9.4 & state &   0 & -2.31\\\\\n",
       "\tTexas.R & 30.6 & 55 & 15.0 & 4.7 & 38.7 &  7.7 & state &   1 &  0.27\\\\\n",
       "\tUtah &  4.7 & 58 & 10.3 & 0.9 & 20.0 & 11.3 & state &  14 &  1.14\\\\\n",
       "\tVermont &  0.9 & 50 & 12.1 & 0.5 & 29.0 & 20.8 & state &   0 & -1.12\\\\\n",
       "\tVirginia & 20.0 & 46 & 11.8 & 0.5 & 37.6 & 10.3 & state &   0 &  1.11\\\\\n",
       "\tWashington &  5.4 & 69 &  9.8 & 1.0 & 22.4 &  9.4 & state &   4 &  1.48\\\\\n",
       "\tWest.Virginia &  3.9 & 25 & 15.0 & 0.2 & 44.0 &  9.0 & state &   0 & -0.69\\\\\n",
       "\tWisconsin.R &  1.7 & 45 &  7.9 & 0.4 & 29.5 & 12.8 & state &   9 &  1.45\\\\\n",
       "\tWyoming &  5.9 & 49 &  7.9 & 0.7 & 22.1 & 13.2 & state & 100 &  4.01\\\\\n",
       "\\end{tabular}\n"
      ],
      "text/markdown": [
       "\n",
       "A data.frame: 50 × 9\n",
       "\n",
       "| <!--/--> | minority &lt;dbl&gt; | crime &lt;int&gt; | poverty &lt;dbl&gt; | language &lt;dbl&gt; | highschool &lt;dbl&gt; | housing &lt;dbl&gt; | city &lt;fct&gt; | conventional &lt;int&gt; | undercount &lt;dbl&gt; |\n",
       "|---|---|---|---|---|---|---|---|---|---|\n",
       "| Alabama | 26.1 | 49 | 18.9 | 0.2 | 43.5 |  7.6 | state |   0 | -0.04 |\n",
       "| Alaska |  5.7 | 62 | 10.7 | 1.7 | 17.5 | 23.6 | state | 100 |  3.35 |\n",
       "| Arizona | 18.9 | 81 | 13.2 | 3.2 | 27.6 |  8.1 | state |  18 |  2.48 |\n",
       "| Arkansas | 16.9 | 38 | 19.0 | 0.2 | 44.5 |  7.0 | state |   0 | -0.74 |\n",
       "| California.R | 24.3 | 73 | 10.4 | 5.0 | 26.0 | 11.8 | state |   4 |  3.60 |\n",
       "| Colorado | 15.2 | 73 | 10.1 | 1.2 | 21.4 |  9.2 | state |  19 |  1.34 |\n",
       "| Connecticut | 10.8 | 58 |  8.0 | 2.4 | 29.7 | 21.0 | state |   0 | -0.26 |\n",
       "| Delaware | 17.5 | 68 | 11.8 | 0.7 | 31.4 |  8.9 | state |   0 | -0.16 |\n",
       "| Florida | 22.3 | 81 | 13.4 | 3.6 | 33.3 | 10.1 | state |   0 |  2.20 |\n",
       "| Georgia | 27.6 | 55 | 16.6 | 0.3 | 43.6 | 10.2 | state |   0 |  0.37 |\n",
       "| Hawaii |  9.1 | 75 |  9.9 | 5.7 | 26.2 | 17.0 | state |  29 |  1.46 |\n",
       "| Idaho |  4.2 | 48 | 12.6 | 1.0 | 26.3 |  9.1 | state |  56 |  1.53 |\n",
       "| Illinois.R |  8.1 | 48 |  7.7 | 1.0 | 29.8 | 13.5 | state |   0 |  1.69 |\n",
       "| Indiana.R |  7.1 | 48 |  9.4 | 0.5 | 33.6 |  9.9 | state |   0 | -0.68 |\n",
       "| Iowa |  2.3 | 47 | 10.1 | 0.3 | 28.5 | 10.4 | state |   0 | -0.59 |\n",
       "| Kansas |  7.9 | 54 | 10.1 | 0.5 | 26.7 |  8.5 | state |  14 |  0.94 |\n",
       "| Kentucky |  7.7 | 34 | 17.6 | 0.2 | 46.9 | 10.6 | state |   0 | -1.41 |\n",
       "| Louisiana | 31.4 | 54 | 18.6 | 1.1 | 42.3 |  9.7 | state |   0 |  2.46 |\n",
       "| Maine |  0.7 | 44 | 13.0 | 1.0 | 31.3 | 19.5 | state |  40 |  2.06 |\n",
       "| Maryland.R | 16.7 | 58 |  6.8 | 0.8 | 28.2 | 10.5 | state |   0 |  2.03 |\n",
       "| Massachusetts.R |  3.8 | 53 |  8.5 | 2.1 | 27.4 | 26.9 | state |   4 | -0.57 |\n",
       "| Michigan.R |  7.0 | 61 |  8.7 | 0.7 | 29.9 |  9.4 | state |   8 |  0.89 |\n",
       "| Minnesota |  2.1 | 48 |  9.5 | 0.5 | 26.9 | 10.7 | state |  11 |  1.57 |\n",
       "| Mississippi | 35.8 | 34 | 23.9 | 0.2 | 45.2 |  7.2 | state |   0 |  1.52 |\n",
       "| Missouri.R |  7.8 | 45 | 11.2 | 0.3 | 34.9 |  9.1 | state |   0 |  0.81 |\n",
       "| Montana |  1.5 | 50 | 12.3 | 0.4 | 25.6 | 12.8 | state |  75 |  1.81 |\n",
       "| Nebraska |  4.8 | 43 | 10.7 | 0.5 | 26.6 |  9.7 | state |  33 |  0.36 |\n",
       "| Nevada | 13.0 | 88 |  8.7 | 1.6 | 24.5 | 11.7 | state |  10 |  5.08 |\n",
       "| New.Hampshire |  1.0 | 47 |  8.5 | 0.8 | 27.7 | 20.3 | state |   0 | -1.49 |\n",
       "| New.Jersey | 19.0 | 64 |  9.5 | 3.6 | 32.6 | 23.7 | state |   0 |  1.44 |\n",
       "| New.Mexico | 38.4 | 59 | 17.6 | 4.6 | 31.1 | 10.7 | state |  58 |  2.69 |\n",
       "| New.York.R |  8.0 | 48 |  8.9 | 1.3 | 29.3 | 21.6 | state |   0 | -1.48 |\n",
       "| North.Carolina | 23.1 | 46 | 14.8 | 0.2 | 45.2 |  8.2 | state |   0 |  1.36 |\n",
       "| North.Dakota |  1.0 | 30 | 12.6 | 0.5 | 33.6 | 15.1 | state |  70 |  0.35 |\n",
       "| Ohio.R |  8.9 | 52 |  9.6 | 0.5 | 32.1 | 11.3 | state |   0 |  0.97 |\n",
       "| Oklahoma |  8.6 | 50 | 13.4 | 0.5 | 34.0 |  8.0 | state |   0 | -0.12 |\n",
       "| Oregon |  3.9 | 60 | 10.7 | 0.8 | 24.4 |  7.9 | state |  13 |  0.93 |\n",
       "| Pennsylvania.R |  4.8 | 33 |  8.8 | 0.6 | 33.6 | 13.3 | state |   0 | -0.78 |\n",
       "| Rhode.Island |  4.9 | 59 | 10.3 | 3.2 | 38.9 | 29.6 | state |   0 |  0.74 |\n",
       "| South.Carolina | 31.0 | 53 | 16.6 | 0.2 | 46.3 |  7.9 | state |   0 |  6.19 |\n",
       "| South.Dakota |  0.9 | 32 | 16.9 | 0.4 | 32.1 | 12.0 | state |  84 |  0.42 |\n",
       "| Tennessee | 16.4 | 44 | 16.4 | 0.2 | 43.8 |  9.4 | state |   0 | -2.31 |\n",
       "| Texas.R | 30.6 | 55 | 15.0 | 4.7 | 38.7 |  7.7 | state |   1 |  0.27 |\n",
       "| Utah |  4.7 | 58 | 10.3 | 0.9 | 20.0 | 11.3 | state |  14 |  1.14 |\n",
       "| Vermont |  0.9 | 50 | 12.1 | 0.5 | 29.0 | 20.8 | state |   0 | -1.12 |\n",
       "| Virginia | 20.0 | 46 | 11.8 | 0.5 | 37.6 | 10.3 | state |   0 |  1.11 |\n",
       "| Washington |  5.4 | 69 |  9.8 | 1.0 | 22.4 |  9.4 | state |   4 |  1.48 |\n",
       "| West.Virginia |  3.9 | 25 | 15.0 | 0.2 | 44.0 |  9.0 | state |   0 | -0.69 |\n",
       "| Wisconsin.R |  1.7 | 45 |  7.9 | 0.4 | 29.5 | 12.8 | state |   9 |  1.45 |\n",
       "| Wyoming |  5.9 | 49 |  7.9 | 0.7 | 22.1 | 13.2 | state | 100 |  4.01 |\n",
       "\n"
      ],
      "text/plain": [
       "                minority crime poverty language highschool housing city \n",
       "Alabama         26.1     49    18.9    0.2      43.5        7.6    state\n",
       "Alaska           5.7     62    10.7    1.7      17.5       23.6    state\n",
       "Arizona         18.9     81    13.2    3.2      27.6        8.1    state\n",
       "Arkansas        16.9     38    19.0    0.2      44.5        7.0    state\n",
       "California.R    24.3     73    10.4    5.0      26.0       11.8    state\n",
       "Colorado        15.2     73    10.1    1.2      21.4        9.2    state\n",
       "Connecticut     10.8     58     8.0    2.4      29.7       21.0    state\n",
       "Delaware        17.5     68    11.8    0.7      31.4        8.9    state\n",
       "Florida         22.3     81    13.4    3.6      33.3       10.1    state\n",
       "Georgia         27.6     55    16.6    0.3      43.6       10.2    state\n",
       "Hawaii           9.1     75     9.9    5.7      26.2       17.0    state\n",
       "Idaho            4.2     48    12.6    1.0      26.3        9.1    state\n",
       "Illinois.R       8.1     48     7.7    1.0      29.8       13.5    state\n",
       "Indiana.R        7.1     48     9.4    0.5      33.6        9.9    state\n",
       "Iowa             2.3     47    10.1    0.3      28.5       10.4    state\n",
       "Kansas           7.9     54    10.1    0.5      26.7        8.5    state\n",
       "Kentucky         7.7     34    17.6    0.2      46.9       10.6    state\n",
       "Louisiana       31.4     54    18.6    1.1      42.3        9.7    state\n",
       "Maine            0.7     44    13.0    1.0      31.3       19.5    state\n",
       "Maryland.R      16.7     58     6.8    0.8      28.2       10.5    state\n",
       "Massachusetts.R  3.8     53     8.5    2.1      27.4       26.9    state\n",
       "Michigan.R       7.0     61     8.7    0.7      29.9        9.4    state\n",
       "Minnesota        2.1     48     9.5    0.5      26.9       10.7    state\n",
       "Mississippi     35.8     34    23.9    0.2      45.2        7.2    state\n",
       "Missouri.R       7.8     45    11.2    0.3      34.9        9.1    state\n",
       "Montana          1.5     50    12.3    0.4      25.6       12.8    state\n",
       "Nebraska         4.8     43    10.7    0.5      26.6        9.7    state\n",
       "Nevada          13.0     88     8.7    1.6      24.5       11.7    state\n",
       "New.Hampshire    1.0     47     8.5    0.8      27.7       20.3    state\n",
       "New.Jersey      19.0     64     9.5    3.6      32.6       23.7    state\n",
       "New.Mexico      38.4     59    17.6    4.6      31.1       10.7    state\n",
       "New.York.R       8.0     48     8.9    1.3      29.3       21.6    state\n",
       "North.Carolina  23.1     46    14.8    0.2      45.2        8.2    state\n",
       "North.Dakota     1.0     30    12.6    0.5      33.6       15.1    state\n",
       "Ohio.R           8.9     52     9.6    0.5      32.1       11.3    state\n",
       "Oklahoma         8.6     50    13.4    0.5      34.0        8.0    state\n",
       "Oregon           3.9     60    10.7    0.8      24.4        7.9    state\n",
       "Pennsylvania.R   4.8     33     8.8    0.6      33.6       13.3    state\n",
       "Rhode.Island     4.9     59    10.3    3.2      38.9       29.6    state\n",
       "South.Carolina  31.0     53    16.6    0.2      46.3        7.9    state\n",
       "South.Dakota     0.9     32    16.9    0.4      32.1       12.0    state\n",
       "Tennessee       16.4     44    16.4    0.2      43.8        9.4    state\n",
       "Texas.R         30.6     55    15.0    4.7      38.7        7.7    state\n",
       "Utah             4.7     58    10.3    0.9      20.0       11.3    state\n",
       "Vermont          0.9     50    12.1    0.5      29.0       20.8    state\n",
       "Virginia        20.0     46    11.8    0.5      37.6       10.3    state\n",
       "Washington       5.4     69     9.8    1.0      22.4        9.4    state\n",
       "West.Virginia    3.9     25    15.0    0.2      44.0        9.0    state\n",
       "Wisconsin.R      1.7     45     7.9    0.4      29.5       12.8    state\n",
       "Wyoming          5.9     49     7.9    0.7      22.1       13.2    state\n",
       "                conventional undercount\n",
       "Alabama           0          -0.04     \n",
       "Alaska          100           3.35     \n",
       "Arizona          18           2.48     \n",
       "Arkansas          0          -0.74     \n",
       "California.R      4           3.60     \n",
       "Colorado         19           1.34     \n",
       "Connecticut       0          -0.26     \n",
       "Delaware          0          -0.16     \n",
       "Florida           0           2.20     \n",
       "Georgia           0           0.37     \n",
       "Hawaii           29           1.46     \n",
       "Idaho            56           1.53     \n",
       "Illinois.R        0           1.69     \n",
       "Indiana.R         0          -0.68     \n",
       "Iowa              0          -0.59     \n",
       "Kansas           14           0.94     \n",
       "Kentucky          0          -1.41     \n",
       "Louisiana         0           2.46     \n",
       "Maine            40           2.06     \n",
       "Maryland.R        0           2.03     \n",
       "Massachusetts.R   4          -0.57     \n",
       "Michigan.R        8           0.89     \n",
       "Minnesota        11           1.57     \n",
       "Mississippi       0           1.52     \n",
       "Missouri.R        0           0.81     \n",
       "Montana          75           1.81     \n",
       "Nebraska         33           0.36     \n",
       "Nevada           10           5.08     \n",
       "New.Hampshire     0          -1.49     \n",
       "New.Jersey        0           1.44     \n",
       "New.Mexico       58           2.69     \n",
       "New.York.R        0          -1.48     \n",
       "North.Carolina    0           1.36     \n",
       "North.Dakota     70           0.35     \n",
       "Ohio.R            0           0.97     \n",
       "Oklahoma          0          -0.12     \n",
       "Oregon           13           0.93     \n",
       "Pennsylvania.R    0          -0.78     \n",
       "Rhode.Island      0           0.74     \n",
       "South.Carolina    0           6.19     \n",
       "South.Dakota     84           0.42     \n",
       "Tennessee         0          -2.31     \n",
       "Texas.R           1           0.27     \n",
       "Utah             14           1.14     \n",
       "Vermont           0          -1.12     \n",
       "Virginia          0           1.11     \n",
       "Washington        4           1.48     \n",
       "West.Virginia     0          -0.69     \n",
       "Wisconsin.R       9           1.45     \n",
       "Wyoming         100           4.01     "
      ]
     },
     "metadata": {},
     "output_type": "display_data"
    }
   ],
   "source": [
    "ds"
   ]
  },
  {
   "cell_type": "code",
   "execution_count": 19,
   "id": "d2f6ea63",
   "metadata": {},
   "outputs": [],
   "source": [
    "ds$name = rownames(ds)"
   ]
  },
  {
   "cell_type": "code",
   "execution_count": 20,
   "id": "99edff91",
   "metadata": {},
   "outputs": [
    {
     "data": {
      "text/html": [
       "<table class=\"dataframe\">\n",
       "<caption>A data.frame: 50 × 10</caption>\n",
       "<thead>\n",
       "\t<tr><th></th><th scope=col>minority</th><th scope=col>crime</th><th scope=col>poverty</th><th scope=col>language</th><th scope=col>highschool</th><th scope=col>housing</th><th scope=col>city</th><th scope=col>conventional</th><th scope=col>undercount</th><th scope=col>name</th></tr>\n",
       "\t<tr><th></th><th scope=col>&lt;dbl&gt;</th><th scope=col>&lt;int&gt;</th><th scope=col>&lt;dbl&gt;</th><th scope=col>&lt;dbl&gt;</th><th scope=col>&lt;dbl&gt;</th><th scope=col>&lt;dbl&gt;</th><th scope=col>&lt;fct&gt;</th><th scope=col>&lt;int&gt;</th><th scope=col>&lt;dbl&gt;</th><th scope=col>&lt;chr&gt;</th></tr>\n",
       "</thead>\n",
       "<tbody>\n",
       "\t<tr><th scope=row>Alabama</th><td>26.1</td><td>49</td><td>18.9</td><td>0.2</td><td>43.5</td><td> 7.6</td><td>state</td><td>  0</td><td>-0.04</td><td>Alabama        </td></tr>\n",
       "\t<tr><th scope=row>Alaska</th><td> 5.7</td><td>62</td><td>10.7</td><td>1.7</td><td>17.5</td><td>23.6</td><td>state</td><td>100</td><td> 3.35</td><td>Alaska         </td></tr>\n",
       "\t<tr><th scope=row>Arizona</th><td>18.9</td><td>81</td><td>13.2</td><td>3.2</td><td>27.6</td><td> 8.1</td><td>state</td><td> 18</td><td> 2.48</td><td>Arizona        </td></tr>\n",
       "\t<tr><th scope=row>Arkansas</th><td>16.9</td><td>38</td><td>19.0</td><td>0.2</td><td>44.5</td><td> 7.0</td><td>state</td><td>  0</td><td>-0.74</td><td>Arkansas       </td></tr>\n",
       "\t<tr><th scope=row>California.R</th><td>24.3</td><td>73</td><td>10.4</td><td>5.0</td><td>26.0</td><td>11.8</td><td>state</td><td>  4</td><td> 3.60</td><td>California.R   </td></tr>\n",
       "\t<tr><th scope=row>Colorado</th><td>15.2</td><td>73</td><td>10.1</td><td>1.2</td><td>21.4</td><td> 9.2</td><td>state</td><td> 19</td><td> 1.34</td><td>Colorado       </td></tr>\n",
       "\t<tr><th scope=row>Connecticut</th><td>10.8</td><td>58</td><td> 8.0</td><td>2.4</td><td>29.7</td><td>21.0</td><td>state</td><td>  0</td><td>-0.26</td><td>Connecticut    </td></tr>\n",
       "\t<tr><th scope=row>Delaware</th><td>17.5</td><td>68</td><td>11.8</td><td>0.7</td><td>31.4</td><td> 8.9</td><td>state</td><td>  0</td><td>-0.16</td><td>Delaware       </td></tr>\n",
       "\t<tr><th scope=row>Florida</th><td>22.3</td><td>81</td><td>13.4</td><td>3.6</td><td>33.3</td><td>10.1</td><td>state</td><td>  0</td><td> 2.20</td><td>Florida        </td></tr>\n",
       "\t<tr><th scope=row>Georgia</th><td>27.6</td><td>55</td><td>16.6</td><td>0.3</td><td>43.6</td><td>10.2</td><td>state</td><td>  0</td><td> 0.37</td><td>Georgia        </td></tr>\n",
       "\t<tr><th scope=row>Hawaii</th><td> 9.1</td><td>75</td><td> 9.9</td><td>5.7</td><td>26.2</td><td>17.0</td><td>state</td><td> 29</td><td> 1.46</td><td>Hawaii         </td></tr>\n",
       "\t<tr><th scope=row>Idaho</th><td> 4.2</td><td>48</td><td>12.6</td><td>1.0</td><td>26.3</td><td> 9.1</td><td>state</td><td> 56</td><td> 1.53</td><td>Idaho          </td></tr>\n",
       "\t<tr><th scope=row>Illinois.R</th><td> 8.1</td><td>48</td><td> 7.7</td><td>1.0</td><td>29.8</td><td>13.5</td><td>state</td><td>  0</td><td> 1.69</td><td>Illinois.R     </td></tr>\n",
       "\t<tr><th scope=row>Indiana.R</th><td> 7.1</td><td>48</td><td> 9.4</td><td>0.5</td><td>33.6</td><td> 9.9</td><td>state</td><td>  0</td><td>-0.68</td><td>Indiana.R      </td></tr>\n",
       "\t<tr><th scope=row>Iowa</th><td> 2.3</td><td>47</td><td>10.1</td><td>0.3</td><td>28.5</td><td>10.4</td><td>state</td><td>  0</td><td>-0.59</td><td>Iowa           </td></tr>\n",
       "\t<tr><th scope=row>Kansas</th><td> 7.9</td><td>54</td><td>10.1</td><td>0.5</td><td>26.7</td><td> 8.5</td><td>state</td><td> 14</td><td> 0.94</td><td>Kansas         </td></tr>\n",
       "\t<tr><th scope=row>Kentucky</th><td> 7.7</td><td>34</td><td>17.6</td><td>0.2</td><td>46.9</td><td>10.6</td><td>state</td><td>  0</td><td>-1.41</td><td>Kentucky       </td></tr>\n",
       "\t<tr><th scope=row>Louisiana</th><td>31.4</td><td>54</td><td>18.6</td><td>1.1</td><td>42.3</td><td> 9.7</td><td>state</td><td>  0</td><td> 2.46</td><td>Louisiana      </td></tr>\n",
       "\t<tr><th scope=row>Maine</th><td> 0.7</td><td>44</td><td>13.0</td><td>1.0</td><td>31.3</td><td>19.5</td><td>state</td><td> 40</td><td> 2.06</td><td>Maine          </td></tr>\n",
       "\t<tr><th scope=row>Maryland.R</th><td>16.7</td><td>58</td><td> 6.8</td><td>0.8</td><td>28.2</td><td>10.5</td><td>state</td><td>  0</td><td> 2.03</td><td>Maryland.R     </td></tr>\n",
       "\t<tr><th scope=row>Massachusetts.R</th><td> 3.8</td><td>53</td><td> 8.5</td><td>2.1</td><td>27.4</td><td>26.9</td><td>state</td><td>  4</td><td>-0.57</td><td>Massachusetts.R</td></tr>\n",
       "\t<tr><th scope=row>Michigan.R</th><td> 7.0</td><td>61</td><td> 8.7</td><td>0.7</td><td>29.9</td><td> 9.4</td><td>state</td><td>  8</td><td> 0.89</td><td>Michigan.R     </td></tr>\n",
       "\t<tr><th scope=row>Minnesota</th><td> 2.1</td><td>48</td><td> 9.5</td><td>0.5</td><td>26.9</td><td>10.7</td><td>state</td><td> 11</td><td> 1.57</td><td>Minnesota      </td></tr>\n",
       "\t<tr><th scope=row>Mississippi</th><td>35.8</td><td>34</td><td>23.9</td><td>0.2</td><td>45.2</td><td> 7.2</td><td>state</td><td>  0</td><td> 1.52</td><td>Mississippi    </td></tr>\n",
       "\t<tr><th scope=row>Missouri.R</th><td> 7.8</td><td>45</td><td>11.2</td><td>0.3</td><td>34.9</td><td> 9.1</td><td>state</td><td>  0</td><td> 0.81</td><td>Missouri.R     </td></tr>\n",
       "\t<tr><th scope=row>Montana</th><td> 1.5</td><td>50</td><td>12.3</td><td>0.4</td><td>25.6</td><td>12.8</td><td>state</td><td> 75</td><td> 1.81</td><td>Montana        </td></tr>\n",
       "\t<tr><th scope=row>Nebraska</th><td> 4.8</td><td>43</td><td>10.7</td><td>0.5</td><td>26.6</td><td> 9.7</td><td>state</td><td> 33</td><td> 0.36</td><td>Nebraska       </td></tr>\n",
       "\t<tr><th scope=row>Nevada</th><td>13.0</td><td>88</td><td> 8.7</td><td>1.6</td><td>24.5</td><td>11.7</td><td>state</td><td> 10</td><td> 5.08</td><td>Nevada         </td></tr>\n",
       "\t<tr><th scope=row>New.Hampshire</th><td> 1.0</td><td>47</td><td> 8.5</td><td>0.8</td><td>27.7</td><td>20.3</td><td>state</td><td>  0</td><td>-1.49</td><td>New.Hampshire  </td></tr>\n",
       "\t<tr><th scope=row>New.Jersey</th><td>19.0</td><td>64</td><td> 9.5</td><td>3.6</td><td>32.6</td><td>23.7</td><td>state</td><td>  0</td><td> 1.44</td><td>New.Jersey     </td></tr>\n",
       "\t<tr><th scope=row>New.Mexico</th><td>38.4</td><td>59</td><td>17.6</td><td>4.6</td><td>31.1</td><td>10.7</td><td>state</td><td> 58</td><td> 2.69</td><td>New.Mexico     </td></tr>\n",
       "\t<tr><th scope=row>New.York.R</th><td> 8.0</td><td>48</td><td> 8.9</td><td>1.3</td><td>29.3</td><td>21.6</td><td>state</td><td>  0</td><td>-1.48</td><td>New.York.R     </td></tr>\n",
       "\t<tr><th scope=row>North.Carolina</th><td>23.1</td><td>46</td><td>14.8</td><td>0.2</td><td>45.2</td><td> 8.2</td><td>state</td><td>  0</td><td> 1.36</td><td>North.Carolina </td></tr>\n",
       "\t<tr><th scope=row>North.Dakota</th><td> 1.0</td><td>30</td><td>12.6</td><td>0.5</td><td>33.6</td><td>15.1</td><td>state</td><td> 70</td><td> 0.35</td><td>North.Dakota   </td></tr>\n",
       "\t<tr><th scope=row>Ohio.R</th><td> 8.9</td><td>52</td><td> 9.6</td><td>0.5</td><td>32.1</td><td>11.3</td><td>state</td><td>  0</td><td> 0.97</td><td>Ohio.R         </td></tr>\n",
       "\t<tr><th scope=row>Oklahoma</th><td> 8.6</td><td>50</td><td>13.4</td><td>0.5</td><td>34.0</td><td> 8.0</td><td>state</td><td>  0</td><td>-0.12</td><td>Oklahoma       </td></tr>\n",
       "\t<tr><th scope=row>Oregon</th><td> 3.9</td><td>60</td><td>10.7</td><td>0.8</td><td>24.4</td><td> 7.9</td><td>state</td><td> 13</td><td> 0.93</td><td>Oregon         </td></tr>\n",
       "\t<tr><th scope=row>Pennsylvania.R</th><td> 4.8</td><td>33</td><td> 8.8</td><td>0.6</td><td>33.6</td><td>13.3</td><td>state</td><td>  0</td><td>-0.78</td><td>Pennsylvania.R </td></tr>\n",
       "\t<tr><th scope=row>Rhode.Island</th><td> 4.9</td><td>59</td><td>10.3</td><td>3.2</td><td>38.9</td><td>29.6</td><td>state</td><td>  0</td><td> 0.74</td><td>Rhode.Island   </td></tr>\n",
       "\t<tr><th scope=row>South.Carolina</th><td>31.0</td><td>53</td><td>16.6</td><td>0.2</td><td>46.3</td><td> 7.9</td><td>state</td><td>  0</td><td> 6.19</td><td>South.Carolina </td></tr>\n",
       "\t<tr><th scope=row>South.Dakota</th><td> 0.9</td><td>32</td><td>16.9</td><td>0.4</td><td>32.1</td><td>12.0</td><td>state</td><td> 84</td><td> 0.42</td><td>South.Dakota   </td></tr>\n",
       "\t<tr><th scope=row>Tennessee</th><td>16.4</td><td>44</td><td>16.4</td><td>0.2</td><td>43.8</td><td> 9.4</td><td>state</td><td>  0</td><td>-2.31</td><td>Tennessee      </td></tr>\n",
       "\t<tr><th scope=row>Texas.R</th><td>30.6</td><td>55</td><td>15.0</td><td>4.7</td><td>38.7</td><td> 7.7</td><td>state</td><td>  1</td><td> 0.27</td><td>Texas.R        </td></tr>\n",
       "\t<tr><th scope=row>Utah</th><td> 4.7</td><td>58</td><td>10.3</td><td>0.9</td><td>20.0</td><td>11.3</td><td>state</td><td> 14</td><td> 1.14</td><td>Utah           </td></tr>\n",
       "\t<tr><th scope=row>Vermont</th><td> 0.9</td><td>50</td><td>12.1</td><td>0.5</td><td>29.0</td><td>20.8</td><td>state</td><td>  0</td><td>-1.12</td><td>Vermont        </td></tr>\n",
       "\t<tr><th scope=row>Virginia</th><td>20.0</td><td>46</td><td>11.8</td><td>0.5</td><td>37.6</td><td>10.3</td><td>state</td><td>  0</td><td> 1.11</td><td>Virginia       </td></tr>\n",
       "\t<tr><th scope=row>Washington</th><td> 5.4</td><td>69</td><td> 9.8</td><td>1.0</td><td>22.4</td><td> 9.4</td><td>state</td><td>  4</td><td> 1.48</td><td>Washington     </td></tr>\n",
       "\t<tr><th scope=row>West.Virginia</th><td> 3.9</td><td>25</td><td>15.0</td><td>0.2</td><td>44.0</td><td> 9.0</td><td>state</td><td>  0</td><td>-0.69</td><td>West.Virginia  </td></tr>\n",
       "\t<tr><th scope=row>Wisconsin.R</th><td> 1.7</td><td>45</td><td> 7.9</td><td>0.4</td><td>29.5</td><td>12.8</td><td>state</td><td>  9</td><td> 1.45</td><td>Wisconsin.R    </td></tr>\n",
       "\t<tr><th scope=row>Wyoming</th><td> 5.9</td><td>49</td><td> 7.9</td><td>0.7</td><td>22.1</td><td>13.2</td><td>state</td><td>100</td><td> 4.01</td><td>Wyoming        </td></tr>\n",
       "</tbody>\n",
       "</table>\n"
      ],
      "text/latex": [
       "A data.frame: 50 × 10\n",
       "\\begin{tabular}{r|llllllllll}\n",
       "  & minority & crime & poverty & language & highschool & housing & city & conventional & undercount & name\\\\\n",
       "  & <dbl> & <int> & <dbl> & <dbl> & <dbl> & <dbl> & <fct> & <int> & <dbl> & <chr>\\\\\n",
       "\\hline\n",
       "\tAlabama & 26.1 & 49 & 18.9 & 0.2 & 43.5 &  7.6 & state &   0 & -0.04 & Alabama        \\\\\n",
       "\tAlaska &  5.7 & 62 & 10.7 & 1.7 & 17.5 & 23.6 & state & 100 &  3.35 & Alaska         \\\\\n",
       "\tArizona & 18.9 & 81 & 13.2 & 3.2 & 27.6 &  8.1 & state &  18 &  2.48 & Arizona        \\\\\n",
       "\tArkansas & 16.9 & 38 & 19.0 & 0.2 & 44.5 &  7.0 & state &   0 & -0.74 & Arkansas       \\\\\n",
       "\tCalifornia.R & 24.3 & 73 & 10.4 & 5.0 & 26.0 & 11.8 & state &   4 &  3.60 & California.R   \\\\\n",
       "\tColorado & 15.2 & 73 & 10.1 & 1.2 & 21.4 &  9.2 & state &  19 &  1.34 & Colorado       \\\\\n",
       "\tConnecticut & 10.8 & 58 &  8.0 & 2.4 & 29.7 & 21.0 & state &   0 & -0.26 & Connecticut    \\\\\n",
       "\tDelaware & 17.5 & 68 & 11.8 & 0.7 & 31.4 &  8.9 & state &   0 & -0.16 & Delaware       \\\\\n",
       "\tFlorida & 22.3 & 81 & 13.4 & 3.6 & 33.3 & 10.1 & state &   0 &  2.20 & Florida        \\\\\n",
       "\tGeorgia & 27.6 & 55 & 16.6 & 0.3 & 43.6 & 10.2 & state &   0 &  0.37 & Georgia        \\\\\n",
       "\tHawaii &  9.1 & 75 &  9.9 & 5.7 & 26.2 & 17.0 & state &  29 &  1.46 & Hawaii         \\\\\n",
       "\tIdaho &  4.2 & 48 & 12.6 & 1.0 & 26.3 &  9.1 & state &  56 &  1.53 & Idaho          \\\\\n",
       "\tIllinois.R &  8.1 & 48 &  7.7 & 1.0 & 29.8 & 13.5 & state &   0 &  1.69 & Illinois.R     \\\\\n",
       "\tIndiana.R &  7.1 & 48 &  9.4 & 0.5 & 33.6 &  9.9 & state &   0 & -0.68 & Indiana.R      \\\\\n",
       "\tIowa &  2.3 & 47 & 10.1 & 0.3 & 28.5 & 10.4 & state &   0 & -0.59 & Iowa           \\\\\n",
       "\tKansas &  7.9 & 54 & 10.1 & 0.5 & 26.7 &  8.5 & state &  14 &  0.94 & Kansas         \\\\\n",
       "\tKentucky &  7.7 & 34 & 17.6 & 0.2 & 46.9 & 10.6 & state &   0 & -1.41 & Kentucky       \\\\\n",
       "\tLouisiana & 31.4 & 54 & 18.6 & 1.1 & 42.3 &  9.7 & state &   0 &  2.46 & Louisiana      \\\\\n",
       "\tMaine &  0.7 & 44 & 13.0 & 1.0 & 31.3 & 19.5 & state &  40 &  2.06 & Maine          \\\\\n",
       "\tMaryland.R & 16.7 & 58 &  6.8 & 0.8 & 28.2 & 10.5 & state &   0 &  2.03 & Maryland.R     \\\\\n",
       "\tMassachusetts.R &  3.8 & 53 &  8.5 & 2.1 & 27.4 & 26.9 & state &   4 & -0.57 & Massachusetts.R\\\\\n",
       "\tMichigan.R &  7.0 & 61 &  8.7 & 0.7 & 29.9 &  9.4 & state &   8 &  0.89 & Michigan.R     \\\\\n",
       "\tMinnesota &  2.1 & 48 &  9.5 & 0.5 & 26.9 & 10.7 & state &  11 &  1.57 & Minnesota      \\\\\n",
       "\tMississippi & 35.8 & 34 & 23.9 & 0.2 & 45.2 &  7.2 & state &   0 &  1.52 & Mississippi    \\\\\n",
       "\tMissouri.R &  7.8 & 45 & 11.2 & 0.3 & 34.9 &  9.1 & state &   0 &  0.81 & Missouri.R     \\\\\n",
       "\tMontana &  1.5 & 50 & 12.3 & 0.4 & 25.6 & 12.8 & state &  75 &  1.81 & Montana        \\\\\n",
       "\tNebraska &  4.8 & 43 & 10.7 & 0.5 & 26.6 &  9.7 & state &  33 &  0.36 & Nebraska       \\\\\n",
       "\tNevada & 13.0 & 88 &  8.7 & 1.6 & 24.5 & 11.7 & state &  10 &  5.08 & Nevada         \\\\\n",
       "\tNew.Hampshire &  1.0 & 47 &  8.5 & 0.8 & 27.7 & 20.3 & state &   0 & -1.49 & New.Hampshire  \\\\\n",
       "\tNew.Jersey & 19.0 & 64 &  9.5 & 3.6 & 32.6 & 23.7 & state &   0 &  1.44 & New.Jersey     \\\\\n",
       "\tNew.Mexico & 38.4 & 59 & 17.6 & 4.6 & 31.1 & 10.7 & state &  58 &  2.69 & New.Mexico     \\\\\n",
       "\tNew.York.R &  8.0 & 48 &  8.9 & 1.3 & 29.3 & 21.6 & state &   0 & -1.48 & New.York.R     \\\\\n",
       "\tNorth.Carolina & 23.1 & 46 & 14.8 & 0.2 & 45.2 &  8.2 & state &   0 &  1.36 & North.Carolina \\\\\n",
       "\tNorth.Dakota &  1.0 & 30 & 12.6 & 0.5 & 33.6 & 15.1 & state &  70 &  0.35 & North.Dakota   \\\\\n",
       "\tOhio.R &  8.9 & 52 &  9.6 & 0.5 & 32.1 & 11.3 & state &   0 &  0.97 & Ohio.R         \\\\\n",
       "\tOklahoma &  8.6 & 50 & 13.4 & 0.5 & 34.0 &  8.0 & state &   0 & -0.12 & Oklahoma       \\\\\n",
       "\tOregon &  3.9 & 60 & 10.7 & 0.8 & 24.4 &  7.9 & state &  13 &  0.93 & Oregon         \\\\\n",
       "\tPennsylvania.R &  4.8 & 33 &  8.8 & 0.6 & 33.6 & 13.3 & state &   0 & -0.78 & Pennsylvania.R \\\\\n",
       "\tRhode.Island &  4.9 & 59 & 10.3 & 3.2 & 38.9 & 29.6 & state &   0 &  0.74 & Rhode.Island   \\\\\n",
       "\tSouth.Carolina & 31.0 & 53 & 16.6 & 0.2 & 46.3 &  7.9 & state &   0 &  6.19 & South.Carolina \\\\\n",
       "\tSouth.Dakota &  0.9 & 32 & 16.9 & 0.4 & 32.1 & 12.0 & state &  84 &  0.42 & South.Dakota   \\\\\n",
       "\tTennessee & 16.4 & 44 & 16.4 & 0.2 & 43.8 &  9.4 & state &   0 & -2.31 & Tennessee      \\\\\n",
       "\tTexas.R & 30.6 & 55 & 15.0 & 4.7 & 38.7 &  7.7 & state &   1 &  0.27 & Texas.R        \\\\\n",
       "\tUtah &  4.7 & 58 & 10.3 & 0.9 & 20.0 & 11.3 & state &  14 &  1.14 & Utah           \\\\\n",
       "\tVermont &  0.9 & 50 & 12.1 & 0.5 & 29.0 & 20.8 & state &   0 & -1.12 & Vermont        \\\\\n",
       "\tVirginia & 20.0 & 46 & 11.8 & 0.5 & 37.6 & 10.3 & state &   0 &  1.11 & Virginia       \\\\\n",
       "\tWashington &  5.4 & 69 &  9.8 & 1.0 & 22.4 &  9.4 & state &   4 &  1.48 & Washington     \\\\\n",
       "\tWest.Virginia &  3.9 & 25 & 15.0 & 0.2 & 44.0 &  9.0 & state &   0 & -0.69 & West.Virginia  \\\\\n",
       "\tWisconsin.R &  1.7 & 45 &  7.9 & 0.4 & 29.5 & 12.8 & state &   9 &  1.45 & Wisconsin.R    \\\\\n",
       "\tWyoming &  5.9 & 49 &  7.9 & 0.7 & 22.1 & 13.2 & state & 100 &  4.01 & Wyoming        \\\\\n",
       "\\end{tabular}\n"
      ],
      "text/markdown": [
       "\n",
       "A data.frame: 50 × 10\n",
       "\n",
       "| <!--/--> | minority &lt;dbl&gt; | crime &lt;int&gt; | poverty &lt;dbl&gt; | language &lt;dbl&gt; | highschool &lt;dbl&gt; | housing &lt;dbl&gt; | city &lt;fct&gt; | conventional &lt;int&gt; | undercount &lt;dbl&gt; | name &lt;chr&gt; |\n",
       "|---|---|---|---|---|---|---|---|---|---|---|\n",
       "| Alabama | 26.1 | 49 | 18.9 | 0.2 | 43.5 |  7.6 | state |   0 | -0.04 | Alabama         |\n",
       "| Alaska |  5.7 | 62 | 10.7 | 1.7 | 17.5 | 23.6 | state | 100 |  3.35 | Alaska          |\n",
       "| Arizona | 18.9 | 81 | 13.2 | 3.2 | 27.6 |  8.1 | state |  18 |  2.48 | Arizona         |\n",
       "| Arkansas | 16.9 | 38 | 19.0 | 0.2 | 44.5 |  7.0 | state |   0 | -0.74 | Arkansas        |\n",
       "| California.R | 24.3 | 73 | 10.4 | 5.0 | 26.0 | 11.8 | state |   4 |  3.60 | California.R    |\n",
       "| Colorado | 15.2 | 73 | 10.1 | 1.2 | 21.4 |  9.2 | state |  19 |  1.34 | Colorado        |\n",
       "| Connecticut | 10.8 | 58 |  8.0 | 2.4 | 29.7 | 21.0 | state |   0 | -0.26 | Connecticut     |\n",
       "| Delaware | 17.5 | 68 | 11.8 | 0.7 | 31.4 |  8.9 | state |   0 | -0.16 | Delaware        |\n",
       "| Florida | 22.3 | 81 | 13.4 | 3.6 | 33.3 | 10.1 | state |   0 |  2.20 | Florida         |\n",
       "| Georgia | 27.6 | 55 | 16.6 | 0.3 | 43.6 | 10.2 | state |   0 |  0.37 | Georgia         |\n",
       "| Hawaii |  9.1 | 75 |  9.9 | 5.7 | 26.2 | 17.0 | state |  29 |  1.46 | Hawaii          |\n",
       "| Idaho |  4.2 | 48 | 12.6 | 1.0 | 26.3 |  9.1 | state |  56 |  1.53 | Idaho           |\n",
       "| Illinois.R |  8.1 | 48 |  7.7 | 1.0 | 29.8 | 13.5 | state |   0 |  1.69 | Illinois.R      |\n",
       "| Indiana.R |  7.1 | 48 |  9.4 | 0.5 | 33.6 |  9.9 | state |   0 | -0.68 | Indiana.R       |\n",
       "| Iowa |  2.3 | 47 | 10.1 | 0.3 | 28.5 | 10.4 | state |   0 | -0.59 | Iowa            |\n",
       "| Kansas |  7.9 | 54 | 10.1 | 0.5 | 26.7 |  8.5 | state |  14 |  0.94 | Kansas          |\n",
       "| Kentucky |  7.7 | 34 | 17.6 | 0.2 | 46.9 | 10.6 | state |   0 | -1.41 | Kentucky        |\n",
       "| Louisiana | 31.4 | 54 | 18.6 | 1.1 | 42.3 |  9.7 | state |   0 |  2.46 | Louisiana       |\n",
       "| Maine |  0.7 | 44 | 13.0 | 1.0 | 31.3 | 19.5 | state |  40 |  2.06 | Maine           |\n",
       "| Maryland.R | 16.7 | 58 |  6.8 | 0.8 | 28.2 | 10.5 | state |   0 |  2.03 | Maryland.R      |\n",
       "| Massachusetts.R |  3.8 | 53 |  8.5 | 2.1 | 27.4 | 26.9 | state |   4 | -0.57 | Massachusetts.R |\n",
       "| Michigan.R |  7.0 | 61 |  8.7 | 0.7 | 29.9 |  9.4 | state |   8 |  0.89 | Michigan.R      |\n",
       "| Minnesota |  2.1 | 48 |  9.5 | 0.5 | 26.9 | 10.7 | state |  11 |  1.57 | Minnesota       |\n",
       "| Mississippi | 35.8 | 34 | 23.9 | 0.2 | 45.2 |  7.2 | state |   0 |  1.52 | Mississippi     |\n",
       "| Missouri.R |  7.8 | 45 | 11.2 | 0.3 | 34.9 |  9.1 | state |   0 |  0.81 | Missouri.R      |\n",
       "| Montana |  1.5 | 50 | 12.3 | 0.4 | 25.6 | 12.8 | state |  75 |  1.81 | Montana         |\n",
       "| Nebraska |  4.8 | 43 | 10.7 | 0.5 | 26.6 |  9.7 | state |  33 |  0.36 | Nebraska        |\n",
       "| Nevada | 13.0 | 88 |  8.7 | 1.6 | 24.5 | 11.7 | state |  10 |  5.08 | Nevada          |\n",
       "| New.Hampshire |  1.0 | 47 |  8.5 | 0.8 | 27.7 | 20.3 | state |   0 | -1.49 | New.Hampshire   |\n",
       "| New.Jersey | 19.0 | 64 |  9.5 | 3.6 | 32.6 | 23.7 | state |   0 |  1.44 | New.Jersey      |\n",
       "| New.Mexico | 38.4 | 59 | 17.6 | 4.6 | 31.1 | 10.7 | state |  58 |  2.69 | New.Mexico      |\n",
       "| New.York.R |  8.0 | 48 |  8.9 | 1.3 | 29.3 | 21.6 | state |   0 | -1.48 | New.York.R      |\n",
       "| North.Carolina | 23.1 | 46 | 14.8 | 0.2 | 45.2 |  8.2 | state |   0 |  1.36 | North.Carolina  |\n",
       "| North.Dakota |  1.0 | 30 | 12.6 | 0.5 | 33.6 | 15.1 | state |  70 |  0.35 | North.Dakota    |\n",
       "| Ohio.R |  8.9 | 52 |  9.6 | 0.5 | 32.1 | 11.3 | state |   0 |  0.97 | Ohio.R          |\n",
       "| Oklahoma |  8.6 | 50 | 13.4 | 0.5 | 34.0 |  8.0 | state |   0 | -0.12 | Oklahoma        |\n",
       "| Oregon |  3.9 | 60 | 10.7 | 0.8 | 24.4 |  7.9 | state |  13 |  0.93 | Oregon          |\n",
       "| Pennsylvania.R |  4.8 | 33 |  8.8 | 0.6 | 33.6 | 13.3 | state |   0 | -0.78 | Pennsylvania.R  |\n",
       "| Rhode.Island |  4.9 | 59 | 10.3 | 3.2 | 38.9 | 29.6 | state |   0 |  0.74 | Rhode.Island    |\n",
       "| South.Carolina | 31.0 | 53 | 16.6 | 0.2 | 46.3 |  7.9 | state |   0 |  6.19 | South.Carolina  |\n",
       "| South.Dakota |  0.9 | 32 | 16.9 | 0.4 | 32.1 | 12.0 | state |  84 |  0.42 | South.Dakota    |\n",
       "| Tennessee | 16.4 | 44 | 16.4 | 0.2 | 43.8 |  9.4 | state |   0 | -2.31 | Tennessee       |\n",
       "| Texas.R | 30.6 | 55 | 15.0 | 4.7 | 38.7 |  7.7 | state |   1 |  0.27 | Texas.R         |\n",
       "| Utah |  4.7 | 58 | 10.3 | 0.9 | 20.0 | 11.3 | state |  14 |  1.14 | Utah            |\n",
       "| Vermont |  0.9 | 50 | 12.1 | 0.5 | 29.0 | 20.8 | state |   0 | -1.12 | Vermont         |\n",
       "| Virginia | 20.0 | 46 | 11.8 | 0.5 | 37.6 | 10.3 | state |   0 |  1.11 | Virginia        |\n",
       "| Washington |  5.4 | 69 |  9.8 | 1.0 | 22.4 |  9.4 | state |   4 |  1.48 | Washington      |\n",
       "| West.Virginia |  3.9 | 25 | 15.0 | 0.2 | 44.0 |  9.0 | state |   0 | -0.69 | West.Virginia   |\n",
       "| Wisconsin.R |  1.7 | 45 |  7.9 | 0.4 | 29.5 | 12.8 | state |   9 |  1.45 | Wisconsin.R     |\n",
       "| Wyoming |  5.9 | 49 |  7.9 | 0.7 | 22.1 | 13.2 | state | 100 |  4.01 | Wyoming         |\n",
       "\n"
      ],
      "text/plain": [
       "                minority crime poverty language highschool housing city \n",
       "Alabama         26.1     49    18.9    0.2      43.5        7.6    state\n",
       "Alaska           5.7     62    10.7    1.7      17.5       23.6    state\n",
       "Arizona         18.9     81    13.2    3.2      27.6        8.1    state\n",
       "Arkansas        16.9     38    19.0    0.2      44.5        7.0    state\n",
       "California.R    24.3     73    10.4    5.0      26.0       11.8    state\n",
       "Colorado        15.2     73    10.1    1.2      21.4        9.2    state\n",
       "Connecticut     10.8     58     8.0    2.4      29.7       21.0    state\n",
       "Delaware        17.5     68    11.8    0.7      31.4        8.9    state\n",
       "Florida         22.3     81    13.4    3.6      33.3       10.1    state\n",
       "Georgia         27.6     55    16.6    0.3      43.6       10.2    state\n",
       "Hawaii           9.1     75     9.9    5.7      26.2       17.0    state\n",
       "Idaho            4.2     48    12.6    1.0      26.3        9.1    state\n",
       "Illinois.R       8.1     48     7.7    1.0      29.8       13.5    state\n",
       "Indiana.R        7.1     48     9.4    0.5      33.6        9.9    state\n",
       "Iowa             2.3     47    10.1    0.3      28.5       10.4    state\n",
       "Kansas           7.9     54    10.1    0.5      26.7        8.5    state\n",
       "Kentucky         7.7     34    17.6    0.2      46.9       10.6    state\n",
       "Louisiana       31.4     54    18.6    1.1      42.3        9.7    state\n",
       "Maine            0.7     44    13.0    1.0      31.3       19.5    state\n",
       "Maryland.R      16.7     58     6.8    0.8      28.2       10.5    state\n",
       "Massachusetts.R  3.8     53     8.5    2.1      27.4       26.9    state\n",
       "Michigan.R       7.0     61     8.7    0.7      29.9        9.4    state\n",
       "Minnesota        2.1     48     9.5    0.5      26.9       10.7    state\n",
       "Mississippi     35.8     34    23.9    0.2      45.2        7.2    state\n",
       "Missouri.R       7.8     45    11.2    0.3      34.9        9.1    state\n",
       "Montana          1.5     50    12.3    0.4      25.6       12.8    state\n",
       "Nebraska         4.8     43    10.7    0.5      26.6        9.7    state\n",
       "Nevada          13.0     88     8.7    1.6      24.5       11.7    state\n",
       "New.Hampshire    1.0     47     8.5    0.8      27.7       20.3    state\n",
       "New.Jersey      19.0     64     9.5    3.6      32.6       23.7    state\n",
       "New.Mexico      38.4     59    17.6    4.6      31.1       10.7    state\n",
       "New.York.R       8.0     48     8.9    1.3      29.3       21.6    state\n",
       "North.Carolina  23.1     46    14.8    0.2      45.2        8.2    state\n",
       "North.Dakota     1.0     30    12.6    0.5      33.6       15.1    state\n",
       "Ohio.R           8.9     52     9.6    0.5      32.1       11.3    state\n",
       "Oklahoma         8.6     50    13.4    0.5      34.0        8.0    state\n",
       "Oregon           3.9     60    10.7    0.8      24.4        7.9    state\n",
       "Pennsylvania.R   4.8     33     8.8    0.6      33.6       13.3    state\n",
       "Rhode.Island     4.9     59    10.3    3.2      38.9       29.6    state\n",
       "South.Carolina  31.0     53    16.6    0.2      46.3        7.9    state\n",
       "South.Dakota     0.9     32    16.9    0.4      32.1       12.0    state\n",
       "Tennessee       16.4     44    16.4    0.2      43.8        9.4    state\n",
       "Texas.R         30.6     55    15.0    4.7      38.7        7.7    state\n",
       "Utah             4.7     58    10.3    0.9      20.0       11.3    state\n",
       "Vermont          0.9     50    12.1    0.5      29.0       20.8    state\n",
       "Virginia        20.0     46    11.8    0.5      37.6       10.3    state\n",
       "Washington       5.4     69     9.8    1.0      22.4        9.4    state\n",
       "West.Virginia    3.9     25    15.0    0.2      44.0        9.0    state\n",
       "Wisconsin.R      1.7     45     7.9    0.4      29.5       12.8    state\n",
       "Wyoming          5.9     49     7.9    0.7      22.1       13.2    state\n",
       "                conventional undercount name           \n",
       "Alabama           0          -0.04      Alabama        \n",
       "Alaska          100           3.35      Alaska         \n",
       "Arizona          18           2.48      Arizona        \n",
       "Arkansas          0          -0.74      Arkansas       \n",
       "California.R      4           3.60      California.R   \n",
       "Colorado         19           1.34      Colorado       \n",
       "Connecticut       0          -0.26      Connecticut    \n",
       "Delaware          0          -0.16      Delaware       \n",
       "Florida           0           2.20      Florida        \n",
       "Georgia           0           0.37      Georgia        \n",
       "Hawaii           29           1.46      Hawaii         \n",
       "Idaho            56           1.53      Idaho          \n",
       "Illinois.R        0           1.69      Illinois.R     \n",
       "Indiana.R         0          -0.68      Indiana.R      \n",
       "Iowa              0          -0.59      Iowa           \n",
       "Kansas           14           0.94      Kansas         \n",
       "Kentucky          0          -1.41      Kentucky       \n",
       "Louisiana         0           2.46      Louisiana      \n",
       "Maine            40           2.06      Maine          \n",
       "Maryland.R        0           2.03      Maryland.R     \n",
       "Massachusetts.R   4          -0.57      Massachusetts.R\n",
       "Michigan.R        8           0.89      Michigan.R     \n",
       "Minnesota        11           1.57      Minnesota      \n",
       "Mississippi       0           1.52      Mississippi    \n",
       "Missouri.R        0           0.81      Missouri.R     \n",
       "Montana          75           1.81      Montana        \n",
       "Nebraska         33           0.36      Nebraska       \n",
       "Nevada           10           5.08      Nevada         \n",
       "New.Hampshire     0          -1.49      New.Hampshire  \n",
       "New.Jersey        0           1.44      New.Jersey     \n",
       "New.Mexico       58           2.69      New.Mexico     \n",
       "New.York.R        0          -1.48      New.York.R     \n",
       "North.Carolina    0           1.36      North.Carolina \n",
       "North.Dakota     70           0.35      North.Dakota   \n",
       "Ohio.R            0           0.97      Ohio.R         \n",
       "Oklahoma          0          -0.12      Oklahoma       \n",
       "Oregon           13           0.93      Oregon         \n",
       "Pennsylvania.R    0          -0.78      Pennsylvania.R \n",
       "Rhode.Island      0           0.74      Rhode.Island   \n",
       "South.Carolina    0           6.19      South.Carolina \n",
       "South.Dakota     84           0.42      South.Dakota   \n",
       "Tennessee         0          -2.31      Tennessee      \n",
       "Texas.R           1           0.27      Texas.R        \n",
       "Utah             14           1.14      Utah           \n",
       "Vermont           0          -1.12      Vermont        \n",
       "Virginia          0           1.11      Virginia       \n",
       "Washington        4           1.48      Washington     \n",
       "West.Virginia     0          -0.69      West.Virginia  \n",
       "Wisconsin.R       9           1.45      Wisconsin.R    \n",
       "Wyoming         100           4.01      Wyoming        "
      ]
     },
     "metadata": {},
     "output_type": "display_data"
    }
   ],
   "source": [
    "ds"
   ]
  },
  {
   "cell_type": "code",
   "execution_count": 22,
   "id": "fba69877",
   "metadata": {},
   "outputs": [
    {
     "data": {
      "image/png": "[encoded data removed]",
      "text/plain": [
       "plot without title"
      ]
     },
     "metadata": {
      "image/png": {
       "height": 420,
       "width": 420
      }
     },
     "output_type": "display_data"
    }
   ],
   "source": [
    "treemap(ds,\n",
    "       index = c('name'),\n",
    "       vSize = 'poverty',\n",
    "       vColor = 'crime',\n",
    "       type='value',\n",
    "       title = \"USA states poverty and crime\")"
   ]
  },
  {
   "cell_type": "code",
   "execution_count": 24,
   "id": "93861cb6",
   "metadata": {},
   "outputs": [
    {
     "data": {
      "image/png": "[encoded data removed]",
      "text/plain": [
       "plot without title"
      ]
     },
     "metadata": {
      "image/png": {
       "height": 420,
       "width": 420
      }
     },
     "output_type": "display_data"
    }
   ],
   "source": [
    "treemap(ds,\n",
    "       index = c('name'),\n",
    "       vSize = 'housing',\n",
    "       vColor = 'minority',\n",
    "       type = 'value',\n",
    "       palette = heat.colors(nrow(ds)),\n",
    "       title = 'USA states poverty and crime')"
   ]
  },
  {
   "cell_type": "code",
   "execution_count": 25,
   "id": "50b46955",
   "metadata": {},
   "outputs": [
    {
     "data": {
      "text/html": [
       "<table class=\"dataframe\">\n",
       "<caption>A data.frame: 6 × 6</caption>\n",
       "<thead>\n",
       "\t<tr><th></th><th scope=col>Ozone</th><th scope=col>Solar.R</th><th scope=col>Wind</th><th scope=col>Temp</th><th scope=col>Month</th><th scope=col>Day</th></tr>\n",
       "\t<tr><th></th><th scope=col>&lt;int&gt;</th><th scope=col>&lt;int&gt;</th><th scope=col>&lt;dbl&gt;</th><th scope=col>&lt;int&gt;</th><th scope=col>&lt;int&gt;</th><th scope=col>&lt;int&gt;</th></tr>\n",
       "</thead>\n",
       "<tbody>\n",
       "\t<tr><th scope=row>1</th><td>41</td><td>190</td><td> 7.4</td><td>67</td><td>5</td><td>1</td></tr>\n",
       "\t<tr><th scope=row>2</th><td>36</td><td>118</td><td> 8.0</td><td>72</td><td>5</td><td>2</td></tr>\n",
       "\t<tr><th scope=row>3</th><td>12</td><td>149</td><td>12.6</td><td>74</td><td>5</td><td>3</td></tr>\n",
       "\t<tr><th scope=row>4</th><td>18</td><td>313</td><td>11.5</td><td>62</td><td>5</td><td>4</td></tr>\n",
       "\t<tr><th scope=row>5</th><td>NA</td><td> NA</td><td>14.3</td><td>56</td><td>5</td><td>5</td></tr>\n",
       "\t<tr><th scope=row>6</th><td>28</td><td> NA</td><td>14.9</td><td>66</td><td>5</td><td>6</td></tr>\n",
       "</tbody>\n",
       "</table>\n"
      ],
      "text/latex": [
       "A data.frame: 6 × 6\n",
       "\\begin{tabular}{r|llllll}\n",
       "  & Ozone & Solar.R & Wind & Temp & Month & Day\\\\\n",
       "  & <int> & <int> & <dbl> & <int> & <int> & <int>\\\\\n",
       "\\hline\n",
       "\t1 & 41 & 190 &  7.4 & 67 & 5 & 1\\\\\n",
       "\t2 & 36 & 118 &  8.0 & 72 & 5 & 2\\\\\n",
       "\t3 & 12 & 149 & 12.6 & 74 & 5 & 3\\\\\n",
       "\t4 & 18 & 313 & 11.5 & 62 & 5 & 4\\\\\n",
       "\t5 & NA &  NA & 14.3 & 56 & 5 & 5\\\\\n",
       "\t6 & 28 &  NA & 14.9 & 66 & 5 & 6\\\\\n",
       "\\end{tabular}\n"
      ],
      "text/markdown": [
       "\n",
       "A data.frame: 6 × 6\n",
       "\n",
       "| <!--/--> | Ozone &lt;int&gt; | Solar.R &lt;int&gt; | Wind &lt;dbl&gt; | Temp &lt;int&gt; | Month &lt;int&gt; | Day &lt;int&gt; |\n",
       "|---|---|---|---|---|---|---|\n",
       "| 1 | 41 | 190 |  7.4 | 67 | 5 | 1 |\n",
       "| 2 | 36 | 118 |  8.0 | 72 | 5 | 2 |\n",
       "| 3 | 12 | 149 | 12.6 | 74 | 5 | 3 |\n",
       "| 4 | 18 | 313 | 11.5 | 62 | 5 | 4 |\n",
       "| 5 | NA |  NA | 14.3 | 56 | 5 | 5 |\n",
       "| 6 | 28 |  NA | 14.9 | 66 | 5 | 6 |\n",
       "\n"
      ],
      "text/plain": [
       "  Ozone Solar.R Wind Temp Month Day\n",
       "1 41    190      7.4 67   5     1  \n",
       "2 36    118      8.0 72   5     2  \n",
       "3 12    149     12.6 74   5     3  \n",
       "4 18    313     11.5 62   5     4  \n",
       "5 NA     NA     14.3 56   5     5  \n",
       "6 28     NA     14.9 66   5     6  "
      ]
     },
     "metadata": {},
     "output_type": "display_data"
    }
   ],
   "source": [
    "head(airquality)"
   ]
  },
  {
   "cell_type": "code",
   "execution_count": 26,
   "id": "3356be7f",
   "metadata": {},
   "outputs": [
    {
     "data": {
      "text/html": [
       "<table class=\"dataframe\">\n",
       "<caption>A data.frame: 111 × 6</caption>\n",
       "<thead>\n",
       "\t<tr><th></th><th scope=col>Ozone</th><th scope=col>Solar.R</th><th scope=col>Wind</th><th scope=col>Temp</th><th scope=col>Month</th><th scope=col>Day</th></tr>\n",
       "\t<tr><th></th><th scope=col>&lt;int&gt;</th><th scope=col>&lt;int&gt;</th><th scope=col>&lt;dbl&gt;</th><th scope=col>&lt;int&gt;</th><th scope=col>&lt;int&gt;</th><th scope=col>&lt;int&gt;</th></tr>\n",
       "</thead>\n",
       "<tbody>\n",
       "\t<tr><th scope=row>1</th><td> 41</td><td>190</td><td> 7.4</td><td>67</td><td>5</td><td> 1</td></tr>\n",
       "\t<tr><th scope=row>2</th><td> 36</td><td>118</td><td> 8.0</td><td>72</td><td>5</td><td> 2</td></tr>\n",
       "\t<tr><th scope=row>3</th><td> 12</td><td>149</td><td>12.6</td><td>74</td><td>5</td><td> 3</td></tr>\n",
       "\t<tr><th scope=row>4</th><td> 18</td><td>313</td><td>11.5</td><td>62</td><td>5</td><td> 4</td></tr>\n",
       "\t<tr><th scope=row>7</th><td> 23</td><td>299</td><td> 8.6</td><td>65</td><td>5</td><td> 7</td></tr>\n",
       "\t<tr><th scope=row>8</th><td> 19</td><td> 99</td><td>13.8</td><td>59</td><td>5</td><td> 8</td></tr>\n",
       "\t<tr><th scope=row>9</th><td>  8</td><td> 19</td><td>20.1</td><td>61</td><td>5</td><td> 9</td></tr>\n",
       "\t<tr><th scope=row>12</th><td> 16</td><td>256</td><td> 9.7</td><td>69</td><td>5</td><td>12</td></tr>\n",
       "\t<tr><th scope=row>13</th><td> 11</td><td>290</td><td> 9.2</td><td>66</td><td>5</td><td>13</td></tr>\n",
       "\t<tr><th scope=row>14</th><td> 14</td><td>274</td><td>10.9</td><td>68</td><td>5</td><td>14</td></tr>\n",
       "\t<tr><th scope=row>15</th><td> 18</td><td> 65</td><td>13.2</td><td>58</td><td>5</td><td>15</td></tr>\n",
       "\t<tr><th scope=row>16</th><td> 14</td><td>334</td><td>11.5</td><td>64</td><td>5</td><td>16</td></tr>\n",
       "\t<tr><th scope=row>17</th><td> 34</td><td>307</td><td>12.0</td><td>66</td><td>5</td><td>17</td></tr>\n",
       "\t<tr><th scope=row>18</th><td>  6</td><td> 78</td><td>18.4</td><td>57</td><td>5</td><td>18</td></tr>\n",
       "\t<tr><th scope=row>19</th><td> 30</td><td>322</td><td>11.5</td><td>68</td><td>5</td><td>19</td></tr>\n",
       "\t<tr><th scope=row>20</th><td> 11</td><td> 44</td><td> 9.7</td><td>62</td><td>5</td><td>20</td></tr>\n",
       "\t<tr><th scope=row>21</th><td>  1</td><td>  8</td><td> 9.7</td><td>59</td><td>5</td><td>21</td></tr>\n",
       "\t<tr><th scope=row>22</th><td> 11</td><td>320</td><td>16.6</td><td>73</td><td>5</td><td>22</td></tr>\n",
       "\t<tr><th scope=row>23</th><td>  4</td><td> 25</td><td> 9.7</td><td>61</td><td>5</td><td>23</td></tr>\n",
       "\t<tr><th scope=row>24</th><td> 32</td><td> 92</td><td>12.0</td><td>61</td><td>5</td><td>24</td></tr>\n",
       "\t<tr><th scope=row>28</th><td> 23</td><td> 13</td><td>12.0</td><td>67</td><td>5</td><td>28</td></tr>\n",
       "\t<tr><th scope=row>29</th><td> 45</td><td>252</td><td>14.9</td><td>81</td><td>5</td><td>29</td></tr>\n",
       "\t<tr><th scope=row>30</th><td>115</td><td>223</td><td> 5.7</td><td>79</td><td>5</td><td>30</td></tr>\n",
       "\t<tr><th scope=row>31</th><td> 37</td><td>279</td><td> 7.4</td><td>76</td><td>5</td><td>31</td></tr>\n",
       "\t<tr><th scope=row>38</th><td> 29</td><td>127</td><td> 9.7</td><td>82</td><td>6</td><td> 7</td></tr>\n",
       "\t<tr><th scope=row>40</th><td> 71</td><td>291</td><td>13.8</td><td>90</td><td>6</td><td> 9</td></tr>\n",
       "\t<tr><th scope=row>41</th><td> 39</td><td>323</td><td>11.5</td><td>87</td><td>6</td><td>10</td></tr>\n",
       "\t<tr><th scope=row>44</th><td> 23</td><td>148</td><td> 8.0</td><td>82</td><td>6</td><td>13</td></tr>\n",
       "\t<tr><th scope=row>47</th><td> 21</td><td>191</td><td>14.9</td><td>77</td><td>6</td><td>16</td></tr>\n",
       "\t<tr><th scope=row>48</th><td> 37</td><td>284</td><td>20.7</td><td>72</td><td>6</td><td>17</td></tr>\n",
       "\t<tr><th scope=row>⋮</th><td>⋮</td><td>⋮</td><td>⋮</td><td>⋮</td><td>⋮</td><td>⋮</td></tr>\n",
       "\t<tr><th scope=row>123</th><td>85</td><td>188</td><td> 6.3</td><td>94</td><td>8</td><td>31</td></tr>\n",
       "\t<tr><th scope=row>124</th><td>96</td><td>167</td><td> 6.9</td><td>91</td><td>9</td><td> 1</td></tr>\n",
       "\t<tr><th scope=row>125</th><td>78</td><td>197</td><td> 5.1</td><td>92</td><td>9</td><td> 2</td></tr>\n",
       "\t<tr><th scope=row>126</th><td>73</td><td>183</td><td> 2.8</td><td>93</td><td>9</td><td> 3</td></tr>\n",
       "\t<tr><th scope=row>127</th><td>91</td><td>189</td><td> 4.6</td><td>93</td><td>9</td><td> 4</td></tr>\n",
       "\t<tr><th scope=row>128</th><td>47</td><td> 95</td><td> 7.4</td><td>87</td><td>9</td><td> 5</td></tr>\n",
       "\t<tr><th scope=row>129</th><td>32</td><td> 92</td><td>15.5</td><td>84</td><td>9</td><td> 6</td></tr>\n",
       "\t<tr><th scope=row>130</th><td>20</td><td>252</td><td>10.9</td><td>80</td><td>9</td><td> 7</td></tr>\n",
       "\t<tr><th scope=row>131</th><td>23</td><td>220</td><td>10.3</td><td>78</td><td>9</td><td> 8</td></tr>\n",
       "\t<tr><th scope=row>132</th><td>21</td><td>230</td><td>10.9</td><td>75</td><td>9</td><td> 9</td></tr>\n",
       "\t<tr><th scope=row>133</th><td>24</td><td>259</td><td> 9.7</td><td>73</td><td>9</td><td>10</td></tr>\n",
       "\t<tr><th scope=row>134</th><td>44</td><td>236</td><td>14.9</td><td>81</td><td>9</td><td>11</td></tr>\n",
       "\t<tr><th scope=row>135</th><td>21</td><td>259</td><td>15.5</td><td>76</td><td>9</td><td>12</td></tr>\n",
       "\t<tr><th scope=row>136</th><td>28</td><td>238</td><td> 6.3</td><td>77</td><td>9</td><td>13</td></tr>\n",
       "\t<tr><th scope=row>137</th><td> 9</td><td> 24</td><td>10.9</td><td>71</td><td>9</td><td>14</td></tr>\n",
       "\t<tr><th scope=row>138</th><td>13</td><td>112</td><td>11.5</td><td>71</td><td>9</td><td>15</td></tr>\n",
       "\t<tr><th scope=row>139</th><td>46</td><td>237</td><td> 6.9</td><td>78</td><td>9</td><td>16</td></tr>\n",
       "\t<tr><th scope=row>140</th><td>18</td><td>224</td><td>13.8</td><td>67</td><td>9</td><td>17</td></tr>\n",
       "\t<tr><th scope=row>141</th><td>13</td><td> 27</td><td>10.3</td><td>76</td><td>9</td><td>18</td></tr>\n",
       "\t<tr><th scope=row>142</th><td>24</td><td>238</td><td>10.3</td><td>68</td><td>9</td><td>19</td></tr>\n",
       "\t<tr><th scope=row>143</th><td>16</td><td>201</td><td> 8.0</td><td>82</td><td>9</td><td>20</td></tr>\n",
       "\t<tr><th scope=row>144</th><td>13</td><td>238</td><td>12.6</td><td>64</td><td>9</td><td>21</td></tr>\n",
       "\t<tr><th scope=row>145</th><td>23</td><td> 14</td><td> 9.2</td><td>71</td><td>9</td><td>22</td></tr>\n",
       "\t<tr><th scope=row>146</th><td>36</td><td>139</td><td>10.3</td><td>81</td><td>9</td><td>23</td></tr>\n",
       "\t<tr><th scope=row>147</th><td> 7</td><td> 49</td><td>10.3</td><td>69</td><td>9</td><td>24</td></tr>\n",
       "\t<tr><th scope=row>148</th><td>14</td><td> 20</td><td>16.6</td><td>63</td><td>9</td><td>25</td></tr>\n",
       "\t<tr><th scope=row>149</th><td>30</td><td>193</td><td> 6.9</td><td>70</td><td>9</td><td>26</td></tr>\n",
       "\t<tr><th scope=row>151</th><td>14</td><td>191</td><td>14.3</td><td>75</td><td>9</td><td>28</td></tr>\n",
       "\t<tr><th scope=row>152</th><td>18</td><td>131</td><td> 8.0</td><td>76</td><td>9</td><td>29</td></tr>\n",
       "\t<tr><th scope=row>153</th><td>20</td><td>223</td><td>11.5</td><td>68</td><td>9</td><td>30</td></tr>\n",
       "</tbody>\n",
       "</table>\n"
      ],
      "text/latex": [
       "A data.frame: 111 × 6\n",
       "\\begin{tabular}{r|llllll}\n",
       "  & Ozone & Solar.R & Wind & Temp & Month & Day\\\\\n",
       "  & <int> & <int> & <dbl> & <int> & <int> & <int>\\\\\n",
       "\\hline\n",
       "\t1 &  41 & 190 &  7.4 & 67 & 5 &  1\\\\\n",
       "\t2 &  36 & 118 &  8.0 & 72 & 5 &  2\\\\\n",
       "\t3 &  12 & 149 & 12.6 & 74 & 5 &  3\\\\\n",
       "\t4 &  18 & 313 & 11.5 & 62 & 5 &  4\\\\\n",
       "\t7 &  23 & 299 &  8.6 & 65 & 5 &  7\\\\\n",
       "\t8 &  19 &  99 & 13.8 & 59 & 5 &  8\\\\\n",
       "\t9 &   8 &  19 & 20.1 & 61 & 5 &  9\\\\\n",
       "\t12 &  16 & 256 &  9.7 & 69 & 5 & 12\\\\\n",
       "\t13 &  11 & 290 &  9.2 & 66 & 5 & 13\\\\\n",
       "\t14 &  14 & 274 & 10.9 & 68 & 5 & 14\\\\\n",
       "\t15 &  18 &  65 & 13.2 & 58 & 5 & 15\\\\\n",
       "\t16 &  14 & 334 & 11.5 & 64 & 5 & 16\\\\\n",
       "\t17 &  34 & 307 & 12.0 & 66 & 5 & 17\\\\\n",
       "\t18 &   6 &  78 & 18.4 & 57 & 5 & 18\\\\\n",
       "\t19 &  30 & 322 & 11.5 & 68 & 5 & 19\\\\\n",
       "\t20 &  11 &  44 &  9.7 & 62 & 5 & 20\\\\\n",
       "\t21 &   1 &   8 &  9.7 & 59 & 5 & 21\\\\\n",
       "\t22 &  11 & 320 & 16.6 & 73 & 5 & 22\\\\\n",
       "\t23 &   4 &  25 &  9.7 & 61 & 5 & 23\\\\\n",
       "\t24 &  32 &  92 & 12.0 & 61 & 5 & 24\\\\\n",
       "\t28 &  23 &  13 & 12.0 & 67 & 5 & 28\\\\\n",
       "\t29 &  45 & 252 & 14.9 & 81 & 5 & 29\\\\\n",
       "\t30 & 115 & 223 &  5.7 & 79 & 5 & 30\\\\\n",
       "\t31 &  37 & 279 &  7.4 & 76 & 5 & 31\\\\\n",
       "\t38 &  29 & 127 &  9.7 & 82 & 6 &  7\\\\\n",
       "\t40 &  71 & 291 & 13.8 & 90 & 6 &  9\\\\\n",
       "\t41 &  39 & 323 & 11.5 & 87 & 6 & 10\\\\\n",
       "\t44 &  23 & 148 &  8.0 & 82 & 6 & 13\\\\\n",
       "\t47 &  21 & 191 & 14.9 & 77 & 6 & 16\\\\\n",
       "\t48 &  37 & 284 & 20.7 & 72 & 6 & 17\\\\\n",
       "\t⋮ & ⋮ & ⋮ & ⋮ & ⋮ & ⋮ & ⋮\\\\\n",
       "\t123 & 85 & 188 &  6.3 & 94 & 8 & 31\\\\\n",
       "\t124 & 96 & 167 &  6.9 & 91 & 9 &  1\\\\\n",
       "\t125 & 78 & 197 &  5.1 & 92 & 9 &  2\\\\\n",
       "\t126 & 73 & 183 &  2.8 & 93 & 9 &  3\\\\\n",
       "\t127 & 91 & 189 &  4.6 & 93 & 9 &  4\\\\\n",
       "\t128 & 47 &  95 &  7.4 & 87 & 9 &  5\\\\\n",
       "\t129 & 32 &  92 & 15.5 & 84 & 9 &  6\\\\\n",
       "\t130 & 20 & 252 & 10.9 & 80 & 9 &  7\\\\\n",
       "\t131 & 23 & 220 & 10.3 & 78 & 9 &  8\\\\\n",
       "\t132 & 21 & 230 & 10.9 & 75 & 9 &  9\\\\\n",
       "\t133 & 24 & 259 &  9.7 & 73 & 9 & 10\\\\\n",
       "\t134 & 44 & 236 & 14.9 & 81 & 9 & 11\\\\\n",
       "\t135 & 21 & 259 & 15.5 & 76 & 9 & 12\\\\\n",
       "\t136 & 28 & 238 &  6.3 & 77 & 9 & 13\\\\\n",
       "\t137 &  9 &  24 & 10.9 & 71 & 9 & 14\\\\\n",
       "\t138 & 13 & 112 & 11.5 & 71 & 9 & 15\\\\\n",
       "\t139 & 46 & 237 &  6.9 & 78 & 9 & 16\\\\\n",
       "\t140 & 18 & 224 & 13.8 & 67 & 9 & 17\\\\\n",
       "\t141 & 13 &  27 & 10.3 & 76 & 9 & 18\\\\\n",
       "\t142 & 24 & 238 & 10.3 & 68 & 9 & 19\\\\\n",
       "\t143 & 16 & 201 &  8.0 & 82 & 9 & 20\\\\\n",
       "\t144 & 13 & 238 & 12.6 & 64 & 9 & 21\\\\\n",
       "\t145 & 23 &  14 &  9.2 & 71 & 9 & 22\\\\\n",
       "\t146 & 36 & 139 & 10.3 & 81 & 9 & 23\\\\\n",
       "\t147 &  7 &  49 & 10.3 & 69 & 9 & 24\\\\\n",
       "\t148 & 14 &  20 & 16.6 & 63 & 9 & 25\\\\\n",
       "\t149 & 30 & 193 &  6.9 & 70 & 9 & 26\\\\\n",
       "\t151 & 14 & 191 & 14.3 & 75 & 9 & 28\\\\\n",
       "\t152 & 18 & 131 &  8.0 & 76 & 9 & 29\\\\\n",
       "\t153 & 20 & 223 & 11.5 & 68 & 9 & 30\\\\\n",
       "\\end{tabular}\n"
      ],
      "text/markdown": [
       "\n",
       "A data.frame: 111 × 6\n",
       "\n",
       "| <!--/--> | Ozone &lt;int&gt; | Solar.R &lt;int&gt; | Wind &lt;dbl&gt; | Temp &lt;int&gt; | Month &lt;int&gt; | Day &lt;int&gt; |\n",
       "|---|---|---|---|---|---|---|\n",
       "| 1 |  41 | 190 |  7.4 | 67 | 5 |  1 |\n",
       "| 2 |  36 | 118 |  8.0 | 72 | 5 |  2 |\n",
       "| 3 |  12 | 149 | 12.6 | 74 | 5 |  3 |\n",
       "| 4 |  18 | 313 | 11.5 | 62 | 5 |  4 |\n",
       "| 7 |  23 | 299 |  8.6 | 65 | 5 |  7 |\n",
       "| 8 |  19 |  99 | 13.8 | 59 | 5 |  8 |\n",
       "| 9 |   8 |  19 | 20.1 | 61 | 5 |  9 |\n",
       "| 12 |  16 | 256 |  9.7 | 69 | 5 | 12 |\n",
       "| 13 |  11 | 290 |  9.2 | 66 | 5 | 13 |\n",
       "| 14 |  14 | 274 | 10.9 | 68 | 5 | 14 |\n",
       "| 15 |  18 |  65 | 13.2 | 58 | 5 | 15 |\n",
       "| 16 |  14 | 334 | 11.5 | 64 | 5 | 16 |\n",
       "| 17 |  34 | 307 | 12.0 | 66 | 5 | 17 |\n",
       "| 18 |   6 |  78 | 18.4 | 57 | 5 | 18 |\n",
       "| 19 |  30 | 322 | 11.5 | 68 | 5 | 19 |\n",
       "| 20 |  11 |  44 |  9.7 | 62 | 5 | 20 |\n",
       "| 21 |   1 |   8 |  9.7 | 59 | 5 | 21 |\n",
       "| 22 |  11 | 320 | 16.6 | 73 | 5 | 22 |\n",
       "| 23 |   4 |  25 |  9.7 | 61 | 5 | 23 |\n",
       "| 24 |  32 |  92 | 12.0 | 61 | 5 | 24 |\n",
       "| 28 |  23 |  13 | 12.0 | 67 | 5 | 28 |\n",
       "| 29 |  45 | 252 | 14.9 | 81 | 5 | 29 |\n",
       "| 30 | 115 | 223 |  5.7 | 79 | 5 | 30 |\n",
       "| 31 |  37 | 279 |  7.4 | 76 | 5 | 31 |\n",
       "| 38 |  29 | 127 |  9.7 | 82 | 6 |  7 |\n",
       "| 40 |  71 | 291 | 13.8 | 90 | 6 |  9 |\n",
       "| 41 |  39 | 323 | 11.5 | 87 | 6 | 10 |\n",
       "| 44 |  23 | 148 |  8.0 | 82 | 6 | 13 |\n",
       "| 47 |  21 | 191 | 14.9 | 77 | 6 | 16 |\n",
       "| 48 |  37 | 284 | 20.7 | 72 | 6 | 17 |\n",
       "| ⋮ | ⋮ | ⋮ | ⋮ | ⋮ | ⋮ | ⋮ |\n",
       "| 123 | 85 | 188 |  6.3 | 94 | 8 | 31 |\n",
       "| 124 | 96 | 167 |  6.9 | 91 | 9 |  1 |\n",
       "| 125 | 78 | 197 |  5.1 | 92 | 9 |  2 |\n",
       "| 126 | 73 | 183 |  2.8 | 93 | 9 |  3 |\n",
       "| 127 | 91 | 189 |  4.6 | 93 | 9 |  4 |\n",
       "| 128 | 47 |  95 |  7.4 | 87 | 9 |  5 |\n",
       "| 129 | 32 |  92 | 15.5 | 84 | 9 |  6 |\n",
       "| 130 | 20 | 252 | 10.9 | 80 | 9 |  7 |\n",
       "| 131 | 23 | 220 | 10.3 | 78 | 9 |  8 |\n",
       "| 132 | 21 | 230 | 10.9 | 75 | 9 |  9 |\n",
       "| 133 | 24 | 259 |  9.7 | 73 | 9 | 10 |\n",
       "| 134 | 44 | 236 | 14.9 | 81 | 9 | 11 |\n",
       "| 135 | 21 | 259 | 15.5 | 76 | 9 | 12 |\n",
       "| 136 | 28 | 238 |  6.3 | 77 | 9 | 13 |\n",
       "| 137 |  9 |  24 | 10.9 | 71 | 9 | 14 |\n",
       "| 138 | 13 | 112 | 11.5 | 71 | 9 | 15 |\n",
       "| 139 | 46 | 237 |  6.9 | 78 | 9 | 16 |\n",
       "| 140 | 18 | 224 | 13.8 | 67 | 9 | 17 |\n",
       "| 141 | 13 |  27 | 10.3 | 76 | 9 | 18 |\n",
       "| 142 | 24 | 238 | 10.3 | 68 | 9 | 19 |\n",
       "| 143 | 16 | 201 |  8.0 | 82 | 9 | 20 |\n",
       "| 144 | 13 | 238 | 12.6 | 64 | 9 | 21 |\n",
       "| 145 | 23 |  14 |  9.2 | 71 | 9 | 22 |\n",
       "| 146 | 36 | 139 | 10.3 | 81 | 9 | 23 |\n",
       "| 147 |  7 |  49 | 10.3 | 69 | 9 | 24 |\n",
       "| 148 | 14 |  20 | 16.6 | 63 | 9 | 25 |\n",
       "| 149 | 30 | 193 |  6.9 | 70 | 9 | 26 |\n",
       "| 151 | 14 | 191 | 14.3 | 75 | 9 | 28 |\n",
       "| 152 | 18 | 131 |  8.0 | 76 | 9 | 29 |\n",
       "| 153 | 20 | 223 | 11.5 | 68 | 9 | 30 |\n",
       "\n"
      ],
      "text/plain": [
       "    Ozone Solar.R Wind Temp Month Day\n",
       "1    41   190      7.4 67   5      1 \n",
       "2    36   118      8.0 72   5      2 \n",
       "3    12   149     12.6 74   5      3 \n",
       "4    18   313     11.5 62   5      4 \n",
       "7    23   299      8.6 65   5      7 \n",
       "8    19    99     13.8 59   5      8 \n",
       "9     8    19     20.1 61   5      9 \n",
       "12   16   256      9.7 69   5     12 \n",
       "13   11   290      9.2 66   5     13 \n",
       "14   14   274     10.9 68   5     14 \n",
       "15   18    65     13.2 58   5     15 \n",
       "16   14   334     11.5 64   5     16 \n",
       "17   34   307     12.0 66   5     17 \n",
       "18    6    78     18.4 57   5     18 \n",
       "19   30   322     11.5 68   5     19 \n",
       "20   11    44      9.7 62   5     20 \n",
       "21    1     8      9.7 59   5     21 \n",
       "22   11   320     16.6 73   5     22 \n",
       "23    4    25      9.7 61   5     23 \n",
       "24   32    92     12.0 61   5     24 \n",
       "28   23    13     12.0 67   5     28 \n",
       "29   45   252     14.9 81   5     29 \n",
       "30  115   223      5.7 79   5     30 \n",
       "31   37   279      7.4 76   5     31 \n",
       "38   29   127      9.7 82   6      7 \n",
       "40   71   291     13.8 90   6      9 \n",
       "41   39   323     11.5 87   6     10 \n",
       "44   23   148      8.0 82   6     13 \n",
       "47   21   191     14.9 77   6     16 \n",
       "48   37   284     20.7 72   6     17 \n",
       "⋮   ⋮     ⋮       ⋮    ⋮    ⋮     ⋮  \n",
       "123 85    188      6.3 94   8     31 \n",
       "124 96    167      6.9 91   9      1 \n",
       "125 78    197      5.1 92   9      2 \n",
       "126 73    183      2.8 93   9      3 \n",
       "127 91    189      4.6 93   9      4 \n",
       "128 47     95      7.4 87   9      5 \n",
       "129 32     92     15.5 84   9      6 \n",
       "130 20    252     10.9 80   9      7 \n",
       "131 23    220     10.3 78   9      8 \n",
       "132 21    230     10.9 75   9      9 \n",
       "133 24    259      9.7 73   9     10 \n",
       "134 44    236     14.9 81   9     11 \n",
       "135 21    259     15.5 76   9     12 \n",
       "136 28    238      6.3 77   9     13 \n",
       "137  9     24     10.9 71   9     14 \n",
       "138 13    112     11.5 71   9     15 \n",
       "139 46    237      6.9 78   9     16 \n",
       "140 18    224     13.8 67   9     17 \n",
       "141 13     27     10.3 76   9     18 \n",
       "142 24    238     10.3 68   9     19 \n",
       "143 16    201      8.0 82   9     20 \n",
       "144 13    238     12.6 64   9     21 \n",
       "145 23     14      9.2 71   9     22 \n",
       "146 36    139     10.3 81   9     23 \n",
       "147  7     49     10.3 69   9     24 \n",
       "148 14     20     16.6 63   9     25 \n",
       "149 30    193      6.9 70   9     26 \n",
       "151 14    191     14.3 75   9     28 \n",
       "152 18    131      8.0 76   9     29 \n",
       "153 20    223     11.5 68   9     30 "
      ]
     },
     "metadata": {},
     "output_type": "display_data"
    }
   ],
   "source": [
    "ds = airquality[complete.cases(airquality),]\n",
    "ds"
   ]
  },
  {
   "cell_type": "code",
   "execution_count": 27,
   "id": "e7987aad",
   "metadata": {},
   "outputs": [
    {
     "data": {
      "text/html": [
       "<style>\n",
       ".list-inline {list-style: none; margin:0; padding: 0}\n",
       ".list-inline>li {display: inline-block}\n",
       ".list-inline>li:not(:last-child)::after {content: \"\\00b7\"; padding: 0 .5ex}\n",
       "</style>\n",
       "<ol class=list-inline><li>5</li><li>6</li><li>7</li><li>8</li><li>9</li></ol>\n"
      ],
      "text/latex": [
       "\\begin{enumerate*}\n",
       "\\item 5\n",
       "\\item 6\n",
       "\\item 7\n",
       "\\item 8\n",
       "\\item 9\n",
       "\\end{enumerate*}\n"
      ],
      "text/markdown": [
       "1. 5\n",
       "2. 6\n",
       "3. 7\n",
       "4. 8\n",
       "5. 9\n",
       "\n",
       "\n"
      ],
      "text/plain": [
       "[1] 5 6 7 8 9"
      ]
     },
     "metadata": {},
     "output_type": "display_data"
    }
   ],
   "source": [
    "unique(ds$Month\n",
    "      )"
   ]
  },
  {
   "cell_type": "code",
   "execution_count": 29,
   "id": "4b657562",
   "metadata": {},
   "outputs": [
    {
     "ename": "ERROR",
     "evalue": "Error in aggregate.data.frame(as.data.frame(x), ...): arguments must have same length\n",
     "output_type": "error",
     "traceback": [
      "Error in aggregate.data.frame(as.data.frame(x), ...): arguments must have same length\nTraceback:\n",
      "1. aggregate(ds$Ozone, by = list(ds$month), median)",
      "2. aggregate.default(ds$Ozone, by = list(ds$month), median)",
      "3. aggregate.data.frame(as.data.frame(x), ...)",
      "4. stop(\"arguments must have same length\")"
     ]
    }
   ],
   "source": [
    "month.avg = aggregate(ds$Ozone, by=list(ds$month),median)[2]"
   ]
  },
  {
   "cell_type": "code",
   "execution_count": 30,
   "id": "1d983a33",
   "metadata": {},
   "outputs": [],
   "source": [
    "library(carData)"
   ]
  },
  {
   "cell_type": "code",
   "execution_count": 31,
   "id": "326d5b65",
   "metadata": {},
   "outputs": [
    {
     "data": {
      "text/html": [
       "<table class=\"dataframe\">\n",
       "<caption>A data.frame: 6 × 5</caption>\n",
       "<thead>\n",
       "\t<tr><th></th><th scope=col>wages</th><th scope=col>education</th><th scope=col>age</th><th scope=col>sex</th><th scope=col>language</th></tr>\n",
       "\t<tr><th></th><th scope=col>&lt;dbl&gt;</th><th scope=col>&lt;dbl&gt;</th><th scope=col>&lt;int&gt;</th><th scope=col>&lt;fct&gt;</th><th scope=col>&lt;fct&gt;</th></tr>\n",
       "</thead>\n",
       "<tbody>\n",
       "\t<tr><th scope=row>1</th><td>10.56</td><td>15.0</td><td>40</td><td>Male  </td><td>English</td></tr>\n",
       "\t<tr><th scope=row>2</th><td>11.00</td><td>13.2</td><td>19</td><td>Male  </td><td>English</td></tr>\n",
       "\t<tr><th scope=row>4</th><td>17.76</td><td>14.0</td><td>46</td><td>Male  </td><td>Other  </td></tr>\n",
       "\t<tr><th scope=row>6</th><td>14.00</td><td>16.0</td><td>50</td><td>Female</td><td>English</td></tr>\n",
       "\t<tr><th scope=row>9</th><td> 8.20</td><td>15.0</td><td>31</td><td>Male  </td><td>English</td></tr>\n",
       "\t<tr><th scope=row>12</th><td>16.97</td><td>13.5</td><td>30</td><td>Female</td><td>English</td></tr>\n",
       "</tbody>\n",
       "</table>\n"
      ],
      "text/latex": [
       "A data.frame: 6 × 5\n",
       "\\begin{tabular}{r|lllll}\n",
       "  & wages & education & age & sex & language\\\\\n",
       "  & <dbl> & <dbl> & <int> & <fct> & <fct>\\\\\n",
       "\\hline\n",
       "\t1 & 10.56 & 15.0 & 40 & Male   & English\\\\\n",
       "\t2 & 11.00 & 13.2 & 19 & Male   & English\\\\\n",
       "\t4 & 17.76 & 14.0 & 46 & Male   & Other  \\\\\n",
       "\t6 & 14.00 & 16.0 & 50 & Female & English\\\\\n",
       "\t9 &  8.20 & 15.0 & 31 & Male   & English\\\\\n",
       "\t12 & 16.97 & 13.5 & 30 & Female & English\\\\\n",
       "\\end{tabular}\n"
      ],
      "text/markdown": [
       "\n",
       "A data.frame: 6 × 5\n",
       "\n",
       "| <!--/--> | wages &lt;dbl&gt; | education &lt;dbl&gt; | age &lt;int&gt; | sex &lt;fct&gt; | language &lt;fct&gt; |\n",
       "|---|---|---|---|---|---|\n",
       "| 1 | 10.56 | 15.0 | 40 | Male   | English |\n",
       "| 2 | 11.00 | 13.2 | 19 | Male   | English |\n",
       "| 4 | 17.76 | 14.0 | 46 | Male   | Other   |\n",
       "| 6 | 14.00 | 16.0 | 50 | Female | English |\n",
       "| 9 |  8.20 | 15.0 | 31 | Male   | English |\n",
       "| 12 | 16.97 | 13.5 | 30 | Female | English |\n",
       "\n"
      ],
      "text/plain": [
       "   wages education age sex    language\n",
       "1  10.56 15.0      40  Male   English \n",
       "2  11.00 13.2      19  Male   English \n",
       "4  17.76 14.0      46  Male   Other   \n",
       "6  14.00 16.0      50  Female English \n",
       "9   8.20 15.0      31  Male   English \n",
       "12 16.97 13.5      30  Female English "
      ]
     },
     "metadata": {},
     "output_type": "display_data"
    }
   ],
   "source": [
    "ds = SLID[complete.cases(SLID), ]\n",
    "head(ds)"
   ]
  },
  {
   "cell_type": "code",
   "execution_count": 32,
   "id": "b6b548b9",
   "metadata": {},
   "outputs": [
    {
     "data": {
      "text/html": [
       "<table class=\"dataframe\">\n",
       "<caption>A data.frame: 3987 × 5</caption>\n",
       "<thead>\n",
       "\t<tr><th></th><th scope=col>wages</th><th scope=col>education</th><th scope=col>age</th><th scope=col>sex</th><th scope=col>language</th></tr>\n",
       "\t<tr><th></th><th scope=col>&lt;dbl&gt;</th><th scope=col>&lt;dbl&gt;</th><th scope=col>&lt;int&gt;</th><th scope=col>&lt;fct&gt;</th><th scope=col>&lt;fct&gt;</th></tr>\n",
       "</thead>\n",
       "<tbody>\n",
       "\t<tr><th scope=row>1</th><td>10.56</td><td>15.0</td><td>40</td><td>Male  </td><td>English</td></tr>\n",
       "\t<tr><th scope=row>2</th><td>11.00</td><td>13.2</td><td>19</td><td>Male  </td><td>English</td></tr>\n",
       "\t<tr><th scope=row>4</th><td>17.76</td><td>14.0</td><td>46</td><td>Male  </td><td>Other  </td></tr>\n",
       "\t<tr><th scope=row>6</th><td>14.00</td><td>16.0</td><td>50</td><td>Female</td><td>English</td></tr>\n",
       "\t<tr><th scope=row>9</th><td> 8.20</td><td>15.0</td><td>31</td><td>Male  </td><td>English</td></tr>\n",
       "\t<tr><th scope=row>12</th><td>16.97</td><td>13.5</td><td>30</td><td>Female</td><td>English</td></tr>\n",
       "\t<tr><th scope=row>14</th><td> 6.70</td><td>12.0</td><td>61</td><td>Female</td><td>English</td></tr>\n",
       "\t<tr><th scope=row>20</th><td>14.00</td><td>14.0</td><td>46</td><td>Female</td><td>Other  </td></tr>\n",
       "\t<tr><th scope=row>25</th><td>19.20</td><td>18.0</td><td>43</td><td>Male  </td><td>English</td></tr>\n",
       "\t<tr><th scope=row>26</th><td> 7.25</td><td>11.0</td><td>17</td><td>Male  </td><td>English</td></tr>\n",
       "\t<tr><th scope=row>29</th><td>16.00</td><td> 7.0</td><td>46</td><td>Male  </td><td>Other  </td></tr>\n",
       "\t<tr><th scope=row>30</th><td>23.00</td><td>14.0</td><td>32</td><td>Male  </td><td>English</td></tr>\n",
       "\t<tr><th scope=row>31</th><td>36.11</td><td>17.0</td><td>35</td><td>Male  </td><td>English</td></tr>\n",
       "\t<tr><th scope=row>37</th><td>20.16</td><td>20.0</td><td>39</td><td>Male  </td><td>English</td></tr>\n",
       "\t<tr><th scope=row>38</th><td>12.61</td><td>13.0</td><td>32</td><td>Male  </td><td>English</td></tr>\n",
       "\t<tr><th scope=row>43</th><td>13.65</td><td>19.0</td><td>30</td><td>Female</td><td>English</td></tr>\n",
       "\t<tr><th scope=row>44</th><td> 9.00</td><td>13.8</td><td>20</td><td>Female</td><td>English</td></tr>\n",
       "\t<tr><th scope=row>47</th><td>18.07</td><td>13.6</td><td>48</td><td>Male  </td><td>Other  </td></tr>\n",
       "\t<tr><th scope=row>54</th><td>16.01</td><td>19.0</td><td>39</td><td>Female</td><td>English</td></tr>\n",
       "\t<tr><th scope=row>55</th><td>26.40</td><td>12.7</td><td>38</td><td>Male  </td><td>English</td></tr>\n",
       "\t<tr><th scope=row>57</th><td>20.65</td><td>19.0</td><td>37</td><td>Male  </td><td>English</td></tr>\n",
       "\t<tr><th scope=row>61</th><td>23.04</td><td>19.0</td><td>37</td><td>Female</td><td>English</td></tr>\n",
       "\t<tr><th scope=row>62</th><td>24.03</td><td>18.3</td><td>31</td><td>Male  </td><td>English</td></tr>\n",
       "\t<tr><th scope=row>63</th><td>12.00</td><td>14.0</td><td>46</td><td>Female</td><td>English</td></tr>\n",
       "\t<tr><th scope=row>64</th><td>25.60</td><td>13.0</td><td>41</td><td>Male  </td><td>English</td></tr>\n",
       "\t<tr><th scope=row>66</th><td> 6.85</td><td>15.6</td><td>31</td><td>Female</td><td>English</td></tr>\n",
       "\t<tr><th scope=row>68</th><td>15.00</td><td>12.0</td><td>40</td><td>Male  </td><td>English</td></tr>\n",
       "\t<tr><th scope=row>71</th><td> 9.75</td><td> 8.0</td><td>60</td><td>Male  </td><td>English</td></tr>\n",
       "\t<tr><th scope=row>73</th><td> 6.70</td><td>11.0</td><td>17</td><td>Female</td><td>English</td></tr>\n",
       "\t<tr><th scope=row>75</th><td>15.00</td><td>17.0</td><td>39</td><td>Male  </td><td>English</td></tr>\n",
       "\t<tr><th scope=row>⋮</th><td>⋮</td><td>⋮</td><td>⋮</td><td>⋮</td><td>⋮</td></tr>\n",
       "\t<tr><th scope=row>7357</th><td> 8.63</td><td>13.0</td><td>25</td><td>Female</td><td>English</td></tr>\n",
       "\t<tr><th scope=row>7358</th><td> 7.00</td><td>12.0</td><td>18</td><td>Male  </td><td>English</td></tr>\n",
       "\t<tr><th scope=row>7362</th><td>15.36</td><td>15.0</td><td>35</td><td>Female</td><td>English</td></tr>\n",
       "\t<tr><th scope=row>7366</th><td> 6.85</td><td> 9.0</td><td>35</td><td>Female</td><td>English</td></tr>\n",
       "\t<tr><th scope=row>7367</th><td> 6.14</td><td>10.5</td><td>19</td><td>Female</td><td>English</td></tr>\n",
       "\t<tr><th scope=row>7369</th><td>16.30</td><td>15.0</td><td>42</td><td>Male  </td><td>English</td></tr>\n",
       "\t<tr><th scope=row>7370</th><td>26.88</td><td>12.0</td><td>42</td><td>Male  </td><td>English</td></tr>\n",
       "\t<tr><th scope=row>7373</th><td> 6.57</td><td>13.5</td><td>28</td><td>Female</td><td>English</td></tr>\n",
       "\t<tr><th scope=row>7375</th><td>10.50</td><td>12.0</td><td>44</td><td>Male  </td><td>English</td></tr>\n",
       "\t<tr><th scope=row>7380</th><td> 6.90</td><td>12.0</td><td>42</td><td>Female</td><td>English</td></tr>\n",
       "\t<tr><th scope=row>7381</th><td>26.75</td><td>12.0</td><td>56</td><td>Male  </td><td>English</td></tr>\n",
       "\t<tr><th scope=row>7389</th><td>41.28</td><td>14.0</td><td>36</td><td>Male  </td><td>French </td></tr>\n",
       "\t<tr><th scope=row>7392</th><td> 3.35</td><td> 7.5</td><td>37</td><td>Male  </td><td>Other  </td></tr>\n",
       "\t<tr><th scope=row>7393</th><td>10.00</td><td>12.0</td><td>37</td><td>Female</td><td>English</td></tr>\n",
       "\t<tr><th scope=row>7394</th><td>13.08</td><td>13.0</td><td>52</td><td>Female</td><td>Other  </td></tr>\n",
       "\t<tr><th scope=row>7395</th><td> 7.50</td><td>12.0</td><td>18</td><td>Female</td><td>English</td></tr>\n",
       "\t<tr><th scope=row>7397</th><td>12.00</td><td>13.0</td><td>38</td><td>Female</td><td>English</td></tr>\n",
       "\t<tr><th scope=row>7398</th><td>27.59</td><td>19.0</td><td>33</td><td>Male  </td><td>Other  </td></tr>\n",
       "\t<tr><th scope=row>7401</th><td> 5.75</td><td>14.0</td><td>21</td><td>Female</td><td>English</td></tr>\n",
       "\t<tr><th scope=row>7406</th><td>10.00</td><td>12.0</td><td>26</td><td>Male  </td><td>French </td></tr>\n",
       "\t<tr><th scope=row>7408</th><td>23.57</td><td>12.1</td><td>44</td><td>Male  </td><td>English</td></tr>\n",
       "\t<tr><th scope=row>7410</th><td>19.20</td><td>12.0</td><td>67</td><td>Male  </td><td>English</td></tr>\n",
       "\t<tr><th scope=row>7413</th><td>14.07</td><td> 9.0</td><td>32</td><td>Male  </td><td>Other  </td></tr>\n",
       "\t<tr><th scope=row>7414</th><td> 5.60</td><td>12.0</td><td>37</td><td>Female</td><td>English</td></tr>\n",
       "\t<tr><th scope=row>7416</th><td>16.66</td><td> 8.0</td><td>61</td><td>Female</td><td>English</td></tr>\n",
       "\t<tr><th scope=row>7418</th><td> 6.80</td><td>13.1</td><td>20</td><td>Male  </td><td>English</td></tr>\n",
       "\t<tr><th scope=row>7422</th><td>30.49</td><td>16.0</td><td>52</td><td>Male  </td><td>Other  </td></tr>\n",
       "\t<tr><th scope=row>7423</th><td>22.00</td><td>15.0</td><td>41</td><td>Male  </td><td>Other  </td></tr>\n",
       "\t<tr><th scope=row>7424</th><td>11.85</td><td>11.0</td><td>47</td><td>Female</td><td>English</td></tr>\n",
       "\t<tr><th scope=row>7425</th><td>23.00</td><td>14.0</td><td>30</td><td>Male  </td><td>English</td></tr>\n",
       "</tbody>\n",
       "</table>\n"
      ],
      "text/latex": [
       "A data.frame: 3987 × 5\n",
       "\\begin{tabular}{r|lllll}\n",
       "  & wages & education & age & sex & language\\\\\n",
       "  & <dbl> & <dbl> & <int> & <fct> & <fct>\\\\\n",
       "\\hline\n",
       "\t1 & 10.56 & 15.0 & 40 & Male   & English\\\\\n",
       "\t2 & 11.00 & 13.2 & 19 & Male   & English\\\\\n",
       "\t4 & 17.76 & 14.0 & 46 & Male   & Other  \\\\\n",
       "\t6 & 14.00 & 16.0 & 50 & Female & English\\\\\n",
       "\t9 &  8.20 & 15.0 & 31 & Male   & English\\\\\n",
       "\t12 & 16.97 & 13.5 & 30 & Female & English\\\\\n",
       "\t14 &  6.70 & 12.0 & 61 & Female & English\\\\\n",
       "\t20 & 14.00 & 14.0 & 46 & Female & Other  \\\\\n",
       "\t25 & 19.20 & 18.0 & 43 & Male   & English\\\\\n",
       "\t26 &  7.25 & 11.0 & 17 & Male   & English\\\\\n",
       "\t29 & 16.00 &  7.0 & 46 & Male   & Other  \\\\\n",
       "\t30 & 23.00 & 14.0 & 32 & Male   & English\\\\\n",
       "\t31 & 36.11 & 17.0 & 35 & Male   & English\\\\\n",
       "\t37 & 20.16 & 20.0 & 39 & Male   & English\\\\\n",
       "\t38 & 12.61 & 13.0 & 32 & Male   & English\\\\\n",
       "\t43 & 13.65 & 19.0 & 30 & Female & English\\\\\n",
       "\t44 &  9.00 & 13.8 & 20 & Female & English\\\\\n",
       "\t47 & 18.07 & 13.6 & 48 & Male   & Other  \\\\\n",
       "\t54 & 16.01 & 19.0 & 39 & Female & English\\\\\n",
       "\t55 & 26.40 & 12.7 & 38 & Male   & English\\\\\n",
       "\t57 & 20.65 & 19.0 & 37 & Male   & English\\\\\n",
       "\t61 & 23.04 & 19.0 & 37 & Female & English\\\\\n",
       "\t62 & 24.03 & 18.3 & 31 & Male   & English\\\\\n",
       "\t63 & 12.00 & 14.0 & 46 & Female & English\\\\\n",
       "\t64 & 25.60 & 13.0 & 41 & Male   & English\\\\\n",
       "\t66 &  6.85 & 15.6 & 31 & Female & English\\\\\n",
       "\t68 & 15.00 & 12.0 & 40 & Male   & English\\\\\n",
       "\t71 &  9.75 &  8.0 & 60 & Male   & English\\\\\n",
       "\t73 &  6.70 & 11.0 & 17 & Female & English\\\\\n",
       "\t75 & 15.00 & 17.0 & 39 & Male   & English\\\\\n",
       "\t⋮ & ⋮ & ⋮ & ⋮ & ⋮ & ⋮\\\\\n",
       "\t7357 &  8.63 & 13.0 & 25 & Female & English\\\\\n",
       "\t7358 &  7.00 & 12.0 & 18 & Male   & English\\\\\n",
       "\t7362 & 15.36 & 15.0 & 35 & Female & English\\\\\n",
       "\t7366 &  6.85 &  9.0 & 35 & Female & English\\\\\n",
       "\t7367 &  6.14 & 10.5 & 19 & Female & English\\\\\n",
       "\t7369 & 16.30 & 15.0 & 42 & Male   & English\\\\\n",
       "\t7370 & 26.88 & 12.0 & 42 & Male   & English\\\\\n",
       "\t7373 &  6.57 & 13.5 & 28 & Female & English\\\\\n",
       "\t7375 & 10.50 & 12.0 & 44 & Male   & English\\\\\n",
       "\t7380 &  6.90 & 12.0 & 42 & Female & English\\\\\n",
       "\t7381 & 26.75 & 12.0 & 56 & Male   & English\\\\\n",
       "\t7389 & 41.28 & 14.0 & 36 & Male   & French \\\\\n",
       "\t7392 &  3.35 &  7.5 & 37 & Male   & Other  \\\\\n",
       "\t7393 & 10.00 & 12.0 & 37 & Female & English\\\\\n",
       "\t7394 & 13.08 & 13.0 & 52 & Female & Other  \\\\\n",
       "\t7395 &  7.50 & 12.0 & 18 & Female & English\\\\\n",
       "\t7397 & 12.00 & 13.0 & 38 & Female & English\\\\\n",
       "\t7398 & 27.59 & 19.0 & 33 & Male   & Other  \\\\\n",
       "\t7401 &  5.75 & 14.0 & 21 & Female & English\\\\\n",
       "\t7406 & 10.00 & 12.0 & 26 & Male   & French \\\\\n",
       "\t7408 & 23.57 & 12.1 & 44 & Male   & English\\\\\n",
       "\t7410 & 19.20 & 12.0 & 67 & Male   & English\\\\\n",
       "\t7413 & 14.07 &  9.0 & 32 & Male   & Other  \\\\\n",
       "\t7414 &  5.60 & 12.0 & 37 & Female & English\\\\\n",
       "\t7416 & 16.66 &  8.0 & 61 & Female & English\\\\\n",
       "\t7418 &  6.80 & 13.1 & 20 & Male   & English\\\\\n",
       "\t7422 & 30.49 & 16.0 & 52 & Male   & Other  \\\\\n",
       "\t7423 & 22.00 & 15.0 & 41 & Male   & Other  \\\\\n",
       "\t7424 & 11.85 & 11.0 & 47 & Female & English\\\\\n",
       "\t7425 & 23.00 & 14.0 & 30 & Male   & English\\\\\n",
       "\\end{tabular}\n"
      ],
      "text/markdown": [
       "\n",
       "A data.frame: 3987 × 5\n",
       "\n",
       "| <!--/--> | wages &lt;dbl&gt; | education &lt;dbl&gt; | age &lt;int&gt; | sex &lt;fct&gt; | language &lt;fct&gt; |\n",
       "|---|---|---|---|---|---|\n",
       "| 1 | 10.56 | 15.0 | 40 | Male   | English |\n",
       "| 2 | 11.00 | 13.2 | 19 | Male   | English |\n",
       "| 4 | 17.76 | 14.0 | 46 | Male   | Other   |\n",
       "| 6 | 14.00 | 16.0 | 50 | Female | English |\n",
       "| 9 |  8.20 | 15.0 | 31 | Male   | English |\n",
       "| 12 | 16.97 | 13.5 | 30 | Female | English |\n",
       "| 14 |  6.70 | 12.0 | 61 | Female | English |\n",
       "| 20 | 14.00 | 14.0 | 46 | Female | Other   |\n",
       "| 25 | 19.20 | 18.0 | 43 | Male   | English |\n",
       "| 26 |  7.25 | 11.0 | 17 | Male   | English |\n",
       "| 29 | 16.00 |  7.0 | 46 | Male   | Other   |\n",
       "| 30 | 23.00 | 14.0 | 32 | Male   | English |\n",
       "| 31 | 36.11 | 17.0 | 35 | Male   | English |\n",
       "| 37 | 20.16 | 20.0 | 39 | Male   | English |\n",
       "| 38 | 12.61 | 13.0 | 32 | Male   | English |\n",
       "| 43 | 13.65 | 19.0 | 30 | Female | English |\n",
       "| 44 |  9.00 | 13.8 | 20 | Female | English |\n",
       "| 47 | 18.07 | 13.6 | 48 | Male   | Other   |\n",
       "| 54 | 16.01 | 19.0 | 39 | Female | English |\n",
       "| 55 | 26.40 | 12.7 | 38 | Male   | English |\n",
       "| 57 | 20.65 | 19.0 | 37 | Male   | English |\n",
       "| 61 | 23.04 | 19.0 | 37 | Female | English |\n",
       "| 62 | 24.03 | 18.3 | 31 | Male   | English |\n",
       "| 63 | 12.00 | 14.0 | 46 | Female | English |\n",
       "| 64 | 25.60 | 13.0 | 41 | Male   | English |\n",
       "| 66 |  6.85 | 15.6 | 31 | Female | English |\n",
       "| 68 | 15.00 | 12.0 | 40 | Male   | English |\n",
       "| 71 |  9.75 |  8.0 | 60 | Male   | English |\n",
       "| 73 |  6.70 | 11.0 | 17 | Female | English |\n",
       "| 75 | 15.00 | 17.0 | 39 | Male   | English |\n",
       "| ⋮ | ⋮ | ⋮ | ⋮ | ⋮ | ⋮ |\n",
       "| 7357 |  8.63 | 13.0 | 25 | Female | English |\n",
       "| 7358 |  7.00 | 12.0 | 18 | Male   | English |\n",
       "| 7362 | 15.36 | 15.0 | 35 | Female | English |\n",
       "| 7366 |  6.85 |  9.0 | 35 | Female | English |\n",
       "| 7367 |  6.14 | 10.5 | 19 | Female | English |\n",
       "| 7369 | 16.30 | 15.0 | 42 | Male   | English |\n",
       "| 7370 | 26.88 | 12.0 | 42 | Male   | English |\n",
       "| 7373 |  6.57 | 13.5 | 28 | Female | English |\n",
       "| 7375 | 10.50 | 12.0 | 44 | Male   | English |\n",
       "| 7380 |  6.90 | 12.0 | 42 | Female | English |\n",
       "| 7381 | 26.75 | 12.0 | 56 | Male   | English |\n",
       "| 7389 | 41.28 | 14.0 | 36 | Male   | French  |\n",
       "| 7392 |  3.35 |  7.5 | 37 | Male   | Other   |\n",
       "| 7393 | 10.00 | 12.0 | 37 | Female | English |\n",
       "| 7394 | 13.08 | 13.0 | 52 | Female | Other   |\n",
       "| 7395 |  7.50 | 12.0 | 18 | Female | English |\n",
       "| 7397 | 12.00 | 13.0 | 38 | Female | English |\n",
       "| 7398 | 27.59 | 19.0 | 33 | Male   | Other   |\n",
       "| 7401 |  5.75 | 14.0 | 21 | Female | English |\n",
       "| 7406 | 10.00 | 12.0 | 26 | Male   | French  |\n",
       "| 7408 | 23.57 | 12.1 | 44 | Male   | English |\n",
       "| 7410 | 19.20 | 12.0 | 67 | Male   | English |\n",
       "| 7413 | 14.07 |  9.0 | 32 | Male   | Other   |\n",
       "| 7414 |  5.60 | 12.0 | 37 | Female | English |\n",
       "| 7416 | 16.66 |  8.0 | 61 | Female | English |\n",
       "| 7418 |  6.80 | 13.1 | 20 | Male   | English |\n",
       "| 7422 | 30.49 | 16.0 | 52 | Male   | Other   |\n",
       "| 7423 | 22.00 | 15.0 | 41 | Male   | Other   |\n",
       "| 7424 | 11.85 | 11.0 | 47 | Female | English |\n",
       "| 7425 | 23.00 | 14.0 | 30 | Male   | English |\n",
       "\n"
      ],
      "text/plain": [
       "     wages education age sex    language\n",
       "1    10.56 15.0      40  Male   English \n",
       "2    11.00 13.2      19  Male   English \n",
       "4    17.76 14.0      46  Male   Other   \n",
       "6    14.00 16.0      50  Female English \n",
       "9     8.20 15.0      31  Male   English \n",
       "12   16.97 13.5      30  Female English \n",
       "14    6.70 12.0      61  Female English \n",
       "20   14.00 14.0      46  Female Other   \n",
       "25   19.20 18.0      43  Male   English \n",
       "26    7.25 11.0      17  Male   English \n",
       "29   16.00  7.0      46  Male   Other   \n",
       "30   23.00 14.0      32  Male   English \n",
       "31   36.11 17.0      35  Male   English \n",
       "37   20.16 20.0      39  Male   English \n",
       "38   12.61 13.0      32  Male   English \n",
       "43   13.65 19.0      30  Female English \n",
       "44    9.00 13.8      20  Female English \n",
       "47   18.07 13.6      48  Male   Other   \n",
       "54   16.01 19.0      39  Female English \n",
       "55   26.40 12.7      38  Male   English \n",
       "57   20.65 19.0      37  Male   English \n",
       "61   23.04 19.0      37  Female English \n",
       "62   24.03 18.3      31  Male   English \n",
       "63   12.00 14.0      46  Female English \n",
       "64   25.60 13.0      41  Male   English \n",
       "66    6.85 15.6      31  Female English \n",
       "68   15.00 12.0      40  Male   English \n",
       "71    9.75  8.0      60  Male   English \n",
       "73    6.70 11.0      17  Female English \n",
       "75   15.00 17.0      39  Male   English \n",
       "⋮    ⋮     ⋮         ⋮   ⋮      ⋮       \n",
       "7357  8.63 13.0      25  Female English \n",
       "7358  7.00 12.0      18  Male   English \n",
       "7362 15.36 15.0      35  Female English \n",
       "7366  6.85  9.0      35  Female English \n",
       "7367  6.14 10.5      19  Female English \n",
       "7369 16.30 15.0      42  Male   English \n",
       "7370 26.88 12.0      42  Male   English \n",
       "7373  6.57 13.5      28  Female English \n",
       "7375 10.50 12.0      44  Male   English \n",
       "7380  6.90 12.0      42  Female English \n",
       "7381 26.75 12.0      56  Male   English \n",
       "7389 41.28 14.0      36  Male   French  \n",
       "7392  3.35  7.5      37  Male   Other   \n",
       "7393 10.00 12.0      37  Female English \n",
       "7394 13.08 13.0      52  Female Other   \n",
       "7395  7.50 12.0      18  Female English \n",
       "7397 12.00 13.0      38  Female English \n",
       "7398 27.59 19.0      33  Male   Other   \n",
       "7401  5.75 14.0      21  Female English \n",
       "7406 10.00 12.0      26  Male   French  \n",
       "7408 23.57 12.1      44  Male   English \n",
       "7410 19.20 12.0      67  Male   English \n",
       "7413 14.07  9.0      32  Male   Other   \n",
       "7414  5.60 12.0      37  Female English \n",
       "7416 16.66  8.0      61  Female English \n",
       "7418  6.80 13.1      20  Male   English \n",
       "7422 30.49 16.0      52  Male   Other   \n",
       "7423 22.00 15.0      41  Male   Other   \n",
       "7424 11.85 11.0      47  Female English \n",
       "7425 23.00 14.0      30  Male   English "
      ]
     },
     "metadata": {},
     "output_type": "display_data"
    }
   ],
   "source": [
    "ds"
   ]
  },
  {
   "cell_type": "code",
   "execution_count": 34,
   "id": "38f23e01",
   "metadata": {},
   "outputs": [
    {
     "data": {
      "image/png": "[encoded data removed]",
      "text/plain": [
       "Plot with title \"성별에 따른 임금\""
      ]
     },
     "metadata": {
      "image/png": {
       "height": 420,
       "width": 420
      }
     },
     "output_type": "display_data"
    }
   ],
   "source": [
    "boxplot(wages~sex, data=ds, main='성별에 따른 임금',\n",
    "       col = c('pink','steelblue'))"
   ]
  },
  {
   "cell_type": "code",
   "execution_count": 35,
   "id": "1e88f6c4",
   "metadata": {},
   "outputs": [
    {
     "data": {
      "image/png": "[encoded data removed]",
      "text/plain": [
       "Plot with title \"사용 언어별 임금\""
      ]
     },
     "metadata": {
      "image/png": {
       "height": 420,
       "width": 420
      }
     },
     "output_type": "display_data"
    }
   ],
   "source": [
    "boxplot(wages~language, data=ds,\n",
    "       main='사용 언어별 임금',\n",
    "       col=c('green','steelblue','yellow'))"
   ]
  },
  {
   "cell_type": "code",
   "execution_count": 36,
   "id": "686e0aaa",
   "metadata": {},
   "outputs": [],
   "source": [
    "ds$edu_group = NA"
   ]
  },
  {
   "cell_type": "code",
   "execution_count": 37,
   "id": "84ae9366",
   "metadata": {},
   "outputs": [],
   "source": [
    "ds$edu_group[ds$education < 10] = 'A'\n",
    "ds$edu_group[ds$education>=10 & ds$education<13] = 'B'\n",
    "ds$edu_group[ds$education>=13 & ds$education<15] = 'C'\n",
    "ds$edu_group[ds$education>=15 & ds$education<18] = 'D'\n",
    "ds$edu_group[ds$education>=18] = 'E'"
   ]
  },
  {
   "cell_type": "code",
   "execution_count": 38,
   "id": "163a5c8e",
   "metadata": {},
   "outputs": [
    {
     "data": {
      "image/png": "[encoded data removed]",
      "text/plain": [
       "Plot with title \"교육기관과 임금\""
      ]
     },
     "metadata": {
      "image/png": {
       "height": 420,
       "width": 420
      }
     },
     "output_type": "display_data"
    }
   ],
   "source": [
    "boxplot(wages~edu_group, data=ds,\n",
    "       main='교육기관과 임금',\n",
    "       col = rainbow(5))"
   ]
  },
  {
   "cell_type": "code",
   "execution_count": 39,
   "id": "94ed7e63",
   "metadata": {},
   "outputs": [
    {
     "name": "stderr",
     "output_type": "stream",
     "text": [
      "Installing package into 'C:/Users/starl/AppData/Local/R/win-library/4.3'\n",
      "(as 'lib' is unspecified)\n",
      "\n"
     ]
    },
    {
     "name": "stdout",
     "output_type": "stream",
     "text": [
      "package 'fmsb' successfully unpacked and MD5 sums checked\n",
      "\n",
      "The downloaded binary packages are in\n",
      "\tC:\\Users\\starl\\AppData\\Local\\Temp\\Rtmp42pdax\\downloaded_packages\n"
     ]
    }
   ],
   "source": [
    "install.packages('fmsb')"
   ]
  },
  {
   "cell_type": "code",
   "execution_count": 41,
   "id": "ef023742",
   "metadata": {},
   "outputs": [],
   "source": [
    "library(fmsb)"
   ]
  },
  {
   "cell_type": "code",
   "execution_count": 43,
   "id": "e01ae400",
   "metadata": {},
   "outputs": [],
   "source": [
    "score = c(80, 60, 95, 85, 40)\n",
    "max.score = rep(100, 5)\n",
    "min.score = rep(0,5)\n",
    "ds = rbind(max.score, min.score, score)"
   ]
  },
  {
   "cell_type": "code",
   "execution_count": 44,
   "id": "79ae0296",
   "metadata": {},
   "outputs": [
    {
     "data": {
      "text/html": [
       "<table class=\"dataframe\">\n",
       "<caption>A matrix: 3 × 5 of type dbl</caption>\n",
       "<tbody>\n",
       "\t<tr><th scope=row>max.score</th><td>100</td><td>100</td><td>100</td><td>100</td><td>100</td></tr>\n",
       "\t<tr><th scope=row>min.score</th><td>  0</td><td>  0</td><td>  0</td><td>  0</td><td>  0</td></tr>\n",
       "\t<tr><th scope=row>score</th><td> 80</td><td> 60</td><td> 95</td><td> 85</td><td> 40</td></tr>\n",
       "</tbody>\n",
       "</table>\n"
      ],
      "text/latex": [
       "A matrix: 3 × 5 of type dbl\n",
       "\\begin{tabular}{r|lllll}\n",
       "\tmax.score & 100 & 100 & 100 & 100 & 100\\\\\n",
       "\tmin.score &   0 &   0 &   0 &   0 &   0\\\\\n",
       "\tscore &  80 &  60 &  95 &  85 &  40\\\\\n",
       "\\end{tabular}\n"
      ],
      "text/markdown": [
       "\n",
       "A matrix: 3 × 5 of type dbl\n",
       "\n",
       "| max.score | 100 | 100 | 100 | 100 | 100 |\n",
       "| min.score |   0 |   0 |   0 |   0 |   0 |\n",
       "| score |  80 |  60 |  95 |  85 |  40 |\n",
       "\n"
      ],
      "text/plain": [
       "          [,1] [,2] [,3] [,4] [,5]\n",
       "max.score 100  100  100  100  100 \n",
       "min.score   0    0    0    0    0 \n",
       "score      80   60   95   85   40 "
      ]
     },
     "metadata": {},
     "output_type": "display_data"
    }
   ],
   "source": [
    "ds"
   ]
  },
  {
   "cell_type": "code",
   "execution_count": 45,
   "id": "1b486d59",
   "metadata": {},
   "outputs": [],
   "source": [
    "ds = data.frame(ds)"
   ]
  },
  {
   "cell_type": "code",
   "execution_count": 46,
   "id": "defc871f",
   "metadata": {},
   "outputs": [
    {
     "data": {
      "text/html": [
       "<table class=\"dataframe\">\n",
       "<caption>A data.frame: 3 × 5</caption>\n",
       "<thead>\n",
       "\t<tr><th></th><th scope=col>X1</th><th scope=col>X2</th><th scope=col>X3</th><th scope=col>X4</th><th scope=col>X5</th></tr>\n",
       "\t<tr><th></th><th scope=col>&lt;dbl&gt;</th><th scope=col>&lt;dbl&gt;</th><th scope=col>&lt;dbl&gt;</th><th scope=col>&lt;dbl&gt;</th><th scope=col>&lt;dbl&gt;</th></tr>\n",
       "</thead>\n",
       "<tbody>\n",
       "\t<tr><th scope=row>max.score</th><td>100</td><td>100</td><td>100</td><td>100</td><td>100</td></tr>\n",
       "\t<tr><th scope=row>min.score</th><td>  0</td><td>  0</td><td>  0</td><td>  0</td><td>  0</td></tr>\n",
       "\t<tr><th scope=row>score</th><td> 80</td><td> 60</td><td> 95</td><td> 85</td><td> 40</td></tr>\n",
       "</tbody>\n",
       "</table>\n"
      ],
      "text/latex": [
       "A data.frame: 3 × 5\n",
       "\\begin{tabular}{r|lllll}\n",
       "  & X1 & X2 & X3 & X4 & X5\\\\\n",
       "  & <dbl> & <dbl> & <dbl> & <dbl> & <dbl>\\\\\n",
       "\\hline\n",
       "\tmax.score & 100 & 100 & 100 & 100 & 100\\\\\n",
       "\tmin.score &   0 &   0 &   0 &   0 &   0\\\\\n",
       "\tscore &  80 &  60 &  95 &  85 &  40\\\\\n",
       "\\end{tabular}\n"
      ],
      "text/markdown": [
       "\n",
       "A data.frame: 3 × 5\n",
       "\n",
       "| <!--/--> | X1 &lt;dbl&gt; | X2 &lt;dbl&gt; | X3 &lt;dbl&gt; | X4 &lt;dbl&gt; | X5 &lt;dbl&gt; |\n",
       "|---|---|---|---|---|---|\n",
       "| max.score | 100 | 100 | 100 | 100 | 100 |\n",
       "| min.score |   0 |   0 |   0 |   0 |   0 |\n",
       "| score |  80 |  60 |  95 |  85 |  40 |\n",
       "\n"
      ],
      "text/plain": [
       "          X1  X2  X3  X4  X5 \n",
       "max.score 100 100 100 100 100\n",
       "min.score   0   0   0   0   0\n",
       "score      80  60  95  85  40"
      ]
     },
     "metadata": {},
     "output_type": "display_data"
    }
   ],
   "source": [
    "ds"
   ]
  },
  {
   "cell_type": "code",
   "execution_count": 49,
   "id": "5e96b7e1",
   "metadata": {},
   "outputs": [],
   "source": [
    "colnames(ds) = c('한여름','겨울밤','별빛','달빛','룬')"
   ]
  },
  {
   "cell_type": "code",
   "execution_count": 50,
   "id": "88ae2cb2",
   "metadata": {},
   "outputs": [
    {
     "data": {
      "image/png": "[encoded data removed]",
      "text/plain": [
       "Plot with title \"\""
      ]
     },
     "metadata": {
      "image/png": {
       "height": 420,
       "width": 420
      }
     },
     "output_type": "display_data"
    }
   ],
   "source": [
    "radarchart(ds)"
   ]
  },
  {
   "cell_type": "code",
   "execution_count": 51,
   "id": "10a06e56",
   "metadata": {},
   "outputs": [
    {
     "name": "stderr",
     "output_type": "stream",
     "text": [
      "Warning message in plot.window(...):\n",
      "\"\"axisstype\" is not a graphical parameter\"\n",
      "Warning message in plot.xy(xy, type, ...):\n",
      "\"\"axisstype\" is not a graphical parameter\"\n",
      "Warning message in title(...):\n",
      "\"\"axisstype\" is not a graphical parameter\"\n"
     ]
    },
    {
     "data": {
      "image/png": "[encoded data removed]",
      "text/plain": [
       "Plot with title \"\""
      ]
     },
     "metadata": {
      "image/png": {
       "height": 420,
       "width": 420
      }
     },
     "output_type": "display_data"
    }
   ],
   "source": [
    "radarchart(ds,\n",
    "          pcol = \"dark green\",\n",
    "          pfcol = rgb(0.2, 0.5, 0.5, 0.5),\n",
    "          plwd = 3,\n",
    "          cglcol = 'grey',\n",
    "          cglty=1,\n",
    "          cglwd = 0.8,\n",
    "          axisstype = 1,\n",
    "          seg = 4,\n",
    "          axislabcol='grey',\n",
    "          caxislabels = seq(0, 100, 25))"
   ]
  },
  {
   "cell_type": "code",
   "execution_count": 53,
   "id": "0792126c",
   "metadata": {},
   "outputs": [],
   "source": [
    "library(carData)"
   ]
  },
  {
   "cell_type": "code",
   "execution_count": 54,
   "id": "b39ab169",
   "metadata": {},
   "outputs": [
    {
     "data": {
      "text/html": [
       "<table class=\"dataframe\">\n",
       "<caption>A data.frame: 6 × 6</caption>\n",
       "<thead>\n",
       "\t<tr><th></th><th scope=col>poverty</th><th scope=col>religion</th><th scope=col>degree</th><th scope=col>country</th><th scope=col>age</th><th scope=col>gender</th></tr>\n",
       "\t<tr><th></th><th scope=col>&lt;ord&gt;</th><th scope=col>&lt;fct&gt;</th><th scope=col>&lt;fct&gt;</th><th scope=col>&lt;fct&gt;</th><th scope=col>&lt;int&gt;</th><th scope=col>&lt;fct&gt;</th></tr>\n",
       "</thead>\n",
       "<tbody>\n",
       "\t<tr><th scope=row>1</th><td>Too Little </td><td>yes</td><td>no </td><td>USA</td><td>44</td><td>male  </td></tr>\n",
       "\t<tr><th scope=row>2</th><td>About Right</td><td>yes</td><td>no </td><td>USA</td><td>40</td><td>female</td></tr>\n",
       "\t<tr><th scope=row>3</th><td>Too Little </td><td>yes</td><td>no </td><td>USA</td><td>36</td><td>female</td></tr>\n",
       "\t<tr><th scope=row>4</th><td>Too Much   </td><td>yes</td><td>yes</td><td>USA</td><td>25</td><td>female</td></tr>\n",
       "\t<tr><th scope=row>5</th><td>Too Little </td><td>yes</td><td>yes</td><td>USA</td><td>39</td><td>male  </td></tr>\n",
       "\t<tr><th scope=row>6</th><td>About Right</td><td>yes</td><td>no </td><td>USA</td><td>80</td><td>female</td></tr>\n",
       "</tbody>\n",
       "</table>\n"
      ],
      "text/latex": [
       "A data.frame: 6 × 6\n",
       "\\begin{tabular}{r|llllll}\n",
       "  & poverty & religion & degree & country & age & gender\\\\\n",
       "  & <ord> & <fct> & <fct> & <fct> & <int> & <fct>\\\\\n",
       "\\hline\n",
       "\t1 & Too Little  & yes & no  & USA & 44 & male  \\\\\n",
       "\t2 & About Right & yes & no  & USA & 40 & female\\\\\n",
       "\t3 & Too Little  & yes & no  & USA & 36 & female\\\\\n",
       "\t4 & Too Much    & yes & yes & USA & 25 & female\\\\\n",
       "\t5 & Too Little  & yes & yes & USA & 39 & male  \\\\\n",
       "\t6 & About Right & yes & no  & USA & 80 & female\\\\\n",
       "\\end{tabular}\n"
      ],
      "text/markdown": [
       "\n",
       "A data.frame: 6 × 6\n",
       "\n",
       "| <!--/--> | poverty &lt;ord&gt; | religion &lt;fct&gt; | degree &lt;fct&gt; | country &lt;fct&gt; | age &lt;int&gt; | gender &lt;fct&gt; |\n",
       "|---|---|---|---|---|---|---|\n",
       "| 1 | Too Little  | yes | no  | USA | 44 | male   |\n",
       "| 2 | About Right | yes | no  | USA | 40 | female |\n",
       "| 3 | Too Little  | yes | no  | USA | 36 | female |\n",
       "| 4 | Too Much    | yes | yes | USA | 25 | female |\n",
       "| 5 | Too Little  | yes | yes | USA | 39 | male   |\n",
       "| 6 | About Right | yes | no  | USA | 80 | female |\n",
       "\n"
      ],
      "text/plain": [
       "  poverty     religion degree country age gender\n",
       "1 Too Little  yes      no     USA     44  male  \n",
       "2 About Right yes      no     USA     40  female\n",
       "3 Too Little  yes      no     USA     36  female\n",
       "4 Too Much    yes      yes    USA     25  female\n",
       "5 Too Little  yes      yes    USA     39  male  \n",
       "6 About Right yes      no     USA     80  female"
      ]
     },
     "metadata": {},
     "output_type": "display_data"
    }
   ],
   "source": [
    "head(WVS)"
   ]
  },
  {
   "cell_type": "code",
   "execution_count": 55,
   "id": "5caf2cc8",
   "metadata": {},
   "outputs": [],
   "source": [
    "pop = table(WVS$country)\n",
    "tmp = subset(WVS, religion == 'yes')\n",
    "rel = table(tmp$country)"
   ]
  },
  {
   "cell_type": "code",
   "execution_count": 56,
   "id": "1431c087",
   "metadata": {},
   "outputs": [],
   "source": [
    "stat = rel/pop"
   ]
  },
  {
   "cell_type": "code",
   "execution_count": 57,
   "id": "78d6a863",
   "metadata": {},
   "outputs": [
    {
     "data": {
      "text/plain": [
       "\n",
       "Australia    Norway    Sweden       USA \n",
       "0.7998933 0.9032831 0.9850449 0.7915759 "
      ]
     },
     "metadata": {},
     "output_type": "display_data"
    }
   ],
   "source": [
    "stat"
   ]
  },
  {
   "cell_type": "code",
   "execution_count": 58,
   "id": "d602b5a8",
   "metadata": {},
   "outputs": [],
   "source": [
    "max.score = rep(1, 4)\n",
    "min.score = rep(0, 4)\n",
    "ds = rbind(max.score, min.score, stat)\n",
    "ds = data.frame(ds)"
   ]
  },
  {
   "cell_type": "code",
   "execution_count": 59,
   "id": "f29710e4",
   "metadata": {},
   "outputs": [
    {
     "data": {
      "text/html": [
       "<table class=\"dataframe\">\n",
       "<caption>A data.frame: 3 × 4</caption>\n",
       "<thead>\n",
       "\t<tr><th></th><th scope=col>Australia</th><th scope=col>Norway</th><th scope=col>Sweden</th><th scope=col>USA</th></tr>\n",
       "\t<tr><th></th><th scope=col>&lt;dbl&gt;</th><th scope=col>&lt;dbl&gt;</th><th scope=col>&lt;dbl&gt;</th><th scope=col>&lt;dbl&gt;</th></tr>\n",
       "</thead>\n",
       "<tbody>\n",
       "\t<tr><th scope=row>max.score</th><td>1.0000000</td><td>1.0000000</td><td>1.0000000</td><td>1.0000000</td></tr>\n",
       "\t<tr><th scope=row>min.score</th><td>0.0000000</td><td>0.0000000</td><td>0.0000000</td><td>0.0000000</td></tr>\n",
       "\t<tr><th scope=row>stat</th><td>0.7998933</td><td>0.9032831</td><td>0.9850449</td><td>0.7915759</td></tr>\n",
       "</tbody>\n",
       "</table>\n"
      ],
      "text/latex": [
       "A data.frame: 3 × 4\n",
       "\\begin{tabular}{r|llll}\n",
       "  & Australia & Norway & Sweden & USA\\\\\n",
       "  & <dbl> & <dbl> & <dbl> & <dbl>\\\\\n",
       "\\hline\n",
       "\tmax.score & 1.0000000 & 1.0000000 & 1.0000000 & 1.0000000\\\\\n",
       "\tmin.score & 0.0000000 & 0.0000000 & 0.0000000 & 0.0000000\\\\\n",
       "\tstat & 0.7998933 & 0.9032831 & 0.9850449 & 0.7915759\\\\\n",
       "\\end{tabular}\n"
      ],
      "text/markdown": [
       "\n",
       "A data.frame: 3 × 4\n",
       "\n",
       "| <!--/--> | Australia &lt;dbl&gt; | Norway &lt;dbl&gt; | Sweden &lt;dbl&gt; | USA &lt;dbl&gt; |\n",
       "|---|---|---|---|---|\n",
       "| max.score | 1.0000000 | 1.0000000 | 1.0000000 | 1.0000000 |\n",
       "| min.score | 0.0000000 | 0.0000000 | 0.0000000 | 0.0000000 |\n",
       "| stat | 0.7998933 | 0.9032831 | 0.9850449 | 0.7915759 |\n",
       "\n"
      ],
      "text/plain": [
       "          Australia Norway    Sweden    USA      \n",
       "max.score 1.0000000 1.0000000 1.0000000 1.0000000\n",
       "min.score 0.0000000 0.0000000 0.0000000 0.0000000\n",
       "stat      0.7998933 0.9032831 0.9850449 0.7915759"
      ]
     },
     "metadata": {},
     "output_type": "display_data"
    }
   ],
   "source": [
    "ds"
   ]
  },
  {
   "cell_type": "code",
   "execution_count": 60,
   "id": "b72fbae4",
   "metadata": {},
   "outputs": [
    {
     "data": {
      "image/png": "[encoded data removed]",
      "text/plain": [
       "Plot with title \"국가적 종교인 비율\""
      ]
     },
     "metadata": {
      "image/png": {
       "height": 420,
       "width": 420
      }
     },
     "output_type": "display_data"
    }
   ],
   "source": [
    "radarchart(ds,\n",
    "          pcol = 'dark green',\n",
    "          pfcol = rgb(0.2, 0.5, 0.5, 0.5),\n",
    "          plwd = 3,\n",
    "          cglcol = 'grey',\n",
    "          cglty = 1,\n",
    "          axistype = 1,\n",
    "          axislabcol='grey',\n",
    "          caxislabels=seq(0.1, 0.25),\n",
    "          title=\"국가적 종교인 비율\")"
   ]
  },
  {
   "cell_type": "code",
   "execution_count": 61,
   "id": "06ae8bbd",
   "metadata": {},
   "outputs": [
    {
     "name": "stderr",
     "output_type": "stream",
     "text": [
      "Installing package into 'C:/Users/starl/AppData/Local/R/win-library/4.3'\n",
      "(as 'lib' is unspecified)\n",
      "\n"
     ]
    },
    {
     "name": "stdout",
     "output_type": "stream",
     "text": [
      "package 'ggplot2' successfully unpacked and MD5 sums checked\n",
      "\n",
      "The downloaded binary packages are in\n",
      "\tC:\\Users\\starl\\AppData\\Local\\Temp\\Rtmp42pdax\\downloaded_packages\n"
     ]
    }
   ],
   "source": [
    "install.packages('ggplot2')"
   ]
  },
  {
   "cell_type": "code",
   "execution_count": 62,
   "id": "9c1a49f6",
   "metadata": {},
   "outputs": [
    {
     "name": "stderr",
     "output_type": "stream",
     "text": [
      "Warning message:\n",
      "\"package 'ggplot2' was built under R version 4.3.2\"\n"
     ]
    }
   ],
   "source": [
    "library(ggplot2)"
   ]
  },
  {
   "cell_type": "code",
   "execution_count": 64,
   "id": "327f39b6",
   "metadata": {},
   "outputs": [],
   "source": [
    "month = 1:6"
   ]
  },
  {
   "cell_type": "code",
   "execution_count": 65,
   "id": "440046e5",
   "metadata": {},
   "outputs": [
    {
     "data": {
      "text/html": [
       "<style>\n",
       ".list-inline {list-style: none; margin:0; padding: 0}\n",
       ".list-inline>li {display: inline-block}\n",
       ".list-inline>li:not(:last-child)::after {content: \"\\00b7\"; padding: 0 .5ex}\n",
       "</style>\n",
       "<ol class=list-inline><li>1</li><li>2</li><li>3</li><li>4</li><li>5</li><li>6</li></ol>\n"
      ],
      "text/latex": [
       "\\begin{enumerate*}\n",
       "\\item 1\n",
       "\\item 2\n",
       "\\item 3\n",
       "\\item 4\n",
       "\\item 5\n",
       "\\item 6\n",
       "\\end{enumerate*}\n"
      ],
      "text/markdown": [
       "1. 1\n",
       "2. 2\n",
       "3. 3\n",
       "4. 4\n",
       "5. 5\n",
       "6. 6\n",
       "\n",
       "\n"
      ],
      "text/plain": [
       "[1] 1 2 3 4 5 6"
      ]
     },
     "metadata": {},
     "output_type": "display_data"
    }
   ],
   "source": [
    "month"
   ]
  },
  {
   "cell_type": "code",
   "execution_count": 66,
   "id": "f13ec4a9",
   "metadata": {},
   "outputs": [],
   "source": [
    "rain = c(55, 50, 45, 50, 60, 70)"
   ]
  },
  {
   "cell_type": "code",
   "execution_count": 67,
   "id": "863ad1c6",
   "metadata": {},
   "outputs": [
    {
     "data": {
      "text/html": [
       "<style>\n",
       ".list-inline {list-style: none; margin:0; padding: 0}\n",
       ".list-inline>li {display: inline-block}\n",
       ".list-inline>li:not(:last-child)::after {content: \"\\00b7\"; padding: 0 .5ex}\n",
       "</style>\n",
       "<ol class=list-inline><li>55</li><li>50</li><li>45</li><li>50</li><li>60</li><li>70</li></ol>\n"
      ],
      "text/latex": [
       "\\begin{enumerate*}\n",
       "\\item 55\n",
       "\\item 50\n",
       "\\item 45\n",
       "\\item 50\n",
       "\\item 60\n",
       "\\item 70\n",
       "\\end{enumerate*}\n"
      ],
      "text/markdown": [
       "1. 55\n",
       "2. 50\n",
       "3. 45\n",
       "4. 50\n",
       "5. 60\n",
       "6. 70\n",
       "\n",
       "\n"
      ],
      "text/plain": [
       "[1] 55 50 45 50 60 70"
      ]
     },
     "metadata": {},
     "output_type": "display_data"
    }
   ],
   "source": [
    "rain"
   ]
  },
  {
   "cell_type": "code",
   "execution_count": 68,
   "id": "968b4f49",
   "metadata": {},
   "outputs": [],
   "source": [
    "df = data.frame(month, rain)"
   ]
  },
  {
   "cell_type": "code",
   "execution_count": 69,
   "id": "e93ee34c",
   "metadata": {},
   "outputs": [
    {
     "data": {
      "text/html": [
       "<table class=\"dataframe\">\n",
       "<caption>A data.frame: 6 × 2</caption>\n",
       "<thead>\n",
       "\t<tr><th scope=col>month</th><th scope=col>rain</th></tr>\n",
       "\t<tr><th scope=col>&lt;int&gt;</th><th scope=col>&lt;dbl&gt;</th></tr>\n",
       "</thead>\n",
       "<tbody>\n",
       "\t<tr><td>1</td><td>55</td></tr>\n",
       "\t<tr><td>2</td><td>50</td></tr>\n",
       "\t<tr><td>3</td><td>45</td></tr>\n",
       "\t<tr><td>4</td><td>50</td></tr>\n",
       "\t<tr><td>5</td><td>60</td></tr>\n",
       "\t<tr><td>6</td><td>70</td></tr>\n",
       "</tbody>\n",
       "</table>\n"
      ],
      "text/latex": [
       "A data.frame: 6 × 2\n",
       "\\begin{tabular}{ll}\n",
       " month & rain\\\\\n",
       " <int> & <dbl>\\\\\n",
       "\\hline\n",
       "\t 1 & 55\\\\\n",
       "\t 2 & 50\\\\\n",
       "\t 3 & 45\\\\\n",
       "\t 4 & 50\\\\\n",
       "\t 5 & 60\\\\\n",
       "\t 6 & 70\\\\\n",
       "\\end{tabular}\n"
      ],
      "text/markdown": [
       "\n",
       "A data.frame: 6 × 2\n",
       "\n",
       "| month &lt;int&gt; | rain &lt;dbl&gt; |\n",
       "|---|---|\n",
       "| 1 | 55 |\n",
       "| 2 | 50 |\n",
       "| 3 | 45 |\n",
       "| 4 | 50 |\n",
       "| 5 | 60 |\n",
       "| 6 | 70 |\n",
       "\n"
      ],
      "text/plain": [
       "  month rain\n",
       "1 1     55  \n",
       "2 2     50  \n",
       "3 3     45  \n",
       "4 4     50  \n",
       "5 5     60  \n",
       "6 6     70  "
      ]
     },
     "metadata": {},
     "output_type": "display_data"
    }
   ],
   "source": [
    "df"
   ]
  },
  {
   "cell_type": "code",
   "execution_count": 77,
   "id": "c325e051",
   "metadata": {},
   "outputs": [
    {
     "data": {
      "image/png": "[encoded data removed]",
      "text/plain": [
       "plot without title"
      ]
     },
     "metadata": {
      "image/png": {
       "height": 420,
       "width": 420
      }
     },
     "output_type": "display_data"
    }
   ],
   "source": [
    "ggplot(df,aes(x=month, y=rain)) + geom_bar(stat='identity', width = 0.7, fill='steelblue')"
   ]
  },
  {
   "cell_type": "code",
   "execution_count": 79,
   "id": "087016ab",
   "metadata": {},
   "outputs": [
    {
     "data": {
      "image/png": "[encoded data removed]",
      "text/plain": [
       "plot without title"
      ]
     },
     "metadata": {
      "image/png": {
       "height": 420,
       "width": 420
      }
     },
     "output_type": "display_data"
    }
   ],
   "source": [
    "ggplot(df,aes(x=month, y=rain)) + geom_bar(stat='identity', width = 0.7, fill='steelblue') + ggtitle('월별 강수량') + theme(plot.title = element_text(size=25, face='bold', colour ='steelblue')) + labs(x='월', y='강수량') + coord_flip()"
   ]
  },
  {
   "cell_type": "code",
   "execution_count": 80,
   "id": "953bde5a",
   "metadata": {},
   "outputs": [],
   "source": [
    "library(ggplot2)"
   ]
  },
  {
   "cell_type": "code",
   "execution_count": 83,
   "id": "d0a0c389",
   "metadata": {},
   "outputs": [
    {
     "name": "stderr",
     "output_type": "stream",
     "text": [
      "Warning message in geom_histogram(binwith = 0.5):\n",
      "\"\u001b[1m\u001b[22mIgnoring unknown parameters: `binwith`\"\n",
      "\u001b[1m\u001b[22m`stat_bin()` using `bins = 30`. Pick better value with `binwidth`.\n"
     ]
    },
    {
     "data": {
      "image/png": "[encoded data removed]",
      "text/plain": [
       "plot without title"
      ]
     },
     "metadata": {
      "image/png": {
       "height": 420,
       "width": 420
      }
     },
     "output_type": "display_data"
    }
   ],
   "source": [
    "ggplot(iris, aes(x=Petal.Length)) + geom_histogram(binwith = 0.5)"
   ]
  },
  {
   "cell_type": "code",
   "execution_count": 87,
   "id": "a752f9ae",
   "metadata": {},
   "outputs": [
    {
     "data": {
      "image/png": "[encoded data removed]",
      "text/plain": [
       "plot without title"
      ]
     },
     "metadata": {
      "image/png": {
       "height": 420,
       "width": 420
      }
     },
     "output_type": "display_data"
    }
   ],
   "source": [
    "ggplot(iris, aes(x=Sepal.Width, fill=Species, color=Species)) + geom_histogram(binwidth = 0.5, position = 'dodge') + theme(legend.position='top')"
   ]
  },
  {
   "cell_type": "code",
   "execution_count": 92,
   "id": "34dcfbd9",
   "metadata": {},
   "outputs": [
    {
     "data": {
      "text/html": [
       "<style>\n",
       ".list-inline {list-style: none; margin:0; padding: 0}\n",
       ".list-inline>li {display: inline-block}\n",
       ".list-inline>li:not(:last-child)::after {content: \"\\00b7\"; padding: 0 .5ex}\n",
       "</style>\n",
       "<ol class=list-inline><li>1.4</li><li>1.4</li><li>1.3</li><li>1.5</li><li>1.4</li><li>1.7</li><li>1.4</li><li>1.5</li><li>1.4</li><li>1.5</li><li>1.5</li><li>1.6</li><li>1.4</li><li>1.1</li><li>1.2</li><li>1.5</li><li>1.3</li><li>1.4</li><li>1.7</li><li>1.5</li><li>1.7</li><li>1.5</li><li>1</li><li>1.7</li><li>1.9</li><li>1.6</li><li>1.6</li><li>1.5</li><li>1.4</li><li>1.6</li><li>1.6</li><li>1.5</li><li>1.5</li><li>1.4</li><li>1.5</li><li>1.2</li><li>1.3</li><li>1.4</li><li>1.3</li><li>1.5</li><li>1.3</li><li>1.3</li><li>1.3</li><li>1.6</li><li>1.9</li><li>1.4</li><li>1.6</li><li>1.4</li><li>1.5</li><li>1.4</li><li>4.7</li><li>4.5</li><li>4.9</li><li>4</li><li>4.6</li><li>4.5</li><li>4.7</li><li>3.3</li><li>4.6</li><li>3.9</li><li>3.5</li><li>4.2</li><li>4</li><li>4.7</li><li>3.6</li><li>4.4</li><li>4.5</li><li>4.1</li><li>4.5</li><li>3.9</li><li>4.8</li><li>4</li><li>4.9</li><li>4.7</li><li>4.3</li><li>4.4</li><li>4.8</li><li>5</li><li>4.5</li><li>3.5</li><li>3.8</li><li>3.7</li><li>3.9</li><li>5.1</li><li>4.5</li><li>4.5</li><li>4.7</li><li>4.4</li><li>4.1</li><li>4</li><li>4.4</li><li>4.6</li><li>4</li><li>3.3</li><li>4.2</li><li>4.2</li><li>4.2</li><li>4.3</li><li>3</li><li>4.1</li><li>6</li><li>5.1</li><li>5.9</li><li>5.6</li><li>5.8</li><li>6.6</li><li>4.5</li><li>6.3</li><li>5.8</li><li>6.1</li><li>5.1</li><li>5.3</li><li>5.5</li><li>5</li><li>5.1</li><li>5.3</li><li>5.5</li><li>6.7</li><li>6.9</li><li>5</li><li>5.7</li><li>4.9</li><li>6.7</li><li>4.9</li><li>5.7</li><li>6</li><li>4.8</li><li>4.9</li><li>5.6</li><li>5.8</li><li>6.1</li><li>6.4</li><li>5.6</li><li>5.1</li><li>5.6</li><li>6.1</li><li>5.6</li><li>5.5</li><li>4.8</li><li>5.4</li><li>5.6</li><li>5.1</li><li>5.1</li><li>5.9</li><li>5.7</li><li>5.2</li><li>5</li><li>5.2</li><li>5.4</li><li>5.1</li></ol>\n"
      ],
      "text/latex": [
       "\\begin{enumerate*}\n",
       "\\item 1.4\n",
       "\\item 1.4\n",
       "\\item 1.3\n",
       "\\item 1.5\n",
       "\\item 1.4\n",
       "\\item 1.7\n",
       "\\item 1.4\n",
       "\\item 1.5\n",
       "\\item 1.4\n",
       "\\item 1.5\n",
       "\\item 1.5\n",
       "\\item 1.6\n",
       "\\item 1.4\n",
       "\\item 1.1\n",
       "\\item 1.2\n",
       "\\item 1.5\n",
       "\\item 1.3\n",
       "\\item 1.4\n",
       "\\item 1.7\n",
       "\\item 1.5\n",
       "\\item 1.7\n",
       "\\item 1.5\n",
       "\\item 1\n",
       "\\item 1.7\n",
       "\\item 1.9\n",
       "\\item 1.6\n",
       "\\item 1.6\n",
       "\\item 1.5\n",
       "\\item 1.4\n",
       "\\item 1.6\n",
       "\\item 1.6\n",
       "\\item 1.5\n",
       "\\item 1.5\n",
       "\\item 1.4\n",
       "\\item 1.5\n",
       "\\item 1.2\n",
       "\\item 1.3\n",
       "\\item 1.4\n",
       "\\item 1.3\n",
       "\\item 1.5\n",
       "\\item 1.3\n",
       "\\item 1.3\n",
       "\\item 1.3\n",
       "\\item 1.6\n",
       "\\item 1.9\n",
       "\\item 1.4\n",
       "\\item 1.6\n",
       "\\item 1.4\n",
       "\\item 1.5\n",
       "\\item 1.4\n",
       "\\item 4.7\n",
       "\\item 4.5\n",
       "\\item 4.9\n",
       "\\item 4\n",
       "\\item 4.6\n",
       "\\item 4.5\n",
       "\\item 4.7\n",
       "\\item 3.3\n",
       "\\item 4.6\n",
       "\\item 3.9\n",
       "\\item 3.5\n",
       "\\item 4.2\n",
       "\\item 4\n",
       "\\item 4.7\n",
       "\\item 3.6\n",
       "\\item 4.4\n",
       "\\item 4.5\n",
       "\\item 4.1\n",
       "\\item 4.5\n",
       "\\item 3.9\n",
       "\\item 4.8\n",
       "\\item 4\n",
       "\\item 4.9\n",
       "\\item 4.7\n",
       "\\item 4.3\n",
       "\\item 4.4\n",
       "\\item 4.8\n",
       "\\item 5\n",
       "\\item 4.5\n",
       "\\item 3.5\n",
       "\\item 3.8\n",
       "\\item 3.7\n",
       "\\item 3.9\n",
       "\\item 5.1\n",
       "\\item 4.5\n",
       "\\item 4.5\n",
       "\\item 4.7\n",
       "\\item 4.4\n",
       "\\item 4.1\n",
       "\\item 4\n",
       "\\item 4.4\n",
       "\\item 4.6\n",
       "\\item 4\n",
       "\\item 3.3\n",
       "\\item 4.2\n",
       "\\item 4.2\n",
       "\\item 4.2\n",
       "\\item 4.3\n",
       "\\item 3\n",
       "\\item 4.1\n",
       "\\item 6\n",
       "\\item 5.1\n",
       "\\item 5.9\n",
       "\\item 5.6\n",
       "\\item 5.8\n",
       "\\item 6.6\n",
       "\\item 4.5\n",
       "\\item 6.3\n",
       "\\item 5.8\n",
       "\\item 6.1\n",
       "\\item 5.1\n",
       "\\item 5.3\n",
       "\\item 5.5\n",
       "\\item 5\n",
       "\\item 5.1\n",
       "\\item 5.3\n",
       "\\item 5.5\n",
       "\\item 6.7\n",
       "\\item 6.9\n",
       "\\item 5\n",
       "\\item 5.7\n",
       "\\item 4.9\n",
       "\\item 6.7\n",
       "\\item 4.9\n",
       "\\item 5.7\n",
       "\\item 6\n",
       "\\item 4.8\n",
       "\\item 4.9\n",
       "\\item 5.6\n",
       "\\item 5.8\n",
       "\\item 6.1\n",
       "\\item 6.4\n",
       "\\item 5.6\n",
       "\\item 5.1\n",
       "\\item 5.6\n",
       "\\item 6.1\n",
       "\\item 5.6\n",
       "\\item 5.5\n",
       "\\item 4.8\n",
       "\\item 5.4\n",
       "\\item 5.6\n",
       "\\item 5.1\n",
       "\\item 5.1\n",
       "\\item 5.9\n",
       "\\item 5.7\n",
       "\\item 5.2\n",
       "\\item 5\n",
       "\\item 5.2\n",
       "\\item 5.4\n",
       "\\item 5.1\n",
       "\\end{enumerate*}\n"
      ],
      "text/markdown": [
       "1. 1.4\n",
       "2. 1.4\n",
       "3. 1.3\n",
       "4. 1.5\n",
       "5. 1.4\n",
       "6. 1.7\n",
       "7. 1.4\n",
       "8. 1.5\n",
       "9. 1.4\n",
       "10. 1.5\n",
       "11. 1.5\n",
       "12. 1.6\n",
       "13. 1.4\n",
       "14. 1.1\n",
       "15. 1.2\n",
       "16. 1.5\n",
       "17. 1.3\n",
       "18. 1.4\n",
       "19. 1.7\n",
       "20. 1.5\n",
       "21. 1.7\n",
       "22. 1.5\n",
       "23. 1\n",
       "24. 1.7\n",
       "25. 1.9\n",
       "26. 1.6\n",
       "27. 1.6\n",
       "28. 1.5\n",
       "29. 1.4\n",
       "30. 1.6\n",
       "31. 1.6\n",
       "32. 1.5\n",
       "33. 1.5\n",
       "34. 1.4\n",
       "35. 1.5\n",
       "36. 1.2\n",
       "37. 1.3\n",
       "38. 1.4\n",
       "39. 1.3\n",
       "40. 1.5\n",
       "41. 1.3\n",
       "42. 1.3\n",
       "43. 1.3\n",
       "44. 1.6\n",
       "45. 1.9\n",
       "46. 1.4\n",
       "47. 1.6\n",
       "48. 1.4\n",
       "49. 1.5\n",
       "50. 1.4\n",
       "51. 4.7\n",
       "52. 4.5\n",
       "53. 4.9\n",
       "54. 4\n",
       "55. 4.6\n",
       "56. 4.5\n",
       "57. 4.7\n",
       "58. 3.3\n",
       "59. 4.6\n",
       "60. 3.9\n",
       "61. 3.5\n",
       "62. 4.2\n",
       "63. 4\n",
       "64. 4.7\n",
       "65. 3.6\n",
       "66. 4.4\n",
       "67. 4.5\n",
       "68. 4.1\n",
       "69. 4.5\n",
       "70. 3.9\n",
       "71. 4.8\n",
       "72. 4\n",
       "73. 4.9\n",
       "74. 4.7\n",
       "75. 4.3\n",
       "76. 4.4\n",
       "77. 4.8\n",
       "78. 5\n",
       "79. 4.5\n",
       "80. 3.5\n",
       "81. 3.8\n",
       "82. 3.7\n",
       "83. 3.9\n",
       "84. 5.1\n",
       "85. 4.5\n",
       "86. 4.5\n",
       "87. 4.7\n",
       "88. 4.4\n",
       "89. 4.1\n",
       "90. 4\n",
       "91. 4.4\n",
       "92. 4.6\n",
       "93. 4\n",
       "94. 3.3\n",
       "95. 4.2\n",
       "96. 4.2\n",
       "97. 4.2\n",
       "98. 4.3\n",
       "99. 3\n",
       "100. 4.1\n",
       "101. 6\n",
       "102. 5.1\n",
       "103. 5.9\n",
       "104. 5.6\n",
       "105. 5.8\n",
       "106. 6.6\n",
       "107. 4.5\n",
       "108. 6.3\n",
       "109. 5.8\n",
       "110. 6.1\n",
       "111. 5.1\n",
       "112. 5.3\n",
       "113. 5.5\n",
       "114. 5\n",
       "115. 5.1\n",
       "116. 5.3\n",
       "117. 5.5\n",
       "118. 6.7\n",
       "119. 6.9\n",
       "120. 5\n",
       "121. 5.7\n",
       "122. 4.9\n",
       "123. 6.7\n",
       "124. 4.9\n",
       "125. 5.7\n",
       "126. 6\n",
       "127. 4.8\n",
       "128. 4.9\n",
       "129. 5.6\n",
       "130. 5.8\n",
       "131. 6.1\n",
       "132. 6.4\n",
       "133. 5.6\n",
       "134. 5.1\n",
       "135. 5.6\n",
       "136. 6.1\n",
       "137. 5.6\n",
       "138. 5.5\n",
       "139. 4.8\n",
       "140. 5.4\n",
       "141. 5.6\n",
       "142. 5.1\n",
       "143. 5.1\n",
       "144. 5.9\n",
       "145. 5.7\n",
       "146. 5.2\n",
       "147. 5\n",
       "148. 5.2\n",
       "149. 5.4\n",
       "150. 5.1\n",
       "\n",
       "\n"
      ],
      "text/plain": [
       "  [1] 1.4 1.4 1.3 1.5 1.4 1.7 1.4 1.5 1.4 1.5 1.5 1.6 1.4 1.1 1.2 1.5 1.3 1.4\n",
       " [19] 1.7 1.5 1.7 1.5 1.0 1.7 1.9 1.6 1.6 1.5 1.4 1.6 1.6 1.5 1.5 1.4 1.5 1.2\n",
       " [37] 1.3 1.4 1.3 1.5 1.3 1.3 1.3 1.6 1.9 1.4 1.6 1.4 1.5 1.4 4.7 4.5 4.9 4.0\n",
       " [55] 4.6 4.5 4.7 3.3 4.6 3.9 3.5 4.2 4.0 4.7 3.6 4.4 4.5 4.1 4.5 3.9 4.8 4.0\n",
       " [73] 4.9 4.7 4.3 4.4 4.8 5.0 4.5 3.5 3.8 3.7 3.9 5.1 4.5 4.5 4.7 4.4 4.1 4.0\n",
       " [91] 4.4 4.6 4.0 3.3 4.2 4.2 4.2 4.3 3.0 4.1 6.0 5.1 5.9 5.6 5.8 6.6 4.5 6.3\n",
       "[109] 5.8 6.1 5.1 5.3 5.5 5.0 5.1 5.3 5.5 6.7 6.9 5.0 5.7 4.9 6.7 4.9 5.7 6.0\n",
       "[127] 4.8 4.9 5.6 5.8 6.1 6.4 5.6 5.1 5.6 6.1 5.6 5.5 4.8 5.4 5.6 5.1 5.1 5.9\n",
       "[145] 5.7 5.2 5.0 5.2 5.4 5.1"
      ]
     },
     "metadata": {},
     "output_type": "display_data"
    }
   ],
   "source": [
    "iris$Petal.Length"
   ]
  },
  {
   "cell_type": "code",
   "execution_count": 93,
   "id": "ffbee73b",
   "metadata": {},
   "outputs": [
    {
     "ename": "ERROR",
     "evalue": "\u001b[1m\u001b[33mError\u001b[39m in `ggplot()`:\u001b[22m\n\u001b[1m\u001b[22m\u001b[33m!\u001b[39m `mapping` should be created with `aes()`.\n\u001b[31m✖\u001b[39m You've supplied a \u001b[34m<NULL>\u001b[39m object\n",
     "output_type": "error",
     "traceback": [
      "\u001b[1m\u001b[33mError\u001b[39m in `ggplot()`:\u001b[22m\n\u001b[1m\u001b[22m\u001b[33m!\u001b[39m `mapping` should be created with `aes()`.\n\u001b[31m✖\u001b[39m You've supplied a \u001b[34m<NULL>\u001b[39m object\nTraceback:\n",
      "1. ggplot(data = iris, aes(x = iris$Petal.Length, y = iris$Petal.Width) + \n .     geom_point())",
      "2. ggplot.default(data = iris, aes(x = iris$Petal.Length, y = iris$Petal.Width) + \n .     geom_point())",
      "3. cli::cli_abort(c(\"{.arg mapping} should be created with {.fn aes}.\", \n .     x = \"You've supplied a {.cls {class(mapping)[1]}} object\"))",
      "4. rlang::abort(message, ..., call = call, use_cli_format = TRUE, \n .     .frame = .frame)",
      "5. signal_abort(cnd, .file)"
     ]
    }
   ],
   "source": [
    "ggplot(data=iris, aes(x=iris$Petal.Length, y=iris$Petal.Width) + geom_point())"
   ]
  },
  {
   "cell_type": "code",
   "execution_count": 95,
   "id": "d18bcd1f",
   "metadata": {},
   "outputs": [
    {
     "data": {
      "image/png": "[encoded data removed]",
      "text/plain": [
       "plot without title"
      ]
     },
     "metadata": {
      "image/png": {
       "height": 420,
       "width": 420
      }
     },
     "output_type": "display_data"
    }
   ],
   "source": [
    "ggplot(data=iris, aes(x=Petal.Length, y=Petal.Width)) + geom_point()"
   ]
  },
  {
   "cell_type": "code",
   "execution_count": 96,
   "id": "06143dfb",
   "metadata": {},
   "outputs": [
    {
     "data": {
      "image/png": "[encoded data removed]",
      "text/plain": [
       "plot without title"
      ]
     },
     "metadata": {
      "image/png": {
       "height": 420,
       "width": 420
      }
     },
     "output_type": "display_data"
    }
   ],
   "source": [
    "ggplot(data=iris, aes(x=Petal.Length, y=Petal.Width,\n",
    "      color=Species)) + geom_point(size = 3) + ggtitle('꽃잎의 길이와 폭') + theme(plot.title = element_text(size=25, face='bold', colour='steelblue'))"
   ]
  },
  {
   "cell_type": "code",
   "execution_count": 97,
   "id": "86b65904",
   "metadata": {},
   "outputs": [
    {
     "data": {
      "image/png": "[encoded data removed]",
      "text/plain": [
       "plot without title"
      ]
     },
     "metadata": {
      "image/png": {
       "height": 420,
       "width": 420
      }
     },
     "output_type": "display_data"
    }
   ],
   "source": [
    "ggplot(data=iris, aes(x=Petal.Length)) + geom_boxplot(fill = 'yellow')"
   ]
  },
  {
   "cell_type": "code",
   "execution_count": 98,
   "id": "0ab6ac49",
   "metadata": {},
   "outputs": [
    {
     "data": {
      "image/png": "[encoded data removed]",
      "text/plain": [
       "plot without title"
      ]
     },
     "metadata": {
      "image/png": {
       "height": 420,
       "width": 420
      }
     },
     "output_type": "display_data"
    }
   ],
   "source": [
    "ggplot(data=iris, aes(x=Species, y=Petal.Length, fill=Species)) + geom_boxplot()"
   ]
  },
  {
   "cell_type": "code",
   "execution_count": 100,
   "id": "21604675",
   "metadata": {},
   "outputs": [
    {
     "data": {
      "image/png": "[encoded data removed]",
      "text/plain": [
       "plot without title"
      ]
     },
     "metadata": {
      "image/png": {
       "height": 420,
       "width": 420
      }
     },
     "output_type": "display_data"
    }
   ],
   "source": [
    "iris.new = iris\n",
    "iris.new$Species = factor(iris.new$Species,\n",
    "                        levels=c('versicolor','virginica','setosa'))\n",
    "\n",
    "ggplot(data=iris.new, aes(x=Species, y=Petal.Length, fill=Species)) + geom_boxplot()"
   ]
  },
  {
   "cell_type": "code",
   "execution_count": 101,
   "id": "8a1f1a6d",
   "metadata": {},
   "outputs": [],
   "source": [
    "year = 1937:1960\n",
    "cnt = as.vector(airmiles)\n",
    "df = data.frame(year, cnt)"
   ]
  },
  {
   "cell_type": "code",
   "execution_count": 102,
   "id": "06f997b1",
   "metadata": {},
   "outputs": [
    {
     "data": {
      "text/html": [
       "<table class=\"dataframe\">\n",
       "<caption>A data.frame: 24 × 2</caption>\n",
       "<thead>\n",
       "\t<tr><th scope=col>year</th><th scope=col>cnt</th></tr>\n",
       "\t<tr><th scope=col>&lt;int&gt;</th><th scope=col>&lt;dbl&gt;</th></tr>\n",
       "</thead>\n",
       "<tbody>\n",
       "\t<tr><td>1937</td><td>  412</td></tr>\n",
       "\t<tr><td>1938</td><td>  480</td></tr>\n",
       "\t<tr><td>1939</td><td>  683</td></tr>\n",
       "\t<tr><td>1940</td><td> 1052</td></tr>\n",
       "\t<tr><td>1941</td><td> 1385</td></tr>\n",
       "\t<tr><td>1942</td><td> 1418</td></tr>\n",
       "\t<tr><td>1943</td><td> 1634</td></tr>\n",
       "\t<tr><td>1944</td><td> 2178</td></tr>\n",
       "\t<tr><td>1945</td><td> 3362</td></tr>\n",
       "\t<tr><td>1946</td><td> 5948</td></tr>\n",
       "\t<tr><td>1947</td><td> 6109</td></tr>\n",
       "\t<tr><td>1948</td><td> 5981</td></tr>\n",
       "\t<tr><td>1949</td><td> 6753</td></tr>\n",
       "\t<tr><td>1950</td><td> 8003</td></tr>\n",
       "\t<tr><td>1951</td><td>10566</td></tr>\n",
       "\t<tr><td>1952</td><td>12528</td></tr>\n",
       "\t<tr><td>1953</td><td>14760</td></tr>\n",
       "\t<tr><td>1954</td><td>16769</td></tr>\n",
       "\t<tr><td>1955</td><td>19819</td></tr>\n",
       "\t<tr><td>1956</td><td>22362</td></tr>\n",
       "\t<tr><td>1957</td><td>25340</td></tr>\n",
       "\t<tr><td>1958</td><td>25343</td></tr>\n",
       "\t<tr><td>1959</td><td>29269</td></tr>\n",
       "\t<tr><td>1960</td><td>30514</td></tr>\n",
       "</tbody>\n",
       "</table>\n"
      ],
      "text/latex": [
       "A data.frame: 24 × 2\n",
       "\\begin{tabular}{ll}\n",
       " year & cnt\\\\\n",
       " <int> & <dbl>\\\\\n",
       "\\hline\n",
       "\t 1937 &   412\\\\\n",
       "\t 1938 &   480\\\\\n",
       "\t 1939 &   683\\\\\n",
       "\t 1940 &  1052\\\\\n",
       "\t 1941 &  1385\\\\\n",
       "\t 1942 &  1418\\\\\n",
       "\t 1943 &  1634\\\\\n",
       "\t 1944 &  2178\\\\\n",
       "\t 1945 &  3362\\\\\n",
       "\t 1946 &  5948\\\\\n",
       "\t 1947 &  6109\\\\\n",
       "\t 1948 &  5981\\\\\n",
       "\t 1949 &  6753\\\\\n",
       "\t 1950 &  8003\\\\\n",
       "\t 1951 & 10566\\\\\n",
       "\t 1952 & 12528\\\\\n",
       "\t 1953 & 14760\\\\\n",
       "\t 1954 & 16769\\\\\n",
       "\t 1955 & 19819\\\\\n",
       "\t 1956 & 22362\\\\\n",
       "\t 1957 & 25340\\\\\n",
       "\t 1958 & 25343\\\\\n",
       "\t 1959 & 29269\\\\\n",
       "\t 1960 & 30514\\\\\n",
       "\\end{tabular}\n"
      ],
      "text/markdown": [
       "\n",
       "A data.frame: 24 × 2\n",
       "\n",
       "| year &lt;int&gt; | cnt &lt;dbl&gt; |\n",
       "|---|---|\n",
       "| 1937 |   412 |\n",
       "| 1938 |   480 |\n",
       "| 1939 |   683 |\n",
       "| 1940 |  1052 |\n",
       "| 1941 |  1385 |\n",
       "| 1942 |  1418 |\n",
       "| 1943 |  1634 |\n",
       "| 1944 |  2178 |\n",
       "| 1945 |  3362 |\n",
       "| 1946 |  5948 |\n",
       "| 1947 |  6109 |\n",
       "| 1948 |  5981 |\n",
       "| 1949 |  6753 |\n",
       "| 1950 |  8003 |\n",
       "| 1951 | 10566 |\n",
       "| 1952 | 12528 |\n",
       "| 1953 | 14760 |\n",
       "| 1954 | 16769 |\n",
       "| 1955 | 19819 |\n",
       "| 1956 | 22362 |\n",
       "| 1957 | 25340 |\n",
       "| 1958 | 25343 |\n",
       "| 1959 | 29269 |\n",
       "| 1960 | 30514 |\n",
       "\n"
      ],
      "text/plain": [
       "   year cnt  \n",
       "1  1937   412\n",
       "2  1938   480\n",
       "3  1939   683\n",
       "4  1940  1052\n",
       "5  1941  1385\n",
       "6  1942  1418\n",
       "7  1943  1634\n",
       "8  1944  2178\n",
       "9  1945  3362\n",
       "10 1946  5948\n",
       "11 1947  6109\n",
       "12 1948  5981\n",
       "13 1949  6753\n",
       "14 1950  8003\n",
       "15 1951 10566\n",
       "16 1952 12528\n",
       "17 1953 14760\n",
       "18 1954 16769\n",
       "19 1955 19819\n",
       "20 1956 22362\n",
       "21 1957 25340\n",
       "22 1958 25343\n",
       "23 1959 29269\n",
       "24 1960 30514"
      ]
     },
     "metadata": {},
     "output_type": "display_data"
    }
   ],
   "source": [
    "df"
   ]
  },
  {
   "cell_type": "code",
   "execution_count": 103,
   "id": "60096cf9",
   "metadata": {},
   "outputs": [
    {
     "data": {
      "image/png": "[encoded data removed]",
      "text/plain": [
       "plot without title"
      ]
     },
     "metadata": {
      "image/png": {
       "height": 420,
       "width": 420
      }
     },
     "output_type": "display_data"
    }
   ],
   "source": [
    "ggplot(data=df, aes(x=year, y=cnt)) + geom_line(col='red')"
   ]
  },
  {
   "cell_type": "code",
   "execution_count": 105,
   "id": "4390a2da",
   "metadata": {},
   "outputs": [
    {
     "data": {
      "image/png": "[encoded data removed]",
      "text/plain": [
       "plot without title"
      ]
     },
     "metadata": {
      "image/png": {
       "height": 420,
       "width": 420
      }
     },
     "output_type": "display_data"
    }
   ],
   "source": [
    "df = aggregate(airquality[, 'Temp'],\n",
    "              by=list(month=airquality$Month), FUN=mean)\n",
    "\n",
    "ggplot(df, aes(x=month, y=x)) + geom_bar(stat='identity', width=0.7, fill='pink')"
   ]
  },
  {
   "cell_type": "code",
   "execution_count": 106,
   "id": "03c213de",
   "metadata": {},
   "outputs": [
    {
     "data": {
      "image/png": "[encoded data removed]",
      "text/plain": [
       "plot without title"
      ]
     },
     "metadata": {
      "image/png": {
       "height": 420,
       "width": 420
      }
     },
     "output_type": "display_data"
    }
   ],
   "source": [
    "df = airquality[complete.cases(airquality), ]\n",
    "ggplot(data=df, aes(x=Temp, y=Ozone, fill=factor(Month))) + geom_point(size=3)"
   ]
  },
  {
   "cell_type": "code",
   "execution_count": 107,
   "id": "268c1286",
   "metadata": {},
   "outputs": [
    {
     "data": {
      "image/png": "[encoded data removed]",
      "text/plain": [
       "plot without title"
      ]
     },
     "metadata": {
      "image/png": {
       "height": 420,
       "width": 420
      }
     },
     "output_type": "display_data"
    },
    {
     "data": {
      "image/png": "[encoded data removed]",
      "text/plain": [
       "plot without title"
      ]
     },
     "metadata": {
      "image/png": {
       "height": 420,
       "width": 420
      }
     },
     "output_type": "display_data"
    }
   ],
   "source": [
    "df7 = subset(df, Month==7)\n",
    "ggplot(data=df7, aes(x=Day, y=Ozone)) + geom_line(col='red')\n",
    "\n",
    "ggplot(data=df[df$Month == 7,], aes(x=Day, y=Ozone)) + geom_line(col='red')"
   ]
  },
  {
   "cell_type": "code",
   "execution_count": 108,
   "id": "990f5eca",
   "metadata": {},
   "outputs": [
    {
     "data": {
      "text/html": [
       "<table class=\"dataframe\">\n",
       "<caption>A data.frame: 6 × 13</caption>\n",
       "<thead>\n",
       "\t<tr><th></th><th scope=col>region</th><th scope=col>tfr</th><th scope=col>contraception</th><th scope=col>educationMale</th><th scope=col>educationFemale</th><th scope=col>lifeMale</th><th scope=col>lifeFemale</th><th scope=col>infantMortality</th><th scope=col>GDPperCapita</th><th scope=col>economicActivityMale</th><th scope=col>economicActivityFemale</th><th scope=col>illiteracyMale</th><th scope=col>illiteracyFemale</th></tr>\n",
       "\t<tr><th></th><th scope=col>&lt;fct&gt;</th><th scope=col>&lt;dbl&gt;</th><th scope=col>&lt;int&gt;</th><th scope=col>&lt;dbl&gt;</th><th scope=col>&lt;dbl&gt;</th><th scope=col>&lt;dbl&gt;</th><th scope=col>&lt;dbl&gt;</th><th scope=col>&lt;int&gt;</th><th scope=col>&lt;int&gt;</th><th scope=col>&lt;dbl&gt;</th><th scope=col>&lt;dbl&gt;</th><th scope=col>&lt;dbl&gt;</th><th scope=col>&lt;dbl&gt;</th></tr>\n",
       "</thead>\n",
       "<tbody>\n",
       "\t<tr><th scope=row>Afghanistan</th><td>Asia  </td><td>6.90</td><td>NA</td><td>  NA</td><td> NA</td><td>45.0</td><td>46.0</td><td>154</td><td>2848</td><td>87.5</td><td> 7.2</td><td>52.800</td><td>85.00</td></tr>\n",
       "\t<tr><th scope=row>Albania</th><td>Europe</td><td>2.60</td><td>NA</td><td>  NA</td><td> NA</td><td>68.0</td><td>74.0</td><td> 32</td><td> 863</td><td>  NA</td><td>  NA</td><td>    NA</td><td>   NA</td></tr>\n",
       "\t<tr><th scope=row>Algeria</th><td>Africa</td><td>3.81</td><td>52</td><td>11.1</td><td>9.9</td><td>67.5</td><td>70.3</td><td> 44</td><td>1531</td><td>76.4</td><td> 7.8</td><td>26.100</td><td>51.00</td></tr>\n",
       "\t<tr><th scope=row>American.Samoa</th><td>Asia  </td><td>  NA</td><td>NA</td><td>  NA</td><td> NA</td><td>68.0</td><td>73.0</td><td> 11</td><td>  NA</td><td>58.8</td><td>42.4</td><td> 0.264</td><td> 0.36</td></tr>\n",
       "\t<tr><th scope=row>Andorra</th><td>Europe</td><td>  NA</td><td>NA</td><td>  NA</td><td> NA</td><td>  NA</td><td>  NA</td><td> NA</td><td>  NA</td><td>  NA</td><td>  NA</td><td>    NA</td><td>   NA</td></tr>\n",
       "\t<tr><th scope=row>Angola</th><td>Africa</td><td>6.69</td><td>NA</td><td>  NA</td><td> NA</td><td>44.9</td><td>48.1</td><td>124</td><td> 355</td><td>  NA</td><td>  NA</td><td>    NA</td><td>   NA</td></tr>\n",
       "</tbody>\n",
       "</table>\n"
      ],
      "text/latex": [
       "A data.frame: 6 × 13\n",
       "\\begin{tabular}{r|lllllllllllll}\n",
       "  & region & tfr & contraception & educationMale & educationFemale & lifeMale & lifeFemale & infantMortality & GDPperCapita & economicActivityMale & economicActivityFemale & illiteracyMale & illiteracyFemale\\\\\n",
       "  & <fct> & <dbl> & <int> & <dbl> & <dbl> & <dbl> & <dbl> & <int> & <int> & <dbl> & <dbl> & <dbl> & <dbl>\\\\\n",
       "\\hline\n",
       "\tAfghanistan & Asia   & 6.90 & NA &   NA &  NA & 45.0 & 46.0 & 154 & 2848 & 87.5 &  7.2 & 52.800 & 85.00\\\\\n",
       "\tAlbania & Europe & 2.60 & NA &   NA &  NA & 68.0 & 74.0 &  32 &  863 &   NA &   NA &     NA &    NA\\\\\n",
       "\tAlgeria & Africa & 3.81 & 52 & 11.1 & 9.9 & 67.5 & 70.3 &  44 & 1531 & 76.4 &  7.8 & 26.100 & 51.00\\\\\n",
       "\tAmerican.Samoa & Asia   &   NA & NA &   NA &  NA & 68.0 & 73.0 &  11 &   NA & 58.8 & 42.4 &  0.264 &  0.36\\\\\n",
       "\tAndorra & Europe &   NA & NA &   NA &  NA &   NA &   NA &  NA &   NA &   NA &   NA &     NA &    NA\\\\\n",
       "\tAngola & Africa & 6.69 & NA &   NA &  NA & 44.9 & 48.1 & 124 &  355 &   NA &   NA &     NA &    NA\\\\\n",
       "\\end{tabular}\n"
      ],
      "text/markdown": [
       "\n",
       "A data.frame: 6 × 13\n",
       "\n",
       "| <!--/--> | region &lt;fct&gt; | tfr &lt;dbl&gt; | contraception &lt;int&gt; | educationMale &lt;dbl&gt; | educationFemale &lt;dbl&gt; | lifeMale &lt;dbl&gt; | lifeFemale &lt;dbl&gt; | infantMortality &lt;int&gt; | GDPperCapita &lt;int&gt; | economicActivityMale &lt;dbl&gt; | economicActivityFemale &lt;dbl&gt; | illiteracyMale &lt;dbl&gt; | illiteracyFemale &lt;dbl&gt; |\n",
       "|---|---|---|---|---|---|---|---|---|---|---|---|---|---|\n",
       "| Afghanistan | Asia   | 6.90 | NA |   NA |  NA | 45.0 | 46.0 | 154 | 2848 | 87.5 |  7.2 | 52.800 | 85.00 |\n",
       "| Albania | Europe | 2.60 | NA |   NA |  NA | 68.0 | 74.0 |  32 |  863 |   NA |   NA |     NA |    NA |\n",
       "| Algeria | Africa | 3.81 | 52 | 11.1 | 9.9 | 67.5 | 70.3 |  44 | 1531 | 76.4 |  7.8 | 26.100 | 51.00 |\n",
       "| American.Samoa | Asia   |   NA | NA |   NA |  NA | 68.0 | 73.0 |  11 |   NA | 58.8 | 42.4 |  0.264 |  0.36 |\n",
       "| Andorra | Europe |   NA | NA |   NA |  NA |   NA |   NA |  NA |   NA |   NA |   NA |     NA |    NA |\n",
       "| Angola | Africa | 6.69 | NA |   NA |  NA | 44.9 | 48.1 | 124 |  355 |   NA |   NA |     NA |    NA |\n",
       "\n"
      ],
      "text/plain": [
       "               region tfr  contraception educationMale educationFemale lifeMale\n",
       "Afghanistan    Asia   6.90 NA              NA           NA             45.0    \n",
       "Albania        Europe 2.60 NA              NA           NA             68.0    \n",
       "Algeria        Africa 3.81 52            11.1          9.9             67.5    \n",
       "American.Samoa Asia     NA NA              NA           NA             68.0    \n",
       "Andorra        Europe   NA NA              NA           NA               NA    \n",
       "Angola         Africa 6.69 NA              NA           NA             44.9    \n",
       "               lifeFemale infantMortality GDPperCapita economicActivityMale\n",
       "Afghanistan    46.0       154             2848         87.5                \n",
       "Albania        74.0        32              863           NA                \n",
       "Algeria        70.3        44             1531         76.4                \n",
       "American.Samoa 73.0        11               NA         58.8                \n",
       "Andorra          NA        NA               NA           NA                \n",
       "Angola         48.1       124              355           NA                \n",
       "               economicActivityFemale illiteracyMale illiteracyFemale\n",
       "Afghanistan     7.2                   52.800         85.00           \n",
       "Albania          NA                       NA            NA           \n",
       "Algeria         7.8                   26.100         51.00           \n",
       "American.Samoa 42.4                    0.264          0.36           \n",
       "Andorra          NA                       NA            NA           \n",
       "Angola           NA                       NA            NA           "
      ]
     },
     "metadata": {},
     "output_type": "display_data"
    }
   ],
   "source": [
    "data(UN98)\n",
    "head(UN98)"
   ]
  },
  {
   "cell_type": "code",
   "execution_count": 109,
   "id": "a1ef99df",
   "metadata": {},
   "outputs": [],
   "source": [
    "help(UN98)"
   ]
  },
  {
   "cell_type": "code",
   "execution_count": 110,
   "id": "c2949b46",
   "metadata": {},
   "outputs": [
    {
     "data": {
      "image/png": "[encoded data removed]",
      "text/plain": [
       "plot without title"
      ]
     },
     "metadata": {
      "image/png": {
       "height": 420,
       "width": 420
      }
     },
     "output_type": "display_data"
    }
   ],
   "source": [
    "df = UN98[, c('region','tfr')]\n",
    "df = df[complete.cases(df),]\n",
    "df = aggregate(df[, 'tfr'], by=list(region=df$region), FUN='mean')\n",
    "\n",
    "ggplot(df, aes(x='region', y=x)) + geom_bar(stat='identity',\n",
    "                                           width=0.7, fill=rainbow(5))"
   ]
  },
  {
   "cell_type": "code",
   "execution_count": 111,
   "id": "1c7c60fe",
   "metadata": {},
   "outputs": [],
   "source": [
    "df = UN98[, c('region','lifeFemale','illiteracyFemale')]\n",
    "df = df[complete.cases(df),]\n",
    "df$country = rownames(df)"
   ]
  },
  {
   "cell_type": "code",
   "execution_count": 112,
   "id": "8006b519",
   "metadata": {},
   "outputs": [
    {
     "data": {
      "text/html": [
       "<table class=\"dataframe\">\n",
       "<caption>A data.frame: 157 × 4</caption>\n",
       "<thead>\n",
       "\t<tr><th></th><th scope=col>region</th><th scope=col>lifeFemale</th><th scope=col>illiteracyFemale</th><th scope=col>country</th></tr>\n",
       "\t<tr><th></th><th scope=col>&lt;fct&gt;</th><th scope=col>&lt;dbl&gt;</th><th scope=col>&lt;dbl&gt;</th><th scope=col>&lt;chr&gt;</th></tr>\n",
       "</thead>\n",
       "<tbody>\n",
       "\t<tr><th scope=row>Afghanistan</th><td>Asia   </td><td>46.0</td><td>85.000</td><td>Afghanistan        </td></tr>\n",
       "\t<tr><th scope=row>Algeria</th><td>Africa </td><td>70.3</td><td>51.000</td><td>Algeria            </td></tr>\n",
       "\t<tr><th scope=row>American.Samoa</th><td>Asia   </td><td>73.0</td><td> 0.360</td><td>American.Samoa     </td></tr>\n",
       "\t<tr><th scope=row>Argentina</th><td>America</td><td>76.8</td><td> 3.800</td><td>Argentina          </td></tr>\n",
       "\t<tr><th scope=row>Armenia</th><td>Europe </td><td>74.0</td><td> 0.500</td><td>Armenia            </td></tr>\n",
       "\t<tr><th scope=row>Azerbaijan</th><td>Asia   </td><td>74.5</td><td> 0.500</td><td>Azerbaijan         </td></tr>\n",
       "\t<tr><th scope=row>Bahamas</th><td>America</td><td>77.1</td><td> 2.000</td><td>Bahamas            </td></tr>\n",
       "\t<tr><th scope=row>Bahrain</th><td>Asia   </td><td>75.3</td><td>20.600</td><td>Bahrain            </td></tr>\n",
       "\t<tr><th scope=row>Bangladesh</th><td>Asia   </td><td>58.2</td><td>73.900</td><td>Bangladesh         </td></tr>\n",
       "\t<tr><th scope=row>Barbados</th><td>America</td><td>78.7</td><td> 3.200</td><td>Barbados           </td></tr>\n",
       "\t<tr><th scope=row>Belarus</th><td>Europe </td><td>74.8</td><td> 0.600</td><td>Belarus            </td></tr>\n",
       "\t<tr><th scope=row>Belize</th><td>America</td><td>76.1</td><td>23.472</td><td>Belize             </td></tr>\n",
       "\t<tr><th scope=row>Benin</th><td>Africa </td><td>57.2</td><td>74.200</td><td>Benin              </td></tr>\n",
       "\t<tr><th scope=row>Bhutan</th><td>Asia   </td><td>54.9</td><td>71.900</td><td>Bhutan             </td></tr>\n",
       "\t<tr><th scope=row>Bolivia</th><td>America</td><td>63.2</td><td>24.000</td><td>Bolivia            </td></tr>\n",
       "\t<tr><th scope=row>Botswana</th><td>Africa </td><td>51.7</td><td>40.100</td><td>Botswana           </td></tr>\n",
       "\t<tr><th scope=row>Brazil</th><td>America</td><td>71.2</td><td>16.800</td><td>Brazil             </td></tr>\n",
       "\t<tr><th scope=row>Brunei</th><td>Asia   </td><td>78.1</td><td>16.600</td><td>Brunei             </td></tr>\n",
       "\t<tr><th scope=row>Bulgaria</th><td>Europe </td><td>74.9</td><td> 2.376</td><td>Bulgaria           </td></tr>\n",
       "\t<tr><th scope=row>Burkina.Faso</th><td>Africa </td><td>47.0</td><td>90.800</td><td>Burkina.Faso       </td></tr>\n",
       "\t<tr><th scope=row>Burundi</th><td>Africa </td><td>48.8</td><td>77.500</td><td>Burundi            </td></tr>\n",
       "\t<tr><th scope=row>Cameroon</th><td>Africa </td><td>57.2</td><td>47.900</td><td>Cameroon           </td></tr>\n",
       "\t<tr><th scope=row>Cape.Verde</th><td>Africa </td><td>67.5</td><td>36.200</td><td>Cape.Verde         </td></tr>\n",
       "\t<tr><th scope=row>Central.African.Rep</th><td>Africa </td><td>51.0</td><td>47.600</td><td>Central.African.Rep</td></tr>\n",
       "\t<tr><th scope=row>Chad</th><td>Africa </td><td>49.3</td><td>65.300</td><td>Chad               </td></tr>\n",
       "\t<tr><th scope=row>Chile</th><td>America</td><td>78.3</td><td> 5.000</td><td>Chile              </td></tr>\n",
       "\t<tr><th scope=row>China</th><td>Asia   </td><td>71.7</td><td>27.300</td><td>China              </td></tr>\n",
       "\t<tr><th scope=row>Colombia</th><td>America</td><td>73.7</td><td> 8.600</td><td>Colombia           </td></tr>\n",
       "\t<tr><th scope=row>Comoros</th><td>Africa </td><td>58.0</td><td>49.600</td><td>Comoros            </td></tr>\n",
       "\t<tr><th scope=row>Congo</th><td>Africa </td><td>53.4</td><td>32.800</td><td>Congo              </td></tr>\n",
       "\t<tr><th scope=row>⋮</th><td>⋮</td><td>⋮</td><td>⋮</td><td>⋮</td></tr>\n",
       "\t<tr><th scope=row>Slovenia</th><td>Europe </td><td>77.8</td><td> 0.432</td><td>Slovenia            </td></tr>\n",
       "\t<tr><th scope=row>South.Africa</th><td>Africa </td><td>68.3</td><td>18.300</td><td>South.Africa        </td></tr>\n",
       "\t<tr><th scope=row>Spain</th><td>Europe </td><td>81.5</td><td> 3.900</td><td>Spain               </td></tr>\n",
       "\t<tr><th scope=row>Sri.Lanka</th><td>Asia   </td><td>75.4</td><td>12.800</td><td>Sri.Lanka           </td></tr>\n",
       "\t<tr><th scope=row>Sudan</th><td>Africa </td><td>56.4</td><td>65.400</td><td>Sudan               </td></tr>\n",
       "\t<tr><th scope=row>Suriname</th><td>America</td><td>74.0</td><td> 9.000</td><td>Suriname            </td></tr>\n",
       "\t<tr><th scope=row>Swaziland</th><td>Africa </td><td>62.3</td><td>24.400</td><td>Swaziland           </td></tr>\n",
       "\t<tr><th scope=row>Syria</th><td>Asia   </td><td>71.2</td><td>44.200</td><td>Syria               </td></tr>\n",
       "\t<tr><th scope=row>Tajikistan</th><td>Asia   </td><td>70.2</td><td> 0.400</td><td>Tajikistan          </td></tr>\n",
       "\t<tr><th scope=row>Tanzania</th><td>Africa </td><td>52.8</td><td>43.200</td><td>Tanzania            </td></tr>\n",
       "\t<tr><th scope=row>Thailand</th><td>Asia   </td><td>72.3</td><td> 8.400</td><td>Thailand            </td></tr>\n",
       "\t<tr><th scope=row>Togo</th><td>Africa </td><td>51.5</td><td>63.000</td><td>Togo                </td></tr>\n",
       "\t<tr><th scope=row>Tonga</th><td>Oceania</td><td>71.0</td><td> 0.504</td><td>Tonga               </td></tr>\n",
       "\t<tr><th scope=row>Trinidad.and.Tobago</th><td>America</td><td>76.2</td><td> 3.000</td><td>Trinidad.and.Tobago </td></tr>\n",
       "\t<tr><th scope=row>Tunisia</th><td>Africa </td><td>70.7</td><td>45.400</td><td>Tunisia             </td></tr>\n",
       "\t<tr><th scope=row>Turkey</th><td>Asia   </td><td>71.7</td><td>27.600</td><td>Turkey              </td></tr>\n",
       "\t<tr><th scope=row>Turkmenistan</th><td>Asia   </td><td>68.0</td><td> 0.400</td><td>Turkmenistan        </td></tr>\n",
       "\t<tr><th scope=row>Uganda</th><td>Africa </td><td>42.3</td><td>49.800</td><td>Uganda              </td></tr>\n",
       "\t<tr><th scope=row>Ukraine</th><td>Europe </td><td>74.0</td><td> 2.160</td><td>Ukraine             </td></tr>\n",
       "\t<tr><th scope=row>United.Arab.Emirates</th><td>Asia   </td><td>76.5</td><td>20.200</td><td>United.Arab.Emirates</td></tr>\n",
       "\t<tr><th scope=row>United.States</th><td>America</td><td>80.1</td><td> 2.232</td><td>United.States       </td></tr>\n",
       "\t<tr><th scope=row>Uruguay</th><td>America</td><td>76.1</td><td> 2.300</td><td>Uruguay             </td></tr>\n",
       "\t<tr><th scope=row>Uzbekistan</th><td>Asia   </td><td>70.7</td><td> 0.400</td><td>Uzbekistan          </td></tr>\n",
       "\t<tr><th scope=row>Vanuatu</th><td>Oceania</td><td>69.5</td><td>46.368</td><td>Vanuatu             </td></tr>\n",
       "\t<tr><th scope=row>Venezuela</th><td>America</td><td>75.7</td><td> 9.700</td><td>Venezuela           </td></tr>\n",
       "\t<tr><th scope=row>Viet.Nam</th><td>Asia   </td><td>69.6</td><td> 8.800</td><td>Viet.Nam            </td></tr>\n",
       "\t<tr><th scope=row>Yemen</th><td>Asia   </td><td>58.4</td><td>69.552</td><td>Yemen               </td></tr>\n",
       "\t<tr><th scope=row>Yugoslavia</th><td>Europe </td><td>75.3</td><td> 9.072</td><td>Yugoslavia          </td></tr>\n",
       "\t<tr><th scope=row>Zambia</th><td>Africa </td><td>43.7</td><td>28.700</td><td>Zambia              </td></tr>\n",
       "\t<tr><th scope=row>Zimbabwe</th><td>Africa </td><td>49.4</td><td>20.100</td><td>Zimbabwe            </td></tr>\n",
       "</tbody>\n",
       "</table>\n"
      ],
      "text/latex": [
       "A data.frame: 157 × 4\n",
       "\\begin{tabular}{r|llll}\n",
       "  & region & lifeFemale & illiteracyFemale & country\\\\\n",
       "  & <fct> & <dbl> & <dbl> & <chr>\\\\\n",
       "\\hline\n",
       "\tAfghanistan & Asia    & 46.0 & 85.000 & Afghanistan        \\\\\n",
       "\tAlgeria & Africa  & 70.3 & 51.000 & Algeria            \\\\\n",
       "\tAmerican.Samoa & Asia    & 73.0 &  0.360 & American.Samoa     \\\\\n",
       "\tArgentina & America & 76.8 &  3.800 & Argentina          \\\\\n",
       "\tArmenia & Europe  & 74.0 &  0.500 & Armenia            \\\\\n",
       "\tAzerbaijan & Asia    & 74.5 &  0.500 & Azerbaijan         \\\\\n",
       "\tBahamas & America & 77.1 &  2.000 & Bahamas            \\\\\n",
       "\tBahrain & Asia    & 75.3 & 20.600 & Bahrain            \\\\\n",
       "\tBangladesh & Asia    & 58.2 & 73.900 & Bangladesh         \\\\\n",
       "\tBarbados & America & 78.7 &  3.200 & Barbados           \\\\\n",
       "\tBelarus & Europe  & 74.8 &  0.600 & Belarus            \\\\\n",
       "\tBelize & America & 76.1 & 23.472 & Belize             \\\\\n",
       "\tBenin & Africa  & 57.2 & 74.200 & Benin              \\\\\n",
       "\tBhutan & Asia    & 54.9 & 71.900 & Bhutan             \\\\\n",
       "\tBolivia & America & 63.2 & 24.000 & Bolivia            \\\\\n",
       "\tBotswana & Africa  & 51.7 & 40.100 & Botswana           \\\\\n",
       "\tBrazil & America & 71.2 & 16.800 & Brazil             \\\\\n",
       "\tBrunei & Asia    & 78.1 & 16.600 & Brunei             \\\\\n",
       "\tBulgaria & Europe  & 74.9 &  2.376 & Bulgaria           \\\\\n",
       "\tBurkina.Faso & Africa  & 47.0 & 90.800 & Burkina.Faso       \\\\\n",
       "\tBurundi & Africa  & 48.8 & 77.500 & Burundi            \\\\\n",
       "\tCameroon & Africa  & 57.2 & 47.900 & Cameroon           \\\\\n",
       "\tCape.Verde & Africa  & 67.5 & 36.200 & Cape.Verde         \\\\\n",
       "\tCentral.African.Rep & Africa  & 51.0 & 47.600 & Central.African.Rep\\\\\n",
       "\tChad & Africa  & 49.3 & 65.300 & Chad               \\\\\n",
       "\tChile & America & 78.3 &  5.000 & Chile              \\\\\n",
       "\tChina & Asia    & 71.7 & 27.300 & China              \\\\\n",
       "\tColombia & America & 73.7 &  8.600 & Colombia           \\\\\n",
       "\tComoros & Africa  & 58.0 & 49.600 & Comoros            \\\\\n",
       "\tCongo & Africa  & 53.4 & 32.800 & Congo              \\\\\n",
       "\t⋮ & ⋮ & ⋮ & ⋮ & ⋮\\\\\n",
       "\tSlovenia & Europe  & 77.8 &  0.432 & Slovenia            \\\\\n",
       "\tSouth.Africa & Africa  & 68.3 & 18.300 & South.Africa        \\\\\n",
       "\tSpain & Europe  & 81.5 &  3.900 & Spain               \\\\\n",
       "\tSri.Lanka & Asia    & 75.4 & 12.800 & Sri.Lanka           \\\\\n",
       "\tSudan & Africa  & 56.4 & 65.400 & Sudan               \\\\\n",
       "\tSuriname & America & 74.0 &  9.000 & Suriname            \\\\\n",
       "\tSwaziland & Africa  & 62.3 & 24.400 & Swaziland           \\\\\n",
       "\tSyria & Asia    & 71.2 & 44.200 & Syria               \\\\\n",
       "\tTajikistan & Asia    & 70.2 &  0.400 & Tajikistan          \\\\\n",
       "\tTanzania & Africa  & 52.8 & 43.200 & Tanzania            \\\\\n",
       "\tThailand & Asia    & 72.3 &  8.400 & Thailand            \\\\\n",
       "\tTogo & Africa  & 51.5 & 63.000 & Togo                \\\\\n",
       "\tTonga & Oceania & 71.0 &  0.504 & Tonga               \\\\\n",
       "\tTrinidad.and.Tobago & America & 76.2 &  3.000 & Trinidad.and.Tobago \\\\\n",
       "\tTunisia & Africa  & 70.7 & 45.400 & Tunisia             \\\\\n",
       "\tTurkey & Asia    & 71.7 & 27.600 & Turkey              \\\\\n",
       "\tTurkmenistan & Asia    & 68.0 &  0.400 & Turkmenistan        \\\\\n",
       "\tUganda & Africa  & 42.3 & 49.800 & Uganda              \\\\\n",
       "\tUkraine & Europe  & 74.0 &  2.160 & Ukraine             \\\\\n",
       "\tUnited.Arab.Emirates & Asia    & 76.5 & 20.200 & United.Arab.Emirates\\\\\n",
       "\tUnited.States & America & 80.1 &  2.232 & United.States       \\\\\n",
       "\tUruguay & America & 76.1 &  2.300 & Uruguay             \\\\\n",
       "\tUzbekistan & Asia    & 70.7 &  0.400 & Uzbekistan          \\\\\n",
       "\tVanuatu & Oceania & 69.5 & 46.368 & Vanuatu             \\\\\n",
       "\tVenezuela & America & 75.7 &  9.700 & Venezuela           \\\\\n",
       "\tViet.Nam & Asia    & 69.6 &  8.800 & Viet.Nam            \\\\\n",
       "\tYemen & Asia    & 58.4 & 69.552 & Yemen               \\\\\n",
       "\tYugoslavia & Europe  & 75.3 &  9.072 & Yugoslavia          \\\\\n",
       "\tZambia & Africa  & 43.7 & 28.700 & Zambia              \\\\\n",
       "\tZimbabwe & Africa  & 49.4 & 20.100 & Zimbabwe            \\\\\n",
       "\\end{tabular}\n"
      ],
      "text/markdown": [
       "\n",
       "A data.frame: 157 × 4\n",
       "\n",
       "| <!--/--> | region &lt;fct&gt; | lifeFemale &lt;dbl&gt; | illiteracyFemale &lt;dbl&gt; | country &lt;chr&gt; |\n",
       "|---|---|---|---|---|\n",
       "| Afghanistan | Asia    | 46.0 | 85.000 | Afghanistan         |\n",
       "| Algeria | Africa  | 70.3 | 51.000 | Algeria             |\n",
       "| American.Samoa | Asia    | 73.0 |  0.360 | American.Samoa      |\n",
       "| Argentina | America | 76.8 |  3.800 | Argentina           |\n",
       "| Armenia | Europe  | 74.0 |  0.500 | Armenia             |\n",
       "| Azerbaijan | Asia    | 74.5 |  0.500 | Azerbaijan          |\n",
       "| Bahamas | America | 77.1 |  2.000 | Bahamas             |\n",
       "| Bahrain | Asia    | 75.3 | 20.600 | Bahrain             |\n",
       "| Bangladesh | Asia    | 58.2 | 73.900 | Bangladesh          |\n",
       "| Barbados | America | 78.7 |  3.200 | Barbados            |\n",
       "| Belarus | Europe  | 74.8 |  0.600 | Belarus             |\n",
       "| Belize | America | 76.1 | 23.472 | Belize              |\n",
       "| Benin | Africa  | 57.2 | 74.200 | Benin               |\n",
       "| Bhutan | Asia    | 54.9 | 71.900 | Bhutan              |\n",
       "| Bolivia | America | 63.2 | 24.000 | Bolivia             |\n",
       "| Botswana | Africa  | 51.7 | 40.100 | Botswana            |\n",
       "| Brazil | America | 71.2 | 16.800 | Brazil              |\n",
       "| Brunei | Asia    | 78.1 | 16.600 | Brunei              |\n",
       "| Bulgaria | Europe  | 74.9 |  2.376 | Bulgaria            |\n",
       "| Burkina.Faso | Africa  | 47.0 | 90.800 | Burkina.Faso        |\n",
       "| Burundi | Africa  | 48.8 | 77.500 | Burundi             |\n",
       "| Cameroon | Africa  | 57.2 | 47.900 | Cameroon            |\n",
       "| Cape.Verde | Africa  | 67.5 | 36.200 | Cape.Verde          |\n",
       "| Central.African.Rep | Africa  | 51.0 | 47.600 | Central.African.Rep |\n",
       "| Chad | Africa  | 49.3 | 65.300 | Chad                |\n",
       "| Chile | America | 78.3 |  5.000 | Chile               |\n",
       "| China | Asia    | 71.7 | 27.300 | China               |\n",
       "| Colombia | America | 73.7 |  8.600 | Colombia            |\n",
       "| Comoros | Africa  | 58.0 | 49.600 | Comoros             |\n",
       "| Congo | Africa  | 53.4 | 32.800 | Congo               |\n",
       "| ⋮ | ⋮ | ⋮ | ⋮ | ⋮ |\n",
       "| Slovenia | Europe  | 77.8 |  0.432 | Slovenia             |\n",
       "| South.Africa | Africa  | 68.3 | 18.300 | South.Africa         |\n",
       "| Spain | Europe  | 81.5 |  3.900 | Spain                |\n",
       "| Sri.Lanka | Asia    | 75.4 | 12.800 | Sri.Lanka            |\n",
       "| Sudan | Africa  | 56.4 | 65.400 | Sudan                |\n",
       "| Suriname | America | 74.0 |  9.000 | Suriname             |\n",
       "| Swaziland | Africa  | 62.3 | 24.400 | Swaziland            |\n",
       "| Syria | Asia    | 71.2 | 44.200 | Syria                |\n",
       "| Tajikistan | Asia    | 70.2 |  0.400 | Tajikistan           |\n",
       "| Tanzania | Africa  | 52.8 | 43.200 | Tanzania             |\n",
       "| Thailand | Asia    | 72.3 |  8.400 | Thailand             |\n",
       "| Togo | Africa  | 51.5 | 63.000 | Togo                 |\n",
       "| Tonga | Oceania | 71.0 |  0.504 | Tonga                |\n",
       "| Trinidad.and.Tobago | America | 76.2 |  3.000 | Trinidad.and.Tobago  |\n",
       "| Tunisia | Africa  | 70.7 | 45.400 | Tunisia              |\n",
       "| Turkey | Asia    | 71.7 | 27.600 | Turkey               |\n",
       "| Turkmenistan | Asia    | 68.0 |  0.400 | Turkmenistan         |\n",
       "| Uganda | Africa  | 42.3 | 49.800 | Uganda               |\n",
       "| Ukraine | Europe  | 74.0 |  2.160 | Ukraine              |\n",
       "| United.Arab.Emirates | Asia    | 76.5 | 20.200 | United.Arab.Emirates |\n",
       "| United.States | America | 80.1 |  2.232 | United.States        |\n",
       "| Uruguay | America | 76.1 |  2.300 | Uruguay              |\n",
       "| Uzbekistan | Asia    | 70.7 |  0.400 | Uzbekistan           |\n",
       "| Vanuatu | Oceania | 69.5 | 46.368 | Vanuatu              |\n",
       "| Venezuela | America | 75.7 |  9.700 | Venezuela            |\n",
       "| Viet.Nam | Asia    | 69.6 |  8.800 | Viet.Nam             |\n",
       "| Yemen | Asia    | 58.4 | 69.552 | Yemen                |\n",
       "| Yugoslavia | Europe  | 75.3 |  9.072 | Yugoslavia           |\n",
       "| Zambia | Africa  | 43.7 | 28.700 | Zambia               |\n",
       "| Zimbabwe | Africa  | 49.4 | 20.100 | Zimbabwe             |\n",
       "\n"
      ],
      "text/plain": [
       "                     region  lifeFemale illiteracyFemale country             \n",
       "Afghanistan          Asia    46.0       85.000           Afghanistan         \n",
       "Algeria              Africa  70.3       51.000           Algeria             \n",
       "American.Samoa       Asia    73.0        0.360           American.Samoa      \n",
       "Argentina            America 76.8        3.800           Argentina           \n",
       "Armenia              Europe  74.0        0.500           Armenia             \n",
       "Azerbaijan           Asia    74.5        0.500           Azerbaijan          \n",
       "Bahamas              America 77.1        2.000           Bahamas             \n",
       "Bahrain              Asia    75.3       20.600           Bahrain             \n",
       "Bangladesh           Asia    58.2       73.900           Bangladesh          \n",
       "Barbados             America 78.7        3.200           Barbados            \n",
       "Belarus              Europe  74.8        0.600           Belarus             \n",
       "Belize               America 76.1       23.472           Belize              \n",
       "Benin                Africa  57.2       74.200           Benin               \n",
       "Bhutan               Asia    54.9       71.900           Bhutan              \n",
       "Bolivia              America 63.2       24.000           Bolivia             \n",
       "Botswana             Africa  51.7       40.100           Botswana            \n",
       "Brazil               America 71.2       16.800           Brazil              \n",
       "Brunei               Asia    78.1       16.600           Brunei              \n",
       "Bulgaria             Europe  74.9        2.376           Bulgaria            \n",
       "Burkina.Faso         Africa  47.0       90.800           Burkina.Faso        \n",
       "Burundi              Africa  48.8       77.500           Burundi             \n",
       "Cameroon             Africa  57.2       47.900           Cameroon            \n",
       "Cape.Verde           Africa  67.5       36.200           Cape.Verde          \n",
       "Central.African.Rep  Africa  51.0       47.600           Central.African.Rep \n",
       "Chad                 Africa  49.3       65.300           Chad                \n",
       "Chile                America 78.3        5.000           Chile               \n",
       "China                Asia    71.7       27.300           China               \n",
       "Colombia             America 73.7        8.600           Colombia            \n",
       "Comoros              Africa  58.0       49.600           Comoros             \n",
       "Congo                Africa  53.4       32.800           Congo               \n",
       "⋮                    ⋮       ⋮          ⋮                ⋮                   \n",
       "Slovenia             Europe  77.8        0.432           Slovenia            \n",
       "South.Africa         Africa  68.3       18.300           South.Africa        \n",
       "Spain                Europe  81.5        3.900           Spain               \n",
       "Sri.Lanka            Asia    75.4       12.800           Sri.Lanka           \n",
       "Sudan                Africa  56.4       65.400           Sudan               \n",
       "Suriname             America 74.0        9.000           Suriname            \n",
       "Swaziland            Africa  62.3       24.400           Swaziland           \n",
       "Syria                Asia    71.2       44.200           Syria               \n",
       "Tajikistan           Asia    70.2        0.400           Tajikistan          \n",
       "Tanzania             Africa  52.8       43.200           Tanzania            \n",
       "Thailand             Asia    72.3        8.400           Thailand            \n",
       "Togo                 Africa  51.5       63.000           Togo                \n",
       "Tonga                Oceania 71.0        0.504           Tonga               \n",
       "Trinidad.and.Tobago  America 76.2        3.000           Trinidad.and.Tobago \n",
       "Tunisia              Africa  70.7       45.400           Tunisia             \n",
       "Turkey               Asia    71.7       27.600           Turkey              \n",
       "Turkmenistan         Asia    68.0        0.400           Turkmenistan        \n",
       "Uganda               Africa  42.3       49.800           Uganda              \n",
       "Ukraine              Europe  74.0        2.160           Ukraine             \n",
       "United.Arab.Emirates Asia    76.5       20.200           United.Arab.Emirates\n",
       "United.States        America 80.1        2.232           United.States       \n",
       "Uruguay              America 76.1        2.300           Uruguay             \n",
       "Uzbekistan           Asia    70.7        0.400           Uzbekistan          \n",
       "Vanuatu              Oceania 69.5       46.368           Vanuatu             \n",
       "Venezuela            America 75.7        9.700           Venezuela           \n",
       "Viet.Nam             Asia    69.6        8.800           Viet.Nam            \n",
       "Yemen                Asia    58.4       69.552           Yemen               \n",
       "Yugoslavia           Europe  75.3        9.072           Yugoslavia          \n",
       "Zambia               Africa  43.7       28.700           Zambia              \n",
       "Zimbabwe             Africa  49.4       20.100           Zimbabwe            "
      ]
     },
     "metadata": {},
     "output_type": "display_data"
    }
   ],
   "source": [
    "df"
   ]
  },
  {
   "cell_type": "code",
   "execution_count": 113,
   "id": "f8ba97f2",
   "metadata": {},
   "outputs": [
    {
     "ename": "ERROR",
     "evalue": "Error in treemap(df, index = c(\"region\", \"country\"), vSize = \"lifeFemale\", : Invalid column name in vColor.\n",
     "output_type": "error",
     "traceback": [
      "Error in treemap(df, index = c(\"region\", \"country\"), vSize = \"lifeFemale\", : Invalid column name in vColor.\nTraceback:\n",
      "1. treemap(df, index = c(\"region\", \"country\"), vSize = \"lifeFemale\", \n .     vColor = \"illiteracyFeamale\", type = \"value\", bg.labels = \"yellow\", \n .     title = \"World's Women\")",
      "2. stop(\"Invalid column name in vColor.\")"
     ]
    }
   ],
   "source": [
    "treemap(df, index=c('region','country'),\n",
    "       vSize = 'lifeFemale',\n",
    "       vColor = 'illiteracyFeamale',\n",
    "       type = 'value',\n",
    "       bg.labels='yellow',\n",
    "       title=\"World's Women\")"
   ]
  },
  {
   "cell_type": "code",
   "execution_count": 114,
   "id": "a4664cdb",
   "metadata": {},
   "outputs": [
    {
     "data": {
      "image/png": "[encoded data removed]",
      "text/plain": [
       "plot without title"
      ]
     },
     "metadata": {
      "image/png": {
       "height": 420,
       "width": 420
      }
     },
     "output_type": "display_data"
    }
   ],
   "source": [
    "treemap(df, index=c('region','country'),\n",
    "       vSize = 'lifeFemale',\n",
    "       vColor = 'illiteracyFemale',\n",
    "       type = 'value',\n",
    "       bg.labels='yellow',\n",
    "       title=\"World's Women\")\n"
   ]
  },
  {
   "cell_type": "code",
   "execution_count": 115,
   "id": "6dac5a72",
   "metadata": {},
   "outputs": [
    {
     "data": {
      "image/png": "[encoded data removed]",
      "text/plain": [
       "plot without title"
      ]
     },
     "metadata": {
      "image/png": {
       "height": 420,
       "width": 420
      }
     },
     "output_type": "display_data"
    }
   ],
   "source": [
    "df = UN98[, c('region','educationMale','educationFemale')]\n",
    "df = df[complete.cases(df),]\n",
    "\n",
    "ggplot(data=df, aes(x=educationMale, y=educationFemale,\n",
    "                   color = region)) + geom_point(size=3) + ggtitle(\"남성, 여성의 교육수준\") + theme(plot.title = element_text(size=25, face='bold', colour='steelblue'))"
   ]
  }
 ],
 "metadata": {
  "kernelspec": {
   "display_name": "R",
   "language": "R",
   "name": "ir"
  },
  "language_info": {
   "codemirror_mode": "r",
   "file_extension": ".r",
   "mimetype": "text/x-r-source",
   "name": "R",
   "pygments_lexer": "r",
   "version": "4.3.1"
  }
 },
 "nbformat": 4,
 "nbformat_minor": 5
}
