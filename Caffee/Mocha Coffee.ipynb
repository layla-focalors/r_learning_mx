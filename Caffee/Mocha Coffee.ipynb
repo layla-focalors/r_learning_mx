{
 "cells": [
  {
   "cell_type": "code",
   "execution_count": 6,
   "id": "65cb3bae",
   "metadata": {},
   "outputs": [],
   "source": [
    "data = c(4, 1, 0, 0, 2, 2, 2, 2, 2, 1, 2, 3, 1, 2, 2, 3,1,2,2,1,2,1,4,4,4,3,3,1)\n",
    "fq = table(data)\n",
    "names(fq) = c('레일라', '닐루', '라이덴', '유라', '설탕')"
   ]
  },
  {
   "cell_type": "code",
   "execution_count": 7,
   "id": "b6a77e4f",
   "metadata": {},
   "outputs": [
    {
     "data": {
      "text/plain": [
       "레일라   닐루 라이덴   유라   설탕 \n",
       "     2      7     11      4      4 "
      ]
     },
     "metadata": {},
     "output_type": "display_data"
    }
   ],
   "source": [
    "fq"
   ]
  },
  {
   "cell_type": "code",
   "execution_count": 5,
   "id": "697d16e0",
   "metadata": {},
   "outputs": [
    {
     "data": {
      "text/html": [
       "<style>\n",
       ".list-inline {list-style: none; margin:0; padding: 0}\n",
       ".list-inline>li {display: inline-block}\n",
       ".list-inline>li:not(:last-child)::after {content: \"\\00b7\"; padding: 0 .5ex}\n",
       "</style>\n",
       "<ol class=list-inline><li>'레일라'</li><li>'닐루'</li><li>'라이덴'</li><li>'유라'</li><li>'설탕'</li><li>NA</li><li>NA</li><li>NA</li><li>NA</li><li>NA</li><li>NA</li><li>NA</li><li>NA</li><li>NA</li><li>NA</li><li>NA</li><li>NA</li><li>NA</li><li>NA</li><li>NA</li><li>NA</li><li>NA</li><li>NA</li><li>NA</li><li>NA</li><li>NA</li><li>NA</li><li>NA</li></ol>\n"
      ],
      "text/latex": [
       "\\begin{enumerate*}\n",
       "\\item '레일라'\n",
       "\\item '닐루'\n",
       "\\item '라이덴'\n",
       "\\item '유라'\n",
       "\\item '설탕'\n",
       "\\item NA\n",
       "\\item NA\n",
       "\\item NA\n",
       "\\item NA\n",
       "\\item NA\n",
       "\\item NA\n",
       "\\item NA\n",
       "\\item NA\n",
       "\\item NA\n",
       "\\item NA\n",
       "\\item NA\n",
       "\\item NA\n",
       "\\item NA\n",
       "\\item NA\n",
       "\\item NA\n",
       "\\item NA\n",
       "\\item NA\n",
       "\\item NA\n",
       "\\item NA\n",
       "\\item NA\n",
       "\\item NA\n",
       "\\item NA\n",
       "\\item NA\n",
       "\\end{enumerate*}\n"
      ],
      "text/markdown": [
       "1. '레일라'\n",
       "2. '닐루'\n",
       "3. '라이덴'\n",
       "4. '유라'\n",
       "5. '설탕'\n",
       "6. NA\n",
       "7. NA\n",
       "8. NA\n",
       "9. NA\n",
       "10. NA\n",
       "11. NA\n",
       "12. NA\n",
       "13. NA\n",
       "14. NA\n",
       "15. NA\n",
       "16. NA\n",
       "17. NA\n",
       "18. NA\n",
       "19. NA\n",
       "20. NA\n",
       "21. NA\n",
       "22. NA\n",
       "23. NA\n",
       "24. NA\n",
       "25. NA\n",
       "26. NA\n",
       "27. NA\n",
       "28. NA\n",
       "\n",
       "\n"
      ],
      "text/plain": [
       " [1] \"레일라\" \"닐루\"   \"라이덴\" \"유라\"   \"설탕\"   NA       NA       NA      \n",
       " [9] NA       NA       NA       NA       NA       NA       NA       NA      \n",
       "[17] NA       NA       NA       NA       NA       NA       NA       NA      \n",
       "[25] NA       NA       NA       NA      "
      ]
     },
     "metadata": {},
     "output_type": "display_data"
    }
   ],
   "source": [
    "names(data)"
   ]
  },
  {
   "cell_type": "code",
   "execution_count": 10,
   "id": "58e81230",
   "metadata": {},
   "outputs": [
    {
     "data": {
      "image/png": "[encoded data removed]",
      "text/plain": [
       "Plot with title \"최애인 캐릭터\""
      ]
     },
     "metadata": {
      "image/png": {
       "height": 420,
       "width": 420
      }
     },
     "output_type": "display_data"
    }
   ],
   "source": [
    "barplot(fq, main ='최애인 캐릭터', xlab='캐릭터',\n",
    "       ylab='빈도',\n",
    "       col = c('pink','blue','purple','skyblue', 'green'))"
   ]
  },
  {
   "cell_type": "code",
   "execution_count": 11,
   "id": "81d0404c",
   "metadata": {},
   "outputs": [],
   "source": [
    "model = lm(pressure$temperature~pressure$pressure)"
   ]
  },
  {
   "cell_type": "code",
   "execution_count": 12,
   "id": "c94227b5",
   "metadata": {},
   "outputs": [
    {
     "data": {
      "text/plain": [
       "\n",
       "Call:\n",
       "lm(formula = pressure$temperature ~ pressure$pressure)\n",
       "\n",
       "Residuals:\n",
       "     Min       1Q   Median       3Q      Max \n",
       "-132.791  -62.813    6.507   67.033   90.759 \n",
       "\n",
       "Coefficients:\n",
       "                   Estimate Std. Error t value Pr(>|t|)    \n",
       "(Intercept)       132.79072   19.94314   6.658 4.03e-06 ***\n",
       "pressure$pressure   0.37969    0.07929   4.788 0.000171 ***\n",
       "---\n",
       "Signif. codes:  0 '***' 0.001 '**' 0.01 '*' 0.05 '.' 0.1 ' ' 1\n",
       "\n",
       "Residual standard error: 75.56 on 17 degrees of freedom\n",
       "Multiple R-squared:  0.5742,\tAdjusted R-squared:  0.5492 \n",
       "F-statistic: 22.93 on 1 and 17 DF,  p-value: 0.000171\n"
      ]
     },
     "metadata": {},
     "output_type": "display_data"
    }
   ],
   "source": [
    "summary(model)"
   ]
  },
  {
   "cell_type": "code",
   "execution_count": 25,
   "id": "a2739a21",
   "metadata": {},
   "outputs": [
    {
     "name": "stdout",
     "output_type": "stream",
     "text": [
      "        1 \n",
      "-49.59158 \n",
      "        1 \n",
      "-4.218984 \n",
      "       1 \n",
      "86.52621 \n"
     ]
    }
   ],
   "source": [
    "model = lm(pressure~temperature, data=pressure)\n",
    "for(i in c(65, 95, 155)){\n",
    "    print(predict(model, newdata = data.frame(temperature = i)))\n",
    "}\n"
   ]
  },
  {
   "cell_type": "code",
   "execution_count": 26,
   "id": "acc13667",
   "metadata": {},
   "outputs": [
    {
     "data": {
      "text/plain": [
       "\n",
       "Call:\n",
       "lm(formula = pressure ~ temperature, data = pressure)\n",
       "\n",
       "Coefficients:\n",
       "(Intercept)  temperature  \n",
       "   -147.899        1.512  \n"
      ]
     },
     "metadata": {},
     "output_type": "display_data"
    }
   ],
   "source": [
    "model"
   ]
  },
  {
   "cell_type": "code",
   "execution_count": 27,
   "id": "d6558ef8",
   "metadata": {},
   "outputs": [
    {
     "data": {
      "text/html": [
       "-4.25899999999999"
      ],
      "text/latex": [
       "-4.25899999999999"
      ],
      "text/markdown": [
       "-4.25899999999999"
      ],
      "text/plain": [
       "[1] -4.259"
      ]
     },
     "metadata": {},
     "output_type": "display_data"
    }
   ],
   "source": [
    "1.512 * 95 - 147.899"
   ]
  },
  {
   "cell_type": "code",
   "execution_count": 20,
   "id": "5ce97a04",
   "metadata": {},
   "outputs": [
    {
     "data": {
      "text/plain": [
       "\n",
       "Call:\n",
       "lm(formula = pressure$pressure ~ pressure$temperature)\n",
       "\n",
       "Residuals:\n",
       "    Min      1Q  Median      3Q     Max \n",
       "-158.08 -117.06  -32.84   72.30  409.43 \n",
       "\n",
       "Coefficients:\n",
       "                      Estimate Std. Error t value Pr(>|t|)    \n",
       "(Intercept)          -147.8989    66.5529  -2.222 0.040124 *  \n",
       "pressure$temperature    1.5124     0.3158   4.788 0.000171 ***\n",
       "---\n",
       "Signif. codes:  0 '***' 0.001 '**' 0.01 '*' 0.05 '.' 0.1 ' ' 1\n",
       "\n",
       "Residual standard error: 150.8 on 17 degrees of freedom\n",
       "Multiple R-squared:  0.5742,\tAdjusted R-squared:  0.5492 \n",
       "F-statistic: 22.93 on 1 and 17 DF,  p-value: 0.000171\n"
      ]
     },
     "metadata": {},
     "output_type": "display_data"
    }
   ],
   "source": [
    "summary(model)"
   ]
  },
  {
   "cell_type": "code",
   "execution_count": 21,
   "id": "4ca9ea8e",
   "metadata": {},
   "outputs": [
    {
     "data": {
      "text/plain": [
       "\n",
       "Call:\n",
       "lm(formula = pressure$pressure ~ pressure$temperature)\n",
       "\n",
       "Coefficients:\n",
       "         (Intercept)  pressure$temperature  \n",
       "            -147.899                 1.512  \n"
      ]
     },
     "metadata": {},
     "output_type": "display_data"
    }
   ],
   "source": [
    "model"
   ]
  },
  {
   "cell_type": "code",
   "execution_count": 24,
   "id": "aaa0962c",
   "metadata": {},
   "outputs": [
    {
     "name": "stderr",
     "output_type": "stream",
     "text": [
      "Warning message:\n",
      "\"'newdata' had 1 row but variables found have 19 rows\"\n"
     ]
    },
    {
     "data": {
      "text/html": [
       "<style>\n",
       ".dl-inline {width: auto; margin:0; padding: 0}\n",
       ".dl-inline>dt, .dl-inline>dd {float: none; width: auto; display: inline-block}\n",
       ".dl-inline>dt::after {content: \":\\0020\"; padding-right: .5ex}\n",
       ".dl-inline>dt:not(:first-of-type) {padding-left: .5ex}\n",
       "</style><dl class=dl-inline><dt>1</dt><dd>-147.898872631579</dd><dt>2</dt><dd>-117.650475087719</dd><dt>3</dt><dd>-87.4020775438596</dd><dt>4</dt><dd>-57.15368</dd><dt>5</dt><dd>-26.9052824561403</dd><dt>6</dt><dd>3.34311508771933</dd><dt>7</dt><dd>33.591512631579</dd><dt>8</dt><dd>63.8399101754386</dd><dt>9</dt><dd>94.0883077192983</dd><dt>10</dt><dd>124.336705263158</dd><dt>11</dt><dd>154.585102807018</dd><dt>12</dt><dd>184.833500350877</dd><dt>13</dt><dd>215.081897894737</dd><dt>14</dt><dd>245.330295438596</dd><dt>15</dt><dd>275.578692982456</dd><dt>16</dt><dd>305.827090526316</dd><dt>17</dt><dd>336.075488070175</dd><dt>18</dt><dd>366.323885614035</dd><dt>19</dt><dd>396.572283157895</dd></dl>\n"
      ],
      "text/latex": [
       "\\begin{description*}\n",
       "\\item[1] -147.898872631579\n",
       "\\item[2] -117.650475087719\n",
       "\\item[3] -87.4020775438596\n",
       "\\item[4] -57.15368\n",
       "\\item[5] -26.9052824561403\n",
       "\\item[6] 3.34311508771933\n",
       "\\item[7] 33.591512631579\n",
       "\\item[8] 63.8399101754386\n",
       "\\item[9] 94.0883077192983\n",
       "\\item[10] 124.336705263158\n",
       "\\item[11] 154.585102807018\n",
       "\\item[12] 184.833500350877\n",
       "\\item[13] 215.081897894737\n",
       "\\item[14] 245.330295438596\n",
       "\\item[15] 275.578692982456\n",
       "\\item[16] 305.827090526316\n",
       "\\item[17] 336.075488070175\n",
       "\\item[18] 366.323885614035\n",
       "\\item[19] 396.572283157895\n",
       "\\end{description*}\n"
      ],
      "text/markdown": [
       "1\n",
       ":   -147.8988726315792\n",
       ":   -117.6504750877193\n",
       ":   -87.40207754385964\n",
       ":   -57.153685\n",
       ":   -26.90528245614036\n",
       ":   3.343115087719337\n",
       ":   33.5915126315798\n",
       ":   63.83991017543869\n",
       ":   94.088307719298310\n",
       ":   124.33670526315811\n",
       ":   154.58510280701812\n",
       ":   184.83350035087713\n",
       ":   215.08189789473714\n",
       ":   245.33029543859615\n",
       ":   275.57869298245616\n",
       ":   305.82709052631617\n",
       ":   336.07548807017518\n",
       ":   366.32388561403519\n",
       ":   396.572283157895\n",
       "\n"
      ],
      "text/plain": [
       "          1           2           3           4           5           6 \n",
       "-147.898873 -117.650475  -87.402078  -57.153680  -26.905282    3.343115 \n",
       "          7           8           9          10          11          12 \n",
       "  33.591513   63.839910   94.088308  124.336705  154.585103  184.833500 \n",
       "         13          14          15          16          17          18 \n",
       " 215.081898  245.330295  275.578693  305.827091  336.075488  366.323886 \n",
       "         19 \n",
       " 396.572283 "
      ]
     },
     "metadata": {},
     "output_type": "display_data"
    }
   ],
   "source": [
    "predict(model, newdata = data.frame(temperature = 65))"
   ]
  },
  {
   "cell_type": "code",
   "execution_count": 30,
   "id": "d0c34052",
   "metadata": {},
   "outputs": [
    {
     "data": {
      "text/html": [
       "<table class=\"dataframe\">\n",
       "<caption>A matrix: 50 × 8 of type dbl</caption>\n",
       "<thead>\n",
       "\t<tr><th></th><th scope=col>Population</th><th scope=col>Income</th><th scope=col>Illiteracy</th><th scope=col>Life Exp</th><th scope=col>Murder</th><th scope=col>HS Grad</th><th scope=col>Frost</th><th scope=col>Area</th></tr>\n",
       "</thead>\n",
       "<tbody>\n",
       "\t<tr><th scope=row>Alabama</th><td> 3615</td><td>3624</td><td>2.1</td><td>69.05</td><td>15.1</td><td>41.3</td><td> 20</td><td> 50708</td></tr>\n",
       "\t<tr><th scope=row>Alaska</th><td>  365</td><td>6315</td><td>1.5</td><td>69.31</td><td>11.3</td><td>66.7</td><td>152</td><td>566432</td></tr>\n",
       "\t<tr><th scope=row>Arizona</th><td> 2212</td><td>4530</td><td>1.8</td><td>70.55</td><td> 7.8</td><td>58.1</td><td> 15</td><td>113417</td></tr>\n",
       "\t<tr><th scope=row>Arkansas</th><td> 2110</td><td>3378</td><td>1.9</td><td>70.66</td><td>10.1</td><td>39.9</td><td> 65</td><td> 51945</td></tr>\n",
       "\t<tr><th scope=row>California</th><td>21198</td><td>5114</td><td>1.1</td><td>71.71</td><td>10.3</td><td>62.6</td><td> 20</td><td>156361</td></tr>\n",
       "\t<tr><th scope=row>Colorado</th><td> 2541</td><td>4884</td><td>0.7</td><td>72.06</td><td> 6.8</td><td>63.9</td><td>166</td><td>103766</td></tr>\n",
       "\t<tr><th scope=row>Connecticut</th><td> 3100</td><td>5348</td><td>1.1</td><td>72.48</td><td> 3.1</td><td>56.0</td><td>139</td><td>  4862</td></tr>\n",
       "\t<tr><th scope=row>Delaware</th><td>  579</td><td>4809</td><td>0.9</td><td>70.06</td><td> 6.2</td><td>54.6</td><td>103</td><td>  1982</td></tr>\n",
       "\t<tr><th scope=row>Florida</th><td> 8277</td><td>4815</td><td>1.3</td><td>70.66</td><td>10.7</td><td>52.6</td><td> 11</td><td> 54090</td></tr>\n",
       "\t<tr><th scope=row>Georgia</th><td> 4931</td><td>4091</td><td>2.0</td><td>68.54</td><td>13.9</td><td>40.6</td><td> 60</td><td> 58073</td></tr>\n",
       "\t<tr><th scope=row>Hawaii</th><td>  868</td><td>4963</td><td>1.9</td><td>73.60</td><td> 6.2</td><td>61.9</td><td>  0</td><td>  6425</td></tr>\n",
       "\t<tr><th scope=row>Idaho</th><td>  813</td><td>4119</td><td>0.6</td><td>71.87</td><td> 5.3</td><td>59.5</td><td>126</td><td> 82677</td></tr>\n",
       "\t<tr><th scope=row>Illinois</th><td>11197</td><td>5107</td><td>0.9</td><td>70.14</td><td>10.3</td><td>52.6</td><td>127</td><td> 55748</td></tr>\n",
       "\t<tr><th scope=row>Indiana</th><td> 5313</td><td>4458</td><td>0.7</td><td>70.88</td><td> 7.1</td><td>52.9</td><td>122</td><td> 36097</td></tr>\n",
       "\t<tr><th scope=row>Iowa</th><td> 2861</td><td>4628</td><td>0.5</td><td>72.56</td><td> 2.3</td><td>59.0</td><td>140</td><td> 55941</td></tr>\n",
       "\t<tr><th scope=row>Kansas</th><td> 2280</td><td>4669</td><td>0.6</td><td>72.58</td><td> 4.5</td><td>59.9</td><td>114</td><td> 81787</td></tr>\n",
       "\t<tr><th scope=row>Kentucky</th><td> 3387</td><td>3712</td><td>1.6</td><td>70.10</td><td>10.6</td><td>38.5</td><td> 95</td><td> 39650</td></tr>\n",
       "\t<tr><th scope=row>Louisiana</th><td> 3806</td><td>3545</td><td>2.8</td><td>68.76</td><td>13.2</td><td>42.2</td><td> 12</td><td> 44930</td></tr>\n",
       "\t<tr><th scope=row>Maine</th><td> 1058</td><td>3694</td><td>0.7</td><td>70.39</td><td> 2.7</td><td>54.7</td><td>161</td><td> 30920</td></tr>\n",
       "\t<tr><th scope=row>Maryland</th><td> 4122</td><td>5299</td><td>0.9</td><td>70.22</td><td> 8.5</td><td>52.3</td><td>101</td><td>  9891</td></tr>\n",
       "\t<tr><th scope=row>Massachusetts</th><td> 5814</td><td>4755</td><td>1.1</td><td>71.83</td><td> 3.3</td><td>58.5</td><td>103</td><td>  7826</td></tr>\n",
       "\t<tr><th scope=row>Michigan</th><td> 9111</td><td>4751</td><td>0.9</td><td>70.63</td><td>11.1</td><td>52.8</td><td>125</td><td> 56817</td></tr>\n",
       "\t<tr><th scope=row>Minnesota</th><td> 3921</td><td>4675</td><td>0.6</td><td>72.96</td><td> 2.3</td><td>57.6</td><td>160</td><td> 79289</td></tr>\n",
       "\t<tr><th scope=row>Mississippi</th><td> 2341</td><td>3098</td><td>2.4</td><td>68.09</td><td>12.5</td><td>41.0</td><td> 50</td><td> 47296</td></tr>\n",
       "\t<tr><th scope=row>Missouri</th><td> 4767</td><td>4254</td><td>0.8</td><td>70.69</td><td> 9.3</td><td>48.8</td><td>108</td><td> 68995</td></tr>\n",
       "\t<tr><th scope=row>Montana</th><td>  746</td><td>4347</td><td>0.6</td><td>70.56</td><td> 5.0</td><td>59.2</td><td>155</td><td>145587</td></tr>\n",
       "\t<tr><th scope=row>Nebraska</th><td> 1544</td><td>4508</td><td>0.6</td><td>72.60</td><td> 2.9</td><td>59.3</td><td>139</td><td> 76483</td></tr>\n",
       "\t<tr><th scope=row>Nevada</th><td>  590</td><td>5149</td><td>0.5</td><td>69.03</td><td>11.5</td><td>65.2</td><td>188</td><td>109889</td></tr>\n",
       "\t<tr><th scope=row>New Hampshire</th><td>  812</td><td>4281</td><td>0.7</td><td>71.23</td><td> 3.3</td><td>57.6</td><td>174</td><td>  9027</td></tr>\n",
       "\t<tr><th scope=row>New Jersey</th><td> 7333</td><td>5237</td><td>1.1</td><td>70.93</td><td> 5.2</td><td>52.5</td><td>115</td><td>  7521</td></tr>\n",
       "\t<tr><th scope=row>New Mexico</th><td> 1144</td><td>3601</td><td>2.2</td><td>70.32</td><td> 9.7</td><td>55.2</td><td>120</td><td>121412</td></tr>\n",
       "\t<tr><th scope=row>New York</th><td>18076</td><td>4903</td><td>1.4</td><td>70.55</td><td>10.9</td><td>52.7</td><td> 82</td><td> 47831</td></tr>\n",
       "\t<tr><th scope=row>North Carolina</th><td> 5441</td><td>3875</td><td>1.8</td><td>69.21</td><td>11.1</td><td>38.5</td><td> 80</td><td> 48798</td></tr>\n",
       "\t<tr><th scope=row>North Dakota</th><td>  637</td><td>5087</td><td>0.8</td><td>72.78</td><td> 1.4</td><td>50.3</td><td>186</td><td> 69273</td></tr>\n",
       "\t<tr><th scope=row>Ohio</th><td>10735</td><td>4561</td><td>0.8</td><td>70.82</td><td> 7.4</td><td>53.2</td><td>124</td><td> 40975</td></tr>\n",
       "\t<tr><th scope=row>Oklahoma</th><td> 2715</td><td>3983</td><td>1.1</td><td>71.42</td><td> 6.4</td><td>51.6</td><td> 82</td><td> 68782</td></tr>\n",
       "\t<tr><th scope=row>Oregon</th><td> 2284</td><td>4660</td><td>0.6</td><td>72.13</td><td> 4.2</td><td>60.0</td><td> 44</td><td> 96184</td></tr>\n",
       "\t<tr><th scope=row>Pennsylvania</th><td>11860</td><td>4449</td><td>1.0</td><td>70.43</td><td> 6.1</td><td>50.2</td><td>126</td><td> 44966</td></tr>\n",
       "\t<tr><th scope=row>Rhode Island</th><td>  931</td><td>4558</td><td>1.3</td><td>71.90</td><td> 2.4</td><td>46.4</td><td>127</td><td>  1049</td></tr>\n",
       "\t<tr><th scope=row>South Carolina</th><td> 2816</td><td>3635</td><td>2.3</td><td>67.96</td><td>11.6</td><td>37.8</td><td> 65</td><td> 30225</td></tr>\n",
       "\t<tr><th scope=row>South Dakota</th><td>  681</td><td>4167</td><td>0.5</td><td>72.08</td><td> 1.7</td><td>53.3</td><td>172</td><td> 75955</td></tr>\n",
       "\t<tr><th scope=row>Tennessee</th><td> 4173</td><td>3821</td><td>1.7</td><td>70.11</td><td>11.0</td><td>41.8</td><td> 70</td><td> 41328</td></tr>\n",
       "\t<tr><th scope=row>Texas</th><td>12237</td><td>4188</td><td>2.2</td><td>70.90</td><td>12.2</td><td>47.4</td><td> 35</td><td>262134</td></tr>\n",
       "\t<tr><th scope=row>Utah</th><td> 1203</td><td>4022</td><td>0.6</td><td>72.90</td><td> 4.5</td><td>67.3</td><td>137</td><td> 82096</td></tr>\n",
       "\t<tr><th scope=row>Vermont</th><td>  472</td><td>3907</td><td>0.6</td><td>71.64</td><td> 5.5</td><td>57.1</td><td>168</td><td>  9267</td></tr>\n",
       "\t<tr><th scope=row>Virginia</th><td> 4981</td><td>4701</td><td>1.4</td><td>70.08</td><td> 9.5</td><td>47.8</td><td> 85</td><td> 39780</td></tr>\n",
       "\t<tr><th scope=row>Washington</th><td> 3559</td><td>4864</td><td>0.6</td><td>71.72</td><td> 4.3</td><td>63.5</td><td> 32</td><td> 66570</td></tr>\n",
       "\t<tr><th scope=row>West Virginia</th><td> 1799</td><td>3617</td><td>1.4</td><td>69.48</td><td> 6.7</td><td>41.6</td><td>100</td><td> 24070</td></tr>\n",
       "\t<tr><th scope=row>Wisconsin</th><td> 4589</td><td>4468</td><td>0.7</td><td>72.48</td><td> 3.0</td><td>54.5</td><td>149</td><td> 54464</td></tr>\n",
       "\t<tr><th scope=row>Wyoming</th><td>  376</td><td>4566</td><td>0.6</td><td>70.29</td><td> 6.9</td><td>62.9</td><td>173</td><td> 97203</td></tr>\n",
       "</tbody>\n",
       "</table>\n"
      ],
      "text/latex": [
       "A matrix: 50 × 8 of type dbl\n",
       "\\begin{tabular}{r|llllllll}\n",
       "  & Population & Income & Illiteracy & Life Exp & Murder & HS Grad & Frost & Area\\\\\n",
       "\\hline\n",
       "\tAlabama &  3615 & 3624 & 2.1 & 69.05 & 15.1 & 41.3 &  20 &  50708\\\\\n",
       "\tAlaska &   365 & 6315 & 1.5 & 69.31 & 11.3 & 66.7 & 152 & 566432\\\\\n",
       "\tArizona &  2212 & 4530 & 1.8 & 70.55 &  7.8 & 58.1 &  15 & 113417\\\\\n",
       "\tArkansas &  2110 & 3378 & 1.9 & 70.66 & 10.1 & 39.9 &  65 &  51945\\\\\n",
       "\tCalifornia & 21198 & 5114 & 1.1 & 71.71 & 10.3 & 62.6 &  20 & 156361\\\\\n",
       "\tColorado &  2541 & 4884 & 0.7 & 72.06 &  6.8 & 63.9 & 166 & 103766\\\\\n",
       "\tConnecticut &  3100 & 5348 & 1.1 & 72.48 &  3.1 & 56.0 & 139 &   4862\\\\\n",
       "\tDelaware &   579 & 4809 & 0.9 & 70.06 &  6.2 & 54.6 & 103 &   1982\\\\\n",
       "\tFlorida &  8277 & 4815 & 1.3 & 70.66 & 10.7 & 52.6 &  11 &  54090\\\\\n",
       "\tGeorgia &  4931 & 4091 & 2.0 & 68.54 & 13.9 & 40.6 &  60 &  58073\\\\\n",
       "\tHawaii &   868 & 4963 & 1.9 & 73.60 &  6.2 & 61.9 &   0 &   6425\\\\\n",
       "\tIdaho &   813 & 4119 & 0.6 & 71.87 &  5.3 & 59.5 & 126 &  82677\\\\\n",
       "\tIllinois & 11197 & 5107 & 0.9 & 70.14 & 10.3 & 52.6 & 127 &  55748\\\\\n",
       "\tIndiana &  5313 & 4458 & 0.7 & 70.88 &  7.1 & 52.9 & 122 &  36097\\\\\n",
       "\tIowa &  2861 & 4628 & 0.5 & 72.56 &  2.3 & 59.0 & 140 &  55941\\\\\n",
       "\tKansas &  2280 & 4669 & 0.6 & 72.58 &  4.5 & 59.9 & 114 &  81787\\\\\n",
       "\tKentucky &  3387 & 3712 & 1.6 & 70.10 & 10.6 & 38.5 &  95 &  39650\\\\\n",
       "\tLouisiana &  3806 & 3545 & 2.8 & 68.76 & 13.2 & 42.2 &  12 &  44930\\\\\n",
       "\tMaine &  1058 & 3694 & 0.7 & 70.39 &  2.7 & 54.7 & 161 &  30920\\\\\n",
       "\tMaryland &  4122 & 5299 & 0.9 & 70.22 &  8.5 & 52.3 & 101 &   9891\\\\\n",
       "\tMassachusetts &  5814 & 4755 & 1.1 & 71.83 &  3.3 & 58.5 & 103 &   7826\\\\\n",
       "\tMichigan &  9111 & 4751 & 0.9 & 70.63 & 11.1 & 52.8 & 125 &  56817\\\\\n",
       "\tMinnesota &  3921 & 4675 & 0.6 & 72.96 &  2.3 & 57.6 & 160 &  79289\\\\\n",
       "\tMississippi &  2341 & 3098 & 2.4 & 68.09 & 12.5 & 41.0 &  50 &  47296\\\\\n",
       "\tMissouri &  4767 & 4254 & 0.8 & 70.69 &  9.3 & 48.8 & 108 &  68995\\\\\n",
       "\tMontana &   746 & 4347 & 0.6 & 70.56 &  5.0 & 59.2 & 155 & 145587\\\\\n",
       "\tNebraska &  1544 & 4508 & 0.6 & 72.60 &  2.9 & 59.3 & 139 &  76483\\\\\n",
       "\tNevada &   590 & 5149 & 0.5 & 69.03 & 11.5 & 65.2 & 188 & 109889\\\\\n",
       "\tNew Hampshire &   812 & 4281 & 0.7 & 71.23 &  3.3 & 57.6 & 174 &   9027\\\\\n",
       "\tNew Jersey &  7333 & 5237 & 1.1 & 70.93 &  5.2 & 52.5 & 115 &   7521\\\\\n",
       "\tNew Mexico &  1144 & 3601 & 2.2 & 70.32 &  9.7 & 55.2 & 120 & 121412\\\\\n",
       "\tNew York & 18076 & 4903 & 1.4 & 70.55 & 10.9 & 52.7 &  82 &  47831\\\\\n",
       "\tNorth Carolina &  5441 & 3875 & 1.8 & 69.21 & 11.1 & 38.5 &  80 &  48798\\\\\n",
       "\tNorth Dakota &   637 & 5087 & 0.8 & 72.78 &  1.4 & 50.3 & 186 &  69273\\\\\n",
       "\tOhio & 10735 & 4561 & 0.8 & 70.82 &  7.4 & 53.2 & 124 &  40975\\\\\n",
       "\tOklahoma &  2715 & 3983 & 1.1 & 71.42 &  6.4 & 51.6 &  82 &  68782\\\\\n",
       "\tOregon &  2284 & 4660 & 0.6 & 72.13 &  4.2 & 60.0 &  44 &  96184\\\\\n",
       "\tPennsylvania & 11860 & 4449 & 1.0 & 70.43 &  6.1 & 50.2 & 126 &  44966\\\\\n",
       "\tRhode Island &   931 & 4558 & 1.3 & 71.90 &  2.4 & 46.4 & 127 &   1049\\\\\n",
       "\tSouth Carolina &  2816 & 3635 & 2.3 & 67.96 & 11.6 & 37.8 &  65 &  30225\\\\\n",
       "\tSouth Dakota &   681 & 4167 & 0.5 & 72.08 &  1.7 & 53.3 & 172 &  75955\\\\\n",
       "\tTennessee &  4173 & 3821 & 1.7 & 70.11 & 11.0 & 41.8 &  70 &  41328\\\\\n",
       "\tTexas & 12237 & 4188 & 2.2 & 70.90 & 12.2 & 47.4 &  35 & 262134\\\\\n",
       "\tUtah &  1203 & 4022 & 0.6 & 72.90 &  4.5 & 67.3 & 137 &  82096\\\\\n",
       "\tVermont &   472 & 3907 & 0.6 & 71.64 &  5.5 & 57.1 & 168 &   9267\\\\\n",
       "\tVirginia &  4981 & 4701 & 1.4 & 70.08 &  9.5 & 47.8 &  85 &  39780\\\\\n",
       "\tWashington &  3559 & 4864 & 0.6 & 71.72 &  4.3 & 63.5 &  32 &  66570\\\\\n",
       "\tWest Virginia &  1799 & 3617 & 1.4 & 69.48 &  6.7 & 41.6 & 100 &  24070\\\\\n",
       "\tWisconsin &  4589 & 4468 & 0.7 & 72.48 &  3.0 & 54.5 & 149 &  54464\\\\\n",
       "\tWyoming &   376 & 4566 & 0.6 & 70.29 &  6.9 & 62.9 & 173 &  97203\\\\\n",
       "\\end{tabular}\n"
      ],
      "text/markdown": [
       "\n",
       "A matrix: 50 × 8 of type dbl\n",
       "\n",
       "| <!--/--> | Population | Income | Illiteracy | Life Exp | Murder | HS Grad | Frost | Area |\n",
       "|---|---|---|---|---|---|---|---|---|\n",
       "| Alabama |  3615 | 3624 | 2.1 | 69.05 | 15.1 | 41.3 |  20 |  50708 |\n",
       "| Alaska |   365 | 6315 | 1.5 | 69.31 | 11.3 | 66.7 | 152 | 566432 |\n",
       "| Arizona |  2212 | 4530 | 1.8 | 70.55 |  7.8 | 58.1 |  15 | 113417 |\n",
       "| Arkansas |  2110 | 3378 | 1.9 | 70.66 | 10.1 | 39.9 |  65 |  51945 |\n",
       "| California | 21198 | 5114 | 1.1 | 71.71 | 10.3 | 62.6 |  20 | 156361 |\n",
       "| Colorado |  2541 | 4884 | 0.7 | 72.06 |  6.8 | 63.9 | 166 | 103766 |\n",
       "| Connecticut |  3100 | 5348 | 1.1 | 72.48 |  3.1 | 56.0 | 139 |   4862 |\n",
       "| Delaware |   579 | 4809 | 0.9 | 70.06 |  6.2 | 54.6 | 103 |   1982 |\n",
       "| Florida |  8277 | 4815 | 1.3 | 70.66 | 10.7 | 52.6 |  11 |  54090 |\n",
       "| Georgia |  4931 | 4091 | 2.0 | 68.54 | 13.9 | 40.6 |  60 |  58073 |\n",
       "| Hawaii |   868 | 4963 | 1.9 | 73.60 |  6.2 | 61.9 |   0 |   6425 |\n",
       "| Idaho |   813 | 4119 | 0.6 | 71.87 |  5.3 | 59.5 | 126 |  82677 |\n",
       "| Illinois | 11197 | 5107 | 0.9 | 70.14 | 10.3 | 52.6 | 127 |  55748 |\n",
       "| Indiana |  5313 | 4458 | 0.7 | 70.88 |  7.1 | 52.9 | 122 |  36097 |\n",
       "| Iowa |  2861 | 4628 | 0.5 | 72.56 |  2.3 | 59.0 | 140 |  55941 |\n",
       "| Kansas |  2280 | 4669 | 0.6 | 72.58 |  4.5 | 59.9 | 114 |  81787 |\n",
       "| Kentucky |  3387 | 3712 | 1.6 | 70.10 | 10.6 | 38.5 |  95 |  39650 |\n",
       "| Louisiana |  3806 | 3545 | 2.8 | 68.76 | 13.2 | 42.2 |  12 |  44930 |\n",
       "| Maine |  1058 | 3694 | 0.7 | 70.39 |  2.7 | 54.7 | 161 |  30920 |\n",
       "| Maryland |  4122 | 5299 | 0.9 | 70.22 |  8.5 | 52.3 | 101 |   9891 |\n",
       "| Massachusetts |  5814 | 4755 | 1.1 | 71.83 |  3.3 | 58.5 | 103 |   7826 |\n",
       "| Michigan |  9111 | 4751 | 0.9 | 70.63 | 11.1 | 52.8 | 125 |  56817 |\n",
       "| Minnesota |  3921 | 4675 | 0.6 | 72.96 |  2.3 | 57.6 | 160 |  79289 |\n",
       "| Mississippi |  2341 | 3098 | 2.4 | 68.09 | 12.5 | 41.0 |  50 |  47296 |\n",
       "| Missouri |  4767 | 4254 | 0.8 | 70.69 |  9.3 | 48.8 | 108 |  68995 |\n",
       "| Montana |   746 | 4347 | 0.6 | 70.56 |  5.0 | 59.2 | 155 | 145587 |\n",
       "| Nebraska |  1544 | 4508 | 0.6 | 72.60 |  2.9 | 59.3 | 139 |  76483 |\n",
       "| Nevada |   590 | 5149 | 0.5 | 69.03 | 11.5 | 65.2 | 188 | 109889 |\n",
       "| New Hampshire |   812 | 4281 | 0.7 | 71.23 |  3.3 | 57.6 | 174 |   9027 |\n",
       "| New Jersey |  7333 | 5237 | 1.1 | 70.93 |  5.2 | 52.5 | 115 |   7521 |\n",
       "| New Mexico |  1144 | 3601 | 2.2 | 70.32 |  9.7 | 55.2 | 120 | 121412 |\n",
       "| New York | 18076 | 4903 | 1.4 | 70.55 | 10.9 | 52.7 |  82 |  47831 |\n",
       "| North Carolina |  5441 | 3875 | 1.8 | 69.21 | 11.1 | 38.5 |  80 |  48798 |\n",
       "| North Dakota |   637 | 5087 | 0.8 | 72.78 |  1.4 | 50.3 | 186 |  69273 |\n",
       "| Ohio | 10735 | 4561 | 0.8 | 70.82 |  7.4 | 53.2 | 124 |  40975 |\n",
       "| Oklahoma |  2715 | 3983 | 1.1 | 71.42 |  6.4 | 51.6 |  82 |  68782 |\n",
       "| Oregon |  2284 | 4660 | 0.6 | 72.13 |  4.2 | 60.0 |  44 |  96184 |\n",
       "| Pennsylvania | 11860 | 4449 | 1.0 | 70.43 |  6.1 | 50.2 | 126 |  44966 |\n",
       "| Rhode Island |   931 | 4558 | 1.3 | 71.90 |  2.4 | 46.4 | 127 |   1049 |\n",
       "| South Carolina |  2816 | 3635 | 2.3 | 67.96 | 11.6 | 37.8 |  65 |  30225 |\n",
       "| South Dakota |   681 | 4167 | 0.5 | 72.08 |  1.7 | 53.3 | 172 |  75955 |\n",
       "| Tennessee |  4173 | 3821 | 1.7 | 70.11 | 11.0 | 41.8 |  70 |  41328 |\n",
       "| Texas | 12237 | 4188 | 2.2 | 70.90 | 12.2 | 47.4 |  35 | 262134 |\n",
       "| Utah |  1203 | 4022 | 0.6 | 72.90 |  4.5 | 67.3 | 137 |  82096 |\n",
       "| Vermont |   472 | 3907 | 0.6 | 71.64 |  5.5 | 57.1 | 168 |   9267 |\n",
       "| Virginia |  4981 | 4701 | 1.4 | 70.08 |  9.5 | 47.8 |  85 |  39780 |\n",
       "| Washington |  3559 | 4864 | 0.6 | 71.72 |  4.3 | 63.5 |  32 |  66570 |\n",
       "| West Virginia |  1799 | 3617 | 1.4 | 69.48 |  6.7 | 41.6 | 100 |  24070 |\n",
       "| Wisconsin |  4589 | 4468 | 0.7 | 72.48 |  3.0 | 54.5 | 149 |  54464 |\n",
       "| Wyoming |   376 | 4566 | 0.6 | 70.29 |  6.9 | 62.9 | 173 |  97203 |\n",
       "\n"
      ],
      "text/plain": [
       "               Population Income Illiteracy Life Exp Murder HS Grad Frost\n",
       "Alabama         3615      3624   2.1        69.05    15.1   41.3     20  \n",
       "Alaska           365      6315   1.5        69.31    11.3   66.7    152  \n",
       "Arizona         2212      4530   1.8        70.55     7.8   58.1     15  \n",
       "Arkansas        2110      3378   1.9        70.66    10.1   39.9     65  \n",
       "California     21198      5114   1.1        71.71    10.3   62.6     20  \n",
       "Colorado        2541      4884   0.7        72.06     6.8   63.9    166  \n",
       "Connecticut     3100      5348   1.1        72.48     3.1   56.0    139  \n",
       "Delaware         579      4809   0.9        70.06     6.2   54.6    103  \n",
       "Florida         8277      4815   1.3        70.66    10.7   52.6     11  \n",
       "Georgia         4931      4091   2.0        68.54    13.9   40.6     60  \n",
       "Hawaii           868      4963   1.9        73.60     6.2   61.9      0  \n",
       "Idaho            813      4119   0.6        71.87     5.3   59.5    126  \n",
       "Illinois       11197      5107   0.9        70.14    10.3   52.6    127  \n",
       "Indiana         5313      4458   0.7        70.88     7.1   52.9    122  \n",
       "Iowa            2861      4628   0.5        72.56     2.3   59.0    140  \n",
       "Kansas          2280      4669   0.6        72.58     4.5   59.9    114  \n",
       "Kentucky        3387      3712   1.6        70.10    10.6   38.5     95  \n",
       "Louisiana       3806      3545   2.8        68.76    13.2   42.2     12  \n",
       "Maine           1058      3694   0.7        70.39     2.7   54.7    161  \n",
       "Maryland        4122      5299   0.9        70.22     8.5   52.3    101  \n",
       "Massachusetts   5814      4755   1.1        71.83     3.3   58.5    103  \n",
       "Michigan        9111      4751   0.9        70.63    11.1   52.8    125  \n",
       "Minnesota       3921      4675   0.6        72.96     2.3   57.6    160  \n",
       "Mississippi     2341      3098   2.4        68.09    12.5   41.0     50  \n",
       "Missouri        4767      4254   0.8        70.69     9.3   48.8    108  \n",
       "Montana          746      4347   0.6        70.56     5.0   59.2    155  \n",
       "Nebraska        1544      4508   0.6        72.60     2.9   59.3    139  \n",
       "Nevada           590      5149   0.5        69.03    11.5   65.2    188  \n",
       "New Hampshire    812      4281   0.7        71.23     3.3   57.6    174  \n",
       "New Jersey      7333      5237   1.1        70.93     5.2   52.5    115  \n",
       "New Mexico      1144      3601   2.2        70.32     9.7   55.2    120  \n",
       "New York       18076      4903   1.4        70.55    10.9   52.7     82  \n",
       "North Carolina  5441      3875   1.8        69.21    11.1   38.5     80  \n",
       "North Dakota     637      5087   0.8        72.78     1.4   50.3    186  \n",
       "Ohio           10735      4561   0.8        70.82     7.4   53.2    124  \n",
       "Oklahoma        2715      3983   1.1        71.42     6.4   51.6     82  \n",
       "Oregon          2284      4660   0.6        72.13     4.2   60.0     44  \n",
       "Pennsylvania   11860      4449   1.0        70.43     6.1   50.2    126  \n",
       "Rhode Island     931      4558   1.3        71.90     2.4   46.4    127  \n",
       "South Carolina  2816      3635   2.3        67.96    11.6   37.8     65  \n",
       "South Dakota     681      4167   0.5        72.08     1.7   53.3    172  \n",
       "Tennessee       4173      3821   1.7        70.11    11.0   41.8     70  \n",
       "Texas          12237      4188   2.2        70.90    12.2   47.4     35  \n",
       "Utah            1203      4022   0.6        72.90     4.5   67.3    137  \n",
       "Vermont          472      3907   0.6        71.64     5.5   57.1    168  \n",
       "Virginia        4981      4701   1.4        70.08     9.5   47.8     85  \n",
       "Washington      3559      4864   0.6        71.72     4.3   63.5     32  \n",
       "West Virginia   1799      3617   1.4        69.48     6.7   41.6    100  \n",
       "Wisconsin       4589      4468   0.7        72.48     3.0   54.5    149  \n",
       "Wyoming          376      4566   0.6        70.29     6.9   62.9    173  \n",
       "               Area  \n",
       "Alabama         50708\n",
       "Alaska         566432\n",
       "Arizona        113417\n",
       "Arkansas        51945\n",
       "California     156361\n",
       "Colorado       103766\n",
       "Connecticut      4862\n",
       "Delaware         1982\n",
       "Florida         54090\n",
       "Georgia         58073\n",
       "Hawaii           6425\n",
       "Idaho           82677\n",
       "Illinois        55748\n",
       "Indiana         36097\n",
       "Iowa            55941\n",
       "Kansas          81787\n",
       "Kentucky        39650\n",
       "Louisiana       44930\n",
       "Maine           30920\n",
       "Maryland         9891\n",
       "Massachusetts    7826\n",
       "Michigan        56817\n",
       "Minnesota       79289\n",
       "Mississippi     47296\n",
       "Missouri        68995\n",
       "Montana        145587\n",
       "Nebraska        76483\n",
       "Nevada         109889\n",
       "New Hampshire    9027\n",
       "New Jersey       7521\n",
       "New Mexico     121412\n",
       "New York        47831\n",
       "North Carolina  48798\n",
       "North Dakota    69273\n",
       "Ohio            40975\n",
       "Oklahoma        68782\n",
       "Oregon          96184\n",
       "Pennsylvania    44966\n",
       "Rhode Island     1049\n",
       "South Carolina  30225\n",
       "South Dakota    75955\n",
       "Tennessee       41328\n",
       "Texas          262134\n",
       "Utah            82096\n",
       "Vermont          9267\n",
       "Virginia        39780\n",
       "Washington      66570\n",
       "West Virginia   24070\n",
       "Wisconsin       54464\n",
       "Wyoming         97203"
      ]
     },
     "metadata": {},
     "output_type": "display_data"
    }
   ],
   "source": [
    "state.x77"
   ]
  },
  {
   "cell_type": "code",
   "execution_count": 32,
   "id": "009216b1",
   "metadata": {},
   "outputs": [],
   "source": [
    "model = lm(Income ~ Illiteracy + HS.Grad, data = data.frame(state.x77))"
   ]
  },
  {
   "cell_type": "code",
   "execution_count": 33,
   "id": "36d2df62",
   "metadata": {},
   "outputs": [
    {
     "data": {
      "text/plain": [
       "\n",
       "Call:\n",
       "lm(formula = Income ~ Illiteracy + HS.Grad, data = data.frame(state.x77))\n",
       "\n",
       "Coefficients:\n",
       "(Intercept)   Illiteracy      HS.Grad  \n",
       "    2131.33       -52.64        44.55  \n"
      ]
     },
     "metadata": {},
     "output_type": "display_data"
    }
   ],
   "source": [
    "model"
   ]
  },
  {
   "cell_type": "code",
   "execution_count": 35,
   "id": "0dcc596d",
   "metadata": {},
   "outputs": [
    {
     "data": {
      "text/html": [
       "<strong>1:</strong> -1350.25242950407"
      ],
      "text/latex": [
       "\\textbf{1:} -1350.25242950407"
      ],
      "text/markdown": [
       "**1:** -1350.25242950407"
      ],
      "text/plain": [
       "        1 \n",
       "-1350.252 "
      ]
     },
     "metadata": {},
     "output_type": "display_data"
    }
   ],
   "source": [
    "predict(model, newdata = data.frame(Illiteracy = 100, HS.Grad = 40))"
   ]
  },
  {
   "cell_type": "code",
   "execution_count": 36,
   "id": "4096ba88",
   "metadata": {},
   "outputs": [
    {
     "name": "stderr",
     "output_type": "stream",
     "text": [
      "Warning message:\n",
      "\"package 'mlbench' was built under R version 4.3.2\"\n"
     ]
    }
   ],
   "source": [
    "library(mlbench)"
   ]
  },
  {
   "cell_type": "code",
   "execution_count": 37,
   "id": "38ba7795",
   "metadata": {},
   "outputs": [],
   "source": [
    "data(BostonHousing)"
   ]
  },
  {
   "cell_type": "code",
   "execution_count": 38,
   "id": "93ace899",
   "metadata": {},
   "outputs": [
    {
     "data": {
      "text/html": [
       "<table class=\"dataframe\">\n",
       "<caption>A data.frame: 506 × 13</caption>\n",
       "<thead>\n",
       "\t<tr><th></th><th scope=col>crim</th><th scope=col>zn</th><th scope=col>indus</th><th scope=col>nox</th><th scope=col>rm</th><th scope=col>age</th><th scope=col>dis</th><th scope=col>rad</th><th scope=col>tax</th><th scope=col>ptratio</th><th scope=col>b</th><th scope=col>lstat</th><th scope=col>medv</th></tr>\n",
       "\t<tr><th></th><th scope=col>&lt;dbl&gt;</th><th scope=col>&lt;dbl&gt;</th><th scope=col>&lt;dbl&gt;</th><th scope=col>&lt;dbl&gt;</th><th scope=col>&lt;dbl&gt;</th><th scope=col>&lt;dbl&gt;</th><th scope=col>&lt;dbl&gt;</th><th scope=col>&lt;dbl&gt;</th><th scope=col>&lt;dbl&gt;</th><th scope=col>&lt;dbl&gt;</th><th scope=col>&lt;dbl&gt;</th><th scope=col>&lt;dbl&gt;</th><th scope=col>&lt;dbl&gt;</th></tr>\n",
       "</thead>\n",
       "<tbody>\n",
       "\t<tr><th scope=row>1</th><td>0.00632</td><td>18.0</td><td>2.31</td><td>0.538</td><td>6.575</td><td> 65.2</td><td>4.0900</td><td>1</td><td>296</td><td>15.3</td><td>396.90</td><td> 4.98</td><td>24.0</td></tr>\n",
       "\t<tr><th scope=row>2</th><td>0.02731</td><td> 0.0</td><td>7.07</td><td>0.469</td><td>6.421</td><td> 78.9</td><td>4.9671</td><td>2</td><td>242</td><td>17.8</td><td>396.90</td><td> 9.14</td><td>21.6</td></tr>\n",
       "\t<tr><th scope=row>3</th><td>0.02729</td><td> 0.0</td><td>7.07</td><td>0.469</td><td>7.185</td><td> 61.1</td><td>4.9671</td><td>2</td><td>242</td><td>17.8</td><td>392.83</td><td> 4.03</td><td>34.7</td></tr>\n",
       "\t<tr><th scope=row>4</th><td>0.03237</td><td> 0.0</td><td>2.18</td><td>0.458</td><td>6.998</td><td> 45.8</td><td>6.0622</td><td>3</td><td>222</td><td>18.7</td><td>394.63</td><td> 2.94</td><td>33.4</td></tr>\n",
       "\t<tr><th scope=row>5</th><td>0.06905</td><td> 0.0</td><td>2.18</td><td>0.458</td><td>7.147</td><td> 54.2</td><td>6.0622</td><td>3</td><td>222</td><td>18.7</td><td>396.90</td><td> 5.33</td><td>36.2</td></tr>\n",
       "\t<tr><th scope=row>6</th><td>0.02985</td><td> 0.0</td><td>2.18</td><td>0.458</td><td>6.430</td><td> 58.7</td><td>6.0622</td><td>3</td><td>222</td><td>18.7</td><td>394.12</td><td> 5.21</td><td>28.7</td></tr>\n",
       "\t<tr><th scope=row>7</th><td>0.08829</td><td>12.5</td><td>7.87</td><td>0.524</td><td>6.012</td><td> 66.6</td><td>5.5605</td><td>5</td><td>311</td><td>15.2</td><td>395.60</td><td>12.43</td><td>22.9</td></tr>\n",
       "\t<tr><th scope=row>8</th><td>0.14455</td><td>12.5</td><td>7.87</td><td>0.524</td><td>6.172</td><td> 96.1</td><td>5.9505</td><td>5</td><td>311</td><td>15.2</td><td>396.90</td><td>19.15</td><td>27.1</td></tr>\n",
       "\t<tr><th scope=row>9</th><td>0.21124</td><td>12.5</td><td>7.87</td><td>0.524</td><td>5.631</td><td>100.0</td><td>6.0821</td><td>5</td><td>311</td><td>15.2</td><td>386.63</td><td>29.93</td><td>16.5</td></tr>\n",
       "\t<tr><th scope=row>10</th><td>0.17004</td><td>12.5</td><td>7.87</td><td>0.524</td><td>6.004</td><td> 85.9</td><td>6.5921</td><td>5</td><td>311</td><td>15.2</td><td>386.71</td><td>17.10</td><td>18.9</td></tr>\n",
       "\t<tr><th scope=row>11</th><td>0.22489</td><td>12.5</td><td>7.87</td><td>0.524</td><td>6.377</td><td> 94.3</td><td>6.3467</td><td>5</td><td>311</td><td>15.2</td><td>392.52</td><td>20.45</td><td>15.0</td></tr>\n",
       "\t<tr><th scope=row>12</th><td>0.11747</td><td>12.5</td><td>7.87</td><td>0.524</td><td>6.009</td><td> 82.9</td><td>6.2267</td><td>5</td><td>311</td><td>15.2</td><td>396.90</td><td>13.27</td><td>18.9</td></tr>\n",
       "\t<tr><th scope=row>13</th><td>0.09378</td><td>12.5</td><td>7.87</td><td>0.524</td><td>5.889</td><td> 39.0</td><td>5.4509</td><td>5</td><td>311</td><td>15.2</td><td>390.50</td><td>15.71</td><td>21.7</td></tr>\n",
       "\t<tr><th scope=row>14</th><td>0.62976</td><td> 0.0</td><td>8.14</td><td>0.538</td><td>5.949</td><td> 61.8</td><td>4.7075</td><td>4</td><td>307</td><td>21.0</td><td>396.90</td><td> 8.26</td><td>20.4</td></tr>\n",
       "\t<tr><th scope=row>15</th><td>0.63796</td><td> 0.0</td><td>8.14</td><td>0.538</td><td>6.096</td><td> 84.5</td><td>4.4619</td><td>4</td><td>307</td><td>21.0</td><td>380.02</td><td>10.26</td><td>18.2</td></tr>\n",
       "\t<tr><th scope=row>16</th><td>0.62739</td><td> 0.0</td><td>8.14</td><td>0.538</td><td>5.834</td><td> 56.5</td><td>4.4986</td><td>4</td><td>307</td><td>21.0</td><td>395.62</td><td> 8.47</td><td>19.9</td></tr>\n",
       "\t<tr><th scope=row>17</th><td>1.05393</td><td> 0.0</td><td>8.14</td><td>0.538</td><td>5.935</td><td> 29.3</td><td>4.4986</td><td>4</td><td>307</td><td>21.0</td><td>386.85</td><td> 6.58</td><td>23.1</td></tr>\n",
       "\t<tr><th scope=row>18</th><td>0.78420</td><td> 0.0</td><td>8.14</td><td>0.538</td><td>5.990</td><td> 81.7</td><td>4.2579</td><td>4</td><td>307</td><td>21.0</td><td>386.75</td><td>14.67</td><td>17.5</td></tr>\n",
       "\t<tr><th scope=row>19</th><td>0.80271</td><td> 0.0</td><td>8.14</td><td>0.538</td><td>5.456</td><td> 36.6</td><td>3.7965</td><td>4</td><td>307</td><td>21.0</td><td>288.99</td><td>11.69</td><td>20.2</td></tr>\n",
       "\t<tr><th scope=row>20</th><td>0.72580</td><td> 0.0</td><td>8.14</td><td>0.538</td><td>5.727</td><td> 69.5</td><td>3.7965</td><td>4</td><td>307</td><td>21.0</td><td>390.95</td><td>11.28</td><td>18.2</td></tr>\n",
       "\t<tr><th scope=row>21</th><td>1.25179</td><td> 0.0</td><td>8.14</td><td>0.538</td><td>5.570</td><td> 98.1</td><td>3.7979</td><td>4</td><td>307</td><td>21.0</td><td>376.57</td><td>21.02</td><td>13.6</td></tr>\n",
       "\t<tr><th scope=row>22</th><td>0.85204</td><td> 0.0</td><td>8.14</td><td>0.538</td><td>5.965</td><td> 89.2</td><td>4.0123</td><td>4</td><td>307</td><td>21.0</td><td>392.53</td><td>13.83</td><td>19.6</td></tr>\n",
       "\t<tr><th scope=row>23</th><td>1.23247</td><td> 0.0</td><td>8.14</td><td>0.538</td><td>6.142</td><td> 91.7</td><td>3.9769</td><td>4</td><td>307</td><td>21.0</td><td>396.90</td><td>18.72</td><td>15.2</td></tr>\n",
       "\t<tr><th scope=row>24</th><td>0.98843</td><td> 0.0</td><td>8.14</td><td>0.538</td><td>5.813</td><td>100.0</td><td>4.0952</td><td>4</td><td>307</td><td>21.0</td><td>394.54</td><td>19.88</td><td>14.5</td></tr>\n",
       "\t<tr><th scope=row>25</th><td>0.75026</td><td> 0.0</td><td>8.14</td><td>0.538</td><td>5.924</td><td> 94.1</td><td>4.3996</td><td>4</td><td>307</td><td>21.0</td><td>394.33</td><td>16.30</td><td>15.6</td></tr>\n",
       "\t<tr><th scope=row>26</th><td>0.84054</td><td> 0.0</td><td>8.14</td><td>0.538</td><td>5.599</td><td> 85.7</td><td>4.4546</td><td>4</td><td>307</td><td>21.0</td><td>303.42</td><td>16.51</td><td>13.9</td></tr>\n",
       "\t<tr><th scope=row>27</th><td>0.67191</td><td> 0.0</td><td>8.14</td><td>0.538</td><td>5.813</td><td> 90.3</td><td>4.6820</td><td>4</td><td>307</td><td>21.0</td><td>376.88</td><td>14.81</td><td>16.6</td></tr>\n",
       "\t<tr><th scope=row>28</th><td>0.95577</td><td> 0.0</td><td>8.14</td><td>0.538</td><td>6.047</td><td> 88.8</td><td>4.4534</td><td>4</td><td>307</td><td>21.0</td><td>306.38</td><td>17.28</td><td>14.8</td></tr>\n",
       "\t<tr><th scope=row>29</th><td>0.77299</td><td> 0.0</td><td>8.14</td><td>0.538</td><td>6.495</td><td> 94.4</td><td>4.4547</td><td>4</td><td>307</td><td>21.0</td><td>387.94</td><td>12.80</td><td>18.4</td></tr>\n",
       "\t<tr><th scope=row>30</th><td>1.00245</td><td> 0.0</td><td>8.14</td><td>0.538</td><td>6.674</td><td> 87.3</td><td>4.2390</td><td>4</td><td>307</td><td>21.0</td><td>380.23</td><td>11.98</td><td>21.0</td></tr>\n",
       "\t<tr><th scope=row>⋮</th><td>⋮</td><td>⋮</td><td>⋮</td><td>⋮</td><td>⋮</td><td>⋮</td><td>⋮</td><td>⋮</td><td>⋮</td><td>⋮</td><td>⋮</td><td>⋮</td><td>⋮</td></tr>\n",
       "\t<tr><th scope=row>477</th><td> 4.87141</td><td>0</td><td>18.10</td><td>0.614</td><td>6.484</td><td>93.6</td><td>2.3053</td><td>24</td><td>666</td><td>20.2</td><td>396.21</td><td>18.68</td><td>16.7</td></tr>\n",
       "\t<tr><th scope=row>478</th><td>15.02340</td><td>0</td><td>18.10</td><td>0.614</td><td>5.304</td><td>97.3</td><td>2.1007</td><td>24</td><td>666</td><td>20.2</td><td>349.48</td><td>24.91</td><td>12.0</td></tr>\n",
       "\t<tr><th scope=row>479</th><td>10.23300</td><td>0</td><td>18.10</td><td>0.614</td><td>6.185</td><td>96.7</td><td>2.1705</td><td>24</td><td>666</td><td>20.2</td><td>379.70</td><td>18.03</td><td>14.6</td></tr>\n",
       "\t<tr><th scope=row>480</th><td>14.33370</td><td>0</td><td>18.10</td><td>0.614</td><td>6.229</td><td>88.0</td><td>1.9512</td><td>24</td><td>666</td><td>20.2</td><td>383.32</td><td>13.11</td><td>21.4</td></tr>\n",
       "\t<tr><th scope=row>481</th><td> 5.82401</td><td>0</td><td>18.10</td><td>0.532</td><td>6.242</td><td>64.7</td><td>3.4242</td><td>24</td><td>666</td><td>20.2</td><td>396.90</td><td>10.74</td><td>23.0</td></tr>\n",
       "\t<tr><th scope=row>482</th><td> 5.70818</td><td>0</td><td>18.10</td><td>0.532</td><td>6.750</td><td>74.9</td><td>3.3317</td><td>24</td><td>666</td><td>20.2</td><td>393.07</td><td> 7.74</td><td>23.7</td></tr>\n",
       "\t<tr><th scope=row>483</th><td> 5.73116</td><td>0</td><td>18.10</td><td>0.532</td><td>7.061</td><td>77.0</td><td>3.4106</td><td>24</td><td>666</td><td>20.2</td><td>395.28</td><td> 7.01</td><td>25.0</td></tr>\n",
       "\t<tr><th scope=row>484</th><td> 2.81838</td><td>0</td><td>18.10</td><td>0.532</td><td>5.762</td><td>40.3</td><td>4.0983</td><td>24</td><td>666</td><td>20.2</td><td>392.92</td><td>10.42</td><td>21.8</td></tr>\n",
       "\t<tr><th scope=row>485</th><td> 2.37857</td><td>0</td><td>18.10</td><td>0.583</td><td>5.871</td><td>41.9</td><td>3.7240</td><td>24</td><td>666</td><td>20.2</td><td>370.73</td><td>13.34</td><td>20.6</td></tr>\n",
       "\t<tr><th scope=row>486</th><td> 3.67367</td><td>0</td><td>18.10</td><td>0.583</td><td>6.312</td><td>51.9</td><td>3.9917</td><td>24</td><td>666</td><td>20.2</td><td>388.62</td><td>10.58</td><td>21.2</td></tr>\n",
       "\t<tr><th scope=row>487</th><td> 5.69175</td><td>0</td><td>18.10</td><td>0.583</td><td>6.114</td><td>79.8</td><td>3.5459</td><td>24</td><td>666</td><td>20.2</td><td>392.68</td><td>14.98</td><td>19.1</td></tr>\n",
       "\t<tr><th scope=row>488</th><td> 4.83567</td><td>0</td><td>18.10</td><td>0.583</td><td>5.905</td><td>53.2</td><td>3.1523</td><td>24</td><td>666</td><td>20.2</td><td>388.22</td><td>11.45</td><td>20.6</td></tr>\n",
       "\t<tr><th scope=row>489</th><td> 0.15086</td><td>0</td><td>27.74</td><td>0.609</td><td>5.454</td><td>92.7</td><td>1.8209</td><td> 4</td><td>711</td><td>20.1</td><td>395.09</td><td>18.06</td><td>15.2</td></tr>\n",
       "\t<tr><th scope=row>490</th><td> 0.18337</td><td>0</td><td>27.74</td><td>0.609</td><td>5.414</td><td>98.3</td><td>1.7554</td><td> 4</td><td>711</td><td>20.1</td><td>344.05</td><td>23.97</td><td> 7.0</td></tr>\n",
       "\t<tr><th scope=row>491</th><td> 0.20746</td><td>0</td><td>27.74</td><td>0.609</td><td>5.093</td><td>98.0</td><td>1.8226</td><td> 4</td><td>711</td><td>20.1</td><td>318.43</td><td>29.68</td><td> 8.1</td></tr>\n",
       "\t<tr><th scope=row>492</th><td> 0.10574</td><td>0</td><td>27.74</td><td>0.609</td><td>5.983</td><td>98.8</td><td>1.8681</td><td> 4</td><td>711</td><td>20.1</td><td>390.11</td><td>18.07</td><td>13.6</td></tr>\n",
       "\t<tr><th scope=row>493</th><td> 0.11132</td><td>0</td><td>27.74</td><td>0.609</td><td>5.983</td><td>83.5</td><td>2.1099</td><td> 4</td><td>711</td><td>20.1</td><td>396.90</td><td>13.35</td><td>20.1</td></tr>\n",
       "\t<tr><th scope=row>494</th><td> 0.17331</td><td>0</td><td> 9.69</td><td>0.585</td><td>5.707</td><td>54.0</td><td>2.3817</td><td> 6</td><td>391</td><td>19.2</td><td>396.90</td><td>12.01</td><td>21.8</td></tr>\n",
       "\t<tr><th scope=row>495</th><td> 0.27957</td><td>0</td><td> 9.69</td><td>0.585</td><td>5.926</td><td>42.6</td><td>2.3817</td><td> 6</td><td>391</td><td>19.2</td><td>396.90</td><td>13.59</td><td>24.5</td></tr>\n",
       "\t<tr><th scope=row>496</th><td> 0.17899</td><td>0</td><td> 9.69</td><td>0.585</td><td>5.670</td><td>28.8</td><td>2.7986</td><td> 6</td><td>391</td><td>19.2</td><td>393.29</td><td>17.60</td><td>23.1</td></tr>\n",
       "\t<tr><th scope=row>497</th><td> 0.28960</td><td>0</td><td> 9.69</td><td>0.585</td><td>5.390</td><td>72.9</td><td>2.7986</td><td> 6</td><td>391</td><td>19.2</td><td>396.90</td><td>21.14</td><td>19.7</td></tr>\n",
       "\t<tr><th scope=row>498</th><td> 0.26838</td><td>0</td><td> 9.69</td><td>0.585</td><td>5.794</td><td>70.6</td><td>2.8927</td><td> 6</td><td>391</td><td>19.2</td><td>396.90</td><td>14.10</td><td>18.3</td></tr>\n",
       "\t<tr><th scope=row>499</th><td> 0.23912</td><td>0</td><td> 9.69</td><td>0.585</td><td>6.019</td><td>65.3</td><td>2.4091</td><td> 6</td><td>391</td><td>19.2</td><td>396.90</td><td>12.92</td><td>21.2</td></tr>\n",
       "\t<tr><th scope=row>500</th><td> 0.17783</td><td>0</td><td> 9.69</td><td>0.585</td><td>5.569</td><td>73.5</td><td>2.3999</td><td> 6</td><td>391</td><td>19.2</td><td>395.77</td><td>15.10</td><td>17.5</td></tr>\n",
       "\t<tr><th scope=row>501</th><td> 0.22438</td><td>0</td><td> 9.69</td><td>0.585</td><td>6.027</td><td>79.7</td><td>2.4982</td><td> 6</td><td>391</td><td>19.2</td><td>396.90</td><td>14.33</td><td>16.8</td></tr>\n",
       "\t<tr><th scope=row>502</th><td> 0.06263</td><td>0</td><td>11.93</td><td>0.573</td><td>6.593</td><td>69.1</td><td>2.4786</td><td> 1</td><td>273</td><td>21.0</td><td>391.99</td><td> 9.67</td><td>22.4</td></tr>\n",
       "\t<tr><th scope=row>503</th><td> 0.04527</td><td>0</td><td>11.93</td><td>0.573</td><td>6.120</td><td>76.7</td><td>2.2875</td><td> 1</td><td>273</td><td>21.0</td><td>396.90</td><td> 9.08</td><td>20.6</td></tr>\n",
       "\t<tr><th scope=row>504</th><td> 0.06076</td><td>0</td><td>11.93</td><td>0.573</td><td>6.976</td><td>91.0</td><td>2.1675</td><td> 1</td><td>273</td><td>21.0</td><td>396.90</td><td> 5.64</td><td>23.9</td></tr>\n",
       "\t<tr><th scope=row>505</th><td> 0.10959</td><td>0</td><td>11.93</td><td>0.573</td><td>6.794</td><td>89.3</td><td>2.3889</td><td> 1</td><td>273</td><td>21.0</td><td>393.45</td><td> 6.48</td><td>22.0</td></tr>\n",
       "\t<tr><th scope=row>506</th><td> 0.04741</td><td>0</td><td>11.93</td><td>0.573</td><td>6.030</td><td>80.8</td><td>2.5050</td><td> 1</td><td>273</td><td>21.0</td><td>396.90</td><td> 7.88</td><td>11.9</td></tr>\n",
       "</tbody>\n",
       "</table>\n"
      ],
      "text/latex": [
       "A data.frame: 506 × 13\n",
       "\\begin{tabular}{r|lllllllllllll}\n",
       "  & crim & zn & indus & nox & rm & age & dis & rad & tax & ptratio & b & lstat & medv\\\\\n",
       "  & <dbl> & <dbl> & <dbl> & <dbl> & <dbl> & <dbl> & <dbl> & <dbl> & <dbl> & <dbl> & <dbl> & <dbl> & <dbl>\\\\\n",
       "\\hline\n",
       "\t1 & 0.00632 & 18.0 & 2.31 & 0.538 & 6.575 &  65.2 & 4.0900 & 1 & 296 & 15.3 & 396.90 &  4.98 & 24.0\\\\\n",
       "\t2 & 0.02731 &  0.0 & 7.07 & 0.469 & 6.421 &  78.9 & 4.9671 & 2 & 242 & 17.8 & 396.90 &  9.14 & 21.6\\\\\n",
       "\t3 & 0.02729 &  0.0 & 7.07 & 0.469 & 7.185 &  61.1 & 4.9671 & 2 & 242 & 17.8 & 392.83 &  4.03 & 34.7\\\\\n",
       "\t4 & 0.03237 &  0.0 & 2.18 & 0.458 & 6.998 &  45.8 & 6.0622 & 3 & 222 & 18.7 & 394.63 &  2.94 & 33.4\\\\\n",
       "\t5 & 0.06905 &  0.0 & 2.18 & 0.458 & 7.147 &  54.2 & 6.0622 & 3 & 222 & 18.7 & 396.90 &  5.33 & 36.2\\\\\n",
       "\t6 & 0.02985 &  0.0 & 2.18 & 0.458 & 6.430 &  58.7 & 6.0622 & 3 & 222 & 18.7 & 394.12 &  5.21 & 28.7\\\\\n",
       "\t7 & 0.08829 & 12.5 & 7.87 & 0.524 & 6.012 &  66.6 & 5.5605 & 5 & 311 & 15.2 & 395.60 & 12.43 & 22.9\\\\\n",
       "\t8 & 0.14455 & 12.5 & 7.87 & 0.524 & 6.172 &  96.1 & 5.9505 & 5 & 311 & 15.2 & 396.90 & 19.15 & 27.1\\\\\n",
       "\t9 & 0.21124 & 12.5 & 7.87 & 0.524 & 5.631 & 100.0 & 6.0821 & 5 & 311 & 15.2 & 386.63 & 29.93 & 16.5\\\\\n",
       "\t10 & 0.17004 & 12.5 & 7.87 & 0.524 & 6.004 &  85.9 & 6.5921 & 5 & 311 & 15.2 & 386.71 & 17.10 & 18.9\\\\\n",
       "\t11 & 0.22489 & 12.5 & 7.87 & 0.524 & 6.377 &  94.3 & 6.3467 & 5 & 311 & 15.2 & 392.52 & 20.45 & 15.0\\\\\n",
       "\t12 & 0.11747 & 12.5 & 7.87 & 0.524 & 6.009 &  82.9 & 6.2267 & 5 & 311 & 15.2 & 396.90 & 13.27 & 18.9\\\\\n",
       "\t13 & 0.09378 & 12.5 & 7.87 & 0.524 & 5.889 &  39.0 & 5.4509 & 5 & 311 & 15.2 & 390.50 & 15.71 & 21.7\\\\\n",
       "\t14 & 0.62976 &  0.0 & 8.14 & 0.538 & 5.949 &  61.8 & 4.7075 & 4 & 307 & 21.0 & 396.90 &  8.26 & 20.4\\\\\n",
       "\t15 & 0.63796 &  0.0 & 8.14 & 0.538 & 6.096 &  84.5 & 4.4619 & 4 & 307 & 21.0 & 380.02 & 10.26 & 18.2\\\\\n",
       "\t16 & 0.62739 &  0.0 & 8.14 & 0.538 & 5.834 &  56.5 & 4.4986 & 4 & 307 & 21.0 & 395.62 &  8.47 & 19.9\\\\\n",
       "\t17 & 1.05393 &  0.0 & 8.14 & 0.538 & 5.935 &  29.3 & 4.4986 & 4 & 307 & 21.0 & 386.85 &  6.58 & 23.1\\\\\n",
       "\t18 & 0.78420 &  0.0 & 8.14 & 0.538 & 5.990 &  81.7 & 4.2579 & 4 & 307 & 21.0 & 386.75 & 14.67 & 17.5\\\\\n",
       "\t19 & 0.80271 &  0.0 & 8.14 & 0.538 & 5.456 &  36.6 & 3.7965 & 4 & 307 & 21.0 & 288.99 & 11.69 & 20.2\\\\\n",
       "\t20 & 0.72580 &  0.0 & 8.14 & 0.538 & 5.727 &  69.5 & 3.7965 & 4 & 307 & 21.0 & 390.95 & 11.28 & 18.2\\\\\n",
       "\t21 & 1.25179 &  0.0 & 8.14 & 0.538 & 5.570 &  98.1 & 3.7979 & 4 & 307 & 21.0 & 376.57 & 21.02 & 13.6\\\\\n",
       "\t22 & 0.85204 &  0.0 & 8.14 & 0.538 & 5.965 &  89.2 & 4.0123 & 4 & 307 & 21.0 & 392.53 & 13.83 & 19.6\\\\\n",
       "\t23 & 1.23247 &  0.0 & 8.14 & 0.538 & 6.142 &  91.7 & 3.9769 & 4 & 307 & 21.0 & 396.90 & 18.72 & 15.2\\\\\n",
       "\t24 & 0.98843 &  0.0 & 8.14 & 0.538 & 5.813 & 100.0 & 4.0952 & 4 & 307 & 21.0 & 394.54 & 19.88 & 14.5\\\\\n",
       "\t25 & 0.75026 &  0.0 & 8.14 & 0.538 & 5.924 &  94.1 & 4.3996 & 4 & 307 & 21.0 & 394.33 & 16.30 & 15.6\\\\\n",
       "\t26 & 0.84054 &  0.0 & 8.14 & 0.538 & 5.599 &  85.7 & 4.4546 & 4 & 307 & 21.0 & 303.42 & 16.51 & 13.9\\\\\n",
       "\t27 & 0.67191 &  0.0 & 8.14 & 0.538 & 5.813 &  90.3 & 4.6820 & 4 & 307 & 21.0 & 376.88 & 14.81 & 16.6\\\\\n",
       "\t28 & 0.95577 &  0.0 & 8.14 & 0.538 & 6.047 &  88.8 & 4.4534 & 4 & 307 & 21.0 & 306.38 & 17.28 & 14.8\\\\\n",
       "\t29 & 0.77299 &  0.0 & 8.14 & 0.538 & 6.495 &  94.4 & 4.4547 & 4 & 307 & 21.0 & 387.94 & 12.80 & 18.4\\\\\n",
       "\t30 & 1.00245 &  0.0 & 8.14 & 0.538 & 6.674 &  87.3 & 4.2390 & 4 & 307 & 21.0 & 380.23 & 11.98 & 21.0\\\\\n",
       "\t⋮ & ⋮ & ⋮ & ⋮ & ⋮ & ⋮ & ⋮ & ⋮ & ⋮ & ⋮ & ⋮ & ⋮ & ⋮ & ⋮\\\\\n",
       "\t477 &  4.87141 & 0 & 18.10 & 0.614 & 6.484 & 93.6 & 2.3053 & 24 & 666 & 20.2 & 396.21 & 18.68 & 16.7\\\\\n",
       "\t478 & 15.02340 & 0 & 18.10 & 0.614 & 5.304 & 97.3 & 2.1007 & 24 & 666 & 20.2 & 349.48 & 24.91 & 12.0\\\\\n",
       "\t479 & 10.23300 & 0 & 18.10 & 0.614 & 6.185 & 96.7 & 2.1705 & 24 & 666 & 20.2 & 379.70 & 18.03 & 14.6\\\\\n",
       "\t480 & 14.33370 & 0 & 18.10 & 0.614 & 6.229 & 88.0 & 1.9512 & 24 & 666 & 20.2 & 383.32 & 13.11 & 21.4\\\\\n",
       "\t481 &  5.82401 & 0 & 18.10 & 0.532 & 6.242 & 64.7 & 3.4242 & 24 & 666 & 20.2 & 396.90 & 10.74 & 23.0\\\\\n",
       "\t482 &  5.70818 & 0 & 18.10 & 0.532 & 6.750 & 74.9 & 3.3317 & 24 & 666 & 20.2 & 393.07 &  7.74 & 23.7\\\\\n",
       "\t483 &  5.73116 & 0 & 18.10 & 0.532 & 7.061 & 77.0 & 3.4106 & 24 & 666 & 20.2 & 395.28 &  7.01 & 25.0\\\\\n",
       "\t484 &  2.81838 & 0 & 18.10 & 0.532 & 5.762 & 40.3 & 4.0983 & 24 & 666 & 20.2 & 392.92 & 10.42 & 21.8\\\\\n",
       "\t485 &  2.37857 & 0 & 18.10 & 0.583 & 5.871 & 41.9 & 3.7240 & 24 & 666 & 20.2 & 370.73 & 13.34 & 20.6\\\\\n",
       "\t486 &  3.67367 & 0 & 18.10 & 0.583 & 6.312 & 51.9 & 3.9917 & 24 & 666 & 20.2 & 388.62 & 10.58 & 21.2\\\\\n",
       "\t487 &  5.69175 & 0 & 18.10 & 0.583 & 6.114 & 79.8 & 3.5459 & 24 & 666 & 20.2 & 392.68 & 14.98 & 19.1\\\\\n",
       "\t488 &  4.83567 & 0 & 18.10 & 0.583 & 5.905 & 53.2 & 3.1523 & 24 & 666 & 20.2 & 388.22 & 11.45 & 20.6\\\\\n",
       "\t489 &  0.15086 & 0 & 27.74 & 0.609 & 5.454 & 92.7 & 1.8209 &  4 & 711 & 20.1 & 395.09 & 18.06 & 15.2\\\\\n",
       "\t490 &  0.18337 & 0 & 27.74 & 0.609 & 5.414 & 98.3 & 1.7554 &  4 & 711 & 20.1 & 344.05 & 23.97 &  7.0\\\\\n",
       "\t491 &  0.20746 & 0 & 27.74 & 0.609 & 5.093 & 98.0 & 1.8226 &  4 & 711 & 20.1 & 318.43 & 29.68 &  8.1\\\\\n",
       "\t492 &  0.10574 & 0 & 27.74 & 0.609 & 5.983 & 98.8 & 1.8681 &  4 & 711 & 20.1 & 390.11 & 18.07 & 13.6\\\\\n",
       "\t493 &  0.11132 & 0 & 27.74 & 0.609 & 5.983 & 83.5 & 2.1099 &  4 & 711 & 20.1 & 396.90 & 13.35 & 20.1\\\\\n",
       "\t494 &  0.17331 & 0 &  9.69 & 0.585 & 5.707 & 54.0 & 2.3817 &  6 & 391 & 19.2 & 396.90 & 12.01 & 21.8\\\\\n",
       "\t495 &  0.27957 & 0 &  9.69 & 0.585 & 5.926 & 42.6 & 2.3817 &  6 & 391 & 19.2 & 396.90 & 13.59 & 24.5\\\\\n",
       "\t496 &  0.17899 & 0 &  9.69 & 0.585 & 5.670 & 28.8 & 2.7986 &  6 & 391 & 19.2 & 393.29 & 17.60 & 23.1\\\\\n",
       "\t497 &  0.28960 & 0 &  9.69 & 0.585 & 5.390 & 72.9 & 2.7986 &  6 & 391 & 19.2 & 396.90 & 21.14 & 19.7\\\\\n",
       "\t498 &  0.26838 & 0 &  9.69 & 0.585 & 5.794 & 70.6 & 2.8927 &  6 & 391 & 19.2 & 396.90 & 14.10 & 18.3\\\\\n",
       "\t499 &  0.23912 & 0 &  9.69 & 0.585 & 6.019 & 65.3 & 2.4091 &  6 & 391 & 19.2 & 396.90 & 12.92 & 21.2\\\\\n",
       "\t500 &  0.17783 & 0 &  9.69 & 0.585 & 5.569 & 73.5 & 2.3999 &  6 & 391 & 19.2 & 395.77 & 15.10 & 17.5\\\\\n",
       "\t501 &  0.22438 & 0 &  9.69 & 0.585 & 6.027 & 79.7 & 2.4982 &  6 & 391 & 19.2 & 396.90 & 14.33 & 16.8\\\\\n",
       "\t502 &  0.06263 & 0 & 11.93 & 0.573 & 6.593 & 69.1 & 2.4786 &  1 & 273 & 21.0 & 391.99 &  9.67 & 22.4\\\\\n",
       "\t503 &  0.04527 & 0 & 11.93 & 0.573 & 6.120 & 76.7 & 2.2875 &  1 & 273 & 21.0 & 396.90 &  9.08 & 20.6\\\\\n",
       "\t504 &  0.06076 & 0 & 11.93 & 0.573 & 6.976 & 91.0 & 2.1675 &  1 & 273 & 21.0 & 396.90 &  5.64 & 23.9\\\\\n",
       "\t505 &  0.10959 & 0 & 11.93 & 0.573 & 6.794 & 89.3 & 2.3889 &  1 & 273 & 21.0 & 393.45 &  6.48 & 22.0\\\\\n",
       "\t506 &  0.04741 & 0 & 11.93 & 0.573 & 6.030 & 80.8 & 2.5050 &  1 & 273 & 21.0 & 396.90 &  7.88 & 11.9\\\\\n",
       "\\end{tabular}\n"
      ],
      "text/markdown": [
       "\n",
       "A data.frame: 506 × 13\n",
       "\n",
       "| <!--/--> | crim &lt;dbl&gt; | zn &lt;dbl&gt; | indus &lt;dbl&gt; | nox &lt;dbl&gt; | rm &lt;dbl&gt; | age &lt;dbl&gt; | dis &lt;dbl&gt; | rad &lt;dbl&gt; | tax &lt;dbl&gt; | ptratio &lt;dbl&gt; | b &lt;dbl&gt; | lstat &lt;dbl&gt; | medv &lt;dbl&gt; |\n",
       "|---|---|---|---|---|---|---|---|---|---|---|---|---|---|\n",
       "| 1 | 0.00632 | 18.0 | 2.31 | 0.538 | 6.575 |  65.2 | 4.0900 | 1 | 296 | 15.3 | 396.90 |  4.98 | 24.0 |\n",
       "| 2 | 0.02731 |  0.0 | 7.07 | 0.469 | 6.421 |  78.9 | 4.9671 | 2 | 242 | 17.8 | 396.90 |  9.14 | 21.6 |\n",
       "| 3 | 0.02729 |  0.0 | 7.07 | 0.469 | 7.185 |  61.1 | 4.9671 | 2 | 242 | 17.8 | 392.83 |  4.03 | 34.7 |\n",
       "| 4 | 0.03237 |  0.0 | 2.18 | 0.458 | 6.998 |  45.8 | 6.0622 | 3 | 222 | 18.7 | 394.63 |  2.94 | 33.4 |\n",
       "| 5 | 0.06905 |  0.0 | 2.18 | 0.458 | 7.147 |  54.2 | 6.0622 | 3 | 222 | 18.7 | 396.90 |  5.33 | 36.2 |\n",
       "| 6 | 0.02985 |  0.0 | 2.18 | 0.458 | 6.430 |  58.7 | 6.0622 | 3 | 222 | 18.7 | 394.12 |  5.21 | 28.7 |\n",
       "| 7 | 0.08829 | 12.5 | 7.87 | 0.524 | 6.012 |  66.6 | 5.5605 | 5 | 311 | 15.2 | 395.60 | 12.43 | 22.9 |\n",
       "| 8 | 0.14455 | 12.5 | 7.87 | 0.524 | 6.172 |  96.1 | 5.9505 | 5 | 311 | 15.2 | 396.90 | 19.15 | 27.1 |\n",
       "| 9 | 0.21124 | 12.5 | 7.87 | 0.524 | 5.631 | 100.0 | 6.0821 | 5 | 311 | 15.2 | 386.63 | 29.93 | 16.5 |\n",
       "| 10 | 0.17004 | 12.5 | 7.87 | 0.524 | 6.004 |  85.9 | 6.5921 | 5 | 311 | 15.2 | 386.71 | 17.10 | 18.9 |\n",
       "| 11 | 0.22489 | 12.5 | 7.87 | 0.524 | 6.377 |  94.3 | 6.3467 | 5 | 311 | 15.2 | 392.52 | 20.45 | 15.0 |\n",
       "| 12 | 0.11747 | 12.5 | 7.87 | 0.524 | 6.009 |  82.9 | 6.2267 | 5 | 311 | 15.2 | 396.90 | 13.27 | 18.9 |\n",
       "| 13 | 0.09378 | 12.5 | 7.87 | 0.524 | 5.889 |  39.0 | 5.4509 | 5 | 311 | 15.2 | 390.50 | 15.71 | 21.7 |\n",
       "| 14 | 0.62976 |  0.0 | 8.14 | 0.538 | 5.949 |  61.8 | 4.7075 | 4 | 307 | 21.0 | 396.90 |  8.26 | 20.4 |\n",
       "| 15 | 0.63796 |  0.0 | 8.14 | 0.538 | 6.096 |  84.5 | 4.4619 | 4 | 307 | 21.0 | 380.02 | 10.26 | 18.2 |\n",
       "| 16 | 0.62739 |  0.0 | 8.14 | 0.538 | 5.834 |  56.5 | 4.4986 | 4 | 307 | 21.0 | 395.62 |  8.47 | 19.9 |\n",
       "| 17 | 1.05393 |  0.0 | 8.14 | 0.538 | 5.935 |  29.3 | 4.4986 | 4 | 307 | 21.0 | 386.85 |  6.58 | 23.1 |\n",
       "| 18 | 0.78420 |  0.0 | 8.14 | 0.538 | 5.990 |  81.7 | 4.2579 | 4 | 307 | 21.0 | 386.75 | 14.67 | 17.5 |\n",
       "| 19 | 0.80271 |  0.0 | 8.14 | 0.538 | 5.456 |  36.6 | 3.7965 | 4 | 307 | 21.0 | 288.99 | 11.69 | 20.2 |\n",
       "| 20 | 0.72580 |  0.0 | 8.14 | 0.538 | 5.727 |  69.5 | 3.7965 | 4 | 307 | 21.0 | 390.95 | 11.28 | 18.2 |\n",
       "| 21 | 1.25179 |  0.0 | 8.14 | 0.538 | 5.570 |  98.1 | 3.7979 | 4 | 307 | 21.0 | 376.57 | 21.02 | 13.6 |\n",
       "| 22 | 0.85204 |  0.0 | 8.14 | 0.538 | 5.965 |  89.2 | 4.0123 | 4 | 307 | 21.0 | 392.53 | 13.83 | 19.6 |\n",
       "| 23 | 1.23247 |  0.0 | 8.14 | 0.538 | 6.142 |  91.7 | 3.9769 | 4 | 307 | 21.0 | 396.90 | 18.72 | 15.2 |\n",
       "| 24 | 0.98843 |  0.0 | 8.14 | 0.538 | 5.813 | 100.0 | 4.0952 | 4 | 307 | 21.0 | 394.54 | 19.88 | 14.5 |\n",
       "| 25 | 0.75026 |  0.0 | 8.14 | 0.538 | 5.924 |  94.1 | 4.3996 | 4 | 307 | 21.0 | 394.33 | 16.30 | 15.6 |\n",
       "| 26 | 0.84054 |  0.0 | 8.14 | 0.538 | 5.599 |  85.7 | 4.4546 | 4 | 307 | 21.0 | 303.42 | 16.51 | 13.9 |\n",
       "| 27 | 0.67191 |  0.0 | 8.14 | 0.538 | 5.813 |  90.3 | 4.6820 | 4 | 307 | 21.0 | 376.88 | 14.81 | 16.6 |\n",
       "| 28 | 0.95577 |  0.0 | 8.14 | 0.538 | 6.047 |  88.8 | 4.4534 | 4 | 307 | 21.0 | 306.38 | 17.28 | 14.8 |\n",
       "| 29 | 0.77299 |  0.0 | 8.14 | 0.538 | 6.495 |  94.4 | 4.4547 | 4 | 307 | 21.0 | 387.94 | 12.80 | 18.4 |\n",
       "| 30 | 1.00245 |  0.0 | 8.14 | 0.538 | 6.674 |  87.3 | 4.2390 | 4 | 307 | 21.0 | 380.23 | 11.98 | 21.0 |\n",
       "| ⋮ | ⋮ | ⋮ | ⋮ | ⋮ | ⋮ | ⋮ | ⋮ | ⋮ | ⋮ | ⋮ | ⋮ | ⋮ | ⋮ |\n",
       "| 477 |  4.87141 | 0 | 18.10 | 0.614 | 6.484 | 93.6 | 2.3053 | 24 | 666 | 20.2 | 396.21 | 18.68 | 16.7 |\n",
       "| 478 | 15.02340 | 0 | 18.10 | 0.614 | 5.304 | 97.3 | 2.1007 | 24 | 666 | 20.2 | 349.48 | 24.91 | 12.0 |\n",
       "| 479 | 10.23300 | 0 | 18.10 | 0.614 | 6.185 | 96.7 | 2.1705 | 24 | 666 | 20.2 | 379.70 | 18.03 | 14.6 |\n",
       "| 480 | 14.33370 | 0 | 18.10 | 0.614 | 6.229 | 88.0 | 1.9512 | 24 | 666 | 20.2 | 383.32 | 13.11 | 21.4 |\n",
       "| 481 |  5.82401 | 0 | 18.10 | 0.532 | 6.242 | 64.7 | 3.4242 | 24 | 666 | 20.2 | 396.90 | 10.74 | 23.0 |\n",
       "| 482 |  5.70818 | 0 | 18.10 | 0.532 | 6.750 | 74.9 | 3.3317 | 24 | 666 | 20.2 | 393.07 |  7.74 | 23.7 |\n",
       "| 483 |  5.73116 | 0 | 18.10 | 0.532 | 7.061 | 77.0 | 3.4106 | 24 | 666 | 20.2 | 395.28 |  7.01 | 25.0 |\n",
       "| 484 |  2.81838 | 0 | 18.10 | 0.532 | 5.762 | 40.3 | 4.0983 | 24 | 666 | 20.2 | 392.92 | 10.42 | 21.8 |\n",
       "| 485 |  2.37857 | 0 | 18.10 | 0.583 | 5.871 | 41.9 | 3.7240 | 24 | 666 | 20.2 | 370.73 | 13.34 | 20.6 |\n",
       "| 486 |  3.67367 | 0 | 18.10 | 0.583 | 6.312 | 51.9 | 3.9917 | 24 | 666 | 20.2 | 388.62 | 10.58 | 21.2 |\n",
       "| 487 |  5.69175 | 0 | 18.10 | 0.583 | 6.114 | 79.8 | 3.5459 | 24 | 666 | 20.2 | 392.68 | 14.98 | 19.1 |\n",
       "| 488 |  4.83567 | 0 | 18.10 | 0.583 | 5.905 | 53.2 | 3.1523 | 24 | 666 | 20.2 | 388.22 | 11.45 | 20.6 |\n",
       "| 489 |  0.15086 | 0 | 27.74 | 0.609 | 5.454 | 92.7 | 1.8209 |  4 | 711 | 20.1 | 395.09 | 18.06 | 15.2 |\n",
       "| 490 |  0.18337 | 0 | 27.74 | 0.609 | 5.414 | 98.3 | 1.7554 |  4 | 711 | 20.1 | 344.05 | 23.97 |  7.0 |\n",
       "| 491 |  0.20746 | 0 | 27.74 | 0.609 | 5.093 | 98.0 | 1.8226 |  4 | 711 | 20.1 | 318.43 | 29.68 |  8.1 |\n",
       "| 492 |  0.10574 | 0 | 27.74 | 0.609 | 5.983 | 98.8 | 1.8681 |  4 | 711 | 20.1 | 390.11 | 18.07 | 13.6 |\n",
       "| 493 |  0.11132 | 0 | 27.74 | 0.609 | 5.983 | 83.5 | 2.1099 |  4 | 711 | 20.1 | 396.90 | 13.35 | 20.1 |\n",
       "| 494 |  0.17331 | 0 |  9.69 | 0.585 | 5.707 | 54.0 | 2.3817 |  6 | 391 | 19.2 | 396.90 | 12.01 | 21.8 |\n",
       "| 495 |  0.27957 | 0 |  9.69 | 0.585 | 5.926 | 42.6 | 2.3817 |  6 | 391 | 19.2 | 396.90 | 13.59 | 24.5 |\n",
       "| 496 |  0.17899 | 0 |  9.69 | 0.585 | 5.670 | 28.8 | 2.7986 |  6 | 391 | 19.2 | 393.29 | 17.60 | 23.1 |\n",
       "| 497 |  0.28960 | 0 |  9.69 | 0.585 | 5.390 | 72.9 | 2.7986 |  6 | 391 | 19.2 | 396.90 | 21.14 | 19.7 |\n",
       "| 498 |  0.26838 | 0 |  9.69 | 0.585 | 5.794 | 70.6 | 2.8927 |  6 | 391 | 19.2 | 396.90 | 14.10 | 18.3 |\n",
       "| 499 |  0.23912 | 0 |  9.69 | 0.585 | 6.019 | 65.3 | 2.4091 |  6 | 391 | 19.2 | 396.90 | 12.92 | 21.2 |\n",
       "| 500 |  0.17783 | 0 |  9.69 | 0.585 | 5.569 | 73.5 | 2.3999 |  6 | 391 | 19.2 | 395.77 | 15.10 | 17.5 |\n",
       "| 501 |  0.22438 | 0 |  9.69 | 0.585 | 6.027 | 79.7 | 2.4982 |  6 | 391 | 19.2 | 396.90 | 14.33 | 16.8 |\n",
       "| 502 |  0.06263 | 0 | 11.93 | 0.573 | 6.593 | 69.1 | 2.4786 |  1 | 273 | 21.0 | 391.99 |  9.67 | 22.4 |\n",
       "| 503 |  0.04527 | 0 | 11.93 | 0.573 | 6.120 | 76.7 | 2.2875 |  1 | 273 | 21.0 | 396.90 |  9.08 | 20.6 |\n",
       "| 504 |  0.06076 | 0 | 11.93 | 0.573 | 6.976 | 91.0 | 2.1675 |  1 | 273 | 21.0 | 396.90 |  5.64 | 23.9 |\n",
       "| 505 |  0.10959 | 0 | 11.93 | 0.573 | 6.794 | 89.3 | 2.3889 |  1 | 273 | 21.0 | 393.45 |  6.48 | 22.0 |\n",
       "| 506 |  0.04741 | 0 | 11.93 | 0.573 | 6.030 | 80.8 | 2.5050 |  1 | 273 | 21.0 | 396.90 |  7.88 | 11.9 |\n",
       "\n"
      ],
      "text/plain": [
       "    crim     zn   indus nox   rm    age   dis    rad tax ptratio b      lstat\n",
       "1   0.00632  18.0 2.31  0.538 6.575  65.2 4.0900 1   296 15.3    396.90  4.98\n",
       "2   0.02731   0.0 7.07  0.469 6.421  78.9 4.9671 2   242 17.8    396.90  9.14\n",
       "3   0.02729   0.0 7.07  0.469 7.185  61.1 4.9671 2   242 17.8    392.83  4.03\n",
       "4   0.03237   0.0 2.18  0.458 6.998  45.8 6.0622 3   222 18.7    394.63  2.94\n",
       "5   0.06905   0.0 2.18  0.458 7.147  54.2 6.0622 3   222 18.7    396.90  5.33\n",
       "6   0.02985   0.0 2.18  0.458 6.430  58.7 6.0622 3   222 18.7    394.12  5.21\n",
       "7   0.08829  12.5 7.87  0.524 6.012  66.6 5.5605 5   311 15.2    395.60 12.43\n",
       "8   0.14455  12.5 7.87  0.524 6.172  96.1 5.9505 5   311 15.2    396.90 19.15\n",
       "9   0.21124  12.5 7.87  0.524 5.631 100.0 6.0821 5   311 15.2    386.63 29.93\n",
       "10  0.17004  12.5 7.87  0.524 6.004  85.9 6.5921 5   311 15.2    386.71 17.10\n",
       "11  0.22489  12.5 7.87  0.524 6.377  94.3 6.3467 5   311 15.2    392.52 20.45\n",
       "12  0.11747  12.5 7.87  0.524 6.009  82.9 6.2267 5   311 15.2    396.90 13.27\n",
       "13  0.09378  12.5 7.87  0.524 5.889  39.0 5.4509 5   311 15.2    390.50 15.71\n",
       "14  0.62976   0.0 8.14  0.538 5.949  61.8 4.7075 4   307 21.0    396.90  8.26\n",
       "15  0.63796   0.0 8.14  0.538 6.096  84.5 4.4619 4   307 21.0    380.02 10.26\n",
       "16  0.62739   0.0 8.14  0.538 5.834  56.5 4.4986 4   307 21.0    395.62  8.47\n",
       "17  1.05393   0.0 8.14  0.538 5.935  29.3 4.4986 4   307 21.0    386.85  6.58\n",
       "18  0.78420   0.0 8.14  0.538 5.990  81.7 4.2579 4   307 21.0    386.75 14.67\n",
       "19  0.80271   0.0 8.14  0.538 5.456  36.6 3.7965 4   307 21.0    288.99 11.69\n",
       "20  0.72580   0.0 8.14  0.538 5.727  69.5 3.7965 4   307 21.0    390.95 11.28\n",
       "21  1.25179   0.0 8.14  0.538 5.570  98.1 3.7979 4   307 21.0    376.57 21.02\n",
       "22  0.85204   0.0 8.14  0.538 5.965  89.2 4.0123 4   307 21.0    392.53 13.83\n",
       "23  1.23247   0.0 8.14  0.538 6.142  91.7 3.9769 4   307 21.0    396.90 18.72\n",
       "24  0.98843   0.0 8.14  0.538 5.813 100.0 4.0952 4   307 21.0    394.54 19.88\n",
       "25  0.75026   0.0 8.14  0.538 5.924  94.1 4.3996 4   307 21.0    394.33 16.30\n",
       "26  0.84054   0.0 8.14  0.538 5.599  85.7 4.4546 4   307 21.0    303.42 16.51\n",
       "27  0.67191   0.0 8.14  0.538 5.813  90.3 4.6820 4   307 21.0    376.88 14.81\n",
       "28  0.95577   0.0 8.14  0.538 6.047  88.8 4.4534 4   307 21.0    306.38 17.28\n",
       "29  0.77299   0.0 8.14  0.538 6.495  94.4 4.4547 4   307 21.0    387.94 12.80\n",
       "30  1.00245   0.0 8.14  0.538 6.674  87.3 4.2390 4   307 21.0    380.23 11.98\n",
       "⋮   ⋮        ⋮    ⋮     ⋮     ⋮     ⋮     ⋮      ⋮   ⋮   ⋮       ⋮      ⋮    \n",
       "477  4.87141 0    18.10 0.614 6.484 93.6  2.3053 24  666 20.2    396.21 18.68\n",
       "478 15.02340 0    18.10 0.614 5.304 97.3  2.1007 24  666 20.2    349.48 24.91\n",
       "479 10.23300 0    18.10 0.614 6.185 96.7  2.1705 24  666 20.2    379.70 18.03\n",
       "480 14.33370 0    18.10 0.614 6.229 88.0  1.9512 24  666 20.2    383.32 13.11\n",
       "481  5.82401 0    18.10 0.532 6.242 64.7  3.4242 24  666 20.2    396.90 10.74\n",
       "482  5.70818 0    18.10 0.532 6.750 74.9  3.3317 24  666 20.2    393.07  7.74\n",
       "483  5.73116 0    18.10 0.532 7.061 77.0  3.4106 24  666 20.2    395.28  7.01\n",
       "484  2.81838 0    18.10 0.532 5.762 40.3  4.0983 24  666 20.2    392.92 10.42\n",
       "485  2.37857 0    18.10 0.583 5.871 41.9  3.7240 24  666 20.2    370.73 13.34\n",
       "486  3.67367 0    18.10 0.583 6.312 51.9  3.9917 24  666 20.2    388.62 10.58\n",
       "487  5.69175 0    18.10 0.583 6.114 79.8  3.5459 24  666 20.2    392.68 14.98\n",
       "488  4.83567 0    18.10 0.583 5.905 53.2  3.1523 24  666 20.2    388.22 11.45\n",
       "489  0.15086 0    27.74 0.609 5.454 92.7  1.8209  4  711 20.1    395.09 18.06\n",
       "490  0.18337 0    27.74 0.609 5.414 98.3  1.7554  4  711 20.1    344.05 23.97\n",
       "491  0.20746 0    27.74 0.609 5.093 98.0  1.8226  4  711 20.1    318.43 29.68\n",
       "492  0.10574 0    27.74 0.609 5.983 98.8  1.8681  4  711 20.1    390.11 18.07\n",
       "493  0.11132 0    27.74 0.609 5.983 83.5  2.1099  4  711 20.1    396.90 13.35\n",
       "494  0.17331 0     9.69 0.585 5.707 54.0  2.3817  6  391 19.2    396.90 12.01\n",
       "495  0.27957 0     9.69 0.585 5.926 42.6  2.3817  6  391 19.2    396.90 13.59\n",
       "496  0.17899 0     9.69 0.585 5.670 28.8  2.7986  6  391 19.2    393.29 17.60\n",
       "497  0.28960 0     9.69 0.585 5.390 72.9  2.7986  6  391 19.2    396.90 21.14\n",
       "498  0.26838 0     9.69 0.585 5.794 70.6  2.8927  6  391 19.2    396.90 14.10\n",
       "499  0.23912 0     9.69 0.585 6.019 65.3  2.4091  6  391 19.2    396.90 12.92\n",
       "500  0.17783 0     9.69 0.585 5.569 73.5  2.3999  6  391 19.2    395.77 15.10\n",
       "501  0.22438 0     9.69 0.585 6.027 79.7  2.4982  6  391 19.2    396.90 14.33\n",
       "502  0.06263 0    11.93 0.573 6.593 69.1  2.4786  1  273 21.0    391.99  9.67\n",
       "503  0.04527 0    11.93 0.573 6.120 76.7  2.2875  1  273 21.0    396.90  9.08\n",
       "504  0.06076 0    11.93 0.573 6.976 91.0  2.1675  1  273 21.0    396.90  5.64\n",
       "505  0.10959 0    11.93 0.573 6.794 89.3  2.3889  1  273 21.0    393.45  6.48\n",
       "506  0.04741 0    11.93 0.573 6.030 80.8  2.5050  1  273 21.0    396.90  7.88\n",
       "    medv\n",
       "1   24.0\n",
       "2   21.6\n",
       "3   34.7\n",
       "4   33.4\n",
       "5   36.2\n",
       "6   28.7\n",
       "7   22.9\n",
       "8   27.1\n",
       "9   16.5\n",
       "10  18.9\n",
       "11  15.0\n",
       "12  18.9\n",
       "13  21.7\n",
       "14  20.4\n",
       "15  18.2\n",
       "16  19.9\n",
       "17  23.1\n",
       "18  17.5\n",
       "19  20.2\n",
       "20  18.2\n",
       "21  13.6\n",
       "22  19.6\n",
       "23  15.2\n",
       "24  14.5\n",
       "25  15.6\n",
       "26  13.9\n",
       "27  16.6\n",
       "28  14.8\n",
       "29  18.4\n",
       "30  21.0\n",
       "⋮   ⋮   \n",
       "477 16.7\n",
       "478 12.0\n",
       "479 14.6\n",
       "480 21.4\n",
       "481 23.0\n",
       "482 23.7\n",
       "483 25.0\n",
       "484 21.8\n",
       "485 20.6\n",
       "486 21.2\n",
       "487 19.1\n",
       "488 20.6\n",
       "489 15.2\n",
       "490  7.0\n",
       "491  8.1\n",
       "492 13.6\n",
       "493 20.1\n",
       "494 21.8\n",
       "495 24.5\n",
       "496 23.1\n",
       "497 19.7\n",
       "498 18.3\n",
       "499 21.2\n",
       "500 17.5\n",
       "501 16.8\n",
       "502 22.4\n",
       "503 20.6\n",
       "504 23.9\n",
       "505 22.0\n",
       "506 11.9"
      ]
     },
     "metadata": {},
     "output_type": "display_data"
    }
   ],
   "source": [
    "ds = BostonHousing[,-4]\n",
    "ds"
   ]
  },
  {
   "cell_type": "code",
   "execution_count": 39,
   "id": "1610e682",
   "metadata": {},
   "outputs": [],
   "source": [
    "model = lm(medv~., data=ds)"
   ]
  },
  {
   "cell_type": "code",
   "execution_count": 40,
   "id": "7bf8e8f1",
   "metadata": {},
   "outputs": [
    {
     "data": {
      "text/plain": [
       "\n",
       "Call:\n",
       "lm(formula = medv ~ ., data = ds)\n",
       "\n",
       "Residuals:\n",
       "     Min       1Q   Median       3Q      Max \n",
       "-13.3968  -2.8103  -0.6455   1.9141  26.3755 \n",
       "\n",
       "Coefficients:\n",
       "              Estimate Std. Error t value Pr(>|t|)    \n",
       "(Intercept)  36.891960   5.146516   7.168 2.79e-12 ***\n",
       "crim         -0.113139   0.033113  -3.417 0.000686 ***\n",
       "zn            0.047052   0.013847   3.398 0.000734 ***\n",
       "indus         0.040311   0.061707   0.653 0.513889    \n",
       "nox         -17.366999   3.851224  -4.509 8.13e-06 ***\n",
       "rm            3.850492   0.421402   9.137  < 2e-16 ***\n",
       "age           0.002784   0.013309   0.209 0.834407    \n",
       "dis          -1.485374   0.201187  -7.383 6.64e-13 ***\n",
       "rad           0.328311   0.066542   4.934 1.10e-06 ***\n",
       "tax          -0.013756   0.003766  -3.653 0.000287 ***\n",
       "ptratio      -0.990958   0.131399  -7.542 2.25e-13 ***\n",
       "b             0.009741   0.002706   3.600 0.000351 ***\n",
       "lstat        -0.534158   0.051072 -10.459  < 2e-16 ***\n",
       "---\n",
       "Signif. codes:  0 '***' 0.001 '**' 0.01 '*' 0.05 '.' 0.1 ' ' 1\n",
       "\n",
       "Residual standard error: 4.787 on 493 degrees of freedom\n",
       "Multiple R-squared:  0.7355,\tAdjusted R-squared:  0.7291 \n",
       "F-statistic: 114.3 on 12 and 493 DF,  p-value: < 2.2e-16\n"
      ]
     },
     "metadata": {},
     "output_type": "display_data"
    }
   ],
   "source": [
    "summary(model)"
   ]
  },
  {
   "cell_type": "code",
   "execution_count": 41,
   "id": "bf8e5155",
   "metadata": {},
   "outputs": [
    {
     "data": {
      "text/plain": [
       "\n",
       "Call:\n",
       "lm(formula = medv ~ ., data = ds)\n",
       "\n",
       "Coefficients:\n",
       "(Intercept)         crim           zn        indus          nox           rm  \n",
       "  36.891960    -0.113139     0.047052     0.040311   -17.366999     3.850492  \n",
       "        age          dis          rad          tax      ptratio            b  \n",
       "   0.002784    -1.485374     0.328311    -0.013756    -0.990958     0.009741  \n",
       "      lstat  \n",
       "  -0.534158  \n"
      ]
     },
     "metadata": {},
     "output_type": "display_data"
    }
   ],
   "source": [
    "model"
   ]
  },
  {
   "cell_type": "code",
   "execution_count": 42,
   "id": "2fd4b75c",
   "metadata": {},
   "outputs": [
    {
     "ename": "ERROR",
     "evalue": "Error in sql(-3, 3, 0.1): could not find function \"sql\"\n",
     "output_type": "error",
     "traceback": [
      "Error in sql(-3, 3, 0.1): could not find function \"sql\"\nTraceback:\n"
     ]
    }
   ],
   "source": [
    "x = sql(-3, 3, 0.1)"
   ]
  },
  {
   "cell_type": "code",
   "execution_count": 43,
   "id": "f6566834",
   "metadata": {},
   "outputs": [],
   "source": [
    "x = seq(-3, 3, 0.1)"
   ]
  },
  {
   "cell_type": "code",
   "execution_count": 44,
   "id": "122d7604",
   "metadata": {},
   "outputs": [],
   "source": [
    "y = x^3"
   ]
  },
  {
   "cell_type": "code",
   "execution_count": 45,
   "id": "a125596d",
   "metadata": {},
   "outputs": [
    {
     "data": {
      "image/png": "[encoded data removed]",
      "text/plain": [
       "plot without title"
      ]
     },
     "metadata": {
      "image/png": {
       "height": 420,
       "width": 420
      }
     },
     "output_type": "display_data"
    }
   ],
   "source": [
    "plot(x, y, type='l')"
   ]
  },
  {
   "cell_type": "code",
   "execution_count": 47,
   "id": "d52428c0",
   "metadata": {},
   "outputs": [],
   "source": [
    "x = seq(0, 8, 0.1)"
   ]
  },
  {
   "cell_type": "code",
   "execution_count": 48,
   "id": "1df08d06",
   "metadata": {},
   "outputs": [
    {
     "data": {
      "text/html": [
       "<style>\n",
       ".list-inline {list-style: none; margin:0; padding: 0}\n",
       ".list-inline>li {display: inline-block}\n",
       ".list-inline>li:not(:last-child)::after {content: \"\\00b7\"; padding: 0 .5ex}\n",
       "</style>\n",
       "<ol class=list-inline><li>0</li><li>0.1</li><li>0.2</li><li>0.3</li><li>0.4</li><li>0.5</li><li>0.6</li><li>0.7</li><li>0.8</li><li>0.9</li><li>1</li><li>1.1</li><li>1.2</li><li>1.3</li><li>1.4</li><li>1.5</li><li>1.6</li><li>1.7</li><li>1.8</li><li>1.9</li><li>2</li><li>2.1</li><li>2.2</li><li>2.3</li><li>2.4</li><li>2.5</li><li>2.6</li><li>2.7</li><li>2.8</li><li>2.9</li><li>3</li><li>3.1</li><li>3.2</li><li>3.3</li><li>3.4</li><li>3.5</li><li>3.6</li><li>3.7</li><li>3.8</li><li>3.9</li><li>4</li><li>4.1</li><li>4.2</li><li>4.3</li><li>4.4</li><li>4.5</li><li>4.6</li><li>4.7</li><li>4.8</li><li>4.9</li><li>5</li><li>5.1</li><li>5.2</li><li>5.3</li><li>5.4</li><li>5.5</li><li>5.6</li><li>5.7</li><li>5.8</li><li>5.9</li><li>6</li><li>6.1</li><li>6.2</li><li>6.3</li><li>6.4</li><li>6.5</li><li>6.6</li><li>6.7</li><li>6.8</li><li>6.9</li><li>7</li><li>7.1</li><li>7.2</li><li>7.3</li><li>7.4</li><li>7.5</li><li>7.6</li><li>7.7</li><li>7.8</li><li>7.9</li><li>8</li></ol>\n"
      ],
      "text/latex": [
       "\\begin{enumerate*}\n",
       "\\item 0\n",
       "\\item 0.1\n",
       "\\item 0.2\n",
       "\\item 0.3\n",
       "\\item 0.4\n",
       "\\item 0.5\n",
       "\\item 0.6\n",
       "\\item 0.7\n",
       "\\item 0.8\n",
       "\\item 0.9\n",
       "\\item 1\n",
       "\\item 1.1\n",
       "\\item 1.2\n",
       "\\item 1.3\n",
       "\\item 1.4\n",
       "\\item 1.5\n",
       "\\item 1.6\n",
       "\\item 1.7\n",
       "\\item 1.8\n",
       "\\item 1.9\n",
       "\\item 2\n",
       "\\item 2.1\n",
       "\\item 2.2\n",
       "\\item 2.3\n",
       "\\item 2.4\n",
       "\\item 2.5\n",
       "\\item 2.6\n",
       "\\item 2.7\n",
       "\\item 2.8\n",
       "\\item 2.9\n",
       "\\item 3\n",
       "\\item 3.1\n",
       "\\item 3.2\n",
       "\\item 3.3\n",
       "\\item 3.4\n",
       "\\item 3.5\n",
       "\\item 3.6\n",
       "\\item 3.7\n",
       "\\item 3.8\n",
       "\\item 3.9\n",
       "\\item 4\n",
       "\\item 4.1\n",
       "\\item 4.2\n",
       "\\item 4.3\n",
       "\\item 4.4\n",
       "\\item 4.5\n",
       "\\item 4.6\n",
       "\\item 4.7\n",
       "\\item 4.8\n",
       "\\item 4.9\n",
       "\\item 5\n",
       "\\item 5.1\n",
       "\\item 5.2\n",
       "\\item 5.3\n",
       "\\item 5.4\n",
       "\\item 5.5\n",
       "\\item 5.6\n",
       "\\item 5.7\n",
       "\\item 5.8\n",
       "\\item 5.9\n",
       "\\item 6\n",
       "\\item 6.1\n",
       "\\item 6.2\n",
       "\\item 6.3\n",
       "\\item 6.4\n",
       "\\item 6.5\n",
       "\\item 6.6\n",
       "\\item 6.7\n",
       "\\item 6.8\n",
       "\\item 6.9\n",
       "\\item 7\n",
       "\\item 7.1\n",
       "\\item 7.2\n",
       "\\item 7.3\n",
       "\\item 7.4\n",
       "\\item 7.5\n",
       "\\item 7.6\n",
       "\\item 7.7\n",
       "\\item 7.8\n",
       "\\item 7.9\n",
       "\\item 8\n",
       "\\end{enumerate*}\n"
      ],
      "text/markdown": [
       "1. 0\n",
       "2. 0.1\n",
       "3. 0.2\n",
       "4. 0.3\n",
       "5. 0.4\n",
       "6. 0.5\n",
       "7. 0.6\n",
       "8. 0.7\n",
       "9. 0.8\n",
       "10. 0.9\n",
       "11. 1\n",
       "12. 1.1\n",
       "13. 1.2\n",
       "14. 1.3\n",
       "15. 1.4\n",
       "16. 1.5\n",
       "17. 1.6\n",
       "18. 1.7\n",
       "19. 1.8\n",
       "20. 1.9\n",
       "21. 2\n",
       "22. 2.1\n",
       "23. 2.2\n",
       "24. 2.3\n",
       "25. 2.4\n",
       "26. 2.5\n",
       "27. 2.6\n",
       "28. 2.7\n",
       "29. 2.8\n",
       "30. 2.9\n",
       "31. 3\n",
       "32. 3.1\n",
       "33. 3.2\n",
       "34. 3.3\n",
       "35. 3.4\n",
       "36. 3.5\n",
       "37. 3.6\n",
       "38. 3.7\n",
       "39. 3.8\n",
       "40. 3.9\n",
       "41. 4\n",
       "42. 4.1\n",
       "43. 4.2\n",
       "44. 4.3\n",
       "45. 4.4\n",
       "46. 4.5\n",
       "47. 4.6\n",
       "48. 4.7\n",
       "49. 4.8\n",
       "50. 4.9\n",
       "51. 5\n",
       "52. 5.1\n",
       "53. 5.2\n",
       "54. 5.3\n",
       "55. 5.4\n",
       "56. 5.5\n",
       "57. 5.6\n",
       "58. 5.7\n",
       "59. 5.8\n",
       "60. 5.9\n",
       "61. 6\n",
       "62. 6.1\n",
       "63. 6.2\n",
       "64. 6.3\n",
       "65. 6.4\n",
       "66. 6.5\n",
       "67. 6.6\n",
       "68. 6.7\n",
       "69. 6.8\n",
       "70. 6.9\n",
       "71. 7\n",
       "72. 7.1\n",
       "73. 7.2\n",
       "74. 7.3\n",
       "75. 7.4\n",
       "76. 7.5\n",
       "77. 7.6\n",
       "78. 7.7\n",
       "79. 7.8\n",
       "80. 7.9\n",
       "81. 8\n",
       "\n",
       "\n"
      ],
      "text/plain": [
       " [1] 0.0 0.1 0.2 0.3 0.4 0.5 0.6 0.7 0.8 0.9 1.0 1.1 1.2 1.3 1.4 1.5 1.6 1.7 1.8\n",
       "[20] 1.9 2.0 2.1 2.2 2.3 2.4 2.5 2.6 2.7 2.8 2.9 3.0 3.1 3.2 3.3 3.4 3.5 3.6 3.7\n",
       "[39] 3.8 3.9 4.0 4.1 4.2 4.3 4.4 4.5 4.6 4.7 4.8 4.9 5.0 5.1 5.2 5.3 5.4 5.5 5.6\n",
       "[58] 5.7 5.8 5.9 6.0 6.1 6.2 6.3 6.4 6.5 6.6 6.7 6.8 6.9 7.0 7.1 7.2 7.3 7.4 7.5\n",
       "[77] 7.6 7.7 7.8 7.9 8.0"
      ]
     },
     "metadata": {},
     "output_type": "display_data"
    }
   ],
   "source": [
    "x"
   ]
  },
  {
   "cell_type": "code",
   "execution_count": 49,
   "id": "b6cf9e29",
   "metadata": {},
   "outputs": [],
   "source": [
    "y1 = x ^ 2"
   ]
  },
  {
   "cell_type": "code",
   "execution_count": 50,
   "id": "137b2eda",
   "metadata": {},
   "outputs": [],
   "source": [
    "y2 = x ^ 3"
   ]
  },
  {
   "cell_type": "code",
   "execution_count": 51,
   "id": "68f1f11f",
   "metadata": {},
   "outputs": [],
   "source": [
    "y3 = log(x)"
   ]
  },
  {
   "cell_type": "code",
   "execution_count": 52,
   "id": "f3d7b140",
   "metadata": {},
   "outputs": [],
   "source": [
    "y4 = exp(x)"
   ]
  },
  {
   "cell_type": "code",
   "execution_count": 53,
   "id": "f9ce71e0",
   "metadata": {},
   "outputs": [],
   "source": [
    "ytotal = cbind(y1, y2, y3, y4)"
   ]
  },
  {
   "cell_type": "code",
   "execution_count": 54,
   "id": "d7fc7b0f",
   "metadata": {},
   "outputs": [
    {
     "data": {
      "text/html": [
       "<table class=\"dataframe\">\n",
       "<caption>A matrix: 81 × 4 of type dbl</caption>\n",
       "<thead>\n",
       "\t<tr><th scope=col>y1</th><th scope=col>y2</th><th scope=col>y3</th><th scope=col>y4</th></tr>\n",
       "</thead>\n",
       "<tbody>\n",
       "\t<tr><td>0.00</td><td> 0.000</td><td>       -Inf</td><td> 1.000000</td></tr>\n",
       "\t<tr><td>0.01</td><td> 0.001</td><td>-2.30258509</td><td> 1.105171</td></tr>\n",
       "\t<tr><td>0.04</td><td> 0.008</td><td>-1.60943791</td><td> 1.221403</td></tr>\n",
       "\t<tr><td>0.09</td><td> 0.027</td><td>-1.20397280</td><td> 1.349859</td></tr>\n",
       "\t<tr><td>0.16</td><td> 0.064</td><td>-0.91629073</td><td> 1.491825</td></tr>\n",
       "\t<tr><td>0.25</td><td> 0.125</td><td>-0.69314718</td><td> 1.648721</td></tr>\n",
       "\t<tr><td>0.36</td><td> 0.216</td><td>-0.51082562</td><td> 1.822119</td></tr>\n",
       "\t<tr><td>0.49</td><td> 0.343</td><td>-0.35667494</td><td> 2.013753</td></tr>\n",
       "\t<tr><td>0.64</td><td> 0.512</td><td>-0.22314355</td><td> 2.225541</td></tr>\n",
       "\t<tr><td>0.81</td><td> 0.729</td><td>-0.10536052</td><td> 2.459603</td></tr>\n",
       "\t<tr><td>1.00</td><td> 1.000</td><td> 0.00000000</td><td> 2.718282</td></tr>\n",
       "\t<tr><td>1.21</td><td> 1.331</td><td> 0.09531018</td><td> 3.004166</td></tr>\n",
       "\t<tr><td>1.44</td><td> 1.728</td><td> 0.18232156</td><td> 3.320117</td></tr>\n",
       "\t<tr><td>1.69</td><td> 2.197</td><td> 0.26236426</td><td> 3.669297</td></tr>\n",
       "\t<tr><td>1.96</td><td> 2.744</td><td> 0.33647224</td><td> 4.055200</td></tr>\n",
       "\t<tr><td>2.25</td><td> 3.375</td><td> 0.40546511</td><td> 4.481689</td></tr>\n",
       "\t<tr><td>2.56</td><td> 4.096</td><td> 0.47000363</td><td> 4.953032</td></tr>\n",
       "\t<tr><td>2.89</td><td> 4.913</td><td> 0.53062825</td><td> 5.473947</td></tr>\n",
       "\t<tr><td>3.24</td><td> 5.832</td><td> 0.58778666</td><td> 6.049647</td></tr>\n",
       "\t<tr><td>3.61</td><td> 6.859</td><td> 0.64185389</td><td> 6.685894</td></tr>\n",
       "\t<tr><td>4.00</td><td> 8.000</td><td> 0.69314718</td><td> 7.389056</td></tr>\n",
       "\t<tr><td>4.41</td><td> 9.261</td><td> 0.74193734</td><td> 8.166170</td></tr>\n",
       "\t<tr><td>4.84</td><td>10.648</td><td> 0.78845736</td><td> 9.025013</td></tr>\n",
       "\t<tr><td>5.29</td><td>12.167</td><td> 0.83290912</td><td> 9.974182</td></tr>\n",
       "\t<tr><td>5.76</td><td>13.824</td><td> 0.87546874</td><td>11.023176</td></tr>\n",
       "\t<tr><td>6.25</td><td>15.625</td><td> 0.91629073</td><td>12.182494</td></tr>\n",
       "\t<tr><td>6.76</td><td>17.576</td><td> 0.95551145</td><td>13.463738</td></tr>\n",
       "\t<tr><td>7.29</td><td>19.683</td><td> 0.99325177</td><td>14.879732</td></tr>\n",
       "\t<tr><td>7.84</td><td>21.952</td><td> 1.02961942</td><td>16.444647</td></tr>\n",
       "\t<tr><td>8.41</td><td>24.389</td><td> 1.06471074</td><td>18.174145</td></tr>\n",
       "\t<tr><td>⋮</td><td>⋮</td><td>⋮</td><td>⋮</td></tr>\n",
       "\t<tr><td>26.01</td><td>132.651</td><td>1.629241</td><td> 164.0219</td></tr>\n",
       "\t<tr><td>27.04</td><td>140.608</td><td>1.648659</td><td> 181.2722</td></tr>\n",
       "\t<tr><td>28.09</td><td>148.877</td><td>1.667707</td><td> 200.3368</td></tr>\n",
       "\t<tr><td>29.16</td><td>157.464</td><td>1.686399</td><td> 221.4064</td></tr>\n",
       "\t<tr><td>30.25</td><td>166.375</td><td>1.704748</td><td> 244.6919</td></tr>\n",
       "\t<tr><td>31.36</td><td>175.616</td><td>1.722767</td><td> 270.4264</td></tr>\n",
       "\t<tr><td>32.49</td><td>185.193</td><td>1.740466</td><td> 298.8674</td></tr>\n",
       "\t<tr><td>33.64</td><td>195.112</td><td>1.757858</td><td> 330.2996</td></tr>\n",
       "\t<tr><td>34.81</td><td>205.379</td><td>1.774952</td><td> 365.0375</td></tr>\n",
       "\t<tr><td>36.00</td><td>216.000</td><td>1.791759</td><td> 403.4288</td></tr>\n",
       "\t<tr><td>37.21</td><td>226.981</td><td>1.808289</td><td> 445.8578</td></tr>\n",
       "\t<tr><td>38.44</td><td>238.328</td><td>1.824549</td><td> 492.7490</td></tr>\n",
       "\t<tr><td>39.69</td><td>250.047</td><td>1.840550</td><td> 544.5719</td></tr>\n",
       "\t<tr><td>40.96</td><td>262.144</td><td>1.856298</td><td> 601.8450</td></tr>\n",
       "\t<tr><td>42.25</td><td>274.625</td><td>1.871802</td><td> 665.1416</td></tr>\n",
       "\t<tr><td>43.56</td><td>287.496</td><td>1.887070</td><td> 735.0952</td></tr>\n",
       "\t<tr><td>44.89</td><td>300.763</td><td>1.902108</td><td> 812.4058</td></tr>\n",
       "\t<tr><td>46.24</td><td>314.432</td><td>1.916923</td><td> 897.8473</td></tr>\n",
       "\t<tr><td>47.61</td><td>328.509</td><td>1.931521</td><td> 992.2747</td></tr>\n",
       "\t<tr><td>49.00</td><td>343.000</td><td>1.945910</td><td>1096.6332</td></tr>\n",
       "\t<tr><td>50.41</td><td>357.911</td><td>1.960095</td><td>1211.9671</td></tr>\n",
       "\t<tr><td>51.84</td><td>373.248</td><td>1.974081</td><td>1339.4308</td></tr>\n",
       "\t<tr><td>53.29</td><td>389.017</td><td>1.987874</td><td>1480.2999</td></tr>\n",
       "\t<tr><td>54.76</td><td>405.224</td><td>2.001480</td><td>1635.9844</td></tr>\n",
       "\t<tr><td>56.25</td><td>421.875</td><td>2.014903</td><td>1808.0424</td></tr>\n",
       "\t<tr><td>57.76</td><td>438.976</td><td>2.028148</td><td>1998.1959</td></tr>\n",
       "\t<tr><td>59.29</td><td>456.533</td><td>2.041220</td><td>2208.3480</td></tr>\n",
       "\t<tr><td>60.84</td><td>474.552</td><td>2.054124</td><td>2440.6020</td></tr>\n",
       "\t<tr><td>62.41</td><td>493.039</td><td>2.066863</td><td>2697.2823</td></tr>\n",
       "\t<tr><td>64.00</td><td>512.000</td><td>2.079442</td><td>2980.9580</td></tr>\n",
       "</tbody>\n",
       "</table>\n"
      ],
      "text/latex": [
       "A matrix: 81 × 4 of type dbl\n",
       "\\begin{tabular}{llll}\n",
       " y1 & y2 & y3 & y4\\\\\n",
       "\\hline\n",
       "\t 0.00 &  0.000 &        -Inf &  1.000000\\\\\n",
       "\t 0.01 &  0.001 & -2.30258509 &  1.105171\\\\\n",
       "\t 0.04 &  0.008 & -1.60943791 &  1.221403\\\\\n",
       "\t 0.09 &  0.027 & -1.20397280 &  1.349859\\\\\n",
       "\t 0.16 &  0.064 & -0.91629073 &  1.491825\\\\\n",
       "\t 0.25 &  0.125 & -0.69314718 &  1.648721\\\\\n",
       "\t 0.36 &  0.216 & -0.51082562 &  1.822119\\\\\n",
       "\t 0.49 &  0.343 & -0.35667494 &  2.013753\\\\\n",
       "\t 0.64 &  0.512 & -0.22314355 &  2.225541\\\\\n",
       "\t 0.81 &  0.729 & -0.10536052 &  2.459603\\\\\n",
       "\t 1.00 &  1.000 &  0.00000000 &  2.718282\\\\\n",
       "\t 1.21 &  1.331 &  0.09531018 &  3.004166\\\\\n",
       "\t 1.44 &  1.728 &  0.18232156 &  3.320117\\\\\n",
       "\t 1.69 &  2.197 &  0.26236426 &  3.669297\\\\\n",
       "\t 1.96 &  2.744 &  0.33647224 &  4.055200\\\\\n",
       "\t 2.25 &  3.375 &  0.40546511 &  4.481689\\\\\n",
       "\t 2.56 &  4.096 &  0.47000363 &  4.953032\\\\\n",
       "\t 2.89 &  4.913 &  0.53062825 &  5.473947\\\\\n",
       "\t 3.24 &  5.832 &  0.58778666 &  6.049647\\\\\n",
       "\t 3.61 &  6.859 &  0.64185389 &  6.685894\\\\\n",
       "\t 4.00 &  8.000 &  0.69314718 &  7.389056\\\\\n",
       "\t 4.41 &  9.261 &  0.74193734 &  8.166170\\\\\n",
       "\t 4.84 & 10.648 &  0.78845736 &  9.025013\\\\\n",
       "\t 5.29 & 12.167 &  0.83290912 &  9.974182\\\\\n",
       "\t 5.76 & 13.824 &  0.87546874 & 11.023176\\\\\n",
       "\t 6.25 & 15.625 &  0.91629073 & 12.182494\\\\\n",
       "\t 6.76 & 17.576 &  0.95551145 & 13.463738\\\\\n",
       "\t 7.29 & 19.683 &  0.99325177 & 14.879732\\\\\n",
       "\t 7.84 & 21.952 &  1.02961942 & 16.444647\\\\\n",
       "\t 8.41 & 24.389 &  1.06471074 & 18.174145\\\\\n",
       "\t ⋮ & ⋮ & ⋮ & ⋮\\\\\n",
       "\t 26.01 & 132.651 & 1.629241 &  164.0219\\\\\n",
       "\t 27.04 & 140.608 & 1.648659 &  181.2722\\\\\n",
       "\t 28.09 & 148.877 & 1.667707 &  200.3368\\\\\n",
       "\t 29.16 & 157.464 & 1.686399 &  221.4064\\\\\n",
       "\t 30.25 & 166.375 & 1.704748 &  244.6919\\\\\n",
       "\t 31.36 & 175.616 & 1.722767 &  270.4264\\\\\n",
       "\t 32.49 & 185.193 & 1.740466 &  298.8674\\\\\n",
       "\t 33.64 & 195.112 & 1.757858 &  330.2996\\\\\n",
       "\t 34.81 & 205.379 & 1.774952 &  365.0375\\\\\n",
       "\t 36.00 & 216.000 & 1.791759 &  403.4288\\\\\n",
       "\t 37.21 & 226.981 & 1.808289 &  445.8578\\\\\n",
       "\t 38.44 & 238.328 & 1.824549 &  492.7490\\\\\n",
       "\t 39.69 & 250.047 & 1.840550 &  544.5719\\\\\n",
       "\t 40.96 & 262.144 & 1.856298 &  601.8450\\\\\n",
       "\t 42.25 & 274.625 & 1.871802 &  665.1416\\\\\n",
       "\t 43.56 & 287.496 & 1.887070 &  735.0952\\\\\n",
       "\t 44.89 & 300.763 & 1.902108 &  812.4058\\\\\n",
       "\t 46.24 & 314.432 & 1.916923 &  897.8473\\\\\n",
       "\t 47.61 & 328.509 & 1.931521 &  992.2747\\\\\n",
       "\t 49.00 & 343.000 & 1.945910 & 1096.6332\\\\\n",
       "\t 50.41 & 357.911 & 1.960095 & 1211.9671\\\\\n",
       "\t 51.84 & 373.248 & 1.974081 & 1339.4308\\\\\n",
       "\t 53.29 & 389.017 & 1.987874 & 1480.2999\\\\\n",
       "\t 54.76 & 405.224 & 2.001480 & 1635.9844\\\\\n",
       "\t 56.25 & 421.875 & 2.014903 & 1808.0424\\\\\n",
       "\t 57.76 & 438.976 & 2.028148 & 1998.1959\\\\\n",
       "\t 59.29 & 456.533 & 2.041220 & 2208.3480\\\\\n",
       "\t 60.84 & 474.552 & 2.054124 & 2440.6020\\\\\n",
       "\t 62.41 & 493.039 & 2.066863 & 2697.2823\\\\\n",
       "\t 64.00 & 512.000 & 2.079442 & 2980.9580\\\\\n",
       "\\end{tabular}\n"
      ],
      "text/markdown": [
       "\n",
       "A matrix: 81 × 4 of type dbl\n",
       "\n",
       "| y1 | y2 | y3 | y4 |\n",
       "|---|---|---|---|\n",
       "| 0.00 |  0.000 |        -Inf |  1.000000 |\n",
       "| 0.01 |  0.001 | -2.30258509 |  1.105171 |\n",
       "| 0.04 |  0.008 | -1.60943791 |  1.221403 |\n",
       "| 0.09 |  0.027 | -1.20397280 |  1.349859 |\n",
       "| 0.16 |  0.064 | -0.91629073 |  1.491825 |\n",
       "| 0.25 |  0.125 | -0.69314718 |  1.648721 |\n",
       "| 0.36 |  0.216 | -0.51082562 |  1.822119 |\n",
       "| 0.49 |  0.343 | -0.35667494 |  2.013753 |\n",
       "| 0.64 |  0.512 | -0.22314355 |  2.225541 |\n",
       "| 0.81 |  0.729 | -0.10536052 |  2.459603 |\n",
       "| 1.00 |  1.000 |  0.00000000 |  2.718282 |\n",
       "| 1.21 |  1.331 |  0.09531018 |  3.004166 |\n",
       "| 1.44 |  1.728 |  0.18232156 |  3.320117 |\n",
       "| 1.69 |  2.197 |  0.26236426 |  3.669297 |\n",
       "| 1.96 |  2.744 |  0.33647224 |  4.055200 |\n",
       "| 2.25 |  3.375 |  0.40546511 |  4.481689 |\n",
       "| 2.56 |  4.096 |  0.47000363 |  4.953032 |\n",
       "| 2.89 |  4.913 |  0.53062825 |  5.473947 |\n",
       "| 3.24 |  5.832 |  0.58778666 |  6.049647 |\n",
       "| 3.61 |  6.859 |  0.64185389 |  6.685894 |\n",
       "| 4.00 |  8.000 |  0.69314718 |  7.389056 |\n",
       "| 4.41 |  9.261 |  0.74193734 |  8.166170 |\n",
       "| 4.84 | 10.648 |  0.78845736 |  9.025013 |\n",
       "| 5.29 | 12.167 |  0.83290912 |  9.974182 |\n",
       "| 5.76 | 13.824 |  0.87546874 | 11.023176 |\n",
       "| 6.25 | 15.625 |  0.91629073 | 12.182494 |\n",
       "| 6.76 | 17.576 |  0.95551145 | 13.463738 |\n",
       "| 7.29 | 19.683 |  0.99325177 | 14.879732 |\n",
       "| 7.84 | 21.952 |  1.02961942 | 16.444647 |\n",
       "| 8.41 | 24.389 |  1.06471074 | 18.174145 |\n",
       "| ⋮ | ⋮ | ⋮ | ⋮ |\n",
       "| 26.01 | 132.651 | 1.629241 |  164.0219 |\n",
       "| 27.04 | 140.608 | 1.648659 |  181.2722 |\n",
       "| 28.09 | 148.877 | 1.667707 |  200.3368 |\n",
       "| 29.16 | 157.464 | 1.686399 |  221.4064 |\n",
       "| 30.25 | 166.375 | 1.704748 |  244.6919 |\n",
       "| 31.36 | 175.616 | 1.722767 |  270.4264 |\n",
       "| 32.49 | 185.193 | 1.740466 |  298.8674 |\n",
       "| 33.64 | 195.112 | 1.757858 |  330.2996 |\n",
       "| 34.81 | 205.379 | 1.774952 |  365.0375 |\n",
       "| 36.00 | 216.000 | 1.791759 |  403.4288 |\n",
       "| 37.21 | 226.981 | 1.808289 |  445.8578 |\n",
       "| 38.44 | 238.328 | 1.824549 |  492.7490 |\n",
       "| 39.69 | 250.047 | 1.840550 |  544.5719 |\n",
       "| 40.96 | 262.144 | 1.856298 |  601.8450 |\n",
       "| 42.25 | 274.625 | 1.871802 |  665.1416 |\n",
       "| 43.56 | 287.496 | 1.887070 |  735.0952 |\n",
       "| 44.89 | 300.763 | 1.902108 |  812.4058 |\n",
       "| 46.24 | 314.432 | 1.916923 |  897.8473 |\n",
       "| 47.61 | 328.509 | 1.931521 |  992.2747 |\n",
       "| 49.00 | 343.000 | 1.945910 | 1096.6332 |\n",
       "| 50.41 | 357.911 | 1.960095 | 1211.9671 |\n",
       "| 51.84 | 373.248 | 1.974081 | 1339.4308 |\n",
       "| 53.29 | 389.017 | 1.987874 | 1480.2999 |\n",
       "| 54.76 | 405.224 | 2.001480 | 1635.9844 |\n",
       "| 56.25 | 421.875 | 2.014903 | 1808.0424 |\n",
       "| 57.76 | 438.976 | 2.028148 | 1998.1959 |\n",
       "| 59.29 | 456.533 | 2.041220 | 2208.3480 |\n",
       "| 60.84 | 474.552 | 2.054124 | 2440.6020 |\n",
       "| 62.41 | 493.039 | 2.066863 | 2697.2823 |\n",
       "| 64.00 | 512.000 | 2.079442 | 2980.9580 |\n",
       "\n"
      ],
      "text/plain": [
       "      y1    y2      y3          y4       \n",
       " [1,] 0.00   0.000         -Inf  1.000000\n",
       " [2,] 0.01   0.001  -2.30258509  1.105171\n",
       " [3,] 0.04   0.008  -1.60943791  1.221403\n",
       " [4,] 0.09   0.027  -1.20397280  1.349859\n",
       " [5,] 0.16   0.064  -0.91629073  1.491825\n",
       " [6,] 0.25   0.125  -0.69314718  1.648721\n",
       " [7,] 0.36   0.216  -0.51082562  1.822119\n",
       " [8,] 0.49   0.343  -0.35667494  2.013753\n",
       " [9,] 0.64   0.512  -0.22314355  2.225541\n",
       "[10,] 0.81   0.729  -0.10536052  2.459603\n",
       "[11,] 1.00   1.000   0.00000000  2.718282\n",
       "[12,] 1.21   1.331   0.09531018  3.004166\n",
       "[13,] 1.44   1.728   0.18232156  3.320117\n",
       "[14,] 1.69   2.197   0.26236426  3.669297\n",
       "[15,] 1.96   2.744   0.33647224  4.055200\n",
       "[16,] 2.25   3.375   0.40546511  4.481689\n",
       "[17,] 2.56   4.096   0.47000363  4.953032\n",
       "[18,] 2.89   4.913   0.53062825  5.473947\n",
       "[19,] 3.24   5.832   0.58778666  6.049647\n",
       "[20,] 3.61   6.859   0.64185389  6.685894\n",
       "[21,] 4.00   8.000   0.69314718  7.389056\n",
       "[22,] 4.41   9.261   0.74193734  8.166170\n",
       "[23,] 4.84  10.648   0.78845736  9.025013\n",
       "[24,] 5.29  12.167   0.83290912  9.974182\n",
       "[25,] 5.76  13.824   0.87546874 11.023176\n",
       "[26,] 6.25  15.625   0.91629073 12.182494\n",
       "[27,] 6.76  17.576   0.95551145 13.463738\n",
       "[28,] 7.29  19.683   0.99325177 14.879732\n",
       "[29,] 7.84  21.952   1.02961942 16.444647\n",
       "[30,] 8.41  24.389   1.06471074 18.174145\n",
       "[31,] ⋮     ⋮       ⋮           ⋮        \n",
       "[32,] 26.01 132.651 1.629241     164.0219\n",
       "[33,] 27.04 140.608 1.648659     181.2722\n",
       "[34,] 28.09 148.877 1.667707     200.3368\n",
       "[35,] 29.16 157.464 1.686399     221.4064\n",
       "[36,] 30.25 166.375 1.704748     244.6919\n",
       "[37,] 31.36 175.616 1.722767     270.4264\n",
       "[38,] 32.49 185.193 1.740466     298.8674\n",
       "[39,] 33.64 195.112 1.757858     330.2996\n",
       "[40,] 34.81 205.379 1.774952     365.0375\n",
       "[41,] 36.00 216.000 1.791759     403.4288\n",
       "[42,] 37.21 226.981 1.808289     445.8578\n",
       "[43,] 38.44 238.328 1.824549     492.7490\n",
       "[44,] 39.69 250.047 1.840550     544.5719\n",
       "[45,] 40.96 262.144 1.856298     601.8450\n",
       "[46,] 42.25 274.625 1.871802     665.1416\n",
       "[47,] 43.56 287.496 1.887070     735.0952\n",
       "[48,] 44.89 300.763 1.902108     812.4058\n",
       "[49,] 46.24 314.432 1.916923     897.8473\n",
       "[50,] 47.61 328.509 1.931521     992.2747\n",
       "[51,] 49.00 343.000 1.945910    1096.6332\n",
       "[52,] 50.41 357.911 1.960095    1211.9671\n",
       "[53,] 51.84 373.248 1.974081    1339.4308\n",
       "[54,] 53.29 389.017 1.987874    1480.2999\n",
       "[55,] 54.76 405.224 2.001480    1635.9844\n",
       "[56,] 56.25 421.875 2.014903    1808.0424\n",
       "[57,] 57.76 438.976 2.028148    1998.1959\n",
       "[58,] 59.29 456.533 2.041220    2208.3480\n",
       "[59,] 60.84 474.552 2.054124    2440.6020\n",
       "[60,] 62.41 493.039 2.066863    2697.2823\n",
       "[61,] 64.00 512.000 2.079442    2980.9580"
      ]
     },
     "metadata": {},
     "output_type": "display_data"
    }
   ],
   "source": [
    "ytotal"
   ]
  },
  {
   "cell_type": "code",
   "execution_count": 55,
   "id": "ccbfa706",
   "metadata": {},
   "outputs": [],
   "source": [
    "par(mfrow=c(2,2))"
   ]
  },
  {
   "cell_type": "code",
   "execution_count": 58,
   "id": "513b6b0f",
   "metadata": {},
   "outputs": [
    {
     "data": {
      "image/png": "[encoded data removed]",
      "text/plain": [
       "plot without title"
      ]
     },
     "metadata": {
      "image/png": {
       "height": 420,
       "width": 420
      }
     },
     "output_type": "display_data"
    }
   ],
   "source": [
    "plot(x, y1, type='l')"
   ]
  },
  {
   "cell_type": "code",
   "execution_count": 59,
   "id": "94331bba",
   "metadata": {},
   "outputs": [
    {
     "data": {
      "image/png": "[encoded data removed]",
      "text/plain": [
       "plot without title"
      ]
     },
     "metadata": {
      "image/png": {
       "height": 420,
       "width": 420
      }
     },
     "output_type": "display_data"
    }
   ],
   "source": [
    "plot(x, y2, type='l')"
   ]
  },
  {
   "cell_type": "code",
   "execution_count": 60,
   "id": "61be240d",
   "metadata": {},
   "outputs": [
    {
     "data": {
      "image/png": "[encoded data removed]",
      "text/plain": [
       "plot without title"
      ]
     },
     "metadata": {
      "image/png": {
       "height": 420,
       "width": 420
      }
     },
     "output_type": "display_data"
    }
   ],
   "source": [
    "plot(x, y3, type='l')"
   ]
  },
  {
   "cell_type": "code",
   "execution_count": 61,
   "id": "7a0aacb6",
   "metadata": {},
   "outputs": [
    {
     "data": {
      "image/png": "[encoded data removed]",
      "text/plain": [
       "plot without title"
      ]
     },
     "metadata": {
      "image/png": {
       "height": 420,
       "width": 420
      }
     },
     "output_type": "display_data"
    }
   ],
   "source": [
    "plot(x, y4, type='l')"
   ]
  },
  {
   "cell_type": "code",
   "execution_count": 62,
   "id": "066cc573",
   "metadata": {},
   "outputs": [],
   "source": [
    "x = seq(-2 * pi, 2*pi,0.1)"
   ]
  },
  {
   "cell_type": "code",
   "execution_count": 63,
   "id": "b374db3a",
   "metadata": {},
   "outputs": [
    {
     "data": {
      "text/html": [
       "<style>\n",
       ".list-inline {list-style: none; margin:0; padding: 0}\n",
       ".list-inline>li {display: inline-block}\n",
       ".list-inline>li:not(:last-child)::after {content: \"\\00b7\"; padding: 0 .5ex}\n",
       "</style>\n",
       "<ol class=list-inline><li>-6.28318530717959</li><li>-6.18318530717959</li><li>-6.08318530717959</li><li>-5.98318530717959</li><li>-5.88318530717959</li><li>-5.78318530717959</li><li>-5.68318530717959</li><li>-5.58318530717959</li><li>-5.48318530717959</li><li>-5.38318530717959</li><li>-5.28318530717959</li><li>-5.18318530717959</li><li>-5.08318530717959</li><li>-4.98318530717959</li><li>-4.88318530717959</li><li>-4.78318530717959</li><li>-4.68318530717959</li><li>-4.58318530717959</li><li>-4.48318530717959</li><li>-4.38318530717959</li><li>-4.28318530717959</li><li>-4.18318530717959</li><li>-4.08318530717959</li><li>-3.98318530717959</li><li>-3.88318530717959</li><li>-3.78318530717959</li><li>-3.68318530717959</li><li>-3.58318530717959</li><li>-3.48318530717959</li><li>-3.38318530717959</li><li>-3.28318530717959</li><li>-3.18318530717959</li><li>-3.08318530717959</li><li>-2.98318530717959</li><li>-2.88318530717959</li><li>-2.78318530717959</li><li>-2.68318530717959</li><li>-2.58318530717959</li><li>-2.48318530717959</li><li>-2.38318530717959</li><li>-2.28318530717959</li><li>-2.18318530717959</li><li>-2.08318530717959</li><li>-1.98318530717959</li><li>-1.88318530717959</li><li>-1.78318530717959</li><li>-1.68318530717959</li><li>-1.58318530717959</li><li>-1.48318530717959</li><li>-1.38318530717959</li><li>-1.28318530717959</li><li>-1.18318530717959</li><li>-1.08318530717959</li><li>-0.983185307179586</li><li>-0.883185307179586</li><li>-0.783185307179586</li><li>-0.683185307179586</li><li>-0.583185307179586</li><li>-0.483185307179586</li><li>-0.383185307179586</li><li>-0.283185307179586</li><li>-0.183185307179586</li><li>-0.0831853071795861</li><li>0.0168146928204145</li><li>0.116814692820414</li><li>0.216814692820414</li><li>0.316814692820414</li><li>0.416814692820414</li><li>0.516814692820414</li><li>0.616814692820414</li><li>0.716814692820414</li><li>0.816814692820414</li><li>0.916814692820414</li><li>1.01681469282041</li><li>1.11681469282041</li><li>1.21681469282041</li><li>1.31681469282041</li><li>1.41681469282041</li><li>1.51681469282041</li><li>1.61681469282041</li><li>1.71681469282041</li><li>1.81681469282041</li><li>1.91681469282041</li><li>2.01681469282041</li><li>2.11681469282041</li><li>2.21681469282041</li><li>2.31681469282041</li><li>2.41681469282041</li><li>2.51681469282041</li><li>2.61681469282041</li><li>2.71681469282041</li><li>2.81681469282041</li><li>2.91681469282041</li><li>3.01681469282041</li><li>3.11681469282041</li><li>3.21681469282041</li><li>3.31681469282042</li><li>3.41681469282041</li><li>3.51681469282041</li><li>3.61681469282041</li><li>3.71681469282041</li><li>3.81681469282042</li><li>3.91681469282041</li><li>4.01681469282041</li><li>4.11681469282041</li><li>4.21681469282041</li><li>4.31681469282042</li><li>4.41681469282041</li><li>4.51681469282041</li><li>4.61681469282041</li><li>4.71681469282041</li><li>4.81681469282042</li><li>4.91681469282041</li><li>5.01681469282041</li><li>5.11681469282041</li><li>5.21681469282041</li><li>5.31681469282042</li><li>5.41681469282041</li><li>5.51681469282041</li><li>5.61681469282041</li><li>5.71681469282041</li><li>5.81681469282042</li><li>5.91681469282041</li><li>6.01681469282041</li><li>6.11681469282041</li><li>6.21681469282041</li></ol>\n"
      ],
      "text/latex": [
       "\\begin{enumerate*}\n",
       "\\item -6.28318530717959\n",
       "\\item -6.18318530717959\n",
       "\\item -6.08318530717959\n",
       "\\item -5.98318530717959\n",
       "\\item -5.88318530717959\n",
       "\\item -5.78318530717959\n",
       "\\item -5.68318530717959\n",
       "\\item -5.58318530717959\n",
       "\\item -5.48318530717959\n",
       "\\item -5.38318530717959\n",
       "\\item -5.28318530717959\n",
       "\\item -5.18318530717959\n",
       "\\item -5.08318530717959\n",
       "\\item -4.98318530717959\n",
       "\\item -4.88318530717959\n",
       "\\item -4.78318530717959\n",
       "\\item -4.68318530717959\n",
       "\\item -4.58318530717959\n",
       "\\item -4.48318530717959\n",
       "\\item -4.38318530717959\n",
       "\\item -4.28318530717959\n",
       "\\item -4.18318530717959\n",
       "\\item -4.08318530717959\n",
       "\\item -3.98318530717959\n",
       "\\item -3.88318530717959\n",
       "\\item -3.78318530717959\n",
       "\\item -3.68318530717959\n",
       "\\item -3.58318530717959\n",
       "\\item -3.48318530717959\n",
       "\\item -3.38318530717959\n",
       "\\item -3.28318530717959\n",
       "\\item -3.18318530717959\n",
       "\\item -3.08318530717959\n",
       "\\item -2.98318530717959\n",
       "\\item -2.88318530717959\n",
       "\\item -2.78318530717959\n",
       "\\item -2.68318530717959\n",
       "\\item -2.58318530717959\n",
       "\\item -2.48318530717959\n",
       "\\item -2.38318530717959\n",
       "\\item -2.28318530717959\n",
       "\\item -2.18318530717959\n",
       "\\item -2.08318530717959\n",
       "\\item -1.98318530717959\n",
       "\\item -1.88318530717959\n",
       "\\item -1.78318530717959\n",
       "\\item -1.68318530717959\n",
       "\\item -1.58318530717959\n",
       "\\item -1.48318530717959\n",
       "\\item -1.38318530717959\n",
       "\\item -1.28318530717959\n",
       "\\item -1.18318530717959\n",
       "\\item -1.08318530717959\n",
       "\\item -0.983185307179586\n",
       "\\item -0.883185307179586\n",
       "\\item -0.783185307179586\n",
       "\\item -0.683185307179586\n",
       "\\item -0.583185307179586\n",
       "\\item -0.483185307179586\n",
       "\\item -0.383185307179586\n",
       "\\item -0.283185307179586\n",
       "\\item -0.183185307179586\n",
       "\\item -0.0831853071795861\n",
       "\\item 0.0168146928204145\n",
       "\\item 0.116814692820414\n",
       "\\item 0.216814692820414\n",
       "\\item 0.316814692820414\n",
       "\\item 0.416814692820414\n",
       "\\item 0.516814692820414\n",
       "\\item 0.616814692820414\n",
       "\\item 0.716814692820414\n",
       "\\item 0.816814692820414\n",
       "\\item 0.916814692820414\n",
       "\\item 1.01681469282041\n",
       "\\item 1.11681469282041\n",
       "\\item 1.21681469282041\n",
       "\\item 1.31681469282041\n",
       "\\item 1.41681469282041\n",
       "\\item 1.51681469282041\n",
       "\\item 1.61681469282041\n",
       "\\item 1.71681469282041\n",
       "\\item 1.81681469282041\n",
       "\\item 1.91681469282041\n",
       "\\item 2.01681469282041\n",
       "\\item 2.11681469282041\n",
       "\\item 2.21681469282041\n",
       "\\item 2.31681469282041\n",
       "\\item 2.41681469282041\n",
       "\\item 2.51681469282041\n",
       "\\item 2.61681469282041\n",
       "\\item 2.71681469282041\n",
       "\\item 2.81681469282041\n",
       "\\item 2.91681469282041\n",
       "\\item 3.01681469282041\n",
       "\\item 3.11681469282041\n",
       "\\item 3.21681469282041\n",
       "\\item 3.31681469282042\n",
       "\\item 3.41681469282041\n",
       "\\item 3.51681469282041\n",
       "\\item 3.61681469282041\n",
       "\\item 3.71681469282041\n",
       "\\item 3.81681469282042\n",
       "\\item 3.91681469282041\n",
       "\\item 4.01681469282041\n",
       "\\item 4.11681469282041\n",
       "\\item 4.21681469282041\n",
       "\\item 4.31681469282042\n",
       "\\item 4.41681469282041\n",
       "\\item 4.51681469282041\n",
       "\\item 4.61681469282041\n",
       "\\item 4.71681469282041\n",
       "\\item 4.81681469282042\n",
       "\\item 4.91681469282041\n",
       "\\item 5.01681469282041\n",
       "\\item 5.11681469282041\n",
       "\\item 5.21681469282041\n",
       "\\item 5.31681469282042\n",
       "\\item 5.41681469282041\n",
       "\\item 5.51681469282041\n",
       "\\item 5.61681469282041\n",
       "\\item 5.71681469282041\n",
       "\\item 5.81681469282042\n",
       "\\item 5.91681469282041\n",
       "\\item 6.01681469282041\n",
       "\\item 6.11681469282041\n",
       "\\item 6.21681469282041\n",
       "\\end{enumerate*}\n"
      ],
      "text/markdown": [
       "1. -6.28318530717959\n",
       "2. -6.18318530717959\n",
       "3. -6.08318530717959\n",
       "4. -5.98318530717959\n",
       "5. -5.88318530717959\n",
       "6. -5.78318530717959\n",
       "7. -5.68318530717959\n",
       "8. -5.58318530717959\n",
       "9. -5.48318530717959\n",
       "10. -5.38318530717959\n",
       "11. -5.28318530717959\n",
       "12. -5.18318530717959\n",
       "13. -5.08318530717959\n",
       "14. -4.98318530717959\n",
       "15. -4.88318530717959\n",
       "16. -4.78318530717959\n",
       "17. -4.68318530717959\n",
       "18. -4.58318530717959\n",
       "19. -4.48318530717959\n",
       "20. -4.38318530717959\n",
       "21. -4.28318530717959\n",
       "22. -4.18318530717959\n",
       "23. -4.08318530717959\n",
       "24. -3.98318530717959\n",
       "25. -3.88318530717959\n",
       "26. -3.78318530717959\n",
       "27. -3.68318530717959\n",
       "28. -3.58318530717959\n",
       "29. -3.48318530717959\n",
       "30. -3.38318530717959\n",
       "31. -3.28318530717959\n",
       "32. -3.18318530717959\n",
       "33. -3.08318530717959\n",
       "34. -2.98318530717959\n",
       "35. -2.88318530717959\n",
       "36. -2.78318530717959\n",
       "37. -2.68318530717959\n",
       "38. -2.58318530717959\n",
       "39. -2.48318530717959\n",
       "40. -2.38318530717959\n",
       "41. -2.28318530717959\n",
       "42. -2.18318530717959\n",
       "43. -2.08318530717959\n",
       "44. -1.98318530717959\n",
       "45. -1.88318530717959\n",
       "46. -1.78318530717959\n",
       "47. -1.68318530717959\n",
       "48. -1.58318530717959\n",
       "49. -1.48318530717959\n",
       "50. -1.38318530717959\n",
       "51. -1.28318530717959\n",
       "52. -1.18318530717959\n",
       "53. -1.08318530717959\n",
       "54. -0.983185307179586\n",
       "55. -0.883185307179586\n",
       "56. -0.783185307179586\n",
       "57. -0.683185307179586\n",
       "58. -0.583185307179586\n",
       "59. -0.483185307179586\n",
       "60. -0.383185307179586\n",
       "61. -0.283185307179586\n",
       "62. -0.183185307179586\n",
       "63. -0.0831853071795861\n",
       "64. 0.0168146928204145\n",
       "65. 0.116814692820414\n",
       "66. 0.216814692820414\n",
       "67. 0.316814692820414\n",
       "68. 0.416814692820414\n",
       "69. 0.516814692820414\n",
       "70. 0.616814692820414\n",
       "71. 0.716814692820414\n",
       "72. 0.816814692820414\n",
       "73. 0.916814692820414\n",
       "74. 1.01681469282041\n",
       "75. 1.11681469282041\n",
       "76. 1.21681469282041\n",
       "77. 1.31681469282041\n",
       "78. 1.41681469282041\n",
       "79. 1.51681469282041\n",
       "80. 1.61681469282041\n",
       "81. 1.71681469282041\n",
       "82. 1.81681469282041\n",
       "83. 1.91681469282041\n",
       "84. 2.01681469282041\n",
       "85. 2.11681469282041\n",
       "86. 2.21681469282041\n",
       "87. 2.31681469282041\n",
       "88. 2.41681469282041\n",
       "89. 2.51681469282041\n",
       "90. 2.61681469282041\n",
       "91. 2.71681469282041\n",
       "92. 2.81681469282041\n",
       "93. 2.91681469282041\n",
       "94. 3.01681469282041\n",
       "95. 3.11681469282041\n",
       "96. 3.21681469282041\n",
       "97. 3.31681469282042\n",
       "98. 3.41681469282041\n",
       "99. 3.51681469282041\n",
       "100. 3.61681469282041\n",
       "101. 3.71681469282041\n",
       "102. 3.81681469282042\n",
       "103. 3.91681469282041\n",
       "104. 4.01681469282041\n",
       "105. 4.11681469282041\n",
       "106. 4.21681469282041\n",
       "107. 4.31681469282042\n",
       "108. 4.41681469282041\n",
       "109. 4.51681469282041\n",
       "110. 4.61681469282041\n",
       "111. 4.71681469282041\n",
       "112. 4.81681469282042\n",
       "113. 4.91681469282041\n",
       "114. 5.01681469282041\n",
       "115. 5.11681469282041\n",
       "116. 5.21681469282041\n",
       "117. 5.31681469282042\n",
       "118. 5.41681469282041\n",
       "119. 5.51681469282041\n",
       "120. 5.61681469282041\n",
       "121. 5.71681469282041\n",
       "122. 5.81681469282042\n",
       "123. 5.91681469282041\n",
       "124. 6.01681469282041\n",
       "125. 6.11681469282041\n",
       "126. 6.21681469282041\n",
       "\n",
       "\n"
      ],
      "text/plain": [
       "  [1] -6.28318531 -6.18318531 -6.08318531 -5.98318531 -5.88318531 -5.78318531\n",
       "  [7] -5.68318531 -5.58318531 -5.48318531 -5.38318531 -5.28318531 -5.18318531\n",
       " [13] -5.08318531 -4.98318531 -4.88318531 -4.78318531 -4.68318531 -4.58318531\n",
       " [19] -4.48318531 -4.38318531 -4.28318531 -4.18318531 -4.08318531 -3.98318531\n",
       " [25] -3.88318531 -3.78318531 -3.68318531 -3.58318531 -3.48318531 -3.38318531\n",
       " [31] -3.28318531 -3.18318531 -3.08318531 -2.98318531 -2.88318531 -2.78318531\n",
       " [37] -2.68318531 -2.58318531 -2.48318531 -2.38318531 -2.28318531 -2.18318531\n",
       " [43] -2.08318531 -1.98318531 -1.88318531 -1.78318531 -1.68318531 -1.58318531\n",
       " [49] -1.48318531 -1.38318531 -1.28318531 -1.18318531 -1.08318531 -0.98318531\n",
       " [55] -0.88318531 -0.78318531 -0.68318531 -0.58318531 -0.48318531 -0.38318531\n",
       " [61] -0.28318531 -0.18318531 -0.08318531  0.01681469  0.11681469  0.21681469\n",
       " [67]  0.31681469  0.41681469  0.51681469  0.61681469  0.71681469  0.81681469\n",
       " [73]  0.91681469  1.01681469  1.11681469  1.21681469  1.31681469  1.41681469\n",
       " [79]  1.51681469  1.61681469  1.71681469  1.81681469  1.91681469  2.01681469\n",
       " [85]  2.11681469  2.21681469  2.31681469  2.41681469  2.51681469  2.61681469\n",
       " [91]  2.71681469  2.81681469  2.91681469  3.01681469  3.11681469  3.21681469\n",
       " [97]  3.31681469  3.41681469  3.51681469  3.61681469  3.71681469  3.81681469\n",
       "[103]  3.91681469  4.01681469  4.11681469  4.21681469  4.31681469  4.41681469\n",
       "[109]  4.51681469  4.61681469  4.71681469  4.81681469  4.91681469  5.01681469\n",
       "[115]  5.11681469  5.21681469  5.31681469  5.41681469  5.51681469  5.61681469\n",
       "[121]  5.71681469  5.81681469  5.91681469  6.01681469  6.11681469  6.21681469"
      ]
     },
     "metadata": {},
     "output_type": "display_data"
    }
   ],
   "source": [
    "x"
   ]
  },
  {
   "cell_type": "code",
   "execution_count": 64,
   "id": "3fd69e92",
   "metadata": {},
   "outputs": [],
   "source": [
    "par(mfrow=c(1,1))"
   ]
  },
  {
   "cell_type": "code",
   "execution_count": 65,
   "id": "8ba05a77",
   "metadata": {},
   "outputs": [],
   "source": [
    "ysin = sin(x) "
   ]
  },
  {
   "cell_type": "code",
   "execution_count": 66,
   "id": "369bae7d",
   "metadata": {},
   "outputs": [],
   "source": [
    "ycos = cos(x)"
   ]
  },
  {
   "cell_type": "code",
   "execution_count": 67,
   "id": "76152fbd",
   "metadata": {},
   "outputs": [],
   "source": [
    "ytan = tan(x)"
   ]
  },
  {
   "cell_type": "code",
   "execution_count": 68,
   "id": "ad7c0403",
   "metadata": {},
   "outputs": [],
   "source": [
    "ytotal = cbind(ysin, ycos, ytan)"
   ]
  },
  {
   "cell_type": "code",
   "execution_count": 69,
   "id": "9420bf1c",
   "metadata": {},
   "outputs": [
    {
     "data": {
      "text/html": [
       "<table class=\"dataframe\">\n",
       "<caption>A matrix: 126 × 3 of type dbl</caption>\n",
       "<thead>\n",
       "\t<tr><th scope=col>ysin</th><th scope=col>ycos</th><th scope=col>ytan</th></tr>\n",
       "</thead>\n",
       "<tbody>\n",
       "\t<tr><td>2.449213e-16</td><td> 1.00000000</td><td> 2.449294e-16</td></tr>\n",
       "\t<tr><td>9.983342e-02</td><td> 0.99500417</td><td> 1.003347e-01</td></tr>\n",
       "\t<tr><td>1.986693e-01</td><td> 0.98006658</td><td> 2.027100e-01</td></tr>\n",
       "\t<tr><td>2.955202e-01</td><td> 0.95533649</td><td> 3.093362e-01</td></tr>\n",
       "\t<tr><td>3.894183e-01</td><td> 0.92106099</td><td> 4.227932e-01</td></tr>\n",
       "\t<tr><td>4.794255e-01</td><td> 0.87758256</td><td> 5.463025e-01</td></tr>\n",
       "\t<tr><td>5.646425e-01</td><td> 0.82533561</td><td> 6.841368e-01</td></tr>\n",
       "\t<tr><td>6.442177e-01</td><td> 0.76484219</td><td> 8.422884e-01</td></tr>\n",
       "\t<tr><td>7.173561e-01</td><td> 0.69670671</td><td> 1.029639e+00</td></tr>\n",
       "\t<tr><td>7.833269e-01</td><td> 0.62160997</td><td> 1.260158e+00</td></tr>\n",
       "\t<tr><td>8.414710e-01</td><td> 0.54030231</td><td> 1.557408e+00</td></tr>\n",
       "\t<tr><td>8.912074e-01</td><td> 0.45359612</td><td> 1.964760e+00</td></tr>\n",
       "\t<tr><td>9.320391e-01</td><td> 0.36235775</td><td> 2.572152e+00</td></tr>\n",
       "\t<tr><td>9.635582e-01</td><td> 0.26749883</td><td> 3.602102e+00</td></tr>\n",
       "\t<tr><td>9.854497e-01</td><td> 0.16996714</td><td> 5.797884e+00</td></tr>\n",
       "\t<tr><td>9.974950e-01</td><td> 0.07073720</td><td> 1.410142e+01</td></tr>\n",
       "\t<tr><td>9.995736e-01</td><td>-0.02919952</td><td>-3.423253e+01</td></tr>\n",
       "\t<tr><td>9.916648e-01</td><td>-0.12884449</td><td>-7.696602e+00</td></tr>\n",
       "\t<tr><td>9.738476e-01</td><td>-0.22720209</td><td>-4.286262e+00</td></tr>\n",
       "\t<tr><td>9.463001e-01</td><td>-0.32328957</td><td>-2.927098e+00</td></tr>\n",
       "\t<tr><td>9.092974e-01</td><td>-0.41614684</td><td>-2.185040e+00</td></tr>\n",
       "\t<tr><td>8.632094e-01</td><td>-0.50484610</td><td>-1.709847e+00</td></tr>\n",
       "\t<tr><td>8.084964e-01</td><td>-0.58850112</td><td>-1.373823e+00</td></tr>\n",
       "\t<tr><td>7.457052e-01</td><td>-0.66627602</td><td>-1.119214e+00</td></tr>\n",
       "\t<tr><td>6.754632e-01</td><td>-0.73739372</td><td>-9.160143e-01</td></tr>\n",
       "\t<tr><td>5.984721e-01</td><td>-0.80114362</td><td>-7.470223e-01</td></tr>\n",
       "\t<tr><td>5.155014e-01</td><td>-0.85688875</td><td>-6.015966e-01</td></tr>\n",
       "\t<tr><td>4.273799e-01</td><td>-0.90407214</td><td>-4.727276e-01</td></tr>\n",
       "\t<tr><td>3.349882e-01</td><td>-0.94222234</td><td>-3.555298e-01</td></tr>\n",
       "\t<tr><td>2.392493e-01</td><td>-0.97095817</td><td>-2.464054e-01</td></tr>\n",
       "\t<tr><td>⋮</td><td>⋮</td><td>⋮</td></tr>\n",
       "\t<tr><td>-0.1743268</td><td>-0.984687856</td><td>   0.17703761</td></tr>\n",
       "\t<tr><td>-0.2717606</td><td>-0.962364880</td><td>   0.28238835</td></tr>\n",
       "\t<tr><td>-0.3664791</td><td>-0.930426272</td><td>   0.39388304</td></tr>\n",
       "\t<tr><td>-0.4575359</td><td>-0.889191153</td><td>   0.51455291</td></tr>\n",
       "\t<tr><td>-0.5440211</td><td>-0.839071529</td><td>   0.64836083</td></tr>\n",
       "\t<tr><td>-0.6250706</td><td>-0.780568180</td><td>   0.80078930</td></tr>\n",
       "\t<tr><td>-0.6998747</td><td>-0.714265652</td><td>   0.97985208</td></tr>\n",
       "\t<tr><td>-0.7676858</td><td>-0.640826418</td><td>   1.19796218</td></tr>\n",
       "\t<tr><td>-0.8278265</td><td>-0.560984257</td><td>   1.47566791</td></tr>\n",
       "\t<tr><td>-0.8796958</td><td>-0.475536928</td><td>   1.84989999</td></tr>\n",
       "\t<tr><td>-0.9227754</td><td>-0.385338191</td><td>   2.39471572</td></tr>\n",
       "\t<tr><td>-0.9566350</td><td>-0.291289282</td><td>   3.28414081</td></tr>\n",
       "\t<tr><td>-0.9809362</td><td>-0.194329906</td><td>   5.04778831</td></tr>\n",
       "\t<tr><td>-0.9954363</td><td>-0.095428851</td><td>  10.43118766</td></tr>\n",
       "\t<tr><td>-0.9999902</td><td> 0.004425698</td><td>-225.95084645</td></tr>\n",
       "\t<tr><td>-0.9945526</td><td> 0.104236027</td><td>  -9.54135166</td></tr>\n",
       "\t<tr><td>-0.9791777</td><td> 0.203004864</td><td>  -4.82342004</td></tr>\n",
       "\t<tr><td>-0.9540192</td><td> 0.299745343</td><td>  -3.18276588</td></tr>\n",
       "\t<tr><td>-0.9193285</td><td> 0.393490866</td><td>  -2.33634019</td></tr>\n",
       "\t<tr><td>-0.8754522</td><td> 0.483304759</td><td>  -1.81138745</td></tr>\n",
       "\t<tr><td>-0.8228286</td><td> 0.568289630</td><td>  -1.44790359</td></tr>\n",
       "\t<tr><td>-0.7619836</td><td> 0.647596339</td><td>  -1.17663356</td></tr>\n",
       "\t<tr><td>-0.6935251</td><td> 0.720432479</td><td>  -0.96265105</td></tr>\n",
       "\t<tr><td>-0.6181371</td><td> 0.786070296</td><td>  -0.78636366</td></tr>\n",
       "\t<tr><td>-0.5365729</td><td> 0.843853959</td><td>  -0.63585993</td></tr>\n",
       "\t<tr><td>-0.4496475</td><td> 0.893206112</td><td>  -0.50340841</td></tr>\n",
       "\t<tr><td>-0.3582293</td><td> 0.933633644</td><td>  -0.38369363</td></tr>\n",
       "\t<tr><td>-0.2632318</td><td> 0.964732618</td><td>  -0.27285466</td></tr>\n",
       "\t<tr><td>-0.1656042</td><td> 0.986192302</td><td>  -0.16792280</td></tr>\n",
       "\t<tr><td>-0.0663219</td><td> 0.997798279</td><td>  -0.06646824</td></tr>\n",
       "</tbody>\n",
       "</table>\n"
      ],
      "text/latex": [
       "A matrix: 126 × 3 of type dbl\n",
       "\\begin{tabular}{lll}\n",
       " ysin & ycos & ytan\\\\\n",
       "\\hline\n",
       "\t 2.449213e-16 &  1.00000000 &  2.449294e-16\\\\\n",
       "\t 9.983342e-02 &  0.99500417 &  1.003347e-01\\\\\n",
       "\t 1.986693e-01 &  0.98006658 &  2.027100e-01\\\\\n",
       "\t 2.955202e-01 &  0.95533649 &  3.093362e-01\\\\\n",
       "\t 3.894183e-01 &  0.92106099 &  4.227932e-01\\\\\n",
       "\t 4.794255e-01 &  0.87758256 &  5.463025e-01\\\\\n",
       "\t 5.646425e-01 &  0.82533561 &  6.841368e-01\\\\\n",
       "\t 6.442177e-01 &  0.76484219 &  8.422884e-01\\\\\n",
       "\t 7.173561e-01 &  0.69670671 &  1.029639e+00\\\\\n",
       "\t 7.833269e-01 &  0.62160997 &  1.260158e+00\\\\\n",
       "\t 8.414710e-01 &  0.54030231 &  1.557408e+00\\\\\n",
       "\t 8.912074e-01 &  0.45359612 &  1.964760e+00\\\\\n",
       "\t 9.320391e-01 &  0.36235775 &  2.572152e+00\\\\\n",
       "\t 9.635582e-01 &  0.26749883 &  3.602102e+00\\\\\n",
       "\t 9.854497e-01 &  0.16996714 &  5.797884e+00\\\\\n",
       "\t 9.974950e-01 &  0.07073720 &  1.410142e+01\\\\\n",
       "\t 9.995736e-01 & -0.02919952 & -3.423253e+01\\\\\n",
       "\t 9.916648e-01 & -0.12884449 & -7.696602e+00\\\\\n",
       "\t 9.738476e-01 & -0.22720209 & -4.286262e+00\\\\\n",
       "\t 9.463001e-01 & -0.32328957 & -2.927098e+00\\\\\n",
       "\t 9.092974e-01 & -0.41614684 & -2.185040e+00\\\\\n",
       "\t 8.632094e-01 & -0.50484610 & -1.709847e+00\\\\\n",
       "\t 8.084964e-01 & -0.58850112 & -1.373823e+00\\\\\n",
       "\t 7.457052e-01 & -0.66627602 & -1.119214e+00\\\\\n",
       "\t 6.754632e-01 & -0.73739372 & -9.160143e-01\\\\\n",
       "\t 5.984721e-01 & -0.80114362 & -7.470223e-01\\\\\n",
       "\t 5.155014e-01 & -0.85688875 & -6.015966e-01\\\\\n",
       "\t 4.273799e-01 & -0.90407214 & -4.727276e-01\\\\\n",
       "\t 3.349882e-01 & -0.94222234 & -3.555298e-01\\\\\n",
       "\t 2.392493e-01 & -0.97095817 & -2.464054e-01\\\\\n",
       "\t ⋮ & ⋮ & ⋮\\\\\n",
       "\t -0.1743268 & -0.984687856 &    0.17703761\\\\\n",
       "\t -0.2717606 & -0.962364880 &    0.28238835\\\\\n",
       "\t -0.3664791 & -0.930426272 &    0.39388304\\\\\n",
       "\t -0.4575359 & -0.889191153 &    0.51455291\\\\\n",
       "\t -0.5440211 & -0.839071529 &    0.64836083\\\\\n",
       "\t -0.6250706 & -0.780568180 &    0.80078930\\\\\n",
       "\t -0.6998747 & -0.714265652 &    0.97985208\\\\\n",
       "\t -0.7676858 & -0.640826418 &    1.19796218\\\\\n",
       "\t -0.8278265 & -0.560984257 &    1.47566791\\\\\n",
       "\t -0.8796958 & -0.475536928 &    1.84989999\\\\\n",
       "\t -0.9227754 & -0.385338191 &    2.39471572\\\\\n",
       "\t -0.9566350 & -0.291289282 &    3.28414081\\\\\n",
       "\t -0.9809362 & -0.194329906 &    5.04778831\\\\\n",
       "\t -0.9954363 & -0.095428851 &   10.43118766\\\\\n",
       "\t -0.9999902 &  0.004425698 & -225.95084645\\\\\n",
       "\t -0.9945526 &  0.104236027 &   -9.54135166\\\\\n",
       "\t -0.9791777 &  0.203004864 &   -4.82342004\\\\\n",
       "\t -0.9540192 &  0.299745343 &   -3.18276588\\\\\n",
       "\t -0.9193285 &  0.393490866 &   -2.33634019\\\\\n",
       "\t -0.8754522 &  0.483304759 &   -1.81138745\\\\\n",
       "\t -0.8228286 &  0.568289630 &   -1.44790359\\\\\n",
       "\t -0.7619836 &  0.647596339 &   -1.17663356\\\\\n",
       "\t -0.6935251 &  0.720432479 &   -0.96265105\\\\\n",
       "\t -0.6181371 &  0.786070296 &   -0.78636366\\\\\n",
       "\t -0.5365729 &  0.843853959 &   -0.63585993\\\\\n",
       "\t -0.4496475 &  0.893206112 &   -0.50340841\\\\\n",
       "\t -0.3582293 &  0.933633644 &   -0.38369363\\\\\n",
       "\t -0.2632318 &  0.964732618 &   -0.27285466\\\\\n",
       "\t -0.1656042 &  0.986192302 &   -0.16792280\\\\\n",
       "\t -0.0663219 &  0.997798279 &   -0.06646824\\\\\n",
       "\\end{tabular}\n"
      ],
      "text/markdown": [
       "\n",
       "A matrix: 126 × 3 of type dbl\n",
       "\n",
       "| ysin | ycos | ytan |\n",
       "|---|---|---|\n",
       "| 2.449213e-16 |  1.00000000 |  2.449294e-16 |\n",
       "| 9.983342e-02 |  0.99500417 |  1.003347e-01 |\n",
       "| 1.986693e-01 |  0.98006658 |  2.027100e-01 |\n",
       "| 2.955202e-01 |  0.95533649 |  3.093362e-01 |\n",
       "| 3.894183e-01 |  0.92106099 |  4.227932e-01 |\n",
       "| 4.794255e-01 |  0.87758256 |  5.463025e-01 |\n",
       "| 5.646425e-01 |  0.82533561 |  6.841368e-01 |\n",
       "| 6.442177e-01 |  0.76484219 |  8.422884e-01 |\n",
       "| 7.173561e-01 |  0.69670671 |  1.029639e+00 |\n",
       "| 7.833269e-01 |  0.62160997 |  1.260158e+00 |\n",
       "| 8.414710e-01 |  0.54030231 |  1.557408e+00 |\n",
       "| 8.912074e-01 |  0.45359612 |  1.964760e+00 |\n",
       "| 9.320391e-01 |  0.36235775 |  2.572152e+00 |\n",
       "| 9.635582e-01 |  0.26749883 |  3.602102e+00 |\n",
       "| 9.854497e-01 |  0.16996714 |  5.797884e+00 |\n",
       "| 9.974950e-01 |  0.07073720 |  1.410142e+01 |\n",
       "| 9.995736e-01 | -0.02919952 | -3.423253e+01 |\n",
       "| 9.916648e-01 | -0.12884449 | -7.696602e+00 |\n",
       "| 9.738476e-01 | -0.22720209 | -4.286262e+00 |\n",
       "| 9.463001e-01 | -0.32328957 | -2.927098e+00 |\n",
       "| 9.092974e-01 | -0.41614684 | -2.185040e+00 |\n",
       "| 8.632094e-01 | -0.50484610 | -1.709847e+00 |\n",
       "| 8.084964e-01 | -0.58850112 | -1.373823e+00 |\n",
       "| 7.457052e-01 | -0.66627602 | -1.119214e+00 |\n",
       "| 6.754632e-01 | -0.73739372 | -9.160143e-01 |\n",
       "| 5.984721e-01 | -0.80114362 | -7.470223e-01 |\n",
       "| 5.155014e-01 | -0.85688875 | -6.015966e-01 |\n",
       "| 4.273799e-01 | -0.90407214 | -4.727276e-01 |\n",
       "| 3.349882e-01 | -0.94222234 | -3.555298e-01 |\n",
       "| 2.392493e-01 | -0.97095817 | -2.464054e-01 |\n",
       "| ⋮ | ⋮ | ⋮ |\n",
       "| -0.1743268 | -0.984687856 |    0.17703761 |\n",
       "| -0.2717606 | -0.962364880 |    0.28238835 |\n",
       "| -0.3664791 | -0.930426272 |    0.39388304 |\n",
       "| -0.4575359 | -0.889191153 |    0.51455291 |\n",
       "| -0.5440211 | -0.839071529 |    0.64836083 |\n",
       "| -0.6250706 | -0.780568180 |    0.80078930 |\n",
       "| -0.6998747 | -0.714265652 |    0.97985208 |\n",
       "| -0.7676858 | -0.640826418 |    1.19796218 |\n",
       "| -0.8278265 | -0.560984257 |    1.47566791 |\n",
       "| -0.8796958 | -0.475536928 |    1.84989999 |\n",
       "| -0.9227754 | -0.385338191 |    2.39471572 |\n",
       "| -0.9566350 | -0.291289282 |    3.28414081 |\n",
       "| -0.9809362 | -0.194329906 |    5.04778831 |\n",
       "| -0.9954363 | -0.095428851 |   10.43118766 |\n",
       "| -0.9999902 |  0.004425698 | -225.95084645 |\n",
       "| -0.9945526 |  0.104236027 |   -9.54135166 |\n",
       "| -0.9791777 |  0.203004864 |   -4.82342004 |\n",
       "| -0.9540192 |  0.299745343 |   -3.18276588 |\n",
       "| -0.9193285 |  0.393490866 |   -2.33634019 |\n",
       "| -0.8754522 |  0.483304759 |   -1.81138745 |\n",
       "| -0.8228286 |  0.568289630 |   -1.44790359 |\n",
       "| -0.7619836 |  0.647596339 |   -1.17663356 |\n",
       "| -0.6935251 |  0.720432479 |   -0.96265105 |\n",
       "| -0.6181371 |  0.786070296 |   -0.78636366 |\n",
       "| -0.5365729 |  0.843853959 |   -0.63585993 |\n",
       "| -0.4496475 |  0.893206112 |   -0.50340841 |\n",
       "| -0.3582293 |  0.933633644 |   -0.38369363 |\n",
       "| -0.2632318 |  0.964732618 |   -0.27285466 |\n",
       "| -0.1656042 |  0.986192302 |   -0.16792280 |\n",
       "| -0.0663219 |  0.997798279 |   -0.06646824 |\n",
       "\n"
      ],
      "text/plain": [
       "      ysin         ycos         ytan         \n",
       " [1,] 2.449213e-16  1.00000000   2.449294e-16\n",
       " [2,] 9.983342e-02  0.99500417   1.003347e-01\n",
       " [3,] 1.986693e-01  0.98006658   2.027100e-01\n",
       " [4,] 2.955202e-01  0.95533649   3.093362e-01\n",
       " [5,] 3.894183e-01  0.92106099   4.227932e-01\n",
       " [6,] 4.794255e-01  0.87758256   5.463025e-01\n",
       " [7,] 5.646425e-01  0.82533561   6.841368e-01\n",
       " [8,] 6.442177e-01  0.76484219   8.422884e-01\n",
       " [9,] 7.173561e-01  0.69670671   1.029639e+00\n",
       "[10,] 7.833269e-01  0.62160997   1.260158e+00\n",
       "[11,] 8.414710e-01  0.54030231   1.557408e+00\n",
       "[12,] 8.912074e-01  0.45359612   1.964760e+00\n",
       "[13,] 9.320391e-01  0.36235775   2.572152e+00\n",
       "[14,] 9.635582e-01  0.26749883   3.602102e+00\n",
       "[15,] 9.854497e-01  0.16996714   5.797884e+00\n",
       "[16,] 9.974950e-01  0.07073720   1.410142e+01\n",
       "[17,] 9.995736e-01 -0.02919952  -3.423253e+01\n",
       "[18,] 9.916648e-01 -0.12884449  -7.696602e+00\n",
       "[19,] 9.738476e-01 -0.22720209  -4.286262e+00\n",
       "[20,] 9.463001e-01 -0.32328957  -2.927098e+00\n",
       "[21,] 9.092974e-01 -0.41614684  -2.185040e+00\n",
       "[22,] 8.632094e-01 -0.50484610  -1.709847e+00\n",
       "[23,] 8.084964e-01 -0.58850112  -1.373823e+00\n",
       "[24,] 7.457052e-01 -0.66627602  -1.119214e+00\n",
       "[25,] 6.754632e-01 -0.73739372  -9.160143e-01\n",
       "[26,] 5.984721e-01 -0.80114362  -7.470223e-01\n",
       "[27,] 5.155014e-01 -0.85688875  -6.015966e-01\n",
       "[28,] 4.273799e-01 -0.90407214  -4.727276e-01\n",
       "[29,] 3.349882e-01 -0.94222234  -3.555298e-01\n",
       "[30,] 2.392493e-01 -0.97095817  -2.464054e-01\n",
       "[31,] ⋮            ⋮            ⋮            \n",
       "[32,] -0.1743268   -0.984687856    0.17703761\n",
       "[33,] -0.2717606   -0.962364880    0.28238835\n",
       "[34,] -0.3664791   -0.930426272    0.39388304\n",
       "[35,] -0.4575359   -0.889191153    0.51455291\n",
       "[36,] -0.5440211   -0.839071529    0.64836083\n",
       "[37,] -0.6250706   -0.780568180    0.80078930\n",
       "[38,] -0.6998747   -0.714265652    0.97985208\n",
       "[39,] -0.7676858   -0.640826418    1.19796218\n",
       "[40,] -0.8278265   -0.560984257    1.47566791\n",
       "[41,] -0.8796958   -0.475536928    1.84989999\n",
       "[42,] -0.9227754   -0.385338191    2.39471572\n",
       "[43,] -0.9566350   -0.291289282    3.28414081\n",
       "[44,] -0.9809362   -0.194329906    5.04778831\n",
       "[45,] -0.9954363   -0.095428851   10.43118766\n",
       "[46,] -0.9999902    0.004425698 -225.95084645\n",
       "[47,] -0.9945526    0.104236027   -9.54135166\n",
       "[48,] -0.9791777    0.203004864   -4.82342004\n",
       "[49,] -0.9540192    0.299745343   -3.18276588\n",
       "[50,] -0.9193285    0.393490866   -2.33634019\n",
       "[51,] -0.8754522    0.483304759   -1.81138745\n",
       "[52,] -0.8228286    0.568289630   -1.44790359\n",
       "[53,] -0.7619836    0.647596339   -1.17663356\n",
       "[54,] -0.6935251    0.720432479   -0.96265105\n",
       "[55,] -0.6181371    0.786070296   -0.78636366\n",
       "[56,] -0.5365729    0.843853959   -0.63585993\n",
       "[57,] -0.4496475    0.893206112   -0.50340841\n",
       "[58,] -0.3582293    0.933633644   -0.38369363\n",
       "[59,] -0.2632318    0.964732618   -0.27285466\n",
       "[60,] -0.1656042    0.986192302   -0.16792280\n",
       "[61,] -0.0663219    0.997798279   -0.06646824"
      ]
     },
     "metadata": {},
     "output_type": "display_data"
    }
   ],
   "source": [
    "ytotal"
   ]
  },
  {
   "cell_type": "code",
   "execution_count": 70,
   "id": "86326422",
   "metadata": {},
   "outputs": [
    {
     "data": {
      "image/png": "[encoded data removed]",
      "text/plain": [
       "plot without title"
      ]
     },
     "metadata": {
      "image/png": {
       "height": 420,
       "width": 420
      }
     },
     "output_type": "display_data"
    }
   ],
   "source": [
    "matplot(x, ytotal, type='l', ylim=c(-2,2))"
   ]
  },
  {
   "cell_type": "code",
   "execution_count": 71,
   "id": "aa8691eb",
   "metadata": {},
   "outputs": [],
   "source": [
    "x = seq(-2, 2, 0.1)"
   ]
  },
  {
   "cell_type": "code",
   "execution_count": 72,
   "id": "537ed9a6",
   "metadata": {},
   "outputs": [],
   "source": [
    "y = log(abs(x))"
   ]
  },
  {
   "cell_type": "code",
   "execution_count": 73,
   "id": "9162e3b9",
   "metadata": {},
   "outputs": [
    {
     "data": {
      "image/png": "[encoded data removed]",
      "text/plain": [
       "plot without title"
      ]
     },
     "metadata": {
      "image/png": {
       "height": 420,
       "width": 420
      }
     },
     "output_type": "display_data"
    }
   ],
   "source": [
    "plot(x, y, type='l')"
   ]
  },
  {
   "cell_type": "code",
   "execution_count": 74,
   "id": "0cffb69a",
   "metadata": {},
   "outputs": [],
   "source": [
    "x = seq(0, 5, 0.1)"
   ]
  },
  {
   "cell_type": "code",
   "execution_count": 75,
   "id": "6f422c2b",
   "metadata": {},
   "outputs": [],
   "source": [
    "y = 1/4 * x * exp(-x^2)"
   ]
  },
  {
   "cell_type": "code",
   "execution_count": 76,
   "id": "5182a200",
   "metadata": {},
   "outputs": [
    {
     "data": {
      "image/png": "[encoded data removed]",
      "text/plain": [
       "plot without title"
      ]
     },
     "metadata": {
      "image/png": {
       "height": 420,
       "width": 420
      }
     },
     "output_type": "display_data"
    }
   ],
   "source": [
    "plot(x, y, type='l')"
   ]
  },
  {
   "cell_type": "code",
   "execution_count": 77,
   "id": "a8e0f44f",
   "metadata": {},
   "outputs": [],
   "source": [
    "y = dbinom(c(0:5), 5, 0.5)\n",
    "x = 0:5"
   ]
  },
  {
   "cell_type": "code",
   "execution_count": 78,
   "id": "4cac8fae",
   "metadata": {},
   "outputs": [
    {
     "data": {
      "text/html": [
       "<style>\n",
       ".list-inline {list-style: none; margin:0; padding: 0}\n",
       ".list-inline>li {display: inline-block}\n",
       ".list-inline>li:not(:last-child)::after {content: \"\\00b7\"; padding: 0 .5ex}\n",
       "</style>\n",
       "<ol class=list-inline><li>0</li><li>1</li><li>2</li><li>3</li><li>4</li><li>5</li></ol>\n"
      ],
      "text/latex": [
       "\\begin{enumerate*}\n",
       "\\item 0\n",
       "\\item 1\n",
       "\\item 2\n",
       "\\item 3\n",
       "\\item 4\n",
       "\\item 5\n",
       "\\end{enumerate*}\n"
      ],
      "text/markdown": [
       "1. 0\n",
       "2. 1\n",
       "3. 2\n",
       "4. 3\n",
       "5. 4\n",
       "6. 5\n",
       "\n",
       "\n"
      ],
      "text/plain": [
       "[1] 0 1 2 3 4 5"
      ]
     },
     "metadata": {},
     "output_type": "display_data"
    }
   ],
   "source": [
    "x"
   ]
  },
  {
   "cell_type": "code",
   "execution_count": 79,
   "id": "1670b5af",
   "metadata": {},
   "outputs": [
    {
     "data": {
      "image/png": "[encoded data removed]",
      "text/plain": [
       "plot without title"
      ]
     },
     "metadata": {
      "image/png": {
       "height": 420,
       "width": 420
      }
     },
     "output_type": "display_data"
    }
   ],
   "source": [
    "plot(x, y, type='h', lwd=10)"
   ]
  },
  {
   "cell_type": "code",
   "execution_count": 80,
   "id": "7763ab29",
   "metadata": {},
   "outputs": [],
   "source": [
    "a.blood = c(90,99,102,97,102,95,87,90,89,109)\n",
    "b.blood = c(88,78,99,88,91,99,108,110,77,99)"
   ]
  },
  {
   "cell_type": "code",
   "execution_count": 81,
   "id": "1f75a224",
   "metadata": {},
   "outputs": [],
   "source": [
    "h1 = 1:10\n",
    "h2 = 1:10"
   ]
  },
  {
   "cell_type": "code",
   "execution_count": 82,
   "id": "f7741273",
   "metadata": {},
   "outputs": [],
   "source": [
    "h = rbind(h1, h2)"
   ]
  },
  {
   "cell_type": "code",
   "execution_count": 83,
   "id": "f21bb24a",
   "metadata": {},
   "outputs": [
    {
     "data": {
      "text/html": [
       "<table class=\"dataframe\">\n",
       "<caption>A matrix: 2 × 10 of type int</caption>\n",
       "<tbody>\n",
       "\t<tr><th scope=row>h1</th><td>1</td><td>2</td><td>3</td><td>4</td><td>5</td><td>6</td><td>7</td><td>8</td><td>9</td><td>10</td></tr>\n",
       "\t<tr><th scope=row>h2</th><td>1</td><td>2</td><td>3</td><td>4</td><td>5</td><td>6</td><td>7</td><td>8</td><td>9</td><td>10</td></tr>\n",
       "</tbody>\n",
       "</table>\n"
      ],
      "text/latex": [
       "A matrix: 2 × 10 of type int\n",
       "\\begin{tabular}{r|llllllllll}\n",
       "\th1 & 1 & 2 & 3 & 4 & 5 & 6 & 7 & 8 & 9 & 10\\\\\n",
       "\th2 & 1 & 2 & 3 & 4 & 5 & 6 & 7 & 8 & 9 & 10\\\\\n",
       "\\end{tabular}\n"
      ],
      "text/markdown": [
       "\n",
       "A matrix: 2 × 10 of type int\n",
       "\n",
       "| h1 | 1 | 2 | 3 | 4 | 5 | 6 | 7 | 8 | 9 | 10 |\n",
       "| h2 | 1 | 2 | 3 | 4 | 5 | 6 | 7 | 8 | 9 | 10 |\n",
       "\n"
      ],
      "text/plain": [
       "   [,1] [,2] [,3] [,4] [,5] [,6] [,7] [,8] [,9] [,10]\n",
       "h1 1    2    3    4    5    6    7    8    9    10   \n",
       "h2 1    2    3    4    5    6    7    8    9    10   "
      ]
     },
     "metadata": {},
     "output_type": "display_data"
    }
   ],
   "source": [
    "h"
   ]
  },
  {
   "cell_type": "code",
   "execution_count": 84,
   "id": "2899e40f",
   "metadata": {},
   "outputs": [],
   "source": [
    "blood = rbind(a.blood, b.blood)"
   ]
  },
  {
   "cell_type": "code",
   "execution_count": 85,
   "id": "54cd2522",
   "metadata": {},
   "outputs": [
    {
     "data": {
      "text/html": [
       "<table class=\"dataframe\">\n",
       "<caption>A matrix: 2 × 10 of type dbl</caption>\n",
       "<tbody>\n",
       "\t<tr><th scope=row>a.blood</th><td>90</td><td>99</td><td>102</td><td>97</td><td>102</td><td>95</td><td> 87</td><td> 90</td><td>89</td><td>109</td></tr>\n",
       "\t<tr><th scope=row>b.blood</th><td>88</td><td>78</td><td> 99</td><td>88</td><td> 91</td><td>99</td><td>108</td><td>110</td><td>77</td><td> 99</td></tr>\n",
       "</tbody>\n",
       "</table>\n"
      ],
      "text/latex": [
       "A matrix: 2 × 10 of type dbl\n",
       "\\begin{tabular}{r|llllllllll}\n",
       "\ta.blood & 90 & 99 & 102 & 97 & 102 & 95 &  87 &  90 & 89 & 109\\\\\n",
       "\tb.blood & 88 & 78 &  99 & 88 &  91 & 99 & 108 & 110 & 77 &  99\\\\\n",
       "\\end{tabular}\n"
      ],
      "text/markdown": [
       "\n",
       "A matrix: 2 × 10 of type dbl\n",
       "\n",
       "| a.blood | 90 | 99 | 102 | 97 | 102 | 95 |  87 |  90 | 89 | 109 |\n",
       "| b.blood | 88 | 78 |  99 | 88 |  91 | 99 | 108 | 110 | 77 |  99 |\n",
       "\n"
      ],
      "text/plain": [
       "        [,1] [,2] [,3] [,4] [,5] [,6] [,7] [,8] [,9] [,10]\n",
       "a.blood 90   99   102  97   102  95    87   90  89   109  \n",
       "b.blood 88   78    99  88    91  99   108  110  77    99  "
      ]
     },
     "metadata": {},
     "output_type": "display_data"
    }
   ],
   "source": [
    "blood"
   ]
  },
  {
   "cell_type": "code",
   "execution_count": 88,
   "id": "038c16d5",
   "metadata": {},
   "outputs": [
    {
     "data": {
      "image/png": "[encoded data removed]",
      "text/plain": [
       "plot without title"
      ]
     },
     "metadata": {
      "image/png": {
       "height": 420,
       "width": 420
      }
     },
     "output_type": "display_data"
    }
   ],
   "source": [
    "plot(blood~h, col=c('pink','blue'), type='o')"
   ]
  },
  {
   "cell_type": "code",
   "execution_count": 89,
   "id": "daaf4949",
   "metadata": {},
   "outputs": [
    {
     "data": {
      "image/png": "[encoded data removed]",
      "text/plain": [
       "plot without title"
      ]
     },
     "metadata": {
      "image/png": {
       "height": 420,
       "width": 420
      }
     },
     "output_type": "display_data"
    }
   ],
   "source": [
    "plot(blood~h, col=c('pink','blue'))"
   ]
  },
  {
   "cell_type": "code",
   "execution_count": 90,
   "id": "5ff732d6",
   "metadata": {},
   "outputs": [
    {
     "name": "stderr",
     "output_type": "stream",
     "text": [
      "Installing package into 'C:/Users/starl/AppData/Local/R/win-library/4.3'\n",
      "(as 'lib' is unspecified)\n",
      "\n"
     ]
    },
    {
     "name": "stdout",
     "output_type": "stream",
     "text": [
      "package 'rgl' successfully unpacked and MD5 sums checked\n",
      "\n",
      "The downloaded binary packages are in\n",
      "\tC:\\Users\\starl\\AppData\\Local\\Temp\\RtmpOmxavt\\downloaded_packages\n"
     ]
    }
   ],
   "source": [
    "install.packages('rgl')"
   ]
  },
  {
   "cell_type": "code",
   "execution_count": 91,
   "id": "9e6c5d1a",
   "metadata": {},
   "outputs": [
    {
     "name": "stderr",
     "output_type": "stream",
     "text": [
      "Warning message:\n",
      "\"package 'rgl' was built under R version 4.3.2\"\n"
     ]
    }
   ],
   "source": [
    "library(rgl)"
   ]
  },
  {
   "cell_type": "code",
   "execution_count": 92,
   "id": "2cc9d510",
   "metadata": {},
   "outputs": [],
   "source": [
    "plot3d(mtcars$mpg, mtcars$hp, mtcars$drat)"
   ]
  },
  {
   "cell_type": "code",
   "execution_count": 1,
   "id": "72862553",
   "metadata": {},
   "outputs": [],
   "source": [
    "a = 100"
   ]
  },
  {
   "cell_type": "code",
   "execution_count": 2,
   "id": "b38c98eb",
   "metadata": {},
   "outputs": [
    {
     "data": {
      "text/html": [
       "100"
      ],
      "text/latex": [
       "100"
      ],
      "text/markdown": [
       "100"
      ],
      "text/plain": [
       "[1] 100"
      ]
     },
     "metadata": {},
     "output_type": "display_data"
    }
   ],
   "source": [
    "a"
   ]
  }
 ],
 "metadata": {
  "kernelspec": {
   "display_name": "R",
   "language": "R",
   "name": "ir"
  },
  "language_info": {
   "codemirror_mode": "r",
   "file_extension": ".r",
   "mimetype": "text/x-r-source",
   "name": "R",
   "pygments_lexer": "r",
   "version": "4.3.1"
  }
 },
 "nbformat": 4,
 "nbformat_minor": 5
}
